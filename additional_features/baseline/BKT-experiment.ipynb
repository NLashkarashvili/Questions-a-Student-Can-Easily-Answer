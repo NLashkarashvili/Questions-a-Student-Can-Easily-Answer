{
  "nbformat": 4,
  "nbformat_minor": 0,
  "metadata": {
    "kernelspec": {
      "display_name": "Python 3",
      "language": "python",
      "name": "python3"
    },
    "language_info": {
      "codemirror_mode": {
        "name": "ipython",
        "version": 3
      },
      "file_extension": ".py",
      "mimetype": "text/x-python",
      "name": "python",
      "nbconvert_exporter": "python",
      "pygments_lexer": "ipython3",
      "version": "3.8.0"
    },
    "colab": {
      "name": "BKT-experiment.ipynb",
      "provenance": [],
      "collapsed_sections": []
    }
  },
  "cells": [
    {
      "cell_type": "code",
      "metadata": {
        "id": "JKI-xvgOd_7P",
        "outputId": "d8b01659-a40f-4955-a3f9-596984017b3a"
      },
      "source": [
        "import numpy as np\n",
        "import pandas as pd\n",
        "# build the sequence data\n",
        "original_data = pd.read_csv('Practice_Log_Demographics.csv')"
      ],
      "execution_count": null,
      "outputs": [
        {
          "output_type": "stream",
          "text": [
            "c:\\users\\26981\\appdata\\local\\programs\\python\\python38\\lib\\site-packages\\IPython\\core\\interactiveshell.py:3145: DtypeWarning: Columns (36) have mixed types.Specify dtype option on import or set low_memory=False.\n",
            "  has_raised = await self.run_ast_nodes(code_ast.body, cell_name,\n"
          ],
          "name": "stderr"
        }
      ]
    },
    {
      "cell_type": "code",
      "metadata": {
        "id": "zVPaWNOTd_7U"
      },
      "source": [
        "# build the sequence data\n",
        "import datetime\n",
        "user_id_key = list(original_data['user_id.x'].unique())"
      ],
      "execution_count": null,
      "outputs": []
    },
    {
      "cell_type": "code",
      "metadata": {
        "id": "f8fuDvYYd_7V",
        "outputId": "2708b603-e7f5-4dcb-a1b6-9eafd9f66cff"
      },
      "source": [
        "len(user_id_key)"
      ],
      "execution_count": null,
      "outputs": [
        {
          "output_type": "execute_result",
          "data": {
            "text/plain": [
              "327"
            ]
          },
          "metadata": {
            "tags": []
          },
          "execution_count": 5
        }
      ]
    },
    {
      "cell_type": "code",
      "metadata": {
        "id": "cKLySUc4d_7W"
      },
      "source": [
        "import warnings \n",
        "import gc"
      ],
      "execution_count": null,
      "outputs": []
    },
    {
      "cell_type": "code",
      "metadata": {
        "id": "1lEaczgZd_7W"
      },
      "source": [
        "original_data = original_data.sort_values(by = ['start_practice'])"
      ],
      "execution_count": null,
      "outputs": []
    },
    {
      "cell_type": "code",
      "metadata": {
        "id": "m0_C7E8vd_7X"
      },
      "source": [
        "# data preprocessing\n",
        "# according to sub_chapter_label and user_id, generate sequences\n",
        "# generate (chapter,sub_chapter,user_id) sequences according to user_id and term\n",
        "original_data['user_id.x'] = original_data['user_id.x'].astype(int)\n",
        "original_data['user_id.x'] = original_data['user_id.x'].astype(str)\n",
        "original_data['user_id.x'] = original_data['term'].str.cat(original_data['user_id.x'], sep=':')\n",
        "original_data['user_id.x'] = original_data['user_id.x'].astype('category')\n",
        "original_data['term'] = original_data['term'].astype('category')\n",
        "original_data['chapter_label'] = original_data['chapter_label'].astype('category')\n",
        "original_data['sub_chapter_label'] = original_data['sub_chapter_label'].astype('category')"
      ],
      "execution_count": null,
      "outputs": []
    },
    {
      "cell_type": "code",
      "metadata": {
        "id": "c3paSSCId_7X"
      },
      "source": [
        "original_data['start_practice'] = pd.to_datetime(original_data['start_practice'], format = '%Y-%m-%d %H:%M:%S')\n",
        "original_data['end_practice'] = pd.to_datetime(original_data['end_practice'], format = '%Y-%m-%d %H:%M:%S')"
      ],
      "execution_count": null,
      "outputs": []
    },
    {
      "cell_type": "code",
      "metadata": {
        "id": "54f_cpYXd_7Y"
      },
      "source": [
        "original_data['label'] = original_data['chapter_label'].astype(str) + '_' + original_data['sub_chapter_label'].astype(str)"
      ],
      "execution_count": null,
      "outputs": []
    },
    {
      "cell_type": "code",
      "metadata": {
        "id": "acy5Bj77d_7Z"
      },
      "source": [
        "user_id_key = list(original_data['user_id.x'].unique())"
      ],
      "execution_count": null,
      "outputs": []
    },
    {
      "cell_type": "code",
      "metadata": {
        "id": "yeyU6RDbd_7Z",
        "outputId": "ba09b3dd-6664-4a58-932f-401fe0d7d993"
      },
      "source": [
        "len(user_id_key)"
      ],
      "execution_count": null,
      "outputs": [
        {
          "output_type": "execute_result",
          "data": {
            "text/plain": [
              "1110"
            ]
          },
          "metadata": {
            "tags": []
          },
          "execution_count": 13
        }
      ]
    },
    {
      "cell_type": "code",
      "metadata": {
        "id": "bFOU08e4d_7Z"
      },
      "source": [
        "user_record_dict = {}\n",
        "for item in user_id_key:\n",
        "    user_record_dict[item] = {}"
      ],
      "execution_count": null,
      "outputs": []
    },
    {
      "cell_type": "code",
      "metadata": {
        "id": "zS1sArSfd_7a"
      },
      "source": [
        "for index, row in original_data.iterrows():\n",
        "    user_id = row['user_id.x']\n",
        "    if row['label'] not in user_record_dict[user_id].keys():\n",
        "        user_record_dict[user_id][row['label']] = []\n",
        "        user_record_dict[user_id][row['label']].append([row['q'],row['label'],row['start_practice'],row['end_practice']])\n",
        "    else:\n",
        "        user_record_dict[user_id][row['label']].append([row['q'],row['label'],row['start_practice'],row['end_practice']])"
      ],
      "execution_count": null,
      "outputs": []
    },
    {
      "cell_type": "code",
      "metadata": {
        "id": "W1fygSD5d_-q"
      },
      "source": [
        "# construct the record according to students.\n",
        "user_training_set = {}\n",
        "for item in user_id_key:\n",
        "    user_training_set[item] = []\n",
        "    user_record_key = user_record_dict[item].keys()\n",
        "    for mid_item in user_record_key:\n",
        "        mid_sequence = []\n",
        "        for iter_item in user_record_dict[item][mid_item]:\n",
        "            mid_sequence.append(iter_item[5])\n",
        "        user_training_set[item].append(mid_sequence)    "
      ],
      "execution_count": null,
      "outputs": []
    },
    {
      "cell_type": "code",
      "metadata": {
        "id": "qFz-rtEed_-9",
        "outputId": "9e31d786-14ce-4dad-d8f5-6040bbdca0e1"
      },
      "source": [
        "# train the model and record the params according to students\n",
        "import hmmlearn.hmm as hmm\n",
        "\n",
        "states = ['NotUnderstood', 'Understood']\n",
        "obs = [0,1]\n",
        "n_states = len(states)\n",
        "user_model = {}\n",
        "count = 0\n",
        "user_model_params = {}\n",
        "for item in user_id_key:\n",
        "    user_model_params[item] = {}\n",
        "    model = hmm.MultinomialHMM(n_components=n_states)\n",
        "    len_training_set = int(0.8*len(user_training_set[item]))\n",
        "    mid_training_set = user_training_set[item][:len_training_set]\n",
        "    mid_test_set = user_training_set[item][len_training_set:]\n",
        "    all_X = []\n",
        "    length = []\n",
        "    start_probability = 0\n",
        "    for mid_item in mid_training_set:\n",
        "        if mid_item[0] == 0:\n",
        "            start_probability += 1\n",
        "        if len(all_X) == 0:\n",
        "            well_formed_mid_item = []\n",
        "            for iter_item in mid_item:\n",
        "                well_formed_mid_item.append([iter_item])\n",
        "            all_X = well_formed_mid_item\n",
        "            length.append(len(mid_item))\n",
        "        else:\n",
        "            well_formed_mid_item = []\n",
        "            for iter_item in mid_item:\n",
        "                well_formed_mid_item.append([iter_item])\n",
        "            all_X = np.concatenate([all_X, well_formed_mid_item])\n",
        "            length.append(len(mid_item))\n",
        "        #else:\n",
        "        #   all_X = np.concatenate([all_X, mid_item])\n",
        "        #    length.append(len(mid_item))\n",
        "    start_probability = start_probability / len(length)\n",
        "    start_probability = np.array([start_probability, 1-start_probability])\n",
        "    #odel.startprob_ = start_probability\n",
        "    #rint(all_X)\n",
        "    model.fit(all_X, lengths = length)\n",
        "    user_model_params[item][\"startprob_\"] = model.startprob_\n",
        "    user_model_params[item][\"transmat_\"] = model.transmat_\n",
        "    user_model_params[item][\"emissionprob_\"] = model.emissionprob_\n",
        "    user_model_params[item][\"test_set\"] = mid_test_set\n",
        "    #rint(model.startprob_)\n",
        "    #rint(model.transmat_)\n",
        "    #rint(model.emissionprob_)"
      ],
      "execution_count": null,
      "outputs": [
        {
          "output_type": "stream",
          "text": [
            "Some rows of transmat_ have zero sum because no transition from the state was ever observed.\n",
            "Fitting a model with 5 free scalar parameters with only 1 data points will result in a degenerate solution.\n",
            "Some rows of transmat_ have zero sum because no transition from the state was ever observed.\n"
          ],
          "name": "stderr"
        }
      ]
    },
    {
      "cell_type": "code",
      "metadata": {
        "id": "5cHK9M1Zd_-_"
      },
      "source": [
        "# predict and calculate auc and acc\n",
        "all_count = 0\n",
        "prob = []\n",
        "tag = []\n",
        "for item in user_id_key:\n",
        "    mid_test_set = user_model_params[item][\"test_set\"]\n",
        "    model = hmm.MultinomialHMM(n_components=n_states)\n",
        "    model.startprob_ = user_model_params[item][\"startprob_\"]\n",
        "    model.transmat_ = user_model_params[item][\"transmat_\"]\n",
        "    model.emissionprob_ = user_model_params[item][\"emissionprob_\"]\n",
        "    for mid_item in user_model_params[item][\"test_set\"]:\n",
        "        count = 0\n",
        "        mid_prob = 0\n",
        "        while count < len(mid_item):\n",
        "            #print(int(mid_item[count]))\n",
        "            if count == 0:\n",
        "                mid_prob = model.startprob_[0]\n",
        "            #print(mid_prob)\n",
        "            #print(mid_item[count])\n",
        "            #print(model.startprob_)\n",
        "                mid_tag = 0\n",
        "                if mid_prob > 0.5:\n",
        "                    mid_tag = 0\n",
        "                else:\n",
        "                    mid_tag = 1\n",
        "                    mid_prob = 1 - mid_prob\n",
        "                if mid_tag == mid_item[count]:\n",
        "                    mid_tag = 1\n",
        "                else:\n",
        "                    mid_tag = 0\n",
        "                prob.append(mid_prob)\n",
        "                tag.append(mid_tag)\n",
        "            else:\n",
        "                #rint(count)\n",
        "                #rint(mid_item[:count])\n",
        "                mid_mid_item = mid_item[:count]\n",
        "                well_formed_mid_item = []\n",
        "                for iter_item in mid_mid_item:\n",
        "                    well_formed_mid_item.append([iter_item])\n",
        "                state_sequence = model.predict(well_formed_mid_item)\n",
        "                mid_prob = model.transmat_[state_sequence[-1], :]\n",
        "                mid_prob = mid_prob.dot(model.emissionprob_)\n",
        "                mid_prob = mid_prob[0]\n",
        "                mid_tag = 0\n",
        "                if mid_prob > 0.5:\n",
        "                    mid_tag = 0\n",
        "                else:\n",
        "                    mid_tag = 1\n",
        "                    mid_prob = 1 - mid_prob\n",
        "                if mid_tag == mid_item[count]:\n",
        "                    mid_tag = 1\n",
        "                else:\n",
        "                    mid_tag = 0\n",
        "                prob.append(mid_prob)\n",
        "                tag.append(mid_tag)\n",
        "            count += 1\n",
        "            all_count += 1"
      ],
      "execution_count": null,
      "outputs": []
    },
    {
      "cell_type": "code",
      "metadata": {
        "id": "M1pnOCitd__A"
      },
      "source": [
        "#f = list(zip(prob,tag))\n",
        "#print(f)"
      ],
      "execution_count": null,
      "outputs": []
    },
    {
      "cell_type": "code",
      "metadata": {
        "id": "QZWC0bNXd__A",
        "outputId": "7fe499fc-7d0a-453e-c57b-12b3103b4846"
      },
      "source": [
        "# calculate acc\n",
        "sum(tag) / len(tag)"
      ],
      "execution_count": null,
      "outputs": [
        {
          "output_type": "execute_result",
          "data": {
            "text/plain": [
              "0.6500930747025656"
            ]
          },
          "metadata": {
            "tags": []
          },
          "execution_count": 117
        }
      ]
    },
    {
      "cell_type": "code",
      "metadata": {
        "id": "-_eKZ-1pd__B",
        "outputId": "901a084d-81e4-4720-ad23-b4c97bbde9f2"
      },
      "source": [
        "type(model.transmat_[state_sequence[-1], :])"
      ],
      "execution_count": null,
      "outputs": [
        {
          "output_type": "execute_result",
          "data": {
            "text/plain": [
              "numpy.ndarray"
            ]
          },
          "metadata": {
            "tags": []
          },
          "execution_count": 91
        }
      ]
    },
    {
      "cell_type": "code",
      "metadata": {
        "id": "ZRWAgiB1d__B",
        "outputId": "f46de8c7-51b1-417f-f78a-98494db78c78"
      },
      "source": [
        "# calculate auc\n",
        "def calAUC(prob,labels):\n",
        "    f = list(zip(prob,labels))\n",
        "    rank = [values2 for values1,values2 in sorted(f,key=lambda x:x[0])]\n",
        "    values = [values1 for values1,values2 in sorted(f,key=lambda x:x[0])]\n",
        "    rankList = [i+1 for i in range(len(rank)) if rank[i]==1]\n",
        "    posNum = 0\n",
        "    negNum = 0\n",
        "    for i in range(len(labels)):\n",
        "        if(labels[i]==1):\n",
        "            posNum+=1\n",
        "        else:\n",
        "            negNum+=1\n",
        "    auc = 0\n",
        "    auc = (sum(rankList)- (posNum*(posNum+1))/2)/(posNum*negNum)\n",
        "    return auc\n",
        "\n",
        "auc = calAUC(prob, tag)\n",
        "print(auc)"
      ],
      "execution_count": null,
      "outputs": [
        {
          "output_type": "stream",
          "text": [
            "0.656455447558408\n"
          ],
          "name": "stdout"
        }
      ]
    },
    {
      "cell_type": "code",
      "metadata": {
        "id": "4I4sXoAJd__C"
      },
      "source": [
        ""
      ],
      "execution_count": null,
      "outputs": []
    }
  ]
}