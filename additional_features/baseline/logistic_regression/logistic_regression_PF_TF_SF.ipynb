{
 "cells": [
  {
   "cell_type": "code",
   "execution_count": 1,
   "metadata": {
    "execution": {
     "iopub.execute_input": "2021-08-08T13:38:14.139256Z",
     "iopub.status.busy": "2021-08-08T13:38:14.137485Z",
     "iopub.status.idle": "2021-08-08T13:38:21.394088Z",
     "shell.execute_reply": "2021-08-08T13:38:21.393291Z",
     "shell.execute_reply.started": "2021-08-06T21:05:15.103244Z"
    },
    "id": "farifxiKU1aB",
    "papermill": {
     "duration": 7.291783,
     "end_time": "2021-08-08T13:38:21.394293",
     "exception": false,
     "start_time": "2021-08-08T13:38:14.102510",
     "status": "completed"
    },
    "tags": []
   },
   "outputs": [],
   "source": [
    "import numpy as np\n",
    "import pandas as pd\n",
    "import warnings\n",
    "import gc\n",
    "import tensorflow as tf\n",
    "from tensorflow import keras\n",
    "\n",
    "import random\n",
    "from random import choice\n",
    "from tensorflow.keras.optimizers import Adam\n",
    "from tensorflow.keras.models import Sequential \n",
    "from tensorflow.keras.layers import Dense, GRU, Concatenate, Embedding, Flatten, Activation, Dropout\n",
    "from sklearn.model_selection import KFold\n",
    "from tensorflow.python.client import device_lib\n",
    "warnings.filterwarnings('ignore')\n",
    "import random"
   ]
  },
  {
   "cell_type": "code",
   "execution_count": 2,
   "metadata": {
    "execution": {
     "iopub.execute_input": "2021-08-08T13:38:21.457752Z",
     "iopub.status.busy": "2021-08-08T13:38:21.456898Z",
     "iopub.status.idle": "2021-08-08T13:38:21.459973Z",
     "shell.execute_reply": "2021-08-08T13:38:21.459464Z",
     "shell.execute_reply.started": "2021-08-06T21:05:15.117334Z"
    },
    "id": "QOson70GPOXb",
    "papermill": {
     "duration": 0.036655,
     "end_time": "2021-08-08T13:38:21.460136",
     "exception": false,
     "start_time": "2021-08-08T13:38:21.423481",
     "status": "completed"
    },
    "tags": []
   },
   "outputs": [],
   "source": [
    "import gc"
   ]
  },
  {
   "cell_type": "markdown",
   "metadata": {
    "id": "BQsVybBH3VPw",
    "papermill": {
     "duration": 0.027877,
     "end_time": "2021-08-08T13:38:21.517188",
     "exception": false,
     "start_time": "2021-08-08T13:38:21.489311",
     "status": "completed"
    },
    "tags": []
   },
   "source": [
    "## Data Preprocessing"
   ]
  },
  {
   "cell_type": "code",
   "execution_count": 3,
   "metadata": {
    "execution": {
     "iopub.execute_input": "2021-08-08T13:38:21.581586Z",
     "iopub.status.busy": "2021-08-08T13:38:21.580894Z",
     "iopub.status.idle": "2021-08-08T13:38:29.852199Z",
     "shell.execute_reply": "2021-08-08T13:38:29.851410Z",
     "shell.execute_reply.started": "2021-08-06T21:05:15.141773Z"
    },
    "id": "rwtTusGxrmAE",
    "outputId": "1430f3cf-038b-485e-b5c4-c1686b1f34fd",
    "papermill": {
     "duration": 8.306529,
     "end_time": "2021-08-08T13:38:29.852370",
     "exception": false,
     "start_time": "2021-08-08T13:38:21.545841",
     "status": "completed"
    },
    "tags": []
   },
   "outputs": [
    {
     "data": {
      "text/html": [
       "<div>\n",
       "<style scoped>\n",
       "    .dataframe tbody tr th:only-of-type {\n",
       "        vertical-align: middle;\n",
       "    }\n",
       "\n",
       "    .dataframe tbody tr th {\n",
       "        vertical-align: top;\n",
       "    }\n",
       "\n",
       "    .dataframe thead th {\n",
       "        text-align: right;\n",
       "    }\n",
       "</style>\n",
       "<table border=\"1\" class=\"dataframe\">\n",
       "  <thead>\n",
       "    <tr style=\"text-align: right;\">\n",
       "      <th></th>\n",
       "      <th>Unnamed: 0</th>\n",
       "      <th>chapter_label</th>\n",
       "      <th>sub_chapter_label</th>\n",
       "      <th>question_name</th>\n",
       "      <th>user_id.x</th>\n",
       "      <th>term</th>\n",
       "      <th>STDNT_SEX_CD</th>\n",
       "      <th>NonNativeEnglish</th>\n",
       "      <th>White</th>\n",
       "      <th>Asian</th>\n",
       "      <th>...</th>\n",
       "      <th>classGraded</th>\n",
       "      <th>classHonors</th>\n",
       "      <th>Pass_Fail</th>\n",
       "      <th>parentsGraduateEdu</th>\n",
       "      <th>minorityGroup</th>\n",
       "      <th>q</th>\n",
       "      <th>day's_available_flashcards</th>\n",
       "      <th>start_practice</th>\n",
       "      <th>end_practice</th>\n",
       "      <th>days_offset</th>\n",
       "    </tr>\n",
       "  </thead>\n",
       "  <tbody>\n",
       "    <tr>\n",
       "      <th>0</th>\n",
       "      <td>1</td>\n",
       "      <td>Sort</td>\n",
       "      <td>intro-SortingwithSortandSorted</td>\n",
       "      <td>ee_sort_04</td>\n",
       "      <td>148</td>\n",
       "      <td>WN 2018</td>\n",
       "      <td>1</td>\n",
       "      <td>0</td>\n",
       "      <td>1</td>\n",
       "      <td>0</td>\n",
       "      <td>...</td>\n",
       "      <td>1</td>\n",
       "      <td>0</td>\n",
       "      <td>0</td>\n",
       "      <td>0</td>\n",
       "      <td>0</td>\n",
       "      <td>0</td>\n",
       "      <td>18</td>\n",
       "      <td>2018-03-04 20:00:19</td>\n",
       "      <td>2018-03-04 20:00:35</td>\n",
       "      <td>45</td>\n",
       "    </tr>\n",
       "    <tr>\n",
       "      <th>1</th>\n",
       "      <td>2</td>\n",
       "      <td>Functions</td>\n",
       "      <td>Returningavaluefromafunction</td>\n",
       "      <td>test_questionfunctions_2_3</td>\n",
       "      <td>148</td>\n",
       "      <td>WN 2018</td>\n",
       "      <td>1</td>\n",
       "      <td>0</td>\n",
       "      <td>1</td>\n",
       "      <td>0</td>\n",
       "      <td>...</td>\n",
       "      <td>1</td>\n",
       "      <td>0</td>\n",
       "      <td>0</td>\n",
       "      <td>0</td>\n",
       "      <td>0</td>\n",
       "      <td>4</td>\n",
       "      <td>16</td>\n",
       "      <td>2018-02-10 11:57:55</td>\n",
       "      <td>2018-02-10 11:58:35</td>\n",
       "      <td>23</td>\n",
       "    </tr>\n",
       "    <tr>\n",
       "      <th>2</th>\n",
       "      <td>3</td>\n",
       "      <td>RESTAPIs</td>\n",
       "      <td>functionswithrestapis</td>\n",
       "      <td>test_question_functions_rest_apis_1</td>\n",
       "      <td>148</td>\n",
       "      <td>WN 2018</td>\n",
       "      <td>1</td>\n",
       "      <td>0</td>\n",
       "      <td>1</td>\n",
       "      <td>0</td>\n",
       "      <td>...</td>\n",
       "      <td>1</td>\n",
       "      <td>0</td>\n",
       "      <td>0</td>\n",
       "      <td>0</td>\n",
       "      <td>0</td>\n",
       "      <td>1</td>\n",
       "      <td>2</td>\n",
       "      <td>2018-03-12 17:03:07</td>\n",
       "      <td>2018-03-12 17:04:28</td>\n",
       "      <td>53</td>\n",
       "    </tr>\n",
       "    <tr>\n",
       "      <th>3</th>\n",
       "      <td>4</td>\n",
       "      <td>SimplePythonData</td>\n",
       "      <td>FunctionCalls</td>\n",
       "      <td>exercise_functionCalls_1</td>\n",
       "      <td>148</td>\n",
       "      <td>WN 2018</td>\n",
       "      <td>1</td>\n",
       "      <td>0</td>\n",
       "      <td>1</td>\n",
       "      <td>0</td>\n",
       "      <td>...</td>\n",
       "      <td>1</td>\n",
       "      <td>0</td>\n",
       "      <td>0</td>\n",
       "      <td>0</td>\n",
       "      <td>0</td>\n",
       "      <td>0</td>\n",
       "      <td>10</td>\n",
       "      <td>2018-01-30 14:15:49</td>\n",
       "      <td>2018-01-30 14:15:58</td>\n",
       "      <td>12</td>\n",
       "    </tr>\n",
       "    <tr>\n",
       "      <th>4</th>\n",
       "      <td>5</td>\n",
       "      <td>DictionaryAccumulation</td>\n",
       "      <td>AccumulatingaMaximumValue</td>\n",
       "      <td>ps_04_07</td>\n",
       "      <td>148</td>\n",
       "      <td>WN 2018</td>\n",
       "      <td>1</td>\n",
       "      <td>0</td>\n",
       "      <td>1</td>\n",
       "      <td>0</td>\n",
       "      <td>...</td>\n",
       "      <td>1</td>\n",
       "      <td>0</td>\n",
       "      <td>0</td>\n",
       "      <td>0</td>\n",
       "      <td>0</td>\n",
       "      <td>0</td>\n",
       "      <td>23</td>\n",
       "      <td>2018-03-03 14:04:17</td>\n",
       "      <td>2018-03-03 14:04:25</td>\n",
       "      <td>44</td>\n",
       "    </tr>\n",
       "  </tbody>\n",
       "</table>\n",
       "<p>5 rows × 48 columns</p>\n",
       "</div>"
      ],
      "text/plain": [
       "   Unnamed: 0           chapter_label               sub_chapter_label  \\\n",
       "0           1                    Sort  intro-SortingwithSortandSorted   \n",
       "1           2               Functions    Returningavaluefromafunction   \n",
       "2           3                RESTAPIs           functionswithrestapis   \n",
       "3           4        SimplePythonData                   FunctionCalls   \n",
       "4           5  DictionaryAccumulation       AccumulatingaMaximumValue   \n",
       "\n",
       "                         question_name  user_id.x     term  STDNT_SEX_CD  \\\n",
       "0                           ee_sort_04        148  WN 2018             1   \n",
       "1           test_questionfunctions_2_3        148  WN 2018             1   \n",
       "2  test_question_functions_rest_apis_1        148  WN 2018             1   \n",
       "3             exercise_functionCalls_1        148  WN 2018             1   \n",
       "4                             ps_04_07        148  WN 2018             1   \n",
       "\n",
       "   NonNativeEnglish  White  Asian  ...  classGraded  classHonors  Pass_Fail  \\\n",
       "0                 0      1      0  ...            1            0          0   \n",
       "1                 0      1      0  ...            1            0          0   \n",
       "2                 0      1      0  ...            1            0          0   \n",
       "3                 0      1      0  ...            1            0          0   \n",
       "4                 0      1      0  ...            1            0          0   \n",
       "\n",
       "   parentsGraduateEdu  minorityGroup  q  day's_available_flashcards  \\\n",
       "0                   0              0  0                          18   \n",
       "1                   0              0  4                          16   \n",
       "2                   0              0  1                           2   \n",
       "3                   0              0  0                          10   \n",
       "4                   0              0  0                          23   \n",
       "\n",
       "        start_practice         end_practice  days_offset  \n",
       "0  2018-03-04 20:00:19  2018-03-04 20:00:35           45  \n",
       "1  2018-02-10 11:57:55  2018-02-10 11:58:35           23  \n",
       "2  2018-03-12 17:03:07  2018-03-12 17:04:28           53  \n",
       "3  2018-01-30 14:15:49  2018-01-30 14:15:58           12  \n",
       "4  2018-03-03 14:04:17  2018-03-03 14:04:25           44  \n",
       "\n",
       "[5 rows x 48 columns]"
      ]
     },
     "execution_count": 3,
     "metadata": {},
     "output_type": "execute_result"
    }
   ],
   "source": [
    "# load the data\n",
    "import pandas as pd\n",
    "dataframe = pd.read_csv('../input/practice-log-demographics/Practice_Log_Demographics (1).csv', low_memory=False)\n",
    "dataframe.head()"
   ]
  },
  {
   "cell_type": "code",
   "execution_count": 4,
   "metadata": {
    "execution": {
     "iopub.execute_input": "2021-08-08T13:38:29.916772Z",
     "iopub.status.busy": "2021-08-08T13:38:29.915783Z",
     "iopub.status.idle": "2021-08-08T13:38:32.008088Z",
     "shell.execute_reply": "2021-08-08T13:38:32.007449Z",
     "shell.execute_reply.started": "2021-08-06T21:05:19.576072Z"
    },
    "id": "OCbHnEp_Vir0",
    "papermill": {
     "duration": 2.12532,
     "end_time": "2021-08-08T13:38:32.008288",
     "exception": false,
     "start_time": "2021-08-08T13:38:29.882968",
     "status": "completed"
    },
    "tags": []
   },
   "outputs": [],
   "source": [
    "#sort data based on timestamp\n",
    "dataframe = dataframe.sort_values(by=['start_practice']).reset_index(drop=True)"
   ]
  },
  {
   "cell_type": "code",
   "execution_count": 5,
   "metadata": {
    "execution": {
     "iopub.execute_input": "2021-08-08T13:38:32.076754Z",
     "iopub.status.busy": "2021-08-08T13:38:32.075986Z",
     "iopub.status.idle": "2021-08-08T13:38:32.079271Z",
     "shell.execute_reply": "2021-08-08T13:38:32.078634Z",
     "shell.execute_reply.started": "2021-08-06T21:05:21.039874Z"
    },
    "id": "0RvF7BvEr98o",
    "papermill": {
     "duration": 0.040606,
     "end_time": "2021-08-08T13:38:32.079453",
     "exception": false,
     "start_time": "2021-08-08T13:38:32.038847",
     "status": "completed"
    },
    "tags": []
   },
   "outputs": [],
   "source": [
    "FEATURES = ['chapter_label', 'sub_chapter_label','question_name','user_id','term',\n",
    "            'STDNT_SEX_CD', \n",
    "            'NonNativeEnglish',\n",
    "            'White',\n",
    "            'Asian',\n",
    "            'WhiteOrAsian',\n",
    "            'Hispanic',\n",
    "            'AfricanAmerican',\n",
    "            'OtherEthnicities',\n",
    "            'NonWhiteOrAsian',\n",
    "            'STDNT_CTZN_STAT_CD', 'international', \n",
    "            'gradingType',\n",
    "            'birthYear',\n",
    "            'exclClassCumGPA',\n",
    "            'Freshman',\n",
    "            'Junior',\n",
    "            'Sophomore',\n",
    "            'Senior',\n",
    "            'termCreditsGPA',\n",
    "            'termCreditsNoGPA',\n",
    "            'athlete_1',\n",
    "            'honorsPro',\n",
    "            'LSA', 'programBusiness', 'programEngineering', \n",
    "            'programInformation', 'programOther',\n",
    "            'HSCalculusTaken', \n",
    "            'highSchoolGPA', \n",
    "            'majorsCount', 'minorsCount',\n",
    "            'PREV_TERM_CUM_GPA',\n",
    "            'classGraded', 'classHonors', \n",
    "            'Pass_Fail', \n",
    "            'parentsGraduateEdu',  'minorityGroup', \n",
    "            'q',\n",
    "            'available_flashcards', \n",
    "            'start_practice', \n",
    "            'end_practice',\n",
    "            'days_offset']"
   ]
  },
  {
   "cell_type": "code",
   "execution_count": 6,
   "metadata": {
    "execution": {
     "iopub.execute_input": "2021-08-08T13:38:32.146931Z",
     "iopub.status.busy": "2021-08-08T13:38:32.146098Z",
     "iopub.status.idle": "2021-08-08T13:38:32.950815Z",
     "shell.execute_reply": "2021-08-08T13:38:32.951327Z",
     "shell.execute_reply.started": "2021-08-06T21:05:21.055415Z"
    },
    "id": "Mn341X7lSztl",
    "papermill": {
     "duration": 0.841332,
     "end_time": "2021-08-08T13:38:32.951583",
     "exception": false,
     "start_time": "2021-08-08T13:38:32.110251",
     "status": "completed"
    },
    "tags": []
   },
   "outputs": [],
   "source": [
    "dataframe['available_flashcards'] = dataframe[\"day's_available_flashcards\"][:]\n",
    "dataframe = dataframe.drop([\"day's_available_flashcards\"], axis=1)\n",
    "dataframe['user_id'] = dataframe[\"user_id.x\"][:]\n",
    "dataframe = dataframe.drop([\"user_id.x\"], axis=1)"
   ]
  },
  {
   "cell_type": "code",
   "execution_count": 7,
   "metadata": {
    "execution": {
     "iopub.execute_input": "2021-08-08T13:38:33.266088Z",
     "iopub.status.busy": "2021-08-08T13:38:33.265154Z",
     "iopub.status.idle": "2021-08-08T13:38:33.269285Z",
     "shell.execute_reply": "2021-08-08T13:38:33.268770Z",
     "shell.execute_reply.started": "2021-08-06T21:05:21.632824Z"
    },
    "id": "-_BRggOjbBjN",
    "outputId": "42bff7db-08dd-48dc-a73a-d048508053b7",
    "papermill": {
     "duration": 0.28754,
     "end_time": "2021-08-08T13:38:33.269462",
     "exception": false,
     "start_time": "2021-08-08T13:38:32.981922",
     "status": "completed"
    },
    "tags": []
   },
   "outputs": [
    {
     "data": {
      "text/plain": [
       "102"
      ]
     },
     "execution_count": 7,
     "metadata": {},
     "output_type": "execute_result"
    }
   ],
   "source": [
    "gc.collect()"
   ]
  },
  {
   "cell_type": "code",
   "execution_count": 8,
   "metadata": {
    "execution": {
     "iopub.execute_input": "2021-08-08T13:38:33.333784Z",
     "iopub.status.busy": "2021-08-08T13:38:33.332783Z",
     "iopub.status.idle": "2021-08-08T13:38:33.771992Z",
     "shell.execute_reply": "2021-08-08T13:38:33.771283Z",
     "shell.execute_reply.started": "2021-08-06T21:05:21.821467Z"
    },
    "id": "lXM7MlonVeRL",
    "outputId": "d29ccec0-522f-4e3c-e0b2-39b2e1eaef74",
    "papermill": {
     "duration": 0.472615,
     "end_time": "2021-08-08T13:38:33.772166",
     "exception": false,
     "start_time": "2021-08-08T13:38:33.299551",
     "status": "completed"
    },
    "tags": []
   },
   "outputs": [
    {
     "data": {
      "text/plain": [
       "20"
      ]
     },
     "execution_count": 8,
     "metadata": {},
     "output_type": "execute_result"
    }
   ],
   "source": [
    "dataframe = dataframe[FEATURES]\n",
    "gc.collect()"
   ]
  },
  {
   "cell_type": "code",
   "execution_count": 9,
   "metadata": {
    "execution": {
     "iopub.execute_input": "2021-08-08T13:38:34.422735Z",
     "iopub.status.busy": "2021-08-08T13:38:34.421951Z",
     "iopub.status.idle": "2021-08-08T13:38:34.643608Z",
     "shell.execute_reply": "2021-08-08T13:38:34.642974Z",
     "shell.execute_reply.started": "2021-08-06T21:05:22.101727Z"
    },
    "id": "2WAFv5z3A6fK",
    "outputId": "e27abf84-ec3c-4b88-e1fb-927d94b41898",
    "papermill": {
     "duration": 0.841018,
     "end_time": "2021-08-08T13:38:34.643847",
     "exception": false,
     "start_time": "2021-08-08T13:38:33.802829",
     "status": "completed"
    },
    "tags": []
   },
   "outputs": [],
   "source": [
    "dataframe = dataframe.fillna(0)"
   ]
  },
  {
   "cell_type": "code",
   "execution_count": 10,
   "metadata": {
    "execution": {
     "iopub.execute_input": "2021-08-08T13:38:34.724804Z",
     "iopub.status.busy": "2021-08-08T13:38:34.723782Z",
     "iopub.status.idle": "2021-08-08T13:38:36.280921Z",
     "shell.execute_reply": "2021-08-08T13:38:36.280121Z",
     "shell.execute_reply.started": "2021-08-06T21:05:22.700096Z"
    },
    "id": "qRKqF_0IXZgj",
    "papermill": {
     "duration": 1.607124,
     "end_time": "2021-08-08T13:38:36.281091",
     "exception": false,
     "start_time": "2021-08-08T13:38:34.673967",
     "status": "completed"
    },
    "tags": []
   },
   "outputs": [],
   "source": [
    "#label encode term, chapter_label, question_name, sub_chapter_label columns\n",
    "dataframe['term'] = dataframe['term'].astype('category')\n",
    "dataframe['user_id'] = dataframe['user_id'].astype(int)\n",
    "dataframe['user_id'] = dataframe['user_id'].astype(str)\n",
    "dataframe['user_id'] = dataframe['term'].str.cat(dataframe['user_id'], sep=':')\n",
    "dataframe['user_id'] = dataframe['user_id'].astype('category')\n",
    "dataframe['chapter_label'] = dataframe['chapter_label'].astype('category')\n",
    "dataframe['sub_chapter_label'] = dataframe['sub_chapter_label'].astype('category')\n",
    "dataframe['question_name'] = dataframe['question_name'].astype('category')\n"
   ]
  },
  {
   "cell_type": "code",
   "execution_count": 11,
   "metadata": {
    "execution": {
     "iopub.execute_input": "2021-08-08T13:38:36.352613Z",
     "iopub.status.busy": "2021-08-08T13:38:36.351817Z",
     "iopub.status.idle": "2021-08-08T13:38:37.001788Z",
     "shell.execute_reply": "2021-08-08T13:38:37.001157Z",
     "shell.execute_reply.started": "2021-08-06T21:05:23.94285Z"
    },
    "id": "eVl_067GWkDe",
    "papermill": {
     "duration": 0.690149,
     "end_time": "2021-08-08T13:38:37.001976",
     "exception": false,
     "start_time": "2021-08-08T13:38:36.311827",
     "status": "completed"
    },
    "tags": []
   },
   "outputs": [],
   "source": [
    "#calculate time_lag and prev_time_elapsed\n",
    "dataframe['prev_time_elapsed'] = None\n",
    "dataframe['time_lag'] = None\n",
    "dataframe['time_lag'] = dataframe['time_lag'].astype(np.float)\n",
    "dataframe['prev_time_elapsed'] = dataframe['prev_time_elapsed'].astype(np.float)\n",
    "dataframe.start_practice = pd.to_datetime(dataframe.start_practice, format='%Y-%m-%d %H:%M:%S')\n",
    "dataframe.end_practice = pd.to_datetime(dataframe.end_practice, format='%Y-%m-%d %H:%M:%S')\n",
    "#calculaate answer correct\n",
    "#when q=5 and time < 1 minute\n",
    "dataframe['dif'] = dataframe.end_practice - dataframe.start_practice\n",
    "dataframe['dif'] = dataframe['dif'] /np.timedelta64(1, 's')\n",
    "dataframe['answer_correct'] = np.where((dataframe['q']==5) & (dataframe['dif'] <= 60), 1, 0)"
   ]
  },
  {
   "cell_type": "code",
   "execution_count": 12,
   "metadata": {
    "execution": {
     "iopub.execute_input": "2021-08-08T13:38:37.075424Z",
     "iopub.status.busy": "2021-08-08T13:38:37.074703Z",
     "iopub.status.idle": "2021-08-08T13:46:27.382119Z",
     "shell.execute_reply": "2021-08-08T13:46:27.382724Z",
     "shell.execute_reply.started": "2021-08-06T21:05:24.401262Z"
    },
    "id": "Xrkcn9VhWETm",
    "outputId": "fd73f3de-5f56-42a8-9539-3f3b79a5a6e2",
    "papermill": {
     "duration": 470.35067,
     "end_time": "2021-08-08T13:46:27.382944",
     "exception": false,
     "start_time": "2021-08-08T13:38:37.032274",
     "status": "completed"
    },
    "tags": []
   },
   "outputs": [
    {
     "name": "stderr",
     "output_type": "stream",
     "text": [
      "100%|██████████| 1110/1110 [07:50<00:00,  2.36it/s]\n"
     ]
    }
   ],
   "source": [
    "unique_chapts = dataframe['chapter_label'].unique()\n",
    "from tqdm import tqdm\n",
    "cnt = 0\n",
    "for user in tqdm(dataframe['user_id'].unique()):\n",
    "        for chapter in unique_chapts:\n",
    "            tmp_user = dataframe[(dataframe['user_id']==user) & (dataframe['chapter_label']==chapter)]\n",
    "            #if user doesn't answer any question from the chapter\n",
    "            if len(tmp_user) < 1:\n",
    "                continue\n",
    "            #calculate average elapsed time before the current question\n",
    "            #from its corresponding chapter\n",
    "            tmp_time_elapsed = tmp_user.end_practice - tmp_user.start_practice\n",
    "            tmp_time_elapsed = tmp_time_elapsed / np.timedelta64(1, 's')\n",
    "            tmp_time_elapsed = np.insert(np.array(tmp_time_elapsed[:-1]), 0, 0., axis=0)\n",
    "            tmp_time_elapsed = np.cumsum(tmp_time_elapsed)\n",
    "            indices = tmp_user.index\n",
    "            start_row = indices[0]\n",
    "            dataframe['time_lag'].iloc[start_row] = 0\n",
    "            for_mean = np.arange(len(tmp_user))\n",
    "            for_mean[0] = 1\n",
    "            time_substrahend = tmp_user.start_practice.iloc[:-1]\n",
    "            time_substrahend = time_substrahend.apply(lambda a: a.timestamp())\n",
    "            time_substrahend = np.array(time_substrahend)\n",
    "            \n",
    "            time_minuend = tmp_user.start_practice.iloc[1:]\n",
    "            time_minuend = time_minuend.apply(lambda a: a.timestamp())\n",
    "            time_minuend = np.array(time_minuend)\n",
    "\n",
    "            dataframe['prev_time_elapsed'].iloc[indices] = tmp_time_elapsed/for_mean\n",
    "            #calculate difference between current and last interaction\n",
    "            #from the same chapter\n",
    "            dataframe['time_lag'].iloc[indices[1:]] = time_minuend - time_substrahend\n"
   ]
  },
  {
   "cell_type": "code",
   "execution_count": 13,
   "metadata": {
    "execution": {
     "iopub.execute_input": "2021-08-08T13:46:28.208885Z",
     "iopub.status.busy": "2021-08-08T13:46:28.206718Z",
     "iopub.status.idle": "2021-08-08T13:46:28.260717Z",
     "shell.execute_reply": "2021-08-08T13:46:28.259756Z",
     "shell.execute_reply.started": "2021-08-06T21:09:42.800903Z"
    },
    "id": "8t8yZ0XvWwzz",
    "papermill": {
     "duration": 0.515535,
     "end_time": "2021-08-08T13:46:28.260897",
     "exception": false,
     "start_time": "2021-08-08T13:46:27.745362",
     "status": "completed"
    },
    "tags": []
   },
   "outputs": [],
   "source": [
    "#drop column end_practice\n",
    "dataframe.drop(columns=['end_practice'], inplace=True)"
   ]
  },
  {
   "cell_type": "code",
   "execution_count": 14,
   "metadata": {
    "execution": {
     "iopub.execute_input": "2021-08-08T13:46:29.012967Z",
     "iopub.status.busy": "2021-08-08T13:46:29.011750Z",
     "iopub.status.idle": "2021-08-08T13:46:29.487455Z",
     "shell.execute_reply": "2021-08-08T13:46:29.486819Z",
     "shell.execute_reply.started": "2021-08-06T21:09:42.889108Z"
    },
    "id": "E42raRIrYYXz",
    "papermill": {
     "duration": 0.844326,
     "end_time": "2021-08-08T13:46:29.487613",
     "exception": false,
     "start_time": "2021-08-08T13:46:28.643287",
     "status": "completed"
    },
    "tags": []
   },
   "outputs": [],
   "source": [
    "# calculate the age feature\n",
    "dataframe['term_value'] = [int(ele[3:]) for ele in dataframe['term']]\n",
    "dataframe['age'] = dataframe['term_value'] - dataframe['birthYear']"
   ]
  },
  {
   "cell_type": "code",
   "execution_count": 15,
   "metadata": {
    "execution": {
     "iopub.execute_input": "2021-08-08T13:46:30.296912Z",
     "iopub.status.busy": "2021-08-08T13:46:30.296208Z",
     "iopub.status.idle": "2021-08-08T13:46:30.635232Z",
     "shell.execute_reply": "2021-08-08T13:46:30.634510Z",
     "shell.execute_reply.started": "2021-08-06T21:09:43.322002Z"
    },
    "id": "pcMVQXueYnMh",
    "papermill": {
     "duration": 0.709494,
     "end_time": "2021-08-08T13:46:30.635390",
     "exception": false,
     "start_time": "2021-08-08T13:46:29.925896",
     "status": "completed"
    },
    "tags": []
   },
   "outputs": [],
   "source": [
    "# drop term_value and birthYear column\n",
    "dataframe.drop(columns=['term_value', 'birthYear'], inplace=True)"
   ]
  },
  {
   "cell_type": "code",
   "execution_count": 16,
   "metadata": {
    "execution": {
     "iopub.execute_input": "2021-08-08T13:46:31.398106Z",
     "iopub.status.busy": "2021-08-08T13:46:31.382423Z",
     "iopub.status.idle": "2021-08-08T13:46:31.882895Z",
     "shell.execute_reply": "2021-08-08T13:46:31.881727Z",
     "shell.execute_reply.started": "2021-08-06T21:09:43.524953Z"
    },
    "id": "hjRF5szkcQE0",
    "papermill": {
     "duration": 0.883771,
     "end_time": "2021-08-08T13:46:31.883085",
     "exception": false,
     "start_time": "2021-08-08T13:46:30.999314",
     "status": "completed"
    },
    "tags": []
   },
   "outputs": [],
   "source": [
    "# convert minors_count to int value\n",
    "new_minors_count = []\n",
    "for i in dataframe['minorsCount']:\n",
    "  if i == 0 or i == '0':\n",
    "    new_minors_count.append(0)\n",
    "  elif i == '1 Minor':\n",
    "    new_minors_count.append(1)\n",
    "  else:\n",
    "    new_minors_count.append(2)\n",
    "\n",
    "dataframe['minorsCount'] = new_minors_count"
   ]
  },
  {
   "cell_type": "code",
   "execution_count": 17,
   "metadata": {
    "execution": {
     "iopub.execute_input": "2021-08-08T13:46:32.620770Z",
     "iopub.status.busy": "2021-08-08T13:46:32.620042Z",
     "iopub.status.idle": "2021-08-08T13:46:32.636469Z",
     "shell.execute_reply": "2021-08-08T13:46:32.637274Z",
     "shell.execute_reply.started": "2021-08-06T21:09:43.981222Z"
    },
    "id": "9VdzvJSw0KUU",
    "outputId": "6393784f-234e-4935-9cee-cbcf56b5630a",
    "papermill": {
     "duration": 0.385052,
     "end_time": "2021-08-08T13:46:32.637581",
     "exception": false,
     "start_time": "2021-08-08T13:46:32.252529",
     "status": "completed"
    },
    "tags": []
   },
   "outputs": [
    {
     "name": "stdout",
     "output_type": "stream",
     "text": [
      "we have  1110  users in total.\n"
     ]
    }
   ],
   "source": [
    "print(\"we have \", dataframe['user_id'].nunique(),\" users in total.\")"
   ]
  },
  {
   "cell_type": "code",
   "execution_count": 18,
   "metadata": {
    "execution": {
     "iopub.execute_input": "2021-08-08T13:46:33.465419Z",
     "iopub.status.busy": "2021-08-08T13:46:33.464393Z",
     "iopub.status.idle": "2021-08-08T13:46:33.475675Z",
     "shell.execute_reply": "2021-08-08T13:46:33.474890Z",
     "shell.execute_reply.started": "2021-08-06T21:09:43.998125Z"
    },
    "id": "hUaGk9L9g13t",
    "papermill": {
     "duration": 0.417186,
     "end_time": "2021-08-08T13:46:33.475850",
     "exception": false,
     "start_time": "2021-08-08T13:46:33.058664",
     "status": "completed"
    },
    "tags": []
   },
   "outputs": [],
   "source": [
    "for category in ['term','chapter_label', 'sub_chapter_label', 'question_name']:\n",
    "  dataframe[category] =  dataframe[category].cat.codes"
   ]
  },
  {
   "cell_type": "code",
   "execution_count": 19,
   "metadata": {
    "execution": {
     "iopub.execute_input": "2021-08-08T13:46:34.229955Z",
     "iopub.status.busy": "2021-08-08T13:46:34.229225Z",
     "iopub.status.idle": "2021-08-08T13:46:35.278179Z",
     "shell.execute_reply": "2021-08-08T13:46:35.277528Z",
     "shell.execute_reply.started": "2021-08-06T21:09:44.009179Z"
    },
    "id": "hkyvcYvlhliG",
    "papermill": {
     "duration": 1.42483,
     "end_time": "2021-08-08T13:46:35.278337",
     "exception": false,
     "start_time": "2021-08-08T13:46:33.853507",
     "status": "completed"
    },
    "tags": []
   },
   "outputs": [],
   "source": [
    "NUMERIC_FEATURE =  ['age',\n",
    "            'exclClassCumGPA',\n",
    "            'termCreditsGPA',\n",
    "            'termCreditsNoGPA',\n",
    "            'highSchoolGPA', \n",
    "            'majorsCount', 'minorsCount',\n",
    "            'PREV_TERM_CUM_GPA',\n",
    "            'available_flashcards', \n",
    "            'days_offset', \n",
    "            'prev_time_elapsed',\n",
    "             'time_lag']\n",
    "# z-score normalize the numerical features\n",
    "for f in NUMERIC_FEATURE:\n",
    "  m = dataframe[f].mean()\n",
    "  std = dataframe[f].std()\n",
    "  dataframe[f] = (dataframe[f] - m)/std"
   ]
  },
  {
   "cell_type": "code",
   "execution_count": 20,
   "metadata": {
    "execution": {
     "iopub.execute_input": "2021-08-08T13:46:36.026274Z",
     "iopub.status.busy": "2021-08-08T13:46:36.019359Z",
     "iopub.status.idle": "2021-08-08T13:46:40.608205Z",
     "shell.execute_reply": "2021-08-08T13:46:40.607577Z",
     "shell.execute_reply.started": "2021-08-06T21:09:44.734371Z"
    },
    "id": "wo2OH-d5kWp1",
    "papermill": {
     "duration": 4.963971,
     "end_time": "2021-08-08T13:46:40.608364",
     "exception": false,
     "start_time": "2021-08-08T13:46:35.644393",
     "status": "completed"
    },
    "tags": []
   },
   "outputs": [],
   "source": [
    "FEATURE_TRANS =  ['answer_correct', 'chapter_label', 'sub_chapter_label','question_name','user_id','term',\n",
    "                  'STDNT_SEX_CD', \n",
    "                    'White','Asian','NonWhiteOrAsian',\n",
    "            'STDNT_CTZN_STAT_CD', 'international', \n",
    "            'age',\n",
    "            'exclClassCumGPA',\n",
    "           'Freshman',\n",
    "            'Junior',\n",
    "            'Sophomore',\n",
    "            'Senior',\n",
    "            'termCreditsGPA',\n",
    "            'termCreditsNoGPA',\n",
    "            'athlete_1',\n",
    "            'honorsPro',\n",
    "            'LSA', 'programBusiness', 'programEngineering', \n",
    "            'programInformation', 'programOther',\n",
    "            'HSCalculusTaken', \n",
    "            'highSchoolGPA', \n",
    "            'majorsCount', 'minorsCount',\n",
    "            'PREV_TERM_CUM_GPA',\n",
    "            'classGraded', 'classHonors', \n",
    "            'Pass_Fail', \n",
    "            'parentsGraduateEdu',  'minorityGroup', \n",
    "            'available_flashcards', \n",
    "            'days_offset', 'prev_time_elapsed',\n",
    "             'time_lag']\n",
    "grouped_data = dataframe[FEATURE_TRANS].groupby(['user_id']).apply(lambda r: (\n",
    "                r['answer_correct'],\n",
    "                r['term'],\n",
    "                r['chapter_label'],\n",
    "                r['sub_chapter_label'],\n",
    "                r['question_name'],\n",
    "                np.array([\n",
    "                    r['STDNT_SEX_CD'],r['STDNT_CTZN_STAT_CD'], r['international'], \n",
    "                  r['White'],r['Asian'],r['NonWhiteOrAsian'],\n",
    "                 r['age'],r['exclClassCumGPA'],\n",
    "                r['Freshman'], r['Junior'], r['Sophomore'], r['Senior'],\n",
    "                r['termCreditsGPA'], r['termCreditsNoGPA'],\n",
    "                r['athlete_1'], r['honorsPro'],\n",
    "                r['LSA'], r['programBusiness'], r['programEngineering'], \n",
    "                r['programInformation'], r['programOther'],\n",
    "                r['HSCalculusTaken'],  r['highSchoolGPA'], \n",
    "                r['majorsCount'], r['minorsCount'],\n",
    "                r['PREV_TERM_CUM_GPA'], \n",
    "                r['parentsGraduateEdu'], r['minorityGroup'],\n",
    "                r['available_flashcards'],\n",
    "                r['days_offset'],\n",
    "                r['prev_time_elapsed'],\n",
    "                r['time_lag']\n",
    "              ]).transpose()\n",
    "                ))"
   ]
  },
  {
   "cell_type": "code",
   "execution_count": 21,
   "metadata": {
    "execution": {
     "iopub.execute_input": "2021-08-08T13:46:41.631832Z",
     "iopub.status.busy": "2021-08-08T13:46:41.630687Z",
     "iopub.status.idle": "2021-08-08T13:46:41.635926Z",
     "shell.execute_reply": "2021-08-08T13:46:41.635288Z",
     "shell.execute_reply.started": "2021-08-06T21:09:45.792372Z"
    },
    "id": "XXLqQnjrlp_4",
    "outputId": "c801da79-f0bf-4fe5-b19c-7c799fe01556",
    "papermill": {
     "duration": 0.66098,
     "end_time": "2021-08-08T13:46:41.636186",
     "exception": false,
     "start_time": "2021-08-08T13:46:40.975206",
     "status": "completed"
    },
    "tags": []
   },
   "outputs": [
    {
     "data": {
      "text/plain": [
       "20"
      ]
     },
     "execution_count": 21,
     "metadata": {},
     "output_type": "execute_result"
    }
   ],
   "source": [
    "gc.collect()"
   ]
  },
  {
   "cell_type": "code",
   "execution_count": 22,
   "metadata": {
    "execution": {
     "iopub.execute_input": "2021-08-08T13:46:42.393580Z",
     "iopub.status.busy": "2021-08-08T13:46:42.392852Z",
     "iopub.status.idle": "2021-08-08T13:46:42.416066Z",
     "shell.execute_reply": "2021-08-08T13:46:42.415494Z",
     "shell.execute_reply.started": "2021-08-06T21:09:45.968869Z"
    },
    "id": "QYGQasdTrmP0",
    "papermill": {
     "duration": 0.417263,
     "end_time": "2021-08-08T13:46:42.416230",
     "exception": false,
     "start_time": "2021-08-08T13:46:41.998967",
     "status": "completed"
    },
    "tags": []
   },
   "outputs": [],
   "source": [
    "# remove students who don't have make any interactions with the tool\n",
    "toRemove = []\n",
    "for index in grouped_data.index:\n",
    "  if len(grouped_data[index][0]) <= 10:\n",
    "    toRemove.append(index)\n",
    "grouped_data = grouped_data.drop(index=toRemove)"
   ]
  },
  {
   "cell_type": "code",
   "execution_count": 23,
   "metadata": {
    "execution": {
     "iopub.execute_input": "2021-08-08T13:46:43.159051Z",
     "iopub.status.busy": "2021-08-08T13:46:43.157857Z",
     "iopub.status.idle": "2021-08-08T13:46:43.177768Z",
     "shell.execute_reply": "2021-08-08T13:46:43.178337Z",
     "shell.execute_reply.started": "2021-08-06T21:09:46.01428Z"
    },
    "papermill": {
     "duration": 0.394216,
     "end_time": "2021-08-08T13:46:43.178580",
     "exception": false,
     "start_time": "2021-08-08T13:46:42.784364",
     "status": "completed"
    },
    "tags": []
   },
   "outputs": [
    {
     "data": {
      "text/plain": [
       "count    1110.000000\n",
       "mean      550.263063\n",
       "std       201.281353\n",
       "min         2.000000\n",
       "25%       438.250000\n",
       "50%       520.500000\n",
       "75%       637.750000\n",
       "max      1500.000000\n",
       "Name: start_practice, dtype: float64"
      ]
     },
     "execution_count": 23,
     "metadata": {},
     "output_type": "execute_result"
    }
   ],
   "source": [
    "dataframe.groupby('user_id')['start_practice'].agg('count').describe()"
   ]
  },
  {
   "cell_type": "code",
   "execution_count": 24,
   "metadata": {
    "execution": {
     "iopub.execute_input": "2021-08-08T13:46:43.923082Z",
     "iopub.status.busy": "2021-08-08T13:46:43.922197Z",
     "iopub.status.idle": "2021-08-08T13:46:43.926301Z",
     "shell.execute_reply": "2021-08-08T13:46:43.925673Z",
     "shell.execute_reply.started": "2021-08-06T21:09:46.033627Z"
    },
    "papermill": {
     "duration": 0.379853,
     "end_time": "2021-08-08T13:46:43.926467",
     "exception": false,
     "start_time": "2021-08-08T13:46:43.546614",
     "status": "completed"
    },
    "tags": []
   },
   "outputs": [
    {
     "data": {
      "text/plain": [
       "['FA 2018:252', 'WN 2018:295']"
      ]
     },
     "execution_count": 24,
     "metadata": {},
     "output_type": "execute_result"
    }
   ],
   "source": [
    "toRemove"
   ]
  },
  {
   "cell_type": "code",
   "execution_count": 25,
   "metadata": {
    "execution": {
     "iopub.execute_input": "2021-08-08T13:46:44.671728Z",
     "iopub.status.busy": "2021-08-08T13:46:44.670605Z",
     "iopub.status.idle": "2021-08-08T13:46:44.673023Z",
     "shell.execute_reply": "2021-08-08T13:46:44.673525Z",
     "shell.execute_reply.started": "2021-08-06T21:09:46.04112Z"
    },
    "id": "9kZqV9siDyNb",
    "papermill": {
     "duration": 0.378525,
     "end_time": "2021-08-08T13:46:44.673740",
     "exception": false,
     "start_time": "2021-08-08T13:46:44.295215",
     "status": "completed"
    },
    "tags": []
   },
   "outputs": [],
   "source": [
    "#SETTINGS -> can be modified at any time\n",
    "MAXLENGTH = 400\n",
    "EMBEDDING_DIM = 128\n",
    "DENSE_NEURON = 16\n",
    "GRU_NEURON = 32"
   ]
  },
  {
   "cell_type": "code",
   "execution_count": 26,
   "metadata": {
    "execution": {
     "iopub.execute_input": "2021-08-08T13:46:45.412251Z",
     "iopub.status.busy": "2021-08-08T13:46:45.411198Z",
     "iopub.status.idle": "2021-08-08T13:46:45.416506Z",
     "shell.execute_reply": "2021-08-08T13:46:45.415846Z",
     "shell.execute_reply.started": "2021-08-06T21:09:46.049329Z"
    },
    "id": "1MksD1JizpPn",
    "papermill": {
     "duration": 0.374212,
     "end_time": "2021-08-08T13:46:45.416662",
     "exception": false,
     "start_time": "2021-08-08T13:46:45.042450",
     "status": "completed"
    },
    "tags": []
   },
   "outputs": [],
   "source": [
    "FEATURES_SIZE = 39\n",
    "CHAPTER_SIZE = 38\n",
    "SUB_CHAPTER_SIZE = 223\n",
    "QUESTION_SIZE = 1069"
   ]
  },
  {
   "cell_type": "code",
   "execution_count": 27,
   "metadata": {
    "execution": {
     "iopub.execute_input": "2021-08-08T13:46:46.153140Z",
     "iopub.status.busy": "2021-08-08T13:46:46.152458Z",
     "iopub.status.idle": "2021-08-08T13:46:46.167622Z",
     "shell.execute_reply": "2021-08-08T13:46:46.166656Z",
     "shell.execute_reply.started": "2021-08-06T21:09:46.057705Z"
    },
    "papermill": {
     "duration": 0.387013,
     "end_time": "2021-08-08T13:46:46.167822",
     "exception": false,
     "start_time": "2021-08-08T13:46:45.780809",
     "status": "completed"
    },
    "tags": []
   },
   "outputs": [
    {
     "data": {
      "text/plain": [
       "array([ 96,  86,  88,  28,  12,  82, 125,  32,  69,  33,  21, 115, 120,\n",
       "       119,  91,  73,  57,  77, 117,  40,  74,  41,  68,  39,  92,  47,\n",
       "       104,  95,  53,  49,  50,  16,  52,  55,   7,  15,  51, 102, 103,\n",
       "        11,  94, 108, 100,  17,  67,  63,  13, 139,  26,  25,   8, 107,\n",
       "         0,  90,  48,  54, 138,   1,   2,   3,  34,  35,  85,   5,  24,\n",
       "        37,  36,  78,  70,  45, 142,  71,  10,  89, 111, 112, 109, 116,\n",
       "        76,  72, 148, 134, 146, 221, 143,  56,  60,  61,  23, 140, 106,\n",
       "        42,  83,  22, 145, 136, 144,  38,   4,  19, 137,  75,  43,  98,\n",
       "        84, 113, 173, 174, 175, 176, 177, 178, 180, 181, 182, 187, 189,\n",
       "       190, 191, 192, 193, 195, 197, 151, 152, 153, 156, 157, 158, 159,\n",
       "       160, 161, 163, 164, 165, 166, 167, 168, 169, 170, 171, 172, 198,\n",
       "       199, 200, 201, 202, 203, 204, 205, 206, 207, 208, 209, 210, 162,\n",
       "       179, 186, 188, 194, 183, 184, 185, 211, 212, 213, 154, 155, 196,\n",
       "         6, 118,  18, 215,  46, 216, 141,  27, 217, 105, 123, 218, 101,\n",
       "       124, 219, 122, 220,  58,  59,  64,  20,  93,  65,  66,   9,  44,\n",
       "        30,  14,  79, 121,  31, 110, 129,  87,  97,  62, 149, 132, 131,\n",
       "       150, 130, 128,  99, 147, 127, 214, 135,  80, 126, 133,  81, 114,\n",
       "        29], dtype=int16)"
      ]
     },
     "execution_count": 27,
     "metadata": {},
     "output_type": "execute_result"
    }
   ],
   "source": [
    "dataframe['sub_chapter_label'].unique()"
   ]
  },
  {
   "cell_type": "code",
   "execution_count": 28,
   "metadata": {
    "execution": {
     "iopub.execute_input": "2021-08-08T13:46:46.922081Z",
     "iopub.status.busy": "2021-08-08T13:46:46.920716Z",
     "iopub.status.idle": "2021-08-08T13:46:48.060132Z",
     "shell.execute_reply": "2021-08-08T13:46:48.059294Z",
     "shell.execute_reply.started": "2021-08-06T21:09:46.074094Z"
    },
    "id": "mY3Thp6d0NaT",
    "papermill": {
     "duration": 1.520308,
     "end_time": "2021-08-08T13:46:48.060307",
     "exception": false,
     "start_time": "2021-08-08T13:46:46.539999",
     "status": "completed"
    },
    "tags": []
   },
   "outputs": [],
   "source": [
    "#create dataset class\n",
    "#to prepare it for train, valid, and test sets\n",
    "from torch.utils.data import Dataset, DataLoader\n",
    "class SPACE_DATASET(Dataset):\n",
    "    def __init__(self, data, maxlength = 400):\n",
    "        super(SPACE_DATASET, self).__init__()\n",
    "        self.maxlength = maxlength\n",
    "        self.data = data\n",
    "        self.users = list()\n",
    "        for user in data.index:\n",
    "            self.users.append(user)\n",
    "\n",
    "    def __len__(self):\n",
    "        return len(self.users)\n",
    "    \n",
    "    def __getitem__(self, ix):\n",
    "        user = self.users[ix]\n",
    "        user = user\n",
    "        target, term, ch_label, sub_ch_label, ques_name, features = self.data[user]\n",
    "        \n",
    "        #0s should be used as padding values\n",
    "        ori_target = target.values \n",
    "        term = term.values\n",
    "        ch_label = ch_label.values + 1\n",
    "        sub_ch_label = sub_ch_label.values +1\n",
    "        ques_name = ques_name.values + 1\n",
    "        \n",
    "        n = len(ch_label)\n",
    "\n",
    "        # one hot for term\n",
    "        term_encode = [0]*7\n",
    "        term_encode[term[0]] = 1\n",
    "        shifted_target= []\n",
    "\n",
    "        \n",
    "        # get  user interaction informations in the previous MAXLEN interactions\n",
    "        if n > self.maxlength:\n",
    "          ch_label = ch_label[-self.maxlength:]\n",
    "          sub_ch_label = sub_ch_label[-self.maxlength:]\n",
    "          ques_name = ques_name[-self.maxlength:]\n",
    "          features = features[-self.maxlength:]\n",
    "          target = ori_target[-self.maxlength:]\n",
    "          shifted_target = ori_target[ (-self.maxlength - 1) :-1]\n",
    "        else:\n",
    "          ch_label = [0]*(self.maxlength - n)+list(ch_label[:])\n",
    "          sub_ch_label = [0]*(self.maxlength - n)+list(sub_ch_label[:])\n",
    "          ques_name = [0]*(self.maxlength - n)+list(ques_name[:])\n",
    "          features = [[0]*len(features[0])]*(self.maxlength  - n)+list(features[:])\n",
    "          target = [-1]*(self.maxlength - n) + list(ori_target[:])\n",
    "          shifted_target = [2]*(self.maxlength + 1 - n) + list(ori_target[:-1])\n",
    "\n",
    "        new_features = []\n",
    "        count = 0\n",
    "        for f in features:\n",
    "          temp = list(f)\n",
    "          temp.extend(term_encode)\n",
    "          #temp.append(shifted_target[count]) #uncomment this line for include previous response feature\n",
    "          new_features.append(temp)\n",
    "          count += 1\n",
    "        features = new_features\n",
    "        return ch_label,sub_ch_label,ques_name,features, shifted_target, target"
   ]
  },
  {
   "cell_type": "code",
   "execution_count": 29,
   "metadata": {
    "execution": {
     "iopub.execute_input": "2021-08-08T13:46:48.812124Z",
     "iopub.status.busy": "2021-08-08T13:46:48.811359Z",
     "iopub.status.idle": "2021-08-08T13:46:48.814732Z",
     "shell.execute_reply": "2021-08-08T13:46:48.815302Z",
     "shell.execute_reply.started": "2021-08-06T21:09:47.310275Z"
    },
    "papermill": {
     "duration": 0.385515,
     "end_time": "2021-08-08T13:46:48.815542",
     "exception": false,
     "start_time": "2021-08-08T13:46:48.430027",
     "status": "completed"
    },
    "tags": []
   },
   "outputs": [
    {
     "data": {
      "text/plain": [
       "223"
      ]
     },
     "execution_count": 29,
     "metadata": {},
     "output_type": "execute_result"
    }
   ],
   "source": [
    "SUB_CHAPTER_SIZE"
   ]
  },
  {
   "cell_type": "markdown",
   "metadata": {
    "id": "4xc90-aLzxat",
    "papermill": {
     "duration": 0.367198,
     "end_time": "2021-08-08T13:46:49.549588",
     "exception": false,
     "start_time": "2021-08-08T13:46:49.182390",
     "status": "completed"
    },
    "tags": []
   },
   "source": [
    "## KFOLD - GRU\n"
   ]
  },
  {
   "cell_type": "code",
   "execution_count": 30,
   "metadata": {
    "execution": {
     "iopub.execute_input": "2021-08-08T13:46:50.336235Z",
     "iopub.status.busy": "2021-08-08T13:46:50.335380Z",
     "iopub.status.idle": "2021-08-08T13:51:48.071331Z",
     "shell.execute_reply": "2021-08-08T13:51:48.071920Z",
     "shell.execute_reply.started": "2021-08-06T21:09:47.318071Z"
    },
    "id": "gzJrljnjzypP",
    "outputId": "87abe488-b493-4f8f-9d71-45cb1d2ddf51",
    "papermill": {
     "duration": 298.148147,
     "end_time": "2021-08-08T13:51:48.072147",
     "exception": false,
     "start_time": "2021-08-08T13:46:49.924000",
     "status": "completed"
    },
    "tags": []
   },
   "outputs": [
    {
     "name": "stdout",
     "output_type": "stream",
     "text": [
      "Epoch 1/100\n",
      "14/14 [==============================] - 5s 256ms/step - loss: 0.5854 - masked_acc: 0.6017 - masked_auc: 0.5473 - val_loss: 0.4789 - val_masked_acc: 0.7159 - val_masked_auc: 0.6927\n",
      "Epoch 2/100\n",
      "14/14 [==============================] - 2s 168ms/step - loss: 0.4549 - masked_acc: 0.7264 - masked_auc: 0.7222 - val_loss: 0.4509 - val_masked_acc: 0.7442 - val_masked_auc: 0.7611\n",
      "Epoch 3/100\n",
      "14/14 [==============================] - 2s 165ms/step - loss: 0.4346 - masked_acc: 0.7479 - masked_auc: 0.7695 - val_loss: 0.4485 - val_masked_acc: 0.7545 - val_masked_auc: 0.7839\n",
      "Epoch 4/100\n",
      "14/14 [==============================] - 2s 163ms/step - loss: 0.4306 - masked_acc: 0.7560 - masked_auc: 0.7881 - val_loss: 0.4463 - val_masked_acc: 0.7596 - val_masked_auc: 0.7952\n",
      "Epoch 5/100\n",
      "14/14 [==============================] - 2s 180ms/step - loss: 0.4380 - masked_acc: 0.7601 - masked_auc: 0.7971 - val_loss: 0.4458 - val_masked_acc: 0.7628 - val_masked_auc: 0.8019\n",
      "Epoch 6/100\n",
      "14/14 [==============================] - 2s 163ms/step - loss: 0.4279 - masked_acc: 0.7636 - masked_auc: 0.8034 - val_loss: 0.4451 - val_masked_acc: 0.7649 - val_masked_auc: 0.8064\n",
      "Epoch 7/100\n",
      "14/14 [==============================] - 2s 160ms/step - loss: 0.4317 - masked_acc: 0.7652 - masked_auc: 0.8074 - val_loss: 0.4456 - val_masked_acc: 0.7666 - val_masked_auc: 0.8096\n",
      "Epoch 8/100\n",
      "14/14 [==============================] - 2s 161ms/step - loss: 0.4323 - masked_acc: 0.7668 - masked_auc: 0.8102 - val_loss: 0.4454 - val_masked_acc: 0.7678 - val_masked_auc: 0.8120\n",
      "Epoch 9/100\n",
      "14/14 [==============================] - 2s 171ms/step - loss: 0.4328 - masked_acc: 0.7679 - masked_auc: 0.8125 - val_loss: 0.4454 - val_masked_acc: 0.7687 - val_masked_auc: 0.8138\n",
      "Epoch 10/100\n",
      "14/14 [==============================] - 2s 163ms/step - loss: 0.4313 - masked_acc: 0.7689 - masked_auc: 0.8142 - val_loss: 0.4452 - val_masked_acc: 0.7695 - val_masked_auc: 0.8153\n",
      "Epoch 11/100\n",
      "14/14 [==============================] - 2s 162ms/step - loss: 0.4310 - masked_acc: 0.7696 - masked_auc: 0.8155 - val_loss: 0.4464 - val_masked_acc: 0.7701 - val_masked_auc: 0.8164\n",
      "Epoch 12/100\n",
      "14/14 [==============================] - 2s 162ms/step - loss: 0.4336 - masked_acc: 0.7701 - masked_auc: 0.8166 - val_loss: 0.4454 - val_masked_acc: 0.7707 - val_masked_auc: 0.8174\n",
      "Epoch 13/100\n",
      "14/14 [==============================] - 2s 163ms/step - loss: 0.4295 - masked_acc: 0.7708 - masked_auc: 0.8176 - val_loss: 0.4445 - val_masked_acc: 0.7711 - val_masked_auc: 0.8182\n",
      "Epoch 14/100\n",
      "14/14 [==============================] - 2s 164ms/step - loss: 0.4339 - masked_acc: 0.7711 - masked_auc: 0.8183 - val_loss: 0.4450 - val_masked_acc: 0.7715 - val_masked_auc: 0.8189\n",
      "Epoch 15/100\n",
      "14/14 [==============================] - 2s 165ms/step - loss: 0.4263 - masked_acc: 0.7716 - masked_auc: 0.8191 - val_loss: 0.4446 - val_masked_acc: 0.7718 - val_masked_auc: 0.8195\n",
      "Epoch 16/100\n",
      "14/14 [==============================] - 2s 162ms/step - loss: 0.4214 - masked_acc: 0.7720 - masked_auc: 0.8198 - val_loss: 0.4456 - val_masked_acc: 0.7721 - val_masked_auc: 0.8200\n",
      "Epoch 17/100\n",
      "14/14 [==============================] - 2s 162ms/step - loss: 0.4351 - masked_acc: 0.7720 - masked_auc: 0.8201 - val_loss: 0.4459 - val_masked_acc: 0.7723 - val_masked_auc: 0.8205\n",
      "Epoch 18/100\n",
      "14/14 [==============================] - 2s 163ms/step - loss: 0.4273 - masked_acc: 0.7724 - masked_auc: 0.8206 - val_loss: 0.4453 - val_masked_acc: 0.7726 - val_masked_auc: 0.8209\n",
      "Epoch 19/100\n",
      "14/14 [==============================] - 2s 161ms/step - loss: 0.4276 - masked_acc: 0.7726 - masked_auc: 0.8210 - val_loss: 0.4451 - val_masked_acc: 0.7727 - val_masked_auc: 0.8213\n",
      "Epoch 20/100\n",
      "14/14 [==============================] - 2s 161ms/step - loss: 0.4332 - masked_acc: 0.7727 - masked_auc: 0.8213 - val_loss: 0.4450 - val_masked_acc: 0.7729 - val_masked_auc: 0.8216\n",
      "Epoch 21/100\n",
      "14/14 [==============================] - 2s 162ms/step - loss: 0.4256 - masked_acc: 0.7730 - masked_auc: 0.8217 - val_loss: 0.4450 - val_masked_acc: 0.7731 - val_masked_auc: 0.8219\n",
      "Epoch 22/100\n",
      "14/14 [==============================] - 2s 173ms/step - loss: 0.4299 - masked_acc: 0.7731 - masked_auc: 0.8220 - val_loss: 0.4462 - val_masked_acc: 0.7732 - val_masked_auc: 0.8222\n",
      "Epoch 23/100\n",
      "14/14 [==============================] - 3s 183ms/step - loss: 0.4295 - masked_acc: 0.7732 - masked_auc: 0.8223 - val_loss: 0.4455 - val_masked_acc: 0.7734 - val_masked_auc: 0.8225\n",
      "28/28 [==============================] - 1s 39ms/step - loss: 0.4285 - masked_acc: 0.7736 - masked_auc: 0.8227\n",
      "4/4 [==============================] - 0s 32ms/step - loss: 0.4256 - masked_acc: 0.7735 - masked_auc: 0.8227\n",
      "Test:  [0.4256077706813812, 0.7735227942466736, 0.8227192163467407]\n",
      "Epoch 1/100\n",
      "14/14 [==============================] - 5s 218ms/step - loss: 0.5651 - masked_acc: 0.6511 - masked_auc: 0.5580 - val_loss: 0.4539 - val_masked_acc: 0.7284 - val_masked_auc: 0.7267\n",
      "Epoch 2/100\n",
      "14/14 [==============================] - 2s 164ms/step - loss: 0.4499 - masked_acc: 0.7365 - masked_auc: 0.7474 - val_loss: 0.4433 - val_masked_acc: 0.7505 - val_masked_auc: 0.7752\n",
      "Epoch 3/100\n",
      "14/14 [==============================] - 2s 164ms/step - loss: 0.4336 - masked_acc: 0.7530 - masked_auc: 0.7817 - val_loss: 0.4377 - val_masked_acc: 0.7582 - val_masked_auc: 0.7924\n",
      "Epoch 4/100\n",
      "14/14 [==============================] - 2s 160ms/step - loss: 0.4336 - masked_acc: 0.7590 - masked_auc: 0.7953 - val_loss: 0.4369 - val_masked_acc: 0.7624 - val_masked_auc: 0.8011\n",
      "Epoch 5/100\n",
      "14/14 [==============================] - 2s 167ms/step - loss: 0.4347 - masked_acc: 0.7627 - masked_auc: 0.8027 - val_loss: 0.4366 - val_masked_acc: 0.7648 - val_masked_auc: 0.8065\n",
      "Epoch 6/100\n",
      "14/14 [==============================] - 2s 167ms/step - loss: 0.4370 - masked_acc: 0.7650 - masked_auc: 0.8074 - val_loss: 0.4369 - val_masked_acc: 0.7665 - val_masked_auc: 0.8099\n",
      "Epoch 7/100\n",
      "14/14 [==============================] - 2s 171ms/step - loss: 0.4335 - masked_acc: 0.7666 - masked_auc: 0.8106 - val_loss: 0.4357 - val_masked_acc: 0.7677 - val_masked_auc: 0.8123\n",
      "Epoch 8/100\n",
      "14/14 [==============================] - 2s 169ms/step - loss: 0.4310 - masked_acc: 0.7678 - masked_auc: 0.8128 - val_loss: 0.4365 - val_masked_acc: 0.7686 - val_masked_auc: 0.8142\n",
      "Epoch 9/100\n",
      "14/14 [==============================] - 2s 161ms/step - loss: 0.4300 - masked_acc: 0.7687 - masked_auc: 0.8146 - val_loss: 0.4366 - val_masked_acc: 0.7693 - val_masked_auc: 0.8156\n",
      "Epoch 10/100\n",
      "14/14 [==============================] - 2s 169ms/step - loss: 0.4270 - masked_acc: 0.7694 - masked_auc: 0.8160 - val_loss: 0.4360 - val_masked_acc: 0.7698 - val_masked_auc: 0.8167\n",
      "Epoch 11/100\n",
      "14/14 [==============================] - 2s 164ms/step - loss: 0.4316 - masked_acc: 0.7699 - masked_auc: 0.8169 - val_loss: 0.4392 - val_masked_acc: 0.7703 - val_masked_auc: 0.8175\n",
      "Epoch 12/100\n",
      "14/14 [==============================] - 2s 167ms/step - loss: 0.4299 - masked_acc: 0.7704 - masked_auc: 0.8178 - val_loss: 0.4405 - val_masked_acc: 0.7706 - val_masked_auc: 0.8181\n",
      "Epoch 13/100\n",
      "14/14 [==============================] - 2s 166ms/step - loss: 0.4308 - masked_acc: 0.7707 - masked_auc: 0.8183 - val_loss: 0.4369 - val_masked_acc: 0.7709 - val_masked_auc: 0.8188\n",
      "Epoch 14/100\n",
      "14/14 [==============================] - 2s 164ms/step - loss: 0.4388 - masked_acc: 0.7708 - masked_auc: 0.8188 - val_loss: 0.4367 - val_masked_acc: 0.7713 - val_masked_auc: 0.8193\n",
      "Epoch 15/100\n",
      "14/14 [==============================] - 2s 169ms/step - loss: 0.4277 - masked_acc: 0.7713 - masked_auc: 0.8195 - val_loss: 0.4360 - val_masked_acc: 0.7715 - val_masked_auc: 0.8199\n",
      "Epoch 16/100\n",
      "14/14 [==============================] - 2s 164ms/step - loss: 0.4258 - masked_acc: 0.7716 - masked_auc: 0.8200 - val_loss: 0.4360 - val_masked_acc: 0.7717 - val_masked_auc: 0.8203\n",
      "Epoch 17/100\n",
      "14/14 [==============================] - 2s 159ms/step - loss: 0.4271 - masked_acc: 0.7718 - masked_auc: 0.8205 - val_loss: 0.4364 - val_masked_acc: 0.7719 - val_masked_auc: 0.8207\n",
      "28/28 [==============================] - 1s 39ms/step - loss: 0.4296 - masked_acc: 0.7723 - masked_auc: 0.8211\n",
      "4/4 [==============================] - 0s 34ms/step - loss: 0.4264 - masked_acc: 0.7722 - masked_auc: 0.8211\n",
      "Test:  [0.42642349004745483, 0.7721811532974243, 0.8211177587509155]\n",
      "Epoch 1/100\n",
      "14/14 [==============================] - 4s 209ms/step - loss: 0.5708 - masked_acc: 0.6058 - masked_auc: 0.5409 - val_loss: 0.4806 - val_masked_acc: 0.7196 - val_masked_auc: 0.7134\n",
      "Epoch 2/100\n",
      "14/14 [==============================] - 2s 162ms/step - loss: 0.4494 - masked_acc: 0.7304 - masked_auc: 0.7383 - val_loss: 0.4594 - val_masked_acc: 0.7463 - val_masked_auc: 0.7695\n",
      "Epoch 3/100\n",
      "14/14 [==============================] - 2s 169ms/step - loss: 0.4342 - masked_acc: 0.7494 - masked_auc: 0.7767 - val_loss: 0.4550 - val_masked_acc: 0.7555 - val_masked_auc: 0.7888\n",
      "Epoch 4/100\n",
      "14/14 [==============================] - 2s 160ms/step - loss: 0.4307 - masked_acc: 0.7570 - masked_auc: 0.7924 - val_loss: 0.4549 - val_masked_acc: 0.7605 - val_masked_auc: 0.7987\n",
      "Epoch 5/100\n",
      "14/14 [==============================] - 2s 165ms/step - loss: 0.4343 - masked_acc: 0.7612 - masked_auc: 0.8006 - val_loss: 0.4543 - val_masked_acc: 0.7633 - val_masked_auc: 0.8046\n",
      "Epoch 6/100\n",
      "14/14 [==============================] - 2s 161ms/step - loss: 0.4317 - masked_acc: 0.7636 - masked_auc: 0.8055 - val_loss: 0.4551 - val_masked_acc: 0.7653 - val_masked_auc: 0.8085\n",
      "Epoch 7/100\n",
      "14/14 [==============================] - 2s 168ms/step - loss: 0.4350 - masked_acc: 0.7655 - masked_auc: 0.8093 - val_loss: 0.4539 - val_masked_acc: 0.7667 - val_masked_auc: 0.8113\n",
      "Epoch 8/100\n",
      "14/14 [==============================] - 2s 160ms/step - loss: 0.4333 - masked_acc: 0.7669 - masked_auc: 0.8118 - val_loss: 0.4552 - val_masked_acc: 0.7677 - val_masked_auc: 0.8132\n",
      "Epoch 9/100\n",
      "14/14 [==============================] - 2s 167ms/step - loss: 0.4361 - masked_acc: 0.7677 - masked_auc: 0.8136 - val_loss: 0.4582 - val_masked_acc: 0.7685 - val_masked_auc: 0.8147\n",
      "Epoch 10/100\n",
      "14/14 [==============================] - 2s 166ms/step - loss: 0.4308 - masked_acc: 0.7685 - masked_auc: 0.8149 - val_loss: 0.4555 - val_masked_acc: 0.7692 - val_masked_auc: 0.8159\n",
      "Epoch 11/100\n",
      "14/14 [==============================] - 2s 176ms/step - loss: 0.4298 - masked_acc: 0.7692 - masked_auc: 0.8161 - val_loss: 0.4547 - val_masked_acc: 0.7697 - val_masked_auc: 0.8169\n",
      "Epoch 12/100\n",
      "14/14 [==============================] - 2s 168ms/step - loss: 0.4329 - masked_acc: 0.7697 - masked_auc: 0.8171 - val_loss: 0.4540 - val_masked_acc: 0.7701 - val_masked_auc: 0.8177\n",
      "Epoch 13/100\n",
      "14/14 [==============================] - 3s 182ms/step - loss: 0.4374 - masked_acc: 0.7701 - masked_auc: 0.8178 - val_loss: 0.4543 - val_masked_acc: 0.7705 - val_masked_auc: 0.8184\n",
      "Epoch 14/100\n",
      "14/14 [==============================] - 2s 167ms/step - loss: 0.4341 - masked_acc: 0.7705 - masked_auc: 0.8186 - val_loss: 0.4548 - val_masked_acc: 0.7709 - val_masked_auc: 0.8190\n",
      "Epoch 15/100\n",
      "14/14 [==============================] - 2s 167ms/step - loss: 0.4230 - masked_acc: 0.7709 - masked_auc: 0.8192 - val_loss: 0.4538 - val_masked_acc: 0.7712 - val_masked_auc: 0.8196\n",
      "Epoch 16/100\n",
      "14/14 [==============================] - 2s 162ms/step - loss: 0.4363 - masked_acc: 0.7711 - masked_auc: 0.8197 - val_loss: 0.4545 - val_masked_acc: 0.7714 - val_masked_auc: 0.8200\n",
      "Epoch 17/100\n",
      "14/14 [==============================] - 2s 165ms/step - loss: 0.4338 - masked_acc: 0.7714 - masked_auc: 0.8201 - val_loss: 0.4541 - val_masked_acc: 0.7716 - val_masked_auc: 0.8204\n",
      "Epoch 18/100\n",
      "14/14 [==============================] - 2s 163ms/step - loss: 0.4198 - masked_acc: 0.7717 - masked_auc: 0.8206 - val_loss: 0.4541 - val_masked_acc: 0.7718 - val_masked_auc: 0.8208\n",
      "Epoch 19/100\n",
      "14/14 [==============================] - 2s 163ms/step - loss: 0.4290 - masked_acc: 0.7718 - masked_auc: 0.8209 - val_loss: 0.4554 - val_masked_acc: 0.7720 - val_masked_auc: 0.8211\n",
      "Epoch 20/100\n",
      "14/14 [==============================] - 2s 165ms/step - loss: 0.4292 - masked_acc: 0.7719 - masked_auc: 0.8211 - val_loss: 0.4540 - val_masked_acc: 0.7721 - val_masked_auc: 0.8214\n",
      "Epoch 21/100\n",
      "14/14 [==============================] - 2s 166ms/step - loss: 0.4274 - masked_acc: 0.7722 - masked_auc: 0.8214 - val_loss: 0.4552 - val_masked_acc: 0.7723 - val_masked_auc: 0.8216\n",
      "Epoch 22/100\n",
      "14/14 [==============================] - 2s 168ms/step - loss: 0.4408 - masked_acc: 0.7722 - masked_auc: 0.8216 - val_loss: 0.4540 - val_masked_acc: 0.7724 - val_masked_auc: 0.8218\n",
      "Epoch 23/100\n",
      "14/14 [==============================] - 2s 164ms/step - loss: 0.4309 - masked_acc: 0.7724 - masked_auc: 0.8219 - val_loss: 0.4539 - val_masked_acc: 0.7725 - val_masked_auc: 0.8221\n",
      "Epoch 24/100\n",
      "14/14 [==============================] - 2s 167ms/step - loss: 0.4298 - masked_acc: 0.7725 - masked_auc: 0.8221 - val_loss: 0.4545 - val_masked_acc: 0.7727 - val_masked_auc: 0.8223\n",
      "Epoch 25/100\n",
      "14/14 [==============================] - 3s 181ms/step - loss: 0.4241 - masked_acc: 0.7727 - masked_auc: 0.8224 - val_loss: 0.4544 - val_masked_acc: 0.7727 - val_masked_auc: 0.8225\n",
      "28/28 [==============================] - 1s 40ms/step - loss: 0.4293 - masked_acc: 0.7730 - masked_auc: 0.8227\n",
      "4/4 [==============================] - 0s 33ms/step - loss: 0.4127 - masked_acc: 0.7729 - masked_auc: 0.8227\n",
      "Test:  [0.4126574993133545, 0.7728960514068604, 0.8227235078811646]\n",
      "Epoch 1/100\n",
      "14/14 [==============================] - 4s 216ms/step - loss: 0.5857 - masked_acc: 0.6088 - masked_auc: 0.5654 - val_loss: 0.4636 - val_masked_acc: 0.7167 - val_masked_auc: 0.7042\n",
      "Epoch 2/100\n",
      "14/14 [==============================] - 2s 165ms/step - loss: 0.4502 - masked_acc: 0.7276 - masked_auc: 0.7314 - val_loss: 0.4394 - val_masked_acc: 0.7457 - val_masked_auc: 0.7663\n",
      "Epoch 3/100\n",
      "14/14 [==============================] - 2s 168ms/step - loss: 0.4322 - masked_acc: 0.7493 - masked_auc: 0.7747 - val_loss: 0.4350 - val_masked_acc: 0.7559 - val_masked_auc: 0.7872\n",
      "Epoch 4/100\n",
      "14/14 [==============================] - 2s 168ms/step - loss: 0.4367 - masked_acc: 0.7571 - masked_auc: 0.7906 - val_loss: 0.4327 - val_masked_acc: 0.7610 - val_masked_auc: 0.7978\n",
      "Epoch 5/100\n",
      "14/14 [==============================] - 2s 164ms/step - loss: 0.4279 - masked_acc: 0.7621 - masked_auc: 0.8002 - val_loss: 0.4334 - val_masked_acc: 0.7642 - val_masked_auc: 0.8040\n",
      "Epoch 6/100\n",
      "14/14 [==============================] - 2s 167ms/step - loss: 0.4374 - masked_acc: 0.7644 - masked_auc: 0.8052 - val_loss: 0.4334 - val_masked_acc: 0.7664 - val_masked_auc: 0.8081\n",
      "Epoch 7/100\n",
      "14/14 [==============================] - 2s 172ms/step - loss: 0.4320 - masked_acc: 0.7666 - masked_auc: 0.8090 - val_loss: 0.4321 - val_masked_acc: 0.7678 - val_masked_auc: 0.8110\n",
      "Epoch 8/100\n",
      "14/14 [==============================] - 2s 164ms/step - loss: 0.4319 - masked_acc: 0.7680 - masked_auc: 0.8116 - val_loss: 0.4332 - val_masked_acc: 0.7689 - val_masked_auc: 0.8130\n",
      "Epoch 9/100\n",
      "14/14 [==============================] - 3s 183ms/step - loss: 0.4263 - masked_acc: 0.7693 - masked_auc: 0.8138 - val_loss: 0.4324 - val_masked_acc: 0.7699 - val_masked_auc: 0.8147\n",
      "Epoch 10/100\n",
      "14/14 [==============================] - 2s 176ms/step - loss: 0.4349 - masked_acc: 0.7700 - masked_auc: 0.8150 - val_loss: 0.4327 - val_masked_acc: 0.7705 - val_masked_auc: 0.8160\n",
      "Epoch 11/100\n",
      "14/14 [==============================] - 2s 167ms/step - loss: 0.4263 - masked_acc: 0.7708 - masked_auc: 0.8164 - val_loss: 0.4334 - val_masked_acc: 0.7711 - val_masked_auc: 0.8170\n",
      "Epoch 12/100\n",
      "14/14 [==============================] - 2s 166ms/step - loss: 0.4301 - masked_acc: 0.7712 - masked_auc: 0.8173 - val_loss: 0.4327 - val_masked_acc: 0.7716 - val_masked_auc: 0.8179\n",
      "Epoch 13/100\n",
      "14/14 [==============================] - 3s 184ms/step - loss: 0.4284 - masked_acc: 0.7717 - masked_auc: 0.8181 - val_loss: 0.4329 - val_masked_acc: 0.7721 - val_masked_auc: 0.8186\n",
      "Epoch 14/100\n",
      "14/14 [==============================] - 2s 169ms/step - loss: 0.4300 - masked_acc: 0.7721 - masked_auc: 0.8188 - val_loss: 0.4331 - val_masked_acc: 0.7723 - val_masked_auc: 0.8192\n",
      "Epoch 15/100\n",
      "14/14 [==============================] - 2s 169ms/step - loss: 0.4351 - masked_acc: 0.7723 - masked_auc: 0.8192 - val_loss: 0.4325 - val_masked_acc: 0.7726 - val_masked_auc: 0.8197\n",
      "Epoch 16/100\n",
      "14/14 [==============================] - 2s 167ms/step - loss: 0.4281 - masked_acc: 0.7726 - masked_auc: 0.8199 - val_loss: 0.4336 - val_masked_acc: 0.7728 - val_masked_auc: 0.8202\n",
      "Epoch 17/100\n",
      "14/14 [==============================] - 2s 165ms/step - loss: 0.4307 - masked_acc: 0.7729 - masked_auc: 0.8202 - val_loss: 0.4331 - val_masked_acc: 0.7731 - val_masked_auc: 0.8206\n",
      "28/28 [==============================] - 1s 42ms/step - loss: 0.4295 - masked_acc: 0.7735 - masked_auc: 0.8210\n",
      "4/4 [==============================] - 0s 32ms/step - loss: 0.4338 - masked_acc: 0.7733 - masked_auc: 0.8211\n",
      "Test:  [0.433781236410141, 0.7733038663864136, 0.8210891485214233]\n",
      "Epoch 1/100\n",
      "14/14 [==============================] - 5s 226ms/step - loss: 0.6126 - masked_acc: 0.5439 - masked_auc: 0.5241 - val_loss: 0.4858 - val_masked_acc: 0.7027 - val_masked_auc: 0.6833\n",
      "Epoch 2/100\n",
      "14/14 [==============================] - 2s 164ms/step - loss: 0.4580 - masked_acc: 0.7152 - masked_auc: 0.7146 - val_loss: 0.4540 - val_masked_acc: 0.7367 - val_masked_auc: 0.7566\n",
      "Epoch 3/100\n",
      "14/14 [==============================] - 2s 167ms/step - loss: 0.4301 - masked_acc: 0.7414 - masked_auc: 0.7667 - val_loss: 0.4537 - val_masked_acc: 0.7493 - val_masked_auc: 0.7809\n",
      "Epoch 4/100\n",
      "14/14 [==============================] - 3s 187ms/step - loss: 0.4312 - masked_acc: 0.7512 - masked_auc: 0.7851 - val_loss: 0.4510 - val_masked_acc: 0.7556 - val_masked_auc: 0.7930\n",
      "Epoch 5/100\n",
      "14/14 [==============================] - 2s 170ms/step - loss: 0.4224 - masked_acc: 0.7571 - masked_auc: 0.7954 - val_loss: 0.4511 - val_masked_acc: 0.7593 - val_masked_auc: 0.8001\n",
      "Epoch 6/100\n",
      "14/14 [==============================] - 2s 162ms/step - loss: 0.4334 - masked_acc: 0.7598 - masked_auc: 0.8013 - val_loss: 0.4511 - val_masked_acc: 0.7620 - val_masked_auc: 0.8049\n",
      "Epoch 7/100\n",
      "14/14 [==============================] - 2s 168ms/step - loss: 0.4276 - masked_acc: 0.7625 - masked_auc: 0.8059 - val_loss: 0.4509 - val_masked_acc: 0.7639 - val_masked_auc: 0.8083\n",
      "Epoch 8/100\n",
      "14/14 [==============================] - 2s 167ms/step - loss: 0.4342 - masked_acc: 0.7642 - masked_auc: 0.8091 - val_loss: 0.4509 - val_masked_acc: 0.7653 - val_masked_auc: 0.8108\n",
      "Epoch 9/100\n",
      "14/14 [==============================] - 2s 164ms/step - loss: 0.4299 - masked_acc: 0.7655 - masked_auc: 0.8114 - val_loss: 0.4508 - val_masked_acc: 0.7664 - val_masked_auc: 0.8127\n",
      "Epoch 10/100\n",
      "14/14 [==============================] - 2s 165ms/step - loss: 0.4295 - masked_acc: 0.7666 - masked_auc: 0.8132 - val_loss: 0.4505 - val_masked_acc: 0.7673 - val_masked_auc: 0.8142\n",
      "Epoch 11/100\n",
      "14/14 [==============================] - 2s 164ms/step - loss: 0.4288 - masked_acc: 0.7675 - masked_auc: 0.8147 - val_loss: 0.4507 - val_masked_acc: 0.7680 - val_masked_auc: 0.8155\n",
      "Epoch 12/100\n",
      "14/14 [==============================] - 2s 167ms/step - loss: 0.4278 - masked_acc: 0.7681 - masked_auc: 0.8157 - val_loss: 0.4510 - val_masked_acc: 0.7686 - val_masked_auc: 0.8165\n",
      "Epoch 13/100\n",
      "14/14 [==============================] - 2s 162ms/step - loss: 0.4335 - masked_acc: 0.7686 - masked_auc: 0.8167 - val_loss: 0.4512 - val_masked_acc: 0.7692 - val_masked_auc: 0.8173\n",
      "Epoch 14/100\n",
      "14/14 [==============================] - 2s 170ms/step - loss: 0.4283 - masked_acc: 0.7692 - masked_auc: 0.8176 - val_loss: 0.4520 - val_masked_acc: 0.7695 - val_masked_auc: 0.8181\n",
      "Epoch 15/100\n",
      "14/14 [==============================] - 2s 173ms/step - loss: 0.4263 - masked_acc: 0.7696 - masked_auc: 0.8182 - val_loss: 0.4509 - val_masked_acc: 0.7699 - val_masked_auc: 0.8187\n",
      "Epoch 16/100\n",
      "14/14 [==============================] - 2s 173ms/step - loss: 0.4317 - masked_acc: 0.7699 - masked_auc: 0.8188 - val_loss: 0.4512 - val_masked_acc: 0.7702 - val_masked_auc: 0.8193\n",
      "Epoch 17/100\n",
      "14/14 [==============================] - 2s 172ms/step - loss: 0.4285 - masked_acc: 0.7703 - masked_auc: 0.8194 - val_loss: 0.4508 - val_masked_acc: 0.7706 - val_masked_auc: 0.8198\n",
      "Epoch 18/100\n",
      "14/14 [==============================] - 3s 184ms/step - loss: 0.4290 - masked_acc: 0.7706 - masked_auc: 0.8199 - val_loss: 0.4511 - val_masked_acc: 0.7708 - val_masked_auc: 0.8203\n",
      "Epoch 19/100\n",
      "14/14 [==============================] - 2s 164ms/step - loss: 0.4281 - masked_acc: 0.7708 - masked_auc: 0.8204 - val_loss: 0.4508 - val_masked_acc: 0.7711 - val_masked_auc: 0.8207\n",
      "Epoch 20/100\n",
      "14/14 [==============================] - 2s 170ms/step - loss: 0.4344 - masked_acc: 0.7710 - masked_auc: 0.8208 - val_loss: 0.4513 - val_masked_acc: 0.7713 - val_masked_auc: 0.8211\n",
      "28/28 [==============================] - 1s 43ms/step - loss: 0.4283 - masked_acc: 0.7717 - masked_auc: 0.8215\n",
      "4/4 [==============================] - 0s 33ms/step - loss: 0.4216 - masked_acc: 0.7715 - masked_auc: 0.8214\n",
      "Test:  [0.42164158821105957, 0.7715258598327637, 0.821415901184082]\n"
     ]
    }
   ],
   "source": [
    "# 5 fold cross validation with LSTM-based model\n",
    "import torch\n",
    "X = np.array(grouped_data.keys())\n",
    "kfold = KFold(n_splits=5, shuffle=True)\n",
    "train_losses = list()\n",
    "train_aucs = list()\n",
    "val_losses = list()\n",
    "val_aucs = list()\n",
    "train_eval = list()\n",
    "test_eval = list()\n",
    "for train, test in kfold.split(X):\n",
    "    users_train, users_test =  X[train], X[test]\n",
    "    n = len(users_test)//2\n",
    "    users_test, users_val = users_test[:n], users_test[n: ]\n",
    "    train_data_space = SPACE_DATASET(grouped_data[users_train], MAXLENGTH)\n",
    "    val_data_space = SPACE_DATASET(grouped_data[users_val], MAXLENGTH)\n",
    "    test_data_space = SPACE_DATASET(grouped_data[users_test], MAXLENGTH)\n",
    "    #construct training input\n",
    "    train_chapter=[]\n",
    "    train_sub_chapter=[]\n",
    "    train_question = []\n",
    "    train_features=[]\n",
    "    train_shifted_t = []\n",
    "    train_labels=[]\n",
    "    for i in range(len(users_train)):\n",
    "        user = train_data_space.__getitem__(i)\n",
    "        train_chapter.append(user[0])\n",
    "        train_sub_chapter.append(user[1]) \n",
    "        train_question.append(user[2])\n",
    "        train_features.append(user[3])\n",
    "        train_shifted_t.append(user[4])\n",
    "        train_labels.append(user[5])\n",
    "    train_chapter = np.array(train_chapter)\n",
    "    train_sub_chapter = np.array(train_sub_chapter)\n",
    "    train_question = np.array(train_question)\n",
    "    train_features = np.array(train_features)\n",
    "    train_shifted_t = np.array(train_shifted_t)\n",
    "    train_labels= np.array(train_labels)[..., np.newaxis]\n",
    "\n",
    "    #construct validation input\n",
    "    val_chapter=[]\n",
    "    val_sub_chapter=[]\n",
    "    val_question = []\n",
    "    val_features=[]\n",
    "    val_shifted_t = []\n",
    "    val_labels=[]\n",
    "    for i in range(len(users_val)):\n",
    "        user = val_data_space.__getitem__(i)\n",
    "        val_chapter.append(user[0])\n",
    "        val_sub_chapter.append(user[1]) \n",
    "        val_question.append(user[2])\n",
    "        val_features.append(user[3])\n",
    "        val_shifted_t.append(user[4])\n",
    "        val_labels.append(user[5])\n",
    "    val_chapter = np.array(val_chapter)\n",
    "    val_sub_chapter = np.array(val_sub_chapter)\n",
    "    val_features = np.array(val_features)\n",
    "    val_question = np.array(val_question)\n",
    "    val_shifted_t = np.array(val_shifted_t)\n",
    "    val_labels= np.array(val_labels)[..., np.newaxis]\n",
    "\n",
    "    # construct test input\n",
    "    test_chapter=[]\n",
    "    test_sub_chapter=[]\n",
    "    test_features=[]\n",
    "    test_question=[]\n",
    "    test_shifted_t = []\n",
    "    test_labels=[]\n",
    "    for i in range(len(users_test)):\n",
    "        user = test_data_space.__getitem__(i)\n",
    "        test_chapter.append(user[0])\n",
    "        test_sub_chapter.append(user[1]) \n",
    "        test_question.append(user[2])\n",
    "        test_features.append(user[3])\n",
    "        test_shifted_t.append(user[4])\n",
    "        test_labels.append(user[5])\n",
    "    test_chapter = np.array(test_chapter)\n",
    "    test_sub_chapter = np.array(test_sub_chapter)\n",
    "    test_features = np.array(test_features)\n",
    "    test_question = np.array(test_question)\n",
    "    test_shifted_t = np.array(test_shifted_t)\n",
    "    test_labels= np.array(test_labels)[..., np.newaxis]\n",
    "\n",
    "    # define loss function and evaluation metrics\n",
    "    bce = tf.keras.losses.BinaryCrossentropy(from_logits=True)\n",
    "    acc = tf.keras.metrics.Accuracy()\n",
    "    auc = tf.keras.metrics.AUC()\n",
    "\n",
    "    def masked_bce(y_true, y_pred):\n",
    "      flat_pred = y_pred\n",
    "      flat_ground_truth = y_true\n",
    "      label_mask = tf.math.not_equal(flat_ground_truth, -1)\n",
    "      return bce(flat_ground_truth, flat_pred, sample_weight=label_mask)\n",
    "\n",
    "    def masked_acc(y_true, y_pred):\n",
    "      flat_pred = y_pred\n",
    "      flat_ground_truth = y_true\n",
    "      flat_pred = (flat_pred >= 0.5)\n",
    "      label_mask = tf.math.not_equal(flat_ground_truth, -1)\n",
    "      return acc(flat_ground_truth, flat_pred, sample_weight=label_mask)\n",
    "\n",
    "    def masked_auc(y_true, y_pred):\n",
    "      flat_pred = y_pred\n",
    "      flat_ground_truth = y_true\n",
    "      label_mask = tf.math.not_equal(flat_ground_truth, -1)\n",
    "      return auc(flat_ground_truth, flat_pred, sample_weight=label_mask)\n",
    "\n",
    "    # input layer\n",
    "    input_chap = tf.keras.Input(shape=(MAXLENGTH))\n",
    "    input_sub_chap = tf.keras.Input(shape=(MAXLENGTH))\n",
    "    input_ques =  tf.keras.Input(shape=(MAXLENGTH))\n",
    "    input_shifted = tf.keras.Input(shape=(MAXLENGTH))\n",
    "    input_features = tf.keras.Input(shape=(MAXLENGTH, FEATURES_SIZE))\n",
    "\n",
    "    # embedding layer for categorical features\n",
    "    embedding_chap = Embedding(input_dim = CHAPTER_SIZE, output_dim = EMBEDDING_DIM)(input_chap)\n",
    "    embedding_sub_chap = Embedding(input_dim = SUB_CHAPTER_SIZE, output_dim = EMBEDDING_DIM)(input_sub_chap) \n",
    "    embedding_ques = Embedding(input_dim = QUESTION_SIZE, output_dim = EMBEDDING_DIM)(input_ques)       \n",
    "    embedding_shifted = Embedding(input_dim = 3, output_dim = EMBEDDING_DIM)(input_shifted)\n",
    "    # dense layer for numeric features\n",
    "    dense_features = Dense(EMBEDDING_DIM,input_shape = (None, MAXLENGTH))(input_features)\n",
    "    \n",
    "    output = tf.concat([embedding_chap, embedding_sub_chap, embedding_ques, embedding_shifted, dense_features], axis = 2)\n",
    "\n",
    "    pred = Dense(1, input_shape = (None, 5*EMBEDDING_DIM), activation='sigmoid')(output)\n",
    "\n",
    "    model = tf.keras.Model(\n",
    "        inputs=[input_chap, input_sub_chap,input_ques, input_shifted, input_features],\n",
    "        outputs=pred,\n",
    "        name='logistic_regression'\n",
    "    )\n",
    "\n",
    "    callback = tf.keras.callbacks.EarlyStopping(monitor='val_loss', patience=10)\n",
    "    opt_adam = Adam(learning_rate = 0.005)\n",
    "    model.compile(\n",
    "        optimizer=opt_adam,\n",
    "        loss= masked_bce,\n",
    "        metrics = [masked_acc, masked_auc]\n",
    "    )\n",
    "\n",
    "    history = model.fit(\n",
    "      [train_chapter, train_sub_chapter, train_question, train_shifted_t, train_features],\n",
    "      train_labels,\n",
    "      batch_size = 64,\n",
    "      epochs = 100,\n",
    "      validation_data=([val_chapter, val_sub_chapter, val_question, val_shifted_t, val_features], val_labels),\n",
    "      callbacks=[callback]\n",
    "    )\n",
    "    val_losses.append(list(history.history['val_loss']))\n",
    "    train_losses.append(list(history.history['loss']))\n",
    "    val_aucs.append(list(history.history['val_masked_auc']))\n",
    "    train_aucs.append(list(history.history['masked_auc']))\n",
    "    train_score = model.evaluate([train_chapter, train_sub_chapter, train_question, train_shifted_t, train_features], train_labels)\n",
    "    train_eval.append(train_score)\n",
    "    test_score = model.evaluate([test_chapter, test_sub_chapter, test_question, test_shifted_t, test_features], test_labels)\n",
    "    test_eval.append(test_score)\n",
    "    print(\"Test: \", test_score)\n",
    "    def reset_weights(model):\n",
    "      for layer in model.layers: \n",
    "        if isinstance(layer, tf.keras.Model):\n",
    "          reset_weights(layer)\n",
    "          continue\n",
    "        for k, initializer in layer.__dict__.items():\n",
    "          if \"initializer\" not in k:\n",
    "            continue\n",
    "          # find the corresponding variable\n",
    "          var = getattr(layer, k.replace(\"_initializer\", \"\"))\n",
    "          var.assign(initializer(var.shape, var.dtype))\n",
    "    reset_weights(model)"
   ]
  },
  {
   "cell_type": "code",
   "execution_count": 31,
   "metadata": {
    "execution": {
     "iopub.execute_input": "2021-08-08T13:51:49.823125Z",
     "iopub.status.busy": "2021-08-08T13:51:49.822255Z",
     "iopub.status.idle": "2021-08-08T13:51:49.832375Z",
     "shell.execute_reply": "2021-08-08T13:51:49.833225Z",
     "shell.execute_reply.started": "2021-08-06T21:11:24.771838Z"
    },
    "id": "QsVmumHMz3lx",
    "outputId": "4ff1e2fa-6abb-458e-c729-495b456f53e5",
    "papermill": {
     "duration": 0.887247,
     "end_time": "2021-08-08T13:51:49.833553",
     "exception": false,
     "start_time": "2021-08-08T13:51:48.946306",
     "status": "completed"
    },
    "tags": []
   },
   "outputs": [
    {
     "name": "stdout",
     "output_type": "stream",
     "text": [
      "test avg loss:  0.4240223169326782 +/- 0.006904241508673283\n",
      "test avg acc:  0.7726859450340271 +/- 0.0007384985391834134\n",
      "test avg auc:  0.8218131065368652 +/- 0.0007503681015450951\n"
     ]
    }
   ],
   "source": [
    "t_eval = np.array(test_eval)\n",
    "print(\"test avg loss: \", np.mean(t_eval[:, 0]), \"+/-\" ,np.std(t_eval[:, 0]))\n",
    "print(\"test avg acc: \", np.mean(t_eval[:, 1]),  \"+/-\" ,np.std(t_eval[:, 1]))\n",
    "print(\"test avg auc: \", np.mean(t_eval[:, 2]), \"+/-\" ,np.std(t_eval[:, 2]))"
   ]
  },
  {
   "cell_type": "code",
   "execution_count": 32,
   "metadata": {
    "execution": {
     "iopub.execute_input": "2021-08-08T13:51:51.575285Z",
     "iopub.status.busy": "2021-08-08T13:51:51.574567Z",
     "iopub.status.idle": "2021-08-08T13:51:51.584242Z",
     "shell.execute_reply": "2021-08-08T13:51:51.584770Z",
     "shell.execute_reply.started": "2021-08-06T21:11:24.782922Z"
    },
    "id": "b9MM_CXWz5K6",
    "outputId": "4cf88e1d-3a74-4e7d-f92c-d01522e91757",
    "papermill": {
     "duration": 0.881861,
     "end_time": "2021-08-08T13:51:51.584981",
     "exception": false,
     "start_time": "2021-08-08T13:51:50.703120",
     "status": "completed"
    },
    "tags": []
   },
   "outputs": [
    {
     "name": "stdout",
     "output_type": "stream",
     "text": [
      "train avg loss:  0.4290452539920807 +/- 0.0005331037867287602\n",
      "train avg acc:  0.7728045105934143 +/- 0.0007435829651295684\n",
      "train avg auc:  0.8217924237251282 +/- 0.0007795301527775173\n"
     ]
    }
   ],
   "source": [
    "t_eval = np.array(train_eval)\n",
    "print(\"train avg loss: \", np.mean(t_eval[:, 0]), \"+/-\" ,np.std(t_eval[:, 0]))\n",
    "print(\"train avg acc: \", np.mean(t_eval[:, 1]),  \"+/-\" ,np.std(t_eval[:, 1]))\n",
    "print(\"train avg auc: \", np.mean(t_eval[:, 2]), \"+/-\" ,np.std(t_eval[:, 2]))"
   ]
  }
 ],
 "metadata": {
  "kernelspec": {
   "display_name": "Python 3",
   "language": "python",
   "name": "python3"
  },
  "language_info": {
   "codemirror_mode": {
    "name": "ipython",
    "version": 3
   },
   "file_extension": ".py",
   "mimetype": "text/x-python",
   "name": "python",
   "nbconvert_exporter": "python",
   "pygments_lexer": "ipython3",
   "version": "3.8.5"
  },
  "papermill": {
   "default_parameters": {},
   "duration": 830.541538,
   "end_time": "2021-08-08T13:51:55.533544",
   "environment_variables": {},
   "exception": null,
   "input_path": "__notebook__.ipynb",
   "output_path": "__notebook__.ipynb",
   "parameters": {},
   "start_time": "2021-08-08T13:38:04.992006",
   "version": "2.3.3"
  }
 },
 "nbformat": 4,
 "nbformat_minor": 5
}
