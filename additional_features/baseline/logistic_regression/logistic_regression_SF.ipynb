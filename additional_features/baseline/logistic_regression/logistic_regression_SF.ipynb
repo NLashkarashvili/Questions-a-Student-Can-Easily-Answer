{
 "cells": [
  {
   "cell_type": "code",
   "execution_count": 1,
   "metadata": {
    "execution": {
     "iopub.execute_input": "2021-08-08T17:12:31.182993Z",
     "iopub.status.busy": "2021-08-08T17:12:31.182173Z",
     "iopub.status.idle": "2021-08-08T17:12:38.533081Z",
     "shell.execute_reply": "2021-08-08T17:12:38.532386Z",
     "shell.execute_reply.started": "2021-08-06T21:05:15.103244Z"
    },
    "id": "farifxiKU1aB",
    "papermill": {
     "duration": 7.399059,
     "end_time": "2021-08-08T17:12:38.533254",
     "exception": false,
     "start_time": "2021-08-08T17:12:31.134195",
     "status": "completed"
    },
    "tags": []
   },
   "outputs": [],
   "source": [
    "import numpy as np\n",
    "import pandas as pd\n",
    "import warnings\n",
    "import gc\n",
    "import tensorflow as tf\n",
    "from tensorflow import keras\n",
    "\n",
    "import random\n",
    "from random import choice\n",
    "from tensorflow.keras.optimizers import Adam\n",
    "from tensorflow.keras.models import Sequential \n",
    "from tensorflow.keras.layers import Dense, GRU, Concatenate, Embedding, Flatten, Activation, Dropout\n",
    "from sklearn.model_selection import KFold\n",
    "from tensorflow.python.client import device_lib\n",
    "warnings.filterwarnings('ignore')\n",
    "import random"
   ]
  },
  {
   "cell_type": "code",
   "execution_count": 2,
   "metadata": {
    "execution": {
     "iopub.execute_input": "2021-08-08T17:12:38.595210Z",
     "iopub.status.busy": "2021-08-08T17:12:38.594097Z",
     "iopub.status.idle": "2021-08-08T17:12:38.596218Z",
     "shell.execute_reply": "2021-08-08T17:12:38.596776Z",
     "shell.execute_reply.started": "2021-08-06T21:05:15.117334Z"
    },
    "id": "QOson70GPOXb",
    "papermill": {
     "duration": 0.035447,
     "end_time": "2021-08-08T17:12:38.596957",
     "exception": false,
     "start_time": "2021-08-08T17:12:38.561510",
     "status": "completed"
    },
    "tags": []
   },
   "outputs": [],
   "source": [
    "import gc"
   ]
  },
  {
   "cell_type": "markdown",
   "metadata": {
    "id": "BQsVybBH3VPw",
    "papermill": {
     "duration": 0.027565,
     "end_time": "2021-08-08T17:12:38.653264",
     "exception": false,
     "start_time": "2021-08-08T17:12:38.625699",
     "status": "completed"
    },
    "tags": []
   },
   "source": [
    "## Data Preprocessing"
   ]
  },
  {
   "cell_type": "code",
   "execution_count": 3,
   "metadata": {
    "execution": {
     "iopub.execute_input": "2021-08-08T17:12:38.711935Z",
     "iopub.status.busy": "2021-08-08T17:12:38.711318Z",
     "iopub.status.idle": "2021-08-08T17:12:45.102522Z",
     "shell.execute_reply": "2021-08-08T17:12:45.101194Z",
     "shell.execute_reply.started": "2021-08-06T21:05:15.141773Z"
    },
    "id": "rwtTusGxrmAE",
    "outputId": "1430f3cf-038b-485e-b5c4-c1686b1f34fd",
    "papermill": {
     "duration": 6.421711,
     "end_time": "2021-08-08T17:12:45.102699",
     "exception": false,
     "start_time": "2021-08-08T17:12:38.680988",
     "status": "completed"
    },
    "tags": []
   },
   "outputs": [
    {
     "data": {
      "text/html": [
       "<div>\n",
       "<style scoped>\n",
       "    .dataframe tbody tr th:only-of-type {\n",
       "        vertical-align: middle;\n",
       "    }\n",
       "\n",
       "    .dataframe tbody tr th {\n",
       "        vertical-align: top;\n",
       "    }\n",
       "\n",
       "    .dataframe thead th {\n",
       "        text-align: right;\n",
       "    }\n",
       "</style>\n",
       "<table border=\"1\" class=\"dataframe\">\n",
       "  <thead>\n",
       "    <tr style=\"text-align: right;\">\n",
       "      <th></th>\n",
       "      <th>Unnamed: 0</th>\n",
       "      <th>chapter_label</th>\n",
       "      <th>sub_chapter_label</th>\n",
       "      <th>question_name</th>\n",
       "      <th>user_id.x</th>\n",
       "      <th>term</th>\n",
       "      <th>STDNT_SEX_CD</th>\n",
       "      <th>NonNativeEnglish</th>\n",
       "      <th>White</th>\n",
       "      <th>Asian</th>\n",
       "      <th>...</th>\n",
       "      <th>classGraded</th>\n",
       "      <th>classHonors</th>\n",
       "      <th>Pass_Fail</th>\n",
       "      <th>parentsGraduateEdu</th>\n",
       "      <th>minorityGroup</th>\n",
       "      <th>q</th>\n",
       "      <th>day's_available_flashcards</th>\n",
       "      <th>start_practice</th>\n",
       "      <th>end_practice</th>\n",
       "      <th>days_offset</th>\n",
       "    </tr>\n",
       "  </thead>\n",
       "  <tbody>\n",
       "    <tr>\n",
       "      <th>0</th>\n",
       "      <td>1</td>\n",
       "      <td>Sort</td>\n",
       "      <td>intro-SortingwithSortandSorted</td>\n",
       "      <td>ee_sort_04</td>\n",
       "      <td>148</td>\n",
       "      <td>WN 2018</td>\n",
       "      <td>1</td>\n",
       "      <td>0</td>\n",
       "      <td>1</td>\n",
       "      <td>0</td>\n",
       "      <td>...</td>\n",
       "      <td>1</td>\n",
       "      <td>0</td>\n",
       "      <td>0</td>\n",
       "      <td>0</td>\n",
       "      <td>0</td>\n",
       "      <td>0</td>\n",
       "      <td>18</td>\n",
       "      <td>2018-03-04 20:00:19</td>\n",
       "      <td>2018-03-04 20:00:35</td>\n",
       "      <td>45</td>\n",
       "    </tr>\n",
       "    <tr>\n",
       "      <th>1</th>\n",
       "      <td>2</td>\n",
       "      <td>Functions</td>\n",
       "      <td>Returningavaluefromafunction</td>\n",
       "      <td>test_questionfunctions_2_3</td>\n",
       "      <td>148</td>\n",
       "      <td>WN 2018</td>\n",
       "      <td>1</td>\n",
       "      <td>0</td>\n",
       "      <td>1</td>\n",
       "      <td>0</td>\n",
       "      <td>...</td>\n",
       "      <td>1</td>\n",
       "      <td>0</td>\n",
       "      <td>0</td>\n",
       "      <td>0</td>\n",
       "      <td>0</td>\n",
       "      <td>4</td>\n",
       "      <td>16</td>\n",
       "      <td>2018-02-10 11:57:55</td>\n",
       "      <td>2018-02-10 11:58:35</td>\n",
       "      <td>23</td>\n",
       "    </tr>\n",
       "    <tr>\n",
       "      <th>2</th>\n",
       "      <td>3</td>\n",
       "      <td>RESTAPIs</td>\n",
       "      <td>functionswithrestapis</td>\n",
       "      <td>test_question_functions_rest_apis_1</td>\n",
       "      <td>148</td>\n",
       "      <td>WN 2018</td>\n",
       "      <td>1</td>\n",
       "      <td>0</td>\n",
       "      <td>1</td>\n",
       "      <td>0</td>\n",
       "      <td>...</td>\n",
       "      <td>1</td>\n",
       "      <td>0</td>\n",
       "      <td>0</td>\n",
       "      <td>0</td>\n",
       "      <td>0</td>\n",
       "      <td>1</td>\n",
       "      <td>2</td>\n",
       "      <td>2018-03-12 17:03:07</td>\n",
       "      <td>2018-03-12 17:04:28</td>\n",
       "      <td>53</td>\n",
       "    </tr>\n",
       "    <tr>\n",
       "      <th>3</th>\n",
       "      <td>4</td>\n",
       "      <td>SimplePythonData</td>\n",
       "      <td>FunctionCalls</td>\n",
       "      <td>exercise_functionCalls_1</td>\n",
       "      <td>148</td>\n",
       "      <td>WN 2018</td>\n",
       "      <td>1</td>\n",
       "      <td>0</td>\n",
       "      <td>1</td>\n",
       "      <td>0</td>\n",
       "      <td>...</td>\n",
       "      <td>1</td>\n",
       "      <td>0</td>\n",
       "      <td>0</td>\n",
       "      <td>0</td>\n",
       "      <td>0</td>\n",
       "      <td>0</td>\n",
       "      <td>10</td>\n",
       "      <td>2018-01-30 14:15:49</td>\n",
       "      <td>2018-01-30 14:15:58</td>\n",
       "      <td>12</td>\n",
       "    </tr>\n",
       "    <tr>\n",
       "      <th>4</th>\n",
       "      <td>5</td>\n",
       "      <td>DictionaryAccumulation</td>\n",
       "      <td>AccumulatingaMaximumValue</td>\n",
       "      <td>ps_04_07</td>\n",
       "      <td>148</td>\n",
       "      <td>WN 2018</td>\n",
       "      <td>1</td>\n",
       "      <td>0</td>\n",
       "      <td>1</td>\n",
       "      <td>0</td>\n",
       "      <td>...</td>\n",
       "      <td>1</td>\n",
       "      <td>0</td>\n",
       "      <td>0</td>\n",
       "      <td>0</td>\n",
       "      <td>0</td>\n",
       "      <td>0</td>\n",
       "      <td>23</td>\n",
       "      <td>2018-03-03 14:04:17</td>\n",
       "      <td>2018-03-03 14:04:25</td>\n",
       "      <td>44</td>\n",
       "    </tr>\n",
       "  </tbody>\n",
       "</table>\n",
       "<p>5 rows × 48 columns</p>\n",
       "</div>"
      ],
      "text/plain": [
       "   Unnamed: 0           chapter_label               sub_chapter_label  \\\n",
       "0           1                    Sort  intro-SortingwithSortandSorted   \n",
       "1           2               Functions    Returningavaluefromafunction   \n",
       "2           3                RESTAPIs           functionswithrestapis   \n",
       "3           4        SimplePythonData                   FunctionCalls   \n",
       "4           5  DictionaryAccumulation       AccumulatingaMaximumValue   \n",
       "\n",
       "                         question_name  user_id.x     term  STDNT_SEX_CD  \\\n",
       "0                           ee_sort_04        148  WN 2018             1   \n",
       "1           test_questionfunctions_2_3        148  WN 2018             1   \n",
       "2  test_question_functions_rest_apis_1        148  WN 2018             1   \n",
       "3             exercise_functionCalls_1        148  WN 2018             1   \n",
       "4                             ps_04_07        148  WN 2018             1   \n",
       "\n",
       "   NonNativeEnglish  White  Asian  ...  classGraded  classHonors  Pass_Fail  \\\n",
       "0                 0      1      0  ...            1            0          0   \n",
       "1                 0      1      0  ...            1            0          0   \n",
       "2                 0      1      0  ...            1            0          0   \n",
       "3                 0      1      0  ...            1            0          0   \n",
       "4                 0      1      0  ...            1            0          0   \n",
       "\n",
       "   parentsGraduateEdu  minorityGroup  q  day's_available_flashcards  \\\n",
       "0                   0              0  0                          18   \n",
       "1                   0              0  4                          16   \n",
       "2                   0              0  1                           2   \n",
       "3                   0              0  0                          10   \n",
       "4                   0              0  0                          23   \n",
       "\n",
       "        start_practice         end_practice  days_offset  \n",
       "0  2018-03-04 20:00:19  2018-03-04 20:00:35           45  \n",
       "1  2018-02-10 11:57:55  2018-02-10 11:58:35           23  \n",
       "2  2018-03-12 17:03:07  2018-03-12 17:04:28           53  \n",
       "3  2018-01-30 14:15:49  2018-01-30 14:15:58           12  \n",
       "4  2018-03-03 14:04:17  2018-03-03 14:04:25           44  \n",
       "\n",
       "[5 rows x 48 columns]"
      ]
     },
     "execution_count": 3,
     "metadata": {},
     "output_type": "execute_result"
    }
   ],
   "source": [
    "# load the data\n",
    "import pandas as pd\n",
    "dataframe = pd.read_csv('../input/practice-log-demographics/Practice_Log_Demographics (1).csv', low_memory=False)\n",
    "dataframe.head()"
   ]
  },
  {
   "cell_type": "code",
   "execution_count": 4,
   "metadata": {
    "execution": {
     "iopub.execute_input": "2021-08-08T17:12:45.231662Z",
     "iopub.status.busy": "2021-08-08T17:12:45.230712Z",
     "iopub.status.idle": "2021-08-08T17:12:46.924041Z",
     "shell.execute_reply": "2021-08-08T17:12:46.923436Z",
     "shell.execute_reply.started": "2021-08-06T21:05:19.576072Z"
    },
    "id": "OCbHnEp_Vir0",
    "papermill": {
     "duration": 1.79061,
     "end_time": "2021-08-08T17:12:46.924187",
     "exception": false,
     "start_time": "2021-08-08T17:12:45.133577",
     "status": "completed"
    },
    "tags": []
   },
   "outputs": [],
   "source": [
    "#sort data based on timestamp\n",
    "dataframe = dataframe.sort_values(by=['start_practice']).reset_index(drop=True)"
   ]
  },
  {
   "cell_type": "code",
   "execution_count": 5,
   "metadata": {
    "execution": {
     "iopub.execute_input": "2021-08-08T17:12:46.990995Z",
     "iopub.status.busy": "2021-08-08T17:12:46.990119Z",
     "iopub.status.idle": "2021-08-08T17:12:46.993130Z",
     "shell.execute_reply": "2021-08-08T17:12:46.992613Z",
     "shell.execute_reply.started": "2021-08-06T21:05:21.039874Z"
    },
    "id": "0RvF7BvEr98o",
    "papermill": {
     "duration": 0.039723,
     "end_time": "2021-08-08T17:12:46.993280",
     "exception": false,
     "start_time": "2021-08-08T17:12:46.953557",
     "status": "completed"
    },
    "tags": []
   },
   "outputs": [],
   "source": [
    "FEATURES = ['chapter_label', 'sub_chapter_label','question_name','user_id','term',\n",
    "            'STDNT_SEX_CD', \n",
    "            'NonNativeEnglish',\n",
    "            'White',\n",
    "            'Asian',\n",
    "            'WhiteOrAsian',\n",
    "            'Hispanic',\n",
    "            'AfricanAmerican',\n",
    "            'OtherEthnicities',\n",
    "            'NonWhiteOrAsian',\n",
    "            'STDNT_CTZN_STAT_CD', 'international', \n",
    "            'gradingType',\n",
    "            'birthYear',\n",
    "            'exclClassCumGPA',\n",
    "            'Freshman',\n",
    "            'Junior',\n",
    "            'Sophomore',\n",
    "            'Senior',\n",
    "            'termCreditsGPA',\n",
    "            'termCreditsNoGPA',\n",
    "            'athlete_1',\n",
    "            'honorsPro',\n",
    "            'LSA', 'programBusiness', 'programEngineering', \n",
    "            'programInformation', 'programOther',\n",
    "            'HSCalculusTaken', \n",
    "            'highSchoolGPA', \n",
    "            'majorsCount', 'minorsCount',\n",
    "            'PREV_TERM_CUM_GPA',\n",
    "            'classGraded', 'classHonors', \n",
    "            'Pass_Fail', \n",
    "            'parentsGraduateEdu',  'minorityGroup', \n",
    "            'q',\n",
    "            'available_flashcards', \n",
    "            'start_practice', \n",
    "            'end_practice',\n",
    "            'days_offset']"
   ]
  },
  {
   "cell_type": "code",
   "execution_count": 6,
   "metadata": {
    "execution": {
     "iopub.execute_input": "2021-08-08T17:12:47.057997Z",
     "iopub.status.busy": "2021-08-08T17:12:47.057309Z",
     "iopub.status.idle": "2021-08-08T17:12:47.586084Z",
     "shell.execute_reply": "2021-08-08T17:12:47.585525Z",
     "shell.execute_reply.started": "2021-08-06T21:05:21.055415Z"
    },
    "id": "Mn341X7lSztl",
    "papermill": {
     "duration": 0.562667,
     "end_time": "2021-08-08T17:12:47.586238",
     "exception": false,
     "start_time": "2021-08-08T17:12:47.023571",
     "status": "completed"
    },
    "tags": []
   },
   "outputs": [],
   "source": [
    "dataframe['available_flashcards'] = dataframe[\"day's_available_flashcards\"][:]\n",
    "dataframe = dataframe.drop([\"day's_available_flashcards\"], axis=1)\n",
    "dataframe['user_id'] = dataframe[\"user_id.x\"][:]\n",
    "dataframe = dataframe.drop([\"user_id.x\"], axis=1)"
   ]
  },
  {
   "cell_type": "code",
   "execution_count": 7,
   "metadata": {
    "execution": {
     "iopub.execute_input": "2021-08-08T17:12:47.818237Z",
     "iopub.status.busy": "2021-08-08T17:12:47.817225Z",
     "iopub.status.idle": "2021-08-08T17:12:47.823340Z",
     "shell.execute_reply": "2021-08-08T17:12:47.822822Z",
     "shell.execute_reply.started": "2021-08-06T21:05:21.632824Z"
    },
    "id": "-_BRggOjbBjN",
    "outputId": "42bff7db-08dd-48dc-a73a-d048508053b7",
    "papermill": {
     "duration": 0.206985,
     "end_time": "2021-08-08T17:12:47.823507",
     "exception": false,
     "start_time": "2021-08-08T17:12:47.616522",
     "status": "completed"
    },
    "tags": []
   },
   "outputs": [
    {
     "data": {
      "text/plain": [
       "102"
      ]
     },
     "execution_count": 7,
     "metadata": {},
     "output_type": "execute_result"
    }
   ],
   "source": [
    "gc.collect()"
   ]
  },
  {
   "cell_type": "code",
   "execution_count": 8,
   "metadata": {
    "execution": {
     "iopub.execute_input": "2021-08-08T17:12:47.888534Z",
     "iopub.status.busy": "2021-08-08T17:12:47.887801Z",
     "iopub.status.idle": "2021-08-08T17:12:48.192093Z",
     "shell.execute_reply": "2021-08-08T17:12:48.192603Z",
     "shell.execute_reply.started": "2021-08-06T21:05:21.821467Z"
    },
    "id": "lXM7MlonVeRL",
    "outputId": "d29ccec0-522f-4e3c-e0b2-39b2e1eaef74",
    "papermill": {
     "duration": 0.339492,
     "end_time": "2021-08-08T17:12:48.192790",
     "exception": false,
     "start_time": "2021-08-08T17:12:47.853298",
     "status": "completed"
    },
    "tags": []
   },
   "outputs": [
    {
     "data": {
      "text/plain": [
       "20"
      ]
     },
     "execution_count": 8,
     "metadata": {},
     "output_type": "execute_result"
    }
   ],
   "source": [
    "dataframe = dataframe[FEATURES]\n",
    "gc.collect()"
   ]
  },
  {
   "cell_type": "code",
   "execution_count": 9,
   "metadata": {
    "execution": {
     "iopub.execute_input": "2021-08-08T17:12:48.768900Z",
     "iopub.status.busy": "2021-08-08T17:12:48.768199Z",
     "iopub.status.idle": "2021-08-08T17:12:48.914364Z",
     "shell.execute_reply": "2021-08-08T17:12:48.913690Z",
     "shell.execute_reply.started": "2021-08-06T21:05:22.101727Z"
    },
    "id": "2WAFv5z3A6fK",
    "outputId": "e27abf84-ec3c-4b88-e1fb-927d94b41898",
    "papermill": {
     "duration": 0.691424,
     "end_time": "2021-08-08T17:12:48.914520",
     "exception": false,
     "start_time": "2021-08-08T17:12:48.223096",
     "status": "completed"
    },
    "tags": []
   },
   "outputs": [],
   "source": [
    "dataframe = dataframe.fillna(0)"
   ]
  },
  {
   "cell_type": "code",
   "execution_count": 10,
   "metadata": {
    "execution": {
     "iopub.execute_input": "2021-08-08T17:12:48.992382Z",
     "iopub.status.busy": "2021-08-08T17:12:48.991364Z",
     "iopub.status.idle": "2021-08-08T17:12:50.434616Z",
     "shell.execute_reply": "2021-08-08T17:12:50.433942Z",
     "shell.execute_reply.started": "2021-08-06T21:05:22.700096Z"
    },
    "id": "qRKqF_0IXZgj",
    "papermill": {
     "duration": 1.490401,
     "end_time": "2021-08-08T17:12:50.434755",
     "exception": false,
     "start_time": "2021-08-08T17:12:48.944354",
     "status": "completed"
    },
    "tags": []
   },
   "outputs": [],
   "source": [
    "#label encode term, chapter_label, question_name, sub_chapter_label columns\n",
    "dataframe['term'] = dataframe['term'].astype('category')\n",
    "dataframe['user_id'] = dataframe['user_id'].astype(int)\n",
    "dataframe['user_id'] = dataframe['user_id'].astype(str)\n",
    "dataframe['user_id'] = dataframe['term'].str.cat(dataframe['user_id'], sep=':')\n",
    "dataframe['user_id'] = dataframe['user_id'].astype('category')\n",
    "dataframe['chapter_label'] = dataframe['chapter_label'].astype('category')\n",
    "dataframe['sub_chapter_label'] = dataframe['sub_chapter_label'].astype('category')\n",
    "dataframe['question_name'] = dataframe['question_name'].astype('category')\n"
   ]
  },
  {
   "cell_type": "code",
   "execution_count": 11,
   "metadata": {
    "execution": {
     "iopub.execute_input": "2021-08-08T17:12:50.505738Z",
     "iopub.status.busy": "2021-08-08T17:12:50.504677Z",
     "iopub.status.idle": "2021-08-08T17:12:51.072112Z",
     "shell.execute_reply": "2021-08-08T17:12:51.071395Z",
     "shell.execute_reply.started": "2021-08-06T21:05:23.94285Z"
    },
    "id": "eVl_067GWkDe",
    "papermill": {
     "duration": 0.606946,
     "end_time": "2021-08-08T17:12:51.072261",
     "exception": false,
     "start_time": "2021-08-08T17:12:50.465315",
     "status": "completed"
    },
    "tags": []
   },
   "outputs": [],
   "source": [
    "#calculate time_lag and prev_time_elapsed\n",
    "dataframe['prev_time_elapsed'] = None\n",
    "dataframe['time_lag'] = None\n",
    "dataframe['time_lag'] = dataframe['time_lag'].astype(np.float)\n",
    "dataframe['prev_time_elapsed'] = dataframe['prev_time_elapsed'].astype(np.float)\n",
    "dataframe.start_practice = pd.to_datetime(dataframe.start_practice, format='%Y-%m-%d %H:%M:%S')\n",
    "dataframe.end_practice = pd.to_datetime(dataframe.end_practice, format='%Y-%m-%d %H:%M:%S')\n",
    "#calculaate answer correct\n",
    "#when q=5 and time < 1 minute\n",
    "dataframe['dif'] = dataframe.end_practice - dataframe.start_practice\n",
    "dataframe['dif'] = dataframe['dif'] /np.timedelta64(1, 's')\n",
    "dataframe['answer_correct'] = np.where((dataframe['q']==5) & (dataframe['dif'] <= 60), 1, 0)"
   ]
  },
  {
   "cell_type": "code",
   "execution_count": 12,
   "metadata": {
    "execution": {
     "iopub.execute_input": "2021-08-08T17:12:51.147562Z",
     "iopub.status.busy": "2021-08-08T17:12:51.146855Z",
     "iopub.status.idle": "2021-08-08T17:19:09.357623Z",
     "shell.execute_reply": "2021-08-08T17:19:09.358457Z",
     "shell.execute_reply.started": "2021-08-06T21:05:24.401262Z"
    },
    "id": "Xrkcn9VhWETm",
    "outputId": "fd73f3de-5f56-42a8-9539-3f3b79a5a6e2",
    "papermill": {
     "duration": 378.255131,
     "end_time": "2021-08-08T17:19:09.358683",
     "exception": false,
     "start_time": "2021-08-08T17:12:51.103552",
     "status": "completed"
    },
    "tags": []
   },
   "outputs": [
    {
     "name": "stderr",
     "output_type": "stream",
     "text": [
      "100%|██████████| 1110/1110 [06:18<00:00,  2.94it/s]\n"
     ]
    }
   ],
   "source": [
    "unique_chapts = dataframe['chapter_label'].unique()\n",
    "from tqdm import tqdm\n",
    "cnt = 0\n",
    "for user in tqdm(dataframe['user_id'].unique()):\n",
    "        for chapter in unique_chapts:\n",
    "            tmp_user = dataframe[(dataframe['user_id']==user) & (dataframe['chapter_label']==chapter)]\n",
    "            #if user doesn't answer any question from the chapter\n",
    "            if len(tmp_user) < 1:\n",
    "                continue\n",
    "            #calculate average elapsed time before the current question\n",
    "            #from its corresponding chapter\n",
    "            tmp_time_elapsed = tmp_user.end_practice - tmp_user.start_practice\n",
    "            tmp_time_elapsed = tmp_time_elapsed / np.timedelta64(1, 's')\n",
    "            tmp_time_elapsed = np.insert(np.array(tmp_time_elapsed[:-1]), 0, 0., axis=0)\n",
    "            tmp_time_elapsed = np.cumsum(tmp_time_elapsed)\n",
    "            indices = tmp_user.index\n",
    "            start_row = indices[0]\n",
    "            dataframe['time_lag'].iloc[start_row] = 0\n",
    "            for_mean = np.arange(len(tmp_user))\n",
    "            for_mean[0] = 1\n",
    "            time_substrahend = tmp_user.start_practice.iloc[:-1]\n",
    "            time_substrahend = time_substrahend.apply(lambda a: a.timestamp())\n",
    "            time_substrahend = np.array(time_substrahend)\n",
    "            \n",
    "            time_minuend = tmp_user.start_practice.iloc[1:]\n",
    "            time_minuend = time_minuend.apply(lambda a: a.timestamp())\n",
    "            time_minuend = np.array(time_minuend)\n",
    "\n",
    "            dataframe['prev_time_elapsed'].iloc[indices] = tmp_time_elapsed/for_mean\n",
    "            #calculate difference between current and last interaction\n",
    "            #from the same chapter\n",
    "            dataframe['time_lag'].iloc[indices[1:]] = time_minuend - time_substrahend\n"
   ]
  },
  {
   "cell_type": "code",
   "execution_count": 13,
   "metadata": {
    "execution": {
     "iopub.execute_input": "2021-08-08T17:19:10.158279Z",
     "iopub.status.busy": "2021-08-08T17:19:10.157606Z",
     "iopub.status.idle": "2021-08-08T17:19:10.199397Z",
     "shell.execute_reply": "2021-08-08T17:19:10.198780Z",
     "shell.execute_reply.started": "2021-08-06T21:09:42.800903Z"
    },
    "id": "8t8yZ0XvWwzz",
    "papermill": {
     "duration": 0.466622,
     "end_time": "2021-08-08T17:19:10.199575",
     "exception": false,
     "start_time": "2021-08-08T17:19:09.732953",
     "status": "completed"
    },
    "tags": []
   },
   "outputs": [],
   "source": [
    "#drop column end_practice\n",
    "dataframe.drop(columns=['end_practice'], inplace=True)"
   ]
  },
  {
   "cell_type": "code",
   "execution_count": 14,
   "metadata": {
    "execution": {
     "iopub.execute_input": "2021-08-08T17:19:10.933307Z",
     "iopub.status.busy": "2021-08-08T17:19:10.932611Z",
     "iopub.status.idle": "2021-08-08T17:19:11.406236Z",
     "shell.execute_reply": "2021-08-08T17:19:11.405690Z",
     "shell.execute_reply.started": "2021-08-06T21:09:42.889108Z"
    },
    "id": "E42raRIrYYXz",
    "papermill": {
     "duration": 0.842318,
     "end_time": "2021-08-08T17:19:11.406389",
     "exception": false,
     "start_time": "2021-08-08T17:19:10.564071",
     "status": "completed"
    },
    "tags": []
   },
   "outputs": [],
   "source": [
    "# calculate the age feature\n",
    "dataframe['term_value'] = [int(ele[3:]) for ele in dataframe['term']]\n",
    "dataframe['age'] = dataframe['term_value'] - dataframe['birthYear']"
   ]
  },
  {
   "cell_type": "code",
   "execution_count": 15,
   "metadata": {
    "execution": {
     "iopub.execute_input": "2021-08-08T17:19:12.137955Z",
     "iopub.status.busy": "2021-08-08T17:19:12.137271Z",
     "iopub.status.idle": "2021-08-08T17:19:12.352379Z",
     "shell.execute_reply": "2021-08-08T17:19:12.351702Z",
     "shell.execute_reply.started": "2021-08-06T21:09:43.322002Z"
    },
    "id": "pcMVQXueYnMh",
    "papermill": {
     "duration": 0.582338,
     "end_time": "2021-08-08T17:19:12.352539",
     "exception": false,
     "start_time": "2021-08-08T17:19:11.770201",
     "status": "completed"
    },
    "tags": []
   },
   "outputs": [],
   "source": [
    "# drop term_value and birthYear column\n",
    "dataframe.drop(columns=['term_value', 'birthYear'], inplace=True)"
   ]
  },
  {
   "cell_type": "code",
   "execution_count": 16,
   "metadata": {
    "execution": {
     "iopub.execute_input": "2021-08-08T17:19:13.193047Z",
     "iopub.status.busy": "2021-08-08T17:19:13.172247Z",
     "iopub.status.idle": "2021-08-08T17:19:13.651426Z",
     "shell.execute_reply": "2021-08-08T17:19:13.651921Z",
     "shell.execute_reply.started": "2021-08-06T21:09:43.524953Z"
    },
    "id": "hjRF5szkcQE0",
    "papermill": {
     "duration": 0.870198,
     "end_time": "2021-08-08T17:19:13.652108",
     "exception": false,
     "start_time": "2021-08-08T17:19:12.781910",
     "status": "completed"
    },
    "tags": []
   },
   "outputs": [],
   "source": [
    "# convert minors_count to int value\n",
    "new_minors_count = []\n",
    "for i in dataframe['minorsCount']:\n",
    "  if i == 0 or i == '0':\n",
    "    new_minors_count.append(0)\n",
    "  elif i == '1 Minor':\n",
    "    new_minors_count.append(1)\n",
    "  else:\n",
    "    new_minors_count.append(2)\n",
    "\n",
    "dataframe['minorsCount'] = new_minors_count"
   ]
  },
  {
   "cell_type": "code",
   "execution_count": 17,
   "metadata": {
    "execution": {
     "iopub.execute_input": "2021-08-08T17:19:14.376600Z",
     "iopub.status.busy": "2021-08-08T17:19:14.375494Z",
     "iopub.status.idle": "2021-08-08T17:19:14.390557Z",
     "shell.execute_reply": "2021-08-08T17:19:14.389858Z",
     "shell.execute_reply.started": "2021-08-06T21:09:43.981222Z"
    },
    "id": "9VdzvJSw0KUU",
    "outputId": "6393784f-234e-4935-9cee-cbcf56b5630a",
    "papermill": {
     "duration": 0.380165,
     "end_time": "2021-08-08T17:19:14.390713",
     "exception": false,
     "start_time": "2021-08-08T17:19:14.010548",
     "status": "completed"
    },
    "tags": []
   },
   "outputs": [
    {
     "name": "stdout",
     "output_type": "stream",
     "text": [
      "we have  1110  users in total.\n"
     ]
    }
   ],
   "source": [
    "print(\"we have \", dataframe['user_id'].nunique(),\" users in total.\")"
   ]
  },
  {
   "cell_type": "code",
   "execution_count": 18,
   "metadata": {
    "execution": {
     "iopub.execute_input": "2021-08-08T17:19:15.130838Z",
     "iopub.status.busy": "2021-08-08T17:19:15.130023Z",
     "iopub.status.idle": "2021-08-08T17:19:15.136320Z",
     "shell.execute_reply": "2021-08-08T17:19:15.135696Z",
     "shell.execute_reply.started": "2021-08-06T21:09:43.998125Z"
    },
    "id": "hUaGk9L9g13t",
    "papermill": {
     "duration": 0.379233,
     "end_time": "2021-08-08T17:19:15.136489",
     "exception": false,
     "start_time": "2021-08-08T17:19:14.757256",
     "status": "completed"
    },
    "tags": []
   },
   "outputs": [],
   "source": [
    "for category in ['term','chapter_label', 'sub_chapter_label', 'question_name']:\n",
    "  dataframe[category] =  dataframe[category].cat.codes"
   ]
  },
  {
   "cell_type": "code",
   "execution_count": 19,
   "metadata": {
    "execution": {
     "iopub.execute_input": "2021-08-08T17:19:15.866489Z",
     "iopub.status.busy": "2021-08-08T17:19:15.865768Z",
     "iopub.status.idle": "2021-08-08T17:19:16.688482Z",
     "shell.execute_reply": "2021-08-08T17:19:16.687878Z",
     "shell.execute_reply.started": "2021-08-06T21:09:44.009179Z"
    },
    "id": "hkyvcYvlhliG",
    "papermill": {
     "duration": 1.192149,
     "end_time": "2021-08-08T17:19:16.688629",
     "exception": false,
     "start_time": "2021-08-08T17:19:15.496480",
     "status": "completed"
    },
    "tags": []
   },
   "outputs": [],
   "source": [
    "NUMERIC_FEATURE =  ['age',\n",
    "            'exclClassCumGPA',\n",
    "            'termCreditsGPA',\n",
    "            'termCreditsNoGPA',\n",
    "            'highSchoolGPA', \n",
    "            'majorsCount', 'minorsCount',\n",
    "            'PREV_TERM_CUM_GPA',\n",
    "            'available_flashcards', \n",
    "            'days_offset', \n",
    "            'prev_time_elapsed',\n",
    "             'time_lag']\n",
    "# z-score normalize the numerical features\n",
    "for f in NUMERIC_FEATURE:\n",
    "  m = dataframe[f].mean()\n",
    "  std = dataframe[f].std()\n",
    "  dataframe[f] = (dataframe[f] - m)/std"
   ]
  },
  {
   "cell_type": "code",
   "execution_count": 20,
   "metadata": {
    "execution": {
     "iopub.execute_input": "2021-08-08T17:19:17.436316Z",
     "iopub.status.busy": "2021-08-08T17:19:17.435282Z",
     "iopub.status.idle": "2021-08-08T17:19:21.151250Z",
     "shell.execute_reply": "2021-08-08T17:19:21.150576Z",
     "shell.execute_reply.started": "2021-08-06T21:09:44.734371Z"
    },
    "id": "wo2OH-d5kWp1",
    "papermill": {
     "duration": 4.098108,
     "end_time": "2021-08-08T17:19:21.151391",
     "exception": false,
     "start_time": "2021-08-08T17:19:17.053283",
     "status": "completed"
    },
    "tags": []
   },
   "outputs": [],
   "source": [
    "FEATURE_TRANS =  ['answer_correct', 'chapter_label', 'sub_chapter_label','question_name','user_id','term',\n",
    "                  'STDNT_SEX_CD', \n",
    "                    'White','Asian','NonWhiteOrAsian',\n",
    "            'STDNT_CTZN_STAT_CD', 'international', \n",
    "            'age',\n",
    "            'exclClassCumGPA',\n",
    "           'Freshman',\n",
    "            'Junior',\n",
    "            'Sophomore',\n",
    "            'Senior',\n",
    "            'termCreditsGPA',\n",
    "            'termCreditsNoGPA',\n",
    "            'athlete_1',\n",
    "            'honorsPro',\n",
    "            'LSA', 'programBusiness', 'programEngineering', \n",
    "            'programInformation', 'programOther',\n",
    "            'HSCalculusTaken', \n",
    "            'highSchoolGPA', \n",
    "            'majorsCount', 'minorsCount',\n",
    "            'PREV_TERM_CUM_GPA',\n",
    "            'classGraded', 'classHonors', \n",
    "            'Pass_Fail', \n",
    "            'parentsGraduateEdu',  'minorityGroup', \n",
    "            'available_flashcards', \n",
    "            'days_offset', 'prev_time_elapsed',\n",
    "             'time_lag']\n",
    "grouped_data = dataframe[FEATURE_TRANS].groupby(['user_id']).apply(lambda r: (\n",
    "                r['answer_correct'],\n",
    "                r['term'],\n",
    "                r['chapter_label'],\n",
    "                r['sub_chapter_label'],\n",
    "                r['question_name'],\n",
    "                np.array([\n",
    "                    r['STDNT_SEX_CD'],r['STDNT_CTZN_STAT_CD'], r['international'], \n",
    "                  r['White'],r['Asian'],r['NonWhiteOrAsian'],\n",
    "                 r['age'],r['exclClassCumGPA'],\n",
    "                r['Freshman'], r['Junior'], r['Sophomore'], r['Senior'],\n",
    "                r['termCreditsGPA'], r['termCreditsNoGPA'],\n",
    "                r['athlete_1'], r['honorsPro'],\n",
    "                r['LSA'], r['programBusiness'], r['programEngineering'], \n",
    "                r['programInformation'], r['programOther'],\n",
    "                r['HSCalculusTaken'],  r['highSchoolGPA'], \n",
    "                r['majorsCount'], r['minorsCount'],\n",
    "                r['PREV_TERM_CUM_GPA'], \n",
    "                r['parentsGraduateEdu'], r['minorityGroup'],\n",
    "                r['available_flashcards'],\n",
    "                r['days_offset'],\n",
    "#                 r['prev_time_elapsed'],\n",
    "#                 r['time_lag']\n",
    "              ]).transpose()\n",
    "                ))"
   ]
  },
  {
   "cell_type": "code",
   "execution_count": 21,
   "metadata": {
    "execution": {
     "iopub.execute_input": "2021-08-08T17:19:22.079506Z",
     "iopub.status.busy": "2021-08-08T17:19:22.078515Z",
     "iopub.status.idle": "2021-08-08T17:19:22.083663Z",
     "shell.execute_reply": "2021-08-08T17:19:22.083114Z",
     "shell.execute_reply.started": "2021-08-06T21:09:45.792372Z"
    },
    "id": "XXLqQnjrlp_4",
    "outputId": "c801da79-f0bf-4fe5-b19c-7c799fe01556",
    "papermill": {
     "duration": 0.57018,
     "end_time": "2021-08-08T17:19:22.083819",
     "exception": false,
     "start_time": "2021-08-08T17:19:21.513639",
     "status": "completed"
    },
    "tags": []
   },
   "outputs": [
    {
     "data": {
      "text/plain": [
       "20"
      ]
     },
     "execution_count": 21,
     "metadata": {},
     "output_type": "execute_result"
    }
   ],
   "source": [
    "gc.collect()"
   ]
  },
  {
   "cell_type": "code",
   "execution_count": 22,
   "metadata": {
    "execution": {
     "iopub.execute_input": "2021-08-08T17:19:22.831033Z",
     "iopub.status.busy": "2021-08-08T17:19:22.825630Z",
     "iopub.status.idle": "2021-08-08T17:19:22.859578Z",
     "shell.execute_reply": "2021-08-08T17:19:22.860105Z",
     "shell.execute_reply.started": "2021-08-06T21:09:45.968869Z"
    },
    "id": "QYGQasdTrmP0",
    "papermill": {
     "duration": 0.411166,
     "end_time": "2021-08-08T17:19:22.860283",
     "exception": false,
     "start_time": "2021-08-08T17:19:22.449117",
     "status": "completed"
    },
    "tags": []
   },
   "outputs": [],
   "source": [
    "# remove students who don't have make any interactions with the tool\n",
    "toRemove = []\n",
    "for index in grouped_data.index:\n",
    "  if len(grouped_data[index][0]) <= 10:\n",
    "    toRemove.append(index)\n",
    "grouped_data = grouped_data.drop(index=toRemove)"
   ]
  },
  {
   "cell_type": "code",
   "execution_count": 23,
   "metadata": {
    "execution": {
     "iopub.execute_input": "2021-08-08T17:19:23.625546Z",
     "iopub.status.busy": "2021-08-08T17:19:23.624750Z",
     "iopub.status.idle": "2021-08-08T17:19:23.642102Z",
     "shell.execute_reply": "2021-08-08T17:19:23.642597Z",
     "shell.execute_reply.started": "2021-08-06T21:09:46.01428Z"
    },
    "papermill": {
     "duration": 0.399824,
     "end_time": "2021-08-08T17:19:23.642787",
     "exception": false,
     "start_time": "2021-08-08T17:19:23.242963",
     "status": "completed"
    },
    "tags": []
   },
   "outputs": [
    {
     "data": {
      "text/plain": [
       "count    1110.000000\n",
       "mean      550.263063\n",
       "std       201.281353\n",
       "min         2.000000\n",
       "25%       438.250000\n",
       "50%       520.500000\n",
       "75%       637.750000\n",
       "max      1500.000000\n",
       "Name: start_practice, dtype: float64"
      ]
     },
     "execution_count": 23,
     "metadata": {},
     "output_type": "execute_result"
    }
   ],
   "source": [
    "dataframe.groupby('user_id')['start_practice'].agg('count').describe()"
   ]
  },
  {
   "cell_type": "code",
   "execution_count": 24,
   "metadata": {
    "execution": {
     "iopub.execute_input": "2021-08-08T17:19:24.381747Z",
     "iopub.status.busy": "2021-08-08T17:19:24.380774Z",
     "iopub.status.idle": "2021-08-08T17:19:24.385915Z",
     "shell.execute_reply": "2021-08-08T17:19:24.385362Z",
     "shell.execute_reply.started": "2021-08-06T21:09:46.033627Z"
    },
    "papermill": {
     "duration": 0.377076,
     "end_time": "2021-08-08T17:19:24.386054",
     "exception": false,
     "start_time": "2021-08-08T17:19:24.008978",
     "status": "completed"
    },
    "tags": []
   },
   "outputs": [
    {
     "data": {
      "text/plain": [
       "['FA 2018:252', 'WN 2018:295']"
      ]
     },
     "execution_count": 24,
     "metadata": {},
     "output_type": "execute_result"
    }
   ],
   "source": [
    "toRemove"
   ]
  },
  {
   "cell_type": "code",
   "execution_count": 25,
   "metadata": {
    "execution": {
     "iopub.execute_input": "2021-08-08T17:19:25.126140Z",
     "iopub.status.busy": "2021-08-08T17:19:25.125130Z",
     "iopub.status.idle": "2021-08-08T17:19:25.127664Z",
     "shell.execute_reply": "2021-08-08T17:19:25.128257Z",
     "shell.execute_reply.started": "2021-08-06T21:09:46.04112Z"
    },
    "id": "9kZqV9siDyNb",
    "papermill": {
     "duration": 0.380396,
     "end_time": "2021-08-08T17:19:25.128457",
     "exception": false,
     "start_time": "2021-08-08T17:19:24.748061",
     "status": "completed"
    },
    "tags": []
   },
   "outputs": [],
   "source": [
    "#SETTINGS -> can be modified at any time\n",
    "MAXLENGTH = 400\n",
    "EMBEDDING_DIM = 128\n",
    "DENSE_NEURON = 16\n",
    "GRU_NEURON = 32"
   ]
  },
  {
   "cell_type": "code",
   "execution_count": 26,
   "metadata": {
    "execution": {
     "iopub.execute_input": "2021-08-08T17:19:25.852164Z",
     "iopub.status.busy": "2021-08-08T17:19:25.851163Z",
     "iopub.status.idle": "2021-08-08T17:19:25.855230Z",
     "shell.execute_reply": "2021-08-08T17:19:25.855720Z",
     "shell.execute_reply.started": "2021-08-06T21:09:46.049329Z"
    },
    "id": "1MksD1JizpPn",
    "papermill": {
     "duration": 0.369025,
     "end_time": "2021-08-08T17:19:25.855900",
     "exception": false,
     "start_time": "2021-08-08T17:19:25.486875",
     "status": "completed"
    },
    "tags": []
   },
   "outputs": [],
   "source": [
    "FEATURES_SIZE = 37\n",
    "CHAPTER_SIZE = 38\n",
    "SUB_CHAPTER_SIZE = 223\n",
    "QUESTION_SIZE = 1069"
   ]
  },
  {
   "cell_type": "code",
   "execution_count": 27,
   "metadata": {
    "execution": {
     "iopub.execute_input": "2021-08-08T17:19:26.586293Z",
     "iopub.status.busy": "2021-08-08T17:19:26.585243Z",
     "iopub.status.idle": "2021-08-08T17:19:26.598051Z",
     "shell.execute_reply": "2021-08-08T17:19:26.597334Z",
     "shell.execute_reply.started": "2021-08-06T21:09:46.057705Z"
    },
    "papermill": {
     "duration": 0.378768,
     "end_time": "2021-08-08T17:19:26.598195",
     "exception": false,
     "start_time": "2021-08-08T17:19:26.219427",
     "status": "completed"
    },
    "tags": []
   },
   "outputs": [
    {
     "data": {
      "text/plain": [
       "array([ 96,  86,  88,  28,  12,  82, 125,  32,  69,  33,  21, 115, 120,\n",
       "       119,  91,  73,  57,  77, 117,  40,  74,  41,  68,  39,  92,  47,\n",
       "       104,  95,  53,  49,  50,  16,  52,  55,   7,  15,  51, 102, 103,\n",
       "        11,  94, 108, 100,  17,  67,  63,  13, 139,  26,  25,   8, 107,\n",
       "         0,  90,  48,  54, 138,   1,   2,   3,  34,  35,  85,   5,  24,\n",
       "        37,  36,  78,  70,  45, 142,  71,  10,  89, 111, 112, 109, 116,\n",
       "        76,  72, 148, 134, 146, 221, 143,  56,  60,  61,  23, 140, 106,\n",
       "        42,  83,  22, 145, 136, 144,  38,   4,  19, 137,  75,  43,  98,\n",
       "        84, 113, 173, 174, 175, 176, 177, 178, 180, 181, 182, 187, 189,\n",
       "       190, 191, 192, 193, 195, 197, 151, 152, 153, 156, 157, 158, 159,\n",
       "       160, 161, 163, 164, 165, 166, 167, 168, 169, 170, 171, 172, 198,\n",
       "       199, 200, 201, 202, 203, 204, 205, 206, 207, 208, 209, 210, 162,\n",
       "       179, 186, 188, 194, 183, 184, 185, 211, 212, 213, 154, 155, 196,\n",
       "         6, 118,  18, 215,  46, 216, 141,  27, 217, 105, 123, 218, 101,\n",
       "       124, 219, 122, 220,  58,  59,  64,  20,  93,  65,  66,   9,  44,\n",
       "        30,  14,  79, 121,  31, 110, 129,  87,  97,  62, 149, 132, 131,\n",
       "       150, 130, 128,  99, 147, 127, 214, 135,  80, 126, 133,  81, 114,\n",
       "        29], dtype=int16)"
      ]
     },
     "execution_count": 27,
     "metadata": {},
     "output_type": "execute_result"
    }
   ],
   "source": [
    "dataframe['sub_chapter_label'].unique()"
   ]
  },
  {
   "cell_type": "code",
   "execution_count": 28,
   "metadata": {
    "execution": {
     "iopub.execute_input": "2021-08-08T17:19:27.350459Z",
     "iopub.status.busy": "2021-08-08T17:19:27.349710Z",
     "iopub.status.idle": "2021-08-08T17:19:28.529222Z",
     "shell.execute_reply": "2021-08-08T17:19:28.528510Z",
     "shell.execute_reply.started": "2021-08-06T21:09:46.074094Z"
    },
    "id": "mY3Thp6d0NaT",
    "papermill": {
     "duration": 1.564467,
     "end_time": "2021-08-08T17:19:28.529374",
     "exception": false,
     "start_time": "2021-08-08T17:19:26.964907",
     "status": "completed"
    },
    "tags": []
   },
   "outputs": [],
   "source": [
    "#create dataset class\n",
    "#to prepare it for train, valid, and test sets\n",
    "from torch.utils.data import Dataset, DataLoader\n",
    "class SPACE_DATASET(Dataset):\n",
    "    def __init__(self, data, maxlength = 400):\n",
    "        super(SPACE_DATASET, self).__init__()\n",
    "        self.maxlength = maxlength\n",
    "        self.data = data\n",
    "        self.users = list()\n",
    "        for user in data.index:\n",
    "            self.users.append(user)\n",
    "\n",
    "    def __len__(self):\n",
    "        return len(self.users)\n",
    "    \n",
    "    def __getitem__(self, ix):\n",
    "        user = self.users[ix]\n",
    "        user = user\n",
    "        target, term, ch_label, sub_ch_label, ques_name, features = self.data[user]\n",
    "        \n",
    "        #0s should be used as padding values\n",
    "        ori_target = target.values \n",
    "        term = term.values\n",
    "        ch_label = ch_label.values + 1\n",
    "        sub_ch_label = sub_ch_label.values +1\n",
    "        ques_name = ques_name.values + 1\n",
    "        \n",
    "        n = len(ch_label)\n",
    "\n",
    "        # one hot for term\n",
    "        term_encode = [0]*7\n",
    "        term_encode[term[0]] = 1\n",
    "        shifted_target= []\n",
    "\n",
    "        \n",
    "        # get  user interaction informations in the previous MAXLEN interactions\n",
    "        if n > self.maxlength:\n",
    "          ch_label = ch_label[-self.maxlength:]\n",
    "          sub_ch_label = sub_ch_label[-self.maxlength:]\n",
    "          ques_name = ques_name[-self.maxlength:]\n",
    "          features = features[-self.maxlength:]\n",
    "          target = ori_target[-self.maxlength:]\n",
    "          shifted_target = ori_target[ (-self.maxlength - 1) :-1]\n",
    "        else:\n",
    "          ch_label = [0]*(self.maxlength - n)+list(ch_label[:])\n",
    "          sub_ch_label = [0]*(self.maxlength - n)+list(sub_ch_label[:])\n",
    "          ques_name = [0]*(self.maxlength - n)+list(ques_name[:])\n",
    "          features = [[0]*len(features[0])]*(self.maxlength  - n)+list(features[:])\n",
    "          target = [-1]*(self.maxlength - n) + list(ori_target[:])\n",
    "          shifted_target = [2]*(self.maxlength + 1 - n) + list(ori_target[:-1])\n",
    "\n",
    "        new_features = []\n",
    "        count = 0\n",
    "        for f in features:\n",
    "          temp = list(f)\n",
    "          temp.extend(term_encode)\n",
    "          #temp.append(shifted_target[count]) #uncomment this line for include previous response feature\n",
    "          new_features.append(temp)\n",
    "          count += 1\n",
    "        features = new_features\n",
    "        return ch_label,sub_ch_label,ques_name,features, shifted_target, target"
   ]
  },
  {
   "cell_type": "code",
   "execution_count": 29,
   "metadata": {
    "execution": {
     "iopub.execute_input": "2021-08-08T17:19:29.265559Z",
     "iopub.status.busy": "2021-08-08T17:19:29.264726Z",
     "iopub.status.idle": "2021-08-08T17:19:29.268797Z",
     "shell.execute_reply": "2021-08-08T17:19:29.268216Z",
     "shell.execute_reply.started": "2021-08-06T21:09:47.310275Z"
    },
    "papermill": {
     "duration": 0.377896,
     "end_time": "2021-08-08T17:19:29.268948",
     "exception": false,
     "start_time": "2021-08-08T17:19:28.891052",
     "status": "completed"
    },
    "tags": []
   },
   "outputs": [
    {
     "data": {
      "text/plain": [
       "223"
      ]
     },
     "execution_count": 29,
     "metadata": {},
     "output_type": "execute_result"
    }
   ],
   "source": [
    "SUB_CHAPTER_SIZE"
   ]
  },
  {
   "cell_type": "markdown",
   "metadata": {
    "id": "4xc90-aLzxat",
    "papermill": {
     "duration": 0.362383,
     "end_time": "2021-08-08T17:19:30.029348",
     "exception": false,
     "start_time": "2021-08-08T17:19:29.666965",
     "status": "completed"
    },
    "tags": []
   },
   "source": [
    "## KFOLD - GRU\n"
   ]
  },
  {
   "cell_type": "code",
   "execution_count": 30,
   "metadata": {
    "execution": {
     "iopub.execute_input": "2021-08-08T17:19:30.765200Z",
     "iopub.status.busy": "2021-08-08T17:19:30.764382Z",
     "iopub.status.idle": "2021-08-08T17:25:03.166510Z",
     "shell.execute_reply": "2021-08-08T17:25:03.165678Z",
     "shell.execute_reply.started": "2021-08-06T21:09:47.318071Z"
    },
    "id": "gzJrljnjzypP",
    "outputId": "87abe488-b493-4f8f-9d71-45cb1d2ddf51",
    "papermill": {
     "duration": 332.771827,
     "end_time": "2021-08-08T17:25:03.166852",
     "exception": false,
     "start_time": "2021-08-08T17:19:30.395025",
     "status": "completed"
    },
    "tags": []
   },
   "outputs": [
    {
     "name": "stdout",
     "output_type": "stream",
     "text": [
      "Epoch 1/100\n",
      "14/14 [==============================] - 4s 193ms/step - loss: 0.5443 - masked_acc: 0.6895 - masked_auc: 0.5848 - val_loss: 0.4592 - val_masked_acc: 0.7372 - val_masked_auc: 0.7326\n",
      "Epoch 2/100\n",
      "14/14 [==============================] - 2s 119ms/step - loss: 0.4557 - masked_acc: 0.7420 - masked_auc: 0.7492 - val_loss: 0.4470 - val_masked_acc: 0.7543 - val_masked_auc: 0.7752\n",
      "Epoch 3/100\n",
      "14/14 [==============================] - 2s 120ms/step - loss: 0.4417 - masked_acc: 0.7555 - masked_auc: 0.7807 - val_loss: 0.4453 - val_masked_acc: 0.7603 - val_masked_auc: 0.7909\n",
      "Epoch 4/100\n",
      "14/14 [==============================] - 2s 117ms/step - loss: 0.4404 - masked_acc: 0.7605 - masked_auc: 0.7929 - val_loss: 0.4460 - val_masked_acc: 0.7633 - val_masked_auc: 0.7985\n",
      "Epoch 5/100\n",
      "14/14 [==============================] - 2s 120ms/step - loss: 0.4366 - masked_acc: 0.7635 - masked_auc: 0.8001 - val_loss: 0.4443 - val_masked_acc: 0.7652 - val_masked_auc: 0.8033\n",
      "Epoch 6/100\n",
      "14/14 [==============================] - 2s 123ms/step - loss: 0.4332 - masked_acc: 0.7656 - masked_auc: 0.8042 - val_loss: 0.4459 - val_masked_acc: 0.7666 - val_masked_auc: 0.8063\n",
      "Epoch 7/100\n",
      "14/14 [==============================] - 2s 114ms/step - loss: 0.4393 - masked_acc: 0.7667 - masked_auc: 0.8068 - val_loss: 0.4450 - val_masked_acc: 0.7676 - val_masked_auc: 0.8084\n",
      "Epoch 8/100\n",
      "14/14 [==============================] - 2s 115ms/step - loss: 0.4471 - masked_acc: 0.7673 - masked_auc: 0.8085 - val_loss: 0.4443 - val_masked_acc: 0.7682 - val_masked_auc: 0.8100\n",
      "Epoch 9/100\n",
      "14/14 [==============================] - 2s 113ms/step - loss: 0.4383 - masked_acc: 0.7681 - masked_auc: 0.8102 - val_loss: 0.4443 - val_masked_acc: 0.7687 - val_masked_auc: 0.8111\n",
      "Epoch 10/100\n",
      "14/14 [==============================] - 2s 115ms/step - loss: 0.4371 - masked_acc: 0.7686 - masked_auc: 0.8113 - val_loss: 0.4438 - val_masked_acc: 0.7692 - val_masked_auc: 0.8122\n",
      "Epoch 11/100\n",
      "14/14 [==============================] - 2s 116ms/step - loss: 0.4318 - masked_acc: 0.7692 - masked_auc: 0.8123 - val_loss: 0.4430 - val_masked_acc: 0.7696 - val_masked_auc: 0.8130\n",
      "Epoch 12/100\n",
      "14/14 [==============================] - 2s 128ms/step - loss: 0.4331 - masked_acc: 0.7696 - masked_auc: 0.8132 - val_loss: 0.4437 - val_masked_acc: 0.7699 - val_masked_auc: 0.8137\n",
      "Epoch 13/100\n",
      "14/14 [==============================] - 2s 116ms/step - loss: 0.4411 - masked_acc: 0.7697 - masked_auc: 0.8138 - val_loss: 0.4439 - val_masked_acc: 0.7701 - val_masked_auc: 0.8142\n",
      "Epoch 14/100\n",
      "14/14 [==============================] - 2s 114ms/step - loss: 0.4363 - masked_acc: 0.7701 - masked_auc: 0.8143 - val_loss: 0.4438 - val_masked_acc: 0.7703 - val_masked_auc: 0.8147\n",
      "Epoch 15/100\n",
      "14/14 [==============================] - 2s 116ms/step - loss: 0.4307 - masked_acc: 0.7703 - masked_auc: 0.8148 - val_loss: 0.4435 - val_masked_acc: 0.7706 - val_masked_auc: 0.8152\n",
      "Epoch 16/100\n",
      "14/14 [==============================] - 2s 135ms/step - loss: 0.4362 - masked_acc: 0.7705 - masked_auc: 0.8152 - val_loss: 0.4447 - val_masked_acc: 0.7707 - val_masked_auc: 0.8155\n",
      "Epoch 17/100\n",
      "14/14 [==============================] - 2s 117ms/step - loss: 0.4387 - masked_acc: 0.7706 - masked_auc: 0.8155 - val_loss: 0.4430 - val_masked_acc: 0.7709 - val_masked_auc: 0.8158\n",
      "Epoch 18/100\n",
      "14/14 [==============================] - 2s 116ms/step - loss: 0.4400 - masked_acc: 0.7708 - masked_auc: 0.8158 - val_loss: 0.4435 - val_masked_acc: 0.7710 - val_masked_auc: 0.8161\n",
      "Epoch 19/100\n",
      "14/14 [==============================] - 2s 120ms/step - loss: 0.4374 - masked_acc: 0.7709 - masked_auc: 0.8161 - val_loss: 0.4432 - val_masked_acc: 0.7712 - val_masked_auc: 0.8165\n",
      "Epoch 20/100\n",
      "14/14 [==============================] - 2s 116ms/step - loss: 0.4384 - masked_acc: 0.7711 - masked_auc: 0.8165 - val_loss: 0.4441 - val_masked_acc: 0.7713 - val_masked_auc: 0.8167\n",
      "Epoch 21/100\n",
      "14/14 [==============================] - 2s 116ms/step - loss: 0.4318 - masked_acc: 0.7713 - masked_auc: 0.8168 - val_loss: 0.4463 - val_masked_acc: 0.7714 - val_masked_auc: 0.8169\n",
      "Epoch 22/100\n",
      "14/14 [==============================] - 2s 116ms/step - loss: 0.4316 - masked_acc: 0.7714 - masked_auc: 0.8169 - val_loss: 0.4463 - val_masked_acc: 0.7715 - val_masked_auc: 0.8171\n",
      "Epoch 23/100\n",
      "14/14 [==============================] - 2s 116ms/step - loss: 0.4353 - masked_acc: 0.7714 - masked_auc: 0.8171 - val_loss: 0.4441 - val_masked_acc: 0.7716 - val_masked_auc: 0.8173\n",
      "Epoch 24/100\n",
      "14/14 [==============================] - 2s 118ms/step - loss: 0.4354 - masked_acc: 0.7716 - masked_auc: 0.8173 - val_loss: 0.4436 - val_masked_acc: 0.7717 - val_masked_auc: 0.8175\n",
      "Epoch 25/100\n",
      "14/14 [==============================] - 2s 119ms/step - loss: 0.4357 - masked_acc: 0.7717 - masked_auc: 0.8175 - val_loss: 0.4437 - val_masked_acc: 0.7718 - val_masked_auc: 0.8176\n",
      "Epoch 26/100\n",
      "14/14 [==============================] - 2s 123ms/step - loss: 0.4359 - masked_acc: 0.7717 - masked_auc: 0.8176 - val_loss: 0.4442 - val_masked_acc: 0.7718 - val_masked_auc: 0.8178\n",
      "Epoch 27/100\n",
      "14/14 [==============================] - 2s 119ms/step - loss: 0.4393 - masked_acc: 0.7718 - masked_auc: 0.8177 - val_loss: 0.4432 - val_masked_acc: 0.7719 - val_masked_auc: 0.8179\n",
      "28/28 [==============================] - 1s 28ms/step - loss: 0.4344 - masked_acc: 0.7720 - masked_auc: 0.8181\n",
      "4/4 [==============================] - 0s 24ms/step - loss: 0.4454 - masked_acc: 0.7718 - masked_auc: 0.8180\n",
      "Test:  [0.4454154074192047, 0.7718454599380493, 0.8180229663848877]\n",
      "Epoch 1/100\n",
      "14/14 [==============================] - 4s 158ms/step - loss: 0.5708 - masked_acc: 0.6299 - masked_auc: 0.5493 - val_loss: 0.5104 - val_masked_acc: 0.7220 - val_masked_auc: 0.7091\n",
      "Epoch 2/100\n",
      "14/14 [==============================] - 1s 105ms/step - loss: 0.4506 - masked_acc: 0.7318 - masked_auc: 0.7333 - val_loss: 0.4969 - val_masked_acc: 0.7460 - val_masked_auc: 0.7646\n",
      "Epoch 3/100\n",
      "14/14 [==============================] - 2s 110ms/step - loss: 0.4399 - masked_acc: 0.7484 - masked_auc: 0.7717 - val_loss: 0.4861 - val_masked_acc: 0.7542 - val_masked_auc: 0.7836\n",
      "Epoch 4/100\n",
      "14/14 [==============================] - 1s 106ms/step - loss: 0.4346 - masked_acc: 0.7555 - masked_auc: 0.7868 - val_loss: 0.4842 - val_masked_acc: 0.7586 - val_masked_auc: 0.7934\n",
      "Epoch 5/100\n",
      "14/14 [==============================] - 2s 130ms/step - loss: 0.4321 - masked_acc: 0.7596 - masked_auc: 0.7958 - val_loss: 0.4846 - val_masked_acc: 0.7614 - val_masked_auc: 0.7993\n",
      "Epoch 6/100\n",
      "14/14 [==============================] - 1s 106ms/step - loss: 0.4304 - masked_acc: 0.7620 - masked_auc: 0.8005 - val_loss: 0.4854 - val_masked_acc: 0.7632 - val_masked_auc: 0.8030\n",
      "Epoch 7/100\n",
      "14/14 [==============================] - 2s 109ms/step - loss: 0.4233 - masked_acc: 0.7638 - masked_auc: 0.8040 - val_loss: 0.4866 - val_masked_acc: 0.7645 - val_masked_auc: 0.8056\n",
      "Epoch 8/100\n",
      "14/14 [==============================] - 2s 112ms/step - loss: 0.4313 - masked_acc: 0.7648 - masked_auc: 0.8062 - val_loss: 0.4873 - val_masked_acc: 0.7654 - val_masked_auc: 0.8075\n",
      "Epoch 9/100\n",
      "14/14 [==============================] - 1s 107ms/step - loss: 0.4318 - masked_acc: 0.7657 - masked_auc: 0.8080 - val_loss: 0.4830 - val_masked_acc: 0.7662 - val_masked_auc: 0.8090\n",
      "Epoch 10/100\n",
      "14/14 [==============================] - 2s 108ms/step - loss: 0.4288 - masked_acc: 0.7665 - masked_auc: 0.8096 - val_loss: 0.4833 - val_masked_acc: 0.7668 - val_masked_auc: 0.8103\n",
      "Epoch 11/100\n",
      "14/14 [==============================] - 2s 108ms/step - loss: 0.4340 - masked_acc: 0.7670 - masked_auc: 0.8106 - val_loss: 0.4837 - val_masked_acc: 0.7674 - val_masked_auc: 0.8112\n",
      "Epoch 12/100\n",
      "14/14 [==============================] - 2s 108ms/step - loss: 0.4286 - masked_acc: 0.7676 - masked_auc: 0.8115 - val_loss: 0.4832 - val_masked_acc: 0.7677 - val_masked_auc: 0.8120\n",
      "Epoch 13/100\n",
      "14/14 [==============================] - 1s 107ms/step - loss: 0.4326 - masked_acc: 0.7678 - masked_auc: 0.8123 - val_loss: 0.4840 - val_masked_acc: 0.7682 - val_masked_auc: 0.8128\n",
      "Epoch 14/100\n",
      "14/14 [==============================] - 2s 109ms/step - loss: 0.4234 - masked_acc: 0.7684 - masked_auc: 0.8131 - val_loss: 0.4848 - val_masked_acc: 0.7685 - val_masked_auc: 0.8134\n",
      "Epoch 15/100\n",
      "14/14 [==============================] - 2s 109ms/step - loss: 0.4354 - masked_acc: 0.7685 - masked_auc: 0.8136 - val_loss: 0.4835 - val_masked_acc: 0.7688 - val_masked_auc: 0.8139\n",
      "Epoch 16/100\n",
      "14/14 [==============================] - 1s 106ms/step - loss: 0.4299 - masked_acc: 0.7689 - masked_auc: 0.8141 - val_loss: 0.4860 - val_masked_acc: 0.7690 - val_masked_auc: 0.8144\n",
      "Epoch 17/100\n",
      "14/14 [==============================] - 2s 111ms/step - loss: 0.4303 - masked_acc: 0.7691 - masked_auc: 0.8146 - val_loss: 0.4830 - val_masked_acc: 0.7693 - val_masked_auc: 0.8148\n",
      "Epoch 18/100\n",
      "14/14 [==============================] - 2s 110ms/step - loss: 0.4315 - masked_acc: 0.7693 - masked_auc: 0.8149 - val_loss: 0.4855 - val_masked_acc: 0.7694 - val_masked_auc: 0.8152\n",
      "Epoch 19/100\n",
      "14/14 [==============================] - 2s 123ms/step - loss: 0.4335 - masked_acc: 0.7694 - masked_auc: 0.8152 - val_loss: 0.4860 - val_masked_acc: 0.7696 - val_masked_auc: 0.8155\n",
      "Epoch 20/100\n",
      "14/14 [==============================] - 2s 117ms/step - loss: 0.4323 - masked_acc: 0.7697 - masked_auc: 0.8156 - val_loss: 0.4851 - val_masked_acc: 0.7698 - val_masked_auc: 0.8158\n",
      "Epoch 21/100\n",
      "14/14 [==============================] - 2s 109ms/step - loss: 0.4327 - masked_acc: 0.7698 - masked_auc: 0.8158 - val_loss: 0.4834 - val_masked_acc: 0.7699 - val_masked_auc: 0.8160\n",
      "Epoch 22/100\n",
      "14/14 [==============================] - 2s 112ms/step - loss: 0.4362 - masked_acc: 0.7699 - masked_auc: 0.8161 - val_loss: 0.4836 - val_masked_acc: 0.7701 - val_masked_auc: 0.8163\n",
      "Epoch 23/100\n",
      "14/14 [==============================] - 2s 110ms/step - loss: 0.4299 - masked_acc: 0.7701 - masked_auc: 0.8163 - val_loss: 0.4841 - val_masked_acc: 0.7702 - val_masked_auc: 0.8165\n",
      "Epoch 24/100\n",
      "14/14 [==============================] - 2s 112ms/step - loss: 0.4345 - masked_acc: 0.7702 - masked_auc: 0.8165 - val_loss: 0.4843 - val_masked_acc: 0.7703 - val_masked_auc: 0.8167\n",
      "Epoch 25/100\n",
      "14/14 [==============================] - 2s 109ms/step - loss: 0.4331 - masked_acc: 0.7703 - masked_auc: 0.8168 - val_loss: 0.4846 - val_masked_acc: 0.7704 - val_masked_auc: 0.8169\n",
      "Epoch 26/100\n",
      "14/14 [==============================] - 2s 113ms/step - loss: 0.4290 - masked_acc: 0.7705 - masked_auc: 0.8170 - val_loss: 0.4852 - val_masked_acc: 0.7705 - val_masked_auc: 0.8171\n",
      "Epoch 27/100\n",
      "14/14 [==============================] - 2s 113ms/step - loss: 0.4289 - masked_acc: 0.7706 - masked_auc: 0.8172 - val_loss: 0.4826 - val_masked_acc: 0.7706 - val_masked_auc: 0.8173\n",
      "Epoch 28/100\n",
      "14/14 [==============================] - 2s 111ms/step - loss: 0.4372 - masked_acc: 0.7706 - masked_auc: 0.8173 - val_loss: 0.4835 - val_masked_acc: 0.7707 - val_masked_auc: 0.8175\n",
      "Epoch 29/100\n",
      "14/14 [==============================] - 2s 110ms/step - loss: 0.4331 - masked_acc: 0.7707 - masked_auc: 0.8175 - val_loss: 0.4838 - val_masked_acc: 0.7708 - val_masked_auc: 0.8176\n",
      "Epoch 30/100\n",
      "14/14 [==============================] - 2s 109ms/step - loss: 0.4330 - masked_acc: 0.7708 - masked_auc: 0.8176 - val_loss: 0.4844 - val_masked_acc: 0.7709 - val_masked_auc: 0.8177\n",
      "Epoch 31/100\n",
      "14/14 [==============================] - 2s 109ms/step - loss: 0.4272 - masked_acc: 0.7709 - masked_auc: 0.8178 - val_loss: 0.4841 - val_masked_acc: 0.7710 - val_masked_auc: 0.8179\n",
      "Epoch 32/100\n",
      "14/14 [==============================] - 2s 115ms/step - loss: 0.4328 - masked_acc: 0.7710 - masked_auc: 0.8179 - val_loss: 0.4826 - val_masked_acc: 0.7711 - val_masked_auc: 0.8180\n",
      "Epoch 33/100\n",
      "14/14 [==============================] - 2s 120ms/step - loss: 0.4282 - masked_acc: 0.7711 - masked_auc: 0.8181 - val_loss: 0.4858 - val_masked_acc: 0.7711 - val_masked_auc: 0.8181\n",
      "Epoch 34/100\n",
      "14/14 [==============================] - 2s 106ms/step - loss: 0.4277 - masked_acc: 0.7711 - masked_auc: 0.8181 - val_loss: 0.4824 - val_masked_acc: 0.7712 - val_masked_auc: 0.8182\n",
      "Epoch 35/100\n",
      "14/14 [==============================] - 2s 115ms/step - loss: 0.4292 - masked_acc: 0.7712 - masked_auc: 0.8183 - val_loss: 0.4860 - val_masked_acc: 0.7712 - val_masked_auc: 0.8183\n",
      "Epoch 36/100\n",
      "14/14 [==============================] - 2s 110ms/step - loss: 0.4282 - masked_acc: 0.7713 - masked_auc: 0.8184 - val_loss: 0.4836 - val_masked_acc: 0.7713 - val_masked_auc: 0.8184\n",
      "Epoch 37/100\n",
      "14/14 [==============================] - 2s 110ms/step - loss: 0.4316 - masked_acc: 0.7713 - masked_auc: 0.8184 - val_loss: 0.4835 - val_masked_acc: 0.7713 - val_masked_auc: 0.8185\n",
      "Epoch 38/100\n",
      "14/14 [==============================] - 2s 110ms/step - loss: 0.4252 - masked_acc: 0.7714 - masked_auc: 0.8185 - val_loss: 0.4842 - val_masked_acc: 0.7714 - val_masked_auc: 0.8186\n",
      "Epoch 39/100\n",
      "14/14 [==============================] - 2s 116ms/step - loss: 0.4266 - masked_acc: 0.7714 - masked_auc: 0.8186 - val_loss: 0.4835 - val_masked_acc: 0.7714 - val_masked_auc: 0.8186\n",
      "Epoch 40/100\n",
      "14/14 [==============================] - 2s 110ms/step - loss: 0.4263 - masked_acc: 0.7714 - masked_auc: 0.8187 - val_loss: 0.4869 - val_masked_acc: 0.7714 - val_masked_auc: 0.8187\n",
      "Epoch 41/100\n",
      "14/14 [==============================] - 2s 112ms/step - loss: 0.4390 - masked_acc: 0.7714 - masked_auc: 0.8187 - val_loss: 0.4837 - val_masked_acc: 0.7715 - val_masked_auc: 0.8188\n",
      "Epoch 42/100\n",
      "14/14 [==============================] - 2s 108ms/step - loss: 0.4298 - masked_acc: 0.7715 - masked_auc: 0.8188 - val_loss: 0.4836 - val_masked_acc: 0.7715 - val_masked_auc: 0.8189\n",
      "Epoch 43/100\n",
      "14/14 [==============================] - 2s 111ms/step - loss: 0.4295 - masked_acc: 0.7715 - masked_auc: 0.8189 - val_loss: 0.4839 - val_masked_acc: 0.7716 - val_masked_auc: 0.8189\n",
      "Epoch 44/100\n",
      "14/14 [==============================] - 2s 111ms/step - loss: 0.4333 - masked_acc: 0.7715 - masked_auc: 0.8189 - val_loss: 0.4839 - val_masked_acc: 0.7716 - val_masked_auc: 0.8190\n",
      "28/28 [==============================] - 1s 30ms/step - loss: 0.4301 - masked_acc: 0.7717 - masked_auc: 0.8191\n",
      "4/4 [==============================] - 0s 28ms/step - loss: 0.4337 - masked_acc: 0.7717 - masked_auc: 0.8191\n",
      "Test:  [0.43366092443466187, 0.7716819047927856, 0.8191349506378174]\n",
      "Epoch 1/100\n",
      "14/14 [==============================] - 4s 164ms/step - loss: 0.5654 - masked_acc: 0.6437 - masked_auc: 0.5754 - val_loss: 0.4710 - val_masked_acc: 0.7260 - val_masked_auc: 0.7212\n",
      "Epoch 2/100\n",
      "14/14 [==============================] - 2s 117ms/step - loss: 0.4516 - masked_acc: 0.7351 - masked_auc: 0.7404 - val_loss: 0.4659 - val_masked_acc: 0.7484 - val_masked_auc: 0.7689\n",
      "Epoch 3/100\n",
      "14/14 [==============================] - 2s 117ms/step - loss: 0.4364 - masked_acc: 0.7512 - masked_auc: 0.7756 - val_loss: 0.4566 - val_masked_acc: 0.7559 - val_masked_auc: 0.7858\n",
      "Epoch 4/100\n",
      "14/14 [==============================] - 2s 118ms/step - loss: 0.4318 - masked_acc: 0.7578 - masked_auc: 0.7895 - val_loss: 0.4545 - val_masked_acc: 0.7601 - val_masked_auc: 0.7948\n",
      "Epoch 5/100\n",
      "14/14 [==============================] - 2s 118ms/step - loss: 0.4354 - masked_acc: 0.7607 - masked_auc: 0.7963 - val_loss: 0.4561 - val_masked_acc: 0.7625 - val_masked_auc: 0.8001\n",
      "Epoch 6/100\n",
      "14/14 [==============================] - 2s 117ms/step - loss: 0.4304 - masked_acc: 0.7630 - masked_auc: 0.8013 - val_loss: 0.4545 - val_masked_acc: 0.7642 - val_masked_auc: 0.8036\n",
      "Epoch 7/100\n",
      "14/14 [==============================] - 2s 127ms/step - loss: 0.4312 - masked_acc: 0.7646 - masked_auc: 0.8045 - val_loss: 0.4538 - val_masked_acc: 0.7654 - val_masked_auc: 0.8062\n",
      "Epoch 8/100\n",
      "14/14 [==============================] - 2s 122ms/step - loss: 0.4371 - masked_acc: 0.7655 - masked_auc: 0.8067 - val_loss: 0.4546 - val_masked_acc: 0.7662 - val_masked_auc: 0.8080\n",
      "Epoch 9/100\n",
      "14/14 [==============================] - 2s 136ms/step - loss: 0.4427 - masked_acc: 0.7662 - masked_auc: 0.8084 - val_loss: 0.4548 - val_masked_acc: 0.7670 - val_masked_auc: 0.8094\n",
      "Epoch 10/100\n",
      "14/14 [==============================] - 2s 111ms/step - loss: 0.4379 - masked_acc: 0.7671 - masked_auc: 0.8098 - val_loss: 0.4590 - val_masked_acc: 0.7675 - val_masked_auc: 0.8105\n",
      "Epoch 11/100\n",
      "14/14 [==============================] - 2s 115ms/step - loss: 0.4412 - masked_acc: 0.7675 - masked_auc: 0.8106 - val_loss: 0.4549 - val_masked_acc: 0.7680 - val_masked_auc: 0.8114\n",
      "Epoch 12/100\n",
      "14/14 [==============================] - 2s 117ms/step - loss: 0.4292 - masked_acc: 0.7681 - masked_auc: 0.8117 - val_loss: 0.4553 - val_masked_acc: 0.7684 - val_masked_auc: 0.8122\n",
      "Epoch 13/100\n",
      "14/14 [==============================] - 2s 112ms/step - loss: 0.4271 - masked_acc: 0.7685 - masked_auc: 0.8124 - val_loss: 0.4550 - val_masked_acc: 0.7687 - val_masked_auc: 0.8129\n",
      "Epoch 14/100\n",
      "14/14 [==============================] - 2s 115ms/step - loss: 0.4338 - masked_acc: 0.7687 - masked_auc: 0.8130 - val_loss: 0.4539 - val_masked_acc: 0.7690 - val_masked_auc: 0.8135\n",
      "Epoch 15/100\n",
      "14/14 [==============================] - 2s 116ms/step - loss: 0.4317 - masked_acc: 0.7691 - masked_auc: 0.8136 - val_loss: 0.4535 - val_masked_acc: 0.7693 - val_masked_auc: 0.8140\n",
      "Epoch 16/100\n",
      "14/14 [==============================] - 2s 114ms/step - loss: 0.4347 - masked_acc: 0.7693 - masked_auc: 0.8141 - val_loss: 0.4546 - val_masked_acc: 0.7695 - val_masked_auc: 0.8144\n",
      "Epoch 17/100\n",
      "14/14 [==============================] - 2s 114ms/step - loss: 0.4382 - masked_acc: 0.7695 - masked_auc: 0.8145 - val_loss: 0.4540 - val_masked_acc: 0.7697 - val_masked_auc: 0.8149\n",
      "Epoch 18/100\n",
      "14/14 [==============================] - 2s 114ms/step - loss: 0.4285 - masked_acc: 0.7698 - masked_auc: 0.8150 - val_loss: 0.4535 - val_masked_acc: 0.7699 - val_masked_auc: 0.8152\n",
      "Epoch 19/100\n",
      "14/14 [==============================] - 2s 114ms/step - loss: 0.4331 - masked_acc: 0.7699 - masked_auc: 0.8153 - val_loss: 0.4547 - val_masked_acc: 0.7701 - val_masked_auc: 0.8155\n",
      "Epoch 20/100\n",
      "14/14 [==============================] - 3s 246ms/step - loss: 0.4296 - masked_acc: 0.7701 - masked_auc: 0.8156 - val_loss: 0.4549 - val_masked_acc: 0.7702 - val_masked_auc: 0.8158\n",
      "Epoch 21/100\n",
      "14/14 [==============================] - 4s 285ms/step - loss: 0.4333 - masked_acc: 0.7702 - masked_auc: 0.8159 - val_loss: 0.4559 - val_masked_acc: 0.7703 - val_masked_auc: 0.8160\n",
      "Epoch 22/100\n",
      "14/14 [==============================] - 4s 308ms/step - loss: 0.4314 - masked_acc: 0.7703 - masked_auc: 0.8161 - val_loss: 0.4545 - val_masked_acc: 0.7704 - val_masked_auc: 0.8163\n",
      "Epoch 23/100\n",
      "14/14 [==============================] - 4s 317ms/step - loss: 0.4308 - masked_acc: 0.7705 - masked_auc: 0.8163 - val_loss: 0.4543 - val_masked_acc: 0.7705 - val_masked_auc: 0.8164\n",
      "Epoch 24/100\n",
      "14/14 [==============================] - 4s 285ms/step - loss: 0.4324 - masked_acc: 0.7706 - masked_auc: 0.8165 - val_loss: 0.4534 - val_masked_acc: 0.7706 - val_masked_auc: 0.8166\n",
      "Epoch 25/100\n",
      "14/14 [==============================] - 4s 307ms/step - loss: 0.4367 - masked_acc: 0.7706 - masked_auc: 0.8167 - val_loss: 0.4539 - val_masked_acc: 0.7707 - val_masked_auc: 0.8168\n",
      "Epoch 26/100\n",
      "14/14 [==============================] - 3s 221ms/step - loss: 0.4353 - masked_acc: 0.7707 - masked_auc: 0.8168 - val_loss: 0.4541 - val_masked_acc: 0.7708 - val_masked_auc: 0.8170\n",
      "Epoch 27/100\n",
      "14/14 [==============================] - 2s 153ms/step - loss: 0.4341 - masked_acc: 0.7707 - masked_auc: 0.8170 - val_loss: 0.4546 - val_masked_acc: 0.7709 - val_masked_auc: 0.8171\n",
      "Epoch 28/100\n",
      "14/14 [==============================] - 2s 119ms/step - loss: 0.4330 - masked_acc: 0.7709 - masked_auc: 0.8172 - val_loss: 0.4540 - val_masked_acc: 0.7710 - val_masked_auc: 0.8173\n",
      "Epoch 29/100\n",
      "14/14 [==============================] - 2s 116ms/step - loss: 0.4345 - masked_acc: 0.7710 - masked_auc: 0.8173 - val_loss: 0.4536 - val_masked_acc: 0.7710 - val_masked_auc: 0.8174\n",
      "Epoch 30/100\n",
      "14/14 [==============================] - 2s 119ms/step - loss: 0.4246 - masked_acc: 0.7711 - masked_auc: 0.8175 - val_loss: 0.4541 - val_masked_acc: 0.7711 - val_masked_auc: 0.8176\n",
      "Epoch 31/100\n",
      "14/14 [==============================] - 2s 118ms/step - loss: 0.4324 - masked_acc: 0.7711 - masked_auc: 0.8176 - val_loss: 0.4540 - val_masked_acc: 0.7712 - val_masked_auc: 0.8177\n",
      "Epoch 32/100\n",
      "14/14 [==============================] - 2s 122ms/step - loss: 0.4334 - masked_acc: 0.7712 - masked_auc: 0.8177 - val_loss: 0.4533 - val_masked_acc: 0.7712 - val_masked_auc: 0.8178\n",
      "Epoch 33/100\n",
      "14/14 [==============================] - 2s 127ms/step - loss: 0.4395 - masked_acc: 0.7712 - masked_auc: 0.8178 - val_loss: 0.4541 - val_masked_acc: 0.7713 - val_masked_auc: 0.8179\n",
      "Epoch 34/100\n",
      "14/14 [==============================] - 2s 118ms/step - loss: 0.4366 - masked_acc: 0.7713 - masked_auc: 0.8179 - val_loss: 0.4542 - val_masked_acc: 0.7713 - val_masked_auc: 0.8180\n",
      "Epoch 35/100\n",
      "14/14 [==============================] - 2s 120ms/step - loss: 0.4306 - masked_acc: 0.7713 - masked_auc: 0.8180 - val_loss: 0.4536 - val_masked_acc: 0.7714 - val_masked_auc: 0.8181\n",
      "Epoch 36/100\n",
      "14/14 [==============================] - 2s 134ms/step - loss: 0.4417 - masked_acc: 0.7713 - masked_auc: 0.8181 - val_loss: 0.4536 - val_masked_acc: 0.7714 - val_masked_auc: 0.8182\n",
      "Epoch 37/100\n",
      "14/14 [==============================] - 2s 123ms/step - loss: 0.4323 - masked_acc: 0.7714 - masked_auc: 0.8182 - val_loss: 0.4536 - val_masked_acc: 0.7715 - val_masked_auc: 0.8183\n",
      "Epoch 38/100\n",
      "14/14 [==============================] - 2s 123ms/step - loss: 0.4344 - masked_acc: 0.7715 - masked_auc: 0.8183 - val_loss: 0.4540 - val_masked_acc: 0.7715 - val_masked_auc: 0.8183\n",
      "Epoch 39/100\n",
      "14/14 [==============================] - 2s 125ms/step - loss: 0.4366 - masked_acc: 0.7715 - masked_auc: 0.8184 - val_loss: 0.4556 - val_masked_acc: 0.7716 - val_masked_auc: 0.8184\n",
      "Epoch 40/100\n",
      "14/14 [==============================] - 2s 126ms/step - loss: 0.4274 - masked_acc: 0.7716 - masked_auc: 0.8184 - val_loss: 0.4536 - val_masked_acc: 0.7716 - val_masked_auc: 0.8185\n",
      "Epoch 41/100\n",
      "14/14 [==============================] - 2s 120ms/step - loss: 0.4302 - masked_acc: 0.7716 - masked_auc: 0.8185 - val_loss: 0.4536 - val_masked_acc: 0.7716 - val_masked_auc: 0.8186\n",
      "Epoch 42/100\n",
      "14/14 [==============================] - 2s 121ms/step - loss: 0.4320 - masked_acc: 0.7716 - masked_auc: 0.8186 - val_loss: 0.4547 - val_masked_acc: 0.7717 - val_masked_auc: 0.8186\n",
      "28/28 [==============================] - 1s 30ms/step - loss: 0.4332 - masked_acc: 0.7718 - masked_auc: 0.8188\n",
      "4/4 [==============================] - 0s 24ms/step - loss: 0.4379 - masked_acc: 0.7718 - masked_auc: 0.8187\n",
      "Test:  [0.4378644824028015, 0.7717507481575012, 0.818740725517273]\n",
      "Epoch 1/100\n",
      "14/14 [==============================] - 4s 163ms/step - loss: 0.6113 - masked_acc: 0.5286 - masked_auc: 0.5283 - val_loss: 0.4509 - val_masked_acc: 0.6980 - val_masked_auc: 0.6790\n",
      "Epoch 2/100\n",
      "14/14 [==============================] - 2s 118ms/step - loss: 0.4648 - masked_acc: 0.7118 - masked_auc: 0.7102 - val_loss: 0.4316 - val_masked_acc: 0.7330 - val_masked_auc: 0.7496\n",
      "Epoch 3/100\n",
      "14/14 [==============================] - 2s 118ms/step - loss: 0.4511 - masked_acc: 0.7371 - masked_auc: 0.7576 - val_loss: 0.4287 - val_masked_acc: 0.7459 - val_masked_auc: 0.7724\n",
      "Epoch 4/100\n",
      "14/14 [==============================] - 2s 122ms/step - loss: 0.4429 - masked_acc: 0.7479 - masked_auc: 0.7767 - val_loss: 0.4262 - val_masked_acc: 0.7526 - val_masked_auc: 0.7847\n",
      "Epoch 5/100\n",
      "14/14 [==============================] - 2s 140ms/step - loss: 0.4413 - masked_acc: 0.7535 - masked_auc: 0.7872 - val_loss: 0.4258 - val_masked_acc: 0.7565 - val_masked_auc: 0.7919\n",
      "Epoch 6/100\n",
      "14/14 [==============================] - 2s 121ms/step - loss: 0.4390 - masked_acc: 0.7572 - masked_auc: 0.7936 - val_loss: 0.4275 - val_masked_acc: 0.7592 - val_masked_auc: 0.7967\n",
      "Epoch 7/100\n",
      "14/14 [==============================] - 2s 121ms/step - loss: 0.4410 - masked_acc: 0.7597 - masked_auc: 0.7981 - val_loss: 0.4249 - val_masked_acc: 0.7611 - val_masked_auc: 0.8001\n",
      "Epoch 8/100\n",
      "14/14 [==============================] - 2s 120ms/step - loss: 0.4364 - masked_acc: 0.7615 - masked_auc: 0.8010 - val_loss: 0.4258 - val_masked_acc: 0.7626 - val_masked_auc: 0.8026\n",
      "Epoch 9/100\n",
      "14/14 [==============================] - 2s 119ms/step - loss: 0.4417 - masked_acc: 0.7628 - masked_auc: 0.8031 - val_loss: 0.4243 - val_masked_acc: 0.7638 - val_masked_auc: 0.8046\n",
      "Epoch 10/100\n",
      "14/14 [==============================] - 2s 117ms/step - loss: 0.4395 - masked_acc: 0.7640 - masked_auc: 0.8052 - val_loss: 0.4241 - val_masked_acc: 0.7647 - val_masked_auc: 0.8062\n",
      "Epoch 11/100\n",
      "14/14 [==============================] - 2s 117ms/step - loss: 0.4367 - masked_acc: 0.7649 - masked_auc: 0.8067 - val_loss: 0.4262 - val_masked_acc: 0.7655 - val_masked_auc: 0.8074\n",
      "Epoch 12/100\n",
      "14/14 [==============================] - 2s 117ms/step - loss: 0.4407 - masked_acc: 0.7657 - masked_auc: 0.8079 - val_loss: 0.4305 - val_masked_acc: 0.7661 - val_masked_auc: 0.8084\n",
      "Epoch 13/100\n",
      "14/14 [==============================] - 2s 118ms/step - loss: 0.4444 - masked_acc: 0.7662 - masked_auc: 0.8086 - val_loss: 0.4262 - val_masked_acc: 0.7666 - val_masked_auc: 0.8092\n",
      "Epoch 14/100\n",
      "14/14 [==============================] - 2s 119ms/step - loss: 0.4421 - masked_acc: 0.7666 - masked_auc: 0.8094 - val_loss: 0.4268 - val_masked_acc: 0.7670 - val_masked_auc: 0.8099\n",
      "Epoch 15/100\n",
      "14/14 [==============================] - 2s 116ms/step - loss: 0.4432 - masked_acc: 0.7670 - masked_auc: 0.8101 - val_loss: 0.4254 - val_masked_acc: 0.7674 - val_masked_auc: 0.8106\n",
      "Epoch 16/100\n",
      "14/14 [==============================] - 2s 122ms/step - loss: 0.4378 - masked_acc: 0.7675 - masked_auc: 0.8108 - val_loss: 0.4249 - val_masked_acc: 0.7678 - val_masked_auc: 0.8112\n",
      "Epoch 17/100\n",
      "14/14 [==============================] - 2s 130ms/step - loss: 0.4437 - masked_acc: 0.7678 - masked_auc: 0.8114 - val_loss: 0.4244 - val_masked_acc: 0.7681 - val_masked_auc: 0.8117\n",
      "Epoch 18/100\n",
      "14/14 [==============================] - 2s 120ms/step - loss: 0.4418 - masked_acc: 0.7681 - masked_auc: 0.8118 - val_loss: 0.4253 - val_masked_acc: 0.7684 - val_masked_auc: 0.8122\n",
      "Epoch 19/100\n",
      "14/14 [==============================] - 2s 120ms/step - loss: 0.4414 - masked_acc: 0.7684 - masked_auc: 0.8123 - val_loss: 0.4294 - val_masked_acc: 0.7686 - val_masked_auc: 0.8126\n",
      "Epoch 20/100\n",
      "14/14 [==============================] - 2s 116ms/step - loss: 0.4377 - masked_acc: 0.7687 - masked_auc: 0.8127 - val_loss: 0.4245 - val_masked_acc: 0.7689 - val_masked_auc: 0.8129\n",
      "28/28 [==============================] - 1s 29ms/step - loss: 0.4384 - masked_acc: 0.7692 - masked_auc: 0.8133\n",
      "4/4 [==============================] - 0s 25ms/step - loss: 0.4307 - masked_acc: 0.7691 - masked_auc: 0.8134\n",
      "Test:  [0.4306810796260834, 0.7690552473068237, 0.8133689165115356]\n",
      "Epoch 1/100\n",
      "14/14 [==============================] - 4s 170ms/step - loss: 0.5863 - masked_acc: 0.6143 - masked_auc: 0.5501 - val_loss: 0.4691 - val_masked_acc: 0.7119 - val_masked_auc: 0.6916\n",
      "Epoch 2/100\n",
      "14/14 [==============================] - 2s 116ms/step - loss: 0.4659 - masked_acc: 0.7215 - masked_auc: 0.7195 - val_loss: 0.4357 - val_masked_acc: 0.7397 - val_masked_auc: 0.7539\n",
      "Epoch 3/100\n",
      "14/14 [==============================] - 2s 118ms/step - loss: 0.4504 - masked_acc: 0.7431 - masked_auc: 0.7623 - val_loss: 0.4314 - val_masked_acc: 0.7501 - val_masked_auc: 0.7759\n",
      "Epoch 4/100\n",
      "14/14 [==============================] - 2s 116ms/step - loss: 0.4476 - masked_acc: 0.7512 - masked_auc: 0.7798 - val_loss: 0.4289 - val_masked_acc: 0.7553 - val_masked_auc: 0.7870\n",
      "Epoch 5/100\n",
      "14/14 [==============================] - 2s 119ms/step - loss: 0.4403 - masked_acc: 0.7562 - masked_auc: 0.7893 - val_loss: 0.4292 - val_masked_acc: 0.7584 - val_masked_auc: 0.7937\n",
      "Epoch 6/100\n",
      "14/14 [==============================] - 2s 116ms/step - loss: 0.4406 - masked_acc: 0.7588 - masked_auc: 0.7952 - val_loss: 0.4296 - val_masked_acc: 0.7605 - val_masked_auc: 0.7981\n",
      "Epoch 7/100\n",
      "14/14 [==============================] - 2s 120ms/step - loss: 0.4454 - masked_acc: 0.7607 - masked_auc: 0.7989 - val_loss: 0.4294 - val_masked_acc: 0.7621 - val_masked_auc: 0.8012\n",
      "Epoch 8/100\n",
      "14/14 [==============================] - 2s 122ms/step - loss: 0.4450 - masked_acc: 0.7622 - masked_auc: 0.8018 - val_loss: 0.4292 - val_masked_acc: 0.7632 - val_masked_auc: 0.8035\n",
      "Epoch 9/100\n",
      "14/14 [==============================] - 2s 145ms/step - loss: 0.4374 - masked_acc: 0.7635 - masked_auc: 0.8041 - val_loss: 0.4293 - val_masked_acc: 0.7641 - val_masked_auc: 0.8052\n",
      "Epoch 10/100\n",
      "14/14 [==============================] - 2s 123ms/step - loss: 0.4384 - masked_acc: 0.7643 - masked_auc: 0.8058 - val_loss: 0.4316 - val_masked_acc: 0.7648 - val_masked_auc: 0.8065\n",
      "Epoch 11/100\n",
      "14/14 [==============================] - 2s 121ms/step - loss: 0.4431 - masked_acc: 0.7648 - masked_auc: 0.8068 - val_loss: 0.4322 - val_masked_acc: 0.7653 - val_masked_auc: 0.8076\n",
      "Epoch 12/100\n",
      "14/14 [==============================] - 2s 122ms/step - loss: 0.4402 - masked_acc: 0.7654 - masked_auc: 0.8079 - val_loss: 0.4285 - val_masked_acc: 0.7658 - val_masked_auc: 0.8085\n",
      "Epoch 13/100\n",
      "14/14 [==============================] - 2s 115ms/step - loss: 0.4468 - masked_acc: 0.7657 - masked_auc: 0.8086 - val_loss: 0.4320 - val_masked_acc: 0.7662 - val_masked_auc: 0.8093\n",
      "Epoch 14/100\n",
      "14/14 [==============================] - 2s 117ms/step - loss: 0.4403 - masked_acc: 0.7663 - masked_auc: 0.8095 - val_loss: 0.4287 - val_masked_acc: 0.7666 - val_masked_auc: 0.8100\n",
      "Epoch 15/100\n",
      "14/14 [==============================] - 2s 116ms/step - loss: 0.4416 - masked_acc: 0.7666 - masked_auc: 0.8102 - val_loss: 0.4299 - val_masked_acc: 0.7670 - val_masked_auc: 0.8106\n",
      "Epoch 16/100\n",
      "14/14 [==============================] - 2s 120ms/step - loss: 0.4366 - masked_acc: 0.7670 - masked_auc: 0.8108 - val_loss: 0.4290 - val_masked_acc: 0.7672 - val_masked_auc: 0.8111\n",
      "Epoch 17/100\n",
      "14/14 [==============================] - 2s 118ms/step - loss: 0.4362 - masked_acc: 0.7673 - masked_auc: 0.8113 - val_loss: 0.4303 - val_masked_acc: 0.7675 - val_masked_auc: 0.8116\n",
      "Epoch 18/100\n",
      "14/14 [==============================] - 2s 132ms/step - loss: 0.4444 - masked_acc: 0.7675 - masked_auc: 0.8118 - val_loss: 0.4289 - val_masked_acc: 0.7677 - val_masked_auc: 0.8120\n",
      "Epoch 19/100\n",
      "14/14 [==============================] - 2s 132ms/step - loss: 0.4392 - masked_acc: 0.7677 - masked_auc: 0.8122 - val_loss: 0.4292 - val_masked_acc: 0.7679 - val_masked_auc: 0.8124\n",
      "Epoch 20/100\n",
      "14/14 [==============================] - 2s 118ms/step - loss: 0.4395 - masked_acc: 0.7679 - masked_auc: 0.8125 - val_loss: 0.4309 - val_masked_acc: 0.7681 - val_masked_auc: 0.8127\n",
      "Epoch 21/100\n",
      "14/14 [==============================] - 2s 123ms/step - loss: 0.4458 - masked_acc: 0.7680 - masked_auc: 0.8128 - val_loss: 0.4293 - val_masked_acc: 0.7682 - val_masked_auc: 0.8130\n",
      "Epoch 22/100\n",
      "14/14 [==============================] - 2s 115ms/step - loss: 0.4354 - masked_acc: 0.7682 - masked_auc: 0.8131 - val_loss: 0.4334 - val_masked_acc: 0.7683 - val_masked_auc: 0.8133\n",
      "28/28 [==============================] - 1s 29ms/step - loss: 0.4414 - masked_acc: 0.7686 - masked_auc: 0.8135\n",
      "4/4 [==============================] - 0s 23ms/step - loss: 0.4160 - masked_acc: 0.7685 - masked_auc: 0.8136\n",
      "Test:  [0.4159514009952545, 0.7685086131095886, 0.8135660886764526]\n"
     ]
    }
   ],
   "source": [
    "# 5 fold cross validation with LSTM-based model\n",
    "import torch\n",
    "X = np.array(grouped_data.keys())\n",
    "kfold = KFold(n_splits=5, shuffle=True)\n",
    "train_losses = list()\n",
    "train_aucs = list()\n",
    "val_losses = list()\n",
    "val_aucs = list()\n",
    "train_eval = list()\n",
    "test_eval = list()\n",
    "for train, test in kfold.split(X):\n",
    "    users_train, users_test =  X[train], X[test]\n",
    "    n = len(users_test)//2\n",
    "    users_test, users_val = users_test[:n], users_test[n: ]\n",
    "    train_data_space = SPACE_DATASET(grouped_data[users_train], MAXLENGTH)\n",
    "    val_data_space = SPACE_DATASET(grouped_data[users_val], MAXLENGTH)\n",
    "    test_data_space = SPACE_DATASET(grouped_data[users_test], MAXLENGTH)\n",
    "    #construct training input\n",
    "    train_chapter=[]\n",
    "    train_sub_chapter=[]\n",
    "    train_question = []\n",
    "    train_features=[]\n",
    "    #train_shifted_t = []\n",
    "    train_labels=[]\n",
    "    for i in range(len(users_train)):\n",
    "        user = train_data_space.__getitem__(i)\n",
    "        train_chapter.append(user[0])\n",
    "        train_sub_chapter.append(user[1]) \n",
    "        train_question.append(user[2])\n",
    "        train_features.append(user[3])\n",
    "        #train_shifted_t.append(user[4])\n",
    "        train_labels.append(user[5])\n",
    "    train_chapter = np.array(train_chapter)\n",
    "    train_sub_chapter = np.array(train_sub_chapter)\n",
    "    train_question = np.array(train_question)\n",
    "    train_features = np.array(train_features)\n",
    "    #train_shifted_t = np.array(train_shifted_t)\n",
    "    train_labels= np.array(train_labels)[..., np.newaxis]\n",
    "\n",
    "    #construct validation input\n",
    "    val_chapter=[]\n",
    "    val_sub_chapter=[]\n",
    "    val_question = []\n",
    "    val_features=[]\n",
    "    #val_shifted_t = []\n",
    "    val_labels=[]\n",
    "    for i in range(len(users_val)):\n",
    "        user = val_data_space.__getitem__(i)\n",
    "        val_chapter.append(user[0])\n",
    "        val_sub_chapter.append(user[1]) \n",
    "        val_question.append(user[2])\n",
    "        val_features.append(user[3])\n",
    "        #val_shifted_t.append(user[4])\n",
    "        val_labels.append(user[5])\n",
    "    val_chapter = np.array(val_chapter)\n",
    "    val_sub_chapter = np.array(val_sub_chapter)\n",
    "    val_features = np.array(val_features)\n",
    "    val_question = np.array(val_question)\n",
    "    #val_shifted_t = np.array(val_shifted_t)\n",
    "    val_labels= np.array(val_labels)[..., np.newaxis]\n",
    "\n",
    "    # construct test input\n",
    "    test_chapter=[]\n",
    "    test_sub_chapter=[]\n",
    "    test_features=[]\n",
    "    test_question=[]\n",
    "    #test_shifted_t = []\n",
    "    test_labels=[]\n",
    "    for i in range(len(users_test)):\n",
    "        user = test_data_space.__getitem__(i)\n",
    "        test_chapter.append(user[0])\n",
    "        test_sub_chapter.append(user[1]) \n",
    "        test_question.append(user[2])\n",
    "        test_features.append(user[3])\n",
    "        #test_shifted_t.append(user[4])\n",
    "        test_labels.append(user[5])\n",
    "    test_chapter = np.array(test_chapter)\n",
    "    test_sub_chapter = np.array(test_sub_chapter)\n",
    "    test_features = np.array(test_features)\n",
    "    test_question = np.array(test_question)\n",
    "    #test_shifted_t = np.array(test_shifted_t)\n",
    "    test_labels= np.array(test_labels)[..., np.newaxis]\n",
    "\n",
    "    # define loss function and evaluation metrics\n",
    "    bce = tf.keras.losses.BinaryCrossentropy(from_logits=True)\n",
    "    acc = tf.keras.metrics.Accuracy()\n",
    "    auc = tf.keras.metrics.AUC()\n",
    "\n",
    "    def masked_bce(y_true, y_pred):\n",
    "      flat_pred = y_pred\n",
    "      flat_ground_truth = y_true\n",
    "      label_mask = tf.math.not_equal(flat_ground_truth, -1)\n",
    "      return bce(flat_ground_truth, flat_pred, sample_weight=label_mask)\n",
    "\n",
    "    def masked_acc(y_true, y_pred):\n",
    "      flat_pred = y_pred\n",
    "      flat_ground_truth = y_true\n",
    "      flat_pred = (flat_pred >= 0.5)\n",
    "      label_mask = tf.math.not_equal(flat_ground_truth, -1)\n",
    "      return acc(flat_ground_truth, flat_pred, sample_weight=label_mask)\n",
    "\n",
    "    def masked_auc(y_true, y_pred):\n",
    "      flat_pred = y_pred\n",
    "      flat_ground_truth = y_true\n",
    "      label_mask = tf.math.not_equal(flat_ground_truth, -1)\n",
    "      return auc(flat_ground_truth, flat_pred, sample_weight=label_mask)\n",
    "\n",
    "    # input layer\n",
    "    input_chap = tf.keras.Input(shape=(MAXLENGTH))\n",
    "    input_sub_chap = tf.keras.Input(shape=(MAXLENGTH))\n",
    "    input_ques =  tf.keras.Input(shape=(MAXLENGTH))\n",
    "    #input_shifted = tf.keras.Input(shape=(MAXLENGTH))\n",
    "    input_features = tf.keras.Input(shape=(MAXLENGTH, FEATURES_SIZE))\n",
    "\n",
    "    # embedding layer for categorical features\n",
    "    embedding_chap = Embedding(input_dim = CHAPTER_SIZE, output_dim = EMBEDDING_DIM)(input_chap)\n",
    "    embedding_sub_chap = Embedding(input_dim = SUB_CHAPTER_SIZE, output_dim = EMBEDDING_DIM)(input_sub_chap) \n",
    "    embedding_ques = Embedding(input_dim = QUESTION_SIZE, output_dim = EMBEDDING_DIM)(input_ques)       \n",
    "    #embedding_shifted = Embedding(input_dim = 3, output_dim = EMBEDDING_DIM)(input_shifted)\n",
    "    # dense layer for numeric features\n",
    "    dense_features = Dense(EMBEDDING_DIM,input_shape = (None, MAXLENGTH))(input_features)\n",
    "    \n",
    "    output = tf.concat([embedding_chap, embedding_sub_chap, embedding_ques, dense_features], axis = 2)\n",
    "\n",
    "    pred = Dense(1, input_shape = (None, 4*EMBEDDING_DIM), activation='sigmoid')(output)\n",
    "\n",
    "    model = tf.keras.Model(\n",
    "        inputs=[input_chap, input_sub_chap,input_ques, input_features],\n",
    "        outputs=pred,\n",
    "        name='logistic_regression'\n",
    "    )\n",
    "\n",
    "    callback = tf.keras.callbacks.EarlyStopping(monitor='val_loss', patience=10)\n",
    "    opt_adam = Adam(learning_rate = 0.005)\n",
    "    model.compile(\n",
    "        optimizer=opt_adam,\n",
    "        loss= masked_bce,\n",
    "        metrics = [masked_acc, masked_auc]\n",
    "    )\n",
    "\n",
    "    history = model.fit(\n",
    "      [train_chapter, train_sub_chapter, train_question, train_features],\n",
    "      train_labels,\n",
    "      batch_size = 64,\n",
    "      epochs = 100,\n",
    "      validation_data=([val_chapter, val_sub_chapter, val_question, val_features], val_labels),\n",
    "      callbacks=[callback]\n",
    "    )\n",
    "    val_losses.append(list(history.history['val_loss']))\n",
    "    train_losses.append(list(history.history['loss']))\n",
    "    val_aucs.append(list(history.history['val_masked_auc']))\n",
    "    train_aucs.append(list(history.history['masked_auc']))\n",
    "    train_score = model.evaluate([train_chapter, train_sub_chapter, train_question, train_features], train_labels)\n",
    "    train_eval.append(train_score)\n",
    "    test_score = model.evaluate([test_chapter, test_sub_chapter, test_question, test_features], test_labels)\n",
    "    test_eval.append(test_score)\n",
    "    print(\"Test: \", test_score)\n",
    "    def reset_weights(model):\n",
    "      for layer in model.layers: \n",
    "        if isinstance(layer, tf.keras.Model):\n",
    "          reset_weights(layer)\n",
    "          continue\n",
    "        for k, initializer in layer.__dict__.items():\n",
    "          if \"initializer\" not in k:\n",
    "            continue\n",
    "          # find the corresponding variable\n",
    "          var = getattr(layer, k.replace(\"_initializer\", \"\"))\n",
    "          var.assign(initializer(var.shape, var.dtype))\n",
    "    reset_weights(model)"
   ]
  },
  {
   "cell_type": "code",
   "execution_count": 31,
   "metadata": {
    "execution": {
     "iopub.execute_input": "2021-08-08T17:25:05.552695Z",
     "iopub.status.busy": "2021-08-08T17:25:05.551574Z",
     "iopub.status.idle": "2021-08-08T17:25:05.557860Z",
     "shell.execute_reply": "2021-08-08T17:25:05.556948Z",
     "shell.execute_reply.started": "2021-08-06T21:11:24.771838Z"
    },
    "id": "QsVmumHMz3lx",
    "outputId": "4ff1e2fa-6abb-458e-c729-495b456f53e5",
    "papermill": {
     "duration": 1.247675,
     "end_time": "2021-08-08T17:25:05.558204",
     "exception": false,
     "start_time": "2021-08-08T17:25:04.310529",
     "status": "completed"
    },
    "tags": []
   },
   "outputs": [
    {
     "name": "stdout",
     "output_type": "stream",
     "text": [
      "test avg loss:  0.4327146589756012 +/- 0.009735166909349748\n",
      "test avg acc:  0.7705683946609497 +/- 0.0014697670074612708\n",
      "test avg auc:  0.8165667295455933 +/- 0.0025562667162050364\n"
     ]
    }
   ],
   "source": [
    "t_eval = np.array(test_eval)\n",
    "print(\"test avg loss: \", np.mean(t_eval[:, 0]), \"+/-\" ,np.std(t_eval[:, 0]))\n",
    "print(\"test avg acc: \", np.mean(t_eval[:, 1]),  \"+/-\" ,np.std(t_eval[:, 1]))\n",
    "print(\"test avg auc: \", np.mean(t_eval[:, 2]), \"+/-\" ,np.std(t_eval[:, 2]))"
   ]
  },
  {
   "cell_type": "code",
   "execution_count": 32,
   "metadata": {
    "execution": {
     "iopub.execute_input": "2021-08-08T17:25:07.861480Z",
     "iopub.status.busy": "2021-08-08T17:25:07.860383Z",
     "iopub.status.idle": "2021-08-08T17:25:07.865626Z",
     "shell.execute_reply": "2021-08-08T17:25:07.866165Z",
     "shell.execute_reply.started": "2021-08-06T21:11:24.782922Z"
    },
    "id": "b9MM_CXWz5K6",
    "outputId": "4cf88e1d-3a74-4e7d-f92c-d01522e91757",
    "papermill": {
     "duration": 1.161444,
     "end_time": "2021-08-08T17:25:07.866346",
     "exception": false,
     "start_time": "2021-08-08T17:25:06.704902",
     "status": "completed"
    },
    "tags": []
   },
   "outputs": [
    {
     "name": "stdout",
     "output_type": "stream",
     "text": [
      "train avg loss:  0.43548718094825745 +/- 0.003974632853617095\n",
      "train avg acc:  0.7706727147102356 +/- 0.0014719485546279057\n",
      "train avg auc:  0.8165771126747131 +/- 0.002587649180220568\n"
     ]
    }
   ],
   "source": [
    "t_eval = np.array(train_eval)\n",
    "print(\"train avg loss: \", np.mean(t_eval[:, 0]), \"+/-\" ,np.std(t_eval[:, 0]))\n",
    "print(\"train avg acc: \", np.mean(t_eval[:, 1]),  \"+/-\" ,np.std(t_eval[:, 1]))\n",
    "print(\"train avg auc: \", np.mean(t_eval[:, 2]), \"+/-\" ,np.std(t_eval[:, 2]))"
   ]
  }
 ],
 "metadata": {
  "kernelspec": {
   "display_name": "Python 3",
   "language": "python",
   "name": "python3"
  },
  "language_info": {
   "codemirror_mode": {
    "name": "ipython",
    "version": 3
   },
   "file_extension": ".py",
   "mimetype": "text/x-python",
   "name": "python",
   "nbconvert_exporter": "python",
   "pygments_lexer": "ipython3",
   "version": "3.8.5"
  },
  "papermill": {
   "default_parameters": {},
   "duration": 768.395801,
   "end_time": "2021-08-08T17:25:11.105279",
   "environment_variables": {},
   "exception": null,
   "input_path": "__notebook__.ipynb",
   "output_path": "__notebook__.ipynb",
   "parameters": {},
   "start_time": "2021-08-08T17:12:22.709478",
   "version": "2.3.3"
  }
 },
 "nbformat": 4,
 "nbformat_minor": 5
}
