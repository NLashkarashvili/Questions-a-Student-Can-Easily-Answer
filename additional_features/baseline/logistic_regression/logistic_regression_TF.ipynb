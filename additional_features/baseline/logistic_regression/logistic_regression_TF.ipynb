{
 "cells": [
  {
   "cell_type": "code",
   "execution_count": 1,
   "metadata": {
    "execution": {
     "iopub.execute_input": "2021-08-08T17:53:59.695557Z",
     "iopub.status.busy": "2021-08-08T17:53:59.694332Z",
     "iopub.status.idle": "2021-08-08T17:54:06.029102Z",
     "shell.execute_reply": "2021-08-08T17:54:06.028049Z",
     "shell.execute_reply.started": "2021-08-06T21:05:15.103244Z"
    },
    "id": "farifxiKU1aB",
    "papermill": {
     "duration": 6.366772,
     "end_time": "2021-08-08T17:54:06.029281",
     "exception": false,
     "start_time": "2021-08-08T17:53:59.662509",
     "status": "completed"
    },
    "tags": []
   },
   "outputs": [],
   "source": [
    "import numpy as np\n",
    "import pandas as pd\n",
    "import warnings\n",
    "import gc\n",
    "import tensorflow as tf\n",
    "from tensorflow import keras\n",
    "\n",
    "import random\n",
    "from random import choice\n",
    "from tensorflow.keras.optimizers import Adam\n",
    "from tensorflow.keras.models import Sequential \n",
    "from tensorflow.keras.layers import Dense, GRU, Concatenate, Embedding, Flatten, Activation, Dropout\n",
    "from sklearn.model_selection import KFold\n",
    "from tensorflow.python.client import device_lib\n",
    "warnings.filterwarnings('ignore')\n",
    "import random"
   ]
  },
  {
   "cell_type": "code",
   "execution_count": 2,
   "metadata": {
    "execution": {
     "iopub.execute_input": "2021-08-08T17:54:06.089504Z",
     "iopub.status.busy": "2021-08-08T17:54:06.088912Z",
     "iopub.status.idle": "2021-08-08T17:54:06.091827Z",
     "shell.execute_reply": "2021-08-08T17:54:06.091308Z",
     "shell.execute_reply.started": "2021-08-06T21:05:15.117334Z"
    },
    "id": "QOson70GPOXb",
    "papermill": {
     "duration": 0.034879,
     "end_time": "2021-08-08T17:54:06.091965",
     "exception": false,
     "start_time": "2021-08-08T17:54:06.057086",
     "status": "completed"
    },
    "tags": []
   },
   "outputs": [],
   "source": [
    "import gc"
   ]
  },
  {
   "cell_type": "markdown",
   "metadata": {
    "id": "BQsVybBH3VPw",
    "papermill": {
     "duration": 0.027125,
     "end_time": "2021-08-08T17:54:06.147086",
     "exception": false,
     "start_time": "2021-08-08T17:54:06.119961",
     "status": "completed"
    },
    "tags": []
   },
   "source": [
    "## Data Preprocessing"
   ]
  },
  {
   "cell_type": "code",
   "execution_count": 3,
   "metadata": {
    "execution": {
     "iopub.execute_input": "2021-08-08T17:54:06.207209Z",
     "iopub.status.busy": "2021-08-08T17:54:06.206539Z",
     "iopub.status.idle": "2021-08-08T17:54:12.551657Z",
     "shell.execute_reply": "2021-08-08T17:54:12.551072Z",
     "shell.execute_reply.started": "2021-08-06T21:05:15.141773Z"
    },
    "id": "rwtTusGxrmAE",
    "outputId": "1430f3cf-038b-485e-b5c4-c1686b1f34fd",
    "papermill": {
     "duration": 6.377142,
     "end_time": "2021-08-08T17:54:12.551824",
     "exception": false,
     "start_time": "2021-08-08T17:54:06.174682",
     "status": "completed"
    },
    "tags": []
   },
   "outputs": [
    {
     "data": {
      "text/html": [
       "<div>\n",
       "<style scoped>\n",
       "    .dataframe tbody tr th:only-of-type {\n",
       "        vertical-align: middle;\n",
       "    }\n",
       "\n",
       "    .dataframe tbody tr th {\n",
       "        vertical-align: top;\n",
       "    }\n",
       "\n",
       "    .dataframe thead th {\n",
       "        text-align: right;\n",
       "    }\n",
       "</style>\n",
       "<table border=\"1\" class=\"dataframe\">\n",
       "  <thead>\n",
       "    <tr style=\"text-align: right;\">\n",
       "      <th></th>\n",
       "      <th>Unnamed: 0</th>\n",
       "      <th>chapter_label</th>\n",
       "      <th>sub_chapter_label</th>\n",
       "      <th>question_name</th>\n",
       "      <th>user_id.x</th>\n",
       "      <th>term</th>\n",
       "      <th>STDNT_SEX_CD</th>\n",
       "      <th>NonNativeEnglish</th>\n",
       "      <th>White</th>\n",
       "      <th>Asian</th>\n",
       "      <th>...</th>\n",
       "      <th>classGraded</th>\n",
       "      <th>classHonors</th>\n",
       "      <th>Pass_Fail</th>\n",
       "      <th>parentsGraduateEdu</th>\n",
       "      <th>minorityGroup</th>\n",
       "      <th>q</th>\n",
       "      <th>day's_available_flashcards</th>\n",
       "      <th>start_practice</th>\n",
       "      <th>end_practice</th>\n",
       "      <th>days_offset</th>\n",
       "    </tr>\n",
       "  </thead>\n",
       "  <tbody>\n",
       "    <tr>\n",
       "      <th>0</th>\n",
       "      <td>1</td>\n",
       "      <td>Sort</td>\n",
       "      <td>intro-SortingwithSortandSorted</td>\n",
       "      <td>ee_sort_04</td>\n",
       "      <td>148</td>\n",
       "      <td>WN 2018</td>\n",
       "      <td>1</td>\n",
       "      <td>0</td>\n",
       "      <td>1</td>\n",
       "      <td>0</td>\n",
       "      <td>...</td>\n",
       "      <td>1</td>\n",
       "      <td>0</td>\n",
       "      <td>0</td>\n",
       "      <td>0</td>\n",
       "      <td>0</td>\n",
       "      <td>0</td>\n",
       "      <td>18</td>\n",
       "      <td>2018-03-04 20:00:19</td>\n",
       "      <td>2018-03-04 20:00:35</td>\n",
       "      <td>45</td>\n",
       "    </tr>\n",
       "    <tr>\n",
       "      <th>1</th>\n",
       "      <td>2</td>\n",
       "      <td>Functions</td>\n",
       "      <td>Returningavaluefromafunction</td>\n",
       "      <td>test_questionfunctions_2_3</td>\n",
       "      <td>148</td>\n",
       "      <td>WN 2018</td>\n",
       "      <td>1</td>\n",
       "      <td>0</td>\n",
       "      <td>1</td>\n",
       "      <td>0</td>\n",
       "      <td>...</td>\n",
       "      <td>1</td>\n",
       "      <td>0</td>\n",
       "      <td>0</td>\n",
       "      <td>0</td>\n",
       "      <td>0</td>\n",
       "      <td>4</td>\n",
       "      <td>16</td>\n",
       "      <td>2018-02-10 11:57:55</td>\n",
       "      <td>2018-02-10 11:58:35</td>\n",
       "      <td>23</td>\n",
       "    </tr>\n",
       "    <tr>\n",
       "      <th>2</th>\n",
       "      <td>3</td>\n",
       "      <td>RESTAPIs</td>\n",
       "      <td>functionswithrestapis</td>\n",
       "      <td>test_question_functions_rest_apis_1</td>\n",
       "      <td>148</td>\n",
       "      <td>WN 2018</td>\n",
       "      <td>1</td>\n",
       "      <td>0</td>\n",
       "      <td>1</td>\n",
       "      <td>0</td>\n",
       "      <td>...</td>\n",
       "      <td>1</td>\n",
       "      <td>0</td>\n",
       "      <td>0</td>\n",
       "      <td>0</td>\n",
       "      <td>0</td>\n",
       "      <td>1</td>\n",
       "      <td>2</td>\n",
       "      <td>2018-03-12 17:03:07</td>\n",
       "      <td>2018-03-12 17:04:28</td>\n",
       "      <td>53</td>\n",
       "    </tr>\n",
       "    <tr>\n",
       "      <th>3</th>\n",
       "      <td>4</td>\n",
       "      <td>SimplePythonData</td>\n",
       "      <td>FunctionCalls</td>\n",
       "      <td>exercise_functionCalls_1</td>\n",
       "      <td>148</td>\n",
       "      <td>WN 2018</td>\n",
       "      <td>1</td>\n",
       "      <td>0</td>\n",
       "      <td>1</td>\n",
       "      <td>0</td>\n",
       "      <td>...</td>\n",
       "      <td>1</td>\n",
       "      <td>0</td>\n",
       "      <td>0</td>\n",
       "      <td>0</td>\n",
       "      <td>0</td>\n",
       "      <td>0</td>\n",
       "      <td>10</td>\n",
       "      <td>2018-01-30 14:15:49</td>\n",
       "      <td>2018-01-30 14:15:58</td>\n",
       "      <td>12</td>\n",
       "    </tr>\n",
       "    <tr>\n",
       "      <th>4</th>\n",
       "      <td>5</td>\n",
       "      <td>DictionaryAccumulation</td>\n",
       "      <td>AccumulatingaMaximumValue</td>\n",
       "      <td>ps_04_07</td>\n",
       "      <td>148</td>\n",
       "      <td>WN 2018</td>\n",
       "      <td>1</td>\n",
       "      <td>0</td>\n",
       "      <td>1</td>\n",
       "      <td>0</td>\n",
       "      <td>...</td>\n",
       "      <td>1</td>\n",
       "      <td>0</td>\n",
       "      <td>0</td>\n",
       "      <td>0</td>\n",
       "      <td>0</td>\n",
       "      <td>0</td>\n",
       "      <td>23</td>\n",
       "      <td>2018-03-03 14:04:17</td>\n",
       "      <td>2018-03-03 14:04:25</td>\n",
       "      <td>44</td>\n",
       "    </tr>\n",
       "  </tbody>\n",
       "</table>\n",
       "<p>5 rows × 48 columns</p>\n",
       "</div>"
      ],
      "text/plain": [
       "   Unnamed: 0           chapter_label               sub_chapter_label  \\\n",
       "0           1                    Sort  intro-SortingwithSortandSorted   \n",
       "1           2               Functions    Returningavaluefromafunction   \n",
       "2           3                RESTAPIs           functionswithrestapis   \n",
       "3           4        SimplePythonData                   FunctionCalls   \n",
       "4           5  DictionaryAccumulation       AccumulatingaMaximumValue   \n",
       "\n",
       "                         question_name  user_id.x     term  STDNT_SEX_CD  \\\n",
       "0                           ee_sort_04        148  WN 2018             1   \n",
       "1           test_questionfunctions_2_3        148  WN 2018             1   \n",
       "2  test_question_functions_rest_apis_1        148  WN 2018             1   \n",
       "3             exercise_functionCalls_1        148  WN 2018             1   \n",
       "4                             ps_04_07        148  WN 2018             1   \n",
       "\n",
       "   NonNativeEnglish  White  Asian  ...  classGraded  classHonors  Pass_Fail  \\\n",
       "0                 0      1      0  ...            1            0          0   \n",
       "1                 0      1      0  ...            1            0          0   \n",
       "2                 0      1      0  ...            1            0          0   \n",
       "3                 0      1      0  ...            1            0          0   \n",
       "4                 0      1      0  ...            1            0          0   \n",
       "\n",
       "   parentsGraduateEdu  minorityGroup  q  day's_available_flashcards  \\\n",
       "0                   0              0  0                          18   \n",
       "1                   0              0  4                          16   \n",
       "2                   0              0  1                           2   \n",
       "3                   0              0  0                          10   \n",
       "4                   0              0  0                          23   \n",
       "\n",
       "        start_practice         end_practice  days_offset  \n",
       "0  2018-03-04 20:00:19  2018-03-04 20:00:35           45  \n",
       "1  2018-02-10 11:57:55  2018-02-10 11:58:35           23  \n",
       "2  2018-03-12 17:03:07  2018-03-12 17:04:28           53  \n",
       "3  2018-01-30 14:15:49  2018-01-30 14:15:58           12  \n",
       "4  2018-03-03 14:04:17  2018-03-03 14:04:25           44  \n",
       "\n",
       "[5 rows x 48 columns]"
      ]
     },
     "execution_count": 3,
     "metadata": {},
     "output_type": "execute_result"
    }
   ],
   "source": [
    "# load the data\n",
    "import pandas as pd\n",
    "dataframe = pd.read_csv('../input/practice-log-demographics/Practice_Log_Demographics (1).csv', low_memory=False)\n",
    "dataframe.head()"
   ]
  },
  {
   "cell_type": "code",
   "execution_count": 4,
   "metadata": {
    "execution": {
     "iopub.execute_input": "2021-08-08T17:54:12.674511Z",
     "iopub.status.busy": "2021-08-08T17:54:12.673763Z",
     "iopub.status.idle": "2021-08-08T17:54:14.303115Z",
     "shell.execute_reply": "2021-08-08T17:54:14.302546Z",
     "shell.execute_reply.started": "2021-08-06T21:05:19.576072Z"
    },
    "id": "OCbHnEp_Vir0",
    "papermill": {
     "duration": 1.722942,
     "end_time": "2021-08-08T17:54:14.303256",
     "exception": false,
     "start_time": "2021-08-08T17:54:12.580314",
     "status": "completed"
    },
    "tags": []
   },
   "outputs": [],
   "source": [
    "#sort data based on timestamp\n",
    "dataframe = dataframe.sort_values(by=['start_practice']).reset_index(drop=True)"
   ]
  },
  {
   "cell_type": "code",
   "execution_count": 5,
   "metadata": {
    "execution": {
     "iopub.execute_input": "2021-08-08T17:54:14.366510Z",
     "iopub.status.busy": "2021-08-08T17:54:14.365485Z",
     "iopub.status.idle": "2021-08-08T17:54:14.368508Z",
     "shell.execute_reply": "2021-08-08T17:54:14.368023Z",
     "shell.execute_reply.started": "2021-08-06T21:05:21.039874Z"
    },
    "id": "0RvF7BvEr98o",
    "papermill": {
     "duration": 0.03731,
     "end_time": "2021-08-08T17:54:14.368643",
     "exception": false,
     "start_time": "2021-08-08T17:54:14.331333",
     "status": "completed"
    },
    "tags": []
   },
   "outputs": [],
   "source": [
    "FEATURES = ['chapter_label', 'sub_chapter_label','question_name','user_id','term',\n",
    "            'STDNT_SEX_CD', \n",
    "            'NonNativeEnglish',\n",
    "            'White',\n",
    "            'Asian',\n",
    "            'WhiteOrAsian',\n",
    "            'Hispanic',\n",
    "            'AfricanAmerican',\n",
    "            'OtherEthnicities',\n",
    "            'NonWhiteOrAsian',\n",
    "            'STDNT_CTZN_STAT_CD', 'international', \n",
    "            'gradingType',\n",
    "            'birthYear',\n",
    "            'exclClassCumGPA',\n",
    "            'Freshman',\n",
    "            'Junior',\n",
    "            'Sophomore',\n",
    "            'Senior',\n",
    "            'termCreditsGPA',\n",
    "            'termCreditsNoGPA',\n",
    "            'athlete_1',\n",
    "            'honorsPro',\n",
    "            'LSA', 'programBusiness', 'programEngineering', \n",
    "            'programInformation', 'programOther',\n",
    "            'HSCalculusTaken', \n",
    "            'highSchoolGPA', \n",
    "            'majorsCount', 'minorsCount',\n",
    "            'PREV_TERM_CUM_GPA',\n",
    "            'classGraded', 'classHonors', \n",
    "            'Pass_Fail', \n",
    "            'parentsGraduateEdu',  'minorityGroup', \n",
    "            'q',\n",
    "            'available_flashcards', \n",
    "            'start_practice', \n",
    "            'end_practice',\n",
    "            'days_offset']"
   ]
  },
  {
   "cell_type": "code",
   "execution_count": 6,
   "metadata": {
    "execution": {
     "iopub.execute_input": "2021-08-08T17:54:14.432695Z",
     "iopub.status.busy": "2021-08-08T17:54:14.431714Z",
     "iopub.status.idle": "2021-08-08T17:54:14.951737Z",
     "shell.execute_reply": "2021-08-08T17:54:14.951198Z",
     "shell.execute_reply.started": "2021-08-06T21:05:21.055415Z"
    },
    "id": "Mn341X7lSztl",
    "papermill": {
     "duration": 0.553842,
     "end_time": "2021-08-08T17:54:14.951922",
     "exception": false,
     "start_time": "2021-08-08T17:54:14.398080",
     "status": "completed"
    },
    "tags": []
   },
   "outputs": [],
   "source": [
    "dataframe['available_flashcards'] = dataframe[\"day's_available_flashcards\"][:]\n",
    "dataframe = dataframe.drop([\"day's_available_flashcards\"], axis=1)\n",
    "dataframe['user_id'] = dataframe[\"user_id.x\"][:]\n",
    "dataframe = dataframe.drop([\"user_id.x\"], axis=1)"
   ]
  },
  {
   "cell_type": "code",
   "execution_count": 7,
   "metadata": {
    "execution": {
     "iopub.execute_input": "2021-08-08T17:54:15.181088Z",
     "iopub.status.busy": "2021-08-08T17:54:15.179357Z",
     "iopub.status.idle": "2021-08-08T17:54:15.184294Z",
     "shell.execute_reply": "2021-08-08T17:54:15.184777Z",
     "shell.execute_reply.started": "2021-08-06T21:05:21.632824Z"
    },
    "id": "-_BRggOjbBjN",
    "outputId": "42bff7db-08dd-48dc-a73a-d048508053b7",
    "papermill": {
     "duration": 0.204898,
     "end_time": "2021-08-08T17:54:15.184970",
     "exception": false,
     "start_time": "2021-08-08T17:54:14.980072",
     "status": "completed"
    },
    "tags": []
   },
   "outputs": [
    {
     "data": {
      "text/plain": [
       "102"
      ]
     },
     "execution_count": 7,
     "metadata": {},
     "output_type": "execute_result"
    }
   ],
   "source": [
    "gc.collect()"
   ]
  },
  {
   "cell_type": "code",
   "execution_count": 8,
   "metadata": {
    "execution": {
     "iopub.execute_input": "2021-08-08T17:54:15.249569Z",
     "iopub.status.busy": "2021-08-08T17:54:15.247847Z",
     "iopub.status.idle": "2021-08-08T17:54:15.537129Z",
     "shell.execute_reply": "2021-08-08T17:54:15.536567Z",
     "shell.execute_reply.started": "2021-08-06T21:05:21.821467Z"
    },
    "id": "lXM7MlonVeRL",
    "outputId": "d29ccec0-522f-4e3c-e0b2-39b2e1eaef74",
    "papermill": {
     "duration": 0.323983,
     "end_time": "2021-08-08T17:54:15.537280",
     "exception": false,
     "start_time": "2021-08-08T17:54:15.213297",
     "status": "completed"
    },
    "tags": []
   },
   "outputs": [
    {
     "data": {
      "text/plain": [
       "20"
      ]
     },
     "execution_count": 8,
     "metadata": {},
     "output_type": "execute_result"
    }
   ],
   "source": [
    "dataframe = dataframe[FEATURES]\n",
    "gc.collect()"
   ]
  },
  {
   "cell_type": "code",
   "execution_count": 9,
   "metadata": {
    "execution": {
     "iopub.execute_input": "2021-08-08T17:54:16.111922Z",
     "iopub.status.busy": "2021-08-08T17:54:16.111175Z",
     "iopub.status.idle": "2021-08-08T17:54:16.253880Z",
     "shell.execute_reply": "2021-08-08T17:54:16.254438Z",
     "shell.execute_reply.started": "2021-08-06T21:05:22.101727Z"
    },
    "id": "2WAFv5z3A6fK",
    "outputId": "e27abf84-ec3c-4b88-e1fb-927d94b41898",
    "papermill": {
     "duration": 0.68836,
     "end_time": "2021-08-08T17:54:16.254613",
     "exception": false,
     "start_time": "2021-08-08T17:54:15.566253",
     "status": "completed"
    },
    "tags": []
   },
   "outputs": [],
   "source": [
    "dataframe = dataframe.fillna(0)"
   ]
  },
  {
   "cell_type": "code",
   "execution_count": 10,
   "metadata": {
    "execution": {
     "iopub.execute_input": "2021-08-08T17:54:16.315802Z",
     "iopub.status.busy": "2021-08-08T17:54:16.315087Z",
     "iopub.status.idle": "2021-08-08T17:54:17.746288Z",
     "shell.execute_reply": "2021-08-08T17:54:17.746802Z",
     "shell.execute_reply.started": "2021-08-06T21:05:22.700096Z"
    },
    "id": "qRKqF_0IXZgj",
    "papermill": {
     "duration": 1.463096,
     "end_time": "2021-08-08T17:54:17.746995",
     "exception": false,
     "start_time": "2021-08-08T17:54:16.283899",
     "status": "completed"
    },
    "tags": []
   },
   "outputs": [],
   "source": [
    "#label encode term, chapter_label, question_name, sub_chapter_label columns\n",
    "dataframe['term'] = dataframe['term'].astype('category')\n",
    "dataframe['user_id'] = dataframe['user_id'].astype(int)\n",
    "dataframe['user_id'] = dataframe['user_id'].astype(str)\n",
    "dataframe['user_id'] = dataframe['term'].str.cat(dataframe['user_id'], sep=':')\n",
    "dataframe['user_id'] = dataframe['user_id'].astype('category')\n",
    "dataframe['chapter_label'] = dataframe['chapter_label'].astype('category')\n",
    "dataframe['sub_chapter_label'] = dataframe['sub_chapter_label'].astype('category')\n",
    "dataframe['question_name'] = dataframe['question_name'].astype('category')\n"
   ]
  },
  {
   "cell_type": "code",
   "execution_count": 11,
   "metadata": {
    "execution": {
     "iopub.execute_input": "2021-08-08T17:54:17.808414Z",
     "iopub.status.busy": "2021-08-08T17:54:17.807770Z",
     "iopub.status.idle": "2021-08-08T17:54:18.362563Z",
     "shell.execute_reply": "2021-08-08T17:54:18.363036Z",
     "shell.execute_reply.started": "2021-08-06T21:05:23.94285Z"
    },
    "id": "eVl_067GWkDe",
    "papermill": {
     "duration": 0.586846,
     "end_time": "2021-08-08T17:54:18.363211",
     "exception": false,
     "start_time": "2021-08-08T17:54:17.776365",
     "status": "completed"
    },
    "tags": []
   },
   "outputs": [],
   "source": [
    "#calculate time_lag and prev_time_elapsed\n",
    "dataframe['prev_time_elapsed'] = None\n",
    "dataframe['time_lag'] = None\n",
    "dataframe['time_lag'] = dataframe['time_lag'].astype(np.float)\n",
    "dataframe['prev_time_elapsed'] = dataframe['prev_time_elapsed'].astype(np.float)\n",
    "dataframe.start_practice = pd.to_datetime(dataframe.start_practice, format='%Y-%m-%d %H:%M:%S')\n",
    "dataframe.end_practice = pd.to_datetime(dataframe.end_practice, format='%Y-%m-%d %H:%M:%S')\n",
    "#calculaate answer correct\n",
    "#when q=5 and time < 1 minute\n",
    "dataframe['dif'] = dataframe.end_practice - dataframe.start_practice\n",
    "dataframe['dif'] = dataframe['dif'] /np.timedelta64(1, 's')\n",
    "dataframe['answer_correct'] = np.where((dataframe['q']==5) & (dataframe['dif'] <= 60), 1, 0)"
   ]
  },
  {
   "cell_type": "code",
   "execution_count": 12,
   "metadata": {
    "execution": {
     "iopub.execute_input": "2021-08-08T17:54:18.424059Z",
     "iopub.status.busy": "2021-08-08T17:54:18.423447Z",
     "iopub.status.idle": "2021-08-08T18:00:15.079973Z",
     "shell.execute_reply": "2021-08-08T18:00:15.080698Z",
     "shell.execute_reply.started": "2021-08-06T21:05:24.401262Z"
    },
    "id": "Xrkcn9VhWETm",
    "outputId": "fd73f3de-5f56-42a8-9539-3f3b79a5a6e2",
    "papermill": {
     "duration": 356.688771,
     "end_time": "2021-08-08T18:00:15.080984",
     "exception": false,
     "start_time": "2021-08-08T17:54:18.392213",
     "status": "completed"
    },
    "tags": []
   },
   "outputs": [
    {
     "name": "stderr",
     "output_type": "stream",
     "text": [
      "100%|██████████| 1110/1110 [05:56<00:00,  3.11it/s]\n"
     ]
    }
   ],
   "source": [
    "unique_chapts = dataframe['chapter_label'].unique()\n",
    "from tqdm import tqdm\n",
    "cnt = 0\n",
    "for user in tqdm(dataframe['user_id'].unique()):\n",
    "        for chapter in unique_chapts:\n",
    "            tmp_user = dataframe[(dataframe['user_id']==user) & (dataframe['chapter_label']==chapter)]\n",
    "            if len(tmp_user) < 1:\n",
    "                continue\n",
    "            tmp_time_elapsed = tmp_user.end_practice - tmp_user.start_practice\n",
    "            tmp_time_elapsed = tmp_time_elapsed / np.timedelta64(1, 's')\n",
    "            #shifting time elapsed by one\n",
    "            #so that time_elapsed row for each question\n",
    "            #would refer to the time that user took to answer\n",
    "            #previous question\n",
    "            tmp_time_elapsed = np.insert(np.array(tmp_time_elapsed[:-1]), 0, 0., axis=0)\n",
    "            tmp_time_elapsed = np.cumsum(tmp_time_elapsed)\n",
    "            indices = tmp_user.index\n",
    "            start_row = indices[0]\n",
    "            dataframe['time_lag'].iloc[start_row] = 0\n",
    "            for_mean = np.arange(len(tmp_user))\n",
    "            for_mean[0] = 1\n",
    "            time_substrahend = tmp_user.start_practice.iloc[:-1]\n",
    "            time_substrahend = time_substrahend.apply(lambda a: a.timestamp())\n",
    "            time_substrahend = np.array(time_substrahend)\n",
    "            \n",
    "            time_minuend = tmp_user.start_practice.iloc[1:]\n",
    "            time_minuend = time_minuend.apply(lambda a: a.timestamp())\n",
    "            time_minuend = np.array(time_minuend)\n",
    "\n",
    "            dataframe['prev_time_elapsed'].iloc[indices] = tmp_time_elapsed/for_mean\n",
    "            dataframe['time_lag'].iloc[indices[1:]] = time_minuend - time_substrahend\n"
   ]
  },
  {
   "cell_type": "code",
   "execution_count": 13,
   "metadata": {
    "execution": {
     "iopub.execute_input": "2021-08-08T18:00:15.846734Z",
     "iopub.status.busy": "2021-08-08T18:00:15.846066Z",
     "iopub.status.idle": "2021-08-08T18:00:15.886847Z",
     "shell.execute_reply": "2021-08-08T18:00:15.886156Z",
     "shell.execute_reply.started": "2021-08-06T21:09:42.800903Z"
    },
    "id": "8t8yZ0XvWwzz",
    "papermill": {
     "duration": 0.452455,
     "end_time": "2021-08-08T18:00:15.886993",
     "exception": false,
     "start_time": "2021-08-08T18:00:15.434538",
     "status": "completed"
    },
    "tags": []
   },
   "outputs": [],
   "source": [
    "#drop column end_practice\n",
    "dataframe.drop(columns=['end_practice'], inplace=True)"
   ]
  },
  {
   "cell_type": "code",
   "execution_count": 14,
   "metadata": {
    "execution": {
     "iopub.execute_input": "2021-08-08T18:00:16.602906Z",
     "iopub.status.busy": "2021-08-08T18:00:16.602255Z",
     "iopub.status.idle": "2021-08-08T18:00:17.066623Z",
     "shell.execute_reply": "2021-08-08T18:00:17.066043Z",
     "shell.execute_reply.started": "2021-08-06T21:09:42.889108Z"
    },
    "id": "E42raRIrYYXz",
    "papermill": {
     "duration": 0.824166,
     "end_time": "2021-08-08T18:00:17.066774",
     "exception": false,
     "start_time": "2021-08-08T18:00:16.242608",
     "status": "completed"
    },
    "tags": []
   },
   "outputs": [],
   "source": [
    "# calculate the age feature\n",
    "dataframe['term_value'] = [int(ele[3:]) for ele in dataframe['term']]\n",
    "dataframe['age'] = dataframe['term_value'] - dataframe['birthYear']"
   ]
  },
  {
   "cell_type": "code",
   "execution_count": 15,
   "metadata": {
    "execution": {
     "iopub.execute_input": "2021-08-08T18:00:17.779103Z",
     "iopub.status.busy": "2021-08-08T18:00:17.778474Z",
     "iopub.status.idle": "2021-08-08T18:00:17.989887Z",
     "shell.execute_reply": "2021-08-08T18:00:17.989285Z",
     "shell.execute_reply.started": "2021-08-06T21:09:43.322002Z"
    },
    "id": "pcMVQXueYnMh",
    "papermill": {
     "duration": 0.569216,
     "end_time": "2021-08-08T18:00:17.990027",
     "exception": false,
     "start_time": "2021-08-08T18:00:17.420811",
     "status": "completed"
    },
    "tags": []
   },
   "outputs": [],
   "source": [
    "# drop term_value and birthYear column\n",
    "dataframe.drop(columns=['term_value', 'birthYear'], inplace=True)"
   ]
  },
  {
   "cell_type": "code",
   "execution_count": 16,
   "metadata": {
    "execution": {
     "iopub.execute_input": "2021-08-08T18:00:18.831938Z",
     "iopub.status.busy": "2021-08-08T18:00:18.786526Z",
     "iopub.status.idle": "2021-08-08T18:00:19.275485Z",
     "shell.execute_reply": "2021-08-08T18:00:19.276081Z",
     "shell.execute_reply.started": "2021-08-06T21:09:43.524953Z"
    },
    "id": "hjRF5szkcQE0",
    "papermill": {
     "duration": 0.876701,
     "end_time": "2021-08-08T18:00:19.276281",
     "exception": false,
     "start_time": "2021-08-08T18:00:18.399580",
     "status": "completed"
    },
    "tags": []
   },
   "outputs": [],
   "source": [
    "# convert minors_count to int value\n",
    "new_minors_count = []\n",
    "for i in dataframe['minorsCount']:\n",
    "  if i == 0 or i == '0':\n",
    "    new_minors_count.append(0)\n",
    "  elif i == '1 Minor':\n",
    "    new_minors_count.append(1)\n",
    "  else:\n",
    "    new_minors_count.append(2)\n",
    "\n",
    "dataframe['minorsCount'] = new_minors_count"
   ]
  },
  {
   "cell_type": "code",
   "execution_count": 17,
   "metadata": {
    "execution": {
     "iopub.execute_input": "2021-08-08T18:00:20.003488Z",
     "iopub.status.busy": "2021-08-08T18:00:20.002579Z",
     "iopub.status.idle": "2021-08-08T18:00:20.015869Z",
     "shell.execute_reply": "2021-08-08T18:00:20.015136Z",
     "shell.execute_reply.started": "2021-08-06T21:09:43.981222Z"
    },
    "id": "9VdzvJSw0KUU",
    "outputId": "6393784f-234e-4935-9cee-cbcf56b5630a",
    "papermill": {
     "duration": 0.377481,
     "end_time": "2021-08-08T18:00:20.016055",
     "exception": false,
     "start_time": "2021-08-08T18:00:19.638574",
     "status": "completed"
    },
    "tags": []
   },
   "outputs": [
    {
     "name": "stdout",
     "output_type": "stream",
     "text": [
      "we have  1110  users in total.\n"
     ]
    }
   ],
   "source": [
    "print(\"we have \", dataframe['user_id'].nunique(),\" users in total.\")"
   ]
  },
  {
   "cell_type": "code",
   "execution_count": 18,
   "metadata": {
    "execution": {
     "iopub.execute_input": "2021-08-08T18:00:20.735918Z",
     "iopub.status.busy": "2021-08-08T18:00:20.733268Z",
     "iopub.status.idle": "2021-08-08T18:00:20.741394Z",
     "shell.execute_reply": "2021-08-08T18:00:20.740849Z",
     "shell.execute_reply.started": "2021-08-06T21:09:43.998125Z"
    },
    "id": "hUaGk9L9g13t",
    "papermill": {
     "duration": 0.366838,
     "end_time": "2021-08-08T18:00:20.741532",
     "exception": false,
     "start_time": "2021-08-08T18:00:20.374694",
     "status": "completed"
    },
    "tags": []
   },
   "outputs": [],
   "source": [
    "for category in ['term','chapter_label', 'sub_chapter_label', 'question_name']:\n",
    "  dataframe[category] =  dataframe[category].cat.codes"
   ]
  },
  {
   "cell_type": "code",
   "execution_count": 19,
   "metadata": {
    "execution": {
     "iopub.execute_input": "2021-08-08T18:00:21.455877Z",
     "iopub.status.busy": "2021-08-08T18:00:21.455194Z",
     "iopub.status.idle": "2021-08-08T18:00:22.268873Z",
     "shell.execute_reply": "2021-08-08T18:00:22.268187Z",
     "shell.execute_reply.started": "2021-08-06T21:09:44.009179Z"
    },
    "id": "hkyvcYvlhliG",
    "papermill": {
     "duration": 1.171521,
     "end_time": "2021-08-08T18:00:22.269034",
     "exception": false,
     "start_time": "2021-08-08T18:00:21.097513",
     "status": "completed"
    },
    "tags": []
   },
   "outputs": [],
   "source": [
    "NUMERIC_FEATURE =  ['age',\n",
    "            'exclClassCumGPA',\n",
    "            'termCreditsGPA',\n",
    "            'termCreditsNoGPA',\n",
    "            'highSchoolGPA', \n",
    "            'majorsCount', 'minorsCount',\n",
    "            'PREV_TERM_CUM_GPA',\n",
    "            'available_flashcards', \n",
    "            'days_offset', \n",
    "            'prev_time_elapsed',\n",
    "             'time_lag']\n",
    "# z-score normalize the numerical features\n",
    "for f in NUMERIC_FEATURE:\n",
    "  m = dataframe[f].mean()\n",
    "  std = dataframe[f].std()\n",
    "  dataframe[f] = (dataframe[f] - m)/std"
   ]
  },
  {
   "cell_type": "code",
   "execution_count": 20,
   "metadata": {
    "execution": {
     "iopub.execute_input": "2021-08-08T18:00:23.005158Z",
     "iopub.status.busy": "2021-08-08T18:00:23.004421Z",
     "iopub.status.idle": "2021-08-08T18:00:24.139401Z",
     "shell.execute_reply": "2021-08-08T18:00:24.139975Z",
     "shell.execute_reply.started": "2021-08-06T21:09:44.734371Z"
    },
    "id": "wo2OH-d5kWp1",
    "papermill": {
     "duration": 1.508701,
     "end_time": "2021-08-08T18:00:24.140155",
     "exception": false,
     "start_time": "2021-08-08T18:00:22.631454",
     "status": "completed"
    },
    "tags": []
   },
   "outputs": [],
   "source": [
    "FEATURE_TRANS =  ['answer_correct', 'chapter_label', 'sub_chapter_label','question_name','user_id','term',\n",
    "                  'STDNT_SEX_CD', \n",
    "                    'White','Asian','NonWhiteOrAsian',\n",
    "            'STDNT_CTZN_STAT_CD', 'international', \n",
    "            'age',\n",
    "            'exclClassCumGPA',\n",
    "           'Freshman',\n",
    "            'Junior',\n",
    "            'Sophomore',\n",
    "            'Senior',\n",
    "            'termCreditsGPA',\n",
    "            'termCreditsNoGPA',\n",
    "            'athlete_1',\n",
    "            'honorsPro',\n",
    "            'LSA', 'programBusiness', 'programEngineering', \n",
    "            'programInformation', 'programOther',\n",
    "            'HSCalculusTaken', \n",
    "            'highSchoolGPA', \n",
    "            'majorsCount', 'minorsCount',\n",
    "            'PREV_TERM_CUM_GPA',\n",
    "            'classGraded', 'classHonors', \n",
    "            'Pass_Fail', \n",
    "            'parentsGraduateEdu',  'minorityGroup', \n",
    "            'available_flashcards', \n",
    "            'days_offset', 'prev_time_elapsed',\n",
    "             'time_lag']\n",
    "grouped_data = dataframe[FEATURE_TRANS].groupby(['user_id']).apply(lambda r: (\n",
    "                r['answer_correct'],\n",
    "                r['term'],\n",
    "                r['chapter_label'],\n",
    "                r['sub_chapter_label'],\n",
    "                r['question_name'],\n",
    "                np.array([\n",
    "#                     r['STDNT_SEX_CD'],r['STDNT_CTZN_STAT_CD'], r['international'], \n",
    "#                   r['White'],r['Asian'],r['NonWhiteOrAsian'],\n",
    "#                  r['age'],r['exclClassCumGPA'],\n",
    "#                 r['Freshman'], r['Junior'], r['Sophomore'], r['Senior'],\n",
    "#                 r['termCreditsGPA'], r['termCreditsNoGPA'],\n",
    "#                 r['athlete_1'], r['honorsPro'],\n",
    "#                 r['LSA'], r['programBusiness'], r['programEngineering'], \n",
    "#                 r['programInformation'], r['programOther'],\n",
    "#                 r['HSCalculusTaken'],  r['highSchoolGPA'], \n",
    "#                 r['majorsCount'], r['minorsCount'],\n",
    "#                 r['PREV_TERM_CUM_GPA'], \n",
    "#                 r['parentsGraduateEdu'], r['minorityGroup'],\n",
    "#                 r['available_flashcards'],\n",
    "#                 r['days_offset'],\n",
    "                r['prev_time_elapsed'],\n",
    "                r['time_lag']\n",
    "              ]).transpose()\n",
    "                ))"
   ]
  },
  {
   "cell_type": "code",
   "execution_count": 21,
   "metadata": {
    "execution": {
     "iopub.execute_input": "2021-08-08T18:00:24.847514Z",
     "iopub.status.busy": "2021-08-08T18:00:24.846895Z",
     "iopub.status.idle": "2021-08-08T18:00:25.057208Z",
     "shell.execute_reply": "2021-08-08T18:00:25.056677Z",
     "shell.execute_reply.started": "2021-08-06T21:09:45.792372Z"
    },
    "id": "XXLqQnjrlp_4",
    "outputId": "c801da79-f0bf-4fe5-b19c-7c799fe01556",
    "papermill": {
     "duration": 0.565751,
     "end_time": "2021-08-08T18:00:25.057350",
     "exception": false,
     "start_time": "2021-08-08T18:00:24.491599",
     "status": "completed"
    },
    "tags": []
   },
   "outputs": [
    {
     "data": {
      "text/plain": [
       "20"
      ]
     },
     "execution_count": 21,
     "metadata": {},
     "output_type": "execute_result"
    }
   ],
   "source": [
    "gc.collect()"
   ]
  },
  {
   "cell_type": "code",
   "execution_count": 22,
   "metadata": {
    "execution": {
     "iopub.execute_input": "2021-08-08T18:00:25.787345Z",
     "iopub.status.busy": "2021-08-08T18:00:25.786569Z",
     "iopub.status.idle": "2021-08-08T18:00:25.807100Z",
     "shell.execute_reply": "2021-08-08T18:00:25.807590Z",
     "shell.execute_reply.started": "2021-08-06T21:09:45.968869Z"
    },
    "id": "QYGQasdTrmP0",
    "papermill": {
     "duration": 0.395998,
     "end_time": "2021-08-08T18:00:25.807760",
     "exception": false,
     "start_time": "2021-08-08T18:00:25.411762",
     "status": "completed"
    },
    "tags": []
   },
   "outputs": [],
   "source": [
    "# remove students who don't have make any interactions with the tool\n",
    "toRemove = []\n",
    "for index in grouped_data.index:\n",
    "  if len(grouped_data[index][0]) <= 10:\n",
    "    toRemove.append(index)\n",
    "grouped_data = grouped_data.drop(index=toRemove)"
   ]
  },
  {
   "cell_type": "code",
   "execution_count": 23,
   "metadata": {
    "execution": {
     "iopub.execute_input": "2021-08-08T18:00:26.550574Z",
     "iopub.status.busy": "2021-08-08T18:00:26.549977Z",
     "iopub.status.idle": "2021-08-08T18:00:26.567168Z",
     "shell.execute_reply": "2021-08-08T18:00:26.567740Z",
     "shell.execute_reply.started": "2021-08-06T21:09:46.01428Z"
    },
    "papermill": {
     "duration": 0.375151,
     "end_time": "2021-08-08T18:00:26.567923",
     "exception": false,
     "start_time": "2021-08-08T18:00:26.192772",
     "status": "completed"
    },
    "tags": []
   },
   "outputs": [
    {
     "data": {
      "text/plain": [
       "count    1110.000000\n",
       "mean      550.263063\n",
       "std       201.281353\n",
       "min         2.000000\n",
       "25%       438.250000\n",
       "50%       520.500000\n",
       "75%       637.750000\n",
       "max      1500.000000\n",
       "Name: start_practice, dtype: float64"
      ]
     },
     "execution_count": 23,
     "metadata": {},
     "output_type": "execute_result"
    }
   ],
   "source": [
    "dataframe.groupby('user_id')['start_practice'].agg('count').describe()"
   ]
  },
  {
   "cell_type": "code",
   "execution_count": 24,
   "metadata": {
    "execution": {
     "iopub.execute_input": "2021-08-08T18:00:27.282256Z",
     "iopub.status.busy": "2021-08-08T18:00:27.281608Z",
     "iopub.status.idle": "2021-08-08T18:00:27.287153Z",
     "shell.execute_reply": "2021-08-08T18:00:27.286644Z",
     "shell.execute_reply.started": "2021-08-06T21:09:46.033627Z"
    },
    "papermill": {
     "duration": 0.362199,
     "end_time": "2021-08-08T18:00:27.287291",
     "exception": false,
     "start_time": "2021-08-08T18:00:26.925092",
     "status": "completed"
    },
    "tags": []
   },
   "outputs": [
    {
     "data": {
      "text/plain": [
       "['FA 2018:252', 'WN 2018:295']"
      ]
     },
     "execution_count": 24,
     "metadata": {},
     "output_type": "execute_result"
    }
   ],
   "source": [
    "toRemove"
   ]
  },
  {
   "cell_type": "code",
   "execution_count": 25,
   "metadata": {
    "execution": {
     "iopub.execute_input": "2021-08-08T18:00:28.000917Z",
     "iopub.status.busy": "2021-08-08T18:00:28.000153Z",
     "iopub.status.idle": "2021-08-08T18:00:28.004379Z",
     "shell.execute_reply": "2021-08-08T18:00:28.004860Z",
     "shell.execute_reply.started": "2021-08-06T21:09:46.04112Z"
    },
    "id": "9kZqV9siDyNb",
    "papermill": {
     "duration": 0.36364,
     "end_time": "2021-08-08T18:00:28.005034",
     "exception": false,
     "start_time": "2021-08-08T18:00:27.641394",
     "status": "completed"
    },
    "tags": []
   },
   "outputs": [],
   "source": [
    "#SETTINGS -> can be modified at any time\n",
    "MAXLENGTH = 400\n",
    "EMBEDDING_DIM = 128\n",
    "DENSE_NEURON = 16\n",
    "GRU_NEURON = 32"
   ]
  },
  {
   "cell_type": "code",
   "execution_count": 26,
   "metadata": {
    "execution": {
     "iopub.execute_input": "2021-08-08T18:00:28.723260Z",
     "iopub.status.busy": "2021-08-08T18:00:28.722611Z",
     "iopub.status.idle": "2021-08-08T18:00:28.725080Z",
     "shell.execute_reply": "2021-08-08T18:00:28.724468Z",
     "shell.execute_reply.started": "2021-08-06T21:09:46.049329Z"
    },
    "id": "1MksD1JizpPn",
    "papermill": {
     "duration": 0.36214,
     "end_time": "2021-08-08T18:00:28.725215",
     "exception": false,
     "start_time": "2021-08-08T18:00:28.363075",
     "status": "completed"
    },
    "tags": []
   },
   "outputs": [],
   "source": [
    "FEATURES_SIZE = 2\n",
    "CHAPTER_SIZE = 38\n",
    "SUB_CHAPTER_SIZE = 223\n",
    "QUESTION_SIZE = 1069"
   ]
  },
  {
   "cell_type": "code",
   "execution_count": 27,
   "metadata": {
    "execution": {
     "iopub.execute_input": "2021-08-08T18:00:29.440964Z",
     "iopub.status.busy": "2021-08-08T18:00:29.440281Z",
     "iopub.status.idle": "2021-08-08T18:00:29.450851Z",
     "shell.execute_reply": "2021-08-08T18:00:29.451349Z",
     "shell.execute_reply.started": "2021-08-06T21:09:46.057705Z"
    },
    "papermill": {
     "duration": 0.370497,
     "end_time": "2021-08-08T18:00:29.451521",
     "exception": false,
     "start_time": "2021-08-08T18:00:29.081024",
     "status": "completed"
    },
    "tags": []
   },
   "outputs": [
    {
     "data": {
      "text/plain": [
       "array([ 96,  86,  88,  28,  12,  82, 125,  32,  69,  33,  21, 115, 120,\n",
       "       119,  91,  73,  57,  77, 117,  40,  74,  41,  68,  39,  92,  47,\n",
       "       104,  95,  53,  49,  50,  16,  52,  55,   7,  15,  51, 102, 103,\n",
       "        11,  94, 108, 100,  17,  67,  63,  13, 139,  26,  25,   8, 107,\n",
       "         0,  90,  48,  54, 138,   1,   2,   3,  34,  35,  85,   5,  24,\n",
       "        37,  36,  78,  70,  45, 142,  71,  10,  89, 111, 112, 109, 116,\n",
       "        76,  72, 148, 134, 146, 221, 143,  56,  60,  61,  23, 140, 106,\n",
       "        42,  83,  22, 145, 136, 144,  38,   4,  19, 137,  75,  43,  98,\n",
       "        84, 113, 173, 174, 175, 176, 177, 178, 180, 181, 182, 187, 189,\n",
       "       190, 191, 192, 193, 195, 197, 151, 152, 153, 156, 157, 158, 159,\n",
       "       160, 161, 163, 164, 165, 166, 167, 168, 169, 170, 171, 172, 198,\n",
       "       199, 200, 201, 202, 203, 204, 205, 206, 207, 208, 209, 210, 162,\n",
       "       179, 186, 188, 194, 183, 184, 185, 211, 212, 213, 154, 155, 196,\n",
       "         6, 118,  18, 215,  46, 216, 141,  27, 217, 105, 123, 218, 101,\n",
       "       124, 219, 122, 220,  58,  59,  64,  20,  93,  65,  66,   9,  44,\n",
       "        30,  14,  79, 121,  31, 110, 129,  87,  97,  62, 149, 132, 131,\n",
       "       150, 130, 128,  99, 147, 127, 214, 135,  80, 126, 133,  81, 114,\n",
       "        29], dtype=int16)"
      ]
     },
     "execution_count": 27,
     "metadata": {},
     "output_type": "execute_result"
    }
   ],
   "source": [
    "dataframe['sub_chapter_label'].unique()"
   ]
  },
  {
   "cell_type": "code",
   "execution_count": 28,
   "metadata": {
    "execution": {
     "iopub.execute_input": "2021-08-08T18:00:30.165297Z",
     "iopub.status.busy": "2021-08-08T18:00:30.164623Z",
     "iopub.status.idle": "2021-08-08T18:00:31.293766Z",
     "shell.execute_reply": "2021-08-08T18:00:31.293230Z",
     "shell.execute_reply.started": "2021-08-06T21:09:46.074094Z"
    },
    "id": "mY3Thp6d0NaT",
    "papermill": {
     "duration": 1.487414,
     "end_time": "2021-08-08T18:00:31.293949",
     "exception": false,
     "start_time": "2021-08-08T18:00:29.806535",
     "status": "completed"
    },
    "tags": []
   },
   "outputs": [],
   "source": [
    "#create dataset class\n",
    "#to prepare it for train, valid, and test sets\n",
    "from torch.utils.data import Dataset, DataLoader\n",
    "class SPACE_DATASET(Dataset):\n",
    "    def __init__(self, data, maxlength = 400):\n",
    "        super(SPACE_DATASET, self).__init__()\n",
    "        self.maxlength = maxlength\n",
    "        self.data = data\n",
    "        self.users = list()\n",
    "        for user in data.index:\n",
    "            self.users.append(user)\n",
    "\n",
    "    def __len__(self):\n",
    "        return len(self.users)\n",
    "    \n",
    "    def __getitem__(self, ix):\n",
    "        user = self.users[ix]\n",
    "        user = user\n",
    "        target, term, ch_label, sub_ch_label, ques_name, features = self.data[user]\n",
    "        \n",
    "        #0s should be used as padding values\n",
    "        ori_target = target.values \n",
    "        term = term.values\n",
    "        ch_label = ch_label.values + 1\n",
    "        sub_ch_label = sub_ch_label.values +1\n",
    "        ques_name = ques_name.values + 1\n",
    "        \n",
    "        n = len(ch_label)\n",
    "\n",
    "        # one hot for term\n",
    "        term_encode = [0]*7\n",
    "        term_encode[term[0]] = 1\n",
    "        shifted_target= []\n",
    "\n",
    "        \n",
    "        # get  user interaction informations in the previous MAXLEN interactions\n",
    "        if n > self.maxlength:\n",
    "          ch_label = ch_label[-self.maxlength:]\n",
    "          sub_ch_label = sub_ch_label[-self.maxlength:]\n",
    "          ques_name = ques_name[-self.maxlength:]\n",
    "          features = features[-self.maxlength:]\n",
    "          target = ori_target[-self.maxlength:]\n",
    "          shifted_target = ori_target[ (-self.maxlength - 1) :-1]\n",
    "        else:\n",
    "          ch_label = [0]*(self.maxlength - n)+list(ch_label[:])\n",
    "          sub_ch_label = [0]*(self.maxlength - n)+list(sub_ch_label[:])\n",
    "          ques_name = [0]*(self.maxlength - n)+list(ques_name[:])\n",
    "          features = [[0]*len(features[0])]*(self.maxlength  - n)+list(features[:])\n",
    "          target = [-1]*(self.maxlength - n) + list(ori_target[:])\n",
    "          shifted_target = [2]*(self.maxlength + 1 - n) + list(ori_target[:-1])\n",
    "\n",
    "        new_features = []\n",
    "        count = 0\n",
    "        for f in features:\n",
    "          temp = list(f)\n",
    "#           temp.extend(term_encode)\n",
    "          #temp.append(shifted_target[count]) #uncomment this line for include previous response feature\n",
    "          new_features.append(temp)\n",
    "          count += 1\n",
    "        features = new_features\n",
    "        return ch_label,sub_ch_label,ques_name,features, shifted_target, target"
   ]
  },
  {
   "cell_type": "code",
   "execution_count": 29,
   "metadata": {
    "execution": {
     "iopub.execute_input": "2021-08-08T18:00:32.012381Z",
     "iopub.status.busy": "2021-08-08T18:00:32.011626Z",
     "iopub.status.idle": "2021-08-08T18:00:32.015842Z",
     "shell.execute_reply": "2021-08-08T18:00:32.015134Z",
     "shell.execute_reply.started": "2021-08-06T21:09:47.310275Z"
    },
    "papermill": {
     "duration": 0.366532,
     "end_time": "2021-08-08T18:00:32.015989",
     "exception": false,
     "start_time": "2021-08-08T18:00:31.649457",
     "status": "completed"
    },
    "tags": []
   },
   "outputs": [
    {
     "data": {
      "text/plain": [
       "223"
      ]
     },
     "execution_count": 29,
     "metadata": {},
     "output_type": "execute_result"
    }
   ],
   "source": [
    "SUB_CHAPTER_SIZE"
   ]
  },
  {
   "cell_type": "markdown",
   "metadata": {
    "id": "4xc90-aLzxat",
    "papermill": {
     "duration": 0.356272,
     "end_time": "2021-08-08T18:00:32.730579",
     "exception": false,
     "start_time": "2021-08-08T18:00:32.374307",
     "status": "completed"
    },
    "tags": []
   },
   "source": [
    "## KFOLD - GRU\n"
   ]
  },
  {
   "cell_type": "code",
   "execution_count": 30,
   "metadata": {
    "execution": {
     "iopub.execute_input": "2021-08-08T18:00:33.488470Z",
     "iopub.status.busy": "2021-08-08T18:00:33.486532Z",
     "iopub.status.idle": "2021-08-08T18:03:43.528053Z",
     "shell.execute_reply": "2021-08-08T18:03:43.527380Z",
     "shell.execute_reply.started": "2021-08-06T21:09:47.318071Z"
    },
    "id": "gzJrljnjzypP",
    "outputId": "87abe488-b493-4f8f-9d71-45cb1d2ddf51",
    "papermill": {
     "duration": 190.404719,
     "end_time": "2021-08-08T18:03:43.528203",
     "exception": false,
     "start_time": "2021-08-08T18:00:33.123484",
     "status": "completed"
    },
    "tags": []
   },
   "outputs": [
    {
     "name": "stdout",
     "output_type": "stream",
     "text": [
      "Epoch 1/100\n",
      "14/14 [==============================] - 4s 181ms/step - loss: 0.5894 - masked_acc: 0.5927 - masked_auc: 0.5665 - val_loss: 0.4578 - val_masked_acc: 0.7198 - val_masked_auc: 0.6933\n",
      "Epoch 2/100\n",
      "14/14 [==============================] - 1s 106ms/step - loss: 0.4658 - masked_acc: 0.7292 - masked_auc: 0.7164 - val_loss: 0.4431 - val_masked_acc: 0.7439 - val_masked_auc: 0.7514\n",
      "Epoch 3/100\n",
      "14/14 [==============================] - 1s 106ms/step - loss: 0.4559 - masked_acc: 0.7459 - masked_auc: 0.7580 - val_loss: 0.4403 - val_masked_acc: 0.7520 - val_masked_auc: 0.7710\n",
      "Epoch 4/100\n",
      "14/14 [==============================] - 1s 106ms/step - loss: 0.4500 - masked_acc: 0.7530 - masked_auc: 0.7742 - val_loss: 0.4377 - val_masked_acc: 0.7568 - val_masked_auc: 0.7815\n",
      "Epoch 5/100\n",
      "14/14 [==============================] - 1s 106ms/step - loss: 0.4516 - masked_acc: 0.7571 - masked_auc: 0.7833 - val_loss: 0.4380 - val_masked_acc: 0.7597 - val_masked_auc: 0.7878\n",
      "Epoch 6/100\n",
      "14/14 [==============================] - 1s 105ms/step - loss: 0.4468 - masked_acc: 0.7600 - masked_auc: 0.7889 - val_loss: 0.4370 - val_masked_acc: 0.7617 - val_masked_auc: 0.7919\n",
      "Epoch 7/100\n",
      "14/14 [==============================] - 1s 107ms/step - loss: 0.4486 - masked_acc: 0.7619 - masked_auc: 0.7926 - val_loss: 0.4381 - val_masked_acc: 0.7630 - val_masked_auc: 0.7947\n",
      "Epoch 8/100\n",
      "14/14 [==============================] - 2s 108ms/step - loss: 0.4450 - masked_acc: 0.7632 - masked_auc: 0.7953 - val_loss: 0.4373 - val_masked_acc: 0.7641 - val_masked_auc: 0.7969\n",
      "Epoch 9/100\n",
      "14/14 [==============================] - 2s 113ms/step - loss: 0.4456 - masked_acc: 0.7641 - masked_auc: 0.7972 - val_loss: 0.4374 - val_masked_acc: 0.7649 - val_masked_auc: 0.7985\n",
      "Epoch 10/100\n",
      "14/14 [==============================] - 1s 105ms/step - loss: 0.4514 - masked_acc: 0.7648 - masked_auc: 0.7989 - val_loss: 0.4384 - val_masked_acc: 0.7655 - val_masked_auc: 0.7998\n",
      "Epoch 11/100\n",
      "14/14 [==============================] - 1s 108ms/step - loss: 0.4397 - masked_acc: 0.7656 - masked_auc: 0.8001 - val_loss: 0.4403 - val_masked_acc: 0.7660 - val_masked_auc: 0.8008\n",
      "Epoch 12/100\n",
      "14/14 [==============================] - 1s 107ms/step - loss: 0.4472 - masked_acc: 0.7661 - masked_auc: 0.8010 - val_loss: 0.4376 - val_masked_acc: 0.7665 - val_masked_auc: 0.8017\n",
      "Epoch 13/100\n",
      "14/14 [==============================] - 1s 107ms/step - loss: 0.4483 - masked_acc: 0.7664 - masked_auc: 0.8018 - val_loss: 0.4381 - val_masked_acc: 0.7668 - val_masked_auc: 0.8025\n",
      "Epoch 14/100\n",
      "14/14 [==============================] - 2s 110ms/step - loss: 0.4461 - masked_acc: 0.7669 - masked_auc: 0.8026 - val_loss: 0.4374 - val_masked_acc: 0.7671 - val_masked_auc: 0.8031\n",
      "Epoch 15/100\n",
      "14/14 [==============================] - 1s 106ms/step - loss: 0.4446 - masked_acc: 0.7672 - masked_auc: 0.8033 - val_loss: 0.4381 - val_masked_acc: 0.7674 - val_masked_auc: 0.8037\n",
      "Epoch 16/100\n",
      "14/14 [==============================] - 1s 106ms/step - loss: 0.4421 - masked_acc: 0.7674 - masked_auc: 0.8038 - val_loss: 0.4379 - val_masked_acc: 0.7677 - val_masked_auc: 0.8042\n",
      "28/28 [==============================] - 1s 26ms/step - loss: 0.4459 - masked_acc: 0.7680 - masked_auc: 0.8045\n",
      "4/4 [==============================] - 0s 26ms/step - loss: 0.4428 - masked_acc: 0.7678 - masked_auc: 0.8046\n",
      "Test:  [0.4427962899208069, 0.7677906155586243, 0.8045549988746643]\n",
      "Epoch 1/100\n",
      "14/14 [==============================] - 4s 164ms/step - loss: 0.5916 - masked_acc: 0.6657 - masked_auc: 0.5745 - val_loss: 0.4764 - val_masked_acc: 0.7279 - val_masked_auc: 0.7001\n",
      "Epoch 2/100\n",
      "14/14 [==============================] - 2s 111ms/step - loss: 0.4619 - masked_acc: 0.7363 - masked_auc: 0.7212 - val_loss: 0.4519 - val_masked_acc: 0.7478 - val_masked_auc: 0.7530\n",
      "Epoch 3/100\n",
      "14/14 [==============================] - 1s 106ms/step - loss: 0.4543 - masked_acc: 0.7495 - masked_auc: 0.7601 - val_loss: 0.4501 - val_masked_acc: 0.7548 - val_masked_auc: 0.7725\n",
      "Epoch 4/100\n",
      "14/14 [==============================] - 1s 103ms/step - loss: 0.4478 - masked_acc: 0.7559 - masked_auc: 0.7759 - val_loss: 0.4488 - val_masked_acc: 0.7586 - val_masked_auc: 0.7823\n",
      "Epoch 5/100\n",
      "14/14 [==============================] - 1s 107ms/step - loss: 0.4436 - masked_acc: 0.7593 - masked_auc: 0.7846 - val_loss: 0.4485 - val_masked_acc: 0.7609 - val_masked_auc: 0.7882\n",
      "Epoch 6/100\n",
      "14/14 [==============================] - 1s 106ms/step - loss: 0.4453 - masked_acc: 0.7611 - masked_auc: 0.7893 - val_loss: 0.4484 - val_masked_acc: 0.7625 - val_masked_auc: 0.7921\n",
      "Epoch 7/100\n",
      "14/14 [==============================] - 1s 106ms/step - loss: 0.4483 - masked_acc: 0.7626 - masked_auc: 0.7929 - val_loss: 0.4486 - val_masked_acc: 0.7636 - val_masked_auc: 0.7949\n",
      "Epoch 8/100\n",
      "14/14 [==============================] - 1s 104ms/step - loss: 0.4482 - masked_acc: 0.7637 - masked_auc: 0.7956 - val_loss: 0.4480 - val_masked_acc: 0.7644 - val_masked_auc: 0.7969\n",
      "Epoch 9/100\n",
      "14/14 [==============================] - 2s 111ms/step - loss: 0.4452 - masked_acc: 0.7645 - masked_auc: 0.7974 - val_loss: 0.4487 - val_masked_acc: 0.7651 - val_masked_auc: 0.7985\n",
      "Epoch 10/100\n",
      "14/14 [==============================] - 1s 106ms/step - loss: 0.4547 - masked_acc: 0.7649 - masked_auc: 0.7987 - val_loss: 0.4489 - val_masked_acc: 0.7656 - val_masked_auc: 0.7998\n",
      "Epoch 11/100\n",
      "14/14 [==============================] - 1s 104ms/step - loss: 0.4416 - masked_acc: 0.7656 - masked_auc: 0.8002 - val_loss: 0.4490 - val_masked_acc: 0.7659 - val_masked_auc: 0.8008\n",
      "Epoch 12/100\n",
      "14/14 [==============================] - 1s 105ms/step - loss: 0.4488 - masked_acc: 0.7659 - masked_auc: 0.8010 - val_loss: 0.4507 - val_masked_acc: 0.7662 - val_masked_auc: 0.8016\n",
      "Epoch 13/100\n",
      "14/14 [==============================] - 1s 104ms/step - loss: 0.4468 - masked_acc: 0.7662 - masked_auc: 0.8017 - val_loss: 0.4481 - val_masked_acc: 0.7665 - val_masked_auc: 0.8023\n",
      "Epoch 14/100\n",
      "14/14 [==============================] - 2s 109ms/step - loss: 0.4533 - masked_acc: 0.7664 - masked_auc: 0.8024 - val_loss: 0.4489 - val_masked_acc: 0.7667 - val_masked_auc: 0.8029\n",
      "Epoch 15/100\n",
      "14/14 [==============================] - 1s 104ms/step - loss: 0.4447 - masked_acc: 0.7668 - masked_auc: 0.8031 - val_loss: 0.4479 - val_masked_acc: 0.7670 - val_masked_auc: 0.8034\n",
      "Epoch 16/100\n",
      "14/14 [==============================] - 1s 105ms/step - loss: 0.4455 - masked_acc: 0.7670 - masked_auc: 0.8035 - val_loss: 0.4489 - val_masked_acc: 0.7672 - val_masked_auc: 0.8039\n",
      "Epoch 17/100\n",
      "14/14 [==============================] - 2s 109ms/step - loss: 0.4479 - masked_acc: 0.7671 - masked_auc: 0.8040 - val_loss: 0.4484 - val_masked_acc: 0.7674 - val_masked_auc: 0.8043\n",
      "Epoch 18/100\n",
      "14/14 [==============================] - 2s 112ms/step - loss: 0.4479 - masked_acc: 0.7673 - masked_auc: 0.8045 - val_loss: 0.4486 - val_masked_acc: 0.7675 - val_masked_auc: 0.8047\n",
      "Epoch 19/100\n",
      "14/14 [==============================] - 2s 108ms/step - loss: 0.4402 - masked_acc: 0.7675 - masked_auc: 0.8048 - val_loss: 0.4486 - val_masked_acc: 0.7676 - val_masked_auc: 0.8051\n",
      "Epoch 20/100\n",
      "14/14 [==============================] - 1s 104ms/step - loss: 0.4541 - masked_acc: 0.7676 - masked_auc: 0.8051 - val_loss: 0.4509 - val_masked_acc: 0.7678 - val_masked_auc: 0.8053\n",
      "Epoch 21/100\n",
      "14/14 [==============================] - 2s 116ms/step - loss: 0.4477 - masked_acc: 0.7677 - masked_auc: 0.8054 - val_loss: 0.4482 - val_masked_acc: 0.7679 - val_masked_auc: 0.8056\n",
      "Epoch 22/100\n",
      "14/14 [==============================] - 2s 109ms/step - loss: 0.4534 - masked_acc: 0.7678 - masked_auc: 0.8056 - val_loss: 0.4492 - val_masked_acc: 0.7680 - val_masked_auc: 0.8058\n",
      "Epoch 23/100\n",
      "14/14 [==============================] - 1s 106ms/step - loss: 0.4491 - masked_acc: 0.7679 - masked_auc: 0.8058 - val_loss: 0.4484 - val_masked_acc: 0.7681 - val_masked_auc: 0.8060\n",
      "Epoch 24/100\n",
      "14/14 [==============================] - 1s 107ms/step - loss: 0.4490 - masked_acc: 0.7680 - masked_auc: 0.8061 - val_loss: 0.4483 - val_masked_acc: 0.7681 - val_masked_auc: 0.8062\n",
      "Epoch 25/100\n",
      "14/14 [==============================] - 1s 104ms/step - loss: 0.4406 - masked_acc: 0.7682 - masked_auc: 0.8063 - val_loss: 0.4482 - val_masked_acc: 0.7682 - val_masked_auc: 0.8064\n",
      "28/28 [==============================] - 1s 27ms/step - loss: 0.4462 - masked_acc: 0.7684 - masked_auc: 0.8067\n",
      "4/4 [==============================] - 0s 22ms/step - loss: 0.4278 - masked_acc: 0.7684 - masked_auc: 0.8067\n",
      "Test:  [0.4277721345424652, 0.7683572173118591, 0.8066724538803101]\n",
      "Epoch 1/100\n",
      "14/14 [==============================] - 3s 147ms/step - loss: 0.5800 - masked_acc: 0.6478 - masked_auc: 0.6141 - val_loss: 0.4904 - val_masked_acc: 0.7333 - val_masked_auc: 0.7064\n",
      "Epoch 2/100\n",
      "14/14 [==============================] - 1s 105ms/step - loss: 0.4585 - masked_acc: 0.7403 - masked_auc: 0.7253 - val_loss: 0.4688 - val_masked_acc: 0.7512 - val_masked_auc: 0.7575\n",
      "Epoch 3/100\n",
      "14/14 [==============================] - 1s 108ms/step - loss: 0.4470 - masked_acc: 0.7533 - masked_auc: 0.7642 - val_loss: 0.4655 - val_masked_acc: 0.7575 - val_masked_auc: 0.7755\n",
      "Epoch 4/100\n",
      "14/14 [==============================] - 1s 106ms/step - loss: 0.4417 - masked_acc: 0.7584 - masked_auc: 0.7788 - val_loss: 0.4646 - val_masked_acc: 0.7609 - val_masked_auc: 0.7848\n",
      "Epoch 5/100\n",
      "14/14 [==============================] - 1s 107ms/step - loss: 0.4397 - masked_acc: 0.7616 - masked_auc: 0.7865 - val_loss: 0.4641 - val_masked_acc: 0.7630 - val_masked_auc: 0.7904\n",
      "Epoch 6/100\n",
      "14/14 [==============================] - 1s 108ms/step - loss: 0.4444 - masked_acc: 0.7633 - masked_auc: 0.7915 - val_loss: 0.4645 - val_masked_acc: 0.7643 - val_masked_auc: 0.7940\n",
      "Epoch 7/100\n",
      "14/14 [==============================] - 1s 105ms/step - loss: 0.4460 - masked_acc: 0.7643 - masked_auc: 0.7946 - val_loss: 0.4663 - val_masked_acc: 0.7652 - val_masked_auc: 0.7966\n",
      "Epoch 8/100\n",
      "14/14 [==============================] - 1s 106ms/step - loss: 0.4404 - masked_acc: 0.7654 - masked_auc: 0.7971 - val_loss: 0.4643 - val_masked_acc: 0.7660 - val_masked_auc: 0.7984\n",
      "Epoch 9/100\n",
      "14/14 [==============================] - 1s 107ms/step - loss: 0.4419 - masked_acc: 0.7662 - masked_auc: 0.7989 - val_loss: 0.4642 - val_masked_acc: 0.7666 - val_masked_auc: 0.7999\n",
      "Epoch 10/100\n",
      "14/14 [==============================] - 2s 113ms/step - loss: 0.4457 - masked_acc: 0.7665 - masked_auc: 0.8003 - val_loss: 0.4648 - val_masked_acc: 0.7670 - val_masked_auc: 0.8011\n",
      "Epoch 11/100\n",
      "14/14 [==============================] - 2s 115ms/step - loss: 0.4503 - masked_acc: 0.7670 - masked_auc: 0.8013 - val_loss: 0.4651 - val_masked_acc: 0.7674 - val_masked_auc: 0.8021\n",
      "Epoch 12/100\n",
      "14/14 [==============================] - 2s 109ms/step - loss: 0.4392 - masked_acc: 0.7675 - masked_auc: 0.8024 - val_loss: 0.4642 - val_masked_acc: 0.7677 - val_masked_auc: 0.8029\n",
      "Epoch 13/100\n",
      "14/14 [==============================] - 2s 108ms/step - loss: 0.4396 - masked_acc: 0.7678 - masked_auc: 0.8032 - val_loss: 0.4634 - val_masked_acc: 0.7680 - val_masked_auc: 0.8036\n",
      "Epoch 14/100\n",
      "14/14 [==============================] - 1s 106ms/step - loss: 0.4435 - masked_acc: 0.7680 - masked_auc: 0.8038 - val_loss: 0.4635 - val_masked_acc: 0.7682 - val_masked_auc: 0.8042\n",
      "Epoch 15/100\n",
      "14/14 [==============================] - 1s 104ms/step - loss: 0.4431 - masked_acc: 0.7682 - masked_auc: 0.8042 - val_loss: 0.4664 - val_masked_acc: 0.7684 - val_masked_auc: 0.8047\n",
      "Epoch 16/100\n",
      "14/14 [==============================] - 1s 105ms/step - loss: 0.4530 - masked_acc: 0.7682 - masked_auc: 0.8047 - val_loss: 0.4666 - val_masked_acc: 0.7685 - val_masked_auc: 0.8051\n",
      "Epoch 17/100\n",
      "14/14 [==============================] - 2s 110ms/step - loss: 0.4448 - masked_acc: 0.7685 - masked_auc: 0.8052 - val_loss: 0.4639 - val_masked_acc: 0.7687 - val_masked_auc: 0.8054\n",
      "Epoch 18/100\n",
      "14/14 [==============================] - 1s 108ms/step - loss: 0.4400 - masked_acc: 0.7688 - masked_auc: 0.8056 - val_loss: 0.4634 - val_masked_acc: 0.7688 - val_masked_auc: 0.8058\n",
      "Epoch 19/100\n",
      "14/14 [==============================] - 1s 106ms/step - loss: 0.4459 - masked_acc: 0.7688 - masked_auc: 0.8058 - val_loss: 0.4645 - val_masked_acc: 0.7689 - val_masked_auc: 0.8061\n",
      "Epoch 20/100\n",
      "14/14 [==============================] - 1s 106ms/step - loss: 0.4480 - masked_acc: 0.7689 - masked_auc: 0.8060 - val_loss: 0.4645 - val_masked_acc: 0.7690 - val_masked_auc: 0.8063\n",
      "Epoch 21/100\n",
      "14/14 [==============================] - 1s 108ms/step - loss: 0.4435 - masked_acc: 0.7690 - masked_auc: 0.8064 - val_loss: 0.4631 - val_masked_acc: 0.7691 - val_masked_auc: 0.8066\n",
      "Epoch 22/100\n",
      "14/14 [==============================] - 1s 106ms/step - loss: 0.4448 - masked_acc: 0.7691 - masked_auc: 0.8066 - val_loss: 0.4650 - val_masked_acc: 0.7692 - val_masked_auc: 0.8068\n",
      "Epoch 23/100\n",
      "14/14 [==============================] - 2s 110ms/step - loss: 0.4457 - masked_acc: 0.7692 - masked_auc: 0.8069 - val_loss: 0.4644 - val_masked_acc: 0.7693 - val_masked_auc: 0.8070\n",
      "Epoch 24/100\n",
      "14/14 [==============================] - 2s 122ms/step - loss: 0.4401 - masked_acc: 0.7693 - masked_auc: 0.8071 - val_loss: 0.4639 - val_masked_acc: 0.7694 - val_masked_auc: 0.8072\n",
      "Epoch 25/100\n",
      "14/14 [==============================] - 2s 109ms/step - loss: 0.4482 - masked_acc: 0.7694 - masked_auc: 0.8073 - val_loss: 0.4638 - val_masked_acc: 0.7695 - val_masked_auc: 0.8074\n",
      "Epoch 26/100\n",
      "14/14 [==============================] - 1s 106ms/step - loss: 0.4468 - masked_acc: 0.7694 - masked_auc: 0.8074 - val_loss: 0.4642 - val_masked_acc: 0.7695 - val_masked_auc: 0.8076\n",
      "Epoch 27/100\n",
      "14/14 [==============================] - 1s 107ms/step - loss: 0.4448 - masked_acc: 0.7695 - masked_auc: 0.8076 - val_loss: 0.4696 - val_masked_acc: 0.7696 - val_masked_auc: 0.8077\n",
      "Epoch 28/100\n",
      "14/14 [==============================] - 1s 104ms/step - loss: 0.4494 - masked_acc: 0.7695 - masked_auc: 0.8077 - val_loss: 0.4639 - val_masked_acc: 0.7696 - val_masked_auc: 0.8078\n",
      "Epoch 29/100\n",
      "14/14 [==============================] - 1s 107ms/step - loss: 0.4429 - masked_acc: 0.7696 - masked_auc: 0.8079 - val_loss: 0.4634 - val_masked_acc: 0.7697 - val_masked_auc: 0.8080\n",
      "Epoch 30/100\n",
      "14/14 [==============================] - 1s 106ms/step - loss: 0.4569 - masked_acc: 0.7696 - masked_auc: 0.8080 - val_loss: 0.4658 - val_masked_acc: 0.7697 - val_masked_auc: 0.8081\n",
      "Epoch 31/100\n",
      "14/14 [==============================] - 2s 118ms/step - loss: 0.4423 - masked_acc: 0.7697 - masked_auc: 0.8081 - val_loss: 0.4662 - val_masked_acc: 0.7698 - val_masked_auc: 0.8082\n",
      "28/28 [==============================] - 1s 29ms/step - loss: 0.4436 - masked_acc: 0.7699 - masked_auc: 0.8084\n",
      "4/4 [==============================] - 0s 24ms/step - loss: 0.4378 - masked_acc: 0.7699 - masked_auc: 0.8083\n",
      "Test:  [0.4378395676612854, 0.7698503732681274, 0.8083392381668091]\n",
      "Epoch 1/100\n",
      "14/14 [==============================] - 3s 150ms/step - loss: 0.5891 - masked_acc: 0.6276 - masked_auc: 0.5783 - val_loss: 0.5102 - val_masked_acc: 0.7264 - val_masked_auc: 0.6960\n",
      "Epoch 2/100\n",
      "14/14 [==============================] - 2s 109ms/step - loss: 0.4752 - masked_acc: 0.7334 - masked_auc: 0.7164 - val_loss: 0.4869 - val_masked_acc: 0.7477 - val_masked_auc: 0.7522\n",
      "Epoch 3/100\n",
      "14/14 [==============================] - 1s 108ms/step - loss: 0.4497 - masked_acc: 0.7496 - masked_auc: 0.7588 - val_loss: 0.4827 - val_masked_acc: 0.7549 - val_masked_auc: 0.7717\n",
      "Epoch 4/100\n",
      "14/14 [==============================] - 1s 105ms/step - loss: 0.4368 - masked_acc: 0.7566 - masked_auc: 0.7755 - val_loss: 0.4814 - val_masked_acc: 0.7588 - val_masked_auc: 0.7818\n",
      "Epoch 5/100\n",
      "14/14 [==============================] - 2s 109ms/step - loss: 0.4363 - masked_acc: 0.7600 - masked_auc: 0.7842 - val_loss: 0.4823 - val_masked_acc: 0.7614 - val_masked_auc: 0.7879\n",
      "Epoch 6/100\n",
      "14/14 [==============================] - 1s 107ms/step - loss: 0.4415 - masked_acc: 0.7618 - masked_auc: 0.7891 - val_loss: 0.4822 - val_masked_acc: 0.7630 - val_masked_auc: 0.7919\n",
      "Epoch 7/100\n",
      "14/14 [==============================] - 1s 106ms/step - loss: 0.4362 - masked_acc: 0.7634 - masked_auc: 0.7929 - val_loss: 0.4816 - val_masked_acc: 0.7643 - val_masked_auc: 0.7948\n",
      "Epoch 8/100\n",
      "14/14 [==============================] - 1s 105ms/step - loss: 0.4354 - masked_acc: 0.7647 - masked_auc: 0.7956 - val_loss: 0.4806 - val_masked_acc: 0.7652 - val_masked_auc: 0.7969\n",
      "Epoch 9/100\n",
      "14/14 [==============================] - 1s 106ms/step - loss: 0.4478 - masked_acc: 0.7652 - masked_auc: 0.7972 - val_loss: 0.4835 - val_masked_acc: 0.7659 - val_masked_auc: 0.7985\n",
      "Epoch 10/100\n",
      "14/14 [==============================] - 2s 114ms/step - loss: 0.4495 - masked_acc: 0.7658 - masked_auc: 0.7987 - val_loss: 0.4821 - val_masked_acc: 0.7665 - val_masked_auc: 0.7998\n",
      "Epoch 11/100\n",
      "14/14 [==============================] - 2s 117ms/step - loss: 0.4340 - masked_acc: 0.7667 - masked_auc: 0.8002 - val_loss: 0.4807 - val_masked_acc: 0.7670 - val_masked_auc: 0.8008\n",
      "Epoch 12/100\n",
      "14/14 [==============================] - 1s 108ms/step - loss: 0.4355 - masked_acc: 0.7671 - masked_auc: 0.8011 - val_loss: 0.4819 - val_masked_acc: 0.7673 - val_masked_auc: 0.8017\n",
      "Epoch 13/100\n",
      "14/14 [==============================] - 1s 108ms/step - loss: 0.4473 - masked_acc: 0.7672 - masked_auc: 0.8018 - val_loss: 0.4839 - val_masked_acc: 0.7676 - val_masked_auc: 0.8024\n",
      "Epoch 14/100\n",
      "14/14 [==============================] - 1s 105ms/step - loss: 0.4472 - masked_acc: 0.7676 - masked_auc: 0.8026 - val_loss: 0.4826 - val_masked_acc: 0.7679 - val_masked_auc: 0.8030\n",
      "Epoch 15/100\n",
      "14/14 [==============================] - 1s 104ms/step - loss: 0.4404 - masked_acc: 0.7679 - masked_auc: 0.8032 - val_loss: 0.4820 - val_masked_acc: 0.7681 - val_masked_auc: 0.8036\n",
      "Epoch 16/100\n",
      "14/14 [==============================] - 1s 106ms/step - loss: 0.4430 - masked_acc: 0.7682 - masked_auc: 0.8037 - val_loss: 0.4847 - val_masked_acc: 0.7684 - val_masked_auc: 0.8040\n",
      "Epoch 17/100\n",
      "14/14 [==============================] - 2s 114ms/step - loss: 0.4417 - masked_acc: 0.7684 - masked_auc: 0.8041 - val_loss: 0.4810 - val_masked_acc: 0.7685 - val_masked_auc: 0.8044\n",
      "Epoch 18/100\n",
      "14/14 [==============================] - 2s 114ms/step - loss: 0.4387 - masked_acc: 0.7686 - masked_auc: 0.8045 - val_loss: 0.4807 - val_masked_acc: 0.7687 - val_masked_auc: 0.8048\n",
      "28/28 [==============================] - 1s 28ms/step - loss: 0.4416 - masked_acc: 0.7690 - masked_auc: 0.8051\n",
      "4/4 [==============================] - 0s 28ms/step - loss: 0.4369 - masked_acc: 0.7689 - masked_auc: 0.8052\n",
      "Test:  [0.43689557909965515, 0.7688919305801392, 0.8051703572273254]\n",
      "Epoch 1/100\n",
      "14/14 [==============================] - 3s 148ms/step - loss: 0.5884 - masked_acc: 0.6344 - masked_auc: 0.5759 - val_loss: 0.4556 - val_masked_acc: 0.7269 - val_masked_auc: 0.6946\n",
      "Epoch 2/100\n",
      "14/14 [==============================] - 2s 110ms/step - loss: 0.4644 - masked_acc: 0.7358 - masked_auc: 0.7181 - val_loss: 0.4408 - val_masked_acc: 0.7481 - val_masked_auc: 0.7523\n",
      "Epoch 3/100\n",
      "14/14 [==============================] - 1s 107ms/step - loss: 0.4494 - masked_acc: 0.7499 - masked_auc: 0.7590 - val_loss: 0.4378 - val_masked_acc: 0.7555 - val_masked_auc: 0.7719\n",
      "Epoch 4/100\n",
      "14/14 [==============================] - 1s 106ms/step - loss: 0.4507 - masked_acc: 0.7562 - masked_auc: 0.7750 - val_loss: 0.4369 - val_masked_acc: 0.7598 - val_masked_auc: 0.7821\n",
      "Epoch 5/100\n",
      "14/14 [==============================] - 2s 111ms/step - loss: 0.4545 - masked_acc: 0.7599 - masked_auc: 0.7838 - val_loss: 0.4363 - val_masked_acc: 0.7624 - val_masked_auc: 0.7881\n",
      "Epoch 6/100\n",
      "14/14 [==============================] - 1s 106ms/step - loss: 0.4452 - masked_acc: 0.7626 - masked_auc: 0.7892 - val_loss: 0.4363 - val_masked_acc: 0.7641 - val_masked_auc: 0.7920\n",
      "Epoch 7/100\n",
      "14/14 [==============================] - 1s 105ms/step - loss: 0.4388 - masked_acc: 0.7644 - masked_auc: 0.7930 - val_loss: 0.4374 - val_masked_acc: 0.7653 - val_masked_auc: 0.7948\n",
      "Epoch 8/100\n",
      "14/14 [==============================] - 1s 103ms/step - loss: 0.4408 - masked_acc: 0.7655 - masked_auc: 0.7955 - val_loss: 0.4359 - val_masked_acc: 0.7661 - val_masked_auc: 0.7969\n",
      "Epoch 9/100\n",
      "14/14 [==============================] - 1s 105ms/step - loss: 0.4462 - masked_acc: 0.7662 - masked_auc: 0.7973 - val_loss: 0.4364 - val_masked_acc: 0.7668 - val_masked_auc: 0.7985\n",
      "Epoch 10/100\n",
      "14/14 [==============================] - 2s 126ms/step - loss: 0.4492 - masked_acc: 0.7667 - masked_auc: 0.7988 - val_loss: 0.4360 - val_masked_acc: 0.7674 - val_masked_auc: 0.7998\n",
      "Epoch 11/100\n",
      "14/14 [==============================] - 2s 109ms/step - loss: 0.4419 - masked_acc: 0.7675 - masked_auc: 0.8001 - val_loss: 0.4365 - val_masked_acc: 0.7679 - val_masked_auc: 0.8008\n",
      "Epoch 12/100\n",
      "14/14 [==============================] - 2s 108ms/step - loss: 0.4436 - masked_acc: 0.7678 - masked_auc: 0.8010 - val_loss: 0.4367 - val_masked_acc: 0.7683 - val_masked_auc: 0.8017\n",
      "Epoch 13/100\n",
      "14/14 [==============================] - 1s 106ms/step - loss: 0.4457 - masked_acc: 0.7682 - masked_auc: 0.8019 - val_loss: 0.4362 - val_masked_acc: 0.7685 - val_masked_auc: 0.8024\n",
      "Epoch 14/100\n",
      "14/14 [==============================] - 1s 107ms/step - loss: 0.4403 - masked_acc: 0.7686 - masked_auc: 0.8027 - val_loss: 0.4364 - val_masked_acc: 0.7688 - val_masked_auc: 0.8030\n",
      "Epoch 15/100\n",
      "14/14 [==============================] - 2s 108ms/step - loss: 0.4407 - masked_acc: 0.7688 - masked_auc: 0.8032 - val_loss: 0.4361 - val_masked_acc: 0.7691 - val_masked_auc: 0.8035\n",
      "Epoch 16/100\n",
      "14/14 [==============================] - 2s 115ms/step - loss: 0.4443 - masked_acc: 0.7690 - masked_auc: 0.8037 - val_loss: 0.4363 - val_masked_acc: 0.7693 - val_masked_auc: 0.8040\n",
      "Epoch 17/100\n",
      "14/14 [==============================] - 2s 120ms/step - loss: 0.4524 - masked_acc: 0.7692 - masked_auc: 0.8041 - val_loss: 0.4361 - val_masked_acc: 0.7694 - val_masked_auc: 0.8044\n",
      "Epoch 18/100\n",
      "14/14 [==============================] - 1s 107ms/step - loss: 0.4323 - masked_acc: 0.7695 - masked_auc: 0.8046 - val_loss: 0.4366 - val_masked_acc: 0.7696 - val_masked_auc: 0.8048\n",
      "28/28 [==============================] - 1s 27ms/step - loss: 0.4437 - masked_acc: 0.7699 - masked_auc: 0.8051\n",
      "4/4 [==============================] - 0s 22ms/step - loss: 0.4611 - masked_acc: 0.7697 - masked_auc: 0.8052\n",
      "Test:  [0.46114620566368103, 0.7697298526763916, 0.805233895778656]\n"
     ]
    }
   ],
   "source": [
    "# 5 fold cross validation with LSTM-based model\n",
    "import torch\n",
    "X = np.array(grouped_data.keys())\n",
    "kfold = KFold(n_splits=5, shuffle=True)\n",
    "train_losses = list()\n",
    "train_aucs = list()\n",
    "val_losses = list()\n",
    "val_aucs = list()\n",
    "train_eval = list()\n",
    "test_eval = list()\n",
    "for train, test in kfold.split(X):\n",
    "    users_train, users_test =  X[train], X[test]\n",
    "    n = len(users_test)//2\n",
    "    users_test, users_val = users_test[:n], users_test[n: ]\n",
    "    train_data_space = SPACE_DATASET(grouped_data[users_train], MAXLENGTH)\n",
    "    val_data_space = SPACE_DATASET(grouped_data[users_val], MAXLENGTH)\n",
    "    test_data_space = SPACE_DATASET(grouped_data[users_test], MAXLENGTH)\n",
    "    #construct training input\n",
    "    train_chapter=[]\n",
    "    train_sub_chapter=[]\n",
    "    train_question = []\n",
    "    train_features=[]\n",
    "    #train_shifted_t = []\n",
    "    train_labels=[]\n",
    "    for i in range(len(users_train)):\n",
    "        user = train_data_space.__getitem__(i)\n",
    "        train_chapter.append(user[0])\n",
    "        train_sub_chapter.append(user[1]) \n",
    "        train_question.append(user[2])\n",
    "        train_features.append(user[3])\n",
    "        #train_shifted_t.append(user[4])\n",
    "        train_labels.append(user[5])\n",
    "    train_chapter = np.array(train_chapter)\n",
    "    train_sub_chapter = np.array(train_sub_chapter)\n",
    "    train_question = np.array(train_question)\n",
    "    train_features = np.array(train_features)\n",
    "    #train_shifted_t = np.array(train_shifted_t)\n",
    "    train_labels= np.array(train_labels)[..., np.newaxis]\n",
    "\n",
    "    #construct validation input\n",
    "    val_chapter=[]\n",
    "    val_sub_chapter=[]\n",
    "    val_question = []\n",
    "    val_features=[]\n",
    "    #val_shifted_t = []\n",
    "    val_labels=[]\n",
    "    for i in range(len(users_val)):\n",
    "        user = val_data_space.__getitem__(i)\n",
    "        val_chapter.append(user[0])\n",
    "        val_sub_chapter.append(user[1]) \n",
    "        val_question.append(user[2])\n",
    "        val_features.append(user[3])\n",
    "        #val_shifted_t.append(user[4])\n",
    "        val_labels.append(user[5])\n",
    "    val_chapter = np.array(val_chapter)\n",
    "    val_sub_chapter = np.array(val_sub_chapter)\n",
    "    val_features = np.array(val_features)\n",
    "    val_question = np.array(val_question)\n",
    "    #val_shifted_t = np.array(val_shifted_t)\n",
    "    val_labels= np.array(val_labels)[..., np.newaxis]\n",
    "\n",
    "    # construct test input\n",
    "    test_chapter=[]\n",
    "    test_sub_chapter=[]\n",
    "    test_features=[]\n",
    "    test_question=[]\n",
    "    #test_shifted_t = []\n",
    "    test_labels=[]\n",
    "    for i in range(len(users_test)):\n",
    "        user = test_data_space.__getitem__(i)\n",
    "        test_chapter.append(user[0])\n",
    "        test_sub_chapter.append(user[1]) \n",
    "        test_question.append(user[2])\n",
    "        test_features.append(user[3])\n",
    "        #test_shifted_t.append(user[4])\n",
    "        test_labels.append(user[5])\n",
    "    test_chapter = np.array(test_chapter)\n",
    "    test_sub_chapter = np.array(test_sub_chapter)\n",
    "    test_features = np.array(test_features)\n",
    "    test_question = np.array(test_question)\n",
    "    #test_shifted_t = np.array(test_shifted_t)\n",
    "    test_labels= np.array(test_labels)[..., np.newaxis]\n",
    "\n",
    "    # define loss function and evaluation metrics\n",
    "    bce = tf.keras.losses.BinaryCrossentropy(from_logits=True)\n",
    "    acc = tf.keras.metrics.Accuracy()\n",
    "    auc = tf.keras.metrics.AUC()\n",
    "\n",
    "    def masked_bce(y_true, y_pred):\n",
    "      flat_pred = y_pred\n",
    "      flat_ground_truth = y_true\n",
    "      label_mask = tf.math.not_equal(flat_ground_truth, -1)\n",
    "      return bce(flat_ground_truth, flat_pred, sample_weight=label_mask)\n",
    "\n",
    "    def masked_acc(y_true, y_pred):\n",
    "      flat_pred = y_pred\n",
    "      flat_ground_truth = y_true\n",
    "      flat_pred = (flat_pred >= 0.5)\n",
    "      label_mask = tf.math.not_equal(flat_ground_truth, -1)\n",
    "      return acc(flat_ground_truth, flat_pred, sample_weight=label_mask)\n",
    "\n",
    "    def masked_auc(y_true, y_pred):\n",
    "      flat_pred = y_pred\n",
    "      flat_ground_truth = y_true\n",
    "      label_mask = tf.math.not_equal(flat_ground_truth, -1)\n",
    "      return auc(flat_ground_truth, flat_pred, sample_weight=label_mask)\n",
    "\n",
    "    # input layer\n",
    "    input_chap = tf.keras.Input(shape=(MAXLENGTH))\n",
    "    input_sub_chap = tf.keras.Input(shape=(MAXLENGTH))\n",
    "    input_ques =  tf.keras.Input(shape=(MAXLENGTH))\n",
    "    #input_shifted = tf.keras.Input(shape=(MAXLENGTH))\n",
    "    input_features = tf.keras.Input(shape=(MAXLENGTH, FEATURES_SIZE))\n",
    "\n",
    "    # embedding layer for categorical features\n",
    "    embedding_chap = Embedding(input_dim = CHAPTER_SIZE, output_dim = EMBEDDING_DIM)(input_chap)\n",
    "    embedding_sub_chap = Embedding(input_dim = SUB_CHAPTER_SIZE, output_dim = EMBEDDING_DIM)(input_sub_chap) \n",
    "    embedding_ques = Embedding(input_dim = QUESTION_SIZE, output_dim = EMBEDDING_DIM)(input_ques)       \n",
    "    #embedding_shifted = Embedding(input_dim = 3, output_dim = EMBEDDING_DIM)(input_shifted)\n",
    "    # dense layer for numeric features\n",
    "    dense_features = Dense(EMBEDDING_DIM,input_shape = (None, MAXLENGTH))(input_features)\n",
    "    \n",
    "    output = tf.concat([embedding_chap, embedding_sub_chap, embedding_ques, dense_features], axis = 2)\n",
    "\n",
    "    pred = Dense(1, input_shape = (None, 4*EMBEDDING_DIM), activation='sigmoid')(output)\n",
    "\n",
    "    model = tf.keras.Model(\n",
    "        inputs=[input_chap, input_sub_chap,input_ques, input_features],\n",
    "        outputs=pred,\n",
    "        name='logistic_regression'\n",
    "    )\n",
    "\n",
    "    callback = tf.keras.callbacks.EarlyStopping(monitor='val_loss', patience=10)\n",
    "    opt_adam = Adam(learning_rate = 0.005)\n",
    "    model.compile(\n",
    "        optimizer=opt_adam,\n",
    "        loss= masked_bce,\n",
    "        metrics = [masked_acc, masked_auc]\n",
    "    )\n",
    "\n",
    "    history = model.fit(\n",
    "      [train_chapter, train_sub_chapter, train_question, train_features],\n",
    "      train_labels,\n",
    "      batch_size = 64,\n",
    "      epochs = 100,\n",
    "      validation_data=([val_chapter, val_sub_chapter, val_question, val_features], val_labels),\n",
    "      callbacks=[callback]\n",
    "    )\n",
    "    val_losses.append(list(history.history['val_loss']))\n",
    "    train_losses.append(list(history.history['loss']))\n",
    "    val_aucs.append(list(history.history['val_masked_auc']))\n",
    "    train_aucs.append(list(history.history['masked_auc']))\n",
    "    train_score = model.evaluate([train_chapter, train_sub_chapter, train_question, train_features], train_labels)\n",
    "    train_eval.append(train_score)\n",
    "    test_score = model.evaluate([test_chapter, test_sub_chapter, test_question, test_features], test_labels)\n",
    "    test_eval.append(test_score)\n",
    "    print(\"Test: \", test_score)\n",
    "    def reset_weights(model):\n",
    "      for layer in model.layers: \n",
    "        if isinstance(layer, tf.keras.Model):\n",
    "          reset_weights(layer)\n",
    "          continue\n",
    "        for k, initializer in layer.__dict__.items():\n",
    "          if \"initializer\" not in k:\n",
    "            continue\n",
    "          # find the corresponding variable\n",
    "          var = getattr(layer, k.replace(\"_initializer\", \"\"))\n",
    "          var.assign(initializer(var.shape, var.dtype))\n",
    "    reset_weights(model)"
   ]
  },
  {
   "cell_type": "code",
   "execution_count": 31,
   "metadata": {
    "execution": {
     "iopub.execute_input": "2021-08-08T18:03:45.403935Z",
     "iopub.status.busy": "2021-08-08T18:03:45.403258Z",
     "iopub.status.idle": "2021-08-08T18:03:45.409081Z",
     "shell.execute_reply": "2021-08-08T18:03:45.409541Z",
     "shell.execute_reply.started": "2021-08-06T21:11:24.771838Z"
    },
    "id": "QsVmumHMz3lx",
    "outputId": "4ff1e2fa-6abb-458e-c729-495b456f53e5",
    "papermill": {
     "duration": 0.910577,
     "end_time": "2021-08-08T18:03:45.409722",
     "exception": false,
     "start_time": "2021-08-08T18:03:44.499145",
     "status": "completed"
    },
    "tags": []
   },
   "outputs": [
    {
     "name": "stdout",
     "output_type": "stream",
     "text": [
      "test avg loss:  0.44128995537757876 +/- 0.011049768482420026\n",
      "test avg acc:  0.7689239978790283 +/- 0.0007892271312043337\n",
      "test avg auc:  0.805994188785553 +/- 0.0013628874958386892\n"
     ]
    }
   ],
   "source": [
    "t_eval = np.array(test_eval)\n",
    "print(\"test avg loss: \", np.mean(t_eval[:, 0]), \"+/-\" ,np.std(t_eval[:, 0]))\n",
    "print(\"test avg acc: \", np.mean(t_eval[:, 1]),  \"+/-\" ,np.std(t_eval[:, 1]))\n",
    "print(\"test avg auc: \", np.mean(t_eval[:, 2]), \"+/-\" ,np.std(t_eval[:, 2]))"
   ]
  },
  {
   "cell_type": "code",
   "execution_count": 32,
   "metadata": {
    "execution": {
     "iopub.execute_input": "2021-08-08T18:03:47.213921Z",
     "iopub.status.busy": "2021-08-08T18:03:47.212969Z",
     "iopub.status.idle": "2021-08-08T18:03:47.217071Z",
     "shell.execute_reply": "2021-08-08T18:03:47.216451Z",
     "shell.execute_reply.started": "2021-08-06T21:11:24.782922Z"
    },
    "id": "b9MM_CXWz5K6",
    "outputId": "4cf88e1d-3a74-4e7d-f92c-d01522e91757",
    "papermill": {
     "duration": 0.906324,
     "end_time": "2021-08-08T18:03:47.217207",
     "exception": false,
     "start_time": "2021-08-08T18:03:46.310883",
     "status": "completed"
    },
    "tags": []
   },
   "outputs": [
    {
     "name": "stdout",
     "output_type": "stream",
     "text": [
      "train avg loss:  0.44420082569122316 +/- 0.0017107781008522593\n",
      "train avg acc:  0.7690568566322327 +/- 0.0007747308503602136\n",
      "train avg auc:  0.8059497594833374 +/- 0.0013989418387437402\n"
     ]
    }
   ],
   "source": [
    "t_eval = np.array(train_eval)\n",
    "print(\"train avg loss: \", np.mean(t_eval[:, 0]), \"+/-\" ,np.std(t_eval[:, 0]))\n",
    "print(\"train avg acc: \", np.mean(t_eval[:, 1]),  \"+/-\" ,np.std(t_eval[:, 1]))\n",
    "print(\"train avg auc: \", np.mean(t_eval[:, 2]), \"+/-\" ,np.std(t_eval[:, 2]))"
   ]
  }
 ],
 "metadata": {
  "kernelspec": {
   "display_name": "Python 3",
   "language": "python",
   "name": "python3"
  },
  "language_info": {
   "codemirror_mode": {
    "name": "ipython",
    "version": 3
   },
   "file_extension": ".py",
   "mimetype": "text/x-python",
   "name": "python",
   "nbconvert_exporter": "python",
   "pygments_lexer": "ipython3",
   "version": "3.8.5"
  },
  "papermill": {
   "default_parameters": {},
   "duration": 598.149486,
   "end_time": "2021-08-08T18:03:49.855730",
   "environment_variables": {},
   "exception": null,
   "input_path": "__notebook__.ipynb",
   "output_path": "__notebook__.ipynb",
   "parameters": {},
   "start_time": "2021-08-08T17:53:51.706244",
   "version": "2.3.3"
  }
 },
 "nbformat": 4,
 "nbformat_minor": 5
}
