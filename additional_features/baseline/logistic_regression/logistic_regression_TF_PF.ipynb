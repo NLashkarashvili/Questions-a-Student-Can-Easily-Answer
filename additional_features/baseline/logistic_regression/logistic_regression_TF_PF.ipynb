{
 "cells": [
  {
   "cell_type": "code",
   "execution_count": 1,
   "metadata": {
    "execution": {
     "iopub.execute_input": "2021-08-08T14:05:24.489883Z",
     "iopub.status.busy": "2021-08-08T14:05:24.489207Z",
     "iopub.status.idle": "2021-08-08T14:05:31.343895Z",
     "shell.execute_reply": "2021-08-08T14:05:31.344471Z",
     "shell.execute_reply.started": "2021-08-06T21:05:15.103244Z"
    },
    "id": "farifxiKU1aB",
    "papermill": {
     "duration": 6.899148,
     "end_time": "2021-08-08T14:05:31.344800",
     "exception": false,
     "start_time": "2021-08-08T14:05:24.445652",
     "status": "completed"
    },
    "tags": []
   },
   "outputs": [],
   "source": [
    "import numpy as np\n",
    "import pandas as pd\n",
    "import warnings\n",
    "import gc\n",
    "import tensorflow as tf\n",
    "from tensorflow import keras\n",
    "\n",
    "import random\n",
    "from random import choice\n",
    "from tensorflow.keras.optimizers import Adam\n",
    "from tensorflow.keras.models import Sequential \n",
    "from tensorflow.keras.layers import Dense, GRU, Concatenate, Embedding, Flatten, Activation, Dropout\n",
    "from sklearn.model_selection import KFold\n",
    "from tensorflow.python.client import device_lib\n",
    "warnings.filterwarnings('ignore')\n",
    "import random"
   ]
  },
  {
   "cell_type": "code",
   "execution_count": 2,
   "metadata": {
    "execution": {
     "iopub.execute_input": "2021-08-08T14:05:31.405419Z",
     "iopub.status.busy": "2021-08-08T14:05:31.404677Z",
     "iopub.status.idle": "2021-08-08T14:05:31.408865Z",
     "shell.execute_reply": "2021-08-08T14:05:31.409379Z",
     "shell.execute_reply.started": "2021-08-06T21:05:15.117334Z"
    },
    "id": "QOson70GPOXb",
    "papermill": {
     "duration": 0.035676,
     "end_time": "2021-08-08T14:05:31.409550",
     "exception": false,
     "start_time": "2021-08-08T14:05:31.373874",
     "status": "completed"
    },
    "tags": []
   },
   "outputs": [],
   "source": [
    "import gc"
   ]
  },
  {
   "cell_type": "markdown",
   "metadata": {
    "id": "BQsVybBH3VPw",
    "papermill": {
     "duration": 0.02774,
     "end_time": "2021-08-08T14:05:31.465613",
     "exception": false,
     "start_time": "2021-08-08T14:05:31.437873",
     "status": "completed"
    },
    "tags": []
   },
   "source": [
    "## Data Preprocessing"
   ]
  },
  {
   "cell_type": "code",
   "execution_count": 3,
   "metadata": {
    "execution": {
     "iopub.execute_input": "2021-08-08T14:05:31.527621Z",
     "iopub.status.busy": "2021-08-08T14:05:31.526891Z",
     "iopub.status.idle": "2021-08-08T14:05:38.024717Z",
     "shell.execute_reply": "2021-08-08T14:05:38.025234Z",
     "shell.execute_reply.started": "2021-08-06T21:05:15.141773Z"
    },
    "id": "rwtTusGxrmAE",
    "outputId": "1430f3cf-038b-485e-b5c4-c1686b1f34fd",
    "papermill": {
     "duration": 6.53166,
     "end_time": "2021-08-08T14:05:38.025417",
     "exception": false,
     "start_time": "2021-08-08T14:05:31.493757",
     "status": "completed"
    },
    "tags": []
   },
   "outputs": [
    {
     "data": {
      "text/html": [
       "<div>\n",
       "<style scoped>\n",
       "    .dataframe tbody tr th:only-of-type {\n",
       "        vertical-align: middle;\n",
       "    }\n",
       "\n",
       "    .dataframe tbody tr th {\n",
       "        vertical-align: top;\n",
       "    }\n",
       "\n",
       "    .dataframe thead th {\n",
       "        text-align: right;\n",
       "    }\n",
       "</style>\n",
       "<table border=\"1\" class=\"dataframe\">\n",
       "  <thead>\n",
       "    <tr style=\"text-align: right;\">\n",
       "      <th></th>\n",
       "      <th>Unnamed: 0</th>\n",
       "      <th>chapter_label</th>\n",
       "      <th>sub_chapter_label</th>\n",
       "      <th>question_name</th>\n",
       "      <th>user_id.x</th>\n",
       "      <th>term</th>\n",
       "      <th>STDNT_SEX_CD</th>\n",
       "      <th>NonNativeEnglish</th>\n",
       "      <th>White</th>\n",
       "      <th>Asian</th>\n",
       "      <th>...</th>\n",
       "      <th>classGraded</th>\n",
       "      <th>classHonors</th>\n",
       "      <th>Pass_Fail</th>\n",
       "      <th>parentsGraduateEdu</th>\n",
       "      <th>minorityGroup</th>\n",
       "      <th>q</th>\n",
       "      <th>day's_available_flashcards</th>\n",
       "      <th>start_practice</th>\n",
       "      <th>end_practice</th>\n",
       "      <th>days_offset</th>\n",
       "    </tr>\n",
       "  </thead>\n",
       "  <tbody>\n",
       "    <tr>\n",
       "      <th>0</th>\n",
       "      <td>1</td>\n",
       "      <td>Sort</td>\n",
       "      <td>intro-SortingwithSortandSorted</td>\n",
       "      <td>ee_sort_04</td>\n",
       "      <td>148</td>\n",
       "      <td>WN 2018</td>\n",
       "      <td>1</td>\n",
       "      <td>0</td>\n",
       "      <td>1</td>\n",
       "      <td>0</td>\n",
       "      <td>...</td>\n",
       "      <td>1</td>\n",
       "      <td>0</td>\n",
       "      <td>0</td>\n",
       "      <td>0</td>\n",
       "      <td>0</td>\n",
       "      <td>0</td>\n",
       "      <td>18</td>\n",
       "      <td>2018-03-04 20:00:19</td>\n",
       "      <td>2018-03-04 20:00:35</td>\n",
       "      <td>45</td>\n",
       "    </tr>\n",
       "    <tr>\n",
       "      <th>1</th>\n",
       "      <td>2</td>\n",
       "      <td>Functions</td>\n",
       "      <td>Returningavaluefromafunction</td>\n",
       "      <td>test_questionfunctions_2_3</td>\n",
       "      <td>148</td>\n",
       "      <td>WN 2018</td>\n",
       "      <td>1</td>\n",
       "      <td>0</td>\n",
       "      <td>1</td>\n",
       "      <td>0</td>\n",
       "      <td>...</td>\n",
       "      <td>1</td>\n",
       "      <td>0</td>\n",
       "      <td>0</td>\n",
       "      <td>0</td>\n",
       "      <td>0</td>\n",
       "      <td>4</td>\n",
       "      <td>16</td>\n",
       "      <td>2018-02-10 11:57:55</td>\n",
       "      <td>2018-02-10 11:58:35</td>\n",
       "      <td>23</td>\n",
       "    </tr>\n",
       "    <tr>\n",
       "      <th>2</th>\n",
       "      <td>3</td>\n",
       "      <td>RESTAPIs</td>\n",
       "      <td>functionswithrestapis</td>\n",
       "      <td>test_question_functions_rest_apis_1</td>\n",
       "      <td>148</td>\n",
       "      <td>WN 2018</td>\n",
       "      <td>1</td>\n",
       "      <td>0</td>\n",
       "      <td>1</td>\n",
       "      <td>0</td>\n",
       "      <td>...</td>\n",
       "      <td>1</td>\n",
       "      <td>0</td>\n",
       "      <td>0</td>\n",
       "      <td>0</td>\n",
       "      <td>0</td>\n",
       "      <td>1</td>\n",
       "      <td>2</td>\n",
       "      <td>2018-03-12 17:03:07</td>\n",
       "      <td>2018-03-12 17:04:28</td>\n",
       "      <td>53</td>\n",
       "    </tr>\n",
       "    <tr>\n",
       "      <th>3</th>\n",
       "      <td>4</td>\n",
       "      <td>SimplePythonData</td>\n",
       "      <td>FunctionCalls</td>\n",
       "      <td>exercise_functionCalls_1</td>\n",
       "      <td>148</td>\n",
       "      <td>WN 2018</td>\n",
       "      <td>1</td>\n",
       "      <td>0</td>\n",
       "      <td>1</td>\n",
       "      <td>0</td>\n",
       "      <td>...</td>\n",
       "      <td>1</td>\n",
       "      <td>0</td>\n",
       "      <td>0</td>\n",
       "      <td>0</td>\n",
       "      <td>0</td>\n",
       "      <td>0</td>\n",
       "      <td>10</td>\n",
       "      <td>2018-01-30 14:15:49</td>\n",
       "      <td>2018-01-30 14:15:58</td>\n",
       "      <td>12</td>\n",
       "    </tr>\n",
       "    <tr>\n",
       "      <th>4</th>\n",
       "      <td>5</td>\n",
       "      <td>DictionaryAccumulation</td>\n",
       "      <td>AccumulatingaMaximumValue</td>\n",
       "      <td>ps_04_07</td>\n",
       "      <td>148</td>\n",
       "      <td>WN 2018</td>\n",
       "      <td>1</td>\n",
       "      <td>0</td>\n",
       "      <td>1</td>\n",
       "      <td>0</td>\n",
       "      <td>...</td>\n",
       "      <td>1</td>\n",
       "      <td>0</td>\n",
       "      <td>0</td>\n",
       "      <td>0</td>\n",
       "      <td>0</td>\n",
       "      <td>0</td>\n",
       "      <td>23</td>\n",
       "      <td>2018-03-03 14:04:17</td>\n",
       "      <td>2018-03-03 14:04:25</td>\n",
       "      <td>44</td>\n",
       "    </tr>\n",
       "  </tbody>\n",
       "</table>\n",
       "<p>5 rows × 48 columns</p>\n",
       "</div>"
      ],
      "text/plain": [
       "   Unnamed: 0           chapter_label               sub_chapter_label  \\\n",
       "0           1                    Sort  intro-SortingwithSortandSorted   \n",
       "1           2               Functions    Returningavaluefromafunction   \n",
       "2           3                RESTAPIs           functionswithrestapis   \n",
       "3           4        SimplePythonData                   FunctionCalls   \n",
       "4           5  DictionaryAccumulation       AccumulatingaMaximumValue   \n",
       "\n",
       "                         question_name  user_id.x     term  STDNT_SEX_CD  \\\n",
       "0                           ee_sort_04        148  WN 2018             1   \n",
       "1           test_questionfunctions_2_3        148  WN 2018             1   \n",
       "2  test_question_functions_rest_apis_1        148  WN 2018             1   \n",
       "3             exercise_functionCalls_1        148  WN 2018             1   \n",
       "4                             ps_04_07        148  WN 2018             1   \n",
       "\n",
       "   NonNativeEnglish  White  Asian  ...  classGraded  classHonors  Pass_Fail  \\\n",
       "0                 0      1      0  ...            1            0          0   \n",
       "1                 0      1      0  ...            1            0          0   \n",
       "2                 0      1      0  ...            1            0          0   \n",
       "3                 0      1      0  ...            1            0          0   \n",
       "4                 0      1      0  ...            1            0          0   \n",
       "\n",
       "   parentsGraduateEdu  minorityGroup  q  day's_available_flashcards  \\\n",
       "0                   0              0  0                          18   \n",
       "1                   0              0  4                          16   \n",
       "2                   0              0  1                           2   \n",
       "3                   0              0  0                          10   \n",
       "4                   0              0  0                          23   \n",
       "\n",
       "        start_practice         end_practice  days_offset  \n",
       "0  2018-03-04 20:00:19  2018-03-04 20:00:35           45  \n",
       "1  2018-02-10 11:57:55  2018-02-10 11:58:35           23  \n",
       "2  2018-03-12 17:03:07  2018-03-12 17:04:28           53  \n",
       "3  2018-01-30 14:15:49  2018-01-30 14:15:58           12  \n",
       "4  2018-03-03 14:04:17  2018-03-03 14:04:25           44  \n",
       "\n",
       "[5 rows x 48 columns]"
      ]
     },
     "execution_count": 3,
     "metadata": {},
     "output_type": "execute_result"
    }
   ],
   "source": [
    "# load the data\n",
    "import pandas as pd\n",
    "dataframe = pd.read_csv('../input/practice-log-demographics/Practice_Log_Demographics (1).csv', low_memory=False)\n",
    "dataframe.head()"
   ]
  },
  {
   "cell_type": "code",
   "execution_count": 4,
   "metadata": {
    "execution": {
     "iopub.execute_input": "2021-08-08T14:05:38.150486Z",
     "iopub.status.busy": "2021-08-08T14:05:38.149402Z",
     "iopub.status.idle": "2021-08-08T14:05:39.841049Z",
     "shell.execute_reply": "2021-08-08T14:05:39.840433Z",
     "shell.execute_reply.started": "2021-08-06T21:05:19.576072Z"
    },
    "id": "OCbHnEp_Vir0",
    "papermill": {
     "duration": 1.786819,
     "end_time": "2021-08-08T14:05:39.841310",
     "exception": false,
     "start_time": "2021-08-08T14:05:38.054491",
     "status": "completed"
    },
    "tags": []
   },
   "outputs": [],
   "source": [
    "#sort data based on timestamp\n",
    "dataframe = dataframe.sort_values(by=['start_practice']).reset_index(drop=True)"
   ]
  },
  {
   "cell_type": "code",
   "execution_count": 5,
   "metadata": {
    "execution": {
     "iopub.execute_input": "2021-08-08T14:05:39.906290Z",
     "iopub.status.busy": "2021-08-08T14:05:39.905572Z",
     "iopub.status.idle": "2021-08-08T14:05:39.909195Z",
     "shell.execute_reply": "2021-08-08T14:05:39.908548Z",
     "shell.execute_reply.started": "2021-08-06T21:05:21.039874Z"
    },
    "id": "0RvF7BvEr98o",
    "papermill": {
     "duration": 0.038991,
     "end_time": "2021-08-08T14:05:39.909343",
     "exception": false,
     "start_time": "2021-08-08T14:05:39.870352",
     "status": "completed"
    },
    "tags": []
   },
   "outputs": [],
   "source": [
    "FEATURES = ['chapter_label', 'sub_chapter_label','question_name','user_id','term',\n",
    "            'STDNT_SEX_CD', \n",
    "            'NonNativeEnglish',\n",
    "            'White',\n",
    "            'Asian',\n",
    "            'WhiteOrAsian',\n",
    "            'Hispanic',\n",
    "            'AfricanAmerican',\n",
    "            'OtherEthnicities',\n",
    "            'NonWhiteOrAsian',\n",
    "            'STDNT_CTZN_STAT_CD', 'international', \n",
    "            'gradingType',\n",
    "            'birthYear',\n",
    "            'exclClassCumGPA',\n",
    "            'Freshman',\n",
    "            'Junior',\n",
    "            'Sophomore',\n",
    "            'Senior',\n",
    "            'termCreditsGPA',\n",
    "            'termCreditsNoGPA',\n",
    "            'athlete_1',\n",
    "            'honorsPro',\n",
    "            'LSA', 'programBusiness', 'programEngineering', \n",
    "            'programInformation', 'programOther',\n",
    "            'HSCalculusTaken', \n",
    "            'highSchoolGPA', \n",
    "            'majorsCount', 'minorsCount',\n",
    "            'PREV_TERM_CUM_GPA',\n",
    "            'classGraded', 'classHonors', \n",
    "            'Pass_Fail', \n",
    "            'parentsGraduateEdu',  'minorityGroup', \n",
    "            'q',\n",
    "            'available_flashcards', \n",
    "            'start_practice', \n",
    "            'end_practice',\n",
    "            'days_offset']"
   ]
  },
  {
   "cell_type": "code",
   "execution_count": 6,
   "metadata": {
    "execution": {
     "iopub.execute_input": "2021-08-08T14:05:39.971697Z",
     "iopub.status.busy": "2021-08-08T14:05:39.971046Z",
     "iopub.status.idle": "2021-08-08T14:05:40.517464Z",
     "shell.execute_reply": "2021-08-08T14:05:40.516561Z",
     "shell.execute_reply.started": "2021-08-06T21:05:21.055415Z"
    },
    "id": "Mn341X7lSztl",
    "papermill": {
     "duration": 0.57817,
     "end_time": "2021-08-08T14:05:40.517692",
     "exception": false,
     "start_time": "2021-08-08T14:05:39.939522",
     "status": "completed"
    },
    "tags": []
   },
   "outputs": [],
   "source": [
    "dataframe['available_flashcards'] = dataframe[\"day's_available_flashcards\"][:]\n",
    "dataframe = dataframe.drop([\"day's_available_flashcards\"], axis=1)\n",
    "dataframe['user_id'] = dataframe[\"user_id.x\"][:]\n",
    "dataframe = dataframe.drop([\"user_id.x\"], axis=1)"
   ]
  },
  {
   "cell_type": "code",
   "execution_count": 7,
   "metadata": {
    "execution": {
     "iopub.execute_input": "2021-08-08T14:05:40.783230Z",
     "iopub.status.busy": "2021-08-08T14:05:40.782298Z",
     "iopub.status.idle": "2021-08-08T14:05:40.788228Z",
     "shell.execute_reply": "2021-08-08T14:05:40.788932Z",
     "shell.execute_reply.started": "2021-08-06T21:05:21.632824Z"
    },
    "id": "-_BRggOjbBjN",
    "outputId": "42bff7db-08dd-48dc-a73a-d048508053b7",
    "papermill": {
     "duration": 0.226263,
     "end_time": "2021-08-08T14:05:40.789175",
     "exception": false,
     "start_time": "2021-08-08T14:05:40.562912",
     "status": "completed"
    },
    "tags": []
   },
   "outputs": [
    {
     "data": {
      "text/plain": [
       "102"
      ]
     },
     "execution_count": 7,
     "metadata": {},
     "output_type": "execute_result"
    }
   ],
   "source": [
    "gc.collect()"
   ]
  },
  {
   "cell_type": "code",
   "execution_count": 8,
   "metadata": {
    "execution": {
     "iopub.execute_input": "2021-08-08T14:05:40.853792Z",
     "iopub.status.busy": "2021-08-08T14:05:40.852790Z",
     "iopub.status.idle": "2021-08-08T14:05:41.161423Z",
     "shell.execute_reply": "2021-08-08T14:05:41.162009Z",
     "shell.execute_reply.started": "2021-08-06T21:05:21.821467Z"
    },
    "id": "lXM7MlonVeRL",
    "outputId": "d29ccec0-522f-4e3c-e0b2-39b2e1eaef74",
    "papermill": {
     "duration": 0.341912,
     "end_time": "2021-08-08T14:05:41.162189",
     "exception": false,
     "start_time": "2021-08-08T14:05:40.820277",
     "status": "completed"
    },
    "tags": []
   },
   "outputs": [
    {
     "data": {
      "text/plain": [
       "20"
      ]
     },
     "execution_count": 8,
     "metadata": {},
     "output_type": "execute_result"
    }
   ],
   "source": [
    "dataframe = dataframe[FEATURES]\n",
    "gc.collect()"
   ]
  },
  {
   "cell_type": "code",
   "execution_count": 9,
   "metadata": {
    "execution": {
     "iopub.execute_input": "2021-08-08T14:05:41.227912Z",
     "iopub.status.busy": "2021-08-08T14:05:41.226933Z",
     "iopub.status.idle": "2021-08-08T14:05:41.889559Z",
     "shell.execute_reply": "2021-08-08T14:05:41.889010Z",
     "shell.execute_reply.started": "2021-08-06T21:05:22.101727Z"
    },
    "id": "2WAFv5z3A6fK",
    "outputId": "e27abf84-ec3c-4b88-e1fb-927d94b41898",
    "papermill": {
     "duration": 0.697211,
     "end_time": "2021-08-08T14:05:41.889708",
     "exception": false,
     "start_time": "2021-08-08T14:05:41.192497",
     "status": "completed"
    },
    "tags": []
   },
   "outputs": [],
   "source": [
    "dataframe = dataframe.fillna(0)"
   ]
  },
  {
   "cell_type": "code",
   "execution_count": 10,
   "metadata": {
    "execution": {
     "iopub.execute_input": "2021-08-08T14:05:41.967769Z",
     "iopub.status.busy": "2021-08-08T14:05:41.967108Z",
     "iopub.status.idle": "2021-08-08T14:05:43.410327Z",
     "shell.execute_reply": "2021-08-08T14:05:43.409756Z",
     "shell.execute_reply.started": "2021-08-06T21:05:22.700096Z"
    },
    "id": "qRKqF_0IXZgj",
    "papermill": {
     "duration": 1.491442,
     "end_time": "2021-08-08T14:05:43.410480",
     "exception": false,
     "start_time": "2021-08-08T14:05:41.919038",
     "status": "completed"
    },
    "tags": []
   },
   "outputs": [],
   "source": [
    "#label encode term, chapter_label, question_name, sub_chapter_label columns\n",
    "dataframe['term'] = dataframe['term'].astype('category')\n",
    "dataframe['user_id'] = dataframe['user_id'].astype(int)\n",
    "dataframe['user_id'] = dataframe['user_id'].astype(str)\n",
    "dataframe['user_id'] = dataframe['term'].str.cat(dataframe['user_id'], sep=':')\n",
    "dataframe['user_id'] = dataframe['user_id'].astype('category')\n",
    "dataframe['chapter_label'] = dataframe['chapter_label'].astype('category')\n",
    "dataframe['sub_chapter_label'] = dataframe['sub_chapter_label'].astype('category')\n",
    "dataframe['question_name'] = dataframe['question_name'].astype('category')\n"
   ]
  },
  {
   "cell_type": "code",
   "execution_count": 11,
   "metadata": {
    "execution": {
     "iopub.execute_input": "2021-08-08T14:05:43.478073Z",
     "iopub.status.busy": "2021-08-08T14:05:43.477408Z",
     "iopub.status.idle": "2021-08-08T14:05:44.044956Z",
     "shell.execute_reply": "2021-08-08T14:05:44.044276Z",
     "shell.execute_reply.started": "2021-08-06T21:05:23.94285Z"
    },
    "id": "eVl_067GWkDe",
    "papermill": {
     "duration": 0.604215,
     "end_time": "2021-08-08T14:05:44.045107",
     "exception": false,
     "start_time": "2021-08-08T14:05:43.440892",
     "status": "completed"
    },
    "tags": []
   },
   "outputs": [],
   "source": [
    "#calculate time_lag and prev_time_elapsed\n",
    "dataframe['prev_time_elapsed'] = None\n",
    "dataframe['time_lag'] = None\n",
    "dataframe['time_lag'] = dataframe['time_lag'].astype(np.float)\n",
    "dataframe['prev_time_elapsed'] = dataframe['prev_time_elapsed'].astype(np.float)\n",
    "dataframe.start_practice = pd.to_datetime(dataframe.start_practice, format='%Y-%m-%d %H:%M:%S')\n",
    "dataframe.end_practice = pd.to_datetime(dataframe.end_practice, format='%Y-%m-%d %H:%M:%S')\n",
    "#calculaate answer correct\n",
    "#when q=5 and time < 1 minute\n",
    "dataframe['dif'] = dataframe.end_practice - dataframe.start_practice\n",
    "dataframe['dif'] = dataframe['dif'] /np.timedelta64(1, 's')\n",
    "dataframe['answer_correct'] = np.where((dataframe['q']==5) & (dataframe['dif'] <= 60), 1, 0)"
   ]
  },
  {
   "cell_type": "code",
   "execution_count": 12,
   "metadata": {
    "execution": {
     "iopub.execute_input": "2021-08-08T14:05:44.115740Z",
     "iopub.status.busy": "2021-08-08T14:05:44.115038Z",
     "iopub.status.idle": "2021-08-08T14:12:03.572967Z",
     "shell.execute_reply": "2021-08-08T14:12:03.573498Z",
     "shell.execute_reply.started": "2021-08-06T21:05:24.401262Z"
    },
    "id": "Xrkcn9VhWETm",
    "outputId": "fd73f3de-5f56-42a8-9539-3f3b79a5a6e2",
    "papermill": {
     "duration": 379.49915,
     "end_time": "2021-08-08T14:12:03.573707",
     "exception": false,
     "start_time": "2021-08-08T14:05:44.074557",
     "status": "completed"
    },
    "tags": []
   },
   "outputs": [
    {
     "name": "stderr",
     "output_type": "stream",
     "text": [
      "100%|██████████| 1110/1110 [06:19<00:00,  2.93it/s]\n"
     ]
    }
   ],
   "source": [
    "unique_chapts = dataframe['chapter_label'].unique()\n",
    "from tqdm import tqdm\n",
    "cnt = 0\n",
    "for user in tqdm(dataframe['user_id'].unique()):\n",
    "        for chapter in unique_chapts:\n",
    "            tmp_user = dataframe[(dataframe['user_id']==user) & (dataframe['chapter_label']==chapter)]\n",
    "            #if user doesn't answer any question from the chapter\n",
    "            if len(tmp_user) < 1:\n",
    "                continue\n",
    "            #calculate average elapsed time before the current question\n",
    "            #from its corresponding chapter\n",
    "            tmp_time_elapsed = tmp_user.end_practice - tmp_user.start_practice\n",
    "            tmp_time_elapsed = tmp_time_elapsed / np.timedelta64(1, 's')\n",
    "            tmp_time_elapsed = np.insert(np.array(tmp_time_elapsed[:-1]), 0, 0., axis=0)\n",
    "            tmp_time_elapsed = np.cumsum(tmp_time_elapsed)\n",
    "            indices = tmp_user.index\n",
    "            start_row = indices[0]\n",
    "            dataframe['time_lag'].iloc[start_row] = 0\n",
    "            for_mean = np.arange(len(tmp_user))\n",
    "            for_mean[0] = 1\n",
    "            time_substrahend = tmp_user.start_practice.iloc[:-1]\n",
    "            time_substrahend = time_substrahend.apply(lambda a: a.timestamp())\n",
    "            time_substrahend = np.array(time_substrahend)\n",
    "            \n",
    "            time_minuend = tmp_user.start_practice.iloc[1:]\n",
    "            time_minuend = time_minuend.apply(lambda a: a.timestamp())\n",
    "            time_minuend = np.array(time_minuend)\n",
    "\n",
    "            dataframe['prev_time_elapsed'].iloc[indices] = tmp_time_elapsed/for_mean\n",
    "            #calculate difference between current and last interaction\n",
    "            #from the same chapter\n",
    "            dataframe['time_lag'].iloc[indices[1:]] = time_minuend - time_substrahend\n"
   ]
  },
  {
   "cell_type": "code",
   "execution_count": 13,
   "metadata": {
    "execution": {
     "iopub.execute_input": "2021-08-08T14:12:04.353576Z",
     "iopub.status.busy": "2021-08-08T14:12:04.301026Z",
     "iopub.status.idle": "2021-08-08T14:12:04.393819Z",
     "shell.execute_reply": "2021-08-08T14:12:04.393283Z",
     "shell.execute_reply.started": "2021-08-06T21:09:42.800903Z"
    },
    "id": "8t8yZ0XvWwzz",
    "papermill": {
     "duration": 0.461942,
     "end_time": "2021-08-08T14:12:04.393992",
     "exception": false,
     "start_time": "2021-08-08T14:12:03.932050",
     "status": "completed"
    },
    "tags": []
   },
   "outputs": [],
   "source": [
    "#drop column end_practice\n",
    "dataframe.drop(columns=['end_practice'], inplace=True)"
   ]
  },
  {
   "cell_type": "code",
   "execution_count": 14,
   "metadata": {
    "execution": {
     "iopub.execute_input": "2021-08-08T14:12:05.113934Z",
     "iopub.status.busy": "2021-08-08T14:12:05.113254Z",
     "iopub.status.idle": "2021-08-08T14:12:05.586668Z",
     "shell.execute_reply": "2021-08-08T14:12:05.587227Z",
     "shell.execute_reply.started": "2021-08-06T21:09:42.889108Z"
    },
    "id": "E42raRIrYYXz",
    "papermill": {
     "duration": 0.838386,
     "end_time": "2021-08-08T14:12:05.587409",
     "exception": false,
     "start_time": "2021-08-08T14:12:04.749023",
     "status": "completed"
    },
    "tags": []
   },
   "outputs": [],
   "source": [
    "# calculate the age feature\n",
    "dataframe['term_value'] = [int(ele[3:]) for ele in dataframe['term']]\n",
    "dataframe['age'] = dataframe['term_value'] - dataframe['birthYear']"
   ]
  },
  {
   "cell_type": "code",
   "execution_count": 15,
   "metadata": {
    "execution": {
     "iopub.execute_input": "2021-08-08T14:12:06.311424Z",
     "iopub.status.busy": "2021-08-08T14:12:06.310437Z",
     "iopub.status.idle": "2021-08-08T14:12:06.530851Z",
     "shell.execute_reply": "2021-08-08T14:12:06.531398Z",
     "shell.execute_reply.started": "2021-08-06T21:09:43.322002Z"
    },
    "id": "pcMVQXueYnMh",
    "papermill": {
     "duration": 0.583953,
     "end_time": "2021-08-08T14:12:06.531579",
     "exception": false,
     "start_time": "2021-08-08T14:12:05.947626",
     "status": "completed"
    },
    "tags": []
   },
   "outputs": [],
   "source": [
    "# drop term_value and birthYear column\n",
    "dataframe.drop(columns=['term_value', 'birthYear'], inplace=True)"
   ]
  },
  {
   "cell_type": "code",
   "execution_count": 16,
   "metadata": {
    "execution": {
     "iopub.execute_input": "2021-08-08T14:12:07.310496Z",
     "iopub.status.busy": "2021-08-08T14:12:07.309446Z",
     "iopub.status.idle": "2021-08-08T14:12:07.803945Z",
     "shell.execute_reply": "2021-08-08T14:12:07.804481Z",
     "shell.execute_reply.started": "2021-08-06T21:09:43.524953Z"
    },
    "id": "hjRF5szkcQE0",
    "papermill": {
     "duration": 0.858357,
     "end_time": "2021-08-08T14:12:07.804656",
     "exception": false,
     "start_time": "2021-08-08T14:12:06.946299",
     "status": "completed"
    },
    "tags": []
   },
   "outputs": [],
   "source": [
    "# convert minors_count to int value\n",
    "new_minors_count = []\n",
    "for i in dataframe['minorsCount']:\n",
    "  if i == 0 or i == '0':\n",
    "    new_minors_count.append(0)\n",
    "  elif i == '1 Minor':\n",
    "    new_minors_count.append(1)\n",
    "  else:\n",
    "    new_minors_count.append(2)\n",
    "\n",
    "dataframe['minorsCount'] = new_minors_count"
   ]
  },
  {
   "cell_type": "code",
   "execution_count": 17,
   "metadata": {
    "execution": {
     "iopub.execute_input": "2021-08-08T14:12:08.529310Z",
     "iopub.status.busy": "2021-08-08T14:12:08.527704Z",
     "iopub.status.idle": "2021-08-08T14:12:08.541715Z",
     "shell.execute_reply": "2021-08-08T14:12:08.541137Z",
     "shell.execute_reply.started": "2021-08-06T21:09:43.981222Z"
    },
    "id": "9VdzvJSw0KUU",
    "outputId": "6393784f-234e-4935-9cee-cbcf56b5630a",
    "papermill": {
     "duration": 0.38188,
     "end_time": "2021-08-08T14:12:08.541877",
     "exception": false,
     "start_time": "2021-08-08T14:12:08.159997",
     "status": "completed"
    },
    "tags": []
   },
   "outputs": [
    {
     "name": "stdout",
     "output_type": "stream",
     "text": [
      "we have  1110  users in total.\n"
     ]
    }
   ],
   "source": [
    "print(\"we have \", dataframe['user_id'].nunique(),\" users in total.\")"
   ]
  },
  {
   "cell_type": "code",
   "execution_count": 18,
   "metadata": {
    "execution": {
     "iopub.execute_input": "2021-08-08T14:12:09.266617Z",
     "iopub.status.busy": "2021-08-08T14:12:09.265943Z",
     "iopub.status.idle": "2021-08-08T14:12:09.275630Z",
     "shell.execute_reply": "2021-08-08T14:12:09.276212Z",
     "shell.execute_reply.started": "2021-08-06T21:09:43.998125Z"
    },
    "id": "hUaGk9L9g13t",
    "papermill": {
     "duration": 0.376504,
     "end_time": "2021-08-08T14:12:09.276391",
     "exception": false,
     "start_time": "2021-08-08T14:12:08.899887",
     "status": "completed"
    },
    "tags": []
   },
   "outputs": [],
   "source": [
    "for category in ['term','chapter_label', 'sub_chapter_label', 'question_name']:\n",
    "  dataframe[category] =  dataframe[category].cat.codes"
   ]
  },
  {
   "cell_type": "code",
   "execution_count": 19,
   "metadata": {
    "execution": {
     "iopub.execute_input": "2021-08-08T14:12:09.998225Z",
     "iopub.status.busy": "2021-08-08T14:12:09.997542Z",
     "iopub.status.idle": "2021-08-08T14:12:10.817584Z",
     "shell.execute_reply": "2021-08-08T14:12:10.816384Z",
     "shell.execute_reply.started": "2021-08-06T21:09:44.009179Z"
    },
    "id": "hkyvcYvlhliG",
    "papermill": {
     "duration": 1.183163,
     "end_time": "2021-08-08T14:12:10.817736",
     "exception": false,
     "start_time": "2021-08-08T14:12:09.634573",
     "status": "completed"
    },
    "tags": []
   },
   "outputs": [],
   "source": [
    "NUMERIC_FEATURE =  ['age',\n",
    "            'exclClassCumGPA',\n",
    "            'termCreditsGPA',\n",
    "            'termCreditsNoGPA',\n",
    "            'highSchoolGPA', \n",
    "            'majorsCount', 'minorsCount',\n",
    "            'PREV_TERM_CUM_GPA',\n",
    "            'available_flashcards', \n",
    "            'days_offset', \n",
    "            'prev_time_elapsed',\n",
    "             'time_lag']\n",
    "# z-score normalize the numerical features\n",
    "for f in NUMERIC_FEATURE:\n",
    "  m = dataframe[f].mean()\n",
    "  std = dataframe[f].std()\n",
    "  dataframe[f] = (dataframe[f] - m)/std"
   ]
  },
  {
   "cell_type": "code",
   "execution_count": 20,
   "metadata": {
    "execution": {
     "iopub.execute_input": "2021-08-08T14:12:11.555099Z",
     "iopub.status.busy": "2021-08-08T14:12:11.553080Z",
     "iopub.status.idle": "2021-08-08T14:12:12.724978Z",
     "shell.execute_reply": "2021-08-08T14:12:12.725557Z",
     "shell.execute_reply.started": "2021-08-06T21:09:44.734371Z"
    },
    "id": "wo2OH-d5kWp1",
    "papermill": {
     "duration": 1.547435,
     "end_time": "2021-08-08T14:12:12.725741",
     "exception": false,
     "start_time": "2021-08-08T14:12:11.178306",
     "status": "completed"
    },
    "tags": []
   },
   "outputs": [],
   "source": [
    "FEATURE_TRANS =  ['answer_correct', 'chapter_label', 'sub_chapter_label','question_name','user_id','term',\n",
    "                  'STDNT_SEX_CD', \n",
    "                    'White','Asian','NonWhiteOrAsian',\n",
    "            'STDNT_CTZN_STAT_CD', 'international', \n",
    "            'age',\n",
    "            'exclClassCumGPA',\n",
    "           'Freshman',\n",
    "            'Junior',\n",
    "            'Sophomore',\n",
    "            'Senior',\n",
    "            'termCreditsGPA',\n",
    "            'termCreditsNoGPA',\n",
    "            'athlete_1',\n",
    "            'honorsPro',\n",
    "            'LSA', 'programBusiness', 'programEngineering', \n",
    "            'programInformation', 'programOther',\n",
    "            'HSCalculusTaken', \n",
    "            'highSchoolGPA', \n",
    "            'majorsCount', 'minorsCount',\n",
    "            'PREV_TERM_CUM_GPA',\n",
    "            'classGraded', 'classHonors', \n",
    "            'Pass_Fail', \n",
    "            'parentsGraduateEdu',  'minorityGroup', \n",
    "            'available_flashcards', \n",
    "            'days_offset', 'prev_time_elapsed',\n",
    "             'time_lag']\n",
    "grouped_data = dataframe[FEATURE_TRANS].groupby(['user_id']).apply(lambda r: (\n",
    "                r['answer_correct'],\n",
    "                r['term'],\n",
    "                r['chapter_label'],\n",
    "                r['sub_chapter_label'],\n",
    "                r['question_name'],\n",
    "                np.array([\n",
    "#                     r['STDNT_SEX_CD'],r['STDNT_CTZN_STAT_CD'], r['international'], \n",
    "#                   r['White'],r['Asian'],r['NonWhiteOrAsian'],\n",
    "#                  r['age'],r['exclClassCumGPA'],\n",
    "#                 r['Freshman'], r['Junior'], r['Sophomore'], r['Senior'],\n",
    "#                 r['termCreditsGPA'], r['termCreditsNoGPA'],\n",
    "#                 r['athlete_1'], r['honorsPro'],\n",
    "#                 r['LSA'], r['programBusiness'], r['programEngineering'], \n",
    "#                 r['programInformation'], r['programOther'],\n",
    "#                 r['HSCalculusTaken'],  r['highSchoolGPA'], \n",
    "#                 r['majorsCount'], r['minorsCount'],\n",
    "#                 r['PREV_TERM_CUM_GPA'], \n",
    "#                 r['parentsGraduateEdu'], r['minorityGroup'],\n",
    "#                 r['available_flashcards'],\n",
    "#                 r['days_offset'],\n",
    "                r['prev_time_elapsed'],\n",
    "                r['time_lag']\n",
    "              ]).transpose()\n",
    "                ))"
   ]
  },
  {
   "cell_type": "code",
   "execution_count": 21,
   "metadata": {
    "execution": {
     "iopub.execute_input": "2021-08-08T14:12:13.496808Z",
     "iopub.status.busy": "2021-08-08T14:12:13.495991Z",
     "iopub.status.idle": "2021-08-08T14:12:13.714534Z",
     "shell.execute_reply": "2021-08-08T14:12:13.713942Z",
     "shell.execute_reply.started": "2021-08-06T21:09:45.792372Z"
    },
    "id": "XXLqQnjrlp_4",
    "outputId": "c801da79-f0bf-4fe5-b19c-7c799fe01556",
    "papermill": {
     "duration": 0.627142,
     "end_time": "2021-08-08T14:12:13.714726",
     "exception": false,
     "start_time": "2021-08-08T14:12:13.087584",
     "status": "completed"
    },
    "tags": []
   },
   "outputs": [
    {
     "data": {
      "text/plain": [
       "20"
      ]
     },
     "execution_count": 21,
     "metadata": {},
     "output_type": "execute_result"
    }
   ],
   "source": [
    "gc.collect()"
   ]
  },
  {
   "cell_type": "code",
   "execution_count": 22,
   "metadata": {
    "execution": {
     "iopub.execute_input": "2021-08-08T14:12:14.488140Z",
     "iopub.status.busy": "2021-08-08T14:12:14.481104Z",
     "iopub.status.idle": "2021-08-08T14:12:14.512254Z",
     "shell.execute_reply": "2021-08-08T14:12:14.511448Z",
     "shell.execute_reply.started": "2021-08-06T21:09:45.968869Z"
    },
    "id": "QYGQasdTrmP0",
    "papermill": {
     "duration": 0.423892,
     "end_time": "2021-08-08T14:12:14.512404",
     "exception": false,
     "start_time": "2021-08-08T14:12:14.088512",
     "status": "completed"
    },
    "tags": []
   },
   "outputs": [],
   "source": [
    "# remove students who don't have make any interactions with the tool\n",
    "toRemove = []\n",
    "for index in grouped_data.index:\n",
    "  if len(grouped_data[index][0]) <= 10:\n",
    "    toRemove.append(index)\n",
    "grouped_data = grouped_data.drop(index=toRemove)"
   ]
  },
  {
   "cell_type": "code",
   "execution_count": 23,
   "metadata": {
    "execution": {
     "iopub.execute_input": "2021-08-08T14:12:15.254569Z",
     "iopub.status.busy": "2021-08-08T14:12:15.253814Z",
     "iopub.status.idle": "2021-08-08T14:12:15.270458Z",
     "shell.execute_reply": "2021-08-08T14:12:15.271005Z",
     "shell.execute_reply.started": "2021-08-06T21:09:46.01428Z"
    },
    "papermill": {
     "duration": 0.399896,
     "end_time": "2021-08-08T14:12:15.271188",
     "exception": false,
     "start_time": "2021-08-08T14:12:14.871292",
     "status": "completed"
    },
    "tags": []
   },
   "outputs": [
    {
     "data": {
      "text/plain": [
       "count    1110.000000\n",
       "mean      550.263063\n",
       "std       201.281353\n",
       "min         2.000000\n",
       "25%       438.250000\n",
       "50%       520.500000\n",
       "75%       637.750000\n",
       "max      1500.000000\n",
       "Name: start_practice, dtype: float64"
      ]
     },
     "execution_count": 23,
     "metadata": {},
     "output_type": "execute_result"
    }
   ],
   "source": [
    "dataframe.groupby('user_id')['start_practice'].agg('count').describe()"
   ]
  },
  {
   "cell_type": "code",
   "execution_count": 24,
   "metadata": {
    "execution": {
     "iopub.execute_input": "2021-08-08T14:12:16.029633Z",
     "iopub.status.busy": "2021-08-08T14:12:16.028919Z",
     "iopub.status.idle": "2021-08-08T14:12:16.031461Z",
     "shell.execute_reply": "2021-08-08T14:12:16.032136Z",
     "shell.execute_reply.started": "2021-08-06T21:09:46.033627Z"
    },
    "papermill": {
     "duration": 0.382726,
     "end_time": "2021-08-08T14:12:16.032333",
     "exception": false,
     "start_time": "2021-08-08T14:12:15.649607",
     "status": "completed"
    },
    "tags": []
   },
   "outputs": [
    {
     "data": {
      "text/plain": [
       "['FA 2018:252', 'WN 2018:295']"
      ]
     },
     "execution_count": 24,
     "metadata": {},
     "output_type": "execute_result"
    }
   ],
   "source": [
    "toRemove"
   ]
  },
  {
   "cell_type": "code",
   "execution_count": 25,
   "metadata": {
    "execution": {
     "iopub.execute_input": "2021-08-08T14:12:16.778151Z",
     "iopub.status.busy": "2021-08-08T14:12:16.777484Z",
     "iopub.status.idle": "2021-08-08T14:12:16.781344Z",
     "shell.execute_reply": "2021-08-08T14:12:16.781906Z",
     "shell.execute_reply.started": "2021-08-06T21:09:46.04112Z"
    },
    "id": "9kZqV9siDyNb",
    "papermill": {
     "duration": 0.374582,
     "end_time": "2021-08-08T14:12:16.782090",
     "exception": false,
     "start_time": "2021-08-08T14:12:16.407508",
     "status": "completed"
    },
    "tags": []
   },
   "outputs": [],
   "source": [
    "#SETTINGS -> can be modified at any time\n",
    "MAXLENGTH = 400\n",
    "EMBEDDING_DIM = 128\n",
    "DENSE_NEURON = 16\n",
    "GRU_NEURON = 32"
   ]
  },
  {
   "cell_type": "code",
   "execution_count": 26,
   "metadata": {
    "execution": {
     "iopub.execute_input": "2021-08-08T14:12:17.524397Z",
     "iopub.status.busy": "2021-08-08T14:12:17.523675Z",
     "iopub.status.idle": "2021-08-08T14:12:17.528120Z",
     "shell.execute_reply": "2021-08-08T14:12:17.528667Z",
     "shell.execute_reply.started": "2021-08-06T21:09:46.049329Z"
    },
    "id": "1MksD1JizpPn",
    "papermill": {
     "duration": 0.380776,
     "end_time": "2021-08-08T14:12:17.528870",
     "exception": false,
     "start_time": "2021-08-08T14:12:17.148094",
     "status": "completed"
    },
    "tags": []
   },
   "outputs": [],
   "source": [
    "FEATURES_SIZE = 2\n",
    "CHAPTER_SIZE = 38\n",
    "SUB_CHAPTER_SIZE = 223\n",
    "QUESTION_SIZE = 1069"
   ]
  },
  {
   "cell_type": "code",
   "execution_count": 27,
   "metadata": {
    "execution": {
     "iopub.execute_input": "2021-08-08T14:12:18.279871Z",
     "iopub.status.busy": "2021-08-08T14:12:18.279143Z",
     "iopub.status.idle": "2021-08-08T14:12:18.290462Z",
     "shell.execute_reply": "2021-08-08T14:12:18.290994Z",
     "shell.execute_reply.started": "2021-08-06T21:09:46.057705Z"
    },
    "papermill": {
     "duration": 0.387357,
     "end_time": "2021-08-08T14:12:18.291168",
     "exception": false,
     "start_time": "2021-08-08T14:12:17.903811",
     "status": "completed"
    },
    "tags": []
   },
   "outputs": [
    {
     "data": {
      "text/plain": [
       "array([ 96,  86,  88,  28,  12,  82, 125,  32,  69,  33,  21, 115, 120,\n",
       "       119,  91,  73,  57,  77, 117,  40,  74,  41,  68,  39,  92,  47,\n",
       "       104,  95,  53,  49,  50,  16,  52,  55,   7,  15,  51, 102, 103,\n",
       "        11,  94, 108, 100,  17,  67,  63,  13, 139,  26,  25,   8, 107,\n",
       "         0,  90,  48,  54, 138,   1,   2,   3,  34,  35,  85,   5,  24,\n",
       "        37,  36,  78,  70,  45, 142,  71,  10,  89, 111, 112, 109, 116,\n",
       "        76,  72, 148, 134, 146, 221, 143,  56,  60,  61,  23, 140, 106,\n",
       "        42,  83,  22, 145, 136, 144,  38,   4,  19, 137,  75,  43,  98,\n",
       "        84, 113, 173, 174, 175, 176, 177, 178, 180, 181, 182, 187, 189,\n",
       "       190, 191, 192, 193, 195, 197, 151, 152, 153, 156, 157, 158, 159,\n",
       "       160, 161, 163, 164, 165, 166, 167, 168, 169, 170, 171, 172, 198,\n",
       "       199, 200, 201, 202, 203, 204, 205, 206, 207, 208, 209, 210, 162,\n",
       "       179, 186, 188, 194, 183, 184, 185, 211, 212, 213, 154, 155, 196,\n",
       "         6, 118,  18, 215,  46, 216, 141,  27, 217, 105, 123, 218, 101,\n",
       "       124, 219, 122, 220,  58,  59,  64,  20,  93,  65,  66,   9,  44,\n",
       "        30,  14,  79, 121,  31, 110, 129,  87,  97,  62, 149, 132, 131,\n",
       "       150, 130, 128,  99, 147, 127, 214, 135,  80, 126, 133,  81, 114,\n",
       "        29], dtype=int16)"
      ]
     },
     "execution_count": 27,
     "metadata": {},
     "output_type": "execute_result"
    }
   ],
   "source": [
    "dataframe['sub_chapter_label'].unique()"
   ]
  },
  {
   "cell_type": "code",
   "execution_count": 28,
   "metadata": {
    "execution": {
     "iopub.execute_input": "2021-08-08T14:12:19.020874Z",
     "iopub.status.busy": "2021-08-08T14:12:19.020097Z",
     "iopub.status.idle": "2021-08-08T14:12:20.123501Z",
     "shell.execute_reply": "2021-08-08T14:12:20.122890Z",
     "shell.execute_reply.started": "2021-08-06T21:09:46.074094Z"
    },
    "id": "mY3Thp6d0NaT",
    "papermill": {
     "duration": 1.46598,
     "end_time": "2021-08-08T14:12:20.123644",
     "exception": false,
     "start_time": "2021-08-08T14:12:18.657664",
     "status": "completed"
    },
    "tags": []
   },
   "outputs": [],
   "source": [
    "#create dataset class\n",
    "#to prepare it for train, valid, and test sets\n",
    "from torch.utils.data import Dataset, DataLoader\n",
    "class SPACE_DATASET(Dataset):\n",
    "    def __init__(self, data, maxlength = 400):\n",
    "        super(SPACE_DATASET, self).__init__()\n",
    "        self.maxlength = maxlength\n",
    "        self.data = data\n",
    "        self.users = list()\n",
    "        for user in data.index:\n",
    "            self.users.append(user)\n",
    "\n",
    "    def __len__(self):\n",
    "        return len(self.users)\n",
    "    \n",
    "    def __getitem__(self, ix):\n",
    "        user = self.users[ix]\n",
    "        user = user\n",
    "        target, term, ch_label, sub_ch_label, ques_name, features = self.data[user]\n",
    "        \n",
    "        #0s should be used as padding values\n",
    "        ori_target = target.values \n",
    "        term = term.values\n",
    "        ch_label = ch_label.values + 1\n",
    "        sub_ch_label = sub_ch_label.values +1\n",
    "        ques_name = ques_name.values + 1\n",
    "        \n",
    "        n = len(ch_label)\n",
    "\n",
    "        # one hot for term\n",
    "        term_encode = [0]*7\n",
    "        term_encode[term[0]] = 1\n",
    "        shifted_target= []\n",
    "\n",
    "        \n",
    "        # get  user interaction informations in the previous MAXLEN interactions\n",
    "        if n > self.maxlength:\n",
    "          ch_label = ch_label[-self.maxlength:]\n",
    "          sub_ch_label = sub_ch_label[-self.maxlength:]\n",
    "          ques_name = ques_name[-self.maxlength:]\n",
    "          features = features[-self.maxlength:]\n",
    "          target = ori_target[-self.maxlength:]\n",
    "          shifted_target = ori_target[ (-self.maxlength - 1) :-1]\n",
    "        else:\n",
    "          ch_label = [0]*(self.maxlength - n)+list(ch_label[:])\n",
    "          sub_ch_label = [0]*(self.maxlength - n)+list(sub_ch_label[:])\n",
    "          ques_name = [0]*(self.maxlength - n)+list(ques_name[:])\n",
    "          features = [[0]*len(features[0])]*(self.maxlength  - n)+list(features[:])\n",
    "          target = [-1]*(self.maxlength - n) + list(ori_target[:])\n",
    "          shifted_target = [2]*(self.maxlength + 1 - n) + list(ori_target[:-1])\n",
    "\n",
    "        new_features = []\n",
    "        count = 0\n",
    "        for f in features:\n",
    "          temp = list(f)\n",
    "#           temp.extend(term_encode)\n",
    "          #temp.append(shifted_target[count]) #uncomment this line for include previous response feature\n",
    "          new_features.append(temp)\n",
    "          count += 1\n",
    "        features = new_features\n",
    "        return ch_label,sub_ch_label,ques_name,features, shifted_target, target"
   ]
  },
  {
   "cell_type": "code",
   "execution_count": 29,
   "metadata": {
    "execution": {
     "iopub.execute_input": "2021-08-08T14:12:20.859075Z",
     "iopub.status.busy": "2021-08-08T14:12:20.858135Z",
     "iopub.status.idle": "2021-08-08T14:12:20.862606Z",
     "shell.execute_reply": "2021-08-08T14:12:20.861968Z",
     "shell.execute_reply.started": "2021-08-06T21:09:47.310275Z"
    },
    "papermill": {
     "duration": 0.369493,
     "end_time": "2021-08-08T14:12:20.862748",
     "exception": false,
     "start_time": "2021-08-08T14:12:20.493255",
     "status": "completed"
    },
    "tags": []
   },
   "outputs": [
    {
     "data": {
      "text/plain": [
       "223"
      ]
     },
     "execution_count": 29,
     "metadata": {},
     "output_type": "execute_result"
    }
   ],
   "source": [
    "SUB_CHAPTER_SIZE"
   ]
  },
  {
   "cell_type": "markdown",
   "metadata": {
    "id": "4xc90-aLzxat",
    "papermill": {
     "duration": 0.379226,
     "end_time": "2021-08-08T14:12:21.619310",
     "exception": false,
     "start_time": "2021-08-08T14:12:21.240084",
     "status": "completed"
    },
    "tags": []
   },
   "source": [
    "## KFOLD - GRU\n"
   ]
  },
  {
   "cell_type": "code",
   "execution_count": 30,
   "metadata": {
    "execution": {
     "iopub.execute_input": "2021-08-08T14:12:22.359765Z",
     "iopub.status.busy": "2021-08-08T14:12:22.354381Z",
     "iopub.status.idle": "2021-08-08T14:16:34.091141Z",
     "shell.execute_reply": "2021-08-08T14:16:34.090435Z",
     "shell.execute_reply.started": "2021-08-06T21:09:47.318071Z"
    },
    "id": "gzJrljnjzypP",
    "outputId": "87abe488-b493-4f8f-9d71-45cb1d2ddf51",
    "papermill": {
     "duration": 252.108754,
     "end_time": "2021-08-08T14:16:34.091313",
     "exception": false,
     "start_time": "2021-08-08T14:12:21.982559",
     "status": "completed"
    },
    "tags": []
   },
   "outputs": [
    {
     "name": "stdout",
     "output_type": "stream",
     "text": [
      "Epoch 1/100\n",
      "14/14 [==============================] - 5s 199ms/step - loss: 0.5840 - masked_acc: 0.5757 - masked_auc: 0.6004 - val_loss: 0.4586 - val_masked_acc: 0.7167 - val_masked_auc: 0.7054\n",
      "Epoch 2/100\n",
      "14/14 [==============================] - 2s 124ms/step - loss: 0.4571 - masked_acc: 0.7277 - masked_auc: 0.7282 - val_loss: 0.4386 - val_masked_acc: 0.7435 - val_masked_auc: 0.7630\n",
      "Epoch 3/100\n",
      "14/14 [==============================] - 2s 131ms/step - loss: 0.4450 - masked_acc: 0.7465 - masked_auc: 0.7703 - val_loss: 0.4361 - val_masked_acc: 0.7535 - val_masked_auc: 0.7824\n",
      "Epoch 4/100\n",
      "14/14 [==============================] - 2s 128ms/step - loss: 0.4429 - masked_acc: 0.7549 - masked_auc: 0.7860 - val_loss: 0.4353 - val_masked_acc: 0.7588 - val_masked_auc: 0.7925\n",
      "Epoch 5/100\n",
      "14/14 [==============================] - 2s 131ms/step - loss: 0.4406 - masked_acc: 0.7594 - masked_auc: 0.7944 - val_loss: 0.4346 - val_masked_acc: 0.7618 - val_masked_auc: 0.7982\n",
      "Epoch 6/100\n",
      "14/14 [==============================] - 2s 124ms/step - loss: 0.4379 - masked_acc: 0.7623 - masked_auc: 0.7995 - val_loss: 0.4350 - val_masked_acc: 0.7638 - val_masked_auc: 0.8021\n",
      "Epoch 7/100\n",
      "14/14 [==============================] - 2s 125ms/step - loss: 0.4435 - masked_acc: 0.7640 - masked_auc: 0.8028 - val_loss: 0.4344 - val_masked_acc: 0.7654 - val_masked_auc: 0.8048\n",
      "Epoch 8/100\n",
      "14/14 [==============================] - 2s 125ms/step - loss: 0.4379 - masked_acc: 0.7657 - masked_auc: 0.8055 - val_loss: 0.4345 - val_masked_acc: 0.7665 - val_masked_auc: 0.8069\n",
      "Epoch 9/100\n",
      "14/14 [==============================] - 2s 127ms/step - loss: 0.4366 - masked_acc: 0.7668 - masked_auc: 0.8074 - val_loss: 0.4344 - val_masked_acc: 0.7674 - val_masked_auc: 0.8085\n",
      "Epoch 10/100\n",
      "14/14 [==============================] - 2s 130ms/step - loss: 0.4387 - masked_acc: 0.7675 - masked_auc: 0.8087 - val_loss: 0.4346 - val_masked_acc: 0.7680 - val_masked_auc: 0.8097\n",
      "Epoch 11/100\n",
      "14/14 [==============================] - 2s 126ms/step - loss: 0.4466 - masked_acc: 0.7679 - masked_auc: 0.8098 - val_loss: 0.4347 - val_masked_acc: 0.7687 - val_masked_auc: 0.8107\n",
      "Epoch 12/100\n",
      "14/14 [==============================] - 2s 123ms/step - loss: 0.4402 - masked_acc: 0.7687 - masked_auc: 0.8109 - val_loss: 0.4344 - val_masked_acc: 0.7691 - val_masked_auc: 0.8116\n",
      "Epoch 13/100\n",
      "14/14 [==============================] - 2s 127ms/step - loss: 0.4387 - masked_acc: 0.7692 - masked_auc: 0.8118 - val_loss: 0.4350 - val_masked_acc: 0.7695 - val_masked_auc: 0.8123\n",
      "Epoch 14/100\n",
      "14/14 [==============================] - 2s 133ms/step - loss: 0.4393 - masked_acc: 0.7695 - masked_auc: 0.8125 - val_loss: 0.4346 - val_masked_acc: 0.7698 - val_masked_auc: 0.8129\n",
      "Epoch 15/100\n",
      "14/14 [==============================] - 2s 131ms/step - loss: 0.4368 - masked_acc: 0.7699 - masked_auc: 0.8130 - val_loss: 0.4346 - val_masked_acc: 0.7701 - val_masked_auc: 0.8134\n",
      "Epoch 16/100\n",
      "14/14 [==============================] - 2s 144ms/step - loss: 0.4382 - masked_acc: 0.7702 - masked_auc: 0.8135 - val_loss: 0.4343 - val_masked_acc: 0.7704 - val_masked_auc: 0.8139\n",
      "Epoch 17/100\n",
      "14/14 [==============================] - 2s 129ms/step - loss: 0.4394 - masked_acc: 0.7704 - masked_auc: 0.8139 - val_loss: 0.4341 - val_masked_acc: 0.7706 - val_masked_auc: 0.8143\n",
      "Epoch 18/100\n",
      "14/14 [==============================] - 2s 128ms/step - loss: 0.4347 - masked_acc: 0.7707 - masked_auc: 0.8144 - val_loss: 0.4348 - val_masked_acc: 0.7708 - val_masked_auc: 0.8146\n",
      "Epoch 19/100\n",
      "14/14 [==============================] - 2s 126ms/step - loss: 0.4372 - masked_acc: 0.7708 - masked_auc: 0.8148 - val_loss: 0.4349 - val_masked_acc: 0.7710 - val_masked_auc: 0.8150\n",
      "Epoch 20/100\n",
      "14/14 [==============================] - 2s 127ms/step - loss: 0.4344 - masked_acc: 0.7710 - masked_auc: 0.8151 - val_loss: 0.4342 - val_masked_acc: 0.7712 - val_masked_auc: 0.8153\n",
      "Epoch 21/100\n",
      "14/14 [==============================] - 2s 125ms/step - loss: 0.4441 - masked_acc: 0.7711 - masked_auc: 0.8153 - val_loss: 0.4354 - val_masked_acc: 0.7714 - val_masked_auc: 0.8155\n",
      "Epoch 22/100\n",
      "14/14 [==============================] - 2s 124ms/step - loss: 0.4328 - masked_acc: 0.7714 - masked_auc: 0.8156 - val_loss: 0.4343 - val_masked_acc: 0.7715 - val_masked_auc: 0.8158\n",
      "Epoch 23/100\n",
      "14/14 [==============================] - 2s 128ms/step - loss: 0.4364 - masked_acc: 0.7715 - masked_auc: 0.8158 - val_loss: 0.4344 - val_masked_acc: 0.7716 - val_masked_auc: 0.8160\n",
      "Epoch 24/100\n",
      "14/14 [==============================] - 2s 126ms/step - loss: 0.4399 - masked_acc: 0.7716 - masked_auc: 0.8160 - val_loss: 0.4353 - val_masked_acc: 0.7717 - val_masked_auc: 0.8162\n",
      "Epoch 25/100\n",
      "14/14 [==============================] - 2s 127ms/step - loss: 0.4433 - masked_acc: 0.7717 - masked_auc: 0.8162 - val_loss: 0.4347 - val_masked_acc: 0.7718 - val_masked_auc: 0.8163\n",
      "Epoch 26/100\n",
      "14/14 [==============================] - 2s 127ms/step - loss: 0.4394 - masked_acc: 0.7718 - masked_auc: 0.8164 - val_loss: 0.4346 - val_masked_acc: 0.7719 - val_masked_auc: 0.8165\n",
      "Epoch 27/100\n",
      "14/14 [==============================] - 2s 127ms/step - loss: 0.4364 - masked_acc: 0.7719 - masked_auc: 0.8165 - val_loss: 0.4343 - val_masked_acc: 0.7720 - val_masked_auc: 0.8167\n",
      "28/28 [==============================] - 1s 33ms/step - loss: 0.4388 - masked_acc: 0.7722 - masked_auc: 0.8168\n",
      "4/4 [==============================] - 0s 27ms/step - loss: 0.4221 - masked_acc: 0.7721 - masked_auc: 0.8168\n",
      "Test:  [0.4221397340297699, 0.7721151113510132, 0.8167909383773804]\n",
      "Epoch 1/100\n",
      "14/14 [==============================] - 4s 173ms/step - loss: 0.5761 - masked_acc: 0.6603 - masked_auc: 0.5867 - val_loss: 0.5001 - val_masked_acc: 0.7265 - val_masked_auc: 0.6990\n",
      "Epoch 2/100\n",
      "14/14 [==============================] - 2s 137ms/step - loss: 0.4536 - masked_acc: 0.7351 - masked_auc: 0.7229 - val_loss: 0.4833 - val_masked_acc: 0.7475 - val_masked_auc: 0.7602\n",
      "Epoch 3/100\n",
      "14/14 [==============================] - 2s 127ms/step - loss: 0.4394 - masked_acc: 0.7507 - masked_auc: 0.7678 - val_loss: 0.4791 - val_masked_acc: 0.7559 - val_masked_auc: 0.7800\n",
      "Epoch 4/100\n",
      "14/14 [==============================] - 2s 143ms/step - loss: 0.4342 - masked_acc: 0.7577 - masked_auc: 0.7839 - val_loss: 0.4787 - val_masked_acc: 0.7603 - val_masked_auc: 0.7901\n",
      "Epoch 5/100\n",
      "14/14 [==============================] - 2s 129ms/step - loss: 0.4388 - masked_acc: 0.7610 - masked_auc: 0.7920 - val_loss: 0.4795 - val_masked_acc: 0.7628 - val_masked_auc: 0.7962\n",
      "Epoch 6/100\n",
      "14/14 [==============================] - 2s 132ms/step - loss: 0.4376 - masked_acc: 0.7632 - masked_auc: 0.7974 - val_loss: 0.4785 - val_masked_acc: 0.7645 - val_masked_auc: 0.8001\n",
      "Epoch 7/100\n",
      "14/14 [==============================] - 2s 127ms/step - loss: 0.4318 - masked_acc: 0.7650 - masked_auc: 0.8011 - val_loss: 0.4783 - val_masked_acc: 0.7657 - val_masked_auc: 0.8029\n",
      "Epoch 8/100\n",
      "14/14 [==============================] - 2s 128ms/step - loss: 0.4315 - masked_acc: 0.7661 - masked_auc: 0.8036 - val_loss: 0.4783 - val_masked_acc: 0.7666 - val_masked_auc: 0.8050\n",
      "Epoch 9/100\n",
      "14/14 [==============================] - 2s 126ms/step - loss: 0.4402 - masked_acc: 0.7668 - masked_auc: 0.8054 - val_loss: 0.4803 - val_masked_acc: 0.7674 - val_masked_auc: 0.8066\n",
      "Epoch 10/100\n",
      "14/14 [==============================] - 2s 124ms/step - loss: 0.4352 - masked_acc: 0.7675 - masked_auc: 0.8069 - val_loss: 0.4794 - val_masked_acc: 0.7679 - val_masked_auc: 0.8078\n",
      "Epoch 11/100\n",
      "14/14 [==============================] - 2s 131ms/step - loss: 0.4318 - masked_acc: 0.7680 - masked_auc: 0.8081 - val_loss: 0.4784 - val_masked_acc: 0.7684 - val_masked_auc: 0.8088\n",
      "Epoch 12/100\n",
      "14/14 [==============================] - 2s 126ms/step - loss: 0.4426 - masked_acc: 0.7684 - masked_auc: 0.8090 - val_loss: 0.4795 - val_masked_acc: 0.7688 - val_masked_auc: 0.8097\n",
      "Epoch 13/100\n",
      "14/14 [==============================] - 2s 127ms/step - loss: 0.4317 - masked_acc: 0.7689 - masked_auc: 0.8099 - val_loss: 0.4789 - val_masked_acc: 0.7691 - val_masked_auc: 0.8104\n",
      "Epoch 14/100\n",
      "14/14 [==============================] - 2s 124ms/step - loss: 0.4353 - masked_acc: 0.7692 - masked_auc: 0.8106 - val_loss: 0.4780 - val_masked_acc: 0.7694 - val_masked_auc: 0.8110\n",
      "Epoch 15/100\n",
      "14/14 [==============================] - 2s 128ms/step - loss: 0.4408 - masked_acc: 0.7694 - masked_auc: 0.8112 - val_loss: 0.4787 - val_masked_acc: 0.7696 - val_masked_auc: 0.8116\n",
      "Epoch 16/100\n",
      "14/14 [==============================] - 2s 125ms/step - loss: 0.4324 - masked_acc: 0.7697 - masked_auc: 0.8117 - val_loss: 0.4779 - val_masked_acc: 0.7698 - val_masked_auc: 0.8121\n",
      "Epoch 17/100\n",
      "14/14 [==============================] - 2s 127ms/step - loss: 0.4337 - masked_acc: 0.7699 - masked_auc: 0.8122 - val_loss: 0.4783 - val_masked_acc: 0.7701 - val_masked_auc: 0.8125\n",
      "Epoch 18/100\n",
      "14/14 [==============================] - 2s 125ms/step - loss: 0.4413 - masked_acc: 0.7700 - masked_auc: 0.8125 - val_loss: 0.4793 - val_masked_acc: 0.7702 - val_masked_auc: 0.8128\n",
      "Epoch 19/100\n",
      "14/14 [==============================] - 2s 136ms/step - loss: 0.4329 - masked_acc: 0.7703 - masked_auc: 0.8129 - val_loss: 0.4789 - val_masked_acc: 0.7704 - val_masked_auc: 0.8132\n",
      "Epoch 20/100\n",
      "14/14 [==============================] - 2s 127ms/step - loss: 0.4309 - masked_acc: 0.7705 - masked_auc: 0.8133 - val_loss: 0.4791 - val_masked_acc: 0.7705 - val_masked_auc: 0.8135\n",
      "Epoch 21/100\n",
      "14/14 [==============================] - 2s 123ms/step - loss: 0.4378 - masked_acc: 0.7706 - masked_auc: 0.8135 - val_loss: 0.4796 - val_masked_acc: 0.7707 - val_masked_auc: 0.8137\n",
      "Epoch 22/100\n",
      "14/14 [==============================] - 2s 125ms/step - loss: 0.4375 - masked_acc: 0.7707 - masked_auc: 0.8137 - val_loss: 0.4788 - val_masked_acc: 0.7708 - val_masked_auc: 0.8140\n",
      "Epoch 23/100\n",
      "14/14 [==============================] - 2s 142ms/step - loss: 0.4325 - masked_acc: 0.7708 - masked_auc: 0.8140 - val_loss: 0.4783 - val_masked_acc: 0.7709 - val_masked_auc: 0.8142\n",
      "Epoch 24/100\n",
      "14/14 [==============================] - 2s 125ms/step - loss: 0.4338 - masked_acc: 0.7709 - masked_auc: 0.8142 - val_loss: 0.4786 - val_masked_acc: 0.7710 - val_masked_auc: 0.8144\n",
      "Epoch 25/100\n",
      "14/14 [==============================] - 2s 124ms/step - loss: 0.4341 - masked_acc: 0.7710 - masked_auc: 0.8145 - val_loss: 0.4787 - val_masked_acc: 0.7711 - val_masked_auc: 0.8146\n",
      "Epoch 26/100\n",
      "14/14 [==============================] - 2s 124ms/step - loss: 0.4206 - masked_acc: 0.7712 - masked_auc: 0.8147 - val_loss: 0.4783 - val_masked_acc: 0.7712 - val_masked_auc: 0.8148\n",
      "28/28 [==============================] - 1s 30ms/step - loss: 0.4345 - masked_acc: 0.7714 - masked_auc: 0.8149\n",
      "4/4 [==============================] - 0s 24ms/step - loss: 0.4162 - masked_acc: 0.7714 - masked_auc: 0.8150\n",
      "Test:  [0.41623374819755554, 0.7714049220085144, 0.8150156736373901]\n",
      "Epoch 1/100\n",
      "14/14 [==============================] - 4s 174ms/step - loss: 0.5734 - masked_acc: 0.6526 - masked_auc: 0.6096 - val_loss: 0.4574 - val_masked_acc: 0.7291 - val_masked_auc: 0.7104\n",
      "Epoch 2/100\n",
      "14/14 [==============================] - 2s 129ms/step - loss: 0.4646 - masked_acc: 0.7361 - masked_auc: 0.7324 - val_loss: 0.4403 - val_masked_acc: 0.7496 - val_masked_auc: 0.7647\n",
      "Epoch 3/100\n",
      "14/14 [==============================] - 2s 127ms/step - loss: 0.4398 - masked_acc: 0.7522 - masked_auc: 0.7712 - val_loss: 0.4384 - val_masked_acc: 0.7574 - val_masked_auc: 0.7829\n",
      "Epoch 4/100\n",
      "14/14 [==============================] - 2s 130ms/step - loss: 0.4461 - masked_acc: 0.7583 - masked_auc: 0.7864 - val_loss: 0.4373 - val_masked_acc: 0.7613 - val_masked_auc: 0.7925\n",
      "Epoch 5/100\n",
      "14/14 [==============================] - 2s 129ms/step - loss: 0.4449 - masked_acc: 0.7617 - masked_auc: 0.7939 - val_loss: 0.4370 - val_masked_acc: 0.7639 - val_masked_auc: 0.7980\n",
      "Epoch 6/100\n",
      "14/14 [==============================] - 2s 124ms/step - loss: 0.4342 - masked_acc: 0.7644 - masked_auc: 0.7992 - val_loss: 0.4372 - val_masked_acc: 0.7655 - val_masked_auc: 0.8017\n",
      "Epoch 7/100\n",
      "14/14 [==============================] - 2s 140ms/step - loss: 0.4301 - masked_acc: 0.7661 - masked_auc: 0.8026 - val_loss: 0.4368 - val_masked_acc: 0.7667 - val_masked_auc: 0.8043\n",
      "Epoch 8/100\n",
      "14/14 [==============================] - 2s 125ms/step - loss: 0.4397 - masked_acc: 0.7668 - masked_auc: 0.8048 - val_loss: 0.4363 - val_masked_acc: 0.7676 - val_masked_auc: 0.8062\n",
      "Epoch 9/100\n",
      "14/14 [==============================] - 2s 125ms/step - loss: 0.4367 - masked_acc: 0.7677 - masked_auc: 0.8067 - val_loss: 0.4368 - val_masked_acc: 0.7683 - val_masked_auc: 0.8077\n",
      "Epoch 10/100\n",
      "14/14 [==============================] - 2s 132ms/step - loss: 0.4428 - masked_acc: 0.7683 - masked_auc: 0.8080 - val_loss: 0.4373 - val_masked_acc: 0.7688 - val_masked_auc: 0.8089\n",
      "Epoch 11/100\n",
      "14/14 [==============================] - 2s 134ms/step - loss: 0.4348 - masked_acc: 0.7689 - masked_auc: 0.8092 - val_loss: 0.4370 - val_masked_acc: 0.7693 - val_masked_auc: 0.8099\n",
      "Epoch 12/100\n",
      "14/14 [==============================] - 2s 135ms/step - loss: 0.4419 - masked_acc: 0.7693 - masked_auc: 0.8101 - val_loss: 0.4366 - val_masked_acc: 0.7697 - val_masked_auc: 0.8107\n",
      "Epoch 13/100\n",
      "14/14 [==============================] - 2s 137ms/step - loss: 0.4371 - masked_acc: 0.7697 - masked_auc: 0.8109 - val_loss: 0.4381 - val_masked_acc: 0.7700 - val_masked_auc: 0.8114\n",
      "Epoch 14/100\n",
      "14/14 [==============================] - 2s 128ms/step - loss: 0.4403 - masked_acc: 0.7700 - masked_auc: 0.8115 - val_loss: 0.4368 - val_masked_acc: 0.7702 - val_masked_auc: 0.8119\n",
      "Epoch 15/100\n",
      "14/14 [==============================] - 2s 129ms/step - loss: 0.4386 - masked_acc: 0.7702 - masked_auc: 0.8121 - val_loss: 0.4377 - val_masked_acc: 0.7704 - val_masked_auc: 0.8124\n",
      "Epoch 16/100\n",
      "14/14 [==============================] - 2s 123ms/step - loss: 0.4387 - masked_acc: 0.7705 - masked_auc: 0.8125 - val_loss: 0.4368 - val_masked_acc: 0.7707 - val_masked_auc: 0.8129\n",
      "Epoch 17/100\n",
      "14/14 [==============================] - 2s 127ms/step - loss: 0.4352 - masked_acc: 0.7707 - masked_auc: 0.8130 - val_loss: 0.4367 - val_masked_acc: 0.7708 - val_masked_auc: 0.8132\n",
      "Epoch 18/100\n",
      "14/14 [==============================] - 2s 123ms/step - loss: 0.4414 - masked_acc: 0.7708 - masked_auc: 0.8133 - val_loss: 0.4369 - val_masked_acc: 0.7710 - val_masked_auc: 0.8136\n",
      "28/28 [==============================] - 1s 33ms/step - loss: 0.4388 - masked_acc: 0.7713 - masked_auc: 0.8139\n",
      "4/4 [==============================] - 0s 28ms/step - loss: 0.4244 - masked_acc: 0.7711 - masked_auc: 0.8139\n",
      "Test:  [0.4244251847267151, 0.7711119651794434, 0.8138725757598877]\n",
      "Epoch 1/100\n",
      "14/14 [==============================] - 4s 165ms/step - loss: 0.5825 - masked_acc: 0.5939 - masked_auc: 0.5640 - val_loss: 0.4642 - val_masked_acc: 0.7159 - val_masked_auc: 0.6947\n",
      "Epoch 2/100\n",
      "14/14 [==============================] - 2s 130ms/step - loss: 0.4631 - masked_acc: 0.7261 - masked_auc: 0.7200 - val_loss: 0.4494 - val_masked_acc: 0.7437 - val_masked_auc: 0.7600\n",
      "Epoch 3/100\n",
      "14/14 [==============================] - 2s 132ms/step - loss: 0.4383 - masked_acc: 0.7474 - masked_auc: 0.7680 - val_loss: 0.4453 - val_masked_acc: 0.7539 - val_masked_auc: 0.7804\n",
      "Epoch 4/100\n",
      "14/14 [==============================] - 2s 135ms/step - loss: 0.4354 - masked_acc: 0.7556 - masked_auc: 0.7845 - val_loss: 0.4453 - val_masked_acc: 0.7590 - val_masked_auc: 0.7909\n",
      "Epoch 5/100\n",
      "14/14 [==============================] - 2s 128ms/step - loss: 0.4364 - masked_acc: 0.7599 - masked_auc: 0.7931 - val_loss: 0.4449 - val_masked_acc: 0.7620 - val_masked_auc: 0.7970\n",
      "Epoch 6/100\n",
      "14/14 [==============================] - 2s 124ms/step - loss: 0.4388 - masked_acc: 0.7625 - masked_auc: 0.7982 - val_loss: 0.4444 - val_masked_acc: 0.7642 - val_masked_auc: 0.8011\n",
      "Epoch 7/100\n",
      "14/14 [==============================] - 2s 126ms/step - loss: 0.4415 - masked_acc: 0.7643 - masked_auc: 0.8020 - val_loss: 0.4476 - val_masked_acc: 0.7656 - val_masked_auc: 0.8039\n",
      "Epoch 8/100\n",
      "14/14 [==============================] - 2s 136ms/step - loss: 0.4334 - masked_acc: 0.7658 - masked_auc: 0.8044 - val_loss: 0.4443 - val_masked_acc: 0.7666 - val_masked_auc: 0.8059\n",
      "Epoch 9/100\n",
      "14/14 [==============================] - 2s 128ms/step - loss: 0.4383 - masked_acc: 0.7667 - masked_auc: 0.8063 - val_loss: 0.4444 - val_masked_acc: 0.7675 - val_masked_auc: 0.8076\n",
      "Epoch 10/100\n",
      "14/14 [==============================] - 2s 132ms/step - loss: 0.4349 - masked_acc: 0.7676 - masked_auc: 0.8079 - val_loss: 0.4456 - val_masked_acc: 0.7682 - val_masked_auc: 0.8089\n",
      "Epoch 11/100\n",
      "14/14 [==============================] - 2s 128ms/step - loss: 0.4338 - masked_acc: 0.7683 - masked_auc: 0.8092 - val_loss: 0.4446 - val_masked_acc: 0.7688 - val_masked_auc: 0.8099\n",
      "Epoch 12/100\n",
      "14/14 [==============================] - 2s 132ms/step - loss: 0.4399 - masked_acc: 0.7688 - masked_auc: 0.8101 - val_loss: 0.4445 - val_masked_acc: 0.7693 - val_masked_auc: 0.8108\n",
      "Epoch 13/100\n",
      "14/14 [==============================] - 2s 123ms/step - loss: 0.4370 - masked_acc: 0.7694 - masked_auc: 0.8110 - val_loss: 0.4446 - val_masked_acc: 0.7697 - val_masked_auc: 0.8116\n",
      "Epoch 14/100\n",
      "14/14 [==============================] - 2s 130ms/step - loss: 0.4373 - masked_acc: 0.7697 - masked_auc: 0.8117 - val_loss: 0.4447 - val_masked_acc: 0.7700 - val_masked_auc: 0.8122\n",
      "Epoch 15/100\n",
      "14/14 [==============================] - 2s 129ms/step - loss: 0.4346 - masked_acc: 0.7701 - masked_auc: 0.8124 - val_loss: 0.4455 - val_masked_acc: 0.7703 - val_masked_auc: 0.8128\n",
      "Epoch 16/100\n",
      "14/14 [==============================] - 2s 127ms/step - loss: 0.4384 - masked_acc: 0.7703 - masked_auc: 0.8129 - val_loss: 0.4447 - val_masked_acc: 0.7705 - val_masked_auc: 0.8132\n",
      "Epoch 17/100\n",
      "14/14 [==============================] - 2s 126ms/step - loss: 0.4400 - masked_acc: 0.7705 - masked_auc: 0.8133 - val_loss: 0.4449 - val_masked_acc: 0.7708 - val_masked_auc: 0.8137\n",
      "Epoch 18/100\n",
      "14/14 [==============================] - 2s 128ms/step - loss: 0.4347 - masked_acc: 0.7708 - masked_auc: 0.8137 - val_loss: 0.4441 - val_masked_acc: 0.7710 - val_masked_auc: 0.8140\n",
      "Epoch 19/100\n",
      "14/14 [==============================] - 2s 126ms/step - loss: 0.4406 - masked_acc: 0.7710 - masked_auc: 0.8141 - val_loss: 0.4449 - val_masked_acc: 0.7712 - val_masked_auc: 0.8144\n",
      "Epoch 20/100\n",
      "14/14 [==============================] - 2s 127ms/step - loss: 0.4371 - masked_acc: 0.7712 - masked_auc: 0.8145 - val_loss: 0.4461 - val_masked_acc: 0.7713 - val_masked_auc: 0.8147\n",
      "Epoch 21/100\n",
      "14/14 [==============================] - 2s 151ms/step - loss: 0.4351 - masked_acc: 0.7714 - masked_auc: 0.8148 - val_loss: 0.4443 - val_masked_acc: 0.7715 - val_masked_auc: 0.8149\n",
      "Epoch 22/100\n",
      "14/14 [==============================] - 2s 129ms/step - loss: 0.4437 - masked_acc: 0.7714 - masked_auc: 0.8150 - val_loss: 0.4462 - val_masked_acc: 0.7716 - val_masked_auc: 0.8152\n",
      "Epoch 23/100\n",
      "14/14 [==============================] - 2s 129ms/step - loss: 0.4398 - masked_acc: 0.7716 - masked_auc: 0.8152 - val_loss: 0.4441 - val_masked_acc: 0.7717 - val_masked_auc: 0.8154\n",
      "Epoch 24/100\n",
      "14/14 [==============================] - 2s 127ms/step - loss: 0.4347 - masked_acc: 0.7717 - masked_auc: 0.8155 - val_loss: 0.4461 - val_masked_acc: 0.7718 - val_masked_auc: 0.8156\n",
      "Epoch 25/100\n",
      "14/14 [==============================] - 2s 132ms/step - loss: 0.4384 - masked_acc: 0.7718 - masked_auc: 0.8156 - val_loss: 0.4446 - val_masked_acc: 0.7719 - val_masked_auc: 0.8158\n",
      "Epoch 26/100\n",
      "14/14 [==============================] - 2s 143ms/step - loss: 0.4382 - masked_acc: 0.7719 - masked_auc: 0.8158 - val_loss: 0.4447 - val_masked_acc: 0.7720 - val_masked_auc: 0.8159\n",
      "Epoch 27/100\n",
      "14/14 [==============================] - 2s 126ms/step - loss: 0.4379 - masked_acc: 0.7720 - masked_auc: 0.8160 - val_loss: 0.4454 - val_masked_acc: 0.7721 - val_masked_auc: 0.8161\n",
      "Epoch 28/100\n",
      "14/14 [==============================] - 2s 127ms/step - loss: 0.4413 - masked_acc: 0.7721 - masked_auc: 0.8161 - val_loss: 0.4459 - val_masked_acc: 0.7722 - val_masked_auc: 0.8163\n",
      "Epoch 29/100\n",
      "14/14 [==============================] - 2s 126ms/step - loss: 0.4354 - masked_acc: 0.7722 - masked_auc: 0.8163 - val_loss: 0.4442 - val_masked_acc: 0.7723 - val_masked_auc: 0.8164\n",
      "Epoch 30/100\n",
      "14/14 [==============================] - 2s 126ms/step - loss: 0.4389 - masked_acc: 0.7723 - masked_auc: 0.8164 - val_loss: 0.4462 - val_masked_acc: 0.7724 - val_masked_auc: 0.8166\n",
      "Epoch 31/100\n",
      "14/14 [==============================] - 2s 124ms/step - loss: 0.4391 - masked_acc: 0.7724 - masked_auc: 0.8166 - val_loss: 0.4449 - val_masked_acc: 0.7724 - val_masked_auc: 0.8167\n",
      "Epoch 32/100\n",
      "14/14 [==============================] - 2s 125ms/step - loss: 0.4362 - masked_acc: 0.7724 - masked_auc: 0.8167 - val_loss: 0.4444 - val_masked_acc: 0.7725 - val_masked_auc: 0.8168\n",
      "Epoch 33/100\n",
      "14/14 [==============================] - 2s 127ms/step - loss: 0.4348 - masked_acc: 0.7725 - masked_auc: 0.8168 - val_loss: 0.4443 - val_masked_acc: 0.7726 - val_masked_auc: 0.8169\n",
      "28/28 [==============================] - 1s 32ms/step - loss: 0.4359 - masked_acc: 0.7727 - masked_auc: 0.8170\n",
      "4/4 [==============================] - 0s 27ms/step - loss: 0.4345 - masked_acc: 0.7726 - masked_auc: 0.8170\n",
      "Test:  [0.4345497786998749, 0.7726462483406067, 0.8170030117034912]\n",
      "Epoch 1/100\n",
      "14/14 [==============================] - 4s 170ms/step - loss: 0.5796 - masked_acc: 0.6395 - masked_auc: 0.6015 - val_loss: 0.4610 - val_masked_acc: 0.7253 - val_masked_auc: 0.6972\n",
      "Epoch 2/100\n",
      "14/14 [==============================] - 2s 136ms/step - loss: 0.4525 - masked_acc: 0.7341 - masked_auc: 0.7233 - val_loss: 0.4436 - val_masked_acc: 0.7488 - val_masked_auc: 0.7600\n",
      "Epoch 3/100\n",
      "14/14 [==============================] - 2s 129ms/step - loss: 0.4382 - masked_acc: 0.7513 - masked_auc: 0.7673 - val_loss: 0.4390 - val_masked_acc: 0.7580 - val_masked_auc: 0.7805\n",
      "Epoch 4/100\n",
      "14/14 [==============================] - 2s 125ms/step - loss: 0.4281 - masked_acc: 0.7596 - masked_auc: 0.7844 - val_loss: 0.4388 - val_masked_acc: 0.7626 - val_masked_auc: 0.7911\n",
      "Epoch 5/100\n",
      "14/14 [==============================] - 2s 123ms/step - loss: 0.4365 - masked_acc: 0.7631 - masked_auc: 0.7930 - val_loss: 0.4397 - val_masked_acc: 0.7654 - val_masked_auc: 0.7972\n",
      "Epoch 6/100\n",
      "14/14 [==============================] - 2s 123ms/step - loss: 0.4376 - masked_acc: 0.7658 - masked_auc: 0.7984 - val_loss: 0.4378 - val_masked_acc: 0.7672 - val_masked_auc: 0.8012\n",
      "Epoch 7/100\n",
      "14/14 [==============================] - 2s 121ms/step - loss: 0.4309 - masked_acc: 0.7676 - masked_auc: 0.8022 - val_loss: 0.4374 - val_masked_acc: 0.7685 - val_masked_auc: 0.8041\n",
      "Epoch 8/100\n",
      "14/14 [==============================] - 2s 133ms/step - loss: 0.4371 - masked_acc: 0.7684 - masked_auc: 0.8046 - val_loss: 0.4382 - val_masked_acc: 0.7694 - val_masked_auc: 0.8063\n",
      "Epoch 9/100\n",
      "14/14 [==============================] - 2s 130ms/step - loss: 0.4359 - masked_acc: 0.7694 - masked_auc: 0.8066 - val_loss: 0.4378 - val_masked_acc: 0.7702 - val_masked_auc: 0.8079\n",
      "Epoch 10/100\n",
      "14/14 [==============================] - 2s 125ms/step - loss: 0.4358 - masked_acc: 0.7702 - masked_auc: 0.8082 - val_loss: 0.4372 - val_masked_acc: 0.7708 - val_masked_auc: 0.8092\n",
      "Epoch 11/100\n",
      "14/14 [==============================] - 2s 123ms/step - loss: 0.4367 - masked_acc: 0.7708 - masked_auc: 0.8095 - val_loss: 0.4383 - val_masked_acc: 0.7713 - val_masked_auc: 0.8103\n",
      "Epoch 12/100\n",
      "14/14 [==============================] - 2s 125ms/step - loss: 0.4351 - masked_acc: 0.7714 - masked_auc: 0.8104 - val_loss: 0.4377 - val_masked_acc: 0.7718 - val_masked_auc: 0.8112\n",
      "Epoch 13/100\n",
      "14/14 [==============================] - 2s 126ms/step - loss: 0.4331 - masked_acc: 0.7719 - masked_auc: 0.8114 - val_loss: 0.4379 - val_masked_acc: 0.7722 - val_masked_auc: 0.8119\n",
      "Epoch 14/100\n",
      "14/14 [==============================] - 2s 124ms/step - loss: 0.4429 - masked_acc: 0.7720 - masked_auc: 0.8120 - val_loss: 0.4383 - val_masked_acc: 0.7725 - val_masked_auc: 0.8126\n",
      "Epoch 15/100\n",
      "14/14 [==============================] - 2s 123ms/step - loss: 0.4320 - masked_acc: 0.7725 - masked_auc: 0.8127 - val_loss: 0.4377 - val_masked_acc: 0.7727 - val_masked_auc: 0.8131\n",
      "Epoch 16/100\n",
      "14/14 [==============================] - 2s 122ms/step - loss: 0.4342 - masked_acc: 0.7727 - masked_auc: 0.8132 - val_loss: 0.4380 - val_masked_acc: 0.7730 - val_masked_auc: 0.8136\n",
      "Epoch 17/100\n",
      "14/14 [==============================] - 2s 126ms/step - loss: 0.4373 - masked_acc: 0.7729 - masked_auc: 0.8136 - val_loss: 0.4393 - val_masked_acc: 0.7732 - val_masked_auc: 0.8140\n",
      "Epoch 18/100\n",
      "14/14 [==============================] - 2s 125ms/step - loss: 0.4385 - masked_acc: 0.7731 - masked_auc: 0.8140 - val_loss: 0.4386 - val_masked_acc: 0.7733 - val_masked_auc: 0.8144\n",
      "Epoch 19/100\n",
      "14/14 [==============================] - 2s 123ms/step - loss: 0.4331 - masked_acc: 0.7733 - masked_auc: 0.8145 - val_loss: 0.4373 - val_masked_acc: 0.7735 - val_masked_auc: 0.8147\n",
      "Epoch 20/100\n",
      "14/14 [==============================] - 2s 137ms/step - loss: 0.4361 - masked_acc: 0.7735 - masked_auc: 0.8147 - val_loss: 0.4390 - val_masked_acc: 0.7737 - val_masked_auc: 0.8150\n",
      "28/28 [==============================] - 1s 34ms/step - loss: 0.4332 - masked_acc: 0.7740 - masked_auc: 0.8153\n",
      "4/4 [==============================] - 0s 27ms/step - loss: 0.4664 - masked_acc: 0.7738 - masked_auc: 0.8154\n",
      "Test:  [0.46639424562454224, 0.7737810611724854, 0.8153637647628784]\n"
     ]
    }
   ],
   "source": [
    "# 5 fold cross validation with LSTM-based model\n",
    "import torch\n",
    "X = np.array(grouped_data.keys())\n",
    "kfold = KFold(n_splits=5, shuffle=True)\n",
    "train_losses = list()\n",
    "train_aucs = list()\n",
    "val_losses = list()\n",
    "val_aucs = list()\n",
    "train_eval = list()\n",
    "test_eval = list()\n",
    "for train, test in kfold.split(X):\n",
    "    users_train, users_test =  X[train], X[test]\n",
    "    n = len(users_test)//2\n",
    "    users_test, users_val = users_test[:n], users_test[n: ]\n",
    "    train_data_space = SPACE_DATASET(grouped_data[users_train], MAXLENGTH)\n",
    "    val_data_space = SPACE_DATASET(grouped_data[users_val], MAXLENGTH)\n",
    "    test_data_space = SPACE_DATASET(grouped_data[users_test], MAXLENGTH)\n",
    "    #construct training input\n",
    "    train_chapter=[]\n",
    "    train_sub_chapter=[]\n",
    "    train_question = []\n",
    "    train_features=[]\n",
    "    train_shifted_t = []\n",
    "    train_labels=[]\n",
    "    for i in range(len(users_train)):\n",
    "        user = train_data_space.__getitem__(i)\n",
    "        train_chapter.append(user[0])\n",
    "        train_sub_chapter.append(user[1]) \n",
    "        train_question.append(user[2])\n",
    "        train_features.append(user[3])\n",
    "        train_shifted_t.append(user[4])\n",
    "        train_labels.append(user[5])\n",
    "    train_chapter = np.array(train_chapter)\n",
    "    train_sub_chapter = np.array(train_sub_chapter)\n",
    "    train_question = np.array(train_question)\n",
    "    train_features = np.array(train_features)\n",
    "    train_shifted_t = np.array(train_shifted_t)\n",
    "    train_labels= np.array(train_labels)[..., np.newaxis]\n",
    "\n",
    "    #construct validation input\n",
    "    val_chapter=[]\n",
    "    val_sub_chapter=[]\n",
    "    val_question = []\n",
    "    val_features=[]\n",
    "    val_shifted_t = []\n",
    "    val_labels=[]\n",
    "    for i in range(len(users_val)):\n",
    "        user = val_data_space.__getitem__(i)\n",
    "        val_chapter.append(user[0])\n",
    "        val_sub_chapter.append(user[1]) \n",
    "        val_question.append(user[2])\n",
    "        val_features.append(user[3])\n",
    "        val_shifted_t.append(user[4])\n",
    "        val_labels.append(user[5])\n",
    "    val_chapter = np.array(val_chapter)\n",
    "    val_sub_chapter = np.array(val_sub_chapter)\n",
    "    val_features = np.array(val_features)\n",
    "    val_question = np.array(val_question)\n",
    "    val_shifted_t = np.array(val_shifted_t)\n",
    "    val_labels= np.array(val_labels)[..., np.newaxis]\n",
    "\n",
    "    # construct test input\n",
    "    test_chapter=[]\n",
    "    test_sub_chapter=[]\n",
    "    test_features=[]\n",
    "    test_question=[]\n",
    "    test_shifted_t = []\n",
    "    test_labels=[]\n",
    "    for i in range(len(users_test)):\n",
    "        user = test_data_space.__getitem__(i)\n",
    "        test_chapter.append(user[0])\n",
    "        test_sub_chapter.append(user[1]) \n",
    "        test_question.append(user[2])\n",
    "        test_features.append(user[3])\n",
    "        test_shifted_t.append(user[4])\n",
    "        test_labels.append(user[5])\n",
    "    test_chapter = np.array(test_chapter)\n",
    "    test_sub_chapter = np.array(test_sub_chapter)\n",
    "    test_features = np.array(test_features)\n",
    "    test_question = np.array(test_question)\n",
    "    test_shifted_t = np.array(test_shifted_t)\n",
    "    test_labels= np.array(test_labels)[..., np.newaxis]\n",
    "\n",
    "    # define loss function and evaluation metrics\n",
    "    bce = tf.keras.losses.BinaryCrossentropy(from_logits=True)\n",
    "    acc = tf.keras.metrics.Accuracy()\n",
    "    auc = tf.keras.metrics.AUC()\n",
    "\n",
    "    def masked_bce(y_true, y_pred):\n",
    "      flat_pred = y_pred\n",
    "      flat_ground_truth = y_true\n",
    "      label_mask = tf.math.not_equal(flat_ground_truth, -1)\n",
    "      return bce(flat_ground_truth, flat_pred, sample_weight=label_mask)\n",
    "\n",
    "    def masked_acc(y_true, y_pred):\n",
    "      flat_pred = y_pred\n",
    "      flat_ground_truth = y_true\n",
    "      flat_pred = (flat_pred >= 0.5)\n",
    "      label_mask = tf.math.not_equal(flat_ground_truth, -1)\n",
    "      return acc(flat_ground_truth, flat_pred, sample_weight=label_mask)\n",
    "\n",
    "    def masked_auc(y_true, y_pred):\n",
    "      flat_pred = y_pred\n",
    "      flat_ground_truth = y_true\n",
    "      label_mask = tf.math.not_equal(flat_ground_truth, -1)\n",
    "      return auc(flat_ground_truth, flat_pred, sample_weight=label_mask)\n",
    "\n",
    "    # input layer\n",
    "    input_chap = tf.keras.Input(shape=(MAXLENGTH))\n",
    "    input_sub_chap = tf.keras.Input(shape=(MAXLENGTH))\n",
    "    input_ques =  tf.keras.Input(shape=(MAXLENGTH))\n",
    "    input_shifted = tf.keras.Input(shape=(MAXLENGTH))\n",
    "    input_features = tf.keras.Input(shape=(MAXLENGTH, FEATURES_SIZE))\n",
    "\n",
    "    # embedding layer for categorical features\n",
    "    embedding_chap = Embedding(input_dim = CHAPTER_SIZE, output_dim = EMBEDDING_DIM)(input_chap)\n",
    "    embedding_sub_chap = Embedding(input_dim = SUB_CHAPTER_SIZE, output_dim = EMBEDDING_DIM)(input_sub_chap) \n",
    "    embedding_ques = Embedding(input_dim = QUESTION_SIZE, output_dim = EMBEDDING_DIM)(input_ques)       \n",
    "    embedding_shifted = Embedding(input_dim = 3, output_dim = EMBEDDING_DIM)(input_shifted)\n",
    "    # dense layer for numeric features\n",
    "    dense_features = Dense(EMBEDDING_DIM,input_shape = (None, MAXLENGTH))(input_features)\n",
    "    \n",
    "    output = tf.concat([embedding_chap, embedding_sub_chap, embedding_ques, embedding_shifted, dense_features], axis = 2)\n",
    "\n",
    "    pred = Dense(1, input_shape = (None, 5*EMBEDDING_DIM), activation='sigmoid')(output)\n",
    "\n",
    "    model = tf.keras.Model(\n",
    "        inputs=[input_chap, input_sub_chap,input_ques, input_shifted, input_features],\n",
    "        outputs=pred,\n",
    "        name='logistic_regression'\n",
    "    )\n",
    "\n",
    "    callback = tf.keras.callbacks.EarlyStopping(monitor='val_loss', patience=10)\n",
    "    opt_adam = Adam(learning_rate = 0.005)\n",
    "    model.compile(\n",
    "        optimizer=opt_adam,\n",
    "        loss= masked_bce,\n",
    "        metrics = [masked_acc, masked_auc]\n",
    "    )\n",
    "\n",
    "    history = model.fit(\n",
    "      [train_chapter, train_sub_chapter, train_question, train_shifted_t, train_features],\n",
    "      train_labels,\n",
    "      batch_size = 64,\n",
    "      epochs = 100,\n",
    "      validation_data=([val_chapter, val_sub_chapter, val_question, val_shifted_t, val_features], val_labels),\n",
    "      callbacks=[callback]\n",
    "    )\n",
    "    val_losses.append(list(history.history['val_loss']))\n",
    "    train_losses.append(list(history.history['loss']))\n",
    "    val_aucs.append(list(history.history['val_masked_auc']))\n",
    "    train_aucs.append(list(history.history['masked_auc']))\n",
    "    train_score = model.evaluate([train_chapter, train_sub_chapter, train_question, train_shifted_t, train_features], train_labels)\n",
    "    train_eval.append(train_score)\n",
    "    test_score = model.evaluate([test_chapter, test_sub_chapter, test_question, test_shifted_t, test_features], test_labels)\n",
    "    test_eval.append(test_score)\n",
    "    print(\"Test: \", test_score)\n",
    "    def reset_weights(model):\n",
    "      for layer in model.layers: \n",
    "        if isinstance(layer, tf.keras.Model):\n",
    "          reset_weights(layer)\n",
    "          continue\n",
    "        for k, initializer in layer.__dict__.items():\n",
    "          if \"initializer\" not in k:\n",
    "            continue\n",
    "          # find the corresponding variable\n",
    "          var = getattr(layer, k.replace(\"_initializer\", \"\"))\n",
    "          var.assign(initializer(var.shape, var.dtype))\n",
    "    reset_weights(model)"
   ]
  },
  {
   "cell_type": "code",
   "execution_count": 31,
   "metadata": {
    "execution": {
     "iopub.execute_input": "2021-08-08T14:16:36.065767Z",
     "iopub.status.busy": "2021-08-08T14:16:36.064751Z",
     "iopub.status.idle": "2021-08-08T14:16:36.069448Z",
     "shell.execute_reply": "2021-08-08T14:16:36.069936Z",
     "shell.execute_reply.started": "2021-08-06T21:11:24.771838Z"
    },
    "id": "QsVmumHMz3lx",
    "outputId": "4ff1e2fa-6abb-458e-c729-495b456f53e5",
    "papermill": {
     "duration": 0.997027,
     "end_time": "2021-08-08T14:16:36.070126",
     "exception": false,
     "start_time": "2021-08-08T14:16:35.073099",
     "status": "completed"
    },
    "tags": []
   },
   "outputs": [
    {
     "name": "stdout",
     "output_type": "stream",
     "text": [
      "test avg loss:  0.43274853825569154 +/- 0.01783166466275463\n",
      "test avg acc:  0.7722118616104126 +/- 0.0009509325306920965\n",
      "test avg auc:  0.8156091928482055 +/- 0.0011634081319284633\n"
     ]
    }
   ],
   "source": [
    "t_eval = np.array(test_eval)\n",
    "print(\"test avg loss: \", np.mean(t_eval[:, 0]), \"+/-\" ,np.std(t_eval[:, 0]))\n",
    "print(\"test avg acc: \", np.mean(t_eval[:, 1]),  \"+/-\" ,np.std(t_eval[:, 1]))\n",
    "print(\"test avg auc: \", np.mean(t_eval[:, 2]), \"+/-\" ,np.std(t_eval[:, 2]))"
   ]
  },
  {
   "cell_type": "code",
   "execution_count": 32,
   "metadata": {
    "execution": {
     "iopub.execute_input": "2021-08-08T14:16:38.082330Z",
     "iopub.status.busy": "2021-08-08T14:16:38.081660Z",
     "iopub.status.idle": "2021-08-08T14:16:38.087649Z",
     "shell.execute_reply": "2021-08-08T14:16:38.086892Z",
     "shell.execute_reply.started": "2021-08-06T21:11:24.782922Z"
    },
    "id": "b9MM_CXWz5K6",
    "outputId": "4cf88e1d-3a74-4e7d-f92c-d01522e91757",
    "papermill": {
     "duration": 1.036047,
     "end_time": "2021-08-08T14:16:38.087862",
     "exception": false,
     "start_time": "2021-08-08T14:16:37.051815",
     "status": "completed"
    },
    "tags": []
   },
   "outputs": [
    {
     "name": "stdout",
     "output_type": "stream",
     "text": [
      "train avg loss:  0.4362643897533417 +/- 0.0022734779249374334\n",
      "train avg acc:  0.7723321795463562 +/- 0.0009796392376834227\n",
      "train avg auc:  0.8156029105186462 +/- 0.0011839980466184484\n"
     ]
    }
   ],
   "source": [
    "t_eval = np.array(train_eval)\n",
    "print(\"train avg loss: \", np.mean(t_eval[:, 0]), \"+/-\" ,np.std(t_eval[:, 0]))\n",
    "print(\"train avg acc: \", np.mean(t_eval[:, 1]),  \"+/-\" ,np.std(t_eval[:, 1]))\n",
    "print(\"train avg auc: \", np.mean(t_eval[:, 2]), \"+/-\" ,np.std(t_eval[:, 2]))"
   ]
  }
 ],
 "metadata": {
  "kernelspec": {
   "display_name": "Python 3",
   "language": "python",
   "name": "python3"
  },
  "language_info": {
   "codemirror_mode": {
    "name": "ipython",
    "version": 3
   },
   "file_extension": ".py",
   "mimetype": "text/x-python",
   "name": "python",
   "nbconvert_exporter": "python",
   "pygments_lexer": "ipython3",
   "version": "3.8.5"
  },
  "papermill": {
   "default_parameters": {},
   "duration": 685.309133,
   "end_time": "2021-08-08T14:16:41.470504",
   "environment_variables": {},
   "exception": null,
   "input_path": "__notebook__.ipynb",
   "output_path": "__notebook__.ipynb",
   "parameters": {},
   "start_time": "2021-08-08T14:05:16.161371",
   "version": "2.3.3"
  }
 },
 "nbformat": 4,
 "nbformat_minor": 5
}
