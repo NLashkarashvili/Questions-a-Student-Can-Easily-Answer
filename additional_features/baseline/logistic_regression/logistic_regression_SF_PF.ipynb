{
 "cells": [
  {
   "cell_type": "code",
   "execution_count": 1,
   "metadata": {
    "execution": {
     "iopub.execute_input": "2021-08-08T15:30:42.928830Z",
     "iopub.status.busy": "2021-08-08T15:30:42.928123Z",
     "iopub.status.idle": "2021-08-08T15:30:49.823568Z",
     "shell.execute_reply": "2021-08-08T15:30:49.822863Z",
     "shell.execute_reply.started": "2021-08-06T21:05:15.103244Z"
    },
    "id": "farifxiKU1aB",
    "papermill": {
     "duration": 6.938714,
     "end_time": "2021-08-08T15:30:49.823803",
     "exception": false,
     "start_time": "2021-08-08T15:30:42.885089",
     "status": "completed"
    },
    "tags": []
   },
   "outputs": [],
   "source": [
    "import numpy as np\n",
    "import pandas as pd\n",
    "import warnings\n",
    "import gc\n",
    "import tensorflow as tf\n",
    "from tensorflow import keras\n",
    "\n",
    "import random\n",
    "from random import choice\n",
    "from tensorflow.keras.optimizers import Adam\n",
    "from tensorflow.keras.models import Sequential \n",
    "from tensorflow.keras.layers import Dense, GRU, Concatenate, Embedding, Flatten, Activation, Dropout\n",
    "from sklearn.model_selection import KFold\n",
    "from tensorflow.python.client import device_lib\n",
    "warnings.filterwarnings('ignore')\n",
    "import random"
   ]
  },
  {
   "cell_type": "code",
   "execution_count": 2,
   "metadata": {
    "execution": {
     "iopub.execute_input": "2021-08-08T15:30:49.885808Z",
     "iopub.status.busy": "2021-08-08T15:30:49.885136Z",
     "iopub.status.idle": "2021-08-08T15:30:49.887068Z",
     "shell.execute_reply": "2021-08-08T15:30:49.887621Z",
     "shell.execute_reply.started": "2021-08-06T21:05:15.117334Z"
    },
    "id": "QOson70GPOXb",
    "papermill": {
     "duration": 0.035023,
     "end_time": "2021-08-08T15:30:49.887807",
     "exception": false,
     "start_time": "2021-08-08T15:30:49.852784",
     "status": "completed"
    },
    "tags": []
   },
   "outputs": [],
   "source": [
    "import gc"
   ]
  },
  {
   "cell_type": "markdown",
   "metadata": {
    "id": "BQsVybBH3VPw",
    "papermill": {
     "duration": 0.02782,
     "end_time": "2021-08-08T15:30:49.944069",
     "exception": false,
     "start_time": "2021-08-08T15:30:49.916249",
     "status": "completed"
    },
    "tags": []
   },
   "source": [
    "## Data Preprocessing"
   ]
  },
  {
   "cell_type": "code",
   "execution_count": 3,
   "metadata": {
    "execution": {
     "iopub.execute_input": "2021-08-08T15:30:50.004041Z",
     "iopub.status.busy": "2021-08-08T15:30:50.003340Z",
     "iopub.status.idle": "2021-08-08T15:30:57.946063Z",
     "shell.execute_reply": "2021-08-08T15:30:57.945397Z",
     "shell.execute_reply.started": "2021-08-06T21:05:15.141773Z"
    },
    "id": "rwtTusGxrmAE",
    "outputId": "1430f3cf-038b-485e-b5c4-c1686b1f34fd",
    "papermill": {
     "duration": 7.973788,
     "end_time": "2021-08-08T15:30:57.946218",
     "exception": false,
     "start_time": "2021-08-08T15:30:49.972430",
     "status": "completed"
    },
    "tags": []
   },
   "outputs": [
    {
     "data": {
      "text/html": [
       "<div>\n",
       "<style scoped>\n",
       "    .dataframe tbody tr th:only-of-type {\n",
       "        vertical-align: middle;\n",
       "    }\n",
       "\n",
       "    .dataframe tbody tr th {\n",
       "        vertical-align: top;\n",
       "    }\n",
       "\n",
       "    .dataframe thead th {\n",
       "        text-align: right;\n",
       "    }\n",
       "</style>\n",
       "<table border=\"1\" class=\"dataframe\">\n",
       "  <thead>\n",
       "    <tr style=\"text-align: right;\">\n",
       "      <th></th>\n",
       "      <th>Unnamed: 0</th>\n",
       "      <th>chapter_label</th>\n",
       "      <th>sub_chapter_label</th>\n",
       "      <th>question_name</th>\n",
       "      <th>user_id.x</th>\n",
       "      <th>term</th>\n",
       "      <th>STDNT_SEX_CD</th>\n",
       "      <th>NonNativeEnglish</th>\n",
       "      <th>White</th>\n",
       "      <th>Asian</th>\n",
       "      <th>...</th>\n",
       "      <th>classGraded</th>\n",
       "      <th>classHonors</th>\n",
       "      <th>Pass_Fail</th>\n",
       "      <th>parentsGraduateEdu</th>\n",
       "      <th>minorityGroup</th>\n",
       "      <th>q</th>\n",
       "      <th>day's_available_flashcards</th>\n",
       "      <th>start_practice</th>\n",
       "      <th>end_practice</th>\n",
       "      <th>days_offset</th>\n",
       "    </tr>\n",
       "  </thead>\n",
       "  <tbody>\n",
       "    <tr>\n",
       "      <th>0</th>\n",
       "      <td>1</td>\n",
       "      <td>Sort</td>\n",
       "      <td>intro-SortingwithSortandSorted</td>\n",
       "      <td>ee_sort_04</td>\n",
       "      <td>148</td>\n",
       "      <td>WN 2018</td>\n",
       "      <td>1</td>\n",
       "      <td>0</td>\n",
       "      <td>1</td>\n",
       "      <td>0</td>\n",
       "      <td>...</td>\n",
       "      <td>1</td>\n",
       "      <td>0</td>\n",
       "      <td>0</td>\n",
       "      <td>0</td>\n",
       "      <td>0</td>\n",
       "      <td>0</td>\n",
       "      <td>18</td>\n",
       "      <td>2018-03-04 20:00:19</td>\n",
       "      <td>2018-03-04 20:00:35</td>\n",
       "      <td>45</td>\n",
       "    </tr>\n",
       "    <tr>\n",
       "      <th>1</th>\n",
       "      <td>2</td>\n",
       "      <td>Functions</td>\n",
       "      <td>Returningavaluefromafunction</td>\n",
       "      <td>test_questionfunctions_2_3</td>\n",
       "      <td>148</td>\n",
       "      <td>WN 2018</td>\n",
       "      <td>1</td>\n",
       "      <td>0</td>\n",
       "      <td>1</td>\n",
       "      <td>0</td>\n",
       "      <td>...</td>\n",
       "      <td>1</td>\n",
       "      <td>0</td>\n",
       "      <td>0</td>\n",
       "      <td>0</td>\n",
       "      <td>0</td>\n",
       "      <td>4</td>\n",
       "      <td>16</td>\n",
       "      <td>2018-02-10 11:57:55</td>\n",
       "      <td>2018-02-10 11:58:35</td>\n",
       "      <td>23</td>\n",
       "    </tr>\n",
       "    <tr>\n",
       "      <th>2</th>\n",
       "      <td>3</td>\n",
       "      <td>RESTAPIs</td>\n",
       "      <td>functionswithrestapis</td>\n",
       "      <td>test_question_functions_rest_apis_1</td>\n",
       "      <td>148</td>\n",
       "      <td>WN 2018</td>\n",
       "      <td>1</td>\n",
       "      <td>0</td>\n",
       "      <td>1</td>\n",
       "      <td>0</td>\n",
       "      <td>...</td>\n",
       "      <td>1</td>\n",
       "      <td>0</td>\n",
       "      <td>0</td>\n",
       "      <td>0</td>\n",
       "      <td>0</td>\n",
       "      <td>1</td>\n",
       "      <td>2</td>\n",
       "      <td>2018-03-12 17:03:07</td>\n",
       "      <td>2018-03-12 17:04:28</td>\n",
       "      <td>53</td>\n",
       "    </tr>\n",
       "    <tr>\n",
       "      <th>3</th>\n",
       "      <td>4</td>\n",
       "      <td>SimplePythonData</td>\n",
       "      <td>FunctionCalls</td>\n",
       "      <td>exercise_functionCalls_1</td>\n",
       "      <td>148</td>\n",
       "      <td>WN 2018</td>\n",
       "      <td>1</td>\n",
       "      <td>0</td>\n",
       "      <td>1</td>\n",
       "      <td>0</td>\n",
       "      <td>...</td>\n",
       "      <td>1</td>\n",
       "      <td>0</td>\n",
       "      <td>0</td>\n",
       "      <td>0</td>\n",
       "      <td>0</td>\n",
       "      <td>0</td>\n",
       "      <td>10</td>\n",
       "      <td>2018-01-30 14:15:49</td>\n",
       "      <td>2018-01-30 14:15:58</td>\n",
       "      <td>12</td>\n",
       "    </tr>\n",
       "    <tr>\n",
       "      <th>4</th>\n",
       "      <td>5</td>\n",
       "      <td>DictionaryAccumulation</td>\n",
       "      <td>AccumulatingaMaximumValue</td>\n",
       "      <td>ps_04_07</td>\n",
       "      <td>148</td>\n",
       "      <td>WN 2018</td>\n",
       "      <td>1</td>\n",
       "      <td>0</td>\n",
       "      <td>1</td>\n",
       "      <td>0</td>\n",
       "      <td>...</td>\n",
       "      <td>1</td>\n",
       "      <td>0</td>\n",
       "      <td>0</td>\n",
       "      <td>0</td>\n",
       "      <td>0</td>\n",
       "      <td>0</td>\n",
       "      <td>23</td>\n",
       "      <td>2018-03-03 14:04:17</td>\n",
       "      <td>2018-03-03 14:04:25</td>\n",
       "      <td>44</td>\n",
       "    </tr>\n",
       "  </tbody>\n",
       "</table>\n",
       "<p>5 rows × 48 columns</p>\n",
       "</div>"
      ],
      "text/plain": [
       "   Unnamed: 0           chapter_label               sub_chapter_label  \\\n",
       "0           1                    Sort  intro-SortingwithSortandSorted   \n",
       "1           2               Functions    Returningavaluefromafunction   \n",
       "2           3                RESTAPIs           functionswithrestapis   \n",
       "3           4        SimplePythonData                   FunctionCalls   \n",
       "4           5  DictionaryAccumulation       AccumulatingaMaximumValue   \n",
       "\n",
       "                         question_name  user_id.x     term  STDNT_SEX_CD  \\\n",
       "0                           ee_sort_04        148  WN 2018             1   \n",
       "1           test_questionfunctions_2_3        148  WN 2018             1   \n",
       "2  test_question_functions_rest_apis_1        148  WN 2018             1   \n",
       "3             exercise_functionCalls_1        148  WN 2018             1   \n",
       "4                             ps_04_07        148  WN 2018             1   \n",
       "\n",
       "   NonNativeEnglish  White  Asian  ...  classGraded  classHonors  Pass_Fail  \\\n",
       "0                 0      1      0  ...            1            0          0   \n",
       "1                 0      1      0  ...            1            0          0   \n",
       "2                 0      1      0  ...            1            0          0   \n",
       "3                 0      1      0  ...            1            0          0   \n",
       "4                 0      1      0  ...            1            0          0   \n",
       "\n",
       "   parentsGraduateEdu  minorityGroup  q  day's_available_flashcards  \\\n",
       "0                   0              0  0                          18   \n",
       "1                   0              0  4                          16   \n",
       "2                   0              0  1                           2   \n",
       "3                   0              0  0                          10   \n",
       "4                   0              0  0                          23   \n",
       "\n",
       "        start_practice         end_practice  days_offset  \n",
       "0  2018-03-04 20:00:19  2018-03-04 20:00:35           45  \n",
       "1  2018-02-10 11:57:55  2018-02-10 11:58:35           23  \n",
       "2  2018-03-12 17:03:07  2018-03-12 17:04:28           53  \n",
       "3  2018-01-30 14:15:49  2018-01-30 14:15:58           12  \n",
       "4  2018-03-03 14:04:17  2018-03-03 14:04:25           44  \n",
       "\n",
       "[5 rows x 48 columns]"
      ]
     },
     "execution_count": 3,
     "metadata": {},
     "output_type": "execute_result"
    }
   ],
   "source": [
    "# load the data\n",
    "import pandas as pd\n",
    "dataframe = pd.read_csv('../input/practice-log-demographics/Practice_Log_Demographics (1).csv', low_memory=False)\n",
    "dataframe.head()"
   ]
  },
  {
   "cell_type": "code",
   "execution_count": 4,
   "metadata": {
    "execution": {
     "iopub.execute_input": "2021-08-08T15:30:58.072020Z",
     "iopub.status.busy": "2021-08-08T15:30:58.071357Z",
     "iopub.status.idle": "2021-08-08T15:31:00.030580Z",
     "shell.execute_reply": "2021-08-08T15:31:00.031069Z",
     "shell.execute_reply.started": "2021-08-06T21:05:19.576072Z"
    },
    "id": "OCbHnEp_Vir0",
    "papermill": {
     "duration": 2.055761,
     "end_time": "2021-08-08T15:31:00.031269",
     "exception": false,
     "start_time": "2021-08-08T15:30:57.975508",
     "status": "completed"
    },
    "tags": []
   },
   "outputs": [],
   "source": [
    "#sort data based on timestamp\n",
    "dataframe = dataframe.sort_values(by=['start_practice']).reset_index(drop=True)"
   ]
  },
  {
   "cell_type": "code",
   "execution_count": 5,
   "metadata": {
    "execution": {
     "iopub.execute_input": "2021-08-08T15:31:00.097442Z",
     "iopub.status.busy": "2021-08-08T15:31:00.096726Z",
     "iopub.status.idle": "2021-08-08T15:31:00.099010Z",
     "shell.execute_reply": "2021-08-08T15:31:00.099710Z",
     "shell.execute_reply.started": "2021-08-06T21:05:21.039874Z"
    },
    "id": "0RvF7BvEr98o",
    "papermill": {
     "duration": 0.039918,
     "end_time": "2021-08-08T15:31:00.099914",
     "exception": false,
     "start_time": "2021-08-08T15:31:00.059996",
     "status": "completed"
    },
    "tags": []
   },
   "outputs": [],
   "source": [
    "FEATURES = ['chapter_label', 'sub_chapter_label','question_name','user_id','term',\n",
    "            'STDNT_SEX_CD', \n",
    "            'NonNativeEnglish',\n",
    "            'White',\n",
    "            'Asian',\n",
    "            'WhiteOrAsian',\n",
    "            'Hispanic',\n",
    "            'AfricanAmerican',\n",
    "            'OtherEthnicities',\n",
    "            'NonWhiteOrAsian',\n",
    "            'STDNT_CTZN_STAT_CD', 'international', \n",
    "            'gradingType',\n",
    "            'birthYear',\n",
    "            'exclClassCumGPA',\n",
    "            'Freshman',\n",
    "            'Junior',\n",
    "            'Sophomore',\n",
    "            'Senior',\n",
    "            'termCreditsGPA',\n",
    "            'termCreditsNoGPA',\n",
    "            'athlete_1',\n",
    "            'honorsPro',\n",
    "            'LSA', 'programBusiness', 'programEngineering', \n",
    "            'programInformation', 'programOther',\n",
    "            'HSCalculusTaken', \n",
    "            'highSchoolGPA', \n",
    "            'majorsCount', 'minorsCount',\n",
    "            'PREV_TERM_CUM_GPA',\n",
    "            'classGraded', 'classHonors', \n",
    "            'Pass_Fail', \n",
    "            'parentsGraduateEdu',  'minorityGroup', \n",
    "            'q',\n",
    "            'available_flashcards', \n",
    "            'start_practice', \n",
    "            'end_practice',\n",
    "            'days_offset']"
   ]
  },
  {
   "cell_type": "code",
   "execution_count": 6,
   "metadata": {
    "execution": {
     "iopub.execute_input": "2021-08-08T15:31:00.162424Z",
     "iopub.status.busy": "2021-08-08T15:31:00.161757Z",
     "iopub.status.idle": "2021-08-08T15:31:00.973872Z",
     "shell.execute_reply": "2021-08-08T15:31:00.974411Z",
     "shell.execute_reply.started": "2021-08-06T21:05:21.055415Z"
    },
    "id": "Mn341X7lSztl",
    "papermill": {
     "duration": 0.844375,
     "end_time": "2021-08-08T15:31:00.974604",
     "exception": false,
     "start_time": "2021-08-08T15:31:00.130229",
     "status": "completed"
    },
    "tags": []
   },
   "outputs": [],
   "source": [
    "dataframe['available_flashcards'] = dataframe[\"day's_available_flashcards\"][:]\n",
    "dataframe = dataframe.drop([\"day's_available_flashcards\"], axis=1)\n",
    "dataframe['user_id'] = dataframe[\"user_id.x\"][:]\n",
    "dataframe = dataframe.drop([\"user_id.x\"], axis=1)"
   ]
  },
  {
   "cell_type": "code",
   "execution_count": 7,
   "metadata": {
    "execution": {
     "iopub.execute_input": "2021-08-08T15:31:01.282518Z",
     "iopub.status.busy": "2021-08-08T15:31:01.281606Z",
     "iopub.status.idle": "2021-08-08T15:31:01.286118Z",
     "shell.execute_reply": "2021-08-08T15:31:01.285612Z",
     "shell.execute_reply.started": "2021-08-06T21:05:21.632824Z"
    },
    "id": "-_BRggOjbBjN",
    "outputId": "42bff7db-08dd-48dc-a73a-d048508053b7",
    "papermill": {
     "duration": 0.283028,
     "end_time": "2021-08-08T15:31:01.286272",
     "exception": false,
     "start_time": "2021-08-08T15:31:01.003244",
     "status": "completed"
    },
    "tags": []
   },
   "outputs": [
    {
     "data": {
      "text/plain": [
       "102"
      ]
     },
     "execution_count": 7,
     "metadata": {},
     "output_type": "execute_result"
    }
   ],
   "source": [
    "gc.collect()"
   ]
  },
  {
   "cell_type": "code",
   "execution_count": 8,
   "metadata": {
    "execution": {
     "iopub.execute_input": "2021-08-08T15:31:01.355352Z",
     "iopub.status.busy": "2021-08-08T15:31:01.353147Z",
     "iopub.status.idle": "2021-08-08T15:31:01.781235Z",
     "shell.execute_reply": "2021-08-08T15:31:01.781759Z",
     "shell.execute_reply.started": "2021-08-06T21:05:21.821467Z"
    },
    "id": "lXM7MlonVeRL",
    "outputId": "d29ccec0-522f-4e3c-e0b2-39b2e1eaef74",
    "papermill": {
     "duration": 0.466338,
     "end_time": "2021-08-08T15:31:01.781976",
     "exception": false,
     "start_time": "2021-08-08T15:31:01.315638",
     "status": "completed"
    },
    "tags": []
   },
   "outputs": [
    {
     "data": {
      "text/plain": [
       "20"
      ]
     },
     "execution_count": 8,
     "metadata": {},
     "output_type": "execute_result"
    }
   ],
   "source": [
    "dataframe = dataframe[FEATURES]\n",
    "gc.collect()"
   ]
  },
  {
   "cell_type": "code",
   "execution_count": 9,
   "metadata": {
    "execution": {
     "iopub.execute_input": "2021-08-08T15:31:02.421786Z",
     "iopub.status.busy": "2021-08-08T15:31:02.419459Z",
     "iopub.status.idle": "2021-08-08T15:31:02.640442Z",
     "shell.execute_reply": "2021-08-08T15:31:02.639785Z",
     "shell.execute_reply.started": "2021-08-06T21:05:22.101727Z"
    },
    "id": "2WAFv5z3A6fK",
    "outputId": "e27abf84-ec3c-4b88-e1fb-927d94b41898",
    "papermill": {
     "duration": 0.828919,
     "end_time": "2021-08-08T15:31:02.640608",
     "exception": false,
     "start_time": "2021-08-08T15:31:01.811689",
     "status": "completed"
    },
    "tags": []
   },
   "outputs": [],
   "source": [
    "dataframe = dataframe.fillna(0)"
   ]
  },
  {
   "cell_type": "code",
   "execution_count": 10,
   "metadata": {
    "execution": {
     "iopub.execute_input": "2021-08-08T15:31:02.719473Z",
     "iopub.status.busy": "2021-08-08T15:31:02.718760Z",
     "iopub.status.idle": "2021-08-08T15:31:04.232781Z",
     "shell.execute_reply": "2021-08-08T15:31:04.233276Z",
     "shell.execute_reply.started": "2021-08-06T21:05:22.700096Z"
    },
    "id": "qRKqF_0IXZgj",
    "papermill": {
     "duration": 1.563384,
     "end_time": "2021-08-08T15:31:04.233481",
     "exception": false,
     "start_time": "2021-08-08T15:31:02.670097",
     "status": "completed"
    },
    "tags": []
   },
   "outputs": [],
   "source": [
    "#label encode term, chapter_label, question_name, sub_chapter_label columns\n",
    "dataframe['term'] = dataframe['term'].astype('category')\n",
    "dataframe['user_id'] = dataframe['user_id'].astype(int)\n",
    "dataframe['user_id'] = dataframe['user_id'].astype(str)\n",
    "dataframe['user_id'] = dataframe['term'].str.cat(dataframe['user_id'], sep=':')\n",
    "dataframe['user_id'] = dataframe['user_id'].astype('category')\n",
    "dataframe['chapter_label'] = dataframe['chapter_label'].astype('category')\n",
    "dataframe['sub_chapter_label'] = dataframe['sub_chapter_label'].astype('category')\n",
    "dataframe['question_name'] = dataframe['question_name'].astype('category')\n"
   ]
  },
  {
   "cell_type": "code",
   "execution_count": 11,
   "metadata": {
    "execution": {
     "iopub.execute_input": "2021-08-08T15:31:04.299992Z",
     "iopub.status.busy": "2021-08-08T15:31:04.299350Z",
     "iopub.status.idle": "2021-08-08T15:31:04.954876Z",
     "shell.execute_reply": "2021-08-08T15:31:04.955395Z",
     "shell.execute_reply.started": "2021-08-06T21:05:23.94285Z"
    },
    "id": "eVl_067GWkDe",
    "papermill": {
     "duration": 0.692683,
     "end_time": "2021-08-08T15:31:04.955581",
     "exception": false,
     "start_time": "2021-08-08T15:31:04.262898",
     "status": "completed"
    },
    "tags": []
   },
   "outputs": [],
   "source": [
    "#calculate time_lag and prev_time_elapsed\n",
    "dataframe['prev_time_elapsed'] = None\n",
    "dataframe['time_lag'] = None\n",
    "dataframe['time_lag'] = dataframe['time_lag'].astype(np.float)\n",
    "dataframe['prev_time_elapsed'] = dataframe['prev_time_elapsed'].astype(np.float)\n",
    "dataframe.start_practice = pd.to_datetime(dataframe.start_practice, format='%Y-%m-%d %H:%M:%S')\n",
    "dataframe.end_practice = pd.to_datetime(dataframe.end_practice, format='%Y-%m-%d %H:%M:%S')\n",
    "#calculaate answer correct\n",
    "#when q=5 and time < 1 minute\n",
    "dataframe['dif'] = dataframe.end_practice - dataframe.start_practice\n",
    "dataframe['dif'] = dataframe['dif'] /np.timedelta64(1, 's')\n",
    "dataframe['answer_correct'] = np.where((dataframe['q']==5) & (dataframe['dif'] <= 60), 1, 0)"
   ]
  },
  {
   "cell_type": "code",
   "execution_count": 12,
   "metadata": {
    "execution": {
     "iopub.execute_input": "2021-08-08T15:31:05.017518Z",
     "iopub.status.busy": "2021-08-08T15:31:05.016499Z",
     "iopub.status.idle": "2021-08-08T15:38:22.345982Z",
     "shell.execute_reply": "2021-08-08T15:38:22.346474Z",
     "shell.execute_reply.started": "2021-08-06T21:05:24.401262Z"
    },
    "id": "Xrkcn9VhWETm",
    "outputId": "fd73f3de-5f56-42a8-9539-3f3b79a5a6e2",
    "papermill": {
     "duration": 437.36213,
     "end_time": "2021-08-08T15:38:22.346701",
     "exception": false,
     "start_time": "2021-08-08T15:31:04.984571",
     "status": "completed"
    },
    "tags": []
   },
   "outputs": [
    {
     "name": "stderr",
     "output_type": "stream",
     "text": [
      "100%|██████████| 1110/1110 [07:17<00:00,  2.54it/s]\n"
     ]
    }
   ],
   "source": [
    "unique_chapts = dataframe['chapter_label'].unique()\n",
    "from tqdm import tqdm\n",
    "cnt = 0\n",
    "for user in tqdm(dataframe['user_id'].unique()):\n",
    "        for chapter in unique_chapts:\n",
    "            tmp_user = dataframe[(dataframe['user_id']==user) & (dataframe['chapter_label']==chapter)]\n",
    "            #if user doesn't answer any question from the chapter\n",
    "            if len(tmp_user) < 1:\n",
    "                continue\n",
    "            #calculate average elapsed time before the current question\n",
    "            #from its corresponding chapter\n",
    "            tmp_time_elapsed = tmp_user.end_practice - tmp_user.start_practice\n",
    "            tmp_time_elapsed = tmp_time_elapsed / np.timedelta64(1, 's')\n",
    "            tmp_time_elapsed = np.insert(np.array(tmp_time_elapsed[:-1]), 0, 0., axis=0)\n",
    "            tmp_time_elapsed = np.cumsum(tmp_time_elapsed)\n",
    "            indices = tmp_user.index\n",
    "            start_row = indices[0]\n",
    "            dataframe['time_lag'].iloc[start_row] = 0\n",
    "            for_mean = np.arange(len(tmp_user))\n",
    "            for_mean[0] = 1\n",
    "            time_substrahend = tmp_user.start_practice.iloc[:-1]\n",
    "            time_substrahend = time_substrahend.apply(lambda a: a.timestamp())\n",
    "            time_substrahend = np.array(time_substrahend)\n",
    "            \n",
    "            time_minuend = tmp_user.start_practice.iloc[1:]\n",
    "            time_minuend = time_minuend.apply(lambda a: a.timestamp())\n",
    "            time_minuend = np.array(time_minuend)\n",
    "\n",
    "            dataframe['prev_time_elapsed'].iloc[indices] = tmp_time_elapsed/for_mean\n",
    "            #calculate difference between current and last interaction\n",
    "            #from the same chapter\n",
    "            dataframe['time_lag'].iloc[indices[1:]] = time_minuend - time_substrahend\n"
   ]
  },
  {
   "cell_type": "code",
   "execution_count": 13,
   "metadata": {
    "execution": {
     "iopub.execute_input": "2021-08-08T15:38:23.154489Z",
     "iopub.status.busy": "2021-08-08T15:38:23.152653Z",
     "iopub.status.idle": "2021-08-08T15:38:23.203079Z",
     "shell.execute_reply": "2021-08-08T15:38:23.202523Z",
     "shell.execute_reply.started": "2021-08-06T21:09:42.800903Z"
    },
    "id": "8t8yZ0XvWwzz",
    "papermill": {
     "duration": 0.499822,
     "end_time": "2021-08-08T15:38:23.203246",
     "exception": false,
     "start_time": "2021-08-08T15:38:22.703424",
     "status": "completed"
    },
    "tags": []
   },
   "outputs": [],
   "source": [
    "#drop column end_practice\n",
    "dataframe.drop(columns=['end_practice'], inplace=True)"
   ]
  },
  {
   "cell_type": "code",
   "execution_count": 14,
   "metadata": {
    "execution": {
     "iopub.execute_input": "2021-08-08T15:38:23.924305Z",
     "iopub.status.busy": "2021-08-08T15:38:23.923609Z",
     "iopub.status.idle": "2021-08-08T15:38:24.390584Z",
     "shell.execute_reply": "2021-08-08T15:38:24.389781Z",
     "shell.execute_reply.started": "2021-08-06T21:09:42.889108Z"
    },
    "id": "E42raRIrYYXz",
    "papermill": {
     "duration": 0.831464,
     "end_time": "2021-08-08T15:38:24.390755",
     "exception": false,
     "start_time": "2021-08-08T15:38:23.559291",
     "status": "completed"
    },
    "tags": []
   },
   "outputs": [],
   "source": [
    "# calculate the age feature\n",
    "dataframe['term_value'] = [int(ele[3:]) for ele in dataframe['term']]\n",
    "dataframe['age'] = dataframe['term_value'] - dataframe['birthYear']"
   ]
  },
  {
   "cell_type": "code",
   "execution_count": 15,
   "metadata": {
    "execution": {
     "iopub.execute_input": "2021-08-08T15:38:25.193494Z",
     "iopub.status.busy": "2021-08-08T15:38:25.192802Z",
     "iopub.status.idle": "2021-08-08T15:38:25.428211Z",
     "shell.execute_reply": "2021-08-08T15:38:25.429023Z",
     "shell.execute_reply.started": "2021-08-06T21:09:43.322002Z"
    },
    "id": "pcMVQXueYnMh",
    "papermill": {
     "duration": 0.676554,
     "end_time": "2021-08-08T15:38:25.429337",
     "exception": false,
     "start_time": "2021-08-08T15:38:24.752783",
     "status": "completed"
    },
    "tags": []
   },
   "outputs": [],
   "source": [
    "# drop term_value and birthYear column\n",
    "dataframe.drop(columns=['term_value', 'birthYear'], inplace=True)"
   ]
  },
  {
   "cell_type": "code",
   "execution_count": 16,
   "metadata": {
    "execution": {
     "iopub.execute_input": "2021-08-08T15:38:26.173857Z",
     "iopub.status.busy": "2021-08-08T15:38:26.168658Z",
     "iopub.status.idle": "2021-08-08T15:38:26.664613Z",
     "shell.execute_reply": "2021-08-08T15:38:26.665119Z",
     "shell.execute_reply.started": "2021-08-06T21:09:43.524953Z"
    },
    "id": "hjRF5szkcQE0",
    "papermill": {
     "duration": 0.869339,
     "end_time": "2021-08-08T15:38:26.665339",
     "exception": false,
     "start_time": "2021-08-08T15:38:25.796000",
     "status": "completed"
    },
    "tags": []
   },
   "outputs": [],
   "source": [
    "# convert minors_count to int value\n",
    "new_minors_count = []\n",
    "for i in dataframe['minorsCount']:\n",
    "  if i == 0 or i == '0':\n",
    "    new_minors_count.append(0)\n",
    "  elif i == '1 Minor':\n",
    "    new_minors_count.append(1)\n",
    "  else:\n",
    "    new_minors_count.append(2)\n",
    "\n",
    "dataframe['minorsCount'] = new_minors_count"
   ]
  },
  {
   "cell_type": "code",
   "execution_count": 17,
   "metadata": {
    "execution": {
     "iopub.execute_input": "2021-08-08T15:38:27.396557Z",
     "iopub.status.busy": "2021-08-08T15:38:27.395187Z",
     "iopub.status.idle": "2021-08-08T15:38:27.411558Z",
     "shell.execute_reply": "2021-08-08T15:38:27.412099Z",
     "shell.execute_reply.started": "2021-08-06T21:09:43.981222Z"
    },
    "id": "9VdzvJSw0KUU",
    "outputId": "6393784f-234e-4935-9cee-cbcf56b5630a",
    "papermill": {
     "duration": 0.384282,
     "end_time": "2021-08-08T15:38:27.412308",
     "exception": false,
     "start_time": "2021-08-08T15:38:27.028026",
     "status": "completed"
    },
    "tags": []
   },
   "outputs": [
    {
     "name": "stdout",
     "output_type": "stream",
     "text": [
      "we have  1110  users in total.\n"
     ]
    }
   ],
   "source": [
    "print(\"we have \", dataframe['user_id'].nunique(),\" users in total.\")"
   ]
  },
  {
   "cell_type": "code",
   "execution_count": 18,
   "metadata": {
    "execution": {
     "iopub.execute_input": "2021-08-08T15:38:28.149037Z",
     "iopub.status.busy": "2021-08-08T15:38:28.147840Z",
     "iopub.status.idle": "2021-08-08T15:38:28.154883Z",
     "shell.execute_reply": "2021-08-08T15:38:28.155435Z",
     "shell.execute_reply.started": "2021-08-06T21:09:43.998125Z"
    },
    "id": "hUaGk9L9g13t",
    "papermill": {
     "duration": 0.375994,
     "end_time": "2021-08-08T15:38:28.155649",
     "exception": false,
     "start_time": "2021-08-08T15:38:27.779655",
     "status": "completed"
    },
    "tags": []
   },
   "outputs": [],
   "source": [
    "for category in ['term','chapter_label', 'sub_chapter_label', 'question_name']:\n",
    "  dataframe[category] =  dataframe[category].cat.codes"
   ]
  },
  {
   "cell_type": "code",
   "execution_count": 19,
   "metadata": {
    "execution": {
     "iopub.execute_input": "2021-08-08T15:38:28.880787Z",
     "iopub.status.busy": "2021-08-08T15:38:28.880057Z",
     "iopub.status.idle": "2021-08-08T15:38:29.702267Z",
     "shell.execute_reply": "2021-08-08T15:38:29.701613Z",
     "shell.execute_reply.started": "2021-08-06T21:09:44.009179Z"
    },
    "id": "hkyvcYvlhliG",
    "papermill": {
     "duration": 1.187656,
     "end_time": "2021-08-08T15:38:29.702445",
     "exception": false,
     "start_time": "2021-08-08T15:38:28.514789",
     "status": "completed"
    },
    "tags": []
   },
   "outputs": [],
   "source": [
    "NUMERIC_FEATURE =  ['age',\n",
    "            'exclClassCumGPA',\n",
    "            'termCreditsGPA',\n",
    "            'termCreditsNoGPA',\n",
    "            'highSchoolGPA', \n",
    "            'majorsCount', 'minorsCount',\n",
    "            'PREV_TERM_CUM_GPA',\n",
    "            'available_flashcards', \n",
    "            'days_offset', \n",
    "            'prev_time_elapsed',\n",
    "             'time_lag']\n",
    "# z-score normalize the numerical features\n",
    "for f in NUMERIC_FEATURE:\n",
    "  m = dataframe[f].mean()\n",
    "  std = dataframe[f].std()\n",
    "  dataframe[f] = (dataframe[f] - m)/std"
   ]
  },
  {
   "cell_type": "code",
   "execution_count": 20,
   "metadata": {
    "execution": {
     "iopub.execute_input": "2021-08-08T15:38:30.442835Z",
     "iopub.status.busy": "2021-08-08T15:38:30.442110Z",
     "iopub.status.idle": "2021-08-08T15:38:34.145500Z",
     "shell.execute_reply": "2021-08-08T15:38:34.144862Z",
     "shell.execute_reply.started": "2021-08-06T21:09:44.734371Z"
    },
    "id": "wo2OH-d5kWp1",
    "papermill": {
     "duration": 4.079695,
     "end_time": "2021-08-08T15:38:34.145657",
     "exception": false,
     "start_time": "2021-08-08T15:38:30.065962",
     "status": "completed"
    },
    "tags": []
   },
   "outputs": [],
   "source": [
    "FEATURE_TRANS =  ['answer_correct', 'chapter_label', 'sub_chapter_label','question_name','user_id','term',\n",
    "                  'STDNT_SEX_CD', \n",
    "                    'White','Asian','NonWhiteOrAsian',\n",
    "            'STDNT_CTZN_STAT_CD', 'international', \n",
    "            'age',\n",
    "            'exclClassCumGPA',\n",
    "           'Freshman',\n",
    "            'Junior',\n",
    "            'Sophomore',\n",
    "            'Senior',\n",
    "            'termCreditsGPA',\n",
    "            'termCreditsNoGPA',\n",
    "            'athlete_1',\n",
    "            'honorsPro',\n",
    "            'LSA', 'programBusiness', 'programEngineering', \n",
    "            'programInformation', 'programOther',\n",
    "            'HSCalculusTaken', \n",
    "            'highSchoolGPA', \n",
    "            'majorsCount', 'minorsCount',\n",
    "            'PREV_TERM_CUM_GPA',\n",
    "            'classGraded', 'classHonors', \n",
    "            'Pass_Fail', \n",
    "            'parentsGraduateEdu',  'minorityGroup', \n",
    "            'available_flashcards', \n",
    "            'days_offset', 'prev_time_elapsed',\n",
    "             'time_lag']\n",
    "grouped_data = dataframe[FEATURE_TRANS].groupby(['user_id']).apply(lambda r: (\n",
    "                r['answer_correct'],\n",
    "                r['term'],\n",
    "                r['chapter_label'],\n",
    "                r['sub_chapter_label'],\n",
    "                r['question_name'],\n",
    "                np.array([\n",
    "                    r['STDNT_SEX_CD'],r['STDNT_CTZN_STAT_CD'], r['international'], \n",
    "                  r['White'],r['Asian'],r['NonWhiteOrAsian'],\n",
    "                 r['age'],r['exclClassCumGPA'],\n",
    "                r['Freshman'], r['Junior'], r['Sophomore'], r['Senior'],\n",
    "                r['termCreditsGPA'], r['termCreditsNoGPA'],\n",
    "                r['athlete_1'], r['honorsPro'],\n",
    "                r['LSA'], r['programBusiness'], r['programEngineering'], \n",
    "                r['programInformation'], r['programOther'],\n",
    "                r['HSCalculusTaken'],  r['highSchoolGPA'], \n",
    "                r['majorsCount'], r['minorsCount'],\n",
    "                r['PREV_TERM_CUM_GPA'], \n",
    "                r['parentsGraduateEdu'], r['minorityGroup'],\n",
    "                r['available_flashcards'],\n",
    "                r['days_offset'],\n",
    "#                 r['prev_time_elapsed'],\n",
    "#                 r['time_lag']\n",
    "              ]).transpose()\n",
    "                ))"
   ]
  },
  {
   "cell_type": "code",
   "execution_count": 21,
   "metadata": {
    "execution": {
     "iopub.execute_input": "2021-08-08T15:38:35.155907Z",
     "iopub.status.busy": "2021-08-08T15:38:35.155206Z",
     "iopub.status.idle": "2021-08-08T15:38:35.159076Z",
     "shell.execute_reply": "2021-08-08T15:38:35.159595Z",
     "shell.execute_reply.started": "2021-08-06T21:09:45.792372Z"
    },
    "id": "XXLqQnjrlp_4",
    "outputId": "c801da79-f0bf-4fe5-b19c-7c799fe01556",
    "papermill": {
     "duration": 0.656748,
     "end_time": "2021-08-08T15:38:35.159772",
     "exception": false,
     "start_time": "2021-08-08T15:38:34.503024",
     "status": "completed"
    },
    "tags": []
   },
   "outputs": [
    {
     "data": {
      "text/plain": [
       "20"
      ]
     },
     "execution_count": 21,
     "metadata": {},
     "output_type": "execute_result"
    }
   ],
   "source": [
    "gc.collect()"
   ]
  },
  {
   "cell_type": "code",
   "execution_count": 22,
   "metadata": {
    "execution": {
     "iopub.execute_input": "2021-08-08T15:38:35.886076Z",
     "iopub.status.busy": "2021-08-08T15:38:35.885456Z",
     "iopub.status.idle": "2021-08-08T15:38:35.929110Z",
     "shell.execute_reply": "2021-08-08T15:38:35.929658Z",
     "shell.execute_reply.started": "2021-08-06T21:09:45.968869Z"
    },
    "id": "QYGQasdTrmP0",
    "papermill": {
     "duration": 0.406702,
     "end_time": "2021-08-08T15:38:35.929849",
     "exception": false,
     "start_time": "2021-08-08T15:38:35.523147",
     "status": "completed"
    },
    "tags": []
   },
   "outputs": [],
   "source": [
    "# remove students who don't have make any interactions with the tool\n",
    "toRemove = []\n",
    "for index in grouped_data.index:\n",
    "  if len(grouped_data[index][0]) <= 10:\n",
    "    toRemove.append(index)\n",
    "grouped_data = grouped_data.drop(index=toRemove)"
   ]
  },
  {
   "cell_type": "code",
   "execution_count": 23,
   "metadata": {
    "execution": {
     "iopub.execute_input": "2021-08-08T15:38:36.690777Z",
     "iopub.status.busy": "2021-08-08T15:38:36.690077Z",
     "iopub.status.idle": "2021-08-08T15:38:36.709674Z",
     "shell.execute_reply": "2021-08-08T15:38:36.710181Z",
     "shell.execute_reply.started": "2021-08-06T21:09:46.01428Z"
    },
    "papermill": {
     "duration": 0.414276,
     "end_time": "2021-08-08T15:38:36.710398",
     "exception": false,
     "start_time": "2021-08-08T15:38:36.296122",
     "status": "completed"
    },
    "tags": []
   },
   "outputs": [
    {
     "data": {
      "text/plain": [
       "count    1110.000000\n",
       "mean      550.263063\n",
       "std       201.281353\n",
       "min         2.000000\n",
       "25%       438.250000\n",
       "50%       520.500000\n",
       "75%       637.750000\n",
       "max      1500.000000\n",
       "Name: start_practice, dtype: float64"
      ]
     },
     "execution_count": 23,
     "metadata": {},
     "output_type": "execute_result"
    }
   ],
   "source": [
    "dataframe.groupby('user_id')['start_practice'].agg('count').describe()"
   ]
  },
  {
   "cell_type": "code",
   "execution_count": 24,
   "metadata": {
    "execution": {
     "iopub.execute_input": "2021-08-08T15:38:37.437581Z",
     "iopub.status.busy": "2021-08-08T15:38:37.436915Z",
     "iopub.status.idle": "2021-08-08T15:38:37.441611Z",
     "shell.execute_reply": "2021-08-08T15:38:37.442201Z",
     "shell.execute_reply.started": "2021-08-06T21:09:46.033627Z"
    },
    "papermill": {
     "duration": 0.367832,
     "end_time": "2021-08-08T15:38:37.442436",
     "exception": false,
     "start_time": "2021-08-08T15:38:37.074604",
     "status": "completed"
    },
    "tags": []
   },
   "outputs": [
    {
     "data": {
      "text/plain": [
       "['FA 2018:252', 'WN 2018:295']"
      ]
     },
     "execution_count": 24,
     "metadata": {},
     "output_type": "execute_result"
    }
   ],
   "source": [
    "toRemove"
   ]
  },
  {
   "cell_type": "code",
   "execution_count": 25,
   "metadata": {
    "execution": {
     "iopub.execute_input": "2021-08-08T15:38:38.170720Z",
     "iopub.status.busy": "2021-08-08T15:38:38.169765Z",
     "iopub.status.idle": "2021-08-08T15:38:38.172959Z",
     "shell.execute_reply": "2021-08-08T15:38:38.172306Z",
     "shell.execute_reply.started": "2021-08-06T21:09:46.04112Z"
    },
    "id": "9kZqV9siDyNb",
    "papermill": {
     "duration": 0.368506,
     "end_time": "2021-08-08T15:38:38.173113",
     "exception": false,
     "start_time": "2021-08-08T15:38:37.804607",
     "status": "completed"
    },
    "tags": []
   },
   "outputs": [],
   "source": [
    "#SETTINGS -> can be modified at any time\n",
    "MAXLENGTH = 400\n",
    "EMBEDDING_DIM = 128\n",
    "DENSE_NEURON = 16\n",
    "GRU_NEURON = 32"
   ]
  },
  {
   "cell_type": "code",
   "execution_count": 26,
   "metadata": {
    "execution": {
     "iopub.execute_input": "2021-08-08T15:38:38.901664Z",
     "iopub.status.busy": "2021-08-08T15:38:38.900948Z",
     "iopub.status.idle": "2021-08-08T15:38:38.903559Z",
     "shell.execute_reply": "2021-08-08T15:38:38.904009Z",
     "shell.execute_reply.started": "2021-08-06T21:09:46.049329Z"
    },
    "id": "1MksD1JizpPn",
    "papermill": {
     "duration": 0.370205,
     "end_time": "2021-08-08T15:38:38.904219",
     "exception": false,
     "start_time": "2021-08-08T15:38:38.534014",
     "status": "completed"
    },
    "tags": []
   },
   "outputs": [],
   "source": [
    "FEATURES_SIZE = 37\n",
    "CHAPTER_SIZE = 38\n",
    "SUB_CHAPTER_SIZE = 223\n",
    "QUESTION_SIZE = 1069"
   ]
  },
  {
   "cell_type": "code",
   "execution_count": 27,
   "metadata": {
    "execution": {
     "iopub.execute_input": "2021-08-08T15:38:39.628615Z",
     "iopub.status.busy": "2021-08-08T15:38:39.627643Z",
     "iopub.status.idle": "2021-08-08T15:38:39.638544Z",
     "shell.execute_reply": "2021-08-08T15:38:39.639052Z",
     "shell.execute_reply.started": "2021-08-06T21:09:46.057705Z"
    },
    "papermill": {
     "duration": 0.376341,
     "end_time": "2021-08-08T15:38:39.639240",
     "exception": false,
     "start_time": "2021-08-08T15:38:39.262899",
     "status": "completed"
    },
    "tags": []
   },
   "outputs": [
    {
     "data": {
      "text/plain": [
       "array([ 96,  86,  88,  28,  12,  82, 125,  32,  69,  33,  21, 115, 120,\n",
       "       119,  91,  73,  57,  77, 117,  40,  74,  41,  68,  39,  92,  47,\n",
       "       104,  95,  53,  49,  50,  16,  52,  55,   7,  15,  51, 102, 103,\n",
       "        11,  94, 108, 100,  17,  67,  63,  13, 139,  26,  25,   8, 107,\n",
       "         0,  90,  48,  54, 138,   1,   2,   3,  34,  35,  85,   5,  24,\n",
       "        37,  36,  78,  70,  45, 142,  71,  10,  89, 111, 112, 109, 116,\n",
       "        76,  72, 148, 134, 146, 221, 143,  56,  60,  61,  23, 140, 106,\n",
       "        42,  83,  22, 145, 136, 144,  38,   4,  19, 137,  75,  43,  98,\n",
       "        84, 113, 173, 174, 175, 176, 177, 178, 180, 181, 182, 187, 189,\n",
       "       190, 191, 192, 193, 195, 197, 151, 152, 153, 156, 157, 158, 159,\n",
       "       160, 161, 163, 164, 165, 166, 167, 168, 169, 170, 171, 172, 198,\n",
       "       199, 200, 201, 202, 203, 204, 205, 206, 207, 208, 209, 210, 162,\n",
       "       179, 186, 188, 194, 183, 184, 185, 211, 212, 213, 154, 155, 196,\n",
       "         6, 118,  18, 215,  46, 216, 141,  27, 217, 105, 123, 218, 101,\n",
       "       124, 219, 122, 220,  58,  59,  64,  20,  93,  65,  66,   9,  44,\n",
       "        30,  14,  79, 121,  31, 110, 129,  87,  97,  62, 149, 132, 131,\n",
       "       150, 130, 128,  99, 147, 127, 214, 135,  80, 126, 133,  81, 114,\n",
       "        29], dtype=int16)"
      ]
     },
     "execution_count": 27,
     "metadata": {},
     "output_type": "execute_result"
    }
   ],
   "source": [
    "dataframe['sub_chapter_label'].unique()"
   ]
  },
  {
   "cell_type": "code",
   "execution_count": 28,
   "metadata": {
    "execution": {
     "iopub.execute_input": "2021-08-08T15:38:40.378500Z",
     "iopub.status.busy": "2021-08-08T15:38:40.377768Z",
     "iopub.status.idle": "2021-08-08T15:38:41.436675Z",
     "shell.execute_reply": "2021-08-08T15:38:41.437161Z",
     "shell.execute_reply.started": "2021-08-06T21:09:46.074094Z"
    },
    "id": "mY3Thp6d0NaT",
    "papermill": {
     "duration": 1.437591,
     "end_time": "2021-08-08T15:38:41.437391",
     "exception": false,
     "start_time": "2021-08-08T15:38:39.999800",
     "status": "completed"
    },
    "tags": []
   },
   "outputs": [],
   "source": [
    "#create dataset class\n",
    "#to prepare it for train, valid, and test sets\n",
    "from torch.utils.data import Dataset, DataLoader\n",
    "class SPACE_DATASET(Dataset):\n",
    "    def __init__(self, data, maxlength = 400):\n",
    "        super(SPACE_DATASET, self).__init__()\n",
    "        self.maxlength = maxlength\n",
    "        self.data = data\n",
    "        self.users = list()\n",
    "        for user in data.index:\n",
    "            self.users.append(user)\n",
    "\n",
    "    def __len__(self):\n",
    "        return len(self.users)\n",
    "    \n",
    "    def __getitem__(self, ix):\n",
    "        user = self.users[ix]\n",
    "        user = user\n",
    "        target, term, ch_label, sub_ch_label, ques_name, features = self.data[user]\n",
    "        \n",
    "        #0s should be used as padding values\n",
    "        ori_target = target.values \n",
    "        term = term.values\n",
    "        ch_label = ch_label.values + 1\n",
    "        sub_ch_label = sub_ch_label.values +1\n",
    "        ques_name = ques_name.values + 1\n",
    "        \n",
    "        n = len(ch_label)\n",
    "\n",
    "        # one hot for term\n",
    "        term_encode = [0]*7\n",
    "        term_encode[term[0]] = 1\n",
    "        shifted_target= []\n",
    "\n",
    "        \n",
    "        # get  user interaction informations in the previous MAXLEN interactions\n",
    "        if n > self.maxlength:\n",
    "          ch_label = ch_label[-self.maxlength:]\n",
    "          sub_ch_label = sub_ch_label[-self.maxlength:]\n",
    "          ques_name = ques_name[-self.maxlength:]\n",
    "          features = features[-self.maxlength:]\n",
    "          target = ori_target[-self.maxlength:]\n",
    "          shifted_target = ori_target[ (-self.maxlength - 1) :-1]\n",
    "        else:\n",
    "          ch_label = [0]*(self.maxlength - n)+list(ch_label[:])\n",
    "          sub_ch_label = [0]*(self.maxlength - n)+list(sub_ch_label[:])\n",
    "          ques_name = [0]*(self.maxlength - n)+list(ques_name[:])\n",
    "          features = [[0]*len(features[0])]*(self.maxlength  - n)+list(features[:])\n",
    "          target = [-1]*(self.maxlength - n) + list(ori_target[:])\n",
    "          shifted_target = [2]*(self.maxlength + 1 - n) + list(ori_target[:-1])\n",
    "\n",
    "        new_features = []\n",
    "        count = 0\n",
    "        for f in features:\n",
    "          temp = list(f)\n",
    "          temp.extend(term_encode)\n",
    "          #temp.append(shifted_target[count]) #uncomment this line for include previous response feature\n",
    "          new_features.append(temp)\n",
    "          count += 1\n",
    "        features = new_features\n",
    "        return ch_label,sub_ch_label,ques_name,features, shifted_target, target"
   ]
  },
  {
   "cell_type": "code",
   "execution_count": 29,
   "metadata": {
    "execution": {
     "iopub.execute_input": "2021-08-08T15:38:42.157505Z",
     "iopub.status.busy": "2021-08-08T15:38:42.156807Z",
     "iopub.status.idle": "2021-08-08T15:38:42.162291Z",
     "shell.execute_reply": "2021-08-08T15:38:42.162798Z",
     "shell.execute_reply.started": "2021-08-06T21:09:47.310275Z"
    },
    "papermill": {
     "duration": 0.366101,
     "end_time": "2021-08-08T15:38:42.162968",
     "exception": false,
     "start_time": "2021-08-08T15:38:41.796867",
     "status": "completed"
    },
    "tags": []
   },
   "outputs": [
    {
     "data": {
      "text/plain": [
       "223"
      ]
     },
     "execution_count": 29,
     "metadata": {},
     "output_type": "execute_result"
    }
   ],
   "source": [
    "SUB_CHAPTER_SIZE"
   ]
  },
  {
   "cell_type": "markdown",
   "metadata": {
    "id": "4xc90-aLzxat",
    "papermill": {
     "duration": 0.360367,
     "end_time": "2021-08-08T15:38:42.883955",
     "exception": false,
     "start_time": "2021-08-08T15:38:42.523588",
     "status": "completed"
    },
    "tags": []
   },
   "source": [
    "## KFOLD - GRU\n"
   ]
  },
  {
   "cell_type": "code",
   "execution_count": 30,
   "metadata": {
    "execution": {
     "iopub.execute_input": "2021-08-08T15:38:43.623819Z",
     "iopub.status.busy": "2021-08-08T15:38:43.618636Z",
     "iopub.status.idle": "2021-08-08T15:44:16.398911Z",
     "shell.execute_reply": "2021-08-08T15:44:16.399853Z",
     "shell.execute_reply.started": "2021-08-06T21:09:47.318071Z"
    },
    "id": "gzJrljnjzypP",
    "outputId": "87abe488-b493-4f8f-9d71-45cb1d2ddf51",
    "papermill": {
     "duration": 333.151788,
     "end_time": "2021-08-08T15:44:16.400241",
     "exception": false,
     "start_time": "2021-08-08T15:38:43.248453",
     "status": "completed"
    },
    "tags": []
   },
   "outputs": [
    {
     "name": "stdout",
     "output_type": "stream",
     "text": [
      "Epoch 1/100\n",
      "14/14 [==============================] - 5s 240ms/step - loss: 0.5919 - masked_acc: 0.5624 - masked_auc: 0.5556 - val_loss: 0.4653 - val_masked_acc: 0.7102 - val_masked_auc: 0.7002\n",
      "Epoch 2/100\n",
      "14/14 [==============================] - 2s 168ms/step - loss: 0.4499 - masked_acc: 0.7228 - masked_auc: 0.7287 - val_loss: 0.4391 - val_masked_acc: 0.7421 - val_masked_auc: 0.7646\n",
      "Epoch 3/100\n",
      "14/14 [==============================] - 2s 153ms/step - loss: 0.4384 - masked_acc: 0.7459 - masked_auc: 0.7722 - val_loss: 0.4384 - val_masked_acc: 0.7536 - val_masked_auc: 0.7863\n",
      "Epoch 4/100\n",
      "14/14 [==============================] - 2s 158ms/step - loss: 0.4322 - masked_acc: 0.7552 - masked_auc: 0.7899 - val_loss: 0.4358 - val_masked_acc: 0.7593 - val_masked_auc: 0.7972\n",
      "Epoch 5/100\n",
      "14/14 [==============================] - 2s 157ms/step - loss: 0.4335 - masked_acc: 0.7599 - masked_auc: 0.7994 - val_loss: 0.4361 - val_masked_acc: 0.7628 - val_masked_auc: 0.8036\n",
      "Epoch 6/100\n",
      "14/14 [==============================] - 2s 154ms/step - loss: 0.4313 - masked_acc: 0.7634 - masked_auc: 0.8050 - val_loss: 0.4354 - val_masked_acc: 0.7651 - val_masked_auc: 0.8080\n",
      "Epoch 7/100\n",
      "14/14 [==============================] - 2s 155ms/step - loss: 0.4307 - masked_acc: 0.7655 - masked_auc: 0.8088 - val_loss: 0.4352 - val_masked_acc: 0.7668 - val_masked_auc: 0.8110\n",
      "Epoch 8/100\n",
      "14/14 [==============================] - 2s 158ms/step - loss: 0.4327 - masked_acc: 0.7671 - masked_auc: 0.8117 - val_loss: 0.4349 - val_masked_acc: 0.7680 - val_masked_auc: 0.8132\n",
      "Epoch 9/100\n",
      "14/14 [==============================] - 2s 157ms/step - loss: 0.4320 - masked_acc: 0.7682 - masked_auc: 0.8137 - val_loss: 0.4359 - val_masked_acc: 0.7689 - val_masked_auc: 0.8149\n",
      "Epoch 10/100\n",
      "14/14 [==============================] - 2s 155ms/step - loss: 0.4367 - masked_acc: 0.7689 - masked_auc: 0.8152 - val_loss: 0.4343 - val_masked_acc: 0.7697 - val_masked_auc: 0.8162\n",
      "Epoch 11/100\n",
      "14/14 [==============================] - 2s 156ms/step - loss: 0.4328 - masked_acc: 0.7698 - masked_auc: 0.8166 - val_loss: 0.4349 - val_masked_acc: 0.7703 - val_masked_auc: 0.8174\n",
      "Epoch 12/100\n",
      "14/14 [==============================] - 2s 150ms/step - loss: 0.4288 - masked_acc: 0.7704 - masked_auc: 0.8176 - val_loss: 0.4346 - val_masked_acc: 0.7709 - val_masked_auc: 0.8183\n",
      "Epoch 13/100\n",
      "14/14 [==============================] - 2s 146ms/step - loss: 0.4291 - masked_acc: 0.7710 - masked_auc: 0.8186 - val_loss: 0.4357 - val_masked_acc: 0.7713 - val_masked_auc: 0.8191\n",
      "Epoch 14/100\n",
      "14/14 [==============================] - 2s 148ms/step - loss: 0.4271 - masked_acc: 0.7714 - masked_auc: 0.8193 - val_loss: 0.4356 - val_masked_acc: 0.7717 - val_masked_auc: 0.8198\n",
      "Epoch 15/100\n",
      "14/14 [==============================] - 2s 154ms/step - loss: 0.4216 - masked_acc: 0.7719 - masked_auc: 0.8201 - val_loss: 0.4345 - val_masked_acc: 0.7721 - val_masked_auc: 0.8204\n",
      "Epoch 16/100\n",
      "14/14 [==============================] - 2s 152ms/step - loss: 0.4321 - masked_acc: 0.7720 - masked_auc: 0.8205 - val_loss: 0.4355 - val_masked_acc: 0.7723 - val_masked_auc: 0.8209\n",
      "Epoch 17/100\n",
      "14/14 [==============================] - 2s 151ms/step - loss: 0.4324 - masked_acc: 0.7723 - masked_auc: 0.8210 - val_loss: 0.4352 - val_masked_acc: 0.7726 - val_masked_auc: 0.8213\n",
      "Epoch 18/100\n",
      "14/14 [==============================] - 2s 149ms/step - loss: 0.4315 - masked_acc: 0.7726 - masked_auc: 0.8214 - val_loss: 0.4351 - val_masked_acc: 0.7728 - val_masked_auc: 0.8217\n",
      "Epoch 19/100\n",
      "14/14 [==============================] - 2s 150ms/step - loss: 0.4333 - masked_acc: 0.7728 - masked_auc: 0.8218 - val_loss: 0.4356 - val_masked_acc: 0.7730 - val_masked_auc: 0.8221\n",
      "Epoch 20/100\n",
      "14/14 [==============================] - 2s 148ms/step - loss: 0.4282 - masked_acc: 0.7731 - masked_auc: 0.8222 - val_loss: 0.4346 - val_masked_acc: 0.7732 - val_masked_auc: 0.8225\n",
      "28/28 [==============================] - 1s 34ms/step - loss: 0.4284 - masked_acc: 0.7736 - masked_auc: 0.8228\n",
      "4/4 [==============================] - 0s 30ms/step - loss: 0.4362 - masked_acc: 0.7735 - masked_auc: 0.8228\n",
      "Test:  [0.43617942929267883, 0.7734513282775879, 0.8227863311767578]\n",
      "Epoch 1/100\n",
      "14/14 [==============================] - 4s 197ms/step - loss: 0.5774 - masked_acc: 0.6070 - masked_auc: 0.5372 - val_loss: 0.4461 - val_masked_acc: 0.7222 - val_masked_auc: 0.7125\n",
      "Epoch 2/100\n",
      "14/14 [==============================] - 2s 147ms/step - loss: 0.4553 - masked_acc: 0.7317 - masked_auc: 0.7357 - val_loss: 0.4326 - val_masked_acc: 0.7483 - val_masked_auc: 0.7689\n",
      "Epoch 3/100\n",
      "14/14 [==============================] - 2s 149ms/step - loss: 0.4385 - masked_acc: 0.7508 - masked_auc: 0.7762 - val_loss: 0.4266 - val_masked_acc: 0.7570 - val_masked_auc: 0.7886\n",
      "Epoch 4/100\n",
      "14/14 [==============================] - 2s 164ms/step - loss: 0.4339 - masked_acc: 0.7584 - masked_auc: 0.7921 - val_loss: 0.4247 - val_masked_acc: 0.7618 - val_masked_auc: 0.7988\n",
      "Epoch 5/100\n",
      "14/14 [==============================] - 2s 147ms/step - loss: 0.4286 - masked_acc: 0.7624 - masked_auc: 0.8006 - val_loss: 0.4240 - val_masked_acc: 0.7646 - val_masked_auc: 0.8048\n",
      "Epoch 6/100\n",
      "14/14 [==============================] - 2s 152ms/step - loss: 0.4326 - masked_acc: 0.7650 - masked_auc: 0.8061 - val_loss: 0.4250 - val_masked_acc: 0.7666 - val_masked_auc: 0.8087\n",
      "Epoch 7/100\n",
      "14/14 [==============================] - 2s 151ms/step - loss: 0.4308 - masked_acc: 0.7668 - masked_auc: 0.8097 - val_loss: 0.4250 - val_masked_acc: 0.7679 - val_masked_auc: 0.8115\n",
      "Epoch 8/100\n",
      "14/14 [==============================] - 2s 149ms/step - loss: 0.4340 - masked_acc: 0.7680 - masked_auc: 0.8120 - val_loss: 0.4245 - val_masked_acc: 0.7690 - val_masked_auc: 0.8135\n",
      "Epoch 9/100\n",
      "14/14 [==============================] - 2s 146ms/step - loss: 0.4326 - masked_acc: 0.7690 - masked_auc: 0.8141 - val_loss: 0.4233 - val_masked_acc: 0.7698 - val_masked_auc: 0.8151\n",
      "Epoch 10/100\n",
      "14/14 [==============================] - 2s 148ms/step - loss: 0.4331 - masked_acc: 0.7698 - masked_auc: 0.8155 - val_loss: 0.4238 - val_masked_acc: 0.7704 - val_masked_auc: 0.8164\n",
      "Epoch 11/100\n",
      "14/14 [==============================] - 2s 152ms/step - loss: 0.4252 - masked_acc: 0.7706 - masked_auc: 0.8167 - val_loss: 0.4242 - val_masked_acc: 0.7710 - val_masked_auc: 0.8174\n",
      "Epoch 12/100\n",
      "14/14 [==============================] - 2s 148ms/step - loss: 0.4323 - masked_acc: 0.7711 - masked_auc: 0.8175 - val_loss: 0.4249 - val_masked_acc: 0.7715 - val_masked_auc: 0.8182\n",
      "Epoch 13/100\n",
      "14/14 [==============================] - 2s 151ms/step - loss: 0.4333 - masked_acc: 0.7715 - masked_auc: 0.8184 - val_loss: 0.4241 - val_masked_acc: 0.7718 - val_masked_auc: 0.8189\n",
      "Epoch 14/100\n",
      "14/14 [==============================] - 2s 160ms/step - loss: 0.4407 - masked_acc: 0.7717 - masked_auc: 0.8189 - val_loss: 0.4237 - val_masked_acc: 0.7721 - val_masked_auc: 0.8195\n",
      "Epoch 15/100\n",
      "14/14 [==============================] - 2s 147ms/step - loss: 0.4280 - masked_acc: 0.7722 - masked_auc: 0.8196 - val_loss: 0.4245 - val_masked_acc: 0.7725 - val_masked_auc: 0.8200\n",
      "Epoch 16/100\n",
      "14/14 [==============================] - 2s 151ms/step - loss: 0.4350 - masked_acc: 0.7724 - masked_auc: 0.8201 - val_loss: 0.4251 - val_masked_acc: 0.7727 - val_masked_auc: 0.8205\n",
      "Epoch 17/100\n",
      "14/14 [==============================] - 2s 151ms/step - loss: 0.4330 - masked_acc: 0.7727 - masked_auc: 0.8205 - val_loss: 0.4242 - val_masked_acc: 0.7729 - val_masked_auc: 0.8209\n",
      "Epoch 18/100\n",
      "14/14 [==============================] - 2s 150ms/step - loss: 0.4350 - masked_acc: 0.7729 - masked_auc: 0.8210 - val_loss: 0.4241 - val_masked_acc: 0.7731 - val_masked_auc: 0.8213\n",
      "Epoch 19/100\n",
      "14/14 [==============================] - 2s 152ms/step - loss: 0.4290 - masked_acc: 0.7731 - masked_auc: 0.8214 - val_loss: 0.4241 - val_masked_acc: 0.7733 - val_masked_auc: 0.8216\n",
      "28/28 [==============================] - 1s 37ms/step - loss: 0.4314 - masked_acc: 0.7736 - masked_auc: 0.8219\n",
      "4/4 [==============================] - 0s 31ms/step - loss: 0.4316 - masked_acc: 0.7733 - masked_auc: 0.8219\n",
      "Test:  [0.4315876364707947, 0.7733361721038818, 0.8218574523925781]\n",
      "Epoch 1/100\n",
      "14/14 [==============================] - 4s 190ms/step - loss: 0.5645 - masked_acc: 0.6342 - masked_auc: 0.5611 - val_loss: 0.4777 - val_masked_acc: 0.7252 - val_masked_auc: 0.7227\n",
      "Epoch 2/100\n",
      "14/14 [==============================] - 2s 151ms/step - loss: 0.4456 - masked_acc: 0.7349 - masked_auc: 0.7458 - val_loss: 0.4637 - val_masked_acc: 0.7492 - val_masked_auc: 0.7741\n",
      "Epoch 3/100\n",
      "14/14 [==============================] - 2s 148ms/step - loss: 0.4330 - masked_acc: 0.7519 - masked_auc: 0.7802 - val_loss: 0.4602 - val_masked_acc: 0.7573 - val_masked_auc: 0.7918\n",
      "Epoch 4/100\n",
      "14/14 [==============================] - 2s 159ms/step - loss: 0.4321 - masked_acc: 0.7586 - masked_auc: 0.7951 - val_loss: 0.4570 - val_masked_acc: 0.7616 - val_masked_auc: 0.8009\n",
      "Epoch 5/100\n",
      "14/14 [==============================] - 2s 149ms/step - loss: 0.4326 - masked_acc: 0.7621 - masked_auc: 0.8027 - val_loss: 0.4584 - val_masked_acc: 0.7643 - val_masked_auc: 0.8062\n",
      "Epoch 6/100\n",
      "14/14 [==============================] - 2s 147ms/step - loss: 0.4280 - masked_acc: 0.7648 - masked_auc: 0.8076 - val_loss: 0.4579 - val_masked_acc: 0.7660 - val_masked_auc: 0.8098\n",
      "Epoch 7/100\n",
      "14/14 [==============================] - 2s 152ms/step - loss: 0.4327 - masked_acc: 0.7662 - masked_auc: 0.8105 - val_loss: 0.4583 - val_masked_acc: 0.7672 - val_masked_auc: 0.8123\n",
      "Epoch 8/100\n",
      "14/14 [==============================] - 2s 149ms/step - loss: 0.4263 - masked_acc: 0.7675 - masked_auc: 0.8130 - val_loss: 0.4571 - val_masked_acc: 0.7682 - val_masked_auc: 0.8142\n",
      "Epoch 9/100\n",
      "14/14 [==============================] - 2s 146ms/step - loss: 0.4343 - masked_acc: 0.7683 - masked_auc: 0.8146 - val_loss: 0.4583 - val_masked_acc: 0.7690 - val_masked_auc: 0.8156\n",
      "Epoch 10/100\n",
      "14/14 [==============================] - 2s 149ms/step - loss: 0.4286 - masked_acc: 0.7691 - masked_auc: 0.8160 - val_loss: 0.4569 - val_masked_acc: 0.7695 - val_masked_auc: 0.8168\n",
      "Epoch 11/100\n",
      "14/14 [==============================] - 2s 148ms/step - loss: 0.4303 - masked_acc: 0.7696 - masked_auc: 0.8171 - val_loss: 0.4571 - val_masked_acc: 0.7700 - val_masked_auc: 0.8177\n",
      "Epoch 12/100\n",
      "14/14 [==============================] - 2s 165ms/step - loss: 0.4271 - masked_acc: 0.7701 - masked_auc: 0.8180 - val_loss: 0.4567 - val_masked_acc: 0.7705 - val_masked_auc: 0.8185\n",
      "Epoch 13/100\n",
      "14/14 [==============================] - 2s 147ms/step - loss: 0.4340 - masked_acc: 0.7705 - masked_auc: 0.8186 - val_loss: 0.4573 - val_masked_acc: 0.7708 - val_masked_auc: 0.8191\n",
      "Epoch 14/100\n",
      "14/14 [==============================] - 2s 149ms/step - loss: 0.4305 - masked_acc: 0.7708 - masked_auc: 0.8193 - val_loss: 0.4565 - val_masked_acc: 0.7711 - val_masked_auc: 0.8197\n",
      "Epoch 15/100\n",
      "14/14 [==============================] - 2s 147ms/step - loss: 0.4272 - masked_acc: 0.7712 - masked_auc: 0.8199 - val_loss: 0.4591 - val_masked_acc: 0.7714 - val_masked_auc: 0.8202\n",
      "Epoch 16/100\n",
      "14/14 [==============================] - 2s 151ms/step - loss: 0.4309 - masked_acc: 0.7714 - masked_auc: 0.8204 - val_loss: 0.4576 - val_masked_acc: 0.7716 - val_masked_auc: 0.8206\n",
      "Epoch 17/100\n",
      "14/14 [==============================] - 2s 147ms/step - loss: 0.4327 - masked_acc: 0.7716 - masked_auc: 0.8206 - val_loss: 0.4581 - val_masked_acc: 0.7718 - val_masked_auc: 0.8209\n",
      "Epoch 18/100\n",
      "14/14 [==============================] - 2s 150ms/step - loss: 0.4307 - masked_acc: 0.7718 - masked_auc: 0.8210 - val_loss: 0.4589 - val_masked_acc: 0.7720 - val_masked_auc: 0.8213\n",
      "Epoch 19/100\n",
      "14/14 [==============================] - 2s 162ms/step - loss: 0.4244 - masked_acc: 0.7720 - masked_auc: 0.8213 - val_loss: 0.4568 - val_masked_acc: 0.7721 - val_masked_auc: 0.8215\n",
      "Epoch 20/100\n",
      "14/14 [==============================] - 2s 151ms/step - loss: 0.4283 - masked_acc: 0.7721 - masked_auc: 0.8216 - val_loss: 0.4573 - val_masked_acc: 0.7722 - val_masked_auc: 0.8218\n",
      "Epoch 21/100\n",
      "14/14 [==============================] - 2s 148ms/step - loss: 0.4373 - masked_acc: 0.7722 - masked_auc: 0.8218 - val_loss: 0.4572 - val_masked_acc: 0.7724 - val_masked_auc: 0.8220\n",
      "Epoch 22/100\n",
      "14/14 [==============================] - 2s 148ms/step - loss: 0.4328 - masked_acc: 0.7723 - masked_auc: 0.8221 - val_loss: 0.4575 - val_masked_acc: 0.7725 - val_masked_auc: 0.8222\n",
      "Epoch 23/100\n",
      "14/14 [==============================] - 2s 155ms/step - loss: 0.4311 - masked_acc: 0.7725 - masked_auc: 0.8222 - val_loss: 0.4570 - val_masked_acc: 0.7726 - val_masked_auc: 0.8224\n",
      "Epoch 24/100\n",
      "14/14 [==============================] - 2s 148ms/step - loss: 0.4271 - masked_acc: 0.7726 - masked_auc: 0.8224 - val_loss: 0.4573 - val_masked_acc: 0.7727 - val_masked_auc: 0.8226\n",
      "28/28 [==============================] - 1s 34ms/step - loss: 0.4281 - masked_acc: 0.7729 - masked_auc: 0.8229\n",
      "4/4 [==============================] - 0s 30ms/step - loss: 0.4150 - masked_acc: 0.7729 - masked_auc: 0.8229\n",
      "Test:  [0.41504985094070435, 0.7728535532951355, 0.8229106664657593]\n",
      "Epoch 1/100\n",
      "14/14 [==============================] - 4s 199ms/step - loss: 0.5613 - masked_acc: 0.6233 - masked_auc: 0.5728 - val_loss: 0.4512 - val_masked_acc: 0.7251 - val_masked_auc: 0.7240\n",
      "Epoch 2/100\n",
      "14/14 [==============================] - 2s 151ms/step - loss: 0.4508 - masked_acc: 0.7337 - masked_auc: 0.7452 - val_loss: 0.4373 - val_masked_acc: 0.7494 - val_masked_auc: 0.7740\n",
      "Epoch 3/100\n",
      "14/14 [==============================] - 2s 164ms/step - loss: 0.4367 - masked_acc: 0.7518 - masked_auc: 0.7804 - val_loss: 0.4324 - val_masked_acc: 0.7576 - val_masked_auc: 0.7918\n",
      "Epoch 4/100\n",
      "14/14 [==============================] - 2s 151ms/step - loss: 0.4309 - masked_acc: 0.7592 - masked_auc: 0.7951 - val_loss: 0.4308 - val_masked_acc: 0.7620 - val_masked_auc: 0.8008\n",
      "Epoch 5/100\n",
      "14/14 [==============================] - 2s 146ms/step - loss: 0.4296 - masked_acc: 0.7626 - masked_auc: 0.8024 - val_loss: 0.4303 - val_masked_acc: 0.7647 - val_masked_auc: 0.8062\n",
      "Epoch 6/100\n",
      "14/14 [==============================] - 2s 150ms/step - loss: 0.4328 - masked_acc: 0.7653 - masked_auc: 0.8075 - val_loss: 0.4322 - val_masked_acc: 0.7665 - val_masked_auc: 0.8097\n",
      "Epoch 7/100\n",
      "14/14 [==============================] - 2s 151ms/step - loss: 0.4364 - masked_acc: 0.7666 - masked_auc: 0.8104 - val_loss: 0.4314 - val_masked_acc: 0.7678 - val_masked_auc: 0.8122\n",
      "Epoch 8/100\n",
      "14/14 [==============================] - 2s 151ms/step - loss: 0.4316 - masked_acc: 0.7679 - masked_auc: 0.8127 - val_loss: 0.4298 - val_masked_acc: 0.7688 - val_masked_auc: 0.8140\n",
      "Epoch 9/100\n",
      "14/14 [==============================] - 2s 150ms/step - loss: 0.4344 - masked_acc: 0.7688 - masked_auc: 0.8144 - val_loss: 0.4304 - val_masked_acc: 0.7696 - val_masked_auc: 0.8155\n",
      "Epoch 10/100\n",
      "14/14 [==============================] - 2s 147ms/step - loss: 0.4320 - masked_acc: 0.7696 - masked_auc: 0.8158 - val_loss: 0.4296 - val_masked_acc: 0.7702 - val_masked_auc: 0.8167\n",
      "Epoch 11/100\n",
      "14/14 [==============================] - 2s 153ms/step - loss: 0.4299 - masked_acc: 0.7703 - masked_auc: 0.8170 - val_loss: 0.4302 - val_masked_acc: 0.7708 - val_masked_auc: 0.8177\n",
      "Epoch 12/100\n",
      "14/14 [==============================] - 2s 152ms/step - loss: 0.4280 - masked_acc: 0.7708 - masked_auc: 0.8179 - val_loss: 0.4307 - val_masked_acc: 0.7712 - val_masked_auc: 0.8185\n",
      "Epoch 13/100\n",
      "14/14 [==============================] - 2s 153ms/step - loss: 0.4269 - masked_acc: 0.7713 - masked_auc: 0.8186 - val_loss: 0.4296 - val_masked_acc: 0.7716 - val_masked_auc: 0.8192\n",
      "Epoch 14/100\n",
      "14/14 [==============================] - 2s 148ms/step - loss: 0.4263 - masked_acc: 0.7717 - masked_auc: 0.8194 - val_loss: 0.4309 - val_masked_acc: 0.7719 - val_masked_auc: 0.8197\n",
      "Epoch 15/100\n",
      "14/14 [==============================] - 2s 148ms/step - loss: 0.4289 - masked_acc: 0.7719 - masked_auc: 0.8198 - val_loss: 0.4296 - val_masked_acc: 0.7722 - val_masked_auc: 0.8202\n",
      "Epoch 16/100\n",
      "14/14 [==============================] - 2s 147ms/step - loss: 0.4280 - masked_acc: 0.7722 - masked_auc: 0.8203 - val_loss: 0.4328 - val_masked_acc: 0.7724 - val_masked_auc: 0.8206\n",
      "Epoch 17/100\n",
      "14/14 [==============================] - 2s 152ms/step - loss: 0.4344 - masked_acc: 0.7723 - masked_auc: 0.8207 - val_loss: 0.4299 - val_masked_acc: 0.7726 - val_masked_auc: 0.8210\n",
      "Epoch 18/100\n",
      "14/14 [==============================] - 2s 164ms/step - loss: 0.4285 - masked_acc: 0.7726 - masked_auc: 0.8211 - val_loss: 0.4295 - val_masked_acc: 0.7728 - val_masked_auc: 0.8213\n",
      "Epoch 19/100\n",
      "14/14 [==============================] - 2s 163ms/step - loss: 0.4264 - masked_acc: 0.7728 - masked_auc: 0.8214 - val_loss: 0.4306 - val_masked_acc: 0.7730 - val_masked_auc: 0.8216\n",
      "Epoch 20/100\n",
      "14/14 [==============================] - 2s 148ms/step - loss: 0.4323 - masked_acc: 0.7729 - masked_auc: 0.8217 - val_loss: 0.4320 - val_masked_acc: 0.7731 - val_masked_auc: 0.8218\n",
      "Epoch 21/100\n",
      "14/14 [==============================] - 2s 151ms/step - loss: 0.4335 - masked_acc: 0.7731 - masked_auc: 0.8218 - val_loss: 0.4330 - val_masked_acc: 0.7732 - val_masked_auc: 0.8220\n",
      "Epoch 22/100\n",
      "14/14 [==============================] - 2s 151ms/step - loss: 0.4335 - masked_acc: 0.7732 - masked_auc: 0.8220 - val_loss: 0.4304 - val_masked_acc: 0.7733 - val_masked_auc: 0.8223\n",
      "Epoch 23/100\n",
      "14/14 [==============================] - 2s 152ms/step - loss: 0.4282 - masked_acc: 0.7734 - masked_auc: 0.8223 - val_loss: 0.4302 - val_masked_acc: 0.7735 - val_masked_auc: 0.8225\n",
      "Epoch 24/100\n",
      "14/14 [==============================] - 2s 155ms/step - loss: 0.4368 - masked_acc: 0.7734 - masked_auc: 0.8225 - val_loss: 0.4293 - val_masked_acc: 0.7736 - val_masked_auc: 0.8227\n",
      "Epoch 25/100\n",
      "14/14 [==============================] - 2s 147ms/step - loss: 0.4279 - masked_acc: 0.7736 - masked_auc: 0.8227 - val_loss: 0.4312 - val_masked_acc: 0.7737 - val_masked_auc: 0.8228\n",
      "Epoch 26/100\n",
      "14/14 [==============================] - 2s 152ms/step - loss: 0.4313 - masked_acc: 0.7736 - masked_auc: 0.8229 - val_loss: 0.4297 - val_masked_acc: 0.7738 - val_masked_auc: 0.8230\n",
      "Epoch 27/100\n",
      "14/14 [==============================] - 2s 149ms/step - loss: 0.4304 - masked_acc: 0.7738 - masked_auc: 0.8230 - val_loss: 0.4316 - val_masked_acc: 0.7739 - val_masked_auc: 0.8232\n",
      "Epoch 28/100\n",
      "14/14 [==============================] - 2s 148ms/step - loss: 0.4233 - masked_acc: 0.7739 - masked_auc: 0.8232 - val_loss: 0.4304 - val_masked_acc: 0.7739 - val_masked_auc: 0.8233\n",
      "Epoch 29/100\n",
      "14/14 [==============================] - 2s 153ms/step - loss: 0.4319 - masked_acc: 0.7739 - masked_auc: 0.8233 - val_loss: 0.4304 - val_masked_acc: 0.7740 - val_masked_auc: 0.8234\n",
      "Epoch 30/100\n",
      "14/14 [==============================] - 2s 152ms/step - loss: 0.4331 - masked_acc: 0.7740 - masked_auc: 0.8234 - val_loss: 0.4299 - val_masked_acc: 0.7741 - val_masked_auc: 0.8236\n",
      "Epoch 31/100\n",
      "14/14 [==============================] - 2s 148ms/step - loss: 0.4347 - masked_acc: 0.7740 - masked_auc: 0.8235 - val_loss: 0.4300 - val_masked_acc: 0.7742 - val_masked_auc: 0.8237\n",
      "Epoch 32/100\n",
      "14/14 [==============================] - 2s 151ms/step - loss: 0.4307 - masked_acc: 0.7741 - masked_auc: 0.8237 - val_loss: 0.4291 - val_masked_acc: 0.7742 - val_masked_auc: 0.8238\n",
      "Epoch 33/100\n",
      "14/14 [==============================] - 2s 164ms/step - loss: 0.4360 - masked_acc: 0.7742 - masked_auc: 0.8238 - val_loss: 0.4299 - val_masked_acc: 0.7743 - val_masked_auc: 0.8239\n",
      "Epoch 34/100\n",
      "14/14 [==============================] - 2s 145ms/step - loss: 0.4297 - masked_acc: 0.7743 - masked_auc: 0.8239 - val_loss: 0.4295 - val_masked_acc: 0.7743 - val_masked_auc: 0.8240\n",
      "Epoch 35/100\n",
      "14/14 [==============================] - 2s 152ms/step - loss: 0.4317 - masked_acc: 0.7743 - masked_auc: 0.8240 - val_loss: 0.4294 - val_masked_acc: 0.7744 - val_masked_auc: 0.8241\n",
      "Epoch 36/100\n",
      "14/14 [==============================] - 2s 150ms/step - loss: 0.4340 - masked_acc: 0.7744 - masked_auc: 0.8241 - val_loss: 0.4288 - val_masked_acc: 0.7745 - val_masked_auc: 0.8242\n",
      "Epoch 37/100\n",
      "14/14 [==============================] - 2s 147ms/step - loss: 0.4274 - masked_acc: 0.7745 - masked_auc: 0.8242 - val_loss: 0.4298 - val_masked_acc: 0.7745 - val_masked_auc: 0.8243\n",
      "Epoch 38/100\n",
      "14/14 [==============================] - 2s 162ms/step - loss: 0.4299 - masked_acc: 0.7745 - masked_auc: 0.8243 - val_loss: 0.4296 - val_masked_acc: 0.7746 - val_masked_auc: 0.8244\n",
      "Epoch 39/100\n",
      "14/14 [==============================] - 2s 148ms/step - loss: 0.4313 - masked_acc: 0.7745 - masked_auc: 0.8244 - val_loss: 0.4296 - val_masked_acc: 0.7746 - val_masked_auc: 0.8244\n",
      "Epoch 40/100\n",
      "14/14 [==============================] - 2s 152ms/step - loss: 0.4316 - masked_acc: 0.7746 - masked_auc: 0.8245 - val_loss: 0.4306 - val_masked_acc: 0.7747 - val_masked_auc: 0.8245\n",
      "Epoch 41/100\n",
      "14/14 [==============================] - 2s 151ms/step - loss: 0.4269 - masked_acc: 0.7747 - masked_auc: 0.8246 - val_loss: 0.4296 - val_masked_acc: 0.7747 - val_masked_auc: 0.8246\n",
      "Epoch 42/100\n",
      "14/14 [==============================] - 2s 148ms/step - loss: 0.4289 - masked_acc: 0.7747 - masked_auc: 0.8246 - val_loss: 0.4301 - val_masked_acc: 0.7747 - val_masked_auc: 0.8247\n",
      "Epoch 43/100\n",
      "14/14 [==============================] - 2s 152ms/step - loss: 0.4345 - masked_acc: 0.7747 - masked_auc: 0.8246 - val_loss: 0.4305 - val_masked_acc: 0.7748 - val_masked_auc: 0.8247\n",
      "Epoch 44/100\n",
      "14/14 [==============================] - 2s 150ms/step - loss: 0.4282 - masked_acc: 0.7748 - masked_auc: 0.8247 - val_loss: 0.4294 - val_masked_acc: 0.7748 - val_masked_auc: 0.8248\n",
      "Epoch 45/100\n",
      "14/14 [==============================] - 2s 149ms/step - loss: 0.4345 - masked_acc: 0.7748 - masked_auc: 0.8248 - val_loss: 0.4296 - val_masked_acc: 0.7748 - val_masked_auc: 0.8249\n",
      "Epoch 46/100\n",
      "14/14 [==============================] - 2s 150ms/step - loss: 0.4288 - masked_acc: 0.7748 - masked_auc: 0.8249 - val_loss: 0.4304 - val_masked_acc: 0.7749 - val_masked_auc: 0.8249\n",
      "28/28 [==============================] - 1s 34ms/step - loss: 0.4306 - masked_acc: 0.7750 - masked_auc: 0.8250\n",
      "4/4 [==============================] - 0s 28ms/step - loss: 0.4281 - masked_acc: 0.7749 - masked_auc: 0.8250\n",
      "Test:  [0.4281165599822998, 0.7749157547950745, 0.8249724507331848]\n",
      "Epoch 1/100\n",
      "14/14 [==============================] - 4s 199ms/step - loss: 0.5667 - masked_acc: 0.6413 - masked_auc: 0.5654 - val_loss: 0.4802 - val_masked_acc: 0.7271 - val_masked_auc: 0.7200\n",
      "Epoch 2/100\n",
      "14/14 [==============================] - 2s 150ms/step - loss: 0.4486 - masked_acc: 0.7354 - masked_auc: 0.7408 - val_loss: 0.4614 - val_masked_acc: 0.7501 - val_masked_auc: 0.7728\n",
      "Epoch 3/100\n",
      "14/14 [==============================] - 2s 157ms/step - loss: 0.4321 - masked_acc: 0.7528 - masked_auc: 0.7795 - val_loss: 0.4585 - val_masked_acc: 0.7583 - val_masked_auc: 0.7911\n",
      "Epoch 4/100\n",
      "14/14 [==============================] - 2s 148ms/step - loss: 0.4323 - masked_acc: 0.7595 - masked_auc: 0.7944 - val_loss: 0.4569 - val_masked_acc: 0.7624 - val_masked_auc: 0.8004\n",
      "Epoch 5/100\n",
      "14/14 [==============================] - 2s 146ms/step - loss: 0.4313 - masked_acc: 0.7631 - masked_auc: 0.8022 - val_loss: 0.4556 - val_masked_acc: 0.7651 - val_masked_auc: 0.8059\n",
      "Epoch 6/100\n",
      "14/14 [==============================] - 2s 148ms/step - loss: 0.4209 - masked_acc: 0.7660 - masked_auc: 0.8074 - val_loss: 0.4565 - val_masked_acc: 0.7670 - val_masked_auc: 0.8096\n",
      "Epoch 7/100\n",
      "14/14 [==============================] - 2s 149ms/step - loss: 0.4251 - masked_acc: 0.7674 - masked_auc: 0.8106 - val_loss: 0.4553 - val_masked_acc: 0.7682 - val_masked_auc: 0.8122\n",
      "Epoch 8/100\n",
      "14/14 [==============================] - 2s 148ms/step - loss: 0.4289 - masked_acc: 0.7683 - masked_auc: 0.8127 - val_loss: 0.4561 - val_masked_acc: 0.7691 - val_masked_auc: 0.8141\n",
      "Epoch 9/100\n",
      "14/14 [==============================] - 2s 148ms/step - loss: 0.4251 - masked_acc: 0.7693 - masked_auc: 0.8145 - val_loss: 0.4569 - val_masked_acc: 0.7698 - val_masked_auc: 0.8156\n",
      "Epoch 10/100\n",
      "14/14 [==============================] - 2s 145ms/step - loss: 0.4234 - masked_acc: 0.7701 - masked_auc: 0.8160 - val_loss: 0.4564 - val_masked_acc: 0.7705 - val_masked_auc: 0.8167\n",
      "Epoch 11/100\n",
      "14/14 [==============================] - 2s 153ms/step - loss: 0.4294 - masked_acc: 0.7705 - masked_auc: 0.8169 - val_loss: 0.4561 - val_masked_acc: 0.7710 - val_masked_auc: 0.8176\n",
      "Epoch 12/100\n",
      "14/14 [==============================] - 2s 167ms/step - loss: 0.4247 - masked_acc: 0.7710 - masked_auc: 0.8179 - val_loss: 0.4559 - val_masked_acc: 0.7713 - val_masked_auc: 0.8184\n",
      "Epoch 13/100\n",
      "14/14 [==============================] - 2s 153ms/step - loss: 0.4265 - masked_acc: 0.7714 - masked_auc: 0.8187 - val_loss: 0.4560 - val_masked_acc: 0.7717 - val_masked_auc: 0.8191\n",
      "Epoch 14/100\n",
      "14/14 [==============================] - 2s 152ms/step - loss: 0.4286 - masked_acc: 0.7718 - masked_auc: 0.8193 - val_loss: 0.4569 - val_masked_acc: 0.7720 - val_masked_auc: 0.8197\n",
      "Epoch 15/100\n",
      "14/14 [==============================] - 2s 161ms/step - loss: 0.4327 - masked_acc: 0.7720 - masked_auc: 0.8198 - val_loss: 0.4561 - val_masked_acc: 0.7722 - val_masked_auc: 0.8201\n",
      "Epoch 16/100\n",
      "14/14 [==============================] - 2s 148ms/step - loss: 0.4296 - masked_acc: 0.7722 - masked_auc: 0.8202 - val_loss: 0.4561 - val_masked_acc: 0.7724 - val_masked_auc: 0.8206\n",
      "Epoch 17/100\n",
      "14/14 [==============================] - 2s 152ms/step - loss: 0.4264 - masked_acc: 0.7724 - masked_auc: 0.8207 - val_loss: 0.4559 - val_masked_acc: 0.7726 - val_masked_auc: 0.8210\n",
      "28/28 [==============================] - 1s 35ms/step - loss: 0.4277 - masked_acc: 0.7730 - masked_auc: 0.8214\n",
      "4/4 [==============================] - 0s 30ms/step - loss: 0.4215 - masked_acc: 0.7729 - masked_auc: 0.8215\n",
      "Test:  [0.4215153753757477, 0.7728830575942993, 0.8214892148971558]\n"
     ]
    }
   ],
   "source": [
    "# 5 fold cross validation with LSTM-based model\n",
    "import torch\n",
    "X = np.array(grouped_data.keys())\n",
    "kfold = KFold(n_splits=5, shuffle=True)\n",
    "train_losses = list()\n",
    "train_aucs = list()\n",
    "val_losses = list()\n",
    "val_aucs = list()\n",
    "train_eval = list()\n",
    "test_eval = list()\n",
    "for train, test in kfold.split(X):\n",
    "    users_train, users_test =  X[train], X[test]\n",
    "    n = len(users_test)//2\n",
    "    users_test, users_val = users_test[:n], users_test[n: ]\n",
    "    train_data_space = SPACE_DATASET(grouped_data[users_train], MAXLENGTH)\n",
    "    val_data_space = SPACE_DATASET(grouped_data[users_val], MAXLENGTH)\n",
    "    test_data_space = SPACE_DATASET(grouped_data[users_test], MAXLENGTH)\n",
    "    #construct training input\n",
    "    train_chapter=[]\n",
    "    train_sub_chapter=[]\n",
    "    train_question = []\n",
    "    train_features=[]\n",
    "    train_shifted_t = []\n",
    "    train_labels=[]\n",
    "    for i in range(len(users_train)):\n",
    "        user = train_data_space.__getitem__(i)\n",
    "        train_chapter.append(user[0])\n",
    "        train_sub_chapter.append(user[1]) \n",
    "        train_question.append(user[2])\n",
    "        train_features.append(user[3])\n",
    "        train_shifted_t.append(user[4])\n",
    "        train_labels.append(user[5])\n",
    "    train_chapter = np.array(train_chapter)\n",
    "    train_sub_chapter = np.array(train_sub_chapter)\n",
    "    train_question = np.array(train_question)\n",
    "    train_features = np.array(train_features)\n",
    "    train_shifted_t = np.array(train_shifted_t)\n",
    "    train_labels= np.array(train_labels)[..., np.newaxis]\n",
    "\n",
    "    #construct validation input\n",
    "    val_chapter=[]\n",
    "    val_sub_chapter=[]\n",
    "    val_question = []\n",
    "    val_features=[]\n",
    "    val_shifted_t = []\n",
    "    val_labels=[]\n",
    "    for i in range(len(users_val)):\n",
    "        user = val_data_space.__getitem__(i)\n",
    "        val_chapter.append(user[0])\n",
    "        val_sub_chapter.append(user[1]) \n",
    "        val_question.append(user[2])\n",
    "        val_features.append(user[3])\n",
    "        val_shifted_t.append(user[4])\n",
    "        val_labels.append(user[5])\n",
    "    val_chapter = np.array(val_chapter)\n",
    "    val_sub_chapter = np.array(val_sub_chapter)\n",
    "    val_features = np.array(val_features)\n",
    "    val_question = np.array(val_question)\n",
    "    val_shifted_t = np.array(val_shifted_t)\n",
    "    val_labels= np.array(val_labels)[..., np.newaxis]\n",
    "\n",
    "    # construct test input\n",
    "    test_chapter=[]\n",
    "    test_sub_chapter=[]\n",
    "    test_features=[]\n",
    "    test_question=[]\n",
    "    test_shifted_t = []\n",
    "    test_labels=[]\n",
    "    for i in range(len(users_test)):\n",
    "        user = test_data_space.__getitem__(i)\n",
    "        test_chapter.append(user[0])\n",
    "        test_sub_chapter.append(user[1]) \n",
    "        test_question.append(user[2])\n",
    "        test_features.append(user[3])\n",
    "        test_shifted_t.append(user[4])\n",
    "        test_labels.append(user[5])\n",
    "    test_chapter = np.array(test_chapter)\n",
    "    test_sub_chapter = np.array(test_sub_chapter)\n",
    "    test_features = np.array(test_features)\n",
    "    test_question = np.array(test_question)\n",
    "    test_shifted_t = np.array(test_shifted_t)\n",
    "    test_labels= np.array(test_labels)[..., np.newaxis]\n",
    "\n",
    "    # define loss function and evaluation metrics\n",
    "    bce = tf.keras.losses.BinaryCrossentropy(from_logits=True)\n",
    "    acc = tf.keras.metrics.Accuracy()\n",
    "    auc = tf.keras.metrics.AUC()\n",
    "\n",
    "    def masked_bce(y_true, y_pred):\n",
    "      flat_pred = y_pred\n",
    "      flat_ground_truth = y_true\n",
    "      label_mask = tf.math.not_equal(flat_ground_truth, -1)\n",
    "      return bce(flat_ground_truth, flat_pred, sample_weight=label_mask)\n",
    "\n",
    "    def masked_acc(y_true, y_pred):\n",
    "      flat_pred = y_pred\n",
    "      flat_ground_truth = y_true\n",
    "      flat_pred = (flat_pred >= 0.5)\n",
    "      label_mask = tf.math.not_equal(flat_ground_truth, -1)\n",
    "      return acc(flat_ground_truth, flat_pred, sample_weight=label_mask)\n",
    "\n",
    "    def masked_auc(y_true, y_pred):\n",
    "      flat_pred = y_pred\n",
    "      flat_ground_truth = y_true\n",
    "      label_mask = tf.math.not_equal(flat_ground_truth, -1)\n",
    "      return auc(flat_ground_truth, flat_pred, sample_weight=label_mask)\n",
    "\n",
    "    # input layer\n",
    "    input_chap = tf.keras.Input(shape=(MAXLENGTH))\n",
    "    input_sub_chap = tf.keras.Input(shape=(MAXLENGTH))\n",
    "    input_ques =  tf.keras.Input(shape=(MAXLENGTH))\n",
    "    input_shifted = tf.keras.Input(shape=(MAXLENGTH))\n",
    "    input_features = tf.keras.Input(shape=(MAXLENGTH, FEATURES_SIZE))\n",
    "\n",
    "    # embedding layer for categorical features\n",
    "    embedding_chap = Embedding(input_dim = CHAPTER_SIZE, output_dim = EMBEDDING_DIM)(input_chap)\n",
    "    embedding_sub_chap = Embedding(input_dim = SUB_CHAPTER_SIZE, output_dim = EMBEDDING_DIM)(input_sub_chap) \n",
    "    embedding_ques = Embedding(input_dim = QUESTION_SIZE, output_dim = EMBEDDING_DIM)(input_ques)       \n",
    "    embedding_shifted = Embedding(input_dim = 3, output_dim = EMBEDDING_DIM)(input_shifted)\n",
    "    # dense layer for numeric features\n",
    "    dense_features = Dense(EMBEDDING_DIM,input_shape = (None, MAXLENGTH))(input_features)\n",
    "    \n",
    "    output = tf.concat([embedding_chap, embedding_sub_chap, embedding_ques, embedding_shifted, dense_features], axis = 2)\n",
    "\n",
    "    pred = Dense(1, input_shape = (None, 5*EMBEDDING_DIM), activation='sigmoid')(output)\n",
    "\n",
    "    model = tf.keras.Model(\n",
    "        inputs=[input_chap, input_sub_chap,input_ques, input_shifted, input_features],\n",
    "        outputs=pred,\n",
    "        name='logistic_regression'\n",
    "    )\n",
    "\n",
    "    callback = tf.keras.callbacks.EarlyStopping(monitor='val_loss', patience=10)\n",
    "    opt_adam = Adam(learning_rate = 0.005)\n",
    "    model.compile(\n",
    "        optimizer=opt_adam,\n",
    "        loss= masked_bce,\n",
    "        metrics = [masked_acc, masked_auc]\n",
    "    )\n",
    "\n",
    "    history = model.fit(\n",
    "      [train_chapter, train_sub_chapter, train_question, train_shifted_t, train_features],\n",
    "      train_labels,\n",
    "      batch_size = 64,\n",
    "      epochs = 100,\n",
    "      validation_data=([val_chapter, val_sub_chapter, val_question, val_shifted_t, val_features], val_labels),\n",
    "      callbacks=[callback]\n",
    "    )\n",
    "    val_losses.append(list(history.history['val_loss']))\n",
    "    train_losses.append(list(history.history['loss']))\n",
    "    val_aucs.append(list(history.history['val_masked_auc']))\n",
    "    train_aucs.append(list(history.history['masked_auc']))\n",
    "    train_score = model.evaluate([train_chapter, train_sub_chapter, train_question, train_shifted_t, train_features], train_labels)\n",
    "    train_eval.append(train_score)\n",
    "    test_score = model.evaluate([test_chapter, test_sub_chapter, test_question, test_shifted_t, test_features], test_labels)\n",
    "    test_eval.append(test_score)\n",
    "    print(\"Test: \", test_score)\n",
    "    def reset_weights(model):\n",
    "      for layer in model.layers: \n",
    "        if isinstance(layer, tf.keras.Model):\n",
    "          reset_weights(layer)\n",
    "          continue\n",
    "        for k, initializer in layer.__dict__.items():\n",
    "          if \"initializer\" not in k:\n",
    "            continue\n",
    "          # find the corresponding variable\n",
    "          var = getattr(layer, k.replace(\"_initializer\", \"\"))\n",
    "          var.assign(initializer(var.shape, var.dtype))\n",
    "    reset_weights(model)"
   ]
  },
  {
   "cell_type": "code",
   "execution_count": 31,
   "metadata": {
    "execution": {
     "iopub.execute_input": "2021-08-08T15:44:18.376749Z",
     "iopub.status.busy": "2021-08-08T15:44:18.375780Z",
     "iopub.status.idle": "2021-08-08T15:44:18.386523Z",
     "shell.execute_reply": "2021-08-08T15:44:18.387513Z",
     "shell.execute_reply.started": "2021-08-06T21:11:24.771838Z"
    },
    "id": "QsVmumHMz3lx",
    "outputId": "4ff1e2fa-6abb-458e-c729-495b456f53e5",
    "papermill": {
     "duration": 0.999131,
     "end_time": "2021-08-08T15:44:18.387865",
     "exception": false,
     "start_time": "2021-08-08T15:44:17.388734",
     "status": "completed"
    },
    "tags": []
   },
   "outputs": [
    {
     "name": "stdout",
     "output_type": "stream",
     "text": [
      "test avg loss:  0.42648977041244507 +/- 0.007458425240890819\n",
      "test avg acc:  0.7734879732131958 +/- 0.0007525102274471956\n",
      "test avg auc:  0.8228032231330872 +/- 0.0012114848514652014\n"
     ]
    }
   ],
   "source": [
    "t_eval = np.array(test_eval)\n",
    "print(\"test avg loss: \", np.mean(t_eval[:, 0]), \"+/-\" ,np.std(t_eval[:, 0]))\n",
    "print(\"test avg acc: \", np.mean(t_eval[:, 1]),  \"+/-\" ,np.std(t_eval[:, 1]))\n",
    "print(\"test avg auc: \", np.mean(t_eval[:, 2]), \"+/-\" ,np.std(t_eval[:, 2]))"
   ]
  },
  {
   "cell_type": "code",
   "execution_count": 32,
   "metadata": {
    "execution": {
     "iopub.execute_input": "2021-08-08T15:44:20.403835Z",
     "iopub.status.busy": "2021-08-08T15:44:20.402827Z",
     "iopub.status.idle": "2021-08-08T15:44:20.409328Z",
     "shell.execute_reply": "2021-08-08T15:44:20.408706Z",
     "shell.execute_reply.started": "2021-08-06T21:11:24.782922Z"
    },
    "id": "b9MM_CXWz5K6",
    "outputId": "4cf88e1d-3a74-4e7d-f92c-d01522e91757",
    "papermill": {
     "duration": 1.052893,
     "end_time": "2021-08-08T15:44:20.409512",
     "exception": false,
     "start_time": "2021-08-08T15:44:19.356619",
     "status": "completed"
    },
    "tags": []
   },
   "outputs": [
    {
     "name": "stdout",
     "output_type": "stream",
     "text": [
      "train avg loss:  0.42924904227256777 +/- 0.0014931366780111895\n",
      "train avg acc:  0.7736101865768432 +/- 0.0007442579316099335\n",
      "train avg auc:  0.822801387310028 +/- 0.0012348429740052598\n"
     ]
    }
   ],
   "source": [
    "t_eval = np.array(train_eval)\n",
    "print(\"train avg loss: \", np.mean(t_eval[:, 0]), \"+/-\" ,np.std(t_eval[:, 0]))\n",
    "print(\"train avg acc: \", np.mean(t_eval[:, 1]),  \"+/-\" ,np.std(t_eval[:, 1]))\n",
    "print(\"train avg auc: \", np.mean(t_eval[:, 2]), \"+/-\" ,np.std(t_eval[:, 2]))"
   ]
  }
 ],
 "metadata": {
  "kernelspec": {
   "display_name": "Python 3",
   "language": "python",
   "name": "python3"
  },
  "language_info": {
   "codemirror_mode": {
    "name": "ipython",
    "version": 3
   },
   "file_extension": ".py",
   "mimetype": "text/x-python",
   "name": "python",
   "nbconvert_exporter": "python",
   "pygments_lexer": "ipython3",
   "version": "3.8.5"
  },
  "papermill": {
   "default_parameters": {},
   "duration": 829.393114,
   "end_time": "2021-08-08T15:44:23.963102",
   "environment_variables": {},
   "exception": null,
   "input_path": "__notebook__.ipynb",
   "output_path": "__notebook__.ipynb",
   "parameters": {},
   "start_time": "2021-08-08T15:30:34.569988",
   "version": "2.3.3"
  }
 },
 "nbformat": 4,
 "nbformat_minor": 5
}
