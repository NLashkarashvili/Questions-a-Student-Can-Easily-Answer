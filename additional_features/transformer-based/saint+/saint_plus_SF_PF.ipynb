{
 "cells": [
  {
   "cell_type": "code",
   "execution_count": 1,
   "metadata": {
    "_cell_guid": "79c7e3d0-c299-4dcb-8224-4455121ee9b0",
    "_uuid": "d629ff2d2480ee46fbb7e2d37f6b5fab8052498a",
    "execution": {
     "iopub.execute_input": "2021-08-08T14:54:50.582737Z",
     "iopub.status.busy": "2021-08-08T14:54:50.581982Z",
     "iopub.status.idle": "2021-08-08T14:54:52.976329Z",
     "shell.execute_reply": "2021-08-08T14:54:52.974737Z",
     "shell.execute_reply.started": "2021-07-31T18:35:00.085166Z"
    },
    "papermill": {
     "duration": 2.434834,
     "end_time": "2021-08-08T14:54:52.976527",
     "exception": false,
     "start_time": "2021-08-08T14:54:50.541693",
     "status": "completed"
    },
    "tags": []
   },
   "outputs": [],
   "source": [
    "import psutil\n",
    "import joblib\n",
    "import numpy as np\n",
    "import pandas as pd\n",
    "import torch\n",
    "from tqdm import tqdm\n",
    "from sklearn.metrics import roc_auc_score\n",
    "import torch.nn as nn\n",
    "from sklearn.model_selection import KFold\n",
    "from torch.utils.data import Dataset, DataLoader\n",
    "import gc\n",
    "import os\n",
    "import warnings\n",
    "warnings.filterwarnings(\"ignore\")"
   ]
  },
  {
   "cell_type": "code",
   "execution_count": 2,
   "metadata": {
    "execution": {
     "iopub.execute_input": "2021-08-08T14:54:53.053707Z",
     "iopub.status.busy": "2021-08-08T14:54:53.052938Z",
     "iopub.status.idle": "2021-08-08T14:54:58.927513Z",
     "shell.execute_reply": "2021-08-08T14:54:58.926329Z",
     "shell.execute_reply.started": "2021-07-31T18:35:00.74086Z"
    },
    "papermill": {
     "duration": 5.918387,
     "end_time": "2021-08-08T14:54:58.927634",
     "exception": false,
     "start_time": "2021-08-08T14:54:53.009247",
     "status": "completed"
    },
    "tags": []
   },
   "outputs": [],
   "source": [
    "data = pd.read_csv('../input/practice-log-demographics/Practice_Log_Demographics (1).csv', low_memory=False)"
   ]
  },
  {
   "cell_type": "code",
   "execution_count": 3,
   "metadata": {
    "execution": {
     "iopub.execute_input": "2021-08-08T14:54:58.997914Z",
     "iopub.status.busy": "2021-08-08T14:54:58.995396Z",
     "iopub.status.idle": "2021-08-08T14:54:58.998635Z",
     "shell.execute_reply": "2021-08-08T14:54:58.999249Z",
     "shell.execute_reply.started": "2021-07-31T18:35:05.26131Z"
    },
    "papermill": {
     "duration": 0.041854,
     "end_time": "2021-08-08T14:54:58.999377",
     "exception": false,
     "start_time": "2021-08-08T14:54:58.957523",
     "status": "completed"
    },
    "tags": []
   },
   "outputs": [],
   "source": [
    "FEATURES = ['chapter_label', 'sub_chapter_label','question_name','user_id.x','term','STDNT_SEX_CD', \n",
    "            'NonNativeEnglish', 'White', 'Asian','WhiteOrAsian', 'Hispanic','AfricanAmerican','OtherEthnicities',\n",
    "            'NonWhiteOrAsian','STDNT_CTZN_STAT_CD', 'international','gradingType','birthYear','exclClassCumGPA',\n",
    "            'Freshman', 'Junior','Sophomore','Senior','termCreditsGPA','termCreditsNoGPA','athlete_1','honorsPro',\n",
    "            'LSA', 'programBusiness', 'programEngineering','programInformation', 'programOther','HSCalculusTaken', \n",
    "            'highSchoolGPA', 'majorsCount', 'minorsCount','PREV_TERM_CUM_GPA', 'classGraded', 'classHonors', \n",
    "            'Pass_Fail', 'parentsGraduateEdu',  'minorityGroup', 'q',\"day's_available_flashcards\", \n",
    "            'start_practice', 'end_practice','days_offset']"
   ]
  },
  {
   "cell_type": "code",
   "execution_count": 4,
   "metadata": {
    "execution": {
     "iopub.execute_input": "2021-08-08T14:54:59.071894Z",
     "iopub.status.busy": "2021-08-08T14:54:59.070344Z",
     "iopub.status.idle": "2021-08-08T14:54:59.206882Z",
     "shell.execute_reply": "2021-08-08T14:54:59.206286Z",
     "shell.execute_reply.started": "2021-07-31T18:35:05.271017Z"
    },
    "papermill": {
     "duration": 0.177391,
     "end_time": "2021-08-08T14:54:59.207067",
     "exception": false,
     "start_time": "2021-08-08T14:54:59.029676",
     "status": "completed"
    },
    "tags": []
   },
   "outputs": [],
   "source": [
    "data = data[FEATURES]"
   ]
  },
  {
   "cell_type": "code",
   "execution_count": 5,
   "metadata": {
    "execution": {
     "iopub.execute_input": "2021-08-08T14:54:59.336197Z",
     "iopub.status.busy": "2021-08-08T14:54:59.331792Z",
     "iopub.status.idle": "2021-08-08T14:54:59.340932Z",
     "shell.execute_reply": "2021-08-08T14:54:59.341464Z",
     "shell.execute_reply.started": "2021-07-31T18:35:05.392116Z"
    },
    "papermill": {
     "duration": 0.103855,
     "end_time": "2021-08-08T14:54:59.341611",
     "exception": false,
     "start_time": "2021-08-08T14:54:59.237756",
     "status": "completed"
    },
    "tags": []
   },
   "outputs": [
    {
     "data": {
      "text/plain": [
       "60"
      ]
     },
     "execution_count": 5,
     "metadata": {},
     "output_type": "execute_result"
    }
   ],
   "source": [
    "gc.collect()"
   ]
  },
  {
   "cell_type": "code",
   "execution_count": 6,
   "metadata": {
    "execution": {
     "iopub.execute_input": "2021-08-08T14:54:59.481765Z",
     "iopub.status.busy": "2021-08-08T14:54:59.480602Z",
     "iopub.status.idle": "2021-08-08T14:54:59.742433Z",
     "shell.execute_reply": "2021-08-08T14:54:59.741801Z",
     "shell.execute_reply.started": "2021-07-31T18:35:05.465591Z"
    },
    "papermill": {
     "duration": 0.370323,
     "end_time": "2021-08-08T14:54:59.742564",
     "exception": false,
     "start_time": "2021-08-08T14:54:59.372241",
     "status": "completed"
    },
    "tags": []
   },
   "outputs": [],
   "source": [
    "data['COVID_Graded'] = np.where(data['gradingType']=='COVID Graded', 1, 0)\n",
    "data.drop(columns=['gradingType'], inplace=True)"
   ]
  },
  {
   "cell_type": "code",
   "execution_count": 7,
   "metadata": {
    "execution": {
     "iopub.execute_input": "2021-08-08T14:54:59.834069Z",
     "iopub.status.busy": "2021-08-08T14:54:59.828913Z",
     "iopub.status.idle": "2021-08-08T14:55:00.395065Z",
     "shell.execute_reply": "2021-08-08T14:55:00.393839Z",
     "shell.execute_reply.started": "2021-07-31T18:35:05.778592Z"
    },
    "papermill": {
     "duration": 0.62194,
     "end_time": "2021-08-08T14:55:00.395196",
     "exception": false,
     "start_time": "2021-08-08T14:54:59.773256",
     "status": "completed"
    },
    "tags": []
   },
   "outputs": [],
   "source": [
    "data['term_value'] = [int(ele[3:]) for ele in data['term']]\n",
    "data['age'] = data['term_value'] - data['birthYear']"
   ]
  },
  {
   "cell_type": "code",
   "execution_count": 8,
   "metadata": {
    "execution": {
     "iopub.execute_input": "2021-08-08T14:55:00.463624Z",
     "iopub.status.busy": "2021-08-08T14:55:00.462248Z",
     "iopub.status.idle": "2021-08-08T14:55:00.730258Z",
     "shell.execute_reply": "2021-08-08T14:55:00.729631Z",
     "shell.execute_reply.started": "2021-07-31T18:35:06.300553Z"
    },
    "papermill": {
     "duration": 0.304075,
     "end_time": "2021-08-08T14:55:00.730390",
     "exception": false,
     "start_time": "2021-08-08T14:55:00.426315",
     "status": "completed"
    },
    "tags": []
   },
   "outputs": [],
   "source": [
    "data.drop(columns=['term_value', 'birthYear'], inplace=True)"
   ]
  },
  {
   "cell_type": "code",
   "execution_count": 9,
   "metadata": {
    "execution": {
     "iopub.execute_input": "2021-08-08T14:55:01.007195Z",
     "iopub.status.busy": "2021-08-08T14:55:00.800017Z",
     "iopub.status.idle": "2021-08-08T14:55:36.570560Z",
     "shell.execute_reply": "2021-08-08T14:55:36.571242Z",
     "shell.execute_reply.started": "2021-07-31T18:35:06.527113Z"
    },
    "papermill": {
     "duration": 35.81009,
     "end_time": "2021-08-08T14:55:36.571423",
     "exception": false,
     "start_time": "2021-08-08T14:55:00.761333",
     "status": "completed"
    },
    "tags": []
   },
   "outputs": [],
   "source": [
    "#convert start_practice and end_practice to datatime column\n",
    "data.start_practice = pd.to_datetime(data.start_practice, format='%Y-%m-%d %H:%M:%S')\n",
    "data.end_practice = pd.to_datetime(data.end_practice, format='%Y-%m-%d %H:%M:%S')\n",
    "#label encode term, chapter_label, question_name, sub_chapter_label columns\n",
    "data['term'] = data['term'].astype('category')\n",
    "data['chapter_id'] = data['chapter_label'].replace(data['chapter_label'].unique(), list(range(data['chapter_label'].nunique()))) + 1\n",
    "data['sub_chapter_id'] = data['sub_chapter_label'].replace(data['sub_chapter_label'].unique(), list(range(data['sub_chapter_label'].nunique()))) + 1\n",
    "data['question_id'] = data['question_name'].replace(data['question_name'].unique(), list(range(data['question_name'].nunique()))) + 1"
   ]
  },
  {
   "cell_type": "code",
   "execution_count": 10,
   "metadata": {
    "execution": {
     "iopub.execute_input": "2021-08-08T14:55:36.644585Z",
     "iopub.status.busy": "2021-08-08T14:55:36.643114Z",
     "iopub.status.idle": "2021-08-08T14:55:36.663104Z",
     "shell.execute_reply": "2021-08-08T14:55:36.662343Z",
     "shell.execute_reply.started": "2021-07-31T18:35:42.91017Z"
    },
    "papermill": {
     "duration": 0.058186,
     "end_time": "2021-08-08T14:55:36.663257",
     "exception": false,
     "start_time": "2021-08-08T14:55:36.605071",
     "status": "completed"
    },
    "tags": []
   },
   "outputs": [],
   "source": [
    "data['dif'] = data.end_practice - data.start_practice\n",
    "data['dif'] = data['dif'] /np.timedelta64(1, 's')\n",
    "data['q'] = np.where((data['q']==5) & (data['dif'] <= 60), 1, 0)"
   ]
  },
  {
   "cell_type": "code",
   "execution_count": 11,
   "metadata": {
    "execution": {
     "iopub.execute_input": "2021-08-08T14:55:36.734187Z",
     "iopub.status.busy": "2021-08-08T14:55:36.732244Z",
     "iopub.status.idle": "2021-08-08T14:55:36.983588Z",
     "shell.execute_reply": "2021-08-08T14:55:36.982954Z",
     "shell.execute_reply.started": "2021-07-31T18:35:42.935914Z"
    },
    "papermill": {
     "duration": 0.288942,
     "end_time": "2021-08-08T14:55:36.983731",
     "exception": false,
     "start_time": "2021-08-08T14:55:36.694789",
     "status": "completed"
    },
    "tags": []
   },
   "outputs": [],
   "source": [
    "data.drop(columns = ['chapter_label', 'sub_chapter_label', 'question_name'], inplace=True)"
   ]
  },
  {
   "cell_type": "code",
   "execution_count": 12,
   "metadata": {
    "execution": {
     "iopub.execute_input": "2021-08-08T14:55:37.091042Z",
     "iopub.status.busy": "2021-08-08T14:55:37.075586Z",
     "iopub.status.idle": "2021-08-08T14:55:37.554694Z",
     "shell.execute_reply": "2021-08-08T14:55:37.554107Z",
     "shell.execute_reply.started": "2021-07-31T18:35:43.148319Z"
    },
    "papermill": {
     "duration": 0.538044,
     "end_time": "2021-08-08T14:55:37.554859",
     "exception": false,
     "start_time": "2021-08-08T14:55:37.016815",
     "status": "completed"
    },
    "tags": []
   },
   "outputs": [],
   "source": [
    "new_minors_count = []\n",
    "for i in data['minorsCount']:\n",
    "  if i == 0 or i == '0':\n",
    "    new_minors_count.append(0)\n",
    "  elif i == '1 Minor':\n",
    "    new_minors_count.append(1)\n",
    "  else:\n",
    "    new_minors_count.append(2)\n",
    "\n",
    "data['minorsCount'] = new_minors_count"
   ]
  },
  {
   "cell_type": "code",
   "execution_count": 13,
   "metadata": {
    "execution": {
     "iopub.execute_input": "2021-08-08T14:55:37.622612Z",
     "iopub.status.busy": "2021-08-08T14:55:37.621366Z",
     "iopub.status.idle": "2021-08-08T14:55:38.153308Z",
     "shell.execute_reply": "2021-08-08T14:55:38.154152Z",
     "shell.execute_reply.started": "2021-07-31T18:35:43.583946Z"
    },
    "papermill": {
     "duration": 0.569129,
     "end_time": "2021-08-08T14:55:38.154422",
     "exception": false,
     "start_time": "2021-08-08T14:55:37.585293",
     "status": "completed"
    },
    "tags": []
   },
   "outputs": [],
   "source": [
    "data = data.sort_values(['start_practice'], ascending=True).reset_index(drop=True)"
   ]
  },
  {
   "cell_type": "code",
   "execution_count": 14,
   "metadata": {
    "execution": {
     "iopub.execute_input": "2021-08-08T14:55:38.276631Z",
     "iopub.status.busy": "2021-08-08T14:55:38.275227Z",
     "iopub.status.idle": "2021-08-08T14:56:48.630857Z",
     "shell.execute_reply": "2021-08-08T14:56:48.631428Z",
     "shell.execute_reply.started": "2021-07-31T18:35:44.009929Z"
    },
    "papermill": {
     "duration": 70.417335,
     "end_time": "2021-08-08T14:56:48.631644",
     "exception": false,
     "start_time": "2021-08-08T14:55:38.214309",
     "status": "completed"
    },
    "tags": []
   },
   "outputs": [],
   "source": [
    "data['user_id.x'] = data['term'].astype(str) + data['user_id.x'].astype(str)\n",
    "data['user_id.x'] = data['user_id.x'].replace(data['user_id.x'].unique(), list(range(data['user_id.x'].nunique())))"
   ]
  },
  {
   "cell_type": "code",
   "execution_count": 15,
   "metadata": {
    "execution": {
     "iopub.execute_input": "2021-08-08T14:56:48.700416Z",
     "iopub.status.busy": "2021-08-08T14:56:48.699510Z",
     "iopub.status.idle": "2021-08-08T14:56:48.703349Z",
     "shell.execute_reply": "2021-08-08T14:56:48.703942Z",
     "shell.execute_reply.started": "2021-07-31T18:36:49.59518Z"
    },
    "papermill": {
     "duration": 0.040651,
     "end_time": "2021-08-08T14:56:48.704078",
     "exception": false,
     "start_time": "2021-08-08T14:56:48.663427",
     "status": "completed"
    },
    "tags": []
   },
   "outputs": [],
   "source": [
    "data['term'] =  data['term'].cat.codes"
   ]
  },
  {
   "cell_type": "code",
   "execution_count": 16,
   "metadata": {
    "execution": {
     "iopub.execute_input": "2021-08-08T14:56:48.771391Z",
     "iopub.status.busy": "2021-08-08T14:56:48.770316Z",
     "iopub.status.idle": "2021-08-08T14:56:48.819426Z",
     "shell.execute_reply": "2021-08-08T14:56:48.818847Z",
     "shell.execute_reply.started": "2021-07-31T18:36:49.604181Z"
    },
    "papermill": {
     "duration": 0.084968,
     "end_time": "2021-08-08T14:56:48.819547",
     "exception": false,
     "start_time": "2021-08-08T14:56:48.734579",
     "status": "completed"
    },
    "tags": []
   },
   "outputs": [],
   "source": [
    "data['prev_time_elapsed'] = None\n",
    "data['time_lag'] = None\n",
    "data['time_lag'] = data['time_lag'].astype(np.float)\n",
    "data['prev_time_elapsed'] = data['prev_time_elapsed'].astype(np.float)"
   ]
  },
  {
   "cell_type": "code",
   "execution_count": 17,
   "metadata": {
    "execution": {
     "iopub.execute_input": "2021-08-08T14:56:48.900264Z",
     "iopub.status.busy": "2021-08-08T14:56:48.899198Z",
     "iopub.status.idle": "2021-08-08T15:02:49.457931Z",
     "shell.execute_reply": "2021-08-08T15:02:49.458520Z",
     "shell.execute_reply.started": "2021-07-31T18:36:49.663626Z"
    },
    "papermill": {
     "duration": 360.607363,
     "end_time": "2021-08-08T15:02:49.458691",
     "exception": false,
     "start_time": "2021-08-08T14:56:48.851328",
     "status": "completed"
    },
    "tags": []
   },
   "outputs": [
    {
     "name": "stderr",
     "output_type": "stream",
     "text": [
      "100%|██████████| 1110/1110 [06:00<00:00,  3.08it/s]\n"
     ]
    }
   ],
   "source": [
    "unique_chapts = data['chapter_id'].unique()\n",
    "from tqdm import tqdm\n",
    "cnt = 0\n",
    "for user in tqdm(data['user_id.x'].unique()):\n",
    "        for chapter in unique_chapts:\n",
    "            tmp_user = data[(data['user_id.x']==user) & (data['chapter_id']==chapter)]\n",
    "            #if user doesn't answer any question from the chapter\n",
    "            if len(tmp_user) < 1:\n",
    "                continue\n",
    "            #calculate average elapsed time before the current question\n",
    "            #from its corresponding chapter\n",
    "            tmp_time_elapsed = tmp_user.end_practice - tmp_user.start_practice\n",
    "            tmp_time_elapsed = tmp_time_elapsed / np.timedelta64(1, 's')\n",
    "            tmp_time_elapsed = np.insert(np.array(tmp_time_elapsed[:-1]), 0, 0., axis=0)\n",
    "            tmp_time_elapsed = np.cumsum(tmp_time_elapsed)\n",
    "            indices = tmp_user.index\n",
    "            start_row = indices[0]\n",
    "            data['time_lag'].iloc[start_row] = 0\n",
    "            for_mean = np.arange(len(tmp_user))\n",
    "            for_mean[0] = 1\n",
    "            time_substrahend = tmp_user.start_practice.iloc[:-1]\n",
    "            time_substrahend = time_substrahend.apply(lambda a: a.timestamp())\n",
    "            time_substrahend = np.array(time_substrahend)\n",
    "            \n",
    "            time_minuend = tmp_user.start_practice.iloc[1:]\n",
    "            time_minuend = time_minuend.apply(lambda a: a.timestamp())\n",
    "            time_minuend = np.array(time_minuend)\n",
    "\n",
    "            data['prev_time_elapsed'].iloc[indices] = tmp_time_elapsed/for_mean\n",
    "            #calculate difference between current and last interaction\n",
    "            #from the same chapter\n",
    "            data['time_lag'].iloc[indices[1:]] = time_minuend - time_substrahend"
   ]
  },
  {
   "cell_type": "code",
   "execution_count": 18,
   "metadata": {
    "execution": {
     "iopub.execute_input": "2021-08-08T15:02:50.475201Z",
     "iopub.status.busy": "2021-08-08T15:02:50.406294Z",
     "iopub.status.idle": "2021-08-08T15:02:50.545386Z",
     "shell.execute_reply": "2021-08-08T15:02:50.545993Z",
     "shell.execute_reply.started": "2021-07-31T18:37:08.338678Z"
    },
    "papermill": {
     "duration": 0.673632,
     "end_time": "2021-08-08T15:02:50.546184",
     "exception": false,
     "start_time": "2021-08-08T15:02:49.872552",
     "status": "completed"
    },
    "tags": []
   },
   "outputs": [
    {
     "data": {
      "text/plain": [
       "count     610792.0\n",
       "unique    143509.0\n",
       "top            0.0\n",
       "freq       23878.0\n",
       "Name: time_lag, dtype: float64"
      ]
     },
     "execution_count": 18,
     "metadata": {},
     "output_type": "execute_result"
    }
   ],
   "source": [
    "data['time_lag'].describe()"
   ]
  },
  {
   "cell_type": "code",
   "execution_count": 19,
   "metadata": {
    "execution": {
     "iopub.execute_input": "2021-08-08T15:02:51.384414Z",
     "iopub.status.busy": "2021-08-08T15:02:51.383339Z",
     "iopub.status.idle": "2021-08-08T15:02:51.412422Z",
     "shell.execute_reply": "2021-08-08T15:02:51.411838Z",
     "shell.execute_reply.started": "2021-07-31T18:37:08.369788Z"
    },
    "papermill": {
     "duration": 0.450676,
     "end_time": "2021-08-08T15:02:51.412555",
     "exception": false,
     "start_time": "2021-08-08T15:02:50.961879",
     "status": "completed"
    },
    "tags": []
   },
   "outputs": [
    {
     "data": {
      "text/plain": [
       "count    610792.000000\n",
       "mean        142.486562\n",
       "std         761.014785\n",
       "min           0.000000\n",
       "25%          29.307692\n",
       "50%          59.086957\n",
       "75%         120.291667\n",
       "max      157895.500000\n",
       "Name: prev_time_elapsed, dtype: float64"
      ]
     },
     "execution_count": 19,
     "metadata": {},
     "output_type": "execute_result"
    }
   ],
   "source": [
    "data['prev_time_elapsed'].describe()"
   ]
  },
  {
   "cell_type": "code",
   "execution_count": 20,
   "metadata": {
    "execution": {
     "iopub.execute_input": "2021-08-08T15:02:52.348448Z",
     "iopub.status.busy": "2021-08-08T15:02:52.347392Z",
     "iopub.status.idle": "2021-08-08T15:02:52.927000Z",
     "shell.execute_reply": "2021-08-08T15:02:52.927552Z",
     "shell.execute_reply.started": "2021-07-31T18:37:08.400105Z"
    },
    "papermill": {
     "duration": 1.099867,
     "end_time": "2021-08-08T15:02:52.927730",
     "exception": false,
     "start_time": "2021-08-08T15:02:51.827863",
     "status": "completed"
    },
    "tags": []
   },
   "outputs": [
    {
     "data": {
      "text/plain": [
       "73"
      ]
     },
     "execution_count": 20,
     "metadata": {},
     "output_type": "execute_result"
    }
   ],
   "source": [
    "#now we can drop end practice\n",
    "data.drop(columns=['end_practice'], inplace=True)\n",
    "data = data.sort_values(['start_practice'], ascending=True).reset_index(drop=True)\n",
    "data['answered_correctly'] = data['q']\n",
    "data.drop(columns='q', inplace=True)\n",
    "gc.collect()"
   ]
  },
  {
   "cell_type": "code",
   "execution_count": 21,
   "metadata": {
    "execution": {
     "iopub.execute_input": "2021-08-08T15:02:53.828315Z",
     "iopub.status.busy": "2021-08-08T15:02:53.825772Z",
     "iopub.status.idle": "2021-08-08T15:02:53.831018Z",
     "shell.execute_reply": "2021-08-08T15:02:53.830445Z",
     "shell.execute_reply.started": "2021-07-31T18:37:08.937256Z"
    },
    "papermill": {
     "duration": 0.491516,
     "end_time": "2021-08-08T15:02:53.831285",
     "exception": false,
     "start_time": "2021-08-08T15:02:53.339769",
     "status": "completed"
    },
    "tags": []
   },
   "outputs": [
    {
     "data": {
      "text/plain": [
       "20"
      ]
     },
     "execution_count": 21,
     "metadata": {},
     "output_type": "execute_result"
    }
   ],
   "source": [
    "gc.collect()"
   ]
  },
  {
   "cell_type": "code",
   "execution_count": 22,
   "metadata": {
    "execution": {
     "iopub.execute_input": "2021-08-08T15:02:54.699865Z",
     "iopub.status.busy": "2021-08-08T15:02:54.699088Z",
     "iopub.status.idle": "2021-08-08T15:02:54.701123Z",
     "shell.execute_reply": "2021-08-08T15:02:54.700524Z",
     "shell.execute_reply.started": "2021-07-31T18:37:09.016128Z"
    },
    "papermill": {
     "duration": 0.455007,
     "end_time": "2021-08-08T15:02:54.701272",
     "exception": false,
     "start_time": "2021-08-08T15:02:54.246265",
     "status": "completed"
    },
    "tags": []
   },
   "outputs": [],
   "source": [
    "## cv 0.7993"
   ]
  },
  {
   "cell_type": "code",
   "execution_count": 23,
   "metadata": {
    "execution": {
     "iopub.execute_input": "2021-08-08T15:02:55.540157Z",
     "iopub.status.busy": "2021-08-08T15:02:55.538995Z",
     "iopub.status.idle": "2021-08-08T15:02:55.542351Z",
     "shell.execute_reply": "2021-08-08T15:02:55.542859Z",
     "shell.execute_reply.started": "2021-07-31T18:37:09.025298Z"
    },
    "papermill": {
     "duration": 0.4264,
     "end_time": "2021-08-08T15:02:55.543022",
     "exception": false,
     "start_time": "2021-08-08T15:02:55.116622",
     "status": "completed"
    },
    "tags": []
   },
   "outputs": [],
   "source": [
    "## epoch - 0 train_loss - 0.4103 train_auc - 0.7990 val_loss - 0.5121 val_auc - 0.7993 time=641.96s"
   ]
  },
  {
   "cell_type": "code",
   "execution_count": 24,
   "metadata": {
    "execution": {
     "iopub.execute_input": "2021-08-08T15:02:56.382681Z",
     "iopub.status.busy": "2021-08-08T15:02:56.380921Z",
     "iopub.status.idle": "2021-08-08T15:02:56.560612Z",
     "shell.execute_reply": "2021-08-08T15:02:56.560005Z",
     "shell.execute_reply.started": "2021-07-31T18:37:09.034403Z"
    },
    "papermill": {
     "duration": 0.604301,
     "end_time": "2021-08-08T15:02:56.560761",
     "exception": false,
     "start_time": "2021-08-08T15:02:55.956460",
     "status": "completed"
    },
    "tags": []
   },
   "outputs": [],
   "source": [
    "data.fillna(0, inplace=True)"
   ]
  },
  {
   "cell_type": "code",
   "execution_count": 25,
   "metadata": {
    "execution": {
     "iopub.execute_input": "2021-08-08T15:02:57.409810Z",
     "iopub.status.busy": "2021-08-08T15:02:57.408788Z",
     "iopub.status.idle": "2021-08-08T15:02:57.416660Z",
     "shell.execute_reply": "2021-08-08T15:02:57.417204Z",
     "shell.execute_reply.started": "2021-07-31T18:37:09.057543Z"
    },
    "papermill": {
     "duration": 0.431,
     "end_time": "2021-08-08T15:02:57.417358",
     "exception": false,
     "start_time": "2021-08-08T15:02:56.986358",
     "status": "completed"
    },
    "tags": []
   },
   "outputs": [],
   "source": [
    "MAX_SEQ = 400\n",
    "n_part = data['sub_chapter_id'].nunique() + 1\n",
    "D_MODEL = 128\n",
    "N_LAYER = 2\n",
    "DROPOUT = 0.2"
   ]
  },
  {
   "cell_type": "code",
   "execution_count": 26,
   "metadata": {
    "execution": {
     "iopub.execute_input": "2021-08-08T15:02:58.519611Z",
     "iopub.status.busy": "2021-08-08T15:02:58.518468Z",
     "iopub.status.idle": "2021-08-08T15:02:58.558391Z",
     "shell.execute_reply": "2021-08-08T15:02:58.559475Z",
     "shell.execute_reply.started": "2021-07-31T18:37:09.069888Z"
    },
    "papermill": {
     "duration": 0.725207,
     "end_time": "2021-08-08T15:02:58.559707",
     "exception": false,
     "start_time": "2021-08-08T15:02:57.834500",
     "status": "completed"
    },
    "tags": []
   },
   "outputs": [],
   "source": [
    "class FFN(nn.Module):\n",
    "    def __init__(self, state_size=200):\n",
    "        super(FFN, self).__init__()\n",
    "        self.state_size = state_size\n",
    "\n",
    "        self.lr1 = nn.Linear(state_size, state_size)\n",
    "        self.relu = nn.ReLU()\n",
    "        self.lr2 = nn.Linear(state_size, state_size)\n",
    "        self.dropout = nn.Dropout(DROPOUT)\n",
    "    \n",
    "    def forward(self, x):\n",
    "        x = self.lr1(x)\n",
    "        x = self.relu(x)\n",
    "        x = self.lr2(x)\n",
    "        return self.dropout(x)\n",
    "\n",
    "def future_mask(seq_length):\n",
    "    future_mask = np.triu(np.ones((seq_length, seq_length)), k=1).astype('bool')\n",
    "    return torch.from_numpy(future_mask)\n",
    "\n",
    "\n",
    "class SAINTModel(nn.Module):\n",
    "    def __init__(self, n_skill, n_part, max_seq=MAX_SEQ, embed_dim= D_MODEL, elapsed_time_cat_flag = False):\n",
    "        super(SAINTModel, self).__init__()\n",
    "\n",
    "        self.n_skill = n_skill\n",
    "        self.embed_dim = embed_dim\n",
    "        self.n_chapter= 39\n",
    "        self.n_sub_chapter = n_part\n",
    "        self.elapsed_time_cat_flag = elapsed_time_cat_flag\n",
    "\n",
    "        self.q_embedding = nn.Embedding(self.n_skill+1, embed_dim) ## exercise\n",
    "        self.c_embedding = nn.Embedding(self.n_chapter+1, embed_dim) ## category\n",
    "        self.sc_embedding = nn.Embedding(self.n_sub_chapter, embed_dim) ## category\n",
    "        self.pos_embedding = nn.Embedding(max_seq+1, embed_dim) ## position\n",
    "        self.res_embedding = nn.Embedding(2+1, embed_dim) ## response\n",
    "        self.feat_embedding = nn.Linear(37, embed_dim)\n",
    "    \n",
    "\n",
    "\n",
    "\n",
    "        self.transformer = nn.Transformer(nhead=8, d_model = embed_dim, num_encoder_layers= N_LAYER, num_decoder_layers= N_LAYER, dropout = DROPOUT)\n",
    "\n",
    "        self.dropout = nn.Dropout(DROPOUT)\n",
    "        self.layer_normal = nn.LayerNorm(embed_dim) \n",
    "        self.ffn = FFN(embed_dim)\n",
    "        self.pred = nn.Linear(embed_dim, 1)\n",
    "    \n",
    "    def forward(self, question, chapter, schapter, response, user_features):\n",
    "\n",
    "        device = question.device  \n",
    "        ## embedding layer\n",
    "        question = self.q_embedding(question)\n",
    "        chapter = self.c_embedding(chapter)\n",
    "        schapter = self.sc_embedding(schapter)\n",
    "        pos_id = torch.arange(question.size(1)).unsqueeze(0).to(device)\n",
    "        pos_id = self.pos_embedding(pos_id)\n",
    "        res = self.res_embedding(response)\n",
    "        user_features = self.feat_embedding(user_features)\n",
    "        \n",
    "\n",
    "        enc = pos_id + question + chapter + schapter \n",
    "        dec = pos_id + res + enc + user_features\n",
    "        enc = enc.permute(1, 0, 2) # x: [bs, s_len, embed] => [s_len, bs, embed]\n",
    "        dec = dec.permute(1, 0, 2)\n",
    "        mask = future_mask(enc.size(0)).to(device)\n",
    "        att_output = self.transformer(enc, dec, src_mask=mask, tgt_mask=mask, memory_mask = mask)\n",
    "        att_output = self.layer_normal(att_output)\n",
    "        att_output = att_output.permute(1, 0, 2) # att_output: [s_len, bs, embed] => [bs, s_len, embed]\n",
    "        \n",
    "        \n",
    "        x = self.ffn(att_output)\n",
    "        x = self.layer_normal(x + att_output)\n",
    "        x = self.pred(x)\n",
    "\n",
    "        return x.squeeze(-1)"
   ]
  },
  {
   "cell_type": "code",
   "execution_count": 27,
   "metadata": {
    "execution": {
     "iopub.execute_input": "2021-08-08T15:02:59.428017Z",
     "iopub.status.busy": "2021-08-08T15:02:59.426933Z",
     "iopub.status.idle": "2021-08-08T15:02:59.435371Z",
     "shell.execute_reply": "2021-08-08T15:02:59.434743Z",
     "shell.execute_reply.started": "2021-07-31T18:37:09.098343Z"
    },
    "papermill": {
     "duration": 0.43576,
     "end_time": "2021-08-08T15:02:59.435520",
     "exception": false,
     "start_time": "2021-08-08T15:02:58.999760",
     "status": "completed"
    },
    "tags": []
   },
   "outputs": [],
   "source": [
    "n_skill = data['question_id'].nunique() + 1"
   ]
  },
  {
   "cell_type": "code",
   "execution_count": 28,
   "metadata": {
    "execution": {
     "iopub.execute_input": "2021-08-08T15:03:00.274040Z",
     "iopub.status.busy": "2021-08-08T15:03:00.272874Z",
     "iopub.status.idle": "2021-08-08T15:03:00.278988Z",
     "shell.execute_reply": "2021-08-08T15:03:00.278432Z",
     "shell.execute_reply.started": "2021-07-31T18:37:09.115011Z"
    },
    "papermill": {
     "duration": 0.42819,
     "end_time": "2021-08-08T15:03:00.279134",
     "exception": false,
     "start_time": "2021-08-08T15:02:59.850944",
     "status": "completed"
    },
    "tags": []
   },
   "outputs": [
    {
     "data": {
      "text/plain": [
       "1069"
      ]
     },
     "execution_count": 28,
     "metadata": {},
     "output_type": "execute_result"
    }
   ],
   "source": [
    "n_skill"
   ]
  },
  {
   "cell_type": "code",
   "execution_count": 29,
   "metadata": {
    "execution": {
     "iopub.execute_input": "2021-08-08T15:03:01.126282Z",
     "iopub.status.busy": "2021-08-08T15:03:01.124261Z",
     "iopub.status.idle": "2021-08-08T15:03:01.127282Z",
     "shell.execute_reply": "2021-08-08T15:03:01.127952Z",
     "shell.execute_reply.started": "2021-07-31T18:37:09.124867Z"
    },
    "papermill": {
     "duration": 0.4391,
     "end_time": "2021-08-08T15:03:01.128092",
     "exception": false,
     "start_time": "2021-08-08T15:03:00.688992",
     "status": "completed"
    },
    "tags": []
   },
   "outputs": [],
   "source": [
    "class PRACTICE_DATASET(Dataset):\n",
    "    def __init__(self, data, maxlength=MAX_SEQ, test=False):\n",
    "        super(PRACTICE_DATASET, self).__init__()\n",
    "        self.maxlength = maxlength\n",
    "        self.data = data\n",
    "        self.test = test\n",
    "        self.users = list()\n",
    "        for user in data.index:\n",
    "            self.users.append(user)\n",
    "            \n",
    "    def __len__(self):\n",
    "        return len(self.users)\n",
    "    \n",
    "    def __getitem__(self, ix):\n",
    "        user = self.users[ix]\n",
    "        question_id, chapter, schapter, term, user_feats, labels = self.data[user]\n",
    "        question_id = np.array(question_id, np.int16)\n",
    "        chapter = np.array(chapter, np.int16)\n",
    "        schapter = np.array(schapter, np.int16)\n",
    "        user_feats = np.array(user_feats, np.float)\n",
    "        labels = np.array(labels, np.int8)   \n",
    "            \n",
    "        term = term.values\n",
    "        term_encode = [0]*7\n",
    "        term_encode[term[0]] = 1\n",
    "        n = len(question_id)\n",
    "        \n",
    "        if n > self.maxlength:\n",
    "            question_id = question_id[-self.maxlength : ]\n",
    "            chapter = chapter[-self.maxlength :]\n",
    "            schapter = schapter[-self.maxlength: ]\n",
    "            user_feats = user_feats[-self.maxlength :, :]\n",
    "            labels = labels[-self.maxlength: ]\n",
    "            responses = np.append(2, labels[:-1])\n",
    "        else:\n",
    "            question_id = np.pad(question_id, (self.maxlength - n, 0))\n",
    "            chapter = np.pad(chapter, (self.maxlength - n, 0))\n",
    "            schapter = np.pad(schapter, (self.maxlength - n, 0))\n",
    "            user_feats = [[0]*len(user_feats[0])]*(self.maxlength  - n)+list(user_feats[:])\n",
    "            user_feats = np.array(user_feats, np.float)\n",
    "            responses = np.append(2, labels[:-1])\n",
    "            labels = np.pad(labels, (self.maxlength - n, 0))\n",
    "            responses = np.pad(responses, (self.maxlength - n, 0), mode='constant', constant_values = 2)\n",
    "        \n",
    "        new_features = []\n",
    "        count = 0\n",
    "        for f in user_feats:\n",
    "          temp = list(f)\n",
    "          temp.extend(term_encode)\n",
    "          new_features.append(temp)\n",
    "          count += 1\n",
    "        user_feats = new_features\n",
    "        \n",
    "        return question_id, chapter, schapter, responses, np.array(user_feats), labels "
   ]
  },
  {
   "cell_type": "code",
   "execution_count": 30,
   "metadata": {
    "execution": {
     "iopub.execute_input": "2021-08-08T15:03:01.977645Z",
     "iopub.status.busy": "2021-08-08T15:03:01.976250Z",
     "iopub.status.idle": "2021-08-08T15:03:02.390577Z",
     "shell.execute_reply": "2021-08-08T15:03:02.389656Z",
     "shell.execute_reply.started": "2021-07-31T18:37:09.147566Z"
    },
    "papermill": {
     "duration": 0.852697,
     "end_time": "2021-08-08T15:03:02.390707",
     "exception": false,
     "start_time": "2021-08-08T15:03:01.538010",
     "status": "completed"
    },
    "tags": []
   },
   "outputs": [],
   "source": [
    "NUMERIC_FEATURE =  ['age',\n",
    "            'exclClassCumGPA',\n",
    "            'termCreditsGPA',\n",
    "            'termCreditsNoGPA',\n",
    "            'highSchoolGPA', \n",
    "            'majorsCount', 'minorsCount',\n",
    "            'PREV_TERM_CUM_GPA',\n",
    "            \"day's_available_flashcards\", \n",
    "            'days_offset', \n",
    "            'prev_time_elapsed',\n",
    "             'time_lag']\n",
    " \n",
    "for f in NUMERIC_FEATURE:\n",
    "  m = data[f].mean()\n",
    "  std = data[f].std()\n",
    "  data[f] = (data[f] - m)/std"
   ]
  },
  {
   "cell_type": "code",
   "execution_count": 31,
   "metadata": {
    "execution": {
     "iopub.execute_input": "2021-08-08T15:03:03.237904Z",
     "iopub.status.busy": "2021-08-08T15:03:03.236807Z",
     "iopub.status.idle": "2021-08-08T15:03:13.853188Z",
     "shell.execute_reply": "2021-08-08T15:03:13.853892Z",
     "shell.execute_reply.started": "2021-07-31T18:37:09.517729Z"
    },
    "papermill": {
     "duration": 11.048529,
     "end_time": "2021-08-08T15:03:13.854075",
     "exception": false,
     "start_time": "2021-08-08T15:03:02.805546",
     "status": "completed"
    },
    "tags": []
   },
   "outputs": [],
   "source": [
    "#group data based on user id\n",
    "group = data.groupby(['user_id.x']).apply(lambda r: (\n",
    "                r['question_id'],\n",
    "                r['chapter_id'],\n",
    "                r['sub_chapter_id'],\n",
    "                r['term'],\n",
    "                np.array([\n",
    "                    r['STDNT_SEX_CD'],r['STDNT_CTZN_STAT_CD'], r['international'], \n",
    "                  r['White'],r['Asian'],r['NonWhiteOrAsian'], r['age'],r['exclClassCumGPA'],\n",
    "                r['Freshman'], r['Junior'], r['Sophomore'], r['Senior'],\n",
    "                r['termCreditsGPA'], r['termCreditsNoGPA'],\n",
    "                r['athlete_1'], r['honorsPro'],\n",
    "                r['LSA'], r['programBusiness'], r['programEngineering'], \n",
    "                r['programInformation'], r['programOther'],\n",
    "                r['HSCalculusTaken'],  r['highSchoolGPA'], \n",
    "                r['majorsCount'], r['minorsCount'],\n",
    "                r['PREV_TERM_CUM_GPA'], \n",
    "                r['parentsGraduateEdu'], r['minorityGroup'],\n",
    "                r[\"day's_available_flashcards\"],\n",
    "                r['days_offset'],\n",
    "#                 r['prev_time_elapsed'],\n",
    "#                 r['time_lag']\n",
    "              ]).transpose(),\n",
    "                r['answered_correctly'],\n",
    "                ))"
   ]
  },
  {
   "cell_type": "code",
   "execution_count": 32,
   "metadata": {
    "execution": {
     "iopub.execute_input": "2021-08-08T15:03:14.686550Z",
     "iopub.status.busy": "2021-08-08T15:03:14.685333Z",
     "iopub.status.idle": "2021-08-08T15:03:14.689047Z",
     "shell.execute_reply": "2021-08-08T15:03:14.688451Z",
     "shell.execute_reply.started": "2021-07-31T18:37:18.990242Z"
    },
    "papermill": {
     "duration": 0.421099,
     "end_time": "2021-08-08T15:03:14.689177",
     "exception": false,
     "start_time": "2021-08-08T15:03:14.268078",
     "status": "completed"
    },
    "tags": []
   },
   "outputs": [],
   "source": [
    "patience = 5"
   ]
  },
  {
   "cell_type": "code",
   "execution_count": 33,
   "metadata": {
    "execution": {
     "iopub.execute_input": "2021-08-08T15:03:15.539847Z",
     "iopub.status.busy": "2021-08-08T15:03:15.538723Z",
     "iopub.status.idle": "2021-08-08T15:03:15.542420Z",
     "shell.execute_reply": "2021-08-08T15:03:15.541727Z",
     "shell.execute_reply.started": "2021-07-31T18:37:18.995938Z"
    },
    "papermill": {
     "duration": 0.440668,
     "end_time": "2021-08-08T15:03:15.542535",
     "exception": false,
     "start_time": "2021-08-08T15:03:15.101867",
     "status": "completed"
    },
    "tags": []
   },
   "outputs": [],
   "source": [
    "# remove students who don't have make any interactions with the tool\n",
    "toRemove = []\n",
    "for index in group.index:\n",
    "  if len(group[index][0]) <= 10:\n",
    "    toRemove.append(index)\n",
    "group = group.drop(index=toRemove)"
   ]
  },
  {
   "cell_type": "code",
   "execution_count": 34,
   "metadata": {
    "execution": {
     "iopub.execute_input": "2021-08-08T15:03:16.409472Z",
     "iopub.status.busy": "2021-08-08T15:03:16.394092Z",
     "iopub.status.idle": "2021-08-08T15:16:45.851854Z",
     "shell.execute_reply": "2021-08-08T15:16:45.830635Z",
     "shell.execute_reply.started": "2021-07-31T18:37:19.022216Z"
    },
    "papermill": {
     "duration": 809.894151,
     "end_time": "2021-08-08T15:16:45.852096",
     "exception": false,
     "start_time": "2021-08-08T15:03:15.957945",
     "status": "completed"
    },
    "tags": []
   },
   "outputs": [
    {
     "name": "stderr",
     "output_type": "stream",
     "text": [
      "  0%|          | 0/28 [00:00<?, ?it/s]"
     ]
    },
    {
     "name": "stdout",
     "output_type": "stream",
     "text": [
      "----------------------------------------------------------------------------\n"
     ]
    },
    {
     "name": "stderr",
     "output_type": "stream",
     "text": [
      "loss - 0.5570: 100%|██████████| 28/28 [00:08<00:00,  3.23it/s]\n",
      "  0%|          | 0/4 [00:00<?, ?it/s]"
     ]
    },
    {
     "name": "stdout",
     "output_type": "stream",
     "text": [
      "epoch - 0 train_loss - 0.63 acc - 0.694 auc - 0.548\n"
     ]
    },
    {
     "name": "stderr",
     "output_type": "stream",
     "text": [
      "valid loss - 0.6089: 100%|██████████| 4/4 [00:01<00:00,  3.58it/s]\n",
      "  0%|          | 0/28 [00:00<?, ?it/s]"
     ]
    },
    {
     "name": "stdout",
     "output_type": "stream",
     "text": [
      "epoch - 0 val_loss - 0.63 val acc - 0.663 val auc - 0.651\n"
     ]
    },
    {
     "name": "stderr",
     "output_type": "stream",
     "text": [
      "loss - 0.5480: 100%|██████████| 28/28 [00:08<00:00,  3.17it/s]\n",
      "  0%|          | 0/4 [00:00<?, ?it/s]"
     ]
    },
    {
     "name": "stdout",
     "output_type": "stream",
     "text": [
      "epoch - 1 train_loss - 0.55 acc - 0.718 auc - 0.694\n"
     ]
    },
    {
     "name": "stderr",
     "output_type": "stream",
     "text": [
      "valid loss - 0.5843: 100%|██████████| 4/4 [00:01<00:00,  3.68it/s]\n",
      "  0%|          | 0/28 [00:00<?, ?it/s]"
     ]
    },
    {
     "name": "stdout",
     "output_type": "stream",
     "text": [
      "epoch - 1 val_loss - 0.59 val acc - 0.682 val auc - 0.689\n"
     ]
    },
    {
     "name": "stderr",
     "output_type": "stream",
     "text": [
      "loss - 0.4700: 100%|██████████| 28/28 [00:10<00:00,  2.70it/s]\n",
      "  0%|          | 0/4 [00:00<?, ?it/s]"
     ]
    },
    {
     "name": "stdout",
     "output_type": "stream",
     "text": [
      "epoch - 2 train_loss - 0.52 acc - 0.731 auc - 0.741\n"
     ]
    },
    {
     "name": "stderr",
     "output_type": "stream",
     "text": [
      "valid loss - 0.5920: 100%|██████████| 4/4 [00:01<00:00,  2.99it/s]\n",
      "  0%|          | 0/28 [00:00<?, ?it/s]"
     ]
    },
    {
     "name": "stdout",
     "output_type": "stream",
     "text": [
      "epoch - 2 val_loss - 0.58 val acc - 0.687 val auc - 0.714\n"
     ]
    },
    {
     "name": "stderr",
     "output_type": "stream",
     "text": [
      "loss - 0.4882: 100%|██████████| 28/28 [00:07<00:00,  3.62it/s]\n",
      "  0%|          | 0/4 [00:00<?, ?it/s]"
     ]
    },
    {
     "name": "stdout",
     "output_type": "stream",
     "text": [
      "epoch - 3 train_loss - 0.51 acc - 0.743 auc - 0.767\n"
     ]
    },
    {
     "name": "stderr",
     "output_type": "stream",
     "text": [
      "valid loss - 0.5920: 100%|██████████| 4/4 [00:01<00:00,  3.76it/s]\n",
      "  0%|          | 0/28 [00:00<?, ?it/s]"
     ]
    },
    {
     "name": "stdout",
     "output_type": "stream",
     "text": [
      "epoch - 3 val_loss - 0.57 val acc - 0.703 val auc - 0.731\n"
     ]
    },
    {
     "name": "stderr",
     "output_type": "stream",
     "text": [
      "loss - 0.5509: 100%|██████████| 28/28 [00:08<00:00,  3.40it/s]\n",
      "  0%|          | 0/4 [00:00<?, ?it/s]"
     ]
    },
    {
     "name": "stdout",
     "output_type": "stream",
     "text": [
      "epoch - 4 train_loss - 0.49 acc - 0.754 auc - 0.790\n"
     ]
    },
    {
     "name": "stderr",
     "output_type": "stream",
     "text": [
      "valid loss - 0.5372: 100%|██████████| 4/4 [00:01<00:00,  3.24it/s]\n",
      "  0%|          | 0/28 [00:00<?, ?it/s]"
     ]
    },
    {
     "name": "stdout",
     "output_type": "stream",
     "text": [
      "epoch - 4 val_loss - 0.55 val acc - 0.711 val auc - 0.749\n"
     ]
    },
    {
     "name": "stderr",
     "output_type": "stream",
     "text": [
      "loss - 0.4132: 100%|██████████| 28/28 [00:08<00:00,  3.40it/s]\n",
      "  0%|          | 0/4 [00:00<?, ?it/s]"
     ]
    },
    {
     "name": "stdout",
     "output_type": "stream",
     "text": [
      "epoch - 5 train_loss - 0.47 acc - 0.764 auc - 0.808\n"
     ]
    },
    {
     "name": "stderr",
     "output_type": "stream",
     "text": [
      "valid loss - 0.6020: 100%|██████████| 4/4 [00:01<00:00,  3.24it/s]\n",
      "  0%|          | 0/28 [00:00<?, ?it/s]"
     ]
    },
    {
     "name": "stdout",
     "output_type": "stream",
     "text": [
      "epoch - 5 val_loss - 0.56 val acc - 0.717 val auc - 0.760\n"
     ]
    },
    {
     "name": "stderr",
     "output_type": "stream",
     "text": [
      "loss - 0.4214: 100%|██████████| 28/28 [00:08<00:00,  3.17it/s]\n",
      "  0%|          | 0/4 [00:00<?, ?it/s]"
     ]
    },
    {
     "name": "stdout",
     "output_type": "stream",
     "text": [
      "epoch - 6 train_loss - 0.46 acc - 0.772 auc - 0.821\n"
     ]
    },
    {
     "name": "stderr",
     "output_type": "stream",
     "text": [
      "valid loss - 0.5465: 100%|██████████| 4/4 [00:01<00:00,  3.79it/s]\n",
      "  0%|          | 0/28 [00:00<?, ?it/s]"
     ]
    },
    {
     "name": "stdout",
     "output_type": "stream",
     "text": [
      "epoch - 6 val_loss - 0.54 val acc - 0.720 val auc - 0.767\n"
     ]
    },
    {
     "name": "stderr",
     "output_type": "stream",
     "text": [
      "loss - 0.4721: 100%|██████████| 28/28 [00:08<00:00,  3.41it/s]\n",
      "  0%|          | 0/4 [00:00<?, ?it/s]"
     ]
    },
    {
     "name": "stdout",
     "output_type": "stream",
     "text": [
      "epoch - 7 train_loss - 0.45 acc - 0.778 auc - 0.831\n"
     ]
    },
    {
     "name": "stderr",
     "output_type": "stream",
     "text": [
      "valid loss - 0.5331: 100%|██████████| 4/4 [00:01<00:00,  3.65it/s]\n",
      "  0%|          | 0/28 [00:00<?, ?it/s]"
     ]
    },
    {
     "name": "stdout",
     "output_type": "stream",
     "text": [
      "epoch - 7 val_loss - 0.53 val acc - 0.726 val auc - 0.773\n"
     ]
    },
    {
     "name": "stderr",
     "output_type": "stream",
     "text": [
      "loss - 0.4545: 100%|██████████| 28/28 [00:08<00:00,  3.45it/s]\n",
      "  0%|          | 0/4 [00:00<?, ?it/s]"
     ]
    },
    {
     "name": "stdout",
     "output_type": "stream",
     "text": [
      "epoch - 8 train_loss - 0.44 acc - 0.782 auc - 0.838\n"
     ]
    },
    {
     "name": "stderr",
     "output_type": "stream",
     "text": [
      "valid loss - 0.5465: 100%|██████████| 4/4 [00:01<00:00,  3.25it/s]\n",
      "  0%|          | 0/28 [00:00<?, ?it/s]"
     ]
    },
    {
     "name": "stdout",
     "output_type": "stream",
     "text": [
      "epoch - 8 val_loss - 0.54 val acc - 0.727 val auc - 0.776\n"
     ]
    },
    {
     "name": "stderr",
     "output_type": "stream",
     "text": [
      "loss - 0.4464: 100%|██████████| 28/28 [00:07<00:00,  3.52it/s]\n",
      "  0%|          | 0/4 [00:00<?, ?it/s]"
     ]
    },
    {
     "name": "stdout",
     "output_type": "stream",
     "text": [
      "epoch - 9 train_loss - 0.43 acc - 0.787 auc - 0.844\n"
     ]
    },
    {
     "name": "stderr",
     "output_type": "stream",
     "text": [
      "valid loss - 0.4624: 100%|██████████| 4/4 [00:01<00:00,  3.36it/s]\n",
      "  0%|          | 0/28 [00:00<?, ?it/s]"
     ]
    },
    {
     "name": "stdout",
     "output_type": "stream",
     "text": [
      "epoch - 9 val_loss - 0.52 val acc - 0.723 val auc - 0.774\n"
     ]
    },
    {
     "name": "stderr",
     "output_type": "stream",
     "text": [
      "loss - 0.4183: 100%|██████████| 28/28 [00:08<00:00,  3.25it/s]\n",
      "  0%|          | 0/4 [00:00<?, ?it/s]"
     ]
    },
    {
     "name": "stdout",
     "output_type": "stream",
     "text": [
      "epoch - 10 train_loss - 0.43 acc - 0.791 auc - 0.850\n"
     ]
    },
    {
     "name": "stderr",
     "output_type": "stream",
     "text": [
      "valid loss - 0.5107: 100%|██████████| 4/4 [00:01<00:00,  3.15it/s]\n",
      "  0%|          | 0/28 [00:00<?, ?it/s]"
     ]
    },
    {
     "name": "stdout",
     "output_type": "stream",
     "text": [
      "epoch - 10 val_loss - 0.53 val acc - 0.723 val auc - 0.777\n"
     ]
    },
    {
     "name": "stderr",
     "output_type": "stream",
     "text": [
      "loss - 0.4046: 100%|██████████| 28/28 [00:07<00:00,  3.54it/s]\n",
      "  0%|          | 0/4 [00:00<?, ?it/s]"
     ]
    },
    {
     "name": "stdout",
     "output_type": "stream",
     "text": [
      "epoch - 11 train_loss - 0.42 acc - 0.796 auc - 0.857\n"
     ]
    },
    {
     "name": "stderr",
     "output_type": "stream",
     "text": [
      "valid loss - 0.5355: 100%|██████████| 4/4 [00:01<00:00,  2.38it/s]\n",
      "  0%|          | 0/28 [00:00<?, ?it/s]"
     ]
    },
    {
     "name": "stdout",
     "output_type": "stream",
     "text": [
      "epoch - 11 val_loss - 0.53 val acc - 0.729 val auc - 0.780\n"
     ]
    },
    {
     "name": "stderr",
     "output_type": "stream",
     "text": [
      "loss - 0.4452: 100%|██████████| 28/28 [00:08<00:00,  3.46it/s]\n",
      "  0%|          | 0/4 [00:00<?, ?it/s]"
     ]
    },
    {
     "name": "stdout",
     "output_type": "stream",
     "text": [
      "epoch - 12 train_loss - 0.41 acc - 0.800 auc - 0.863\n"
     ]
    },
    {
     "name": "stderr",
     "output_type": "stream",
     "text": [
      "valid loss - 0.5015: 100%|██████████| 4/4 [00:01<00:00,  2.65it/s]\n",
      "  0%|          | 0/28 [00:00<?, ?it/s]"
     ]
    },
    {
     "name": "stdout",
     "output_type": "stream",
     "text": [
      "epoch - 12 val_loss - 0.52 val acc - 0.728 val auc - 0.781\n"
     ]
    },
    {
     "name": "stderr",
     "output_type": "stream",
     "text": [
      "loss - 0.4100: 100%|██████████| 28/28 [00:07<00:00,  3.54it/s]\n",
      "  0%|          | 0/4 [00:00<?, ?it/s]"
     ]
    },
    {
     "name": "stdout",
     "output_type": "stream",
     "text": [
      "epoch - 13 train_loss - 0.40 acc - 0.803 auc - 0.867\n"
     ]
    },
    {
     "name": "stderr",
     "output_type": "stream",
     "text": [
      "valid loss - 0.5379: 100%|██████████| 4/4 [00:01<00:00,  3.34it/s]\n",
      "  0%|          | 0/28 [00:00<?, ?it/s]"
     ]
    },
    {
     "name": "stdout",
     "output_type": "stream",
     "text": [
      "epoch - 13 val_loss - 0.53 val acc - 0.729 val auc - 0.781\n"
     ]
    },
    {
     "name": "stderr",
     "output_type": "stream",
     "text": [
      "loss - 0.3989: 100%|██████████| 28/28 [00:08<00:00,  3.19it/s]\n",
      "  0%|          | 0/4 [00:00<?, ?it/s]"
     ]
    },
    {
     "name": "stdout",
     "output_type": "stream",
     "text": [
      "epoch - 14 train_loss - 0.40 acc - 0.806 auc - 0.871\n"
     ]
    },
    {
     "name": "stderr",
     "output_type": "stream",
     "text": [
      "valid loss - 0.5050: 100%|██████████| 4/4 [00:01<00:00,  3.62it/s]\n",
      "  0%|          | 0/4 [00:00<?, ?it/s]"
     ]
    },
    {
     "name": "stdout",
     "output_type": "stream",
     "text": [
      "epoch - 14 val_loss - 0.53 val acc - 0.730 val auc - 0.782\n",
      "Val Loss does not improve for 5 consecutive epochs\n"
     ]
    },
    {
     "name": "stderr",
     "output_type": "stream",
     "text": [
      "valid loss - 0.3940: 100%|██████████| 4/4 [00:01<00:00,  3.43it/s]\n"
     ]
    },
    {
     "name": "stdout",
     "output_type": "stream",
     "text": [
      "epoch - 14 test_loss - 0.38 acc - 0.826 auc - 0.863\n",
      "----------------------------------------------------------------------------\n"
     ]
    },
    {
     "name": "stderr",
     "output_type": "stream",
     "text": [
      "loss - 0.5676: 100%|██████████| 28/28 [00:08<00:00,  3.28it/s]\n",
      "  0%|          | 0/4 [00:00<?, ?it/s]"
     ]
    },
    {
     "name": "stdout",
     "output_type": "stream",
     "text": [
      "epoch - 0 train_loss - 0.62 acc - 0.703 auc - 0.562\n"
     ]
    },
    {
     "name": "stderr",
     "output_type": "stream",
     "text": [
      "valid loss - 0.6180: 100%|██████████| 4/4 [00:01<00:00,  3.70it/s]\n",
      "  0%|          | 0/28 [00:00<?, ?it/s]"
     ]
    },
    {
     "name": "stdout",
     "output_type": "stream",
     "text": [
      "epoch - 0 val_loss - 0.61 val acc - 0.671 val auc - 0.675\n"
     ]
    },
    {
     "name": "stderr",
     "output_type": "stream",
     "text": [
      "loss - 0.5060: 100%|██████████| 28/28 [00:08<00:00,  3.38it/s]\n",
      "  0%|          | 0/4 [00:00<?, ?it/s]"
     ]
    },
    {
     "name": "stdout",
     "output_type": "stream",
     "text": [
      "epoch - 1 train_loss - 0.55 acc - 0.722 auc - 0.703\n"
     ]
    },
    {
     "name": "stderr",
     "output_type": "stream",
     "text": [
      "valid loss - 0.5536: 100%|██████████| 4/4 [00:01<00:00,  3.75it/s]\n",
      "  0%|          | 0/28 [00:00<?, ?it/s]"
     ]
    },
    {
     "name": "stdout",
     "output_type": "stream",
     "text": [
      "epoch - 1 val_loss - 0.58 val acc - 0.694 val auc - 0.720\n"
     ]
    },
    {
     "name": "stderr",
     "output_type": "stream",
     "text": [
      "loss - 0.5179: 100%|██████████| 28/28 [00:08<00:00,  3.30it/s]\n",
      "  0%|          | 0/4 [00:00<?, ?it/s]"
     ]
    },
    {
     "name": "stdout",
     "output_type": "stream",
     "text": [
      "epoch - 2 train_loss - 0.52 acc - 0.736 auc - 0.746\n"
     ]
    },
    {
     "name": "stderr",
     "output_type": "stream",
     "text": [
      "valid loss - 0.5404: 100%|██████████| 4/4 [00:01<00:00,  3.62it/s]\n",
      "  0%|          | 0/28 [00:00<?, ?it/s]"
     ]
    },
    {
     "name": "stdout",
     "output_type": "stream",
     "text": [
      "epoch - 2 val_loss - 0.56 val acc - 0.706 val auc - 0.743\n"
     ]
    },
    {
     "name": "stderr",
     "output_type": "stream",
     "text": [
      "loss - 0.4882: 100%|██████████| 28/28 [00:08<00:00,  3.28it/s]\n",
      "  0%|          | 0/4 [00:00<?, ?it/s]"
     ]
    },
    {
     "name": "stdout",
     "output_type": "stream",
     "text": [
      "epoch - 3 train_loss - 0.50 acc - 0.747 auc - 0.773\n"
     ]
    },
    {
     "name": "stderr",
     "output_type": "stream",
     "text": [
      "valid loss - 0.5633: 100%|██████████| 4/4 [00:01<00:00,  3.47it/s]\n",
      "  0%|          | 0/28 [00:00<?, ?it/s]"
     ]
    },
    {
     "name": "stdout",
     "output_type": "stream",
     "text": [
      "epoch - 3 val_loss - 0.56 val acc - 0.714 val auc - 0.761\n"
     ]
    },
    {
     "name": "stderr",
     "output_type": "stream",
     "text": [
      "loss - 0.4974: 100%|██████████| 28/28 [00:08<00:00,  3.33it/s]\n",
      "  0%|          | 0/4 [00:00<?, ?it/s]"
     ]
    },
    {
     "name": "stdout",
     "output_type": "stream",
     "text": [
      "epoch - 4 train_loss - 0.48 acc - 0.757 auc - 0.793\n"
     ]
    },
    {
     "name": "stderr",
     "output_type": "stream",
     "text": [
      "valid loss - 0.5173: 100%|██████████| 4/4 [00:01<00:00,  3.65it/s]\n",
      "  0%|          | 0/28 [00:00<?, ?it/s]"
     ]
    },
    {
     "name": "stdout",
     "output_type": "stream",
     "text": [
      "epoch - 4 val_loss - 0.53 val acc - 0.719 val auc - 0.775\n"
     ]
    },
    {
     "name": "stderr",
     "output_type": "stream",
     "text": [
      "loss - 0.4778: 100%|██████████| 28/28 [00:08<00:00,  3.39it/s]\n",
      "  0%|          | 0/4 [00:00<?, ?it/s]"
     ]
    },
    {
     "name": "stdout",
     "output_type": "stream",
     "text": [
      "epoch - 5 train_loss - 0.47 acc - 0.767 auc - 0.811\n"
     ]
    },
    {
     "name": "stderr",
     "output_type": "stream",
     "text": [
      "valid loss - 0.5474: 100%|██████████| 4/4 [00:01<00:00,  3.64it/s]\n",
      "  0%|          | 0/28 [00:00<?, ?it/s]"
     ]
    },
    {
     "name": "stdout",
     "output_type": "stream",
     "text": [
      "epoch - 5 val_loss - 0.54 val acc - 0.721 val auc - 0.782\n"
     ]
    },
    {
     "name": "stderr",
     "output_type": "stream",
     "text": [
      "loss - 0.4758: 100%|██████████| 28/28 [00:08<00:00,  3.46it/s]\n",
      "  0%|          | 0/4 [00:00<?, ?it/s]"
     ]
    },
    {
     "name": "stdout",
     "output_type": "stream",
     "text": [
      "epoch - 6 train_loss - 0.45 acc - 0.773 auc - 0.823\n"
     ]
    },
    {
     "name": "stderr",
     "output_type": "stream",
     "text": [
      "valid loss - 0.5250: 100%|██████████| 4/4 [00:01<00:00,  2.89it/s]\n",
      "  0%|          | 0/28 [00:00<?, ?it/s]"
     ]
    },
    {
     "name": "stdout",
     "output_type": "stream",
     "text": [
      "epoch - 6 val_loss - 0.53 val acc - 0.726 val auc - 0.785\n"
     ]
    },
    {
     "name": "stderr",
     "output_type": "stream",
     "text": [
      "loss - 0.4322: 100%|██████████| 28/28 [00:08<00:00,  3.23it/s]\n",
      "  0%|          | 0/4 [00:00<?, ?it/s]"
     ]
    },
    {
     "name": "stdout",
     "output_type": "stream",
     "text": [
      "epoch - 7 train_loss - 0.44 acc - 0.779 auc - 0.832\n"
     ]
    },
    {
     "name": "stderr",
     "output_type": "stream",
     "text": [
      "valid loss - 0.5269: 100%|██████████| 4/4 [00:01<00:00,  3.55it/s]\n",
      "  0%|          | 0/28 [00:00<?, ?it/s]"
     ]
    },
    {
     "name": "stdout",
     "output_type": "stream",
     "text": [
      "epoch - 7 val_loss - 0.53 val acc - 0.726 val auc - 0.788\n"
     ]
    },
    {
     "name": "stderr",
     "output_type": "stream",
     "text": [
      "loss - 0.4478: 100%|██████████| 28/28 [00:08<00:00,  3.49it/s]\n",
      "  0%|          | 0/4 [00:00<?, ?it/s]"
     ]
    },
    {
     "name": "stdout",
     "output_type": "stream",
     "text": [
      "epoch - 8 train_loss - 0.44 acc - 0.784 auc - 0.839\n"
     ]
    },
    {
     "name": "stderr",
     "output_type": "stream",
     "text": [
      "valid loss - 0.5058: 100%|██████████| 4/4 [00:01<00:00,  3.64it/s]\n",
      "  0%|          | 0/28 [00:00<?, ?it/s]"
     ]
    },
    {
     "name": "stdout",
     "output_type": "stream",
     "text": [
      "epoch - 8 val_loss - 0.52 val acc - 0.731 val auc - 0.791\n"
     ]
    },
    {
     "name": "stderr",
     "output_type": "stream",
     "text": [
      "loss - 0.3955: 100%|██████████| 28/28 [00:08<00:00,  3.48it/s]\n",
      "  0%|          | 0/4 [00:00<?, ?it/s]"
     ]
    },
    {
     "name": "stdout",
     "output_type": "stream",
     "text": [
      "epoch - 9 train_loss - 0.43 acc - 0.789 auc - 0.847\n"
     ]
    },
    {
     "name": "stderr",
     "output_type": "stream",
     "text": [
      "valid loss - 0.5145: 100%|██████████| 4/4 [00:01<00:00,  3.26it/s]\n",
      "  0%|          | 0/28 [00:00<?, ?it/s]"
     ]
    },
    {
     "name": "stdout",
     "output_type": "stream",
     "text": [
      "epoch - 9 val_loss - 0.52 val acc - 0.731 val auc - 0.792\n"
     ]
    },
    {
     "name": "stderr",
     "output_type": "stream",
     "text": [
      "loss - 0.4133: 100%|██████████| 28/28 [00:09<00:00,  2.99it/s]\n",
      "  0%|          | 0/4 [00:00<?, ?it/s]"
     ]
    },
    {
     "name": "stdout",
     "output_type": "stream",
     "text": [
      "epoch - 10 train_loss - 0.42 acc - 0.794 auc - 0.853\n"
     ]
    },
    {
     "name": "stderr",
     "output_type": "stream",
     "text": [
      "valid loss - 0.5270: 100%|██████████| 4/4 [00:01<00:00,  3.51it/s]\n",
      "  0%|          | 0/28 [00:00<?, ?it/s]"
     ]
    },
    {
     "name": "stdout",
     "output_type": "stream",
     "text": [
      "epoch - 10 val_loss - 0.53 val acc - 0.730 val auc - 0.792\n"
     ]
    },
    {
     "name": "stderr",
     "output_type": "stream",
     "text": [
      "loss - 0.3894: 100%|██████████| 28/28 [00:08<00:00,  3.44it/s]\n",
      "  0%|          | 0/4 [00:00<?, ?it/s]"
     ]
    },
    {
     "name": "stdout",
     "output_type": "stream",
     "text": [
      "epoch - 11 train_loss - 0.41 acc - 0.797 auc - 0.858\n"
     ]
    },
    {
     "name": "stderr",
     "output_type": "stream",
     "text": [
      "valid loss - 0.5415: 100%|██████████| 4/4 [00:01<00:00,  3.03it/s]\n",
      "  0%|          | 0/28 [00:00<?, ?it/s]"
     ]
    },
    {
     "name": "stdout",
     "output_type": "stream",
     "text": [
      "epoch - 11 val_loss - 0.53 val acc - 0.731 val auc - 0.792\n"
     ]
    },
    {
     "name": "stderr",
     "output_type": "stream",
     "text": [
      "loss - 0.3963: 100%|██████████| 28/28 [00:07<00:00,  3.55it/s]\n",
      "  0%|          | 0/4 [00:00<?, ?it/s]"
     ]
    },
    {
     "name": "stdout",
     "output_type": "stream",
     "text": [
      "epoch - 12 train_loss - 0.41 acc - 0.802 auc - 0.863\n"
     ]
    },
    {
     "name": "stderr",
     "output_type": "stream",
     "text": [
      "valid loss - 0.5309: 100%|██████████| 4/4 [00:01<00:00,  3.60it/s]\n",
      "  0%|          | 0/28 [00:00<?, ?it/s]"
     ]
    },
    {
     "name": "stdout",
     "output_type": "stream",
     "text": [
      "epoch - 12 val_loss - 0.53 val acc - 0.729 val auc - 0.791\n"
     ]
    },
    {
     "name": "stderr",
     "output_type": "stream",
     "text": [
      "loss - 0.3547: 100%|██████████| 28/28 [00:08<00:00,  3.25it/s]\n",
      "  0%|          | 0/4 [00:00<?, ?it/s]"
     ]
    },
    {
     "name": "stdout",
     "output_type": "stream",
     "text": [
      "epoch - 13 train_loss - 0.40 acc - 0.805 auc - 0.868\n"
     ]
    },
    {
     "name": "stderr",
     "output_type": "stream",
     "text": [
      "valid loss - 0.5663: 100%|██████████| 4/4 [00:01<00:00,  3.21it/s]\n",
      "  0%|          | 0/4 [00:00<?, ?it/s]"
     ]
    },
    {
     "name": "stdout",
     "output_type": "stream",
     "text": [
      "epoch - 13 val_loss - 0.54 val acc - 0.732 val auc - 0.792\n",
      "Val Loss does not improve for 5 consecutive epochs\n"
     ]
    },
    {
     "name": "stderr",
     "output_type": "stream",
     "text": [
      "valid loss - 0.4148: 100%|██████████| 4/4 [00:01<00:00,  3.73it/s]\n",
      "  0%|          | 0/28 [00:00<?, ?it/s]"
     ]
    },
    {
     "name": "stdout",
     "output_type": "stream",
     "text": [
      "epoch - 13 test_loss - 0.39 acc - 0.825 auc - 0.865\n",
      "----------------------------------------------------------------------------\n"
     ]
    },
    {
     "name": "stderr",
     "output_type": "stream",
     "text": [
      "loss - 0.5349: 100%|██████████| 28/28 [00:08<00:00,  3.42it/s]\n",
      "  0%|          | 0/4 [00:00<?, ?it/s]"
     ]
    },
    {
     "name": "stdout",
     "output_type": "stream",
     "text": [
      "epoch - 0 train_loss - 0.61 acc - 0.702 auc - 0.591\n"
     ]
    },
    {
     "name": "stderr",
     "output_type": "stream",
     "text": [
      "valid loss - 0.5934: 100%|██████████| 4/4 [00:01<00:00,  3.66it/s]\n",
      "  0%|          | 0/28 [00:00<?, ?it/s]"
     ]
    },
    {
     "name": "stdout",
     "output_type": "stream",
     "text": [
      "epoch - 0 val_loss - 0.64 val acc - 0.652 val auc - 0.657\n"
     ]
    },
    {
     "name": "stderr",
     "output_type": "stream",
     "text": [
      "loss - 0.4688: 100%|██████████| 28/28 [00:08<00:00,  3.37it/s]\n",
      "  0%|          | 0/4 [00:00<?, ?it/s]"
     ]
    },
    {
     "name": "stdout",
     "output_type": "stream",
     "text": [
      "epoch - 1 train_loss - 0.53 acc - 0.731 auc - 0.724\n"
     ]
    },
    {
     "name": "stderr",
     "output_type": "stream",
     "text": [
      "valid loss - 0.6048: 100%|██████████| 4/4 [00:01<00:00,  3.56it/s]\n",
      "  0%|          | 0/28 [00:00<?, ?it/s]"
     ]
    },
    {
     "name": "stdout",
     "output_type": "stream",
     "text": [
      "epoch - 1 val_loss - 0.60 val acc - 0.673 val auc - 0.701\n"
     ]
    },
    {
     "name": "stderr",
     "output_type": "stream",
     "text": [
      "loss - 0.4908: 100%|██████████| 28/28 [00:08<00:00,  3.28it/s]\n",
      "  0%|          | 0/4 [00:00<?, ?it/s]"
     ]
    },
    {
     "name": "stdout",
     "output_type": "stream",
     "text": [
      "epoch - 2 train_loss - 0.51 acc - 0.742 auc - 0.757\n"
     ]
    },
    {
     "name": "stderr",
     "output_type": "stream",
     "text": [
      "valid loss - 0.5594: 100%|██████████| 4/4 [00:01<00:00,  3.70it/s]\n",
      "  0%|          | 0/28 [00:00<?, ?it/s]"
     ]
    },
    {
     "name": "stdout",
     "output_type": "stream",
     "text": [
      "epoch - 2 val_loss - 0.59 val acc - 0.683 val auc - 0.721\n"
     ]
    },
    {
     "name": "stderr",
     "output_type": "stream",
     "text": [
      "loss - 0.5088: 100%|██████████| 28/28 [00:08<00:00,  3.38it/s]\n",
      "  0%|          | 0/4 [00:00<?, ?it/s]"
     ]
    },
    {
     "name": "stdout",
     "output_type": "stream",
     "text": [
      "epoch - 3 train_loss - 0.49 acc - 0.752 auc - 0.779\n"
     ]
    },
    {
     "name": "stderr",
     "output_type": "stream",
     "text": [
      "valid loss - 0.5919: 100%|██████████| 4/4 [00:01<00:00,  3.60it/s]\n",
      "  0%|          | 0/28 [00:00<?, ?it/s]"
     ]
    },
    {
     "name": "stdout",
     "output_type": "stream",
     "text": [
      "epoch - 3 val_loss - 0.58 val acc - 0.692 val auc - 0.736\n"
     ]
    },
    {
     "name": "stderr",
     "output_type": "stream",
     "text": [
      "loss - 0.4720: 100%|██████████| 28/28 [00:08<00:00,  3.14it/s]\n",
      "  0%|          | 0/4 [00:00<?, ?it/s]"
     ]
    },
    {
     "name": "stdout",
     "output_type": "stream",
     "text": [
      "epoch - 4 train_loss - 0.48 acc - 0.760 auc - 0.796\n"
     ]
    },
    {
     "name": "stderr",
     "output_type": "stream",
     "text": [
      "valid loss - 0.5653: 100%|██████████| 4/4 [00:01<00:00,  3.65it/s]\n",
      "  0%|          | 0/28 [00:00<?, ?it/s]"
     ]
    },
    {
     "name": "stdout",
     "output_type": "stream",
     "text": [
      "epoch - 4 val_loss - 0.57 val acc - 0.697 val auc - 0.748\n"
     ]
    },
    {
     "name": "stderr",
     "output_type": "stream",
     "text": [
      "loss - 0.4949: 100%|██████████| 28/28 [00:08<00:00,  3.41it/s]\n",
      "  0%|          | 0/4 [00:00<?, ?it/s]"
     ]
    },
    {
     "name": "stdout",
     "output_type": "stream",
     "text": [
      "epoch - 5 train_loss - 0.46 acc - 0.768 auc - 0.811\n"
     ]
    },
    {
     "name": "stderr",
     "output_type": "stream",
     "text": [
      "valid loss - 0.5792: 100%|██████████| 4/4 [00:01<00:00,  2.99it/s]\n",
      "  0%|          | 0/28 [00:00<?, ?it/s]"
     ]
    },
    {
     "name": "stdout",
     "output_type": "stream",
     "text": [
      "epoch - 5 val_loss - 0.57 val acc - 0.697 val auc - 0.757\n"
     ]
    },
    {
     "name": "stderr",
     "output_type": "stream",
     "text": [
      "loss - 0.4689: 100%|██████████| 28/28 [00:08<00:00,  3.18it/s]\n",
      "  0%|          | 0/4 [00:00<?, ?it/s]"
     ]
    },
    {
     "name": "stdout",
     "output_type": "stream",
     "text": [
      "epoch - 6 train_loss - 0.45 acc - 0.775 auc - 0.823\n"
     ]
    },
    {
     "name": "stderr",
     "output_type": "stream",
     "text": [
      "valid loss - 0.5537: 100%|██████████| 4/4 [00:01<00:00,  3.72it/s]\n",
      "  0%|          | 0/28 [00:00<?, ?it/s]"
     ]
    },
    {
     "name": "stdout",
     "output_type": "stream",
     "text": [
      "epoch - 6 val_loss - 0.56 val acc - 0.709 val auc - 0.764\n"
     ]
    },
    {
     "name": "stderr",
     "output_type": "stream",
     "text": [
      "loss - 0.4312: 100%|██████████| 28/28 [00:08<00:00,  3.36it/s]\n",
      "  0%|          | 0/4 [00:00<?, ?it/s]"
     ]
    },
    {
     "name": "stdout",
     "output_type": "stream",
     "text": [
      "epoch - 7 train_loss - 0.44 acc - 0.781 auc - 0.832\n"
     ]
    },
    {
     "name": "stderr",
     "output_type": "stream",
     "text": [
      "valid loss - 0.5510: 100%|██████████| 4/4 [00:01<00:00,  3.71it/s]\n",
      "  0%|          | 0/28 [00:00<?, ?it/s]"
     ]
    },
    {
     "name": "stdout",
     "output_type": "stream",
     "text": [
      "epoch - 7 val_loss - 0.56 val acc - 0.709 val auc - 0.767\n"
     ]
    },
    {
     "name": "stderr",
     "output_type": "stream",
     "text": [
      "loss - 0.4640: 100%|██████████| 28/28 [00:08<00:00,  3.44it/s]\n",
      "  0%|          | 0/4 [00:00<?, ?it/s]"
     ]
    },
    {
     "name": "stdout",
     "output_type": "stream",
     "text": [
      "epoch - 8 train_loss - 0.43 acc - 0.786 auc - 0.840\n"
     ]
    },
    {
     "name": "stderr",
     "output_type": "stream",
     "text": [
      "valid loss - 0.5675: 100%|██████████| 4/4 [00:01<00:00,  3.56it/s]\n",
      "  0%|          | 0/28 [00:00<?, ?it/s]"
     ]
    },
    {
     "name": "stdout",
     "output_type": "stream",
     "text": [
      "epoch - 8 val_loss - 0.55 val acc - 0.714 val auc - 0.770\n"
     ]
    },
    {
     "name": "stderr",
     "output_type": "stream",
     "text": [
      "loss - 0.4266: 100%|██████████| 28/28 [00:08<00:00,  3.44it/s]\n",
      "  0%|          | 0/4 [00:00<?, ?it/s]"
     ]
    },
    {
     "name": "stdout",
     "output_type": "stream",
     "text": [
      "epoch - 9 train_loss - 0.43 acc - 0.791 auc - 0.847\n"
     ]
    },
    {
     "name": "stderr",
     "output_type": "stream",
     "text": [
      "valid loss - 0.5623: 100%|██████████| 4/4 [00:01<00:00,  3.00it/s]\n",
      "  0%|          | 0/28 [00:00<?, ?it/s]"
     ]
    },
    {
     "name": "stdout",
     "output_type": "stream",
     "text": [
      "epoch - 9 val_loss - 0.56 val acc - 0.712 val auc - 0.772\n"
     ]
    },
    {
     "name": "stderr",
     "output_type": "stream",
     "text": [
      "loss - 0.4196: 100%|██████████| 28/28 [00:07<00:00,  3.53it/s]\n",
      "  0%|          | 0/4 [00:00<?, ?it/s]"
     ]
    },
    {
     "name": "stdout",
     "output_type": "stream",
     "text": [
      "epoch - 10 train_loss - 0.42 acc - 0.795 auc - 0.853\n"
     ]
    },
    {
     "name": "stderr",
     "output_type": "stream",
     "text": [
      "valid loss - 0.5862: 100%|██████████| 4/4 [00:01<00:00,  3.70it/s]\n",
      "  0%|          | 0/28 [00:00<?, ?it/s]"
     ]
    },
    {
     "name": "stdout",
     "output_type": "stream",
     "text": [
      "epoch - 10 val_loss - 0.55 val acc - 0.718 val auc - 0.774\n"
     ]
    },
    {
     "name": "stderr",
     "output_type": "stream",
     "text": [
      "loss - 0.4199: 100%|██████████| 28/28 [00:08<00:00,  3.34it/s]\n",
      "  0%|          | 0/4 [00:00<?, ?it/s]"
     ]
    },
    {
     "name": "stdout",
     "output_type": "stream",
     "text": [
      "epoch - 11 train_loss - 0.41 acc - 0.800 auc - 0.859\n"
     ]
    },
    {
     "name": "stderr",
     "output_type": "stream",
     "text": [
      "valid loss - 0.5721: 100%|██████████| 4/4 [00:01<00:00,  3.04it/s]\n",
      "  0%|          | 0/28 [00:00<?, ?it/s]"
     ]
    },
    {
     "name": "stdout",
     "output_type": "stream",
     "text": [
      "epoch - 11 val_loss - 0.55 val acc - 0.720 val auc - 0.775\n"
     ]
    },
    {
     "name": "stderr",
     "output_type": "stream",
     "text": [
      "loss - 0.3724: 100%|██████████| 28/28 [00:08<00:00,  3.38it/s]\n",
      "  0%|          | 0/4 [00:00<?, ?it/s]"
     ]
    },
    {
     "name": "stdout",
     "output_type": "stream",
     "text": [
      "epoch - 12 train_loss - 0.40 acc - 0.803 auc - 0.865\n"
     ]
    },
    {
     "name": "stderr",
     "output_type": "stream",
     "text": [
      "valid loss - 0.5619: 100%|██████████| 4/4 [00:01<00:00,  2.82it/s]\n",
      "  0%|          | 0/28 [00:00<?, ?it/s]"
     ]
    },
    {
     "name": "stdout",
     "output_type": "stream",
     "text": [
      "epoch - 12 val_loss - 0.55 val acc - 0.720 val auc - 0.774\n"
     ]
    },
    {
     "name": "stderr",
     "output_type": "stream",
     "text": [
      "loss - 0.4047: 100%|██████████| 28/28 [00:09<00:00,  3.09it/s]\n",
      "  0%|          | 0/4 [00:00<?, ?it/s]"
     ]
    },
    {
     "name": "stdout",
     "output_type": "stream",
     "text": [
      "epoch - 13 train_loss - 0.40 acc - 0.807 auc - 0.869\n"
     ]
    },
    {
     "name": "stderr",
     "output_type": "stream",
     "text": [
      "valid loss - 0.5438: 100%|██████████| 4/4 [00:01<00:00,  3.69it/s]\n",
      "  0%|          | 0/28 [00:00<?, ?it/s]"
     ]
    },
    {
     "name": "stdout",
     "output_type": "stream",
     "text": [
      "epoch - 13 val_loss - 0.56 val acc - 0.720 val auc - 0.774\n"
     ]
    },
    {
     "name": "stderr",
     "output_type": "stream",
     "text": [
      "loss - 0.4308: 100%|██████████| 28/28 [00:08<00:00,  3.34it/s]\n",
      "  0%|          | 0/4 [00:00<?, ?it/s]"
     ]
    },
    {
     "name": "stdout",
     "output_type": "stream",
     "text": [
      "epoch - 14 train_loss - 0.39 acc - 0.810 auc - 0.874\n"
     ]
    },
    {
     "name": "stderr",
     "output_type": "stream",
     "text": [
      "valid loss - 0.5518: 100%|██████████| 4/4 [00:01<00:00,  3.66it/s]\n",
      "  0%|          | 0/28 [00:00<?, ?it/s]"
     ]
    },
    {
     "name": "stdout",
     "output_type": "stream",
     "text": [
      "epoch - 14 val_loss - 0.56 val acc - 0.718 val auc - 0.775\n"
     ]
    },
    {
     "name": "stderr",
     "output_type": "stream",
     "text": [
      "loss - 0.4401: 100%|██████████| 28/28 [00:09<00:00,  3.09it/s]\n",
      "  0%|          | 0/4 [00:00<?, ?it/s]"
     ]
    },
    {
     "name": "stdout",
     "output_type": "stream",
     "text": [
      "epoch - 15 train_loss - 0.39 acc - 0.814 auc - 0.878\n"
     ]
    },
    {
     "name": "stderr",
     "output_type": "stream",
     "text": [
      "valid loss - 0.5596: 100%|██████████| 4/4 [00:01<00:00,  3.76it/s]\n",
      "  0%|          | 0/28 [00:00<?, ?it/s]"
     ]
    },
    {
     "name": "stdout",
     "output_type": "stream",
     "text": [
      "epoch - 15 val_loss - 0.56 val acc - 0.719 val auc - 0.775\n"
     ]
    },
    {
     "name": "stderr",
     "output_type": "stream",
     "text": [
      "loss - 0.3668: 100%|██████████| 28/28 [00:08<00:00,  3.24it/s]\n",
      "  0%|          | 0/4 [00:00<?, ?it/s]"
     ]
    },
    {
     "name": "stdout",
     "output_type": "stream",
     "text": [
      "epoch - 16 train_loss - 0.38 acc - 0.817 auc - 0.882\n"
     ]
    },
    {
     "name": "stderr",
     "output_type": "stream",
     "text": [
      "valid loss - 0.5682: 100%|██████████| 4/4 [00:01<00:00,  3.69it/s]\n",
      "  0%|          | 0/28 [00:00<?, ?it/s]"
     ]
    },
    {
     "name": "stdout",
     "output_type": "stream",
     "text": [
      "epoch - 16 val_loss - 0.57 val acc - 0.714 val auc - 0.774\n"
     ]
    },
    {
     "name": "stderr",
     "output_type": "stream",
     "text": [
      "loss - 0.3340: 100%|██████████| 28/28 [00:08<00:00,  3.36it/s]\n",
      "  0%|          | 0/4 [00:00<?, ?it/s]"
     ]
    },
    {
     "name": "stdout",
     "output_type": "stream",
     "text": [
      "epoch - 17 train_loss - 0.37 acc - 0.821 auc - 0.887\n"
     ]
    },
    {
     "name": "stderr",
     "output_type": "stream",
     "text": [
      "valid loss - 0.5438: 100%|██████████| 4/4 [00:01<00:00,  3.61it/s]\n",
      "  0%|          | 0/4 [00:00<?, ?it/s]"
     ]
    },
    {
     "name": "stdout",
     "output_type": "stream",
     "text": [
      "epoch - 17 val_loss - 0.56 val acc - 0.715 val auc - 0.773\n",
      "Val Loss does not improve for 5 consecutive epochs\n"
     ]
    },
    {
     "name": "stderr",
     "output_type": "stream",
     "text": [
      "valid loss - 0.3879: 100%|██████████| 4/4 [00:01<00:00,  3.68it/s]\n",
      "  0%|          | 0/28 [00:00<?, ?it/s]"
     ]
    },
    {
     "name": "stdout",
     "output_type": "stream",
     "text": [
      "epoch - 17 test_loss - 0.41 acc - 0.806 auc - 0.850\n",
      "----------------------------------------------------------------------------\n"
     ]
    },
    {
     "name": "stderr",
     "output_type": "stream",
     "text": [
      "loss - 0.5462: 100%|██████████| 28/28 [00:08<00:00,  3.38it/s]\n",
      "  0%|          | 0/4 [00:00<?, ?it/s]"
     ]
    },
    {
     "name": "stdout",
     "output_type": "stream",
     "text": [
      "epoch - 0 train_loss - 0.64 acc - 0.692 auc - 0.535\n"
     ]
    },
    {
     "name": "stderr",
     "output_type": "stream",
     "text": [
      "valid loss - 0.6335: 100%|██████████| 4/4 [00:01<00:00,  3.62it/s]\n",
      "  0%|          | 0/28 [00:00<?, ?it/s]"
     ]
    },
    {
     "name": "stdout",
     "output_type": "stream",
     "text": [
      "epoch - 0 val_loss - 0.64 val acc - 0.648 val auc - 0.649\n"
     ]
    },
    {
     "name": "stderr",
     "output_type": "stream",
     "text": [
      "loss - 0.4923: 100%|██████████| 28/28 [00:09<00:00,  3.06it/s]\n",
      "  0%|          | 0/4 [00:00<?, ?it/s]"
     ]
    },
    {
     "name": "stdout",
     "output_type": "stream",
     "text": [
      "epoch - 1 train_loss - 0.55 acc - 0.718 auc - 0.697\n"
     ]
    },
    {
     "name": "stderr",
     "output_type": "stream",
     "text": [
      "valid loss - 0.5778: 100%|██████████| 4/4 [00:01<00:00,  3.13it/s]\n",
      "  0%|          | 0/28 [00:00<?, ?it/s]"
     ]
    },
    {
     "name": "stdout",
     "output_type": "stream",
     "text": [
      "epoch - 1 val_loss - 0.60 val acc - 0.673 val auc - 0.693\n"
     ]
    },
    {
     "name": "stderr",
     "output_type": "stream",
     "text": [
      "loss - 0.5233: 100%|██████████| 28/28 [00:08<00:00,  3.41it/s]\n",
      "  0%|          | 0/4 [00:00<?, ?it/s]"
     ]
    },
    {
     "name": "stdout",
     "output_type": "stream",
     "text": [
      "epoch - 2 train_loss - 0.52 acc - 0.735 auc - 0.749\n"
     ]
    },
    {
     "name": "stderr",
     "output_type": "stream",
     "text": [
      "valid loss - 0.5800: 100%|██████████| 4/4 [00:01<00:00,  3.68it/s]\n",
      "  0%|          | 0/28 [00:00<?, ?it/s]"
     ]
    },
    {
     "name": "stdout",
     "output_type": "stream",
     "text": [
      "epoch - 2 val_loss - 0.58 val acc - 0.686 val auc - 0.718\n"
     ]
    },
    {
     "name": "stderr",
     "output_type": "stream",
     "text": [
      "loss - 0.4566: 100%|██████████| 28/28 [00:08<00:00,  3.50it/s]\n",
      "  0%|          | 0/4 [00:00<?, ?it/s]"
     ]
    },
    {
     "name": "stdout",
     "output_type": "stream",
     "text": [
      "epoch - 3 train_loss - 0.50 acc - 0.745 auc - 0.771\n"
     ]
    },
    {
     "name": "stderr",
     "output_type": "stream",
     "text": [
      "valid loss - 0.5909: 100%|██████████| 4/4 [00:01<00:00,  3.58it/s]\n",
      "  0%|          | 0/28 [00:00<?, ?it/s]"
     ]
    },
    {
     "name": "stdout",
     "output_type": "stream",
     "text": [
      "epoch - 3 val_loss - 0.58 val acc - 0.697 val auc - 0.736\n"
     ]
    },
    {
     "name": "stderr",
     "output_type": "stream",
     "text": [
      "loss - 0.5270: 100%|██████████| 28/28 [00:08<00:00,  3.24it/s]\n",
      "  0%|          | 0/4 [00:00<?, ?it/s]"
     ]
    },
    {
     "name": "stdout",
     "output_type": "stream",
     "text": [
      "epoch - 4 train_loss - 0.49 acc - 0.753 auc - 0.788\n"
     ]
    },
    {
     "name": "stderr",
     "output_type": "stream",
     "text": [
      "valid loss - 0.5962: 100%|██████████| 4/4 [00:01<00:00,  3.60it/s]\n",
      "  0%|          | 0/28 [00:00<?, ?it/s]"
     ]
    },
    {
     "name": "stdout",
     "output_type": "stream",
     "text": [
      "epoch - 4 val_loss - 0.56 val acc - 0.705 val auc - 0.752\n"
     ]
    },
    {
     "name": "stderr",
     "output_type": "stream",
     "text": [
      "loss - 0.4577: 100%|██████████| 28/28 [00:08<00:00,  3.17it/s]\n",
      "  0%|          | 0/4 [00:00<?, ?it/s]"
     ]
    },
    {
     "name": "stdout",
     "output_type": "stream",
     "text": [
      "epoch - 5 train_loss - 0.47 acc - 0.764 auc - 0.806\n"
     ]
    },
    {
     "name": "stderr",
     "output_type": "stream",
     "text": [
      "valid loss - 0.5530: 100%|██████████| 4/4 [00:01<00:00,  3.67it/s]\n",
      "  0%|          | 0/28 [00:00<?, ?it/s]"
     ]
    },
    {
     "name": "stdout",
     "output_type": "stream",
     "text": [
      "epoch - 5 val_loss - 0.55 val acc - 0.711 val auc - 0.763\n"
     ]
    },
    {
     "name": "stderr",
     "output_type": "stream",
     "text": [
      "loss - 0.4394: 100%|██████████| 28/28 [00:08<00:00,  3.49it/s]\n",
      "  0%|          | 0/4 [00:00<?, ?it/s]"
     ]
    },
    {
     "name": "stdout",
     "output_type": "stream",
     "text": [
      "epoch - 6 train_loss - 0.46 acc - 0.771 auc - 0.818\n"
     ]
    },
    {
     "name": "stderr",
     "output_type": "stream",
     "text": [
      "valid loss - 0.5635: 100%|██████████| 4/4 [00:01<00:00,  2.94it/s]\n",
      "  0%|          | 0/28 [00:00<?, ?it/s]"
     ]
    },
    {
     "name": "stdout",
     "output_type": "stream",
     "text": [
      "epoch - 6 val_loss - 0.55 val acc - 0.720 val auc - 0.772\n"
     ]
    },
    {
     "name": "stderr",
     "output_type": "stream",
     "text": [
      "loss - 0.3964: 100%|██████████| 28/28 [00:07<00:00,  3.52it/s]\n",
      "  0%|          | 0/4 [00:00<?, ?it/s]"
     ]
    },
    {
     "name": "stdout",
     "output_type": "stream",
     "text": [
      "epoch - 7 train_loss - 0.45 acc - 0.775 auc - 0.826\n"
     ]
    },
    {
     "name": "stderr",
     "output_type": "stream",
     "text": [
      "valid loss - 0.5376: 100%|██████████| 4/4 [00:01<00:00,  3.58it/s]\n",
      "  0%|          | 0/28 [00:00<?, ?it/s]"
     ]
    },
    {
     "name": "stdout",
     "output_type": "stream",
     "text": [
      "epoch - 7 val_loss - 0.54 val acc - 0.721 val auc - 0.775\n"
     ]
    },
    {
     "name": "stderr",
     "output_type": "stream",
     "text": [
      "loss - 0.3836: 100%|██████████| 28/28 [00:08<00:00,  3.34it/s]\n",
      "  0%|          | 0/4 [00:00<?, ?it/s]"
     ]
    },
    {
     "name": "stdout",
     "output_type": "stream",
     "text": [
      "epoch - 8 train_loss - 0.44 acc - 0.781 auc - 0.835\n"
     ]
    },
    {
     "name": "stderr",
     "output_type": "stream",
     "text": [
      "valid loss - 0.5938: 100%|██████████| 4/4 [00:01<00:00,  2.27it/s]\n",
      "  0%|          | 0/28 [00:00<?, ?it/s]"
     ]
    },
    {
     "name": "stdout",
     "output_type": "stream",
     "text": [
      "epoch - 8 val_loss - 0.54 val acc - 0.723 val auc - 0.779\n"
     ]
    },
    {
     "name": "stderr",
     "output_type": "stream",
     "text": [
      "loss - 0.3865: 100%|██████████| 28/28 [00:08<00:00,  3.41it/s]\n",
      "  0%|          | 0/4 [00:00<?, ?it/s]"
     ]
    },
    {
     "name": "stdout",
     "output_type": "stream",
     "text": [
      "epoch - 9 train_loss - 0.43 acc - 0.786 auc - 0.842\n"
     ]
    },
    {
     "name": "stderr",
     "output_type": "stream",
     "text": [
      "valid loss - 0.5482: 100%|██████████| 4/4 [00:01<00:00,  3.69it/s]\n",
      "  0%|          | 0/28 [00:00<?, ?it/s]"
     ]
    },
    {
     "name": "stdout",
     "output_type": "stream",
     "text": [
      "epoch - 9 val_loss - 0.53 val acc - 0.722 val auc - 0.780\n"
     ]
    },
    {
     "name": "stderr",
     "output_type": "stream",
     "text": [
      "loss - 0.4656: 100%|██████████| 28/28 [00:08<00:00,  3.40it/s]\n",
      "  0%|          | 0/4 [00:00<?, ?it/s]"
     ]
    },
    {
     "name": "stdout",
     "output_type": "stream",
     "text": [
      "epoch - 10 train_loss - 0.43 acc - 0.791 auc - 0.849\n"
     ]
    },
    {
     "name": "stderr",
     "output_type": "stream",
     "text": [
      "valid loss - 0.4974: 100%|██████████| 4/4 [00:01<00:00,  3.61it/s]\n",
      "  0%|          | 0/28 [00:00<?, ?it/s]"
     ]
    },
    {
     "name": "stdout",
     "output_type": "stream",
     "text": [
      "epoch - 10 val_loss - 0.53 val acc - 0.724 val auc - 0.781\n"
     ]
    },
    {
     "name": "stderr",
     "output_type": "stream",
     "text": [
      "loss - 0.4561: 100%|██████████| 28/28 [00:08<00:00,  3.37it/s]\n",
      "  0%|          | 0/4 [00:00<?, ?it/s]"
     ]
    },
    {
     "name": "stdout",
     "output_type": "stream",
     "text": [
      "epoch - 11 train_loss - 0.42 acc - 0.794 auc - 0.853\n"
     ]
    },
    {
     "name": "stderr",
     "output_type": "stream",
     "text": [
      "valid loss - 0.5634: 100%|██████████| 4/4 [00:01<00:00,  2.88it/s]\n",
      "  0%|          | 0/28 [00:00<?, ?it/s]"
     ]
    },
    {
     "name": "stdout",
     "output_type": "stream",
     "text": [
      "epoch - 11 val_loss - 0.53 val acc - 0.724 val auc - 0.783\n"
     ]
    },
    {
     "name": "stderr",
     "output_type": "stream",
     "text": [
      "loss - 0.4097: 100%|██████████| 28/28 [00:09<00:00,  2.87it/s]\n",
      "  0%|          | 0/4 [00:00<?, ?it/s]"
     ]
    },
    {
     "name": "stdout",
     "output_type": "stream",
     "text": [
      "epoch - 12 train_loss - 0.41 acc - 0.798 auc - 0.859\n"
     ]
    },
    {
     "name": "stderr",
     "output_type": "stream",
     "text": [
      "valid loss - 0.5277: 100%|██████████| 4/4 [00:01<00:00,  3.53it/s]\n",
      "  0%|          | 0/28 [00:00<?, ?it/s]"
     ]
    },
    {
     "name": "stdout",
     "output_type": "stream",
     "text": [
      "epoch - 12 val_loss - 0.53 val acc - 0.724 val auc - 0.784\n"
     ]
    },
    {
     "name": "stderr",
     "output_type": "stream",
     "text": [
      "loss - 0.3997: 100%|██████████| 28/28 [00:08<00:00,  3.41it/s]\n",
      "  0%|          | 0/4 [00:00<?, ?it/s]"
     ]
    },
    {
     "name": "stdout",
     "output_type": "stream",
     "text": [
      "epoch - 13 train_loss - 0.41 acc - 0.802 auc - 0.864\n"
     ]
    },
    {
     "name": "stderr",
     "output_type": "stream",
     "text": [
      "valid loss - 0.5366: 100%|██████████| 4/4 [00:01<00:00,  3.62it/s]\n",
      "  0%|          | 0/28 [00:00<?, ?it/s]"
     ]
    },
    {
     "name": "stdout",
     "output_type": "stream",
     "text": [
      "epoch - 13 val_loss - 0.53 val acc - 0.726 val auc - 0.784\n"
     ]
    },
    {
     "name": "stderr",
     "output_type": "stream",
     "text": [
      "loss - 0.4163: 100%|██████████| 28/28 [00:08<00:00,  3.47it/s]\n",
      "  0%|          | 0/4 [00:00<?, ?it/s]"
     ]
    },
    {
     "name": "stdout",
     "output_type": "stream",
     "text": [
      "epoch - 14 train_loss - 0.40 acc - 0.805 auc - 0.868\n"
     ]
    },
    {
     "name": "stderr",
     "output_type": "stream",
     "text": [
      "valid loss - 0.4912: 100%|██████████| 4/4 [00:01<00:00,  3.73it/s]\n",
      "  0%|          | 0/28 [00:00<?, ?it/s]"
     ]
    },
    {
     "name": "stdout",
     "output_type": "stream",
     "text": [
      "epoch - 14 val_loss - 0.53 val acc - 0.722 val auc - 0.784\n"
     ]
    },
    {
     "name": "stderr",
     "output_type": "stream",
     "text": [
      "loss - 0.3712: 100%|██████████| 28/28 [00:08<00:00,  3.48it/s]\n",
      "  0%|          | 0/4 [00:00<?, ?it/s]"
     ]
    },
    {
     "name": "stdout",
     "output_type": "stream",
     "text": [
      "epoch - 15 train_loss - 0.39 acc - 0.809 auc - 0.873\n"
     ]
    },
    {
     "name": "stderr",
     "output_type": "stream",
     "text": [
      "valid loss - 0.5473: 100%|██████████| 4/4 [00:01<00:00,  3.63it/s]\n",
      "  0%|          | 0/4 [00:00<?, ?it/s]"
     ]
    },
    {
     "name": "stdout",
     "output_type": "stream",
     "text": [
      "epoch - 15 val_loss - 0.54 val acc - 0.725 val auc - 0.786\n",
      "Val Loss does not improve for 5 consecutive epochs\n"
     ]
    },
    {
     "name": "stderr",
     "output_type": "stream",
     "text": [
      "valid loss - 0.4492: 100%|██████████| 4/4 [00:01<00:00,  3.53it/s]\n",
      "  0%|          | 0/28 [00:00<?, ?it/s]"
     ]
    },
    {
     "name": "stdout",
     "output_type": "stream",
     "text": [
      "epoch - 15 test_loss - 0.40 acc - 0.821 auc - 0.855\n",
      "----------------------------------------------------------------------------\n"
     ]
    },
    {
     "name": "stderr",
     "output_type": "stream",
     "text": [
      "loss - 0.5630: 100%|██████████| 28/28 [00:08<00:00,  3.24it/s]\n",
      "  0%|          | 0/4 [00:00<?, ?it/s]"
     ]
    },
    {
     "name": "stdout",
     "output_type": "stream",
     "text": [
      "epoch - 0 train_loss - 0.64 acc - 0.685 auc - 0.538\n"
     ]
    },
    {
     "name": "stderr",
     "output_type": "stream",
     "text": [
      "valid loss - 0.6027: 100%|██████████| 4/4 [00:01<00:00,  3.54it/s]\n",
      "  0%|          | 0/28 [00:00<?, ?it/s]"
     ]
    },
    {
     "name": "stdout",
     "output_type": "stream",
     "text": [
      "epoch - 0 val_loss - 0.62 val acc - 0.671 val auc - 0.636\n"
     ]
    },
    {
     "name": "stderr",
     "output_type": "stream",
     "text": [
      "loss - 0.5323: 100%|██████████| 28/28 [00:07<00:00,  3.51it/s]\n",
      "  0%|          | 0/4 [00:00<?, ?it/s]"
     ]
    },
    {
     "name": "stdout",
     "output_type": "stream",
     "text": [
      "epoch - 1 train_loss - 0.56 acc - 0.717 auc - 0.691\n"
     ]
    },
    {
     "name": "stderr",
     "output_type": "stream",
     "text": [
      "valid loss - 0.6112: 100%|██████████| 4/4 [00:01<00:00,  3.64it/s]\n",
      "  0%|          | 0/28 [00:00<?, ?it/s]"
     ]
    },
    {
     "name": "stdout",
     "output_type": "stream",
     "text": [
      "epoch - 1 val_loss - 0.60 val acc - 0.688 val auc - 0.685\n"
     ]
    },
    {
     "name": "stderr",
     "output_type": "stream",
     "text": [
      "loss - 0.5000: 100%|██████████| 28/28 [00:08<00:00,  3.32it/s]\n",
      "  0%|          | 0/4 [00:00<?, ?it/s]"
     ]
    },
    {
     "name": "stdout",
     "output_type": "stream",
     "text": [
      "epoch - 2 train_loss - 0.52 acc - 0.735 auc - 0.745\n"
     ]
    },
    {
     "name": "stderr",
     "output_type": "stream",
     "text": [
      "valid loss - 0.5785: 100%|██████████| 4/4 [00:01<00:00,  3.38it/s]\n",
      "  0%|          | 0/28 [00:00<?, ?it/s]"
     ]
    },
    {
     "name": "stdout",
     "output_type": "stream",
     "text": [
      "epoch - 2 val_loss - 0.58 val acc - 0.693 val auc - 0.714\n"
     ]
    },
    {
     "name": "stderr",
     "output_type": "stream",
     "text": [
      "loss - 0.4254: 100%|██████████| 28/28 [00:08<00:00,  3.50it/s]\n",
      "  0%|          | 0/4 [00:00<?, ?it/s]"
     ]
    },
    {
     "name": "stdout",
     "output_type": "stream",
     "text": [
      "epoch - 3 train_loss - 0.50 acc - 0.746 auc - 0.770\n"
     ]
    },
    {
     "name": "stderr",
     "output_type": "stream",
     "text": [
      "valid loss - 0.5989: 100%|██████████| 4/4 [00:01<00:00,  3.07it/s]\n",
      "  0%|          | 0/28 [00:00<?, ?it/s]"
     ]
    },
    {
     "name": "stdout",
     "output_type": "stream",
     "text": [
      "epoch - 3 val_loss - 0.57 val acc - 0.705 val auc - 0.734\n"
     ]
    },
    {
     "name": "stderr",
     "output_type": "stream",
     "text": [
      "loss - 0.4692: 100%|██████████| 28/28 [00:08<00:00,  3.21it/s]\n",
      "  0%|          | 0/4 [00:00<?, ?it/s]"
     ]
    },
    {
     "name": "stdout",
     "output_type": "stream",
     "text": [
      "epoch - 4 train_loss - 0.49 acc - 0.756 auc - 0.792\n"
     ]
    },
    {
     "name": "stderr",
     "output_type": "stream",
     "text": [
      "valid loss - 0.5228: 100%|██████████| 4/4 [00:01<00:00,  3.62it/s]\n",
      "  0%|          | 0/28 [00:00<?, ?it/s]"
     ]
    },
    {
     "name": "stdout",
     "output_type": "stream",
     "text": [
      "epoch - 4 val_loss - 0.55 val acc - 0.710 val auc - 0.750\n"
     ]
    },
    {
     "name": "stderr",
     "output_type": "stream",
     "text": [
      "loss - 0.4881: 100%|██████████| 28/28 [00:08<00:00,  3.40it/s]\n",
      "  0%|          | 0/4 [00:00<?, ?it/s]"
     ]
    },
    {
     "name": "stdout",
     "output_type": "stream",
     "text": [
      "epoch - 5 train_loss - 0.47 acc - 0.767 auc - 0.810\n"
     ]
    },
    {
     "name": "stderr",
     "output_type": "stream",
     "text": [
      "valid loss - 0.5393: 100%|██████████| 4/4 [00:01<00:00,  3.60it/s]\n",
      "  0%|          | 0/28 [00:00<?, ?it/s]"
     ]
    },
    {
     "name": "stdout",
     "output_type": "stream",
     "text": [
      "epoch - 5 val_loss - 0.54 val acc - 0.718 val auc - 0.761\n"
     ]
    },
    {
     "name": "stderr",
     "output_type": "stream",
     "text": [
      "loss - 0.4354: 100%|██████████| 28/28 [00:08<00:00,  3.43it/s]\n",
      "  0%|          | 0/4 [00:00<?, ?it/s]"
     ]
    },
    {
     "name": "stdout",
     "output_type": "stream",
     "text": [
      "epoch - 6 train_loss - 0.46 acc - 0.773 auc - 0.822\n"
     ]
    },
    {
     "name": "stderr",
     "output_type": "stream",
     "text": [
      "valid loss - 0.4907: 100%|██████████| 4/4 [00:01<00:00,  3.59it/s]\n",
      "  0%|          | 0/28 [00:00<?, ?it/s]"
     ]
    },
    {
     "name": "stdout",
     "output_type": "stream",
     "text": [
      "epoch - 6 val_loss - 0.54 val acc - 0.720 val auc - 0.764\n"
     ]
    },
    {
     "name": "stderr",
     "output_type": "stream",
     "text": [
      "loss - 0.4533: 100%|██████████| 28/28 [00:08<00:00,  3.41it/s]\n",
      "  0%|          | 0/4 [00:00<?, ?it/s]"
     ]
    },
    {
     "name": "stdout",
     "output_type": "stream",
     "text": [
      "epoch - 7 train_loss - 0.45 acc - 0.779 auc - 0.832\n"
     ]
    },
    {
     "name": "stderr",
     "output_type": "stream",
     "text": [
      "valid loss - 0.5107: 100%|██████████| 4/4 [00:01<00:00,  3.63it/s]\n",
      "  0%|          | 0/28 [00:00<?, ?it/s]"
     ]
    },
    {
     "name": "stdout",
     "output_type": "stream",
     "text": [
      "epoch - 7 val_loss - 0.54 val acc - 0.715 val auc - 0.770\n"
     ]
    },
    {
     "name": "stderr",
     "output_type": "stream",
     "text": [
      "loss - 0.4266: 100%|██████████| 28/28 [00:08<00:00,  3.40it/s]\n",
      "  0%|          | 0/4 [00:00<?, ?it/s]"
     ]
    },
    {
     "name": "stdout",
     "output_type": "stream",
     "text": [
      "epoch - 8 train_loss - 0.44 acc - 0.784 auc - 0.839\n"
     ]
    },
    {
     "name": "stderr",
     "output_type": "stream",
     "text": [
      "valid loss - 0.5660: 100%|██████████| 4/4 [00:01<00:00,  3.58it/s]\n",
      "  0%|          | 0/28 [00:00<?, ?it/s]"
     ]
    },
    {
     "name": "stdout",
     "output_type": "stream",
     "text": [
      "epoch - 8 val_loss - 0.54 val acc - 0.723 val auc - 0.771\n"
     ]
    },
    {
     "name": "stderr",
     "output_type": "stream",
     "text": [
      "loss - 0.4133: 100%|██████████| 28/28 [00:09<00:00,  2.86it/s]\n",
      "  0%|          | 0/4 [00:00<?, ?it/s]"
     ]
    },
    {
     "name": "stdout",
     "output_type": "stream",
     "text": [
      "epoch - 9 train_loss - 0.43 acc - 0.789 auc - 0.847\n"
     ]
    },
    {
     "name": "stderr",
     "output_type": "stream",
     "text": [
      "valid loss - 0.4862: 100%|██████████| 4/4 [00:01<00:00,  3.59it/s]\n",
      "  0%|          | 0/28 [00:00<?, ?it/s]"
     ]
    },
    {
     "name": "stdout",
     "output_type": "stream",
     "text": [
      "epoch - 9 val_loss - 0.53 val acc - 0.723 val auc - 0.774\n"
     ]
    },
    {
     "name": "stderr",
     "output_type": "stream",
     "text": [
      "loss - 0.4107: 100%|██████████| 28/28 [00:08<00:00,  3.42it/s]\n",
      "  0%|          | 0/4 [00:00<?, ?it/s]"
     ]
    },
    {
     "name": "stdout",
     "output_type": "stream",
     "text": [
      "epoch - 10 train_loss - 0.42 acc - 0.792 auc - 0.852\n"
     ]
    },
    {
     "name": "stderr",
     "output_type": "stream",
     "text": [
      "valid loss - 0.4990: 100%|██████████| 4/4 [00:01<00:00,  3.67it/s]\n",
      "  0%|          | 0/28 [00:00<?, ?it/s]"
     ]
    },
    {
     "name": "stdout",
     "output_type": "stream",
     "text": [
      "epoch - 10 val_loss - 0.53 val acc - 0.725 val auc - 0.777\n"
     ]
    },
    {
     "name": "stderr",
     "output_type": "stream",
     "text": [
      "loss - 0.3984: 100%|██████████| 28/28 [00:07<00:00,  3.51it/s]\n",
      "  0%|          | 0/4 [00:00<?, ?it/s]"
     ]
    },
    {
     "name": "stdout",
     "output_type": "stream",
     "text": [
      "epoch - 11 train_loss - 0.42 acc - 0.797 auc - 0.857\n"
     ]
    },
    {
     "name": "stderr",
     "output_type": "stream",
     "text": [
      "valid loss - 0.5407: 100%|██████████| 4/4 [00:01<00:00,  3.64it/s]\n",
      "  0%|          | 0/28 [00:00<?, ?it/s]"
     ]
    },
    {
     "name": "stdout",
     "output_type": "stream",
     "text": [
      "epoch - 11 val_loss - 0.54 val acc - 0.727 val auc - 0.776\n"
     ]
    },
    {
     "name": "stderr",
     "output_type": "stream",
     "text": [
      "loss - 0.4380: 100%|██████████| 28/28 [00:08<00:00,  3.48it/s]\n",
      "  0%|          | 0/4 [00:00<?, ?it/s]"
     ]
    },
    {
     "name": "stdout",
     "output_type": "stream",
     "text": [
      "epoch - 12 train_loss - 0.41 acc - 0.800 auc - 0.863\n"
     ]
    },
    {
     "name": "stderr",
     "output_type": "stream",
     "text": [
      "valid loss - 0.5164: 100%|██████████| 4/4 [00:01<00:00,  3.48it/s]\n",
      "  0%|          | 0/28 [00:00<?, ?it/s]"
     ]
    },
    {
     "name": "stdout",
     "output_type": "stream",
     "text": [
      "epoch - 12 val_loss - 0.53 val acc - 0.725 val auc - 0.777\n"
     ]
    },
    {
     "name": "stderr",
     "output_type": "stream",
     "text": [
      "loss - 0.3861: 100%|██████████| 28/28 [00:08<00:00,  3.19it/s]\n",
      "  0%|          | 0/4 [00:00<?, ?it/s]"
     ]
    },
    {
     "name": "stdout",
     "output_type": "stream",
     "text": [
      "epoch - 13 train_loss - 0.40 acc - 0.804 auc - 0.868\n"
     ]
    },
    {
     "name": "stderr",
     "output_type": "stream",
     "text": [
      "valid loss - 0.4924: 100%|██████████| 4/4 [00:01<00:00,  3.54it/s]\n",
      "  0%|          | 0/28 [00:00<?, ?it/s]"
     ]
    },
    {
     "name": "stdout",
     "output_type": "stream",
     "text": [
      "epoch - 13 val_loss - 0.53 val acc - 0.719 val auc - 0.777\n"
     ]
    },
    {
     "name": "stderr",
     "output_type": "stream",
     "text": [
      "loss - 0.3709: 100%|██████████| 28/28 [00:07<00:00,  3.53it/s]\n",
      "  0%|          | 0/4 [00:00<?, ?it/s]"
     ]
    },
    {
     "name": "stdout",
     "output_type": "stream",
     "text": [
      "epoch - 14 train_loss - 0.40 acc - 0.808 auc - 0.872\n"
     ]
    },
    {
     "name": "stderr",
     "output_type": "stream",
     "text": [
      "valid loss - 0.5514: 100%|██████████| 4/4 [00:01<00:00,  3.18it/s]\n",
      "  0%|          | 0/28 [00:00<?, ?it/s]"
     ]
    },
    {
     "name": "stdout",
     "output_type": "stream",
     "text": [
      "epoch - 14 val_loss - 0.56 val acc - 0.725 val auc - 0.775\n"
     ]
    },
    {
     "name": "stderr",
     "output_type": "stream",
     "text": [
      "loss - 0.3994: 100%|██████████| 28/28 [00:07<00:00,  3.55it/s]\n",
      "  0%|          | 0/4 [00:00<?, ?it/s]"
     ]
    },
    {
     "name": "stdout",
     "output_type": "stream",
     "text": [
      "epoch - 15 train_loss - 0.39 acc - 0.811 auc - 0.877\n"
     ]
    },
    {
     "name": "stderr",
     "output_type": "stream",
     "text": [
      "valid loss - 0.5508: 100%|██████████| 4/4 [00:01<00:00,  3.43it/s]\n",
      "  0%|          | 0/4 [00:00<?, ?it/s]"
     ]
    },
    {
     "name": "stdout",
     "output_type": "stream",
     "text": [
      "epoch - 15 val_loss - 0.55 val acc - 0.723 val auc - 0.776\n",
      "Val Loss does not improve for 5 consecutive epochs\n"
     ]
    },
    {
     "name": "stderr",
     "output_type": "stream",
     "text": [
      "valid loss - 0.3554: 100%|██████████| 4/4 [00:01<00:00,  2.25it/s]\n"
     ]
    },
    {
     "name": "stdout",
     "output_type": "stream",
     "text": [
      "epoch - 15 test_loss - 0.37 acc - 0.830 auc - 0.867\n"
     ]
    }
   ],
   "source": [
    "X = np.array(group.keys())\n",
    "kfold = KFold(n_splits=5, shuffle=True)\n",
    "train_losses = list()\n",
    "train_aucs = list()\n",
    "train_accs = list()\n",
    "val_losses = list()\n",
    "val_aucs = list()\n",
    "val_accs = list()\n",
    "test_losses = list()\n",
    "test_aucs = list()\n",
    "test_accs = list()\n",
    "for train, test in kfold.split(X):\n",
    "    users_train, users_test =  X[train], X[test]\n",
    "    n = len(users_test)//2\n",
    "    users_test, users_val = users_test[:n], users_test[n: ]\n",
    "    train = PRACTICE_DATASET(group[users_train])\n",
    "    valid = PRACTICE_DATASET(group[users_val])\n",
    "    test = PRACTICE_DATASET(group[users_test])\n",
    "    train_dataloader = DataLoader(train, batch_size=32, shuffle=True, num_workers=8)\n",
    "    val_dataloader = DataLoader(valid, batch_size=32, shuffle=True, num_workers=8)\n",
    "    test_dataloader = DataLoader(test, batch_size=32, shuffle=True, num_workers=8)\n",
    "    \n",
    "    device = torch.device(\"cuda\" if torch.cuda.is_available() else \"cpu\")\n",
    "    saint = SAINTModel(n_skill, n_part)\n",
    "    epochs = 100\n",
    "    criterion = nn.BCEWithLogitsLoss()\n",
    "    optimizer = torch.optim.Adam(saint.parameters(), betas=(0.9, 0.999), lr = 0.0005, eps=1e-8)\n",
    "    saint.to(device)\n",
    "    criterion.to(device)\n",
    "    \n",
    "    def train_epoch(model=saint, train_iterator=train_dataloader, optim=optimizer, criterion=criterion, device=device):\n",
    "        model.train()\n",
    "\n",
    "        train_loss = []\n",
    "        num_corrects = 0\n",
    "        num_total = 0\n",
    "        labels = []\n",
    "        outs = []\n",
    "        tbar = tqdm(train_iterator)\n",
    "        for item in tbar:\n",
    "            question_id = item[0].to(device).long()\n",
    "            chapter = item[1].to(device).long()\n",
    "            schapter = item[2].to(device).long()\n",
    "            responses = item[3].to(device).long()\n",
    "            user_feats = item[4].to(device).float()\n",
    "            label = item[5].to(device).float()            \n",
    "            target_mask = (question_id!=0)\n",
    "            optim.zero_grad()\n",
    "            output = model(question_id, chapter, schapter, responses, user_feats)\n",
    "            output = torch.reshape(output, label.shape)\n",
    "\n",
    "            output = torch.masked_select(output, target_mask)\n",
    "            label = torch.masked_select(label, target_mask)\n",
    "\n",
    "            loss = criterion(output, label)\n",
    "            loss.backward()\n",
    "            optim.step()\n",
    "            train_loss.append(loss.item())\n",
    "            pred = (torch.sigmoid(output) >= 0.5).long()\n",
    "\n",
    "            num_corrects += (pred == label).sum().item()\n",
    "            num_total += len(label)\n",
    "\n",
    "            labels.extend(label.view(-1).data.cpu().numpy())\n",
    "            outs.extend(output.view(-1).data.cpu().numpy())\n",
    "\n",
    "            tbar.set_description('loss - {:.4f}'.format(loss))\n",
    "        acc = num_corrects / num_total\n",
    "        auc = roc_auc_score(labels, outs)\n",
    "        loss = np.mean(train_loss)\n",
    "\n",
    "        return loss, acc, auc\n",
    "   \n",
    "\n",
    "    def val_epoch(model=saint, val_iterator=test_dataloader, \n",
    "              criterion=criterion, device=device):\n",
    "        model.eval()\n",
    "\n",
    "        train_loss = []\n",
    "        num_corrects = 0\n",
    "        num_total = 0\n",
    "        labels = []\n",
    "        outs = []\n",
    "        tbar = tqdm(val_iterator)\n",
    "        for item in tbar:\n",
    "            question_id = item[0].to(device).long()\n",
    "            chapter = item[1].to(device).long()\n",
    "            schapter = item[2].to(device).long()\n",
    "            responses = item[3].to(device).long()\n",
    "            user_feats = item[4].to(device).float()\n",
    "            label = item[5].to(device).float()            \n",
    "            target_mask = (question_id!=0)\n",
    "            with torch.no_grad():\n",
    "                output = model(question_id, chapter, schapter, responses, user_feats)\n",
    "\n",
    "            output = torch.reshape(output, label.shape)\n",
    "            output = torch.masked_select(output, target_mask)\n",
    "            label = torch.masked_select(label, target_mask)\n",
    "\n",
    "            loss = criterion(output, label)\n",
    "            train_loss.append(loss.item())\n",
    "\n",
    "            pred = (torch.sigmoid(output) >= 0.5).long()\n",
    "            num_corrects += (pred == label).sum().item()\n",
    "            num_total += len(label)\n",
    "\n",
    "            labels.extend(label.view(-1).data.cpu().numpy())\n",
    "            outs.extend(output.view(-1).data.cpu().numpy())\n",
    "\n",
    "            tbar.set_description('valid loss - {:.4f}'.format(loss))\n",
    "\n",
    "        acc = num_corrects / num_total\n",
    "        auc = roc_auc_score(labels, outs)\n",
    "        loss = np.average(train_loss)\n",
    "\n",
    "        return loss, acc, auc\n",
    "    \n",
    "    MIN_VAL = 1000000000\n",
    "    count = 0\n",
    "    print('----------------------------------------------------------------------------')\n",
    "    for epoch in range(epochs):\n",
    "        train_loss, train_acc, train_auc = train_epoch(model=saint, device=device)\n",
    "        print(\"epoch - {} train_loss - {:.2f} acc - {:.3f} auc - {:.3f}\".format(epoch, train_loss, train_acc, train_auc))\n",
    "        val_loss, val_acc, val_auc = val_epoch(model=saint, val_iterator= val_dataloader, device=device)\n",
    "        print(\"epoch - {} val_loss - {:.2f} val acc - {:.3f} val auc - {:.3f}\".format(epoch, val_loss, val_acc, val_auc))\n",
    "        if val_loss < MIN_VAL:\n",
    "            count = 0\n",
    "            MIN_VAL = val_loss\n",
    "        else:\n",
    "            count += 1\n",
    "\n",
    "        if count == patience:\n",
    "            print('Val Loss does not improve for {} consecutive epochs'.format(patience))\n",
    "            break\n",
    "    test_loss, test_acc, test_auc = val_epoch(model=saint, device=device)\n",
    "    print(\"epoch - {} test_loss - {:.2f} acc - {:.3f} auc - {:.3f}\".format(epoch, test_loss, test_acc, test_auc))\n",
    "    test_losses.append(test_loss)\n",
    "    test_aucs.append(test_auc)\n",
    "    test_accs.append(test_acc)\n",
    "    train_aucs.append(train_auc)\n",
    "    train_losses.append(train_loss)\n",
    "    train_accs.append(train_acc)"
   ]
  },
  {
   "cell_type": "code",
   "execution_count": 35,
   "metadata": {
    "execution": {
     "iopub.execute_input": "2021-08-08T15:16:51.348893Z",
     "iopub.status.busy": "2021-08-08T15:16:51.346164Z",
     "iopub.status.idle": "2021-08-08T15:16:51.358622Z",
     "shell.execute_reply": "2021-08-08T15:16:51.357870Z",
     "shell.execute_reply.started": "2021-07-31T18:55:25.847643Z"
    },
    "papermill": {
     "duration": 2.824405,
     "end_time": "2021-08-08T15:16:51.358761",
     "exception": false,
     "start_time": "2021-08-08T15:16:48.534356",
     "status": "completed"
    },
    "tags": []
   },
   "outputs": [
    {
     "name": "stdout",
     "output_type": "stream",
     "text": [
      "test avg loss:  0.39004560112953185 0.015407013494053674\n",
      "test avg acc:  0.8218205865558813 0.008459482762022715\n",
      "test avg auc:  0.8599352105371368 0.006659266362565456\n"
     ]
    }
   ],
   "source": [
    "print(\"test avg loss: \", np.mean(test_losses), np.std(test_losses))\n",
    "print(\"test avg acc: \", np.mean(test_accs), np.std(test_accs))\n",
    "print(\"test avg auc: \", np.mean(test_aucs), np.std(test_aucs))"
   ]
  },
  {
   "cell_type": "code",
   "execution_count": 36,
   "metadata": {
    "execution": {
     "iopub.execute_input": "2021-08-08T15:16:56.404003Z",
     "iopub.status.busy": "2021-08-08T15:16:56.401691Z",
     "iopub.status.idle": "2021-08-08T15:16:56.408814Z",
     "shell.execute_reply": "2021-08-08T15:16:56.409601Z",
     "shell.execute_reply.started": "2021-07-31T18:55:25.857312Z"
    },
    "papermill": {
     "duration": 2.673803,
     "end_time": "2021-08-08T15:16:56.409780",
     "exception": false,
     "start_time": "2021-08-08T15:16:53.735977",
     "status": "completed"
    },
    "tags": []
   },
   "outputs": [
    {
     "name": "stdout",
     "output_type": "stream",
     "text": [
      "train avg loss:  0.3922076783009938 0.009706756528525684\n",
      "train avg acc:  0.8104739908147203 0.00578213876443815\n",
      "train avg auc:  0.8752343971819052 0.0063909090346326355\n"
     ]
    }
   ],
   "source": [
    "print(\"train avg loss: \", np.mean(train_losses), np.std(train_losses))\n",
    "print(\"train avg acc: \", np.mean(train_accs), np.std(train_accs))\n",
    "print(\"train avg auc: \", np.mean(train_aucs), np.std(train_aucs))"
   ]
  }
 ],
 "metadata": {
  "kernelspec": {
   "display_name": "Python 3",
   "language": "python",
   "name": "python3"
  },
  "language_info": {
   "codemirror_mode": {
    "name": "ipython",
    "version": 3
   },
   "file_extension": ".py",
   "mimetype": "text/x-python",
   "name": "python",
   "nbconvert_exporter": "python",
   "pygments_lexer": "ipython3",
   "version": "3.8.5"
  },
  "papermill": {
   "duration": 1334.481195,
   "end_time": "2021-08-08T15:16:59.947466",
   "environment_variables": {},
   "exception": null,
   "input_path": "__notebook__.ipynb",
   "output_path": "__notebook__.ipynb",
   "parameters": {},
   "start_time": "2021-08-08T14:54:45.466271",
   "version": "2.1.0"
  }
 },
 "nbformat": 4,
 "nbformat_minor": 4
}
