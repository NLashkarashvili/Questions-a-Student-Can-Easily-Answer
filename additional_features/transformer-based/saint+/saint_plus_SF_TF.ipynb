{
 "cells": [
  {
   "cell_type": "code",
   "execution_count": 1,
   "metadata": {
    "_cell_guid": "79c7e3d0-c299-4dcb-8224-4455121ee9b0",
    "_uuid": "d629ff2d2480ee46fbb7e2d37f6b5fab8052498a",
    "execution": {
     "iopub.execute_input": "2021-08-08T16:58:53.177179Z",
     "iopub.status.busy": "2021-08-08T16:58:53.176374Z",
     "iopub.status.idle": "2021-08-08T16:58:55.056735Z",
     "shell.execute_reply": "2021-08-08T16:58:55.055626Z",
     "shell.execute_reply.started": "2021-07-31T18:35:00.085166Z"
    },
    "papermill": {
     "duration": 1.912786,
     "end_time": "2021-08-08T16:58:55.056889",
     "exception": false,
     "start_time": "2021-08-08T16:58:53.144103",
     "status": "completed"
    },
    "tags": []
   },
   "outputs": [],
   "source": [
    "import psutil\n",
    "import joblib\n",
    "import numpy as np\n",
    "import pandas as pd\n",
    "import torch\n",
    "from tqdm import tqdm\n",
    "from sklearn.metrics import roc_auc_score\n",
    "import torch.nn as nn\n",
    "from sklearn.model_selection import KFold\n",
    "from torch.utils.data import Dataset, DataLoader\n",
    "import gc\n",
    "import os\n",
    "import warnings\n",
    "warnings.filterwarnings(\"ignore\")"
   ]
  },
  {
   "cell_type": "code",
   "execution_count": 2,
   "metadata": {
    "execution": {
     "iopub.execute_input": "2021-08-08T16:58:55.120374Z",
     "iopub.status.busy": "2021-08-08T16:58:55.119855Z",
     "iopub.status.idle": "2021-08-08T16:59:00.924185Z",
     "shell.execute_reply": "2021-08-08T16:59:00.923094Z",
     "shell.execute_reply.started": "2021-07-31T18:35:00.74086Z"
    },
    "papermill": {
     "duration": 5.839027,
     "end_time": "2021-08-08T16:59:00.924305",
     "exception": false,
     "start_time": "2021-08-08T16:58:55.085278",
     "status": "completed"
    },
    "tags": []
   },
   "outputs": [],
   "source": [
    "data = pd.read_csv('../input/practice-log-demographics/Practice_Log_Demographics (1).csv', low_memory=False)"
   ]
  },
  {
   "cell_type": "code",
   "execution_count": 3,
   "metadata": {
    "execution": {
     "iopub.execute_input": "2021-08-08T16:59:00.980742Z",
     "iopub.status.busy": "2021-08-08T16:59:00.978951Z",
     "iopub.status.idle": "2021-08-08T16:59:00.981320Z",
     "shell.execute_reply": "2021-08-08T16:59:00.981743Z",
     "shell.execute_reply.started": "2021-07-31T18:35:05.26131Z"
    },
    "papermill": {
     "duration": 0.03327,
     "end_time": "2021-08-08T16:59:00.981859",
     "exception": false,
     "start_time": "2021-08-08T16:59:00.948589",
     "status": "completed"
    },
    "tags": []
   },
   "outputs": [],
   "source": [
    "FEATURES = ['chapter_label', 'sub_chapter_label','question_name','user_id.x','term','STDNT_SEX_CD', \n",
    "            'NonNativeEnglish', 'White', 'Asian','WhiteOrAsian', 'Hispanic','AfricanAmerican','OtherEthnicities',\n",
    "            'NonWhiteOrAsian','STDNT_CTZN_STAT_CD', 'international','gradingType','birthYear','exclClassCumGPA',\n",
    "            'Freshman', 'Junior','Sophomore','Senior','termCreditsGPA','termCreditsNoGPA','athlete_1','honorsPro',\n",
    "            'LSA', 'programBusiness', 'programEngineering','programInformation', 'programOther','HSCalculusTaken', \n",
    "            'highSchoolGPA', 'majorsCount', 'minorsCount','PREV_TERM_CUM_GPA', 'classGraded', 'classHonors', \n",
    "            'Pass_Fail', 'parentsGraduateEdu',  'minorityGroup', 'q',\"day's_available_flashcards\", \n",
    "            'start_practice', 'end_practice','days_offset']"
   ]
  },
  {
   "cell_type": "code",
   "execution_count": 4,
   "metadata": {
    "execution": {
     "iopub.execute_input": "2021-08-08T16:59:01.042534Z",
     "iopub.status.busy": "2021-08-08T16:59:01.041167Z",
     "iopub.status.idle": "2021-08-08T16:59:01.145812Z",
     "shell.execute_reply": "2021-08-08T16:59:01.145337Z",
     "shell.execute_reply.started": "2021-07-31T18:35:05.271017Z"
    },
    "papermill": {
     "duration": 0.138949,
     "end_time": "2021-08-08T16:59:01.145921",
     "exception": false,
     "start_time": "2021-08-08T16:59:01.006972",
     "status": "completed"
    },
    "tags": []
   },
   "outputs": [],
   "source": [
    "data = data[FEATURES]"
   ]
  },
  {
   "cell_type": "code",
   "execution_count": 5,
   "metadata": {
    "execution": {
     "iopub.execute_input": "2021-08-08T16:59:01.265252Z",
     "iopub.status.busy": "2021-08-08T16:59:01.263513Z",
     "iopub.status.idle": "2021-08-08T16:59:01.267837Z",
     "shell.execute_reply": "2021-08-08T16:59:01.267386Z",
     "shell.execute_reply.started": "2021-07-31T18:35:05.392116Z"
    },
    "papermill": {
     "duration": 0.09795,
     "end_time": "2021-08-08T16:59:01.267934",
     "exception": false,
     "start_time": "2021-08-08T16:59:01.169984",
     "status": "completed"
    },
    "tags": []
   },
   "outputs": [
    {
     "data": {
      "text/plain": [
       "60"
      ]
     },
     "execution_count": 5,
     "metadata": {},
     "output_type": "execute_result"
    }
   ],
   "source": [
    "gc.collect()"
   ]
  },
  {
   "cell_type": "code",
   "execution_count": 6,
   "metadata": {
    "execution": {
     "iopub.execute_input": "2021-08-08T16:59:01.398448Z",
     "iopub.status.busy": "2021-08-08T16:59:01.397369Z",
     "iopub.status.idle": "2021-08-08T16:59:01.622929Z",
     "shell.execute_reply": "2021-08-08T16:59:01.622347Z",
     "shell.execute_reply.started": "2021-07-31T18:35:05.465591Z"
    },
    "papermill": {
     "duration": 0.330558,
     "end_time": "2021-08-08T16:59:01.623046",
     "exception": false,
     "start_time": "2021-08-08T16:59:01.292488",
     "status": "completed"
    },
    "tags": []
   },
   "outputs": [],
   "source": [
    "data['COVID_Graded'] = np.where(data['gradingType']=='COVID Graded', 1, 0)\n",
    "data.drop(columns=['gradingType'], inplace=True)"
   ]
  },
  {
   "cell_type": "code",
   "execution_count": 7,
   "metadata": {
    "execution": {
     "iopub.execute_input": "2021-08-08T16:59:01.721179Z",
     "iopub.status.busy": "2021-08-08T16:59:01.710998Z",
     "iopub.status.idle": "2021-08-08T16:59:02.210744Z",
     "shell.execute_reply": "2021-08-08T16:59:02.210201Z",
     "shell.execute_reply.started": "2021-07-31T18:35:05.778592Z"
    },
    "papermill": {
     "duration": 0.558907,
     "end_time": "2021-08-08T16:59:02.210913",
     "exception": false,
     "start_time": "2021-08-08T16:59:01.652006",
     "status": "completed"
    },
    "tags": []
   },
   "outputs": [],
   "source": [
    "data['term_value'] = [int(ele[3:]) for ele in data['term']]\n",
    "data['age'] = data['term_value'] - data['birthYear']"
   ]
  },
  {
   "cell_type": "code",
   "execution_count": 8,
   "metadata": {
    "execution": {
     "iopub.execute_input": "2021-08-08T16:59:02.270805Z",
     "iopub.status.busy": "2021-08-08T16:59:02.269506Z",
     "iopub.status.idle": "2021-08-08T16:59:02.485200Z",
     "shell.execute_reply": "2021-08-08T16:59:02.485633Z",
     "shell.execute_reply.started": "2021-07-31T18:35:06.300553Z"
    },
    "papermill": {
     "duration": 0.250034,
     "end_time": "2021-08-08T16:59:02.485771",
     "exception": false,
     "start_time": "2021-08-08T16:59:02.235737",
     "status": "completed"
    },
    "tags": []
   },
   "outputs": [],
   "source": [
    "data.drop(columns=['term_value', 'birthYear'], inplace=True)"
   ]
  },
  {
   "cell_type": "code",
   "execution_count": 9,
   "metadata": {
    "execution": {
     "iopub.execute_input": "2021-08-08T16:59:02.726576Z",
     "iopub.status.busy": "2021-08-08T16:59:02.725025Z",
     "iopub.status.idle": "2021-08-08T16:59:38.202162Z",
     "shell.execute_reply": "2021-08-08T16:59:38.201179Z",
     "shell.execute_reply.started": "2021-07-31T18:35:06.527113Z"
    },
    "papermill": {
     "duration": 35.692174,
     "end_time": "2021-08-08T16:59:38.202290",
     "exception": false,
     "start_time": "2021-08-08T16:59:02.510116",
     "status": "completed"
    },
    "tags": []
   },
   "outputs": [],
   "source": [
    "#convert start_practice and end_practice to datatime column\n",
    "data.start_practice = pd.to_datetime(data.start_practice, format='%Y-%m-%d %H:%M:%S')\n",
    "data.end_practice = pd.to_datetime(data.end_practice, format='%Y-%m-%d %H:%M:%S')\n",
    "#label encode term, chapter_label, question_name, sub_chapter_label columns\n",
    "data['term'] = data['term'].astype('category')\n",
    "data['chapter_id'] = data['chapter_label'].replace(data['chapter_label'].unique(), list(range(data['chapter_label'].nunique()))) + 1\n",
    "data['sub_chapter_id'] = data['sub_chapter_label'].replace(data['sub_chapter_label'].unique(), list(range(data['sub_chapter_label'].nunique()))) + 1\n",
    "data['question_id'] = data['question_name'].replace(data['question_name'].unique(), list(range(data['question_name'].nunique()))) + 1"
   ]
  },
  {
   "cell_type": "code",
   "execution_count": 10,
   "metadata": {
    "execution": {
     "iopub.execute_input": "2021-08-08T16:59:38.268828Z",
     "iopub.status.busy": "2021-08-08T16:59:38.267468Z",
     "iopub.status.idle": "2021-08-08T16:59:38.288067Z",
     "shell.execute_reply": "2021-08-08T16:59:38.288571Z",
     "shell.execute_reply.started": "2021-07-31T18:35:42.91017Z"
    },
    "papermill": {
     "duration": 0.056082,
     "end_time": "2021-08-08T16:59:38.288744",
     "exception": false,
     "start_time": "2021-08-08T16:59:38.232662",
     "status": "completed"
    },
    "tags": []
   },
   "outputs": [],
   "source": [
    "data['dif'] = data.end_practice - data.start_practice\n",
    "data['dif'] = data['dif'] /np.timedelta64(1, 's')\n",
    "data['q'] = np.where((data['q']==5) & (data['dif'] <= 60), 1, 0)"
   ]
  },
  {
   "cell_type": "code",
   "execution_count": 11,
   "metadata": {
    "execution": {
     "iopub.execute_input": "2021-08-08T16:59:38.356018Z",
     "iopub.status.busy": "2021-08-08T16:59:38.354253Z",
     "iopub.status.idle": "2021-08-08T16:59:38.566519Z",
     "shell.execute_reply": "2021-08-08T16:59:38.565940Z",
     "shell.execute_reply.started": "2021-07-31T18:35:42.935914Z"
    },
    "papermill": {
     "duration": 0.247398,
     "end_time": "2021-08-08T16:59:38.566709",
     "exception": false,
     "start_time": "2021-08-08T16:59:38.319311",
     "status": "completed"
    },
    "tags": []
   },
   "outputs": [],
   "source": [
    "data.drop(columns = ['chapter_label', 'sub_chapter_label', 'question_name'], inplace=True)"
   ]
  },
  {
   "cell_type": "code",
   "execution_count": 12,
   "metadata": {
    "execution": {
     "iopub.execute_input": "2021-08-08T16:59:38.650740Z",
     "iopub.status.busy": "2021-08-08T16:59:38.640489Z",
     "iopub.status.idle": "2021-08-08T16:59:39.102937Z",
     "shell.execute_reply": "2021-08-08T16:59:39.103379Z",
     "shell.execute_reply.started": "2021-07-31T18:35:43.148319Z"
    },
    "papermill": {
     "duration": 0.509431,
     "end_time": "2021-08-08T16:59:39.103520",
     "exception": false,
     "start_time": "2021-08-08T16:59:38.594089",
     "status": "completed"
    },
    "tags": []
   },
   "outputs": [],
   "source": [
    "new_minors_count = []\n",
    "for i in data['minorsCount']:\n",
    "  if i == 0 or i == '0':\n",
    "    new_minors_count.append(0)\n",
    "  elif i == '1 Minor':\n",
    "    new_minors_count.append(1)\n",
    "  else:\n",
    "    new_minors_count.append(2)\n",
    "\n",
    "data['minorsCount'] = new_minors_count"
   ]
  },
  {
   "cell_type": "code",
   "execution_count": 13,
   "metadata": {
    "execution": {
     "iopub.execute_input": "2021-08-08T16:59:39.159812Z",
     "iopub.status.busy": "2021-08-08T16:59:39.158941Z",
     "iopub.status.idle": "2021-08-08T16:59:39.599027Z",
     "shell.execute_reply": "2021-08-08T16:59:39.598417Z",
     "shell.execute_reply.started": "2021-07-31T18:35:43.583946Z"
    },
    "papermill": {
     "duration": 0.46987,
     "end_time": "2021-08-08T16:59:39.599155",
     "exception": false,
     "start_time": "2021-08-08T16:59:39.129285",
     "status": "completed"
    },
    "tags": []
   },
   "outputs": [],
   "source": [
    "data = data.sort_values(['start_practice'], ascending=True).reset_index(drop=True)"
   ]
  },
  {
   "cell_type": "code",
   "execution_count": 14,
   "metadata": {
    "execution": {
     "iopub.execute_input": "2021-08-08T16:59:39.666992Z",
     "iopub.status.busy": "2021-08-08T16:59:39.666184Z",
     "iopub.status.idle": "2021-08-08T17:00:44.859265Z",
     "shell.execute_reply": "2021-08-08T17:00:44.858728Z",
     "shell.execute_reply.started": "2021-07-31T18:35:44.009929Z"
    },
    "papermill": {
     "duration": 65.227438,
     "end_time": "2021-08-08T17:00:44.859380",
     "exception": false,
     "start_time": "2021-08-08T16:59:39.631942",
     "status": "completed"
    },
    "tags": []
   },
   "outputs": [],
   "source": [
    "data['user_id.x'] = data['term'].astype(str) + data['user_id.x'].astype(str)\n",
    "data['user_id.x'] = data['user_id.x'].replace(data['user_id.x'].unique(), list(range(data['user_id.x'].nunique())))"
   ]
  },
  {
   "cell_type": "code",
   "execution_count": 15,
   "metadata": {
    "execution": {
     "iopub.execute_input": "2021-08-08T17:00:44.914647Z",
     "iopub.status.busy": "2021-08-08T17:00:44.913825Z",
     "iopub.status.idle": "2021-08-08T17:00:44.916144Z",
     "shell.execute_reply": "2021-08-08T17:00:44.916560Z",
     "shell.execute_reply.started": "2021-07-31T18:36:49.59518Z"
    },
    "papermill": {
     "duration": 0.032444,
     "end_time": "2021-08-08T17:00:44.916685",
     "exception": false,
     "start_time": "2021-08-08T17:00:44.884241",
     "status": "completed"
    },
    "tags": []
   },
   "outputs": [],
   "source": [
    "data['term'] =  data['term'].cat.codes"
   ]
  },
  {
   "cell_type": "code",
   "execution_count": 16,
   "metadata": {
    "execution": {
     "iopub.execute_input": "2021-08-08T17:00:44.976874Z",
     "iopub.status.busy": "2021-08-08T17:00:44.976004Z",
     "iopub.status.idle": "2021-08-08T17:00:45.020473Z",
     "shell.execute_reply": "2021-08-08T17:00:45.020045Z",
     "shell.execute_reply.started": "2021-07-31T18:36:49.604181Z"
    },
    "papermill": {
     "duration": 0.077537,
     "end_time": "2021-08-08T17:00:45.020570",
     "exception": false,
     "start_time": "2021-08-08T17:00:44.943033",
     "status": "completed"
    },
    "tags": []
   },
   "outputs": [],
   "source": [
    "data['prev_time_elapsed'] = None\n",
    "data['time_lag'] = None\n",
    "data['time_lag'] = data['time_lag'].astype(np.float)\n",
    "data['prev_time_elapsed'] = data['prev_time_elapsed'].astype(np.float)"
   ]
  },
  {
   "cell_type": "code",
   "execution_count": 17,
   "metadata": {
    "execution": {
     "iopub.execute_input": "2021-08-08T17:00:45.091657Z",
     "iopub.status.busy": "2021-08-08T17:00:45.090810Z",
     "iopub.status.idle": "2021-08-08T17:05:57.064292Z",
     "shell.execute_reply": "2021-08-08T17:05:57.065133Z",
     "shell.execute_reply.started": "2021-07-31T18:36:49.663626Z"
    },
    "papermill": {
     "duration": 312.018366,
     "end_time": "2021-08-08T17:05:57.065304",
     "exception": false,
     "start_time": "2021-08-08T17:00:45.046938",
     "status": "completed"
    },
    "tags": []
   },
   "outputs": [
    {
     "name": "stderr",
     "output_type": "stream",
     "text": [
      "100%|██████████| 1110/1110 [05:11<00:00,  3.56it/s]\n"
     ]
    }
   ],
   "source": [
    "unique_chapts = data['chapter_id'].unique()\n",
    "from tqdm import tqdm\n",
    "cnt = 0\n",
    "for user in tqdm(data['user_id.x'].unique()):\n",
    "        for chapter in unique_chapts:\n",
    "            tmp_user = data[(data['user_id.x']==user) & (data['chapter_id']==chapter)]\n",
    "            #if user doesn't answer any question from the chapter\n",
    "            if len(tmp_user) < 1:\n",
    "                continue\n",
    "            #calculate average elapsed time before the current question\n",
    "            #from its corresponding chapter\n",
    "            tmp_time_elapsed = tmp_user.end_practice - tmp_user.start_practice\n",
    "            tmp_time_elapsed = tmp_time_elapsed / np.timedelta64(1, 's')\n",
    "            tmp_time_elapsed = np.insert(np.array(tmp_time_elapsed[:-1]), 0, 0., axis=0)\n",
    "            tmp_time_elapsed = np.cumsum(tmp_time_elapsed)\n",
    "            indices = tmp_user.index\n",
    "            start_row = indices[0]\n",
    "            data['time_lag'].iloc[start_row] = 0\n",
    "            for_mean = np.arange(len(tmp_user))\n",
    "            for_mean[0] = 1\n",
    "            time_substrahend = tmp_user.start_practice.iloc[:-1]\n",
    "            time_substrahend = time_substrahend.apply(lambda a: a.timestamp())\n",
    "            time_substrahend = np.array(time_substrahend)\n",
    "            \n",
    "            time_minuend = tmp_user.start_practice.iloc[1:]\n",
    "            time_minuend = time_minuend.apply(lambda a: a.timestamp())\n",
    "            time_minuend = np.array(time_minuend)\n",
    "\n",
    "            data['prev_time_elapsed'].iloc[indices] = tmp_time_elapsed/for_mean\n",
    "            #calculate difference between current and last interaction\n",
    "            #from the same chapter\n",
    "            data['time_lag'].iloc[indices[1:]] = time_minuend - time_substrahend"
   ]
  },
  {
   "cell_type": "code",
   "execution_count": 18,
   "metadata": {
    "execution": {
     "iopub.execute_input": "2021-08-08T17:05:57.951251Z",
     "iopub.status.busy": "2021-08-08T17:05:57.889672Z",
     "iopub.status.idle": "2021-08-08T17:05:58.025658Z",
     "shell.execute_reply": "2021-08-08T17:05:58.026114Z",
     "shell.execute_reply.started": "2021-07-31T18:37:08.338678Z"
    },
    "papermill": {
     "duration": 0.60891,
     "end_time": "2021-08-08T17:05:58.026251",
     "exception": false,
     "start_time": "2021-08-08T17:05:57.417341",
     "status": "completed"
    },
    "tags": []
   },
   "outputs": [
    {
     "data": {
      "text/plain": [
       "count     610792.0\n",
       "unique    143509.0\n",
       "top            0.0\n",
       "freq       23878.0\n",
       "Name: time_lag, dtype: float64"
      ]
     },
     "execution_count": 18,
     "metadata": {},
     "output_type": "execute_result"
    }
   ],
   "source": [
    "data['time_lag'].describe()"
   ]
  },
  {
   "cell_type": "code",
   "execution_count": 19,
   "metadata": {
    "execution": {
     "iopub.execute_input": "2021-08-08T17:05:58.737151Z",
     "iopub.status.busy": "2021-08-08T17:05:58.736141Z",
     "iopub.status.idle": "2021-08-08T17:05:58.762023Z",
     "shell.execute_reply": "2021-08-08T17:05:58.761432Z",
     "shell.execute_reply.started": "2021-07-31T18:37:08.369788Z"
    },
    "papermill": {
     "duration": 0.385089,
     "end_time": "2021-08-08T17:05:58.762172",
     "exception": false,
     "start_time": "2021-08-08T17:05:58.377083",
     "status": "completed"
    },
    "tags": []
   },
   "outputs": [
    {
     "data": {
      "text/plain": [
       "count    610792.000000\n",
       "mean        142.486562\n",
       "std         761.014785\n",
       "min           0.000000\n",
       "25%          29.307692\n",
       "50%          59.086957\n",
       "75%         120.291667\n",
       "max      157895.500000\n",
       "Name: prev_time_elapsed, dtype: float64"
      ]
     },
     "execution_count": 19,
     "metadata": {},
     "output_type": "execute_result"
    }
   ],
   "source": [
    "data['prev_time_elapsed'].describe()"
   ]
  },
  {
   "cell_type": "code",
   "execution_count": 20,
   "metadata": {
    "execution": {
     "iopub.execute_input": "2021-08-08T17:05:59.537413Z",
     "iopub.status.busy": "2021-08-08T17:05:59.536522Z",
     "iopub.status.idle": "2021-08-08T17:06:00.057977Z",
     "shell.execute_reply": "2021-08-08T17:06:00.058476Z",
     "shell.execute_reply.started": "2021-07-31T18:37:08.400105Z"
    },
    "papermill": {
     "duration": 0.945814,
     "end_time": "2021-08-08T17:06:00.058631",
     "exception": false,
     "start_time": "2021-08-08T17:05:59.112817",
     "status": "completed"
    },
    "tags": []
   },
   "outputs": [
    {
     "data": {
      "text/plain": [
       "73"
      ]
     },
     "execution_count": 20,
     "metadata": {},
     "output_type": "execute_result"
    }
   ],
   "source": [
    "#now we can drop end practice\n",
    "data.drop(columns=['end_practice'], inplace=True)\n",
    "data = data.sort_values(['start_practice'], ascending=True).reset_index(drop=True)\n",
    "data['answered_correctly'] = data['q']\n",
    "data.drop(columns='q', inplace=True)\n",
    "gc.collect()"
   ]
  },
  {
   "cell_type": "code",
   "execution_count": 21,
   "metadata": {
    "execution": {
     "iopub.execute_input": "2021-08-08T17:06:00.833294Z",
     "iopub.status.busy": "2021-08-08T17:06:00.832291Z",
     "iopub.status.idle": "2021-08-08T17:06:00.836178Z",
     "shell.execute_reply": "2021-08-08T17:06:00.836549Z",
     "shell.execute_reply.started": "2021-07-31T18:37:08.937256Z"
    },
    "papermill": {
     "duration": 0.427308,
     "end_time": "2021-08-08T17:06:00.836690",
     "exception": false,
     "start_time": "2021-08-08T17:06:00.409382",
     "status": "completed"
    },
    "tags": []
   },
   "outputs": [
    {
     "data": {
      "text/plain": [
       "20"
      ]
     },
     "execution_count": 21,
     "metadata": {},
     "output_type": "execute_result"
    }
   ],
   "source": [
    "gc.collect()"
   ]
  },
  {
   "cell_type": "code",
   "execution_count": 22,
   "metadata": {
    "execution": {
     "iopub.execute_input": "2021-08-08T17:06:01.551113Z",
     "iopub.status.busy": "2021-08-08T17:06:01.549208Z",
     "iopub.status.idle": "2021-08-08T17:06:01.551859Z",
     "shell.execute_reply": "2021-08-08T17:06:01.552297Z",
     "shell.execute_reply.started": "2021-07-31T18:37:09.016128Z"
    },
    "papermill": {
     "duration": 0.359763,
     "end_time": "2021-08-08T17:06:01.552408",
     "exception": false,
     "start_time": "2021-08-08T17:06:01.192645",
     "status": "completed"
    },
    "tags": []
   },
   "outputs": [],
   "source": [
    "## cv 0.7993"
   ]
  },
  {
   "cell_type": "code",
   "execution_count": 23,
   "metadata": {
    "execution": {
     "iopub.execute_input": "2021-08-08T17:06:02.263699Z",
     "iopub.status.busy": "2021-08-08T17:06:02.263106Z",
     "iopub.status.idle": "2021-08-08T17:06:02.266189Z",
     "shell.execute_reply": "2021-08-08T17:06:02.267073Z",
     "shell.execute_reply.started": "2021-07-31T18:37:09.025298Z"
    },
    "papermill": {
     "duration": 0.359632,
     "end_time": "2021-08-08T17:06:02.267187",
     "exception": false,
     "start_time": "2021-08-08T17:06:01.907555",
     "status": "completed"
    },
    "tags": []
   },
   "outputs": [],
   "source": [
    "## epoch - 0 train_loss - 0.4103 train_auc - 0.7990 val_loss - 0.5121 val_auc - 0.7993 time=641.96s"
   ]
  },
  {
   "cell_type": "code",
   "execution_count": 24,
   "metadata": {
    "execution": {
     "iopub.execute_input": "2021-08-08T17:06:02.981574Z",
     "iopub.status.busy": "2021-08-08T17:06:02.980464Z",
     "iopub.status.idle": "2021-08-08T17:06:03.146113Z",
     "shell.execute_reply": "2021-08-08T17:06:03.145637Z",
     "shell.execute_reply.started": "2021-07-31T18:37:09.034403Z"
    },
    "papermill": {
     "duration": 0.523864,
     "end_time": "2021-08-08T17:06:03.146223",
     "exception": false,
     "start_time": "2021-08-08T17:06:02.622359",
     "status": "completed"
    },
    "tags": []
   },
   "outputs": [],
   "source": [
    "data.fillna(0, inplace=True)"
   ]
  },
  {
   "cell_type": "code",
   "execution_count": 25,
   "metadata": {
    "execution": {
     "iopub.execute_input": "2021-08-08T17:06:03.856648Z",
     "iopub.status.busy": "2021-08-08T17:06:03.855685Z",
     "iopub.status.idle": "2021-08-08T17:06:03.863340Z",
     "shell.execute_reply": "2021-08-08T17:06:03.862828Z",
     "shell.execute_reply.started": "2021-07-31T18:37:09.057543Z"
    },
    "papermill": {
     "duration": 0.364016,
     "end_time": "2021-08-08T17:06:03.863458",
     "exception": false,
     "start_time": "2021-08-08T17:06:03.499442",
     "status": "completed"
    },
    "tags": []
   },
   "outputs": [],
   "source": [
    "MAX_SEQ = 400\n",
    "n_part = data['sub_chapter_id'].nunique() + 1\n",
    "D_MODEL = 128\n",
    "N_LAYER = 2\n",
    "DROPOUT = 0.2"
   ]
  },
  {
   "cell_type": "code",
   "execution_count": 26,
   "metadata": {
    "execution": {
     "iopub.execute_input": "2021-08-08T17:06:04.595295Z",
     "iopub.status.busy": "2021-08-08T17:06:04.594372Z",
     "iopub.status.idle": "2021-08-08T17:06:04.597789Z",
     "shell.execute_reply": "2021-08-08T17:06:04.597270Z",
     "shell.execute_reply.started": "2021-07-31T18:37:09.069888Z"
    },
    "papermill": {
     "duration": 0.381342,
     "end_time": "2021-08-08T17:06:04.597904",
     "exception": false,
     "start_time": "2021-08-08T17:06:04.216562",
     "status": "completed"
    },
    "tags": []
   },
   "outputs": [],
   "source": [
    "class FFN(nn.Module):\n",
    "    def __init__(self, state_size=200):\n",
    "        super(FFN, self).__init__()\n",
    "        self.state_size = state_size\n",
    "\n",
    "        self.lr1 = nn.Linear(state_size, state_size)\n",
    "        self.relu = nn.ReLU()\n",
    "        self.lr2 = nn.Linear(state_size, state_size)\n",
    "        self.dropout = nn.Dropout(DROPOUT)\n",
    "    \n",
    "    def forward(self, x):\n",
    "        x = self.lr1(x)\n",
    "        x = self.relu(x)\n",
    "        x = self.lr2(x)\n",
    "        return self.dropout(x)\n",
    "\n",
    "def future_mask(seq_length):\n",
    "    future_mask = np.triu(np.ones((seq_length, seq_length)), k=1).astype('bool')\n",
    "    return torch.from_numpy(future_mask)\n",
    "\n",
    "\n",
    "class SAINTModel(nn.Module):\n",
    "    def __init__(self, n_skill, n_part, max_seq=MAX_SEQ, embed_dim= D_MODEL, elapsed_time_cat_flag = False):\n",
    "        super(SAINTModel, self).__init__()\n",
    "\n",
    "        self.n_skill = n_skill\n",
    "        self.embed_dim = embed_dim\n",
    "        self.n_chapter= 39\n",
    "        self.n_sub_chapter = n_part\n",
    "        self.elapsed_time_cat_flag = elapsed_time_cat_flag\n",
    "\n",
    "        self.q_embedding = nn.Embedding(self.n_skill+1, embed_dim) ## exercise\n",
    "        self.c_embedding = nn.Embedding(self.n_chapter+1, embed_dim) ## category\n",
    "        self.sc_embedding = nn.Embedding(self.n_sub_chapter, embed_dim) ## category\n",
    "        self.pos_embedding = nn.Embedding(max_seq+1, embed_dim) ## position\n",
    "        self.res_embedding = nn.Embedding(2+1, embed_dim) ## response\n",
    "        self.feat_embedding = nn.Linear(39, embed_dim)\n",
    "    \n",
    "\n",
    "\n",
    "\n",
    "        self.transformer = nn.Transformer(nhead=8, d_model = embed_dim, num_encoder_layers= N_LAYER, num_decoder_layers= N_LAYER, dropout = DROPOUT)\n",
    "\n",
    "        self.dropout = nn.Dropout(DROPOUT)\n",
    "        self.layer_normal = nn.LayerNorm(embed_dim) \n",
    "        self.ffn = FFN(embed_dim)\n",
    "        self.pred = nn.Linear(embed_dim, 1)\n",
    "    \n",
    "    def forward(self, question, chapter, schapter, response, user_features):\n",
    "\n",
    "        device = question.device  \n",
    "        ## embedding layer\n",
    "        question = self.q_embedding(question)\n",
    "        chapter = self.c_embedding(chapter)\n",
    "        schapter = self.sc_embedding(schapter)\n",
    "        pos_id = torch.arange(question.size(1)).unsqueeze(0).to(device)\n",
    "        pos_id = self.pos_embedding(pos_id)\n",
    "        #res = self.res_embedding(response)\n",
    "        user_features = self.feat_embedding(user_features)\n",
    "        \n",
    "\n",
    "        enc = pos_id + question + chapter + schapter \n",
    "        dec = pos_id  + enc + user_features # + res\n",
    "        enc = enc.permute(1, 0, 2) # x: [bs, s_len, embed] => [s_len, bs, embed]\n",
    "        dec = dec.permute(1, 0, 2)\n",
    "        mask = future_mask(enc.size(0)).to(device)\n",
    "        att_output = self.transformer(enc, dec, src_mask=mask, tgt_mask=mask, memory_mask = mask)\n",
    "        att_output = self.layer_normal(att_output)\n",
    "        att_output = att_output.permute(1, 0, 2) # att_output: [s_len, bs, embed] => [bs, s_len, embed]\n",
    "        \n",
    "        \n",
    "        x = self.ffn(att_output)\n",
    "        x = self.layer_normal(x + att_output)\n",
    "        x = self.pred(x)\n",
    "\n",
    "        return x.squeeze(-1)"
   ]
  },
  {
   "cell_type": "code",
   "execution_count": 27,
   "metadata": {
    "execution": {
     "iopub.execute_input": "2021-08-08T17:06:05.309500Z",
     "iopub.status.busy": "2021-08-08T17:06:05.308688Z",
     "iopub.status.idle": "2021-08-08T17:06:05.315338Z",
     "shell.execute_reply": "2021-08-08T17:06:05.314826Z",
     "shell.execute_reply.started": "2021-07-31T18:37:09.098343Z"
    },
    "papermill": {
     "duration": 0.367909,
     "end_time": "2021-08-08T17:06:05.315432",
     "exception": false,
     "start_time": "2021-08-08T17:06:04.947523",
     "status": "completed"
    },
    "tags": []
   },
   "outputs": [],
   "source": [
    "n_skill = data['question_id'].nunique() + 1"
   ]
  },
  {
   "cell_type": "code",
   "execution_count": 28,
   "metadata": {
    "execution": {
     "iopub.execute_input": "2021-08-08T17:06:06.006087Z",
     "iopub.status.busy": "2021-08-08T17:06:06.005482Z",
     "iopub.status.idle": "2021-08-08T17:06:06.011309Z",
     "shell.execute_reply": "2021-08-08T17:06:06.010891Z",
     "shell.execute_reply.started": "2021-07-31T18:37:09.115011Z"
    },
    "papermill": {
     "duration": 0.343618,
     "end_time": "2021-08-08T17:06:06.011404",
     "exception": false,
     "start_time": "2021-08-08T17:06:05.667786",
     "status": "completed"
    },
    "tags": []
   },
   "outputs": [
    {
     "data": {
      "text/plain": [
       "1069"
      ]
     },
     "execution_count": 28,
     "metadata": {},
     "output_type": "execute_result"
    }
   ],
   "source": [
    "n_skill"
   ]
  },
  {
   "cell_type": "code",
   "execution_count": 29,
   "metadata": {
    "execution": {
     "iopub.execute_input": "2021-08-08T17:06:06.681094Z",
     "iopub.status.busy": "2021-08-08T17:06:06.680022Z",
     "iopub.status.idle": "2021-08-08T17:06:06.705742Z",
     "shell.execute_reply": "2021-08-08T17:06:06.706378Z",
     "shell.execute_reply.started": "2021-07-31T18:37:09.124867Z"
    },
    "papermill": {
     "duration": 0.365723,
     "end_time": "2021-08-08T17:06:06.706562",
     "exception": false,
     "start_time": "2021-08-08T17:06:06.340839",
     "status": "completed"
    },
    "tags": []
   },
   "outputs": [],
   "source": [
    "class PRACTICE_DATASET(Dataset):\n",
    "    def __init__(self, data, maxlength=MAX_SEQ, test=False):\n",
    "        super(PRACTICE_DATASET, self).__init__()\n",
    "        self.maxlength = maxlength\n",
    "        self.data = data\n",
    "        self.test = test\n",
    "        self.users = list()\n",
    "        for user in data.index:\n",
    "            self.users.append(user)\n",
    "            \n",
    "    def __len__(self):\n",
    "        return len(self.users)\n",
    "    \n",
    "    def __getitem__(self, ix):\n",
    "        user = self.users[ix]\n",
    "        question_id, chapter, schapter, term, user_feats, labels = self.data[user]\n",
    "        question_id = np.array(question_id, np.int16)\n",
    "        chapter = np.array(chapter, np.int16)\n",
    "        schapter = np.array(schapter, np.int16)\n",
    "        user_feats = np.array(user_feats, np.float)\n",
    "        labels = np.array(labels, np.int8)   \n",
    "            \n",
    "        term = term.values\n",
    "        term_encode = [0]*7\n",
    "        term_encode[term[0]] = 1\n",
    "        n = len(question_id)\n",
    "        \n",
    "        if n > self.maxlength:\n",
    "            question_id = question_id[-self.maxlength : ]\n",
    "            chapter = chapter[-self.maxlength :]\n",
    "            schapter = schapter[-self.maxlength: ]\n",
    "            user_feats = user_feats[-self.maxlength :, :]\n",
    "            labels = labels[-self.maxlength: ]\n",
    "            responses = np.append(2, labels[:-1])\n",
    "        else:\n",
    "            question_id = np.pad(question_id, (self.maxlength - n, 0))\n",
    "            chapter = np.pad(chapter, (self.maxlength - n, 0))\n",
    "            schapter = np.pad(schapter, (self.maxlength - n, 0))\n",
    "            user_feats = [[0]*len(user_feats[0])]*(self.maxlength  - n)+list(user_feats[:])\n",
    "            user_feats = np.array(user_feats, np.float)\n",
    "            responses = np.append(2, labels[:-1])\n",
    "            labels = np.pad(labels, (self.maxlength - n, 0))\n",
    "            responses = np.pad(responses, (self.maxlength - n, 0), mode='constant', constant_values = 2)\n",
    "        \n",
    "        new_features = []\n",
    "        count = 0\n",
    "        for f in user_feats:\n",
    "          temp = list(f)\n",
    "          temp.extend(term_encode)\n",
    "          new_features.append(temp)\n",
    "          count += 1\n",
    "        user_feats = new_features\n",
    "        \n",
    "        return question_id, chapter, schapter, responses, np.array(user_feats), labels "
   ]
  },
  {
   "cell_type": "code",
   "execution_count": 30,
   "metadata": {
    "execution": {
     "iopub.execute_input": "2021-08-08T17:06:07.608930Z",
     "iopub.status.busy": "2021-08-08T17:06:07.607817Z",
     "iopub.status.idle": "2021-08-08T17:06:07.942532Z",
     "shell.execute_reply": "2021-08-08T17:06:07.941514Z",
     "shell.execute_reply.started": "2021-07-31T18:37:09.147566Z"
    },
    "papermill": {
     "duration": 0.666794,
     "end_time": "2021-08-08T17:06:07.942663",
     "exception": false,
     "start_time": "2021-08-08T17:06:07.275869",
     "status": "completed"
    },
    "tags": []
   },
   "outputs": [],
   "source": [
    "NUMERIC_FEATURE =  ['age',\n",
    "            'exclClassCumGPA',\n",
    "            'termCreditsGPA',\n",
    "            'termCreditsNoGPA',\n",
    "            'highSchoolGPA', \n",
    "            'majorsCount', 'minorsCount',\n",
    "            'PREV_TERM_CUM_GPA',\n",
    "            \"day's_available_flashcards\", \n",
    "            'days_offset', \n",
    "            'prev_time_elapsed',\n",
    "             'time_lag']\n",
    " \n",
    "for f in NUMERIC_FEATURE:\n",
    "  m = data[f].mean()\n",
    "  std = data[f].std()\n",
    "  data[f] = (data[f] - m)/std"
   ]
  },
  {
   "cell_type": "code",
   "execution_count": 31,
   "metadata": {
    "execution": {
     "iopub.execute_input": "2021-08-08T17:06:08.609244Z",
     "iopub.status.busy": "2021-08-08T17:06:08.608363Z",
     "iopub.status.idle": "2021-08-08T17:06:17.640413Z",
     "shell.execute_reply": "2021-08-08T17:06:17.641503Z",
     "shell.execute_reply.started": "2021-07-31T18:37:09.517729Z"
    },
    "papermill": {
     "duration": 9.373595,
     "end_time": "2021-08-08T17:06:17.641687",
     "exception": false,
     "start_time": "2021-08-08T17:06:08.268092",
     "status": "completed"
    },
    "tags": []
   },
   "outputs": [],
   "source": [
    "#group data based on user id\n",
    "group = data.groupby(['user_id.x']).apply(lambda r: (\n",
    "                r['question_id'],\n",
    "                r['chapter_id'],\n",
    "                r['sub_chapter_id'],\n",
    "                r['term'],\n",
    "                np.array([\n",
    "                    r['STDNT_SEX_CD'],r['STDNT_CTZN_STAT_CD'], r['international'], \n",
    "                  r['White'],r['Asian'],r['NonWhiteOrAsian'], r['age'],r['exclClassCumGPA'],\n",
    "                r['Freshman'], r['Junior'], r['Sophomore'], r['Senior'],\n",
    "                r['termCreditsGPA'], r['termCreditsNoGPA'],\n",
    "                r['athlete_1'], r['honorsPro'],\n",
    "                r['LSA'], r['programBusiness'], r['programEngineering'], \n",
    "                r['programInformation'], r['programOther'],\n",
    "                r['HSCalculusTaken'],  r['highSchoolGPA'], \n",
    "                r['majorsCount'], r['minorsCount'],\n",
    "                r['PREV_TERM_CUM_GPA'], \n",
    "                r['parentsGraduateEdu'], r['minorityGroup'],\n",
    "                r[\"day's_available_flashcards\"],\n",
    "                r['days_offset'],\n",
    "                r['prev_time_elapsed'],\n",
    "                r['time_lag']\n",
    "              ]).transpose(),\n",
    "                r['answered_correctly'],\n",
    "                ))"
   ]
  },
  {
   "cell_type": "code",
   "execution_count": 32,
   "metadata": {
    "execution": {
     "iopub.execute_input": "2021-08-08T17:06:18.507556Z",
     "iopub.status.busy": "2021-08-08T17:06:18.506701Z",
     "iopub.status.idle": "2021-08-08T17:06:18.509522Z",
     "shell.execute_reply": "2021-08-08T17:06:18.509099Z",
     "shell.execute_reply.started": "2021-07-31T18:37:18.990242Z"
    },
    "papermill": {
     "duration": 0.332455,
     "end_time": "2021-08-08T17:06:18.509635",
     "exception": false,
     "start_time": "2021-08-08T17:06:18.177180",
     "status": "completed"
    },
    "tags": []
   },
   "outputs": [],
   "source": [
    "patience = 5"
   ]
  },
  {
   "cell_type": "code",
   "execution_count": 33,
   "metadata": {
    "execution": {
     "iopub.execute_input": "2021-08-08T17:06:19.175837Z",
     "iopub.status.busy": "2021-08-08T17:06:19.175031Z",
     "iopub.status.idle": "2021-08-08T17:06:19.177875Z",
     "shell.execute_reply": "2021-08-08T17:06:19.177423Z",
     "shell.execute_reply.started": "2021-07-31T18:37:18.995938Z"
    },
    "papermill": {
     "duration": 0.343775,
     "end_time": "2021-08-08T17:06:19.177974",
     "exception": false,
     "start_time": "2021-08-08T17:06:18.834199",
     "status": "completed"
    },
    "tags": []
   },
   "outputs": [],
   "source": [
    "# remove students who don't have make any interactions with the tool\n",
    "toRemove = []\n",
    "for index in group.index:\n",
    "  if len(group[index][0]) <= 10:\n",
    "    toRemove.append(index)\n",
    "group = group.drop(index=toRemove)"
   ]
  },
  {
   "cell_type": "code",
   "execution_count": 34,
   "metadata": {
    "execution": {
     "iopub.execute_input": "2021-08-08T17:06:19.874505Z",
     "iopub.status.busy": "2021-08-08T17:06:19.869119Z",
     "iopub.status.idle": "2021-08-08T17:17:07.976920Z",
     "shell.execute_reply": "2021-08-08T17:17:07.977605Z",
     "shell.execute_reply.started": "2021-07-31T18:37:19.022216Z"
    },
    "papermill": {
     "duration": 648.475499,
     "end_time": "2021-08-08T17:17:07.977808",
     "exception": false,
     "start_time": "2021-08-08T17:06:19.502309",
     "status": "completed"
    },
    "tags": []
   },
   "outputs": [
    {
     "name": "stderr",
     "output_type": "stream",
     "text": [
      "  0%|          | 0/28 [00:00<?, ?it/s]"
     ]
    },
    {
     "name": "stdout",
     "output_type": "stream",
     "text": [
      "----------------------------------------------------------------------------\n"
     ]
    },
    {
     "name": "stderr",
     "output_type": "stream",
     "text": [
      "loss - 0.5706: 100%|██████████| 28/28 [00:08<00:00,  3.32it/s]\n",
      "  0%|          | 0/4 [00:00<?, ?it/s]"
     ]
    },
    {
     "name": "stdout",
     "output_type": "stream",
     "text": [
      "epoch - 0 train_loss - 0.64 acc - 0.701 auc - 0.507\n"
     ]
    },
    {
     "name": "stderr",
     "output_type": "stream",
     "text": [
      "valid loss - 0.6512: 100%|██████████| 4/4 [00:00<00:00,  4.25it/s]\n",
      "  0%|          | 0/28 [00:00<?, ?it/s]"
     ]
    },
    {
     "name": "stdout",
     "output_type": "stream",
     "text": [
      "epoch - 0 val_loss - 0.67 val acc - 0.651 val auc - 0.640\n"
     ]
    },
    {
     "name": "stderr",
     "output_type": "stream",
     "text": [
      "loss - 0.5685: 100%|██████████| 28/28 [00:08<00:00,  3.44it/s]\n",
      "  0%|          | 0/4 [00:00<?, ?it/s]"
     ]
    },
    {
     "name": "stdout",
     "output_type": "stream",
     "text": [
      "epoch - 1 train_loss - 0.59 acc - 0.712 auc - 0.602\n"
     ]
    },
    {
     "name": "stderr",
     "output_type": "stream",
     "text": [
      "valid loss - 0.6498: 100%|██████████| 4/4 [00:00<00:00,  4.21it/s]\n",
      "  0%|          | 0/28 [00:00<?, ?it/s]"
     ]
    },
    {
     "name": "stdout",
     "output_type": "stream",
     "text": [
      "epoch - 1 val_loss - 0.63 val acc - 0.653 val auc - 0.652\n"
     ]
    },
    {
     "name": "stderr",
     "output_type": "stream",
     "text": [
      "loss - 0.5530: 100%|██████████| 28/28 [00:08<00:00,  3.35it/s]\n",
      "  0%|          | 0/4 [00:00<?, ?it/s]"
     ]
    },
    {
     "name": "stdout",
     "output_type": "stream",
     "text": [
      "epoch - 2 train_loss - 0.55 acc - 0.721 auc - 0.691\n"
     ]
    },
    {
     "name": "stderr",
     "output_type": "stream",
     "text": [
      "valid loss - 0.6222: 100%|██████████| 4/4 [00:00<00:00,  4.12it/s]\n",
      "  0%|          | 0/28 [00:00<?, ?it/s]"
     ]
    },
    {
     "name": "stdout",
     "output_type": "stream",
     "text": [
      "epoch - 2 val_loss - 0.60 val acc - 0.673 val auc - 0.701\n"
     ]
    },
    {
     "name": "stderr",
     "output_type": "stream",
     "text": [
      "loss - 0.4609: 100%|██████████| 28/28 [00:07<00:00,  3.60it/s]\n",
      "  0%|          | 0/4 [00:00<?, ?it/s]"
     ]
    },
    {
     "name": "stdout",
     "output_type": "stream",
     "text": [
      "epoch - 3 train_loss - 0.52 acc - 0.738 auc - 0.742\n"
     ]
    },
    {
     "name": "stderr",
     "output_type": "stream",
     "text": [
      "valid loss - 0.5761: 100%|██████████| 4/4 [00:01<00:00,  3.80it/s]\n",
      "  0%|          | 0/28 [00:00<?, ?it/s]"
     ]
    },
    {
     "name": "stdout",
     "output_type": "stream",
     "text": [
      "epoch - 3 val_loss - 0.57 val acc - 0.696 val auc - 0.727\n"
     ]
    },
    {
     "name": "stderr",
     "output_type": "stream",
     "text": [
      "loss - 0.4936: 100%|██████████| 28/28 [00:07<00:00,  3.62it/s]\n",
      "  0%|          | 0/4 [00:00<?, ?it/s]"
     ]
    },
    {
     "name": "stdout",
     "output_type": "stream",
     "text": [
      "epoch - 4 train_loss - 0.50 acc - 0.750 auc - 0.770\n"
     ]
    },
    {
     "name": "stderr",
     "output_type": "stream",
     "text": [
      "valid loss - 0.5553: 100%|██████████| 4/4 [00:01<00:00,  3.98it/s]\n",
      "  0%|          | 0/28 [00:00<?, ?it/s]"
     ]
    },
    {
     "name": "stdout",
     "output_type": "stream",
     "text": [
      "epoch - 4 val_loss - 0.57 val acc - 0.705 val auc - 0.744\n"
     ]
    },
    {
     "name": "stderr",
     "output_type": "stream",
     "text": [
      "loss - 0.4971: 100%|██████████| 28/28 [00:07<00:00,  3.71it/s]\n",
      "  0%|          | 0/4 [00:00<?, ?it/s]"
     ]
    },
    {
     "name": "stdout",
     "output_type": "stream",
     "text": [
      "epoch - 5 train_loss - 0.48 acc - 0.760 auc - 0.791\n"
     ]
    },
    {
     "name": "stderr",
     "output_type": "stream",
     "text": [
      "valid loss - 0.5543: 100%|██████████| 4/4 [00:00<00:00,  4.27it/s]\n",
      "  0%|          | 0/28 [00:00<?, ?it/s]"
     ]
    },
    {
     "name": "stdout",
     "output_type": "stream",
     "text": [
      "epoch - 5 val_loss - 0.56 val acc - 0.706 val auc - 0.753\n"
     ]
    },
    {
     "name": "stderr",
     "output_type": "stream",
     "text": [
      "loss - 0.4406: 100%|██████████| 28/28 [00:07<00:00,  3.64it/s]\n",
      "  0%|          | 0/4 [00:00<?, ?it/s]"
     ]
    },
    {
     "name": "stdout",
     "output_type": "stream",
     "text": [
      "epoch - 6 train_loss - 0.47 acc - 0.767 auc - 0.805\n"
     ]
    },
    {
     "name": "stderr",
     "output_type": "stream",
     "text": [
      "valid loss - 0.5343: 100%|██████████| 4/4 [00:00<00:00,  4.21it/s]\n",
      "  0%|          | 0/28 [00:00<?, ?it/s]"
     ]
    },
    {
     "name": "stdout",
     "output_type": "stream",
     "text": [
      "epoch - 6 val_loss - 0.55 val acc - 0.713 val auc - 0.762\n"
     ]
    },
    {
     "name": "stderr",
     "output_type": "stream",
     "text": [
      "loss - 0.4398: 100%|██████████| 28/28 [00:07<00:00,  3.83it/s]\n",
      "  0%|          | 0/4 [00:00<?, ?it/s]"
     ]
    },
    {
     "name": "stdout",
     "output_type": "stream",
     "text": [
      "epoch - 7 train_loss - 0.46 acc - 0.775 auc - 0.817\n"
     ]
    },
    {
     "name": "stderr",
     "output_type": "stream",
     "text": [
      "valid loss - 0.5631: 100%|██████████| 4/4 [00:00<00:00,  4.11it/s]\n",
      "  0%|          | 0/28 [00:00<?, ?it/s]"
     ]
    },
    {
     "name": "stdout",
     "output_type": "stream",
     "text": [
      "epoch - 7 val_loss - 0.56 val acc - 0.709 val auc - 0.765\n"
     ]
    },
    {
     "name": "stderr",
     "output_type": "stream",
     "text": [
      "loss - 0.4933: 100%|██████████| 28/28 [00:07<00:00,  3.96it/s]\n",
      "  0%|          | 0/4 [00:00<?, ?it/s]"
     ]
    },
    {
     "name": "stdout",
     "output_type": "stream",
     "text": [
      "epoch - 8 train_loss - 0.45 acc - 0.780 auc - 0.827\n"
     ]
    },
    {
     "name": "stderr",
     "output_type": "stream",
     "text": [
      "valid loss - 0.5143: 100%|██████████| 4/4 [00:01<00:00,  3.00it/s]\n",
      "  0%|          | 0/28 [00:00<?, ?it/s]"
     ]
    },
    {
     "name": "stdout",
     "output_type": "stream",
     "text": [
      "epoch - 8 val_loss - 0.54 val acc - 0.716 val auc - 0.768\n"
     ]
    },
    {
     "name": "stderr",
     "output_type": "stream",
     "text": [
      "loss - 0.4446: 100%|██████████| 28/28 [00:07<00:00,  4.00it/s]\n",
      "  0%|          | 0/4 [00:00<?, ?it/s]"
     ]
    },
    {
     "name": "stdout",
     "output_type": "stream",
     "text": [
      "epoch - 9 train_loss - 0.44 acc - 0.785 auc - 0.836\n"
     ]
    },
    {
     "name": "stderr",
     "output_type": "stream",
     "text": [
      "valid loss - 0.5451: 100%|██████████| 4/4 [00:00<00:00,  4.15it/s]\n",
      "  0%|          | 0/28 [00:00<?, ?it/s]"
     ]
    },
    {
     "name": "stdout",
     "output_type": "stream",
     "text": [
      "epoch - 9 val_loss - 0.55 val acc - 0.717 val auc - 0.770\n"
     ]
    },
    {
     "name": "stderr",
     "output_type": "stream",
     "text": [
      "loss - 0.4101: 100%|██████████| 28/28 [00:08<00:00,  3.39it/s]\n",
      "  0%|          | 0/4 [00:00<?, ?it/s]"
     ]
    },
    {
     "name": "stdout",
     "output_type": "stream",
     "text": [
      "epoch - 10 train_loss - 0.43 acc - 0.790 auc - 0.844\n"
     ]
    },
    {
     "name": "stderr",
     "output_type": "stream",
     "text": [
      "valid loss - 0.5535: 100%|██████████| 4/4 [00:00<00:00,  4.13it/s]\n",
      "  0%|          | 0/28 [00:00<?, ?it/s]"
     ]
    },
    {
     "name": "stdout",
     "output_type": "stream",
     "text": [
      "epoch - 10 val_loss - 0.55 val acc - 0.716 val auc - 0.769\n"
     ]
    },
    {
     "name": "stderr",
     "output_type": "stream",
     "text": [
      "loss - 0.4161: 100%|██████████| 28/28 [00:08<00:00,  3.48it/s]\n",
      "  0%|          | 0/4 [00:00<?, ?it/s]"
     ]
    },
    {
     "name": "stdout",
     "output_type": "stream",
     "text": [
      "epoch - 11 train_loss - 0.42 acc - 0.795 auc - 0.852\n"
     ]
    },
    {
     "name": "stderr",
     "output_type": "stream",
     "text": [
      "valid loss - 0.5177: 100%|██████████| 4/4 [00:00<00:00,  4.09it/s]\n",
      "  0%|          | 0/28 [00:00<?, ?it/s]"
     ]
    },
    {
     "name": "stdout",
     "output_type": "stream",
     "text": [
      "epoch - 11 val_loss - 0.55 val acc - 0.719 val auc - 0.771\n"
     ]
    },
    {
     "name": "stderr",
     "output_type": "stream",
     "text": [
      "loss - 0.4150: 100%|██████████| 28/28 [00:08<00:00,  3.34it/s]\n",
      "  0%|          | 0/4 [00:00<?, ?it/s]"
     ]
    },
    {
     "name": "stdout",
     "output_type": "stream",
     "text": [
      "epoch - 12 train_loss - 0.41 acc - 0.800 auc - 0.858\n"
     ]
    },
    {
     "name": "stderr",
     "output_type": "stream",
     "text": [
      "valid loss - 0.5458: 100%|██████████| 4/4 [00:00<00:00,  4.42it/s]\n",
      "  0%|          | 0/28 [00:00<?, ?it/s]"
     ]
    },
    {
     "name": "stdout",
     "output_type": "stream",
     "text": [
      "epoch - 12 val_loss - 0.55 val acc - 0.719 val auc - 0.772\n"
     ]
    },
    {
     "name": "stderr",
     "output_type": "stream",
     "text": [
      "loss - 0.3894: 100%|██████████| 28/28 [00:07<00:00,  3.61it/s]\n",
      "  0%|          | 0/4 [00:00<?, ?it/s]"
     ]
    },
    {
     "name": "stdout",
     "output_type": "stream",
     "text": [
      "epoch - 13 train_loss - 0.41 acc - 0.804 auc - 0.865\n"
     ]
    },
    {
     "name": "stderr",
     "output_type": "stream",
     "text": [
      "valid loss - 0.5224: 100%|██████████| 4/4 [00:00<00:00,  4.08it/s]\n",
      "  0%|          | 0/4 [00:00<?, ?it/s]"
     ]
    },
    {
     "name": "stdout",
     "output_type": "stream",
     "text": [
      "epoch - 13 val_loss - 0.55 val acc - 0.716 val auc - 0.773\n",
      "Val Loss does not improve for 5 consecutive epochs\n"
     ]
    },
    {
     "name": "stderr",
     "output_type": "stream",
     "text": [
      "valid loss - 0.5067: 100%|██████████| 4/4 [00:00<00:00,  4.08it/s]\n",
      "  0%|          | 0/28 [00:00<?, ?it/s]"
     ]
    },
    {
     "name": "stdout",
     "output_type": "stream",
     "text": [
      "epoch - 13 test_loss - 0.47 acc - 0.795 auc - 0.817\n",
      "----------------------------------------------------------------------------\n"
     ]
    },
    {
     "name": "stderr",
     "output_type": "stream",
     "text": [
      "loss - 0.5725: 100%|██████████| 28/28 [00:07<00:00,  3.62it/s]\n",
      "  0%|          | 0/4 [00:00<?, ?it/s]"
     ]
    },
    {
     "name": "stdout",
     "output_type": "stream",
     "text": [
      "epoch - 0 train_loss - 0.62 acc - 0.696 auc - 0.535\n"
     ]
    },
    {
     "name": "stderr",
     "output_type": "stream",
     "text": [
      "valid loss - 0.6132: 100%|██████████| 4/4 [00:01<00:00,  3.92it/s]\n",
      "  0%|          | 0/28 [00:00<?, ?it/s]"
     ]
    },
    {
     "name": "stdout",
     "output_type": "stream",
     "text": [
      "epoch - 0 val_loss - 0.63 val acc - 0.646 val auc - 0.637\n"
     ]
    },
    {
     "name": "stderr",
     "output_type": "stream",
     "text": [
      "loss - 0.5510: 100%|██████████| 28/28 [00:07<00:00,  3.68it/s]\n",
      "  0%|          | 0/4 [00:00<?, ?it/s]"
     ]
    },
    {
     "name": "stdout",
     "output_type": "stream",
     "text": [
      "epoch - 1 train_loss - 0.57 acc - 0.714 auc - 0.654\n"
     ]
    },
    {
     "name": "stderr",
     "output_type": "stream",
     "text": [
      "valid loss - 0.6291: 100%|██████████| 4/4 [00:01<00:00,  2.62it/s]\n",
      "  0%|          | 0/28 [00:00<?, ?it/s]"
     ]
    },
    {
     "name": "stdout",
     "output_type": "stream",
     "text": [
      "epoch - 1 val_loss - 0.61 val acc - 0.672 val auc - 0.684\n"
     ]
    },
    {
     "name": "stderr",
     "output_type": "stream",
     "text": [
      "loss - 0.5896: 100%|██████████| 28/28 [00:07<00:00,  3.94it/s]\n",
      "  0%|          | 0/4 [00:00<?, ?it/s]"
     ]
    },
    {
     "name": "stdout",
     "output_type": "stream",
     "text": [
      "epoch - 2 train_loss - 0.54 acc - 0.726 auc - 0.718\n"
     ]
    },
    {
     "name": "stderr",
     "output_type": "stream",
     "text": [
      "valid loss - 0.5937: 100%|██████████| 4/4 [00:01<00:00,  4.00it/s]\n",
      "  0%|          | 0/28 [00:00<?, ?it/s]"
     ]
    },
    {
     "name": "stdout",
     "output_type": "stream",
     "text": [
      "epoch - 2 val_loss - 0.59 val acc - 0.683 val auc - 0.713\n"
     ]
    },
    {
     "name": "stderr",
     "output_type": "stream",
     "text": [
      "loss - 0.5216: 100%|██████████| 28/28 [00:07<00:00,  3.53it/s]\n",
      "  0%|          | 0/4 [00:00<?, ?it/s]"
     ]
    },
    {
     "name": "stdout",
     "output_type": "stream",
     "text": [
      "epoch - 3 train_loss - 0.52 acc - 0.742 auc - 0.753\n"
     ]
    },
    {
     "name": "stderr",
     "output_type": "stream",
     "text": [
      "valid loss - 0.5579: 100%|██████████| 4/4 [00:00<00:00,  4.18it/s]\n",
      "  0%|          | 0/28 [00:00<?, ?it/s]"
     ]
    },
    {
     "name": "stdout",
     "output_type": "stream",
     "text": [
      "epoch - 3 val_loss - 0.57 val acc - 0.696 val auc - 0.734\n"
     ]
    },
    {
     "name": "stderr",
     "output_type": "stream",
     "text": [
      "loss - 0.5012: 100%|██████████| 28/28 [00:07<00:00,  3.85it/s]\n",
      "  0%|          | 0/4 [00:00<?, ?it/s]"
     ]
    },
    {
     "name": "stdout",
     "output_type": "stream",
     "text": [
      "epoch - 4 train_loss - 0.50 acc - 0.754 auc - 0.778\n"
     ]
    },
    {
     "name": "stderr",
     "output_type": "stream",
     "text": [
      "valid loss - 0.5884: 100%|██████████| 4/4 [00:00<00:00,  4.16it/s]\n",
      "  0%|          | 0/28 [00:00<?, ?it/s]"
     ]
    },
    {
     "name": "stdout",
     "output_type": "stream",
     "text": [
      "epoch - 4 val_loss - 0.57 val acc - 0.696 val auc - 0.748\n"
     ]
    },
    {
     "name": "stderr",
     "output_type": "stream",
     "text": [
      "loss - 0.4833: 100%|██████████| 28/28 [00:07<00:00,  3.86it/s]\n",
      "  0%|          | 0/4 [00:00<?, ?it/s]"
     ]
    },
    {
     "name": "stdout",
     "output_type": "stream",
     "text": [
      "epoch - 5 train_loss - 0.48 acc - 0.763 auc - 0.797\n"
     ]
    },
    {
     "name": "stderr",
     "output_type": "stream",
     "text": [
      "valid loss - 0.6217: 100%|██████████| 4/4 [00:00<00:00,  4.16it/s]\n",
      "  0%|          | 0/28 [00:00<?, ?it/s]"
     ]
    },
    {
     "name": "stdout",
     "output_type": "stream",
     "text": [
      "epoch - 5 val_loss - 0.57 val acc - 0.709 val auc - 0.756\n"
     ]
    },
    {
     "name": "stderr",
     "output_type": "stream",
     "text": [
      "loss - 0.4554: 100%|██████████| 28/28 [00:07<00:00,  3.90it/s]\n",
      "  0%|          | 0/4 [00:00<?, ?it/s]"
     ]
    },
    {
     "name": "stdout",
     "output_type": "stream",
     "text": [
      "epoch - 6 train_loss - 0.47 acc - 0.769 auc - 0.810\n"
     ]
    },
    {
     "name": "stderr",
     "output_type": "stream",
     "text": [
      "valid loss - 0.5653: 100%|██████████| 4/4 [00:01<00:00,  3.16it/s]\n",
      "  0%|          | 0/28 [00:00<?, ?it/s]"
     ]
    },
    {
     "name": "stdout",
     "output_type": "stream",
     "text": [
      "epoch - 6 val_loss - 0.56 val acc - 0.702 val auc - 0.757\n"
     ]
    },
    {
     "name": "stderr",
     "output_type": "stream",
     "text": [
      "loss - 0.4756: 100%|██████████| 28/28 [00:07<00:00,  3.80it/s]\n",
      "  0%|          | 0/4 [00:00<?, ?it/s]"
     ]
    },
    {
     "name": "stdout",
     "output_type": "stream",
     "text": [
      "epoch - 7 train_loss - 0.46 acc - 0.775 auc - 0.821\n"
     ]
    },
    {
     "name": "stderr",
     "output_type": "stream",
     "text": [
      "valid loss - 0.5281: 100%|██████████| 4/4 [00:01<00:00,  3.83it/s]\n",
      "  0%|          | 0/28 [00:00<?, ?it/s]"
     ]
    },
    {
     "name": "stdout",
     "output_type": "stream",
     "text": [
      "epoch - 7 val_loss - 0.55 val acc - 0.706 val auc - 0.765\n"
     ]
    },
    {
     "name": "stderr",
     "output_type": "stream",
     "text": [
      "loss - 0.4659: 100%|██████████| 28/28 [00:07<00:00,  3.70it/s]\n",
      "  0%|          | 0/4 [00:00<?, ?it/s]"
     ]
    },
    {
     "name": "stdout",
     "output_type": "stream",
     "text": [
      "epoch - 8 train_loss - 0.45 acc - 0.781 auc - 0.832\n"
     ]
    },
    {
     "name": "stderr",
     "output_type": "stream",
     "text": [
      "valid loss - 0.5595: 100%|██████████| 4/4 [00:01<00:00,  3.99it/s]\n",
      "  0%|          | 0/28 [00:00<?, ?it/s]"
     ]
    },
    {
     "name": "stdout",
     "output_type": "stream",
     "text": [
      "epoch - 8 val_loss - 0.56 val acc - 0.712 val auc - 0.762\n"
     ]
    },
    {
     "name": "stderr",
     "output_type": "stream",
     "text": [
      "loss - 0.3959: 100%|██████████| 28/28 [00:07<00:00,  3.66it/s]\n",
      "  0%|          | 0/4 [00:00<?, ?it/s]"
     ]
    },
    {
     "name": "stdout",
     "output_type": "stream",
     "text": [
      "epoch - 9 train_loss - 0.44 acc - 0.785 auc - 0.840\n"
     ]
    },
    {
     "name": "stderr",
     "output_type": "stream",
     "text": [
      "valid loss - 0.5651: 100%|██████████| 4/4 [00:00<00:00,  4.24it/s]\n",
      "  0%|          | 0/28 [00:00<?, ?it/s]"
     ]
    },
    {
     "name": "stdout",
     "output_type": "stream",
     "text": [
      "epoch - 9 val_loss - 0.56 val acc - 0.705 val auc - 0.762\n"
     ]
    },
    {
     "name": "stderr",
     "output_type": "stream",
     "text": [
      "loss - 0.4114: 100%|██████████| 28/28 [00:08<00:00,  3.49it/s]\n",
      "  0%|          | 0/4 [00:00<?, ?it/s]"
     ]
    },
    {
     "name": "stdout",
     "output_type": "stream",
     "text": [
      "epoch - 10 train_loss - 0.43 acc - 0.791 auc - 0.849\n"
     ]
    },
    {
     "name": "stderr",
     "output_type": "stream",
     "text": [
      "valid loss - 0.5521: 100%|██████████| 4/4 [00:00<00:00,  4.16it/s]\n",
      "  0%|          | 0/28 [00:00<?, ?it/s]"
     ]
    },
    {
     "name": "stdout",
     "output_type": "stream",
     "text": [
      "epoch - 10 val_loss - 0.56 val acc - 0.715 val auc - 0.766\n"
     ]
    },
    {
     "name": "stderr",
     "output_type": "stream",
     "text": [
      "loss - 0.4399: 100%|██████████| 28/28 [00:07<00:00,  3.93it/s]\n",
      "  0%|          | 0/4 [00:00<?, ?it/s]"
     ]
    },
    {
     "name": "stdout",
     "output_type": "stream",
     "text": [
      "epoch - 11 train_loss - 0.42 acc - 0.796 auc - 0.856\n"
     ]
    },
    {
     "name": "stderr",
     "output_type": "stream",
     "text": [
      "valid loss - 0.5452: 100%|██████████| 4/4 [00:00<00:00,  4.24it/s]\n",
      "  0%|          | 0/28 [00:00<?, ?it/s]"
     ]
    },
    {
     "name": "stdout",
     "output_type": "stream",
     "text": [
      "epoch - 11 val_loss - 0.56 val acc - 0.707 val auc - 0.768\n"
     ]
    },
    {
     "name": "stderr",
     "output_type": "stream",
     "text": [
      "loss - 0.4897: 100%|██████████| 28/28 [00:07<00:00,  3.97it/s]\n",
      "  0%|          | 0/4 [00:00<?, ?it/s]"
     ]
    },
    {
     "name": "stdout",
     "output_type": "stream",
     "text": [
      "epoch - 12 train_loss - 0.41 acc - 0.800 auc - 0.861\n"
     ]
    },
    {
     "name": "stderr",
     "output_type": "stream",
     "text": [
      "valid loss - 0.5520: 100%|██████████| 4/4 [00:01<00:00,  3.45it/s]\n",
      "  0%|          | 0/4 [00:00<?, ?it/s]"
     ]
    },
    {
     "name": "stdout",
     "output_type": "stream",
     "text": [
      "epoch - 12 val_loss - 0.56 val acc - 0.712 val auc - 0.766\n",
      "Val Loss does not improve for 5 consecutive epochs\n"
     ]
    },
    {
     "name": "stderr",
     "output_type": "stream",
     "text": [
      "valid loss - 0.4973: 100%|██████████| 4/4 [00:00<00:00,  4.32it/s]\n",
      "  0%|          | 0/28 [00:00<?, ?it/s]"
     ]
    },
    {
     "name": "stdout",
     "output_type": "stream",
     "text": [
      "epoch - 12 test_loss - 0.44 acc - 0.808 auc - 0.825\n",
      "----------------------------------------------------------------------------\n"
     ]
    },
    {
     "name": "stderr",
     "output_type": "stream",
     "text": [
      "loss - 0.5890: 100%|██████████| 28/28 [00:07<00:00,  3.95it/s]\n",
      "  0%|          | 0/4 [00:00<?, ?it/s]"
     ]
    },
    {
     "name": "stdout",
     "output_type": "stream",
     "text": [
      "epoch - 0 train_loss - 0.64 acc - 0.691 auc - 0.534\n"
     ]
    },
    {
     "name": "stderr",
     "output_type": "stream",
     "text": [
      "valid loss - 0.6314: 100%|██████████| 4/4 [00:01<00:00,  3.86it/s]\n",
      "  0%|          | 0/28 [00:00<?, ?it/s]"
     ]
    },
    {
     "name": "stdout",
     "output_type": "stream",
     "text": [
      "epoch - 0 val_loss - 0.63 val acc - 0.670 val auc - 0.601\n"
     ]
    },
    {
     "name": "stderr",
     "output_type": "stream",
     "text": [
      "loss - 0.5597: 100%|██████████| 28/28 [00:08<00:00,  3.30it/s]\n",
      "  0%|          | 0/4 [00:00<?, ?it/s]"
     ]
    },
    {
     "name": "stdout",
     "output_type": "stream",
     "text": [
      "epoch - 1 train_loss - 0.57 acc - 0.711 auc - 0.652\n"
     ]
    },
    {
     "name": "stderr",
     "output_type": "stream",
     "text": [
      "valid loss - 0.6023: 100%|██████████| 4/4 [00:00<00:00,  4.02it/s]\n",
      "  0%|          | 0/28 [00:00<?, ?it/s]"
     ]
    },
    {
     "name": "stdout",
     "output_type": "stream",
     "text": [
      "epoch - 1 val_loss - 0.61 val acc - 0.668 val auc - 0.651\n"
     ]
    },
    {
     "name": "stderr",
     "output_type": "stream",
     "text": [
      "loss - 0.5300: 100%|██████████| 28/28 [00:07<00:00,  3.64it/s]\n",
      "  0%|          | 0/4 [00:00<?, ?it/s]"
     ]
    },
    {
     "name": "stdout",
     "output_type": "stream",
     "text": [
      "epoch - 2 train_loss - 0.54 acc - 0.724 auc - 0.716\n"
     ]
    },
    {
     "name": "stderr",
     "output_type": "stream",
     "text": [
      "valid loss - 0.6074: 100%|██████████| 4/4 [00:01<00:00,  3.94it/s]\n",
      "  0%|          | 0/28 [00:00<?, ?it/s]"
     ]
    },
    {
     "name": "stdout",
     "output_type": "stream",
     "text": [
      "epoch - 2 val_loss - 0.59 val acc - 0.682 val auc - 0.694\n"
     ]
    },
    {
     "name": "stderr",
     "output_type": "stream",
     "text": [
      "loss - 0.5259: 100%|██████████| 28/28 [00:07<00:00,  3.72it/s]\n",
      "  0%|          | 0/4 [00:00<?, ?it/s]"
     ]
    },
    {
     "name": "stdout",
     "output_type": "stream",
     "text": [
      "epoch - 3 train_loss - 0.52 acc - 0.739 auc - 0.752\n"
     ]
    },
    {
     "name": "stderr",
     "output_type": "stream",
     "text": [
      "valid loss - 0.5791: 100%|██████████| 4/4 [00:00<00:00,  4.10it/s]\n",
      "  0%|          | 0/28 [00:00<?, ?it/s]"
     ]
    },
    {
     "name": "stdout",
     "output_type": "stream",
     "text": [
      "epoch - 3 val_loss - 0.58 val acc - 0.682 val auc - 0.709\n"
     ]
    },
    {
     "name": "stderr",
     "output_type": "stream",
     "text": [
      "loss - 0.4944: 100%|██████████| 28/28 [00:07<00:00,  3.85it/s]\n",
      "  0%|          | 0/4 [00:00<?, ?it/s]"
     ]
    },
    {
     "name": "stdout",
     "output_type": "stream",
     "text": [
      "epoch - 4 train_loss - 0.50 acc - 0.751 auc - 0.778\n"
     ]
    },
    {
     "name": "stderr",
     "output_type": "stream",
     "text": [
      "valid loss - 0.5506: 100%|██████████| 4/4 [00:01<00:00,  3.98it/s]\n",
      "  0%|          | 0/28 [00:00<?, ?it/s]"
     ]
    },
    {
     "name": "stdout",
     "output_type": "stream",
     "text": [
      "epoch - 4 val_loss - 0.58 val acc - 0.699 val auc - 0.729\n"
     ]
    },
    {
     "name": "stderr",
     "output_type": "stream",
     "text": [
      "loss - 0.4694: 100%|██████████| 28/28 [00:07<00:00,  3.75it/s]\n",
      "  0%|          | 0/4 [00:00<?, ?it/s]"
     ]
    },
    {
     "name": "stdout",
     "output_type": "stream",
     "text": [
      "epoch - 5 train_loss - 0.49 acc - 0.759 auc - 0.794\n"
     ]
    },
    {
     "name": "stderr",
     "output_type": "stream",
     "text": [
      "valid loss - 0.5479: 100%|██████████| 4/4 [00:00<00:00,  4.14it/s]\n",
      "  0%|          | 0/28 [00:00<?, ?it/s]"
     ]
    },
    {
     "name": "stdout",
     "output_type": "stream",
     "text": [
      "epoch - 5 val_loss - 0.56 val acc - 0.699 val auc - 0.738\n"
     ]
    },
    {
     "name": "stderr",
     "output_type": "stream",
     "text": [
      "loss - 0.4706: 100%|██████████| 28/28 [00:07<00:00,  3.61it/s]\n",
      "  0%|          | 0/4 [00:00<?, ?it/s]"
     ]
    },
    {
     "name": "stdout",
     "output_type": "stream",
     "text": [
      "epoch - 6 train_loss - 0.47 acc - 0.769 auc - 0.812\n"
     ]
    },
    {
     "name": "stderr",
     "output_type": "stream",
     "text": [
      "valid loss - 0.5422: 100%|██████████| 4/4 [00:00<00:00,  4.15it/s]\n",
      "  0%|          | 0/28 [00:00<?, ?it/s]"
     ]
    },
    {
     "name": "stdout",
     "output_type": "stream",
     "text": [
      "epoch - 6 val_loss - 0.56 val acc - 0.706 val auc - 0.743\n"
     ]
    },
    {
     "name": "stderr",
     "output_type": "stream",
     "text": [
      "loss - 0.4352: 100%|██████████| 28/28 [00:07<00:00,  3.77it/s]\n",
      "  0%|          | 0/4 [00:00<?, ?it/s]"
     ]
    },
    {
     "name": "stdout",
     "output_type": "stream",
     "text": [
      "epoch - 7 train_loss - 0.46 acc - 0.774 auc - 0.822\n"
     ]
    },
    {
     "name": "stderr",
     "output_type": "stream",
     "text": [
      "valid loss - 0.5776: 100%|██████████| 4/4 [00:01<00:00,  4.00it/s]\n",
      "  0%|          | 0/28 [00:00<?, ?it/s]"
     ]
    },
    {
     "name": "stdout",
     "output_type": "stream",
     "text": [
      "epoch - 7 val_loss - 0.57 val acc - 0.705 val auc - 0.745\n"
     ]
    },
    {
     "name": "stderr",
     "output_type": "stream",
     "text": [
      "loss - 0.4241: 100%|██████████| 28/28 [00:07<00:00,  3.66it/s]\n",
      "  0%|          | 0/4 [00:00<?, ?it/s]"
     ]
    },
    {
     "name": "stdout",
     "output_type": "stream",
     "text": [
      "epoch - 8 train_loss - 0.45 acc - 0.778 auc - 0.829\n"
     ]
    },
    {
     "name": "stderr",
     "output_type": "stream",
     "text": [
      "valid loss - 0.5713: 100%|██████████| 4/4 [00:01<00:00,  3.71it/s]\n",
      "  0%|          | 0/28 [00:00<?, ?it/s]"
     ]
    },
    {
     "name": "stdout",
     "output_type": "stream",
     "text": [
      "epoch - 8 val_loss - 0.56 val acc - 0.707 val auc - 0.747\n"
     ]
    },
    {
     "name": "stderr",
     "output_type": "stream",
     "text": [
      "loss - 0.4692: 100%|██████████| 28/28 [00:08<00:00,  3.34it/s]\n",
      "  0%|          | 0/4 [00:00<?, ?it/s]"
     ]
    },
    {
     "name": "stdout",
     "output_type": "stream",
     "text": [
      "epoch - 9 train_loss - 0.44 acc - 0.784 auc - 0.839\n"
     ]
    },
    {
     "name": "stderr",
     "output_type": "stream",
     "text": [
      "valid loss - 0.5514: 100%|██████████| 4/4 [00:01<00:00,  4.00it/s]\n",
      "  0%|          | 0/28 [00:00<?, ?it/s]"
     ]
    },
    {
     "name": "stdout",
     "output_type": "stream",
     "text": [
      "epoch - 9 val_loss - 0.55 val acc - 0.709 val auc - 0.752\n"
     ]
    },
    {
     "name": "stderr",
     "output_type": "stream",
     "text": [
      "loss - 0.4097: 100%|██████████| 28/28 [00:07<00:00,  3.76it/s]\n",
      "  0%|          | 0/4 [00:00<?, ?it/s]"
     ]
    },
    {
     "name": "stdout",
     "output_type": "stream",
     "text": [
      "epoch - 10 train_loss - 0.43 acc - 0.788 auc - 0.845\n"
     ]
    },
    {
     "name": "stderr",
     "output_type": "stream",
     "text": [
      "valid loss - 0.5749: 100%|██████████| 4/4 [00:00<00:00,  4.11it/s]\n",
      "  0%|          | 0/28 [00:00<?, ?it/s]"
     ]
    },
    {
     "name": "stdout",
     "output_type": "stream",
     "text": [
      "epoch - 10 val_loss - 0.57 val acc - 0.706 val auc - 0.747\n"
     ]
    },
    {
     "name": "stderr",
     "output_type": "stream",
     "text": [
      "loss - 0.4338: 100%|██████████| 28/28 [00:07<00:00,  3.94it/s]\n",
      "  0%|          | 0/4 [00:00<?, ?it/s]"
     ]
    },
    {
     "name": "stdout",
     "output_type": "stream",
     "text": [
      "epoch - 11 train_loss - 0.42 acc - 0.793 auc - 0.852\n"
     ]
    },
    {
     "name": "stderr",
     "output_type": "stream",
     "text": [
      "valid loss - 0.5345: 100%|██████████| 4/4 [00:01<00:00,  3.46it/s]\n",
      "  0%|          | 0/28 [00:00<?, ?it/s]"
     ]
    },
    {
     "name": "stdout",
     "output_type": "stream",
     "text": [
      "epoch - 11 val_loss - 0.57 val acc - 0.703 val auc - 0.750\n"
     ]
    },
    {
     "name": "stderr",
     "output_type": "stream",
     "text": [
      "loss - 0.4429: 100%|██████████| 28/28 [00:07<00:00,  3.88it/s]\n",
      "  0%|          | 0/4 [00:00<?, ?it/s]"
     ]
    },
    {
     "name": "stdout",
     "output_type": "stream",
     "text": [
      "epoch - 12 train_loss - 0.42 acc - 0.798 auc - 0.858\n"
     ]
    },
    {
     "name": "stderr",
     "output_type": "stream",
     "text": [
      "valid loss - 0.5724: 100%|██████████| 4/4 [00:00<00:00,  4.21it/s]\n",
      "  0%|          | 0/28 [00:00<?, ?it/s]"
     ]
    },
    {
     "name": "stdout",
     "output_type": "stream",
     "text": [
      "epoch - 12 val_loss - 0.56 val acc - 0.711 val auc - 0.749\n"
     ]
    },
    {
     "name": "stderr",
     "output_type": "stream",
     "text": [
      "loss - 0.4452: 100%|██████████| 28/28 [00:07<00:00,  3.54it/s]\n",
      "  0%|          | 0/4 [00:00<?, ?it/s]"
     ]
    },
    {
     "name": "stdout",
     "output_type": "stream",
     "text": [
      "epoch - 13 train_loss - 0.41 acc - 0.801 auc - 0.864\n"
     ]
    },
    {
     "name": "stderr",
     "output_type": "stream",
     "text": [
      "valid loss - 0.5439: 100%|██████████| 4/4 [00:00<00:00,  4.32it/s]\n",
      "  0%|          | 0/28 [00:00<?, ?it/s]"
     ]
    },
    {
     "name": "stdout",
     "output_type": "stream",
     "text": [
      "epoch - 13 val_loss - 0.57 val acc - 0.700 val auc - 0.754\n"
     ]
    },
    {
     "name": "stderr",
     "output_type": "stream",
     "text": [
      "loss - 0.4034: 100%|██████████| 28/28 [00:07<00:00,  3.82it/s]\n",
      "  0%|          | 0/4 [00:00<?, ?it/s]"
     ]
    },
    {
     "name": "stdout",
     "output_type": "stream",
     "text": [
      "epoch - 14 train_loss - 0.40 acc - 0.806 auc - 0.870\n"
     ]
    },
    {
     "name": "stderr",
     "output_type": "stream",
     "text": [
      "valid loss - 0.5523: 100%|██████████| 4/4 [00:00<00:00,  4.22it/s]\n",
      "  0%|          | 0/4 [00:00<?, ?it/s]"
     ]
    },
    {
     "name": "stdout",
     "output_type": "stream",
     "text": [
      "epoch - 14 val_loss - 0.57 val acc - 0.703 val auc - 0.752\n",
      "Val Loss does not improve for 5 consecutive epochs\n"
     ]
    },
    {
     "name": "stderr",
     "output_type": "stream",
     "text": [
      "valid loss - 0.4022: 100%|██████████| 4/4 [00:00<00:00,  4.17it/s]\n",
      "  0%|          | 0/28 [00:00<?, ?it/s]"
     ]
    },
    {
     "name": "stdout",
     "output_type": "stream",
     "text": [
      "epoch - 14 test_loss - 0.41 acc - 0.810 auc - 0.830\n",
      "----------------------------------------------------------------------------\n"
     ]
    },
    {
     "name": "stderr",
     "output_type": "stream",
     "text": [
      "loss - 0.6044: 100%|██████████| 28/28 [00:07<00:00,  3.65it/s]\n",
      "  0%|          | 0/4 [00:00<?, ?it/s]"
     ]
    },
    {
     "name": "stdout",
     "output_type": "stream",
     "text": [
      "epoch - 0 train_loss - 0.64 acc - 0.690 auc - 0.521\n"
     ]
    },
    {
     "name": "stderr",
     "output_type": "stream",
     "text": [
      "valid loss - 0.6636: 100%|██████████| 4/4 [00:01<00:00,  3.87it/s]\n",
      "  0%|          | 0/28 [00:00<?, ?it/s]"
     ]
    },
    {
     "name": "stdout",
     "output_type": "stream",
     "text": [
      "epoch - 0 val_loss - 0.66 val acc - 0.659 val auc - 0.620\n"
     ]
    },
    {
     "name": "stderr",
     "output_type": "stream",
     "text": [
      "loss - 0.5584: 100%|██████████| 28/28 [00:07<00:00,  3.78it/s]\n",
      "  0%|          | 0/4 [00:00<?, ?it/s]"
     ]
    },
    {
     "name": "stdout",
     "output_type": "stream",
     "text": [
      "epoch - 1 train_loss - 0.59 acc - 0.706 auc - 0.618\n"
     ]
    },
    {
     "name": "stderr",
     "output_type": "stream",
     "text": [
      "valid loss - 0.6046: 100%|██████████| 4/4 [00:01<00:00,  3.85it/s]\n",
      "  0%|          | 0/28 [00:00<?, ?it/s]"
     ]
    },
    {
     "name": "stdout",
     "output_type": "stream",
     "text": [
      "epoch - 1 val_loss - 0.62 val acc - 0.664 val auc - 0.650\n"
     ]
    },
    {
     "name": "stderr",
     "output_type": "stream",
     "text": [
      "loss - 0.5182: 100%|██████████| 28/28 [00:08<00:00,  3.46it/s]\n",
      "  0%|          | 0/4 [00:00<?, ?it/s]"
     ]
    },
    {
     "name": "stdout",
     "output_type": "stream",
     "text": [
      "epoch - 2 train_loss - 0.55 acc - 0.717 auc - 0.703\n"
     ]
    },
    {
     "name": "stderr",
     "output_type": "stream",
     "text": [
      "valid loss - 0.6352: 100%|██████████| 4/4 [00:00<00:00,  4.07it/s]\n",
      "  0%|          | 0/28 [00:00<?, ?it/s]"
     ]
    },
    {
     "name": "stdout",
     "output_type": "stream",
     "text": [
      "epoch - 2 val_loss - 0.61 val acc - 0.685 val auc - 0.698\n"
     ]
    },
    {
     "name": "stderr",
     "output_type": "stream",
     "text": [
      "loss - 0.5182: 100%|██████████| 28/28 [00:07<00:00,  3.68it/s]\n",
      "  0%|          | 0/4 [00:00<?, ?it/s]"
     ]
    },
    {
     "name": "stdout",
     "output_type": "stream",
     "text": [
      "epoch - 3 train_loss - 0.53 acc - 0.730 auc - 0.739\n"
     ]
    },
    {
     "name": "stderr",
     "output_type": "stream",
     "text": [
      "valid loss - 0.6078: 100%|██████████| 4/4 [00:00<00:00,  4.12it/s]\n",
      "  0%|          | 0/28 [00:00<?, ?it/s]"
     ]
    },
    {
     "name": "stdout",
     "output_type": "stream",
     "text": [
      "epoch - 3 val_loss - 0.58 val acc - 0.694 val auc - 0.720\n"
     ]
    },
    {
     "name": "stderr",
     "output_type": "stream",
     "text": [
      "loss - 0.5385: 100%|██████████| 28/28 [00:07<00:00,  3.77it/s]\n",
      "  0%|          | 0/4 [00:00<?, ?it/s]"
     ]
    },
    {
     "name": "stdout",
     "output_type": "stream",
     "text": [
      "epoch - 4 train_loss - 0.51 acc - 0.745 auc - 0.768\n"
     ]
    },
    {
     "name": "stderr",
     "output_type": "stream",
     "text": [
      "valid loss - 0.5578: 100%|██████████| 4/4 [00:00<00:00,  4.12it/s]\n",
      "  0%|          | 0/28 [00:00<?, ?it/s]"
     ]
    },
    {
     "name": "stdout",
     "output_type": "stream",
     "text": [
      "epoch - 4 val_loss - 0.57 val acc - 0.693 val auc - 0.736\n"
     ]
    },
    {
     "name": "stderr",
     "output_type": "stream",
     "text": [
      "loss - 0.5112: 100%|██████████| 28/28 [00:07<00:00,  3.71it/s]\n",
      "  0%|          | 0/4 [00:00<?, ?it/s]"
     ]
    },
    {
     "name": "stdout",
     "output_type": "stream",
     "text": [
      "epoch - 5 train_loss - 0.49 acc - 0.753 auc - 0.787\n"
     ]
    },
    {
     "name": "stderr",
     "output_type": "stream",
     "text": [
      "valid loss - 0.5727: 100%|██████████| 4/4 [00:01<00:00,  3.69it/s]\n",
      "  0%|          | 0/28 [00:00<?, ?it/s]"
     ]
    },
    {
     "name": "stdout",
     "output_type": "stream",
     "text": [
      "epoch - 5 val_loss - 0.56 val acc - 0.706 val auc - 0.746\n"
     ]
    },
    {
     "name": "stderr",
     "output_type": "stream",
     "text": [
      "loss - 0.4891: 100%|██████████| 28/28 [00:08<00:00,  3.46it/s]\n",
      "  0%|          | 0/4 [00:00<?, ?it/s]"
     ]
    },
    {
     "name": "stdout",
     "output_type": "stream",
     "text": [
      "epoch - 6 train_loss - 0.48 acc - 0.761 auc - 0.802\n"
     ]
    },
    {
     "name": "stderr",
     "output_type": "stream",
     "text": [
      "valid loss - 0.5733: 100%|██████████| 4/4 [00:00<00:00,  4.04it/s]\n",
      "  0%|          | 0/28 [00:00<?, ?it/s]"
     ]
    },
    {
     "name": "stdout",
     "output_type": "stream",
     "text": [
      "epoch - 6 val_loss - 0.56 val acc - 0.706 val auc - 0.752\n"
     ]
    },
    {
     "name": "stderr",
     "output_type": "stream",
     "text": [
      "loss - 0.4774: 100%|██████████| 28/28 [00:07<00:00,  3.81it/s]\n",
      "  0%|          | 0/4 [00:00<?, ?it/s]"
     ]
    },
    {
     "name": "stdout",
     "output_type": "stream",
     "text": [
      "epoch - 7 train_loss - 0.47 acc - 0.768 auc - 0.813\n"
     ]
    },
    {
     "name": "stderr",
     "output_type": "stream",
     "text": [
      "valid loss - 0.5585: 100%|██████████| 4/4 [00:01<00:00,  3.91it/s]\n",
      "  0%|          | 0/28 [00:00<?, ?it/s]"
     ]
    },
    {
     "name": "stdout",
     "output_type": "stream",
     "text": [
      "epoch - 7 val_loss - 0.56 val acc - 0.710 val auc - 0.758\n"
     ]
    },
    {
     "name": "stderr",
     "output_type": "stream",
     "text": [
      "loss - 0.4297: 100%|██████████| 28/28 [00:07<00:00,  3.77it/s]\n",
      "  0%|          | 0/4 [00:00<?, ?it/s]"
     ]
    },
    {
     "name": "stdout",
     "output_type": "stream",
     "text": [
      "epoch - 8 train_loss - 0.46 acc - 0.774 auc - 0.823\n"
     ]
    },
    {
     "name": "stderr",
     "output_type": "stream",
     "text": [
      "valid loss - 0.5217: 100%|██████████| 4/4 [00:01<00:00,  3.39it/s]\n",
      "  0%|          | 0/28 [00:00<?, ?it/s]"
     ]
    },
    {
     "name": "stdout",
     "output_type": "stream",
     "text": [
      "epoch - 8 val_loss - 0.54 val acc - 0.714 val auc - 0.760\n"
     ]
    },
    {
     "name": "stderr",
     "output_type": "stream",
     "text": [
      "loss - 0.4103: 100%|██████████| 28/28 [00:07<00:00,  3.74it/s]\n",
      "  0%|          | 0/4 [00:00<?, ?it/s]"
     ]
    },
    {
     "name": "stdout",
     "output_type": "stream",
     "text": [
      "epoch - 9 train_loss - 0.45 acc - 0.780 auc - 0.833\n"
     ]
    },
    {
     "name": "stderr",
     "output_type": "stream",
     "text": [
      "valid loss - 0.5601: 100%|██████████| 4/4 [00:01<00:00,  3.90it/s]\n",
      "  0%|          | 0/28 [00:00<?, ?it/s]"
     ]
    },
    {
     "name": "stdout",
     "output_type": "stream",
     "text": [
      "epoch - 9 val_loss - 0.55 val acc - 0.714 val auc - 0.763\n"
     ]
    },
    {
     "name": "stderr",
     "output_type": "stream",
     "text": [
      "loss - 0.4855: 100%|██████████| 28/28 [00:07<00:00,  3.52it/s]\n",
      "  0%|          | 0/4 [00:00<?, ?it/s]"
     ]
    },
    {
     "name": "stdout",
     "output_type": "stream",
     "text": [
      "epoch - 10 train_loss - 0.44 acc - 0.784 auc - 0.841\n"
     ]
    },
    {
     "name": "stderr",
     "output_type": "stream",
     "text": [
      "valid loss - 0.5274: 100%|██████████| 4/4 [00:00<00:00,  4.05it/s]\n",
      "  0%|          | 0/28 [00:00<?, ?it/s]"
     ]
    },
    {
     "name": "stdout",
     "output_type": "stream",
     "text": [
      "epoch - 10 val_loss - 0.54 val acc - 0.716 val auc - 0.764\n"
     ]
    },
    {
     "name": "stderr",
     "output_type": "stream",
     "text": [
      "loss - 0.3778: 100%|██████████| 28/28 [00:08<00:00,  3.41it/s]\n",
      "  0%|          | 0/4 [00:00<?, ?it/s]"
     ]
    },
    {
     "name": "stdout",
     "output_type": "stream",
     "text": [
      "epoch - 11 train_loss - 0.43 acc - 0.788 auc - 0.848\n"
     ]
    },
    {
     "name": "stderr",
     "output_type": "stream",
     "text": [
      "valid loss - 0.5469: 100%|██████████| 4/4 [00:00<00:00,  4.06it/s]\n",
      "  0%|          | 0/28 [00:00<?, ?it/s]"
     ]
    },
    {
     "name": "stdout",
     "output_type": "stream",
     "text": [
      "epoch - 11 val_loss - 0.54 val acc - 0.716 val auc - 0.764\n"
     ]
    },
    {
     "name": "stderr",
     "output_type": "stream",
     "text": [
      "loss - 0.4029: 100%|██████████| 28/28 [00:07<00:00,  3.68it/s]\n",
      "  0%|          | 0/4 [00:00<?, ?it/s]"
     ]
    },
    {
     "name": "stdout",
     "output_type": "stream",
     "text": [
      "epoch - 12 train_loss - 0.42 acc - 0.794 auc - 0.855\n"
     ]
    },
    {
     "name": "stderr",
     "output_type": "stream",
     "text": [
      "valid loss - 0.5343: 100%|██████████| 4/4 [00:01<00:00,  3.89it/s]\n",
      "  0%|          | 0/28 [00:00<?, ?it/s]"
     ]
    },
    {
     "name": "stdout",
     "output_type": "stream",
     "text": [
      "epoch - 12 val_loss - 0.55 val acc - 0.713 val auc - 0.764\n"
     ]
    },
    {
     "name": "stderr",
     "output_type": "stream",
     "text": [
      "loss - 0.4370: 100%|██████████| 28/28 [00:07<00:00,  3.74it/s]\n",
      "  0%|          | 0/4 [00:00<?, ?it/s]"
     ]
    },
    {
     "name": "stdout",
     "output_type": "stream",
     "text": [
      "epoch - 13 train_loss - 0.42 acc - 0.796 auc - 0.859\n"
     ]
    },
    {
     "name": "stderr",
     "output_type": "stream",
     "text": [
      "valid loss - 0.5703: 100%|██████████| 4/4 [00:01<00:00,  3.95it/s]\n",
      "  0%|          | 0/28 [00:00<?, ?it/s]"
     ]
    },
    {
     "name": "stdout",
     "output_type": "stream",
     "text": [
      "epoch - 13 val_loss - 0.56 val acc - 0.719 val auc - 0.764\n"
     ]
    },
    {
     "name": "stderr",
     "output_type": "stream",
     "text": [
      "loss - 0.4183: 100%|██████████| 28/28 [00:07<00:00,  3.69it/s]\n",
      "  0%|          | 0/4 [00:00<?, ?it/s]"
     ]
    },
    {
     "name": "stdout",
     "output_type": "stream",
     "text": [
      "epoch - 14 train_loss - 0.41 acc - 0.800 auc - 0.865\n"
     ]
    },
    {
     "name": "stderr",
     "output_type": "stream",
     "text": [
      "valid loss - 0.5524: 100%|██████████| 4/4 [00:00<00:00,  4.08it/s]\n",
      "  0%|          | 0/28 [00:00<?, ?it/s]"
     ]
    },
    {
     "name": "stdout",
     "output_type": "stream",
     "text": [
      "epoch - 14 val_loss - 0.56 val acc - 0.711 val auc - 0.764\n"
     ]
    },
    {
     "name": "stderr",
     "output_type": "stream",
     "text": [
      "loss - 0.3870: 100%|██████████| 28/28 [00:07<00:00,  3.66it/s]\n",
      "  0%|          | 0/4 [00:00<?, ?it/s]"
     ]
    },
    {
     "name": "stdout",
     "output_type": "stream",
     "text": [
      "epoch - 15 train_loss - 0.40 acc - 0.804 auc - 0.870\n"
     ]
    },
    {
     "name": "stderr",
     "output_type": "stream",
     "text": [
      "valid loss - 0.5698: 100%|██████████| 4/4 [00:00<00:00,  4.00it/s]\n",
      "  0%|          | 0/4 [00:00<?, ?it/s]"
     ]
    },
    {
     "name": "stdout",
     "output_type": "stream",
     "text": [
      "epoch - 15 val_loss - 0.56 val acc - 0.713 val auc - 0.763\n",
      "Val Loss does not improve for 5 consecutive epochs\n"
     ]
    },
    {
     "name": "stderr",
     "output_type": "stream",
     "text": [
      "valid loss - 0.4075: 100%|██████████| 4/4 [00:01<00:00,  3.29it/s]\n",
      "  0%|          | 0/28 [00:00<?, ?it/s]"
     ]
    },
    {
     "name": "stdout",
     "output_type": "stream",
     "text": [
      "epoch - 15 test_loss - 0.40 acc - 0.823 auc - 0.824\n",
      "----------------------------------------------------------------------------\n"
     ]
    },
    {
     "name": "stderr",
     "output_type": "stream",
     "text": [
      "loss - 0.5792: 100%|██████████| 28/28 [00:07<00:00,  3.93it/s]\n",
      "  0%|          | 0/4 [00:00<?, ?it/s]"
     ]
    },
    {
     "name": "stdout",
     "output_type": "stream",
     "text": [
      "epoch - 0 train_loss - 0.64 acc - 0.705 auc - 0.499\n"
     ]
    },
    {
     "name": "stderr",
     "output_type": "stream",
     "text": [
      "valid loss - 0.6872: 100%|██████████| 4/4 [00:00<00:00,  4.14it/s]\n",
      "  0%|          | 0/28 [00:00<?, ?it/s]"
     ]
    },
    {
     "name": "stdout",
     "output_type": "stream",
     "text": [
      "epoch - 0 val_loss - 0.68 val acc - 0.637 val auc - 0.626\n"
     ]
    },
    {
     "name": "stderr",
     "output_type": "stream",
     "text": [
      "loss - 0.5524: 100%|██████████| 28/28 [00:07<00:00,  3.83it/s]\n",
      "  0%|          | 0/4 [00:00<?, ?it/s]"
     ]
    },
    {
     "name": "stdout",
     "output_type": "stream",
     "text": [
      "epoch - 1 train_loss - 0.58 acc - 0.716 auc - 0.599\n"
     ]
    },
    {
     "name": "stderr",
     "output_type": "stream",
     "text": [
      "valid loss - 0.6585: 100%|██████████| 4/4 [00:00<00:00,  4.08it/s]\n",
      "  0%|          | 0/28 [00:00<?, ?it/s]"
     ]
    },
    {
     "name": "stdout",
     "output_type": "stream",
     "text": [
      "epoch - 1 val_loss - 0.63 val acc - 0.648 val auc - 0.637\n"
     ]
    },
    {
     "name": "stderr",
     "output_type": "stream",
     "text": [
      "loss - 0.5131: 100%|██████████| 28/28 [00:08<00:00,  3.33it/s]\n",
      "  0%|          | 0/4 [00:00<?, ?it/s]"
     ]
    },
    {
     "name": "stdout",
     "output_type": "stream",
     "text": [
      "epoch - 2 train_loss - 0.55 acc - 0.722 auc - 0.684\n"
     ]
    },
    {
     "name": "stderr",
     "output_type": "stream",
     "text": [
      "valid loss - 0.5984: 100%|██████████| 4/4 [00:00<00:00,  4.07it/s]\n",
      "  0%|          | 0/28 [00:00<?, ?it/s]"
     ]
    },
    {
     "name": "stdout",
     "output_type": "stream",
     "text": [
      "epoch - 2 val_loss - 0.61 val acc - 0.667 val auc - 0.689\n"
     ]
    },
    {
     "name": "stderr",
     "output_type": "stream",
     "text": [
      "loss - 0.5301: 100%|██████████| 28/28 [00:07<00:00,  3.72it/s]\n",
      "  0%|          | 0/4 [00:00<?, ?it/s]"
     ]
    },
    {
     "name": "stdout",
     "output_type": "stream",
     "text": [
      "epoch - 3 train_loss - 0.53 acc - 0.738 auc - 0.732\n"
     ]
    },
    {
     "name": "stderr",
     "output_type": "stream",
     "text": [
      "valid loss - 0.5881: 100%|██████████| 4/4 [00:01<00:00,  3.86it/s]\n",
      "  0%|          | 0/28 [00:00<?, ?it/s]"
     ]
    },
    {
     "name": "stdout",
     "output_type": "stream",
     "text": [
      "epoch - 3 val_loss - 0.59 val acc - 0.677 val auc - 0.707\n"
     ]
    },
    {
     "name": "stderr",
     "output_type": "stream",
     "text": [
      "loss - 0.5058: 100%|██████████| 28/28 [00:07<00:00,  3.77it/s]\n",
      "  0%|          | 0/4 [00:00<?, ?it/s]"
     ]
    },
    {
     "name": "stdout",
     "output_type": "stream",
     "text": [
      "epoch - 4 train_loss - 0.50 acc - 0.751 auc - 0.764\n"
     ]
    },
    {
     "name": "stderr",
     "output_type": "stream",
     "text": [
      "valid loss - 0.6030: 100%|██████████| 4/4 [00:00<00:00,  4.19it/s]\n",
      "  0%|          | 0/28 [00:00<?, ?it/s]"
     ]
    },
    {
     "name": "stdout",
     "output_type": "stream",
     "text": [
      "epoch - 4 val_loss - 0.60 val acc - 0.690 val auc - 0.728\n"
     ]
    },
    {
     "name": "stderr",
     "output_type": "stream",
     "text": [
      "loss - 0.4843: 100%|██████████| 28/28 [00:07<00:00,  3.94it/s]\n",
      "  0%|          | 0/4 [00:00<?, ?it/s]"
     ]
    },
    {
     "name": "stdout",
     "output_type": "stream",
     "text": [
      "epoch - 5 train_loss - 0.48 acc - 0.761 auc - 0.788\n"
     ]
    },
    {
     "name": "stderr",
     "output_type": "stream",
     "text": [
      "valid loss - 0.5468: 100%|██████████| 4/4 [00:00<00:00,  4.24it/s]\n",
      "  0%|          | 0/28 [00:00<?, ?it/s]"
     ]
    },
    {
     "name": "stdout",
     "output_type": "stream",
     "text": [
      "epoch - 5 val_loss - 0.58 val acc - 0.692 val auc - 0.741\n"
     ]
    },
    {
     "name": "stderr",
     "output_type": "stream",
     "text": [
      "loss - 0.4492: 100%|██████████| 28/28 [00:08<00:00,  3.48it/s]\n",
      "  0%|          | 0/4 [00:00<?, ?it/s]"
     ]
    },
    {
     "name": "stdout",
     "output_type": "stream",
     "text": [
      "epoch - 6 train_loss - 0.47 acc - 0.768 auc - 0.803\n"
     ]
    },
    {
     "name": "stderr",
     "output_type": "stream",
     "text": [
      "valid loss - 0.5336: 100%|██████████| 4/4 [00:00<00:00,  4.15it/s]\n",
      "  0%|          | 0/28 [00:00<?, ?it/s]"
     ]
    },
    {
     "name": "stdout",
     "output_type": "stream",
     "text": [
      "epoch - 6 val_loss - 0.56 val acc - 0.692 val auc - 0.748\n"
     ]
    },
    {
     "name": "stderr",
     "output_type": "stream",
     "text": [
      "loss - 0.4206: 100%|██████████| 28/28 [00:08<00:00,  3.49it/s]\n",
      "  0%|          | 0/4 [00:00<?, ?it/s]"
     ]
    },
    {
     "name": "stdout",
     "output_type": "stream",
     "text": [
      "epoch - 7 train_loss - 0.46 acc - 0.775 auc - 0.814\n"
     ]
    },
    {
     "name": "stderr",
     "output_type": "stream",
     "text": [
      "valid loss - 0.5680: 100%|██████████| 4/4 [00:00<00:00,  4.25it/s]\n",
      "  0%|          | 0/28 [00:00<?, ?it/s]"
     ]
    },
    {
     "name": "stdout",
     "output_type": "stream",
     "text": [
      "epoch - 7 val_loss - 0.59 val acc - 0.693 val auc - 0.751\n"
     ]
    },
    {
     "name": "stderr",
     "output_type": "stream",
     "text": [
      "loss - 0.4516: 100%|██████████| 28/28 [00:07<00:00,  3.79it/s]\n",
      "  0%|          | 0/4 [00:00<?, ?it/s]"
     ]
    },
    {
     "name": "stdout",
     "output_type": "stream",
     "text": [
      "epoch - 8 train_loss - 0.45 acc - 0.781 auc - 0.826\n"
     ]
    },
    {
     "name": "stderr",
     "output_type": "stream",
     "text": [
      "valid loss - 0.5596: 100%|██████████| 4/4 [00:00<00:00,  4.06it/s]\n",
      "  0%|          | 0/28 [00:00<?, ?it/s]"
     ]
    },
    {
     "name": "stdout",
     "output_type": "stream",
     "text": [
      "epoch - 8 val_loss - 0.57 val acc - 0.703 val auc - 0.755\n"
     ]
    },
    {
     "name": "stderr",
     "output_type": "stream",
     "text": [
      "loss - 0.4227: 100%|██████████| 28/28 [00:07<00:00,  3.89it/s]\n",
      "  0%|          | 0/4 [00:00<?, ?it/s]"
     ]
    },
    {
     "name": "stdout",
     "output_type": "stream",
     "text": [
      "epoch - 9 train_loss - 0.44 acc - 0.787 auc - 0.835\n"
     ]
    },
    {
     "name": "stderr",
     "output_type": "stream",
     "text": [
      "valid loss - 0.5888: 100%|██████████| 4/4 [00:01<00:00,  3.98it/s]\n",
      "  0%|          | 0/28 [00:00<?, ?it/s]"
     ]
    },
    {
     "name": "stdout",
     "output_type": "stream",
     "text": [
      "epoch - 9 val_loss - 0.57 val acc - 0.701 val auc - 0.753\n"
     ]
    },
    {
     "name": "stderr",
     "output_type": "stream",
     "text": [
      "loss - 0.3920: 100%|██████████| 28/28 [00:07<00:00,  3.58it/s]\n",
      "  0%|          | 0/4 [00:00<?, ?it/s]"
     ]
    },
    {
     "name": "stdout",
     "output_type": "stream",
     "text": [
      "epoch - 10 train_loss - 0.43 acc - 0.792 auc - 0.843\n"
     ]
    },
    {
     "name": "stderr",
     "output_type": "stream",
     "text": [
      "valid loss - 0.5597: 100%|██████████| 4/4 [00:00<00:00,  4.05it/s]\n",
      "  0%|          | 0/28 [00:00<?, ?it/s]"
     ]
    },
    {
     "name": "stdout",
     "output_type": "stream",
     "text": [
      "epoch - 10 val_loss - 0.57 val acc - 0.696 val auc - 0.756\n"
     ]
    },
    {
     "name": "stderr",
     "output_type": "stream",
     "text": [
      "loss - 0.4029: 100%|██████████| 28/28 [00:07<00:00,  3.79it/s]\n",
      "  0%|          | 0/4 [00:00<?, ?it/s]"
     ]
    },
    {
     "name": "stdout",
     "output_type": "stream",
     "text": [
      "epoch - 11 train_loss - 0.42 acc - 0.795 auc - 0.850\n"
     ]
    },
    {
     "name": "stderr",
     "output_type": "stream",
     "text": [
      "valid loss - 0.5484: 100%|██████████| 4/4 [00:01<00:00,  3.89it/s]\n",
      "  0%|          | 0/4 [00:00<?, ?it/s]"
     ]
    },
    {
     "name": "stdout",
     "output_type": "stream",
     "text": [
      "epoch - 11 val_loss - 0.57 val acc - 0.704 val auc - 0.753\n",
      "Val Loss does not improve for 5 consecutive epochs\n"
     ]
    },
    {
     "name": "stderr",
     "output_type": "stream",
     "text": [
      "valid loss - 0.4853: 100%|██████████| 4/4 [00:01<00:00,  3.40it/s]\n"
     ]
    },
    {
     "name": "stdout",
     "output_type": "stream",
     "text": [
      "epoch - 11 test_loss - 0.45 acc - 0.793 auc - 0.826\n"
     ]
    }
   ],
   "source": [
    "X = np.array(group.keys())\n",
    "kfold = KFold(n_splits=5, shuffle=True)\n",
    "train_losses = list()\n",
    "train_aucs = list()\n",
    "train_accs = list()\n",
    "val_losses = list()\n",
    "val_aucs = list()\n",
    "val_accs = list()\n",
    "test_losses = list()\n",
    "test_aucs = list()\n",
    "test_accs = list()\n",
    "for train, test in kfold.split(X):\n",
    "    users_train, users_test =  X[train], X[test]\n",
    "    n = len(users_test)//2\n",
    "    users_test, users_val = users_test[:n], users_test[n: ]\n",
    "    train = PRACTICE_DATASET(group[users_train])\n",
    "    valid = PRACTICE_DATASET(group[users_val])\n",
    "    test = PRACTICE_DATASET(group[users_test])\n",
    "    train_dataloader = DataLoader(train, batch_size=32, shuffle=True, num_workers=8)\n",
    "    val_dataloader = DataLoader(valid, batch_size=32, shuffle=True, num_workers=8)\n",
    "    test_dataloader = DataLoader(test, batch_size=32, shuffle=True, num_workers=8)\n",
    "    \n",
    "    device = torch.device(\"cuda\" if torch.cuda.is_available() else \"cpu\")\n",
    "    saint = SAINTModel(n_skill, n_part)\n",
    "    epochs = 100\n",
    "    criterion = nn.BCEWithLogitsLoss()\n",
    "    optimizer = torch.optim.Adam(saint.parameters(), betas=(0.9, 0.999), lr = 0.0005, eps=1e-8)\n",
    "    saint.to(device)\n",
    "    criterion.to(device)\n",
    "    \n",
    "    def train_epoch(model=saint, train_iterator=train_dataloader, optim=optimizer, criterion=criterion, device=device):\n",
    "        model.train()\n",
    "\n",
    "        train_loss = []\n",
    "        num_corrects = 0\n",
    "        num_total = 0\n",
    "        labels = []\n",
    "        outs = []\n",
    "        tbar = tqdm(train_iterator)\n",
    "        for item in tbar:\n",
    "            question_id = item[0].to(device).long()\n",
    "            chapter = item[1].to(device).long()\n",
    "            schapter = item[2].to(device).long()\n",
    "            responses = item[3].to(device).long()\n",
    "            user_feats = item[4].to(device).float()\n",
    "            label = item[5].to(device).float()            \n",
    "            target_mask = (question_id!=0)\n",
    "            optim.zero_grad()\n",
    "            output = model(question_id, chapter, schapter, responses, user_feats)\n",
    "            output = torch.reshape(output, label.shape)\n",
    "\n",
    "            output = torch.masked_select(output, target_mask)\n",
    "            label = torch.masked_select(label, target_mask)\n",
    "\n",
    "            loss = criterion(output, label)\n",
    "            loss.backward()\n",
    "            optim.step()\n",
    "            train_loss.append(loss.item())\n",
    "            pred = (torch.sigmoid(output) >= 0.5).long()\n",
    "\n",
    "            num_corrects += (pred == label).sum().item()\n",
    "            num_total += len(label)\n",
    "\n",
    "            labels.extend(label.view(-1).data.cpu().numpy())\n",
    "            outs.extend(output.view(-1).data.cpu().numpy())\n",
    "\n",
    "            tbar.set_description('loss - {:.4f}'.format(loss))\n",
    "        acc = num_corrects / num_total\n",
    "        auc = roc_auc_score(labels, outs)\n",
    "        loss = np.mean(train_loss)\n",
    "\n",
    "        return loss, acc, auc\n",
    "   \n",
    "\n",
    "    def val_epoch(model=saint, val_iterator=test_dataloader, \n",
    "              criterion=criterion, device=device):\n",
    "        model.eval()\n",
    "\n",
    "        train_loss = []\n",
    "        num_corrects = 0\n",
    "        num_total = 0\n",
    "        labels = []\n",
    "        outs = []\n",
    "        tbar = tqdm(val_iterator)\n",
    "        for item in tbar:\n",
    "            question_id = item[0].to(device).long()\n",
    "            chapter = item[1].to(device).long()\n",
    "            schapter = item[2].to(device).long()\n",
    "            responses = item[3].to(device).long()\n",
    "            user_feats = item[4].to(device).float()\n",
    "            label = item[5].to(device).float()            \n",
    "            target_mask = (question_id!=0)\n",
    "            with torch.no_grad():\n",
    "                output = model(question_id, chapter, schapter, responses, user_feats)\n",
    "\n",
    "            output = torch.reshape(output, label.shape)\n",
    "            output = torch.masked_select(output, target_mask)\n",
    "            label = torch.masked_select(label, target_mask)\n",
    "\n",
    "            loss = criterion(output, label)\n",
    "            train_loss.append(loss.item())\n",
    "\n",
    "            pred = (torch.sigmoid(output) >= 0.5).long()\n",
    "            num_corrects += (pred == label).sum().item()\n",
    "            num_total += len(label)\n",
    "\n",
    "            labels.extend(label.view(-1).data.cpu().numpy())\n",
    "            outs.extend(output.view(-1).data.cpu().numpy())\n",
    "\n",
    "            tbar.set_description('valid loss - {:.4f}'.format(loss))\n",
    "\n",
    "        acc = num_corrects / num_total\n",
    "        auc = roc_auc_score(labels, outs)\n",
    "        loss = np.average(train_loss)\n",
    "\n",
    "        return loss, acc, auc\n",
    "    \n",
    "    MIN_VAL = 1000000000\n",
    "    count = 0\n",
    "    print('----------------------------------------------------------------------------')\n",
    "    for epoch in range(epochs):\n",
    "        train_loss, train_acc, train_auc = train_epoch(model=saint, device=device)\n",
    "        print(\"epoch - {} train_loss - {:.2f} acc - {:.3f} auc - {:.3f}\".format(epoch, train_loss, train_acc, train_auc))\n",
    "        val_loss, val_acc, val_auc = val_epoch(model=saint, val_iterator= val_dataloader, device=device)\n",
    "        print(\"epoch - {} val_loss - {:.2f} val acc - {:.3f} val auc - {:.3f}\".format(epoch, val_loss, val_acc, val_auc))\n",
    "        if val_loss < MIN_VAL:\n",
    "            count = 0\n",
    "            MIN_VAL = val_loss\n",
    "        else:\n",
    "            count += 1\n",
    "\n",
    "        if count == patience:\n",
    "            print('Val Loss does not improve for {} consecutive epochs'.format(patience))\n",
    "            break\n",
    "    test_loss, test_acc, test_auc = val_epoch(model=saint, device=device)\n",
    "    print(\"epoch - {} test_loss - {:.2f} acc - {:.3f} auc - {:.3f}\".format(epoch, test_loss, test_acc, test_auc))\n",
    "    test_losses.append(test_loss)\n",
    "    test_aucs.append(test_auc)\n",
    "    test_accs.append(test_acc)\n",
    "    train_aucs.append(train_auc)\n",
    "    train_losses.append(train_loss)\n",
    "    train_accs.append(train_acc)"
   ]
  },
  {
   "cell_type": "code",
   "execution_count": 35,
   "metadata": {
    "execution": {
     "iopub.execute_input": "2021-08-08T17:17:11.444900Z",
     "iopub.status.busy": "2021-08-08T17:17:11.443631Z",
     "iopub.status.idle": "2021-08-08T17:17:11.448633Z",
     "shell.execute_reply": "2021-08-08T17:17:11.447914Z",
     "shell.execute_reply.started": "2021-07-31T18:55:25.847643Z"
    },
    "papermill": {
     "duration": 1.767639,
     "end_time": "2021-08-08T17:17:11.448771",
     "exception": false,
     "start_time": "2021-08-08T17:17:09.681132",
     "status": "completed"
    },
    "tags": []
   },
   "outputs": [
    {
     "name": "stdout",
     "output_type": "stream",
     "text": [
      "test avg loss:  0.4342731788754463 0.023120406171228267\n",
      "test avg acc:  0.8059617058958708 0.011109288726453845\n",
      "test avg auc:  0.8243552897254152 0.004247982843715011\n"
     ]
    }
   ],
   "source": [
    "print(\"test avg loss: \", np.mean(test_losses), np.std(test_losses))\n",
    "print(\"test avg acc: \", np.mean(test_accs), np.std(test_accs))\n",
    "print(\"test avg auc: \", np.mean(test_aucs), np.std(test_aucs))"
   ]
  },
  {
   "cell_type": "code",
   "execution_count": 36,
   "metadata": {
    "execution": {
     "iopub.execute_input": "2021-08-08T17:17:14.800988Z",
     "iopub.status.busy": "2021-08-08T17:17:14.800277Z",
     "iopub.status.idle": "2021-08-08T17:17:14.804640Z",
     "shell.execute_reply": "2021-08-08T17:17:14.804119Z",
     "shell.execute_reply.started": "2021-07-31T18:55:25.857312Z"
    },
    "papermill": {
     "duration": 1.673129,
     "end_time": "2021-08-08T17:17:14.804738",
     "exception": false,
     "start_time": "2021-08-08T17:17:13.131609",
     "status": "completed"
    },
    "tags": []
   },
   "outputs": [
    {
     "name": "stdout",
     "output_type": "stream",
     "text": [
      "train avg loss:  0.40856436554874687 0.007296162516556907\n",
      "train avg acc:  0.8019475079142918 0.003747093502958395\n",
      "train avg auc:  0.8631510794835009 0.00712222510884184\n"
     ]
    }
   ],
   "source": [
    "print(\"train avg loss: \", np.mean(train_losses), np.std(train_losses))\n",
    "print(\"train avg acc: \", np.mean(train_accs), np.std(train_accs))\n",
    "print(\"train avg auc: \", np.mean(train_aucs), np.std(train_aucs))"
   ]
  }
 ],
 "metadata": {
  "kernelspec": {
   "display_name": "Python 3",
   "language": "python",
   "name": "python3"
  },
  "language_info": {
   "codemirror_mode": {
    "name": "ipython",
    "version": 3
   },
   "file_extension": ".py",
   "mimetype": "text/x-python",
   "name": "python",
   "nbconvert_exporter": "python",
   "pygments_lexer": "ipython3",
   "version": "3.8.5"
  },
  "papermill": {
   "duration": 1107.433702,
   "end_time": "2021-08-08T17:17:16.718114",
   "environment_variables": {},
   "exception": null,
   "input_path": "__notebook__.ipynb",
   "output_path": "__notebook__.ipynb",
   "parameters": {},
   "start_time": "2021-08-08T16:58:49.284412",
   "version": "2.1.0"
  }
 },
 "nbformat": 4,
 "nbformat_minor": 4
}
