{
 "cells": [
  {
   "cell_type": "code",
   "execution_count": 1,
   "metadata": {
    "_cell_guid": "79c7e3d0-c299-4dcb-8224-4455121ee9b0",
    "_uuid": "d629ff2d2480ee46fbb7e2d37f6b5fab8052498a",
    "execution": {
     "iopub.execute_input": "2021-08-08T16:59:39.312221Z",
     "iopub.status.busy": "2021-08-08T16:59:39.310509Z",
     "iopub.status.idle": "2021-08-08T16:59:41.584828Z",
     "shell.execute_reply": "2021-08-08T16:59:41.586632Z",
     "shell.execute_reply.started": "2021-08-07T08:39:28.091575Z"
    },
    "papermill": {
     "duration": 2.31557,
     "end_time": "2021-08-08T16:59:41.586977",
     "exception": false,
     "start_time": "2021-08-08T16:59:39.271407",
     "status": "completed"
    },
    "tags": []
   },
   "outputs": [],
   "source": [
    "import psutil\n",
    "import joblib\n",
    "import numpy as np\n",
    "import pandas as pd\n",
    "import torch\n",
    "from tqdm import tqdm\n",
    "from sklearn.metrics import roc_auc_score\n",
    "import torch.nn as nn\n",
    "from sklearn.model_selection import KFold\n",
    "from torch.utils.data import Dataset, DataLoader\n",
    "import gc\n",
    "import os\n",
    "import warnings\n",
    "warnings.filterwarnings(\"ignore\")"
   ]
  },
  {
   "cell_type": "code",
   "execution_count": 2,
   "metadata": {
    "execution": {
     "iopub.execute_input": "2021-08-08T16:59:41.691552Z",
     "iopub.status.busy": "2021-08-08T16:59:41.690719Z",
     "iopub.status.idle": "2021-08-08T16:59:47.598494Z",
     "shell.execute_reply": "2021-08-08T16:59:47.597954Z",
     "shell.execute_reply.started": "2021-08-07T08:39:30.037833Z"
    },
    "papermill": {
     "duration": 5.955535,
     "end_time": "2021-08-08T16:59:47.598625",
     "exception": false,
     "start_time": "2021-08-08T16:59:41.643090",
     "status": "completed"
    },
    "tags": []
   },
   "outputs": [],
   "source": [
    "#load data\n",
    "data = pd.read_csv('../input/practice-log-demographics/Practice_Log_Demographics (1).csv', low_memory=False)"
   ]
  },
  {
   "cell_type": "code",
   "execution_count": 3,
   "metadata": {
    "execution": {
     "iopub.execute_input": "2021-08-08T16:59:47.648693Z",
     "iopub.status.busy": "2021-08-08T16:59:47.648169Z",
     "iopub.status.idle": "2021-08-08T16:59:47.651921Z",
     "shell.execute_reply": "2021-08-08T16:59:47.651539Z",
     "shell.execute_reply.started": "2021-08-07T08:39:35.810945Z"
    },
    "papermill": {
     "duration": 0.030564,
     "end_time": "2021-08-08T16:59:47.652047",
     "exception": false,
     "start_time": "2021-08-08T16:59:47.621483",
     "status": "completed"
    },
    "tags": []
   },
   "outputs": [],
   "source": [
    "#the features that would be used\n",
    "FEATURES = ['chapter_label', 'sub_chapter_label','question_name','user_id.x','term','STDNT_SEX_CD', \n",
    "            'NonNativeEnglish', 'White', 'Asian','WhiteOrAsian', 'Hispanic','AfricanAmerican','OtherEthnicities',\n",
    "            'NonWhiteOrAsian','STDNT_CTZN_STAT_CD', 'international','gradingType','birthYear','exclClassCumGPA',\n",
    "            'Freshman', 'Junior','Sophomore','Senior','termCreditsGPA','termCreditsNoGPA','athlete_1','honorsPro',\n",
    "            'LSA', 'programBusiness', 'programEngineering','programInformation', 'programOther','HSCalculusTaken', \n",
    "            'highSchoolGPA', 'majorsCount', 'minorsCount','PREV_TERM_CUM_GPA', 'classGraded', 'classHonors', \n",
    "            'Pass_Fail', 'parentsGraduateEdu',  'minorityGroup', 'q',\"day's_available_flashcards\", \n",
    "            'start_practice', 'end_practice','days_offset']"
   ]
  },
  {
   "cell_type": "code",
   "execution_count": 4,
   "metadata": {
    "execution": {
     "iopub.execute_input": "2021-08-08T16:59:47.708980Z",
     "iopub.status.busy": "2021-08-08T16:59:47.707640Z",
     "iopub.status.idle": "2021-08-08T16:59:47.812277Z",
     "shell.execute_reply": "2021-08-08T16:59:47.811812Z",
     "shell.execute_reply.started": "2021-08-07T08:39:35.819872Z"
    },
    "papermill": {
     "duration": 0.138233,
     "end_time": "2021-08-08T16:59:47.812406",
     "exception": false,
     "start_time": "2021-08-08T16:59:47.674173",
     "status": "completed"
    },
    "tags": []
   },
   "outputs": [],
   "source": [
    "#use only the columns that are in FEATURES\n",
    "data = data[FEATURES]"
   ]
  },
  {
   "cell_type": "code",
   "execution_count": 5,
   "metadata": {
    "execution": {
     "iopub.execute_input": "2021-08-08T16:59:47.870968Z",
     "iopub.status.busy": "2021-08-08T16:59:47.870242Z",
     "iopub.status.idle": "2021-08-08T16:59:47.943603Z",
     "shell.execute_reply": "2021-08-08T16:59:47.943135Z",
     "shell.execute_reply.started": "2021-08-07T08:39:35.942231Z"
    },
    "papermill": {
     "duration": 0.108705,
     "end_time": "2021-08-08T16:59:47.943729",
     "exception": false,
     "start_time": "2021-08-08T16:59:47.835024",
     "status": "completed"
    },
    "tags": []
   },
   "outputs": [],
   "source": [
    "data['term'] = data['term'].astype('category')"
   ]
  },
  {
   "cell_type": "code",
   "execution_count": 6,
   "metadata": {
    "execution": {
     "iopub.execute_input": "2021-08-08T16:59:48.085554Z",
     "iopub.status.busy": "2021-08-08T16:59:48.084744Z",
     "iopub.status.idle": "2021-08-08T16:59:48.088578Z",
     "shell.execute_reply": "2021-08-08T16:59:48.088973Z",
     "shell.execute_reply.started": "2021-08-07T08:39:36.031894Z"
    },
    "papermill": {
     "duration": 0.122491,
     "end_time": "2021-08-08T16:59:48.089136",
     "exception": false,
     "start_time": "2021-08-08T16:59:47.966645",
     "status": "completed"
    },
    "tags": []
   },
   "outputs": [
    {
     "data": {
      "text/plain": [
       "60"
      ]
     },
     "execution_count": 6,
     "metadata": {},
     "output_type": "execute_result"
    }
   ],
   "source": [
    "gc.collect()"
   ]
  },
  {
   "cell_type": "code",
   "execution_count": 7,
   "metadata": {
    "execution": {
     "iopub.execute_input": "2021-08-08T16:59:48.213301Z",
     "iopub.status.busy": "2021-08-08T16:59:48.212110Z",
     "iopub.status.idle": "2021-08-08T16:59:48.427959Z",
     "shell.execute_reply": "2021-08-08T16:59:48.427473Z",
     "shell.execute_reply.started": "2021-08-07T08:39:36.133483Z"
    },
    "papermill": {
     "duration": 0.315967,
     "end_time": "2021-08-08T16:59:48.428102",
     "exception": false,
     "start_time": "2021-08-08T16:59:48.112135",
     "status": "completed"
    },
    "tags": []
   },
   "outputs": [],
   "source": [
    "#one hot encode COVID_Graded feature\n",
    "data['COVID_Graded'] = np.where(data['gradingType']=='COVID Graded', 1, 0)\n",
    "data.drop(columns=['gradingType'], inplace=True)"
   ]
  },
  {
   "cell_type": "code",
   "execution_count": 8,
   "metadata": {
    "execution": {
     "iopub.execute_input": "2021-08-08T16:59:48.479870Z",
     "iopub.status.busy": "2021-08-08T16:59:48.479023Z",
     "iopub.status.idle": "2021-08-08T16:59:48.887213Z",
     "shell.execute_reply": "2021-08-08T16:59:48.886323Z",
     "shell.execute_reply.started": "2021-08-07T08:39:36.438237Z"
    },
    "papermill": {
     "duration": 0.436504,
     "end_time": "2021-08-08T16:59:48.887349",
     "exception": false,
     "start_time": "2021-08-08T16:59:48.450845",
     "status": "completed"
    },
    "tags": []
   },
   "outputs": [],
   "source": [
    "#create age column where the age of the user would be included\n",
    "data['term_value'] = [int(ele[3:]) for ele in data['term']]\n",
    "data['age'] = data['term_value'] - data['birthYear']"
   ]
  },
  {
   "cell_type": "code",
   "execution_count": 9,
   "metadata": {
    "execution": {
     "iopub.execute_input": "2021-08-08T16:59:48.939669Z",
     "iopub.status.busy": "2021-08-08T16:59:48.938500Z",
     "iopub.status.idle": "2021-08-08T16:59:49.151843Z",
     "shell.execute_reply": "2021-08-08T16:59:49.151383Z",
     "shell.execute_reply.started": "2021-08-07T08:39:36.868247Z"
    },
    "papermill": {
     "duration": 0.241003,
     "end_time": "2021-08-08T16:59:49.151968",
     "exception": false,
     "start_time": "2021-08-08T16:59:48.910965",
     "status": "completed"
    },
    "tags": []
   },
   "outputs": [],
   "source": [
    "data.drop(columns=['term_value', 'birthYear'], inplace=True)"
   ]
  },
  {
   "cell_type": "code",
   "execution_count": 10,
   "metadata": {
    "execution": {
     "iopub.execute_input": "2021-08-08T16:59:49.394447Z",
     "iopub.status.busy": "2021-08-08T16:59:49.393760Z",
     "iopub.status.idle": "2021-08-08T17:00:25.317352Z",
     "shell.execute_reply": "2021-08-08T17:00:25.321488Z",
     "shell.execute_reply.started": "2021-08-07T08:39:37.090344Z"
    },
    "papermill": {
     "duration": 36.146481,
     "end_time": "2021-08-08T17:00:25.321706",
     "exception": false,
     "start_time": "2021-08-08T16:59:49.175225",
     "status": "completed"
    },
    "tags": []
   },
   "outputs": [],
   "source": [
    "#convert start_practice and end_practice to datatime column\n",
    "data.start_practice = pd.to_datetime(data.start_practice, format='%Y-%m-%d %H:%M:%S')\n",
    "data.end_practice = pd.to_datetime(data.end_practice, format='%Y-%m-%d %H:%M:%S')\n",
    "#label encode term, chapter_label, question_name, sub_chapter_label columns\n",
    "data['chapter_id'] = data['chapter_label'].replace(data['chapter_label'].unique(), list(range(data['chapter_label'].nunique()))) + 1\n",
    "data['sub_chapter_id'] = data['sub_chapter_label'].replace(data['sub_chapter_label'].unique(), list(range(data['sub_chapter_label'].nunique()))) + 1\n",
    "data['question_id'] = data['question_name'].replace(data['question_name'].unique(), list(range(data['question_name'].nunique()))) + 1"
   ]
  },
  {
   "cell_type": "code",
   "execution_count": 11,
   "metadata": {
    "execution": {
     "iopub.execute_input": "2021-08-08T17:00:25.431134Z",
     "iopub.status.busy": "2021-08-08T17:00:25.430003Z",
     "iopub.status.idle": "2021-08-08T17:00:25.447754Z",
     "shell.execute_reply": "2021-08-08T17:00:25.448280Z",
     "shell.execute_reply.started": "2021-08-07T08:40:13.778029Z"
    },
    "papermill": {
     "duration": 0.079104,
     "end_time": "2021-08-08T17:00:25.448437",
     "exception": false,
     "start_time": "2021-08-08T17:00:25.369333",
     "status": "completed"
    },
    "tags": []
   },
   "outputs": [],
   "source": [
    "data['dif'] = data.end_practice - data.start_practice\n",
    "data['dif'] = data['dif'] /np.timedelta64(1, 's')\n",
    "data['q'] = np.where((data['q']==5) & (data['dif'] <= 60), 1, 0)"
   ]
  },
  {
   "cell_type": "code",
   "execution_count": 12,
   "metadata": {
    "execution": {
     "iopub.execute_input": "2021-08-08T17:00:25.543391Z",
     "iopub.status.busy": "2021-08-08T17:00:25.534866Z",
     "iopub.status.idle": "2021-08-08T17:00:25.775072Z",
     "shell.execute_reply": "2021-08-08T17:00:25.774326Z",
     "shell.execute_reply.started": "2021-08-07T08:40:13.804382Z"
    },
    "papermill": {
     "duration": 0.286704,
     "end_time": "2021-08-08T17:00:25.775258",
     "exception": false,
     "start_time": "2021-08-08T17:00:25.488554",
     "status": "completed"
    },
    "tags": []
   },
   "outputs": [],
   "source": [
    "#drop chapter_label, sub_chapter_label, question_name\n",
    "data.drop(columns = ['chapter_label', 'sub_chapter_label', 'question_name'], inplace=True)"
   ]
  },
  {
   "cell_type": "code",
   "execution_count": 13,
   "metadata": {
    "execution": {
     "iopub.execute_input": "2021-08-08T17:00:25.898435Z",
     "iopub.status.busy": "2021-08-08T17:00:25.888204Z",
     "iopub.status.idle": "2021-08-08T17:00:26.353838Z",
     "shell.execute_reply": "2021-08-08T17:00:26.354372Z",
     "shell.execute_reply.started": "2021-08-07T08:40:14.046518Z"
    },
    "papermill": {
     "duration": 0.538175,
     "end_time": "2021-08-08T17:00:26.354555",
     "exception": false,
     "start_time": "2021-08-08T17:00:25.816380",
     "status": "completed"
    },
    "tags": []
   },
   "outputs": [],
   "source": [
    "#transform minor_count column\n",
    "new_minors_count = []\n",
    "for i in data['minorsCount']:\n",
    "  if i == 0 or i == '0':\n",
    "    new_minors_count.append(0)\n",
    "  elif i == '1 Minor':\n",
    "    new_minors_count.append(1)\n",
    "  else:\n",
    "    new_minors_count.append(2)\n",
    "\n",
    "data['minorsCount'] = new_minors_count"
   ]
  },
  {
   "cell_type": "code",
   "execution_count": 14,
   "metadata": {
    "execution": {
     "iopub.execute_input": "2021-08-08T17:00:26.412905Z",
     "iopub.status.busy": "2021-08-08T17:00:26.412045Z",
     "iopub.status.idle": "2021-08-08T17:00:26.869906Z",
     "shell.execute_reply": "2021-08-08T17:00:26.869431Z",
     "shell.execute_reply.started": "2021-08-07T08:40:14.80037Z"
    },
    "papermill": {
     "duration": 0.488236,
     "end_time": "2021-08-08T17:00:26.870057",
     "exception": false,
     "start_time": "2021-08-08T17:00:26.381821",
     "status": "completed"
    },
    "tags": []
   },
   "outputs": [],
   "source": [
    "data['term']#sort data based on timestamp\n",
    "data = data.sort_values(['start_practice'], ascending=True).reset_index(drop=True)"
   ]
  },
  {
   "cell_type": "code",
   "execution_count": 15,
   "metadata": {
    "execution": {
     "iopub.execute_input": "2021-08-08T17:00:26.928932Z",
     "iopub.status.busy": "2021-08-08T17:00:26.927395Z",
     "iopub.status.idle": "2021-08-08T17:01:28.978620Z",
     "shell.execute_reply": "2021-08-08T17:01:28.977573Z",
     "shell.execute_reply.started": "2021-08-07T08:40:15.300294Z"
    },
    "papermill": {
     "duration": 62.08359,
     "end_time": "2021-08-08T17:01:28.978791",
     "exception": false,
     "start_time": "2021-08-08T17:00:26.895201",
     "status": "completed"
    },
    "tags": []
   },
   "outputs": [],
   "source": [
    "#convert user_id column to the int type user_id column\n",
    "data['user_id.x'] = data['term'].astype(str) + data['user_id.x'].astype(str)\n",
    "data['user_id.x'] = data['user_id.x'].replace(data['user_id.x'].unique(), list(range(data['user_id.x'].nunique())))"
   ]
  },
  {
   "cell_type": "code",
   "execution_count": 16,
   "metadata": {
    "execution": {
     "iopub.execute_input": "2021-08-08T17:01:29.032479Z",
     "iopub.status.busy": "2021-08-08T17:01:29.031680Z",
     "iopub.status.idle": "2021-08-08T17:01:29.034184Z",
     "shell.execute_reply": "2021-08-08T17:01:29.033739Z",
     "shell.execute_reply.started": "2021-08-07T08:41:17.376395Z"
    },
    "papermill": {
     "duration": 0.030837,
     "end_time": "2021-08-08T17:01:29.034292",
     "exception": false,
     "start_time": "2021-08-08T17:01:29.003455",
     "status": "completed"
    },
    "tags": []
   },
   "outputs": [],
   "source": [
    "data['term'] =  data['term'].cat.codes"
   ]
  },
  {
   "cell_type": "code",
   "execution_count": 17,
   "metadata": {
    "execution": {
     "iopub.execute_input": "2021-08-08T17:01:29.089569Z",
     "iopub.status.busy": "2021-08-08T17:01:29.088592Z",
     "iopub.status.idle": "2021-08-08T17:01:29.134532Z",
     "shell.execute_reply": "2021-08-08T17:01:29.134106Z",
     "shell.execute_reply.started": "2021-08-07T08:41:17.385035Z"
    },
    "papermill": {
     "duration": 0.077359,
     "end_time": "2021-08-08T17:01:29.134644",
     "exception": false,
     "start_time": "2021-08-08T17:01:29.057285",
     "status": "completed"
    },
    "tags": []
   },
   "outputs": [],
   "source": [
    "data['prev_time_elapsed'] = None\n",
    "data['time_lag'] = None\n",
    "data['time_lag'] = data['time_lag'].astype(np.float)\n",
    "data['prev_time_elapsed'] = data['prev_time_elapsed'].astype(np.float)"
   ]
  },
  {
   "cell_type": "code",
   "execution_count": 18,
   "metadata": {
    "execution": {
     "iopub.execute_input": "2021-08-08T17:01:29.193363Z",
     "iopub.status.busy": "2021-08-08T17:01:29.192743Z",
     "iopub.status.idle": "2021-08-08T17:07:09.433871Z",
     "shell.execute_reply": "2021-08-08T17:07:09.433379Z",
     "shell.execute_reply.started": "2021-08-07T08:43:25.998657Z"
    },
    "papermill": {
     "duration": 340.276632,
     "end_time": "2021-08-08T17:07:09.434046",
     "exception": false,
     "start_time": "2021-08-08T17:01:29.157414",
     "status": "completed"
    },
    "tags": []
   },
   "outputs": [
    {
     "name": "stderr",
     "output_type": "stream",
     "text": [
      "100%|██████████| 1110/1110 [05:40<00:00,  3.26it/s]\n"
     ]
    }
   ],
   "source": [
    "unique_chapts = data['chapter_id'].unique()\n",
    "from tqdm import tqdm\n",
    "cnt = 0\n",
    "for user in tqdm(data['user_id.x'].unique()):\n",
    "        for chapter in unique_chapts:\n",
    "            tmp_user = data[(data['user_id.x']==user) & (data['chapter_id']==chapter)]\n",
    "            #if user doesn't answer any question from the chapter\n",
    "            if len(tmp_user) < 1:\n",
    "                continue\n",
    "            #calculate average elapsed time before the current question\n",
    "            #from its corresponding chapter\n",
    "            tmp_time_elapsed = tmp_user.end_practice - tmp_user.start_practice\n",
    "            tmp_time_elapsed = tmp_time_elapsed / np.timedelta64(1, 's')\n",
    "            tmp_time_elapsed = np.insert(np.array(tmp_time_elapsed[:-1]), 0, 0., axis=0)\n",
    "            tmp_time_elapsed = np.cumsum(tmp_time_elapsed)\n",
    "            indices = tmp_user.index\n",
    "            start_row = indices[0]\n",
    "            data['time_lag'].iloc[start_row] = 0\n",
    "            for_mean = np.arange(len(tmp_user))\n",
    "            for_mean[0] = 1\n",
    "            time_substrahend = tmp_user.start_practice.iloc[:-1]\n",
    "            time_substrahend = time_substrahend.apply(lambda a: a.timestamp())\n",
    "            time_substrahend = np.array(time_substrahend)\n",
    "            \n",
    "            time_minuend = tmp_user.start_practice.iloc[1:]\n",
    "            time_minuend = time_minuend.apply(lambda a: a.timestamp())\n",
    "            time_minuend = np.array(time_minuend)\n",
    "\n",
    "            data['prev_time_elapsed'].iloc[indices] = tmp_time_elapsed/for_mean\n",
    "            #calculate difference between current and last interaction\n",
    "            #from the same chapter\n",
    "            data['time_lag'].iloc[indices[1:]] = time_minuend - time_substrahend"
   ]
  },
  {
   "cell_type": "code",
   "execution_count": 19,
   "metadata": {
    "execution": {
     "iopub.execute_input": "2021-08-08T17:07:10.157500Z",
     "iopub.status.busy": "2021-08-08T17:07:10.149209Z",
     "iopub.status.idle": "2021-08-08T17:07:10.494706Z",
     "shell.execute_reply": "2021-08-08T17:07:10.495238Z",
     "shell.execute_reply.started": "2021-08-07T08:49:04.932172Z"
    },
    "papermill": {
     "duration": 0.723944,
     "end_time": "2021-08-08T17:07:10.495410",
     "exception": false,
     "start_time": "2021-08-08T17:07:09.771466",
     "status": "completed"
    },
    "tags": []
   },
   "outputs": [
    {
     "data": {
      "text/plain": [
       "46"
      ]
     },
     "execution_count": 19,
     "metadata": {},
     "output_type": "execute_result"
    }
   ],
   "source": [
    "#now we can drop end practice\n",
    "data.drop(columns=['end_practice'], inplace=True)\n",
    "# data = data.sort_values(['start_practice'], ascending=True).reset_index(drop=True)\n",
    "#replace column q with anwered_correctly\n",
    "data['answered_correctly'] = data['q']\n",
    "data.drop(columns='q', inplace=True)\n",
    "gc.collect()"
   ]
  },
  {
   "cell_type": "code",
   "execution_count": 20,
   "metadata": {
    "execution": {
     "iopub.execute_input": "2021-08-08T17:07:11.202597Z",
     "iopub.status.busy": "2021-08-08T17:07:11.201661Z",
     "iopub.status.idle": "2021-08-08T17:07:11.205448Z",
     "shell.execute_reply": "2021-08-08T17:07:11.205032Z",
     "shell.execute_reply.started": "2021-08-07T08:49:07.233604Z"
    },
    "papermill": {
     "duration": 0.404434,
     "end_time": "2021-08-08T17:07:11.205565",
     "exception": false,
     "start_time": "2021-08-08T17:07:10.801131",
     "status": "completed"
    },
    "tags": []
   },
   "outputs": [
    {
     "data": {
      "text/plain": [
       "20"
      ]
     },
     "execution_count": 20,
     "metadata": {},
     "output_type": "execute_result"
    }
   ],
   "source": [
    "gc.collect()"
   ]
  },
  {
   "cell_type": "code",
   "execution_count": 21,
   "metadata": {
    "execution": {
     "iopub.execute_input": "2021-08-08T17:07:11.821454Z",
     "iopub.status.busy": "2021-08-08T17:07:11.820050Z",
     "iopub.status.idle": "2021-08-08T17:07:11.967807Z",
     "shell.execute_reply": "2021-08-08T17:07:11.967299Z",
     "shell.execute_reply.started": "2021-08-07T08:49:08.355497Z"
    },
    "papermill": {
     "duration": 0.455009,
     "end_time": "2021-08-08T17:07:11.967922",
     "exception": false,
     "start_time": "2021-08-08T17:07:11.512913",
     "status": "completed"
    },
    "tags": []
   },
   "outputs": [],
   "source": [
    "data.fillna(0, inplace=True)"
   ]
  },
  {
   "cell_type": "code",
   "execution_count": 22,
   "metadata": {
    "execution": {
     "iopub.execute_input": "2021-08-08T17:07:12.847169Z",
     "iopub.status.busy": "2021-08-08T17:07:12.846360Z",
     "iopub.status.idle": "2021-08-08T17:07:12.860770Z",
     "shell.execute_reply": "2021-08-08T17:07:12.861815Z",
     "shell.execute_reply.started": "2021-08-07T08:49:10.245694Z"
    },
    "papermill": {
     "duration": 0.547575,
     "end_time": "2021-08-08T17:07:12.862020",
     "exception": false,
     "start_time": "2021-08-08T17:07:12.314445",
     "status": "completed"
    },
    "tags": []
   },
   "outputs": [],
   "source": [
    "#set maximum sequence length to 400\n",
    "#n_part to the number of unique sub_chapter_id\n",
    "#dimension of the embedding is 128\n",
    "#number of encoder and decoders are 2\n",
    "#and the dropout is set to 0.2\n",
    "n_skill = data['question_id'].nunique() + 1"
   ]
  },
  {
   "cell_type": "code",
   "execution_count": 23,
   "metadata": {
    "execution": {
     "iopub.execute_input": "2021-08-08T17:07:13.547422Z",
     "iopub.status.busy": "2021-08-08T17:07:13.545753Z",
     "iopub.status.idle": "2021-08-08T17:07:13.548218Z",
     "shell.execute_reply": "2021-08-08T17:07:13.548650Z"
    },
    "papermill": {
     "duration": 0.357101,
     "end_time": "2021-08-08T17:07:13.548787",
     "exception": false,
     "start_time": "2021-08-08T17:07:13.191686",
     "status": "completed"
    },
    "tags": []
   },
   "outputs": [],
   "source": [
    "#create dataset class\n",
    "#to prepare it for train and valid sets\n",
    "class PRACTICE_DATASET(Dataset):\n",
    "    def __init__(self, data, maxlength=400, test=False, n_skill=n_skill):\n",
    "        super(PRACTICE_DATASET, self).__init__()\n",
    "        self.maxlength = maxlength\n",
    "        self.data = data\n",
    "        self.test = test\n",
    "        self.users = list()\n",
    "        self.n_skill = n_skill\n",
    "        for user in data.index:\n",
    "            self.users.append(user)\n",
    "            \n",
    "    def __len__(self):\n",
    "        return len(self.users)\n",
    "    \n",
    "    def __getitem__(self, ix):\n",
    "        user = self.users[ix]\n",
    "        question_id, chapter, schapter, term, user_feats, labels = self.data[user]\n",
    "        question_id = np.array(question_id, np.int16)\n",
    "        chapter = np.array(chapter, np.int16)\n",
    "        schapter = np.array(schapter, np.int16)\n",
    "        user_feats = np.array(user_feats, np.float)\n",
    "        labels = np.array(labels, np.int8)\n",
    "        \n",
    "        q = np.zeros(self.maxlength, dtype=int)\n",
    "        qa = np.zeros(self.maxlength, dtype=int)\n",
    "        \n",
    "        term = term.values\n",
    "        term_encode = [0]*7\n",
    "        term_encode[term[0]] = 1\n",
    "        n = len(question_id)\n",
    "#         print(user_feats.shape)\n",
    "        #if more the user interactions are more than self.maxlength (400)\n",
    "        #only the last self.maxlength interactions will be included\n",
    "        #if the number of user interactions would be less than self.maxlength\n",
    "        #the padding would be utilized        \n",
    "        if n > self.maxlength:\n",
    "            question_id = question_id[-self.maxlength : ]\n",
    "            chapter = chapter[-self.maxlength :]\n",
    "            schapter = schapter[-self.maxlength: ]\n",
    "            user_feats = user_feats[-self.maxlength :, :]\n",
    "            labels = labels[-self.maxlength: ]\n",
    "            responses = np.append(2, labels[:-1])\n",
    "            q[-self.maxlength:] = question_id\n",
    "            qa[-self.maxlength:] = labels\n",
    "        else:\n",
    "            q[-n:] = question_id\n",
    "            qa[-n:] = labels\n",
    "            question_id = np.pad(question_id, (self.maxlength - n, 0))\n",
    "            chapter = np.pad(chapter, (self.maxlength - n, 0))\n",
    "            schapter = np.pad(schapter, (self.maxlength - n, 0))\n",
    "            user_feats = np.pad(user_feats, pad_width=((0, self.maxlength - n), (0, 0)))\n",
    "            user_feats = np.array(user_feats, np.float)\n",
    "            responses = np.append(2, labels[:-1])\n",
    "            labels = np.pad(labels, (self.maxlength - n, 0))\n",
    "            responses = np.pad(responses, (self.maxlength - n, 0), mode='constant', constant_values = 2)\n",
    "            \n",
    "#         print(np.array(term).shape)\n",
    "#         term = [term] * self.maxlength\n",
    "#         print(np.array(term).shape)\n",
    "#         user_feats = np.hstack([user_feats, term])\n",
    "\n",
    "        target_id = q[1:]\n",
    "        label = qa[1:]\n",
    "        \n",
    "        new_features = []\n",
    "        count = 0\n",
    "        for f in user_feats:\n",
    "          temp = list(f)\n",
    "          temp.extend(term_encode)\n",
    "          new_features.append(temp)\n",
    "          count += 1\n",
    "        user_feats = new_features\n",
    "        x = np.zeros(self.maxlength-1, dtype=int)\n",
    "        x = q[:-1].copy()\n",
    "        x += (qa[:-1] == 1) * self.n_skill\n",
    "    \n",
    "        return x, target_id, chapter[1:], schapter[1:], responses[1:], np.array(user_feats[1:]), labels[1:] \n"
   ]
  },
  {
   "cell_type": "code",
   "execution_count": 24,
   "metadata": {
    "execution": {
     "iopub.execute_input": "2021-08-08T17:07:14.165094Z",
     "iopub.status.busy": "2021-08-08T17:07:14.164262Z",
     "iopub.status.idle": "2021-08-08T17:07:14.490559Z",
     "shell.execute_reply": "2021-08-08T17:07:14.490052Z",
     "shell.execute_reply.started": "2021-08-07T08:49:43.684001Z"
    },
    "papermill": {
     "duration": 0.637274,
     "end_time": "2021-08-08T17:07:14.490695",
     "exception": false,
     "start_time": "2021-08-08T17:07:13.853421",
     "status": "completed"
    },
    "tags": []
   },
   "outputs": [],
   "source": [
    "#normalize numeric features\n",
    "NUMERIC_FEATURE =  ['age',\n",
    "            'exclClassCumGPA',\n",
    "            'termCreditsGPA',\n",
    "            'termCreditsNoGPA',\n",
    "            'highSchoolGPA', \n",
    "            'majorsCount', 'minorsCount',\n",
    "            'PREV_TERM_CUM_GPA',\n",
    "            \"day's_available_flashcards\", \n",
    "            'days_offset', \n",
    "            'prev_time_elapsed',\n",
    "             'time_lag']\n",
    " \n",
    "for f in NUMERIC_FEATURE:\n",
    "  m = data[f].mean()\n",
    "  std = data[f].std()\n",
    "  data[f] = (data[f] - m)/std"
   ]
  },
  {
   "cell_type": "code",
   "execution_count": 25,
   "metadata": {
    "execution": {
     "iopub.execute_input": "2021-08-08T17:07:15.109668Z",
     "iopub.status.busy": "2021-08-08T17:07:15.108833Z",
     "iopub.status.idle": "2021-08-08T17:07:17.862675Z",
     "shell.execute_reply": "2021-08-08T17:07:17.862190Z",
     "shell.execute_reply.started": "2021-08-07T08:49:46.900866Z"
    },
    "papermill": {
     "duration": 3.067404,
     "end_time": "2021-08-08T17:07:17.862795",
     "exception": false,
     "start_time": "2021-08-08T17:07:14.795391",
     "status": "completed"
    },
    "tags": []
   },
   "outputs": [],
   "source": [
    "#group data based on user id\n",
    "group = data.groupby(['user_id.x']).apply(lambda r: (\n",
    "                r['question_id'],\n",
    "                r['chapter_id'],\n",
    "                r['sub_chapter_id'],\n",
    "                r['term'],\n",
    "                np.array([\n",
    "                    r['STDNT_SEX_CD'],r['STDNT_CTZN_STAT_CD'], r['international'], \n",
    "                  r['White'],r['Asian'],r['NonWhiteOrAsian'], r['age'],r['exclClassCumGPA'],\n",
    "                r['Freshman'], r['Junior'], r['Sophomore'], r['Senior'],\n",
    "                r['termCreditsGPA'], r['termCreditsNoGPA'],\n",
    "                r['athlete_1'], r['honorsPro'],\n",
    "                r['LSA'], r['programBusiness'], r['programEngineering'], \n",
    "                r['programInformation'], r['programOther'],\n",
    "                r['HSCalculusTaken'],  r['highSchoolGPA'], \n",
    "                r['majorsCount'], r['minorsCount'],\n",
    "                r['PREV_TERM_CUM_GPA'], \n",
    "                r['parentsGraduateEdu'], r['minorityGroup'],\n",
    "                r[\"day's_available_flashcards\"],\n",
    "                r['days_offset'],\n",
    "                r['prev_time_elapsed'],\n",
    "                r['time_lag']\n",
    "              ]).transpose(),\n",
    "                r['answered_correctly'],\n",
    "                ))"
   ]
  },
  {
   "cell_type": "code",
   "execution_count": 26,
   "metadata": {
    "execution": {
     "iopub.execute_input": "2021-08-08T17:07:18.487612Z",
     "iopub.status.busy": "2021-08-08T17:07:18.486882Z",
     "iopub.status.idle": "2021-08-08T17:07:18.490447Z",
     "shell.execute_reply": "2021-08-08T17:07:18.489952Z",
     "shell.execute_reply.started": "2021-08-07T08:49:49.001712Z"
    },
    "papermill": {
     "duration": 0.322619,
     "end_time": "2021-08-08T17:07:18.490621",
     "exception": false,
     "start_time": "2021-08-08T17:07:18.168002",
     "status": "completed"
    },
    "tags": []
   },
   "outputs": [],
   "source": [
    "# remove students who don't have make any interactions with the tool\n",
    "toRemove = []\n",
    "for index in group.index:\n",
    "  if len(group[index][0]) <= 10:\n",
    "    toRemove.append(index)\n",
    "group = group.drop(index=toRemove)"
   ]
  },
  {
   "cell_type": "code",
   "execution_count": 27,
   "metadata": {
    "execution": {
     "iopub.execute_input": "2021-08-08T17:07:19.184302Z",
     "iopub.status.busy": "2021-08-08T17:07:19.183189Z",
     "iopub.status.idle": "2021-08-08T17:07:19.194022Z",
     "shell.execute_reply": "2021-08-08T17:07:19.193531Z",
     "shell.execute_reply.started": "2021-08-07T08:49:50.419183Z"
    },
    "papermill": {
     "duration": 0.378678,
     "end_time": "2021-08-08T17:07:19.194141",
     "exception": false,
     "start_time": "2021-08-08T17:07:18.815463",
     "status": "completed"
    },
    "tags": []
   },
   "outputs": [],
   "source": [
    "n_part = data['sub_chapter_id'].nunique() + 1"
   ]
  },
  {
   "cell_type": "code",
   "execution_count": 28,
   "metadata": {
    "execution": {
     "iopub.execute_input": "2021-08-08T17:07:19.871641Z",
     "iopub.status.busy": "2021-08-08T17:07:19.870585Z",
     "iopub.status.idle": "2021-08-08T17:07:19.872765Z",
     "shell.execute_reply": "2021-08-08T17:07:19.873431Z",
     "shell.execute_reply.started": "2021-08-07T08:49:52.421779Z"
    },
    "papermill": {
     "duration": 0.352885,
     "end_time": "2021-08-08T17:07:19.873565",
     "exception": false,
     "start_time": "2021-08-08T17:07:19.520680",
     "status": "completed"
    },
    "tags": []
   },
   "outputs": [],
   "source": [
    "#feed forward network\n",
    "class FFN(nn.Module):\n",
    "    def __init__(self, state_size=200):\n",
    "        super(FFN, self).__init__()\n",
    "        self.state_size = state_size\n",
    "\n",
    "        self.lr1 = nn.Linear(state_size, state_size)\n",
    "        self.relu = nn.ReLU()\n",
    "        self.lr2 = nn.Linear(state_size, state_size)\n",
    "        self.dropout = nn.Dropout(0.2)\n",
    "    \n",
    "    def forward(self, x):\n",
    "        x = self.lr1(x)\n",
    "        x = self.relu(x)\n",
    "        x = self.lr2(x)\n",
    "        return self.dropout(x)\n",
    "\n",
    "#define mask that would be used in multi head attention layer\n",
    "def future_mask(seq_length):\n",
    "    future_mask = np.triu(np.ones((seq_length, seq_length)), k=1).astype('bool')\n",
    "    return torch.from_numpy(future_mask)\n",
    "\n",
    "#define the SAKT model\n",
    "class SAKTModel(nn.Module):\n",
    "    def __init__(self, n_skill, max_seq=600, embed_dim=128, dropout_rate=0.2):\n",
    "        super(SAKTModel, self).__init__()\n",
    "        self.n_skill = n_skill\n",
    "        self.embed_dim = embed_dim\n",
    "        self.n_chapter= 39\n",
    "        self.n_sub_chapter = n_part\n",
    "        self.max_seq = max_seq\n",
    "        \n",
    "        self.embedding = nn.Embedding(2*n_skill+1, embed_dim)\n",
    "        self.pos_embedding = nn.Embedding(600+1, embed_dim)\n",
    "        self.e_embedding = nn.Embedding(n_skill+1, embed_dim) ##question categorical embedding\n",
    "        self.c_embedding = nn.Embedding(self.n_chapter+1, embed_dim) ## chapter categorical embedding\n",
    "        self.sc_embedding = nn.Embedding(self.n_sub_chapter, embed_dim) ## subchapter categorical embedding\n",
    "        self.res_embedding = nn.Embedding(2+1, embed_dim) ## response (answered_correctly) categorical embedding\n",
    "        self.feat_embedding = nn.Linear(39, embed_dim)##student features linear embedding\n",
    "        \n",
    "        self.multi_att = nn.MultiheadAttention(embed_dim=embed_dim, num_heads=8, dropout=dropout_rate)\n",
    "\n",
    "        self.dropout = nn.Dropout(dropout_rate)\n",
    "        self.layer_normal = nn.LayerNorm(embed_dim) \n",
    "\n",
    "        self.ffn = FFN(embed_dim)\n",
    "        self.pred = nn.Linear(embed_dim, 1)\n",
    "    \n",
    "    def forward(self, x, question_ids, chapter, schapter,response, user_features):\n",
    "        device = x.device        \n",
    "        x = self.embedding(x)\n",
    "        pos_id = torch.arange(x.size(1)).unsqueeze(0).to(device)\n",
    "    \n",
    "        pos_x = self.pos_embedding(pos_id)\n",
    "        x = x + pos_x\n",
    "        ## embedding layers\n",
    "        e = self.e_embedding(question_ids)\n",
    "        chapter = self.c_embedding(chapter)\n",
    "        schapter = self.sc_embedding(schapter)\n",
    "        res = self.res_embedding(response)\n",
    "        user_features = self.feat_embedding(user_features)\n",
    "        \n",
    "        x = x  + user_features + chapter + schapter + res\n",
    "        \n",
    "        x = x.permute(1, 0, 2) \n",
    "        e = e.permute(1, 0, 2)\n",
    "        att_mask = future_mask(x.size(0)).to(device)\n",
    "        att_output, att_weight = self.multi_att(e, x, x, attn_mask=att_mask)\n",
    "        att_output = self.layer_normal(att_output + e)\n",
    "        att_output = att_output.permute(1, 0, 2) \n",
    "\n",
    "        x = self.ffn(att_output)\n",
    "        x = self.layer_normal(x + att_output)\n",
    "        x = self.pred(x)\n",
    "\n",
    "        return x.squeeze(-1)"
   ]
  },
  {
   "cell_type": "code",
   "execution_count": 29,
   "metadata": {
    "execution": {
     "iopub.execute_input": "2021-08-08T17:07:20.491747Z",
     "iopub.status.busy": "2021-08-08T17:07:20.490762Z",
     "iopub.status.idle": "2021-08-08T17:07:20.493403Z",
     "shell.execute_reply": "2021-08-08T17:07:20.492846Z",
     "shell.execute_reply.started": "2021-08-07T08:49:54.026521Z"
    },
    "papermill": {
     "duration": 0.312371,
     "end_time": "2021-08-08T17:07:20.493520",
     "exception": false,
     "start_time": "2021-08-08T17:07:20.181149",
     "status": "completed"
    },
    "tags": []
   },
   "outputs": [],
   "source": [
    "#in case the validation loss would \n",
    "#not improve for $patienc$ consecutive \n",
    "#epochs the training would be terminated\n",
    "patience = 5"
   ]
  },
  {
   "cell_type": "code",
   "execution_count": 30,
   "metadata": {
    "execution": {
     "iopub.execute_input": "2021-08-08T17:07:21.140173Z",
     "iopub.status.busy": "2021-08-08T17:07:21.129673Z",
     "iopub.status.idle": "2021-08-08T17:22:03.443794Z",
     "shell.execute_reply": "2021-08-08T17:22:03.442562Z",
     "shell.execute_reply.started": "2021-08-07T08:49:55.229521Z"
    },
    "papermill": {
     "duration": 882.641075,
     "end_time": "2021-08-08T17:22:03.443972",
     "exception": false,
     "start_time": "2021-08-08T17:07:20.802897",
     "status": "completed"
    },
    "tags": []
   },
   "outputs": [
    {
     "name": "stderr",
     "output_type": "stream",
     "text": [
      "  0%|          | 0/14 [00:00<?, ?it/s]"
     ]
    },
    {
     "name": "stdout",
     "output_type": "stream",
     "text": [
      "----------------------------------------------------------------------------\n"
     ]
    },
    {
     "name": "stderr",
     "output_type": "stream",
     "text": [
      "loss - 0.5803: 100%|██████████| 14/14 [00:06<00:00,  2.19it/s]\n",
      "  0%|          | 0/2 [00:00<?, ?it/s]"
     ]
    },
    {
     "name": "stdout",
     "output_type": "stream",
     "text": [
      "epoch - 0 train_loss - 0.61 acc - 0.684 auc - 0.591\n"
     ]
    },
    {
     "name": "stderr",
     "output_type": "stream",
     "text": [
      "valid loss - 0.6140: 100%|██████████| 2/2 [00:00<00:00,  2.10it/s]\n",
      "  0%|          | 0/14 [00:00<?, ?it/s]"
     ]
    },
    {
     "name": "stdout",
     "output_type": "stream",
     "text": [
      "epoch - 0 val_loss - 0.60 val acc - 0.683 val auc - 0.677\n"
     ]
    },
    {
     "name": "stderr",
     "output_type": "stream",
     "text": [
      "loss - 0.5372: 100%|██████████| 14/14 [00:05<00:00,  2.46it/s]\n",
      "  0%|          | 0/2 [00:00<?, ?it/s]"
     ]
    },
    {
     "name": "stdout",
     "output_type": "stream",
     "text": [
      "epoch - 1 train_loss - 0.54 acc - 0.731 auc - 0.711\n"
     ]
    },
    {
     "name": "stderr",
     "output_type": "stream",
     "text": [
      "valid loss - 0.5776: 100%|██████████| 2/2 [00:01<00:00,  1.91it/s]\n",
      "  0%|          | 0/14 [00:00<?, ?it/s]"
     ]
    },
    {
     "name": "stdout",
     "output_type": "stream",
     "text": [
      "epoch - 1 val_loss - 0.57 val acc - 0.705 val auc - 0.726\n"
     ]
    },
    {
     "name": "stderr",
     "output_type": "stream",
     "text": [
      "loss - 0.5214: 100%|██████████| 14/14 [00:05<00:00,  2.66it/s]\n",
      "  0%|          | 0/2 [00:00<?, ?it/s]"
     ]
    },
    {
     "name": "stdout",
     "output_type": "stream",
     "text": [
      "epoch - 2 train_loss - 0.52 acc - 0.745 auc - 0.750\n"
     ]
    },
    {
     "name": "stderr",
     "output_type": "stream",
     "text": [
      "valid loss - 0.5738: 100%|██████████| 2/2 [00:00<00:00,  2.19it/s]\n",
      "  0%|          | 0/14 [00:00<?, ?it/s]"
     ]
    },
    {
     "name": "stdout",
     "output_type": "stream",
     "text": [
      "epoch - 2 val_loss - 0.56 val acc - 0.713 val auc - 0.749\n"
     ]
    },
    {
     "name": "stderr",
     "output_type": "stream",
     "text": [
      "loss - 0.5247: 100%|██████████| 14/14 [00:05<00:00,  2.40it/s]\n",
      "  0%|          | 0/2 [00:00<?, ?it/s]"
     ]
    },
    {
     "name": "stdout",
     "output_type": "stream",
     "text": [
      "epoch - 3 train_loss - 0.50 acc - 0.753 auc - 0.771\n"
     ]
    },
    {
     "name": "stderr",
     "output_type": "stream",
     "text": [
      "valid loss - 0.5515: 100%|██████████| 2/2 [00:00<00:00,  2.21it/s]\n",
      "  0%|          | 0/14 [00:00<?, ?it/s]"
     ]
    },
    {
     "name": "stdout",
     "output_type": "stream",
     "text": [
      "epoch - 3 val_loss - 0.54 val acc - 0.723 val auc - 0.764\n"
     ]
    },
    {
     "name": "stderr",
     "output_type": "stream",
     "text": [
      "loss - 0.4608: 100%|██████████| 14/14 [00:05<00:00,  2.67it/s]\n",
      "  0%|          | 0/2 [00:00<?, ?it/s]"
     ]
    },
    {
     "name": "stdout",
     "output_type": "stream",
     "text": [
      "epoch - 4 train_loss - 0.49 acc - 0.761 auc - 0.787\n"
     ]
    },
    {
     "name": "stderr",
     "output_type": "stream",
     "text": [
      "valid loss - 0.5404: 100%|██████████| 2/2 [00:00<00:00,  2.34it/s]\n",
      "  0%|          | 0/14 [00:00<?, ?it/s]"
     ]
    },
    {
     "name": "stdout",
     "output_type": "stream",
     "text": [
      "epoch - 4 val_loss - 0.53 val acc - 0.729 val auc - 0.778\n"
     ]
    },
    {
     "name": "stderr",
     "output_type": "stream",
     "text": [
      "loss - 0.4477: 100%|██████████| 14/14 [00:05<00:00,  2.60it/s]\n",
      "  0%|          | 0/2 [00:00<?, ?it/s]"
     ]
    },
    {
     "name": "stdout",
     "output_type": "stream",
     "text": [
      "epoch - 5 train_loss - 0.48 acc - 0.767 auc - 0.801\n"
     ]
    },
    {
     "name": "stderr",
     "output_type": "stream",
     "text": [
      "valid loss - 0.5186: 100%|██████████| 2/2 [00:00<00:00,  2.06it/s]\n",
      "  0%|          | 0/14 [00:00<?, ?it/s]"
     ]
    },
    {
     "name": "stdout",
     "output_type": "stream",
     "text": [
      "epoch - 5 val_loss - 0.52 val acc - 0.733 val auc - 0.788\n"
     ]
    },
    {
     "name": "stderr",
     "output_type": "stream",
     "text": [
      "loss - 0.4611: 100%|██████████| 14/14 [00:05<00:00,  2.60it/s]\n",
      "  0%|          | 0/2 [00:00<?, ?it/s]"
     ]
    },
    {
     "name": "stdout",
     "output_type": "stream",
     "text": [
      "epoch - 6 train_loss - 0.47 acc - 0.771 auc - 0.812\n"
     ]
    },
    {
     "name": "stderr",
     "output_type": "stream",
     "text": [
      "valid loss - 0.5035: 100%|██████████| 2/2 [00:00<00:00,  2.35it/s]\n",
      "  0%|          | 0/14 [00:00<?, ?it/s]"
     ]
    },
    {
     "name": "stdout",
     "output_type": "stream",
     "text": [
      "epoch - 6 val_loss - 0.51 val acc - 0.737 val auc - 0.795\n"
     ]
    },
    {
     "name": "stderr",
     "output_type": "stream",
     "text": [
      "loss - 0.4384: 100%|██████████| 14/14 [00:05<00:00,  2.79it/s]\n",
      "  0%|          | 0/2 [00:00<?, ?it/s]"
     ]
    },
    {
     "name": "stdout",
     "output_type": "stream",
     "text": [
      "epoch - 7 train_loss - 0.46 acc - 0.775 auc - 0.820\n"
     ]
    },
    {
     "name": "stderr",
     "output_type": "stream",
     "text": [
      "valid loss - 0.4935: 100%|██████████| 2/2 [00:00<00:00,  2.35it/s]\n",
      "  0%|          | 0/14 [00:00<?, ?it/s]"
     ]
    },
    {
     "name": "stdout",
     "output_type": "stream",
     "text": [
      "epoch - 7 val_loss - 0.51 val acc - 0.739 val auc - 0.800\n"
     ]
    },
    {
     "name": "stderr",
     "output_type": "stream",
     "text": [
      "loss - 0.4688: 100%|██████████| 14/14 [00:05<00:00,  2.76it/s]\n",
      "  0%|          | 0/2 [00:00<?, ?it/s]"
     ]
    },
    {
     "name": "stdout",
     "output_type": "stream",
     "text": [
      "epoch - 8 train_loss - 0.45 acc - 0.778 auc - 0.826\n"
     ]
    },
    {
     "name": "stderr",
     "output_type": "stream",
     "text": [
      "valid loss - 0.5059: 100%|██████████| 2/2 [00:00<00:00,  2.36it/s]\n",
      "  0%|          | 0/14 [00:00<?, ?it/s]"
     ]
    },
    {
     "name": "stdout",
     "output_type": "stream",
     "text": [
      "epoch - 8 val_loss - 0.50 val acc - 0.741 val auc - 0.803\n"
     ]
    },
    {
     "name": "stderr",
     "output_type": "stream",
     "text": [
      "loss - 0.4544: 100%|██████████| 14/14 [00:05<00:00,  2.51it/s]\n",
      "  0%|          | 0/2 [00:00<?, ?it/s]"
     ]
    },
    {
     "name": "stdout",
     "output_type": "stream",
     "text": [
      "epoch - 9 train_loss - 0.45 acc - 0.780 auc - 0.831\n"
     ]
    },
    {
     "name": "stderr",
     "output_type": "stream",
     "text": [
      "valid loss - 0.5137: 100%|██████████| 2/2 [00:00<00:00,  2.35it/s]\n",
      "  0%|          | 0/14 [00:00<?, ?it/s]"
     ]
    },
    {
     "name": "stdout",
     "output_type": "stream",
     "text": [
      "epoch - 9 val_loss - 0.50 val acc - 0.741 val auc - 0.805\n"
     ]
    },
    {
     "name": "stderr",
     "output_type": "stream",
     "text": [
      "loss - 0.4511: 100%|██████████| 14/14 [00:05<00:00,  2.79it/s]\n",
      "  0%|          | 0/2 [00:00<?, ?it/s]"
     ]
    },
    {
     "name": "stdout",
     "output_type": "stream",
     "text": [
      "epoch - 10 train_loss - 0.44 acc - 0.781 auc - 0.834\n"
     ]
    },
    {
     "name": "stderr",
     "output_type": "stream",
     "text": [
      "valid loss - 0.5073: 100%|██████████| 2/2 [00:00<00:00,  2.03it/s]\n",
      "  0%|          | 0/14 [00:00<?, ?it/s]"
     ]
    },
    {
     "name": "stdout",
     "output_type": "stream",
     "text": [
      "epoch - 10 val_loss - 0.50 val acc - 0.743 val auc - 0.807\n"
     ]
    },
    {
     "name": "stderr",
     "output_type": "stream",
     "text": [
      "loss - 0.3987: 100%|██████████| 14/14 [00:05<00:00,  2.60it/s]\n",
      "  0%|          | 0/2 [00:00<?, ?it/s]"
     ]
    },
    {
     "name": "stdout",
     "output_type": "stream",
     "text": [
      "epoch - 11 train_loss - 0.44 acc - 0.783 auc - 0.837\n"
     ]
    },
    {
     "name": "stderr",
     "output_type": "stream",
     "text": [
      "valid loss - 0.5006: 100%|██████████| 2/2 [00:00<00:00,  2.13it/s]\n",
      "  0%|          | 0/14 [00:00<?, ?it/s]"
     ]
    },
    {
     "name": "stdout",
     "output_type": "stream",
     "text": [
      "epoch - 11 val_loss - 0.50 val acc - 0.743 val auc - 0.808\n"
     ]
    },
    {
     "name": "stderr",
     "output_type": "stream",
     "text": [
      "loss - 0.4080: 100%|██████████| 14/14 [00:06<00:00,  2.12it/s]\n",
      "  0%|          | 0/2 [00:00<?, ?it/s]"
     ]
    },
    {
     "name": "stdout",
     "output_type": "stream",
     "text": [
      "epoch - 12 train_loss - 0.44 acc - 0.784 auc - 0.840\n"
     ]
    },
    {
     "name": "stderr",
     "output_type": "stream",
     "text": [
      "valid loss - 0.4882: 100%|██████████| 2/2 [00:00<00:00,  2.20it/s]\n",
      "  0%|          | 0/14 [00:00<?, ?it/s]"
     ]
    },
    {
     "name": "stdout",
     "output_type": "stream",
     "text": [
      "epoch - 12 val_loss - 0.50 val acc - 0.744 val auc - 0.809\n"
     ]
    },
    {
     "name": "stderr",
     "output_type": "stream",
     "text": [
      "loss - 0.4284: 100%|██████████| 14/14 [00:05<00:00,  2.37it/s]\n",
      "  0%|          | 0/2 [00:00<?, ?it/s]"
     ]
    },
    {
     "name": "stdout",
     "output_type": "stream",
     "text": [
      "epoch - 13 train_loss - 0.43 acc - 0.785 auc - 0.843\n"
     ]
    },
    {
     "name": "stderr",
     "output_type": "stream",
     "text": [
      "valid loss - 0.4842: 100%|██████████| 2/2 [00:01<00:00,  1.91it/s]\n",
      "  0%|          | 0/14 [00:00<?, ?it/s]"
     ]
    },
    {
     "name": "stdout",
     "output_type": "stream",
     "text": [
      "epoch - 13 val_loss - 0.49 val acc - 0.744 val auc - 0.810\n"
     ]
    },
    {
     "name": "stderr",
     "output_type": "stream",
     "text": [
      "loss - 0.4280: 100%|██████████| 14/14 [00:04<00:00,  2.89it/s]\n",
      "  0%|          | 0/2 [00:00<?, ?it/s]"
     ]
    },
    {
     "name": "stdout",
     "output_type": "stream",
     "text": [
      "epoch - 14 train_loss - 0.43 acc - 0.787 auc - 0.845\n"
     ]
    },
    {
     "name": "stderr",
     "output_type": "stream",
     "text": [
      "valid loss - 0.4916: 100%|██████████| 2/2 [00:00<00:00,  2.31it/s]\n",
      "  0%|          | 0/14 [00:00<?, ?it/s]"
     ]
    },
    {
     "name": "stdout",
     "output_type": "stream",
     "text": [
      "epoch - 14 val_loss - 0.49 val acc - 0.745 val auc - 0.812\n"
     ]
    },
    {
     "name": "stderr",
     "output_type": "stream",
     "text": [
      "loss - 0.4265: 100%|██████████| 14/14 [00:05<00:00,  2.57it/s]\n",
      "  0%|          | 0/2 [00:00<?, ?it/s]"
     ]
    },
    {
     "name": "stdout",
     "output_type": "stream",
     "text": [
      "epoch - 15 train_loss - 0.43 acc - 0.787 auc - 0.847\n"
     ]
    },
    {
     "name": "stderr",
     "output_type": "stream",
     "text": [
      "valid loss - 0.4840: 100%|██████████| 2/2 [00:00<00:00,  2.30it/s]\n",
      "  0%|          | 0/14 [00:00<?, ?it/s]"
     ]
    },
    {
     "name": "stdout",
     "output_type": "stream",
     "text": [
      "epoch - 15 val_loss - 0.49 val acc - 0.745 val auc - 0.812\n"
     ]
    },
    {
     "name": "stderr",
     "output_type": "stream",
     "text": [
      "loss - 0.4216: 100%|██████████| 14/14 [00:05<00:00,  2.70it/s]\n",
      "  0%|          | 0/2 [00:00<?, ?it/s]"
     ]
    },
    {
     "name": "stdout",
     "output_type": "stream",
     "text": [
      "epoch - 16 train_loss - 0.43 acc - 0.788 auc - 0.849\n"
     ]
    },
    {
     "name": "stderr",
     "output_type": "stream",
     "text": [
      "valid loss - 0.4882: 100%|██████████| 2/2 [00:00<00:00,  2.36it/s]\n",
      "  0%|          | 0/14 [00:00<?, ?it/s]"
     ]
    },
    {
     "name": "stdout",
     "output_type": "stream",
     "text": [
      "epoch - 16 val_loss - 0.49 val acc - 0.746 val auc - 0.814\n"
     ]
    },
    {
     "name": "stderr",
     "output_type": "stream",
     "text": [
      "loss - 0.4450: 100%|██████████| 14/14 [00:05<00:00,  2.49it/s]\n",
      "  0%|          | 0/2 [00:00<?, ?it/s]"
     ]
    },
    {
     "name": "stdout",
     "output_type": "stream",
     "text": [
      "epoch - 17 train_loss - 0.43 acc - 0.790 auc - 0.851\n"
     ]
    },
    {
     "name": "stderr",
     "output_type": "stream",
     "text": [
      "valid loss - 0.4837: 100%|██████████| 2/2 [00:00<00:00,  2.35it/s]\n",
      "  0%|          | 0/14 [00:00<?, ?it/s]"
     ]
    },
    {
     "name": "stdout",
     "output_type": "stream",
     "text": [
      "epoch - 17 val_loss - 0.49 val acc - 0.746 val auc - 0.814\n"
     ]
    },
    {
     "name": "stderr",
     "output_type": "stream",
     "text": [
      "loss - 0.4334: 100%|██████████| 14/14 [00:05<00:00,  2.75it/s]\n",
      "  0%|          | 0/2 [00:00<?, ?it/s]"
     ]
    },
    {
     "name": "stdout",
     "output_type": "stream",
     "text": [
      "epoch - 18 train_loss - 0.42 acc - 0.791 auc - 0.852\n"
     ]
    },
    {
     "name": "stderr",
     "output_type": "stream",
     "text": [
      "valid loss - 0.4640: 100%|██████████| 2/2 [00:00<00:00,  2.05it/s]\n",
      "  0%|          | 0/14 [00:00<?, ?it/s]"
     ]
    },
    {
     "name": "stdout",
     "output_type": "stream",
     "text": [
      "epoch - 18 val_loss - 0.49 val acc - 0.747 val auc - 0.816\n"
     ]
    },
    {
     "name": "stderr",
     "output_type": "stream",
     "text": [
      "loss - 0.3799: 100%|██████████| 14/14 [00:05<00:00,  2.70it/s]\n",
      "  0%|          | 0/2 [00:00<?, ?it/s]"
     ]
    },
    {
     "name": "stdout",
     "output_type": "stream",
     "text": [
      "epoch - 19 train_loss - 0.42 acc - 0.792 auc - 0.854\n"
     ]
    },
    {
     "name": "stderr",
     "output_type": "stream",
     "text": [
      "valid loss - 0.4899: 100%|██████████| 2/2 [00:00<00:00,  2.20it/s]\n",
      "  0%|          | 0/14 [00:00<?, ?it/s]"
     ]
    },
    {
     "name": "stdout",
     "output_type": "stream",
     "text": [
      "epoch - 19 val_loss - 0.49 val acc - 0.748 val auc - 0.816\n"
     ]
    },
    {
     "name": "stderr",
     "output_type": "stream",
     "text": [
      "loss - 0.4077: 100%|██████████| 14/14 [00:05<00:00,  2.60it/s]\n",
      "  0%|          | 0/2 [00:00<?, ?it/s]"
     ]
    },
    {
     "name": "stdout",
     "output_type": "stream",
     "text": [
      "epoch - 20 train_loss - 0.42 acc - 0.793 auc - 0.855\n"
     ]
    },
    {
     "name": "stderr",
     "output_type": "stream",
     "text": [
      "valid loss - 0.4872: 100%|██████████| 2/2 [00:00<00:00,  2.13it/s]\n",
      "  0%|          | 0/14 [00:00<?, ?it/s]"
     ]
    },
    {
     "name": "stdout",
     "output_type": "stream",
     "text": [
      "epoch - 20 val_loss - 0.49 val acc - 0.748 val auc - 0.816\n"
     ]
    },
    {
     "name": "stderr",
     "output_type": "stream",
     "text": [
      "loss - 0.4408: 100%|██████████| 14/14 [00:05<00:00,  2.65it/s]\n",
      "  0%|          | 0/2 [00:00<?, ?it/s]"
     ]
    },
    {
     "name": "stdout",
     "output_type": "stream",
     "text": [
      "epoch - 21 train_loss - 0.42 acc - 0.794 auc - 0.857\n"
     ]
    },
    {
     "name": "stderr",
     "output_type": "stream",
     "text": [
      "valid loss - 0.4794: 100%|██████████| 2/2 [00:00<00:00,  2.20it/s]\n",
      "  0%|          | 0/14 [00:00<?, ?it/s]"
     ]
    },
    {
     "name": "stdout",
     "output_type": "stream",
     "text": [
      "epoch - 21 val_loss - 0.49 val acc - 0.747 val auc - 0.817\n"
     ]
    },
    {
     "name": "stderr",
     "output_type": "stream",
     "text": [
      "loss - 0.4313: 100%|██████████| 14/14 [00:06<00:00,  2.32it/s]\n",
      "  0%|          | 0/2 [00:00<?, ?it/s]"
     ]
    },
    {
     "name": "stdout",
     "output_type": "stream",
     "text": [
      "epoch - 22 train_loss - 0.42 acc - 0.796 auc - 0.859\n"
     ]
    },
    {
     "name": "stderr",
     "output_type": "stream",
     "text": [
      "valid loss - 0.4960: 100%|██████████| 2/2 [00:00<00:00,  2.15it/s]\n",
      "  0%|          | 0/14 [00:00<?, ?it/s]"
     ]
    },
    {
     "name": "stdout",
     "output_type": "stream",
     "text": [
      "epoch - 22 val_loss - 0.49 val acc - 0.750 val auc - 0.817\n"
     ]
    },
    {
     "name": "stderr",
     "output_type": "stream",
     "text": [
      "loss - 0.3842: 100%|██████████| 14/14 [00:06<00:00,  2.20it/s]\n",
      "  0%|          | 0/2 [00:00<?, ?it/s]"
     ]
    },
    {
     "name": "stdout",
     "output_type": "stream",
     "text": [
      "epoch - 23 train_loss - 0.41 acc - 0.797 auc - 0.860\n"
     ]
    },
    {
     "name": "stderr",
     "output_type": "stream",
     "text": [
      "valid loss - 0.4888: 100%|██████████| 2/2 [00:00<00:00,  2.35it/s]\n",
      "  0%|          | 0/2 [00:00<?, ?it/s]"
     ]
    },
    {
     "name": "stdout",
     "output_type": "stream",
     "text": [
      "epoch - 23 val_loss - 0.49 val acc - 0.749 val auc - 0.817\n",
      "Val Loss does not improve for 5 consecutive epochs\n"
     ]
    },
    {
     "name": "stderr",
     "output_type": "stream",
     "text": [
      "valid loss - 0.3376: 100%|██████████| 2/2 [00:00<00:00,  2.37it/s]\n",
      "  0%|          | 0/14 [00:00<?, ?it/s]"
     ]
    },
    {
     "name": "stdout",
     "output_type": "stream",
     "text": [
      "epoch - 23 test_loss - 0.33 acc - 0.847 auc - 0.888\n"
     ]
    },
    {
     "name": "stderr",
     "output_type": "stream",
     "text": [
      "valid loss - 0.4262: 100%|██████████| 14/14 [00:04<00:00,  3.00it/s]\n",
      "  0%|          | 0/14 [00:00<?, ?it/s]"
     ]
    },
    {
     "name": "stdout",
     "output_type": "stream",
     "text": [
      "----------------------------------------------------------------------------\n"
     ]
    },
    {
     "name": "stderr",
     "output_type": "stream",
     "text": [
      "loss - 0.5371: 100%|██████████| 14/14 [00:05<00:00,  2.37it/s]\n",
      "  0%|          | 0/2 [00:00<?, ?it/s]"
     ]
    },
    {
     "name": "stdout",
     "output_type": "stream",
     "text": [
      "epoch - 0 train_loss - 0.60 acc - 0.697 auc - 0.577\n"
     ]
    },
    {
     "name": "stderr",
     "output_type": "stream",
     "text": [
      "valid loss - 0.6152: 100%|██████████| 2/2 [00:00<00:00,  2.22it/s]\n",
      "  0%|          | 0/14 [00:00<?, ?it/s]"
     ]
    },
    {
     "name": "stdout",
     "output_type": "stream",
     "text": [
      "epoch - 0 val_loss - 0.62 val acc - 0.653 val auc - 0.644\n"
     ]
    },
    {
     "name": "stderr",
     "output_type": "stream",
     "text": [
      "loss - 0.5319: 100%|██████████| 14/14 [00:05<00:00,  2.74it/s]\n",
      "  0%|          | 0/2 [00:00<?, ?it/s]"
     ]
    },
    {
     "name": "stdout",
     "output_type": "stream",
     "text": [
      "epoch - 1 train_loss - 0.54 acc - 0.732 auc - 0.710\n"
     ]
    },
    {
     "name": "stderr",
     "output_type": "stream",
     "text": [
      "valid loss - 0.5825: 100%|██████████| 2/2 [00:01<00:00,  1.70it/s]\n",
      "  0%|          | 0/14 [00:00<?, ?it/s]"
     ]
    },
    {
     "name": "stdout",
     "output_type": "stream",
     "text": [
      "epoch - 1 val_loss - 0.59 val acc - 0.686 val auc - 0.711\n"
     ]
    },
    {
     "name": "stderr",
     "output_type": "stream",
     "text": [
      "loss - 0.5084: 100%|██████████| 14/14 [00:05<00:00,  2.75it/s]\n",
      "  0%|          | 0/2 [00:00<?, ?it/s]"
     ]
    },
    {
     "name": "stdout",
     "output_type": "stream",
     "text": [
      "epoch - 2 train_loss - 0.52 acc - 0.745 auc - 0.748\n"
     ]
    },
    {
     "name": "stderr",
     "output_type": "stream",
     "text": [
      "valid loss - 0.5617: 100%|██████████| 2/2 [00:00<00:00,  2.21it/s]\n",
      "  0%|          | 0/14 [00:00<?, ?it/s]"
     ]
    },
    {
     "name": "stdout",
     "output_type": "stream",
     "text": [
      "epoch - 2 val_loss - 0.57 val acc - 0.695 val auc - 0.734\n"
     ]
    },
    {
     "name": "stderr",
     "output_type": "stream",
     "text": [
      "loss - 0.5136: 100%|██████████| 14/14 [00:06<00:00,  2.28it/s]\n",
      "  0%|          | 0/2 [00:00<?, ?it/s]"
     ]
    },
    {
     "name": "stdout",
     "output_type": "stream",
     "text": [
      "epoch - 3 train_loss - 0.50 acc - 0.754 auc - 0.769\n"
     ]
    },
    {
     "name": "stderr",
     "output_type": "stream",
     "text": [
      "valid loss - 0.5681: 100%|██████████| 2/2 [00:00<00:00,  2.36it/s]\n",
      "  0%|          | 0/14 [00:00<?, ?it/s]"
     ]
    },
    {
     "name": "stdout",
     "output_type": "stream",
     "text": [
      "epoch - 3 val_loss - 0.56 val acc - 0.705 val auc - 0.750\n"
     ]
    },
    {
     "name": "stderr",
     "output_type": "stream",
     "text": [
      "loss - 0.4785: 100%|██████████| 14/14 [00:04<00:00,  2.92it/s]\n",
      "  0%|          | 0/2 [00:00<?, ?it/s]"
     ]
    },
    {
     "name": "stdout",
     "output_type": "stream",
     "text": [
      "epoch - 4 train_loss - 0.49 acc - 0.762 auc - 0.786\n"
     ]
    },
    {
     "name": "stderr",
     "output_type": "stream",
     "text": [
      "valid loss - 0.5533: 100%|██████████| 2/2 [00:00<00:00,  2.36it/s]\n",
      "  0%|          | 0/14 [00:00<?, ?it/s]"
     ]
    },
    {
     "name": "stdout",
     "output_type": "stream",
     "text": [
      "epoch - 4 val_loss - 0.55 val acc - 0.715 val auc - 0.765\n"
     ]
    },
    {
     "name": "stderr",
     "output_type": "stream",
     "text": [
      "loss - 0.4433: 100%|██████████| 14/14 [00:05<00:00,  2.74it/s]\n",
      "  0%|          | 0/2 [00:00<?, ?it/s]"
     ]
    },
    {
     "name": "stdout",
     "output_type": "stream",
     "text": [
      "epoch - 5 train_loss - 0.48 acc - 0.769 auc - 0.801\n"
     ]
    },
    {
     "name": "stderr",
     "output_type": "stream",
     "text": [
      "valid loss - 0.5265: 100%|██████████| 2/2 [00:00<00:00,  2.36it/s]\n",
      "  0%|          | 0/14 [00:00<?, ?it/s]"
     ]
    },
    {
     "name": "stdout",
     "output_type": "stream",
     "text": [
      "epoch - 5 val_loss - 0.54 val acc - 0.722 val auc - 0.777\n"
     ]
    },
    {
     "name": "stderr",
     "output_type": "stream",
     "text": [
      "loss - 0.4541: 100%|██████████| 14/14 [00:04<00:00,  2.92it/s]\n",
      "  0%|          | 0/2 [00:00<?, ?it/s]"
     ]
    },
    {
     "name": "stdout",
     "output_type": "stream",
     "text": [
      "epoch - 6 train_loss - 0.46 acc - 0.775 auc - 0.813\n"
     ]
    },
    {
     "name": "stderr",
     "output_type": "stream",
     "text": [
      "valid loss - 0.5474: 100%|██████████| 2/2 [00:00<00:00,  2.09it/s]\n",
      "  0%|          | 0/14 [00:00<?, ?it/s]"
     ]
    },
    {
     "name": "stdout",
     "output_type": "stream",
     "text": [
      "epoch - 6 val_loss - 0.53 val acc - 0.726 val auc - 0.785\n"
     ]
    },
    {
     "name": "stderr",
     "output_type": "stream",
     "text": [
      "loss - 0.4843: 100%|██████████| 14/14 [00:04<00:00,  2.93it/s]\n",
      "  0%|          | 0/2 [00:00<?, ?it/s]"
     ]
    },
    {
     "name": "stdout",
     "output_type": "stream",
     "text": [
      "epoch - 7 train_loss - 0.45 acc - 0.779 auc - 0.822\n"
     ]
    },
    {
     "name": "stderr",
     "output_type": "stream",
     "text": [
      "valid loss - 0.5165: 100%|██████████| 2/2 [00:00<00:00,  2.26it/s]\n",
      "  0%|          | 0/14 [00:00<?, ?it/s]"
     ]
    },
    {
     "name": "stdout",
     "output_type": "stream",
     "text": [
      "epoch - 7 val_loss - 0.53 val acc - 0.729 val auc - 0.791\n"
     ]
    },
    {
     "name": "stderr",
     "output_type": "stream",
     "text": [
      "loss - 0.4338: 100%|██████████| 14/14 [00:04<00:00,  2.84it/s]\n",
      "  0%|          | 0/2 [00:00<?, ?it/s]"
     ]
    },
    {
     "name": "stdout",
     "output_type": "stream",
     "text": [
      "epoch - 8 train_loss - 0.45 acc - 0.782 auc - 0.829\n"
     ]
    },
    {
     "name": "stderr",
     "output_type": "stream",
     "text": [
      "valid loss - 0.5260: 100%|██████████| 2/2 [00:00<00:00,  2.31it/s]\n",
      "  0%|          | 0/14 [00:00<?, ?it/s]"
     ]
    },
    {
     "name": "stdout",
     "output_type": "stream",
     "text": [
      "epoch - 8 val_loss - 0.52 val acc - 0.729 val auc - 0.794\n"
     ]
    },
    {
     "name": "stderr",
     "output_type": "stream",
     "text": [
      "loss - 0.4344: 100%|██████████| 14/14 [00:05<00:00,  2.56it/s]\n",
      "  0%|          | 0/2 [00:00<?, ?it/s]"
     ]
    },
    {
     "name": "stdout",
     "output_type": "stream",
     "text": [
      "epoch - 9 train_loss - 0.44 acc - 0.785 auc - 0.835\n"
     ]
    },
    {
     "name": "stderr",
     "output_type": "stream",
     "text": [
      "valid loss - 0.4977: 100%|██████████| 2/2 [00:00<00:00,  2.18it/s]\n",
      "  0%|          | 0/14 [00:00<?, ?it/s]"
     ]
    },
    {
     "name": "stdout",
     "output_type": "stream",
     "text": [
      "epoch - 9 val_loss - 0.52 val acc - 0.730 val auc - 0.797\n"
     ]
    },
    {
     "name": "stderr",
     "output_type": "stream",
     "text": [
      "loss - 0.4533: 100%|██████████| 14/14 [00:05<00:00,  2.57it/s]\n",
      "  0%|          | 0/2 [00:00<?, ?it/s]"
     ]
    },
    {
     "name": "stdout",
     "output_type": "stream",
     "text": [
      "epoch - 10 train_loss - 0.44 acc - 0.786 auc - 0.839\n"
     ]
    },
    {
     "name": "stderr",
     "output_type": "stream",
     "text": [
      "valid loss - 0.5504: 100%|██████████| 2/2 [00:00<00:00,  2.10it/s]\n",
      "  0%|          | 0/14 [00:00<?, ?it/s]"
     ]
    },
    {
     "name": "stdout",
     "output_type": "stream",
     "text": [
      "epoch - 10 val_loss - 0.52 val acc - 0.731 val auc - 0.798\n"
     ]
    },
    {
     "name": "stderr",
     "output_type": "stream",
     "text": [
      "loss - 0.4473: 100%|██████████| 14/14 [00:05<00:00,  2.74it/s]\n",
      "  0%|          | 0/2 [00:00<?, ?it/s]"
     ]
    },
    {
     "name": "stdout",
     "output_type": "stream",
     "text": [
      "epoch - 11 train_loss - 0.43 acc - 0.788 auc - 0.842\n"
     ]
    },
    {
     "name": "stderr",
     "output_type": "stream",
     "text": [
      "valid loss - 0.5183: 100%|██████████| 2/2 [00:01<00:00,  1.82it/s]\n",
      "  0%|          | 0/14 [00:00<?, ?it/s]"
     ]
    },
    {
     "name": "stdout",
     "output_type": "stream",
     "text": [
      "epoch - 11 val_loss - 0.52 val acc - 0.732 val auc - 0.799\n"
     ]
    },
    {
     "name": "stderr",
     "output_type": "stream",
     "text": [
      "loss - 0.4445: 100%|██████████| 14/14 [00:05<00:00,  2.72it/s]\n",
      "  0%|          | 0/2 [00:00<?, ?it/s]"
     ]
    },
    {
     "name": "stdout",
     "output_type": "stream",
     "text": [
      "epoch - 12 train_loss - 0.43 acc - 0.790 auc - 0.845\n"
     ]
    },
    {
     "name": "stderr",
     "output_type": "stream",
     "text": [
      "valid loss - 0.5182: 100%|██████████| 2/2 [00:00<00:00,  2.20it/s]\n",
      "  0%|          | 0/14 [00:00<?, ?it/s]"
     ]
    },
    {
     "name": "stdout",
     "output_type": "stream",
     "text": [
      "epoch - 12 val_loss - 0.52 val acc - 0.732 val auc - 0.801\n"
     ]
    },
    {
     "name": "stderr",
     "output_type": "stream",
     "text": [
      "loss - 0.4212: 100%|██████████| 14/14 [00:05<00:00,  2.53it/s]\n",
      "  0%|          | 0/2 [00:00<?, ?it/s]"
     ]
    },
    {
     "name": "stdout",
     "output_type": "stream",
     "text": [
      "epoch - 13 train_loss - 0.43 acc - 0.791 auc - 0.848\n"
     ]
    },
    {
     "name": "stderr",
     "output_type": "stream",
     "text": [
      "valid loss - 0.4952: 100%|██████████| 2/2 [00:00<00:00,  2.36it/s]\n",
      "  0%|          | 0/14 [00:00<?, ?it/s]"
     ]
    },
    {
     "name": "stdout",
     "output_type": "stream",
     "text": [
      "epoch - 13 val_loss - 0.51 val acc - 0.734 val auc - 0.802\n"
     ]
    },
    {
     "name": "stderr",
     "output_type": "stream",
     "text": [
      "loss - 0.4208: 100%|██████████| 14/14 [00:04<00:00,  2.92it/s]\n",
      "  0%|          | 0/2 [00:00<?, ?it/s]"
     ]
    },
    {
     "name": "stdout",
     "output_type": "stream",
     "text": [
      "epoch - 14 train_loss - 0.42 acc - 0.792 auc - 0.850\n"
     ]
    },
    {
     "name": "stderr",
     "output_type": "stream",
     "text": [
      "valid loss - 0.5113: 100%|██████████| 2/2 [00:00<00:00,  2.15it/s]\n",
      "  0%|          | 0/14 [00:00<?, ?it/s]"
     ]
    },
    {
     "name": "stdout",
     "output_type": "stream",
     "text": [
      "epoch - 14 val_loss - 0.51 val acc - 0.735 val auc - 0.802\n"
     ]
    },
    {
     "name": "stderr",
     "output_type": "stream",
     "text": [
      "loss - 0.4409: 100%|██████████| 14/14 [00:05<00:00,  2.46it/s]\n",
      "  0%|          | 0/2 [00:00<?, ?it/s]"
     ]
    },
    {
     "name": "stdout",
     "output_type": "stream",
     "text": [
      "epoch - 15 train_loss - 0.42 acc - 0.794 auc - 0.852\n"
     ]
    },
    {
     "name": "stderr",
     "output_type": "stream",
     "text": [
      "valid loss - 0.5196: 100%|██████████| 2/2 [00:00<00:00,  2.29it/s]\n",
      "  0%|          | 0/14 [00:00<?, ?it/s]"
     ]
    },
    {
     "name": "stdout",
     "output_type": "stream",
     "text": [
      "epoch - 15 val_loss - 0.51 val acc - 0.734 val auc - 0.802\n"
     ]
    },
    {
     "name": "stderr",
     "output_type": "stream",
     "text": [
      "loss - 0.4427: 100%|██████████| 14/14 [00:04<00:00,  2.87it/s]\n",
      "  0%|          | 0/2 [00:00<?, ?it/s]"
     ]
    },
    {
     "name": "stdout",
     "output_type": "stream",
     "text": [
      "epoch - 16 train_loss - 0.42 acc - 0.796 auc - 0.854\n"
     ]
    },
    {
     "name": "stderr",
     "output_type": "stream",
     "text": [
      "valid loss - 0.4960: 100%|██████████| 2/2 [00:01<00:00,  1.90it/s]\n",
      "  0%|          | 0/14 [00:00<?, ?it/s]"
     ]
    },
    {
     "name": "stdout",
     "output_type": "stream",
     "text": [
      "epoch - 16 val_loss - 0.51 val acc - 0.735 val auc - 0.803\n"
     ]
    },
    {
     "name": "stderr",
     "output_type": "stream",
     "text": [
      "loss - 0.4049: 100%|██████████| 14/14 [00:04<00:00,  2.91it/s]\n",
      "  0%|          | 0/2 [00:00<?, ?it/s]"
     ]
    },
    {
     "name": "stdout",
     "output_type": "stream",
     "text": [
      "epoch - 17 train_loss - 0.42 acc - 0.797 auc - 0.856\n"
     ]
    },
    {
     "name": "stderr",
     "output_type": "stream",
     "text": [
      "valid loss - 0.5143: 100%|██████████| 2/2 [00:00<00:00,  2.33it/s]\n",
      "  0%|          | 0/14 [00:00<?, ?it/s]"
     ]
    },
    {
     "name": "stdout",
     "output_type": "stream",
     "text": [
      "epoch - 17 val_loss - 0.51 val acc - 0.736 val auc - 0.804\n"
     ]
    },
    {
     "name": "stderr",
     "output_type": "stream",
     "text": [
      "loss - 0.4080: 100%|██████████| 14/14 [00:05<00:00,  2.61it/s]\n",
      "  0%|          | 0/2 [00:00<?, ?it/s]"
     ]
    },
    {
     "name": "stdout",
     "output_type": "stream",
     "text": [
      "epoch - 18 train_loss - 0.41 acc - 0.798 auc - 0.857\n"
     ]
    },
    {
     "name": "stderr",
     "output_type": "stream",
     "text": [
      "valid loss - 0.4991: 100%|██████████| 2/2 [00:00<00:00,  2.34it/s]\n",
      "  0%|          | 0/14 [00:00<?, ?it/s]"
     ]
    },
    {
     "name": "stdout",
     "output_type": "stream",
     "text": [
      "epoch - 18 val_loss - 0.51 val acc - 0.736 val auc - 0.805\n"
     ]
    },
    {
     "name": "stderr",
     "output_type": "stream",
     "text": [
      "loss - 0.3752: 100%|██████████| 14/14 [00:04<00:00,  2.87it/s]\n",
      "  0%|          | 0/2 [00:00<?, ?it/s]"
     ]
    },
    {
     "name": "stdout",
     "output_type": "stream",
     "text": [
      "epoch - 19 train_loss - 0.41 acc - 0.799 auc - 0.859\n"
     ]
    },
    {
     "name": "stderr",
     "output_type": "stream",
     "text": [
      "valid loss - 0.5228: 100%|██████████| 2/2 [00:00<00:00,  2.19it/s]\n",
      "  0%|          | 0/14 [00:00<?, ?it/s]"
     ]
    },
    {
     "name": "stdout",
     "output_type": "stream",
     "text": [
      "epoch - 19 val_loss - 0.51 val acc - 0.736 val auc - 0.804\n"
     ]
    },
    {
     "name": "stderr",
     "output_type": "stream",
     "text": [
      "loss - 0.4049: 100%|██████████| 14/14 [00:06<00:00,  2.27it/s]\n",
      "  0%|          | 0/2 [00:00<?, ?it/s]"
     ]
    },
    {
     "name": "stdout",
     "output_type": "stream",
     "text": [
      "epoch - 20 train_loss - 0.41 acc - 0.800 auc - 0.861\n"
     ]
    },
    {
     "name": "stderr",
     "output_type": "stream",
     "text": [
      "valid loss - 0.5182: 100%|██████████| 2/2 [00:00<00:00,  2.21it/s]\n",
      "  0%|          | 0/14 [00:00<?, ?it/s]"
     ]
    },
    {
     "name": "stdout",
     "output_type": "stream",
     "text": [
      "epoch - 20 val_loss - 0.51 val acc - 0.737 val auc - 0.805\n"
     ]
    },
    {
     "name": "stderr",
     "output_type": "stream",
     "text": [
      "loss - 0.4008: 100%|██████████| 14/14 [00:05<00:00,  2.72it/s]\n",
      "  0%|          | 0/2 [00:00<?, ?it/s]"
     ]
    },
    {
     "name": "stdout",
     "output_type": "stream",
     "text": [
      "epoch - 21 train_loss - 0.41 acc - 0.801 auc - 0.862\n"
     ]
    },
    {
     "name": "stderr",
     "output_type": "stream",
     "text": [
      "valid loss - 0.5128: 100%|██████████| 2/2 [00:01<00:00,  1.86it/s]\n",
      "  0%|          | 0/14 [00:00<?, ?it/s]"
     ]
    },
    {
     "name": "stdout",
     "output_type": "stream",
     "text": [
      "epoch - 21 val_loss - 0.51 val acc - 0.738 val auc - 0.805\n"
     ]
    },
    {
     "name": "stderr",
     "output_type": "stream",
     "text": [
      "loss - 0.3919: 100%|██████████| 14/14 [00:05<00:00,  2.70it/s]\n",
      "  0%|          | 0/2 [00:00<?, ?it/s]"
     ]
    },
    {
     "name": "stdout",
     "output_type": "stream",
     "text": [
      "epoch - 22 train_loss - 0.41 acc - 0.803 auc - 0.864\n"
     ]
    },
    {
     "name": "stderr",
     "output_type": "stream",
     "text": [
      "valid loss - 0.5065: 100%|██████████| 2/2 [00:00<00:00,  2.16it/s]\n",
      "  0%|          | 0/14 [00:00<?, ?it/s]"
     ]
    },
    {
     "name": "stdout",
     "output_type": "stream",
     "text": [
      "epoch - 22 val_loss - 0.51 val acc - 0.738 val auc - 0.805\n"
     ]
    },
    {
     "name": "stderr",
     "output_type": "stream",
     "text": [
      "loss - 0.4310: 100%|██████████| 14/14 [00:05<00:00,  2.52it/s]\n",
      "  0%|          | 0/2 [00:00<?, ?it/s]"
     ]
    },
    {
     "name": "stdout",
     "output_type": "stream",
     "text": [
      "epoch - 23 train_loss - 0.40 acc - 0.803 auc - 0.865\n"
     ]
    },
    {
     "name": "stderr",
     "output_type": "stream",
     "text": [
      "valid loss - 0.5146: 100%|██████████| 2/2 [00:00<00:00,  2.36it/s]\n",
      "  0%|          | 0/2 [00:00<?, ?it/s]"
     ]
    },
    {
     "name": "stdout",
     "output_type": "stream",
     "text": [
      "epoch - 23 val_loss - 0.51 val acc - 0.737 val auc - 0.806\n",
      "Val Loss does not improve for 5 consecutive epochs\n"
     ]
    },
    {
     "name": "stderr",
     "output_type": "stream",
     "text": [
      "valid loss - 0.3441: 100%|██████████| 2/2 [00:00<00:00,  2.35it/s]\n",
      "  0%|          | 0/14 [00:00<?, ?it/s]"
     ]
    },
    {
     "name": "stdout",
     "output_type": "stream",
     "text": [
      "epoch - 23 test_loss - 0.35 acc - 0.837 auc - 0.892\n"
     ]
    },
    {
     "name": "stderr",
     "output_type": "stream",
     "text": [
      "valid loss - 0.3999: 100%|██████████| 14/14 [00:04<00:00,  3.06it/s]\n",
      "  0%|          | 0/14 [00:00<?, ?it/s]"
     ]
    },
    {
     "name": "stdout",
     "output_type": "stream",
     "text": [
      "----------------------------------------------------------------------------\n"
     ]
    },
    {
     "name": "stderr",
     "output_type": "stream",
     "text": [
      "loss - 0.5670: 100%|██████████| 14/14 [00:05<00:00,  2.72it/s]\n",
      "  0%|          | 0/2 [00:00<?, ?it/s]"
     ]
    },
    {
     "name": "stdout",
     "output_type": "stream",
     "text": [
      "epoch - 0 train_loss - 0.60 acc - 0.689 auc - 0.603\n"
     ]
    },
    {
     "name": "stderr",
     "output_type": "stream",
     "text": [
      "valid loss - 0.6234: 100%|██████████| 2/2 [00:00<00:00,  2.32it/s]\n",
      "  0%|          | 0/14 [00:00<?, ?it/s]"
     ]
    },
    {
     "name": "stdout",
     "output_type": "stream",
     "text": [
      "epoch - 0 val_loss - 0.62 val acc - 0.663 val auc - 0.657\n"
     ]
    },
    {
     "name": "stderr",
     "output_type": "stream",
     "text": [
      "loss - 0.5177: 100%|██████████| 14/14 [00:04<00:00,  2.92it/s]\n",
      "  0%|          | 0/2 [00:00<?, ?it/s]"
     ]
    },
    {
     "name": "stdout",
     "output_type": "stream",
     "text": [
      "epoch - 1 train_loss - 0.53 acc - 0.735 auc - 0.724\n"
     ]
    },
    {
     "name": "stderr",
     "output_type": "stream",
     "text": [
      "valid loss - 0.5772: 100%|██████████| 2/2 [00:01<00:00,  1.45it/s]\n",
      "  0%|          | 0/14 [00:00<?, ?it/s]"
     ]
    },
    {
     "name": "stdout",
     "output_type": "stream",
     "text": [
      "epoch - 1 val_loss - 0.59 val acc - 0.687 val auc - 0.713\n"
     ]
    },
    {
     "name": "stderr",
     "output_type": "stream",
     "text": [
      "loss - 0.5034: 100%|██████████| 14/14 [00:04<00:00,  2.90it/s]\n",
      "  0%|          | 0/2 [00:00<?, ?it/s]"
     ]
    },
    {
     "name": "stdout",
     "output_type": "stream",
     "text": [
      "epoch - 2 train_loss - 0.51 acc - 0.749 auc - 0.761\n"
     ]
    },
    {
     "name": "stderr",
     "output_type": "stream",
     "text": [
      "valid loss - 0.5674: 100%|██████████| 2/2 [00:00<00:00,  2.34it/s]\n",
      "  0%|          | 0/14 [00:00<?, ?it/s]"
     ]
    },
    {
     "name": "stdout",
     "output_type": "stream",
     "text": [
      "epoch - 2 val_loss - 0.57 val acc - 0.700 val auc - 0.736\n"
     ]
    },
    {
     "name": "stderr",
     "output_type": "stream",
     "text": [
      "loss - 0.5047: 100%|██████████| 14/14 [00:05<00:00,  2.79it/s]\n",
      "  0%|          | 0/2 [00:00<?, ?it/s]"
     ]
    },
    {
     "name": "stdout",
     "output_type": "stream",
     "text": [
      "epoch - 3 train_loss - 0.50 acc - 0.758 auc - 0.778\n"
     ]
    },
    {
     "name": "stderr",
     "output_type": "stream",
     "text": [
      "valid loss - 0.5692: 100%|██████████| 2/2 [00:01<00:00,  1.98it/s]\n",
      "  0%|          | 0/14 [00:00<?, ?it/s]"
     ]
    },
    {
     "name": "stdout",
     "output_type": "stream",
     "text": [
      "epoch - 3 val_loss - 0.56 val acc - 0.709 val auc - 0.749\n"
     ]
    },
    {
     "name": "stderr",
     "output_type": "stream",
     "text": [
      "loss - 0.4656: 100%|██████████| 14/14 [00:04<00:00,  2.86it/s]\n",
      "  0%|          | 0/2 [00:00<?, ?it/s]"
     ]
    },
    {
     "name": "stdout",
     "output_type": "stream",
     "text": [
      "epoch - 4 train_loss - 0.48 acc - 0.765 auc - 0.793\n"
     ]
    },
    {
     "name": "stderr",
     "output_type": "stream",
     "text": [
      "valid loss - 0.5571: 100%|██████████| 2/2 [00:00<00:00,  2.21it/s]\n",
      "  0%|          | 0/14 [00:00<?, ?it/s]"
     ]
    },
    {
     "name": "stdout",
     "output_type": "stream",
     "text": [
      "epoch - 4 val_loss - 0.55 val acc - 0.717 val auc - 0.762\n"
     ]
    },
    {
     "name": "stderr",
     "output_type": "stream",
     "text": [
      "loss - 0.4686: 100%|██████████| 14/14 [00:05<00:00,  2.56it/s]\n",
      "  0%|          | 0/2 [00:00<?, ?it/s]"
     ]
    },
    {
     "name": "stdout",
     "output_type": "stream",
     "text": [
      "epoch - 5 train_loss - 0.47 acc - 0.771 auc - 0.806\n"
     ]
    },
    {
     "name": "stderr",
     "output_type": "stream",
     "text": [
      "valid loss - 0.5405: 100%|██████████| 2/2 [00:00<00:00,  2.20it/s]\n",
      "  0%|          | 0/14 [00:00<?, ?it/s]"
     ]
    },
    {
     "name": "stdout",
     "output_type": "stream",
     "text": [
      "epoch - 5 val_loss - 0.54 val acc - 0.722 val auc - 0.772\n"
     ]
    },
    {
     "name": "stderr",
     "output_type": "stream",
     "text": [
      "loss - 0.4709: 100%|██████████| 14/14 [00:05<00:00,  2.71it/s]\n",
      "  0%|          | 0/2 [00:00<?, ?it/s]"
     ]
    },
    {
     "name": "stdout",
     "output_type": "stream",
     "text": [
      "epoch - 6 train_loss - 0.46 acc - 0.777 auc - 0.818\n"
     ]
    },
    {
     "name": "stderr",
     "output_type": "stream",
     "text": [
      "valid loss - 0.5592: 100%|██████████| 2/2 [00:01<00:00,  1.69it/s]\n",
      "  0%|          | 0/14 [00:00<?, ?it/s]"
     ]
    },
    {
     "name": "stdout",
     "output_type": "stream",
     "text": [
      "epoch - 6 val_loss - 0.54 val acc - 0.725 val auc - 0.780\n"
     ]
    },
    {
     "name": "stderr",
     "output_type": "stream",
     "text": [
      "loss - 0.4068: 100%|██████████| 14/14 [00:05<00:00,  2.45it/s]\n",
      "  0%|          | 0/2 [00:00<?, ?it/s]"
     ]
    },
    {
     "name": "stdout",
     "output_type": "stream",
     "text": [
      "epoch - 7 train_loss - 0.45 acc - 0.780 auc - 0.826\n"
     ]
    },
    {
     "name": "stderr",
     "output_type": "stream",
     "text": [
      "valid loss - 0.5329: 100%|██████████| 2/2 [00:00<00:00,  2.19it/s]\n",
      "  0%|          | 0/14 [00:00<?, ?it/s]"
     ]
    },
    {
     "name": "stdout",
     "output_type": "stream",
     "text": [
      "epoch - 7 val_loss - 0.53 val acc - 0.729 val auc - 0.785\n"
     ]
    },
    {
     "name": "stderr",
     "output_type": "stream",
     "text": [
      "loss - 0.4727: 100%|██████████| 14/14 [00:05<00:00,  2.48it/s]\n",
      "  0%|          | 0/2 [00:00<?, ?it/s]"
     ]
    },
    {
     "name": "stdout",
     "output_type": "stream",
     "text": [
      "epoch - 8 train_loss - 0.45 acc - 0.783 auc - 0.832\n"
     ]
    },
    {
     "name": "stderr",
     "output_type": "stream",
     "text": [
      "valid loss - 0.5237: 100%|██████████| 2/2 [00:00<00:00,  2.29it/s]\n",
      "  0%|          | 0/14 [00:00<?, ?it/s]"
     ]
    },
    {
     "name": "stdout",
     "output_type": "stream",
     "text": [
      "epoch - 8 val_loss - 0.52 val acc - 0.730 val auc - 0.789\n"
     ]
    },
    {
     "name": "stderr",
     "output_type": "stream",
     "text": [
      "loss - 0.4246: 100%|██████████| 14/14 [00:04<00:00,  2.87it/s]\n",
      "  0%|          | 0/2 [00:00<?, ?it/s]"
     ]
    },
    {
     "name": "stdout",
     "output_type": "stream",
     "text": [
      "epoch - 9 train_loss - 0.44 acc - 0.785 auc - 0.837\n"
     ]
    },
    {
     "name": "stderr",
     "output_type": "stream",
     "text": [
      "valid loss - 0.5088: 100%|██████████| 2/2 [00:00<00:00,  2.25it/s]\n",
      "  0%|          | 0/14 [00:00<?, ?it/s]"
     ]
    },
    {
     "name": "stdout",
     "output_type": "stream",
     "text": [
      "epoch - 9 val_loss - 0.52 val acc - 0.732 val auc - 0.791\n"
     ]
    },
    {
     "name": "stderr",
     "output_type": "stream",
     "text": [
      "loss - 0.4518: 100%|██████████| 14/14 [00:05<00:00,  2.69it/s]\n",
      "  0%|          | 0/2 [00:00<?, ?it/s]"
     ]
    },
    {
     "name": "stdout",
     "output_type": "stream",
     "text": [
      "epoch - 10 train_loss - 0.44 acc - 0.787 auc - 0.841\n"
     ]
    },
    {
     "name": "stderr",
     "output_type": "stream",
     "text": [
      "valid loss - 0.5346: 100%|██████████| 2/2 [00:00<00:00,  2.35it/s]\n",
      "  0%|          | 0/14 [00:00<?, ?it/s]"
     ]
    },
    {
     "name": "stdout",
     "output_type": "stream",
     "text": [
      "epoch - 10 val_loss - 0.52 val acc - 0.733 val auc - 0.793\n"
     ]
    },
    {
     "name": "stderr",
     "output_type": "stream",
     "text": [
      "loss - 0.4240: 100%|██████████| 14/14 [00:04<00:00,  2.91it/s]\n",
      "  0%|          | 0/2 [00:00<?, ?it/s]"
     ]
    },
    {
     "name": "stdout",
     "output_type": "stream",
     "text": [
      "epoch - 11 train_loss - 0.43 acc - 0.789 auc - 0.844\n"
     ]
    },
    {
     "name": "stderr",
     "output_type": "stream",
     "text": [
      "valid loss - 0.5164: 100%|██████████| 2/2 [00:00<00:00,  2.01it/s]\n",
      "  0%|          | 0/14 [00:00<?, ?it/s]"
     ]
    },
    {
     "name": "stdout",
     "output_type": "stream",
     "text": [
      "epoch - 11 val_loss - 0.52 val acc - 0.734 val auc - 0.794\n"
     ]
    },
    {
     "name": "stderr",
     "output_type": "stream",
     "text": [
      "loss - 0.4339: 100%|██████████| 14/14 [00:04<00:00,  2.92it/s]\n",
      "  0%|          | 0/2 [00:00<?, ?it/s]"
     ]
    },
    {
     "name": "stdout",
     "output_type": "stream",
     "text": [
      "epoch - 12 train_loss - 0.43 acc - 0.790 auc - 0.847\n"
     ]
    },
    {
     "name": "stderr",
     "output_type": "stream",
     "text": [
      "valid loss - 0.5072: 100%|██████████| 2/2 [00:00<00:00,  2.31it/s]\n",
      "  0%|          | 0/14 [00:00<?, ?it/s]"
     ]
    },
    {
     "name": "stdout",
     "output_type": "stream",
     "text": [
      "epoch - 12 val_loss - 0.52 val acc - 0.734 val auc - 0.796\n"
     ]
    },
    {
     "name": "stderr",
     "output_type": "stream",
     "text": [
      "loss - 0.4146: 100%|██████████| 14/14 [00:06<00:00,  2.30it/s]\n",
      "  0%|          | 0/2 [00:00<?, ?it/s]"
     ]
    },
    {
     "name": "stdout",
     "output_type": "stream",
     "text": [
      "epoch - 13 train_loss - 0.43 acc - 0.791 auc - 0.849\n"
     ]
    },
    {
     "name": "stderr",
     "output_type": "stream",
     "text": [
      "valid loss - 0.5088: 100%|██████████| 2/2 [00:00<00:00,  2.21it/s]\n",
      "  0%|          | 0/14 [00:00<?, ?it/s]"
     ]
    },
    {
     "name": "stdout",
     "output_type": "stream",
     "text": [
      "epoch - 13 val_loss - 0.51 val acc - 0.734 val auc - 0.797\n"
     ]
    },
    {
     "name": "stderr",
     "output_type": "stream",
     "text": [
      "loss - 0.4416: 100%|██████████| 14/14 [00:05<00:00,  2.79it/s]\n",
      "  0%|          | 0/2 [00:00<?, ?it/s]"
     ]
    },
    {
     "name": "stdout",
     "output_type": "stream",
     "text": [
      "epoch - 14 train_loss - 0.42 acc - 0.792 auc - 0.852\n"
     ]
    },
    {
     "name": "stderr",
     "output_type": "stream",
     "text": [
      "valid loss - 0.5067: 100%|██████████| 2/2 [00:00<00:00,  2.17it/s]\n",
      "  0%|          | 0/14 [00:00<?, ?it/s]"
     ]
    },
    {
     "name": "stdout",
     "output_type": "stream",
     "text": [
      "epoch - 14 val_loss - 0.51 val acc - 0.735 val auc - 0.799\n"
     ]
    },
    {
     "name": "stderr",
     "output_type": "stream",
     "text": [
      "loss - 0.4430: 100%|██████████| 14/14 [00:05<00:00,  2.57it/s]\n",
      "  0%|          | 0/2 [00:00<?, ?it/s]"
     ]
    },
    {
     "name": "stdout",
     "output_type": "stream",
     "text": [
      "epoch - 15 train_loss - 0.42 acc - 0.793 auc - 0.853\n"
     ]
    },
    {
     "name": "stderr",
     "output_type": "stream",
     "text": [
      "valid loss - 0.5256: 100%|██████████| 2/2 [00:00<00:00,  2.17it/s]\n",
      "  0%|          | 0/14 [00:00<?, ?it/s]"
     ]
    },
    {
     "name": "stdout",
     "output_type": "stream",
     "text": [
      "epoch - 15 val_loss - 0.52 val acc - 0.737 val auc - 0.799\n"
     ]
    },
    {
     "name": "stderr",
     "output_type": "stream",
     "text": [
      "loss - 0.4340: 100%|██████████| 14/14 [00:05<00:00,  2.66it/s]\n",
      "  0%|          | 0/2 [00:00<?, ?it/s]"
     ]
    },
    {
     "name": "stdout",
     "output_type": "stream",
     "text": [
      "epoch - 16 train_loss - 0.42 acc - 0.795 auc - 0.856\n"
     ]
    },
    {
     "name": "stderr",
     "output_type": "stream",
     "text": [
      "valid loss - 0.5183: 100%|██████████| 2/2 [00:00<00:00,  2.20it/s]\n",
      "  0%|          | 0/14 [00:00<?, ?it/s]"
     ]
    },
    {
     "name": "stdout",
     "output_type": "stream",
     "text": [
      "epoch - 16 val_loss - 0.51 val acc - 0.736 val auc - 0.799\n"
     ]
    },
    {
     "name": "stderr",
     "output_type": "stream",
     "text": [
      "loss - 0.3896: 100%|██████████| 14/14 [00:05<00:00,  2.70it/s]\n",
      "  0%|          | 0/2 [00:00<?, ?it/s]"
     ]
    },
    {
     "name": "stdout",
     "output_type": "stream",
     "text": [
      "epoch - 17 train_loss - 0.42 acc - 0.796 auc - 0.857\n"
     ]
    },
    {
     "name": "stderr",
     "output_type": "stream",
     "text": [
      "valid loss - 0.4975: 100%|██████████| 2/2 [00:01<00:00,  1.53it/s]\n",
      "  0%|          | 0/14 [00:00<?, ?it/s]"
     ]
    },
    {
     "name": "stdout",
     "output_type": "stream",
     "text": [
      "epoch - 17 val_loss - 0.51 val acc - 0.737 val auc - 0.800\n"
     ]
    },
    {
     "name": "stderr",
     "output_type": "stream",
     "text": [
      "loss - 0.4371: 100%|██████████| 14/14 [00:05<00:00,  2.51it/s]\n",
      "  0%|          | 0/2 [00:00<?, ?it/s]"
     ]
    },
    {
     "name": "stdout",
     "output_type": "stream",
     "text": [
      "epoch - 18 train_loss - 0.41 acc - 0.797 auc - 0.859\n"
     ]
    },
    {
     "name": "stderr",
     "output_type": "stream",
     "text": [
      "valid loss - 0.5193: 100%|██████████| 2/2 [00:00<00:00,  2.35it/s]\n",
      "  0%|          | 0/14 [00:00<?, ?it/s]"
     ]
    },
    {
     "name": "stdout",
     "output_type": "stream",
     "text": [
      "epoch - 18 val_loss - 0.52 val acc - 0.735 val auc - 0.800\n"
     ]
    },
    {
     "name": "stderr",
     "output_type": "stream",
     "text": [
      "loss - 0.4040: 100%|██████████| 14/14 [00:05<00:00,  2.74it/s]\n",
      "  0%|          | 0/2 [00:00<?, ?it/s]"
     ]
    },
    {
     "name": "stdout",
     "output_type": "stream",
     "text": [
      "epoch - 19 train_loss - 0.41 acc - 0.798 auc - 0.860\n"
     ]
    },
    {
     "name": "stderr",
     "output_type": "stream",
     "text": [
      "valid loss - 0.5159: 100%|██████████| 2/2 [00:01<00:00,  1.77it/s]\n",
      "  0%|          | 0/14 [00:00<?, ?it/s]"
     ]
    },
    {
     "name": "stdout",
     "output_type": "stream",
     "text": [
      "epoch - 19 val_loss - 0.51 val acc - 0.736 val auc - 0.801\n"
     ]
    },
    {
     "name": "stderr",
     "output_type": "stream",
     "text": [
      "loss - 0.4133: 100%|██████████| 14/14 [00:05<00:00,  2.70it/s]\n",
      "  0%|          | 0/2 [00:00<?, ?it/s]"
     ]
    },
    {
     "name": "stdout",
     "output_type": "stream",
     "text": [
      "epoch - 20 train_loss - 0.41 acc - 0.799 auc - 0.862\n"
     ]
    },
    {
     "name": "stderr",
     "output_type": "stream",
     "text": [
      "valid loss - 0.5368: 100%|██████████| 2/2 [00:00<00:00,  2.19it/s]\n",
      "  0%|          | 0/14 [00:00<?, ?it/s]"
     ]
    },
    {
     "name": "stdout",
     "output_type": "stream",
     "text": [
      "epoch - 20 val_loss - 0.51 val acc - 0.736 val auc - 0.801\n"
     ]
    },
    {
     "name": "stderr",
     "output_type": "stream",
     "text": [
      "loss - 0.4330: 100%|██████████| 14/14 [00:05<00:00,  2.54it/s]\n",
      "  0%|          | 0/2 [00:00<?, ?it/s]"
     ]
    },
    {
     "name": "stdout",
     "output_type": "stream",
     "text": [
      "epoch - 21 train_loss - 0.41 acc - 0.800 auc - 0.863\n"
     ]
    },
    {
     "name": "stderr",
     "output_type": "stream",
     "text": [
      "valid loss - 0.4946: 100%|██████████| 2/2 [00:00<00:00,  2.18it/s]\n",
      "  0%|          | 0/14 [00:00<?, ?it/s]"
     ]
    },
    {
     "name": "stdout",
     "output_type": "stream",
     "text": [
      "epoch - 21 val_loss - 0.51 val acc - 0.737 val auc - 0.801\n"
     ]
    },
    {
     "name": "stderr",
     "output_type": "stream",
     "text": [
      "loss - 0.4062: 100%|██████████| 14/14 [00:05<00:00,  2.54it/s]\n",
      "  0%|          | 0/2 [00:00<?, ?it/s]"
     ]
    },
    {
     "name": "stdout",
     "output_type": "stream",
     "text": [
      "epoch - 22 train_loss - 0.41 acc - 0.801 auc - 0.864\n"
     ]
    },
    {
     "name": "stderr",
     "output_type": "stream",
     "text": [
      "valid loss - 0.5342: 100%|██████████| 2/2 [00:00<00:00,  2.32it/s]\n",
      "  0%|          | 0/14 [00:00<?, ?it/s]"
     ]
    },
    {
     "name": "stdout",
     "output_type": "stream",
     "text": [
      "epoch - 22 val_loss - 0.51 val acc - 0.737 val auc - 0.802\n"
     ]
    },
    {
     "name": "stderr",
     "output_type": "stream",
     "text": [
      "loss - 0.4017: 100%|██████████| 14/14 [00:05<00:00,  2.55it/s]\n",
      "  0%|          | 0/2 [00:00<?, ?it/s]"
     ]
    },
    {
     "name": "stdout",
     "output_type": "stream",
     "text": [
      "epoch - 23 train_loss - 0.40 acc - 0.802 auc - 0.866\n"
     ]
    },
    {
     "name": "stderr",
     "output_type": "stream",
     "text": [
      "valid loss - 0.5049: 100%|██████████| 2/2 [00:00<00:00,  2.34it/s]\n",
      "  0%|          | 0/14 [00:00<?, ?it/s]"
     ]
    },
    {
     "name": "stdout",
     "output_type": "stream",
     "text": [
      "epoch - 23 val_loss - 0.51 val acc - 0.736 val auc - 0.802\n"
     ]
    },
    {
     "name": "stderr",
     "output_type": "stream",
     "text": [
      "loss - 0.4035: 100%|██████████| 14/14 [00:04<00:00,  2.87it/s]\n",
      "  0%|          | 0/2 [00:00<?, ?it/s]"
     ]
    },
    {
     "name": "stdout",
     "output_type": "stream",
     "text": [
      "epoch - 24 train_loss - 0.40 acc - 0.803 auc - 0.868\n"
     ]
    },
    {
     "name": "stderr",
     "output_type": "stream",
     "text": [
      "valid loss - 0.4968: 100%|██████████| 2/2 [00:00<00:00,  2.32it/s]\n",
      "  0%|          | 0/14 [00:00<?, ?it/s]"
     ]
    },
    {
     "name": "stdout",
     "output_type": "stream",
     "text": [
      "epoch - 24 val_loss - 0.51 val acc - 0.737 val auc - 0.802\n"
     ]
    },
    {
     "name": "stderr",
     "output_type": "stream",
     "text": [
      "loss - 0.3934: 100%|██████████| 14/14 [00:04<00:00,  2.89it/s]\n",
      "  0%|          | 0/2 [00:00<?, ?it/s]"
     ]
    },
    {
     "name": "stdout",
     "output_type": "stream",
     "text": [
      "epoch - 25 train_loss - 0.40 acc - 0.805 auc - 0.869\n"
     ]
    },
    {
     "name": "stderr",
     "output_type": "stream",
     "text": [
      "valid loss - 0.5234: 100%|██████████| 2/2 [00:00<00:00,  2.35it/s]\n",
      "  0%|          | 0/14 [00:00<?, ?it/s]"
     ]
    },
    {
     "name": "stdout",
     "output_type": "stream",
     "text": [
      "epoch - 25 val_loss - 0.51 val acc - 0.737 val auc - 0.803\n"
     ]
    },
    {
     "name": "stderr",
     "output_type": "stream",
     "text": [
      "loss - 0.3956: 100%|██████████| 14/14 [00:05<00:00,  2.72it/s]\n",
      "  0%|          | 0/2 [00:00<?, ?it/s]"
     ]
    },
    {
     "name": "stdout",
     "output_type": "stream",
     "text": [
      "epoch - 26 train_loss - 0.40 acc - 0.806 auc - 0.871\n"
     ]
    },
    {
     "name": "stderr",
     "output_type": "stream",
     "text": [
      "valid loss - 0.5256: 100%|██████████| 2/2 [00:00<00:00,  2.36it/s]\n",
      "  0%|          | 0/14 [00:00<?, ?it/s]"
     ]
    },
    {
     "name": "stdout",
     "output_type": "stream",
     "text": [
      "epoch - 26 val_loss - 0.51 val acc - 0.738 val auc - 0.802\n"
     ]
    },
    {
     "name": "stderr",
     "output_type": "stream",
     "text": [
      "loss - 0.3740: 100%|██████████| 14/14 [00:04<00:00,  2.92it/s]\n",
      "  0%|          | 0/2 [00:00<?, ?it/s]"
     ]
    },
    {
     "name": "stdout",
     "output_type": "stream",
     "text": [
      "epoch - 27 train_loss - 0.40 acc - 0.806 auc - 0.872\n"
     ]
    },
    {
     "name": "stderr",
     "output_type": "stream",
     "text": [
      "valid loss - 0.5067: 100%|██████████| 2/2 [00:00<00:00,  2.33it/s]\n",
      "  0%|          | 0/14 [00:00<?, ?it/s]"
     ]
    },
    {
     "name": "stdout",
     "output_type": "stream",
     "text": [
      "epoch - 27 val_loss - 0.51 val acc - 0.738 val auc - 0.803\n"
     ]
    },
    {
     "name": "stderr",
     "output_type": "stream",
     "text": [
      "loss - 0.3986: 100%|██████████| 14/14 [00:05<00:00,  2.65it/s]\n",
      "  0%|          | 0/2 [00:00<?, ?it/s]"
     ]
    },
    {
     "name": "stdout",
     "output_type": "stream",
     "text": [
      "epoch - 28 train_loss - 0.39 acc - 0.808 auc - 0.873\n"
     ]
    },
    {
     "name": "stderr",
     "output_type": "stream",
     "text": [
      "valid loss - 0.5101: 100%|██████████| 2/2 [00:01<00:00,  1.78it/s]\n",
      "  0%|          | 0/14 [00:00<?, ?it/s]"
     ]
    },
    {
     "name": "stdout",
     "output_type": "stream",
     "text": [
      "epoch - 28 val_loss - 0.51 val acc - 0.736 val auc - 0.802\n"
     ]
    },
    {
     "name": "stderr",
     "output_type": "stream",
     "text": [
      "loss - 0.3999: 100%|██████████| 14/14 [00:05<00:00,  2.41it/s]\n",
      "  0%|          | 0/2 [00:00<?, ?it/s]"
     ]
    },
    {
     "name": "stdout",
     "output_type": "stream",
     "text": [
      "epoch - 29 train_loss - 0.39 acc - 0.809 auc - 0.875\n"
     ]
    },
    {
     "name": "stderr",
     "output_type": "stream",
     "text": [
      "valid loss - 0.5196: 100%|██████████| 2/2 [00:00<00:00,  2.17it/s]\n",
      "  0%|          | 0/2 [00:00<?, ?it/s]"
     ]
    },
    {
     "name": "stdout",
     "output_type": "stream",
     "text": [
      "epoch - 29 val_loss - 0.51 val acc - 0.738 val auc - 0.803\n",
      "Val Loss does not improve for 5 consecutive epochs\n"
     ]
    },
    {
     "name": "stderr",
     "output_type": "stream",
     "text": [
      "valid loss - 0.3580: 100%|██████████| 2/2 [00:00<00:00,  2.19it/s]\n",
      "  0%|          | 0/14 [00:00<?, ?it/s]"
     ]
    },
    {
     "name": "stdout",
     "output_type": "stream",
     "text": [
      "epoch - 29 test_loss - 0.37 acc - 0.827 auc - 0.871\n"
     ]
    },
    {
     "name": "stderr",
     "output_type": "stream",
     "text": [
      "valid loss - 0.3844: 100%|██████████| 14/14 [00:04<00:00,  2.82it/s]\n",
      "  0%|          | 0/14 [00:00<?, ?it/s]"
     ]
    },
    {
     "name": "stdout",
     "output_type": "stream",
     "text": [
      "----------------------------------------------------------------------------\n"
     ]
    },
    {
     "name": "stderr",
     "output_type": "stream",
     "text": [
      "loss - 0.5359: 100%|██████████| 14/14 [00:05<00:00,  2.53it/s]\n",
      "  0%|          | 0/2 [00:00<?, ?it/s]"
     ]
    },
    {
     "name": "stdout",
     "output_type": "stream",
     "text": [
      "epoch - 0 train_loss - 0.60 acc - 0.691 auc - 0.598\n"
     ]
    },
    {
     "name": "stderr",
     "output_type": "stream",
     "text": [
      "valid loss - 0.6097: 100%|██████████| 2/2 [00:00<00:00,  2.18it/s]\n",
      "  0%|          | 0/14 [00:00<?, ?it/s]"
     ]
    },
    {
     "name": "stdout",
     "output_type": "stream",
     "text": [
      "epoch - 0 val_loss - 0.62 val acc - 0.660 val auc - 0.638\n"
     ]
    },
    {
     "name": "stderr",
     "output_type": "stream",
     "text": [
      "loss - 0.5259: 100%|██████████| 14/14 [00:05<00:00,  2.71it/s]\n",
      "  0%|          | 0/2 [00:00<?, ?it/s]"
     ]
    },
    {
     "name": "stdout",
     "output_type": "stream",
     "text": [
      "epoch - 1 train_loss - 0.54 acc - 0.732 auc - 0.721\n"
     ]
    },
    {
     "name": "stderr",
     "output_type": "stream",
     "text": [
      "valid loss - 0.5831: 100%|██████████| 2/2 [00:00<00:00,  2.30it/s]\n",
      "  0%|          | 0/14 [00:00<?, ?it/s]"
     ]
    },
    {
     "name": "stdout",
     "output_type": "stream",
     "text": [
      "epoch - 1 val_loss - 0.59 val acc - 0.688 val auc - 0.690\n"
     ]
    },
    {
     "name": "stderr",
     "output_type": "stream",
     "text": [
      "loss - 0.4937: 100%|██████████| 14/14 [00:05<00:00,  2.51it/s]\n",
      "  0%|          | 0/2 [00:00<?, ?it/s]"
     ]
    },
    {
     "name": "stdout",
     "output_type": "stream",
     "text": [
      "epoch - 2 train_loss - 0.51 acc - 0.748 auc - 0.755\n"
     ]
    },
    {
     "name": "stderr",
     "output_type": "stream",
     "text": [
      "valid loss - 0.5675: 100%|██████████| 2/2 [00:00<00:00,  2.04it/s]\n",
      "  0%|          | 0/14 [00:00<?, ?it/s]"
     ]
    },
    {
     "name": "stdout",
     "output_type": "stream",
     "text": [
      "epoch - 2 val_loss - 0.58 val acc - 0.699 val auc - 0.720\n"
     ]
    },
    {
     "name": "stderr",
     "output_type": "stream",
     "text": [
      "loss - 0.5034: 100%|██████████| 14/14 [00:05<00:00,  2.52it/s]\n",
      "  0%|          | 0/2 [00:00<?, ?it/s]"
     ]
    },
    {
     "name": "stdout",
     "output_type": "stream",
     "text": [
      "epoch - 3 train_loss - 0.50 acc - 0.756 auc - 0.777\n"
     ]
    },
    {
     "name": "stderr",
     "output_type": "stream",
     "text": [
      "valid loss - 0.5513: 100%|██████████| 2/2 [00:00<00:00,  2.32it/s]\n",
      "  0%|          | 0/14 [00:00<?, ?it/s]"
     ]
    },
    {
     "name": "stdout",
     "output_type": "stream",
     "text": [
      "epoch - 3 val_loss - 0.56 val acc - 0.711 val auc - 0.739\n"
     ]
    },
    {
     "name": "stderr",
     "output_type": "stream",
     "text": [
      "loss - 0.4739: 100%|██████████| 14/14 [00:04<00:00,  2.86it/s]\n",
      "  0%|          | 0/2 [00:00<?, ?it/s]"
     ]
    },
    {
     "name": "stdout",
     "output_type": "stream",
     "text": [
      "epoch - 4 train_loss - 0.48 acc - 0.765 auc - 0.795\n"
     ]
    },
    {
     "name": "stderr",
     "output_type": "stream",
     "text": [
      "valid loss - 0.5463: 100%|██████████| 2/2 [00:00<00:00,  2.31it/s]\n",
      "  0%|          | 0/14 [00:00<?, ?it/s]"
     ]
    },
    {
     "name": "stdout",
     "output_type": "stream",
     "text": [
      "epoch - 4 val_loss - 0.55 val acc - 0.719 val auc - 0.756\n"
     ]
    },
    {
     "name": "stderr",
     "output_type": "stream",
     "text": [
      "loss - 0.4578: 100%|██████████| 14/14 [00:05<00:00,  2.70it/s]\n",
      "  0%|          | 0/2 [00:00<?, ?it/s]"
     ]
    },
    {
     "name": "stdout",
     "output_type": "stream",
     "text": [
      "epoch - 5 train_loss - 0.47 acc - 0.772 auc - 0.810\n"
     ]
    },
    {
     "name": "stderr",
     "output_type": "stream",
     "text": [
      "valid loss - 0.5452: 100%|██████████| 2/2 [00:00<00:00,  2.31it/s]\n",
      "  0%|          | 0/14 [00:00<?, ?it/s]"
     ]
    },
    {
     "name": "stdout",
     "output_type": "stream",
     "text": [
      "epoch - 5 val_loss - 0.54 val acc - 0.725 val auc - 0.768\n"
     ]
    },
    {
     "name": "stderr",
     "output_type": "stream",
     "text": [
      "loss - 0.4742: 100%|██████████| 14/14 [00:04<00:00,  2.89it/s]\n",
      "  0%|          | 0/2 [00:00<?, ?it/s]"
     ]
    },
    {
     "name": "stdout",
     "output_type": "stream",
     "text": [
      "epoch - 6 train_loss - 0.46 acc - 0.778 auc - 0.821\n"
     ]
    },
    {
     "name": "stderr",
     "output_type": "stream",
     "text": [
      "valid loss - 0.5254: 100%|██████████| 2/2 [00:00<00:00,  2.30it/s]\n",
      "  0%|          | 0/14 [00:00<?, ?it/s]"
     ]
    },
    {
     "name": "stdout",
     "output_type": "stream",
     "text": [
      "epoch - 6 val_loss - 0.53 val acc - 0.724 val auc - 0.773\n"
     ]
    },
    {
     "name": "stderr",
     "output_type": "stream",
     "text": [
      "loss - 0.4437: 100%|██████████| 14/14 [00:05<00:00,  2.56it/s]\n",
      "  0%|          | 0/2 [00:00<?, ?it/s]"
     ]
    },
    {
     "name": "stdout",
     "output_type": "stream",
     "text": [
      "epoch - 7 train_loss - 0.45 acc - 0.780 auc - 0.828\n"
     ]
    },
    {
     "name": "stderr",
     "output_type": "stream",
     "text": [
      "valid loss - 0.5431: 100%|██████████| 2/2 [00:00<00:00,  2.00it/s]\n",
      "  0%|          | 0/14 [00:00<?, ?it/s]"
     ]
    },
    {
     "name": "stdout",
     "output_type": "stream",
     "text": [
      "epoch - 7 val_loss - 0.53 val acc - 0.728 val auc - 0.777\n"
     ]
    },
    {
     "name": "stderr",
     "output_type": "stream",
     "text": [
      "loss - 0.4292: 100%|██████████| 14/14 [00:05<00:00,  2.58it/s]\n",
      "  0%|          | 0/2 [00:00<?, ?it/s]"
     ]
    },
    {
     "name": "stdout",
     "output_type": "stream",
     "text": [
      "epoch - 8 train_loss - 0.45 acc - 0.782 auc - 0.834\n"
     ]
    },
    {
     "name": "stderr",
     "output_type": "stream",
     "text": [
      "valid loss - 0.5457: 100%|██████████| 2/2 [00:01<00:00,  1.36it/s]\n",
      "  0%|          | 0/14 [00:00<?, ?it/s]"
     ]
    },
    {
     "name": "stdout",
     "output_type": "stream",
     "text": [
      "epoch - 8 val_loss - 0.53 val acc - 0.727 val auc - 0.780\n"
     ]
    },
    {
     "name": "stderr",
     "output_type": "stream",
     "text": [
      "loss - 0.4449: 100%|██████████| 14/14 [00:05<00:00,  2.67it/s]\n",
      "  0%|          | 0/2 [00:00<?, ?it/s]"
     ]
    },
    {
     "name": "stdout",
     "output_type": "stream",
     "text": [
      "epoch - 9 train_loss - 0.44 acc - 0.784 auc - 0.838\n"
     ]
    },
    {
     "name": "stderr",
     "output_type": "stream",
     "text": [
      "valid loss - 0.5182: 100%|██████████| 2/2 [00:00<00:00,  2.18it/s]\n",
      "  0%|          | 0/14 [00:00<?, ?it/s]"
     ]
    },
    {
     "name": "stdout",
     "output_type": "stream",
     "text": [
      "epoch - 9 val_loss - 0.53 val acc - 0.728 val auc - 0.781\n"
     ]
    },
    {
     "name": "stderr",
     "output_type": "stream",
     "text": [
      "loss - 0.4076: 100%|██████████| 14/14 [00:05<00:00,  2.53it/s]\n",
      "  0%|          | 0/2 [00:00<?, ?it/s]"
     ]
    },
    {
     "name": "stdout",
     "output_type": "stream",
     "text": [
      "epoch - 10 train_loss - 0.44 acc - 0.786 auc - 0.841\n"
     ]
    },
    {
     "name": "stderr",
     "output_type": "stream",
     "text": [
      "valid loss - 0.5358: 100%|██████████| 2/2 [00:00<00:00,  2.19it/s]\n",
      "  0%|          | 0/14 [00:00<?, ?it/s]"
     ]
    },
    {
     "name": "stdout",
     "output_type": "stream",
     "text": [
      "epoch - 10 val_loss - 0.53 val acc - 0.731 val auc - 0.784\n"
     ]
    },
    {
     "name": "stderr",
     "output_type": "stream",
     "text": [
      "loss - 0.4311: 100%|██████████| 14/14 [00:05<00:00,  2.72it/s]\n",
      "  0%|          | 0/2 [00:00<?, ?it/s]"
     ]
    },
    {
     "name": "stdout",
     "output_type": "stream",
     "text": [
      "epoch - 11 train_loss - 0.43 acc - 0.788 auc - 0.844\n"
     ]
    },
    {
     "name": "stderr",
     "output_type": "stream",
     "text": [
      "valid loss - 0.5328: 100%|██████████| 2/2 [00:00<00:00,  2.25it/s]\n",
      "  0%|          | 0/14 [00:00<?, ?it/s]"
     ]
    },
    {
     "name": "stdout",
     "output_type": "stream",
     "text": [
      "epoch - 11 val_loss - 0.53 val acc - 0.732 val auc - 0.785\n"
     ]
    },
    {
     "name": "stderr",
     "output_type": "stream",
     "text": [
      "loss - 0.4353: 100%|██████████| 14/14 [00:05<00:00,  2.74it/s]\n",
      "  0%|          | 0/2 [00:00<?, ?it/s]"
     ]
    },
    {
     "name": "stdout",
     "output_type": "stream",
     "text": [
      "epoch - 12 train_loss - 0.43 acc - 0.788 auc - 0.847\n"
     ]
    },
    {
     "name": "stderr",
     "output_type": "stream",
     "text": [
      "valid loss - 0.5300: 100%|██████████| 2/2 [00:01<00:00,  1.99it/s]\n",
      "  0%|          | 0/14 [00:00<?, ?it/s]"
     ]
    },
    {
     "name": "stdout",
     "output_type": "stream",
     "text": [
      "epoch - 12 val_loss - 0.52 val acc - 0.731 val auc - 0.786\n"
     ]
    },
    {
     "name": "stderr",
     "output_type": "stream",
     "text": [
      "loss - 0.4402: 100%|██████████| 14/14 [00:05<00:00,  2.61it/s]\n",
      "  0%|          | 0/2 [00:00<?, ?it/s]"
     ]
    },
    {
     "name": "stdout",
     "output_type": "stream",
     "text": [
      "epoch - 13 train_loss - 0.43 acc - 0.790 auc - 0.849\n"
     ]
    },
    {
     "name": "stderr",
     "output_type": "stream",
     "text": [
      "valid loss - 0.5121: 100%|██████████| 2/2 [00:00<00:00,  2.32it/s]\n",
      "  0%|          | 0/14 [00:00<?, ?it/s]"
     ]
    },
    {
     "name": "stdout",
     "output_type": "stream",
     "text": [
      "epoch - 13 val_loss - 0.52 val acc - 0.733 val auc - 0.787\n"
     ]
    },
    {
     "name": "stderr",
     "output_type": "stream",
     "text": [
      "loss - 0.4170: 100%|██████████| 14/14 [00:04<00:00,  2.86it/s]\n",
      "  0%|          | 0/2 [00:00<?, ?it/s]"
     ]
    },
    {
     "name": "stdout",
     "output_type": "stream",
     "text": [
      "epoch - 14 train_loss - 0.42 acc - 0.791 auc - 0.851\n"
     ]
    },
    {
     "name": "stderr",
     "output_type": "stream",
     "text": [
      "valid loss - 0.5330: 100%|██████████| 2/2 [00:00<00:00,  2.29it/s]\n",
      "  0%|          | 0/14 [00:00<?, ?it/s]"
     ]
    },
    {
     "name": "stdout",
     "output_type": "stream",
     "text": [
      "epoch - 14 val_loss - 0.52 val acc - 0.733 val auc - 0.789\n"
     ]
    },
    {
     "name": "stderr",
     "output_type": "stream",
     "text": [
      "loss - 0.3995: 100%|██████████| 14/14 [00:05<00:00,  2.42it/s]\n",
      "  0%|          | 0/2 [00:00<?, ?it/s]"
     ]
    },
    {
     "name": "stdout",
     "output_type": "stream",
     "text": [
      "epoch - 15 train_loss - 0.42 acc - 0.792 auc - 0.853\n"
     ]
    },
    {
     "name": "stderr",
     "output_type": "stream",
     "text": [
      "valid loss - 0.5247: 100%|██████████| 2/2 [00:00<00:00,  2.30it/s]\n",
      "  0%|          | 0/14 [00:00<?, ?it/s]"
     ]
    },
    {
     "name": "stdout",
     "output_type": "stream",
     "text": [
      "epoch - 15 val_loss - 0.52 val acc - 0.735 val auc - 0.789\n"
     ]
    },
    {
     "name": "stderr",
     "output_type": "stream",
     "text": [
      "loss - 0.4108: 100%|██████████| 14/14 [00:04<00:00,  2.85it/s]\n",
      "  0%|          | 0/2 [00:00<?, ?it/s]"
     ]
    },
    {
     "name": "stdout",
     "output_type": "stream",
     "text": [
      "epoch - 16 train_loss - 0.42 acc - 0.793 auc - 0.855\n"
     ]
    },
    {
     "name": "stderr",
     "output_type": "stream",
     "text": [
      "valid loss - 0.5426: 100%|██████████| 2/2 [00:00<00:00,  2.30it/s]\n",
      "  0%|          | 0/14 [00:00<?, ?it/s]"
     ]
    },
    {
     "name": "stdout",
     "output_type": "stream",
     "text": [
      "epoch - 16 val_loss - 0.52 val acc - 0.735 val auc - 0.790\n"
     ]
    },
    {
     "name": "stderr",
     "output_type": "stream",
     "text": [
      "loss - 0.4116: 100%|██████████| 14/14 [00:05<00:00,  2.71it/s]\n",
      "  0%|          | 0/2 [00:00<?, ?it/s]"
     ]
    },
    {
     "name": "stdout",
     "output_type": "stream",
     "text": [
      "epoch - 17 train_loss - 0.42 acc - 0.794 auc - 0.856\n"
     ]
    },
    {
     "name": "stderr",
     "output_type": "stream",
     "text": [
      "valid loss - 0.5174: 100%|██████████| 2/2 [00:01<00:00,  1.71it/s]\n",
      "  0%|          | 0/14 [00:00<?, ?it/s]"
     ]
    },
    {
     "name": "stdout",
     "output_type": "stream",
     "text": [
      "epoch - 17 val_loss - 0.52 val acc - 0.734 val auc - 0.791\n"
     ]
    },
    {
     "name": "stderr",
     "output_type": "stream",
     "text": [
      "loss - 0.4164: 100%|██████████| 14/14 [00:05<00:00,  2.50it/s]\n",
      "  0%|          | 0/2 [00:00<?, ?it/s]"
     ]
    },
    {
     "name": "stdout",
     "output_type": "stream",
     "text": [
      "epoch - 18 train_loss - 0.42 acc - 0.795 auc - 0.858\n"
     ]
    },
    {
     "name": "stderr",
     "output_type": "stream",
     "text": [
      "valid loss - 0.5117: 100%|██████████| 2/2 [00:00<00:00,  2.17it/s]\n",
      "  0%|          | 0/14 [00:00<?, ?it/s]"
     ]
    },
    {
     "name": "stdout",
     "output_type": "stream",
     "text": [
      "epoch - 18 val_loss - 0.52 val acc - 0.734 val auc - 0.791\n"
     ]
    },
    {
     "name": "stderr",
     "output_type": "stream",
     "text": [
      "loss - 0.4168: 100%|██████████| 14/14 [00:05<00:00,  2.66it/s]\n",
      "  0%|          | 0/2 [00:00<?, ?it/s]"
     ]
    },
    {
     "name": "stdout",
     "output_type": "stream",
     "text": [
      "epoch - 19 train_loss - 0.41 acc - 0.796 auc - 0.859\n"
     ]
    },
    {
     "name": "stderr",
     "output_type": "stream",
     "text": [
      "valid loss - 0.5126: 100%|██████████| 2/2 [00:00<00:00,  2.03it/s]\n",
      "  0%|          | 0/14 [00:00<?, ?it/s]"
     ]
    },
    {
     "name": "stdout",
     "output_type": "stream",
     "text": [
      "epoch - 19 val_loss - 0.52 val acc - 0.735 val auc - 0.791\n"
     ]
    },
    {
     "name": "stderr",
     "output_type": "stream",
     "text": [
      "loss - 0.4170: 100%|██████████| 14/14 [00:05<00:00,  2.63it/s]\n",
      "  0%|          | 0/2 [00:00<?, ?it/s]"
     ]
    },
    {
     "name": "stdout",
     "output_type": "stream",
     "text": [
      "epoch - 20 train_loss - 0.41 acc - 0.797 auc - 0.861\n"
     ]
    },
    {
     "name": "stderr",
     "output_type": "stream",
     "text": [
      "valid loss - 0.5075: 100%|██████████| 2/2 [00:00<00:00,  2.19it/s]\n",
      "  0%|          | 0/14 [00:00<?, ?it/s]"
     ]
    },
    {
     "name": "stdout",
     "output_type": "stream",
     "text": [
      "epoch - 20 val_loss - 0.52 val acc - 0.736 val auc - 0.792\n"
     ]
    },
    {
     "name": "stderr",
     "output_type": "stream",
     "text": [
      "loss - 0.4173: 100%|██████████| 14/14 [00:05<00:00,  2.38it/s]\n",
      "  0%|          | 0/2 [00:00<?, ?it/s]"
     ]
    },
    {
     "name": "stdout",
     "output_type": "stream",
     "text": [
      "epoch - 21 train_loss - 0.41 acc - 0.798 auc - 0.862\n"
     ]
    },
    {
     "name": "stderr",
     "output_type": "stream",
     "text": [
      "valid loss - 0.5158: 100%|██████████| 2/2 [00:00<00:00,  2.26it/s]\n",
      "  0%|          | 0/14 [00:00<?, ?it/s]"
     ]
    },
    {
     "name": "stdout",
     "output_type": "stream",
     "text": [
      "epoch - 21 val_loss - 0.52 val acc - 0.735 val auc - 0.792\n"
     ]
    },
    {
     "name": "stderr",
     "output_type": "stream",
     "text": [
      "loss - 0.4144: 100%|██████████| 14/14 [00:05<00:00,  2.73it/s]\n",
      "  0%|          | 0/2 [00:00<?, ?it/s]"
     ]
    },
    {
     "name": "stdout",
     "output_type": "stream",
     "text": [
      "epoch - 22 train_loss - 0.41 acc - 0.799 auc - 0.863\n"
     ]
    },
    {
     "name": "stderr",
     "output_type": "stream",
     "text": [
      "valid loss - 0.5115: 100%|██████████| 2/2 [00:01<00:00,  1.83it/s]\n",
      "  0%|          | 0/14 [00:00<?, ?it/s]"
     ]
    },
    {
     "name": "stdout",
     "output_type": "stream",
     "text": [
      "epoch - 22 val_loss - 0.52 val acc - 0.737 val auc - 0.793\n"
     ]
    },
    {
     "name": "stderr",
     "output_type": "stream",
     "text": [
      "loss - 0.4268: 100%|██████████| 14/14 [00:05<00:00,  2.70it/s]\n",
      "  0%|          | 0/2 [00:00<?, ?it/s]"
     ]
    },
    {
     "name": "stdout",
     "output_type": "stream",
     "text": [
      "epoch - 23 train_loss - 0.41 acc - 0.800 auc - 0.865\n"
     ]
    },
    {
     "name": "stderr",
     "output_type": "stream",
     "text": [
      "valid loss - 0.5091: 100%|██████████| 2/2 [00:00<00:00,  2.33it/s]\n",
      "  0%|          | 0/14 [00:00<?, ?it/s]"
     ]
    },
    {
     "name": "stdout",
     "output_type": "stream",
     "text": [
      "epoch - 23 val_loss - 0.52 val acc - 0.736 val auc - 0.793\n"
     ]
    },
    {
     "name": "stderr",
     "output_type": "stream",
     "text": [
      "loss - 0.3681: 100%|██████████| 14/14 [00:04<00:00,  2.86it/s]\n",
      "  0%|          | 0/2 [00:00<?, ?it/s]"
     ]
    },
    {
     "name": "stdout",
     "output_type": "stream",
     "text": [
      "epoch - 24 train_loss - 0.40 acc - 0.801 auc - 0.866\n"
     ]
    },
    {
     "name": "stderr",
     "output_type": "stream",
     "text": [
      "valid loss - 0.5213: 100%|██████████| 2/2 [00:01<00:00,  1.74it/s]\n",
      "  0%|          | 0/14 [00:00<?, ?it/s]"
     ]
    },
    {
     "name": "stdout",
     "output_type": "stream",
     "text": [
      "epoch - 24 val_loss - 0.52 val acc - 0.735 val auc - 0.793\n"
     ]
    },
    {
     "name": "stderr",
     "output_type": "stream",
     "text": [
      "loss - 0.4173: 100%|██████████| 14/14 [00:04<00:00,  2.89it/s]\n",
      "  0%|          | 0/2 [00:00<?, ?it/s]"
     ]
    },
    {
     "name": "stdout",
     "output_type": "stream",
     "text": [
      "epoch - 25 train_loss - 0.40 acc - 0.802 auc - 0.867\n"
     ]
    },
    {
     "name": "stderr",
     "output_type": "stream",
     "text": [
      "valid loss - 0.5211: 100%|██████████| 2/2 [00:00<00:00,  2.33it/s]\n",
      "  0%|          | 0/14 [00:00<?, ?it/s]"
     ]
    },
    {
     "name": "stdout",
     "output_type": "stream",
     "text": [
      "epoch - 25 val_loss - 0.52 val acc - 0.738 val auc - 0.794\n"
     ]
    },
    {
     "name": "stderr",
     "output_type": "stream",
     "text": [
      "loss - 0.4307: 100%|██████████| 14/14 [00:05<00:00,  2.69it/s]\n",
      "  0%|          | 0/2 [00:00<?, ?it/s]"
     ]
    },
    {
     "name": "stdout",
     "output_type": "stream",
     "text": [
      "epoch - 26 train_loss - 0.40 acc - 0.803 auc - 0.869\n"
     ]
    },
    {
     "name": "stderr",
     "output_type": "stream",
     "text": [
      "valid loss - 0.5350: 100%|██████████| 2/2 [00:01<00:00,  1.47it/s]\n",
      "  0%|          | 0/14 [00:00<?, ?it/s]"
     ]
    },
    {
     "name": "stdout",
     "output_type": "stream",
     "text": [
      "epoch - 26 val_loss - 0.52 val acc - 0.737 val auc - 0.794\n"
     ]
    },
    {
     "name": "stderr",
     "output_type": "stream",
     "text": [
      "loss - 0.3856: 100%|██████████| 14/14 [00:05<00:00,  2.63it/s]\n",
      "  0%|          | 0/2 [00:00<?, ?it/s]"
     ]
    },
    {
     "name": "stdout",
     "output_type": "stream",
     "text": [
      "epoch - 27 train_loss - 0.40 acc - 0.804 auc - 0.870\n"
     ]
    },
    {
     "name": "stderr",
     "output_type": "stream",
     "text": [
      "valid loss - 0.5101: 100%|██████████| 2/2 [00:01<00:00,  1.57it/s]\n",
      "  0%|          | 0/14 [00:00<?, ?it/s]"
     ]
    },
    {
     "name": "stdout",
     "output_type": "stream",
     "text": [
      "epoch - 27 val_loss - 0.52 val acc - 0.736 val auc - 0.794\n"
     ]
    },
    {
     "name": "stderr",
     "output_type": "stream",
     "text": [
      "loss - 0.4091: 100%|██████████| 14/14 [00:05<00:00,  2.46it/s]\n",
      "  0%|          | 0/2 [00:00<?, ?it/s]"
     ]
    },
    {
     "name": "stdout",
     "output_type": "stream",
     "text": [
      "epoch - 28 train_loss - 0.40 acc - 0.805 auc - 0.871\n"
     ]
    },
    {
     "name": "stderr",
     "output_type": "stream",
     "text": [
      "valid loss - 0.5387: 100%|██████████| 2/2 [00:00<00:00,  2.18it/s]\n",
      "  0%|          | 0/2 [00:00<?, ?it/s]"
     ]
    },
    {
     "name": "stdout",
     "output_type": "stream",
     "text": [
      "epoch - 28 val_loss - 0.52 val acc - 0.736 val auc - 0.794\n",
      "Val Loss does not improve for 5 consecutive epochs\n"
     ]
    },
    {
     "name": "stderr",
     "output_type": "stream",
     "text": [
      "valid loss - 0.4058: 100%|██████████| 2/2 [00:00<00:00,  2.17it/s]\n",
      "  0%|          | 0/14 [00:00<?, ?it/s]"
     ]
    },
    {
     "name": "stdout",
     "output_type": "stream",
     "text": [
      "epoch - 28 test_loss - 0.36 acc - 0.836 auc - 0.877\n"
     ]
    },
    {
     "name": "stderr",
     "output_type": "stream",
     "text": [
      "valid loss - 0.3851: 100%|██████████| 14/14 [00:05<00:00,  2.64it/s]\n",
      "  0%|          | 0/14 [00:00<?, ?it/s]"
     ]
    },
    {
     "name": "stdout",
     "output_type": "stream",
     "text": [
      "----------------------------------------------------------------------------\n"
     ]
    },
    {
     "name": "stderr",
     "output_type": "stream",
     "text": [
      "loss - 0.5420: 100%|██████████| 14/14 [00:05<00:00,  2.70it/s]\n",
      "  0%|          | 0/2 [00:00<?, ?it/s]"
     ]
    },
    {
     "name": "stdout",
     "output_type": "stream",
     "text": [
      "epoch - 0 train_loss - 0.59 acc - 0.704 auc - 0.623\n"
     ]
    },
    {
     "name": "stderr",
     "output_type": "stream",
     "text": [
      "valid loss - 0.5962: 100%|██████████| 2/2 [00:00<00:00,  2.16it/s]\n",
      "  0%|          | 0/14 [00:00<?, ?it/s]"
     ]
    },
    {
     "name": "stdout",
     "output_type": "stream",
     "text": [
      "epoch - 0 val_loss - 0.60 val acc - 0.676 val auc - 0.676\n"
     ]
    },
    {
     "name": "stderr",
     "output_type": "stream",
     "text": [
      "loss - 0.5171: 100%|██████████| 14/14 [00:05<00:00,  2.67it/s]\n",
      "  0%|          | 0/2 [00:00<?, ?it/s]"
     ]
    },
    {
     "name": "stdout",
     "output_type": "stream",
     "text": [
      "epoch - 1 train_loss - 0.53 acc - 0.738 auc - 0.732\n"
     ]
    },
    {
     "name": "stderr",
     "output_type": "stream",
     "text": [
      "valid loss - 0.5756: 100%|██████████| 2/2 [00:00<00:00,  2.19it/s]\n",
      "  0%|          | 0/14 [00:00<?, ?it/s]"
     ]
    },
    {
     "name": "stdout",
     "output_type": "stream",
     "text": [
      "epoch - 1 val_loss - 0.58 val acc - 0.698 val auc - 0.714\n"
     ]
    },
    {
     "name": "stderr",
     "output_type": "stream",
     "text": [
      "loss - 0.5081: 100%|██████████| 14/14 [00:05<00:00,  2.37it/s]\n",
      "  0%|          | 0/2 [00:00<?, ?it/s]"
     ]
    },
    {
     "name": "stdout",
     "output_type": "stream",
     "text": [
      "epoch - 2 train_loss - 0.51 acc - 0.750 auc - 0.759\n"
     ]
    },
    {
     "name": "stderr",
     "output_type": "stream",
     "text": [
      "valid loss - 0.5575: 100%|██████████| 2/2 [00:01<00:00,  1.40it/s]\n",
      "  0%|          | 0/14 [00:00<?, ?it/s]"
     ]
    },
    {
     "name": "stdout",
     "output_type": "stream",
     "text": [
      "epoch - 2 val_loss - 0.56 val acc - 0.710 val auc - 0.737\n"
     ]
    },
    {
     "name": "stderr",
     "output_type": "stream",
     "text": [
      "loss - 0.4678: 100%|██████████| 14/14 [00:05<00:00,  2.69it/s]\n",
      "  0%|          | 0/2 [00:00<?, ?it/s]"
     ]
    },
    {
     "name": "stdout",
     "output_type": "stream",
     "text": [
      "epoch - 3 train_loss - 0.50 acc - 0.759 auc - 0.778\n"
     ]
    },
    {
     "name": "stderr",
     "output_type": "stream",
     "text": [
      "valid loss - 0.5373: 100%|██████████| 2/2 [00:00<00:00,  2.16it/s]\n",
      "  0%|          | 0/14 [00:00<?, ?it/s]"
     ]
    },
    {
     "name": "stdout",
     "output_type": "stream",
     "text": [
      "epoch - 3 val_loss - 0.55 val acc - 0.720 val auc - 0.756\n"
     ]
    },
    {
     "name": "stderr",
     "output_type": "stream",
     "text": [
      "loss - 0.5181: 100%|██████████| 14/14 [00:05<00:00,  2.52it/s]\n",
      "  0%|          | 0/2 [00:00<?, ?it/s]"
     ]
    },
    {
     "name": "stdout",
     "output_type": "stream",
     "text": [
      "epoch - 4 train_loss - 0.48 acc - 0.766 auc - 0.795\n"
     ]
    },
    {
     "name": "stderr",
     "output_type": "stream",
     "text": [
      "valid loss - 0.5338: 100%|██████████| 2/2 [00:00<00:00,  2.16it/s]\n",
      "  0%|          | 0/14 [00:00<?, ?it/s]"
     ]
    },
    {
     "name": "stdout",
     "output_type": "stream",
     "text": [
      "epoch - 4 val_loss - 0.54 val acc - 0.726 val auc - 0.770\n"
     ]
    },
    {
     "name": "stderr",
     "output_type": "stream",
     "text": [
      "loss - 0.4795: 100%|██████████| 14/14 [00:05<00:00,  2.69it/s]\n",
      "  0%|          | 0/2 [00:00<?, ?it/s]"
     ]
    },
    {
     "name": "stdout",
     "output_type": "stream",
     "text": [
      "epoch - 5 train_loss - 0.47 acc - 0.773 auc - 0.809\n"
     ]
    },
    {
     "name": "stderr",
     "output_type": "stream",
     "text": [
      "valid loss - 0.5164: 100%|██████████| 2/2 [00:00<00:00,  2.23it/s]\n",
      "  0%|          | 0/14 [00:00<?, ?it/s]"
     ]
    },
    {
     "name": "stdout",
     "output_type": "stream",
     "text": [
      "epoch - 5 val_loss - 0.53 val acc - 0.734 val auc - 0.782\n"
     ]
    },
    {
     "name": "stderr",
     "output_type": "stream",
     "text": [
      "loss - 0.4331: 100%|██████████| 14/14 [00:05<00:00,  2.73it/s]\n",
      "  0%|          | 0/2 [00:00<?, ?it/s]"
     ]
    },
    {
     "name": "stdout",
     "output_type": "stream",
     "text": [
      "epoch - 6 train_loss - 0.46 acc - 0.777 auc - 0.820\n"
     ]
    },
    {
     "name": "stderr",
     "output_type": "stream",
     "text": [
      "valid loss - 0.5170: 100%|██████████| 2/2 [00:00<00:00,  2.31it/s]\n",
      "  0%|          | 0/14 [00:00<?, ?it/s]"
     ]
    },
    {
     "name": "stdout",
     "output_type": "stream",
     "text": [
      "epoch - 6 val_loss - 0.52 val acc - 0.735 val auc - 0.789\n"
     ]
    },
    {
     "name": "stderr",
     "output_type": "stream",
     "text": [
      "loss - 0.4278: 100%|██████████| 14/14 [00:05<00:00,  2.33it/s]\n",
      "  0%|          | 0/2 [00:00<?, ?it/s]"
     ]
    },
    {
     "name": "stdout",
     "output_type": "stream",
     "text": [
      "epoch - 7 train_loss - 0.45 acc - 0.781 auc - 0.828\n"
     ]
    },
    {
     "name": "stderr",
     "output_type": "stream",
     "text": [
      "valid loss - 0.5162: 100%|██████████| 2/2 [00:01<00:00,  1.66it/s]\n",
      "  0%|          | 0/14 [00:00<?, ?it/s]"
     ]
    },
    {
     "name": "stdout",
     "output_type": "stream",
     "text": [
      "epoch - 7 val_loss - 0.52 val acc - 0.738 val auc - 0.792\n"
     ]
    },
    {
     "name": "stderr",
     "output_type": "stream",
     "text": [
      "loss - 0.4284: 100%|██████████| 14/14 [00:04<00:00,  2.89it/s]\n",
      "  0%|          | 0/2 [00:00<?, ?it/s]"
     ]
    },
    {
     "name": "stdout",
     "output_type": "stream",
     "text": [
      "epoch - 8 train_loss - 0.44 acc - 0.783 auc - 0.834\n"
     ]
    },
    {
     "name": "stderr",
     "output_type": "stream",
     "text": [
      "valid loss - 0.5078: 100%|██████████| 2/2 [00:00<00:00,  2.32it/s]\n",
      "  0%|          | 0/14 [00:00<?, ?it/s]"
     ]
    },
    {
     "name": "stdout",
     "output_type": "stream",
     "text": [
      "epoch - 8 val_loss - 0.51 val acc - 0.739 val auc - 0.796\n"
     ]
    },
    {
     "name": "stderr",
     "output_type": "stream",
     "text": [
      "loss - 0.4387: 100%|██████████| 14/14 [00:05<00:00,  2.69it/s]\n",
      "  0%|          | 0/2 [00:00<?, ?it/s]"
     ]
    },
    {
     "name": "stdout",
     "output_type": "stream",
     "text": [
      "epoch - 9 train_loss - 0.44 acc - 0.786 auc - 0.839\n"
     ]
    },
    {
     "name": "stderr",
     "output_type": "stream",
     "text": [
      "valid loss - 0.4978: 100%|██████████| 2/2 [00:00<00:00,  2.34it/s]\n",
      "  0%|          | 0/14 [00:00<?, ?it/s]"
     ]
    },
    {
     "name": "stdout",
     "output_type": "stream",
     "text": [
      "epoch - 9 val_loss - 0.51 val acc - 0.739 val auc - 0.797\n"
     ]
    },
    {
     "name": "stderr",
     "output_type": "stream",
     "text": [
      "loss - 0.4456: 100%|██████████| 14/14 [00:04<00:00,  2.90it/s]\n",
      "  0%|          | 0/2 [00:00<?, ?it/s]"
     ]
    },
    {
     "name": "stdout",
     "output_type": "stream",
     "text": [
      "epoch - 10 train_loss - 0.43 acc - 0.788 auc - 0.843\n"
     ]
    },
    {
     "name": "stderr",
     "output_type": "stream",
     "text": [
      "valid loss - 0.5154: 100%|██████████| 2/2 [00:00<00:00,  2.04it/s]\n",
      "  0%|          | 0/14 [00:00<?, ?it/s]"
     ]
    },
    {
     "name": "stdout",
     "output_type": "stream",
     "text": [
      "epoch - 10 val_loss - 0.51 val acc - 0.740 val auc - 0.799\n"
     ]
    },
    {
     "name": "stderr",
     "output_type": "stream",
     "text": [
      "loss - 0.4474: 100%|██████████| 14/14 [00:05<00:00,  2.75it/s]\n",
      "  0%|          | 0/2 [00:00<?, ?it/s]"
     ]
    },
    {
     "name": "stdout",
     "output_type": "stream",
     "text": [
      "epoch - 11 train_loss - 0.43 acc - 0.790 auc - 0.846\n"
     ]
    },
    {
     "name": "stderr",
     "output_type": "stream",
     "text": [
      "valid loss - 0.4968: 100%|██████████| 2/2 [00:00<00:00,  2.22it/s]\n",
      "  0%|          | 0/14 [00:00<?, ?it/s]"
     ]
    },
    {
     "name": "stdout",
     "output_type": "stream",
     "text": [
      "epoch - 11 val_loss - 0.51 val acc - 0.741 val auc - 0.801\n"
     ]
    },
    {
     "name": "stderr",
     "output_type": "stream",
     "text": [
      "loss - 0.4347: 100%|██████████| 14/14 [00:05<00:00,  2.50it/s]\n",
      "  0%|          | 0/2 [00:00<?, ?it/s]"
     ]
    },
    {
     "name": "stdout",
     "output_type": "stream",
     "text": [
      "epoch - 12 train_loss - 0.43 acc - 0.791 auc - 0.849\n"
     ]
    },
    {
     "name": "stderr",
     "output_type": "stream",
     "text": [
      "valid loss - 0.4907: 100%|██████████| 2/2 [00:01<00:00,  1.50it/s]\n",
      "  0%|          | 0/14 [00:00<?, ?it/s]"
     ]
    },
    {
     "name": "stdout",
     "output_type": "stream",
     "text": [
      "epoch - 12 val_loss - 0.51 val acc - 0.741 val auc - 0.802\n"
     ]
    },
    {
     "name": "stderr",
     "output_type": "stream",
     "text": [
      "loss - 0.4182: 100%|██████████| 14/14 [00:06<00:00,  2.33it/s]\n",
      "  0%|          | 0/2 [00:00<?, ?it/s]"
     ]
    },
    {
     "name": "stdout",
     "output_type": "stream",
     "text": [
      "epoch - 13 train_loss - 0.42 acc - 0.792 auc - 0.851\n"
     ]
    },
    {
     "name": "stderr",
     "output_type": "stream",
     "text": [
      "valid loss - 0.5111: 100%|██████████| 2/2 [00:00<00:00,  2.17it/s]\n",
      "  0%|          | 0/14 [00:00<?, ?it/s]"
     ]
    },
    {
     "name": "stdout",
     "output_type": "stream",
     "text": [
      "epoch - 13 val_loss - 0.51 val acc - 0.742 val auc - 0.802\n"
     ]
    },
    {
     "name": "stderr",
     "output_type": "stream",
     "text": [
      "loss - 0.4401: 100%|██████████| 14/14 [00:05<00:00,  2.57it/s]\n",
      "  0%|          | 0/2 [00:00<?, ?it/s]"
     ]
    },
    {
     "name": "stdout",
     "output_type": "stream",
     "text": [
      "epoch - 14 train_loss - 0.42 acc - 0.794 auc - 0.853\n"
     ]
    },
    {
     "name": "stderr",
     "output_type": "stream",
     "text": [
      "valid loss - 0.5194: 100%|██████████| 2/2 [00:00<00:00,  2.18it/s]\n",
      "  0%|          | 0/14 [00:00<?, ?it/s]"
     ]
    },
    {
     "name": "stdout",
     "output_type": "stream",
     "text": [
      "epoch - 14 val_loss - 0.51 val acc - 0.743 val auc - 0.803\n"
     ]
    },
    {
     "name": "stderr",
     "output_type": "stream",
     "text": [
      "loss - 0.3980: 100%|██████████| 14/14 [00:05<00:00,  2.65it/s]\n",
      "  0%|          | 0/2 [00:00<?, ?it/s]"
     ]
    },
    {
     "name": "stdout",
     "output_type": "stream",
     "text": [
      "epoch - 15 train_loss - 0.42 acc - 0.795 auc - 0.855\n"
     ]
    },
    {
     "name": "stderr",
     "output_type": "stream",
     "text": [
      "valid loss - 0.5148: 100%|██████████| 2/2 [00:00<00:00,  2.28it/s]\n",
      "  0%|          | 0/14 [00:00<?, ?it/s]"
     ]
    },
    {
     "name": "stdout",
     "output_type": "stream",
     "text": [
      "epoch - 15 val_loss - 0.51 val acc - 0.740 val auc - 0.802\n"
     ]
    },
    {
     "name": "stderr",
     "output_type": "stream",
     "text": [
      "loss - 0.4302: 100%|██████████| 14/14 [00:04<00:00,  2.86it/s]\n",
      "  0%|          | 0/2 [00:00<?, ?it/s]"
     ]
    },
    {
     "name": "stdout",
     "output_type": "stream",
     "text": [
      "epoch - 16 train_loss - 0.42 acc - 0.796 auc - 0.857\n"
     ]
    },
    {
     "name": "stderr",
     "output_type": "stream",
     "text": [
      "valid loss - 0.5209: 100%|██████████| 2/2 [00:00<00:00,  2.27it/s]\n",
      "  0%|          | 0/14 [00:00<?, ?it/s]"
     ]
    },
    {
     "name": "stdout",
     "output_type": "stream",
     "text": [
      "epoch - 16 val_loss - 0.51 val acc - 0.743 val auc - 0.803\n"
     ]
    },
    {
     "name": "stderr",
     "output_type": "stream",
     "text": [
      "loss - 0.3997: 100%|██████████| 14/14 [00:05<00:00,  2.58it/s]\n",
      "  0%|          | 0/2 [00:00<?, ?it/s]"
     ]
    },
    {
     "name": "stdout",
     "output_type": "stream",
     "text": [
      "epoch - 17 train_loss - 0.41 acc - 0.797 auc - 0.859\n"
     ]
    },
    {
     "name": "stderr",
     "output_type": "stream",
     "text": [
      "valid loss - 0.4977: 100%|██████████| 2/2 [00:01<00:00,  1.66it/s]\n",
      "  0%|          | 0/2 [00:00<?, ?it/s]"
     ]
    },
    {
     "name": "stdout",
     "output_type": "stream",
     "text": [
      "epoch - 17 val_loss - 0.51 val acc - 0.744 val auc - 0.804\n",
      "Val Loss does not improve for 5 consecutive epochs\n"
     ]
    },
    {
     "name": "stderr",
     "output_type": "stream",
     "text": [
      "valid loss - 0.3704: 100%|██████████| 2/2 [00:00<00:00,  2.30it/s]\n",
      "  0%|          | 0/14 [00:00<?, ?it/s]"
     ]
    },
    {
     "name": "stdout",
     "output_type": "stream",
     "text": [
      "epoch - 17 test_loss - 0.37 acc - 0.823 auc - 0.870\n"
     ]
    },
    {
     "name": "stderr",
     "output_type": "stream",
     "text": [
      "valid loss - 0.4011: 100%|██████████| 14/14 [00:04<00:00,  3.02it/s]\n"
     ]
    }
   ],
   "source": [
    "#use KFold\n",
    "X = np.array(group.keys())\n",
    "kfold = KFold(n_splits=5, shuffle=True)\n",
    "train_losses = list()\n",
    "train_aucs = list()\n",
    "train_accs = list()\n",
    "val_losses = list()\n",
    "val_aucs = list()\n",
    "val_accs = list()\n",
    "test_losses = list()\n",
    "test_aucs = list()\n",
    "test_accs = list()\n",
    "for train, test in kfold.split(X):\n",
    "    users_train, users_test =  X[train], X[test]\n",
    "    n = len(users_test)//2\n",
    "    users_test, users_val = users_test[:n], users_test[n: ]\n",
    "    train = PRACTICE_DATASET(group[users_train])\n",
    "    valid = PRACTICE_DATASET(group[users_val])\n",
    "    test = PRACTICE_DATASET(group[users_test])\n",
    "    train_dataloader = DataLoader(train, batch_size=64, shuffle=True, num_workers=8)\n",
    "    val_dataloader = DataLoader(valid, batch_size=64, shuffle=True, num_workers=8)\n",
    "    test_dataloader = DataLoader(test, batch_size=64, shuffle=True, num_workers=8)\n",
    "    \n",
    "    device = torch.device(\"cuda\" if torch.cuda.is_available() else \"cpu\")\n",
    "    saint = SAKTModel(n_skill, n_part)\n",
    "    epochs = 100\n",
    "    criterion = nn.BCEWithLogitsLoss()\n",
    "    optimizer = torch.optim.Adam(saint.parameters(), betas=(0.9, 0.999), lr = 0.0005, eps=1e-8)\n",
    "    saint.to(device)\n",
    "    criterion.to(device)\n",
    "    \n",
    "    def train_epoch(model=saint, train_iterator=train_dataloader, optim=optimizer, criterion=criterion, device=device):\n",
    "        model.train()\n",
    "\n",
    "        train_loss = []\n",
    "        num_corrects = 0\n",
    "        num_total = 0\n",
    "        labels = []\n",
    "        outs = []\n",
    "        tbar = tqdm(train_iterator)\n",
    "        for item in tbar:\n",
    "            x = item[0].to(device).long()\n",
    "            question_id = item[1].to(device).long()\n",
    "            chapter = item[2].to(device).long()\n",
    "            schapter = item[3].to(device).long()\n",
    "            responses = item[4].to(device).long()\n",
    "#             user_feats = np.array(item[5])\n",
    "            user_feats = item[5].to(device).float()\n",
    "            label = item[6].to(device).float()            \n",
    "            target_mask = (question_id!=0)\n",
    "            optim.zero_grad()\n",
    "            output = model(x, question_id, chapter, schapter, responses, user_feats)\n",
    "            output = torch.reshape(output, label.shape)\n",
    "\n",
    "            output = torch.masked_select(output, target_mask)\n",
    "            label = torch.masked_select(label, target_mask)\n",
    "\n",
    "            loss = criterion(output, label)\n",
    "            loss.backward()\n",
    "            optim.step()\n",
    "            train_loss.append(loss.item())\n",
    "            pred = (torch.sigmoid(output) >= 0.5).long()\n",
    "\n",
    "            num_corrects += (pred == label).sum().item()\n",
    "            num_total += len(label)\n",
    "\n",
    "            labels.extend(label.view(-1).data.cpu().numpy())\n",
    "            outs.extend(output.view(-1).data.cpu().numpy())\n",
    "\n",
    "            tbar.set_description('loss - {:.4f}'.format(loss))\n",
    "        acc = num_corrects / num_total\n",
    "        auc = roc_auc_score(labels, outs)\n",
    "        loss = np.mean(train_loss)\n",
    "\n",
    "        return loss, acc, auc\n",
    "   \n",
    "\n",
    "    def val_epoch(model=saint, val_iterator=test_dataloader, \n",
    "              criterion=criterion, device=device):\n",
    "        model.eval()\n",
    "\n",
    "        train_loss = []\n",
    "        num_corrects = 0\n",
    "        num_total = 0\n",
    "        labels = []\n",
    "        outs = []\n",
    "        tbar = tqdm(val_iterator)\n",
    "        for item in tbar:\n",
    "            x = item[0].to(device).long()\n",
    "            question_id = item[1].to(device).long()\n",
    "            chapter = item[2].to(device).long()\n",
    "            schapter = item[3].to(device).long()\n",
    "            responses = item[4].to(device).long()\n",
    "            user_feats = item[5].to(device).float()\n",
    "            label = item[6].to(device).float()            \n",
    "            target_mask = (question_id!=0)\n",
    "            with torch.no_grad():\n",
    "                output = model(x, question_id, chapter, schapter, responses, user_feats)\n",
    "\n",
    "            output = torch.reshape(output, label.shape)\n",
    "            output = torch.masked_select(output, target_mask)\n",
    "            label = torch.masked_select(label, target_mask)\n",
    "\n",
    "            loss = criterion(output, label)\n",
    "            train_loss.append(loss.item())\n",
    "\n",
    "            pred = (torch.sigmoid(output) >= 0.5).long()\n",
    "            num_corrects += (pred == label).sum().item()\n",
    "            num_total += len(label)\n",
    "\n",
    "            labels.extend(label.view(-1).data.cpu().numpy())\n",
    "            outs.extend(output.view(-1).data.cpu().numpy())\n",
    "\n",
    "            tbar.set_description('valid loss - {:.4f}'.format(loss))\n",
    "\n",
    "        acc = num_corrects / num_total\n",
    "        auc = roc_auc_score(labels, outs)\n",
    "        loss = np.average(train_loss)\n",
    "\n",
    "        return loss, acc, auc\n",
    "    \n",
    "    MIN_VAL = 1000000000\n",
    "    count = 0\n",
    "    print('----------------------------------------------------------------------------')\n",
    "    for epoch in range(epochs):\n",
    "        train_loss, train_acc, train_auc = train_epoch(model=saint, device=device)\n",
    "        print(\"epoch - {} train_loss - {:.2f} acc - {:.3f} auc - {:.3f}\".format(epoch, train_loss, train_acc, train_auc))\n",
    "        val_loss, val_acc, val_auc = val_epoch(model=saint, val_iterator= val_dataloader, device=device)\n",
    "        print(\"epoch - {} val_loss - {:.2f} val acc - {:.3f} val auc - {:.3f}\".format(epoch, val_loss, val_acc, val_auc))\n",
    "        if val_loss < MIN_VAL:\n",
    "            count = 0\n",
    "            MIN_VAL = val_loss\n",
    "        else:\n",
    "            count += 1\n",
    "        if count == patience:\n",
    "            print('Val Loss does not improve for {} consecutive epochs'.format(patience))\n",
    "            break\n",
    "    test_loss, test_acc, test_auc = val_epoch(model=saint, device=device)\n",
    "    print(\"epoch - {} test_loss - {:.2f} acc - {:.3f} auc - {:.3f}\".format(epoch, test_loss, test_acc, test_auc))\n",
    "    train_loss, train_acc, train_auc = val_epoch(model=saint, val_iterator=train_dataloader, device=device)\n",
    "\n",
    "    test_losses.append(test_loss)\n",
    "    test_aucs.append(test_auc)\n",
    "    test_accs.append(test_acc)\n",
    "    train_aucs.append(train_auc)\n",
    "    train_losses.append(train_loss)\n",
    "    train_accs.append(train_acc)"
   ]
  },
  {
   "cell_type": "code",
   "execution_count": 31,
   "metadata": {
    "execution": {
     "iopub.execute_input": "2021-08-08T17:22:06.512806Z",
     "iopub.status.busy": "2021-08-08T17:22:06.511572Z",
     "iopub.status.idle": "2021-08-08T17:22:06.516507Z",
     "shell.execute_reply": "2021-08-08T17:22:06.517179Z"
    },
    "papermill": {
     "duration": 1.44892,
     "end_time": "2021-08-08T17:22:06.517361",
     "exception": false,
     "start_time": "2021-08-08T17:22:05.068441",
     "status": "completed"
    },
    "tags": []
   },
   "outputs": [
    {
     "name": "stdout",
     "output_type": "stream",
     "text": [
      "test avg loss:  0.3547820568084717 0.013756507532136619\n",
      "test avg acc:  0.8338478205692651 0.008385090038059576\n",
      "test avg auc:  0.8794341141792634 0.008982189020380844\n"
     ]
    }
   ],
   "source": [
    "#display test loss/acc/auc\n",
    "print(\"test avg loss: \", np.mean(test_losses), np.std(test_losses) )\n",
    "print(\"test avg acc: \", np.mean(test_accs), np.std(test_accs))\n",
    "print(\"test avg auc: \", np.mean(test_aucs), np.std(test_aucs))"
   ]
  },
  {
   "cell_type": "code",
   "execution_count": 32,
   "metadata": {
    "execution": {
     "iopub.execute_input": "2021-08-08T17:22:09.468439Z",
     "iopub.status.busy": "2021-08-08T17:22:09.467845Z",
     "iopub.status.idle": "2021-08-08T17:22:09.473602Z",
     "shell.execute_reply": "2021-08-08T17:22:09.474188Z"
    },
    "papermill": {
     "duration": 1.525611,
     "end_time": "2021-08-08T17:22:09.474366",
     "exception": false,
     "start_time": "2021-08-08T17:22:07.948755",
     "status": "completed"
    },
    "tags": []
   },
   "outputs": [
    {
     "name": "stdout",
     "output_type": "stream",
     "text": [
      "train avg loss:  0.3983836088861738 0.009232567823634198\n",
      "train avg acc:  0.8054326221042281 0.005327046020722512\n",
      "train avg auc:  0.8709563887932701 0.006343308249256363\n"
     ]
    }
   ],
   "source": [
    "#display train loss/acc/auc\n",
    "print(\"train avg loss: \", np.mean(train_losses), np.std(train_losses) )\n",
    "print(\"train avg acc: \", np.mean(train_accs), np.std(train_accs))\n",
    "print(\"train avg auc: \", np.mean(train_aucs), np.std(train_aucs))"
   ]
  }
 ],
 "metadata": {
  "kernelspec": {
   "display_name": "Python 3",
   "language": "python",
   "name": "python3"
  },
  "language_info": {
   "codemirror_mode": {
    "name": "ipython",
    "version": 3
   },
   "file_extension": ".py",
   "mimetype": "text/x-python",
   "name": "python",
   "nbconvert_exporter": "python",
   "pygments_lexer": "ipython3",
   "version": "3.8.5"
  },
  "papermill": {
   "default_parameters": {},
   "duration": 1360.877893,
   "end_time": "2021-08-08T17:22:13.167881",
   "environment_variables": {},
   "exception": null,
   "input_path": "__notebook__.ipynb",
   "output_path": "__notebook__.ipynb",
   "parameters": {},
   "start_time": "2021-08-08T16:59:32.289988",
   "version": "2.3.3"
  }
 },
 "nbformat": 4,
 "nbformat_minor": 5
}
