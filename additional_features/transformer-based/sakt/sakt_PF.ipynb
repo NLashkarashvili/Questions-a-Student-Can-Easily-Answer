{
 "cells": [
  {
   "cell_type": "code",
   "execution_count": 1,
   "metadata": {
    "_cell_guid": "79c7e3d0-c299-4dcb-8224-4455121ee9b0",
    "_uuid": "d629ff2d2480ee46fbb7e2d37f6b5fab8052498a",
    "execution": {
     "iopub.execute_input": "2021-08-08T18:08:50.855024Z",
     "iopub.status.busy": "2021-08-08T18:08:50.854366Z",
     "iopub.status.idle": "2021-08-08T18:08:52.910389Z",
     "shell.execute_reply": "2021-08-08T18:08:52.909434Z",
     "shell.execute_reply.started": "2021-08-07T08:39:28.091575Z"
    },
    "papermill": {
     "duration": 2.089768,
     "end_time": "2021-08-08T18:08:52.910542",
     "exception": false,
     "start_time": "2021-08-08T18:08:50.820774",
     "status": "completed"
    },
    "tags": []
   },
   "outputs": [],
   "source": [
    "import psutil\n",
    "import joblib\n",
    "import numpy as np\n",
    "import pandas as pd\n",
    "import torch\n",
    "from tqdm import tqdm\n",
    "from sklearn.metrics import roc_auc_score\n",
    "import torch.nn as nn\n",
    "from sklearn.model_selection import KFold\n",
    "from torch.utils.data import Dataset, DataLoader\n",
    "import gc\n",
    "import os\n",
    "import warnings\n",
    "warnings.filterwarnings(\"ignore\")"
   ]
  },
  {
   "cell_type": "code",
   "execution_count": 28,
   "metadata": {
    "execution": {
     "iopub.execute_input": "2021-08-08T18:16:17.293988Z",
     "iopub.status.busy": "2021-08-08T18:16:17.292677Z",
     "iopub.status.idle": "2021-08-08T18:16:17.294900Z",
     "shell.execute_reply": "2021-08-08T18:16:17.295362Z",
     "shell.execute_reply.started": "2021-08-07T08:49:52.421779Z"
    },
    "papermill": {
     "duration": 0.317909,
     "end_time": "2021-08-08T18:16:17.295489",
     "exception": false,
     "start_time": "2021-08-08T18:16:16.977580",
     "status": "completed"
    },
    "tags": []
   },
   "outputs": [],
   "source": [
    "#feed forward network\n",
    "class FFN(nn.Module):\n",
    "    def __init__(self, state_size=200):\n",
    "        super(FFN, self).__init__()\n",
    "        self.state_size = state_size\n",
    "\n",
    "        self.lr1 = nn.Linear(state_size, state_size)\n",
    "        self.relu = nn.ReLU()\n",
    "        self.lr2 = nn.Linear(state_size, state_size)\n",
    "        self.dropout = nn.Dropout(0.2)\n",
    "    \n",
    "    def forward(self, x):\n",
    "        x = self.lr1(x)\n",
    "        x = self.relu(x)\n",
    "        x = self.lr2(x)\n",
    "        return self.dropout(x)\n",
    "\n",
    "#define mask that would be used in multi head attention layer\n",
    "def future_mask(seq_length):\n",
    "    future_mask = np.triu(np.ones((seq_length, seq_length)), k=1).astype('bool')\n",
    "    return torch.from_numpy(future_mask)\n",
    "\n",
    "#define the SAKT model\n",
    "class SAKTModel(nn.Module):\n",
    "    def __init__(self, n_skill, max_seq=600, embed_dim=128, dropout_rate=0.2):\n",
    "        super(SAKTModel, self).__init__()\n",
    "        self.n_skill = n_skill\n",
    "        self.embed_dim = embed_dim\n",
    "        self.n_chapter= 39\n",
    "        self.n_sub_chapter = n_part\n",
    "        self.max_seq = max_seq\n",
    "        \n",
    "        self.embedding = nn.Embedding(2*n_skill+1, embed_dim)\n",
    "        self.pos_embedding = nn.Embedding(600+1, embed_dim)\n",
    "        self.e_embedding = nn.Embedding(n_skill+1, embed_dim) ##question categorical embedding\n",
    "        self.c_embedding = nn.Embedding(self.n_chapter+1, embed_dim) ## chapter categorical embedding\n",
    "        self.sc_embedding = nn.Embedding(self.n_sub_chapter, embed_dim) ## subchapter categorical embedding\n",
    "        self.res_embedding = nn.Embedding(2+1, embed_dim) ## shifted response (answered_correctly) categorical embedding\n",
    "        \n",
    "        self.multi_att = nn.MultiheadAttention(embed_dim=embed_dim, num_heads=8, dropout=dropout_rate)\n",
    "\n",
    "        self.dropout = nn.Dropout(dropout_rate)\n",
    "        self.layer_normal = nn.LayerNorm(embed_dim) \n",
    "\n",
    "        self.ffn = FFN(embed_dim)\n",
    "        self.pred = nn.Linear(embed_dim, 1)\n",
    "    \n",
    "    def forward(self, x, question_ids, chapter, schapter,response):\n",
    "        device = x.device        \n",
    "        x = self.embedding(x)\n",
    "        pos_id = torch.arange(x.size(1)).unsqueeze(0).to(device)\n",
    "    \n",
    "        pos_x = self.pos_embedding(pos_id)\n",
    "        x = x + pos_x\n",
    "        ## embedding layers\n",
    "        e = self.e_embedding(question_ids)\n",
    "        chapter = self.c_embedding(chapter)\n",
    "        schapter = self.sc_embedding(schapter)\n",
    "        res = self.res_embedding(response)\n",
    "        \n",
    "        x = x  + chapter + schapter + res\n",
    "        \n",
    "        x = x.permute(1, 0, 2) \n",
    "        e = e.permute(1, 0, 2)\n",
    "        att_mask = future_mask(x.size(0)).to(device)\n",
    "        att_output, att_weight = self.multi_att(e, x, x, attn_mask=att_mask)\n",
    "        att_output = self.layer_normal(att_output + e)\n",
    "        att_output = att_output.permute(1, 0, 2) \n",
    "\n",
    "        x = self.ffn(att_output)\n",
    "        x = self.layer_normal(x + att_output)\n",
    "        x = self.pred(x)\n",
    "\n",
    "        return x.squeeze(-1)"
   ]
  },
  {
   "cell_type": "code",
   "execution_count": 29,
   "metadata": {
    "execution": {
     "iopub.execute_input": "2021-08-08T18:16:17.894881Z",
     "iopub.status.busy": "2021-08-08T18:16:17.894277Z",
     "iopub.status.idle": "2021-08-08T18:16:17.897404Z",
     "shell.execute_reply": "2021-08-08T18:16:17.896969Z",
     "shell.execute_reply.started": "2021-08-07T08:49:54.026521Z"
    },
    "papermill": {
     "duration": 0.305376,
     "end_time": "2021-08-08T18:16:17.897510",
     "exception": false,
     "start_time": "2021-08-08T18:16:17.592134",
     "status": "completed"
    },
    "tags": []
   },
   "outputs": [],
   "source": [
    "patience = 5"
   ]
  },
  {
   "cell_type": "code",
   "execution_count": 30,
   "metadata": {
    "execution": {
     "iopub.execute_input": "2021-08-08T18:16:18.500272Z",
     "iopub.status.busy": "2021-08-08T18:16:18.499368Z",
     "iopub.status.idle": "2021-08-08T18:24:00.162636Z",
     "shell.execute_reply": "2021-08-08T18:24:00.162036Z",
     "shell.execute_reply.started": "2021-08-07T08:49:55.229521Z"
    },
    "papermill": {
     "duration": 461.96447,
     "end_time": "2021-08-08T18:24:00.162794",
     "exception": false,
     "start_time": "2021-08-08T18:16:18.198324",
     "status": "completed"
    },
    "tags": []
   },
   "outputs": [
    {
     "name": "stderr",
     "output_type": "stream",
     "text": [
      "  0%|          | 0/14 [00:00<?, ?it/s]"
     ]
    },
    {
     "name": "stdout",
     "output_type": "stream",
     "text": [
      "----------------------------------------------------------------------------\n"
     ]
    },
    {
     "name": "stderr",
     "output_type": "stream",
     "text": [
      "loss - 0.5583: 100%|██████████| 14/14 [00:04<00:00,  3.19it/s]\n",
      "  0%|          | 0/2 [00:00<?, ?it/s]"
     ]
    },
    {
     "name": "stdout",
     "output_type": "stream",
     "text": [
      "epoch - 0 train_loss - 0.63 acc - 0.668 auc - 0.576\n"
     ]
    },
    {
     "name": "stderr",
     "output_type": "stream",
     "text": [
      "valid loss - 0.5940: 100%|██████████| 2/2 [00:00<00:00,  4.59it/s]\n",
      "  0%|          | 0/14 [00:00<?, ?it/s]"
     ]
    },
    {
     "name": "stdout",
     "output_type": "stream",
     "text": [
      "epoch - 0 val_loss - 0.60 val acc - 0.683 val auc - 0.658\n"
     ]
    },
    {
     "name": "stderr",
     "output_type": "stream",
     "text": [
      "loss - 0.5104: 100%|██████████| 14/14 [00:01<00:00,  7.45it/s]\n",
      "  0%|          | 0/2 [00:00<?, ?it/s]"
     ]
    },
    {
     "name": "stdout",
     "output_type": "stream",
     "text": [
      "epoch - 1 train_loss - 0.55 acc - 0.729 auc - 0.712\n"
     ]
    },
    {
     "name": "stderr",
     "output_type": "stream",
     "text": [
      "valid loss - 0.5880: 100%|██████████| 2/2 [00:00<00:00,  4.52it/s]\n",
      "  0%|          | 0/14 [00:00<?, ?it/s]"
     ]
    },
    {
     "name": "stdout",
     "output_type": "stream",
     "text": [
      "epoch - 1 val_loss - 0.58 val acc - 0.706 val auc - 0.708\n"
     ]
    },
    {
     "name": "stderr",
     "output_type": "stream",
     "text": [
      "loss - 0.5065: 100%|██████████| 14/14 [00:01<00:00,  7.31it/s]\n",
      "  0%|          | 0/2 [00:00<?, ?it/s]"
     ]
    },
    {
     "name": "stdout",
     "output_type": "stream",
     "text": [
      "epoch - 2 train_loss - 0.52 acc - 0.740 auc - 0.747\n"
     ]
    },
    {
     "name": "stderr",
     "output_type": "stream",
     "text": [
      "valid loss - 0.5438: 100%|██████████| 2/2 [00:00<00:00,  4.57it/s]\n",
      "  0%|          | 0/14 [00:00<?, ?it/s]"
     ]
    },
    {
     "name": "stdout",
     "output_type": "stream",
     "text": [
      "epoch - 2 val_loss - 0.56 val acc - 0.715 val auc - 0.732\n"
     ]
    },
    {
     "name": "stderr",
     "output_type": "stream",
     "text": [
      "loss - 0.5073: 100%|██████████| 14/14 [00:01<00:00,  7.45it/s]\n",
      "  0%|          | 0/2 [00:00<?, ?it/s]"
     ]
    },
    {
     "name": "stdout",
     "output_type": "stream",
     "text": [
      "epoch - 3 train_loss - 0.51 acc - 0.750 auc - 0.768\n"
     ]
    },
    {
     "name": "stderr",
     "output_type": "stream",
     "text": [
      "valid loss - 0.5379: 100%|██████████| 2/2 [00:00<00:00,  4.50it/s]\n",
      "  0%|          | 0/14 [00:00<?, ?it/s]"
     ]
    },
    {
     "name": "stdout",
     "output_type": "stream",
     "text": [
      "epoch - 3 val_loss - 0.54 val acc - 0.723 val auc - 0.749\n"
     ]
    },
    {
     "name": "stderr",
     "output_type": "stream",
     "text": [
      "loss - 0.4762: 100%|██████████| 14/14 [00:02<00:00,  5.12it/s]\n",
      "  0%|          | 0/2 [00:00<?, ?it/s]"
     ]
    },
    {
     "name": "stdout",
     "output_type": "stream",
     "text": [
      "epoch - 4 train_loss - 0.49 acc - 0.758 auc - 0.783\n"
     ]
    },
    {
     "name": "stderr",
     "output_type": "stream",
     "text": [
      "valid loss - 0.5354: 100%|██████████| 2/2 [00:00<00:00,  4.29it/s]\n",
      "  0%|          | 0/14 [00:00<?, ?it/s]"
     ]
    },
    {
     "name": "stdout",
     "output_type": "stream",
     "text": [
      "epoch - 4 val_loss - 0.53 val acc - 0.730 val auc - 0.765\n"
     ]
    },
    {
     "name": "stderr",
     "output_type": "stream",
     "text": [
      "loss - 0.4721: 100%|██████████| 14/14 [00:02<00:00,  6.82it/s]\n",
      "  0%|          | 0/2 [00:00<?, ?it/s]"
     ]
    },
    {
     "name": "stdout",
     "output_type": "stream",
     "text": [
      "epoch - 5 train_loss - 0.48 acc - 0.765 auc - 0.798\n"
     ]
    },
    {
     "name": "stderr",
     "output_type": "stream",
     "text": [
      "valid loss - 0.5159: 100%|██████████| 2/2 [00:00<00:00,  4.27it/s]\n",
      "  0%|          | 0/14 [00:00<?, ?it/s]"
     ]
    },
    {
     "name": "stdout",
     "output_type": "stream",
     "text": [
      "epoch - 5 val_loss - 0.52 val acc - 0.736 val auc - 0.776\n"
     ]
    },
    {
     "name": "stderr",
     "output_type": "stream",
     "text": [
      "loss - 0.4713: 100%|██████████| 14/14 [00:02<00:00,  6.75it/s]\n",
      "  0%|          | 0/2 [00:00<?, ?it/s]"
     ]
    },
    {
     "name": "stdout",
     "output_type": "stream",
     "text": [
      "epoch - 6 train_loss - 0.47 acc - 0.770 auc - 0.809\n"
     ]
    },
    {
     "name": "stderr",
     "output_type": "stream",
     "text": [
      "valid loss - 0.5108: 100%|██████████| 2/2 [00:00<00:00,  4.24it/s]\n",
      "  0%|          | 0/14 [00:00<?, ?it/s]"
     ]
    },
    {
     "name": "stdout",
     "output_type": "stream",
     "text": [
      "epoch - 6 val_loss - 0.52 val acc - 0.739 val auc - 0.786\n"
     ]
    },
    {
     "name": "stderr",
     "output_type": "stream",
     "text": [
      "loss - 0.4478: 100%|██████████| 14/14 [00:02<00:00,  6.86it/s]\n",
      "  0%|          | 0/2 [00:00<?, ?it/s]"
     ]
    },
    {
     "name": "stdout",
     "output_type": "stream",
     "text": [
      "epoch - 7 train_loss - 0.46 acc - 0.775 auc - 0.819\n"
     ]
    },
    {
     "name": "stderr",
     "output_type": "stream",
     "text": [
      "valid loss - 0.4961: 100%|██████████| 2/2 [00:00<00:00,  3.15it/s]\n",
      "  0%|          | 0/14 [00:00<?, ?it/s]"
     ]
    },
    {
     "name": "stdout",
     "output_type": "stream",
     "text": [
      "epoch - 7 val_loss - 0.51 val acc - 0.742 val auc - 0.791\n"
     ]
    },
    {
     "name": "stderr",
     "output_type": "stream",
     "text": [
      "loss - 0.4352: 100%|██████████| 14/14 [00:02<00:00,  6.60it/s]\n",
      "  0%|          | 0/2 [00:00<?, ?it/s]"
     ]
    },
    {
     "name": "stdout",
     "output_type": "stream",
     "text": [
      "epoch - 8 train_loss - 0.46 acc - 0.778 auc - 0.825\n"
     ]
    },
    {
     "name": "stderr",
     "output_type": "stream",
     "text": [
      "valid loss - 0.4912: 100%|██████████| 2/2 [00:00<00:00,  4.20it/s]\n",
      "  0%|          | 0/14 [00:00<?, ?it/s]"
     ]
    },
    {
     "name": "stdout",
     "output_type": "stream",
     "text": [
      "epoch - 8 val_loss - 0.50 val acc - 0.743 val auc - 0.795\n"
     ]
    },
    {
     "name": "stderr",
     "output_type": "stream",
     "text": [
      "loss - 0.4545: 100%|██████████| 14/14 [00:02<00:00,  6.29it/s]\n",
      "  0%|          | 0/2 [00:00<?, ?it/s]"
     ]
    },
    {
     "name": "stdout",
     "output_type": "stream",
     "text": [
      "epoch - 9 train_loss - 0.45 acc - 0.781 auc - 0.830\n"
     ]
    },
    {
     "name": "stderr",
     "output_type": "stream",
     "text": [
      "valid loss - 0.5057: 100%|██████████| 2/2 [00:00<00:00,  4.25it/s]\n",
      "  0%|          | 0/14 [00:00<?, ?it/s]"
     ]
    },
    {
     "name": "stdout",
     "output_type": "stream",
     "text": [
      "epoch - 9 val_loss - 0.50 val acc - 0.743 val auc - 0.798\n"
     ]
    },
    {
     "name": "stderr",
     "output_type": "stream",
     "text": [
      "loss - 0.4159: 100%|██████████| 14/14 [00:02<00:00,  6.94it/s]\n",
      "  0%|          | 0/2 [00:00<?, ?it/s]"
     ]
    },
    {
     "name": "stdout",
     "output_type": "stream",
     "text": [
      "epoch - 10 train_loss - 0.45 acc - 0.783 auc - 0.834\n"
     ]
    },
    {
     "name": "stderr",
     "output_type": "stream",
     "text": [
      "valid loss - 0.5081: 100%|██████████| 2/2 [00:00<00:00,  4.24it/s]\n",
      "  0%|          | 0/14 [00:00<?, ?it/s]"
     ]
    },
    {
     "name": "stdout",
     "output_type": "stream",
     "text": [
      "epoch - 10 val_loss - 0.50 val acc - 0.744 val auc - 0.800\n"
     ]
    },
    {
     "name": "stderr",
     "output_type": "stream",
     "text": [
      "loss - 0.4452: 100%|██████████| 14/14 [00:02<00:00,  6.24it/s]\n",
      "  0%|          | 0/2 [00:00<?, ?it/s]"
     ]
    },
    {
     "name": "stdout",
     "output_type": "stream",
     "text": [
      "epoch - 11 train_loss - 0.44 acc - 0.784 auc - 0.838\n"
     ]
    },
    {
     "name": "stderr",
     "output_type": "stream",
     "text": [
      "valid loss - 0.5165: 100%|██████████| 2/2 [00:00<00:00,  4.29it/s]\n",
      "  0%|          | 0/14 [00:00<?, ?it/s]"
     ]
    },
    {
     "name": "stdout",
     "output_type": "stream",
     "text": [
      "epoch - 11 val_loss - 0.50 val acc - 0.745 val auc - 0.801\n"
     ]
    },
    {
     "name": "stderr",
     "output_type": "stream",
     "text": [
      "loss - 0.4387: 100%|██████████| 14/14 [00:02<00:00,  6.79it/s]\n",
      "  0%|          | 0/2 [00:00<?, ?it/s]"
     ]
    },
    {
     "name": "stdout",
     "output_type": "stream",
     "text": [
      "epoch - 12 train_loss - 0.44 acc - 0.786 auc - 0.841\n"
     ]
    },
    {
     "name": "stderr",
     "output_type": "stream",
     "text": [
      "valid loss - 0.4990: 100%|██████████| 2/2 [00:00<00:00,  4.60it/s]\n",
      "  0%|          | 0/14 [00:00<?, ?it/s]"
     ]
    },
    {
     "name": "stdout",
     "output_type": "stream",
     "text": [
      "epoch - 12 val_loss - 0.50 val acc - 0.745 val auc - 0.802\n"
     ]
    },
    {
     "name": "stderr",
     "output_type": "stream",
     "text": [
      "loss - 0.4282: 100%|██████████| 14/14 [00:01<00:00,  7.33it/s]\n",
      "  0%|          | 0/2 [00:00<?, ?it/s]"
     ]
    },
    {
     "name": "stdout",
     "output_type": "stream",
     "text": [
      "epoch - 13 train_loss - 0.43 acc - 0.787 auc - 0.843\n"
     ]
    },
    {
     "name": "stderr",
     "output_type": "stream",
     "text": [
      "valid loss - 0.4976: 100%|██████████| 2/2 [00:00<00:00,  4.55it/s]\n",
      "  0%|          | 0/14 [00:00<?, ?it/s]"
     ]
    },
    {
     "name": "stdout",
     "output_type": "stream",
     "text": [
      "epoch - 13 val_loss - 0.50 val acc - 0.747 val auc - 0.803\n"
     ]
    },
    {
     "name": "stderr",
     "output_type": "stream",
     "text": [
      "loss - 0.4009: 100%|██████████| 14/14 [00:01<00:00,  7.39it/s]\n",
      "  0%|          | 0/2 [00:00<?, ?it/s]"
     ]
    },
    {
     "name": "stdout",
     "output_type": "stream",
     "text": [
      "epoch - 14 train_loss - 0.43 acc - 0.789 auc - 0.846\n"
     ]
    },
    {
     "name": "stderr",
     "output_type": "stream",
     "text": [
      "valid loss - 0.4998: 100%|██████████| 2/2 [00:00<00:00,  2.61it/s]\n",
      "  0%|          | 0/14 [00:00<?, ?it/s]"
     ]
    },
    {
     "name": "stdout",
     "output_type": "stream",
     "text": [
      "epoch - 14 val_loss - 0.50 val acc - 0.747 val auc - 0.804\n"
     ]
    },
    {
     "name": "stderr",
     "output_type": "stream",
     "text": [
      "loss - 0.4402: 100%|██████████| 14/14 [00:02<00:00,  6.14it/s]\n",
      "  0%|          | 0/2 [00:00<?, ?it/s]"
     ]
    },
    {
     "name": "stdout",
     "output_type": "stream",
     "text": [
      "epoch - 15 train_loss - 0.43 acc - 0.790 auc - 0.848\n"
     ]
    },
    {
     "name": "stderr",
     "output_type": "stream",
     "text": [
      "valid loss - 0.4889: 100%|██████████| 2/2 [00:00<00:00,  4.56it/s]\n",
      "  0%|          | 0/14 [00:00<?, ?it/s]"
     ]
    },
    {
     "name": "stdout",
     "output_type": "stream",
     "text": [
      "epoch - 15 val_loss - 0.50 val acc - 0.747 val auc - 0.805\n"
     ]
    },
    {
     "name": "stderr",
     "output_type": "stream",
     "text": [
      "loss - 0.4403: 100%|██████████| 14/14 [00:01<00:00,  7.52it/s]\n",
      "  0%|          | 0/2 [00:00<?, ?it/s]"
     ]
    },
    {
     "name": "stdout",
     "output_type": "stream",
     "text": [
      "epoch - 16 train_loss - 0.43 acc - 0.791 auc - 0.850\n"
     ]
    },
    {
     "name": "stderr",
     "output_type": "stream",
     "text": [
      "valid loss - 0.4937: 100%|██████████| 2/2 [00:00<00:00,  4.57it/s]\n",
      "  0%|          | 0/14 [00:00<?, ?it/s]"
     ]
    },
    {
     "name": "stdout",
     "output_type": "stream",
     "text": [
      "epoch - 16 val_loss - 0.50 val acc - 0.746 val auc - 0.806\n"
     ]
    },
    {
     "name": "stderr",
     "output_type": "stream",
     "text": [
      "loss - 0.4534: 100%|██████████| 14/14 [00:01<00:00,  7.27it/s]\n",
      "  0%|          | 0/2 [00:00<?, ?it/s]"
     ]
    },
    {
     "name": "stdout",
     "output_type": "stream",
     "text": [
      "epoch - 17 train_loss - 0.43 acc - 0.792 auc - 0.852\n"
     ]
    },
    {
     "name": "stderr",
     "output_type": "stream",
     "text": [
      "valid loss - 0.4904: 100%|██████████| 2/2 [00:00<00:00,  4.58it/s]\n",
      "  0%|          | 0/14 [00:00<?, ?it/s]"
     ]
    },
    {
     "name": "stdout",
     "output_type": "stream",
     "text": [
      "epoch - 17 val_loss - 0.50 val acc - 0.748 val auc - 0.806\n"
     ]
    },
    {
     "name": "stderr",
     "output_type": "stream",
     "text": [
      "loss - 0.4288: 100%|██████████| 14/14 [00:02<00:00,  6.06it/s]\n",
      "  0%|          | 0/2 [00:00<?, ?it/s]"
     ]
    },
    {
     "name": "stdout",
     "output_type": "stream",
     "text": [
      "epoch - 18 train_loss - 0.42 acc - 0.793 auc - 0.853\n"
     ]
    },
    {
     "name": "stderr",
     "output_type": "stream",
     "text": [
      "valid loss - 0.4854: 100%|██████████| 2/2 [00:00<00:00,  4.62it/s]\n",
      "  0%|          | 0/14 [00:00<?, ?it/s]"
     ]
    },
    {
     "name": "stdout",
     "output_type": "stream",
     "text": [
      "epoch - 18 val_loss - 0.49 val acc - 0.748 val auc - 0.807\n"
     ]
    },
    {
     "name": "stderr",
     "output_type": "stream",
     "text": [
      "loss - 0.4099: 100%|██████████| 14/14 [00:02<00:00,  6.76it/s]\n",
      "  0%|          | 0/2 [00:00<?, ?it/s]"
     ]
    },
    {
     "name": "stdout",
     "output_type": "stream",
     "text": [
      "epoch - 19 train_loss - 0.42 acc - 0.794 auc - 0.855\n"
     ]
    },
    {
     "name": "stderr",
     "output_type": "stream",
     "text": [
      "valid loss - 0.4894: 100%|██████████| 2/2 [00:00<00:00,  4.61it/s]\n",
      "  0%|          | 0/14 [00:00<?, ?it/s]"
     ]
    },
    {
     "name": "stdout",
     "output_type": "stream",
     "text": [
      "epoch - 19 val_loss - 0.49 val acc - 0.749 val auc - 0.808\n"
     ]
    },
    {
     "name": "stderr",
     "output_type": "stream",
     "text": [
      "loss - 0.4237: 100%|██████████| 14/14 [00:01<00:00,  7.48it/s]\n",
      "  0%|          | 0/2 [00:00<?, ?it/s]"
     ]
    },
    {
     "name": "stdout",
     "output_type": "stream",
     "text": [
      "epoch - 20 train_loss - 0.42 acc - 0.796 auc - 0.857\n"
     ]
    },
    {
     "name": "stderr",
     "output_type": "stream",
     "text": [
      "valid loss - 0.4968: 100%|██████████| 2/2 [00:00<00:00,  4.60it/s]\n",
      "  0%|          | 0/14 [00:00<?, ?it/s]"
     ]
    },
    {
     "name": "stdout",
     "output_type": "stream",
     "text": [
      "epoch - 20 val_loss - 0.49 val acc - 0.748 val auc - 0.809\n"
     ]
    },
    {
     "name": "stderr",
     "output_type": "stream",
     "text": [
      "loss - 0.4274: 100%|██████████| 14/14 [00:01<00:00,  7.56it/s]\n",
      "  0%|          | 0/2 [00:00<?, ?it/s]"
     ]
    },
    {
     "name": "stdout",
     "output_type": "stream",
     "text": [
      "epoch - 21 train_loss - 0.42 acc - 0.797 auc - 0.858\n"
     ]
    },
    {
     "name": "stderr",
     "output_type": "stream",
     "text": [
      "valid loss - 0.5210: 100%|██████████| 2/2 [00:00<00:00,  4.53it/s]\n",
      "  0%|          | 0/14 [00:00<?, ?it/s]"
     ]
    },
    {
     "name": "stdout",
     "output_type": "stream",
     "text": [
      "epoch - 21 val_loss - 0.50 val acc - 0.749 val auc - 0.809\n"
     ]
    },
    {
     "name": "stderr",
     "output_type": "stream",
     "text": [
      "loss - 0.4047: 100%|██████████| 14/14 [00:02<00:00,  6.67it/s]\n",
      "  0%|          | 0/2 [00:00<?, ?it/s]"
     ]
    },
    {
     "name": "stdout",
     "output_type": "stream",
     "text": [
      "epoch - 22 train_loss - 0.41 acc - 0.798 auc - 0.860\n"
     ]
    },
    {
     "name": "stderr",
     "output_type": "stream",
     "text": [
      "valid loss - 0.4906: 100%|██████████| 2/2 [00:00<00:00,  4.57it/s]\n",
      "  0%|          | 0/14 [00:00<?, ?it/s]"
     ]
    },
    {
     "name": "stdout",
     "output_type": "stream",
     "text": [
      "epoch - 22 val_loss - 0.49 val acc - 0.750 val auc - 0.809\n"
     ]
    },
    {
     "name": "stderr",
     "output_type": "stream",
     "text": [
      "loss - 0.4022: 100%|██████████| 14/14 [00:01<00:00,  7.57it/s]\n",
      "  0%|          | 0/2 [00:00<?, ?it/s]"
     ]
    },
    {
     "name": "stdout",
     "output_type": "stream",
     "text": [
      "epoch - 23 train_loss - 0.41 acc - 0.798 auc - 0.861\n"
     ]
    },
    {
     "name": "stderr",
     "output_type": "stream",
     "text": [
      "valid loss - 0.4767: 100%|██████████| 2/2 [00:00<00:00,  4.56it/s]\n",
      "  0%|          | 0/14 [00:00<?, ?it/s]"
     ]
    },
    {
     "name": "stdout",
     "output_type": "stream",
     "text": [
      "epoch - 23 val_loss - 0.49 val acc - 0.750 val auc - 0.809\n"
     ]
    },
    {
     "name": "stderr",
     "output_type": "stream",
     "text": [
      "loss - 0.4218: 100%|██████████| 14/14 [00:01<00:00,  7.43it/s]\n",
      "  0%|          | 0/2 [00:00<?, ?it/s]"
     ]
    },
    {
     "name": "stdout",
     "output_type": "stream",
     "text": [
      "epoch - 24 train_loss - 0.41 acc - 0.800 auc - 0.863\n"
     ]
    },
    {
     "name": "stderr",
     "output_type": "stream",
     "text": [
      "valid loss - 0.5016: 100%|██████████| 2/2 [00:00<00:00,  4.56it/s]\n",
      "  0%|          | 0/14 [00:00<?, ?it/s]"
     ]
    },
    {
     "name": "stdout",
     "output_type": "stream",
     "text": [
      "epoch - 24 val_loss - 0.50 val acc - 0.750 val auc - 0.809\n"
     ]
    },
    {
     "name": "stderr",
     "output_type": "stream",
     "text": [
      "loss - 0.3672: 100%|██████████| 14/14 [00:01<00:00,  7.17it/s]\n",
      "  0%|          | 0/2 [00:00<?, ?it/s]"
     ]
    },
    {
     "name": "stdout",
     "output_type": "stream",
     "text": [
      "epoch - 25 train_loss - 0.41 acc - 0.801 auc - 0.864\n"
     ]
    },
    {
     "name": "stderr",
     "output_type": "stream",
     "text": [
      "valid loss - 0.4808: 100%|██████████| 2/2 [00:00<00:00,  4.59it/s]\n",
      "  0%|          | 0/14 [00:00<?, ?it/s]"
     ]
    },
    {
     "name": "stdout",
     "output_type": "stream",
     "text": [
      "epoch - 25 val_loss - 0.49 val acc - 0.750 val auc - 0.809\n"
     ]
    },
    {
     "name": "stderr",
     "output_type": "stream",
     "text": [
      "loss - 0.4036: 100%|██████████| 14/14 [00:02<00:00,  5.59it/s]\n",
      "  0%|          | 0/2 [00:00<?, ?it/s]"
     ]
    },
    {
     "name": "stdout",
     "output_type": "stream",
     "text": [
      "epoch - 26 train_loss - 0.41 acc - 0.802 auc - 0.866\n"
     ]
    },
    {
     "name": "stderr",
     "output_type": "stream",
     "text": [
      "valid loss - 0.4882: 100%|██████████| 2/2 [00:00<00:00,  4.14it/s]\n",
      "  0%|          | 0/14 [00:00<?, ?it/s]"
     ]
    },
    {
     "name": "stdout",
     "output_type": "stream",
     "text": [
      "epoch - 26 val_loss - 0.49 val acc - 0.749 val auc - 0.809\n"
     ]
    },
    {
     "name": "stderr",
     "output_type": "stream",
     "text": [
      "loss - 0.4281: 100%|██████████| 14/14 [00:02<00:00,  6.69it/s]\n",
      "  0%|          | 0/2 [00:00<?, ?it/s]"
     ]
    },
    {
     "name": "stdout",
     "output_type": "stream",
     "text": [
      "epoch - 27 train_loss - 0.41 acc - 0.803 auc - 0.867\n"
     ]
    },
    {
     "name": "stderr",
     "output_type": "stream",
     "text": [
      "valid loss - 0.4664: 100%|██████████| 2/2 [00:00<00:00,  4.23it/s]\n",
      "  0%|          | 0/14 [00:00<?, ?it/s]"
     ]
    },
    {
     "name": "stdout",
     "output_type": "stream",
     "text": [
      "epoch - 27 val_loss - 0.49 val acc - 0.748 val auc - 0.809\n"
     ]
    },
    {
     "name": "stderr",
     "output_type": "stream",
     "text": [
      "loss - 0.3916: 100%|██████████| 14/14 [00:02<00:00,  6.87it/s]\n",
      "  0%|          | 0/2 [00:00<?, ?it/s]"
     ]
    },
    {
     "name": "stdout",
     "output_type": "stream",
     "text": [
      "epoch - 28 train_loss - 0.40 acc - 0.804 auc - 0.868\n"
     ]
    },
    {
     "name": "stderr",
     "output_type": "stream",
     "text": [
      "valid loss - 0.4813: 100%|██████████| 2/2 [00:00<00:00,  3.17it/s]\n",
      "  0%|          | 0/14 [00:00<?, ?it/s]"
     ]
    },
    {
     "name": "stdout",
     "output_type": "stream",
     "text": [
      "epoch - 28 val_loss - 0.49 val acc - 0.747 val auc - 0.809\n"
     ]
    },
    {
     "name": "stderr",
     "output_type": "stream",
     "text": [
      "loss - 0.3771: 100%|██████████| 14/14 [00:02<00:00,  5.60it/s]\n",
      "  0%|          | 0/2 [00:00<?, ?it/s]"
     ]
    },
    {
     "name": "stdout",
     "output_type": "stream",
     "text": [
      "epoch - 29 train_loss - 0.40 acc - 0.805 auc - 0.869\n"
     ]
    },
    {
     "name": "stderr",
     "output_type": "stream",
     "text": [
      "valid loss - 0.5157: 100%|██████████| 2/2 [00:00<00:00,  4.26it/s]\n",
      "  0%|          | 0/14 [00:00<?, ?it/s]"
     ]
    },
    {
     "name": "stdout",
     "output_type": "stream",
     "text": [
      "epoch - 29 val_loss - 0.50 val acc - 0.748 val auc - 0.809\n"
     ]
    },
    {
     "name": "stderr",
     "output_type": "stream",
     "text": [
      "loss - 0.3754: 100%|██████████| 14/14 [00:02<00:00,  6.98it/s]\n",
      "  0%|          | 0/2 [00:00<?, ?it/s]"
     ]
    },
    {
     "name": "stdout",
     "output_type": "stream",
     "text": [
      "epoch - 30 train_loss - 0.40 acc - 0.806 auc - 0.871\n"
     ]
    },
    {
     "name": "stderr",
     "output_type": "stream",
     "text": [
      "valid loss - 0.4946: 100%|██████████| 2/2 [00:00<00:00,  4.24it/s]\n",
      "  0%|          | 0/14 [00:00<?, ?it/s]"
     ]
    },
    {
     "name": "stdout",
     "output_type": "stream",
     "text": [
      "epoch - 30 val_loss - 0.50 val acc - 0.747 val auc - 0.809\n"
     ]
    },
    {
     "name": "stderr",
     "output_type": "stream",
     "text": [
      "loss - 0.4017: 100%|██████████| 14/14 [00:02<00:00,  6.91it/s]\n",
      "  0%|          | 0/2 [00:00<?, ?it/s]"
     ]
    },
    {
     "name": "stdout",
     "output_type": "stream",
     "text": [
      "epoch - 31 train_loss - 0.40 acc - 0.807 auc - 0.872\n"
     ]
    },
    {
     "name": "stderr",
     "output_type": "stream",
     "text": [
      "valid loss - 0.4899: 100%|██████████| 2/2 [00:00<00:00,  4.20it/s]\n",
      "  0%|          | 0/14 [00:00<?, ?it/s]"
     ]
    },
    {
     "name": "stdout",
     "output_type": "stream",
     "text": [
      "epoch - 31 val_loss - 0.50 val acc - 0.746 val auc - 0.808\n"
     ]
    },
    {
     "name": "stderr",
     "output_type": "stream",
     "text": [
      "loss - 0.3985: 100%|██████████| 14/14 [00:02<00:00,  6.55it/s]\n",
      "  0%|          | 0/2 [00:00<?, ?it/s]"
     ]
    },
    {
     "name": "stdout",
     "output_type": "stream",
     "text": [
      "epoch - 32 train_loss - 0.40 acc - 0.808 auc - 0.874\n"
     ]
    },
    {
     "name": "stderr",
     "output_type": "stream",
     "text": [
      "valid loss - 0.4878: 100%|██████████| 2/2 [00:00<00:00,  2.43it/s]\n",
      "  0%|          | 0/2 [00:00<?, ?it/s]"
     ]
    },
    {
     "name": "stdout",
     "output_type": "stream",
     "text": [
      "epoch - 32 val_loss - 0.50 val acc - 0.747 val auc - 0.807\n",
      "Val Loss does not improve for 5 consecutive epochs\n"
     ]
    },
    {
     "name": "stderr",
     "output_type": "stream",
     "text": [
      "valid loss - 0.3292: 100%|██████████| 2/2 [00:00<00:00,  3.98it/s]\n",
      "  0%|          | 0/14 [00:00<?, ?it/s]"
     ]
    },
    {
     "name": "stdout",
     "output_type": "stream",
     "text": [
      "epoch - 32 test_loss - 0.34 acc - 0.838 auc - 0.880\n"
     ]
    },
    {
     "name": "stderr",
     "output_type": "stream",
     "text": [
      "valid loss - 0.3729: 100%|██████████| 14/14 [00:01<00:00,  8.39it/s]\n",
      "  0%|          | 0/14 [00:00<?, ?it/s]"
     ]
    },
    {
     "name": "stdout",
     "output_type": "stream",
     "text": [
      "----------------------------------------------------------------------------\n"
     ]
    },
    {
     "name": "stderr",
     "output_type": "stream",
     "text": [
      "loss - 0.5315: 100%|██████████| 14/14 [00:01<00:00,  7.24it/s]\n",
      "  0%|          | 0/2 [00:00<?, ?it/s]"
     ]
    },
    {
     "name": "stdout",
     "output_type": "stream",
     "text": [
      "epoch - 0 train_loss - 0.62 acc - 0.674 auc - 0.571\n"
     ]
    },
    {
     "name": "stderr",
     "output_type": "stream",
     "text": [
      "valid loss - 0.6062: 100%|██████████| 2/2 [00:00<00:00,  4.48it/s]\n",
      "  0%|          | 0/14 [00:00<?, ?it/s]"
     ]
    },
    {
     "name": "stdout",
     "output_type": "stream",
     "text": [
      "epoch - 0 val_loss - 0.62 val acc - 0.657 val auc - 0.642\n"
     ]
    },
    {
     "name": "stderr",
     "output_type": "stream",
     "text": [
      "loss - 0.5418: 100%|██████████| 14/14 [00:01<00:00,  7.27it/s]\n",
      "  0%|          | 0/2 [00:00<?, ?it/s]"
     ]
    },
    {
     "name": "stdout",
     "output_type": "stream",
     "text": [
      "epoch - 1 train_loss - 0.54 acc - 0.729 auc - 0.708\n"
     ]
    },
    {
     "name": "stderr",
     "output_type": "stream",
     "text": [
      "valid loss - 0.6011: 100%|██████████| 2/2 [00:00<00:00,  4.58it/s]\n",
      "  0%|          | 0/14 [00:00<?, ?it/s]"
     ]
    },
    {
     "name": "stdout",
     "output_type": "stream",
     "text": [
      "epoch - 1 val_loss - 0.60 val acc - 0.681 val auc - 0.698\n"
     ]
    },
    {
     "name": "stderr",
     "output_type": "stream",
     "text": [
      "loss - 0.4661: 100%|██████████| 14/14 [00:01<00:00,  7.35it/s]\n",
      "  0%|          | 0/2 [00:00<?, ?it/s]"
     ]
    },
    {
     "name": "stdout",
     "output_type": "stream",
     "text": [
      "epoch - 2 train_loss - 0.52 acc - 0.744 auc - 0.747\n"
     ]
    },
    {
     "name": "stderr",
     "output_type": "stream",
     "text": [
      "valid loss - 0.5807: 100%|██████████| 2/2 [00:00<00:00,  3.62it/s]\n",
      "  0%|          | 0/14 [00:00<?, ?it/s]"
     ]
    },
    {
     "name": "stdout",
     "output_type": "stream",
     "text": [
      "epoch - 2 val_loss - 0.58 val acc - 0.695 val auc - 0.725\n"
     ]
    },
    {
     "name": "stderr",
     "output_type": "stream",
     "text": [
      "loss - 0.4972: 100%|██████████| 14/14 [00:01<00:00,  7.44it/s]\n",
      "  0%|          | 0/2 [00:00<?, ?it/s]"
     ]
    },
    {
     "name": "stdout",
     "output_type": "stream",
     "text": [
      "epoch - 3 train_loss - 0.50 acc - 0.754 auc - 0.771\n"
     ]
    },
    {
     "name": "stderr",
     "output_type": "stream",
     "text": [
      "valid loss - 0.5801: 100%|██████████| 2/2 [00:00<00:00,  4.56it/s]\n",
      "  0%|          | 0/14 [00:00<?, ?it/s]"
     ]
    },
    {
     "name": "stdout",
     "output_type": "stream",
     "text": [
      "epoch - 3 val_loss - 0.57 val acc - 0.705 val auc - 0.744\n"
     ]
    },
    {
     "name": "stderr",
     "output_type": "stream",
     "text": [
      "loss - 0.4908: 100%|██████████| 14/14 [00:01<00:00,  7.44it/s]\n",
      "  0%|          | 0/2 [00:00<?, ?it/s]"
     ]
    },
    {
     "name": "stdout",
     "output_type": "stream",
     "text": [
      "epoch - 4 train_loss - 0.49 acc - 0.762 auc - 0.788\n"
     ]
    },
    {
     "name": "stderr",
     "output_type": "stream",
     "text": [
      "valid loss - 0.5667: 100%|██████████| 2/2 [00:00<00:00,  4.52it/s]\n",
      "  0%|          | 0/14 [00:00<?, ?it/s]"
     ]
    },
    {
     "name": "stdout",
     "output_type": "stream",
     "text": [
      "epoch - 4 val_loss - 0.55 val acc - 0.713 val auc - 0.760\n"
     ]
    },
    {
     "name": "stderr",
     "output_type": "stream",
     "text": [
      "loss - 0.4381: 100%|██████████| 14/14 [00:02<00:00,  6.50it/s]\n",
      "  0%|          | 0/2 [00:00<?, ?it/s]"
     ]
    },
    {
     "name": "stdout",
     "output_type": "stream",
     "text": [
      "epoch - 5 train_loss - 0.48 acc - 0.769 auc - 0.802\n"
     ]
    },
    {
     "name": "stderr",
     "output_type": "stream",
     "text": [
      "valid loss - 0.5417: 100%|██████████| 2/2 [00:00<00:00,  4.55it/s]\n",
      "  0%|          | 0/14 [00:00<?, ?it/s]"
     ]
    },
    {
     "name": "stdout",
     "output_type": "stream",
     "text": [
      "epoch - 5 val_loss - 0.54 val acc - 0.718 val auc - 0.772\n"
     ]
    },
    {
     "name": "stderr",
     "output_type": "stream",
     "text": [
      "loss - 0.4630: 100%|██████████| 14/14 [00:02<00:00,  6.94it/s]\n",
      "  0%|          | 0/2 [00:00<?, ?it/s]"
     ]
    },
    {
     "name": "stdout",
     "output_type": "stream",
     "text": [
      "epoch - 6 train_loss - 0.46 acc - 0.775 auc - 0.814\n"
     ]
    },
    {
     "name": "stderr",
     "output_type": "stream",
     "text": [
      "valid loss - 0.5406: 100%|██████████| 2/2 [00:00<00:00,  4.52it/s]\n",
      "  0%|          | 0/14 [00:00<?, ?it/s]"
     ]
    },
    {
     "name": "stdout",
     "output_type": "stream",
     "text": [
      "epoch - 6 val_loss - 0.54 val acc - 0.724 val auc - 0.780\n"
     ]
    },
    {
     "name": "stderr",
     "output_type": "stream",
     "text": [
      "loss - 0.4820: 100%|██████████| 14/14 [00:01<00:00,  7.52it/s]\n",
      "  0%|          | 0/2 [00:00<?, ?it/s]"
     ]
    },
    {
     "name": "stdout",
     "output_type": "stream",
     "text": [
      "epoch - 7 train_loss - 0.46 acc - 0.778 auc - 0.823\n"
     ]
    },
    {
     "name": "stderr",
     "output_type": "stream",
     "text": [
      "valid loss - 0.5306: 100%|██████████| 2/2 [00:00<00:00,  4.53it/s]\n",
      "  0%|          | 0/14 [00:00<?, ?it/s]"
     ]
    },
    {
     "name": "stdout",
     "output_type": "stream",
     "text": [
      "epoch - 7 val_loss - 0.53 val acc - 0.725 val auc - 0.786\n"
     ]
    },
    {
     "name": "stderr",
     "output_type": "stream",
     "text": [
      "loss - 0.4567: 100%|██████████| 14/14 [00:01<00:00,  7.29it/s]\n",
      "  0%|          | 0/2 [00:00<?, ?it/s]"
     ]
    },
    {
     "name": "stdout",
     "output_type": "stream",
     "text": [
      "epoch - 8 train_loss - 0.45 acc - 0.782 auc - 0.829\n"
     ]
    },
    {
     "name": "stderr",
     "output_type": "stream",
     "text": [
      "valid loss - 0.5331: 100%|██████████| 2/2 [00:00<00:00,  4.51it/s]\n",
      "  0%|          | 0/14 [00:00<?, ?it/s]"
     ]
    },
    {
     "name": "stdout",
     "output_type": "stream",
     "text": [
      "epoch - 8 val_loss - 0.53 val acc - 0.727 val auc - 0.788\n"
     ]
    },
    {
     "name": "stderr",
     "output_type": "stream",
     "text": [
      "loss - 0.4173: 100%|██████████| 14/14 [00:01<00:00,  7.47it/s]\n",
      "  0%|          | 0/2 [00:00<?, ?it/s]"
     ]
    },
    {
     "name": "stdout",
     "output_type": "stream",
     "text": [
      "epoch - 9 train_loss - 0.44 acc - 0.784 auc - 0.834\n"
     ]
    },
    {
     "name": "stderr",
     "output_type": "stream",
     "text": [
      "valid loss - 0.5250: 100%|██████████| 2/2 [00:00<00:00,  4.59it/s]\n",
      "  0%|          | 0/14 [00:00<?, ?it/s]"
     ]
    },
    {
     "name": "stdout",
     "output_type": "stream",
     "text": [
      "epoch - 9 val_loss - 0.52 val acc - 0.730 val auc - 0.791\n"
     ]
    },
    {
     "name": "stderr",
     "output_type": "stream",
     "text": [
      "loss - 0.4702: 100%|██████████| 14/14 [00:02<00:00,  6.80it/s]\n",
      "  0%|          | 0/2 [00:00<?, ?it/s]"
     ]
    },
    {
     "name": "stdout",
     "output_type": "stream",
     "text": [
      "epoch - 10 train_loss - 0.44 acc - 0.786 auc - 0.839\n"
     ]
    },
    {
     "name": "stderr",
     "output_type": "stream",
     "text": [
      "valid loss - 0.5152: 100%|██████████| 2/2 [00:00<00:00,  4.39it/s]\n",
      "  0%|          | 0/14 [00:00<?, ?it/s]"
     ]
    },
    {
     "name": "stdout",
     "output_type": "stream",
     "text": [
      "epoch - 10 val_loss - 0.52 val acc - 0.731 val auc - 0.793\n"
     ]
    },
    {
     "name": "stderr",
     "output_type": "stream",
     "text": [
      "loss - 0.4730: 100%|██████████| 14/14 [00:01<00:00,  7.15it/s]\n",
      "  0%|          | 0/2 [00:00<?, ?it/s]"
     ]
    },
    {
     "name": "stdout",
     "output_type": "stream",
     "text": [
      "epoch - 11 train_loss - 0.43 acc - 0.788 auc - 0.842\n"
     ]
    },
    {
     "name": "stderr",
     "output_type": "stream",
     "text": [
      "valid loss - 0.5118: 100%|██████████| 2/2 [00:00<00:00,  4.47it/s]\n",
      "  0%|          | 0/14 [00:00<?, ?it/s]"
     ]
    },
    {
     "name": "stdout",
     "output_type": "stream",
     "text": [
      "epoch - 11 val_loss - 0.52 val acc - 0.732 val auc - 0.794\n"
     ]
    },
    {
     "name": "stderr",
     "output_type": "stream",
     "text": [
      "loss - 0.4224: 100%|██████████| 14/14 [00:02<00:00,  6.75it/s]\n",
      "  0%|          | 0/2 [00:00<?, ?it/s]"
     ]
    },
    {
     "name": "stdout",
     "output_type": "stream",
     "text": [
      "epoch - 12 train_loss - 0.43 acc - 0.789 auc - 0.844\n"
     ]
    },
    {
     "name": "stderr",
     "output_type": "stream",
     "text": [
      "valid loss - 0.5301: 100%|██████████| 2/2 [00:00<00:00,  4.52it/s]\n",
      "  0%|          | 0/14 [00:00<?, ?it/s]"
     ]
    },
    {
     "name": "stdout",
     "output_type": "stream",
     "text": [
      "epoch - 12 val_loss - 0.52 val acc - 0.733 val auc - 0.796\n"
     ]
    },
    {
     "name": "stderr",
     "output_type": "stream",
     "text": [
      "loss - 0.4173: 100%|██████████| 14/14 [00:01<00:00,  7.50it/s]\n",
      "  0%|          | 0/2 [00:00<?, ?it/s]"
     ]
    },
    {
     "name": "stdout",
     "output_type": "stream",
     "text": [
      "epoch - 13 train_loss - 0.43 acc - 0.790 auc - 0.847\n"
     ]
    },
    {
     "name": "stderr",
     "output_type": "stream",
     "text": [
      "valid loss - 0.5244: 100%|██████████| 2/2 [00:00<00:00,  4.55it/s]\n",
      "  0%|          | 0/14 [00:00<?, ?it/s]"
     ]
    },
    {
     "name": "stdout",
     "output_type": "stream",
     "text": [
      "epoch - 13 val_loss - 0.52 val acc - 0.733 val auc - 0.796\n"
     ]
    },
    {
     "name": "stderr",
     "output_type": "stream",
     "text": [
      "loss - 0.4157: 100%|██████████| 14/14 [00:02<00:00,  6.59it/s]\n",
      "  0%|          | 0/2 [00:00<?, ?it/s]"
     ]
    },
    {
     "name": "stdout",
     "output_type": "stream",
     "text": [
      "epoch - 14 train_loss - 0.43 acc - 0.791 auc - 0.849\n"
     ]
    },
    {
     "name": "stderr",
     "output_type": "stream",
     "text": [
      "valid loss - 0.5203: 100%|██████████| 2/2 [00:00<00:00,  2.74it/s]\n",
      "  0%|          | 0/14 [00:00<?, ?it/s]"
     ]
    },
    {
     "name": "stdout",
     "output_type": "stream",
     "text": [
      "epoch - 14 val_loss - 0.52 val acc - 0.734 val auc - 0.797\n"
     ]
    },
    {
     "name": "stderr",
     "output_type": "stream",
     "text": [
      "loss - 0.4319: 100%|██████████| 14/14 [00:02<00:00,  6.49it/s]\n",
      "  0%|          | 0/2 [00:00<?, ?it/s]"
     ]
    },
    {
     "name": "stdout",
     "output_type": "stream",
     "text": [
      "epoch - 15 train_loss - 0.42 acc - 0.793 auc - 0.851\n"
     ]
    },
    {
     "name": "stderr",
     "output_type": "stream",
     "text": [
      "valid loss - 0.5204: 100%|██████████| 2/2 [00:00<00:00,  4.26it/s]\n",
      "  0%|          | 0/14 [00:00<?, ?it/s]"
     ]
    },
    {
     "name": "stdout",
     "output_type": "stream",
     "text": [
      "epoch - 15 val_loss - 0.52 val acc - 0.734 val auc - 0.798\n"
     ]
    },
    {
     "name": "stderr",
     "output_type": "stream",
     "text": [
      "loss - 0.4383: 100%|██████████| 14/14 [00:02<00:00,  6.70it/s]\n",
      "  0%|          | 0/2 [00:00<?, ?it/s]"
     ]
    },
    {
     "name": "stdout",
     "output_type": "stream",
     "text": [
      "epoch - 16 train_loss - 0.42 acc - 0.793 auc - 0.853\n"
     ]
    },
    {
     "name": "stderr",
     "output_type": "stream",
     "text": [
      "valid loss - 0.5137: 100%|██████████| 2/2 [00:00<00:00,  4.26it/s]\n",
      "  0%|          | 0/14 [00:00<?, ?it/s]"
     ]
    },
    {
     "name": "stdout",
     "output_type": "stream",
     "text": [
      "epoch - 16 val_loss - 0.52 val acc - 0.734 val auc - 0.798\n"
     ]
    },
    {
     "name": "stderr",
     "output_type": "stream",
     "text": [
      "loss - 0.4143: 100%|██████████| 14/14 [00:02<00:00,  6.83it/s]\n",
      "  0%|          | 0/2 [00:00<?, ?it/s]"
     ]
    },
    {
     "name": "stdout",
     "output_type": "stream",
     "text": [
      "epoch - 17 train_loss - 0.42 acc - 0.794 auc - 0.854\n"
     ]
    },
    {
     "name": "stderr",
     "output_type": "stream",
     "text": [
      "valid loss - 0.5180: 100%|██████████| 2/2 [00:00<00:00,  4.20it/s]\n",
      "  0%|          | 0/14 [00:00<?, ?it/s]"
     ]
    },
    {
     "name": "stdout",
     "output_type": "stream",
     "text": [
      "epoch - 17 val_loss - 0.52 val acc - 0.735 val auc - 0.799\n"
     ]
    },
    {
     "name": "stderr",
     "output_type": "stream",
     "text": [
      "loss - 0.4363: 100%|██████████| 14/14 [00:02<00:00,  6.91it/s]\n",
      "  0%|          | 0/2 [00:00<?, ?it/s]"
     ]
    },
    {
     "name": "stdout",
     "output_type": "stream",
     "text": [
      "epoch - 18 train_loss - 0.42 acc - 0.796 auc - 0.856\n"
     ]
    },
    {
     "name": "stderr",
     "output_type": "stream",
     "text": [
      "valid loss - 0.5199: 100%|██████████| 2/2 [00:00<00:00,  4.20it/s]\n",
      "  0%|          | 0/14 [00:00<?, ?it/s]"
     ]
    },
    {
     "name": "stdout",
     "output_type": "stream",
     "text": [
      "epoch - 18 val_loss - 0.52 val acc - 0.736 val auc - 0.799\n"
     ]
    },
    {
     "name": "stderr",
     "output_type": "stream",
     "text": [
      "loss - 0.4444: 100%|██████████| 14/14 [00:01<00:00,  7.03it/s]\n",
      "  0%|          | 0/2 [00:00<?, ?it/s]"
     ]
    },
    {
     "name": "stdout",
     "output_type": "stream",
     "text": [
      "epoch - 19 train_loss - 0.42 acc - 0.797 auc - 0.858\n"
     ]
    },
    {
     "name": "stderr",
     "output_type": "stream",
     "text": [
      "valid loss - 0.5179: 100%|██████████| 2/2 [00:00<00:00,  4.26it/s]\n",
      "  0%|          | 0/14 [00:00<?, ?it/s]"
     ]
    },
    {
     "name": "stdout",
     "output_type": "stream",
     "text": [
      "epoch - 19 val_loss - 0.52 val acc - 0.736 val auc - 0.800\n"
     ]
    },
    {
     "name": "stderr",
     "output_type": "stream",
     "text": [
      "loss - 0.4334: 100%|██████████| 14/14 [00:02<00:00,  6.95it/s]\n",
      "  0%|          | 0/2 [00:00<?, ?it/s]"
     ]
    },
    {
     "name": "stdout",
     "output_type": "stream",
     "text": [
      "epoch - 20 train_loss - 0.41 acc - 0.798 auc - 0.859\n"
     ]
    },
    {
     "name": "stderr",
     "output_type": "stream",
     "text": [
      "valid loss - 0.4997: 100%|██████████| 2/2 [00:00<00:00,  4.25it/s]\n",
      "  0%|          | 0/14 [00:00<?, ?it/s]"
     ]
    },
    {
     "name": "stdout",
     "output_type": "stream",
     "text": [
      "epoch - 20 val_loss - 0.51 val acc - 0.737 val auc - 0.800\n"
     ]
    },
    {
     "name": "stderr",
     "output_type": "stream",
     "text": [
      "loss - 0.3877: 100%|██████████| 14/14 [00:02<00:00,  6.33it/s]\n",
      "  0%|          | 0/2 [00:00<?, ?it/s]"
     ]
    },
    {
     "name": "stdout",
     "output_type": "stream",
     "text": [
      "epoch - 21 train_loss - 0.41 acc - 0.799 auc - 0.861\n"
     ]
    },
    {
     "name": "stderr",
     "output_type": "stream",
     "text": [
      "valid loss - 0.5203: 100%|██████████| 2/2 [00:00<00:00,  3.77it/s]\n",
      "  0%|          | 0/14 [00:00<?, ?it/s]"
     ]
    },
    {
     "name": "stdout",
     "output_type": "stream",
     "text": [
      "epoch - 21 val_loss - 0.52 val acc - 0.738 val auc - 0.800\n"
     ]
    },
    {
     "name": "stderr",
     "output_type": "stream",
     "text": [
      "loss - 0.4231: 100%|██████████| 14/14 [00:01<00:00,  7.00it/s]\n",
      "  0%|          | 0/2 [00:00<?, ?it/s]"
     ]
    },
    {
     "name": "stdout",
     "output_type": "stream",
     "text": [
      "epoch - 22 train_loss - 0.41 acc - 0.800 auc - 0.862\n"
     ]
    },
    {
     "name": "stderr",
     "output_type": "stream",
     "text": [
      "valid loss - 0.5198: 100%|██████████| 2/2 [00:00<00:00,  4.49it/s]\n",
      "  0%|          | 0/14 [00:00<?, ?it/s]"
     ]
    },
    {
     "name": "stdout",
     "output_type": "stream",
     "text": [
      "epoch - 22 val_loss - 0.52 val acc - 0.737 val auc - 0.801\n"
     ]
    },
    {
     "name": "stderr",
     "output_type": "stream",
     "text": [
      "loss - 0.4121: 100%|██████████| 14/14 [00:01<00:00,  7.45it/s]\n",
      "  0%|          | 0/2 [00:00<?, ?it/s]"
     ]
    },
    {
     "name": "stdout",
     "output_type": "stream",
     "text": [
      "epoch - 23 train_loss - 0.41 acc - 0.801 auc - 0.863\n"
     ]
    },
    {
     "name": "stderr",
     "output_type": "stream",
     "text": [
      "valid loss - 0.5287: 100%|██████████| 2/2 [00:00<00:00,  4.48it/s]\n",
      "  0%|          | 0/14 [00:00<?, ?it/s]"
     ]
    },
    {
     "name": "stdout",
     "output_type": "stream",
     "text": [
      "epoch - 23 val_loss - 0.52 val acc - 0.738 val auc - 0.801\n"
     ]
    },
    {
     "name": "stderr",
     "output_type": "stream",
     "text": [
      "loss - 0.4241: 100%|██████████| 14/14 [00:01<00:00,  7.27it/s]\n",
      "  0%|          | 0/2 [00:00<?, ?it/s]"
     ]
    },
    {
     "name": "stdout",
     "output_type": "stream",
     "text": [
      "epoch - 24 train_loss - 0.41 acc - 0.802 auc - 0.864\n"
     ]
    },
    {
     "name": "stderr",
     "output_type": "stream",
     "text": [
      "valid loss - 0.5164: 100%|██████████| 2/2 [00:00<00:00,  4.49it/s]\n",
      "  0%|          | 0/14 [00:00<?, ?it/s]"
     ]
    },
    {
     "name": "stdout",
     "output_type": "stream",
     "text": [
      "epoch - 24 val_loss - 0.52 val acc - 0.738 val auc - 0.801\n"
     ]
    },
    {
     "name": "stderr",
     "output_type": "stream",
     "text": [
      "loss - 0.4230: 100%|██████████| 14/14 [00:02<00:00,  6.19it/s]\n",
      "  0%|          | 0/2 [00:00<?, ?it/s]"
     ]
    },
    {
     "name": "stdout",
     "output_type": "stream",
     "text": [
      "epoch - 25 train_loss - 0.40 acc - 0.802 auc - 0.865\n"
     ]
    },
    {
     "name": "stderr",
     "output_type": "stream",
     "text": [
      "valid loss - 0.5067: 100%|██████████| 2/2 [00:00<00:00,  4.26it/s]\n",
      "  0%|          | 0/2 [00:00<?, ?it/s]"
     ]
    },
    {
     "name": "stdout",
     "output_type": "stream",
     "text": [
      "epoch - 25 val_loss - 0.52 val acc - 0.737 val auc - 0.801\n",
      "Val Loss does not improve for 5 consecutive epochs\n"
     ]
    },
    {
     "name": "stderr",
     "output_type": "stream",
     "text": [
      "valid loss - 0.3727: 100%|██████████| 2/2 [00:00<00:00,  4.30it/s]\n",
      "  0%|          | 0/14 [00:00<?, ?it/s]"
     ]
    },
    {
     "name": "stdout",
     "output_type": "stream",
     "text": [
      "epoch - 25 test_loss - 0.36 acc - 0.833 auc - 0.876\n"
     ]
    },
    {
     "name": "stderr",
     "output_type": "stream",
     "text": [
      "valid loss - 0.4127: 100%|██████████| 14/14 [00:01<00:00,  8.34it/s]\n",
      "  0%|          | 0/14 [00:00<?, ?it/s]"
     ]
    },
    {
     "name": "stdout",
     "output_type": "stream",
     "text": [
      "----------------------------------------------------------------------------\n"
     ]
    },
    {
     "name": "stderr",
     "output_type": "stream",
     "text": [
      "loss - 0.5656: 100%|██████████| 14/14 [00:02<00:00,  6.23it/s]\n",
      "  0%|          | 0/2 [00:00<?, ?it/s]"
     ]
    },
    {
     "name": "stdout",
     "output_type": "stream",
     "text": [
      "epoch - 0 train_loss - 0.60 acc - 0.692 auc - 0.606\n"
     ]
    },
    {
     "name": "stderr",
     "output_type": "stream",
     "text": [
      "valid loss - 0.6295: 100%|██████████| 2/2 [00:00<00:00,  4.26it/s]\n",
      "  0%|          | 0/14 [00:00<?, ?it/s]"
     ]
    },
    {
     "name": "stdout",
     "output_type": "stream",
     "text": [
      "epoch - 0 val_loss - 0.62 val acc - 0.659 val auc - 0.663\n"
     ]
    },
    {
     "name": "stderr",
     "output_type": "stream",
     "text": [
      "loss - 0.4650: 100%|██████████| 14/14 [00:02<00:00,  6.69it/s]\n",
      "  0%|          | 0/2 [00:00<?, ?it/s]"
     ]
    },
    {
     "name": "stdout",
     "output_type": "stream",
     "text": [
      "epoch - 1 train_loss - 0.54 acc - 0.733 auc - 0.716\n"
     ]
    },
    {
     "name": "stderr",
     "output_type": "stream",
     "text": [
      "valid loss - 0.5845: 100%|██████████| 2/2 [00:00<00:00,  4.25it/s]\n",
      "  0%|          | 0/14 [00:00<?, ?it/s]"
     ]
    },
    {
     "name": "stdout",
     "output_type": "stream",
     "text": [
      "epoch - 1 val_loss - 0.59 val acc - 0.691 val auc - 0.708\n"
     ]
    },
    {
     "name": "stderr",
     "output_type": "stream",
     "text": [
      "loss - 0.5271: 100%|██████████| 14/14 [00:01<00:00,  7.07it/s]\n",
      "  0%|          | 0/2 [00:00<?, ?it/s]"
     ]
    },
    {
     "name": "stdout",
     "output_type": "stream",
     "text": [
      "epoch - 2 train_loss - 0.52 acc - 0.746 auc - 0.751\n"
     ]
    },
    {
     "name": "stderr",
     "output_type": "stream",
     "text": [
      "valid loss - 0.5574: 100%|██████████| 2/2 [00:00<00:00,  4.19it/s]\n",
      "  0%|          | 0/14 [00:00<?, ?it/s]"
     ]
    },
    {
     "name": "stdout",
     "output_type": "stream",
     "text": [
      "epoch - 2 val_loss - 0.57 val acc - 0.701 val auc - 0.733\n"
     ]
    },
    {
     "name": "stderr",
     "output_type": "stream",
     "text": [
      "loss - 0.5020: 100%|██████████| 14/14 [00:02<00:00,  6.81it/s]\n",
      "  0%|          | 0/2 [00:00<?, ?it/s]"
     ]
    },
    {
     "name": "stdout",
     "output_type": "stream",
     "text": [
      "epoch - 3 train_loss - 0.50 acc - 0.754 auc - 0.771\n"
     ]
    },
    {
     "name": "stderr",
     "output_type": "stream",
     "text": [
      "valid loss - 0.5512: 100%|██████████| 2/2 [00:00<00:00,  4.23it/s]\n",
      "  0%|          | 0/14 [00:00<?, ?it/s]"
     ]
    },
    {
     "name": "stdout",
     "output_type": "stream",
     "text": [
      "epoch - 3 val_loss - 0.56 val acc - 0.710 val auc - 0.750\n"
     ]
    },
    {
     "name": "stderr",
     "output_type": "stream",
     "text": [
      "loss - 0.5234: 100%|██████████| 14/14 [00:01<00:00,  7.08it/s]\n",
      "  0%|          | 0/2 [00:00<?, ?it/s]"
     ]
    },
    {
     "name": "stdout",
     "output_type": "stream",
     "text": [
      "epoch - 4 train_loss - 0.49 acc - 0.762 auc - 0.788\n"
     ]
    },
    {
     "name": "stderr",
     "output_type": "stream",
     "text": [
      "valid loss - 0.5456: 100%|██████████| 2/2 [00:00<00:00,  3.50it/s]\n",
      "  0%|          | 0/14 [00:00<?, ?it/s]"
     ]
    },
    {
     "name": "stdout",
     "output_type": "stream",
     "text": [
      "epoch - 4 val_loss - 0.55 val acc - 0.716 val auc - 0.764\n"
     ]
    },
    {
     "name": "stderr",
     "output_type": "stream",
     "text": [
      "loss - 0.4623: 100%|██████████| 14/14 [00:02<00:00,  6.16it/s]\n",
      "  0%|          | 0/2 [00:00<?, ?it/s]"
     ]
    },
    {
     "name": "stdout",
     "output_type": "stream",
     "text": [
      "epoch - 5 train_loss - 0.48 acc - 0.769 auc - 0.803\n"
     ]
    },
    {
     "name": "stderr",
     "output_type": "stream",
     "text": [
      "valid loss - 0.5283: 100%|██████████| 2/2 [00:00<00:00,  4.19it/s]\n",
      "  0%|          | 0/14 [00:00<?, ?it/s]"
     ]
    },
    {
     "name": "stdout",
     "output_type": "stream",
     "text": [
      "epoch - 5 val_loss - 0.54 val acc - 0.723 val auc - 0.775\n"
     ]
    },
    {
     "name": "stderr",
     "output_type": "stream",
     "text": [
      "loss - 0.4727: 100%|██████████| 14/14 [00:02<00:00,  6.86it/s]\n",
      "  0%|          | 0/2 [00:00<?, ?it/s]"
     ]
    },
    {
     "name": "stdout",
     "output_type": "stream",
     "text": [
      "epoch - 6 train_loss - 0.47 acc - 0.774 auc - 0.813\n"
     ]
    },
    {
     "name": "stderr",
     "output_type": "stream",
     "text": [
      "valid loss - 0.5307: 100%|██████████| 2/2 [00:00<00:00,  2.61it/s]\n",
      "  0%|          | 0/14 [00:00<?, ?it/s]"
     ]
    },
    {
     "name": "stdout",
     "output_type": "stream",
     "text": [
      "epoch - 6 val_loss - 0.53 val acc - 0.726 val auc - 0.783\n"
     ]
    },
    {
     "name": "stderr",
     "output_type": "stream",
     "text": [
      "loss - 0.4627: 100%|██████████| 14/14 [00:01<00:00,  7.08it/s]\n",
      "  0%|          | 0/2 [00:00<?, ?it/s]"
     ]
    },
    {
     "name": "stdout",
     "output_type": "stream",
     "text": [
      "epoch - 7 train_loss - 0.46 acc - 0.778 auc - 0.822\n"
     ]
    },
    {
     "name": "stderr",
     "output_type": "stream",
     "text": [
      "valid loss - 0.5382: 100%|██████████| 2/2 [00:00<00:00,  4.54it/s]\n",
      "  0%|          | 0/14 [00:00<?, ?it/s]"
     ]
    },
    {
     "name": "stdout",
     "output_type": "stream",
     "text": [
      "epoch - 7 val_loss - 0.53 val acc - 0.726 val auc - 0.787\n"
     ]
    },
    {
     "name": "stderr",
     "output_type": "stream",
     "text": [
      "loss - 0.4558: 100%|██████████| 14/14 [00:01<00:00,  7.35it/s]\n",
      "  0%|          | 0/2 [00:00<?, ?it/s]"
     ]
    },
    {
     "name": "stdout",
     "output_type": "stream",
     "text": [
      "epoch - 8 train_loss - 0.45 acc - 0.781 auc - 0.828\n"
     ]
    },
    {
     "name": "stderr",
     "output_type": "stream",
     "text": [
      "valid loss - 0.5308: 100%|██████████| 2/2 [00:00<00:00,  4.39it/s]\n",
      "  0%|          | 0/14 [00:00<?, ?it/s]"
     ]
    },
    {
     "name": "stdout",
     "output_type": "stream",
     "text": [
      "epoch - 8 val_loss - 0.52 val acc - 0.731 val auc - 0.791\n"
     ]
    },
    {
     "name": "stderr",
     "output_type": "stream",
     "text": [
      "loss - 0.4651: 100%|██████████| 14/14 [00:01<00:00,  7.32it/s]\n",
      "  0%|          | 0/2 [00:00<?, ?it/s]"
     ]
    },
    {
     "name": "stdout",
     "output_type": "stream",
     "text": [
      "epoch - 9 train_loss - 0.45 acc - 0.783 auc - 0.833\n"
     ]
    },
    {
     "name": "stderr",
     "output_type": "stream",
     "text": [
      "valid loss - 0.5323: 100%|██████████| 2/2 [00:00<00:00,  4.52it/s]\n",
      "  0%|          | 0/14 [00:00<?, ?it/s]"
     ]
    },
    {
     "name": "stdout",
     "output_type": "stream",
     "text": [
      "epoch - 9 val_loss - 0.52 val acc - 0.732 val auc - 0.794\n"
     ]
    },
    {
     "name": "stderr",
     "output_type": "stream",
     "text": [
      "loss - 0.4348: 100%|██████████| 14/14 [00:01<00:00,  7.28it/s]\n",
      "  0%|          | 0/2 [00:00<?, ?it/s]"
     ]
    },
    {
     "name": "stdout",
     "output_type": "stream",
     "text": [
      "epoch - 10 train_loss - 0.44 acc - 0.786 auc - 0.837\n"
     ]
    },
    {
     "name": "stderr",
     "output_type": "stream",
     "text": [
      "valid loss - 0.5168: 100%|██████████| 2/2 [00:00<00:00,  3.34it/s]\n",
      "  0%|          | 0/14 [00:00<?, ?it/s]"
     ]
    },
    {
     "name": "stdout",
     "output_type": "stream",
     "text": [
      "epoch - 10 val_loss - 0.52 val acc - 0.735 val auc - 0.796\n"
     ]
    },
    {
     "name": "stderr",
     "output_type": "stream",
     "text": [
      "loss - 0.4441: 100%|██████████| 14/14 [00:02<00:00,  6.62it/s]\n",
      "  0%|          | 0/2 [00:00<?, ?it/s]"
     ]
    },
    {
     "name": "stdout",
     "output_type": "stream",
     "text": [
      "epoch - 11 train_loss - 0.44 acc - 0.787 auc - 0.840\n"
     ]
    },
    {
     "name": "stderr",
     "output_type": "stream",
     "text": [
      "valid loss - 0.5111: 100%|██████████| 2/2 [00:00<00:00,  4.55it/s]\n",
      "  0%|          | 0/14 [00:00<?, ?it/s]"
     ]
    },
    {
     "name": "stdout",
     "output_type": "stream",
     "text": [
      "epoch - 11 val_loss - 0.52 val acc - 0.735 val auc - 0.797\n"
     ]
    },
    {
     "name": "stderr",
     "output_type": "stream",
     "text": [
      "loss - 0.4292: 100%|██████████| 14/14 [00:02<00:00,  6.80it/s]\n",
      "  0%|          | 0/2 [00:00<?, ?it/s]"
     ]
    },
    {
     "name": "stdout",
     "output_type": "stream",
     "text": [
      "epoch - 12 train_loss - 0.43 acc - 0.788 auc - 0.843\n"
     ]
    },
    {
     "name": "stderr",
     "output_type": "stream",
     "text": [
      "valid loss - 0.4984: 100%|██████████| 2/2 [00:00<00:00,  4.58it/s]\n",
      "  0%|          | 0/14 [00:00<?, ?it/s]"
     ]
    },
    {
     "name": "stdout",
     "output_type": "stream",
     "text": [
      "epoch - 12 val_loss - 0.51 val acc - 0.735 val auc - 0.798\n"
     ]
    },
    {
     "name": "stderr",
     "output_type": "stream",
     "text": [
      "loss - 0.4346: 100%|██████████| 14/14 [00:01<00:00,  7.38it/s]\n",
      "  0%|          | 0/2 [00:00<?, ?it/s]"
     ]
    },
    {
     "name": "stdout",
     "output_type": "stream",
     "text": [
      "epoch - 13 train_loss - 0.43 acc - 0.790 auc - 0.845\n"
     ]
    },
    {
     "name": "stderr",
     "output_type": "stream",
     "text": [
      "valid loss - 0.5256: 100%|██████████| 2/2 [00:00<00:00,  4.53it/s]\n",
      "  0%|          | 0/14 [00:00<?, ?it/s]"
     ]
    },
    {
     "name": "stdout",
     "output_type": "stream",
     "text": [
      "epoch - 13 val_loss - 0.52 val acc - 0.737 val auc - 0.799\n"
     ]
    },
    {
     "name": "stderr",
     "output_type": "stream",
     "text": [
      "loss - 0.4268: 100%|██████████| 14/14 [00:01<00:00,  7.39it/s]\n",
      "  0%|          | 0/2 [00:00<?, ?it/s]"
     ]
    },
    {
     "name": "stdout",
     "output_type": "stream",
     "text": [
      "epoch - 14 train_loss - 0.43 acc - 0.791 auc - 0.847\n"
     ]
    },
    {
     "name": "stderr",
     "output_type": "stream",
     "text": [
      "valid loss - 0.5114: 100%|██████████| 2/2 [00:00<00:00,  4.48it/s]\n",
      "  0%|          | 0/14 [00:00<?, ?it/s]"
     ]
    },
    {
     "name": "stdout",
     "output_type": "stream",
     "text": [
      "epoch - 14 val_loss - 0.51 val acc - 0.738 val auc - 0.800\n"
     ]
    },
    {
     "name": "stderr",
     "output_type": "stream",
     "text": [
      "loss - 0.4046: 100%|██████████| 14/14 [00:01<00:00,  7.43it/s]\n",
      "  0%|          | 0/2 [00:00<?, ?it/s]"
     ]
    },
    {
     "name": "stdout",
     "output_type": "stream",
     "text": [
      "epoch - 15 train_loss - 0.43 acc - 0.791 auc - 0.849\n"
     ]
    },
    {
     "name": "stderr",
     "output_type": "stream",
     "text": [
      "valid loss - 0.5338: 100%|██████████| 2/2 [00:00<00:00,  4.48it/s]\n",
      "  0%|          | 0/14 [00:00<?, ?it/s]"
     ]
    },
    {
     "name": "stdout",
     "output_type": "stream",
     "text": [
      "epoch - 15 val_loss - 0.52 val acc - 0.738 val auc - 0.800\n"
     ]
    },
    {
     "name": "stderr",
     "output_type": "stream",
     "text": [
      "loss - 0.4439: 100%|██████████| 14/14 [00:02<00:00,  6.69it/s]\n",
      "  0%|          | 0/2 [00:00<?, ?it/s]"
     ]
    },
    {
     "name": "stdout",
     "output_type": "stream",
     "text": [
      "epoch - 16 train_loss - 0.42 acc - 0.793 auc - 0.851\n"
     ]
    },
    {
     "name": "stderr",
     "output_type": "stream",
     "text": [
      "valid loss - 0.4989: 100%|██████████| 2/2 [00:00<00:00,  4.42it/s]\n",
      "  0%|          | 0/14 [00:00<?, ?it/s]"
     ]
    },
    {
     "name": "stdout",
     "output_type": "stream",
     "text": [
      "epoch - 16 val_loss - 0.51 val acc - 0.739 val auc - 0.801\n"
     ]
    },
    {
     "name": "stderr",
     "output_type": "stream",
     "text": [
      "loss - 0.4287: 100%|██████████| 14/14 [00:01<00:00,  7.36it/s]\n",
      "  0%|          | 0/2 [00:00<?, ?it/s]"
     ]
    },
    {
     "name": "stdout",
     "output_type": "stream",
     "text": [
      "epoch - 17 train_loss - 0.42 acc - 0.793 auc - 0.853\n"
     ]
    },
    {
     "name": "stderr",
     "output_type": "stream",
     "text": [
      "valid loss - 0.5215: 100%|██████████| 2/2 [00:00<00:00,  2.78it/s]\n",
      "  0%|          | 0/14 [00:00<?, ?it/s]"
     ]
    },
    {
     "name": "stdout",
     "output_type": "stream",
     "text": [
      "epoch - 17 val_loss - 0.51 val acc - 0.739 val auc - 0.802\n"
     ]
    },
    {
     "name": "stderr",
     "output_type": "stream",
     "text": [
      "loss - 0.4309: 100%|██████████| 14/14 [00:02<00:00,  6.50it/s]\n",
      "  0%|          | 0/2 [00:00<?, ?it/s]"
     ]
    },
    {
     "name": "stdout",
     "output_type": "stream",
     "text": [
      "epoch - 18 train_loss - 0.42 acc - 0.795 auc - 0.855\n"
     ]
    },
    {
     "name": "stderr",
     "output_type": "stream",
     "text": [
      "valid loss - 0.5051: 100%|██████████| 2/2 [00:00<00:00,  4.42it/s]\n",
      "  0%|          | 0/14 [00:00<?, ?it/s]"
     ]
    },
    {
     "name": "stdout",
     "output_type": "stream",
     "text": [
      "epoch - 18 val_loss - 0.51 val acc - 0.738 val auc - 0.802\n"
     ]
    },
    {
     "name": "stderr",
     "output_type": "stream",
     "text": [
      "loss - 0.4151: 100%|██████████| 14/14 [00:01<00:00,  7.37it/s]\n",
      "  0%|          | 0/2 [00:00<?, ?it/s]"
     ]
    },
    {
     "name": "stdout",
     "output_type": "stream",
     "text": [
      "epoch - 19 train_loss - 0.42 acc - 0.796 auc - 0.856\n"
     ]
    },
    {
     "name": "stderr",
     "output_type": "stream",
     "text": [
      "valid loss - 0.5131: 100%|██████████| 2/2 [00:00<00:00,  3.25it/s]\n",
      "  0%|          | 0/14 [00:00<?, ?it/s]"
     ]
    },
    {
     "name": "stdout",
     "output_type": "stream",
     "text": [
      "epoch - 19 val_loss - 0.51 val acc - 0.741 val auc - 0.803\n"
     ]
    },
    {
     "name": "stderr",
     "output_type": "stream",
     "text": [
      "loss - 0.4360: 100%|██████████| 14/14 [00:02<00:00,  6.81it/s]\n",
      "  0%|          | 0/2 [00:00<?, ?it/s]"
     ]
    },
    {
     "name": "stdout",
     "output_type": "stream",
     "text": [
      "epoch - 20 train_loss - 0.42 acc - 0.797 auc - 0.858\n"
     ]
    },
    {
     "name": "stderr",
     "output_type": "stream",
     "text": [
      "valid loss - 0.4922: 100%|██████████| 2/2 [00:00<00:00,  4.20it/s]\n",
      "  0%|          | 0/14 [00:00<?, ?it/s]"
     ]
    },
    {
     "name": "stdout",
     "output_type": "stream",
     "text": [
      "epoch - 20 val_loss - 0.51 val acc - 0.741 val auc - 0.803\n"
     ]
    },
    {
     "name": "stderr",
     "output_type": "stream",
     "text": [
      "loss - 0.4517: 100%|██████████| 14/14 [00:02<00:00,  6.46it/s]\n",
      "  0%|          | 0/2 [00:00<?, ?it/s]"
     ]
    },
    {
     "name": "stdout",
     "output_type": "stream",
     "text": [
      "epoch - 21 train_loss - 0.41 acc - 0.798 auc - 0.859\n"
     ]
    },
    {
     "name": "stderr",
     "output_type": "stream",
     "text": [
      "valid loss - 0.4927: 100%|██████████| 2/2 [00:00<00:00,  3.07it/s]\n",
      "  0%|          | 0/14 [00:00<?, ?it/s]"
     ]
    },
    {
     "name": "stdout",
     "output_type": "stream",
     "text": [
      "epoch - 21 val_loss - 0.51 val acc - 0.741 val auc - 0.804\n"
     ]
    },
    {
     "name": "stderr",
     "output_type": "stream",
     "text": [
      "loss - 0.3976: 100%|██████████| 14/14 [00:02<00:00,  6.98it/s]\n",
      "  0%|          | 0/2 [00:00<?, ?it/s]"
     ]
    },
    {
     "name": "stdout",
     "output_type": "stream",
     "text": [
      "epoch - 22 train_loss - 0.41 acc - 0.799 auc - 0.861\n"
     ]
    },
    {
     "name": "stderr",
     "output_type": "stream",
     "text": [
      "valid loss - 0.4946: 100%|██████████| 2/2 [00:00<00:00,  4.15it/s]\n",
      "  0%|          | 0/14 [00:00<?, ?it/s]"
     ]
    },
    {
     "name": "stdout",
     "output_type": "stream",
     "text": [
      "epoch - 22 val_loss - 0.51 val acc - 0.741 val auc - 0.803\n"
     ]
    },
    {
     "name": "stderr",
     "output_type": "stream",
     "text": [
      "loss - 0.3743: 100%|██████████| 14/14 [00:02<00:00,  6.28it/s]\n",
      "  0%|          | 0/2 [00:00<?, ?it/s]"
     ]
    },
    {
     "name": "stdout",
     "output_type": "stream",
     "text": [
      "epoch - 23 train_loss - 0.41 acc - 0.801 auc - 0.862\n"
     ]
    },
    {
     "name": "stderr",
     "output_type": "stream",
     "text": [
      "valid loss - 0.5133: 100%|██████████| 2/2 [00:00<00:00,  4.20it/s]\n",
      "  0%|          | 0/14 [00:00<?, ?it/s]"
     ]
    },
    {
     "name": "stdout",
     "output_type": "stream",
     "text": [
      "epoch - 23 val_loss - 0.51 val acc - 0.741 val auc - 0.804\n"
     ]
    },
    {
     "name": "stderr",
     "output_type": "stream",
     "text": [
      "loss - 0.4001: 100%|██████████| 14/14 [00:02<00:00,  6.74it/s]\n",
      "  0%|          | 0/2 [00:00<?, ?it/s]"
     ]
    },
    {
     "name": "stdout",
     "output_type": "stream",
     "text": [
      "epoch - 24 train_loss - 0.41 acc - 0.801 auc - 0.864\n"
     ]
    },
    {
     "name": "stderr",
     "output_type": "stream",
     "text": [
      "valid loss - 0.4993: 100%|██████████| 2/2 [00:00<00:00,  4.27it/s]\n",
      "  0%|          | 0/14 [00:00<?, ?it/s]"
     ]
    },
    {
     "name": "stdout",
     "output_type": "stream",
     "text": [
      "epoch - 24 val_loss - 0.51 val acc - 0.739 val auc - 0.805\n"
     ]
    },
    {
     "name": "stderr",
     "output_type": "stream",
     "text": [
      "loss - 0.4154: 100%|██████████| 14/14 [00:02<00:00,  6.86it/s]\n",
      "  0%|          | 0/2 [00:00<?, ?it/s]"
     ]
    },
    {
     "name": "stdout",
     "output_type": "stream",
     "text": [
      "epoch - 25 train_loss - 0.41 acc - 0.802 auc - 0.865\n"
     ]
    },
    {
     "name": "stderr",
     "output_type": "stream",
     "text": [
      "valid loss - 0.4905: 100%|██████████| 2/2 [00:00<00:00,  4.24it/s]\n",
      "  0%|          | 0/14 [00:00<?, ?it/s]"
     ]
    },
    {
     "name": "stdout",
     "output_type": "stream",
     "text": [
      "epoch - 25 val_loss - 0.51 val acc - 0.742 val auc - 0.804\n"
     ]
    },
    {
     "name": "stderr",
     "output_type": "stream",
     "text": [
      "loss - 0.3940: 100%|██████████| 14/14 [00:02<00:00,  6.88it/s]\n",
      "  0%|          | 0/2 [00:00<?, ?it/s]"
     ]
    },
    {
     "name": "stdout",
     "output_type": "stream",
     "text": [
      "epoch - 26 train_loss - 0.40 acc - 0.803 auc - 0.866\n"
     ]
    },
    {
     "name": "stderr",
     "output_type": "stream",
     "text": [
      "valid loss - 0.5088: 100%|██████████| 2/2 [00:00<00:00,  3.21it/s]\n",
      "  0%|          | 0/14 [00:00<?, ?it/s]"
     ]
    },
    {
     "name": "stdout",
     "output_type": "stream",
     "text": [
      "epoch - 26 val_loss - 0.51 val acc - 0.740 val auc - 0.804\n"
     ]
    },
    {
     "name": "stderr",
     "output_type": "stream",
     "text": [
      "loss - 0.3955: 100%|██████████| 14/14 [00:02<00:00,  6.93it/s]\n",
      "  0%|          | 0/2 [00:00<?, ?it/s]"
     ]
    },
    {
     "name": "stdout",
     "output_type": "stream",
     "text": [
      "epoch - 27 train_loss - 0.40 acc - 0.805 auc - 0.868\n"
     ]
    },
    {
     "name": "stderr",
     "output_type": "stream",
     "text": [
      "valid loss - 0.5302: 100%|██████████| 2/2 [00:00<00:00,  4.29it/s]\n",
      "  0%|          | 0/14 [00:00<?, ?it/s]"
     ]
    },
    {
     "name": "stdout",
     "output_type": "stream",
     "text": [
      "epoch - 27 val_loss - 0.52 val acc - 0.739 val auc - 0.803\n"
     ]
    },
    {
     "name": "stderr",
     "output_type": "stream",
     "text": [
      "loss - 0.4312: 100%|██████████| 14/14 [00:02<00:00,  5.90it/s]\n",
      "  0%|          | 0/2 [00:00<?, ?it/s]"
     ]
    },
    {
     "name": "stdout",
     "output_type": "stream",
     "text": [
      "epoch - 28 train_loss - 0.40 acc - 0.805 auc - 0.868\n"
     ]
    },
    {
     "name": "stderr",
     "output_type": "stream",
     "text": [
      "valid loss - 0.5231: 100%|██████████| 2/2 [00:00<00:00,  4.53it/s]\n",
      "  0%|          | 0/14 [00:00<?, ?it/s]"
     ]
    },
    {
     "name": "stdout",
     "output_type": "stream",
     "text": [
      "epoch - 28 val_loss - 0.51 val acc - 0.737 val auc - 0.803\n"
     ]
    },
    {
     "name": "stderr",
     "output_type": "stream",
     "text": [
      "loss - 0.3812: 100%|██████████| 14/14 [00:01<00:00,  7.35it/s]\n",
      "  0%|          | 0/2 [00:00<?, ?it/s]"
     ]
    },
    {
     "name": "stdout",
     "output_type": "stream",
     "text": [
      "epoch - 29 train_loss - 0.40 acc - 0.806 auc - 0.870\n"
     ]
    },
    {
     "name": "stderr",
     "output_type": "stream",
     "text": [
      "valid loss - 0.5225: 100%|██████████| 2/2 [00:00<00:00,  4.49it/s]\n",
      "  0%|          | 0/14 [00:00<?, ?it/s]"
     ]
    },
    {
     "name": "stdout",
     "output_type": "stream",
     "text": [
      "epoch - 29 val_loss - 0.51 val acc - 0.742 val auc - 0.804\n"
     ]
    },
    {
     "name": "stderr",
     "output_type": "stream",
     "text": [
      "loss - 0.3896: 100%|██████████| 14/14 [00:01<00:00,  7.15it/s]\n",
      "  0%|          | 0/2 [00:00<?, ?it/s]"
     ]
    },
    {
     "name": "stdout",
     "output_type": "stream",
     "text": [
      "epoch - 30 train_loss - 0.40 acc - 0.808 auc - 0.871\n"
     ]
    },
    {
     "name": "stderr",
     "output_type": "stream",
     "text": [
      "valid loss - 0.4924: 100%|██████████| 2/2 [00:00<00:00,  4.50it/s]\n",
      "  0%|          | 0/2 [00:00<?, ?it/s]"
     ]
    },
    {
     "name": "stdout",
     "output_type": "stream",
     "text": [
      "epoch - 30 val_loss - 0.51 val acc - 0.742 val auc - 0.804\n",
      "Val Loss does not improve for 5 consecutive epochs\n"
     ]
    },
    {
     "name": "stderr",
     "output_type": "stream",
     "text": [
      "valid loss - 0.3308: 100%|██████████| 2/2 [00:00<00:00,  4.60it/s]\n",
      "  0%|          | 0/14 [00:00<?, ?it/s]"
     ]
    },
    {
     "name": "stdout",
     "output_type": "stream",
     "text": [
      "epoch - 30 test_loss - 0.34 acc - 0.843 auc - 0.883\n"
     ]
    },
    {
     "name": "stderr",
     "output_type": "stream",
     "text": [
      "valid loss - 0.3937: 100%|██████████| 14/14 [00:01<00:00,  8.51it/s]\n",
      "  0%|          | 0/14 [00:00<?, ?it/s]"
     ]
    },
    {
     "name": "stdout",
     "output_type": "stream",
     "text": [
      "----------------------------------------------------------------------------\n"
     ]
    },
    {
     "name": "stderr",
     "output_type": "stream",
     "text": [
      "loss - 0.5845: 100%|██████████| 14/14 [00:02<00:00,  6.98it/s]\n",
      "  0%|          | 0/2 [00:00<?, ?it/s]"
     ]
    },
    {
     "name": "stdout",
     "output_type": "stream",
     "text": [
      "epoch - 0 train_loss - 0.64 acc - 0.660 auc - 0.562\n"
     ]
    },
    {
     "name": "stderr",
     "output_type": "stream",
     "text": [
      "valid loss - 0.6190: 100%|██████████| 2/2 [00:00<00:00,  3.42it/s]\n",
      "  0%|          | 0/14 [00:00<?, ?it/s]"
     ]
    },
    {
     "name": "stdout",
     "output_type": "stream",
     "text": [
      "epoch - 0 val_loss - 0.63 val acc - 0.658 val auc - 0.643\n"
     ]
    },
    {
     "name": "stderr",
     "output_type": "stream",
     "text": [
      "loss - 0.5251: 100%|██████████| 14/14 [00:01<00:00,  7.24it/s]\n",
      "  0%|          | 0/2 [00:00<?, ?it/s]"
     ]
    },
    {
     "name": "stdout",
     "output_type": "stream",
     "text": [
      "epoch - 1 train_loss - 0.54 acc - 0.729 auc - 0.710\n"
     ]
    },
    {
     "name": "stderr",
     "output_type": "stream",
     "text": [
      "valid loss - 0.5944: 100%|██████████| 2/2 [00:00<00:00,  4.51it/s]\n",
      "  0%|          | 0/14 [00:00<?, ?it/s]"
     ]
    },
    {
     "name": "stdout",
     "output_type": "stream",
     "text": [
      "epoch - 1 val_loss - 0.59 val acc - 0.689 val auc - 0.711\n"
     ]
    },
    {
     "name": "stderr",
     "output_type": "stream",
     "text": [
      "loss - 0.4994: 100%|██████████| 14/14 [00:02<00:00,  6.85it/s]\n",
      "  0%|          | 0/2 [00:00<?, ?it/s]"
     ]
    },
    {
     "name": "stdout",
     "output_type": "stream",
     "text": [
      "epoch - 2 train_loss - 0.52 acc - 0.745 auc - 0.755\n"
     ]
    },
    {
     "name": "stderr",
     "output_type": "stream",
     "text": [
      "valid loss - 0.5598: 100%|██████████| 2/2 [00:00<00:00,  4.48it/s]\n",
      "  0%|          | 0/14 [00:00<?, ?it/s]"
     ]
    },
    {
     "name": "stdout",
     "output_type": "stream",
     "text": [
      "epoch - 2 val_loss - 0.57 val acc - 0.701 val auc - 0.732\n"
     ]
    },
    {
     "name": "stderr",
     "output_type": "stream",
     "text": [
      "loss - 0.4745: 100%|██████████| 14/14 [00:01<00:00,  7.42it/s]\n",
      "  0%|          | 0/2 [00:00<?, ?it/s]"
     ]
    },
    {
     "name": "stdout",
     "output_type": "stream",
     "text": [
      "epoch - 3 train_loss - 0.50 acc - 0.754 auc - 0.775\n"
     ]
    },
    {
     "name": "stderr",
     "output_type": "stream",
     "text": [
      "valid loss - 0.5645: 100%|██████████| 2/2 [00:00<00:00,  4.57it/s]\n",
      "  0%|          | 0/14 [00:00<?, ?it/s]"
     ]
    },
    {
     "name": "stdout",
     "output_type": "stream",
     "text": [
      "epoch - 3 val_loss - 0.56 val acc - 0.709 val auc - 0.748\n"
     ]
    },
    {
     "name": "stderr",
     "output_type": "stream",
     "text": [
      "loss - 0.4745: 100%|██████████| 14/14 [00:01<00:00,  7.49it/s]\n",
      "  0%|          | 0/2 [00:00<?, ?it/s]"
     ]
    },
    {
     "name": "stdout",
     "output_type": "stream",
     "text": [
      "epoch - 4 train_loss - 0.49 acc - 0.762 auc - 0.790\n"
     ]
    },
    {
     "name": "stderr",
     "output_type": "stream",
     "text": [
      "valid loss - 0.5447: 100%|██████████| 2/2 [00:00<00:00,  4.28it/s]\n",
      "  0%|          | 0/14 [00:00<?, ?it/s]"
     ]
    },
    {
     "name": "stdout",
     "output_type": "stream",
     "text": [
      "epoch - 4 val_loss - 0.55 val acc - 0.715 val auc - 0.759\n"
     ]
    },
    {
     "name": "stderr",
     "output_type": "stream",
     "text": [
      "loss - 0.4735: 100%|██████████| 14/14 [00:01<00:00,  7.29it/s]\n",
      "  0%|          | 0/2 [00:00<?, ?it/s]"
     ]
    },
    {
     "name": "stdout",
     "output_type": "stream",
     "text": [
      "epoch - 5 train_loss - 0.48 acc - 0.768 auc - 0.802\n"
     ]
    },
    {
     "name": "stderr",
     "output_type": "stream",
     "text": [
      "valid loss - 0.5468: 100%|██████████| 2/2 [00:00<00:00,  4.47it/s]\n",
      "  0%|          | 0/14 [00:00<?, ?it/s]"
     ]
    },
    {
     "name": "stdout",
     "output_type": "stream",
     "text": [
      "epoch - 5 val_loss - 0.54 val acc - 0.720 val auc - 0.768\n"
     ]
    },
    {
     "name": "stderr",
     "output_type": "stream",
     "text": [
      "loss - 0.4700: 100%|██████████| 14/14 [00:02<00:00,  6.20it/s]\n",
      "  0%|          | 0/2 [00:00<?, ?it/s]"
     ]
    },
    {
     "name": "stdout",
     "output_type": "stream",
     "text": [
      "epoch - 6 train_loss - 0.47 acc - 0.773 auc - 0.811\n"
     ]
    },
    {
     "name": "stderr",
     "output_type": "stream",
     "text": [
      "valid loss - 0.5523: 100%|██████████| 2/2 [00:00<00:00,  4.55it/s]\n",
      "  0%|          | 0/14 [00:00<?, ?it/s]"
     ]
    },
    {
     "name": "stdout",
     "output_type": "stream",
     "text": [
      "epoch - 6 val_loss - 0.54 val acc - 0.723 val auc - 0.776\n"
     ]
    },
    {
     "name": "stderr",
     "output_type": "stream",
     "text": [
      "loss - 0.4737: 100%|██████████| 14/14 [00:01<00:00,  7.45it/s]\n",
      "  0%|          | 0/2 [00:00<?, ?it/s]"
     ]
    },
    {
     "name": "stdout",
     "output_type": "stream",
     "text": [
      "epoch - 7 train_loss - 0.46 acc - 0.777 auc - 0.819\n"
     ]
    },
    {
     "name": "stderr",
     "output_type": "stream",
     "text": [
      "valid loss - 0.5301: 100%|██████████| 2/2 [00:00<00:00,  4.32it/s]\n",
      "  0%|          | 0/14 [00:00<?, ?it/s]"
     ]
    },
    {
     "name": "stdout",
     "output_type": "stream",
     "text": [
      "epoch - 7 val_loss - 0.53 val acc - 0.725 val auc - 0.780\n"
     ]
    },
    {
     "name": "stderr",
     "output_type": "stream",
     "text": [
      "loss - 0.4585: 100%|██████████| 14/14 [00:01<00:00,  7.22it/s]\n",
      "  0%|          | 0/2 [00:00<?, ?it/s]"
     ]
    },
    {
     "name": "stdout",
     "output_type": "stream",
     "text": [
      "epoch - 8 train_loss - 0.45 acc - 0.780 auc - 0.825\n"
     ]
    },
    {
     "name": "stderr",
     "output_type": "stream",
     "text": [
      "valid loss - 0.5245: 100%|██████████| 2/2 [00:00<00:00,  4.15it/s]\n",
      "  0%|          | 0/14 [00:00<?, ?it/s]"
     ]
    },
    {
     "name": "stdout",
     "output_type": "stream",
     "text": [
      "epoch - 8 val_loss - 0.53 val acc - 0.727 val auc - 0.783\n"
     ]
    },
    {
     "name": "stderr",
     "output_type": "stream",
     "text": [
      "loss - 0.4734: 100%|██████████| 14/14 [00:02<00:00,  6.89it/s]\n",
      "  0%|          | 0/2 [00:00<?, ?it/s]"
     ]
    },
    {
     "name": "stdout",
     "output_type": "stream",
     "text": [
      "epoch - 9 train_loss - 0.45 acc - 0.782 auc - 0.829\n"
     ]
    },
    {
     "name": "stderr",
     "output_type": "stream",
     "text": [
      "valid loss - 0.5340: 100%|██████████| 2/2 [00:00<00:00,  3.13it/s]\n",
      "  0%|          | 0/14 [00:00<?, ?it/s]"
     ]
    },
    {
     "name": "stdout",
     "output_type": "stream",
     "text": [
      "epoch - 9 val_loss - 0.53 val acc - 0.727 val auc - 0.787\n"
     ]
    },
    {
     "name": "stderr",
     "output_type": "stream",
     "text": [
      "loss - 0.4225: 100%|██████████| 14/14 [00:02<00:00,  6.83it/s]\n",
      "  0%|          | 0/2 [00:00<?, ?it/s]"
     ]
    },
    {
     "name": "stdout",
     "output_type": "stream",
     "text": [
      "epoch - 10 train_loss - 0.44 acc - 0.784 auc - 0.833\n"
     ]
    },
    {
     "name": "stderr",
     "output_type": "stream",
     "text": [
      "valid loss - 0.5281: 100%|██████████| 2/2 [00:00<00:00,  4.26it/s]\n",
      "  0%|          | 0/14 [00:00<?, ?it/s]"
     ]
    },
    {
     "name": "stdout",
     "output_type": "stream",
     "text": [
      "epoch - 10 val_loss - 0.53 val acc - 0.729 val auc - 0.788\n"
     ]
    },
    {
     "name": "stderr",
     "output_type": "stream",
     "text": [
      "loss - 0.4220: 100%|██████████| 14/14 [00:02<00:00,  6.57it/s]\n",
      "  0%|          | 0/2 [00:00<?, ?it/s]"
     ]
    },
    {
     "name": "stdout",
     "output_type": "stream",
     "text": [
      "epoch - 11 train_loss - 0.44 acc - 0.785 auc - 0.836\n"
     ]
    },
    {
     "name": "stderr",
     "output_type": "stream",
     "text": [
      "valid loss - 0.5319: 100%|██████████| 2/2 [00:00<00:00,  3.38it/s]\n",
      "  0%|          | 0/14 [00:00<?, ?it/s]"
     ]
    },
    {
     "name": "stdout",
     "output_type": "stream",
     "text": [
      "epoch - 11 val_loss - 0.52 val acc - 0.731 val auc - 0.790\n"
     ]
    },
    {
     "name": "stderr",
     "output_type": "stream",
     "text": [
      "loss - 0.4472: 100%|██████████| 14/14 [00:02<00:00,  6.51it/s]\n",
      "  0%|          | 0/2 [00:00<?, ?it/s]"
     ]
    },
    {
     "name": "stdout",
     "output_type": "stream",
     "text": [
      "epoch - 12 train_loss - 0.44 acc - 0.786 auc - 0.839\n"
     ]
    },
    {
     "name": "stderr",
     "output_type": "stream",
     "text": [
      "valid loss - 0.5103: 100%|██████████| 2/2 [00:00<00:00,  4.21it/s]\n",
      "  0%|          | 0/14 [00:00<?, ?it/s]"
     ]
    },
    {
     "name": "stdout",
     "output_type": "stream",
     "text": [
      "epoch - 12 val_loss - 0.52 val acc - 0.731 val auc - 0.791\n"
     ]
    },
    {
     "name": "stderr",
     "output_type": "stream",
     "text": [
      "loss - 0.4322: 100%|██████████| 14/14 [00:02<00:00,  6.43it/s]\n",
      "  0%|          | 0/2 [00:00<?, ?it/s]"
     ]
    },
    {
     "name": "stdout",
     "output_type": "stream",
     "text": [
      "epoch - 13 train_loss - 0.43 acc - 0.788 auc - 0.841\n"
     ]
    },
    {
     "name": "stderr",
     "output_type": "stream",
     "text": [
      "valid loss - 0.5492: 100%|██████████| 2/2 [00:00<00:00,  4.29it/s]\n",
      "  0%|          | 0/14 [00:00<?, ?it/s]"
     ]
    },
    {
     "name": "stdout",
     "output_type": "stream",
     "text": [
      "epoch - 13 val_loss - 0.53 val acc - 0.730 val auc - 0.792\n"
     ]
    },
    {
     "name": "stderr",
     "output_type": "stream",
     "text": [
      "loss - 0.4524: 100%|██████████| 14/14 [00:02<00:00,  6.89it/s]\n",
      "  0%|          | 0/2 [00:00<?, ?it/s]"
     ]
    },
    {
     "name": "stdout",
     "output_type": "stream",
     "text": [
      "epoch - 14 train_loss - 0.43 acc - 0.788 auc - 0.843\n"
     ]
    },
    {
     "name": "stderr",
     "output_type": "stream",
     "text": [
      "valid loss - 0.5269: 100%|██████████| 2/2 [00:00<00:00,  4.21it/s]\n",
      "  0%|          | 0/14 [00:00<?, ?it/s]"
     ]
    },
    {
     "name": "stdout",
     "output_type": "stream",
     "text": [
      "epoch - 14 val_loss - 0.52 val acc - 0.734 val auc - 0.794\n"
     ]
    },
    {
     "name": "stderr",
     "output_type": "stream",
     "text": [
      "loss - 0.4072: 100%|██████████| 14/14 [00:01<00:00,  7.02it/s]\n",
      "  0%|          | 0/2 [00:00<?, ?it/s]"
     ]
    },
    {
     "name": "stdout",
     "output_type": "stream",
     "text": [
      "epoch - 15 train_loss - 0.43 acc - 0.790 auc - 0.845\n"
     ]
    },
    {
     "name": "stderr",
     "output_type": "stream",
     "text": [
      "valid loss - 0.5055: 100%|██████████| 2/2 [00:00<00:00,  3.85it/s]\n",
      "  0%|          | 0/14 [00:00<?, ?it/s]"
     ]
    },
    {
     "name": "stdout",
     "output_type": "stream",
     "text": [
      "epoch - 15 val_loss - 0.52 val acc - 0.732 val auc - 0.794\n"
     ]
    },
    {
     "name": "stderr",
     "output_type": "stream",
     "text": [
      "loss - 0.4166: 100%|██████████| 14/14 [00:02<00:00,  6.74it/s]\n",
      "  0%|          | 0/2 [00:00<?, ?it/s]"
     ]
    },
    {
     "name": "stdout",
     "output_type": "stream",
     "text": [
      "epoch - 16 train_loss - 0.43 acc - 0.791 auc - 0.847\n"
     ]
    },
    {
     "name": "stderr",
     "output_type": "stream",
     "text": [
      "valid loss - 0.5449: 100%|██████████| 2/2 [00:00<00:00,  3.57it/s]\n",
      "  0%|          | 0/14 [00:00<?, ?it/s]"
     ]
    },
    {
     "name": "stdout",
     "output_type": "stream",
     "text": [
      "epoch - 16 val_loss - 0.52 val acc - 0.731 val auc - 0.796\n"
     ]
    },
    {
     "name": "stderr",
     "output_type": "stream",
     "text": [
      "loss - 0.4179: 100%|██████████| 14/14 [00:02<00:00,  6.55it/s]\n",
      "  0%|          | 0/2 [00:00<?, ?it/s]"
     ]
    },
    {
     "name": "stdout",
     "output_type": "stream",
     "text": [
      "epoch - 17 train_loss - 0.43 acc - 0.792 auc - 0.849\n"
     ]
    },
    {
     "name": "stderr",
     "output_type": "stream",
     "text": [
      "valid loss - 0.5333: 100%|██████████| 2/2 [00:00<00:00,  4.22it/s]\n",
      "  0%|          | 0/14 [00:00<?, ?it/s]"
     ]
    },
    {
     "name": "stdout",
     "output_type": "stream",
     "text": [
      "epoch - 17 val_loss - 0.52 val acc - 0.733 val auc - 0.797\n"
     ]
    },
    {
     "name": "stderr",
     "output_type": "stream",
     "text": [
      "loss - 0.4442: 100%|██████████| 14/14 [00:01<00:00,  7.42it/s]\n",
      "  0%|          | 0/2 [00:00<?, ?it/s]"
     ]
    },
    {
     "name": "stdout",
     "output_type": "stream",
     "text": [
      "epoch - 18 train_loss - 0.42 acc - 0.793 auc - 0.851\n"
     ]
    },
    {
     "name": "stderr",
     "output_type": "stream",
     "text": [
      "valid loss - 0.5163: 100%|██████████| 2/2 [00:00<00:00,  4.49it/s]\n",
      "  0%|          | 0/14 [00:00<?, ?it/s]"
     ]
    },
    {
     "name": "stdout",
     "output_type": "stream",
     "text": [
      "epoch - 18 val_loss - 0.52 val acc - 0.734 val auc - 0.798\n"
     ]
    },
    {
     "name": "stderr",
     "output_type": "stream",
     "text": [
      "loss - 0.3478: 100%|██████████| 14/14 [00:02<00:00,  6.83it/s]\n",
      "  0%|          | 0/2 [00:00<?, ?it/s]"
     ]
    },
    {
     "name": "stdout",
     "output_type": "stream",
     "text": [
      "epoch - 19 train_loss - 0.42 acc - 0.794 auc - 0.852\n"
     ]
    },
    {
     "name": "stderr",
     "output_type": "stream",
     "text": [
      "valid loss - 0.5173: 100%|██████████| 2/2 [00:00<00:00,  4.46it/s]\n",
      "  0%|          | 0/14 [00:00<?, ?it/s]"
     ]
    },
    {
     "name": "stdout",
     "output_type": "stream",
     "text": [
      "epoch - 19 val_loss - 0.52 val acc - 0.735 val auc - 0.798\n"
     ]
    },
    {
     "name": "stderr",
     "output_type": "stream",
     "text": [
      "loss - 0.4065: 100%|██████████| 14/14 [00:01<00:00,  7.08it/s]\n",
      "  0%|          | 0/2 [00:00<?, ?it/s]"
     ]
    },
    {
     "name": "stdout",
     "output_type": "stream",
     "text": [
      "epoch - 20 train_loss - 0.42 acc - 0.795 auc - 0.854\n"
     ]
    },
    {
     "name": "stderr",
     "output_type": "stream",
     "text": [
      "valid loss - 0.5261: 100%|██████████| 2/2 [00:00<00:00,  4.48it/s]\n",
      "  0%|          | 0/14 [00:00<?, ?it/s]"
     ]
    },
    {
     "name": "stdout",
     "output_type": "stream",
     "text": [
      "epoch - 20 val_loss - 0.52 val acc - 0.734 val auc - 0.799\n"
     ]
    },
    {
     "name": "stderr",
     "output_type": "stream",
     "text": [
      "loss - 0.4151: 100%|██████████| 14/14 [00:01<00:00,  7.32it/s]\n",
      "  0%|          | 0/2 [00:00<?, ?it/s]"
     ]
    },
    {
     "name": "stdout",
     "output_type": "stream",
     "text": [
      "epoch - 21 train_loss - 0.42 acc - 0.796 auc - 0.856\n"
     ]
    },
    {
     "name": "stderr",
     "output_type": "stream",
     "text": [
      "valid loss - 0.5090: 100%|██████████| 2/2 [00:00<00:00,  4.54it/s]\n",
      "  0%|          | 0/14 [00:00<?, ?it/s]"
     ]
    },
    {
     "name": "stdout",
     "output_type": "stream",
     "text": [
      "epoch - 21 val_loss - 0.51 val acc - 0.734 val auc - 0.800\n"
     ]
    },
    {
     "name": "stderr",
     "output_type": "stream",
     "text": [
      "loss - 0.3941: 100%|██████████| 14/14 [00:02<00:00,  6.95it/s]\n",
      "  0%|          | 0/2 [00:00<?, ?it/s]"
     ]
    },
    {
     "name": "stdout",
     "output_type": "stream",
     "text": [
      "epoch - 22 train_loss - 0.42 acc - 0.796 auc - 0.857\n"
     ]
    },
    {
     "name": "stderr",
     "output_type": "stream",
     "text": [
      "valid loss - 0.4980: 100%|██████████| 2/2 [00:00<00:00,  3.69it/s]\n",
      "  0%|          | 0/14 [00:00<?, ?it/s]"
     ]
    },
    {
     "name": "stdout",
     "output_type": "stream",
     "text": [
      "epoch - 22 val_loss - 0.51 val acc - 0.737 val auc - 0.800\n"
     ]
    },
    {
     "name": "stderr",
     "output_type": "stream",
     "text": [
      "loss - 0.4369: 100%|██████████| 14/14 [00:02<00:00,  6.62it/s]\n",
      "  0%|          | 0/2 [00:00<?, ?it/s]"
     ]
    },
    {
     "name": "stdout",
     "output_type": "stream",
     "text": [
      "epoch - 23 train_loss - 0.41 acc - 0.798 auc - 0.858\n"
     ]
    },
    {
     "name": "stderr",
     "output_type": "stream",
     "text": [
      "valid loss - 0.5028: 100%|██████████| 2/2 [00:00<00:00,  4.51it/s]\n",
      "  0%|          | 0/14 [00:00<?, ?it/s]"
     ]
    },
    {
     "name": "stdout",
     "output_type": "stream",
     "text": [
      "epoch - 23 val_loss - 0.51 val acc - 0.738 val auc - 0.801\n"
     ]
    },
    {
     "name": "stderr",
     "output_type": "stream",
     "text": [
      "loss - 0.4224: 100%|██████████| 14/14 [00:02<00:00,  5.83it/s]\n",
      "  0%|          | 0/2 [00:00<?, ?it/s]"
     ]
    },
    {
     "name": "stdout",
     "output_type": "stream",
     "text": [
      "epoch - 24 train_loss - 0.41 acc - 0.799 auc - 0.860\n"
     ]
    },
    {
     "name": "stderr",
     "output_type": "stream",
     "text": [
      "valid loss - 0.5103: 100%|██████████| 2/2 [00:00<00:00,  4.37it/s]\n",
      "  0%|          | 0/14 [00:00<?, ?it/s]"
     ]
    },
    {
     "name": "stdout",
     "output_type": "stream",
     "text": [
      "epoch - 24 val_loss - 0.51 val acc - 0.735 val auc - 0.801\n"
     ]
    },
    {
     "name": "stderr",
     "output_type": "stream",
     "text": [
      "loss - 0.4341: 100%|██████████| 14/14 [00:01<00:00,  7.11it/s]\n",
      "  0%|          | 0/2 [00:00<?, ?it/s]"
     ]
    },
    {
     "name": "stdout",
     "output_type": "stream",
     "text": [
      "epoch - 25 train_loss - 0.41 acc - 0.799 auc - 0.861\n"
     ]
    },
    {
     "name": "stderr",
     "output_type": "stream",
     "text": [
      "valid loss - 0.5190: 100%|██████████| 2/2 [00:00<00:00,  4.56it/s]\n",
      "  0%|          | 0/14 [00:00<?, ?it/s]"
     ]
    },
    {
     "name": "stdout",
     "output_type": "stream",
     "text": [
      "epoch - 25 val_loss - 0.52 val acc - 0.737 val auc - 0.801\n"
     ]
    },
    {
     "name": "stderr",
     "output_type": "stream",
     "text": [
      "loss - 0.4174: 100%|██████████| 14/14 [00:01<00:00,  7.46it/s]\n",
      "  0%|          | 0/2 [00:00<?, ?it/s]"
     ]
    },
    {
     "name": "stdout",
     "output_type": "stream",
     "text": [
      "epoch - 26 train_loss - 0.41 acc - 0.800 auc - 0.862\n"
     ]
    },
    {
     "name": "stderr",
     "output_type": "stream",
     "text": [
      "valid loss - 0.5114: 100%|██████████| 2/2 [00:00<00:00,  4.53it/s]\n",
      "  0%|          | 0/14 [00:00<?, ?it/s]"
     ]
    },
    {
     "name": "stdout",
     "output_type": "stream",
     "text": [
      "epoch - 26 val_loss - 0.51 val acc - 0.737 val auc - 0.801\n"
     ]
    },
    {
     "name": "stderr",
     "output_type": "stream",
     "text": [
      "loss - 0.4063: 100%|██████████| 14/14 [00:01<00:00,  7.50it/s]\n",
      "  0%|          | 0/2 [00:00<?, ?it/s]"
     ]
    },
    {
     "name": "stdout",
     "output_type": "stream",
     "text": [
      "epoch - 27 train_loss - 0.41 acc - 0.802 auc - 0.864\n"
     ]
    },
    {
     "name": "stderr",
     "output_type": "stream",
     "text": [
      "valid loss - 0.5126: 100%|██████████| 2/2 [00:00<00:00,  4.17it/s]\n",
      "  0%|          | 0/14 [00:00<?, ?it/s]"
     ]
    },
    {
     "name": "stdout",
     "output_type": "stream",
     "text": [
      "epoch - 27 val_loss - 0.51 val acc - 0.737 val auc - 0.802\n"
     ]
    },
    {
     "name": "stderr",
     "output_type": "stream",
     "text": [
      "loss - 0.4180: 100%|██████████| 14/14 [00:02<00:00,  6.81it/s]\n",
      "  0%|          | 0/2 [00:00<?, ?it/s]"
     ]
    },
    {
     "name": "stdout",
     "output_type": "stream",
     "text": [
      "epoch - 28 train_loss - 0.41 acc - 0.803 auc - 0.865\n"
     ]
    },
    {
     "name": "stderr",
     "output_type": "stream",
     "text": [
      "valid loss - 0.5134: 100%|██████████| 2/2 [00:00<00:00,  4.56it/s]\n",
      "  0%|          | 0/2 [00:00<?, ?it/s]"
     ]
    },
    {
     "name": "stdout",
     "output_type": "stream",
     "text": [
      "epoch - 28 val_loss - 0.51 val acc - 0.738 val auc - 0.801\n",
      "Val Loss does not improve for 5 consecutive epochs\n"
     ]
    },
    {
     "name": "stderr",
     "output_type": "stream",
     "text": [
      "valid loss - 0.3763: 100%|██████████| 2/2 [00:00<00:00,  4.57it/s]\n",
      "  0%|          | 0/14 [00:00<?, ?it/s]"
     ]
    },
    {
     "name": "stdout",
     "output_type": "stream",
     "text": [
      "epoch - 28 test_loss - 0.36 acc - 0.830 auc - 0.880\n"
     ]
    },
    {
     "name": "stderr",
     "output_type": "stream",
     "text": [
      "valid loss - 0.3857: 100%|██████████| 14/14 [00:01<00:00,  7.86it/s]\n",
      "  0%|          | 0/14 [00:00<?, ?it/s]"
     ]
    },
    {
     "name": "stdout",
     "output_type": "stream",
     "text": [
      "----------------------------------------------------------------------------\n"
     ]
    },
    {
     "name": "stderr",
     "output_type": "stream",
     "text": [
      "loss - 0.5440: 100%|██████████| 14/14 [00:01<00:00,  7.25it/s]\n",
      "  0%|          | 0/2 [00:00<?, ?it/s]"
     ]
    },
    {
     "name": "stdout",
     "output_type": "stream",
     "text": [
      "epoch - 0 train_loss - 0.61 acc - 0.689 auc - 0.598\n"
     ]
    },
    {
     "name": "stderr",
     "output_type": "stream",
     "text": [
      "valid loss - 0.6165: 100%|██████████| 2/2 [00:00<00:00,  4.36it/s]\n",
      "  0%|          | 0/14 [00:00<?, ?it/s]"
     ]
    },
    {
     "name": "stdout",
     "output_type": "stream",
     "text": [
      "epoch - 0 val_loss - 0.61 val acc - 0.667 val auc - 0.658\n"
     ]
    },
    {
     "name": "stderr",
     "output_type": "stream",
     "text": [
      "loss - 0.5243: 100%|██████████| 14/14 [00:01<00:00,  7.27it/s]\n",
      "  0%|          | 0/2 [00:00<?, ?it/s]"
     ]
    },
    {
     "name": "stdout",
     "output_type": "stream",
     "text": [
      "epoch - 1 train_loss - 0.53 acc - 0.737 auc - 0.721\n"
     ]
    },
    {
     "name": "stderr",
     "output_type": "stream",
     "text": [
      "valid loss - 0.6015: 100%|██████████| 2/2 [00:00<00:00,  3.10it/s]\n",
      "  0%|          | 0/14 [00:00<?, ?it/s]"
     ]
    },
    {
     "name": "stdout",
     "output_type": "stream",
     "text": [
      "epoch - 1 val_loss - 0.60 val acc - 0.692 val auc - 0.702\n"
     ]
    },
    {
     "name": "stderr",
     "output_type": "stream",
     "text": [
      "loss - 0.5089: 100%|██████████| 14/14 [00:02<00:00,  6.91it/s]\n",
      "  0%|          | 0/2 [00:00<?, ?it/s]"
     ]
    },
    {
     "name": "stdout",
     "output_type": "stream",
     "text": [
      "epoch - 2 train_loss - 0.51 acc - 0.750 auc - 0.754\n"
     ]
    },
    {
     "name": "stderr",
     "output_type": "stream",
     "text": [
      "valid loss - 0.5834: 100%|██████████| 2/2 [00:00<00:00,  4.28it/s]\n",
      "  0%|          | 0/14 [00:00<?, ?it/s]"
     ]
    },
    {
     "name": "stdout",
     "output_type": "stream",
     "text": [
      "epoch - 2 val_loss - 0.58 val acc - 0.702 val auc - 0.726\n"
     ]
    },
    {
     "name": "stderr",
     "output_type": "stream",
     "text": [
      "loss - 0.5115: 100%|██████████| 14/14 [00:02<00:00,  6.90it/s]\n",
      "  0%|          | 0/2 [00:00<?, ?it/s]"
     ]
    },
    {
     "name": "stdout",
     "output_type": "stream",
     "text": [
      "epoch - 3 train_loss - 0.50 acc - 0.758 auc - 0.776\n"
     ]
    },
    {
     "name": "stderr",
     "output_type": "stream",
     "text": [
      "valid loss - 0.5470: 100%|██████████| 2/2 [00:00<00:00,  3.29it/s]\n",
      "  0%|          | 0/14 [00:00<?, ?it/s]"
     ]
    },
    {
     "name": "stdout",
     "output_type": "stream",
     "text": [
      "epoch - 3 val_loss - 0.56 val acc - 0.712 val auc - 0.742\n"
     ]
    },
    {
     "name": "stderr",
     "output_type": "stream",
     "text": [
      "loss - 0.4628: 100%|██████████| 14/14 [00:02<00:00,  6.13it/s]\n",
      "  0%|          | 0/2 [00:00<?, ?it/s]"
     ]
    },
    {
     "name": "stdout",
     "output_type": "stream",
     "text": [
      "epoch - 4 train_loss - 0.48 acc - 0.765 auc - 0.793\n"
     ]
    },
    {
     "name": "stderr",
     "output_type": "stream",
     "text": [
      "valid loss - 0.5424: 100%|██████████| 2/2 [00:00<00:00,  4.21it/s]\n",
      "  0%|          | 0/14 [00:00<?, ?it/s]"
     ]
    },
    {
     "name": "stdout",
     "output_type": "stream",
     "text": [
      "epoch - 4 val_loss - 0.55 val acc - 0.719 val auc - 0.759\n"
     ]
    },
    {
     "name": "stderr",
     "output_type": "stream",
     "text": [
      "loss - 0.4641: 100%|██████████| 14/14 [00:02<00:00,  4.98it/s]\n",
      "  0%|          | 0/2 [00:00<?, ?it/s]"
     ]
    },
    {
     "name": "stdout",
     "output_type": "stream",
     "text": [
      "epoch - 5 train_loss - 0.47 acc - 0.772 auc - 0.807\n"
     ]
    },
    {
     "name": "stderr",
     "output_type": "stream",
     "text": [
      "valid loss - 0.5243: 100%|██████████| 2/2 [00:00<00:00,  4.25it/s]\n",
      "  0%|          | 0/14 [00:00<?, ?it/s]"
     ]
    },
    {
     "name": "stdout",
     "output_type": "stream",
     "text": [
      "epoch - 5 val_loss - 0.54 val acc - 0.725 val auc - 0.771\n"
     ]
    },
    {
     "name": "stderr",
     "output_type": "stream",
     "text": [
      "loss - 0.4803: 100%|██████████| 14/14 [00:02<00:00,  6.96it/s]\n",
      "  0%|          | 0/2 [00:00<?, ?it/s]"
     ]
    },
    {
     "name": "stdout",
     "output_type": "stream",
     "text": [
      "epoch - 6 train_loss - 0.46 acc - 0.776 auc - 0.818\n"
     ]
    },
    {
     "name": "stderr",
     "output_type": "stream",
     "text": [
      "valid loss - 0.5391: 100%|██████████| 2/2 [00:00<00:00,  4.26it/s]\n",
      "  0%|          | 0/14 [00:00<?, ?it/s]"
     ]
    },
    {
     "name": "stdout",
     "output_type": "stream",
     "text": [
      "epoch - 6 val_loss - 0.53 val acc - 0.729 val auc - 0.780\n"
     ]
    },
    {
     "name": "stderr",
     "output_type": "stream",
     "text": [
      "loss - 0.4534: 100%|██████████| 14/14 [00:02<00:00,  6.92it/s]\n",
      "  0%|          | 0/2 [00:00<?, ?it/s]"
     ]
    },
    {
     "name": "stdout",
     "output_type": "stream",
     "text": [
      "epoch - 7 train_loss - 0.45 acc - 0.781 auc - 0.826\n"
     ]
    },
    {
     "name": "stderr",
     "output_type": "stream",
     "text": [
      "valid loss - 0.5276: 100%|██████████| 2/2 [00:00<00:00,  4.19it/s]\n",
      "  0%|          | 0/14 [00:00<?, ?it/s]"
     ]
    },
    {
     "name": "stdout",
     "output_type": "stream",
     "text": [
      "epoch - 7 val_loss - 0.53 val acc - 0.732 val auc - 0.784\n"
     ]
    },
    {
     "name": "stderr",
     "output_type": "stream",
     "text": [
      "loss - 0.4408: 100%|██████████| 14/14 [00:02<00:00,  6.88it/s]\n",
      "  0%|          | 0/2 [00:00<?, ?it/s]"
     ]
    },
    {
     "name": "stdout",
     "output_type": "stream",
     "text": [
      "epoch - 8 train_loss - 0.45 acc - 0.783 auc - 0.832\n"
     ]
    },
    {
     "name": "stderr",
     "output_type": "stream",
     "text": [
      "valid loss - 0.5060: 100%|██████████| 2/2 [00:00<00:00,  3.94it/s]\n",
      "  0%|          | 0/14 [00:00<?, ?it/s]"
     ]
    },
    {
     "name": "stdout",
     "output_type": "stream",
     "text": [
      "epoch - 8 val_loss - 0.52 val acc - 0.733 val auc - 0.788\n"
     ]
    },
    {
     "name": "stderr",
     "output_type": "stream",
     "text": [
      "loss - 0.4628: 100%|██████████| 14/14 [00:02<00:00,  6.85it/s]\n",
      "  0%|          | 0/2 [00:00<?, ?it/s]"
     ]
    },
    {
     "name": "stdout",
     "output_type": "stream",
     "text": [
      "epoch - 9 train_loss - 0.44 acc - 0.786 auc - 0.836\n"
     ]
    },
    {
     "name": "stderr",
     "output_type": "stream",
     "text": [
      "valid loss - 0.5206: 100%|██████████| 2/2 [00:00<00:00,  4.23it/s]\n",
      "  0%|          | 0/14 [00:00<?, ?it/s]"
     ]
    },
    {
     "name": "stdout",
     "output_type": "stream",
     "text": [
      "epoch - 9 val_loss - 0.52 val acc - 0.737 val auc - 0.792\n"
     ]
    },
    {
     "name": "stderr",
     "output_type": "stream",
     "text": [
      "loss - 0.4385: 100%|██████████| 14/14 [00:01<00:00,  7.37it/s]\n",
      "  0%|          | 0/2 [00:00<?, ?it/s]"
     ]
    },
    {
     "name": "stdout",
     "output_type": "stream",
     "text": [
      "epoch - 10 train_loss - 0.44 acc - 0.787 auc - 0.839\n"
     ]
    },
    {
     "name": "stderr",
     "output_type": "stream",
     "text": [
      "valid loss - 0.5218: 100%|██████████| 2/2 [00:00<00:00,  4.48it/s]\n",
      "  0%|          | 0/14 [00:00<?, ?it/s]"
     ]
    },
    {
     "name": "stdout",
     "output_type": "stream",
     "text": [
      "epoch - 10 val_loss - 0.52 val acc - 0.737 val auc - 0.793\n"
     ]
    },
    {
     "name": "stderr",
     "output_type": "stream",
     "text": [
      "loss - 0.4534: 100%|██████████| 14/14 [00:01<00:00,  7.48it/s]\n",
      "  0%|          | 0/2 [00:00<?, ?it/s]"
     ]
    },
    {
     "name": "stdout",
     "output_type": "stream",
     "text": [
      "epoch - 11 train_loss - 0.43 acc - 0.789 auc - 0.843\n"
     ]
    },
    {
     "name": "stderr",
     "output_type": "stream",
     "text": [
      "valid loss - 0.5378: 100%|██████████| 2/2 [00:00<00:00,  4.52it/s]\n",
      "  0%|          | 0/14 [00:00<?, ?it/s]"
     ]
    },
    {
     "name": "stdout",
     "output_type": "stream",
     "text": [
      "epoch - 11 val_loss - 0.52 val acc - 0.736 val auc - 0.795\n"
     ]
    },
    {
     "name": "stderr",
     "output_type": "stream",
     "text": [
      "loss - 0.4106: 100%|██████████| 14/14 [00:02<00:00,  6.49it/s]\n",
      "  0%|          | 0/2 [00:00<?, ?it/s]"
     ]
    },
    {
     "name": "stdout",
     "output_type": "stream",
     "text": [
      "epoch - 12 train_loss - 0.43 acc - 0.790 auc - 0.845\n"
     ]
    },
    {
     "name": "stderr",
     "output_type": "stream",
     "text": [
      "valid loss - 0.5305: 100%|██████████| 2/2 [00:00<00:00,  4.51it/s]\n",
      "  0%|          | 0/14 [00:00<?, ?it/s]"
     ]
    },
    {
     "name": "stdout",
     "output_type": "stream",
     "text": [
      "epoch - 12 val_loss - 0.52 val acc - 0.739 val auc - 0.797\n"
     ]
    },
    {
     "name": "stderr",
     "output_type": "stream",
     "text": [
      "loss - 0.4399: 100%|██████████| 14/14 [00:01<00:00,  7.44it/s]\n",
      "  0%|          | 0/2 [00:00<?, ?it/s]"
     ]
    },
    {
     "name": "stdout",
     "output_type": "stream",
     "text": [
      "epoch - 13 train_loss - 0.43 acc - 0.791 auc - 0.848\n"
     ]
    },
    {
     "name": "stderr",
     "output_type": "stream",
     "text": [
      "valid loss - 0.4940: 100%|██████████| 2/2 [00:00<00:00,  4.45it/s]\n",
      "  0%|          | 0/14 [00:00<?, ?it/s]"
     ]
    },
    {
     "name": "stdout",
     "output_type": "stream",
     "text": [
      "epoch - 13 val_loss - 0.51 val acc - 0.738 val auc - 0.799\n"
     ]
    },
    {
     "name": "stderr",
     "output_type": "stream",
     "text": [
      "loss - 0.4298: 100%|██████████| 14/14 [00:01<00:00,  7.10it/s]\n",
      "  0%|          | 0/2 [00:00<?, ?it/s]"
     ]
    },
    {
     "name": "stdout",
     "output_type": "stream",
     "text": [
      "epoch - 14 train_loss - 0.42 acc - 0.793 auc - 0.850\n"
     ]
    },
    {
     "name": "stderr",
     "output_type": "stream",
     "text": [
      "valid loss - 0.5159: 100%|██████████| 2/2 [00:00<00:00,  3.35it/s]\n",
      "  0%|          | 0/14 [00:00<?, ?it/s]"
     ]
    },
    {
     "name": "stdout",
     "output_type": "stream",
     "text": [
      "epoch - 14 val_loss - 0.51 val acc - 0.738 val auc - 0.800\n"
     ]
    },
    {
     "name": "stderr",
     "output_type": "stream",
     "text": [
      "loss - 0.4256: 100%|██████████| 14/14 [00:02<00:00,  6.61it/s]\n",
      "  0%|          | 0/2 [00:00<?, ?it/s]"
     ]
    },
    {
     "name": "stdout",
     "output_type": "stream",
     "text": [
      "epoch - 15 train_loss - 0.42 acc - 0.794 auc - 0.852\n"
     ]
    },
    {
     "name": "stderr",
     "output_type": "stream",
     "text": [
      "valid loss - 0.4981: 100%|██████████| 2/2 [00:00<00:00,  4.46it/s]\n",
      "  0%|          | 0/14 [00:00<?, ?it/s]"
     ]
    },
    {
     "name": "stdout",
     "output_type": "stream",
     "text": [
      "epoch - 15 val_loss - 0.51 val acc - 0.741 val auc - 0.802\n"
     ]
    },
    {
     "name": "stderr",
     "output_type": "stream",
     "text": [
      "loss - 0.4262: 100%|██████████| 14/14 [00:02<00:00,  6.13it/s]\n",
      "  0%|          | 0/2 [00:00<?, ?it/s]"
     ]
    },
    {
     "name": "stdout",
     "output_type": "stream",
     "text": [
      "epoch - 16 train_loss - 0.42 acc - 0.796 auc - 0.854\n"
     ]
    },
    {
     "name": "stderr",
     "output_type": "stream",
     "text": [
      "valid loss - 0.4991: 100%|██████████| 2/2 [00:00<00:00,  4.33it/s]\n",
      "  0%|          | 0/14 [00:00<?, ?it/s]"
     ]
    },
    {
     "name": "stdout",
     "output_type": "stream",
     "text": [
      "epoch - 16 val_loss - 0.51 val acc - 0.741 val auc - 0.803\n"
     ]
    },
    {
     "name": "stderr",
     "output_type": "stream",
     "text": [
      "loss - 0.3769: 100%|██████████| 14/14 [00:01<00:00,  7.36it/s]\n",
      "  0%|          | 0/2 [00:00<?, ?it/s]"
     ]
    },
    {
     "name": "stdout",
     "output_type": "stream",
     "text": [
      "epoch - 17 train_loss - 0.42 acc - 0.796 auc - 0.856\n"
     ]
    },
    {
     "name": "stderr",
     "output_type": "stream",
     "text": [
      "valid loss - 0.5230: 100%|██████████| 2/2 [00:00<00:00,  4.56it/s]\n",
      "  0%|          | 0/14 [00:00<?, ?it/s]"
     ]
    },
    {
     "name": "stdout",
     "output_type": "stream",
     "text": [
      "epoch - 17 val_loss - 0.51 val acc - 0.741 val auc - 0.804\n"
     ]
    },
    {
     "name": "stderr",
     "output_type": "stream",
     "text": [
      "loss - 0.4163: 100%|██████████| 14/14 [00:01<00:00,  7.45it/s]\n",
      "  0%|          | 0/2 [00:00<?, ?it/s]"
     ]
    },
    {
     "name": "stdout",
     "output_type": "stream",
     "text": [
      "epoch - 18 train_loss - 0.42 acc - 0.797 auc - 0.857\n"
     ]
    },
    {
     "name": "stderr",
     "output_type": "stream",
     "text": [
      "valid loss - 0.5147: 100%|██████████| 2/2 [00:00<00:00,  4.48it/s]\n",
      "  0%|          | 0/14 [00:00<?, ?it/s]"
     ]
    },
    {
     "name": "stdout",
     "output_type": "stream",
     "text": [
      "epoch - 18 val_loss - 0.51 val acc - 0.743 val auc - 0.805\n"
     ]
    },
    {
     "name": "stderr",
     "output_type": "stream",
     "text": [
      "loss - 0.3988: 100%|██████████| 14/14 [00:01<00:00,  7.45it/s]\n",
      "  0%|          | 0/2 [00:00<?, ?it/s]"
     ]
    },
    {
     "name": "stdout",
     "output_type": "stream",
     "text": [
      "epoch - 19 train_loss - 0.41 acc - 0.799 auc - 0.859\n"
     ]
    },
    {
     "name": "stderr",
     "output_type": "stream",
     "text": [
      "valid loss - 0.5068: 100%|██████████| 2/2 [00:00<00:00,  4.21it/s]\n",
      "  0%|          | 0/14 [00:00<?, ?it/s]"
     ]
    },
    {
     "name": "stdout",
     "output_type": "stream",
     "text": [
      "epoch - 19 val_loss - 0.51 val acc - 0.741 val auc - 0.805\n"
     ]
    },
    {
     "name": "stderr",
     "output_type": "stream",
     "text": [
      "loss - 0.4316: 100%|██████████| 14/14 [00:01<00:00,  7.57it/s]\n",
      "  0%|          | 0/2 [00:00<?, ?it/s]"
     ]
    },
    {
     "name": "stdout",
     "output_type": "stream",
     "text": [
      "epoch - 20 train_loss - 0.41 acc - 0.799 auc - 0.860\n"
     ]
    },
    {
     "name": "stderr",
     "output_type": "stream",
     "text": [
      "valid loss - 0.4886: 100%|██████████| 2/2 [00:00<00:00,  4.48it/s]\n",
      "  0%|          | 0/14 [00:00<?, ?it/s]"
     ]
    },
    {
     "name": "stdout",
     "output_type": "stream",
     "text": [
      "epoch - 20 val_loss - 0.51 val acc - 0.740 val auc - 0.806\n"
     ]
    },
    {
     "name": "stderr",
     "output_type": "stream",
     "text": [
      "loss - 0.4200: 100%|██████████| 14/14 [00:01<00:00,  7.55it/s]\n",
      "  0%|          | 0/2 [00:00<?, ?it/s]"
     ]
    },
    {
     "name": "stdout",
     "output_type": "stream",
     "text": [
      "epoch - 21 train_loss - 0.41 acc - 0.800 auc - 0.862\n"
     ]
    },
    {
     "name": "stderr",
     "output_type": "stream",
     "text": [
      "valid loss - 0.4861: 100%|██████████| 2/2 [00:00<00:00,  4.43it/s]\n",
      "  0%|          | 0/14 [00:00<?, ?it/s]"
     ]
    },
    {
     "name": "stdout",
     "output_type": "stream",
     "text": [
      "epoch - 21 val_loss - 0.50 val acc - 0.743 val auc - 0.806\n"
     ]
    },
    {
     "name": "stderr",
     "output_type": "stream",
     "text": [
      "loss - 0.3907: 100%|██████████| 14/14 [00:01<00:00,  7.25it/s]\n",
      "  0%|          | 0/2 [00:00<?, ?it/s]"
     ]
    },
    {
     "name": "stdout",
     "output_type": "stream",
     "text": [
      "epoch - 22 train_loss - 0.41 acc - 0.802 auc - 0.864\n"
     ]
    },
    {
     "name": "stderr",
     "output_type": "stream",
     "text": [
      "valid loss - 0.5221: 100%|██████████| 2/2 [00:00<00:00,  4.48it/s]\n",
      "  0%|          | 0/14 [00:00<?, ?it/s]"
     ]
    },
    {
     "name": "stdout",
     "output_type": "stream",
     "text": [
      "epoch - 22 val_loss - 0.51 val acc - 0.745 val auc - 0.807\n"
     ]
    },
    {
     "name": "stderr",
     "output_type": "stream",
     "text": [
      "loss - 0.4024: 100%|██████████| 14/14 [00:01<00:00,  7.03it/s]\n",
      "  0%|          | 0/2 [00:00<?, ?it/s]"
     ]
    },
    {
     "name": "stdout",
     "output_type": "stream",
     "text": [
      "epoch - 23 train_loss - 0.41 acc - 0.803 auc - 0.865\n"
     ]
    },
    {
     "name": "stderr",
     "output_type": "stream",
     "text": [
      "valid loss - 0.5174: 100%|██████████| 2/2 [00:00<00:00,  4.20it/s]\n",
      "  0%|          | 0/14 [00:00<?, ?it/s]"
     ]
    },
    {
     "name": "stdout",
     "output_type": "stream",
     "text": [
      "epoch - 23 val_loss - 0.51 val acc - 0.744 val auc - 0.806\n"
     ]
    },
    {
     "name": "stderr",
     "output_type": "stream",
     "text": [
      "loss - 0.4410: 100%|██████████| 14/14 [00:02<00:00,  6.91it/s]\n",
      "  0%|          | 0/2 [00:00<?, ?it/s]"
     ]
    },
    {
     "name": "stdout",
     "output_type": "stream",
     "text": [
      "epoch - 24 train_loss - 0.40 acc - 0.804 auc - 0.866\n"
     ]
    },
    {
     "name": "stderr",
     "output_type": "stream",
     "text": [
      "valid loss - 0.4983: 100%|██████████| 2/2 [00:00<00:00,  4.22it/s]\n",
      "  0%|          | 0/14 [00:00<?, ?it/s]"
     ]
    },
    {
     "name": "stdout",
     "output_type": "stream",
     "text": [
      "epoch - 24 val_loss - 0.50 val acc - 0.743 val auc - 0.807\n"
     ]
    },
    {
     "name": "stderr",
     "output_type": "stream",
     "text": [
      "loss - 0.3965: 100%|██████████| 14/14 [00:02<00:00,  6.88it/s]\n",
      "  0%|          | 0/2 [00:00<?, ?it/s]"
     ]
    },
    {
     "name": "stdout",
     "output_type": "stream",
     "text": [
      "epoch - 25 train_loss - 0.40 acc - 0.806 auc - 0.868\n"
     ]
    },
    {
     "name": "stderr",
     "output_type": "stream",
     "text": [
      "valid loss - 0.5005: 100%|██████████| 2/2 [00:00<00:00,  3.83it/s]\n",
      "  0%|          | 0/14 [00:00<?, ?it/s]"
     ]
    },
    {
     "name": "stdout",
     "output_type": "stream",
     "text": [
      "epoch - 25 val_loss - 0.50 val acc - 0.742 val auc - 0.807\n"
     ]
    },
    {
     "name": "stderr",
     "output_type": "stream",
     "text": [
      "loss - 0.3853: 100%|██████████| 14/14 [00:02<00:00,  6.15it/s]\n",
      "  0%|          | 0/2 [00:00<?, ?it/s]"
     ]
    },
    {
     "name": "stdout",
     "output_type": "stream",
     "text": [
      "epoch - 26 train_loss - 0.40 acc - 0.806 auc - 0.869\n"
     ]
    },
    {
     "name": "stderr",
     "output_type": "stream",
     "text": [
      "valid loss - 0.4996: 100%|██████████| 2/2 [00:00<00:00,  3.31it/s]\n",
      "  0%|          | 0/2 [00:00<?, ?it/s]"
     ]
    },
    {
     "name": "stdout",
     "output_type": "stream",
     "text": [
      "epoch - 26 val_loss - 0.50 val acc - 0.744 val auc - 0.807\n",
      "Val Loss does not improve for 5 consecutive epochs\n"
     ]
    },
    {
     "name": "stderr",
     "output_type": "stream",
     "text": [
      "valid loss - 0.3838: 100%|██████████| 2/2 [00:00<00:00,  2.41it/s]\n",
      "  0%|          | 0/14 [00:00<?, ?it/s]"
     ]
    },
    {
     "name": "stdout",
     "output_type": "stream",
     "text": [
      "epoch - 26 test_loss - 0.37 acc - 0.825 auc - 0.873\n"
     ]
    },
    {
     "name": "stderr",
     "output_type": "stream",
     "text": [
      "valid loss - 0.3854: 100%|██████████| 14/14 [00:01<00:00,  8.24it/s]\n"
     ]
    }
   ],
   "source": [
    "#use KFold\n",
    "X = np.array(group.keys())\n",
    "kfold = KFold(n_splits=5, shuffle=True)\n",
    "train_losses = list()\n",
    "train_aucs = list()\n",
    "train_accs = list()\n",
    "val_losses = list()\n",
    "val_aucs = list()\n",
    "val_accs = list()\n",
    "test_losses = list()\n",
    "test_aucs = list()\n",
    "test_accs = list()\n",
    "for train, test in kfold.split(X):\n",
    "    users_train, users_test =  X[train], X[test]\n",
    "    n = len(users_test)//2\n",
    "    users_test, users_val = users_test[:n], users_test[n: ]\n",
    "    train = PRACTICE_DATASET(group[users_train])\n",
    "    valid = PRACTICE_DATASET(group[users_val])\n",
    "    test = PRACTICE_DATASET(group[users_test])\n",
    "    train_dataloader = DataLoader(train, batch_size=64, shuffle=True, num_workers=8)\n",
    "    val_dataloader = DataLoader(valid, batch_size=64, shuffle=True, num_workers=8)\n",
    "    test_dataloader = DataLoader(test, batch_size=64, shuffle=True, num_workers=8)\n",
    "    \n",
    "    device = torch.device(\"cuda\" if torch.cuda.is_available() else \"cpu\")\n",
    "    saint = SAKTModel(n_skill, n_part)\n",
    "    epochs = 100\n",
    "    criterion = nn.BCEWithLogitsLoss()\n",
    "    optimizer = torch.optim.Adam(saint.parameters(), betas=(0.9, 0.999), lr = 0.0005, eps=1e-8)\n",
    "    saint.to(device)\n",
    "    criterion.to(device)\n",
    "    \n",
    "    def train_epoch(model=saint, train_iterator=train_dataloader, optim=optimizer, criterion=criterion, device=device):\n",
    "        model.train()\n",
    "\n",
    "        train_loss = []\n",
    "        num_corrects = 0\n",
    "        num_total = 0\n",
    "        labels = []\n",
    "        outs = []\n",
    "        tbar = tqdm(train_iterator)\n",
    "        for item in tbar:\n",
    "            x = item[0].to(device).long()\n",
    "            question_id = item[1].to(device).long()\n",
    "            chapter = item[2].to(device).long()\n",
    "            schapter = item[3].to(device).long()\n",
    "            responses = item[4].to(device).long()\n",
    "            label = item[5].to(device).float()            \n",
    "            target_mask = (question_id!=0)\n",
    "            optim.zero_grad()\n",
    "            output = model(x, question_id, chapter, schapter, responses, user_feats)\n",
    "            output = torch.reshape(output, label.shape)\n",
    "\n",
    "            output = torch.masked_select(output, target_mask)\n",
    "            label = torch.masked_select(label, target_mask)\n",
    "\n",
    "            loss = criterion(output, label)\n",
    "            loss.backward()\n",
    "            optim.step()\n",
    "            train_loss.append(loss.item())\n",
    "            pred = (torch.sigmoid(output) >= 0.5).long()\n",
    "\n",
    "            num_corrects += (pred == label).sum().item()\n",
    "            num_total += len(label)\n",
    "\n",
    "            labels.extend(label.view(-1).data.cpu().numpy())\n",
    "            outs.extend(output.view(-1).data.cpu().numpy())\n",
    "\n",
    "            tbar.set_description('loss - {:.4f}'.format(loss))\n",
    "        acc = num_corrects / num_total\n",
    "        auc = roc_auc_score(labels, outs)\n",
    "        loss = np.mean(train_loss)\n",
    "\n",
    "        return loss, acc, auc\n",
    "   \n",
    "\n",
    "    def val_epoch(model=saint, val_iterator=test_dataloader, \n",
    "              criterion=criterion, device=device):\n",
    "        model.eval()\n",
    "\n",
    "        train_loss = []\n",
    "        num_corrects = 0\n",
    "        num_total = 0\n",
    "        labels = []\n",
    "        outs = []\n",
    "        tbar = tqdm(val_iterator)\n",
    "        for item in tbar:\n",
    "            x = item[0].to(device).long()\n",
    "            question_id = item[1].to(device).long()\n",
    "            chapter = item[2].to(device).long()\n",
    "            schapter = item[3].to(device).long()\n",
    "            responses = item[4].to(device).long()\n",
    "            label = item[5].to(device).float()            \n",
    "            target_mask = (question_id!=0)\n",
    "            with torch.no_grad():\n",
    "                output = model(x, question_id, chapter, schapter, responses, user_feats)\n",
    "\n",
    "            output = torch.reshape(output, label.shape)\n",
    "            output = torch.masked_select(output, target_mask)\n",
    "            label = torch.masked_select(label, target_mask)\n",
    "\n",
    "            loss = criterion(output, label)\n",
    "            train_loss.append(loss.item())\n",
    "\n",
    "            pred = (torch.sigmoid(output) >= 0.5).long()\n",
    "            num_corrects += (pred == label).sum().item()\n",
    "            num_total += len(label)\n",
    "\n",
    "            labels.extend(label.view(-1).data.cpu().numpy())\n",
    "            outs.extend(output.view(-1).data.cpu().numpy())\n",
    "\n",
    "            tbar.set_description('valid loss - {:.4f}'.format(loss))\n",
    "\n",
    "        acc = num_corrects / num_total\n",
    "        auc = roc_auc_score(labels, outs)\n",
    "        loss = np.average(train_loss)\n",
    "\n",
    "        return loss, acc, auc\n",
    "    \n",
    "    MIN_VAL = 1000000000\n",
    "    count = 0\n",
    "    print('----------------------------------------------------------------------------')\n",
    "    for epoch in range(epochs):\n",
    "        train_loss, train_acc, train_auc = train_epoch(model=saint, device=device)\n",
    "        print(\"epoch - {} train_loss - {:.2f} acc - {:.3f} auc - {:.3f}\".format(epoch, train_loss, train_acc, train_auc))\n",
    "        val_loss, val_acc, val_auc = val_epoch(model=saint, val_iterator= val_dataloader, device=device)\n",
    "        print(\"epoch - {} val_loss - {:.2f} val acc - {:.3f} val auc - {:.3f}\".format(epoch, val_loss, val_acc, val_auc))\n",
    "        if val_loss < MIN_VAL:\n",
    "            count = 0\n",
    "            MIN_VAL = val_loss\n",
    "        else:\n",
    "            count += 1\n",
    "        if count == patience:\n",
    "            print('Val Loss does not improve for {} consecutive epochs'.format(patience))\n",
    "            break\n",
    "    test_loss, test_acc, test_auc = val_epoch(model=saint, device=device)\n",
    "    print(\"epoch - {} test_loss - {:.2f} acc - {:.3f} auc - {:.3f}\".format(epoch, test_loss, test_acc, test_auc))\n",
    "    train_loss, train_acc, train_auc = val_epoch(model=saint, val_iterator=train_dataloader, device=device)\n",
    "\n",
    "    test_losses.append(test_loss)\n",
    "    test_aucs.append(test_auc)\n",
    "    test_accs.append(test_acc)\n",
    "    train_aucs.append(train_auc)\n",
    "    train_losses.append(train_loss)\n",
    "    train_accs.append(train_acc)"
   ]
  },
  {
   "cell_type": "code",
   "execution_count": 31,
   "metadata": {
    "execution": {
     "iopub.execute_input": "2021-08-08T18:24:03.462374Z",
     "iopub.status.busy": "2021-08-08T18:24:03.461642Z",
     "iopub.status.idle": "2021-08-08T18:24:03.466714Z",
     "shell.execute_reply": "2021-08-08T18:24:03.466280Z"
    },
    "papermill": {
     "duration": 1.641239,
     "end_time": "2021-08-08T18:24:03.466832",
     "exception": false,
     "start_time": "2021-08-08T18:24:01.825593",
     "status": "completed"
    },
    "tags": []
   },
   "outputs": [
    {
     "name": "stdout",
     "output_type": "stream",
     "text": [
      "test avg loss:  0.3540967345237732 0.010377453502175895\n",
      "test avg acc:  0.8335710047415331 0.006048926690380949\n",
      "test avg auc:  0.8784067467000325 0.003354861695755801\n"
     ]
    }
   ],
   "source": [
    "#display test loss/acc/auc\n",
    "print(\"test avg loss: \", np.mean(test_losses), np.std(test_losses) )\n",
    "print(\"test avg acc: \", np.mean(test_accs), np.std(test_accs))\n",
    "print(\"test avg auc: \", np.mean(test_aucs), np.std(test_aucs))"
   ]
  },
  {
   "cell_type": "code",
   "execution_count": 32,
   "metadata": {
    "execution": {
     "iopub.execute_input": "2021-08-08T18:24:07.244902Z",
     "iopub.status.busy": "2021-08-08T18:24:07.243530Z",
     "iopub.status.idle": "2021-08-08T18:24:07.248967Z",
     "shell.execute_reply": "2021-08-08T18:24:07.248396Z"
    },
    "papermill": {
     "duration": 2.149062,
     "end_time": "2021-08-08T18:24:07.249098",
     "exception": false,
     "start_time": "2021-08-08T18:24:05.100036",
     "status": "completed"
    },
    "tags": []
   },
   "outputs": [
    {
     "name": "stdout",
     "output_type": "stream",
     "text": [
      "train avg loss:  0.3934491523674556 0.004415571678228717\n",
      "train avg acc:  0.8098341333007113 0.003083349314882513\n",
      "train avg auc:  0.8745731650123456 0.0038606844195709614\n"
     ]
    }
   ],
   "source": [
    "#display train loss/acc/auc\n",
    "print(\"train avg loss: \", np.mean(train_losses), np.std(train_losses) )\n",
    "print(\"train avg acc: \", np.mean(train_accs), np.std(train_accs))\n",
    "print(\"train avg auc: \", np.mean(train_aucs), np.std(train_aucs))"
   ]
  }
 ],
 "metadata": {
  "kernelspec": {
   "display_name": "Python 3",
   "language": "python",
   "name": "python3"
  },
  "language_info": {
   "codemirror_mode": {
    "name": "ipython",
    "version": 3
   },
   "file_extension": ".py",
   "mimetype": "text/x-python",
   "name": "python",
   "nbconvert_exporter": "python",
   "pygments_lexer": "ipython3",
   "version": "3.8.5"
  },
  "papermill": {
   "default_parameters": {},
   "duration": 927.530591,
   "end_time": "2021-08-08T18:24:11.570873",
   "environment_variables": {},
   "exception": null,
   "input_path": "__notebook__.ipynb",
   "output_path": "__notebook__.ipynb",
   "parameters": {},
   "start_time": "2021-08-08T18:08:44.040282",
   "version": "2.3.3"
  }
 },
 "nbformat": 4,
 "nbformat_minor": 5
}
