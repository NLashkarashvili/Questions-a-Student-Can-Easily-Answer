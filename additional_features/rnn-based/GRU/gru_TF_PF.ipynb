{
 "cells": [
  {
   "cell_type": "code",
   "execution_count": 1,
   "metadata": {
    "execution": {
     "iopub.execute_input": "2021-08-08T13:40:08.385919Z",
     "iopub.status.busy": "2021-08-08T13:40:08.385216Z",
     "iopub.status.idle": "2021-08-08T13:40:15.337137Z",
     "shell.execute_reply": "2021-08-08T13:40:15.337694Z",
     "shell.execute_reply.started": "2021-07-31T12:06:59.141322Z"
    },
    "id": "farifxiKU1aB",
    "papermill": {
     "duration": 6.996236,
     "end_time": "2021-08-08T13:40:15.338008",
     "exception": false,
     "start_time": "2021-08-08T13:40:08.341772",
     "status": "completed"
    },
    "tags": []
   },
   "outputs": [],
   "source": [
    "import numpy as np\n",
    "import pandas as pd\n",
    "import warnings\n",
    "import gc\n",
    "import tensorflow as tf\n",
    "from tensorflow import keras\n",
    "\n",
    "import random\n",
    "from random import choice\n",
    "from tensorflow.keras.optimizers import Adam\n",
    "from tensorflow.keras.models import Sequential \n",
    "from tensorflow.keras.layers import Dense, GRU, Concatenate, Embedding, Flatten, Activation, Dropout\n",
    "from sklearn.model_selection import KFold\n",
    "from tensorflow.python.client import device_lib\n",
    "warnings.filterwarnings('ignore')\n",
    "import random"
   ]
  },
  {
   "cell_type": "code",
   "execution_count": 2,
   "metadata": {
    "execution": {
     "iopub.execute_input": "2021-08-08T13:40:15.399340Z",
     "iopub.status.busy": "2021-08-08T13:40:15.398338Z",
     "iopub.status.idle": "2021-08-08T13:40:15.402216Z",
     "shell.execute_reply": "2021-08-08T13:40:15.402683Z",
     "shell.execute_reply.started": "2021-07-31T12:07:01.064697Z"
    },
    "id": "QOson70GPOXb",
    "papermill": {
     "duration": 0.035843,
     "end_time": "2021-08-08T13:40:15.402852",
     "exception": false,
     "start_time": "2021-08-08T13:40:15.367009",
     "status": "completed"
    },
    "tags": []
   },
   "outputs": [],
   "source": [
    "import gc"
   ]
  },
  {
   "cell_type": "markdown",
   "metadata": {
    "id": "BQsVybBH3VPw",
    "papermill": {
     "duration": 0.028119,
     "end_time": "2021-08-08T13:40:15.459414",
     "exception": false,
     "start_time": "2021-08-08T13:40:15.431295",
     "status": "completed"
    },
    "tags": []
   },
   "source": [
    "## Data Preprocessing"
   ]
  },
  {
   "cell_type": "code",
   "execution_count": 3,
   "metadata": {
    "execution": {
     "iopub.execute_input": "2021-08-08T13:40:15.520175Z",
     "iopub.status.busy": "2021-08-08T13:40:15.519208Z",
     "iopub.status.idle": "2021-08-08T13:40:22.436027Z",
     "shell.execute_reply": "2021-08-08T13:40:22.436532Z",
     "shell.execute_reply.started": "2021-07-31T12:07:01.071844Z"
    },
    "id": "rwtTusGxrmAE",
    "outputId": "1430f3cf-038b-485e-b5c4-c1686b1f34fd",
    "papermill": {
     "duration": 6.948655,
     "end_time": "2021-08-08T13:40:22.436703",
     "exception": false,
     "start_time": "2021-08-08T13:40:15.488048",
     "status": "completed"
    },
    "tags": []
   },
   "outputs": [
    {
     "data": {
      "text/html": [
       "<div>\n",
       "<style scoped>\n",
       "    .dataframe tbody tr th:only-of-type {\n",
       "        vertical-align: middle;\n",
       "    }\n",
       "\n",
       "    .dataframe tbody tr th {\n",
       "        vertical-align: top;\n",
       "    }\n",
       "\n",
       "    .dataframe thead th {\n",
       "        text-align: right;\n",
       "    }\n",
       "</style>\n",
       "<table border=\"1\" class=\"dataframe\">\n",
       "  <thead>\n",
       "    <tr style=\"text-align: right;\">\n",
       "      <th></th>\n",
       "      <th>Unnamed: 0</th>\n",
       "      <th>chapter_label</th>\n",
       "      <th>sub_chapter_label</th>\n",
       "      <th>question_name</th>\n",
       "      <th>user_id.x</th>\n",
       "      <th>term</th>\n",
       "      <th>STDNT_SEX_CD</th>\n",
       "      <th>NonNativeEnglish</th>\n",
       "      <th>White</th>\n",
       "      <th>Asian</th>\n",
       "      <th>...</th>\n",
       "      <th>classGraded</th>\n",
       "      <th>classHonors</th>\n",
       "      <th>Pass_Fail</th>\n",
       "      <th>parentsGraduateEdu</th>\n",
       "      <th>minorityGroup</th>\n",
       "      <th>q</th>\n",
       "      <th>day's_available_flashcards</th>\n",
       "      <th>start_practice</th>\n",
       "      <th>end_practice</th>\n",
       "      <th>days_offset</th>\n",
       "    </tr>\n",
       "  </thead>\n",
       "  <tbody>\n",
       "    <tr>\n",
       "      <th>0</th>\n",
       "      <td>1</td>\n",
       "      <td>Sort</td>\n",
       "      <td>intro-SortingwithSortandSorted</td>\n",
       "      <td>ee_sort_04</td>\n",
       "      <td>148</td>\n",
       "      <td>WN 2018</td>\n",
       "      <td>1</td>\n",
       "      <td>0</td>\n",
       "      <td>1</td>\n",
       "      <td>0</td>\n",
       "      <td>...</td>\n",
       "      <td>1</td>\n",
       "      <td>0</td>\n",
       "      <td>0</td>\n",
       "      <td>0</td>\n",
       "      <td>0</td>\n",
       "      <td>0</td>\n",
       "      <td>18</td>\n",
       "      <td>2018-03-04 20:00:19</td>\n",
       "      <td>2018-03-04 20:00:35</td>\n",
       "      <td>45</td>\n",
       "    </tr>\n",
       "    <tr>\n",
       "      <th>1</th>\n",
       "      <td>2</td>\n",
       "      <td>Functions</td>\n",
       "      <td>Returningavaluefromafunction</td>\n",
       "      <td>test_questionfunctions_2_3</td>\n",
       "      <td>148</td>\n",
       "      <td>WN 2018</td>\n",
       "      <td>1</td>\n",
       "      <td>0</td>\n",
       "      <td>1</td>\n",
       "      <td>0</td>\n",
       "      <td>...</td>\n",
       "      <td>1</td>\n",
       "      <td>0</td>\n",
       "      <td>0</td>\n",
       "      <td>0</td>\n",
       "      <td>0</td>\n",
       "      <td>4</td>\n",
       "      <td>16</td>\n",
       "      <td>2018-02-10 11:57:55</td>\n",
       "      <td>2018-02-10 11:58:35</td>\n",
       "      <td>23</td>\n",
       "    </tr>\n",
       "    <tr>\n",
       "      <th>2</th>\n",
       "      <td>3</td>\n",
       "      <td>RESTAPIs</td>\n",
       "      <td>functionswithrestapis</td>\n",
       "      <td>test_question_functions_rest_apis_1</td>\n",
       "      <td>148</td>\n",
       "      <td>WN 2018</td>\n",
       "      <td>1</td>\n",
       "      <td>0</td>\n",
       "      <td>1</td>\n",
       "      <td>0</td>\n",
       "      <td>...</td>\n",
       "      <td>1</td>\n",
       "      <td>0</td>\n",
       "      <td>0</td>\n",
       "      <td>0</td>\n",
       "      <td>0</td>\n",
       "      <td>1</td>\n",
       "      <td>2</td>\n",
       "      <td>2018-03-12 17:03:07</td>\n",
       "      <td>2018-03-12 17:04:28</td>\n",
       "      <td>53</td>\n",
       "    </tr>\n",
       "    <tr>\n",
       "      <th>3</th>\n",
       "      <td>4</td>\n",
       "      <td>SimplePythonData</td>\n",
       "      <td>FunctionCalls</td>\n",
       "      <td>exercise_functionCalls_1</td>\n",
       "      <td>148</td>\n",
       "      <td>WN 2018</td>\n",
       "      <td>1</td>\n",
       "      <td>0</td>\n",
       "      <td>1</td>\n",
       "      <td>0</td>\n",
       "      <td>...</td>\n",
       "      <td>1</td>\n",
       "      <td>0</td>\n",
       "      <td>0</td>\n",
       "      <td>0</td>\n",
       "      <td>0</td>\n",
       "      <td>0</td>\n",
       "      <td>10</td>\n",
       "      <td>2018-01-30 14:15:49</td>\n",
       "      <td>2018-01-30 14:15:58</td>\n",
       "      <td>12</td>\n",
       "    </tr>\n",
       "    <tr>\n",
       "      <th>4</th>\n",
       "      <td>5</td>\n",
       "      <td>DictionaryAccumulation</td>\n",
       "      <td>AccumulatingaMaximumValue</td>\n",
       "      <td>ps_04_07</td>\n",
       "      <td>148</td>\n",
       "      <td>WN 2018</td>\n",
       "      <td>1</td>\n",
       "      <td>0</td>\n",
       "      <td>1</td>\n",
       "      <td>0</td>\n",
       "      <td>...</td>\n",
       "      <td>1</td>\n",
       "      <td>0</td>\n",
       "      <td>0</td>\n",
       "      <td>0</td>\n",
       "      <td>0</td>\n",
       "      <td>0</td>\n",
       "      <td>23</td>\n",
       "      <td>2018-03-03 14:04:17</td>\n",
       "      <td>2018-03-03 14:04:25</td>\n",
       "      <td>44</td>\n",
       "    </tr>\n",
       "  </tbody>\n",
       "</table>\n",
       "<p>5 rows × 48 columns</p>\n",
       "</div>"
      ],
      "text/plain": [
       "   Unnamed: 0           chapter_label               sub_chapter_label  \\\n",
       "0           1                    Sort  intro-SortingwithSortandSorted   \n",
       "1           2               Functions    Returningavaluefromafunction   \n",
       "2           3                RESTAPIs           functionswithrestapis   \n",
       "3           4        SimplePythonData                   FunctionCalls   \n",
       "4           5  DictionaryAccumulation       AccumulatingaMaximumValue   \n",
       "\n",
       "                         question_name  user_id.x     term  STDNT_SEX_CD  \\\n",
       "0                           ee_sort_04        148  WN 2018             1   \n",
       "1           test_questionfunctions_2_3        148  WN 2018             1   \n",
       "2  test_question_functions_rest_apis_1        148  WN 2018             1   \n",
       "3             exercise_functionCalls_1        148  WN 2018             1   \n",
       "4                             ps_04_07        148  WN 2018             1   \n",
       "\n",
       "   NonNativeEnglish  White  Asian  ...  classGraded  classHonors  Pass_Fail  \\\n",
       "0                 0      1      0  ...            1            0          0   \n",
       "1                 0      1      0  ...            1            0          0   \n",
       "2                 0      1      0  ...            1            0          0   \n",
       "3                 0      1      0  ...            1            0          0   \n",
       "4                 0      1      0  ...            1            0          0   \n",
       "\n",
       "   parentsGraduateEdu  minorityGroup  q  day's_available_flashcards  \\\n",
       "0                   0              0  0                          18   \n",
       "1                   0              0  4                          16   \n",
       "2                   0              0  1                           2   \n",
       "3                   0              0  0                          10   \n",
       "4                   0              0  0                          23   \n",
       "\n",
       "        start_practice         end_practice  days_offset  \n",
       "0  2018-03-04 20:00:19  2018-03-04 20:00:35           45  \n",
       "1  2018-02-10 11:57:55  2018-02-10 11:58:35           23  \n",
       "2  2018-03-12 17:03:07  2018-03-12 17:04:28           53  \n",
       "3  2018-01-30 14:15:49  2018-01-30 14:15:58           12  \n",
       "4  2018-03-03 14:04:17  2018-03-03 14:04:25           44  \n",
       "\n",
       "[5 rows x 48 columns]"
      ]
     },
     "execution_count": 3,
     "metadata": {},
     "output_type": "execute_result"
    }
   ],
   "source": [
    "# load the data\n",
    "import pandas as pd\n",
    "dataframe = pd.read_csv('../input/practice-log-demographics/Practice_Log_Demographics (1).csv', low_memory=False)\n",
    "dataframe.head()"
   ]
  },
  {
   "cell_type": "code",
   "execution_count": 4,
   "metadata": {
    "execution": {
     "iopub.execute_input": "2021-08-08T13:40:22.500024Z",
     "iopub.status.busy": "2021-08-08T13:40:22.499043Z",
     "iopub.status.idle": "2021-08-08T13:40:24.230337Z",
     "shell.execute_reply": "2021-08-08T13:40:24.230853Z",
     "shell.execute_reply.started": "2021-07-31T12:07:05.649784Z"
    },
    "id": "OCbHnEp_Vir0",
    "papermill": {
     "duration": 1.7647,
     "end_time": "2021-08-08T13:40:24.231036",
     "exception": false,
     "start_time": "2021-08-08T13:40:22.466336",
     "status": "completed"
    },
    "tags": []
   },
   "outputs": [],
   "source": [
    "#sort data based on timestamp\n",
    "dataframe = dataframe.sort_values(by=['start_practice']).reset_index(drop=True)"
   ]
  },
  {
   "cell_type": "code",
   "execution_count": 5,
   "metadata": {
    "execution": {
     "iopub.execute_input": "2021-08-08T13:40:24.300413Z",
     "iopub.status.busy": "2021-08-08T13:40:24.299435Z",
     "iopub.status.idle": "2021-08-08T13:40:24.307842Z",
     "shell.execute_reply": "2021-08-08T13:40:24.307276Z",
     "shell.execute_reply.started": "2021-07-31T12:07:07.101339Z"
    },
    "id": "0RvF7BvEr98o",
    "papermill": {
     "duration": 0.046641,
     "end_time": "2021-08-08T13:40:24.307992",
     "exception": false,
     "start_time": "2021-08-08T13:40:24.261351",
     "status": "completed"
    },
    "tags": []
   },
   "outputs": [],
   "source": [
    "FEATURES = ['chapter_label', 'sub_chapter_label','question_name','user_id','term',\n",
    "            'STDNT_SEX_CD', \n",
    "            'NonNativeEnglish',\n",
    "            'White',\n",
    "            'Asian',\n",
    "            'WhiteOrAsian',\n",
    "            'Hispanic',\n",
    "            'AfricanAmerican',\n",
    "            'OtherEthnicities',\n",
    "            'NonWhiteOrAsian',\n",
    "            'STDNT_CTZN_STAT_CD', 'international', \n",
    "            'gradingType',\n",
    "            'birthYear',\n",
    "            'exclClassCumGPA',\n",
    "            'Freshman',\n",
    "            'Junior',\n",
    "            'Sophomore',\n",
    "            'Senior',\n",
    "            'termCreditsGPA',\n",
    "            'termCreditsNoGPA',\n",
    "            'athlete_1',\n",
    "            'honorsPro',\n",
    "            'LSA', 'programBusiness', 'programEngineering', \n",
    "            'programInformation', 'programOther',\n",
    "            'HSCalculusTaken', \n",
    "            'highSchoolGPA', \n",
    "            'majorsCount', 'minorsCount',\n",
    "            'PREV_TERM_CUM_GPA',\n",
    "            'classGraded', 'classHonors', \n",
    "            'Pass_Fail', \n",
    "            'parentsGraduateEdu',  'minorityGroup', \n",
    "            'q',\n",
    "            'available_flashcards', \n",
    "            'start_practice', \n",
    "            'end_practice',\n",
    "            'days_offset']"
   ]
  },
  {
   "cell_type": "code",
   "execution_count": 6,
   "metadata": {
    "execution": {
     "iopub.execute_input": "2021-08-08T13:40:24.387021Z",
     "iopub.status.busy": "2021-08-08T13:40:24.386012Z",
     "iopub.status.idle": "2021-08-08T13:40:24.919166Z",
     "shell.execute_reply": "2021-08-08T13:40:24.917922Z",
     "shell.execute_reply.started": "2021-07-31T12:07:07.109369Z"
    },
    "id": "Mn341X7lSztl",
    "papermill": {
     "duration": 0.572966,
     "end_time": "2021-08-08T13:40:24.919328",
     "exception": false,
     "start_time": "2021-08-08T13:40:24.346362",
     "status": "completed"
    },
    "tags": []
   },
   "outputs": [],
   "source": [
    "dataframe['available_flashcards'] = dataframe[\"day's_available_flashcards\"][:]\n",
    "dataframe = dataframe.drop([\"day's_available_flashcards\"], axis=1)\n",
    "dataframe['user_id'] = dataframe[\"user_id.x\"][:]\n",
    "dataframe = dataframe.drop([\"user_id.x\"], axis=1)"
   ]
  },
  {
   "cell_type": "code",
   "execution_count": 7,
   "metadata": {
    "execution": {
     "iopub.execute_input": "2021-08-08T13:40:25.147247Z",
     "iopub.status.busy": "2021-08-08T13:40:25.146603Z",
     "iopub.status.idle": "2021-08-08T13:40:25.152464Z",
     "shell.execute_reply": "2021-08-08T13:40:25.151972Z",
     "shell.execute_reply.started": "2021-07-31T12:07:07.606049Z"
    },
    "id": "-_BRggOjbBjN",
    "outputId": "42bff7db-08dd-48dc-a73a-d048508053b7",
    "papermill": {
     "duration": 0.203442,
     "end_time": "2021-08-08T13:40:25.152606",
     "exception": false,
     "start_time": "2021-08-08T13:40:24.949164",
     "status": "completed"
    },
    "tags": []
   },
   "outputs": [
    {
     "data": {
      "text/plain": [
       "102"
      ]
     },
     "execution_count": 7,
     "metadata": {},
     "output_type": "execute_result"
    }
   ],
   "source": [
    "gc.collect()"
   ]
  },
  {
   "cell_type": "code",
   "execution_count": 8,
   "metadata": {
    "execution": {
     "iopub.execute_input": "2021-08-08T13:40:25.217556Z",
     "iopub.status.busy": "2021-08-08T13:40:25.216836Z",
     "iopub.status.idle": "2021-08-08T13:40:25.506076Z",
     "shell.execute_reply": "2021-08-08T13:40:25.505533Z",
     "shell.execute_reply.started": "2021-07-31T12:07:07.764114Z"
    },
    "id": "lXM7MlonVeRL",
    "outputId": "d29ccec0-522f-4e3c-e0b2-39b2e1eaef74",
    "papermill": {
     "duration": 0.323937,
     "end_time": "2021-08-08T13:40:25.506219",
     "exception": false,
     "start_time": "2021-08-08T13:40:25.182282",
     "status": "completed"
    },
    "tags": []
   },
   "outputs": [
    {
     "data": {
      "text/plain": [
       "20"
      ]
     },
     "execution_count": 8,
     "metadata": {},
     "output_type": "execute_result"
    }
   ],
   "source": [
    "dataframe = dataframe[FEATURES]\n",
    "gc.collect()"
   ]
  },
  {
   "cell_type": "code",
   "execution_count": 9,
   "metadata": {
    "execution": {
     "iopub.execute_input": "2021-08-08T13:40:26.081373Z",
     "iopub.status.busy": "2021-08-08T13:40:26.080716Z",
     "iopub.status.idle": "2021-08-08T13:40:26.225243Z",
     "shell.execute_reply": "2021-08-08T13:40:26.224609Z",
     "shell.execute_reply.started": "2021-07-31T12:07:08.046413Z"
    },
    "id": "2WAFv5z3A6fK",
    "outputId": "e27abf84-ec3c-4b88-e1fb-927d94b41898",
    "papermill": {
     "duration": 0.688885,
     "end_time": "2021-08-08T13:40:26.225396",
     "exception": false,
     "start_time": "2021-08-08T13:40:25.536511",
     "status": "completed"
    },
    "tags": []
   },
   "outputs": [],
   "source": [
    "dataframe = dataframe.fillna(0)"
   ]
  },
  {
   "cell_type": "code",
   "execution_count": 10,
   "metadata": {
    "execution": {
     "iopub.execute_input": "2021-08-08T13:40:26.330172Z",
     "iopub.status.busy": "2021-08-08T13:40:26.329163Z",
     "iopub.status.idle": "2021-08-08T13:40:27.733526Z",
     "shell.execute_reply": "2021-08-08T13:40:27.732961Z",
     "shell.execute_reply.started": "2021-07-31T12:07:08.626441Z"
    },
    "id": "qRKqF_0IXZgj",
    "papermill": {
     "duration": 1.477375,
     "end_time": "2021-08-08T13:40:27.733686",
     "exception": false,
     "start_time": "2021-08-08T13:40:26.256311",
     "status": "completed"
    },
    "tags": []
   },
   "outputs": [],
   "source": [
    "#label encode term, chapter_label, question_name, sub_chapter_label columns\n",
    "dataframe['term'] = dataframe['term'].astype('category')\n",
    "dataframe['user_id'] = dataframe['user_id'].astype(int)\n",
    "dataframe['user_id'] = dataframe['user_id'].astype(str)\n",
    "dataframe['user_id'] = dataframe['term'].str.cat(dataframe['user_id'], sep=':')\n",
    "dataframe['user_id'] = dataframe['user_id'].astype('category')\n",
    "dataframe['chapter_label'] = dataframe['chapter_label'].astype('category')\n",
    "dataframe['sub_chapter_label'] = dataframe['sub_chapter_label'].astype('category')\n",
    "dataframe['question_name'] = dataframe['question_name'].astype('category')\n"
   ]
  },
  {
   "cell_type": "code",
   "execution_count": 11,
   "metadata": {
    "execution": {
     "iopub.execute_input": "2021-08-08T13:40:27.801123Z",
     "iopub.status.busy": "2021-08-08T13:40:27.800067Z",
     "iopub.status.idle": "2021-08-08T13:40:28.336949Z",
     "shell.execute_reply": "2021-08-08T13:40:28.336357Z",
     "shell.execute_reply.started": "2021-07-31T12:07:09.884593Z"
    },
    "id": "eVl_067GWkDe",
    "papermill": {
     "duration": 0.573243,
     "end_time": "2021-08-08T13:40:28.337088",
     "exception": false,
     "start_time": "2021-08-08T13:40:27.763845",
     "status": "completed"
    },
    "tags": []
   },
   "outputs": [],
   "source": [
    "#calculate time_lag and prev_time_elapsed\n",
    "dataframe['prev_time_elapsed'] = None\n",
    "dataframe['time_lag'] = None\n",
    "dataframe['time_lag'] = dataframe['time_lag'].astype(np.float)\n",
    "dataframe['prev_time_elapsed'] = dataframe['prev_time_elapsed'].astype(np.float)\n",
    "dataframe.start_practice = pd.to_datetime(dataframe.start_practice, format='%Y-%m-%d %H:%M:%S')\n",
    "dataframe.end_practice = pd.to_datetime(dataframe.end_practice, format='%Y-%m-%d %H:%M:%S')"
   ]
  },
  {
   "cell_type": "code",
   "execution_count": 12,
   "metadata": {
    "execution": {
     "iopub.execute_input": "2021-08-08T13:40:28.404499Z",
     "iopub.status.busy": "2021-08-08T13:40:28.403263Z",
     "iopub.status.idle": "2021-08-08T13:40:28.438144Z",
     "shell.execute_reply": "2021-08-08T13:40:28.438642Z",
     "shell.execute_reply.started": "2021-07-31T12:07:10.365002Z"
    },
    "papermill": {
     "duration": 0.071408,
     "end_time": "2021-08-08T13:40:28.438830",
     "exception": false,
     "start_time": "2021-08-08T13:40:28.367422",
     "status": "completed"
    },
    "tags": []
   },
   "outputs": [],
   "source": [
    "dataframe['dif'] = dataframe.end_practice - dataframe.start_practice\n",
    "dataframe['dif'] = dataframe['dif'] /np.timedelta64(1, 's')\n",
    "dataframe['answer_correct'] = np.where((dataframe['q']==5) & (dataframe['dif'] <= 60), 1, 0)"
   ]
  },
  {
   "cell_type": "code",
   "execution_count": 13,
   "metadata": {
    "execution": {
     "iopub.execute_input": "2021-08-08T13:40:28.502242Z",
     "iopub.status.busy": "2021-08-08T13:40:28.501599Z",
     "iopub.status.idle": "2021-08-08T13:46:33.695340Z",
     "shell.execute_reply": "2021-08-08T13:46:33.692725Z",
     "shell.execute_reply.started": "2021-07-31T12:07:10.396034Z"
    },
    "id": "Xrkcn9VhWETm",
    "outputId": "fd73f3de-5f56-42a8-9539-3f3b79a5a6e2",
    "papermill": {
     "duration": 365.2266,
     "end_time": "2021-08-08T13:46:33.695520",
     "exception": false,
     "start_time": "2021-08-08T13:40:28.468920",
     "status": "completed"
    },
    "tags": []
   },
   "outputs": [
    {
     "name": "stderr",
     "output_type": "stream",
     "text": [
      "100%|██████████| 1110/1110 [06:05<00:00,  3.04it/s]\n"
     ]
    }
   ],
   "source": [
    "unique_chapts = dataframe['chapter_label'].unique()\n",
    "from tqdm import tqdm\n",
    "cnt = 0\n",
    "for user in tqdm(dataframe['user_id'].unique()):\n",
    "        for chapter in unique_chapts:\n",
    "            tmp_user = dataframe[(dataframe['user_id']==user) & (dataframe['chapter_label']==chapter)]\n",
    "            #if user doesn't answer any question from the chapter\n",
    "            if len(tmp_user) < 1:\n",
    "                continue\n",
    "            #calculate average elapsed time before the current question\n",
    "            #from its corresponding chapter\n",
    "            tmp_time_elapsed = tmp_user.end_practice - tmp_user.start_practice\n",
    "            tmp_time_elapsed = tmp_time_elapsed / np.timedelta64(1, 's')\n",
    "            tmp_time_elapsed = np.insert(np.array(tmp_time_elapsed[:-1]), 0, 0., axis=0)\n",
    "            tmp_time_elapsed = np.cumsum(tmp_time_elapsed)\n",
    "            indices = tmp_user.index\n",
    "            start_row = indices[0]\n",
    "            dataframe['time_lag'].iloc[start_row] = 0\n",
    "            for_mean = np.arange(len(tmp_user))\n",
    "            for_mean[0] = 1\n",
    "            time_substrahend = tmp_user.start_practice.iloc[:-1]\n",
    "            time_substrahend = time_substrahend.apply(lambda a: a.timestamp())\n",
    "            time_substrahend = np.array(time_substrahend)\n",
    "            \n",
    "            time_minuend = tmp_user.start_practice.iloc[1:]\n",
    "            time_minuend = time_minuend.apply(lambda a: a.timestamp())\n",
    "            time_minuend = np.array(time_minuend)\n",
    "\n",
    "            dataframe['prev_time_elapsed'].iloc[indices] = tmp_time_elapsed/for_mean\n",
    "            #calculate difference between current and last interaction\n",
    "            #from the same chapter\n",
    "            dataframe['time_lag'].iloc[indices[1:]] = time_minuend - time_substrahend\n"
   ]
  },
  {
   "cell_type": "code",
   "execution_count": 14,
   "metadata": {
    "execution": {
     "iopub.execute_input": "2021-08-08T13:46:34.472740Z",
     "iopub.status.busy": "2021-08-08T13:46:34.472076Z",
     "iopub.status.idle": "2021-08-08T13:46:34.512032Z",
     "shell.execute_reply": "2021-08-08T13:46:34.511433Z",
     "shell.execute_reply.started": "2021-07-31T12:07:30.030169Z"
    },
    "id": "8t8yZ0XvWwzz",
    "papermill": {
     "duration": 0.456451,
     "end_time": "2021-08-08T13:46:34.512191",
     "exception": false,
     "start_time": "2021-08-08T13:46:34.055740",
     "status": "completed"
    },
    "tags": []
   },
   "outputs": [],
   "source": [
    "#drop column end_practice\n",
    "dataframe.drop(columns=['end_practice'], inplace=True)"
   ]
  },
  {
   "cell_type": "code",
   "execution_count": 15,
   "metadata": {
    "execution": {
     "iopub.execute_input": "2021-08-08T13:46:35.259748Z",
     "iopub.status.busy": "2021-08-08T13:46:35.259002Z",
     "iopub.status.idle": "2021-08-08T13:46:35.716244Z",
     "shell.execute_reply": "2021-08-08T13:46:35.716790Z",
     "shell.execute_reply.started": "2021-07-31T12:07:30.106507Z"
    },
    "id": "E42raRIrYYXz",
    "papermill": {
     "duration": 0.849122,
     "end_time": "2021-08-08T13:46:35.716967",
     "exception": false,
     "start_time": "2021-08-08T13:46:34.867845",
     "status": "completed"
    },
    "tags": []
   },
   "outputs": [],
   "source": [
    "# calculate the age feature\n",
    "dataframe['term_value'] = [int(ele[3:]) for ele in dataframe['term']]\n",
    "dataframe['age'] = dataframe['term_value'] - dataframe['birthYear']"
   ]
  },
  {
   "cell_type": "code",
   "execution_count": 16,
   "metadata": {
    "execution": {
     "iopub.execute_input": "2021-08-08T13:46:36.493812Z",
     "iopub.status.busy": "2021-08-08T13:46:36.492473Z",
     "iopub.status.idle": "2021-08-08T13:46:36.703809Z",
     "shell.execute_reply": "2021-08-08T13:46:36.704306Z",
     "shell.execute_reply.started": "2021-07-31T12:07:30.526102Z"
    },
    "id": "pcMVQXueYnMh",
    "papermill": {
     "duration": 0.629026,
     "end_time": "2021-08-08T13:46:36.704516",
     "exception": false,
     "start_time": "2021-08-08T13:46:36.075490",
     "status": "completed"
    },
    "tags": []
   },
   "outputs": [],
   "source": [
    "# drop term_value and birthYear column\n",
    "dataframe.drop(columns=['term_value', 'birthYear'], inplace=True)"
   ]
  },
  {
   "cell_type": "code",
   "execution_count": 17,
   "metadata": {
    "execution": {
     "iopub.execute_input": "2021-08-08T13:46:37.445155Z",
     "iopub.status.busy": "2021-08-08T13:46:37.434954Z",
     "iopub.status.idle": "2021-08-08T13:46:37.916246Z",
     "shell.execute_reply": "2021-08-08T13:46:37.915712Z",
     "shell.execute_reply.started": "2021-07-31T12:07:30.71914Z"
    },
    "id": "hjRF5szkcQE0",
    "papermill": {
     "duration": 0.852267,
     "end_time": "2021-08-08T13:46:37.916406",
     "exception": false,
     "start_time": "2021-08-08T13:46:37.064139",
     "status": "completed"
    },
    "tags": []
   },
   "outputs": [],
   "source": [
    "# convert minors_count to int value\n",
    "new_minors_count = []\n",
    "for i in dataframe['minorsCount']:\n",
    "  if i == 0 or i == '0':\n",
    "    new_minors_count.append(0)\n",
    "  elif i == '1 Minor':\n",
    "    new_minors_count.append(1)\n",
    "  else:\n",
    "    new_minors_count.append(2)\n",
    "\n",
    "dataframe['minorsCount'] = new_minors_count"
   ]
  },
  {
   "cell_type": "code",
   "execution_count": 18,
   "metadata": {
    "execution": {
     "iopub.execute_input": "2021-08-08T13:46:38.640377Z",
     "iopub.status.busy": "2021-08-08T13:46:38.639680Z",
     "iopub.status.idle": "2021-08-08T13:46:38.653390Z",
     "shell.execute_reply": "2021-08-08T13:46:38.652838Z",
     "shell.execute_reply.started": "2021-07-31T12:07:31.163098Z"
    },
    "id": "9VdzvJSw0KUU",
    "outputId": "6393784f-234e-4935-9cee-cbcf56b5630a",
    "papermill": {
     "duration": 0.377071,
     "end_time": "2021-08-08T13:46:38.653555",
     "exception": false,
     "start_time": "2021-08-08T13:46:38.276484",
     "status": "completed"
    },
    "tags": []
   },
   "outputs": [
    {
     "name": "stdout",
     "output_type": "stream",
     "text": [
      "we have  1110  users in total.\n"
     ]
    }
   ],
   "source": [
    "print(\"we have \", dataframe['user_id'].nunique(),\" users in total.\")"
   ]
  },
  {
   "cell_type": "code",
   "execution_count": 19,
   "metadata": {
    "execution": {
     "iopub.execute_input": "2021-08-08T13:46:39.379049Z",
     "iopub.status.busy": "2021-08-08T13:46:39.378376Z",
     "iopub.status.idle": "2021-08-08T13:46:39.384516Z",
     "shell.execute_reply": "2021-08-08T13:46:39.385112Z",
     "shell.execute_reply.started": "2021-07-31T12:07:31.18292Z"
    },
    "id": "hUaGk9L9g13t",
    "papermill": {
     "duration": 0.373326,
     "end_time": "2021-08-08T13:46:39.385306",
     "exception": false,
     "start_time": "2021-08-08T13:46:39.011980",
     "status": "completed"
    },
    "tags": []
   },
   "outputs": [],
   "source": [
    "for category in ['term','chapter_label', 'sub_chapter_label', 'question_name']:\n",
    "  dataframe[category] =  dataframe[category].cat.codes"
   ]
  },
  {
   "cell_type": "code",
   "execution_count": 20,
   "metadata": {
    "execution": {
     "iopub.execute_input": "2021-08-08T13:46:40.109144Z",
     "iopub.status.busy": "2021-08-08T13:46:40.108505Z",
     "iopub.status.idle": "2021-08-08T13:46:40.900470Z",
     "shell.execute_reply": "2021-08-08T13:46:40.900969Z",
     "shell.execute_reply.started": "2021-07-31T12:07:31.195482Z"
    },
    "id": "hkyvcYvlhliG",
    "papermill": {
     "duration": 1.157864,
     "end_time": "2021-08-08T13:46:40.901154",
     "exception": false,
     "start_time": "2021-08-08T13:46:39.743290",
     "status": "completed"
    },
    "tags": []
   },
   "outputs": [],
   "source": [
    "NUMERIC_FEATURE =  ['age',\n",
    "            'exclClassCumGPA',\n",
    "            'termCreditsGPA',\n",
    "            'termCreditsNoGPA',\n",
    "            'highSchoolGPA', \n",
    "            'majorsCount', 'minorsCount',\n",
    "            'PREV_TERM_CUM_GPA',\n",
    "            'available_flashcards', \n",
    "            'days_offset', \n",
    "            'prev_time_elapsed',\n",
    "             'time_lag']\n",
    "# z-score normalize the numerical features\n",
    "for f in NUMERIC_FEATURE:\n",
    "  m = dataframe[f].mean()\n",
    "  std = dataframe[f].std()\n",
    "  dataframe[f] = (dataframe[f] - m)/std"
   ]
  },
  {
   "cell_type": "code",
   "execution_count": 21,
   "metadata": {
    "execution": {
     "iopub.execute_input": "2021-08-08T13:46:41.622207Z",
     "iopub.status.busy": "2021-08-08T13:46:41.621256Z",
     "iopub.status.idle": "2021-08-08T13:46:42.765461Z",
     "shell.execute_reply": "2021-08-08T13:46:42.764873Z",
     "shell.execute_reply.started": "2021-07-31T12:07:31.465309Z"
    },
    "id": "wo2OH-d5kWp1",
    "papermill": {
     "duration": 1.506718,
     "end_time": "2021-08-08T13:46:42.765604",
     "exception": false,
     "start_time": "2021-08-08T13:46:41.258886",
     "status": "completed"
    },
    "tags": []
   },
   "outputs": [],
   "source": [
    "FEATURE_TRANS =  ['answer_correct', 'chapter_label', 'sub_chapter_label','question_name','user_id','term',\n",
    "                  'STDNT_SEX_CD', \n",
    "                    'White','Asian','NonWhiteOrAsian',\n",
    "            'STDNT_CTZN_STAT_CD', 'international', \n",
    "            'age',\n",
    "            'exclClassCumGPA',\n",
    "           'Freshman',\n",
    "            'Junior',\n",
    "            'Sophomore',\n",
    "            'Senior',\n",
    "            'termCreditsGPA',\n",
    "            'termCreditsNoGPA',\n",
    "            'athlete_1',\n",
    "            'honorsPro',\n",
    "            'LSA', 'programBusiness', 'programEngineering', \n",
    "            'programInformation', 'programOther',\n",
    "            'HSCalculusTaken', \n",
    "            'highSchoolGPA', \n",
    "            'majorsCount', 'minorsCount',\n",
    "            'PREV_TERM_CUM_GPA',\n",
    "            'classGraded', 'classHonors', \n",
    "            'Pass_Fail', \n",
    "            'parentsGraduateEdu',  'minorityGroup', \n",
    "            'available_flashcards', \n",
    "            'days_offset', 'prev_time_elapsed',\n",
    "             'time_lag']\n",
    "grouped_data = dataframe[FEATURE_TRANS].groupby(['user_id']).apply(lambda r: (\n",
    "                r['answer_correct'],\n",
    "                r['term'],\n",
    "                r['chapter_label'],\n",
    "                r['sub_chapter_label'],\n",
    "                r['question_name'],\n",
    "                np.array([\n",
    "#                   r['STDNT_SEX_CD'],r['STDNT_CTZN_STAT_CD'], r['international'], \n",
    "#                   r['White'],r['Asian'],r['NonWhiteOrAsian'],\n",
    "#                  r['age'],r['exclClassCumGPA'],\n",
    "#                 r['Freshman'], r['Junior'], r['Sophomore'], r['Senior'],\n",
    "#                 r['termCreditsGPA'], r['termCreditsNoGPA'],\n",
    "#                 r['athlete_1'], r['honorsPro'],\n",
    "#                 r['LSA'], r['programBusiness'], r['programEngineering'], \n",
    "#                 r['programInformation'], r['programOther'],\n",
    "#                 r['HSCalculusTaken'],  r['highSchoolGPA'], \n",
    "#                 r['majorsCount'], r['minorsCount'],\n",
    "#                 r['PREV_TERM_CUM_GPA'], \n",
    "#                 r['parentsGraduateEdu'], r['minorityGroup'],\n",
    "#                 r['available_flashcards'],\n",
    "#                 r['days_offset'],\n",
    "                r['prev_time_elapsed'],\n",
    "                r['time_lag']\n",
    "              ]).transpose()\n",
    "                ))"
   ]
  },
  {
   "cell_type": "code",
   "execution_count": 22,
   "metadata": {
    "execution": {
     "iopub.execute_input": "2021-08-08T13:46:43.694686Z",
     "iopub.status.busy": "2021-08-08T13:46:43.693806Z",
     "iopub.status.idle": "2021-08-08T13:46:43.698036Z",
     "shell.execute_reply": "2021-08-08T13:46:43.697411Z",
     "shell.execute_reply.started": "2021-07-31T12:07:32.580883Z"
    },
    "id": "XXLqQnjrlp_4",
    "outputId": "c801da79-f0bf-4fe5-b19c-7c799fe01556",
    "papermill": {
     "duration": 0.571026,
     "end_time": "2021-08-08T13:46:43.698181",
     "exception": false,
     "start_time": "2021-08-08T13:46:43.127155",
     "status": "completed"
    },
    "tags": []
   },
   "outputs": [
    {
     "data": {
      "text/plain": [
       "20"
      ]
     },
     "execution_count": 22,
     "metadata": {},
     "output_type": "execute_result"
    }
   ],
   "source": [
    "gc.collect()"
   ]
  },
  {
   "cell_type": "code",
   "execution_count": 23,
   "metadata": {
    "execution": {
     "iopub.execute_input": "2021-08-08T13:46:44.439217Z",
     "iopub.status.busy": "2021-08-08T13:46:44.433731Z",
     "iopub.status.idle": "2021-08-08T13:46:44.462437Z",
     "shell.execute_reply": "2021-08-08T13:46:44.461764Z",
     "shell.execute_reply.started": "2021-07-31T12:07:32.763535Z"
    },
    "id": "QYGQasdTrmP0",
    "papermill": {
     "duration": 0.404073,
     "end_time": "2021-08-08T13:46:44.462596",
     "exception": false,
     "start_time": "2021-08-08T13:46:44.058523",
     "status": "completed"
    },
    "tags": []
   },
   "outputs": [],
   "source": [
    "# remove students who don't have make any interactions with the tool\n",
    "toRemove = []\n",
    "for index in grouped_data.index:\n",
    "  if len(grouped_data[index][0]) <= 10:\n",
    "    toRemove.append(index)\n",
    "grouped_data = grouped_data.drop(index=toRemove)"
   ]
  },
  {
   "cell_type": "code",
   "execution_count": 24,
   "metadata": {
    "execution": {
     "iopub.execute_input": "2021-08-08T13:46:45.186873Z",
     "iopub.status.busy": "2021-08-08T13:46:45.186191Z",
     "iopub.status.idle": "2021-08-08T13:46:45.204809Z",
     "shell.execute_reply": "2021-08-08T13:46:45.204051Z",
     "shell.execute_reply.started": "2021-07-31T12:07:32.802433Z"
    },
    "papermill": {
     "duration": 0.385324,
     "end_time": "2021-08-08T13:46:45.204948",
     "exception": false,
     "start_time": "2021-08-08T13:46:44.819624",
     "status": "completed"
    },
    "tags": []
   },
   "outputs": [
    {
     "data": {
      "text/plain": [
       "count    1110.000000\n",
       "mean      550.263063\n",
       "std       201.281353\n",
       "min         2.000000\n",
       "25%       438.250000\n",
       "50%       520.500000\n",
       "75%       637.750000\n",
       "max      1500.000000\n",
       "Name: start_practice, dtype: float64"
      ]
     },
     "execution_count": 24,
     "metadata": {},
     "output_type": "execute_result"
    }
   ],
   "source": [
    "dataframe.groupby('user_id')['start_practice'].agg('count').describe()"
   ]
  },
  {
   "cell_type": "code",
   "execution_count": 25,
   "metadata": {
    "execution": {
     "iopub.execute_input": "2021-08-08T13:46:45.929984Z",
     "iopub.status.busy": "2021-08-08T13:46:45.929332Z",
     "iopub.status.idle": "2021-08-08T13:46:45.932820Z",
     "shell.execute_reply": "2021-08-08T13:46:45.933323Z",
     "shell.execute_reply.started": "2021-07-31T12:07:32.821988Z"
    },
    "papermill": {
     "duration": 0.370432,
     "end_time": "2021-08-08T13:46:45.933515",
     "exception": false,
     "start_time": "2021-08-08T13:46:45.563083",
     "status": "completed"
    },
    "tags": []
   },
   "outputs": [
    {
     "data": {
      "text/plain": [
       "['FA 2018:252', 'WN 2018:295']"
      ]
     },
     "execution_count": 25,
     "metadata": {},
     "output_type": "execute_result"
    }
   ],
   "source": [
    "toRemove"
   ]
  },
  {
   "cell_type": "code",
   "execution_count": 26,
   "metadata": {
    "execution": {
     "iopub.execute_input": "2021-08-08T13:46:46.683318Z",
     "iopub.status.busy": "2021-08-08T13:46:46.682708Z",
     "iopub.status.idle": "2021-08-08T13:46:46.687570Z",
     "shell.execute_reply": "2021-08-08T13:46:46.686875Z",
     "shell.execute_reply.started": "2021-07-31T12:07:32.831612Z"
    },
    "id": "9kZqV9siDyNb",
    "papermill": {
     "duration": 0.366817,
     "end_time": "2021-08-08T13:46:46.687723",
     "exception": false,
     "start_time": "2021-08-08T13:46:46.320906",
     "status": "completed"
    },
    "tags": []
   },
   "outputs": [],
   "source": [
    "#SETTINGS -> can be modified at any time\n",
    "MAXLENGTH = 400\n",
    "EMBEDDING_DIM = 128\n",
    "DENSE_NEURON = 16\n",
    "GRU_NEURON = 32"
   ]
  },
  {
   "cell_type": "code",
   "execution_count": 27,
   "metadata": {
    "execution": {
     "iopub.execute_input": "2021-08-08T13:46:47.414359Z",
     "iopub.status.busy": "2021-08-08T13:46:47.413743Z",
     "iopub.status.idle": "2021-08-08T13:46:47.415948Z",
     "shell.execute_reply": "2021-08-08T13:46:47.416497Z",
     "shell.execute_reply.started": "2021-07-31T12:07:32.84337Z"
    },
    "id": "1MksD1JizpPn",
    "papermill": {
     "duration": 0.36741,
     "end_time": "2021-08-08T13:46:47.416669",
     "exception": false,
     "start_time": "2021-08-08T13:46:47.049259",
     "status": "completed"
    },
    "tags": []
   },
   "outputs": [],
   "source": [
    "FEATURES_SIZE = 2\n",
    "CHAPTER_SIZE = 38\n",
    "SUB_CHAPTER_SIZE = 223\n",
    "QUESTION_SIZE = 1069"
   ]
  },
  {
   "cell_type": "code",
   "execution_count": 28,
   "metadata": {
    "execution": {
     "iopub.execute_input": "2021-08-08T13:46:48.142691Z",
     "iopub.status.busy": "2021-08-08T13:46:48.141991Z",
     "iopub.status.idle": "2021-08-08T13:46:48.152916Z",
     "shell.execute_reply": "2021-08-08T13:46:48.153408Z",
     "shell.execute_reply.started": "2021-07-31T12:07:32.851249Z"
    },
    "papermill": {
     "duration": 0.380031,
     "end_time": "2021-08-08T13:46:48.153604",
     "exception": false,
     "start_time": "2021-08-08T13:46:47.773573",
     "status": "completed"
    },
    "tags": []
   },
   "outputs": [
    {
     "data": {
      "text/plain": [
       "array([ 96,  86,  88,  28,  12,  82, 125,  32,  69,  33,  21, 115, 120,\n",
       "       119,  91,  73,  57,  77, 117,  40,  74,  41,  68,  39,  92,  47,\n",
       "       104,  95,  53,  49,  50,  16,  52,  55,   7,  15,  51, 102, 103,\n",
       "        11,  94, 108, 100,  17,  67,  63,  13, 139,  26,  25,   8, 107,\n",
       "         0,  90,  48,  54, 138,   1,   2,   3,  34,  35,  85,   5,  24,\n",
       "        37,  36,  78,  70,  45, 142,  71,  10,  89, 111, 112, 109, 116,\n",
       "        76,  72, 148, 134, 146, 221, 143,  56,  60,  61,  23, 140, 106,\n",
       "        42,  83,  22, 145, 136, 144,  38,   4,  19, 137,  75,  43,  98,\n",
       "        84, 113, 173, 174, 175, 176, 177, 178, 180, 181, 182, 187, 189,\n",
       "       190, 191, 192, 193, 195, 197, 151, 152, 153, 156, 157, 158, 159,\n",
       "       160, 161, 163, 164, 165, 166, 167, 168, 169, 170, 171, 172, 198,\n",
       "       199, 200, 201, 202, 203, 204, 205, 206, 207, 208, 209, 210, 162,\n",
       "       179, 186, 188, 194, 183, 184, 185, 211, 212, 213, 154, 155, 196,\n",
       "         6, 118,  18, 215,  46, 216, 141,  27, 217, 105, 123, 218, 101,\n",
       "       124, 219, 122, 220,  58,  59,  64,  20,  93,  65,  66,   9,  44,\n",
       "        30,  14,  79, 121,  31, 110, 129,  87,  97,  62, 149, 132, 131,\n",
       "       150, 130, 128,  99, 147, 127, 214, 135,  80, 126, 133,  81, 114,\n",
       "        29], dtype=int16)"
      ]
     },
     "execution_count": 28,
     "metadata": {},
     "output_type": "execute_result"
    }
   ],
   "source": [
    "dataframe['sub_chapter_label'].unique()"
   ]
  },
  {
   "cell_type": "code",
   "execution_count": 29,
   "metadata": {
    "execution": {
     "iopub.execute_input": "2021-08-08T13:46:48.872991Z",
     "iopub.status.busy": "2021-08-08T13:46:48.872336Z",
     "iopub.status.idle": "2021-08-08T13:46:49.941544Z",
     "shell.execute_reply": "2021-08-08T13:46:49.940960Z",
     "shell.execute_reply.started": "2021-07-31T12:07:32.870313Z"
    },
    "id": "mY3Thp6d0NaT",
    "papermill": {
     "duration": 1.429435,
     "end_time": "2021-08-08T13:46:49.941698",
     "exception": false,
     "start_time": "2021-08-08T13:46:48.512263",
     "status": "completed"
    },
    "tags": []
   },
   "outputs": [],
   "source": [
    "#create dataset class\n",
    "#to prepare it for train, valid, and test sets\n",
    "from torch.utils.data import Dataset, DataLoader\n",
    "class SPACE_DATASET(Dataset):\n",
    "    def __init__(self, data, maxlength = 400):\n",
    "        super(SPACE_DATASET, self).__init__()\n",
    "        self.maxlength = maxlength\n",
    "        self.data = data\n",
    "        self.users = list()\n",
    "        for user in data.index:\n",
    "            self.users.append(user)\n",
    "\n",
    "    def __len__(self):\n",
    "        return len(self.users)\n",
    "    \n",
    "    def __getitem__(self, ix):\n",
    "        user = self.users[ix]\n",
    "        user = user\n",
    "        target, term, ch_label, sub_ch_label, ques_name, features = self.data[user]\n",
    "        \n",
    "        #0s should be used as padding values\n",
    "        ori_target = target.values \n",
    "        term = term.values\n",
    "        ch_label = ch_label.values + 1\n",
    "        sub_ch_label = sub_ch_label.values +1\n",
    "        ques_name = ques_name.values + 1\n",
    "        \n",
    "        n = len(ch_label)\n",
    "\n",
    "        # one hot for term\n",
    "        term_encode = [0]*7\n",
    "        term_encode[term[0]] = 1\n",
    "        shifted_target= []\n",
    "\n",
    "        \n",
    "        # get  user interaction informations in the previous MAXLEN interactions\n",
    "        if n > self.maxlength:\n",
    "          ch_label = ch_label[-self.maxlength:]\n",
    "          sub_ch_label = sub_ch_label[-self.maxlength:]\n",
    "          ques_name = ques_name[-self.maxlength:]\n",
    "          features = features[-self.maxlength:]\n",
    "          target = ori_target[-self.maxlength:]\n",
    "          shifted_target = ori_target[ (-self.maxlength - 1) :-1]\n",
    "        else:\n",
    "          ch_label = [0]*(self.maxlength - n)+list(ch_label[:])\n",
    "          sub_ch_label = [0]*(self.maxlength - n)+list(sub_ch_label[:])\n",
    "          ques_name = [0]*(self.maxlength - n)+list(ques_name[:])\n",
    "          features = [[0]*len(features[0])]*(self.maxlength  - n)+list(features[:])\n",
    "          target = [-1]*(self.maxlength - n) + list(ori_target[:])\n",
    "          shifted_target = [2]*(self.maxlength + 1 - n) + list(ori_target[:-1])\n",
    "\n",
    "        new_features = []\n",
    "        count = 0\n",
    "        for f in features:\n",
    "          temp = list(f)\n",
    "#           temp.extend(term_encode)\n",
    "          #temp.append(shifted_target[count]) #uncomment this line for include previous response feature\n",
    "          new_features.append(temp)\n",
    "          count += 1\n",
    "        features = new_features\n",
    "        return ch_label,sub_ch_label,ques_name,features, shifted_target, target"
   ]
  },
  {
   "cell_type": "code",
   "execution_count": 30,
   "metadata": {
    "execution": {
     "iopub.execute_input": "2021-08-08T13:46:50.668495Z",
     "iopub.status.busy": "2021-08-08T13:46:50.667846Z",
     "iopub.status.idle": "2021-08-08T13:46:50.670582Z",
     "shell.execute_reply": "2021-08-08T13:46:50.671102Z",
     "shell.execute_reply.started": "2021-07-31T12:07:33.249192Z"
    },
    "papermill": {
     "duration": 0.367341,
     "end_time": "2021-08-08T13:46:50.671268",
     "exception": false,
     "start_time": "2021-08-08T13:46:50.303927",
     "status": "completed"
    },
    "tags": []
   },
   "outputs": [
    {
     "data": {
      "text/plain": [
       "223"
      ]
     },
     "execution_count": 30,
     "metadata": {},
     "output_type": "execute_result"
    }
   ],
   "source": [
    "SUB_CHAPTER_SIZE"
   ]
  },
  {
   "cell_type": "markdown",
   "metadata": {
    "id": "4xc90-aLzxat",
    "papermill": {
     "duration": 0.361159,
     "end_time": "2021-08-08T13:46:51.393533",
     "exception": false,
     "start_time": "2021-08-08T13:46:51.032374",
     "status": "completed"
    },
    "tags": []
   },
   "source": [
    "## KFOLD - GRU\n"
   ]
  },
  {
   "cell_type": "code",
   "execution_count": 31,
   "metadata": {
    "execution": {
     "iopub.execute_input": "2021-08-08T13:46:52.117159Z",
     "iopub.status.busy": "2021-08-08T13:46:52.116366Z",
     "iopub.status.idle": "2021-08-08T14:12:09.144782Z",
     "shell.execute_reply": "2021-08-08T14:12:09.144186Z",
     "shell.execute_reply.started": "2021-07-31T12:07:33.257302Z"
    },
    "id": "gzJrljnjzypP",
    "outputId": "87abe488-b493-4f8f-9d71-45cb1d2ddf51",
    "papermill": {
     "duration": 1517.39228,
     "end_time": "2021-08-08T14:12:09.144931",
     "exception": false,
     "start_time": "2021-08-08T13:46:51.752651",
     "status": "completed"
    },
    "tags": []
   },
   "outputs": [
    {
     "name": "stdout",
     "output_type": "stream",
     "text": [
      "Epoch 1/100\n",
      "14/14 [==============================] - 24s 1s/step - loss: 0.5766 - masked_acc: 0.6242 - masked_auc: 0.5478 - val_loss: 0.4762 - val_masked_acc: 0.7157 - val_masked_auc: 0.6905\n",
      "Epoch 2/100\n",
      "14/14 [==============================] - 12s 858ms/step - loss: 0.4522 - masked_acc: 0.7248 - masked_auc: 0.7191 - val_loss: 0.4321 - val_masked_acc: 0.7450 - val_masked_auc: 0.7634\n",
      "Epoch 3/100\n",
      "14/14 [==============================] - 12s 850ms/step - loss: 0.4227 - masked_acc: 0.7488 - masked_auc: 0.7730 - val_loss: 0.4227 - val_masked_acc: 0.7582 - val_masked_auc: 0.7918\n",
      "Epoch 4/100\n",
      "14/14 [==============================] - 12s 874ms/step - loss: 0.4127 - masked_acc: 0.7602 - masked_auc: 0.7967 - val_loss: 0.4158 - val_masked_acc: 0.7657 - val_masked_auc: 0.8067\n",
      "Epoch 5/100\n",
      "14/14 [==============================] - 12s 845ms/step - loss: 0.4011 - masked_acc: 0.7672 - masked_auc: 0.8099 - val_loss: 0.4132 - val_masked_acc: 0.7707 - val_masked_auc: 0.8163\n",
      "Epoch 6/100\n",
      "14/14 [==============================] - 12s 843ms/step - loss: 0.3953 - masked_acc: 0.7719 - masked_auc: 0.8186 - val_loss: 0.4117 - val_masked_acc: 0.7745 - val_masked_auc: 0.8231\n",
      "Epoch 7/100\n",
      "14/14 [==============================] - 12s 860ms/step - loss: 0.4007 - masked_acc: 0.7751 - masked_auc: 0.8245 - val_loss: 0.4131 - val_masked_acc: 0.7773 - val_masked_auc: 0.8282\n",
      "Epoch 8/100\n",
      "14/14 [==============================] - 12s 860ms/step - loss: 0.3996 - masked_acc: 0.7779 - masked_auc: 0.8294 - val_loss: 0.4069 - val_masked_acc: 0.7797 - val_masked_auc: 0.8324\n",
      "Epoch 9/100\n",
      "14/14 [==============================] - 12s 875ms/step - loss: 0.3907 - masked_acc: 0.7802 - masked_auc: 0.8334 - val_loss: 0.4071 - val_masked_acc: 0.7817 - val_masked_auc: 0.8358\n",
      "Epoch 10/100\n",
      "14/14 [==============================] - 12s 854ms/step - loss: 0.3847 - masked_acc: 0.7822 - masked_auc: 0.8367 - val_loss: 0.4044 - val_masked_acc: 0.7835 - val_masked_auc: 0.8388\n",
      "Epoch 11/100\n",
      "14/14 [==============================] - 12s 861ms/step - loss: 0.3844 - masked_acc: 0.7839 - masked_auc: 0.8397 - val_loss: 0.4080 - val_masked_acc: 0.7851 - val_masked_auc: 0.8413\n",
      "Epoch 12/100\n",
      "14/14 [==============================] - 12s 877ms/step - loss: 0.3809 - masked_acc: 0.7854 - masked_auc: 0.8420 - val_loss: 0.4051 - val_masked_acc: 0.7864 - val_masked_auc: 0.8435\n",
      "Epoch 13/100\n",
      "14/14 [==============================] - 12s 845ms/step - loss: 0.3782 - masked_acc: 0.7868 - masked_auc: 0.8442 - val_loss: 0.4076 - val_masked_acc: 0.7877 - val_masked_auc: 0.8455\n",
      "Epoch 14/100\n",
      "14/14 [==============================] - 12s 864ms/step - loss: 0.3770 - masked_acc: 0.7880 - masked_auc: 0.8461 - val_loss: 0.4037 - val_masked_acc: 0.7888 - val_masked_auc: 0.8474\n",
      "Epoch 15/100\n",
      "14/14 [==============================] - 12s 851ms/step - loss: 0.3734 - masked_acc: 0.7891 - masked_auc: 0.8479 - val_loss: 0.4079 - val_masked_acc: 0.7899 - val_masked_auc: 0.8491\n",
      "Epoch 16/100\n",
      "14/14 [==============================] - 12s 823ms/step - loss: 0.3716 - masked_acc: 0.7902 - masked_auc: 0.8496 - val_loss: 0.4060 - val_masked_acc: 0.7910 - val_masked_auc: 0.8508\n",
      "Epoch 17/100\n",
      "14/14 [==============================] - 12s 850ms/step - loss: 0.3705 - masked_acc: 0.7913 - masked_auc: 0.8512 - val_loss: 0.4054 - val_masked_acc: 0.7920 - val_masked_auc: 0.8523\n",
      "Epoch 18/100\n",
      "14/14 [==============================] - 12s 846ms/step - loss: 0.3658 - masked_acc: 0.7923 - masked_auc: 0.8528 - val_loss: 0.4079 - val_masked_acc: 0.7930 - val_masked_auc: 0.8538\n",
      "Epoch 19/100\n",
      "14/14 [==============================] - 12s 853ms/step - loss: 0.3604 - masked_acc: 0.7933 - masked_auc: 0.8542 - val_loss: 0.4094 - val_masked_acc: 0.7940 - val_masked_auc: 0.8552\n",
      "Epoch 20/100\n",
      "14/14 [==============================] - 12s 887ms/step - loss: 0.3592 - masked_acc: 0.7943 - masked_auc: 0.8556 - val_loss: 0.4115 - val_masked_acc: 0.7949 - val_masked_auc: 0.8565\n",
      "Epoch 21/100\n",
      "14/14 [==============================] - 12s 848ms/step - loss: 0.3510 - masked_acc: 0.7952 - masked_auc: 0.8569 - val_loss: 0.4113 - val_masked_acc: 0.7958 - val_masked_auc: 0.8578\n",
      "Epoch 22/100\n",
      "14/14 [==============================] - 12s 864ms/step - loss: 0.3630 - masked_acc: 0.7960 - masked_auc: 0.8582 - val_loss: 0.4132 - val_masked_acc: 0.7967 - val_masked_auc: 0.8591\n",
      "Epoch 23/100\n",
      "14/14 [==============================] - 12s 877ms/step - loss: 0.3520 - masked_acc: 0.7970 - masked_auc: 0.8595 - val_loss: 0.4142 - val_masked_acc: 0.7976 - val_masked_auc: 0.8603\n",
      "Epoch 24/100\n",
      "14/14 [==============================] - 12s 845ms/step - loss: 0.3498 - masked_acc: 0.7979 - masked_auc: 0.8607 - val_loss: 0.4226 - val_masked_acc: 0.7984 - val_masked_auc: 0.8615\n",
      "28/28 [==============================] - 4s 129ms/step - loss: 0.3427 - masked_acc: 0.7991 - masked_auc: 0.8623\n",
      "4/4 [==============================] - 0s 116ms/step - loss: 0.4208 - masked_acc: 0.7993 - masked_auc: 0.8628\n",
      "Test:  [0.42080309987068176, 0.7993059754371643, 0.862783670425415]\n",
      "Epoch 1/100\n",
      "14/14 [==============================] - 23s 1s/step - loss: 0.5667 - masked_acc: 0.6788 - masked_auc: 0.5481 - val_loss: 0.4607 - val_masked_acc: 0.7314 - val_masked_auc: 0.7263\n",
      "Epoch 2/100\n",
      "14/14 [==============================] - 12s 860ms/step - loss: 0.4270 - masked_acc: 0.7410 - masked_auc: 0.7524 - val_loss: 0.4308 - val_masked_acc: 0.7566 - val_masked_auc: 0.7863\n",
      "Epoch 3/100\n",
      "14/14 [==============================] - 13s 913ms/step - loss: 0.4139 - masked_acc: 0.7599 - masked_auc: 0.7935 - val_loss: 0.4313 - val_masked_acc: 0.7664 - val_masked_auc: 0.8071\n",
      "Epoch 4/100\n",
      "14/14 [==============================] - 12s 835ms/step - loss: 0.4159 - masked_acc: 0.7675 - masked_auc: 0.8105 - val_loss: 0.4237 - val_masked_acc: 0.7718 - val_masked_auc: 0.8178\n",
      "Epoch 5/100\n",
      "14/14 [==============================] - 12s 858ms/step - loss: 0.4004 - masked_acc: 0.7729 - masked_auc: 0.8203 - val_loss: 0.4222 - val_masked_acc: 0.7756 - val_masked_auc: 0.8250\n",
      "Epoch 6/100\n",
      "14/14 [==============================] - 12s 868ms/step - loss: 0.3948 - masked_acc: 0.7764 - masked_auc: 0.8268 - val_loss: 0.4224 - val_masked_acc: 0.7784 - val_masked_auc: 0.8302\n",
      "Epoch 7/100\n",
      "14/14 [==============================] - 12s 848ms/step - loss: 0.3894 - masked_acc: 0.7791 - masked_auc: 0.8315 - val_loss: 0.4198 - val_masked_acc: 0.7806 - val_masked_auc: 0.8342\n",
      "Epoch 8/100\n",
      "14/14 [==============================] - 12s 887ms/step - loss: 0.3964 - masked_acc: 0.7810 - masked_auc: 0.8352 - val_loss: 0.4156 - val_masked_acc: 0.7826 - val_masked_auc: 0.8376\n",
      "Epoch 9/100\n",
      "14/14 [==============================] - 12s 868ms/step - loss: 0.3847 - masked_acc: 0.7831 - masked_auc: 0.8386 - val_loss: 0.4190 - val_masked_acc: 0.7843 - val_masked_auc: 0.8406\n",
      "Epoch 10/100\n",
      "14/14 [==============================] - 12s 834ms/step - loss: 0.3740 - masked_acc: 0.7849 - masked_auc: 0.8415 - val_loss: 0.4145 - val_masked_acc: 0.7857 - val_masked_auc: 0.8430\n",
      "Epoch 11/100\n",
      "14/14 [==============================] - 12s 876ms/step - loss: 0.3817 - masked_acc: 0.7860 - masked_auc: 0.8437 - val_loss: 0.4119 - val_masked_acc: 0.7870 - val_masked_auc: 0.8452\n",
      "Epoch 12/100\n",
      "14/14 [==============================] - 12s 842ms/step - loss: 0.3820 - masked_acc: 0.7874 - masked_auc: 0.8459 - val_loss: 0.4120 - val_masked_acc: 0.7883 - val_masked_auc: 0.8472\n",
      "Epoch 13/100\n",
      "14/14 [==============================] - 12s 854ms/step - loss: 0.3702 - masked_acc: 0.7887 - masked_auc: 0.8479 - val_loss: 0.4107 - val_masked_acc: 0.7895 - val_masked_auc: 0.8491\n",
      "Epoch 14/100\n",
      "14/14 [==============================] - 13s 901ms/step - loss: 0.3683 - masked_acc: 0.7898 - masked_auc: 0.8497 - val_loss: 0.4111 - val_masked_acc: 0.7905 - val_masked_auc: 0.8508\n",
      "Epoch 15/100\n",
      "14/14 [==============================] - 12s 851ms/step - loss: 0.3708 - masked_acc: 0.7908 - masked_auc: 0.8513 - val_loss: 0.4119 - val_masked_acc: 0.7916 - val_masked_auc: 0.8524\n",
      "Epoch 16/100\n",
      "14/14 [==============================] - 12s 885ms/step - loss: 0.3713 - masked_acc: 0.7919 - masked_auc: 0.8529 - val_loss: 0.4117 - val_masked_acc: 0.7926 - val_masked_auc: 0.8539\n",
      "Epoch 17/100\n",
      "14/14 [==============================] - 12s 843ms/step - loss: 0.3623 - masked_acc: 0.7929 - masked_auc: 0.8544 - val_loss: 0.4137 - val_masked_acc: 0.7936 - val_masked_auc: 0.8554\n",
      "Epoch 18/100\n",
      "14/14 [==============================] - 12s 842ms/step - loss: 0.3628 - masked_acc: 0.7939 - masked_auc: 0.8558 - val_loss: 0.4132 - val_masked_acc: 0.7945 - val_masked_auc: 0.8567\n",
      "Epoch 19/100\n",
      "14/14 [==============================] - 12s 892ms/step - loss: 0.3578 - masked_acc: 0.7948 - masked_auc: 0.8572 - val_loss: 0.4151 - val_masked_acc: 0.7954 - val_masked_auc: 0.8580\n",
      "Epoch 20/100\n",
      "14/14 [==============================] - 12s 831ms/step - loss: 0.3535 - masked_acc: 0.7957 - masked_auc: 0.8585 - val_loss: 0.4151 - val_masked_acc: 0.7962 - val_masked_auc: 0.8593\n",
      "Epoch 21/100\n",
      "14/14 [==============================] - 12s 841ms/step - loss: 0.3531 - masked_acc: 0.7965 - masked_auc: 0.8597 - val_loss: 0.4189 - val_masked_acc: 0.7971 - val_masked_auc: 0.8605\n",
      "Epoch 22/100\n",
      "14/14 [==============================] - 12s 852ms/step - loss: 0.3536 - masked_acc: 0.7973 - masked_auc: 0.8609 - val_loss: 0.4250 - val_masked_acc: 0.7979 - val_masked_auc: 0.8617\n",
      "Epoch 23/100\n",
      "14/14 [==============================] - 12s 878ms/step - loss: 0.3484 - masked_acc: 0.7981 - masked_auc: 0.8621 - val_loss: 0.4263 - val_masked_acc: 0.7987 - val_masked_auc: 0.8629\n",
      "28/28 [==============================] - 4s 136ms/step - loss: 0.3439 - masked_acc: 0.7994 - masked_auc: 0.8637\n",
      "4/4 [==============================] - 1s 127ms/step - loss: 0.4083 - masked_acc: 0.7996 - masked_auc: 0.8641\n",
      "Test:  [0.40829014778137207, 0.7995699644088745, 0.8640968799591064]\n",
      "Epoch 1/100\n",
      "14/14 [==============================] - 23s 1s/step - loss: 0.5798 - masked_acc: 0.6049 - masked_auc: 0.5478 - val_loss: 0.4455 - val_masked_acc: 0.7165 - val_masked_auc: 0.7036\n",
      "Epoch 2/100\n",
      "14/14 [==============================] - 13s 898ms/step - loss: 0.4417 - masked_acc: 0.7280 - masked_auc: 0.7315 - val_loss: 0.4092 - val_masked_acc: 0.7465 - val_masked_auc: 0.7709\n",
      "Epoch 3/100\n",
      "14/14 [==============================] - 12s 862ms/step - loss: 0.4177 - masked_acc: 0.7508 - masked_auc: 0.7804 - val_loss: 0.4008 - val_masked_acc: 0.7589 - val_masked_auc: 0.7963\n",
      "Epoch 4/100\n",
      "14/14 [==============================] - 12s 885ms/step - loss: 0.4102 - masked_acc: 0.7612 - masked_auc: 0.8014 - val_loss: 0.3984 - val_masked_acc: 0.7658 - val_masked_auc: 0.8097\n",
      "Epoch 5/100\n",
      "14/14 [==============================] - 12s 862ms/step - loss: 0.4077 - masked_acc: 0.7670 - masked_auc: 0.8125 - val_loss: 0.3943 - val_masked_acc: 0.7704 - val_masked_auc: 0.8182\n",
      "Epoch 6/100\n",
      "14/14 [==============================] - 12s 837ms/step - loss: 0.4116 - masked_acc: 0.7710 - masked_auc: 0.8198 - val_loss: 0.3937 - val_masked_acc: 0.7738 - val_masked_auc: 0.8242\n",
      "Epoch 7/100\n",
      "14/14 [==============================] - 13s 911ms/step - loss: 0.4055 - masked_acc: 0.7743 - masked_auc: 0.8256 - val_loss: 0.3925 - val_masked_acc: 0.7764 - val_masked_auc: 0.8289\n",
      "Epoch 8/100\n",
      "14/14 [==============================] - 12s 857ms/step - loss: 0.3987 - masked_acc: 0.7769 - masked_auc: 0.8300 - val_loss: 0.3897 - val_masked_acc: 0.7786 - val_masked_auc: 0.8327\n",
      "Epoch 9/100\n",
      "14/14 [==============================] - 12s 862ms/step - loss: 0.3922 - masked_acc: 0.7791 - masked_auc: 0.8337 - val_loss: 0.3887 - val_masked_acc: 0.7804 - val_masked_auc: 0.8358\n",
      "Epoch 10/100\n",
      "14/14 [==============================] - 12s 894ms/step - loss: 0.3970 - masked_acc: 0.7808 - masked_auc: 0.8366 - val_loss: 0.3861 - val_masked_acc: 0.7821 - val_masked_auc: 0.8385\n",
      "Epoch 11/100\n",
      "14/14 [==============================] - 12s 853ms/step - loss: 0.3956 - masked_acc: 0.7824 - masked_auc: 0.8392 - val_loss: 0.3859 - val_masked_acc: 0.7836 - val_masked_auc: 0.8410\n",
      "Epoch 12/100\n",
      "14/14 [==============================] - 12s 860ms/step - loss: 0.3926 - masked_acc: 0.7838 - masked_auc: 0.8415 - val_loss: 0.3793 - val_masked_acc: 0.7850 - val_masked_auc: 0.8433\n",
      "Epoch 13/100\n",
      "14/14 [==============================] - 12s 885ms/step - loss: 0.3841 - masked_acc: 0.7853 - masked_auc: 0.8439 - val_loss: 0.3819 - val_masked_acc: 0.7862 - val_masked_auc: 0.8453\n",
      "Epoch 14/100\n",
      "14/14 [==============================] - 12s 856ms/step - loss: 0.3869 - masked_acc: 0.7865 - masked_auc: 0.8458 - val_loss: 0.3792 - val_masked_acc: 0.7874 - val_masked_auc: 0.8470\n",
      "Epoch 15/100\n",
      "14/14 [==============================] - 12s 896ms/step - loss: 0.3784 - masked_acc: 0.7877 - masked_auc: 0.8476 - val_loss: 0.3836 - val_masked_acc: 0.7884 - val_masked_auc: 0.8487\n",
      "Epoch 16/100\n",
      "14/14 [==============================] - 12s 851ms/step - loss: 0.3759 - masked_acc: 0.7887 - masked_auc: 0.8492 - val_loss: 0.3794 - val_masked_acc: 0.7895 - val_masked_auc: 0.8503\n",
      "Epoch 17/100\n",
      "14/14 [==============================] - 12s 864ms/step - loss: 0.3745 - masked_acc: 0.7897 - masked_auc: 0.8507 - val_loss: 0.3841 - val_masked_acc: 0.7905 - val_masked_auc: 0.8517\n",
      "Epoch 18/100\n",
      "14/14 [==============================] - 12s 888ms/step - loss: 0.3785 - masked_acc: 0.7906 - masked_auc: 0.8521 - val_loss: 0.3800 - val_masked_acc: 0.7914 - val_masked_auc: 0.8531\n",
      "Epoch 19/100\n",
      "14/14 [==============================] - 12s 854ms/step - loss: 0.3687 - masked_acc: 0.7916 - masked_auc: 0.8536 - val_loss: 0.3831 - val_masked_acc: 0.7923 - val_masked_auc: 0.8545\n",
      "Epoch 20/100\n",
      "14/14 [==============================] - 12s 864ms/step - loss: 0.3696 - masked_acc: 0.7925 - masked_auc: 0.8548 - val_loss: 0.3842 - val_masked_acc: 0.7932 - val_masked_auc: 0.8557\n",
      "Epoch 21/100\n",
      "14/14 [==============================] - 12s 885ms/step - loss: 0.3677 - masked_acc: 0.7934 - masked_auc: 0.8561 - val_loss: 0.3876 - val_masked_acc: 0.7940 - val_masked_auc: 0.8569\n",
      "Epoch 22/100\n",
      "14/14 [==============================] - 12s 854ms/step - loss: 0.3622 - masked_acc: 0.7942 - masked_auc: 0.8572 - val_loss: 0.3860 - val_masked_acc: 0.7948 - val_masked_auc: 0.8581\n",
      "Epoch 23/100\n",
      "14/14 [==============================] - 12s 882ms/step - loss: 0.3633 - masked_acc: 0.7950 - masked_auc: 0.8584 - val_loss: 0.3958 - val_masked_acc: 0.7956 - val_masked_auc: 0.8592\n",
      "Epoch 24/100\n",
      "14/14 [==============================] - 12s 876ms/step - loss: 0.3677 - masked_acc: 0.7957 - masked_auc: 0.8595 - val_loss: 0.3933 - val_masked_acc: 0.7963 - val_masked_auc: 0.8602\n",
      "28/28 [==============================] - 4s 135ms/step - loss: 0.3556 - masked_acc: 0.7969 - masked_auc: 0.8610\n",
      "4/4 [==============================] - 1s 129ms/step - loss: 0.3956 - masked_acc: 0.7971 - masked_auc: 0.8614\n",
      "Test:  [0.39558055996894836, 0.7971168756484985, 0.8613571524620056]\n",
      "Epoch 1/100\n",
      "14/14 [==============================] - 23s 1s/step - loss: 0.5878 - masked_acc: 0.5925 - masked_auc: 0.5487 - val_loss: 0.4758 - val_masked_acc: 0.7030 - val_masked_auc: 0.6915\n",
      "Epoch 2/100\n",
      "14/14 [==============================] - 12s 886ms/step - loss: 0.4513 - masked_acc: 0.7160 - masked_auc: 0.7223 - val_loss: 0.4330 - val_masked_acc: 0.7388 - val_masked_auc: 0.7660\n",
      "Epoch 3/100\n",
      "14/14 [==============================] - 12s 893ms/step - loss: 0.4256 - masked_acc: 0.7431 - masked_auc: 0.7754 - val_loss: 0.4261 - val_masked_acc: 0.7536 - val_masked_auc: 0.7930\n",
      "Epoch 4/100\n",
      "14/14 [==============================] - 12s 894ms/step - loss: 0.4146 - masked_acc: 0.7561 - masked_auc: 0.7977 - val_loss: 0.4228 - val_masked_acc: 0.7620 - val_masked_auc: 0.8075\n",
      "Epoch 5/100\n",
      "14/14 [==============================] - 12s 862ms/step - loss: 0.4161 - masked_acc: 0.7631 - masked_auc: 0.8101 - val_loss: 0.4180 - val_masked_acc: 0.7674 - val_masked_auc: 0.8169\n",
      "Epoch 6/100\n",
      "14/14 [==============================] - 12s 852ms/step - loss: 0.3936 - masked_acc: 0.7688 - masked_auc: 0.8190 - val_loss: 0.4163 - val_masked_acc: 0.7714 - val_masked_auc: 0.8234\n",
      "Epoch 7/100\n",
      "14/14 [==============================] - 12s 882ms/step - loss: 0.3972 - masked_acc: 0.7722 - masked_auc: 0.8251 - val_loss: 0.4178 - val_masked_acc: 0.7745 - val_masked_auc: 0.8285\n",
      "Epoch 8/100\n",
      "14/14 [==============================] - 12s 878ms/step - loss: 0.3913 - masked_acc: 0.7753 - masked_auc: 0.8298 - val_loss: 0.4157 - val_masked_acc: 0.7770 - val_masked_auc: 0.8325\n",
      "Epoch 9/100\n",
      "14/14 [==============================] - 12s 853ms/step - loss: 0.3929 - masked_acc: 0.7776 - masked_auc: 0.8335 - val_loss: 0.4136 - val_masked_acc: 0.7792 - val_masked_auc: 0.8359\n",
      "Epoch 10/100\n",
      "14/14 [==============================] - 12s 882ms/step - loss: 0.3862 - masked_acc: 0.7797 - masked_auc: 0.8369 - val_loss: 0.4111 - val_masked_acc: 0.7810 - val_masked_auc: 0.8389\n",
      "Epoch 11/100\n",
      "14/14 [==============================] - 12s 880ms/step - loss: 0.3837 - masked_acc: 0.7816 - masked_auc: 0.8397 - val_loss: 0.4122 - val_masked_acc: 0.7827 - val_masked_auc: 0.8414\n",
      "Epoch 12/100\n",
      "14/14 [==============================] - 12s 892ms/step - loss: 0.3821 - masked_acc: 0.7831 - masked_auc: 0.8421 - val_loss: 0.4138 - val_masked_acc: 0.7842 - val_masked_auc: 0.8437\n",
      "Epoch 13/100\n",
      "14/14 [==============================] - 12s 881ms/step - loss: 0.3764 - masked_acc: 0.7846 - masked_auc: 0.8443 - val_loss: 0.4102 - val_masked_acc: 0.7856 - val_masked_auc: 0.8457\n",
      "Epoch 14/100\n",
      "14/14 [==============================] - 12s 856ms/step - loss: 0.3742 - masked_acc: 0.7860 - masked_auc: 0.8463 - val_loss: 0.4117 - val_masked_acc: 0.7869 - val_masked_auc: 0.8476\n",
      "Epoch 15/100\n",
      "14/14 [==============================] - 12s 855ms/step - loss: 0.3740 - masked_acc: 0.7872 - masked_auc: 0.8482 - val_loss: 0.4112 - val_masked_acc: 0.7880 - val_masked_auc: 0.8494\n",
      "Epoch 16/100\n",
      "14/14 [==============================] - 12s 890ms/step - loss: 0.3782 - masked_acc: 0.7882 - masked_auc: 0.8498 - val_loss: 0.4105 - val_masked_acc: 0.7891 - val_masked_auc: 0.8509\n",
      "Epoch 17/100\n",
      "14/14 [==============================] - 12s 847ms/step - loss: 0.3657 - masked_acc: 0.7894 - masked_auc: 0.8514 - val_loss: 0.4107 - val_masked_acc: 0.7901 - val_masked_auc: 0.8524\n",
      "Epoch 18/100\n",
      "14/14 [==============================] - 12s 852ms/step - loss: 0.3642 - masked_acc: 0.7904 - masked_auc: 0.8529 - val_loss: 0.4104 - val_masked_acc: 0.7911 - val_masked_auc: 0.8539\n",
      "Epoch 19/100\n",
      "14/14 [==============================] - 13s 919ms/step - loss: 0.3680 - masked_acc: 0.7914 - masked_auc: 0.8543 - val_loss: 0.4123 - val_masked_acc: 0.7921 - val_masked_auc: 0.8552\n",
      "Epoch 20/100\n",
      "14/14 [==============================] - 12s 861ms/step - loss: 0.3623 - masked_acc: 0.7924 - masked_auc: 0.8557 - val_loss: 0.4124 - val_masked_acc: 0.7930 - val_masked_auc: 0.8565\n",
      "Epoch 21/100\n",
      "14/14 [==============================] - 13s 901ms/step - loss: 0.3615 - masked_acc: 0.7932 - masked_auc: 0.8570 - val_loss: 0.4110 - val_masked_acc: 0.7939 - val_masked_auc: 0.8578\n",
      "Epoch 22/100\n",
      "14/14 [==============================] - 12s 842ms/step - loss: 0.3555 - masked_acc: 0.7942 - masked_auc: 0.8582 - val_loss: 0.4176 - val_masked_acc: 0.7947 - val_masked_auc: 0.8589\n",
      "Epoch 23/100\n",
      "14/14 [==============================] - 12s 883ms/step - loss: 0.3537 - masked_acc: 0.7950 - masked_auc: 0.8593 - val_loss: 0.4165 - val_masked_acc: 0.7955 - val_masked_auc: 0.8600\n",
      "28/28 [==============================] - 4s 139ms/step - loss: 0.3504 - masked_acc: 0.7962 - masked_auc: 0.8608\n",
      "4/4 [==============================] - 1s 159ms/step - loss: 0.4095 - masked_acc: 0.7964 - masked_auc: 0.8613\n",
      "Test:  [0.40947189927101135, 0.7963976860046387, 0.8612573146820068]\n",
      "Epoch 1/100\n",
      "14/14 [==============================] - 23s 1s/step - loss: 0.5728 - masked_acc: 0.5583 - masked_auc: 0.5297 - val_loss: 0.4675 - val_masked_acc: 0.7069 - val_masked_auc: 0.6970\n",
      "Epoch 2/100\n",
      "14/14 [==============================] - 13s 912ms/step - loss: 0.4469 - masked_acc: 0.7186 - masked_auc: 0.7247 - val_loss: 0.4348 - val_masked_acc: 0.7392 - val_masked_auc: 0.7663\n",
      "Epoch 3/100\n",
      "14/14 [==============================] - 12s 868ms/step - loss: 0.4221 - masked_acc: 0.7442 - masked_auc: 0.7758 - val_loss: 0.4269 - val_masked_acc: 0.7534 - val_masked_auc: 0.7923\n",
      "Epoch 4/100\n",
      "14/14 [==============================] - 12s 861ms/step - loss: 0.4200 - masked_acc: 0.7557 - masked_auc: 0.7970 - val_loss: 0.4207 - val_masked_acc: 0.7612 - val_masked_auc: 0.8061\n",
      "Epoch 5/100\n",
      "14/14 [==============================] - 12s 895ms/step - loss: 0.4104 - masked_acc: 0.7630 - masked_auc: 0.8090 - val_loss: 0.4206 - val_masked_acc: 0.7664 - val_masked_auc: 0.8147\n",
      "Epoch 6/100\n",
      "14/14 [==============================] - 12s 866ms/step - loss: 0.4088 - masked_acc: 0.7674 - masked_auc: 0.8166 - val_loss: 0.4139 - val_masked_acc: 0.7701 - val_masked_auc: 0.8210\n",
      "Epoch 7/100\n",
      "14/14 [==============================] - 12s 881ms/step - loss: 0.4028 - masked_acc: 0.7710 - masked_auc: 0.8225 - val_loss: 0.4133 - val_masked_acc: 0.7730 - val_masked_auc: 0.8258\n",
      "Epoch 8/100\n",
      "14/14 [==============================] - 12s 860ms/step - loss: 0.3912 - masked_acc: 0.7738 - masked_auc: 0.8270 - val_loss: 0.4127 - val_masked_acc: 0.7755 - val_masked_auc: 0.8298\n",
      "Epoch 9/100\n",
      "14/14 [==============================] - 12s 859ms/step - loss: 0.3916 - masked_acc: 0.7761 - masked_auc: 0.8308 - val_loss: 0.4097 - val_masked_acc: 0.7776 - val_masked_auc: 0.8332\n",
      "Epoch 10/100\n",
      "14/14 [==============================] - 13s 907ms/step - loss: 0.3956 - masked_acc: 0.7781 - masked_auc: 0.8340 - val_loss: 0.4098 - val_masked_acc: 0.7794 - val_masked_auc: 0.8360\n",
      "Epoch 11/100\n",
      "14/14 [==============================] - 12s 857ms/step - loss: 0.3885 - masked_acc: 0.7798 - masked_auc: 0.8368 - val_loss: 0.4104 - val_masked_acc: 0.7810 - val_masked_auc: 0.8385\n",
      "Epoch 12/100\n",
      "14/14 [==============================] - 12s 878ms/step - loss: 0.3850 - masked_acc: 0.7814 - masked_auc: 0.8392 - val_loss: 0.4075 - val_masked_acc: 0.7824 - val_masked_auc: 0.8408\n",
      "Epoch 13/100\n",
      "14/14 [==============================] - 12s 877ms/step - loss: 0.3797 - masked_acc: 0.7828 - masked_auc: 0.8414 - val_loss: 0.4067 - val_masked_acc: 0.7838 - val_masked_auc: 0.8428\n",
      "Epoch 14/100\n",
      "14/14 [==============================] - 12s 867ms/step - loss: 0.3823 - masked_acc: 0.7841 - masked_auc: 0.8434 - val_loss: 0.4069 - val_masked_acc: 0.7851 - val_masked_auc: 0.8448\n",
      "Epoch 15/100\n",
      "14/14 [==============================] - 12s 892ms/step - loss: 0.3755 - masked_acc: 0.7854 - masked_auc: 0.8453 - val_loss: 0.4077 - val_masked_acc: 0.7863 - val_masked_auc: 0.8466\n",
      "Epoch 16/100\n",
      "14/14 [==============================] - 12s 891ms/step - loss: 0.3798 - masked_acc: 0.7865 - masked_auc: 0.8470 - val_loss: 0.4086 - val_masked_acc: 0.7874 - val_masked_auc: 0.8482\n",
      "Epoch 17/100\n",
      "14/14 [==============================] - 12s 867ms/step - loss: 0.3750 - masked_acc: 0.7877 - masked_auc: 0.8487 - val_loss: 0.4094 - val_masked_acc: 0.7885 - val_masked_auc: 0.8498\n",
      "Epoch 18/100\n",
      "14/14 [==============================] - 12s 883ms/step - loss: 0.3739 - masked_acc: 0.7888 - masked_auc: 0.8502 - val_loss: 0.4081 - val_masked_acc: 0.7895 - val_masked_auc: 0.8512\n",
      "Epoch 19/100\n",
      "14/14 [==============================] - 12s 892ms/step - loss: 0.3711 - masked_acc: 0.7898 - masked_auc: 0.8517 - val_loss: 0.4085 - val_masked_acc: 0.7905 - val_masked_auc: 0.8526\n",
      "Epoch 20/100\n",
      "14/14 [==============================] - 12s 886ms/step - loss: 0.3624 - masked_acc: 0.7908 - masked_auc: 0.8530 - val_loss: 0.4112 - val_masked_acc: 0.7914 - val_masked_auc: 0.8539\n",
      "Epoch 21/100\n",
      "14/14 [==============================] - 12s 872ms/step - loss: 0.3622 - masked_acc: 0.7917 - masked_auc: 0.8543 - val_loss: 0.4119 - val_masked_acc: 0.7923 - val_masked_auc: 0.8552\n",
      "Epoch 22/100\n",
      "14/14 [==============================] - 12s 878ms/step - loss: 0.3606 - masked_acc: 0.7926 - masked_auc: 0.8556 - val_loss: 0.4127 - val_masked_acc: 0.7932 - val_masked_auc: 0.8564\n",
      "Epoch 23/100\n",
      "14/14 [==============================] - 12s 891ms/step - loss: 0.3611 - masked_acc: 0.7934 - masked_auc: 0.8568 - val_loss: 0.4158 - val_masked_acc: 0.7940 - val_masked_auc: 0.8576\n",
      "28/28 [==============================] - 4s 136ms/step - loss: 0.3540 - masked_acc: 0.7947 - masked_auc: 0.8584\n",
      "4/4 [==============================] - 1s 127ms/step - loss: 0.3771 - masked_acc: 0.7950 - masked_auc: 0.8589\n",
      "Test:  [0.3770853281021118, 0.7949548363685608, 0.8588526248931885]\n"
     ]
    }
   ],
   "source": [
    "# 5 fold cross validation with GRU-based model\n",
    "import torch\n",
    "X = np.array(grouped_data.keys())\n",
    "kfold = KFold(n_splits=5, shuffle=True)\n",
    "train_losses = list()\n",
    "train_aucs = list()\n",
    "val_losses = list()\n",
    "val_aucs = list()\n",
    "train_eval = list()\n",
    "test_eval = list()\n",
    "for train, test in kfold.split(X):\n",
    "    users_train, users_test =  X[train], X[test]\n",
    "    n = len(users_test)//2\n",
    "    users_test, users_val = users_test[:n], users_test[n: ]\n",
    "    train_data_space = SPACE_DATASET(grouped_data[users_train], MAXLENGTH)\n",
    "    val_data_space = SPACE_DATASET(grouped_data[users_val], MAXLENGTH)\n",
    "    test_data_space = SPACE_DATASET(grouped_data[users_test], MAXLENGTH)\n",
    "    #construct training input\n",
    "    train_chapter=[]\n",
    "    train_sub_chapter=[]\n",
    "    train_question = []\n",
    "    train_features=[]\n",
    "    train_shifted_t = []\n",
    "    train_labels=[]\n",
    "    for i in range(len(users_train)):\n",
    "        user = train_data_space.__getitem__(i)\n",
    "        train_chapter.append(user[0])\n",
    "        train_sub_chapter.append(user[1]) \n",
    "        train_question.append(user[2])\n",
    "        train_features.append(user[3])\n",
    "        train_shifted_t.append(user[4])\n",
    "        train_labels.append(user[5])\n",
    "    train_chapter = np.array(train_chapter)\n",
    "    train_sub_chapter = np.array(train_sub_chapter)\n",
    "    train_question = np.array(train_question)\n",
    "    train_features = np.array(train_features)\n",
    "    train_shifted_t = np.array(train_shifted_t)\n",
    "    train_labels= np.array(train_labels)[..., np.newaxis]\n",
    "\n",
    "    #construct validation input\n",
    "    val_chapter=[]\n",
    "    val_sub_chapter=[]\n",
    "    val_question = []\n",
    "    val_features=[]\n",
    "    val_shifted_t = []\n",
    "    val_labels=[]\n",
    "    for i in range(len(users_val)):\n",
    "        user = val_data_space.__getitem__(i)\n",
    "        val_chapter.append(user[0])\n",
    "        val_sub_chapter.append(user[1]) \n",
    "        val_question.append(user[2])\n",
    "        val_features.append(user[3])\n",
    "        val_shifted_t.append(user[4])\n",
    "        val_labels.append(user[5])\n",
    "    val_chapter = np.array(val_chapter)\n",
    "    val_sub_chapter = np.array(val_sub_chapter)\n",
    "    val_features = np.array(val_features)\n",
    "    val_question = np.array(val_question)\n",
    "    val_shifted_t = np.array(val_shifted_t)\n",
    "    val_labels= np.array(val_labels)[..., np.newaxis]\n",
    "\n",
    "    # construct test input\n",
    "    test_chapter=[]\n",
    "    test_sub_chapter=[]\n",
    "    test_features=[]\n",
    "    test_question=[]\n",
    "    test_shifted_t = []\n",
    "    test_labels=[]\n",
    "    for i in range(len(users_test)):\n",
    "        user = test_data_space.__getitem__(i)\n",
    "        test_chapter.append(user[0])\n",
    "        test_sub_chapter.append(user[1]) \n",
    "        test_question.append(user[2])\n",
    "        test_features.append(user[3])\n",
    "        test_shifted_t.append(user[4])\n",
    "        test_labels.append(user[5])\n",
    "    test_chapter = np.array(test_chapter)\n",
    "    test_sub_chapter = np.array(test_sub_chapter)\n",
    "    test_features = np.array(test_features)\n",
    "    test_question = np.array(test_question)\n",
    "    test_shifted_t = np.array(test_shifted_t)\n",
    "    test_labels= np.array(test_labels)[..., np.newaxis]\n",
    "\n",
    "    # define loss function and evaluation metrics\n",
    "    bce = tf.keras.losses.BinaryCrossentropy(from_logits=True)\n",
    "    acc = tf.keras.metrics.Accuracy()\n",
    "    auc = tf.keras.metrics.AUC()\n",
    "\n",
    "    def masked_bce(y_true, y_pred):\n",
    "      flat_pred = y_pred\n",
    "      flat_ground_truth = y_true\n",
    "      label_mask = tf.math.not_equal(flat_ground_truth, -1)\n",
    "      return bce(flat_ground_truth, flat_pred, sample_weight=label_mask)\n",
    "\n",
    "    def masked_acc(y_true, y_pred):\n",
    "      flat_pred = y_pred\n",
    "      flat_ground_truth = y_true\n",
    "      flat_pred = (flat_pred >= 0.5)\n",
    "      label_mask = tf.math.not_equal(flat_ground_truth, -1)\n",
    "      return acc(flat_ground_truth, flat_pred, sample_weight=label_mask)\n",
    "\n",
    "    def masked_auc(y_true, y_pred):\n",
    "      flat_pred = y_pred\n",
    "      flat_ground_truth = y_true\n",
    "      label_mask = tf.math.not_equal(flat_ground_truth, -1)\n",
    "      return auc(flat_ground_truth, flat_pred, sample_weight=label_mask)\n",
    "\n",
    "    # input layer\n",
    "    input_chap = tf.keras.Input(shape=(MAXLENGTH))\n",
    "    input_sub_chap = tf.keras.Input(shape=(MAXLENGTH))\n",
    "    input_ques =  tf.keras.Input(shape=(MAXLENGTH))\n",
    "    input_shifted = tf.keras.Input(shape=(MAXLENGTH))\n",
    "    input_features = tf.keras.Input(shape=(MAXLENGTH, FEATURES_SIZE))\n",
    "\n",
    "    # embedding layer for categorical features\n",
    "    embedding_chap = Embedding(input_dim = CHAPTER_SIZE, output_dim = EMBEDDING_DIM)(input_chap)\n",
    "    embedding_sub_chap = Embedding(input_dim = SUB_CHAPTER_SIZE, output_dim = EMBEDDING_DIM)(input_sub_chap) \n",
    "    embedding_ques = Embedding(input_dim = QUESTION_SIZE, output_dim = EMBEDDING_DIM)(input_ques)       \n",
    "    embedding_shifted = Embedding(input_dim = 3, output_dim = EMBEDDING_DIM)(input_shifted)\n",
    "    # dense layer for numeric features\n",
    "    dense_features = Dense(EMBEDDING_DIM,input_shape = (None, MAXLENGTH))(input_features)\n",
    "\n",
    "    # definr gru layers\n",
    "    gru_chap = GRU(GRU_NEURON, input_shape = (None, EMBEDDING_DIM),return_sequences = True)(embedding_chap)\n",
    "    gru_sub_chap = GRU(GRU_NEURON, input_shape = (None, EMBEDDING_DIM),return_sequences = True)(embedding_sub_chap)\n",
    "    gru_ques = GRU(GRU_NEURON, input_shape = (None, EMBEDDING_DIM),return_sequences = True)(embedding_ques)\n",
    "    gru_shif = GRU(GRU_NEURON, input_shape = (None, EMBEDDING_DIM),return_sequences = True)(embedding_shifted)\n",
    "    gru_features = GRU(GRU_NEURON, input_shape = (None, EMBEDDING_DIM),return_sequences = True)(dense_features)\n",
    "\n",
    "    gru_output = tf.concat([gru_chap, gru_sub_chap, gru_ques, gru_shif, gru_features], axis = 2)\n",
    "\n",
    "    dense1 = Dense(256, input_shape = (None, 5*EMBEDDING_DIM), activation='relu')(gru_output)\n",
    "    dropout1 = Dropout(0.1)(dense1)\n",
    "    dense2 = Dense(64, input_shape = (None, 256), activation='relu')(dropout1)\n",
    "    dropout2 = Dropout(0.1)(dense2)\n",
    "    pred = Dense(1, input_shape = (None, 64), activation='sigmoid')(dropout2)\n",
    "\n",
    "    model = tf.keras.Model(\n",
    "        inputs=[input_chap, input_sub_chap,input_ques, input_shifted, input_features],\n",
    "        outputs=pred,\n",
    "        name='gru_model'\n",
    "    )\n",
    "\n",
    "    callback = tf.keras.callbacks.EarlyStopping(monitor='val_loss', patience=10)\n",
    "    opt_adam = Adam(learning_rate = 0.005)\n",
    "    model.compile(\n",
    "        optimizer=opt_adam,\n",
    "        loss= masked_bce,\n",
    "        metrics = [masked_acc, masked_auc]\n",
    "    )\n",
    "\n",
    "    history = model.fit(\n",
    "      [train_chapter, train_sub_chapter, train_question, train_shifted_t, train_features],\n",
    "      train_labels,\n",
    "      batch_size = 64,\n",
    "      epochs = 100,\n",
    "      validation_data=([val_chapter, val_sub_chapter, val_question, val_shifted_t, val_features], val_labels),\n",
    "      callbacks=[callback]\n",
    "    )\n",
    "    val_losses.append(list(history.history['val_loss']))\n",
    "    train_losses.append(list(history.history['loss']))\n",
    "    val_aucs.append(list(history.history['val_masked_auc']))\n",
    "    train_aucs.append(list(history.history['masked_auc']))\n",
    "    train_score = model.evaluate([train_chapter, train_sub_chapter, train_question, train_shifted_t, train_features], train_labels)\n",
    "    train_eval.append(train_score)\n",
    "    test_score = model.evaluate([test_chapter, test_sub_chapter, test_question, test_shifted_t, test_features], test_labels)\n",
    "    test_eval.append(test_score)\n",
    "    print(\"Test: \", test_score)\n",
    "    def reset_weights(model):\n",
    "      for layer in model.layers: \n",
    "        if isinstance(layer, tf.keras.Model):\n",
    "          reset_weights(layer)\n",
    "          continue\n",
    "        for k, initializer in layer.__dict__.items():\n",
    "          if \"initializer\" not in k:\n",
    "            continue\n",
    "          # find the corresponding variable\n",
    "          var = getattr(layer, k.replace(\"_initializer\", \"\"))\n",
    "          var.assign(initializer(var.shape, var.dtype))\n",
    "    reset_weights(model)"
   ]
  },
  {
   "cell_type": "code",
   "execution_count": 32,
   "metadata": {
    "execution": {
     "iopub.execute_input": "2021-08-08T14:12:11.159111Z",
     "iopub.status.busy": "2021-08-08T14:12:11.158086Z",
     "iopub.status.idle": "2021-08-08T14:12:11.162431Z",
     "shell.execute_reply": "2021-08-08T14:12:11.161944Z",
     "shell.execute_reply.started": "2021-07-31T12:12:25.783012Z"
    },
    "id": "QsVmumHMz3lx",
    "outputId": "4ff1e2fa-6abb-458e-c729-495b456f53e5",
    "papermill": {
     "duration": 1.039805,
     "end_time": "2021-08-08T14:12:11.162589",
     "exception": false,
     "start_time": "2021-08-08T14:12:10.122784",
     "status": "completed"
    },
    "tags": []
   },
   "outputs": [
    {
     "name": "stdout",
     "output_type": "stream",
     "text": [
      "test avg loss:  0.4022462069988251 +/- 0.014903682761215818\n",
      "test avg acc:  0.7974690675735474 +/- 0.001753924410144318\n",
      "test avg auc:  0.8616695284843445 +/- 0.001751330482057516\n"
     ]
    }
   ],
   "source": [
    "t_eval = np.array(test_eval)\n",
    "print(\"test avg loss: \", np.mean(t_eval[:, 0]), \"+/-\" ,np.std(t_eval[:, 0]))\n",
    "print(\"test avg acc: \", np.mean(t_eval[:, 1]),  \"+/-\" ,np.std(t_eval[:, 1]))\n",
    "print(\"test avg auc: \", np.mean(t_eval[:, 2]), \"+/-\" ,np.std(t_eval[:, 2]))"
   ]
  },
  {
   "cell_type": "code",
   "execution_count": 33,
   "metadata": {
    "execution": {
     "iopub.execute_input": "2021-08-08T14:12:13.122116Z",
     "iopub.status.busy": "2021-08-08T14:12:13.121080Z",
     "iopub.status.idle": "2021-08-08T14:12:13.125763Z",
     "shell.execute_reply": "2021-08-08T14:12:13.125104Z",
     "shell.execute_reply.started": "2021-07-31T12:12:25.794728Z"
    },
    "id": "b9MM_CXWz5K6",
    "outputId": "4cf88e1d-3a74-4e7d-f92c-d01522e91757",
    "papermill": {
     "duration": 0.990206,
     "end_time": "2021-08-08T14:12:13.125965",
     "exception": false,
     "start_time": "2021-08-08T14:12:12.135759",
     "status": "completed"
    },
    "tags": []
   },
   "outputs": [
    {
     "name": "stdout",
     "output_type": "stream",
     "text": [
      "train avg loss:  0.3493302285671234 +/- 0.0052184350397643025\n",
      "train avg acc:  0.7972286105155945 +/- 0.0017787569528909207\n",
      "train avg auc:  0.8612268090248107 +/- 0.001771493953235055\n"
     ]
    }
   ],
   "source": [
    "t_eval = np.array(train_eval)\n",
    "print(\"train avg loss: \", np.mean(t_eval[:, 0]), \"+/-\" ,np.std(t_eval[:, 0]))\n",
    "print(\"train avg acc: \", np.mean(t_eval[:, 1]),  \"+/-\" ,np.std(t_eval[:, 1]))\n",
    "print(\"train avg auc: \", np.mean(t_eval[:, 2]), \"+/-\" ,np.std(t_eval[:, 2]))"
   ]
  }
 ],
 "metadata": {
  "kernelspec": {
   "display_name": "Python 3",
   "language": "python",
   "name": "python3"
  },
  "language_info": {
   "codemirror_mode": {
    "name": "ipython",
    "version": 3
   },
   "file_extension": ".py",
   "mimetype": "text/x-python",
   "name": "python",
   "nbconvert_exporter": "python",
   "pygments_lexer": "ipython3",
   "version": "3.8.5"
  },
  "papermill": {
   "default_parameters": {},
   "duration": 1937.005366,
   "end_time": "2021-08-08T14:12:17.107000",
   "environment_variables": {},
   "exception": null,
   "input_path": "__notebook__.ipynb",
   "output_path": "__notebook__.ipynb",
   "parameters": {},
   "start_time": "2021-08-08T13:40:00.101634",
   "version": "2.3.3"
  }
 },
 "nbformat": 4,
 "nbformat_minor": 5
}
