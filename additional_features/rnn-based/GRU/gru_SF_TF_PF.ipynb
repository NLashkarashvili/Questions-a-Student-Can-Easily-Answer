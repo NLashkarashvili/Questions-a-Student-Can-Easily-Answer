{
 "cells": [
  {
   "cell_type": "code",
   "execution_count": 1,
   "metadata": {
    "execution": {
     "iopub.execute_input": "2021-08-08T14:15:44.801032Z",
     "iopub.status.busy": "2021-08-08T14:15:44.800336Z",
     "iopub.status.idle": "2021-08-08T14:15:50.997193Z",
     "shell.execute_reply": "2021-08-08T14:15:50.996374Z",
     "shell.execute_reply.started": "2021-07-31T12:06:59.141322Z"
    },
    "id": "farifxiKU1aB",
    "papermill": {
     "duration": 6.240095,
     "end_time": "2021-08-08T14:15:50.997370",
     "exception": false,
     "start_time": "2021-08-08T14:15:44.757275",
     "status": "completed"
    },
    "tags": []
   },
   "outputs": [],
   "source": [
    "import numpy as np\n",
    "import pandas as pd\n",
    "import warnings\n",
    "import gc\n",
    "import tensorflow as tf\n",
    "from tensorflow import keras\n",
    "\n",
    "import random\n",
    "from random import choice\n",
    "from tensorflow.keras.optimizers import Adam\n",
    "from tensorflow.keras.models import Sequential \n",
    "from tensorflow.keras.layers import Dense, GRU, Concatenate, Embedding, Flatten, Activation, Dropout\n",
    "from sklearn.model_selection import KFold\n",
    "from tensorflow.python.client import device_lib\n",
    "warnings.filterwarnings('ignore')\n",
    "import random"
   ]
  },
  {
   "cell_type": "code",
   "execution_count": 2,
   "metadata": {
    "execution": {
     "iopub.execute_input": "2021-08-08T14:15:51.060384Z",
     "iopub.status.busy": "2021-08-08T14:15:51.059696Z",
     "iopub.status.idle": "2021-08-08T14:15:51.061685Z",
     "shell.execute_reply": "2021-08-08T14:15:51.062205Z",
     "shell.execute_reply.started": "2021-07-31T12:07:01.064697Z"
    },
    "id": "QOson70GPOXb",
    "papermill": {
     "duration": 0.035686,
     "end_time": "2021-08-08T14:15:51.062369",
     "exception": false,
     "start_time": "2021-08-08T14:15:51.026683",
     "status": "completed"
    },
    "tags": []
   },
   "outputs": [],
   "source": [
    "import gc"
   ]
  },
  {
   "cell_type": "markdown",
   "metadata": {
    "id": "BQsVybBH3VPw",
    "papermill": {
     "duration": 0.028497,
     "end_time": "2021-08-08T14:15:51.119605",
     "exception": false,
     "start_time": "2021-08-08T14:15:51.091108",
     "status": "completed"
    },
    "tags": []
   },
   "source": [
    "## Data Preprocessing"
   ]
  },
  {
   "cell_type": "code",
   "execution_count": 3,
   "metadata": {
    "execution": {
     "iopub.execute_input": "2021-08-08T14:15:51.179773Z",
     "iopub.status.busy": "2021-08-08T14:15:51.179076Z",
     "iopub.status.idle": "2021-08-08T14:15:57.581718Z",
     "shell.execute_reply": "2021-08-08T14:15:57.582216Z",
     "shell.execute_reply.started": "2021-07-31T12:07:01.071844Z"
    },
    "id": "rwtTusGxrmAE",
    "outputId": "1430f3cf-038b-485e-b5c4-c1686b1f34fd",
    "papermill": {
     "duration": 6.434114,
     "end_time": "2021-08-08T14:15:57.582390",
     "exception": false,
     "start_time": "2021-08-08T14:15:51.148276",
     "status": "completed"
    },
    "tags": []
   },
   "outputs": [
    {
     "data": {
      "text/html": [
       "<div>\n",
       "<style scoped>\n",
       "    .dataframe tbody tr th:only-of-type {\n",
       "        vertical-align: middle;\n",
       "    }\n",
       "\n",
       "    .dataframe tbody tr th {\n",
       "        vertical-align: top;\n",
       "    }\n",
       "\n",
       "    .dataframe thead th {\n",
       "        text-align: right;\n",
       "    }\n",
       "</style>\n",
       "<table border=\"1\" class=\"dataframe\">\n",
       "  <thead>\n",
       "    <tr style=\"text-align: right;\">\n",
       "      <th></th>\n",
       "      <th>Unnamed: 0</th>\n",
       "      <th>chapter_label</th>\n",
       "      <th>sub_chapter_label</th>\n",
       "      <th>question_name</th>\n",
       "      <th>user_id.x</th>\n",
       "      <th>term</th>\n",
       "      <th>STDNT_SEX_CD</th>\n",
       "      <th>NonNativeEnglish</th>\n",
       "      <th>White</th>\n",
       "      <th>Asian</th>\n",
       "      <th>...</th>\n",
       "      <th>classGraded</th>\n",
       "      <th>classHonors</th>\n",
       "      <th>Pass_Fail</th>\n",
       "      <th>parentsGraduateEdu</th>\n",
       "      <th>minorityGroup</th>\n",
       "      <th>q</th>\n",
       "      <th>day's_available_flashcards</th>\n",
       "      <th>start_practice</th>\n",
       "      <th>end_practice</th>\n",
       "      <th>days_offset</th>\n",
       "    </tr>\n",
       "  </thead>\n",
       "  <tbody>\n",
       "    <tr>\n",
       "      <th>0</th>\n",
       "      <td>1</td>\n",
       "      <td>Sort</td>\n",
       "      <td>intro-SortingwithSortandSorted</td>\n",
       "      <td>ee_sort_04</td>\n",
       "      <td>148</td>\n",
       "      <td>WN 2018</td>\n",
       "      <td>1</td>\n",
       "      <td>0</td>\n",
       "      <td>1</td>\n",
       "      <td>0</td>\n",
       "      <td>...</td>\n",
       "      <td>1</td>\n",
       "      <td>0</td>\n",
       "      <td>0</td>\n",
       "      <td>0</td>\n",
       "      <td>0</td>\n",
       "      <td>0</td>\n",
       "      <td>18</td>\n",
       "      <td>2018-03-04 20:00:19</td>\n",
       "      <td>2018-03-04 20:00:35</td>\n",
       "      <td>45</td>\n",
       "    </tr>\n",
       "    <tr>\n",
       "      <th>1</th>\n",
       "      <td>2</td>\n",
       "      <td>Functions</td>\n",
       "      <td>Returningavaluefromafunction</td>\n",
       "      <td>test_questionfunctions_2_3</td>\n",
       "      <td>148</td>\n",
       "      <td>WN 2018</td>\n",
       "      <td>1</td>\n",
       "      <td>0</td>\n",
       "      <td>1</td>\n",
       "      <td>0</td>\n",
       "      <td>...</td>\n",
       "      <td>1</td>\n",
       "      <td>0</td>\n",
       "      <td>0</td>\n",
       "      <td>0</td>\n",
       "      <td>0</td>\n",
       "      <td>4</td>\n",
       "      <td>16</td>\n",
       "      <td>2018-02-10 11:57:55</td>\n",
       "      <td>2018-02-10 11:58:35</td>\n",
       "      <td>23</td>\n",
       "    </tr>\n",
       "    <tr>\n",
       "      <th>2</th>\n",
       "      <td>3</td>\n",
       "      <td>RESTAPIs</td>\n",
       "      <td>functionswithrestapis</td>\n",
       "      <td>test_question_functions_rest_apis_1</td>\n",
       "      <td>148</td>\n",
       "      <td>WN 2018</td>\n",
       "      <td>1</td>\n",
       "      <td>0</td>\n",
       "      <td>1</td>\n",
       "      <td>0</td>\n",
       "      <td>...</td>\n",
       "      <td>1</td>\n",
       "      <td>0</td>\n",
       "      <td>0</td>\n",
       "      <td>0</td>\n",
       "      <td>0</td>\n",
       "      <td>1</td>\n",
       "      <td>2</td>\n",
       "      <td>2018-03-12 17:03:07</td>\n",
       "      <td>2018-03-12 17:04:28</td>\n",
       "      <td>53</td>\n",
       "    </tr>\n",
       "    <tr>\n",
       "      <th>3</th>\n",
       "      <td>4</td>\n",
       "      <td>SimplePythonData</td>\n",
       "      <td>FunctionCalls</td>\n",
       "      <td>exercise_functionCalls_1</td>\n",
       "      <td>148</td>\n",
       "      <td>WN 2018</td>\n",
       "      <td>1</td>\n",
       "      <td>0</td>\n",
       "      <td>1</td>\n",
       "      <td>0</td>\n",
       "      <td>...</td>\n",
       "      <td>1</td>\n",
       "      <td>0</td>\n",
       "      <td>0</td>\n",
       "      <td>0</td>\n",
       "      <td>0</td>\n",
       "      <td>0</td>\n",
       "      <td>10</td>\n",
       "      <td>2018-01-30 14:15:49</td>\n",
       "      <td>2018-01-30 14:15:58</td>\n",
       "      <td>12</td>\n",
       "    </tr>\n",
       "    <tr>\n",
       "      <th>4</th>\n",
       "      <td>5</td>\n",
       "      <td>DictionaryAccumulation</td>\n",
       "      <td>AccumulatingaMaximumValue</td>\n",
       "      <td>ps_04_07</td>\n",
       "      <td>148</td>\n",
       "      <td>WN 2018</td>\n",
       "      <td>1</td>\n",
       "      <td>0</td>\n",
       "      <td>1</td>\n",
       "      <td>0</td>\n",
       "      <td>...</td>\n",
       "      <td>1</td>\n",
       "      <td>0</td>\n",
       "      <td>0</td>\n",
       "      <td>0</td>\n",
       "      <td>0</td>\n",
       "      <td>0</td>\n",
       "      <td>23</td>\n",
       "      <td>2018-03-03 14:04:17</td>\n",
       "      <td>2018-03-03 14:04:25</td>\n",
       "      <td>44</td>\n",
       "    </tr>\n",
       "  </tbody>\n",
       "</table>\n",
       "<p>5 rows × 48 columns</p>\n",
       "</div>"
      ],
      "text/plain": [
       "   Unnamed: 0           chapter_label               sub_chapter_label  \\\n",
       "0           1                    Sort  intro-SortingwithSortandSorted   \n",
       "1           2               Functions    Returningavaluefromafunction   \n",
       "2           3                RESTAPIs           functionswithrestapis   \n",
       "3           4        SimplePythonData                   FunctionCalls   \n",
       "4           5  DictionaryAccumulation       AccumulatingaMaximumValue   \n",
       "\n",
       "                         question_name  user_id.x     term  STDNT_SEX_CD  \\\n",
       "0                           ee_sort_04        148  WN 2018             1   \n",
       "1           test_questionfunctions_2_3        148  WN 2018             1   \n",
       "2  test_question_functions_rest_apis_1        148  WN 2018             1   \n",
       "3             exercise_functionCalls_1        148  WN 2018             1   \n",
       "4                             ps_04_07        148  WN 2018             1   \n",
       "\n",
       "   NonNativeEnglish  White  Asian  ...  classGraded  classHonors  Pass_Fail  \\\n",
       "0                 0      1      0  ...            1            0          0   \n",
       "1                 0      1      0  ...            1            0          0   \n",
       "2                 0      1      0  ...            1            0          0   \n",
       "3                 0      1      0  ...            1            0          0   \n",
       "4                 0      1      0  ...            1            0          0   \n",
       "\n",
       "   parentsGraduateEdu  minorityGroup  q  day's_available_flashcards  \\\n",
       "0                   0              0  0                          18   \n",
       "1                   0              0  4                          16   \n",
       "2                   0              0  1                           2   \n",
       "3                   0              0  0                          10   \n",
       "4                   0              0  0                          23   \n",
       "\n",
       "        start_practice         end_practice  days_offset  \n",
       "0  2018-03-04 20:00:19  2018-03-04 20:00:35           45  \n",
       "1  2018-02-10 11:57:55  2018-02-10 11:58:35           23  \n",
       "2  2018-03-12 17:03:07  2018-03-12 17:04:28           53  \n",
       "3  2018-01-30 14:15:49  2018-01-30 14:15:58           12  \n",
       "4  2018-03-03 14:04:17  2018-03-03 14:04:25           44  \n",
       "\n",
       "[5 rows x 48 columns]"
      ]
     },
     "execution_count": 3,
     "metadata": {},
     "output_type": "execute_result"
    }
   ],
   "source": [
    "# load the data\n",
    "import pandas as pd\n",
    "dataframe = pd.read_csv('../input/practice-log-demographics/Practice_Log_Demographics (1).csv', low_memory=False)\n",
    "dataframe.head()"
   ]
  },
  {
   "cell_type": "code",
   "execution_count": 4,
   "metadata": {
    "execution": {
     "iopub.execute_input": "2021-08-08T14:15:57.709282Z",
     "iopub.status.busy": "2021-08-08T14:15:57.708497Z",
     "iopub.status.idle": "2021-08-08T14:15:59.490628Z",
     "shell.execute_reply": "2021-08-08T14:15:59.489943Z",
     "shell.execute_reply.started": "2021-07-31T12:07:05.649784Z"
    },
    "id": "OCbHnEp_Vir0",
    "papermill": {
     "duration": 1.878584,
     "end_time": "2021-08-08T14:15:59.490787",
     "exception": false,
     "start_time": "2021-08-08T14:15:57.612203",
     "status": "completed"
    },
    "tags": []
   },
   "outputs": [],
   "source": [
    "#sort data based on timestamp\n",
    "dataframe = dataframe.sort_values(by=['start_practice']).reset_index(drop=True)"
   ]
  },
  {
   "cell_type": "code",
   "execution_count": 5,
   "metadata": {
    "execution": {
     "iopub.execute_input": "2021-08-08T14:15:59.554645Z",
     "iopub.status.busy": "2021-08-08T14:15:59.554021Z",
     "iopub.status.idle": "2021-08-08T14:15:59.560465Z",
     "shell.execute_reply": "2021-08-08T14:15:59.560973Z",
     "shell.execute_reply.started": "2021-07-31T12:07:07.101339Z"
    },
    "id": "0RvF7BvEr98o",
    "papermill": {
     "duration": 0.039565,
     "end_time": "2021-08-08T14:15:59.561141",
     "exception": false,
     "start_time": "2021-08-08T14:15:59.521576",
     "status": "completed"
    },
    "tags": []
   },
   "outputs": [],
   "source": [
    "FEATURES = ['chapter_label', 'sub_chapter_label','question_name','user_id','term',\n",
    "            'STDNT_SEX_CD', \n",
    "            'NonNativeEnglish',\n",
    "            'White',\n",
    "            'Asian',\n",
    "            'WhiteOrAsian',\n",
    "            'Hispanic',\n",
    "            'AfricanAmerican',\n",
    "            'OtherEthnicities',\n",
    "            'NonWhiteOrAsian',\n",
    "            'STDNT_CTZN_STAT_CD', 'international', \n",
    "            'gradingType',\n",
    "            'birthYear',\n",
    "            'exclClassCumGPA',\n",
    "            'Freshman',\n",
    "            'Junior',\n",
    "            'Sophomore',\n",
    "            'Senior',\n",
    "            'termCreditsGPA',\n",
    "            'termCreditsNoGPA',\n",
    "            'athlete_1',\n",
    "            'honorsPro',\n",
    "            'LSA', 'programBusiness', 'programEngineering', \n",
    "            'programInformation', 'programOther',\n",
    "            'HSCalculusTaken', \n",
    "            'highSchoolGPA', \n",
    "            'majorsCount', 'minorsCount',\n",
    "            'PREV_TERM_CUM_GPA',\n",
    "            'classGraded', 'classHonors', \n",
    "            'Pass_Fail', \n",
    "            'parentsGraduateEdu',  'minorityGroup', \n",
    "            'q',\n",
    "            'available_flashcards', \n",
    "            'start_practice', \n",
    "            'end_practice',\n",
    "            'days_offset']"
   ]
  },
  {
   "cell_type": "code",
   "execution_count": 6,
   "metadata": {
    "execution": {
     "iopub.execute_input": "2021-08-08T14:15:59.623034Z",
     "iopub.status.busy": "2021-08-08T14:15:59.622333Z",
     "iopub.status.idle": "2021-08-08T14:16:00.154212Z",
     "shell.execute_reply": "2021-08-08T14:16:00.154695Z",
     "shell.execute_reply.started": "2021-07-31T12:07:07.109369Z"
    },
    "id": "Mn341X7lSztl",
    "papermill": {
     "duration": 0.56437,
     "end_time": "2021-08-08T14:16:00.154911",
     "exception": false,
     "start_time": "2021-08-08T14:15:59.590541",
     "status": "completed"
    },
    "tags": []
   },
   "outputs": [],
   "source": [
    "dataframe['available_flashcards'] = dataframe[\"day's_available_flashcards\"][:]\n",
    "dataframe = dataframe.drop([\"day's_available_flashcards\"], axis=1)\n",
    "dataframe['user_id'] = dataframe[\"user_id.x\"][:]\n",
    "dataframe = dataframe.drop([\"user_id.x\"], axis=1)"
   ]
  },
  {
   "cell_type": "code",
   "execution_count": 7,
   "metadata": {
    "execution": {
     "iopub.execute_input": "2021-08-08T14:16:00.216960Z",
     "iopub.status.busy": "2021-08-08T14:16:00.216306Z",
     "iopub.status.idle": "2021-08-08T14:16:00.385570Z",
     "shell.execute_reply": "2021-08-08T14:16:00.386049Z",
     "shell.execute_reply.started": "2021-07-31T12:07:07.606049Z"
    },
    "id": "-_BRggOjbBjN",
    "outputId": "42bff7db-08dd-48dc-a73a-d048508053b7",
    "papermill": {
     "duration": 0.20173,
     "end_time": "2021-08-08T14:16:00.386222",
     "exception": false,
     "start_time": "2021-08-08T14:16:00.184492",
     "status": "completed"
    },
    "tags": []
   },
   "outputs": [
    {
     "data": {
      "text/plain": [
       "102"
      ]
     },
     "execution_count": 7,
     "metadata": {},
     "output_type": "execute_result"
    }
   ],
   "source": [
    "gc.collect()"
   ]
  },
  {
   "cell_type": "code",
   "execution_count": 8,
   "metadata": {
    "execution": {
     "iopub.execute_input": "2021-08-08T14:16:00.453450Z",
     "iopub.status.busy": "2021-08-08T14:16:00.451763Z",
     "iopub.status.idle": "2021-08-08T14:16:00.748537Z",
     "shell.execute_reply": "2021-08-08T14:16:00.747683Z",
     "shell.execute_reply.started": "2021-07-31T12:07:07.764114Z"
    },
    "id": "lXM7MlonVeRL",
    "outputId": "d29ccec0-522f-4e3c-e0b2-39b2e1eaef74",
    "papermill": {
     "duration": 0.332667,
     "end_time": "2021-08-08T14:16:00.748702",
     "exception": false,
     "start_time": "2021-08-08T14:16:00.416035",
     "status": "completed"
    },
    "tags": []
   },
   "outputs": [
    {
     "data": {
      "text/plain": [
       "20"
      ]
     },
     "execution_count": 8,
     "metadata": {},
     "output_type": "execute_result"
    }
   ],
   "source": [
    "dataframe = dataframe[FEATURES]\n",
    "gc.collect()"
   ]
  },
  {
   "cell_type": "code",
   "execution_count": 9,
   "metadata": {
    "execution": {
     "iopub.execute_input": "2021-08-08T14:16:01.332000Z",
     "iopub.status.busy": "2021-08-08T14:16:01.330214Z",
     "iopub.status.idle": "2021-08-08T14:16:01.474350Z",
     "shell.execute_reply": "2021-08-08T14:16:01.473660Z",
     "shell.execute_reply.started": "2021-07-31T12:07:08.046413Z"
    },
    "id": "2WAFv5z3A6fK",
    "outputId": "e27abf84-ec3c-4b88-e1fb-927d94b41898",
    "papermill": {
     "duration": 0.693797,
     "end_time": "2021-08-08T14:16:01.474490",
     "exception": false,
     "start_time": "2021-08-08T14:16:00.780693",
     "status": "completed"
    },
    "tags": []
   },
   "outputs": [],
   "source": [
    "dataframe = dataframe.fillna(0)"
   ]
  },
  {
   "cell_type": "code",
   "execution_count": 10,
   "metadata": {
    "execution": {
     "iopub.execute_input": "2021-08-08T14:16:01.554351Z",
     "iopub.status.busy": "2021-08-08T14:16:01.550261Z",
     "iopub.status.idle": "2021-08-08T14:16:03.009098Z",
     "shell.execute_reply": "2021-08-08T14:16:03.008421Z",
     "shell.execute_reply.started": "2021-07-31T12:07:08.626441Z"
    },
    "id": "qRKqF_0IXZgj",
    "papermill": {
     "duration": 1.504638,
     "end_time": "2021-08-08T14:16:03.009243",
     "exception": false,
     "start_time": "2021-08-08T14:16:01.504605",
     "status": "completed"
    },
    "tags": []
   },
   "outputs": [],
   "source": [
    "#label encode term, chapter_label, question_name, sub_chapter_label columns\n",
    "dataframe['term'] = dataframe['term'].astype('category')\n",
    "dataframe['user_id'] = dataframe['user_id'].astype(int)\n",
    "dataframe['user_id'] = dataframe['user_id'].astype(str)\n",
    "dataframe['user_id'] = dataframe['term'].str.cat(dataframe['user_id'], sep=':')\n",
    "dataframe['user_id'] = dataframe['user_id'].astype('category')\n",
    "dataframe['chapter_label'] = dataframe['chapter_label'].astype('category')\n",
    "dataframe['sub_chapter_label'] = dataframe['sub_chapter_label'].astype('category')\n",
    "dataframe['question_name'] = dataframe['question_name'].astype('category')\n"
   ]
  },
  {
   "cell_type": "code",
   "execution_count": 11,
   "metadata": {
    "execution": {
     "iopub.execute_input": "2021-08-08T14:16:03.076829Z",
     "iopub.status.busy": "2021-08-08T14:16:03.076113Z",
     "iopub.status.idle": "2021-08-08T14:16:03.600417Z",
     "shell.execute_reply": "2021-08-08T14:16:03.599831Z",
     "shell.execute_reply.started": "2021-07-31T12:07:09.884593Z"
    },
    "id": "eVl_067GWkDe",
    "papermill": {
     "duration": 0.560992,
     "end_time": "2021-08-08T14:16:03.600557",
     "exception": false,
     "start_time": "2021-08-08T14:16:03.039565",
     "status": "completed"
    },
    "tags": []
   },
   "outputs": [],
   "source": [
    "#calculate time_lag and prev_time_elapsed\n",
    "dataframe['prev_time_elapsed'] = None\n",
    "dataframe['time_lag'] = None\n",
    "dataframe['time_lag'] = dataframe['time_lag'].astype(np.float)\n",
    "dataframe['prev_time_elapsed'] = dataframe['prev_time_elapsed'].astype(np.float)\n",
    "dataframe.start_practice = pd.to_datetime(dataframe.start_practice, format='%Y-%m-%d %H:%M:%S')\n",
    "dataframe.end_practice = pd.to_datetime(dataframe.end_practice, format='%Y-%m-%d %H:%M:%S')"
   ]
  },
  {
   "cell_type": "code",
   "execution_count": 12,
   "metadata": {
    "execution": {
     "iopub.execute_input": "2021-08-08T14:16:03.668823Z",
     "iopub.status.busy": "2021-08-08T14:16:03.667399Z",
     "iopub.status.idle": "2021-08-08T14:16:03.707671Z",
     "shell.execute_reply": "2021-08-08T14:16:03.706955Z",
     "shell.execute_reply.started": "2021-07-31T12:07:10.365002Z"
    },
    "papermill": {
     "duration": 0.076596,
     "end_time": "2021-08-08T14:16:03.707834",
     "exception": false,
     "start_time": "2021-08-08T14:16:03.631238",
     "status": "completed"
    },
    "tags": []
   },
   "outputs": [],
   "source": [
    "dataframe['dif'] = dataframe.end_practice - dataframe.start_practice\n",
    "dataframe['dif'] = dataframe['dif'] /np.timedelta64(1, 's')\n",
    "dataframe['answer_correct'] = np.where((dataframe['q']==5) & (dataframe['dif'] <= 60), 1, 0)"
   ]
  },
  {
   "cell_type": "code",
   "execution_count": 13,
   "metadata": {
    "execution": {
     "iopub.execute_input": "2021-08-08T14:16:03.772549Z",
     "iopub.status.busy": "2021-08-08T14:16:03.771889Z",
     "iopub.status.idle": "2021-08-08T14:22:08.280278Z",
     "shell.execute_reply": "2021-08-08T14:22:08.278560Z",
     "shell.execute_reply.started": "2021-07-31T12:07:10.396034Z"
    },
    "id": "Xrkcn9VhWETm",
    "outputId": "fd73f3de-5f56-42a8-9539-3f3b79a5a6e2",
    "papermill": {
     "duration": 364.542151,
     "end_time": "2021-08-08T14:22:08.280487",
     "exception": false,
     "start_time": "2021-08-08T14:16:03.738336",
     "status": "completed"
    },
    "tags": []
   },
   "outputs": [
    {
     "name": "stderr",
     "output_type": "stream",
     "text": [
      "100%|██████████| 1110/1110 [06:04<00:00,  3.05it/s]\n"
     ]
    }
   ],
   "source": [
    "unique_chapts = dataframe['chapter_label'].unique()\n",
    "from tqdm import tqdm\n",
    "cnt = 0\n",
    "for user in tqdm(dataframe['user_id'].unique()):\n",
    "        for chapter in unique_chapts:\n",
    "            tmp_user = dataframe[(dataframe['user_id']==user) & (dataframe['chapter_label']==chapter)]\n",
    "            #if user doesn't answer any question from the chapter\n",
    "            if len(tmp_user) < 1:\n",
    "                continue\n",
    "            #calculate average elapsed time before the current question\n",
    "            #from its corresponding chapter\n",
    "            tmp_time_elapsed = tmp_user.end_practice - tmp_user.start_practice\n",
    "            tmp_time_elapsed = tmp_time_elapsed / np.timedelta64(1, 's')\n",
    "            tmp_time_elapsed = np.insert(np.array(tmp_time_elapsed[:-1]), 0, 0., axis=0)\n",
    "            tmp_time_elapsed = np.cumsum(tmp_time_elapsed)\n",
    "            indices = tmp_user.index\n",
    "            start_row = indices[0]\n",
    "            dataframe['time_lag'].iloc[start_row] = 0\n",
    "            for_mean = np.arange(len(tmp_user))\n",
    "            for_mean[0] = 1\n",
    "            time_substrahend = tmp_user.start_practice.iloc[:-1]\n",
    "            time_substrahend = time_substrahend.apply(lambda a: a.timestamp())\n",
    "            time_substrahend = np.array(time_substrahend)\n",
    "            \n",
    "            time_minuend = tmp_user.start_practice.iloc[1:]\n",
    "            time_minuend = time_minuend.apply(lambda a: a.timestamp())\n",
    "            time_minuend = np.array(time_minuend)\n",
    "\n",
    "            dataframe['prev_time_elapsed'].iloc[indices] = tmp_time_elapsed/for_mean\n",
    "            #calculate difference between current and last interaction\n",
    "            #from the same chapter\n",
    "            dataframe['time_lag'].iloc[indices[1:]] = time_minuend - time_substrahend\n"
   ]
  },
  {
   "cell_type": "code",
   "execution_count": 14,
   "metadata": {
    "execution": {
     "iopub.execute_input": "2021-08-08T14:22:09.064910Z",
     "iopub.status.busy": "2021-08-08T14:22:09.064142Z",
     "iopub.status.idle": "2021-08-08T14:22:09.102335Z",
     "shell.execute_reply": "2021-08-08T14:22:09.102893Z",
     "shell.execute_reply.started": "2021-07-31T12:07:30.030169Z"
    },
    "id": "8t8yZ0XvWwzz",
    "papermill": {
     "duration": 0.45564,
     "end_time": "2021-08-08T14:22:09.103075",
     "exception": false,
     "start_time": "2021-08-08T14:22:08.647435",
     "status": "completed"
    },
    "tags": []
   },
   "outputs": [],
   "source": [
    "#drop column end_practice\n",
    "dataframe.drop(columns=['end_practice'], inplace=True)"
   ]
  },
  {
   "cell_type": "code",
   "execution_count": 15,
   "metadata": {
    "execution": {
     "iopub.execute_input": "2021-08-08T14:22:09.828837Z",
     "iopub.status.busy": "2021-08-08T14:22:09.828165Z",
     "iopub.status.idle": "2021-08-08T14:22:10.300465Z",
     "shell.execute_reply": "2021-08-08T14:22:10.299938Z",
     "shell.execute_reply.started": "2021-07-31T12:07:30.106507Z"
    },
    "id": "E42raRIrYYXz",
    "papermill": {
     "duration": 0.836222,
     "end_time": "2021-08-08T14:22:10.300608",
     "exception": false,
     "start_time": "2021-08-08T14:22:09.464386",
     "status": "completed"
    },
    "tags": []
   },
   "outputs": [],
   "source": [
    "# calculate the age feature\n",
    "dataframe['term_value'] = [int(ele[3:]) for ele in dataframe['term']]\n",
    "dataframe['age'] = dataframe['term_value'] - dataframe['birthYear']"
   ]
  },
  {
   "cell_type": "code",
   "execution_count": 16,
   "metadata": {
    "execution": {
     "iopub.execute_input": "2021-08-08T14:22:11.085212Z",
     "iopub.status.busy": "2021-08-08T14:22:11.084524Z",
     "iopub.status.idle": "2021-08-08T14:22:11.299302Z",
     "shell.execute_reply": "2021-08-08T14:22:11.299794Z",
     "shell.execute_reply.started": "2021-07-31T12:07:30.526102Z"
    },
    "id": "pcMVQXueYnMh",
    "papermill": {
     "duration": 0.637759,
     "end_time": "2021-08-08T14:22:11.299981",
     "exception": false,
     "start_time": "2021-08-08T14:22:10.662222",
     "status": "completed"
    },
    "tags": []
   },
   "outputs": [],
   "source": [
    "# drop term_value and birthYear column\n",
    "dataframe.drop(columns=['term_value', 'birthYear'], inplace=True)"
   ]
  },
  {
   "cell_type": "code",
   "execution_count": 17,
   "metadata": {
    "execution": {
     "iopub.execute_input": "2021-08-08T14:22:12.034143Z",
     "iopub.status.busy": "2021-08-08T14:22:12.028921Z",
     "iopub.status.idle": "2021-08-08T14:22:12.535124Z",
     "shell.execute_reply": "2021-08-08T14:22:12.534591Z",
     "shell.execute_reply.started": "2021-07-31T12:07:30.71914Z"
    },
    "id": "hjRF5szkcQE0",
    "papermill": {
     "duration": 0.876124,
     "end_time": "2021-08-08T14:22:12.535265",
     "exception": false,
     "start_time": "2021-08-08T14:22:11.659141",
     "status": "completed"
    },
    "tags": []
   },
   "outputs": [],
   "source": [
    "# convert minors_count to int value\n",
    "new_minors_count = []\n",
    "for i in dataframe['minorsCount']:\n",
    "  if i == 0 or i == '0':\n",
    "    new_minors_count.append(0)\n",
    "  elif i == '1 Minor':\n",
    "    new_minors_count.append(1)\n",
    "  else:\n",
    "    new_minors_count.append(2)\n",
    "\n",
    "dataframe['minorsCount'] = new_minors_count"
   ]
  },
  {
   "cell_type": "code",
   "execution_count": 18,
   "metadata": {
    "execution": {
     "iopub.execute_input": "2021-08-08T14:22:13.256213Z",
     "iopub.status.busy": "2021-08-08T14:22:13.255556Z",
     "iopub.status.idle": "2021-08-08T14:22:13.269309Z",
     "shell.execute_reply": "2021-08-08T14:22:13.269856Z",
     "shell.execute_reply.started": "2021-07-31T12:07:31.163098Z"
    },
    "id": "9VdzvJSw0KUU",
    "outputId": "6393784f-234e-4935-9cee-cbcf56b5630a",
    "papermill": {
     "duration": 0.377182,
     "end_time": "2021-08-08T14:22:13.270035",
     "exception": false,
     "start_time": "2021-08-08T14:22:12.892853",
     "status": "completed"
    },
    "tags": []
   },
   "outputs": [
    {
     "name": "stdout",
     "output_type": "stream",
     "text": [
      "we have  1110  users in total.\n"
     ]
    }
   ],
   "source": [
    "print(\"we have \", dataframe['user_id'].nunique(),\" users in total.\")"
   ]
  },
  {
   "cell_type": "code",
   "execution_count": 19,
   "metadata": {
    "execution": {
     "iopub.execute_input": "2021-08-08T14:22:13.996655Z",
     "iopub.status.busy": "2021-08-08T14:22:13.995907Z",
     "iopub.status.idle": "2021-08-08T14:22:14.002253Z",
     "shell.execute_reply": "2021-08-08T14:22:14.002789Z",
     "shell.execute_reply.started": "2021-07-31T12:07:31.18292Z"
    },
    "id": "hUaGk9L9g13t",
    "papermill": {
     "duration": 0.37336,
     "end_time": "2021-08-08T14:22:14.002978",
     "exception": false,
     "start_time": "2021-08-08T14:22:13.629618",
     "status": "completed"
    },
    "tags": []
   },
   "outputs": [],
   "source": [
    "for category in ['term','chapter_label', 'sub_chapter_label', 'question_name']:\n",
    "  dataframe[category] =  dataframe[category].cat.codes"
   ]
  },
  {
   "cell_type": "code",
   "execution_count": 20,
   "metadata": {
    "execution": {
     "iopub.execute_input": "2021-08-08T14:22:14.726850Z",
     "iopub.status.busy": "2021-08-08T14:22:14.726197Z",
     "iopub.status.idle": "2021-08-08T14:22:15.527853Z",
     "shell.execute_reply": "2021-08-08T14:22:15.527088Z",
     "shell.execute_reply.started": "2021-07-31T12:07:31.195482Z"
    },
    "id": "hkyvcYvlhliG",
    "papermill": {
     "duration": 1.1661,
     "end_time": "2021-08-08T14:22:15.527999",
     "exception": false,
     "start_time": "2021-08-08T14:22:14.361899",
     "status": "completed"
    },
    "tags": []
   },
   "outputs": [],
   "source": [
    "NUMERIC_FEATURE =  ['age',\n",
    "            'exclClassCumGPA',\n",
    "            'termCreditsGPA',\n",
    "            'termCreditsNoGPA',\n",
    "            'highSchoolGPA', \n",
    "            'majorsCount', 'minorsCount',\n",
    "            'PREV_TERM_CUM_GPA',\n",
    "            'available_flashcards', \n",
    "            'days_offset', \n",
    "            'prev_time_elapsed',\n",
    "             'time_lag']\n",
    "# z-score normalize the numerical features\n",
    "for f in NUMERIC_FEATURE:\n",
    "  m = dataframe[f].mean()\n",
    "  std = dataframe[f].std()\n",
    "  dataframe[f] = (dataframe[f] - m)/std"
   ]
  },
  {
   "cell_type": "code",
   "execution_count": 21,
   "metadata": {
    "execution": {
     "iopub.execute_input": "2021-08-08T14:22:16.253184Z",
     "iopub.status.busy": "2021-08-08T14:22:16.252540Z",
     "iopub.status.idle": "2021-08-08T14:22:20.423691Z",
     "shell.execute_reply": "2021-08-08T14:22:20.423107Z",
     "shell.execute_reply.started": "2021-07-31T12:07:31.465309Z"
    },
    "id": "wo2OH-d5kWp1",
    "papermill": {
     "duration": 4.532171,
     "end_time": "2021-08-08T14:22:20.423849",
     "exception": false,
     "start_time": "2021-08-08T14:22:15.891678",
     "status": "completed"
    },
    "tags": []
   },
   "outputs": [],
   "source": [
    "FEATURE_TRANS =  ['answer_correct', 'chapter_label', 'sub_chapter_label','question_name','user_id','term',\n",
    "                  'STDNT_SEX_CD', \n",
    "                    'White','Asian','NonWhiteOrAsian',\n",
    "            'STDNT_CTZN_STAT_CD', 'international', \n",
    "            'age',\n",
    "            'exclClassCumGPA',\n",
    "           'Freshman',\n",
    "            'Junior',\n",
    "            'Sophomore',\n",
    "            'Senior',\n",
    "            'termCreditsGPA',\n",
    "            'termCreditsNoGPA',\n",
    "            'athlete_1',\n",
    "            'honorsPro',\n",
    "            'LSA', 'programBusiness', 'programEngineering', \n",
    "            'programInformation', 'programOther',\n",
    "            'HSCalculusTaken', \n",
    "            'highSchoolGPA', \n",
    "            'majorsCount', 'minorsCount',\n",
    "            'PREV_TERM_CUM_GPA',\n",
    "            'classGraded', 'classHonors', \n",
    "            'Pass_Fail', \n",
    "            'parentsGraduateEdu',  'minorityGroup', \n",
    "            'available_flashcards', \n",
    "            'days_offset', 'prev_time_elapsed',\n",
    "             'time_lag']\n",
    "grouped_data = dataframe[FEATURE_TRANS].groupby(['user_id']).apply(lambda r: (\n",
    "                r['answer_correct'],\n",
    "                r['term'],\n",
    "                r['chapter_label'],\n",
    "                r['sub_chapter_label'],\n",
    "                r['question_name'],\n",
    "                np.array([\n",
    "                  r['STDNT_SEX_CD'],r['STDNT_CTZN_STAT_CD'], r['international'], \n",
    "                  r['White'],r['Asian'],r['NonWhiteOrAsian'],\n",
    "                 r['age'],r['exclClassCumGPA'],\n",
    "                r['Freshman'], r['Junior'], r['Sophomore'], r['Senior'],\n",
    "                r['termCreditsGPA'], r['termCreditsNoGPA'],\n",
    "                r['athlete_1'], r['honorsPro'],\n",
    "                r['LSA'], r['programBusiness'], r['programEngineering'], \n",
    "                r['programInformation'], r['programOther'],\n",
    "                r['HSCalculusTaken'],  r['highSchoolGPA'], \n",
    "                r['majorsCount'], r['minorsCount'],\n",
    "                r['PREV_TERM_CUM_GPA'], \n",
    "                r['parentsGraduateEdu'], r['minorityGroup'],\n",
    "                r['available_flashcards'],\n",
    "                r['days_offset'],\n",
    "                r['prev_time_elapsed'],\n",
    "                r['time_lag']\n",
    "              ]).transpose()\n",
    "                ))"
   ]
  },
  {
   "cell_type": "code",
   "execution_count": 22,
   "metadata": {
    "execution": {
     "iopub.execute_input": "2021-08-08T14:22:21.332525Z",
     "iopub.status.busy": "2021-08-08T14:22:21.331799Z",
     "iopub.status.idle": "2021-08-08T14:22:21.336635Z",
     "shell.execute_reply": "2021-08-08T14:22:21.337139Z",
     "shell.execute_reply.started": "2021-07-31T12:07:32.580883Z"
    },
    "id": "XXLqQnjrlp_4",
    "outputId": "c801da79-f0bf-4fe5-b19c-7c799fe01556",
    "papermill": {
     "duration": 0.55763,
     "end_time": "2021-08-08T14:22:21.337320",
     "exception": false,
     "start_time": "2021-08-08T14:22:20.779690",
     "status": "completed"
    },
    "tags": []
   },
   "outputs": [
    {
     "data": {
      "text/plain": [
       "20"
      ]
     },
     "execution_count": 22,
     "metadata": {},
     "output_type": "execute_result"
    }
   ],
   "source": [
    "gc.collect()"
   ]
  },
  {
   "cell_type": "code",
   "execution_count": 23,
   "metadata": {
    "execution": {
     "iopub.execute_input": "2021-08-08T14:22:22.079565Z",
     "iopub.status.busy": "2021-08-08T14:22:22.078897Z",
     "iopub.status.idle": "2021-08-08T14:22:22.102889Z",
     "shell.execute_reply": "2021-08-08T14:22:22.102123Z",
     "shell.execute_reply.started": "2021-07-31T12:07:32.763535Z"
    },
    "id": "QYGQasdTrmP0",
    "papermill": {
     "duration": 0.407253,
     "end_time": "2021-08-08T14:22:22.103036",
     "exception": false,
     "start_time": "2021-08-08T14:22:21.695783",
     "status": "completed"
    },
    "tags": []
   },
   "outputs": [],
   "source": [
    "# remove students who don't have make any interactions with the tool\n",
    "toRemove = []\n",
    "for index in grouped_data.index:\n",
    "  if len(grouped_data[index][0]) <= 10:\n",
    "    toRemove.append(index)\n",
    "grouped_data = grouped_data.drop(index=toRemove)"
   ]
  },
  {
   "cell_type": "code",
   "execution_count": 24,
   "metadata": {
    "execution": {
     "iopub.execute_input": "2021-08-08T14:22:22.826633Z",
     "iopub.status.busy": "2021-08-08T14:22:22.826025Z",
     "iopub.status.idle": "2021-08-08T14:22:22.841971Z",
     "shell.execute_reply": "2021-08-08T14:22:22.841449Z",
     "shell.execute_reply.started": "2021-07-31T12:07:32.802433Z"
    },
    "papermill": {
     "duration": 0.378302,
     "end_time": "2021-08-08T14:22:22.842114",
     "exception": false,
     "start_time": "2021-08-08T14:22:22.463812",
     "status": "completed"
    },
    "tags": []
   },
   "outputs": [
    {
     "data": {
      "text/plain": [
       "count    1110.000000\n",
       "mean      550.263063\n",
       "std       201.281353\n",
       "min         2.000000\n",
       "25%       438.250000\n",
       "50%       520.500000\n",
       "75%       637.750000\n",
       "max      1500.000000\n",
       "Name: start_practice, dtype: float64"
      ]
     },
     "execution_count": 24,
     "metadata": {},
     "output_type": "execute_result"
    }
   ],
   "source": [
    "dataframe.groupby('user_id')['start_practice'].agg('count').describe()"
   ]
  },
  {
   "cell_type": "code",
   "execution_count": 25,
   "metadata": {
    "execution": {
     "iopub.execute_input": "2021-08-08T14:22:23.600198Z",
     "iopub.status.busy": "2021-08-08T14:22:23.599450Z",
     "iopub.status.idle": "2021-08-08T14:22:23.602404Z",
     "shell.execute_reply": "2021-08-08T14:22:23.603009Z",
     "shell.execute_reply.started": "2021-07-31T12:07:32.821988Z"
    },
    "papermill": {
     "duration": 0.395767,
     "end_time": "2021-08-08T14:22:23.603192",
     "exception": false,
     "start_time": "2021-08-08T14:22:23.207425",
     "status": "completed"
    },
    "tags": []
   },
   "outputs": [
    {
     "data": {
      "text/plain": [
       "['FA 2018:252', 'WN 2018:295']"
      ]
     },
     "execution_count": 25,
     "metadata": {},
     "output_type": "execute_result"
    }
   ],
   "source": [
    "toRemove"
   ]
  },
  {
   "cell_type": "code",
   "execution_count": 26,
   "metadata": {
    "execution": {
     "iopub.execute_input": "2021-08-08T14:22:24.324992Z",
     "iopub.status.busy": "2021-08-08T14:22:24.324329Z",
     "iopub.status.idle": "2021-08-08T14:22:24.328118Z",
     "shell.execute_reply": "2021-08-08T14:22:24.328691Z",
     "shell.execute_reply.started": "2021-07-31T12:07:32.831612Z"
    },
    "id": "9kZqV9siDyNb",
    "papermill": {
     "duration": 0.363836,
     "end_time": "2021-08-08T14:22:24.328881",
     "exception": false,
     "start_time": "2021-08-08T14:22:23.965045",
     "status": "completed"
    },
    "tags": []
   },
   "outputs": [],
   "source": [
    "#SETTINGS -> can be modified at any time\n",
    "MAXLENGTH = 400\n",
    "EMBEDDING_DIM = 128\n",
    "DENSE_NEURON = 16\n",
    "GRU_NEURON = 32"
   ]
  },
  {
   "cell_type": "code",
   "execution_count": 27,
   "metadata": {
    "execution": {
     "iopub.execute_input": "2021-08-08T14:22:25.047429Z",
     "iopub.status.busy": "2021-08-08T14:22:25.046723Z",
     "iopub.status.idle": "2021-08-08T14:22:25.051172Z",
     "shell.execute_reply": "2021-08-08T14:22:25.051703Z",
     "shell.execute_reply.started": "2021-07-31T12:07:32.84337Z"
    },
    "id": "1MksD1JizpPn",
    "papermill": {
     "duration": 0.366724,
     "end_time": "2021-08-08T14:22:25.051889",
     "exception": false,
     "start_time": "2021-08-08T14:22:24.685165",
     "status": "completed"
    },
    "tags": []
   },
   "outputs": [],
   "source": [
    "FEATURES_SIZE = 39\n",
    "CHAPTER_SIZE = 38\n",
    "SUB_CHAPTER_SIZE = 223\n",
    "QUESTION_SIZE = 1069"
   ]
  },
  {
   "cell_type": "code",
   "execution_count": 28,
   "metadata": {
    "execution": {
     "iopub.execute_input": "2021-08-08T14:22:25.783017Z",
     "iopub.status.busy": "2021-08-08T14:22:25.782003Z",
     "iopub.status.idle": "2021-08-08T14:22:25.798243Z",
     "shell.execute_reply": "2021-08-08T14:22:25.797426Z",
     "shell.execute_reply.started": "2021-07-31T12:07:32.851249Z"
    },
    "papermill": {
     "duration": 0.384787,
     "end_time": "2021-08-08T14:22:25.798412",
     "exception": false,
     "start_time": "2021-08-08T14:22:25.413625",
     "status": "completed"
    },
    "tags": []
   },
   "outputs": [
    {
     "data": {
      "text/plain": [
       "array([ 96,  86,  88,  28,  12,  82, 125,  32,  69,  33,  21, 115, 120,\n",
       "       119,  91,  73,  57,  77, 117,  40,  74,  41,  68,  39,  92,  47,\n",
       "       104,  95,  53,  49,  50,  16,  52,  55,   7,  15,  51, 102, 103,\n",
       "        11,  94, 108, 100,  17,  67,  63,  13, 139,  26,  25,   8, 107,\n",
       "         0,  90,  48,  54, 138,   1,   2,   3,  34,  35,  85,   5,  24,\n",
       "        37,  36,  78,  70,  45, 142,  71,  10,  89, 111, 112, 109, 116,\n",
       "        76,  72, 148, 134, 146, 221, 143,  56,  60,  61,  23, 140, 106,\n",
       "        42,  83,  22, 145, 136, 144,  38,   4,  19, 137,  75,  43,  98,\n",
       "        84, 113, 173, 174, 175, 176, 177, 178, 180, 181, 182, 187, 189,\n",
       "       190, 191, 192, 193, 195, 197, 151, 152, 153, 156, 157, 158, 159,\n",
       "       160, 161, 163, 164, 165, 166, 167, 168, 169, 170, 171, 172, 198,\n",
       "       199, 200, 201, 202, 203, 204, 205, 206, 207, 208, 209, 210, 162,\n",
       "       179, 186, 188, 194, 183, 184, 185, 211, 212, 213, 154, 155, 196,\n",
       "         6, 118,  18, 215,  46, 216, 141,  27, 217, 105, 123, 218, 101,\n",
       "       124, 219, 122, 220,  58,  59,  64,  20,  93,  65,  66,   9,  44,\n",
       "        30,  14,  79, 121,  31, 110, 129,  87,  97,  62, 149, 132, 131,\n",
       "       150, 130, 128,  99, 147, 127, 214, 135,  80, 126, 133,  81, 114,\n",
       "        29], dtype=int16)"
      ]
     },
     "execution_count": 28,
     "metadata": {},
     "output_type": "execute_result"
    }
   ],
   "source": [
    "dataframe['sub_chapter_label'].unique()"
   ]
  },
  {
   "cell_type": "code",
   "execution_count": 29,
   "metadata": {
    "execution": {
     "iopub.execute_input": "2021-08-08T14:22:26.576908Z",
     "iopub.status.busy": "2021-08-08T14:22:26.576208Z",
     "iopub.status.idle": "2021-08-08T14:22:27.665209Z",
     "shell.execute_reply": "2021-08-08T14:22:27.665705Z",
     "shell.execute_reply.started": "2021-07-31T12:07:32.870313Z"
    },
    "id": "mY3Thp6d0NaT",
    "papermill": {
     "duration": 1.457505,
     "end_time": "2021-08-08T14:22:27.665899",
     "exception": false,
     "start_time": "2021-08-08T14:22:26.208394",
     "status": "completed"
    },
    "tags": []
   },
   "outputs": [],
   "source": [
    "#create dataset class\n",
    "#to prepare it for train, valid, and test sets\n",
    "from torch.utils.data import Dataset, DataLoader\n",
    "class SPACE_DATASET(Dataset):\n",
    "    def __init__(self, data, maxlength = 400):\n",
    "        super(SPACE_DATASET, self).__init__()\n",
    "        self.maxlength = maxlength\n",
    "        self.data = data\n",
    "        self.users = list()\n",
    "        for user in data.index:\n",
    "            self.users.append(user)\n",
    "\n",
    "    def __len__(self):\n",
    "        return len(self.users)\n",
    "    \n",
    "    def __getitem__(self, ix):\n",
    "        user = self.users[ix]\n",
    "        user = user\n",
    "        target, term, ch_label, sub_ch_label, ques_name, features = self.data[user]\n",
    "        \n",
    "        #0s should be used as padding values\n",
    "        ori_target = target.values \n",
    "        term = term.values\n",
    "        ch_label = ch_label.values + 1\n",
    "        sub_ch_label = sub_ch_label.values +1\n",
    "        ques_name = ques_name.values + 1\n",
    "        \n",
    "        n = len(ch_label)\n",
    "\n",
    "        # one hot for term\n",
    "        term_encode = [0]*7\n",
    "        term_encode[term[0]] = 1\n",
    "        shifted_target= []\n",
    "\n",
    "        \n",
    "        # get  user interaction informations in the previous MAXLEN interactions\n",
    "        if n > self.maxlength:\n",
    "          ch_label = ch_label[-self.maxlength:]\n",
    "          sub_ch_label = sub_ch_label[-self.maxlength:]\n",
    "          ques_name = ques_name[-self.maxlength:]\n",
    "          features = features[-self.maxlength:]\n",
    "          target = ori_target[-self.maxlength:]\n",
    "          shifted_target = ori_target[ (-self.maxlength - 1) :-1]\n",
    "        else:\n",
    "          ch_label = [0]*(self.maxlength - n)+list(ch_label[:])\n",
    "          sub_ch_label = [0]*(self.maxlength - n)+list(sub_ch_label[:])\n",
    "          ques_name = [0]*(self.maxlength - n)+list(ques_name[:])\n",
    "          features = [[0]*len(features[0])]*(self.maxlength  - n)+list(features[:])\n",
    "          target = [-1]*(self.maxlength - n) + list(ori_target[:])\n",
    "          shifted_target = [2]*(self.maxlength + 1 - n) + list(ori_target[:-1])\n",
    "\n",
    "        new_features = []\n",
    "        count = 0\n",
    "        for f in features:\n",
    "          temp = list(f)\n",
    "          temp.extend(term_encode)\n",
    "          #temp.append(shifted_target[count]) #uncomment this line for include previous response feature\n",
    "          new_features.append(temp)\n",
    "          count += 1\n",
    "        features = new_features\n",
    "        return ch_label,sub_ch_label,ques_name,features, shifted_target, target"
   ]
  },
  {
   "cell_type": "code",
   "execution_count": 30,
   "metadata": {
    "execution": {
     "iopub.execute_input": "2021-08-08T14:22:28.391651Z",
     "iopub.status.busy": "2021-08-08T14:22:28.390813Z",
     "iopub.status.idle": "2021-08-08T14:22:28.395250Z",
     "shell.execute_reply": "2021-08-08T14:22:28.394614Z",
     "shell.execute_reply.started": "2021-07-31T12:07:33.249192Z"
    },
    "papermill": {
     "duration": 0.370804,
     "end_time": "2021-08-08T14:22:28.395394",
     "exception": false,
     "start_time": "2021-08-08T14:22:28.024590",
     "status": "completed"
    },
    "tags": []
   },
   "outputs": [
    {
     "data": {
      "text/plain": [
       "223"
      ]
     },
     "execution_count": 30,
     "metadata": {},
     "output_type": "execute_result"
    }
   ],
   "source": [
    "SUB_CHAPTER_SIZE"
   ]
  },
  {
   "cell_type": "markdown",
   "metadata": {
    "id": "4xc90-aLzxat",
    "papermill": {
     "duration": 0.365008,
     "end_time": "2021-08-08T14:22:29.117254",
     "exception": false,
     "start_time": "2021-08-08T14:22:28.752246",
     "status": "completed"
    },
    "tags": []
   },
   "source": [
    "## KFOLD - GRU\n"
   ]
  },
  {
   "cell_type": "code",
   "execution_count": 31,
   "metadata": {
    "execution": {
     "iopub.execute_input": "2021-08-08T14:22:29.880088Z",
     "iopub.status.busy": "2021-08-08T14:22:29.878042Z",
     "iopub.status.idle": "2021-08-08T14:46:18.343922Z",
     "shell.execute_reply": "2021-08-08T14:46:18.343234Z",
     "shell.execute_reply.started": "2021-07-31T12:07:33.257302Z"
    },
    "id": "gzJrljnjzypP",
    "outputId": "87abe488-b493-4f8f-9d71-45cb1d2ddf51",
    "papermill": {
     "duration": 1428.869441,
     "end_time": "2021-08-08T14:46:18.344078",
     "exception": false,
     "start_time": "2021-08-08T14:22:29.474637",
     "status": "completed"
    },
    "tags": []
   },
   "outputs": [
    {
     "name": "stdout",
     "output_type": "stream",
     "text": [
      "Epoch 1/100\n",
      "14/14 [==============================] - 24s 1s/step - loss: 0.5797 - masked_acc: 0.7100 - masked_auc: 0.5306 - val_loss: 0.4558 - val_masked_acc: 0.7226 - val_masked_auc: 0.6805\n",
      "Epoch 2/100\n",
      "14/14 [==============================] - 12s 864ms/step - loss: 0.4489 - masked_acc: 0.7305 - masked_auc: 0.7136 - val_loss: 0.4071 - val_masked_acc: 0.7489 - val_masked_auc: 0.7638\n",
      "Epoch 3/100\n",
      "14/14 [==============================] - 12s 846ms/step - loss: 0.4141 - masked_acc: 0.7524 - masked_auc: 0.7747 - val_loss: 0.3968 - val_masked_acc: 0.7605 - val_masked_auc: 0.7941\n",
      "Epoch 4/100\n",
      "14/14 [==============================] - 12s 873ms/step - loss: 0.4066 - masked_acc: 0.7623 - masked_auc: 0.7993 - val_loss: 0.3939 - val_masked_acc: 0.7671 - val_masked_auc: 0.8095\n",
      "Epoch 5/100\n",
      "14/14 [==============================] - 12s 841ms/step - loss: 0.4033 - masked_acc: 0.7683 - masked_auc: 0.8125 - val_loss: 0.3916 - val_masked_acc: 0.7715 - val_masked_auc: 0.8189\n",
      "Epoch 6/100\n",
      "14/14 [==============================] - 12s 845ms/step - loss: 0.4022 - masked_acc: 0.7723 - masked_auc: 0.8208 - val_loss: 0.3899 - val_masked_acc: 0.7749 - val_masked_auc: 0.8255\n",
      "Epoch 7/100\n",
      "14/14 [==============================] - 12s 862ms/step - loss: 0.3981 - masked_acc: 0.7756 - masked_auc: 0.8270 - val_loss: 0.3883 - val_masked_acc: 0.7777 - val_masked_auc: 0.8305\n",
      "Epoch 8/100\n",
      "14/14 [==============================] - 12s 825ms/step - loss: 0.3900 - masked_acc: 0.7783 - masked_auc: 0.8318 - val_loss: 0.3858 - val_masked_acc: 0.7800 - val_masked_auc: 0.8345\n",
      "Epoch 9/100\n",
      "14/14 [==============================] - 12s 855ms/step - loss: 0.3941 - masked_acc: 0.7804 - masked_auc: 0.8354 - val_loss: 0.3836 - val_masked_acc: 0.7820 - val_masked_auc: 0.8378\n",
      "Epoch 10/100\n",
      "14/14 [==============================] - 12s 862ms/step - loss: 0.3903 - masked_acc: 0.7823 - masked_auc: 0.8385 - val_loss: 0.3823 - val_masked_acc: 0.7838 - val_masked_auc: 0.8407\n",
      "Epoch 11/100\n",
      "14/14 [==============================] - 12s 830ms/step - loss: 0.3907 - masked_acc: 0.7841 - masked_auc: 0.8413 - val_loss: 0.3836 - val_masked_acc: 0.7854 - val_masked_auc: 0.8433\n",
      "Epoch 12/100\n",
      "14/14 [==============================] - 12s 848ms/step - loss: 0.3850 - masked_acc: 0.7858 - masked_auc: 0.8440 - val_loss: 0.3814 - val_masked_acc: 0.7868 - val_masked_auc: 0.8455\n",
      "Epoch 13/100\n",
      "14/14 [==============================] - 12s 862ms/step - loss: 0.3835 - masked_acc: 0.7871 - masked_auc: 0.8460 - val_loss: 0.3868 - val_masked_acc: 0.7882 - val_masked_auc: 0.8475\n",
      "Epoch 14/100\n",
      "14/14 [==============================] - 12s 842ms/step - loss: 0.3751 - masked_acc: 0.7885 - masked_auc: 0.8481 - val_loss: 0.3829 - val_masked_acc: 0.7894 - val_masked_auc: 0.8494\n",
      "Epoch 15/100\n",
      "14/14 [==============================] - 12s 881ms/step - loss: 0.3795 - masked_acc: 0.7897 - masked_auc: 0.8499 - val_loss: 0.3827 - val_masked_acc: 0.7906 - val_masked_auc: 0.8513\n",
      "Epoch 16/100\n",
      "14/14 [==============================] - 14s 997ms/step - loss: 0.3672 - masked_acc: 0.7910 - masked_auc: 0.8517 - val_loss: 0.3830 - val_masked_acc: 0.7918 - val_masked_auc: 0.8529\n",
      "Epoch 17/100\n",
      "14/14 [==============================] - 12s 857ms/step - loss: 0.3654 - masked_acc: 0.7921 - masked_auc: 0.8535 - val_loss: 0.3820 - val_masked_acc: 0.7928 - val_masked_auc: 0.8545\n",
      "Epoch 18/100\n",
      "14/14 [==============================] - 12s 857ms/step - loss: 0.3642 - masked_acc: 0.7931 - masked_auc: 0.8549 - val_loss: 0.3860 - val_masked_acc: 0.7938 - val_masked_auc: 0.8560\n",
      "Epoch 19/100\n",
      "14/14 [==============================] - 12s 854ms/step - loss: 0.3577 - masked_acc: 0.7942 - masked_auc: 0.8564 - val_loss: 0.3886 - val_masked_acc: 0.7948 - val_masked_auc: 0.8573\n",
      "Epoch 20/100\n",
      "14/14 [==============================] - 12s 841ms/step - loss: 0.3636 - masked_acc: 0.7950 - masked_auc: 0.8577 - val_loss: 0.3894 - val_masked_acc: 0.7958 - val_masked_auc: 0.8587\n",
      "Epoch 21/100\n",
      "14/14 [==============================] - 12s 845ms/step - loss: 0.3639 - masked_acc: 0.7959 - masked_auc: 0.8590 - val_loss: 0.3901 - val_masked_acc: 0.7967 - val_masked_auc: 0.8600\n",
      "Epoch 22/100\n",
      "14/14 [==============================] - 12s 878ms/step - loss: 0.3498 - masked_acc: 0.7970 - masked_auc: 0.8604 - val_loss: 0.3915 - val_masked_acc: 0.7976 - val_masked_auc: 0.8613\n",
      "28/28 [==============================] - 4s 128ms/step - loss: 0.3465 - masked_acc: 0.7983 - masked_auc: 0.8621\n",
      "4/4 [==============================] - 0s 118ms/step - loss: 0.3959 - masked_acc: 0.7986 - masked_auc: 0.8627\n",
      "Test:  [0.39589160680770874, 0.7986332178115845, 0.8626785278320312]\n",
      "Epoch 1/100\n",
      "14/14 [==============================] - 23s 1s/step - loss: 0.5831 - masked_acc: 0.6957 - masked_auc: 0.5282 - val_loss: 0.4743 - val_masked_acc: 0.7253 - val_masked_auc: 0.6995\n",
      "Epoch 2/100\n",
      "14/14 [==============================] - 12s 849ms/step - loss: 0.4359 - masked_acc: 0.7350 - masked_auc: 0.7308 - val_loss: 0.4396 - val_masked_acc: 0.7514 - val_masked_auc: 0.7738\n",
      "Epoch 3/100\n",
      "14/14 [==============================] - 12s 840ms/step - loss: 0.4216 - masked_acc: 0.7546 - masked_auc: 0.7834 - val_loss: 0.4351 - val_masked_acc: 0.7623 - val_masked_auc: 0.7995\n",
      "Epoch 4/100\n",
      "14/14 [==============================] - 12s 838ms/step - loss: 0.4173 - masked_acc: 0.7634 - masked_auc: 0.8035 - val_loss: 0.4305 - val_masked_acc: 0.7683 - val_masked_auc: 0.8129\n",
      "Epoch 5/100\n",
      "14/14 [==============================] - 12s 824ms/step - loss: 0.3983 - masked_acc: 0.7697 - masked_auc: 0.8160 - val_loss: 0.4276 - val_masked_acc: 0.7723 - val_masked_auc: 0.8215\n",
      "Epoch 6/100\n",
      "14/14 [==============================] - 12s 863ms/step - loss: 0.4018 - masked_acc: 0.7729 - masked_auc: 0.8232 - val_loss: 0.4254 - val_masked_acc: 0.7755 - val_masked_auc: 0.8276\n",
      "Epoch 7/100\n",
      "14/14 [==============================] - 12s 845ms/step - loss: 0.3928 - masked_acc: 0.7762 - masked_auc: 0.8293 - val_loss: 0.4236 - val_masked_acc: 0.7780 - val_masked_auc: 0.8323\n",
      "Epoch 8/100\n",
      "14/14 [==============================] - 12s 857ms/step - loss: 0.3881 - masked_acc: 0.7786 - masked_auc: 0.8335 - val_loss: 0.4245 - val_masked_acc: 0.7802 - val_masked_auc: 0.8360\n",
      "Epoch 9/100\n",
      "14/14 [==============================] - 12s 883ms/step - loss: 0.3883 - masked_acc: 0.7808 - masked_auc: 0.8371 - val_loss: 0.4208 - val_masked_acc: 0.7822 - val_masked_auc: 0.8393\n",
      "Epoch 10/100\n",
      "14/14 [==============================] - 12s 854ms/step - loss: 0.3884 - masked_acc: 0.7825 - masked_auc: 0.8400 - val_loss: 0.4216 - val_masked_acc: 0.7839 - val_masked_auc: 0.8421\n",
      "Epoch 11/100\n",
      "14/14 [==============================] - 13s 926ms/step - loss: 0.3818 - masked_acc: 0.7844 - masked_auc: 0.8429 - val_loss: 0.4211 - val_masked_acc: 0.7855 - val_masked_auc: 0.8446\n",
      "Epoch 12/100\n",
      "14/14 [==============================] - 12s 853ms/step - loss: 0.3776 - masked_acc: 0.7858 - masked_auc: 0.8452 - val_loss: 0.4213 - val_masked_acc: 0.7869 - val_masked_auc: 0.8467\n",
      "Epoch 13/100\n",
      "14/14 [==============================] - 12s 843ms/step - loss: 0.3782 - masked_acc: 0.7872 - masked_auc: 0.8473 - val_loss: 0.4210 - val_masked_acc: 0.7882 - val_masked_auc: 0.8487\n",
      "Epoch 14/100\n",
      "14/14 [==============================] - 13s 900ms/step - loss: 0.3770 - masked_acc: 0.7884 - masked_auc: 0.8492 - val_loss: 0.4211 - val_masked_acc: 0.7893 - val_masked_auc: 0.8506\n",
      "Epoch 15/100\n",
      "14/14 [==============================] - 12s 852ms/step - loss: 0.3731 - masked_acc: 0.7896 - masked_auc: 0.8511 - val_loss: 0.4250 - val_masked_acc: 0.7905 - val_masked_auc: 0.8523\n",
      "Epoch 16/100\n",
      "14/14 [==============================] - 12s 842ms/step - loss: 0.3677 - masked_acc: 0.7908 - masked_auc: 0.8528 - val_loss: 0.4272 - val_masked_acc: 0.7915 - val_masked_auc: 0.8538\n",
      "Epoch 17/100\n",
      "14/14 [==============================] - 12s 888ms/step - loss: 0.3655 - masked_acc: 0.7918 - masked_auc: 0.8543 - val_loss: 0.4246 - val_masked_acc: 0.7926 - val_masked_auc: 0.8553\n",
      "Epoch 18/100\n",
      "14/14 [==============================] - 12s 848ms/step - loss: 0.3657 - masked_acc: 0.7929 - masked_auc: 0.8558 - val_loss: 0.4247 - val_masked_acc: 0.7935 - val_masked_auc: 0.8567\n",
      "Epoch 19/100\n",
      "14/14 [==============================] - 12s 843ms/step - loss: 0.3571 - masked_acc: 0.7938 - masked_auc: 0.8572 - val_loss: 0.4293 - val_masked_acc: 0.7945 - val_masked_auc: 0.8581\n",
      "28/28 [==============================] - 4s 139ms/step - loss: 0.3558 - masked_acc: 0.7951 - masked_auc: 0.8589\n",
      "4/4 [==============================] - 1s 123ms/step - loss: 0.3780 - masked_acc: 0.7954 - masked_auc: 0.8595\n",
      "Test:  [0.3780379891395569, 0.7954204082489014, 0.8594769835472107]\n",
      "Epoch 1/100\n",
      "14/14 [==============================] - 23s 1s/step - loss: 0.5656 - masked_acc: 0.6554 - masked_auc: 0.5352 - val_loss: 0.4451 - val_masked_acc: 0.7200 - val_masked_auc: 0.7059\n",
      "Epoch 2/100\n",
      "14/14 [==============================] - 12s 871ms/step - loss: 0.4377 - masked_acc: 0.7303 - masked_auc: 0.7350 - val_loss: 0.4110 - val_masked_acc: 0.7499 - val_masked_auc: 0.7775\n",
      "Epoch 3/100\n",
      "14/14 [==============================] - 12s 851ms/step - loss: 0.4104 - masked_acc: 0.7538 - masked_auc: 0.7867 - val_loss: 0.4100 - val_masked_acc: 0.7617 - val_masked_auc: 0.8030\n",
      "Epoch 4/100\n",
      "14/14 [==============================] - 13s 900ms/step - loss: 0.4013 - masked_acc: 0.7637 - masked_auc: 0.8072 - val_loss: 0.4042 - val_masked_acc: 0.7682 - val_masked_auc: 0.8158\n",
      "Epoch 5/100\n",
      "14/14 [==============================] - 12s 871ms/step - loss: 0.3963 - masked_acc: 0.7692 - masked_auc: 0.8185 - val_loss: 0.4024 - val_masked_acc: 0.7727 - val_masked_auc: 0.8243\n",
      "Epoch 6/100\n",
      "14/14 [==============================] - 12s 891ms/step - loss: 0.3967 - masked_acc: 0.7736 - masked_auc: 0.8262 - val_loss: 0.3987 - val_masked_acc: 0.7760 - val_masked_auc: 0.8302\n",
      "Epoch 7/100\n",
      "14/14 [==============================] - 13s 903ms/step - loss: 0.3918 - masked_acc: 0.7767 - masked_auc: 0.8316 - val_loss: 0.3975 - val_masked_acc: 0.7787 - val_masked_auc: 0.8348\n",
      "Epoch 8/100\n",
      "14/14 [==============================] - 12s 861ms/step - loss: 0.3912 - masked_acc: 0.7793 - masked_auc: 0.8359 - val_loss: 0.3961 - val_masked_acc: 0.7810 - val_masked_auc: 0.8385\n",
      "Epoch 9/100\n",
      "14/14 [==============================] - 12s 851ms/step - loss: 0.3782 - masked_acc: 0.7817 - masked_auc: 0.8396 - val_loss: 0.3987 - val_masked_acc: 0.7830 - val_masked_auc: 0.8416\n",
      "Epoch 10/100\n",
      "14/14 [==============================] - 12s 857ms/step - loss: 0.3891 - masked_acc: 0.7833 - masked_auc: 0.8423 - val_loss: 0.3959 - val_masked_acc: 0.7847 - val_masked_auc: 0.8442\n",
      "Epoch 11/100\n",
      "14/14 [==============================] - 12s 856ms/step - loss: 0.3801 - masked_acc: 0.7850 - masked_auc: 0.8449 - val_loss: 0.3952 - val_masked_acc: 0.7863 - val_masked_auc: 0.8466\n",
      "Epoch 12/100\n",
      "14/14 [==============================] - 12s 847ms/step - loss: 0.3730 - masked_acc: 0.7868 - masked_auc: 0.8474 - val_loss: 0.3942 - val_masked_acc: 0.7877 - val_masked_auc: 0.8488\n",
      "Epoch 13/100\n",
      "14/14 [==============================] - 12s 844ms/step - loss: 0.3771 - masked_acc: 0.7881 - masked_auc: 0.8494 - val_loss: 0.3950 - val_masked_acc: 0.7890 - val_masked_auc: 0.8507\n",
      "Epoch 14/100\n",
      "14/14 [==============================] - 13s 890ms/step - loss: 0.3696 - masked_acc: 0.7894 - masked_auc: 0.8513 - val_loss: 0.3954 - val_masked_acc: 0.7903 - val_masked_auc: 0.8525\n",
      "Epoch 15/100\n",
      "14/14 [==============================] - 12s 866ms/step - loss: 0.3663 - masked_acc: 0.7906 - masked_auc: 0.8531 - val_loss: 0.3962 - val_masked_acc: 0.7915 - val_masked_auc: 0.8542\n",
      "Epoch 16/100\n",
      "14/14 [==============================] - 12s 869ms/step - loss: 0.3712 - masked_acc: 0.7917 - masked_auc: 0.8546 - val_loss: 0.3964 - val_masked_acc: 0.7926 - val_masked_auc: 0.8557\n",
      "Epoch 17/100\n",
      "14/14 [==============================] - 12s 873ms/step - loss: 0.3660 - masked_acc: 0.7929 - masked_auc: 0.8562 - val_loss: 0.3973 - val_masked_acc: 0.7937 - val_masked_auc: 0.8572\n",
      "Epoch 18/100\n",
      "14/14 [==============================] - 12s 851ms/step - loss: 0.3569 - masked_acc: 0.7939 - masked_auc: 0.8576 - val_loss: 0.4026 - val_masked_acc: 0.7946 - val_masked_auc: 0.8586\n",
      "Epoch 19/100\n",
      "14/14 [==============================] - 12s 866ms/step - loss: 0.3678 - masked_acc: 0.7948 - masked_auc: 0.8590 - val_loss: 0.4094 - val_masked_acc: 0.7956 - val_masked_auc: 0.8599\n",
      "Epoch 20/100\n",
      "14/14 [==============================] - 12s 879ms/step - loss: 0.3585 - masked_acc: 0.7959 - masked_auc: 0.8602 - val_loss: 0.4022 - val_masked_acc: 0.7965 - val_masked_auc: 0.8611\n",
      "Epoch 21/100\n",
      "14/14 [==============================] - 12s 866ms/step - loss: 0.3552 - masked_acc: 0.7968 - masked_auc: 0.8615 - val_loss: 0.4071 - val_masked_acc: 0.7975 - val_masked_auc: 0.8624\n",
      "Epoch 22/100\n",
      "14/14 [==============================] - 12s 868ms/step - loss: 0.3473 - masked_acc: 0.7977 - masked_auc: 0.8628 - val_loss: 0.4078 - val_masked_acc: 0.7984 - val_masked_auc: 0.8636\n",
      "28/28 [==============================] - 4s 134ms/step - loss: 0.3411 - masked_acc: 0.7991 - masked_auc: 0.8645\n",
      "4/4 [==============================] - 1s 122ms/step - loss: 0.4202 - masked_acc: 0.7993 - masked_auc: 0.8650\n",
      "Test:  [0.4202016592025757, 0.799312174320221, 0.8649700880050659]\n",
      "Epoch 1/100\n",
      "14/14 [==============================] - 23s 1s/step - loss: 0.5646 - masked_acc: 0.6404 - masked_auc: 0.5595 - val_loss: 0.4942 - val_masked_acc: 0.7155 - val_masked_auc: 0.7069\n",
      "Epoch 2/100\n",
      "14/14 [==============================] - 12s 867ms/step - loss: 0.4284 - masked_acc: 0.7276 - masked_auc: 0.7345 - val_loss: 0.4566 - val_masked_acc: 0.7460 - val_masked_auc: 0.7751\n",
      "Epoch 3/100\n",
      "14/14 [==============================] - 13s 901ms/step - loss: 0.4108 - masked_acc: 0.7506 - masked_auc: 0.7842 - val_loss: 0.4490 - val_masked_acc: 0.7588 - val_masked_auc: 0.8003\n",
      "Epoch 4/100\n",
      "14/14 [==============================] - 12s 849ms/step - loss: 0.4048 - masked_acc: 0.7611 - masked_auc: 0.8050 - val_loss: 0.4444 - val_masked_acc: 0.7656 - val_masked_auc: 0.8135\n",
      "Epoch 5/100\n",
      "14/14 [==============================] - 12s 867ms/step - loss: 0.3927 - masked_acc: 0.7672 - masked_auc: 0.8164 - val_loss: 0.4408 - val_masked_acc: 0.7701 - val_masked_auc: 0.8218\n",
      "Epoch 6/100\n",
      "14/14 [==============================] - 12s 859ms/step - loss: 0.3938 - masked_acc: 0.7712 - masked_auc: 0.8238 - val_loss: 0.4393 - val_masked_acc: 0.7734 - val_masked_auc: 0.8277\n",
      "Epoch 7/100\n",
      "14/14 [==============================] - 12s 867ms/step - loss: 0.3927 - masked_acc: 0.7741 - masked_auc: 0.8289 - val_loss: 0.4376 - val_masked_acc: 0.7762 - val_masked_auc: 0.8323\n",
      "Epoch 8/100\n",
      "14/14 [==============================] - 13s 912ms/step - loss: 0.3897 - masked_acc: 0.7769 - masked_auc: 0.8333 - val_loss: 0.4357 - val_masked_acc: 0.7785 - val_masked_auc: 0.8359\n",
      "Epoch 9/100\n",
      "14/14 [==============================] - 12s 853ms/step - loss: 0.3753 - masked_acc: 0.7793 - masked_auc: 0.8370 - val_loss: 0.4349 - val_masked_acc: 0.7806 - val_masked_auc: 0.8391\n",
      "Epoch 10/100\n",
      "14/14 [==============================] - 12s 854ms/step - loss: 0.3825 - masked_acc: 0.7811 - masked_auc: 0.8399 - val_loss: 0.4318 - val_masked_acc: 0.7825 - val_masked_auc: 0.8419\n",
      "Epoch 11/100\n",
      "14/14 [==============================] - 13s 905ms/step - loss: 0.3763 - masked_acc: 0.7830 - masked_auc: 0.8427 - val_loss: 0.4312 - val_masked_acc: 0.7840 - val_masked_auc: 0.8443\n",
      "Epoch 12/100\n",
      "14/14 [==============================] - 12s 870ms/step - loss: 0.3789 - masked_acc: 0.7844 - masked_auc: 0.8450 - val_loss: 0.4309 - val_masked_acc: 0.7855 - val_masked_auc: 0.8464\n",
      "Epoch 13/100\n",
      "14/14 [==============================] - 12s 888ms/step - loss: 0.3760 - masked_acc: 0.7859 - masked_auc: 0.8470 - val_loss: 0.4344 - val_masked_acc: 0.7867 - val_masked_auc: 0.8483\n",
      "Epoch 14/100\n",
      "14/14 [==============================] - 12s 860ms/step - loss: 0.3715 - masked_acc: 0.7871 - masked_auc: 0.8489 - val_loss: 0.4300 - val_masked_acc: 0.7880 - val_masked_auc: 0.8501\n",
      "Epoch 15/100\n",
      "14/14 [==============================] - 12s 853ms/step - loss: 0.3664 - masked_acc: 0.7883 - masked_auc: 0.8507 - val_loss: 0.4313 - val_masked_acc: 0.7891 - val_masked_auc: 0.8518\n",
      "Epoch 16/100\n",
      "14/14 [==============================] - 12s 866ms/step - loss: 0.3614 - masked_acc: 0.7895 - masked_auc: 0.8524 - val_loss: 0.4342 - val_masked_acc: 0.7902 - val_masked_auc: 0.8534\n",
      "Epoch 17/100\n",
      "14/14 [==============================] - 12s 872ms/step - loss: 0.3627 - masked_acc: 0.7906 - masked_auc: 0.8539 - val_loss: 0.4361 - val_masked_acc: 0.7913 - val_masked_auc: 0.8549\n",
      "Epoch 18/100\n",
      "14/14 [==============================] - 12s 857ms/step - loss: 0.3584 - masked_acc: 0.7916 - masked_auc: 0.8554 - val_loss: 0.4327 - val_masked_acc: 0.7923 - val_masked_auc: 0.8563\n",
      "Epoch 19/100\n",
      "14/14 [==============================] - 12s 893ms/step - loss: 0.3638 - masked_acc: 0.7925 - masked_auc: 0.8567 - val_loss: 0.4347 - val_masked_acc: 0.7932 - val_masked_auc: 0.8577\n",
      "Epoch 20/100\n",
      "14/14 [==============================] - 12s 882ms/step - loss: 0.3634 - masked_acc: 0.7935 - masked_auc: 0.8581 - val_loss: 0.4356 - val_masked_acc: 0.7942 - val_masked_auc: 0.8590\n",
      "Epoch 21/100\n",
      "14/14 [==============================] - 12s 862ms/step - loss: 0.3525 - masked_acc: 0.7945 - masked_auc: 0.8594 - val_loss: 0.4379 - val_masked_acc: 0.7951 - val_masked_auc: 0.8603\n",
      "Epoch 22/100\n",
      "14/14 [==============================] - 12s 841ms/step - loss: 0.3504 - masked_acc: 0.7954 - masked_auc: 0.8607 - val_loss: 0.4371 - val_masked_acc: 0.7960 - val_masked_auc: 0.8615\n",
      "Epoch 23/100\n",
      "14/14 [==============================] - 12s 881ms/step - loss: 0.3451 - masked_acc: 0.7963 - masked_auc: 0.8619 - val_loss: 0.4404 - val_masked_acc: 0.7969 - val_masked_auc: 0.8627\n",
      "Epoch 24/100\n",
      "14/14 [==============================] - 12s 886ms/step - loss: 0.3458 - masked_acc: 0.7972 - masked_auc: 0.8631 - val_loss: 0.4442 - val_masked_acc: 0.7978 - val_masked_auc: 0.8639\n",
      "28/28 [==============================] - 4s 137ms/step - loss: 0.3345 - masked_acc: 0.7985 - masked_auc: 0.8648\n",
      "4/4 [==============================] - 1s 121ms/step - loss: 0.4022 - masked_acc: 0.7989 - masked_auc: 0.8653\n",
      "Test:  [0.4022497832775116, 0.7988551259040833, 0.865327000617981]\n",
      "Epoch 1/100\n",
      "14/14 [==============================] - 24s 1s/step - loss: 0.5738 - masked_acc: 0.6914 - masked_auc: 0.5263 - val_loss: 0.4647 - val_masked_acc: 0.7245 - val_masked_auc: 0.6937\n",
      "Epoch 2/100\n",
      "14/14 [==============================] - 12s 858ms/step - loss: 0.4409 - masked_acc: 0.7334 - masked_auc: 0.7256 - val_loss: 0.4096 - val_masked_acc: 0.7508 - val_masked_auc: 0.7702\n",
      "Epoch 3/100\n",
      "14/14 [==============================] - 12s 878ms/step - loss: 0.4238 - masked_acc: 0.7541 - masked_auc: 0.7801 - val_loss: 0.4031 - val_masked_acc: 0.7623 - val_masked_auc: 0.7976\n",
      "Epoch 4/100\n",
      "14/14 [==============================] - 12s 883ms/step - loss: 0.4043 - masked_acc: 0.7643 - masked_auc: 0.8023 - val_loss: 0.3981 - val_masked_acc: 0.7687 - val_masked_auc: 0.8118\n",
      "Epoch 5/100\n",
      "14/14 [==============================] - 12s 852ms/step - loss: 0.4100 - masked_acc: 0.7697 - masked_auc: 0.8145 - val_loss: 0.3949 - val_masked_acc: 0.7730 - val_masked_auc: 0.8207\n",
      "Epoch 6/100\n",
      "14/14 [==============================] - 12s 886ms/step - loss: 0.4006 - masked_acc: 0.7741 - masked_auc: 0.8227 - val_loss: 0.3910 - val_masked_acc: 0.7764 - val_masked_auc: 0.8270\n",
      "Epoch 7/100\n",
      "14/14 [==============================] - 12s 842ms/step - loss: 0.3971 - masked_acc: 0.7770 - masked_auc: 0.8284 - val_loss: 0.3908 - val_masked_acc: 0.7790 - val_masked_auc: 0.8318\n",
      "Epoch 8/100\n",
      "14/14 [==============================] - 12s 872ms/step - loss: 0.3976 - masked_acc: 0.7795 - masked_auc: 0.8330 - val_loss: 0.3890 - val_masked_acc: 0.7812 - val_masked_auc: 0.8357\n",
      "Epoch 9/100\n",
      "14/14 [==============================] - 12s 884ms/step - loss: 0.3890 - masked_acc: 0.7817 - masked_auc: 0.8367 - val_loss: 0.3862 - val_masked_acc: 0.7832 - val_masked_auc: 0.8390\n",
      "Epoch 10/100\n",
      "14/14 [==============================] - 12s 854ms/step - loss: 0.3825 - masked_acc: 0.7837 - masked_auc: 0.8398 - val_loss: 0.3848 - val_masked_acc: 0.7850 - val_masked_auc: 0.8418\n",
      "Epoch 11/100\n",
      "14/14 [==============================] - 13s 910ms/step - loss: 0.3863 - masked_acc: 0.7853 - masked_auc: 0.8425 - val_loss: 0.3834 - val_masked_acc: 0.7866 - val_masked_auc: 0.8443\n",
      "Epoch 12/100\n",
      "14/14 [==============================] - 12s 858ms/step - loss: 0.3840 - masked_acc: 0.7869 - masked_auc: 0.8450 - val_loss: 0.3844 - val_masked_acc: 0.7880 - val_masked_auc: 0.8466\n",
      "Epoch 13/100\n",
      "14/14 [==============================] - 12s 851ms/step - loss: 0.3815 - masked_acc: 0.7884 - masked_auc: 0.8471 - val_loss: 0.3856 - val_masked_acc: 0.7894 - val_masked_auc: 0.8486\n",
      "Epoch 14/100\n",
      "14/14 [==============================] - 13s 908ms/step - loss: 0.3770 - masked_acc: 0.7897 - masked_auc: 0.8491 - val_loss: 0.3837 - val_masked_acc: 0.7906 - val_masked_auc: 0.8504\n",
      "Epoch 15/100\n",
      "14/14 [==============================] - 12s 852ms/step - loss: 0.3722 - masked_acc: 0.7909 - masked_auc: 0.8510 - val_loss: 0.3870 - val_masked_acc: 0.7917 - val_masked_auc: 0.8522\n",
      "Epoch 16/100\n",
      "14/14 [==============================] - 12s 831ms/step - loss: 0.3681 - masked_acc: 0.7921 - masked_auc: 0.8527 - val_loss: 0.3874 - val_masked_acc: 0.7928 - val_masked_auc: 0.8538\n",
      "Epoch 17/100\n",
      "14/14 [==============================] - 12s 865ms/step - loss: 0.3658 - masked_acc: 0.7931 - masked_auc: 0.8543 - val_loss: 0.3850 - val_masked_acc: 0.7938 - val_masked_auc: 0.8553\n",
      "Epoch 18/100\n",
      "14/14 [==============================] - 12s 862ms/step - loss: 0.3737 - masked_acc: 0.7940 - masked_auc: 0.8557 - val_loss: 0.3891 - val_masked_acc: 0.7948 - val_masked_auc: 0.8568\n",
      "Epoch 19/100\n",
      "14/14 [==============================] - 12s 888ms/step - loss: 0.3662 - masked_acc: 0.7951 - masked_auc: 0.8572 - val_loss: 0.3895 - val_masked_acc: 0.7958 - val_masked_auc: 0.8582\n",
      "Epoch 20/100\n",
      "14/14 [==============================] - 12s 865ms/step - loss: 0.3626 - masked_acc: 0.7960 - masked_auc: 0.8586 - val_loss: 0.3916 - val_masked_acc: 0.7967 - val_masked_auc: 0.8595\n",
      "Epoch 21/100\n",
      "14/14 [==============================] - 12s 867ms/step - loss: 0.3513 - masked_acc: 0.7970 - masked_auc: 0.8600 - val_loss: 0.3916 - val_masked_acc: 0.7975 - val_masked_auc: 0.8608\n",
      "28/28 [==============================] - 4s 138ms/step - loss: 0.3505 - masked_acc: 0.7982 - masked_auc: 0.8616\n",
      "4/4 [==============================] - 1s 123ms/step - loss: 0.4109 - masked_acc: 0.7985 - masked_auc: 0.8621\n",
      "Test:  [0.4108690023422241, 0.7985038161277771, 0.8620827198028564]\n"
     ]
    }
   ],
   "source": [
    "# 5 fold cross validation with GRU-based model\n",
    "import torch\n",
    "X = np.array(grouped_data.keys())\n",
    "kfold = KFold(n_splits=5, shuffle=True)\n",
    "train_losses = list()\n",
    "train_aucs = list()\n",
    "val_losses = list()\n",
    "val_aucs = list()\n",
    "train_eval = list()\n",
    "test_eval = list()\n",
    "for train, test in kfold.split(X):\n",
    "    users_train, users_test =  X[train], X[test]\n",
    "    n = len(users_test)//2\n",
    "    users_test, users_val = users_test[:n], users_test[n: ]\n",
    "    train_data_space = SPACE_DATASET(grouped_data[users_train], MAXLENGTH)\n",
    "    val_data_space = SPACE_DATASET(grouped_data[users_val], MAXLENGTH)\n",
    "    test_data_space = SPACE_DATASET(grouped_data[users_test], MAXLENGTH)\n",
    "    #construct training input\n",
    "    train_chapter=[]\n",
    "    train_sub_chapter=[]\n",
    "    train_question = []\n",
    "    train_features=[]\n",
    "    train_shifted_t = []\n",
    "    train_labels=[]\n",
    "    for i in range(len(users_train)):\n",
    "        user = train_data_space.__getitem__(i)\n",
    "        train_chapter.append(user[0])\n",
    "        train_sub_chapter.append(user[1]) \n",
    "        train_question.append(user[2])\n",
    "        train_features.append(user[3])\n",
    "        train_shifted_t.append(user[4])\n",
    "        train_labels.append(user[5])\n",
    "    train_chapter = np.array(train_chapter)\n",
    "    train_sub_chapter = np.array(train_sub_chapter)\n",
    "    train_question = np.array(train_question)\n",
    "    train_features = np.array(train_features)\n",
    "    train_shifted_t = np.array(train_shifted_t)\n",
    "    train_labels= np.array(train_labels)[..., np.newaxis]\n",
    "\n",
    "    #construct validation input\n",
    "    val_chapter=[]\n",
    "    val_sub_chapter=[]\n",
    "    val_question = []\n",
    "    val_features=[]\n",
    "    val_shifted_t = []\n",
    "    val_labels=[]\n",
    "    for i in range(len(users_val)):\n",
    "        user = val_data_space.__getitem__(i)\n",
    "        val_chapter.append(user[0])\n",
    "        val_sub_chapter.append(user[1]) \n",
    "        val_question.append(user[2])\n",
    "        val_features.append(user[3])\n",
    "        val_shifted_t.append(user[4])\n",
    "        val_labels.append(user[5])\n",
    "    val_chapter = np.array(val_chapter)\n",
    "    val_sub_chapter = np.array(val_sub_chapter)\n",
    "    val_features = np.array(val_features)\n",
    "    val_question = np.array(val_question)\n",
    "    val_shifted_t = np.array(val_shifted_t)\n",
    "    val_labels= np.array(val_labels)[..., np.newaxis]\n",
    "\n",
    "    # construct test input\n",
    "    test_chapter=[]\n",
    "    test_sub_chapter=[]\n",
    "    test_features=[]\n",
    "    test_question=[]\n",
    "    test_shifted_t = []\n",
    "    test_labels=[]\n",
    "    for i in range(len(users_test)):\n",
    "        user = test_data_space.__getitem__(i)\n",
    "        test_chapter.append(user[0])\n",
    "        test_sub_chapter.append(user[1]) \n",
    "        test_question.append(user[2])\n",
    "        test_features.append(user[3])\n",
    "        test_shifted_t.append(user[4])\n",
    "        test_labels.append(user[5])\n",
    "    test_chapter = np.array(test_chapter)\n",
    "    test_sub_chapter = np.array(test_sub_chapter)\n",
    "    test_features = np.array(test_features)\n",
    "    test_question = np.array(test_question)\n",
    "    test_shifted_t = np.array(test_shifted_t)\n",
    "    test_labels= np.array(test_labels)[..., np.newaxis]\n",
    "\n",
    "    # define loss function and evaluation metrics\n",
    "    bce = tf.keras.losses.BinaryCrossentropy(from_logits=True)\n",
    "    acc = tf.keras.metrics.Accuracy()\n",
    "    auc = tf.keras.metrics.AUC()\n",
    "\n",
    "    def masked_bce(y_true, y_pred):\n",
    "      flat_pred = y_pred\n",
    "      flat_ground_truth = y_true\n",
    "      label_mask = tf.math.not_equal(flat_ground_truth, -1)\n",
    "      return bce(flat_ground_truth, flat_pred, sample_weight=label_mask)\n",
    "\n",
    "    def masked_acc(y_true, y_pred):\n",
    "      flat_pred = y_pred\n",
    "      flat_ground_truth = y_true\n",
    "      flat_pred = (flat_pred >= 0.5)\n",
    "      label_mask = tf.math.not_equal(flat_ground_truth, -1)\n",
    "      return acc(flat_ground_truth, flat_pred, sample_weight=label_mask)\n",
    "\n",
    "    def masked_auc(y_true, y_pred):\n",
    "      flat_pred = y_pred\n",
    "      flat_ground_truth = y_true\n",
    "      label_mask = tf.math.not_equal(flat_ground_truth, -1)\n",
    "      return auc(flat_ground_truth, flat_pred, sample_weight=label_mask)\n",
    "\n",
    "    # input layer\n",
    "    input_chap = tf.keras.Input(shape=(MAXLENGTH))\n",
    "    input_sub_chap = tf.keras.Input(shape=(MAXLENGTH))\n",
    "    input_ques =  tf.keras.Input(shape=(MAXLENGTH))\n",
    "    input_shifted = tf.keras.Input(shape=(MAXLENGTH))\n",
    "    input_features = tf.keras.Input(shape=(MAXLENGTH, FEATURES_SIZE))\n",
    "\n",
    "    # embedding layer for categorical features\n",
    "    embedding_chap = Embedding(input_dim = CHAPTER_SIZE, output_dim = EMBEDDING_DIM)(input_chap)\n",
    "    embedding_sub_chap = Embedding(input_dim = SUB_CHAPTER_SIZE, output_dim = EMBEDDING_DIM)(input_sub_chap) \n",
    "    embedding_ques = Embedding(input_dim = QUESTION_SIZE, output_dim = EMBEDDING_DIM)(input_ques)       \n",
    "    embedding_shifted = Embedding(input_dim = 3, output_dim = EMBEDDING_DIM)(input_shifted)\n",
    "    # dense layer for numeric features\n",
    "    dense_features = Dense(EMBEDDING_DIM,input_shape = (None, MAXLENGTH))(input_features)\n",
    "\n",
    "    # definr gru layers\n",
    "    gru_chap = GRU(GRU_NEURON, input_shape = (None, EMBEDDING_DIM),return_sequences = True)(embedding_chap)\n",
    "    gru_sub_chap = GRU(GRU_NEURON, input_shape = (None, EMBEDDING_DIM),return_sequences = True)(embedding_sub_chap)\n",
    "    gru_ques = GRU(GRU_NEURON, input_shape = (None, EMBEDDING_DIM),return_sequences = True)(embedding_ques)\n",
    "    gru_shif = GRU(GRU_NEURON, input_shape = (None, EMBEDDING_DIM),return_sequences = True)(embedding_shifted)\n",
    "    gru_features = GRU(GRU_NEURON, input_shape = (None, EMBEDDING_DIM),return_sequences = True)(dense_features)\n",
    "\n",
    "    gru_output = tf.concat([gru_chap, gru_sub_chap, gru_ques, gru_shif, gru_features], axis = 2)\n",
    "\n",
    "    dense1 = Dense(256, input_shape = (None, 5*EMBEDDING_DIM), activation='relu')(gru_output)\n",
    "    dropout1 = Dropout(0.1)(dense1)\n",
    "    dense2 = Dense(64, input_shape = (None, 256), activation='relu')(dropout1)\n",
    "    dropout2 = Dropout(0.1)(dense2)\n",
    "    pred = Dense(1, input_shape = (None, 64), activation='sigmoid')(dropout2)\n",
    "\n",
    "    model = tf.keras.Model(\n",
    "        inputs=[input_chap, input_sub_chap,input_ques, input_shifted, input_features],\n",
    "        outputs=pred,\n",
    "        name='gru_model'\n",
    "    )\n",
    "\n",
    "    callback = tf.keras.callbacks.EarlyStopping(monitor='val_loss', patience=10)\n",
    "    opt_adam = Adam(learning_rate = 0.005)\n",
    "    model.compile(\n",
    "        optimizer=opt_adam,\n",
    "        loss= masked_bce,\n",
    "        metrics = [masked_acc, masked_auc]\n",
    "    )\n",
    "\n",
    "    history = model.fit(\n",
    "      [train_chapter, train_sub_chapter, train_question, train_shifted_t, train_features],\n",
    "      train_labels,\n",
    "      batch_size = 64,\n",
    "      epochs = 100,\n",
    "      validation_data=([val_chapter, val_sub_chapter, val_question, val_shifted_t, val_features], val_labels),\n",
    "      callbacks=[callback]\n",
    "    )\n",
    "    val_losses.append(list(history.history['val_loss']))\n",
    "    train_losses.append(list(history.history['loss']))\n",
    "    val_aucs.append(list(history.history['val_masked_auc']))\n",
    "    train_aucs.append(list(history.history['masked_auc']))\n",
    "    train_score = model.evaluate([train_chapter, train_sub_chapter, train_question, train_shifted_t, train_features], train_labels)\n",
    "    train_eval.append(train_score)\n",
    "    test_score = model.evaluate([test_chapter, test_sub_chapter, test_question, test_shifted_t, test_features], test_labels)\n",
    "    test_eval.append(test_score)\n",
    "    print(\"Test: \", test_score)\n",
    "    def reset_weights(model):\n",
    "      for layer in model.layers: \n",
    "        if isinstance(layer, tf.keras.Model):\n",
    "          reset_weights(layer)\n",
    "          continue\n",
    "        for k, initializer in layer.__dict__.items():\n",
    "          if \"initializer\" not in k:\n",
    "            continue\n",
    "          # find the corresponding variable\n",
    "          var = getattr(layer, k.replace(\"_initializer\", \"\"))\n",
    "          var.assign(initializer(var.shape, var.dtype))\n",
    "    reset_weights(model)"
   ]
  },
  {
   "cell_type": "code",
   "execution_count": 32,
   "metadata": {
    "execution": {
     "iopub.execute_input": "2021-08-08T14:46:20.215151Z",
     "iopub.status.busy": "2021-08-08T14:46:20.214432Z",
     "iopub.status.idle": "2021-08-08T14:46:20.224356Z",
     "shell.execute_reply": "2021-08-08T14:46:20.224841Z",
     "shell.execute_reply.started": "2021-07-31T12:12:25.783012Z"
    },
    "id": "QsVmumHMz3lx",
    "outputId": "4ff1e2fa-6abb-458e-c729-495b456f53e5",
    "papermill": {
     "duration": 0.946317,
     "end_time": "2021-08-08T14:46:20.225017",
     "exception": false,
     "start_time": "2021-08-08T14:46:19.278700",
     "status": "completed"
    },
    "tags": []
   },
   "outputs": [
    {
     "name": "stdout",
     "output_type": "stream",
     "text": [
      "test avg loss:  0.4014500081539154 +/- 0.014282856637750278\n",
      "test avg acc:  0.7981449484825134 +/- 0.0013897539735808655\n",
      "test avg auc:  0.862907063961029 +/- 0.0021264705654471076\n"
     ]
    }
   ],
   "source": [
    "t_eval = np.array(test_eval)\n",
    "print(\"test avg loss: \", np.mean(t_eval[:, 0]), \"+/-\" ,np.std(t_eval[:, 0]))\n",
    "print(\"test avg acc: \", np.mean(t_eval[:, 1]),  \"+/-\" ,np.std(t_eval[:, 1]))\n",
    "print(\"test avg auc: \", np.mean(t_eval[:, 2]), \"+/-\" ,np.std(t_eval[:, 2]))"
   ]
  },
  {
   "cell_type": "code",
   "execution_count": 33,
   "metadata": {
    "execution": {
     "iopub.execute_input": "2021-08-08T14:46:22.101866Z",
     "iopub.status.busy": "2021-08-08T14:46:22.100728Z",
     "iopub.status.idle": "2021-08-08T14:46:22.106824Z",
     "shell.execute_reply": "2021-08-08T14:46:22.106128Z",
     "shell.execute_reply.started": "2021-07-31T12:12:25.794728Z"
    },
    "id": "b9MM_CXWz5K6",
    "outputId": "4cf88e1d-3a74-4e7d-f92c-d01522e91757",
    "papermill": {
     "duration": 0.946887,
     "end_time": "2021-08-08T14:46:22.106972",
     "exception": false,
     "start_time": "2021-08-08T14:46:21.160085",
     "status": "completed"
    },
    "tags": []
   },
   "outputs": [
    {
     "name": "stdout",
     "output_type": "stream",
     "text": [
      "train avg loss:  0.3456714153289795 +/- 0.007379554573322013\n",
      "train avg acc:  0.7978541016578674 +/- 0.0013914876857851343\n",
      "train avg auc:  0.8623944282531738 +/- 0.0021303184030944736\n"
     ]
    }
   ],
   "source": [
    "t_eval = np.array(train_eval)\n",
    "print(\"train avg loss: \", np.mean(t_eval[:, 0]), \"+/-\" ,np.std(t_eval[:, 0]))\n",
    "print(\"train avg acc: \", np.mean(t_eval[:, 1]),  \"+/-\" ,np.std(t_eval[:, 1]))\n",
    "print(\"train avg auc: \", np.mean(t_eval[:, 2]), \"+/-\" ,np.std(t_eval[:, 2]))"
   ]
  }
 ],
 "metadata": {
  "kernelspec": {
   "display_name": "Python 3",
   "language": "python",
   "name": "python3"
  },
  "language_info": {
   "codemirror_mode": {
    "name": "ipython",
    "version": 3
   },
   "file_extension": ".py",
   "mimetype": "text/x-python",
   "name": "python",
   "nbconvert_exporter": "python",
   "pygments_lexer": "ipython3",
   "version": "3.8.5"
  },
  "papermill": {
   "default_parameters": {},
   "duration": 1848.864411,
   "end_time": "2021-08-08T14:46:25.824533",
   "environment_variables": {},
   "exception": null,
   "input_path": "__notebook__.ipynb",
   "output_path": "__notebook__.ipynb",
   "parameters": {},
   "start_time": "2021-08-08T14:15:36.960122",
   "version": "2.3.3"
  }
 },
 "nbformat": 4,
 "nbformat_minor": 5
}
