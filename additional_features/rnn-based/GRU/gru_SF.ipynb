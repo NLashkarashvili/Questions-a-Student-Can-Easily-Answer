{
 "cells": [
  {
   "cell_type": "code",
   "execution_count": 1,
   "metadata": {
    "execution": {
     "iopub.execute_input": "2021-08-08T16:09:10.214675Z",
     "iopub.status.busy": "2021-08-08T16:09:10.214032Z",
     "iopub.status.idle": "2021-08-08T16:09:16.473333Z",
     "shell.execute_reply": "2021-08-08T16:09:16.472514Z",
     "shell.execute_reply.started": "2021-07-31T12:06:59.141322Z"
    },
    "id": "farifxiKU1aB",
    "papermill": {
     "duration": 6.302238,
     "end_time": "2021-08-08T16:09:16.473509",
     "exception": false,
     "start_time": "2021-08-08T16:09:10.171271",
     "status": "completed"
    },
    "tags": []
   },
   "outputs": [],
   "source": [
    "import numpy as np\n",
    "import pandas as pd\n",
    "import warnings\n",
    "import gc\n",
    "import tensorflow as tf\n",
    "from tensorflow import keras\n",
    "\n",
    "import random\n",
    "from random import choice\n",
    "from tensorflow.keras.optimizers import Adam\n",
    "from tensorflow.keras.models import Sequential \n",
    "from tensorflow.keras.layers import Dense, GRU, Concatenate, Embedding, Flatten, Activation, Dropout\n",
    "from sklearn.model_selection import KFold\n",
    "from tensorflow.python.client import device_lib\n",
    "warnings.filterwarnings('ignore')\n",
    "import random"
   ]
  },
  {
   "cell_type": "code",
   "execution_count": 2,
   "metadata": {
    "execution": {
     "iopub.execute_input": "2021-08-08T16:09:16.535665Z",
     "iopub.status.busy": "2021-08-08T16:09:16.535036Z",
     "iopub.status.idle": "2021-08-08T16:09:16.538060Z",
     "shell.execute_reply": "2021-08-08T16:09:16.537435Z",
     "shell.execute_reply.started": "2021-07-31T12:07:01.064697Z"
    },
    "id": "QOson70GPOXb",
    "papermill": {
     "duration": 0.035672,
     "end_time": "2021-08-08T16:09:16.538192",
     "exception": false,
     "start_time": "2021-08-08T16:09:16.502520",
     "status": "completed"
    },
    "tags": []
   },
   "outputs": [],
   "source": [
    "import gc"
   ]
  },
  {
   "cell_type": "markdown",
   "metadata": {
    "id": "BQsVybBH3VPw",
    "papermill": {
     "duration": 0.028066,
     "end_time": "2021-08-08T16:09:16.594786",
     "exception": false,
     "start_time": "2021-08-08T16:09:16.566720",
     "status": "completed"
    },
    "tags": []
   },
   "source": [
    "## Data Preprocessing"
   ]
  },
  {
   "cell_type": "code",
   "execution_count": 3,
   "metadata": {
    "execution": {
     "iopub.execute_input": "2021-08-08T16:09:16.656762Z",
     "iopub.status.busy": "2021-08-08T16:09:16.656123Z",
     "iopub.status.idle": "2021-08-08T16:09:23.179488Z",
     "shell.execute_reply": "2021-08-08T16:09:23.180063Z",
     "shell.execute_reply.started": "2021-07-31T12:07:01.071844Z"
    },
    "id": "rwtTusGxrmAE",
    "outputId": "1430f3cf-038b-485e-b5c4-c1686b1f34fd",
    "papermill": {
     "duration": 6.557092,
     "end_time": "2021-08-08T16:09:23.180238",
     "exception": false,
     "start_time": "2021-08-08T16:09:16.623146",
     "status": "completed"
    },
    "tags": []
   },
   "outputs": [
    {
     "data": {
      "text/html": [
       "<div>\n",
       "<style scoped>\n",
       "    .dataframe tbody tr th:only-of-type {\n",
       "        vertical-align: middle;\n",
       "    }\n",
       "\n",
       "    .dataframe tbody tr th {\n",
       "        vertical-align: top;\n",
       "    }\n",
       "\n",
       "    .dataframe thead th {\n",
       "        text-align: right;\n",
       "    }\n",
       "</style>\n",
       "<table border=\"1\" class=\"dataframe\">\n",
       "  <thead>\n",
       "    <tr style=\"text-align: right;\">\n",
       "      <th></th>\n",
       "      <th>Unnamed: 0</th>\n",
       "      <th>chapter_label</th>\n",
       "      <th>sub_chapter_label</th>\n",
       "      <th>question_name</th>\n",
       "      <th>user_id.x</th>\n",
       "      <th>term</th>\n",
       "      <th>STDNT_SEX_CD</th>\n",
       "      <th>NonNativeEnglish</th>\n",
       "      <th>White</th>\n",
       "      <th>Asian</th>\n",
       "      <th>...</th>\n",
       "      <th>classGraded</th>\n",
       "      <th>classHonors</th>\n",
       "      <th>Pass_Fail</th>\n",
       "      <th>parentsGraduateEdu</th>\n",
       "      <th>minorityGroup</th>\n",
       "      <th>q</th>\n",
       "      <th>day's_available_flashcards</th>\n",
       "      <th>start_practice</th>\n",
       "      <th>end_practice</th>\n",
       "      <th>days_offset</th>\n",
       "    </tr>\n",
       "  </thead>\n",
       "  <tbody>\n",
       "    <tr>\n",
       "      <th>0</th>\n",
       "      <td>1</td>\n",
       "      <td>Sort</td>\n",
       "      <td>intro-SortingwithSortandSorted</td>\n",
       "      <td>ee_sort_04</td>\n",
       "      <td>148</td>\n",
       "      <td>WN 2018</td>\n",
       "      <td>1</td>\n",
       "      <td>0</td>\n",
       "      <td>1</td>\n",
       "      <td>0</td>\n",
       "      <td>...</td>\n",
       "      <td>1</td>\n",
       "      <td>0</td>\n",
       "      <td>0</td>\n",
       "      <td>0</td>\n",
       "      <td>0</td>\n",
       "      <td>0</td>\n",
       "      <td>18</td>\n",
       "      <td>2018-03-04 20:00:19</td>\n",
       "      <td>2018-03-04 20:00:35</td>\n",
       "      <td>45</td>\n",
       "    </tr>\n",
       "    <tr>\n",
       "      <th>1</th>\n",
       "      <td>2</td>\n",
       "      <td>Functions</td>\n",
       "      <td>Returningavaluefromafunction</td>\n",
       "      <td>test_questionfunctions_2_3</td>\n",
       "      <td>148</td>\n",
       "      <td>WN 2018</td>\n",
       "      <td>1</td>\n",
       "      <td>0</td>\n",
       "      <td>1</td>\n",
       "      <td>0</td>\n",
       "      <td>...</td>\n",
       "      <td>1</td>\n",
       "      <td>0</td>\n",
       "      <td>0</td>\n",
       "      <td>0</td>\n",
       "      <td>0</td>\n",
       "      <td>4</td>\n",
       "      <td>16</td>\n",
       "      <td>2018-02-10 11:57:55</td>\n",
       "      <td>2018-02-10 11:58:35</td>\n",
       "      <td>23</td>\n",
       "    </tr>\n",
       "    <tr>\n",
       "      <th>2</th>\n",
       "      <td>3</td>\n",
       "      <td>RESTAPIs</td>\n",
       "      <td>functionswithrestapis</td>\n",
       "      <td>test_question_functions_rest_apis_1</td>\n",
       "      <td>148</td>\n",
       "      <td>WN 2018</td>\n",
       "      <td>1</td>\n",
       "      <td>0</td>\n",
       "      <td>1</td>\n",
       "      <td>0</td>\n",
       "      <td>...</td>\n",
       "      <td>1</td>\n",
       "      <td>0</td>\n",
       "      <td>0</td>\n",
       "      <td>0</td>\n",
       "      <td>0</td>\n",
       "      <td>1</td>\n",
       "      <td>2</td>\n",
       "      <td>2018-03-12 17:03:07</td>\n",
       "      <td>2018-03-12 17:04:28</td>\n",
       "      <td>53</td>\n",
       "    </tr>\n",
       "    <tr>\n",
       "      <th>3</th>\n",
       "      <td>4</td>\n",
       "      <td>SimplePythonData</td>\n",
       "      <td>FunctionCalls</td>\n",
       "      <td>exercise_functionCalls_1</td>\n",
       "      <td>148</td>\n",
       "      <td>WN 2018</td>\n",
       "      <td>1</td>\n",
       "      <td>0</td>\n",
       "      <td>1</td>\n",
       "      <td>0</td>\n",
       "      <td>...</td>\n",
       "      <td>1</td>\n",
       "      <td>0</td>\n",
       "      <td>0</td>\n",
       "      <td>0</td>\n",
       "      <td>0</td>\n",
       "      <td>0</td>\n",
       "      <td>10</td>\n",
       "      <td>2018-01-30 14:15:49</td>\n",
       "      <td>2018-01-30 14:15:58</td>\n",
       "      <td>12</td>\n",
       "    </tr>\n",
       "    <tr>\n",
       "      <th>4</th>\n",
       "      <td>5</td>\n",
       "      <td>DictionaryAccumulation</td>\n",
       "      <td>AccumulatingaMaximumValue</td>\n",
       "      <td>ps_04_07</td>\n",
       "      <td>148</td>\n",
       "      <td>WN 2018</td>\n",
       "      <td>1</td>\n",
       "      <td>0</td>\n",
       "      <td>1</td>\n",
       "      <td>0</td>\n",
       "      <td>...</td>\n",
       "      <td>1</td>\n",
       "      <td>0</td>\n",
       "      <td>0</td>\n",
       "      <td>0</td>\n",
       "      <td>0</td>\n",
       "      <td>0</td>\n",
       "      <td>23</td>\n",
       "      <td>2018-03-03 14:04:17</td>\n",
       "      <td>2018-03-03 14:04:25</td>\n",
       "      <td>44</td>\n",
       "    </tr>\n",
       "  </tbody>\n",
       "</table>\n",
       "<p>5 rows × 48 columns</p>\n",
       "</div>"
      ],
      "text/plain": [
       "   Unnamed: 0           chapter_label               sub_chapter_label  \\\n",
       "0           1                    Sort  intro-SortingwithSortandSorted   \n",
       "1           2               Functions    Returningavaluefromafunction   \n",
       "2           3                RESTAPIs           functionswithrestapis   \n",
       "3           4        SimplePythonData                   FunctionCalls   \n",
       "4           5  DictionaryAccumulation       AccumulatingaMaximumValue   \n",
       "\n",
       "                         question_name  user_id.x     term  STDNT_SEX_CD  \\\n",
       "0                           ee_sort_04        148  WN 2018             1   \n",
       "1           test_questionfunctions_2_3        148  WN 2018             1   \n",
       "2  test_question_functions_rest_apis_1        148  WN 2018             1   \n",
       "3             exercise_functionCalls_1        148  WN 2018             1   \n",
       "4                             ps_04_07        148  WN 2018             1   \n",
       "\n",
       "   NonNativeEnglish  White  Asian  ...  classGraded  classHonors  Pass_Fail  \\\n",
       "0                 0      1      0  ...            1            0          0   \n",
       "1                 0      1      0  ...            1            0          0   \n",
       "2                 0      1      0  ...            1            0          0   \n",
       "3                 0      1      0  ...            1            0          0   \n",
       "4                 0      1      0  ...            1            0          0   \n",
       "\n",
       "   parentsGraduateEdu  minorityGroup  q  day's_available_flashcards  \\\n",
       "0                   0              0  0                          18   \n",
       "1                   0              0  4                          16   \n",
       "2                   0              0  1                           2   \n",
       "3                   0              0  0                          10   \n",
       "4                   0              0  0                          23   \n",
       "\n",
       "        start_practice         end_practice  days_offset  \n",
       "0  2018-03-04 20:00:19  2018-03-04 20:00:35           45  \n",
       "1  2018-02-10 11:57:55  2018-02-10 11:58:35           23  \n",
       "2  2018-03-12 17:03:07  2018-03-12 17:04:28           53  \n",
       "3  2018-01-30 14:15:49  2018-01-30 14:15:58           12  \n",
       "4  2018-03-03 14:04:17  2018-03-03 14:04:25           44  \n",
       "\n",
       "[5 rows x 48 columns]"
      ]
     },
     "execution_count": 3,
     "metadata": {},
     "output_type": "execute_result"
    }
   ],
   "source": [
    "# load the data\n",
    "import pandas as pd\n",
    "dataframe = pd.read_csv('../input/practice-log-demographics/Practice_Log_Demographics (1).csv', low_memory=False)\n",
    "dataframe.head()"
   ]
  },
  {
   "cell_type": "code",
   "execution_count": 4,
   "metadata": {
    "execution": {
     "iopub.execute_input": "2021-08-08T16:09:23.309671Z",
     "iopub.status.busy": "2021-08-08T16:09:23.308989Z",
     "iopub.status.idle": "2021-08-08T16:09:24.990841Z",
     "shell.execute_reply": "2021-08-08T16:09:24.990185Z",
     "shell.execute_reply.started": "2021-07-31T12:07:05.649784Z"
    },
    "id": "OCbHnEp_Vir0",
    "papermill": {
     "duration": 1.779917,
     "end_time": "2021-08-08T16:09:24.990996",
     "exception": false,
     "start_time": "2021-08-08T16:09:23.211079",
     "status": "completed"
    },
    "tags": []
   },
   "outputs": [],
   "source": [
    "#sort data based on timestamp\n",
    "dataframe = dataframe.sort_values(by=['start_practice']).reset_index(drop=True)"
   ]
  },
  {
   "cell_type": "code",
   "execution_count": 5,
   "metadata": {
    "execution": {
     "iopub.execute_input": "2021-08-08T16:09:25.058448Z",
     "iopub.status.busy": "2021-08-08T16:09:25.057710Z",
     "iopub.status.idle": "2021-08-08T16:09:25.060609Z",
     "shell.execute_reply": "2021-08-08T16:09:25.060066Z",
     "shell.execute_reply.started": "2021-07-31T12:07:07.101339Z"
    },
    "id": "0RvF7BvEr98o",
    "papermill": {
     "duration": 0.039094,
     "end_time": "2021-08-08T16:09:25.060743",
     "exception": false,
     "start_time": "2021-08-08T16:09:25.021649",
     "status": "completed"
    },
    "tags": []
   },
   "outputs": [],
   "source": [
    "FEATURES = ['chapter_label', 'sub_chapter_label','question_name','user_id','term',\n",
    "            'STDNT_SEX_CD', \n",
    "            'NonNativeEnglish',\n",
    "            'White',\n",
    "            'Asian',\n",
    "            'WhiteOrAsian',\n",
    "            'Hispanic',\n",
    "            'AfricanAmerican',\n",
    "            'OtherEthnicities',\n",
    "            'NonWhiteOrAsian',\n",
    "            'STDNT_CTZN_STAT_CD', 'international', \n",
    "            'gradingType',\n",
    "            'birthYear',\n",
    "            'exclClassCumGPA',\n",
    "            'Freshman',\n",
    "            'Junior',\n",
    "            'Sophomore',\n",
    "            'Senior',\n",
    "            'termCreditsGPA',\n",
    "            'termCreditsNoGPA',\n",
    "            'athlete_1',\n",
    "            'honorsPro',\n",
    "            'LSA', 'programBusiness', 'programEngineering', \n",
    "            'programInformation', 'programOther',\n",
    "            'HSCalculusTaken', \n",
    "            'highSchoolGPA', \n",
    "            'majorsCount', 'minorsCount',\n",
    "            'PREV_TERM_CUM_GPA',\n",
    "            'classGraded', 'classHonors', \n",
    "            'Pass_Fail', \n",
    "            'parentsGraduateEdu',  'minorityGroup', \n",
    "            'q',\n",
    "            'available_flashcards', \n",
    "            'start_practice', \n",
    "            'end_practice',\n",
    "            'days_offset']"
   ]
  },
  {
   "cell_type": "code",
   "execution_count": 6,
   "metadata": {
    "execution": {
     "iopub.execute_input": "2021-08-08T16:09:25.126023Z",
     "iopub.status.busy": "2021-08-08T16:09:25.125292Z",
     "iopub.status.idle": "2021-08-08T16:09:25.661852Z",
     "shell.execute_reply": "2021-08-08T16:09:25.661242Z",
     "shell.execute_reply.started": "2021-07-31T12:07:07.109369Z"
    },
    "id": "Mn341X7lSztl",
    "papermill": {
     "duration": 0.571821,
     "end_time": "2021-08-08T16:09:25.662022",
     "exception": false,
     "start_time": "2021-08-08T16:09:25.090201",
     "status": "completed"
    },
    "tags": []
   },
   "outputs": [],
   "source": [
    "dataframe['available_flashcards'] = dataframe[\"day's_available_flashcards\"][:]\n",
    "dataframe = dataframe.drop([\"day's_available_flashcards\"], axis=1)\n",
    "dataframe['user_id'] = dataframe[\"user_id.x\"][:]\n",
    "dataframe = dataframe.drop([\"user_id.x\"], axis=1)"
   ]
  },
  {
   "cell_type": "code",
   "execution_count": 7,
   "metadata": {
    "execution": {
     "iopub.execute_input": "2021-08-08T16:09:25.912201Z",
     "iopub.status.busy": "2021-08-08T16:09:25.911141Z",
     "iopub.status.idle": "2021-08-08T16:09:25.914829Z",
     "shell.execute_reply": "2021-08-08T16:09:25.915327Z",
     "shell.execute_reply.started": "2021-07-31T12:07:07.606049Z"
    },
    "id": "-_BRggOjbBjN",
    "outputId": "42bff7db-08dd-48dc-a73a-d048508053b7",
    "papermill": {
     "duration": 0.217927,
     "end_time": "2021-08-08T16:09:25.915494",
     "exception": false,
     "start_time": "2021-08-08T16:09:25.697567",
     "status": "completed"
    },
    "tags": []
   },
   "outputs": [
    {
     "data": {
      "text/plain": [
       "102"
      ]
     },
     "execution_count": 7,
     "metadata": {},
     "output_type": "execute_result"
    }
   ],
   "source": [
    "gc.collect()"
   ]
  },
  {
   "cell_type": "code",
   "execution_count": 8,
   "metadata": {
    "execution": {
     "iopub.execute_input": "2021-08-08T16:09:25.979491Z",
     "iopub.status.busy": "2021-08-08T16:09:25.978516Z",
     "iopub.status.idle": "2021-08-08T16:09:26.274901Z",
     "shell.execute_reply": "2021-08-08T16:09:26.275397Z",
     "shell.execute_reply.started": "2021-07-31T12:07:07.764114Z"
    },
    "id": "lXM7MlonVeRL",
    "outputId": "d29ccec0-522f-4e3c-e0b2-39b2e1eaef74",
    "papermill": {
     "duration": 0.329948,
     "end_time": "2021-08-08T16:09:26.275569",
     "exception": false,
     "start_time": "2021-08-08T16:09:25.945621",
     "status": "completed"
    },
    "tags": []
   },
   "outputs": [
    {
     "data": {
      "text/plain": [
       "20"
      ]
     },
     "execution_count": 8,
     "metadata": {},
     "output_type": "execute_result"
    }
   ],
   "source": [
    "dataframe = dataframe[FEATURES]\n",
    "gc.collect()"
   ]
  },
  {
   "cell_type": "code",
   "execution_count": 9,
   "metadata": {
    "execution": {
     "iopub.execute_input": "2021-08-08T16:09:26.341565Z",
     "iopub.status.busy": "2021-08-08T16:09:26.340599Z",
     "iopub.status.idle": "2021-08-08T16:09:26.992453Z",
     "shell.execute_reply": "2021-08-08T16:09:26.993001Z",
     "shell.execute_reply.started": "2021-07-31T12:07:08.046413Z"
    },
    "id": "2WAFv5z3A6fK",
    "outputId": "e27abf84-ec3c-4b88-e1fb-927d94b41898",
    "papermill": {
     "duration": 0.68767,
     "end_time": "2021-08-08T16:09:26.993253",
     "exception": false,
     "start_time": "2021-08-08T16:09:26.305583",
     "status": "completed"
    },
    "tags": []
   },
   "outputs": [],
   "source": [
    "dataframe = dataframe.fillna(0)"
   ]
  },
  {
   "cell_type": "code",
   "execution_count": 10,
   "metadata": {
    "execution": {
     "iopub.execute_input": "2021-08-08T16:09:27.057359Z",
     "iopub.status.busy": "2021-08-08T16:09:27.056416Z",
     "iopub.status.idle": "2021-08-08T16:09:28.492232Z",
     "shell.execute_reply": "2021-08-08T16:09:28.491086Z",
     "shell.execute_reply.started": "2021-07-31T12:07:08.626441Z"
    },
    "id": "qRKqF_0IXZgj",
    "papermill": {
     "duration": 1.468852,
     "end_time": "2021-08-08T16:09:28.492399",
     "exception": false,
     "start_time": "2021-08-08T16:09:27.023547",
     "status": "completed"
    },
    "tags": []
   },
   "outputs": [],
   "source": [
    "#label encode term, chapter_label, question_name, sub_chapter_label columns\n",
    "dataframe['term'] = dataframe['term'].astype('category')\n",
    "dataframe['user_id'] = dataframe['user_id'].astype(int)\n",
    "dataframe['user_id'] = dataframe['user_id'].astype(str)\n",
    "dataframe['user_id'] = dataframe['term'].str.cat(dataframe['user_id'], sep=':')\n",
    "dataframe['user_id'] = dataframe['user_id'].astype('category')\n",
    "dataframe['chapter_label'] = dataframe['chapter_label'].astype('category')\n",
    "dataframe['sub_chapter_label'] = dataframe['sub_chapter_label'].astype('category')\n",
    "dataframe['question_name'] = dataframe['question_name'].astype('category')\n"
   ]
  },
  {
   "cell_type": "code",
   "execution_count": 11,
   "metadata": {
    "execution": {
     "iopub.execute_input": "2021-08-08T16:09:28.560210Z",
     "iopub.status.busy": "2021-08-08T16:09:28.559546Z",
     "iopub.status.idle": "2021-08-08T16:09:29.077316Z",
     "shell.execute_reply": "2021-08-08T16:09:29.077825Z",
     "shell.execute_reply.started": "2021-07-31T12:07:09.884593Z"
    },
    "id": "eVl_067GWkDe",
    "papermill": {
     "duration": 0.554711,
     "end_time": "2021-08-08T16:09:29.078034",
     "exception": false,
     "start_time": "2021-08-08T16:09:28.523323",
     "status": "completed"
    },
    "tags": []
   },
   "outputs": [],
   "source": [
    "#calculate time_lag and prev_time_elapsed\n",
    "dataframe['prev_time_elapsed'] = None\n",
    "dataframe['time_lag'] = None\n",
    "dataframe['time_lag'] = dataframe['time_lag'].astype(np.float)\n",
    "dataframe['prev_time_elapsed'] = dataframe['prev_time_elapsed'].astype(np.float)\n",
    "dataframe.start_practice = pd.to_datetime(dataframe.start_practice, format='%Y-%m-%d %H:%M:%S')\n",
    "dataframe.end_practice = pd.to_datetime(dataframe.end_practice, format='%Y-%m-%d %H:%M:%S')"
   ]
  },
  {
   "cell_type": "code",
   "execution_count": 12,
   "metadata": {
    "execution": {
     "iopub.execute_input": "2021-08-08T16:09:29.145535Z",
     "iopub.status.busy": "2021-08-08T16:09:29.144830Z",
     "iopub.status.idle": "2021-08-08T16:09:29.183428Z",
     "shell.execute_reply": "2021-08-08T16:09:29.183916Z",
     "shell.execute_reply.started": "2021-07-31T12:07:10.365002Z"
    },
    "papermill": {
     "duration": 0.075146,
     "end_time": "2021-08-08T16:09:29.184127",
     "exception": false,
     "start_time": "2021-08-08T16:09:29.108981",
     "status": "completed"
    },
    "tags": []
   },
   "outputs": [],
   "source": [
    "dataframe['dif'] = dataframe.end_practice - dataframe.start_practice\n",
    "dataframe['dif'] = dataframe['dif'] /np.timedelta64(1, 's')\n",
    "dataframe['answer_correct'] = np.where((dataframe['q']==5) & (dataframe['dif'] <= 60), 1, 0)"
   ]
  },
  {
   "cell_type": "code",
   "execution_count": 13,
   "metadata": {
    "execution": {
     "iopub.execute_input": "2021-08-08T16:09:29.248356Z",
     "iopub.status.busy": "2021-08-08T16:09:29.247642Z",
     "iopub.status.idle": "2021-08-08T16:15:29.269810Z",
     "shell.execute_reply": "2021-08-08T16:15:29.268957Z",
     "shell.execute_reply.started": "2021-07-31T12:07:10.396034Z"
    },
    "id": "Xrkcn9VhWETm",
    "outputId": "fd73f3de-5f56-42a8-9539-3f3b79a5a6e2",
    "papermill": {
     "duration": 360.055557,
     "end_time": "2021-08-08T16:15:29.270014",
     "exception": false,
     "start_time": "2021-08-08T16:09:29.214457",
     "status": "completed"
    },
    "tags": []
   },
   "outputs": [
    {
     "name": "stderr",
     "output_type": "stream",
     "text": [
      "100%|██████████| 1110/1110 [05:59<00:00,  3.08it/s]\n"
     ]
    }
   ],
   "source": [
    "unique_chapts = dataframe['chapter_label'].unique()\n",
    "from tqdm import tqdm\n",
    "cnt = 0\n",
    "for user in tqdm(dataframe['user_id'].unique()):\n",
    "        for chapter in unique_chapts:\n",
    "            tmp_user = dataframe[(dataframe['user_id']==user) & (dataframe['chapter_label']==chapter)]\n",
    "            #if user doesn't answer any question from the chapter\n",
    "            if len(tmp_user) < 1:\n",
    "                continue\n",
    "            #calculate average elapsed time before the current question\n",
    "            #from its corresponding chapter\n",
    "            tmp_time_elapsed = tmp_user.end_practice - tmp_user.start_practice\n",
    "            tmp_time_elapsed = tmp_time_elapsed / np.timedelta64(1, 's')\n",
    "            tmp_time_elapsed = np.insert(np.array(tmp_time_elapsed[:-1]), 0, 0., axis=0)\n",
    "            tmp_time_elapsed = np.cumsum(tmp_time_elapsed)\n",
    "            indices = tmp_user.index\n",
    "            start_row = indices[0]\n",
    "            dataframe['time_lag'].iloc[start_row] = 0\n",
    "            for_mean = np.arange(len(tmp_user))\n",
    "            for_mean[0] = 1\n",
    "            time_substrahend = tmp_user.start_practice.iloc[:-1]\n",
    "            time_substrahend = time_substrahend.apply(lambda a: a.timestamp())\n",
    "            time_substrahend = np.array(time_substrahend)\n",
    "            \n",
    "            time_minuend = tmp_user.start_practice.iloc[1:]\n",
    "            time_minuend = time_minuend.apply(lambda a: a.timestamp())\n",
    "            time_minuend = np.array(time_minuend)\n",
    "\n",
    "            dataframe['prev_time_elapsed'].iloc[indices] = tmp_time_elapsed/for_mean\n",
    "            #calculate difference between current and last interaction\n",
    "            #from the same chapter\n",
    "            dataframe['time_lag'].iloc[indices[1:]] = time_minuend - time_substrahend\n"
   ]
  },
  {
   "cell_type": "code",
   "execution_count": 14,
   "metadata": {
    "execution": {
     "iopub.execute_input": "2021-08-08T16:15:30.049317Z",
     "iopub.status.busy": "2021-08-08T16:15:30.048409Z",
     "iopub.status.idle": "2021-08-08T16:15:30.086611Z",
     "shell.execute_reply": "2021-08-08T16:15:30.086036Z",
     "shell.execute_reply.started": "2021-07-31T12:07:30.030169Z"
    },
    "id": "8t8yZ0XvWwzz",
    "papermill": {
     "duration": 0.456457,
     "end_time": "2021-08-08T16:15:30.086752",
     "exception": false,
     "start_time": "2021-08-08T16:15:29.630295",
     "status": "completed"
    },
    "tags": []
   },
   "outputs": [],
   "source": [
    "#drop column end_practice\n",
    "dataframe.drop(columns=['end_practice'], inplace=True)"
   ]
  },
  {
   "cell_type": "code",
   "execution_count": 15,
   "metadata": {
    "execution": {
     "iopub.execute_input": "2021-08-08T16:15:30.809722Z",
     "iopub.status.busy": "2021-08-08T16:15:30.808999Z",
     "iopub.status.idle": "2021-08-08T16:15:31.267960Z",
     "shell.execute_reply": "2021-08-08T16:15:31.267412Z",
     "shell.execute_reply.started": "2021-07-31T12:07:30.106507Z"
    },
    "id": "E42raRIrYYXz",
    "papermill": {
     "duration": 0.822735,
     "end_time": "2021-08-08T16:15:31.268104",
     "exception": false,
     "start_time": "2021-08-08T16:15:30.445369",
     "status": "completed"
    },
    "tags": []
   },
   "outputs": [],
   "source": [
    "# calculate the age feature\n",
    "dataframe['term_value'] = [int(ele[3:]) for ele in dataframe['term']]\n",
    "dataframe['age'] = dataframe['term_value'] - dataframe['birthYear']"
   ]
  },
  {
   "cell_type": "code",
   "execution_count": 16,
   "metadata": {
    "execution": {
     "iopub.execute_input": "2021-08-08T16:15:31.991396Z",
     "iopub.status.busy": "2021-08-08T16:15:31.990690Z",
     "iopub.status.idle": "2021-08-08T16:15:32.202978Z",
     "shell.execute_reply": "2021-08-08T16:15:32.202298Z",
     "shell.execute_reply.started": "2021-07-31T12:07:30.526102Z"
    },
    "id": "pcMVQXueYnMh",
    "papermill": {
     "duration": 0.57756,
     "end_time": "2021-08-08T16:15:32.203116",
     "exception": false,
     "start_time": "2021-08-08T16:15:31.625556",
     "status": "completed"
    },
    "tags": []
   },
   "outputs": [],
   "source": [
    "# drop term_value and birthYear column\n",
    "dataframe.drop(columns=['term_value', 'birthYear'], inplace=True)"
   ]
  },
  {
   "cell_type": "code",
   "execution_count": 17,
   "metadata": {
    "execution": {
     "iopub.execute_input": "2021-08-08T16:15:32.996654Z",
     "iopub.status.busy": "2021-08-08T16:15:32.991385Z",
     "iopub.status.idle": "2021-08-08T16:15:33.475482Z",
     "shell.execute_reply": "2021-08-08T16:15:33.474789Z",
     "shell.execute_reply.started": "2021-07-31T12:07:30.71914Z"
    },
    "id": "hjRF5szkcQE0",
    "papermill": {
     "duration": 0.86062,
     "end_time": "2021-08-08T16:15:33.475618",
     "exception": false,
     "start_time": "2021-08-08T16:15:32.614998",
     "status": "completed"
    },
    "tags": []
   },
   "outputs": [],
   "source": [
    "# convert minors_count to int value\n",
    "new_minors_count = []\n",
    "for i in dataframe['minorsCount']:\n",
    "  if i == 0 or i == '0':\n",
    "    new_minors_count.append(0)\n",
    "  elif i == '1 Minor':\n",
    "    new_minors_count.append(1)\n",
    "  else:\n",
    "    new_minors_count.append(2)\n",
    "\n",
    "dataframe['minorsCount'] = new_minors_count"
   ]
  },
  {
   "cell_type": "code",
   "execution_count": 18,
   "metadata": {
    "execution": {
     "iopub.execute_input": "2021-08-08T16:15:34.199180Z",
     "iopub.status.busy": "2021-08-08T16:15:34.198475Z",
     "iopub.status.idle": "2021-08-08T16:15:34.212694Z",
     "shell.execute_reply": "2021-08-08T16:15:34.211908Z",
     "shell.execute_reply.started": "2021-07-31T12:07:31.163098Z"
    },
    "id": "9VdzvJSw0KUU",
    "outputId": "6393784f-234e-4935-9cee-cbcf56b5630a",
    "papermill": {
     "duration": 0.377978,
     "end_time": "2021-08-08T16:15:34.212877",
     "exception": false,
     "start_time": "2021-08-08T16:15:33.834899",
     "status": "completed"
    },
    "tags": []
   },
   "outputs": [
    {
     "name": "stdout",
     "output_type": "stream",
     "text": [
      "we have  1110  users in total.\n"
     ]
    }
   ],
   "source": [
    "print(\"we have \", dataframe['user_id'].nunique(),\" users in total.\")"
   ]
  },
  {
   "cell_type": "code",
   "execution_count": 19,
   "metadata": {
    "execution": {
     "iopub.execute_input": "2021-08-08T16:15:34.944263Z",
     "iopub.status.busy": "2021-08-08T16:15:34.942993Z",
     "iopub.status.idle": "2021-08-08T16:15:34.949745Z",
     "shell.execute_reply": "2021-08-08T16:15:34.949171Z",
     "shell.execute_reply.started": "2021-07-31T12:07:31.18292Z"
    },
    "id": "hUaGk9L9g13t",
    "papermill": {
     "duration": 0.373154,
     "end_time": "2021-08-08T16:15:34.949879",
     "exception": false,
     "start_time": "2021-08-08T16:15:34.576725",
     "status": "completed"
    },
    "tags": []
   },
   "outputs": [],
   "source": [
    "for category in ['term','chapter_label', 'sub_chapter_label', 'question_name']:\n",
    "  dataframe[category] =  dataframe[category].cat.codes"
   ]
  },
  {
   "cell_type": "code",
   "execution_count": 20,
   "metadata": {
    "execution": {
     "iopub.execute_input": "2021-08-08T16:15:35.701637Z",
     "iopub.status.busy": "2021-08-08T16:15:35.700894Z",
     "iopub.status.idle": "2021-08-08T16:15:36.494957Z",
     "shell.execute_reply": "2021-08-08T16:15:36.494363Z",
     "shell.execute_reply.started": "2021-07-31T12:07:31.195482Z"
    },
    "id": "hkyvcYvlhliG",
    "papermill": {
     "duration": 1.183852,
     "end_time": "2021-08-08T16:15:36.495100",
     "exception": false,
     "start_time": "2021-08-08T16:15:35.311248",
     "status": "completed"
    },
    "tags": []
   },
   "outputs": [],
   "source": [
    "NUMERIC_FEATURE =  ['age',\n",
    "            'exclClassCumGPA',\n",
    "            'termCreditsGPA',\n",
    "            'termCreditsNoGPA',\n",
    "            'highSchoolGPA', \n",
    "            'majorsCount', 'minorsCount',\n",
    "            'PREV_TERM_CUM_GPA',\n",
    "            'available_flashcards', \n",
    "            'days_offset', \n",
    "            'prev_time_elapsed',\n",
    "             'time_lag']\n",
    "# z-score normalize the numerical features\n",
    "for f in NUMERIC_FEATURE:\n",
    "  m = dataframe[f].mean()\n",
    "  std = dataframe[f].std()\n",
    "  dataframe[f] = (dataframe[f] - m)/std"
   ]
  },
  {
   "cell_type": "code",
   "execution_count": 21,
   "metadata": {
    "execution": {
     "iopub.execute_input": "2021-08-08T16:15:37.233634Z",
     "iopub.status.busy": "2021-08-08T16:15:37.232891Z",
     "iopub.status.idle": "2021-08-08T16:15:40.759582Z",
     "shell.execute_reply": "2021-08-08T16:15:40.760132Z",
     "shell.execute_reply.started": "2021-07-31T12:07:31.465309Z"
    },
    "id": "wo2OH-d5kWp1",
    "papermill": {
     "duration": 3.906645,
     "end_time": "2021-08-08T16:15:40.760402",
     "exception": false,
     "start_time": "2021-08-08T16:15:36.853757",
     "status": "completed"
    },
    "tags": []
   },
   "outputs": [],
   "source": [
    "FEATURE_TRANS =  ['answer_correct', 'chapter_label', 'sub_chapter_label','question_name','user_id','term',\n",
    "                  'STDNT_SEX_CD', \n",
    "                    'White','Asian','NonWhiteOrAsian',\n",
    "            'STDNT_CTZN_STAT_CD', 'international', \n",
    "            'age',\n",
    "            'exclClassCumGPA',\n",
    "           'Freshman',\n",
    "            'Junior',\n",
    "            'Sophomore',\n",
    "            'Senior',\n",
    "            'termCreditsGPA',\n",
    "            'termCreditsNoGPA',\n",
    "            'athlete_1',\n",
    "            'honorsPro',\n",
    "            'LSA', 'programBusiness', 'programEngineering', \n",
    "            'programInformation', 'programOther',\n",
    "            'HSCalculusTaken', \n",
    "            'highSchoolGPA', \n",
    "            'majorsCount', 'minorsCount',\n",
    "            'PREV_TERM_CUM_GPA',\n",
    "            'classGraded', 'classHonors', \n",
    "            'Pass_Fail', \n",
    "            'parentsGraduateEdu',  'minorityGroup', \n",
    "            'available_flashcards', \n",
    "            'days_offset', 'prev_time_elapsed',\n",
    "             'time_lag']\n",
    "grouped_data = dataframe[FEATURE_TRANS].groupby(['user_id']).apply(lambda r: (\n",
    "                r['answer_correct'],\n",
    "                r['term'],\n",
    "                r['chapter_label'],\n",
    "                r['sub_chapter_label'],\n",
    "                r['question_name'],\n",
    "                np.array([\n",
    "                  r['STDNT_SEX_CD'],r['STDNT_CTZN_STAT_CD'], r['international'], \n",
    "                  r['White'],r['Asian'],r['NonWhiteOrAsian'],\n",
    "                 r['age'],r['exclClassCumGPA'],\n",
    "                r['Freshman'], r['Junior'], r['Sophomore'], r['Senior'],\n",
    "                r['termCreditsGPA'], r['termCreditsNoGPA'],\n",
    "                r['athlete_1'], r['honorsPro'],\n",
    "                r['LSA'], r['programBusiness'], r['programEngineering'], \n",
    "                r['programInformation'], r['programOther'],\n",
    "                r['HSCalculusTaken'],  r['highSchoolGPA'], \n",
    "                r['majorsCount'], r['minorsCount'],\n",
    "                r['PREV_TERM_CUM_GPA'], \n",
    "                r['parentsGraduateEdu'], r['minorityGroup'],\n",
    "                r['available_flashcards'],\n",
    "                r['days_offset'],\n",
    "#                 r['prev_time_elapsed'],\n",
    "#                 r['time_lag']\n",
    "              ]).transpose()\n",
    "                ))"
   ]
  },
  {
   "cell_type": "code",
   "execution_count": 22,
   "metadata": {
    "execution": {
     "iopub.execute_input": "2021-08-08T16:15:41.490123Z",
     "iopub.status.busy": "2021-08-08T16:15:41.489066Z",
     "iopub.status.idle": "2021-08-08T16:15:41.677895Z",
     "shell.execute_reply": "2021-08-08T16:15:41.678459Z",
     "shell.execute_reply.started": "2021-07-31T12:07:32.580883Z"
    },
    "id": "XXLqQnjrlp_4",
    "outputId": "c801da79-f0bf-4fe5-b19c-7c799fe01556",
    "papermill": {
     "duration": 0.553807,
     "end_time": "2021-08-08T16:15:41.678628",
     "exception": false,
     "start_time": "2021-08-08T16:15:41.124821",
     "status": "completed"
    },
    "tags": []
   },
   "outputs": [
    {
     "data": {
      "text/plain": [
       "20"
      ]
     },
     "execution_count": 22,
     "metadata": {},
     "output_type": "execute_result"
    }
   ],
   "source": [
    "gc.collect()"
   ]
  },
  {
   "cell_type": "code",
   "execution_count": 23,
   "metadata": {
    "execution": {
     "iopub.execute_input": "2021-08-08T16:15:42.403777Z",
     "iopub.status.busy": "2021-08-08T16:15:42.402813Z",
     "iopub.status.idle": "2021-08-08T16:15:42.442420Z",
     "shell.execute_reply": "2021-08-08T16:15:42.442893Z",
     "shell.execute_reply.started": "2021-07-31T12:07:32.763535Z"
    },
    "id": "QYGQasdTrmP0",
    "papermill": {
     "duration": 0.40252,
     "end_time": "2021-08-08T16:15:42.443094",
     "exception": false,
     "start_time": "2021-08-08T16:15:42.040574",
     "status": "completed"
    },
    "tags": []
   },
   "outputs": [],
   "source": [
    "# remove students who don't have make any interactions with the tool\n",
    "toRemove = []\n",
    "for index in grouped_data.index:\n",
    "  if len(grouped_data[index][0]) <= 10:\n",
    "    toRemove.append(index)\n",
    "grouped_data = grouped_data.drop(index=toRemove)"
   ]
  },
  {
   "cell_type": "code",
   "execution_count": 24,
   "metadata": {
    "execution": {
     "iopub.execute_input": "2021-08-08T16:15:43.164665Z",
     "iopub.status.busy": "2021-08-08T16:15:43.163684Z",
     "iopub.status.idle": "2021-08-08T16:15:43.182233Z",
     "shell.execute_reply": "2021-08-08T16:15:43.181461Z",
     "shell.execute_reply.started": "2021-07-31T12:07:32.802433Z"
    },
    "papermill": {
     "duration": 0.380311,
     "end_time": "2021-08-08T16:15:43.182383",
     "exception": false,
     "start_time": "2021-08-08T16:15:42.802072",
     "status": "completed"
    },
    "tags": []
   },
   "outputs": [
    {
     "data": {
      "text/plain": [
       "count    1110.000000\n",
       "mean      550.263063\n",
       "std       201.281353\n",
       "min         2.000000\n",
       "25%       438.250000\n",
       "50%       520.500000\n",
       "75%       637.750000\n",
       "max      1500.000000\n",
       "Name: start_practice, dtype: float64"
      ]
     },
     "execution_count": 24,
     "metadata": {},
     "output_type": "execute_result"
    }
   ],
   "source": [
    "dataframe.groupby('user_id')['start_practice'].agg('count').describe()"
   ]
  },
  {
   "cell_type": "code",
   "execution_count": 25,
   "metadata": {
    "execution": {
     "iopub.execute_input": "2021-08-08T16:15:43.913179Z",
     "iopub.status.busy": "2021-08-08T16:15:43.912437Z",
     "iopub.status.idle": "2021-08-08T16:15:43.915322Z",
     "shell.execute_reply": "2021-08-08T16:15:43.915859Z",
     "shell.execute_reply.started": "2021-07-31T12:07:32.821988Z"
    },
    "papermill": {
     "duration": 0.372445,
     "end_time": "2021-08-08T16:15:43.916044",
     "exception": false,
     "start_time": "2021-08-08T16:15:43.543599",
     "status": "completed"
    },
    "tags": []
   },
   "outputs": [
    {
     "data": {
      "text/plain": [
       "['FA 2018:252', 'WN 2018:295']"
      ]
     },
     "execution_count": 25,
     "metadata": {},
     "output_type": "execute_result"
    }
   ],
   "source": [
    "toRemove"
   ]
  },
  {
   "cell_type": "code",
   "execution_count": 26,
   "metadata": {
    "execution": {
     "iopub.execute_input": "2021-08-08T16:15:44.645573Z",
     "iopub.status.busy": "2021-08-08T16:15:44.644988Z",
     "iopub.status.idle": "2021-08-08T16:15:44.648240Z",
     "shell.execute_reply": "2021-08-08T16:15:44.647671Z",
     "shell.execute_reply.started": "2021-07-31T12:07:32.831612Z"
    },
    "id": "9kZqV9siDyNb",
    "papermill": {
     "duration": 0.368822,
     "end_time": "2021-08-08T16:15:44.648374",
     "exception": false,
     "start_time": "2021-08-08T16:15:44.279552",
     "status": "completed"
    },
    "tags": []
   },
   "outputs": [],
   "source": [
    "#SETTINGS -> can be modified at any time\n",
    "MAXLENGTH = 400\n",
    "EMBEDDING_DIM = 128\n",
    "DENSE_NEURON = 16\n",
    "GRU_NEURON = 32"
   ]
  },
  {
   "cell_type": "code",
   "execution_count": 27,
   "metadata": {
    "execution": {
     "iopub.execute_input": "2021-08-08T16:15:45.379099Z",
     "iopub.status.busy": "2021-08-08T16:15:45.378392Z",
     "iopub.status.idle": "2021-08-08T16:15:45.380615Z",
     "shell.execute_reply": "2021-08-08T16:15:45.380025Z",
     "shell.execute_reply.started": "2021-07-31T12:07:32.84337Z"
    },
    "id": "1MksD1JizpPn",
    "papermill": {
     "duration": 0.368945,
     "end_time": "2021-08-08T16:15:45.380747",
     "exception": false,
     "start_time": "2021-08-08T16:15:45.011802",
     "status": "completed"
    },
    "tags": []
   },
   "outputs": [],
   "source": [
    "FEATURES_SIZE = 37\n",
    "CHAPTER_SIZE = 38\n",
    "SUB_CHAPTER_SIZE = 223\n",
    "QUESTION_SIZE = 1069"
   ]
  },
  {
   "cell_type": "code",
   "execution_count": 28,
   "metadata": {
    "execution": {
     "iopub.execute_input": "2021-08-08T16:15:46.110995Z",
     "iopub.status.busy": "2021-08-08T16:15:46.110271Z",
     "iopub.status.idle": "2021-08-08T16:15:46.119834Z",
     "shell.execute_reply": "2021-08-08T16:15:46.119239Z",
     "shell.execute_reply.started": "2021-07-31T12:07:32.851249Z"
    },
    "papermill": {
     "duration": 0.379047,
     "end_time": "2021-08-08T16:15:46.119990",
     "exception": false,
     "start_time": "2021-08-08T16:15:45.740943",
     "status": "completed"
    },
    "tags": []
   },
   "outputs": [
    {
     "data": {
      "text/plain": [
       "array([ 96,  86,  88,  28,  12,  82, 125,  32,  69,  33,  21, 115, 120,\n",
       "       119,  91,  73,  57,  77, 117,  40,  74,  41,  68,  39,  92,  47,\n",
       "       104,  95,  53,  49,  50,  16,  52,  55,   7,  15,  51, 102, 103,\n",
       "        11,  94, 108, 100,  17,  67,  63,  13, 139,  26,  25,   8, 107,\n",
       "         0,  90,  48,  54, 138,   1,   2,   3,  34,  35,  85,   5,  24,\n",
       "        37,  36,  78,  70,  45, 142,  71,  10,  89, 111, 112, 109, 116,\n",
       "        76,  72, 148, 134, 146, 221, 143,  56,  60,  61,  23, 140, 106,\n",
       "        42,  83,  22, 145, 136, 144,  38,   4,  19, 137,  75,  43,  98,\n",
       "        84, 113, 173, 174, 175, 176, 177, 178, 180, 181, 182, 187, 189,\n",
       "       190, 191, 192, 193, 195, 197, 151, 152, 153, 156, 157, 158, 159,\n",
       "       160, 161, 163, 164, 165, 166, 167, 168, 169, 170, 171, 172, 198,\n",
       "       199, 200, 201, 202, 203, 204, 205, 206, 207, 208, 209, 210, 162,\n",
       "       179, 186, 188, 194, 183, 184, 185, 211, 212, 213, 154, 155, 196,\n",
       "         6, 118,  18, 215,  46, 216, 141,  27, 217, 105, 123, 218, 101,\n",
       "       124, 219, 122, 220,  58,  59,  64,  20,  93,  65,  66,   9,  44,\n",
       "        30,  14,  79, 121,  31, 110, 129,  87,  97,  62, 149, 132, 131,\n",
       "       150, 130, 128,  99, 147, 127, 214, 135,  80, 126, 133,  81, 114,\n",
       "        29], dtype=int16)"
      ]
     },
     "execution_count": 28,
     "metadata": {},
     "output_type": "execute_result"
    }
   ],
   "source": [
    "dataframe['sub_chapter_label'].unique()"
   ]
  },
  {
   "cell_type": "code",
   "execution_count": 29,
   "metadata": {
    "execution": {
     "iopub.execute_input": "2021-08-08T16:15:46.875833Z",
     "iopub.status.busy": "2021-08-08T16:15:46.875173Z",
     "iopub.status.idle": "2021-08-08T16:15:47.951233Z",
     "shell.execute_reply": "2021-08-08T16:15:47.951773Z",
     "shell.execute_reply.started": "2021-07-31T12:07:32.870313Z"
    },
    "id": "mY3Thp6d0NaT",
    "papermill": {
     "duration": 1.443141,
     "end_time": "2021-08-08T16:15:47.951989",
     "exception": false,
     "start_time": "2021-08-08T16:15:46.508848",
     "status": "completed"
    },
    "tags": []
   },
   "outputs": [],
   "source": [
    "#create dataset class\n",
    "#to prepare it for train, valid, and test sets\n",
    "from torch.utils.data import Dataset, DataLoader\n",
    "class SPACE_DATASET(Dataset):\n",
    "    def __init__(self, data, maxlength = 400):\n",
    "        super(SPACE_DATASET, self).__init__()\n",
    "        self.maxlength = maxlength\n",
    "        self.data = data\n",
    "        self.users = list()\n",
    "        for user in data.index:\n",
    "            self.users.append(user)\n",
    "\n",
    "    def __len__(self):\n",
    "        return len(self.users)\n",
    "    \n",
    "    def __getitem__(self, ix):\n",
    "        user = self.users[ix]\n",
    "        user = user\n",
    "        target, term, ch_label, sub_ch_label, ques_name, features = self.data[user]\n",
    "        \n",
    "        #0s should be used as padding values\n",
    "        ori_target = target.values \n",
    "        term = term.values\n",
    "        ch_label = ch_label.values + 1\n",
    "        sub_ch_label = sub_ch_label.values +1\n",
    "        ques_name = ques_name.values + 1\n",
    "        \n",
    "        n = len(ch_label)\n",
    "\n",
    "        # one hot for term\n",
    "        term_encode = [0]*7\n",
    "        term_encode[term[0]] = 1\n",
    "        shifted_target= []\n",
    "\n",
    "        \n",
    "        # get  user interaction informations in the previous MAXLEN interactions\n",
    "        if n > self.maxlength:\n",
    "          ch_label = ch_label[-self.maxlength:]\n",
    "          sub_ch_label = sub_ch_label[-self.maxlength:]\n",
    "          ques_name = ques_name[-self.maxlength:]\n",
    "          features = features[-self.maxlength:]\n",
    "          target = ori_target[-self.maxlength:]\n",
    "          shifted_target = ori_target[ (-self.maxlength - 1) :-1]\n",
    "        else:\n",
    "          ch_label = [0]*(self.maxlength - n)+list(ch_label[:])\n",
    "          sub_ch_label = [0]*(self.maxlength - n)+list(sub_ch_label[:])\n",
    "          ques_name = [0]*(self.maxlength - n)+list(ques_name[:])\n",
    "          features = [[0]*len(features[0])]*(self.maxlength  - n)+list(features[:])\n",
    "          target = [-1]*(self.maxlength - n) + list(ori_target[:])\n",
    "          shifted_target = [2]*(self.maxlength + 1 - n) + list(ori_target[:-1])\n",
    "\n",
    "        new_features = []\n",
    "        count = 0\n",
    "        for f in features:\n",
    "          temp = list(f)\n",
    "          temp.extend(term_encode)\n",
    "          #temp.append(shifted_target[count]) #uncomment this line for include previous response feature\n",
    "          new_features.append(temp)\n",
    "          count += 1\n",
    "        features = new_features\n",
    "        return ch_label,sub_ch_label,ques_name,features, shifted_target, target"
   ]
  },
  {
   "cell_type": "code",
   "execution_count": 30,
   "metadata": {
    "execution": {
     "iopub.execute_input": "2021-08-08T16:15:48.684701Z",
     "iopub.status.busy": "2021-08-08T16:15:48.682557Z",
     "iopub.status.idle": "2021-08-08T16:15:48.688647Z",
     "shell.execute_reply": "2021-08-08T16:15:48.688168Z",
     "shell.execute_reply.started": "2021-07-31T12:07:33.249192Z"
    },
    "papermill": {
     "duration": 0.373851,
     "end_time": "2021-08-08T16:15:48.688779",
     "exception": false,
     "start_time": "2021-08-08T16:15:48.314928",
     "status": "completed"
    },
    "tags": []
   },
   "outputs": [
    {
     "data": {
      "text/plain": [
       "223"
      ]
     },
     "execution_count": 30,
     "metadata": {},
     "output_type": "execute_result"
    }
   ],
   "source": [
    "SUB_CHAPTER_SIZE"
   ]
  },
  {
   "cell_type": "markdown",
   "metadata": {
    "id": "4xc90-aLzxat",
    "papermill": {
     "duration": 0.361998,
     "end_time": "2021-08-08T16:15:49.412850",
     "exception": false,
     "start_time": "2021-08-08T16:15:49.050852",
     "status": "completed"
    },
    "tags": []
   },
   "source": [
    "## KFOLD - GRU\n"
   ]
  },
  {
   "cell_type": "code",
   "execution_count": 31,
   "metadata": {
    "execution": {
     "iopub.execute_input": "2021-08-08T16:15:50.175787Z",
     "iopub.status.busy": "2021-08-08T16:15:50.174713Z",
     "iopub.status.idle": "2021-08-08T16:32:27.823865Z",
     "shell.execute_reply": "2021-08-08T16:32:27.823306Z",
     "shell.execute_reply.started": "2021-07-31T12:07:33.257302Z"
    },
    "id": "gzJrljnjzypP",
    "outputId": "87abe488-b493-4f8f-9d71-45cb1d2ddf51",
    "papermill": {
     "duration": 998.051127,
     "end_time": "2021-08-08T16:32:27.824034",
     "exception": false,
     "start_time": "2021-08-08T16:15:49.772907",
     "status": "completed"
    },
    "tags": []
   },
   "outputs": [
    {
     "name": "stdout",
     "output_type": "stream",
     "text": [
      "Epoch 1/100\n",
      "14/14 [==============================] - 19s 868ms/step - loss: 0.5785 - masked_acc: 0.6154 - masked_auc: 0.5418 - val_loss: 0.4633 - val_masked_acc: 0.7133 - val_masked_auc: 0.6871\n",
      "Epoch 2/100\n",
      "14/14 [==============================] - 9s 669ms/step - loss: 0.4624 - masked_acc: 0.7234 - masked_auc: 0.7148 - val_loss: 0.4311 - val_masked_acc: 0.7409 - val_masked_auc: 0.7542\n",
      "Epoch 3/100\n",
      "14/14 [==============================] - 9s 647ms/step - loss: 0.4444 - masked_acc: 0.7436 - masked_auc: 0.7631 - val_loss: 0.4247 - val_masked_acc: 0.7512 - val_masked_auc: 0.7791\n",
      "Epoch 4/100\n",
      "14/14 [==============================] - 9s 660ms/step - loss: 0.4277 - masked_acc: 0.7532 - masked_auc: 0.7840 - val_loss: 0.4232 - val_masked_acc: 0.7573 - val_masked_auc: 0.7923\n",
      "Epoch 5/100\n",
      "14/14 [==============================] - 10s 690ms/step - loss: 0.4244 - masked_acc: 0.7585 - masked_auc: 0.7952 - val_loss: 0.4267 - val_masked_acc: 0.7611 - val_masked_auc: 0.8006\n",
      "Epoch 6/100\n",
      "14/14 [==============================] - 9s 656ms/step - loss: 0.4267 - masked_acc: 0.7617 - masked_auc: 0.8023 - val_loss: 0.4201 - val_masked_acc: 0.7642 - val_masked_auc: 0.8066\n",
      "Epoch 7/100\n",
      "14/14 [==============================] - 9s 656ms/step - loss: 0.4176 - masked_acc: 0.7647 - masked_auc: 0.8082 - val_loss: 0.4243 - val_masked_acc: 0.7666 - val_masked_auc: 0.8114\n",
      "Epoch 8/100\n",
      "14/14 [==============================] - 9s 654ms/step - loss: 0.4117 - masked_acc: 0.7672 - masked_auc: 0.8127 - val_loss: 0.4202 - val_masked_acc: 0.7686 - val_masked_auc: 0.8152\n",
      "Epoch 9/100\n",
      "14/14 [==============================] - 9s 680ms/step - loss: 0.4100 - masked_acc: 0.7691 - masked_auc: 0.8164 - val_loss: 0.4282 - val_masked_acc: 0.7703 - val_masked_auc: 0.8183\n",
      "Epoch 10/100\n",
      "14/14 [==============================] - 9s 659ms/step - loss: 0.4104 - masked_acc: 0.7706 - masked_auc: 0.8191 - val_loss: 0.4220 - val_masked_acc: 0.7718 - val_masked_auc: 0.8212\n",
      "Epoch 11/100\n",
      "14/14 [==============================] - 9s 651ms/step - loss: 0.3992 - masked_acc: 0.7722 - masked_auc: 0.8220 - val_loss: 0.4212 - val_masked_acc: 0.7732 - val_masked_auc: 0.8238\n",
      "Epoch 12/100\n",
      "14/14 [==============================] - 9s 657ms/step - loss: 0.4002 - masked_acc: 0.7736 - masked_auc: 0.8245 - val_loss: 0.4206 - val_masked_acc: 0.7747 - val_masked_auc: 0.8262\n",
      "Epoch 13/100\n",
      "14/14 [==============================] - 9s 673ms/step - loss: 0.3997 - masked_acc: 0.7750 - masked_auc: 0.8269 - val_loss: 0.4212 - val_masked_acc: 0.7759 - val_masked_auc: 0.8284\n",
      "Epoch 14/100\n",
      "14/14 [==============================] - 9s 661ms/step - loss: 0.3944 - masked_acc: 0.7762 - masked_auc: 0.8291 - val_loss: 0.4227 - val_masked_acc: 0.7772 - val_masked_auc: 0.8305\n",
      "Epoch 15/100\n",
      "14/14 [==============================] - 9s 667ms/step - loss: 0.3912 - masked_acc: 0.7775 - masked_auc: 0.8311 - val_loss: 0.4244 - val_masked_acc: 0.7782 - val_masked_auc: 0.8322\n",
      "Epoch 16/100\n",
      "14/14 [==============================] - 9s 642ms/step - loss: 0.3924 - masked_acc: 0.7784 - masked_auc: 0.8327 - val_loss: 0.4295 - val_masked_acc: 0.7793 - val_masked_auc: 0.8339\n",
      "28/28 [==============================] - 3s 99ms/step - loss: 0.3842 - masked_acc: 0.7801 - masked_auc: 0.8351\n",
      "4/4 [==============================] - 0s 94ms/step - loss: 0.4433 - masked_acc: 0.7803 - masked_auc: 0.8358\n",
      "Test:  [0.44334232807159424, 0.7803321480751038, 0.8357957601547241]\n",
      "Epoch 1/100\n",
      "14/14 [==============================] - 18s 816ms/step - loss: 0.5766 - masked_acc: 0.6294 - masked_auc: 0.5609 - val_loss: 0.4749 - val_masked_acc: 0.7159 - val_masked_auc: 0.6961\n",
      "Epoch 2/100\n",
      "14/14 [==============================] - 14s 1s/step - loss: 0.4581 - masked_acc: 0.7252 - masked_auc: 0.7222 - val_loss: 0.4518 - val_masked_acc: 0.7425 - val_masked_auc: 0.7597\n",
      "Epoch 3/100\n",
      "14/14 [==============================] - 10s 681ms/step - loss: 0.4392 - masked_acc: 0.7452 - masked_auc: 0.7677 - val_loss: 0.4430 - val_masked_acc: 0.7525 - val_masked_auc: 0.7828\n",
      "Epoch 4/100\n",
      "14/14 [==============================] - 9s 665ms/step - loss: 0.4245 - masked_acc: 0.7539 - masked_auc: 0.7870 - val_loss: 0.4393 - val_masked_acc: 0.7580 - val_masked_auc: 0.7952\n",
      "Epoch 5/100\n",
      "14/14 [==============================] - 9s 667ms/step - loss: 0.4225 - masked_acc: 0.7590 - masked_auc: 0.7979 - val_loss: 0.4383 - val_masked_acc: 0.7617 - val_masked_auc: 0.8031\n",
      "Epoch 6/100\n",
      "14/14 [==============================] - 10s 672ms/step - loss: 0.4231 - masked_acc: 0.7623 - masked_auc: 0.8049 - val_loss: 0.4381 - val_masked_acc: 0.7647 - val_masked_auc: 0.8089\n",
      "Epoch 7/100\n",
      "14/14 [==============================] - 9s 652ms/step - loss: 0.4162 - masked_acc: 0.7653 - masked_auc: 0.8103 - val_loss: 0.4378 - val_masked_acc: 0.7672 - val_masked_auc: 0.8135\n",
      "Epoch 8/100\n",
      "14/14 [==============================] - 9s 659ms/step - loss: 0.4114 - masked_acc: 0.7676 - masked_auc: 0.8147 - val_loss: 0.4362 - val_masked_acc: 0.7690 - val_masked_auc: 0.8171\n",
      "Epoch 9/100\n",
      "14/14 [==============================] - 10s 702ms/step - loss: 0.4079 - masked_acc: 0.7695 - masked_auc: 0.8180 - val_loss: 0.4390 - val_masked_acc: 0.7707 - val_masked_auc: 0.8200\n",
      "Epoch 10/100\n",
      "14/14 [==============================] - 10s 693ms/step - loss: 0.4042 - masked_acc: 0.7710 - masked_auc: 0.8209 - val_loss: 0.4363 - val_masked_acc: 0.7722 - val_masked_auc: 0.8229\n",
      "Epoch 11/100\n",
      "14/14 [==============================] - 9s 655ms/step - loss: 0.4022 - masked_acc: 0.7725 - masked_auc: 0.8237 - val_loss: 0.4376 - val_masked_acc: 0.7735 - val_masked_auc: 0.8253\n",
      "Epoch 12/100\n",
      "14/14 [==============================] - 9s 673ms/step - loss: 0.4029 - masked_acc: 0.7738 - masked_auc: 0.8260 - val_loss: 0.4373 - val_masked_acc: 0.7749 - val_masked_auc: 0.8275\n",
      "Epoch 13/100\n",
      "14/14 [==============================] - 10s 711ms/step - loss: 0.4008 - masked_acc: 0.7751 - masked_auc: 0.8281 - val_loss: 0.4395 - val_masked_acc: 0.7760 - val_masked_auc: 0.8295\n",
      "Epoch 14/100\n",
      "14/14 [==============================] - 9s 671ms/step - loss: 0.3956 - masked_acc: 0.7764 - masked_auc: 0.8302 - val_loss: 0.4414 - val_masked_acc: 0.7772 - val_masked_auc: 0.8314\n",
      "Epoch 15/100\n",
      "14/14 [==============================] - 9s 655ms/step - loss: 0.3891 - masked_acc: 0.7775 - masked_auc: 0.8321 - val_loss: 0.4425 - val_masked_acc: 0.7784 - val_masked_auc: 0.8334\n",
      "Epoch 16/100\n",
      "14/14 [==============================] - 9s 668ms/step - loss: 0.3866 - masked_acc: 0.7787 - masked_auc: 0.8341 - val_loss: 0.4408 - val_masked_acc: 0.7796 - val_masked_auc: 0.8353\n",
      "Epoch 17/100\n",
      "14/14 [==============================] - 10s 686ms/step - loss: 0.3849 - masked_acc: 0.7798 - masked_auc: 0.8358 - val_loss: 0.4474 - val_masked_acc: 0.7807 - val_masked_auc: 0.8371\n",
      "Epoch 18/100\n",
      "14/14 [==============================] - 9s 650ms/step - loss: 0.3735 - masked_acc: 0.7810 - masked_auc: 0.8377 - val_loss: 0.4445 - val_masked_acc: 0.7818 - val_masked_auc: 0.8389\n",
      "28/28 [==============================] - 3s 103ms/step - loss: 0.3704 - masked_acc: 0.7827 - masked_auc: 0.8400\n",
      "4/4 [==============================] - 0s 94ms/step - loss: 0.4309 - masked_acc: 0.7830 - masked_auc: 0.8408\n",
      "Test:  [0.4308803081512451, 0.7830314636230469, 0.840764582157135]\n",
      "Epoch 1/100\n",
      "14/14 [==============================] - 18s 827ms/step - loss: 0.5939 - masked_acc: 0.5554 - masked_auc: 0.5204 - val_loss: 0.4843 - val_masked_acc: 0.6957 - val_masked_auc: 0.6502\n",
      "Epoch 2/100\n",
      "14/14 [==============================] - 9s 661ms/step - loss: 0.4638 - masked_acc: 0.7086 - masked_auc: 0.6866 - val_loss: 0.4479 - val_masked_acc: 0.7313 - val_masked_auc: 0.7383\n",
      "Epoch 3/100\n",
      "14/14 [==============================] - 9s 670ms/step - loss: 0.4369 - masked_acc: 0.7361 - masked_auc: 0.7494 - val_loss: 0.4391 - val_masked_acc: 0.7450 - val_masked_auc: 0.7690\n",
      "Epoch 4/100\n",
      "14/14 [==============================] - 9s 665ms/step - loss: 0.4314 - masked_acc: 0.7474 - masked_auc: 0.7746 - val_loss: 0.4344 - val_masked_acc: 0.7526 - val_masked_auc: 0.7852\n",
      "Epoch 5/100\n",
      "14/14 [==============================] - 10s 696ms/step - loss: 0.4210 - masked_acc: 0.7543 - masked_auc: 0.7888 - val_loss: 0.4335 - val_masked_acc: 0.7575 - val_masked_auc: 0.7955\n",
      "Epoch 6/100\n",
      "14/14 [==============================] - 9s 677ms/step - loss: 0.4217 - masked_acc: 0.7586 - masked_auc: 0.7981 - val_loss: 0.4323 - val_masked_acc: 0.7611 - val_masked_auc: 0.8028\n",
      "Epoch 7/100\n",
      "14/14 [==============================] - 9s 658ms/step - loss: 0.4197 - masked_acc: 0.7618 - masked_auc: 0.8045 - val_loss: 0.4300 - val_masked_acc: 0.7639 - val_masked_auc: 0.8082\n",
      "Epoch 8/100\n",
      "14/14 [==============================] - 9s 667ms/step - loss: 0.4187 - masked_acc: 0.7645 - masked_auc: 0.8096 - val_loss: 0.4295 - val_masked_acc: 0.7662 - val_masked_auc: 0.8124\n",
      "Epoch 9/100\n",
      "14/14 [==============================] - 10s 684ms/step - loss: 0.4011 - masked_acc: 0.7669 - masked_auc: 0.8135 - val_loss: 0.4287 - val_masked_acc: 0.7682 - val_masked_auc: 0.8159\n",
      "Epoch 10/100\n",
      "14/14 [==============================] - 9s 662ms/step - loss: 0.4112 - masked_acc: 0.7686 - masked_auc: 0.8169 - val_loss: 0.4258 - val_masked_acc: 0.7699 - val_masked_auc: 0.8190\n",
      "Epoch 11/100\n",
      "14/14 [==============================] - 9s 645ms/step - loss: 0.3975 - masked_acc: 0.7705 - masked_auc: 0.8199 - val_loss: 0.4274 - val_masked_acc: 0.7714 - val_masked_auc: 0.8217\n",
      "Epoch 12/100\n",
      "14/14 [==============================] - 9s 650ms/step - loss: 0.3992 - masked_acc: 0.7719 - masked_auc: 0.8226 - val_loss: 0.4247 - val_masked_acc: 0.7728 - val_masked_auc: 0.8242\n",
      "Epoch 13/100\n",
      "14/14 [==============================] - 10s 682ms/step - loss: 0.3986 - masked_acc: 0.7732 - masked_auc: 0.8249 - val_loss: 0.4263 - val_masked_acc: 0.7742 - val_masked_auc: 0.8265\n",
      "Epoch 14/100\n",
      "14/14 [==============================] - 9s 669ms/step - loss: 0.4019 - masked_acc: 0.7745 - masked_auc: 0.8271 - val_loss: 0.4331 - val_masked_acc: 0.7753 - val_masked_auc: 0.8284\n",
      "Epoch 15/100\n",
      "14/14 [==============================] - 9s 644ms/step - loss: 0.3999 - masked_acc: 0.7757 - masked_auc: 0.8289 - val_loss: 0.4316 - val_masked_acc: 0.7764 - val_masked_auc: 0.8301\n",
      "Epoch 16/100\n",
      "14/14 [==============================] - 10s 686ms/step - loss: 0.3884 - masked_acc: 0.7768 - masked_auc: 0.8307 - val_loss: 0.4270 - val_masked_acc: 0.7775 - val_masked_auc: 0.8320\n",
      "Epoch 17/100\n",
      "14/14 [==============================] - 10s 700ms/step - loss: 0.3858 - masked_acc: 0.7779 - masked_auc: 0.8326 - val_loss: 0.4296 - val_masked_acc: 0.7786 - val_masked_auc: 0.8338\n",
      "Epoch 18/100\n",
      "14/14 [==============================] - 9s 674ms/step - loss: 0.3857 - masked_acc: 0.7789 - masked_auc: 0.8343 - val_loss: 0.4288 - val_masked_acc: 0.7797 - val_masked_auc: 0.8355\n",
      "Epoch 19/100\n",
      "14/14 [==============================] - 9s 659ms/step - loss: 0.3796 - masked_acc: 0.7800 - masked_auc: 0.8361 - val_loss: 0.4326 - val_masked_acc: 0.7807 - val_masked_auc: 0.8372\n",
      "Epoch 20/100\n",
      "14/14 [==============================] - 9s 672ms/step - loss: 0.3744 - masked_acc: 0.7810 - masked_auc: 0.8377 - val_loss: 0.4284 - val_masked_acc: 0.7817 - val_masked_auc: 0.8388\n",
      "Epoch 21/100\n",
      "14/14 [==============================] - 9s 649ms/step - loss: 0.3739 - masked_acc: 0.7820 - masked_auc: 0.8393 - val_loss: 0.4307 - val_masked_acc: 0.7827 - val_masked_auc: 0.8404\n",
      "Epoch 22/100\n",
      "14/14 [==============================] - 9s 668ms/step - loss: 0.3763 - masked_acc: 0.7829 - masked_auc: 0.8408 - val_loss: 0.4353 - val_masked_acc: 0.7837 - val_masked_auc: 0.8420\n",
      "28/28 [==============================] - 3s 102ms/step - loss: 0.3630 - masked_acc: 0.7845 - masked_auc: 0.8430\n",
      "4/4 [==============================] - 0s 90ms/step - loss: 0.4323 - masked_acc: 0.7848 - masked_auc: 0.8436\n",
      "Test:  [0.43233180046081543, 0.7848477959632874, 0.8436480164527893]\n",
      "Epoch 1/100\n",
      "14/14 [==============================] - 19s 847ms/step - loss: 0.5724 - masked_acc: 0.6757 - masked_auc: 0.5508 - val_loss: 0.4809 - val_masked_acc: 0.7194 - val_masked_auc: 0.7025\n",
      "Epoch 2/100\n",
      "14/14 [==============================] - 9s 678ms/step - loss: 0.4483 - masked_acc: 0.7290 - masked_auc: 0.7290 - val_loss: 0.4587 - val_masked_acc: 0.7438 - val_masked_auc: 0.7639\n",
      "Epoch 3/100\n",
      "14/14 [==============================] - 10s 685ms/step - loss: 0.4321 - masked_acc: 0.7470 - masked_auc: 0.7721 - val_loss: 0.4585 - val_masked_acc: 0.7529 - val_masked_auc: 0.7851\n",
      "Epoch 4/100\n",
      "14/14 [==============================] - 9s 649ms/step - loss: 0.4304 - masked_acc: 0.7543 - masked_auc: 0.7889 - val_loss: 0.4541 - val_masked_acc: 0.7579 - val_masked_auc: 0.7962\n",
      "Epoch 5/100\n",
      "14/14 [==============================] - 9s 682ms/step - loss: 0.4266 - masked_acc: 0.7590 - masked_auc: 0.7989 - val_loss: 0.4502 - val_masked_acc: 0.7615 - val_masked_auc: 0.8034\n",
      "Epoch 6/100\n",
      "14/14 [==============================] - 10s 685ms/step - loss: 0.4245 - masked_acc: 0.7622 - masked_auc: 0.8053 - val_loss: 0.4501 - val_masked_acc: 0.7643 - val_masked_auc: 0.8089\n",
      "Epoch 7/100\n",
      "14/14 [==============================] - 9s 655ms/step - loss: 0.4136 - masked_acc: 0.7651 - masked_auc: 0.8105 - val_loss: 0.4530 - val_masked_acc: 0.7665 - val_masked_auc: 0.8133\n",
      "Epoch 8/100\n",
      "14/14 [==============================] - 10s 680ms/step - loss: 0.4137 - masked_acc: 0.7669 - masked_auc: 0.8144 - val_loss: 0.4471 - val_masked_acc: 0.7682 - val_masked_auc: 0.8167\n",
      "Epoch 9/100\n",
      "14/14 [==============================] - 9s 657ms/step - loss: 0.4149 - masked_acc: 0.7686 - masked_auc: 0.8175 - val_loss: 0.4468 - val_masked_acc: 0.7697 - val_masked_auc: 0.8195\n",
      "Epoch 10/100\n",
      "14/14 [==============================] - 10s 678ms/step - loss: 0.4052 - masked_acc: 0.7701 - masked_auc: 0.8203 - val_loss: 0.4503 - val_masked_acc: 0.7712 - val_masked_auc: 0.8220\n",
      "Epoch 11/100\n",
      "14/14 [==============================] - 9s 667ms/step - loss: 0.4075 - masked_acc: 0.7716 - masked_auc: 0.8228 - val_loss: 0.4476 - val_masked_acc: 0.7726 - val_masked_auc: 0.8244\n",
      "Epoch 12/100\n",
      "14/14 [==============================] - 10s 690ms/step - loss: 0.3924 - masked_acc: 0.7731 - masked_auc: 0.8253 - val_loss: 0.4423 - val_masked_acc: 0.7739 - val_masked_auc: 0.8267\n",
      "Epoch 13/100\n",
      "14/14 [==============================] - 10s 687ms/step - loss: 0.3989 - masked_acc: 0.7743 - masked_auc: 0.8274 - val_loss: 0.4453 - val_masked_acc: 0.7751 - val_masked_auc: 0.8288\n",
      "Epoch 14/100\n",
      "14/14 [==============================] - 9s 656ms/step - loss: 0.3962 - masked_acc: 0.7754 - masked_auc: 0.8295 - val_loss: 0.4457 - val_masked_acc: 0.7762 - val_masked_auc: 0.8308\n",
      "Epoch 15/100\n",
      "14/14 [==============================] - 9s 675ms/step - loss: 0.3894 - masked_acc: 0.7766 - masked_auc: 0.8314 - val_loss: 0.4505 - val_masked_acc: 0.7773 - val_masked_auc: 0.8326\n",
      "Epoch 16/100\n",
      "14/14 [==============================] - 9s 668ms/step - loss: 0.3872 - masked_acc: 0.7776 - masked_auc: 0.8331 - val_loss: 0.4463 - val_masked_acc: 0.7783 - val_masked_auc: 0.8342\n",
      "Epoch 17/100\n",
      "14/14 [==============================] - 9s 651ms/step - loss: 0.3861 - masked_acc: 0.7786 - masked_auc: 0.8347 - val_loss: 0.4470 - val_masked_acc: 0.7792 - val_masked_auc: 0.8357\n",
      "Epoch 18/100\n",
      "14/14 [==============================] - 9s 661ms/step - loss: 0.3839 - masked_acc: 0.7795 - masked_auc: 0.8363 - val_loss: 0.4471 - val_masked_acc: 0.7802 - val_masked_auc: 0.8374\n",
      "Epoch 19/100\n",
      "14/14 [==============================] - 10s 700ms/step - loss: 0.3769 - masked_acc: 0.7806 - masked_auc: 0.8379 - val_loss: 0.4531 - val_masked_acc: 0.7813 - val_masked_auc: 0.8390\n",
      "Epoch 20/100\n",
      "14/14 [==============================] - 10s 686ms/step - loss: 0.3732 - masked_acc: 0.7816 - masked_auc: 0.8395 - val_loss: 0.4531 - val_masked_acc: 0.7823 - val_masked_auc: 0.8405\n",
      "Epoch 21/100\n",
      "14/14 [==============================] - 9s 666ms/step - loss: 0.3686 - masked_acc: 0.7826 - masked_auc: 0.8410 - val_loss: 0.4516 - val_masked_acc: 0.7833 - val_masked_auc: 0.8420\n",
      "Epoch 22/100\n",
      "14/14 [==============================] - 9s 670ms/step - loss: 0.3661 - masked_acc: 0.7836 - masked_auc: 0.8425 - val_loss: 0.4608 - val_masked_acc: 0.7843 - val_masked_auc: 0.8435\n",
      "28/28 [==============================] - 3s 104ms/step - loss: 0.3610 - masked_acc: 0.7851 - masked_auc: 0.8445\n",
      "4/4 [==============================] - 0s 90ms/step - loss: 0.4207 - masked_acc: 0.7855 - masked_auc: 0.8452\n",
      "Test:  [0.4206904470920563, 0.7854616641998291, 0.8452360033988953]\n",
      "Epoch 1/100\n",
      "14/14 [==============================] - 18s 803ms/step - loss: 0.5619 - masked_acc: 0.7115 - masked_auc: 0.5482 - val_loss: 0.4885 - val_masked_acc: 0.7229 - val_masked_auc: 0.7048\n",
      "Epoch 2/100\n",
      "14/14 [==============================] - 9s 643ms/step - loss: 0.4537 - masked_acc: 0.7295 - masked_auc: 0.7286 - val_loss: 0.4572 - val_masked_acc: 0.7433 - val_masked_auc: 0.7629\n",
      "Epoch 3/100\n",
      "14/14 [==============================] - 10s 701ms/step - loss: 0.4309 - masked_acc: 0.7469 - masked_auc: 0.7701 - val_loss: 0.4521 - val_masked_acc: 0.7527 - val_masked_auc: 0.7839\n",
      "Epoch 4/100\n",
      "14/14 [==============================] - 9s 655ms/step - loss: 0.4312 - masked_acc: 0.7542 - masked_auc: 0.7879 - val_loss: 0.4525 - val_masked_acc: 0.7577 - val_masked_auc: 0.7955\n",
      "Epoch 5/100\n",
      "14/14 [==============================] - 9s 645ms/step - loss: 0.4283 - masked_acc: 0.7585 - masked_auc: 0.7978 - val_loss: 0.4494 - val_masked_acc: 0.7612 - val_masked_auc: 0.8028\n",
      "Epoch 6/100\n",
      "14/14 [==============================] - 9s 669ms/step - loss: 0.4261 - masked_acc: 0.7618 - masked_auc: 0.8044 - val_loss: 0.4458 - val_masked_acc: 0.7639 - val_masked_auc: 0.8082\n",
      "Epoch 7/100\n",
      "14/14 [==============================] - 9s 675ms/step - loss: 0.4081 - masked_acc: 0.7647 - masked_auc: 0.8098 - val_loss: 0.4491 - val_masked_acc: 0.7661 - val_masked_auc: 0.8126\n",
      "Epoch 8/100\n",
      "14/14 [==============================] - 9s 651ms/step - loss: 0.4157 - masked_acc: 0.7665 - masked_auc: 0.8136 - val_loss: 0.4483 - val_masked_acc: 0.7680 - val_masked_auc: 0.8163\n",
      "Epoch 9/100\n",
      "14/14 [==============================] - 9s 650ms/step - loss: 0.4105 - masked_acc: 0.7684 - masked_auc: 0.8174 - val_loss: 0.4531 - val_masked_acc: 0.7695 - val_masked_auc: 0.8193\n",
      "Epoch 10/100\n",
      "14/14 [==============================] - 9s 679ms/step - loss: 0.4012 - masked_acc: 0.7699 - masked_auc: 0.8202 - val_loss: 0.4528 - val_masked_acc: 0.7710 - val_masked_auc: 0.8221\n",
      "Epoch 11/100\n",
      "14/14 [==============================] - 9s 678ms/step - loss: 0.3991 - masked_acc: 0.7715 - masked_auc: 0.8229 - val_loss: 0.4490 - val_masked_acc: 0.7724 - val_masked_auc: 0.8245\n",
      "Epoch 12/100\n",
      "14/14 [==============================] - 9s 657ms/step - loss: 0.3965 - masked_acc: 0.7729 - masked_auc: 0.8254 - val_loss: 0.4515 - val_masked_acc: 0.7737 - val_masked_auc: 0.8269\n",
      "Epoch 13/100\n",
      "14/14 [==============================] - 9s 676ms/step - loss: 0.3943 - masked_acc: 0.7741 - masked_auc: 0.8276 - val_loss: 0.4500 - val_masked_acc: 0.7751 - val_masked_auc: 0.8292\n",
      "Epoch 14/100\n",
      "14/14 [==============================] - 9s 650ms/step - loss: 0.3932 - masked_acc: 0.7755 - masked_auc: 0.8299 - val_loss: 0.4489 - val_masked_acc: 0.7763 - val_masked_auc: 0.8313\n",
      "Epoch 15/100\n",
      "14/14 [==============================] - 9s 667ms/step - loss: 0.3856 - masked_acc: 0.7767 - masked_auc: 0.8319 - val_loss: 0.4591 - val_masked_acc: 0.7775 - val_masked_auc: 0.8332\n",
      "Epoch 16/100\n",
      "14/14 [==============================] - 9s 651ms/step - loss: 0.3891 - masked_acc: 0.7779 - masked_auc: 0.8337 - val_loss: 0.4559 - val_masked_acc: 0.7787 - val_masked_auc: 0.8350\n",
      "28/28 [==============================] - 3s 114ms/step - loss: 0.3810 - masked_acc: 0.7795 - masked_auc: 0.8362\n",
      "4/4 [==============================] - 0s 93ms/step - loss: 0.4173 - masked_acc: 0.7798 - masked_auc: 0.8369\n",
      "Test:  [0.41726964712142944, 0.7798348665237427, 0.8369074463844299]\n"
     ]
    }
   ],
   "source": [
    "# 5 fold cross validation with GRU-based model\n",
    "import torch\n",
    "X = np.array(grouped_data.keys())\n",
    "kfold = KFold(n_splits=5, shuffle=True)\n",
    "train_losses = list()\n",
    "train_aucs = list()\n",
    "val_losses = list()\n",
    "val_aucs = list()\n",
    "train_eval = list()\n",
    "test_eval = list()\n",
    "for train, test in kfold.split(X):\n",
    "    users_train, users_test =  X[train], X[test]\n",
    "    n = len(users_test)//2\n",
    "    users_test, users_val = users_test[:n], users_test[n: ]\n",
    "    train_data_space = SPACE_DATASET(grouped_data[users_train], MAXLENGTH)\n",
    "    val_data_space = SPACE_DATASET(grouped_data[users_val], MAXLENGTH)\n",
    "    test_data_space = SPACE_DATASET(grouped_data[users_test], MAXLENGTH)\n",
    "    #construct training input\n",
    "    train_chapter=[]\n",
    "    train_sub_chapter=[]\n",
    "    train_question = []\n",
    "    train_features=[]\n",
    "    #train_shifted_t = []\n",
    "    train_labels=[]\n",
    "    for i in range(len(users_train)):\n",
    "        user = train_data_space.__getitem__(i)\n",
    "        train_chapter.append(user[0])\n",
    "        train_sub_chapter.append(user[1]) \n",
    "        train_question.append(user[2])\n",
    "        train_features.append(user[3])\n",
    "        #train_shifted_t.append(user[4])\n",
    "        train_labels.append(user[5])\n",
    "    train_chapter = np.array(train_chapter)\n",
    "    train_sub_chapter = np.array(train_sub_chapter)\n",
    "    train_question = np.array(train_question)\n",
    "    train_features = np.array(train_features)\n",
    "    #train_shifted_t = np.array(train_shifted_t)\n",
    "    train_labels= np.array(train_labels)[..., np.newaxis]\n",
    "\n",
    "    #construct validation input\n",
    "    val_chapter=[]\n",
    "    val_sub_chapter=[]\n",
    "    val_question = []\n",
    "    val_features=[]\n",
    "    #val_shifted_t = []\n",
    "    val_labels=[]\n",
    "    for i in range(len(users_val)):\n",
    "        user = val_data_space.__getitem__(i)\n",
    "        val_chapter.append(user[0])\n",
    "        val_sub_chapter.append(user[1]) \n",
    "        val_question.append(user[2])\n",
    "        val_features.append(user[3])\n",
    "        #val_shifted_t.append(user[4])\n",
    "        val_labels.append(user[5])\n",
    "    val_chapter = np.array(val_chapter)\n",
    "    val_sub_chapter = np.array(val_sub_chapter)\n",
    "    val_features = np.array(val_features)\n",
    "    val_question = np.array(val_question)\n",
    "    #val_shifted_t = np.array(val_shifted_t)\n",
    "    val_labels= np.array(val_labels)[..., np.newaxis]\n",
    "\n",
    "    # construct test input\n",
    "    test_chapter=[]\n",
    "    test_sub_chapter=[]\n",
    "    test_features=[]\n",
    "    test_question=[]\n",
    "    #test_shifted_t = []\n",
    "    test_labels=[]\n",
    "    for i in range(len(users_test)):\n",
    "        user = test_data_space.__getitem__(i)\n",
    "        test_chapter.append(user[0])\n",
    "        test_sub_chapter.append(user[1]) \n",
    "        test_question.append(user[2])\n",
    "        test_features.append(user[3])\n",
    "        #test_shifted_t.append(user[4])\n",
    "        test_labels.append(user[5])\n",
    "    test_chapter = np.array(test_chapter)\n",
    "    test_sub_chapter = np.array(test_sub_chapter)\n",
    "    test_features = np.array(test_features)\n",
    "    test_question = np.array(test_question)\n",
    "    #test_shifted_t = np.array(test_shifted_t)\n",
    "    test_labels= np.array(test_labels)[..., np.newaxis]\n",
    "\n",
    "    # define loss function and evaluation metrics\n",
    "    bce = tf.keras.losses.BinaryCrossentropy(from_logits=True)\n",
    "    acc = tf.keras.metrics.Accuracy()\n",
    "    auc = tf.keras.metrics.AUC()\n",
    "\n",
    "    def masked_bce(y_true, y_pred):\n",
    "      flat_pred = y_pred\n",
    "      flat_ground_truth = y_true\n",
    "      label_mask = tf.math.not_equal(flat_ground_truth, -1)\n",
    "      return bce(flat_ground_truth, flat_pred, sample_weight=label_mask)\n",
    "\n",
    "    def masked_acc(y_true, y_pred):\n",
    "      flat_pred = y_pred\n",
    "      flat_ground_truth = y_true\n",
    "      flat_pred = (flat_pred >= 0.5)\n",
    "      label_mask = tf.math.not_equal(flat_ground_truth, -1)\n",
    "      return acc(flat_ground_truth, flat_pred, sample_weight=label_mask)\n",
    "\n",
    "    def masked_auc(y_true, y_pred):\n",
    "      flat_pred = y_pred\n",
    "      flat_ground_truth = y_true\n",
    "      label_mask = tf.math.not_equal(flat_ground_truth, -1)\n",
    "      return auc(flat_ground_truth, flat_pred, sample_weight=label_mask)\n",
    "\n",
    "    # input layer\n",
    "    input_chap = tf.keras.Input(shape=(MAXLENGTH))\n",
    "    input_sub_chap = tf.keras.Input(shape=(MAXLENGTH))\n",
    "    input_ques =  tf.keras.Input(shape=(MAXLENGTH))\n",
    "    #input_shifted = tf.keras.Input(shape=(MAXLENGTH))\n",
    "    input_features = tf.keras.Input(shape=(MAXLENGTH, FEATURES_SIZE))\n",
    "\n",
    "    # embedding layer for categorical features\n",
    "    embedding_chap = Embedding(input_dim = CHAPTER_SIZE, output_dim = EMBEDDING_DIM)(input_chap)\n",
    "    embedding_sub_chap = Embedding(input_dim = SUB_CHAPTER_SIZE, output_dim = EMBEDDING_DIM)(input_sub_chap) \n",
    "    embedding_ques = Embedding(input_dim = QUESTION_SIZE, output_dim = EMBEDDING_DIM)(input_ques)       \n",
    "    #embedding_shifted = Embedding(input_dim = 3, output_dim = EMBEDDING_DIM)(input_shifted)\n",
    "    # dense layer for numeric features\n",
    "    dense_features = Dense(EMBEDDING_DIM,input_shape = (None, MAXLENGTH))(input_features)\n",
    "\n",
    "    # definr GRU layers\n",
    "    GRU_chap = GRU(GRU_NEURON, input_shape = (None, EMBEDDING_DIM),return_sequences = True)(embedding_chap)\n",
    "    GRU_sub_chap = GRU(GRU_NEURON, input_shape = (None, EMBEDDING_DIM),return_sequences = True)(embedding_sub_chap)\n",
    "    GRU_ques = GRU(GRU_NEURON, input_shape = (None, EMBEDDING_DIM),return_sequences = True)(embedding_ques)\n",
    "    #GRU_shif = GRU(GRU_NEURON, input_shape = (None, EMBEDDING_DIM),return_sequences = True)(embedding_shifted)\n",
    "    GRU_features = GRU(GRU_NEURON, input_shape = (None, EMBEDDING_DIM),return_sequences = True)(dense_features)\n",
    "\n",
    "    GRU_output = tf.concat([GRU_chap, GRU_sub_chap, GRU_ques, GRU_features], axis = 2)\n",
    "\n",
    "    dense1 = Dense(256, input_shape = (None, 4*EMBEDDING_DIM), activation='relu')(GRU_output)\n",
    "    dropout1 = Dropout(0.1)(dense1)\n",
    "    dense2 = Dense(64, input_shape = (None, 256), activation='relu')(dropout1)\n",
    "    dropout2 = Dropout(0.1)(dense2)\n",
    "    pred = Dense(1, input_shape = (None, 64), activation='sigmoid')(dropout2)\n",
    "\n",
    "    model = tf.keras.Model(\n",
    "        inputs=[input_chap, input_sub_chap,input_ques, input_features],\n",
    "        outputs=pred,\n",
    "        name='GRU_model'\n",
    "    )\n",
    "\n",
    "    callback = tf.keras.callbacks.EarlyStopping(monitor='val_loss', patience=10)\n",
    "    opt_adam = Adam(learning_rate = 0.005)\n",
    "    model.compile(\n",
    "        optimizer=opt_adam,\n",
    "        loss= masked_bce,\n",
    "        metrics = [masked_acc, masked_auc]\n",
    "    )\n",
    "\n",
    "    history = model.fit(\n",
    "      [train_chapter, train_sub_chapter, train_question, train_features],\n",
    "      train_labels,\n",
    "      batch_size = 64,\n",
    "      epochs = 100,\n",
    "      validation_data=([val_chapter, val_sub_chapter, val_question, val_features], val_labels),\n",
    "      callbacks=[callback]\n",
    "    )\n",
    "    val_losses.append(list(history.history['val_loss']))\n",
    "    train_losses.append(list(history.history['loss']))\n",
    "    val_aucs.append(list(history.history['val_masked_auc']))\n",
    "    train_aucs.append(list(history.history['masked_auc']))\n",
    "    train_score = model.evaluate([train_chapter, train_sub_chapter, train_question, train_features], train_labels)\n",
    "    train_eval.append(train_score)\n",
    "    test_score = model.evaluate([test_chapter, test_sub_chapter, test_question, test_features], test_labels)\n",
    "    test_eval.append(test_score)\n",
    "    print(\"Test: \", test_score)\n",
    "    def reset_weights(model):\n",
    "      for layer in model.layers: \n",
    "        if isinstance(layer, tf.keras.Model):\n",
    "          reset_weights(layer)\n",
    "          continue\n",
    "        for k, initializer in layer.__dict__.items():\n",
    "          if \"initializer\" not in k:\n",
    "            continue\n",
    "          # find the corresponding variable\n",
    "          var = getattr(layer, k.replace(\"_initializer\", \"\"))\n",
    "          var.assign(initializer(var.shape, var.dtype))\n",
    "    reset_weights(model)"
   ]
  },
  {
   "cell_type": "code",
   "execution_count": 32,
   "metadata": {
    "execution": {
     "iopub.execute_input": "2021-08-08T16:32:29.577910Z",
     "iopub.status.busy": "2021-08-08T16:32:29.576862Z",
     "iopub.status.idle": "2021-08-08T16:32:29.582111Z",
     "shell.execute_reply": "2021-08-08T16:32:29.582970Z",
     "shell.execute_reply.started": "2021-07-31T12:12:25.783012Z"
    },
    "id": "QsVmumHMz3lx",
    "outputId": "4ff1e2fa-6abb-458e-c729-495b456f53e5",
    "papermill": {
     "duration": 0.881122,
     "end_time": "2021-08-08T16:32:29.583221",
     "exception": false,
     "start_time": "2021-08-08T16:32:28.702099",
     "status": "completed"
    },
    "tags": []
   },
   "outputs": [
    {
     "name": "stdout",
     "output_type": "stream",
     "text": [
      "test avg loss:  0.4289029061794281 +/- 0.009240579415851661\n",
      "test avg acc:  0.7827015876770019 +/- 0.00228759195475716\n",
      "test avg auc:  0.8404703617095948 +/- 0.003672646494303255\n"
     ]
    }
   ],
   "source": [
    "t_eval = np.array(test_eval)\n",
    "print(\"test avg loss: \", np.mean(t_eval[:, 0]), \"+/-\" ,np.std(t_eval[:, 0]))\n",
    "print(\"test avg acc: \", np.mean(t_eval[:, 1]),  \"+/-\" ,np.std(t_eval[:, 1]))\n",
    "print(\"test avg auc: \", np.mean(t_eval[:, 2]), \"+/-\" ,np.std(t_eval[:, 2]))"
   ]
  },
  {
   "cell_type": "code",
   "execution_count": 33,
   "metadata": {
    "execution": {
     "iopub.execute_input": "2021-08-08T16:32:31.381362Z",
     "iopub.status.busy": "2021-08-08T16:32:31.380696Z",
     "iopub.status.idle": "2021-08-08T16:32:31.387029Z",
     "shell.execute_reply": "2021-08-08T16:32:31.387684Z",
     "shell.execute_reply.started": "2021-07-31T12:12:25.794728Z"
    },
    "id": "b9MM_CXWz5K6",
    "outputId": "4cf88e1d-3a74-4e7d-f92c-d01522e91757",
    "papermill": {
     "duration": 0.883902,
     "end_time": "2021-08-08T16:32:31.387874",
     "exception": false,
     "start_time": "2021-08-08T16:32:30.503972",
     "status": "completed"
    },
    "tags": []
   },
   "outputs": [
    {
     "name": "stdout",
     "output_type": "stream",
     "text": [
      "train avg loss:  0.37192782759666443 +/- 0.009330831225493226\n",
      "train avg acc:  0.782370412349701 +/- 0.0022516024285126816\n",
      "train avg auc:  0.8397833466529846 +/- 0.0036817879758534503\n"
     ]
    }
   ],
   "source": [
    "t_eval = np.array(train_eval)\n",
    "print(\"train avg loss: \", np.mean(t_eval[:, 0]), \"+/-\" ,np.std(t_eval[:, 0]))\n",
    "print(\"train avg acc: \", np.mean(t_eval[:, 1]),  \"+/-\" ,np.std(t_eval[:, 1]))\n",
    "print(\"train avg auc: \", np.mean(t_eval[:, 2]), \"+/-\" ,np.std(t_eval[:, 2]))"
   ]
  }
 ],
 "metadata": {
  "kernelspec": {
   "display_name": "Python 3",
   "language": "python",
   "name": "python3"
  },
  "language_info": {
   "codemirror_mode": {
    "name": "ipython",
    "version": 3
   },
   "file_extension": ".py",
   "mimetype": "text/x-python",
   "name": "python",
   "nbconvert_exporter": "python",
   "pygments_lexer": "ipython3",
   "version": "3.8.5"
  },
  "papermill": {
   "default_parameters": {},
   "duration": 1412.819988,
   "end_time": "2021-08-08T16:32:34.730216",
   "environment_variables": {},
   "exception": null,
   "input_path": "__notebook__.ipynb",
   "output_path": "__notebook__.ipynb",
   "parameters": {},
   "start_time": "2021-08-08T16:09:01.910228",
   "version": "2.3.3"
  }
 },
 "nbformat": 4,
 "nbformat_minor": 5
}
