{
 "cells": [
  {
   "cell_type": "code",
   "execution_count": 1,
   "metadata": {
    "execution": {
     "iopub.execute_input": "2021-08-08T14:53:33.140386Z",
     "iopub.status.busy": "2021-08-08T14:53:33.139675Z",
     "iopub.status.idle": "2021-08-08T14:53:39.596680Z",
     "shell.execute_reply": "2021-08-08T14:53:39.597215Z",
     "shell.execute_reply.started": "2021-07-31T12:06:59.141322Z"
    },
    "id": "farifxiKU1aB",
    "papermill": {
     "duration": 6.50094,
     "end_time": "2021-08-08T14:53:39.597527",
     "exception": false,
     "start_time": "2021-08-08T14:53:33.096587",
     "status": "completed"
    },
    "tags": []
   },
   "outputs": [],
   "source": [
    "import numpy as np\n",
    "import pandas as pd\n",
    "import warnings\n",
    "import gc\n",
    "import tensorflow as tf\n",
    "from tensorflow import keras\n",
    "\n",
    "import random\n",
    "from random import choice\n",
    "from tensorflow.keras.optimizers import Adam\n",
    "from tensorflow.keras.models import Sequential \n",
    "from tensorflow.keras.layers import Dense, GRU, Concatenate, Embedding, Flatten, Activation, Dropout\n",
    "from sklearn.model_selection import KFold\n",
    "from tensorflow.python.client import device_lib\n",
    "warnings.filterwarnings('ignore')\n",
    "import random"
   ]
  },
  {
   "cell_type": "code",
   "execution_count": 2,
   "metadata": {
    "execution": {
     "iopub.execute_input": "2021-08-08T14:53:39.661414Z",
     "iopub.status.busy": "2021-08-08T14:53:39.660669Z",
     "iopub.status.idle": "2021-08-08T14:53:39.663289Z",
     "shell.execute_reply": "2021-08-08T14:53:39.663820Z",
     "shell.execute_reply.started": "2021-07-31T12:07:01.064697Z"
    },
    "id": "QOson70GPOXb",
    "papermill": {
     "duration": 0.036367,
     "end_time": "2021-08-08T14:53:39.664013",
     "exception": false,
     "start_time": "2021-08-08T14:53:39.627646",
     "status": "completed"
    },
    "tags": []
   },
   "outputs": [],
   "source": [
    "import gc"
   ]
  },
  {
   "cell_type": "markdown",
   "metadata": {
    "id": "BQsVybBH3VPw",
    "papermill": {
     "duration": 0.0284,
     "end_time": "2021-08-08T14:53:39.721412",
     "exception": false,
     "start_time": "2021-08-08T14:53:39.693012",
     "status": "completed"
    },
    "tags": []
   },
   "source": [
    "## Data Preprocessing"
   ]
  },
  {
   "cell_type": "code",
   "execution_count": 3,
   "metadata": {
    "execution": {
     "iopub.execute_input": "2021-08-08T14:53:39.782656Z",
     "iopub.status.busy": "2021-08-08T14:53:39.781696Z",
     "iopub.status.idle": "2021-08-08T14:53:46.175990Z",
     "shell.execute_reply": "2021-08-08T14:53:46.176489Z",
     "shell.execute_reply.started": "2021-07-31T12:07:01.071844Z"
    },
    "id": "rwtTusGxrmAE",
    "outputId": "1430f3cf-038b-485e-b5c4-c1686b1f34fd",
    "papermill": {
     "duration": 6.426544,
     "end_time": "2021-08-08T14:53:46.176652",
     "exception": false,
     "start_time": "2021-08-08T14:53:39.750108",
     "status": "completed"
    },
    "tags": []
   },
   "outputs": [
    {
     "data": {
      "text/html": [
       "<div>\n",
       "<style scoped>\n",
       "    .dataframe tbody tr th:only-of-type {\n",
       "        vertical-align: middle;\n",
       "    }\n",
       "\n",
       "    .dataframe tbody tr th {\n",
       "        vertical-align: top;\n",
       "    }\n",
       "\n",
       "    .dataframe thead th {\n",
       "        text-align: right;\n",
       "    }\n",
       "</style>\n",
       "<table border=\"1\" class=\"dataframe\">\n",
       "  <thead>\n",
       "    <tr style=\"text-align: right;\">\n",
       "      <th></th>\n",
       "      <th>Unnamed: 0</th>\n",
       "      <th>chapter_label</th>\n",
       "      <th>sub_chapter_label</th>\n",
       "      <th>question_name</th>\n",
       "      <th>user_id.x</th>\n",
       "      <th>term</th>\n",
       "      <th>STDNT_SEX_CD</th>\n",
       "      <th>NonNativeEnglish</th>\n",
       "      <th>White</th>\n",
       "      <th>Asian</th>\n",
       "      <th>...</th>\n",
       "      <th>classGraded</th>\n",
       "      <th>classHonors</th>\n",
       "      <th>Pass_Fail</th>\n",
       "      <th>parentsGraduateEdu</th>\n",
       "      <th>minorityGroup</th>\n",
       "      <th>q</th>\n",
       "      <th>day's_available_flashcards</th>\n",
       "      <th>start_practice</th>\n",
       "      <th>end_practice</th>\n",
       "      <th>days_offset</th>\n",
       "    </tr>\n",
       "  </thead>\n",
       "  <tbody>\n",
       "    <tr>\n",
       "      <th>0</th>\n",
       "      <td>1</td>\n",
       "      <td>Sort</td>\n",
       "      <td>intro-SortingwithSortandSorted</td>\n",
       "      <td>ee_sort_04</td>\n",
       "      <td>148</td>\n",
       "      <td>WN 2018</td>\n",
       "      <td>1</td>\n",
       "      <td>0</td>\n",
       "      <td>1</td>\n",
       "      <td>0</td>\n",
       "      <td>...</td>\n",
       "      <td>1</td>\n",
       "      <td>0</td>\n",
       "      <td>0</td>\n",
       "      <td>0</td>\n",
       "      <td>0</td>\n",
       "      <td>0</td>\n",
       "      <td>18</td>\n",
       "      <td>2018-03-04 20:00:19</td>\n",
       "      <td>2018-03-04 20:00:35</td>\n",
       "      <td>45</td>\n",
       "    </tr>\n",
       "    <tr>\n",
       "      <th>1</th>\n",
       "      <td>2</td>\n",
       "      <td>Functions</td>\n",
       "      <td>Returningavaluefromafunction</td>\n",
       "      <td>test_questionfunctions_2_3</td>\n",
       "      <td>148</td>\n",
       "      <td>WN 2018</td>\n",
       "      <td>1</td>\n",
       "      <td>0</td>\n",
       "      <td>1</td>\n",
       "      <td>0</td>\n",
       "      <td>...</td>\n",
       "      <td>1</td>\n",
       "      <td>0</td>\n",
       "      <td>0</td>\n",
       "      <td>0</td>\n",
       "      <td>0</td>\n",
       "      <td>4</td>\n",
       "      <td>16</td>\n",
       "      <td>2018-02-10 11:57:55</td>\n",
       "      <td>2018-02-10 11:58:35</td>\n",
       "      <td>23</td>\n",
       "    </tr>\n",
       "    <tr>\n",
       "      <th>2</th>\n",
       "      <td>3</td>\n",
       "      <td>RESTAPIs</td>\n",
       "      <td>functionswithrestapis</td>\n",
       "      <td>test_question_functions_rest_apis_1</td>\n",
       "      <td>148</td>\n",
       "      <td>WN 2018</td>\n",
       "      <td>1</td>\n",
       "      <td>0</td>\n",
       "      <td>1</td>\n",
       "      <td>0</td>\n",
       "      <td>...</td>\n",
       "      <td>1</td>\n",
       "      <td>0</td>\n",
       "      <td>0</td>\n",
       "      <td>0</td>\n",
       "      <td>0</td>\n",
       "      <td>1</td>\n",
       "      <td>2</td>\n",
       "      <td>2018-03-12 17:03:07</td>\n",
       "      <td>2018-03-12 17:04:28</td>\n",
       "      <td>53</td>\n",
       "    </tr>\n",
       "    <tr>\n",
       "      <th>3</th>\n",
       "      <td>4</td>\n",
       "      <td>SimplePythonData</td>\n",
       "      <td>FunctionCalls</td>\n",
       "      <td>exercise_functionCalls_1</td>\n",
       "      <td>148</td>\n",
       "      <td>WN 2018</td>\n",
       "      <td>1</td>\n",
       "      <td>0</td>\n",
       "      <td>1</td>\n",
       "      <td>0</td>\n",
       "      <td>...</td>\n",
       "      <td>1</td>\n",
       "      <td>0</td>\n",
       "      <td>0</td>\n",
       "      <td>0</td>\n",
       "      <td>0</td>\n",
       "      <td>0</td>\n",
       "      <td>10</td>\n",
       "      <td>2018-01-30 14:15:49</td>\n",
       "      <td>2018-01-30 14:15:58</td>\n",
       "      <td>12</td>\n",
       "    </tr>\n",
       "    <tr>\n",
       "      <th>4</th>\n",
       "      <td>5</td>\n",
       "      <td>DictionaryAccumulation</td>\n",
       "      <td>AccumulatingaMaximumValue</td>\n",
       "      <td>ps_04_07</td>\n",
       "      <td>148</td>\n",
       "      <td>WN 2018</td>\n",
       "      <td>1</td>\n",
       "      <td>0</td>\n",
       "      <td>1</td>\n",
       "      <td>0</td>\n",
       "      <td>...</td>\n",
       "      <td>1</td>\n",
       "      <td>0</td>\n",
       "      <td>0</td>\n",
       "      <td>0</td>\n",
       "      <td>0</td>\n",
       "      <td>0</td>\n",
       "      <td>23</td>\n",
       "      <td>2018-03-03 14:04:17</td>\n",
       "      <td>2018-03-03 14:04:25</td>\n",
       "      <td>44</td>\n",
       "    </tr>\n",
       "  </tbody>\n",
       "</table>\n",
       "<p>5 rows × 48 columns</p>\n",
       "</div>"
      ],
      "text/plain": [
       "   Unnamed: 0           chapter_label               sub_chapter_label  \\\n",
       "0           1                    Sort  intro-SortingwithSortandSorted   \n",
       "1           2               Functions    Returningavaluefromafunction   \n",
       "2           3                RESTAPIs           functionswithrestapis   \n",
       "3           4        SimplePythonData                   FunctionCalls   \n",
       "4           5  DictionaryAccumulation       AccumulatingaMaximumValue   \n",
       "\n",
       "                         question_name  user_id.x     term  STDNT_SEX_CD  \\\n",
       "0                           ee_sort_04        148  WN 2018             1   \n",
       "1           test_questionfunctions_2_3        148  WN 2018             1   \n",
       "2  test_question_functions_rest_apis_1        148  WN 2018             1   \n",
       "3             exercise_functionCalls_1        148  WN 2018             1   \n",
       "4                             ps_04_07        148  WN 2018             1   \n",
       "\n",
       "   NonNativeEnglish  White  Asian  ...  classGraded  classHonors  Pass_Fail  \\\n",
       "0                 0      1      0  ...            1            0          0   \n",
       "1                 0      1      0  ...            1            0          0   \n",
       "2                 0      1      0  ...            1            0          0   \n",
       "3                 0      1      0  ...            1            0          0   \n",
       "4                 0      1      0  ...            1            0          0   \n",
       "\n",
       "   parentsGraduateEdu  minorityGroup  q  day's_available_flashcards  \\\n",
       "0                   0              0  0                          18   \n",
       "1                   0              0  4                          16   \n",
       "2                   0              0  1                           2   \n",
       "3                   0              0  0                          10   \n",
       "4                   0              0  0                          23   \n",
       "\n",
       "        start_practice         end_practice  days_offset  \n",
       "0  2018-03-04 20:00:19  2018-03-04 20:00:35           45  \n",
       "1  2018-02-10 11:57:55  2018-02-10 11:58:35           23  \n",
       "2  2018-03-12 17:03:07  2018-03-12 17:04:28           53  \n",
       "3  2018-01-30 14:15:49  2018-01-30 14:15:58           12  \n",
       "4  2018-03-03 14:04:17  2018-03-03 14:04:25           44  \n",
       "\n",
       "[5 rows x 48 columns]"
      ]
     },
     "execution_count": 3,
     "metadata": {},
     "output_type": "execute_result"
    }
   ],
   "source": [
    "# load the data\n",
    "import pandas as pd\n",
    "dataframe = pd.read_csv('../input/practice-log-demographics/Practice_Log_Demographics (1).csv', low_memory=False)\n",
    "dataframe.head()"
   ]
  },
  {
   "cell_type": "code",
   "execution_count": 4,
   "metadata": {
    "execution": {
     "iopub.execute_input": "2021-08-08T14:53:46.304358Z",
     "iopub.status.busy": "2021-08-08T14:53:46.303664Z",
     "iopub.status.idle": "2021-08-08T14:53:47.943110Z",
     "shell.execute_reply": "2021-08-08T14:53:47.942504Z",
     "shell.execute_reply.started": "2021-07-31T12:07:05.649784Z"
    },
    "id": "OCbHnEp_Vir0",
    "papermill": {
     "duration": 1.734788,
     "end_time": "2021-08-08T14:53:47.943251",
     "exception": false,
     "start_time": "2021-08-08T14:53:46.208463",
     "status": "completed"
    },
    "tags": []
   },
   "outputs": [],
   "source": [
    "#sort data based on timestamp\n",
    "dataframe = dataframe.sort_values(by=['start_practice']).reset_index(drop=True)"
   ]
  },
  {
   "cell_type": "code",
   "execution_count": 5,
   "metadata": {
    "execution": {
     "iopub.execute_input": "2021-08-08T14:53:48.010284Z",
     "iopub.status.busy": "2021-08-08T14:53:48.009601Z",
     "iopub.status.idle": "2021-08-08T14:53:48.012717Z",
     "shell.execute_reply": "2021-08-08T14:53:48.012186Z",
     "shell.execute_reply.started": "2021-07-31T12:07:07.101339Z"
    },
    "id": "0RvF7BvEr98o",
    "papermill": {
     "duration": 0.039192,
     "end_time": "2021-08-08T14:53:48.012851",
     "exception": false,
     "start_time": "2021-08-08T14:53:47.973659",
     "status": "completed"
    },
    "tags": []
   },
   "outputs": [],
   "source": [
    "FEATURES = ['chapter_label', 'sub_chapter_label','question_name','user_id','term',\n",
    "            'STDNT_SEX_CD', \n",
    "            'NonNativeEnglish',\n",
    "            'White',\n",
    "            'Asian',\n",
    "            'WhiteOrAsian',\n",
    "            'Hispanic',\n",
    "            'AfricanAmerican',\n",
    "            'OtherEthnicities',\n",
    "            'NonWhiteOrAsian',\n",
    "            'STDNT_CTZN_STAT_CD', 'international', \n",
    "            'gradingType',\n",
    "            'birthYear',\n",
    "            'exclClassCumGPA',\n",
    "            'Freshman',\n",
    "            'Junior',\n",
    "            'Sophomore',\n",
    "            'Senior',\n",
    "            'termCreditsGPA',\n",
    "            'termCreditsNoGPA',\n",
    "            'athlete_1',\n",
    "            'honorsPro',\n",
    "            'LSA', 'programBusiness', 'programEngineering', \n",
    "            'programInformation', 'programOther',\n",
    "            'HSCalculusTaken', \n",
    "            'highSchoolGPA', \n",
    "            'majorsCount', 'minorsCount',\n",
    "            'PREV_TERM_CUM_GPA',\n",
    "            'classGraded', 'classHonors', \n",
    "            'Pass_Fail', \n",
    "            'parentsGraduateEdu',  'minorityGroup', \n",
    "            'q',\n",
    "            'available_flashcards', \n",
    "            'start_practice', \n",
    "            'end_practice',\n",
    "            'days_offset']"
   ]
  },
  {
   "cell_type": "code",
   "execution_count": 6,
   "metadata": {
    "execution": {
     "iopub.execute_input": "2021-08-08T14:53:48.078061Z",
     "iopub.status.busy": "2021-08-08T14:53:48.077388Z",
     "iopub.status.idle": "2021-08-08T14:53:48.590154Z",
     "shell.execute_reply": "2021-08-08T14:53:48.590635Z",
     "shell.execute_reply.started": "2021-07-31T12:07:07.109369Z"
    },
    "id": "Mn341X7lSztl",
    "papermill": {
     "duration": 0.548584,
     "end_time": "2021-08-08T14:53:48.590812",
     "exception": false,
     "start_time": "2021-08-08T14:53:48.042228",
     "status": "completed"
    },
    "tags": []
   },
   "outputs": [],
   "source": [
    "dataframe['available_flashcards'] = dataframe[\"day's_available_flashcards\"][:]\n",
    "dataframe = dataframe.drop([\"day's_available_flashcards\"], axis=1)\n",
    "dataframe['user_id'] = dataframe[\"user_id.x\"][:]\n",
    "dataframe = dataframe.drop([\"user_id.x\"], axis=1)"
   ]
  },
  {
   "cell_type": "code",
   "execution_count": 7,
   "metadata": {
    "execution": {
     "iopub.execute_input": "2021-08-08T14:53:48.814590Z",
     "iopub.status.busy": "2021-08-08T14:53:48.813720Z",
     "iopub.status.idle": "2021-08-08T14:53:48.817831Z",
     "shell.execute_reply": "2021-08-08T14:53:48.817247Z",
     "shell.execute_reply.started": "2021-07-31T12:07:07.606049Z"
    },
    "id": "-_BRggOjbBjN",
    "outputId": "42bff7db-08dd-48dc-a73a-d048508053b7",
    "papermill": {
     "duration": 0.197552,
     "end_time": "2021-08-08T14:53:48.817990",
     "exception": false,
     "start_time": "2021-08-08T14:53:48.620438",
     "status": "completed"
    },
    "tags": []
   },
   "outputs": [
    {
     "data": {
      "text/plain": [
       "102"
      ]
     },
     "execution_count": 7,
     "metadata": {},
     "output_type": "execute_result"
    }
   ],
   "source": [
    "gc.collect()"
   ]
  },
  {
   "cell_type": "code",
   "execution_count": 8,
   "metadata": {
    "execution": {
     "iopub.execute_input": "2021-08-08T14:53:48.883707Z",
     "iopub.status.busy": "2021-08-08T14:53:48.883094Z",
     "iopub.status.idle": "2021-08-08T14:53:49.171279Z",
     "shell.execute_reply": "2021-08-08T14:53:49.170706Z",
     "shell.execute_reply.started": "2021-07-31T12:07:07.764114Z"
    },
    "id": "lXM7MlonVeRL",
    "outputId": "d29ccec0-522f-4e3c-e0b2-39b2e1eaef74",
    "papermill": {
     "duration": 0.323444,
     "end_time": "2021-08-08T14:53:49.171428",
     "exception": false,
     "start_time": "2021-08-08T14:53:48.847984",
     "status": "completed"
    },
    "tags": []
   },
   "outputs": [
    {
     "data": {
      "text/plain": [
       "20"
      ]
     },
     "execution_count": 8,
     "metadata": {},
     "output_type": "execute_result"
    }
   ],
   "source": [
    "dataframe = dataframe[FEATURES]\n",
    "gc.collect()"
   ]
  },
  {
   "cell_type": "code",
   "execution_count": 9,
   "metadata": {
    "execution": {
     "iopub.execute_input": "2021-08-08T14:53:49.744026Z",
     "iopub.status.busy": "2021-08-08T14:53:49.743316Z",
     "iopub.status.idle": "2021-08-08T14:53:49.886394Z",
     "shell.execute_reply": "2021-08-08T14:53:49.885733Z",
     "shell.execute_reply.started": "2021-07-31T12:07:08.046413Z"
    },
    "id": "2WAFv5z3A6fK",
    "outputId": "e27abf84-ec3c-4b88-e1fb-927d94b41898",
    "papermill": {
     "duration": 0.684085,
     "end_time": "2021-08-08T14:53:49.886570",
     "exception": false,
     "start_time": "2021-08-08T14:53:49.202485",
     "status": "completed"
    },
    "tags": []
   },
   "outputs": [],
   "source": [
    "dataframe = dataframe.fillna(0)"
   ]
  },
  {
   "cell_type": "code",
   "execution_count": 10,
   "metadata": {
    "execution": {
     "iopub.execute_input": "2021-08-08T14:53:49.966598Z",
     "iopub.status.busy": "2021-08-08T14:53:49.965643Z",
     "iopub.status.idle": "2021-08-08T14:53:51.381976Z",
     "shell.execute_reply": "2021-08-08T14:53:51.381396Z",
     "shell.execute_reply.started": "2021-07-31T12:07:08.626441Z"
    },
    "id": "qRKqF_0IXZgj",
    "papermill": {
     "duration": 1.465217,
     "end_time": "2021-08-08T14:53:51.382117",
     "exception": false,
     "start_time": "2021-08-08T14:53:49.916900",
     "status": "completed"
    },
    "tags": []
   },
   "outputs": [],
   "source": [
    "#label encode term, chapter_label, question_name, sub_chapter_label columns\n",
    "dataframe['term'] = dataframe['term'].astype('category')\n",
    "dataframe['user_id'] = dataframe['user_id'].astype(int)\n",
    "dataframe['user_id'] = dataframe['user_id'].astype(str)\n",
    "dataframe['user_id'] = dataframe['term'].str.cat(dataframe['user_id'], sep=':')\n",
    "dataframe['user_id'] = dataframe['user_id'].astype('category')\n",
    "dataframe['chapter_label'] = dataframe['chapter_label'].astype('category')\n",
    "dataframe['sub_chapter_label'] = dataframe['sub_chapter_label'].astype('category')\n",
    "dataframe['question_name'] = dataframe['question_name'].astype('category')\n"
   ]
  },
  {
   "cell_type": "code",
   "execution_count": 11,
   "metadata": {
    "execution": {
     "iopub.execute_input": "2021-08-08T14:53:51.449887Z",
     "iopub.status.busy": "2021-08-08T14:53:51.449221Z",
     "iopub.status.idle": "2021-08-08T14:53:51.969935Z",
     "shell.execute_reply": "2021-08-08T14:53:51.969261Z",
     "shell.execute_reply.started": "2021-07-31T12:07:09.884593Z"
    },
    "id": "eVl_067GWkDe",
    "papermill": {
     "duration": 0.556765,
     "end_time": "2021-08-08T14:53:51.970082",
     "exception": false,
     "start_time": "2021-08-08T14:53:51.413317",
     "status": "completed"
    },
    "tags": []
   },
   "outputs": [],
   "source": [
    "#calculate time_lag and prev_time_elapsed\n",
    "dataframe['prev_time_elapsed'] = None\n",
    "dataframe['time_lag'] = None\n",
    "dataframe['time_lag'] = dataframe['time_lag'].astype(np.float)\n",
    "dataframe['prev_time_elapsed'] = dataframe['prev_time_elapsed'].astype(np.float)\n",
    "dataframe.start_practice = pd.to_datetime(dataframe.start_practice, format='%Y-%m-%d %H:%M:%S')\n",
    "dataframe.end_practice = pd.to_datetime(dataframe.end_practice, format='%Y-%m-%d %H:%M:%S')"
   ]
  },
  {
   "cell_type": "code",
   "execution_count": 12,
   "metadata": {
    "execution": {
     "iopub.execute_input": "2021-08-08T14:53:52.036681Z",
     "iopub.status.busy": "2021-08-08T14:53:52.036017Z",
     "iopub.status.idle": "2021-08-08T14:53:52.072643Z",
     "shell.execute_reply": "2021-08-08T14:53:52.072089Z",
     "shell.execute_reply.started": "2021-07-31T12:07:10.365002Z"
    },
    "papermill": {
     "duration": 0.072192,
     "end_time": "2021-08-08T14:53:52.072789",
     "exception": false,
     "start_time": "2021-08-08T14:53:52.000597",
     "status": "completed"
    },
    "tags": []
   },
   "outputs": [],
   "source": [
    "dataframe['dif'] = dataframe.end_practice - dataframe.start_practice\n",
    "dataframe['dif'] = dataframe['dif'] /np.timedelta64(1, 's')\n",
    "dataframe['answer_correct'] = np.where((dataframe['q']==5) & (dataframe['dif'] <= 60), 1, 0)"
   ]
  },
  {
   "cell_type": "code",
   "execution_count": 13,
   "metadata": {
    "execution": {
     "iopub.execute_input": "2021-08-08T14:53:52.145201Z",
     "iopub.status.busy": "2021-08-08T14:53:52.144459Z",
     "iopub.status.idle": "2021-08-08T14:59:47.599891Z",
     "shell.execute_reply": "2021-08-08T14:59:47.599139Z",
     "shell.execute_reply.started": "2021-07-31T12:07:10.396034Z"
    },
    "id": "Xrkcn9VhWETm",
    "outputId": "fd73f3de-5f56-42a8-9539-3f3b79a5a6e2",
    "papermill": {
     "duration": 355.496297,
     "end_time": "2021-08-08T14:59:47.600109",
     "exception": false,
     "start_time": "2021-08-08T14:53:52.103812",
     "status": "completed"
    },
    "tags": []
   },
   "outputs": [
    {
     "name": "stderr",
     "output_type": "stream",
     "text": [
      "100%|██████████| 1110/1110 [05:55<00:00,  3.12it/s]\n"
     ]
    }
   ],
   "source": [
    "unique_chapts = dataframe['chapter_label'].unique()\n",
    "from tqdm import tqdm\n",
    "cnt = 0\n",
    "for user in tqdm(dataframe['user_id'].unique()):\n",
    "        for chapter in unique_chapts:\n",
    "            tmp_user = dataframe[(dataframe['user_id']==user) & (dataframe['chapter_label']==chapter)]\n",
    "            #if user doesn't answer any question from the chapter\n",
    "            if len(tmp_user) < 1:\n",
    "                continue\n",
    "            #calculate average elapsed time before the current question\n",
    "            #from its corresponding chapter\n",
    "            tmp_time_elapsed = tmp_user.end_practice - tmp_user.start_practice\n",
    "            tmp_time_elapsed = tmp_time_elapsed / np.timedelta64(1, 's')\n",
    "            tmp_time_elapsed = np.insert(np.array(tmp_time_elapsed[:-1]), 0, 0., axis=0)\n",
    "            tmp_time_elapsed = np.cumsum(tmp_time_elapsed)\n",
    "            indices = tmp_user.index\n",
    "            start_row = indices[0]\n",
    "            dataframe['time_lag'].iloc[start_row] = 0\n",
    "            for_mean = np.arange(len(tmp_user))\n",
    "            for_mean[0] = 1\n",
    "            time_substrahend = tmp_user.start_practice.iloc[:-1]\n",
    "            time_substrahend = time_substrahend.apply(lambda a: a.timestamp())\n",
    "            time_substrahend = np.array(time_substrahend)\n",
    "            \n",
    "            time_minuend = tmp_user.start_practice.iloc[1:]\n",
    "            time_minuend = time_minuend.apply(lambda a: a.timestamp())\n",
    "            time_minuend = np.array(time_minuend)\n",
    "\n",
    "            dataframe['prev_time_elapsed'].iloc[indices] = tmp_time_elapsed/for_mean\n",
    "            #calculate difference between current and last interaction\n",
    "            #from the same chapter\n",
    "            dataframe['time_lag'].iloc[indices[1:]] = time_minuend - time_substrahend\n"
   ]
  },
  {
   "cell_type": "code",
   "execution_count": 14,
   "metadata": {
    "execution": {
     "iopub.execute_input": "2021-08-08T14:59:48.384284Z",
     "iopub.status.busy": "2021-08-08T14:59:48.383402Z",
     "iopub.status.idle": "2021-08-08T14:59:48.422728Z",
     "shell.execute_reply": "2021-08-08T14:59:48.422033Z",
     "shell.execute_reply.started": "2021-07-31T12:07:30.030169Z"
    },
    "id": "8t8yZ0XvWwzz",
    "papermill": {
     "duration": 0.461104,
     "end_time": "2021-08-08T14:59:48.422896",
     "exception": false,
     "start_time": "2021-08-08T14:59:47.961792",
     "status": "completed"
    },
    "tags": []
   },
   "outputs": [],
   "source": [
    "#drop column end_practice\n",
    "dataframe.drop(columns=['end_practice'], inplace=True)"
   ]
  },
  {
   "cell_type": "code",
   "execution_count": 15,
   "metadata": {
    "execution": {
     "iopub.execute_input": "2021-08-08T14:59:49.179735Z",
     "iopub.status.busy": "2021-08-08T14:59:49.178570Z",
     "iopub.status.idle": "2021-08-08T14:59:49.648695Z",
     "shell.execute_reply": "2021-08-08T14:59:49.647906Z",
     "shell.execute_reply.started": "2021-07-31T12:07:30.106507Z"
    },
    "id": "E42raRIrYYXz",
    "papermill": {
     "duration": 0.866476,
     "end_time": "2021-08-08T14:59:49.648878",
     "exception": false,
     "start_time": "2021-08-08T14:59:48.782402",
     "status": "completed"
    },
    "tags": []
   },
   "outputs": [],
   "source": [
    "# calculate the age feature\n",
    "dataframe['term_value'] = [int(ele[3:]) for ele in dataframe['term']]\n",
    "dataframe['age'] = dataframe['term_value'] - dataframe['birthYear']"
   ]
  },
  {
   "cell_type": "code",
   "execution_count": 16,
   "metadata": {
    "execution": {
     "iopub.execute_input": "2021-08-08T14:59:50.378059Z",
     "iopub.status.busy": "2021-08-08T14:59:50.376675Z",
     "iopub.status.idle": "2021-08-08T14:59:50.587971Z",
     "shell.execute_reply": "2021-08-08T14:59:50.587421Z",
     "shell.execute_reply.started": "2021-07-31T12:07:30.526102Z"
    },
    "id": "pcMVQXueYnMh",
    "papermill": {
     "duration": 0.578908,
     "end_time": "2021-08-08T14:59:50.588118",
     "exception": false,
     "start_time": "2021-08-08T14:59:50.009210",
     "status": "completed"
    },
    "tags": []
   },
   "outputs": [],
   "source": [
    "# drop term_value and birthYear column\n",
    "dataframe.drop(columns=['term_value', 'birthYear'], inplace=True)"
   ]
  },
  {
   "cell_type": "code",
   "execution_count": 17,
   "metadata": {
    "execution": {
     "iopub.execute_input": "2021-08-08T14:59:51.390884Z",
     "iopub.status.busy": "2021-08-08T14:59:51.385682Z",
     "iopub.status.idle": "2021-08-08T14:59:51.879321Z",
     "shell.execute_reply": "2021-08-08T14:59:51.878607Z",
     "shell.execute_reply.started": "2021-07-31T12:07:30.71914Z"
    },
    "id": "hjRF5szkcQE0",
    "papermill": {
     "duration": 0.870478,
     "end_time": "2021-08-08T14:59:51.879471",
     "exception": false,
     "start_time": "2021-08-08T14:59:51.008993",
     "status": "completed"
    },
    "tags": []
   },
   "outputs": [],
   "source": [
    "# convert minors_count to int value\n",
    "new_minors_count = []\n",
    "for i in dataframe['minorsCount']:\n",
    "  if i == 0 or i == '0':\n",
    "    new_minors_count.append(0)\n",
    "  elif i == '1 Minor':\n",
    "    new_minors_count.append(1)\n",
    "  else:\n",
    "    new_minors_count.append(2)\n",
    "\n",
    "dataframe['minorsCount'] = new_minors_count"
   ]
  },
  {
   "cell_type": "code",
   "execution_count": 18,
   "metadata": {
    "execution": {
     "iopub.execute_input": "2021-08-08T14:59:52.606255Z",
     "iopub.status.busy": "2021-08-08T14:59:52.604754Z",
     "iopub.status.idle": "2021-08-08T14:59:52.618854Z",
     "shell.execute_reply": "2021-08-08T14:59:52.618189Z",
     "shell.execute_reply.started": "2021-07-31T12:07:31.163098Z"
    },
    "id": "9VdzvJSw0KUU",
    "outputId": "6393784f-234e-4935-9cee-cbcf56b5630a",
    "papermill": {
     "duration": 0.378199,
     "end_time": "2021-08-08T14:59:52.619015",
     "exception": false,
     "start_time": "2021-08-08T14:59:52.240816",
     "status": "completed"
    },
    "tags": []
   },
   "outputs": [
    {
     "name": "stdout",
     "output_type": "stream",
     "text": [
      "we have  1110  users in total.\n"
     ]
    }
   ],
   "source": [
    "print(\"we have \", dataframe['user_id'].nunique(),\" users in total.\")"
   ]
  },
  {
   "cell_type": "code",
   "execution_count": 19,
   "metadata": {
    "execution": {
     "iopub.execute_input": "2021-08-08T14:59:53.351000Z",
     "iopub.status.busy": "2021-08-08T14:59:53.350273Z",
     "iopub.status.idle": "2021-08-08T14:59:53.357233Z",
     "shell.execute_reply": "2021-08-08T14:59:53.356560Z",
     "shell.execute_reply.started": "2021-07-31T12:07:31.18292Z"
    },
    "id": "hUaGk9L9g13t",
    "papermill": {
     "duration": 0.375546,
     "end_time": "2021-08-08T14:59:53.357387",
     "exception": false,
     "start_time": "2021-08-08T14:59:52.981841",
     "status": "completed"
    },
    "tags": []
   },
   "outputs": [],
   "source": [
    "for category in ['term','chapter_label', 'sub_chapter_label', 'question_name']:\n",
    "  dataframe[category] =  dataframe[category].cat.codes"
   ]
  },
  {
   "cell_type": "code",
   "execution_count": 20,
   "metadata": {
    "execution": {
     "iopub.execute_input": "2021-08-08T14:59:54.085967Z",
     "iopub.status.busy": "2021-08-08T14:59:54.085260Z",
     "iopub.status.idle": "2021-08-08T14:59:54.892697Z",
     "shell.execute_reply": "2021-08-08T14:59:54.893251Z",
     "shell.execute_reply.started": "2021-07-31T12:07:31.195482Z"
    },
    "id": "hkyvcYvlhliG",
    "papermill": {
     "duration": 1.176575,
     "end_time": "2021-08-08T14:59:54.893428",
     "exception": false,
     "start_time": "2021-08-08T14:59:53.716853",
     "status": "completed"
    },
    "tags": []
   },
   "outputs": [],
   "source": [
    "NUMERIC_FEATURE =  ['age',\n",
    "            'exclClassCumGPA',\n",
    "            'termCreditsGPA',\n",
    "            'termCreditsNoGPA',\n",
    "            'highSchoolGPA', \n",
    "            'majorsCount', 'minorsCount',\n",
    "            'PREV_TERM_CUM_GPA',\n",
    "            'available_flashcards', \n",
    "            'days_offset', \n",
    "            'prev_time_elapsed',\n",
    "             'time_lag']\n",
    "# z-score normalize the numerical features\n",
    "for f in NUMERIC_FEATURE:\n",
    "  m = dataframe[f].mean()\n",
    "  std = dataframe[f].std()\n",
    "  dataframe[f] = (dataframe[f] - m)/std"
   ]
  },
  {
   "cell_type": "code",
   "execution_count": 21,
   "metadata": {
    "execution": {
     "iopub.execute_input": "2021-08-08T14:59:55.629097Z",
     "iopub.status.busy": "2021-08-08T14:59:55.628356Z",
     "iopub.status.idle": "2021-08-08T14:59:59.065461Z",
     "shell.execute_reply": "2021-08-08T14:59:59.064922Z",
     "shell.execute_reply.started": "2021-07-31T12:07:31.465309Z"
    },
    "id": "wo2OH-d5kWp1",
    "papermill": {
     "duration": 3.811537,
     "end_time": "2021-08-08T14:59:59.065616",
     "exception": false,
     "start_time": "2021-08-08T14:59:55.254079",
     "status": "completed"
    },
    "tags": []
   },
   "outputs": [],
   "source": [
    "FEATURE_TRANS =  ['answer_correct', 'chapter_label', 'sub_chapter_label','question_name','user_id','term',\n",
    "                  'STDNT_SEX_CD', \n",
    "                    'White','Asian','NonWhiteOrAsian',\n",
    "            'STDNT_CTZN_STAT_CD', 'international', \n",
    "            'age',\n",
    "            'exclClassCumGPA',\n",
    "           'Freshman',\n",
    "            'Junior',\n",
    "            'Sophomore',\n",
    "            'Senior',\n",
    "            'termCreditsGPA',\n",
    "            'termCreditsNoGPA',\n",
    "            'athlete_1',\n",
    "            'honorsPro',\n",
    "            'LSA', 'programBusiness', 'programEngineering', \n",
    "            'programInformation', 'programOther',\n",
    "            'HSCalculusTaken', \n",
    "            'highSchoolGPA', \n",
    "            'majorsCount', 'minorsCount',\n",
    "            'PREV_TERM_CUM_GPA',\n",
    "            'classGraded', 'classHonors', \n",
    "            'Pass_Fail', \n",
    "            'parentsGraduateEdu',  'minorityGroup', \n",
    "            'available_flashcards', \n",
    "            'days_offset', 'prev_time_elapsed',\n",
    "             'time_lag']\n",
    "grouped_data = dataframe[FEATURE_TRANS].groupby(['user_id']).apply(lambda r: (\n",
    "                r['answer_correct'],\n",
    "                r['term'],\n",
    "                r['chapter_label'],\n",
    "                r['sub_chapter_label'],\n",
    "                r['question_name'],\n",
    "                np.array([\n",
    "                  r['STDNT_SEX_CD'],r['STDNT_CTZN_STAT_CD'], r['international'], \n",
    "                  r['White'],r['Asian'],r['NonWhiteOrAsian'],\n",
    "                 r['age'],r['exclClassCumGPA'],\n",
    "                r['Freshman'], r['Junior'], r['Sophomore'], r['Senior'],\n",
    "                r['termCreditsGPA'], r['termCreditsNoGPA'],\n",
    "                r['athlete_1'], r['honorsPro'],\n",
    "                r['LSA'], r['programBusiness'], r['programEngineering'], \n",
    "                r['programInformation'], r['programOther'],\n",
    "                r['HSCalculusTaken'],  r['highSchoolGPA'], \n",
    "                r['majorsCount'], r['minorsCount'],\n",
    "                r['PREV_TERM_CUM_GPA'], \n",
    "                r['parentsGraduateEdu'], r['minorityGroup'],\n",
    "                r['available_flashcards'],\n",
    "                r['days_offset'],\n",
    "#                 r['prev_time_elapsed'],\n",
    "#                 r['time_lag']\n",
    "              ]).transpose()\n",
    "                ))"
   ]
  },
  {
   "cell_type": "code",
   "execution_count": 22,
   "metadata": {
    "execution": {
     "iopub.execute_input": "2021-08-08T14:59:59.998776Z",
     "iopub.status.busy": "2021-08-08T14:59:59.997654Z",
     "iopub.status.idle": "2021-08-08T15:00:00.001465Z",
     "shell.execute_reply": "2021-08-08T15:00:00.002196Z",
     "shell.execute_reply.started": "2021-07-31T12:07:32.580883Z"
    },
    "id": "XXLqQnjrlp_4",
    "outputId": "c801da79-f0bf-4fe5-b19c-7c799fe01556",
    "papermill": {
     "duration": 0.577652,
     "end_time": "2021-08-08T15:00:00.002410",
     "exception": false,
     "start_time": "2021-08-08T14:59:59.424758",
     "status": "completed"
    },
    "tags": []
   },
   "outputs": [
    {
     "data": {
      "text/plain": [
       "20"
      ]
     },
     "execution_count": 22,
     "metadata": {},
     "output_type": "execute_result"
    }
   ],
   "source": [
    "gc.collect()"
   ]
  },
  {
   "cell_type": "code",
   "execution_count": 23,
   "metadata": {
    "execution": {
     "iopub.execute_input": "2021-08-08T15:00:00.774465Z",
     "iopub.status.busy": "2021-08-08T15:00:00.769157Z",
     "iopub.status.idle": "2021-08-08T15:00:00.802485Z",
     "shell.execute_reply": "2021-08-08T15:00:00.801939Z",
     "shell.execute_reply.started": "2021-07-31T12:07:32.763535Z"
    },
    "id": "QYGQasdTrmP0",
    "papermill": {
     "duration": 0.404907,
     "end_time": "2021-08-08T15:00:00.802632",
     "exception": false,
     "start_time": "2021-08-08T15:00:00.397725",
     "status": "completed"
    },
    "tags": []
   },
   "outputs": [],
   "source": [
    "# remove students who don't have make any interactions with the tool\n",
    "toRemove = []\n",
    "for index in grouped_data.index:\n",
    "  if len(grouped_data[index][0]) <= 10:\n",
    "    toRemove.append(index)\n",
    "grouped_data = grouped_data.drop(index=toRemove)"
   ]
  },
  {
   "cell_type": "code",
   "execution_count": 24,
   "metadata": {
    "execution": {
     "iopub.execute_input": "2021-08-08T15:00:01.533485Z",
     "iopub.status.busy": "2021-08-08T15:00:01.532751Z",
     "iopub.status.idle": "2021-08-08T15:00:01.548275Z",
     "shell.execute_reply": "2021-08-08T15:00:01.548872Z",
     "shell.execute_reply.started": "2021-07-31T12:07:32.802433Z"
    },
    "papermill": {
     "duration": 0.381131,
     "end_time": "2021-08-08T15:00:01.549058",
     "exception": false,
     "start_time": "2021-08-08T15:00:01.167927",
     "status": "completed"
    },
    "tags": []
   },
   "outputs": [
    {
     "data": {
      "text/plain": [
       "count    1110.000000\n",
       "mean      550.263063\n",
       "std       201.281353\n",
       "min         2.000000\n",
       "25%       438.250000\n",
       "50%       520.500000\n",
       "75%       637.750000\n",
       "max      1500.000000\n",
       "Name: start_practice, dtype: float64"
      ]
     },
     "execution_count": 24,
     "metadata": {},
     "output_type": "execute_result"
    }
   ],
   "source": [
    "dataframe.groupby('user_id')['start_practice'].agg('count').describe()"
   ]
  },
  {
   "cell_type": "code",
   "execution_count": 25,
   "metadata": {
    "execution": {
     "iopub.execute_input": "2021-08-08T15:00:02.278578Z",
     "iopub.status.busy": "2021-08-08T15:00:02.277962Z",
     "iopub.status.idle": "2021-08-08T15:00:02.282354Z",
     "shell.execute_reply": "2021-08-08T15:00:02.282846Z",
     "shell.execute_reply.started": "2021-07-31T12:07:32.821988Z"
    },
    "papermill": {
     "duration": 0.37184,
     "end_time": "2021-08-08T15:00:02.283044",
     "exception": false,
     "start_time": "2021-08-08T15:00:01.911204",
     "status": "completed"
    },
    "tags": []
   },
   "outputs": [
    {
     "data": {
      "text/plain": [
       "['FA 2018:252', 'WN 2018:295']"
      ]
     },
     "execution_count": 25,
     "metadata": {},
     "output_type": "execute_result"
    }
   ],
   "source": [
    "toRemove"
   ]
  },
  {
   "cell_type": "code",
   "execution_count": 26,
   "metadata": {
    "execution": {
     "iopub.execute_input": "2021-08-08T15:00:03.016295Z",
     "iopub.status.busy": "2021-08-08T15:00:03.015548Z",
     "iopub.status.idle": "2021-08-08T15:00:03.019070Z",
     "shell.execute_reply": "2021-08-08T15:00:03.019568Z",
     "shell.execute_reply.started": "2021-07-31T12:07:32.831612Z"
    },
    "id": "9kZqV9siDyNb",
    "papermill": {
     "duration": 0.374223,
     "end_time": "2021-08-08T15:00:03.019762",
     "exception": false,
     "start_time": "2021-08-08T15:00:02.645539",
     "status": "completed"
    },
    "tags": []
   },
   "outputs": [],
   "source": [
    "#SETTINGS -> can be modified at any time\n",
    "MAXLENGTH = 400\n",
    "EMBEDDING_DIM = 128\n",
    "DENSE_NEURON = 16\n",
    "GRU_NEURON = 32"
   ]
  },
  {
   "cell_type": "code",
   "execution_count": 27,
   "metadata": {
    "execution": {
     "iopub.execute_input": "2021-08-08T15:00:03.744668Z",
     "iopub.status.busy": "2021-08-08T15:00:03.743834Z",
     "iopub.status.idle": "2021-08-08T15:00:03.748020Z",
     "shell.execute_reply": "2021-08-08T15:00:03.747523Z",
     "shell.execute_reply.started": "2021-07-31T12:07:32.84337Z"
    },
    "id": "1MksD1JizpPn",
    "papermill": {
     "duration": 0.36605,
     "end_time": "2021-08-08T15:00:03.748156",
     "exception": false,
     "start_time": "2021-08-08T15:00:03.382106",
     "status": "completed"
    },
    "tags": []
   },
   "outputs": [],
   "source": [
    "FEATURES_SIZE = 37\n",
    "CHAPTER_SIZE = 38\n",
    "SUB_CHAPTER_SIZE = 223\n",
    "QUESTION_SIZE = 1069"
   ]
  },
  {
   "cell_type": "code",
   "execution_count": 28,
   "metadata": {
    "execution": {
     "iopub.execute_input": "2021-08-08T15:00:04.477540Z",
     "iopub.status.busy": "2021-08-08T15:00:04.476567Z",
     "iopub.status.idle": "2021-08-08T15:00:04.487493Z",
     "shell.execute_reply": "2021-08-08T15:00:04.488024Z",
     "shell.execute_reply.started": "2021-07-31T12:07:32.851249Z"
    },
    "papermill": {
     "duration": 0.376024,
     "end_time": "2021-08-08T15:00:04.488217",
     "exception": false,
     "start_time": "2021-08-08T15:00:04.112193",
     "status": "completed"
    },
    "tags": []
   },
   "outputs": [
    {
     "data": {
      "text/plain": [
       "array([ 96,  86,  88,  28,  12,  82, 125,  32,  69,  33,  21, 115, 120,\n",
       "       119,  91,  73,  57,  77, 117,  40,  74,  41,  68,  39,  92,  47,\n",
       "       104,  95,  53,  49,  50,  16,  52,  55,   7,  15,  51, 102, 103,\n",
       "        11,  94, 108, 100,  17,  67,  63,  13, 139,  26,  25,   8, 107,\n",
       "         0,  90,  48,  54, 138,   1,   2,   3,  34,  35,  85,   5,  24,\n",
       "        37,  36,  78,  70,  45, 142,  71,  10,  89, 111, 112, 109, 116,\n",
       "        76,  72, 148, 134, 146, 221, 143,  56,  60,  61,  23, 140, 106,\n",
       "        42,  83,  22, 145, 136, 144,  38,   4,  19, 137,  75,  43,  98,\n",
       "        84, 113, 173, 174, 175, 176, 177, 178, 180, 181, 182, 187, 189,\n",
       "       190, 191, 192, 193, 195, 197, 151, 152, 153, 156, 157, 158, 159,\n",
       "       160, 161, 163, 164, 165, 166, 167, 168, 169, 170, 171, 172, 198,\n",
       "       199, 200, 201, 202, 203, 204, 205, 206, 207, 208, 209, 210, 162,\n",
       "       179, 186, 188, 194, 183, 184, 185, 211, 212, 213, 154, 155, 196,\n",
       "         6, 118,  18, 215,  46, 216, 141,  27, 217, 105, 123, 218, 101,\n",
       "       124, 219, 122, 220,  58,  59,  64,  20,  93,  65,  66,   9,  44,\n",
       "        30,  14,  79, 121,  31, 110, 129,  87,  97,  62, 149, 132, 131,\n",
       "       150, 130, 128,  99, 147, 127, 214, 135,  80, 126, 133,  81, 114,\n",
       "        29], dtype=int16)"
      ]
     },
     "execution_count": 28,
     "metadata": {},
     "output_type": "execute_result"
    }
   ],
   "source": [
    "dataframe['sub_chapter_label'].unique()"
   ]
  },
  {
   "cell_type": "code",
   "execution_count": 29,
   "metadata": {
    "execution": {
     "iopub.execute_input": "2021-08-08T15:00:05.213391Z",
     "iopub.status.busy": "2021-08-08T15:00:05.212696Z",
     "iopub.status.idle": "2021-08-08T15:00:06.139830Z",
     "shell.execute_reply": "2021-08-08T15:00:06.140420Z",
     "shell.execute_reply.started": "2021-07-31T12:07:32.870313Z"
    },
    "id": "mY3Thp6d0NaT",
    "papermill": {
     "duration": 1.29414,
     "end_time": "2021-08-08T15:00:06.140602",
     "exception": false,
     "start_time": "2021-08-08T15:00:04.846462",
     "status": "completed"
    },
    "tags": []
   },
   "outputs": [],
   "source": [
    "#create dataset class\n",
    "#to prepare it for train, valid, and test sets\n",
    "from torch.utils.data import Dataset, DataLoader\n",
    "class SPACE_DATASET(Dataset):\n",
    "    def __init__(self, data, maxlength = 400):\n",
    "        super(SPACE_DATASET, self).__init__()\n",
    "        self.maxlength = maxlength\n",
    "        self.data = data\n",
    "        self.users = list()\n",
    "        for user in data.index:\n",
    "            self.users.append(user)\n",
    "\n",
    "    def __len__(self):\n",
    "        return len(self.users)\n",
    "    \n",
    "    def __getitem__(self, ix):\n",
    "        user = self.users[ix]\n",
    "        user = user\n",
    "        target, term, ch_label, sub_ch_label, ques_name, features = self.data[user]\n",
    "        \n",
    "        #0s should be used as padding values\n",
    "        ori_target = target.values \n",
    "        term = term.values\n",
    "        ch_label = ch_label.values + 1\n",
    "        sub_ch_label = sub_ch_label.values +1\n",
    "        ques_name = ques_name.values + 1\n",
    "        \n",
    "        n = len(ch_label)\n",
    "\n",
    "        # one hot for term\n",
    "        term_encode = [0]*7\n",
    "        term_encode[term[0]] = 1\n",
    "        shifted_target= []\n",
    "\n",
    "        \n",
    "        # get  user interaction informations in the previous MAXLEN interactions\n",
    "        if n > self.maxlength:\n",
    "          ch_label = ch_label[-self.maxlength:]\n",
    "          sub_ch_label = sub_ch_label[-self.maxlength:]\n",
    "          ques_name = ques_name[-self.maxlength:]\n",
    "          features = features[-self.maxlength:]\n",
    "          target = ori_target[-self.maxlength:]\n",
    "          shifted_target = ori_target[ (-self.maxlength - 1) :-1]\n",
    "        else:\n",
    "          ch_label = [0]*(self.maxlength - n)+list(ch_label[:])\n",
    "          sub_ch_label = [0]*(self.maxlength - n)+list(sub_ch_label[:])\n",
    "          ques_name = [0]*(self.maxlength - n)+list(ques_name[:])\n",
    "          features = [[0]*len(features[0])]*(self.maxlength  - n)+list(features[:])\n",
    "          target = [-1]*(self.maxlength - n) + list(ori_target[:])\n",
    "          shifted_target = [2]*(self.maxlength + 1 - n) + list(ori_target[:-1])\n",
    "\n",
    "        new_features = []\n",
    "        count = 0\n",
    "        for f in features:\n",
    "          temp = list(f)\n",
    "          temp.extend(term_encode)\n",
    "          #temp.append(shifted_target[count]) #uncomment this line for include previous response feature\n",
    "          new_features.append(temp)\n",
    "          count += 1\n",
    "        features = new_features\n",
    "        return ch_label,sub_ch_label,ques_name,features, shifted_target, target"
   ]
  },
  {
   "cell_type": "code",
   "execution_count": 30,
   "metadata": {
    "execution": {
     "iopub.execute_input": "2021-08-08T15:00:06.863603Z",
     "iopub.status.busy": "2021-08-08T15:00:06.862964Z",
     "iopub.status.idle": "2021-08-08T15:00:06.867711Z",
     "shell.execute_reply": "2021-08-08T15:00:06.868245Z",
     "shell.execute_reply.started": "2021-07-31T12:07:33.249192Z"
    },
    "papermill": {
     "duration": 0.368717,
     "end_time": "2021-08-08T15:00:06.868424",
     "exception": false,
     "start_time": "2021-08-08T15:00:06.499707",
     "status": "completed"
    },
    "tags": []
   },
   "outputs": [
    {
     "data": {
      "text/plain": [
       "223"
      ]
     },
     "execution_count": 30,
     "metadata": {},
     "output_type": "execute_result"
    }
   ],
   "source": [
    "SUB_CHAPTER_SIZE"
   ]
  },
  {
   "cell_type": "markdown",
   "metadata": {
    "id": "4xc90-aLzxat",
    "papermill": {
     "duration": 0.394411,
     "end_time": "2021-08-08T15:00:07.658583",
     "exception": false,
     "start_time": "2021-08-08T15:00:07.264172",
     "status": "completed"
    },
    "tags": []
   },
   "source": [
    "## KFOLD - GRU\n"
   ]
  },
  {
   "cell_type": "code",
   "execution_count": 31,
   "metadata": {
    "execution": {
     "iopub.execute_input": "2021-08-08T15:00:08.391596Z",
     "iopub.status.busy": "2021-08-08T15:00:08.390901Z",
     "iopub.status.idle": "2021-08-08T15:25:07.471471Z",
     "shell.execute_reply": "2021-08-08T15:25:07.470904Z",
     "shell.execute_reply.started": "2021-07-31T12:07:33.257302Z"
    },
    "id": "gzJrljnjzypP",
    "outputId": "87abe488-b493-4f8f-9d71-45cb1d2ddf51",
    "papermill": {
     "duration": 1499.446887,
     "end_time": "2021-08-08T15:25:07.471629",
     "exception": false,
     "start_time": "2021-08-08T15:00:08.024742",
     "status": "completed"
    },
    "tags": []
   },
   "outputs": [
    {
     "name": "stdout",
     "output_type": "stream",
     "text": [
      "Epoch 1/100\n",
      "14/14 [==============================] - 24s 1s/step - loss: 0.5727 - masked_acc: 0.7006 - masked_auc: 0.5330 - val_loss: 0.4693 - val_masked_acc: 0.7241 - val_masked_auc: 0.6974\n",
      "Epoch 2/100\n",
      "14/14 [==============================] - 12s 855ms/step - loss: 0.4501 - masked_acc: 0.7321 - masked_auc: 0.7272 - val_loss: 0.4261 - val_masked_acc: 0.7508 - val_masked_auc: 0.7716\n",
      "Epoch 3/100\n",
      "14/14 [==============================] - 12s 880ms/step - loss: 0.4187 - masked_acc: 0.7542 - masked_auc: 0.7817 - val_loss: 0.4210 - val_masked_acc: 0.7615 - val_masked_auc: 0.7980\n",
      "Epoch 4/100\n",
      "14/14 [==============================] - 12s 871ms/step - loss: 0.4076 - masked_acc: 0.7633 - masked_auc: 0.8027 - val_loss: 0.4125 - val_masked_acc: 0.7676 - val_masked_auc: 0.8117\n",
      "Epoch 5/100\n",
      "14/14 [==============================] - 12s 852ms/step - loss: 0.3955 - masked_acc: 0.7690 - masked_auc: 0.8147 - val_loss: 0.4127 - val_masked_acc: 0.7718 - val_masked_auc: 0.8205\n",
      "Epoch 6/100\n",
      "14/14 [==============================] - 12s 870ms/step - loss: 0.3980 - masked_acc: 0.7726 - masked_auc: 0.8225 - val_loss: 0.4110 - val_masked_acc: 0.7747 - val_masked_auc: 0.8264\n",
      "Epoch 7/100\n",
      "14/14 [==============================] - 12s 830ms/step - loss: 0.4018 - masked_acc: 0.7750 - masked_auc: 0.8277 - val_loss: 0.4072 - val_masked_acc: 0.7772 - val_masked_auc: 0.8312\n",
      "Epoch 8/100\n",
      "14/14 [==============================] - 12s 848ms/step - loss: 0.3951 - masked_acc: 0.7778 - masked_auc: 0.8324 - val_loss: 0.4052 - val_masked_acc: 0.7795 - val_masked_auc: 0.8351\n",
      "Epoch 9/100\n",
      "14/14 [==============================] - 12s 873ms/step - loss: 0.3932 - masked_acc: 0.7800 - masked_auc: 0.8360 - val_loss: 0.4053 - val_masked_acc: 0.7814 - val_masked_auc: 0.8382\n",
      "Epoch 10/100\n",
      "14/14 [==============================] - 12s 829ms/step - loss: 0.3867 - masked_acc: 0.7818 - masked_auc: 0.8391 - val_loss: 0.4068 - val_masked_acc: 0.7830 - val_masked_auc: 0.8410\n",
      "Epoch 11/100\n",
      "14/14 [==============================] - 12s 834ms/step - loss: 0.3891 - masked_acc: 0.7833 - masked_auc: 0.8416 - val_loss: 0.4039 - val_masked_acc: 0.7845 - val_masked_auc: 0.8434\n",
      "Epoch 12/100\n",
      "14/14 [==============================] - 12s 856ms/step - loss: 0.3800 - masked_acc: 0.7849 - masked_auc: 0.8442 - val_loss: 0.4068 - val_masked_acc: 0.7859 - val_masked_auc: 0.8456\n",
      "Epoch 13/100\n",
      "14/14 [==============================] - 12s 838ms/step - loss: 0.3783 - masked_acc: 0.7862 - masked_auc: 0.8462 - val_loss: 0.4016 - val_masked_acc: 0.7872 - val_masked_auc: 0.8477\n",
      "Epoch 14/100\n",
      "14/14 [==============================] - 12s 846ms/step - loss: 0.3715 - masked_acc: 0.7875 - masked_auc: 0.8483 - val_loss: 0.4054 - val_masked_acc: 0.7883 - val_masked_auc: 0.8495\n",
      "Epoch 15/100\n",
      "14/14 [==============================] - 12s 850ms/step - loss: 0.3781 - masked_acc: 0.7885 - masked_auc: 0.8500 - val_loss: 0.4043 - val_masked_acc: 0.7894 - val_masked_auc: 0.8512\n",
      "Epoch 16/100\n",
      "14/14 [==============================] - 12s 842ms/step - loss: 0.3647 - masked_acc: 0.7897 - masked_auc: 0.8518 - val_loss: 0.4083 - val_masked_acc: 0.7904 - val_masked_auc: 0.8528\n",
      "Epoch 17/100\n",
      "14/14 [==============================] - 12s 846ms/step - loss: 0.3693 - masked_acc: 0.7907 - masked_auc: 0.8532 - val_loss: 0.4083 - val_masked_acc: 0.7914 - val_masked_auc: 0.8542\n",
      "Epoch 18/100\n",
      "14/14 [==============================] - 11s 819ms/step - loss: 0.3636 - masked_acc: 0.7917 - masked_auc: 0.8547 - val_loss: 0.4100 - val_masked_acc: 0.7924 - val_masked_auc: 0.8556\n",
      "Epoch 19/100\n",
      "14/14 [==============================] - 12s 880ms/step - loss: 0.3609 - masked_acc: 0.7926 - masked_auc: 0.8561 - val_loss: 0.4129 - val_masked_acc: 0.7932 - val_masked_auc: 0.8570\n",
      "Epoch 20/100\n",
      "14/14 [==============================] - 12s 833ms/step - loss: 0.3573 - masked_acc: 0.7935 - masked_auc: 0.8574 - val_loss: 0.4140 - val_masked_acc: 0.7942 - val_masked_auc: 0.8583\n",
      "Epoch 21/100\n",
      "14/14 [==============================] - 12s 840ms/step - loss: 0.3533 - masked_acc: 0.7945 - masked_auc: 0.8588 - val_loss: 0.4202 - val_masked_acc: 0.7951 - val_masked_auc: 0.8596\n",
      "Epoch 22/100\n",
      "14/14 [==============================] - 12s 847ms/step - loss: 0.3453 - masked_acc: 0.7954 - masked_auc: 0.8601 - val_loss: 0.4256 - val_masked_acc: 0.7960 - val_masked_auc: 0.8609\n",
      "Epoch 23/100\n",
      "14/14 [==============================] - 12s 862ms/step - loss: 0.3488 - masked_acc: 0.7963 - masked_auc: 0.8613 - val_loss: 0.4265 - val_masked_acc: 0.7969 - val_masked_auc: 0.8621\n",
      "28/28 [==============================] - 4s 125ms/step - loss: 0.3441 - masked_acc: 0.7975 - masked_auc: 0.8629\n",
      "4/4 [==============================] - 1s 121ms/step - loss: 0.3993 - masked_acc: 0.7978 - masked_auc: 0.8634\n",
      "Test:  [0.3992786109447479, 0.7978243827819824, 0.8634034395217896]\n",
      "Epoch 1/100\n",
      "14/14 [==============================] - 23s 1s/step - loss: 0.5733 - masked_acc: 0.6760 - masked_auc: 0.5402 - val_loss: 0.4738 - val_masked_acc: 0.7244 - val_masked_auc: 0.6989\n",
      "Epoch 2/100\n",
      "14/14 [==============================] - 12s 850ms/step - loss: 0.4407 - masked_acc: 0.7333 - masked_auc: 0.7277 - val_loss: 0.4403 - val_masked_acc: 0.7505 - val_masked_auc: 0.7723\n",
      "Epoch 3/100\n",
      "14/14 [==============================] - 12s 863ms/step - loss: 0.4167 - masked_acc: 0.7541 - masked_auc: 0.7817 - val_loss: 0.4365 - val_masked_acc: 0.7616 - val_masked_auc: 0.7986\n",
      "Epoch 4/100\n",
      "14/14 [==============================] - 12s 869ms/step - loss: 0.4013 - masked_acc: 0.7634 - masked_auc: 0.8033 - val_loss: 0.4315 - val_masked_acc: 0.7676 - val_masked_auc: 0.8124\n",
      "Epoch 5/100\n",
      "14/14 [==============================] - 12s 840ms/step - loss: 0.4055 - masked_acc: 0.7686 - masked_auc: 0.8149 - val_loss: 0.4283 - val_masked_acc: 0.7717 - val_masked_auc: 0.8210\n",
      "Epoch 6/100\n",
      "14/14 [==============================] - 12s 863ms/step - loss: 0.3871 - masked_acc: 0.7731 - masked_auc: 0.8232 - val_loss: 0.4252 - val_masked_acc: 0.7751 - val_masked_auc: 0.8272\n",
      "Epoch 7/100\n",
      "14/14 [==============================] - 12s 842ms/step - loss: 0.3979 - masked_acc: 0.7758 - masked_auc: 0.8286 - val_loss: 0.4234 - val_masked_acc: 0.7778 - val_masked_auc: 0.8318\n",
      "Epoch 8/100\n",
      "14/14 [==============================] - 12s 895ms/step - loss: 0.3892 - masked_acc: 0.7785 - masked_auc: 0.8330 - val_loss: 0.4205 - val_masked_acc: 0.7801 - val_masked_auc: 0.8356\n",
      "Epoch 9/100\n",
      "14/14 [==============================] - 12s 858ms/step - loss: 0.3849 - masked_acc: 0.7808 - masked_auc: 0.8368 - val_loss: 0.4203 - val_masked_acc: 0.7821 - val_masked_auc: 0.8388\n",
      "Epoch 10/100\n",
      "14/14 [==============================] - 12s 872ms/step - loss: 0.3838 - masked_acc: 0.7826 - masked_auc: 0.8396 - val_loss: 0.4204 - val_masked_acc: 0.7839 - val_masked_auc: 0.8416\n",
      "Epoch 11/100\n",
      "14/14 [==============================] - 12s 895ms/step - loss: 0.3746 - masked_acc: 0.7844 - masked_auc: 0.8425 - val_loss: 0.4180 - val_masked_acc: 0.7854 - val_masked_auc: 0.8441\n",
      "Epoch 12/100\n",
      "14/14 [==============================] - 12s 877ms/step - loss: 0.3749 - masked_acc: 0.7859 - masked_auc: 0.8449 - val_loss: 0.4187 - val_masked_acc: 0.7869 - val_masked_auc: 0.8463\n",
      "Epoch 13/100\n",
      "14/14 [==============================] - 13s 905ms/step - loss: 0.3737 - masked_acc: 0.7873 - masked_auc: 0.8470 - val_loss: 0.4205 - val_masked_acc: 0.7882 - val_masked_auc: 0.8483\n",
      "Epoch 14/100\n",
      "14/14 [==============================] - 12s 864ms/step - loss: 0.3721 - masked_acc: 0.7885 - masked_auc: 0.8488 - val_loss: 0.4173 - val_masked_acc: 0.7894 - val_masked_auc: 0.8501\n",
      "Epoch 15/100\n",
      "14/14 [==============================] - 12s 861ms/step - loss: 0.3712 - masked_acc: 0.7897 - masked_auc: 0.8506 - val_loss: 0.4170 - val_masked_acc: 0.7905 - val_masked_auc: 0.8517\n",
      "Epoch 16/100\n",
      "14/14 [==============================] - 12s 881ms/step - loss: 0.3699 - masked_acc: 0.7908 - masked_auc: 0.8522 - val_loss: 0.4194 - val_masked_acc: 0.7916 - val_masked_auc: 0.8533\n",
      "Epoch 17/100\n",
      "14/14 [==============================] - 12s 851ms/step - loss: 0.3727 - masked_acc: 0.7918 - masked_auc: 0.8537 - val_loss: 0.4195 - val_masked_acc: 0.7926 - val_masked_auc: 0.8548\n",
      "Epoch 18/100\n",
      "14/14 [==============================] - 12s 859ms/step - loss: 0.3638 - masked_acc: 0.7929 - masked_auc: 0.8553 - val_loss: 0.4199 - val_masked_acc: 0.7936 - val_masked_auc: 0.8562\n",
      "Epoch 19/100\n",
      "14/14 [==============================] - 13s 883ms/step - loss: 0.3600 - masked_acc: 0.7939 - masked_auc: 0.8566 - val_loss: 0.4214 - val_masked_acc: 0.7945 - val_masked_auc: 0.8576\n",
      "Epoch 20/100\n",
      "14/14 [==============================] - 12s 862ms/step - loss: 0.3550 - masked_acc: 0.7948 - masked_auc: 0.8580 - val_loss: 0.4217 - val_masked_acc: 0.7954 - val_masked_auc: 0.8588\n",
      "Epoch 21/100\n",
      "14/14 [==============================] - 12s 876ms/step - loss: 0.3560 - masked_acc: 0.7957 - masked_auc: 0.8592 - val_loss: 0.4252 - val_masked_acc: 0.7963 - val_masked_auc: 0.8601\n",
      "Epoch 22/100\n",
      "14/14 [==============================] - 12s 872ms/step - loss: 0.3542 - masked_acc: 0.7966 - masked_auc: 0.8605 - val_loss: 0.4237 - val_masked_acc: 0.7972 - val_masked_auc: 0.8613\n",
      "Epoch 23/100\n",
      "14/14 [==============================] - 12s 850ms/step - loss: 0.3479 - masked_acc: 0.7975 - masked_auc: 0.8617 - val_loss: 0.4277 - val_masked_acc: 0.7981 - val_masked_auc: 0.8625\n",
      "Epoch 24/100\n",
      "14/14 [==============================] - 12s 866ms/step - loss: 0.3489 - masked_acc: 0.7983 - masked_auc: 0.8629 - val_loss: 0.4300 - val_masked_acc: 0.7989 - val_masked_auc: 0.8637\n",
      "Epoch 25/100\n",
      "14/14 [==============================] - 12s 860ms/step - loss: 0.3407 - masked_acc: 0.7992 - masked_auc: 0.8641 - val_loss: 0.4317 - val_masked_acc: 0.7998 - val_masked_auc: 0.8649\n",
      "28/28 [==============================] - 4s 134ms/step - loss: 0.3354 - masked_acc: 0.8004 - masked_auc: 0.8657\n",
      "4/4 [==============================] - 1s 121ms/step - loss: 0.4038 - masked_acc: 0.8007 - masked_auc: 0.8661\n",
      "Test:  [0.4037628173828125, 0.8007224798202515, 0.8661214113235474]\n",
      "Epoch 1/100\n",
      "14/14 [==============================] - 23s 1s/step - loss: 0.5836 - masked_acc: 0.5609 - masked_auc: 0.5318 - val_loss: 0.4885 - val_masked_acc: 0.7010 - val_masked_auc: 0.6763\n",
      "Epoch 2/100\n",
      "14/14 [==============================] - 12s 878ms/step - loss: 0.4430 - masked_acc: 0.7152 - masked_auc: 0.7118 - val_loss: 0.4392 - val_masked_acc: 0.7395 - val_masked_auc: 0.7634\n",
      "Epoch 3/100\n",
      "14/14 [==============================] - 12s 871ms/step - loss: 0.4096 - masked_acc: 0.7456 - masked_auc: 0.7750 - val_loss: 0.4372 - val_masked_acc: 0.7549 - val_masked_auc: 0.7939\n",
      "Epoch 4/100\n",
      "14/14 [==============================] - 12s 842ms/step - loss: 0.4066 - masked_acc: 0.7572 - masked_auc: 0.7991 - val_loss: 0.4304 - val_masked_acc: 0.7634 - val_masked_auc: 0.8097\n",
      "Epoch 5/100\n",
      "14/14 [==============================] - 12s 873ms/step - loss: 0.3891 - masked_acc: 0.7653 - masked_auc: 0.8131 - val_loss: 0.4271 - val_masked_acc: 0.7689 - val_masked_auc: 0.8194\n",
      "Epoch 6/100\n",
      "14/14 [==============================] - 12s 879ms/step - loss: 0.3917 - masked_acc: 0.7702 - masked_auc: 0.8218 - val_loss: 0.4260 - val_masked_acc: 0.7729 - val_masked_auc: 0.8262\n",
      "Epoch 7/100\n",
      "14/14 [==============================] - 12s 857ms/step - loss: 0.3907 - masked_acc: 0.7739 - masked_auc: 0.8280 - val_loss: 0.4246 - val_masked_acc: 0.7762 - val_masked_auc: 0.8314\n",
      "Epoch 8/100\n",
      "14/14 [==============================] - 12s 840ms/step - loss: 0.3865 - masked_acc: 0.7770 - masked_auc: 0.8327 - val_loss: 0.4233 - val_masked_acc: 0.7789 - val_masked_auc: 0.8354\n",
      "Epoch 9/100\n",
      "14/14 [==============================] - 12s 830ms/step - loss: 0.3775 - masked_acc: 0.7797 - masked_auc: 0.8367 - val_loss: 0.4257 - val_masked_acc: 0.7812 - val_masked_auc: 0.8388\n",
      "Epoch 10/100\n",
      "14/14 [==============================] - 12s 875ms/step - loss: 0.3758 - masked_acc: 0.7818 - masked_auc: 0.8398 - val_loss: 0.4210 - val_masked_acc: 0.7831 - val_masked_auc: 0.8418\n",
      "Epoch 11/100\n",
      "14/14 [==============================] - 12s 846ms/step - loss: 0.3772 - masked_acc: 0.7836 - masked_auc: 0.8426 - val_loss: 0.4241 - val_masked_acc: 0.7849 - val_masked_auc: 0.8443\n",
      "Epoch 12/100\n",
      "14/14 [==============================] - 12s 863ms/step - loss: 0.3783 - masked_acc: 0.7853 - masked_auc: 0.8450 - val_loss: 0.4228 - val_masked_acc: 0.7865 - val_masked_auc: 0.8467\n",
      "Epoch 13/100\n",
      "14/14 [==============================] - 12s 873ms/step - loss: 0.3699 - masked_acc: 0.7870 - masked_auc: 0.8474 - val_loss: 0.4225 - val_masked_acc: 0.7880 - val_masked_auc: 0.8488\n",
      "Epoch 14/100\n",
      "14/14 [==============================] - 12s 835ms/step - loss: 0.3738 - masked_acc: 0.7883 - masked_auc: 0.8493 - val_loss: 0.4217 - val_masked_acc: 0.7894 - val_masked_auc: 0.8508\n",
      "Epoch 15/100\n",
      "14/14 [==============================] - 12s 847ms/step - loss: 0.3634 - masked_acc: 0.7898 - masked_auc: 0.8514 - val_loss: 0.4250 - val_masked_acc: 0.7907 - val_masked_auc: 0.8526\n",
      "Epoch 16/100\n",
      "14/14 [==============================] - 12s 857ms/step - loss: 0.3665 - masked_acc: 0.7910 - masked_auc: 0.8531 - val_loss: 0.4219 - val_masked_acc: 0.7919 - val_masked_auc: 0.8542\n",
      "Epoch 17/100\n",
      "14/14 [==============================] - 12s 850ms/step - loss: 0.3567 - masked_acc: 0.7923 - masked_auc: 0.8548 - val_loss: 0.4257 - val_masked_acc: 0.7930 - val_masked_auc: 0.8558\n",
      "Epoch 18/100\n",
      "14/14 [==============================] - 12s 862ms/step - loss: 0.3577 - masked_acc: 0.7934 - masked_auc: 0.8563 - val_loss: 0.4267 - val_masked_acc: 0.7941 - val_masked_auc: 0.8572\n",
      "Epoch 19/100\n",
      "14/14 [==============================] - 12s 835ms/step - loss: 0.3542 - masked_acc: 0.7944 - masked_auc: 0.8577 - val_loss: 0.4309 - val_masked_acc: 0.7951 - val_masked_auc: 0.8586\n",
      "Epoch 20/100\n",
      "14/14 [==============================] - 12s 864ms/step - loss: 0.3491 - masked_acc: 0.7954 - masked_auc: 0.8590 - val_loss: 0.4332 - val_masked_acc: 0.7961 - val_masked_auc: 0.8599\n",
      "28/28 [==============================] - 4s 142ms/step - loss: 0.3471 - masked_acc: 0.7968 - masked_auc: 0.8608\n",
      "4/4 [==============================] - 1s 141ms/step - loss: 0.4218 - masked_acc: 0.7971 - masked_auc: 0.8613\n",
      "Test:  [0.42178255319595337, 0.7971268892288208, 0.8613272309303284]\n",
      "Epoch 1/100\n",
      "14/14 [==============================] - 22s 1s/step - loss: 0.5801 - masked_acc: 0.5473 - masked_auc: 0.5403 - val_loss: 0.4488 - val_masked_acc: 0.7027 - val_masked_auc: 0.7012\n",
      "Epoch 2/100\n",
      "14/14 [==============================] - 12s 878ms/step - loss: 0.4522 - masked_acc: 0.7146 - masked_auc: 0.7299 - val_loss: 0.4124 - val_masked_acc: 0.7406 - val_masked_auc: 0.7739\n",
      "Epoch 3/100\n",
      "14/14 [==============================] - 12s 853ms/step - loss: 0.4150 - masked_acc: 0.7454 - masked_auc: 0.7835 - val_loss: 0.4072 - val_masked_acc: 0.7553 - val_masked_auc: 0.7996\n",
      "Epoch 4/100\n",
      "14/14 [==============================] - 12s 859ms/step - loss: 0.4107 - masked_acc: 0.7574 - masked_auc: 0.8042 - val_loss: 0.4038 - val_masked_acc: 0.7631 - val_masked_auc: 0.8133\n",
      "Epoch 5/100\n",
      "14/14 [==============================] - 12s 862ms/step - loss: 0.4005 - masked_acc: 0.7648 - masked_auc: 0.8161 - val_loss: 0.4017 - val_masked_acc: 0.7683 - val_masked_auc: 0.8218\n",
      "Epoch 6/100\n",
      "14/14 [==============================] - 12s 850ms/step - loss: 0.3943 - masked_acc: 0.7696 - masked_auc: 0.8238 - val_loss: 0.4030 - val_masked_acc: 0.7721 - val_masked_auc: 0.8278\n",
      "Epoch 7/100\n",
      "14/14 [==============================] - 12s 865ms/step - loss: 0.3979 - masked_acc: 0.7729 - masked_auc: 0.8291 - val_loss: 0.4005 - val_masked_acc: 0.7752 - val_masked_auc: 0.8324\n",
      "Epoch 8/100\n",
      "14/14 [==============================] - 12s 871ms/step - loss: 0.3948 - masked_acc: 0.7760 - masked_auc: 0.8336 - val_loss: 0.4010 - val_masked_acc: 0.7778 - val_masked_auc: 0.8361\n",
      "Epoch 9/100\n",
      "14/14 [==============================] - 12s 868ms/step - loss: 0.3944 - masked_acc: 0.7783 - masked_auc: 0.8369 - val_loss: 0.3965 - val_masked_acc: 0.7800 - val_masked_auc: 0.8392\n",
      "Epoch 10/100\n",
      "14/14 [==============================] - 12s 843ms/step - loss: 0.3915 - masked_acc: 0.7804 - masked_auc: 0.8400 - val_loss: 0.3971 - val_masked_acc: 0.7819 - val_masked_auc: 0.8418\n",
      "Epoch 11/100\n",
      "14/14 [==============================] - 12s 858ms/step - loss: 0.3856 - masked_acc: 0.7824 - masked_auc: 0.8426 - val_loss: 0.3945 - val_masked_acc: 0.7836 - val_masked_auc: 0.8442\n",
      "Epoch 12/100\n",
      "14/14 [==============================] - 12s 880ms/step - loss: 0.3880 - masked_acc: 0.7839 - masked_auc: 0.8448 - val_loss: 0.3949 - val_masked_acc: 0.7851 - val_masked_auc: 0.8463\n",
      "Epoch 13/100\n",
      "14/14 [==============================] - 12s 847ms/step - loss: 0.3764 - masked_acc: 0.7855 - masked_auc: 0.8469 - val_loss: 0.3930 - val_masked_acc: 0.7865 - val_masked_auc: 0.8483\n",
      "Epoch 14/100\n",
      "14/14 [==============================] - 12s 843ms/step - loss: 0.3789 - masked_acc: 0.7869 - masked_auc: 0.8488 - val_loss: 0.3929 - val_masked_acc: 0.7878 - val_masked_auc: 0.8501\n",
      "Epoch 15/100\n",
      "14/14 [==============================] - 12s 887ms/step - loss: 0.3720 - masked_acc: 0.7882 - masked_auc: 0.8506 - val_loss: 0.3955 - val_masked_acc: 0.7891 - val_masked_auc: 0.8518\n",
      "Epoch 16/100\n",
      "14/14 [==============================] - 12s 833ms/step - loss: 0.3700 - masked_acc: 0.7894 - masked_auc: 0.8522 - val_loss: 0.3954 - val_masked_acc: 0.7902 - val_masked_auc: 0.8533\n",
      "Epoch 17/100\n",
      "14/14 [==============================] - 12s 859ms/step - loss: 0.3674 - masked_acc: 0.7906 - masked_auc: 0.8538 - val_loss: 0.3948 - val_masked_acc: 0.7914 - val_masked_auc: 0.8548\n",
      "Epoch 18/100\n",
      "14/14 [==============================] - 12s 856ms/step - loss: 0.3679 - masked_acc: 0.7916 - masked_auc: 0.8552 - val_loss: 0.3969 - val_masked_acc: 0.7924 - val_masked_auc: 0.8562\n",
      "Epoch 19/100\n",
      "14/14 [==============================] - 12s 835ms/step - loss: 0.3593 - masked_acc: 0.7927 - masked_auc: 0.8567 - val_loss: 0.3986 - val_masked_acc: 0.7934 - val_masked_auc: 0.8575\n",
      "Epoch 20/100\n",
      "14/14 [==============================] - 12s 863ms/step - loss: 0.3573 - masked_acc: 0.7937 - masked_auc: 0.8580 - val_loss: 0.4023 - val_masked_acc: 0.7944 - val_masked_auc: 0.8589\n",
      "Epoch 21/100\n",
      "14/14 [==============================] - 12s 845ms/step - loss: 0.3552 - masked_acc: 0.7947 - masked_auc: 0.8593 - val_loss: 0.4033 - val_masked_acc: 0.7954 - val_masked_auc: 0.8601\n",
      "Epoch 22/100\n",
      "14/14 [==============================] - 12s 868ms/step - loss: 0.3565 - masked_acc: 0.7957 - masked_auc: 0.8605 - val_loss: 0.4045 - val_masked_acc: 0.7963 - val_masked_auc: 0.8613\n",
      "Epoch 23/100\n",
      "14/14 [==============================] - 12s 864ms/step - loss: 0.3558 - masked_acc: 0.7966 - masked_auc: 0.8617 - val_loss: 0.4082 - val_masked_acc: 0.7972 - val_masked_auc: 0.8625\n",
      "Epoch 24/100\n",
      "14/14 [==============================] - 12s 840ms/step - loss: 0.3512 - masked_acc: 0.7974 - masked_auc: 0.8628 - val_loss: 0.4108 - val_masked_acc: 0.7980 - val_masked_auc: 0.8636\n",
      "28/28 [==============================] - 4s 135ms/step - loss: 0.3400 - masked_acc: 0.7987 - masked_auc: 0.8645\n",
      "4/4 [==============================] - 1s 122ms/step - loss: 0.4075 - masked_acc: 0.7990 - masked_auc: 0.8650\n",
      "Test:  [0.4074954390525818, 0.7989925146102905, 0.8649569153785706]\n",
      "Epoch 1/100\n",
      "14/14 [==============================] - 23s 1s/step - loss: 0.5960 - masked_acc: 0.5520 - masked_auc: 0.5439 - val_loss: 0.4561 - val_masked_acc: 0.6997 - val_masked_auc: 0.6735\n",
      "Epoch 2/100\n",
      "14/14 [==============================] - 12s 897ms/step - loss: 0.4544 - masked_acc: 0.7108 - masked_auc: 0.7068 - val_loss: 0.3994 - val_masked_acc: 0.7369 - val_masked_auc: 0.7591\n",
      "Epoch 3/100\n",
      "14/14 [==============================] - 12s 857ms/step - loss: 0.4171 - masked_acc: 0.7424 - masked_auc: 0.7708 - val_loss: 0.3864 - val_masked_acc: 0.7527 - val_masked_auc: 0.7906\n",
      "Epoch 4/100\n",
      "14/14 [==============================] - 12s 842ms/step - loss: 0.4125 - masked_acc: 0.7552 - masked_auc: 0.7960 - val_loss: 0.3832 - val_masked_acc: 0.7614 - val_masked_auc: 0.8069\n",
      "Epoch 5/100\n",
      "14/14 [==============================] - 12s 880ms/step - loss: 0.4064 - masked_acc: 0.7627 - masked_auc: 0.8099 - val_loss: 0.3793 - val_masked_acc: 0.7671 - val_masked_auc: 0.8170\n",
      "Epoch 6/100\n",
      "14/14 [==============================] - 12s 872ms/step - loss: 0.4013 - masked_acc: 0.7682 - masked_auc: 0.8192 - val_loss: 0.3772 - val_masked_acc: 0.7712 - val_masked_auc: 0.8241\n",
      "Epoch 7/100\n",
      "14/14 [==============================] - 12s 855ms/step - loss: 0.3944 - masked_acc: 0.7722 - masked_auc: 0.8258 - val_loss: 0.3742 - val_masked_acc: 0.7745 - val_masked_auc: 0.8294\n",
      "Epoch 8/100\n",
      "14/14 [==============================] - 12s 849ms/step - loss: 0.3970 - masked_acc: 0.7753 - masked_auc: 0.8307 - val_loss: 0.3733 - val_masked_acc: 0.7774 - val_masked_auc: 0.8338\n",
      "Epoch 9/100\n",
      "14/14 [==============================] - 12s 849ms/step - loss: 0.3947 - masked_acc: 0.7780 - masked_auc: 0.8347 - val_loss: 0.3722 - val_masked_acc: 0.7798 - val_masked_auc: 0.8374\n",
      "Epoch 10/100\n",
      "14/14 [==============================] - 12s 895ms/step - loss: 0.3919 - masked_acc: 0.7803 - masked_auc: 0.8383 - val_loss: 0.3728 - val_masked_acc: 0.7819 - val_masked_auc: 0.8405\n",
      "Epoch 11/100\n",
      "14/14 [==============================] - 12s 855ms/step - loss: 0.3833 - masked_acc: 0.7825 - masked_auc: 0.8413 - val_loss: 0.3748 - val_masked_acc: 0.7837 - val_masked_auc: 0.8431\n",
      "Epoch 12/100\n",
      "14/14 [==============================] - 12s 865ms/step - loss: 0.3806 - masked_acc: 0.7842 - masked_auc: 0.8438 - val_loss: 0.3719 - val_masked_acc: 0.7854 - val_masked_auc: 0.8454\n",
      "Epoch 13/100\n",
      "14/14 [==============================] - 12s 883ms/step - loss: 0.3827 - masked_acc: 0.7857 - masked_auc: 0.8460 - val_loss: 0.3739 - val_masked_acc: 0.7869 - val_masked_auc: 0.8476\n",
      "Epoch 14/100\n",
      "14/14 [==============================] - 12s 877ms/step - loss: 0.3788 - masked_acc: 0.7873 - masked_auc: 0.8481 - val_loss: 0.3758 - val_masked_acc: 0.7882 - val_masked_auc: 0.8493\n",
      "Epoch 15/100\n",
      "14/14 [==============================] - 12s 858ms/step - loss: 0.3744 - masked_acc: 0.7886 - masked_auc: 0.8498 - val_loss: 0.3735 - val_masked_acc: 0.7894 - val_masked_auc: 0.8510\n",
      "Epoch 16/100\n",
      "14/14 [==============================] - 12s 867ms/step - loss: 0.3726 - masked_acc: 0.7897 - masked_auc: 0.8515 - val_loss: 0.3745 - val_masked_acc: 0.7906 - val_masked_auc: 0.8526\n",
      "Epoch 17/100\n",
      "14/14 [==============================] - 12s 866ms/step - loss: 0.3728 - masked_acc: 0.7909 - masked_auc: 0.8531 - val_loss: 0.3758 - val_masked_acc: 0.7917 - val_masked_auc: 0.8542\n",
      "Epoch 18/100\n",
      "14/14 [==============================] - 12s 876ms/step - loss: 0.3677 - masked_acc: 0.7920 - masked_auc: 0.8546 - val_loss: 0.3779 - val_masked_acc: 0.7928 - val_masked_auc: 0.8556\n",
      "Epoch 19/100\n",
      "14/14 [==============================] - 12s 871ms/step - loss: 0.3680 - masked_acc: 0.7930 - masked_auc: 0.8560 - val_loss: 0.3785 - val_masked_acc: 0.7938 - val_masked_auc: 0.8570\n",
      "Epoch 20/100\n",
      "14/14 [==============================] - 12s 847ms/step - loss: 0.3654 - masked_acc: 0.7940 - masked_auc: 0.8574 - val_loss: 0.3812 - val_masked_acc: 0.7948 - val_masked_auc: 0.8584\n",
      "Epoch 21/100\n",
      "14/14 [==============================] - 12s 873ms/step - loss: 0.3583 - masked_acc: 0.7950 - masked_auc: 0.8588 - val_loss: 0.3785 - val_masked_acc: 0.7957 - val_masked_auc: 0.8597\n",
      "Epoch 22/100\n",
      "14/14 [==============================] - 12s 871ms/step - loss: 0.3647 - masked_acc: 0.7959 - masked_auc: 0.8600 - val_loss: 0.3858 - val_masked_acc: 0.7966 - val_masked_auc: 0.8609\n",
      "28/28 [==============================] - 4s 134ms/step - loss: 0.3504 - masked_acc: 0.7973 - masked_auc: 0.8617\n",
      "4/4 [==============================] - 1s 131ms/step - loss: 0.3977 - masked_acc: 0.7976 - masked_auc: 0.8622\n",
      "Test:  [0.3976649343967438, 0.7975638508796692, 0.8621714115142822]\n"
     ]
    }
   ],
   "source": [
    "# 5 fold cross validation with GRU-based model\n",
    "import torch\n",
    "X = np.array(grouped_data.keys())\n",
    "kfold = KFold(n_splits=5, shuffle=True)\n",
    "train_losses = list()\n",
    "train_aucs = list()\n",
    "val_losses = list()\n",
    "val_aucs = list()\n",
    "train_eval = list()\n",
    "test_eval = list()\n",
    "for train, test in kfold.split(X):\n",
    "    users_train, users_test =  X[train], X[test]\n",
    "    n = len(users_test)//2\n",
    "    users_test, users_val = users_test[:n], users_test[n: ]\n",
    "    train_data_space = SPACE_DATASET(grouped_data[users_train], MAXLENGTH)\n",
    "    val_data_space = SPACE_DATASET(grouped_data[users_val], MAXLENGTH)\n",
    "    test_data_space = SPACE_DATASET(grouped_data[users_test], MAXLENGTH)\n",
    "    #construct training input\n",
    "    train_chapter=[]\n",
    "    train_sub_chapter=[]\n",
    "    train_question = []\n",
    "    train_features=[]\n",
    "    train_shifted_t = []\n",
    "    train_labels=[]\n",
    "    for i in range(len(users_train)):\n",
    "        user = train_data_space.__getitem__(i)\n",
    "        train_chapter.append(user[0])\n",
    "        train_sub_chapter.append(user[1]) \n",
    "        train_question.append(user[2])\n",
    "        train_features.append(user[3])\n",
    "        train_shifted_t.append(user[4])\n",
    "        train_labels.append(user[5])\n",
    "    train_chapter = np.array(train_chapter)\n",
    "    train_sub_chapter = np.array(train_sub_chapter)\n",
    "    train_question = np.array(train_question)\n",
    "    train_features = np.array(train_features)\n",
    "    train_shifted_t = np.array(train_shifted_t)\n",
    "    train_labels= np.array(train_labels)[..., np.newaxis]\n",
    "\n",
    "    #construct validation input\n",
    "    val_chapter=[]\n",
    "    val_sub_chapter=[]\n",
    "    val_question = []\n",
    "    val_features=[]\n",
    "    val_shifted_t = []\n",
    "    val_labels=[]\n",
    "    for i in range(len(users_val)):\n",
    "        user = val_data_space.__getitem__(i)\n",
    "        val_chapter.append(user[0])\n",
    "        val_sub_chapter.append(user[1]) \n",
    "        val_question.append(user[2])\n",
    "        val_features.append(user[3])\n",
    "        val_shifted_t.append(user[4])\n",
    "        val_labels.append(user[5])\n",
    "    val_chapter = np.array(val_chapter)\n",
    "    val_sub_chapter = np.array(val_sub_chapter)\n",
    "    val_features = np.array(val_features)\n",
    "    val_question = np.array(val_question)\n",
    "    val_shifted_t = np.array(val_shifted_t)\n",
    "    val_labels= np.array(val_labels)[..., np.newaxis]\n",
    "\n",
    "    # construct test input\n",
    "    test_chapter=[]\n",
    "    test_sub_chapter=[]\n",
    "    test_features=[]\n",
    "    test_question=[]\n",
    "    test_shifted_t = []\n",
    "    test_labels=[]\n",
    "    for i in range(len(users_test)):\n",
    "        user = test_data_space.__getitem__(i)\n",
    "        test_chapter.append(user[0])\n",
    "        test_sub_chapter.append(user[1]) \n",
    "        test_question.append(user[2])\n",
    "        test_features.append(user[3])\n",
    "        test_shifted_t.append(user[4])\n",
    "        test_labels.append(user[5])\n",
    "    test_chapter = np.array(test_chapter)\n",
    "    test_sub_chapter = np.array(test_sub_chapter)\n",
    "    test_features = np.array(test_features)\n",
    "    test_question = np.array(test_question)\n",
    "    test_shifted_t = np.array(test_shifted_t)\n",
    "    test_labels= np.array(test_labels)[..., np.newaxis]\n",
    "\n",
    "    # define loss function and evaluation metrics\n",
    "    bce = tf.keras.losses.BinaryCrossentropy(from_logits=True)\n",
    "    acc = tf.keras.metrics.Accuracy()\n",
    "    auc = tf.keras.metrics.AUC()\n",
    "\n",
    "    def masked_bce(y_true, y_pred):\n",
    "      flat_pred = y_pred\n",
    "      flat_ground_truth = y_true\n",
    "      label_mask = tf.math.not_equal(flat_ground_truth, -1)\n",
    "      return bce(flat_ground_truth, flat_pred, sample_weight=label_mask)\n",
    "\n",
    "    def masked_acc(y_true, y_pred):\n",
    "      flat_pred = y_pred\n",
    "      flat_ground_truth = y_true\n",
    "      flat_pred = (flat_pred >= 0.5)\n",
    "      label_mask = tf.math.not_equal(flat_ground_truth, -1)\n",
    "      return acc(flat_ground_truth, flat_pred, sample_weight=label_mask)\n",
    "\n",
    "    def masked_auc(y_true, y_pred):\n",
    "      flat_pred = y_pred\n",
    "      flat_ground_truth = y_true\n",
    "      label_mask = tf.math.not_equal(flat_ground_truth, -1)\n",
    "      return auc(flat_ground_truth, flat_pred, sample_weight=label_mask)\n",
    "\n",
    "    # input layer\n",
    "    input_chap = tf.keras.Input(shape=(MAXLENGTH))\n",
    "    input_sub_chap = tf.keras.Input(shape=(MAXLENGTH))\n",
    "    input_ques =  tf.keras.Input(shape=(MAXLENGTH))\n",
    "    input_shifted = tf.keras.Input(shape=(MAXLENGTH))\n",
    "    input_features = tf.keras.Input(shape=(MAXLENGTH, FEATURES_SIZE))\n",
    "\n",
    "    # embedding layer for categorical features\n",
    "    embedding_chap = Embedding(input_dim = CHAPTER_SIZE, output_dim = EMBEDDING_DIM)(input_chap)\n",
    "    embedding_sub_chap = Embedding(input_dim = SUB_CHAPTER_SIZE, output_dim = EMBEDDING_DIM)(input_sub_chap) \n",
    "    embedding_ques = Embedding(input_dim = QUESTION_SIZE, output_dim = EMBEDDING_DIM)(input_ques)       \n",
    "    embedding_shifted = Embedding(input_dim = 3, output_dim = EMBEDDING_DIM)(input_shifted)\n",
    "    # dense layer for numeric features\n",
    "    dense_features = Dense(EMBEDDING_DIM,input_shape = (None, MAXLENGTH))(input_features)\n",
    "\n",
    "    # definr gru layers\n",
    "    gru_chap = GRU(GRU_NEURON, input_shape = (None, EMBEDDING_DIM),return_sequences = True)(embedding_chap)\n",
    "    gru_sub_chap = GRU(GRU_NEURON, input_shape = (None, EMBEDDING_DIM),return_sequences = True)(embedding_sub_chap)\n",
    "    gru_ques = GRU(GRU_NEURON, input_shape = (None, EMBEDDING_DIM),return_sequences = True)(embedding_ques)\n",
    "    gru_shif = GRU(GRU_NEURON, input_shape = (None, EMBEDDING_DIM),return_sequences = True)(embedding_shifted)\n",
    "    gru_features = GRU(GRU_NEURON, input_shape = (None, EMBEDDING_DIM),return_sequences = True)(dense_features)\n",
    "\n",
    "    gru_output = tf.concat([gru_chap, gru_sub_chap, gru_ques, gru_shif, gru_features], axis = 2)\n",
    "\n",
    "    dense1 = Dense(256, input_shape = (None, 5*EMBEDDING_DIM), activation='relu')(gru_output)\n",
    "    dropout1 = Dropout(0.1)(dense1)\n",
    "    dense2 = Dense(64, input_shape = (None, 256), activation='relu')(dropout1)\n",
    "    dropout2 = Dropout(0.1)(dense2)\n",
    "    pred = Dense(1, input_shape = (None, 64), activation='sigmoid')(dropout2)\n",
    "\n",
    "    model = tf.keras.Model(\n",
    "        inputs=[input_chap, input_sub_chap,input_ques, input_shifted, input_features],\n",
    "        outputs=pred,\n",
    "        name='gru_model'\n",
    "    )\n",
    "\n",
    "    callback = tf.keras.callbacks.EarlyStopping(monitor='val_loss', patience=10)\n",
    "    opt_adam = Adam(learning_rate = 0.005)\n",
    "    model.compile(\n",
    "        optimizer=opt_adam,\n",
    "        loss= masked_bce,\n",
    "        metrics = [masked_acc, masked_auc]\n",
    "    )\n",
    "\n",
    "    history = model.fit(\n",
    "      [train_chapter, train_sub_chapter, train_question, train_shifted_t, train_features],\n",
    "      train_labels,\n",
    "      batch_size = 64,\n",
    "      epochs = 100,\n",
    "      validation_data=([val_chapter, val_sub_chapter, val_question, val_shifted_t, val_features], val_labels),\n",
    "      callbacks=[callback]\n",
    "    )\n",
    "    val_losses.append(list(history.history['val_loss']))\n",
    "    train_losses.append(list(history.history['loss']))\n",
    "    val_aucs.append(list(history.history['val_masked_auc']))\n",
    "    train_aucs.append(list(history.history['masked_auc']))\n",
    "    train_score = model.evaluate([train_chapter, train_sub_chapter, train_question, train_shifted_t, train_features], train_labels)\n",
    "    train_eval.append(train_score)\n",
    "    test_score = model.evaluate([test_chapter, test_sub_chapter, test_question, test_shifted_t, test_features], test_labels)\n",
    "    test_eval.append(test_score)\n",
    "    print(\"Test: \", test_score)\n",
    "    def reset_weights(model):\n",
    "      for layer in model.layers: \n",
    "        if isinstance(layer, tf.keras.Model):\n",
    "          reset_weights(layer)\n",
    "          continue\n",
    "        for k, initializer in layer.__dict__.items():\n",
    "          if \"initializer\" not in k:\n",
    "            continue\n",
    "          # find the corresponding variable\n",
    "          var = getattr(layer, k.replace(\"_initializer\", \"\"))\n",
    "          var.assign(initializer(var.shape, var.dtype))\n",
    "    reset_weights(model)"
   ]
  },
  {
   "cell_type": "code",
   "execution_count": 32,
   "metadata": {
    "execution": {
     "iopub.execute_input": "2021-08-08T15:25:09.473551Z",
     "iopub.status.busy": "2021-08-08T15:25:09.472928Z",
     "iopub.status.idle": "2021-08-08T15:25:09.477348Z",
     "shell.execute_reply": "2021-08-08T15:25:09.476794Z",
     "shell.execute_reply.started": "2021-07-31T12:12:25.783012Z"
    },
    "id": "QsVmumHMz3lx",
    "outputId": "4ff1e2fa-6abb-458e-c729-495b456f53e5",
    "papermill": {
     "duration": 1.032105,
     "end_time": "2021-08-08T15:25:09.477485",
     "exception": false,
     "start_time": "2021-08-08T15:25:08.445380",
     "status": "completed"
    },
    "tags": []
   },
   "outputs": [
    {
     "name": "stdout",
     "output_type": "stream",
     "text": [
      "test avg loss:  0.4059968709945679 +/- 0.00861371754697126\n",
      "test avg acc:  0.7984460234642029 +/- 0.0012950433854815539\n",
      "test avg auc:  0.8635960817337036 +/- 0.0017574776226305737\n"
     ]
    }
   ],
   "source": [
    "t_eval = np.array(test_eval)\n",
    "print(\"test avg loss: \", np.mean(t_eval[:, 0]), \"+/-\" ,np.std(t_eval[:, 0]))\n",
    "print(\"test avg acc: \", np.mean(t_eval[:, 1]),  \"+/-\" ,np.std(t_eval[:, 1]))\n",
    "print(\"test avg auc: \", np.mean(t_eval[:, 2]), \"+/-\" ,np.std(t_eval[:, 2]))"
   ]
  },
  {
   "cell_type": "code",
   "execution_count": 33,
   "metadata": {
    "execution": {
     "iopub.execute_input": "2021-08-08T15:25:11.421333Z",
     "iopub.status.busy": "2021-08-08T15:25:11.420670Z",
     "iopub.status.idle": "2021-08-08T15:25:11.425595Z",
     "shell.execute_reply": "2021-08-08T15:25:11.424799Z",
     "shell.execute_reply.started": "2021-07-31T12:12:25.794728Z"
    },
    "id": "b9MM_CXWz5K6",
    "outputId": "4cf88e1d-3a74-4e7d-f92c-d01522e91757",
    "papermill": {
     "duration": 0.980737,
     "end_time": "2021-08-08T15:25:11.425794",
     "exception": false,
     "start_time": "2021-08-08T15:25:10.445057",
     "status": "completed"
    },
    "tags": []
   },
   "outputs": [
    {
     "name": "stdout",
     "output_type": "stream",
     "text": [
      "train avg loss:  0.34340354800224304 +/- 0.005273624746793153\n",
      "train avg acc:  0.7981536507606506 +/- 0.0012988042345312351\n",
      "train avg auc:  0.8631011009216308 +/- 0.0017720069876930164\n"
     ]
    }
   ],
   "source": [
    "t_eval = np.array(train_eval)\n",
    "print(\"train avg loss: \", np.mean(t_eval[:, 0]), \"+/-\" ,np.std(t_eval[:, 0]))\n",
    "print(\"train avg acc: \", np.mean(t_eval[:, 1]),  \"+/-\" ,np.std(t_eval[:, 1]))\n",
    "print(\"train avg auc: \", np.mean(t_eval[:, 2]), \"+/-\" ,np.std(t_eval[:, 2]))"
   ]
  }
 ],
 "metadata": {
  "kernelspec": {
   "display_name": "Python 3",
   "language": "python",
   "name": "python3"
  },
  "language_info": {
   "codemirror_mode": {
    "name": "ipython",
    "version": 3
   },
   "file_extension": ".py",
   "mimetype": "text/x-python",
   "name": "python",
   "nbconvert_exporter": "python",
   "pygments_lexer": "ipython3",
   "version": "3.8.5"
  },
  "papermill": {
   "default_parameters": {},
   "duration": 1910.059683,
   "end_time": "2021-08-08T15:25:15.077303",
   "environment_variables": {},
   "exception": null,
   "input_path": "__notebook__.ipynb",
   "output_path": "__notebook__.ipynb",
   "parameters": {},
   "start_time": "2021-08-08T14:53:25.017620",
   "version": "2.3.3"
  }
 },
 "nbformat": 4,
 "nbformat_minor": 5
}
