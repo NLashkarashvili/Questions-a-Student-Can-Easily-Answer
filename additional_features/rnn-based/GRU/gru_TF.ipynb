{
 "cells": [
  {
   "cell_type": "code",
   "execution_count": 1,
   "metadata": {
    "execution": {
     "iopub.execute_input": "2021-08-08T17:56:05.865352Z",
     "iopub.status.busy": "2021-08-08T17:56:05.864463Z",
     "iopub.status.idle": "2021-08-08T17:56:11.751670Z",
     "shell.execute_reply": "2021-08-08T17:56:11.750752Z",
     "shell.execute_reply.started": "2021-07-31T12:06:59.141322Z"
    },
    "id": "farifxiKU1aB",
    "papermill": {
     "duration": 5.930562,
     "end_time": "2021-08-08T17:56:11.751857",
     "exception": false,
     "start_time": "2021-08-08T17:56:05.821295",
     "status": "completed"
    },
    "tags": []
   },
   "outputs": [],
   "source": [
    "import numpy as np\n",
    "import pandas as pd\n",
    "import warnings\n",
    "import gc\n",
    "import tensorflow as tf\n",
    "from tensorflow import keras\n",
    "\n",
    "import random\n",
    "from random import choice\n",
    "from tensorflow.keras.optimizers import Adam\n",
    "from tensorflow.keras.models import Sequential \n",
    "from tensorflow.keras.layers import Dense, GRU, Concatenate, Embedding, Flatten, Activation, Dropout\n",
    "from sklearn.model_selection import KFold\n",
    "from tensorflow.python.client import device_lib\n",
    "warnings.filterwarnings('ignore')\n",
    "import random"
   ]
  },
  {
   "cell_type": "code",
   "execution_count": 2,
   "metadata": {
    "execution": {
     "iopub.execute_input": "2021-08-08T17:56:11.815604Z",
     "iopub.status.busy": "2021-08-08T17:56:11.814616Z",
     "iopub.status.idle": "2021-08-08T17:56:11.817659Z",
     "shell.execute_reply": "2021-08-08T17:56:11.818149Z",
     "shell.execute_reply.started": "2021-07-31T12:07:01.064697Z"
    },
    "id": "QOson70GPOXb",
    "papermill": {
     "duration": 0.036539,
     "end_time": "2021-08-08T17:56:11.818341",
     "exception": false,
     "start_time": "2021-08-08T17:56:11.781802",
     "status": "completed"
    },
    "tags": []
   },
   "outputs": [],
   "source": [
    "import gc"
   ]
  },
  {
   "cell_type": "markdown",
   "metadata": {
    "id": "BQsVybBH3VPw",
    "papermill": {
     "duration": 0.028012,
     "end_time": "2021-08-08T17:56:11.875714",
     "exception": false,
     "start_time": "2021-08-08T17:56:11.847702",
     "status": "completed"
    },
    "tags": []
   },
   "source": [
    "## Data Preprocessing"
   ]
  },
  {
   "cell_type": "code",
   "execution_count": 3,
   "metadata": {
    "execution": {
     "iopub.execute_input": "2021-08-08T17:56:11.938016Z",
     "iopub.status.busy": "2021-08-08T17:56:11.937310Z",
     "iopub.status.idle": "2021-08-08T17:56:18.452504Z",
     "shell.execute_reply": "2021-08-08T17:56:18.451540Z",
     "shell.execute_reply.started": "2021-07-31T12:07:01.071844Z"
    },
    "id": "rwtTusGxrmAE",
    "outputId": "1430f3cf-038b-485e-b5c4-c1686b1f34fd",
    "papermill": {
     "duration": 6.548328,
     "end_time": "2021-08-08T17:56:18.452650",
     "exception": false,
     "start_time": "2021-08-08T17:56:11.904322",
     "status": "completed"
    },
    "tags": []
   },
   "outputs": [
    {
     "data": {
      "text/html": [
       "<div>\n",
       "<style scoped>\n",
       "    .dataframe tbody tr th:only-of-type {\n",
       "        vertical-align: middle;\n",
       "    }\n",
       "\n",
       "    .dataframe tbody tr th {\n",
       "        vertical-align: top;\n",
       "    }\n",
       "\n",
       "    .dataframe thead th {\n",
       "        text-align: right;\n",
       "    }\n",
       "</style>\n",
       "<table border=\"1\" class=\"dataframe\">\n",
       "  <thead>\n",
       "    <tr style=\"text-align: right;\">\n",
       "      <th></th>\n",
       "      <th>Unnamed: 0</th>\n",
       "      <th>chapter_label</th>\n",
       "      <th>sub_chapter_label</th>\n",
       "      <th>question_name</th>\n",
       "      <th>user_id.x</th>\n",
       "      <th>term</th>\n",
       "      <th>STDNT_SEX_CD</th>\n",
       "      <th>NonNativeEnglish</th>\n",
       "      <th>White</th>\n",
       "      <th>Asian</th>\n",
       "      <th>...</th>\n",
       "      <th>classGraded</th>\n",
       "      <th>classHonors</th>\n",
       "      <th>Pass_Fail</th>\n",
       "      <th>parentsGraduateEdu</th>\n",
       "      <th>minorityGroup</th>\n",
       "      <th>q</th>\n",
       "      <th>day's_available_flashcards</th>\n",
       "      <th>start_practice</th>\n",
       "      <th>end_practice</th>\n",
       "      <th>days_offset</th>\n",
       "    </tr>\n",
       "  </thead>\n",
       "  <tbody>\n",
       "    <tr>\n",
       "      <th>0</th>\n",
       "      <td>1</td>\n",
       "      <td>Sort</td>\n",
       "      <td>intro-SortingwithSortandSorted</td>\n",
       "      <td>ee_sort_04</td>\n",
       "      <td>148</td>\n",
       "      <td>WN 2018</td>\n",
       "      <td>1</td>\n",
       "      <td>0</td>\n",
       "      <td>1</td>\n",
       "      <td>0</td>\n",
       "      <td>...</td>\n",
       "      <td>1</td>\n",
       "      <td>0</td>\n",
       "      <td>0</td>\n",
       "      <td>0</td>\n",
       "      <td>0</td>\n",
       "      <td>0</td>\n",
       "      <td>18</td>\n",
       "      <td>2018-03-04 20:00:19</td>\n",
       "      <td>2018-03-04 20:00:35</td>\n",
       "      <td>45</td>\n",
       "    </tr>\n",
       "    <tr>\n",
       "      <th>1</th>\n",
       "      <td>2</td>\n",
       "      <td>Functions</td>\n",
       "      <td>Returningavaluefromafunction</td>\n",
       "      <td>test_questionfunctions_2_3</td>\n",
       "      <td>148</td>\n",
       "      <td>WN 2018</td>\n",
       "      <td>1</td>\n",
       "      <td>0</td>\n",
       "      <td>1</td>\n",
       "      <td>0</td>\n",
       "      <td>...</td>\n",
       "      <td>1</td>\n",
       "      <td>0</td>\n",
       "      <td>0</td>\n",
       "      <td>0</td>\n",
       "      <td>0</td>\n",
       "      <td>4</td>\n",
       "      <td>16</td>\n",
       "      <td>2018-02-10 11:57:55</td>\n",
       "      <td>2018-02-10 11:58:35</td>\n",
       "      <td>23</td>\n",
       "    </tr>\n",
       "    <tr>\n",
       "      <th>2</th>\n",
       "      <td>3</td>\n",
       "      <td>RESTAPIs</td>\n",
       "      <td>functionswithrestapis</td>\n",
       "      <td>test_question_functions_rest_apis_1</td>\n",
       "      <td>148</td>\n",
       "      <td>WN 2018</td>\n",
       "      <td>1</td>\n",
       "      <td>0</td>\n",
       "      <td>1</td>\n",
       "      <td>0</td>\n",
       "      <td>...</td>\n",
       "      <td>1</td>\n",
       "      <td>0</td>\n",
       "      <td>0</td>\n",
       "      <td>0</td>\n",
       "      <td>0</td>\n",
       "      <td>1</td>\n",
       "      <td>2</td>\n",
       "      <td>2018-03-12 17:03:07</td>\n",
       "      <td>2018-03-12 17:04:28</td>\n",
       "      <td>53</td>\n",
       "    </tr>\n",
       "    <tr>\n",
       "      <th>3</th>\n",
       "      <td>4</td>\n",
       "      <td>SimplePythonData</td>\n",
       "      <td>FunctionCalls</td>\n",
       "      <td>exercise_functionCalls_1</td>\n",
       "      <td>148</td>\n",
       "      <td>WN 2018</td>\n",
       "      <td>1</td>\n",
       "      <td>0</td>\n",
       "      <td>1</td>\n",
       "      <td>0</td>\n",
       "      <td>...</td>\n",
       "      <td>1</td>\n",
       "      <td>0</td>\n",
       "      <td>0</td>\n",
       "      <td>0</td>\n",
       "      <td>0</td>\n",
       "      <td>0</td>\n",
       "      <td>10</td>\n",
       "      <td>2018-01-30 14:15:49</td>\n",
       "      <td>2018-01-30 14:15:58</td>\n",
       "      <td>12</td>\n",
       "    </tr>\n",
       "    <tr>\n",
       "      <th>4</th>\n",
       "      <td>5</td>\n",
       "      <td>DictionaryAccumulation</td>\n",
       "      <td>AccumulatingaMaximumValue</td>\n",
       "      <td>ps_04_07</td>\n",
       "      <td>148</td>\n",
       "      <td>WN 2018</td>\n",
       "      <td>1</td>\n",
       "      <td>0</td>\n",
       "      <td>1</td>\n",
       "      <td>0</td>\n",
       "      <td>...</td>\n",
       "      <td>1</td>\n",
       "      <td>0</td>\n",
       "      <td>0</td>\n",
       "      <td>0</td>\n",
       "      <td>0</td>\n",
       "      <td>0</td>\n",
       "      <td>23</td>\n",
       "      <td>2018-03-03 14:04:17</td>\n",
       "      <td>2018-03-03 14:04:25</td>\n",
       "      <td>44</td>\n",
       "    </tr>\n",
       "  </tbody>\n",
       "</table>\n",
       "<p>5 rows × 48 columns</p>\n",
       "</div>"
      ],
      "text/plain": [
       "   Unnamed: 0           chapter_label               sub_chapter_label  \\\n",
       "0           1                    Sort  intro-SortingwithSortandSorted   \n",
       "1           2               Functions    Returningavaluefromafunction   \n",
       "2           3                RESTAPIs           functionswithrestapis   \n",
       "3           4        SimplePythonData                   FunctionCalls   \n",
       "4           5  DictionaryAccumulation       AccumulatingaMaximumValue   \n",
       "\n",
       "                         question_name  user_id.x     term  STDNT_SEX_CD  \\\n",
       "0                           ee_sort_04        148  WN 2018             1   \n",
       "1           test_questionfunctions_2_3        148  WN 2018             1   \n",
       "2  test_question_functions_rest_apis_1        148  WN 2018             1   \n",
       "3             exercise_functionCalls_1        148  WN 2018             1   \n",
       "4                             ps_04_07        148  WN 2018             1   \n",
       "\n",
       "   NonNativeEnglish  White  Asian  ...  classGraded  classHonors  Pass_Fail  \\\n",
       "0                 0      1      0  ...            1            0          0   \n",
       "1                 0      1      0  ...            1            0          0   \n",
       "2                 0      1      0  ...            1            0          0   \n",
       "3                 0      1      0  ...            1            0          0   \n",
       "4                 0      1      0  ...            1            0          0   \n",
       "\n",
       "   parentsGraduateEdu  minorityGroup  q  day's_available_flashcards  \\\n",
       "0                   0              0  0                          18   \n",
       "1                   0              0  4                          16   \n",
       "2                   0              0  1                           2   \n",
       "3                   0              0  0                          10   \n",
       "4                   0              0  0                          23   \n",
       "\n",
       "        start_practice         end_practice  days_offset  \n",
       "0  2018-03-04 20:00:19  2018-03-04 20:00:35           45  \n",
       "1  2018-02-10 11:57:55  2018-02-10 11:58:35           23  \n",
       "2  2018-03-12 17:03:07  2018-03-12 17:04:28           53  \n",
       "3  2018-01-30 14:15:49  2018-01-30 14:15:58           12  \n",
       "4  2018-03-03 14:04:17  2018-03-03 14:04:25           44  \n",
       "\n",
       "[5 rows x 48 columns]"
      ]
     },
     "execution_count": 3,
     "metadata": {},
     "output_type": "execute_result"
    }
   ],
   "source": [
    "# load the data\n",
    "import pandas as pd\n",
    "dataframe = pd.read_csv('../input/practice-log-demographics/Practice_Log_Demographics (1).csv', low_memory=False)\n",
    "dataframe.head()"
   ]
  },
  {
   "cell_type": "code",
   "execution_count": 4,
   "metadata": {
    "execution": {
     "iopub.execute_input": "2021-08-08T17:56:18.579148Z",
     "iopub.status.busy": "2021-08-08T17:56:18.578334Z",
     "iopub.status.idle": "2021-08-08T17:56:20.267598Z",
     "shell.execute_reply": "2021-08-08T17:56:20.267016Z",
     "shell.execute_reply.started": "2021-07-31T12:07:05.649784Z"
    },
    "id": "OCbHnEp_Vir0",
    "papermill": {
     "duration": 1.784174,
     "end_time": "2021-08-08T17:56:20.267741",
     "exception": false,
     "start_time": "2021-08-08T17:56:18.483567",
     "status": "completed"
    },
    "tags": []
   },
   "outputs": [],
   "source": [
    "#sort data based on timestamp\n",
    "dataframe = dataframe.sort_values(by=['start_practice']).reset_index(drop=True)"
   ]
  },
  {
   "cell_type": "code",
   "execution_count": 5,
   "metadata": {
    "execution": {
     "iopub.execute_input": "2021-08-08T17:56:20.334026Z",
     "iopub.status.busy": "2021-08-08T17:56:20.333331Z",
     "iopub.status.idle": "2021-08-08T17:56:20.336346Z",
     "shell.execute_reply": "2021-08-08T17:56:20.335808Z",
     "shell.execute_reply.started": "2021-07-31T12:07:07.101339Z"
    },
    "id": "0RvF7BvEr98o",
    "papermill": {
     "duration": 0.038552,
     "end_time": "2021-08-08T17:56:20.336512",
     "exception": false,
     "start_time": "2021-08-08T17:56:20.297960",
     "status": "completed"
    },
    "tags": []
   },
   "outputs": [],
   "source": [
    "FEATURES = ['chapter_label', 'sub_chapter_label','question_name','user_id','term',\n",
    "            'STDNT_SEX_CD', \n",
    "            'NonNativeEnglish',\n",
    "            'White',\n",
    "            'Asian',\n",
    "            'WhiteOrAsian',\n",
    "            'Hispanic',\n",
    "            'AfricanAmerican',\n",
    "            'OtherEthnicities',\n",
    "            'NonWhiteOrAsian',\n",
    "            'STDNT_CTZN_STAT_CD', 'international', \n",
    "            'gradingType',\n",
    "            'birthYear',\n",
    "            'exclClassCumGPA',\n",
    "            'Freshman',\n",
    "            'Junior',\n",
    "            'Sophomore',\n",
    "            'Senior',\n",
    "            'termCreditsGPA',\n",
    "            'termCreditsNoGPA',\n",
    "            'athlete_1',\n",
    "            'honorsPro',\n",
    "            'LSA', 'programBusiness', 'programEngineering', \n",
    "            'programInformation', 'programOther',\n",
    "            'HSCalculusTaken', \n",
    "            'highSchoolGPA', \n",
    "            'majorsCount', 'minorsCount',\n",
    "            'PREV_TERM_CUM_GPA',\n",
    "            'classGraded', 'classHonors', \n",
    "            'Pass_Fail', \n",
    "            'parentsGraduateEdu',  'minorityGroup', \n",
    "            'q',\n",
    "            'available_flashcards', \n",
    "            'start_practice', \n",
    "            'end_practice',\n",
    "            'days_offset']"
   ]
  },
  {
   "cell_type": "code",
   "execution_count": 6,
   "metadata": {
    "execution": {
     "iopub.execute_input": "2021-08-08T17:56:20.401013Z",
     "iopub.status.busy": "2021-08-08T17:56:20.400310Z",
     "iopub.status.idle": "2021-08-08T17:56:20.930557Z",
     "shell.execute_reply": "2021-08-08T17:56:20.929864Z",
     "shell.execute_reply.started": "2021-07-31T12:07:07.109369Z"
    },
    "id": "Mn341X7lSztl",
    "papermill": {
     "duration": 0.565063,
     "end_time": "2021-08-08T17:56:20.930699",
     "exception": false,
     "start_time": "2021-08-08T17:56:20.365636",
     "status": "completed"
    },
    "tags": []
   },
   "outputs": [],
   "source": [
    "dataframe['available_flashcards'] = dataframe[\"day's_available_flashcards\"][:]\n",
    "dataframe = dataframe.drop([\"day's_available_flashcards\"], axis=1)\n",
    "dataframe['user_id'] = dataframe[\"user_id.x\"][:]\n",
    "dataframe = dataframe.drop([\"user_id.x\"], axis=1)"
   ]
  },
  {
   "cell_type": "code",
   "execution_count": 7,
   "metadata": {
    "execution": {
     "iopub.execute_input": "2021-08-08T17:56:21.166002Z",
     "iopub.status.busy": "2021-08-08T17:56:21.165031Z",
     "iopub.status.idle": "2021-08-08T17:56:21.170640Z",
     "shell.execute_reply": "2021-08-08T17:56:21.170110Z",
     "shell.execute_reply.started": "2021-07-31T12:07:07.606049Z"
    },
    "id": "-_BRggOjbBjN",
    "outputId": "42bff7db-08dd-48dc-a73a-d048508053b7",
    "papermill": {
     "duration": 0.207333,
     "end_time": "2021-08-08T17:56:21.170792",
     "exception": false,
     "start_time": "2021-08-08T17:56:20.963459",
     "status": "completed"
    },
    "tags": []
   },
   "outputs": [
    {
     "data": {
      "text/plain": [
       "102"
      ]
     },
     "execution_count": 7,
     "metadata": {},
     "output_type": "execute_result"
    }
   ],
   "source": [
    "gc.collect()"
   ]
  },
  {
   "cell_type": "code",
   "execution_count": 8,
   "metadata": {
    "execution": {
     "iopub.execute_input": "2021-08-08T17:56:21.236011Z",
     "iopub.status.busy": "2021-08-08T17:56:21.235283Z",
     "iopub.status.idle": "2021-08-08T17:56:21.530767Z",
     "shell.execute_reply": "2021-08-08T17:56:21.530111Z",
     "shell.execute_reply.started": "2021-07-31T12:07:07.764114Z"
    },
    "id": "lXM7MlonVeRL",
    "outputId": "d29ccec0-522f-4e3c-e0b2-39b2e1eaef74",
    "papermill": {
     "duration": 0.330339,
     "end_time": "2021-08-08T17:56:21.530908",
     "exception": false,
     "start_time": "2021-08-08T17:56:21.200569",
     "status": "completed"
    },
    "tags": []
   },
   "outputs": [
    {
     "data": {
      "text/plain": [
       "20"
      ]
     },
     "execution_count": 8,
     "metadata": {},
     "output_type": "execute_result"
    }
   ],
   "source": [
    "dataframe = dataframe[FEATURES]\n",
    "gc.collect()"
   ]
  },
  {
   "cell_type": "code",
   "execution_count": 9,
   "metadata": {
    "execution": {
     "iopub.execute_input": "2021-08-08T17:56:22.110606Z",
     "iopub.status.busy": "2021-08-08T17:56:22.109874Z",
     "iopub.status.idle": "2021-08-08T17:56:22.254426Z",
     "shell.execute_reply": "2021-08-08T17:56:22.253811Z",
     "shell.execute_reply.started": "2021-07-31T12:07:08.046413Z"
    },
    "id": "2WAFv5z3A6fK",
    "outputId": "e27abf84-ec3c-4b88-e1fb-927d94b41898",
    "papermill": {
     "duration": 0.69316,
     "end_time": "2021-08-08T17:56:22.254585",
     "exception": false,
     "start_time": "2021-08-08T17:56:21.561425",
     "status": "completed"
    },
    "tags": []
   },
   "outputs": [],
   "source": [
    "dataframe = dataframe.fillna(0)"
   ]
  },
  {
   "cell_type": "code",
   "execution_count": 10,
   "metadata": {
    "execution": {
     "iopub.execute_input": "2021-08-08T17:56:22.333798Z",
     "iopub.status.busy": "2021-08-08T17:56:22.332826Z",
     "iopub.status.idle": "2021-08-08T17:56:23.767361Z",
     "shell.execute_reply": "2021-08-08T17:56:23.766751Z",
     "shell.execute_reply.started": "2021-07-31T12:07:08.626441Z"
    },
    "id": "qRKqF_0IXZgj",
    "papermill": {
     "duration": 1.482664,
     "end_time": "2021-08-08T17:56:23.767504",
     "exception": false,
     "start_time": "2021-08-08T17:56:22.284840",
     "status": "completed"
    },
    "tags": []
   },
   "outputs": [],
   "source": [
    "#label encode term, chapter_label, question_name, sub_chapter_label columns\n",
    "dataframe['term'] = dataframe['term'].astype('category')\n",
    "dataframe['user_id'] = dataframe['user_id'].astype(int)\n",
    "dataframe['user_id'] = dataframe['user_id'].astype(str)\n",
    "dataframe['user_id'] = dataframe['term'].str.cat(dataframe['user_id'], sep=':')\n",
    "dataframe['user_id'] = dataframe['user_id'].astype('category')\n",
    "dataframe['chapter_label'] = dataframe['chapter_label'].astype('category')\n",
    "dataframe['sub_chapter_label'] = dataframe['sub_chapter_label'].astype('category')\n",
    "dataframe['question_name'] = dataframe['question_name'].astype('category')\n"
   ]
  },
  {
   "cell_type": "code",
   "execution_count": 11,
   "metadata": {
    "execution": {
     "iopub.execute_input": "2021-08-08T17:56:23.837426Z",
     "iopub.status.busy": "2021-08-08T17:56:23.836351Z",
     "iopub.status.idle": "2021-08-08T17:56:24.353928Z",
     "shell.execute_reply": "2021-08-08T17:56:24.353334Z",
     "shell.execute_reply.started": "2021-07-31T12:07:09.884593Z"
    },
    "id": "eVl_067GWkDe",
    "papermill": {
     "duration": 0.554726,
     "end_time": "2021-08-08T17:56:24.354083",
     "exception": false,
     "start_time": "2021-08-08T17:56:23.799357",
     "status": "completed"
    },
    "tags": []
   },
   "outputs": [],
   "source": [
    "#calculate time_lag and prev_time_elapsed\n",
    "dataframe['prev_time_elapsed'] = None\n",
    "dataframe['time_lag'] = None\n",
    "dataframe['time_lag'] = dataframe['time_lag'].astype(np.float)\n",
    "dataframe['prev_time_elapsed'] = dataframe['prev_time_elapsed'].astype(np.float)\n",
    "dataframe.start_practice = pd.to_datetime(dataframe.start_practice, format='%Y-%m-%d %H:%M:%S')\n",
    "dataframe.end_practice = pd.to_datetime(dataframe.end_practice, format='%Y-%m-%d %H:%M:%S')"
   ]
  },
  {
   "cell_type": "code",
   "execution_count": 12,
   "metadata": {
    "execution": {
     "iopub.execute_input": "2021-08-08T17:56:24.420921Z",
     "iopub.status.busy": "2021-08-08T17:56:24.419639Z",
     "iopub.status.idle": "2021-08-08T17:56:24.455650Z",
     "shell.execute_reply": "2021-08-08T17:56:24.456178Z",
     "shell.execute_reply.started": "2021-07-31T12:07:10.365002Z"
    },
    "papermill": {
     "duration": 0.072252,
     "end_time": "2021-08-08T17:56:24.456379",
     "exception": false,
     "start_time": "2021-08-08T17:56:24.384127",
     "status": "completed"
    },
    "tags": []
   },
   "outputs": [],
   "source": [
    "dataframe['dif'] = dataframe.end_practice - dataframe.start_practice\n",
    "dataframe['dif'] = dataframe['dif'] /np.timedelta64(1, 's')\n",
    "dataframe['answer_correct'] = np.where((dataframe['q']==5) & (dataframe['dif'] <= 60), 1, 0)"
   ]
  },
  {
   "cell_type": "code",
   "execution_count": 13,
   "metadata": {
    "execution": {
     "iopub.execute_input": "2021-08-08T17:56:24.533424Z",
     "iopub.status.busy": "2021-08-08T17:56:24.532683Z",
     "iopub.status.idle": "2021-08-08T18:02:34.918562Z",
     "shell.execute_reply": "2021-08-08T18:02:34.917628Z",
     "shell.execute_reply.started": "2021-07-31T12:07:10.396034Z"
    },
    "id": "Xrkcn9VhWETm",
    "outputId": "fd73f3de-5f56-42a8-9539-3f3b79a5a6e2",
    "papermill": {
     "duration": 370.427363,
     "end_time": "2021-08-08T18:02:34.918783",
     "exception": false,
     "start_time": "2021-08-08T17:56:24.491420",
     "status": "completed"
    },
    "tags": []
   },
   "outputs": [
    {
     "name": "stderr",
     "output_type": "stream",
     "text": [
      "100%|██████████| 1110/1110 [06:10<00:00,  3.00it/s]\n"
     ]
    }
   ],
   "source": [
    "unique_chapts = dataframe['chapter_label'].unique()\n",
    "from tqdm import tqdm\n",
    "cnt = 0\n",
    "for user in tqdm(dataframe['user_id'].unique()):\n",
    "        for chapter in unique_chapts:\n",
    "            tmp_user = dataframe[(dataframe['user_id']==user) & (dataframe['chapter_label']==chapter)]\n",
    "            #if user doesn't answer any question from the chapter\n",
    "            if len(tmp_user) < 1:\n",
    "                continue\n",
    "            #calculate average elapsed time before the current question\n",
    "            #from its corresponding chapter\n",
    "            tmp_time_elapsed = tmp_user.end_practice - tmp_user.start_practice\n",
    "            tmp_time_elapsed = tmp_time_elapsed / np.timedelta64(1, 's')\n",
    "            tmp_time_elapsed = np.insert(np.array(tmp_time_elapsed[:-1]), 0, 0., axis=0)\n",
    "            tmp_time_elapsed = np.cumsum(tmp_time_elapsed)\n",
    "            indices = tmp_user.index\n",
    "            start_row = indices[0]\n",
    "            dataframe['time_lag'].iloc[start_row] = 0\n",
    "            for_mean = np.arange(len(tmp_user))\n",
    "            for_mean[0] = 1\n",
    "            time_substrahend = tmp_user.start_practice.iloc[:-1]\n",
    "            time_substrahend = time_substrahend.apply(lambda a: a.timestamp())\n",
    "            time_substrahend = np.array(time_substrahend)\n",
    "            \n",
    "            time_minuend = tmp_user.start_practice.iloc[1:]\n",
    "            time_minuend = time_minuend.apply(lambda a: a.timestamp())\n",
    "            time_minuend = np.array(time_minuend)\n",
    "\n",
    "            dataframe['prev_time_elapsed'].iloc[indices] = tmp_time_elapsed/for_mean\n",
    "            #calculate difference between current and last interaction\n",
    "            #from the same chapter\n",
    "            dataframe['time_lag'].iloc[indices[1:]] = time_minuend - time_substrahend\n"
   ]
  },
  {
   "cell_type": "code",
   "execution_count": 14,
   "metadata": {
    "execution": {
     "iopub.execute_input": "2021-08-08T18:02:35.698706Z",
     "iopub.status.busy": "2021-08-08T18:02:35.697833Z",
     "iopub.status.idle": "2021-08-08T18:02:35.736527Z",
     "shell.execute_reply": "2021-08-08T18:02:35.735964Z",
     "shell.execute_reply.started": "2021-07-31T12:07:30.030169Z"
    },
    "id": "8t8yZ0XvWwzz",
    "papermill": {
     "duration": 0.453952,
     "end_time": "2021-08-08T18:02:35.736678",
     "exception": false,
     "start_time": "2021-08-08T18:02:35.282726",
     "status": "completed"
    },
    "tags": []
   },
   "outputs": [],
   "source": [
    "#drop column end_practice\n",
    "dataframe.drop(columns=['end_practice'], inplace=True)"
   ]
  },
  {
   "cell_type": "code",
   "execution_count": 15,
   "metadata": {
    "execution": {
     "iopub.execute_input": "2021-08-08T18:02:36.498185Z",
     "iopub.status.busy": "2021-08-08T18:02:36.497386Z",
     "iopub.status.idle": "2021-08-08T18:02:36.969030Z",
     "shell.execute_reply": "2021-08-08T18:02:36.968432Z",
     "shell.execute_reply.started": "2021-07-31T12:07:30.106507Z"
    },
    "id": "E42raRIrYYXz",
    "papermill": {
     "duration": 0.853047,
     "end_time": "2021-08-08T18:02:36.969183",
     "exception": false,
     "start_time": "2021-08-08T18:02:36.116136",
     "status": "completed"
    },
    "tags": []
   },
   "outputs": [],
   "source": [
    "# calculate the age feature\n",
    "dataframe['term_value'] = [int(ele[3:]) for ele in dataframe['term']]\n",
    "dataframe['age'] = dataframe['term_value'] - dataframe['birthYear']"
   ]
  },
  {
   "cell_type": "code",
   "execution_count": 16,
   "metadata": {
    "execution": {
     "iopub.execute_input": "2021-08-08T18:02:37.765278Z",
     "iopub.status.busy": "2021-08-08T18:02:37.764566Z",
     "iopub.status.idle": "2021-08-08T18:02:37.982044Z",
     "shell.execute_reply": "2021-08-08T18:02:37.981484Z",
     "shell.execute_reply.started": "2021-07-31T12:07:30.526102Z"
    },
    "id": "pcMVQXueYnMh",
    "papermill": {
     "duration": 0.64141,
     "end_time": "2021-08-08T18:02:37.982205",
     "exception": false,
     "start_time": "2021-08-08T18:02:37.340795",
     "status": "completed"
    },
    "tags": []
   },
   "outputs": [],
   "source": [
    "# drop term_value and birthYear column\n",
    "dataframe.drop(columns=['term_value', 'birthYear'], inplace=True)"
   ]
  },
  {
   "cell_type": "code",
   "execution_count": 17,
   "metadata": {
    "execution": {
     "iopub.execute_input": "2021-08-08T18:02:38.725362Z",
     "iopub.status.busy": "2021-08-08T18:02:38.709891Z",
     "iopub.status.idle": "2021-08-08T18:02:39.204303Z",
     "shell.execute_reply": "2021-08-08T18:02:39.203586Z",
     "shell.execute_reply.started": "2021-07-31T12:07:30.71914Z"
    },
    "id": "hjRF5szkcQE0",
    "papermill": {
     "duration": 0.862246,
     "end_time": "2021-08-08T18:02:39.204450",
     "exception": false,
     "start_time": "2021-08-08T18:02:38.342204",
     "status": "completed"
    },
    "tags": []
   },
   "outputs": [],
   "source": [
    "# convert minors_count to int value\n",
    "new_minors_count = []\n",
    "for i in dataframe['minorsCount']:\n",
    "  if i == 0 or i == '0':\n",
    "    new_minors_count.append(0)\n",
    "  elif i == '1 Minor':\n",
    "    new_minors_count.append(1)\n",
    "  else:\n",
    "    new_minors_count.append(2)\n",
    "\n",
    "dataframe['minorsCount'] = new_minors_count"
   ]
  },
  {
   "cell_type": "code",
   "execution_count": 18,
   "metadata": {
    "execution": {
     "iopub.execute_input": "2021-08-08T18:02:39.929523Z",
     "iopub.status.busy": "2021-08-08T18:02:39.927963Z",
     "iopub.status.idle": "2021-08-08T18:02:39.941386Z",
     "shell.execute_reply": "2021-08-08T18:02:39.941838Z",
     "shell.execute_reply.started": "2021-07-31T12:07:31.163098Z"
    },
    "id": "9VdzvJSw0KUU",
    "outputId": "6393784f-234e-4935-9cee-cbcf56b5630a",
    "papermill": {
     "duration": 0.379064,
     "end_time": "2021-08-08T18:02:39.942041",
     "exception": false,
     "start_time": "2021-08-08T18:02:39.562977",
     "status": "completed"
    },
    "tags": []
   },
   "outputs": [
    {
     "name": "stdout",
     "output_type": "stream",
     "text": [
      "we have  1110  users in total.\n"
     ]
    }
   ],
   "source": [
    "print(\"we have \", dataframe['user_id'].nunique(),\" users in total.\")"
   ]
  },
  {
   "cell_type": "code",
   "execution_count": 19,
   "metadata": {
    "execution": {
     "iopub.execute_input": "2021-08-08T18:02:40.668361Z",
     "iopub.status.busy": "2021-08-08T18:02:40.667018Z",
     "iopub.status.idle": "2021-08-08T18:02:40.674440Z",
     "shell.execute_reply": "2021-08-08T18:02:40.673802Z",
     "shell.execute_reply.started": "2021-07-31T12:07:31.18292Z"
    },
    "id": "hUaGk9L9g13t",
    "papermill": {
     "duration": 0.373605,
     "end_time": "2021-08-08T18:02:40.674589",
     "exception": false,
     "start_time": "2021-08-08T18:02:40.300984",
     "status": "completed"
    },
    "tags": []
   },
   "outputs": [],
   "source": [
    "for category in ['term','chapter_label', 'sub_chapter_label', 'question_name']:\n",
    "  dataframe[category] =  dataframe[category].cat.codes"
   ]
  },
  {
   "cell_type": "code",
   "execution_count": 20,
   "metadata": {
    "execution": {
     "iopub.execute_input": "2021-08-08T18:02:41.410044Z",
     "iopub.status.busy": "2021-08-08T18:02:41.408671Z",
     "iopub.status.idle": "2021-08-08T18:02:42.228087Z",
     "shell.execute_reply": "2021-08-08T18:02:42.228697Z",
     "shell.execute_reply.started": "2021-07-31T12:07:31.195482Z"
    },
    "id": "hkyvcYvlhliG",
    "papermill": {
     "duration": 1.188448,
     "end_time": "2021-08-08T18:02:42.228887",
     "exception": false,
     "start_time": "2021-08-08T18:02:41.040439",
     "status": "completed"
    },
    "tags": []
   },
   "outputs": [],
   "source": [
    "NUMERIC_FEATURE =  ['age',\n",
    "            'exclClassCumGPA',\n",
    "            'termCreditsGPA',\n",
    "            'termCreditsNoGPA',\n",
    "            'highSchoolGPA', \n",
    "            'majorsCount', 'minorsCount',\n",
    "            'PREV_TERM_CUM_GPA',\n",
    "            'available_flashcards', \n",
    "            'days_offset', \n",
    "            'prev_time_elapsed',\n",
    "             'time_lag']\n",
    "# z-score normalize the numerical features\n",
    "for f in NUMERIC_FEATURE:\n",
    "  m = dataframe[f].mean()\n",
    "  std = dataframe[f].std()\n",
    "  dataframe[f] = (dataframe[f] - m)/std"
   ]
  },
  {
   "cell_type": "code",
   "execution_count": 21,
   "metadata": {
    "execution": {
     "iopub.execute_input": "2021-08-08T18:02:42.988567Z",
     "iopub.status.busy": "2021-08-08T18:02:42.987804Z",
     "iopub.status.idle": "2021-08-08T18:02:44.171122Z",
     "shell.execute_reply": "2021-08-08T18:02:44.170414Z",
     "shell.execute_reply.started": "2021-07-31T12:07:31.465309Z"
    },
    "id": "wo2OH-d5kWp1",
    "papermill": {
     "duration": 1.547693,
     "end_time": "2021-08-08T18:02:44.171283",
     "exception": false,
     "start_time": "2021-08-08T18:02:42.623590",
     "status": "completed"
    },
    "tags": []
   },
   "outputs": [],
   "source": [
    "FEATURE_TRANS =  ['answer_correct', 'chapter_label', 'sub_chapter_label','question_name','user_id','term',\n",
    "                  'STDNT_SEX_CD', \n",
    "                    'White','Asian','NonWhiteOrAsian',\n",
    "            'STDNT_CTZN_STAT_CD', 'international', \n",
    "            'age',\n",
    "            'exclClassCumGPA',\n",
    "           'Freshman',\n",
    "            'Junior',\n",
    "            'Sophomore',\n",
    "            'Senior',\n",
    "            'termCreditsGPA',\n",
    "            'termCreditsNoGPA',\n",
    "            'athlete_1',\n",
    "            'honorsPro',\n",
    "            'LSA', 'programBusiness', 'programEngineering', \n",
    "            'programInformation', 'programOther',\n",
    "            'HSCalculusTaken', \n",
    "            'highSchoolGPA', \n",
    "            'majorsCount', 'minorsCount',\n",
    "            'PREV_TERM_CUM_GPA',\n",
    "            'classGraded', 'classHonors', \n",
    "            'Pass_Fail', \n",
    "            'parentsGraduateEdu',  'minorityGroup', \n",
    "            'available_flashcards', \n",
    "            'days_offset', 'prev_time_elapsed',\n",
    "             'time_lag']\n",
    "grouped_data = dataframe[FEATURE_TRANS].groupby(['user_id']).apply(lambda r: (\n",
    "                r['answer_correct'],\n",
    "                r['term'],\n",
    "                r['chapter_label'],\n",
    "                r['sub_chapter_label'],\n",
    "                r['question_name'],\n",
    "                np.array([\n",
    "#                   r['STDNT_SEX_CD'],r['STDNT_CTZN_STAT_CD'], r['international'], \n",
    "#                   r['White'],r['Asian'],r['NonWhiteOrAsian'],\n",
    "#                  r['age'],r['exclClassCumGPA'],\n",
    "#                 r['Freshman'], r['Junior'], r['Sophomore'], r['Senior'],\n",
    "#                 r['termCreditsGPA'], r['termCreditsNoGPA'],\n",
    "#                 r['athlete_1'], r['honorsPro'],\n",
    "#                 r['LSA'], r['programBusiness'], r['programEngineering'], \n",
    "#                 r['programInformation'], r['programOther'],\n",
    "#                 r['HSCalculusTaken'],  r['highSchoolGPA'], \n",
    "#                 r['majorsCount'], r['minorsCount'],\n",
    "#                 r['PREV_TERM_CUM_GPA'], \n",
    "#                 r['parentsGraduateEdu'], r['minorityGroup'],\n",
    "#                 r['available_flashcards'],\n",
    "#                 r['days_offset'],\n",
    "                r['prev_time_elapsed'],\n",
    "                r['time_lag']\n",
    "              ]).transpose()\n",
    "                ))"
   ]
  },
  {
   "cell_type": "code",
   "execution_count": 22,
   "metadata": {
    "execution": {
     "iopub.execute_input": "2021-08-08T18:02:45.090788Z",
     "iopub.status.busy": "2021-08-08T18:02:45.090071Z",
     "iopub.status.idle": "2021-08-08T18:02:45.094623Z",
     "shell.execute_reply": "2021-08-08T18:02:45.094089Z",
     "shell.execute_reply.started": "2021-07-31T12:07:32.580883Z"
    },
    "id": "XXLqQnjrlp_4",
    "outputId": "c801da79-f0bf-4fe5-b19c-7c799fe01556",
    "papermill": {
     "duration": 0.563207,
     "end_time": "2021-08-08T18:02:45.094780",
     "exception": false,
     "start_time": "2021-08-08T18:02:44.531573",
     "status": "completed"
    },
    "tags": []
   },
   "outputs": [
    {
     "data": {
      "text/plain": [
       "20"
      ]
     },
     "execution_count": 22,
     "metadata": {},
     "output_type": "execute_result"
    }
   ],
   "source": [
    "gc.collect()"
   ]
  },
  {
   "cell_type": "code",
   "execution_count": 23,
   "metadata": {
    "execution": {
     "iopub.execute_input": "2021-08-08T18:02:45.843809Z",
     "iopub.status.busy": "2021-08-08T18:02:45.838140Z",
     "iopub.status.idle": "2021-08-08T18:02:45.867699Z",
     "shell.execute_reply": "2021-08-08T18:02:45.866896Z",
     "shell.execute_reply.started": "2021-07-31T12:07:32.763535Z"
    },
    "id": "QYGQasdTrmP0",
    "papermill": {
     "duration": 0.411338,
     "end_time": "2021-08-08T18:02:45.867880",
     "exception": false,
     "start_time": "2021-08-08T18:02:45.456542",
     "status": "completed"
    },
    "tags": []
   },
   "outputs": [],
   "source": [
    "# remove students who don't have make any interactions with the tool\n",
    "toRemove = []\n",
    "for index in grouped_data.index:\n",
    "  if len(grouped_data[index][0]) <= 10:\n",
    "    toRemove.append(index)\n",
    "grouped_data = grouped_data.drop(index=toRemove)"
   ]
  },
  {
   "cell_type": "code",
   "execution_count": 24,
   "metadata": {
    "execution": {
     "iopub.execute_input": "2021-08-08T18:02:46.628110Z",
     "iopub.status.busy": "2021-08-08T18:02:46.627007Z",
     "iopub.status.idle": "2021-08-08T18:02:46.645198Z",
     "shell.execute_reply": "2021-08-08T18:02:46.644451Z",
     "shell.execute_reply.started": "2021-07-31T12:07:32.802433Z"
    },
    "papermill": {
     "duration": 0.404693,
     "end_time": "2021-08-08T18:02:46.645367",
     "exception": false,
     "start_time": "2021-08-08T18:02:46.240674",
     "status": "completed"
    },
    "tags": []
   },
   "outputs": [
    {
     "data": {
      "text/plain": [
       "count    1110.000000\n",
       "mean      550.263063\n",
       "std       201.281353\n",
       "min         2.000000\n",
       "25%       438.250000\n",
       "50%       520.500000\n",
       "75%       637.750000\n",
       "max      1500.000000\n",
       "Name: start_practice, dtype: float64"
      ]
     },
     "execution_count": 24,
     "metadata": {},
     "output_type": "execute_result"
    }
   ],
   "source": [
    "dataframe.groupby('user_id')['start_practice'].agg('count').describe()"
   ]
  },
  {
   "cell_type": "code",
   "execution_count": 25,
   "metadata": {
    "execution": {
     "iopub.execute_input": "2021-08-08T18:02:47.397557Z",
     "iopub.status.busy": "2021-08-08T18:02:47.396816Z",
     "iopub.status.idle": "2021-08-08T18:02:47.400121Z",
     "shell.execute_reply": "2021-08-08T18:02:47.400611Z",
     "shell.execute_reply.started": "2021-07-31T12:07:32.821988Z"
    },
    "papermill": {
     "duration": 0.378268,
     "end_time": "2021-08-08T18:02:47.400789",
     "exception": false,
     "start_time": "2021-08-08T18:02:47.022521",
     "status": "completed"
    },
    "tags": []
   },
   "outputs": [
    {
     "data": {
      "text/plain": [
       "['FA 2018:252', 'WN 2018:295']"
      ]
     },
     "execution_count": 25,
     "metadata": {},
     "output_type": "execute_result"
    }
   ],
   "source": [
    "toRemove"
   ]
  },
  {
   "cell_type": "code",
   "execution_count": 26,
   "metadata": {
    "execution": {
     "iopub.execute_input": "2021-08-08T18:02:48.130880Z",
     "iopub.status.busy": "2021-08-08T18:02:48.130230Z",
     "iopub.status.idle": "2021-08-08T18:02:48.134751Z",
     "shell.execute_reply": "2021-08-08T18:02:48.135282Z",
     "shell.execute_reply.started": "2021-07-31T12:07:32.831612Z"
    },
    "id": "9kZqV9siDyNb",
    "papermill": {
     "duration": 0.36998,
     "end_time": "2021-08-08T18:02:48.135467",
     "exception": false,
     "start_time": "2021-08-08T18:02:47.765487",
     "status": "completed"
    },
    "tags": []
   },
   "outputs": [],
   "source": [
    "#SETTINGS -> can be modified at any time\n",
    "MAXLENGTH = 400\n",
    "EMBEDDING_DIM = 128\n",
    "DENSE_NEURON = 16\n",
    "GRU_NEURON = 32"
   ]
  },
  {
   "cell_type": "code",
   "execution_count": 27,
   "metadata": {
    "execution": {
     "iopub.execute_input": "2021-08-08T18:02:48.852642Z",
     "iopub.status.busy": "2021-08-08T18:02:48.851611Z",
     "iopub.status.idle": "2021-08-08T18:02:48.854036Z",
     "shell.execute_reply": "2021-08-08T18:02:48.854472Z",
     "shell.execute_reply.started": "2021-07-31T12:07:32.84337Z"
    },
    "id": "1MksD1JizpPn",
    "papermill": {
     "duration": 0.363543,
     "end_time": "2021-08-08T18:02:48.854656",
     "exception": false,
     "start_time": "2021-08-08T18:02:48.491113",
     "status": "completed"
    },
    "tags": []
   },
   "outputs": [],
   "source": [
    "FEATURES_SIZE = 2\n",
    "CHAPTER_SIZE = 38\n",
    "SUB_CHAPTER_SIZE = 223\n",
    "QUESTION_SIZE = 1069"
   ]
  },
  {
   "cell_type": "code",
   "execution_count": 28,
   "metadata": {
    "execution": {
     "iopub.execute_input": "2021-08-08T18:02:49.574171Z",
     "iopub.status.busy": "2021-08-08T18:02:49.573511Z",
     "iopub.status.idle": "2021-08-08T18:02:49.583842Z",
     "shell.execute_reply": "2021-08-08T18:02:49.583212Z",
     "shell.execute_reply.started": "2021-07-31T12:07:32.851249Z"
    },
    "papermill": {
     "duration": 0.371955,
     "end_time": "2021-08-08T18:02:49.583999",
     "exception": false,
     "start_time": "2021-08-08T18:02:49.212044",
     "status": "completed"
    },
    "tags": []
   },
   "outputs": [
    {
     "data": {
      "text/plain": [
       "array([ 96,  86,  88,  28,  12,  82, 125,  32,  69,  33,  21, 115, 120,\n",
       "       119,  91,  73,  57,  77, 117,  40,  74,  41,  68,  39,  92,  47,\n",
       "       104,  95,  53,  49,  50,  16,  52,  55,   7,  15,  51, 102, 103,\n",
       "        11,  94, 108, 100,  17,  67,  63,  13, 139,  26,  25,   8, 107,\n",
       "         0,  90,  48,  54, 138,   1,   2,   3,  34,  35,  85,   5,  24,\n",
       "        37,  36,  78,  70,  45, 142,  71,  10,  89, 111, 112, 109, 116,\n",
       "        76,  72, 148, 134, 146, 221, 143,  56,  60,  61,  23, 140, 106,\n",
       "        42,  83,  22, 145, 136, 144,  38,   4,  19, 137,  75,  43,  98,\n",
       "        84, 113, 173, 174, 175, 176, 177, 178, 180, 181, 182, 187, 189,\n",
       "       190, 191, 192, 193, 195, 197, 151, 152, 153, 156, 157, 158, 159,\n",
       "       160, 161, 163, 164, 165, 166, 167, 168, 169, 170, 171, 172, 198,\n",
       "       199, 200, 201, 202, 203, 204, 205, 206, 207, 208, 209, 210, 162,\n",
       "       179, 186, 188, 194, 183, 184, 185, 211, 212, 213, 154, 155, 196,\n",
       "         6, 118,  18, 215,  46, 216, 141,  27, 217, 105, 123, 218, 101,\n",
       "       124, 219, 122, 220,  58,  59,  64,  20,  93,  65,  66,   9,  44,\n",
       "        30,  14,  79, 121,  31, 110, 129,  87,  97,  62, 149, 132, 131,\n",
       "       150, 130, 128,  99, 147, 127, 214, 135,  80, 126, 133,  81, 114,\n",
       "        29], dtype=int16)"
      ]
     },
     "execution_count": 28,
     "metadata": {},
     "output_type": "execute_result"
    }
   ],
   "source": [
    "dataframe['sub_chapter_label'].unique()"
   ]
  },
  {
   "cell_type": "code",
   "execution_count": 29,
   "metadata": {
    "execution": {
     "iopub.execute_input": "2021-08-08T18:02:50.320885Z",
     "iopub.status.busy": "2021-08-08T18:02:50.315569Z",
     "iopub.status.idle": "2021-08-08T18:02:51.388510Z",
     "shell.execute_reply": "2021-08-08T18:02:51.389102Z",
     "shell.execute_reply.started": "2021-07-31T12:07:32.870313Z"
    },
    "id": "mY3Thp6d0NaT",
    "papermill": {
     "duration": 1.442306,
     "end_time": "2021-08-08T18:02:51.389306",
     "exception": false,
     "start_time": "2021-08-08T18:02:49.947000",
     "status": "completed"
    },
    "tags": []
   },
   "outputs": [],
   "source": [
    "#create dataset class\n",
    "#to prepare it for train, valid, and test sets\n",
    "from torch.utils.data import Dataset, DataLoader\n",
    "class SPACE_DATASET(Dataset):\n",
    "    def __init__(self, data, maxlength = 400):\n",
    "        super(SPACE_DATASET, self).__init__()\n",
    "        self.maxlength = maxlength\n",
    "        self.data = data\n",
    "        self.users = list()\n",
    "        for user in data.index:\n",
    "            self.users.append(user)\n",
    "\n",
    "    def __len__(self):\n",
    "        return len(self.users)\n",
    "    \n",
    "    def __getitem__(self, ix):\n",
    "        user = self.users[ix]\n",
    "        user = user\n",
    "        target, term, ch_label, sub_ch_label, ques_name, features = self.data[user]\n",
    "        \n",
    "        #0s should be used as padding values\n",
    "        ori_target = target.values \n",
    "        term = term.values\n",
    "        ch_label = ch_label.values + 1\n",
    "        sub_ch_label = sub_ch_label.values +1\n",
    "        ques_name = ques_name.values + 1\n",
    "        \n",
    "        n = len(ch_label)\n",
    "\n",
    "        # one hot for term\n",
    "        term_encode = [0]*7\n",
    "        term_encode[term[0]] = 1\n",
    "        shifted_target= []\n",
    "\n",
    "        \n",
    "        # get  user interaction informations in the previous MAXLEN interactions\n",
    "        if n > self.maxlength:\n",
    "          ch_label = ch_label[-self.maxlength:]\n",
    "          sub_ch_label = sub_ch_label[-self.maxlength:]\n",
    "          ques_name = ques_name[-self.maxlength:]\n",
    "          features = features[-self.maxlength:]\n",
    "          target = ori_target[-self.maxlength:]\n",
    "          shifted_target = ori_target[ (-self.maxlength - 1) :-1]\n",
    "        else:\n",
    "          ch_label = [0]*(self.maxlength - n)+list(ch_label[:])\n",
    "          sub_ch_label = [0]*(self.maxlength - n)+list(sub_ch_label[:])\n",
    "          ques_name = [0]*(self.maxlength - n)+list(ques_name[:])\n",
    "          features = [[0]*len(features[0])]*(self.maxlength  - n)+list(features[:])\n",
    "          target = [-1]*(self.maxlength - n) + list(ori_target[:])\n",
    "          shifted_target = [2]*(self.maxlength + 1 - n) + list(ori_target[:-1])\n",
    "\n",
    "        new_features = []\n",
    "        count = 0\n",
    "        for f in features:\n",
    "          temp = list(f)\n",
    "#           temp.extend(term_encode)\n",
    "          #temp.append(shifted_target[count]) #uncomment this line for include previous response feature\n",
    "          new_features.append(temp)\n",
    "          count += 1\n",
    "        features = new_features\n",
    "        return ch_label,sub_ch_label,ques_name,features, shifted_target, target"
   ]
  },
  {
   "cell_type": "code",
   "execution_count": 30,
   "metadata": {
    "execution": {
     "iopub.execute_input": "2021-08-08T18:02:52.118406Z",
     "iopub.status.busy": "2021-08-08T18:02:52.117711Z",
     "iopub.status.idle": "2021-08-08T18:02:52.120315Z",
     "shell.execute_reply": "2021-08-08T18:02:52.120756Z",
     "shell.execute_reply.started": "2021-07-31T12:07:33.249192Z"
    },
    "papermill": {
     "duration": 0.367184,
     "end_time": "2021-08-08T18:02:52.120963",
     "exception": false,
     "start_time": "2021-08-08T18:02:51.753779",
     "status": "completed"
    },
    "tags": []
   },
   "outputs": [
    {
     "data": {
      "text/plain": [
       "223"
      ]
     },
     "execution_count": 30,
     "metadata": {},
     "output_type": "execute_result"
    }
   ],
   "source": [
    "SUB_CHAPTER_SIZE"
   ]
  },
  {
   "cell_type": "markdown",
   "metadata": {
    "id": "4xc90-aLzxat",
    "papermill": {
     "duration": 0.366882,
     "end_time": "2021-08-08T18:02:52.850475",
     "exception": false,
     "start_time": "2021-08-08T18:02:52.483593",
     "status": "completed"
    },
    "tags": []
   },
   "source": [
    "## KFOLD - GRU\n"
   ]
  },
  {
   "cell_type": "code",
   "execution_count": 31,
   "metadata": {
    "execution": {
     "iopub.execute_input": "2021-08-08T18:02:53.603873Z",
     "iopub.status.busy": "2021-08-08T18:02:53.602967Z",
     "iopub.status.idle": "2021-08-08T18:23:23.337418Z",
     "shell.execute_reply": "2021-08-08T18:23:23.337960Z",
     "shell.execute_reply.started": "2021-07-31T12:07:33.257302Z"
    },
    "id": "gzJrljnjzypP",
    "outputId": "87abe488-b493-4f8f-9d71-45cb1d2ddf51",
    "papermill": {
     "duration": 1230.126762,
     "end_time": "2021-08-08T18:23:23.338179",
     "exception": false,
     "start_time": "2021-08-08T18:02:53.211417",
     "status": "completed"
    },
    "tags": []
   },
   "outputs": [
    {
     "name": "stdout",
     "output_type": "stream",
     "text": [
      "Epoch 1/100\n",
      "14/14 [==============================] - 20s 872ms/step - loss: 0.5763 - masked_acc: 0.6515 - masked_auc: 0.5430 - val_loss: 0.4780 - val_masked_acc: 0.7136 - val_masked_auc: 0.6997\n",
      "Epoch 2/100\n",
      "14/14 [==============================] - 9s 678ms/step - loss: 0.4619 - masked_acc: 0.7250 - masked_auc: 0.7254 - val_loss: 0.4483 - val_masked_acc: 0.7406 - val_masked_auc: 0.7577\n",
      "Epoch 3/100\n",
      "14/14 [==============================] - 9s 675ms/step - loss: 0.4399 - masked_acc: 0.7446 - masked_auc: 0.7656 - val_loss: 0.4499 - val_masked_acc: 0.7504 - val_masked_auc: 0.7774\n",
      "Epoch 4/100\n",
      "14/14 [==============================] - 9s 653ms/step - loss: 0.4446 - masked_acc: 0.7523 - masked_auc: 0.7814 - val_loss: 0.4495 - val_masked_acc: 0.7557 - val_masked_auc: 0.7876\n",
      "Epoch 5/100\n",
      "14/14 [==============================] - 9s 667ms/step - loss: 0.4420 - masked_acc: 0.7566 - masked_auc: 0.7898 - val_loss: 0.4405 - val_masked_acc: 0.7591 - val_masked_auc: 0.7946\n",
      "Epoch 6/100\n",
      "14/14 [==============================] - 9s 678ms/step - loss: 0.4384 - masked_acc: 0.7597 - masked_auc: 0.7961 - val_loss: 0.4404 - val_masked_acc: 0.7616 - val_masked_auc: 0.7995\n",
      "Epoch 7/100\n",
      "14/14 [==============================] - 10s 681ms/step - loss: 0.4311 - masked_acc: 0.7622 - masked_auc: 0.8010 - val_loss: 0.4417 - val_masked_acc: 0.7635 - val_masked_auc: 0.8036\n",
      "Epoch 8/100\n",
      "14/14 [==============================] - 9s 655ms/step - loss: 0.4307 - masked_acc: 0.7638 - masked_auc: 0.8047 - val_loss: 0.4348 - val_masked_acc: 0.7651 - val_masked_auc: 0.8072\n",
      "Epoch 9/100\n",
      "14/14 [==============================] - 10s 685ms/step - loss: 0.4226 - masked_acc: 0.7655 - masked_auc: 0.8083 - val_loss: 0.4298 - val_masked_acc: 0.7666 - val_masked_auc: 0.8106\n",
      "Epoch 10/100\n",
      "14/14 [==============================] - 10s 679ms/step - loss: 0.4208 - masked_acc: 0.7669 - masked_auc: 0.8115 - val_loss: 0.4311 - val_masked_acc: 0.7680 - val_masked_auc: 0.8137\n",
      "Epoch 11/100\n",
      "14/14 [==============================] - 10s 699ms/step - loss: 0.4131 - masked_acc: 0.7683 - masked_auc: 0.8146 - val_loss: 0.4255 - val_masked_acc: 0.7693 - val_masked_auc: 0.8166\n",
      "Epoch 12/100\n",
      "14/14 [==============================] - 10s 683ms/step - loss: 0.4092 - masked_acc: 0.7696 - masked_auc: 0.8174 - val_loss: 0.4266 - val_masked_acc: 0.7705 - val_masked_auc: 0.8193\n",
      "Epoch 13/100\n",
      "14/14 [==============================] - 9s 653ms/step - loss: 0.4015 - masked_acc: 0.7709 - masked_auc: 0.8200 - val_loss: 0.4279 - val_masked_acc: 0.7717 - val_masked_auc: 0.8216\n",
      "Epoch 14/100\n",
      "14/14 [==============================] - 9s 645ms/step - loss: 0.4065 - masked_acc: 0.7719 - masked_auc: 0.8221 - val_loss: 0.4290 - val_masked_acc: 0.7727 - val_masked_auc: 0.8237\n",
      "Epoch 15/100\n",
      "14/14 [==============================] - 9s 642ms/step - loss: 0.3949 - masked_acc: 0.7731 - masked_auc: 0.8244 - val_loss: 0.4214 - val_masked_acc: 0.7738 - val_masked_auc: 0.8259\n",
      "Epoch 16/100\n",
      "14/14 [==============================] - 9s 674ms/step - loss: 0.3973 - masked_acc: 0.7741 - masked_auc: 0.8265 - val_loss: 0.4213 - val_masked_acc: 0.7749 - val_masked_auc: 0.8279\n",
      "Epoch 17/100\n",
      "14/14 [==============================] - 9s 660ms/step - loss: 0.3880 - masked_acc: 0.7752 - masked_auc: 0.8286 - val_loss: 0.4194 - val_masked_acc: 0.7758 - val_masked_auc: 0.8298\n",
      "Epoch 18/100\n",
      "14/14 [==============================] - 9s 656ms/step - loss: 0.3994 - masked_acc: 0.7761 - masked_auc: 0.8303 - val_loss: 0.4230 - val_masked_acc: 0.7767 - val_masked_auc: 0.8313\n",
      "Epoch 19/100\n",
      "14/14 [==============================] - 9s 674ms/step - loss: 0.3929 - masked_acc: 0.7770 - masked_auc: 0.8318 - val_loss: 0.4289 - val_masked_acc: 0.7775 - val_masked_auc: 0.8328\n",
      "Epoch 20/100\n",
      "14/14 [==============================] - 11s 820ms/step - loss: 0.3918 - masked_acc: 0.7777 - masked_auc: 0.8332 - val_loss: 0.4206 - val_masked_acc: 0.7783 - val_masked_auc: 0.8343\n",
      "Epoch 21/100\n",
      "14/14 [==============================] - 10s 683ms/step - loss: 0.3845 - masked_acc: 0.7786 - masked_auc: 0.8347 - val_loss: 0.4198 - val_masked_acc: 0.7793 - val_masked_auc: 0.8358\n",
      "Epoch 22/100\n",
      "14/14 [==============================] - 10s 697ms/step - loss: 0.3794 - masked_acc: 0.7796 - masked_auc: 0.8363 - val_loss: 0.4200 - val_masked_acc: 0.7802 - val_masked_auc: 0.8373\n",
      "Epoch 23/100\n",
      "14/14 [==============================] - 10s 719ms/step - loss: 0.3711 - masked_acc: 0.7805 - masked_auc: 0.8378 - val_loss: 0.4218 - val_masked_acc: 0.7810 - val_masked_auc: 0.8387\n",
      "Epoch 24/100\n",
      "14/14 [==============================] - 9s 663ms/step - loss: 0.3726 - masked_acc: 0.7813 - masked_auc: 0.8392 - val_loss: 0.4212 - val_masked_acc: 0.7819 - val_masked_auc: 0.8401\n",
      "Epoch 25/100\n",
      "14/14 [==============================] - 9s 672ms/step - loss: 0.3660 - masked_acc: 0.7822 - masked_auc: 0.8405 - val_loss: 0.4223 - val_masked_acc: 0.7827 - val_masked_auc: 0.8414\n",
      "Epoch 26/100\n",
      "14/14 [==============================] - 9s 668ms/step - loss: 0.3694 - masked_acc: 0.7830 - masked_auc: 0.8419 - val_loss: 0.4260 - val_masked_acc: 0.7835 - val_masked_auc: 0.8427\n",
      "Epoch 27/100\n",
      "14/14 [==============================] - 9s 665ms/step - loss: 0.3718 - masked_acc: 0.7838 - masked_auc: 0.8431 - val_loss: 0.4239 - val_masked_acc: 0.7843 - val_masked_auc: 0.8440\n",
      "28/28 [==============================] - 3s 104ms/step - loss: 0.3631 - masked_acc: 0.7850 - masked_auc: 0.8448\n",
      "4/4 [==============================] - 0s 95ms/step - loss: 0.4322 - masked_acc: 0.7852 - masked_auc: 0.8453\n",
      "Test:  [0.4321921765804291, 0.7852382659912109, 0.8453182578086853]\n",
      "Epoch 1/100\n",
      "14/14 [==============================] - 19s 859ms/step - loss: 0.5918 - masked_acc: 0.6527 - masked_auc: 0.5288 - val_loss: 0.5019 - val_masked_acc: 0.7052 - val_masked_auc: 0.6680\n",
      "Epoch 2/100\n",
      "14/14 [==============================] - 9s 668ms/step - loss: 0.4708 - masked_acc: 0.7157 - masked_auc: 0.6993 - val_loss: 0.4682 - val_masked_acc: 0.7338 - val_masked_auc: 0.7405\n",
      "Epoch 3/100\n",
      "14/14 [==============================] - 9s 661ms/step - loss: 0.4464 - masked_acc: 0.7380 - masked_auc: 0.7508 - val_loss: 0.4621 - val_masked_acc: 0.7460 - val_masked_auc: 0.7660\n",
      "Epoch 4/100\n",
      "14/14 [==============================] - 10s 685ms/step - loss: 0.4426 - masked_acc: 0.7480 - masked_auc: 0.7709 - val_loss: 0.4590 - val_masked_acc: 0.7524 - val_masked_auc: 0.7792\n",
      "Epoch 5/100\n",
      "14/14 [==============================] - 10s 690ms/step - loss: 0.4272 - masked_acc: 0.7541 - masked_auc: 0.7825 - val_loss: 0.4603 - val_masked_acc: 0.7564 - val_masked_auc: 0.7873\n",
      "Epoch 6/100\n",
      "14/14 [==============================] - 9s 665ms/step - loss: 0.4365 - masked_acc: 0.7572 - masked_auc: 0.7890 - val_loss: 0.4574 - val_masked_acc: 0.7591 - val_masked_auc: 0.7928\n",
      "Epoch 7/100\n",
      "14/14 [==============================] - 10s 691ms/step - loss: 0.4302 - masked_acc: 0.7598 - masked_auc: 0.7944 - val_loss: 0.4563 - val_masked_acc: 0.7613 - val_masked_auc: 0.7975\n",
      "Epoch 8/100\n",
      "14/14 [==============================] - 9s 663ms/step - loss: 0.4285 - masked_acc: 0.7618 - masked_auc: 0.7989 - val_loss: 0.4529 - val_masked_acc: 0.7629 - val_masked_auc: 0.8015\n",
      "Epoch 9/100\n",
      "14/14 [==============================] - 10s 690ms/step - loss: 0.4266 - masked_acc: 0.7632 - masked_auc: 0.8027 - val_loss: 0.4554 - val_masked_acc: 0.7644 - val_masked_auc: 0.8049\n",
      "Epoch 10/100\n",
      "14/14 [==============================] - 9s 680ms/step - loss: 0.4191 - masked_acc: 0.7647 - masked_auc: 0.8059 - val_loss: 0.4468 - val_masked_acc: 0.7657 - val_masked_auc: 0.8080\n",
      "Epoch 11/100\n",
      "14/14 [==============================] - 9s 666ms/step - loss: 0.4134 - masked_acc: 0.7661 - masked_auc: 0.8091 - val_loss: 0.4526 - val_masked_acc: 0.7669 - val_masked_auc: 0.8109\n",
      "Epoch 12/100\n",
      "14/14 [==============================] - 9s 681ms/step - loss: 0.4151 - masked_acc: 0.7672 - masked_auc: 0.8118 - val_loss: 0.4450 - val_masked_acc: 0.7681 - val_masked_auc: 0.8137\n",
      "Epoch 13/100\n",
      "14/14 [==============================] - 9s 668ms/step - loss: 0.4064 - masked_acc: 0.7684 - masked_auc: 0.8146 - val_loss: 0.4698 - val_masked_acc: 0.7692 - val_masked_auc: 0.8160\n",
      "Epoch 14/100\n",
      "14/14 [==============================] - 10s 690ms/step - loss: 0.4072 - masked_acc: 0.7695 - masked_auc: 0.8168 - val_loss: 0.4551 - val_masked_acc: 0.7703 - val_masked_auc: 0.8183\n",
      "Epoch 15/100\n",
      "14/14 [==============================] - 9s 661ms/step - loss: 0.4047 - masked_acc: 0.7706 - masked_auc: 0.8190 - val_loss: 0.4502 - val_masked_acc: 0.7714 - val_masked_auc: 0.8206\n",
      "Epoch 16/100\n",
      "14/14 [==============================] - 10s 689ms/step - loss: 0.3953 - masked_acc: 0.7717 - masked_auc: 0.8213 - val_loss: 0.4514 - val_masked_acc: 0.7725 - val_masked_auc: 0.8227\n",
      "Epoch 17/100\n",
      "14/14 [==============================] - 10s 691ms/step - loss: 0.4025 - masked_acc: 0.7727 - masked_auc: 0.8233 - val_loss: 0.4446 - val_masked_acc: 0.7734 - val_masked_auc: 0.8246\n",
      "Epoch 18/100\n",
      "14/14 [==============================] - 9s 671ms/step - loss: 0.3938 - masked_acc: 0.7737 - masked_auc: 0.8252 - val_loss: 0.4521 - val_masked_acc: 0.7744 - val_masked_auc: 0.8263\n",
      "Epoch 19/100\n",
      "14/14 [==============================] - 9s 666ms/step - loss: 0.3896 - masked_acc: 0.7747 - masked_auc: 0.8269 - val_loss: 0.4556 - val_masked_acc: 0.7753 - val_masked_auc: 0.8280\n",
      "Epoch 20/100\n",
      "14/14 [==============================] - 10s 690ms/step - loss: 0.3949 - masked_acc: 0.7755 - masked_auc: 0.8286 - val_loss: 0.4509 - val_masked_acc: 0.7762 - val_masked_auc: 0.8297\n",
      "Epoch 21/100\n",
      "14/14 [==============================] - 9s 661ms/step - loss: 0.3889 - masked_acc: 0.7764 - masked_auc: 0.8303 - val_loss: 0.4524 - val_masked_acc: 0.7771 - val_masked_auc: 0.8313\n",
      "Epoch 22/100\n",
      "14/14 [==============================] - 9s 657ms/step - loss: 0.3930 - masked_acc: 0.7772 - masked_auc: 0.8317 - val_loss: 0.4499 - val_masked_acc: 0.7777 - val_masked_auc: 0.8326\n",
      "Epoch 23/100\n",
      "14/14 [==============================] - 9s 662ms/step - loss: 0.3847 - masked_acc: 0.7779 - masked_auc: 0.8330 - val_loss: 0.4554 - val_masked_acc: 0.7785 - val_masked_auc: 0.8340\n",
      "Epoch 24/100\n",
      "14/14 [==============================] - 9s 681ms/step - loss: 0.3842 - masked_acc: 0.7787 - masked_auc: 0.8344 - val_loss: 0.4534 - val_masked_acc: 0.7793 - val_masked_auc: 0.8353\n",
      "Epoch 25/100\n",
      "14/14 [==============================] - 10s 689ms/step - loss: 0.3777 - masked_acc: 0.7795 - masked_auc: 0.8358 - val_loss: 0.4554 - val_masked_acc: 0.7801 - val_masked_auc: 0.8367\n",
      "Epoch 26/100\n",
      "14/14 [==============================] - 9s 663ms/step - loss: 0.3756 - masked_acc: 0.7804 - masked_auc: 0.8371 - val_loss: 0.4570 - val_masked_acc: 0.7809 - val_masked_auc: 0.8380\n",
      "Epoch 27/100\n",
      "14/14 [==============================] - 10s 690ms/step - loss: 0.3725 - masked_acc: 0.7811 - masked_auc: 0.8384 - val_loss: 0.4502 - val_masked_acc: 0.7816 - val_masked_auc: 0.8392\n",
      "28/28 [==============================] - 3s 108ms/step - loss: 0.3677 - masked_acc: 0.7822 - masked_auc: 0.8401\n",
      "4/4 [==============================] - 0s 98ms/step - loss: 0.4130 - masked_acc: 0.7825 - masked_auc: 0.8406\n",
      "Test:  [0.41304370760917664, 0.782492458820343, 0.8406388163566589]\n",
      "Epoch 1/100\n",
      "14/14 [==============================] - 19s 854ms/step - loss: 0.5773 - masked_acc: 0.5780 - masked_auc: 0.5479 - val_loss: 0.4563 - val_masked_acc: 0.7088 - val_masked_auc: 0.7011\n",
      "Epoch 2/100\n",
      "14/14 [==============================] - 9s 667ms/step - loss: 0.4629 - masked_acc: 0.7201 - masked_auc: 0.7262 - val_loss: 0.4321 - val_masked_acc: 0.7392 - val_masked_auc: 0.7582\n",
      "Epoch 3/100\n",
      "14/14 [==============================] - 9s 657ms/step - loss: 0.4478 - masked_acc: 0.7428 - masked_auc: 0.7655 - val_loss: 0.4324 - val_masked_acc: 0.7503 - val_masked_auc: 0.7780\n",
      "Epoch 4/100\n",
      "14/14 [==============================] - 10s 688ms/step - loss: 0.4450 - masked_acc: 0.7517 - masked_auc: 0.7816 - val_loss: 0.4283 - val_masked_acc: 0.7564 - val_masked_auc: 0.7888\n",
      "Epoch 5/100\n",
      "14/14 [==============================] - 10s 688ms/step - loss: 0.4410 - masked_acc: 0.7574 - masked_auc: 0.7908 - val_loss: 0.4279 - val_masked_acc: 0.7602 - val_masked_auc: 0.7957\n",
      "Epoch 6/100\n",
      "14/14 [==============================] - 10s 687ms/step - loss: 0.4332 - masked_acc: 0.7607 - masked_auc: 0.7971 - val_loss: 0.4297 - val_masked_acc: 0.7630 - val_masked_auc: 0.8009\n",
      "Epoch 7/100\n",
      "14/14 [==============================] - 9s 655ms/step - loss: 0.4282 - masked_acc: 0.7635 - masked_auc: 0.8022 - val_loss: 0.4239 - val_masked_acc: 0.7650 - val_masked_auc: 0.8049\n",
      "Epoch 8/100\n",
      "14/14 [==============================] - 10s 683ms/step - loss: 0.4290 - masked_acc: 0.7654 - masked_auc: 0.8059 - val_loss: 0.4193 - val_masked_acc: 0.7667 - val_masked_auc: 0.8084\n",
      "Epoch 9/100\n",
      "14/14 [==============================] - 9s 656ms/step - loss: 0.4251 - masked_acc: 0.7670 - masked_auc: 0.8093 - val_loss: 0.4183 - val_masked_acc: 0.7682 - val_masked_auc: 0.8114\n",
      "Epoch 10/100\n",
      "14/14 [==============================] - 10s 685ms/step - loss: 0.4148 - masked_acc: 0.7685 - masked_auc: 0.8123 - val_loss: 0.4190 - val_masked_acc: 0.7694 - val_masked_auc: 0.8141\n",
      "Epoch 11/100\n",
      "14/14 [==============================] - 9s 647ms/step - loss: 0.4128 - masked_acc: 0.7698 - masked_auc: 0.8149 - val_loss: 0.4165 - val_masked_acc: 0.7707 - val_masked_auc: 0.8165\n",
      "Epoch 12/100\n",
      "14/14 [==============================] - 9s 679ms/step - loss: 0.4130 - masked_acc: 0.7709 - masked_auc: 0.8172 - val_loss: 0.4140 - val_masked_acc: 0.7719 - val_masked_auc: 0.8189\n",
      "Epoch 13/100\n",
      "14/14 [==============================] - 9s 653ms/step - loss: 0.4069 - masked_acc: 0.7721 - masked_auc: 0.8195 - val_loss: 0.4152 - val_masked_acc: 0.7730 - val_masked_auc: 0.8209\n",
      "Epoch 14/100\n",
      "14/14 [==============================] - 9s 682ms/step - loss: 0.4081 - masked_acc: 0.7732 - masked_auc: 0.8216 - val_loss: 0.4107 - val_masked_acc: 0.7741 - val_masked_auc: 0.8229\n",
      "Epoch 15/100\n",
      "14/14 [==============================] - 10s 689ms/step - loss: 0.4024 - masked_acc: 0.7743 - masked_auc: 0.8236 - val_loss: 0.4106 - val_masked_acc: 0.7752 - val_masked_auc: 0.8251\n",
      "Epoch 16/100\n",
      "14/14 [==============================] - 10s 686ms/step - loss: 0.3982 - masked_acc: 0.7755 - masked_auc: 0.8258 - val_loss: 0.4118 - val_masked_acc: 0.7764 - val_masked_auc: 0.8272\n",
      "Epoch 17/100\n",
      "14/14 [==============================] - 10s 690ms/step - loss: 0.3931 - masked_acc: 0.7767 - masked_auc: 0.8278 - val_loss: 0.4239 - val_masked_acc: 0.7774 - val_masked_auc: 0.8288\n",
      "Epoch 18/100\n",
      "14/14 [==============================] - 10s 685ms/step - loss: 0.3932 - masked_acc: 0.7776 - masked_auc: 0.8294 - val_loss: 0.4136 - val_masked_acc: 0.7783 - val_masked_auc: 0.8305\n",
      "Epoch 19/100\n",
      "14/14 [==============================] - 9s 663ms/step - loss: 0.3880 - masked_acc: 0.7786 - masked_auc: 0.8311 - val_loss: 0.4152 - val_masked_acc: 0.7794 - val_masked_auc: 0.8323\n",
      "Epoch 20/100\n",
      "14/14 [==============================] - 9s 653ms/step - loss: 0.3904 - masked_acc: 0.7796 - masked_auc: 0.8328 - val_loss: 0.4110 - val_masked_acc: 0.7802 - val_masked_auc: 0.8338\n",
      "Epoch 21/100\n",
      "14/14 [==============================] - 10s 687ms/step - loss: 0.3812 - masked_acc: 0.7805 - masked_auc: 0.8344 - val_loss: 0.4126 - val_masked_acc: 0.7812 - val_masked_auc: 0.8354\n",
      "Epoch 22/100\n",
      "14/14 [==============================] - 9s 679ms/step - loss: 0.3799 - masked_acc: 0.7814 - masked_auc: 0.8359 - val_loss: 0.4118 - val_masked_acc: 0.7820 - val_masked_auc: 0.8369\n",
      "Epoch 23/100\n",
      "14/14 [==============================] - 9s 659ms/step - loss: 0.3777 - masked_acc: 0.7823 - masked_auc: 0.8374 - val_loss: 0.4108 - val_masked_acc: 0.7829 - val_masked_auc: 0.8384\n",
      "Epoch 24/100\n",
      "14/14 [==============================] - 10s 691ms/step - loss: 0.3799 - masked_acc: 0.7831 - masked_auc: 0.8388 - val_loss: 0.4147 - val_masked_acc: 0.7838 - val_masked_auc: 0.8398\n",
      "Epoch 25/100\n",
      "14/14 [==============================] - 9s 678ms/step - loss: 0.3679 - masked_acc: 0.7841 - masked_auc: 0.8402 - val_loss: 0.4121 - val_masked_acc: 0.7847 - val_masked_auc: 0.8412\n",
      "28/28 [==============================] - 3s 105ms/step - loss: 0.3708 - masked_acc: 0.7853 - masked_auc: 0.8420\n",
      "4/4 [==============================] - 0s 94ms/step - loss: 0.4351 - masked_acc: 0.7855 - masked_auc: 0.8425\n",
      "Test:  [0.43507903814315796, 0.7854775786399841, 0.8424670696258545]\n",
      "Epoch 1/100\n",
      "14/14 [==============================] - 21s 938ms/step - loss: 0.5843 - masked_acc: 0.6048 - masked_auc: 0.5191 - val_loss: 0.4963 - val_masked_acc: 0.7028 - val_masked_auc: 0.6823\n",
      "Epoch 2/100\n",
      "14/14 [==============================] - 10s 685ms/step - loss: 0.4652 - masked_acc: 0.7153 - masked_auc: 0.7114 - val_loss: 0.4722 - val_masked_acc: 0.7338 - val_masked_auc: 0.7487\n",
      "Epoch 3/100\n",
      "14/14 [==============================] - 9s 666ms/step - loss: 0.4490 - masked_acc: 0.7378 - masked_auc: 0.7570 - val_loss: 0.4647 - val_masked_acc: 0.7461 - val_masked_auc: 0.7713\n",
      "Epoch 4/100\n",
      "14/14 [==============================] - 9s 670ms/step - loss: 0.4374 - masked_acc: 0.7483 - masked_auc: 0.7757 - val_loss: 0.4637 - val_masked_acc: 0.7527 - val_masked_auc: 0.7835\n",
      "Epoch 5/100\n",
      "14/14 [==============================] - 10s 712ms/step - loss: 0.4414 - masked_acc: 0.7538 - masked_auc: 0.7860 - val_loss: 0.4690 - val_masked_acc: 0.7568 - val_masked_auc: 0.7909\n",
      "Epoch 6/100\n",
      "14/14 [==============================] - 9s 672ms/step - loss: 0.4406 - masked_acc: 0.7574 - masked_auc: 0.7925 - val_loss: 0.4589 - val_masked_acc: 0.7597 - val_masked_auc: 0.7962\n",
      "Epoch 7/100\n",
      "14/14 [==============================] - 9s 660ms/step - loss: 0.4330 - masked_acc: 0.7600 - masked_auc: 0.7977 - val_loss: 0.4578 - val_masked_acc: 0.7619 - val_masked_auc: 0.8007\n",
      "Epoch 8/100\n",
      "14/14 [==============================] - 9s 681ms/step - loss: 0.4284 - masked_acc: 0.7624 - masked_auc: 0.8020 - val_loss: 0.4573 - val_masked_acc: 0.7637 - val_masked_auc: 0.8044\n",
      "Epoch 9/100\n",
      "14/14 [==============================] - 9s 659ms/step - loss: 0.4242 - masked_acc: 0.7640 - masked_auc: 0.8054 - val_loss: 0.4530 - val_masked_acc: 0.7652 - val_masked_auc: 0.8078\n",
      "Epoch 10/100\n",
      "14/14 [==============================] - 9s 682ms/step - loss: 0.4164 - masked_acc: 0.7656 - masked_auc: 0.8087 - val_loss: 0.4599 - val_masked_acc: 0.7665 - val_masked_auc: 0.8105\n",
      "Epoch 11/100\n",
      "14/14 [==============================] - 9s 662ms/step - loss: 0.4197 - masked_acc: 0.7668 - masked_auc: 0.8112 - val_loss: 0.4593 - val_masked_acc: 0.7675 - val_masked_auc: 0.8127\n",
      "Epoch 12/100\n",
      "14/14 [==============================] - 9s 682ms/step - loss: 0.4132 - masked_acc: 0.7678 - masked_auc: 0.8136 - val_loss: 0.4592 - val_masked_acc: 0.7687 - val_masked_auc: 0.8152\n",
      "Epoch 13/100\n",
      "14/14 [==============================] - 9s 656ms/step - loss: 0.4045 - masked_acc: 0.7689 - masked_auc: 0.8159 - val_loss: 0.4576 - val_masked_acc: 0.7697 - val_masked_auc: 0.8175\n",
      "Epoch 14/100\n",
      "14/14 [==============================] - 9s 655ms/step - loss: 0.4031 - masked_acc: 0.7700 - masked_auc: 0.8182 - val_loss: 0.4569 - val_masked_acc: 0.7709 - val_masked_auc: 0.8199\n",
      "Epoch 15/100\n",
      "14/14 [==============================] - 10s 718ms/step - loss: 0.3977 - masked_acc: 0.7712 - masked_auc: 0.8206 - val_loss: 0.4647 - val_masked_acc: 0.7720 - val_masked_auc: 0.8221\n",
      "Epoch 16/100\n",
      "14/14 [==============================] - 9s 656ms/step - loss: 0.4015 - masked_acc: 0.7723 - masked_auc: 0.8227 - val_loss: 0.4563 - val_masked_acc: 0.7731 - val_masked_auc: 0.8242\n",
      "Epoch 17/100\n",
      "14/14 [==============================] - 9s 656ms/step - loss: 0.3912 - masked_acc: 0.7735 - masked_auc: 0.8249 - val_loss: 0.4726 - val_masked_acc: 0.7742 - val_masked_auc: 0.8261\n",
      "Epoch 18/100\n",
      "14/14 [==============================] - 9s 659ms/step - loss: 0.3882 - masked_acc: 0.7745 - masked_auc: 0.8268 - val_loss: 0.4587 - val_masked_acc: 0.7751 - val_masked_auc: 0.8279\n",
      "Epoch 19/100\n",
      "14/14 [==============================] - 10s 671ms/step - loss: 0.3887 - masked_acc: 0.7754 - masked_auc: 0.8285 - val_loss: 0.4720 - val_masked_acc: 0.7760 - val_masked_auc: 0.8295\n",
      "28/28 [==============================] - 3s 106ms/step - loss: 0.3865 - masked_acc: 0.7767 - masked_auc: 0.8306\n",
      "4/4 [==============================] - 0s 92ms/step - loss: 0.4111 - masked_acc: 0.7769 - masked_auc: 0.8312\n",
      "Test:  [0.41113901138305664, 0.7769118547439575, 0.8312205076217651]\n",
      "Epoch 1/100\n",
      "14/14 [==============================] - 19s 822ms/step - loss: 0.5836 - masked_acc: 0.5555 - masked_auc: 0.5268 - val_loss: 0.4722 - val_masked_acc: 0.7007 - val_masked_auc: 0.6865\n",
      "Epoch 2/100\n",
      "14/14 [==============================] - 9s 660ms/step - loss: 0.4574 - masked_acc: 0.7140 - masked_auc: 0.7152 - val_loss: 0.4505 - val_masked_acc: 0.7349 - val_masked_auc: 0.7521\n",
      "Epoch 3/100\n",
      "14/14 [==============================] - 9s 665ms/step - loss: 0.4431 - masked_acc: 0.7396 - masked_auc: 0.7602 - val_loss: 0.4477 - val_masked_acc: 0.7478 - val_masked_auc: 0.7741\n",
      "Epoch 4/100\n",
      "14/14 [==============================] - 10s 678ms/step - loss: 0.4372 - masked_acc: 0.7498 - masked_auc: 0.7781 - val_loss: 0.4442 - val_masked_acc: 0.7546 - val_masked_auc: 0.7859\n",
      "Epoch 5/100\n",
      "14/14 [==============================] - 9s 659ms/step - loss: 0.4358 - masked_acc: 0.7557 - masked_auc: 0.7882 - val_loss: 0.4436 - val_masked_acc: 0.7587 - val_masked_auc: 0.7934\n",
      "Epoch 6/100\n",
      "14/14 [==============================] - 9s 663ms/step - loss: 0.4378 - masked_acc: 0.7593 - masked_auc: 0.7950 - val_loss: 0.4476 - val_masked_acc: 0.7617 - val_masked_auc: 0.7986\n",
      "Epoch 7/100\n",
      "14/14 [==============================] - 10s 692ms/step - loss: 0.4285 - masked_acc: 0.7623 - masked_auc: 0.7999 - val_loss: 0.4404 - val_masked_acc: 0.7638 - val_masked_auc: 0.8027\n",
      "Epoch 8/100\n",
      "14/14 [==============================] - 10s 702ms/step - loss: 0.4215 - masked_acc: 0.7645 - masked_auc: 0.8039 - val_loss: 0.4404 - val_masked_acc: 0.7656 - val_masked_auc: 0.8060\n",
      "Epoch 9/100\n",
      "14/14 [==============================] - 9s 662ms/step - loss: 0.4156 - masked_acc: 0.7660 - masked_auc: 0.8071 - val_loss: 0.4438 - val_masked_acc: 0.7672 - val_masked_auc: 0.8095\n",
      "Epoch 10/100\n",
      "14/14 [==============================] - 9s 659ms/step - loss: 0.4164 - masked_acc: 0.7675 - masked_auc: 0.8105 - val_loss: 0.4390 - val_masked_acc: 0.7686 - val_masked_auc: 0.8126\n",
      "Epoch 11/100\n",
      "14/14 [==============================] - 10s 695ms/step - loss: 0.4049 - masked_acc: 0.7690 - masked_auc: 0.8136 - val_loss: 0.4377 - val_masked_acc: 0.7699 - val_masked_auc: 0.8155\n",
      "Epoch 12/100\n",
      "14/14 [==============================] - 10s 691ms/step - loss: 0.4023 - masked_acc: 0.7704 - masked_auc: 0.8163 - val_loss: 0.4498 - val_masked_acc: 0.7712 - val_masked_auc: 0.8180\n",
      "Epoch 13/100\n",
      "14/14 [==============================] - 9s 654ms/step - loss: 0.3968 - masked_acc: 0.7716 - masked_auc: 0.8188 - val_loss: 0.4366 - val_masked_acc: 0.7724 - val_masked_auc: 0.8202\n",
      "Epoch 14/100\n",
      "14/14 [==============================] - 9s 666ms/step - loss: 0.4008 - masked_acc: 0.7726 - masked_auc: 0.8209 - val_loss: 0.4390 - val_masked_acc: 0.7734 - val_masked_auc: 0.8224\n",
      "Epoch 15/100\n",
      "14/14 [==============================] - 10s 692ms/step - loss: 0.4013 - masked_acc: 0.7737 - masked_auc: 0.8230 - val_loss: 0.4467 - val_masked_acc: 0.7746 - val_masked_auc: 0.8245\n",
      "Epoch 16/100\n",
      "14/14 [==============================] - 10s 690ms/step - loss: 0.3891 - masked_acc: 0.7750 - masked_auc: 0.8253 - val_loss: 0.4438 - val_masked_acc: 0.7758 - val_masked_auc: 0.8266\n",
      "Epoch 17/100\n",
      "14/14 [==============================] - 9s 653ms/step - loss: 0.3884 - masked_acc: 0.7761 - masked_auc: 0.8272 - val_loss: 0.4395 - val_masked_acc: 0.7769 - val_masked_auc: 0.8286\n",
      "Epoch 18/100\n",
      "14/14 [==============================] - 10s 701ms/step - loss: 0.3953 - masked_acc: 0.7772 - masked_auc: 0.8292 - val_loss: 0.4493 - val_masked_acc: 0.7780 - val_masked_auc: 0.8304\n",
      "Epoch 19/100\n",
      "14/14 [==============================] - 9s 675ms/step - loss: 0.3874 - masked_acc: 0.7783 - masked_auc: 0.8309 - val_loss: 0.4462 - val_masked_acc: 0.7790 - val_masked_auc: 0.8321\n",
      "Epoch 20/100\n",
      "14/14 [==============================] - 10s 698ms/step - loss: 0.3815 - masked_acc: 0.7793 - masked_auc: 0.8327 - val_loss: 0.4442 - val_masked_acc: 0.7800 - val_masked_auc: 0.8337\n",
      "Epoch 21/100\n",
      "14/14 [==============================] - 9s 674ms/step - loss: 0.3782 - masked_acc: 0.7803 - masked_auc: 0.8342 - val_loss: 0.4397 - val_masked_acc: 0.7809 - val_masked_auc: 0.8352\n",
      "Epoch 22/100\n",
      "14/14 [==============================] - 10s 675ms/step - loss: 0.3910 - masked_acc: 0.7810 - masked_auc: 0.8356 - val_loss: 0.4393 - val_masked_acc: 0.7815 - val_masked_auc: 0.8364\n",
      "Epoch 23/100\n",
      "14/14 [==============================] - 10s 690ms/step - loss: 0.3840 - masked_acc: 0.7817 - masked_auc: 0.8368 - val_loss: 0.4525 - val_masked_acc: 0.7823 - val_masked_auc: 0.8376\n",
      "28/28 [==============================] - 3s 109ms/step - loss: 0.3759 - masked_acc: 0.7829 - masked_auc: 0.8384\n",
      "4/4 [==============================] - 0s 96ms/step - loss: 0.4438 - masked_acc: 0.7831 - masked_auc: 0.8389\n",
      "Test:  [0.4437541961669922, 0.783097505569458, 0.8389447927474976]\n"
     ]
    }
   ],
   "source": [
    "# 5 fold cross validation with GRU-based model\n",
    "import torch\n",
    "X = np.array(grouped_data.keys())\n",
    "kfold = KFold(n_splits=5, shuffle=True)\n",
    "train_losses = list()\n",
    "train_aucs = list()\n",
    "val_losses = list()\n",
    "val_aucs = list()\n",
    "train_eval = list()\n",
    "test_eval = list()\n",
    "for train, test in kfold.split(X):\n",
    "    users_train, users_test =  X[train], X[test]\n",
    "    n = len(users_test)//2\n",
    "    users_test, users_val = users_test[:n], users_test[n: ]\n",
    "    train_data_space = SPACE_DATASET(grouped_data[users_train], MAXLENGTH)\n",
    "    val_data_space = SPACE_DATASET(grouped_data[users_val], MAXLENGTH)\n",
    "    test_data_space = SPACE_DATASET(grouped_data[users_test], MAXLENGTH)\n",
    "    #construct training input\n",
    "    train_chapter=[]\n",
    "    train_sub_chapter=[]\n",
    "    train_question = []\n",
    "    train_features=[]\n",
    "    #train_shifted_t = []\n",
    "    train_labels=[]\n",
    "    for i in range(len(users_train)):\n",
    "        user = train_data_space.__getitem__(i)\n",
    "        train_chapter.append(user[0])\n",
    "        train_sub_chapter.append(user[1]) \n",
    "        train_question.append(user[2])\n",
    "        train_features.append(user[3])\n",
    "        #train_shifted_t.append(user[4])\n",
    "        train_labels.append(user[5])\n",
    "    train_chapter = np.array(train_chapter)\n",
    "    train_sub_chapter = np.array(train_sub_chapter)\n",
    "    train_question = np.array(train_question)\n",
    "    train_features = np.array(train_features)\n",
    "    #train_shifted_t = np.array(train_shifted_t)\n",
    "    train_labels= np.array(train_labels)[..., np.newaxis]\n",
    "\n",
    "    #construct validation input\n",
    "    val_chapter=[]\n",
    "    val_sub_chapter=[]\n",
    "    val_question = []\n",
    "    val_features=[]\n",
    "    #val_shifted_t = []\n",
    "    val_labels=[]\n",
    "    for i in range(len(users_val)):\n",
    "        user = val_data_space.__getitem__(i)\n",
    "        val_chapter.append(user[0])\n",
    "        val_sub_chapter.append(user[1]) \n",
    "        val_question.append(user[2])\n",
    "        val_features.append(user[3])\n",
    "        #val_shifted_t.append(user[4])\n",
    "        val_labels.append(user[5])\n",
    "    val_chapter = np.array(val_chapter)\n",
    "    val_sub_chapter = np.array(val_sub_chapter)\n",
    "    val_features = np.array(val_features)\n",
    "    val_question = np.array(val_question)\n",
    "    #val_shifted_t = np.array(val_shifted_t)\n",
    "    val_labels= np.array(val_labels)[..., np.newaxis]\n",
    "\n",
    "    # construct test input\n",
    "    test_chapter=[]\n",
    "    test_sub_chapter=[]\n",
    "    test_features=[]\n",
    "    test_question=[]\n",
    "    #test_shifted_t = []\n",
    "    test_labels=[]\n",
    "    for i in range(len(users_test)):\n",
    "        user = test_data_space.__getitem__(i)\n",
    "        test_chapter.append(user[0])\n",
    "        test_sub_chapter.append(user[1]) \n",
    "        test_question.append(user[2])\n",
    "        test_features.append(user[3])\n",
    "        #test_shifted_t.append(user[4])\n",
    "        test_labels.append(user[5])\n",
    "    test_chapter = np.array(test_chapter)\n",
    "    test_sub_chapter = np.array(test_sub_chapter)\n",
    "    test_features = np.array(test_features)\n",
    "    test_question = np.array(test_question)\n",
    "    #test_shifted_t = np.array(test_shifted_t)\n",
    "    test_labels= np.array(test_labels)[..., np.newaxis]\n",
    "\n",
    "    # define loss function and evaluation metrics\n",
    "    bce = tf.keras.losses.BinaryCrossentropy(from_logits=True)\n",
    "    acc = tf.keras.metrics.Accuracy()\n",
    "    auc = tf.keras.metrics.AUC()\n",
    "\n",
    "    def masked_bce(y_true, y_pred):\n",
    "      flat_pred = y_pred\n",
    "      flat_ground_truth = y_true\n",
    "      label_mask = tf.math.not_equal(flat_ground_truth, -1)\n",
    "      return bce(flat_ground_truth, flat_pred, sample_weight=label_mask)\n",
    "\n",
    "    def masked_acc(y_true, y_pred):\n",
    "      flat_pred = y_pred\n",
    "      flat_ground_truth = y_true\n",
    "      flat_pred = (flat_pred >= 0.5)\n",
    "      label_mask = tf.math.not_equal(flat_ground_truth, -1)\n",
    "      return acc(flat_ground_truth, flat_pred, sample_weight=label_mask)\n",
    "\n",
    "    def masked_auc(y_true, y_pred):\n",
    "      flat_pred = y_pred\n",
    "      flat_ground_truth = y_true\n",
    "      label_mask = tf.math.not_equal(flat_ground_truth, -1)\n",
    "      return auc(flat_ground_truth, flat_pred, sample_weight=label_mask)\n",
    "\n",
    "    # input layer\n",
    "    input_chap = tf.keras.Input(shape=(MAXLENGTH))\n",
    "    input_sub_chap = tf.keras.Input(shape=(MAXLENGTH))\n",
    "    input_ques =  tf.keras.Input(shape=(MAXLENGTH))\n",
    "    #input_shifted = tf.keras.Input(shape=(MAXLENGTH))\n",
    "    input_features = tf.keras.Input(shape=(MAXLENGTH, FEATURES_SIZE))\n",
    "\n",
    "    # embedding layer for categorical features\n",
    "    embedding_chap = Embedding(input_dim = CHAPTER_SIZE, output_dim = EMBEDDING_DIM)(input_chap)\n",
    "    embedding_sub_chap = Embedding(input_dim = SUB_CHAPTER_SIZE, output_dim = EMBEDDING_DIM)(input_sub_chap) \n",
    "    embedding_ques = Embedding(input_dim = QUESTION_SIZE, output_dim = EMBEDDING_DIM)(input_ques)       \n",
    "    #embedding_shifted = Embedding(input_dim = 3, output_dim = EMBEDDING_DIM)(input_shifted)\n",
    "    # dense layer for numeric features\n",
    "    dense_features = Dense(EMBEDDING_DIM,input_shape = (None, MAXLENGTH))(input_features)\n",
    "\n",
    "    # definr GRU layers\n",
    "    GRU_chap = GRU(GRU_NEURON, input_shape = (None, EMBEDDING_DIM),return_sequences = True)(embedding_chap)\n",
    "    GRU_sub_chap = GRU(GRU_NEURON, input_shape = (None, EMBEDDING_DIM),return_sequences = True)(embedding_sub_chap)\n",
    "    GRU_ques = GRU(GRU_NEURON, input_shape = (None, EMBEDDING_DIM),return_sequences = True)(embedding_ques)\n",
    "    #GRU_shif = GRU(GRU_NEURON, input_shape = (None, EMBEDDING_DIM),return_sequences = True)(embedding_shifted)\n",
    "    GRU_features = GRU(GRU_NEURON, input_shape = (None, EMBEDDING_DIM),return_sequences = True)(dense_features)\n",
    "\n",
    "    GRU_output = tf.concat([GRU_chap, GRU_sub_chap, GRU_ques, GRU_features], axis = 2)\n",
    "\n",
    "    dense1 = Dense(256, input_shape = (None, 4*EMBEDDING_DIM), activation='relu')(GRU_output)\n",
    "    dropout1 = Dropout(0.1)(dense1)\n",
    "    dense2 = Dense(64, input_shape = (None, 256), activation='relu')(dropout1)\n",
    "    dropout2 = Dropout(0.1)(dense2)\n",
    "    pred = Dense(1, input_shape = (None, 64), activation='sigmoid')(dropout2)\n",
    "\n",
    "    model = tf.keras.Model(\n",
    "        inputs=[input_chap, input_sub_chap,input_ques, input_features],\n",
    "        outputs=pred,\n",
    "        name='GRU_model'\n",
    "    )\n",
    "\n",
    "    callback = tf.keras.callbacks.EarlyStopping(monitor='val_loss', patience=10)\n",
    "    opt_adam = Adam(learning_rate = 0.005)\n",
    "    model.compile(\n",
    "        optimizer=opt_adam,\n",
    "        loss= masked_bce,\n",
    "        metrics = [masked_acc, masked_auc]\n",
    "    )\n",
    "\n",
    "    history = model.fit(\n",
    "      [train_chapter, train_sub_chapter, train_question, train_features],\n",
    "      train_labels,\n",
    "      batch_size = 64,\n",
    "      epochs = 100,\n",
    "      validation_data=([val_chapter, val_sub_chapter, val_question, val_features], val_labels),\n",
    "      callbacks=[callback]\n",
    "    )\n",
    "    val_losses.append(list(history.history['val_loss']))\n",
    "    train_losses.append(list(history.history['loss']))\n",
    "    val_aucs.append(list(history.history['val_masked_auc']))\n",
    "    train_aucs.append(list(history.history['masked_auc']))\n",
    "    train_score = model.evaluate([train_chapter, train_sub_chapter, train_question, train_features], train_labels)\n",
    "    train_eval.append(train_score)\n",
    "    test_score = model.evaluate([test_chapter, test_sub_chapter, test_question, test_features], test_labels)\n",
    "    test_eval.append(test_score)\n",
    "    print(\"Test: \", test_score)\n",
    "    def reset_weights(model):\n",
    "      for layer in model.layers: \n",
    "        if isinstance(layer, tf.keras.Model):\n",
    "          reset_weights(layer)\n",
    "          continue\n",
    "        for k, initializer in layer.__dict__.items():\n",
    "          if \"initializer\" not in k:\n",
    "            continue\n",
    "          # find the corresponding variable\n",
    "          var = getattr(layer, k.replace(\"_initializer\", \"\"))\n",
    "          var.assign(initializer(var.shape, var.dtype))\n",
    "    reset_weights(model)"
   ]
  },
  {
   "cell_type": "code",
   "execution_count": 32,
   "metadata": {
    "execution": {
     "iopub.execute_input": "2021-08-08T18:23:25.347283Z",
     "iopub.status.busy": "2021-08-08T18:23:25.346137Z",
     "iopub.status.idle": "2021-08-08T18:23:25.351449Z",
     "shell.execute_reply": "2021-08-08T18:23:25.352024Z",
     "shell.execute_reply.started": "2021-07-31T12:12:25.783012Z"
    },
    "id": "QsVmumHMz3lx",
    "outputId": "4ff1e2fa-6abb-458e-c729-495b456f53e5",
    "papermill": {
     "duration": 1.016921,
     "end_time": "2021-08-08T18:23:25.352213",
     "exception": false,
     "start_time": "2021-08-08T18:23:24.335292",
     "status": "completed"
    },
    "tags": []
   },
   "outputs": [
    {
     "name": "stdout",
     "output_type": "stream",
     "text": [
      "test avg loss:  0.4270416259765625 +/- 0.012800570594769205\n",
      "test avg acc:  0.7826435327529907 +/- 0.0030933963249981634\n",
      "test avg auc:  0.8397178888320923 +/- 0.00474496365014354\n"
     ]
    }
   ],
   "source": [
    "t_eval = np.array(test_eval)\n",
    "print(\"test avg loss: \", np.mean(t_eval[:, 0]), \"+/-\" ,np.std(t_eval[:, 0]))\n",
    "print(\"test avg acc: \", np.mean(t_eval[:, 1]),  \"+/-\" ,np.std(t_eval[:, 1]))\n",
    "print(\"test avg auc: \", np.mean(t_eval[:, 2]), \"+/-\" ,np.std(t_eval[:, 2]))"
   ]
  },
  {
   "cell_type": "code",
   "execution_count": 33,
   "metadata": {
    "execution": {
     "iopub.execute_input": "2021-08-08T18:23:27.437317Z",
     "iopub.status.busy": "2021-08-08T18:23:27.436640Z",
     "iopub.status.idle": "2021-08-08T18:23:27.440408Z",
     "shell.execute_reply": "2021-08-08T18:23:27.439545Z",
     "shell.execute_reply.started": "2021-07-31T12:12:25.794728Z"
    },
    "id": "b9MM_CXWz5K6",
    "outputId": "4cf88e1d-3a74-4e7d-f92c-d01522e91757",
    "papermill": {
     "duration": 1.007951,
     "end_time": "2021-08-08T18:23:27.440598",
     "exception": false,
     "start_time": "2021-08-08T18:23:26.432647",
     "status": "completed"
    },
    "tags": []
   },
   "outputs": [
    {
     "name": "stdout",
     "output_type": "stream",
     "text": [
      "train avg loss:  0.3728055119514465 +/- 0.008010970466695919\n",
      "train avg acc:  0.7824079632759094 +/- 0.0030838467487508967\n",
      "train avg auc:  0.8391770601272583 +/- 0.004801554200632093\n"
     ]
    }
   ],
   "source": [
    "t_eval = np.array(train_eval)\n",
    "print(\"train avg loss: \", np.mean(t_eval[:, 0]), \"+/-\" ,np.std(t_eval[:, 0]))\n",
    "print(\"train avg acc: \", np.mean(t_eval[:, 1]),  \"+/-\" ,np.std(t_eval[:, 1]))\n",
    "print(\"train avg auc: \", np.mean(t_eval[:, 2]), \"+/-\" ,np.std(t_eval[:, 2]))"
   ]
  }
 ],
 "metadata": {
  "kernelspec": {
   "display_name": "Python 3",
   "language": "python",
   "name": "python3"
  },
  "language_info": {
   "codemirror_mode": {
    "name": "ipython",
    "version": 3
   },
   "file_extension": ".py",
   "mimetype": "text/x-python",
   "name": "python",
   "nbconvert_exporter": "python",
   "pygments_lexer": "ipython3",
   "version": "3.8.5"
  },
  "papermill": {
   "default_parameters": {},
   "duration": 1653.940047,
   "end_time": "2021-08-08T18:23:31.587458",
   "environment_variables": {},
   "exception": null,
   "input_path": "__notebook__.ipynb",
   "output_path": "__notebook__.ipynb",
   "parameters": {},
   "start_time": "2021-08-08T17:55:57.647411",
   "version": "2.3.3"
  }
 },
 "nbformat": 4,
 "nbformat_minor": 5
}
