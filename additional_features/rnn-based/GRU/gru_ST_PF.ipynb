{
 "cells": [
  {
   "cell_type": "code",
   "execution_count": 1,
   "metadata": {
    "execution": {
     "iopub.execute_input": "2021-08-08T15:34:49.815936Z",
     "iopub.status.busy": "2021-08-08T15:34:49.815305Z",
     "iopub.status.idle": "2021-08-08T15:34:56.131753Z",
     "shell.execute_reply": "2021-08-08T15:34:56.130945Z",
     "shell.execute_reply.started": "2021-07-31T12:06:59.141322Z"
    },
    "id": "farifxiKU1aB",
    "papermill": {
     "duration": 6.359287,
     "end_time": "2021-08-08T15:34:56.131921",
     "exception": false,
     "start_time": "2021-08-08T15:34:49.772634",
     "status": "completed"
    },
    "tags": []
   },
   "outputs": [],
   "source": [
    "import numpy as np\n",
    "import pandas as pd\n",
    "import warnings\n",
    "import gc\n",
    "import tensorflow as tf\n",
    "from tensorflow import keras\n",
    "\n",
    "import random\n",
    "from random import choice\n",
    "from tensorflow.keras.optimizers import Adam\n",
    "from tensorflow.keras.models import Sequential \n",
    "from tensorflow.keras.layers import Dense, GRU, Concatenate, Embedding, Flatten, Activation, Dropout\n",
    "from sklearn.model_selection import KFold\n",
    "from tensorflow.python.client import device_lib\n",
    "warnings.filterwarnings('ignore')\n",
    "import random"
   ]
  },
  {
   "cell_type": "code",
   "execution_count": 2,
   "metadata": {
    "execution": {
     "iopub.execute_input": "2021-08-08T15:34:56.197700Z",
     "iopub.status.busy": "2021-08-08T15:34:56.197043Z",
     "iopub.status.idle": "2021-08-08T15:34:56.200276Z",
     "shell.execute_reply": "2021-08-08T15:34:56.199769Z",
     "shell.execute_reply.started": "2021-07-31T12:07:01.064697Z"
    },
    "id": "QOson70GPOXb",
    "papermill": {
     "duration": 0.036869,
     "end_time": "2021-08-08T15:34:56.200426",
     "exception": false,
     "start_time": "2021-08-08T15:34:56.163557",
     "status": "completed"
    },
    "tags": []
   },
   "outputs": [],
   "source": [
    "import gc"
   ]
  },
  {
   "cell_type": "markdown",
   "metadata": {
    "id": "BQsVybBH3VPw",
    "papermill": {
     "duration": 0.028273,
     "end_time": "2021-08-08T15:34:56.258084",
     "exception": false,
     "start_time": "2021-08-08T15:34:56.229811",
     "status": "completed"
    },
    "tags": []
   },
   "source": [
    "## Data Preprocessing"
   ]
  },
  {
   "cell_type": "code",
   "execution_count": 3,
   "metadata": {
    "execution": {
     "iopub.execute_input": "2021-08-08T15:34:56.320740Z",
     "iopub.status.busy": "2021-08-08T15:34:56.320083Z",
     "iopub.status.idle": "2021-08-08T15:35:02.899918Z",
     "shell.execute_reply": "2021-08-08T15:35:02.900416Z",
     "shell.execute_reply.started": "2021-07-31T12:07:01.071844Z"
    },
    "id": "rwtTusGxrmAE",
    "outputId": "1430f3cf-038b-485e-b5c4-c1686b1f34fd",
    "papermill": {
     "duration": 6.613728,
     "end_time": "2021-08-08T15:35:02.900583",
     "exception": false,
     "start_time": "2021-08-08T15:34:56.286855",
     "status": "completed"
    },
    "tags": []
   },
   "outputs": [
    {
     "data": {
      "text/html": [
       "<div>\n",
       "<style scoped>\n",
       "    .dataframe tbody tr th:only-of-type {\n",
       "        vertical-align: middle;\n",
       "    }\n",
       "\n",
       "    .dataframe tbody tr th {\n",
       "        vertical-align: top;\n",
       "    }\n",
       "\n",
       "    .dataframe thead th {\n",
       "        text-align: right;\n",
       "    }\n",
       "</style>\n",
       "<table border=\"1\" class=\"dataframe\">\n",
       "  <thead>\n",
       "    <tr style=\"text-align: right;\">\n",
       "      <th></th>\n",
       "      <th>Unnamed: 0</th>\n",
       "      <th>chapter_label</th>\n",
       "      <th>sub_chapter_label</th>\n",
       "      <th>question_name</th>\n",
       "      <th>user_id.x</th>\n",
       "      <th>term</th>\n",
       "      <th>STDNT_SEX_CD</th>\n",
       "      <th>NonNativeEnglish</th>\n",
       "      <th>White</th>\n",
       "      <th>Asian</th>\n",
       "      <th>...</th>\n",
       "      <th>classGraded</th>\n",
       "      <th>classHonors</th>\n",
       "      <th>Pass_Fail</th>\n",
       "      <th>parentsGraduateEdu</th>\n",
       "      <th>minorityGroup</th>\n",
       "      <th>q</th>\n",
       "      <th>day's_available_flashcards</th>\n",
       "      <th>start_practice</th>\n",
       "      <th>end_practice</th>\n",
       "      <th>days_offset</th>\n",
       "    </tr>\n",
       "  </thead>\n",
       "  <tbody>\n",
       "    <tr>\n",
       "      <th>0</th>\n",
       "      <td>1</td>\n",
       "      <td>Sort</td>\n",
       "      <td>intro-SortingwithSortandSorted</td>\n",
       "      <td>ee_sort_04</td>\n",
       "      <td>148</td>\n",
       "      <td>WN 2018</td>\n",
       "      <td>1</td>\n",
       "      <td>0</td>\n",
       "      <td>1</td>\n",
       "      <td>0</td>\n",
       "      <td>...</td>\n",
       "      <td>1</td>\n",
       "      <td>0</td>\n",
       "      <td>0</td>\n",
       "      <td>0</td>\n",
       "      <td>0</td>\n",
       "      <td>0</td>\n",
       "      <td>18</td>\n",
       "      <td>2018-03-04 20:00:19</td>\n",
       "      <td>2018-03-04 20:00:35</td>\n",
       "      <td>45</td>\n",
       "    </tr>\n",
       "    <tr>\n",
       "      <th>1</th>\n",
       "      <td>2</td>\n",
       "      <td>Functions</td>\n",
       "      <td>Returningavaluefromafunction</td>\n",
       "      <td>test_questionfunctions_2_3</td>\n",
       "      <td>148</td>\n",
       "      <td>WN 2018</td>\n",
       "      <td>1</td>\n",
       "      <td>0</td>\n",
       "      <td>1</td>\n",
       "      <td>0</td>\n",
       "      <td>...</td>\n",
       "      <td>1</td>\n",
       "      <td>0</td>\n",
       "      <td>0</td>\n",
       "      <td>0</td>\n",
       "      <td>0</td>\n",
       "      <td>4</td>\n",
       "      <td>16</td>\n",
       "      <td>2018-02-10 11:57:55</td>\n",
       "      <td>2018-02-10 11:58:35</td>\n",
       "      <td>23</td>\n",
       "    </tr>\n",
       "    <tr>\n",
       "      <th>2</th>\n",
       "      <td>3</td>\n",
       "      <td>RESTAPIs</td>\n",
       "      <td>functionswithrestapis</td>\n",
       "      <td>test_question_functions_rest_apis_1</td>\n",
       "      <td>148</td>\n",
       "      <td>WN 2018</td>\n",
       "      <td>1</td>\n",
       "      <td>0</td>\n",
       "      <td>1</td>\n",
       "      <td>0</td>\n",
       "      <td>...</td>\n",
       "      <td>1</td>\n",
       "      <td>0</td>\n",
       "      <td>0</td>\n",
       "      <td>0</td>\n",
       "      <td>0</td>\n",
       "      <td>1</td>\n",
       "      <td>2</td>\n",
       "      <td>2018-03-12 17:03:07</td>\n",
       "      <td>2018-03-12 17:04:28</td>\n",
       "      <td>53</td>\n",
       "    </tr>\n",
       "    <tr>\n",
       "      <th>3</th>\n",
       "      <td>4</td>\n",
       "      <td>SimplePythonData</td>\n",
       "      <td>FunctionCalls</td>\n",
       "      <td>exercise_functionCalls_1</td>\n",
       "      <td>148</td>\n",
       "      <td>WN 2018</td>\n",
       "      <td>1</td>\n",
       "      <td>0</td>\n",
       "      <td>1</td>\n",
       "      <td>0</td>\n",
       "      <td>...</td>\n",
       "      <td>1</td>\n",
       "      <td>0</td>\n",
       "      <td>0</td>\n",
       "      <td>0</td>\n",
       "      <td>0</td>\n",
       "      <td>0</td>\n",
       "      <td>10</td>\n",
       "      <td>2018-01-30 14:15:49</td>\n",
       "      <td>2018-01-30 14:15:58</td>\n",
       "      <td>12</td>\n",
       "    </tr>\n",
       "    <tr>\n",
       "      <th>4</th>\n",
       "      <td>5</td>\n",
       "      <td>DictionaryAccumulation</td>\n",
       "      <td>AccumulatingaMaximumValue</td>\n",
       "      <td>ps_04_07</td>\n",
       "      <td>148</td>\n",
       "      <td>WN 2018</td>\n",
       "      <td>1</td>\n",
       "      <td>0</td>\n",
       "      <td>1</td>\n",
       "      <td>0</td>\n",
       "      <td>...</td>\n",
       "      <td>1</td>\n",
       "      <td>0</td>\n",
       "      <td>0</td>\n",
       "      <td>0</td>\n",
       "      <td>0</td>\n",
       "      <td>0</td>\n",
       "      <td>23</td>\n",
       "      <td>2018-03-03 14:04:17</td>\n",
       "      <td>2018-03-03 14:04:25</td>\n",
       "      <td>44</td>\n",
       "    </tr>\n",
       "  </tbody>\n",
       "</table>\n",
       "<p>5 rows × 48 columns</p>\n",
       "</div>"
      ],
      "text/plain": [
       "   Unnamed: 0           chapter_label               sub_chapter_label  \\\n",
       "0           1                    Sort  intro-SortingwithSortandSorted   \n",
       "1           2               Functions    Returningavaluefromafunction   \n",
       "2           3                RESTAPIs           functionswithrestapis   \n",
       "3           4        SimplePythonData                   FunctionCalls   \n",
       "4           5  DictionaryAccumulation       AccumulatingaMaximumValue   \n",
       "\n",
       "                         question_name  user_id.x     term  STDNT_SEX_CD  \\\n",
       "0                           ee_sort_04        148  WN 2018             1   \n",
       "1           test_questionfunctions_2_3        148  WN 2018             1   \n",
       "2  test_question_functions_rest_apis_1        148  WN 2018             1   \n",
       "3             exercise_functionCalls_1        148  WN 2018             1   \n",
       "4                             ps_04_07        148  WN 2018             1   \n",
       "\n",
       "   NonNativeEnglish  White  Asian  ...  classGraded  classHonors  Pass_Fail  \\\n",
       "0                 0      1      0  ...            1            0          0   \n",
       "1                 0      1      0  ...            1            0          0   \n",
       "2                 0      1      0  ...            1            0          0   \n",
       "3                 0      1      0  ...            1            0          0   \n",
       "4                 0      1      0  ...            1            0          0   \n",
       "\n",
       "   parentsGraduateEdu  minorityGroup  q  day's_available_flashcards  \\\n",
       "0                   0              0  0                          18   \n",
       "1                   0              0  4                          16   \n",
       "2                   0              0  1                           2   \n",
       "3                   0              0  0                          10   \n",
       "4                   0              0  0                          23   \n",
       "\n",
       "        start_practice         end_practice  days_offset  \n",
       "0  2018-03-04 20:00:19  2018-03-04 20:00:35           45  \n",
       "1  2018-02-10 11:57:55  2018-02-10 11:58:35           23  \n",
       "2  2018-03-12 17:03:07  2018-03-12 17:04:28           53  \n",
       "3  2018-01-30 14:15:49  2018-01-30 14:15:58           12  \n",
       "4  2018-03-03 14:04:17  2018-03-03 14:04:25           44  \n",
       "\n",
       "[5 rows x 48 columns]"
      ]
     },
     "execution_count": 3,
     "metadata": {},
     "output_type": "execute_result"
    }
   ],
   "source": [
    "# load the data\n",
    "import pandas as pd\n",
    "dataframe = pd.read_csv('../input/practice-log-demographics/Practice_Log_Demographics (1).csv', low_memory=False)\n",
    "dataframe.head()"
   ]
  },
  {
   "cell_type": "code",
   "execution_count": 4,
   "metadata": {
    "execution": {
     "iopub.execute_input": "2021-08-08T15:35:03.027724Z",
     "iopub.status.busy": "2021-08-08T15:35:03.026998Z",
     "iopub.status.idle": "2021-08-08T15:35:04.653000Z",
     "shell.execute_reply": "2021-08-08T15:35:04.652372Z",
     "shell.execute_reply.started": "2021-07-31T12:07:05.649784Z"
    },
    "id": "OCbHnEp_Vir0",
    "papermill": {
     "duration": 1.72314,
     "end_time": "2021-08-08T15:35:04.653153",
     "exception": false,
     "start_time": "2021-08-08T15:35:02.930013",
     "status": "completed"
    },
    "tags": []
   },
   "outputs": [],
   "source": [
    "#sort data based on timestamp\n",
    "dataframe = dataframe.sort_values(by=['start_practice']).reset_index(drop=True)"
   ]
  },
  {
   "cell_type": "code",
   "execution_count": 5,
   "metadata": {
    "execution": {
     "iopub.execute_input": "2021-08-08T15:35:04.720650Z",
     "iopub.status.busy": "2021-08-08T15:35:04.719999Z",
     "iopub.status.idle": "2021-08-08T15:35:04.723203Z",
     "shell.execute_reply": "2021-08-08T15:35:04.722679Z",
     "shell.execute_reply.started": "2021-07-31T12:07:07.101339Z"
    },
    "id": "0RvF7BvEr98o",
    "papermill": {
     "duration": 0.039825,
     "end_time": "2021-08-08T15:35:04.723358",
     "exception": false,
     "start_time": "2021-08-08T15:35:04.683533",
     "status": "completed"
    },
    "tags": []
   },
   "outputs": [],
   "source": [
    "FEATURES = ['chapter_label', 'sub_chapter_label','question_name','user_id','term',\n",
    "            'STDNT_SEX_CD', \n",
    "            'NonNativeEnglish',\n",
    "            'White',\n",
    "            'Asian',\n",
    "            'WhiteOrAsian',\n",
    "            'Hispanic',\n",
    "            'AfricanAmerican',\n",
    "            'OtherEthnicities',\n",
    "            'NonWhiteOrAsian',\n",
    "            'STDNT_CTZN_STAT_CD', 'international', \n",
    "            'gradingType',\n",
    "            'birthYear',\n",
    "            'exclClassCumGPA',\n",
    "            'Freshman',\n",
    "            'Junior',\n",
    "            'Sophomore',\n",
    "            'Senior',\n",
    "            'termCreditsGPA',\n",
    "            'termCreditsNoGPA',\n",
    "            'athlete_1',\n",
    "            'honorsPro',\n",
    "            'LSA', 'programBusiness', 'programEngineering', \n",
    "            'programInformation', 'programOther',\n",
    "            'HSCalculusTaken', \n",
    "            'highSchoolGPA', \n",
    "            'majorsCount', 'minorsCount',\n",
    "            'PREV_TERM_CUM_GPA',\n",
    "            'classGraded', 'classHonors', \n",
    "            'Pass_Fail', \n",
    "            'parentsGraduateEdu',  'minorityGroup', \n",
    "            'q',\n",
    "            'available_flashcards', \n",
    "            'start_practice', \n",
    "            'end_practice',\n",
    "            'days_offset']"
   ]
  },
  {
   "cell_type": "code",
   "execution_count": 6,
   "metadata": {
    "execution": {
     "iopub.execute_input": "2021-08-08T15:35:04.785527Z",
     "iopub.status.busy": "2021-08-08T15:35:04.784917Z",
     "iopub.status.idle": "2021-08-08T15:35:05.300142Z",
     "shell.execute_reply": "2021-08-08T15:35:05.300743Z",
     "shell.execute_reply.started": "2021-07-31T12:07:07.109369Z"
    },
    "id": "Mn341X7lSztl",
    "papermill": {
     "duration": 0.548157,
     "end_time": "2021-08-08T15:35:05.300927",
     "exception": false,
     "start_time": "2021-08-08T15:35:04.752770",
     "status": "completed"
    },
    "tags": []
   },
   "outputs": [],
   "source": [
    "dataframe['available_flashcards'] = dataframe[\"day's_available_flashcards\"][:]\n",
    "dataframe = dataframe.drop([\"day's_available_flashcards\"], axis=1)\n",
    "dataframe['user_id'] = dataframe[\"user_id.x\"][:]\n",
    "dataframe = dataframe.drop([\"user_id.x\"], axis=1)"
   ]
  },
  {
   "cell_type": "code",
   "execution_count": 7,
   "metadata": {
    "execution": {
     "iopub.execute_input": "2021-08-08T15:35:05.364509Z",
     "iopub.status.busy": "2021-08-08T15:35:05.363866Z",
     "iopub.status.idle": "2021-08-08T15:35:05.526825Z",
     "shell.execute_reply": "2021-08-08T15:35:05.526241Z",
     "shell.execute_reply.started": "2021-07-31T12:07:07.606049Z"
    },
    "id": "-_BRggOjbBjN",
    "outputId": "42bff7db-08dd-48dc-a73a-d048508053b7",
    "papermill": {
     "duration": 0.196579,
     "end_time": "2021-08-08T15:35:05.526964",
     "exception": false,
     "start_time": "2021-08-08T15:35:05.330385",
     "status": "completed"
    },
    "tags": []
   },
   "outputs": [
    {
     "data": {
      "text/plain": [
       "102"
      ]
     },
     "execution_count": 7,
     "metadata": {},
     "output_type": "execute_result"
    }
   ],
   "source": [
    "gc.collect()"
   ]
  },
  {
   "cell_type": "code",
   "execution_count": 8,
   "metadata": {
    "execution": {
     "iopub.execute_input": "2021-08-08T15:35:05.592040Z",
     "iopub.status.busy": "2021-08-08T15:35:05.591293Z",
     "iopub.status.idle": "2021-08-08T15:35:05.875119Z",
     "shell.execute_reply": "2021-08-08T15:35:05.874572Z",
     "shell.execute_reply.started": "2021-07-31T12:07:07.764114Z"
    },
    "id": "lXM7MlonVeRL",
    "outputId": "d29ccec0-522f-4e3c-e0b2-39b2e1eaef74",
    "papermill": {
     "duration": 0.318198,
     "end_time": "2021-08-08T15:35:05.875279",
     "exception": false,
     "start_time": "2021-08-08T15:35:05.557081",
     "status": "completed"
    },
    "tags": []
   },
   "outputs": [
    {
     "data": {
      "text/plain": [
       "20"
      ]
     },
     "execution_count": 8,
     "metadata": {},
     "output_type": "execute_result"
    }
   ],
   "source": [
    "dataframe = dataframe[FEATURES]\n",
    "gc.collect()"
   ]
  },
  {
   "cell_type": "code",
   "execution_count": 9,
   "metadata": {
    "execution": {
     "iopub.execute_input": "2021-08-08T15:35:06.453981Z",
     "iopub.status.busy": "2021-08-08T15:35:06.452268Z",
     "iopub.status.idle": "2021-08-08T15:35:06.593537Z",
     "shell.execute_reply": "2021-08-08T15:35:06.592982Z",
     "shell.execute_reply.started": "2021-07-31T12:07:08.046413Z"
    },
    "id": "2WAFv5z3A6fK",
    "outputId": "e27abf84-ec3c-4b88-e1fb-927d94b41898",
    "papermill": {
     "duration": 0.688411,
     "end_time": "2021-08-08T15:35:06.593689",
     "exception": false,
     "start_time": "2021-08-08T15:35:05.905278",
     "status": "completed"
    },
    "tags": []
   },
   "outputs": [],
   "source": [
    "dataframe = dataframe.fillna(0)"
   ]
  },
  {
   "cell_type": "code",
   "execution_count": 10,
   "metadata": {
    "execution": {
     "iopub.execute_input": "2021-08-08T15:35:06.670811Z",
     "iopub.status.busy": "2021-08-08T15:35:06.669036Z",
     "iopub.status.idle": "2021-08-08T15:35:08.090343Z",
     "shell.execute_reply": "2021-08-08T15:35:08.089766Z",
     "shell.execute_reply.started": "2021-07-31T12:07:08.626441Z"
    },
    "id": "qRKqF_0IXZgj",
    "papermill": {
     "duration": 1.466721,
     "end_time": "2021-08-08T15:35:08.090495",
     "exception": false,
     "start_time": "2021-08-08T15:35:06.623774",
     "status": "completed"
    },
    "tags": []
   },
   "outputs": [],
   "source": [
    "#label encode term, chapter_label, question_name, sub_chapter_label columns\n",
    "dataframe['term'] = dataframe['term'].astype('category')\n",
    "dataframe['user_id'] = dataframe['user_id'].astype(int)\n",
    "dataframe['user_id'] = dataframe['user_id'].astype(str)\n",
    "dataframe['user_id'] = dataframe['term'].str.cat(dataframe['user_id'], sep=':')\n",
    "dataframe['user_id'] = dataframe['user_id'].astype('category')\n",
    "dataframe['chapter_label'] = dataframe['chapter_label'].astype('category')\n",
    "dataframe['sub_chapter_label'] = dataframe['sub_chapter_label'].astype('category')\n",
    "dataframe['question_name'] = dataframe['question_name'].astype('category')\n"
   ]
  },
  {
   "cell_type": "code",
   "execution_count": 11,
   "metadata": {
    "execution": {
     "iopub.execute_input": "2021-08-08T15:35:08.160627Z",
     "iopub.status.busy": "2021-08-08T15:35:08.159591Z",
     "iopub.status.idle": "2021-08-08T15:35:08.687216Z",
     "shell.execute_reply": "2021-08-08T15:35:08.686559Z",
     "shell.execute_reply.started": "2021-07-31T12:07:09.884593Z"
    },
    "id": "eVl_067GWkDe",
    "papermill": {
     "duration": 0.565043,
     "end_time": "2021-08-08T15:35:08.687371",
     "exception": false,
     "start_time": "2021-08-08T15:35:08.122328",
     "status": "completed"
    },
    "tags": []
   },
   "outputs": [],
   "source": [
    "#calculate time_lag and prev_time_elapsed\n",
    "dataframe['prev_time_elapsed'] = None\n",
    "dataframe['time_lag'] = None\n",
    "dataframe['time_lag'] = dataframe['time_lag'].astype(np.float)\n",
    "dataframe['prev_time_elapsed'] = dataframe['prev_time_elapsed'].astype(np.float)\n",
    "dataframe.start_practice = pd.to_datetime(dataframe.start_practice, format='%Y-%m-%d %H:%M:%S')\n",
    "dataframe.end_practice = pd.to_datetime(dataframe.end_practice, format='%Y-%m-%d %H:%M:%S')"
   ]
  },
  {
   "cell_type": "code",
   "execution_count": 12,
   "metadata": {
    "execution": {
     "iopub.execute_input": "2021-08-08T15:35:08.754476Z",
     "iopub.status.busy": "2021-08-08T15:35:08.753203Z",
     "iopub.status.idle": "2021-08-08T15:35:08.790752Z",
     "shell.execute_reply": "2021-08-08T15:35:08.790144Z",
     "shell.execute_reply.started": "2021-07-31T12:07:10.365002Z"
    },
    "papermill": {
     "duration": 0.073354,
     "end_time": "2021-08-08T15:35:08.790900",
     "exception": false,
     "start_time": "2021-08-08T15:35:08.717546",
     "status": "completed"
    },
    "tags": []
   },
   "outputs": [],
   "source": [
    "dataframe['dif'] = dataframe.end_practice - dataframe.start_practice\n",
    "dataframe['dif'] = dataframe['dif'] /np.timedelta64(1, 's')\n",
    "dataframe['answer_correct'] = np.where((dataframe['q']==5) & (dataframe['dif'] <= 60), 1, 0)"
   ]
  },
  {
   "cell_type": "code",
   "execution_count": 13,
   "metadata": {
    "execution": {
     "iopub.execute_input": "2021-08-08T15:35:08.854593Z",
     "iopub.status.busy": "2021-08-08T15:35:08.853575Z",
     "iopub.status.idle": "2021-08-08T15:40:47.810139Z",
     "shell.execute_reply": "2021-08-08T15:40:47.810848Z",
     "shell.execute_reply.started": "2021-07-31T12:07:10.396034Z"
    },
    "id": "Xrkcn9VhWETm",
    "outputId": "fd73f3de-5f56-42a8-9539-3f3b79a5a6e2",
    "papermill": {
     "duration": 338.990076,
     "end_time": "2021-08-08T15:40:47.811055",
     "exception": false,
     "start_time": "2021-08-08T15:35:08.820979",
     "status": "completed"
    },
    "tags": []
   },
   "outputs": [
    {
     "name": "stderr",
     "output_type": "stream",
     "text": [
      "100%|██████████| 1110/1110 [05:38<00:00,  3.28it/s]\n"
     ]
    }
   ],
   "source": [
    "unique_chapts = dataframe['chapter_label'].unique()\n",
    "from tqdm import tqdm\n",
    "cnt = 0\n",
    "for user in tqdm(dataframe['user_id'].unique()):\n",
    "        for chapter in unique_chapts:\n",
    "            tmp_user = dataframe[(dataframe['user_id']==user) & (dataframe['chapter_label']==chapter)]\n",
    "            #if user doesn't answer any question from the chapter\n",
    "            if len(tmp_user) < 1:\n",
    "                continue\n",
    "            #calculate average elapsed time before the current question\n",
    "            #from its corresponding chapter\n",
    "            tmp_time_elapsed = tmp_user.end_practice - tmp_user.start_practice\n",
    "            tmp_time_elapsed = tmp_time_elapsed / np.timedelta64(1, 's')\n",
    "            tmp_time_elapsed = np.insert(np.array(tmp_time_elapsed[:-1]), 0, 0., axis=0)\n",
    "            tmp_time_elapsed = np.cumsum(tmp_time_elapsed)\n",
    "            indices = tmp_user.index\n",
    "            start_row = indices[0]\n",
    "            dataframe['time_lag'].iloc[start_row] = 0\n",
    "            for_mean = np.arange(len(tmp_user))\n",
    "            for_mean[0] = 1\n",
    "            time_substrahend = tmp_user.start_practice.iloc[:-1]\n",
    "            time_substrahend = time_substrahend.apply(lambda a: a.timestamp())\n",
    "            time_substrahend = np.array(time_substrahend)\n",
    "            \n",
    "            time_minuend = tmp_user.start_practice.iloc[1:]\n",
    "            time_minuend = time_minuend.apply(lambda a: a.timestamp())\n",
    "            time_minuend = np.array(time_minuend)\n",
    "\n",
    "            dataframe['prev_time_elapsed'].iloc[indices] = tmp_time_elapsed/for_mean\n",
    "            #calculate difference between current and last interaction\n",
    "            #from the same chapter\n",
    "            dataframe['time_lag'].iloc[indices[1:]] = time_minuend - time_substrahend\n"
   ]
  },
  {
   "cell_type": "code",
   "execution_count": 14,
   "metadata": {
    "execution": {
     "iopub.execute_input": "2021-08-08T15:40:48.586318Z",
     "iopub.status.busy": "2021-08-08T15:40:48.585631Z",
     "iopub.status.idle": "2021-08-08T15:40:48.623644Z",
     "shell.execute_reply": "2021-08-08T15:40:48.623083Z",
     "shell.execute_reply.started": "2021-07-31T12:07:30.030169Z"
    },
    "id": "8t8yZ0XvWwzz",
    "papermill": {
     "duration": 0.449881,
     "end_time": "2021-08-08T15:40:48.623793",
     "exception": false,
     "start_time": "2021-08-08T15:40:48.173912",
     "status": "completed"
    },
    "tags": []
   },
   "outputs": [],
   "source": [
    "#drop column end_practice\n",
    "dataframe.drop(columns=['end_practice'], inplace=True)"
   ]
  },
  {
   "cell_type": "code",
   "execution_count": 15,
   "metadata": {
    "execution": {
     "iopub.execute_input": "2021-08-08T15:40:49.342168Z",
     "iopub.status.busy": "2021-08-08T15:40:49.341412Z",
     "iopub.status.idle": "2021-08-08T15:40:49.829843Z",
     "shell.execute_reply": "2021-08-08T15:40:49.829233Z",
     "shell.execute_reply.started": "2021-07-31T12:07:30.106507Z"
    },
    "id": "E42raRIrYYXz",
    "papermill": {
     "duration": 0.852091,
     "end_time": "2021-08-08T15:40:49.829985",
     "exception": false,
     "start_time": "2021-08-08T15:40:48.977894",
     "status": "completed"
    },
    "tags": []
   },
   "outputs": [],
   "source": [
    "# calculate the age feature\n",
    "dataframe['term_value'] = [int(ele[3:]) for ele in dataframe['term']]\n",
    "dataframe['age'] = dataframe['term_value'] - dataframe['birthYear']"
   ]
  },
  {
   "cell_type": "code",
   "execution_count": 16,
   "metadata": {
    "execution": {
     "iopub.execute_input": "2021-08-08T15:40:50.547281Z",
     "iopub.status.busy": "2021-08-08T15:40:50.546581Z",
     "iopub.status.idle": "2021-08-08T15:40:50.756185Z",
     "shell.execute_reply": "2021-08-08T15:40:50.755640Z",
     "shell.execute_reply.started": "2021-07-31T12:07:30.526102Z"
    },
    "id": "pcMVQXueYnMh",
    "papermill": {
     "duration": 0.568599,
     "end_time": "2021-08-08T15:40:50.756359",
     "exception": false,
     "start_time": "2021-08-08T15:40:50.187760",
     "status": "completed"
    },
    "tags": []
   },
   "outputs": [],
   "source": [
    "# drop term_value and birthYear column\n",
    "dataframe.drop(columns=['term_value', 'birthYear'], inplace=True)"
   ]
  },
  {
   "cell_type": "code",
   "execution_count": 17,
   "metadata": {
    "execution": {
     "iopub.execute_input": "2021-08-08T15:40:51.527136Z",
     "iopub.status.busy": "2021-08-08T15:40:51.521921Z",
     "iopub.status.idle": "2021-08-08T15:40:52.012278Z",
     "shell.execute_reply": "2021-08-08T15:40:52.012751Z",
     "shell.execute_reply.started": "2021-07-31T12:07:30.71914Z"
    },
    "id": "hjRF5szkcQE0",
    "papermill": {
     "duration": 0.851391,
     "end_time": "2021-08-08T15:40:52.012933",
     "exception": false,
     "start_time": "2021-08-08T15:40:51.161542",
     "status": "completed"
    },
    "tags": []
   },
   "outputs": [],
   "source": [
    "# convert minors_count to int value\n",
    "new_minors_count = []\n",
    "for i in dataframe['minorsCount']:\n",
    "  if i == 0 or i == '0':\n",
    "    new_minors_count.append(0)\n",
    "  elif i == '1 Minor':\n",
    "    new_minors_count.append(1)\n",
    "  else:\n",
    "    new_minors_count.append(2)\n",
    "\n",
    "dataframe['minorsCount'] = new_minors_count"
   ]
  },
  {
   "cell_type": "code",
   "execution_count": 18,
   "metadata": {
    "execution": {
     "iopub.execute_input": "2021-08-08T15:40:52.730769Z",
     "iopub.status.busy": "2021-08-08T15:40:52.729720Z",
     "iopub.status.idle": "2021-08-08T15:40:52.742683Z",
     "shell.execute_reply": "2021-08-08T15:40:52.743172Z",
     "shell.execute_reply.started": "2021-07-31T12:07:31.163098Z"
    },
    "id": "9VdzvJSw0KUU",
    "outputId": "6393784f-234e-4935-9cee-cbcf56b5630a",
    "papermill": {
     "duration": 0.374036,
     "end_time": "2021-08-08T15:40:52.743357",
     "exception": false,
     "start_time": "2021-08-08T15:40:52.369321",
     "status": "completed"
    },
    "tags": []
   },
   "outputs": [
    {
     "name": "stdout",
     "output_type": "stream",
     "text": [
      "we have  1110  users in total.\n"
     ]
    }
   ],
   "source": [
    "print(\"we have \", dataframe['user_id'].nunique(),\" users in total.\")"
   ]
  },
  {
   "cell_type": "code",
   "execution_count": 19,
   "metadata": {
    "execution": {
     "iopub.execute_input": "2021-08-08T15:40:53.464639Z",
     "iopub.status.busy": "2021-08-08T15:40:53.463209Z",
     "iopub.status.idle": "2021-08-08T15:40:53.471503Z",
     "shell.execute_reply": "2021-08-08T15:40:53.470881Z",
     "shell.execute_reply.started": "2021-07-31T12:07:31.18292Z"
    },
    "id": "hUaGk9L9g13t",
    "papermill": {
     "duration": 0.373722,
     "end_time": "2021-08-08T15:40:53.471636",
     "exception": false,
     "start_time": "2021-08-08T15:40:53.097914",
     "status": "completed"
    },
    "tags": []
   },
   "outputs": [],
   "source": [
    "for category in ['term','chapter_label', 'sub_chapter_label', 'question_name']:\n",
    "  dataframe[category] =  dataframe[category].cat.codes"
   ]
  },
  {
   "cell_type": "code",
   "execution_count": 20,
   "metadata": {
    "execution": {
     "iopub.execute_input": "2021-08-08T15:40:54.204965Z",
     "iopub.status.busy": "2021-08-08T15:40:54.203831Z",
     "iopub.status.idle": "2021-08-08T15:40:55.004307Z",
     "shell.execute_reply": "2021-08-08T15:40:55.003770Z",
     "shell.execute_reply.started": "2021-07-31T12:07:31.195482Z"
    },
    "id": "hkyvcYvlhliG",
    "papermill": {
     "duration": 1.178822,
     "end_time": "2021-08-08T15:40:55.004456",
     "exception": false,
     "start_time": "2021-08-08T15:40:53.825634",
     "status": "completed"
    },
    "tags": []
   },
   "outputs": [],
   "source": [
    "NUMERIC_FEATURE =  ['age',\n",
    "            'exclClassCumGPA',\n",
    "            'termCreditsGPA',\n",
    "            'termCreditsNoGPA',\n",
    "            'highSchoolGPA', \n",
    "            'majorsCount', 'minorsCount',\n",
    "            'PREV_TERM_CUM_GPA',\n",
    "            'available_flashcards', \n",
    "            'days_offset', \n",
    "            'prev_time_elapsed',\n",
    "             'time_lag']\n",
    "# z-score normalize the numerical features\n",
    "for f in NUMERIC_FEATURE:\n",
    "  m = dataframe[f].mean()\n",
    "  std = dataframe[f].std()\n",
    "  dataframe[f] = (dataframe[f] - m)/std"
   ]
  },
  {
   "cell_type": "code",
   "execution_count": 21,
   "metadata": {
    "execution": {
     "iopub.execute_input": "2021-08-08T15:40:55.738779Z",
     "iopub.status.busy": "2021-08-08T15:40:55.736893Z",
     "iopub.status.idle": "2021-08-08T15:40:59.194182Z",
     "shell.execute_reply": "2021-08-08T15:40:59.193528Z",
     "shell.execute_reply.started": "2021-07-31T12:07:31.465309Z"
    },
    "id": "wo2OH-d5kWp1",
    "papermill": {
     "duration": 3.830917,
     "end_time": "2021-08-08T15:40:59.194350",
     "exception": false,
     "start_time": "2021-08-08T15:40:55.363433",
     "status": "completed"
    },
    "tags": []
   },
   "outputs": [],
   "source": [
    "FEATURE_TRANS =  ['answer_correct', 'chapter_label', 'sub_chapter_label','question_name','user_id','term',\n",
    "                  'STDNT_SEX_CD', \n",
    "                    'White','Asian','NonWhiteOrAsian',\n",
    "            'STDNT_CTZN_STAT_CD', 'international', \n",
    "            'age',\n",
    "            'exclClassCumGPA',\n",
    "           'Freshman',\n",
    "            'Junior',\n",
    "            'Sophomore',\n",
    "            'Senior',\n",
    "            'termCreditsGPA',\n",
    "            'termCreditsNoGPA',\n",
    "            'athlete_1',\n",
    "            'honorsPro',\n",
    "            'LSA', 'programBusiness', 'programEngineering', \n",
    "            'programInformation', 'programOther',\n",
    "            'HSCalculusTaken', \n",
    "            'highSchoolGPA', \n",
    "            'majorsCount', 'minorsCount',\n",
    "            'PREV_TERM_CUM_GPA',\n",
    "            'classGraded', 'classHonors', \n",
    "            'Pass_Fail', \n",
    "            'parentsGraduateEdu',  'minorityGroup', \n",
    "            'available_flashcards', \n",
    "            'days_offset', 'prev_time_elapsed',\n",
    "             'time_lag']\n",
    "grouped_data = dataframe[FEATURE_TRANS].groupby(['user_id']).apply(lambda r: (\n",
    "                r['answer_correct'],\n",
    "                r['term'],\n",
    "                r['chapter_label'],\n",
    "                r['sub_chapter_label'],\n",
    "                r['question_name'],\n",
    "                np.array([\n",
    "                  r['STDNT_SEX_CD'],r['STDNT_CTZN_STAT_CD'], r['international'], \n",
    "                  r['White'],r['Asian'],r['NonWhiteOrAsian'],\n",
    "                 r['age'],r['exclClassCumGPA'],\n",
    "                r['Freshman'], r['Junior'], r['Sophomore'], r['Senior'],\n",
    "                r['termCreditsGPA'], r['termCreditsNoGPA'],\n",
    "                r['athlete_1'], r['honorsPro'],\n",
    "                r['LSA'], r['programBusiness'], r['programEngineering'], \n",
    "                r['programInformation'], r['programOther'],\n",
    "                r['HSCalculusTaken'],  r['highSchoolGPA'], \n",
    "                r['majorsCount'], r['minorsCount'],\n",
    "                r['PREV_TERM_CUM_GPA'], \n",
    "                r['parentsGraduateEdu'], r['minorityGroup'],\n",
    "                r['available_flashcards'],\n",
    "                r['days_offset'],\n",
    "#                 r['prev_time_elapsed'],\n",
    "#                 r['time_lag']\n",
    "              ]).transpose()\n",
    "                ))"
   ]
  },
  {
   "cell_type": "code",
   "execution_count": 22,
   "metadata": {
    "execution": {
     "iopub.execute_input": "2021-08-08T15:41:00.119893Z",
     "iopub.status.busy": "2021-08-08T15:41:00.118974Z",
     "iopub.status.idle": "2021-08-08T15:41:00.124343Z",
     "shell.execute_reply": "2021-08-08T15:41:00.124779Z",
     "shell.execute_reply.started": "2021-07-31T12:07:32.580883Z"
    },
    "id": "XXLqQnjrlp_4",
    "outputId": "c801da79-f0bf-4fe5-b19c-7c799fe01556",
    "papermill": {
     "duration": 0.571392,
     "end_time": "2021-08-08T15:41:00.124953",
     "exception": false,
     "start_time": "2021-08-08T15:40:59.553561",
     "status": "completed"
    },
    "tags": []
   },
   "outputs": [
    {
     "data": {
      "text/plain": [
       "20"
      ]
     },
     "execution_count": 22,
     "metadata": {},
     "output_type": "execute_result"
    }
   ],
   "source": [
    "gc.collect()"
   ]
  },
  {
   "cell_type": "code",
   "execution_count": 23,
   "metadata": {
    "execution": {
     "iopub.execute_input": "2021-08-08T15:41:00.883790Z",
     "iopub.status.busy": "2021-08-08T15:41:00.864855Z",
     "iopub.status.idle": "2021-08-08T15:41:00.887078Z",
     "shell.execute_reply": "2021-08-08T15:41:00.886573Z",
     "shell.execute_reply.started": "2021-07-31T12:07:32.763535Z"
    },
    "id": "QYGQasdTrmP0",
    "papermill": {
     "duration": 0.399796,
     "end_time": "2021-08-08T15:41:00.887244",
     "exception": false,
     "start_time": "2021-08-08T15:41:00.487448",
     "status": "completed"
    },
    "tags": []
   },
   "outputs": [],
   "source": [
    "# remove students who don't have make any interactions with the tool\n",
    "toRemove = []\n",
    "for index in grouped_data.index:\n",
    "  if len(grouped_data[index][0]) <= 10:\n",
    "    toRemove.append(index)\n",
    "grouped_data = grouped_data.drop(index=toRemove)"
   ]
  },
  {
   "cell_type": "code",
   "execution_count": 24,
   "metadata": {
    "execution": {
     "iopub.execute_input": "2021-08-08T15:41:01.611108Z",
     "iopub.status.busy": "2021-08-08T15:41:01.610062Z",
     "iopub.status.idle": "2021-08-08T15:41:01.624653Z",
     "shell.execute_reply": "2021-08-08T15:41:01.625171Z",
     "shell.execute_reply.started": "2021-07-31T12:07:32.802433Z"
    },
    "papermill": {
     "duration": 0.376232,
     "end_time": "2021-08-08T15:41:01.625355",
     "exception": false,
     "start_time": "2021-08-08T15:41:01.249123",
     "status": "completed"
    },
    "tags": []
   },
   "outputs": [
    {
     "data": {
      "text/plain": [
       "count    1110.000000\n",
       "mean      550.263063\n",
       "std       201.281353\n",
       "min         2.000000\n",
       "25%       438.250000\n",
       "50%       520.500000\n",
       "75%       637.750000\n",
       "max      1500.000000\n",
       "Name: start_practice, dtype: float64"
      ]
     },
     "execution_count": 24,
     "metadata": {},
     "output_type": "execute_result"
    }
   ],
   "source": [
    "dataframe.groupby('user_id')['start_practice'].agg('count').describe()"
   ]
  },
  {
   "cell_type": "code",
   "execution_count": 25,
   "metadata": {
    "execution": {
     "iopub.execute_input": "2021-08-08T15:41:02.348433Z",
     "iopub.status.busy": "2021-08-08T15:41:02.347556Z",
     "iopub.status.idle": "2021-08-08T15:41:02.351876Z",
     "shell.execute_reply": "2021-08-08T15:41:02.351170Z",
     "shell.execute_reply.started": "2021-07-31T12:07:32.821988Z"
    },
    "papermill": {
     "duration": 0.370874,
     "end_time": "2021-08-08T15:41:02.352011",
     "exception": false,
     "start_time": "2021-08-08T15:41:01.981137",
     "status": "completed"
    },
    "tags": []
   },
   "outputs": [
    {
     "data": {
      "text/plain": [
       "['FA 2018:252', 'WN 2018:295']"
      ]
     },
     "execution_count": 25,
     "metadata": {},
     "output_type": "execute_result"
    }
   ],
   "source": [
    "toRemove"
   ]
  },
  {
   "cell_type": "code",
   "execution_count": 26,
   "metadata": {
    "execution": {
     "iopub.execute_input": "2021-08-08T15:41:03.070869Z",
     "iopub.status.busy": "2021-08-08T15:41:03.070154Z",
     "iopub.status.idle": "2021-08-08T15:41:03.072603Z",
     "shell.execute_reply": "2021-08-08T15:41:03.071977Z",
     "shell.execute_reply.started": "2021-07-31T12:07:32.831612Z"
    },
    "id": "9kZqV9siDyNb",
    "papermill": {
     "duration": 0.364172,
     "end_time": "2021-08-08T15:41:03.072749",
     "exception": false,
     "start_time": "2021-08-08T15:41:02.708577",
     "status": "completed"
    },
    "tags": []
   },
   "outputs": [],
   "source": [
    "#SETTINGS -> can be modified at any time\n",
    "MAXLENGTH = 400\n",
    "EMBEDDING_DIM = 128\n",
    "DENSE_NEURON = 16\n",
    "GRU_NEURON = 32"
   ]
  },
  {
   "cell_type": "code",
   "execution_count": 27,
   "metadata": {
    "execution": {
     "iopub.execute_input": "2021-08-08T15:41:03.797125Z",
     "iopub.status.busy": "2021-08-08T15:41:03.796177Z",
     "iopub.status.idle": "2021-08-08T15:41:03.799009Z",
     "shell.execute_reply": "2021-08-08T15:41:03.798529Z",
     "shell.execute_reply.started": "2021-07-31T12:07:32.84337Z"
    },
    "id": "1MksD1JizpPn",
    "papermill": {
     "duration": 0.365864,
     "end_time": "2021-08-08T15:41:03.799141",
     "exception": false,
     "start_time": "2021-08-08T15:41:03.433277",
     "status": "completed"
    },
    "tags": []
   },
   "outputs": [],
   "source": [
    "FEATURES_SIZE = 37\n",
    "CHAPTER_SIZE = 38\n",
    "SUB_CHAPTER_SIZE = 223\n",
    "QUESTION_SIZE = 1069"
   ]
  },
  {
   "cell_type": "code",
   "execution_count": 28,
   "metadata": {
    "execution": {
     "iopub.execute_input": "2021-08-08T15:41:04.527845Z",
     "iopub.status.busy": "2021-08-08T15:41:04.526912Z",
     "iopub.status.idle": "2021-08-08T15:41:04.537941Z",
     "shell.execute_reply": "2021-08-08T15:41:04.537457Z",
     "shell.execute_reply.started": "2021-07-31T12:07:32.851249Z"
    },
    "papermill": {
     "duration": 0.377625,
     "end_time": "2021-08-08T15:41:04.538076",
     "exception": false,
     "start_time": "2021-08-08T15:41:04.160451",
     "status": "completed"
    },
    "tags": []
   },
   "outputs": [
    {
     "data": {
      "text/plain": [
       "array([ 96,  86,  88,  28,  12,  82, 125,  32,  69,  33,  21, 115, 120,\n",
       "       119,  91,  73,  57,  77, 117,  40,  74,  41,  68,  39,  92,  47,\n",
       "       104,  95,  53,  49,  50,  16,  52,  55,   7,  15,  51, 102, 103,\n",
       "        11,  94, 108, 100,  17,  67,  63,  13, 139,  26,  25,   8, 107,\n",
       "         0,  90,  48,  54, 138,   1,   2,   3,  34,  35,  85,   5,  24,\n",
       "        37,  36,  78,  70,  45, 142,  71,  10,  89, 111, 112, 109, 116,\n",
       "        76,  72, 148, 134, 146, 221, 143,  56,  60,  61,  23, 140, 106,\n",
       "        42,  83,  22, 145, 136, 144,  38,   4,  19, 137,  75,  43,  98,\n",
       "        84, 113, 173, 174, 175, 176, 177, 178, 180, 181, 182, 187, 189,\n",
       "       190, 191, 192, 193, 195, 197, 151, 152, 153, 156, 157, 158, 159,\n",
       "       160, 161, 163, 164, 165, 166, 167, 168, 169, 170, 171, 172, 198,\n",
       "       199, 200, 201, 202, 203, 204, 205, 206, 207, 208, 209, 210, 162,\n",
       "       179, 186, 188, 194, 183, 184, 185, 211, 212, 213, 154, 155, 196,\n",
       "         6, 118,  18, 215,  46, 216, 141,  27, 217, 105, 123, 218, 101,\n",
       "       124, 219, 122, 220,  58,  59,  64,  20,  93,  65,  66,   9,  44,\n",
       "        30,  14,  79, 121,  31, 110, 129,  87,  97,  62, 149, 132, 131,\n",
       "       150, 130, 128,  99, 147, 127, 214, 135,  80, 126, 133,  81, 114,\n",
       "        29], dtype=int16)"
      ]
     },
     "execution_count": 28,
     "metadata": {},
     "output_type": "execute_result"
    }
   ],
   "source": [
    "dataframe['sub_chapter_label'].unique()"
   ]
  },
  {
   "cell_type": "code",
   "execution_count": 29,
   "metadata": {
    "execution": {
     "iopub.execute_input": "2021-08-08T15:41:05.280135Z",
     "iopub.status.busy": "2021-08-08T15:41:05.279464Z",
     "iopub.status.idle": "2021-08-08T15:41:06.342603Z",
     "shell.execute_reply": "2021-08-08T15:41:06.342067Z",
     "shell.execute_reply.started": "2021-07-31T12:07:32.870313Z"
    },
    "id": "mY3Thp6d0NaT",
    "papermill": {
     "duration": 1.444706,
     "end_time": "2021-08-08T15:41:06.342743",
     "exception": false,
     "start_time": "2021-08-08T15:41:04.898037",
     "status": "completed"
    },
    "tags": []
   },
   "outputs": [],
   "source": [
    "#create dataset class\n",
    "#to prepare it for train, valid, and test sets\n",
    "from torch.utils.data import Dataset, DataLoader\n",
    "class SPACE_DATASET(Dataset):\n",
    "    def __init__(self, data, maxlength = 400):\n",
    "        super(SPACE_DATASET, self).__init__()\n",
    "        self.maxlength = maxlength\n",
    "        self.data = data\n",
    "        self.users = list()\n",
    "        for user in data.index:\n",
    "            self.users.append(user)\n",
    "\n",
    "    def __len__(self):\n",
    "        return len(self.users)\n",
    "    \n",
    "    def __getitem__(self, ix):\n",
    "        user = self.users[ix]\n",
    "        user = user\n",
    "        target, term, ch_label, sub_ch_label, ques_name, features = self.data[user]\n",
    "        \n",
    "        #0s should be used as padding values\n",
    "        ori_target = target.values \n",
    "        term = term.values\n",
    "        ch_label = ch_label.values + 1\n",
    "        sub_ch_label = sub_ch_label.values +1\n",
    "        ques_name = ques_name.values + 1\n",
    "        \n",
    "        n = len(ch_label)\n",
    "\n",
    "        # one hot for term\n",
    "        term_encode = [0]*7\n",
    "        term_encode[term[0]] = 1\n",
    "        shifted_target= []\n",
    "\n",
    "        \n",
    "        # get  user interaction informations in the previous MAXLEN interactions\n",
    "        if n > self.maxlength:\n",
    "          ch_label = ch_label[-self.maxlength:]\n",
    "          sub_ch_label = sub_ch_label[-self.maxlength:]\n",
    "          ques_name = ques_name[-self.maxlength:]\n",
    "          features = features[-self.maxlength:]\n",
    "          target = ori_target[-self.maxlength:]\n",
    "          shifted_target = ori_target[ (-self.maxlength - 1) :-1]\n",
    "        else:\n",
    "          ch_label = [0]*(self.maxlength - n)+list(ch_label[:])\n",
    "          sub_ch_label = [0]*(self.maxlength - n)+list(sub_ch_label[:])\n",
    "          ques_name = [0]*(self.maxlength - n)+list(ques_name[:])\n",
    "          features = [[0]*len(features[0])]*(self.maxlength  - n)+list(features[:])\n",
    "          target = [-1]*(self.maxlength - n) + list(ori_target[:])\n",
    "          shifted_target = [2]*(self.maxlength + 1 - n) + list(ori_target[:-1])\n",
    "\n",
    "        new_features = []\n",
    "        count = 0\n",
    "        for f in features:\n",
    "          temp = list(f)\n",
    "          temp.extend(term_encode)\n",
    "          #temp.append(shifted_target[count]) #uncomment this line for include previous response feature\n",
    "          new_features.append(temp)\n",
    "          count += 1\n",
    "        features = new_features\n",
    "        return ch_label,sub_ch_label,ques_name,features, shifted_target, target"
   ]
  },
  {
   "cell_type": "code",
   "execution_count": 30,
   "metadata": {
    "execution": {
     "iopub.execute_input": "2021-08-08T15:41:07.063844Z",
     "iopub.status.busy": "2021-08-08T15:41:07.063046Z",
     "iopub.status.idle": "2021-08-08T15:41:07.065900Z",
     "shell.execute_reply": "2021-08-08T15:41:07.066392Z",
     "shell.execute_reply.started": "2021-07-31T12:07:33.249192Z"
    },
    "papermill": {
     "duration": 0.3669,
     "end_time": "2021-08-08T15:41:07.066553",
     "exception": false,
     "start_time": "2021-08-08T15:41:06.699653",
     "status": "completed"
    },
    "tags": []
   },
   "outputs": [
    {
     "data": {
      "text/plain": [
       "223"
      ]
     },
     "execution_count": 30,
     "metadata": {},
     "output_type": "execute_result"
    }
   ],
   "source": [
    "SUB_CHAPTER_SIZE"
   ]
  },
  {
   "cell_type": "markdown",
   "metadata": {
    "id": "4xc90-aLzxat",
    "papermill": {
     "duration": 0.357031,
     "end_time": "2021-08-08T15:41:07.784484",
     "exception": false,
     "start_time": "2021-08-08T15:41:07.427453",
     "status": "completed"
    },
    "tags": []
   },
   "source": [
    "## KFOLD - GRU\n"
   ]
  },
  {
   "cell_type": "code",
   "execution_count": 31,
   "metadata": {
    "execution": {
     "iopub.execute_input": "2021-08-08T15:41:08.545171Z",
     "iopub.status.busy": "2021-08-08T15:41:08.544423Z",
     "iopub.status.idle": "2021-08-08T16:00:25.341191Z",
     "shell.execute_reply": "2021-08-08T16:00:25.341916Z",
     "shell.execute_reply.started": "2021-07-31T12:07:33.257302Z"
    },
    "id": "gzJrljnjzypP",
    "outputId": "87abe488-b493-4f8f-9d71-45cb1d2ddf51",
    "papermill": {
     "duration": 1157.200086,
     "end_time": "2021-08-08T16:00:25.342141",
     "exception": false,
     "start_time": "2021-08-08T15:41:08.142055",
     "status": "completed"
    },
    "tags": []
   },
   "outputs": [
    {
     "name": "stdout",
     "output_type": "stream",
     "text": [
      "Epoch 1/100\n",
      "14/14 [==============================] - 19s 830ms/step - loss: 0.5682 - masked_acc: 0.6020 - masked_auc: 0.5446 - val_loss: 0.4775 - val_masked_acc: 0.7139 - val_masked_auc: 0.7147\n",
      "Epoch 2/100\n",
      "14/14 [==============================] - 9s 658ms/step - loss: 0.4367 - masked_acc: 0.7266 - masked_auc: 0.7420 - val_loss: 0.4501 - val_masked_acc: 0.7461 - val_masked_auc: 0.7788\n",
      "Epoch 3/100\n",
      "14/14 [==============================] - 9s 658ms/step - loss: 0.4150 - masked_acc: 0.7511 - masked_auc: 0.7876 - val_loss: 0.4393 - val_masked_acc: 0.7588 - val_masked_auc: 0.8011\n",
      "Epoch 4/100\n",
      "14/14 [==============================] - 9s 631ms/step - loss: 0.4023 - masked_acc: 0.7616 - masked_auc: 0.8058 - val_loss: 0.4358 - val_masked_acc: 0.7659 - val_masked_auc: 0.8133\n",
      "Epoch 5/100\n",
      "14/14 [==============================] - 9s 629ms/step - loss: 0.4109 - masked_acc: 0.7670 - masked_auc: 0.8156 - val_loss: 0.4332 - val_masked_acc: 0.7705 - val_masked_auc: 0.8211\n",
      "Epoch 6/100\n",
      "14/14 [==============================] - 9s 661ms/step - loss: 0.4011 - masked_acc: 0.7714 - masked_auc: 0.8228 - val_loss: 0.4333 - val_masked_acc: 0.7739 - val_masked_auc: 0.8266\n",
      "Epoch 7/100\n",
      "14/14 [==============================] - 9s 657ms/step - loss: 0.3922 - masked_acc: 0.7748 - masked_auc: 0.8280 - val_loss: 0.4304 - val_masked_acc: 0.7764 - val_masked_auc: 0.8306\n",
      "Epoch 8/100\n",
      "14/14 [==============================] - 9s 677ms/step - loss: 0.3955 - masked_acc: 0.7770 - masked_auc: 0.8316 - val_loss: 0.4271 - val_masked_acc: 0.7785 - val_masked_auc: 0.8340\n",
      "Epoch 9/100\n",
      "14/14 [==============================] - 9s 651ms/step - loss: 0.3899 - masked_acc: 0.7792 - masked_auc: 0.8350 - val_loss: 0.4258 - val_masked_acc: 0.7804 - val_masked_auc: 0.8369\n",
      "Epoch 10/100\n",
      "14/14 [==============================] - 9s 640ms/step - loss: 0.3911 - masked_acc: 0.7808 - masked_auc: 0.8376 - val_loss: 0.4243 - val_masked_acc: 0.7819 - val_masked_auc: 0.8393\n",
      "Epoch 11/100\n",
      "14/14 [==============================] - 9s 646ms/step - loss: 0.3886 - masked_acc: 0.7822 - masked_auc: 0.8399 - val_loss: 0.4225 - val_masked_acc: 0.7833 - val_masked_auc: 0.8415\n",
      "Epoch 12/100\n",
      "14/14 [==============================] - 9s 678ms/step - loss: 0.3872 - masked_acc: 0.7836 - masked_auc: 0.8421 - val_loss: 0.4223 - val_masked_acc: 0.7846 - val_masked_auc: 0.8436\n",
      "Epoch 13/100\n",
      "14/14 [==============================] - 9s 644ms/step - loss: 0.3802 - masked_acc: 0.7850 - masked_auc: 0.8442 - val_loss: 0.4218 - val_masked_acc: 0.7858 - val_masked_auc: 0.8455\n",
      "Epoch 14/100\n",
      "14/14 [==============================] - 9s 644ms/step - loss: 0.3794 - masked_acc: 0.7861 - masked_auc: 0.8460 - val_loss: 0.4255 - val_masked_acc: 0.7869 - val_masked_auc: 0.8471\n",
      "Epoch 15/100\n",
      "14/14 [==============================] - 9s 638ms/step - loss: 0.3794 - masked_acc: 0.7871 - masked_auc: 0.8475 - val_loss: 0.4205 - val_masked_acc: 0.7879 - val_masked_auc: 0.8486\n",
      "Epoch 16/100\n",
      "14/14 [==============================] - 9s 648ms/step - loss: 0.3757 - masked_acc: 0.7882 - masked_auc: 0.8490 - val_loss: 0.4188 - val_masked_acc: 0.7889 - val_masked_auc: 0.8500\n",
      "Epoch 17/100\n",
      "14/14 [==============================] - 9s 638ms/step - loss: 0.3673 - masked_acc: 0.7892 - masked_auc: 0.8505 - val_loss: 0.4220 - val_masked_acc: 0.7898 - val_masked_auc: 0.8514\n",
      "Epoch 18/100\n",
      "14/14 [==============================] - 9s 667ms/step - loss: 0.3768 - masked_acc: 0.7900 - masked_auc: 0.8517 - val_loss: 0.4209 - val_masked_acc: 0.7908 - val_masked_auc: 0.8528\n",
      "Epoch 19/100\n",
      "14/14 [==============================] - 9s 648ms/step - loss: 0.3642 - masked_acc: 0.7910 - masked_auc: 0.8532 - val_loss: 0.4239 - val_masked_acc: 0.7917 - val_masked_auc: 0.8541\n",
      "Epoch 20/100\n",
      "14/14 [==============================] - 9s 661ms/step - loss: 0.3642 - masked_acc: 0.7919 - masked_auc: 0.8544 - val_loss: 0.4224 - val_masked_acc: 0.7925 - val_masked_auc: 0.8553\n",
      "Epoch 21/100\n",
      "14/14 [==============================] - 9s 644ms/step - loss: 0.3602 - masked_acc: 0.7928 - masked_auc: 0.8557 - val_loss: 0.4252 - val_masked_acc: 0.7933 - val_masked_auc: 0.8565\n",
      "Epoch 22/100\n",
      "14/14 [==============================] - 9s 636ms/step - loss: 0.3585 - masked_acc: 0.7936 - masked_auc: 0.8568 - val_loss: 0.4280 - val_masked_acc: 0.7941 - val_masked_auc: 0.8576\n",
      "Epoch 23/100\n",
      "14/14 [==============================] - 9s 683ms/step - loss: 0.3517 - masked_acc: 0.7944 - masked_auc: 0.8579 - val_loss: 0.4289 - val_masked_acc: 0.7949 - val_masked_auc: 0.8587\n",
      "Epoch 24/100\n",
      "14/14 [==============================] - 9s 636ms/step - loss: 0.3521 - masked_acc: 0.7952 - masked_auc: 0.8590 - val_loss: 0.4315 - val_masked_acc: 0.7957 - val_masked_auc: 0.8598\n",
      "Epoch 25/100\n",
      "14/14 [==============================] - 9s 646ms/step - loss: 0.3579 - masked_acc: 0.7959 - masked_auc: 0.8601 - val_loss: 0.4293 - val_masked_acc: 0.7965 - val_masked_auc: 0.8608\n",
      "Epoch 26/100\n",
      "14/14 [==============================] - 9s 662ms/step - loss: 0.3516 - masked_acc: 0.7967 - masked_auc: 0.8611 - val_loss: 0.4398 - val_masked_acc: 0.7972 - val_masked_auc: 0.8619\n",
      "28/28 [==============================] - 3s 96ms/step - loss: 0.3407 - masked_acc: 0.7978 - masked_auc: 0.8626\n",
      "4/4 [==============================] - 0s 85ms/step - loss: 0.4085 - masked_acc: 0.7981 - masked_auc: 0.8631\n",
      "Test:  [0.40853458642959595, 0.7980685234069824, 0.8630748391151428]\n",
      "Epoch 1/100\n",
      "14/14 [==============================] - 18s 780ms/step - loss: 0.5756 - masked_acc: 0.5768 - masked_auc: 0.5467 - val_loss: 0.4612 - val_masked_acc: 0.7057 - val_masked_auc: 0.6975\n",
      "Epoch 2/100\n",
      "14/14 [==============================] - 9s 664ms/step - loss: 0.4432 - masked_acc: 0.7192 - masked_auc: 0.7277 - val_loss: 0.4185 - val_masked_acc: 0.7410 - val_masked_auc: 0.7694\n",
      "Epoch 3/100\n",
      "14/14 [==============================] - 9s 682ms/step - loss: 0.4220 - masked_acc: 0.7457 - masked_auc: 0.7790 - val_loss: 0.4139 - val_masked_acc: 0.7557 - val_masked_auc: 0.7960\n",
      "Epoch 4/100\n",
      "14/14 [==============================] - 9s 644ms/step - loss: 0.4141 - masked_acc: 0.7583 - masked_auc: 0.8005 - val_loss: 0.4101 - val_masked_acc: 0.7639 - val_masked_auc: 0.8096\n",
      "Epoch 5/100\n",
      "14/14 [==============================] - 9s 655ms/step - loss: 0.4036 - masked_acc: 0.7654 - masked_auc: 0.8126 - val_loss: 0.4032 - val_masked_acc: 0.7692 - val_masked_auc: 0.8184\n",
      "Epoch 6/100\n",
      "14/14 [==============================] - 9s 654ms/step - loss: 0.3997 - masked_acc: 0.7704 - masked_auc: 0.8205 - val_loss: 0.4017 - val_masked_acc: 0.7730 - val_masked_auc: 0.8247\n",
      "Epoch 7/100\n",
      "14/14 [==============================] - 9s 673ms/step - loss: 0.3993 - masked_acc: 0.7737 - masked_auc: 0.8262 - val_loss: 0.4000 - val_masked_acc: 0.7758 - val_masked_auc: 0.8295\n",
      "Epoch 8/100\n",
      "14/14 [==============================] - 9s 640ms/step - loss: 0.3932 - masked_acc: 0.7766 - masked_auc: 0.8307 - val_loss: 0.3982 - val_masked_acc: 0.7783 - val_masked_auc: 0.8334\n",
      "Epoch 9/100\n",
      "14/14 [==============================] - 9s 649ms/step - loss: 0.3885 - masked_acc: 0.7789 - masked_auc: 0.8344 - val_loss: 0.3982 - val_masked_acc: 0.7802 - val_masked_auc: 0.8365\n",
      "Epoch 10/100\n",
      "14/14 [==============================] - 9s 640ms/step - loss: 0.3889 - masked_acc: 0.7806 - masked_auc: 0.8373 - val_loss: 0.3978 - val_masked_acc: 0.7819 - val_masked_auc: 0.8393\n",
      "Epoch 11/100\n",
      "14/14 [==============================] - 9s 622ms/step - loss: 0.3889 - masked_acc: 0.7823 - masked_auc: 0.8399 - val_loss: 0.3946 - val_masked_acc: 0.7834 - val_masked_auc: 0.8416\n",
      "Epoch 12/100\n",
      "14/14 [==============================] - 9s 673ms/step - loss: 0.3752 - masked_acc: 0.7839 - masked_auc: 0.8424 - val_loss: 0.3973 - val_masked_acc: 0.7848 - val_masked_auc: 0.8438\n",
      "Epoch 13/100\n",
      "14/14 [==============================] - 9s 637ms/step - loss: 0.3842 - masked_acc: 0.7852 - masked_auc: 0.8444 - val_loss: 0.3970 - val_masked_acc: 0.7860 - val_masked_auc: 0.8456\n",
      "Epoch 14/100\n",
      "14/14 [==============================] - 9s 638ms/step - loss: 0.3886 - masked_acc: 0.7862 - masked_auc: 0.8460 - val_loss: 0.3957 - val_masked_acc: 0.7872 - val_masked_auc: 0.8474\n",
      "Epoch 15/100\n",
      "14/14 [==============================] - 9s 653ms/step - loss: 0.3783 - masked_acc: 0.7874 - masked_auc: 0.8479 - val_loss: 0.3958 - val_masked_acc: 0.7883 - val_masked_auc: 0.8490\n",
      "Epoch 16/100\n",
      "14/14 [==============================] - 9s 659ms/step - loss: 0.3741 - masked_acc: 0.7885 - masked_auc: 0.8495 - val_loss: 0.3973 - val_masked_acc: 0.7893 - val_masked_auc: 0.8506\n",
      "Epoch 17/100\n",
      "14/14 [==============================] - 9s 650ms/step - loss: 0.3673 - masked_acc: 0.7896 - masked_auc: 0.8511 - val_loss: 0.3968 - val_masked_acc: 0.7903 - val_masked_auc: 0.8520\n",
      "Epoch 18/100\n",
      "14/14 [==============================] - 9s 638ms/step - loss: 0.3622 - masked_acc: 0.7906 - masked_auc: 0.8525 - val_loss: 0.3986 - val_masked_acc: 0.7912 - val_masked_auc: 0.8534\n",
      "Epoch 19/100\n",
      "14/14 [==============================] - 9s 662ms/step - loss: 0.3701 - masked_acc: 0.7914 - masked_auc: 0.8538 - val_loss: 0.4002 - val_masked_acc: 0.7921 - val_masked_auc: 0.8547\n",
      "Epoch 20/100\n",
      "14/14 [==============================] - 9s 660ms/step - loss: 0.3655 - masked_acc: 0.7923 - masked_auc: 0.8550 - val_loss: 0.4010 - val_masked_acc: 0.7930 - val_masked_auc: 0.8559\n",
      "Epoch 21/100\n",
      "14/14 [==============================] - 9s 646ms/step - loss: 0.3625 - masked_acc: 0.7932 - masked_auc: 0.8563 - val_loss: 0.4024 - val_masked_acc: 0.7938 - val_masked_auc: 0.8571\n",
      "28/28 [==============================] - 3s 97ms/step - loss: 0.3557 - masked_acc: 0.7945 - masked_auc: 0.8579\n",
      "4/4 [==============================] - 0s 89ms/step - loss: 0.4219 - masked_acc: 0.7947 - masked_auc: 0.8584\n",
      "Test:  [0.421906054019928, 0.7947165369987488, 0.8583552241325378]\n",
      "Epoch 1/100\n",
      "14/14 [==============================] - 19s 855ms/step - loss: 0.5732 - masked_acc: 0.6423 - masked_auc: 0.5399 - val_loss: 0.4424 - val_masked_acc: 0.7217 - val_masked_auc: 0.7172\n",
      "Epoch 2/100\n",
      "14/14 [==============================] - 9s 656ms/step - loss: 0.4348 - masked_acc: 0.7321 - masked_auc: 0.7447 - val_loss: 0.4125 - val_masked_acc: 0.7512 - val_masked_auc: 0.7817\n",
      "Epoch 3/100\n",
      "14/14 [==============================] - 9s 681ms/step - loss: 0.4176 - masked_acc: 0.7551 - masked_auc: 0.7897 - val_loss: 0.4056 - val_masked_acc: 0.7631 - val_masked_auc: 0.8042\n",
      "Epoch 4/100\n",
      "14/14 [==============================] - 9s 646ms/step - loss: 0.4094 - masked_acc: 0.7649 - masked_auc: 0.8083 - val_loss: 0.4047 - val_masked_acc: 0.7693 - val_masked_auc: 0.8160\n",
      "Epoch 5/100\n",
      "14/14 [==============================] - 10s 682ms/step - loss: 0.4057 - masked_acc: 0.7704 - masked_auc: 0.8181 - val_loss: 0.4005 - val_masked_acc: 0.7736 - val_masked_auc: 0.8235\n",
      "Epoch 6/100\n",
      "14/14 [==============================] - 9s 675ms/step - loss: 0.4011 - masked_acc: 0.7746 - masked_auc: 0.8253 - val_loss: 0.3986 - val_masked_acc: 0.7767 - val_masked_auc: 0.8288\n",
      "Epoch 7/100\n",
      "14/14 [==============================] - 9s 660ms/step - loss: 0.3990 - masked_acc: 0.7773 - masked_auc: 0.8301 - val_loss: 0.4033 - val_masked_acc: 0.7791 - val_masked_auc: 0.8328\n",
      "Epoch 8/100\n",
      "14/14 [==============================] - 9s 680ms/step - loss: 0.3950 - masked_acc: 0.7796 - masked_auc: 0.8339 - val_loss: 0.3978 - val_masked_acc: 0.7810 - val_masked_auc: 0.8361\n",
      "Epoch 9/100\n",
      "14/14 [==============================] - 9s 655ms/step - loss: 0.3888 - masked_acc: 0.7815 - masked_auc: 0.8370 - val_loss: 0.3965 - val_masked_acc: 0.7827 - val_masked_auc: 0.8390\n",
      "Epoch 10/100\n",
      "14/14 [==============================] - 9s 661ms/step - loss: 0.3881 - masked_acc: 0.7831 - masked_auc: 0.8399 - val_loss: 0.3956 - val_masked_acc: 0.7842 - val_masked_auc: 0.8416\n",
      "Epoch 11/100\n",
      "14/14 [==============================] - 9s 657ms/step - loss: 0.3878 - masked_acc: 0.7845 - masked_auc: 0.8422 - val_loss: 0.3942 - val_masked_acc: 0.7855 - val_masked_auc: 0.8437\n",
      "Epoch 12/100\n",
      "14/14 [==============================] - 9s 679ms/step - loss: 0.3826 - masked_acc: 0.7859 - masked_auc: 0.8444 - val_loss: 0.3947 - val_masked_acc: 0.7867 - val_masked_auc: 0.8457\n",
      "Epoch 13/100\n",
      "14/14 [==============================] - 9s 679ms/step - loss: 0.3847 - masked_acc: 0.7869 - masked_auc: 0.8463 - val_loss: 0.3945 - val_masked_acc: 0.7879 - val_masked_auc: 0.8476\n",
      "Epoch 14/100\n",
      "14/14 [==============================] - 9s 660ms/step - loss: 0.3769 - masked_acc: 0.7882 - masked_auc: 0.8481 - val_loss: 0.3953 - val_masked_acc: 0.7889 - val_masked_auc: 0.8492\n",
      "Epoch 15/100\n",
      "14/14 [==============================] - 9s 638ms/step - loss: 0.3790 - masked_acc: 0.7892 - masked_auc: 0.8496 - val_loss: 0.3992 - val_masked_acc: 0.7899 - val_masked_auc: 0.8507\n",
      "Epoch 16/100\n",
      "14/14 [==============================] - 9s 669ms/step - loss: 0.3796 - masked_acc: 0.7901 - masked_auc: 0.8511 - val_loss: 0.3964 - val_masked_acc: 0.7909 - val_masked_auc: 0.8521\n",
      "Epoch 17/100\n",
      "14/14 [==============================] - 9s 677ms/step - loss: 0.3745 - masked_acc: 0.7911 - masked_auc: 0.8526 - val_loss: 0.3965 - val_masked_acc: 0.7918 - val_masked_auc: 0.8535\n",
      "Epoch 18/100\n",
      "14/14 [==============================] - 9s 648ms/step - loss: 0.3665 - masked_acc: 0.7921 - masked_auc: 0.8539 - val_loss: 0.3968 - val_masked_acc: 0.7927 - val_masked_auc: 0.8548\n",
      "Epoch 19/100\n",
      "14/14 [==============================] - 9s 660ms/step - loss: 0.3693 - masked_acc: 0.7929 - masked_auc: 0.8552 - val_loss: 0.4054 - val_masked_acc: 0.7935 - val_masked_auc: 0.8560\n",
      "Epoch 20/100\n",
      "14/14 [==============================] - 10s 691ms/step - loss: 0.3653 - masked_acc: 0.7938 - masked_auc: 0.8564 - val_loss: 0.4053 - val_masked_acc: 0.7944 - val_masked_auc: 0.8572\n",
      "Epoch 21/100\n",
      "14/14 [==============================] - 9s 658ms/step - loss: 0.3613 - masked_acc: 0.7946 - masked_auc: 0.8576 - val_loss: 0.4073 - val_masked_acc: 0.7951 - val_masked_auc: 0.8584\n",
      "28/28 [==============================] - 3s 98ms/step - loss: 0.3566 - masked_acc: 0.7958 - masked_auc: 0.8592\n",
      "4/4 [==============================] - 0s 114ms/step - loss: 0.4109 - masked_acc: 0.7960 - masked_auc: 0.8596\n",
      "Test:  [0.41086137294769287, 0.7959769368171692, 0.8595932126045227]\n",
      "Epoch 1/100\n",
      "14/14 [==============================] - 18s 805ms/step - loss: 0.5832 - masked_acc: 0.6361 - masked_auc: 0.5510 - val_loss: 0.4722 - val_masked_acc: 0.7149 - val_masked_auc: 0.6926\n",
      "Epoch 2/100\n",
      "14/14 [==============================] - 9s 644ms/step - loss: 0.4478 - masked_acc: 0.7248 - masked_auc: 0.7224 - val_loss: 0.4287 - val_masked_acc: 0.7447 - val_masked_auc: 0.7663\n",
      "Epoch 3/100\n",
      "14/14 [==============================] - 9s 669ms/step - loss: 0.4135 - masked_acc: 0.7497 - masked_auc: 0.7762 - val_loss: 0.4220 - val_masked_acc: 0.7580 - val_masked_auc: 0.7939\n",
      "Epoch 4/100\n",
      "14/14 [==============================] - 9s 680ms/step - loss: 0.4102 - masked_acc: 0.7602 - masked_auc: 0.7987 - val_loss: 0.4190 - val_masked_acc: 0.7654 - val_masked_auc: 0.8082\n",
      "Epoch 5/100\n",
      "14/14 [==============================] - 9s 646ms/step - loss: 0.4021 - masked_acc: 0.7670 - masked_auc: 0.8112 - val_loss: 0.4185 - val_masked_acc: 0.7703 - val_masked_auc: 0.8172\n",
      "Epoch 6/100\n",
      "14/14 [==============================] - 9s 646ms/step - loss: 0.4018 - masked_acc: 0.7713 - masked_auc: 0.8193 - val_loss: 0.4144 - val_masked_acc: 0.7737 - val_masked_auc: 0.8234\n",
      "Epoch 7/100\n",
      "14/14 [==============================] - 10s 694ms/step - loss: 0.3926 - masked_acc: 0.7746 - masked_auc: 0.8250 - val_loss: 0.4133 - val_masked_acc: 0.7763 - val_masked_auc: 0.8283\n",
      "Epoch 8/100\n",
      "14/14 [==============================] - 9s 627ms/step - loss: 0.3993 - masked_acc: 0.7769 - masked_auc: 0.8294 - val_loss: 0.4138 - val_masked_acc: 0.7786 - val_masked_auc: 0.8322\n",
      "Epoch 9/100\n",
      "14/14 [==============================] - 9s 635ms/step - loss: 0.3953 - masked_acc: 0.7790 - masked_auc: 0.8330 - val_loss: 0.4122 - val_masked_acc: 0.7805 - val_masked_auc: 0.8354\n",
      "Epoch 10/100\n",
      "14/14 [==============================] - 9s 646ms/step - loss: 0.3911 - masked_acc: 0.7809 - masked_auc: 0.8362 - val_loss: 0.4107 - val_masked_acc: 0.7821 - val_masked_auc: 0.8382\n",
      "Epoch 11/100\n",
      "14/14 [==============================] - 10s 698ms/step - loss: 0.3848 - masked_acc: 0.7826 - masked_auc: 0.8390 - val_loss: 0.4090 - val_masked_acc: 0.7836 - val_masked_auc: 0.8406\n",
      "Epoch 12/100\n",
      "14/14 [==============================] - 9s 628ms/step - loss: 0.3740 - masked_acc: 0.7841 - masked_auc: 0.8414 - val_loss: 0.4089 - val_masked_acc: 0.7850 - val_masked_auc: 0.8428\n",
      "Epoch 13/100\n",
      "14/14 [==============================] - 9s 644ms/step - loss: 0.3811 - masked_acc: 0.7853 - masked_auc: 0.8434 - val_loss: 0.4092 - val_masked_acc: 0.7862 - val_masked_auc: 0.8448\n",
      "Epoch 14/100\n",
      "14/14 [==============================] - 9s 669ms/step - loss: 0.3724 - masked_acc: 0.7866 - masked_auc: 0.8454 - val_loss: 0.4076 - val_masked_acc: 0.7874 - val_masked_auc: 0.8466\n",
      "Epoch 15/100\n",
      "14/14 [==============================] - 9s 627ms/step - loss: 0.3792 - masked_acc: 0.7877 - masked_auc: 0.8471 - val_loss: 0.4091 - val_masked_acc: 0.7885 - val_masked_auc: 0.8483\n",
      "Epoch 16/100\n",
      "14/14 [==============================] - 9s 644ms/step - loss: 0.3735 - masked_acc: 0.7888 - masked_auc: 0.8488 - val_loss: 0.4076 - val_masked_acc: 0.7894 - val_masked_auc: 0.8498\n",
      "Epoch 17/100\n",
      "14/14 [==============================] - 9s 632ms/step - loss: 0.3725 - masked_acc: 0.7897 - masked_auc: 0.8502 - val_loss: 0.4087 - val_masked_acc: 0.7904 - val_masked_auc: 0.8512\n",
      "Epoch 18/100\n",
      "14/14 [==============================] - 10s 688ms/step - loss: 0.3666 - masked_acc: 0.7907 - masked_auc: 0.8517 - val_loss: 0.4135 - val_masked_acc: 0.7913 - val_masked_auc: 0.8526\n",
      "Epoch 19/100\n",
      "14/14 [==============================] - 9s 646ms/step - loss: 0.3682 - masked_acc: 0.7916 - masked_auc: 0.8530 - val_loss: 0.4096 - val_masked_acc: 0.7922 - val_masked_auc: 0.8538\n",
      "Epoch 20/100\n",
      "14/14 [==============================] - 9s 650ms/step - loss: 0.3664 - masked_acc: 0.7925 - masked_auc: 0.8542 - val_loss: 0.4152 - val_masked_acc: 0.7930 - val_masked_auc: 0.8550\n",
      "Epoch 21/100\n",
      "14/14 [==============================] - 9s 667ms/step - loss: 0.3598 - masked_acc: 0.7933 - masked_auc: 0.8554 - val_loss: 0.4136 - val_masked_acc: 0.7938 - val_masked_auc: 0.8562\n",
      "Epoch 22/100\n",
      "14/14 [==============================] - 9s 679ms/step - loss: 0.3580 - masked_acc: 0.7941 - masked_auc: 0.8566 - val_loss: 0.4139 - val_masked_acc: 0.7946 - val_masked_auc: 0.8573\n",
      "Epoch 23/100\n",
      "14/14 [==============================] - 9s 642ms/step - loss: 0.3671 - masked_acc: 0.7947 - masked_auc: 0.8576 - val_loss: 0.4209 - val_masked_acc: 0.7953 - val_masked_auc: 0.8584\n",
      "Epoch 24/100\n",
      "14/14 [==============================] - 9s 632ms/step - loss: 0.3545 - masked_acc: 0.7955 - masked_auc: 0.8588 - val_loss: 0.4192 - val_masked_acc: 0.7960 - val_masked_auc: 0.8595\n",
      "28/28 [==============================] - 3s 100ms/step - loss: 0.3517 - masked_acc: 0.7967 - masked_auc: 0.8602\n",
      "4/4 [==============================] - 1s 121ms/step - loss: 0.4064 - masked_acc: 0.7969 - masked_auc: 0.8606\n",
      "Test:  [0.40642574429512024, 0.7968683242797852, 0.8606340289115906]\n",
      "Epoch 1/100\n",
      "14/14 [==============================] - 19s 779ms/step - loss: 0.5797 - masked_acc: 0.5416 - masked_auc: 0.5363 - val_loss: 0.4652 - val_masked_acc: 0.7015 - val_masked_auc: 0.6958\n",
      "Epoch 2/100\n",
      "14/14 [==============================] - 9s 660ms/step - loss: 0.4478 - masked_acc: 0.7154 - masked_auc: 0.7262 - val_loss: 0.4298 - val_masked_acc: 0.7379 - val_masked_auc: 0.7668\n",
      "Epoch 3/100\n",
      "14/14 [==============================] - 9s 633ms/step - loss: 0.4207 - masked_acc: 0.7432 - masked_auc: 0.7764 - val_loss: 0.4191 - val_masked_acc: 0.7529 - val_masked_auc: 0.7934\n",
      "Epoch 4/100\n",
      "14/14 [==============================] - 9s 640ms/step - loss: 0.4146 - masked_acc: 0.7553 - masked_auc: 0.7981 - val_loss: 0.4160 - val_masked_acc: 0.7612 - val_masked_auc: 0.8075\n",
      "Epoch 5/100\n",
      "14/14 [==============================] - 9s 646ms/step - loss: 0.4091 - masked_acc: 0.7628 - masked_auc: 0.8104 - val_loss: 0.4162 - val_masked_acc: 0.7666 - val_masked_auc: 0.8162\n",
      "Epoch 6/100\n",
      "14/14 [==============================] - 10s 686ms/step - loss: 0.4027 - masked_acc: 0.7678 - masked_auc: 0.8183 - val_loss: 0.4110 - val_masked_acc: 0.7705 - val_masked_auc: 0.8225\n",
      "Epoch 7/100\n",
      "14/14 [==============================] - 9s 638ms/step - loss: 0.4005 - masked_acc: 0.7712 - masked_auc: 0.8240 - val_loss: 0.4093 - val_masked_acc: 0.7736 - val_masked_auc: 0.8274\n",
      "Epoch 8/100\n",
      "14/14 [==============================] - 9s 651ms/step - loss: 0.3939 - masked_acc: 0.7744 - masked_auc: 0.8287 - val_loss: 0.4109 - val_masked_acc: 0.7760 - val_masked_auc: 0.8313\n",
      "Epoch 9/100\n",
      "14/14 [==============================] - 9s 658ms/step - loss: 0.3960 - masked_acc: 0.7765 - masked_auc: 0.8323 - val_loss: 0.4058 - val_masked_acc: 0.7781 - val_masked_auc: 0.8345\n",
      "Epoch 10/100\n",
      "14/14 [==============================] - 9s 656ms/step - loss: 0.3945 - masked_acc: 0.7786 - masked_auc: 0.8354 - val_loss: 0.4059 - val_masked_acc: 0.7799 - val_masked_auc: 0.8372\n",
      "Epoch 11/100\n",
      "14/14 [==============================] - 9s 647ms/step - loss: 0.3913 - masked_acc: 0.7803 - masked_auc: 0.8379 - val_loss: 0.4054 - val_masked_acc: 0.7815 - val_masked_auc: 0.8397\n",
      "Epoch 12/100\n",
      "14/14 [==============================] - 9s 660ms/step - loss: 0.3871 - masked_acc: 0.7819 - masked_auc: 0.8403 - val_loss: 0.4065 - val_masked_acc: 0.7828 - val_masked_auc: 0.8417\n",
      "Epoch 13/100\n",
      "14/14 [==============================] - 9s 661ms/step - loss: 0.3889 - masked_acc: 0.7831 - masked_auc: 0.8423 - val_loss: 0.4062 - val_masked_acc: 0.7841 - val_masked_auc: 0.8437\n",
      "Epoch 14/100\n",
      "14/14 [==============================] - 9s 651ms/step - loss: 0.3833 - masked_acc: 0.7844 - masked_auc: 0.8442 - val_loss: 0.4063 - val_masked_acc: 0.7853 - val_masked_auc: 0.8454\n",
      "Epoch 15/100\n",
      "14/14 [==============================] - 9s 680ms/step - loss: 0.3776 - masked_acc: 0.7856 - masked_auc: 0.8460 - val_loss: 0.4048 - val_masked_acc: 0.7864 - val_masked_auc: 0.8470\n",
      "Epoch 16/100\n",
      "14/14 [==============================] - 9s 670ms/step - loss: 0.3873 - masked_acc: 0.7866 - masked_auc: 0.8474 - val_loss: 0.4078 - val_masked_acc: 0.7875 - val_masked_auc: 0.8485\n",
      "Epoch 17/100\n",
      "14/14 [==============================] - 9s 630ms/step - loss: 0.3758 - masked_acc: 0.7878 - masked_auc: 0.8490 - val_loss: 0.4089 - val_masked_acc: 0.7884 - val_masked_auc: 0.8499\n",
      "Epoch 18/100\n",
      "14/14 [==============================] - 9s 653ms/step - loss: 0.3766 - masked_acc: 0.7887 - masked_auc: 0.8503 - val_loss: 0.4086 - val_masked_acc: 0.7893 - val_masked_auc: 0.8512\n",
      "Epoch 19/100\n",
      "14/14 [==============================] - 9s 669ms/step - loss: 0.3721 - masked_acc: 0.7896 - masked_auc: 0.8516 - val_loss: 0.4092 - val_masked_acc: 0.7903 - val_masked_auc: 0.8525\n",
      "Epoch 20/100\n",
      "14/14 [==============================] - 9s 665ms/step - loss: 0.3588 - masked_acc: 0.7906 - masked_auc: 0.8530 - val_loss: 0.4142 - val_masked_acc: 0.7912 - val_masked_auc: 0.8538\n",
      "Epoch 21/100\n",
      "14/14 [==============================] - 9s 643ms/step - loss: 0.3670 - masked_acc: 0.7914 - masked_auc: 0.8541 - val_loss: 0.4135 - val_masked_acc: 0.7920 - val_masked_auc: 0.8549\n",
      "Epoch 22/100\n",
      "14/14 [==============================] - 9s 647ms/step - loss: 0.3645 - masked_acc: 0.7922 - masked_auc: 0.8553 - val_loss: 0.4167 - val_masked_acc: 0.7929 - val_masked_auc: 0.8561\n",
      "Epoch 23/100\n",
      "14/14 [==============================] - 9s 680ms/step - loss: 0.3638 - masked_acc: 0.7931 - masked_auc: 0.8565 - val_loss: 0.4203 - val_masked_acc: 0.7937 - val_masked_auc: 0.8572\n",
      "Epoch 24/100\n",
      "14/14 [==============================] - 9s 648ms/step - loss: 0.3602 - masked_acc: 0.7939 - masked_auc: 0.8575 - val_loss: 0.4236 - val_masked_acc: 0.7945 - val_masked_auc: 0.8583\n",
      "Epoch 25/100\n",
      "14/14 [==============================] - 9s 649ms/step - loss: 0.3527 - masked_acc: 0.7947 - masked_auc: 0.8587 - val_loss: 0.4256 - val_masked_acc: 0.7953 - val_masked_auc: 0.8594\n",
      "28/28 [==============================] - 3s 104ms/step - loss: 0.3493 - masked_acc: 0.7959 - masked_auc: 0.8601\n",
      "4/4 [==============================] - 0s 92ms/step - loss: 0.3909 - masked_acc: 0.7962 - masked_auc: 0.8606\n",
      "Test:  [0.39091190695762634, 0.7961801290512085, 0.8605988621711731]\n"
     ]
    }
   ],
   "source": [
    "# 5 fold cross validation with GRU-based model\n",
    "import torch\n",
    "X = np.array(grouped_data.keys())\n",
    "kfold = KFold(n_splits=5, shuffle=True)\n",
    "train_losses = list()\n",
    "train_aucs = list()\n",
    "val_losses = list()\n",
    "val_aucs = list()\n",
    "train_eval = list()\n",
    "test_eval = list()\n",
    "for train, test in kfold.split(X):\n",
    "    users_train, users_test =  X[train], X[test]\n",
    "    n = len(users_test)//2\n",
    "    users_test, users_val = users_test[:n], users_test[n: ]\n",
    "    train_data_space = SPACE_DATASET(grouped_data[users_train], MAXLENGTH)\n",
    "    val_data_space = SPACE_DATASET(grouped_data[users_val], MAXLENGTH)\n",
    "    test_data_space = SPACE_DATASET(grouped_data[users_test], MAXLENGTH)\n",
    "    #construct training input\n",
    "    train_chapter=[]\n",
    "    train_sub_chapter=[]\n",
    "    train_question = []\n",
    "#     train_features=[]\n",
    "    train_shifted_t = []\n",
    "    train_labels=[]\n",
    "    for i in range(len(users_train)):\n",
    "        user = train_data_space.__getitem__(i)\n",
    "        train_chapter.append(user[0])\n",
    "        train_sub_chapter.append(user[1]) \n",
    "        train_question.append(user[2])\n",
    "#         train_features.append(user[3])\n",
    "        train_shifted_t.append(user[4])\n",
    "        train_labels.append(user[5])\n",
    "    train_chapter = np.array(train_chapter)\n",
    "    train_sub_chapter = np.array(train_sub_chapter)\n",
    "    train_question = np.array(train_question)\n",
    "#     train_features = np.array(train_features)\n",
    "    train_shifted_t = np.array(train_shifted_t)\n",
    "    train_labels= np.array(train_labels)[..., np.newaxis]\n",
    "\n",
    "    #construct validation input\n",
    "    val_chapter=[]\n",
    "    val_sub_chapter=[]\n",
    "    val_question = []\n",
    "#     val_features=[]\n",
    "    val_shifted_t = []\n",
    "    val_labels=[]\n",
    "    for i in range(len(users_val)):\n",
    "        user = val_data_space.__getitem__(i)\n",
    "        val_chapter.append(user[0])\n",
    "        val_sub_chapter.append(user[1]) \n",
    "        val_question.append(user[2])\n",
    "#         val_features.append(user[3])\n",
    "        val_shifted_t.append(user[4])\n",
    "        val_labels.append(user[5])\n",
    "    val_chapter = np.array(val_chapter)\n",
    "    val_sub_chapter = np.array(val_sub_chapter)\n",
    "#     val_features = np.array(val_features)\n",
    "    val_question = np.array(val_question)\n",
    "    val_shifted_t = np.array(val_shifted_t)\n",
    "    val_labels= np.array(val_labels)[..., np.newaxis]\n",
    "\n",
    "    # construct test input\n",
    "    test_chapter=[]\n",
    "    test_sub_chapter=[]\n",
    "#     test_features=[]\n",
    "    test_question=[]\n",
    "    test_shifted_t = []\n",
    "    test_labels=[]\n",
    "    for i in range(len(users_test)):\n",
    "        user = test_data_space.__getitem__(i)\n",
    "        test_chapter.append(user[0])\n",
    "        test_sub_chapter.append(user[1]) \n",
    "        test_question.append(user[2])\n",
    "#         test_features.append(user[3])\n",
    "        test_shifted_t.append(user[4])\n",
    "        test_labels.append(user[5])\n",
    "    test_chapter = np.array(test_chapter)\n",
    "    test_sub_chapter = np.array(test_sub_chapter)\n",
    "#     test_features = np.array(test_features)\n",
    "    test_question = np.array(test_question)\n",
    "    test_shifted_t = np.array(test_shifted_t)\n",
    "    test_labels= np.array(test_labels)[..., np.newaxis]\n",
    "\n",
    "    # define loss function and evaluation metrics\n",
    "    bce = tf.keras.losses.BinaryCrossentropy(from_logits=True)\n",
    "    acc = tf.keras.metrics.Accuracy()\n",
    "    auc = tf.keras.metrics.AUC()\n",
    "\n",
    "    def masked_bce(y_true, y_pred):\n",
    "      flat_pred = y_pred\n",
    "      flat_ground_truth = y_true\n",
    "      label_mask = tf.math.not_equal(flat_ground_truth, -1)\n",
    "      return bce(flat_ground_truth, flat_pred, sample_weight=label_mask)\n",
    "\n",
    "    def masked_acc(y_true, y_pred):\n",
    "      flat_pred = y_pred\n",
    "      flat_ground_truth = y_true\n",
    "      flat_pred = (flat_pred >= 0.5)\n",
    "      label_mask = tf.math.not_equal(flat_ground_truth, -1)\n",
    "      return acc(flat_ground_truth, flat_pred, sample_weight=label_mask)\n",
    "\n",
    "    def masked_auc(y_true, y_pred):\n",
    "      flat_pred = y_pred\n",
    "      flat_ground_truth = y_true\n",
    "      label_mask = tf.math.not_equal(flat_ground_truth, -1)\n",
    "      return auc(flat_ground_truth, flat_pred, sample_weight=label_mask)\n",
    "\n",
    "    # input layer\n",
    "    input_chap = tf.keras.Input(shape=(MAXLENGTH))\n",
    "    input_sub_chap = tf.keras.Input(shape=(MAXLENGTH))\n",
    "    input_ques =  tf.keras.Input(shape=(MAXLENGTH))\n",
    "    input_shifted = tf.keras.Input(shape=(MAXLENGTH))\n",
    "#     input_features = tf.keras.Input(shape=(MAXLENGTH, FEATURES_SIZE))\n",
    "\n",
    "    # embedding layer for categorical features\n",
    "    embedding_chap = Embedding(input_dim = CHAPTER_SIZE, output_dim = EMBEDDING_DIM)(input_chap)\n",
    "    embedding_sub_chap = Embedding(input_dim = SUB_CHAPTER_SIZE, output_dim = EMBEDDING_DIM)(input_sub_chap) \n",
    "    embedding_ques = Embedding(input_dim = QUESTION_SIZE, output_dim = EMBEDDING_DIM)(input_ques)       \n",
    "    embedding_shifted = Embedding(input_dim = 3, output_dim = EMBEDDING_DIM)(input_shifted)\n",
    "    # dense layer for numeric features\n",
    "#     dense_features = Dense(EMBEDDING_DIM,input_shape = (None, MAXLENGTH))(input_features)\n",
    "\n",
    "    # definr GRU layers\n",
    "    GRU_chap = GRU(GRU_NEURON, input_shape = (None, EMBEDDING_DIM),return_sequences = True)(embedding_chap)\n",
    "    GRU_sub_chap = GRU(GRU_NEURON, input_shape = (None, EMBEDDING_DIM),return_sequences = True)(embedding_sub_chap)\n",
    "    GRU_ques = GRU(GRU_NEURON, input_shape = (None, EMBEDDING_DIM),return_sequences = True)(embedding_ques)\n",
    "    GRU_shif = GRU(GRU_NEURON, input_shape = (None, EMBEDDING_DIM),return_sequences = True)(embedding_shifted)\n",
    "#     GRU_features = GRU(GRU_NEURON, input_shape = (None, EMBEDDING_DIM),return_sequences = True)(dense_features)\n",
    "\n",
    "    GRU_output = tf.concat([GRU_chap, GRU_sub_chap, GRU_ques, GRU_shif], axis = 2)\n",
    "\n",
    "    dense1 = Dense(256, input_shape = (None, 4*EMBEDDING_DIM), activation='relu')(GRU_output)\n",
    "    dropout1 = Dropout(0.1)(dense1)\n",
    "    dense2 = Dense(64, input_shape = (None, 256), activation='relu')(dropout1)\n",
    "    dropout2 = Dropout(0.1)(dense2)\n",
    "    pred = Dense(1, input_shape = (None, 64), activation='sigmoid')(dropout2)\n",
    "\n",
    "    model = tf.keras.Model(\n",
    "        inputs=[input_chap, input_sub_chap,input_ques, input_shifted],\n",
    "        outputs=pred,\n",
    "        name='GRU_model'\n",
    "    )\n",
    "\n",
    "    callback = tf.keras.callbacks.EarlyStopping(monitor='val_loss', patience=10)\n",
    "    opt_adam = Adam(learning_rate = 0.005)\n",
    "    model.compile(\n",
    "        optimizer=opt_adam,\n",
    "        loss= masked_bce,\n",
    "        metrics = [masked_acc, masked_auc]\n",
    "    )\n",
    "\n",
    "    history = model.fit(\n",
    "      [train_chapter, train_sub_chapter, train_question, train_shifted_t],\n",
    "      train_labels,\n",
    "      batch_size = 64,\n",
    "      epochs = 100,\n",
    "      validation_data=([val_chapter, val_sub_chapter, val_question, val_shifted_t], val_labels),\n",
    "      callbacks=[callback]\n",
    "    )\n",
    "    val_losses.append(list(history.history['val_loss']))\n",
    "    train_losses.append(list(history.history['loss']))\n",
    "    val_aucs.append(list(history.history['val_masked_auc']))\n",
    "    train_aucs.append(list(history.history['masked_auc']))\n",
    "    train_score = model.evaluate([train_chapter, train_sub_chapter, train_question, train_shifted_t], train_labels)\n",
    "    train_eval.append(train_score)\n",
    "    test_score = model.evaluate([test_chapter, test_sub_chapter, test_question, test_shifted_t], test_labels)\n",
    "    test_eval.append(test_score)\n",
    "    print(\"Test: \", test_score)\n",
    "    def reset_weights(model):\n",
    "      for layer in model.layers: \n",
    "        if isinstance(layer, tf.keras.Model):\n",
    "          reset_weights(layer)\n",
    "          continue\n",
    "        for k, initializer in layer.__dict__.items():\n",
    "          if \"initializer\" not in k:\n",
    "            continue\n",
    "          # find the corresponding variable\n",
    "          var = getattr(layer, k.replace(\"_initializer\", \"\"))\n",
    "          var.assign(initializer(var.shape, var.dtype))\n",
    "    reset_weights(model)"
   ]
  },
  {
   "cell_type": "code",
   "execution_count": 32,
   "metadata": {
    "execution": {
     "iopub.execute_input": "2021-08-08T16:00:27.338986Z",
     "iopub.status.busy": "2021-08-08T16:00:27.337940Z",
     "iopub.status.idle": "2021-08-08T16:00:27.342785Z",
     "shell.execute_reply": "2021-08-08T16:00:27.342315Z",
     "shell.execute_reply.started": "2021-07-31T12:12:25.783012Z"
    },
    "id": "QsVmumHMz3lx",
    "outputId": "4ff1e2fa-6abb-458e-c729-495b456f53e5",
    "papermill": {
     "duration": 1.022813,
     "end_time": "2021-08-08T16:00:27.342920",
     "exception": false,
     "start_time": "2021-08-08T16:00:26.320107",
     "status": "completed"
    },
    "tags": []
   },
   "outputs": [
    {
     "name": "stdout",
     "output_type": "stream",
     "text": [
      "test avg loss:  0.40772793292999265 +/- 0.009959544955447567\n",
      "test avg acc:  0.7963620901107789 +/- 0.001100680295049555\n",
      "test avg auc:  0.8604512333869934 +/- 0.0015535745837535165\n"
     ]
    }
   ],
   "source": [
    "t_eval = np.array(test_eval)\n",
    "print(\"test avg loss: \", np.mean(t_eval[:, 0]), \"+/-\" ,np.std(t_eval[:, 0]))\n",
    "print(\"test avg acc: \", np.mean(t_eval[:, 1]),  \"+/-\" ,np.std(t_eval[:, 1]))\n",
    "print(\"test avg auc: \", np.mean(t_eval[:, 2]), \"+/-\" ,np.std(t_eval[:, 2]))"
   ]
  },
  {
   "cell_type": "code",
   "execution_count": 33,
   "metadata": {
    "execution": {
     "iopub.execute_input": "2021-08-08T16:00:29.305707Z",
     "iopub.status.busy": "2021-08-08T16:00:29.305038Z",
     "iopub.status.idle": "2021-08-08T16:00:29.310084Z",
     "shell.execute_reply": "2021-08-08T16:00:29.310736Z",
     "shell.execute_reply.started": "2021-07-31T12:12:25.794728Z"
    },
    "id": "b9MM_CXWz5K6",
    "outputId": "4cf88e1d-3a74-4e7d-f92c-d01522e91757",
    "papermill": {
     "duration": 0.986859,
     "end_time": "2021-08-08T16:00:29.310975",
     "exception": false,
     "start_time": "2021-08-08T16:00:28.324116",
     "status": "completed"
    },
    "tags": []
   },
   "outputs": [
    {
     "name": "stdout",
     "output_type": "stream",
     "text": [
      "train avg loss:  0.35080989003181456 +/- 0.00572560968553181\n",
      "train avg acc:  0.7961241960525512 +/- 0.0010953871194299778\n",
      "train avg auc:  0.8600149631500245 +/- 0.001547083594932931\n"
     ]
    }
   ],
   "source": [
    "t_eval = np.array(train_eval)\n",
    "print(\"train avg loss: \", np.mean(t_eval[:, 0]), \"+/-\" ,np.std(t_eval[:, 0]))\n",
    "print(\"train avg acc: \", np.mean(t_eval[:, 1]),  \"+/-\" ,np.std(t_eval[:, 1]))\n",
    "print(\"train avg auc: \", np.mean(t_eval[:, 2]), \"+/-\" ,np.std(t_eval[:, 2]))"
   ]
  }
 ],
 "metadata": {
  "kernelspec": {
   "display_name": "Python 3",
   "language": "python",
   "name": "python3"
  },
  "language_info": {
   "codemirror_mode": {
    "name": "ipython",
    "version": 3
   },
   "file_extension": ".py",
   "mimetype": "text/x-python",
   "name": "python",
   "nbconvert_exporter": "python",
   "pygments_lexer": "ipython3",
   "version": "3.8.5"
  },
  "papermill": {
   "default_parameters": {},
   "duration": 1550.663256,
   "end_time": "2021-08-08T16:00:32.937226",
   "environment_variables": {},
   "exception": null,
   "input_path": "__notebook__.ipynb",
   "output_path": "__notebook__.ipynb",
   "parameters": {},
   "start_time": "2021-08-08T15:34:42.273970",
   "version": "2.3.3"
  }
 },
 "nbformat": 4,
 "nbformat_minor": 5
}
