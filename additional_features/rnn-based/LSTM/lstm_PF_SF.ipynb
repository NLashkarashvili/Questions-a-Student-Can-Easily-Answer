{
 "cells": [
  {
   "cell_type": "code",
   "execution_count": 1,
   "metadata": {
    "execution": {
     "iopub.execute_input": "2021-08-08T14:07:18.132352Z",
     "iopub.status.busy": "2021-08-08T14:07:18.130507Z",
     "iopub.status.idle": "2021-08-08T14:07:25.230963Z",
     "shell.execute_reply": "2021-08-08T14:07:25.230194Z",
     "shell.execute_reply.started": "2021-08-06T20:58:20.355062Z"
    },
    "id": "farifxiKU1aB",
    "papermill": {
     "duration": 7.142669,
     "end_time": "2021-08-08T14:07:25.231169",
     "exception": false,
     "start_time": "2021-08-08T14:07:18.088500",
     "status": "completed"
    },
    "tags": []
   },
   "outputs": [],
   "source": [
    "import numpy as np\n",
    "import pandas as pd\n",
    "import warnings\n",
    "import gc\n",
    "import tensorflow as tf\n",
    "from tensorflow import keras\n",
    "\n",
    "import random\n",
    "from random import choice\n",
    "from tensorflow.keras.optimizers import Adam\n",
    "from tensorflow.keras.models import Sequential \n",
    "from tensorflow.keras.layers import Dense, LSTM, Concatenate, Embedding, Flatten, Activation, Dropout\n",
    "from sklearn.model_selection import KFold\n",
    "from tensorflow.python.client import device_lib\n",
    "warnings.filterwarnings('ignore')\n",
    "import random"
   ]
  },
  {
   "cell_type": "code",
   "execution_count": 2,
   "metadata": {
    "execution": {
     "iopub.execute_input": "2021-08-08T14:07:25.299122Z",
     "iopub.status.busy": "2021-08-08T14:07:25.298454Z",
     "iopub.status.idle": "2021-08-08T14:07:25.301645Z",
     "shell.execute_reply": "2021-08-08T14:07:25.301111Z",
     "shell.execute_reply.started": "2021-08-06T20:58:22.59473Z"
    },
    "id": "QOson70GPOXb",
    "papermill": {
     "duration": 0.038073,
     "end_time": "2021-08-08T14:07:25.301803",
     "exception": false,
     "start_time": "2021-08-08T14:07:25.263730",
     "status": "completed"
    },
    "tags": []
   },
   "outputs": [],
   "source": [
    "import gc"
   ]
  },
  {
   "cell_type": "markdown",
   "metadata": {
    "id": "BQsVybBH3VPw",
    "papermill": {
     "duration": 0.028718,
     "end_time": "2021-08-08T14:07:25.359770",
     "exception": false,
     "start_time": "2021-08-08T14:07:25.331052",
     "status": "completed"
    },
    "tags": []
   },
   "source": [
    "## Data Preprocessing"
   ]
  },
  {
   "cell_type": "code",
   "execution_count": 3,
   "metadata": {
    "execution": {
     "iopub.execute_input": "2021-08-08T14:07:25.424320Z",
     "iopub.status.busy": "2021-08-08T14:07:25.423688Z",
     "iopub.status.idle": "2021-08-08T14:07:33.588203Z",
     "shell.execute_reply": "2021-08-08T14:07:33.587588Z",
     "shell.execute_reply.started": "2021-08-06T20:58:22.601494Z"
    },
    "id": "rwtTusGxrmAE",
    "outputId": "1430f3cf-038b-485e-b5c4-c1686b1f34fd",
    "papermill": {
     "duration": 8.199451,
     "end_time": "2021-08-08T14:07:33.588387",
     "exception": false,
     "start_time": "2021-08-08T14:07:25.388936",
     "status": "completed"
    },
    "tags": []
   },
   "outputs": [
    {
     "data": {
      "text/html": [
       "<div>\n",
       "<style scoped>\n",
       "    .dataframe tbody tr th:only-of-type {\n",
       "        vertical-align: middle;\n",
       "    }\n",
       "\n",
       "    .dataframe tbody tr th {\n",
       "        vertical-align: top;\n",
       "    }\n",
       "\n",
       "    .dataframe thead th {\n",
       "        text-align: right;\n",
       "    }\n",
       "</style>\n",
       "<table border=\"1\" class=\"dataframe\">\n",
       "  <thead>\n",
       "    <tr style=\"text-align: right;\">\n",
       "      <th></th>\n",
       "      <th>Unnamed: 0</th>\n",
       "      <th>chapter_label</th>\n",
       "      <th>sub_chapter_label</th>\n",
       "      <th>question_name</th>\n",
       "      <th>user_id.x</th>\n",
       "      <th>term</th>\n",
       "      <th>STDNT_SEX_CD</th>\n",
       "      <th>NonNativeEnglish</th>\n",
       "      <th>White</th>\n",
       "      <th>Asian</th>\n",
       "      <th>...</th>\n",
       "      <th>classGraded</th>\n",
       "      <th>classHonors</th>\n",
       "      <th>Pass_Fail</th>\n",
       "      <th>parentsGraduateEdu</th>\n",
       "      <th>minorityGroup</th>\n",
       "      <th>q</th>\n",
       "      <th>day's_available_flashcards</th>\n",
       "      <th>start_practice</th>\n",
       "      <th>end_practice</th>\n",
       "      <th>days_offset</th>\n",
       "    </tr>\n",
       "  </thead>\n",
       "  <tbody>\n",
       "    <tr>\n",
       "      <th>0</th>\n",
       "      <td>1</td>\n",
       "      <td>Sort</td>\n",
       "      <td>intro-SortingwithSortandSorted</td>\n",
       "      <td>ee_sort_04</td>\n",
       "      <td>148</td>\n",
       "      <td>WN 2018</td>\n",
       "      <td>1</td>\n",
       "      <td>0</td>\n",
       "      <td>1</td>\n",
       "      <td>0</td>\n",
       "      <td>...</td>\n",
       "      <td>1</td>\n",
       "      <td>0</td>\n",
       "      <td>0</td>\n",
       "      <td>0</td>\n",
       "      <td>0</td>\n",
       "      <td>0</td>\n",
       "      <td>18</td>\n",
       "      <td>2018-03-04 20:00:19</td>\n",
       "      <td>2018-03-04 20:00:35</td>\n",
       "      <td>45</td>\n",
       "    </tr>\n",
       "    <tr>\n",
       "      <th>1</th>\n",
       "      <td>2</td>\n",
       "      <td>Functions</td>\n",
       "      <td>Returningavaluefromafunction</td>\n",
       "      <td>test_questionfunctions_2_3</td>\n",
       "      <td>148</td>\n",
       "      <td>WN 2018</td>\n",
       "      <td>1</td>\n",
       "      <td>0</td>\n",
       "      <td>1</td>\n",
       "      <td>0</td>\n",
       "      <td>...</td>\n",
       "      <td>1</td>\n",
       "      <td>0</td>\n",
       "      <td>0</td>\n",
       "      <td>0</td>\n",
       "      <td>0</td>\n",
       "      <td>4</td>\n",
       "      <td>16</td>\n",
       "      <td>2018-02-10 11:57:55</td>\n",
       "      <td>2018-02-10 11:58:35</td>\n",
       "      <td>23</td>\n",
       "    </tr>\n",
       "    <tr>\n",
       "      <th>2</th>\n",
       "      <td>3</td>\n",
       "      <td>RESTAPIs</td>\n",
       "      <td>functionswithrestapis</td>\n",
       "      <td>test_question_functions_rest_apis_1</td>\n",
       "      <td>148</td>\n",
       "      <td>WN 2018</td>\n",
       "      <td>1</td>\n",
       "      <td>0</td>\n",
       "      <td>1</td>\n",
       "      <td>0</td>\n",
       "      <td>...</td>\n",
       "      <td>1</td>\n",
       "      <td>0</td>\n",
       "      <td>0</td>\n",
       "      <td>0</td>\n",
       "      <td>0</td>\n",
       "      <td>1</td>\n",
       "      <td>2</td>\n",
       "      <td>2018-03-12 17:03:07</td>\n",
       "      <td>2018-03-12 17:04:28</td>\n",
       "      <td>53</td>\n",
       "    </tr>\n",
       "    <tr>\n",
       "      <th>3</th>\n",
       "      <td>4</td>\n",
       "      <td>SimplePythonData</td>\n",
       "      <td>FunctionCalls</td>\n",
       "      <td>exercise_functionCalls_1</td>\n",
       "      <td>148</td>\n",
       "      <td>WN 2018</td>\n",
       "      <td>1</td>\n",
       "      <td>0</td>\n",
       "      <td>1</td>\n",
       "      <td>0</td>\n",
       "      <td>...</td>\n",
       "      <td>1</td>\n",
       "      <td>0</td>\n",
       "      <td>0</td>\n",
       "      <td>0</td>\n",
       "      <td>0</td>\n",
       "      <td>0</td>\n",
       "      <td>10</td>\n",
       "      <td>2018-01-30 14:15:49</td>\n",
       "      <td>2018-01-30 14:15:58</td>\n",
       "      <td>12</td>\n",
       "    </tr>\n",
       "    <tr>\n",
       "      <th>4</th>\n",
       "      <td>5</td>\n",
       "      <td>DictionaryAccumulation</td>\n",
       "      <td>AccumulatingaMaximumValue</td>\n",
       "      <td>ps_04_07</td>\n",
       "      <td>148</td>\n",
       "      <td>WN 2018</td>\n",
       "      <td>1</td>\n",
       "      <td>0</td>\n",
       "      <td>1</td>\n",
       "      <td>0</td>\n",
       "      <td>...</td>\n",
       "      <td>1</td>\n",
       "      <td>0</td>\n",
       "      <td>0</td>\n",
       "      <td>0</td>\n",
       "      <td>0</td>\n",
       "      <td>0</td>\n",
       "      <td>23</td>\n",
       "      <td>2018-03-03 14:04:17</td>\n",
       "      <td>2018-03-03 14:04:25</td>\n",
       "      <td>44</td>\n",
       "    </tr>\n",
       "  </tbody>\n",
       "</table>\n",
       "<p>5 rows × 48 columns</p>\n",
       "</div>"
      ],
      "text/plain": [
       "   Unnamed: 0           chapter_label               sub_chapter_label  \\\n",
       "0           1                    Sort  intro-SortingwithSortandSorted   \n",
       "1           2               Functions    Returningavaluefromafunction   \n",
       "2           3                RESTAPIs           functionswithrestapis   \n",
       "3           4        SimplePythonData                   FunctionCalls   \n",
       "4           5  DictionaryAccumulation       AccumulatingaMaximumValue   \n",
       "\n",
       "                         question_name  user_id.x     term  STDNT_SEX_CD  \\\n",
       "0                           ee_sort_04        148  WN 2018             1   \n",
       "1           test_questionfunctions_2_3        148  WN 2018             1   \n",
       "2  test_question_functions_rest_apis_1        148  WN 2018             1   \n",
       "3             exercise_functionCalls_1        148  WN 2018             1   \n",
       "4                             ps_04_07        148  WN 2018             1   \n",
       "\n",
       "   NonNativeEnglish  White  Asian  ...  classGraded  classHonors  Pass_Fail  \\\n",
       "0                 0      1      0  ...            1            0          0   \n",
       "1                 0      1      0  ...            1            0          0   \n",
       "2                 0      1      0  ...            1            0          0   \n",
       "3                 0      1      0  ...            1            0          0   \n",
       "4                 0      1      0  ...            1            0          0   \n",
       "\n",
       "   parentsGraduateEdu  minorityGroup  q  day's_available_flashcards  \\\n",
       "0                   0              0  0                          18   \n",
       "1                   0              0  4                          16   \n",
       "2                   0              0  1                           2   \n",
       "3                   0              0  0                          10   \n",
       "4                   0              0  0                          23   \n",
       "\n",
       "        start_practice         end_practice  days_offset  \n",
       "0  2018-03-04 20:00:19  2018-03-04 20:00:35           45  \n",
       "1  2018-02-10 11:57:55  2018-02-10 11:58:35           23  \n",
       "2  2018-03-12 17:03:07  2018-03-12 17:04:28           53  \n",
       "3  2018-01-30 14:15:49  2018-01-30 14:15:58           12  \n",
       "4  2018-03-03 14:04:17  2018-03-03 14:04:25           44  \n",
       "\n",
       "[5 rows x 48 columns]"
      ]
     },
     "execution_count": 3,
     "metadata": {},
     "output_type": "execute_result"
    }
   ],
   "source": [
    "# load the data\n",
    "import pandas as pd\n",
    "dataframe = pd.read_csv('../input/practice-log-demographics/Practice_Log_Demographics (1).csv', low_memory=False)\n",
    "dataframe.head()"
   ]
  },
  {
   "cell_type": "code",
   "execution_count": 4,
   "metadata": {
    "execution": {
     "iopub.execute_input": "2021-08-08T14:07:33.659476Z",
     "iopub.status.busy": "2021-08-08T14:07:33.658738Z",
     "iopub.status.idle": "2021-08-08T14:07:35.699645Z",
     "shell.execute_reply": "2021-08-08T14:07:35.700170Z",
     "shell.execute_reply.started": "2021-08-06T20:58:27.574031Z"
    },
    "id": "OCbHnEp_Vir0",
    "papermill": {
     "duration": 2.079893,
     "end_time": "2021-08-08T14:07:35.700392",
     "exception": false,
     "start_time": "2021-08-08T14:07:33.620499",
     "status": "completed"
    },
    "tags": []
   },
   "outputs": [],
   "source": [
    "#sort data based on timestamp\n",
    "dataframe = dataframe.sort_values(by=['start_practice']).reset_index(drop=True)"
   ]
  },
  {
   "cell_type": "code",
   "execution_count": 5,
   "metadata": {
    "execution": {
     "iopub.execute_input": "2021-08-08T14:07:35.765817Z",
     "iopub.status.busy": "2021-08-08T14:07:35.765125Z",
     "iopub.status.idle": "2021-08-08T14:07:36.229371Z",
     "shell.execute_reply": "2021-08-08T14:07:36.230075Z",
     "shell.execute_reply.started": "2021-08-06T20:58:29.303298Z"
    },
    "papermill": {
     "duration": 0.498254,
     "end_time": "2021-08-08T14:07:36.230289",
     "exception": false,
     "start_time": "2021-08-08T14:07:35.732035",
     "status": "completed"
    },
    "tags": []
   },
   "outputs": [
    {
     "data": {
      "text/html": [
       "<div>\n",
       "<style scoped>\n",
       "    .dataframe tbody tr th:only-of-type {\n",
       "        vertical-align: middle;\n",
       "    }\n",
       "\n",
       "    .dataframe tbody tr th {\n",
       "        vertical-align: top;\n",
       "    }\n",
       "\n",
       "    .dataframe thead th {\n",
       "        text-align: right;\n",
       "    }\n",
       "</style>\n",
       "<table border=\"1\" class=\"dataframe\">\n",
       "  <thead>\n",
       "    <tr style=\"text-align: right;\">\n",
       "      <th></th>\n",
       "      <th>Unnamed: 0</th>\n",
       "      <th>chapter_label</th>\n",
       "      <th>sub_chapter_label</th>\n",
       "      <th>question_name</th>\n",
       "      <th>user_id.x</th>\n",
       "      <th>term</th>\n",
       "      <th>STDNT_SEX_CD</th>\n",
       "      <th>NonNativeEnglish</th>\n",
       "      <th>White</th>\n",
       "      <th>Asian</th>\n",
       "      <th>...</th>\n",
       "      <th>classGraded</th>\n",
       "      <th>classHonors</th>\n",
       "      <th>Pass_Fail</th>\n",
       "      <th>parentsGraduateEdu</th>\n",
       "      <th>minorityGroup</th>\n",
       "      <th>q</th>\n",
       "      <th>day's_available_flashcards</th>\n",
       "      <th>start_practice</th>\n",
       "      <th>end_practice</th>\n",
       "      <th>days_offset</th>\n",
       "    </tr>\n",
       "  </thead>\n",
       "  <tbody>\n",
       "    <tr>\n",
       "      <th>0</th>\n",
       "      <td>434434</td>\n",
       "      <td>GeneralIntro</td>\n",
       "      <td>Syntaxerrors</td>\n",
       "      <td>question1_6_1</td>\n",
       "      <td>88</td>\n",
       "      <td>WN 2018</td>\n",
       "      <td>1</td>\n",
       "      <td>0</td>\n",
       "      <td>0</td>\n",
       "      <td>1</td>\n",
       "      <td>...</td>\n",
       "      <td>1</td>\n",
       "      <td>0</td>\n",
       "      <td>0</td>\n",
       "      <td>0</td>\n",
       "      <td>1</td>\n",
       "      <td>0</td>\n",
       "      <td>20</td>\n",
       "      <td>2018-01-18 15:50:08</td>\n",
       "      <td>2018-01-18 15:51:06</td>\n",
       "      <td>0</td>\n",
       "    </tr>\n",
       "    <tr>\n",
       "      <th>1</th>\n",
       "      <td>563728</td>\n",
       "      <td>GeneralIntro</td>\n",
       "      <td>Syntaxerrors</td>\n",
       "      <td>question1_6_1</td>\n",
       "      <td>290</td>\n",
       "      <td>WN 2018</td>\n",
       "      <td>1</td>\n",
       "      <td>0</td>\n",
       "      <td>1</td>\n",
       "      <td>0</td>\n",
       "      <td>...</td>\n",
       "      <td>1</td>\n",
       "      <td>0</td>\n",
       "      <td>0</td>\n",
       "      <td>1</td>\n",
       "      <td>0</td>\n",
       "      <td>0</td>\n",
       "      <td>20</td>\n",
       "      <td>2018-01-18 15:50:10</td>\n",
       "      <td>2018-01-18 15:50:21</td>\n",
       "      <td>0</td>\n",
       "    </tr>\n",
       "    <tr>\n",
       "      <th>2</th>\n",
       "      <td>204163</td>\n",
       "      <td>GeneralIntro</td>\n",
       "      <td>Syntaxerrors</td>\n",
       "      <td>question1_6_1</td>\n",
       "      <td>181</td>\n",
       "      <td>WN 2018</td>\n",
       "      <td>2</td>\n",
       "      <td>0</td>\n",
       "      <td>1</td>\n",
       "      <td>0</td>\n",
       "      <td>...</td>\n",
       "      <td>1</td>\n",
       "      <td>0</td>\n",
       "      <td>0</td>\n",
       "      <td>1</td>\n",
       "      <td>0</td>\n",
       "      <td>0</td>\n",
       "      <td>20</td>\n",
       "      <td>2018-01-18 15:50:12</td>\n",
       "      <td>2018-01-18 15:50:24</td>\n",
       "      <td>0</td>\n",
       "    </tr>\n",
       "    <tr>\n",
       "      <th>3</th>\n",
       "      <td>55154</td>\n",
       "      <td>GeneralIntro</td>\n",
       "      <td>Syntaxerrors</td>\n",
       "      <td>question1_6_1</td>\n",
       "      <td>146</td>\n",
       "      <td>WN 2018</td>\n",
       "      <td>1</td>\n",
       "      <td>1</td>\n",
       "      <td>0</td>\n",
       "      <td>1</td>\n",
       "      <td>...</td>\n",
       "      <td>1</td>\n",
       "      <td>0</td>\n",
       "      <td>0</td>\n",
       "      <td>0</td>\n",
       "      <td>1</td>\n",
       "      <td>0</td>\n",
       "      <td>20</td>\n",
       "      <td>2018-01-18 15:50:13</td>\n",
       "      <td>2018-01-18 15:50:49</td>\n",
       "      <td>0</td>\n",
       "    </tr>\n",
       "    <tr>\n",
       "      <th>4</th>\n",
       "      <td>269459</td>\n",
       "      <td>GeneralIntro</td>\n",
       "      <td>Syntaxerrors</td>\n",
       "      <td>question1_6_1</td>\n",
       "      <td>307</td>\n",
       "      <td>WN 2018</td>\n",
       "      <td>1</td>\n",
       "      <td>1</td>\n",
       "      <td>0</td>\n",
       "      <td>1</td>\n",
       "      <td>...</td>\n",
       "      <td>1</td>\n",
       "      <td>0</td>\n",
       "      <td>0</td>\n",
       "      <td>1</td>\n",
       "      <td>1</td>\n",
       "      <td>0</td>\n",
       "      <td>20</td>\n",
       "      <td>2018-01-18 15:50:14</td>\n",
       "      <td>2018-01-18 15:50:47</td>\n",
       "      <td>0</td>\n",
       "    </tr>\n",
       "    <tr>\n",
       "      <th>...</th>\n",
       "      <td>...</td>\n",
       "      <td>...</td>\n",
       "      <td>...</td>\n",
       "      <td>...</td>\n",
       "      <td>...</td>\n",
       "      <td>...</td>\n",
       "      <td>...</td>\n",
       "      <td>...</td>\n",
       "      <td>...</td>\n",
       "      <td>...</td>\n",
       "      <td>...</td>\n",
       "      <td>...</td>\n",
       "      <td>...</td>\n",
       "      <td>...</td>\n",
       "      <td>...</td>\n",
       "      <td>...</td>\n",
       "      <td>...</td>\n",
       "      <td>...</td>\n",
       "      <td>...</td>\n",
       "      <td>...</td>\n",
       "      <td>...</td>\n",
       "    </tr>\n",
       "    <tr>\n",
       "      <th>610787</th>\n",
       "      <td>257869</td>\n",
       "      <td>InternetAPIs</td>\n",
       "      <td>unicode</td>\n",
       "      <td>24_unicode_2</td>\n",
       "      <td>189</td>\n",
       "      <td>WN 2021</td>\n",
       "      <td>2</td>\n",
       "      <td>1</td>\n",
       "      <td>0</td>\n",
       "      <td>1</td>\n",
       "      <td>...</td>\n",
       "      <td>1</td>\n",
       "      <td>0</td>\n",
       "      <td>0</td>\n",
       "      <td>0</td>\n",
       "      <td>1</td>\n",
       "      <td>3</td>\n",
       "      <td>93</td>\n",
       "      <td>2021-04-28 14:09:32</td>\n",
       "      <td>2021-04-28 14:09:55</td>\n",
       "      <td>240</td>\n",
       "    </tr>\n",
       "    <tr>\n",
       "      <th>610788</th>\n",
       "      <td>175187</td>\n",
       "      <td>InternetAPIs</td>\n",
       "      <td>cachingResponses</td>\n",
       "      <td>restapis_caching_1</td>\n",
       "      <td>217</td>\n",
       "      <td>WN 2021</td>\n",
       "      <td>1</td>\n",
       "      <td>0</td>\n",
       "      <td>1</td>\n",
       "      <td>0</td>\n",
       "      <td>...</td>\n",
       "      <td>1</td>\n",
       "      <td>0</td>\n",
       "      <td>0</td>\n",
       "      <td>0</td>\n",
       "      <td>0</td>\n",
       "      <td>5</td>\n",
       "      <td>94</td>\n",
       "      <td>2021-04-28 16:24:39</td>\n",
       "      <td>2021-04-28 16:25:04</td>\n",
       "      <td>240</td>\n",
       "    </tr>\n",
       "    <tr>\n",
       "      <th>610789</th>\n",
       "      <td>383905</td>\n",
       "      <td>InternetAPIs</td>\n",
       "      <td>unicode</td>\n",
       "      <td>24_unicode_2</td>\n",
       "      <td>276</td>\n",
       "      <td>WN 2021</td>\n",
       "      <td>2</td>\n",
       "      <td>1</td>\n",
       "      <td>1</td>\n",
       "      <td>0</td>\n",
       "      <td>...</td>\n",
       "      <td>1</td>\n",
       "      <td>0</td>\n",
       "      <td>0</td>\n",
       "      <td>1</td>\n",
       "      <td>0</td>\n",
       "      <td>1</td>\n",
       "      <td>95</td>\n",
       "      <td>2021-04-28 17:05:46</td>\n",
       "      <td>2021-04-28 17:06:06</td>\n",
       "      <td>240</td>\n",
       "    </tr>\n",
       "    <tr>\n",
       "      <th>610790</th>\n",
       "      <td>383804</td>\n",
       "      <td>InternetAPIs</td>\n",
       "      <td>flickr</td>\n",
       "      <td>24_flickr_1</td>\n",
       "      <td>276</td>\n",
       "      <td>WN 2021</td>\n",
       "      <td>2</td>\n",
       "      <td>1</td>\n",
       "      <td>1</td>\n",
       "      <td>0</td>\n",
       "      <td>...</td>\n",
       "      <td>1</td>\n",
       "      <td>0</td>\n",
       "      <td>0</td>\n",
       "      <td>1</td>\n",
       "      <td>0</td>\n",
       "      <td>3</td>\n",
       "      <td>94</td>\n",
       "      <td>2021-04-28 17:06:06</td>\n",
       "      <td>2021-04-28 17:06:20</td>\n",
       "      <td>240</td>\n",
       "    </tr>\n",
       "    <tr>\n",
       "      <th>610791</th>\n",
       "      <td>159667</td>\n",
       "      <td>InternetAPIs</td>\n",
       "      <td>cachingResponses</td>\n",
       "      <td>restapis_caching_1</td>\n",
       "      <td>207</td>\n",
       "      <td>WN 2021</td>\n",
       "      <td>2</td>\n",
       "      <td>0</td>\n",
       "      <td>0</td>\n",
       "      <td>0</td>\n",
       "      <td>...</td>\n",
       "      <td>1</td>\n",
       "      <td>0</td>\n",
       "      <td>0</td>\n",
       "      <td>1</td>\n",
       "      <td>1</td>\n",
       "      <td>5</td>\n",
       "      <td>101</td>\n",
       "      <td>2021-04-28 17:07:28</td>\n",
       "      <td>2021-04-28 17:07:58</td>\n",
       "      <td>240</td>\n",
       "    </tr>\n",
       "  </tbody>\n",
       "</table>\n",
       "<p>610792 rows × 48 columns</p>\n",
       "</div>"
      ],
      "text/plain": [
       "        Unnamed: 0 chapter_label sub_chapter_label       question_name  \\\n",
       "0           434434  GeneralIntro      Syntaxerrors       question1_6_1   \n",
       "1           563728  GeneralIntro      Syntaxerrors       question1_6_1   \n",
       "2           204163  GeneralIntro      Syntaxerrors       question1_6_1   \n",
       "3            55154  GeneralIntro      Syntaxerrors       question1_6_1   \n",
       "4           269459  GeneralIntro      Syntaxerrors       question1_6_1   \n",
       "...            ...           ...               ...                 ...   \n",
       "610787      257869  InternetAPIs           unicode        24_unicode_2   \n",
       "610788      175187  InternetAPIs  cachingResponses  restapis_caching_1   \n",
       "610789      383905  InternetAPIs           unicode        24_unicode_2   \n",
       "610790      383804  InternetAPIs            flickr         24_flickr_1   \n",
       "610791      159667  InternetAPIs  cachingResponses  restapis_caching_1   \n",
       "\n",
       "        user_id.x     term  STDNT_SEX_CD  NonNativeEnglish  White  Asian  ...  \\\n",
       "0              88  WN 2018             1                 0      0      1  ...   \n",
       "1             290  WN 2018             1                 0      1      0  ...   \n",
       "2             181  WN 2018             2                 0      1      0  ...   \n",
       "3             146  WN 2018             1                 1      0      1  ...   \n",
       "4             307  WN 2018             1                 1      0      1  ...   \n",
       "...           ...      ...           ...               ...    ...    ...  ...   \n",
       "610787        189  WN 2021             2                 1      0      1  ...   \n",
       "610788        217  WN 2021             1                 0      1      0  ...   \n",
       "610789        276  WN 2021             2                 1      1      0  ...   \n",
       "610790        276  WN 2021             2                 1      1      0  ...   \n",
       "610791        207  WN 2021             2                 0      0      0  ...   \n",
       "\n",
       "        classGraded  classHonors  Pass_Fail  parentsGraduateEdu  \\\n",
       "0                 1            0          0                   0   \n",
       "1                 1            0          0                   1   \n",
       "2                 1            0          0                   1   \n",
       "3                 1            0          0                   0   \n",
       "4                 1            0          0                   1   \n",
       "...             ...          ...        ...                 ...   \n",
       "610787            1            0          0                   0   \n",
       "610788            1            0          0                   0   \n",
       "610789            1            0          0                   1   \n",
       "610790            1            0          0                   1   \n",
       "610791            1            0          0                   1   \n",
       "\n",
       "        minorityGroup  q  day's_available_flashcards       start_practice  \\\n",
       "0                   1  0                          20  2018-01-18 15:50:08   \n",
       "1                   0  0                          20  2018-01-18 15:50:10   \n",
       "2                   0  0                          20  2018-01-18 15:50:12   \n",
       "3                   1  0                          20  2018-01-18 15:50:13   \n",
       "4                   1  0                          20  2018-01-18 15:50:14   \n",
       "...               ... ..                         ...                  ...   \n",
       "610787              1  3                          93  2021-04-28 14:09:32   \n",
       "610788              0  5                          94  2021-04-28 16:24:39   \n",
       "610789              0  1                          95  2021-04-28 17:05:46   \n",
       "610790              0  3                          94  2021-04-28 17:06:06   \n",
       "610791              1  5                         101  2021-04-28 17:07:28   \n",
       "\n",
       "               end_practice  days_offset  \n",
       "0       2018-01-18 15:51:06            0  \n",
       "1       2018-01-18 15:50:21            0  \n",
       "2       2018-01-18 15:50:24            0  \n",
       "3       2018-01-18 15:50:49            0  \n",
       "4       2018-01-18 15:50:47            0  \n",
       "...                     ...          ...  \n",
       "610787  2021-04-28 14:09:55          240  \n",
       "610788  2021-04-28 16:25:04          240  \n",
       "610789  2021-04-28 17:06:06          240  \n",
       "610790  2021-04-28 17:06:20          240  \n",
       "610791  2021-04-28 17:07:58          240  \n",
       "\n",
       "[610792 rows x 48 columns]"
      ]
     },
     "execution_count": 5,
     "metadata": {},
     "output_type": "execute_result"
    }
   ],
   "source": [
    "dataframe"
   ]
  },
  {
   "cell_type": "code",
   "execution_count": 6,
   "metadata": {
    "execution": {
     "iopub.execute_input": "2021-08-08T14:07:36.296468Z",
     "iopub.status.busy": "2021-08-08T14:07:36.295748Z",
     "iopub.status.idle": "2021-08-08T14:07:36.301903Z",
     "shell.execute_reply": "2021-08-08T14:07:36.302404Z",
     "shell.execute_reply.started": "2021-08-06T20:58:29.673521Z"
    },
    "id": "0RvF7BvEr98o",
    "papermill": {
     "duration": 0.040875,
     "end_time": "2021-08-08T14:07:36.302576",
     "exception": false,
     "start_time": "2021-08-08T14:07:36.261701",
     "status": "completed"
    },
    "tags": []
   },
   "outputs": [],
   "source": [
    "FEATURES = ['chapter_label', 'sub_chapter_label','question_name','user_id','term',\n",
    "            'STDNT_SEX_CD', \n",
    "            'NonNativeEnglish',\n",
    "            'White',\n",
    "            'Asian',\n",
    "            'WhiteOrAsian',\n",
    "            'Hispanic',\n",
    "            'AfricanAmerican',\n",
    "            'OtherEthnicities',\n",
    "            'NonWhiteOrAsian',\n",
    "            'STDNT_CTZN_STAT_CD', 'international', \n",
    "            'gradingType',\n",
    "            'birthYear',\n",
    "            'exclClassCumGPA',\n",
    "            'Freshman',\n",
    "            'Junior',\n",
    "            'Sophomore',\n",
    "            'Senior',\n",
    "            'termCreditsGPA',\n",
    "            'termCreditsNoGPA',\n",
    "            'athlete_1',\n",
    "            'honorsPro',\n",
    "            'LSA', 'programBusiness', 'programEngineering', \n",
    "            'programInformation', 'programOther',\n",
    "            'HSCalculusTaken', \n",
    "            'highSchoolGPA', \n",
    "            'majorsCount', 'minorsCount',\n",
    "            'PREV_TERM_CUM_GPA',\n",
    "            'classGraded', 'classHonors', \n",
    "            'Pass_Fail', \n",
    "            'parentsGraduateEdu',  'minorityGroup', \n",
    "            'q',\n",
    "            'available_flashcards', \n",
    "            'start_practice', \n",
    "            'end_practice',\n",
    "            'days_offset']"
   ]
  },
  {
   "cell_type": "code",
   "execution_count": 7,
   "metadata": {
    "execution": {
     "iopub.execute_input": "2021-08-08T14:07:36.369335Z",
     "iopub.status.busy": "2021-08-08T14:07:36.368650Z",
     "iopub.status.idle": "2021-08-08T14:07:37.173109Z",
     "shell.execute_reply": "2021-08-08T14:07:37.172553Z",
     "shell.execute_reply.started": "2021-08-06T20:58:29.682425Z"
    },
    "id": "Mn341X7lSztl",
    "papermill": {
     "duration": 0.839775,
     "end_time": "2021-08-08T14:07:37.173275",
     "exception": false,
     "start_time": "2021-08-08T14:07:36.333500",
     "status": "completed"
    },
    "tags": []
   },
   "outputs": [],
   "source": [
    "dataframe['available_flashcards'] = dataframe[\"day's_available_flashcards\"][:]\n",
    "dataframe = dataframe.drop([\"day's_available_flashcards\"], axis=1)\n",
    "dataframe['user_id'] = dataframe[\"user_id.x\"][:]\n",
    "dataframe = dataframe.drop([\"user_id.x\"], axis=1)"
   ]
  },
  {
   "cell_type": "code",
   "execution_count": 8,
   "metadata": {
    "execution": {
     "iopub.execute_input": "2021-08-08T14:07:37.485604Z",
     "iopub.status.busy": "2021-08-08T14:07:37.484732Z",
     "iopub.status.idle": "2021-08-08T14:07:37.489105Z",
     "shell.execute_reply": "2021-08-08T14:07:37.488596Z",
     "shell.execute_reply.started": "2021-08-06T20:58:30.178707Z"
    },
    "id": "-_BRggOjbBjN",
    "outputId": "42bff7db-08dd-48dc-a73a-d048508053b7",
    "papermill": {
     "duration": 0.284715,
     "end_time": "2021-08-08T14:07:37.489287",
     "exception": false,
     "start_time": "2021-08-08T14:07:37.204572",
     "status": "completed"
    },
    "tags": []
   },
   "outputs": [
    {
     "data": {
      "text/plain": [
       "122"
      ]
     },
     "execution_count": 8,
     "metadata": {},
     "output_type": "execute_result"
    }
   ],
   "source": [
    "gc.collect()"
   ]
  },
  {
   "cell_type": "code",
   "execution_count": 9,
   "metadata": {
    "execution": {
     "iopub.execute_input": "2021-08-08T14:07:37.563858Z",
     "iopub.status.busy": "2021-08-08T14:07:37.561555Z",
     "iopub.status.idle": "2021-08-08T14:07:37.990730Z",
     "shell.execute_reply": "2021-08-08T14:07:37.991187Z",
     "shell.execute_reply.started": "2021-08-06T20:58:30.356124Z"
    },
    "id": "lXM7MlonVeRL",
    "outputId": "d29ccec0-522f-4e3c-e0b2-39b2e1eaef74",
    "papermill": {
     "duration": 0.469423,
     "end_time": "2021-08-08T14:07:37.991408",
     "exception": false,
     "start_time": "2021-08-08T14:07:37.521985",
     "status": "completed"
    },
    "tags": []
   },
   "outputs": [
    {
     "data": {
      "text/plain": [
       "20"
      ]
     },
     "execution_count": 9,
     "metadata": {},
     "output_type": "execute_result"
    }
   ],
   "source": [
    "dataframe = dataframe[FEATURES]\n",
    "gc.collect()"
   ]
  },
  {
   "cell_type": "code",
   "execution_count": 10,
   "metadata": {
    "execution": {
     "iopub.execute_input": "2021-08-08T14:07:38.639414Z",
     "iopub.status.busy": "2021-08-08T14:07:38.637024Z",
     "iopub.status.idle": "2021-08-08T14:07:38.858974Z",
     "shell.execute_reply": "2021-08-08T14:07:38.858263Z",
     "shell.execute_reply.started": "2021-08-06T20:58:30.662917Z"
    },
    "id": "2WAFv5z3A6fK",
    "outputId": "e27abf84-ec3c-4b88-e1fb-927d94b41898",
    "papermill": {
     "duration": 0.83578,
     "end_time": "2021-08-08T14:07:38.859135",
     "exception": false,
     "start_time": "2021-08-08T14:07:38.023355",
     "status": "completed"
    },
    "tags": []
   },
   "outputs": [],
   "source": [
    "dataframe = dataframe.fillna(0)"
   ]
  },
  {
   "cell_type": "code",
   "execution_count": 11,
   "metadata": {
    "execution": {
     "iopub.execute_input": "2021-08-08T14:07:38.944428Z",
     "iopub.status.busy": "2021-08-08T14:07:38.942601Z",
     "iopub.status.idle": "2021-08-08T14:07:40.503225Z",
     "shell.execute_reply": "2021-08-08T14:07:40.504032Z",
     "shell.execute_reply.started": "2021-08-06T20:58:31.328858Z"
    },
    "id": "qRKqF_0IXZgj",
    "papermill": {
     "duration": 1.612635,
     "end_time": "2021-08-08T14:07:40.506028",
     "exception": false,
     "start_time": "2021-08-08T14:07:38.893393",
     "status": "completed"
    },
    "tags": []
   },
   "outputs": [],
   "source": [
    "#label encode term, chapter_label, question_name, sub_chapter_label columns\n",
    "dataframe['term'] = dataframe['term'].astype('category')\n",
    "dataframe['user_id'] = dataframe['user_id'].astype(int)\n",
    "dataframe['user_id'] = dataframe['user_id'].astype(str)\n",
    "dataframe['user_id'] = dataframe['term'].str.cat(dataframe['user_id'], sep=':')\n",
    "dataframe['user_id'] = dataframe['user_id'].astype('category')\n",
    "dataframe['chapter_label'] = dataframe['chapter_label'].astype('category')\n",
    "dataframe['sub_chapter_label'] = dataframe['sub_chapter_label'].astype('category')\n",
    "dataframe['question_name'] = dataframe['question_name'].astype('category')\n"
   ]
  },
  {
   "cell_type": "code",
   "execution_count": 12,
   "metadata": {
    "execution": {
     "iopub.execute_input": "2021-08-08T14:07:40.581658Z",
     "iopub.status.busy": "2021-08-08T14:07:40.580578Z",
     "iopub.status.idle": "2021-08-08T14:07:41.178150Z",
     "shell.execute_reply": "2021-08-08T14:07:41.177531Z",
     "shell.execute_reply.started": "2021-08-06T20:58:32.762556Z"
    },
    "id": "eVl_067GWkDe",
    "papermill": {
     "duration": 0.636752,
     "end_time": "2021-08-08T14:07:41.178343",
     "exception": false,
     "start_time": "2021-08-08T14:07:40.541591",
     "status": "completed"
    },
    "tags": []
   },
   "outputs": [],
   "source": [
    "#calculate time_lag and prev_time_elapsed\n",
    "dataframe['prev_time_elapsed'] = None\n",
    "dataframe['time_lag'] = None\n",
    "dataframe['time_lag'] = dataframe['time_lag'].astype(np.float)\n",
    "dataframe['prev_time_elapsed'] = dataframe['prev_time_elapsed'].astype(np.float)\n",
    "dataframe.start_practice = pd.to_datetime(dataframe.start_practice, format='%Y-%m-%d %H:%M:%S')\n",
    "dataframe.end_practice = pd.to_datetime(dataframe.end_practice, format='%Y-%m-%d %H:%M:%S')"
   ]
  },
  {
   "cell_type": "code",
   "execution_count": 13,
   "metadata": {
    "execution": {
     "iopub.execute_input": "2021-08-08T14:07:41.252063Z",
     "iopub.status.busy": "2021-08-08T14:07:41.250633Z",
     "iopub.status.idle": "2021-08-08T14:07:41.298514Z",
     "shell.execute_reply": "2021-08-08T14:07:41.297697Z",
     "shell.execute_reply.started": "2021-08-06T20:58:33.288808Z"
    },
    "papermill": {
     "duration": 0.087185,
     "end_time": "2021-08-08T14:07:41.298676",
     "exception": false,
     "start_time": "2021-08-08T14:07:41.211491",
     "status": "completed"
    },
    "tags": []
   },
   "outputs": [],
   "source": [
    "dataframe['dif'] = dataframe.end_practice - dataframe.start_practice\n",
    "dataframe['dif'] = dataframe['dif'] /np.timedelta64(1, 's')\n",
    "dataframe['answer_correct'] = np.where((dataframe['q']==5) & (dataframe['dif'] <= 60), 1, 0)"
   ]
  },
  {
   "cell_type": "code",
   "execution_count": 14,
   "metadata": {
    "execution": {
     "iopub.execute_input": "2021-08-08T14:07:41.375887Z",
     "iopub.status.busy": "2021-08-08T14:07:41.374975Z",
     "iopub.status.idle": "2021-08-08T14:14:59.735931Z",
     "shell.execute_reply": "2021-08-08T14:14:59.736564Z",
     "shell.execute_reply.started": "2021-08-06T20:59:18.660743Z"
    },
    "id": "Xrkcn9VhWETm",
    "outputId": "fd73f3de-5f56-42a8-9539-3f3b79a5a6e2",
    "papermill": {
     "duration": 438.405697,
     "end_time": "2021-08-08T14:14:59.736780",
     "exception": false,
     "start_time": "2021-08-08T14:07:41.331083",
     "status": "completed"
    },
    "tags": []
   },
   "outputs": [
    {
     "name": "stderr",
     "output_type": "stream",
     "text": [
      "100%|██████████| 1110/1110 [07:18<00:00,  2.53it/s]\n"
     ]
    }
   ],
   "source": [
    "unique_chapts = dataframe['chapter_label'].unique()\n",
    "from tqdm import tqdm\n",
    "cnt = 0\n",
    "for user in tqdm(dataframe['user_id'].unique()):\n",
    "        for chapter in unique_chapts:\n",
    "            tmp_user = dataframe[(dataframe['user_id']==user) & (dataframe['chapter_label']==chapter)]\n",
    "            #if user doesn't answer any question from the chapter\n",
    "            if len(tmp_user) < 1:\n",
    "                continue\n",
    "            #calculate average elapsed time before the current question\n",
    "            #from its corresponding chapter\n",
    "            tmp_time_elapsed = tmp_user.end_practice - tmp_user.start_practice\n",
    "            tmp_time_elapsed = tmp_time_elapsed / np.timedelta64(1, 's')\n",
    "            tmp_time_elapsed = np.insert(np.array(tmp_time_elapsed[:-1]), 0, 0., axis=0)\n",
    "            tmp_time_elapsed = np.cumsum(tmp_time_elapsed)\n",
    "            indices = tmp_user.index\n",
    "            start_row = indices[0]\n",
    "            dataframe['time_lag'].iloc[start_row] = 0\n",
    "            for_mean = np.arange(len(tmp_user))\n",
    "            for_mean[0] = 1\n",
    "            time_substrahend = tmp_user.start_practice.iloc[:-1]\n",
    "            time_substrahend = time_substrahend.apply(lambda a: a.timestamp())\n",
    "            time_substrahend = np.array(time_substrahend)\n",
    "            \n",
    "            time_minuend = tmp_user.start_practice.iloc[1:]\n",
    "            time_minuend = time_minuend.apply(lambda a: a.timestamp())\n",
    "            time_minuend = np.array(time_minuend)\n",
    "\n",
    "            dataframe['prev_time_elapsed'].iloc[indices] = tmp_time_elapsed/for_mean\n",
    "            #calculate difference between current and last interaction\n",
    "            #from the same chapter\n",
    "            dataframe['time_lag'].iloc[indices[1:]] = time_minuend - time_substrahend\n"
   ]
  },
  {
   "cell_type": "code",
   "execution_count": 15,
   "metadata": {
    "execution": {
     "iopub.execute_input": "2021-08-08T14:15:00.585031Z",
     "iopub.status.busy": "2021-08-08T14:15:00.583585Z",
     "iopub.status.idle": "2021-08-08T14:15:00.631112Z",
     "shell.execute_reply": "2021-08-08T14:15:00.631615Z",
     "shell.execute_reply.started": "2021-08-06T21:05:41.448812Z"
    },
    "id": "8t8yZ0XvWwzz",
    "papermill": {
     "duration": 0.526772,
     "end_time": "2021-08-08T14:15:00.631836",
     "exception": false,
     "start_time": "2021-08-08T14:15:00.105064",
     "status": "completed"
    },
    "tags": []
   },
   "outputs": [],
   "source": [
    "#drop column end_practice\n",
    "dataframe.drop(columns=['end_practice'], inplace=True)"
   ]
  },
  {
   "cell_type": "code",
   "execution_count": 16,
   "metadata": {
    "execution": {
     "iopub.execute_input": "2021-08-08T14:15:01.370654Z",
     "iopub.status.busy": "2021-08-08T14:15:01.369367Z",
     "iopub.status.idle": "2021-08-08T14:15:01.873853Z",
     "shell.execute_reply": "2021-08-08T14:15:01.874559Z",
     "shell.execute_reply.started": "2021-08-06T21:05:41.542314Z"
    },
    "id": "E42raRIrYYXz",
    "papermill": {
     "duration": 0.878273,
     "end_time": "2021-08-08T14:15:01.874773",
     "exception": false,
     "start_time": "2021-08-08T14:15:00.996500",
     "status": "completed"
    },
    "tags": []
   },
   "outputs": [],
   "source": [
    "# calculate the age feature\n",
    "dataframe['term_value'] = [int(ele[3:]) for ele in dataframe['term']]\n",
    "dataframe['age'] = dataframe['term_value'] - dataframe['birthYear']"
   ]
  },
  {
   "cell_type": "code",
   "execution_count": 17,
   "metadata": {
    "execution": {
     "iopub.execute_input": "2021-08-08T14:15:02.690384Z",
     "iopub.status.busy": "2021-08-08T14:15:02.689561Z",
     "iopub.status.idle": "2021-08-08T14:15:02.911023Z",
     "shell.execute_reply": "2021-08-08T14:15:02.910320Z",
     "shell.execute_reply.started": "2021-08-06T21:05:42.015381Z"
    },
    "id": "pcMVQXueYnMh",
    "papermill": {
     "duration": 0.594243,
     "end_time": "2021-08-08T14:15:02.911185",
     "exception": false,
     "start_time": "2021-08-08T14:15:02.316942",
     "status": "completed"
    },
    "tags": []
   },
   "outputs": [],
   "source": [
    "# drop term_value and birthYear column\n",
    "dataframe.drop(columns=['term_value', 'birthYear'], inplace=True)"
   ]
  },
  {
   "cell_type": "code",
   "execution_count": 18,
   "metadata": {
    "execution": {
     "iopub.execute_input": "2021-08-08T14:15:03.664081Z",
     "iopub.status.busy": "2021-08-08T14:15:03.658982Z",
     "iopub.status.idle": "2021-08-08T14:15:04.187069Z",
     "shell.execute_reply": "2021-08-08T14:15:04.187673Z",
     "shell.execute_reply.started": "2021-08-06T21:05:42.228048Z"
    },
    "id": "hjRF5szkcQE0",
    "papermill": {
     "duration": 0.912535,
     "end_time": "2021-08-08T14:15:04.187888",
     "exception": false,
     "start_time": "2021-08-08T14:15:03.275353",
     "status": "completed"
    },
    "tags": []
   },
   "outputs": [],
   "source": [
    "# convert minors_count to int value\n",
    "new_minors_count = []\n",
    "for i in dataframe['minorsCount']:\n",
    "  if i == 0 or i == '0':\n",
    "    new_minors_count.append(0)\n",
    "  elif i == '1 Minor':\n",
    "    new_minors_count.append(1)\n",
    "  else:\n",
    "    new_minors_count.append(2)\n",
    "\n",
    "dataframe['minorsCount'] = new_minors_count"
   ]
  },
  {
   "cell_type": "code",
   "execution_count": 19,
   "metadata": {
    "execution": {
     "iopub.execute_input": "2021-08-08T14:15:04.926530Z",
     "iopub.status.busy": "2021-08-08T14:15:04.925120Z",
     "iopub.status.idle": "2021-08-08T14:15:04.941787Z",
     "shell.execute_reply": "2021-08-08T14:15:04.942283Z",
     "shell.execute_reply.started": "2021-08-06T21:05:42.737147Z"
    },
    "id": "9VdzvJSw0KUU",
    "outputId": "6393784f-234e-4935-9cee-cbcf56b5630a",
    "papermill": {
     "duration": 0.390434,
     "end_time": "2021-08-08T14:15:04.942499",
     "exception": false,
     "start_time": "2021-08-08T14:15:04.552065",
     "status": "completed"
    },
    "tags": []
   },
   "outputs": [
    {
     "name": "stdout",
     "output_type": "stream",
     "text": [
      "we have  1110  users in total.\n"
     ]
    }
   ],
   "source": [
    "print(\"we have \", dataframe['user_id'].nunique(),\" users in total.\")"
   ]
  },
  {
   "cell_type": "code",
   "execution_count": 20,
   "metadata": {
    "execution": {
     "iopub.execute_input": "2021-08-08T14:15:05.685068Z",
     "iopub.status.busy": "2021-08-08T14:15:05.684273Z",
     "iopub.status.idle": "2021-08-08T14:15:05.691659Z",
     "shell.execute_reply": "2021-08-08T14:15:05.690957Z",
     "shell.execute_reply.started": "2021-08-06T21:05:42.755226Z"
    },
    "id": "hUaGk9L9g13t",
    "papermill": {
     "duration": 0.384954,
     "end_time": "2021-08-08T14:15:05.691826",
     "exception": false,
     "start_time": "2021-08-08T14:15:05.306872",
     "status": "completed"
    },
    "tags": []
   },
   "outputs": [],
   "source": [
    "for category in ['term','chapter_label', 'sub_chapter_label', 'question_name']:\n",
    "  dataframe[category] =  dataframe[category].cat.codes"
   ]
  },
  {
   "cell_type": "code",
   "execution_count": 21,
   "metadata": {
    "execution": {
     "iopub.execute_input": "2021-08-08T14:15:06.435402Z",
     "iopub.status.busy": "2021-08-08T14:15:06.434710Z",
     "iopub.status.idle": "2021-08-08T14:15:07.270883Z",
     "shell.execute_reply": "2021-08-08T14:15:07.270241Z",
     "shell.execute_reply.started": "2021-08-06T21:05:42.769234Z"
    },
    "id": "hkyvcYvlhliG",
    "papermill": {
     "duration": 1.210461,
     "end_time": "2021-08-08T14:15:07.271052",
     "exception": false,
     "start_time": "2021-08-08T14:15:06.060591",
     "status": "completed"
    },
    "tags": []
   },
   "outputs": [],
   "source": [
    "NUMERIC_FEATURE =  ['age',\n",
    "            'exclClassCumGPA',\n",
    "            'termCreditsGPA',\n",
    "            'termCreditsNoGPA',\n",
    "            'highSchoolGPA', \n",
    "            'majorsCount', 'minorsCount',\n",
    "            'PREV_TERM_CUM_GPA',\n",
    "            'available_flashcards', \n",
    "            'days_offset', \n",
    "            'prev_time_elapsed',\n",
    "             'time_lag']\n",
    "# z-score normalize the numerical features\n",
    "for f in NUMERIC_FEATURE:\n",
    "  m = dataframe[f].mean()\n",
    "  std = dataframe[f].std()\n",
    "  dataframe[f] = (dataframe[f] - m)/std"
   ]
  },
  {
   "cell_type": "code",
   "execution_count": 22,
   "metadata": {
    "execution": {
     "iopub.execute_input": "2021-08-08T14:15:08.018127Z",
     "iopub.status.busy": "2021-08-08T14:15:08.017394Z",
     "iopub.status.idle": "2021-08-08T14:15:09.364036Z",
     "shell.execute_reply": "2021-08-08T14:15:09.364544Z",
     "shell.execute_reply.started": "2021-08-06T21:05:43.58599Z"
    },
    "id": "wo2OH-d5kWp1",
    "papermill": {
     "duration": 1.727209,
     "end_time": "2021-08-08T14:15:09.364770",
     "exception": false,
     "start_time": "2021-08-08T14:15:07.637561",
     "status": "completed"
    },
    "tags": []
   },
   "outputs": [],
   "source": [
    "FEATURE_TRANS =  ['answer_correct', 'chapter_label', 'sub_chapter_label','question_name','user_id','term',\n",
    "                  'STDNT_SEX_CD', \n",
    "                    'White','Asian','NonWhiteOrAsian',\n",
    "            'STDNT_CTZN_STAT_CD', 'international', \n",
    "            'age',\n",
    "            'exclClassCumGPA',\n",
    "           'Freshman',\n",
    "            'Junior',\n",
    "            'Sophomore',\n",
    "            'Senior',\n",
    "            'termCreditsGPA',\n",
    "            'termCreditsNoGPA',\n",
    "            'athlete_1',\n",
    "            'honorsPro',\n",
    "            'LSA', 'programBusiness', 'programEngineering', \n",
    "            'programInformation', 'programOther',\n",
    "            'HSCalculusTaken', \n",
    "            'highSchoolGPA', \n",
    "            'majorsCount', 'minorsCount',\n",
    "            'PREV_TERM_CUM_GPA',\n",
    "            'classGraded', 'classHonors', \n",
    "            'Pass_Fail', \n",
    "            'parentsGraduateEdu',  'minorityGroup', \n",
    "            'available_flashcards', \n",
    "            'days_offset', 'prev_time_elapsed',\n",
    "             'time_lag']\n",
    "grouped_data = dataframe[FEATURE_TRANS].groupby(['user_id']).apply(lambda r: (\n",
    "                r['answer_correct'],\n",
    "                r['term'],\n",
    "                r['chapter_label'],\n",
    "                r['sub_chapter_label'],\n",
    "                r['question_name'],\n",
    "                np.array([\n",
    "#                   r['STDNT_SEX_CD'],r['STDNT_CTZN_STAT_CD'], r['international'], \n",
    "#                   r['White'],r['Asian'],r['NonWhiteOrAsian'],\n",
    "#                  r['age'],r['exclClassCumGPA'],\n",
    "#                 r['Freshman'], r['Junior'], r['Sophomore'], r['Senior'],\n",
    "#                 r['termCreditsGPA'], r['termCreditsNoGPA'],\n",
    "#                 r['athlete_1'], r['honorsPro'],\n",
    "#                 r['LSA'], r['programBusiness'], r['programEngineering'], \n",
    "#                 r['programInformation'], r['programOther'],\n",
    "#                 r['HSCalculusTaken'],  r['highSchoolGPA'], \n",
    "#                 r['majorsCount'], r['minorsCount'],\n",
    "#                 r['PREV_TERM_CUM_GPA'], \n",
    "#                 r['parentsGraduateEdu'], r['minorityGroup'],\n",
    "#                 r['available_flashcards'],\n",
    "#                 r['days_offset'],\n",
    "                r['prev_time_elapsed'],\n",
    "                r['time_lag']\n",
    "              ]).transpose()\n",
    "                ))"
   ]
  },
  {
   "cell_type": "code",
   "execution_count": 23,
   "metadata": {
    "execution": {
     "iopub.execute_input": "2021-08-08T14:15:10.112783Z",
     "iopub.status.busy": "2021-08-08T14:15:10.111766Z",
     "iopub.status.idle": "2021-08-08T14:15:10.394975Z",
     "shell.execute_reply": "2021-08-08T14:15:10.394381Z",
     "shell.execute_reply.started": "2021-08-06T21:05:47.879421Z"
    },
    "id": "XXLqQnjrlp_4",
    "outputId": "c801da79-f0bf-4fe5-b19c-7c799fe01556",
    "papermill": {
     "duration": 0.663798,
     "end_time": "2021-08-08T14:15:10.395130",
     "exception": false,
     "start_time": "2021-08-08T14:15:09.731332",
     "status": "completed"
    },
    "tags": []
   },
   "outputs": [
    {
     "data": {
      "text/plain": [
       "20"
      ]
     },
     "execution_count": 23,
     "metadata": {},
     "output_type": "execute_result"
    }
   ],
   "source": [
    "gc.collect()"
   ]
  },
  {
   "cell_type": "code",
   "execution_count": 24,
   "metadata": {
    "execution": {
     "iopub.execute_input": "2021-08-08T14:15:11.155791Z",
     "iopub.status.busy": "2021-08-08T14:15:11.150502Z",
     "iopub.status.idle": "2021-08-08T14:15:11.186948Z",
     "shell.execute_reply": "2021-08-08T14:15:11.186302Z",
     "shell.execute_reply.started": "2021-08-06T21:05:48.079782Z"
    },
    "id": "QYGQasdTrmP0",
    "papermill": {
     "duration": 0.420445,
     "end_time": "2021-08-08T14:15:11.187116",
     "exception": false,
     "start_time": "2021-08-08T14:15:10.766671",
     "status": "completed"
    },
    "tags": []
   },
   "outputs": [],
   "source": [
    "# remove students who don't have make any interactions with the tool\n",
    "toRemove = []\n",
    "for index in grouped_data.index:\n",
    "  if len(grouped_data[index][0]) <= 10:\n",
    "    toRemove.append(index)\n",
    "grouped_data = grouped_data.drop(index=toRemove)"
   ]
  },
  {
   "cell_type": "code",
   "execution_count": 25,
   "metadata": {
    "execution": {
     "iopub.execute_input": "2021-08-08T14:15:11.960704Z",
     "iopub.status.busy": "2021-08-08T14:15:11.959821Z",
     "iopub.status.idle": "2021-08-08T14:15:11.977781Z",
     "shell.execute_reply": "2021-08-08T14:15:11.976989Z",
     "shell.execute_reply.started": "2021-08-06T21:05:48.128536Z"
    },
    "papermill": {
     "duration": 0.392605,
     "end_time": "2021-08-08T14:15:11.977980",
     "exception": false,
     "start_time": "2021-08-08T14:15:11.585375",
     "status": "completed"
    },
    "tags": []
   },
   "outputs": [
    {
     "data": {
      "text/plain": [
       "count    1110.000000\n",
       "mean      550.263063\n",
       "std       201.281353\n",
       "min         2.000000\n",
       "25%       438.250000\n",
       "50%       520.500000\n",
       "75%       637.750000\n",
       "max      1500.000000\n",
       "Name: start_practice, dtype: float64"
      ]
     },
     "execution_count": 25,
     "metadata": {},
     "output_type": "execute_result"
    }
   ],
   "source": [
    "dataframe.groupby('user_id')['start_practice'].agg('count').describe()"
   ]
  },
  {
   "cell_type": "code",
   "execution_count": 26,
   "metadata": {
    "execution": {
     "iopub.execute_input": "2021-08-08T14:15:12.749933Z",
     "iopub.status.busy": "2021-08-08T14:15:12.749289Z",
     "iopub.status.idle": "2021-08-08T14:15:12.752578Z",
     "shell.execute_reply": "2021-08-08T14:15:12.753179Z",
     "shell.execute_reply.started": "2021-08-06T21:05:48.148935Z"
    },
    "papermill": {
     "duration": 0.389227,
     "end_time": "2021-08-08T14:15:12.753428",
     "exception": false,
     "start_time": "2021-08-08T14:15:12.364201",
     "status": "completed"
    },
    "tags": []
   },
   "outputs": [
    {
     "data": {
      "text/plain": [
       "['FA 2018:252', 'WN 2018:295']"
      ]
     },
     "execution_count": 26,
     "metadata": {},
     "output_type": "execute_result"
    }
   ],
   "source": [
    "toRemove"
   ]
  },
  {
   "cell_type": "code",
   "execution_count": 27,
   "metadata": {
    "execution": {
     "iopub.execute_input": "2021-08-08T14:15:13.520919Z",
     "iopub.status.busy": "2021-08-08T14:15:13.519889Z",
     "iopub.status.idle": "2021-08-08T14:15:13.525499Z",
     "shell.execute_reply": "2021-08-08T14:15:13.525987Z",
     "shell.execute_reply.started": "2021-08-06T21:05:48.155466Z"
    },
    "id": "9kZqV9siDyNb",
    "papermill": {
     "duration": 0.394834,
     "end_time": "2021-08-08T14:15:13.526220",
     "exception": false,
     "start_time": "2021-08-08T14:15:13.131386",
     "status": "completed"
    },
    "tags": []
   },
   "outputs": [],
   "source": [
    "#SETTINGS -> can be modified at any time\n",
    "MAXLENGTH = 400\n",
    "EMBEDDING_DIM = 128\n",
    "DENSE_NEURON = 16\n",
    "LSTM_NEURON = 32"
   ]
  },
  {
   "cell_type": "code",
   "execution_count": 28,
   "metadata": {
    "execution": {
     "iopub.execute_input": "2021-08-08T14:15:14.292760Z",
     "iopub.status.busy": "2021-08-08T14:15:14.291767Z",
     "iopub.status.idle": "2021-08-08T14:15:14.295998Z",
     "shell.execute_reply": "2021-08-08T14:15:14.296483Z",
     "shell.execute_reply.started": "2021-08-06T21:05:48.168321Z"
    },
    "id": "1MksD1JizpPn",
    "papermill": {
     "duration": 0.389145,
     "end_time": "2021-08-08T14:15:14.296680",
     "exception": false,
     "start_time": "2021-08-08T14:15:13.907535",
     "status": "completed"
    },
    "tags": []
   },
   "outputs": [],
   "source": [
    "FEATURES_SIZE = 2\n",
    "CHAPTER_SIZE = 38\n",
    "SUB_CHAPTER_SIZE = 223\n",
    "QUESTION_SIZE = 1069"
   ]
  },
  {
   "cell_type": "code",
   "execution_count": 29,
   "metadata": {
    "execution": {
     "iopub.execute_input": "2021-08-08T14:15:15.058067Z",
     "iopub.status.busy": "2021-08-08T14:15:15.057346Z",
     "iopub.status.idle": "2021-08-08T14:15:15.068684Z",
     "shell.execute_reply": "2021-08-08T14:15:15.067959Z",
     "shell.execute_reply.started": "2021-08-06T21:05:48.18102Z"
    },
    "papermill": {
     "duration": 0.397794,
     "end_time": "2021-08-08T14:15:15.068848",
     "exception": false,
     "start_time": "2021-08-08T14:15:14.671054",
     "status": "completed"
    },
    "tags": []
   },
   "outputs": [
    {
     "data": {
      "text/plain": [
       "array([ 96,  86,  88,  28,  12,  82, 125,  32,  69,  33,  21, 115, 120,\n",
       "       119,  91,  73,  57,  77, 117,  40,  74,  41,  68,  39,  92,  47,\n",
       "       104,  95,  53,  49,  50,  16,  52,  55,   7,  15,  51, 102, 103,\n",
       "        11,  94, 108, 100,  17,  67,  63,  13, 139,  26,  25,   8, 107,\n",
       "         0,  90,  48,  54, 138,   1,   2,   3,  34,  35,  85,   5,  24,\n",
       "        37,  36,  78,  70,  45, 142,  71,  10,  89, 111, 112, 109, 116,\n",
       "        76,  72, 148, 134, 146, 221, 143,  56,  60,  61,  23, 140, 106,\n",
       "        42,  83,  22, 145, 136, 144,  38,   4,  19, 137,  75,  43,  98,\n",
       "        84, 113, 173, 174, 175, 176, 177, 178, 180, 181, 182, 187, 189,\n",
       "       190, 191, 192, 193, 195, 197, 151, 152, 153, 156, 157, 158, 159,\n",
       "       160, 161, 163, 164, 165, 166, 167, 168, 169, 170, 171, 172, 198,\n",
       "       199, 200, 201, 202, 203, 204, 205, 206, 207, 208, 209, 210, 162,\n",
       "       179, 186, 188, 194, 183, 184, 185, 211, 212, 213, 154, 155, 196,\n",
       "         6, 118,  18, 215,  46, 216, 141,  27, 217, 105, 123, 218, 101,\n",
       "       124, 219, 122, 220,  58,  59,  64,  20,  93,  65,  66,   9,  44,\n",
       "        30,  14,  79, 121,  31, 110, 129,  87,  97,  62, 149, 132, 131,\n",
       "       150, 130, 128,  99, 147, 127, 214, 135,  80, 126, 133,  81, 114,\n",
       "        29], dtype=int16)"
      ]
     },
     "execution_count": 29,
     "metadata": {},
     "output_type": "execute_result"
    }
   ],
   "source": [
    "dataframe['sub_chapter_label'].unique()"
   ]
  },
  {
   "cell_type": "code",
   "execution_count": 30,
   "metadata": {
    "execution": {
     "iopub.execute_input": "2021-08-08T14:15:15.838610Z",
     "iopub.status.busy": "2021-08-08T14:15:15.837130Z",
     "iopub.status.idle": "2021-08-08T14:15:17.018597Z",
     "shell.execute_reply": "2021-08-08T14:15:17.017773Z",
     "shell.execute_reply.started": "2021-08-06T21:05:48.201622Z"
    },
    "id": "mY3Thp6d0NaT",
    "papermill": {
     "duration": 1.567887,
     "end_time": "2021-08-08T14:15:17.018765",
     "exception": false,
     "start_time": "2021-08-08T14:15:15.450878",
     "status": "completed"
    },
    "tags": []
   },
   "outputs": [],
   "source": [
    "#create dataset class\n",
    "#to prepare it for train, valid, and test sets\n",
    "from torch.utils.data import Dataset, DataLoader\n",
    "class SPACE_DATASET(Dataset):\n",
    "    def __init__(self, data, maxlength = 400):\n",
    "        super(SPACE_DATASET, self).__init__()\n",
    "        self.maxlength = maxlength\n",
    "        self.data = data\n",
    "        self.users = list()\n",
    "        for user in data.index:\n",
    "            self.users.append(user)\n",
    "\n",
    "    def __len__(self):\n",
    "        return len(self.users)\n",
    "    \n",
    "    def __getitem__(self, ix):\n",
    "        user = self.users[ix]\n",
    "        user = user\n",
    "        target, term, ch_label, sub_ch_label, ques_name, features = self.data[user]\n",
    "        \n",
    "        #0s should be used as padding values\n",
    "        ori_target = target.values \n",
    "        term = term.values\n",
    "        ch_label = ch_label.values + 1\n",
    "        sub_ch_label = sub_ch_label.values +1\n",
    "        ques_name = ques_name.values + 1\n",
    "        \n",
    "        n = len(ch_label)\n",
    "\n",
    "        # one hot for term\n",
    "        term_encode = [0]*7\n",
    "        term_encode[term[0]] = 1\n",
    "        shifted_target= []\n",
    "\n",
    "        \n",
    "        # get  user interaction informations in the previous MAXLEN interactions\n",
    "        if n > self.maxlength:\n",
    "          ch_label = ch_label[-self.maxlength:]\n",
    "          sub_ch_label = sub_ch_label[-self.maxlength:]\n",
    "          ques_name = ques_name[-self.maxlength:]\n",
    "          features = features[-self.maxlength:]\n",
    "          target = ori_target[-self.maxlength:]\n",
    "          shifted_target = ori_target[ (-self.maxlength - 1) :-1]\n",
    "        else:\n",
    "          ch_label = [0]*(self.maxlength - n)+list(ch_label[:])\n",
    "          sub_ch_label = [0]*(self.maxlength - n)+list(sub_ch_label[:])\n",
    "          ques_name = [0]*(self.maxlength - n)+list(ques_name[:])\n",
    "          features = [[0]*len(features[0])]*(self.maxlength  - n)+list(features[:])\n",
    "          target = [-1]*(self.maxlength - n) + list(ori_target[:])\n",
    "          shifted_target = [2]*(self.maxlength + 1 - n) + list(ori_target[:-1])\n",
    "\n",
    "        new_features = []\n",
    "        count = 0\n",
    "        for f in features:\n",
    "          temp = list(f)\n",
    "#           temp.extend(term_encode)\n",
    "          #temp.append(shifted_target[count]) #uncomment this line for include previous response feature\n",
    "          new_features.append(temp)\n",
    "          count += 1\n",
    "        features = new_features\n",
    "        return ch_label,sub_ch_label,ques_name,features, shifted_target, target"
   ]
  },
  {
   "cell_type": "code",
   "execution_count": 31,
   "metadata": {
    "execution": {
     "iopub.execute_input": "2021-08-08T14:15:17.772851Z",
     "iopub.status.busy": "2021-08-08T14:15:17.771983Z",
     "iopub.status.idle": "2021-08-08T14:15:17.776093Z",
     "shell.execute_reply": "2021-08-08T14:15:17.776680Z",
     "shell.execute_reply.started": "2021-08-06T21:05:49.347481Z"
    },
    "papermill": {
     "duration": 0.383122,
     "end_time": "2021-08-08T14:15:17.776876",
     "exception": false,
     "start_time": "2021-08-08T14:15:17.393754",
     "status": "completed"
    },
    "tags": []
   },
   "outputs": [
    {
     "data": {
      "text/plain": [
       "223"
      ]
     },
     "execution_count": 31,
     "metadata": {},
     "output_type": "execute_result"
    }
   ],
   "source": [
    "SUB_CHAPTER_SIZE"
   ]
  },
  {
   "cell_type": "markdown",
   "metadata": {
    "id": "4xc90-aLzxat",
    "papermill": {
     "duration": 0.367188,
     "end_time": "2021-08-08T14:15:18.513409",
     "exception": false,
     "start_time": "2021-08-08T14:15:18.146221",
     "status": "completed"
    },
    "tags": []
   },
   "source": [
    "## KFOLD - LSTM\n"
   ]
  },
  {
   "cell_type": "code",
   "execution_count": 32,
   "metadata": {
    "execution": {
     "iopub.execute_input": "2021-08-08T14:15:19.251296Z",
     "iopub.status.busy": "2021-08-08T14:15:19.250185Z",
     "iopub.status.idle": "2021-08-08T14:42:33.880472Z",
     "shell.execute_reply": "2021-08-08T14:42:33.879886Z",
     "shell.execute_reply.started": "2021-08-06T21:05:49.358265Z"
    },
    "id": "gzJrljnjzypP",
    "outputId": "87abe488-b493-4f8f-9d71-45cb1d2ddf51",
    "papermill": {
     "duration": 1635.00083,
     "end_time": "2021-08-08T14:42:33.880661",
     "exception": false,
     "start_time": "2021-08-08T14:15:18.879831",
     "status": "completed"
    },
    "tags": []
   },
   "outputs": [
    {
     "name": "stdout",
     "output_type": "stream",
     "text": [
      "Epoch 1/100\n",
      "14/14 [==============================] - 26s 1s/step - loss: 0.5778 - masked_acc: 0.7163 - masked_auc: 0.5385 - val_loss: 0.4935 - val_masked_acc: 0.7267 - val_masked_auc: 0.6925\n",
      "Epoch 2/100\n",
      "14/14 [==============================] - 13s 947ms/step - loss: 0.4464 - masked_acc: 0.7344 - masked_auc: 0.7215 - val_loss: 0.4438 - val_masked_acc: 0.7501 - val_masked_auc: 0.7663\n",
      "Epoch 3/100\n",
      "14/14 [==============================] - 13s 932ms/step - loss: 0.4095 - masked_acc: 0.7542 - masked_auc: 0.7771 - val_loss: 0.4385 - val_masked_acc: 0.7620 - val_masked_auc: 0.7949\n",
      "Epoch 4/100\n",
      "14/14 [==============================] - 13s 945ms/step - loss: 0.4046 - masked_acc: 0.7640 - masked_auc: 0.7999 - val_loss: 0.4355 - val_masked_acc: 0.7685 - val_masked_auc: 0.8091\n",
      "Epoch 5/100\n",
      "14/14 [==============================] - 13s 909ms/step - loss: 0.3971 - masked_acc: 0.7700 - masked_auc: 0.8124 - val_loss: 0.4324 - val_masked_acc: 0.7728 - val_masked_auc: 0.8182\n",
      "Epoch 6/100\n",
      "14/14 [==============================] - 13s 966ms/step - loss: 0.4046 - masked_acc: 0.7734 - masked_auc: 0.8200 - val_loss: 0.4298 - val_masked_acc: 0.7761 - val_masked_auc: 0.8247\n",
      "Epoch 7/100\n",
      "14/14 [==============================] - 13s 946ms/step - loss: 0.3982 - masked_acc: 0.7766 - masked_auc: 0.8260 - val_loss: 0.4310 - val_masked_acc: 0.7785 - val_masked_auc: 0.8296\n",
      "Epoch 8/100\n",
      "14/14 [==============================] - 16s 1s/step - loss: 0.3873 - masked_acc: 0.7791 - masked_auc: 0.8308 - val_loss: 0.4280 - val_masked_acc: 0.7807 - val_masked_auc: 0.8336\n",
      "Epoch 9/100\n",
      "14/14 [==============================] - 15s 1s/step - loss: 0.3936 - masked_acc: 0.7811 - masked_auc: 0.8347 - val_loss: 0.4324 - val_masked_acc: 0.7825 - val_masked_auc: 0.8369\n",
      "Epoch 10/100\n",
      "14/14 [==============================] - 13s 953ms/step - loss: 0.3804 - masked_acc: 0.7831 - masked_auc: 0.8379 - val_loss: 0.4282 - val_masked_acc: 0.7842 - val_masked_auc: 0.8397\n",
      "Epoch 11/100\n",
      "14/14 [==============================] - 14s 973ms/step - loss: 0.3875 - masked_acc: 0.7844 - masked_auc: 0.8403 - val_loss: 0.4278 - val_masked_acc: 0.7857 - val_masked_auc: 0.8422\n",
      "Epoch 12/100\n",
      "14/14 [==============================] - 13s 937ms/step - loss: 0.3797 - masked_acc: 0.7860 - masked_auc: 0.8430 - val_loss: 0.4268 - val_masked_acc: 0.7871 - val_masked_auc: 0.8446\n",
      "Epoch 13/100\n",
      "14/14 [==============================] - 14s 976ms/step - loss: 0.3691 - masked_acc: 0.7875 - masked_auc: 0.8453 - val_loss: 0.4304 - val_masked_acc: 0.7884 - val_masked_auc: 0.8467\n",
      "Epoch 14/100\n",
      "14/14 [==============================] - 13s 958ms/step - loss: 0.3760 - masked_acc: 0.7887 - masked_auc: 0.8473 - val_loss: 0.4347 - val_masked_acc: 0.7896 - val_masked_auc: 0.8486\n",
      "Epoch 15/100\n",
      "14/14 [==============================] - 13s 930ms/step - loss: 0.3681 - masked_acc: 0.7900 - masked_auc: 0.8491 - val_loss: 0.4326 - val_masked_acc: 0.7908 - val_masked_auc: 0.8504\n",
      "Epoch 16/100\n",
      "14/14 [==============================] - 13s 944ms/step - loss: 0.3627 - masked_acc: 0.7911 - masked_auc: 0.8509 - val_loss: 0.4391 - val_masked_acc: 0.7918 - val_masked_auc: 0.8520\n",
      "Epoch 17/100\n",
      "14/14 [==============================] - 13s 957ms/step - loss: 0.3690 - masked_acc: 0.7920 - masked_auc: 0.8524 - val_loss: 0.4338 - val_masked_acc: 0.7928 - val_masked_auc: 0.8535\n",
      "Epoch 18/100\n",
      "14/14 [==============================] - 13s 961ms/step - loss: 0.3566 - masked_acc: 0.7932 - masked_auc: 0.8540 - val_loss: 0.4385 - val_masked_acc: 0.7938 - val_masked_auc: 0.8550\n",
      "Epoch 19/100\n",
      "14/14 [==============================] - 13s 961ms/step - loss: 0.3594 - masked_acc: 0.7941 - masked_auc: 0.8555 - val_loss: 0.4412 - val_masked_acc: 0.7948 - val_masked_auc: 0.8565\n",
      "Epoch 20/100\n",
      "14/14 [==============================] - 14s 973ms/step - loss: 0.3522 - masked_acc: 0.7951 - masked_auc: 0.8570 - val_loss: 0.4441 - val_masked_acc: 0.7958 - val_masked_auc: 0.8579\n",
      "Epoch 21/100\n",
      "14/14 [==============================] - 13s 965ms/step - loss: 0.3493 - masked_acc: 0.7961 - masked_auc: 0.8584 - val_loss: 0.4526 - val_masked_acc: 0.7968 - val_masked_auc: 0.8594\n",
      "Epoch 22/100\n",
      "14/14 [==============================] - 13s 963ms/step - loss: 0.3460 - masked_acc: 0.7971 - masked_auc: 0.8599 - val_loss: 0.4517 - val_masked_acc: 0.7978 - val_masked_auc: 0.8608\n",
      "28/28 [==============================] - 4s 153ms/step - loss: 0.3375 - masked_acc: 0.7985 - masked_auc: 0.8617\n",
      "4/4 [==============================] - 1s 134ms/step - loss: 0.4196 - masked_acc: 0.7989 - masked_auc: 0.8624\n",
      "Test:  [0.41962742805480957, 0.7988718152046204, 0.8623529672622681]\n",
      "Epoch 1/100\n",
      "14/14 [==============================] - 26s 1s/step - loss: 0.5981 - masked_acc: 0.6027 - masked_auc: 0.5482 - val_loss: 0.5347 - val_masked_acc: 0.6977 - val_masked_auc: 0.6315\n",
      "Epoch 2/100\n",
      "14/14 [==============================] - 14s 978ms/step - loss: 0.4864 - masked_acc: 0.7058 - masked_auc: 0.6621 - val_loss: 0.4534 - val_masked_acc: 0.7276 - val_masked_auc: 0.7206\n",
      "Epoch 3/100\n",
      "14/14 [==============================] - 14s 983ms/step - loss: 0.4213 - masked_acc: 0.7340 - masked_auc: 0.7379 - val_loss: 0.4361 - val_masked_acc: 0.7458 - val_masked_auc: 0.7658\n",
      "Epoch 4/100\n",
      "14/14 [==============================] - 14s 968ms/step - loss: 0.4101 - masked_acc: 0.7493 - masked_auc: 0.7739 - val_loss: 0.4320 - val_masked_acc: 0.7561 - val_masked_auc: 0.7885\n",
      "Epoch 5/100\n",
      "14/14 [==============================] - 14s 994ms/step - loss: 0.4062 - masked_acc: 0.7582 - masked_auc: 0.7931 - val_loss: 0.4331 - val_masked_acc: 0.7625 - val_masked_auc: 0.8017\n",
      "Epoch 6/100\n",
      "14/14 [==============================] - 14s 980ms/step - loss: 0.4076 - masked_acc: 0.7636 - masked_auc: 0.8045 - val_loss: 0.4285 - val_masked_acc: 0.7669 - val_masked_auc: 0.8107\n",
      "Epoch 7/100\n",
      "14/14 [==============================] - 14s 1s/step - loss: 0.3965 - masked_acc: 0.7680 - masked_auc: 0.8129 - val_loss: 0.4244 - val_masked_acc: 0.7704 - val_masked_auc: 0.8175\n",
      "Epoch 8/100\n",
      "14/14 [==============================] - 14s 983ms/step - loss: 0.4010 - masked_acc: 0.7711 - masked_auc: 0.8191 - val_loss: 0.4288 - val_masked_acc: 0.7732 - val_masked_auc: 0.8227\n",
      "Epoch 9/100\n",
      "14/14 [==============================] - 13s 960ms/step - loss: 0.3891 - masked_acc: 0.7739 - masked_auc: 0.8241 - val_loss: 0.4274 - val_masked_acc: 0.7754 - val_masked_auc: 0.8268\n",
      "Epoch 10/100\n",
      "14/14 [==============================] - 14s 993ms/step - loss: 0.3912 - masked_acc: 0.7760 - masked_auc: 0.8279 - val_loss: 0.4230 - val_masked_acc: 0.7774 - val_masked_auc: 0.8304\n",
      "Epoch 11/100\n",
      "14/14 [==============================] - 13s 923ms/step - loss: 0.3957 - masked_acc: 0.7778 - masked_auc: 0.8313 - val_loss: 0.4232 - val_masked_acc: 0.7792 - val_masked_auc: 0.8336\n",
      "Epoch 12/100\n",
      "14/14 [==============================] - 14s 1s/step - loss: 0.3886 - masked_acc: 0.7796 - masked_auc: 0.8343 - val_loss: 0.4206 - val_masked_acc: 0.7809 - val_masked_auc: 0.8364\n",
      "Epoch 13/100\n",
      "14/14 [==============================] - 13s 964ms/step - loss: 0.3815 - masked_acc: 0.7814 - masked_auc: 0.8373 - val_loss: 0.4192 - val_masked_acc: 0.7825 - val_masked_auc: 0.8390\n",
      "Epoch 14/100\n",
      "14/14 [==============================] - 13s 942ms/step - loss: 0.3736 - masked_acc: 0.7830 - masked_auc: 0.8399 - val_loss: 0.4228 - val_masked_acc: 0.7839 - val_masked_auc: 0.8413\n",
      "Epoch 15/100\n",
      "14/14 [==============================] - 14s 998ms/step - loss: 0.3709 - masked_acc: 0.7843 - masked_auc: 0.8420 - val_loss: 0.4249 - val_masked_acc: 0.7852 - val_masked_auc: 0.8434\n",
      "Epoch 16/100\n",
      "14/14 [==============================] - 13s 947ms/step - loss: 0.3716 - masked_acc: 0.7855 - masked_auc: 0.8441 - val_loss: 0.4201 - val_masked_acc: 0.7865 - val_masked_auc: 0.8454\n",
      "Epoch 17/100\n",
      "14/14 [==============================] - 14s 1s/step - loss: 0.3666 - masked_acc: 0.7869 - masked_auc: 0.8461 - val_loss: 0.4238 - val_masked_acc: 0.7877 - val_masked_auc: 0.8473\n",
      "Epoch 18/100\n",
      "14/14 [==============================] - 14s 972ms/step - loss: 0.3718 - masked_acc: 0.7880 - masked_auc: 0.8478 - val_loss: 0.4252 - val_masked_acc: 0.7888 - val_masked_auc: 0.8491\n",
      "Epoch 19/100\n",
      "14/14 [==============================] - 13s 946ms/step - loss: 0.3651 - masked_acc: 0.7891 - masked_auc: 0.8496 - val_loss: 0.4250 - val_masked_acc: 0.7900 - val_masked_auc: 0.8508\n",
      "Epoch 20/100\n",
      "14/14 [==============================] - 14s 989ms/step - loss: 0.3501 - masked_acc: 0.7904 - masked_auc: 0.8513 - val_loss: 0.4284 - val_masked_acc: 0.7910 - val_masked_auc: 0.8524\n",
      "Epoch 21/100\n",
      "14/14 [==============================] - 13s 935ms/step - loss: 0.3516 - masked_acc: 0.7914 - masked_auc: 0.8530 - val_loss: 0.4347 - val_masked_acc: 0.7921 - val_masked_auc: 0.8539\n",
      "Epoch 22/100\n",
      "14/14 [==============================] - 13s 969ms/step - loss: 0.3524 - masked_acc: 0.7924 - masked_auc: 0.8544 - val_loss: 0.4302 - val_masked_acc: 0.7931 - val_masked_auc: 0.8554\n",
      "Epoch 23/100\n",
      "14/14 [==============================] - 13s 927ms/step - loss: 0.3471 - masked_acc: 0.7935 - masked_auc: 0.8560 - val_loss: 0.4361 - val_masked_acc: 0.7941 - val_masked_auc: 0.8569\n",
      "28/28 [==============================] - 4s 157ms/step - loss: 0.3419 - masked_acc: 0.7949 - masked_auc: 0.8579\n",
      "4/4 [==============================] - 1s 139ms/step - loss: 0.4023 - masked_acc: 0.7952 - masked_auc: 0.8585\n",
      "Test:  [0.4022890329360962, 0.795231819152832, 0.8584883213043213]\n",
      "Epoch 1/100\n",
      "14/14 [==============================] - 26s 1s/step - loss: 0.5807 - masked_acc: 0.6250 - masked_auc: 0.5563 - val_loss: 0.4820 - val_masked_acc: 0.7116 - val_masked_auc: 0.6800\n",
      "Epoch 2/100\n",
      "14/14 [==============================] - 14s 972ms/step - loss: 0.4630 - masked_acc: 0.7209 - masked_auc: 0.7078 - val_loss: 0.4154 - val_masked_acc: 0.7417 - val_masked_auc: 0.7581\n",
      "Epoch 3/100\n",
      "14/14 [==============================] - 13s 964ms/step - loss: 0.4149 - masked_acc: 0.7474 - masked_auc: 0.7707 - val_loss: 0.4140 - val_masked_acc: 0.7567 - val_masked_auc: 0.7902\n",
      "Epoch 4/100\n",
      "14/14 [==============================] - 13s 932ms/step - loss: 0.4096 - masked_acc: 0.7590 - masked_auc: 0.7955 - val_loss: 0.4037 - val_masked_acc: 0.7647 - val_masked_auc: 0.8062\n",
      "Epoch 5/100\n",
      "14/14 [==============================] - 13s 950ms/step - loss: 0.3983 - masked_acc: 0.7666 - masked_auc: 0.8098 - val_loss: 0.4007 - val_masked_acc: 0.7700 - val_masked_auc: 0.8163\n",
      "Epoch 6/100\n",
      "14/14 [==============================] - 14s 976ms/step - loss: 0.3992 - masked_acc: 0.7710 - masked_auc: 0.8186 - val_loss: 0.3970 - val_masked_acc: 0.7738 - val_masked_auc: 0.8233\n",
      "Epoch 7/100\n",
      "14/14 [==============================] - 14s 962ms/step - loss: 0.3908 - masked_acc: 0.7748 - masked_auc: 0.8251 - val_loss: 0.3966 - val_masked_acc: 0.7768 - val_masked_auc: 0.8288\n",
      "Epoch 8/100\n",
      "14/14 [==============================] - 13s 939ms/step - loss: 0.3932 - masked_acc: 0.7774 - masked_auc: 0.8301 - val_loss: 0.3922 - val_masked_acc: 0.7793 - val_masked_auc: 0.8332\n",
      "Epoch 9/100\n",
      "14/14 [==============================] - 13s 959ms/step - loss: 0.3863 - masked_acc: 0.7799 - masked_auc: 0.8344 - val_loss: 0.3929 - val_masked_acc: 0.7815 - val_masked_auc: 0.8369\n",
      "Epoch 10/100\n",
      "14/14 [==============================] - 14s 1s/step - loss: 0.3804 - masked_acc: 0.7822 - masked_auc: 0.8379 - val_loss: 0.3937 - val_masked_acc: 0.7834 - val_masked_auc: 0.8399\n",
      "Epoch 11/100\n",
      "14/14 [==============================] - 14s 974ms/step - loss: 0.3896 - masked_acc: 0.7837 - masked_auc: 0.8406 - val_loss: 0.3924 - val_masked_acc: 0.7849 - val_masked_auc: 0.8424\n",
      "Epoch 12/100\n",
      "14/14 [==============================] - 14s 1s/step - loss: 0.3842 - masked_acc: 0.7853 - masked_auc: 0.8431 - val_loss: 0.3890 - val_masked_acc: 0.7865 - val_masked_auc: 0.8448\n",
      "Epoch 13/100\n",
      "14/14 [==============================] - 13s 964ms/step - loss: 0.3706 - masked_acc: 0.7869 - masked_auc: 0.8456 - val_loss: 0.3908 - val_masked_acc: 0.7879 - val_masked_auc: 0.8471\n",
      "Epoch 14/100\n",
      "14/14 [==============================] - 13s 961ms/step - loss: 0.3737 - masked_acc: 0.7883 - masked_auc: 0.8477 - val_loss: 0.3897 - val_masked_acc: 0.7892 - val_masked_auc: 0.8491\n",
      "Epoch 15/100\n",
      "14/14 [==============================] - 14s 993ms/step - loss: 0.3761 - masked_acc: 0.7895 - masked_auc: 0.8496 - val_loss: 0.3935 - val_masked_acc: 0.7904 - val_masked_auc: 0.8510\n",
      "Epoch 16/100\n",
      "14/14 [==============================] - 13s 959ms/step - loss: 0.3746 - masked_acc: 0.7907 - masked_auc: 0.8514 - val_loss: 0.3901 - val_masked_acc: 0.7916 - val_masked_auc: 0.8527\n",
      "Epoch 17/100\n",
      "14/14 [==============================] - 14s 997ms/step - loss: 0.3627 - masked_acc: 0.7919 - masked_auc: 0.8532 - val_loss: 0.3952 - val_masked_acc: 0.7927 - val_masked_auc: 0.8543\n",
      "Epoch 18/100\n",
      "14/14 [==============================] - 13s 964ms/step - loss: 0.3622 - masked_acc: 0.7930 - masked_auc: 0.8548 - val_loss: 0.3965 - val_masked_acc: 0.7937 - val_masked_auc: 0.8558\n",
      "Epoch 19/100\n",
      "14/14 [==============================] - 14s 1s/step - loss: 0.3660 - masked_acc: 0.7939 - masked_auc: 0.8562 - val_loss: 0.3951 - val_masked_acc: 0.7946 - val_masked_auc: 0.8572\n",
      "Epoch 20/100\n",
      "14/14 [==============================] - 13s 960ms/step - loss: 0.3611 - masked_acc: 0.7949 - masked_auc: 0.8575 - val_loss: 0.4015 - val_masked_acc: 0.7955 - val_masked_auc: 0.8585\n",
      "Epoch 21/100\n",
      "14/14 [==============================] - 14s 970ms/step - loss: 0.3544 - masked_acc: 0.7958 - masked_auc: 0.8590 - val_loss: 0.4015 - val_masked_acc: 0.7965 - val_masked_auc: 0.8599\n",
      "Epoch 22/100\n",
      "14/14 [==============================] - 14s 991ms/step - loss: 0.3503 - masked_acc: 0.7968 - masked_auc: 0.8603 - val_loss: 0.4093 - val_masked_acc: 0.7975 - val_masked_auc: 0.8613\n",
      "28/28 [==============================] - 5s 163ms/step - loss: 0.3413 - masked_acc: 0.7982 - masked_auc: 0.8622\n",
      "4/4 [==============================] - 1s 145ms/step - loss: 0.4210 - masked_acc: 0.7985 - masked_auc: 0.8628\n",
      "Test:  [0.42097437381744385, 0.7985260486602783, 0.862767219543457]\n",
      "Epoch 1/100\n",
      "14/14 [==============================] - 26s 1s/step - loss: 0.5974 - masked_acc: 0.5504 - masked_auc: 0.5360 - val_loss: 0.4856 - val_masked_acc: 0.6854 - val_masked_auc: 0.6370\n",
      "Epoch 2/100\n",
      "14/14 [==============================] - 14s 972ms/step - loss: 0.4941 - masked_acc: 0.6903 - masked_auc: 0.6641 - val_loss: 0.4160 - val_masked_acc: 0.7149 - val_masked_auc: 0.7212\n",
      "Epoch 3/100\n",
      "14/14 [==============================] - 14s 1s/step - loss: 0.4337 - masked_acc: 0.7218 - masked_auc: 0.7377 - val_loss: 0.3961 - val_masked_acc: 0.7363 - val_masked_auc: 0.7653\n",
      "Epoch 4/100\n",
      "14/14 [==============================] - 13s 966ms/step - loss: 0.4112 - masked_acc: 0.7406 - masked_auc: 0.7734 - val_loss: 0.3899 - val_masked_acc: 0.7486 - val_masked_auc: 0.7876\n",
      "Epoch 5/100\n",
      "14/14 [==============================] - 14s 980ms/step - loss: 0.4141 - masked_acc: 0.7509 - masked_auc: 0.7923 - val_loss: 0.3872 - val_masked_acc: 0.7565 - val_masked_auc: 0.8011\n",
      "Epoch 6/100\n",
      "14/14 [==============================] - 14s 975ms/step - loss: 0.4084 - masked_acc: 0.7581 - masked_auc: 0.8042 - val_loss: 0.3883 - val_masked_acc: 0.7621 - val_masked_auc: 0.8103\n",
      "Epoch 7/100\n",
      "14/14 [==============================] - 14s 983ms/step - loss: 0.4079 - masked_acc: 0.7631 - masked_auc: 0.8123 - val_loss: 0.3867 - val_masked_acc: 0.7662 - val_masked_auc: 0.8168\n",
      "Epoch 8/100\n",
      "14/14 [==============================] - 14s 969ms/step - loss: 0.4016 - masked_acc: 0.7671 - masked_auc: 0.8184 - val_loss: 0.3844 - val_masked_acc: 0.7694 - val_masked_auc: 0.8219\n",
      "Epoch 9/100\n",
      "14/14 [==============================] - 14s 993ms/step - loss: 0.4011 - masked_acc: 0.7701 - masked_auc: 0.8232 - val_loss: 0.3829 - val_masked_acc: 0.7721 - val_masked_auc: 0.8262\n",
      "Epoch 10/100\n",
      "14/14 [==============================] - 14s 981ms/step - loss: 0.3975 - masked_acc: 0.7727 - masked_auc: 0.8272 - val_loss: 0.3821 - val_masked_acc: 0.7745 - val_masked_auc: 0.8299\n",
      "Epoch 11/100\n",
      "14/14 [==============================] - 14s 969ms/step - loss: 0.3899 - masked_acc: 0.7750 - masked_auc: 0.8309 - val_loss: 0.3818 - val_masked_acc: 0.7765 - val_masked_auc: 0.8331\n",
      "Epoch 12/100\n",
      "14/14 [==============================] - 14s 1s/step - loss: 0.3855 - masked_acc: 0.7771 - masked_auc: 0.8340 - val_loss: 0.3826 - val_masked_acc: 0.7784 - val_masked_auc: 0.8358\n",
      "Epoch 13/100\n",
      "14/14 [==============================] - 14s 978ms/step - loss: 0.3882 - masked_acc: 0.7788 - masked_auc: 0.8367 - val_loss: 0.3810 - val_masked_acc: 0.7801 - val_masked_auc: 0.8384\n",
      "Epoch 14/100\n",
      "14/14 [==============================] - 14s 1s/step - loss: 0.3884 - masked_acc: 0.7804 - masked_auc: 0.8390 - val_loss: 0.3806 - val_masked_acc: 0.7818 - val_masked_auc: 0.8407\n",
      "Epoch 15/100\n",
      "14/14 [==============================] - 13s 960ms/step - loss: 0.3832 - masked_acc: 0.7821 - masked_auc: 0.8414 - val_loss: 0.3817 - val_masked_acc: 0.7832 - val_masked_auc: 0.8429\n",
      "Epoch 16/100\n",
      "14/14 [==============================] - 13s 964ms/step - loss: 0.3797 - masked_acc: 0.7836 - masked_auc: 0.8435 - val_loss: 0.3827 - val_masked_acc: 0.7846 - val_masked_auc: 0.8448\n",
      "Epoch 17/100\n",
      "14/14 [==============================] - 14s 999ms/step - loss: 0.3764 - masked_acc: 0.7849 - masked_auc: 0.8454 - val_loss: 0.3815 - val_masked_acc: 0.7859 - val_masked_auc: 0.8466\n",
      "Epoch 18/100\n",
      "14/14 [==============================] - 13s 946ms/step - loss: 0.3703 - masked_acc: 0.7862 - masked_auc: 0.8472 - val_loss: 0.3874 - val_masked_acc: 0.7871 - val_masked_auc: 0.8484\n",
      "Epoch 19/100\n",
      "14/14 [==============================] - 14s 978ms/step - loss: 0.3652 - masked_acc: 0.7875 - masked_auc: 0.8489 - val_loss: 0.3953 - val_masked_acc: 0.7883 - val_masked_auc: 0.8500\n",
      "Epoch 20/100\n",
      "14/14 [==============================] - 13s 964ms/step - loss: 0.3682 - masked_acc: 0.7886 - masked_auc: 0.8505 - val_loss: 0.3970 - val_masked_acc: 0.7895 - val_masked_auc: 0.8516\n",
      "Epoch 21/100\n",
      "14/14 [==============================] - 14s 971ms/step - loss: 0.3538 - masked_acc: 0.7899 - masked_auc: 0.8522 - val_loss: 0.3959 - val_masked_acc: 0.7906 - val_masked_auc: 0.8532\n",
      "Epoch 22/100\n",
      "14/14 [==============================] - 13s 952ms/step - loss: 0.3582 - masked_acc: 0.7910 - masked_auc: 0.8537 - val_loss: 0.4041 - val_masked_acc: 0.7917 - val_masked_auc: 0.8547\n",
      "Epoch 23/100\n",
      "14/14 [==============================] - 13s 956ms/step - loss: 0.3511 - masked_acc: 0.7921 - masked_auc: 0.8551 - val_loss: 0.4099 - val_masked_acc: 0.7928 - val_masked_auc: 0.8562\n",
      "Epoch 24/100\n",
      "14/14 [==============================] - 14s 1s/step - loss: 0.3531 - masked_acc: 0.7931 - masked_auc: 0.8566 - val_loss: 0.4071 - val_masked_acc: 0.7939 - val_masked_auc: 0.8576\n",
      "28/28 [==============================] - 4s 159ms/step - loss: 0.3468 - masked_acc: 0.7946 - masked_auc: 0.8585\n",
      "4/4 [==============================] - 1s 147ms/step - loss: 0.4074 - masked_acc: 0.7949 - masked_auc: 0.8590\n",
      "Test:  [0.4073663055896759, 0.7949408888816833, 0.859030544757843]\n",
      "Epoch 1/100\n",
      "14/14 [==============================] - 26s 1s/step - loss: 0.5767 - masked_acc: 0.6711 - masked_auc: 0.5502 - val_loss: 0.4863 - val_masked_acc: 0.7201 - val_masked_auc: 0.6885\n",
      "Epoch 2/100\n",
      "14/14 [==============================] - 14s 974ms/step - loss: 0.4576 - masked_acc: 0.7284 - masked_auc: 0.7146 - val_loss: 0.4342 - val_masked_acc: 0.7453 - val_masked_auc: 0.7602\n",
      "Epoch 3/100\n",
      "14/14 [==============================] - 14s 1s/step - loss: 0.4163 - masked_acc: 0.7500 - masked_auc: 0.7722 - val_loss: 0.4283 - val_masked_acc: 0.7583 - val_masked_auc: 0.7908\n",
      "Epoch 4/100\n",
      "14/14 [==============================] - 13s 965ms/step - loss: 0.4070 - masked_acc: 0.7609 - masked_auc: 0.7963 - val_loss: 0.4235 - val_masked_acc: 0.7658 - val_masked_auc: 0.8064\n",
      "Epoch 5/100\n",
      "14/14 [==============================] - 14s 976ms/step - loss: 0.4076 - masked_acc: 0.7673 - masked_auc: 0.8096 - val_loss: 0.4225 - val_masked_acc: 0.7707 - val_masked_auc: 0.8161\n",
      "Epoch 6/100\n",
      "14/14 [==============================] - 14s 976ms/step - loss: 0.4012 - masked_acc: 0.7718 - masked_auc: 0.8183 - val_loss: 0.4187 - val_masked_acc: 0.7743 - val_masked_auc: 0.8229\n",
      "Epoch 7/100\n",
      "14/14 [==============================] - 13s 964ms/step - loss: 0.3963 - masked_acc: 0.7752 - masked_auc: 0.8248 - val_loss: 0.4166 - val_masked_acc: 0.7771 - val_masked_auc: 0.8283\n",
      "Epoch 8/100\n",
      "14/14 [==============================] - 14s 986ms/step - loss: 0.3969 - masked_acc: 0.7778 - masked_auc: 0.8296 - val_loss: 0.4175 - val_masked_acc: 0.7795 - val_masked_auc: 0.8326\n",
      "Epoch 9/100\n",
      "14/14 [==============================] - 14s 988ms/step - loss: 0.3884 - masked_acc: 0.7801 - masked_auc: 0.8337 - val_loss: 0.4127 - val_masked_acc: 0.7817 - val_masked_auc: 0.8363\n",
      "Epoch 10/100\n",
      "14/14 [==============================] - 14s 985ms/step - loss: 0.3805 - masked_acc: 0.7823 - masked_auc: 0.8373 - val_loss: 0.4140 - val_masked_acc: 0.7836 - val_masked_auc: 0.8395\n",
      "Epoch 11/100\n",
      "14/14 [==============================] - 13s 946ms/step - loss: 0.3833 - masked_acc: 0.7840 - masked_auc: 0.8403 - val_loss: 0.4113 - val_masked_acc: 0.7853 - val_masked_auc: 0.8423\n",
      "Epoch 12/100\n",
      "14/14 [==============================] - 14s 1s/step - loss: 0.3829 - masked_acc: 0.7857 - masked_auc: 0.8431 - val_loss: 0.4153 - val_masked_acc: 0.7868 - val_masked_auc: 0.8447\n",
      "Epoch 13/100\n",
      "14/14 [==============================] - 14s 969ms/step - loss: 0.3819 - masked_acc: 0.7871 - masked_auc: 0.8454 - val_loss: 0.4132 - val_masked_acc: 0.7881 - val_masked_auc: 0.8469\n",
      "Epoch 14/100\n",
      "14/14 [==============================] - 14s 978ms/step - loss: 0.3717 - masked_acc: 0.7886 - masked_auc: 0.8476 - val_loss: 0.4138 - val_masked_acc: 0.7895 - val_masked_auc: 0.8489\n",
      "Epoch 15/100\n",
      "14/14 [==============================] - 14s 1s/step - loss: 0.3730 - masked_acc: 0.7898 - masked_auc: 0.8495 - val_loss: 0.4191 - val_masked_acc: 0.7906 - val_masked_auc: 0.8507\n",
      "Epoch 16/100\n",
      "14/14 [==============================] - 13s 955ms/step - loss: 0.3692 - masked_acc: 0.7909 - masked_auc: 0.8512 - val_loss: 0.4156 - val_masked_acc: 0.7917 - val_masked_auc: 0.8523\n",
      "Epoch 17/100\n",
      "14/14 [==============================] - 14s 995ms/step - loss: 0.3655 - masked_acc: 0.7920 - masked_auc: 0.8529 - val_loss: 0.4148 - val_masked_acc: 0.7928 - val_masked_auc: 0.8540\n",
      "Epoch 18/100\n",
      "14/14 [==============================] - 13s 964ms/step - loss: 0.3635 - masked_acc: 0.7931 - masked_auc: 0.8545 - val_loss: 0.4185 - val_masked_acc: 0.7938 - val_masked_auc: 0.8555\n",
      "Epoch 19/100\n",
      "14/14 [==============================] - 14s 1s/step - loss: 0.3588 - masked_acc: 0.7941 - masked_auc: 0.8560 - val_loss: 0.4231 - val_masked_acc: 0.7948 - val_masked_auc: 0.8570\n",
      "Epoch 20/100\n",
      "14/14 [==============================] - 13s 955ms/step - loss: 0.3639 - masked_acc: 0.7950 - masked_auc: 0.8574 - val_loss: 0.4260 - val_masked_acc: 0.7957 - val_masked_auc: 0.8583\n",
      "Epoch 21/100\n",
      "14/14 [==============================] - 13s 948ms/step - loss: 0.3541 - masked_acc: 0.7960 - masked_auc: 0.8587 - val_loss: 0.4242 - val_masked_acc: 0.7966 - val_masked_auc: 0.8596\n",
      "28/28 [==============================] - 5s 179ms/step - loss: 0.3475 - masked_acc: 0.7973 - masked_auc: 0.8605\n",
      "4/4 [==============================] - 1s 142ms/step - loss: 0.3898 - masked_acc: 0.7976 - masked_auc: 0.8611\n",
      "Test:  [0.3898344337940216, 0.7976406216621399, 0.8611134886741638]\n"
     ]
    }
   ],
   "source": [
    "# 5 fold cross validation with LSTM-based model\n",
    "import torch\n",
    "X = np.array(grouped_data.keys())\n",
    "kfold = KFold(n_splits=5, shuffle=True)\n",
    "train_losses = list()\n",
    "train_aucs = list()\n",
    "val_losses = list()\n",
    "val_aucs = list()\n",
    "train_eval = list()\n",
    "test_eval = list()\n",
    "for train, test in kfold.split(X):\n",
    "    users_train, users_test =  X[train], X[test]\n",
    "    n = len(users_test)//2\n",
    "    users_test, users_val = users_test[:n], users_test[n: ]\n",
    "    train_data_space = SPACE_DATASET(grouped_data[users_train], MAXLENGTH)\n",
    "    val_data_space = SPACE_DATASET(grouped_data[users_val], MAXLENGTH)\n",
    "    test_data_space = SPACE_DATASET(grouped_data[users_test], MAXLENGTH)\n",
    "    #construct training input\n",
    "    train_chapter=[]\n",
    "    train_sub_chapter=[]\n",
    "    train_question = []\n",
    "    train_features=[]\n",
    "    train_shifted_t = []\n",
    "    train_labels=[]\n",
    "    for i in range(len(users_train)):\n",
    "        user = train_data_space.__getitem__(i)\n",
    "        train_chapter.append(user[0])\n",
    "        train_sub_chapter.append(user[1]) \n",
    "        train_question.append(user[2])\n",
    "        train_features.append(user[3])\n",
    "        train_shifted_t.append(user[4])\n",
    "        train_labels.append(user[5])\n",
    "    train_chapter = np.array(train_chapter)\n",
    "    train_sub_chapter = np.array(train_sub_chapter)\n",
    "    train_question = np.array(train_question)\n",
    "    train_features = np.array(train_features)\n",
    "    train_shifted_t = np.array(train_shifted_t)\n",
    "    train_labels= np.array(train_labels)[..., np.newaxis]\n",
    "\n",
    "    #construct validation input\n",
    "    val_chapter=[]\n",
    "    val_sub_chapter=[]\n",
    "    val_question = []\n",
    "    val_features=[]\n",
    "    val_shifted_t = []\n",
    "    val_labels=[]\n",
    "    for i in range(len(users_val)):\n",
    "        user = val_data_space.__getitem__(i)\n",
    "        val_chapter.append(user[0])\n",
    "        val_sub_chapter.append(user[1]) \n",
    "        val_question.append(user[2])\n",
    "        val_features.append(user[3])\n",
    "        val_shifted_t.append(user[4])\n",
    "        val_labels.append(user[5])\n",
    "    val_chapter = np.array(val_chapter)\n",
    "    val_sub_chapter = np.array(val_sub_chapter)\n",
    "    val_features = np.array(val_features)\n",
    "    val_question = np.array(val_question)\n",
    "    val_shifted_t = np.array(val_shifted_t)\n",
    "    val_labels= np.array(val_labels)[..., np.newaxis]\n",
    "\n",
    "    # construct test input\n",
    "    test_chapter=[]\n",
    "    test_sub_chapter=[]\n",
    "    test_features=[]\n",
    "    test_question=[]\n",
    "    test_shifted_t = []\n",
    "    test_labels=[]\n",
    "    for i in range(len(users_test)):\n",
    "        user = test_data_space.__getitem__(i)\n",
    "        test_chapter.append(user[0])\n",
    "        test_sub_chapter.append(user[1]) \n",
    "        test_question.append(user[2])\n",
    "        test_features.append(user[3])\n",
    "        test_shifted_t.append(user[4])\n",
    "        test_labels.append(user[5])\n",
    "    test_chapter = np.array(test_chapter)\n",
    "    test_sub_chapter = np.array(test_sub_chapter)\n",
    "    test_features = np.array(test_features)\n",
    "    test_question = np.array(test_question)\n",
    "    test_shifted_t = np.array(test_shifted_t)\n",
    "    test_labels= np.array(test_labels)[..., np.newaxis]\n",
    "\n",
    "    # define loss function and evaluation metrics\n",
    "    bce = tf.keras.losses.BinaryCrossentropy(from_logits=True)\n",
    "    acc = tf.keras.metrics.Accuracy()\n",
    "    auc = tf.keras.metrics.AUC()\n",
    "\n",
    "    def masked_bce(y_true, y_pred):\n",
    "      flat_pred = y_pred\n",
    "      flat_ground_truth = y_true\n",
    "      label_mask = tf.math.not_equal(flat_ground_truth, -1)\n",
    "      return bce(flat_ground_truth, flat_pred, sample_weight=label_mask)\n",
    "\n",
    "    def masked_acc(y_true, y_pred):\n",
    "      flat_pred = y_pred\n",
    "      flat_ground_truth = y_true\n",
    "      flat_pred = (flat_pred >= 0.5)\n",
    "      label_mask = tf.math.not_equal(flat_ground_truth, -1)\n",
    "      return acc(flat_ground_truth, flat_pred, sample_weight=label_mask)\n",
    "\n",
    "    def masked_auc(y_true, y_pred):\n",
    "      flat_pred = y_pred\n",
    "      flat_ground_truth = y_true\n",
    "      label_mask = tf.math.not_equal(flat_ground_truth, -1)\n",
    "      return auc(flat_ground_truth, flat_pred, sample_weight=label_mask)\n",
    "\n",
    "    # input layer\n",
    "    input_chap = tf.keras.Input(shape=(MAXLENGTH))\n",
    "    input_sub_chap = tf.keras.Input(shape=(MAXLENGTH))\n",
    "    input_ques =  tf.keras.Input(shape=(MAXLENGTH))\n",
    "    input_shifted = tf.keras.Input(shape=(MAXLENGTH))\n",
    "    input_features = tf.keras.Input(shape=(MAXLENGTH, FEATURES_SIZE))\n",
    "\n",
    "    # embedding layer for categorical features\n",
    "    embedding_chap = Embedding(input_dim = CHAPTER_SIZE, output_dim = EMBEDDING_DIM)(input_chap)\n",
    "    embedding_sub_chap = Embedding(input_dim = SUB_CHAPTER_SIZE, output_dim = EMBEDDING_DIM)(input_sub_chap) \n",
    "    embedding_ques = Embedding(input_dim = QUESTION_SIZE, output_dim = EMBEDDING_DIM)(input_ques)       \n",
    "    embedding_shifted = Embedding(input_dim = 3, output_dim = EMBEDDING_DIM)(input_shifted)\n",
    "    # dense layer for numeric features\n",
    "    dense_features = Dense(EMBEDDING_DIM,input_shape = (None, MAXLENGTH))(input_features)\n",
    "\n",
    "    # definr LSTM layers\n",
    "    LSTM_chap = LSTM(LSTM_NEURON, input_shape = (None, EMBEDDING_DIM),return_sequences = True)(embedding_chap)\n",
    "    LSTM_sub_chap = LSTM(LSTM_NEURON, input_shape = (None, EMBEDDING_DIM),return_sequences = True)(embedding_sub_chap)\n",
    "    LSTM_ques = LSTM(LSTM_NEURON, input_shape = (None, EMBEDDING_DIM),return_sequences = True)(embedding_ques)\n",
    "    LSTM_shif = LSTM(LSTM_NEURON, input_shape = (None, EMBEDDING_DIM),return_sequences = True)(embedding_shifted)\n",
    "    LSTM_features = LSTM(LSTM_NEURON, input_shape = (None, EMBEDDING_DIM),return_sequences = True)(dense_features)\n",
    "\n",
    "    LSTM_output = tf.concat([LSTM_chap, LSTM_sub_chap, LSTM_ques,LSTM_shif, LSTM_features], axis = 2)\n",
    "\n",
    "    dense1 = Dense(256, input_shape = (None, 5*EMBEDDING_DIM), activation='relu')(LSTM_output)\n",
    "    dropout1 = Dropout(0.1)(dense1)\n",
    "    dense2 = Dense(64, input_shape = (None, 256), activation='relu')(dropout1)\n",
    "    dropout2 = Dropout(0.1)(dense2)\n",
    "    pred = Dense(1, input_shape = (None, 64), activation='sigmoid')(dropout2)\n",
    "\n",
    "    model = tf.keras.Model(\n",
    "        inputs=[input_chap, input_sub_chap,input_ques, input_shifted, input_features],\n",
    "        outputs=pred,\n",
    "        name='LSTM_model'\n",
    "    )\n",
    "\n",
    "    callback = tf.keras.callbacks.EarlyStopping(monitor='val_loss', patience=10)\n",
    "    opt_adam = Adam(learning_rate = 0.005)\n",
    "    model.compile(\n",
    "        optimizer=opt_adam,\n",
    "        loss= masked_bce,\n",
    "        metrics = [masked_acc, masked_auc]\n",
    "    )\n",
    "\n",
    "    history = model.fit(\n",
    "      [train_chapter, train_sub_chapter, train_question, train_shifted_t, train_features],\n",
    "      train_labels,\n",
    "      batch_size = 64,\n",
    "      epochs = 100,\n",
    "      validation_data=([val_chapter, val_sub_chapter, val_question, val_shifted_t, val_features], val_labels),\n",
    "      callbacks=[callback]\n",
    "    )\n",
    "    val_losses.append(list(history.history['val_loss']))\n",
    "    train_losses.append(list(history.history['loss']))\n",
    "    val_aucs.append(list(history.history['val_masked_auc']))\n",
    "    train_aucs.append(list(history.history['masked_auc']))\n",
    "    train_score = model.evaluate([train_chapter, train_sub_chapter, train_question, train_shifted_t, train_features], train_labels)\n",
    "    train_eval.append(train_score)\n",
    "    test_score = model.evaluate([test_chapter, test_sub_chapter, test_question, test_shifted_t, test_features], test_labels)\n",
    "    test_eval.append(test_score)\n",
    "    print(\"Test: \", test_score)\n",
    "    def reset_weights(model):\n",
    "      for layer in model.layers: \n",
    "        if isinstance(layer, tf.keras.Model):\n",
    "          reset_weights(layer)\n",
    "          continue\n",
    "        for k, initializer in layer.__dict__.items():\n",
    "          if \"initializer\" not in k:\n",
    "            continue\n",
    "          # find the corresponding variable\n",
    "          var = getattr(layer, k.replace(\"_initializer\", \"\"))\n",
    "          var.assign(initializer(var.shape, var.dtype))\n",
    "    reset_weights(model)"
   ]
  },
  {
   "cell_type": "code",
   "execution_count": 33,
   "metadata": {
    "execution": {
     "iopub.execute_input": "2021-08-08T14:42:35.915862Z",
     "iopub.status.busy": "2021-08-08T14:42:35.915066Z",
     "iopub.status.idle": "2021-08-08T14:42:35.919894Z",
     "shell.execute_reply": "2021-08-08T14:42:35.919225Z",
     "shell.execute_reply.started": "2021-08-06T21:35:33.922753Z"
    },
    "id": "QsVmumHMz3lx",
    "outputId": "4ff1e2fa-6abb-458e-c729-495b456f53e5",
    "papermill": {
     "duration": 1.065149,
     "end_time": "2021-08-08T14:42:35.920042",
     "exception": false,
     "start_time": "2021-08-08T14:42:34.854893",
     "status": "completed"
    },
    "tags": []
   },
   "outputs": [
    {
     "name": "stdout",
     "output_type": "stream",
     "text": [
      "test avg loss:  0.40801831483840945 +/- 0.011545858919564795\n",
      "test avg acc:  0.7970422387123108 +/- 0.00164926616102839\n",
      "test avg auc:  0.8607505083084106 +/- 0.001722934607408791\n"
     ]
    }
   ],
   "source": [
    "t_eval = np.array(test_eval)\n",
    "print(\"test avg loss: \", np.mean(t_eval[:, 0]), \"+/-\" ,np.std(t_eval[:, 0]))\n",
    "print(\"test avg acc: \", np.mean(t_eval[:, 1]),  \"+/-\" ,np.std(t_eval[:, 1]))\n",
    "print(\"test avg auc: \", np.mean(t_eval[:, 2]), \"+/-\" ,np.std(t_eval[:, 2]))"
   ]
  },
  {
   "cell_type": "code",
   "execution_count": 34,
   "metadata": {
    "execution": {
     "iopub.execute_input": "2021-08-08T14:42:37.868323Z",
     "iopub.status.busy": "2021-08-08T14:42:37.867492Z",
     "iopub.status.idle": "2021-08-08T14:42:37.874684Z",
     "shell.execute_reply": "2021-08-08T14:42:37.874074Z",
     "shell.execute_reply.started": "2021-08-06T21:35:33.935484Z"
    },
    "id": "b9MM_CXWz5K6",
    "outputId": "4cf88e1d-3a74-4e7d-f92c-d01522e91757",
    "papermill": {
     "duration": 0.981809,
     "end_time": "2021-08-08T14:42:37.874850",
     "exception": false,
     "start_time": "2021-08-08T14:42:36.893041",
     "status": "completed"
    },
    "tags": []
   },
   "outputs": [
    {
     "name": "stdout",
     "output_type": "stream",
     "text": [
      "train avg loss:  0.3429659366607666 +/- 0.003715977791569815\n",
      "train avg acc:  0.7967121124267578 +/- 0.0016537502420964306\n",
      "train avg auc:  0.860181987285614 +/- 0.0017272644156081356\n"
     ]
    }
   ],
   "source": [
    "t_eval = np.array(train_eval)\n",
    "print(\"train avg loss: \", np.mean(t_eval[:, 0]), \"+/-\" ,np.std(t_eval[:, 0]))\n",
    "print(\"train avg acc: \", np.mean(t_eval[:, 1]),  \"+/-\" ,np.std(t_eval[:, 1]))\n",
    "print(\"train avg auc: \", np.mean(t_eval[:, 2]), \"+/-\" ,np.std(t_eval[:, 2]))"
   ]
  }
 ],
 "metadata": {
  "kernelspec": {
   "display_name": "Python 3",
   "language": "python",
   "name": "python3"
  },
  "language_info": {
   "codemirror_mode": {
    "name": "ipython",
    "version": 3
   },
   "file_extension": ".py",
   "mimetype": "text/x-python",
   "name": "python",
   "nbconvert_exporter": "python",
   "pygments_lexer": "ipython3",
   "version": "3.8.5"
  },
  "papermill": {
   "default_parameters": {},
   "duration": 2132.222993,
   "end_time": "2021-08-08T14:42:41.875039",
   "environment_variables": {},
   "exception": null,
   "input_path": "__notebook__.ipynb",
   "output_path": "__notebook__.ipynb",
   "parameters": {},
   "start_time": "2021-08-08T14:07:09.652046",
   "version": "2.3.3"
  }
 },
 "nbformat": 4,
 "nbformat_minor": 5
}
