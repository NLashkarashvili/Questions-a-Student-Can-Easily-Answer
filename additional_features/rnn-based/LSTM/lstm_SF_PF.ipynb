{
 "cells": [
  {
   "cell_type": "code",
   "execution_count": 1,
   "metadata": {
    "execution": {
     "iopub.execute_input": "2021-08-08T15:28:20.988560Z",
     "iopub.status.busy": "2021-08-08T15:28:20.987412Z",
     "iopub.status.idle": "2021-08-08T15:28:27.355336Z",
     "shell.execute_reply": "2021-08-08T15:28:27.356068Z",
     "shell.execute_reply.started": "2021-08-06T20:58:20.355062Z"
    },
    "id": "farifxiKU1aB",
    "papermill": {
     "duration": 6.402983,
     "end_time": "2021-08-08T15:28:27.356368",
     "exception": false,
     "start_time": "2021-08-08T15:28:20.953385",
     "status": "completed"
    },
    "tags": []
   },
   "outputs": [],
   "source": [
    "import numpy as np\n",
    "import pandas as pd\n",
    "import warnings\n",
    "import gc\n",
    "import tensorflow as tf\n",
    "from tensorflow import keras\n",
    "\n",
    "import random\n",
    "from random import choice\n",
    "from tensorflow.keras.optimizers import Adam\n",
    "from tensorflow.keras.models import Sequential \n",
    "from tensorflow.keras.layers import Dense, LSTM, Concatenate, Embedding, Flatten, Activation, Dropout\n",
    "from sklearn.model_selection import KFold\n",
    "from tensorflow.python.client import device_lib\n",
    "warnings.filterwarnings('ignore')\n",
    "import random"
   ]
  },
  {
   "cell_type": "code",
   "execution_count": 2,
   "metadata": {
    "execution": {
     "iopub.execute_input": "2021-08-08T15:28:27.419819Z",
     "iopub.status.busy": "2021-08-08T15:28:27.419184Z",
     "iopub.status.idle": "2021-08-08T15:28:27.423470Z",
     "shell.execute_reply": "2021-08-08T15:28:27.422975Z",
     "shell.execute_reply.started": "2021-08-06T20:58:22.59473Z"
    },
    "id": "QOson70GPOXb",
    "papermill": {
     "duration": 0.035771,
     "end_time": "2021-08-08T15:28:27.423608",
     "exception": false,
     "start_time": "2021-08-08T15:28:27.387837",
     "status": "completed"
    },
    "tags": []
   },
   "outputs": [],
   "source": [
    "import gc"
   ]
  },
  {
   "cell_type": "markdown",
   "metadata": {
    "id": "BQsVybBH3VPw",
    "papermill": {
     "duration": 0.029379,
     "end_time": "2021-08-08T15:28:27.482477",
     "exception": false,
     "start_time": "2021-08-08T15:28:27.453098",
     "status": "completed"
    },
    "tags": []
   },
   "source": [
    "## Data Preprocessing"
   ]
  },
  {
   "cell_type": "code",
   "execution_count": 3,
   "metadata": {
    "execution": {
     "iopub.execute_input": "2021-08-08T15:28:27.547049Z",
     "iopub.status.busy": "2021-08-08T15:28:27.546370Z",
     "iopub.status.idle": "2021-08-08T15:28:34.026173Z",
     "shell.execute_reply": "2021-08-08T15:28:34.025614Z",
     "shell.execute_reply.started": "2021-08-06T20:58:22.601494Z"
    },
    "id": "rwtTusGxrmAE",
    "outputId": "1430f3cf-038b-485e-b5c4-c1686b1f34fd",
    "papermill": {
     "duration": 6.514049,
     "end_time": "2021-08-08T15:28:34.026324",
     "exception": false,
     "start_time": "2021-08-08T15:28:27.512275",
     "status": "completed"
    },
    "tags": []
   },
   "outputs": [
    {
     "data": {
      "text/html": [
       "<div>\n",
       "<style scoped>\n",
       "    .dataframe tbody tr th:only-of-type {\n",
       "        vertical-align: middle;\n",
       "    }\n",
       "\n",
       "    .dataframe tbody tr th {\n",
       "        vertical-align: top;\n",
       "    }\n",
       "\n",
       "    .dataframe thead th {\n",
       "        text-align: right;\n",
       "    }\n",
       "</style>\n",
       "<table border=\"1\" class=\"dataframe\">\n",
       "  <thead>\n",
       "    <tr style=\"text-align: right;\">\n",
       "      <th></th>\n",
       "      <th>Unnamed: 0</th>\n",
       "      <th>chapter_label</th>\n",
       "      <th>sub_chapter_label</th>\n",
       "      <th>question_name</th>\n",
       "      <th>user_id.x</th>\n",
       "      <th>term</th>\n",
       "      <th>STDNT_SEX_CD</th>\n",
       "      <th>NonNativeEnglish</th>\n",
       "      <th>White</th>\n",
       "      <th>Asian</th>\n",
       "      <th>...</th>\n",
       "      <th>classGraded</th>\n",
       "      <th>classHonors</th>\n",
       "      <th>Pass_Fail</th>\n",
       "      <th>parentsGraduateEdu</th>\n",
       "      <th>minorityGroup</th>\n",
       "      <th>q</th>\n",
       "      <th>day's_available_flashcards</th>\n",
       "      <th>start_practice</th>\n",
       "      <th>end_practice</th>\n",
       "      <th>days_offset</th>\n",
       "    </tr>\n",
       "  </thead>\n",
       "  <tbody>\n",
       "    <tr>\n",
       "      <th>0</th>\n",
       "      <td>1</td>\n",
       "      <td>Sort</td>\n",
       "      <td>intro-SortingwithSortandSorted</td>\n",
       "      <td>ee_sort_04</td>\n",
       "      <td>148</td>\n",
       "      <td>WN 2018</td>\n",
       "      <td>1</td>\n",
       "      <td>0</td>\n",
       "      <td>1</td>\n",
       "      <td>0</td>\n",
       "      <td>...</td>\n",
       "      <td>1</td>\n",
       "      <td>0</td>\n",
       "      <td>0</td>\n",
       "      <td>0</td>\n",
       "      <td>0</td>\n",
       "      <td>0</td>\n",
       "      <td>18</td>\n",
       "      <td>2018-03-04 20:00:19</td>\n",
       "      <td>2018-03-04 20:00:35</td>\n",
       "      <td>45</td>\n",
       "    </tr>\n",
       "    <tr>\n",
       "      <th>1</th>\n",
       "      <td>2</td>\n",
       "      <td>Functions</td>\n",
       "      <td>Returningavaluefromafunction</td>\n",
       "      <td>test_questionfunctions_2_3</td>\n",
       "      <td>148</td>\n",
       "      <td>WN 2018</td>\n",
       "      <td>1</td>\n",
       "      <td>0</td>\n",
       "      <td>1</td>\n",
       "      <td>0</td>\n",
       "      <td>...</td>\n",
       "      <td>1</td>\n",
       "      <td>0</td>\n",
       "      <td>0</td>\n",
       "      <td>0</td>\n",
       "      <td>0</td>\n",
       "      <td>4</td>\n",
       "      <td>16</td>\n",
       "      <td>2018-02-10 11:57:55</td>\n",
       "      <td>2018-02-10 11:58:35</td>\n",
       "      <td>23</td>\n",
       "    </tr>\n",
       "    <tr>\n",
       "      <th>2</th>\n",
       "      <td>3</td>\n",
       "      <td>RESTAPIs</td>\n",
       "      <td>functionswithrestapis</td>\n",
       "      <td>test_question_functions_rest_apis_1</td>\n",
       "      <td>148</td>\n",
       "      <td>WN 2018</td>\n",
       "      <td>1</td>\n",
       "      <td>0</td>\n",
       "      <td>1</td>\n",
       "      <td>0</td>\n",
       "      <td>...</td>\n",
       "      <td>1</td>\n",
       "      <td>0</td>\n",
       "      <td>0</td>\n",
       "      <td>0</td>\n",
       "      <td>0</td>\n",
       "      <td>1</td>\n",
       "      <td>2</td>\n",
       "      <td>2018-03-12 17:03:07</td>\n",
       "      <td>2018-03-12 17:04:28</td>\n",
       "      <td>53</td>\n",
       "    </tr>\n",
       "    <tr>\n",
       "      <th>3</th>\n",
       "      <td>4</td>\n",
       "      <td>SimplePythonData</td>\n",
       "      <td>FunctionCalls</td>\n",
       "      <td>exercise_functionCalls_1</td>\n",
       "      <td>148</td>\n",
       "      <td>WN 2018</td>\n",
       "      <td>1</td>\n",
       "      <td>0</td>\n",
       "      <td>1</td>\n",
       "      <td>0</td>\n",
       "      <td>...</td>\n",
       "      <td>1</td>\n",
       "      <td>0</td>\n",
       "      <td>0</td>\n",
       "      <td>0</td>\n",
       "      <td>0</td>\n",
       "      <td>0</td>\n",
       "      <td>10</td>\n",
       "      <td>2018-01-30 14:15:49</td>\n",
       "      <td>2018-01-30 14:15:58</td>\n",
       "      <td>12</td>\n",
       "    </tr>\n",
       "    <tr>\n",
       "      <th>4</th>\n",
       "      <td>5</td>\n",
       "      <td>DictionaryAccumulation</td>\n",
       "      <td>AccumulatingaMaximumValue</td>\n",
       "      <td>ps_04_07</td>\n",
       "      <td>148</td>\n",
       "      <td>WN 2018</td>\n",
       "      <td>1</td>\n",
       "      <td>0</td>\n",
       "      <td>1</td>\n",
       "      <td>0</td>\n",
       "      <td>...</td>\n",
       "      <td>1</td>\n",
       "      <td>0</td>\n",
       "      <td>0</td>\n",
       "      <td>0</td>\n",
       "      <td>0</td>\n",
       "      <td>0</td>\n",
       "      <td>23</td>\n",
       "      <td>2018-03-03 14:04:17</td>\n",
       "      <td>2018-03-03 14:04:25</td>\n",
       "      <td>44</td>\n",
       "    </tr>\n",
       "  </tbody>\n",
       "</table>\n",
       "<p>5 rows × 48 columns</p>\n",
       "</div>"
      ],
      "text/plain": [
       "   Unnamed: 0           chapter_label               sub_chapter_label  \\\n",
       "0           1                    Sort  intro-SortingwithSortandSorted   \n",
       "1           2               Functions    Returningavaluefromafunction   \n",
       "2           3                RESTAPIs           functionswithrestapis   \n",
       "3           4        SimplePythonData                   FunctionCalls   \n",
       "4           5  DictionaryAccumulation       AccumulatingaMaximumValue   \n",
       "\n",
       "                         question_name  user_id.x     term  STDNT_SEX_CD  \\\n",
       "0                           ee_sort_04        148  WN 2018             1   \n",
       "1           test_questionfunctions_2_3        148  WN 2018             1   \n",
       "2  test_question_functions_rest_apis_1        148  WN 2018             1   \n",
       "3             exercise_functionCalls_1        148  WN 2018             1   \n",
       "4                             ps_04_07        148  WN 2018             1   \n",
       "\n",
       "   NonNativeEnglish  White  Asian  ...  classGraded  classHonors  Pass_Fail  \\\n",
       "0                 0      1      0  ...            1            0          0   \n",
       "1                 0      1      0  ...            1            0          0   \n",
       "2                 0      1      0  ...            1            0          0   \n",
       "3                 0      1      0  ...            1            0          0   \n",
       "4                 0      1      0  ...            1            0          0   \n",
       "\n",
       "   parentsGraduateEdu  minorityGroup  q  day's_available_flashcards  \\\n",
       "0                   0              0  0                          18   \n",
       "1                   0              0  4                          16   \n",
       "2                   0              0  1                           2   \n",
       "3                   0              0  0                          10   \n",
       "4                   0              0  0                          23   \n",
       "\n",
       "        start_practice         end_practice  days_offset  \n",
       "0  2018-03-04 20:00:19  2018-03-04 20:00:35           45  \n",
       "1  2018-02-10 11:57:55  2018-02-10 11:58:35           23  \n",
       "2  2018-03-12 17:03:07  2018-03-12 17:04:28           53  \n",
       "3  2018-01-30 14:15:49  2018-01-30 14:15:58           12  \n",
       "4  2018-03-03 14:04:17  2018-03-03 14:04:25           44  \n",
       "\n",
       "[5 rows x 48 columns]"
      ]
     },
     "execution_count": 3,
     "metadata": {},
     "output_type": "execute_result"
    }
   ],
   "source": [
    "# load the data\n",
    "import pandas as pd\n",
    "dataframe = pd.read_csv('../input/practice-log-demographics/Practice_Log_Demographics (1).csv', low_memory=False)\n",
    "dataframe.head()"
   ]
  },
  {
   "cell_type": "code",
   "execution_count": 4,
   "metadata": {
    "execution": {
     "iopub.execute_input": "2021-08-08T15:28:34.154424Z",
     "iopub.status.busy": "2021-08-08T15:28:34.153642Z",
     "iopub.status.idle": "2021-08-08T15:28:35.839159Z",
     "shell.execute_reply": "2021-08-08T15:28:35.838516Z",
     "shell.execute_reply.started": "2021-08-06T20:58:27.574031Z"
    },
    "id": "OCbHnEp_Vir0",
    "papermill": {
     "duration": 1.782122,
     "end_time": "2021-08-08T15:28:35.839312",
     "exception": false,
     "start_time": "2021-08-08T15:28:34.057190",
     "status": "completed"
    },
    "tags": []
   },
   "outputs": [],
   "source": [
    "#sort data based on timestamp\n",
    "dataframe = dataframe.sort_values(by=['start_practice']).reset_index(drop=True)"
   ]
  },
  {
   "cell_type": "code",
   "execution_count": 5,
   "metadata": {
    "execution": {
     "iopub.execute_input": "2021-08-08T15:28:35.914453Z",
     "iopub.status.busy": "2021-08-08T15:28:35.912980Z",
     "iopub.status.idle": "2021-08-08T15:28:36.280467Z",
     "shell.execute_reply": "2021-08-08T15:28:36.280976Z",
     "shell.execute_reply.started": "2021-08-06T20:58:29.303298Z"
    },
    "papermill": {
     "duration": 0.409575,
     "end_time": "2021-08-08T15:28:36.281158",
     "exception": false,
     "start_time": "2021-08-08T15:28:35.871583",
     "status": "completed"
    },
    "tags": []
   },
   "outputs": [
    {
     "data": {
      "text/html": [
       "<div>\n",
       "<style scoped>\n",
       "    .dataframe tbody tr th:only-of-type {\n",
       "        vertical-align: middle;\n",
       "    }\n",
       "\n",
       "    .dataframe tbody tr th {\n",
       "        vertical-align: top;\n",
       "    }\n",
       "\n",
       "    .dataframe thead th {\n",
       "        text-align: right;\n",
       "    }\n",
       "</style>\n",
       "<table border=\"1\" class=\"dataframe\">\n",
       "  <thead>\n",
       "    <tr style=\"text-align: right;\">\n",
       "      <th></th>\n",
       "      <th>Unnamed: 0</th>\n",
       "      <th>chapter_label</th>\n",
       "      <th>sub_chapter_label</th>\n",
       "      <th>question_name</th>\n",
       "      <th>user_id.x</th>\n",
       "      <th>term</th>\n",
       "      <th>STDNT_SEX_CD</th>\n",
       "      <th>NonNativeEnglish</th>\n",
       "      <th>White</th>\n",
       "      <th>Asian</th>\n",
       "      <th>...</th>\n",
       "      <th>classGraded</th>\n",
       "      <th>classHonors</th>\n",
       "      <th>Pass_Fail</th>\n",
       "      <th>parentsGraduateEdu</th>\n",
       "      <th>minorityGroup</th>\n",
       "      <th>q</th>\n",
       "      <th>day's_available_flashcards</th>\n",
       "      <th>start_practice</th>\n",
       "      <th>end_practice</th>\n",
       "      <th>days_offset</th>\n",
       "    </tr>\n",
       "  </thead>\n",
       "  <tbody>\n",
       "    <tr>\n",
       "      <th>0</th>\n",
       "      <td>434434</td>\n",
       "      <td>GeneralIntro</td>\n",
       "      <td>Syntaxerrors</td>\n",
       "      <td>question1_6_1</td>\n",
       "      <td>88</td>\n",
       "      <td>WN 2018</td>\n",
       "      <td>1</td>\n",
       "      <td>0</td>\n",
       "      <td>0</td>\n",
       "      <td>1</td>\n",
       "      <td>...</td>\n",
       "      <td>1</td>\n",
       "      <td>0</td>\n",
       "      <td>0</td>\n",
       "      <td>0</td>\n",
       "      <td>1</td>\n",
       "      <td>0</td>\n",
       "      <td>20</td>\n",
       "      <td>2018-01-18 15:50:08</td>\n",
       "      <td>2018-01-18 15:51:06</td>\n",
       "      <td>0</td>\n",
       "    </tr>\n",
       "    <tr>\n",
       "      <th>1</th>\n",
       "      <td>563728</td>\n",
       "      <td>GeneralIntro</td>\n",
       "      <td>Syntaxerrors</td>\n",
       "      <td>question1_6_1</td>\n",
       "      <td>290</td>\n",
       "      <td>WN 2018</td>\n",
       "      <td>1</td>\n",
       "      <td>0</td>\n",
       "      <td>1</td>\n",
       "      <td>0</td>\n",
       "      <td>...</td>\n",
       "      <td>1</td>\n",
       "      <td>0</td>\n",
       "      <td>0</td>\n",
       "      <td>1</td>\n",
       "      <td>0</td>\n",
       "      <td>0</td>\n",
       "      <td>20</td>\n",
       "      <td>2018-01-18 15:50:10</td>\n",
       "      <td>2018-01-18 15:50:21</td>\n",
       "      <td>0</td>\n",
       "    </tr>\n",
       "    <tr>\n",
       "      <th>2</th>\n",
       "      <td>204163</td>\n",
       "      <td>GeneralIntro</td>\n",
       "      <td>Syntaxerrors</td>\n",
       "      <td>question1_6_1</td>\n",
       "      <td>181</td>\n",
       "      <td>WN 2018</td>\n",
       "      <td>2</td>\n",
       "      <td>0</td>\n",
       "      <td>1</td>\n",
       "      <td>0</td>\n",
       "      <td>...</td>\n",
       "      <td>1</td>\n",
       "      <td>0</td>\n",
       "      <td>0</td>\n",
       "      <td>1</td>\n",
       "      <td>0</td>\n",
       "      <td>0</td>\n",
       "      <td>20</td>\n",
       "      <td>2018-01-18 15:50:12</td>\n",
       "      <td>2018-01-18 15:50:24</td>\n",
       "      <td>0</td>\n",
       "    </tr>\n",
       "    <tr>\n",
       "      <th>3</th>\n",
       "      <td>55154</td>\n",
       "      <td>GeneralIntro</td>\n",
       "      <td>Syntaxerrors</td>\n",
       "      <td>question1_6_1</td>\n",
       "      <td>146</td>\n",
       "      <td>WN 2018</td>\n",
       "      <td>1</td>\n",
       "      <td>1</td>\n",
       "      <td>0</td>\n",
       "      <td>1</td>\n",
       "      <td>...</td>\n",
       "      <td>1</td>\n",
       "      <td>0</td>\n",
       "      <td>0</td>\n",
       "      <td>0</td>\n",
       "      <td>1</td>\n",
       "      <td>0</td>\n",
       "      <td>20</td>\n",
       "      <td>2018-01-18 15:50:13</td>\n",
       "      <td>2018-01-18 15:50:49</td>\n",
       "      <td>0</td>\n",
       "    </tr>\n",
       "    <tr>\n",
       "      <th>4</th>\n",
       "      <td>269459</td>\n",
       "      <td>GeneralIntro</td>\n",
       "      <td>Syntaxerrors</td>\n",
       "      <td>question1_6_1</td>\n",
       "      <td>307</td>\n",
       "      <td>WN 2018</td>\n",
       "      <td>1</td>\n",
       "      <td>1</td>\n",
       "      <td>0</td>\n",
       "      <td>1</td>\n",
       "      <td>...</td>\n",
       "      <td>1</td>\n",
       "      <td>0</td>\n",
       "      <td>0</td>\n",
       "      <td>1</td>\n",
       "      <td>1</td>\n",
       "      <td>0</td>\n",
       "      <td>20</td>\n",
       "      <td>2018-01-18 15:50:14</td>\n",
       "      <td>2018-01-18 15:50:47</td>\n",
       "      <td>0</td>\n",
       "    </tr>\n",
       "    <tr>\n",
       "      <th>...</th>\n",
       "      <td>...</td>\n",
       "      <td>...</td>\n",
       "      <td>...</td>\n",
       "      <td>...</td>\n",
       "      <td>...</td>\n",
       "      <td>...</td>\n",
       "      <td>...</td>\n",
       "      <td>...</td>\n",
       "      <td>...</td>\n",
       "      <td>...</td>\n",
       "      <td>...</td>\n",
       "      <td>...</td>\n",
       "      <td>...</td>\n",
       "      <td>...</td>\n",
       "      <td>...</td>\n",
       "      <td>...</td>\n",
       "      <td>...</td>\n",
       "      <td>...</td>\n",
       "      <td>...</td>\n",
       "      <td>...</td>\n",
       "      <td>...</td>\n",
       "    </tr>\n",
       "    <tr>\n",
       "      <th>610787</th>\n",
       "      <td>257869</td>\n",
       "      <td>InternetAPIs</td>\n",
       "      <td>unicode</td>\n",
       "      <td>24_unicode_2</td>\n",
       "      <td>189</td>\n",
       "      <td>WN 2021</td>\n",
       "      <td>2</td>\n",
       "      <td>1</td>\n",
       "      <td>0</td>\n",
       "      <td>1</td>\n",
       "      <td>...</td>\n",
       "      <td>1</td>\n",
       "      <td>0</td>\n",
       "      <td>0</td>\n",
       "      <td>0</td>\n",
       "      <td>1</td>\n",
       "      <td>3</td>\n",
       "      <td>93</td>\n",
       "      <td>2021-04-28 14:09:32</td>\n",
       "      <td>2021-04-28 14:09:55</td>\n",
       "      <td>240</td>\n",
       "    </tr>\n",
       "    <tr>\n",
       "      <th>610788</th>\n",
       "      <td>175187</td>\n",
       "      <td>InternetAPIs</td>\n",
       "      <td>cachingResponses</td>\n",
       "      <td>restapis_caching_1</td>\n",
       "      <td>217</td>\n",
       "      <td>WN 2021</td>\n",
       "      <td>1</td>\n",
       "      <td>0</td>\n",
       "      <td>1</td>\n",
       "      <td>0</td>\n",
       "      <td>...</td>\n",
       "      <td>1</td>\n",
       "      <td>0</td>\n",
       "      <td>0</td>\n",
       "      <td>0</td>\n",
       "      <td>0</td>\n",
       "      <td>5</td>\n",
       "      <td>94</td>\n",
       "      <td>2021-04-28 16:24:39</td>\n",
       "      <td>2021-04-28 16:25:04</td>\n",
       "      <td>240</td>\n",
       "    </tr>\n",
       "    <tr>\n",
       "      <th>610789</th>\n",
       "      <td>383905</td>\n",
       "      <td>InternetAPIs</td>\n",
       "      <td>unicode</td>\n",
       "      <td>24_unicode_2</td>\n",
       "      <td>276</td>\n",
       "      <td>WN 2021</td>\n",
       "      <td>2</td>\n",
       "      <td>1</td>\n",
       "      <td>1</td>\n",
       "      <td>0</td>\n",
       "      <td>...</td>\n",
       "      <td>1</td>\n",
       "      <td>0</td>\n",
       "      <td>0</td>\n",
       "      <td>1</td>\n",
       "      <td>0</td>\n",
       "      <td>1</td>\n",
       "      <td>95</td>\n",
       "      <td>2021-04-28 17:05:46</td>\n",
       "      <td>2021-04-28 17:06:06</td>\n",
       "      <td>240</td>\n",
       "    </tr>\n",
       "    <tr>\n",
       "      <th>610790</th>\n",
       "      <td>383804</td>\n",
       "      <td>InternetAPIs</td>\n",
       "      <td>flickr</td>\n",
       "      <td>24_flickr_1</td>\n",
       "      <td>276</td>\n",
       "      <td>WN 2021</td>\n",
       "      <td>2</td>\n",
       "      <td>1</td>\n",
       "      <td>1</td>\n",
       "      <td>0</td>\n",
       "      <td>...</td>\n",
       "      <td>1</td>\n",
       "      <td>0</td>\n",
       "      <td>0</td>\n",
       "      <td>1</td>\n",
       "      <td>0</td>\n",
       "      <td>3</td>\n",
       "      <td>94</td>\n",
       "      <td>2021-04-28 17:06:06</td>\n",
       "      <td>2021-04-28 17:06:20</td>\n",
       "      <td>240</td>\n",
       "    </tr>\n",
       "    <tr>\n",
       "      <th>610791</th>\n",
       "      <td>159667</td>\n",
       "      <td>InternetAPIs</td>\n",
       "      <td>cachingResponses</td>\n",
       "      <td>restapis_caching_1</td>\n",
       "      <td>207</td>\n",
       "      <td>WN 2021</td>\n",
       "      <td>2</td>\n",
       "      <td>0</td>\n",
       "      <td>0</td>\n",
       "      <td>0</td>\n",
       "      <td>...</td>\n",
       "      <td>1</td>\n",
       "      <td>0</td>\n",
       "      <td>0</td>\n",
       "      <td>1</td>\n",
       "      <td>1</td>\n",
       "      <td>5</td>\n",
       "      <td>101</td>\n",
       "      <td>2021-04-28 17:07:28</td>\n",
       "      <td>2021-04-28 17:07:58</td>\n",
       "      <td>240</td>\n",
       "    </tr>\n",
       "  </tbody>\n",
       "</table>\n",
       "<p>610792 rows × 48 columns</p>\n",
       "</div>"
      ],
      "text/plain": [
       "        Unnamed: 0 chapter_label sub_chapter_label       question_name  \\\n",
       "0           434434  GeneralIntro      Syntaxerrors       question1_6_1   \n",
       "1           563728  GeneralIntro      Syntaxerrors       question1_6_1   \n",
       "2           204163  GeneralIntro      Syntaxerrors       question1_6_1   \n",
       "3            55154  GeneralIntro      Syntaxerrors       question1_6_1   \n",
       "4           269459  GeneralIntro      Syntaxerrors       question1_6_1   \n",
       "...            ...           ...               ...                 ...   \n",
       "610787      257869  InternetAPIs           unicode        24_unicode_2   \n",
       "610788      175187  InternetAPIs  cachingResponses  restapis_caching_1   \n",
       "610789      383905  InternetAPIs           unicode        24_unicode_2   \n",
       "610790      383804  InternetAPIs            flickr         24_flickr_1   \n",
       "610791      159667  InternetAPIs  cachingResponses  restapis_caching_1   \n",
       "\n",
       "        user_id.x     term  STDNT_SEX_CD  NonNativeEnglish  White  Asian  ...  \\\n",
       "0              88  WN 2018             1                 0      0      1  ...   \n",
       "1             290  WN 2018             1                 0      1      0  ...   \n",
       "2             181  WN 2018             2                 0      1      0  ...   \n",
       "3             146  WN 2018             1                 1      0      1  ...   \n",
       "4             307  WN 2018             1                 1      0      1  ...   \n",
       "...           ...      ...           ...               ...    ...    ...  ...   \n",
       "610787        189  WN 2021             2                 1      0      1  ...   \n",
       "610788        217  WN 2021             1                 0      1      0  ...   \n",
       "610789        276  WN 2021             2                 1      1      0  ...   \n",
       "610790        276  WN 2021             2                 1      1      0  ...   \n",
       "610791        207  WN 2021             2                 0      0      0  ...   \n",
       "\n",
       "        classGraded  classHonors  Pass_Fail  parentsGraduateEdu  \\\n",
       "0                 1            0          0                   0   \n",
       "1                 1            0          0                   1   \n",
       "2                 1            0          0                   1   \n",
       "3                 1            0          0                   0   \n",
       "4                 1            0          0                   1   \n",
       "...             ...          ...        ...                 ...   \n",
       "610787            1            0          0                   0   \n",
       "610788            1            0          0                   0   \n",
       "610789            1            0          0                   1   \n",
       "610790            1            0          0                   1   \n",
       "610791            1            0          0                   1   \n",
       "\n",
       "        minorityGroup  q  day's_available_flashcards       start_practice  \\\n",
       "0                   1  0                          20  2018-01-18 15:50:08   \n",
       "1                   0  0                          20  2018-01-18 15:50:10   \n",
       "2                   0  0                          20  2018-01-18 15:50:12   \n",
       "3                   1  0                          20  2018-01-18 15:50:13   \n",
       "4                   1  0                          20  2018-01-18 15:50:14   \n",
       "...               ... ..                         ...                  ...   \n",
       "610787              1  3                          93  2021-04-28 14:09:32   \n",
       "610788              0  5                          94  2021-04-28 16:24:39   \n",
       "610789              0  1                          95  2021-04-28 17:05:46   \n",
       "610790              0  3                          94  2021-04-28 17:06:06   \n",
       "610791              1  5                         101  2021-04-28 17:07:28   \n",
       "\n",
       "               end_practice  days_offset  \n",
       "0       2018-01-18 15:51:06            0  \n",
       "1       2018-01-18 15:50:21            0  \n",
       "2       2018-01-18 15:50:24            0  \n",
       "3       2018-01-18 15:50:49            0  \n",
       "4       2018-01-18 15:50:47            0  \n",
       "...                     ...          ...  \n",
       "610787  2021-04-28 14:09:55          240  \n",
       "610788  2021-04-28 16:25:04          240  \n",
       "610789  2021-04-28 17:06:06          240  \n",
       "610790  2021-04-28 17:06:20          240  \n",
       "610791  2021-04-28 17:07:58          240  \n",
       "\n",
       "[610792 rows x 48 columns]"
      ]
     },
     "execution_count": 5,
     "metadata": {},
     "output_type": "execute_result"
    }
   ],
   "source": [
    "dataframe"
   ]
  },
  {
   "cell_type": "code",
   "execution_count": 6,
   "metadata": {
    "execution": {
     "iopub.execute_input": "2021-08-08T15:28:36.350543Z",
     "iopub.status.busy": "2021-08-08T15:28:36.349849Z",
     "iopub.status.idle": "2021-08-08T15:28:36.351654Z",
     "shell.execute_reply": "2021-08-08T15:28:36.352246Z",
     "shell.execute_reply.started": "2021-08-06T20:58:29.673521Z"
    },
    "id": "0RvF7BvEr98o",
    "papermill": {
     "duration": 0.039911,
     "end_time": "2021-08-08T15:28:36.352418",
     "exception": false,
     "start_time": "2021-08-08T15:28:36.312507",
     "status": "completed"
    },
    "tags": []
   },
   "outputs": [],
   "source": [
    "FEATURES = ['chapter_label', 'sub_chapter_label','question_name','user_id','term',\n",
    "            'STDNT_SEX_CD', \n",
    "            'NonNativeEnglish',\n",
    "            'White',\n",
    "            'Asian',\n",
    "            'WhiteOrAsian',\n",
    "            'Hispanic',\n",
    "            'AfricanAmerican',\n",
    "            'OtherEthnicities',\n",
    "            'NonWhiteOrAsian',\n",
    "            'STDNT_CTZN_STAT_CD', 'international', \n",
    "            'gradingType',\n",
    "            'birthYear',\n",
    "            'exclClassCumGPA',\n",
    "            'Freshman',\n",
    "            'Junior',\n",
    "            'Sophomore',\n",
    "            'Senior',\n",
    "            'termCreditsGPA',\n",
    "            'termCreditsNoGPA',\n",
    "            'athlete_1',\n",
    "            'honorsPro',\n",
    "            'LSA', 'programBusiness', 'programEngineering', \n",
    "            'programInformation', 'programOther',\n",
    "            'HSCalculusTaken', \n",
    "            'highSchoolGPA', \n",
    "            'majorsCount', 'minorsCount',\n",
    "            'PREV_TERM_CUM_GPA',\n",
    "            'classGraded', 'classHonors', \n",
    "            'Pass_Fail', \n",
    "            'parentsGraduateEdu',  'minorityGroup', \n",
    "            'q',\n",
    "            'available_flashcards', \n",
    "            'start_practice', \n",
    "            'end_practice',\n",
    "            'days_offset']"
   ]
  },
  {
   "cell_type": "code",
   "execution_count": 7,
   "metadata": {
    "execution": {
     "iopub.execute_input": "2021-08-08T15:28:36.417296Z",
     "iopub.status.busy": "2021-08-08T15:28:36.416626Z",
     "iopub.status.idle": "2021-08-08T15:28:36.921221Z",
     "shell.execute_reply": "2021-08-08T15:28:36.921786Z",
     "shell.execute_reply.started": "2021-08-06T20:58:29.682425Z"
    },
    "id": "Mn341X7lSztl",
    "papermill": {
     "duration": 0.538589,
     "end_time": "2021-08-08T15:28:36.921966",
     "exception": false,
     "start_time": "2021-08-08T15:28:36.383377",
     "status": "completed"
    },
    "tags": []
   },
   "outputs": [],
   "source": [
    "dataframe['available_flashcards'] = dataframe[\"day's_available_flashcards\"][:]\n",
    "dataframe = dataframe.drop([\"day's_available_flashcards\"], axis=1)\n",
    "dataframe['user_id'] = dataframe[\"user_id.x\"][:]\n",
    "dataframe = dataframe.drop([\"user_id.x\"], axis=1)"
   ]
  },
  {
   "cell_type": "code",
   "execution_count": 8,
   "metadata": {
    "execution": {
     "iopub.execute_input": "2021-08-08T15:28:37.152210Z",
     "iopub.status.busy": "2021-08-08T15:28:37.151293Z",
     "iopub.status.idle": "2021-08-08T15:28:37.155313Z",
     "shell.execute_reply": "2021-08-08T15:28:37.154823Z",
     "shell.execute_reply.started": "2021-08-06T20:58:30.178707Z"
    },
    "id": "-_BRggOjbBjN",
    "outputId": "42bff7db-08dd-48dc-a73a-d048508053b7",
    "papermill": {
     "duration": 0.202201,
     "end_time": "2021-08-08T15:28:37.155452",
     "exception": false,
     "start_time": "2021-08-08T15:28:36.953251",
     "status": "completed"
    },
    "tags": []
   },
   "outputs": [
    {
     "data": {
      "text/plain": [
       "122"
      ]
     },
     "execution_count": 8,
     "metadata": {},
     "output_type": "execute_result"
    }
   ],
   "source": [
    "gc.collect()"
   ]
  },
  {
   "cell_type": "code",
   "execution_count": 9,
   "metadata": {
    "execution": {
     "iopub.execute_input": "2021-08-08T15:28:37.223841Z",
     "iopub.status.busy": "2021-08-08T15:28:37.223155Z",
     "iopub.status.idle": "2021-08-08T15:28:37.516317Z",
     "shell.execute_reply": "2021-08-08T15:28:37.515785Z",
     "shell.execute_reply.started": "2021-08-06T20:58:30.356124Z"
    },
    "id": "lXM7MlonVeRL",
    "outputId": "d29ccec0-522f-4e3c-e0b2-39b2e1eaef74",
    "papermill": {
     "duration": 0.329488,
     "end_time": "2021-08-08T15:28:37.516459",
     "exception": false,
     "start_time": "2021-08-08T15:28:37.186971",
     "status": "completed"
    },
    "tags": []
   },
   "outputs": [
    {
     "data": {
      "text/plain": [
       "20"
      ]
     },
     "execution_count": 9,
     "metadata": {},
     "output_type": "execute_result"
    }
   ],
   "source": [
    "dataframe = dataframe[FEATURES]\n",
    "gc.collect()"
   ]
  },
  {
   "cell_type": "code",
   "execution_count": 10,
   "metadata": {
    "execution": {
     "iopub.execute_input": "2021-08-08T15:28:38.097942Z",
     "iopub.status.busy": "2021-08-08T15:28:38.097225Z",
     "iopub.status.idle": "2021-08-08T15:28:38.240346Z",
     "shell.execute_reply": "2021-08-08T15:28:38.239724Z",
     "shell.execute_reply.started": "2021-08-06T20:58:30.662917Z"
    },
    "id": "2WAFv5z3A6fK",
    "outputId": "e27abf84-ec3c-4b88-e1fb-927d94b41898",
    "papermill": {
     "duration": 0.692442,
     "end_time": "2021-08-08T15:28:38.240494",
     "exception": false,
     "start_time": "2021-08-08T15:28:37.548052",
     "status": "completed"
    },
    "tags": []
   },
   "outputs": [],
   "source": [
    "dataframe = dataframe.fillna(0)"
   ]
  },
  {
   "cell_type": "code",
   "execution_count": 11,
   "metadata": {
    "execution": {
     "iopub.execute_input": "2021-08-08T15:28:38.322232Z",
     "iopub.status.busy": "2021-08-08T15:28:38.321507Z",
     "iopub.status.idle": "2021-08-08T15:28:39.749618Z",
     "shell.execute_reply": "2021-08-08T15:28:39.749030Z",
     "shell.execute_reply.started": "2021-08-06T20:58:31.328858Z"
    },
    "id": "qRKqF_0IXZgj",
    "papermill": {
     "duration": 1.47762,
     "end_time": "2021-08-08T15:28:39.749780",
     "exception": false,
     "start_time": "2021-08-08T15:28:38.272160",
     "status": "completed"
    },
    "tags": []
   },
   "outputs": [],
   "source": [
    "#label encode term, chapter_label, question_name, sub_chapter_label columns\n",
    "dataframe['term'] = dataframe['term'].astype('category')\n",
    "dataframe['user_id'] = dataframe['user_id'].astype(int)\n",
    "dataframe['user_id'] = dataframe['user_id'].astype(str)\n",
    "dataframe['user_id'] = dataframe['term'].str.cat(dataframe['user_id'], sep=':')\n",
    "dataframe['user_id'] = dataframe['user_id'].astype('category')\n",
    "dataframe['chapter_label'] = dataframe['chapter_label'].astype('category')\n",
    "dataframe['sub_chapter_label'] = dataframe['sub_chapter_label'].astype('category')\n",
    "dataframe['question_name'] = dataframe['question_name'].astype('category')\n"
   ]
  },
  {
   "cell_type": "code",
   "execution_count": 12,
   "metadata": {
    "execution": {
     "iopub.execute_input": "2021-08-08T15:28:39.819522Z",
     "iopub.status.busy": "2021-08-08T15:28:39.818840Z",
     "iopub.status.idle": "2021-08-08T15:28:40.368046Z",
     "shell.execute_reply": "2021-08-08T15:28:40.367310Z",
     "shell.execute_reply.started": "2021-08-06T20:58:32.762556Z"
    },
    "id": "eVl_067GWkDe",
    "papermill": {
     "duration": 0.586862,
     "end_time": "2021-08-08T15:28:40.368195",
     "exception": false,
     "start_time": "2021-08-08T15:28:39.781333",
     "status": "completed"
    },
    "tags": []
   },
   "outputs": [],
   "source": [
    "#calculate time_lag and prev_time_elapsed\n",
    "dataframe['prev_time_elapsed'] = None\n",
    "dataframe['time_lag'] = None\n",
    "dataframe['time_lag'] = dataframe['time_lag'].astype(np.float)\n",
    "dataframe['prev_time_elapsed'] = dataframe['prev_time_elapsed'].astype(np.float)\n",
    "dataframe.start_practice = pd.to_datetime(dataframe.start_practice, format='%Y-%m-%d %H:%M:%S')\n",
    "dataframe.end_practice = pd.to_datetime(dataframe.end_practice, format='%Y-%m-%d %H:%M:%S')"
   ]
  },
  {
   "cell_type": "code",
   "execution_count": 13,
   "metadata": {
    "execution": {
     "iopub.execute_input": "2021-08-08T15:28:40.438526Z",
     "iopub.status.busy": "2021-08-08T15:28:40.437760Z",
     "iopub.status.idle": "2021-08-08T15:28:40.478344Z",
     "shell.execute_reply": "2021-08-08T15:28:40.477675Z",
     "shell.execute_reply.started": "2021-08-06T20:58:33.288808Z"
    },
    "papermill": {
     "duration": 0.078511,
     "end_time": "2021-08-08T15:28:40.478489",
     "exception": false,
     "start_time": "2021-08-08T15:28:40.399978",
     "status": "completed"
    },
    "tags": []
   },
   "outputs": [],
   "source": [
    "dataframe['dif'] = dataframe.end_practice - dataframe.start_practice\n",
    "dataframe['dif'] = dataframe['dif'] /np.timedelta64(1, 's')\n",
    "dataframe['answer_correct'] = np.where((dataframe['q']==5) & (dataframe['dif'] <= 60), 1, 0)"
   ]
  },
  {
   "cell_type": "code",
   "execution_count": 14,
   "metadata": {
    "execution": {
     "iopub.execute_input": "2021-08-08T15:28:40.554029Z",
     "iopub.status.busy": "2021-08-08T15:28:40.553271Z",
     "iopub.status.idle": "2021-08-08T15:34:53.373873Z",
     "shell.execute_reply": "2021-08-08T15:34:53.374391Z",
     "shell.execute_reply.started": "2021-08-06T20:59:18.660743Z"
    },
    "id": "Xrkcn9VhWETm",
    "outputId": "fd73f3de-5f56-42a8-9539-3f3b79a5a6e2",
    "papermill": {
     "duration": 372.863804,
     "end_time": "2021-08-08T15:34:53.374591",
     "exception": false,
     "start_time": "2021-08-08T15:28:40.510787",
     "status": "completed"
    },
    "tags": []
   },
   "outputs": [
    {
     "name": "stderr",
     "output_type": "stream",
     "text": [
      "100%|██████████| 1110/1110 [06:12<00:00,  2.98it/s]\n"
     ]
    }
   ],
   "source": [
    "unique_chapts = dataframe['chapter_label'].unique()\n",
    "from tqdm import tqdm\n",
    "cnt = 0\n",
    "for user in tqdm(dataframe['user_id'].unique()):\n",
    "        for chapter in unique_chapts:\n",
    "            tmp_user = dataframe[(dataframe['user_id']==user) & (dataframe['chapter_label']==chapter)]\n",
    "            #if user doesn't answer any question from the chapter\n",
    "            if len(tmp_user) < 1:\n",
    "                continue\n",
    "            #calculate average elapsed time before the current question\n",
    "            #from its corresponding chapter\n",
    "            tmp_time_elapsed = tmp_user.end_practice - tmp_user.start_practice\n",
    "            tmp_time_elapsed = tmp_time_elapsed / np.timedelta64(1, 's')\n",
    "            tmp_time_elapsed = np.insert(np.array(tmp_time_elapsed[:-1]), 0, 0., axis=0)\n",
    "            tmp_time_elapsed = np.cumsum(tmp_time_elapsed)\n",
    "            indices = tmp_user.index\n",
    "            start_row = indices[0]\n",
    "            dataframe['time_lag'].iloc[start_row] = 0\n",
    "            for_mean = np.arange(len(tmp_user))\n",
    "            for_mean[0] = 1\n",
    "            time_substrahend = tmp_user.start_practice.iloc[:-1]\n",
    "            time_substrahend = time_substrahend.apply(lambda a: a.timestamp())\n",
    "            time_substrahend = np.array(time_substrahend)\n",
    "            \n",
    "            time_minuend = tmp_user.start_practice.iloc[1:]\n",
    "            time_minuend = time_minuend.apply(lambda a: a.timestamp())\n",
    "            time_minuend = np.array(time_minuend)\n",
    "\n",
    "            dataframe['prev_time_elapsed'].iloc[indices] = tmp_time_elapsed/for_mean\n",
    "            #calculate difference between current and last interaction\n",
    "            #from the same chapter\n",
    "            dataframe['time_lag'].iloc[indices[1:]] = time_minuend - time_substrahend\n"
   ]
  },
  {
   "cell_type": "code",
   "execution_count": 15,
   "metadata": {
    "execution": {
     "iopub.execute_input": "2021-08-08T15:34:54.146205Z",
     "iopub.status.busy": "2021-08-08T15:34:54.145399Z",
     "iopub.status.idle": "2021-08-08T15:34:54.185179Z",
     "shell.execute_reply": "2021-08-08T15:34:54.184509Z",
     "shell.execute_reply.started": "2021-08-06T21:05:41.448812Z"
    },
    "id": "8t8yZ0XvWwzz",
    "papermill": {
     "duration": 0.455522,
     "end_time": "2021-08-08T15:34:54.185329",
     "exception": false,
     "start_time": "2021-08-08T15:34:53.729807",
     "status": "completed"
    },
    "tags": []
   },
   "outputs": [],
   "source": [
    "#drop column end_practice\n",
    "dataframe.drop(columns=['end_practice'], inplace=True)"
   ]
  },
  {
   "cell_type": "code",
   "execution_count": 16,
   "metadata": {
    "execution": {
     "iopub.execute_input": "2021-08-08T15:34:54.904372Z",
     "iopub.status.busy": "2021-08-08T15:34:54.903641Z",
     "iopub.status.idle": "2021-08-08T15:34:55.374192Z",
     "shell.execute_reply": "2021-08-08T15:34:55.373476Z",
     "shell.execute_reply.started": "2021-08-06T21:05:41.542314Z"
    },
    "id": "E42raRIrYYXz",
    "papermill": {
     "duration": 0.833007,
     "end_time": "2021-08-08T15:34:55.374335",
     "exception": false,
     "start_time": "2021-08-08T15:34:54.541328",
     "status": "completed"
    },
    "tags": []
   },
   "outputs": [],
   "source": [
    "# calculate the age feature\n",
    "dataframe['term_value'] = [int(ele[3:]) for ele in dataframe['term']]\n",
    "dataframe['age'] = dataframe['term_value'] - dataframe['birthYear']"
   ]
  },
  {
   "cell_type": "code",
   "execution_count": 17,
   "metadata": {
    "execution": {
     "iopub.execute_input": "2021-08-08T15:34:56.149185Z",
     "iopub.status.busy": "2021-08-08T15:34:56.148409Z",
     "iopub.status.idle": "2021-08-08T15:34:56.363144Z",
     "shell.execute_reply": "2021-08-08T15:34:56.362425Z",
     "shell.execute_reply.started": "2021-08-06T21:05:42.015381Z"
    },
    "id": "pcMVQXueYnMh",
    "papermill": {
     "duration": 0.631495,
     "end_time": "2021-08-08T15:34:56.363296",
     "exception": false,
     "start_time": "2021-08-08T15:34:55.731801",
     "status": "completed"
    },
    "tags": []
   },
   "outputs": [],
   "source": [
    "# drop term_value and birthYear column\n",
    "dataframe.drop(columns=['term_value', 'birthYear'], inplace=True)"
   ]
  },
  {
   "cell_type": "code",
   "execution_count": 18,
   "metadata": {
    "execution": {
     "iopub.execute_input": "2021-08-08T15:34:57.116315Z",
     "iopub.status.busy": "2021-08-08T15:34:57.110935Z",
     "iopub.status.idle": "2021-08-08T15:34:57.600035Z",
     "shell.execute_reply": "2021-08-08T15:34:57.599466Z",
     "shell.execute_reply.started": "2021-08-06T21:05:42.228048Z"
    },
    "id": "hjRF5szkcQE0",
    "papermill": {
     "duration": 0.878398,
     "end_time": "2021-08-08T15:34:57.600183",
     "exception": false,
     "start_time": "2021-08-08T15:34:56.721785",
     "status": "completed"
    },
    "tags": []
   },
   "outputs": [],
   "source": [
    "# convert minors_count to int value\n",
    "new_minors_count = []\n",
    "for i in dataframe['minorsCount']:\n",
    "  if i == 0 or i == '0':\n",
    "    new_minors_count.append(0)\n",
    "  elif i == '1 Minor':\n",
    "    new_minors_count.append(1)\n",
    "  else:\n",
    "    new_minors_count.append(2)\n",
    "\n",
    "dataframe['minorsCount'] = new_minors_count"
   ]
  },
  {
   "cell_type": "code",
   "execution_count": 19,
   "metadata": {
    "execution": {
     "iopub.execute_input": "2021-08-08T15:34:58.356643Z",
     "iopub.status.busy": "2021-08-08T15:34:58.355763Z",
     "iopub.status.idle": "2021-08-08T15:34:58.369657Z",
     "shell.execute_reply": "2021-08-08T15:34:58.368473Z",
     "shell.execute_reply.started": "2021-08-06T21:05:42.737147Z"
    },
    "id": "9VdzvJSw0KUU",
    "outputId": "6393784f-234e-4935-9cee-cbcf56b5630a",
    "papermill": {
     "duration": 0.411191,
     "end_time": "2021-08-08T15:34:58.369906",
     "exception": false,
     "start_time": "2021-08-08T15:34:57.958715",
     "status": "completed"
    },
    "tags": []
   },
   "outputs": [
    {
     "name": "stdout",
     "output_type": "stream",
     "text": [
      "we have  1110  users in total.\n"
     ]
    }
   ],
   "source": [
    "print(\"we have \", dataframe['user_id'].nunique(),\" users in total.\")"
   ]
  },
  {
   "cell_type": "code",
   "execution_count": 20,
   "metadata": {
    "execution": {
     "iopub.execute_input": "2021-08-08T15:34:59.097610Z",
     "iopub.status.busy": "2021-08-08T15:34:59.096385Z",
     "iopub.status.idle": "2021-08-08T15:34:59.102885Z",
     "shell.execute_reply": "2021-08-08T15:34:59.103324Z",
     "shell.execute_reply.started": "2021-08-06T21:05:42.755226Z"
    },
    "id": "hUaGk9L9g13t",
    "papermill": {
     "duration": 0.374658,
     "end_time": "2021-08-08T15:34:59.103499",
     "exception": false,
     "start_time": "2021-08-08T15:34:58.728841",
     "status": "completed"
    },
    "tags": []
   },
   "outputs": [],
   "source": [
    "for category in ['term','chapter_label', 'sub_chapter_label', 'question_name']:\n",
    "  dataframe[category] =  dataframe[category].cat.codes"
   ]
  },
  {
   "cell_type": "code",
   "execution_count": 21,
   "metadata": {
    "execution": {
     "iopub.execute_input": "2021-08-08T15:34:59.829629Z",
     "iopub.status.busy": "2021-08-08T15:34:59.828417Z",
     "iopub.status.idle": "2021-08-08T15:35:00.637710Z",
     "shell.execute_reply": "2021-08-08T15:35:00.637072Z",
     "shell.execute_reply.started": "2021-08-06T21:05:42.769234Z"
    },
    "id": "hkyvcYvlhliG",
    "papermill": {
     "duration": 1.174955,
     "end_time": "2021-08-08T15:35:00.637869",
     "exception": false,
     "start_time": "2021-08-08T15:34:59.462914",
     "status": "completed"
    },
    "tags": []
   },
   "outputs": [],
   "source": [
    "NUMERIC_FEATURE =  ['age',\n",
    "            'exclClassCumGPA',\n",
    "            'termCreditsGPA',\n",
    "            'termCreditsNoGPA',\n",
    "            'highSchoolGPA', \n",
    "            'majorsCount', 'minorsCount',\n",
    "            'PREV_TERM_CUM_GPA',\n",
    "            'available_flashcards', \n",
    "            'days_offset', \n",
    "            'prev_time_elapsed',\n",
    "             'time_lag']\n",
    "# z-score normalize the numerical features\n",
    "for f in NUMERIC_FEATURE:\n",
    "  m = dataframe[f].mean()\n",
    "  std = dataframe[f].std()\n",
    "  dataframe[f] = (dataframe[f] - m)/std"
   ]
  },
  {
   "cell_type": "code",
   "execution_count": 22,
   "metadata": {
    "execution": {
     "iopub.execute_input": "2021-08-08T15:35:01.371868Z",
     "iopub.status.busy": "2021-08-08T15:35:01.371036Z",
     "iopub.status.idle": "2021-08-08T15:35:04.863000Z",
     "shell.execute_reply": "2021-08-08T15:35:04.863497Z",
     "shell.execute_reply.started": "2021-08-06T21:05:43.58599Z"
    },
    "id": "wo2OH-d5kWp1",
    "papermill": {
     "duration": 3.865599,
     "end_time": "2021-08-08T15:35:04.863692",
     "exception": false,
     "start_time": "2021-08-08T15:35:00.998093",
     "status": "completed"
    },
    "tags": []
   },
   "outputs": [],
   "source": [
    "FEATURE_TRANS =  ['answer_correct', 'chapter_label', 'sub_chapter_label','question_name','user_id','term',\n",
    "                  'STDNT_SEX_CD', \n",
    "                    'White','Asian','NonWhiteOrAsian',\n",
    "            'STDNT_CTZN_STAT_CD', 'international', \n",
    "            'age',\n",
    "            'exclClassCumGPA',\n",
    "           'Freshman',\n",
    "            'Junior',\n",
    "            'Sophomore',\n",
    "            'Senior',\n",
    "            'termCreditsGPA',\n",
    "            'termCreditsNoGPA',\n",
    "            'athlete_1',\n",
    "            'honorsPro',\n",
    "            'LSA', 'programBusiness', 'programEngineering', \n",
    "            'programInformation', 'programOther',\n",
    "            'HSCalculusTaken', \n",
    "            'highSchoolGPA', \n",
    "            'majorsCount', 'minorsCount',\n",
    "            'PREV_TERM_CUM_GPA',\n",
    "            'classGraded', 'classHonors', \n",
    "            'Pass_Fail', \n",
    "            'parentsGraduateEdu',  'minorityGroup', \n",
    "            'available_flashcards', \n",
    "            'days_offset', 'prev_time_elapsed',\n",
    "             'time_lag']\n",
    "grouped_data = dataframe[FEATURE_TRANS].groupby(['user_id']).apply(lambda r: (\n",
    "                r['answer_correct'],\n",
    "                r['term'],\n",
    "                r['chapter_label'],\n",
    "                r['sub_chapter_label'],\n",
    "                r['question_name'],\n",
    "                np.array([\n",
    "                  r['STDNT_SEX_CD'],r['STDNT_CTZN_STAT_CD'], r['international'], \n",
    "                  r['White'],r['Asian'],r['NonWhiteOrAsian'],\n",
    "                 r['age'],r['exclClassCumGPA'],\n",
    "                r['Freshman'], r['Junior'], r['Sophomore'], r['Senior'],\n",
    "                r['termCreditsGPA'], r['termCreditsNoGPA'],\n",
    "                r['athlete_1'], r['honorsPro'],\n",
    "                r['LSA'], r['programBusiness'], r['programEngineering'], \n",
    "                r['programInformation'], r['programOther'],\n",
    "                r['HSCalculusTaken'],  r['highSchoolGPA'], \n",
    "                r['majorsCount'], r['minorsCount'],\n",
    "                r['PREV_TERM_CUM_GPA'], \n",
    "                r['parentsGraduateEdu'], r['minorityGroup'],\n",
    "                r['available_flashcards'],\n",
    "                r['days_offset'],\n",
    "#                 r['prev_time_elapsed'],\n",
    "#                 r['time_lag']\n",
    "              ]).transpose()\n",
    "                ))"
   ]
  },
  {
   "cell_type": "code",
   "execution_count": 23,
   "metadata": {
    "execution": {
     "iopub.execute_input": "2021-08-08T15:35:05.583002Z",
     "iopub.status.busy": "2021-08-08T15:35:05.582029Z",
     "iopub.status.idle": "2021-08-08T15:35:05.777472Z",
     "shell.execute_reply": "2021-08-08T15:35:05.776814Z",
     "shell.execute_reply.started": "2021-08-06T21:05:47.879421Z"
    },
    "id": "XXLqQnjrlp_4",
    "outputId": "c801da79-f0bf-4fe5-b19c-7c799fe01556",
    "papermill": {
     "duration": 0.556146,
     "end_time": "2021-08-08T15:35:05.777622",
     "exception": false,
     "start_time": "2021-08-08T15:35:05.221476",
     "status": "completed"
    },
    "tags": []
   },
   "outputs": [
    {
     "data": {
      "text/plain": [
       "20"
      ]
     },
     "execution_count": 23,
     "metadata": {},
     "output_type": "execute_result"
    }
   ],
   "source": [
    "gc.collect()"
   ]
  },
  {
   "cell_type": "code",
   "execution_count": 24,
   "metadata": {
    "execution": {
     "iopub.execute_input": "2021-08-08T15:35:06.511432Z",
     "iopub.status.busy": "2021-08-08T15:35:06.506283Z",
     "iopub.status.idle": "2021-08-08T15:35:06.539838Z",
     "shell.execute_reply": "2021-08-08T15:35:06.539258Z",
     "shell.execute_reply.started": "2021-08-06T21:05:48.079782Z"
    },
    "id": "QYGQasdTrmP0",
    "papermill": {
     "duration": 0.402959,
     "end_time": "2021-08-08T15:35:06.540002",
     "exception": false,
     "start_time": "2021-08-08T15:35:06.137043",
     "status": "completed"
    },
    "tags": []
   },
   "outputs": [],
   "source": [
    "# remove students who don't have make any interactions with the tool\n",
    "toRemove = []\n",
    "for index in grouped_data.index:\n",
    "  if len(grouped_data[index][0]) <= 10:\n",
    "    toRemove.append(index)\n",
    "grouped_data = grouped_data.drop(index=toRemove)"
   ]
  },
  {
   "cell_type": "code",
   "execution_count": 25,
   "metadata": {
    "execution": {
     "iopub.execute_input": "2021-08-08T15:35:07.273430Z",
     "iopub.status.busy": "2021-08-08T15:35:07.272387Z",
     "iopub.status.idle": "2021-08-08T15:35:07.288372Z",
     "shell.execute_reply": "2021-08-08T15:35:07.287720Z",
     "shell.execute_reply.started": "2021-08-06T21:05:48.128536Z"
    },
    "papermill": {
     "duration": 0.383238,
     "end_time": "2021-08-08T15:35:07.288511",
     "exception": false,
     "start_time": "2021-08-08T15:35:06.905273",
     "status": "completed"
    },
    "tags": []
   },
   "outputs": [
    {
     "data": {
      "text/plain": [
       "count    1110.000000\n",
       "mean      550.263063\n",
       "std       201.281353\n",
       "min         2.000000\n",
       "25%       438.250000\n",
       "50%       520.500000\n",
       "75%       637.750000\n",
       "max      1500.000000\n",
       "Name: start_practice, dtype: float64"
      ]
     },
     "execution_count": 25,
     "metadata": {},
     "output_type": "execute_result"
    }
   ],
   "source": [
    "dataframe.groupby('user_id')['start_practice'].agg('count').describe()"
   ]
  },
  {
   "cell_type": "code",
   "execution_count": 26,
   "metadata": {
    "execution": {
     "iopub.execute_input": "2021-08-08T15:35:08.011234Z",
     "iopub.status.busy": "2021-08-08T15:35:08.010141Z",
     "iopub.status.idle": "2021-08-08T15:35:08.015166Z",
     "shell.execute_reply": "2021-08-08T15:35:08.014495Z",
     "shell.execute_reply.started": "2021-08-06T21:05:48.148935Z"
    },
    "papermill": {
     "duration": 0.369633,
     "end_time": "2021-08-08T15:35:08.015324",
     "exception": false,
     "start_time": "2021-08-08T15:35:07.645691",
     "status": "completed"
    },
    "tags": []
   },
   "outputs": [
    {
     "data": {
      "text/plain": [
       "['FA 2018:252', 'WN 2018:295']"
      ]
     },
     "execution_count": 26,
     "metadata": {},
     "output_type": "execute_result"
    }
   ],
   "source": [
    "toRemove"
   ]
  },
  {
   "cell_type": "code",
   "execution_count": 27,
   "metadata": {
    "execution": {
     "iopub.execute_input": "2021-08-08T15:35:08.743893Z",
     "iopub.status.busy": "2021-08-08T15:35:08.742700Z",
     "iopub.status.idle": "2021-08-08T15:35:08.746095Z",
     "shell.execute_reply": "2021-08-08T15:35:08.745398Z",
     "shell.execute_reply.started": "2021-08-06T21:05:48.155466Z"
    },
    "id": "9kZqV9siDyNb",
    "papermill": {
     "duration": 0.369775,
     "end_time": "2021-08-08T15:35:08.746249",
     "exception": false,
     "start_time": "2021-08-08T15:35:08.376474",
     "status": "completed"
    },
    "tags": []
   },
   "outputs": [],
   "source": [
    "#SETTINGS -> can be modified at any time\n",
    "MAXLENGTH = 400\n",
    "EMBEDDING_DIM = 128\n",
    "DENSE_NEURON = 16\n",
    "LSTM_NEURON = 32"
   ]
  },
  {
   "cell_type": "code",
   "execution_count": 28,
   "metadata": {
    "execution": {
     "iopub.execute_input": "2021-08-08T15:35:09.498909Z",
     "iopub.status.busy": "2021-08-08T15:35:09.497809Z",
     "iopub.status.idle": "2021-08-08T15:35:09.501121Z",
     "shell.execute_reply": "2021-08-08T15:35:09.500518Z",
     "shell.execute_reply.started": "2021-08-06T21:05:48.168321Z"
    },
    "id": "1MksD1JizpPn",
    "papermill": {
     "duration": 0.375293,
     "end_time": "2021-08-08T15:35:09.501270",
     "exception": false,
     "start_time": "2021-08-08T15:35:09.125977",
     "status": "completed"
    },
    "tags": []
   },
   "outputs": [],
   "source": [
    "FEATURES_SIZE = 37\n",
    "CHAPTER_SIZE = 38\n",
    "SUB_CHAPTER_SIZE = 223\n",
    "QUESTION_SIZE = 1069"
   ]
  },
  {
   "cell_type": "code",
   "execution_count": 29,
   "metadata": {
    "execution": {
     "iopub.execute_input": "2021-08-08T15:35:10.233079Z",
     "iopub.status.busy": "2021-08-08T15:35:10.232039Z",
     "iopub.status.idle": "2021-08-08T15:35:10.244598Z",
     "shell.execute_reply": "2021-08-08T15:35:10.243868Z",
     "shell.execute_reply.started": "2021-08-06T21:05:48.18102Z"
    },
    "papermill": {
     "duration": 0.384217,
     "end_time": "2021-08-08T15:35:10.244786",
     "exception": false,
     "start_time": "2021-08-08T15:35:09.860569",
     "status": "completed"
    },
    "tags": []
   },
   "outputs": [
    {
     "data": {
      "text/plain": [
       "array([ 96,  86,  88,  28,  12,  82, 125,  32,  69,  33,  21, 115, 120,\n",
       "       119,  91,  73,  57,  77, 117,  40,  74,  41,  68,  39,  92,  47,\n",
       "       104,  95,  53,  49,  50,  16,  52,  55,   7,  15,  51, 102, 103,\n",
       "        11,  94, 108, 100,  17,  67,  63,  13, 139,  26,  25,   8, 107,\n",
       "         0,  90,  48,  54, 138,   1,   2,   3,  34,  35,  85,   5,  24,\n",
       "        37,  36,  78,  70,  45, 142,  71,  10,  89, 111, 112, 109, 116,\n",
       "        76,  72, 148, 134, 146, 221, 143,  56,  60,  61,  23, 140, 106,\n",
       "        42,  83,  22, 145, 136, 144,  38,   4,  19, 137,  75,  43,  98,\n",
       "        84, 113, 173, 174, 175, 176, 177, 178, 180, 181, 182, 187, 189,\n",
       "       190, 191, 192, 193, 195, 197, 151, 152, 153, 156, 157, 158, 159,\n",
       "       160, 161, 163, 164, 165, 166, 167, 168, 169, 170, 171, 172, 198,\n",
       "       199, 200, 201, 202, 203, 204, 205, 206, 207, 208, 209, 210, 162,\n",
       "       179, 186, 188, 194, 183, 184, 185, 211, 212, 213, 154, 155, 196,\n",
       "         6, 118,  18, 215,  46, 216, 141,  27, 217, 105, 123, 218, 101,\n",
       "       124, 219, 122, 220,  58,  59,  64,  20,  93,  65,  66,   9,  44,\n",
       "        30,  14,  79, 121,  31, 110, 129,  87,  97,  62, 149, 132, 131,\n",
       "       150, 130, 128,  99, 147, 127, 214, 135,  80, 126, 133,  81, 114,\n",
       "        29], dtype=int16)"
      ]
     },
     "execution_count": 29,
     "metadata": {},
     "output_type": "execute_result"
    }
   ],
   "source": [
    "dataframe['sub_chapter_label'].unique()"
   ]
  },
  {
   "cell_type": "code",
   "execution_count": 30,
   "metadata": {
    "execution": {
     "iopub.execute_input": "2021-08-08T15:35:10.981911Z",
     "iopub.status.busy": "2021-08-08T15:35:10.981123Z",
     "iopub.status.idle": "2021-08-08T15:35:12.129479Z",
     "shell.execute_reply": "2021-08-08T15:35:12.128904Z",
     "shell.execute_reply.started": "2021-08-06T21:05:48.201622Z"
    },
    "id": "mY3Thp6d0NaT",
    "papermill": {
     "duration": 1.525508,
     "end_time": "2021-08-08T15:35:12.129628",
     "exception": false,
     "start_time": "2021-08-08T15:35:10.604120",
     "status": "completed"
    },
    "tags": []
   },
   "outputs": [],
   "source": [
    "#create dataset class\n",
    "#to prepare it for train, valid, and test sets\n",
    "from torch.utils.data import Dataset, DataLoader\n",
    "class SPACE_DATASET(Dataset):\n",
    "    def __init__(self, data, maxlength = 400):\n",
    "        super(SPACE_DATASET, self).__init__()\n",
    "        self.maxlength = maxlength\n",
    "        self.data = data\n",
    "        self.users = list()\n",
    "        for user in data.index:\n",
    "            self.users.append(user)\n",
    "\n",
    "    def __len__(self):\n",
    "        return len(self.users)\n",
    "    \n",
    "    def __getitem__(self, ix):\n",
    "        user = self.users[ix]\n",
    "        user = user\n",
    "        target, term, ch_label, sub_ch_label, ques_name, features = self.data[user]\n",
    "        \n",
    "        #0s should be used as padding values\n",
    "        ori_target = target.values \n",
    "        term = term.values\n",
    "        ch_label = ch_label.values + 1\n",
    "        sub_ch_label = sub_ch_label.values +1\n",
    "        ques_name = ques_name.values + 1\n",
    "        \n",
    "        n = len(ch_label)\n",
    "\n",
    "        # one hot for term\n",
    "        term_encode = [0]*7\n",
    "        term_encode[term[0]] = 1\n",
    "        shifted_target= []\n",
    "\n",
    "        \n",
    "        # get  user interaction informations in the previous MAXLEN interactions\n",
    "        if n > self.maxlength:\n",
    "          ch_label = ch_label[-self.maxlength:]\n",
    "          sub_ch_label = sub_ch_label[-self.maxlength:]\n",
    "          ques_name = ques_name[-self.maxlength:]\n",
    "          features = features[-self.maxlength:]\n",
    "          target = ori_target[-self.maxlength:]\n",
    "          shifted_target = ori_target[ (-self.maxlength - 1) :-1]\n",
    "        else:\n",
    "          ch_label = [0]*(self.maxlength - n)+list(ch_label[:])\n",
    "          sub_ch_label = [0]*(self.maxlength - n)+list(sub_ch_label[:])\n",
    "          ques_name = [0]*(self.maxlength - n)+list(ques_name[:])\n",
    "          features = [[0]*len(features[0])]*(self.maxlength  - n)+list(features[:])\n",
    "          target = [-1]*(self.maxlength - n) + list(ori_target[:])\n",
    "          shifted_target = [2]*(self.maxlength + 1 - n) + list(ori_target[:-1])\n",
    "\n",
    "        new_features = []\n",
    "        count = 0\n",
    "        for f in features:\n",
    "          temp = list(f)\n",
    "          temp.extend(term_encode)\n",
    "          #temp.append(shifted_target[count]) #uncomment this line for include previous response feature\n",
    "          new_features.append(temp)\n",
    "          count += 1\n",
    "        features = new_features\n",
    "        return ch_label,sub_ch_label,ques_name,features, shifted_target, target"
   ]
  },
  {
   "cell_type": "code",
   "execution_count": 31,
   "metadata": {
    "execution": {
     "iopub.execute_input": "2021-08-08T15:35:12.851029Z",
     "iopub.status.busy": "2021-08-08T15:35:12.849906Z",
     "iopub.status.idle": "2021-08-08T15:35:12.854795Z",
     "shell.execute_reply": "2021-08-08T15:35:12.854149Z",
     "shell.execute_reply.started": "2021-08-06T21:05:49.347481Z"
    },
    "papermill": {
     "duration": 0.367225,
     "end_time": "2021-08-08T15:35:12.854938",
     "exception": false,
     "start_time": "2021-08-08T15:35:12.487713",
     "status": "completed"
    },
    "tags": []
   },
   "outputs": [
    {
     "data": {
      "text/plain": [
       "223"
      ]
     },
     "execution_count": 31,
     "metadata": {},
     "output_type": "execute_result"
    }
   ],
   "source": [
    "SUB_CHAPTER_SIZE"
   ]
  },
  {
   "cell_type": "markdown",
   "metadata": {
    "id": "4xc90-aLzxat",
    "papermill": {
     "duration": 0.35953,
     "end_time": "2021-08-08T15:35:13.577667",
     "exception": false,
     "start_time": "2021-08-08T15:35:13.218137",
     "status": "completed"
    },
    "tags": []
   },
   "source": [
    "## KFOLD - LSTM\n"
   ]
  },
  {
   "cell_type": "code",
   "execution_count": 32,
   "metadata": {
    "execution": {
     "iopub.execute_input": "2021-08-08T15:35:14.323136Z",
     "iopub.status.busy": "2021-08-08T15:35:14.317590Z",
     "iopub.status.idle": "2021-08-08T15:58:51.788530Z",
     "shell.execute_reply": "2021-08-08T15:58:51.789056Z",
     "shell.execute_reply.started": "2021-08-06T21:05:49.358265Z"
    },
    "id": "gzJrljnjzypP",
    "outputId": "87abe488-b493-4f8f-9d71-45cb1d2ddf51",
    "papermill": {
     "duration": 1417.851053,
     "end_time": "2021-08-08T15:58:51.789260",
     "exception": false,
     "start_time": "2021-08-08T15:35:13.938207",
     "status": "completed"
    },
    "tags": []
   },
   "outputs": [
    {
     "name": "stdout",
     "output_type": "stream",
     "text": [
      "Epoch 1/100\n",
      "14/14 [==============================] - 24s 1s/step - loss: 0.5874 - masked_acc: 0.6696 - masked_auc: 0.5283 - val_loss: 0.4860 - val_masked_acc: 0.7054 - val_masked_auc: 0.6418\n",
      "Epoch 2/100\n",
      "14/14 [==============================] - 12s 871ms/step - loss: 0.4915 - masked_acc: 0.7084 - masked_auc: 0.6729 - val_loss: 0.4195 - val_masked_acc: 0.7279 - val_masked_auc: 0.7308\n",
      "Epoch 3/100\n",
      "14/14 [==============================] - 12s 871ms/step - loss: 0.4331 - masked_acc: 0.7330 - masked_auc: 0.7456 - val_loss: 0.4023 - val_masked_acc: 0.7453 - val_masked_auc: 0.7718\n",
      "Epoch 4/100\n",
      "14/14 [==============================] - 12s 873ms/step - loss: 0.4114 - masked_acc: 0.7485 - masked_auc: 0.7791 - val_loss: 0.3947 - val_masked_acc: 0.7557 - val_masked_auc: 0.7931\n",
      "Epoch 5/100\n",
      "14/14 [==============================] - 12s 857ms/step - loss: 0.4073 - masked_acc: 0.7576 - masked_auc: 0.7972 - val_loss: 0.3919 - val_masked_acc: 0.7626 - val_masked_auc: 0.8063\n",
      "Epoch 6/100\n",
      "14/14 [==============================] - 12s 877ms/step - loss: 0.3956 - masked_acc: 0.7641 - masked_auc: 0.8091 - val_loss: 0.3890 - val_masked_acc: 0.7674 - val_masked_auc: 0.8152\n",
      "Epoch 7/100\n",
      "14/14 [==============================] - 12s 886ms/step - loss: 0.3960 - masked_acc: 0.7684 - masked_auc: 0.8173 - val_loss: 0.3870 - val_masked_acc: 0.7712 - val_masked_auc: 0.8219\n",
      "Epoch 8/100\n",
      "14/14 [==============================] - 12s 872ms/step - loss: 0.3911 - masked_acc: 0.7721 - masked_auc: 0.8237 - val_loss: 0.3868 - val_masked_acc: 0.7743 - val_masked_auc: 0.8272\n",
      "Epoch 9/100\n",
      "14/14 [==============================] - 12s 879ms/step - loss: 0.3935 - masked_acc: 0.7749 - masked_auc: 0.8285 - val_loss: 0.3832 - val_masked_acc: 0.7769 - val_masked_auc: 0.8316\n",
      "Epoch 10/100\n",
      "14/14 [==============================] - 12s 854ms/step - loss: 0.3823 - masked_acc: 0.7776 - masked_auc: 0.8328 - val_loss: 0.3817 - val_masked_acc: 0.7792 - val_masked_auc: 0.8353\n",
      "Epoch 11/100\n",
      "14/14 [==============================] - 13s 901ms/step - loss: 0.3841 - masked_acc: 0.7798 - masked_auc: 0.8362 - val_loss: 0.3835 - val_masked_acc: 0.7813 - val_masked_auc: 0.8384\n",
      "Epoch 12/100\n",
      "14/14 [==============================] - 12s 850ms/step - loss: 0.3831 - masked_acc: 0.7818 - masked_auc: 0.8393 - val_loss: 0.3837 - val_masked_acc: 0.7831 - val_masked_auc: 0.8413\n",
      "Epoch 13/100\n",
      "14/14 [==============================] - 12s 862ms/step - loss: 0.3757 - masked_acc: 0.7836 - masked_auc: 0.8420 - val_loss: 0.3834 - val_masked_acc: 0.7848 - val_masked_auc: 0.8438\n",
      "Epoch 14/100\n",
      "14/14 [==============================] - 12s 882ms/step - loss: 0.3772 - masked_acc: 0.7852 - masked_auc: 0.8445 - val_loss: 0.3841 - val_masked_acc: 0.7863 - val_masked_auc: 0.8460\n",
      "Epoch 15/100\n",
      "14/14 [==============================] - 12s 855ms/step - loss: 0.3718 - masked_acc: 0.7867 - masked_auc: 0.8466 - val_loss: 0.3861 - val_masked_acc: 0.7877 - val_masked_auc: 0.8480\n",
      "Epoch 16/100\n",
      "14/14 [==============================] - 12s 871ms/step - loss: 0.3662 - masked_acc: 0.7881 - masked_auc: 0.8486 - val_loss: 0.3861 - val_masked_acc: 0.7891 - val_masked_auc: 0.8500\n",
      "Epoch 17/100\n",
      "14/14 [==============================] - 12s 870ms/step - loss: 0.3554 - masked_acc: 0.7895 - masked_auc: 0.8506 - val_loss: 0.3917 - val_masked_acc: 0.7903 - val_masked_auc: 0.8518\n",
      "Epoch 18/100\n",
      "14/14 [==============================] - 12s 850ms/step - loss: 0.3639 - masked_acc: 0.7906 - masked_auc: 0.8523 - val_loss: 0.3933 - val_masked_acc: 0.7916 - val_masked_auc: 0.8536\n",
      "Epoch 19/100\n",
      "14/14 [==============================] - 12s 859ms/step - loss: 0.3602 - masked_acc: 0.7919 - masked_auc: 0.8541 - val_loss: 0.3918 - val_masked_acc: 0.7928 - val_masked_auc: 0.8553\n",
      "Epoch 20/100\n",
      "14/14 [==============================] - 12s 854ms/step - loss: 0.3542 - masked_acc: 0.7931 - masked_auc: 0.8558 - val_loss: 0.3920 - val_masked_acc: 0.7939 - val_masked_auc: 0.8569\n",
      "28/28 [==============================] - 4s 144ms/step - loss: 0.3490 - masked_acc: 0.7947 - masked_auc: 0.8579\n",
      "4/4 [==============================] - 1s 135ms/step - loss: 0.4209 - masked_acc: 0.7951 - masked_auc: 0.8585\n",
      "Test:  [0.42088818550109863, 0.7950699329376221, 0.8585408329963684]\n",
      "Epoch 1/100\n",
      "14/14 [==============================] - 24s 1s/step - loss: 0.5649 - masked_acc: 0.6873 - masked_auc: 0.5411 - val_loss: 0.5293 - val_masked_acc: 0.7160 - val_masked_auc: 0.6845\n",
      "Epoch 2/100\n",
      "14/14 [==============================] - 12s 877ms/step - loss: 0.4553 - masked_acc: 0.7233 - masked_auc: 0.7109 - val_loss: 0.4604 - val_masked_acc: 0.7409 - val_masked_auc: 0.7586\n",
      "Epoch 3/100\n",
      "14/14 [==============================] - 12s 870ms/step - loss: 0.4154 - masked_acc: 0.7456 - masked_auc: 0.7701 - val_loss: 0.4555 - val_masked_acc: 0.7548 - val_masked_auc: 0.7904\n",
      "Epoch 4/100\n",
      "14/14 [==============================] - 12s 868ms/step - loss: 0.4074 - masked_acc: 0.7569 - masked_auc: 0.7957 - val_loss: 0.4515 - val_masked_acc: 0.7627 - val_masked_auc: 0.8069\n",
      "Epoch 5/100\n",
      "14/14 [==============================] - 13s 904ms/step - loss: 0.3972 - masked_acc: 0.7644 - masked_auc: 0.8104 - val_loss: 0.4480 - val_masked_acc: 0.7678 - val_masked_auc: 0.8169\n",
      "Epoch 6/100\n",
      "14/14 [==============================] - 12s 873ms/step - loss: 0.4011 - masked_acc: 0.7690 - masked_auc: 0.8191 - val_loss: 0.4482 - val_masked_acc: 0.7718 - val_masked_auc: 0.8239\n",
      "Epoch 7/100\n",
      "14/14 [==============================] - 13s 907ms/step - loss: 0.3949 - masked_acc: 0.7725 - masked_auc: 0.8256 - val_loss: 0.4457 - val_masked_acc: 0.7748 - val_masked_auc: 0.8292\n",
      "Epoch 8/100\n",
      "14/14 [==============================] - 12s 873ms/step - loss: 0.3841 - masked_acc: 0.7756 - masked_auc: 0.8306 - val_loss: 0.4450 - val_masked_acc: 0.7774 - val_masked_auc: 0.8335\n",
      "Epoch 9/100\n",
      "14/14 [==============================] - 12s 874ms/step - loss: 0.3822 - masked_acc: 0.7781 - masked_auc: 0.8347 - val_loss: 0.4430 - val_masked_acc: 0.7796 - val_masked_auc: 0.8371\n",
      "Epoch 10/100\n",
      "14/14 [==============================] - 13s 901ms/step - loss: 0.3782 - masked_acc: 0.7803 - masked_auc: 0.8381 - val_loss: 0.4442 - val_masked_acc: 0.7816 - val_masked_auc: 0.8401\n",
      "Epoch 11/100\n",
      "14/14 [==============================] - 12s 869ms/step - loss: 0.3766 - masked_acc: 0.7821 - masked_auc: 0.8410 - val_loss: 0.4416 - val_masked_acc: 0.7834 - val_masked_auc: 0.8429\n",
      "Epoch 12/100\n",
      "14/14 [==============================] - 12s 865ms/step - loss: 0.3703 - masked_acc: 0.7840 - masked_auc: 0.8438 - val_loss: 0.4457 - val_masked_acc: 0.7851 - val_masked_auc: 0.8454\n",
      "Epoch 13/100\n",
      "14/14 [==============================] - 12s 881ms/step - loss: 0.3737 - masked_acc: 0.7855 - masked_auc: 0.8461 - val_loss: 0.4457 - val_masked_acc: 0.7867 - val_masked_auc: 0.8477\n",
      "Epoch 14/100\n",
      "14/14 [==============================] - 12s 857ms/step - loss: 0.3673 - masked_acc: 0.7871 - masked_auc: 0.8483 - val_loss: 0.4452 - val_masked_acc: 0.7882 - val_masked_auc: 0.8498\n",
      "Epoch 15/100\n",
      "14/14 [==============================] - 12s 867ms/step - loss: 0.3609 - masked_acc: 0.7886 - masked_auc: 0.8504 - val_loss: 0.4481 - val_masked_acc: 0.7895 - val_masked_auc: 0.8517\n",
      "Epoch 16/100\n",
      "14/14 [==============================] - 12s 882ms/step - loss: 0.3636 - masked_acc: 0.7899 - masked_auc: 0.8523 - val_loss: 0.4500 - val_masked_acc: 0.7908 - val_masked_auc: 0.8535\n",
      "Epoch 17/100\n",
      "14/14 [==============================] - 12s 857ms/step - loss: 0.3609 - masked_acc: 0.7911 - masked_auc: 0.8540 - val_loss: 0.4533 - val_masked_acc: 0.7920 - val_masked_auc: 0.8552\n",
      "Epoch 18/100\n",
      "14/14 [==============================] - 13s 879ms/step - loss: 0.3533 - masked_acc: 0.7924 - masked_auc: 0.8557 - val_loss: 0.4555 - val_masked_acc: 0.7932 - val_masked_auc: 0.8569\n",
      "Epoch 19/100\n",
      "14/14 [==============================] - 12s 869ms/step - loss: 0.3513 - masked_acc: 0.7935 - masked_auc: 0.8574 - val_loss: 0.4585 - val_masked_acc: 0.7943 - val_masked_auc: 0.8584\n",
      "Epoch 20/100\n",
      "14/14 [==============================] - 13s 904ms/step - loss: 0.3481 - masked_acc: 0.7947 - masked_auc: 0.8589 - val_loss: 0.4584 - val_masked_acc: 0.7955 - val_masked_auc: 0.8600\n",
      "Epoch 21/100\n",
      "14/14 [==============================] - 12s 872ms/step - loss: 0.3379 - masked_acc: 0.7959 - masked_auc: 0.8605 - val_loss: 0.4771 - val_masked_acc: 0.7966 - val_masked_auc: 0.8615\n",
      "28/28 [==============================] - 4s 143ms/step - loss: 0.3359 - masked_acc: 0.7974 - masked_auc: 0.8625\n",
      "4/4 [==============================] - 1s 132ms/step - loss: 0.4001 - masked_acc: 0.7978 - masked_auc: 0.8631\n",
      "Test:  [0.400054931640625, 0.7978496551513672, 0.8631121516227722]\n",
      "Epoch 1/100\n",
      "14/14 [==============================] - 24s 1s/step - loss: 0.5874 - masked_acc: 0.5974 - masked_auc: 0.5399 - val_loss: 0.4915 - val_masked_acc: 0.7015 - val_masked_auc: 0.6579\n",
      "Epoch 2/100\n",
      "14/14 [==============================] - 12s 897ms/step - loss: 0.4733 - masked_acc: 0.7112 - masked_auc: 0.6877 - val_loss: 0.4207 - val_masked_acc: 0.7338 - val_masked_auc: 0.7445\n",
      "Epoch 3/100\n",
      "14/14 [==============================] - 12s 871ms/step - loss: 0.4245 - masked_acc: 0.7389 - masked_auc: 0.7581 - val_loss: 0.4114 - val_masked_acc: 0.7500 - val_masked_auc: 0.7814\n",
      "Epoch 4/100\n",
      "14/14 [==============================] - 12s 895ms/step - loss: 0.4104 - masked_acc: 0.7530 - masked_auc: 0.7881 - val_loss: 0.4066 - val_masked_acc: 0.7586 - val_masked_auc: 0.7995\n",
      "Epoch 5/100\n",
      "14/14 [==============================] - 13s 898ms/step - loss: 0.4086 - masked_acc: 0.7604 - masked_auc: 0.8033 - val_loss: 0.4039 - val_masked_acc: 0.7643 - val_masked_auc: 0.8106\n",
      "Epoch 6/100\n",
      "14/14 [==============================] - 12s 858ms/step - loss: 0.4147 - masked_acc: 0.7650 - masked_auc: 0.8126 - val_loss: 0.4041 - val_masked_acc: 0.7682 - val_masked_auc: 0.8181\n",
      "Epoch 7/100\n",
      "14/14 [==============================] - 12s 889ms/step - loss: 0.4037 - masked_acc: 0.7690 - masked_auc: 0.8198 - val_loss: 0.4014 - val_masked_acc: 0.7713 - val_masked_auc: 0.8238\n",
      "Epoch 8/100\n",
      "14/14 [==============================] - 13s 882ms/step - loss: 0.3982 - masked_acc: 0.7720 - masked_auc: 0.8251 - val_loss: 0.4021 - val_masked_acc: 0.7739 - val_masked_auc: 0.8283\n",
      "Epoch 9/100\n",
      "14/14 [==============================] - 12s 883ms/step - loss: 0.3932 - masked_acc: 0.7746 - masked_auc: 0.8296 - val_loss: 0.4001 - val_masked_acc: 0.7762 - val_masked_auc: 0.8320\n",
      "Epoch 10/100\n",
      "14/14 [==============================] - 12s 891ms/step - loss: 0.3888 - masked_acc: 0.7768 - masked_auc: 0.8330 - val_loss: 0.3997 - val_masked_acc: 0.7782 - val_masked_auc: 0.8352\n",
      "Epoch 11/100\n",
      "14/14 [==============================] - 12s 884ms/step - loss: 0.3959 - masked_acc: 0.7786 - masked_auc: 0.8360 - val_loss: 0.3995 - val_masked_acc: 0.7800 - val_masked_auc: 0.8380\n",
      "Epoch 12/100\n",
      "14/14 [==============================] - 12s 886ms/step - loss: 0.3836 - masked_acc: 0.7806 - masked_auc: 0.8388 - val_loss: 0.3996 - val_masked_acc: 0.7817 - val_masked_auc: 0.8404\n",
      "Epoch 13/100\n",
      "14/14 [==============================] - 12s 867ms/step - loss: 0.3717 - masked_acc: 0.7822 - masked_auc: 0.8413 - val_loss: 0.4024 - val_masked_acc: 0.7832 - val_masked_auc: 0.8427\n",
      "Epoch 14/100\n",
      "14/14 [==============================] - 12s 890ms/step - loss: 0.3802 - masked_acc: 0.7836 - masked_auc: 0.8433 - val_loss: 0.4029 - val_masked_acc: 0.7845 - val_masked_auc: 0.8447\n",
      "Epoch 15/100\n",
      "14/14 [==============================] - 12s 889ms/step - loss: 0.3778 - masked_acc: 0.7849 - masked_auc: 0.8453 - val_loss: 0.4021 - val_masked_acc: 0.7859 - val_masked_auc: 0.8467\n",
      "Epoch 16/100\n",
      "14/14 [==============================] - 12s 889ms/step - loss: 0.3692 - masked_acc: 0.7863 - masked_auc: 0.8473 - val_loss: 0.4111 - val_masked_acc: 0.7872 - val_masked_auc: 0.8485\n",
      "Epoch 17/100\n",
      "14/14 [==============================] - 12s 886ms/step - loss: 0.3703 - masked_acc: 0.7875 - masked_auc: 0.8490 - val_loss: 0.4062 - val_masked_acc: 0.7884 - val_masked_auc: 0.8502\n",
      "Epoch 18/100\n",
      "14/14 [==============================] - 12s 846ms/step - loss: 0.3655 - masked_acc: 0.7887 - masked_auc: 0.8507 - val_loss: 0.4101 - val_masked_acc: 0.7895 - val_masked_auc: 0.8519\n",
      "Epoch 19/100\n",
      "14/14 [==============================] - 12s 890ms/step - loss: 0.3635 - masked_acc: 0.7898 - masked_auc: 0.8523 - val_loss: 0.4130 - val_masked_acc: 0.7906 - val_masked_auc: 0.8535\n",
      "Epoch 20/100\n",
      "14/14 [==============================] - 12s 874ms/step - loss: 0.3631 - masked_acc: 0.7909 - masked_auc: 0.8539 - val_loss: 0.4172 - val_masked_acc: 0.7918 - val_masked_auc: 0.8550\n",
      "Epoch 21/100\n",
      "14/14 [==============================] - 12s 855ms/step - loss: 0.3558 - masked_acc: 0.7921 - masked_auc: 0.8555 - val_loss: 0.4179 - val_masked_acc: 0.7928 - val_masked_auc: 0.8565\n",
      "28/28 [==============================] - 4s 145ms/step - loss: 0.3481 - masked_acc: 0.7936 - masked_auc: 0.8575\n",
      "4/4 [==============================] - 1s 132ms/step - loss: 0.3759 - masked_acc: 0.7941 - masked_auc: 0.8582\n",
      "Test:  [0.37589287757873535, 0.7941007614135742, 0.858209490776062]\n",
      "Epoch 1/100\n",
      "14/14 [==============================] - 23s 1s/step - loss: 0.6076 - masked_acc: 0.5290 - masked_auc: 0.5085 - val_loss: 0.4871 - val_masked_acc: 0.6831 - val_masked_auc: 0.6102\n",
      "Epoch 2/100\n",
      "14/14 [==============================] - 12s 885ms/step - loss: 0.4959 - masked_acc: 0.6907 - masked_auc: 0.6422 - val_loss: 0.4086 - val_masked_acc: 0.7155 - val_masked_auc: 0.7067\n",
      "Epoch 3/100\n",
      "14/14 [==============================] - 12s 890ms/step - loss: 0.4346 - masked_acc: 0.7224 - masked_auc: 0.7259 - val_loss: 0.3892 - val_masked_acc: 0.7377 - val_masked_auc: 0.7581\n",
      "Epoch 4/100\n",
      "14/14 [==============================] - 12s 871ms/step - loss: 0.4165 - masked_acc: 0.7413 - masked_auc: 0.7667 - val_loss: 0.3815 - val_masked_acc: 0.7501 - val_masked_auc: 0.7838\n",
      "Epoch 5/100\n",
      "14/14 [==============================] - 12s 889ms/step - loss: 0.4055 - masked_acc: 0.7525 - masked_auc: 0.7888 - val_loss: 0.3777 - val_masked_acc: 0.7581 - val_masked_auc: 0.7993\n",
      "Epoch 6/100\n",
      "14/14 [==============================] - 12s 894ms/step - loss: 0.4048 - masked_acc: 0.7596 - masked_auc: 0.8027 - val_loss: 0.3758 - val_masked_acc: 0.7638 - val_masked_auc: 0.8099\n",
      "Epoch 7/100\n",
      "14/14 [==============================] - 12s 879ms/step - loss: 0.4008 - masked_acc: 0.7648 - masked_auc: 0.8122 - val_loss: 0.3752 - val_masked_acc: 0.7680 - val_masked_auc: 0.8174\n",
      "Epoch 8/100\n",
      "14/14 [==============================] - 12s 859ms/step - loss: 0.4000 - masked_acc: 0.7688 - masked_auc: 0.8190 - val_loss: 0.3751 - val_masked_acc: 0.7714 - val_masked_auc: 0.8232\n",
      "Epoch 9/100\n",
      "14/14 [==============================] - 12s 881ms/step - loss: 0.3972 - masked_acc: 0.7720 - masked_auc: 0.8246 - val_loss: 0.3756 - val_masked_acc: 0.7742 - val_masked_auc: 0.8280\n",
      "Epoch 10/100\n",
      "14/14 [==============================] - 12s 885ms/step - loss: 0.3937 - masked_acc: 0.7747 - masked_auc: 0.8291 - val_loss: 0.3753 - val_masked_acc: 0.7767 - val_masked_auc: 0.8320\n",
      "Epoch 11/100\n",
      "14/14 [==============================] - 12s 869ms/step - loss: 0.3925 - masked_acc: 0.7771 - masked_auc: 0.8330 - val_loss: 0.3738 - val_masked_acc: 0.7789 - val_masked_auc: 0.8355\n",
      "Epoch 12/100\n",
      "14/14 [==============================] - 12s 880ms/step - loss: 0.3840 - masked_acc: 0.7794 - masked_auc: 0.8364 - val_loss: 0.3817 - val_masked_acc: 0.7808 - val_masked_auc: 0.8385\n",
      "Epoch 13/100\n",
      "14/14 [==============================] - 12s 868ms/step - loss: 0.3779 - masked_acc: 0.7813 - masked_auc: 0.8392 - val_loss: 0.3744 - val_masked_acc: 0.7825 - val_masked_auc: 0.8410\n",
      "Epoch 14/100\n",
      "14/14 [==============================] - 12s 860ms/step - loss: 0.3713 - masked_acc: 0.7831 - masked_auc: 0.8418 - val_loss: 0.3761 - val_masked_acc: 0.7842 - val_masked_auc: 0.8435\n",
      "Epoch 15/100\n",
      "14/14 [==============================] - 13s 910ms/step - loss: 0.3770 - masked_acc: 0.7846 - masked_auc: 0.8441 - val_loss: 0.3769 - val_masked_acc: 0.7858 - val_masked_auc: 0.8458\n",
      "Epoch 16/100\n",
      "14/14 [==============================] - 12s 861ms/step - loss: 0.3687 - masked_acc: 0.7861 - masked_auc: 0.8464 - val_loss: 0.3768 - val_masked_acc: 0.7873 - val_masked_auc: 0.8479\n",
      "Epoch 17/100\n",
      "14/14 [==============================] - 12s 845ms/step - loss: 0.3672 - masked_acc: 0.7876 - masked_auc: 0.8485 - val_loss: 0.3806 - val_masked_acc: 0.7886 - val_masked_auc: 0.8499\n",
      "Epoch 18/100\n",
      "14/14 [==============================] - 12s 886ms/step - loss: 0.3647 - masked_acc: 0.7890 - masked_auc: 0.8505 - val_loss: 0.3817 - val_masked_acc: 0.7900 - val_masked_auc: 0.8518\n",
      "Epoch 19/100\n",
      "14/14 [==============================] - 12s 848ms/step - loss: 0.3564 - masked_acc: 0.7904 - masked_auc: 0.8524 - val_loss: 0.3884 - val_masked_acc: 0.7913 - val_masked_auc: 0.8536\n",
      "Epoch 20/100\n",
      "14/14 [==============================] - 12s 870ms/step - loss: 0.3616 - masked_acc: 0.7915 - masked_auc: 0.8540 - val_loss: 0.3872 - val_masked_acc: 0.7925 - val_masked_auc: 0.8553\n",
      "Epoch 21/100\n",
      "14/14 [==============================] - 12s 857ms/step - loss: 0.3543 - masked_acc: 0.7928 - masked_auc: 0.8557 - val_loss: 0.3924 - val_masked_acc: 0.7936 - val_masked_auc: 0.8569\n",
      "28/28 [==============================] - 4s 146ms/step - loss: 0.3450 - masked_acc: 0.7945 - masked_auc: 0.8579\n",
      "4/4 [==============================] - 1s 159ms/step - loss: 0.4296 - masked_acc: 0.7947 - masked_auc: 0.8585\n",
      "Test:  [0.4295911192893982, 0.7947423458099365, 0.8585052490234375]\n",
      "Epoch 1/100\n",
      "14/14 [==============================] - 23s 1s/step - loss: 0.5772 - masked_acc: 0.6878 - masked_auc: 0.5271 - val_loss: 0.5286 - val_masked_acc: 0.7161 - val_masked_auc: 0.6535\n",
      "Epoch 2/100\n",
      "14/14 [==============================] - 12s 859ms/step - loss: 0.4620 - masked_acc: 0.7237 - masked_auc: 0.6846 - val_loss: 0.4624 - val_masked_acc: 0.7392 - val_masked_auc: 0.7390\n",
      "Epoch 3/100\n",
      "14/14 [==============================] - 13s 907ms/step - loss: 0.4130 - masked_acc: 0.7446 - masked_auc: 0.7543 - val_loss: 0.4432 - val_masked_acc: 0.7540 - val_masked_auc: 0.7783\n",
      "Epoch 4/100\n",
      "14/14 [==============================] - 12s 855ms/step - loss: 0.4034 - masked_acc: 0.7567 - masked_auc: 0.7852 - val_loss: 0.4398 - val_masked_acc: 0.7624 - val_masked_auc: 0.7980\n",
      "Epoch 5/100\n",
      "14/14 [==============================] - 12s 865ms/step - loss: 0.3983 - masked_acc: 0.7642 - masked_auc: 0.8019 - val_loss: 0.4373 - val_masked_acc: 0.7680 - val_masked_auc: 0.8100\n",
      "Epoch 6/100\n",
      "14/14 [==============================] - 13s 907ms/step - loss: 0.3960 - masked_acc: 0.7692 - masked_auc: 0.8126 - val_loss: 0.4366 - val_masked_acc: 0.7720 - val_masked_auc: 0.8183\n",
      "Epoch 7/100\n",
      "14/14 [==============================] - 12s 849ms/step - loss: 0.3939 - masked_acc: 0.7729 - masked_auc: 0.8203 - val_loss: 0.4319 - val_masked_acc: 0.7752 - val_masked_auc: 0.8245\n",
      "Epoch 8/100\n",
      "14/14 [==============================] - 12s 891ms/step - loss: 0.3872 - masked_acc: 0.7760 - masked_auc: 0.8260 - val_loss: 0.4401 - val_masked_acc: 0.7778 - val_masked_auc: 0.8294\n",
      "Epoch 9/100\n",
      "14/14 [==============================] - 12s 842ms/step - loss: 0.3860 - masked_acc: 0.7784 - masked_auc: 0.8307 - val_loss: 0.4309 - val_masked_acc: 0.7800 - val_masked_auc: 0.8334\n",
      "Epoch 10/100\n",
      "14/14 [==============================] - 12s 861ms/step - loss: 0.3796 - masked_acc: 0.7806 - masked_auc: 0.8344 - val_loss: 0.4308 - val_masked_acc: 0.7821 - val_masked_auc: 0.8369\n",
      "Epoch 11/100\n",
      "14/14 [==============================] - 12s 868ms/step - loss: 0.3787 - masked_acc: 0.7826 - masked_auc: 0.8378 - val_loss: 0.4306 - val_masked_acc: 0.7840 - val_masked_auc: 0.8400\n",
      "Epoch 12/100\n",
      "14/14 [==============================] - 12s 861ms/step - loss: 0.3757 - masked_acc: 0.7845 - masked_auc: 0.8408 - val_loss: 0.4305 - val_masked_acc: 0.7856 - val_masked_auc: 0.8427\n",
      "Epoch 13/100\n",
      "14/14 [==============================] - 12s 862ms/step - loss: 0.3741 - masked_acc: 0.7860 - masked_auc: 0.8434 - val_loss: 0.4305 - val_masked_acc: 0.7870 - val_masked_auc: 0.8450\n",
      "Epoch 14/100\n",
      "14/14 [==============================] - 12s 865ms/step - loss: 0.3673 - masked_acc: 0.7875 - masked_auc: 0.8457 - val_loss: 0.4336 - val_masked_acc: 0.7885 - val_masked_auc: 0.8473\n",
      "Epoch 15/100\n",
      "14/14 [==============================] - 12s 886ms/step - loss: 0.3620 - masked_acc: 0.7889 - masked_auc: 0.8479 - val_loss: 0.4328 - val_masked_acc: 0.7898 - val_masked_auc: 0.8493\n",
      "Epoch 16/100\n",
      "14/14 [==============================] - 12s 877ms/step - loss: 0.3593 - masked_acc: 0.7903 - masked_auc: 0.8500 - val_loss: 0.4390 - val_masked_acc: 0.7910 - val_masked_auc: 0.8512\n",
      "Epoch 17/100\n",
      "14/14 [==============================] - 12s 860ms/step - loss: 0.3581 - masked_acc: 0.7914 - masked_auc: 0.8518 - val_loss: 0.4397 - val_masked_acc: 0.7921 - val_masked_auc: 0.8529\n",
      "Epoch 18/100\n",
      "14/14 [==============================] - 12s 875ms/step - loss: 0.3564 - masked_acc: 0.7925 - masked_auc: 0.8534 - val_loss: 0.4406 - val_masked_acc: 0.7933 - val_masked_auc: 0.8546\n",
      "Epoch 19/100\n",
      "14/14 [==============================] - 12s 879ms/step - loss: 0.3491 - masked_acc: 0.7936 - masked_auc: 0.8551 - val_loss: 0.4422 - val_masked_acc: 0.7944 - val_masked_auc: 0.8562\n",
      "Epoch 20/100\n",
      "14/14 [==============================] - 12s 867ms/step - loss: 0.3483 - masked_acc: 0.7947 - masked_auc: 0.8567 - val_loss: 0.4504 - val_masked_acc: 0.7955 - val_masked_auc: 0.8578\n",
      "Epoch 21/100\n",
      "14/14 [==============================] - 13s 896ms/step - loss: 0.3531 - masked_acc: 0.7957 - masked_auc: 0.8582 - val_loss: 0.4511 - val_masked_acc: 0.7965 - val_masked_auc: 0.8592\n",
      "Epoch 22/100\n",
      "14/14 [==============================] - 12s 851ms/step - loss: 0.3414 - masked_acc: 0.7968 - masked_auc: 0.8597 - val_loss: 0.4542 - val_masked_acc: 0.7974 - val_masked_auc: 0.8606\n",
      "28/28 [==============================] - 4s 146ms/step - loss: 0.3342 - masked_acc: 0.7983 - masked_auc: 0.8617\n",
      "4/4 [==============================] - 1s 130ms/step - loss: 0.4293 - masked_acc: 0.7986 - masked_auc: 0.8623\n",
      "Test:  [0.42928847670555115, 0.7986266613006592, 0.8622562885284424]\n"
     ]
    }
   ],
   "source": [
    "# 5 fold cross validation with LSTM-based model\n",
    "import torch\n",
    "X = np.array(grouped_data.keys())\n",
    "kfold = KFold(n_splits=5, shuffle=True)\n",
    "train_losses = list()\n",
    "train_aucs = list()\n",
    "val_losses = list()\n",
    "val_aucs = list()\n",
    "train_eval = list()\n",
    "test_eval = list()\n",
    "for train, test in kfold.split(X):\n",
    "    users_train, users_test =  X[train], X[test]\n",
    "    n = len(users_test)//2\n",
    "    users_test, users_val = users_test[:n], users_test[n: ]\n",
    "    train_data_space = SPACE_DATASET(grouped_data[users_train], MAXLENGTH)\n",
    "    val_data_space = SPACE_DATASET(grouped_data[users_val], MAXLENGTH)\n",
    "    test_data_space = SPACE_DATASET(grouped_data[users_test], MAXLENGTH)\n",
    "    #construct training input\n",
    "    train_chapter=[]\n",
    "    train_sub_chapter=[]\n",
    "    train_question = []\n",
    "    train_features=[]\n",
    "    train_shifted_t = []\n",
    "    train_labels=[]\n",
    "    for i in range(len(users_train)):\n",
    "        user = train_data_space.__getitem__(i)\n",
    "        train_chapter.append(user[0])\n",
    "        train_sub_chapter.append(user[1]) \n",
    "        train_question.append(user[2])\n",
    "        train_features.append(user[3])\n",
    "        train_shifted_t.append(user[4])\n",
    "        train_labels.append(user[5])\n",
    "    train_chapter = np.array(train_chapter)\n",
    "    train_sub_chapter = np.array(train_sub_chapter)\n",
    "    train_question = np.array(train_question)\n",
    "    train_features = np.array(train_features)\n",
    "    train_shifted_t = np.array(train_shifted_t)\n",
    "    train_labels= np.array(train_labels)[..., np.newaxis]\n",
    "\n",
    "    #construct validation input\n",
    "    val_chapter=[]\n",
    "    val_sub_chapter=[]\n",
    "    val_question = []\n",
    "    val_features=[]\n",
    "    val_shifted_t = []\n",
    "    val_labels=[]\n",
    "    for i in range(len(users_val)):\n",
    "        user = val_data_space.__getitem__(i)\n",
    "        val_chapter.append(user[0])\n",
    "        val_sub_chapter.append(user[1]) \n",
    "        val_question.append(user[2])\n",
    "        val_features.append(user[3])\n",
    "        val_shifted_t.append(user[4])\n",
    "        val_labels.append(user[5])\n",
    "    val_chapter = np.array(val_chapter)\n",
    "    val_sub_chapter = np.array(val_sub_chapter)\n",
    "    val_features = np.array(val_features)\n",
    "    val_question = np.array(val_question)\n",
    "    val_shifted_t = np.array(val_shifted_t)\n",
    "    val_labels= np.array(val_labels)[..., np.newaxis]\n",
    "\n",
    "    # construct test input\n",
    "    test_chapter=[]\n",
    "    test_sub_chapter=[]\n",
    "    test_features=[]\n",
    "    test_question=[]\n",
    "    test_shifted_t = []\n",
    "    test_labels=[]\n",
    "    for i in range(len(users_test)):\n",
    "        user = test_data_space.__getitem__(i)\n",
    "        test_chapter.append(user[0])\n",
    "        test_sub_chapter.append(user[1]) \n",
    "        test_question.append(user[2])\n",
    "        test_features.append(user[3])\n",
    "        test_shifted_t.append(user[4])\n",
    "        test_labels.append(user[5])\n",
    "    test_chapter = np.array(test_chapter)\n",
    "    test_sub_chapter = np.array(test_sub_chapter)\n",
    "    test_features = np.array(test_features)\n",
    "    test_question = np.array(test_question)\n",
    "    test_shifted_t = np.array(test_shifted_t)\n",
    "    test_labels= np.array(test_labels)[..., np.newaxis]\n",
    "\n",
    "    # define loss function and evaluation metrics\n",
    "    bce = tf.keras.losses.BinaryCrossentropy(from_logits=True)\n",
    "    acc = tf.keras.metrics.Accuracy()\n",
    "    auc = tf.keras.metrics.AUC()\n",
    "\n",
    "    def masked_bce(y_true, y_pred):\n",
    "      flat_pred = y_pred\n",
    "      flat_ground_truth = y_true\n",
    "      label_mask = tf.math.not_equal(flat_ground_truth, -1)\n",
    "      return bce(flat_ground_truth, flat_pred, sample_weight=label_mask)\n",
    "\n",
    "    def masked_acc(y_true, y_pred):\n",
    "      flat_pred = y_pred\n",
    "      flat_ground_truth = y_true\n",
    "      flat_pred = (flat_pred >= 0.5)\n",
    "      label_mask = tf.math.not_equal(flat_ground_truth, -1)\n",
    "      return acc(flat_ground_truth, flat_pred, sample_weight=label_mask)\n",
    "\n",
    "    def masked_auc(y_true, y_pred):\n",
    "      flat_pred = y_pred\n",
    "      flat_ground_truth = y_true\n",
    "      label_mask = tf.math.not_equal(flat_ground_truth, -1)\n",
    "      return auc(flat_ground_truth, flat_pred, sample_weight=label_mask)\n",
    "\n",
    "    # input layer\n",
    "    input_chap = tf.keras.Input(shape=(MAXLENGTH))\n",
    "    input_sub_chap = tf.keras.Input(shape=(MAXLENGTH))\n",
    "    input_ques =  tf.keras.Input(shape=(MAXLENGTH))\n",
    "    input_shifted = tf.keras.Input(shape=(MAXLENGTH))\n",
    "    input_features = tf.keras.Input(shape=(MAXLENGTH, FEATURES_SIZE))\n",
    "\n",
    "    # embedding layer for categorical features\n",
    "    embedding_chap = Embedding(input_dim = CHAPTER_SIZE, output_dim = EMBEDDING_DIM)(input_chap)\n",
    "    embedding_sub_chap = Embedding(input_dim = SUB_CHAPTER_SIZE, output_dim = EMBEDDING_DIM)(input_sub_chap) \n",
    "    embedding_ques = Embedding(input_dim = QUESTION_SIZE, output_dim = EMBEDDING_DIM)(input_ques)       \n",
    "    embedding_shifted = Embedding(input_dim = 3, output_dim = EMBEDDING_DIM)(input_shifted)\n",
    "    # dense layer for numeric features\n",
    "    dense_features = Dense(EMBEDDING_DIM,input_shape = (None, MAXLENGTH))(input_features)\n",
    "\n",
    "    # definr LSTM layers\n",
    "    LSTM_chap = LSTM(LSTM_NEURON, input_shape = (None, EMBEDDING_DIM),return_sequences = True)(embedding_chap)\n",
    "    LSTM_sub_chap = LSTM(LSTM_NEURON, input_shape = (None, EMBEDDING_DIM),return_sequences = True)(embedding_sub_chap)\n",
    "    LSTM_ques = LSTM(LSTM_NEURON, input_shape = (None, EMBEDDING_DIM),return_sequences = True)(embedding_ques)\n",
    "    LSTM_shif = LSTM(LSTM_NEURON, input_shape = (None, EMBEDDING_DIM),return_sequences = True)(embedding_shifted)\n",
    "    LSTM_features = LSTM(LSTM_NEURON, input_shape = (None, EMBEDDING_DIM),return_sequences = True)(dense_features)\n",
    "\n",
    "    LSTM_output = tf.concat([LSTM_chap, LSTM_sub_chap, LSTM_ques,LSTM_shif, LSTM_features], axis = 2)\n",
    "\n",
    "    dense1 = Dense(256, input_shape = (None, 5*EMBEDDING_DIM), activation='relu')(LSTM_output)\n",
    "    dropout1 = Dropout(0.1)(dense1)\n",
    "    dense2 = Dense(64, input_shape = (None, 256), activation='relu')(dropout1)\n",
    "    dropout2 = Dropout(0.1)(dense2)\n",
    "    pred = Dense(1, input_shape = (None, 64), activation='sigmoid')(dropout2)\n",
    "\n",
    "    model = tf.keras.Model(\n",
    "        inputs=[input_chap, input_sub_chap,input_ques, input_shifted, input_features],\n",
    "        outputs=pred,\n",
    "        name='LSTM_model'\n",
    "    )\n",
    "\n",
    "    callback = tf.keras.callbacks.EarlyStopping(monitor='val_loss', patience=10)\n",
    "    opt_adam = Adam(learning_rate = 0.005)\n",
    "    model.compile(\n",
    "        optimizer=opt_adam,\n",
    "        loss= masked_bce,\n",
    "        metrics = [masked_acc, masked_auc]\n",
    "    )\n",
    "\n",
    "    history = model.fit(\n",
    "      [train_chapter, train_sub_chapter, train_question, train_shifted_t, train_features],\n",
    "      train_labels,\n",
    "      batch_size = 64,\n",
    "      epochs = 100,\n",
    "      validation_data=([val_chapter, val_sub_chapter, val_question, val_shifted_t, val_features], val_labels),\n",
    "      callbacks=[callback]\n",
    "    )\n",
    "    val_losses.append(list(history.history['val_loss']))\n",
    "    train_losses.append(list(history.history['loss']))\n",
    "    val_aucs.append(list(history.history['val_masked_auc']))\n",
    "    train_aucs.append(list(history.history['masked_auc']))\n",
    "    train_score = model.evaluate([train_chapter, train_sub_chapter, train_question, train_shifted_t, train_features], train_labels)\n",
    "    train_eval.append(train_score)\n",
    "    test_score = model.evaluate([test_chapter, test_sub_chapter, test_question, test_shifted_t, test_features], test_labels)\n",
    "    test_eval.append(test_score)\n",
    "    print(\"Test: \", test_score)\n",
    "    def reset_weights(model):\n",
    "      for layer in model.layers: \n",
    "        if isinstance(layer, tf.keras.Model):\n",
    "          reset_weights(layer)\n",
    "          continue\n",
    "        for k, initializer in layer.__dict__.items():\n",
    "          if \"initializer\" not in k:\n",
    "            continue\n",
    "          # find the corresponding variable\n",
    "          var = getattr(layer, k.replace(\"_initializer\", \"\"))\n",
    "          var.assign(initializer(var.shape, var.dtype))\n",
    "    reset_weights(model)"
   ]
  },
  {
   "cell_type": "code",
   "execution_count": 33,
   "metadata": {
    "execution": {
     "iopub.execute_input": "2021-08-08T15:58:53.637132Z",
     "iopub.status.busy": "2021-08-08T15:58:53.636472Z",
     "iopub.status.idle": "2021-08-08T15:58:53.646345Z",
     "shell.execute_reply": "2021-08-08T15:58:53.647083Z",
     "shell.execute_reply.started": "2021-08-06T21:35:33.922753Z"
    },
    "id": "QsVmumHMz3lx",
    "outputId": "4ff1e2fa-6abb-458e-c729-495b456f53e5",
    "papermill": {
     "duration": 0.936396,
     "end_time": "2021-08-08T15:58:53.647307",
     "exception": false,
     "start_time": "2021-08-08T15:58:52.710911",
     "status": "completed"
    },
    "tags": []
   },
   "outputs": [
    {
     "name": "stdout",
     "output_type": "stream",
     "text": [
      "test avg loss:  0.4111431181430817 +/- 0.02064013789307095\n",
      "test avg acc:  0.7960778713226319 +/- 0.001807986729121136\n",
      "test avg auc:  0.8601248025894165 +/- 0.002110346858812924\n"
     ]
    }
   ],
   "source": [
    "t_eval = np.array(test_eval)\n",
    "print(\"test avg loss: \", np.mean(t_eval[:, 0]), \"+/-\" ,np.std(t_eval[:, 0]))\n",
    "print(\"test avg acc: \", np.mean(t_eval[:, 1]),  \"+/-\" ,np.std(t_eval[:, 1]))\n",
    "print(\"test avg auc: \", np.mean(t_eval[:, 2]), \"+/-\" ,np.std(t_eval[:, 2]))"
   ]
  },
  {
   "cell_type": "code",
   "execution_count": 34,
   "metadata": {
    "execution": {
     "iopub.execute_input": "2021-08-08T15:58:55.500076Z",
     "iopub.status.busy": "2021-08-08T15:58:55.499370Z",
     "iopub.status.idle": "2021-08-08T15:58:55.503149Z",
     "shell.execute_reply": "2021-08-08T15:58:55.503666Z",
     "shell.execute_reply.started": "2021-08-06T21:35:33.935484Z"
    },
    "id": "b9MM_CXWz5K6",
    "outputId": "4cf88e1d-3a74-4e7d-f92c-d01522e91757",
    "papermill": {
     "duration": 0.934781,
     "end_time": "2021-08-08T15:58:55.503855",
     "exception": false,
     "start_time": "2021-08-08T15:58:54.569074",
     "status": "completed"
    },
    "tags": []
   },
   "outputs": [
    {
     "name": "stdout",
     "output_type": "stream",
     "text": [
      "train avg loss:  0.3424279451370239 +/- 0.006180744134291233\n",
      "train avg acc:  0.7957086801528931 +/- 0.001807094940889295\n",
      "train avg auc:  0.859498119354248 +/- 0.002115974262915253\n"
     ]
    }
   ],
   "source": [
    "t_eval = np.array(train_eval)\n",
    "print(\"train avg loss: \", np.mean(t_eval[:, 0]), \"+/-\" ,np.std(t_eval[:, 0]))\n",
    "print(\"train avg acc: \", np.mean(t_eval[:, 1]),  \"+/-\" ,np.std(t_eval[:, 1]))\n",
    "print(\"train avg auc: \", np.mean(t_eval[:, 2]), \"+/-\" ,np.std(t_eval[:, 2]))"
   ]
  }
 ],
 "metadata": {
  "kernelspec": {
   "display_name": "Python 3",
   "language": "python",
   "name": "python3"
  },
  "language_info": {
   "codemirror_mode": {
    "name": "ipython",
    "version": 3
   },
   "file_extension": ".py",
   "mimetype": "text/x-python",
   "name": "python",
   "nbconvert_exporter": "python",
   "pygments_lexer": "ipython3",
   "version": "3.8.5"
  },
  "papermill": {
   "default_parameters": {},
   "duration": 1846.967333,
   "end_time": "2021-08-08T15:59:00.023483",
   "environment_variables": {},
   "exception": null,
   "input_path": "__notebook__.ipynb",
   "output_path": "__notebook__.ipynb",
   "parameters": {},
   "start_time": "2021-08-08T15:28:13.056150",
   "version": "2.3.3"
  }
 },
 "nbformat": 4,
 "nbformat_minor": 5
}
