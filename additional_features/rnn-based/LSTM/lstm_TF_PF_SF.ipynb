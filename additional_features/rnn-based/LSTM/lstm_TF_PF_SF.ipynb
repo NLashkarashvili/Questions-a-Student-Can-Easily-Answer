{
 "cells": [
  {
   "cell_type": "code",
   "execution_count": 1,
   "metadata": {
    "execution": {
     "iopub.execute_input": "2021-08-08T12:59:15.444729Z",
     "iopub.status.busy": "2021-08-08T12:59:15.444064Z",
     "iopub.status.idle": "2021-08-08T12:59:21.814594Z",
     "shell.execute_reply": "2021-08-08T12:59:21.813373Z",
     "shell.execute_reply.started": "2021-08-06T20:58:20.355062Z"
    },
    "id": "farifxiKU1aB",
    "papermill": {
     "duration": 6.41404,
     "end_time": "2021-08-08T12:59:21.814824",
     "exception": false,
     "start_time": "2021-08-08T12:59:15.400784",
     "status": "completed"
    },
    "tags": []
   },
   "outputs": [],
   "source": [
    "import numpy as np\n",
    "import pandas as pd\n",
    "import warnings\n",
    "import gc\n",
    "import tensorflow as tf\n",
    "from tensorflow import keras\n",
    "\n",
    "import random\n",
    "from random import choice\n",
    "from tensorflow.keras.optimizers import Adam\n",
    "from tensorflow.keras.models import Sequential \n",
    "from tensorflow.keras.layers import Dense, LSTM, Concatenate, Embedding, Flatten, Activation, Dropout\n",
    "from sklearn.model_selection import KFold\n",
    "from tensorflow.python.client import device_lib\n",
    "warnings.filterwarnings('ignore')\n",
    "import random"
   ]
  },
  {
   "cell_type": "code",
   "execution_count": 2,
   "metadata": {
    "execution": {
     "iopub.execute_input": "2021-08-08T12:59:21.880637Z",
     "iopub.status.busy": "2021-08-08T12:59:21.879912Z",
     "iopub.status.idle": "2021-08-08T12:59:21.882327Z",
     "shell.execute_reply": "2021-08-08T12:59:21.882788Z",
     "shell.execute_reply.started": "2021-08-06T20:58:22.59473Z"
    },
    "id": "QOson70GPOXb",
    "papermill": {
     "duration": 0.036028,
     "end_time": "2021-08-08T12:59:21.882951",
     "exception": false,
     "start_time": "2021-08-08T12:59:21.846923",
     "status": "completed"
    },
    "tags": []
   },
   "outputs": [],
   "source": [
    "import gc"
   ]
  },
  {
   "cell_type": "markdown",
   "metadata": {
    "id": "BQsVybBH3VPw",
    "papermill": {
     "duration": 0.02856,
     "end_time": "2021-08-08T12:59:21.940621",
     "exception": false,
     "start_time": "2021-08-08T12:59:21.912061",
     "status": "completed"
    },
    "tags": []
   },
   "source": [
    "## Data Preprocessing"
   ]
  },
  {
   "cell_type": "code",
   "execution_count": 3,
   "metadata": {
    "execution": {
     "iopub.execute_input": "2021-08-08T12:59:22.003992Z",
     "iopub.status.busy": "2021-08-08T12:59:22.003346Z",
     "iopub.status.idle": "2021-08-08T12:59:29.362526Z",
     "shell.execute_reply": "2021-08-08T12:59:29.363001Z",
     "shell.execute_reply.started": "2021-08-06T20:58:22.601494Z"
    },
    "id": "rwtTusGxrmAE",
    "outputId": "1430f3cf-038b-485e-b5c4-c1686b1f34fd",
    "papermill": {
     "duration": 7.393523,
     "end_time": "2021-08-08T12:59:29.363171",
     "exception": false,
     "start_time": "2021-08-08T12:59:21.969648",
     "status": "completed"
    },
    "tags": []
   },
   "outputs": [
    {
     "data": {
      "text/html": [
       "<div>\n",
       "<style scoped>\n",
       "    .dataframe tbody tr th:only-of-type {\n",
       "        vertical-align: middle;\n",
       "    }\n",
       "\n",
       "    .dataframe tbody tr th {\n",
       "        vertical-align: top;\n",
       "    }\n",
       "\n",
       "    .dataframe thead th {\n",
       "        text-align: right;\n",
       "    }\n",
       "</style>\n",
       "<table border=\"1\" class=\"dataframe\">\n",
       "  <thead>\n",
       "    <tr style=\"text-align: right;\">\n",
       "      <th></th>\n",
       "      <th>Unnamed: 0</th>\n",
       "      <th>chapter_label</th>\n",
       "      <th>sub_chapter_label</th>\n",
       "      <th>question_name</th>\n",
       "      <th>user_id.x</th>\n",
       "      <th>term</th>\n",
       "      <th>STDNT_SEX_CD</th>\n",
       "      <th>NonNativeEnglish</th>\n",
       "      <th>White</th>\n",
       "      <th>Asian</th>\n",
       "      <th>...</th>\n",
       "      <th>classGraded</th>\n",
       "      <th>classHonors</th>\n",
       "      <th>Pass_Fail</th>\n",
       "      <th>parentsGraduateEdu</th>\n",
       "      <th>minorityGroup</th>\n",
       "      <th>q</th>\n",
       "      <th>day's_available_flashcards</th>\n",
       "      <th>start_practice</th>\n",
       "      <th>end_practice</th>\n",
       "      <th>days_offset</th>\n",
       "    </tr>\n",
       "  </thead>\n",
       "  <tbody>\n",
       "    <tr>\n",
       "      <th>0</th>\n",
       "      <td>1</td>\n",
       "      <td>Sort</td>\n",
       "      <td>intro-SortingwithSortandSorted</td>\n",
       "      <td>ee_sort_04</td>\n",
       "      <td>148</td>\n",
       "      <td>WN 2018</td>\n",
       "      <td>1</td>\n",
       "      <td>0</td>\n",
       "      <td>1</td>\n",
       "      <td>0</td>\n",
       "      <td>...</td>\n",
       "      <td>1</td>\n",
       "      <td>0</td>\n",
       "      <td>0</td>\n",
       "      <td>0</td>\n",
       "      <td>0</td>\n",
       "      <td>0</td>\n",
       "      <td>18</td>\n",
       "      <td>2018-03-04 20:00:19</td>\n",
       "      <td>2018-03-04 20:00:35</td>\n",
       "      <td>45</td>\n",
       "    </tr>\n",
       "    <tr>\n",
       "      <th>1</th>\n",
       "      <td>2</td>\n",
       "      <td>Functions</td>\n",
       "      <td>Returningavaluefromafunction</td>\n",
       "      <td>test_questionfunctions_2_3</td>\n",
       "      <td>148</td>\n",
       "      <td>WN 2018</td>\n",
       "      <td>1</td>\n",
       "      <td>0</td>\n",
       "      <td>1</td>\n",
       "      <td>0</td>\n",
       "      <td>...</td>\n",
       "      <td>1</td>\n",
       "      <td>0</td>\n",
       "      <td>0</td>\n",
       "      <td>0</td>\n",
       "      <td>0</td>\n",
       "      <td>4</td>\n",
       "      <td>16</td>\n",
       "      <td>2018-02-10 11:57:55</td>\n",
       "      <td>2018-02-10 11:58:35</td>\n",
       "      <td>23</td>\n",
       "    </tr>\n",
       "    <tr>\n",
       "      <th>2</th>\n",
       "      <td>3</td>\n",
       "      <td>RESTAPIs</td>\n",
       "      <td>functionswithrestapis</td>\n",
       "      <td>test_question_functions_rest_apis_1</td>\n",
       "      <td>148</td>\n",
       "      <td>WN 2018</td>\n",
       "      <td>1</td>\n",
       "      <td>0</td>\n",
       "      <td>1</td>\n",
       "      <td>0</td>\n",
       "      <td>...</td>\n",
       "      <td>1</td>\n",
       "      <td>0</td>\n",
       "      <td>0</td>\n",
       "      <td>0</td>\n",
       "      <td>0</td>\n",
       "      <td>1</td>\n",
       "      <td>2</td>\n",
       "      <td>2018-03-12 17:03:07</td>\n",
       "      <td>2018-03-12 17:04:28</td>\n",
       "      <td>53</td>\n",
       "    </tr>\n",
       "    <tr>\n",
       "      <th>3</th>\n",
       "      <td>4</td>\n",
       "      <td>SimplePythonData</td>\n",
       "      <td>FunctionCalls</td>\n",
       "      <td>exercise_functionCalls_1</td>\n",
       "      <td>148</td>\n",
       "      <td>WN 2018</td>\n",
       "      <td>1</td>\n",
       "      <td>0</td>\n",
       "      <td>1</td>\n",
       "      <td>0</td>\n",
       "      <td>...</td>\n",
       "      <td>1</td>\n",
       "      <td>0</td>\n",
       "      <td>0</td>\n",
       "      <td>0</td>\n",
       "      <td>0</td>\n",
       "      <td>0</td>\n",
       "      <td>10</td>\n",
       "      <td>2018-01-30 14:15:49</td>\n",
       "      <td>2018-01-30 14:15:58</td>\n",
       "      <td>12</td>\n",
       "    </tr>\n",
       "    <tr>\n",
       "      <th>4</th>\n",
       "      <td>5</td>\n",
       "      <td>DictionaryAccumulation</td>\n",
       "      <td>AccumulatingaMaximumValue</td>\n",
       "      <td>ps_04_07</td>\n",
       "      <td>148</td>\n",
       "      <td>WN 2018</td>\n",
       "      <td>1</td>\n",
       "      <td>0</td>\n",
       "      <td>1</td>\n",
       "      <td>0</td>\n",
       "      <td>...</td>\n",
       "      <td>1</td>\n",
       "      <td>0</td>\n",
       "      <td>0</td>\n",
       "      <td>0</td>\n",
       "      <td>0</td>\n",
       "      <td>0</td>\n",
       "      <td>23</td>\n",
       "      <td>2018-03-03 14:04:17</td>\n",
       "      <td>2018-03-03 14:04:25</td>\n",
       "      <td>44</td>\n",
       "    </tr>\n",
       "  </tbody>\n",
       "</table>\n",
       "<p>5 rows × 48 columns</p>\n",
       "</div>"
      ],
      "text/plain": [
       "   Unnamed: 0           chapter_label               sub_chapter_label  \\\n",
       "0           1                    Sort  intro-SortingwithSortandSorted   \n",
       "1           2               Functions    Returningavaluefromafunction   \n",
       "2           3                RESTAPIs           functionswithrestapis   \n",
       "3           4        SimplePythonData                   FunctionCalls   \n",
       "4           5  DictionaryAccumulation       AccumulatingaMaximumValue   \n",
       "\n",
       "                         question_name  user_id.x     term  STDNT_SEX_CD  \\\n",
       "0                           ee_sort_04        148  WN 2018             1   \n",
       "1           test_questionfunctions_2_3        148  WN 2018             1   \n",
       "2  test_question_functions_rest_apis_1        148  WN 2018             1   \n",
       "3             exercise_functionCalls_1        148  WN 2018             1   \n",
       "4                             ps_04_07        148  WN 2018             1   \n",
       "\n",
       "   NonNativeEnglish  White  Asian  ...  classGraded  classHonors  Pass_Fail  \\\n",
       "0                 0      1      0  ...            1            0          0   \n",
       "1                 0      1      0  ...            1            0          0   \n",
       "2                 0      1      0  ...            1            0          0   \n",
       "3                 0      1      0  ...            1            0          0   \n",
       "4                 0      1      0  ...            1            0          0   \n",
       "\n",
       "   parentsGraduateEdu  minorityGroup  q  day's_available_flashcards  \\\n",
       "0                   0              0  0                          18   \n",
       "1                   0              0  4                          16   \n",
       "2                   0              0  1                           2   \n",
       "3                   0              0  0                          10   \n",
       "4                   0              0  0                          23   \n",
       "\n",
       "        start_practice         end_practice  days_offset  \n",
       "0  2018-03-04 20:00:19  2018-03-04 20:00:35           45  \n",
       "1  2018-02-10 11:57:55  2018-02-10 11:58:35           23  \n",
       "2  2018-03-12 17:03:07  2018-03-12 17:04:28           53  \n",
       "3  2018-01-30 14:15:49  2018-01-30 14:15:58           12  \n",
       "4  2018-03-03 14:04:17  2018-03-03 14:04:25           44  \n",
       "\n",
       "[5 rows x 48 columns]"
      ]
     },
     "execution_count": 3,
     "metadata": {},
     "output_type": "execute_result"
    }
   ],
   "source": [
    "# load the data\n",
    "import pandas as pd\n",
    "dataframe = pd.read_csv('../input/practice-log-demographics/Practice_Log_Demographics (1).csv', low_memory=False)\n",
    "dataframe.head()"
   ]
  },
  {
   "cell_type": "code",
   "execution_count": 4,
   "metadata": {
    "execution": {
     "iopub.execute_input": "2021-08-08T12:59:29.490513Z",
     "iopub.status.busy": "2021-08-08T12:59:29.489787Z",
     "iopub.status.idle": "2021-08-08T12:59:31.137055Z",
     "shell.execute_reply": "2021-08-08T12:59:31.136500Z",
     "shell.execute_reply.started": "2021-08-06T20:58:27.574031Z"
    },
    "id": "OCbHnEp_Vir0",
    "papermill": {
     "duration": 1.743262,
     "end_time": "2021-08-08T12:59:31.137191",
     "exception": false,
     "start_time": "2021-08-08T12:59:29.393929",
     "status": "completed"
    },
    "tags": []
   },
   "outputs": [],
   "source": [
    "#sort data based on timestamp\n",
    "dataframe = dataframe.sort_values(by=['start_practice']).reset_index(drop=True)"
   ]
  },
  {
   "cell_type": "code",
   "execution_count": 5,
   "metadata": {
    "execution": {
     "iopub.execute_input": "2021-08-08T12:59:31.210309Z",
     "iopub.status.busy": "2021-08-08T12:59:31.209646Z",
     "iopub.status.idle": "2021-08-08T12:59:31.579409Z",
     "shell.execute_reply": "2021-08-08T12:59:31.578796Z",
     "shell.execute_reply.started": "2021-08-06T20:58:29.303298Z"
    },
    "papermill": {
     "duration": 0.411404,
     "end_time": "2021-08-08T12:59:31.579565",
     "exception": false,
     "start_time": "2021-08-08T12:59:31.168161",
     "status": "completed"
    },
    "tags": []
   },
   "outputs": [
    {
     "data": {
      "text/html": [
       "<div>\n",
       "<style scoped>\n",
       "    .dataframe tbody tr th:only-of-type {\n",
       "        vertical-align: middle;\n",
       "    }\n",
       "\n",
       "    .dataframe tbody tr th {\n",
       "        vertical-align: top;\n",
       "    }\n",
       "\n",
       "    .dataframe thead th {\n",
       "        text-align: right;\n",
       "    }\n",
       "</style>\n",
       "<table border=\"1\" class=\"dataframe\">\n",
       "  <thead>\n",
       "    <tr style=\"text-align: right;\">\n",
       "      <th></th>\n",
       "      <th>Unnamed: 0</th>\n",
       "      <th>chapter_label</th>\n",
       "      <th>sub_chapter_label</th>\n",
       "      <th>question_name</th>\n",
       "      <th>user_id.x</th>\n",
       "      <th>term</th>\n",
       "      <th>STDNT_SEX_CD</th>\n",
       "      <th>NonNativeEnglish</th>\n",
       "      <th>White</th>\n",
       "      <th>Asian</th>\n",
       "      <th>...</th>\n",
       "      <th>classGraded</th>\n",
       "      <th>classHonors</th>\n",
       "      <th>Pass_Fail</th>\n",
       "      <th>parentsGraduateEdu</th>\n",
       "      <th>minorityGroup</th>\n",
       "      <th>q</th>\n",
       "      <th>day's_available_flashcards</th>\n",
       "      <th>start_practice</th>\n",
       "      <th>end_practice</th>\n",
       "      <th>days_offset</th>\n",
       "    </tr>\n",
       "  </thead>\n",
       "  <tbody>\n",
       "    <tr>\n",
       "      <th>0</th>\n",
       "      <td>434434</td>\n",
       "      <td>GeneralIntro</td>\n",
       "      <td>Syntaxerrors</td>\n",
       "      <td>question1_6_1</td>\n",
       "      <td>88</td>\n",
       "      <td>WN 2018</td>\n",
       "      <td>1</td>\n",
       "      <td>0</td>\n",
       "      <td>0</td>\n",
       "      <td>1</td>\n",
       "      <td>...</td>\n",
       "      <td>1</td>\n",
       "      <td>0</td>\n",
       "      <td>0</td>\n",
       "      <td>0</td>\n",
       "      <td>1</td>\n",
       "      <td>0</td>\n",
       "      <td>20</td>\n",
       "      <td>2018-01-18 15:50:08</td>\n",
       "      <td>2018-01-18 15:51:06</td>\n",
       "      <td>0</td>\n",
       "    </tr>\n",
       "    <tr>\n",
       "      <th>1</th>\n",
       "      <td>563728</td>\n",
       "      <td>GeneralIntro</td>\n",
       "      <td>Syntaxerrors</td>\n",
       "      <td>question1_6_1</td>\n",
       "      <td>290</td>\n",
       "      <td>WN 2018</td>\n",
       "      <td>1</td>\n",
       "      <td>0</td>\n",
       "      <td>1</td>\n",
       "      <td>0</td>\n",
       "      <td>...</td>\n",
       "      <td>1</td>\n",
       "      <td>0</td>\n",
       "      <td>0</td>\n",
       "      <td>1</td>\n",
       "      <td>0</td>\n",
       "      <td>0</td>\n",
       "      <td>20</td>\n",
       "      <td>2018-01-18 15:50:10</td>\n",
       "      <td>2018-01-18 15:50:21</td>\n",
       "      <td>0</td>\n",
       "    </tr>\n",
       "    <tr>\n",
       "      <th>2</th>\n",
       "      <td>204163</td>\n",
       "      <td>GeneralIntro</td>\n",
       "      <td>Syntaxerrors</td>\n",
       "      <td>question1_6_1</td>\n",
       "      <td>181</td>\n",
       "      <td>WN 2018</td>\n",
       "      <td>2</td>\n",
       "      <td>0</td>\n",
       "      <td>1</td>\n",
       "      <td>0</td>\n",
       "      <td>...</td>\n",
       "      <td>1</td>\n",
       "      <td>0</td>\n",
       "      <td>0</td>\n",
       "      <td>1</td>\n",
       "      <td>0</td>\n",
       "      <td>0</td>\n",
       "      <td>20</td>\n",
       "      <td>2018-01-18 15:50:12</td>\n",
       "      <td>2018-01-18 15:50:24</td>\n",
       "      <td>0</td>\n",
       "    </tr>\n",
       "    <tr>\n",
       "      <th>3</th>\n",
       "      <td>55154</td>\n",
       "      <td>GeneralIntro</td>\n",
       "      <td>Syntaxerrors</td>\n",
       "      <td>question1_6_1</td>\n",
       "      <td>146</td>\n",
       "      <td>WN 2018</td>\n",
       "      <td>1</td>\n",
       "      <td>1</td>\n",
       "      <td>0</td>\n",
       "      <td>1</td>\n",
       "      <td>...</td>\n",
       "      <td>1</td>\n",
       "      <td>0</td>\n",
       "      <td>0</td>\n",
       "      <td>0</td>\n",
       "      <td>1</td>\n",
       "      <td>0</td>\n",
       "      <td>20</td>\n",
       "      <td>2018-01-18 15:50:13</td>\n",
       "      <td>2018-01-18 15:50:49</td>\n",
       "      <td>0</td>\n",
       "    </tr>\n",
       "    <tr>\n",
       "      <th>4</th>\n",
       "      <td>269459</td>\n",
       "      <td>GeneralIntro</td>\n",
       "      <td>Syntaxerrors</td>\n",
       "      <td>question1_6_1</td>\n",
       "      <td>307</td>\n",
       "      <td>WN 2018</td>\n",
       "      <td>1</td>\n",
       "      <td>1</td>\n",
       "      <td>0</td>\n",
       "      <td>1</td>\n",
       "      <td>...</td>\n",
       "      <td>1</td>\n",
       "      <td>0</td>\n",
       "      <td>0</td>\n",
       "      <td>1</td>\n",
       "      <td>1</td>\n",
       "      <td>0</td>\n",
       "      <td>20</td>\n",
       "      <td>2018-01-18 15:50:14</td>\n",
       "      <td>2018-01-18 15:50:47</td>\n",
       "      <td>0</td>\n",
       "    </tr>\n",
       "    <tr>\n",
       "      <th>...</th>\n",
       "      <td>...</td>\n",
       "      <td>...</td>\n",
       "      <td>...</td>\n",
       "      <td>...</td>\n",
       "      <td>...</td>\n",
       "      <td>...</td>\n",
       "      <td>...</td>\n",
       "      <td>...</td>\n",
       "      <td>...</td>\n",
       "      <td>...</td>\n",
       "      <td>...</td>\n",
       "      <td>...</td>\n",
       "      <td>...</td>\n",
       "      <td>...</td>\n",
       "      <td>...</td>\n",
       "      <td>...</td>\n",
       "      <td>...</td>\n",
       "      <td>...</td>\n",
       "      <td>...</td>\n",
       "      <td>...</td>\n",
       "      <td>...</td>\n",
       "    </tr>\n",
       "    <tr>\n",
       "      <th>610787</th>\n",
       "      <td>257869</td>\n",
       "      <td>InternetAPIs</td>\n",
       "      <td>unicode</td>\n",
       "      <td>24_unicode_2</td>\n",
       "      <td>189</td>\n",
       "      <td>WN 2021</td>\n",
       "      <td>2</td>\n",
       "      <td>1</td>\n",
       "      <td>0</td>\n",
       "      <td>1</td>\n",
       "      <td>...</td>\n",
       "      <td>1</td>\n",
       "      <td>0</td>\n",
       "      <td>0</td>\n",
       "      <td>0</td>\n",
       "      <td>1</td>\n",
       "      <td>3</td>\n",
       "      <td>93</td>\n",
       "      <td>2021-04-28 14:09:32</td>\n",
       "      <td>2021-04-28 14:09:55</td>\n",
       "      <td>240</td>\n",
       "    </tr>\n",
       "    <tr>\n",
       "      <th>610788</th>\n",
       "      <td>175187</td>\n",
       "      <td>InternetAPIs</td>\n",
       "      <td>cachingResponses</td>\n",
       "      <td>restapis_caching_1</td>\n",
       "      <td>217</td>\n",
       "      <td>WN 2021</td>\n",
       "      <td>1</td>\n",
       "      <td>0</td>\n",
       "      <td>1</td>\n",
       "      <td>0</td>\n",
       "      <td>...</td>\n",
       "      <td>1</td>\n",
       "      <td>0</td>\n",
       "      <td>0</td>\n",
       "      <td>0</td>\n",
       "      <td>0</td>\n",
       "      <td>5</td>\n",
       "      <td>94</td>\n",
       "      <td>2021-04-28 16:24:39</td>\n",
       "      <td>2021-04-28 16:25:04</td>\n",
       "      <td>240</td>\n",
       "    </tr>\n",
       "    <tr>\n",
       "      <th>610789</th>\n",
       "      <td>383905</td>\n",
       "      <td>InternetAPIs</td>\n",
       "      <td>unicode</td>\n",
       "      <td>24_unicode_2</td>\n",
       "      <td>276</td>\n",
       "      <td>WN 2021</td>\n",
       "      <td>2</td>\n",
       "      <td>1</td>\n",
       "      <td>1</td>\n",
       "      <td>0</td>\n",
       "      <td>...</td>\n",
       "      <td>1</td>\n",
       "      <td>0</td>\n",
       "      <td>0</td>\n",
       "      <td>1</td>\n",
       "      <td>0</td>\n",
       "      <td>1</td>\n",
       "      <td>95</td>\n",
       "      <td>2021-04-28 17:05:46</td>\n",
       "      <td>2021-04-28 17:06:06</td>\n",
       "      <td>240</td>\n",
       "    </tr>\n",
       "    <tr>\n",
       "      <th>610790</th>\n",
       "      <td>383804</td>\n",
       "      <td>InternetAPIs</td>\n",
       "      <td>flickr</td>\n",
       "      <td>24_flickr_1</td>\n",
       "      <td>276</td>\n",
       "      <td>WN 2021</td>\n",
       "      <td>2</td>\n",
       "      <td>1</td>\n",
       "      <td>1</td>\n",
       "      <td>0</td>\n",
       "      <td>...</td>\n",
       "      <td>1</td>\n",
       "      <td>0</td>\n",
       "      <td>0</td>\n",
       "      <td>1</td>\n",
       "      <td>0</td>\n",
       "      <td>3</td>\n",
       "      <td>94</td>\n",
       "      <td>2021-04-28 17:06:06</td>\n",
       "      <td>2021-04-28 17:06:20</td>\n",
       "      <td>240</td>\n",
       "    </tr>\n",
       "    <tr>\n",
       "      <th>610791</th>\n",
       "      <td>159667</td>\n",
       "      <td>InternetAPIs</td>\n",
       "      <td>cachingResponses</td>\n",
       "      <td>restapis_caching_1</td>\n",
       "      <td>207</td>\n",
       "      <td>WN 2021</td>\n",
       "      <td>2</td>\n",
       "      <td>0</td>\n",
       "      <td>0</td>\n",
       "      <td>0</td>\n",
       "      <td>...</td>\n",
       "      <td>1</td>\n",
       "      <td>0</td>\n",
       "      <td>0</td>\n",
       "      <td>1</td>\n",
       "      <td>1</td>\n",
       "      <td>5</td>\n",
       "      <td>101</td>\n",
       "      <td>2021-04-28 17:07:28</td>\n",
       "      <td>2021-04-28 17:07:58</td>\n",
       "      <td>240</td>\n",
       "    </tr>\n",
       "  </tbody>\n",
       "</table>\n",
       "<p>610792 rows × 48 columns</p>\n",
       "</div>"
      ],
      "text/plain": [
       "        Unnamed: 0 chapter_label sub_chapter_label       question_name  \\\n",
       "0           434434  GeneralIntro      Syntaxerrors       question1_6_1   \n",
       "1           563728  GeneralIntro      Syntaxerrors       question1_6_1   \n",
       "2           204163  GeneralIntro      Syntaxerrors       question1_6_1   \n",
       "3            55154  GeneralIntro      Syntaxerrors       question1_6_1   \n",
       "4           269459  GeneralIntro      Syntaxerrors       question1_6_1   \n",
       "...            ...           ...               ...                 ...   \n",
       "610787      257869  InternetAPIs           unicode        24_unicode_2   \n",
       "610788      175187  InternetAPIs  cachingResponses  restapis_caching_1   \n",
       "610789      383905  InternetAPIs           unicode        24_unicode_2   \n",
       "610790      383804  InternetAPIs            flickr         24_flickr_1   \n",
       "610791      159667  InternetAPIs  cachingResponses  restapis_caching_1   \n",
       "\n",
       "        user_id.x     term  STDNT_SEX_CD  NonNativeEnglish  White  Asian  ...  \\\n",
       "0              88  WN 2018             1                 0      0      1  ...   \n",
       "1             290  WN 2018             1                 0      1      0  ...   \n",
       "2             181  WN 2018             2                 0      1      0  ...   \n",
       "3             146  WN 2018             1                 1      0      1  ...   \n",
       "4             307  WN 2018             1                 1      0      1  ...   \n",
       "...           ...      ...           ...               ...    ...    ...  ...   \n",
       "610787        189  WN 2021             2                 1      0      1  ...   \n",
       "610788        217  WN 2021             1                 0      1      0  ...   \n",
       "610789        276  WN 2021             2                 1      1      0  ...   \n",
       "610790        276  WN 2021             2                 1      1      0  ...   \n",
       "610791        207  WN 2021             2                 0      0      0  ...   \n",
       "\n",
       "        classGraded  classHonors  Pass_Fail  parentsGraduateEdu  \\\n",
       "0                 1            0          0                   0   \n",
       "1                 1            0          0                   1   \n",
       "2                 1            0          0                   1   \n",
       "3                 1            0          0                   0   \n",
       "4                 1            0          0                   1   \n",
       "...             ...          ...        ...                 ...   \n",
       "610787            1            0          0                   0   \n",
       "610788            1            0          0                   0   \n",
       "610789            1            0          0                   1   \n",
       "610790            1            0          0                   1   \n",
       "610791            1            0          0                   1   \n",
       "\n",
       "        minorityGroup  q  day's_available_flashcards       start_practice  \\\n",
       "0                   1  0                          20  2018-01-18 15:50:08   \n",
       "1                   0  0                          20  2018-01-18 15:50:10   \n",
       "2                   0  0                          20  2018-01-18 15:50:12   \n",
       "3                   1  0                          20  2018-01-18 15:50:13   \n",
       "4                   1  0                          20  2018-01-18 15:50:14   \n",
       "...               ... ..                         ...                  ...   \n",
       "610787              1  3                          93  2021-04-28 14:09:32   \n",
       "610788              0  5                          94  2021-04-28 16:24:39   \n",
       "610789              0  1                          95  2021-04-28 17:05:46   \n",
       "610790              0  3                          94  2021-04-28 17:06:06   \n",
       "610791              1  5                         101  2021-04-28 17:07:28   \n",
       "\n",
       "               end_practice  days_offset  \n",
       "0       2018-01-18 15:51:06            0  \n",
       "1       2018-01-18 15:50:21            0  \n",
       "2       2018-01-18 15:50:24            0  \n",
       "3       2018-01-18 15:50:49            0  \n",
       "4       2018-01-18 15:50:47            0  \n",
       "...                     ...          ...  \n",
       "610787  2021-04-28 14:09:55          240  \n",
       "610788  2021-04-28 16:25:04          240  \n",
       "610789  2021-04-28 17:06:06          240  \n",
       "610790  2021-04-28 17:06:20          240  \n",
       "610791  2021-04-28 17:07:58          240  \n",
       "\n",
       "[610792 rows x 48 columns]"
      ]
     },
     "execution_count": 5,
     "metadata": {},
     "output_type": "execute_result"
    }
   ],
   "source": [
    "dataframe"
   ]
  },
  {
   "cell_type": "code",
   "execution_count": 6,
   "metadata": {
    "execution": {
     "iopub.execute_input": "2021-08-08T12:59:31.646049Z",
     "iopub.status.busy": "2021-08-08T12:59:31.645032Z",
     "iopub.status.idle": "2021-08-08T12:59:31.652140Z",
     "shell.execute_reply": "2021-08-08T12:59:31.651633Z",
     "shell.execute_reply.started": "2021-08-06T20:58:29.673521Z"
    },
    "id": "0RvF7BvEr98o",
    "papermill": {
     "duration": 0.041186,
     "end_time": "2021-08-08T12:59:31.652282",
     "exception": false,
     "start_time": "2021-08-08T12:59:31.611096",
     "status": "completed"
    },
    "tags": []
   },
   "outputs": [],
   "source": [
    "FEATURES = ['chapter_label', 'sub_chapter_label','question_name','user_id','term',\n",
    "            'STDNT_SEX_CD', \n",
    "            'NonNativeEnglish',\n",
    "            'White',\n",
    "            'Asian',\n",
    "            'WhiteOrAsian',\n",
    "            'Hispanic',\n",
    "            'AfricanAmerican',\n",
    "            'OtherEthnicities',\n",
    "            'NonWhiteOrAsian',\n",
    "            'STDNT_CTZN_STAT_CD', 'international', \n",
    "            'gradingType',\n",
    "            'birthYear',\n",
    "            'exclClassCumGPA',\n",
    "            'Freshman',\n",
    "            'Junior',\n",
    "            'Sophomore',\n",
    "            'Senior',\n",
    "            'termCreditsGPA',\n",
    "            'termCreditsNoGPA',\n",
    "            'athlete_1',\n",
    "            'honorsPro',\n",
    "            'LSA', 'programBusiness', 'programEngineering', \n",
    "            'programInformation', 'programOther',\n",
    "            'HSCalculusTaken', \n",
    "            'highSchoolGPA', \n",
    "            'majorsCount', 'minorsCount',\n",
    "            'PREV_TERM_CUM_GPA',\n",
    "            'classGraded', 'classHonors', \n",
    "            'Pass_Fail', \n",
    "            'parentsGraduateEdu',  'minorityGroup', \n",
    "            'q',\n",
    "            'available_flashcards', \n",
    "            'start_practice', \n",
    "            'end_practice',\n",
    "            'days_offset']"
   ]
  },
  {
   "cell_type": "code",
   "execution_count": 7,
   "metadata": {
    "execution": {
     "iopub.execute_input": "2021-08-08T12:59:31.718042Z",
     "iopub.status.busy": "2021-08-08T12:59:31.717116Z",
     "iopub.status.idle": "2021-08-08T12:59:32.228906Z",
     "shell.execute_reply": "2021-08-08T12:59:32.229378Z",
     "shell.execute_reply.started": "2021-08-06T20:58:29.682425Z"
    },
    "id": "Mn341X7lSztl",
    "papermill": {
     "duration": 0.546181,
     "end_time": "2021-08-08T12:59:32.229575",
     "exception": false,
     "start_time": "2021-08-08T12:59:31.683394",
     "status": "completed"
    },
    "tags": []
   },
   "outputs": [],
   "source": [
    "dataframe['available_flashcards'] = dataframe[\"day's_available_flashcards\"][:]\n",
    "dataframe = dataframe.drop([\"day's_available_flashcards\"], axis=1)\n",
    "dataframe['user_id'] = dataframe[\"user_id.x\"][:]\n",
    "dataframe = dataframe.drop([\"user_id.x\"], axis=1)"
   ]
  },
  {
   "cell_type": "code",
   "execution_count": 8,
   "metadata": {
    "execution": {
     "iopub.execute_input": "2021-08-08T12:59:32.457447Z",
     "iopub.status.busy": "2021-08-08T12:59:32.455872Z",
     "iopub.status.idle": "2021-08-08T12:59:32.460571Z",
     "shell.execute_reply": "2021-08-08T12:59:32.461038Z",
     "shell.execute_reply.started": "2021-08-06T20:58:30.178707Z"
    },
    "id": "-_BRggOjbBjN",
    "outputId": "42bff7db-08dd-48dc-a73a-d048508053b7",
    "papermill": {
     "duration": 0.200288,
     "end_time": "2021-08-08T12:59:32.461200",
     "exception": false,
     "start_time": "2021-08-08T12:59:32.260912",
     "status": "completed"
    },
    "tags": []
   },
   "outputs": [
    {
     "data": {
      "text/plain": [
       "122"
      ]
     },
     "execution_count": 8,
     "metadata": {},
     "output_type": "execute_result"
    }
   ],
   "source": [
    "gc.collect()"
   ]
  },
  {
   "cell_type": "code",
   "execution_count": 9,
   "metadata": {
    "execution": {
     "iopub.execute_input": "2021-08-08T12:59:32.530199Z",
     "iopub.status.busy": "2021-08-08T12:59:32.529545Z",
     "iopub.status.idle": "2021-08-08T12:59:32.821279Z",
     "shell.execute_reply": "2021-08-08T12:59:32.820635Z",
     "shell.execute_reply.started": "2021-08-06T20:58:30.356124Z"
    },
    "id": "lXM7MlonVeRL",
    "outputId": "d29ccec0-522f-4e3c-e0b2-39b2e1eaef74",
    "papermill": {
     "duration": 0.328882,
     "end_time": "2021-08-08T12:59:32.821438",
     "exception": false,
     "start_time": "2021-08-08T12:59:32.492556",
     "status": "completed"
    },
    "tags": []
   },
   "outputs": [
    {
     "data": {
      "text/plain": [
       "20"
      ]
     },
     "execution_count": 9,
     "metadata": {},
     "output_type": "execute_result"
    }
   ],
   "source": [
    "dataframe = dataframe[FEATURES]\n",
    "gc.collect()"
   ]
  },
  {
   "cell_type": "code",
   "execution_count": 10,
   "metadata": {
    "execution": {
     "iopub.execute_input": "2021-08-08T12:59:33.401155Z",
     "iopub.status.busy": "2021-08-08T12:59:33.399346Z",
     "iopub.status.idle": "2021-08-08T12:59:33.542086Z",
     "shell.execute_reply": "2021-08-08T12:59:33.541430Z",
     "shell.execute_reply.started": "2021-08-06T20:58:30.662917Z"
    },
    "id": "2WAFv5z3A6fK",
    "outputId": "e27abf84-ec3c-4b88-e1fb-927d94b41898",
    "papermill": {
     "duration": 0.688678,
     "end_time": "2021-08-08T12:59:33.542234",
     "exception": false,
     "start_time": "2021-08-08T12:59:32.853556",
     "status": "completed"
    },
    "tags": []
   },
   "outputs": [],
   "source": [
    "dataframe = dataframe.fillna(0)"
   ]
  },
  {
   "cell_type": "code",
   "execution_count": 11,
   "metadata": {
    "execution": {
     "iopub.execute_input": "2021-08-08T12:59:33.623832Z",
     "iopub.status.busy": "2021-08-08T12:59:33.622204Z",
     "iopub.status.idle": "2021-08-08T12:59:35.064019Z",
     "shell.execute_reply": "2021-08-08T12:59:35.063361Z",
     "shell.execute_reply.started": "2021-08-06T20:58:31.328858Z"
    },
    "id": "qRKqF_0IXZgj",
    "papermill": {
     "duration": 1.490448,
     "end_time": "2021-08-08T12:59:35.064155",
     "exception": false,
     "start_time": "2021-08-08T12:59:33.573707",
     "status": "completed"
    },
    "tags": []
   },
   "outputs": [],
   "source": [
    "#label encode term, chapter_label, question_name, sub_chapter_label columns\n",
    "dataframe['term'] = dataframe['term'].astype('category')\n",
    "dataframe['user_id'] = dataframe['user_id'].astype(int)\n",
    "dataframe['user_id'] = dataframe['user_id'].astype(str)\n",
    "dataframe['user_id'] = dataframe['term'].str.cat(dataframe['user_id'], sep=':')\n",
    "dataframe['user_id'] = dataframe['user_id'].astype('category')\n",
    "dataframe['chapter_label'] = dataframe['chapter_label'].astype('category')\n",
    "dataframe['sub_chapter_label'] = dataframe['sub_chapter_label'].astype('category')\n",
    "dataframe['question_name'] = dataframe['question_name'].astype('category')\n"
   ]
  },
  {
   "cell_type": "code",
   "execution_count": 12,
   "metadata": {
    "execution": {
     "iopub.execute_input": "2021-08-08T12:59:35.138071Z",
     "iopub.status.busy": "2021-08-08T12:59:35.136990Z",
     "iopub.status.idle": "2021-08-08T12:59:35.663224Z",
     "shell.execute_reply": "2021-08-08T12:59:35.663784Z",
     "shell.execute_reply.started": "2021-08-06T20:58:32.762556Z"
    },
    "id": "eVl_067GWkDe",
    "papermill": {
     "duration": 0.565959,
     "end_time": "2021-08-08T12:59:35.663976",
     "exception": false,
     "start_time": "2021-08-08T12:59:35.098017",
     "status": "completed"
    },
    "tags": []
   },
   "outputs": [],
   "source": [
    "#calculate time_lag and prev_time_elapsed\n",
    "dataframe['prev_time_elapsed'] = None\n",
    "dataframe['time_lag'] = None\n",
    "dataframe['time_lag'] = dataframe['time_lag'].astype(np.float)\n",
    "dataframe['prev_time_elapsed'] = dataframe['prev_time_elapsed'].astype(np.float)\n",
    "dataframe.start_practice = pd.to_datetime(dataframe.start_practice, format='%Y-%m-%d %H:%M:%S')\n",
    "dataframe.end_practice = pd.to_datetime(dataframe.end_practice, format='%Y-%m-%d %H:%M:%S')"
   ]
  },
  {
   "cell_type": "code",
   "execution_count": 13,
   "metadata": {
    "execution": {
     "iopub.execute_input": "2021-08-08T12:59:35.734765Z",
     "iopub.status.busy": "2021-08-08T12:59:35.734022Z",
     "iopub.status.idle": "2021-08-08T12:59:35.771068Z",
     "shell.execute_reply": "2021-08-08T12:59:35.770516Z",
     "shell.execute_reply.started": "2021-08-06T20:58:33.288808Z"
    },
    "papermill": {
     "duration": 0.074098,
     "end_time": "2021-08-08T12:59:35.771229",
     "exception": false,
     "start_time": "2021-08-08T12:59:35.697131",
     "status": "completed"
    },
    "tags": []
   },
   "outputs": [],
   "source": [
    "dataframe['dif'] = dataframe.end_practice - dataframe.start_practice\n",
    "dataframe['dif'] = dataframe['dif'] /np.timedelta64(1, 's')\n",
    "dataframe['answer_correct'] = np.where((dataframe['q']==5) & (dataframe['dif'] <= 60), 1, 0)"
   ]
  },
  {
   "cell_type": "code",
   "execution_count": 14,
   "metadata": {
    "execution": {
     "iopub.execute_input": "2021-08-08T12:59:35.846836Z",
     "iopub.status.busy": "2021-08-08T12:59:35.846163Z",
     "iopub.status.idle": "2021-08-08T13:05:30.682171Z",
     "shell.execute_reply": "2021-08-08T13:05:30.682665Z",
     "shell.execute_reply.started": "2021-08-06T20:59:18.660743Z"
    },
    "id": "Xrkcn9VhWETm",
    "outputId": "fd73f3de-5f56-42a8-9539-3f3b79a5a6e2",
    "papermill": {
     "duration": 354.879314,
     "end_time": "2021-08-08T13:05:30.682854",
     "exception": false,
     "start_time": "2021-08-08T12:59:35.803540",
     "status": "completed"
    },
    "tags": []
   },
   "outputs": [
    {
     "name": "stderr",
     "output_type": "stream",
     "text": [
      "100%|██████████| 1110/1110 [05:54<00:00,  3.13it/s]\n"
     ]
    }
   ],
   "source": [
    "unique_chapts = dataframe['chapter_label'].unique()\n",
    "from tqdm import tqdm\n",
    "cnt = 0\n",
    "for user in tqdm(dataframe['user_id'].unique()):\n",
    "        for chapter in unique_chapts:\n",
    "            tmp_user = dataframe[(dataframe['user_id']==user) & (dataframe['chapter_label']==chapter)]\n",
    "            #if user doesn't answer any question from the chapter\n",
    "            if len(tmp_user) < 1:\n",
    "                continue\n",
    "            #calculate average elapsed time before the current question\n",
    "            #from its corresponding chapter\n",
    "            tmp_time_elapsed = tmp_user.end_practice - tmp_user.start_practice\n",
    "            tmp_time_elapsed = tmp_time_elapsed / np.timedelta64(1, 's')\n",
    "            tmp_time_elapsed = np.insert(np.array(tmp_time_elapsed[:-1]), 0, 0., axis=0)\n",
    "            tmp_time_elapsed = np.cumsum(tmp_time_elapsed)\n",
    "            indices = tmp_user.index\n",
    "            start_row = indices[0]\n",
    "            dataframe['time_lag'].iloc[start_row] = 0\n",
    "            for_mean = np.arange(len(tmp_user))\n",
    "            for_mean[0] = 1\n",
    "            time_substrahend = tmp_user.start_practice.iloc[:-1]\n",
    "            time_substrahend = time_substrahend.apply(lambda a: a.timestamp())\n",
    "            time_substrahend = np.array(time_substrahend)\n",
    "            \n",
    "            time_minuend = tmp_user.start_practice.iloc[1:]\n",
    "            time_minuend = time_minuend.apply(lambda a: a.timestamp())\n",
    "            time_minuend = np.array(time_minuend)\n",
    "\n",
    "            dataframe['prev_time_elapsed'].iloc[indices] = tmp_time_elapsed/for_mean\n",
    "            #calculate difference between current and last interaction\n",
    "            #from the same chapter\n",
    "            dataframe['time_lag'].iloc[indices[1:]] = time_minuend - time_substrahend\n"
   ]
  },
  {
   "cell_type": "code",
   "execution_count": 15,
   "metadata": {
    "execution": {
     "iopub.execute_input": "2021-08-08T13:05:31.492310Z",
     "iopub.status.busy": "2021-08-08T13:05:31.491612Z",
     "iopub.status.idle": "2021-08-08T13:05:31.529544Z",
     "shell.execute_reply": "2021-08-08T13:05:31.528945Z",
     "shell.execute_reply.started": "2021-08-06T21:05:41.448812Z"
    },
    "id": "8t8yZ0XvWwzz",
    "papermill": {
     "duration": 0.452494,
     "end_time": "2021-08-08T13:05:31.529687",
     "exception": false,
     "start_time": "2021-08-08T13:05:31.077193",
     "status": "completed"
    },
    "tags": []
   },
   "outputs": [],
   "source": [
    "#drop column end_practice\n",
    "dataframe.drop(columns=['end_practice'], inplace=True)"
   ]
  },
  {
   "cell_type": "code",
   "execution_count": 16,
   "metadata": {
    "execution": {
     "iopub.execute_input": "2021-08-08T13:05:32.262791Z",
     "iopub.status.busy": "2021-08-08T13:05:32.261624Z",
     "iopub.status.idle": "2021-08-08T13:05:32.724086Z",
     "shell.execute_reply": "2021-08-08T13:05:32.723396Z",
     "shell.execute_reply.started": "2021-08-06T21:05:41.542314Z"
    },
    "id": "E42raRIrYYXz",
    "papermill": {
     "duration": 0.831923,
     "end_time": "2021-08-08T13:05:32.724230",
     "exception": false,
     "start_time": "2021-08-08T13:05:31.892307",
     "status": "completed"
    },
    "tags": []
   },
   "outputs": [],
   "source": [
    "# calculate the age feature\n",
    "dataframe['term_value'] = [int(ele[3:]) for ele in dataframe['term']]\n",
    "dataframe['age'] = dataframe['term_value'] - dataframe['birthYear']"
   ]
  },
  {
   "cell_type": "code",
   "execution_count": 17,
   "metadata": {
    "execution": {
     "iopub.execute_input": "2021-08-08T13:05:33.454452Z",
     "iopub.status.busy": "2021-08-08T13:05:33.453062Z",
     "iopub.status.idle": "2021-08-08T13:05:33.664565Z",
     "shell.execute_reply": "2021-08-08T13:05:33.663870Z",
     "shell.execute_reply.started": "2021-08-06T21:05:42.015381Z"
    },
    "id": "pcMVQXueYnMh",
    "papermill": {
     "duration": 0.57857,
     "end_time": "2021-08-08T13:05:33.664712",
     "exception": false,
     "start_time": "2021-08-08T13:05:33.086142",
     "status": "completed"
    },
    "tags": []
   },
   "outputs": [],
   "source": [
    "# drop term_value and birthYear column\n",
    "dataframe.drop(columns=['term_value', 'birthYear'], inplace=True)"
   ]
  },
  {
   "cell_type": "code",
   "execution_count": 18,
   "metadata": {
    "execution": {
     "iopub.execute_input": "2021-08-08T13:05:34.454868Z",
     "iopub.status.busy": "2021-08-08T13:05:34.449632Z",
     "iopub.status.idle": "2021-08-08T13:05:34.961563Z",
     "shell.execute_reply": "2021-08-08T13:05:34.960877Z",
     "shell.execute_reply.started": "2021-08-06T21:05:42.228048Z"
    },
    "id": "hjRF5szkcQE0",
    "papermill": {
     "duration": 0.884421,
     "end_time": "2021-08-08T13:05:34.961702",
     "exception": false,
     "start_time": "2021-08-08T13:05:34.077281",
     "status": "completed"
    },
    "tags": []
   },
   "outputs": [],
   "source": [
    "# convert minors_count to int value\n",
    "new_minors_count = []\n",
    "for i in dataframe['minorsCount']:\n",
    "  if i == 0 or i == '0':\n",
    "    new_minors_count.append(0)\n",
    "  elif i == '1 Minor':\n",
    "    new_minors_count.append(1)\n",
    "  else:\n",
    "    new_minors_count.append(2)\n",
    "\n",
    "dataframe['minorsCount'] = new_minors_count"
   ]
  },
  {
   "cell_type": "code",
   "execution_count": 19,
   "metadata": {
    "execution": {
     "iopub.execute_input": "2021-08-08T13:05:35.689153Z",
     "iopub.status.busy": "2021-08-08T13:05:35.688039Z",
     "iopub.status.idle": "2021-08-08T13:05:35.701272Z",
     "shell.execute_reply": "2021-08-08T13:05:35.701795Z",
     "shell.execute_reply.started": "2021-08-06T21:05:42.737147Z"
    },
    "id": "9VdzvJSw0KUU",
    "outputId": "6393784f-234e-4935-9cee-cbcf56b5630a",
    "papermill": {
     "duration": 0.378722,
     "end_time": "2021-08-08T13:05:35.701965",
     "exception": false,
     "start_time": "2021-08-08T13:05:35.323243",
     "status": "completed"
    },
    "tags": []
   },
   "outputs": [
    {
     "name": "stdout",
     "output_type": "stream",
     "text": [
      "we have  1110  users in total.\n"
     ]
    }
   ],
   "source": [
    "print(\"we have \", dataframe['user_id'].nunique(),\" users in total.\")"
   ]
  },
  {
   "cell_type": "code",
   "execution_count": 20,
   "metadata": {
    "execution": {
     "iopub.execute_input": "2021-08-08T13:05:36.433939Z",
     "iopub.status.busy": "2021-08-08T13:05:36.433088Z",
     "iopub.status.idle": "2021-08-08T13:05:36.439074Z",
     "shell.execute_reply": "2021-08-08T13:05:36.439546Z",
     "shell.execute_reply.started": "2021-08-06T21:05:42.755226Z"
    },
    "id": "hUaGk9L9g13t",
    "papermill": {
     "duration": 0.377104,
     "end_time": "2021-08-08T13:05:36.439719",
     "exception": false,
     "start_time": "2021-08-08T13:05:36.062615",
     "status": "completed"
    },
    "tags": []
   },
   "outputs": [],
   "source": [
    "for category in ['term','chapter_label', 'sub_chapter_label', 'question_name']:\n",
    "  dataframe[category] =  dataframe[category].cat.codes"
   ]
  },
  {
   "cell_type": "code",
   "execution_count": 21,
   "metadata": {
    "execution": {
     "iopub.execute_input": "2021-08-08T13:05:37.169091Z",
     "iopub.status.busy": "2021-08-08T13:05:37.168403Z",
     "iopub.status.idle": "2021-08-08T13:05:37.955273Z",
     "shell.execute_reply": "2021-08-08T13:05:37.955884Z",
     "shell.execute_reply.started": "2021-08-06T21:05:42.769234Z"
    },
    "id": "hkyvcYvlhliG",
    "papermill": {
     "duration": 1.156298,
     "end_time": "2021-08-08T13:05:37.956054",
     "exception": false,
     "start_time": "2021-08-08T13:05:36.799756",
     "status": "completed"
    },
    "tags": []
   },
   "outputs": [],
   "source": [
    "NUMERIC_FEATURE =  ['age',\n",
    "            'exclClassCumGPA',\n",
    "            'termCreditsGPA',\n",
    "            'termCreditsNoGPA',\n",
    "            'highSchoolGPA', \n",
    "            'majorsCount', 'minorsCount',\n",
    "            'PREV_TERM_CUM_GPA',\n",
    "            'available_flashcards', \n",
    "            'days_offset', \n",
    "            'prev_time_elapsed',\n",
    "             'time_lag']\n",
    "# z-score normalize the numerical features\n",
    "for f in NUMERIC_FEATURE:\n",
    "  m = dataframe[f].mean()\n",
    "  std = dataframe[f].std()\n",
    "  dataframe[f] = (dataframe[f] - m)/std"
   ]
  },
  {
   "cell_type": "code",
   "execution_count": 22,
   "metadata": {
    "execution": {
     "iopub.execute_input": "2021-08-08T13:05:38.687793Z",
     "iopub.status.busy": "2021-08-08T13:05:38.686542Z",
     "iopub.status.idle": "2021-08-08T13:05:42.891470Z",
     "shell.execute_reply": "2021-08-08T13:05:42.890459Z",
     "shell.execute_reply.started": "2021-08-06T21:05:43.58599Z"
    },
    "id": "wo2OH-d5kWp1",
    "papermill": {
     "duration": 4.574223,
     "end_time": "2021-08-08T13:05:42.891618",
     "exception": false,
     "start_time": "2021-08-08T13:05:38.317395",
     "status": "completed"
    },
    "tags": []
   },
   "outputs": [],
   "source": [
    "FEATURE_TRANS =  ['answer_correct', 'chapter_label', 'sub_chapter_label','question_name','user_id','term',\n",
    "                  'STDNT_SEX_CD', \n",
    "                    'White','Asian','NonWhiteOrAsian',\n",
    "            'STDNT_CTZN_STAT_CD', 'international', \n",
    "            'age',\n",
    "            'exclClassCumGPA',\n",
    "           'Freshman',\n",
    "            'Junior',\n",
    "            'Sophomore',\n",
    "            'Senior',\n",
    "            'termCreditsGPA',\n",
    "            'termCreditsNoGPA',\n",
    "            'athlete_1',\n",
    "            'honorsPro',\n",
    "            'LSA', 'programBusiness', 'programEngineering', \n",
    "            'programInformation', 'programOther',\n",
    "            'HSCalculusTaken', \n",
    "            'highSchoolGPA', \n",
    "            'majorsCount', 'minorsCount',\n",
    "            'PREV_TERM_CUM_GPA',\n",
    "            'classGraded', 'classHonors', \n",
    "            'Pass_Fail', \n",
    "            'parentsGraduateEdu',  'minorityGroup', \n",
    "            'available_flashcards', \n",
    "            'days_offset', 'prev_time_elapsed',\n",
    "             'time_lag']\n",
    "grouped_data = dataframe[FEATURE_TRANS].groupby(['user_id']).apply(lambda r: (\n",
    "                r['answer_correct'],\n",
    "                r['term'],\n",
    "                r['chapter_label'],\n",
    "                r['sub_chapter_label'],\n",
    "                r['question_name'],\n",
    "                np.array([\n",
    "                  r['STDNT_SEX_CD'],r['STDNT_CTZN_STAT_CD'], r['international'], \n",
    "                  r['White'],r['Asian'],r['NonWhiteOrAsian'],\n",
    "                 r['age'],r['exclClassCumGPA'],\n",
    "                r['Freshman'], r['Junior'], r['Sophomore'], r['Senior'],\n",
    "                r['termCreditsGPA'], r['termCreditsNoGPA'],\n",
    "                r['athlete_1'], r['honorsPro'],\n",
    "                r['LSA'], r['programBusiness'], r['programEngineering'], \n",
    "                r['programInformation'], r['programOther'],\n",
    "                r['HSCalculusTaken'],  r['highSchoolGPA'], \n",
    "                r['majorsCount'], r['minorsCount'],\n",
    "                r['PREV_TERM_CUM_GPA'], \n",
    "                r['parentsGraduateEdu'], r['minorityGroup'],\n",
    "                r['available_flashcards'],\n",
    "                r['days_offset'],\n",
    "                r['prev_time_elapsed'],\n",
    "                r['time_lag']\n",
    "              ]).transpose()\n",
    "                ))"
   ]
  },
  {
   "cell_type": "code",
   "execution_count": 23,
   "metadata": {
    "execution": {
     "iopub.execute_input": "2021-08-08T13:05:43.805242Z",
     "iopub.status.busy": "2021-08-08T13:05:43.804274Z",
     "iopub.status.idle": "2021-08-08T13:05:43.807798Z",
     "shell.execute_reply": "2021-08-08T13:05:43.808262Z",
     "shell.execute_reply.started": "2021-08-06T21:05:47.879421Z"
    },
    "id": "XXLqQnjrlp_4",
    "outputId": "c801da79-f0bf-4fe5-b19c-7c799fe01556",
    "papermill": {
     "duration": 0.553268,
     "end_time": "2021-08-08T13:05:43.808442",
     "exception": false,
     "start_time": "2021-08-08T13:05:43.255174",
     "status": "completed"
    },
    "tags": []
   },
   "outputs": [
    {
     "data": {
      "text/plain": [
       "20"
      ]
     },
     "execution_count": 23,
     "metadata": {},
     "output_type": "execute_result"
    }
   ],
   "source": [
    "gc.collect()"
   ]
  },
  {
   "cell_type": "code",
   "execution_count": 24,
   "metadata": {
    "execution": {
     "iopub.execute_input": "2021-08-08T13:05:44.558275Z",
     "iopub.status.busy": "2021-08-08T13:05:44.557586Z",
     "iopub.status.idle": "2021-08-08T13:05:44.580031Z",
     "shell.execute_reply": "2021-08-08T13:05:44.579370Z",
     "shell.execute_reply.started": "2021-08-06T21:05:48.079782Z"
    },
    "id": "QYGQasdTrmP0",
    "papermill": {
     "duration": 0.409703,
     "end_time": "2021-08-08T13:05:44.580196",
     "exception": false,
     "start_time": "2021-08-08T13:05:44.170493",
     "status": "completed"
    },
    "tags": []
   },
   "outputs": [],
   "source": [
    "# remove students who don't have make any interactions with the tool\n",
    "toRemove = []\n",
    "for index in grouped_data.index:\n",
    "  if len(grouped_data[index][0]) <= 10:\n",
    "    toRemove.append(index)\n",
    "grouped_data = grouped_data.drop(index=toRemove)"
   ]
  },
  {
   "cell_type": "code",
   "execution_count": 25,
   "metadata": {
    "execution": {
     "iopub.execute_input": "2021-08-08T13:05:45.314443Z",
     "iopub.status.busy": "2021-08-08T13:05:45.313783Z",
     "iopub.status.idle": "2021-08-08T13:05:45.330702Z",
     "shell.execute_reply": "2021-08-08T13:05:45.329988Z",
     "shell.execute_reply.started": "2021-08-06T21:05:48.128536Z"
    },
    "papermill": {
     "duration": 0.385599,
     "end_time": "2021-08-08T13:05:45.330855",
     "exception": false,
     "start_time": "2021-08-08T13:05:44.945256",
     "status": "completed"
    },
    "tags": []
   },
   "outputs": [
    {
     "data": {
      "text/plain": [
       "count    1110.000000\n",
       "mean      550.263063\n",
       "std       201.281353\n",
       "min         2.000000\n",
       "25%       438.250000\n",
       "50%       520.500000\n",
       "75%       637.750000\n",
       "max      1500.000000\n",
       "Name: start_practice, dtype: float64"
      ]
     },
     "execution_count": 25,
     "metadata": {},
     "output_type": "execute_result"
    }
   ],
   "source": [
    "dataframe.groupby('user_id')['start_practice'].agg('count').describe()"
   ]
  },
  {
   "cell_type": "code",
   "execution_count": 26,
   "metadata": {
    "execution": {
     "iopub.execute_input": "2021-08-08T13:05:46.101519Z",
     "iopub.status.busy": "2021-08-08T13:05:46.100654Z",
     "iopub.status.idle": "2021-08-08T13:05:46.104713Z",
     "shell.execute_reply": "2021-08-08T13:05:46.104201Z",
     "shell.execute_reply.started": "2021-08-06T21:05:48.148935Z"
    },
    "papermill": {
     "duration": 0.375054,
     "end_time": "2021-08-08T13:05:46.104858",
     "exception": false,
     "start_time": "2021-08-08T13:05:45.729804",
     "status": "completed"
    },
    "tags": []
   },
   "outputs": [
    {
     "data": {
      "text/plain": [
       "['FA 2018:252', 'WN 2018:295']"
      ]
     },
     "execution_count": 26,
     "metadata": {},
     "output_type": "execute_result"
    }
   ],
   "source": [
    "toRemove"
   ]
  },
  {
   "cell_type": "code",
   "execution_count": 27,
   "metadata": {
    "execution": {
     "iopub.execute_input": "2021-08-08T13:05:46.835012Z",
     "iopub.status.busy": "2021-08-08T13:05:46.834186Z",
     "iopub.status.idle": "2021-08-08T13:05:46.837831Z",
     "shell.execute_reply": "2021-08-08T13:05:46.837192Z",
     "shell.execute_reply.started": "2021-08-06T21:05:48.155466Z"
    },
    "id": "9kZqV9siDyNb",
    "papermill": {
     "duration": 0.371187,
     "end_time": "2021-08-08T13:05:46.837967",
     "exception": false,
     "start_time": "2021-08-08T13:05:46.466780",
     "status": "completed"
    },
    "tags": []
   },
   "outputs": [],
   "source": [
    "#SETTINGS -> can be modified at any time\n",
    "MAXLENGTH = 400\n",
    "EMBEDDING_DIM = 128\n",
    "DENSE_NEURON = 16\n",
    "LSTM_NEURON = 32"
   ]
  },
  {
   "cell_type": "code",
   "execution_count": 28,
   "metadata": {
    "execution": {
     "iopub.execute_input": "2021-08-08T13:05:47.571152Z",
     "iopub.status.busy": "2021-08-08T13:05:47.570153Z",
     "iopub.status.idle": "2021-08-08T13:05:47.573122Z",
     "shell.execute_reply": "2021-08-08T13:05:47.572644Z",
     "shell.execute_reply.started": "2021-08-06T21:05:48.168321Z"
    },
    "id": "1MksD1JizpPn",
    "papermill": {
     "duration": 0.372479,
     "end_time": "2021-08-08T13:05:47.573264",
     "exception": false,
     "start_time": "2021-08-08T13:05:47.200785",
     "status": "completed"
    },
    "tags": []
   },
   "outputs": [],
   "source": [
    "FEATURES_SIZE = 39\n",
    "CHAPTER_SIZE = 38\n",
    "SUB_CHAPTER_SIZE = 223\n",
    "QUESTION_SIZE = 1069"
   ]
  },
  {
   "cell_type": "code",
   "execution_count": 29,
   "metadata": {
    "execution": {
     "iopub.execute_input": "2021-08-08T13:05:48.312282Z",
     "iopub.status.busy": "2021-08-08T13:05:48.311624Z",
     "iopub.status.idle": "2021-08-08T13:05:48.322511Z",
     "shell.execute_reply": "2021-08-08T13:05:48.323015Z",
     "shell.execute_reply.started": "2021-08-06T21:05:48.18102Z"
    },
    "papermill": {
     "duration": 0.380833,
     "end_time": "2021-08-08T13:05:48.323195",
     "exception": false,
     "start_time": "2021-08-08T13:05:47.942362",
     "status": "completed"
    },
    "tags": []
   },
   "outputs": [
    {
     "data": {
      "text/plain": [
       "array([ 96,  86,  88,  28,  12,  82, 125,  32,  69,  33,  21, 115, 120,\n",
       "       119,  91,  73,  57,  77, 117,  40,  74,  41,  68,  39,  92,  47,\n",
       "       104,  95,  53,  49,  50,  16,  52,  55,   7,  15,  51, 102, 103,\n",
       "        11,  94, 108, 100,  17,  67,  63,  13, 139,  26,  25,   8, 107,\n",
       "         0,  90,  48,  54, 138,   1,   2,   3,  34,  35,  85,   5,  24,\n",
       "        37,  36,  78,  70,  45, 142,  71,  10,  89, 111, 112, 109, 116,\n",
       "        76,  72, 148, 134, 146, 221, 143,  56,  60,  61,  23, 140, 106,\n",
       "        42,  83,  22, 145, 136, 144,  38,   4,  19, 137,  75,  43,  98,\n",
       "        84, 113, 173, 174, 175, 176, 177, 178, 180, 181, 182, 187, 189,\n",
       "       190, 191, 192, 193, 195, 197, 151, 152, 153, 156, 157, 158, 159,\n",
       "       160, 161, 163, 164, 165, 166, 167, 168, 169, 170, 171, 172, 198,\n",
       "       199, 200, 201, 202, 203, 204, 205, 206, 207, 208, 209, 210, 162,\n",
       "       179, 186, 188, 194, 183, 184, 185, 211, 212, 213, 154, 155, 196,\n",
       "         6, 118,  18, 215,  46, 216, 141,  27, 217, 105, 123, 218, 101,\n",
       "       124, 219, 122, 220,  58,  59,  64,  20,  93,  65,  66,   9,  44,\n",
       "        30,  14,  79, 121,  31, 110, 129,  87,  97,  62, 149, 132, 131,\n",
       "       150, 130, 128,  99, 147, 127, 214, 135,  80, 126, 133,  81, 114,\n",
       "        29], dtype=int16)"
      ]
     },
     "execution_count": 29,
     "metadata": {},
     "output_type": "execute_result"
    }
   ],
   "source": [
    "dataframe['sub_chapter_label'].unique()"
   ]
  },
  {
   "cell_type": "code",
   "execution_count": 30,
   "metadata": {
    "execution": {
     "iopub.execute_input": "2021-08-08T13:05:49.064690Z",
     "iopub.status.busy": "2021-08-08T13:05:49.063811Z",
     "iopub.status.idle": "2021-08-08T13:05:50.068665Z",
     "shell.execute_reply": "2021-08-08T13:05:50.067968Z",
     "shell.execute_reply.started": "2021-08-06T21:05:48.201622Z"
    },
    "id": "mY3Thp6d0NaT",
    "papermill": {
     "duration": 1.383779,
     "end_time": "2021-08-08T13:05:50.068811",
     "exception": false,
     "start_time": "2021-08-08T13:05:48.685032",
     "status": "completed"
    },
    "tags": []
   },
   "outputs": [],
   "source": [
    "#create dataset class\n",
    "#to prepare it for train, valid, and test sets\n",
    "from torch.utils.data import Dataset, DataLoader\n",
    "class SPACE_DATASET(Dataset):\n",
    "    def __init__(self, data, maxlength = 400):\n",
    "        super(SPACE_DATASET, self).__init__()\n",
    "        self.maxlength = maxlength\n",
    "        self.data = data\n",
    "        self.users = list()\n",
    "        for user in data.index:\n",
    "            self.users.append(user)\n",
    "\n",
    "    def __len__(self):\n",
    "        return len(self.users)\n",
    "    \n",
    "    def __getitem__(self, ix):\n",
    "        user = self.users[ix]\n",
    "        user = user\n",
    "        target, term, ch_label, sub_ch_label, ques_name, features = self.data[user]\n",
    "        \n",
    "        #0s should be used as padding values\n",
    "        ori_target = target.values \n",
    "        term = term.values\n",
    "        ch_label = ch_label.values + 1\n",
    "        sub_ch_label = sub_ch_label.values +1\n",
    "        ques_name = ques_name.values + 1\n",
    "        \n",
    "        n = len(ch_label)\n",
    "\n",
    "        # one hot for term\n",
    "        term_encode = [0]*7\n",
    "        term_encode[term[0]] = 1\n",
    "        shifted_target= []\n",
    "\n",
    "        \n",
    "        # get  user interaction informations in the previous MAXLEN interactions\n",
    "        if n > self.maxlength:\n",
    "          ch_label = ch_label[-self.maxlength:]\n",
    "          sub_ch_label = sub_ch_label[-self.maxlength:]\n",
    "          ques_name = ques_name[-self.maxlength:]\n",
    "          features = features[-self.maxlength:]\n",
    "          target = ori_target[-self.maxlength:]\n",
    "          shifted_target = ori_target[ (-self.maxlength - 1) :-1]\n",
    "        else:\n",
    "          ch_label = [0]*(self.maxlength - n)+list(ch_label[:])\n",
    "          sub_ch_label = [0]*(self.maxlength - n)+list(sub_ch_label[:])\n",
    "          ques_name = [0]*(self.maxlength - n)+list(ques_name[:])\n",
    "          features = [[0]*len(features[0])]*(self.maxlength  - n)+list(features[:])\n",
    "          target = [-1]*(self.maxlength - n) + list(ori_target[:])\n",
    "          shifted_target = [2]*(self.maxlength + 1 - n) + list(ori_target[:-1])\n",
    "\n",
    "        new_features = []\n",
    "        count = 0\n",
    "        for f in features:\n",
    "          temp = list(f)\n",
    "          temp.extend(term_encode)\n",
    "          #temp.append(shifted_target[count]) #uncomment this line for include previous response feature\n",
    "          new_features.append(temp)\n",
    "          count += 1\n",
    "        features = new_features\n",
    "        return ch_label,sub_ch_label,ques_name,features, shifted_target, target"
   ]
  },
  {
   "cell_type": "code",
   "execution_count": 31,
   "metadata": {
    "execution": {
     "iopub.execute_input": "2021-08-08T13:05:50.799728Z",
     "iopub.status.busy": "2021-08-08T13:05:50.799036Z",
     "iopub.status.idle": "2021-08-08T13:05:50.801580Z",
     "shell.execute_reply": "2021-08-08T13:05:50.802066Z",
     "shell.execute_reply.started": "2021-08-06T21:05:49.347481Z"
    },
    "papermill": {
     "duration": 0.370997,
     "end_time": "2021-08-08T13:05:50.802231",
     "exception": false,
     "start_time": "2021-08-08T13:05:50.431234",
     "status": "completed"
    },
    "tags": []
   },
   "outputs": [
    {
     "data": {
      "text/plain": [
       "223"
      ]
     },
     "execution_count": 31,
     "metadata": {},
     "output_type": "execute_result"
    }
   ],
   "source": [
    "SUB_CHAPTER_SIZE"
   ]
  },
  {
   "cell_type": "markdown",
   "metadata": {
    "id": "4xc90-aLzxat",
    "papermill": {
     "duration": 0.365905,
     "end_time": "2021-08-08T13:05:51.534642",
     "exception": false,
     "start_time": "2021-08-08T13:05:51.168737",
     "status": "completed"
    },
    "tags": []
   },
   "source": [
    "## KFOLD - LSTM\n"
   ]
  },
  {
   "cell_type": "code",
   "execution_count": 32,
   "metadata": {
    "execution": {
     "iopub.execute_input": "2021-08-08T13:05:52.268267Z",
     "iopub.status.busy": "2021-08-08T13:05:52.267561Z",
     "iopub.status.idle": "2021-08-08T13:29:35.178012Z",
     "shell.execute_reply": "2021-08-08T13:29:35.178605Z",
     "shell.execute_reply.started": "2021-08-06T21:05:49.358265Z"
    },
    "id": "gzJrljnjzypP",
    "outputId": "87abe488-b493-4f8f-9d71-45cb1d2ddf51",
    "papermill": {
     "duration": 1423.277644,
     "end_time": "2021-08-08T13:29:35.178812",
     "exception": false,
     "start_time": "2021-08-08T13:05:51.901168",
     "status": "completed"
    },
    "tags": []
   },
   "outputs": [
    {
     "name": "stdout",
     "output_type": "stream",
     "text": [
      "Epoch 1/100\n",
      "14/14 [==============================] - 24s 1s/step - loss: 0.5806 - masked_acc: 0.6052 - masked_auc: 0.5209 - val_loss: 0.5043 - val_masked_acc: 0.7028 - val_masked_auc: 0.6676\n",
      "Epoch 2/100\n",
      "14/14 [==============================] - 13s 893ms/step - loss: 0.4542 - masked_acc: 0.7144 - masked_auc: 0.6991 - val_loss: 0.4413 - val_masked_acc: 0.7347 - val_masked_auc: 0.7512\n",
      "Epoch 3/100\n",
      "14/14 [==============================] - 12s 881ms/step - loss: 0.4093 - masked_acc: 0.7409 - masked_auc: 0.7645 - val_loss: 0.4327 - val_masked_acc: 0.7513 - val_masked_auc: 0.7862\n",
      "Epoch 4/100\n",
      "14/14 [==============================] - 12s 876ms/step - loss: 0.4045 - masked_acc: 0.7541 - masked_auc: 0.7925 - val_loss: 0.4258 - val_masked_acc: 0.7605 - val_masked_auc: 0.8041\n",
      "Epoch 5/100\n",
      "14/14 [==============================] - 12s 886ms/step - loss: 0.4006 - masked_acc: 0.7622 - masked_auc: 0.8075 - val_loss: 0.4239 - val_masked_acc: 0.7665 - val_masked_auc: 0.8151\n",
      "Epoch 6/100\n",
      "14/14 [==============================] - 12s 856ms/step - loss: 0.3958 - masked_acc: 0.7677 - masked_auc: 0.8175 - val_loss: 0.4206 - val_masked_acc: 0.7709 - val_masked_auc: 0.8227\n",
      "Epoch 7/100\n",
      "14/14 [==============================] - 12s 874ms/step - loss: 0.3869 - masked_acc: 0.7720 - masked_auc: 0.8245 - val_loss: 0.4209 - val_masked_acc: 0.7744 - val_masked_auc: 0.8284\n",
      "Epoch 8/100\n",
      "14/14 [==============================] - 12s 877ms/step - loss: 0.3913 - masked_acc: 0.7751 - masked_auc: 0.8297 - val_loss: 0.4188 - val_masked_acc: 0.7772 - val_masked_auc: 0.8329\n",
      "Epoch 9/100\n",
      "14/14 [==============================] - 12s 868ms/step - loss: 0.3831 - masked_acc: 0.7778 - masked_auc: 0.8341 - val_loss: 0.4170 - val_masked_acc: 0.7797 - val_masked_auc: 0.8368\n",
      "Epoch 10/100\n",
      "14/14 [==============================] - 12s 831ms/step - loss: 0.3782 - masked_acc: 0.7803 - masked_auc: 0.8377 - val_loss: 0.4179 - val_masked_acc: 0.7819 - val_masked_auc: 0.8401\n",
      "Epoch 11/100\n",
      "14/14 [==============================] - 12s 841ms/step - loss: 0.3737 - masked_acc: 0.7825 - masked_auc: 0.8410 - val_loss: 0.4151 - val_masked_acc: 0.7838 - val_masked_auc: 0.8429\n",
      "Epoch 12/100\n",
      "14/14 [==============================] - 13s 901ms/step - loss: 0.3773 - masked_acc: 0.7842 - masked_auc: 0.8437 - val_loss: 0.4171 - val_masked_acc: 0.7855 - val_masked_auc: 0.8454\n",
      "Epoch 13/100\n",
      "14/14 [==============================] - 12s 860ms/step - loss: 0.3674 - masked_acc: 0.7861 - masked_auc: 0.8462 - val_loss: 0.4162 - val_masked_acc: 0.7871 - val_masked_auc: 0.8477\n",
      "Epoch 14/100\n",
      "14/14 [==============================] - 12s 842ms/step - loss: 0.3677 - masked_acc: 0.7876 - masked_auc: 0.8484 - val_loss: 0.4190 - val_masked_acc: 0.7886 - val_masked_auc: 0.8499\n",
      "Epoch 15/100\n",
      "14/14 [==============================] - 12s 864ms/step - loss: 0.3656 - masked_acc: 0.7890 - masked_auc: 0.8505 - val_loss: 0.4197 - val_masked_acc: 0.7900 - val_masked_auc: 0.8518\n",
      "Epoch 16/100\n",
      "14/14 [==============================] - 19s 1s/step - loss: 0.3592 - masked_acc: 0.7904 - masked_auc: 0.8525 - val_loss: 0.4210 - val_masked_acc: 0.7914 - val_masked_auc: 0.8537\n",
      "Epoch 17/100\n",
      "14/14 [==============================] - 12s 880ms/step - loss: 0.3543 - masked_acc: 0.7917 - masked_auc: 0.8542 - val_loss: 0.4242 - val_masked_acc: 0.7926 - val_masked_auc: 0.8554\n",
      "Epoch 18/100\n",
      "14/14 [==============================] - 12s 875ms/step - loss: 0.3510 - masked_acc: 0.7930 - masked_auc: 0.8560 - val_loss: 0.4289 - val_masked_acc: 0.7938 - val_masked_auc: 0.8570\n",
      "Epoch 19/100\n",
      "14/14 [==============================] - 12s 892ms/step - loss: 0.3508 - masked_acc: 0.7941 - masked_auc: 0.8575 - val_loss: 0.4297 - val_masked_acc: 0.7949 - val_masked_auc: 0.8586\n",
      "Epoch 20/100\n",
      "14/14 [==============================] - 12s 871ms/step - loss: 0.3478 - masked_acc: 0.7952 - masked_auc: 0.8591 - val_loss: 0.4315 - val_masked_acc: 0.7961 - val_masked_auc: 0.8602\n",
      "Epoch 21/100\n",
      "14/14 [==============================] - 12s 858ms/step - loss: 0.3436 - masked_acc: 0.7964 - masked_auc: 0.8607 - val_loss: 0.4395 - val_masked_acc: 0.7972 - val_masked_auc: 0.8617\n",
      "28/28 [==============================] - 4s 147ms/step - loss: 0.3343 - masked_acc: 0.7980 - masked_auc: 0.8628\n",
      "4/4 [==============================] - 1s 126ms/step - loss: 0.4354 - masked_acc: 0.7984 - masked_auc: 0.8634\n",
      "Test:  [0.43535295128822327, 0.7983843684196472, 0.8633750677108765]\n",
      "Epoch 1/100\n",
      "14/14 [==============================] - 24s 1s/step - loss: 0.5993 - masked_acc: 0.6291 - masked_auc: 0.5121 - val_loss: 0.5051 - val_masked_acc: 0.7004 - val_masked_auc: 0.6260\n",
      "Epoch 2/100\n",
      "14/14 [==============================] - 12s 887ms/step - loss: 0.4876 - masked_acc: 0.7079 - masked_auc: 0.6604 - val_loss: 0.4359 - val_masked_acc: 0.7269 - val_masked_auc: 0.7186\n",
      "Epoch 3/100\n",
      "14/14 [==============================] - 13s 891ms/step - loss: 0.4217 - masked_acc: 0.7333 - masked_auc: 0.7360 - val_loss: 0.4192 - val_masked_acc: 0.7451 - val_masked_auc: 0.7653\n",
      "Epoch 4/100\n",
      "14/14 [==============================] - 13s 898ms/step - loss: 0.4080 - masked_acc: 0.7486 - masked_auc: 0.7735 - val_loss: 0.4138 - val_masked_acc: 0.7554 - val_masked_auc: 0.7888\n",
      "Epoch 5/100\n",
      "14/14 [==============================] - 13s 907ms/step - loss: 0.3977 - masked_acc: 0.7578 - masked_auc: 0.7939 - val_loss: 0.4131 - val_masked_acc: 0.7621 - val_masked_auc: 0.8030\n",
      "Epoch 6/100\n",
      "14/14 [==============================] - 13s 899ms/step - loss: 0.3982 - masked_acc: 0.7636 - masked_auc: 0.8063 - val_loss: 0.4097 - val_masked_acc: 0.7667 - val_masked_auc: 0.8126\n",
      "Epoch 7/100\n",
      "14/14 [==============================] - 12s 851ms/step - loss: 0.3974 - masked_acc: 0.7679 - masked_auc: 0.8149 - val_loss: 0.4085 - val_masked_acc: 0.7705 - val_masked_auc: 0.8195\n",
      "Epoch 8/100\n",
      "14/14 [==============================] - 13s 908ms/step - loss: 0.3932 - masked_acc: 0.7713 - masked_auc: 0.8213 - val_loss: 0.4087 - val_masked_acc: 0.7736 - val_masked_auc: 0.8251\n",
      "Epoch 9/100\n",
      "14/14 [==============================] - 13s 898ms/step - loss: 0.3916 - masked_acc: 0.7743 - masked_auc: 0.8265 - val_loss: 0.4121 - val_masked_acc: 0.7762 - val_masked_auc: 0.8295\n",
      "Epoch 10/100\n",
      "14/14 [==============================] - 12s 890ms/step - loss: 0.3911 - masked_acc: 0.7767 - masked_auc: 0.8307 - val_loss: 0.4071 - val_masked_acc: 0.7785 - val_masked_auc: 0.8333\n",
      "Epoch 11/100\n",
      "14/14 [==============================] - 13s 920ms/step - loss: 0.3842 - masked_acc: 0.7790 - masked_auc: 0.8344 - val_loss: 0.4036 - val_masked_acc: 0.7805 - val_masked_auc: 0.8365\n",
      "Epoch 12/100\n",
      "14/14 [==============================] - 12s 885ms/step - loss: 0.3780 - masked_acc: 0.7811 - masked_auc: 0.8375 - val_loss: 0.4071 - val_masked_acc: 0.7822 - val_masked_auc: 0.8392\n",
      "Epoch 13/100\n",
      "14/14 [==============================] - 12s 876ms/step - loss: 0.3797 - masked_acc: 0.7827 - masked_auc: 0.8400 - val_loss: 0.4081 - val_masked_acc: 0.7838 - val_masked_auc: 0.8418\n",
      "Epoch 14/100\n",
      "14/14 [==============================] - 13s 916ms/step - loss: 0.3730 - masked_acc: 0.7843 - masked_auc: 0.8425 - val_loss: 0.4065 - val_masked_acc: 0.7853 - val_masked_auc: 0.8441\n",
      "Epoch 15/100\n",
      "14/14 [==============================] - 12s 878ms/step - loss: 0.3726 - masked_acc: 0.7858 - masked_auc: 0.8448 - val_loss: 0.4118 - val_masked_acc: 0.7868 - val_masked_auc: 0.8462\n",
      "Epoch 16/100\n",
      "14/14 [==============================] - 12s 879ms/step - loss: 0.3624 - masked_acc: 0.7872 - masked_auc: 0.8469 - val_loss: 0.4046 - val_masked_acc: 0.7881 - val_masked_auc: 0.8482\n",
      "Epoch 17/100\n",
      "14/14 [==============================] - 12s 869ms/step - loss: 0.3685 - masked_acc: 0.7885 - masked_auc: 0.8489 - val_loss: 0.4116 - val_masked_acc: 0.7894 - val_masked_auc: 0.8502\n",
      "Epoch 18/100\n",
      "14/14 [==============================] - 12s 856ms/step - loss: 0.3645 - masked_acc: 0.7898 - masked_auc: 0.8507 - val_loss: 0.4109 - val_masked_acc: 0.7906 - val_masked_auc: 0.8519\n",
      "Epoch 19/100\n",
      "14/14 [==============================] - 12s 893ms/step - loss: 0.3646 - masked_acc: 0.7909 - masked_auc: 0.8525 - val_loss: 0.4146 - val_masked_acc: 0.7918 - val_masked_auc: 0.8537\n",
      "Epoch 20/100\n",
      "14/14 [==============================] - 12s 859ms/step - loss: 0.3563 - masked_acc: 0.7922 - masked_auc: 0.8542 - val_loss: 0.4262 - val_masked_acc: 0.7929 - val_masked_auc: 0.8552\n",
      "Epoch 21/100\n",
      "14/14 [==============================] - 13s 907ms/step - loss: 0.3622 - masked_acc: 0.7931 - masked_auc: 0.8556 - val_loss: 0.4264 - val_masked_acc: 0.7940 - val_masked_auc: 0.8567\n",
      "28/28 [==============================] - 4s 141ms/step - loss: 0.3450 - masked_acc: 0.7947 - masked_auc: 0.8578\n",
      "4/4 [==============================] - 1s 129ms/step - loss: 0.4069 - masked_acc: 0.7951 - masked_auc: 0.8584\n",
      "Test:  [0.4068877696990967, 0.7951231002807617, 0.8584365844726562]\n",
      "Epoch 1/100\n",
      "14/14 [==============================] - 24s 1s/step - loss: 0.5891 - masked_acc: 0.6116 - masked_auc: 0.5344 - val_loss: 0.4877 - val_masked_acc: 0.6951 - val_masked_auc: 0.6581\n",
      "Epoch 2/100\n",
      "14/14 [==============================] - 12s 891ms/step - loss: 0.4855 - masked_acc: 0.6980 - masked_auc: 0.6865 - val_loss: 0.4278 - val_masked_acc: 0.7214 - val_masked_auc: 0.7399\n",
      "Epoch 3/100\n",
      "14/14 [==============================] - 12s 881ms/step - loss: 0.4307 - masked_acc: 0.7277 - masked_auc: 0.7534 - val_loss: 0.4078 - val_masked_acc: 0.7418 - val_masked_auc: 0.7780\n",
      "Epoch 4/100\n",
      "14/14 [==============================] - 13s 906ms/step - loss: 0.4106 - masked_acc: 0.7455 - masked_auc: 0.7848 - val_loss: 0.4036 - val_masked_acc: 0.7527 - val_masked_auc: 0.7973\n",
      "Epoch 5/100\n",
      "14/14 [==============================] - 12s 862ms/step - loss: 0.4057 - masked_acc: 0.7550 - masked_auc: 0.8015 - val_loss: 0.4003 - val_masked_acc: 0.7597 - val_masked_auc: 0.8093\n",
      "Epoch 6/100\n",
      "14/14 [==============================] - 13s 903ms/step - loss: 0.3998 - masked_acc: 0.7613 - masked_auc: 0.8119 - val_loss: 0.3998 - val_masked_acc: 0.7647 - val_masked_auc: 0.8175\n",
      "Epoch 7/100\n",
      "14/14 [==============================] - 13s 912ms/step - loss: 0.3963 - masked_acc: 0.7659 - masked_auc: 0.8195 - val_loss: 0.3971 - val_masked_acc: 0.7686 - val_masked_auc: 0.8235\n",
      "Epoch 8/100\n",
      "14/14 [==============================] - 12s 881ms/step - loss: 0.3954 - masked_acc: 0.7696 - masked_auc: 0.8250 - val_loss: 0.3959 - val_masked_acc: 0.7718 - val_masked_auc: 0.8284\n",
      "Epoch 9/100\n",
      "14/14 [==============================] - 13s 897ms/step - loss: 0.3941 - masked_acc: 0.7726 - masked_auc: 0.8297 - val_loss: 0.3955 - val_masked_acc: 0.7745 - val_masked_auc: 0.8324\n",
      "Epoch 10/100\n",
      "14/14 [==============================] - 12s 890ms/step - loss: 0.3878 - masked_acc: 0.7751 - masked_auc: 0.8335 - val_loss: 0.3951 - val_masked_acc: 0.7768 - val_masked_auc: 0.8358\n",
      "Epoch 11/100\n",
      "14/14 [==============================] - 13s 914ms/step - loss: 0.3834 - masked_acc: 0.7774 - masked_auc: 0.8368 - val_loss: 0.3951 - val_masked_acc: 0.7789 - val_masked_auc: 0.8388\n",
      "Epoch 12/100\n",
      "14/14 [==============================] - 12s 896ms/step - loss: 0.3776 - masked_acc: 0.7795 - masked_auc: 0.8397 - val_loss: 0.3956 - val_masked_acc: 0.7808 - val_masked_auc: 0.8415\n",
      "Epoch 13/100\n",
      "14/14 [==============================] - 13s 915ms/step - loss: 0.3762 - masked_acc: 0.7813 - masked_auc: 0.8422 - val_loss: 0.3973 - val_masked_acc: 0.7826 - val_masked_auc: 0.8439\n",
      "Epoch 14/100\n",
      "14/14 [==============================] - 13s 906ms/step - loss: 0.3782 - masked_acc: 0.7830 - masked_auc: 0.8446 - val_loss: 0.3975 - val_masked_acc: 0.7841 - val_masked_auc: 0.8460\n",
      "Epoch 15/100\n",
      "14/14 [==============================] - 12s 895ms/step - loss: 0.3735 - masked_acc: 0.7845 - masked_auc: 0.8467 - val_loss: 0.3978 - val_masked_acc: 0.7856 - val_masked_auc: 0.8481\n",
      "Epoch 16/100\n",
      "14/14 [==============================] - 13s 953ms/step - loss: 0.3671 - masked_acc: 0.7860 - masked_auc: 0.8487 - val_loss: 0.4009 - val_masked_acc: 0.7870 - val_masked_auc: 0.8499\n",
      "Epoch 17/100\n",
      "14/14 [==============================] - 12s 892ms/step - loss: 0.3704 - masked_acc: 0.7873 - masked_auc: 0.8505 - val_loss: 0.4030 - val_masked_acc: 0.7883 - val_masked_auc: 0.8517\n",
      "Epoch 18/100\n",
      "14/14 [==============================] - 12s 872ms/step - loss: 0.3611 - masked_acc: 0.7886 - masked_auc: 0.8522 - val_loss: 0.4012 - val_masked_acc: 0.7895 - val_masked_auc: 0.8534\n",
      "Epoch 19/100\n",
      "14/14 [==============================] - 13s 925ms/step - loss: 0.3604 - masked_acc: 0.7899 - masked_auc: 0.8539 - val_loss: 0.4038 - val_masked_acc: 0.7908 - val_masked_auc: 0.8551\n",
      "Epoch 20/100\n",
      "14/14 [==============================] - 12s 881ms/step - loss: 0.3554 - masked_acc: 0.7912 - masked_auc: 0.8556 - val_loss: 0.4065 - val_masked_acc: 0.7920 - val_masked_auc: 0.8567\n",
      "28/28 [==============================] - 4s 144ms/step - loss: 0.3485 - masked_acc: 0.7929 - masked_auc: 0.8578\n",
      "4/4 [==============================] - 1s 130ms/step - loss: 0.3858 - masked_acc: 0.7933 - masked_auc: 0.8584\n",
      "Test:  [0.38583365082740784, 0.7932896018028259, 0.858407199382782]\n",
      "Epoch 1/100\n",
      "14/14 [==============================] - 23s 1s/step - loss: 0.5676 - masked_acc: 0.6947 - masked_auc: 0.5540 - val_loss: 0.4727 - val_masked_acc: 0.7231 - val_masked_auc: 0.6894\n",
      "Epoch 2/100\n",
      "14/14 [==============================] - 13s 912ms/step - loss: 0.4625 - masked_acc: 0.7296 - masked_auc: 0.7130 - val_loss: 0.4122 - val_masked_acc: 0.7457 - val_masked_auc: 0.7594\n",
      "Epoch 3/100\n",
      "14/14 [==============================] - 12s 862ms/step - loss: 0.4231 - masked_acc: 0.7498 - masked_auc: 0.7709 - val_loss: 0.4052 - val_masked_acc: 0.7591 - val_masked_auc: 0.7913\n",
      "Epoch 4/100\n",
      "14/14 [==============================] - 12s 859ms/step - loss: 0.4088 - masked_acc: 0.7610 - masked_auc: 0.7964 - val_loss: 0.4003 - val_masked_acc: 0.7661 - val_masked_auc: 0.8073\n",
      "Epoch 5/100\n",
      "14/14 [==============================] - 12s 895ms/step - loss: 0.4076 - masked_acc: 0.7673 - masked_auc: 0.8103 - val_loss: 0.4003 - val_masked_acc: 0.7709 - val_masked_auc: 0.8173\n",
      "Epoch 6/100\n",
      "14/14 [==============================] - 12s 860ms/step - loss: 0.4000 - masked_acc: 0.7719 - masked_auc: 0.8197 - val_loss: 0.3965 - val_masked_acc: 0.7744 - val_masked_auc: 0.8241\n",
      "Epoch 7/100\n",
      "14/14 [==============================] - 12s 877ms/step - loss: 0.3936 - masked_acc: 0.7752 - masked_auc: 0.8258 - val_loss: 0.3957 - val_masked_acc: 0.7771 - val_masked_auc: 0.8294\n",
      "Epoch 8/100\n",
      "14/14 [==============================] - 12s 867ms/step - loss: 0.3961 - masked_acc: 0.7777 - masked_auc: 0.8306 - val_loss: 0.3963 - val_masked_acc: 0.7794 - val_masked_auc: 0.8334\n",
      "Epoch 9/100\n",
      "14/14 [==============================] - 13s 888ms/step - loss: 0.3909 - masked_acc: 0.7799 - masked_auc: 0.8344 - val_loss: 0.3951 - val_masked_acc: 0.7815 - val_masked_auc: 0.8370\n",
      "Epoch 10/100\n",
      "14/14 [==============================] - 12s 890ms/step - loss: 0.3869 - masked_acc: 0.7820 - masked_auc: 0.8380 - val_loss: 0.3932 - val_masked_acc: 0.7834 - val_masked_auc: 0.8401\n",
      "Epoch 11/100\n",
      "14/14 [==============================] - 12s 863ms/step - loss: 0.3743 - masked_acc: 0.7840 - masked_auc: 0.8411 - val_loss: 0.3957 - val_masked_acc: 0.7851 - val_masked_auc: 0.8429\n",
      "Epoch 12/100\n",
      "14/14 [==============================] - 12s 879ms/step - loss: 0.3871 - masked_acc: 0.7854 - masked_auc: 0.8435 - val_loss: 0.3978 - val_masked_acc: 0.7866 - val_masked_auc: 0.8452\n",
      "Epoch 13/100\n",
      "14/14 [==============================] - 12s 892ms/step - loss: 0.3844 - masked_acc: 0.7869 - masked_auc: 0.8458 - val_loss: 0.4046 - val_masked_acc: 0.7880 - val_masked_auc: 0.8473\n",
      "Epoch 14/100\n",
      "14/14 [==============================] - 12s 870ms/step - loss: 0.3736 - masked_acc: 0.7883 - masked_auc: 0.8478 - val_loss: 0.4022 - val_masked_acc: 0.7893 - val_masked_auc: 0.8492\n",
      "Epoch 15/100\n",
      "14/14 [==============================] - 12s 875ms/step - loss: 0.3774 - masked_acc: 0.7895 - masked_auc: 0.8497 - val_loss: 0.4010 - val_masked_acc: 0.7905 - val_masked_auc: 0.8511\n",
      "Epoch 16/100\n",
      "14/14 [==============================] - 12s 884ms/step - loss: 0.3660 - masked_acc: 0.7909 - masked_auc: 0.8517 - val_loss: 0.4030 - val_masked_acc: 0.7917 - val_masked_auc: 0.8528\n",
      "Epoch 17/100\n",
      "14/14 [==============================] - 12s 885ms/step - loss: 0.3622 - masked_acc: 0.7921 - masked_auc: 0.8534 - val_loss: 0.4063 - val_masked_acc: 0.7929 - val_masked_auc: 0.8545\n",
      "Epoch 18/100\n",
      "14/14 [==============================] - 13s 910ms/step - loss: 0.3572 - masked_acc: 0.7933 - masked_auc: 0.8550 - val_loss: 0.4168 - val_masked_acc: 0.7940 - val_masked_auc: 0.8561\n",
      "Epoch 19/100\n",
      "14/14 [==============================] - 12s 881ms/step - loss: 0.3555 - masked_acc: 0.7943 - masked_auc: 0.8566 - val_loss: 0.4092 - val_masked_acc: 0.7951 - val_masked_auc: 0.8575\n",
      "Epoch 20/100\n",
      "14/14 [==============================] - 13s 912ms/step - loss: 0.3526 - masked_acc: 0.7954 - masked_auc: 0.8580 - val_loss: 0.4216 - val_masked_acc: 0.7961 - val_masked_auc: 0.8590\n",
      "28/28 [==============================] - 4s 146ms/step - loss: 0.3451 - masked_acc: 0.7970 - masked_auc: 0.8600\n",
      "4/4 [==============================] - 1s 132ms/step - loss: 0.4114 - masked_acc: 0.7973 - masked_auc: 0.8607\n",
      "Test:  [0.4114273190498352, 0.797336220741272, 0.8606661558151245]\n",
      "Epoch 1/100\n",
      "14/14 [==============================] - 25s 1s/step - loss: 0.5990 - masked_acc: 0.5976 - masked_auc: 0.5272 - val_loss: 0.5439 - val_masked_acc: 0.6913 - val_masked_auc: 0.6196\n",
      "Epoch 2/100\n",
      "14/14 [==============================] - 12s 863ms/step - loss: 0.4824 - masked_acc: 0.6997 - masked_auc: 0.6526 - val_loss: 0.4570 - val_masked_acc: 0.7216 - val_masked_auc: 0.7138\n",
      "Epoch 3/100\n",
      "14/14 [==============================] - 13s 905ms/step - loss: 0.4261 - masked_acc: 0.7283 - masked_auc: 0.7320 - val_loss: 0.4341 - val_masked_acc: 0.7415 - val_masked_auc: 0.7625\n",
      "Epoch 4/100\n",
      "14/14 [==============================] - 13s 913ms/step - loss: 0.4116 - masked_acc: 0.7451 - masked_auc: 0.7713 - val_loss: 0.4271 - val_masked_acc: 0.7524 - val_masked_auc: 0.7869\n",
      "Epoch 5/100\n",
      "14/14 [==============================] - 12s 880ms/step - loss: 0.3987 - masked_acc: 0.7547 - masked_auc: 0.7920 - val_loss: 0.4250 - val_masked_acc: 0.7595 - val_masked_auc: 0.8016\n",
      "Epoch 6/100\n",
      "14/14 [==============================] - 13s 933ms/step - loss: 0.3971 - masked_acc: 0.7610 - masked_auc: 0.8047 - val_loss: 0.4219 - val_masked_acc: 0.7646 - val_masked_auc: 0.8114\n",
      "Epoch 7/100\n",
      "14/14 [==============================] - 12s 865ms/step - loss: 0.3926 - masked_acc: 0.7658 - masked_auc: 0.8136 - val_loss: 0.4245 - val_masked_acc: 0.7686 - val_masked_auc: 0.8186\n",
      "Epoch 8/100\n",
      "14/14 [==============================] - 12s 886ms/step - loss: 0.3929 - masked_acc: 0.7695 - masked_auc: 0.8202 - val_loss: 0.4227 - val_masked_acc: 0.7717 - val_masked_auc: 0.8241\n",
      "Epoch 9/100\n",
      "14/14 [==============================] - 13s 936ms/step - loss: 0.3973 - masked_acc: 0.7722 - masked_auc: 0.8254 - val_loss: 0.4222 - val_masked_acc: 0.7743 - val_masked_auc: 0.8286\n",
      "Epoch 10/100\n",
      "14/14 [==============================] - 12s 875ms/step - loss: 0.3876 - masked_acc: 0.7749 - masked_auc: 0.8297 - val_loss: 0.4209 - val_masked_acc: 0.7766 - val_masked_auc: 0.8323\n",
      "Epoch 11/100\n",
      "14/14 [==============================] - 13s 916ms/step - loss: 0.3833 - masked_acc: 0.7772 - masked_auc: 0.8333 - val_loss: 0.4222 - val_masked_acc: 0.7787 - val_masked_auc: 0.8357\n",
      "Epoch 12/100\n",
      "14/14 [==============================] - 13s 902ms/step - loss: 0.3703 - masked_acc: 0.7794 - masked_auc: 0.8366 - val_loss: 0.4185 - val_masked_acc: 0.7807 - val_masked_auc: 0.8387\n",
      "Epoch 13/100\n",
      "14/14 [==============================] - 12s 887ms/step - loss: 0.3705 - masked_acc: 0.7812 - masked_auc: 0.8396 - val_loss: 0.4217 - val_masked_acc: 0.7825 - val_masked_auc: 0.8414\n",
      "Epoch 14/100\n",
      "14/14 [==============================] - 13s 953ms/step - loss: 0.3684 - masked_acc: 0.7830 - masked_auc: 0.8422 - val_loss: 0.4206 - val_masked_acc: 0.7842 - val_masked_auc: 0.8439\n",
      "Epoch 15/100\n",
      "14/14 [==============================] - 12s 890ms/step - loss: 0.3660 - masked_acc: 0.7847 - masked_auc: 0.8446 - val_loss: 0.4255 - val_masked_acc: 0.7857 - val_masked_auc: 0.8461\n",
      "Epoch 16/100\n",
      "14/14 [==============================] - 13s 923ms/step - loss: 0.3725 - masked_acc: 0.7861 - masked_auc: 0.8467 - val_loss: 0.4282 - val_masked_acc: 0.7871 - val_masked_auc: 0.8481\n",
      "Epoch 17/100\n",
      "14/14 [==============================] - 13s 905ms/step - loss: 0.3657 - masked_acc: 0.7875 - masked_auc: 0.8487 - val_loss: 0.4263 - val_masked_acc: 0.7884 - val_masked_auc: 0.8500\n",
      "Epoch 18/100\n",
      "14/14 [==============================] - 12s 890ms/step - loss: 0.3532 - masked_acc: 0.7889 - masked_auc: 0.8506 - val_loss: 0.4276 - val_masked_acc: 0.7897 - val_masked_auc: 0.8518\n",
      "Epoch 19/100\n",
      "14/14 [==============================] - 13s 917ms/step - loss: 0.3532 - masked_acc: 0.7901 - masked_auc: 0.8524 - val_loss: 0.4347 - val_masked_acc: 0.7910 - val_masked_auc: 0.8536\n",
      "Epoch 20/100\n",
      "14/14 [==============================] - 13s 918ms/step - loss: 0.3430 - masked_acc: 0.7914 - masked_auc: 0.8542 - val_loss: 0.4390 - val_masked_acc: 0.7922 - val_masked_auc: 0.8553\n",
      "Epoch 21/100\n",
      "14/14 [==============================] - 13s 918ms/step - loss: 0.3394 - masked_acc: 0.7926 - masked_auc: 0.8559 - val_loss: 0.4421 - val_masked_acc: 0.7934 - val_masked_auc: 0.8570\n",
      "Epoch 22/100\n",
      "14/14 [==============================] - 12s 893ms/step - loss: 0.3388 - masked_acc: 0.7938 - masked_auc: 0.8575 - val_loss: 0.4484 - val_masked_acc: 0.7946 - val_masked_auc: 0.8586\n",
      "28/28 [==============================] - 4s 152ms/step - loss: 0.3399 - masked_acc: 0.7953 - masked_auc: 0.8596\n",
      "4/4 [==============================] - 1s 146ms/step - loss: 0.4166 - masked_acc: 0.7957 - masked_auc: 0.8602\n",
      "Test:  [0.41662436723709106, 0.7956698536872864, 0.860168993473053]\n"
     ]
    }
   ],
   "source": [
    "# 5 fold cross validation with LSTM-based model\n",
    "import torch\n",
    "X = np.array(grouped_data.keys())\n",
    "kfold = KFold(n_splits=5, shuffle=True)\n",
    "train_losses = list()\n",
    "train_aucs = list()\n",
    "val_losses = list()\n",
    "val_aucs = list()\n",
    "train_eval = list()\n",
    "test_eval = list()\n",
    "for train, test in kfold.split(X):\n",
    "    users_train, users_test =  X[train], X[test]\n",
    "    n = len(users_test)//2\n",
    "    users_test, users_val = users_test[:n], users_test[n: ]\n",
    "    train_data_space = SPACE_DATASET(grouped_data[users_train], MAXLENGTH)\n",
    "    val_data_space = SPACE_DATASET(grouped_data[users_val], MAXLENGTH)\n",
    "    test_data_space = SPACE_DATASET(grouped_data[users_test], MAXLENGTH)\n",
    "    #construct training input\n",
    "    train_chapter=[]\n",
    "    train_sub_chapter=[]\n",
    "    train_question = []\n",
    "    train_features=[]\n",
    "    train_shifted_t = []\n",
    "    train_labels=[]\n",
    "    for i in range(len(users_train)):\n",
    "        user = train_data_space.__getitem__(i)\n",
    "        train_chapter.append(user[0])\n",
    "        train_sub_chapter.append(user[1]) \n",
    "        train_question.append(user[2])\n",
    "        train_features.append(user[3])\n",
    "        train_shifted_t.append(user[4])\n",
    "        train_labels.append(user[5])\n",
    "    train_chapter = np.array(train_chapter)\n",
    "    train_sub_chapter = np.array(train_sub_chapter)\n",
    "    train_question = np.array(train_question)\n",
    "    train_features = np.array(train_features)\n",
    "    train_shifted_t = np.array(train_shifted_t)\n",
    "    train_labels= np.array(train_labels)[..., np.newaxis]\n",
    "\n",
    "    #construct validation input\n",
    "    val_chapter=[]\n",
    "    val_sub_chapter=[]\n",
    "    val_question = []\n",
    "    val_features=[]\n",
    "    val_shifted_t = []\n",
    "    val_labels=[]\n",
    "    for i in range(len(users_val)):\n",
    "        user = val_data_space.__getitem__(i)\n",
    "        val_chapter.append(user[0])\n",
    "        val_sub_chapter.append(user[1]) \n",
    "        val_question.append(user[2])\n",
    "        val_features.append(user[3])\n",
    "        val_shifted_t.append(user[4])\n",
    "        val_labels.append(user[5])\n",
    "    val_chapter = np.array(val_chapter)\n",
    "    val_sub_chapter = np.array(val_sub_chapter)\n",
    "    val_features = np.array(val_features)\n",
    "    val_question = np.array(val_question)\n",
    "    val_shifted_t = np.array(val_shifted_t)\n",
    "    val_labels= np.array(val_labels)[..., np.newaxis]\n",
    "\n",
    "    # construct test input\n",
    "    test_chapter=[]\n",
    "    test_sub_chapter=[]\n",
    "    test_features=[]\n",
    "    test_question=[]\n",
    "    test_shifted_t = []\n",
    "    test_labels=[]\n",
    "    for i in range(len(users_test)):\n",
    "        user = test_data_space.__getitem__(i)\n",
    "        test_chapter.append(user[0])\n",
    "        test_sub_chapter.append(user[1]) \n",
    "        test_question.append(user[2])\n",
    "        test_features.append(user[3])\n",
    "        test_shifted_t.append(user[4])\n",
    "        test_labels.append(user[5])\n",
    "    test_chapter = np.array(test_chapter)\n",
    "    test_sub_chapter = np.array(test_sub_chapter)\n",
    "    test_features = np.array(test_features)\n",
    "    test_question = np.array(test_question)\n",
    "    test_shifted_t = np.array(test_shifted_t)\n",
    "    test_labels= np.array(test_labels)[..., np.newaxis]\n",
    "\n",
    "    # define loss function and evaluation metrics\n",
    "    bce = tf.keras.losses.BinaryCrossentropy(from_logits=True)\n",
    "    acc = tf.keras.metrics.Accuracy()\n",
    "    auc = tf.keras.metrics.AUC()\n",
    "\n",
    "    def masked_bce(y_true, y_pred):\n",
    "      flat_pred = y_pred\n",
    "      flat_ground_truth = y_true\n",
    "      label_mask = tf.math.not_equal(flat_ground_truth, -1)\n",
    "      return bce(flat_ground_truth, flat_pred, sample_weight=label_mask)\n",
    "\n",
    "    def masked_acc(y_true, y_pred):\n",
    "      flat_pred = y_pred\n",
    "      flat_ground_truth = y_true\n",
    "      flat_pred = (flat_pred >= 0.5)\n",
    "      label_mask = tf.math.not_equal(flat_ground_truth, -1)\n",
    "      return acc(flat_ground_truth, flat_pred, sample_weight=label_mask)\n",
    "\n",
    "    def masked_auc(y_true, y_pred):\n",
    "      flat_pred = y_pred\n",
    "      flat_ground_truth = y_true\n",
    "      label_mask = tf.math.not_equal(flat_ground_truth, -1)\n",
    "      return auc(flat_ground_truth, flat_pred, sample_weight=label_mask)\n",
    "\n",
    "    # input layer\n",
    "    input_chap = tf.keras.Input(shape=(MAXLENGTH))\n",
    "    input_sub_chap = tf.keras.Input(shape=(MAXLENGTH))\n",
    "    input_ques =  tf.keras.Input(shape=(MAXLENGTH))\n",
    "    input_shifted = tf.keras.Input(shape=(MAXLENGTH))\n",
    "    input_features = tf.keras.Input(shape=(MAXLENGTH, FEATURES_SIZE))\n",
    "\n",
    "    # embedding layer for categorical features\n",
    "    embedding_chap = Embedding(input_dim = CHAPTER_SIZE, output_dim = EMBEDDING_DIM)(input_chap)\n",
    "    embedding_sub_chap = Embedding(input_dim = SUB_CHAPTER_SIZE, output_dim = EMBEDDING_DIM)(input_sub_chap) \n",
    "    embedding_ques = Embedding(input_dim = QUESTION_SIZE, output_dim = EMBEDDING_DIM)(input_ques)       \n",
    "    embedding_shifted = Embedding(input_dim = 3, output_dim = EMBEDDING_DIM)(input_shifted)\n",
    "    # dense layer for numeric features\n",
    "    dense_features = Dense(EMBEDDING_DIM,input_shape = (None, MAXLENGTH))(input_features)\n",
    "\n",
    "    # definr LSTM layers\n",
    "    LSTM_chap = LSTM(LSTM_NEURON, input_shape = (None, EMBEDDING_DIM),return_sequences = True)(embedding_chap)\n",
    "    LSTM_sub_chap = LSTM(LSTM_NEURON, input_shape = (None, EMBEDDING_DIM),return_sequences = True)(embedding_sub_chap)\n",
    "    LSTM_ques = LSTM(LSTM_NEURON, input_shape = (None, EMBEDDING_DIM),return_sequences = True)(embedding_ques)\n",
    "    LSTM_shif = LSTM(LSTM_NEURON, input_shape = (None, EMBEDDING_DIM),return_sequences = True)(embedding_shifted)\n",
    "    LSTM_features = LSTM(LSTM_NEURON, input_shape = (None, EMBEDDING_DIM),return_sequences = True)(dense_features)\n",
    "\n",
    "    LSTM_output = tf.concat([LSTM_chap, LSTM_sub_chap, LSTM_ques,LSTM_shif, LSTM_features], axis = 2)\n",
    "\n",
    "    dense1 = Dense(256, input_shape = (None, 5*EMBEDDING_DIM), activation='relu')(LSTM_output)\n",
    "    dropout1 = Dropout(0.1)(dense1)\n",
    "    dense2 = Dense(64, input_shape = (None, 256), activation='relu')(dropout1)\n",
    "    dropout2 = Dropout(0.1)(dense2)\n",
    "    pred = Dense(1, input_shape = (None, 64), activation='sigmoid')(dropout2)\n",
    "\n",
    "    model = tf.keras.Model(\n",
    "        inputs=[input_chap, input_sub_chap,input_ques, input_shifted, input_features],\n",
    "        outputs=pred,\n",
    "        name='LSTM_model'\n",
    "    )\n",
    "\n",
    "    callback = tf.keras.callbacks.EarlyStopping(monitor='val_loss', patience=10)\n",
    "    opt_adam = Adam(learning_rate = 0.005)\n",
    "    model.compile(\n",
    "        optimizer=opt_adam,\n",
    "        loss= masked_bce,\n",
    "        metrics = [masked_acc, masked_auc]\n",
    "    )\n",
    "\n",
    "    history = model.fit(\n",
    "      [train_chapter, train_sub_chapter, train_question, train_shifted_t, train_features],\n",
    "      train_labels,\n",
    "      batch_size = 64,\n",
    "      epochs = 100,\n",
    "      validation_data=([val_chapter, val_sub_chapter, val_question, val_shifted_t, val_features], val_labels),\n",
    "      callbacks=[callback]\n",
    "    )\n",
    "    val_losses.append(list(history.history['val_loss']))\n",
    "    train_losses.append(list(history.history['loss']))\n",
    "    val_aucs.append(list(history.history['val_masked_auc']))\n",
    "    train_aucs.append(list(history.history['masked_auc']))\n",
    "    train_score = model.evaluate([train_chapter, train_sub_chapter, train_question, train_shifted_t, train_features], train_labels)\n",
    "    train_eval.append(train_score)\n",
    "    test_score = model.evaluate([test_chapter, test_sub_chapter, test_question, test_shifted_t, test_features], test_labels)\n",
    "    test_eval.append(test_score)\n",
    "    print(\"Test: \", test_score)\n",
    "    def reset_weights(model):\n",
    "      for layer in model.layers: \n",
    "        if isinstance(layer, tf.keras.Model):\n",
    "          reset_weights(layer)\n",
    "          continue\n",
    "        for k, initializer in layer.__dict__.items():\n",
    "          if \"initializer\" not in k:\n",
    "            continue\n",
    "          # find the corresponding variable\n",
    "          var = getattr(layer, k.replace(\"_initializer\", \"\"))\n",
    "          var.assign(initializer(var.shape, var.dtype))\n",
    "    reset_weights(model)"
   ]
  },
  {
   "cell_type": "code",
   "execution_count": 33,
   "metadata": {
    "execution": {
     "iopub.execute_input": "2021-08-08T13:29:37.157627Z",
     "iopub.status.busy": "2021-08-08T13:29:37.156577Z",
     "iopub.status.idle": "2021-08-08T13:29:37.162289Z",
     "shell.execute_reply": "2021-08-08T13:29:37.162832Z",
     "shell.execute_reply.started": "2021-08-06T21:35:33.922753Z"
    },
    "id": "QsVmumHMz3lx",
    "outputId": "4ff1e2fa-6abb-458e-c729-495b456f53e5",
    "papermill": {
     "duration": 1.021738,
     "end_time": "2021-08-08T13:29:37.163008",
     "exception": false,
     "start_time": "2021-08-08T13:29:36.141270",
     "status": "completed"
    },
    "tags": []
   },
   "outputs": [
    {
     "name": "stdout",
     "output_type": "stream",
     "text": [
      "test avg loss:  0.4112252116203308 +/- 0.015967994941065256\n",
      "test avg acc:  0.7959606289863587 +/- 0.0017712795566529687\n",
      "test avg auc:  0.8602108001708985 +/- 0.0018233212977451449\n"
     ]
    }
   ],
   "source": [
    "t_eval = np.array(test_eval)\n",
    "print(\"test avg loss: \", np.mean(t_eval[:, 0]), \"+/-\" ,np.std(t_eval[:, 0]))\n",
    "print(\"test avg acc: \", np.mean(t_eval[:, 1]),  \"+/-\" ,np.std(t_eval[:, 1]))\n",
    "print(\"test avg auc: \", np.mean(t_eval[:, 2]), \"+/-\" ,np.std(t_eval[:, 2]))"
   ]
  },
  {
   "cell_type": "code",
   "execution_count": 34,
   "metadata": {
    "execution": {
     "iopub.execute_input": "2021-08-08T13:29:39.114169Z",
     "iopub.status.busy": "2021-08-08T13:29:39.113484Z",
     "iopub.status.idle": "2021-08-08T13:29:39.122607Z",
     "shell.execute_reply": "2021-08-08T13:29:39.123175Z",
     "shell.execute_reply.started": "2021-08-06T21:35:33.935484Z"
    },
    "id": "b9MM_CXWz5K6",
    "outputId": "4cf88e1d-3a74-4e7d-f92c-d01522e91757",
    "papermill": {
     "duration": 0.996701,
     "end_time": "2021-08-08T13:29:39.123360",
     "exception": false,
     "start_time": "2021-08-08T13:29:38.126659",
     "status": "completed"
    },
    "tags": []
   },
   "outputs": [
    {
     "name": "stdout",
     "output_type": "stream",
     "text": [
      "train avg loss:  0.3425507187843323 +/- 0.0049509151572781716\n",
      "train avg acc:  0.7955960273742676 +/- 0.001792055857848111\n",
      "train avg auc:  0.8595898985862732 +/- 0.0018445306049017277\n"
     ]
    }
   ],
   "source": [
    "t_eval = np.array(train_eval)\n",
    "print(\"train avg loss: \", np.mean(t_eval[:, 0]), \"+/-\" ,np.std(t_eval[:, 0]))\n",
    "print(\"train avg acc: \", np.mean(t_eval[:, 1]),  \"+/-\" ,np.std(t_eval[:, 1]))\n",
    "print(\"train avg auc: \", np.mean(t_eval[:, 2]), \"+/-\" ,np.std(t_eval[:, 2]))"
   ]
  }
 ],
 "metadata": {
  "kernelspec": {
   "display_name": "Python 3",
   "language": "python",
   "name": "python3"
  },
  "language_info": {
   "codemirror_mode": {
    "name": "ipython",
    "version": 3
   },
   "file_extension": ".py",
   "mimetype": "text/x-python",
   "name": "python",
   "nbconvert_exporter": "python",
   "pygments_lexer": "ipython3",
   "version": "3.8.5"
  },
  "papermill": {
   "default_parameters": {},
   "duration": 1836.054629,
   "end_time": "2021-08-08T13:29:43.393274",
   "environment_variables": {},
   "exception": null,
   "input_path": "__notebook__.ipynb",
   "output_path": "__notebook__.ipynb",
   "parameters": {},
   "start_time": "2021-08-08T12:59:07.338645",
   "version": "2.3.3"
  }
 },
 "nbformat": 4,
 "nbformat_minor": 5
}
