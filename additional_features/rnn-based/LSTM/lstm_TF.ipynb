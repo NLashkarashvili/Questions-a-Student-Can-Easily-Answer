{
 "cells": [
  {
   "cell_type": "code",
   "execution_count": 1,
   "metadata": {
    "execution": {
     "iopub.execute_input": "2021-08-08T18:51:22.489162Z",
     "iopub.status.busy": "2021-08-08T18:51:22.487810Z",
     "iopub.status.idle": "2021-08-08T18:51:29.902366Z",
     "shell.execute_reply": "2021-08-08T18:51:29.903381Z",
     "shell.execute_reply.started": "2021-08-06T20:58:20.355062Z"
    },
    "id": "farifxiKU1aB",
    "papermill": {
     "duration": 7.456663,
     "end_time": "2021-08-08T18:51:29.903751",
     "exception": false,
     "start_time": "2021-08-08T18:51:22.447088",
     "status": "completed"
    },
    "tags": []
   },
   "outputs": [],
   "source": [
    "import numpy as np\n",
    "import pandas as pd\n",
    "import warnings\n",
    "import gc\n",
    "import tensorflow as tf\n",
    "from tensorflow import keras\n",
    "\n",
    "import random\n",
    "from random import choice\n",
    "from tensorflow.keras.optimizers import Adam\n",
    "from tensorflow.keras.models import Sequential \n",
    "from tensorflow.keras.layers import Dense, LSTM, Concatenate, Embedding, Flatten, Activation, Dropout\n",
    "from sklearn.model_selection import KFold\n",
    "from tensorflow.python.client import device_lib\n",
    "warnings.filterwarnings('ignore')\n",
    "import random"
   ]
  },
  {
   "cell_type": "code",
   "execution_count": 2,
   "metadata": {
    "execution": {
     "iopub.execute_input": "2021-08-08T18:51:29.968909Z",
     "iopub.status.busy": "2021-08-08T18:51:29.968142Z",
     "iopub.status.idle": "2021-08-08T18:51:29.971177Z",
     "shell.execute_reply": "2021-08-08T18:51:29.970683Z",
     "shell.execute_reply.started": "2021-08-06T20:58:22.59473Z"
    },
    "id": "QOson70GPOXb",
    "papermill": {
     "duration": 0.037011,
     "end_time": "2021-08-08T18:51:29.971360",
     "exception": false,
     "start_time": "2021-08-08T18:51:29.934349",
     "status": "completed"
    },
    "tags": []
   },
   "outputs": [],
   "source": [
    "import gc"
   ]
  },
  {
   "cell_type": "markdown",
   "metadata": {
    "id": "BQsVybBH3VPw",
    "papermill": {
     "duration": 0.030963,
     "end_time": "2021-08-08T18:51:30.032187",
     "exception": false,
     "start_time": "2021-08-08T18:51:30.001224",
     "status": "completed"
    },
    "tags": []
   },
   "source": [
    "## Data Preprocessing"
   ]
  },
  {
   "cell_type": "code",
   "execution_count": 3,
   "metadata": {
    "execution": {
     "iopub.execute_input": "2021-08-08T18:51:30.098088Z",
     "iopub.status.busy": "2021-08-08T18:51:30.097395Z",
     "iopub.status.idle": "2021-08-08T18:51:37.968529Z",
     "shell.execute_reply": "2021-08-08T18:51:37.967857Z",
     "shell.execute_reply.started": "2021-08-06T20:58:22.601494Z"
    },
    "id": "rwtTusGxrmAE",
    "outputId": "1430f3cf-038b-485e-b5c4-c1686b1f34fd",
    "papermill": {
     "duration": 7.905911,
     "end_time": "2021-08-08T18:51:37.968667",
     "exception": false,
     "start_time": "2021-08-08T18:51:30.062756",
     "status": "completed"
    },
    "tags": []
   },
   "outputs": [
    {
     "data": {
      "text/html": [
       "<div>\n",
       "<style scoped>\n",
       "    .dataframe tbody tr th:only-of-type {\n",
       "        vertical-align: middle;\n",
       "    }\n",
       "\n",
       "    .dataframe tbody tr th {\n",
       "        vertical-align: top;\n",
       "    }\n",
       "\n",
       "    .dataframe thead th {\n",
       "        text-align: right;\n",
       "    }\n",
       "</style>\n",
       "<table border=\"1\" class=\"dataframe\">\n",
       "  <thead>\n",
       "    <tr style=\"text-align: right;\">\n",
       "      <th></th>\n",
       "      <th>Unnamed: 0</th>\n",
       "      <th>chapter_label</th>\n",
       "      <th>sub_chapter_label</th>\n",
       "      <th>question_name</th>\n",
       "      <th>user_id.x</th>\n",
       "      <th>term</th>\n",
       "      <th>STDNT_SEX_CD</th>\n",
       "      <th>NonNativeEnglish</th>\n",
       "      <th>White</th>\n",
       "      <th>Asian</th>\n",
       "      <th>...</th>\n",
       "      <th>classGraded</th>\n",
       "      <th>classHonors</th>\n",
       "      <th>Pass_Fail</th>\n",
       "      <th>parentsGraduateEdu</th>\n",
       "      <th>minorityGroup</th>\n",
       "      <th>q</th>\n",
       "      <th>day's_available_flashcards</th>\n",
       "      <th>start_practice</th>\n",
       "      <th>end_practice</th>\n",
       "      <th>days_offset</th>\n",
       "    </tr>\n",
       "  </thead>\n",
       "  <tbody>\n",
       "    <tr>\n",
       "      <th>0</th>\n",
       "      <td>1</td>\n",
       "      <td>Sort</td>\n",
       "      <td>intro-SortingwithSortandSorted</td>\n",
       "      <td>ee_sort_04</td>\n",
       "      <td>148</td>\n",
       "      <td>WN 2018</td>\n",
       "      <td>1</td>\n",
       "      <td>0</td>\n",
       "      <td>1</td>\n",
       "      <td>0</td>\n",
       "      <td>...</td>\n",
       "      <td>1</td>\n",
       "      <td>0</td>\n",
       "      <td>0</td>\n",
       "      <td>0</td>\n",
       "      <td>0</td>\n",
       "      <td>0</td>\n",
       "      <td>18</td>\n",
       "      <td>2018-03-04 20:00:19</td>\n",
       "      <td>2018-03-04 20:00:35</td>\n",
       "      <td>45</td>\n",
       "    </tr>\n",
       "    <tr>\n",
       "      <th>1</th>\n",
       "      <td>2</td>\n",
       "      <td>Functions</td>\n",
       "      <td>Returningavaluefromafunction</td>\n",
       "      <td>test_questionfunctions_2_3</td>\n",
       "      <td>148</td>\n",
       "      <td>WN 2018</td>\n",
       "      <td>1</td>\n",
       "      <td>0</td>\n",
       "      <td>1</td>\n",
       "      <td>0</td>\n",
       "      <td>...</td>\n",
       "      <td>1</td>\n",
       "      <td>0</td>\n",
       "      <td>0</td>\n",
       "      <td>0</td>\n",
       "      <td>0</td>\n",
       "      <td>4</td>\n",
       "      <td>16</td>\n",
       "      <td>2018-02-10 11:57:55</td>\n",
       "      <td>2018-02-10 11:58:35</td>\n",
       "      <td>23</td>\n",
       "    </tr>\n",
       "    <tr>\n",
       "      <th>2</th>\n",
       "      <td>3</td>\n",
       "      <td>RESTAPIs</td>\n",
       "      <td>functionswithrestapis</td>\n",
       "      <td>test_question_functions_rest_apis_1</td>\n",
       "      <td>148</td>\n",
       "      <td>WN 2018</td>\n",
       "      <td>1</td>\n",
       "      <td>0</td>\n",
       "      <td>1</td>\n",
       "      <td>0</td>\n",
       "      <td>...</td>\n",
       "      <td>1</td>\n",
       "      <td>0</td>\n",
       "      <td>0</td>\n",
       "      <td>0</td>\n",
       "      <td>0</td>\n",
       "      <td>1</td>\n",
       "      <td>2</td>\n",
       "      <td>2018-03-12 17:03:07</td>\n",
       "      <td>2018-03-12 17:04:28</td>\n",
       "      <td>53</td>\n",
       "    </tr>\n",
       "    <tr>\n",
       "      <th>3</th>\n",
       "      <td>4</td>\n",
       "      <td>SimplePythonData</td>\n",
       "      <td>FunctionCalls</td>\n",
       "      <td>exercise_functionCalls_1</td>\n",
       "      <td>148</td>\n",
       "      <td>WN 2018</td>\n",
       "      <td>1</td>\n",
       "      <td>0</td>\n",
       "      <td>1</td>\n",
       "      <td>0</td>\n",
       "      <td>...</td>\n",
       "      <td>1</td>\n",
       "      <td>0</td>\n",
       "      <td>0</td>\n",
       "      <td>0</td>\n",
       "      <td>0</td>\n",
       "      <td>0</td>\n",
       "      <td>10</td>\n",
       "      <td>2018-01-30 14:15:49</td>\n",
       "      <td>2018-01-30 14:15:58</td>\n",
       "      <td>12</td>\n",
       "    </tr>\n",
       "    <tr>\n",
       "      <th>4</th>\n",
       "      <td>5</td>\n",
       "      <td>DictionaryAccumulation</td>\n",
       "      <td>AccumulatingaMaximumValue</td>\n",
       "      <td>ps_04_07</td>\n",
       "      <td>148</td>\n",
       "      <td>WN 2018</td>\n",
       "      <td>1</td>\n",
       "      <td>0</td>\n",
       "      <td>1</td>\n",
       "      <td>0</td>\n",
       "      <td>...</td>\n",
       "      <td>1</td>\n",
       "      <td>0</td>\n",
       "      <td>0</td>\n",
       "      <td>0</td>\n",
       "      <td>0</td>\n",
       "      <td>0</td>\n",
       "      <td>23</td>\n",
       "      <td>2018-03-03 14:04:17</td>\n",
       "      <td>2018-03-03 14:04:25</td>\n",
       "      <td>44</td>\n",
       "    </tr>\n",
       "  </tbody>\n",
       "</table>\n",
       "<p>5 rows × 48 columns</p>\n",
       "</div>"
      ],
      "text/plain": [
       "   Unnamed: 0           chapter_label               sub_chapter_label  \\\n",
       "0           1                    Sort  intro-SortingwithSortandSorted   \n",
       "1           2               Functions    Returningavaluefromafunction   \n",
       "2           3                RESTAPIs           functionswithrestapis   \n",
       "3           4        SimplePythonData                   FunctionCalls   \n",
       "4           5  DictionaryAccumulation       AccumulatingaMaximumValue   \n",
       "\n",
       "                         question_name  user_id.x     term  STDNT_SEX_CD  \\\n",
       "0                           ee_sort_04        148  WN 2018             1   \n",
       "1           test_questionfunctions_2_3        148  WN 2018             1   \n",
       "2  test_question_functions_rest_apis_1        148  WN 2018             1   \n",
       "3             exercise_functionCalls_1        148  WN 2018             1   \n",
       "4                             ps_04_07        148  WN 2018             1   \n",
       "\n",
       "   NonNativeEnglish  White  Asian  ...  classGraded  classHonors  Pass_Fail  \\\n",
       "0                 0      1      0  ...            1            0          0   \n",
       "1                 0      1      0  ...            1            0          0   \n",
       "2                 0      1      0  ...            1            0          0   \n",
       "3                 0      1      0  ...            1            0          0   \n",
       "4                 0      1      0  ...            1            0          0   \n",
       "\n",
       "   parentsGraduateEdu  minorityGroup  q  day's_available_flashcards  \\\n",
       "0                   0              0  0                          18   \n",
       "1                   0              0  4                          16   \n",
       "2                   0              0  1                           2   \n",
       "3                   0              0  0                          10   \n",
       "4                   0              0  0                          23   \n",
       "\n",
       "        start_practice         end_practice  days_offset  \n",
       "0  2018-03-04 20:00:19  2018-03-04 20:00:35           45  \n",
       "1  2018-02-10 11:57:55  2018-02-10 11:58:35           23  \n",
       "2  2018-03-12 17:03:07  2018-03-12 17:04:28           53  \n",
       "3  2018-01-30 14:15:49  2018-01-30 14:15:58           12  \n",
       "4  2018-03-03 14:04:17  2018-03-03 14:04:25           44  \n",
       "\n",
       "[5 rows x 48 columns]"
      ]
     },
     "execution_count": 3,
     "metadata": {},
     "output_type": "execute_result"
    }
   ],
   "source": [
    "# load the data\n",
    "import pandas as pd\n",
    "dataframe = pd.read_csv('../input/practice-log-demographics/Practice_Log_Demographics (1).csv', low_memory=False)\n",
    "dataframe.head()"
   ]
  },
  {
   "cell_type": "code",
   "execution_count": 4,
   "metadata": {
    "execution": {
     "iopub.execute_input": "2021-08-08T18:51:38.102500Z",
     "iopub.status.busy": "2021-08-08T18:51:38.101195Z",
     "iopub.status.idle": "2021-08-08T18:51:40.101262Z",
     "shell.execute_reply": "2021-08-08T18:51:40.100221Z",
     "shell.execute_reply.started": "2021-08-06T20:58:27.574031Z"
    },
    "id": "OCbHnEp_Vir0",
    "papermill": {
     "duration": 2.100781,
     "end_time": "2021-08-08T18:51:40.101419",
     "exception": false,
     "start_time": "2021-08-08T18:51:38.000638",
     "status": "completed"
    },
    "tags": []
   },
   "outputs": [],
   "source": [
    "#sort data based on timestamp\n",
    "dataframe = dataframe.sort_values(by=['start_practice']).reset_index(drop=True)"
   ]
  },
  {
   "cell_type": "code",
   "execution_count": 5,
   "metadata": {
    "execution": {
     "iopub.execute_input": "2021-08-08T18:51:40.169121Z",
     "iopub.status.busy": "2021-08-08T18:51:40.168427Z",
     "iopub.status.idle": "2021-08-08T18:51:40.542990Z",
     "shell.execute_reply": "2021-08-08T18:51:40.543499Z",
     "shell.execute_reply.started": "2021-08-06T20:58:29.303298Z"
    },
    "papermill": {
     "duration": 0.409544,
     "end_time": "2021-08-08T18:51:40.543670",
     "exception": false,
     "start_time": "2021-08-08T18:51:40.134126",
     "status": "completed"
    },
    "tags": []
   },
   "outputs": [
    {
     "data": {
      "text/html": [
       "<div>\n",
       "<style scoped>\n",
       "    .dataframe tbody tr th:only-of-type {\n",
       "        vertical-align: middle;\n",
       "    }\n",
       "\n",
       "    .dataframe tbody tr th {\n",
       "        vertical-align: top;\n",
       "    }\n",
       "\n",
       "    .dataframe thead th {\n",
       "        text-align: right;\n",
       "    }\n",
       "</style>\n",
       "<table border=\"1\" class=\"dataframe\">\n",
       "  <thead>\n",
       "    <tr style=\"text-align: right;\">\n",
       "      <th></th>\n",
       "      <th>Unnamed: 0</th>\n",
       "      <th>chapter_label</th>\n",
       "      <th>sub_chapter_label</th>\n",
       "      <th>question_name</th>\n",
       "      <th>user_id.x</th>\n",
       "      <th>term</th>\n",
       "      <th>STDNT_SEX_CD</th>\n",
       "      <th>NonNativeEnglish</th>\n",
       "      <th>White</th>\n",
       "      <th>Asian</th>\n",
       "      <th>...</th>\n",
       "      <th>classGraded</th>\n",
       "      <th>classHonors</th>\n",
       "      <th>Pass_Fail</th>\n",
       "      <th>parentsGraduateEdu</th>\n",
       "      <th>minorityGroup</th>\n",
       "      <th>q</th>\n",
       "      <th>day's_available_flashcards</th>\n",
       "      <th>start_practice</th>\n",
       "      <th>end_practice</th>\n",
       "      <th>days_offset</th>\n",
       "    </tr>\n",
       "  </thead>\n",
       "  <tbody>\n",
       "    <tr>\n",
       "      <th>0</th>\n",
       "      <td>434434</td>\n",
       "      <td>GeneralIntro</td>\n",
       "      <td>Syntaxerrors</td>\n",
       "      <td>question1_6_1</td>\n",
       "      <td>88</td>\n",
       "      <td>WN 2018</td>\n",
       "      <td>1</td>\n",
       "      <td>0</td>\n",
       "      <td>0</td>\n",
       "      <td>1</td>\n",
       "      <td>...</td>\n",
       "      <td>1</td>\n",
       "      <td>0</td>\n",
       "      <td>0</td>\n",
       "      <td>0</td>\n",
       "      <td>1</td>\n",
       "      <td>0</td>\n",
       "      <td>20</td>\n",
       "      <td>2018-01-18 15:50:08</td>\n",
       "      <td>2018-01-18 15:51:06</td>\n",
       "      <td>0</td>\n",
       "    </tr>\n",
       "    <tr>\n",
       "      <th>1</th>\n",
       "      <td>563728</td>\n",
       "      <td>GeneralIntro</td>\n",
       "      <td>Syntaxerrors</td>\n",
       "      <td>question1_6_1</td>\n",
       "      <td>290</td>\n",
       "      <td>WN 2018</td>\n",
       "      <td>1</td>\n",
       "      <td>0</td>\n",
       "      <td>1</td>\n",
       "      <td>0</td>\n",
       "      <td>...</td>\n",
       "      <td>1</td>\n",
       "      <td>0</td>\n",
       "      <td>0</td>\n",
       "      <td>1</td>\n",
       "      <td>0</td>\n",
       "      <td>0</td>\n",
       "      <td>20</td>\n",
       "      <td>2018-01-18 15:50:10</td>\n",
       "      <td>2018-01-18 15:50:21</td>\n",
       "      <td>0</td>\n",
       "    </tr>\n",
       "    <tr>\n",
       "      <th>2</th>\n",
       "      <td>204163</td>\n",
       "      <td>GeneralIntro</td>\n",
       "      <td>Syntaxerrors</td>\n",
       "      <td>question1_6_1</td>\n",
       "      <td>181</td>\n",
       "      <td>WN 2018</td>\n",
       "      <td>2</td>\n",
       "      <td>0</td>\n",
       "      <td>1</td>\n",
       "      <td>0</td>\n",
       "      <td>...</td>\n",
       "      <td>1</td>\n",
       "      <td>0</td>\n",
       "      <td>0</td>\n",
       "      <td>1</td>\n",
       "      <td>0</td>\n",
       "      <td>0</td>\n",
       "      <td>20</td>\n",
       "      <td>2018-01-18 15:50:12</td>\n",
       "      <td>2018-01-18 15:50:24</td>\n",
       "      <td>0</td>\n",
       "    </tr>\n",
       "    <tr>\n",
       "      <th>3</th>\n",
       "      <td>55154</td>\n",
       "      <td>GeneralIntro</td>\n",
       "      <td>Syntaxerrors</td>\n",
       "      <td>question1_6_1</td>\n",
       "      <td>146</td>\n",
       "      <td>WN 2018</td>\n",
       "      <td>1</td>\n",
       "      <td>1</td>\n",
       "      <td>0</td>\n",
       "      <td>1</td>\n",
       "      <td>...</td>\n",
       "      <td>1</td>\n",
       "      <td>0</td>\n",
       "      <td>0</td>\n",
       "      <td>0</td>\n",
       "      <td>1</td>\n",
       "      <td>0</td>\n",
       "      <td>20</td>\n",
       "      <td>2018-01-18 15:50:13</td>\n",
       "      <td>2018-01-18 15:50:49</td>\n",
       "      <td>0</td>\n",
       "    </tr>\n",
       "    <tr>\n",
       "      <th>4</th>\n",
       "      <td>269459</td>\n",
       "      <td>GeneralIntro</td>\n",
       "      <td>Syntaxerrors</td>\n",
       "      <td>question1_6_1</td>\n",
       "      <td>307</td>\n",
       "      <td>WN 2018</td>\n",
       "      <td>1</td>\n",
       "      <td>1</td>\n",
       "      <td>0</td>\n",
       "      <td>1</td>\n",
       "      <td>...</td>\n",
       "      <td>1</td>\n",
       "      <td>0</td>\n",
       "      <td>0</td>\n",
       "      <td>1</td>\n",
       "      <td>1</td>\n",
       "      <td>0</td>\n",
       "      <td>20</td>\n",
       "      <td>2018-01-18 15:50:14</td>\n",
       "      <td>2018-01-18 15:50:47</td>\n",
       "      <td>0</td>\n",
       "    </tr>\n",
       "    <tr>\n",
       "      <th>...</th>\n",
       "      <td>...</td>\n",
       "      <td>...</td>\n",
       "      <td>...</td>\n",
       "      <td>...</td>\n",
       "      <td>...</td>\n",
       "      <td>...</td>\n",
       "      <td>...</td>\n",
       "      <td>...</td>\n",
       "      <td>...</td>\n",
       "      <td>...</td>\n",
       "      <td>...</td>\n",
       "      <td>...</td>\n",
       "      <td>...</td>\n",
       "      <td>...</td>\n",
       "      <td>...</td>\n",
       "      <td>...</td>\n",
       "      <td>...</td>\n",
       "      <td>...</td>\n",
       "      <td>...</td>\n",
       "      <td>...</td>\n",
       "      <td>...</td>\n",
       "    </tr>\n",
       "    <tr>\n",
       "      <th>610787</th>\n",
       "      <td>257869</td>\n",
       "      <td>InternetAPIs</td>\n",
       "      <td>unicode</td>\n",
       "      <td>24_unicode_2</td>\n",
       "      <td>189</td>\n",
       "      <td>WN 2021</td>\n",
       "      <td>2</td>\n",
       "      <td>1</td>\n",
       "      <td>0</td>\n",
       "      <td>1</td>\n",
       "      <td>...</td>\n",
       "      <td>1</td>\n",
       "      <td>0</td>\n",
       "      <td>0</td>\n",
       "      <td>0</td>\n",
       "      <td>1</td>\n",
       "      <td>3</td>\n",
       "      <td>93</td>\n",
       "      <td>2021-04-28 14:09:32</td>\n",
       "      <td>2021-04-28 14:09:55</td>\n",
       "      <td>240</td>\n",
       "    </tr>\n",
       "    <tr>\n",
       "      <th>610788</th>\n",
       "      <td>175187</td>\n",
       "      <td>InternetAPIs</td>\n",
       "      <td>cachingResponses</td>\n",
       "      <td>restapis_caching_1</td>\n",
       "      <td>217</td>\n",
       "      <td>WN 2021</td>\n",
       "      <td>1</td>\n",
       "      <td>0</td>\n",
       "      <td>1</td>\n",
       "      <td>0</td>\n",
       "      <td>...</td>\n",
       "      <td>1</td>\n",
       "      <td>0</td>\n",
       "      <td>0</td>\n",
       "      <td>0</td>\n",
       "      <td>0</td>\n",
       "      <td>5</td>\n",
       "      <td>94</td>\n",
       "      <td>2021-04-28 16:24:39</td>\n",
       "      <td>2021-04-28 16:25:04</td>\n",
       "      <td>240</td>\n",
       "    </tr>\n",
       "    <tr>\n",
       "      <th>610789</th>\n",
       "      <td>383905</td>\n",
       "      <td>InternetAPIs</td>\n",
       "      <td>unicode</td>\n",
       "      <td>24_unicode_2</td>\n",
       "      <td>276</td>\n",
       "      <td>WN 2021</td>\n",
       "      <td>2</td>\n",
       "      <td>1</td>\n",
       "      <td>1</td>\n",
       "      <td>0</td>\n",
       "      <td>...</td>\n",
       "      <td>1</td>\n",
       "      <td>0</td>\n",
       "      <td>0</td>\n",
       "      <td>1</td>\n",
       "      <td>0</td>\n",
       "      <td>1</td>\n",
       "      <td>95</td>\n",
       "      <td>2021-04-28 17:05:46</td>\n",
       "      <td>2021-04-28 17:06:06</td>\n",
       "      <td>240</td>\n",
       "    </tr>\n",
       "    <tr>\n",
       "      <th>610790</th>\n",
       "      <td>383804</td>\n",
       "      <td>InternetAPIs</td>\n",
       "      <td>flickr</td>\n",
       "      <td>24_flickr_1</td>\n",
       "      <td>276</td>\n",
       "      <td>WN 2021</td>\n",
       "      <td>2</td>\n",
       "      <td>1</td>\n",
       "      <td>1</td>\n",
       "      <td>0</td>\n",
       "      <td>...</td>\n",
       "      <td>1</td>\n",
       "      <td>0</td>\n",
       "      <td>0</td>\n",
       "      <td>1</td>\n",
       "      <td>0</td>\n",
       "      <td>3</td>\n",
       "      <td>94</td>\n",
       "      <td>2021-04-28 17:06:06</td>\n",
       "      <td>2021-04-28 17:06:20</td>\n",
       "      <td>240</td>\n",
       "    </tr>\n",
       "    <tr>\n",
       "      <th>610791</th>\n",
       "      <td>159667</td>\n",
       "      <td>InternetAPIs</td>\n",
       "      <td>cachingResponses</td>\n",
       "      <td>restapis_caching_1</td>\n",
       "      <td>207</td>\n",
       "      <td>WN 2021</td>\n",
       "      <td>2</td>\n",
       "      <td>0</td>\n",
       "      <td>0</td>\n",
       "      <td>0</td>\n",
       "      <td>...</td>\n",
       "      <td>1</td>\n",
       "      <td>0</td>\n",
       "      <td>0</td>\n",
       "      <td>1</td>\n",
       "      <td>1</td>\n",
       "      <td>5</td>\n",
       "      <td>101</td>\n",
       "      <td>2021-04-28 17:07:28</td>\n",
       "      <td>2021-04-28 17:07:58</td>\n",
       "      <td>240</td>\n",
       "    </tr>\n",
       "  </tbody>\n",
       "</table>\n",
       "<p>610792 rows × 48 columns</p>\n",
       "</div>"
      ],
      "text/plain": [
       "        Unnamed: 0 chapter_label sub_chapter_label       question_name  \\\n",
       "0           434434  GeneralIntro      Syntaxerrors       question1_6_1   \n",
       "1           563728  GeneralIntro      Syntaxerrors       question1_6_1   \n",
       "2           204163  GeneralIntro      Syntaxerrors       question1_6_1   \n",
       "3            55154  GeneralIntro      Syntaxerrors       question1_6_1   \n",
       "4           269459  GeneralIntro      Syntaxerrors       question1_6_1   \n",
       "...            ...           ...               ...                 ...   \n",
       "610787      257869  InternetAPIs           unicode        24_unicode_2   \n",
       "610788      175187  InternetAPIs  cachingResponses  restapis_caching_1   \n",
       "610789      383905  InternetAPIs           unicode        24_unicode_2   \n",
       "610790      383804  InternetAPIs            flickr         24_flickr_1   \n",
       "610791      159667  InternetAPIs  cachingResponses  restapis_caching_1   \n",
       "\n",
       "        user_id.x     term  STDNT_SEX_CD  NonNativeEnglish  White  Asian  ...  \\\n",
       "0              88  WN 2018             1                 0      0      1  ...   \n",
       "1             290  WN 2018             1                 0      1      0  ...   \n",
       "2             181  WN 2018             2                 0      1      0  ...   \n",
       "3             146  WN 2018             1                 1      0      1  ...   \n",
       "4             307  WN 2018             1                 1      0      1  ...   \n",
       "...           ...      ...           ...               ...    ...    ...  ...   \n",
       "610787        189  WN 2021             2                 1      0      1  ...   \n",
       "610788        217  WN 2021             1                 0      1      0  ...   \n",
       "610789        276  WN 2021             2                 1      1      0  ...   \n",
       "610790        276  WN 2021             2                 1      1      0  ...   \n",
       "610791        207  WN 2021             2                 0      0      0  ...   \n",
       "\n",
       "        classGraded  classHonors  Pass_Fail  parentsGraduateEdu  \\\n",
       "0                 1            0          0                   0   \n",
       "1                 1            0          0                   1   \n",
       "2                 1            0          0                   1   \n",
       "3                 1            0          0                   0   \n",
       "4                 1            0          0                   1   \n",
       "...             ...          ...        ...                 ...   \n",
       "610787            1            0          0                   0   \n",
       "610788            1            0          0                   0   \n",
       "610789            1            0          0                   1   \n",
       "610790            1            0          0                   1   \n",
       "610791            1            0          0                   1   \n",
       "\n",
       "        minorityGroup  q  day's_available_flashcards       start_practice  \\\n",
       "0                   1  0                          20  2018-01-18 15:50:08   \n",
       "1                   0  0                          20  2018-01-18 15:50:10   \n",
       "2                   0  0                          20  2018-01-18 15:50:12   \n",
       "3                   1  0                          20  2018-01-18 15:50:13   \n",
       "4                   1  0                          20  2018-01-18 15:50:14   \n",
       "...               ... ..                         ...                  ...   \n",
       "610787              1  3                          93  2021-04-28 14:09:32   \n",
       "610788              0  5                          94  2021-04-28 16:24:39   \n",
       "610789              0  1                          95  2021-04-28 17:05:46   \n",
       "610790              0  3                          94  2021-04-28 17:06:06   \n",
       "610791              1  5                         101  2021-04-28 17:07:28   \n",
       "\n",
       "               end_practice  days_offset  \n",
       "0       2018-01-18 15:51:06            0  \n",
       "1       2018-01-18 15:50:21            0  \n",
       "2       2018-01-18 15:50:24            0  \n",
       "3       2018-01-18 15:50:49            0  \n",
       "4       2018-01-18 15:50:47            0  \n",
       "...                     ...          ...  \n",
       "610787  2021-04-28 14:09:55          240  \n",
       "610788  2021-04-28 16:25:04          240  \n",
       "610789  2021-04-28 17:06:06          240  \n",
       "610790  2021-04-28 17:06:20          240  \n",
       "610791  2021-04-28 17:07:58          240  \n",
       "\n",
       "[610792 rows x 48 columns]"
      ]
     },
     "execution_count": 5,
     "metadata": {},
     "output_type": "execute_result"
    }
   ],
   "source": [
    "dataframe"
   ]
  },
  {
   "cell_type": "code",
   "execution_count": 6,
   "metadata": {
    "execution": {
     "iopub.execute_input": "2021-08-08T18:51:40.615922Z",
     "iopub.status.busy": "2021-08-08T18:51:40.615186Z",
     "iopub.status.idle": "2021-08-08T18:51:40.621253Z",
     "shell.execute_reply": "2021-08-08T18:51:40.621801Z",
     "shell.execute_reply.started": "2021-08-06T20:58:29.673521Z"
    },
    "id": "0RvF7BvEr98o",
    "papermill": {
     "duration": 0.042698,
     "end_time": "2021-08-08T18:51:40.621984",
     "exception": false,
     "start_time": "2021-08-08T18:51:40.579286",
     "status": "completed"
    },
    "tags": []
   },
   "outputs": [],
   "source": [
    "FEATURES = ['chapter_label', 'sub_chapter_label','question_name','user_id','term',\n",
    "            'STDNT_SEX_CD', \n",
    "            'NonNativeEnglish',\n",
    "            'White',\n",
    "            'Asian',\n",
    "            'WhiteOrAsian',\n",
    "            'Hispanic',\n",
    "            'AfricanAmerican',\n",
    "            'OtherEthnicities',\n",
    "            'NonWhiteOrAsian',\n",
    "            'STDNT_CTZN_STAT_CD', 'international', \n",
    "            'gradingType',\n",
    "            'birthYear',\n",
    "            'exclClassCumGPA',\n",
    "            'Freshman',\n",
    "            'Junior',\n",
    "            'Sophomore',\n",
    "            'Senior',\n",
    "            'termCreditsGPA',\n",
    "            'termCreditsNoGPA',\n",
    "            'athlete_1',\n",
    "            'honorsPro',\n",
    "            'LSA', 'programBusiness', 'programEngineering', \n",
    "            'programInformation', 'programOther',\n",
    "            'HSCalculusTaken', \n",
    "            'highSchoolGPA', \n",
    "            'majorsCount', 'minorsCount',\n",
    "            'PREV_TERM_CUM_GPA',\n",
    "            'classGraded', 'classHonors', \n",
    "            'Pass_Fail', \n",
    "            'parentsGraduateEdu',  'minorityGroup', \n",
    "            'q',\n",
    "            'available_flashcards', \n",
    "            'start_practice', \n",
    "            'end_practice',\n",
    "            'days_offset']"
   ]
  },
  {
   "cell_type": "code",
   "execution_count": 7,
   "metadata": {
    "execution": {
     "iopub.execute_input": "2021-08-08T18:51:40.692029Z",
     "iopub.status.busy": "2021-08-08T18:51:40.691221Z",
     "iopub.status.idle": "2021-08-08T18:51:41.575326Z",
     "shell.execute_reply": "2021-08-08T18:51:41.575934Z",
     "shell.execute_reply.started": "2021-08-06T20:58:29.682425Z"
    },
    "id": "Mn341X7lSztl",
    "papermill": {
     "duration": 0.922043,
     "end_time": "2021-08-08T18:51:41.576130",
     "exception": false,
     "start_time": "2021-08-08T18:51:40.654087",
     "status": "completed"
    },
    "tags": []
   },
   "outputs": [],
   "source": [
    "dataframe['available_flashcards'] = dataframe[\"day's_available_flashcards\"][:]\n",
    "dataframe = dataframe.drop([\"day's_available_flashcards\"], axis=1)\n",
    "dataframe['user_id'] = dataframe[\"user_id.x\"][:]\n",
    "dataframe = dataframe.drop([\"user_id.x\"], axis=1)"
   ]
  },
  {
   "cell_type": "code",
   "execution_count": 8,
   "metadata": {
    "execution": {
     "iopub.execute_input": "2021-08-08T18:51:41.643403Z",
     "iopub.status.busy": "2021-08-08T18:51:41.642713Z",
     "iopub.status.idle": "2021-08-08T18:51:41.820131Z",
     "shell.execute_reply": "2021-08-08T18:51:41.819454Z",
     "shell.execute_reply.started": "2021-08-06T20:58:30.178707Z"
    },
    "id": "-_BRggOjbBjN",
    "outputId": "42bff7db-08dd-48dc-a73a-d048508053b7",
    "papermill": {
     "duration": 0.211576,
     "end_time": "2021-08-08T18:51:41.820280",
     "exception": false,
     "start_time": "2021-08-08T18:51:41.608704",
     "status": "completed"
    },
    "tags": []
   },
   "outputs": [
    {
     "data": {
      "text/plain": [
       "122"
      ]
     },
     "execution_count": 8,
     "metadata": {},
     "output_type": "execute_result"
    }
   ],
   "source": [
    "gc.collect()"
   ]
  },
  {
   "cell_type": "code",
   "execution_count": 9,
   "metadata": {
    "execution": {
     "iopub.execute_input": "2021-08-08T18:51:41.889658Z",
     "iopub.status.busy": "2021-08-08T18:51:41.888921Z",
     "iopub.status.idle": "2021-08-08T18:51:42.211327Z",
     "shell.execute_reply": "2021-08-08T18:51:42.210744Z",
     "shell.execute_reply.started": "2021-08-06T20:58:30.356124Z"
    },
    "id": "lXM7MlonVeRL",
    "outputId": "d29ccec0-522f-4e3c-e0b2-39b2e1eaef74",
    "papermill": {
     "duration": 0.359081,
     "end_time": "2021-08-08T18:51:42.211507",
     "exception": false,
     "start_time": "2021-08-08T18:51:41.852426",
     "status": "completed"
    },
    "tags": []
   },
   "outputs": [
    {
     "data": {
      "text/plain": [
       "20"
      ]
     },
     "execution_count": 9,
     "metadata": {},
     "output_type": "execute_result"
    }
   ],
   "source": [
    "dataframe = dataframe[FEATURES]\n",
    "gc.collect()"
   ]
  },
  {
   "cell_type": "code",
   "execution_count": 10,
   "metadata": {
    "execution": {
     "iopub.execute_input": "2021-08-08T18:51:42.839854Z",
     "iopub.status.busy": "2021-08-08T18:51:42.838126Z",
     "iopub.status.idle": "2021-08-08T18:51:42.990285Z",
     "shell.execute_reply": "2021-08-08T18:51:42.989682Z",
     "shell.execute_reply.started": "2021-08-06T20:58:30.662917Z"
    },
    "id": "2WAFv5z3A6fK",
    "outputId": "e27abf84-ec3c-4b88-e1fb-927d94b41898",
    "papermill": {
     "duration": 0.7466,
     "end_time": "2021-08-08T18:51:42.990470",
     "exception": false,
     "start_time": "2021-08-08T18:51:42.243870",
     "status": "completed"
    },
    "tags": []
   },
   "outputs": [],
   "source": [
    "dataframe = dataframe.fillna(0)"
   ]
  },
  {
   "cell_type": "code",
   "execution_count": 11,
   "metadata": {
    "execution": {
     "iopub.execute_input": "2021-08-08T18:51:43.074832Z",
     "iopub.status.busy": "2021-08-08T18:51:43.065176Z",
     "iopub.status.idle": "2021-08-08T18:51:44.537913Z",
     "shell.execute_reply": "2021-08-08T18:51:44.537351Z",
     "shell.execute_reply.started": "2021-08-06T20:58:31.328858Z"
    },
    "id": "qRKqF_0IXZgj",
    "papermill": {
     "duration": 1.513741,
     "end_time": "2021-08-08T18:51:44.538066",
     "exception": false,
     "start_time": "2021-08-08T18:51:43.024325",
     "status": "completed"
    },
    "tags": []
   },
   "outputs": [],
   "source": [
    "#label encode term, chapter_label, question_name, sub_chapter_label columns\n",
    "dataframe['term'] = dataframe['term'].astype('category')\n",
    "dataframe['user_id'] = dataframe['user_id'].astype(int)\n",
    "dataframe['user_id'] = dataframe['user_id'].astype(str)\n",
    "dataframe['user_id'] = dataframe['term'].str.cat(dataframe['user_id'], sep=':')\n",
    "dataframe['user_id'] = dataframe['user_id'].astype('category')\n",
    "dataframe['chapter_label'] = dataframe['chapter_label'].astype('category')\n",
    "dataframe['sub_chapter_label'] = dataframe['sub_chapter_label'].astype('category')\n",
    "dataframe['question_name'] = dataframe['question_name'].astype('category')\n"
   ]
  },
  {
   "cell_type": "code",
   "execution_count": 12,
   "metadata": {
    "execution": {
     "iopub.execute_input": "2021-08-08T18:51:44.608845Z",
     "iopub.status.busy": "2021-08-08T18:51:44.608130Z",
     "iopub.status.idle": "2021-08-08T18:51:45.150081Z",
     "shell.execute_reply": "2021-08-08T18:51:45.149505Z",
     "shell.execute_reply.started": "2021-08-06T20:58:32.762556Z"
    },
    "id": "eVl_067GWkDe",
    "papermill": {
     "duration": 0.579813,
     "end_time": "2021-08-08T18:51:45.150219",
     "exception": false,
     "start_time": "2021-08-08T18:51:44.570406",
     "status": "completed"
    },
    "tags": []
   },
   "outputs": [],
   "source": [
    "#calculate time_lag and prev_time_elapsed\n",
    "dataframe['prev_time_elapsed'] = None\n",
    "dataframe['time_lag'] = None\n",
    "dataframe['time_lag'] = dataframe['time_lag'].astype(np.float)\n",
    "dataframe['prev_time_elapsed'] = dataframe['prev_time_elapsed'].astype(np.float)\n",
    "dataframe.start_practice = pd.to_datetime(dataframe.start_practice, format='%Y-%m-%d %H:%M:%S')\n",
    "dataframe.end_practice = pd.to_datetime(dataframe.end_practice, format='%Y-%m-%d %H:%M:%S')"
   ]
  },
  {
   "cell_type": "code",
   "execution_count": 13,
   "metadata": {
    "execution": {
     "iopub.execute_input": "2021-08-08T18:51:45.221229Z",
     "iopub.status.busy": "2021-08-08T18:51:45.219855Z",
     "iopub.status.idle": "2021-08-08T18:51:45.261814Z",
     "shell.execute_reply": "2021-08-08T18:51:45.262303Z",
     "shell.execute_reply.started": "2021-08-06T20:58:33.288808Z"
    },
    "papermill": {
     "duration": 0.080454,
     "end_time": "2021-08-08T18:51:45.262514",
     "exception": false,
     "start_time": "2021-08-08T18:51:45.182060",
     "status": "completed"
    },
    "tags": []
   },
   "outputs": [],
   "source": [
    "dataframe['dif'] = dataframe.end_practice - dataframe.start_practice\n",
    "dataframe['dif'] = dataframe['dif'] /np.timedelta64(1, 's')\n",
    "dataframe['answer_correct'] = np.where((dataframe['q']==5) & (dataframe['dif'] <= 60), 1, 0)"
   ]
  },
  {
   "cell_type": "code",
   "execution_count": 14,
   "metadata": {
    "execution": {
     "iopub.execute_input": "2021-08-08T18:51:45.329968Z",
     "iopub.status.busy": "2021-08-08T18:51:45.329260Z",
     "iopub.status.idle": "2021-08-08T18:58:17.073161Z",
     "shell.execute_reply": "2021-08-08T18:58:17.074025Z",
     "shell.execute_reply.started": "2021-08-06T20:59:18.660743Z"
    },
    "id": "Xrkcn9VhWETm",
    "outputId": "fd73f3de-5f56-42a8-9539-3f3b79a5a6e2",
    "papermill": {
     "duration": 391.779573,
     "end_time": "2021-08-08T18:58:17.074326",
     "exception": false,
     "start_time": "2021-08-08T18:51:45.294753",
     "status": "completed"
    },
    "tags": []
   },
   "outputs": [
    {
     "name": "stderr",
     "output_type": "stream",
     "text": [
      "100%|██████████| 1110/1110 [06:31<00:00,  2.83it/s]\n"
     ]
    }
   ],
   "source": [
    "unique_chapts = dataframe['chapter_label'].unique()\n",
    "from tqdm import tqdm\n",
    "cnt = 0\n",
    "for user in tqdm(dataframe['user_id'].unique()):\n",
    "        for chapter in unique_chapts:\n",
    "            tmp_user = dataframe[(dataframe['user_id']==user) & (dataframe['chapter_label']==chapter)]\n",
    "            #if user doesn't answer any question from the chapter\n",
    "            if len(tmp_user) < 1:\n",
    "                continue\n",
    "            #calculate average elapsed time before the current question\n",
    "            #from its corresponding chapter\n",
    "            tmp_time_elapsed = tmp_user.end_practice - tmp_user.start_practice\n",
    "            tmp_time_elapsed = tmp_time_elapsed / np.timedelta64(1, 's')\n",
    "            tmp_time_elapsed = np.insert(np.array(tmp_time_elapsed[:-1]), 0, 0., axis=0)\n",
    "            tmp_time_elapsed = np.cumsum(tmp_time_elapsed)\n",
    "            indices = tmp_user.index\n",
    "            start_row = indices[0]\n",
    "            dataframe['time_lag'].iloc[start_row] = 0\n",
    "            for_mean = np.arange(len(tmp_user))\n",
    "            for_mean[0] = 1\n",
    "            time_substrahend = tmp_user.start_practice.iloc[:-1]\n",
    "            time_substrahend = time_substrahend.apply(lambda a: a.timestamp())\n",
    "            time_substrahend = np.array(time_substrahend)\n",
    "            \n",
    "            time_minuend = tmp_user.start_practice.iloc[1:]\n",
    "            time_minuend = time_minuend.apply(lambda a: a.timestamp())\n",
    "            time_minuend = np.array(time_minuend)\n",
    "\n",
    "            dataframe['prev_time_elapsed'].iloc[indices] = tmp_time_elapsed/for_mean\n",
    "            #calculate difference between current and last interaction\n",
    "            #from the same chapter\n",
    "            dataframe['time_lag'].iloc[indices[1:]] = time_minuend - time_substrahend\n"
   ]
  },
  {
   "cell_type": "code",
   "execution_count": 15,
   "metadata": {
    "execution": {
     "iopub.execute_input": "2021-08-08T18:58:17.931132Z",
     "iopub.status.busy": "2021-08-08T18:58:17.929633Z",
     "iopub.status.idle": "2021-08-08T18:58:17.979013Z",
     "shell.execute_reply": "2021-08-08T18:58:17.978160Z",
     "shell.execute_reply.started": "2021-08-06T21:05:41.448812Z"
    },
    "id": "8t8yZ0XvWwzz",
    "papermill": {
     "duration": 0.524347,
     "end_time": "2021-08-08T18:58:17.979196",
     "exception": false,
     "start_time": "2021-08-08T18:58:17.454849",
     "status": "completed"
    },
    "tags": []
   },
   "outputs": [],
   "source": [
    "#drop column end_practice\n",
    "dataframe.drop(columns=['end_practice'], inplace=True)"
   ]
  },
  {
   "cell_type": "code",
   "execution_count": 16,
   "metadata": {
    "execution": {
     "iopub.execute_input": "2021-08-08T18:58:18.740427Z",
     "iopub.status.busy": "2021-08-08T18:58:18.739057Z",
     "iopub.status.idle": "2021-08-08T18:58:19.226370Z",
     "shell.execute_reply": "2021-08-08T18:58:19.227021Z",
     "shell.execute_reply.started": "2021-08-06T21:05:41.542314Z"
    },
    "id": "E42raRIrYYXz",
    "papermill": {
     "duration": 0.869764,
     "end_time": "2021-08-08T18:58:19.227277",
     "exception": false,
     "start_time": "2021-08-08T18:58:18.357513",
     "status": "completed"
    },
    "tags": []
   },
   "outputs": [],
   "source": [
    "# calculate the age feature\n",
    "dataframe['term_value'] = [int(ele[3:]) for ele in dataframe['term']]\n",
    "dataframe['age'] = dataframe['term_value'] - dataframe['birthYear']"
   ]
  },
  {
   "cell_type": "code",
   "execution_count": 17,
   "metadata": {
    "execution": {
     "iopub.execute_input": "2021-08-08T18:58:20.009048Z",
     "iopub.status.busy": "2021-08-08T18:58:20.007916Z",
     "iopub.status.idle": "2021-08-08T18:58:20.283310Z",
     "shell.execute_reply": "2021-08-08T18:58:20.283840Z",
     "shell.execute_reply.started": "2021-08-06T21:05:42.015381Z"
    },
    "id": "pcMVQXueYnMh",
    "papermill": {
     "duration": 0.68697,
     "end_time": "2021-08-08T18:58:20.284041",
     "exception": false,
     "start_time": "2021-08-08T18:58:19.597071",
     "status": "completed"
    },
    "tags": []
   },
   "outputs": [],
   "source": [
    "# drop term_value and birthYear column\n",
    "dataframe.drop(columns=['term_value', 'birthYear'], inplace=True)"
   ]
  },
  {
   "cell_type": "code",
   "execution_count": 18,
   "metadata": {
    "execution": {
     "iopub.execute_input": "2021-08-08T18:58:21.098811Z",
     "iopub.status.busy": "2021-08-08T18:58:21.098024Z",
     "iopub.status.idle": "2021-08-08T18:58:21.615847Z",
     "shell.execute_reply": "2021-08-08T18:58:21.616686Z",
     "shell.execute_reply.started": "2021-08-06T21:05:42.228048Z"
    },
    "id": "hjRF5szkcQE0",
    "papermill": {
     "duration": 0.897308,
     "end_time": "2021-08-08T18:58:21.616969",
     "exception": false,
     "start_time": "2021-08-08T18:58:20.719661",
     "status": "completed"
    },
    "tags": []
   },
   "outputs": [],
   "source": [
    "# convert minors_count to int value\n",
    "new_minors_count = []\n",
    "for i in dataframe['minorsCount']:\n",
    "  if i == 0 or i == '0':\n",
    "    new_minors_count.append(0)\n",
    "  elif i == '1 Minor':\n",
    "    new_minors_count.append(1)\n",
    "  else:\n",
    "    new_minors_count.append(2)\n",
    "\n",
    "dataframe['minorsCount'] = new_minors_count"
   ]
  },
  {
   "cell_type": "code",
   "execution_count": 19,
   "metadata": {
    "execution": {
     "iopub.execute_input": "2021-08-08T18:58:22.376757Z",
     "iopub.status.busy": "2021-08-08T18:58:22.375967Z",
     "iopub.status.idle": "2021-08-08T18:58:22.394125Z",
     "shell.execute_reply": "2021-08-08T18:58:22.394787Z",
     "shell.execute_reply.started": "2021-08-06T21:05:42.737147Z"
    },
    "id": "9VdzvJSw0KUU",
    "outputId": "6393784f-234e-4935-9cee-cbcf56b5630a",
    "papermill": {
     "duration": 0.396267,
     "end_time": "2021-08-08T18:58:22.394990",
     "exception": false,
     "start_time": "2021-08-08T18:58:21.998723",
     "status": "completed"
    },
    "tags": []
   },
   "outputs": [
    {
     "name": "stdout",
     "output_type": "stream",
     "text": [
      "we have  1110  users in total.\n"
     ]
    }
   ],
   "source": [
    "print(\"we have \", dataframe['user_id'].nunique(),\" users in total.\")"
   ]
  },
  {
   "cell_type": "code",
   "execution_count": 20,
   "metadata": {
    "execution": {
     "iopub.execute_input": "2021-08-08T18:58:23.167844Z",
     "iopub.status.busy": "2021-08-08T18:58:23.166603Z",
     "iopub.status.idle": "2021-08-08T18:58:23.176566Z",
     "shell.execute_reply": "2021-08-08T18:58:23.177103Z",
     "shell.execute_reply.started": "2021-08-06T21:05:42.755226Z"
    },
    "id": "hUaGk9L9g13t",
    "papermill": {
     "duration": 0.39263,
     "end_time": "2021-08-08T18:58:23.177317",
     "exception": false,
     "start_time": "2021-08-08T18:58:22.784687",
     "status": "completed"
    },
    "tags": []
   },
   "outputs": [],
   "source": [
    "for category in ['term','chapter_label', 'sub_chapter_label', 'question_name']:\n",
    "  dataframe[category] =  dataframe[category].cat.codes"
   ]
  },
  {
   "cell_type": "code",
   "execution_count": 21,
   "metadata": {
    "execution": {
     "iopub.execute_input": "2021-08-08T18:58:23.934139Z",
     "iopub.status.busy": "2021-08-08T18:58:23.933305Z",
     "iopub.status.idle": "2021-08-08T18:58:24.846931Z",
     "shell.execute_reply": "2021-08-08T18:58:24.846213Z",
     "shell.execute_reply.started": "2021-08-06T21:05:42.769234Z"
    },
    "id": "hkyvcYvlhliG",
    "papermill": {
     "duration": 1.299464,
     "end_time": "2021-08-08T18:58:24.847080",
     "exception": false,
     "start_time": "2021-08-08T18:58:23.547616",
     "status": "completed"
    },
    "tags": []
   },
   "outputs": [],
   "source": [
    "NUMERIC_FEATURE =  ['age',\n",
    "            'exclClassCumGPA',\n",
    "            'termCreditsGPA',\n",
    "            'termCreditsNoGPA',\n",
    "            'highSchoolGPA', \n",
    "            'majorsCount', 'minorsCount',\n",
    "            'PREV_TERM_CUM_GPA',\n",
    "            'available_flashcards', \n",
    "            'days_offset', \n",
    "            'prev_time_elapsed',\n",
    "             'time_lag']\n",
    "# z-score normalize the numerical features\n",
    "for f in NUMERIC_FEATURE:\n",
    "  m = dataframe[f].mean()\n",
    "  std = dataframe[f].std()\n",
    "  dataframe[f] = (dataframe[f] - m)/std"
   ]
  },
  {
   "cell_type": "code",
   "execution_count": 22,
   "metadata": {
    "execution": {
     "iopub.execute_input": "2021-08-08T18:58:25.606869Z",
     "iopub.status.busy": "2021-08-08T18:58:25.605032Z",
     "iopub.status.idle": "2021-08-08T18:58:26.878355Z",
     "shell.execute_reply": "2021-08-08T18:58:26.877736Z",
     "shell.execute_reply.started": "2021-08-06T21:05:43.58599Z"
    },
    "id": "wo2OH-d5kWp1",
    "papermill": {
     "duration": 1.652886,
     "end_time": "2021-08-08T18:58:26.878536",
     "exception": false,
     "start_time": "2021-08-08T18:58:25.225650",
     "status": "completed"
    },
    "tags": []
   },
   "outputs": [],
   "source": [
    "FEATURE_TRANS =  ['answer_correct', 'chapter_label', 'sub_chapter_label','question_name','user_id','term',\n",
    "                  'STDNT_SEX_CD', \n",
    "                    'White','Asian','NonWhiteOrAsian',\n",
    "            'STDNT_CTZN_STAT_CD', 'international', \n",
    "            'age',\n",
    "            'exclClassCumGPA',\n",
    "           'Freshman',\n",
    "            'Junior',\n",
    "            'Sophomore',\n",
    "            'Senior',\n",
    "            'termCreditsGPA',\n",
    "            'termCreditsNoGPA',\n",
    "            'athlete_1',\n",
    "            'honorsPro',\n",
    "            'LSA', 'programBusiness', 'programEngineering', \n",
    "            'programInformation', 'programOther',\n",
    "            'HSCalculusTaken', \n",
    "            'highSchoolGPA', \n",
    "            'majorsCount', 'minorsCount',\n",
    "            'PREV_TERM_CUM_GPA',\n",
    "            'classGraded', 'classHonors', \n",
    "            'Pass_Fail', \n",
    "            'parentsGraduateEdu',  'minorityGroup', \n",
    "            'available_flashcards', \n",
    "            'days_offset', 'prev_time_elapsed',\n",
    "             'time_lag']\n",
    "grouped_data = dataframe[FEATURE_TRANS].groupby(['user_id']).apply(lambda r: (\n",
    "                r['answer_correct'],\n",
    "                r['term'],\n",
    "                r['chapter_label'],\n",
    "                r['sub_chapter_label'],\n",
    "                r['question_name'],\n",
    "                np.array([\n",
    "#                   r['STDNT_SEX_CD'],r['STDNT_CTZN_STAT_CD'], r['international'], \n",
    "#                   r['White'],r['Asian'],r['NonWhiteOrAsian'],\n",
    "#                  r['age'],r['exclClassCumGPA'],\n",
    "#                 r['Freshman'], r['Junior'], r['Sophomore'], r['Senior'],\n",
    "#                 r['termCreditsGPA'], r['termCreditsNoGPA'],\n",
    "#                 r['athlete_1'], r['honorsPro'],\n",
    "#                 r['LSA'], r['programBusiness'], r['programEngineering'], \n",
    "#                 r['programInformation'], r['programOther'],\n",
    "#                 r['HSCalculusTaken'],  r['highSchoolGPA'], \n",
    "#                 r['majorsCount'], r['minorsCount'],\n",
    "#                 r['PREV_TERM_CUM_GPA'], \n",
    "#                 r['parentsGraduateEdu'], r['minorityGroup'],\n",
    "#                 r['available_flashcards'],\n",
    "#                 r['days_offset'],\n",
    "                r['prev_time_elapsed'],\n",
    "                r['time_lag']\n",
    "              ]).transpose()\n",
    "                ))"
   ]
  },
  {
   "cell_type": "code",
   "execution_count": 23,
   "metadata": {
    "execution": {
     "iopub.execute_input": "2021-08-08T18:58:27.868998Z",
     "iopub.status.busy": "2021-08-08T18:58:27.868073Z",
     "iopub.status.idle": "2021-08-08T18:58:27.871247Z",
     "shell.execute_reply": "2021-08-08T18:58:27.871739Z",
     "shell.execute_reply.started": "2021-08-06T21:05:47.879421Z"
    },
    "id": "XXLqQnjrlp_4",
    "outputId": "c801da79-f0bf-4fe5-b19c-7c799fe01556",
    "papermill": {
     "duration": 0.614861,
     "end_time": "2021-08-08T18:58:27.871951",
     "exception": false,
     "start_time": "2021-08-08T18:58:27.257090",
     "status": "completed"
    },
    "tags": []
   },
   "outputs": [
    {
     "data": {
      "text/plain": [
       "20"
      ]
     },
     "execution_count": 23,
     "metadata": {},
     "output_type": "execute_result"
    }
   ],
   "source": [
    "gc.collect()"
   ]
  },
  {
   "cell_type": "code",
   "execution_count": 24,
   "metadata": {
    "execution": {
     "iopub.execute_input": "2021-08-08T18:58:28.611689Z",
     "iopub.status.busy": "2021-08-08T18:58:28.610909Z",
     "iopub.status.idle": "2021-08-08T18:58:28.650337Z",
     "shell.execute_reply": "2021-08-08T18:58:28.651028Z",
     "shell.execute_reply.started": "2021-08-06T21:05:48.079782Z"
    },
    "id": "QYGQasdTrmP0",
    "papermill": {
     "duration": 0.414524,
     "end_time": "2021-08-08T18:58:28.651208",
     "exception": false,
     "start_time": "2021-08-08T18:58:28.236684",
     "status": "completed"
    },
    "tags": []
   },
   "outputs": [],
   "source": [
    "# remove students who don't have make any interactions with the tool\n",
    "toRemove = []\n",
    "for index in grouped_data.index:\n",
    "  if len(grouped_data[index][0]) <= 10:\n",
    "    toRemove.append(index)\n",
    "grouped_data = grouped_data.drop(index=toRemove)"
   ]
  },
  {
   "cell_type": "code",
   "execution_count": 25,
   "metadata": {
    "execution": {
     "iopub.execute_input": "2021-08-08T18:58:29.397890Z",
     "iopub.status.busy": "2021-08-08T18:58:29.396699Z",
     "iopub.status.idle": "2021-08-08T18:58:29.415027Z",
     "shell.execute_reply": "2021-08-08T18:58:29.415633Z",
     "shell.execute_reply.started": "2021-08-06T21:05:48.128536Z"
    },
    "papermill": {
     "duration": 0.393845,
     "end_time": "2021-08-08T18:58:29.415825",
     "exception": false,
     "start_time": "2021-08-08T18:58:29.021980",
     "status": "completed"
    },
    "tags": []
   },
   "outputs": [
    {
     "data": {
      "text/plain": [
       "count    1110.000000\n",
       "mean      550.263063\n",
       "std       201.281353\n",
       "min         2.000000\n",
       "25%       438.250000\n",
       "50%       520.500000\n",
       "75%       637.750000\n",
       "max      1500.000000\n",
       "Name: start_practice, dtype: float64"
      ]
     },
     "execution_count": 25,
     "metadata": {},
     "output_type": "execute_result"
    }
   ],
   "source": [
    "dataframe.groupby('user_id')['start_practice'].agg('count').describe()"
   ]
  },
  {
   "cell_type": "code",
   "execution_count": 26,
   "metadata": {
    "execution": {
     "iopub.execute_input": "2021-08-08T18:58:30.172637Z",
     "iopub.status.busy": "2021-08-08T18:58:30.171452Z",
     "iopub.status.idle": "2021-08-08T18:58:30.175388Z",
     "shell.execute_reply": "2021-08-08T18:58:30.175943Z",
     "shell.execute_reply.started": "2021-08-06T21:05:48.148935Z"
    },
    "papermill": {
     "duration": 0.391358,
     "end_time": "2021-08-08T18:58:30.176123",
     "exception": false,
     "start_time": "2021-08-08T18:58:29.784765",
     "status": "completed"
    },
    "tags": []
   },
   "outputs": [
    {
     "data": {
      "text/plain": [
       "['FA 2018:252', 'WN 2018:295']"
      ]
     },
     "execution_count": 26,
     "metadata": {},
     "output_type": "execute_result"
    }
   ],
   "source": [
    "toRemove"
   ]
  },
  {
   "cell_type": "code",
   "execution_count": 27,
   "metadata": {
    "execution": {
     "iopub.execute_input": "2021-08-08T18:58:30.951292Z",
     "iopub.status.busy": "2021-08-08T18:58:30.948670Z",
     "iopub.status.idle": "2021-08-08T18:58:30.954417Z",
     "shell.execute_reply": "2021-08-08T18:58:30.955118Z",
     "shell.execute_reply.started": "2021-08-06T21:05:48.155466Z"
    },
    "id": "9kZqV9siDyNb",
    "papermill": {
     "duration": 0.396391,
     "end_time": "2021-08-08T18:58:30.955308",
     "exception": false,
     "start_time": "2021-08-08T18:58:30.558917",
     "status": "completed"
    },
    "tags": []
   },
   "outputs": [],
   "source": [
    "#SETTINGS -> can be modified at any time\n",
    "MAXLENGTH = 400\n",
    "EMBEDDING_DIM = 128\n",
    "DENSE_NEURON = 16\n",
    "LSTM_NEURON = 32"
   ]
  },
  {
   "cell_type": "code",
   "execution_count": 28,
   "metadata": {
    "execution": {
     "iopub.execute_input": "2021-08-08T18:58:31.725332Z",
     "iopub.status.busy": "2021-08-08T18:58:31.724325Z",
     "iopub.status.idle": "2021-08-08T18:58:31.729034Z",
     "shell.execute_reply": "2021-08-08T18:58:31.729604Z",
     "shell.execute_reply.started": "2021-08-06T21:05:48.168321Z"
    },
    "id": "1MksD1JizpPn",
    "papermill": {
     "duration": 0.385453,
     "end_time": "2021-08-08T18:58:31.729791",
     "exception": false,
     "start_time": "2021-08-08T18:58:31.344338",
     "status": "completed"
    },
    "tags": []
   },
   "outputs": [],
   "source": [
    "FEATURES_SIZE = 2\n",
    "CHAPTER_SIZE = 38\n",
    "SUB_CHAPTER_SIZE = 223\n",
    "QUESTION_SIZE = 1069"
   ]
  },
  {
   "cell_type": "code",
   "execution_count": 29,
   "metadata": {
    "execution": {
     "iopub.execute_input": "2021-08-08T18:58:32.500361Z",
     "iopub.status.busy": "2021-08-08T18:58:32.499329Z",
     "iopub.status.idle": "2021-08-08T18:58:32.512983Z",
     "shell.execute_reply": "2021-08-08T18:58:32.512426Z",
     "shell.execute_reply.started": "2021-08-06T21:05:48.18102Z"
    },
    "papermill": {
     "duration": 0.400648,
     "end_time": "2021-08-08T18:58:32.513140",
     "exception": false,
     "start_time": "2021-08-08T18:58:32.112492",
     "status": "completed"
    },
    "tags": []
   },
   "outputs": [
    {
     "data": {
      "text/plain": [
       "array([ 96,  86,  88,  28,  12,  82, 125,  32,  69,  33,  21, 115, 120,\n",
       "       119,  91,  73,  57,  77, 117,  40,  74,  41,  68,  39,  92,  47,\n",
       "       104,  95,  53,  49,  50,  16,  52,  55,   7,  15,  51, 102, 103,\n",
       "        11,  94, 108, 100,  17,  67,  63,  13, 139,  26,  25,   8, 107,\n",
       "         0,  90,  48,  54, 138,   1,   2,   3,  34,  35,  85,   5,  24,\n",
       "        37,  36,  78,  70,  45, 142,  71,  10,  89, 111, 112, 109, 116,\n",
       "        76,  72, 148, 134, 146, 221, 143,  56,  60,  61,  23, 140, 106,\n",
       "        42,  83,  22, 145, 136, 144,  38,   4,  19, 137,  75,  43,  98,\n",
       "        84, 113, 173, 174, 175, 176, 177, 178, 180, 181, 182, 187, 189,\n",
       "       190, 191, 192, 193, 195, 197, 151, 152, 153, 156, 157, 158, 159,\n",
       "       160, 161, 163, 164, 165, 166, 167, 168, 169, 170, 171, 172, 198,\n",
       "       199, 200, 201, 202, 203, 204, 205, 206, 207, 208, 209, 210, 162,\n",
       "       179, 186, 188, 194, 183, 184, 185, 211, 212, 213, 154, 155, 196,\n",
       "         6, 118,  18, 215,  46, 216, 141,  27, 217, 105, 123, 218, 101,\n",
       "       124, 219, 122, 220,  58,  59,  64,  20,  93,  65,  66,   9,  44,\n",
       "        30,  14,  79, 121,  31, 110, 129,  87,  97,  62, 149, 132, 131,\n",
       "       150, 130, 128,  99, 147, 127, 214, 135,  80, 126, 133,  81, 114,\n",
       "        29], dtype=int16)"
      ]
     },
     "execution_count": 29,
     "metadata": {},
     "output_type": "execute_result"
    }
   ],
   "source": [
    "dataframe['sub_chapter_label'].unique()"
   ]
  },
  {
   "cell_type": "code",
   "execution_count": 30,
   "metadata": {
    "execution": {
     "iopub.execute_input": "2021-08-08T18:58:33.279558Z",
     "iopub.status.busy": "2021-08-08T18:58:33.278247Z",
     "iopub.status.idle": "2021-08-08T18:58:34.528022Z",
     "shell.execute_reply": "2021-08-08T18:58:34.527111Z",
     "shell.execute_reply.started": "2021-08-06T21:05:48.201622Z"
    },
    "id": "mY3Thp6d0NaT",
    "papermill": {
     "duration": 1.641033,
     "end_time": "2021-08-08T18:58:34.528220",
     "exception": false,
     "start_time": "2021-08-08T18:58:32.887187",
     "status": "completed"
    },
    "tags": []
   },
   "outputs": [],
   "source": [
    "#create dataset class\n",
    "#to prepare it for train, valid, and test sets\n",
    "from torch.utils.data import Dataset, DataLoader\n",
    "class SPACE_DATASET(Dataset):\n",
    "    def __init__(self, data, maxlength = 400):\n",
    "        super(SPACE_DATASET, self).__init__()\n",
    "        self.maxlength = maxlength\n",
    "        self.data = data\n",
    "        self.users = list()\n",
    "        for user in data.index:\n",
    "            self.users.append(user)\n",
    "\n",
    "    def __len__(self):\n",
    "        return len(self.users)\n",
    "    \n",
    "    def __getitem__(self, ix):\n",
    "        user = self.users[ix]\n",
    "        user = user\n",
    "        target, term, ch_label, sub_ch_label, ques_name, features = self.data[user]\n",
    "        \n",
    "        #0s should be used as padding values\n",
    "        ori_target = target.values \n",
    "        term = term.values\n",
    "        ch_label = ch_label.values + 1\n",
    "        sub_ch_label = sub_ch_label.values +1\n",
    "        ques_name = ques_name.values + 1\n",
    "        \n",
    "        n = len(ch_label)\n",
    "\n",
    "        # one hot for term\n",
    "        term_encode = [0]*7\n",
    "        term_encode[term[0]] = 1\n",
    "        shifted_target= []\n",
    "\n",
    "        \n",
    "        # get  user interaction informations in the previous MAXLEN interactions\n",
    "        if n > self.maxlength:\n",
    "          ch_label = ch_label[-self.maxlength:]\n",
    "          sub_ch_label = sub_ch_label[-self.maxlength:]\n",
    "          ques_name = ques_name[-self.maxlength:]\n",
    "          features = features[-self.maxlength:]\n",
    "          target = ori_target[-self.maxlength:]\n",
    "          shifted_target = ori_target[ (-self.maxlength - 1) :-1]\n",
    "        else:\n",
    "          ch_label = [0]*(self.maxlength - n)+list(ch_label[:])\n",
    "          sub_ch_label = [0]*(self.maxlength - n)+list(sub_ch_label[:])\n",
    "          ques_name = [0]*(self.maxlength - n)+list(ques_name[:])\n",
    "          features = [[0]*len(features[0])]*(self.maxlength  - n)+list(features[:])\n",
    "          target = [-1]*(self.maxlength - n) + list(ori_target[:])\n",
    "          shifted_target = [2]*(self.maxlength + 1 - n) + list(ori_target[:-1])\n",
    "\n",
    "        new_features = []\n",
    "        count = 0\n",
    "        for f in features:\n",
    "          temp = list(f)\n",
    "#           temp.extend(term_encode)\n",
    "          #temp.append(shifted_target[count]) #uncomment this line for include previous response feature\n",
    "          new_features.append(temp)\n",
    "          count += 1\n",
    "        features = new_features\n",
    "        return ch_label,sub_ch_label,ques_name,features, shifted_target, target"
   ]
  },
  {
   "cell_type": "code",
   "execution_count": 31,
   "metadata": {
    "execution": {
     "iopub.execute_input": "2021-08-08T18:58:35.315504Z",
     "iopub.status.busy": "2021-08-08T18:58:35.314648Z",
     "iopub.status.idle": "2021-08-08T18:58:35.319590Z",
     "shell.execute_reply": "2021-08-08T18:58:35.318953Z",
     "shell.execute_reply.started": "2021-08-06T21:05:49.347481Z"
    },
    "papermill": {
     "duration": 0.394755,
     "end_time": "2021-08-08T18:58:35.319765",
     "exception": false,
     "start_time": "2021-08-08T18:58:34.925010",
     "status": "completed"
    },
    "tags": []
   },
   "outputs": [
    {
     "data": {
      "text/plain": [
       "223"
      ]
     },
     "execution_count": 31,
     "metadata": {},
     "output_type": "execute_result"
    }
   ],
   "source": [
    "SUB_CHAPTER_SIZE"
   ]
  },
  {
   "cell_type": "markdown",
   "metadata": {
    "id": "4xc90-aLzxat",
    "papermill": {
     "duration": 0.385737,
     "end_time": "2021-08-08T18:58:36.080974",
     "exception": false,
     "start_time": "2021-08-08T18:58:35.695237",
     "status": "completed"
    },
    "tags": []
   },
   "source": [
    "## KFOLD - LSTM\n"
   ]
  },
  {
   "cell_type": "code",
   "execution_count": 32,
   "metadata": {
    "execution": {
     "iopub.execute_input": "2021-08-08T18:58:36.863143Z",
     "iopub.status.busy": "2021-08-08T18:58:36.834297Z",
     "iopub.status.idle": "2021-08-08T19:18:11.352200Z",
     "shell.execute_reply": "2021-08-08T19:18:11.352866Z",
     "shell.execute_reply.started": "2021-08-06T21:05:49.358265Z"
    },
    "id": "gzJrljnjzypP",
    "outputId": "87abe488-b493-4f8f-9d71-45cb1d2ddf51",
    "papermill": {
     "duration": 1174.905674,
     "end_time": "2021-08-08T19:18:11.353125",
     "exception": false,
     "start_time": "2021-08-08T18:58:36.447451",
     "status": "completed"
    },
    "tags": []
   },
   "outputs": [
    {
     "name": "stdout",
     "output_type": "stream",
     "text": [
      "Epoch 1/100\n",
      "14/14 [==============================] - 21s 941ms/step - loss: 0.6083 - masked_acc: 0.5345 - masked_auc: 0.5239 - val_loss: 0.4889 - val_masked_acc: 0.6858 - val_masked_auc: 0.6278\n",
      "Epoch 2/100\n",
      "14/14 [==============================] - 11s 778ms/step - loss: 0.4873 - masked_acc: 0.6982 - masked_auc: 0.6629 - val_loss: 0.4419 - val_masked_acc: 0.7191 - val_masked_auc: 0.7139\n",
      "Epoch 3/100\n",
      "14/14 [==============================] - 10s 700ms/step - loss: 0.4601 - masked_acc: 0.7243 - masked_auc: 0.7271 - val_loss: 0.4390 - val_masked_acc: 0.7360 - val_masked_auc: 0.7490\n",
      "Epoch 4/100\n",
      "14/14 [==============================] - 10s 697ms/step - loss: 0.4405 - masked_acc: 0.7391 - masked_auc: 0.7556 - val_loss: 0.4276 - val_masked_acc: 0.7451 - val_masked_auc: 0.7674\n",
      "Epoch 5/100\n",
      "14/14 [==============================] - 10s 737ms/step - loss: 0.4411 - masked_acc: 0.7467 - masked_auc: 0.7714 - val_loss: 0.4367 - val_masked_acc: 0.7509 - val_masked_auc: 0.7791\n",
      "Epoch 6/100\n",
      "14/14 [==============================] - 10s 691ms/step - loss: 0.4411 - masked_acc: 0.7520 - masked_auc: 0.7816 - val_loss: 0.4204 - val_masked_acc: 0.7550 - val_masked_auc: 0.7873\n",
      "Epoch 7/100\n",
      "14/14 [==============================] - 10s 686ms/step - loss: 0.4304 - masked_acc: 0.7559 - masked_auc: 0.7894 - val_loss: 0.4185 - val_masked_acc: 0.7582 - val_masked_auc: 0.7939\n",
      "Epoch 8/100\n",
      "14/14 [==============================] - 10s 727ms/step - loss: 0.4255 - masked_acc: 0.7588 - masked_auc: 0.7955 - val_loss: 0.4154 - val_masked_acc: 0.7607 - val_masked_auc: 0.7991\n",
      "Epoch 9/100\n",
      "14/14 [==============================] - 10s 692ms/step - loss: 0.4235 - masked_acc: 0.7612 - masked_auc: 0.8006 - val_loss: 0.4319 - val_masked_acc: 0.7630 - val_masked_auc: 0.8036\n",
      "Epoch 10/100\n",
      "14/14 [==============================] - 10s 694ms/step - loss: 0.4219 - masked_acc: 0.7636 - masked_auc: 0.8047 - val_loss: 0.4246 - val_masked_acc: 0.7646 - val_masked_auc: 0.8063\n",
      "Epoch 11/100\n",
      "14/14 [==============================] - 10s 701ms/step - loss: 0.4239 - masked_acc: 0.7649 - masked_auc: 0.8071 - val_loss: 0.4269 - val_masked_acc: 0.7660 - val_masked_auc: 0.8090\n",
      "Epoch 12/100\n",
      "14/14 [==============================] - 10s 703ms/step - loss: 0.4221 - masked_acc: 0.7663 - masked_auc: 0.8097 - val_loss: 0.4283 - val_masked_acc: 0.7673 - val_masked_auc: 0.8115\n",
      "Epoch 13/100\n",
      "14/14 [==============================] - 10s 698ms/step - loss: 0.4148 - masked_acc: 0.7676 - masked_auc: 0.8124 - val_loss: 0.4210 - val_masked_acc: 0.7686 - val_masked_auc: 0.8140\n",
      "Epoch 14/100\n",
      "14/14 [==============================] - 10s 687ms/step - loss: 0.4137 - masked_acc: 0.7687 - masked_auc: 0.8147 - val_loss: 0.4172 - val_masked_acc: 0.7695 - val_masked_auc: 0.8163\n",
      "Epoch 15/100\n",
      "14/14 [==============================] - 10s 725ms/step - loss: 0.4074 - masked_acc: 0.7698 - masked_auc: 0.8170 - val_loss: 0.4268 - val_masked_acc: 0.7705 - val_masked_auc: 0.8183\n",
      "Epoch 16/100\n",
      "14/14 [==============================] - 10s 682ms/step - loss: 0.4195 - masked_acc: 0.7707 - masked_auc: 0.8188 - val_loss: 0.4200 - val_masked_acc: 0.7716 - val_masked_auc: 0.8201\n",
      "Epoch 17/100\n",
      "14/14 [==============================] - 10s 686ms/step - loss: 0.4062 - masked_acc: 0.7718 - masked_auc: 0.8207 - val_loss: 0.4168 - val_masked_acc: 0.7726 - val_masked_auc: 0.8220\n",
      "Epoch 18/100\n",
      "14/14 [==============================] - 10s 735ms/step - loss: 0.4016 - masked_acc: 0.7729 - masked_auc: 0.8226 - val_loss: 0.4280 - val_masked_acc: 0.7735 - val_masked_auc: 0.8236\n",
      "28/28 [==============================] - 3s 111ms/step - loss: 0.4045 - masked_acc: 0.7742 - masked_auc: 0.8246\n",
      "4/4 [==============================] - 0s 104ms/step - loss: 0.4085 - masked_acc: 0.7744 - masked_auc: 0.8252\n",
      "Test:  [0.4084949195384979, 0.774413526058197, 0.8251602053642273]\n",
      "Epoch 1/100\n",
      "14/14 [==============================] - 19s 864ms/step - loss: 0.5951 - masked_acc: 0.6895 - masked_auc: 0.5190 - val_loss: 0.5184 - val_masked_acc: 0.7121 - val_masked_auc: 0.6438\n",
      "Epoch 2/100\n",
      "14/14 [==============================] - 10s 716ms/step - loss: 0.4878 - masked_acc: 0.7178 - masked_auc: 0.6725 - val_loss: 0.4728 - val_masked_acc: 0.7305 - val_masked_auc: 0.7210\n",
      "Epoch 3/100\n",
      "14/14 [==============================] - 10s 687ms/step - loss: 0.4495 - masked_acc: 0.7349 - masked_auc: 0.7333 - val_loss: 0.4607 - val_masked_acc: 0.7428 - val_masked_auc: 0.7531\n",
      "Epoch 4/100\n",
      "14/14 [==============================] - 10s 708ms/step - loss: 0.4427 - masked_acc: 0.7450 - masked_auc: 0.7592 - val_loss: 0.4560 - val_masked_acc: 0.7497 - val_masked_auc: 0.7701\n",
      "Epoch 5/100\n",
      "14/14 [==============================] - 10s 731ms/step - loss: 0.4419 - masked_acc: 0.7511 - masked_auc: 0.7741 - val_loss: 0.4578 - val_masked_acc: 0.7543 - val_masked_auc: 0.7813\n",
      "Epoch 6/100\n",
      "14/14 [==============================] - 10s 705ms/step - loss: 0.4263 - masked_acc: 0.7553 - masked_auc: 0.7839 - val_loss: 0.4526 - val_masked_acc: 0.7573 - val_masked_auc: 0.7892\n",
      "Epoch 7/100\n",
      "14/14 [==============================] - 9s 680ms/step - loss: 0.4271 - masked_acc: 0.7581 - masked_auc: 0.7912 - val_loss: 0.4553 - val_masked_acc: 0.7596 - val_masked_auc: 0.7950\n",
      "Epoch 8/100\n",
      "14/14 [==============================] - 10s 738ms/step - loss: 0.4342 - masked_acc: 0.7599 - masked_auc: 0.7961 - val_loss: 0.4451 - val_masked_acc: 0.7617 - val_masked_auc: 0.7996\n",
      "Epoch 9/100\n",
      "14/14 [==============================] - 9s 680ms/step - loss: 0.4189 - masked_acc: 0.7622 - masked_auc: 0.8009 - val_loss: 0.4435 - val_masked_acc: 0.7634 - val_masked_auc: 0.8038\n",
      "Epoch 10/100\n",
      "14/14 [==============================] - 10s 687ms/step - loss: 0.4156 - masked_acc: 0.7639 - masked_auc: 0.8052 - val_loss: 0.4420 - val_masked_acc: 0.7651 - val_masked_auc: 0.8077\n",
      "Epoch 11/100\n",
      "14/14 [==============================] - 10s 700ms/step - loss: 0.4159 - masked_acc: 0.7655 - masked_auc: 0.8088 - val_loss: 0.4391 - val_masked_acc: 0.7666 - val_masked_auc: 0.8110\n",
      "Epoch 12/100\n",
      "14/14 [==============================] - 9s 669ms/step - loss: 0.4136 - masked_acc: 0.7669 - masked_auc: 0.8119 - val_loss: 0.4464 - val_masked_acc: 0.7679 - val_masked_auc: 0.8139\n",
      "Epoch 13/100\n",
      "14/14 [==============================] - 10s 701ms/step - loss: 0.4156 - masked_acc: 0.7682 - masked_auc: 0.8145 - val_loss: 0.4443 - val_masked_acc: 0.7690 - val_masked_auc: 0.8162\n",
      "Epoch 14/100\n",
      "14/14 [==============================] - 10s 708ms/step - loss: 0.4030 - masked_acc: 0.7694 - masked_auc: 0.8170 - val_loss: 0.4421 - val_masked_acc: 0.7701 - val_masked_auc: 0.8185\n",
      "Epoch 15/100\n",
      "14/14 [==============================] - 10s 692ms/step - loss: 0.4044 - masked_acc: 0.7704 - masked_auc: 0.8192 - val_loss: 0.4397 - val_masked_acc: 0.7712 - val_masked_auc: 0.8207\n",
      "Epoch 16/100\n",
      "14/14 [==============================] - 10s 717ms/step - loss: 0.4043 - masked_acc: 0.7715 - masked_auc: 0.8214 - val_loss: 0.4430 - val_masked_acc: 0.7722 - val_masked_auc: 0.8227\n",
      "Epoch 17/100\n",
      "14/14 [==============================] - 10s 717ms/step - loss: 0.4035 - masked_acc: 0.7725 - masked_auc: 0.8233 - val_loss: 0.4460 - val_masked_acc: 0.7732 - val_masked_auc: 0.8244\n",
      "Epoch 18/100\n",
      "14/14 [==============================] - 10s 708ms/step - loss: 0.4040 - masked_acc: 0.7734 - masked_auc: 0.8249 - val_loss: 0.4429 - val_masked_acc: 0.7741 - val_masked_auc: 0.8261\n",
      "Epoch 19/100\n",
      "14/14 [==============================] - 10s 714ms/step - loss: 0.3958 - masked_acc: 0.7743 - masked_auc: 0.8266 - val_loss: 0.4439 - val_masked_acc: 0.7749 - val_masked_auc: 0.8276\n",
      "Epoch 20/100\n",
      "14/14 [==============================] - 10s 744ms/step - loss: 0.3948 - masked_acc: 0.7752 - masked_auc: 0.8281 - val_loss: 0.4441 - val_masked_acc: 0.7758 - val_masked_auc: 0.8291\n",
      "Epoch 21/100\n",
      "14/14 [==============================] - 10s 730ms/step - loss: 0.3915 - masked_acc: 0.7760 - masked_auc: 0.8296 - val_loss: 0.4460 - val_masked_acc: 0.7766 - val_masked_auc: 0.8306\n",
      "28/28 [==============================] - 3s 114ms/step - loss: 0.3863 - masked_acc: 0.7773 - masked_auc: 0.8316\n",
      "4/4 [==============================] - 0s 100ms/step - loss: 0.4109 - masked_acc: 0.7776 - masked_auc: 0.8322\n",
      "Test:  [0.4109271764755249, 0.7775728702545166, 0.8321503400802612]\n",
      "Epoch 1/100\n",
      "14/14 [==============================] - 20s 929ms/step - loss: 0.5937 - masked_acc: 0.6501 - masked_auc: 0.5403 - val_loss: 0.5251 - val_masked_acc: 0.7035 - val_masked_auc: 0.6400\n",
      "Epoch 2/100\n",
      "14/14 [==============================] - 11s 818ms/step - loss: 0.4943 - masked_acc: 0.7061 - masked_auc: 0.6675 - val_loss: 0.4788 - val_masked_acc: 0.7219 - val_masked_auc: 0.7146\n",
      "Epoch 3/100\n",
      "14/14 [==============================] - 10s 688ms/step - loss: 0.4536 - masked_acc: 0.7272 - masked_auc: 0.7282 - val_loss: 0.4617 - val_masked_acc: 0.7380 - val_masked_auc: 0.7503\n",
      "Epoch 4/100\n",
      "14/14 [==============================] - 10s 713ms/step - loss: 0.4414 - masked_acc: 0.7408 - masked_auc: 0.7565 - val_loss: 0.4573 - val_masked_acc: 0.7468 - val_masked_auc: 0.7689\n",
      "Epoch 5/100\n",
      "14/14 [==============================] - 10s 698ms/step - loss: 0.4290 - masked_acc: 0.7487 - masked_auc: 0.7729 - val_loss: 0.4539 - val_masked_acc: 0.7525 - val_masked_auc: 0.7807\n",
      "Epoch 6/100\n",
      "14/14 [==============================] - 10s 717ms/step - loss: 0.4315 - masked_acc: 0.7537 - masked_auc: 0.7836 - val_loss: 0.4572 - val_masked_acc: 0.7566 - val_masked_auc: 0.7892\n",
      "Epoch 7/100\n",
      "14/14 [==============================] - 10s 736ms/step - loss: 0.4304 - masked_acc: 0.7574 - masked_auc: 0.7911 - val_loss: 0.4525 - val_masked_acc: 0.7594 - val_masked_auc: 0.7951\n",
      "Epoch 8/100\n",
      "14/14 [==============================] - 10s 687ms/step - loss: 0.4216 - masked_acc: 0.7601 - masked_auc: 0.7968 - val_loss: 0.4500 - val_masked_acc: 0.7618 - val_masked_auc: 0.8000\n",
      "Epoch 9/100\n",
      "14/14 [==============================] - 10s 718ms/step - loss: 0.4213 - masked_acc: 0.7623 - masked_auc: 0.8013 - val_loss: 0.4508 - val_masked_acc: 0.7639 - val_masked_auc: 0.8045\n",
      "Epoch 10/100\n",
      "14/14 [==============================] - 10s 720ms/step - loss: 0.4186 - masked_acc: 0.7644 - masked_auc: 0.8057 - val_loss: 0.4477 - val_masked_acc: 0.7657 - val_masked_auc: 0.8081\n",
      "Epoch 11/100\n",
      "14/14 [==============================] - 10s 691ms/step - loss: 0.4098 - masked_acc: 0.7663 - masked_auc: 0.8091 - val_loss: 0.4494 - val_masked_acc: 0.7674 - val_masked_auc: 0.8113\n",
      "Epoch 12/100\n",
      "14/14 [==============================] - 10s 682ms/step - loss: 0.4075 - masked_acc: 0.7678 - masked_auc: 0.8123 - val_loss: 0.4512 - val_masked_acc: 0.7688 - val_masked_auc: 0.8142\n",
      "Epoch 13/100\n",
      "14/14 [==============================] - 10s 736ms/step - loss: 0.4061 - masked_acc: 0.7692 - masked_auc: 0.8151 - val_loss: 0.4526 - val_masked_acc: 0.7700 - val_masked_auc: 0.8167\n",
      "Epoch 14/100\n",
      "14/14 [==============================] - 10s 695ms/step - loss: 0.4045 - masked_acc: 0.7703 - masked_auc: 0.8175 - val_loss: 0.4481 - val_masked_acc: 0.7713 - val_masked_auc: 0.8192\n",
      "Epoch 15/100\n",
      "14/14 [==============================] - 10s 698ms/step - loss: 0.4046 - masked_acc: 0.7715 - masked_auc: 0.8198 - val_loss: 0.4516 - val_masked_acc: 0.7724 - val_masked_auc: 0.8213\n",
      "Epoch 16/100\n",
      "14/14 [==============================] - 10s 709ms/step - loss: 0.4032 - masked_acc: 0.7727 - masked_auc: 0.8220 - val_loss: 0.4484 - val_masked_acc: 0.7733 - val_masked_auc: 0.8230\n",
      "Epoch 17/100\n",
      "14/14 [==============================] - 10s 715ms/step - loss: 0.4027 - masked_acc: 0.7735 - masked_auc: 0.8235 - val_loss: 0.4488 - val_masked_acc: 0.7741 - val_masked_auc: 0.8245\n",
      "Epoch 18/100\n",
      "14/14 [==============================] - 10s 715ms/step - loss: 0.3988 - masked_acc: 0.7743 - masked_auc: 0.8249 - val_loss: 0.4489 - val_masked_acc: 0.7750 - val_masked_auc: 0.8260\n",
      "Epoch 19/100\n",
      "14/14 [==============================] - 10s 728ms/step - loss: 0.3981 - masked_acc: 0.7752 - masked_auc: 0.8265 - val_loss: 0.4511 - val_masked_acc: 0.7759 - val_masked_auc: 0.8276\n",
      "Epoch 20/100\n",
      "14/14 [==============================] - 11s 771ms/step - loss: 0.3888 - masked_acc: 0.7762 - masked_auc: 0.8281 - val_loss: 0.4544 - val_masked_acc: 0.7768 - val_masked_auc: 0.8292\n",
      "28/28 [==============================] - 3s 122ms/step - loss: 0.3840 - masked_acc: 0.7775 - masked_auc: 0.8303\n",
      "4/4 [==============================] - 0s 110ms/step - loss: 0.4307 - masked_acc: 0.7778 - masked_auc: 0.8309\n",
      "Test:  [0.4307168424129486, 0.7777701616287231, 0.8309077024459839]\n",
      "Epoch 1/100\n",
      "14/14 [==============================] - 21s 956ms/step - loss: 0.5997 - masked_acc: 0.5442 - masked_auc: 0.5212 - val_loss: 0.5066 - val_masked_acc: 0.6918 - val_masked_auc: 0.6329\n",
      "Epoch 2/100\n",
      "14/14 [==============================] - 10s 730ms/step - loss: 0.4942 - masked_acc: 0.7019 - masked_auc: 0.6627 - val_loss: 0.4562 - val_masked_acc: 0.7227 - val_masked_auc: 0.7141\n",
      "Epoch 3/100\n",
      "14/14 [==============================] - 10s 736ms/step - loss: 0.4562 - masked_acc: 0.7279 - masked_auc: 0.7272 - val_loss: 0.4407 - val_masked_acc: 0.7383 - val_masked_auc: 0.7499\n",
      "Epoch 4/100\n",
      "14/14 [==============================] - 11s 807ms/step - loss: 0.4471 - masked_acc: 0.7407 - masked_auc: 0.7561 - val_loss: 0.4376 - val_masked_acc: 0.7470 - val_masked_auc: 0.7685\n",
      "Epoch 5/100\n",
      "14/14 [==============================] - 11s 773ms/step - loss: 0.4386 - masked_acc: 0.7487 - masked_auc: 0.7723 - val_loss: 0.4320 - val_masked_acc: 0.7525 - val_masked_auc: 0.7801\n",
      "Epoch 6/100\n",
      "14/14 [==============================] - 11s 804ms/step - loss: 0.4244 - masked_acc: 0.7537 - masked_auc: 0.7828 - val_loss: 0.4302 - val_masked_acc: 0.7565 - val_masked_auc: 0.7884\n",
      "Epoch 7/100\n",
      "14/14 [==============================] - 11s 792ms/step - loss: 0.4309 - masked_acc: 0.7571 - masked_auc: 0.7903 - val_loss: 0.4320 - val_masked_acc: 0.7595 - val_masked_auc: 0.7949\n",
      "Epoch 8/100\n",
      "14/14 [==============================] - 10s 751ms/step - loss: 0.4187 - masked_acc: 0.7602 - masked_auc: 0.7968 - val_loss: 0.4264 - val_masked_acc: 0.7620 - val_masked_auc: 0.8003\n",
      "Epoch 9/100\n",
      "14/14 [==============================] - 10s 747ms/step - loss: 0.4150 - masked_acc: 0.7625 - masked_auc: 0.8017 - val_loss: 0.4290 - val_masked_acc: 0.7639 - val_masked_auc: 0.8044\n",
      "Epoch 10/100\n",
      "14/14 [==============================] - 11s 799ms/step - loss: 0.4202 - masked_acc: 0.7643 - masked_auc: 0.8056 - val_loss: 0.4276 - val_masked_acc: 0.7657 - val_masked_auc: 0.8082\n",
      "Epoch 11/100\n",
      "14/14 [==============================] - 10s 747ms/step - loss: 0.4057 - masked_acc: 0.7662 - masked_auc: 0.8094 - val_loss: 0.4373 - val_masked_acc: 0.7674 - val_masked_auc: 0.8117\n",
      "Epoch 12/100\n",
      "14/14 [==============================] - 10s 729ms/step - loss: 0.4149 - masked_acc: 0.7678 - masked_auc: 0.8126 - val_loss: 0.4299 - val_masked_acc: 0.7688 - val_masked_auc: 0.8145\n",
      "Epoch 13/100\n",
      "14/14 [==============================] - 10s 753ms/step - loss: 0.4061 - masked_acc: 0.7691 - masked_auc: 0.8153 - val_loss: 0.4282 - val_masked_acc: 0.7702 - val_masked_auc: 0.8173\n",
      "Epoch 14/100\n",
      "14/14 [==============================] - 10s 723ms/step - loss: 0.3958 - masked_acc: 0.7706 - masked_auc: 0.8181 - val_loss: 0.4252 - val_masked_acc: 0.7715 - val_masked_auc: 0.8198\n",
      "Epoch 15/100\n",
      "14/14 [==============================] - 10s 707ms/step - loss: 0.3975 - masked_acc: 0.7718 - masked_auc: 0.8205 - val_loss: 0.4314 - val_masked_acc: 0.7727 - val_masked_auc: 0.8222\n",
      "Epoch 16/100\n",
      "14/14 [==============================] - 10s 739ms/step - loss: 0.3958 - masked_acc: 0.7730 - masked_auc: 0.8228 - val_loss: 0.4291 - val_masked_acc: 0.7736 - val_masked_auc: 0.8238\n",
      "Epoch 17/100\n",
      "14/14 [==============================] - 10s 737ms/step - loss: 0.4035 - masked_acc: 0.7739 - masked_auc: 0.8243 - val_loss: 0.4362 - val_masked_acc: 0.7746 - val_masked_auc: 0.8255\n",
      "Epoch 18/100\n",
      "14/14 [==============================] - 10s 695ms/step - loss: 0.4004 - masked_acc: 0.7748 - masked_auc: 0.8260 - val_loss: 0.4223 - val_masked_acc: 0.7756 - val_masked_auc: 0.8273\n",
      "Epoch 19/100\n",
      "14/14 [==============================] - 10s 717ms/step - loss: 0.3883 - masked_acc: 0.7759 - masked_auc: 0.8279 - val_loss: 0.4273 - val_masked_acc: 0.7766 - val_masked_auc: 0.8291\n",
      "Epoch 20/100\n",
      "14/14 [==============================] - 10s 733ms/step - loss: 0.3895 - masked_acc: 0.7768 - masked_auc: 0.8296 - val_loss: 0.4352 - val_masked_acc: 0.7775 - val_masked_auc: 0.8307\n",
      "Epoch 21/100\n",
      "14/14 [==============================] - 10s 709ms/step - loss: 0.3856 - masked_acc: 0.7777 - masked_auc: 0.8312 - val_loss: 0.4426 - val_masked_acc: 0.7784 - val_masked_auc: 0.8323\n",
      "Epoch 22/100\n",
      "14/14 [==============================] - 10s 721ms/step - loss: 0.3802 - masked_acc: 0.7786 - masked_auc: 0.8328 - val_loss: 0.4351 - val_masked_acc: 0.7793 - val_masked_auc: 0.8339\n",
      "Epoch 23/100\n",
      "14/14 [==============================] - 10s 689ms/step - loss: 0.3772 - masked_acc: 0.7795 - masked_auc: 0.8343 - val_loss: 0.4462 - val_masked_acc: 0.7801 - val_masked_auc: 0.8353\n",
      "Epoch 24/100\n",
      "14/14 [==============================] - 10s 718ms/step - loss: 0.3854 - masked_acc: 0.7803 - masked_auc: 0.8357 - val_loss: 0.4371 - val_masked_acc: 0.7810 - val_masked_auc: 0.8368\n",
      "Epoch 25/100\n",
      "14/14 [==============================] - 10s 688ms/step - loss: 0.3805 - masked_acc: 0.7812 - masked_auc: 0.8372 - val_loss: 0.4436 - val_masked_acc: 0.7819 - val_masked_auc: 0.8382\n",
      "Epoch 26/100\n",
      "14/14 [==============================] - 10s 703ms/step - loss: 0.3728 - masked_acc: 0.7821 - masked_auc: 0.8386 - val_loss: 0.4420 - val_masked_acc: 0.7827 - val_masked_auc: 0.8396\n",
      "Epoch 27/100\n",
      "14/14 [==============================] - 10s 693ms/step - loss: 0.3633 - masked_acc: 0.7830 - masked_auc: 0.8401 - val_loss: 0.4446 - val_masked_acc: 0.7836 - val_masked_auc: 0.8410\n",
      "Epoch 28/100\n",
      "14/14 [==============================] - 10s 721ms/step - loss: 0.3627 - masked_acc: 0.7838 - masked_auc: 0.8415 - val_loss: 0.4406 - val_masked_acc: 0.7844 - val_masked_auc: 0.8424\n",
      "28/28 [==============================] - 4s 126ms/step - loss: 0.3590 - masked_acc: 0.7850 - masked_auc: 0.8432\n",
      "4/4 [==============================] - 1s 182ms/step - loss: 0.4295 - masked_acc: 0.7853 - masked_auc: 0.8438\n",
      "Test:  [0.42951780557632446, 0.7852867841720581, 0.843777060508728]\n",
      "Epoch 1/100\n",
      "14/14 [==============================] - 23s 992ms/step - loss: 0.5841 - masked_acc: 0.7016 - masked_auc: 0.5146 - val_loss: 0.5181 - val_masked_acc: 0.7113 - val_masked_auc: 0.6562\n",
      "Epoch 2/100\n",
      "14/14 [==============================] - 11s 754ms/step - loss: 0.4838 - masked_acc: 0.7115 - masked_auc: 0.6824 - val_loss: 0.4820 - val_masked_acc: 0.7222 - val_masked_auc: 0.7253\n",
      "Epoch 3/100\n",
      "14/14 [==============================] - 10s 703ms/step - loss: 0.4471 - masked_acc: 0.7275 - masked_auc: 0.7377 - val_loss: 0.4622 - val_masked_acc: 0.7374 - val_masked_auc: 0.7569\n",
      "Epoch 4/100\n",
      "14/14 [==============================] - 10s 737ms/step - loss: 0.4307 - masked_acc: 0.7405 - masked_auc: 0.7635 - val_loss: 0.4550 - val_masked_acc: 0.7464 - val_masked_auc: 0.7744\n",
      "Epoch 5/100\n",
      "14/14 [==============================] - 11s 760ms/step - loss: 0.4304 - masked_acc: 0.7480 - masked_auc: 0.7782 - val_loss: 0.4529 - val_masked_acc: 0.7522 - val_masked_auc: 0.7858\n",
      "Epoch 6/100\n",
      "14/14 [==============================] - 10s 751ms/step - loss: 0.4280 - masked_acc: 0.7531 - masked_auc: 0.7883 - val_loss: 0.4509 - val_masked_acc: 0.7563 - val_masked_auc: 0.7939\n",
      "Epoch 7/100\n",
      "14/14 [==============================] - 10s 742ms/step - loss: 0.4242 - masked_acc: 0.7573 - masked_auc: 0.7955 - val_loss: 0.4517 - val_masked_acc: 0.7593 - val_masked_auc: 0.7987\n",
      "Epoch 8/100\n",
      "14/14 [==============================] - 10s 740ms/step - loss: 0.4301 - masked_acc: 0.7597 - masked_auc: 0.8000 - val_loss: 0.4443 - val_masked_acc: 0.7618 - val_masked_auc: 0.8036\n",
      "Epoch 9/100\n",
      "14/14 [==============================] - 10s 721ms/step - loss: 0.4086 - masked_acc: 0.7624 - masked_auc: 0.8052 - val_loss: 0.4462 - val_masked_acc: 0.7640 - val_masked_auc: 0.8079\n",
      "Epoch 10/100\n",
      "14/14 [==============================] - 10s 717ms/step - loss: 0.4037 - masked_acc: 0.7646 - masked_auc: 0.8092 - val_loss: 0.4426 - val_masked_acc: 0.7658 - val_masked_auc: 0.8114\n",
      "Epoch 11/100\n",
      "14/14 [==============================] - 11s 742ms/step - loss: 0.4076 - masked_acc: 0.7663 - masked_auc: 0.8125 - val_loss: 0.4445 - val_masked_acc: 0.7675 - val_masked_auc: 0.8146\n",
      "Epoch 12/100\n",
      "14/14 [==============================] - 10s 716ms/step - loss: 0.4146 - masked_acc: 0.7678 - masked_auc: 0.8153 - val_loss: 0.4531 - val_masked_acc: 0.7690 - val_masked_auc: 0.8173\n",
      "Epoch 13/100\n",
      "14/14 [==============================] - 10s 700ms/step - loss: 0.4050 - masked_acc: 0.7694 - masked_auc: 0.8180 - val_loss: 0.4482 - val_masked_acc: 0.7703 - val_masked_auc: 0.8196\n",
      "Epoch 14/100\n",
      "14/14 [==============================] - 10s 732ms/step - loss: 0.4037 - masked_acc: 0.7706 - masked_auc: 0.8203 - val_loss: 0.4495 - val_masked_acc: 0.7715 - val_masked_auc: 0.8218\n",
      "Epoch 15/100\n",
      "14/14 [==============================] - 10s 729ms/step - loss: 0.4186 - masked_acc: 0.7716 - masked_auc: 0.8221 - val_loss: 0.4572 - val_masked_acc: 0.7721 - val_masked_auc: 0.8226\n",
      "Epoch 16/100\n",
      "14/14 [==============================] - 10s 735ms/step - loss: 0.4174 - masked_acc: 0.7722 - masked_auc: 0.8227 - val_loss: 0.4479 - val_masked_acc: 0.7728 - val_masked_auc: 0.8235\n",
      "Epoch 17/100\n",
      "14/14 [==============================] - 10s 721ms/step - loss: 0.4085 - masked_acc: 0.7730 - masked_auc: 0.8239 - val_loss: 0.4450 - val_masked_acc: 0.7736 - val_masked_auc: 0.8248\n",
      "Epoch 18/100\n",
      "14/14 [==============================] - 10s 736ms/step - loss: 0.4009 - masked_acc: 0.7738 - masked_auc: 0.8253 - val_loss: 0.4428 - val_masked_acc: 0.7744 - val_masked_auc: 0.8262\n",
      "Epoch 19/100\n",
      "14/14 [==============================] - 11s 750ms/step - loss: 0.3933 - masked_acc: 0.7747 - masked_auc: 0.8267 - val_loss: 0.4446 - val_masked_acc: 0.7753 - val_masked_auc: 0.8276\n",
      "Epoch 20/100\n",
      "14/14 [==============================] - 11s 776ms/step - loss: 0.3940 - masked_acc: 0.7755 - masked_auc: 0.8280 - val_loss: 0.4467 - val_masked_acc: 0.7761 - val_masked_auc: 0.8290\n",
      "28/28 [==============================] - 4s 140ms/step - loss: 0.3879 - masked_acc: 0.7768 - masked_auc: 0.8300\n",
      "4/4 [==============================] - 0s 112ms/step - loss: 0.4450 - masked_acc: 0.7770 - masked_auc: 0.8306\n",
      "Test:  [0.4449581801891327, 0.7770318984985352, 0.830557107925415]\n"
     ]
    }
   ],
   "source": [
    "# 5 fold cross validation with LSTM-based model\n",
    "import torch\n",
    "X = np.array(grouped_data.keys())\n",
    "kfold = KFold(n_splits=5, shuffle=True)\n",
    "train_losses = list()\n",
    "train_aucs = list()\n",
    "val_losses = list()\n",
    "val_aucs = list()\n",
    "train_eval = list()\n",
    "test_eval = list()\n",
    "for train, test in kfold.split(X):\n",
    "    users_train, users_test =  X[train], X[test]\n",
    "    n = len(users_test)//2\n",
    "    users_test, users_val = users_test[:n], users_test[n: ]\n",
    "    train_data_space = SPACE_DATASET(grouped_data[users_train], MAXLENGTH)\n",
    "    val_data_space = SPACE_DATASET(grouped_data[users_val], MAXLENGTH)\n",
    "    test_data_space = SPACE_DATASET(grouped_data[users_test], MAXLENGTH)\n",
    "    #construct training input\n",
    "    train_chapter=[]\n",
    "    train_sub_chapter=[]\n",
    "    train_question = []\n",
    "    train_features=[]\n",
    "    #train_shifted_t = []\n",
    "    train_labels=[]\n",
    "    for i in range(len(users_train)):\n",
    "        user = train_data_space.__getitem__(i)\n",
    "        train_chapter.append(user[0])\n",
    "        train_sub_chapter.append(user[1]) \n",
    "        train_question.append(user[2])\n",
    "        train_features.append(user[3])\n",
    "        #train_shifted_t.append(user[4])\n",
    "        train_labels.append(user[5])\n",
    "    train_chapter = np.array(train_chapter)\n",
    "    train_sub_chapter = np.array(train_sub_chapter)\n",
    "    train_question = np.array(train_question)\n",
    "    train_features = np.array(train_features)\n",
    "    #train_shifted_t = np.array(train_shifted_t)\n",
    "    train_labels= np.array(train_labels)[..., np.newaxis]\n",
    "\n",
    "    #construct validation input\n",
    "    val_chapter=[]\n",
    "    val_sub_chapter=[]\n",
    "    val_question = []\n",
    "    val_features=[]\n",
    "    #val_shifted_t = []\n",
    "    val_labels=[]\n",
    "    for i in range(len(users_val)):\n",
    "        user = val_data_space.__getitem__(i)\n",
    "        val_chapter.append(user[0])\n",
    "        val_sub_chapter.append(user[1]) \n",
    "        val_question.append(user[2])\n",
    "        val_features.append(user[3])\n",
    "        #val_shifted_t.append(user[4])\n",
    "        val_labels.append(user[5])\n",
    "    val_chapter = np.array(val_chapter)\n",
    "    val_sub_chapter = np.array(val_sub_chapter)\n",
    "    val_features = np.array(val_features)\n",
    "    val_question = np.array(val_question)\n",
    "    #val_shifted_t = np.array(val_shifted_t)\n",
    "    val_labels= np.array(val_labels)[..., np.newaxis]\n",
    "\n",
    "    # construct test input\n",
    "    test_chapter=[]\n",
    "    test_sub_chapter=[]\n",
    "    test_features=[]\n",
    "    test_question=[]\n",
    "    #test_shifted_t = []\n",
    "    test_labels=[]\n",
    "    for i in range(len(users_test)):\n",
    "        user = test_data_space.__getitem__(i)\n",
    "        test_chapter.append(user[0])\n",
    "        test_sub_chapter.append(user[1]) \n",
    "        test_question.append(user[2])\n",
    "        test_features.append(user[3])\n",
    "        #test_shifted_t.append(user[4])\n",
    "        test_labels.append(user[5])\n",
    "    test_chapter = np.array(test_chapter)\n",
    "    test_sub_chapter = np.array(test_sub_chapter)\n",
    "    test_features = np.array(test_features)\n",
    "    test_question = np.array(test_question)\n",
    "    #test_shifted_t = np.array(test_shifted_t)\n",
    "    test_labels= np.array(test_labels)[..., np.newaxis]\n",
    "\n",
    "    # define loss function and evaluation metrics\n",
    "    bce = tf.keras.losses.BinaryCrossentropy(from_logits=True)\n",
    "    acc = tf.keras.metrics.Accuracy()\n",
    "    auc = tf.keras.metrics.AUC()\n",
    "\n",
    "    def masked_bce(y_true, y_pred):\n",
    "      flat_pred = y_pred\n",
    "      flat_ground_truth = y_true\n",
    "      label_mask = tf.math.not_equal(flat_ground_truth, -1)\n",
    "      return bce(flat_ground_truth, flat_pred, sample_weight=label_mask)\n",
    "\n",
    "    def masked_acc(y_true, y_pred):\n",
    "      flat_pred = y_pred\n",
    "      flat_ground_truth = y_true\n",
    "      flat_pred = (flat_pred >= 0.5)\n",
    "      label_mask = tf.math.not_equal(flat_ground_truth, -1)\n",
    "      return acc(flat_ground_truth, flat_pred, sample_weight=label_mask)\n",
    "\n",
    "    def masked_auc(y_true, y_pred):\n",
    "      flat_pred = y_pred\n",
    "      flat_ground_truth = y_true\n",
    "      label_mask = tf.math.not_equal(flat_ground_truth, -1)\n",
    "      return auc(flat_ground_truth, flat_pred, sample_weight=label_mask)\n",
    "\n",
    "    # input layer\n",
    "    input_chap = tf.keras.Input(shape=(MAXLENGTH))\n",
    "    input_sub_chap = tf.keras.Input(shape=(MAXLENGTH))\n",
    "    input_ques =  tf.keras.Input(shape=(MAXLENGTH))\n",
    "    #input_shifted = tf.keras.Input(shape=(MAXLENGTH))\n",
    "    input_features = tf.keras.Input(shape=(MAXLENGTH, FEATURES_SIZE))\n",
    "\n",
    "    # embedding layer for categorical features\n",
    "    embedding_chap = Embedding(input_dim = CHAPTER_SIZE, output_dim = EMBEDDING_DIM)(input_chap)\n",
    "    embedding_sub_chap = Embedding(input_dim = SUB_CHAPTER_SIZE, output_dim = EMBEDDING_DIM)(input_sub_chap) \n",
    "    embedding_ques = Embedding(input_dim = QUESTION_SIZE, output_dim = EMBEDDING_DIM)(input_ques)       \n",
    "    #embedding_shifted = Embedding(input_dim = 3, output_dim = EMBEDDING_DIM)(input_shifted)\n",
    "    # dense layer for numeric features\n",
    "    dense_features = Dense(EMBEDDING_DIM,input_shape = (None, MAXLENGTH))(input_features)\n",
    "\n",
    "    # definr LSTM layers\n",
    "    LSTM_chap = LSTM(LSTM_NEURON, input_shape = (None, EMBEDDING_DIM),return_sequences = True)(embedding_chap)\n",
    "    LSTM_sub_chap = LSTM(LSTM_NEURON, input_shape = (None, EMBEDDING_DIM),return_sequences = True)(embedding_sub_chap)\n",
    "    LSTM_ques = LSTM(LSTM_NEURON, input_shape = (None, EMBEDDING_DIM),return_sequences = True)(embedding_ques)\n",
    "    #LSTM_shif = LSTM(LSTM_NEURON, input_shape = (None, EMBEDDING_DIM),return_sequences = True)(embedding_shifted)\n",
    "    LSTM_features = LSTM(LSTM_NEURON, input_shape = (None, EMBEDDING_DIM),return_sequences = True)(dense_features)\n",
    "\n",
    "    LSTM_output = tf.concat([LSTM_chap, LSTM_sub_chap, LSTM_ques, LSTM_features], axis = 2)\n",
    "\n",
    "    dense1 = Dense(256, input_shape = (None, 4*EMBEDDING_DIM), activation='relu')(LSTM_output)\n",
    "    dropout1 = Dropout(0.1)(dense1)\n",
    "    dense2 = Dense(64, input_shape = (None, 256), activation='relu')(dropout1)\n",
    "    dropout2 = Dropout(0.1)(dense2)\n",
    "    pred = Dense(1, input_shape = (None, 64), activation='sigmoid')(dropout2)\n",
    "\n",
    "    model = tf.keras.Model(\n",
    "        inputs=[input_chap, input_sub_chap,input_ques, input_features],\n",
    "        outputs=pred,\n",
    "        name='LSTM_model'\n",
    "    )\n",
    "\n",
    "    callback = tf.keras.callbacks.EarlyStopping(monitor='val_loss', patience=10)\n",
    "    opt_adam = Adam(learning_rate = 0.005)\n",
    "    model.compile(\n",
    "        optimizer=opt_adam,\n",
    "        loss= masked_bce,\n",
    "        metrics = [masked_acc, masked_auc]\n",
    "    )\n",
    "\n",
    "    history = model.fit(\n",
    "      [train_chapter, train_sub_chapter, train_question, train_features],\n",
    "      train_labels,\n",
    "      batch_size = 64,\n",
    "      epochs = 100,\n",
    "      validation_data=([val_chapter, val_sub_chapter, val_question, val_features], val_labels),\n",
    "      callbacks=[callback]\n",
    "    )\n",
    "    val_losses.append(list(history.history['val_loss']))\n",
    "    train_losses.append(list(history.history['loss']))\n",
    "    val_aucs.append(list(history.history['val_masked_auc']))\n",
    "    train_aucs.append(list(history.history['masked_auc']))\n",
    "    train_score = model.evaluate([train_chapter, train_sub_chapter, train_question, train_features], train_labels)\n",
    "    train_eval.append(train_score)\n",
    "    test_score = model.evaluate([test_chapter, test_sub_chapter, test_question, test_features], test_labels)\n",
    "    test_eval.append(test_score)\n",
    "    print(\"Test: \", test_score)\n",
    "    def reset_weights(model):\n",
    "      for layer in model.layers: \n",
    "        if isinstance(layer, tf.keras.Model):\n",
    "          reset_weights(layer)\n",
    "          continue\n",
    "        for k, initializer in layer.__dict__.items():\n",
    "          if \"initializer\" not in k:\n",
    "            continue\n",
    "          # find the corresponding variable\n",
    "          var = getattr(layer, k.replace(\"_initializer\", \"\"))\n",
    "          var.assign(initializer(var.shape, var.dtype))\n",
    "    reset_weights(model)"
   ]
  },
  {
   "cell_type": "code",
   "execution_count": 33,
   "metadata": {
    "execution": {
     "iopub.execute_input": "2021-08-08T19:18:13.351022Z",
     "iopub.status.busy": "2021-08-08T19:18:13.350305Z",
     "iopub.status.idle": "2021-08-08T19:18:13.357359Z",
     "shell.execute_reply": "2021-08-08T19:18:13.356779Z",
     "shell.execute_reply.started": "2021-08-06T21:35:33.922753Z"
    },
    "id": "QsVmumHMz3lx",
    "outputId": "4ff1e2fa-6abb-458e-c729-495b456f53e5",
    "papermill": {
     "duration": 1.019574,
     "end_time": "2021-08-08T19:18:13.357524",
     "exception": false,
     "start_time": "2021-08-08T19:18:12.337950",
     "status": "completed"
    },
    "tags": []
   },
   "outputs": [
    {
     "name": "stdout",
     "output_type": "stream",
     "text": [
      "test avg loss:  0.42492298483848573 +/- 0.013578322408736708\n",
      "test avg acc:  0.778415048122406 +/- 0.0036406367629674614\n",
      "test avg auc:  0.832510483264923 +/- 0.006123342758528159\n"
     ]
    }
   ],
   "source": [
    "t_eval = np.array(test_eval)\n",
    "print(\"test avg loss: \", np.mean(t_eval[:, 0]), \"+/-\" ,np.std(t_eval[:, 0]))\n",
    "print(\"test avg acc: \", np.mean(t_eval[:, 1]),  \"+/-\" ,np.std(t_eval[:, 1]))\n",
    "print(\"test avg auc: \", np.mean(t_eval[:, 2]), \"+/-\" ,np.std(t_eval[:, 2]))"
   ]
  },
  {
   "cell_type": "code",
   "execution_count": 34,
   "metadata": {
    "execution": {
     "iopub.execute_input": "2021-08-08T19:18:15.366166Z",
     "iopub.status.busy": "2021-08-08T19:18:15.365024Z",
     "iopub.status.idle": "2021-08-08T19:18:15.370617Z",
     "shell.execute_reply": "2021-08-08T19:18:15.370007Z",
     "shell.execute_reply.started": "2021-08-06T21:35:33.935484Z"
    },
    "id": "b9MM_CXWz5K6",
    "outputId": "4cf88e1d-3a74-4e7d-f92c-d01522e91757",
    "papermill": {
     "duration": 0.987725,
     "end_time": "2021-08-08T19:18:15.370787",
     "exception": false,
     "start_time": "2021-08-08T19:18:14.383062",
     "status": "completed"
    },
    "tags": []
   },
   "outputs": [
    {
     "name": "stdout",
     "output_type": "stream",
     "text": [
      "train avg loss:  0.38434972167015075 +/- 0.014596216167419993\n",
      "train avg acc:  0.7781768798828125 +/- 0.0036307691871196386\n",
      "train avg auc:  0.8319316148757935 +/- 0.006138284642332254\n"
     ]
    }
   ],
   "source": [
    "t_eval = np.array(train_eval)\n",
    "print(\"train avg loss: \", np.mean(t_eval[:, 0]), \"+/-\" ,np.std(t_eval[:, 0]))\n",
    "print(\"train avg acc: \", np.mean(t_eval[:, 1]),  \"+/-\" ,np.std(t_eval[:, 1]))\n",
    "print(\"train avg auc: \", np.mean(t_eval[:, 2]), \"+/-\" ,np.std(t_eval[:, 2]))"
   ]
  }
 ],
 "metadata": {
  "kernelspec": {
   "display_name": "Python 3",
   "language": "python",
   "name": "python3"
  },
  "language_info": {
   "codemirror_mode": {
    "name": "ipython",
    "version": 3
   },
   "file_extension": ".py",
   "mimetype": "text/x-python",
   "name": "python",
   "nbconvert_exporter": "python",
   "pygments_lexer": "ipython3",
   "version": "3.8.5"
  },
  "papermill": {
   "default_parameters": {},
   "duration": 1625.966162,
   "end_time": "2021-08-08T19:18:19.555061",
   "environment_variables": {},
   "exception": null,
   "input_path": "__notebook__.ipynb",
   "output_path": "__notebook__.ipynb",
   "parameters": {},
   "start_time": "2021-08-08T18:51:13.588899",
   "version": "2.3.3"
  }
 },
 "nbformat": 4,
 "nbformat_minor": 5
}
