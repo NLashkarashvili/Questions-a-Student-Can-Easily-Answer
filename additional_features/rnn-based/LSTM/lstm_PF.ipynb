{
 "cells": [
  {
   "cell_type": "code",
   "execution_count": 1,
   "metadata": {
    "execution": {
     "iopub.execute_input": "2021-08-08T17:17:10.813211Z",
     "iopub.status.busy": "2021-08-08T17:17:10.811585Z",
     "iopub.status.idle": "2021-08-08T17:17:18.439250Z",
     "shell.execute_reply": "2021-08-08T17:17:18.438424Z",
     "shell.execute_reply.started": "2021-08-06T20:58:20.355062Z"
    },
    "id": "farifxiKU1aB",
    "papermill": {
     "duration": 7.662311,
     "end_time": "2021-08-08T17:17:18.439427",
     "exception": false,
     "start_time": "2021-08-08T17:17:10.777116",
     "status": "completed"
    },
    "tags": []
   },
   "outputs": [],
   "source": [
    "import numpy as np\n",
    "import pandas as pd\n",
    "import warnings\n",
    "import gc\n",
    "import tensorflow as tf\n",
    "from tensorflow import keras\n",
    "\n",
    "import random\n",
    "from random import choice\n",
    "from tensorflow.keras.optimizers import Adam\n",
    "from tensorflow.keras.models import Sequential \n",
    "from tensorflow.keras.layers import Dense, LSTM, Concatenate, Embedding, Flatten, Activation, Dropout\n",
    "from sklearn.model_selection import KFold\n",
    "from tensorflow.python.client import device_lib\n",
    "warnings.filterwarnings('ignore')\n",
    "import random"
   ]
  },
  {
   "cell_type": "code",
   "execution_count": 2,
   "metadata": {
    "execution": {
     "iopub.execute_input": "2021-08-08T17:17:18.507882Z",
     "iopub.status.busy": "2021-08-08T17:17:18.506881Z",
     "iopub.status.idle": "2021-08-08T17:17:18.509307Z",
     "shell.execute_reply": "2021-08-08T17:17:18.509750Z",
     "shell.execute_reply.started": "2021-08-06T20:58:22.59473Z"
    },
    "id": "QOson70GPOXb",
    "papermill": {
     "duration": 0.037173,
     "end_time": "2021-08-08T17:17:18.509950",
     "exception": false,
     "start_time": "2021-08-08T17:17:18.472777",
     "status": "completed"
    },
    "tags": []
   },
   "outputs": [],
   "source": [
    "import gc"
   ]
  },
  {
   "cell_type": "markdown",
   "metadata": {
    "id": "BQsVybBH3VPw",
    "papermill": {
     "duration": 0.029679,
     "end_time": "2021-08-08T17:17:18.569045",
     "exception": false,
     "start_time": "2021-08-08T17:17:18.539366",
     "status": "completed"
    },
    "tags": []
   },
   "source": [
    "## Data Preprocessing"
   ]
  },
  {
   "cell_type": "code",
   "execution_count": 3,
   "metadata": {
    "execution": {
     "iopub.execute_input": "2021-08-08T17:17:18.633225Z",
     "iopub.status.busy": "2021-08-08T17:17:18.632573Z",
     "iopub.status.idle": "2021-08-08T17:17:25.038637Z",
     "shell.execute_reply": "2021-08-08T17:17:25.038093Z",
     "shell.execute_reply.started": "2021-08-06T20:58:22.601494Z"
    },
    "id": "rwtTusGxrmAE",
    "outputId": "1430f3cf-038b-485e-b5c4-c1686b1f34fd",
    "papermill": {
     "duration": 6.440217,
     "end_time": "2021-08-08T17:17:25.038784",
     "exception": false,
     "start_time": "2021-08-08T17:17:18.598567",
     "status": "completed"
    },
    "tags": []
   },
   "outputs": [
    {
     "data": {
      "text/html": [
       "<div>\n",
       "<style scoped>\n",
       "    .dataframe tbody tr th:only-of-type {\n",
       "        vertical-align: middle;\n",
       "    }\n",
       "\n",
       "    .dataframe tbody tr th {\n",
       "        vertical-align: top;\n",
       "    }\n",
       "\n",
       "    .dataframe thead th {\n",
       "        text-align: right;\n",
       "    }\n",
       "</style>\n",
       "<table border=\"1\" class=\"dataframe\">\n",
       "  <thead>\n",
       "    <tr style=\"text-align: right;\">\n",
       "      <th></th>\n",
       "      <th>Unnamed: 0</th>\n",
       "      <th>chapter_label</th>\n",
       "      <th>sub_chapter_label</th>\n",
       "      <th>question_name</th>\n",
       "      <th>user_id.x</th>\n",
       "      <th>term</th>\n",
       "      <th>STDNT_SEX_CD</th>\n",
       "      <th>NonNativeEnglish</th>\n",
       "      <th>White</th>\n",
       "      <th>Asian</th>\n",
       "      <th>...</th>\n",
       "      <th>classGraded</th>\n",
       "      <th>classHonors</th>\n",
       "      <th>Pass_Fail</th>\n",
       "      <th>parentsGraduateEdu</th>\n",
       "      <th>minorityGroup</th>\n",
       "      <th>q</th>\n",
       "      <th>day's_available_flashcards</th>\n",
       "      <th>start_practice</th>\n",
       "      <th>end_practice</th>\n",
       "      <th>days_offset</th>\n",
       "    </tr>\n",
       "  </thead>\n",
       "  <tbody>\n",
       "    <tr>\n",
       "      <th>0</th>\n",
       "      <td>1</td>\n",
       "      <td>Sort</td>\n",
       "      <td>intro-SortingwithSortandSorted</td>\n",
       "      <td>ee_sort_04</td>\n",
       "      <td>148</td>\n",
       "      <td>WN 2018</td>\n",
       "      <td>1</td>\n",
       "      <td>0</td>\n",
       "      <td>1</td>\n",
       "      <td>0</td>\n",
       "      <td>...</td>\n",
       "      <td>1</td>\n",
       "      <td>0</td>\n",
       "      <td>0</td>\n",
       "      <td>0</td>\n",
       "      <td>0</td>\n",
       "      <td>0</td>\n",
       "      <td>18</td>\n",
       "      <td>2018-03-04 20:00:19</td>\n",
       "      <td>2018-03-04 20:00:35</td>\n",
       "      <td>45</td>\n",
       "    </tr>\n",
       "    <tr>\n",
       "      <th>1</th>\n",
       "      <td>2</td>\n",
       "      <td>Functions</td>\n",
       "      <td>Returningavaluefromafunction</td>\n",
       "      <td>test_questionfunctions_2_3</td>\n",
       "      <td>148</td>\n",
       "      <td>WN 2018</td>\n",
       "      <td>1</td>\n",
       "      <td>0</td>\n",
       "      <td>1</td>\n",
       "      <td>0</td>\n",
       "      <td>...</td>\n",
       "      <td>1</td>\n",
       "      <td>0</td>\n",
       "      <td>0</td>\n",
       "      <td>0</td>\n",
       "      <td>0</td>\n",
       "      <td>4</td>\n",
       "      <td>16</td>\n",
       "      <td>2018-02-10 11:57:55</td>\n",
       "      <td>2018-02-10 11:58:35</td>\n",
       "      <td>23</td>\n",
       "    </tr>\n",
       "    <tr>\n",
       "      <th>2</th>\n",
       "      <td>3</td>\n",
       "      <td>RESTAPIs</td>\n",
       "      <td>functionswithrestapis</td>\n",
       "      <td>test_question_functions_rest_apis_1</td>\n",
       "      <td>148</td>\n",
       "      <td>WN 2018</td>\n",
       "      <td>1</td>\n",
       "      <td>0</td>\n",
       "      <td>1</td>\n",
       "      <td>0</td>\n",
       "      <td>...</td>\n",
       "      <td>1</td>\n",
       "      <td>0</td>\n",
       "      <td>0</td>\n",
       "      <td>0</td>\n",
       "      <td>0</td>\n",
       "      <td>1</td>\n",
       "      <td>2</td>\n",
       "      <td>2018-03-12 17:03:07</td>\n",
       "      <td>2018-03-12 17:04:28</td>\n",
       "      <td>53</td>\n",
       "    </tr>\n",
       "    <tr>\n",
       "      <th>3</th>\n",
       "      <td>4</td>\n",
       "      <td>SimplePythonData</td>\n",
       "      <td>FunctionCalls</td>\n",
       "      <td>exercise_functionCalls_1</td>\n",
       "      <td>148</td>\n",
       "      <td>WN 2018</td>\n",
       "      <td>1</td>\n",
       "      <td>0</td>\n",
       "      <td>1</td>\n",
       "      <td>0</td>\n",
       "      <td>...</td>\n",
       "      <td>1</td>\n",
       "      <td>0</td>\n",
       "      <td>0</td>\n",
       "      <td>0</td>\n",
       "      <td>0</td>\n",
       "      <td>0</td>\n",
       "      <td>10</td>\n",
       "      <td>2018-01-30 14:15:49</td>\n",
       "      <td>2018-01-30 14:15:58</td>\n",
       "      <td>12</td>\n",
       "    </tr>\n",
       "    <tr>\n",
       "      <th>4</th>\n",
       "      <td>5</td>\n",
       "      <td>DictionaryAccumulation</td>\n",
       "      <td>AccumulatingaMaximumValue</td>\n",
       "      <td>ps_04_07</td>\n",
       "      <td>148</td>\n",
       "      <td>WN 2018</td>\n",
       "      <td>1</td>\n",
       "      <td>0</td>\n",
       "      <td>1</td>\n",
       "      <td>0</td>\n",
       "      <td>...</td>\n",
       "      <td>1</td>\n",
       "      <td>0</td>\n",
       "      <td>0</td>\n",
       "      <td>0</td>\n",
       "      <td>0</td>\n",
       "      <td>0</td>\n",
       "      <td>23</td>\n",
       "      <td>2018-03-03 14:04:17</td>\n",
       "      <td>2018-03-03 14:04:25</td>\n",
       "      <td>44</td>\n",
       "    </tr>\n",
       "  </tbody>\n",
       "</table>\n",
       "<p>5 rows × 48 columns</p>\n",
       "</div>"
      ],
      "text/plain": [
       "   Unnamed: 0           chapter_label               sub_chapter_label  \\\n",
       "0           1                    Sort  intro-SortingwithSortandSorted   \n",
       "1           2               Functions    Returningavaluefromafunction   \n",
       "2           3                RESTAPIs           functionswithrestapis   \n",
       "3           4        SimplePythonData                   FunctionCalls   \n",
       "4           5  DictionaryAccumulation       AccumulatingaMaximumValue   \n",
       "\n",
       "                         question_name  user_id.x     term  STDNT_SEX_CD  \\\n",
       "0                           ee_sort_04        148  WN 2018             1   \n",
       "1           test_questionfunctions_2_3        148  WN 2018             1   \n",
       "2  test_question_functions_rest_apis_1        148  WN 2018             1   \n",
       "3             exercise_functionCalls_1        148  WN 2018             1   \n",
       "4                             ps_04_07        148  WN 2018             1   \n",
       "\n",
       "   NonNativeEnglish  White  Asian  ...  classGraded  classHonors  Pass_Fail  \\\n",
       "0                 0      1      0  ...            1            0          0   \n",
       "1                 0      1      0  ...            1            0          0   \n",
       "2                 0      1      0  ...            1            0          0   \n",
       "3                 0      1      0  ...            1            0          0   \n",
       "4                 0      1      0  ...            1            0          0   \n",
       "\n",
       "   parentsGraduateEdu  minorityGroup  q  day's_available_flashcards  \\\n",
       "0                   0              0  0                          18   \n",
       "1                   0              0  4                          16   \n",
       "2                   0              0  1                           2   \n",
       "3                   0              0  0                          10   \n",
       "4                   0              0  0                          23   \n",
       "\n",
       "        start_practice         end_practice  days_offset  \n",
       "0  2018-03-04 20:00:19  2018-03-04 20:00:35           45  \n",
       "1  2018-02-10 11:57:55  2018-02-10 11:58:35           23  \n",
       "2  2018-03-12 17:03:07  2018-03-12 17:04:28           53  \n",
       "3  2018-01-30 14:15:49  2018-01-30 14:15:58           12  \n",
       "4  2018-03-03 14:04:17  2018-03-03 14:04:25           44  \n",
       "\n",
       "[5 rows x 48 columns]"
      ]
     },
     "execution_count": 3,
     "metadata": {},
     "output_type": "execute_result"
    }
   ],
   "source": [
    "# load the data\n",
    "import pandas as pd\n",
    "dataframe = pd.read_csv('../input/practice-log-demographics/Practice_Log_Demographics (1).csv', low_memory=False)\n",
    "dataframe.head()"
   ]
  },
  {
   "cell_type": "code",
   "execution_count": 4,
   "metadata": {
    "execution": {
     "iopub.execute_input": "2021-08-08T17:17:25.165815Z",
     "iopub.status.busy": "2021-08-08T17:17:25.165101Z",
     "iopub.status.idle": "2021-08-08T17:17:26.804335Z",
     "shell.execute_reply": "2021-08-08T17:17:26.803772Z",
     "shell.execute_reply.started": "2021-08-06T20:58:27.574031Z"
    },
    "id": "OCbHnEp_Vir0",
    "papermill": {
     "duration": 1.735123,
     "end_time": "2021-08-08T17:17:26.804489",
     "exception": false,
     "start_time": "2021-08-08T17:17:25.069366",
     "status": "completed"
    },
    "tags": []
   },
   "outputs": [],
   "source": [
    "#sort data based on timestamp\n",
    "dataframe = dataframe.sort_values(by=['start_practice']).reset_index(drop=True)"
   ]
  },
  {
   "cell_type": "code",
   "execution_count": 5,
   "metadata": {
    "execution": {
     "iopub.execute_input": "2021-08-08T17:17:26.877481Z",
     "iopub.status.busy": "2021-08-08T17:17:26.876791Z",
     "iopub.status.idle": "2021-08-08T17:17:27.233928Z",
     "shell.execute_reply": "2021-08-08T17:17:27.233371Z",
     "shell.execute_reply.started": "2021-08-06T20:58:29.303298Z"
    },
    "papermill": {
     "duration": 0.39826,
     "end_time": "2021-08-08T17:17:27.234079",
     "exception": false,
     "start_time": "2021-08-08T17:17:26.835819",
     "status": "completed"
    },
    "tags": []
   },
   "outputs": [
    {
     "data": {
      "text/html": [
       "<div>\n",
       "<style scoped>\n",
       "    .dataframe tbody tr th:only-of-type {\n",
       "        vertical-align: middle;\n",
       "    }\n",
       "\n",
       "    .dataframe tbody tr th {\n",
       "        vertical-align: top;\n",
       "    }\n",
       "\n",
       "    .dataframe thead th {\n",
       "        text-align: right;\n",
       "    }\n",
       "</style>\n",
       "<table border=\"1\" class=\"dataframe\">\n",
       "  <thead>\n",
       "    <tr style=\"text-align: right;\">\n",
       "      <th></th>\n",
       "      <th>Unnamed: 0</th>\n",
       "      <th>chapter_label</th>\n",
       "      <th>sub_chapter_label</th>\n",
       "      <th>question_name</th>\n",
       "      <th>user_id.x</th>\n",
       "      <th>term</th>\n",
       "      <th>STDNT_SEX_CD</th>\n",
       "      <th>NonNativeEnglish</th>\n",
       "      <th>White</th>\n",
       "      <th>Asian</th>\n",
       "      <th>...</th>\n",
       "      <th>classGraded</th>\n",
       "      <th>classHonors</th>\n",
       "      <th>Pass_Fail</th>\n",
       "      <th>parentsGraduateEdu</th>\n",
       "      <th>minorityGroup</th>\n",
       "      <th>q</th>\n",
       "      <th>day's_available_flashcards</th>\n",
       "      <th>start_practice</th>\n",
       "      <th>end_practice</th>\n",
       "      <th>days_offset</th>\n",
       "    </tr>\n",
       "  </thead>\n",
       "  <tbody>\n",
       "    <tr>\n",
       "      <th>0</th>\n",
       "      <td>434434</td>\n",
       "      <td>GeneralIntro</td>\n",
       "      <td>Syntaxerrors</td>\n",
       "      <td>question1_6_1</td>\n",
       "      <td>88</td>\n",
       "      <td>WN 2018</td>\n",
       "      <td>1</td>\n",
       "      <td>0</td>\n",
       "      <td>0</td>\n",
       "      <td>1</td>\n",
       "      <td>...</td>\n",
       "      <td>1</td>\n",
       "      <td>0</td>\n",
       "      <td>0</td>\n",
       "      <td>0</td>\n",
       "      <td>1</td>\n",
       "      <td>0</td>\n",
       "      <td>20</td>\n",
       "      <td>2018-01-18 15:50:08</td>\n",
       "      <td>2018-01-18 15:51:06</td>\n",
       "      <td>0</td>\n",
       "    </tr>\n",
       "    <tr>\n",
       "      <th>1</th>\n",
       "      <td>563728</td>\n",
       "      <td>GeneralIntro</td>\n",
       "      <td>Syntaxerrors</td>\n",
       "      <td>question1_6_1</td>\n",
       "      <td>290</td>\n",
       "      <td>WN 2018</td>\n",
       "      <td>1</td>\n",
       "      <td>0</td>\n",
       "      <td>1</td>\n",
       "      <td>0</td>\n",
       "      <td>...</td>\n",
       "      <td>1</td>\n",
       "      <td>0</td>\n",
       "      <td>0</td>\n",
       "      <td>1</td>\n",
       "      <td>0</td>\n",
       "      <td>0</td>\n",
       "      <td>20</td>\n",
       "      <td>2018-01-18 15:50:10</td>\n",
       "      <td>2018-01-18 15:50:21</td>\n",
       "      <td>0</td>\n",
       "    </tr>\n",
       "    <tr>\n",
       "      <th>2</th>\n",
       "      <td>204163</td>\n",
       "      <td>GeneralIntro</td>\n",
       "      <td>Syntaxerrors</td>\n",
       "      <td>question1_6_1</td>\n",
       "      <td>181</td>\n",
       "      <td>WN 2018</td>\n",
       "      <td>2</td>\n",
       "      <td>0</td>\n",
       "      <td>1</td>\n",
       "      <td>0</td>\n",
       "      <td>...</td>\n",
       "      <td>1</td>\n",
       "      <td>0</td>\n",
       "      <td>0</td>\n",
       "      <td>1</td>\n",
       "      <td>0</td>\n",
       "      <td>0</td>\n",
       "      <td>20</td>\n",
       "      <td>2018-01-18 15:50:12</td>\n",
       "      <td>2018-01-18 15:50:24</td>\n",
       "      <td>0</td>\n",
       "    </tr>\n",
       "    <tr>\n",
       "      <th>3</th>\n",
       "      <td>55154</td>\n",
       "      <td>GeneralIntro</td>\n",
       "      <td>Syntaxerrors</td>\n",
       "      <td>question1_6_1</td>\n",
       "      <td>146</td>\n",
       "      <td>WN 2018</td>\n",
       "      <td>1</td>\n",
       "      <td>1</td>\n",
       "      <td>0</td>\n",
       "      <td>1</td>\n",
       "      <td>...</td>\n",
       "      <td>1</td>\n",
       "      <td>0</td>\n",
       "      <td>0</td>\n",
       "      <td>0</td>\n",
       "      <td>1</td>\n",
       "      <td>0</td>\n",
       "      <td>20</td>\n",
       "      <td>2018-01-18 15:50:13</td>\n",
       "      <td>2018-01-18 15:50:49</td>\n",
       "      <td>0</td>\n",
       "    </tr>\n",
       "    <tr>\n",
       "      <th>4</th>\n",
       "      <td>269459</td>\n",
       "      <td>GeneralIntro</td>\n",
       "      <td>Syntaxerrors</td>\n",
       "      <td>question1_6_1</td>\n",
       "      <td>307</td>\n",
       "      <td>WN 2018</td>\n",
       "      <td>1</td>\n",
       "      <td>1</td>\n",
       "      <td>0</td>\n",
       "      <td>1</td>\n",
       "      <td>...</td>\n",
       "      <td>1</td>\n",
       "      <td>0</td>\n",
       "      <td>0</td>\n",
       "      <td>1</td>\n",
       "      <td>1</td>\n",
       "      <td>0</td>\n",
       "      <td>20</td>\n",
       "      <td>2018-01-18 15:50:14</td>\n",
       "      <td>2018-01-18 15:50:47</td>\n",
       "      <td>0</td>\n",
       "    </tr>\n",
       "    <tr>\n",
       "      <th>...</th>\n",
       "      <td>...</td>\n",
       "      <td>...</td>\n",
       "      <td>...</td>\n",
       "      <td>...</td>\n",
       "      <td>...</td>\n",
       "      <td>...</td>\n",
       "      <td>...</td>\n",
       "      <td>...</td>\n",
       "      <td>...</td>\n",
       "      <td>...</td>\n",
       "      <td>...</td>\n",
       "      <td>...</td>\n",
       "      <td>...</td>\n",
       "      <td>...</td>\n",
       "      <td>...</td>\n",
       "      <td>...</td>\n",
       "      <td>...</td>\n",
       "      <td>...</td>\n",
       "      <td>...</td>\n",
       "      <td>...</td>\n",
       "      <td>...</td>\n",
       "    </tr>\n",
       "    <tr>\n",
       "      <th>610787</th>\n",
       "      <td>257869</td>\n",
       "      <td>InternetAPIs</td>\n",
       "      <td>unicode</td>\n",
       "      <td>24_unicode_2</td>\n",
       "      <td>189</td>\n",
       "      <td>WN 2021</td>\n",
       "      <td>2</td>\n",
       "      <td>1</td>\n",
       "      <td>0</td>\n",
       "      <td>1</td>\n",
       "      <td>...</td>\n",
       "      <td>1</td>\n",
       "      <td>0</td>\n",
       "      <td>0</td>\n",
       "      <td>0</td>\n",
       "      <td>1</td>\n",
       "      <td>3</td>\n",
       "      <td>93</td>\n",
       "      <td>2021-04-28 14:09:32</td>\n",
       "      <td>2021-04-28 14:09:55</td>\n",
       "      <td>240</td>\n",
       "    </tr>\n",
       "    <tr>\n",
       "      <th>610788</th>\n",
       "      <td>175187</td>\n",
       "      <td>InternetAPIs</td>\n",
       "      <td>cachingResponses</td>\n",
       "      <td>restapis_caching_1</td>\n",
       "      <td>217</td>\n",
       "      <td>WN 2021</td>\n",
       "      <td>1</td>\n",
       "      <td>0</td>\n",
       "      <td>1</td>\n",
       "      <td>0</td>\n",
       "      <td>...</td>\n",
       "      <td>1</td>\n",
       "      <td>0</td>\n",
       "      <td>0</td>\n",
       "      <td>0</td>\n",
       "      <td>0</td>\n",
       "      <td>5</td>\n",
       "      <td>94</td>\n",
       "      <td>2021-04-28 16:24:39</td>\n",
       "      <td>2021-04-28 16:25:04</td>\n",
       "      <td>240</td>\n",
       "    </tr>\n",
       "    <tr>\n",
       "      <th>610789</th>\n",
       "      <td>383905</td>\n",
       "      <td>InternetAPIs</td>\n",
       "      <td>unicode</td>\n",
       "      <td>24_unicode_2</td>\n",
       "      <td>276</td>\n",
       "      <td>WN 2021</td>\n",
       "      <td>2</td>\n",
       "      <td>1</td>\n",
       "      <td>1</td>\n",
       "      <td>0</td>\n",
       "      <td>...</td>\n",
       "      <td>1</td>\n",
       "      <td>0</td>\n",
       "      <td>0</td>\n",
       "      <td>1</td>\n",
       "      <td>0</td>\n",
       "      <td>1</td>\n",
       "      <td>95</td>\n",
       "      <td>2021-04-28 17:05:46</td>\n",
       "      <td>2021-04-28 17:06:06</td>\n",
       "      <td>240</td>\n",
       "    </tr>\n",
       "    <tr>\n",
       "      <th>610790</th>\n",
       "      <td>383804</td>\n",
       "      <td>InternetAPIs</td>\n",
       "      <td>flickr</td>\n",
       "      <td>24_flickr_1</td>\n",
       "      <td>276</td>\n",
       "      <td>WN 2021</td>\n",
       "      <td>2</td>\n",
       "      <td>1</td>\n",
       "      <td>1</td>\n",
       "      <td>0</td>\n",
       "      <td>...</td>\n",
       "      <td>1</td>\n",
       "      <td>0</td>\n",
       "      <td>0</td>\n",
       "      <td>1</td>\n",
       "      <td>0</td>\n",
       "      <td>3</td>\n",
       "      <td>94</td>\n",
       "      <td>2021-04-28 17:06:06</td>\n",
       "      <td>2021-04-28 17:06:20</td>\n",
       "      <td>240</td>\n",
       "    </tr>\n",
       "    <tr>\n",
       "      <th>610791</th>\n",
       "      <td>159667</td>\n",
       "      <td>InternetAPIs</td>\n",
       "      <td>cachingResponses</td>\n",
       "      <td>restapis_caching_1</td>\n",
       "      <td>207</td>\n",
       "      <td>WN 2021</td>\n",
       "      <td>2</td>\n",
       "      <td>0</td>\n",
       "      <td>0</td>\n",
       "      <td>0</td>\n",
       "      <td>...</td>\n",
       "      <td>1</td>\n",
       "      <td>0</td>\n",
       "      <td>0</td>\n",
       "      <td>1</td>\n",
       "      <td>1</td>\n",
       "      <td>5</td>\n",
       "      <td>101</td>\n",
       "      <td>2021-04-28 17:07:28</td>\n",
       "      <td>2021-04-28 17:07:58</td>\n",
       "      <td>240</td>\n",
       "    </tr>\n",
       "  </tbody>\n",
       "</table>\n",
       "<p>610792 rows × 48 columns</p>\n",
       "</div>"
      ],
      "text/plain": [
       "        Unnamed: 0 chapter_label sub_chapter_label       question_name  \\\n",
       "0           434434  GeneralIntro      Syntaxerrors       question1_6_1   \n",
       "1           563728  GeneralIntro      Syntaxerrors       question1_6_1   \n",
       "2           204163  GeneralIntro      Syntaxerrors       question1_6_1   \n",
       "3            55154  GeneralIntro      Syntaxerrors       question1_6_1   \n",
       "4           269459  GeneralIntro      Syntaxerrors       question1_6_1   \n",
       "...            ...           ...               ...                 ...   \n",
       "610787      257869  InternetAPIs           unicode        24_unicode_2   \n",
       "610788      175187  InternetAPIs  cachingResponses  restapis_caching_1   \n",
       "610789      383905  InternetAPIs           unicode        24_unicode_2   \n",
       "610790      383804  InternetAPIs            flickr         24_flickr_1   \n",
       "610791      159667  InternetAPIs  cachingResponses  restapis_caching_1   \n",
       "\n",
       "        user_id.x     term  STDNT_SEX_CD  NonNativeEnglish  White  Asian  ...  \\\n",
       "0              88  WN 2018             1                 0      0      1  ...   \n",
       "1             290  WN 2018             1                 0      1      0  ...   \n",
       "2             181  WN 2018             2                 0      1      0  ...   \n",
       "3             146  WN 2018             1                 1      0      1  ...   \n",
       "4             307  WN 2018             1                 1      0      1  ...   \n",
       "...           ...      ...           ...               ...    ...    ...  ...   \n",
       "610787        189  WN 2021             2                 1      0      1  ...   \n",
       "610788        217  WN 2021             1                 0      1      0  ...   \n",
       "610789        276  WN 2021             2                 1      1      0  ...   \n",
       "610790        276  WN 2021             2                 1      1      0  ...   \n",
       "610791        207  WN 2021             2                 0      0      0  ...   \n",
       "\n",
       "        classGraded  classHonors  Pass_Fail  parentsGraduateEdu  \\\n",
       "0                 1            0          0                   0   \n",
       "1                 1            0          0                   1   \n",
       "2                 1            0          0                   1   \n",
       "3                 1            0          0                   0   \n",
       "4                 1            0          0                   1   \n",
       "...             ...          ...        ...                 ...   \n",
       "610787            1            0          0                   0   \n",
       "610788            1            0          0                   0   \n",
       "610789            1            0          0                   1   \n",
       "610790            1            0          0                   1   \n",
       "610791            1            0          0                   1   \n",
       "\n",
       "        minorityGroup  q  day's_available_flashcards       start_practice  \\\n",
       "0                   1  0                          20  2018-01-18 15:50:08   \n",
       "1                   0  0                          20  2018-01-18 15:50:10   \n",
       "2                   0  0                          20  2018-01-18 15:50:12   \n",
       "3                   1  0                          20  2018-01-18 15:50:13   \n",
       "4                   1  0                          20  2018-01-18 15:50:14   \n",
       "...               ... ..                         ...                  ...   \n",
       "610787              1  3                          93  2021-04-28 14:09:32   \n",
       "610788              0  5                          94  2021-04-28 16:24:39   \n",
       "610789              0  1                          95  2021-04-28 17:05:46   \n",
       "610790              0  3                          94  2021-04-28 17:06:06   \n",
       "610791              1  5                         101  2021-04-28 17:07:28   \n",
       "\n",
       "               end_practice  days_offset  \n",
       "0       2018-01-18 15:51:06            0  \n",
       "1       2018-01-18 15:50:21            0  \n",
       "2       2018-01-18 15:50:24            0  \n",
       "3       2018-01-18 15:50:49            0  \n",
       "4       2018-01-18 15:50:47            0  \n",
       "...                     ...          ...  \n",
       "610787  2021-04-28 14:09:55          240  \n",
       "610788  2021-04-28 16:25:04          240  \n",
       "610789  2021-04-28 17:06:06          240  \n",
       "610790  2021-04-28 17:06:20          240  \n",
       "610791  2021-04-28 17:07:58          240  \n",
       "\n",
       "[610792 rows x 48 columns]"
      ]
     },
     "execution_count": 5,
     "metadata": {},
     "output_type": "execute_result"
    }
   ],
   "source": [
    "dataframe"
   ]
  },
  {
   "cell_type": "code",
   "execution_count": 6,
   "metadata": {
    "execution": {
     "iopub.execute_input": "2021-08-08T17:17:27.305132Z",
     "iopub.status.busy": "2021-08-08T17:17:27.304409Z",
     "iopub.status.idle": "2021-08-08T17:17:27.307954Z",
     "shell.execute_reply": "2021-08-08T17:17:27.307296Z",
     "shell.execute_reply.started": "2021-08-06T20:58:29.673521Z"
    },
    "id": "0RvF7BvEr98o",
    "papermill": {
     "duration": 0.041391,
     "end_time": "2021-08-08T17:17:27.308092",
     "exception": false,
     "start_time": "2021-08-08T17:17:27.266701",
     "status": "completed"
    },
    "tags": []
   },
   "outputs": [],
   "source": [
    "FEATURES = ['chapter_label', 'sub_chapter_label','question_name','user_id','term',\n",
    "            'STDNT_SEX_CD', \n",
    "            'NonNativeEnglish',\n",
    "            'White',\n",
    "            'Asian',\n",
    "            'WhiteOrAsian',\n",
    "            'Hispanic',\n",
    "            'AfricanAmerican',\n",
    "            'OtherEthnicities',\n",
    "            'NonWhiteOrAsian',\n",
    "            'STDNT_CTZN_STAT_CD', 'international', \n",
    "            'gradingType',\n",
    "            'birthYear',\n",
    "            'exclClassCumGPA',\n",
    "            'Freshman',\n",
    "            'Junior',\n",
    "            'Sophomore',\n",
    "            'Senior',\n",
    "            'termCreditsGPA',\n",
    "            'termCreditsNoGPA',\n",
    "            'athlete_1',\n",
    "            'honorsPro',\n",
    "            'LSA', 'programBusiness', 'programEngineering', \n",
    "            'programInformation', 'programOther',\n",
    "            'HSCalculusTaken', \n",
    "            'highSchoolGPA', \n",
    "            'majorsCount', 'minorsCount',\n",
    "            'PREV_TERM_CUM_GPA',\n",
    "            'classGraded', 'classHonors', \n",
    "            'Pass_Fail', \n",
    "            'parentsGraduateEdu',  'minorityGroup', \n",
    "            'q',\n",
    "            'available_flashcards', \n",
    "            'start_practice', \n",
    "            'end_practice',\n",
    "            'days_offset']"
   ]
  },
  {
   "cell_type": "code",
   "execution_count": 7,
   "metadata": {
    "execution": {
     "iopub.execute_input": "2021-08-08T17:17:27.377763Z",
     "iopub.status.busy": "2021-08-08T17:17:27.376580Z",
     "iopub.status.idle": "2021-08-08T17:17:27.903468Z",
     "shell.execute_reply": "2021-08-08T17:17:27.902760Z",
     "shell.execute_reply.started": "2021-08-06T20:58:29.682425Z"
    },
    "id": "Mn341X7lSztl",
    "papermill": {
     "duration": 0.564632,
     "end_time": "2021-08-08T17:17:27.903614",
     "exception": false,
     "start_time": "2021-08-08T17:17:27.338982",
     "status": "completed"
    },
    "tags": []
   },
   "outputs": [],
   "source": [
    "dataframe['available_flashcards'] = dataframe[\"day's_available_flashcards\"][:]\n",
    "dataframe = dataframe.drop([\"day's_available_flashcards\"], axis=1)\n",
    "dataframe['user_id'] = dataframe[\"user_id.x\"][:]\n",
    "dataframe = dataframe.drop([\"user_id.x\"], axis=1)"
   ]
  },
  {
   "cell_type": "code",
   "execution_count": 8,
   "metadata": {
    "execution": {
     "iopub.execute_input": "2021-08-08T17:17:28.138422Z",
     "iopub.status.busy": "2021-08-08T17:17:28.137442Z",
     "iopub.status.idle": "2021-08-08T17:17:28.142966Z",
     "shell.execute_reply": "2021-08-08T17:17:28.142351Z",
     "shell.execute_reply.started": "2021-08-06T20:58:30.178707Z"
    },
    "id": "-_BRggOjbBjN",
    "outputId": "42bff7db-08dd-48dc-a73a-d048508053b7",
    "papermill": {
     "duration": 0.208512,
     "end_time": "2021-08-08T17:17:28.143103",
     "exception": false,
     "start_time": "2021-08-08T17:17:27.934591",
     "status": "completed"
    },
    "tags": []
   },
   "outputs": [
    {
     "data": {
      "text/plain": [
       "122"
      ]
     },
     "execution_count": 8,
     "metadata": {},
     "output_type": "execute_result"
    }
   ],
   "source": [
    "gc.collect()"
   ]
  },
  {
   "cell_type": "code",
   "execution_count": 9,
   "metadata": {
    "execution": {
     "iopub.execute_input": "2021-08-08T17:17:28.214204Z",
     "iopub.status.busy": "2021-08-08T17:17:28.213486Z",
     "iopub.status.idle": "2021-08-08T17:17:28.516064Z",
     "shell.execute_reply": "2021-08-08T17:17:28.516557Z",
     "shell.execute_reply.started": "2021-08-06T20:58:30.356124Z"
    },
    "id": "lXM7MlonVeRL",
    "outputId": "d29ccec0-522f-4e3c-e0b2-39b2e1eaef74",
    "papermill": {
     "duration": 0.34219,
     "end_time": "2021-08-08T17:17:28.516758",
     "exception": false,
     "start_time": "2021-08-08T17:17:28.174568",
     "status": "completed"
    },
    "tags": []
   },
   "outputs": [
    {
     "data": {
      "text/plain": [
       "20"
      ]
     },
     "execution_count": 9,
     "metadata": {},
     "output_type": "execute_result"
    }
   ],
   "source": [
    "dataframe = dataframe[FEATURES]\n",
    "gc.collect()"
   ]
  },
  {
   "cell_type": "code",
   "execution_count": 10,
   "metadata": {
    "execution": {
     "iopub.execute_input": "2021-08-08T17:17:29.104315Z",
     "iopub.status.busy": "2021-08-08T17:17:29.103583Z",
     "iopub.status.idle": "2021-08-08T17:17:29.248977Z",
     "shell.execute_reply": "2021-08-08T17:17:29.248330Z",
     "shell.execute_reply.started": "2021-08-06T20:58:30.662917Z"
    },
    "id": "2WAFv5z3A6fK",
    "outputId": "e27abf84-ec3c-4b88-e1fb-927d94b41898",
    "papermill": {
     "duration": 0.700721,
     "end_time": "2021-08-08T17:17:29.249135",
     "exception": false,
     "start_time": "2021-08-08T17:17:28.548414",
     "status": "completed"
    },
    "tags": []
   },
   "outputs": [],
   "source": [
    "dataframe = dataframe.fillna(0)"
   ]
  },
  {
   "cell_type": "code",
   "execution_count": 11,
   "metadata": {
    "execution": {
     "iopub.execute_input": "2021-08-08T17:17:29.331572Z",
     "iopub.status.busy": "2021-08-08T17:17:29.330890Z",
     "iopub.status.idle": "2021-08-08T17:17:30.744764Z",
     "shell.execute_reply": "2021-08-08T17:17:30.744189Z",
     "shell.execute_reply.started": "2021-08-06T20:58:31.328858Z"
    },
    "id": "qRKqF_0IXZgj",
    "papermill": {
     "duration": 1.46397,
     "end_time": "2021-08-08T17:17:30.744931",
     "exception": false,
     "start_time": "2021-08-08T17:17:29.280961",
     "status": "completed"
    },
    "tags": []
   },
   "outputs": [],
   "source": [
    "#label encode term, chapter_label, question_name, sub_chapter_label columns\n",
    "dataframe['term'] = dataframe['term'].astype('category')\n",
    "dataframe['user_id'] = dataframe['user_id'].astype(int)\n",
    "dataframe['user_id'] = dataframe['user_id'].astype(str)\n",
    "dataframe['user_id'] = dataframe['term'].str.cat(dataframe['user_id'], sep=':')\n",
    "dataframe['user_id'] = dataframe['user_id'].astype('category')\n",
    "dataframe['chapter_label'] = dataframe['chapter_label'].astype('category')\n",
    "dataframe['sub_chapter_label'] = dataframe['sub_chapter_label'].astype('category')\n",
    "dataframe['question_name'] = dataframe['question_name'].astype('category')\n"
   ]
  },
  {
   "cell_type": "code",
   "execution_count": 12,
   "metadata": {
    "execution": {
     "iopub.execute_input": "2021-08-08T17:17:30.814796Z",
     "iopub.status.busy": "2021-08-08T17:17:30.814131Z",
     "iopub.status.idle": "2021-08-08T17:17:31.341249Z",
     "shell.execute_reply": "2021-08-08T17:17:31.340680Z",
     "shell.execute_reply.started": "2021-08-06T20:58:32.762556Z"
    },
    "id": "eVl_067GWkDe",
    "papermill": {
     "duration": 0.564489,
     "end_time": "2021-08-08T17:17:31.341411",
     "exception": false,
     "start_time": "2021-08-08T17:17:30.776922",
     "status": "completed"
    },
    "tags": []
   },
   "outputs": [],
   "source": [
    "#calculate time_lag and prev_time_elapsed\n",
    "dataframe['prev_time_elapsed'] = None\n",
    "dataframe['time_lag'] = None\n",
    "dataframe['time_lag'] = dataframe['time_lag'].astype(np.float)\n",
    "dataframe['prev_time_elapsed'] = dataframe['prev_time_elapsed'].astype(np.float)\n",
    "dataframe.start_practice = pd.to_datetime(dataframe.start_practice, format='%Y-%m-%d %H:%M:%S')\n",
    "dataframe.end_practice = pd.to_datetime(dataframe.end_practice, format='%Y-%m-%d %H:%M:%S')"
   ]
  },
  {
   "cell_type": "code",
   "execution_count": 13,
   "metadata": {
    "execution": {
     "iopub.execute_input": "2021-08-08T17:17:31.410692Z",
     "iopub.status.busy": "2021-08-08T17:17:31.410042Z",
     "iopub.status.idle": "2021-08-08T17:17:31.447824Z",
     "shell.execute_reply": "2021-08-08T17:17:31.447180Z",
     "shell.execute_reply.started": "2021-08-06T20:58:33.288808Z"
    },
    "papermill": {
     "duration": 0.075096,
     "end_time": "2021-08-08T17:17:31.447981",
     "exception": false,
     "start_time": "2021-08-08T17:17:31.372885",
     "status": "completed"
    },
    "tags": []
   },
   "outputs": [],
   "source": [
    "dataframe['dif'] = dataframe.end_practice - dataframe.start_practice\n",
    "dataframe['dif'] = dataframe['dif'] /np.timedelta64(1, 's')\n",
    "dataframe['answer_correct'] = np.where((dataframe['q']==5) & (dataframe['dif'] <= 60), 1, 0)"
   ]
  },
  {
   "cell_type": "code",
   "execution_count": 14,
   "metadata": {
    "execution": {
     "iopub.execute_input": "2021-08-08T17:17:31.522350Z",
     "iopub.status.busy": "2021-08-08T17:17:31.521649Z",
     "iopub.status.idle": "2021-08-08T17:23:40.358276Z",
     "shell.execute_reply": "2021-08-08T17:23:40.357598Z",
     "shell.execute_reply.started": "2021-08-06T20:59:18.660743Z"
    },
    "id": "Xrkcn9VhWETm",
    "outputId": "fd73f3de-5f56-42a8-9539-3f3b79a5a6e2",
    "papermill": {
     "duration": 368.878981,
     "end_time": "2021-08-08T17:23:40.358479",
     "exception": false,
     "start_time": "2021-08-08T17:17:31.479498",
     "status": "completed"
    },
    "tags": []
   },
   "outputs": [
    {
     "name": "stderr",
     "output_type": "stream",
     "text": [
      "100%|██████████| 1110/1110 [06:08<00:00,  3.01it/s]\n"
     ]
    }
   ],
   "source": [
    "unique_chapts = dataframe['chapter_label'].unique()\n",
    "from tqdm import tqdm\n",
    "cnt = 0\n",
    "for user in tqdm(dataframe['user_id'].unique()):\n",
    "        for chapter in unique_chapts:\n",
    "            tmp_user = dataframe[(dataframe['user_id']==user) & (dataframe['chapter_label']==chapter)]\n",
    "            #if user doesn't answer any question from the chapter\n",
    "            if len(tmp_user) < 1:\n",
    "                continue\n",
    "            #calculate average elapsed time before the current question\n",
    "            #from its corresponding chapter\n",
    "            tmp_time_elapsed = tmp_user.end_practice - tmp_user.start_practice\n",
    "            tmp_time_elapsed = tmp_time_elapsed / np.timedelta64(1, 's')\n",
    "            tmp_time_elapsed = np.insert(np.array(tmp_time_elapsed[:-1]), 0, 0., axis=0)\n",
    "            tmp_time_elapsed = np.cumsum(tmp_time_elapsed)\n",
    "            indices = tmp_user.index\n",
    "            start_row = indices[0]\n",
    "            dataframe['time_lag'].iloc[start_row] = 0\n",
    "            for_mean = np.arange(len(tmp_user))\n",
    "            for_mean[0] = 1\n",
    "            time_substrahend = tmp_user.start_practice.iloc[:-1]\n",
    "            time_substrahend = time_substrahend.apply(lambda a: a.timestamp())\n",
    "            time_substrahend = np.array(time_substrahend)\n",
    "            \n",
    "            time_minuend = tmp_user.start_practice.iloc[1:]\n",
    "            time_minuend = time_minuend.apply(lambda a: a.timestamp())\n",
    "            time_minuend = np.array(time_minuend)\n",
    "\n",
    "            dataframe['prev_time_elapsed'].iloc[indices] = tmp_time_elapsed/for_mean\n",
    "            #calculate difference between current and last interaction\n",
    "            #from the same chapter\n",
    "            dataframe['time_lag'].iloc[indices[1:]] = time_minuend - time_substrahend\n"
   ]
  },
  {
   "cell_type": "code",
   "execution_count": 15,
   "metadata": {
    "execution": {
     "iopub.execute_input": "2021-08-08T17:23:41.088071Z",
     "iopub.status.busy": "2021-08-08T17:23:41.087382Z",
     "iopub.status.idle": "2021-08-08T17:23:41.182381Z",
     "shell.execute_reply": "2021-08-08T17:23:41.183008Z",
     "shell.execute_reply.started": "2021-08-06T21:05:41.448812Z"
    },
    "id": "8t8yZ0XvWwzz",
    "papermill": {
     "duration": 0.465727,
     "end_time": "2021-08-08T17:23:41.183204",
     "exception": false,
     "start_time": "2021-08-08T17:23:40.717477",
     "status": "completed"
    },
    "tags": []
   },
   "outputs": [],
   "source": [
    "#drop column end_practice\n",
    "dataframe.drop(columns=['end_practice'], inplace=True)"
   ]
  },
  {
   "cell_type": "code",
   "execution_count": 16,
   "metadata": {
    "execution": {
     "iopub.execute_input": "2021-08-08T17:23:41.911974Z",
     "iopub.status.busy": "2021-08-08T17:23:41.911259Z",
     "iopub.status.idle": "2021-08-08T17:23:42.375614Z",
     "shell.execute_reply": "2021-08-08T17:23:42.375045Z",
     "shell.execute_reply.started": "2021-08-06T21:05:41.542314Z"
    },
    "id": "E42raRIrYYXz",
    "papermill": {
     "duration": 0.8297,
     "end_time": "2021-08-08T17:23:42.375780",
     "exception": false,
     "start_time": "2021-08-08T17:23:41.546080",
     "status": "completed"
    },
    "tags": []
   },
   "outputs": [],
   "source": [
    "# calculate the age feature\n",
    "dataframe['term_value'] = [int(ele[3:]) for ele in dataframe['term']]\n",
    "dataframe['age'] = dataframe['term_value'] - dataframe['birthYear']"
   ]
  },
  {
   "cell_type": "code",
   "execution_count": 17,
   "metadata": {
    "execution": {
     "iopub.execute_input": "2021-08-08T17:23:43.152621Z",
     "iopub.status.busy": "2021-08-08T17:23:43.151979Z",
     "iopub.status.idle": "2021-08-08T17:23:43.371685Z",
     "shell.execute_reply": "2021-08-08T17:23:43.371141Z",
     "shell.execute_reply.started": "2021-08-06T21:05:42.015381Z"
    },
    "id": "pcMVQXueYnMh",
    "papermill": {
     "duration": 0.636143,
     "end_time": "2021-08-08T17:23:43.371843",
     "exception": false,
     "start_time": "2021-08-08T17:23:42.735700",
     "status": "completed"
    },
    "tags": []
   },
   "outputs": [],
   "source": [
    "# drop term_value and birthYear column\n",
    "dataframe.drop(columns=['term_value', 'birthYear'], inplace=True)"
   ]
  },
  {
   "cell_type": "code",
   "execution_count": 18,
   "metadata": {
    "execution": {
     "iopub.execute_input": "2021-08-08T17:23:44.114579Z",
     "iopub.status.busy": "2021-08-08T17:23:44.109103Z",
     "iopub.status.idle": "2021-08-08T17:23:44.630777Z",
     "shell.execute_reply": "2021-08-08T17:23:44.630118Z",
     "shell.execute_reply.started": "2021-08-06T21:05:42.228048Z"
    },
    "id": "hjRF5szkcQE0",
    "papermill": {
     "duration": 0.899877,
     "end_time": "2021-08-08T17:23:44.630931",
     "exception": false,
     "start_time": "2021-08-08T17:23:43.731054",
     "status": "completed"
    },
    "tags": []
   },
   "outputs": [],
   "source": [
    "# convert minors_count to int value\n",
    "new_minors_count = []\n",
    "for i in dataframe['minorsCount']:\n",
    "  if i == 0 or i == '0':\n",
    "    new_minors_count.append(0)\n",
    "  elif i == '1 Minor':\n",
    "    new_minors_count.append(1)\n",
    "  else:\n",
    "    new_minors_count.append(2)\n",
    "\n",
    "dataframe['minorsCount'] = new_minors_count"
   ]
  },
  {
   "cell_type": "code",
   "execution_count": 19,
   "metadata": {
    "execution": {
     "iopub.execute_input": "2021-08-08T17:23:45.356446Z",
     "iopub.status.busy": "2021-08-08T17:23:45.355764Z",
     "iopub.status.idle": "2021-08-08T17:23:45.369607Z",
     "shell.execute_reply": "2021-08-08T17:23:45.369050Z",
     "shell.execute_reply.started": "2021-08-06T21:05:42.737147Z"
    },
    "id": "9VdzvJSw0KUU",
    "outputId": "6393784f-234e-4935-9cee-cbcf56b5630a",
    "papermill": {
     "duration": 0.380636,
     "end_time": "2021-08-08T17:23:45.369741",
     "exception": false,
     "start_time": "2021-08-08T17:23:44.989105",
     "status": "completed"
    },
    "tags": []
   },
   "outputs": [
    {
     "name": "stdout",
     "output_type": "stream",
     "text": [
      "we have  1110  users in total.\n"
     ]
    }
   ],
   "source": [
    "print(\"we have \", dataframe['user_id'].nunique(),\" users in total.\")"
   ]
  },
  {
   "cell_type": "code",
   "execution_count": 20,
   "metadata": {
    "execution": {
     "iopub.execute_input": "2021-08-08T17:23:46.096386Z",
     "iopub.status.busy": "2021-08-08T17:23:46.095649Z",
     "iopub.status.idle": "2021-08-08T17:23:46.101952Z",
     "shell.execute_reply": "2021-08-08T17:23:46.101397Z",
     "shell.execute_reply.started": "2021-08-06T21:05:42.755226Z"
    },
    "id": "hUaGk9L9g13t",
    "papermill": {
     "duration": 0.375365,
     "end_time": "2021-08-08T17:23:46.102089",
     "exception": false,
     "start_time": "2021-08-08T17:23:45.726724",
     "status": "completed"
    },
    "tags": []
   },
   "outputs": [],
   "source": [
    "for category in ['term','chapter_label', 'sub_chapter_label', 'question_name']:\n",
    "  dataframe[category] =  dataframe[category].cat.codes"
   ]
  },
  {
   "cell_type": "code",
   "execution_count": 21,
   "metadata": {
    "execution": {
     "iopub.execute_input": "2021-08-08T17:23:46.829197Z",
     "iopub.status.busy": "2021-08-08T17:23:46.828489Z",
     "iopub.status.idle": "2021-08-08T17:23:47.650657Z",
     "shell.execute_reply": "2021-08-08T17:23:47.650092Z",
     "shell.execute_reply.started": "2021-08-06T21:05:42.769234Z"
    },
    "id": "hkyvcYvlhliG",
    "papermill": {
     "duration": 1.189539,
     "end_time": "2021-08-08T17:23:47.650808",
     "exception": false,
     "start_time": "2021-08-08T17:23:46.461269",
     "status": "completed"
    },
    "tags": []
   },
   "outputs": [],
   "source": [
    "NUMERIC_FEATURE =  ['age',\n",
    "            'exclClassCumGPA',\n",
    "            'termCreditsGPA',\n",
    "            'termCreditsNoGPA',\n",
    "            'highSchoolGPA', \n",
    "            'majorsCount', 'minorsCount',\n",
    "            'PREV_TERM_CUM_GPA',\n",
    "            'available_flashcards', \n",
    "            'days_offset', \n",
    "            'prev_time_elapsed',\n",
    "             'time_lag']\n",
    "# z-score normalize the numerical features\n",
    "for f in NUMERIC_FEATURE:\n",
    "  m = dataframe[f].mean()\n",
    "  std = dataframe[f].std()\n",
    "  dataframe[f] = (dataframe[f] - m)/std"
   ]
  },
  {
   "cell_type": "code",
   "execution_count": 22,
   "metadata": {
    "execution": {
     "iopub.execute_input": "2021-08-08T17:23:48.388673Z",
     "iopub.status.busy": "2021-08-08T17:23:48.387992Z",
     "iopub.status.idle": "2021-08-08T17:23:52.018288Z",
     "shell.execute_reply": "2021-08-08T17:23:52.017725Z",
     "shell.execute_reply.started": "2021-08-06T21:05:43.58599Z"
    },
    "id": "wo2OH-d5kWp1",
    "papermill": {
     "duration": 4.003763,
     "end_time": "2021-08-08T17:23:52.018444",
     "exception": false,
     "start_time": "2021-08-08T17:23:48.014681",
     "status": "completed"
    },
    "tags": []
   },
   "outputs": [],
   "source": [
    "FEATURE_TRANS =  ['answer_correct', 'chapter_label', 'sub_chapter_label','question_name','user_id','term',\n",
    "                  'STDNT_SEX_CD', \n",
    "                    'White','Asian','NonWhiteOrAsian',\n",
    "            'STDNT_CTZN_STAT_CD', 'international', \n",
    "            'age',\n",
    "            'exclClassCumGPA',\n",
    "           'Freshman',\n",
    "            'Junior',\n",
    "            'Sophomore',\n",
    "            'Senior',\n",
    "            'termCreditsGPA',\n",
    "            'termCreditsNoGPA',\n",
    "            'athlete_1',\n",
    "            'honorsPro',\n",
    "            'LSA', 'programBusiness', 'programEngineering', \n",
    "            'programInformation', 'programOther',\n",
    "            'HSCalculusTaken', \n",
    "            'highSchoolGPA', \n",
    "            'majorsCount', 'minorsCount',\n",
    "            'PREV_TERM_CUM_GPA',\n",
    "            'classGraded', 'classHonors', \n",
    "            'Pass_Fail', \n",
    "            'parentsGraduateEdu',  'minorityGroup', \n",
    "            'available_flashcards', \n",
    "            'days_offset', 'prev_time_elapsed',\n",
    "             'time_lag']\n",
    "grouped_data = dataframe[FEATURE_TRANS].groupby(['user_id']).apply(lambda r: (\n",
    "                r['answer_correct'],\n",
    "                r['term'],\n",
    "                r['chapter_label'],\n",
    "                r['sub_chapter_label'],\n",
    "                r['question_name'],\n",
    "                np.array([\n",
    "                  r['STDNT_SEX_CD'],r['STDNT_CTZN_STAT_CD'], r['international'], \n",
    "                  r['White'],r['Asian'],r['NonWhiteOrAsian'],\n",
    "                 r['age'],r['exclClassCumGPA'],\n",
    "                r['Freshman'], r['Junior'], r['Sophomore'], r['Senior'],\n",
    "                r['termCreditsGPA'], r['termCreditsNoGPA'],\n",
    "                r['athlete_1'], r['honorsPro'],\n",
    "                r['LSA'], r['programBusiness'], r['programEngineering'], \n",
    "                r['programInformation'], r['programOther'],\n",
    "                r['HSCalculusTaken'],  r['highSchoolGPA'], \n",
    "                r['majorsCount'], r['minorsCount'],\n",
    "                r['PREV_TERM_CUM_GPA'], \n",
    "                r['parentsGraduateEdu'], r['minorityGroup'],\n",
    "                r['available_flashcards'],\n",
    "                r['days_offset'],\n",
    "#                 r['prev_time_elapsed'],\n",
    "#                 r['time_lag']\n",
    "              ]).transpose()\n",
    "                ))"
   ]
  },
  {
   "cell_type": "code",
   "execution_count": 23,
   "metadata": {
    "execution": {
     "iopub.execute_input": "2021-08-08T17:23:52.935778Z",
     "iopub.status.busy": "2021-08-08T17:23:52.934643Z",
     "iopub.status.idle": "2021-08-08T17:23:52.938997Z",
     "shell.execute_reply": "2021-08-08T17:23:52.939462Z",
     "shell.execute_reply.started": "2021-08-06T21:05:47.879421Z"
    },
    "id": "XXLqQnjrlp_4",
    "outputId": "c801da79-f0bf-4fe5-b19c-7c799fe01556",
    "papermill": {
     "duration": 0.563282,
     "end_time": "2021-08-08T17:23:52.939634",
     "exception": false,
     "start_time": "2021-08-08T17:23:52.376352",
     "status": "completed"
    },
    "tags": []
   },
   "outputs": [
    {
     "data": {
      "text/plain": [
       "20"
      ]
     },
     "execution_count": 23,
     "metadata": {},
     "output_type": "execute_result"
    }
   ],
   "source": [
    "gc.collect()"
   ]
  },
  {
   "cell_type": "code",
   "execution_count": 24,
   "metadata": {
    "execution": {
     "iopub.execute_input": "2021-08-08T17:23:53.678659Z",
     "iopub.status.busy": "2021-08-08T17:23:53.678007Z",
     "iopub.status.idle": "2021-08-08T17:23:53.701648Z",
     "shell.execute_reply": "2021-08-08T17:23:53.700924Z",
     "shell.execute_reply.started": "2021-08-06T21:05:48.079782Z"
    },
    "id": "QYGQasdTrmP0",
    "papermill": {
     "duration": 0.403341,
     "end_time": "2021-08-08T17:23:53.701808",
     "exception": false,
     "start_time": "2021-08-08T17:23:53.298467",
     "status": "completed"
    },
    "tags": []
   },
   "outputs": [],
   "source": [
    "# remove students who don't have make any interactions with the tool\n",
    "toRemove = []\n",
    "for index in grouped_data.index:\n",
    "  if len(grouped_data[index][0]) <= 10:\n",
    "    toRemove.append(index)\n",
    "grouped_data = grouped_data.drop(index=toRemove)"
   ]
  },
  {
   "cell_type": "code",
   "execution_count": 25,
   "metadata": {
    "execution": {
     "iopub.execute_input": "2021-08-08T17:23:54.423255Z",
     "iopub.status.busy": "2021-08-08T17:23:54.422219Z",
     "iopub.status.idle": "2021-08-08T17:23:54.439291Z",
     "shell.execute_reply": "2021-08-08T17:23:54.438692Z",
     "shell.execute_reply.started": "2021-08-06T21:05:48.128536Z"
    },
    "papermill": {
     "duration": 0.379223,
     "end_time": "2021-08-08T17:23:54.439432",
     "exception": false,
     "start_time": "2021-08-08T17:23:54.060209",
     "status": "completed"
    },
    "tags": []
   },
   "outputs": [
    {
     "data": {
      "text/plain": [
       "count    1110.000000\n",
       "mean      550.263063\n",
       "std       201.281353\n",
       "min         2.000000\n",
       "25%       438.250000\n",
       "50%       520.500000\n",
       "75%       637.750000\n",
       "max      1500.000000\n",
       "Name: start_practice, dtype: float64"
      ]
     },
     "execution_count": 25,
     "metadata": {},
     "output_type": "execute_result"
    }
   ],
   "source": [
    "dataframe.groupby('user_id')['start_practice'].agg('count').describe()"
   ]
  },
  {
   "cell_type": "code",
   "execution_count": 26,
   "metadata": {
    "execution": {
     "iopub.execute_input": "2021-08-08T17:23:55.166672Z",
     "iopub.status.busy": "2021-08-08T17:23:55.166076Z",
     "iopub.status.idle": "2021-08-08T17:23:55.168423Z",
     "shell.execute_reply": "2021-08-08T17:23:55.168901Z",
     "shell.execute_reply.started": "2021-08-06T21:05:48.148935Z"
    },
    "papermill": {
     "duration": 0.369881,
     "end_time": "2021-08-08T17:23:55.169068",
     "exception": false,
     "start_time": "2021-08-08T17:23:54.799187",
     "status": "completed"
    },
    "tags": []
   },
   "outputs": [
    {
     "data": {
      "text/plain": [
       "['FA 2018:252', 'WN 2018:295']"
      ]
     },
     "execution_count": 26,
     "metadata": {},
     "output_type": "execute_result"
    }
   ],
   "source": [
    "toRemove"
   ]
  },
  {
   "cell_type": "code",
   "execution_count": 27,
   "metadata": {
    "execution": {
     "iopub.execute_input": "2021-08-08T17:23:55.889948Z",
     "iopub.status.busy": "2021-08-08T17:23:55.889314Z",
     "iopub.status.idle": "2021-08-08T17:23:55.894024Z",
     "shell.execute_reply": "2021-08-08T17:23:55.893440Z",
     "shell.execute_reply.started": "2021-08-06T21:05:48.155466Z"
    },
    "id": "9kZqV9siDyNb",
    "papermill": {
     "duration": 0.367388,
     "end_time": "2021-08-08T17:23:55.894159",
     "exception": false,
     "start_time": "2021-08-08T17:23:55.526771",
     "status": "completed"
    },
    "tags": []
   },
   "outputs": [],
   "source": [
    "#SETTINGS -> can be modified at any time\n",
    "MAXLENGTH = 400\n",
    "EMBEDDING_DIM = 128\n",
    "DENSE_NEURON = 16\n",
    "LSTM_NEURON = 32"
   ]
  },
  {
   "cell_type": "code",
   "execution_count": 28,
   "metadata": {
    "execution": {
     "iopub.execute_input": "2021-08-08T17:23:56.610694Z",
     "iopub.status.busy": "2021-08-08T17:23:56.610059Z",
     "iopub.status.idle": "2021-08-08T17:23:56.614212Z",
     "shell.execute_reply": "2021-08-08T17:23:56.614743Z",
     "shell.execute_reply.started": "2021-08-06T21:05:48.168321Z"
    },
    "id": "1MksD1JizpPn",
    "papermill": {
     "duration": 0.364121,
     "end_time": "2021-08-08T17:23:56.614930",
     "exception": false,
     "start_time": "2021-08-08T17:23:56.250809",
     "status": "completed"
    },
    "tags": []
   },
   "outputs": [],
   "source": [
    "FEATURES_SIZE = 37\n",
    "CHAPTER_SIZE = 38\n",
    "SUB_CHAPTER_SIZE = 223\n",
    "QUESTION_SIZE = 1069"
   ]
  },
  {
   "cell_type": "code",
   "execution_count": 29,
   "metadata": {
    "execution": {
     "iopub.execute_input": "2021-08-08T17:23:57.334692Z",
     "iopub.status.busy": "2021-08-08T17:23:57.334072Z",
     "iopub.status.idle": "2021-08-08T17:23:57.345604Z",
     "shell.execute_reply": "2021-08-08T17:23:57.346255Z",
     "shell.execute_reply.started": "2021-08-06T21:05:48.18102Z"
    },
    "papermill": {
     "duration": 0.37155,
     "end_time": "2021-08-08T17:23:57.346445",
     "exception": false,
     "start_time": "2021-08-08T17:23:56.974895",
     "status": "completed"
    },
    "tags": []
   },
   "outputs": [
    {
     "data": {
      "text/plain": [
       "array([ 96,  86,  88,  28,  12,  82, 125,  32,  69,  33,  21, 115, 120,\n",
       "       119,  91,  73,  57,  77, 117,  40,  74,  41,  68,  39,  92,  47,\n",
       "       104,  95,  53,  49,  50,  16,  52,  55,   7,  15,  51, 102, 103,\n",
       "        11,  94, 108, 100,  17,  67,  63,  13, 139,  26,  25,   8, 107,\n",
       "         0,  90,  48,  54, 138,   1,   2,   3,  34,  35,  85,   5,  24,\n",
       "        37,  36,  78,  70,  45, 142,  71,  10,  89, 111, 112, 109, 116,\n",
       "        76,  72, 148, 134, 146, 221, 143,  56,  60,  61,  23, 140, 106,\n",
       "        42,  83,  22, 145, 136, 144,  38,   4,  19, 137,  75,  43,  98,\n",
       "        84, 113, 173, 174, 175, 176, 177, 178, 180, 181, 182, 187, 189,\n",
       "       190, 191, 192, 193, 195, 197, 151, 152, 153, 156, 157, 158, 159,\n",
       "       160, 161, 163, 164, 165, 166, 167, 168, 169, 170, 171, 172, 198,\n",
       "       199, 200, 201, 202, 203, 204, 205, 206, 207, 208, 209, 210, 162,\n",
       "       179, 186, 188, 194, 183, 184, 185, 211, 212, 213, 154, 155, 196,\n",
       "         6, 118,  18, 215,  46, 216, 141,  27, 217, 105, 123, 218, 101,\n",
       "       124, 219, 122, 220,  58,  59,  64,  20,  93,  65,  66,   9,  44,\n",
       "        30,  14,  79, 121,  31, 110, 129,  87,  97,  62, 149, 132, 131,\n",
       "       150, 130, 128,  99, 147, 127, 214, 135,  80, 126, 133,  81, 114,\n",
       "        29], dtype=int16)"
      ]
     },
     "execution_count": 29,
     "metadata": {},
     "output_type": "execute_result"
    }
   ],
   "source": [
    "dataframe['sub_chapter_label'].unique()"
   ]
  },
  {
   "cell_type": "code",
   "execution_count": 30,
   "metadata": {
    "execution": {
     "iopub.execute_input": "2021-08-08T17:23:58.071385Z",
     "iopub.status.busy": "2021-08-08T17:23:58.070656Z",
     "iopub.status.idle": "2021-08-08T17:23:59.095880Z",
     "shell.execute_reply": "2021-08-08T17:23:59.094924Z",
     "shell.execute_reply.started": "2021-08-06T21:05:48.201622Z"
    },
    "id": "mY3Thp6d0NaT",
    "papermill": {
     "duration": 1.391871,
     "end_time": "2021-08-08T17:23:59.096036",
     "exception": false,
     "start_time": "2021-08-08T17:23:57.704165",
     "status": "completed"
    },
    "tags": []
   },
   "outputs": [],
   "source": [
    "#create dataset class\n",
    "#to prepare it for train, valid, and test sets\n",
    "from torch.utils.data import Dataset, DataLoader\n",
    "class SPACE_DATASET(Dataset):\n",
    "    def __init__(self, data, maxlength = 400):\n",
    "        super(SPACE_DATASET, self).__init__()\n",
    "        self.maxlength = maxlength\n",
    "        self.data = data\n",
    "        self.users = list()\n",
    "        for user in data.index:\n",
    "            self.users.append(user)\n",
    "\n",
    "    def __len__(self):\n",
    "        return len(self.users)\n",
    "    \n",
    "    def __getitem__(self, ix):\n",
    "        user = self.users[ix]\n",
    "        user = user\n",
    "        target, term, ch_label, sub_ch_label, ques_name, features = self.data[user]\n",
    "        \n",
    "        #0s should be used as padding values\n",
    "        ori_target = target.values \n",
    "        term = term.values\n",
    "        ch_label = ch_label.values + 1\n",
    "        sub_ch_label = sub_ch_label.values +1\n",
    "        ques_name = ques_name.values + 1\n",
    "        \n",
    "        n = len(ch_label)\n",
    "\n",
    "        # one hot for term\n",
    "        term_encode = [0]*7\n",
    "        term_encode[term[0]] = 1\n",
    "        shifted_target= []\n",
    "\n",
    "        \n",
    "        # get  user interaction informations in the previous MAXLEN interactions\n",
    "        if n > self.maxlength:\n",
    "          ch_label = ch_label[-self.maxlength:]\n",
    "          sub_ch_label = sub_ch_label[-self.maxlength:]\n",
    "          ques_name = ques_name[-self.maxlength:]\n",
    "          features = features[-self.maxlength:]\n",
    "          target = ori_target[-self.maxlength:]\n",
    "          shifted_target = ori_target[ (-self.maxlength - 1) :-1]\n",
    "        else:\n",
    "          ch_label = [0]*(self.maxlength - n)+list(ch_label[:])\n",
    "          sub_ch_label = [0]*(self.maxlength - n)+list(sub_ch_label[:])\n",
    "          ques_name = [0]*(self.maxlength - n)+list(ques_name[:])\n",
    "          features = [[0]*len(features[0])]*(self.maxlength  - n)+list(features[:])\n",
    "          target = [-1]*(self.maxlength - n) + list(ori_target[:])\n",
    "          shifted_target = [2]*(self.maxlength + 1 - n) + list(ori_target[:-1])\n",
    "\n",
    "        new_features = []\n",
    "        count = 0\n",
    "        for f in features:\n",
    "          temp = list(f)\n",
    "          temp.extend(term_encode)\n",
    "          #temp.append(shifted_target[count]) #uncomment this line for include previous response feature\n",
    "          new_features.append(temp)\n",
    "          count += 1\n",
    "        features = new_features\n",
    "        return ch_label,sub_ch_label,ques_name,features, shifted_target, target"
   ]
  },
  {
   "cell_type": "code",
   "execution_count": 31,
   "metadata": {
    "execution": {
     "iopub.execute_input": "2021-08-08T17:23:59.818892Z",
     "iopub.status.busy": "2021-08-08T17:23:59.818207Z",
     "iopub.status.idle": "2021-08-08T17:23:59.821157Z",
     "shell.execute_reply": "2021-08-08T17:23:59.821737Z",
     "shell.execute_reply.started": "2021-08-06T21:05:49.347481Z"
    },
    "papermill": {
     "duration": 0.366528,
     "end_time": "2021-08-08T17:23:59.821929",
     "exception": false,
     "start_time": "2021-08-08T17:23:59.455401",
     "status": "completed"
    },
    "tags": []
   },
   "outputs": [
    {
     "data": {
      "text/plain": [
       "223"
      ]
     },
     "execution_count": 31,
     "metadata": {},
     "output_type": "execute_result"
    }
   ],
   "source": [
    "SUB_CHAPTER_SIZE"
   ]
  },
  {
   "cell_type": "markdown",
   "metadata": {
    "id": "4xc90-aLzxat",
    "papermill": {
     "duration": 0.356587,
     "end_time": "2021-08-08T17:24:00.567688",
     "exception": false,
     "start_time": "2021-08-08T17:24:00.211101",
     "status": "completed"
    },
    "tags": []
   },
   "source": [
    "## KFOLD - LSTM\n"
   ]
  },
  {
   "cell_type": "code",
   "execution_count": 32,
   "metadata": {
    "execution": {
     "iopub.execute_input": "2021-08-08T17:24:01.296959Z",
     "iopub.status.busy": "2021-08-08T17:24:01.296169Z",
     "iopub.status.idle": "2021-08-08T17:42:33.290259Z",
     "shell.execute_reply": "2021-08-08T17:42:33.290689Z",
     "shell.execute_reply.started": "2021-08-06T21:05:49.358265Z"
    },
    "id": "gzJrljnjzypP",
    "outputId": "87abe488-b493-4f8f-9d71-45cb1d2ddf51",
    "papermill": {
     "duration": 1112.361213,
     "end_time": "2021-08-08T17:42:33.290908",
     "exception": false,
     "start_time": "2021-08-08T17:24:00.929695",
     "status": "completed"
    },
    "tags": []
   },
   "outputs": [
    {
     "name": "stdout",
     "output_type": "stream",
     "text": [
      "Epoch 1/100\n",
      "14/14 [==============================] - 19s 872ms/step - loss: 0.5962 - masked_acc: 0.5735 - masked_auc: 0.5393 - val_loss: 0.4742 - val_masked_acc: 0.6986 - val_masked_auc: 0.6383\n",
      "Epoch 2/100\n",
      "14/14 [==============================] - 10s 679ms/step - loss: 0.4968 - masked_acc: 0.7044 - masked_auc: 0.6652 - val_loss: 0.4198 - val_masked_acc: 0.7223 - val_masked_auc: 0.7114\n",
      "Epoch 3/100\n",
      "14/14 [==============================] - 10s 700ms/step - loss: 0.4373 - masked_acc: 0.7279 - masked_auc: 0.7273 - val_loss: 0.3917 - val_masked_acc: 0.7413 - val_masked_auc: 0.7575\n",
      "Epoch 4/100\n",
      "14/14 [==============================] - 9s 659ms/step - loss: 0.4214 - masked_acc: 0.7446 - masked_auc: 0.7662 - val_loss: 0.3859 - val_masked_acc: 0.7526 - val_masked_auc: 0.7824\n",
      "Epoch 5/100\n",
      "14/14 [==============================] - 9s 673ms/step - loss: 0.4074 - masked_acc: 0.7549 - masked_auc: 0.7876 - val_loss: 0.3845 - val_masked_acc: 0.7598 - val_masked_auc: 0.7974\n",
      "Epoch 6/100\n",
      "14/14 [==============================] - 9s 663ms/step - loss: 0.4111 - masked_acc: 0.7611 - masked_auc: 0.8003 - val_loss: 0.3819 - val_masked_acc: 0.7649 - val_masked_auc: 0.8073\n",
      "Epoch 7/100\n",
      "14/14 [==============================] - 9s 676ms/step - loss: 0.4025 - masked_acc: 0.7659 - masked_auc: 0.8096 - val_loss: 0.3797 - val_masked_acc: 0.7687 - val_masked_auc: 0.8147\n",
      "Epoch 8/100\n",
      "14/14 [==============================] - 9s 654ms/step - loss: 0.4003 - masked_acc: 0.7695 - masked_auc: 0.8166 - val_loss: 0.3781 - val_masked_acc: 0.7718 - val_masked_auc: 0.8204\n",
      "Epoch 9/100\n",
      "14/14 [==============================] - 10s 702ms/step - loss: 0.3945 - masked_acc: 0.7725 - masked_auc: 0.8218 - val_loss: 0.3761 - val_masked_acc: 0.7744 - val_masked_auc: 0.8250\n",
      "Epoch 10/100\n",
      "14/14 [==============================] - 10s 684ms/step - loss: 0.3992 - masked_acc: 0.7749 - masked_auc: 0.8261 - val_loss: 0.3773 - val_masked_acc: 0.7765 - val_masked_auc: 0.8287\n",
      "Epoch 11/100\n",
      "14/14 [==============================] - 10s 701ms/step - loss: 0.3892 - masked_acc: 0.7771 - masked_auc: 0.8297 - val_loss: 0.3760 - val_masked_acc: 0.7784 - val_masked_auc: 0.8319\n",
      "Epoch 12/100\n",
      "14/14 [==============================] - 10s 684ms/step - loss: 0.3921 - masked_acc: 0.7788 - masked_auc: 0.8328 - val_loss: 0.3747 - val_masked_acc: 0.7802 - val_masked_auc: 0.8348\n",
      "Epoch 13/100\n",
      "14/14 [==============================] - 9s 675ms/step - loss: 0.3887 - masked_acc: 0.7805 - masked_auc: 0.8356 - val_loss: 0.3740 - val_masked_acc: 0.7818 - val_masked_auc: 0.8375\n",
      "Epoch 14/100\n",
      "14/14 [==============================] - 9s 681ms/step - loss: 0.3862 - masked_acc: 0.7821 - masked_auc: 0.8381 - val_loss: 0.3738 - val_masked_acc: 0.7832 - val_masked_auc: 0.8398\n",
      "Epoch 15/100\n",
      "14/14 [==============================] - 10s 716ms/step - loss: 0.3899 - masked_acc: 0.7834 - masked_auc: 0.8403 - val_loss: 0.3747 - val_masked_acc: 0.7845 - val_masked_auc: 0.8419\n",
      "Epoch 16/100\n",
      "14/14 [==============================] - 9s 673ms/step - loss: 0.3786 - masked_acc: 0.7848 - masked_auc: 0.8425 - val_loss: 0.3751 - val_masked_acc: 0.7859 - val_masked_auc: 0.8439\n",
      "Epoch 17/100\n",
      "14/14 [==============================] - 10s 689ms/step - loss: 0.3791 - masked_acc: 0.7861 - masked_auc: 0.8445 - val_loss: 0.3758 - val_masked_acc: 0.7871 - val_masked_auc: 0.8458\n",
      "Epoch 18/100\n",
      "14/14 [==============================] - 9s 673ms/step - loss: 0.3726 - masked_acc: 0.7874 - masked_auc: 0.8463 - val_loss: 0.3808 - val_masked_acc: 0.7882 - val_masked_auc: 0.8475\n",
      "Epoch 19/100\n",
      "14/14 [==============================] - 10s 697ms/step - loss: 0.3734 - masked_acc: 0.7884 - masked_auc: 0.8480 - val_loss: 0.3841 - val_masked_acc: 0.7892 - val_masked_auc: 0.8491\n",
      "Epoch 20/100\n",
      "14/14 [==============================] - 9s 670ms/step - loss: 0.3705 - masked_acc: 0.7895 - masked_auc: 0.8496 - val_loss: 0.3826 - val_masked_acc: 0.7903 - val_masked_auc: 0.8507\n",
      "Epoch 21/100\n",
      "14/14 [==============================] - 9s 678ms/step - loss: 0.3626 - masked_acc: 0.7906 - masked_auc: 0.8511 - val_loss: 0.3859 - val_masked_acc: 0.7913 - val_masked_auc: 0.8522\n",
      "Epoch 22/100\n",
      "14/14 [==============================] - 10s 690ms/step - loss: 0.3533 - masked_acc: 0.7916 - masked_auc: 0.8527 - val_loss: 0.3903 - val_masked_acc: 0.7923 - val_masked_auc: 0.8537\n",
      "Epoch 23/100\n",
      "14/14 [==============================] - 10s 695ms/step - loss: 0.3534 - masked_acc: 0.7926 - masked_auc: 0.8541 - val_loss: 0.4004 - val_masked_acc: 0.7933 - val_masked_auc: 0.8551\n",
      "Epoch 24/100\n",
      "14/14 [==============================] - 9s 662ms/step - loss: 0.3536 - masked_acc: 0.7935 - masked_auc: 0.8555 - val_loss: 0.4029 - val_masked_acc: 0.7942 - val_masked_auc: 0.8564\n",
      "28/28 [==============================] - 3s 104ms/step - loss: 0.3530 - masked_acc: 0.7948 - masked_auc: 0.8572\n",
      "4/4 [==============================] - 0s 88ms/step - loss: 0.4301 - masked_acc: 0.7950 - masked_auc: 0.8576\n",
      "Test:  [0.43014997243881226, 0.7949903011322021, 0.8576286435127258]\n",
      "Epoch 1/100\n",
      "14/14 [==============================] - 19s 849ms/step - loss: 0.5881 - masked_acc: 0.7052 - masked_auc: 0.5372 - val_loss: 0.5254 - val_masked_acc: 0.7168 - val_masked_auc: 0.6385\n",
      "Epoch 2/100\n",
      "14/14 [==============================] - 10s 684ms/step - loss: 0.4790 - masked_acc: 0.7219 - masked_auc: 0.6698 - val_loss: 0.4510 - val_masked_acc: 0.7393 - val_masked_auc: 0.7286\n",
      "Epoch 3/100\n",
      "14/14 [==============================] - 10s 694ms/step - loss: 0.4167 - masked_acc: 0.7443 - masked_auc: 0.7440 - val_loss: 0.4359 - val_masked_acc: 0.7542 - val_masked_auc: 0.7717\n",
      "Epoch 4/100\n",
      "14/14 [==============================] - 9s 665ms/step - loss: 0.4058 - masked_acc: 0.7569 - masked_auc: 0.7795 - val_loss: 0.4290 - val_masked_acc: 0.7628 - val_masked_auc: 0.7932\n",
      "Epoch 5/100\n",
      "14/14 [==============================] - 9s 681ms/step - loss: 0.3976 - masked_acc: 0.7646 - masked_auc: 0.7974 - val_loss: 0.4273 - val_masked_acc: 0.7685 - val_masked_auc: 0.8063\n",
      "Epoch 6/100\n",
      "14/14 [==============================] - 9s 668ms/step - loss: 0.3979 - masked_acc: 0.7697 - masked_auc: 0.8091 - val_loss: 0.4273 - val_masked_acc: 0.7725 - val_masked_auc: 0.8150\n",
      "Epoch 7/100\n",
      "14/14 [==============================] - 9s 655ms/step - loss: 0.3966 - masked_acc: 0.7733 - masked_auc: 0.8169 - val_loss: 0.4297 - val_masked_acc: 0.7754 - val_masked_auc: 0.8213\n",
      "Epoch 8/100\n",
      "14/14 [==============================] - 10s 689ms/step - loss: 0.3914 - masked_acc: 0.7761 - masked_auc: 0.8228 - val_loss: 0.4268 - val_masked_acc: 0.7777 - val_masked_auc: 0.8259\n",
      "Epoch 9/100\n",
      "14/14 [==============================] - 9s 665ms/step - loss: 0.3932 - masked_acc: 0.7783 - masked_auc: 0.8271 - val_loss: 0.4257 - val_masked_acc: 0.7798 - val_masked_auc: 0.8298\n",
      "Epoch 10/100\n",
      "14/14 [==============================] - 9s 657ms/step - loss: 0.3791 - masked_acc: 0.7804 - masked_auc: 0.8310 - val_loss: 0.4245 - val_masked_acc: 0.7816 - val_masked_auc: 0.8332\n",
      "Epoch 11/100\n",
      "14/14 [==============================] - 9s 661ms/step - loss: 0.3831 - masked_acc: 0.7821 - masked_auc: 0.8342 - val_loss: 0.4244 - val_masked_acc: 0.7832 - val_masked_auc: 0.8362\n",
      "Epoch 12/100\n",
      "14/14 [==============================] - 10s 691ms/step - loss: 0.3761 - masked_acc: 0.7837 - masked_auc: 0.8371 - val_loss: 0.4257 - val_masked_acc: 0.7847 - val_masked_auc: 0.8388\n",
      "Epoch 13/100\n",
      "14/14 [==============================] - 10s 685ms/step - loss: 0.3816 - masked_acc: 0.7850 - masked_auc: 0.8395 - val_loss: 0.4266 - val_masked_acc: 0.7861 - val_masked_auc: 0.8412\n",
      "Epoch 14/100\n",
      "14/14 [==============================] - 9s 666ms/step - loss: 0.3795 - masked_acc: 0.7864 - masked_auc: 0.8419 - val_loss: 0.4255 - val_masked_acc: 0.7873 - val_masked_auc: 0.8433\n",
      "Epoch 15/100\n",
      "14/14 [==============================] - 10s 683ms/step - loss: 0.3791 - masked_acc: 0.7875 - masked_auc: 0.8439 - val_loss: 0.4273 - val_masked_acc: 0.7884 - val_masked_auc: 0.8452\n",
      "Epoch 16/100\n",
      "14/14 [==============================] - 9s 673ms/step - loss: 0.3755 - masked_acc: 0.7886 - masked_auc: 0.8457 - val_loss: 0.4290 - val_masked_acc: 0.7895 - val_masked_auc: 0.8471\n",
      "Epoch 17/100\n",
      "14/14 [==============================] - 9s 656ms/step - loss: 0.3647 - masked_acc: 0.7898 - masked_auc: 0.8477 - val_loss: 0.4283 - val_masked_acc: 0.7905 - val_masked_auc: 0.8488\n",
      "Epoch 18/100\n",
      "14/14 [==============================] - 9s 668ms/step - loss: 0.3663 - masked_acc: 0.7908 - masked_auc: 0.8493 - val_loss: 0.4310 - val_masked_acc: 0.7915 - val_masked_auc: 0.8505\n",
      "Epoch 19/100\n",
      "14/14 [==============================] - 10s 688ms/step - loss: 0.3615 - masked_acc: 0.7918 - masked_auc: 0.8509 - val_loss: 0.4338 - val_masked_acc: 0.7925 - val_masked_auc: 0.8520\n",
      "Epoch 20/100\n",
      "14/14 [==============================] - 9s 642ms/step - loss: 0.3602 - masked_acc: 0.7928 - masked_auc: 0.8525 - val_loss: 0.4408 - val_masked_acc: 0.7935 - val_masked_auc: 0.8535\n",
      "Epoch 21/100\n",
      "14/14 [==============================] - 9s 669ms/step - loss: 0.3483 - masked_acc: 0.7938 - masked_auc: 0.8540 - val_loss: 0.4405 - val_masked_acc: 0.7944 - val_masked_auc: 0.8550\n",
      "28/28 [==============================] - 3s 107ms/step - loss: 0.3496 - masked_acc: 0.7952 - masked_auc: 0.8559\n",
      "4/4 [==============================] - 0s 97ms/step - loss: 0.4248 - masked_acc: 0.7955 - masked_auc: 0.8565\n",
      "Test:  [0.4247543513774872, 0.7954644560813904, 0.8564878702163696]\n",
      "Epoch 1/100\n",
      "14/14 [==============================] - 19s 877ms/step - loss: 0.5882 - masked_acc: 0.6875 - masked_auc: 0.5444 - val_loss: 0.5061 - val_masked_acc: 0.7121 - val_masked_auc: 0.6470\n",
      "Epoch 2/100\n",
      "14/14 [==============================] - 9s 651ms/step - loss: 0.4780 - masked_acc: 0.7193 - masked_auc: 0.6782 - val_loss: 0.4410 - val_masked_acc: 0.7356 - val_masked_auc: 0.7302\n",
      "Epoch 3/100\n",
      "14/14 [==============================] - 9s 681ms/step - loss: 0.4252 - masked_acc: 0.7409 - masked_auc: 0.7451 - val_loss: 0.4262 - val_masked_acc: 0.7511 - val_masked_auc: 0.7714\n",
      "Epoch 4/100\n",
      "14/14 [==============================] - 9s 677ms/step - loss: 0.4074 - masked_acc: 0.7542 - masked_auc: 0.7792 - val_loss: 0.4211 - val_masked_acc: 0.7599 - val_masked_auc: 0.7923\n",
      "Epoch 5/100\n",
      "14/14 [==============================] - 9s 653ms/step - loss: 0.4046 - masked_acc: 0.7620 - masked_auc: 0.7965 - val_loss: 0.4208 - val_masked_acc: 0.7658 - val_masked_auc: 0.8049\n",
      "Epoch 6/100\n",
      "14/14 [==============================] - 9s 681ms/step - loss: 0.4031 - masked_acc: 0.7671 - masked_auc: 0.8079 - val_loss: 0.4177 - val_masked_acc: 0.7699 - val_masked_auc: 0.8135\n",
      "Epoch 7/100\n",
      "14/14 [==============================] - 9s 675ms/step - loss: 0.3989 - masked_acc: 0.7709 - masked_auc: 0.8155 - val_loss: 0.4172 - val_masked_acc: 0.7731 - val_masked_auc: 0.8200\n",
      "Epoch 8/100\n",
      "14/14 [==============================] - 9s 657ms/step - loss: 0.4028 - masked_acc: 0.7738 - masked_auc: 0.8216 - val_loss: 0.4165 - val_masked_acc: 0.7757 - val_masked_auc: 0.8250\n",
      "Epoch 9/100\n",
      "14/14 [==============================] - 9s 656ms/step - loss: 0.3915 - masked_acc: 0.7764 - masked_auc: 0.8262 - val_loss: 0.4136 - val_masked_acc: 0.7780 - val_masked_auc: 0.8292\n",
      "Epoch 10/100\n",
      "14/14 [==============================] - 10s 690ms/step - loss: 0.3861 - masked_acc: 0.7786 - masked_auc: 0.8304 - val_loss: 0.4165 - val_masked_acc: 0.7800 - val_masked_auc: 0.8328\n",
      "Epoch 11/100\n",
      "14/14 [==============================] - 9s 661ms/step - loss: 0.3850 - masked_acc: 0.7805 - masked_auc: 0.8338 - val_loss: 0.4171 - val_masked_acc: 0.7818 - val_masked_auc: 0.8360\n",
      "Epoch 12/100\n",
      "14/14 [==============================] - 9s 652ms/step - loss: 0.3791 - masked_acc: 0.7823 - masked_auc: 0.8369 - val_loss: 0.4157 - val_masked_acc: 0.7834 - val_masked_auc: 0.8387\n",
      "Epoch 13/100\n",
      "14/14 [==============================] - 9s 665ms/step - loss: 0.3818 - masked_acc: 0.7838 - masked_auc: 0.8394 - val_loss: 0.4135 - val_masked_acc: 0.7849 - val_masked_auc: 0.8412\n",
      "Epoch 14/100\n",
      "14/14 [==============================] - 10s 699ms/step - loss: 0.3734 - masked_acc: 0.7853 - masked_auc: 0.8419 - val_loss: 0.4156 - val_masked_acc: 0.7863 - val_masked_auc: 0.8435\n",
      "Epoch 15/100\n",
      "14/14 [==============================] - 9s 652ms/step - loss: 0.3792 - masked_acc: 0.7866 - masked_auc: 0.8441 - val_loss: 0.4163 - val_masked_acc: 0.7876 - val_masked_auc: 0.8456\n",
      "Epoch 16/100\n",
      "14/14 [==============================] - 9s 658ms/step - loss: 0.3658 - masked_acc: 0.7881 - masked_auc: 0.8463 - val_loss: 0.4188 - val_masked_acc: 0.7888 - val_masked_auc: 0.8475\n",
      "Epoch 17/100\n",
      "14/14 [==============================] - 10s 694ms/step - loss: 0.3626 - masked_acc: 0.7892 - masked_auc: 0.8481 - val_loss: 0.4211 - val_masked_acc: 0.7899 - val_masked_auc: 0.8492\n",
      "Epoch 18/100\n",
      "14/14 [==============================] - 9s 660ms/step - loss: 0.3679 - masked_acc: 0.7902 - masked_auc: 0.8497 - val_loss: 0.4183 - val_masked_acc: 0.7909 - val_masked_auc: 0.8508\n",
      "Epoch 19/100\n",
      "14/14 [==============================] - 9s 666ms/step - loss: 0.3616 - masked_acc: 0.7913 - masked_auc: 0.8514 - val_loss: 0.4214 - val_masked_acc: 0.7920 - val_masked_auc: 0.8525\n",
      "Epoch 20/100\n",
      "14/14 [==============================] - 9s 652ms/step - loss: 0.3555 - masked_acc: 0.7924 - masked_auc: 0.8530 - val_loss: 0.4271 - val_masked_acc: 0.7930 - val_masked_auc: 0.8540\n",
      "Epoch 21/100\n",
      "14/14 [==============================] - 10s 695ms/step - loss: 0.3498 - masked_acc: 0.7934 - masked_auc: 0.8545 - val_loss: 0.4261 - val_masked_acc: 0.7940 - val_masked_auc: 0.8555\n",
      "Epoch 22/100\n",
      "14/14 [==============================] - 9s 661ms/step - loss: 0.3563 - masked_acc: 0.7943 - masked_auc: 0.8560 - val_loss: 0.4335 - val_masked_acc: 0.7950 - val_masked_auc: 0.8569\n",
      "Epoch 23/100\n",
      "14/14 [==============================] - 9s 658ms/step - loss: 0.3484 - masked_acc: 0.7953 - masked_auc: 0.8574 - val_loss: 0.4303 - val_masked_acc: 0.7960 - val_masked_auc: 0.8584\n",
      "28/28 [==============================] - 3s 108ms/step - loss: 0.3443 - masked_acc: 0.7967 - masked_auc: 0.8593\n",
      "4/4 [==============================] - 0s 96ms/step - loss: 0.4187 - masked_acc: 0.7970 - masked_auc: 0.8598\n",
      "Test:  [0.41868945956230164, 0.7970475554466248, 0.8598272204399109]\n",
      "Epoch 1/100\n",
      "14/14 [==============================] - 18s 804ms/step - loss: 0.5746 - masked_acc: 0.6959 - masked_auc: 0.5891 - val_loss: 0.4876 - val_masked_acc: 0.7207 - val_masked_auc: 0.6804\n",
      "Epoch 2/100\n",
      "14/14 [==============================] - 9s 660ms/step - loss: 0.4705 - masked_acc: 0.7255 - masked_auc: 0.7052 - val_loss: 0.4215 - val_masked_acc: 0.7429 - val_masked_auc: 0.7520\n",
      "Epoch 3/100\n",
      "14/14 [==============================] - 10s 716ms/step - loss: 0.4233 - masked_acc: 0.7473 - masked_auc: 0.7645 - val_loss: 0.4074 - val_masked_acc: 0.7565 - val_masked_auc: 0.7855\n",
      "Epoch 4/100\n",
      "14/14 [==============================] - 9s 655ms/step - loss: 0.4153 - masked_acc: 0.7587 - masked_auc: 0.7917 - val_loss: 0.4031 - val_masked_acc: 0.7642 - val_masked_auc: 0.8026\n",
      "Epoch 5/100\n",
      "14/14 [==============================] - 9s 647ms/step - loss: 0.4063 - masked_acc: 0.7657 - masked_auc: 0.8060 - val_loss: 0.4033 - val_masked_acc: 0.7694 - val_masked_auc: 0.8131\n",
      "Epoch 6/100\n",
      "14/14 [==============================] - 9s 672ms/step - loss: 0.4024 - masked_acc: 0.7704 - masked_auc: 0.8156 - val_loss: 0.4035 - val_masked_acc: 0.7729 - val_masked_auc: 0.8201\n",
      "Epoch 7/100\n",
      "14/14 [==============================] - 9s 680ms/step - loss: 0.4040 - masked_acc: 0.7736 - masked_auc: 0.8218 - val_loss: 0.3983 - val_masked_acc: 0.7757 - val_masked_auc: 0.8254\n",
      "Epoch 8/100\n",
      "14/14 [==============================] - 9s 643ms/step - loss: 0.3993 - masked_acc: 0.7764 - masked_auc: 0.8268 - val_loss: 0.3994 - val_masked_acc: 0.7781 - val_masked_auc: 0.8299\n",
      "Epoch 9/100\n",
      "14/14 [==============================] - 9s 645ms/step - loss: 0.3938 - masked_acc: 0.7786 - masked_auc: 0.8310 - val_loss: 0.3970 - val_masked_acc: 0.7801 - val_masked_auc: 0.8336\n",
      "Epoch 10/100\n",
      "14/14 [==============================] - 10s 688ms/step - loss: 0.3908 - masked_acc: 0.7806 - masked_auc: 0.8346 - val_loss: 0.3946 - val_masked_acc: 0.7819 - val_masked_auc: 0.8368\n",
      "Epoch 11/100\n",
      "14/14 [==============================] - 9s 661ms/step - loss: 0.3836 - masked_acc: 0.7824 - masked_auc: 0.8378 - val_loss: 0.3951 - val_masked_acc: 0.7835 - val_masked_auc: 0.8396\n",
      "Epoch 12/100\n",
      "14/14 [==============================] - 9s 645ms/step - loss: 0.3861 - masked_acc: 0.7839 - masked_auc: 0.8404 - val_loss: 0.3954 - val_masked_acc: 0.7850 - val_masked_auc: 0.8421\n",
      "Epoch 13/100\n",
      "14/14 [==============================] - 9s 674ms/step - loss: 0.3849 - masked_acc: 0.7853 - masked_auc: 0.8428 - val_loss: 0.3955 - val_masked_acc: 0.7864 - val_masked_auc: 0.8444\n",
      "Epoch 14/100\n",
      "14/14 [==============================] - 9s 663ms/step - loss: 0.3807 - masked_acc: 0.7867 - masked_auc: 0.8450 - val_loss: 0.3977 - val_masked_acc: 0.7876 - val_masked_auc: 0.8464\n",
      "Epoch 15/100\n",
      "14/14 [==============================] - 9s 638ms/step - loss: 0.3700 - masked_acc: 0.7880 - masked_auc: 0.8471 - val_loss: 0.4001 - val_masked_acc: 0.7888 - val_masked_auc: 0.8483\n",
      "Epoch 16/100\n",
      "14/14 [==============================] - 9s 641ms/step - loss: 0.3736 - masked_acc: 0.7891 - masked_auc: 0.8488 - val_loss: 0.4003 - val_masked_acc: 0.7899 - val_masked_auc: 0.8501\n",
      "Epoch 17/100\n",
      "14/14 [==============================] - 9s 682ms/step - loss: 0.3699 - masked_acc: 0.7902 - masked_auc: 0.8506 - val_loss: 0.3996 - val_masked_acc: 0.7910 - val_masked_auc: 0.8518\n",
      "Epoch 18/100\n",
      "14/14 [==============================] - 9s 676ms/step - loss: 0.3695 - masked_acc: 0.7912 - masked_auc: 0.8522 - val_loss: 0.4044 - val_masked_acc: 0.7920 - val_masked_auc: 0.8533\n",
      "Epoch 19/100\n",
      "14/14 [==============================] - 9s 647ms/step - loss: 0.3693 - masked_acc: 0.7923 - masked_auc: 0.8538 - val_loss: 0.4047 - val_masked_acc: 0.7930 - val_masked_auc: 0.8548\n",
      "Epoch 20/100\n",
      "14/14 [==============================] - 10s 684ms/step - loss: 0.3584 - masked_acc: 0.7933 - masked_auc: 0.8553 - val_loss: 0.4098 - val_masked_acc: 0.7938 - val_masked_auc: 0.8561\n",
      "28/28 [==============================] - 3s 105ms/step - loss: 0.3619 - masked_acc: 0.7945 - masked_auc: 0.8569\n",
      "4/4 [==============================] - 0s 92ms/step - loss: 0.3909 - masked_acc: 0.7947 - masked_auc: 0.8574\n",
      "Test:  [0.39092135429382324, 0.7947319149971008, 0.8574175238609314]\n",
      "Epoch 1/100\n",
      "14/14 [==============================] - 19s 804ms/step - loss: 0.5723 - masked_acc: 0.6867 - masked_auc: 0.5448 - val_loss: 0.4980 - val_masked_acc: 0.7221 - val_masked_auc: 0.6997\n",
      "Epoch 2/100\n",
      "14/14 [==============================] - 10s 698ms/step - loss: 0.4493 - masked_acc: 0.7301 - masked_auc: 0.7272 - val_loss: 0.4535 - val_masked_acc: 0.7478 - val_masked_auc: 0.7701\n",
      "Epoch 3/100\n",
      "14/14 [==============================] - 10s 693ms/step - loss: 0.4157 - masked_acc: 0.7525 - masked_auc: 0.7803 - val_loss: 0.4480 - val_masked_acc: 0.7597 - val_masked_auc: 0.7960\n",
      "Epoch 4/100\n",
      "14/14 [==============================] - 9s 643ms/step - loss: 0.4130 - masked_acc: 0.7616 - masked_auc: 0.8004 - val_loss: 0.4451 - val_masked_acc: 0.7663 - val_masked_auc: 0.8094\n",
      "Epoch 5/100\n",
      "14/14 [==============================] - 10s 693ms/step - loss: 0.4025 - masked_acc: 0.7677 - masked_auc: 0.8121 - val_loss: 0.4401 - val_masked_acc: 0.7706 - val_masked_auc: 0.8177\n",
      "Epoch 6/100\n",
      "14/14 [==============================] - 9s 661ms/step - loss: 0.4030 - masked_acc: 0.7714 - masked_auc: 0.8196 - val_loss: 0.4382 - val_masked_acc: 0.7736 - val_masked_auc: 0.8237\n",
      "Epoch 7/100\n",
      "14/14 [==============================] - 9s 670ms/step - loss: 0.3973 - masked_acc: 0.7744 - masked_auc: 0.8252 - val_loss: 0.4348 - val_masked_acc: 0.7762 - val_masked_auc: 0.8283\n",
      "Epoch 8/100\n",
      "14/14 [==============================] - 10s 719ms/step - loss: 0.3933 - masked_acc: 0.7768 - masked_auc: 0.8296 - val_loss: 0.4336 - val_masked_acc: 0.7783 - val_masked_auc: 0.8321\n",
      "Epoch 9/100\n",
      "14/14 [==============================] - 9s 663ms/step - loss: 0.3987 - masked_acc: 0.7788 - masked_auc: 0.8330 - val_loss: 0.4305 - val_masked_acc: 0.7802 - val_masked_auc: 0.8353\n",
      "Epoch 10/100\n",
      "14/14 [==============================] - 9s 662ms/step - loss: 0.3803 - masked_acc: 0.7807 - masked_auc: 0.8362 - val_loss: 0.4303 - val_masked_acc: 0.7818 - val_masked_auc: 0.8381\n",
      "Epoch 11/100\n",
      "14/14 [==============================] - 9s 673ms/step - loss: 0.3859 - masked_acc: 0.7822 - masked_auc: 0.8388 - val_loss: 0.4278 - val_masked_acc: 0.7833 - val_masked_auc: 0.8405\n",
      "Epoch 12/100\n",
      "14/14 [==============================] - 10s 697ms/step - loss: 0.3843 - masked_acc: 0.7836 - masked_auc: 0.8412 - val_loss: 0.4305 - val_masked_acc: 0.7845 - val_masked_auc: 0.8426\n",
      "Epoch 13/100\n",
      "14/14 [==============================] - 9s 657ms/step - loss: 0.3820 - masked_acc: 0.7849 - masked_auc: 0.8431 - val_loss: 0.4404 - val_masked_acc: 0.7855 - val_masked_auc: 0.8442\n",
      "Epoch 14/100\n",
      "14/14 [==============================] - 9s 651ms/step - loss: 0.3868 - masked_acc: 0.7858 - masked_auc: 0.8446 - val_loss: 0.4377 - val_masked_acc: 0.7864 - val_masked_auc: 0.8455\n",
      "Epoch 15/100\n",
      "14/14 [==============================] - 10s 714ms/step - loss: 0.3838 - masked_acc: 0.7866 - masked_auc: 0.8460 - val_loss: 0.4342 - val_masked_acc: 0.7872 - val_masked_auc: 0.8469\n",
      "Epoch 16/100\n",
      "14/14 [==============================] - 9s 657ms/step - loss: 0.3784 - masked_acc: 0.7875 - masked_auc: 0.8474 - val_loss: 0.4358 - val_masked_acc: 0.7880 - val_masked_auc: 0.8482\n",
      "Epoch 17/100\n",
      "14/14 [==============================] - 9s 637ms/step - loss: 0.3850 - masked_acc: 0.7882 - masked_auc: 0.8485 - val_loss: 0.4393 - val_masked_acc: 0.7888 - val_masked_auc: 0.8495\n",
      "Epoch 18/100\n",
      "14/14 [==============================] - 9s 653ms/step - loss: 0.3727 - masked_acc: 0.7891 - masked_auc: 0.8499 - val_loss: 0.4369 - val_masked_acc: 0.7895 - val_masked_auc: 0.8505\n",
      "Epoch 19/100\n",
      "14/14 [==============================] - 10s 690ms/step - loss: 0.3702 - masked_acc: 0.7898 - masked_auc: 0.8510 - val_loss: 0.4342 - val_masked_acc: 0.7903 - val_masked_auc: 0.8517\n",
      "Epoch 20/100\n",
      "14/14 [==============================] - 9s 652ms/step - loss: 0.3685 - masked_acc: 0.7905 - masked_auc: 0.8521 - val_loss: 0.4364 - val_masked_acc: 0.7910 - val_masked_auc: 0.8529\n",
      "Epoch 21/100\n",
      "14/14 [==============================] - 9s 671ms/step - loss: 0.3668 - masked_acc: 0.7913 - masked_auc: 0.8532 - val_loss: 0.4385 - val_masked_acc: 0.7918 - val_masked_auc: 0.8540\n",
      "28/28 [==============================] - 3s 106ms/step - loss: 0.3610 - masked_acc: 0.7925 - masked_auc: 0.8549\n",
      "4/4 [==============================] - 0s 95ms/step - loss: 0.3797 - masked_acc: 0.7927 - masked_auc: 0.8553\n",
      "Test:  [0.37965017557144165, 0.7927486896514893, 0.8553225994110107]\n"
     ]
    }
   ],
   "source": [
    "# 5 fold cross validation with LSTM-based model\n",
    "import torch\n",
    "X = np.array(grouped_data.keys())\n",
    "kfold = KFold(n_splits=5, shuffle=True)\n",
    "train_losses = list()\n",
    "train_aucs = list()\n",
    "val_losses = list()\n",
    "val_aucs = list()\n",
    "train_eval = list()\n",
    "test_eval = list()\n",
    "for train, test in kfold.split(X):\n",
    "    users_train, users_test =  X[train], X[test]\n",
    "    n = len(users_test)//2\n",
    "    users_test, users_val = users_test[:n], users_test[n: ]\n",
    "    train_data_space = SPACE_DATASET(grouped_data[users_train], MAXLENGTH)\n",
    "    val_data_space = SPACE_DATASET(grouped_data[users_val], MAXLENGTH)\n",
    "    test_data_space = SPACE_DATASET(grouped_data[users_test], MAXLENGTH)\n",
    "    #construct training input\n",
    "    train_chapter=[]\n",
    "    train_sub_chapter=[]\n",
    "    train_question = []\n",
    "#     train_features=[]\n",
    "    train_shifted_t = []\n",
    "    train_labels=[]\n",
    "    for i in range(len(users_train)):\n",
    "        user = train_data_space.__getitem__(i)\n",
    "        train_chapter.append(user[0])\n",
    "        train_sub_chapter.append(user[1]) \n",
    "        train_question.append(user[2])\n",
    "#         train_features.append(user[3])\n",
    "        train_shifted_t.append(user[4])\n",
    "        train_labels.append(user[5])\n",
    "    train_chapter = np.array(train_chapter)\n",
    "    train_sub_chapter = np.array(train_sub_chapter)\n",
    "    train_question = np.array(train_question)\n",
    "#     train_features = np.array(train_features)\n",
    "    train_shifted_t = np.array(train_shifted_t)\n",
    "    train_labels= np.array(train_labels)[..., np.newaxis]\n",
    "\n",
    "    #construct validation input\n",
    "    val_chapter=[]\n",
    "    val_sub_chapter=[]\n",
    "    val_question = []\n",
    "#     val_features=[]\n",
    "    val_shifted_t = []\n",
    "    val_labels=[]\n",
    "    for i in range(len(users_val)):\n",
    "        user = val_data_space.__getitem__(i)\n",
    "        val_chapter.append(user[0])\n",
    "        val_sub_chapter.append(user[1]) \n",
    "        val_question.append(user[2])\n",
    "#         val_features.append(user[3])\n",
    "        val_shifted_t.append(user[4])\n",
    "        val_labels.append(user[5])\n",
    "    val_chapter = np.array(val_chapter)\n",
    "    val_sub_chapter = np.array(val_sub_chapter)\n",
    "#     val_features = np.array(val_features)\n",
    "    val_question = np.array(val_question)\n",
    "    val_shifted_t = np.array(val_shifted_t)\n",
    "    val_labels= np.array(val_labels)[..., np.newaxis]\n",
    "\n",
    "    # construct test input\n",
    "    test_chapter=[]\n",
    "    test_sub_chapter=[]\n",
    "#     test_features=[]\n",
    "    test_question=[]\n",
    "    test_shifted_t = []\n",
    "    test_labels=[]\n",
    "    for i in range(len(users_test)):\n",
    "        user = test_data_space.__getitem__(i)\n",
    "        test_chapter.append(user[0])\n",
    "        test_sub_chapter.append(user[1]) \n",
    "        test_question.append(user[2])\n",
    "#         test_features.append(user[3])\n",
    "        test_shifted_t.append(user[4])\n",
    "        test_labels.append(user[5])\n",
    "    test_chapter = np.array(test_chapter)\n",
    "    test_sub_chapter = np.array(test_sub_chapter)\n",
    "#     test_features = np.array(test_features)\n",
    "    test_question = np.array(test_question)\n",
    "    test_shifted_t = np.array(test_shifted_t)\n",
    "    test_labels= np.array(test_labels)[..., np.newaxis]\n",
    "\n",
    "    # define loss function and evaluation metrics\n",
    "    bce = tf.keras.losses.BinaryCrossentropy(from_logits=True)\n",
    "    acc = tf.keras.metrics.Accuracy()\n",
    "    auc = tf.keras.metrics.AUC()\n",
    "\n",
    "    def masked_bce(y_true, y_pred):\n",
    "      flat_pred = y_pred\n",
    "      flat_ground_truth = y_true\n",
    "      label_mask = tf.math.not_equal(flat_ground_truth, -1)\n",
    "      return bce(flat_ground_truth, flat_pred, sample_weight=label_mask)\n",
    "\n",
    "    def masked_acc(y_true, y_pred):\n",
    "      flat_pred = y_pred\n",
    "      flat_ground_truth = y_true\n",
    "      flat_pred = (flat_pred >= 0.5)\n",
    "      label_mask = tf.math.not_equal(flat_ground_truth, -1)\n",
    "      return acc(flat_ground_truth, flat_pred, sample_weight=label_mask)\n",
    "\n",
    "    def masked_auc(y_true, y_pred):\n",
    "      flat_pred = y_pred\n",
    "      flat_ground_truth = y_true\n",
    "      label_mask = tf.math.not_equal(flat_ground_truth, -1)\n",
    "      return auc(flat_ground_truth, flat_pred, sample_weight=label_mask)\n",
    "\n",
    "    # input layer\n",
    "    input_chap = tf.keras.Input(shape=(MAXLENGTH))\n",
    "    input_sub_chap = tf.keras.Input(shape=(MAXLENGTH))\n",
    "    input_ques =  tf.keras.Input(shape=(MAXLENGTH))\n",
    "    input_shifted = tf.keras.Input(shape=(MAXLENGTH))\n",
    "#     input_features = tf.keras.Input(shape=(MAXLENGTH, FEATURES_SIZE))\n",
    "\n",
    "    # embedding layer for categorical features\n",
    "    embedding_chap = Embedding(input_dim = CHAPTER_SIZE, output_dim = EMBEDDING_DIM)(input_chap)\n",
    "    embedding_sub_chap = Embedding(input_dim = SUB_CHAPTER_SIZE, output_dim = EMBEDDING_DIM)(input_sub_chap) \n",
    "    embedding_ques = Embedding(input_dim = QUESTION_SIZE, output_dim = EMBEDDING_DIM)(input_ques)       \n",
    "    embedding_shifted = Embedding(input_dim = 3, output_dim = EMBEDDING_DIM)(input_shifted)\n",
    "    # dense layer for numeric features\n",
    "#     dense_features = Dense(EMBEDDING_DIM,input_shape = (None, MAXLENGTH))(input_features)\n",
    "\n",
    "    # definr LSTM layers\n",
    "    LSTM_chap = LSTM(LSTM_NEURON, input_shape = (None, EMBEDDING_DIM),return_sequences = True)(embedding_chap)\n",
    "    LSTM_sub_chap = LSTM(LSTM_NEURON, input_shape = (None, EMBEDDING_DIM),return_sequences = True)(embedding_sub_chap)\n",
    "    LSTM_ques = LSTM(LSTM_NEURON, input_shape = (None, EMBEDDING_DIM),return_sequences = True)(embedding_ques)\n",
    "    LSTM_shif = LSTM(LSTM_NEURON, input_shape = (None, EMBEDDING_DIM),return_sequences = True)(embedding_shifted)\n",
    "#     LSTM_features = LSTM(LSTM_NEURON, input_shape = (None, EMBEDDING_DIM),return_sequences = True)(dense_features)\n",
    "\n",
    "    LSTM_output = tf.concat([LSTM_chap, LSTM_sub_chap, LSTM_ques, LSTM_shif], axis = 2)\n",
    "\n",
    "    dense1 = Dense(256, input_shape = (None, 4*EMBEDDING_DIM), activation='relu')(LSTM_output)\n",
    "    dropout1 = Dropout(0.1)(dense1)\n",
    "    dense2 = Dense(64, input_shape = (None, 256), activation='relu')(dropout1)\n",
    "    dropout2 = Dropout(0.1)(dense2)\n",
    "    pred = Dense(1, input_shape = (None, 64), activation='sigmoid')(dropout2)\n",
    "\n",
    "    model = tf.keras.Model(\n",
    "        inputs=[input_chap, input_sub_chap,input_ques, input_shifted],\n",
    "        outputs=pred,\n",
    "        name='LSTM_model'\n",
    "    )\n",
    "\n",
    "    callback = tf.keras.callbacks.EarlyStopping(monitor='val_loss', patience=10)\n",
    "    opt_adam = Adam(learning_rate = 0.005)\n",
    "    model.compile(\n",
    "        optimizer=opt_adam,\n",
    "        loss= masked_bce,\n",
    "        metrics = [masked_acc, masked_auc]\n",
    "    )\n",
    "\n",
    "    history = model.fit(\n",
    "      [train_chapter, train_sub_chapter, train_question, train_shifted_t],\n",
    "      train_labels,\n",
    "      batch_size = 64,\n",
    "      epochs = 100,\n",
    "      validation_data=([val_chapter, val_sub_chapter, val_question, val_shifted_t], val_labels),\n",
    "      callbacks=[callback]\n",
    "    )\n",
    "    val_losses.append(list(history.history['val_loss']))\n",
    "    train_losses.append(list(history.history['loss']))\n",
    "    val_aucs.append(list(history.history['val_masked_auc']))\n",
    "    train_aucs.append(list(history.history['masked_auc']))\n",
    "    train_score = model.evaluate([train_chapter, train_sub_chapter, train_question, train_shifted_t], train_labels)\n",
    "    train_eval.append(train_score)\n",
    "    test_score = model.evaluate([test_chapter, test_sub_chapter, test_question, test_shifted_t], test_labels)\n",
    "    test_eval.append(test_score)\n",
    "    print(\"Test: \", test_score)\n",
    "    def reset_weights(model):\n",
    "      for layer in model.layers: \n",
    "        if isinstance(layer, tf.keras.Model):\n",
    "          reset_weights(layer)\n",
    "          continue\n",
    "        for k, initializer in layer.__dict__.items():\n",
    "          if \"initializer\" not in k:\n",
    "            continue\n",
    "          # find the corresponding variable\n",
    "          var = getattr(layer, k.replace(\"_initializer\", \"\"))\n",
    "          var.assign(initializer(var.shape, var.dtype))\n",
    "    reset_weights(model)"
   ]
  },
  {
   "cell_type": "code",
   "execution_count": 33,
   "metadata": {
    "execution": {
     "iopub.execute_input": "2021-08-08T17:42:35.165114Z",
     "iopub.status.busy": "2021-08-08T17:42:35.164462Z",
     "iopub.status.idle": "2021-08-08T17:42:35.168125Z",
     "shell.execute_reply": "2021-08-08T17:42:35.168536Z",
     "shell.execute_reply.started": "2021-08-06T21:35:33.922753Z"
    },
    "id": "QsVmumHMz3lx",
    "outputId": "4ff1e2fa-6abb-458e-c729-495b456f53e5",
    "papermill": {
     "duration": 0.946943,
     "end_time": "2021-08-08T17:42:35.168694",
     "exception": false,
     "start_time": "2021-08-08T17:42:34.221751",
     "status": "completed"
    },
    "tags": []
   },
   "outputs": [
    {
     "name": "stdout",
     "output_type": "stream",
     "text": [
      "test avg loss:  0.40883306264877317 +/- 0.019887266439899774\n",
      "test avg acc:  0.7949965834617615 +/- 0.0013819194127736322\n",
      "test avg auc:  0.8573367714881897 +/- 0.0014880570373023028\n"
     ]
    }
   ],
   "source": [
    "t_eval = np.array(test_eval)\n",
    "print(\"test avg loss: \", np.mean(t_eval[:, 0]), \"+/-\" ,np.std(t_eval[:, 0]))\n",
    "print(\"test avg acc: \", np.mean(t_eval[:, 1]),  \"+/-\" ,np.std(t_eval[:, 1]))\n",
    "print(\"test avg auc: \", np.mean(t_eval[:, 2]), \"+/-\" ,np.std(t_eval[:, 2]))"
   ]
  },
  {
   "cell_type": "code",
   "execution_count": 34,
   "metadata": {
    "execution": {
     "iopub.execute_input": "2021-08-08T17:42:37.083005Z",
     "iopub.status.busy": "2021-08-08T17:42:37.082301Z",
     "iopub.status.idle": "2021-08-08T17:42:37.088023Z",
     "shell.execute_reply": "2021-08-08T17:42:37.087280Z",
     "shell.execute_reply.started": "2021-08-06T21:35:33.935484Z"
    },
    "id": "b9MM_CXWz5K6",
    "outputId": "4cf88e1d-3a74-4e7d-f92c-d01522e91757",
    "papermill": {
     "duration": 0.987924,
     "end_time": "2021-08-08T17:42:37.088209",
     "exception": false,
     "start_time": "2021-08-08T17:42:36.100285",
     "status": "completed"
    },
    "tags": []
   },
   "outputs": [
    {
     "name": "stdout",
     "output_type": "stream",
     "text": [
      "train avg loss:  0.35393330454826355 +/- 0.006706048553047695\n",
      "train avg acc:  0.7947454571723938 +/- 0.001369610594690563\n",
      "train avg auc:  0.8568469405174255 +/- 0.0014799298029217894\n"
     ]
    }
   ],
   "source": [
    "t_eval = np.array(train_eval)\n",
    "print(\"train avg loss: \", np.mean(t_eval[:, 0]), \"+/-\" ,np.std(t_eval[:, 0]))\n",
    "print(\"train avg acc: \", np.mean(t_eval[:, 1]),  \"+/-\" ,np.std(t_eval[:, 1]))\n",
    "print(\"train avg auc: \", np.mean(t_eval[:, 2]), \"+/-\" ,np.std(t_eval[:, 2]))"
   ]
  }
 ],
 "metadata": {
  "kernelspec": {
   "display_name": "Python 3",
   "language": "python",
   "name": "python3"
  },
  "language_info": {
   "codemirror_mode": {
    "name": "ipython",
    "version": 3
   },
   "file_extension": ".py",
   "mimetype": "text/x-python",
   "name": "python",
   "nbconvert_exporter": "python",
   "pygments_lexer": "ipython3",
   "version": "3.8.5"
  },
  "papermill": {
   "default_parameters": {},
   "duration": 1537.797926,
   "end_time": "2021-08-08T17:42:40.533811",
   "environment_variables": {},
   "exception": null,
   "input_path": "__notebook__.ipynb",
   "output_path": "__notebook__.ipynb",
   "parameters": {},
   "start_time": "2021-08-08T17:17:02.735885",
   "version": "2.3.3"
  }
 },
 "nbformat": 4,
 "nbformat_minor": 5
}
