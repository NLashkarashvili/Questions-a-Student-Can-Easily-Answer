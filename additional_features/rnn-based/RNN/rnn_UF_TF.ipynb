{
 "cells": [
  {
   "cell_type": "code",
   "execution_count": 1,
   "metadata": {
    "execution": {
     "iopub.execute_input": "2021-08-08T13:39:31.361818Z",
     "iopub.status.busy": "2021-08-08T13:39:31.360474Z",
     "iopub.status.idle": "2021-08-08T13:39:37.329335Z",
     "shell.execute_reply": "2021-08-08T13:39:37.328522Z",
     "shell.execute_reply.started": "2021-08-06T20:53:41.672006Z"
    },
    "id": "farifxiKU1aB",
    "papermill": {
     "duration": 6.003475,
     "end_time": "2021-08-08T13:39:37.329513",
     "exception": false,
     "start_time": "2021-08-08T13:39:31.326038",
     "status": "completed"
    },
    "tags": []
   },
   "outputs": [],
   "source": [
    "import numpy as np\n",
    "import pandas as pd\n",
    "import warnings\n",
    "import gc\n",
    "import tensorflow as tf\n",
    "from tensorflow import keras\n",
    "\n",
    "import random\n",
    "from random import choice\n",
    "from tensorflow.keras.optimizers import Adam\n",
    "from tensorflow.keras.models import Sequential \n",
    "from tensorflow.keras.layers import Dense, Concatenate, Embedding, Flatten, Activation, Dropout\n",
    "from tensorflow.keras.layers import SimpleRNN as RNN\n",
    "from sklearn.model_selection import KFold\n",
    "from tensorflow.python.client import device_lib\n",
    "warnings.filterwarnings('ignore')\n",
    "import random"
   ]
  },
  {
   "cell_type": "code",
   "execution_count": 2,
   "metadata": {
    "execution": {
     "iopub.execute_input": "2021-08-08T13:39:37.392958Z",
     "iopub.status.busy": "2021-08-08T13:39:37.392365Z",
     "iopub.status.idle": "2021-08-08T13:39:37.395262Z",
     "shell.execute_reply": "2021-08-08T13:39:37.394708Z",
     "shell.execute_reply.started": "2021-08-06T20:53:43.985924Z"
    },
    "id": "QOson70GPOXb",
    "papermill": {
     "duration": 0.035986,
     "end_time": "2021-08-08T13:39:37.395386",
     "exception": false,
     "start_time": "2021-08-08T13:39:37.359400",
     "status": "completed"
    },
    "tags": []
   },
   "outputs": [],
   "source": [
    "import gc"
   ]
  },
  {
   "cell_type": "markdown",
   "metadata": {
    "id": "BQsVybBH3VPw",
    "papermill": {
     "duration": 0.028831,
     "end_time": "2021-08-08T13:39:37.453210",
     "exception": false,
     "start_time": "2021-08-08T13:39:37.424379",
     "status": "completed"
    },
    "tags": []
   },
   "source": [
    "## Data Preprocessing"
   ]
  },
  {
   "cell_type": "code",
   "execution_count": 3,
   "metadata": {
    "execution": {
     "iopub.execute_input": "2021-08-08T13:39:37.515258Z",
     "iopub.status.busy": "2021-08-08T13:39:37.514301Z",
     "iopub.status.idle": "2021-08-08T13:39:43.538053Z",
     "shell.execute_reply": "2021-08-08T13:39:43.537554Z",
     "shell.execute_reply.started": "2021-08-06T20:53:43.99311Z"
    },
    "id": "rwtTusGxrmAE",
    "outputId": "1430f3cf-038b-485e-b5c4-c1686b1f34fd",
    "papermill": {
     "duration": 6.055758,
     "end_time": "2021-08-08T13:39:43.538205",
     "exception": false,
     "start_time": "2021-08-08T13:39:37.482447",
     "status": "completed"
    },
    "tags": []
   },
   "outputs": [
    {
     "data": {
      "text/html": [
       "<div>\n",
       "<style scoped>\n",
       "    .dataframe tbody tr th:only-of-type {\n",
       "        vertical-align: middle;\n",
       "    }\n",
       "\n",
       "    .dataframe tbody tr th {\n",
       "        vertical-align: top;\n",
       "    }\n",
       "\n",
       "    .dataframe thead th {\n",
       "        text-align: right;\n",
       "    }\n",
       "</style>\n",
       "<table border=\"1\" class=\"dataframe\">\n",
       "  <thead>\n",
       "    <tr style=\"text-align: right;\">\n",
       "      <th></th>\n",
       "      <th>Unnamed: 0</th>\n",
       "      <th>chapter_label</th>\n",
       "      <th>sub_chapter_label</th>\n",
       "      <th>question_name</th>\n",
       "      <th>user_id.x</th>\n",
       "      <th>term</th>\n",
       "      <th>STDNT_SEX_CD</th>\n",
       "      <th>NonNativeEnglish</th>\n",
       "      <th>White</th>\n",
       "      <th>Asian</th>\n",
       "      <th>...</th>\n",
       "      <th>classGraded</th>\n",
       "      <th>classHonors</th>\n",
       "      <th>Pass_Fail</th>\n",
       "      <th>parentsGraduateEdu</th>\n",
       "      <th>minorityGroup</th>\n",
       "      <th>q</th>\n",
       "      <th>day's_available_flashcards</th>\n",
       "      <th>start_practice</th>\n",
       "      <th>end_practice</th>\n",
       "      <th>days_offset</th>\n",
       "    </tr>\n",
       "  </thead>\n",
       "  <tbody>\n",
       "    <tr>\n",
       "      <th>0</th>\n",
       "      <td>1</td>\n",
       "      <td>Sort</td>\n",
       "      <td>intro-SortingwithSortandSorted</td>\n",
       "      <td>ee_sort_04</td>\n",
       "      <td>148</td>\n",
       "      <td>WN 2018</td>\n",
       "      <td>1</td>\n",
       "      <td>0</td>\n",
       "      <td>1</td>\n",
       "      <td>0</td>\n",
       "      <td>...</td>\n",
       "      <td>1</td>\n",
       "      <td>0</td>\n",
       "      <td>0</td>\n",
       "      <td>0</td>\n",
       "      <td>0</td>\n",
       "      <td>0</td>\n",
       "      <td>18</td>\n",
       "      <td>2018-03-04 20:00:19</td>\n",
       "      <td>2018-03-04 20:00:35</td>\n",
       "      <td>45</td>\n",
       "    </tr>\n",
       "    <tr>\n",
       "      <th>1</th>\n",
       "      <td>2</td>\n",
       "      <td>Functions</td>\n",
       "      <td>Returningavaluefromafunction</td>\n",
       "      <td>test_questionfunctions_2_3</td>\n",
       "      <td>148</td>\n",
       "      <td>WN 2018</td>\n",
       "      <td>1</td>\n",
       "      <td>0</td>\n",
       "      <td>1</td>\n",
       "      <td>0</td>\n",
       "      <td>...</td>\n",
       "      <td>1</td>\n",
       "      <td>0</td>\n",
       "      <td>0</td>\n",
       "      <td>0</td>\n",
       "      <td>0</td>\n",
       "      <td>4</td>\n",
       "      <td>16</td>\n",
       "      <td>2018-02-10 11:57:55</td>\n",
       "      <td>2018-02-10 11:58:35</td>\n",
       "      <td>23</td>\n",
       "    </tr>\n",
       "    <tr>\n",
       "      <th>2</th>\n",
       "      <td>3</td>\n",
       "      <td>RESTAPIs</td>\n",
       "      <td>functionswithrestapis</td>\n",
       "      <td>test_question_functions_rest_apis_1</td>\n",
       "      <td>148</td>\n",
       "      <td>WN 2018</td>\n",
       "      <td>1</td>\n",
       "      <td>0</td>\n",
       "      <td>1</td>\n",
       "      <td>0</td>\n",
       "      <td>...</td>\n",
       "      <td>1</td>\n",
       "      <td>0</td>\n",
       "      <td>0</td>\n",
       "      <td>0</td>\n",
       "      <td>0</td>\n",
       "      <td>1</td>\n",
       "      <td>2</td>\n",
       "      <td>2018-03-12 17:03:07</td>\n",
       "      <td>2018-03-12 17:04:28</td>\n",
       "      <td>53</td>\n",
       "    </tr>\n",
       "    <tr>\n",
       "      <th>3</th>\n",
       "      <td>4</td>\n",
       "      <td>SimplePythonData</td>\n",
       "      <td>FunctionCalls</td>\n",
       "      <td>exercise_functionCalls_1</td>\n",
       "      <td>148</td>\n",
       "      <td>WN 2018</td>\n",
       "      <td>1</td>\n",
       "      <td>0</td>\n",
       "      <td>1</td>\n",
       "      <td>0</td>\n",
       "      <td>...</td>\n",
       "      <td>1</td>\n",
       "      <td>0</td>\n",
       "      <td>0</td>\n",
       "      <td>0</td>\n",
       "      <td>0</td>\n",
       "      <td>0</td>\n",
       "      <td>10</td>\n",
       "      <td>2018-01-30 14:15:49</td>\n",
       "      <td>2018-01-30 14:15:58</td>\n",
       "      <td>12</td>\n",
       "    </tr>\n",
       "    <tr>\n",
       "      <th>4</th>\n",
       "      <td>5</td>\n",
       "      <td>DictionaryAccumulation</td>\n",
       "      <td>AccumulatingaMaximumValue</td>\n",
       "      <td>ps_04_07</td>\n",
       "      <td>148</td>\n",
       "      <td>WN 2018</td>\n",
       "      <td>1</td>\n",
       "      <td>0</td>\n",
       "      <td>1</td>\n",
       "      <td>0</td>\n",
       "      <td>...</td>\n",
       "      <td>1</td>\n",
       "      <td>0</td>\n",
       "      <td>0</td>\n",
       "      <td>0</td>\n",
       "      <td>0</td>\n",
       "      <td>0</td>\n",
       "      <td>23</td>\n",
       "      <td>2018-03-03 14:04:17</td>\n",
       "      <td>2018-03-03 14:04:25</td>\n",
       "      <td>44</td>\n",
       "    </tr>\n",
       "  </tbody>\n",
       "</table>\n",
       "<p>5 rows × 48 columns</p>\n",
       "</div>"
      ],
      "text/plain": [
       "   Unnamed: 0           chapter_label               sub_chapter_label  \\\n",
       "0           1                    Sort  intro-SortingwithSortandSorted   \n",
       "1           2               Functions    Returningavaluefromafunction   \n",
       "2           3                RESTAPIs           functionswithrestapis   \n",
       "3           4        SimplePythonData                   FunctionCalls   \n",
       "4           5  DictionaryAccumulation       AccumulatingaMaximumValue   \n",
       "\n",
       "                         question_name  user_id.x     term  STDNT_SEX_CD  \\\n",
       "0                           ee_sort_04        148  WN 2018             1   \n",
       "1           test_questionfunctions_2_3        148  WN 2018             1   \n",
       "2  test_question_functions_rest_apis_1        148  WN 2018             1   \n",
       "3             exercise_functionCalls_1        148  WN 2018             1   \n",
       "4                             ps_04_07        148  WN 2018             1   \n",
       "\n",
       "   NonNativeEnglish  White  Asian  ...  classGraded  classHonors  Pass_Fail  \\\n",
       "0                 0      1      0  ...            1            0          0   \n",
       "1                 0      1      0  ...            1            0          0   \n",
       "2                 0      1      0  ...            1            0          0   \n",
       "3                 0      1      0  ...            1            0          0   \n",
       "4                 0      1      0  ...            1            0          0   \n",
       "\n",
       "   parentsGraduateEdu  minorityGroup  q  day's_available_flashcards  \\\n",
       "0                   0              0  0                          18   \n",
       "1                   0              0  4                          16   \n",
       "2                   0              0  1                           2   \n",
       "3                   0              0  0                          10   \n",
       "4                   0              0  0                          23   \n",
       "\n",
       "        start_practice         end_practice  days_offset  \n",
       "0  2018-03-04 20:00:19  2018-03-04 20:00:35           45  \n",
       "1  2018-02-10 11:57:55  2018-02-10 11:58:35           23  \n",
       "2  2018-03-12 17:03:07  2018-03-12 17:04:28           53  \n",
       "3  2018-01-30 14:15:49  2018-01-30 14:15:58           12  \n",
       "4  2018-03-03 14:04:17  2018-03-03 14:04:25           44  \n",
       "\n",
       "[5 rows x 48 columns]"
      ]
     },
     "execution_count": 3,
     "metadata": {},
     "output_type": "execute_result"
    }
   ],
   "source": [
    "# load the data\n",
    "import pandas as pd\n",
    "dataframe = pd.read_csv('../input/practice-log-demographics/Practice_Log_Demographics (1).csv', low_memory=False)\n",
    "dataframe.head()"
   ]
  },
  {
   "cell_type": "code",
   "execution_count": 4,
   "metadata": {
    "execution": {
     "iopub.execute_input": "2021-08-08T13:39:43.605554Z",
     "iopub.status.busy": "2021-08-08T13:39:43.604817Z",
     "iopub.status.idle": "2021-08-08T13:39:43.607126Z",
     "shell.execute_reply": "2021-08-08T13:39:43.607733Z",
     "shell.execute_reply.started": "2021-08-06T20:53:49.176565Z"
    },
    "id": "0RvF7BvEr98o",
    "papermill": {
     "duration": 0.039298,
     "end_time": "2021-08-08T13:39:43.607926",
     "exception": false,
     "start_time": "2021-08-08T13:39:43.568628",
     "status": "completed"
    },
    "tags": []
   },
   "outputs": [],
   "source": [
    "FEATURES = ['chapter_label', 'sub_chapter_label','question_name','user_id','term',\n",
    "            'STDNT_SEX_CD', \n",
    "            'NonNativeEnglish',\n",
    "            'White',\n",
    "            'Asian',\n",
    "            'WhiteOrAsian',\n",
    "            'Hispanic',\n",
    "            'AfricanAmerican',\n",
    "            'OtherEthnicities',\n",
    "            'NonWhiteOrAsian',\n",
    "            'STDNT_CTZN_STAT_CD', 'international', \n",
    "            'gradingType',\n",
    "            'birthYear',\n",
    "            'exclClassCumGPA',\n",
    "            'Freshman',\n",
    "            'Junior',\n",
    "            'Sophomore',\n",
    "            'Senior',\n",
    "            'termCreditsGPA',\n",
    "            'termCreditsNoGPA',\n",
    "            'athlete_1',\n",
    "            'honorsPro',\n",
    "            'LSA', 'programBusiness', 'programEngineering', \n",
    "            'programInformation', 'programOther',\n",
    "            'HSCalculusTaken', \n",
    "            'highSchoolGPA', \n",
    "            'majorsCount', 'minorsCount',\n",
    "            'PREV_TERM_CUM_GPA',\n",
    "            'classGraded', 'classHonors', \n",
    "            'Pass_Fail', \n",
    "            'parentsGraduateEdu',  'minorityGroup', \n",
    "            'q',\n",
    "            'available_flashcards', \n",
    "            'start_practice', \n",
    "            'end_practice',\n",
    "            'days_offset']"
   ]
  },
  {
   "cell_type": "code",
   "execution_count": 5,
   "metadata": {
    "execution": {
     "iopub.execute_input": "2021-08-08T13:39:43.678166Z",
     "iopub.status.busy": "2021-08-08T13:39:43.677198Z",
     "iopub.status.idle": "2021-08-08T13:39:44.171357Z",
     "shell.execute_reply": "2021-08-08T13:39:44.170783Z",
     "shell.execute_reply.started": "2021-08-06T20:53:49.185798Z"
    },
    "id": "Mn341X7lSztl",
    "papermill": {
     "duration": 0.531205,
     "end_time": "2021-08-08T13:39:44.171502",
     "exception": false,
     "start_time": "2021-08-08T13:39:43.640297",
     "status": "completed"
    },
    "tags": []
   },
   "outputs": [],
   "source": [
    "dataframe['available_flashcards'] = dataframe[\"day's_available_flashcards\"][:]\n",
    "dataframe = dataframe.drop([\"day's_available_flashcards\"], axis=1)\n",
    "dataframe['user_id'] = dataframe[\"user_id.x\"][:]\n",
    "dataframe = dataframe.drop([\"user_id.x\"], axis=1)"
   ]
  },
  {
   "cell_type": "code",
   "execution_count": 6,
   "metadata": {
    "execution": {
     "iopub.execute_input": "2021-08-08T13:39:44.396679Z",
     "iopub.status.busy": "2021-08-08T13:39:44.395754Z",
     "iopub.status.idle": "2021-08-08T13:39:44.400082Z",
     "shell.execute_reply": "2021-08-08T13:39:44.399564Z",
     "shell.execute_reply.started": "2021-08-06T20:53:49.660082Z"
    },
    "id": "-_BRggOjbBjN",
    "outputId": "42bff7db-08dd-48dc-a73a-d048508053b7",
    "papermill": {
     "duration": 0.198765,
     "end_time": "2021-08-08T13:39:44.400218",
     "exception": false,
     "start_time": "2021-08-08T13:39:44.201453",
     "status": "completed"
    },
    "tags": []
   },
   "outputs": [
    {
     "data": {
      "text/plain": [
       "82"
      ]
     },
     "execution_count": 6,
     "metadata": {},
     "output_type": "execute_result"
    }
   ],
   "source": [
    "gc.collect()"
   ]
  },
  {
   "cell_type": "code",
   "execution_count": 7,
   "metadata": {
    "execution": {
     "iopub.execute_input": "2021-08-08T13:39:44.466350Z",
     "iopub.status.busy": "2021-08-08T13:39:44.465658Z",
     "iopub.status.idle": "2021-08-08T13:39:44.756870Z",
     "shell.execute_reply": "2021-08-08T13:39:44.757336Z",
     "shell.execute_reply.started": "2021-08-06T20:53:49.836831Z"
    },
    "id": "lXM7MlonVeRL",
    "outputId": "d29ccec0-522f-4e3c-e0b2-39b2e1eaef74",
    "papermill": {
     "duration": 0.326975,
     "end_time": "2021-08-08T13:39:44.757506",
     "exception": false,
     "start_time": "2021-08-08T13:39:44.430531",
     "status": "completed"
    },
    "tags": []
   },
   "outputs": [
    {
     "data": {
      "text/plain": [
       "20"
      ]
     },
     "execution_count": 7,
     "metadata": {},
     "output_type": "execute_result"
    }
   ],
   "source": [
    "dataframe = dataframe[FEATURES]\n",
    "gc.collect()"
   ]
  },
  {
   "cell_type": "code",
   "execution_count": 8,
   "metadata": {
    "execution": {
     "iopub.execute_input": "2021-08-08T13:39:45.289098Z",
     "iopub.status.busy": "2021-08-08T13:39:45.288384Z",
     "iopub.status.idle": "2021-08-08T13:39:45.413614Z",
     "shell.execute_reply": "2021-08-08T13:39:45.413018Z",
     "shell.execute_reply.started": "2021-08-06T20:53:50.129501Z"
    },
    "id": "2WAFv5z3A6fK",
    "outputId": "e27abf84-ec3c-4b88-e1fb-927d94b41898",
    "papermill": {
     "duration": 0.625815,
     "end_time": "2021-08-08T13:39:45.413748",
     "exception": false,
     "start_time": "2021-08-08T13:39:44.787933",
     "status": "completed"
    },
    "tags": []
   },
   "outputs": [],
   "source": [
    "dataframe = dataframe.fillna(0)"
   ]
  },
  {
   "cell_type": "code",
   "execution_count": 9,
   "metadata": {
    "execution": {
     "iopub.execute_input": "2021-08-08T13:39:45.492864Z",
     "iopub.status.busy": "2021-08-08T13:39:45.492236Z",
     "iopub.status.idle": "2021-08-08T13:39:46.900709Z",
     "shell.execute_reply": "2021-08-08T13:39:46.900130Z",
     "shell.execute_reply.started": "2021-08-06T20:53:50.733184Z"
    },
    "id": "qRKqF_0IXZgj",
    "papermill": {
     "duration": 1.456015,
     "end_time": "2021-08-08T13:39:46.900859",
     "exception": false,
     "start_time": "2021-08-08T13:39:45.444844",
     "status": "completed"
    },
    "tags": []
   },
   "outputs": [],
   "source": [
    "#label encode term, chapter_label, question_name, sub_chapter_label columns\n",
    "dataframe['term'] = dataframe['term'].astype('category')\n",
    "dataframe['user_id'] = dataframe['user_id'].astype(int)\n",
    "dataframe['user_id'] = dataframe['user_id'].astype(str)\n",
    "dataframe['user_id'] = dataframe['term'].str.cat(dataframe['user_id'], sep=':')\n",
    "dataframe['user_id'] = dataframe['user_id'].astype('category')\n",
    "dataframe['chapter_label'] = dataframe['chapter_label'].astype('category')\n",
    "dataframe['sub_chapter_label'] = dataframe['sub_chapter_label'].astype('category')\n",
    "dataframe['question_name'] = dataframe['question_name'].astype('category')\n"
   ]
  },
  {
   "cell_type": "code",
   "execution_count": 10,
   "metadata": {
    "execution": {
     "iopub.execute_input": "2021-08-08T13:39:46.967935Z",
     "iopub.status.busy": "2021-08-08T13:39:46.967306Z",
     "iopub.status.idle": "2021-08-08T13:39:47.438386Z",
     "shell.execute_reply": "2021-08-08T13:39:47.437854Z",
     "shell.execute_reply.started": "2021-08-06T20:53:52.202336Z"
    },
    "id": "eVl_067GWkDe",
    "papermill": {
     "duration": 0.506992,
     "end_time": "2021-08-08T13:39:47.438535",
     "exception": false,
     "start_time": "2021-08-08T13:39:46.931543",
     "status": "completed"
    },
    "tags": []
   },
   "outputs": [],
   "source": [
    "#calculate time_lag and prev_time_elapsed\n",
    "dataframe['prev_time_elapsed'] = None\n",
    "dataframe['time_lag'] = None\n",
    "dataframe['time_lag'] = dataframe['time_lag'].astype(np.float)\n",
    "dataframe['prev_time_elapsed'] = dataframe['prev_time_elapsed'].astype(np.float)\n",
    "dataframe.start_practice = pd.to_datetime(dataframe.start_practice, format='%Y-%m-%d %H:%M:%S')\n",
    "dataframe.end_practice = pd.to_datetime(dataframe.end_practice, format='%Y-%m-%d %H:%M:%S')"
   ]
  },
  {
   "cell_type": "code",
   "execution_count": 11,
   "metadata": {
    "execution": {
     "iopub.execute_input": "2021-08-08T13:39:47.504438Z",
     "iopub.status.busy": "2021-08-08T13:39:47.503771Z",
     "iopub.status.idle": "2021-08-08T13:39:47.894740Z",
     "shell.execute_reply": "2021-08-08T13:39:47.894204Z",
     "shell.execute_reply.started": "2021-08-06T20:53:52.690519Z"
    },
    "papermill": {
     "duration": 0.425642,
     "end_time": "2021-08-08T13:39:47.894885",
     "exception": false,
     "start_time": "2021-08-08T13:39:47.469243",
     "status": "completed"
    },
    "tags": []
   },
   "outputs": [],
   "source": [
    "#sort data based on timestamp\n",
    "dataframe = dataframe.sort_values(by=['start_practice']).reset_index(drop=True)"
   ]
  },
  {
   "cell_type": "code",
   "execution_count": 12,
   "metadata": {
    "execution": {
     "iopub.execute_input": "2021-08-08T13:39:47.962967Z",
     "iopub.status.busy": "2021-08-08T13:39:47.962322Z",
     "iopub.status.idle": "2021-08-08T13:39:47.997035Z",
     "shell.execute_reply": "2021-08-08T13:39:47.997537Z",
     "shell.execute_reply.started": "2021-08-06T20:53:53.10858Z"
    },
    "papermill": {
     "duration": 0.071792,
     "end_time": "2021-08-08T13:39:47.997728",
     "exception": false,
     "start_time": "2021-08-08T13:39:47.925936",
     "status": "completed"
    },
    "tags": []
   },
   "outputs": [],
   "source": [
    "dataframe['dif'] = dataframe.end_practice - dataframe.start_practice\n",
    "dataframe['dif'] = dataframe['dif'] /np.timedelta64(1, 's')\n",
    "dataframe['answer_correct'] = np.where((dataframe['q']==5) & (dataframe['dif'] <= 60), 1, 0)"
   ]
  },
  {
   "cell_type": "code",
   "execution_count": 13,
   "metadata": {
    "execution": {
     "iopub.execute_input": "2021-08-08T13:39:48.062451Z",
     "iopub.status.busy": "2021-08-08T13:39:48.061526Z",
     "iopub.status.idle": "2021-08-08T13:39:48.073849Z",
     "shell.execute_reply": "2021-08-08T13:39:48.074324Z",
     "shell.execute_reply.started": "2021-08-06T20:53:53.141542Z"
    },
    "papermill": {
     "duration": 0.046242,
     "end_time": "2021-08-08T13:39:48.074495",
     "exception": false,
     "start_time": "2021-08-08T13:39:48.028253",
     "status": "completed"
    },
    "tags": []
   },
   "outputs": [],
   "source": [
    "unique_chapts = dataframe['chapter_label'].unique()"
   ]
  },
  {
   "cell_type": "code",
   "execution_count": 14,
   "metadata": {
    "execution": {
     "iopub.execute_input": "2021-08-08T13:39:48.138972Z",
     "iopub.status.busy": "2021-08-08T13:39:48.137985Z",
     "iopub.status.idle": "2021-08-08T13:44:51.374906Z",
     "shell.execute_reply": "2021-08-08T13:44:51.372282Z",
     "shell.execute_reply.started": "2021-08-06T20:57:57.26281Z"
    },
    "id": "Xrkcn9VhWETm",
    "outputId": "fd73f3de-5f56-42a8-9539-3f3b79a5a6e2",
    "papermill": {
     "duration": 303.27009,
     "end_time": "2021-08-08T13:44:51.375113",
     "exception": false,
     "start_time": "2021-08-08T13:39:48.105023",
     "status": "completed"
    },
    "tags": []
   },
   "outputs": [
    {
     "name": "stderr",
     "output_type": "stream",
     "text": [
      "100%|██████████| 1110/1110 [05:03<00:00,  3.66it/s]\n"
     ]
    }
   ],
   "source": [
    "unique_chapts = dataframe['chapter_label'].unique()\n",
    "from tqdm import tqdm\n",
    "cnt = 0\n",
    "for user in tqdm(dataframe['user_id'].unique()):\n",
    "        for chapter in unique_chapts:\n",
    "            tmp_user = dataframe[(dataframe['user_id']==user) & (dataframe['chapter_label']==chapter)]\n",
    "            #if user doesn't answer any question from the chapter\n",
    "            if len(tmp_user) < 1:\n",
    "                continue\n",
    "            #calculate average elapsed time before the current question\n",
    "            #from its corresponding chapter\n",
    "            tmp_time_elapsed = tmp_user.end_practice - tmp_user.start_practice\n",
    "            tmp_time_elapsed = tmp_time_elapsed / np.timedelta64(1, 's')\n",
    "            tmp_time_elapsed = np.insert(np.array(tmp_time_elapsed[:-1]), 0, 0., axis=0)\n",
    "            tmp_time_elapsed = np.cumsum(tmp_time_elapsed)\n",
    "            indices = tmp_user.index\n",
    "            start_row = indices[0]\n",
    "            dataframe['time_lag'].iloc[start_row] = 0\n",
    "            for_mean = np.arange(len(tmp_user))\n",
    "            for_mean[0] = 1\n",
    "            time_substrahend = tmp_user.start_practice.iloc[:-1]\n",
    "            time_substrahend = time_substrahend.apply(lambda a: a.timestamp())\n",
    "            time_substrahend = np.array(time_substrahend)\n",
    "            \n",
    "            time_minuend = tmp_user.start_practice.iloc[1:]\n",
    "            time_minuend = time_minuend.apply(lambda a: a.timestamp())\n",
    "            time_minuend = np.array(time_minuend)\n",
    "\n",
    "            dataframe['prev_time_elapsed'].iloc[indices] = tmp_time_elapsed/for_mean\n",
    "            #calculate difference between current and last interaction\n",
    "            #from the same chapter\n",
    "            dataframe['time_lag'].iloc[indices[1:]] = time_minuend - time_substrahend\n"
   ]
  },
  {
   "cell_type": "code",
   "execution_count": 15,
   "metadata": {
    "execution": {
     "iopub.execute_input": "2021-08-08T13:44:52.149750Z",
     "iopub.status.busy": "2021-08-08T13:44:52.148990Z",
     "iopub.status.idle": "2021-08-08T13:44:52.188335Z",
     "shell.execute_reply": "2021-08-08T13:44:52.187800Z",
     "shell.execute_reply.started": "2021-08-06T21:04:40.337666Z"
    },
    "id": "8t8yZ0XvWwzz",
    "papermill": {
     "duration": 0.453931,
     "end_time": "2021-08-08T13:44:52.188462",
     "exception": false,
     "start_time": "2021-08-08T13:44:51.734531",
     "status": "completed"
    },
    "tags": []
   },
   "outputs": [],
   "source": [
    "#drop column end_practice\n",
    "dataframe.drop(columns=['end_practice'], inplace=True)"
   ]
  },
  {
   "cell_type": "code",
   "execution_count": 16,
   "metadata": {
    "execution": {
     "iopub.execute_input": "2021-08-08T13:44:52.930652Z",
     "iopub.status.busy": "2021-08-08T13:44:52.930055Z",
     "iopub.status.idle": "2021-08-08T13:44:53.386423Z",
     "shell.execute_reply": "2021-08-08T13:44:53.385879Z",
     "shell.execute_reply.started": "2021-08-06T21:04:41.469601Z"
    },
    "id": "E42raRIrYYXz",
    "papermill": {
     "duration": 0.841396,
     "end_time": "2021-08-08T13:44:53.386572",
     "exception": false,
     "start_time": "2021-08-08T13:44:52.545176",
     "status": "completed"
    },
    "tags": []
   },
   "outputs": [],
   "source": [
    "# calculate the age feature\n",
    "dataframe['term_value'] = [int(ele[3:]) for ele in dataframe['term']]\n",
    "dataframe['age'] = dataframe['term_value'] - dataframe['birthYear']"
   ]
  },
  {
   "cell_type": "code",
   "execution_count": 17,
   "metadata": {
    "execution": {
     "iopub.execute_input": "2021-08-08T13:44:54.097687Z",
     "iopub.status.busy": "2021-08-08T13:44:54.097085Z",
     "iopub.status.idle": "2021-08-08T13:44:54.307626Z",
     "shell.execute_reply": "2021-08-08T13:44:54.307101Z",
     "shell.execute_reply.started": "2021-08-06T21:04:42.216092Z"
    },
    "id": "pcMVQXueYnMh",
    "papermill": {
     "duration": 0.567801,
     "end_time": "2021-08-08T13:44:54.307771",
     "exception": false,
     "start_time": "2021-08-08T13:44:53.739970",
     "status": "completed"
    },
    "tags": []
   },
   "outputs": [],
   "source": [
    "# drop term_value and birthYear column\n",
    "dataframe.drop(columns=['term_value', 'birthYear'], inplace=True)"
   ]
  },
  {
   "cell_type": "code",
   "execution_count": 18,
   "metadata": {
    "execution": {
     "iopub.execute_input": "2021-08-08T13:44:55.123632Z",
     "iopub.status.busy": "2021-08-08T13:44:55.098151Z",
     "iopub.status.idle": "2021-08-08T13:44:55.580537Z",
     "shell.execute_reply": "2021-08-08T13:44:55.579882Z",
     "shell.execute_reply.started": "2021-08-06T21:04:43.101881Z"
    },
    "id": "hjRF5szkcQE0",
    "papermill": {
     "duration": 0.869354,
     "end_time": "2021-08-08T13:44:55.580673",
     "exception": false,
     "start_time": "2021-08-08T13:44:54.711319",
     "status": "completed"
    },
    "tags": []
   },
   "outputs": [],
   "source": [
    "# convert minors_count to int value\n",
    "new_minors_count = []\n",
    "for i in dataframe['minorsCount']:\n",
    "  if i == 0 or i == '0':\n",
    "    new_minors_count.append(0)\n",
    "  elif i == '1 Minor':\n",
    "    new_minors_count.append(1)\n",
    "  else:\n",
    "    new_minors_count.append(2)\n",
    "\n",
    "dataframe['minorsCount'] = new_minors_count"
   ]
  },
  {
   "cell_type": "code",
   "execution_count": 19,
   "metadata": {
    "execution": {
     "iopub.execute_input": "2021-08-08T13:44:56.290740Z",
     "iopub.status.busy": "2021-08-08T13:44:56.289590Z",
     "iopub.status.idle": "2021-08-08T13:44:56.303109Z",
     "shell.execute_reply": "2021-08-08T13:44:56.302107Z",
     "shell.execute_reply.started": "2021-08-06T21:04:44.069999Z"
    },
    "id": "9VdzvJSw0KUU",
    "outputId": "6393784f-234e-4935-9cee-cbcf56b5630a",
    "papermill": {
     "duration": 0.372516,
     "end_time": "2021-08-08T13:44:56.303349",
     "exception": false,
     "start_time": "2021-08-08T13:44:55.930833",
     "status": "completed"
    },
    "tags": []
   },
   "outputs": [
    {
     "name": "stdout",
     "output_type": "stream",
     "text": [
      "we have  1110  users in total.\n"
     ]
    }
   ],
   "source": [
    "print(\"we have \", dataframe['user_id'].nunique(),\" users in total.\")"
   ]
  },
  {
   "cell_type": "code",
   "execution_count": 20,
   "metadata": {
    "execution": {
     "iopub.execute_input": "2021-08-08T13:44:57.017595Z",
     "iopub.status.busy": "2021-08-08T13:44:57.016939Z",
     "iopub.status.idle": "2021-08-08T13:44:57.024879Z",
     "shell.execute_reply": "2021-08-08T13:44:57.025371Z",
     "shell.execute_reply.started": "2021-08-06T21:04:44.884292Z"
    },
    "id": "hUaGk9L9g13t",
    "papermill": {
     "duration": 0.365041,
     "end_time": "2021-08-08T13:44:57.025526",
     "exception": false,
     "start_time": "2021-08-08T13:44:56.660485",
     "status": "completed"
    },
    "tags": []
   },
   "outputs": [],
   "source": [
    "for category in ['term','chapter_label', 'sub_chapter_label', 'question_name']:\n",
    "  dataframe[category] =  dataframe[category].cat.codes"
   ]
  },
  {
   "cell_type": "code",
   "execution_count": 21,
   "metadata": {
    "execution": {
     "iopub.execute_input": "2021-08-08T13:44:57.733258Z",
     "iopub.status.busy": "2021-08-08T13:44:57.732497Z",
     "iopub.status.idle": "2021-08-08T13:44:58.482300Z",
     "shell.execute_reply": "2021-08-08T13:44:58.481762Z",
     "shell.execute_reply.started": "2021-08-06T21:04:45.606317Z"
    },
    "id": "hkyvcYvlhliG",
    "papermill": {
     "duration": 1.104721,
     "end_time": "2021-08-08T13:44:58.482470",
     "exception": false,
     "start_time": "2021-08-08T13:44:57.377749",
     "status": "completed"
    },
    "tags": []
   },
   "outputs": [],
   "source": [
    "NUMERIC_FEATURE =  ['age',\n",
    "            'exclClassCumGPA',\n",
    "            'termCreditsGPA',\n",
    "            'termCreditsNoGPA',\n",
    "            'highSchoolGPA', \n",
    "            'majorsCount', 'minorsCount',\n",
    "            'PREV_TERM_CUM_GPA',\n",
    "            'available_flashcards', \n",
    "            'days_offset', \n",
    "            'prev_time_elapsed',\n",
    "             'time_lag']\n",
    "# z-score normalize the numerical features\n",
    "for f in NUMERIC_FEATURE:\n",
    "  m = dataframe[f].mean()\n",
    "  std = dataframe[f].std()\n",
    "  dataframe[f] = (dataframe[f] - m)/std"
   ]
  },
  {
   "cell_type": "code",
   "execution_count": 22,
   "metadata": {
    "execution": {
     "iopub.execute_input": "2021-08-08T13:44:59.206904Z",
     "iopub.status.busy": "2021-08-08T13:44:59.204878Z",
     "iopub.status.idle": "2021-08-08T13:45:03.283232Z",
     "shell.execute_reply": "2021-08-08T13:45:03.282548Z",
     "shell.execute_reply.started": "2021-08-06T21:04:46.423055Z"
    },
    "id": "wo2OH-d5kWp1",
    "papermill": {
     "duration": 4.450124,
     "end_time": "2021-08-08T13:45:03.283380",
     "exception": false,
     "start_time": "2021-08-08T13:44:58.833256",
     "status": "completed"
    },
    "tags": []
   },
   "outputs": [],
   "source": [
    "FEATURE_TRANS =  ['answer_correct', 'chapter_label', 'sub_chapter_label','question_name','user_id','term',\n",
    "                  'STDNT_SEX_CD', \n",
    "                    'White','Asian','NonWhiteOrAsian',\n",
    "            'STDNT_CTZN_STAT_CD', 'international', \n",
    "            'age',\n",
    "            'exclClassCumGPA',\n",
    "           'Freshman',\n",
    "            'Junior',\n",
    "            'Sophomore',\n",
    "            'Senior',\n",
    "            'termCreditsGPA',\n",
    "            'termCreditsNoGPA',\n",
    "            'athlete_1',\n",
    "            'honorsPro',\n",
    "            'LSA', 'programBusiness', 'programEngineering', \n",
    "            'programInformation', 'programOther',\n",
    "            'HSCalculusTaken', \n",
    "            'highSchoolGPA', \n",
    "            'majorsCount', 'minorsCount',\n",
    "            'PREV_TERM_CUM_GPA',\n",
    "            'classGraded', 'classHonors', \n",
    "            'Pass_Fail', \n",
    "            'parentsGraduateEdu',  'minorityGroup', \n",
    "            'available_flashcards', \n",
    "            'days_offset', 'prev_time_elapsed',\n",
    "             'time_lag']\n",
    "grouped_data = dataframe[FEATURE_TRANS].groupby(['user_id']).apply(lambda r: (\n",
    "                r['answer_correct'],\n",
    "                r['term'],\n",
    "                r['chapter_label'],\n",
    "                r['sub_chapter_label'],\n",
    "                r['question_name'],\n",
    "                np.array([\n",
    "                  r['STDNT_SEX_CD'],r['STDNT_CTZN_STAT_CD'], r['international'], \n",
    "                  r['White'],r['Asian'],r['NonWhiteOrAsian'],\n",
    "                 r['age'],r['exclClassCumGPA'],\n",
    "                r['Freshman'], r['Junior'], r['Sophomore'], r['Senior'],\n",
    "                r['termCreditsGPA'], r['termCreditsNoGPA'],\n",
    "                r['athlete_1'], r['honorsPro'],\n",
    "                r['LSA'], r['programBusiness'], r['programEngineering'], \n",
    "                r['programInformation'], r['programOther'],\n",
    "                r['HSCalculusTaken'],  r['highSchoolGPA'], \n",
    "                r['majorsCount'], r['minorsCount'],\n",
    "                r['PREV_TERM_CUM_GPA'], \n",
    "                r['parentsGraduateEdu'], r['minorityGroup'],\n",
    "                r['available_flashcards'],\n",
    "                r['days_offset'],\n",
    "                r['prev_time_elapsed'],\n",
    "                r['time_lag']\n",
    "              ]).transpose()\n",
    "                ))"
   ]
  },
  {
   "cell_type": "code",
   "execution_count": 23,
   "metadata": {
    "execution": {
     "iopub.execute_input": "2021-08-08T13:45:04.203401Z",
     "iopub.status.busy": "2021-08-08T13:45:04.202755Z",
     "iopub.status.idle": "2021-08-08T13:45:04.206663Z",
     "shell.execute_reply": "2021-08-08T13:45:04.206141Z",
     "shell.execute_reply.started": "2021-08-06T21:04:50.729982Z"
    },
    "id": "XXLqQnjrlp_4",
    "outputId": "c801da79-f0bf-4fe5-b19c-7c799fe01556",
    "papermill": {
     "duration": 0.568787,
     "end_time": "2021-08-08T13:45:04.206784",
     "exception": false,
     "start_time": "2021-08-08T13:45:03.637997",
     "status": "completed"
    },
    "tags": []
   },
   "outputs": [
    {
     "data": {
      "text/plain": [
       "20"
      ]
     },
     "execution_count": 23,
     "metadata": {},
     "output_type": "execute_result"
    }
   ],
   "source": [
    "gc.collect()"
   ]
  },
  {
   "cell_type": "code",
   "execution_count": 24,
   "metadata": {
    "execution": {
     "iopub.execute_input": "2021-08-08T13:45:04.939224Z",
     "iopub.status.busy": "2021-08-08T13:45:04.938519Z",
     "iopub.status.idle": "2021-08-08T13:45:04.961383Z",
     "shell.execute_reply": "2021-08-08T13:45:04.960845Z",
     "shell.execute_reply.started": "2021-08-06T21:04:50.932864Z"
    },
    "id": "QYGQasdTrmP0",
    "papermill": {
     "duration": 0.404576,
     "end_time": "2021-08-08T13:45:04.961524",
     "exception": false,
     "start_time": "2021-08-08T13:45:04.556948",
     "status": "completed"
    },
    "tags": []
   },
   "outputs": [],
   "source": [
    "# remove students who don't have make any interactions with the tool\n",
    "toRemove = []\n",
    "for index in grouped_data.index:\n",
    "  if len(grouped_data[index][0]) <= 10:\n",
    "    toRemove.append(index)\n",
    "grouped_data = grouped_data.drop(index=toRemove)"
   ]
  },
  {
   "cell_type": "code",
   "execution_count": 25,
   "metadata": {
    "execution": {
     "iopub.execute_input": "2021-08-08T13:45:05.673354Z",
     "iopub.status.busy": "2021-08-08T13:45:05.672700Z",
     "iopub.status.idle": "2021-08-08T13:45:05.686837Z",
     "shell.execute_reply": "2021-08-08T13:45:05.686353Z",
     "shell.execute_reply.started": "2021-08-06T21:04:50.98328Z"
    },
    "papermill": {
     "duration": 0.372062,
     "end_time": "2021-08-08T13:45:05.686972",
     "exception": false,
     "start_time": "2021-08-08T13:45:05.314910",
     "status": "completed"
    },
    "tags": []
   },
   "outputs": [
    {
     "data": {
      "text/plain": [
       "count    1110.000000\n",
       "mean      550.263063\n",
       "std       201.281353\n",
       "min         2.000000\n",
       "25%       438.250000\n",
       "50%       520.500000\n",
       "75%       637.750000\n",
       "max      1500.000000\n",
       "Name: start_practice, dtype: float64"
      ]
     },
     "execution_count": 25,
     "metadata": {},
     "output_type": "execute_result"
    }
   ],
   "source": [
    "dataframe.groupby('user_id')['start_practice'].agg('count').describe()"
   ]
  },
  {
   "cell_type": "code",
   "execution_count": 26,
   "metadata": {
    "execution": {
     "iopub.execute_input": "2021-08-08T13:45:06.404060Z",
     "iopub.status.busy": "2021-08-08T13:45:06.403251Z",
     "iopub.status.idle": "2021-08-08T13:45:06.407333Z",
     "shell.execute_reply": "2021-08-08T13:45:06.406792Z",
     "shell.execute_reply.started": "2021-08-06T21:04:51.003119Z"
    },
    "papermill": {
     "duration": 0.364031,
     "end_time": "2021-08-08T13:45:06.407464",
     "exception": false,
     "start_time": "2021-08-08T13:45:06.043433",
     "status": "completed"
    },
    "tags": []
   },
   "outputs": [
    {
     "data": {
      "text/plain": [
       "['FA 2018:252', 'WN 2018:295']"
      ]
     },
     "execution_count": 26,
     "metadata": {},
     "output_type": "execute_result"
    }
   ],
   "source": [
    "toRemove"
   ]
  },
  {
   "cell_type": "code",
   "execution_count": 27,
   "metadata": {
    "execution": {
     "iopub.execute_input": "2021-08-08T13:45:07.128206Z",
     "iopub.status.busy": "2021-08-08T13:45:07.127536Z",
     "iopub.status.idle": "2021-08-08T13:45:07.130504Z",
     "shell.execute_reply": "2021-08-08T13:45:07.130019Z",
     "shell.execute_reply.started": "2021-08-06T21:04:51.012606Z"
    },
    "id": "9kZqV9siDyNb",
    "papermill": {
     "duration": 0.367268,
     "end_time": "2021-08-08T13:45:07.130633",
     "exception": false,
     "start_time": "2021-08-08T13:45:06.763365",
     "status": "completed"
    },
    "tags": []
   },
   "outputs": [],
   "source": [
    "#SETTINGS -> can be modified at any time\n",
    "MAXLENGTH = 400\n",
    "EMBEDDING_DIM = 128\n",
    "DENSE_NEURON = 16\n",
    "RNN_NEURON = 32"
   ]
  },
  {
   "cell_type": "code",
   "execution_count": 28,
   "metadata": {
    "execution": {
     "iopub.execute_input": "2021-08-08T13:45:07.844680Z",
     "iopub.status.busy": "2021-08-08T13:45:07.844039Z",
     "iopub.status.idle": "2021-08-08T13:45:07.846287Z",
     "shell.execute_reply": "2021-08-08T13:45:07.845788Z",
     "shell.execute_reply.started": "2021-08-06T21:04:51.932106Z"
    },
    "id": "1MksD1JizpPn",
    "papermill": {
     "duration": 0.359424,
     "end_time": "2021-08-08T13:45:07.846414",
     "exception": false,
     "start_time": "2021-08-08T13:45:07.486990",
     "status": "completed"
    },
    "tags": []
   },
   "outputs": [],
   "source": [
    "FEATURES_SIZE = 39\n",
    "CHAPTER_SIZE = 38\n",
    "SUB_CHAPTER_SIZE = 223\n",
    "QUESTION_SIZE = 1069"
   ]
  },
  {
   "cell_type": "code",
   "execution_count": 29,
   "metadata": {
    "execution": {
     "iopub.execute_input": "2021-08-08T13:45:08.563962Z",
     "iopub.status.busy": "2021-08-08T13:45:08.563216Z",
     "iopub.status.idle": "2021-08-08T13:45:08.572781Z",
     "shell.execute_reply": "2021-08-08T13:45:08.572270Z",
     "shell.execute_reply.started": "2021-08-06T21:04:52.955964Z"
    },
    "papermill": {
     "duration": 0.371021,
     "end_time": "2021-08-08T13:45:08.572923",
     "exception": false,
     "start_time": "2021-08-08T13:45:08.201902",
     "status": "completed"
    },
    "tags": []
   },
   "outputs": [
    {
     "data": {
      "text/plain": [
       "array([ 96,  86,  88,  28,  12,  82, 125,  32,  69,  33,  21, 115, 120,\n",
       "       119,  91,  73,  57,  77, 117,  40,  74,  41,  68,  39,  92,  47,\n",
       "       104,  95,  53,  49,  50,  16,  52,  55,   7,  15,  51, 102, 103,\n",
       "        11,  94, 108, 100,  17,  67,  63,  13, 139,  26,  25,   8, 107,\n",
       "         0,  90,  48,  54, 138,   1,   2,   3,  34,  35,  85,   5,  24,\n",
       "        37,  36,  78,  70,  45, 142,  71,  10,  89, 111, 112, 109, 116,\n",
       "        76,  72, 148, 134, 146, 221, 143,  56,  60,  61,  23, 140, 106,\n",
       "        42,  83,  22, 145, 136, 144,  38,   4,  19, 137,  75,  43,  98,\n",
       "        84, 113, 173, 174, 175, 176, 177, 178, 180, 181, 182, 187, 189,\n",
       "       190, 191, 192, 193, 195, 197, 151, 152, 153, 156, 157, 158, 159,\n",
       "       160, 161, 163, 164, 165, 166, 167, 168, 169, 170, 171, 172, 198,\n",
       "       199, 200, 201, 202, 203, 204, 205, 206, 207, 208, 209, 210, 162,\n",
       "       179, 186, 188, 194, 183, 184, 185, 211, 212, 213, 154, 155, 196,\n",
       "         6, 118,  18, 215,  46, 216, 141,  27, 217, 105, 123, 218, 101,\n",
       "       124, 219, 122, 220,  58,  59,  64,  20,  93,  65,  66,   9,  44,\n",
       "        30,  14,  79, 121,  31, 110, 129,  87,  97,  62, 149, 132, 131,\n",
       "       150, 130, 128,  99, 147, 127, 214, 135,  80, 126, 133,  81, 114,\n",
       "        29], dtype=int16)"
      ]
     },
     "execution_count": 29,
     "metadata": {},
     "output_type": "execute_result"
    }
   ],
   "source": [
    "dataframe['sub_chapter_label'].unique()"
   ]
  },
  {
   "cell_type": "code",
   "execution_count": 30,
   "metadata": {
    "execution": {
     "iopub.execute_input": "2021-08-08T13:45:09.291817Z",
     "iopub.status.busy": "2021-08-08T13:45:09.291171Z",
     "iopub.status.idle": "2021-08-08T13:45:10.254238Z",
     "shell.execute_reply": "2021-08-08T13:45:10.253636Z",
     "shell.execute_reply.started": "2021-08-06T21:04:54.080084Z"
    },
    "id": "mY3Thp6d0NaT",
    "papermill": {
     "duration": 1.323585,
     "end_time": "2021-08-08T13:45:10.254396",
     "exception": false,
     "start_time": "2021-08-08T13:45:08.930811",
     "status": "completed"
    },
    "tags": []
   },
   "outputs": [],
   "source": [
    "#create dataset class\n",
    "#to prepare it for train, valid, and test sets\n",
    "from torch.utils.data import Dataset, DataLoader\n",
    "class SPACE_DATASET(Dataset):\n",
    "    def __init__(self, data, maxlength = 400):\n",
    "        super(SPACE_DATASET, self).__init__()\n",
    "        self.maxlength = maxlength\n",
    "        self.data = data\n",
    "        self.users = list()\n",
    "        for user in data.index:\n",
    "            self.users.append(user)\n",
    "\n",
    "    def __len__(self):\n",
    "        return len(self.users)\n",
    "    \n",
    "    def __getitem__(self, ix):\n",
    "        user = self.users[ix]\n",
    "        user = user\n",
    "        target, term, ch_label, sub_ch_label, ques_name, features = self.data[user]\n",
    "        \n",
    "        #0s should be used as padding values\n",
    "        ori_target = target.values \n",
    "        term = term.values\n",
    "        ch_label = ch_label.values + 1\n",
    "        sub_ch_label = sub_ch_label.values +1\n",
    "        ques_name = ques_name.values + 1\n",
    "        \n",
    "        n = len(ch_label)\n",
    "\n",
    "        # one hot for term\n",
    "        term_encode = [0]*7\n",
    "        term_encode[term[0]] = 1\n",
    "        shifted_target= []\n",
    "\n",
    "        \n",
    "        # get  user interaction informations in the previous MAXLEN interactions\n",
    "        if n > self.maxlength:\n",
    "          ch_label = ch_label[-self.maxlength:]\n",
    "          sub_ch_label = sub_ch_label[-self.maxlength:]\n",
    "          ques_name = ques_name[-self.maxlength:]\n",
    "          features = features[-self.maxlength:]\n",
    "          target = ori_target[-self.maxlength:]\n",
    "          shifted_target = ori_target[ (-self.maxlength - 1) :-1]\n",
    "        else:\n",
    "          ch_label = [0]*(self.maxlength - n)+list(ch_label[:])\n",
    "          sub_ch_label = [0]*(self.maxlength - n)+list(sub_ch_label[:])\n",
    "          ques_name = [0]*(self.maxlength - n)+list(ques_name[:])\n",
    "          features = [[0]*len(features[0])]*(self.maxlength  - n)+list(features[:])\n",
    "          target = [-1]*(self.maxlength - n) + list(ori_target[:])\n",
    "          shifted_target = [2]*(self.maxlength + 1 - n) + list(ori_target[:-1])\n",
    "\n",
    "        new_features = []\n",
    "        count = 0\n",
    "        for f in features:\n",
    "          temp = list(f)\n",
    "          temp.extend(term_encode)\n",
    "          #temp.append(shifted_target[count]) #uncomment this line for include previous response feature\n",
    "          new_features.append(temp)\n",
    "          count += 1\n",
    "        features = new_features\n",
    "        return ch_label,sub_ch_label,ques_name,features, shifted_target, target"
   ]
  },
  {
   "cell_type": "code",
   "execution_count": 31,
   "metadata": {
    "execution": {
     "iopub.execute_input": "2021-08-08T13:45:10.967300Z",
     "iopub.status.busy": "2021-08-08T13:45:10.966680Z",
     "iopub.status.idle": "2021-08-08T13:45:10.970484Z",
     "shell.execute_reply": "2021-08-08T13:45:10.969863Z",
     "shell.execute_reply.started": "2021-08-06T21:04:54.917448Z"
    },
    "papermill": {
     "duration": 0.363619,
     "end_time": "2021-08-08T13:45:10.970613",
     "exception": false,
     "start_time": "2021-08-08T13:45:10.606994",
     "status": "completed"
    },
    "tags": []
   },
   "outputs": [
    {
     "data": {
      "text/plain": [
       "223"
      ]
     },
     "execution_count": 31,
     "metadata": {},
     "output_type": "execute_result"
    }
   ],
   "source": [
    "SUB_CHAPTER_SIZE"
   ]
  },
  {
   "cell_type": "markdown",
   "metadata": {
    "id": "4xc90-aLzxat",
    "papermill": {
     "duration": 0.354558,
     "end_time": "2021-08-08T13:45:11.679269",
     "exception": false,
     "start_time": "2021-08-08T13:45:11.324711",
     "status": "completed"
    },
    "tags": []
   },
   "source": [
    "## KFOLD - RNN\n"
   ]
  },
  {
   "cell_type": "code",
   "execution_count": 32,
   "metadata": {
    "execution": {
     "iopub.execute_input": "2021-08-08T13:45:12.393856Z",
     "iopub.status.busy": "2021-08-08T13:45:12.388620Z",
     "iopub.status.idle": "2021-08-08T13:53:01.718741Z",
     "shell.execute_reply": "2021-08-08T13:53:01.719267Z",
     "shell.execute_reply.started": "2021-08-06T21:04:56.750188Z"
    },
    "id": "gzJrljnjzypP",
    "outputId": "87abe488-b493-4f8f-9d71-45cb1d2ddf51",
    "papermill": {
     "duration": 469.695525,
     "end_time": "2021-08-08T13:53:01.719458",
     "exception": false,
     "start_time": "2021-08-08T13:45:12.023933",
     "status": "completed"
    },
    "tags": []
   },
   "outputs": [
    {
     "name": "stdout",
     "output_type": "stream",
     "text": [
      "Epoch 1/100\n",
      "14/14 [==============================] - 11s 520ms/step - loss: 0.6249 - masked_acc: 0.5300 - masked_auc: 0.5134 - val_loss: 0.5359 - val_masked_acc: 0.6888 - val_masked_auc: 0.6207\n",
      "Epoch 2/100\n",
      "14/14 [==============================] - 6s 428ms/step - loss: 0.4807 - masked_acc: 0.6999 - masked_auc: 0.6587 - val_loss: 0.4717 - val_masked_acc: 0.7255 - val_masked_auc: 0.7206\n",
      "Epoch 3/100\n",
      "14/14 [==============================] - 6s 400ms/step - loss: 0.4370 - masked_acc: 0.7307 - masked_auc: 0.7348 - val_loss: 0.4615 - val_masked_acc: 0.7421 - val_masked_auc: 0.7591\n",
      "Epoch 4/100\n",
      "14/14 [==============================] - 6s 408ms/step - loss: 0.4260 - masked_acc: 0.7451 - masked_auc: 0.7664 - val_loss: 0.4653 - val_masked_acc: 0.7511 - val_masked_auc: 0.7785\n",
      "Epoch 5/100\n",
      "14/14 [==============================] - 6s 400ms/step - loss: 0.4191 - masked_acc: 0.7526 - masked_auc: 0.7825 - val_loss: 0.4695 - val_masked_acc: 0.7570 - val_masked_auc: 0.7908\n",
      "Epoch 6/100\n",
      "14/14 [==============================] - 6s 405ms/step - loss: 0.4052 - masked_acc: 0.7584 - masked_auc: 0.7941 - val_loss: 0.4769 - val_masked_acc: 0.7612 - val_masked_auc: 0.7996\n",
      "Epoch 7/100\n",
      "14/14 [==============================] - 6s 404ms/step - loss: 0.4038 - masked_acc: 0.7622 - masked_auc: 0.8020 - val_loss: 0.4756 - val_masked_acc: 0.7645 - val_masked_auc: 0.8064\n",
      "Epoch 8/100\n",
      "14/14 [==============================] - 6s 431ms/step - loss: 0.4000 - masked_acc: 0.7653 - masked_auc: 0.8084 - val_loss: 0.4722 - val_masked_acc: 0.7673 - val_masked_auc: 0.8120\n",
      "Epoch 9/100\n",
      "14/14 [==============================] - 6s 420ms/step - loss: 0.3903 - masked_acc: 0.7681 - masked_auc: 0.8136 - val_loss: 0.4759 - val_masked_acc: 0.7695 - val_masked_auc: 0.8166\n",
      "Epoch 10/100\n",
      "14/14 [==============================] - 6s 409ms/step - loss: 0.3928 - masked_acc: 0.7701 - masked_auc: 0.8179 - val_loss: 0.4913 - val_masked_acc: 0.7716 - val_masked_auc: 0.8205\n",
      "Epoch 11/100\n",
      "14/14 [==============================] - 6s 401ms/step - loss: 0.3853 - masked_acc: 0.7722 - masked_auc: 0.8218 - val_loss: 0.5035 - val_masked_acc: 0.7736 - val_masked_auc: 0.8242\n",
      "Epoch 12/100\n",
      "14/14 [==============================] - 6s 406ms/step - loss: 0.3739 - masked_acc: 0.7743 - masked_auc: 0.8254 - val_loss: 0.5195 - val_masked_acc: 0.7756 - val_masked_auc: 0.8276\n",
      "Epoch 13/100\n",
      "14/14 [==============================] - 6s 401ms/step - loss: 0.3758 - masked_acc: 0.7761 - masked_auc: 0.8287 - val_loss: 0.5119 - val_masked_acc: 0.7774 - val_masked_auc: 0.8308\n",
      "28/28 [==============================] - 2s 82ms/step - loss: 0.3619 - masked_acc: 0.7788 - masked_auc: 0.8330\n",
      "4/4 [==============================] - 0s 68ms/step - loss: 0.4642 - masked_acc: 0.7793 - masked_auc: 0.8343\n",
      "Test:  [0.464241087436676, 0.7793152332305908, 0.834303617477417]\n",
      "Epoch 1/100\n",
      "14/14 [==============================] - 10s 494ms/step - loss: 0.6018 - masked_acc: 0.6397 - masked_auc: 0.5180 - val_loss: 0.4640 - val_masked_acc: 0.7070 - val_masked_auc: 0.6385\n",
      "Epoch 2/100\n",
      "14/14 [==============================] - 6s 419ms/step - loss: 0.4637 - masked_acc: 0.7173 - masked_auc: 0.6819 - val_loss: 0.4210 - val_masked_acc: 0.7355 - val_masked_auc: 0.7353\n",
      "Epoch 3/100\n",
      "14/14 [==============================] - 6s 420ms/step - loss: 0.4385 - masked_acc: 0.7398 - masked_auc: 0.7483 - val_loss: 0.4138 - val_masked_acc: 0.7485 - val_masked_auc: 0.7689\n",
      "Epoch 4/100\n",
      "14/14 [==============================] - 6s 410ms/step - loss: 0.4270 - masked_acc: 0.7506 - masked_auc: 0.7748 - val_loss: 0.4144 - val_masked_acc: 0.7555 - val_masked_auc: 0.7863\n",
      "Epoch 5/100\n",
      "14/14 [==============================] - 6s 444ms/step - loss: 0.4212 - masked_acc: 0.7569 - masked_auc: 0.7902 - val_loss: 0.4170 - val_masked_acc: 0.7601 - val_masked_auc: 0.7973\n",
      "Epoch 6/100\n",
      "14/14 [==============================] - 6s 413ms/step - loss: 0.4161 - masked_acc: 0.7610 - masked_auc: 0.8001 - val_loss: 0.4261 - val_masked_acc: 0.7634 - val_masked_auc: 0.8050\n",
      "Epoch 7/100\n",
      "14/14 [==============================] - 6s 399ms/step - loss: 0.4043 - masked_acc: 0.7644 - masked_auc: 0.8074 - val_loss: 0.4199 - val_masked_acc: 0.7664 - val_masked_auc: 0.8114\n",
      "Epoch 8/100\n",
      "14/14 [==============================] - 6s 404ms/step - loss: 0.4094 - masked_acc: 0.7670 - masked_auc: 0.8132 - val_loss: 0.4331 - val_masked_acc: 0.7689 - val_masked_auc: 0.8165\n",
      "Epoch 9/100\n",
      "14/14 [==============================] - 6s 396ms/step - loss: 0.3969 - masked_acc: 0.7696 - masked_auc: 0.8182 - val_loss: 0.4278 - val_masked_acc: 0.7711 - val_masked_auc: 0.8211\n",
      "Epoch 10/100\n",
      "14/14 [==============================] - 6s 415ms/step - loss: 0.3869 - masked_acc: 0.7719 - masked_auc: 0.8225 - val_loss: 0.4361 - val_masked_acc: 0.7731 - val_masked_auc: 0.8249\n",
      "Epoch 11/100\n",
      "14/14 [==============================] - 6s 431ms/step - loss: 0.3860 - masked_acc: 0.7737 - masked_auc: 0.8262 - val_loss: 0.4445 - val_masked_acc: 0.7752 - val_masked_auc: 0.8286\n",
      "Epoch 12/100\n",
      "14/14 [==============================] - 6s 417ms/step - loss: 0.3723 - masked_acc: 0.7758 - masked_auc: 0.8298 - val_loss: 0.4677 - val_masked_acc: 0.7769 - val_masked_auc: 0.8317\n",
      "Epoch 13/100\n",
      "14/14 [==============================] - 6s 412ms/step - loss: 0.3719 - masked_acc: 0.7775 - masked_auc: 0.8328 - val_loss: 0.4557 - val_masked_acc: 0.7786 - val_masked_auc: 0.8345\n",
      "28/28 [==============================] - 2s 74ms/step - loss: 0.3677 - masked_acc: 0.7799 - masked_auc: 0.8366\n",
      "4/4 [==============================] - 0s 63ms/step - loss: 0.4607 - masked_acc: 0.7803 - masked_auc: 0.8376\n",
      "Test:  [0.46074676513671875, 0.7802760601043701, 0.8376324772834778]\n",
      "Epoch 1/100\n",
      "14/14 [==============================] - 11s 509ms/step - loss: 0.5860 - masked_acc: 0.6811 - masked_auc: 0.5452 - val_loss: 0.4912 - val_masked_acc: 0.7185 - val_masked_auc: 0.6733\n",
      "Epoch 2/100\n",
      "14/14 [==============================] - 6s 414ms/step - loss: 0.4551 - masked_acc: 0.7267 - masked_auc: 0.7053 - val_loss: 0.4630 - val_masked_acc: 0.7417 - val_masked_auc: 0.7491\n",
      "Epoch 3/100\n",
      "14/14 [==============================] - 6s 401ms/step - loss: 0.4283 - masked_acc: 0.7455 - masked_auc: 0.7602 - val_loss: 0.4569 - val_masked_acc: 0.7519 - val_masked_auc: 0.7765\n",
      "Epoch 4/100\n",
      "14/14 [==============================] - 6s 403ms/step - loss: 0.4336 - masked_acc: 0.7533 - masked_auc: 0.7812 - val_loss: 0.4531 - val_masked_acc: 0.7576 - val_masked_auc: 0.7910\n",
      "Epoch 5/100\n",
      "14/14 [==============================] - 6s 405ms/step - loss: 0.4126 - masked_acc: 0.7592 - masked_auc: 0.7947 - val_loss: 0.4529 - val_masked_acc: 0.7615 - val_masked_auc: 0.8004\n",
      "Epoch 6/100\n",
      "14/14 [==============================] - 6s 428ms/step - loss: 0.4122 - masked_acc: 0.7625 - masked_auc: 0.8027 - val_loss: 0.4595 - val_masked_acc: 0.7646 - val_masked_auc: 0.8073\n",
      "Epoch 7/100\n",
      "14/14 [==============================] - 6s 395ms/step - loss: 0.4172 - masked_acc: 0.7651 - masked_auc: 0.8088 - val_loss: 0.4537 - val_masked_acc: 0.7671 - val_masked_auc: 0.8127\n",
      "Epoch 8/100\n",
      "14/14 [==============================] - 6s 405ms/step - loss: 0.3984 - masked_acc: 0.7678 - masked_auc: 0.8144 - val_loss: 0.4557 - val_masked_acc: 0.7693 - val_masked_auc: 0.8175\n",
      "Epoch 9/100\n",
      "14/14 [==============================] - 6s 400ms/step - loss: 0.3973 - masked_acc: 0.7699 - masked_auc: 0.8190 - val_loss: 0.4594 - val_masked_acc: 0.7713 - val_masked_auc: 0.8217\n",
      "Epoch 10/100\n",
      "14/14 [==============================] - 6s 405ms/step - loss: 0.3908 - masked_acc: 0.7719 - masked_auc: 0.8230 - val_loss: 0.4584 - val_masked_acc: 0.7732 - val_masked_auc: 0.8255\n",
      "Epoch 11/100\n",
      "14/14 [==============================] - 6s 442ms/step - loss: 0.3904 - masked_acc: 0.7737 - masked_auc: 0.8265 - val_loss: 0.4631 - val_masked_acc: 0.7751 - val_masked_auc: 0.8288\n",
      "Epoch 12/100\n",
      "14/14 [==============================] - 6s 415ms/step - loss: 0.3780 - masked_acc: 0.7757 - masked_auc: 0.8299 - val_loss: 0.4627 - val_masked_acc: 0.7768 - val_masked_auc: 0.8320\n",
      "Epoch 13/100\n",
      "14/14 [==============================] - 6s 403ms/step - loss: 0.3729 - masked_acc: 0.7774 - masked_auc: 0.8331 - val_loss: 0.4750 - val_masked_acc: 0.7785 - val_masked_auc: 0.8350\n",
      "Epoch 14/100\n",
      "14/14 [==============================] - 6s 400ms/step - loss: 0.3637 - masked_acc: 0.7791 - masked_auc: 0.8360 - val_loss: 0.4782 - val_masked_acc: 0.7801 - val_masked_auc: 0.8379\n",
      "Epoch 15/100\n",
      "14/14 [==============================] - 6s 407ms/step - loss: 0.3549 - masked_acc: 0.7808 - masked_auc: 0.8389 - val_loss: 0.4817 - val_masked_acc: 0.7818 - val_masked_auc: 0.8406\n",
      "28/28 [==============================] - 2s 71ms/step - loss: 0.3517 - masked_acc: 0.7831 - masked_auc: 0.8425\n",
      "4/4 [==============================] - 0s 67ms/step - loss: 0.4395 - masked_acc: 0.7837 - masked_auc: 0.8436\n",
      "Test:  [0.43954360485076904, 0.7837048768997192, 0.8436008095741272]\n",
      "Epoch 1/100\n",
      "14/14 [==============================] - 10s 475ms/step - loss: 0.5872 - masked_acc: 0.6278 - masked_auc: 0.5178 - val_loss: 0.5122 - val_masked_acc: 0.6984 - val_masked_auc: 0.6453\n",
      "Epoch 2/100\n",
      "14/14 [==============================] - 6s 399ms/step - loss: 0.4687 - masked_acc: 0.7080 - masked_auc: 0.6822 - val_loss: 0.4637 - val_masked_acc: 0.7294 - val_masked_auc: 0.7351\n",
      "Epoch 3/100\n",
      "14/14 [==============================] - 6s 396ms/step - loss: 0.4382 - masked_acc: 0.7346 - masked_auc: 0.7467 - val_loss: 0.4569 - val_masked_acc: 0.7439 - val_masked_auc: 0.7673\n",
      "Epoch 4/100\n",
      "14/14 [==============================] - 5s 393ms/step - loss: 0.4306 - masked_acc: 0.7461 - masked_auc: 0.7732 - val_loss: 0.4556 - val_masked_acc: 0.7516 - val_masked_auc: 0.7844\n",
      "Epoch 5/100\n",
      "14/14 [==============================] - 6s 409ms/step - loss: 0.4194 - masked_acc: 0.7533 - masked_auc: 0.7883 - val_loss: 0.4577 - val_masked_acc: 0.7566 - val_masked_auc: 0.7952\n",
      "Epoch 6/100\n",
      "14/14 [==============================] - 6s 419ms/step - loss: 0.4166 - masked_acc: 0.7578 - masked_auc: 0.7978 - val_loss: 0.4593 - val_masked_acc: 0.7604 - val_masked_auc: 0.8030\n",
      "Epoch 7/100\n",
      "14/14 [==============================] - 6s 398ms/step - loss: 0.4135 - masked_acc: 0.7611 - masked_auc: 0.8051 - val_loss: 0.4606 - val_masked_acc: 0.7633 - val_masked_auc: 0.8090\n",
      "Epoch 8/100\n",
      "14/14 [==============================] - 6s 395ms/step - loss: 0.4065 - masked_acc: 0.7640 - masked_auc: 0.8107 - val_loss: 0.4620 - val_masked_acc: 0.7659 - val_masked_auc: 0.8141\n",
      "Epoch 9/100\n",
      "14/14 [==============================] - 6s 398ms/step - loss: 0.3973 - masked_acc: 0.7666 - masked_auc: 0.8155 - val_loss: 0.4693 - val_masked_acc: 0.7682 - val_masked_auc: 0.8184\n",
      "Epoch 10/100\n",
      "14/14 [==============================] - 6s 407ms/step - loss: 0.3935 - masked_acc: 0.7688 - masked_auc: 0.8197 - val_loss: 0.4651 - val_masked_acc: 0.7701 - val_masked_auc: 0.8221\n",
      "Epoch 11/100\n",
      "14/14 [==============================] - 6s 425ms/step - loss: 0.3885 - masked_acc: 0.7707 - masked_auc: 0.8233 - val_loss: 0.4711 - val_masked_acc: 0.7720 - val_masked_auc: 0.8257\n",
      "Epoch 12/100\n",
      "14/14 [==============================] - 6s 436ms/step - loss: 0.3784 - masked_acc: 0.7727 - masked_auc: 0.8268 - val_loss: 0.4749 - val_masked_acc: 0.7737 - val_masked_auc: 0.8288\n",
      "Epoch 13/100\n",
      "14/14 [==============================] - 6s 406ms/step - loss: 0.3768 - masked_acc: 0.7743 - masked_auc: 0.8297 - val_loss: 0.4761 - val_masked_acc: 0.7753 - val_masked_auc: 0.8315\n",
      "Epoch 14/100\n",
      "14/14 [==============================] - 6s 401ms/step - loss: 0.3654 - masked_acc: 0.7759 - masked_auc: 0.8326 - val_loss: 0.4856 - val_masked_acc: 0.7770 - val_masked_auc: 0.8344\n",
      "28/28 [==============================] - 2s 72ms/step - loss: 0.3615 - masked_acc: 0.7783 - masked_auc: 0.8364\n",
      "4/4 [==============================] - 0s 65ms/step - loss: 0.4568 - masked_acc: 0.7789 - masked_auc: 0.8374\n",
      "Test:  [0.456818550825119, 0.7788649797439575, 0.8373974561691284]\n",
      "Epoch 1/100\n",
      "14/14 [==============================] - 10s 508ms/step - loss: 0.5736 - masked_acc: 0.6893 - masked_auc: 0.5486 - val_loss: 0.4728 - val_masked_acc: 0.7206 - val_masked_auc: 0.6828\n",
      "Epoch 2/100\n",
      "14/14 [==============================] - 6s 404ms/step - loss: 0.4547 - masked_acc: 0.7278 - masked_auc: 0.7144 - val_loss: 0.4440 - val_masked_acc: 0.7440 - val_masked_auc: 0.7561\n",
      "Epoch 3/100\n",
      "14/14 [==============================] - 6s 411ms/step - loss: 0.4334 - masked_acc: 0.7474 - masked_auc: 0.7657 - val_loss: 0.4393 - val_masked_acc: 0.7543 - val_masked_auc: 0.7813\n",
      "Epoch 4/100\n",
      "14/14 [==============================] - 6s 403ms/step - loss: 0.4248 - masked_acc: 0.7559 - masked_auc: 0.7863 - val_loss: 0.4381 - val_masked_acc: 0.7598 - val_masked_auc: 0.7949\n",
      "Epoch 5/100\n",
      "14/14 [==============================] - 6s 437ms/step - loss: 0.4182 - masked_acc: 0.7609 - masked_auc: 0.7983 - val_loss: 0.4391 - val_masked_acc: 0.7636 - val_masked_auc: 0.8038\n",
      "Epoch 6/100\n",
      "14/14 [==============================] - 6s 412ms/step - loss: 0.4080 - masked_acc: 0.7644 - masked_auc: 0.8062 - val_loss: 0.4409 - val_masked_acc: 0.7663 - val_masked_auc: 0.8104\n",
      "Epoch 7/100\n",
      "14/14 [==============================] - 6s 435ms/step - loss: 0.3998 - masked_acc: 0.7670 - masked_auc: 0.8122 - val_loss: 0.4428 - val_masked_acc: 0.7687 - val_masked_auc: 0.8157\n",
      "Epoch 8/100\n",
      "14/14 [==============================] - 6s 410ms/step - loss: 0.3952 - masked_acc: 0.7693 - masked_auc: 0.8172 - val_loss: 0.4462 - val_masked_acc: 0.7708 - val_masked_auc: 0.8203\n",
      "Epoch 9/100\n",
      "14/14 [==============================] - 6s 406ms/step - loss: 0.3923 - masked_acc: 0.7714 - masked_auc: 0.8218 - val_loss: 0.4461 - val_masked_acc: 0.7728 - val_masked_auc: 0.8243\n",
      "Epoch 10/100\n",
      "14/14 [==============================] - 6s 411ms/step - loss: 0.3881 - masked_acc: 0.7732 - masked_auc: 0.8255 - val_loss: 0.4608 - val_masked_acc: 0.7747 - val_masked_auc: 0.8279\n",
      "Epoch 11/100\n",
      "14/14 [==============================] - 6s 422ms/step - loss: 0.3786 - masked_acc: 0.7752 - masked_auc: 0.8290 - val_loss: 0.4628 - val_masked_acc: 0.7764 - val_masked_auc: 0.8311\n",
      "Epoch 12/100\n",
      "14/14 [==============================] - 6s 429ms/step - loss: 0.3678 - masked_acc: 0.7771 - masked_auc: 0.8323 - val_loss: 0.4560 - val_masked_acc: 0.7781 - val_masked_auc: 0.8341\n",
      "Epoch 13/100\n",
      "14/14 [==============================] - 6s 405ms/step - loss: 0.3683 - masked_acc: 0.7786 - masked_auc: 0.8352 - val_loss: 0.4689 - val_masked_acc: 0.7796 - val_masked_auc: 0.8368\n",
      "Epoch 14/100\n",
      "14/14 [==============================] - 6s 409ms/step - loss: 0.3688 - masked_acc: 0.7801 - masked_auc: 0.8376 - val_loss: 0.4682 - val_masked_acc: 0.7812 - val_masked_auc: 0.8394\n",
      "28/28 [==============================] - 2s 72ms/step - loss: 0.3560 - masked_acc: 0.7826 - masked_auc: 0.8413\n",
      "4/4 [==============================] - 0s 65ms/step - loss: 0.4690 - masked_acc: 0.7831 - masked_auc: 0.8424\n",
      "Test:  [0.4689660370349884, 0.7830678224563599, 0.8423575162887573]\n"
     ]
    }
   ],
   "source": [
    "# 5 fold cross validation with RNN-based model\n",
    "import torch\n",
    "X = np.array(grouped_data.keys())\n",
    "kfold = KFold(n_splits=5, shuffle=True)\n",
    "train_losses = list()\n",
    "train_aucs = list()\n",
    "val_losses = list()\n",
    "val_aucs = list()\n",
    "train_eval = list()\n",
    "test_eval = list()\n",
    "for train, test in kfold.split(X):\n",
    "    users_train, users_test =  X[train], X[test]\n",
    "    n = len(users_test)//2\n",
    "    users_test, users_val = users_test[:n], users_test[n: ]\n",
    "    train_data_space = SPACE_DATASET(grouped_data[users_train], MAXLENGTH)\n",
    "    val_data_space = SPACE_DATASET(grouped_data[users_val], MAXLENGTH)\n",
    "    test_data_space = SPACE_DATASET(grouped_data[users_test], MAXLENGTH)\n",
    "    #construct training input\n",
    "    train_chapter=[]\n",
    "    train_sub_chapter=[]\n",
    "    train_question = []\n",
    "    train_features=[]\n",
    "    #train_shifted_t = []\n",
    "    train_labels=[]\n",
    "    for i in range(len(users_train)):\n",
    "        user = train_data_space.__getitem__(i)\n",
    "        train_chapter.append(user[0])\n",
    "        train_sub_chapter.append(user[1]) \n",
    "        train_question.append(user[2])\n",
    "        train_features.append(user[3])\n",
    "        #train_shifted_t.append(user[4])\n",
    "        train_labels.append(user[5])\n",
    "    train_chapter = np.array(train_chapter)\n",
    "    train_sub_chapter = np.array(train_sub_chapter)\n",
    "    train_question = np.array(train_question)\n",
    "    train_features = np.array(train_features)\n",
    "    #train_shifted_t = np.array(train_shifted_t)\n",
    "    train_labels= np.array(train_labels)[..., np.newaxis]\n",
    "\n",
    "    #construct validation input\n",
    "    val_chapter=[]\n",
    "    val_sub_chapter=[]\n",
    "    val_question = []\n",
    "    val_features=[]\n",
    "    #val_shifted_t = []\n",
    "    val_labels=[]\n",
    "    for i in range(len(users_val)):\n",
    "        user = val_data_space.__getitem__(i)\n",
    "        val_chapter.append(user[0])\n",
    "        val_sub_chapter.append(user[1]) \n",
    "        val_question.append(user[2])\n",
    "        val_features.append(user[3])\n",
    "        #val_shifted_t.append(user[4])\n",
    "        val_labels.append(user[5])\n",
    "    val_chapter = np.array(val_chapter)\n",
    "    val_sub_chapter = np.array(val_sub_chapter)\n",
    "    val_features = np.array(val_features)\n",
    "    val_question = np.array(val_question)\n",
    "    #val_shifted_t = np.array(val_shifted_t)\n",
    "    val_labels= np.array(val_labels)[..., np.newaxis]\n",
    "\n",
    "    # construct test input\n",
    "    test_chapter=[]\n",
    "    test_sub_chapter=[]\n",
    "    test_features=[]\n",
    "    test_question=[]\n",
    "    #test_shifted_t = []\n",
    "    test_labels=[]\n",
    "    for i in range(len(users_test)):\n",
    "        user = test_data_space.__getitem__(i)\n",
    "        test_chapter.append(user[0])\n",
    "        test_sub_chapter.append(user[1]) \n",
    "        test_question.append(user[2])\n",
    "        test_features.append(user[3])\n",
    "        #test_shifted_t.append(user[4])\n",
    "        test_labels.append(user[5])\n",
    "    test_chapter = np.array(test_chapter)\n",
    "    test_sub_chapter = np.array(test_sub_chapter)\n",
    "    test_features = np.array(test_features)\n",
    "    test_question = np.array(test_question)\n",
    "    #test_shifted_t = np.array(test_shifted_t)\n",
    "    test_labels= np.array(test_labels)[..., np.newaxis]\n",
    "\n",
    "    # define loss function and evaluation metrics\n",
    "    bce = tf.keras.losses.BinaryCrossentropy(from_logits=True)\n",
    "    acc = tf.keras.metrics.Accuracy()\n",
    "    auc = tf.keras.metrics.AUC()\n",
    "\n",
    "    def masked_bce(y_true, y_pred):\n",
    "      flat_pred = y_pred\n",
    "      flat_ground_truth = y_true\n",
    "      label_mask = tf.math.not_equal(flat_ground_truth, -1)\n",
    "      return bce(flat_ground_truth, flat_pred, sample_weight=label_mask)\n",
    "\n",
    "    def masked_acc(y_true, y_pred):\n",
    "      flat_pred = y_pred\n",
    "      flat_ground_truth = y_true\n",
    "      flat_pred = (flat_pred >= 0.5)\n",
    "      label_mask = tf.math.not_equal(flat_ground_truth, -1)\n",
    "      return acc(flat_ground_truth, flat_pred, sample_weight=label_mask)\n",
    "\n",
    "    def masked_auc(y_true, y_pred):\n",
    "      flat_pred = y_pred\n",
    "      flat_ground_truth = y_true\n",
    "      label_mask = tf.math.not_equal(flat_ground_truth, -1)\n",
    "      return auc(flat_ground_truth, flat_pred, sample_weight=label_mask)\n",
    "\n",
    "    # input layer\n",
    "    input_chap = tf.keras.Input(shape=(MAXLENGTH))\n",
    "    input_sub_chap = tf.keras.Input(shape=(MAXLENGTH))\n",
    "    input_ques =  tf.keras.Input(shape=(MAXLENGTH))\n",
    "    #input_shifted = tf.keras.Input(shape=(MAXLENGTH))\n",
    "    input_features = tf.keras.Input(shape=(MAXLENGTH, FEATURES_SIZE))\n",
    "\n",
    "    # embedding layer for categorical features\n",
    "    embedding_chap = Embedding(input_dim = CHAPTER_SIZE, output_dim = EMBEDDING_DIM)(input_chap)\n",
    "    embedding_sub_chap = Embedding(input_dim = SUB_CHAPTER_SIZE, output_dim = EMBEDDING_DIM)(input_sub_chap) \n",
    "    embedding_ques = Embedding(input_dim = QUESTION_SIZE, output_dim = EMBEDDING_DIM)(input_ques)       \n",
    "    #embedding_shifted = Embedding(input_dim = 3, output_dim = EMBEDDING_DIM)(input_shifted)\n",
    "    # dense layer for numeric features\n",
    "    dense_features = Dense(EMBEDDING_DIM,input_shape = (None, MAXLENGTH))(input_features)\n",
    "\n",
    "    # definr RNN layers\n",
    "    RNN_chap = RNN(RNN_NEURON, input_shape = (None, EMBEDDING_DIM),return_sequences = True)(embedding_chap)\n",
    "    RNN_sub_chap = RNN(RNN_NEURON, input_shape = (None, EMBEDDING_DIM),return_sequences = True)(embedding_sub_chap)\n",
    "    RNN_ques = RNN(RNN_NEURON, input_shape = (None, EMBEDDING_DIM),return_sequences = True)(embedding_ques)\n",
    "    #RNN_shif = RNN(RNN_NEURON, input_shape = (None, EMBEDDING_DIM),return_sequences = True)(embedding_shifted)\n",
    "    RNN_features = RNN(RNN_NEURON, input_shape = (None, EMBEDDING_DIM),return_sequences = True)(dense_features)\n",
    "\n",
    "    RNN_output = tf.concat([RNN_chap, RNN_sub_chap, RNN_ques, RNN_features], axis = 2)\n",
    "\n",
    "    dense1 = Dense(256, input_shape = (None, 4*EMBEDDING_DIM), activation='relu')(RNN_output)\n",
    "    dropout1 = Dropout(0.1)(dense1)\n",
    "    dense2 = Dense(64, input_shape = (None, 256), activation='relu')(dropout1)\n",
    "    dropout2 = Dropout(0.1)(dense2)\n",
    "    pred = Dense(1, input_shape = (None, 64), activation='sigmoid')(dropout2)\n",
    "\n",
    "    model = tf.keras.Model(\n",
    "        inputs=[input_chap, input_sub_chap,input_ques, input_features],\n",
    "        outputs=pred,\n",
    "        name='RNN_model'\n",
    "    )\n",
    "\n",
    "    callback = tf.keras.callbacks.EarlyStopping(monitor='val_loss', patience=10)\n",
    "    opt_adam = Adam(learning_rate = 0.005)\n",
    "    model.compile(\n",
    "        optimizer=opt_adam,\n",
    "        loss= masked_bce,\n",
    "        metrics = [masked_acc, masked_auc]\n",
    "    )\n",
    "\n",
    "    history = model.fit(\n",
    "      [train_chapter, train_sub_chapter, train_question, train_features],\n",
    "      train_labels,\n",
    "      batch_size = 64,\n",
    "      epochs = 100,\n",
    "      validation_data=([val_chapter, val_sub_chapter, val_question, val_features], val_labels),\n",
    "      callbacks=[callback]\n",
    "    )\n",
    "    val_losses.append(list(history.history['val_loss']))\n",
    "    train_losses.append(list(history.history['loss']))\n",
    "    val_aucs.append(list(history.history['val_masked_auc']))\n",
    "    train_aucs.append(list(history.history['masked_auc']))\n",
    "    train_score = model.evaluate([train_chapter, train_sub_chapter, train_question, train_features], train_labels)\n",
    "    train_eval.append(train_score)\n",
    "    test_score = model.evaluate([test_chapter, test_sub_chapter, test_question, test_features], test_labels)\n",
    "    test_eval.append(test_score)\n",
    "    print(\"Test: \", test_score)\n",
    "    def reset_weights(model):\n",
    "      for layer in model.layers: \n",
    "        if isinstance(layer, tf.keras.Model):\n",
    "          reset_weights(layer)\n",
    "          continue\n",
    "        for k, initializer in layer.__dict__.items():\n",
    "          if \"initializer\" not in k:\n",
    "            continue\n",
    "          # find the corresponding variable\n",
    "          var = getattr(layer, k.replace(\"_initializer\", \"\"))\n",
    "          var.assign(initializer(var.shape, var.dtype))\n",
    "    reset_weights(model)"
   ]
  },
  {
   "cell_type": "code",
   "execution_count": 33,
   "metadata": {
    "execution": {
     "iopub.execute_input": "2021-08-08T13:53:03.203597Z",
     "iopub.status.busy": "2021-08-08T13:53:03.202940Z",
     "iopub.status.idle": "2021-08-08T13:53:03.214058Z",
     "shell.execute_reply": "2021-08-08T13:53:03.212916Z",
     "shell.execute_reply.started": "2021-08-06T21:22:41.876306Z"
    },
    "id": "QsVmumHMz3lx",
    "outputId": "4ff1e2fa-6abb-458e-c729-495b456f53e5",
    "papermill": {
     "duration": 0.757849,
     "end_time": "2021-08-08T13:53:03.214337",
     "exception": false,
     "start_time": "2021-08-08T13:53:02.456488",
     "status": "completed"
    },
    "tags": []
   },
   "outputs": [
    {
     "name": "stdout",
     "output_type": "stream",
     "text": [
      "test avg loss:  0.45806320905685427 +/- 0.010087261536158434\n",
      "test avg acc:  0.7810457944869995 +/- 0.0019749735497957893\n",
      "test avg auc:  0.8390583753585815 +/- 0.0034327132086061493\n"
     ]
    }
   ],
   "source": [
    "t_eval = np.array(test_eval)\n",
    "print(\"test avg loss: \", np.mean(t_eval[:, 0]), \"+/-\" ,np.std(t_eval[:, 0]))\n",
    "print(\"test avg acc: \", np.mean(t_eval[:, 1]),  \"+/-\" ,np.std(t_eval[:, 1]))\n",
    "print(\"test avg auc: \", np.mean(t_eval[:, 2]), \"+/-\" ,np.std(t_eval[:, 2]))"
   ]
  },
  {
   "cell_type": "code",
   "execution_count": 34,
   "metadata": {
    "execution": {
     "iopub.execute_input": "2021-08-08T13:53:04.697178Z",
     "iopub.status.busy": "2021-08-08T13:53:04.696184Z",
     "iopub.status.idle": "2021-08-08T13:53:04.701057Z",
     "shell.execute_reply": "2021-08-08T13:53:04.700530Z",
     "shell.execute_reply.started": "2021-08-06T21:22:41.886927Z"
    },
    "id": "b9MM_CXWz5K6",
    "outputId": "4cf88e1d-3a74-4e7d-f92c-d01522e91757",
    "papermill": {
     "duration": 0.74393,
     "end_time": "2021-08-08T13:53:04.701213",
     "exception": false,
     "start_time": "2021-08-08T13:53:03.957283",
     "status": "completed"
    },
    "tags": []
   },
   "outputs": [
    {
     "name": "stdout",
     "output_type": "stream",
     "text": [
      "train avg loss:  0.3597590267658234 +/- 0.005469080293743634\n",
      "train avg acc:  0.7805545210838318 +/- 0.0019511840300230493\n",
      "train avg auc:  0.8379711389541626 +/- 0.0034840045779663364\n"
     ]
    }
   ],
   "source": [
    "t_eval = np.array(train_eval)\n",
    "print(\"train avg loss: \", np.mean(t_eval[:, 0]), \"+/-\" ,np.std(t_eval[:, 0]))\n",
    "print(\"train avg acc: \", np.mean(t_eval[:, 1]),  \"+/-\" ,np.std(t_eval[:, 1]))\n",
    "print(\"train avg auc: \", np.mean(t_eval[:, 2]), \"+/-\" ,np.std(t_eval[:, 2]))"
   ]
  }
 ],
 "metadata": {
  "kernelspec": {
   "display_name": "Python 3",
   "language": "python",
   "name": "python3"
  },
  "language_info": {
   "codemirror_mode": {
    "name": "ipython",
    "version": 3
   },
   "file_extension": ".py",
   "mimetype": "text/x-python",
   "name": "python",
   "nbconvert_exporter": "python",
   "pygments_lexer": "ipython3",
   "version": "3.8.5"
  },
  "papermill": {
   "default_parameters": {},
   "duration": 824.203363,
   "end_time": "2021-08-08T13:53:08.207569",
   "environment_variables": {},
   "exception": null,
   "input_path": "__notebook__.ipynb",
   "output_path": "__notebook__.ipynb",
   "parameters": {},
   "start_time": "2021-08-08T13:39:24.004206",
   "version": "2.3.3"
  }
 },
 "nbformat": 4,
 "nbformat_minor": 5
}
