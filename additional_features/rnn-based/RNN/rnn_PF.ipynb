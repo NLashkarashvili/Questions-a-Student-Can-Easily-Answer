{
 "cells": [
  {
   "cell_type": "code",
   "execution_count": 1,
   "metadata": {
    "execution": {
     "iopub.execute_input": "2021-08-08T17:37:22.619588Z",
     "iopub.status.busy": "2021-08-08T17:37:22.618267Z",
     "iopub.status.idle": "2021-08-08T17:37:29.154601Z",
     "shell.execute_reply": "2021-08-08T17:37:29.153865Z",
     "shell.execute_reply.started": "2021-08-06T20:53:41.672006Z"
    },
    "id": "farifxiKU1aB",
    "papermill": {
     "duration": 6.573106,
     "end_time": "2021-08-08T17:37:29.154794",
     "exception": false,
     "start_time": "2021-08-08T17:37:22.581688",
     "status": "completed"
    },
    "tags": []
   },
   "outputs": [],
   "source": [
    "import numpy as np\n",
    "import pandas as pd\n",
    "import warnings\n",
    "import gc\n",
    "import tensorflow as tf\n",
    "from tensorflow import keras\n",
    "\n",
    "import random\n",
    "from random import choice\n",
    "from tensorflow.keras.optimizers import Adam\n",
    "from tensorflow.keras.models import Sequential \n",
    "from tensorflow.keras.layers import Dense, Concatenate, Embedding, Flatten, Activation, Dropout\n",
    "from tensorflow.keras.layers import SimpleRNN as RNN\n",
    "from sklearn.model_selection import KFold\n",
    "from tensorflow.python.client import device_lib\n",
    "warnings.filterwarnings('ignore')\n",
    "import random"
   ]
  },
  {
   "cell_type": "code",
   "execution_count": 2,
   "metadata": {
    "execution": {
     "iopub.execute_input": "2021-08-08T17:37:29.224617Z",
     "iopub.status.busy": "2021-08-08T17:37:29.223589Z",
     "iopub.status.idle": "2021-08-08T17:37:29.226225Z",
     "shell.execute_reply": "2021-08-08T17:37:29.225704Z",
     "shell.execute_reply.started": "2021-08-06T20:53:43.985924Z"
    },
    "id": "QOson70GPOXb",
    "papermill": {
     "duration": 0.039744,
     "end_time": "2021-08-08T17:37:29.226360",
     "exception": false,
     "start_time": "2021-08-08T17:37:29.186616",
     "status": "completed"
    },
    "tags": []
   },
   "outputs": [],
   "source": [
    "import gc"
   ]
  },
  {
   "cell_type": "markdown",
   "metadata": {
    "id": "BQsVybBH3VPw",
    "papermill": {
     "duration": 0.031268,
     "end_time": "2021-08-08T17:37:29.289972",
     "exception": false,
     "start_time": "2021-08-08T17:37:29.258704",
     "status": "completed"
    },
    "tags": []
   },
   "source": [
    "## Data Preprocessing"
   ]
  },
  {
   "cell_type": "code",
   "execution_count": 3,
   "metadata": {
    "execution": {
     "iopub.execute_input": "2021-08-08T17:37:29.359497Z",
     "iopub.status.busy": "2021-08-08T17:37:29.358735Z",
     "iopub.status.idle": "2021-08-08T17:37:36.505153Z",
     "shell.execute_reply": "2021-08-08T17:37:36.504516Z",
     "shell.execute_reply.started": "2021-08-06T20:53:43.99311Z"
    },
    "id": "rwtTusGxrmAE",
    "outputId": "1430f3cf-038b-485e-b5c4-c1686b1f34fd",
    "papermill": {
     "duration": 7.183078,
     "end_time": "2021-08-08T17:37:36.505302",
     "exception": false,
     "start_time": "2021-08-08T17:37:29.322224",
     "status": "completed"
    },
    "tags": []
   },
   "outputs": [
    {
     "data": {
      "text/html": [
       "<div>\n",
       "<style scoped>\n",
       "    .dataframe tbody tr th:only-of-type {\n",
       "        vertical-align: middle;\n",
       "    }\n",
       "\n",
       "    .dataframe tbody tr th {\n",
       "        vertical-align: top;\n",
       "    }\n",
       "\n",
       "    .dataframe thead th {\n",
       "        text-align: right;\n",
       "    }\n",
       "</style>\n",
       "<table border=\"1\" class=\"dataframe\">\n",
       "  <thead>\n",
       "    <tr style=\"text-align: right;\">\n",
       "      <th></th>\n",
       "      <th>Unnamed: 0</th>\n",
       "      <th>chapter_label</th>\n",
       "      <th>sub_chapter_label</th>\n",
       "      <th>question_name</th>\n",
       "      <th>user_id.x</th>\n",
       "      <th>term</th>\n",
       "      <th>STDNT_SEX_CD</th>\n",
       "      <th>NonNativeEnglish</th>\n",
       "      <th>White</th>\n",
       "      <th>Asian</th>\n",
       "      <th>...</th>\n",
       "      <th>classGraded</th>\n",
       "      <th>classHonors</th>\n",
       "      <th>Pass_Fail</th>\n",
       "      <th>parentsGraduateEdu</th>\n",
       "      <th>minorityGroup</th>\n",
       "      <th>q</th>\n",
       "      <th>day's_available_flashcards</th>\n",
       "      <th>start_practice</th>\n",
       "      <th>end_practice</th>\n",
       "      <th>days_offset</th>\n",
       "    </tr>\n",
       "  </thead>\n",
       "  <tbody>\n",
       "    <tr>\n",
       "      <th>0</th>\n",
       "      <td>1</td>\n",
       "      <td>Sort</td>\n",
       "      <td>intro-SortingwithSortandSorted</td>\n",
       "      <td>ee_sort_04</td>\n",
       "      <td>148</td>\n",
       "      <td>WN 2018</td>\n",
       "      <td>1</td>\n",
       "      <td>0</td>\n",
       "      <td>1</td>\n",
       "      <td>0</td>\n",
       "      <td>...</td>\n",
       "      <td>1</td>\n",
       "      <td>0</td>\n",
       "      <td>0</td>\n",
       "      <td>0</td>\n",
       "      <td>0</td>\n",
       "      <td>0</td>\n",
       "      <td>18</td>\n",
       "      <td>2018-03-04 20:00:19</td>\n",
       "      <td>2018-03-04 20:00:35</td>\n",
       "      <td>45</td>\n",
       "    </tr>\n",
       "    <tr>\n",
       "      <th>1</th>\n",
       "      <td>2</td>\n",
       "      <td>Functions</td>\n",
       "      <td>Returningavaluefromafunction</td>\n",
       "      <td>test_questionfunctions_2_3</td>\n",
       "      <td>148</td>\n",
       "      <td>WN 2018</td>\n",
       "      <td>1</td>\n",
       "      <td>0</td>\n",
       "      <td>1</td>\n",
       "      <td>0</td>\n",
       "      <td>...</td>\n",
       "      <td>1</td>\n",
       "      <td>0</td>\n",
       "      <td>0</td>\n",
       "      <td>0</td>\n",
       "      <td>0</td>\n",
       "      <td>4</td>\n",
       "      <td>16</td>\n",
       "      <td>2018-02-10 11:57:55</td>\n",
       "      <td>2018-02-10 11:58:35</td>\n",
       "      <td>23</td>\n",
       "    </tr>\n",
       "    <tr>\n",
       "      <th>2</th>\n",
       "      <td>3</td>\n",
       "      <td>RESTAPIs</td>\n",
       "      <td>functionswithrestapis</td>\n",
       "      <td>test_question_functions_rest_apis_1</td>\n",
       "      <td>148</td>\n",
       "      <td>WN 2018</td>\n",
       "      <td>1</td>\n",
       "      <td>0</td>\n",
       "      <td>1</td>\n",
       "      <td>0</td>\n",
       "      <td>...</td>\n",
       "      <td>1</td>\n",
       "      <td>0</td>\n",
       "      <td>0</td>\n",
       "      <td>0</td>\n",
       "      <td>0</td>\n",
       "      <td>1</td>\n",
       "      <td>2</td>\n",
       "      <td>2018-03-12 17:03:07</td>\n",
       "      <td>2018-03-12 17:04:28</td>\n",
       "      <td>53</td>\n",
       "    </tr>\n",
       "    <tr>\n",
       "      <th>3</th>\n",
       "      <td>4</td>\n",
       "      <td>SimplePythonData</td>\n",
       "      <td>FunctionCalls</td>\n",
       "      <td>exercise_functionCalls_1</td>\n",
       "      <td>148</td>\n",
       "      <td>WN 2018</td>\n",
       "      <td>1</td>\n",
       "      <td>0</td>\n",
       "      <td>1</td>\n",
       "      <td>0</td>\n",
       "      <td>...</td>\n",
       "      <td>1</td>\n",
       "      <td>0</td>\n",
       "      <td>0</td>\n",
       "      <td>0</td>\n",
       "      <td>0</td>\n",
       "      <td>0</td>\n",
       "      <td>10</td>\n",
       "      <td>2018-01-30 14:15:49</td>\n",
       "      <td>2018-01-30 14:15:58</td>\n",
       "      <td>12</td>\n",
       "    </tr>\n",
       "    <tr>\n",
       "      <th>4</th>\n",
       "      <td>5</td>\n",
       "      <td>DictionaryAccumulation</td>\n",
       "      <td>AccumulatingaMaximumValue</td>\n",
       "      <td>ps_04_07</td>\n",
       "      <td>148</td>\n",
       "      <td>WN 2018</td>\n",
       "      <td>1</td>\n",
       "      <td>0</td>\n",
       "      <td>1</td>\n",
       "      <td>0</td>\n",
       "      <td>...</td>\n",
       "      <td>1</td>\n",
       "      <td>0</td>\n",
       "      <td>0</td>\n",
       "      <td>0</td>\n",
       "      <td>0</td>\n",
       "      <td>0</td>\n",
       "      <td>23</td>\n",
       "      <td>2018-03-03 14:04:17</td>\n",
       "      <td>2018-03-03 14:04:25</td>\n",
       "      <td>44</td>\n",
       "    </tr>\n",
       "  </tbody>\n",
       "</table>\n",
       "<p>5 rows × 48 columns</p>\n",
       "</div>"
      ],
      "text/plain": [
       "   Unnamed: 0           chapter_label               sub_chapter_label  \\\n",
       "0           1                    Sort  intro-SortingwithSortandSorted   \n",
       "1           2               Functions    Returningavaluefromafunction   \n",
       "2           3                RESTAPIs           functionswithrestapis   \n",
       "3           4        SimplePythonData                   FunctionCalls   \n",
       "4           5  DictionaryAccumulation       AccumulatingaMaximumValue   \n",
       "\n",
       "                         question_name  user_id.x     term  STDNT_SEX_CD  \\\n",
       "0                           ee_sort_04        148  WN 2018             1   \n",
       "1           test_questionfunctions_2_3        148  WN 2018             1   \n",
       "2  test_question_functions_rest_apis_1        148  WN 2018             1   \n",
       "3             exercise_functionCalls_1        148  WN 2018             1   \n",
       "4                             ps_04_07        148  WN 2018             1   \n",
       "\n",
       "   NonNativeEnglish  White  Asian  ...  classGraded  classHonors  Pass_Fail  \\\n",
       "0                 0      1      0  ...            1            0          0   \n",
       "1                 0      1      0  ...            1            0          0   \n",
       "2                 0      1      0  ...            1            0          0   \n",
       "3                 0      1      0  ...            1            0          0   \n",
       "4                 0      1      0  ...            1            0          0   \n",
       "\n",
       "   parentsGraduateEdu  minorityGroup  q  day's_available_flashcards  \\\n",
       "0                   0              0  0                          18   \n",
       "1                   0              0  4                          16   \n",
       "2                   0              0  1                           2   \n",
       "3                   0              0  0                          10   \n",
       "4                   0              0  0                          23   \n",
       "\n",
       "        start_practice         end_practice  days_offset  \n",
       "0  2018-03-04 20:00:19  2018-03-04 20:00:35           45  \n",
       "1  2018-02-10 11:57:55  2018-02-10 11:58:35           23  \n",
       "2  2018-03-12 17:03:07  2018-03-12 17:04:28           53  \n",
       "3  2018-01-30 14:15:49  2018-01-30 14:15:58           12  \n",
       "4  2018-03-03 14:04:17  2018-03-03 14:04:25           44  \n",
       "\n",
       "[5 rows x 48 columns]"
      ]
     },
     "execution_count": 3,
     "metadata": {},
     "output_type": "execute_result"
    }
   ],
   "source": [
    "# load the data\n",
    "import pandas as pd\n",
    "dataframe = pd.read_csv('../input/practice-log-demographics/Practice_Log_Demographics (1).csv', low_memory=False)\n",
    "dataframe.head()"
   ]
  },
  {
   "cell_type": "code",
   "execution_count": 4,
   "metadata": {
    "execution": {
     "iopub.execute_input": "2021-08-08T17:37:36.580290Z",
     "iopub.status.busy": "2021-08-08T17:37:36.579523Z",
     "iopub.status.idle": "2021-08-08T17:37:36.582783Z",
     "shell.execute_reply": "2021-08-08T17:37:36.582100Z",
     "shell.execute_reply.started": "2021-08-06T20:53:49.176565Z"
    },
    "id": "0RvF7BvEr98o",
    "papermill": {
     "duration": 0.04338,
     "end_time": "2021-08-08T17:37:36.582922",
     "exception": false,
     "start_time": "2021-08-08T17:37:36.539542",
     "status": "completed"
    },
    "tags": []
   },
   "outputs": [],
   "source": [
    "FEATURES = ['chapter_label', 'sub_chapter_label','question_name','user_id','term',\n",
    "            'STDNT_SEX_CD', \n",
    "            'NonNativeEnglish',\n",
    "            'White',\n",
    "            'Asian',\n",
    "            'WhiteOrAsian',\n",
    "            'Hispanic',\n",
    "            'AfricanAmerican',\n",
    "            'OtherEthnicities',\n",
    "            'NonWhiteOrAsian',\n",
    "            'STDNT_CTZN_STAT_CD', 'international', \n",
    "            'gradingType',\n",
    "            'birthYear',\n",
    "            'exclClassCumGPA',\n",
    "            'Freshman',\n",
    "            'Junior',\n",
    "            'Sophomore',\n",
    "            'Senior',\n",
    "            'termCreditsGPA',\n",
    "            'termCreditsNoGPA',\n",
    "            'athlete_1',\n",
    "            'honorsPro',\n",
    "            'LSA', 'programBusiness', 'programEngineering', \n",
    "            'programInformation', 'programOther',\n",
    "            'HSCalculusTaken', \n",
    "            'highSchoolGPA', \n",
    "            'majorsCount', 'minorsCount',\n",
    "            'PREV_TERM_CUM_GPA',\n",
    "            'classGraded', 'classHonors', \n",
    "            'Pass_Fail', \n",
    "            'parentsGraduateEdu',  'minorityGroup', \n",
    "            'q',\n",
    "            'available_flashcards', \n",
    "            'start_practice', \n",
    "            'end_practice',\n",
    "            'days_offset']"
   ]
  },
  {
   "cell_type": "code",
   "execution_count": 5,
   "metadata": {
    "execution": {
     "iopub.execute_input": "2021-08-08T17:37:36.656277Z",
     "iopub.status.busy": "2021-08-08T17:37:36.655147Z",
     "iopub.status.idle": "2021-08-08T17:37:37.189275Z",
     "shell.execute_reply": "2021-08-08T17:37:37.189801Z",
     "shell.execute_reply.started": "2021-08-06T20:53:49.185798Z"
    },
    "id": "Mn341X7lSztl",
    "papermill": {
     "duration": 0.574067,
     "end_time": "2021-08-08T17:37:37.189984",
     "exception": false,
     "start_time": "2021-08-08T17:37:36.615917",
     "status": "completed"
    },
    "tags": []
   },
   "outputs": [],
   "source": [
    "dataframe['available_flashcards'] = dataframe[\"day's_available_flashcards\"][:]\n",
    "dataframe = dataframe.drop([\"day's_available_flashcards\"], axis=1)\n",
    "dataframe['user_id'] = dataframe[\"user_id.x\"][:]\n",
    "dataframe = dataframe.drop([\"user_id.x\"], axis=1)"
   ]
  },
  {
   "cell_type": "code",
   "execution_count": 6,
   "metadata": {
    "execution": {
     "iopub.execute_input": "2021-08-08T17:37:37.257462Z",
     "iopub.status.busy": "2021-08-08T17:37:37.256354Z",
     "iopub.status.idle": "2021-08-08T17:37:37.427514Z",
     "shell.execute_reply": "2021-08-08T17:37:37.428037Z",
     "shell.execute_reply.started": "2021-08-06T20:53:49.660082Z"
    },
    "id": "-_BRggOjbBjN",
    "outputId": "42bff7db-08dd-48dc-a73a-d048508053b7",
    "papermill": {
     "duration": 0.206506,
     "end_time": "2021-08-08T17:37:37.428223",
     "exception": false,
     "start_time": "2021-08-08T17:37:37.221717",
     "status": "completed"
    },
    "tags": []
   },
   "outputs": [
    {
     "data": {
      "text/plain": [
       "82"
      ]
     },
     "execution_count": 6,
     "metadata": {},
     "output_type": "execute_result"
    }
   ],
   "source": [
    "gc.collect()"
   ]
  },
  {
   "cell_type": "code",
   "execution_count": 7,
   "metadata": {
    "execution": {
     "iopub.execute_input": "2021-08-08T17:37:37.499136Z",
     "iopub.status.busy": "2021-08-08T17:37:37.498351Z",
     "iopub.status.idle": "2021-08-08T17:37:37.785526Z",
     "shell.execute_reply": "2021-08-08T17:37:37.786098Z",
     "shell.execute_reply.started": "2021-08-06T20:53:49.836831Z"
    },
    "id": "lXM7MlonVeRL",
    "outputId": "d29ccec0-522f-4e3c-e0b2-39b2e1eaef74",
    "papermill": {
     "duration": 0.326034,
     "end_time": "2021-08-08T17:37:37.786310",
     "exception": false,
     "start_time": "2021-08-08T17:37:37.460276",
     "status": "completed"
    },
    "tags": []
   },
   "outputs": [
    {
     "data": {
      "text/plain": [
       "20"
      ]
     },
     "execution_count": 7,
     "metadata": {},
     "output_type": "execute_result"
    }
   ],
   "source": [
    "dataframe = dataframe[FEATURES]\n",
    "gc.collect()"
   ]
  },
  {
   "cell_type": "code",
   "execution_count": 8,
   "metadata": {
    "execution": {
     "iopub.execute_input": "2021-08-08T17:37:38.338504Z",
     "iopub.status.busy": "2021-08-08T17:37:38.337712Z",
     "iopub.status.idle": "2021-08-08T17:37:38.470601Z",
     "shell.execute_reply": "2021-08-08T17:37:38.469989Z",
     "shell.execute_reply.started": "2021-08-06T20:53:50.129501Z"
    },
    "id": "2WAFv5z3A6fK",
    "outputId": "e27abf84-ec3c-4b88-e1fb-927d94b41898",
    "papermill": {
     "duration": 0.651574,
     "end_time": "2021-08-08T17:37:38.470751",
     "exception": false,
     "start_time": "2021-08-08T17:37:37.819177",
     "status": "completed"
    },
    "tags": []
   },
   "outputs": [],
   "source": [
    "dataframe = dataframe.fillna(0)"
   ]
  },
  {
   "cell_type": "code",
   "execution_count": 9,
   "metadata": {
    "execution": {
     "iopub.execute_input": "2021-08-08T17:37:38.554587Z",
     "iopub.status.busy": "2021-08-08T17:37:38.553919Z",
     "iopub.status.idle": "2021-08-08T17:37:40.115963Z",
     "shell.execute_reply": "2021-08-08T17:37:40.115328Z",
     "shell.execute_reply.started": "2021-08-06T20:53:50.733184Z"
    },
    "id": "qRKqF_0IXZgj",
    "papermill": {
     "duration": 1.61324,
     "end_time": "2021-08-08T17:37:40.116132",
     "exception": false,
     "start_time": "2021-08-08T17:37:38.502892",
     "status": "completed"
    },
    "tags": []
   },
   "outputs": [],
   "source": [
    "#label encode term, chapter_label, question_name, sub_chapter_label columns\n",
    "dataframe['term'] = dataframe['term'].astype('category')\n",
    "dataframe['user_id'] = dataframe['user_id'].astype(int)\n",
    "dataframe['user_id'] = dataframe['user_id'].astype(str)\n",
    "dataframe['user_id'] = dataframe['term'].str.cat(dataframe['user_id'], sep=':')\n",
    "dataframe['user_id'] = dataframe['user_id'].astype('category')\n",
    "dataframe['chapter_label'] = dataframe['chapter_label'].astype('category')\n",
    "dataframe['sub_chapter_label'] = dataframe['sub_chapter_label'].astype('category')\n",
    "dataframe['question_name'] = dataframe['question_name'].astype('category')\n"
   ]
  },
  {
   "cell_type": "code",
   "execution_count": 10,
   "metadata": {
    "execution": {
     "iopub.execute_input": "2021-08-08T17:37:40.199868Z",
     "iopub.status.busy": "2021-08-08T17:37:40.198910Z",
     "iopub.status.idle": "2021-08-08T17:37:40.715134Z",
     "shell.execute_reply": "2021-08-08T17:37:40.715969Z",
     "shell.execute_reply.started": "2021-08-06T20:53:52.202336Z"
    },
    "id": "eVl_067GWkDe",
    "papermill": {
     "duration": 0.566258,
     "end_time": "2021-08-08T17:37:40.716205",
     "exception": false,
     "start_time": "2021-08-08T17:37:40.149947",
     "status": "completed"
    },
    "tags": []
   },
   "outputs": [],
   "source": [
    "#calculate time_lag and prev_time_elapsed\n",
    "dataframe['prev_time_elapsed'] = None\n",
    "dataframe['time_lag'] = None\n",
    "dataframe['time_lag'] = dataframe['time_lag'].astype(np.float)\n",
    "dataframe['prev_time_elapsed'] = dataframe['prev_time_elapsed'].astype(np.float)\n",
    "dataframe.start_practice = pd.to_datetime(dataframe.start_practice, format='%Y-%m-%d %H:%M:%S')\n",
    "dataframe.end_practice = pd.to_datetime(dataframe.end_practice, format='%Y-%m-%d %H:%M:%S')"
   ]
  },
  {
   "cell_type": "code",
   "execution_count": 11,
   "metadata": {
    "execution": {
     "iopub.execute_input": "2021-08-08T17:37:40.794887Z",
     "iopub.status.busy": "2021-08-08T17:37:40.793883Z",
     "iopub.status.idle": "2021-08-08T17:37:41.214154Z",
     "shell.execute_reply": "2021-08-08T17:37:41.214617Z",
     "shell.execute_reply.started": "2021-08-06T20:53:52.690519Z"
    },
    "papermill": {
     "duration": 0.458666,
     "end_time": "2021-08-08T17:37:41.214813",
     "exception": false,
     "start_time": "2021-08-08T17:37:40.756147",
     "status": "completed"
    },
    "tags": []
   },
   "outputs": [],
   "source": [
    "#sort data based on timestamp\n",
    "dataframe = dataframe.sort_values(by=['start_practice']).reset_index(drop=True)"
   ]
  },
  {
   "cell_type": "code",
   "execution_count": 12,
   "metadata": {
    "execution": {
     "iopub.execute_input": "2021-08-08T17:37:41.283391Z",
     "iopub.status.busy": "2021-08-08T17:37:41.282461Z",
     "iopub.status.idle": "2021-08-08T17:37:41.326896Z",
     "shell.execute_reply": "2021-08-08T17:37:41.325821Z",
     "shell.execute_reply.started": "2021-08-06T20:53:53.10858Z"
    },
    "papermill": {
     "duration": 0.07986,
     "end_time": "2021-08-08T17:37:41.327045",
     "exception": false,
     "start_time": "2021-08-08T17:37:41.247185",
     "status": "completed"
    },
    "tags": []
   },
   "outputs": [],
   "source": [
    "dataframe['dif'] = dataframe.end_practice - dataframe.start_practice\n",
    "dataframe['dif'] = dataframe['dif'] /np.timedelta64(1, 's')\n",
    "dataframe['answer_correct'] = np.where((dataframe['q']==5) & (dataframe['dif'] <= 60), 1, 0)"
   ]
  },
  {
   "cell_type": "code",
   "execution_count": 13,
   "metadata": {
    "execution": {
     "iopub.execute_input": "2021-08-08T17:37:41.398972Z",
     "iopub.status.busy": "2021-08-08T17:37:41.398285Z",
     "iopub.status.idle": "2021-08-08T17:37:41.408285Z",
     "shell.execute_reply": "2021-08-08T17:37:41.408792Z",
     "shell.execute_reply.started": "2021-08-06T20:53:53.141542Z"
    },
    "papermill": {
     "duration": 0.048543,
     "end_time": "2021-08-08T17:37:41.408982",
     "exception": false,
     "start_time": "2021-08-08T17:37:41.360439",
     "status": "completed"
    },
    "tags": []
   },
   "outputs": [],
   "source": [
    "unique_chapts = dataframe['chapter_label'].unique()"
   ]
  },
  {
   "cell_type": "code",
   "execution_count": 14,
   "metadata": {
    "execution": {
     "iopub.execute_input": "2021-08-08T17:37:41.475790Z",
     "iopub.status.busy": "2021-08-08T17:37:41.475156Z",
     "iopub.status.idle": "2021-08-08T17:43:21.328889Z",
     "shell.execute_reply": "2021-08-08T17:43:21.328144Z",
     "shell.execute_reply.started": "2021-08-06T20:57:57.26281Z"
    },
    "id": "Xrkcn9VhWETm",
    "outputId": "fd73f3de-5f56-42a8-9539-3f3b79a5a6e2",
    "papermill": {
     "duration": 339.888489,
     "end_time": "2021-08-08T17:43:21.329106",
     "exception": false,
     "start_time": "2021-08-08T17:37:41.440617",
     "status": "completed"
    },
    "tags": []
   },
   "outputs": [
    {
     "name": "stderr",
     "output_type": "stream",
     "text": [
      "100%|██████████| 1110/1110 [05:39<00:00,  3.27it/s]\n"
     ]
    }
   ],
   "source": [
    "unique_chapts = dataframe['chapter_label'].unique()\n",
    "from tqdm import tqdm\n",
    "cnt = 0\n",
    "for user in tqdm(dataframe['user_id'].unique()):\n",
    "        for chapter in unique_chapts:\n",
    "            tmp_user = dataframe[(dataframe['user_id']==user) & (dataframe['chapter_label']==chapter)]\n",
    "            #if user doesn't answer any question from the chapter\n",
    "            if len(tmp_user) < 1:\n",
    "                continue\n",
    "            #calculate average elapsed time before the current question\n",
    "            #from its corresponding chapter\n",
    "            tmp_time_elapsed = tmp_user.end_practice - tmp_user.start_practice\n",
    "            tmp_time_elapsed = tmp_time_elapsed / np.timedelta64(1, 's')\n",
    "            tmp_time_elapsed = np.insert(np.array(tmp_time_elapsed[:-1]), 0, 0., axis=0)\n",
    "            tmp_time_elapsed = np.cumsum(tmp_time_elapsed)\n",
    "            indices = tmp_user.index\n",
    "            start_row = indices[0]\n",
    "            dataframe['time_lag'].iloc[start_row] = 0\n",
    "            for_mean = np.arange(len(tmp_user))\n",
    "            for_mean[0] = 1\n",
    "            time_substrahend = tmp_user.start_practice.iloc[:-1]\n",
    "            time_substrahend = time_substrahend.apply(lambda a: a.timestamp())\n",
    "            time_substrahend = np.array(time_substrahend)\n",
    "            \n",
    "            time_minuend = tmp_user.start_practice.iloc[1:]\n",
    "            time_minuend = time_minuend.apply(lambda a: a.timestamp())\n",
    "            time_minuend = np.array(time_minuend)\n",
    "\n",
    "            dataframe['prev_time_elapsed'].iloc[indices] = tmp_time_elapsed/for_mean\n",
    "            #calculate difference between current and last interaction\n",
    "            #from the same chapter\n",
    "            dataframe['time_lag'].iloc[indices[1:]] = time_minuend - time_substrahend\n"
   ]
  },
  {
   "cell_type": "code",
   "execution_count": 15,
   "metadata": {
    "execution": {
     "iopub.execute_input": "2021-08-08T17:43:22.103465Z",
     "iopub.status.busy": "2021-08-08T17:43:22.102579Z",
     "iopub.status.idle": "2021-08-08T17:43:22.142289Z",
     "shell.execute_reply": "2021-08-08T17:43:22.141674Z",
     "shell.execute_reply.started": "2021-08-06T21:04:40.337666Z"
    },
    "id": "8t8yZ0XvWwzz",
    "papermill": {
     "duration": 0.453161,
     "end_time": "2021-08-08T17:43:22.142438",
     "exception": false,
     "start_time": "2021-08-08T17:43:21.689277",
     "status": "completed"
    },
    "tags": []
   },
   "outputs": [],
   "source": [
    "#drop column end_practice\n",
    "dataframe.drop(columns=['end_practice'], inplace=True)"
   ]
  },
  {
   "cell_type": "code",
   "execution_count": 16,
   "metadata": {
    "execution": {
     "iopub.execute_input": "2021-08-08T17:43:22.876499Z",
     "iopub.status.busy": "2021-08-08T17:43:22.875878Z",
     "iopub.status.idle": "2021-08-08T17:43:23.328968Z",
     "shell.execute_reply": "2021-08-08T17:43:23.329449Z",
     "shell.execute_reply.started": "2021-08-06T21:04:41.469601Z"
    },
    "id": "E42raRIrYYXz",
    "papermill": {
     "duration": 0.820735,
     "end_time": "2021-08-08T17:43:23.329626",
     "exception": false,
     "start_time": "2021-08-08T17:43:22.508891",
     "status": "completed"
    },
    "tags": []
   },
   "outputs": [],
   "source": [
    "# calculate the age feature\n",
    "dataframe['term_value'] = [int(ele[3:]) for ele in dataframe['term']]\n",
    "dataframe['age'] = dataframe['term_value'] - dataframe['birthYear']"
   ]
  },
  {
   "cell_type": "code",
   "execution_count": 17,
   "metadata": {
    "execution": {
     "iopub.execute_input": "2021-08-08T17:43:24.051020Z",
     "iopub.status.busy": "2021-08-08T17:43:24.050387Z",
     "iopub.status.idle": "2021-08-08T17:43:24.267090Z",
     "shell.execute_reply": "2021-08-08T17:43:24.267622Z",
     "shell.execute_reply.started": "2021-08-06T21:04:42.216092Z"
    },
    "id": "pcMVQXueYnMh",
    "papermill": {
     "duration": 0.582493,
     "end_time": "2021-08-08T17:43:24.267812",
     "exception": false,
     "start_time": "2021-08-08T17:43:23.685319",
     "status": "completed"
    },
    "tags": []
   },
   "outputs": [],
   "source": [
    "# drop term_value and birthYear column\n",
    "dataframe.drop(columns=['term_value', 'birthYear'], inplace=True)"
   ]
  },
  {
   "cell_type": "code",
   "execution_count": 18,
   "metadata": {
    "execution": {
     "iopub.execute_input": "2021-08-08T17:43:25.036854Z",
     "iopub.status.busy": "2021-08-08T17:43:25.036200Z",
     "iopub.status.idle": "2021-08-08T17:43:25.570093Z",
     "shell.execute_reply": "2021-08-08T17:43:25.570986Z",
     "shell.execute_reply.started": "2021-08-06T21:04:43.101881Z"
    },
    "id": "hjRF5szkcQE0",
    "papermill": {
     "duration": 0.899007,
     "end_time": "2021-08-08T17:43:25.571214",
     "exception": false,
     "start_time": "2021-08-08T17:43:24.672207",
     "status": "completed"
    },
    "tags": []
   },
   "outputs": [],
   "source": [
    "# convert minors_count to int value\n",
    "new_minors_count = []\n",
    "for i in dataframe['minorsCount']:\n",
    "  if i == 0 or i == '0':\n",
    "    new_minors_count.append(0)\n",
    "  elif i == '1 Minor':\n",
    "    new_minors_count.append(1)\n",
    "  else:\n",
    "    new_minors_count.append(2)\n",
    "\n",
    "dataframe['minorsCount'] = new_minors_count"
   ]
  },
  {
   "cell_type": "code",
   "execution_count": 19,
   "metadata": {
    "execution": {
     "iopub.execute_input": "2021-08-08T17:43:26.343993Z",
     "iopub.status.busy": "2021-08-08T17:43:26.342944Z",
     "iopub.status.idle": "2021-08-08T17:43:26.357273Z",
     "shell.execute_reply": "2021-08-08T17:43:26.356412Z",
     "shell.execute_reply.started": "2021-08-06T21:04:44.069999Z"
    },
    "id": "9VdzvJSw0KUU",
    "outputId": "6393784f-234e-4935-9cee-cbcf56b5630a",
    "papermill": {
     "duration": 0.409787,
     "end_time": "2021-08-08T17:43:26.357448",
     "exception": false,
     "start_time": "2021-08-08T17:43:25.947661",
     "status": "completed"
    },
    "tags": []
   },
   "outputs": [
    {
     "name": "stdout",
     "output_type": "stream",
     "text": [
      "we have  1110  users in total.\n"
     ]
    }
   ],
   "source": [
    "print(\"we have \", dataframe['user_id'].nunique(),\" users in total.\")"
   ]
  },
  {
   "cell_type": "code",
   "execution_count": 20,
   "metadata": {
    "execution": {
     "iopub.execute_input": "2021-08-08T17:43:27.102000Z",
     "iopub.status.busy": "2021-08-08T17:43:27.100729Z",
     "iopub.status.idle": "2021-08-08T17:43:27.107957Z",
     "shell.execute_reply": "2021-08-08T17:43:27.107323Z",
     "shell.execute_reply.started": "2021-08-06T21:04:44.884292Z"
    },
    "id": "hUaGk9L9g13t",
    "papermill": {
     "duration": 0.384287,
     "end_time": "2021-08-08T17:43:27.108090",
     "exception": false,
     "start_time": "2021-08-08T17:43:26.723803",
     "status": "completed"
    },
    "tags": []
   },
   "outputs": [],
   "source": [
    "for category in ['term','chapter_label', 'sub_chapter_label', 'question_name']:\n",
    "  dataframe[category] =  dataframe[category].cat.codes"
   ]
  },
  {
   "cell_type": "code",
   "execution_count": 21,
   "metadata": {
    "execution": {
     "iopub.execute_input": "2021-08-08T17:43:27.832927Z",
     "iopub.status.busy": "2021-08-08T17:43:27.831732Z",
     "iopub.status.idle": "2021-08-08T17:43:28.594890Z",
     "shell.execute_reply": "2021-08-08T17:43:28.595495Z",
     "shell.execute_reply.started": "2021-08-06T21:04:45.606317Z"
    },
    "id": "hkyvcYvlhliG",
    "papermill": {
     "duration": 1.127522,
     "end_time": "2021-08-08T17:43:28.595675",
     "exception": false,
     "start_time": "2021-08-08T17:43:27.468153",
     "status": "completed"
    },
    "tags": []
   },
   "outputs": [],
   "source": [
    "NUMERIC_FEATURE =  ['age',\n",
    "            'exclClassCumGPA',\n",
    "            'termCreditsGPA',\n",
    "            'termCreditsNoGPA',\n",
    "            'highSchoolGPA', \n",
    "            'majorsCount', 'minorsCount',\n",
    "            'PREV_TERM_CUM_GPA',\n",
    "            'available_flashcards', \n",
    "            'days_offset', \n",
    "            'prev_time_elapsed',\n",
    "             'time_lag']\n",
    "# z-score normalize the numerical features\n",
    "for f in NUMERIC_FEATURE:\n",
    "  m = dataframe[f].mean()\n",
    "  std = dataframe[f].std()\n",
    "  dataframe[f] = (dataframe[f] - m)/std"
   ]
  },
  {
   "cell_type": "code",
   "execution_count": 22,
   "metadata": {
    "execution": {
     "iopub.execute_input": "2021-08-08T17:43:29.318994Z",
     "iopub.status.busy": "2021-08-08T17:43:29.318347Z",
     "iopub.status.idle": "2021-08-08T17:43:30.441726Z",
     "shell.execute_reply": "2021-08-08T17:43:30.441010Z",
     "shell.execute_reply.started": "2021-08-06T21:04:46.423055Z"
    },
    "id": "wo2OH-d5kWp1",
    "papermill": {
     "duration": 1.488066,
     "end_time": "2021-08-08T17:43:30.441880",
     "exception": false,
     "start_time": "2021-08-08T17:43:28.953814",
     "status": "completed"
    },
    "tags": []
   },
   "outputs": [],
   "source": [
    "FEATURE_TRANS =  ['answer_correct', 'chapter_label', 'sub_chapter_label','question_name','user_id','term',\n",
    "                  'STDNT_SEX_CD', \n",
    "                    'White','Asian','NonWhiteOrAsian',\n",
    "            'STDNT_CTZN_STAT_CD', 'international', \n",
    "            'age',\n",
    "            'exclClassCumGPA',\n",
    "           'Freshman',\n",
    "            'Junior',\n",
    "            'Sophomore',\n",
    "            'Senior',\n",
    "            'termCreditsGPA',\n",
    "            'termCreditsNoGPA',\n",
    "            'athlete_1',\n",
    "            'honorsPro',\n",
    "            'LSA', 'programBusiness', 'programEngineering', \n",
    "            'programInformation', 'programOther',\n",
    "            'HSCalculusTaken', \n",
    "            'highSchoolGPA', \n",
    "            'majorsCount', 'minorsCount',\n",
    "            'PREV_TERM_CUM_GPA',\n",
    "            'classGraded', 'classHonors', \n",
    "            'Pass_Fail', \n",
    "            'parentsGraduateEdu',  'minorityGroup', \n",
    "            'available_flashcards', \n",
    "            'days_offset', 'prev_time_elapsed',\n",
    "             'time_lag']\n",
    "grouped_data = dataframe[FEATURE_TRANS].groupby(['user_id']).apply(lambda r: (\n",
    "                r['answer_correct'],\n",
    "                r['term'],\n",
    "                r['chapter_label'],\n",
    "                r['sub_chapter_label'],\n",
    "                r['question_name'],\n",
    "                np.array([\n",
    "#                   r['STDNT_SEX_CD'],r['STDNT_CTZN_STAT_CD'], r['international'], \n",
    "#                   r['White'],r['Asian'],r['NonWhiteOrAsian'],\n",
    "#                  r['age'],r['exclClassCumGPA'],\n",
    "#                 r['Freshman'], r['Junior'], r['Sophomore'], r['Senior'],\n",
    "#                 r['termCreditsGPA'], r['termCreditsNoGPA'],\n",
    "#                 r['athlete_1'], r['honorsPro'],\n",
    "#                 r['LSA'], r['programBusiness'], r['programEngineering'], \n",
    "#                 r['programInformation'], r['programOther'],\n",
    "#                 r['HSCalculusTaken'],  r['highSchoolGPA'], \n",
    "#                 r['majorsCount'], r['minorsCount'],\n",
    "#                 r['PREV_TERM_CUM_GPA'], \n",
    "#                 r['parentsGraduateEdu'], r['minorityGroup'],\n",
    "#                 r['available_flashcards'],\n",
    "#                 r['days_offset'],\n",
    "                r['prev_time_elapsed'],\n",
    "                r['time_lag']\n",
    "              ]).transpose()\n",
    "                ))"
   ]
  },
  {
   "cell_type": "code",
   "execution_count": 23,
   "metadata": {
    "execution": {
     "iopub.execute_input": "2021-08-08T17:43:31.379375Z",
     "iopub.status.busy": "2021-08-08T17:43:31.378423Z",
     "iopub.status.idle": "2021-08-08T17:43:31.383032Z",
     "shell.execute_reply": "2021-08-08T17:43:31.383472Z",
     "shell.execute_reply.started": "2021-08-06T21:04:50.729982Z"
    },
    "id": "XXLqQnjrlp_4",
    "outputId": "c801da79-f0bf-4fe5-b19c-7c799fe01556",
    "papermill": {
     "duration": 0.584127,
     "end_time": "2021-08-08T17:43:31.383651",
     "exception": false,
     "start_time": "2021-08-08T17:43:30.799524",
     "status": "completed"
    },
    "tags": []
   },
   "outputs": [
    {
     "data": {
      "text/plain": [
       "20"
      ]
     },
     "execution_count": 23,
     "metadata": {},
     "output_type": "execute_result"
    }
   ],
   "source": [
    "gc.collect()"
   ]
  },
  {
   "cell_type": "code",
   "execution_count": 24,
   "metadata": {
    "execution": {
     "iopub.execute_input": "2021-08-08T17:43:32.144148Z",
     "iopub.status.busy": "2021-08-08T17:43:32.139200Z",
     "iopub.status.idle": "2021-08-08T17:43:32.172540Z",
     "shell.execute_reply": "2021-08-08T17:43:32.171838Z",
     "shell.execute_reply.started": "2021-08-06T21:04:50.932864Z"
    },
    "id": "QYGQasdTrmP0",
    "papermill": {
     "duration": 0.418416,
     "end_time": "2021-08-08T17:43:32.172736",
     "exception": false,
     "start_time": "2021-08-08T17:43:31.754320",
     "status": "completed"
    },
    "tags": []
   },
   "outputs": [],
   "source": [
    "# remove students who don't have make any interactions with the tool\n",
    "toRemove = []\n",
    "for index in grouped_data.index:\n",
    "  if len(grouped_data[index][0]) <= 10:\n",
    "    toRemove.append(index)\n",
    "grouped_data = grouped_data.drop(index=toRemove)"
   ]
  },
  {
   "cell_type": "code",
   "execution_count": 25,
   "metadata": {
    "execution": {
     "iopub.execute_input": "2021-08-08T17:43:32.927030Z",
     "iopub.status.busy": "2021-08-08T17:43:32.926161Z",
     "iopub.status.idle": "2021-08-08T17:43:32.941982Z",
     "shell.execute_reply": "2021-08-08T17:43:32.941459Z",
     "shell.execute_reply.started": "2021-08-06T21:04:50.98328Z"
    },
    "papermill": {
     "duration": 0.394539,
     "end_time": "2021-08-08T17:43:32.942131",
     "exception": false,
     "start_time": "2021-08-08T17:43:32.547592",
     "status": "completed"
    },
    "tags": []
   },
   "outputs": [
    {
     "data": {
      "text/plain": [
       "count    1110.000000\n",
       "mean      550.263063\n",
       "std       201.281353\n",
       "min         2.000000\n",
       "25%       438.250000\n",
       "50%       520.500000\n",
       "75%       637.750000\n",
       "max      1500.000000\n",
       "Name: start_practice, dtype: float64"
      ]
     },
     "execution_count": 25,
     "metadata": {},
     "output_type": "execute_result"
    }
   ],
   "source": [
    "dataframe.groupby('user_id')['start_practice'].agg('count').describe()"
   ]
  },
  {
   "cell_type": "code",
   "execution_count": 26,
   "metadata": {
    "execution": {
     "iopub.execute_input": "2021-08-08T17:43:33.672780Z",
     "iopub.status.busy": "2021-08-08T17:43:33.671962Z",
     "iopub.status.idle": "2021-08-08T17:43:33.675519Z",
     "shell.execute_reply": "2021-08-08T17:43:33.674942Z",
     "shell.execute_reply.started": "2021-08-06T21:04:51.003119Z"
    },
    "papermill": {
     "duration": 0.369334,
     "end_time": "2021-08-08T17:43:33.675657",
     "exception": false,
     "start_time": "2021-08-08T17:43:33.306323",
     "status": "completed"
    },
    "tags": []
   },
   "outputs": [
    {
     "data": {
      "text/plain": [
       "['FA 2018:252', 'WN 2018:295']"
      ]
     },
     "execution_count": 26,
     "metadata": {},
     "output_type": "execute_result"
    }
   ],
   "source": [
    "toRemove"
   ]
  },
  {
   "cell_type": "code",
   "execution_count": 27,
   "metadata": {
    "execution": {
     "iopub.execute_input": "2021-08-08T17:43:34.416170Z",
     "iopub.status.busy": "2021-08-08T17:43:34.415311Z",
     "iopub.status.idle": "2021-08-08T17:43:34.417951Z",
     "shell.execute_reply": "2021-08-08T17:43:34.418446Z",
     "shell.execute_reply.started": "2021-08-06T21:04:51.012606Z"
    },
    "id": "9kZqV9siDyNb",
    "papermill": {
     "duration": 0.376586,
     "end_time": "2021-08-08T17:43:34.418612",
     "exception": false,
     "start_time": "2021-08-08T17:43:34.042026",
     "status": "completed"
    },
    "tags": []
   },
   "outputs": [],
   "source": [
    "#SETTINGS -> can be modified at any time\n",
    "MAXLENGTH = 400\n",
    "EMBEDDING_DIM = 128\n",
    "DENSE_NEURON = 16\n",
    "RNN_NEURON = 32"
   ]
  },
  {
   "cell_type": "code",
   "execution_count": 28,
   "metadata": {
    "execution": {
     "iopub.execute_input": "2021-08-08T17:43:35.166147Z",
     "iopub.status.busy": "2021-08-08T17:43:35.165496Z",
     "iopub.status.idle": "2021-08-08T17:43:35.168707Z",
     "shell.execute_reply": "2021-08-08T17:43:35.168102Z",
     "shell.execute_reply.started": "2021-08-06T21:04:51.932106Z"
    },
    "id": "1MksD1JizpPn",
    "papermill": {
     "duration": 0.38391,
     "end_time": "2021-08-08T17:43:35.168886",
     "exception": false,
     "start_time": "2021-08-08T17:43:34.784976",
     "status": "completed"
    },
    "tags": []
   },
   "outputs": [],
   "source": [
    "FEATURES_SIZE = 2\n",
    "CHAPTER_SIZE = 38\n",
    "SUB_CHAPTER_SIZE = 223\n",
    "QUESTION_SIZE = 1069"
   ]
  },
  {
   "cell_type": "code",
   "execution_count": 29,
   "metadata": {
    "execution": {
     "iopub.execute_input": "2021-08-08T17:43:35.912497Z",
     "iopub.status.busy": "2021-08-08T17:43:35.911891Z",
     "iopub.status.idle": "2021-08-08T17:43:35.921060Z",
     "shell.execute_reply": "2021-08-08T17:43:35.921652Z",
     "shell.execute_reply.started": "2021-08-06T21:04:52.955964Z"
    },
    "papermill": {
     "duration": 0.384907,
     "end_time": "2021-08-08T17:43:35.921843",
     "exception": false,
     "start_time": "2021-08-08T17:43:35.536936",
     "status": "completed"
    },
    "tags": []
   },
   "outputs": [
    {
     "data": {
      "text/plain": [
       "array([ 96,  86,  88,  28,  12,  82, 125,  32,  69,  33,  21, 115, 120,\n",
       "       119,  91,  73,  57,  77, 117,  40,  74,  41,  68,  39,  92,  47,\n",
       "       104,  95,  53,  49,  50,  16,  52,  55,   7,  15,  51, 102, 103,\n",
       "        11,  94, 108, 100,  17,  67,  63,  13, 139,  26,  25,   8, 107,\n",
       "         0,  90,  48,  54, 138,   1,   2,   3,  34,  35,  85,   5,  24,\n",
       "        37,  36,  78,  70,  45, 142,  71,  10,  89, 111, 112, 109, 116,\n",
       "        76,  72, 148, 134, 146, 221, 143,  56,  60,  61,  23, 140, 106,\n",
       "        42,  83,  22, 145, 136, 144,  38,   4,  19, 137,  75,  43,  98,\n",
       "        84, 113, 173, 174, 175, 176, 177, 178, 180, 181, 182, 187, 189,\n",
       "       190, 191, 192, 193, 195, 197, 151, 152, 153, 156, 157, 158, 159,\n",
       "       160, 161, 163, 164, 165, 166, 167, 168, 169, 170, 171, 172, 198,\n",
       "       199, 200, 201, 202, 203, 204, 205, 206, 207, 208, 209, 210, 162,\n",
       "       179, 186, 188, 194, 183, 184, 185, 211, 212, 213, 154, 155, 196,\n",
       "         6, 118,  18, 215,  46, 216, 141,  27, 217, 105, 123, 218, 101,\n",
       "       124, 219, 122, 220,  58,  59,  64,  20,  93,  65,  66,   9,  44,\n",
       "        30,  14,  79, 121,  31, 110, 129,  87,  97,  62, 149, 132, 131,\n",
       "       150, 130, 128,  99, 147, 127, 214, 135,  80, 126, 133,  81, 114,\n",
       "        29], dtype=int16)"
      ]
     },
     "execution_count": 29,
     "metadata": {},
     "output_type": "execute_result"
    }
   ],
   "source": [
    "dataframe['sub_chapter_label'].unique()"
   ]
  },
  {
   "cell_type": "code",
   "execution_count": 30,
   "metadata": {
    "execution": {
     "iopub.execute_input": "2021-08-08T17:43:36.654899Z",
     "iopub.status.busy": "2021-08-08T17:43:36.654229Z",
     "iopub.status.idle": "2021-08-08T17:43:37.700212Z",
     "shell.execute_reply": "2021-08-08T17:43:37.699499Z",
     "shell.execute_reply.started": "2021-08-06T21:04:54.080084Z"
    },
    "id": "mY3Thp6d0NaT",
    "papermill": {
     "duration": 1.407697,
     "end_time": "2021-08-08T17:43:37.700352",
     "exception": false,
     "start_time": "2021-08-08T17:43:36.292655",
     "status": "completed"
    },
    "tags": []
   },
   "outputs": [],
   "source": [
    "#create dataset class\n",
    "#to prepare it for train, valid, and test sets\n",
    "from torch.utils.data import Dataset, DataLoader\n",
    "class SPACE_DATASET(Dataset):\n",
    "    def __init__(self, data, maxlength = 400):\n",
    "        super(SPACE_DATASET, self).__init__()\n",
    "        self.maxlength = maxlength\n",
    "        self.data = data\n",
    "        self.users = list()\n",
    "        for user in data.index:\n",
    "            self.users.append(user)\n",
    "\n",
    "    def __len__(self):\n",
    "        return len(self.users)\n",
    "    \n",
    "    def __getitem__(self, ix):\n",
    "        user = self.users[ix]\n",
    "        user = user\n",
    "        target, term, ch_label, sub_ch_label, ques_name, features = self.data[user]\n",
    "        \n",
    "        #0s should be used as padding values\n",
    "        ori_target = target.values \n",
    "        term = term.values\n",
    "        ch_label = ch_label.values + 1\n",
    "        sub_ch_label = sub_ch_label.values +1\n",
    "        ques_name = ques_name.values + 1\n",
    "        \n",
    "        n = len(ch_label)\n",
    "\n",
    "        # one hot for term\n",
    "        term_encode = [0]*7\n",
    "        term_encode[term[0]] = 1\n",
    "        shifted_target= []\n",
    "\n",
    "        \n",
    "        # get  user interaction informations in the previous MAXLEN interactions\n",
    "        if n > self.maxlength:\n",
    "          ch_label = ch_label[-self.maxlength:]\n",
    "          sub_ch_label = sub_ch_label[-self.maxlength:]\n",
    "          ques_name = ques_name[-self.maxlength:]\n",
    "          features = features[-self.maxlength:]\n",
    "          target = ori_target[-self.maxlength:]\n",
    "          shifted_target = ori_target[ (-self.maxlength - 1) :-1]\n",
    "        else:\n",
    "          ch_label = [0]*(self.maxlength - n)+list(ch_label[:])\n",
    "          sub_ch_label = [0]*(self.maxlength - n)+list(sub_ch_label[:])\n",
    "          ques_name = [0]*(self.maxlength - n)+list(ques_name[:])\n",
    "          features = [[0]*len(features[0])]*(self.maxlength  - n)+list(features[:])\n",
    "          target = [-1]*(self.maxlength - n) + list(ori_target[:])\n",
    "          shifted_target = [2]*(self.maxlength + 1 - n) + list(ori_target[:-1])\n",
    "\n",
    "        new_features = []\n",
    "        count = 0\n",
    "        for f in features:\n",
    "          temp = list(f)\n",
    "#           temp.extend(term_encode)\n",
    "          #temp.append(shifted_target[count]) #uncomment this line for include previous response feature\n",
    "          new_features.append(temp)\n",
    "          count += 1\n",
    "        features = new_features\n",
    "        return ch_label,sub_ch_label,ques_name,features, shifted_target, target"
   ]
  },
  {
   "cell_type": "code",
   "execution_count": 31,
   "metadata": {
    "execution": {
     "iopub.execute_input": "2021-08-08T17:43:38.430585Z",
     "iopub.status.busy": "2021-08-08T17:43:38.429693Z",
     "iopub.status.idle": "2021-08-08T17:43:38.433664Z",
     "shell.execute_reply": "2021-08-08T17:43:38.434168Z",
     "shell.execute_reply.started": "2021-08-06T21:04:54.917448Z"
    },
    "papermill": {
     "duration": 0.37009,
     "end_time": "2021-08-08T17:43:38.434356",
     "exception": false,
     "start_time": "2021-08-08T17:43:38.064266",
     "status": "completed"
    },
    "tags": []
   },
   "outputs": [
    {
     "data": {
      "text/plain": [
       "223"
      ]
     },
     "execution_count": 31,
     "metadata": {},
     "output_type": "execute_result"
    }
   ],
   "source": [
    "SUB_CHAPTER_SIZE"
   ]
  },
  {
   "cell_type": "markdown",
   "metadata": {
    "id": "4xc90-aLzxat",
    "papermill": {
     "duration": 0.360927,
     "end_time": "2021-08-08T17:43:39.154528",
     "exception": false,
     "start_time": "2021-08-08T17:43:38.793601",
     "status": "completed"
    },
    "tags": []
   },
   "source": [
    "## KFOLD - RNN\n"
   ]
  },
  {
   "cell_type": "code",
   "execution_count": 32,
   "metadata": {
    "execution": {
     "iopub.execute_input": "2021-08-08T17:43:39.914610Z",
     "iopub.status.busy": "2021-08-08T17:43:39.904151Z",
     "iopub.status.idle": "2021-08-08T17:51:41.693820Z",
     "shell.execute_reply": "2021-08-08T17:51:41.693203Z",
     "shell.execute_reply.started": "2021-08-06T21:04:56.750188Z"
    },
    "id": "gzJrljnjzypP",
    "outputId": "87abe488-b493-4f8f-9d71-45cb1d2ddf51",
    "papermill": {
     "duration": 482.179059,
     "end_time": "2021-08-08T17:51:41.693966",
     "exception": false,
     "start_time": "2021-08-08T17:43:39.514907",
     "status": "completed"
    },
    "tags": []
   },
   "outputs": [
    {
     "name": "stdout",
     "output_type": "stream",
     "text": [
      "Epoch 1/100\n",
      "14/14 [==============================] - 12s 545ms/step - loss: 0.5912 - masked_acc: 0.5558 - masked_auc: 0.5064 - val_loss: 0.4652 - val_masked_acc: 0.6977 - val_masked_auc: 0.6675\n",
      "Epoch 2/100\n",
      "14/14 [==============================] - 6s 428ms/step - loss: 0.4483 - masked_acc: 0.7118 - masked_auc: 0.7033 - val_loss: 0.4111 - val_masked_acc: 0.7364 - val_masked_auc: 0.7593\n",
      "Epoch 3/100\n",
      "14/14 [==============================] - 6s 408ms/step - loss: 0.4205 - masked_acc: 0.7418 - masked_auc: 0.7709 - val_loss: 0.4046 - val_masked_acc: 0.7528 - val_masked_auc: 0.7911\n",
      "Epoch 4/100\n",
      "14/14 [==============================] - 6s 451ms/step - loss: 0.4062 - masked_acc: 0.7557 - masked_auc: 0.7966 - val_loss: 0.4037 - val_masked_acc: 0.7619 - val_masked_auc: 0.8073\n",
      "Epoch 5/100\n",
      "14/14 [==============================] - 6s 405ms/step - loss: 0.4054 - masked_acc: 0.7634 - masked_auc: 0.8106 - val_loss: 0.4050 - val_masked_acc: 0.7681 - val_masked_auc: 0.8177\n",
      "Epoch 6/100\n",
      "14/14 [==============================] - 6s 412ms/step - loss: 0.3888 - masked_acc: 0.7696 - masked_auc: 0.8202 - val_loss: 0.4115 - val_masked_acc: 0.7726 - val_masked_auc: 0.8250\n",
      "Epoch 7/100\n",
      "14/14 [==============================] - 6s 401ms/step - loss: 0.3899 - masked_acc: 0.7736 - masked_auc: 0.8268 - val_loss: 0.4109 - val_masked_acc: 0.7759 - val_masked_auc: 0.8304\n",
      "Epoch 8/100\n",
      "14/14 [==============================] - 6s 406ms/step - loss: 0.3845 - masked_acc: 0.7766 - masked_auc: 0.8318 - val_loss: 0.4174 - val_masked_acc: 0.7788 - val_masked_auc: 0.8351\n",
      "Epoch 9/100\n",
      "14/14 [==============================] - 6s 411ms/step - loss: 0.3707 - masked_acc: 0.7796 - masked_auc: 0.8364 - val_loss: 0.4158 - val_masked_acc: 0.7814 - val_masked_auc: 0.8391\n",
      "Epoch 10/100\n",
      "14/14 [==============================] - 6s 420ms/step - loss: 0.3670 - masked_acc: 0.7822 - masked_auc: 0.8403 - val_loss: 0.4289 - val_masked_acc: 0.7837 - val_masked_auc: 0.8427\n",
      "Epoch 11/100\n",
      "14/14 [==============================] - 6s 400ms/step - loss: 0.3640 - masked_acc: 0.7844 - masked_auc: 0.8438 - val_loss: 0.4249 - val_masked_acc: 0.7858 - val_masked_auc: 0.8459\n",
      "Epoch 12/100\n",
      "14/14 [==============================] - 6s 401ms/step - loss: 0.3613 - masked_acc: 0.7864 - masked_auc: 0.8469 - val_loss: 0.4352 - val_masked_acc: 0.7877 - val_masked_auc: 0.8489\n",
      "Epoch 13/100\n",
      "14/14 [==============================] - 6s 401ms/step - loss: 0.3602 - masked_acc: 0.7882 - masked_auc: 0.8497 - val_loss: 0.4475 - val_masked_acc: 0.7895 - val_masked_auc: 0.8516\n",
      "Epoch 14/100\n",
      "14/14 [==============================] - 6s 398ms/step - loss: 0.3481 - masked_acc: 0.7901 - masked_auc: 0.8525 - val_loss: 0.4438 - val_masked_acc: 0.7912 - val_masked_auc: 0.8542\n",
      "28/28 [==============================] - 2s 72ms/step - loss: 0.3396 - masked_acc: 0.7926 - masked_auc: 0.8560\n",
      "4/4 [==============================] - 0s 65ms/step - loss: 0.4506 - masked_acc: 0.7931 - masked_auc: 0.8569\n",
      "Test:  [0.4505683481693268, 0.7930552959442139, 0.8568773865699768]\n",
      "Epoch 1/100\n",
      "14/14 [==============================] - 11s 534ms/step - loss: 0.6033 - masked_acc: 0.6759 - masked_auc: 0.5362 - val_loss: 0.4956 - val_masked_acc: 0.7151 - val_masked_auc: 0.6487\n",
      "Epoch 2/100\n",
      "14/14 [==============================] - 6s 420ms/step - loss: 0.4541 - masked_acc: 0.7239 - masked_auc: 0.6867 - val_loss: 0.4384 - val_masked_acc: 0.7419 - val_masked_auc: 0.7461\n",
      "Epoch 3/100\n",
      "14/14 [==============================] - 6s 424ms/step - loss: 0.4296 - masked_acc: 0.7461 - masked_auc: 0.7589 - val_loss: 0.4337 - val_masked_acc: 0.7553 - val_masked_auc: 0.7812\n",
      "Epoch 4/100\n",
      "14/14 [==============================] - 6s 435ms/step - loss: 0.4067 - masked_acc: 0.7577 - masked_auc: 0.7875 - val_loss: 0.4292 - val_masked_acc: 0.7628 - val_masked_auc: 0.7991\n",
      "Epoch 5/100\n",
      "14/14 [==============================] - 6s 412ms/step - loss: 0.4061 - masked_acc: 0.7644 - masked_auc: 0.8028 - val_loss: 0.4315 - val_masked_acc: 0.7680 - val_masked_auc: 0.8103\n",
      "Epoch 6/100\n",
      "14/14 [==============================] - 6s 467ms/step - loss: 0.3997 - masked_acc: 0.7691 - masked_auc: 0.8128 - val_loss: 0.4305 - val_masked_acc: 0.7719 - val_masked_auc: 0.8184\n",
      "Epoch 7/100\n",
      "14/14 [==============================] - 6s 431ms/step - loss: 0.3899 - masked_acc: 0.7728 - masked_auc: 0.8205 - val_loss: 0.4317 - val_masked_acc: 0.7749 - val_masked_auc: 0.8247\n",
      "Epoch 8/100\n",
      "14/14 [==============================] - 6s 416ms/step - loss: 0.3936 - masked_acc: 0.7755 - masked_auc: 0.8262 - val_loss: 0.4386 - val_masked_acc: 0.7774 - val_masked_auc: 0.8297\n",
      "Epoch 9/100\n",
      "14/14 [==============================] - 6s 422ms/step - loss: 0.3888 - masked_acc: 0.7780 - masked_auc: 0.8310 - val_loss: 0.4359 - val_masked_acc: 0.7797 - val_masked_auc: 0.8340\n",
      "Epoch 10/100\n",
      "14/14 [==============================] - 6s 432ms/step - loss: 0.3724 - masked_acc: 0.7804 - masked_auc: 0.8354 - val_loss: 0.4415 - val_masked_acc: 0.7818 - val_masked_auc: 0.8379\n",
      "Epoch 11/100\n",
      "14/14 [==============================] - 6s 427ms/step - loss: 0.3739 - masked_acc: 0.7824 - masked_auc: 0.8391 - val_loss: 0.4433 - val_masked_acc: 0.7836 - val_masked_auc: 0.8413\n",
      "Epoch 12/100\n",
      "14/14 [==============================] - 6s 434ms/step - loss: 0.3660 - masked_acc: 0.7841 - masked_auc: 0.8423 - val_loss: 0.4453 - val_masked_acc: 0.7851 - val_masked_auc: 0.8442\n",
      "Epoch 13/100\n",
      "14/14 [==============================] - 7s 475ms/step - loss: 0.3659 - masked_acc: 0.7856 - masked_auc: 0.8451 - val_loss: 0.4482 - val_masked_acc: 0.7867 - val_masked_auc: 0.8470\n",
      "Epoch 14/100\n",
      "14/14 [==============================] - 6s 429ms/step - loss: 0.3499 - masked_acc: 0.7873 - masked_auc: 0.8479 - val_loss: 0.4528 - val_masked_acc: 0.7882 - val_masked_auc: 0.8496\n",
      "28/28 [==============================] - 2s 81ms/step - loss: 0.3481 - masked_acc: 0.7894 - masked_auc: 0.8514\n",
      "4/4 [==============================] - 0s 67ms/step - loss: 0.4194 - masked_acc: 0.7900 - masked_auc: 0.8524\n",
      "Test:  [0.419381320476532, 0.7899961471557617, 0.8523719310760498]\n",
      "Epoch 1/100\n",
      "14/14 [==============================] - 11s 533ms/step - loss: 0.5803 - masked_acc: 0.6785 - masked_auc: 0.5655 - val_loss: 0.4613 - val_masked_acc: 0.7267 - val_masked_auc: 0.6941\n",
      "Epoch 2/100\n",
      "14/14 [==============================] - 6s 422ms/step - loss: 0.4376 - masked_acc: 0.7361 - masked_auc: 0.7259 - val_loss: 0.4271 - val_masked_acc: 0.7528 - val_masked_auc: 0.7716\n",
      "Epoch 3/100\n",
      "14/14 [==============================] - 6s 455ms/step - loss: 0.4102 - masked_acc: 0.7571 - masked_auc: 0.7818 - val_loss: 0.4218 - val_masked_acc: 0.7641 - val_masked_auc: 0.7982\n",
      "Epoch 4/100\n",
      "14/14 [==============================] - 6s 436ms/step - loss: 0.4063 - masked_acc: 0.7659 - masked_auc: 0.8030 - val_loss: 0.4203 - val_masked_acc: 0.7703 - val_masked_auc: 0.8123\n",
      "Epoch 5/100\n",
      "14/14 [==============================] - 6s 423ms/step - loss: 0.3972 - masked_acc: 0.7716 - masked_auc: 0.8154 - val_loss: 0.4202 - val_masked_acc: 0.7746 - val_masked_auc: 0.8212\n",
      "Epoch 6/100\n",
      "14/14 [==============================] - 7s 460ms/step - loss: 0.3923 - masked_acc: 0.7756 - masked_auc: 0.8233 - val_loss: 0.4234 - val_masked_acc: 0.7779 - val_masked_auc: 0.8277\n",
      "Epoch 7/100\n",
      "14/14 [==============================] - 6s 449ms/step - loss: 0.3860 - masked_acc: 0.7787 - masked_auc: 0.8294 - val_loss: 0.4287 - val_masked_acc: 0.7805 - val_masked_auc: 0.8328\n",
      "Epoch 8/100\n",
      "14/14 [==============================] - 6s 443ms/step - loss: 0.3871 - masked_acc: 0.7811 - masked_auc: 0.8342 - val_loss: 0.4261 - val_masked_acc: 0.7828 - val_masked_auc: 0.8371\n",
      "Epoch 9/100\n",
      "14/14 [==============================] - 6s 448ms/step - loss: 0.3770 - masked_acc: 0.7834 - masked_auc: 0.8384 - val_loss: 0.4298 - val_masked_acc: 0.7848 - val_masked_auc: 0.8407\n",
      "Epoch 10/100\n",
      "14/14 [==============================] - 6s 432ms/step - loss: 0.3607 - masked_acc: 0.7856 - masked_auc: 0.8420 - val_loss: 0.4394 - val_masked_acc: 0.7866 - val_masked_auc: 0.8439\n",
      "Epoch 11/100\n",
      "14/14 [==============================] - 6s 444ms/step - loss: 0.3669 - masked_acc: 0.7871 - masked_auc: 0.8449 - val_loss: 0.4439 - val_masked_acc: 0.7883 - val_masked_auc: 0.8469\n",
      "Epoch 12/100\n",
      "14/14 [==============================] - 6s 419ms/step - loss: 0.3613 - masked_acc: 0.7886 - masked_auc: 0.8477 - val_loss: 0.4449 - val_masked_acc: 0.7899 - val_masked_auc: 0.8497\n",
      "Epoch 13/100\n",
      "14/14 [==============================] - 6s 431ms/step - loss: 0.3578 - masked_acc: 0.7903 - masked_auc: 0.8506 - val_loss: 0.4501 - val_masked_acc: 0.7914 - val_masked_auc: 0.8523\n",
      "Epoch 14/100\n",
      "14/14 [==============================] - 6s 458ms/step - loss: 0.3505 - masked_acc: 0.7918 - masked_auc: 0.8531 - val_loss: 0.4575 - val_masked_acc: 0.7929 - val_masked_auc: 0.8547\n",
      "Epoch 15/100\n",
      "14/14 [==============================] - 6s 446ms/step - loss: 0.3441 - masked_acc: 0.7933 - masked_auc: 0.8556 - val_loss: 0.4651 - val_masked_acc: 0.7942 - val_masked_auc: 0.8569\n",
      "28/28 [==============================] - 2s 84ms/step - loss: 0.3342 - masked_acc: 0.7954 - masked_auc: 0.8585\n",
      "4/4 [==============================] - 0s 67ms/step - loss: 0.4641 - masked_acc: 0.7959 - masked_auc: 0.8595\n",
      "Test:  [0.4641243815422058, 0.7958540916442871, 0.8594509363174438]\n",
      "Epoch 1/100\n",
      "14/14 [==============================] - 12s 533ms/step - loss: 0.5780 - masked_acc: 0.6720 - masked_auc: 0.5461 - val_loss: 0.4347 - val_masked_acc: 0.7250 - val_masked_auc: 0.6969\n",
      "Epoch 2/100\n",
      "14/14 [==============================] - 6s 455ms/step - loss: 0.4344 - masked_acc: 0.7356 - masked_auc: 0.7313 - val_loss: 0.4139 - val_masked_acc: 0.7528 - val_masked_auc: 0.7756\n",
      "Epoch 3/100\n",
      "14/14 [==============================] - 6s 413ms/step - loss: 0.4138 - masked_acc: 0.7562 - masked_auc: 0.7852 - val_loss: 0.4118 - val_masked_acc: 0.7637 - val_masked_auc: 0.8011\n",
      "Epoch 4/100\n",
      "14/14 [==============================] - 7s 470ms/step - loss: 0.4071 - masked_acc: 0.7657 - masked_auc: 0.8060 - val_loss: 0.4104 - val_masked_acc: 0.7703 - val_masked_auc: 0.8146\n",
      "Epoch 5/100\n",
      "14/14 [==============================] - 7s 475ms/step - loss: 0.3990 - masked_acc: 0.7716 - masked_auc: 0.8175 - val_loss: 0.4136 - val_masked_acc: 0.7748 - val_masked_auc: 0.8235\n",
      "Epoch 6/100\n",
      "14/14 [==============================] - 6s 422ms/step - loss: 0.3866 - masked_acc: 0.7760 - masked_auc: 0.8258 - val_loss: 0.4125 - val_masked_acc: 0.7781 - val_masked_auc: 0.8299\n",
      "Epoch 7/100\n",
      "14/14 [==============================] - 6s 448ms/step - loss: 0.3863 - masked_acc: 0.7790 - masked_auc: 0.8317 - val_loss: 0.4141 - val_masked_acc: 0.7811 - val_masked_auc: 0.8352\n",
      "Epoch 8/100\n",
      "14/14 [==============================] - 6s 430ms/step - loss: 0.3880 - masked_acc: 0.7816 - masked_auc: 0.8366 - val_loss: 0.4186 - val_masked_acc: 0.7835 - val_masked_auc: 0.8395\n",
      "Epoch 9/100\n",
      "14/14 [==============================] - 6s 461ms/step - loss: 0.3732 - masked_acc: 0.7841 - masked_auc: 0.8408 - val_loss: 0.4225 - val_masked_acc: 0.7857 - val_masked_auc: 0.8433\n",
      "Epoch 10/100\n",
      "14/14 [==============================] - 7s 472ms/step - loss: 0.3655 - masked_acc: 0.7864 - masked_auc: 0.8445 - val_loss: 0.4263 - val_masked_acc: 0.7878 - val_masked_auc: 0.8466\n",
      "Epoch 11/100\n",
      "14/14 [==============================] - 6s 416ms/step - loss: 0.3627 - masked_acc: 0.7884 - masked_auc: 0.8476 - val_loss: 0.4272 - val_masked_acc: 0.7896 - val_masked_auc: 0.8496\n",
      "Epoch 12/100\n",
      "14/14 [==============================] - 6s 447ms/step - loss: 0.3576 - masked_acc: 0.7902 - masked_auc: 0.8506 - val_loss: 0.4373 - val_masked_acc: 0.7914 - val_masked_auc: 0.8523\n",
      "Epoch 13/100\n",
      "14/14 [==============================] - 6s 466ms/step - loss: 0.3536 - masked_acc: 0.7919 - masked_auc: 0.8532 - val_loss: 0.4427 - val_masked_acc: 0.7930 - val_masked_auc: 0.8549\n",
      "Epoch 14/100\n",
      "14/14 [==============================] - 6s 450ms/step - loss: 0.3468 - masked_acc: 0.7936 - masked_auc: 0.8557 - val_loss: 0.4356 - val_masked_acc: 0.7946 - val_masked_auc: 0.8572\n",
      "28/28 [==============================] - 2s 78ms/step - loss: 0.3416 - masked_acc: 0.7959 - masked_auc: 0.8589\n",
      "4/4 [==============================] - 0s 68ms/step - loss: 0.4408 - masked_acc: 0.7962 - masked_auc: 0.8597\n",
      "Test:  [0.4407545030117035, 0.7962412238121033, 0.8597240447998047]\n",
      "Epoch 1/100\n",
      "14/14 [==============================] - 12s 571ms/step - loss: 0.6119 - masked_acc: 0.5346 - masked_auc: 0.5204 - val_loss: 0.5070 - val_masked_acc: 0.6820 - val_masked_auc: 0.6273\n",
      "Epoch 2/100\n",
      "14/14 [==============================] - 6s 434ms/step - loss: 0.4722 - masked_acc: 0.6890 - masked_auc: 0.6661 - val_loss: 0.4554 - val_masked_acc: 0.7132 - val_masked_auc: 0.7244\n",
      "Epoch 3/100\n",
      "14/14 [==============================] - 6s 460ms/step - loss: 0.4369 - masked_acc: 0.7199 - masked_auc: 0.7386 - val_loss: 0.4385 - val_masked_acc: 0.7354 - val_masked_auc: 0.7657\n",
      "Epoch 4/100\n",
      "14/14 [==============================] - 7s 492ms/step - loss: 0.4097 - masked_acc: 0.7400 - masked_auc: 0.7737 - val_loss: 0.4310 - val_masked_acc: 0.7480 - val_masked_auc: 0.7876\n",
      "Epoch 5/100\n",
      "14/14 [==============================] - 6s 440ms/step - loss: 0.4040 - masked_acc: 0.7505 - masked_auc: 0.7921 - val_loss: 0.4321 - val_masked_acc: 0.7559 - val_masked_auc: 0.8012\n",
      "Epoch 6/100\n",
      "14/14 [==============================] - 7s 469ms/step - loss: 0.4073 - masked_acc: 0.7575 - masked_auc: 0.8041 - val_loss: 0.4374 - val_masked_acc: 0.7616 - val_masked_auc: 0.8104\n",
      "Epoch 7/100\n",
      "14/14 [==============================] - 7s 471ms/step - loss: 0.3949 - masked_acc: 0.7630 - masked_auc: 0.8127 - val_loss: 0.4359 - val_masked_acc: 0.7660 - val_masked_auc: 0.8175\n",
      "Epoch 8/100\n",
      "14/14 [==============================] - 7s 480ms/step - loss: 0.3913 - masked_acc: 0.7670 - masked_auc: 0.8193 - val_loss: 0.4389 - val_masked_acc: 0.7696 - val_masked_auc: 0.8232\n",
      "Epoch 9/100\n",
      "14/14 [==============================] - 7s 472ms/step - loss: 0.3831 - masked_acc: 0.7705 - masked_auc: 0.8247 - val_loss: 0.4398 - val_masked_acc: 0.7727 - val_masked_auc: 0.8280\n",
      "Epoch 10/100\n",
      "14/14 [==============================] - 6s 458ms/step - loss: 0.3703 - masked_acc: 0.7736 - masked_auc: 0.8295 - val_loss: 0.4471 - val_masked_acc: 0.7753 - val_masked_auc: 0.8322\n",
      "Epoch 11/100\n",
      "14/14 [==============================] - 6s 428ms/step - loss: 0.3748 - masked_acc: 0.7759 - masked_auc: 0.8334 - val_loss: 0.4551 - val_masked_acc: 0.7776 - val_masked_auc: 0.8357\n",
      "Epoch 12/100\n",
      "14/14 [==============================] - 6s 453ms/step - loss: 0.3732 - masked_acc: 0.7782 - masked_auc: 0.8367 - val_loss: 0.4574 - val_masked_acc: 0.7797 - val_masked_auc: 0.8388\n",
      "Epoch 13/100\n",
      "14/14 [==============================] - 7s 488ms/step - loss: 0.3654 - masked_acc: 0.7802 - masked_auc: 0.8398 - val_loss: 0.4569 - val_masked_acc: 0.7816 - val_masked_auc: 0.8418\n",
      "Epoch 14/100\n",
      "14/14 [==============================] - 6s 424ms/step - loss: 0.3626 - masked_acc: 0.7822 - masked_auc: 0.8427 - val_loss: 0.4630 - val_masked_acc: 0.7834 - val_masked_auc: 0.8446\n",
      "28/28 [==============================] - 2s 77ms/step - loss: 0.3522 - masked_acc: 0.7848 - masked_auc: 0.8464\n",
      "4/4 [==============================] - 0s 64ms/step - loss: 0.4388 - masked_acc: 0.7853 - masked_auc: 0.8474\n",
      "Test:  [0.4388073682785034, 0.7853277921676636, 0.8474143743515015]\n"
     ]
    }
   ],
   "source": [
    "# 5 fold cross validation with RNN-based model\n",
    "import torch\n",
    "X = np.array(grouped_data.keys())\n",
    "kfold = KFold(n_splits=5, shuffle=True)\n",
    "train_losses = list()\n",
    "train_aucs = list()\n",
    "val_losses = list()\n",
    "val_aucs = list()\n",
    "train_eval = list()\n",
    "test_eval = list()\n",
    "for train, test in kfold.split(X):\n",
    "    users_train, users_test =  X[train], X[test]\n",
    "    n = len(users_test)//2\n",
    "    users_test, users_val = users_test[:n], users_test[n: ]\n",
    "    train_data_space = SPACE_DATASET(grouped_data[users_train], MAXLENGTH)\n",
    "    val_data_space = SPACE_DATASET(grouped_data[users_val], MAXLENGTH)\n",
    "    test_data_space = SPACE_DATASET(grouped_data[users_test], MAXLENGTH)\n",
    "    #construct training input\n",
    "    train_chapter=[]\n",
    "    train_sub_chapter=[]\n",
    "    train_question = []\n",
    "#     train_features=[]\n",
    "    train_shifted_t = []\n",
    "    train_labels=[]\n",
    "    for i in range(len(users_train)):\n",
    "        user = train_data_space.__getitem__(i)\n",
    "        train_chapter.append(user[0])\n",
    "        train_sub_chapter.append(user[1]) \n",
    "        train_question.append(user[2])\n",
    "#         train_features.append(user[3])\n",
    "        train_shifted_t.append(user[4])\n",
    "        train_labels.append(user[5])\n",
    "    train_chapter = np.array(train_chapter)\n",
    "    train_sub_chapter = np.array(train_sub_chapter)\n",
    "    train_question = np.array(train_question)\n",
    "#     train_features = np.array(train_features)\n",
    "    train_shifted_t = np.array(train_shifted_t)\n",
    "    train_labels= np.array(train_labels)[..., np.newaxis]\n",
    "\n",
    "    #construct validation input\n",
    "    val_chapter=[]\n",
    "    val_sub_chapter=[]\n",
    "    val_question = []\n",
    "#     val_features=[]\n",
    "    val_shifted_t = []\n",
    "    val_labels=[]\n",
    "    for i in range(len(users_val)):\n",
    "        user = val_data_space.__getitem__(i)\n",
    "        val_chapter.append(user[0])\n",
    "        val_sub_chapter.append(user[1]) \n",
    "        val_question.append(user[2])\n",
    "#         val_features.append(user[3])\n",
    "        val_shifted_t.append(user[4])\n",
    "        val_labels.append(user[5])\n",
    "    val_chapter = np.array(val_chapter)\n",
    "    val_sub_chapter = np.array(val_sub_chapter)\n",
    "#     val_features = np.array(val_features)\n",
    "    val_question = np.array(val_question)\n",
    "    val_shifted_t = np.array(val_shifted_t)\n",
    "    val_labels= np.array(val_labels)[..., np.newaxis]\n",
    "\n",
    "    # construct test input\n",
    "    test_chapter=[]\n",
    "    test_sub_chapter=[]\n",
    "#     test_features=[]\n",
    "    test_question=[]\n",
    "    test_shifted_t = []\n",
    "    test_labels=[]\n",
    "    for i in range(len(users_test)):\n",
    "        user = test_data_space.__getitem__(i)\n",
    "        test_chapter.append(user[0])\n",
    "        test_sub_chapter.append(user[1]) \n",
    "        test_question.append(user[2])\n",
    "#         test_features.append(user[3])\n",
    "        test_shifted_t.append(user[4])\n",
    "        test_labels.append(user[5])\n",
    "    test_chapter = np.array(test_chapter)\n",
    "    test_sub_chapter = np.array(test_sub_chapter)\n",
    "#     test_features = np.array(test_features)\n",
    "    test_question = np.array(test_question)\n",
    "    test_shifted_t = np.array(test_shifted_t)\n",
    "    test_labels= np.array(test_labels)[..., np.newaxis]\n",
    "\n",
    "    # define loss function and evaluation metrics\n",
    "    bce = tf.keras.losses.BinaryCrossentropy(from_logits=True)\n",
    "    acc = tf.keras.metrics.Accuracy()\n",
    "    auc = tf.keras.metrics.AUC()\n",
    "\n",
    "    def masked_bce(y_true, y_pred):\n",
    "      flat_pred = y_pred\n",
    "      flat_ground_truth = y_true\n",
    "      label_mask = tf.math.not_equal(flat_ground_truth, -1)\n",
    "      return bce(flat_ground_truth, flat_pred, sample_weight=label_mask)\n",
    "\n",
    "    def masked_acc(y_true, y_pred):\n",
    "      flat_pred = y_pred\n",
    "      flat_ground_truth = y_true\n",
    "      flat_pred = (flat_pred >= 0.5)\n",
    "      label_mask = tf.math.not_equal(flat_ground_truth, -1)\n",
    "      return acc(flat_ground_truth, flat_pred, sample_weight=label_mask)\n",
    "\n",
    "    def masked_auc(y_true, y_pred):\n",
    "      flat_pred = y_pred\n",
    "      flat_ground_truth = y_true\n",
    "      label_mask = tf.math.not_equal(flat_ground_truth, -1)\n",
    "      return auc(flat_ground_truth, flat_pred, sample_weight=label_mask)\n",
    "\n",
    "    # input layer\n",
    "    input_chap = tf.keras.Input(shape=(MAXLENGTH))\n",
    "    input_sub_chap = tf.keras.Input(shape=(MAXLENGTH))\n",
    "    input_ques =  tf.keras.Input(shape=(MAXLENGTH))\n",
    "    input_shifted = tf.keras.Input(shape=(MAXLENGTH))\n",
    "#     input_features = tf.keras.Input(shape=(MAXLENGTH, FEATURES_SIZE))\n",
    "\n",
    "    # embedding layer for categorical features\n",
    "    embedding_chap = Embedding(input_dim = CHAPTER_SIZE, output_dim = EMBEDDING_DIM)(input_chap)\n",
    "    embedding_sub_chap = Embedding(input_dim = SUB_CHAPTER_SIZE, output_dim = EMBEDDING_DIM)(input_sub_chap) \n",
    "    embedding_ques = Embedding(input_dim = QUESTION_SIZE, output_dim = EMBEDDING_DIM)(input_ques)       \n",
    "    embedding_shifted = Embedding(input_dim = 3, output_dim = EMBEDDING_DIM)(input_shifted)\n",
    "    # dense layer for numeric features\n",
    "#     dense_features = Dense(EMBEDDING_DIM,input_shape = (None, MAXLENGTH))(input_features)\n",
    "\n",
    "    # definr RNN layers\n",
    "    RNN_chap = RNN(RNN_NEURON, input_shape = (None, EMBEDDING_DIM),return_sequences = True)(embedding_chap)\n",
    "    RNN_sub_chap = RNN(RNN_NEURON, input_shape = (None, EMBEDDING_DIM),return_sequences = True)(embedding_sub_chap)\n",
    "    RNN_ques = RNN(RNN_NEURON, input_shape = (None, EMBEDDING_DIM),return_sequences = True)(embedding_ques)\n",
    "    RNN_shif = RNN(RNN_NEURON, input_shape = (None, EMBEDDING_DIM),return_sequences = True)(embedding_shifted)\n",
    "#     RNN_features = RNN(RNN_NEURON, input_shape = (None, EMBEDDING_DIM),return_sequences = True)(dense_features)\n",
    "\n",
    "    RNN_output = tf.concat([RNN_chap, RNN_sub_chap, RNN_ques, RNN_shif], axis = 2)\n",
    "\n",
    "    dense1 = Dense(256, input_shape = (None, 4*EMBEDDING_DIM), activation='relu')(RNN_output)\n",
    "    dropout1 = Dropout(0.1)(dense1)\n",
    "    dense2 = Dense(64, input_shape = (None, 256), activation='relu')(dropout1)\n",
    "    dropout2 = Dropout(0.1)(dense2)\n",
    "    pred = Dense(1, input_shape = (None, 64), activation='sigmoid')(dropout2)\n",
    "\n",
    "    model = tf.keras.Model(\n",
    "        inputs=[input_chap, input_sub_chap,input_ques, input_shifted],\n",
    "        outputs=pred,\n",
    "        name='RNN_model'\n",
    "    )\n",
    "\n",
    "    callback = tf.keras.callbacks.EarlyStopping(monitor='val_loss', patience=10)\n",
    "    opt_adam = Adam(learning_rate = 0.005)\n",
    "    model.compile(\n",
    "        optimizer=opt_adam,\n",
    "        loss= masked_bce,\n",
    "        metrics = [masked_acc, masked_auc]\n",
    "    )\n",
    "\n",
    "    history = model.fit(\n",
    "      [train_chapter, train_sub_chapter, train_question, train_shifted_t],\n",
    "      train_labels,\n",
    "      batch_size = 64,\n",
    "      epochs = 100,\n",
    "      validation_data=([val_chapter, val_sub_chapter, val_question, val_shifted_t], val_labels),\n",
    "      callbacks=[callback]\n",
    "    )\n",
    "    val_losses.append(list(history.history['val_loss']))\n",
    "    train_losses.append(list(history.history['loss']))\n",
    "    val_aucs.append(list(history.history['val_masked_auc']))\n",
    "    train_aucs.append(list(history.history['masked_auc']))\n",
    "    train_score = model.evaluate([train_chapter, train_sub_chapter, train_question, train_shifted_t], train_labels)\n",
    "    train_eval.append(train_score)\n",
    "    test_score = model.evaluate([test_chapter, test_sub_chapter, test_question, test_shifted_t], test_labels)\n",
    "    test_eval.append(test_score)\n",
    "    print(\"Test: \", test_score)\n",
    "    def reset_weights(model):\n",
    "      for layer in model.layers: \n",
    "        if isinstance(layer, tf.keras.Model):\n",
    "          reset_weights(layer)\n",
    "          continue\n",
    "        for k, initializer in layer.__dict__.items():\n",
    "          if \"initializer\" not in k:\n",
    "            continue\n",
    "          # find the corresponding variable\n",
    "          var = getattr(layer, k.replace(\"_initializer\", \"\"))\n",
    "          var.assign(initializer(var.shape, var.dtype))\n",
    "    reset_weights(model)"
   ]
  },
  {
   "cell_type": "code",
   "execution_count": 33,
   "metadata": {
    "execution": {
     "iopub.execute_input": "2021-08-08T17:51:43.679296Z",
     "iopub.status.busy": "2021-08-08T17:51:43.678557Z",
     "iopub.status.idle": "2021-08-08T17:51:43.683872Z",
     "shell.execute_reply": "2021-08-08T17:51:43.683035Z",
     "shell.execute_reply.started": "2021-08-06T21:22:41.876306Z"
    },
    "id": "QsVmumHMz3lx",
    "outputId": "4ff1e2fa-6abb-458e-c729-495b456f53e5",
    "papermill": {
     "duration": 1.227052,
     "end_time": "2021-08-08T17:51:43.684071",
     "exception": false,
     "start_time": "2021-08-08T17:51:42.457019",
     "status": "completed"
    },
    "tags": []
   },
   "outputs": [
    {
     "name": "stdout",
     "output_type": "stream",
     "text": [
      "test avg loss:  0.4427271842956543 +/- 0.01472147878046893\n",
      "test avg acc:  0.7920949101448059 +/- 0.004060650077465621\n",
      "test avg auc:  0.8551677346229554 +/- 0.004689558655889344\n"
     ]
    }
   ],
   "source": [
    "t_eval = np.array(test_eval)\n",
    "print(\"test avg loss: \", np.mean(t_eval[:, 0]), \"+/-\" ,np.std(t_eval[:, 0]))\n",
    "print(\"test avg acc: \", np.mean(t_eval[:, 1]),  \"+/-\" ,np.std(t_eval[:, 1]))\n",
    "print(\"test avg auc: \", np.mean(t_eval[:, 2]), \"+/-\" ,np.std(t_eval[:, 2]))"
   ]
  },
  {
   "cell_type": "code",
   "execution_count": 34,
   "metadata": {
    "execution": {
     "iopub.execute_input": "2021-08-08T17:51:45.212609Z",
     "iopub.status.busy": "2021-08-08T17:51:45.211726Z",
     "iopub.status.idle": "2021-08-08T17:51:45.216599Z",
     "shell.execute_reply": "2021-08-08T17:51:45.217423Z",
     "shell.execute_reply.started": "2021-08-06T21:22:41.886927Z"
    },
    "id": "b9MM_CXWz5K6",
    "outputId": "4cf88e1d-3a74-4e7d-f92c-d01522e91757",
    "papermill": {
     "duration": 0.768523,
     "end_time": "2021-08-08T17:51:45.217669",
     "exception": false,
     "start_time": "2021-08-08T17:51:44.449146",
     "status": "completed"
    },
    "tags": []
   },
   "outputs": [
    {
     "name": "stdout",
     "output_type": "stream",
     "text": [
      "train avg loss:  0.34312511086463926 +/- 0.006351632326088888\n",
      "train avg acc:  0.791610860824585 +/- 0.004118039338342455\n",
      "train avg auc:  0.854228401184082 +/- 0.004756090024073791\n"
     ]
    }
   ],
   "source": [
    "t_eval = np.array(train_eval)\n",
    "print(\"train avg loss: \", np.mean(t_eval[:, 0]), \"+/-\" ,np.std(t_eval[:, 0]))\n",
    "print(\"train avg acc: \", np.mean(t_eval[:, 1]),  \"+/-\" ,np.std(t_eval[:, 1]))\n",
    "print(\"train avg auc: \", np.mean(t_eval[:, 2]), \"+/-\" ,np.std(t_eval[:, 2]))"
   ]
  }
 ],
 "metadata": {
  "kernelspec": {
   "display_name": "Python 3",
   "language": "python",
   "name": "python3"
  },
  "language_info": {
   "codemirror_mode": {
    "name": "ipython",
    "version": 3
   },
   "file_extension": ".py",
   "mimetype": "text/x-python",
   "name": "python",
   "nbconvert_exporter": "python",
   "pygments_lexer": "ipython3",
   "version": "3.8.5"
  },
  "papermill": {
   "default_parameters": {},
   "duration": 874.391109,
   "end_time": "2021-08-08T17:51:48.492615",
   "environment_variables": {},
   "exception": null,
   "input_path": "__notebook__.ipynb",
   "output_path": "__notebook__.ipynb",
   "parameters": {},
   "start_time": "2021-08-08T17:37:14.101506",
   "version": "2.3.3"
  }
 },
 "nbformat": 4,
 "nbformat_minor": 5
}
