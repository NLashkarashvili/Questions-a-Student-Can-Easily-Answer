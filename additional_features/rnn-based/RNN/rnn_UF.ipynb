{
 "cells": [
  {
   "cell_type": "code",
   "execution_count": 1,
   "metadata": {
    "execution": {
     "iopub.execute_input": "2021-08-08T14:51:11.897582Z",
     "iopub.status.busy": "2021-08-08T14:51:11.896416Z",
     "iopub.status.idle": "2021-08-08T14:51:18.070926Z",
     "shell.execute_reply": "2021-08-08T14:51:18.069998Z",
     "shell.execute_reply.started": "2021-08-06T20:53:41.672006Z"
    },
    "id": "farifxiKU1aB",
    "papermill": {
     "duration": 6.210063,
     "end_time": "2021-08-08T14:51:18.071102",
     "exception": false,
     "start_time": "2021-08-08T14:51:11.861039",
     "status": "completed"
    },
    "tags": []
   },
   "outputs": [],
   "source": [
    "import numpy as np\n",
    "import pandas as pd\n",
    "import warnings\n",
    "import gc\n",
    "import tensorflow as tf\n",
    "from tensorflow import keras\n",
    "\n",
    "import random\n",
    "from random import choice\n",
    "from tensorflow.keras.optimizers import Adam\n",
    "from tensorflow.keras.models import Sequential \n",
    "from tensorflow.keras.layers import Dense, Concatenate, Embedding, Flatten, Activation, Dropout\n",
    "from tensorflow.keras.layers import SimpleRNN as RNN\n",
    "from sklearn.model_selection import KFold\n",
    "from tensorflow.python.client import device_lib\n",
    "warnings.filterwarnings('ignore')\n",
    "import random"
   ]
  },
  {
   "cell_type": "code",
   "execution_count": 2,
   "metadata": {
    "execution": {
     "iopub.execute_input": "2021-08-08T14:51:18.134499Z",
     "iopub.status.busy": "2021-08-08T14:51:18.133797Z",
     "iopub.status.idle": "2021-08-08T14:51:18.135621Z",
     "shell.execute_reply": "2021-08-08T14:51:18.136078Z",
     "shell.execute_reply.started": "2021-08-06T20:53:43.985924Z"
    },
    "id": "QOson70GPOXb",
    "papermill": {
     "duration": 0.035453,
     "end_time": "2021-08-08T14:51:18.136238",
     "exception": false,
     "start_time": "2021-08-08T14:51:18.100785",
     "status": "completed"
    },
    "tags": []
   },
   "outputs": [],
   "source": [
    "import gc"
   ]
  },
  {
   "cell_type": "markdown",
   "metadata": {
    "id": "BQsVybBH3VPw",
    "papermill": {
     "duration": 0.029687,
     "end_time": "2021-08-08T14:51:18.195042",
     "exception": false,
     "start_time": "2021-08-08T14:51:18.165355",
     "status": "completed"
    },
    "tags": []
   },
   "source": [
    "## Data Preprocessing"
   ]
  },
  {
   "cell_type": "code",
   "execution_count": 3,
   "metadata": {
    "execution": {
     "iopub.execute_input": "2021-08-08T14:51:18.256538Z",
     "iopub.status.busy": "2021-08-08T14:51:18.255942Z",
     "iopub.status.idle": "2021-08-08T14:51:24.788911Z",
     "shell.execute_reply": "2021-08-08T14:51:24.788418Z",
     "shell.execute_reply.started": "2021-08-06T20:53:43.99311Z"
    },
    "id": "rwtTusGxrmAE",
    "outputId": "1430f3cf-038b-485e-b5c4-c1686b1f34fd",
    "papermill": {
     "duration": 6.564589,
     "end_time": "2021-08-08T14:51:24.789047",
     "exception": false,
     "start_time": "2021-08-08T14:51:18.224458",
     "status": "completed"
    },
    "tags": []
   },
   "outputs": [
    {
     "data": {
      "text/html": [
       "<div>\n",
       "<style scoped>\n",
       "    .dataframe tbody tr th:only-of-type {\n",
       "        vertical-align: middle;\n",
       "    }\n",
       "\n",
       "    .dataframe tbody tr th {\n",
       "        vertical-align: top;\n",
       "    }\n",
       "\n",
       "    .dataframe thead th {\n",
       "        text-align: right;\n",
       "    }\n",
       "</style>\n",
       "<table border=\"1\" class=\"dataframe\">\n",
       "  <thead>\n",
       "    <tr style=\"text-align: right;\">\n",
       "      <th></th>\n",
       "      <th>Unnamed: 0</th>\n",
       "      <th>chapter_label</th>\n",
       "      <th>sub_chapter_label</th>\n",
       "      <th>question_name</th>\n",
       "      <th>user_id.x</th>\n",
       "      <th>term</th>\n",
       "      <th>STDNT_SEX_CD</th>\n",
       "      <th>NonNativeEnglish</th>\n",
       "      <th>White</th>\n",
       "      <th>Asian</th>\n",
       "      <th>...</th>\n",
       "      <th>classGraded</th>\n",
       "      <th>classHonors</th>\n",
       "      <th>Pass_Fail</th>\n",
       "      <th>parentsGraduateEdu</th>\n",
       "      <th>minorityGroup</th>\n",
       "      <th>q</th>\n",
       "      <th>day's_available_flashcards</th>\n",
       "      <th>start_practice</th>\n",
       "      <th>end_practice</th>\n",
       "      <th>days_offset</th>\n",
       "    </tr>\n",
       "  </thead>\n",
       "  <tbody>\n",
       "    <tr>\n",
       "      <th>0</th>\n",
       "      <td>1</td>\n",
       "      <td>Sort</td>\n",
       "      <td>intro-SortingwithSortandSorted</td>\n",
       "      <td>ee_sort_04</td>\n",
       "      <td>148</td>\n",
       "      <td>WN 2018</td>\n",
       "      <td>1</td>\n",
       "      <td>0</td>\n",
       "      <td>1</td>\n",
       "      <td>0</td>\n",
       "      <td>...</td>\n",
       "      <td>1</td>\n",
       "      <td>0</td>\n",
       "      <td>0</td>\n",
       "      <td>0</td>\n",
       "      <td>0</td>\n",
       "      <td>0</td>\n",
       "      <td>18</td>\n",
       "      <td>2018-03-04 20:00:19</td>\n",
       "      <td>2018-03-04 20:00:35</td>\n",
       "      <td>45</td>\n",
       "    </tr>\n",
       "    <tr>\n",
       "      <th>1</th>\n",
       "      <td>2</td>\n",
       "      <td>Functions</td>\n",
       "      <td>Returningavaluefromafunction</td>\n",
       "      <td>test_questionfunctions_2_3</td>\n",
       "      <td>148</td>\n",
       "      <td>WN 2018</td>\n",
       "      <td>1</td>\n",
       "      <td>0</td>\n",
       "      <td>1</td>\n",
       "      <td>0</td>\n",
       "      <td>...</td>\n",
       "      <td>1</td>\n",
       "      <td>0</td>\n",
       "      <td>0</td>\n",
       "      <td>0</td>\n",
       "      <td>0</td>\n",
       "      <td>4</td>\n",
       "      <td>16</td>\n",
       "      <td>2018-02-10 11:57:55</td>\n",
       "      <td>2018-02-10 11:58:35</td>\n",
       "      <td>23</td>\n",
       "    </tr>\n",
       "    <tr>\n",
       "      <th>2</th>\n",
       "      <td>3</td>\n",
       "      <td>RESTAPIs</td>\n",
       "      <td>functionswithrestapis</td>\n",
       "      <td>test_question_functions_rest_apis_1</td>\n",
       "      <td>148</td>\n",
       "      <td>WN 2018</td>\n",
       "      <td>1</td>\n",
       "      <td>0</td>\n",
       "      <td>1</td>\n",
       "      <td>0</td>\n",
       "      <td>...</td>\n",
       "      <td>1</td>\n",
       "      <td>0</td>\n",
       "      <td>0</td>\n",
       "      <td>0</td>\n",
       "      <td>0</td>\n",
       "      <td>1</td>\n",
       "      <td>2</td>\n",
       "      <td>2018-03-12 17:03:07</td>\n",
       "      <td>2018-03-12 17:04:28</td>\n",
       "      <td>53</td>\n",
       "    </tr>\n",
       "    <tr>\n",
       "      <th>3</th>\n",
       "      <td>4</td>\n",
       "      <td>SimplePythonData</td>\n",
       "      <td>FunctionCalls</td>\n",
       "      <td>exercise_functionCalls_1</td>\n",
       "      <td>148</td>\n",
       "      <td>WN 2018</td>\n",
       "      <td>1</td>\n",
       "      <td>0</td>\n",
       "      <td>1</td>\n",
       "      <td>0</td>\n",
       "      <td>...</td>\n",
       "      <td>1</td>\n",
       "      <td>0</td>\n",
       "      <td>0</td>\n",
       "      <td>0</td>\n",
       "      <td>0</td>\n",
       "      <td>0</td>\n",
       "      <td>10</td>\n",
       "      <td>2018-01-30 14:15:49</td>\n",
       "      <td>2018-01-30 14:15:58</td>\n",
       "      <td>12</td>\n",
       "    </tr>\n",
       "    <tr>\n",
       "      <th>4</th>\n",
       "      <td>5</td>\n",
       "      <td>DictionaryAccumulation</td>\n",
       "      <td>AccumulatingaMaximumValue</td>\n",
       "      <td>ps_04_07</td>\n",
       "      <td>148</td>\n",
       "      <td>WN 2018</td>\n",
       "      <td>1</td>\n",
       "      <td>0</td>\n",
       "      <td>1</td>\n",
       "      <td>0</td>\n",
       "      <td>...</td>\n",
       "      <td>1</td>\n",
       "      <td>0</td>\n",
       "      <td>0</td>\n",
       "      <td>0</td>\n",
       "      <td>0</td>\n",
       "      <td>0</td>\n",
       "      <td>23</td>\n",
       "      <td>2018-03-03 14:04:17</td>\n",
       "      <td>2018-03-03 14:04:25</td>\n",
       "      <td>44</td>\n",
       "    </tr>\n",
       "  </tbody>\n",
       "</table>\n",
       "<p>5 rows × 48 columns</p>\n",
       "</div>"
      ],
      "text/plain": [
       "   Unnamed: 0           chapter_label               sub_chapter_label  \\\n",
       "0           1                    Sort  intro-SortingwithSortandSorted   \n",
       "1           2               Functions    Returningavaluefromafunction   \n",
       "2           3                RESTAPIs           functionswithrestapis   \n",
       "3           4        SimplePythonData                   FunctionCalls   \n",
       "4           5  DictionaryAccumulation       AccumulatingaMaximumValue   \n",
       "\n",
       "                         question_name  user_id.x     term  STDNT_SEX_CD  \\\n",
       "0                           ee_sort_04        148  WN 2018             1   \n",
       "1           test_questionfunctions_2_3        148  WN 2018             1   \n",
       "2  test_question_functions_rest_apis_1        148  WN 2018             1   \n",
       "3             exercise_functionCalls_1        148  WN 2018             1   \n",
       "4                             ps_04_07        148  WN 2018             1   \n",
       "\n",
       "   NonNativeEnglish  White  Asian  ...  classGraded  classHonors  Pass_Fail  \\\n",
       "0                 0      1      0  ...            1            0          0   \n",
       "1                 0      1      0  ...            1            0          0   \n",
       "2                 0      1      0  ...            1            0          0   \n",
       "3                 0      1      0  ...            1            0          0   \n",
       "4                 0      1      0  ...            1            0          0   \n",
       "\n",
       "   parentsGraduateEdu  minorityGroup  q  day's_available_flashcards  \\\n",
       "0                   0              0  0                          18   \n",
       "1                   0              0  4                          16   \n",
       "2                   0              0  1                           2   \n",
       "3                   0              0  0                          10   \n",
       "4                   0              0  0                          23   \n",
       "\n",
       "        start_practice         end_practice  days_offset  \n",
       "0  2018-03-04 20:00:19  2018-03-04 20:00:35           45  \n",
       "1  2018-02-10 11:57:55  2018-02-10 11:58:35           23  \n",
       "2  2018-03-12 17:03:07  2018-03-12 17:04:28           53  \n",
       "3  2018-01-30 14:15:49  2018-01-30 14:15:58           12  \n",
       "4  2018-03-03 14:04:17  2018-03-03 14:04:25           44  \n",
       "\n",
       "[5 rows x 48 columns]"
      ]
     },
     "execution_count": 3,
     "metadata": {},
     "output_type": "execute_result"
    }
   ],
   "source": [
    "# load the data\n",
    "import pandas as pd\n",
    "dataframe = pd.read_csv('../input/practice-log-demographics/Practice_Log_Demographics (1).csv', low_memory=False)\n",
    "dataframe.head()"
   ]
  },
  {
   "cell_type": "code",
   "execution_count": 4,
   "metadata": {
    "execution": {
     "iopub.execute_input": "2021-08-08T14:51:24.856070Z",
     "iopub.status.busy": "2021-08-08T14:51:24.855412Z",
     "iopub.status.idle": "2021-08-08T14:51:24.857470Z",
     "shell.execute_reply": "2021-08-08T14:51:24.857952Z",
     "shell.execute_reply.started": "2021-08-06T20:53:49.176565Z"
    },
    "id": "0RvF7BvEr98o",
    "papermill": {
     "duration": 0.039016,
     "end_time": "2021-08-08T14:51:24.858137",
     "exception": false,
     "start_time": "2021-08-08T14:51:24.819121",
     "status": "completed"
    },
    "tags": []
   },
   "outputs": [],
   "source": [
    "FEATURES = ['chapter_label', 'sub_chapter_label','question_name','user_id','term',\n",
    "            'STDNT_SEX_CD', \n",
    "            'NonNativeEnglish',\n",
    "            'White',\n",
    "            'Asian',\n",
    "            'WhiteOrAsian',\n",
    "            'Hispanic',\n",
    "            'AfricanAmerican',\n",
    "            'OtherEthnicities',\n",
    "            'NonWhiteOrAsian',\n",
    "            'STDNT_CTZN_STAT_CD', 'international', \n",
    "            'gradingType',\n",
    "            'birthYear',\n",
    "            'exclClassCumGPA',\n",
    "            'Freshman',\n",
    "            'Junior',\n",
    "            'Sophomore',\n",
    "            'Senior',\n",
    "            'termCreditsGPA',\n",
    "            'termCreditsNoGPA',\n",
    "            'athlete_1',\n",
    "            'honorsPro',\n",
    "            'LSA', 'programBusiness', 'programEngineering', \n",
    "            'programInformation', 'programOther',\n",
    "            'HSCalculusTaken', \n",
    "            'highSchoolGPA', \n",
    "            'majorsCount', 'minorsCount',\n",
    "            'PREV_TERM_CUM_GPA',\n",
    "            'classGraded', 'classHonors', \n",
    "            'Pass_Fail', \n",
    "            'parentsGraduateEdu',  'minorityGroup', \n",
    "            'q',\n",
    "            'available_flashcards', \n",
    "            'start_practice', \n",
    "            'end_practice',\n",
    "            'days_offset']"
   ]
  },
  {
   "cell_type": "code",
   "execution_count": 5,
   "metadata": {
    "execution": {
     "iopub.execute_input": "2021-08-08T14:51:24.923664Z",
     "iopub.status.busy": "2021-08-08T14:51:24.923057Z",
     "iopub.status.idle": "2021-08-08T14:51:25.427123Z",
     "shell.execute_reply": "2021-08-08T14:51:25.427626Z",
     "shell.execute_reply.started": "2021-08-06T20:53:49.185798Z"
    },
    "id": "Mn341X7lSztl",
    "papermill": {
     "duration": 0.537609,
     "end_time": "2021-08-08T14:51:25.427824",
     "exception": false,
     "start_time": "2021-08-08T14:51:24.890215",
     "status": "completed"
    },
    "tags": []
   },
   "outputs": [],
   "source": [
    "dataframe['available_flashcards'] = dataframe[\"day's_available_flashcards\"][:]\n",
    "dataframe = dataframe.drop([\"day's_available_flashcards\"], axis=1)\n",
    "dataframe['user_id'] = dataframe[\"user_id.x\"][:]\n",
    "dataframe = dataframe.drop([\"user_id.x\"], axis=1)"
   ]
  },
  {
   "cell_type": "code",
   "execution_count": 6,
   "metadata": {
    "execution": {
     "iopub.execute_input": "2021-08-08T14:51:25.658222Z",
     "iopub.status.busy": "2021-08-08T14:51:25.657191Z",
     "iopub.status.idle": "2021-08-08T14:51:25.660706Z",
     "shell.execute_reply": "2021-08-08T14:51:25.661221Z",
     "shell.execute_reply.started": "2021-08-06T20:53:49.660082Z"
    },
    "id": "-_BRggOjbBjN",
    "outputId": "42bff7db-08dd-48dc-a73a-d048508053b7",
    "papermill": {
     "duration": 0.20318,
     "end_time": "2021-08-08T14:51:25.661389",
     "exception": false,
     "start_time": "2021-08-08T14:51:25.458209",
     "status": "completed"
    },
    "tags": []
   },
   "outputs": [
    {
     "data": {
      "text/plain": [
       "82"
      ]
     },
     "execution_count": 6,
     "metadata": {},
     "output_type": "execute_result"
    }
   ],
   "source": [
    "gc.collect()"
   ]
  },
  {
   "cell_type": "code",
   "execution_count": 7,
   "metadata": {
    "execution": {
     "iopub.execute_input": "2021-08-08T14:51:25.730121Z",
     "iopub.status.busy": "2021-08-08T14:51:25.728405Z",
     "iopub.status.idle": "2021-08-08T14:51:26.001682Z",
     "shell.execute_reply": "2021-08-08T14:51:26.001133Z",
     "shell.execute_reply.started": "2021-08-06T20:53:49.836831Z"
    },
    "id": "lXM7MlonVeRL",
    "outputId": "d29ccec0-522f-4e3c-e0b2-39b2e1eaef74",
    "papermill": {
     "duration": 0.309684,
     "end_time": "2021-08-08T14:51:26.001840",
     "exception": false,
     "start_time": "2021-08-08T14:51:25.692156",
     "status": "completed"
    },
    "tags": []
   },
   "outputs": [
    {
     "data": {
      "text/plain": [
       "20"
      ]
     },
     "execution_count": 7,
     "metadata": {},
     "output_type": "execute_result"
    }
   ],
   "source": [
    "dataframe = dataframe[FEATURES]\n",
    "gc.collect()"
   ]
  },
  {
   "cell_type": "code",
   "execution_count": 8,
   "metadata": {
    "execution": {
     "iopub.execute_input": "2021-08-08T14:51:26.535393Z",
     "iopub.status.busy": "2021-08-08T14:51:26.533615Z",
     "iopub.status.idle": "2021-08-08T14:51:26.661413Z",
     "shell.execute_reply": "2021-08-08T14:51:26.660788Z",
     "shell.execute_reply.started": "2021-08-06T20:53:50.129501Z"
    },
    "id": "2WAFv5z3A6fK",
    "outputId": "e27abf84-ec3c-4b88-e1fb-927d94b41898",
    "papermill": {
     "duration": 0.628976,
     "end_time": "2021-08-08T14:51:26.661583",
     "exception": false,
     "start_time": "2021-08-08T14:51:26.032607",
     "status": "completed"
    },
    "tags": []
   },
   "outputs": [],
   "source": [
    "dataframe = dataframe.fillna(0)"
   ]
  },
  {
   "cell_type": "code",
   "execution_count": 9,
   "metadata": {
    "execution": {
     "iopub.execute_input": "2021-08-08T14:51:26.742331Z",
     "iopub.status.busy": "2021-08-08T14:51:26.740544Z",
     "iopub.status.idle": "2021-08-08T14:51:28.186047Z",
     "shell.execute_reply": "2021-08-08T14:51:28.185296Z",
     "shell.execute_reply.started": "2021-08-06T20:53:50.733184Z"
    },
    "id": "qRKqF_0IXZgj",
    "papermill": {
     "duration": 1.492944,
     "end_time": "2021-08-08T14:51:28.186203",
     "exception": false,
     "start_time": "2021-08-08T14:51:26.693259",
     "status": "completed"
    },
    "tags": []
   },
   "outputs": [],
   "source": [
    "#label encode term, chapter_label, question_name, sub_chapter_label columns\n",
    "dataframe['term'] = dataframe['term'].astype('category')\n",
    "dataframe['user_id'] = dataframe['user_id'].astype(int)\n",
    "dataframe['user_id'] = dataframe['user_id'].astype(str)\n",
    "dataframe['user_id'] = dataframe['term'].str.cat(dataframe['user_id'], sep=':')\n",
    "dataframe['user_id'] = dataframe['user_id'].astype('category')\n",
    "dataframe['chapter_label'] = dataframe['chapter_label'].astype('category')\n",
    "dataframe['sub_chapter_label'] = dataframe['sub_chapter_label'].astype('category')\n",
    "dataframe['question_name'] = dataframe['question_name'].astype('category')\n"
   ]
  },
  {
   "cell_type": "code",
   "execution_count": 10,
   "metadata": {
    "execution": {
     "iopub.execute_input": "2021-08-08T14:51:28.254888Z",
     "iopub.status.busy": "2021-08-08T14:51:28.254237Z",
     "iopub.status.idle": "2021-08-08T14:51:28.729040Z",
     "shell.execute_reply": "2021-08-08T14:51:28.728450Z",
     "shell.execute_reply.started": "2021-08-06T20:53:52.202336Z"
    },
    "id": "eVl_067GWkDe",
    "papermill": {
     "duration": 0.511619,
     "end_time": "2021-08-08T14:51:28.729182",
     "exception": false,
     "start_time": "2021-08-08T14:51:28.217563",
     "status": "completed"
    },
    "tags": []
   },
   "outputs": [],
   "source": [
    "#calculate time_lag and prev_time_elapsed\n",
    "dataframe['prev_time_elapsed'] = None\n",
    "dataframe['time_lag'] = None\n",
    "dataframe['time_lag'] = dataframe['time_lag'].astype(np.float)\n",
    "dataframe['prev_time_elapsed'] = dataframe['prev_time_elapsed'].astype(np.float)\n",
    "dataframe.start_practice = pd.to_datetime(dataframe.start_practice, format='%Y-%m-%d %H:%M:%S')\n",
    "dataframe.end_practice = pd.to_datetime(dataframe.end_practice, format='%Y-%m-%d %H:%M:%S')"
   ]
  },
  {
   "cell_type": "code",
   "execution_count": 11,
   "metadata": {
    "execution": {
     "iopub.execute_input": "2021-08-08T14:51:28.796288Z",
     "iopub.status.busy": "2021-08-08T14:51:28.795622Z",
     "iopub.status.idle": "2021-08-08T14:51:29.196154Z",
     "shell.execute_reply": "2021-08-08T14:51:29.195081Z",
     "shell.execute_reply.started": "2021-08-06T20:53:52.690519Z"
    },
    "papermill": {
     "duration": 0.435806,
     "end_time": "2021-08-08T14:51:29.196306",
     "exception": false,
     "start_time": "2021-08-08T14:51:28.760500",
     "status": "completed"
    },
    "tags": []
   },
   "outputs": [],
   "source": [
    "#sort data based on timestamp\n",
    "dataframe = dataframe.sort_values(by=['start_practice']).reset_index(drop=True)"
   ]
  },
  {
   "cell_type": "code",
   "execution_count": 12,
   "metadata": {
    "execution": {
     "iopub.execute_input": "2021-08-08T14:51:29.265527Z",
     "iopub.status.busy": "2021-08-08T14:51:29.264784Z",
     "iopub.status.idle": "2021-08-08T14:51:29.302921Z",
     "shell.execute_reply": "2021-08-08T14:51:29.302310Z",
     "shell.execute_reply.started": "2021-08-06T20:53:53.10858Z"
    },
    "papermill": {
     "duration": 0.075613,
     "end_time": "2021-08-08T14:51:29.303064",
     "exception": false,
     "start_time": "2021-08-08T14:51:29.227451",
     "status": "completed"
    },
    "tags": []
   },
   "outputs": [],
   "source": [
    "dataframe['dif'] = dataframe.end_practice - dataframe.start_practice\n",
    "dataframe['dif'] = dataframe['dif'] /np.timedelta64(1, 's')\n",
    "dataframe['answer_correct'] = np.where((dataframe['q']==5) & (dataframe['dif'] <= 60), 1, 0)"
   ]
  },
  {
   "cell_type": "code",
   "execution_count": 13,
   "metadata": {
    "execution": {
     "iopub.execute_input": "2021-08-08T14:51:29.370068Z",
     "iopub.status.busy": "2021-08-08T14:51:29.369345Z",
     "iopub.status.idle": "2021-08-08T14:51:29.380345Z",
     "shell.execute_reply": "2021-08-08T14:51:29.379836Z",
     "shell.execute_reply.started": "2021-08-06T20:53:53.141542Z"
    },
    "papermill": {
     "duration": 0.046253,
     "end_time": "2021-08-08T14:51:29.380486",
     "exception": false,
     "start_time": "2021-08-08T14:51:29.334233",
     "status": "completed"
    },
    "tags": []
   },
   "outputs": [],
   "source": [
    "unique_chapts = dataframe['chapter_label'].unique()"
   ]
  },
  {
   "cell_type": "code",
   "execution_count": 14,
   "metadata": {
    "execution": {
     "iopub.execute_input": "2021-08-08T14:51:29.445381Z",
     "iopub.status.busy": "2021-08-08T14:51:29.444685Z",
     "iopub.status.idle": "2021-08-08T14:57:04.891692Z",
     "shell.execute_reply": "2021-08-08T14:57:04.890916Z",
     "shell.execute_reply.started": "2021-08-06T20:57:57.26281Z"
    },
    "id": "Xrkcn9VhWETm",
    "outputId": "fd73f3de-5f56-42a8-9539-3f3b79a5a6e2",
    "papermill": {
     "duration": 335.480264,
     "end_time": "2021-08-08T14:57:04.891866",
     "exception": false,
     "start_time": "2021-08-08T14:51:29.411602",
     "status": "completed"
    },
    "tags": []
   },
   "outputs": [
    {
     "name": "stderr",
     "output_type": "stream",
     "text": [
      "100%|██████████| 1110/1110 [05:35<00:00,  3.31it/s]\n"
     ]
    }
   ],
   "source": [
    "unique_chapts = dataframe['chapter_label'].unique()\n",
    "from tqdm import tqdm\n",
    "cnt = 0\n",
    "for user in tqdm(dataframe['user_id'].unique()):\n",
    "        for chapter in unique_chapts:\n",
    "            tmp_user = dataframe[(dataframe['user_id']==user) & (dataframe['chapter_label']==chapter)]\n",
    "            #if user doesn't answer any question from the chapter\n",
    "            if len(tmp_user) < 1:\n",
    "                continue\n",
    "            #calculate average elapsed time before the current question\n",
    "            #from its corresponding chapter\n",
    "            tmp_time_elapsed = tmp_user.end_practice - tmp_user.start_practice\n",
    "            tmp_time_elapsed = tmp_time_elapsed / np.timedelta64(1, 's')\n",
    "            tmp_time_elapsed = np.insert(np.array(tmp_time_elapsed[:-1]), 0, 0., axis=0)\n",
    "            tmp_time_elapsed = np.cumsum(tmp_time_elapsed)\n",
    "            indices = tmp_user.index\n",
    "            start_row = indices[0]\n",
    "            dataframe['time_lag'].iloc[start_row] = 0\n",
    "            for_mean = np.arange(len(tmp_user))\n",
    "            for_mean[0] = 1\n",
    "            time_substrahend = tmp_user.start_practice.iloc[:-1]\n",
    "            time_substrahend = time_substrahend.apply(lambda a: a.timestamp())\n",
    "            time_substrahend = np.array(time_substrahend)\n",
    "            \n",
    "            time_minuend = tmp_user.start_practice.iloc[1:]\n",
    "            time_minuend = time_minuend.apply(lambda a: a.timestamp())\n",
    "            time_minuend = np.array(time_minuend)\n",
    "\n",
    "            dataframe['prev_time_elapsed'].iloc[indices] = tmp_time_elapsed/for_mean\n",
    "            #calculate difference between current and last interaction\n",
    "            #from the same chapter\n",
    "            dataframe['time_lag'].iloc[indices[1:]] = time_minuend - time_substrahend\n"
   ]
  },
  {
   "cell_type": "code",
   "execution_count": 15,
   "metadata": {
    "execution": {
     "iopub.execute_input": "2021-08-08T14:57:05.635835Z",
     "iopub.status.busy": "2021-08-08T14:57:05.635176Z",
     "iopub.status.idle": "2021-08-08T14:57:05.722175Z",
     "shell.execute_reply": "2021-08-08T14:57:05.722692Z",
     "shell.execute_reply.started": "2021-08-06T21:04:40.337666Z"
    },
    "id": "8t8yZ0XvWwzz",
    "papermill": {
     "duration": 0.471556,
     "end_time": "2021-08-08T14:57:05.722891",
     "exception": false,
     "start_time": "2021-08-08T14:57:05.251335",
     "status": "completed"
    },
    "tags": []
   },
   "outputs": [],
   "source": [
    "#drop column end_practice\n",
    "dataframe.drop(columns=['end_practice'], inplace=True)"
   ]
  },
  {
   "cell_type": "code",
   "execution_count": 16,
   "metadata": {
    "execution": {
     "iopub.execute_input": "2021-08-08T14:57:06.442549Z",
     "iopub.status.busy": "2021-08-08T14:57:06.441918Z",
     "iopub.status.idle": "2021-08-08T14:57:06.895817Z",
     "shell.execute_reply": "2021-08-08T14:57:06.896408Z",
     "shell.execute_reply.started": "2021-08-06T21:04:41.469601Z"
    },
    "id": "E42raRIrYYXz",
    "papermill": {
     "duration": 0.8153,
     "end_time": "2021-08-08T14:57:06.896596",
     "exception": false,
     "start_time": "2021-08-08T14:57:06.081296",
     "status": "completed"
    },
    "tags": []
   },
   "outputs": [],
   "source": [
    "# calculate the age feature\n",
    "dataframe['term_value'] = [int(ele[3:]) for ele in dataframe['term']]\n",
    "dataframe['age'] = dataframe['term_value'] - dataframe['birthYear']"
   ]
  },
  {
   "cell_type": "code",
   "execution_count": 17,
   "metadata": {
    "execution": {
     "iopub.execute_input": "2021-08-08T14:57:07.620482Z",
     "iopub.status.busy": "2021-08-08T14:57:07.619806Z",
     "iopub.status.idle": "2021-08-08T14:57:07.831658Z",
     "shell.execute_reply": "2021-08-08T14:57:07.832217Z",
     "shell.execute_reply.started": "2021-08-06T21:04:42.216092Z"
    },
    "id": "pcMVQXueYnMh",
    "papermill": {
     "duration": 0.573771,
     "end_time": "2021-08-08T14:57:07.832395",
     "exception": false,
     "start_time": "2021-08-08T14:57:07.258624",
     "status": "completed"
    },
    "tags": []
   },
   "outputs": [],
   "source": [
    "# drop term_value and birthYear column\n",
    "dataframe.drop(columns=['term_value', 'birthYear'], inplace=True)"
   ]
  },
  {
   "cell_type": "code",
   "execution_count": 18,
   "metadata": {
    "execution": {
     "iopub.execute_input": "2021-08-08T14:57:08.649917Z",
     "iopub.status.busy": "2021-08-08T14:57:08.639680Z",
     "iopub.status.idle": "2021-08-08T14:57:09.134361Z",
     "shell.execute_reply": "2021-08-08T14:57:09.133489Z",
     "shell.execute_reply.started": "2021-08-06T21:04:43.101881Z"
    },
    "id": "hjRF5szkcQE0",
    "papermill": {
     "duration": 0.895887,
     "end_time": "2021-08-08T14:57:09.134554",
     "exception": false,
     "start_time": "2021-08-08T14:57:08.238667",
     "status": "completed"
    },
    "tags": []
   },
   "outputs": [],
   "source": [
    "# convert minors_count to int value\n",
    "new_minors_count = []\n",
    "for i in dataframe['minorsCount']:\n",
    "  if i == 0 or i == '0':\n",
    "    new_minors_count.append(0)\n",
    "  elif i == '1 Minor':\n",
    "    new_minors_count.append(1)\n",
    "  else:\n",
    "    new_minors_count.append(2)\n",
    "\n",
    "dataframe['minorsCount'] = new_minors_count"
   ]
  },
  {
   "cell_type": "code",
   "execution_count": 19,
   "metadata": {
    "execution": {
     "iopub.execute_input": "2021-08-08T14:57:09.861300Z",
     "iopub.status.busy": "2021-08-08T14:57:09.860646Z",
     "iopub.status.idle": "2021-08-08T14:57:09.873491Z",
     "shell.execute_reply": "2021-08-08T14:57:09.874016Z",
     "shell.execute_reply.started": "2021-08-06T21:04:44.069999Z"
    },
    "id": "9VdzvJSw0KUU",
    "outputId": "6393784f-234e-4935-9cee-cbcf56b5630a",
    "papermill": {
     "duration": 0.376168,
     "end_time": "2021-08-08T14:57:09.874189",
     "exception": false,
     "start_time": "2021-08-08T14:57:09.498021",
     "status": "completed"
    },
    "tags": []
   },
   "outputs": [
    {
     "name": "stdout",
     "output_type": "stream",
     "text": [
      "we have  1110  users in total.\n"
     ]
    }
   ],
   "source": [
    "print(\"we have \", dataframe['user_id'].nunique(),\" users in total.\")"
   ]
  },
  {
   "cell_type": "code",
   "execution_count": 20,
   "metadata": {
    "execution": {
     "iopub.execute_input": "2021-08-08T14:57:10.597084Z",
     "iopub.status.busy": "2021-08-08T14:57:10.596431Z",
     "iopub.status.idle": "2021-08-08T14:57:10.602180Z",
     "shell.execute_reply": "2021-08-08T14:57:10.602617Z",
     "shell.execute_reply.started": "2021-08-06T21:04:44.884292Z"
    },
    "id": "hUaGk9L9g13t",
    "papermill": {
     "duration": 0.370713,
     "end_time": "2021-08-08T14:57:10.602802",
     "exception": false,
     "start_time": "2021-08-08T14:57:10.232089",
     "status": "completed"
    },
    "tags": []
   },
   "outputs": [],
   "source": [
    "for category in ['term','chapter_label', 'sub_chapter_label', 'question_name']:\n",
    "  dataframe[category] =  dataframe[category].cat.codes"
   ]
  },
  {
   "cell_type": "code",
   "execution_count": 21,
   "metadata": {
    "execution": {
     "iopub.execute_input": "2021-08-08T14:57:11.325727Z",
     "iopub.status.busy": "2021-08-08T14:57:11.325057Z",
     "iopub.status.idle": "2021-08-08T14:57:12.093761Z",
     "shell.execute_reply": "2021-08-08T14:57:12.093064Z",
     "shell.execute_reply.started": "2021-08-06T21:04:45.606317Z"
    },
    "id": "hkyvcYvlhliG",
    "papermill": {
     "duration": 1.134509,
     "end_time": "2021-08-08T14:57:12.093932",
     "exception": false,
     "start_time": "2021-08-08T14:57:10.959423",
     "status": "completed"
    },
    "tags": []
   },
   "outputs": [],
   "source": [
    "NUMERIC_FEATURE =  ['age',\n",
    "            'exclClassCumGPA',\n",
    "            'termCreditsGPA',\n",
    "            'termCreditsNoGPA',\n",
    "            'highSchoolGPA', \n",
    "            'majorsCount', 'minorsCount',\n",
    "            'PREV_TERM_CUM_GPA',\n",
    "            'available_flashcards', \n",
    "            'days_offset', \n",
    "            'prev_time_elapsed',\n",
    "             'time_lag']\n",
    "# z-score normalize the numerical features\n",
    "for f in NUMERIC_FEATURE:\n",
    "  m = dataframe[f].mean()\n",
    "  std = dataframe[f].std()\n",
    "  dataframe[f] = (dataframe[f] - m)/std"
   ]
  },
  {
   "cell_type": "code",
   "execution_count": 22,
   "metadata": {
    "execution": {
     "iopub.execute_input": "2021-08-08T14:57:12.826607Z",
     "iopub.status.busy": "2021-08-08T14:57:12.820652Z",
     "iopub.status.idle": "2021-08-08T14:57:16.279266Z",
     "shell.execute_reply": "2021-08-08T14:57:16.278632Z",
     "shell.execute_reply.started": "2021-08-06T21:04:46.423055Z"
    },
    "id": "wo2OH-d5kWp1",
    "papermill": {
     "duration": 3.826002,
     "end_time": "2021-08-08T14:57:16.279412",
     "exception": false,
     "start_time": "2021-08-08T14:57:12.453410",
     "status": "completed"
    },
    "tags": []
   },
   "outputs": [],
   "source": [
    "FEATURE_TRANS =  ['answer_correct', 'chapter_label', 'sub_chapter_label','question_name','user_id','term',\n",
    "                  'STDNT_SEX_CD', \n",
    "                    'White','Asian','NonWhiteOrAsian',\n",
    "            'STDNT_CTZN_STAT_CD', 'international', \n",
    "            'age',\n",
    "            'exclClassCumGPA',\n",
    "           'Freshman',\n",
    "            'Junior',\n",
    "            'Sophomore',\n",
    "            'Senior',\n",
    "            'termCreditsGPA',\n",
    "            'termCreditsNoGPA',\n",
    "            'athlete_1',\n",
    "            'honorsPro',\n",
    "            'LSA', 'programBusiness', 'programEngineering', \n",
    "            'programInformation', 'programOther',\n",
    "            'HSCalculusTaken', \n",
    "            'highSchoolGPA', \n",
    "            'majorsCount', 'minorsCount',\n",
    "            'PREV_TERM_CUM_GPA',\n",
    "            'classGraded', 'classHonors', \n",
    "            'Pass_Fail', \n",
    "            'parentsGraduateEdu',  'minorityGroup', \n",
    "            'available_flashcards', \n",
    "            'days_offset', 'prev_time_elapsed',\n",
    "             'time_lag']\n",
    "grouped_data = dataframe[FEATURE_TRANS].groupby(['user_id']).apply(lambda r: (\n",
    "                r['answer_correct'],\n",
    "                r['term'],\n",
    "                r['chapter_label'],\n",
    "                r['sub_chapter_label'],\n",
    "                r['question_name'],\n",
    "                np.array([\n",
    "                  r['STDNT_SEX_CD'],r['STDNT_CTZN_STAT_CD'], r['international'], \n",
    "                  r['White'],r['Asian'],r['NonWhiteOrAsian'],\n",
    "                 r['age'],r['exclClassCumGPA'],\n",
    "                r['Freshman'], r['Junior'], r['Sophomore'], r['Senior'],\n",
    "                r['termCreditsGPA'], r['termCreditsNoGPA'],\n",
    "                r['athlete_1'], r['honorsPro'],\n",
    "                r['LSA'], r['programBusiness'], r['programEngineering'], \n",
    "                r['programInformation'], r['programOther'],\n",
    "                r['HSCalculusTaken'],  r['highSchoolGPA'], \n",
    "                r['majorsCount'], r['minorsCount'],\n",
    "                r['PREV_TERM_CUM_GPA'], \n",
    "                r['parentsGraduateEdu'], r['minorityGroup'],\n",
    "                r['available_flashcards'],\n",
    "                r['days_offset'],\n",
    "#                 r['prev_time_elapsed'],\n",
    "#                 r['time_lag']\n",
    "              ]).transpose()\n",
    "                ))"
   ]
  },
  {
   "cell_type": "code",
   "execution_count": 23,
   "metadata": {
    "execution": {
     "iopub.execute_input": "2021-08-08T14:57:17.218112Z",
     "iopub.status.busy": "2021-08-08T14:57:17.217178Z",
     "iopub.status.idle": "2021-08-08T14:57:17.222055Z",
     "shell.execute_reply": "2021-08-08T14:57:17.221414Z",
     "shell.execute_reply.started": "2021-08-06T21:04:50.729982Z"
    },
    "id": "XXLqQnjrlp_4",
    "outputId": "c801da79-f0bf-4fe5-b19c-7c799fe01556",
    "papermill": {
     "duration": 0.554166,
     "end_time": "2021-08-08T14:57:17.222191",
     "exception": false,
     "start_time": "2021-08-08T14:57:16.668025",
     "status": "completed"
    },
    "tags": []
   },
   "outputs": [
    {
     "data": {
      "text/plain": [
       "20"
      ]
     },
     "execution_count": 23,
     "metadata": {},
     "output_type": "execute_result"
    }
   ],
   "source": [
    "gc.collect()"
   ]
  },
  {
   "cell_type": "code",
   "execution_count": 24,
   "metadata": {
    "execution": {
     "iopub.execute_input": "2021-08-08T14:57:17.956712Z",
     "iopub.status.busy": "2021-08-08T14:57:17.951342Z",
     "iopub.status.idle": "2021-08-08T14:57:17.981128Z",
     "shell.execute_reply": "2021-08-08T14:57:17.980367Z",
     "shell.execute_reply.started": "2021-08-06T21:04:50.932864Z"
    },
    "id": "QYGQasdTrmP0",
    "papermill": {
     "duration": 0.403011,
     "end_time": "2021-08-08T14:57:17.981286",
     "exception": false,
     "start_time": "2021-08-08T14:57:17.578275",
     "status": "completed"
    },
    "tags": []
   },
   "outputs": [],
   "source": [
    "# remove students who don't have make any interactions with the tool\n",
    "toRemove = []\n",
    "for index in grouped_data.index:\n",
    "  if len(grouped_data[index][0]) <= 10:\n",
    "    toRemove.append(index)\n",
    "grouped_data = grouped_data.drop(index=toRemove)"
   ]
  },
  {
   "cell_type": "code",
   "execution_count": 25,
   "metadata": {
    "execution": {
     "iopub.execute_input": "2021-08-08T14:57:18.702682Z",
     "iopub.status.busy": "2021-08-08T14:57:18.702001Z",
     "iopub.status.idle": "2021-08-08T14:57:18.717307Z",
     "shell.execute_reply": "2021-08-08T14:57:18.716548Z",
     "shell.execute_reply.started": "2021-08-06T21:04:50.98328Z"
    },
    "papermill": {
     "duration": 0.376995,
     "end_time": "2021-08-08T14:57:18.717455",
     "exception": false,
     "start_time": "2021-08-08T14:57:18.340460",
     "status": "completed"
    },
    "tags": []
   },
   "outputs": [
    {
     "data": {
      "text/plain": [
       "count    1110.000000\n",
       "mean      550.263063\n",
       "std       201.281353\n",
       "min         2.000000\n",
       "25%       438.250000\n",
       "50%       520.500000\n",
       "75%       637.750000\n",
       "max      1500.000000\n",
       "Name: start_practice, dtype: float64"
      ]
     },
     "execution_count": 25,
     "metadata": {},
     "output_type": "execute_result"
    }
   ],
   "source": [
    "dataframe.groupby('user_id')['start_practice'].agg('count').describe()"
   ]
  },
  {
   "cell_type": "code",
   "execution_count": 26,
   "metadata": {
    "execution": {
     "iopub.execute_input": "2021-08-08T14:57:19.439189Z",
     "iopub.status.busy": "2021-08-08T14:57:19.438495Z",
     "iopub.status.idle": "2021-08-08T14:57:19.442227Z",
     "shell.execute_reply": "2021-08-08T14:57:19.441565Z",
     "shell.execute_reply.started": "2021-08-06T21:04:51.003119Z"
    },
    "papermill": {
     "duration": 0.366787,
     "end_time": "2021-08-08T14:57:19.442369",
     "exception": false,
     "start_time": "2021-08-08T14:57:19.075582",
     "status": "completed"
    },
    "tags": []
   },
   "outputs": [
    {
     "data": {
      "text/plain": [
       "['FA 2018:252', 'WN 2018:295']"
      ]
     },
     "execution_count": 26,
     "metadata": {},
     "output_type": "execute_result"
    }
   ],
   "source": [
    "toRemove"
   ]
  },
  {
   "cell_type": "code",
   "execution_count": 27,
   "metadata": {
    "execution": {
     "iopub.execute_input": "2021-08-08T14:57:20.162154Z",
     "iopub.status.busy": "2021-08-08T14:57:20.161430Z",
     "iopub.status.idle": "2021-08-08T14:57:20.163428Z",
     "shell.execute_reply": "2021-08-08T14:57:20.163958Z",
     "shell.execute_reply.started": "2021-08-06T21:04:51.012606Z"
    },
    "id": "9kZqV9siDyNb",
    "papermill": {
     "duration": 0.364074,
     "end_time": "2021-08-08T14:57:20.164132",
     "exception": false,
     "start_time": "2021-08-08T14:57:19.800058",
     "status": "completed"
    },
    "tags": []
   },
   "outputs": [],
   "source": [
    "#SETTINGS -> can be modified at any time\n",
    "MAXLENGTH = 400\n",
    "EMBEDDING_DIM = 128\n",
    "DENSE_NEURON = 16\n",
    "RNN_NEURON = 32"
   ]
  },
  {
   "cell_type": "code",
   "execution_count": 28,
   "metadata": {
    "execution": {
     "iopub.execute_input": "2021-08-08T14:57:20.883900Z",
     "iopub.status.busy": "2021-08-08T14:57:20.883283Z",
     "iopub.status.idle": "2021-08-08T14:57:20.886908Z",
     "shell.execute_reply": "2021-08-08T14:57:20.887412Z",
     "shell.execute_reply.started": "2021-08-06T21:04:51.932106Z"
    },
    "id": "1MksD1JizpPn",
    "papermill": {
     "duration": 0.364614,
     "end_time": "2021-08-08T14:57:20.887576",
     "exception": false,
     "start_time": "2021-08-08T14:57:20.522962",
     "status": "completed"
    },
    "tags": []
   },
   "outputs": [],
   "source": [
    "FEATURES_SIZE = 37\n",
    "CHAPTER_SIZE = 38\n",
    "SUB_CHAPTER_SIZE = 223\n",
    "QUESTION_SIZE = 1069"
   ]
  },
  {
   "cell_type": "code",
   "execution_count": 29,
   "metadata": {
    "execution": {
     "iopub.execute_input": "2021-08-08T14:57:21.609570Z",
     "iopub.status.busy": "2021-08-08T14:57:21.608896Z",
     "iopub.status.idle": "2021-08-08T14:57:21.620665Z",
     "shell.execute_reply": "2021-08-08T14:57:21.620129Z",
     "shell.execute_reply.started": "2021-08-06T21:04:52.955964Z"
    },
    "papermill": {
     "duration": 0.375728,
     "end_time": "2021-08-08T14:57:21.620822",
     "exception": false,
     "start_time": "2021-08-08T14:57:21.245094",
     "status": "completed"
    },
    "tags": []
   },
   "outputs": [
    {
     "data": {
      "text/plain": [
       "array([ 96,  86,  88,  28,  12,  82, 125,  32,  69,  33,  21, 115, 120,\n",
       "       119,  91,  73,  57,  77, 117,  40,  74,  41,  68,  39,  92,  47,\n",
       "       104,  95,  53,  49,  50,  16,  52,  55,   7,  15,  51, 102, 103,\n",
       "        11,  94, 108, 100,  17,  67,  63,  13, 139,  26,  25,   8, 107,\n",
       "         0,  90,  48,  54, 138,   1,   2,   3,  34,  35,  85,   5,  24,\n",
       "        37,  36,  78,  70,  45, 142,  71,  10,  89, 111, 112, 109, 116,\n",
       "        76,  72, 148, 134, 146, 221, 143,  56,  60,  61,  23, 140, 106,\n",
       "        42,  83,  22, 145, 136, 144,  38,   4,  19, 137,  75,  43,  98,\n",
       "        84, 113, 173, 174, 175, 176, 177, 178, 180, 181, 182, 187, 189,\n",
       "       190, 191, 192, 193, 195, 197, 151, 152, 153, 156, 157, 158, 159,\n",
       "       160, 161, 163, 164, 165, 166, 167, 168, 169, 170, 171, 172, 198,\n",
       "       199, 200, 201, 202, 203, 204, 205, 206, 207, 208, 209, 210, 162,\n",
       "       179, 186, 188, 194, 183, 184, 185, 211, 212, 213, 154, 155, 196,\n",
       "         6, 118,  18, 215,  46, 216, 141,  27, 217, 105, 123, 218, 101,\n",
       "       124, 219, 122, 220,  58,  59,  64,  20,  93,  65,  66,   9,  44,\n",
       "        30,  14,  79, 121,  31, 110, 129,  87,  97,  62, 149, 132, 131,\n",
       "       150, 130, 128,  99, 147, 127, 214, 135,  80, 126, 133,  81, 114,\n",
       "        29], dtype=int16)"
      ]
     },
     "execution_count": 29,
     "metadata": {},
     "output_type": "execute_result"
    }
   ],
   "source": [
    "dataframe['sub_chapter_label'].unique()"
   ]
  },
  {
   "cell_type": "code",
   "execution_count": 30,
   "metadata": {
    "execution": {
     "iopub.execute_input": "2021-08-08T14:57:22.352000Z",
     "iopub.status.busy": "2021-08-08T14:57:22.351277Z",
     "iopub.status.idle": "2021-08-08T14:57:23.434001Z",
     "shell.execute_reply": "2021-08-08T14:57:23.434529Z",
     "shell.execute_reply.started": "2021-08-06T21:04:54.080084Z"
    },
    "id": "mY3Thp6d0NaT",
    "papermill": {
     "duration": 1.457061,
     "end_time": "2021-08-08T14:57:23.434708",
     "exception": false,
     "start_time": "2021-08-08T14:57:21.977647",
     "status": "completed"
    },
    "tags": []
   },
   "outputs": [],
   "source": [
    "#create dataset class\n",
    "#to prepare it for train, valid, and test sets\n",
    "from torch.utils.data import Dataset, DataLoader\n",
    "class SPACE_DATASET(Dataset):\n",
    "    def __init__(self, data, maxlength = 400):\n",
    "        super(SPACE_DATASET, self).__init__()\n",
    "        self.maxlength = maxlength\n",
    "        self.data = data\n",
    "        self.users = list()\n",
    "        for user in data.index:\n",
    "            self.users.append(user)\n",
    "\n",
    "    def __len__(self):\n",
    "        return len(self.users)\n",
    "    \n",
    "    def __getitem__(self, ix):\n",
    "        user = self.users[ix]\n",
    "        user = user\n",
    "        target, term, ch_label, sub_ch_label, ques_name, features = self.data[user]\n",
    "        \n",
    "        #0s should be used as padding values\n",
    "        ori_target = target.values \n",
    "        term = term.values\n",
    "        ch_label = ch_label.values + 1\n",
    "        sub_ch_label = sub_ch_label.values +1\n",
    "        ques_name = ques_name.values + 1\n",
    "        \n",
    "        n = len(ch_label)\n",
    "\n",
    "        # one hot for term\n",
    "        term_encode = [0]*7\n",
    "        term_encode[term[0]] = 1\n",
    "        shifted_target= []\n",
    "\n",
    "        \n",
    "        # get  user interaction informations in the previous MAXLEN interactions\n",
    "        if n > self.maxlength:\n",
    "          ch_label = ch_label[-self.maxlength:]\n",
    "          sub_ch_label = sub_ch_label[-self.maxlength:]\n",
    "          ques_name = ques_name[-self.maxlength:]\n",
    "          features = features[-self.maxlength:]\n",
    "          target = ori_target[-self.maxlength:]\n",
    "          shifted_target = ori_target[ (-self.maxlength - 1) :-1]\n",
    "        else:\n",
    "          ch_label = [0]*(self.maxlength - n)+list(ch_label[:])\n",
    "          sub_ch_label = [0]*(self.maxlength - n)+list(sub_ch_label[:])\n",
    "          ques_name = [0]*(self.maxlength - n)+list(ques_name[:])\n",
    "          features = [[0]*len(features[0])]*(self.maxlength  - n)+list(features[:])\n",
    "          target = [-1]*(self.maxlength - n) + list(ori_target[:])\n",
    "          shifted_target = [2]*(self.maxlength + 1 - n) + list(ori_target[:-1])\n",
    "\n",
    "        new_features = []\n",
    "        count = 0\n",
    "        for f in features:\n",
    "          temp = list(f)\n",
    "          temp.extend(term_encode)\n",
    "          #temp.append(shifted_target[count]) #uncomment this line for include previous response feature\n",
    "          new_features.append(temp)\n",
    "          count += 1\n",
    "        features = new_features\n",
    "        return ch_label,sub_ch_label,ques_name,features, shifted_target, target"
   ]
  },
  {
   "cell_type": "code",
   "execution_count": 31,
   "metadata": {
    "execution": {
     "iopub.execute_input": "2021-08-08T14:57:24.155373Z",
     "iopub.status.busy": "2021-08-08T14:57:24.154677Z",
     "iopub.status.idle": "2021-08-08T14:57:24.160525Z",
     "shell.execute_reply": "2021-08-08T14:57:24.160034Z",
     "shell.execute_reply.started": "2021-08-06T21:04:54.917448Z"
    },
    "papermill": {
     "duration": 0.366806,
     "end_time": "2021-08-08T14:57:24.160676",
     "exception": false,
     "start_time": "2021-08-08T14:57:23.793870",
     "status": "completed"
    },
    "tags": []
   },
   "outputs": [
    {
     "data": {
      "text/plain": [
       "223"
      ]
     },
     "execution_count": 31,
     "metadata": {},
     "output_type": "execute_result"
    }
   ],
   "source": [
    "SUB_CHAPTER_SIZE"
   ]
  },
  {
   "cell_type": "markdown",
   "metadata": {
    "id": "4xc90-aLzxat",
    "papermill": {
     "duration": 0.357744,
     "end_time": "2021-08-08T14:57:24.878071",
     "exception": false,
     "start_time": "2021-08-08T14:57:24.520327",
     "status": "completed"
    },
    "tags": []
   },
   "source": [
    "## KFOLD - RNN\n"
   ]
  },
  {
   "cell_type": "code",
   "execution_count": 32,
   "metadata": {
    "execution": {
     "iopub.execute_input": "2021-08-08T14:57:25.622823Z",
     "iopub.status.busy": "2021-08-08T14:57:25.606554Z",
     "iopub.status.idle": "2021-08-08T15:05:47.784453Z",
     "shell.execute_reply": "2021-08-08T15:05:47.785039Z",
     "shell.execute_reply.started": "2021-08-06T21:04:56.750188Z"
    },
    "id": "gzJrljnjzypP",
    "outputId": "87abe488-b493-4f8f-9d71-45cb1d2ddf51",
    "papermill": {
     "duration": 502.545758,
     "end_time": "2021-08-08T15:05:47.785393",
     "exception": false,
     "start_time": "2021-08-08T14:57:25.239635",
     "status": "completed"
    },
    "tags": []
   },
   "outputs": [
    {
     "name": "stdout",
     "output_type": "stream",
     "text": [
      "Epoch 1/100\n",
      "14/14 [==============================] - 12s 590ms/step - loss: 0.5874 - masked_acc: 0.6961 - masked_auc: 0.5040 - val_loss: 0.4702 - val_masked_acc: 0.7176 - val_masked_auc: 0.6618\n",
      "Epoch 2/100\n",
      "14/14 [==============================] - 6s 443ms/step - loss: 0.4542 - masked_acc: 0.7261 - masked_auc: 0.6991 - val_loss: 0.4424 - val_masked_acc: 0.7422 - val_masked_auc: 0.7474\n",
      "Epoch 3/100\n",
      "14/14 [==============================] - 6s 447ms/step - loss: 0.4316 - masked_acc: 0.7456 - masked_auc: 0.7581 - val_loss: 0.4387 - val_masked_acc: 0.7529 - val_masked_auc: 0.7759\n",
      "Epoch 4/100\n",
      "14/14 [==============================] - 6s 426ms/step - loss: 0.4209 - masked_acc: 0.7549 - masked_auc: 0.7815 - val_loss: 0.4391 - val_masked_acc: 0.7590 - val_masked_auc: 0.7909\n",
      "Epoch 5/100\n",
      "14/14 [==============================] - 6s 425ms/step - loss: 0.4251 - masked_acc: 0.7599 - masked_auc: 0.7941 - val_loss: 0.4408 - val_masked_acc: 0.7631 - val_masked_auc: 0.8006\n",
      "Epoch 6/100\n",
      "14/14 [==============================] - 6s 455ms/step - loss: 0.4122 - masked_acc: 0.7639 - masked_auc: 0.8031 - val_loss: 0.4415 - val_masked_acc: 0.7660 - val_masked_auc: 0.8077\n",
      "Epoch 7/100\n",
      "14/14 [==============================] - 6s 420ms/step - loss: 0.4166 - masked_acc: 0.7665 - masked_auc: 0.8094 - val_loss: 0.4448 - val_masked_acc: 0.7686 - val_masked_auc: 0.8132\n",
      "Epoch 8/100\n",
      "14/14 [==============================] - 6s 437ms/step - loss: 0.4037 - masked_acc: 0.7693 - masked_auc: 0.8146 - val_loss: 0.4443 - val_masked_acc: 0.7707 - val_masked_auc: 0.8175\n",
      "Epoch 9/100\n",
      "14/14 [==============================] - 6s 428ms/step - loss: 0.3962 - masked_acc: 0.7713 - masked_auc: 0.8189 - val_loss: 0.4499 - val_masked_acc: 0.7726 - val_masked_auc: 0.8215\n",
      "Epoch 10/100\n",
      "14/14 [==============================] - 6s 418ms/step - loss: 0.3903 - masked_acc: 0.7731 - masked_auc: 0.8226 - val_loss: 0.4592 - val_masked_acc: 0.7744 - val_masked_auc: 0.8251\n",
      "Epoch 11/100\n",
      "14/14 [==============================] - 6s 446ms/step - loss: 0.3896 - masked_acc: 0.7748 - masked_auc: 0.8262 - val_loss: 0.4623 - val_masked_acc: 0.7760 - val_masked_auc: 0.8282\n",
      "Epoch 12/100\n",
      "14/14 [==============================] - 6s 414ms/step - loss: 0.3797 - masked_acc: 0.7765 - masked_auc: 0.8292 - val_loss: 0.4647 - val_masked_acc: 0.7776 - val_masked_auc: 0.8313\n",
      "Epoch 13/100\n",
      "14/14 [==============================] - 6s 432ms/step - loss: 0.3742 - masked_acc: 0.7781 - masked_auc: 0.8324 - val_loss: 0.4784 - val_masked_acc: 0.7793 - val_masked_auc: 0.8343\n",
      "28/28 [==============================] - 2s 75ms/step - loss: 0.3614 - masked_acc: 0.7807 - masked_auc: 0.8365\n",
      "4/4 [==============================] - 0s 64ms/step - loss: 0.4665 - masked_acc: 0.7812 - masked_auc: 0.8377\n",
      "Test:  [0.4664726257324219, 0.7812361717224121, 0.8376667499542236]\n",
      "Epoch 1/100\n",
      "14/14 [==============================] - 11s 502ms/step - loss: 0.6307 - masked_acc: 0.6906 - masked_auc: 0.5199 - val_loss: 0.4699 - val_masked_acc: 0.7197 - val_masked_auc: 0.6407\n",
      "Epoch 2/100\n",
      "14/14 [==============================] - 6s 427ms/step - loss: 0.4644 - masked_acc: 0.7270 - masked_auc: 0.6770 - val_loss: 0.4500 - val_masked_acc: 0.7428 - val_masked_auc: 0.7315\n",
      "Epoch 3/100\n",
      "14/14 [==============================] - 6s 463ms/step - loss: 0.4356 - masked_acc: 0.7469 - masked_auc: 0.7441 - val_loss: 0.4327 - val_masked_acc: 0.7530 - val_masked_auc: 0.7647\n",
      "Epoch 4/100\n",
      "14/14 [==============================] - 6s 422ms/step - loss: 0.4264 - masked_acc: 0.7547 - masked_auc: 0.7713 - val_loss: 0.4298 - val_masked_acc: 0.7586 - val_masked_auc: 0.7824\n",
      "Epoch 5/100\n",
      "14/14 [==============================] - 6s 419ms/step - loss: 0.4312 - masked_acc: 0.7593 - masked_auc: 0.7861 - val_loss: 0.4317 - val_masked_acc: 0.7623 - val_masked_auc: 0.7936\n",
      "Epoch 6/100\n",
      "14/14 [==============================] - 6s 419ms/step - loss: 0.4111 - masked_acc: 0.7633 - masked_auc: 0.7965 - val_loss: 0.4325 - val_masked_acc: 0.7653 - val_masked_auc: 0.8016\n",
      "Epoch 7/100\n",
      "14/14 [==============================] - 6s 415ms/step - loss: 0.4065 - masked_acc: 0.7659 - masked_auc: 0.8035 - val_loss: 0.4356 - val_masked_acc: 0.7676 - val_masked_auc: 0.8077\n",
      "Epoch 8/100\n",
      "14/14 [==============================] - 6s 429ms/step - loss: 0.4061 - masked_acc: 0.7683 - masked_auc: 0.8094 - val_loss: 0.4383 - val_masked_acc: 0.7696 - val_masked_auc: 0.8127\n",
      "Epoch 9/100\n",
      "14/14 [==============================] - 6s 415ms/step - loss: 0.4007 - masked_acc: 0.7702 - masked_auc: 0.8141 - val_loss: 0.4375 - val_masked_acc: 0.7715 - val_masked_auc: 0.8170\n",
      "Epoch 10/100\n",
      "14/14 [==============================] - 6s 420ms/step - loss: 0.3863 - masked_acc: 0.7722 - masked_auc: 0.8185 - val_loss: 0.4430 - val_masked_acc: 0.7732 - val_masked_auc: 0.8209\n",
      "Epoch 11/100\n",
      "14/14 [==============================] - 6s 410ms/step - loss: 0.3917 - masked_acc: 0.7736 - masked_auc: 0.8221 - val_loss: 0.4408 - val_masked_acc: 0.7748 - val_masked_auc: 0.8245\n",
      "Epoch 12/100\n",
      "14/14 [==============================] - 6s 412ms/step - loss: 0.3918 - masked_acc: 0.7752 - masked_auc: 0.8255 - val_loss: 0.4470 - val_masked_acc: 0.7764 - val_masked_auc: 0.8277\n",
      "Epoch 13/100\n",
      "14/14 [==============================] - 6s 428ms/step - loss: 0.3787 - masked_acc: 0.7768 - masked_auc: 0.8287 - val_loss: 0.4498 - val_masked_acc: 0.7779 - val_masked_auc: 0.8307\n",
      "Epoch 14/100\n",
      "14/14 [==============================] - 6s 415ms/step - loss: 0.3751 - masked_acc: 0.7783 - masked_auc: 0.8317 - val_loss: 0.4515 - val_masked_acc: 0.7795 - val_masked_auc: 0.8337\n",
      "28/28 [==============================] - 2s 75ms/step - loss: 0.3644 - masked_acc: 0.7808 - masked_auc: 0.8357\n",
      "4/4 [==============================] - 0s 67ms/step - loss: 0.4582 - masked_acc: 0.7812 - masked_auc: 0.8368\n",
      "Test:  [0.4581984877586365, 0.781201958656311, 0.8368015289306641]\n",
      "Epoch 1/100\n",
      "14/14 [==============================] - 11s 505ms/step - loss: 0.6265 - masked_acc: 0.5276 - masked_auc: 0.5007 - val_loss: 0.5101 - val_masked_acc: 0.6905 - val_masked_auc: 0.6141\n",
      "Epoch 2/100\n",
      "14/14 [==============================] - 6s 423ms/step - loss: 0.4685 - masked_acc: 0.7036 - masked_auc: 0.6577 - val_loss: 0.4606 - val_masked_acc: 0.7269 - val_masked_auc: 0.7219\n",
      "Epoch 3/100\n",
      "14/14 [==============================] - 6s 412ms/step - loss: 0.4384 - masked_acc: 0.7317 - masked_auc: 0.7360 - val_loss: 0.4577 - val_masked_acc: 0.7425 - val_masked_auc: 0.7598\n",
      "Epoch 4/100\n",
      "14/14 [==============================] - 8s 562ms/step - loss: 0.4288 - masked_acc: 0.7449 - masked_auc: 0.7664 - val_loss: 0.4523 - val_masked_acc: 0.7507 - val_masked_auc: 0.7791\n",
      "Epoch 5/100\n",
      "14/14 [==============================] - 8s 559ms/step - loss: 0.4204 - masked_acc: 0.7521 - masked_auc: 0.7832 - val_loss: 0.4552 - val_masked_acc: 0.7560 - val_masked_auc: 0.7910\n",
      "Epoch 6/100\n",
      "14/14 [==============================] - 6s 427ms/step - loss: 0.4189 - masked_acc: 0.7570 - masked_auc: 0.7938 - val_loss: 0.4526 - val_masked_acc: 0.7598 - val_masked_auc: 0.7994\n",
      "Epoch 7/100\n",
      "14/14 [==============================] - 6s 441ms/step - loss: 0.4097 - masked_acc: 0.7606 - masked_auc: 0.8016 - val_loss: 0.4543 - val_masked_acc: 0.7627 - val_masked_auc: 0.8061\n",
      "Epoch 8/100\n",
      "14/14 [==============================] - 6s 409ms/step - loss: 0.4047 - masked_acc: 0.7634 - masked_auc: 0.8080 - val_loss: 0.4567 - val_masked_acc: 0.7652 - val_masked_auc: 0.8114\n",
      "Epoch 9/100\n",
      "14/14 [==============================] - 6s 411ms/step - loss: 0.3956 - masked_acc: 0.7658 - masked_auc: 0.8130 - val_loss: 0.4584 - val_masked_acc: 0.7673 - val_masked_auc: 0.8159\n",
      "Epoch 10/100\n",
      "14/14 [==============================] - 6s 404ms/step - loss: 0.3887 - masked_acc: 0.7679 - masked_auc: 0.8173 - val_loss: 0.4610 - val_masked_acc: 0.7693 - val_masked_auc: 0.8199\n",
      "Epoch 11/100\n",
      "14/14 [==============================] - 6s 411ms/step - loss: 0.3862 - masked_acc: 0.7699 - masked_auc: 0.8211 - val_loss: 0.4636 - val_masked_acc: 0.7712 - val_masked_auc: 0.8236\n",
      "Epoch 12/100\n",
      "14/14 [==============================] - 6s 455ms/step - loss: 0.3831 - masked_acc: 0.7717 - masked_auc: 0.8247 - val_loss: 0.4749 - val_masked_acc: 0.7729 - val_masked_auc: 0.8269\n",
      "Epoch 13/100\n",
      "14/14 [==============================] - 6s 412ms/step - loss: 0.3798 - masked_acc: 0.7734 - masked_auc: 0.8280 - val_loss: 0.4776 - val_masked_acc: 0.7745 - val_masked_auc: 0.8300\n",
      "Epoch 14/100\n",
      "14/14 [==============================] - 6s 409ms/step - loss: 0.3746 - masked_acc: 0.7750 - masked_auc: 0.8309 - val_loss: 0.4818 - val_masked_acc: 0.7760 - val_masked_auc: 0.8327\n",
      "28/28 [==============================] - 2s 74ms/step - loss: 0.3652 - masked_acc: 0.7773 - masked_auc: 0.8346\n",
      "4/4 [==============================] - 0s 65ms/step - loss: 0.4567 - masked_acc: 0.7777 - masked_auc: 0.8356\n",
      "Test:  [0.45672813057899475, 0.7777266502380371, 0.8355656862258911]\n",
      "Epoch 1/100\n",
      "14/14 [==============================] - 11s 519ms/step - loss: 0.5978 - masked_acc: 0.5360 - masked_auc: 0.5206 - val_loss: 0.4919 - val_masked_acc: 0.6907 - val_masked_auc: 0.6465\n",
      "Epoch 2/100\n",
      "14/14 [==============================] - 6s 437ms/step - loss: 0.4693 - masked_acc: 0.7042 - masked_auc: 0.6839 - val_loss: 0.4513 - val_masked_acc: 0.7282 - val_masked_auc: 0.7366\n",
      "Epoch 3/100\n",
      "14/14 [==============================] - 6s 419ms/step - loss: 0.4317 - masked_acc: 0.7337 - masked_auc: 0.7499 - val_loss: 0.4436 - val_masked_acc: 0.7433 - val_masked_auc: 0.7693\n",
      "Epoch 4/100\n",
      "14/14 [==============================] - 6s 407ms/step - loss: 0.4198 - masked_acc: 0.7464 - masked_auc: 0.7757 - val_loss: 0.4438 - val_masked_acc: 0.7513 - val_masked_auc: 0.7861\n",
      "Epoch 5/100\n",
      "14/14 [==============================] - 6s 412ms/step - loss: 0.4146 - masked_acc: 0.7532 - masked_auc: 0.7902 - val_loss: 0.4424 - val_masked_acc: 0.7567 - val_masked_auc: 0.7969\n",
      "Epoch 6/100\n",
      "14/14 [==============================] - 6s 434ms/step - loss: 0.4155 - masked_acc: 0.7578 - masked_auc: 0.7997 - val_loss: 0.4440 - val_masked_acc: 0.7604 - val_masked_auc: 0.8043\n",
      "Epoch 7/100\n",
      "14/14 [==============================] - 6s 412ms/step - loss: 0.4028 - masked_acc: 0.7614 - masked_auc: 0.8066 - val_loss: 0.4445 - val_masked_acc: 0.7634 - val_masked_auc: 0.8104\n",
      "Epoch 8/100\n",
      "14/14 [==============================] - 6s 432ms/step - loss: 0.4001 - masked_acc: 0.7641 - masked_auc: 0.8121 - val_loss: 0.4505 - val_masked_acc: 0.7659 - val_masked_auc: 0.8154\n",
      "Epoch 9/100\n",
      "14/14 [==============================] - 6s 410ms/step - loss: 0.3929 - masked_acc: 0.7667 - masked_auc: 0.8170 - val_loss: 0.4551 - val_masked_acc: 0.7683 - val_masked_auc: 0.8198\n",
      "Epoch 10/100\n",
      "14/14 [==============================] - 6s 408ms/step - loss: 0.3850 - masked_acc: 0.7690 - masked_auc: 0.8213 - val_loss: 0.4670 - val_masked_acc: 0.7704 - val_masked_auc: 0.8237\n",
      "Epoch 11/100\n",
      "14/14 [==============================] - 6s 427ms/step - loss: 0.3805 - masked_acc: 0.7709 - masked_auc: 0.8249 - val_loss: 0.4667 - val_masked_acc: 0.7722 - val_masked_auc: 0.8271\n",
      "Epoch 12/100\n",
      "14/14 [==============================] - 6s 404ms/step - loss: 0.3798 - masked_acc: 0.7728 - masked_auc: 0.8284 - val_loss: 0.4807 - val_masked_acc: 0.7741 - val_masked_auc: 0.8303\n",
      "Epoch 13/100\n",
      "14/14 [==============================] - 6s 409ms/step - loss: 0.3736 - masked_acc: 0.7746 - masked_auc: 0.8314 - val_loss: 0.4975 - val_masked_acc: 0.7758 - val_masked_auc: 0.8332\n",
      "Epoch 14/100\n",
      "14/14 [==============================] - 6s 397ms/step - loss: 0.3660 - masked_acc: 0.7764 - masked_auc: 0.8342 - val_loss: 0.4898 - val_masked_acc: 0.7775 - val_masked_auc: 0.8359\n",
      "Epoch 15/100\n",
      "14/14 [==============================] - 6s 408ms/step - loss: 0.3623 - masked_acc: 0.7780 - masked_auc: 0.8369 - val_loss: 0.5125 - val_masked_acc: 0.7792 - val_masked_auc: 0.8386\n",
      "28/28 [==============================] - 2s 84ms/step - loss: 0.3533 - masked_acc: 0.7805 - masked_auc: 0.8406\n",
      "4/4 [==============================] - 0s 67ms/step - loss: 0.4911 - masked_acc: 0.7810 - masked_auc: 0.8416\n",
      "Test:  [0.491073340177536, 0.7810042500495911, 0.8415518403053284]\n",
      "Epoch 1/100\n",
      "14/14 [==============================] - 11s 496ms/step - loss: 0.5914 - masked_acc: 0.6000 - masked_auc: 0.5285 - val_loss: 0.4728 - val_masked_acc: 0.7063 - val_masked_auc: 0.6697\n",
      "Epoch 2/100\n",
      "14/14 [==============================] - 6s 417ms/step - loss: 0.4511 - masked_acc: 0.7186 - masked_auc: 0.7046 - val_loss: 0.4554 - val_masked_acc: 0.7374 - val_masked_auc: 0.7501\n",
      "Epoch 3/100\n",
      "14/14 [==============================] - 6s 416ms/step - loss: 0.4369 - masked_acc: 0.7417 - masked_auc: 0.7603 - val_loss: 0.4481 - val_masked_acc: 0.7498 - val_masked_auc: 0.7780\n",
      "Epoch 4/100\n",
      "14/14 [==============================] - 6s 407ms/step - loss: 0.4206 - masked_acc: 0.7522 - masked_auc: 0.7835 - val_loss: 0.4479 - val_masked_acc: 0.7565 - val_masked_auc: 0.7929\n",
      "Epoch 5/100\n",
      "14/14 [==============================] - 6s 443ms/step - loss: 0.4114 - masked_acc: 0.7580 - masked_auc: 0.7964 - val_loss: 0.4505 - val_masked_acc: 0.7609 - val_masked_auc: 0.8027\n",
      "Epoch 6/100\n",
      "14/14 [==============================] - 6s 425ms/step - loss: 0.4097 - masked_acc: 0.7619 - masked_auc: 0.8050 - val_loss: 0.4510 - val_masked_acc: 0.7643 - val_masked_auc: 0.8100\n",
      "Epoch 7/100\n",
      "14/14 [==============================] - 6s 410ms/step - loss: 0.4016 - masked_acc: 0.7653 - masked_auc: 0.8121 - val_loss: 0.4522 - val_masked_acc: 0.7671 - val_masked_auc: 0.8159\n",
      "Epoch 8/100\n",
      "14/14 [==============================] - 6s 411ms/step - loss: 0.3974 - masked_acc: 0.7679 - masked_auc: 0.8176 - val_loss: 0.4594 - val_masked_acc: 0.7695 - val_masked_auc: 0.8207\n",
      "Epoch 9/100\n",
      "14/14 [==============================] - 6s 441ms/step - loss: 0.3908 - masked_acc: 0.7700 - masked_auc: 0.8221 - val_loss: 0.4587 - val_masked_acc: 0.7716 - val_masked_auc: 0.8249\n",
      "Epoch 10/100\n",
      "14/14 [==============================] - 6s 438ms/step - loss: 0.3821 - masked_acc: 0.7723 - masked_auc: 0.8264 - val_loss: 0.4646 - val_masked_acc: 0.7735 - val_masked_auc: 0.8286\n",
      "Epoch 11/100\n",
      "14/14 [==============================] - 6s 413ms/step - loss: 0.3807 - masked_acc: 0.7740 - masked_auc: 0.8298 - val_loss: 0.4729 - val_masked_acc: 0.7751 - val_masked_auc: 0.8317\n",
      "Epoch 12/100\n",
      "14/14 [==============================] - 6s 418ms/step - loss: 0.3732 - masked_acc: 0.7758 - masked_auc: 0.8328 - val_loss: 0.4739 - val_masked_acc: 0.7768 - val_masked_auc: 0.8347\n",
      "Epoch 13/100\n",
      "14/14 [==============================] - 6s 422ms/step - loss: 0.3662 - masked_acc: 0.7773 - masked_auc: 0.8357 - val_loss: 0.4803 - val_masked_acc: 0.7784 - val_masked_auc: 0.8375\n",
      "Epoch 14/100\n",
      "14/14 [==============================] - 6s 417ms/step - loss: 0.3624 - masked_acc: 0.7789 - masked_auc: 0.8385 - val_loss: 0.4812 - val_masked_acc: 0.7800 - val_masked_auc: 0.8403\n",
      "28/28 [==============================] - 2s 73ms/step - loss: 0.3541 - masked_acc: 0.7814 - masked_auc: 0.8422\n",
      "4/4 [==============================] - 0s 67ms/step - loss: 0.4687 - masked_acc: 0.7819 - masked_auc: 0.8432\n",
      "Test:  [0.46865934133529663, 0.78189617395401, 0.843194842338562]\n"
     ]
    }
   ],
   "source": [
    "# 5 fold cross validation with RNN-based model\n",
    "import torch\n",
    "X = np.array(grouped_data.keys())\n",
    "kfold = KFold(n_splits=5, shuffle=True)\n",
    "train_losses = list()\n",
    "train_aucs = list()\n",
    "val_losses = list()\n",
    "val_aucs = list()\n",
    "train_eval = list()\n",
    "test_eval = list()\n",
    "for train, test in kfold.split(X):\n",
    "    users_train, users_test =  X[train], X[test]\n",
    "    n = len(users_test)//2\n",
    "    users_test, users_val = users_test[:n], users_test[n: ]\n",
    "    train_data_space = SPACE_DATASET(grouped_data[users_train], MAXLENGTH)\n",
    "    val_data_space = SPACE_DATASET(grouped_data[users_val], MAXLENGTH)\n",
    "    test_data_space = SPACE_DATASET(grouped_data[users_test], MAXLENGTH)\n",
    "    #construct training input\n",
    "    train_chapter=[]\n",
    "    train_sub_chapter=[]\n",
    "    train_question = []\n",
    "    train_features=[]\n",
    "    #train_shifted_t = []\n",
    "    train_labels=[]\n",
    "    for i in range(len(users_train)):\n",
    "        user = train_data_space.__getitem__(i)\n",
    "        train_chapter.append(user[0])\n",
    "        train_sub_chapter.append(user[1]) \n",
    "        train_question.append(user[2])\n",
    "        train_features.append(user[3])\n",
    "        #train_shifted_t.append(user[4])\n",
    "        train_labels.append(user[5])\n",
    "    train_chapter = np.array(train_chapter)\n",
    "    train_sub_chapter = np.array(train_sub_chapter)\n",
    "    train_question = np.array(train_question)\n",
    "    train_features = np.array(train_features)\n",
    "    #train_shifted_t = np.array(train_shifted_t)\n",
    "    train_labels= np.array(train_labels)[..., np.newaxis]\n",
    "\n",
    "    #construct validation input\n",
    "    val_chapter=[]\n",
    "    val_sub_chapter=[]\n",
    "    val_question = []\n",
    "    val_features=[]\n",
    "    #val_shifted_t = []\n",
    "    val_labels=[]\n",
    "    for i in range(len(users_val)):\n",
    "        user = val_data_space.__getitem__(i)\n",
    "        val_chapter.append(user[0])\n",
    "        val_sub_chapter.append(user[1]) \n",
    "        val_question.append(user[2])\n",
    "        val_features.append(user[3])\n",
    "        #val_shifted_t.append(user[4])\n",
    "        val_labels.append(user[5])\n",
    "    val_chapter = np.array(val_chapter)\n",
    "    val_sub_chapter = np.array(val_sub_chapter)\n",
    "    val_features = np.array(val_features)\n",
    "    val_question = np.array(val_question)\n",
    "    #val_shifted_t = np.array(val_shifted_t)\n",
    "    val_labels= np.array(val_labels)[..., np.newaxis]\n",
    "\n",
    "    # construct test input\n",
    "    test_chapter=[]\n",
    "    test_sub_chapter=[]\n",
    "    test_features=[]\n",
    "    test_question=[]\n",
    "    #test_shifted_t = []\n",
    "    test_labels=[]\n",
    "    for i in range(len(users_test)):\n",
    "        user = test_data_space.__getitem__(i)\n",
    "        test_chapter.append(user[0])\n",
    "        test_sub_chapter.append(user[1]) \n",
    "        test_question.append(user[2])\n",
    "        test_features.append(user[3])\n",
    "        #test_shifted_t.append(user[4])\n",
    "        test_labels.append(user[5])\n",
    "    test_chapter = np.array(test_chapter)\n",
    "    test_sub_chapter = np.array(test_sub_chapter)\n",
    "    test_features = np.array(test_features)\n",
    "    test_question = np.array(test_question)\n",
    "    #test_shifted_t = np.array(test_shifted_t)\n",
    "    test_labels= np.array(test_labels)[..., np.newaxis]\n",
    "\n",
    "    # define loss function and evaluation metrics\n",
    "    bce = tf.keras.losses.BinaryCrossentropy(from_logits=True)\n",
    "    acc = tf.keras.metrics.Accuracy()\n",
    "    auc = tf.keras.metrics.AUC()\n",
    "\n",
    "    def masked_bce(y_true, y_pred):\n",
    "      flat_pred = y_pred\n",
    "      flat_ground_truth = y_true\n",
    "      label_mask = tf.math.not_equal(flat_ground_truth, -1)\n",
    "      return bce(flat_ground_truth, flat_pred, sample_weight=label_mask)\n",
    "\n",
    "    def masked_acc(y_true, y_pred):\n",
    "      flat_pred = y_pred\n",
    "      flat_ground_truth = y_true\n",
    "      flat_pred = (flat_pred >= 0.5)\n",
    "      label_mask = tf.math.not_equal(flat_ground_truth, -1)\n",
    "      return acc(flat_ground_truth, flat_pred, sample_weight=label_mask)\n",
    "\n",
    "    def masked_auc(y_true, y_pred):\n",
    "      flat_pred = y_pred\n",
    "      flat_ground_truth = y_true\n",
    "      label_mask = tf.math.not_equal(flat_ground_truth, -1)\n",
    "      return auc(flat_ground_truth, flat_pred, sample_weight=label_mask)\n",
    "\n",
    "    # input layer\n",
    "    input_chap = tf.keras.Input(shape=(MAXLENGTH))\n",
    "    input_sub_chap = tf.keras.Input(shape=(MAXLENGTH))\n",
    "    input_ques =  tf.keras.Input(shape=(MAXLENGTH))\n",
    "    #input_shifted = tf.keras.Input(shape=(MAXLENGTH))\n",
    "    input_features = tf.keras.Input(shape=(MAXLENGTH, FEATURES_SIZE))\n",
    "\n",
    "    # embedding layer for categorical features\n",
    "    embedding_chap = Embedding(input_dim = CHAPTER_SIZE, output_dim = EMBEDDING_DIM)(input_chap)\n",
    "    embedding_sub_chap = Embedding(input_dim = SUB_CHAPTER_SIZE, output_dim = EMBEDDING_DIM)(input_sub_chap) \n",
    "    embedding_ques = Embedding(input_dim = QUESTION_SIZE, output_dim = EMBEDDING_DIM)(input_ques)       \n",
    "    #embedding_shifted = Embedding(input_dim = 3, output_dim = EMBEDDING_DIM)(input_shifted)\n",
    "    # dense layer for numeric features\n",
    "    dense_features = Dense(EMBEDDING_DIM,input_shape = (None, MAXLENGTH))(input_features)\n",
    "\n",
    "    # definr RNN layers\n",
    "    RNN_chap = RNN(RNN_NEURON, input_shape = (None, EMBEDDING_DIM),return_sequences = True)(embedding_chap)\n",
    "    RNN_sub_chap = RNN(RNN_NEURON, input_shape = (None, EMBEDDING_DIM),return_sequences = True)(embedding_sub_chap)\n",
    "    RNN_ques = RNN(RNN_NEURON, input_shape = (None, EMBEDDING_DIM),return_sequences = True)(embedding_ques)\n",
    "    #RNN_shif = RNN(RNN_NEURON, input_shape = (None, EMBEDDING_DIM),return_sequences = True)(embedding_shifted)\n",
    "    RNN_features = RNN(RNN_NEURON, input_shape = (None, EMBEDDING_DIM),return_sequences = True)(dense_features)\n",
    "\n",
    "    RNN_output = tf.concat([RNN_chap, RNN_sub_chap, RNN_ques, RNN_features], axis = 2)\n",
    "\n",
    "    dense1 = Dense(256, input_shape = (None, 4*EMBEDDING_DIM), activation='relu')(RNN_output)\n",
    "    dropout1 = Dropout(0.1)(dense1)\n",
    "    dense2 = Dense(64, input_shape = (None, 256), activation='relu')(dropout1)\n",
    "    dropout2 = Dropout(0.1)(dense2)\n",
    "    pred = Dense(1, input_shape = (None, 64), activation='sigmoid')(dropout2)\n",
    "\n",
    "    model = tf.keras.Model(\n",
    "        inputs=[input_chap, input_sub_chap,input_ques, input_features],\n",
    "        outputs=pred,\n",
    "        name='RNN_model'\n",
    "    )\n",
    "\n",
    "    callback = tf.keras.callbacks.EarlyStopping(monitor='val_loss', patience=10)\n",
    "    opt_adam = Adam(learning_rate = 0.005)\n",
    "    model.compile(\n",
    "        optimizer=opt_adam,\n",
    "        loss= masked_bce,\n",
    "        metrics = [masked_acc, masked_auc]\n",
    "    )\n",
    "\n",
    "    history = model.fit(\n",
    "      [train_chapter, train_sub_chapter, train_question, train_features],\n",
    "      train_labels,\n",
    "      batch_size = 64,\n",
    "      epochs = 100,\n",
    "      validation_data=([val_chapter, val_sub_chapter, val_question, val_features], val_labels),\n",
    "      callbacks=[callback]\n",
    "    )\n",
    "    val_losses.append(list(history.history['val_loss']))\n",
    "    train_losses.append(list(history.history['loss']))\n",
    "    val_aucs.append(list(history.history['val_masked_auc']))\n",
    "    train_aucs.append(list(history.history['masked_auc']))\n",
    "    train_score = model.evaluate([train_chapter, train_sub_chapter, train_question, train_features], train_labels)\n",
    "    train_eval.append(train_score)\n",
    "    test_score = model.evaluate([test_chapter, test_sub_chapter, test_question, test_features], test_labels)\n",
    "    test_eval.append(test_score)\n",
    "    print(\"Test: \", test_score)\n",
    "    def reset_weights(model):\n",
    "      for layer in model.layers: \n",
    "        if isinstance(layer, tf.keras.Model):\n",
    "          reset_weights(layer)\n",
    "          continue\n",
    "        for k, initializer in layer.__dict__.items():\n",
    "          if \"initializer\" not in k:\n",
    "            continue\n",
    "          # find the corresponding variable\n",
    "          var = getattr(layer, k.replace(\"_initializer\", \"\"))\n",
    "          var.assign(initializer(var.shape, var.dtype))\n",
    "    reset_weights(model)"
   ]
  },
  {
   "cell_type": "code",
   "execution_count": 33,
   "metadata": {
    "execution": {
     "iopub.execute_input": "2021-08-08T15:05:49.286699Z",
     "iopub.status.busy": "2021-08-08T15:05:49.286029Z",
     "iopub.status.idle": "2021-08-08T15:05:49.288686Z",
     "shell.execute_reply": "2021-08-08T15:05:49.289435Z",
     "shell.execute_reply.started": "2021-08-06T21:22:41.876306Z"
    },
    "id": "QsVmumHMz3lx",
    "outputId": "4ff1e2fa-6abb-458e-c729-495b456f53e5",
    "papermill": {
     "duration": 0.755289,
     "end_time": "2021-08-08T15:05:49.289656",
     "exception": false,
     "start_time": "2021-08-08T15:05:48.534367",
     "status": "completed"
    },
    "tags": []
   },
   "outputs": [
    {
     "name": "stdout",
     "output_type": "stream",
     "text": [
      "test avg loss:  0.46822638511657716 +/- 0.012312717502279845\n",
      "test avg acc:  0.7806130409240722 +/- 0.0014741670347706059\n",
      "test avg auc:  0.8389561295509338 +/- 0.0029156237731946233\n"
     ]
    }
   ],
   "source": [
    "t_eval = np.array(test_eval)\n",
    "print(\"test avg loss: \", np.mean(t_eval[:, 0]), \"+/-\" ,np.std(t_eval[:, 0]))\n",
    "print(\"test avg acc: \", np.mean(t_eval[:, 1]),  \"+/-\" ,np.std(t_eval[:, 1]))\n",
    "print(\"test avg auc: \", np.mean(t_eval[:, 2]), \"+/-\" ,np.std(t_eval[:, 2]))"
   ]
  },
  {
   "cell_type": "code",
   "execution_count": 34,
   "metadata": {
    "execution": {
     "iopub.execute_input": "2021-08-08T15:05:50.783120Z",
     "iopub.status.busy": "2021-08-08T15:05:50.782460Z",
     "iopub.status.idle": "2021-08-08T15:05:50.790779Z",
     "shell.execute_reply": "2021-08-08T15:05:50.791285Z",
     "shell.execute_reply.started": "2021-08-06T21:22:41.886927Z"
    },
    "id": "b9MM_CXWz5K6",
    "outputId": "4cf88e1d-3a74-4e7d-f92c-d01522e91757",
    "papermill": {
     "duration": 0.754868,
     "end_time": "2021-08-08T15:05:50.791464",
     "exception": false,
     "start_time": "2021-08-08T15:05:50.036596",
     "status": "completed"
    },
    "tags": []
   },
   "outputs": [
    {
     "name": "stdout",
     "output_type": "stream",
     "text": [
      "train avg loss:  0.35968313813209535 +/- 0.005049711574938254\n",
      "train avg acc:  0.7801318526268005 +/- 0.0014448057407776033\n",
      "train avg auc:  0.8379042863845825 +/- 0.0029691804118132338\n"
     ]
    }
   ],
   "source": [
    "t_eval = np.array(train_eval)\n",
    "print(\"train avg loss: \", np.mean(t_eval[:, 0]), \"+/-\" ,np.std(t_eval[:, 0]))\n",
    "print(\"train avg acc: \", np.mean(t_eval[:, 1]),  \"+/-\" ,np.std(t_eval[:, 1]))\n",
    "print(\"train avg auc: \", np.mean(t_eval[:, 2]), \"+/-\" ,np.std(t_eval[:, 2]))"
   ]
  }
 ],
 "metadata": {
  "kernelspec": {
   "display_name": "Python 3",
   "language": "python",
   "name": "python3"
  },
  "language_info": {
   "codemirror_mode": {
    "name": "ipython",
    "version": 3
   },
   "file_extension": ".py",
   "mimetype": "text/x-python",
   "name": "python",
   "nbconvert_exporter": "python",
   "pygments_lexer": "ipython3",
   "version": "3.8.5"
  },
  "papermill": {
   "default_parameters": {},
   "duration": 889.341075,
   "end_time": "2021-08-08T15:05:53.555433",
   "environment_variables": {},
   "exception": null,
   "input_path": "__notebook__.ipynb",
   "output_path": "__notebook__.ipynb",
   "parameters": {},
   "start_time": "2021-08-08T14:51:04.214358",
   "version": "2.3.3"
  }
 },
 "nbformat": 4,
 "nbformat_minor": 5
}
