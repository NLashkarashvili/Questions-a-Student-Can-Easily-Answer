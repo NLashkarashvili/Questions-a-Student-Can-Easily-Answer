{
 "cells": [
  {
   "cell_type": "code",
   "execution_count": 1,
   "metadata": {
    "execution": {
     "iopub.execute_input": "2021-08-08T14:02:54.462847Z",
     "iopub.status.busy": "2021-08-08T14:02:54.461976Z",
     "iopub.status.idle": "2021-08-08T14:03:00.864346Z",
     "shell.execute_reply": "2021-08-08T14:03:00.864884Z",
     "shell.execute_reply.started": "2021-08-06T20:53:41.672006Z"
    },
    "id": "farifxiKU1aB",
    "papermill": {
     "duration": 6.447746,
     "end_time": "2021-08-08T14:03:00.865195",
     "exception": false,
     "start_time": "2021-08-08T14:02:54.417449",
     "status": "completed"
    },
    "tags": []
   },
   "outputs": [],
   "source": [
    "import numpy as np\n",
    "import pandas as pd\n",
    "import warnings\n",
    "import gc\n",
    "import tensorflow as tf\n",
    "from tensorflow import keras\n",
    "\n",
    "import random\n",
    "from random import choice\n",
    "from tensorflow.keras.optimizers import Adam\n",
    "from tensorflow.keras.models import Sequential \n",
    "from tensorflow.keras.layers import Dense, Concatenate, Embedding, Flatten, Activation, Dropout\n",
    "from tensorflow.keras.layers import SimpleRNN as RNN\n",
    "from sklearn.model_selection import KFold\n",
    "from tensorflow.python.client import device_lib\n",
    "warnings.filterwarnings('ignore')\n",
    "import random"
   ]
  },
  {
   "cell_type": "code",
   "execution_count": 2,
   "metadata": {
    "execution": {
     "iopub.execute_input": "2021-08-08T14:03:00.928168Z",
     "iopub.status.busy": "2021-08-08T14:03:00.927186Z",
     "iopub.status.idle": "2021-08-08T14:03:00.931232Z",
     "shell.execute_reply": "2021-08-08T14:03:00.931710Z",
     "shell.execute_reply.started": "2021-08-06T20:53:43.985924Z"
    },
    "id": "QOson70GPOXb",
    "papermill": {
     "duration": 0.036757,
     "end_time": "2021-08-08T14:03:00.931882",
     "exception": false,
     "start_time": "2021-08-08T14:03:00.895125",
     "status": "completed"
    },
    "tags": []
   },
   "outputs": [],
   "source": [
    "import gc"
   ]
  },
  {
   "cell_type": "markdown",
   "metadata": {
    "id": "BQsVybBH3VPw",
    "papermill": {
     "duration": 0.028864,
     "end_time": "2021-08-08T14:03:00.990194",
     "exception": false,
     "start_time": "2021-08-08T14:03:00.961330",
     "status": "completed"
    },
    "tags": []
   },
   "source": [
    "## Data Preprocessing"
   ]
  },
  {
   "cell_type": "code",
   "execution_count": 3,
   "metadata": {
    "execution": {
     "iopub.execute_input": "2021-08-08T14:03:01.053889Z",
     "iopub.status.busy": "2021-08-08T14:03:01.052864Z",
     "iopub.status.idle": "2021-08-08T14:03:07.625686Z",
     "shell.execute_reply": "2021-08-08T14:03:07.626193Z",
     "shell.execute_reply.started": "2021-08-06T20:53:43.99311Z"
    },
    "id": "rwtTusGxrmAE",
    "outputId": "1430f3cf-038b-485e-b5c4-c1686b1f34fd",
    "papermill": {
     "duration": 6.6059,
     "end_time": "2021-08-08T14:03:07.626388",
     "exception": false,
     "start_time": "2021-08-08T14:03:01.020488",
     "status": "completed"
    },
    "tags": []
   },
   "outputs": [
    {
     "data": {
      "text/html": [
       "<div>\n",
       "<style scoped>\n",
       "    .dataframe tbody tr th:only-of-type {\n",
       "        vertical-align: middle;\n",
       "    }\n",
       "\n",
       "    .dataframe tbody tr th {\n",
       "        vertical-align: top;\n",
       "    }\n",
       "\n",
       "    .dataframe thead th {\n",
       "        text-align: right;\n",
       "    }\n",
       "</style>\n",
       "<table border=\"1\" class=\"dataframe\">\n",
       "  <thead>\n",
       "    <tr style=\"text-align: right;\">\n",
       "      <th></th>\n",
       "      <th>Unnamed: 0</th>\n",
       "      <th>chapter_label</th>\n",
       "      <th>sub_chapter_label</th>\n",
       "      <th>question_name</th>\n",
       "      <th>user_id.x</th>\n",
       "      <th>term</th>\n",
       "      <th>STDNT_SEX_CD</th>\n",
       "      <th>NonNativeEnglish</th>\n",
       "      <th>White</th>\n",
       "      <th>Asian</th>\n",
       "      <th>...</th>\n",
       "      <th>classGraded</th>\n",
       "      <th>classHonors</th>\n",
       "      <th>Pass_Fail</th>\n",
       "      <th>parentsGraduateEdu</th>\n",
       "      <th>minorityGroup</th>\n",
       "      <th>q</th>\n",
       "      <th>day's_available_flashcards</th>\n",
       "      <th>start_practice</th>\n",
       "      <th>end_practice</th>\n",
       "      <th>days_offset</th>\n",
       "    </tr>\n",
       "  </thead>\n",
       "  <tbody>\n",
       "    <tr>\n",
       "      <th>0</th>\n",
       "      <td>1</td>\n",
       "      <td>Sort</td>\n",
       "      <td>intro-SortingwithSortandSorted</td>\n",
       "      <td>ee_sort_04</td>\n",
       "      <td>148</td>\n",
       "      <td>WN 2018</td>\n",
       "      <td>1</td>\n",
       "      <td>0</td>\n",
       "      <td>1</td>\n",
       "      <td>0</td>\n",
       "      <td>...</td>\n",
       "      <td>1</td>\n",
       "      <td>0</td>\n",
       "      <td>0</td>\n",
       "      <td>0</td>\n",
       "      <td>0</td>\n",
       "      <td>0</td>\n",
       "      <td>18</td>\n",
       "      <td>2018-03-04 20:00:19</td>\n",
       "      <td>2018-03-04 20:00:35</td>\n",
       "      <td>45</td>\n",
       "    </tr>\n",
       "    <tr>\n",
       "      <th>1</th>\n",
       "      <td>2</td>\n",
       "      <td>Functions</td>\n",
       "      <td>Returningavaluefromafunction</td>\n",
       "      <td>test_questionfunctions_2_3</td>\n",
       "      <td>148</td>\n",
       "      <td>WN 2018</td>\n",
       "      <td>1</td>\n",
       "      <td>0</td>\n",
       "      <td>1</td>\n",
       "      <td>0</td>\n",
       "      <td>...</td>\n",
       "      <td>1</td>\n",
       "      <td>0</td>\n",
       "      <td>0</td>\n",
       "      <td>0</td>\n",
       "      <td>0</td>\n",
       "      <td>4</td>\n",
       "      <td>16</td>\n",
       "      <td>2018-02-10 11:57:55</td>\n",
       "      <td>2018-02-10 11:58:35</td>\n",
       "      <td>23</td>\n",
       "    </tr>\n",
       "    <tr>\n",
       "      <th>2</th>\n",
       "      <td>3</td>\n",
       "      <td>RESTAPIs</td>\n",
       "      <td>functionswithrestapis</td>\n",
       "      <td>test_question_functions_rest_apis_1</td>\n",
       "      <td>148</td>\n",
       "      <td>WN 2018</td>\n",
       "      <td>1</td>\n",
       "      <td>0</td>\n",
       "      <td>1</td>\n",
       "      <td>0</td>\n",
       "      <td>...</td>\n",
       "      <td>1</td>\n",
       "      <td>0</td>\n",
       "      <td>0</td>\n",
       "      <td>0</td>\n",
       "      <td>0</td>\n",
       "      <td>1</td>\n",
       "      <td>2</td>\n",
       "      <td>2018-03-12 17:03:07</td>\n",
       "      <td>2018-03-12 17:04:28</td>\n",
       "      <td>53</td>\n",
       "    </tr>\n",
       "    <tr>\n",
       "      <th>3</th>\n",
       "      <td>4</td>\n",
       "      <td>SimplePythonData</td>\n",
       "      <td>FunctionCalls</td>\n",
       "      <td>exercise_functionCalls_1</td>\n",
       "      <td>148</td>\n",
       "      <td>WN 2018</td>\n",
       "      <td>1</td>\n",
       "      <td>0</td>\n",
       "      <td>1</td>\n",
       "      <td>0</td>\n",
       "      <td>...</td>\n",
       "      <td>1</td>\n",
       "      <td>0</td>\n",
       "      <td>0</td>\n",
       "      <td>0</td>\n",
       "      <td>0</td>\n",
       "      <td>0</td>\n",
       "      <td>10</td>\n",
       "      <td>2018-01-30 14:15:49</td>\n",
       "      <td>2018-01-30 14:15:58</td>\n",
       "      <td>12</td>\n",
       "    </tr>\n",
       "    <tr>\n",
       "      <th>4</th>\n",
       "      <td>5</td>\n",
       "      <td>DictionaryAccumulation</td>\n",
       "      <td>AccumulatingaMaximumValue</td>\n",
       "      <td>ps_04_07</td>\n",
       "      <td>148</td>\n",
       "      <td>WN 2018</td>\n",
       "      <td>1</td>\n",
       "      <td>0</td>\n",
       "      <td>1</td>\n",
       "      <td>0</td>\n",
       "      <td>...</td>\n",
       "      <td>1</td>\n",
       "      <td>0</td>\n",
       "      <td>0</td>\n",
       "      <td>0</td>\n",
       "      <td>0</td>\n",
       "      <td>0</td>\n",
       "      <td>23</td>\n",
       "      <td>2018-03-03 14:04:17</td>\n",
       "      <td>2018-03-03 14:04:25</td>\n",
       "      <td>44</td>\n",
       "    </tr>\n",
       "  </tbody>\n",
       "</table>\n",
       "<p>5 rows × 48 columns</p>\n",
       "</div>"
      ],
      "text/plain": [
       "   Unnamed: 0           chapter_label               sub_chapter_label  \\\n",
       "0           1                    Sort  intro-SortingwithSortandSorted   \n",
       "1           2               Functions    Returningavaluefromafunction   \n",
       "2           3                RESTAPIs           functionswithrestapis   \n",
       "3           4        SimplePythonData                   FunctionCalls   \n",
       "4           5  DictionaryAccumulation       AccumulatingaMaximumValue   \n",
       "\n",
       "                         question_name  user_id.x     term  STDNT_SEX_CD  \\\n",
       "0                           ee_sort_04        148  WN 2018             1   \n",
       "1           test_questionfunctions_2_3        148  WN 2018             1   \n",
       "2  test_question_functions_rest_apis_1        148  WN 2018             1   \n",
       "3             exercise_functionCalls_1        148  WN 2018             1   \n",
       "4                             ps_04_07        148  WN 2018             1   \n",
       "\n",
       "   NonNativeEnglish  White  Asian  ...  classGraded  classHonors  Pass_Fail  \\\n",
       "0                 0      1      0  ...            1            0          0   \n",
       "1                 0      1      0  ...            1            0          0   \n",
       "2                 0      1      0  ...            1            0          0   \n",
       "3                 0      1      0  ...            1            0          0   \n",
       "4                 0      1      0  ...            1            0          0   \n",
       "\n",
       "   parentsGraduateEdu  minorityGroup  q  day's_available_flashcards  \\\n",
       "0                   0              0  0                          18   \n",
       "1                   0              0  4                          16   \n",
       "2                   0              0  1                           2   \n",
       "3                   0              0  0                          10   \n",
       "4                   0              0  0                          23   \n",
       "\n",
       "        start_practice         end_practice  days_offset  \n",
       "0  2018-03-04 20:00:19  2018-03-04 20:00:35           45  \n",
       "1  2018-02-10 11:57:55  2018-02-10 11:58:35           23  \n",
       "2  2018-03-12 17:03:07  2018-03-12 17:04:28           53  \n",
       "3  2018-01-30 14:15:49  2018-01-30 14:15:58           12  \n",
       "4  2018-03-03 14:04:17  2018-03-03 14:04:25           44  \n",
       "\n",
       "[5 rows x 48 columns]"
      ]
     },
     "execution_count": 3,
     "metadata": {},
     "output_type": "execute_result"
    }
   ],
   "source": [
    "# load the data\n",
    "import pandas as pd\n",
    "dataframe = pd.read_csv('../input/practice-log-demographics/Practice_Log_Demographics (1).csv', low_memory=False)\n",
    "dataframe.head()"
   ]
  },
  {
   "cell_type": "code",
   "execution_count": 4,
   "metadata": {
    "execution": {
     "iopub.execute_input": "2021-08-08T14:03:07.691270Z",
     "iopub.status.busy": "2021-08-08T14:03:07.690222Z",
     "iopub.status.idle": "2021-08-08T14:03:07.697088Z",
     "shell.execute_reply": "2021-08-08T14:03:07.697590Z",
     "shell.execute_reply.started": "2021-08-06T20:53:49.176565Z"
    },
    "id": "0RvF7BvEr98o",
    "papermill": {
     "duration": 0.040612,
     "end_time": "2021-08-08T14:03:07.697797",
     "exception": false,
     "start_time": "2021-08-08T14:03:07.657185",
     "status": "completed"
    },
    "tags": []
   },
   "outputs": [],
   "source": [
    "FEATURES = ['chapter_label', 'sub_chapter_label','question_name','user_id','term',\n",
    "            'STDNT_SEX_CD', \n",
    "            'NonNativeEnglish',\n",
    "            'White',\n",
    "            'Asian',\n",
    "            'WhiteOrAsian',\n",
    "            'Hispanic',\n",
    "            'AfricanAmerican',\n",
    "            'OtherEthnicities',\n",
    "            'NonWhiteOrAsian',\n",
    "            'STDNT_CTZN_STAT_CD', 'international', \n",
    "            'gradingType',\n",
    "            'birthYear',\n",
    "            'exclClassCumGPA',\n",
    "            'Freshman',\n",
    "            'Junior',\n",
    "            'Sophomore',\n",
    "            'Senior',\n",
    "            'termCreditsGPA',\n",
    "            'termCreditsNoGPA',\n",
    "            'athlete_1',\n",
    "            'honorsPro',\n",
    "            'LSA', 'programBusiness', 'programEngineering', \n",
    "            'programInformation', 'programOther',\n",
    "            'HSCalculusTaken', \n",
    "            'highSchoolGPA', \n",
    "            'majorsCount', 'minorsCount',\n",
    "            'PREV_TERM_CUM_GPA',\n",
    "            'classGraded', 'classHonors', \n",
    "            'Pass_Fail', \n",
    "            'parentsGraduateEdu',  'minorityGroup', \n",
    "            'q',\n",
    "            'available_flashcards', \n",
    "            'start_practice', \n",
    "            'end_practice',\n",
    "            'days_offset']"
   ]
  },
  {
   "cell_type": "code",
   "execution_count": 5,
   "metadata": {
    "execution": {
     "iopub.execute_input": "2021-08-08T14:03:07.762739Z",
     "iopub.status.busy": "2021-08-08T14:03:07.762025Z",
     "iopub.status.idle": "2021-08-08T14:03:08.593053Z",
     "shell.execute_reply": "2021-08-08T14:03:08.593612Z",
     "shell.execute_reply.started": "2021-08-06T20:53:49.185798Z"
    },
    "id": "Mn341X7lSztl",
    "papermill": {
     "duration": 0.86466,
     "end_time": "2021-08-08T14:03:08.593821",
     "exception": false,
     "start_time": "2021-08-08T14:03:07.729161",
     "status": "completed"
    },
    "tags": []
   },
   "outputs": [],
   "source": [
    "dataframe['available_flashcards'] = dataframe[\"day's_available_flashcards\"][:]\n",
    "dataframe = dataframe.drop([\"day's_available_flashcards\"], axis=1)\n",
    "dataframe['user_id'] = dataframe[\"user_id.x\"][:]\n",
    "dataframe = dataframe.drop([\"user_id.x\"], axis=1)"
   ]
  },
  {
   "cell_type": "code",
   "execution_count": 6,
   "metadata": {
    "execution": {
     "iopub.execute_input": "2021-08-08T14:03:08.834066Z",
     "iopub.status.busy": "2021-08-08T14:03:08.833388Z",
     "iopub.status.idle": "2021-08-08T14:03:08.839824Z",
     "shell.execute_reply": "2021-08-08T14:03:08.839298Z",
     "shell.execute_reply.started": "2021-08-06T20:53:49.660082Z"
    },
    "id": "-_BRggOjbBjN",
    "outputId": "42bff7db-08dd-48dc-a73a-d048508053b7",
    "papermill": {
     "duration": 0.215823,
     "end_time": "2021-08-08T14:03:08.839988",
     "exception": false,
     "start_time": "2021-08-08T14:03:08.624165",
     "status": "completed"
    },
    "tags": []
   },
   "outputs": [
    {
     "data": {
      "text/plain": [
       "82"
      ]
     },
     "execution_count": 6,
     "metadata": {},
     "output_type": "execute_result"
    }
   ],
   "source": [
    "gc.collect()"
   ]
  },
  {
   "cell_type": "code",
   "execution_count": 7,
   "metadata": {
    "execution": {
     "iopub.execute_input": "2021-08-08T14:03:08.910086Z",
     "iopub.status.busy": "2021-08-08T14:03:08.908350Z",
     "iopub.status.idle": "2021-08-08T14:03:09.201677Z",
     "shell.execute_reply": "2021-08-08T14:03:09.201070Z",
     "shell.execute_reply.started": "2021-08-06T20:53:49.836831Z"
    },
    "id": "lXM7MlonVeRL",
    "outputId": "d29ccec0-522f-4e3c-e0b2-39b2e1eaef74",
    "papermill": {
     "duration": 0.330688,
     "end_time": "2021-08-08T14:03:09.201826",
     "exception": false,
     "start_time": "2021-08-08T14:03:08.871138",
     "status": "completed"
    },
    "tags": []
   },
   "outputs": [
    {
     "data": {
      "text/plain": [
       "20"
      ]
     },
     "execution_count": 7,
     "metadata": {},
     "output_type": "execute_result"
    }
   ],
   "source": [
    "dataframe = dataframe[FEATURES]\n",
    "gc.collect()"
   ]
  },
  {
   "cell_type": "code",
   "execution_count": 8,
   "metadata": {
    "execution": {
     "iopub.execute_input": "2021-08-08T14:03:09.735976Z",
     "iopub.status.busy": "2021-08-08T14:03:09.735302Z",
     "iopub.status.idle": "2021-08-08T14:03:09.866134Z",
     "shell.execute_reply": "2021-08-08T14:03:09.865593Z",
     "shell.execute_reply.started": "2021-08-06T20:53:50.129501Z"
    },
    "id": "2WAFv5z3A6fK",
    "outputId": "e27abf84-ec3c-4b88-e1fb-927d94b41898",
    "papermill": {
     "duration": 0.633118,
     "end_time": "2021-08-08T14:03:09.866302",
     "exception": false,
     "start_time": "2021-08-08T14:03:09.233184",
     "status": "completed"
    },
    "tags": []
   },
   "outputs": [],
   "source": [
    "dataframe = dataframe.fillna(0)"
   ]
  },
  {
   "cell_type": "code",
   "execution_count": 9,
   "metadata": {
    "execution": {
     "iopub.execute_input": "2021-08-08T14:03:09.947817Z",
     "iopub.status.busy": "2021-08-08T14:03:09.947136Z",
     "iopub.status.idle": "2021-08-08T14:03:11.374953Z",
     "shell.execute_reply": "2021-08-08T14:03:11.374357Z",
     "shell.execute_reply.started": "2021-08-06T20:53:50.733184Z"
    },
    "id": "qRKqF_0IXZgj",
    "papermill": {
     "duration": 1.477218,
     "end_time": "2021-08-08T14:03:11.375102",
     "exception": false,
     "start_time": "2021-08-08T14:03:09.897884",
     "status": "completed"
    },
    "tags": []
   },
   "outputs": [],
   "source": [
    "#label encode term, chapter_label, question_name, sub_chapter_label columns\n",
    "dataframe['term'] = dataframe['term'].astype('category')\n",
    "dataframe['user_id'] = dataframe['user_id'].astype(int)\n",
    "dataframe['user_id'] = dataframe['user_id'].astype(str)\n",
    "dataframe['user_id'] = dataframe['term'].str.cat(dataframe['user_id'], sep=':')\n",
    "dataframe['user_id'] = dataframe['user_id'].astype('category')\n",
    "dataframe['chapter_label'] = dataframe['chapter_label'].astype('category')\n",
    "dataframe['sub_chapter_label'] = dataframe['sub_chapter_label'].astype('category')\n",
    "dataframe['question_name'] = dataframe['question_name'].astype('category')\n"
   ]
  },
  {
   "cell_type": "code",
   "execution_count": 10,
   "metadata": {
    "execution": {
     "iopub.execute_input": "2021-08-08T14:03:11.444027Z",
     "iopub.status.busy": "2021-08-08T14:03:11.443327Z",
     "iopub.status.idle": "2021-08-08T14:03:11.922037Z",
     "shell.execute_reply": "2021-08-08T14:03:11.921384Z",
     "shell.execute_reply.started": "2021-08-06T20:53:52.202336Z"
    },
    "id": "eVl_067GWkDe",
    "papermill": {
     "duration": 0.515689,
     "end_time": "2021-08-08T14:03:11.922195",
     "exception": false,
     "start_time": "2021-08-08T14:03:11.406506",
     "status": "completed"
    },
    "tags": []
   },
   "outputs": [],
   "source": [
    "#calculate time_lag and prev_time_elapsed\n",
    "dataframe['prev_time_elapsed'] = None\n",
    "dataframe['time_lag'] = None\n",
    "dataframe['time_lag'] = dataframe['time_lag'].astype(np.float)\n",
    "dataframe['prev_time_elapsed'] = dataframe['prev_time_elapsed'].astype(np.float)\n",
    "dataframe.start_practice = pd.to_datetime(dataframe.start_practice, format='%Y-%m-%d %H:%M:%S')\n",
    "dataframe.end_practice = pd.to_datetime(dataframe.end_practice, format='%Y-%m-%d %H:%M:%S')"
   ]
  },
  {
   "cell_type": "code",
   "execution_count": 11,
   "metadata": {
    "execution": {
     "iopub.execute_input": "2021-08-08T14:03:11.989436Z",
     "iopub.status.busy": "2021-08-08T14:03:11.988739Z",
     "iopub.status.idle": "2021-08-08T14:03:12.400559Z",
     "shell.execute_reply": "2021-08-08T14:03:12.399934Z",
     "shell.execute_reply.started": "2021-08-06T20:53:52.690519Z"
    },
    "papermill": {
     "duration": 0.447513,
     "end_time": "2021-08-08T14:03:12.400705",
     "exception": false,
     "start_time": "2021-08-08T14:03:11.953192",
     "status": "completed"
    },
    "tags": []
   },
   "outputs": [],
   "source": [
    "#sort data based on timestamp\n",
    "dataframe = dataframe.sort_values(by=['start_practice']).reset_index(drop=True)"
   ]
  },
  {
   "cell_type": "code",
   "execution_count": 12,
   "metadata": {
    "execution": {
     "iopub.execute_input": "2021-08-08T14:03:12.470620Z",
     "iopub.status.busy": "2021-08-08T14:03:12.469240Z",
     "iopub.status.idle": "2021-08-08T14:03:12.512616Z",
     "shell.execute_reply": "2021-08-08T14:03:12.511420Z",
     "shell.execute_reply.started": "2021-08-06T20:53:53.10858Z"
    },
    "papermill": {
     "duration": 0.081175,
     "end_time": "2021-08-08T14:03:12.512784",
     "exception": false,
     "start_time": "2021-08-08T14:03:12.431609",
     "status": "completed"
    },
    "tags": []
   },
   "outputs": [],
   "source": [
    "dataframe['dif'] = dataframe.end_practice - dataframe.start_practice\n",
    "dataframe['dif'] = dataframe['dif'] /np.timedelta64(1, 's')\n",
    "dataframe['answer_correct'] = np.where((dataframe['q']==5) & (dataframe['dif'] <= 60), 1, 0)"
   ]
  },
  {
   "cell_type": "code",
   "execution_count": 13,
   "metadata": {
    "execution": {
     "iopub.execute_input": "2021-08-08T14:03:12.580039Z",
     "iopub.status.busy": "2021-08-08T14:03:12.579123Z",
     "iopub.status.idle": "2021-08-08T14:03:12.591075Z",
     "shell.execute_reply": "2021-08-08T14:03:12.590497Z",
     "shell.execute_reply.started": "2021-08-06T20:53:53.141542Z"
    },
    "papermill": {
     "duration": 0.047585,
     "end_time": "2021-08-08T14:03:12.591241",
     "exception": false,
     "start_time": "2021-08-08T14:03:12.543656",
     "status": "completed"
    },
    "tags": []
   },
   "outputs": [],
   "source": [
    "unique_chapts = dataframe['chapter_label'].unique()"
   ]
  },
  {
   "cell_type": "code",
   "execution_count": 14,
   "metadata": {
    "execution": {
     "iopub.execute_input": "2021-08-08T14:03:12.665030Z",
     "iopub.status.busy": "2021-08-08T14:03:12.664284Z",
     "iopub.status.idle": "2021-08-08T14:09:31.500988Z",
     "shell.execute_reply": "2021-08-08T14:09:31.500259Z",
     "shell.execute_reply.started": "2021-08-06T20:57:57.26281Z"
    },
    "id": "Xrkcn9VhWETm",
    "outputId": "fd73f3de-5f56-42a8-9539-3f3b79a5a6e2",
    "papermill": {
     "duration": 378.878999,
     "end_time": "2021-08-08T14:09:31.501212",
     "exception": false,
     "start_time": "2021-08-08T14:03:12.622213",
     "status": "completed"
    },
    "tags": []
   },
   "outputs": [
    {
     "name": "stderr",
     "output_type": "stream",
     "text": [
      "100%|██████████| 1110/1110 [06:18<00:00,  2.93it/s]\n"
     ]
    }
   ],
   "source": [
    "unique_chapts = dataframe['chapter_label'].unique()\n",
    "from tqdm import tqdm\n",
    "cnt = 0\n",
    "for user in tqdm(dataframe['user_id'].unique()):\n",
    "        for chapter in unique_chapts:\n",
    "            tmp_user = dataframe[(dataframe['user_id']==user) & (dataframe['chapter_label']==chapter)]\n",
    "            #if user doesn't answer any question from the chapter\n",
    "            if len(tmp_user) < 1:\n",
    "                continue\n",
    "            #calculate average elapsed time before the current question\n",
    "            #from its corresponding chapter\n",
    "            tmp_time_elapsed = tmp_user.end_practice - tmp_user.start_practice\n",
    "            tmp_time_elapsed = tmp_time_elapsed / np.timedelta64(1, 's')\n",
    "            tmp_time_elapsed = np.insert(np.array(tmp_time_elapsed[:-1]), 0, 0., axis=0)\n",
    "            tmp_time_elapsed = np.cumsum(tmp_time_elapsed)\n",
    "            indices = tmp_user.index\n",
    "            start_row = indices[0]\n",
    "            dataframe['time_lag'].iloc[start_row] = 0\n",
    "            for_mean = np.arange(len(tmp_user))\n",
    "            for_mean[0] = 1\n",
    "            time_substrahend = tmp_user.start_practice.iloc[:-1]\n",
    "            time_substrahend = time_substrahend.apply(lambda a: a.timestamp())\n",
    "            time_substrahend = np.array(time_substrahend)\n",
    "            \n",
    "            time_minuend = tmp_user.start_practice.iloc[1:]\n",
    "            time_minuend = time_minuend.apply(lambda a: a.timestamp())\n",
    "            time_minuend = np.array(time_minuend)\n",
    "\n",
    "            dataframe['prev_time_elapsed'].iloc[indices] = tmp_time_elapsed/for_mean\n",
    "            #calculate difference between current and last interaction\n",
    "            #from the same chapter\n",
    "            dataframe['time_lag'].iloc[indices[1:]] = time_minuend - time_substrahend\n"
   ]
  },
  {
   "cell_type": "code",
   "execution_count": 15,
   "metadata": {
    "execution": {
     "iopub.execute_input": "2021-08-08T14:09:32.280802Z",
     "iopub.status.busy": "2021-08-08T14:09:32.279871Z",
     "iopub.status.idle": "2021-08-08T14:09:32.319804Z",
     "shell.execute_reply": "2021-08-08T14:09:32.319239Z",
     "shell.execute_reply.started": "2021-08-06T21:04:40.337666Z"
    },
    "id": "8t8yZ0XvWwzz",
    "papermill": {
     "duration": 0.460816,
     "end_time": "2021-08-08T14:09:32.319956",
     "exception": false,
     "start_time": "2021-08-08T14:09:31.859140",
     "status": "completed"
    },
    "tags": []
   },
   "outputs": [],
   "source": [
    "#drop column end_practice\n",
    "dataframe.drop(columns=['end_practice'], inplace=True)"
   ]
  },
  {
   "cell_type": "code",
   "execution_count": 16,
   "metadata": {
    "execution": {
     "iopub.execute_input": "2021-08-08T14:09:33.049590Z",
     "iopub.status.busy": "2021-08-08T14:09:33.048401Z",
     "iopub.status.idle": "2021-08-08T14:09:33.517375Z",
     "shell.execute_reply": "2021-08-08T14:09:33.516812Z",
     "shell.execute_reply.started": "2021-08-06T21:04:41.469601Z"
    },
    "id": "E42raRIrYYXz",
    "papermill": {
     "duration": 0.837894,
     "end_time": "2021-08-08T14:09:33.517535",
     "exception": false,
     "start_time": "2021-08-08T14:09:32.679641",
     "status": "completed"
    },
    "tags": []
   },
   "outputs": [],
   "source": [
    "# calculate the age feature\n",
    "dataframe['term_value'] = [int(ele[3:]) for ele in dataframe['term']]\n",
    "dataframe['age'] = dataframe['term_value'] - dataframe['birthYear']"
   ]
  },
  {
   "cell_type": "code",
   "execution_count": 17,
   "metadata": {
    "execution": {
     "iopub.execute_input": "2021-08-08T14:09:34.298112Z",
     "iopub.status.busy": "2021-08-08T14:09:34.296713Z",
     "iopub.status.idle": "2021-08-08T14:09:34.655677Z",
     "shell.execute_reply": "2021-08-08T14:09:34.655111Z",
     "shell.execute_reply.started": "2021-08-06T21:04:42.216092Z"
    },
    "id": "pcMVQXueYnMh",
    "papermill": {
     "duration": 0.779564,
     "end_time": "2021-08-08T14:09:34.655841",
     "exception": false,
     "start_time": "2021-08-08T14:09:33.876277",
     "status": "completed"
    },
    "tags": []
   },
   "outputs": [],
   "source": [
    "# drop term_value and birthYear column\n",
    "dataframe.drop(columns=['term_value', 'birthYear'], inplace=True)"
   ]
  },
  {
   "cell_type": "code",
   "execution_count": 18,
   "metadata": {
    "execution": {
     "iopub.execute_input": "2021-08-08T14:09:35.423670Z",
     "iopub.status.busy": "2021-08-08T14:09:35.397354Z",
     "iopub.status.idle": "2021-08-08T14:09:35.875014Z",
     "shell.execute_reply": "2021-08-08T14:09:35.874318Z",
     "shell.execute_reply.started": "2021-08-06T21:04:43.101881Z"
    },
    "id": "hjRF5szkcQE0",
    "papermill": {
     "duration": 0.859129,
     "end_time": "2021-08-08T14:09:35.875160",
     "exception": false,
     "start_time": "2021-08-08T14:09:35.016031",
     "status": "completed"
    },
    "tags": []
   },
   "outputs": [],
   "source": [
    "# convert minors_count to int value\n",
    "new_minors_count = []\n",
    "for i in dataframe['minorsCount']:\n",
    "  if i == 0 or i == '0':\n",
    "    new_minors_count.append(0)\n",
    "  elif i == '1 Minor':\n",
    "    new_minors_count.append(1)\n",
    "  else:\n",
    "    new_minors_count.append(2)\n",
    "\n",
    "dataframe['minorsCount'] = new_minors_count"
   ]
  },
  {
   "cell_type": "code",
   "execution_count": 19,
   "metadata": {
    "execution": {
     "iopub.execute_input": "2021-08-08T14:09:36.597169Z",
     "iopub.status.busy": "2021-08-08T14:09:36.596514Z",
     "iopub.status.idle": "2021-08-08T14:09:36.610931Z",
     "shell.execute_reply": "2021-08-08T14:09:36.610354Z",
     "shell.execute_reply.started": "2021-08-06T21:04:44.069999Z"
    },
    "id": "9VdzvJSw0KUU",
    "outputId": "6393784f-234e-4935-9cee-cbcf56b5630a",
    "papermill": {
     "duration": 0.378249,
     "end_time": "2021-08-08T14:09:36.611098",
     "exception": false,
     "start_time": "2021-08-08T14:09:36.232849",
     "status": "completed"
    },
    "tags": []
   },
   "outputs": [
    {
     "name": "stdout",
     "output_type": "stream",
     "text": [
      "we have  1110  users in total.\n"
     ]
    }
   ],
   "source": [
    "print(\"we have \", dataframe['user_id'].nunique(),\" users in total.\")"
   ]
  },
  {
   "cell_type": "code",
   "execution_count": 20,
   "metadata": {
    "execution": {
     "iopub.execute_input": "2021-08-08T14:09:37.344630Z",
     "iopub.status.busy": "2021-08-08T14:09:37.343946Z",
     "iopub.status.idle": "2021-08-08T14:09:37.352735Z",
     "shell.execute_reply": "2021-08-08T14:09:37.352136Z",
     "shell.execute_reply.started": "2021-08-06T21:04:44.884292Z"
    },
    "id": "hUaGk9L9g13t",
    "papermill": {
     "duration": 0.37765,
     "end_time": "2021-08-08T14:09:37.352880",
     "exception": false,
     "start_time": "2021-08-08T14:09:36.975230",
     "status": "completed"
    },
    "tags": []
   },
   "outputs": [],
   "source": [
    "for category in ['term','chapter_label', 'sub_chapter_label', 'question_name']:\n",
    "  dataframe[category] =  dataframe[category].cat.codes"
   ]
  },
  {
   "cell_type": "code",
   "execution_count": 21,
   "metadata": {
    "execution": {
     "iopub.execute_input": "2021-08-08T14:09:38.081804Z",
     "iopub.status.busy": "2021-08-08T14:09:38.080983Z",
     "iopub.status.idle": "2021-08-08T14:09:38.887516Z",
     "shell.execute_reply": "2021-08-08T14:09:38.888094Z",
     "shell.execute_reply.started": "2021-08-06T21:04:45.606317Z"
    },
    "id": "hkyvcYvlhliG",
    "papermill": {
     "duration": 1.177416,
     "end_time": "2021-08-08T14:09:38.888312",
     "exception": false,
     "start_time": "2021-08-08T14:09:37.710896",
     "status": "completed"
    },
    "tags": []
   },
   "outputs": [],
   "source": [
    "NUMERIC_FEATURE =  ['age',\n",
    "            'exclClassCumGPA',\n",
    "            'termCreditsGPA',\n",
    "            'termCreditsNoGPA',\n",
    "            'highSchoolGPA', \n",
    "            'majorsCount', 'minorsCount',\n",
    "            'PREV_TERM_CUM_GPA',\n",
    "            'available_flashcards', \n",
    "            'days_offset', \n",
    "            'prev_time_elapsed',\n",
    "             'time_lag']\n",
    "# z-score normalize the numerical features\n",
    "for f in NUMERIC_FEATURE:\n",
    "  m = dataframe[f].mean()\n",
    "  std = dataframe[f].std()\n",
    "  dataframe[f] = (dataframe[f] - m)/std"
   ]
  },
  {
   "cell_type": "code",
   "execution_count": 22,
   "metadata": {
    "execution": {
     "iopub.execute_input": "2021-08-08T14:09:39.660775Z",
     "iopub.status.busy": "2021-08-08T14:09:39.660023Z",
     "iopub.status.idle": "2021-08-08T14:09:40.910175Z",
     "shell.execute_reply": "2021-08-08T14:09:40.909353Z",
     "shell.execute_reply.started": "2021-08-06T21:04:46.423055Z"
    },
    "id": "wo2OH-d5kWp1",
    "papermill": {
     "duration": 1.662217,
     "end_time": "2021-08-08T14:09:40.910397",
     "exception": false,
     "start_time": "2021-08-08T14:09:39.248180",
     "status": "completed"
    },
    "tags": []
   },
   "outputs": [],
   "source": [
    "FEATURE_TRANS =  ['answer_correct', 'chapter_label', 'sub_chapter_label','question_name','user_id','term',\n",
    "                  'STDNT_SEX_CD', \n",
    "                    'White','Asian','NonWhiteOrAsian',\n",
    "            'STDNT_CTZN_STAT_CD', 'international', \n",
    "            'age',\n",
    "            'exclClassCumGPA',\n",
    "           'Freshman',\n",
    "            'Junior',\n",
    "            'Sophomore',\n",
    "            'Senior',\n",
    "            'termCreditsGPA',\n",
    "            'termCreditsNoGPA',\n",
    "            'athlete_1',\n",
    "            'honorsPro',\n",
    "            'LSA', 'programBusiness', 'programEngineering', \n",
    "            'programInformation', 'programOther',\n",
    "            'HSCalculusTaken', \n",
    "            'highSchoolGPA', \n",
    "            'majorsCount', 'minorsCount',\n",
    "            'PREV_TERM_CUM_GPA',\n",
    "            'classGraded', 'classHonors', \n",
    "            'Pass_Fail', \n",
    "            'parentsGraduateEdu',  'minorityGroup', \n",
    "            'available_flashcards', \n",
    "            'days_offset', 'prev_time_elapsed',\n",
    "             'time_lag']\n",
    "grouped_data = dataframe[FEATURE_TRANS].groupby(['user_id']).apply(lambda r: (\n",
    "                r['answer_correct'],\n",
    "                r['term'],\n",
    "                r['chapter_label'],\n",
    "                r['sub_chapter_label'],\n",
    "                r['question_name'],\n",
    "                np.array([\n",
    "#                   r['STDNT_SEX_CD'],r['STDNT_CTZN_STAT_CD'], r['international'], \n",
    "#                   r['White'],r['Asian'],r['NonWhiteOrAsian'],\n",
    "#                  r['age'],r['exclClassCumGPA'],\n",
    "#                 r['Freshman'], r['Junior'], r['Sophomore'], r['Senior'],\n",
    "#                 r['termCreditsGPA'], r['termCreditsNoGPA'],\n",
    "#                 r['athlete_1'], r['honorsPro'],\n",
    "#                 r['LSA'], r['programBusiness'], r['programEngineering'], \n",
    "#                 r['programInformation'], r['programOther'],\n",
    "#                 r['HSCalculusTaken'],  r['highSchoolGPA'], \n",
    "#                 r['majorsCount'], r['minorsCount'],\n",
    "#                 r['PREV_TERM_CUM_GPA'], \n",
    "#                 r['parentsGraduateEdu'], r['minorityGroup'],\n",
    "#                 r['available_flashcards'],\n",
    "#                 r['days_offset'],\n",
    "                r['prev_time_elapsed'],\n",
    "                r['time_lag']\n",
    "              ]).transpose()\n",
    "                ))"
   ]
  },
  {
   "cell_type": "code",
   "execution_count": 23,
   "metadata": {
    "execution": {
     "iopub.execute_input": "2021-08-08T14:09:41.634476Z",
     "iopub.status.busy": "2021-08-08T14:09:41.633766Z",
     "iopub.status.idle": "2021-08-08T14:09:41.842847Z",
     "shell.execute_reply": "2021-08-08T14:09:41.843351Z",
     "shell.execute_reply.started": "2021-08-06T21:04:50.729982Z"
    },
    "id": "XXLqQnjrlp_4",
    "outputId": "c801da79-f0bf-4fe5-b19c-7c799fe01556",
    "papermill": {
     "duration": 0.573711,
     "end_time": "2021-08-08T14:09:41.843547",
     "exception": false,
     "start_time": "2021-08-08T14:09:41.269836",
     "status": "completed"
    },
    "tags": []
   },
   "outputs": [
    {
     "data": {
      "text/plain": [
       "20"
      ]
     },
     "execution_count": 23,
     "metadata": {},
     "output_type": "execute_result"
    }
   ],
   "source": [
    "gc.collect()"
   ]
  },
  {
   "cell_type": "code",
   "execution_count": 24,
   "metadata": {
    "execution": {
     "iopub.execute_input": "2021-08-08T14:09:42.592742Z",
     "iopub.status.busy": "2021-08-08T14:09:42.591704Z",
     "iopub.status.idle": "2021-08-08T14:09:42.636950Z",
     "shell.execute_reply": "2021-08-08T14:09:42.635934Z",
     "shell.execute_reply.started": "2021-08-06T21:04:50.932864Z"
    },
    "id": "QYGQasdTrmP0",
    "papermill": {
     "duration": 0.429167,
     "end_time": "2021-08-08T14:09:42.637112",
     "exception": false,
     "start_time": "2021-08-08T14:09:42.207945",
     "status": "completed"
    },
    "tags": []
   },
   "outputs": [],
   "source": [
    "# remove students who don't have make any interactions with the tool\n",
    "toRemove = []\n",
    "for index in grouped_data.index:\n",
    "  if len(grouped_data[index][0]) <= 10:\n",
    "    toRemove.append(index)\n",
    "grouped_data = grouped_data.drop(index=toRemove)"
   ]
  },
  {
   "cell_type": "code",
   "execution_count": 25,
   "metadata": {
    "execution": {
     "iopub.execute_input": "2021-08-08T14:09:43.368224Z",
     "iopub.status.busy": "2021-08-08T14:09:43.367571Z",
     "iopub.status.idle": "2021-08-08T14:09:43.384372Z",
     "shell.execute_reply": "2021-08-08T14:09:43.383763Z",
     "shell.execute_reply.started": "2021-08-06T21:04:50.98328Z"
    },
    "papermill": {
     "duration": 0.38769,
     "end_time": "2021-08-08T14:09:43.384547",
     "exception": false,
     "start_time": "2021-08-08T14:09:42.996857",
     "status": "completed"
    },
    "tags": []
   },
   "outputs": [
    {
     "data": {
      "text/plain": [
       "count    1110.000000\n",
       "mean      550.263063\n",
       "std       201.281353\n",
       "min         2.000000\n",
       "25%       438.250000\n",
       "50%       520.500000\n",
       "75%       637.750000\n",
       "max      1500.000000\n",
       "Name: start_practice, dtype: float64"
      ]
     },
     "execution_count": 25,
     "metadata": {},
     "output_type": "execute_result"
    }
   ],
   "source": [
    "dataframe.groupby('user_id')['start_practice'].agg('count').describe()"
   ]
  },
  {
   "cell_type": "code",
   "execution_count": 26,
   "metadata": {
    "execution": {
     "iopub.execute_input": "2021-08-08T14:09:44.113556Z",
     "iopub.status.busy": "2021-08-08T14:09:44.112838Z",
     "iopub.status.idle": "2021-08-08T14:09:44.116996Z",
     "shell.execute_reply": "2021-08-08T14:09:44.116365Z",
     "shell.execute_reply.started": "2021-08-06T21:04:51.003119Z"
    },
    "papermill": {
     "duration": 0.368929,
     "end_time": "2021-08-08T14:09:44.117140",
     "exception": false,
     "start_time": "2021-08-08T14:09:43.748211",
     "status": "completed"
    },
    "tags": []
   },
   "outputs": [
    {
     "data": {
      "text/plain": [
       "['FA 2018:252', 'WN 2018:295']"
      ]
     },
     "execution_count": 26,
     "metadata": {},
     "output_type": "execute_result"
    }
   ],
   "source": [
    "toRemove"
   ]
  },
  {
   "cell_type": "code",
   "execution_count": 27,
   "metadata": {
    "execution": {
     "iopub.execute_input": "2021-08-08T14:09:44.843405Z",
     "iopub.status.busy": "2021-08-08T14:09:44.842719Z",
     "iopub.status.idle": "2021-08-08T14:09:44.846405Z",
     "shell.execute_reply": "2021-08-08T14:09:44.846906Z",
     "shell.execute_reply.started": "2021-08-06T21:04:51.012606Z"
    },
    "id": "9kZqV9siDyNb",
    "papermill": {
     "duration": 0.365705,
     "end_time": "2021-08-08T14:09:44.847091",
     "exception": false,
     "start_time": "2021-08-08T14:09:44.481386",
     "status": "completed"
    },
    "tags": []
   },
   "outputs": [],
   "source": [
    "#SETTINGS -> can be modified at any time\n",
    "MAXLENGTH = 400\n",
    "EMBEDDING_DIM = 128\n",
    "DENSE_NEURON = 16\n",
    "RNN_NEURON = 32"
   ]
  },
  {
   "cell_type": "code",
   "execution_count": 28,
   "metadata": {
    "execution": {
     "iopub.execute_input": "2021-08-08T14:09:45.570705Z",
     "iopub.status.busy": "2021-08-08T14:09:45.569932Z",
     "iopub.status.idle": "2021-08-08T14:09:45.573762Z",
     "shell.execute_reply": "2021-08-08T14:09:45.574301Z",
     "shell.execute_reply.started": "2021-08-06T21:04:51.932106Z"
    },
    "id": "1MksD1JizpPn",
    "papermill": {
     "duration": 0.366945,
     "end_time": "2021-08-08T14:09:45.574493",
     "exception": false,
     "start_time": "2021-08-08T14:09:45.207548",
     "status": "completed"
    },
    "tags": []
   },
   "outputs": [],
   "source": [
    "FEATURES_SIZE = 2\n",
    "CHAPTER_SIZE = 38\n",
    "SUB_CHAPTER_SIZE = 223\n",
    "QUESTION_SIZE = 1069"
   ]
  },
  {
   "cell_type": "code",
   "execution_count": 29,
   "metadata": {
    "execution": {
     "iopub.execute_input": "2021-08-08T14:09:46.296601Z",
     "iopub.status.busy": "2021-08-08T14:09:46.295897Z",
     "iopub.status.idle": "2021-08-08T14:09:46.308104Z",
     "shell.execute_reply": "2021-08-08T14:09:46.307477Z",
     "shell.execute_reply.started": "2021-08-06T21:04:52.955964Z"
    },
    "papermill": {
     "duration": 0.374612,
     "end_time": "2021-08-08T14:09:46.308259",
     "exception": false,
     "start_time": "2021-08-08T14:09:45.933647",
     "status": "completed"
    },
    "tags": []
   },
   "outputs": [
    {
     "data": {
      "text/plain": [
       "array([ 96,  86,  88,  28,  12,  82, 125,  32,  69,  33,  21, 115, 120,\n",
       "       119,  91,  73,  57,  77, 117,  40,  74,  41,  68,  39,  92,  47,\n",
       "       104,  95,  53,  49,  50,  16,  52,  55,   7,  15,  51, 102, 103,\n",
       "        11,  94, 108, 100,  17,  67,  63,  13, 139,  26,  25,   8, 107,\n",
       "         0,  90,  48,  54, 138,   1,   2,   3,  34,  35,  85,   5,  24,\n",
       "        37,  36,  78,  70,  45, 142,  71,  10,  89, 111, 112, 109, 116,\n",
       "        76,  72, 148, 134, 146, 221, 143,  56,  60,  61,  23, 140, 106,\n",
       "        42,  83,  22, 145, 136, 144,  38,   4,  19, 137,  75,  43,  98,\n",
       "        84, 113, 173, 174, 175, 176, 177, 178, 180, 181, 182, 187, 189,\n",
       "       190, 191, 192, 193, 195, 197, 151, 152, 153, 156, 157, 158, 159,\n",
       "       160, 161, 163, 164, 165, 166, 167, 168, 169, 170, 171, 172, 198,\n",
       "       199, 200, 201, 202, 203, 204, 205, 206, 207, 208, 209, 210, 162,\n",
       "       179, 186, 188, 194, 183, 184, 185, 211, 212, 213, 154, 155, 196,\n",
       "         6, 118,  18, 215,  46, 216, 141,  27, 217, 105, 123, 218, 101,\n",
       "       124, 219, 122, 220,  58,  59,  64,  20,  93,  65,  66,   9,  44,\n",
       "        30,  14,  79, 121,  31, 110, 129,  87,  97,  62, 149, 132, 131,\n",
       "       150, 130, 128,  99, 147, 127, 214, 135,  80, 126, 133,  81, 114,\n",
       "        29], dtype=int16)"
      ]
     },
     "execution_count": 29,
     "metadata": {},
     "output_type": "execute_result"
    }
   ],
   "source": [
    "dataframe['sub_chapter_label'].unique()"
   ]
  },
  {
   "cell_type": "code",
   "execution_count": 30,
   "metadata": {
    "execution": {
     "iopub.execute_input": "2021-08-08T14:09:47.045053Z",
     "iopub.status.busy": "2021-08-08T14:09:47.038471Z",
     "iopub.status.idle": "2021-08-08T14:09:48.166531Z",
     "shell.execute_reply": "2021-08-08T14:09:48.167057Z",
     "shell.execute_reply.started": "2021-08-06T21:04:54.080084Z"
    },
    "id": "mY3Thp6d0NaT",
    "papermill": {
     "duration": 1.498585,
     "end_time": "2021-08-08T14:09:48.167237",
     "exception": false,
     "start_time": "2021-08-08T14:09:46.668652",
     "status": "completed"
    },
    "tags": []
   },
   "outputs": [],
   "source": [
    "#create dataset class\n",
    "#to prepare it for train, valid, and test sets\n",
    "from torch.utils.data import Dataset, DataLoader\n",
    "class SPACE_DATASET(Dataset):\n",
    "    def __init__(self, data, maxlength = 400):\n",
    "        super(SPACE_DATASET, self).__init__()\n",
    "        self.maxlength = maxlength\n",
    "        self.data = data\n",
    "        self.users = list()\n",
    "        for user in data.index:\n",
    "            self.users.append(user)\n",
    "\n",
    "    def __len__(self):\n",
    "        return len(self.users)\n",
    "    \n",
    "    def __getitem__(self, ix):\n",
    "        user = self.users[ix]\n",
    "        user = user\n",
    "        target, term, ch_label, sub_ch_label, ques_name, features = self.data[user]\n",
    "        \n",
    "        #0s should be used as padding values\n",
    "        ori_target = target.values \n",
    "        term = term.values\n",
    "        ch_label = ch_label.values + 1\n",
    "        sub_ch_label = sub_ch_label.values +1\n",
    "        ques_name = ques_name.values + 1\n",
    "        \n",
    "        n = len(ch_label)\n",
    "\n",
    "        # one hot for term\n",
    "        term_encode = [0]*7\n",
    "        term_encode[term[0]] = 1\n",
    "        shifted_target= []\n",
    "\n",
    "        \n",
    "        # get  user interaction informations in the previous MAXLEN interactions\n",
    "        if n > self.maxlength:\n",
    "          ch_label = ch_label[-self.maxlength:]\n",
    "          sub_ch_label = sub_ch_label[-self.maxlength:]\n",
    "          ques_name = ques_name[-self.maxlength:]\n",
    "          features = features[-self.maxlength:]\n",
    "          target = ori_target[-self.maxlength:]\n",
    "          shifted_target = ori_target[ (-self.maxlength - 1) :-1]\n",
    "        else:\n",
    "          ch_label = [0]*(self.maxlength - n)+list(ch_label[:])\n",
    "          sub_ch_label = [0]*(self.maxlength - n)+list(sub_ch_label[:])\n",
    "          ques_name = [0]*(self.maxlength - n)+list(ques_name[:])\n",
    "          features = [[0]*len(features[0])]*(self.maxlength  - n)+list(features[:])\n",
    "          target = [-1]*(self.maxlength - n) + list(ori_target[:])\n",
    "          shifted_target = [2]*(self.maxlength + 1 - n) + list(ori_target[:-1])\n",
    "\n",
    "        new_features = []\n",
    "        count = 0\n",
    "        for f in features:\n",
    "          temp = list(f)\n",
    "#           temp.extend(term_encode)\n",
    "          #temp.append(shifted_target[count]) #uncomment this line for include previous response feature\n",
    "          new_features.append(temp)\n",
    "          count += 1\n",
    "        features = new_features\n",
    "        return ch_label,sub_ch_label,ques_name,features, shifted_target, target"
   ]
  },
  {
   "cell_type": "code",
   "execution_count": 31,
   "metadata": {
    "execution": {
     "iopub.execute_input": "2021-08-08T14:09:48.894609Z",
     "iopub.status.busy": "2021-08-08T14:09:48.893925Z",
     "iopub.status.idle": "2021-08-08T14:09:48.898766Z",
     "shell.execute_reply": "2021-08-08T14:09:48.899398Z",
     "shell.execute_reply.started": "2021-08-06T21:04:54.917448Z"
    },
    "papermill": {
     "duration": 0.368708,
     "end_time": "2021-08-08T14:09:48.899582",
     "exception": false,
     "start_time": "2021-08-08T14:09:48.530874",
     "status": "completed"
    },
    "tags": []
   },
   "outputs": [
    {
     "data": {
      "text/plain": [
       "223"
      ]
     },
     "execution_count": 31,
     "metadata": {},
     "output_type": "execute_result"
    }
   ],
   "source": [
    "SUB_CHAPTER_SIZE"
   ]
  },
  {
   "cell_type": "markdown",
   "metadata": {
    "id": "4xc90-aLzxat",
    "papermill": {
     "duration": 0.360006,
     "end_time": "2021-08-08T14:09:49.620424",
     "exception": false,
     "start_time": "2021-08-08T14:09:49.260418",
     "status": "completed"
    },
    "tags": []
   },
   "source": [
    "## KFOLD - RNN\n"
   ]
  },
  {
   "cell_type": "code",
   "execution_count": 32,
   "metadata": {
    "execution": {
     "iopub.execute_input": "2021-08-08T14:09:50.343491Z",
     "iopub.status.busy": "2021-08-08T14:09:50.342661Z",
     "iopub.status.idle": "2021-08-08T14:18:32.661382Z",
     "shell.execute_reply": "2021-08-08T14:18:32.661905Z",
     "shell.execute_reply.started": "2021-08-06T21:04:56.750188Z"
    },
    "id": "gzJrljnjzypP",
    "outputId": "87abe488-b493-4f8f-9d71-45cb1d2ddf51",
    "papermill": {
     "duration": 522.683057,
     "end_time": "2021-08-08T14:18:32.662113",
     "exception": false,
     "start_time": "2021-08-08T14:09:49.979056",
     "status": "completed"
    },
    "tags": []
   },
   "outputs": [
    {
     "name": "stdout",
     "output_type": "stream",
     "text": [
      "Epoch 1/100\n",
      "14/14 [==============================] - 12s 543ms/step - loss: 0.5841 - masked_acc: 0.5594 - masked_auc: 0.5382 - val_loss: 0.4807 - val_masked_acc: 0.7023 - val_masked_auc: 0.6765\n",
      "Epoch 2/100\n",
      "14/14 [==============================] - 6s 425ms/step - loss: 0.4524 - masked_acc: 0.7161 - masked_auc: 0.7084 - val_loss: 0.4601 - val_masked_acc: 0.7353 - val_masked_auc: 0.7489\n",
      "Epoch 3/100\n",
      "14/14 [==============================] - 6s 447ms/step - loss: 0.4465 - masked_acc: 0.7390 - masked_auc: 0.7576 - val_loss: 0.4541 - val_masked_acc: 0.7480 - val_masked_auc: 0.7744\n",
      "Epoch 4/100\n",
      "14/14 [==============================] - 6s 435ms/step - loss: 0.4343 - masked_acc: 0.7500 - masked_auc: 0.7788 - val_loss: 0.4575 - val_masked_acc: 0.7546 - val_masked_auc: 0.7870\n",
      "Epoch 5/100\n",
      "14/14 [==============================] - 6s 423ms/step - loss: 0.4246 - masked_acc: 0.7560 - masked_auc: 0.7897 - val_loss: 0.4547 - val_masked_acc: 0.7587 - val_masked_auc: 0.7949\n",
      "Epoch 6/100\n",
      "14/14 [==============================] - 6s 423ms/step - loss: 0.4270 - masked_acc: 0.7595 - masked_auc: 0.7967 - val_loss: 0.4541 - val_masked_acc: 0.7617 - val_masked_auc: 0.8005\n",
      "Epoch 7/100\n",
      "14/14 [==============================] - 6s 430ms/step - loss: 0.4206 - masked_acc: 0.7626 - masked_auc: 0.8022 - val_loss: 0.4526 - val_masked_acc: 0.7640 - val_masked_auc: 0.8049\n",
      "Epoch 8/100\n",
      "14/14 [==============================] - 6s 446ms/step - loss: 0.4218 - masked_acc: 0.7644 - masked_auc: 0.8060 - val_loss: 0.4604 - val_masked_acc: 0.7658 - val_masked_auc: 0.8085\n",
      "Epoch 9/100\n",
      "14/14 [==============================] - 6s 455ms/step - loss: 0.4217 - masked_acc: 0.7662 - masked_auc: 0.8094 - val_loss: 0.4558 - val_masked_acc: 0.7673 - val_masked_auc: 0.8113\n",
      "Epoch 10/100\n",
      "14/14 [==============================] - 6s 426ms/step - loss: 0.4228 - masked_acc: 0.7674 - masked_auc: 0.8121 - val_loss: 0.4543 - val_masked_acc: 0.7687 - val_masked_auc: 0.8141\n",
      "Epoch 11/100\n",
      "14/14 [==============================] - 6s 421ms/step - loss: 0.4016 - masked_acc: 0.7692 - masked_auc: 0.8151 - val_loss: 0.4558 - val_masked_acc: 0.7700 - val_masked_auc: 0.8168\n",
      "Epoch 12/100\n",
      "14/14 [==============================] - 6s 422ms/step - loss: 0.4060 - masked_acc: 0.7703 - masked_auc: 0.8176 - val_loss: 0.4581 - val_masked_acc: 0.7712 - val_masked_auc: 0.8192\n",
      "Epoch 13/100\n",
      "14/14 [==============================] - 6s 414ms/step - loss: 0.3967 - masked_acc: 0.7715 - masked_auc: 0.8200 - val_loss: 0.4569 - val_masked_acc: 0.7722 - val_masked_auc: 0.8215\n",
      "Epoch 14/100\n",
      "14/14 [==============================] - 6s 453ms/step - loss: 0.4040 - masked_acc: 0.7726 - masked_auc: 0.8221 - val_loss: 0.4594 - val_masked_acc: 0.7733 - val_masked_auc: 0.8234\n",
      "Epoch 15/100\n",
      "14/14 [==============================] - 6s 417ms/step - loss: 0.4027 - masked_acc: 0.7735 - masked_auc: 0.8239 - val_loss: 0.4629 - val_masked_acc: 0.7742 - val_masked_auc: 0.8253\n",
      "Epoch 16/100\n",
      "14/14 [==============================] - 6s 419ms/step - loss: 0.3937 - masked_acc: 0.7745 - masked_auc: 0.8259 - val_loss: 0.4617 - val_masked_acc: 0.7752 - val_masked_auc: 0.8271\n",
      "Epoch 17/100\n",
      "14/14 [==============================] - 6s 421ms/step - loss: 0.3856 - masked_acc: 0.7756 - masked_auc: 0.8278 - val_loss: 0.4691 - val_masked_acc: 0.7763 - val_masked_auc: 0.8291\n",
      "28/28 [==============================] - 2s 78ms/step - loss: 0.3799 - masked_acc: 0.7772 - masked_auc: 0.8305\n",
      "4/4 [==============================] - 0s 69ms/step - loss: 0.4588 - masked_acc: 0.7774 - masked_auc: 0.8311\n",
      "Test:  [0.45875513553619385, 0.7774397134780884, 0.8311370611190796]\n",
      "Epoch 1/100\n",
      "14/14 [==============================] - 11s 559ms/step - loss: 0.6016 - masked_acc: 0.5552 - masked_auc: 0.5203 - val_loss: 0.4865 - val_masked_acc: 0.6859 - val_masked_auc: 0.6342\n",
      "Epoch 2/100\n",
      "14/14 [==============================] - 6s 433ms/step - loss: 0.4722 - masked_acc: 0.6908 - masked_auc: 0.6735 - val_loss: 0.4591 - val_masked_acc: 0.7095 - val_masked_auc: 0.7244\n",
      "Epoch 3/100\n",
      "14/14 [==============================] - 6s 437ms/step - loss: 0.4487 - masked_acc: 0.7162 - masked_auc: 0.7368 - val_loss: 0.4452 - val_masked_acc: 0.7293 - val_masked_auc: 0.7573\n",
      "Epoch 4/100\n",
      "14/14 [==============================] - 6s 424ms/step - loss: 0.4402 - masked_acc: 0.7329 - masked_auc: 0.7634 - val_loss: 0.4403 - val_masked_acc: 0.7402 - val_masked_auc: 0.7750\n",
      "Epoch 5/100\n",
      "14/14 [==============================] - 6s 426ms/step - loss: 0.4287 - masked_acc: 0.7425 - masked_auc: 0.7791 - val_loss: 0.4455 - val_masked_acc: 0.7473 - val_masked_auc: 0.7865\n",
      "Epoch 6/100\n",
      "14/14 [==============================] - 7s 474ms/step - loss: 0.4282 - masked_acc: 0.7487 - masked_auc: 0.7890 - val_loss: 0.4404 - val_masked_acc: 0.7522 - val_masked_auc: 0.7941\n",
      "Epoch 7/100\n",
      "14/14 [==============================] - 6s 434ms/step - loss: 0.4198 - masked_acc: 0.7535 - masked_auc: 0.7962 - val_loss: 0.4454 - val_masked_acc: 0.7559 - val_masked_auc: 0.8001\n",
      "Epoch 8/100\n",
      "14/14 [==============================] - 6s 431ms/step - loss: 0.4174 - masked_acc: 0.7568 - masked_auc: 0.8018 - val_loss: 0.4438 - val_masked_acc: 0.7589 - val_masked_auc: 0.8048\n",
      "Epoch 9/100\n",
      "14/14 [==============================] - 6s 427ms/step - loss: 0.4210 - masked_acc: 0.7595 - masked_auc: 0.8062 - val_loss: 0.4436 - val_masked_acc: 0.7613 - val_masked_auc: 0.8089\n",
      "Epoch 10/100\n",
      "14/14 [==============================] - 6s 431ms/step - loss: 0.4123 - masked_acc: 0.7619 - masked_auc: 0.8101 - val_loss: 0.4495 - val_masked_acc: 0.7633 - val_masked_auc: 0.8122\n",
      "Epoch 11/100\n",
      "14/14 [==============================] - 6s 448ms/step - loss: 0.3984 - masked_acc: 0.7640 - masked_auc: 0.8132 - val_loss: 0.4547 - val_masked_acc: 0.7651 - val_masked_auc: 0.8152\n",
      "Epoch 12/100\n",
      "14/14 [==============================] - 6s 456ms/step - loss: 0.3981 - masked_acc: 0.7657 - masked_auc: 0.8163 - val_loss: 0.4478 - val_masked_acc: 0.7668 - val_masked_auc: 0.8182\n",
      "Epoch 13/100\n",
      "14/14 [==============================] - 6s 431ms/step - loss: 0.3991 - masked_acc: 0.7673 - masked_auc: 0.8191 - val_loss: 0.4543 - val_masked_acc: 0.7684 - val_masked_auc: 0.8210\n",
      "Epoch 14/100\n",
      "14/14 [==============================] - 6s 425ms/step - loss: 0.3971 - masked_acc: 0.7688 - masked_auc: 0.8218 - val_loss: 0.4534 - val_masked_acc: 0.7698 - val_masked_auc: 0.8235\n",
      "28/28 [==============================] - 2s 75ms/step - loss: 0.3910 - masked_acc: 0.7709 - masked_auc: 0.8251\n",
      "4/4 [==============================] - 0s 66ms/step - loss: 0.4502 - masked_acc: 0.7712 - masked_auc: 0.8259\n",
      "Test:  [0.45019635558128357, 0.7712083458900452, 0.8258839845657349]\n",
      "Epoch 1/100\n",
      "14/14 [==============================] - 12s 539ms/step - loss: 0.5942 - masked_acc: 0.6275 - masked_auc: 0.5230 - val_loss: 0.4824 - val_masked_acc: 0.7069 - val_masked_auc: 0.6504\n",
      "Epoch 2/100\n",
      "14/14 [==============================] - 6s 432ms/step - loss: 0.4760 - masked_acc: 0.7163 - masked_auc: 0.6858 - val_loss: 0.4499 - val_masked_acc: 0.7342 - val_masked_auc: 0.7341\n",
      "Epoch 3/100\n",
      "14/14 [==============================] - 6s 430ms/step - loss: 0.4455 - masked_acc: 0.7388 - masked_auc: 0.7460 - val_loss: 0.4422 - val_masked_acc: 0.7470 - val_masked_auc: 0.7644\n",
      "Epoch 4/100\n",
      "14/14 [==============================] - 6s 429ms/step - loss: 0.4360 - masked_acc: 0.7491 - masked_auc: 0.7702 - val_loss: 0.4413 - val_masked_acc: 0.7541 - val_masked_auc: 0.7805\n",
      "Epoch 5/100\n",
      "14/14 [==============================] - 6s 437ms/step - loss: 0.4236 - masked_acc: 0.7556 - masked_auc: 0.7842 - val_loss: 0.4411 - val_masked_acc: 0.7587 - val_masked_auc: 0.7909\n",
      "Epoch 6/100\n",
      "14/14 [==============================] - 6s 440ms/step - loss: 0.4285 - masked_acc: 0.7598 - masked_auc: 0.7935 - val_loss: 0.4402 - val_masked_acc: 0.7620 - val_masked_auc: 0.7980\n",
      "Epoch 7/100\n",
      "14/14 [==============================] - 7s 470ms/step - loss: 0.4200 - masked_acc: 0.7627 - masked_auc: 0.8001 - val_loss: 0.4432 - val_masked_acc: 0.7646 - val_masked_auc: 0.8037\n",
      "Epoch 8/100\n",
      "14/14 [==============================] - 6s 433ms/step - loss: 0.4157 - masked_acc: 0.7652 - masked_auc: 0.8052 - val_loss: 0.4404 - val_masked_acc: 0.7667 - val_masked_auc: 0.8083\n",
      "Epoch 9/100\n",
      "14/14 [==============================] - 6s 426ms/step - loss: 0.4071 - masked_acc: 0.7673 - masked_auc: 0.8098 - val_loss: 0.4466 - val_masked_acc: 0.7686 - val_masked_auc: 0.8125\n",
      "Epoch 10/100\n",
      "14/14 [==============================] - 6s 429ms/step - loss: 0.4076 - masked_acc: 0.7691 - masked_auc: 0.8137 - val_loss: 0.4454 - val_masked_acc: 0.7702 - val_masked_auc: 0.8157\n",
      "Epoch 11/100\n",
      "14/14 [==============================] - 6s 440ms/step - loss: 0.4078 - masked_acc: 0.7706 - masked_auc: 0.8166 - val_loss: 0.4550 - val_masked_acc: 0.7714 - val_masked_auc: 0.8182\n",
      "Epoch 12/100\n",
      "14/14 [==============================] - 6s 450ms/step - loss: 0.4082 - masked_acc: 0.7717 - masked_auc: 0.8190 - val_loss: 0.4482 - val_masked_acc: 0.7726 - val_masked_auc: 0.8206\n",
      "Epoch 13/100\n",
      "14/14 [==============================] - 6s 422ms/step - loss: 0.3936 - masked_acc: 0.7730 - masked_auc: 0.8216 - val_loss: 0.4541 - val_masked_acc: 0.7739 - val_masked_auc: 0.8233\n",
      "Epoch 14/100\n",
      "14/14 [==============================] - 6s 426ms/step - loss: 0.3905 - masked_acc: 0.7742 - masked_auc: 0.8241 - val_loss: 0.4530 - val_masked_acc: 0.7752 - val_masked_auc: 0.8260\n",
      "Epoch 15/100\n",
      "14/14 [==============================] - 6s 429ms/step - loss: 0.3809 - masked_acc: 0.7757 - masked_auc: 0.8269 - val_loss: 0.4600 - val_masked_acc: 0.7765 - val_masked_auc: 0.8285\n",
      "Epoch 16/100\n",
      "14/14 [==============================] - 6s 448ms/step - loss: 0.3908 - masked_acc: 0.7768 - masked_auc: 0.8292 - val_loss: 0.4517 - val_masked_acc: 0.7772 - val_masked_auc: 0.8296\n",
      "28/28 [==============================] - 2s 76ms/step - loss: 0.4112 - masked_acc: 0.7777 - masked_auc: 0.8302\n",
      "4/4 [==============================] - 0s 68ms/step - loss: 0.4448 - masked_acc: 0.7776 - masked_auc: 0.8303\n",
      "Test:  [0.4447540044784546, 0.7776035070419312, 0.8303454518318176]\n",
      "Epoch 1/100\n",
      "14/14 [==============================] - 11s 512ms/step - loss: 0.5953 - masked_acc: 0.5864 - masked_auc: 0.5240 - val_loss: 0.4706 - val_masked_acc: 0.6964 - val_masked_auc: 0.6480\n",
      "Epoch 2/100\n",
      "14/14 [==============================] - 6s 449ms/step - loss: 0.4680 - masked_acc: 0.7068 - masked_auc: 0.6831 - val_loss: 0.4454 - val_masked_acc: 0.7280 - val_masked_auc: 0.7352\n",
      "Epoch 3/100\n",
      "14/14 [==============================] - 6s 460ms/step - loss: 0.4471 - masked_acc: 0.7328 - masked_auc: 0.7463 - val_loss: 0.4433 - val_masked_acc: 0.7427 - val_masked_auc: 0.7649\n",
      "Epoch 4/100\n",
      "14/14 [==============================] - 6s 430ms/step - loss: 0.4413 - masked_acc: 0.7448 - masked_auc: 0.7706 - val_loss: 0.4403 - val_masked_acc: 0.7507 - val_masked_auc: 0.7808\n",
      "Epoch 5/100\n",
      "14/14 [==============================] - 6s 434ms/step - loss: 0.4266 - masked_acc: 0.7522 - masked_auc: 0.7840 - val_loss: 0.4391 - val_masked_acc: 0.7560 - val_masked_auc: 0.7908\n",
      "Epoch 6/100\n",
      "14/14 [==============================] - 6s 462ms/step - loss: 0.4231 - masked_acc: 0.7571 - masked_auc: 0.7933 - val_loss: 0.4394 - val_masked_acc: 0.7597 - val_masked_auc: 0.7982\n",
      "Epoch 7/100\n",
      "14/14 [==============================] - 6s 428ms/step - loss: 0.4228 - masked_acc: 0.7604 - masked_auc: 0.8001 - val_loss: 0.4457 - val_masked_acc: 0.7625 - val_masked_auc: 0.8035\n",
      "Epoch 8/100\n",
      "14/14 [==============================] - 6s 439ms/step - loss: 0.4187 - masked_acc: 0.7631 - masked_auc: 0.8048 - val_loss: 0.4486 - val_masked_acc: 0.7645 - val_masked_auc: 0.8074\n",
      "Epoch 9/100\n",
      "14/14 [==============================] - 6s 431ms/step - loss: 0.4162 - masked_acc: 0.7650 - masked_auc: 0.8086 - val_loss: 0.4459 - val_masked_acc: 0.7663 - val_masked_auc: 0.8110\n",
      "Epoch 10/100\n",
      "14/14 [==============================] - 6s 432ms/step - loss: 0.4054 - masked_acc: 0.7668 - masked_auc: 0.8121 - val_loss: 0.4448 - val_masked_acc: 0.7680 - val_masked_auc: 0.8144\n",
      "Epoch 11/100\n",
      "14/14 [==============================] - 6s 428ms/step - loss: 0.4028 - masked_acc: 0.7684 - masked_auc: 0.8155 - val_loss: 0.4509 - val_masked_acc: 0.7695 - val_masked_auc: 0.8175\n",
      "Epoch 12/100\n",
      "14/14 [==============================] - 6s 432ms/step - loss: 0.4016 - masked_acc: 0.7699 - masked_auc: 0.8185 - val_loss: 0.4474 - val_masked_acc: 0.7708 - val_masked_auc: 0.8203\n",
      "Epoch 13/100\n",
      "14/14 [==============================] - 6s 430ms/step - loss: 0.3979 - masked_acc: 0.7712 - masked_auc: 0.8211 - val_loss: 0.4635 - val_masked_acc: 0.7722 - val_masked_auc: 0.8228\n",
      "Epoch 14/100\n",
      "14/14 [==============================] - 6s 452ms/step - loss: 0.3862 - masked_acc: 0.7726 - masked_auc: 0.8237 - val_loss: 0.4644 - val_masked_acc: 0.7735 - val_masked_auc: 0.8255\n",
      "Epoch 15/100\n",
      "14/14 [==============================] - 6s 428ms/step - loss: 0.3828 - masked_acc: 0.7740 - masked_auc: 0.8263 - val_loss: 0.4674 - val_masked_acc: 0.7749 - val_masked_auc: 0.8281\n",
      "28/28 [==============================] - 2s 75ms/step - loss: 0.3773 - masked_acc: 0.7760 - masked_auc: 0.8297\n",
      "4/4 [==============================] - 0s 68ms/step - loss: 0.4556 - masked_acc: 0.7763 - masked_auc: 0.8307\n",
      "Test:  [0.45557281374931335, 0.7763495445251465, 0.8307496309280396]\n",
      "Epoch 1/100\n",
      "14/14 [==============================] - 11s 518ms/step - loss: 0.6036 - masked_acc: 0.6432 - masked_auc: 0.5245 - val_loss: 0.5063 - val_masked_acc: 0.7075 - val_masked_auc: 0.6300\n",
      "Epoch 2/100\n",
      "14/14 [==============================] - 6s 465ms/step - loss: 0.4716 - masked_acc: 0.7157 - masked_auc: 0.6683 - val_loss: 0.4645 - val_masked_acc: 0.7332 - val_masked_auc: 0.7244\n",
      "Epoch 3/100\n",
      "14/14 [==============================] - 6s 430ms/step - loss: 0.4416 - masked_acc: 0.7378 - masked_auc: 0.7376 - val_loss: 0.4584 - val_masked_acc: 0.7460 - val_masked_auc: 0.7578\n",
      "Epoch 4/100\n",
      "14/14 [==============================] - 6s 433ms/step - loss: 0.4346 - masked_acc: 0.7482 - masked_auc: 0.7638 - val_loss: 0.4558 - val_masked_acc: 0.7529 - val_masked_auc: 0.7754\n",
      "Epoch 5/100\n",
      "14/14 [==============================] - 6s 438ms/step - loss: 0.4251 - masked_acc: 0.7543 - masked_auc: 0.7793 - val_loss: 0.4524 - val_masked_acc: 0.7576 - val_masked_auc: 0.7869\n",
      "Epoch 6/100\n",
      "14/14 [==============================] - 6s 426ms/step - loss: 0.4186 - masked_acc: 0.7587 - masked_auc: 0.7897 - val_loss: 0.4532 - val_masked_acc: 0.7609 - val_masked_auc: 0.7947\n",
      "Epoch 7/100\n",
      "14/14 [==============================] - 6s 458ms/step - loss: 0.4190 - masked_acc: 0.7617 - masked_auc: 0.7967 - val_loss: 0.4585 - val_masked_acc: 0.7633 - val_masked_auc: 0.8005\n",
      "Epoch 8/100\n",
      "14/14 [==============================] - 6s 455ms/step - loss: 0.4145 - masked_acc: 0.7639 - masked_auc: 0.8020 - val_loss: 0.4565 - val_masked_acc: 0.7654 - val_masked_auc: 0.8052\n",
      "Epoch 9/100\n",
      "14/14 [==============================] - 6s 416ms/step - loss: 0.4149 - masked_acc: 0.7658 - masked_auc: 0.8065 - val_loss: 0.4613 - val_masked_acc: 0.7670 - val_masked_auc: 0.8089\n",
      "Epoch 10/100\n",
      "14/14 [==============================] - 6s 429ms/step - loss: 0.4125 - masked_acc: 0.7674 - masked_auc: 0.8101 - val_loss: 0.4633 - val_masked_acc: 0.7685 - val_masked_auc: 0.8123\n",
      "Epoch 11/100\n",
      "14/14 [==============================] - 6s 420ms/step - loss: 0.4060 - masked_acc: 0.7689 - masked_auc: 0.8135 - val_loss: 0.4704 - val_masked_acc: 0.7699 - val_masked_auc: 0.8155\n",
      "Epoch 12/100\n",
      "14/14 [==============================] - 6s 459ms/step - loss: 0.3892 - masked_acc: 0.7703 - masked_auc: 0.8166 - val_loss: 0.4616 - val_masked_acc: 0.7712 - val_masked_auc: 0.8184\n",
      "Epoch 13/100\n",
      "14/14 [==============================] - 6s 416ms/step - loss: 0.3965 - masked_acc: 0.7716 - masked_auc: 0.8194 - val_loss: 0.4711 - val_masked_acc: 0.7724 - val_masked_auc: 0.8210\n",
      "Epoch 14/100\n",
      "14/14 [==============================] - 6s 459ms/step - loss: 0.3984 - masked_acc: 0.7727 - masked_auc: 0.8217 - val_loss: 0.4675 - val_masked_acc: 0.7736 - val_masked_auc: 0.8234\n",
      "Epoch 15/100\n",
      "14/14 [==============================] - 6s 429ms/step - loss: 0.3900 - masked_acc: 0.7739 - masked_auc: 0.8242 - val_loss: 0.4661 - val_masked_acc: 0.7747 - val_masked_auc: 0.8258\n",
      "28/28 [==============================] - 2s 75ms/step - loss: 0.3800 - masked_acc: 0.7758 - masked_auc: 0.8275\n",
      "4/4 [==============================] - 0s 68ms/step - loss: 0.4477 - masked_acc: 0.7761 - masked_auc: 0.8284\n",
      "Test:  [0.44765499234199524, 0.7761390209197998, 0.8283960819244385]\n"
     ]
    }
   ],
   "source": [
    "# 5 fold cross validation with RNN-based model\n",
    "import torch\n",
    "X = np.array(grouped_data.keys())\n",
    "kfold = KFold(n_splits=5, shuffle=True)\n",
    "train_losses = list()\n",
    "train_aucs = list()\n",
    "val_losses = list()\n",
    "val_aucs = list()\n",
    "train_eval = list()\n",
    "test_eval = list()\n",
    "for train, test in kfold.split(X):\n",
    "    users_train, users_test =  X[train], X[test]\n",
    "    n = len(users_test)//2\n",
    "    users_test, users_val = users_test[:n], users_test[n: ]\n",
    "    train_data_space = SPACE_DATASET(grouped_data[users_train], MAXLENGTH)\n",
    "    val_data_space = SPACE_DATASET(grouped_data[users_val], MAXLENGTH)\n",
    "    test_data_space = SPACE_DATASET(grouped_data[users_test], MAXLENGTH)\n",
    "    #construct training input\n",
    "    train_chapter=[]\n",
    "    train_sub_chapter=[]\n",
    "    train_question = []\n",
    "    train_features=[]\n",
    "    #train_shifted_t = []\n",
    "    train_labels=[]\n",
    "    for i in range(len(users_train)):\n",
    "        user = train_data_space.__getitem__(i)\n",
    "        train_chapter.append(user[0])\n",
    "        train_sub_chapter.append(user[1]) \n",
    "        train_question.append(user[2])\n",
    "        train_features.append(user[3])\n",
    "        #train_shifted_t.append(user[4])\n",
    "        train_labels.append(user[5])\n",
    "    train_chapter = np.array(train_chapter)\n",
    "    train_sub_chapter = np.array(train_sub_chapter)\n",
    "    train_question = np.array(train_question)\n",
    "    train_features = np.array(train_features)\n",
    "    #train_shifted_t = np.array(train_shifted_t)\n",
    "    train_labels= np.array(train_labels)[..., np.newaxis]\n",
    "\n",
    "    #construct validation input\n",
    "    val_chapter=[]\n",
    "    val_sub_chapter=[]\n",
    "    val_question = []\n",
    "    val_features=[]\n",
    "    #val_shifted_t = []\n",
    "    val_labels=[]\n",
    "    for i in range(len(users_val)):\n",
    "        user = val_data_space.__getitem__(i)\n",
    "        val_chapter.append(user[0])\n",
    "        val_sub_chapter.append(user[1]) \n",
    "        val_question.append(user[2])\n",
    "        val_features.append(user[3])\n",
    "        #val_shifted_t.append(user[4])\n",
    "        val_labels.append(user[5])\n",
    "    val_chapter = np.array(val_chapter)\n",
    "    val_sub_chapter = np.array(val_sub_chapter)\n",
    "    val_features = np.array(val_features)\n",
    "    val_question = np.array(val_question)\n",
    "    #val_shifted_t = np.array(val_shifted_t)\n",
    "    val_labels= np.array(val_labels)[..., np.newaxis]\n",
    "\n",
    "    # construct test input\n",
    "    test_chapter=[]\n",
    "    test_sub_chapter=[]\n",
    "    test_features=[]\n",
    "    test_question=[]\n",
    "    #test_shifted_t = []\n",
    "    test_labels=[]\n",
    "    for i in range(len(users_test)):\n",
    "        user = test_data_space.__getitem__(i)\n",
    "        test_chapter.append(user[0])\n",
    "        test_sub_chapter.append(user[1]) \n",
    "        test_question.append(user[2])\n",
    "        test_features.append(user[3])\n",
    "        #test_shifted_t.append(user[4])\n",
    "        test_labels.append(user[5])\n",
    "    test_chapter = np.array(test_chapter)\n",
    "    test_sub_chapter = np.array(test_sub_chapter)\n",
    "    test_features = np.array(test_features)\n",
    "    test_question = np.array(test_question)\n",
    "    #test_shifted_t = np.array(test_shifted_t)\n",
    "    test_labels= np.array(test_labels)[..., np.newaxis]\n",
    "\n",
    "    # define loss function and evaluation metrics\n",
    "    bce = tf.keras.losses.BinaryCrossentropy(from_logits=True)\n",
    "    acc = tf.keras.metrics.Accuracy()\n",
    "    auc = tf.keras.metrics.AUC()\n",
    "\n",
    "    def masked_bce(y_true, y_pred):\n",
    "      flat_pred = y_pred\n",
    "      flat_ground_truth = y_true\n",
    "      label_mask = tf.math.not_equal(flat_ground_truth, -1)\n",
    "      return bce(flat_ground_truth, flat_pred, sample_weight=label_mask)\n",
    "\n",
    "    def masked_acc(y_true, y_pred):\n",
    "      flat_pred = y_pred\n",
    "      flat_ground_truth = y_true\n",
    "      flat_pred = (flat_pred >= 0.5)\n",
    "      label_mask = tf.math.not_equal(flat_ground_truth, -1)\n",
    "      return acc(flat_ground_truth, flat_pred, sample_weight=label_mask)\n",
    "\n",
    "    def masked_auc(y_true, y_pred):\n",
    "      flat_pred = y_pred\n",
    "      flat_ground_truth = y_true\n",
    "      label_mask = tf.math.not_equal(flat_ground_truth, -1)\n",
    "      return auc(flat_ground_truth, flat_pred, sample_weight=label_mask)\n",
    "\n",
    "    # input layer\n",
    "    input_chap = tf.keras.Input(shape=(MAXLENGTH))\n",
    "    input_sub_chap = tf.keras.Input(shape=(MAXLENGTH))\n",
    "    input_ques =  tf.keras.Input(shape=(MAXLENGTH))\n",
    "    #input_shifted = tf.keras.Input(shape=(MAXLENGTH))\n",
    "    input_features = tf.keras.Input(shape=(MAXLENGTH, FEATURES_SIZE))\n",
    "\n",
    "    # embedding layer for categorical features\n",
    "    embedding_chap = Embedding(input_dim = CHAPTER_SIZE, output_dim = EMBEDDING_DIM)(input_chap)\n",
    "    embedding_sub_chap = Embedding(input_dim = SUB_CHAPTER_SIZE, output_dim = EMBEDDING_DIM)(input_sub_chap) \n",
    "    embedding_ques = Embedding(input_dim = QUESTION_SIZE, output_dim = EMBEDDING_DIM)(input_ques)       \n",
    "    #embedding_shifted = Embedding(input_dim = 3, output_dim = EMBEDDING_DIM)(input_shifted)\n",
    "    # dense layer for numeric features\n",
    "    dense_features = Dense(EMBEDDING_DIM,input_shape = (None, MAXLENGTH))(input_features)\n",
    "\n",
    "    # definr RNN layers\n",
    "    RNN_chap = RNN(RNN_NEURON, input_shape = (None, EMBEDDING_DIM),return_sequences = True)(embedding_chap)\n",
    "    RNN_sub_chap = RNN(RNN_NEURON, input_shape = (None, EMBEDDING_DIM),return_sequences = True)(embedding_sub_chap)\n",
    "    RNN_ques = RNN(RNN_NEURON, input_shape = (None, EMBEDDING_DIM),return_sequences = True)(embedding_ques)\n",
    "    #RNN_shif = RNN(RNN_NEURON, input_shape = (None, EMBEDDING_DIM),return_sequences = True)(embedding_shifted)\n",
    "    RNN_features = RNN(RNN_NEURON, input_shape = (None, EMBEDDING_DIM),return_sequences = True)(dense_features)\n",
    "\n",
    "    RNN_output = tf.concat([RNN_chap, RNN_sub_chap, RNN_ques, RNN_features], axis = 2)\n",
    "\n",
    "    dense1 = Dense(256, input_shape = (None, 4*EMBEDDING_DIM), activation='relu')(RNN_output)\n",
    "    dropout1 = Dropout(0.1)(dense1)\n",
    "    dense2 = Dense(64, input_shape = (None, 256), activation='relu')(dropout1)\n",
    "    dropout2 = Dropout(0.1)(dense2)\n",
    "    pred = Dense(1, input_shape = (None, 64), activation='sigmoid')(dropout2)\n",
    "\n",
    "    model = tf.keras.Model(\n",
    "        inputs=[input_chap, input_sub_chap,input_ques, input_features],\n",
    "        outputs=pred,\n",
    "        name='RNN_model'\n",
    "    )\n",
    "\n",
    "    callback = tf.keras.callbacks.EarlyStopping(monitor='val_loss', patience=10)\n",
    "    opt_adam = Adam(learning_rate = 0.005)\n",
    "    model.compile(\n",
    "        optimizer=opt_adam,\n",
    "        loss= masked_bce,\n",
    "        metrics = [masked_acc, masked_auc]\n",
    "    )\n",
    "\n",
    "    history = model.fit(\n",
    "      [train_chapter, train_sub_chapter, train_question, train_features],\n",
    "      train_labels,\n",
    "      batch_size = 64,\n",
    "      epochs = 100,\n",
    "      validation_data=([val_chapter, val_sub_chapter, val_question, val_features], val_labels),\n",
    "      callbacks=[callback]\n",
    "    )\n",
    "    val_losses.append(list(history.history['val_loss']))\n",
    "    train_losses.append(list(history.history['loss']))\n",
    "    val_aucs.append(list(history.history['val_masked_auc']))\n",
    "    train_aucs.append(list(history.history['masked_auc']))\n",
    "    train_score = model.evaluate([train_chapter, train_sub_chapter, train_question, train_features], train_labels)\n",
    "    train_eval.append(train_score)\n",
    "    test_score = model.evaluate([test_chapter, test_sub_chapter, test_question, test_features], test_labels)\n",
    "    test_eval.append(test_score)\n",
    "    print(\"Test: \", test_score)\n",
    "    def reset_weights(model):\n",
    "      for layer in model.layers: \n",
    "        if isinstance(layer, tf.keras.Model):\n",
    "          reset_weights(layer)\n",
    "          continue\n",
    "        for k, initializer in layer.__dict__.items():\n",
    "          if \"initializer\" not in k:\n",
    "            continue\n",
    "          # find the corresponding variable\n",
    "          var = getattr(layer, k.replace(\"_initializer\", \"\"))\n",
    "          var.assign(initializer(var.shape, var.dtype))\n",
    "    reset_weights(model)"
   ]
  },
  {
   "cell_type": "code",
   "execution_count": 33,
   "metadata": {
    "execution": {
     "iopub.execute_input": "2021-08-08T14:18:34.241923Z",
     "iopub.status.busy": "2021-08-08T14:18:34.240861Z",
     "iopub.status.idle": "2021-08-08T14:18:34.246118Z",
     "shell.execute_reply": "2021-08-08T14:18:34.246653Z",
     "shell.execute_reply.started": "2021-08-06T21:22:41.876306Z"
    },
    "id": "QsVmumHMz3lx",
    "outputId": "4ff1e2fa-6abb-458e-c729-495b456f53e5",
    "papermill": {
     "duration": 0.793176,
     "end_time": "2021-08-08T14:18:34.246833",
     "exception": false,
     "start_time": "2021-08-08T14:18:33.453657",
     "status": "completed"
    },
    "tags": []
   },
   "outputs": [
    {
     "name": "stdout",
     "output_type": "stream",
     "text": [
      "test avg loss:  0.4513866603374481 +/- 0.005121574022248987\n",
      "test avg acc:  0.7757480263710022 +/- 0.0023421363531873816\n",
      "test avg auc:  0.829302442073822 +/- 0.0019521983726688901\n"
     ]
    }
   ],
   "source": [
    "t_eval = np.array(test_eval)\n",
    "print(\"test avg loss: \", np.mean(t_eval[:, 0]), \"+/-\" ,np.std(t_eval[:, 0]))\n",
    "print(\"test avg acc: \", np.mean(t_eval[:, 1]),  \"+/-\" ,np.std(t_eval[:, 1]))\n",
    "print(\"test avg auc: \", np.mean(t_eval[:, 2]), \"+/-\" ,np.std(t_eval[:, 2]))"
   ]
  },
  {
   "cell_type": "code",
   "execution_count": 34,
   "metadata": {
    "execution": {
     "iopub.execute_input": "2021-08-08T14:18:35.818395Z",
     "iopub.status.busy": "2021-08-08T14:18:35.817280Z",
     "iopub.status.idle": "2021-08-08T14:18:35.822956Z",
     "shell.execute_reply": "2021-08-08T14:18:35.823753Z",
     "shell.execute_reply.started": "2021-08-06T21:22:41.886927Z"
    },
    "id": "b9MM_CXWz5K6",
    "outputId": "4cf88e1d-3a74-4e7d-f92c-d01522e91757",
    "papermill": {
     "duration": 0.795411,
     "end_time": "2021-08-08T14:18:35.824009",
     "exception": false,
     "start_time": "2021-08-08T14:18:35.028598",
     "status": "completed"
    },
    "tags": []
   },
   "outputs": [
    {
     "name": "stdout",
     "output_type": "stream",
     "text": [
      "train avg loss:  0.38788205981254575 +/- 0.012572793026608698\n",
      "train avg acc:  0.7755226373672486 +/- 0.0024076189324553675\n",
      "train avg auc:  0.8285964608192444 +/- 0.0020454789743449015\n"
     ]
    }
   ],
   "source": [
    "t_eval = np.array(train_eval)\n",
    "print(\"train avg loss: \", np.mean(t_eval[:, 0]), \"+/-\" ,np.std(t_eval[:, 0]))\n",
    "print(\"train avg acc: \", np.mean(t_eval[:, 1]),  \"+/-\" ,np.std(t_eval[:, 1]))\n",
    "print(\"train avg auc: \", np.mean(t_eval[:, 2]), \"+/-\" ,np.std(t_eval[:, 2]))"
   ]
  }
 ],
 "metadata": {
  "kernelspec": {
   "display_name": "Python 3",
   "language": "python",
   "name": "python3"
  },
  "language_info": {
   "codemirror_mode": {
    "name": "ipython",
    "version": 3
   },
   "file_extension": ".py",
   "mimetype": "text/x-python",
   "name": "python",
   "nbconvert_exporter": "python",
   "pygments_lexer": "ipython3",
   "version": "3.8.5"
  },
  "papermill": {
   "default_parameters": {},
   "duration": 952.464668,
   "end_time": "2021-08-08T14:18:38.728053",
   "environment_variables": {},
   "exception": null,
   "input_path": "__notebook__.ipynb",
   "output_path": "__notebook__.ipynb",
   "parameters": {},
   "start_time": "2021-08-08T14:02:46.263385",
   "version": "2.3.3"
  }
 },
 "nbformat": 4,
 "nbformat_minor": 5
}
