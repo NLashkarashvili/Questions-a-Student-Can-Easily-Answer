{
 "cells": [
  {
   "cell_type": "code",
   "execution_count": 1,
   "metadata": {
    "execution": {
     "iopub.execute_input": "2021-08-08T15:32:46.233648Z",
     "iopub.status.busy": "2021-08-08T15:32:46.232942Z",
     "iopub.status.idle": "2021-08-08T15:32:52.753808Z",
     "shell.execute_reply": "2021-08-08T15:32:52.753132Z",
     "shell.execute_reply.started": "2021-08-06T20:53:41.672006Z"
    },
    "id": "farifxiKU1aB",
    "papermill": {
     "duration": 6.569438,
     "end_time": "2021-08-08T15:32:52.753995",
     "exception": false,
     "start_time": "2021-08-08T15:32:46.184557",
     "status": "completed"
    },
    "tags": []
   },
   "outputs": [],
   "source": [
    "import numpy as np\n",
    "import pandas as pd\n",
    "import warnings\n",
    "import gc\n",
    "import tensorflow as tf\n",
    "from tensorflow import keras\n",
    "\n",
    "import random\n",
    "from random import choice\n",
    "from tensorflow.keras.optimizers import Adam\n",
    "from tensorflow.keras.models import Sequential \n",
    "from tensorflow.keras.layers import Dense, Concatenate, Embedding, Flatten, Activation, Dropout\n",
    "from tensorflow.keras.layers import SimpleRNN as RNN\n",
    "from sklearn.model_selection import KFold\n",
    "from tensorflow.python.client import device_lib\n",
    "warnings.filterwarnings('ignore')\n",
    "import random"
   ]
  },
  {
   "cell_type": "code",
   "execution_count": 2,
   "metadata": {
    "execution": {
     "iopub.execute_input": "2021-08-08T15:32:52.821205Z",
     "iopub.status.busy": "2021-08-08T15:32:52.820454Z",
     "iopub.status.idle": "2021-08-08T15:32:52.823552Z",
     "shell.execute_reply": "2021-08-08T15:32:52.822940Z",
     "shell.execute_reply.started": "2021-08-06T20:53:43.985924Z"
    },
    "id": "QOson70GPOXb",
    "papermill": {
     "duration": 0.037413,
     "end_time": "2021-08-08T15:32:52.823715",
     "exception": false,
     "start_time": "2021-08-08T15:32:52.786302",
     "status": "completed"
    },
    "tags": []
   },
   "outputs": [],
   "source": [
    "import gc"
   ]
  },
  {
   "cell_type": "markdown",
   "metadata": {
    "id": "BQsVybBH3VPw",
    "papermill": {
     "duration": 0.03031,
     "end_time": "2021-08-08T15:32:52.884843",
     "exception": false,
     "start_time": "2021-08-08T15:32:52.854533",
     "status": "completed"
    },
    "tags": []
   },
   "source": [
    "## Data Preprocessing"
   ]
  },
  {
   "cell_type": "code",
   "execution_count": 3,
   "metadata": {
    "execution": {
     "iopub.execute_input": "2021-08-08T15:32:52.951543Z",
     "iopub.status.busy": "2021-08-08T15:32:52.950885Z",
     "iopub.status.idle": "2021-08-08T15:32:59.335291Z",
     "shell.execute_reply": "2021-08-08T15:32:59.335936Z",
     "shell.execute_reply.started": "2021-08-06T20:53:43.99311Z"
    },
    "id": "rwtTusGxrmAE",
    "outputId": "1430f3cf-038b-485e-b5c4-c1686b1f34fd",
    "papermill": {
     "duration": 6.420756,
     "end_time": "2021-08-08T15:32:59.336124",
     "exception": false,
     "start_time": "2021-08-08T15:32:52.915368",
     "status": "completed"
    },
    "tags": []
   },
   "outputs": [
    {
     "data": {
      "text/html": [
       "<div>\n",
       "<style scoped>\n",
       "    .dataframe tbody tr th:only-of-type {\n",
       "        vertical-align: middle;\n",
       "    }\n",
       "\n",
       "    .dataframe tbody tr th {\n",
       "        vertical-align: top;\n",
       "    }\n",
       "\n",
       "    .dataframe thead th {\n",
       "        text-align: right;\n",
       "    }\n",
       "</style>\n",
       "<table border=\"1\" class=\"dataframe\">\n",
       "  <thead>\n",
       "    <tr style=\"text-align: right;\">\n",
       "      <th></th>\n",
       "      <th>Unnamed: 0</th>\n",
       "      <th>chapter_label</th>\n",
       "      <th>sub_chapter_label</th>\n",
       "      <th>question_name</th>\n",
       "      <th>user_id.x</th>\n",
       "      <th>term</th>\n",
       "      <th>STDNT_SEX_CD</th>\n",
       "      <th>NonNativeEnglish</th>\n",
       "      <th>White</th>\n",
       "      <th>Asian</th>\n",
       "      <th>...</th>\n",
       "      <th>classGraded</th>\n",
       "      <th>classHonors</th>\n",
       "      <th>Pass_Fail</th>\n",
       "      <th>parentsGraduateEdu</th>\n",
       "      <th>minorityGroup</th>\n",
       "      <th>q</th>\n",
       "      <th>day's_available_flashcards</th>\n",
       "      <th>start_practice</th>\n",
       "      <th>end_practice</th>\n",
       "      <th>days_offset</th>\n",
       "    </tr>\n",
       "  </thead>\n",
       "  <tbody>\n",
       "    <tr>\n",
       "      <th>0</th>\n",
       "      <td>1</td>\n",
       "      <td>Sort</td>\n",
       "      <td>intro-SortingwithSortandSorted</td>\n",
       "      <td>ee_sort_04</td>\n",
       "      <td>148</td>\n",
       "      <td>WN 2018</td>\n",
       "      <td>1</td>\n",
       "      <td>0</td>\n",
       "      <td>1</td>\n",
       "      <td>0</td>\n",
       "      <td>...</td>\n",
       "      <td>1</td>\n",
       "      <td>0</td>\n",
       "      <td>0</td>\n",
       "      <td>0</td>\n",
       "      <td>0</td>\n",
       "      <td>0</td>\n",
       "      <td>18</td>\n",
       "      <td>2018-03-04 20:00:19</td>\n",
       "      <td>2018-03-04 20:00:35</td>\n",
       "      <td>45</td>\n",
       "    </tr>\n",
       "    <tr>\n",
       "      <th>1</th>\n",
       "      <td>2</td>\n",
       "      <td>Functions</td>\n",
       "      <td>Returningavaluefromafunction</td>\n",
       "      <td>test_questionfunctions_2_3</td>\n",
       "      <td>148</td>\n",
       "      <td>WN 2018</td>\n",
       "      <td>1</td>\n",
       "      <td>0</td>\n",
       "      <td>1</td>\n",
       "      <td>0</td>\n",
       "      <td>...</td>\n",
       "      <td>1</td>\n",
       "      <td>0</td>\n",
       "      <td>0</td>\n",
       "      <td>0</td>\n",
       "      <td>0</td>\n",
       "      <td>4</td>\n",
       "      <td>16</td>\n",
       "      <td>2018-02-10 11:57:55</td>\n",
       "      <td>2018-02-10 11:58:35</td>\n",
       "      <td>23</td>\n",
       "    </tr>\n",
       "    <tr>\n",
       "      <th>2</th>\n",
       "      <td>3</td>\n",
       "      <td>RESTAPIs</td>\n",
       "      <td>functionswithrestapis</td>\n",
       "      <td>test_question_functions_rest_apis_1</td>\n",
       "      <td>148</td>\n",
       "      <td>WN 2018</td>\n",
       "      <td>1</td>\n",
       "      <td>0</td>\n",
       "      <td>1</td>\n",
       "      <td>0</td>\n",
       "      <td>...</td>\n",
       "      <td>1</td>\n",
       "      <td>0</td>\n",
       "      <td>0</td>\n",
       "      <td>0</td>\n",
       "      <td>0</td>\n",
       "      <td>1</td>\n",
       "      <td>2</td>\n",
       "      <td>2018-03-12 17:03:07</td>\n",
       "      <td>2018-03-12 17:04:28</td>\n",
       "      <td>53</td>\n",
       "    </tr>\n",
       "    <tr>\n",
       "      <th>3</th>\n",
       "      <td>4</td>\n",
       "      <td>SimplePythonData</td>\n",
       "      <td>FunctionCalls</td>\n",
       "      <td>exercise_functionCalls_1</td>\n",
       "      <td>148</td>\n",
       "      <td>WN 2018</td>\n",
       "      <td>1</td>\n",
       "      <td>0</td>\n",
       "      <td>1</td>\n",
       "      <td>0</td>\n",
       "      <td>...</td>\n",
       "      <td>1</td>\n",
       "      <td>0</td>\n",
       "      <td>0</td>\n",
       "      <td>0</td>\n",
       "      <td>0</td>\n",
       "      <td>0</td>\n",
       "      <td>10</td>\n",
       "      <td>2018-01-30 14:15:49</td>\n",
       "      <td>2018-01-30 14:15:58</td>\n",
       "      <td>12</td>\n",
       "    </tr>\n",
       "    <tr>\n",
       "      <th>4</th>\n",
       "      <td>5</td>\n",
       "      <td>DictionaryAccumulation</td>\n",
       "      <td>AccumulatingaMaximumValue</td>\n",
       "      <td>ps_04_07</td>\n",
       "      <td>148</td>\n",
       "      <td>WN 2018</td>\n",
       "      <td>1</td>\n",
       "      <td>0</td>\n",
       "      <td>1</td>\n",
       "      <td>0</td>\n",
       "      <td>...</td>\n",
       "      <td>1</td>\n",
       "      <td>0</td>\n",
       "      <td>0</td>\n",
       "      <td>0</td>\n",
       "      <td>0</td>\n",
       "      <td>0</td>\n",
       "      <td>23</td>\n",
       "      <td>2018-03-03 14:04:17</td>\n",
       "      <td>2018-03-03 14:04:25</td>\n",
       "      <td>44</td>\n",
       "    </tr>\n",
       "  </tbody>\n",
       "</table>\n",
       "<p>5 rows × 48 columns</p>\n",
       "</div>"
      ],
      "text/plain": [
       "   Unnamed: 0           chapter_label               sub_chapter_label  \\\n",
       "0           1                    Sort  intro-SortingwithSortandSorted   \n",
       "1           2               Functions    Returningavaluefromafunction   \n",
       "2           3                RESTAPIs           functionswithrestapis   \n",
       "3           4        SimplePythonData                   FunctionCalls   \n",
       "4           5  DictionaryAccumulation       AccumulatingaMaximumValue   \n",
       "\n",
       "                         question_name  user_id.x     term  STDNT_SEX_CD  \\\n",
       "0                           ee_sort_04        148  WN 2018             1   \n",
       "1           test_questionfunctions_2_3        148  WN 2018             1   \n",
       "2  test_question_functions_rest_apis_1        148  WN 2018             1   \n",
       "3             exercise_functionCalls_1        148  WN 2018             1   \n",
       "4                             ps_04_07        148  WN 2018             1   \n",
       "\n",
       "   NonNativeEnglish  White  Asian  ...  classGraded  classHonors  Pass_Fail  \\\n",
       "0                 0      1      0  ...            1            0          0   \n",
       "1                 0      1      0  ...            1            0          0   \n",
       "2                 0      1      0  ...            1            0          0   \n",
       "3                 0      1      0  ...            1            0          0   \n",
       "4                 0      1      0  ...            1            0          0   \n",
       "\n",
       "   parentsGraduateEdu  minorityGroup  q  day's_available_flashcards  \\\n",
       "0                   0              0  0                          18   \n",
       "1                   0              0  4                          16   \n",
       "2                   0              0  1                           2   \n",
       "3                   0              0  0                          10   \n",
       "4                   0              0  0                          23   \n",
       "\n",
       "        start_practice         end_practice  days_offset  \n",
       "0  2018-03-04 20:00:19  2018-03-04 20:00:35           45  \n",
       "1  2018-02-10 11:57:55  2018-02-10 11:58:35           23  \n",
       "2  2018-03-12 17:03:07  2018-03-12 17:04:28           53  \n",
       "3  2018-01-30 14:15:49  2018-01-30 14:15:58           12  \n",
       "4  2018-03-03 14:04:17  2018-03-03 14:04:25           44  \n",
       "\n",
       "[5 rows x 48 columns]"
      ]
     },
     "execution_count": 3,
     "metadata": {},
     "output_type": "execute_result"
    }
   ],
   "source": [
    "# load the data\n",
    "import pandas as pd\n",
    "dataframe = pd.read_csv('../input/practice-log-demographics/Practice_Log_Demographics (1).csv', low_memory=False)\n",
    "dataframe.head()"
   ]
  },
  {
   "cell_type": "code",
   "execution_count": 4,
   "metadata": {
    "execution": {
     "iopub.execute_input": "2021-08-08T15:32:59.429496Z",
     "iopub.status.busy": "2021-08-08T15:32:59.428346Z",
     "iopub.status.idle": "2021-08-08T15:32:59.431077Z",
     "shell.execute_reply": "2021-08-08T15:32:59.431716Z",
     "shell.execute_reply.started": "2021-08-06T20:53:49.176565Z"
    },
    "id": "0RvF7BvEr98o",
    "papermill": {
     "duration": 0.048209,
     "end_time": "2021-08-08T15:32:59.431902",
     "exception": false,
     "start_time": "2021-08-08T15:32:59.383693",
     "status": "completed"
    },
    "tags": []
   },
   "outputs": [],
   "source": [
    "FEATURES = ['chapter_label', 'sub_chapter_label','question_name','user_id','term',\n",
    "            'STDNT_SEX_CD', \n",
    "            'NonNativeEnglish',\n",
    "            'White',\n",
    "            'Asian',\n",
    "            'WhiteOrAsian',\n",
    "            'Hispanic',\n",
    "            'AfricanAmerican',\n",
    "            'OtherEthnicities',\n",
    "            'NonWhiteOrAsian',\n",
    "            'STDNT_CTZN_STAT_CD', 'international', \n",
    "            'gradingType',\n",
    "            'birthYear',\n",
    "            'exclClassCumGPA',\n",
    "            'Freshman',\n",
    "            'Junior',\n",
    "            'Sophomore',\n",
    "            'Senior',\n",
    "            'termCreditsGPA',\n",
    "            'termCreditsNoGPA',\n",
    "            'athlete_1',\n",
    "            'honorsPro',\n",
    "            'LSA', 'programBusiness', 'programEngineering', \n",
    "            'programInformation', 'programOther',\n",
    "            'HSCalculusTaken', \n",
    "            'highSchoolGPA', \n",
    "            'majorsCount', 'minorsCount',\n",
    "            'PREV_TERM_CUM_GPA',\n",
    "            'classGraded', 'classHonors', \n",
    "            'Pass_Fail', \n",
    "            'parentsGraduateEdu',  'minorityGroup', \n",
    "            'q',\n",
    "            'available_flashcards', \n",
    "            'start_practice', \n",
    "            'end_practice',\n",
    "            'days_offset']"
   ]
  },
  {
   "cell_type": "code",
   "execution_count": 5,
   "metadata": {
    "execution": {
     "iopub.execute_input": "2021-08-08T15:32:59.501347Z",
     "iopub.status.busy": "2021-08-08T15:32:59.499823Z",
     "iopub.status.idle": "2021-08-08T15:33:00.004413Z",
     "shell.execute_reply": "2021-08-08T15:33:00.003728Z",
     "shell.execute_reply.started": "2021-08-06T20:53:49.185798Z"
    },
    "id": "Mn341X7lSztl",
    "papermill": {
     "duration": 0.538711,
     "end_time": "2021-08-08T15:33:00.004563",
     "exception": false,
     "start_time": "2021-08-08T15:32:59.465852",
     "status": "completed"
    },
    "tags": []
   },
   "outputs": [],
   "source": [
    "dataframe['available_flashcards'] = dataframe[\"day's_available_flashcards\"][:]\n",
    "dataframe = dataframe.drop([\"day's_available_flashcards\"], axis=1)\n",
    "dataframe['user_id'] = dataframe[\"user_id.x\"][:]\n",
    "dataframe = dataframe.drop([\"user_id.x\"], axis=1)"
   ]
  },
  {
   "cell_type": "code",
   "execution_count": 6,
   "metadata": {
    "execution": {
     "iopub.execute_input": "2021-08-08T15:33:00.245508Z",
     "iopub.status.busy": "2021-08-08T15:33:00.244590Z",
     "iopub.status.idle": "2021-08-08T15:33:00.249433Z",
     "shell.execute_reply": "2021-08-08T15:33:00.248701Z",
     "shell.execute_reply.started": "2021-08-06T20:53:49.660082Z"
    },
    "id": "-_BRggOjbBjN",
    "outputId": "42bff7db-08dd-48dc-a73a-d048508053b7",
    "papermill": {
     "duration": 0.212114,
     "end_time": "2021-08-08T15:33:00.249592",
     "exception": false,
     "start_time": "2021-08-08T15:33:00.037478",
     "status": "completed"
    },
    "tags": []
   },
   "outputs": [
    {
     "data": {
      "text/plain": [
       "82"
      ]
     },
     "execution_count": 6,
     "metadata": {},
     "output_type": "execute_result"
    }
   ],
   "source": [
    "gc.collect()"
   ]
  },
  {
   "cell_type": "code",
   "execution_count": 7,
   "metadata": {
    "execution": {
     "iopub.execute_input": "2021-08-08T15:33:00.318835Z",
     "iopub.status.busy": "2021-08-08T15:33:00.317001Z",
     "iopub.status.idle": "2021-08-08T15:33:00.591715Z",
     "shell.execute_reply": "2021-08-08T15:33:00.590893Z",
     "shell.execute_reply.started": "2021-08-06T20:53:49.836831Z"
    },
    "id": "lXM7MlonVeRL",
    "outputId": "d29ccec0-522f-4e3c-e0b2-39b2e1eaef74",
    "papermill": {
     "duration": 0.311736,
     "end_time": "2021-08-08T15:33:00.591877",
     "exception": false,
     "start_time": "2021-08-08T15:33:00.280141",
     "status": "completed"
    },
    "tags": []
   },
   "outputs": [
    {
     "data": {
      "text/plain": [
       "20"
      ]
     },
     "execution_count": 7,
     "metadata": {},
     "output_type": "execute_result"
    }
   ],
   "source": [
    "dataframe = dataframe[FEATURES]\n",
    "gc.collect()"
   ]
  },
  {
   "cell_type": "code",
   "execution_count": 8,
   "metadata": {
    "execution": {
     "iopub.execute_input": "2021-08-08T15:33:01.131013Z",
     "iopub.status.busy": "2021-08-08T15:33:01.129171Z",
     "iopub.status.idle": "2021-08-08T15:33:01.256535Z",
     "shell.execute_reply": "2021-08-08T15:33:01.255798Z",
     "shell.execute_reply.started": "2021-08-06T20:53:50.129501Z"
    },
    "id": "2WAFv5z3A6fK",
    "outputId": "e27abf84-ec3c-4b88-e1fb-927d94b41898",
    "papermill": {
     "duration": 0.632812,
     "end_time": "2021-08-08T15:33:01.256709",
     "exception": false,
     "start_time": "2021-08-08T15:33:00.623897",
     "status": "completed"
    },
    "tags": []
   },
   "outputs": [],
   "source": [
    "dataframe = dataframe.fillna(0)"
   ]
  },
  {
   "cell_type": "code",
   "execution_count": 9,
   "metadata": {
    "execution": {
     "iopub.execute_input": "2021-08-08T15:33:01.340342Z",
     "iopub.status.busy": "2021-08-08T15:33:01.339665Z",
     "iopub.status.idle": "2021-08-08T15:33:02.800778Z",
     "shell.execute_reply": "2021-08-08T15:33:02.800179Z",
     "shell.execute_reply.started": "2021-08-06T20:53:50.733184Z"
    },
    "id": "qRKqF_0IXZgj",
    "papermill": {
     "duration": 1.512482,
     "end_time": "2021-08-08T15:33:02.800970",
     "exception": false,
     "start_time": "2021-08-08T15:33:01.288488",
     "status": "completed"
    },
    "tags": []
   },
   "outputs": [],
   "source": [
    "#label encode term, chapter_label, question_name, sub_chapter_label columns\n",
    "dataframe['term'] = dataframe['term'].astype('category')\n",
    "dataframe['user_id'] = dataframe['user_id'].astype(int)\n",
    "dataframe['user_id'] = dataframe['user_id'].astype(str)\n",
    "dataframe['user_id'] = dataframe['term'].str.cat(dataframe['user_id'], sep=':')\n",
    "dataframe['user_id'] = dataframe['user_id'].astype('category')\n",
    "dataframe['chapter_label'] = dataframe['chapter_label'].astype('category')\n",
    "dataframe['sub_chapter_label'] = dataframe['sub_chapter_label'].astype('category')\n",
    "dataframe['question_name'] = dataframe['question_name'].astype('category')\n"
   ]
  },
  {
   "cell_type": "code",
   "execution_count": 10,
   "metadata": {
    "execution": {
     "iopub.execute_input": "2021-08-08T15:33:02.874175Z",
     "iopub.status.busy": "2021-08-08T15:33:02.872924Z",
     "iopub.status.idle": "2021-08-08T15:33:03.351477Z",
     "shell.execute_reply": "2021-08-08T15:33:03.350791Z",
     "shell.execute_reply.started": "2021-08-06T20:53:52.202336Z"
    },
    "id": "eVl_067GWkDe",
    "papermill": {
     "duration": 0.518039,
     "end_time": "2021-08-08T15:33:03.351783",
     "exception": false,
     "start_time": "2021-08-08T15:33:02.833744",
     "status": "completed"
    },
    "tags": []
   },
   "outputs": [],
   "source": [
    "#calculate time_lag and prev_time_elapsed\n",
    "dataframe['prev_time_elapsed'] = None\n",
    "dataframe['time_lag'] = None\n",
    "dataframe['time_lag'] = dataframe['time_lag'].astype(np.float)\n",
    "dataframe['prev_time_elapsed'] = dataframe['prev_time_elapsed'].astype(np.float)\n",
    "dataframe.start_practice = pd.to_datetime(dataframe.start_practice, format='%Y-%m-%d %H:%M:%S')\n",
    "dataframe.end_practice = pd.to_datetime(dataframe.end_practice, format='%Y-%m-%d %H:%M:%S')"
   ]
  },
  {
   "cell_type": "code",
   "execution_count": 11,
   "metadata": {
    "execution": {
     "iopub.execute_input": "2021-08-08T15:33:03.422924Z",
     "iopub.status.busy": "2021-08-08T15:33:03.422216Z",
     "iopub.status.idle": "2021-08-08T15:33:03.845676Z",
     "shell.execute_reply": "2021-08-08T15:33:03.845049Z",
     "shell.execute_reply.started": "2021-08-06T20:53:52.690519Z"
    },
    "papermill": {
     "duration": 0.460902,
     "end_time": "2021-08-08T15:33:03.845821",
     "exception": false,
     "start_time": "2021-08-08T15:33:03.384919",
     "status": "completed"
    },
    "tags": []
   },
   "outputs": [],
   "source": [
    "#sort data based on timestamp\n",
    "dataframe = dataframe.sort_values(by=['start_practice']).reset_index(drop=True)"
   ]
  },
  {
   "cell_type": "code",
   "execution_count": 12,
   "metadata": {
    "execution": {
     "iopub.execute_input": "2021-08-08T15:33:03.917433Z",
     "iopub.status.busy": "2021-08-08T15:33:03.916720Z",
     "iopub.status.idle": "2021-08-08T15:33:03.955702Z",
     "shell.execute_reply": "2021-08-08T15:33:03.956242Z",
     "shell.execute_reply.started": "2021-08-06T20:53:53.10858Z"
    },
    "papermill": {
     "duration": 0.077741,
     "end_time": "2021-08-08T15:33:03.956419",
     "exception": false,
     "start_time": "2021-08-08T15:33:03.878678",
     "status": "completed"
    },
    "tags": []
   },
   "outputs": [],
   "source": [
    "dataframe['dif'] = dataframe.end_practice - dataframe.start_practice\n",
    "dataframe['dif'] = dataframe['dif'] /np.timedelta64(1, 's')\n",
    "dataframe['answer_correct'] = np.where((dataframe['q']==5) & (dataframe['dif'] <= 60), 1, 0)"
   ]
  },
  {
   "cell_type": "code",
   "execution_count": 13,
   "metadata": {
    "execution": {
     "iopub.execute_input": "2021-08-08T15:33:04.022728Z",
     "iopub.status.busy": "2021-08-08T15:33:04.022082Z",
     "iopub.status.idle": "2021-08-08T15:33:04.035648Z",
     "shell.execute_reply": "2021-08-08T15:33:04.035101Z",
     "shell.execute_reply.started": "2021-08-06T20:53:53.141542Z"
    },
    "papermill": {
     "duration": 0.048072,
     "end_time": "2021-08-08T15:33:04.035806",
     "exception": false,
     "start_time": "2021-08-08T15:33:03.987734",
     "status": "completed"
    },
    "tags": []
   },
   "outputs": [],
   "source": [
    "unique_chapts = dataframe['chapter_label'].unique()"
   ]
  },
  {
   "cell_type": "code",
   "execution_count": 14,
   "metadata": {
    "execution": {
     "iopub.execute_input": "2021-08-08T15:33:04.112649Z",
     "iopub.status.busy": "2021-08-08T15:33:04.111585Z",
     "iopub.status.idle": "2021-08-08T15:39:25.298655Z",
     "shell.execute_reply": "2021-08-08T15:39:25.297804Z",
     "shell.execute_reply.started": "2021-08-06T20:57:57.26281Z"
    },
    "id": "Xrkcn9VhWETm",
    "outputId": "fd73f3de-5f56-42a8-9539-3f3b79a5a6e2",
    "papermill": {
     "duration": 381.230627,
     "end_time": "2021-08-08T15:39:25.298814",
     "exception": false,
     "start_time": "2021-08-08T15:33:04.068187",
     "status": "completed"
    },
    "tags": []
   },
   "outputs": [
    {
     "name": "stderr",
     "output_type": "stream",
     "text": [
      "100%|██████████| 1110/1110 [06:21<00:00,  2.91it/s]\n"
     ]
    }
   ],
   "source": [
    "unique_chapts = dataframe['chapter_label'].unique()\n",
    "from tqdm import tqdm\n",
    "cnt = 0\n",
    "for user in tqdm(dataframe['user_id'].unique()):\n",
    "        for chapter in unique_chapts:\n",
    "            tmp_user = dataframe[(dataframe['user_id']==user) & (dataframe['chapter_label']==chapter)]\n",
    "            #if user doesn't answer any question from the chapter\n",
    "            if len(tmp_user) < 1:\n",
    "                continue\n",
    "            #calculate average elapsed time before the current question\n",
    "            #from its corresponding chapter\n",
    "            tmp_time_elapsed = tmp_user.end_practice - tmp_user.start_practice\n",
    "            tmp_time_elapsed = tmp_time_elapsed / np.timedelta64(1, 's')\n",
    "            tmp_time_elapsed = np.insert(np.array(tmp_time_elapsed[:-1]), 0, 0., axis=0)\n",
    "            tmp_time_elapsed = np.cumsum(tmp_time_elapsed)\n",
    "            indices = tmp_user.index\n",
    "            start_row = indices[0]\n",
    "            dataframe['time_lag'].iloc[start_row] = 0\n",
    "            for_mean = np.arange(len(tmp_user))\n",
    "            for_mean[0] = 1\n",
    "            time_substrahend = tmp_user.start_practice.iloc[:-1]\n",
    "            time_substrahend = time_substrahend.apply(lambda a: a.timestamp())\n",
    "            time_substrahend = np.array(time_substrahend)\n",
    "            \n",
    "            time_minuend = tmp_user.start_practice.iloc[1:]\n",
    "            time_minuend = time_minuend.apply(lambda a: a.timestamp())\n",
    "            time_minuend = np.array(time_minuend)\n",
    "\n",
    "            dataframe['prev_time_elapsed'].iloc[indices] = tmp_time_elapsed/for_mean\n",
    "            #calculate difference between current and last interaction\n",
    "            #from the same chapter\n",
    "            dataframe['time_lag'].iloc[indices[1:]] = time_minuend - time_substrahend\n"
   ]
  },
  {
   "cell_type": "code",
   "execution_count": 15,
   "metadata": {
    "execution": {
     "iopub.execute_input": "2021-08-08T15:39:26.089689Z",
     "iopub.status.busy": "2021-08-08T15:39:26.088768Z",
     "iopub.status.idle": "2021-08-08T15:39:26.128497Z",
     "shell.execute_reply": "2021-08-08T15:39:26.127558Z",
     "shell.execute_reply.started": "2021-08-06T21:04:40.337666Z"
    },
    "id": "8t8yZ0XvWwzz",
    "papermill": {
     "duration": 0.463889,
     "end_time": "2021-08-08T15:39:26.128662",
     "exception": false,
     "start_time": "2021-08-08T15:39:25.664773",
     "status": "completed"
    },
    "tags": []
   },
   "outputs": [],
   "source": [
    "#drop column end_practice\n",
    "dataframe.drop(columns=['end_practice'], inplace=True)"
   ]
  },
  {
   "cell_type": "code",
   "execution_count": 16,
   "metadata": {
    "execution": {
     "iopub.execute_input": "2021-08-08T15:39:26.867157Z",
     "iopub.status.busy": "2021-08-08T15:39:26.866472Z",
     "iopub.status.idle": "2021-08-08T15:39:27.337192Z",
     "shell.execute_reply": "2021-08-08T15:39:27.336602Z",
     "shell.execute_reply.started": "2021-08-06T21:04:41.469601Z"
    },
    "id": "E42raRIrYYXz",
    "papermill": {
     "duration": 0.840562,
     "end_time": "2021-08-08T15:39:27.337345",
     "exception": false,
     "start_time": "2021-08-08T15:39:26.496783",
     "status": "completed"
    },
    "tags": []
   },
   "outputs": [],
   "source": [
    "# calculate the age feature\n",
    "dataframe['term_value'] = [int(ele[3:]) for ele in dataframe['term']]\n",
    "dataframe['age'] = dataframe['term_value'] - dataframe['birthYear']"
   ]
  },
  {
   "cell_type": "code",
   "execution_count": 17,
   "metadata": {
    "execution": {
     "iopub.execute_input": "2021-08-08T15:39:28.113507Z",
     "iopub.status.busy": "2021-08-08T15:39:28.112732Z",
     "iopub.status.idle": "2021-08-08T15:39:28.329073Z",
     "shell.execute_reply": "2021-08-08T15:39:28.328452Z",
     "shell.execute_reply.started": "2021-08-06T21:04:42.216092Z"
    },
    "id": "pcMVQXueYnMh",
    "papermill": {
     "duration": 0.631598,
     "end_time": "2021-08-08T15:39:28.329218",
     "exception": false,
     "start_time": "2021-08-08T15:39:27.697620",
     "status": "completed"
    },
    "tags": []
   },
   "outputs": [],
   "source": [
    "# drop term_value and birthYear column\n",
    "dataframe.drop(columns=['term_value', 'birthYear'], inplace=True)"
   ]
  },
  {
   "cell_type": "code",
   "execution_count": 18,
   "metadata": {
    "execution": {
     "iopub.execute_input": "2021-08-08T15:39:29.073753Z",
     "iopub.status.busy": "2021-08-08T15:39:29.068342Z",
     "iopub.status.idle": "2021-08-08T15:39:29.556573Z",
     "shell.execute_reply": "2021-08-08T15:39:29.556022Z",
     "shell.execute_reply.started": "2021-08-06T21:04:43.101881Z"
    },
    "id": "hjRF5szkcQE0",
    "papermill": {
     "duration": 0.870582,
     "end_time": "2021-08-08T15:39:29.556737",
     "exception": false,
     "start_time": "2021-08-08T15:39:28.686155",
     "status": "completed"
    },
    "tags": []
   },
   "outputs": [],
   "source": [
    "# convert minors_count to int value\n",
    "new_minors_count = []\n",
    "for i in dataframe['minorsCount']:\n",
    "  if i == 0 or i == '0':\n",
    "    new_minors_count.append(0)\n",
    "  elif i == '1 Minor':\n",
    "    new_minors_count.append(1)\n",
    "  else:\n",
    "    new_minors_count.append(2)\n",
    "\n",
    "dataframe['minorsCount'] = new_minors_count"
   ]
  },
  {
   "cell_type": "code",
   "execution_count": 19,
   "metadata": {
    "execution": {
     "iopub.execute_input": "2021-08-08T15:39:30.313478Z",
     "iopub.status.busy": "2021-08-08T15:39:30.312822Z",
     "iopub.status.idle": "2021-08-08T15:39:30.326653Z",
     "shell.execute_reply": "2021-08-08T15:39:30.326127Z",
     "shell.execute_reply.started": "2021-08-06T21:04:44.069999Z"
    },
    "id": "9VdzvJSw0KUU",
    "outputId": "6393784f-234e-4935-9cee-cbcf56b5630a",
    "papermill": {
     "duration": 0.397262,
     "end_time": "2021-08-08T15:39:30.326801",
     "exception": false,
     "start_time": "2021-08-08T15:39:29.929539",
     "status": "completed"
    },
    "tags": []
   },
   "outputs": [
    {
     "name": "stdout",
     "output_type": "stream",
     "text": [
      "we have  1110  users in total.\n"
     ]
    }
   ],
   "source": [
    "print(\"we have \", dataframe['user_id'].nunique(),\" users in total.\")"
   ]
  },
  {
   "cell_type": "code",
   "execution_count": 20,
   "metadata": {
    "execution": {
     "iopub.execute_input": "2021-08-08T15:39:31.066112Z",
     "iopub.status.busy": "2021-08-08T15:39:31.065112Z",
     "iopub.status.idle": "2021-08-08T15:39:31.074512Z",
     "shell.execute_reply": "2021-08-08T15:39:31.075018Z",
     "shell.execute_reply.started": "2021-08-06T21:04:44.884292Z"
    },
    "id": "hUaGk9L9g13t",
    "papermill": {
     "duration": 0.384013,
     "end_time": "2021-08-08T15:39:31.075198",
     "exception": false,
     "start_time": "2021-08-08T15:39:30.691185",
     "status": "completed"
    },
    "tags": []
   },
   "outputs": [],
   "source": [
    "for category in ['term','chapter_label', 'sub_chapter_label', 'question_name']:\n",
    "  dataframe[category] =  dataframe[category].cat.codes"
   ]
  },
  {
   "cell_type": "code",
   "execution_count": 21,
   "metadata": {
    "execution": {
     "iopub.execute_input": "2021-08-08T15:39:31.812523Z",
     "iopub.status.busy": "2021-08-08T15:39:31.811579Z",
     "iopub.status.idle": "2021-08-08T15:39:32.609702Z",
     "shell.execute_reply": "2021-08-08T15:39:32.610254Z",
     "shell.execute_reply.started": "2021-08-06T21:04:45.606317Z"
    },
    "id": "hkyvcYvlhliG",
    "papermill": {
     "duration": 1.164187,
     "end_time": "2021-08-08T15:39:32.610446",
     "exception": false,
     "start_time": "2021-08-08T15:39:31.446259",
     "status": "completed"
    },
    "tags": []
   },
   "outputs": [],
   "source": [
    "NUMERIC_FEATURE =  ['age',\n",
    "            'exclClassCumGPA',\n",
    "            'termCreditsGPA',\n",
    "            'termCreditsNoGPA',\n",
    "            'highSchoolGPA', \n",
    "            'majorsCount', 'minorsCount',\n",
    "            'PREV_TERM_CUM_GPA',\n",
    "            'available_flashcards', \n",
    "            'days_offset', \n",
    "            'prev_time_elapsed',\n",
    "             'time_lag']\n",
    "# z-score normalize the numerical features\n",
    "for f in NUMERIC_FEATURE:\n",
    "  m = dataframe[f].mean()\n",
    "  std = dataframe[f].std()\n",
    "  dataframe[f] = (dataframe[f] - m)/std"
   ]
  },
  {
   "cell_type": "code",
   "execution_count": 22,
   "metadata": {
    "execution": {
     "iopub.execute_input": "2021-08-08T15:39:33.366588Z",
     "iopub.status.busy": "2021-08-08T15:39:33.365889Z",
     "iopub.status.idle": "2021-08-08T15:39:37.036320Z",
     "shell.execute_reply": "2021-08-08T15:39:37.035759Z",
     "shell.execute_reply.started": "2021-08-06T21:04:46.423055Z"
    },
    "id": "wo2OH-d5kWp1",
    "papermill": {
     "duration": 4.055783,
     "end_time": "2021-08-08T15:39:37.036465",
     "exception": false,
     "start_time": "2021-08-08T15:39:32.980682",
     "status": "completed"
    },
    "tags": []
   },
   "outputs": [],
   "source": [
    "FEATURE_TRANS =  ['answer_correct', 'chapter_label', 'sub_chapter_label','question_name','user_id','term',\n",
    "                  'STDNT_SEX_CD', \n",
    "                    'White','Asian','NonWhiteOrAsian',\n",
    "            'STDNT_CTZN_STAT_CD', 'international', \n",
    "            'age',\n",
    "            'exclClassCumGPA',\n",
    "           'Freshman',\n",
    "            'Junior',\n",
    "            'Sophomore',\n",
    "            'Senior',\n",
    "            'termCreditsGPA',\n",
    "            'termCreditsNoGPA',\n",
    "            'athlete_1',\n",
    "            'honorsPro',\n",
    "            'LSA', 'programBusiness', 'programEngineering', \n",
    "            'programInformation', 'programOther',\n",
    "            'HSCalculusTaken', \n",
    "            'highSchoolGPA', \n",
    "            'majorsCount', 'minorsCount',\n",
    "            'PREV_TERM_CUM_GPA',\n",
    "            'classGraded', 'classHonors', \n",
    "            'Pass_Fail', \n",
    "            'parentsGraduateEdu',  'minorityGroup', \n",
    "            'available_flashcards', \n",
    "            'days_offset', 'prev_time_elapsed',\n",
    "             'time_lag']\n",
    "grouped_data = dataframe[FEATURE_TRANS].groupby(['user_id']).apply(lambda r: (\n",
    "                r['answer_correct'],\n",
    "                r['term'],\n",
    "                r['chapter_label'],\n",
    "                r['sub_chapter_label'],\n",
    "                r['question_name'],\n",
    "                np.array([\n",
    "                  r['STDNT_SEX_CD'],r['STDNT_CTZN_STAT_CD'], r['international'], \n",
    "                  r['White'],r['Asian'],r['NonWhiteOrAsian'],\n",
    "                 r['age'],r['exclClassCumGPA'],\n",
    "                r['Freshman'], r['Junior'], r['Sophomore'], r['Senior'],\n",
    "                r['termCreditsGPA'], r['termCreditsNoGPA'],\n",
    "                r['athlete_1'], r['honorsPro'],\n",
    "                r['LSA'], r['programBusiness'], r['programEngineering'], \n",
    "                r['programInformation'], r['programOther'],\n",
    "                r['HSCalculusTaken'],  r['highSchoolGPA'], \n",
    "                r['majorsCount'], r['minorsCount'],\n",
    "                r['PREV_TERM_CUM_GPA'], \n",
    "                r['parentsGraduateEdu'], r['minorityGroup'],\n",
    "                r['available_flashcards'],\n",
    "                r['days_offset'],\n",
    "#                 r['prev_time_elapsed'],\n",
    "#                 r['time_lag']\n",
    "              ]).transpose()\n",
    "                ))"
   ]
  },
  {
   "cell_type": "code",
   "execution_count": 23,
   "metadata": {
    "execution": {
     "iopub.execute_input": "2021-08-08T15:39:37.977863Z",
     "iopub.status.busy": "2021-08-08T15:39:37.976906Z",
     "iopub.status.idle": "2021-08-08T15:39:37.981021Z",
     "shell.execute_reply": "2021-08-08T15:39:37.980448Z",
     "shell.execute_reply.started": "2021-08-06T21:04:50.729982Z"
    },
    "id": "XXLqQnjrlp_4",
    "outputId": "c801da79-f0bf-4fe5-b19c-7c799fe01556",
    "papermill": {
     "duration": 0.575157,
     "end_time": "2021-08-08T15:39:37.981288",
     "exception": false,
     "start_time": "2021-08-08T15:39:37.406131",
     "status": "completed"
    },
    "tags": []
   },
   "outputs": [
    {
     "data": {
      "text/plain": [
       "20"
      ]
     },
     "execution_count": 23,
     "metadata": {},
     "output_type": "execute_result"
    }
   ],
   "source": [
    "gc.collect()"
   ]
  },
  {
   "cell_type": "code",
   "execution_count": 24,
   "metadata": {
    "execution": {
     "iopub.execute_input": "2021-08-08T15:39:38.728948Z",
     "iopub.status.busy": "2021-08-08T15:39:38.728217Z",
     "iopub.status.idle": "2021-08-08T15:39:38.751453Z",
     "shell.execute_reply": "2021-08-08T15:39:38.750916Z",
     "shell.execute_reply.started": "2021-08-06T21:04:50.932864Z"
    },
    "id": "QYGQasdTrmP0",
    "papermill": {
     "duration": 0.409726,
     "end_time": "2021-08-08T15:39:38.751604",
     "exception": false,
     "start_time": "2021-08-08T15:39:38.341878",
     "status": "completed"
    },
    "tags": []
   },
   "outputs": [],
   "source": [
    "# remove students who don't have make any interactions with the tool\n",
    "toRemove = []\n",
    "for index in grouped_data.index:\n",
    "  if len(grouped_data[index][0]) <= 10:\n",
    "    toRemove.append(index)\n",
    "grouped_data = grouped_data.drop(index=toRemove)"
   ]
  },
  {
   "cell_type": "code",
   "execution_count": 25,
   "metadata": {
    "execution": {
     "iopub.execute_input": "2021-08-08T15:39:39.482336Z",
     "iopub.status.busy": "2021-08-08T15:39:39.481319Z",
     "iopub.status.idle": "2021-08-08T15:39:39.498258Z",
     "shell.execute_reply": "2021-08-08T15:39:39.497717Z",
     "shell.execute_reply.started": "2021-08-06T21:04:50.98328Z"
    },
    "papermill": {
     "duration": 0.3838,
     "end_time": "2021-08-08T15:39:39.498397",
     "exception": false,
     "start_time": "2021-08-08T15:39:39.114597",
     "status": "completed"
    },
    "tags": []
   },
   "outputs": [
    {
     "data": {
      "text/plain": [
       "count    1110.000000\n",
       "mean      550.263063\n",
       "std       201.281353\n",
       "min         2.000000\n",
       "25%       438.250000\n",
       "50%       520.500000\n",
       "75%       637.750000\n",
       "max      1500.000000\n",
       "Name: start_practice, dtype: float64"
      ]
     },
     "execution_count": 25,
     "metadata": {},
     "output_type": "execute_result"
    }
   ],
   "source": [
    "dataframe.groupby('user_id')['start_practice'].agg('count').describe()"
   ]
  },
  {
   "cell_type": "code",
   "execution_count": 26,
   "metadata": {
    "execution": {
     "iopub.execute_input": "2021-08-08T15:39:40.244772Z",
     "iopub.status.busy": "2021-08-08T15:39:40.244090Z",
     "iopub.status.idle": "2021-08-08T15:39:40.246707Z",
     "shell.execute_reply": "2021-08-08T15:39:40.247139Z",
     "shell.execute_reply.started": "2021-08-06T21:04:51.003119Z"
    },
    "papermill": {
     "duration": 0.380947,
     "end_time": "2021-08-08T15:39:40.247329",
     "exception": false,
     "start_time": "2021-08-08T15:39:39.866382",
     "status": "completed"
    },
    "tags": []
   },
   "outputs": [
    {
     "data": {
      "text/plain": [
       "['FA 2018:252', 'WN 2018:295']"
      ]
     },
     "execution_count": 26,
     "metadata": {},
     "output_type": "execute_result"
    }
   ],
   "source": [
    "toRemove"
   ]
  },
  {
   "cell_type": "code",
   "execution_count": 27,
   "metadata": {
    "execution": {
     "iopub.execute_input": "2021-08-08T15:39:40.972838Z",
     "iopub.status.busy": "2021-08-08T15:39:40.972138Z",
     "iopub.status.idle": "2021-08-08T15:39:40.975852Z",
     "shell.execute_reply": "2021-08-08T15:39:40.976373Z",
     "shell.execute_reply.started": "2021-08-06T21:04:51.012606Z"
    },
    "id": "9kZqV9siDyNb",
    "papermill": {
     "duration": 0.367226,
     "end_time": "2021-08-08T15:39:40.976544",
     "exception": false,
     "start_time": "2021-08-08T15:39:40.609318",
     "status": "completed"
    },
    "tags": []
   },
   "outputs": [],
   "source": [
    "#SETTINGS -> can be modified at any time\n",
    "MAXLENGTH = 400\n",
    "EMBEDDING_DIM = 128\n",
    "DENSE_NEURON = 16\n",
    "RNN_NEURON = 32"
   ]
  },
  {
   "cell_type": "code",
   "execution_count": 28,
   "metadata": {
    "execution": {
     "iopub.execute_input": "2021-08-08T15:39:41.707945Z",
     "iopub.status.busy": "2021-08-08T15:39:41.707299Z",
     "iopub.status.idle": "2021-08-08T15:39:41.712458Z",
     "shell.execute_reply": "2021-08-08T15:39:41.711736Z",
     "shell.execute_reply.started": "2021-08-06T21:04:51.932106Z"
    },
    "id": "1MksD1JizpPn",
    "papermill": {
     "duration": 0.371996,
     "end_time": "2021-08-08T15:39:41.712623",
     "exception": false,
     "start_time": "2021-08-08T15:39:41.340627",
     "status": "completed"
    },
    "tags": []
   },
   "outputs": [],
   "source": [
    "FEATURES_SIZE = 37\n",
    "CHAPTER_SIZE = 38\n",
    "SUB_CHAPTER_SIZE = 223\n",
    "QUESTION_SIZE = 1069"
   ]
  },
  {
   "cell_type": "code",
   "execution_count": 29,
   "metadata": {
    "execution": {
     "iopub.execute_input": "2021-08-08T15:39:42.442604Z",
     "iopub.status.busy": "2021-08-08T15:39:42.441862Z",
     "iopub.status.idle": "2021-08-08T15:39:42.452390Z",
     "shell.execute_reply": "2021-08-08T15:39:42.451711Z",
     "shell.execute_reply.started": "2021-08-06T21:04:52.955964Z"
    },
    "papermill": {
     "duration": 0.374763,
     "end_time": "2021-08-08T15:39:42.452547",
     "exception": false,
     "start_time": "2021-08-08T15:39:42.077784",
     "status": "completed"
    },
    "tags": []
   },
   "outputs": [
    {
     "data": {
      "text/plain": [
       "array([ 96,  86,  88,  28,  12,  82, 125,  32,  69,  33,  21, 115, 120,\n",
       "       119,  91,  73,  57,  77, 117,  40,  74,  41,  68,  39,  92,  47,\n",
       "       104,  95,  53,  49,  50,  16,  52,  55,   7,  15,  51, 102, 103,\n",
       "        11,  94, 108, 100,  17,  67,  63,  13, 139,  26,  25,   8, 107,\n",
       "         0,  90,  48,  54, 138,   1,   2,   3,  34,  35,  85,   5,  24,\n",
       "        37,  36,  78,  70,  45, 142,  71,  10,  89, 111, 112, 109, 116,\n",
       "        76,  72, 148, 134, 146, 221, 143,  56,  60,  61,  23, 140, 106,\n",
       "        42,  83,  22, 145, 136, 144,  38,   4,  19, 137,  75,  43,  98,\n",
       "        84, 113, 173, 174, 175, 176, 177, 178, 180, 181, 182, 187, 189,\n",
       "       190, 191, 192, 193, 195, 197, 151, 152, 153, 156, 157, 158, 159,\n",
       "       160, 161, 163, 164, 165, 166, 167, 168, 169, 170, 171, 172, 198,\n",
       "       199, 200, 201, 202, 203, 204, 205, 206, 207, 208, 209, 210, 162,\n",
       "       179, 186, 188, 194, 183, 184, 185, 211, 212, 213, 154, 155, 196,\n",
       "         6, 118,  18, 215,  46, 216, 141,  27, 217, 105, 123, 218, 101,\n",
       "       124, 219, 122, 220,  58,  59,  64,  20,  93,  65,  66,   9,  44,\n",
       "        30,  14,  79, 121,  31, 110, 129,  87,  97,  62, 149, 132, 131,\n",
       "       150, 130, 128,  99, 147, 127, 214, 135,  80, 126, 133,  81, 114,\n",
       "        29], dtype=int16)"
      ]
     },
     "execution_count": 29,
     "metadata": {},
     "output_type": "execute_result"
    }
   ],
   "source": [
    "dataframe['sub_chapter_label'].unique()"
   ]
  },
  {
   "cell_type": "code",
   "execution_count": 30,
   "metadata": {
    "execution": {
     "iopub.execute_input": "2021-08-08T15:39:43.193627Z",
     "iopub.status.busy": "2021-08-08T15:39:43.192071Z",
     "iopub.status.idle": "2021-08-08T15:39:44.208974Z",
     "shell.execute_reply": "2021-08-08T15:39:44.208344Z",
     "shell.execute_reply.started": "2021-08-06T21:04:54.080084Z"
    },
    "id": "mY3Thp6d0NaT",
    "papermill": {
     "duration": 1.395011,
     "end_time": "2021-08-08T15:39:44.209144",
     "exception": false,
     "start_time": "2021-08-08T15:39:42.814133",
     "status": "completed"
    },
    "tags": []
   },
   "outputs": [],
   "source": [
    "#create dataset class\n",
    "#to prepare it for train, valid, and test sets\n",
    "from torch.utils.data import Dataset, DataLoader\n",
    "class SPACE_DATASET(Dataset):\n",
    "    def __init__(self, data, maxlength = 400):\n",
    "        super(SPACE_DATASET, self).__init__()\n",
    "        self.maxlength = maxlength\n",
    "        self.data = data\n",
    "        self.users = list()\n",
    "        for user in data.index:\n",
    "            self.users.append(user)\n",
    "\n",
    "    def __len__(self):\n",
    "        return len(self.users)\n",
    "    \n",
    "    def __getitem__(self, ix):\n",
    "        user = self.users[ix]\n",
    "        user = user\n",
    "        target, term, ch_label, sub_ch_label, ques_name, features = self.data[user]\n",
    "        \n",
    "        #0s should be used as padding values\n",
    "        ori_target = target.values \n",
    "        term = term.values\n",
    "        ch_label = ch_label.values + 1\n",
    "        sub_ch_label = sub_ch_label.values +1\n",
    "        ques_name = ques_name.values + 1\n",
    "        \n",
    "        n = len(ch_label)\n",
    "\n",
    "        # one hot for term\n",
    "        term_encode = [0]*7\n",
    "        term_encode[term[0]] = 1\n",
    "        shifted_target= []\n",
    "\n",
    "        \n",
    "        # get  user interaction informations in the previous MAXLEN interactions\n",
    "        if n > self.maxlength:\n",
    "          ch_label = ch_label[-self.maxlength:]\n",
    "          sub_ch_label = sub_ch_label[-self.maxlength:]\n",
    "          ques_name = ques_name[-self.maxlength:]\n",
    "          features = features[-self.maxlength:]\n",
    "          target = ori_target[-self.maxlength:]\n",
    "          shifted_target = ori_target[ (-self.maxlength - 1) :-1]\n",
    "        else:\n",
    "          ch_label = [0]*(self.maxlength - n)+list(ch_label[:])\n",
    "          sub_ch_label = [0]*(self.maxlength - n)+list(sub_ch_label[:])\n",
    "          ques_name = [0]*(self.maxlength - n)+list(ques_name[:])\n",
    "          features = [[0]*len(features[0])]*(self.maxlength  - n)+list(features[:])\n",
    "          target = [-1]*(self.maxlength - n) + list(ori_target[:])\n",
    "          shifted_target = [2]*(self.maxlength + 1 - n) + list(ori_target[:-1])\n",
    "\n",
    "        new_features = []\n",
    "        count = 0\n",
    "        for f in features:\n",
    "          temp = list(f)\n",
    "          temp.extend(term_encode)\n",
    "          #temp.append(shifted_target[count]) #uncomment this line for include previous response feature\n",
    "          new_features.append(temp)\n",
    "          count += 1\n",
    "        features = new_features\n",
    "        return ch_label,sub_ch_label,ques_name,features, shifted_target, target"
   ]
  },
  {
   "cell_type": "code",
   "execution_count": 31,
   "metadata": {
    "execution": {
     "iopub.execute_input": "2021-08-08T15:39:44.950068Z",
     "iopub.status.busy": "2021-08-08T15:39:44.949121Z",
     "iopub.status.idle": "2021-08-08T15:39:44.955539Z",
     "shell.execute_reply": "2021-08-08T15:39:44.955022Z",
     "shell.execute_reply.started": "2021-08-06T21:04:54.917448Z"
    },
    "papermill": {
     "duration": 0.377507,
     "end_time": "2021-08-08T15:39:44.955707",
     "exception": false,
     "start_time": "2021-08-08T15:39:44.578200",
     "status": "completed"
    },
    "tags": []
   },
   "outputs": [
    {
     "data": {
      "text/plain": [
       "223"
      ]
     },
     "execution_count": 31,
     "metadata": {},
     "output_type": "execute_result"
    }
   ],
   "source": [
    "SUB_CHAPTER_SIZE"
   ]
  },
  {
   "cell_type": "markdown",
   "metadata": {
    "id": "4xc90-aLzxat",
    "papermill": {
     "duration": 0.364364,
     "end_time": "2021-08-08T15:39:45.690206",
     "exception": false,
     "start_time": "2021-08-08T15:39:45.325842",
     "status": "completed"
    },
    "tags": []
   },
   "source": [
    "## KFOLD - RNN\n"
   ]
  },
  {
   "cell_type": "code",
   "execution_count": 32,
   "metadata": {
    "execution": {
     "iopub.execute_input": "2021-08-08T15:39:46.495015Z",
     "iopub.status.busy": "2021-08-08T15:39:46.493883Z",
     "iopub.status.idle": "2021-08-08T15:50:16.499538Z",
     "shell.execute_reply": "2021-08-08T15:50:16.498920Z",
     "shell.execute_reply.started": "2021-08-06T21:04:56.750188Z"
    },
    "id": "gzJrljnjzypP",
    "outputId": "87abe488-b493-4f8f-9d71-45cb1d2ddf51",
    "papermill": {
     "duration": 630.442493,
     "end_time": "2021-08-08T15:50:16.499776",
     "exception": false,
     "start_time": "2021-08-08T15:39:46.057283",
     "status": "completed"
    },
    "tags": []
   },
   "outputs": [
    {
     "name": "stdout",
     "output_type": "stream",
     "text": [
      "Epoch 1/100\n",
      "14/14 [==============================] - 15s 689ms/step - loss: 0.6020 - masked_acc: 0.6700 - masked_auc: 0.4972 - val_loss: 0.4930 - val_masked_acc: 0.7104 - val_masked_auc: 0.6254\n",
      "Epoch 2/100\n",
      "14/14 [==============================] - 8s 557ms/step - loss: 0.4463 - masked_acc: 0.7213 - masked_auc: 0.6743 - val_loss: 0.4365 - val_masked_acc: 0.7420 - val_masked_auc: 0.7431\n",
      "Epoch 3/100\n",
      "14/14 [==============================] - 8s 565ms/step - loss: 0.4195 - masked_acc: 0.7463 - masked_auc: 0.7570 - val_loss: 0.4268 - val_masked_acc: 0.7560 - val_masked_auc: 0.7814\n",
      "Epoch 4/100\n",
      "14/14 [==============================] - 8s 539ms/step - loss: 0.4033 - masked_acc: 0.7587 - masked_auc: 0.7886 - val_loss: 0.4248 - val_masked_acc: 0.7638 - val_masked_auc: 0.8008\n",
      "Epoch 5/100\n",
      "14/14 [==============================] - 8s 550ms/step - loss: 0.3984 - masked_acc: 0.7653 - masked_auc: 0.8049 - val_loss: 0.4257 - val_masked_acc: 0.7691 - val_masked_auc: 0.8129\n",
      "Epoch 6/100\n",
      "14/14 [==============================] - 8s 550ms/step - loss: 0.3885 - masked_acc: 0.7703 - masked_auc: 0.8158 - val_loss: 0.4258 - val_masked_acc: 0.7731 - val_masked_auc: 0.8213\n",
      "Epoch 7/100\n",
      "14/14 [==============================] - 8s 542ms/step - loss: 0.3809 - masked_acc: 0.7741 - masked_auc: 0.8236 - val_loss: 0.4333 - val_masked_acc: 0.7761 - val_masked_auc: 0.8277\n",
      "Epoch 8/100\n",
      "14/14 [==============================] - 8s 572ms/step - loss: 0.3815 - masked_acc: 0.7768 - masked_auc: 0.8293 - val_loss: 0.4415 - val_masked_acc: 0.7786 - val_masked_auc: 0.8325\n",
      "Epoch 9/100\n",
      "14/14 [==============================] - 7s 527ms/step - loss: 0.3717 - masked_acc: 0.7793 - masked_auc: 0.8339 - val_loss: 0.4330 - val_masked_acc: 0.7809 - val_masked_auc: 0.8369\n",
      "Epoch 10/100\n",
      "14/14 [==============================] - 8s 554ms/step - loss: 0.3698 - masked_acc: 0.7815 - masked_auc: 0.8381 - val_loss: 0.4384 - val_masked_acc: 0.7831 - val_masked_auc: 0.8409\n",
      "Epoch 11/100\n",
      "14/14 [==============================] - 8s 546ms/step - loss: 0.3638 - masked_acc: 0.7836 - masked_auc: 0.8420 - val_loss: 0.4484 - val_masked_acc: 0.7850 - val_masked_auc: 0.8443\n",
      "Epoch 12/100\n",
      "14/14 [==============================] - 7s 533ms/step - loss: 0.3506 - masked_acc: 0.7857 - masked_auc: 0.8455 - val_loss: 0.4503 - val_masked_acc: 0.7868 - val_masked_auc: 0.8473\n",
      "Epoch 13/100\n",
      "14/14 [==============================] - 8s 566ms/step - loss: 0.3486 - masked_acc: 0.7875 - masked_auc: 0.8484 - val_loss: 0.4555 - val_masked_acc: 0.7886 - val_masked_auc: 0.8502\n",
      "Epoch 14/100\n",
      "14/14 [==============================] - 8s 552ms/step - loss: 0.3474 - masked_acc: 0.7892 - masked_auc: 0.8512 - val_loss: 0.4724 - val_masked_acc: 0.7902 - val_masked_auc: 0.8527\n",
      "28/28 [==============================] - 3s 93ms/step - loss: 0.3412 - masked_acc: 0.7915 - masked_auc: 0.8545\n",
      "4/4 [==============================] - 0s 85ms/step - loss: 0.4629 - masked_acc: 0.7919 - masked_auc: 0.8554\n",
      "Test:  [0.46291816234588623, 0.7919093370437622, 0.8554115295410156]\n",
      "Epoch 1/100\n",
      "14/14 [==============================] - 13s 640ms/step - loss: 0.5955 - masked_acc: 0.6291 - masked_auc: 0.5204 - val_loss: 0.4299 - val_masked_acc: 0.7146 - val_masked_auc: 0.6703\n",
      "Epoch 2/100\n",
      "14/14 [==============================] - 8s 556ms/step - loss: 0.4432 - masked_acc: 0.7266 - masked_auc: 0.7102 - val_loss: 0.3983 - val_masked_acc: 0.7471 - val_masked_auc: 0.7634\n",
      "Epoch 3/100\n",
      "14/14 [==============================] - 7s 525ms/step - loss: 0.4194 - masked_acc: 0.7512 - masked_auc: 0.7749 - val_loss: 0.3941 - val_masked_acc: 0.7603 - val_masked_auc: 0.7943\n",
      "Epoch 4/100\n",
      "14/14 [==============================] - 7s 526ms/step - loss: 0.4027 - masked_acc: 0.7627 - masked_auc: 0.8000 - val_loss: 0.3956 - val_masked_acc: 0.7676 - val_masked_auc: 0.8104\n",
      "Epoch 5/100\n",
      "14/14 [==============================] - 9s 656ms/step - loss: 0.3966 - masked_acc: 0.7689 - masked_auc: 0.8138 - val_loss: 0.3977 - val_masked_acc: 0.7726 - val_masked_auc: 0.8206\n",
      "Epoch 6/100\n",
      "14/14 [==============================] - 12s 903ms/step - loss: 0.3855 - masked_acc: 0.7738 - masked_auc: 0.8232 - val_loss: 0.4074 - val_masked_acc: 0.7765 - val_masked_auc: 0.8279\n",
      "Epoch 7/100\n",
      "14/14 [==============================] - 8s 567ms/step - loss: 0.3832 - masked_acc: 0.7774 - masked_auc: 0.8298 - val_loss: 0.4021 - val_masked_acc: 0.7797 - val_masked_auc: 0.8338\n",
      "Epoch 8/100\n",
      "14/14 [==============================] - 8s 547ms/step - loss: 0.3765 - masked_acc: 0.7805 - masked_auc: 0.8354 - val_loss: 0.4062 - val_masked_acc: 0.7825 - val_masked_auc: 0.8387\n",
      "Epoch 9/100\n",
      "14/14 [==============================] - 8s 553ms/step - loss: 0.3654 - masked_acc: 0.7833 - masked_auc: 0.8402 - val_loss: 0.4110 - val_masked_acc: 0.7850 - val_masked_auc: 0.8429\n",
      "Epoch 10/100\n",
      "14/14 [==============================] - 8s 547ms/step - loss: 0.3617 - masked_acc: 0.7857 - masked_auc: 0.8442 - val_loss: 0.4186 - val_masked_acc: 0.7872 - val_masked_auc: 0.8465\n",
      "Epoch 11/100\n",
      "14/14 [==============================] - 8s 547ms/step - loss: 0.3553 - masked_acc: 0.7879 - masked_auc: 0.8476 - val_loss: 0.4263 - val_masked_acc: 0.7893 - val_masked_auc: 0.8498\n",
      "Epoch 12/100\n",
      "14/14 [==============================] - 8s 559ms/step - loss: 0.3590 - masked_acc: 0.7898 - masked_auc: 0.8507 - val_loss: 0.4381 - val_masked_acc: 0.7913 - val_masked_auc: 0.8528\n",
      "Epoch 13/100\n",
      "14/14 [==============================] - 8s 543ms/step - loss: 0.3493 - masked_acc: 0.7918 - masked_auc: 0.8537 - val_loss: 0.4364 - val_masked_acc: 0.7931 - val_masked_auc: 0.8556\n",
      "28/28 [==============================] - 3s 97ms/step - loss: 0.3387 - masked_acc: 0.7945 - masked_auc: 0.8575\n",
      "4/4 [==============================] - 0s 84ms/step - loss: 0.4495 - masked_acc: 0.7951 - masked_auc: 0.8585\n",
      "Test:  [0.449537456035614, 0.7950523495674133, 0.8585455417633057]\n",
      "Epoch 1/100\n",
      "14/14 [==============================] - 14s 645ms/step - loss: 0.5904 - masked_acc: 0.5961 - masked_auc: 0.5178 - val_loss: 0.4923 - val_masked_acc: 0.7055 - val_masked_auc: 0.6672\n",
      "Epoch 2/100\n",
      "14/14 [==============================] - 8s 558ms/step - loss: 0.4384 - masked_acc: 0.7183 - masked_auc: 0.7045 - val_loss: 0.4422 - val_masked_acc: 0.7399 - val_masked_auc: 0.7590\n",
      "Epoch 3/100\n",
      "14/14 [==============================] - 8s 553ms/step - loss: 0.4177 - masked_acc: 0.7447 - masked_auc: 0.7707 - val_loss: 0.4362 - val_masked_acc: 0.7546 - val_masked_auc: 0.7910\n",
      "Epoch 4/100\n",
      "14/14 [==============================] - 8s 551ms/step - loss: 0.4081 - masked_acc: 0.7570 - masked_auc: 0.7967 - val_loss: 0.4367 - val_masked_acc: 0.7628 - val_masked_auc: 0.8078\n",
      "Epoch 5/100\n",
      "14/14 [==============================] - 8s 541ms/step - loss: 0.3991 - masked_acc: 0.7644 - masked_auc: 0.8112 - val_loss: 0.4369 - val_masked_acc: 0.7683 - val_masked_auc: 0.8183\n",
      "Epoch 6/100\n",
      "14/14 [==============================] - 8s 597ms/step - loss: 0.3987 - masked_acc: 0.7693 - masked_auc: 0.8205 - val_loss: 0.4373 - val_masked_acc: 0.7724 - val_masked_auc: 0.8257\n",
      "Epoch 7/100\n",
      "14/14 [==============================] - 8s 549ms/step - loss: 0.3833 - masked_acc: 0.7733 - masked_auc: 0.8275 - val_loss: 0.4404 - val_masked_acc: 0.7759 - val_masked_auc: 0.8317\n",
      "Epoch 8/100\n",
      "14/14 [==============================] - 8s 537ms/step - loss: 0.3784 - masked_acc: 0.7767 - masked_auc: 0.8332 - val_loss: 0.4429 - val_masked_acc: 0.7788 - val_masked_auc: 0.8365\n",
      "Epoch 9/100\n",
      "14/14 [==============================] - 8s 542ms/step - loss: 0.3733 - masked_acc: 0.7796 - masked_auc: 0.8379 - val_loss: 0.4459 - val_masked_acc: 0.7815 - val_masked_auc: 0.8408\n",
      "Epoch 10/100\n",
      "14/14 [==============================] - 8s 559ms/step - loss: 0.3587 - masked_acc: 0.7824 - masked_auc: 0.8422 - val_loss: 0.4478 - val_masked_acc: 0.7839 - val_masked_auc: 0.8446\n",
      "Epoch 11/100\n",
      "14/14 [==============================] - 8s 568ms/step - loss: 0.3550 - masked_acc: 0.7847 - masked_auc: 0.8458 - val_loss: 0.4510 - val_masked_acc: 0.7862 - val_masked_auc: 0.8480\n",
      "Epoch 12/100\n",
      "14/14 [==============================] - 7s 532ms/step - loss: 0.3540 - masked_acc: 0.7869 - masked_auc: 0.8490 - val_loss: 0.4663 - val_masked_acc: 0.7882 - val_masked_auc: 0.8510\n",
      "Epoch 13/100\n",
      "14/14 [==============================] - 8s 545ms/step - loss: 0.3462 - masked_acc: 0.7889 - masked_auc: 0.8520 - val_loss: 0.4669 - val_masked_acc: 0.7901 - val_masked_auc: 0.8537\n",
      "28/28 [==============================] - 3s 93ms/step - loss: 0.3407 - masked_acc: 0.7915 - masked_auc: 0.8556\n",
      "4/4 [==============================] - 0s 86ms/step - loss: 0.4215 - masked_acc: 0.7922 - masked_auc: 0.8567\n",
      "Test:  [0.421520471572876, 0.7921578288078308, 0.8566784858703613]\n",
      "Epoch 1/100\n",
      "14/14 [==============================] - 14s 637ms/step - loss: 0.5977 - masked_acc: 0.6378 - masked_auc: 0.5073 - val_loss: 0.4938 - val_masked_acc: 0.7089 - val_masked_auc: 0.6371\n",
      "Epoch 2/100\n",
      "14/14 [==============================] - 8s 573ms/step - loss: 0.4768 - masked_acc: 0.7166 - masked_auc: 0.6732 - val_loss: 0.4344 - val_masked_acc: 0.7374 - val_masked_auc: 0.7363\n",
      "Epoch 3/100\n",
      "14/14 [==============================] - 8s 542ms/step - loss: 0.4148 - masked_acc: 0.7428 - masked_auc: 0.7511 - val_loss: 0.4220 - val_masked_acc: 0.7529 - val_masked_auc: 0.7762\n",
      "Epoch 4/100\n",
      "14/14 [==============================] - 8s 554ms/step - loss: 0.4048 - masked_acc: 0.7558 - masked_auc: 0.7833 - val_loss: 0.4193 - val_masked_acc: 0.7616 - val_masked_auc: 0.7968\n",
      "Epoch 5/100\n",
      "14/14 [==============================] - 8s 552ms/step - loss: 0.3984 - masked_acc: 0.7633 - masked_auc: 0.8010 - val_loss: 0.4277 - val_masked_acc: 0.7674 - val_masked_auc: 0.8095\n",
      "Epoch 6/100\n",
      "14/14 [==============================] - 8s 551ms/step - loss: 0.3939 - masked_acc: 0.7685 - masked_auc: 0.8123 - val_loss: 0.4228 - val_masked_acc: 0.7717 - val_masked_auc: 0.8183\n",
      "Epoch 7/100\n",
      "14/14 [==============================] - 8s 546ms/step - loss: 0.3889 - masked_acc: 0.7727 - masked_auc: 0.8205 - val_loss: 0.4229 - val_masked_acc: 0.7752 - val_masked_auc: 0.8253\n",
      "Epoch 8/100\n",
      "14/14 [==============================] - 8s 563ms/step - loss: 0.3735 - masked_acc: 0.7762 - masked_auc: 0.8274 - val_loss: 0.4300 - val_masked_acc: 0.7783 - val_masked_auc: 0.8311\n",
      "Epoch 9/100\n",
      "14/14 [==============================] - 8s 565ms/step - loss: 0.3641 - masked_acc: 0.7793 - masked_auc: 0.8329 - val_loss: 0.4309 - val_masked_acc: 0.7811 - val_masked_auc: 0.8361\n",
      "Epoch 10/100\n",
      "14/14 [==============================] - 8s 542ms/step - loss: 0.3603 - masked_acc: 0.7820 - masked_auc: 0.8377 - val_loss: 0.4346 - val_masked_acc: 0.7838 - val_masked_auc: 0.8405\n",
      "Epoch 11/100\n",
      "14/14 [==============================] - 8s 546ms/step - loss: 0.3585 - masked_acc: 0.7845 - masked_auc: 0.8418 - val_loss: 0.4390 - val_masked_acc: 0.7862 - val_masked_auc: 0.8443\n",
      "Epoch 12/100\n",
      "14/14 [==============================] - 8s 553ms/step - loss: 0.3530 - masked_acc: 0.7869 - masked_auc: 0.8455 - val_loss: 0.4458 - val_masked_acc: 0.7883 - val_masked_auc: 0.8477\n",
      "Epoch 13/100\n",
      "14/14 [==============================] - 8s 564ms/step - loss: 0.3434 - masked_acc: 0.7890 - masked_auc: 0.8488 - val_loss: 0.4495 - val_masked_acc: 0.7902 - val_masked_auc: 0.8508\n",
      "Epoch 14/100\n",
      "14/14 [==============================] - 8s 544ms/step - loss: 0.3476 - masked_acc: 0.7908 - masked_auc: 0.8516 - val_loss: 0.4558 - val_masked_acc: 0.7921 - val_masked_auc: 0.8536\n",
      "28/28 [==============================] - 3s 94ms/step - loss: 0.3345 - masked_acc: 0.7936 - masked_auc: 0.8555\n",
      "4/4 [==============================] - 0s 85ms/step - loss: 0.4407 - masked_acc: 0.7942 - masked_auc: 0.8566\n",
      "Test:  [0.4407079517841339, 0.7941688299179077, 0.8565877676010132]\n",
      "Epoch 1/100\n",
      "14/14 [==============================] - 13s 636ms/step - loss: 0.6070 - masked_acc: 0.6165 - masked_auc: 0.5181 - val_loss: 0.5076 - val_masked_acc: 0.7016 - val_masked_auc: 0.6214\n",
      "Epoch 2/100\n",
      "14/14 [==============================] - 8s 554ms/step - loss: 0.4804 - masked_acc: 0.7107 - masked_auc: 0.6618 - val_loss: 0.4295 - val_masked_acc: 0.7330 - val_masked_auc: 0.7294\n",
      "Epoch 3/100\n",
      "14/14 [==============================] - 7s 522ms/step - loss: 0.4221 - masked_acc: 0.7385 - masked_auc: 0.7457 - val_loss: 0.4216 - val_masked_acc: 0.7500 - val_masked_auc: 0.7730\n",
      "Epoch 4/100\n",
      "14/14 [==============================] - 8s 555ms/step - loss: 0.4086 - masked_acc: 0.7527 - masked_auc: 0.7802 - val_loss: 0.4212 - val_masked_acc: 0.7592 - val_masked_auc: 0.7946\n",
      "Epoch 5/100\n",
      "14/14 [==============================] - 7s 537ms/step - loss: 0.4036 - masked_acc: 0.7609 - masked_auc: 0.7989 - val_loss: 0.4206 - val_masked_acc: 0.7654 - val_masked_auc: 0.8081\n",
      "Epoch 6/100\n",
      "14/14 [==============================] - 8s 548ms/step - loss: 0.3947 - masked_acc: 0.7666 - masked_auc: 0.8113 - val_loss: 0.4265 - val_masked_acc: 0.7700 - val_masked_auc: 0.8177\n",
      "Epoch 7/100\n",
      "14/14 [==============================] - 7s 529ms/step - loss: 0.3870 - masked_acc: 0.7712 - masked_auc: 0.8202 - val_loss: 0.4278 - val_masked_acc: 0.7737 - val_masked_auc: 0.8249\n",
      "Epoch 8/100\n",
      "14/14 [==============================] - 8s 552ms/step - loss: 0.3791 - masked_acc: 0.7746 - masked_auc: 0.8268 - val_loss: 0.4335 - val_masked_acc: 0.7766 - val_masked_auc: 0.8306\n",
      "Epoch 9/100\n",
      "14/14 [==============================] - 7s 523ms/step - loss: 0.3712 - masked_acc: 0.7774 - masked_auc: 0.8323 - val_loss: 0.4345 - val_masked_acc: 0.7792 - val_masked_auc: 0.8355\n",
      "Epoch 10/100\n",
      "14/14 [==============================] - 7s 529ms/step - loss: 0.3639 - masked_acc: 0.7800 - masked_auc: 0.8371 - val_loss: 0.4355 - val_masked_acc: 0.7816 - val_masked_auc: 0.8398\n",
      "Epoch 11/100\n",
      "14/14 [==============================] - 8s 552ms/step - loss: 0.3572 - masked_acc: 0.7824 - masked_auc: 0.8411 - val_loss: 0.4412 - val_masked_acc: 0.7838 - val_masked_auc: 0.8435\n",
      "Epoch 12/100\n",
      "14/14 [==============================] - 8s 547ms/step - loss: 0.3604 - masked_acc: 0.7844 - masked_auc: 0.8446 - val_loss: 0.4404 - val_masked_acc: 0.7859 - val_masked_auc: 0.8469\n",
      "Epoch 13/100\n",
      "14/14 [==============================] - 7s 529ms/step - loss: 0.3519 - masked_acc: 0.7865 - masked_auc: 0.8479 - val_loss: 0.4468 - val_masked_acc: 0.7878 - val_masked_auc: 0.8499\n",
      "Epoch 14/100\n",
      "14/14 [==============================] - 8s 541ms/step - loss: 0.3550 - masked_acc: 0.7883 - masked_auc: 0.8508 - val_loss: 0.4547 - val_masked_acc: 0.7896 - val_masked_auc: 0.8526\n",
      "Epoch 15/100\n",
      "14/14 [==============================] - 7s 531ms/step - loss: 0.3501 - masked_acc: 0.7900 - masked_auc: 0.8534 - val_loss: 0.4493 - val_masked_acc: 0.7912 - val_masked_auc: 0.8552\n",
      "28/28 [==============================] - 3s 105ms/step - loss: 0.3388 - masked_acc: 0.7925 - masked_auc: 0.8569\n",
      "4/4 [==============================] - 0s 86ms/step - loss: 0.4498 - masked_acc: 0.7930 - masked_auc: 0.8577\n",
      "Test:  [0.44977492094039917, 0.7929820418357849, 0.8576987385749817]\n"
     ]
    }
   ],
   "source": [
    "# 5 fold cross validation with RNN-based model\n",
    "import torch\n",
    "X = np.array(grouped_data.keys())\n",
    "kfold = KFold(n_splits=5, shuffle=True)\n",
    "train_losses = list()\n",
    "train_aucs = list()\n",
    "val_losses = list()\n",
    "val_aucs = list()\n",
    "train_eval = list()\n",
    "test_eval = list()\n",
    "for train, test in kfold.split(X):\n",
    "    users_train, users_test =  X[train], X[test]\n",
    "    n = len(users_test)//2\n",
    "    users_test, users_val = users_test[:n], users_test[n: ]\n",
    "    train_data_space = SPACE_DATASET(grouped_data[users_train], MAXLENGTH)\n",
    "    val_data_space = SPACE_DATASET(grouped_data[users_val], MAXLENGTH)\n",
    "    test_data_space = SPACE_DATASET(grouped_data[users_test], MAXLENGTH)\n",
    "    #construct training input\n",
    "    train_chapter=[]\n",
    "    train_sub_chapter=[]\n",
    "    train_question = []\n",
    "    train_features=[]\n",
    "    train_shifted_t = []\n",
    "    train_labels=[]\n",
    "    for i in range(len(users_train)):\n",
    "        user = train_data_space.__getitem__(i)\n",
    "        train_chapter.append(user[0])\n",
    "        train_sub_chapter.append(user[1]) \n",
    "        train_question.append(user[2])\n",
    "        train_features.append(user[3])\n",
    "        train_shifted_t.append(user[4])\n",
    "        train_labels.append(user[5])\n",
    "    train_chapter = np.array(train_chapter)\n",
    "    train_sub_chapter = np.array(train_sub_chapter)\n",
    "    train_question = np.array(train_question)\n",
    "    train_features = np.array(train_features)\n",
    "    train_shifted_t = np.array(train_shifted_t)\n",
    "    train_labels= np.array(train_labels)[..., np.newaxis]\n",
    "\n",
    "    #construct validation input\n",
    "    val_chapter=[]\n",
    "    val_sub_chapter=[]\n",
    "    val_question = []\n",
    "    val_features=[]\n",
    "    val_shifted_t = []\n",
    "    val_labels=[]\n",
    "    for i in range(len(users_val)):\n",
    "        user = val_data_space.__getitem__(i)\n",
    "        val_chapter.append(user[0])\n",
    "        val_sub_chapter.append(user[1]) \n",
    "        val_question.append(user[2])\n",
    "        val_features.append(user[3])\n",
    "        val_shifted_t.append(user[4])\n",
    "        val_labels.append(user[5])\n",
    "    val_chapter = np.array(val_chapter)\n",
    "    val_sub_chapter = np.array(val_sub_chapter)\n",
    "    val_features = np.array(val_features)\n",
    "    val_question = np.array(val_question)\n",
    "    val_shifted_t = np.array(val_shifted_t)\n",
    "    val_labels= np.array(val_labels)[..., np.newaxis]\n",
    "\n",
    "    # construct test input\n",
    "    test_chapter=[]\n",
    "    test_sub_chapter=[]\n",
    "    test_features=[]\n",
    "    test_question=[]\n",
    "    test_shifted_t = []\n",
    "    test_labels=[]\n",
    "    for i in range(len(users_test)):\n",
    "        user = test_data_space.__getitem__(i)\n",
    "        test_chapter.append(user[0])\n",
    "        test_sub_chapter.append(user[1]) \n",
    "        test_question.append(user[2])\n",
    "        test_features.append(user[3])\n",
    "        test_shifted_t.append(user[4])\n",
    "        test_labels.append(user[5])\n",
    "    test_chapter = np.array(test_chapter)\n",
    "    test_sub_chapter = np.array(test_sub_chapter)\n",
    "    test_features = np.array(test_features)\n",
    "    test_question = np.array(test_question)\n",
    "    test_shifted_t = np.array(test_shifted_t)\n",
    "    test_labels= np.array(test_labels)[..., np.newaxis]\n",
    "\n",
    "    # define loss function and evaluation metrics\n",
    "    bce = tf.keras.losses.BinaryCrossentropy(from_logits=True)\n",
    "    acc = tf.keras.metrics.Accuracy()\n",
    "    auc = tf.keras.metrics.AUC()\n",
    "\n",
    "    def masked_bce(y_true, y_pred):\n",
    "      flat_pred = y_pred\n",
    "      flat_ground_truth = y_true\n",
    "      label_mask = tf.math.not_equal(flat_ground_truth, -1)\n",
    "      return bce(flat_ground_truth, flat_pred, sample_weight=label_mask)\n",
    "\n",
    "    def masked_acc(y_true, y_pred):\n",
    "      flat_pred = y_pred\n",
    "      flat_ground_truth = y_true\n",
    "      flat_pred = (flat_pred >= 0.5)\n",
    "      label_mask = tf.math.not_equal(flat_ground_truth, -1)\n",
    "      return acc(flat_ground_truth, flat_pred, sample_weight=label_mask)\n",
    "\n",
    "    def masked_auc(y_true, y_pred):\n",
    "      flat_pred = y_pred\n",
    "      flat_ground_truth = y_true\n",
    "      label_mask = tf.math.not_equal(flat_ground_truth, -1)\n",
    "      return auc(flat_ground_truth, flat_pred, sample_weight=label_mask)\n",
    "\n",
    "    # input layer\n",
    "    input_chap = tf.keras.Input(shape=(MAXLENGTH))\n",
    "    input_sub_chap = tf.keras.Input(shape=(MAXLENGTH))\n",
    "    input_ques =  tf.keras.Input(shape=(MAXLENGTH))\n",
    "    input_shifted = tf.keras.Input(shape=(MAXLENGTH))\n",
    "    input_features = tf.keras.Input(shape=(MAXLENGTH, FEATURES_SIZE))\n",
    "\n",
    "    # embedding layer for categorical features\n",
    "    embedding_chap = Embedding(input_dim = CHAPTER_SIZE, output_dim = EMBEDDING_DIM)(input_chap)\n",
    "    embedding_sub_chap = Embedding(input_dim = SUB_CHAPTER_SIZE, output_dim = EMBEDDING_DIM)(input_sub_chap) \n",
    "    embedding_ques = Embedding(input_dim = QUESTION_SIZE, output_dim = EMBEDDING_DIM)(input_ques)       \n",
    "    embedding_shifted = Embedding(input_dim = 3, output_dim = EMBEDDING_DIM)(input_shifted)\n",
    "    # dense layer for numeric features\n",
    "    dense_features = Dense(EMBEDDING_DIM,input_shape = (None, MAXLENGTH))(input_features)\n",
    "\n",
    "    # definr RNN layers\n",
    "    RNN_chap = RNN(RNN_NEURON, input_shape = (None, EMBEDDING_DIM),return_sequences = True)(embedding_chap)\n",
    "    RNN_sub_chap = RNN(RNN_NEURON, input_shape = (None, EMBEDDING_DIM),return_sequences = True)(embedding_sub_chap)\n",
    "    RNN_ques = RNN(RNN_NEURON, input_shape = (None, EMBEDDING_DIM),return_sequences = True)(embedding_ques)\n",
    "    RNN_shif = RNN(RNN_NEURON, input_shape = (None, EMBEDDING_DIM),return_sequences = True)(embedding_shifted)\n",
    "    RNN_features = RNN(RNN_NEURON, input_shape = (None, EMBEDDING_DIM),return_sequences = True)(dense_features)\n",
    "\n",
    "    RNN_output = tf.concat([RNN_chap, RNN_sub_chap, RNN_ques, RNN_shif, RNN_features], axis = 2)\n",
    "\n",
    "    dense1 = Dense(256, input_shape = (None, 5*EMBEDDING_DIM), activation='relu')(RNN_output)\n",
    "    dropout1 = Dropout(0.1)(dense1)\n",
    "    dense2 = Dense(64, input_shape = (None, 256), activation='relu')(dropout1)\n",
    "    dropout2 = Dropout(0.1)(dense2)\n",
    "    pred = Dense(1, input_shape = (None, 64), activation='sigmoid')(dropout2)\n",
    "\n",
    "    model = tf.keras.Model(\n",
    "        inputs=[input_chap, input_sub_chap,input_ques, input_shifted, input_features],\n",
    "        outputs=pred,\n",
    "        name='RNN_model'\n",
    "    )\n",
    "\n",
    "    callback = tf.keras.callbacks.EarlyStopping(monitor='val_loss', patience=10)\n",
    "    opt_adam = Adam(learning_rate = 0.005)\n",
    "    model.compile(\n",
    "        optimizer=opt_adam,\n",
    "        loss= masked_bce,\n",
    "        metrics = [masked_acc, masked_auc]\n",
    "    )\n",
    "\n",
    "    history = model.fit(\n",
    "      [train_chapter, train_sub_chapter, train_question, train_shifted_t, train_features],\n",
    "      train_labels,\n",
    "      batch_size = 64,\n",
    "      epochs = 100,\n",
    "      validation_data=([val_chapter, val_sub_chapter, val_question, val_shifted_t, val_features], val_labels),\n",
    "      callbacks=[callback]\n",
    "    )\n",
    "    val_losses.append(list(history.history['val_loss']))\n",
    "    train_losses.append(list(history.history['loss']))\n",
    "    val_aucs.append(list(history.history['val_masked_auc']))\n",
    "    train_aucs.append(list(history.history['masked_auc']))\n",
    "    train_score = model.evaluate([train_chapter, train_sub_chapter, train_question, train_shifted_t, train_features], train_labels)\n",
    "    train_eval.append(train_score)\n",
    "    test_score = model.evaluate([test_chapter, test_sub_chapter, test_question, test_shifted_t, test_features], test_labels)\n",
    "    test_eval.append(test_score)\n",
    "    print(\"Test: \", test_score)\n",
    "    def reset_weights(model):\n",
    "      for layer in model.layers: \n",
    "        if isinstance(layer, tf.keras.Model):\n",
    "          reset_weights(layer)\n",
    "          continue\n",
    "        for k, initializer in layer.__dict__.items():\n",
    "          if \"initializer\" not in k:\n",
    "            continue\n",
    "          # find the corresponding variable\n",
    "          var = getattr(layer, k.replace(\"_initializer\", \"\"))\n",
    "          var.assign(initializer(var.shape, var.dtype))\n",
    "    reset_weights(model)"
   ]
  },
  {
   "cell_type": "code",
   "execution_count": 33,
   "metadata": {
    "execution": {
     "iopub.execute_input": "2021-08-08T15:50:18.015421Z",
     "iopub.status.busy": "2021-08-08T15:50:18.014492Z",
     "iopub.status.idle": "2021-08-08T15:50:18.020341Z",
     "shell.execute_reply": "2021-08-08T15:50:18.019409Z",
     "shell.execute_reply.started": "2021-08-06T21:22:41.876306Z"
    },
    "id": "QsVmumHMz3lx",
    "outputId": "4ff1e2fa-6abb-458e-c729-495b456f53e5",
    "papermill": {
     "duration": 0.768706,
     "end_time": "2021-08-08T15:50:18.020560",
     "exception": false,
     "start_time": "2021-08-08T15:50:17.251854",
     "status": "completed"
    },
    "tags": []
   },
   "outputs": [
    {
     "name": "stdout",
     "output_type": "stream",
     "text": [
      "test avg loss:  0.44489179253578187 +/- 0.013668213547399744\n",
      "test avg acc:  0.7932540774345398 +/- 0.0011962145214665495\n",
      "test avg auc:  0.8569844126701355 +/- 0.0010651070743756864\n"
     ]
    }
   ],
   "source": [
    "t_eval = np.array(test_eval)\n",
    "print(\"test avg loss: \", np.mean(t_eval[:, 0]), \"+/-\" ,np.std(t_eval[:, 0]))\n",
    "print(\"test avg acc: \", np.mean(t_eval[:, 1]),  \"+/-\" ,np.std(t_eval[:, 1]))\n",
    "print(\"test avg auc: \", np.mean(t_eval[:, 2]), \"+/-\" ,np.std(t_eval[:, 2]))"
   ]
  },
  {
   "cell_type": "code",
   "execution_count": 34,
   "metadata": {
    "execution": {
     "iopub.execute_input": "2021-08-08T15:50:19.598898Z",
     "iopub.status.busy": "2021-08-08T15:50:19.598220Z",
     "iopub.status.idle": "2021-08-08T15:50:19.603277Z",
     "shell.execute_reply": "2021-08-08T15:50:19.602743Z",
     "shell.execute_reply.started": "2021-08-06T21:22:41.886927Z"
    },
    "id": "b9MM_CXWz5K6",
    "outputId": "4cf88e1d-3a74-4e7d-f92c-d01522e91757",
    "papermill": {
     "duration": 0.821593,
     "end_time": "2021-08-08T15:50:19.603419",
     "exception": false,
     "start_time": "2021-08-08T15:50:18.781826",
     "status": "completed"
    },
    "tags": []
   },
   "outputs": [
    {
     "name": "stdout",
     "output_type": "stream",
     "text": [
      "train avg loss:  0.33878360986709594 +/- 0.0023550857699588105\n",
      "train avg acc:  0.7927220106124878 +/- 0.0011841600228665605\n",
      "train avg auc:  0.8560217142105102 +/- 0.001068734039648322\n"
     ]
    }
   ],
   "source": [
    "t_eval = np.array(train_eval)\n",
    "print(\"train avg loss: \", np.mean(t_eval[:, 0]), \"+/-\" ,np.std(t_eval[:, 0]))\n",
    "print(\"train avg acc: \", np.mean(t_eval[:, 1]),  \"+/-\" ,np.std(t_eval[:, 1]))\n",
    "print(\"train avg auc: \", np.mean(t_eval[:, 2]), \"+/-\" ,np.std(t_eval[:, 2]))"
   ]
  }
 ],
 "metadata": {
  "kernelspec": {
   "display_name": "Python 3",
   "language": "python",
   "name": "python3"
  },
  "language_info": {
   "codemirror_mode": {
    "name": "ipython",
    "version": 3
   },
   "file_extension": ".py",
   "mimetype": "text/x-python",
   "name": "python",
   "nbconvert_exporter": "python",
   "pygments_lexer": "ipython3",
   "version": "3.8.5"
  },
  "papermill": {
   "default_parameters": {},
   "duration": 1064.609231,
   "end_time": "2021-08-08T15:50:22.564030",
   "environment_variables": {},
   "exception": null,
   "input_path": "__notebook__.ipynb",
   "output_path": "__notebook__.ipynb",
   "parameters": {},
   "start_time": "2021-08-08T15:32:37.954799",
   "version": "2.3.3"
  }
 },
 "nbformat": 4,
 "nbformat_minor": 5
}
