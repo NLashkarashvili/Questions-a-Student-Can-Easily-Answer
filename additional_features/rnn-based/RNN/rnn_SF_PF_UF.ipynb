{
 "cells": [
  {
   "cell_type": "code",
   "execution_count": 1,
   "metadata": {
    "execution": {
     "iopub.execute_input": "2021-08-08T16:15:40.371004Z",
     "iopub.status.busy": "2021-08-08T16:15:40.370288Z",
     "iopub.status.idle": "2021-08-08T16:15:46.876907Z",
     "shell.execute_reply": "2021-08-08T16:15:46.877508Z",
     "shell.execute_reply.started": "2021-08-06T20:53:41.672006Z"
    },
    "id": "farifxiKU1aB",
    "papermill": {
     "duration": 6.551362,
     "end_time": "2021-08-08T16:15:46.877816",
     "exception": false,
     "start_time": "2021-08-08T16:15:40.326454",
     "status": "completed"
    },
    "tags": []
   },
   "outputs": [],
   "source": [
    "import numpy as np\n",
    "import pandas as pd\n",
    "import warnings\n",
    "import gc\n",
    "import tensorflow as tf\n",
    "from tensorflow import keras\n",
    "\n",
    "import random\n",
    "from random import choice\n",
    "from tensorflow.keras.optimizers import Adam\n",
    "from tensorflow.keras.models import Sequential \n",
    "from tensorflow.keras.layers import Dense, Concatenate, Embedding, Flatten, Activation, Dropout\n",
    "from tensorflow.keras.layers import SimpleRNN as RNN\n",
    "from sklearn.model_selection import KFold\n",
    "from tensorflow.python.client import device_lib\n",
    "warnings.filterwarnings('ignore')\n",
    "import random"
   ]
  },
  {
   "cell_type": "code",
   "execution_count": 2,
   "metadata": {
    "execution": {
     "iopub.execute_input": "2021-08-08T16:15:46.946129Z",
     "iopub.status.busy": "2021-08-08T16:15:46.944536Z",
     "iopub.status.idle": "2021-08-08T16:15:46.948374Z",
     "shell.execute_reply": "2021-08-08T16:15:46.947837Z",
     "shell.execute_reply.started": "2021-08-06T20:53:43.985924Z"
    },
    "id": "QOson70GPOXb",
    "papermill": {
     "duration": 0.039361,
     "end_time": "2021-08-08T16:15:46.948518",
     "exception": false,
     "start_time": "2021-08-08T16:15:46.909157",
     "status": "completed"
    },
    "tags": []
   },
   "outputs": [],
   "source": [
    "import gc"
   ]
  },
  {
   "cell_type": "markdown",
   "metadata": {
    "id": "BQsVybBH3VPw",
    "papermill": {
     "duration": 0.032339,
     "end_time": "2021-08-08T16:15:47.013645",
     "exception": false,
     "start_time": "2021-08-08T16:15:46.981306",
     "status": "completed"
    },
    "tags": []
   },
   "source": [
    "## Data Preprocessing"
   ]
  },
  {
   "cell_type": "code",
   "execution_count": 3,
   "metadata": {
    "execution": {
     "iopub.execute_input": "2021-08-08T16:15:47.086342Z",
     "iopub.status.busy": "2021-08-08T16:15:47.085585Z",
     "iopub.status.idle": "2021-08-08T16:15:54.124949Z",
     "shell.execute_reply": "2021-08-08T16:15:54.124378Z",
     "shell.execute_reply.started": "2021-08-06T20:53:43.99311Z"
    },
    "id": "rwtTusGxrmAE",
    "outputId": "1430f3cf-038b-485e-b5c4-c1686b1f34fd",
    "papermill": {
     "duration": 7.0783,
     "end_time": "2021-08-08T16:15:54.125086",
     "exception": false,
     "start_time": "2021-08-08T16:15:47.046786",
     "status": "completed"
    },
    "tags": []
   },
   "outputs": [
    {
     "data": {
      "text/html": [
       "<div>\n",
       "<style scoped>\n",
       "    .dataframe tbody tr th:only-of-type {\n",
       "        vertical-align: middle;\n",
       "    }\n",
       "\n",
       "    .dataframe tbody tr th {\n",
       "        vertical-align: top;\n",
       "    }\n",
       "\n",
       "    .dataframe thead th {\n",
       "        text-align: right;\n",
       "    }\n",
       "</style>\n",
       "<table border=\"1\" class=\"dataframe\">\n",
       "  <thead>\n",
       "    <tr style=\"text-align: right;\">\n",
       "      <th></th>\n",
       "      <th>Unnamed: 0</th>\n",
       "      <th>chapter_label</th>\n",
       "      <th>sub_chapter_label</th>\n",
       "      <th>question_name</th>\n",
       "      <th>user_id.x</th>\n",
       "      <th>term</th>\n",
       "      <th>STDNT_SEX_CD</th>\n",
       "      <th>NonNativeEnglish</th>\n",
       "      <th>White</th>\n",
       "      <th>Asian</th>\n",
       "      <th>...</th>\n",
       "      <th>classGraded</th>\n",
       "      <th>classHonors</th>\n",
       "      <th>Pass_Fail</th>\n",
       "      <th>parentsGraduateEdu</th>\n",
       "      <th>minorityGroup</th>\n",
       "      <th>q</th>\n",
       "      <th>day's_available_flashcards</th>\n",
       "      <th>start_practice</th>\n",
       "      <th>end_practice</th>\n",
       "      <th>days_offset</th>\n",
       "    </tr>\n",
       "  </thead>\n",
       "  <tbody>\n",
       "    <tr>\n",
       "      <th>0</th>\n",
       "      <td>1</td>\n",
       "      <td>Sort</td>\n",
       "      <td>intro-SortingwithSortandSorted</td>\n",
       "      <td>ee_sort_04</td>\n",
       "      <td>148</td>\n",
       "      <td>WN 2018</td>\n",
       "      <td>1</td>\n",
       "      <td>0</td>\n",
       "      <td>1</td>\n",
       "      <td>0</td>\n",
       "      <td>...</td>\n",
       "      <td>1</td>\n",
       "      <td>0</td>\n",
       "      <td>0</td>\n",
       "      <td>0</td>\n",
       "      <td>0</td>\n",
       "      <td>0</td>\n",
       "      <td>18</td>\n",
       "      <td>2018-03-04 20:00:19</td>\n",
       "      <td>2018-03-04 20:00:35</td>\n",
       "      <td>45</td>\n",
       "    </tr>\n",
       "    <tr>\n",
       "      <th>1</th>\n",
       "      <td>2</td>\n",
       "      <td>Functions</td>\n",
       "      <td>Returningavaluefromafunction</td>\n",
       "      <td>test_questionfunctions_2_3</td>\n",
       "      <td>148</td>\n",
       "      <td>WN 2018</td>\n",
       "      <td>1</td>\n",
       "      <td>0</td>\n",
       "      <td>1</td>\n",
       "      <td>0</td>\n",
       "      <td>...</td>\n",
       "      <td>1</td>\n",
       "      <td>0</td>\n",
       "      <td>0</td>\n",
       "      <td>0</td>\n",
       "      <td>0</td>\n",
       "      <td>4</td>\n",
       "      <td>16</td>\n",
       "      <td>2018-02-10 11:57:55</td>\n",
       "      <td>2018-02-10 11:58:35</td>\n",
       "      <td>23</td>\n",
       "    </tr>\n",
       "    <tr>\n",
       "      <th>2</th>\n",
       "      <td>3</td>\n",
       "      <td>RESTAPIs</td>\n",
       "      <td>functionswithrestapis</td>\n",
       "      <td>test_question_functions_rest_apis_1</td>\n",
       "      <td>148</td>\n",
       "      <td>WN 2018</td>\n",
       "      <td>1</td>\n",
       "      <td>0</td>\n",
       "      <td>1</td>\n",
       "      <td>0</td>\n",
       "      <td>...</td>\n",
       "      <td>1</td>\n",
       "      <td>0</td>\n",
       "      <td>0</td>\n",
       "      <td>0</td>\n",
       "      <td>0</td>\n",
       "      <td>1</td>\n",
       "      <td>2</td>\n",
       "      <td>2018-03-12 17:03:07</td>\n",
       "      <td>2018-03-12 17:04:28</td>\n",
       "      <td>53</td>\n",
       "    </tr>\n",
       "    <tr>\n",
       "      <th>3</th>\n",
       "      <td>4</td>\n",
       "      <td>SimplePythonData</td>\n",
       "      <td>FunctionCalls</td>\n",
       "      <td>exercise_functionCalls_1</td>\n",
       "      <td>148</td>\n",
       "      <td>WN 2018</td>\n",
       "      <td>1</td>\n",
       "      <td>0</td>\n",
       "      <td>1</td>\n",
       "      <td>0</td>\n",
       "      <td>...</td>\n",
       "      <td>1</td>\n",
       "      <td>0</td>\n",
       "      <td>0</td>\n",
       "      <td>0</td>\n",
       "      <td>0</td>\n",
       "      <td>0</td>\n",
       "      <td>10</td>\n",
       "      <td>2018-01-30 14:15:49</td>\n",
       "      <td>2018-01-30 14:15:58</td>\n",
       "      <td>12</td>\n",
       "    </tr>\n",
       "    <tr>\n",
       "      <th>4</th>\n",
       "      <td>5</td>\n",
       "      <td>DictionaryAccumulation</td>\n",
       "      <td>AccumulatingaMaximumValue</td>\n",
       "      <td>ps_04_07</td>\n",
       "      <td>148</td>\n",
       "      <td>WN 2018</td>\n",
       "      <td>1</td>\n",
       "      <td>0</td>\n",
       "      <td>1</td>\n",
       "      <td>0</td>\n",
       "      <td>...</td>\n",
       "      <td>1</td>\n",
       "      <td>0</td>\n",
       "      <td>0</td>\n",
       "      <td>0</td>\n",
       "      <td>0</td>\n",
       "      <td>0</td>\n",
       "      <td>23</td>\n",
       "      <td>2018-03-03 14:04:17</td>\n",
       "      <td>2018-03-03 14:04:25</td>\n",
       "      <td>44</td>\n",
       "    </tr>\n",
       "  </tbody>\n",
       "</table>\n",
       "<p>5 rows × 48 columns</p>\n",
       "</div>"
      ],
      "text/plain": [
       "   Unnamed: 0           chapter_label               sub_chapter_label  \\\n",
       "0           1                    Sort  intro-SortingwithSortandSorted   \n",
       "1           2               Functions    Returningavaluefromafunction   \n",
       "2           3                RESTAPIs           functionswithrestapis   \n",
       "3           4        SimplePythonData                   FunctionCalls   \n",
       "4           5  DictionaryAccumulation       AccumulatingaMaximumValue   \n",
       "\n",
       "                         question_name  user_id.x     term  STDNT_SEX_CD  \\\n",
       "0                           ee_sort_04        148  WN 2018             1   \n",
       "1           test_questionfunctions_2_3        148  WN 2018             1   \n",
       "2  test_question_functions_rest_apis_1        148  WN 2018             1   \n",
       "3             exercise_functionCalls_1        148  WN 2018             1   \n",
       "4                             ps_04_07        148  WN 2018             1   \n",
       "\n",
       "   NonNativeEnglish  White  Asian  ...  classGraded  classHonors  Pass_Fail  \\\n",
       "0                 0      1      0  ...            1            0          0   \n",
       "1                 0      1      0  ...            1            0          0   \n",
       "2                 0      1      0  ...            1            0          0   \n",
       "3                 0      1      0  ...            1            0          0   \n",
       "4                 0      1      0  ...            1            0          0   \n",
       "\n",
       "   parentsGraduateEdu  minorityGroup  q  day's_available_flashcards  \\\n",
       "0                   0              0  0                          18   \n",
       "1                   0              0  4                          16   \n",
       "2                   0              0  1                           2   \n",
       "3                   0              0  0                          10   \n",
       "4                   0              0  0                          23   \n",
       "\n",
       "        start_practice         end_practice  days_offset  \n",
       "0  2018-03-04 20:00:19  2018-03-04 20:00:35           45  \n",
       "1  2018-02-10 11:57:55  2018-02-10 11:58:35           23  \n",
       "2  2018-03-12 17:03:07  2018-03-12 17:04:28           53  \n",
       "3  2018-01-30 14:15:49  2018-01-30 14:15:58           12  \n",
       "4  2018-03-03 14:04:17  2018-03-03 14:04:25           44  \n",
       "\n",
       "[5 rows x 48 columns]"
      ]
     },
     "execution_count": 3,
     "metadata": {},
     "output_type": "execute_result"
    }
   ],
   "source": [
    "# load the data\n",
    "import pandas as pd\n",
    "dataframe = pd.read_csv('../input/practice-log-demographics/Practice_Log_Demographics (1).csv', low_memory=False)\n",
    "dataframe.head()"
   ]
  },
  {
   "cell_type": "code",
   "execution_count": 4,
   "metadata": {
    "execution": {
     "iopub.execute_input": "2021-08-08T16:15:54.193613Z",
     "iopub.status.busy": "2021-08-08T16:15:54.192603Z",
     "iopub.status.idle": "2021-08-08T16:15:54.195773Z",
     "shell.execute_reply": "2021-08-08T16:15:54.195132Z",
     "shell.execute_reply.started": "2021-08-06T20:53:49.176565Z"
    },
    "id": "0RvF7BvEr98o",
    "papermill": {
     "duration": 0.04005,
     "end_time": "2021-08-08T16:15:54.195908",
     "exception": false,
     "start_time": "2021-08-08T16:15:54.155858",
     "status": "completed"
    },
    "tags": []
   },
   "outputs": [],
   "source": [
    "FEATURES = ['chapter_label', 'sub_chapter_label','question_name','user_id','term',\n",
    "            'STDNT_SEX_CD', \n",
    "            'NonNativeEnglish',\n",
    "            'White',\n",
    "            'Asian',\n",
    "            'WhiteOrAsian',\n",
    "            'Hispanic',\n",
    "            'AfricanAmerican',\n",
    "            'OtherEthnicities',\n",
    "            'NonWhiteOrAsian',\n",
    "            'STDNT_CTZN_STAT_CD', 'international', \n",
    "            'gradingType',\n",
    "            'birthYear',\n",
    "            'exclClassCumGPA',\n",
    "            'Freshman',\n",
    "            'Junior',\n",
    "            'Sophomore',\n",
    "            'Senior',\n",
    "            'termCreditsGPA',\n",
    "            'termCreditsNoGPA',\n",
    "            'athlete_1',\n",
    "            'honorsPro',\n",
    "            'LSA', 'programBusiness', 'programEngineering', \n",
    "            'programInformation', 'programOther',\n",
    "            'HSCalculusTaken', \n",
    "            'highSchoolGPA', \n",
    "            'majorsCount', 'minorsCount',\n",
    "            'PREV_TERM_CUM_GPA',\n",
    "            'classGraded', 'classHonors', \n",
    "            'Pass_Fail', \n",
    "            'parentsGraduateEdu',  'minorityGroup', \n",
    "            'q',\n",
    "            'available_flashcards', \n",
    "            'start_practice', \n",
    "            'end_practice',\n",
    "            'days_offset']"
   ]
  },
  {
   "cell_type": "code",
   "execution_count": 5,
   "metadata": {
    "execution": {
     "iopub.execute_input": "2021-08-08T16:15:54.264250Z",
     "iopub.status.busy": "2021-08-08T16:15:54.263598Z",
     "iopub.status.idle": "2021-08-08T16:15:55.021725Z",
     "shell.execute_reply": "2021-08-08T16:15:55.022220Z",
     "shell.execute_reply.started": "2021-08-06T20:53:49.185798Z"
    },
    "id": "Mn341X7lSztl",
    "papermill": {
     "duration": 0.795151,
     "end_time": "2021-08-08T16:15:55.022429",
     "exception": false,
     "start_time": "2021-08-08T16:15:54.227278",
     "status": "completed"
    },
    "tags": []
   },
   "outputs": [],
   "source": [
    "dataframe['available_flashcards'] = dataframe[\"day's_available_flashcards\"][:]\n",
    "dataframe = dataframe.drop([\"day's_available_flashcards\"], axis=1)\n",
    "dataframe['user_id'] = dataframe[\"user_id.x\"][:]\n",
    "dataframe = dataframe.drop([\"user_id.x\"], axis=1)"
   ]
  },
  {
   "cell_type": "code",
   "execution_count": 6,
   "metadata": {
    "execution": {
     "iopub.execute_input": "2021-08-08T16:15:55.086468Z",
     "iopub.status.busy": "2021-08-08T16:15:55.085828Z",
     "iopub.status.idle": "2021-08-08T16:15:55.250985Z",
     "shell.execute_reply": "2021-08-08T16:15:55.251450Z",
     "shell.execute_reply.started": "2021-08-06T20:53:49.660082Z"
    },
    "id": "-_BRggOjbBjN",
    "outputId": "42bff7db-08dd-48dc-a73a-d048508053b7",
    "papermill": {
     "duration": 0.198535,
     "end_time": "2021-08-08T16:15:55.251636",
     "exception": false,
     "start_time": "2021-08-08T16:15:55.053101",
     "status": "completed"
    },
    "tags": []
   },
   "outputs": [
    {
     "data": {
      "text/plain": [
       "82"
      ]
     },
     "execution_count": 6,
     "metadata": {},
     "output_type": "execute_result"
    }
   ],
   "source": [
    "gc.collect()"
   ]
  },
  {
   "cell_type": "code",
   "execution_count": 7,
   "metadata": {
    "execution": {
     "iopub.execute_input": "2021-08-08T16:15:55.319178Z",
     "iopub.status.busy": "2021-08-08T16:15:55.318517Z",
     "iopub.status.idle": "2021-08-08T16:15:55.635163Z",
     "shell.execute_reply": "2021-08-08T16:15:55.635698Z",
     "shell.execute_reply.started": "2021-08-06T20:53:49.836831Z"
    },
    "id": "lXM7MlonVeRL",
    "outputId": "d29ccec0-522f-4e3c-e0b2-39b2e1eaef74",
    "papermill": {
     "duration": 0.353588,
     "end_time": "2021-08-08T16:15:55.635877",
     "exception": false,
     "start_time": "2021-08-08T16:15:55.282289",
     "status": "completed"
    },
    "tags": []
   },
   "outputs": [
    {
     "data": {
      "text/plain": [
       "20"
      ]
     },
     "execution_count": 7,
     "metadata": {},
     "output_type": "execute_result"
    }
   ],
   "source": [
    "dataframe = dataframe[FEATURES]\n",
    "gc.collect()"
   ]
  },
  {
   "cell_type": "code",
   "execution_count": 8,
   "metadata": {
    "execution": {
     "iopub.execute_input": "2021-08-08T16:15:55.702984Z",
     "iopub.status.busy": "2021-08-08T16:15:55.701997Z",
     "iopub.status.idle": "2021-08-08T16:15:56.367763Z",
     "shell.execute_reply": "2021-08-08T16:15:56.368291Z",
     "shell.execute_reply.started": "2021-08-06T20:53:50.129501Z"
    },
    "id": "2WAFv5z3A6fK",
    "outputId": "e27abf84-ec3c-4b88-e1fb-927d94b41898",
    "papermill": {
     "duration": 0.700906,
     "end_time": "2021-08-08T16:15:56.368481",
     "exception": false,
     "start_time": "2021-08-08T16:15:55.667575",
     "status": "completed"
    },
    "tags": []
   },
   "outputs": [],
   "source": [
    "dataframe = dataframe.fillna(0)"
   ]
  },
  {
   "cell_type": "code",
   "execution_count": 9,
   "metadata": {
    "execution": {
     "iopub.execute_input": "2021-08-08T16:15:56.450202Z",
     "iopub.status.busy": "2021-08-08T16:15:56.449523Z",
     "iopub.status.idle": "2021-08-08T16:15:57.939998Z",
     "shell.execute_reply": "2021-08-08T16:15:57.939390Z",
     "shell.execute_reply.started": "2021-08-06T20:53:50.733184Z"
    },
    "id": "qRKqF_0IXZgj",
    "papermill": {
     "duration": 1.540025,
     "end_time": "2021-08-08T16:15:57.940139",
     "exception": false,
     "start_time": "2021-08-08T16:15:56.400114",
     "status": "completed"
    },
    "tags": []
   },
   "outputs": [],
   "source": [
    "#label encode term, chapter_label, question_name, sub_chapter_label columns\n",
    "dataframe['term'] = dataframe['term'].astype('category')\n",
    "dataframe['user_id'] = dataframe['user_id'].astype(int)\n",
    "dataframe['user_id'] = dataframe['user_id'].astype(str)\n",
    "dataframe['user_id'] = dataframe['term'].str.cat(dataframe['user_id'], sep=':')\n",
    "dataframe['user_id'] = dataframe['user_id'].astype('category')\n",
    "dataframe['chapter_label'] = dataframe['chapter_label'].astype('category')\n",
    "dataframe['sub_chapter_label'] = dataframe['sub_chapter_label'].astype('category')\n",
    "dataframe['question_name'] = dataframe['question_name'].astype('category')\n"
   ]
  },
  {
   "cell_type": "code",
   "execution_count": 10,
   "metadata": {
    "execution": {
     "iopub.execute_input": "2021-08-08T16:15:58.008471Z",
     "iopub.status.busy": "2021-08-08T16:15:58.007777Z",
     "iopub.status.idle": "2021-08-08T16:15:58.487780Z",
     "shell.execute_reply": "2021-08-08T16:15:58.487172Z",
     "shell.execute_reply.started": "2021-08-06T20:53:52.202336Z"
    },
    "id": "eVl_067GWkDe",
    "papermill": {
     "duration": 0.516642,
     "end_time": "2021-08-08T16:15:58.487920",
     "exception": false,
     "start_time": "2021-08-08T16:15:57.971278",
     "status": "completed"
    },
    "tags": []
   },
   "outputs": [],
   "source": [
    "#calculate time_lag and prev_time_elapsed\n",
    "dataframe['prev_time_elapsed'] = None\n",
    "dataframe['time_lag'] = None\n",
    "dataframe['time_lag'] = dataframe['time_lag'].astype(np.float)\n",
    "dataframe['prev_time_elapsed'] = dataframe['prev_time_elapsed'].astype(np.float)\n",
    "dataframe.start_practice = pd.to_datetime(dataframe.start_practice, format='%Y-%m-%d %H:%M:%S')\n",
    "dataframe.end_practice = pd.to_datetime(dataframe.end_practice, format='%Y-%m-%d %H:%M:%S')"
   ]
  },
  {
   "cell_type": "code",
   "execution_count": 11,
   "metadata": {
    "execution": {
     "iopub.execute_input": "2021-08-08T16:15:58.556593Z",
     "iopub.status.busy": "2021-08-08T16:15:58.555924Z",
     "iopub.status.idle": "2021-08-08T16:15:59.111415Z",
     "shell.execute_reply": "2021-08-08T16:15:59.110760Z",
     "shell.execute_reply.started": "2021-08-06T20:53:52.690519Z"
    },
    "papermill": {
     "duration": 0.591517,
     "end_time": "2021-08-08T16:15:59.111559",
     "exception": false,
     "start_time": "2021-08-08T16:15:58.520042",
     "status": "completed"
    },
    "tags": []
   },
   "outputs": [],
   "source": [
    "#sort data based on timestamp\n",
    "dataframe = dataframe.sort_values(by=['start_practice']).reset_index(drop=True)"
   ]
  },
  {
   "cell_type": "code",
   "execution_count": 12,
   "metadata": {
    "execution": {
     "iopub.execute_input": "2021-08-08T16:15:59.180161Z",
     "iopub.status.busy": "2021-08-08T16:15:59.179512Z",
     "iopub.status.idle": "2021-08-08T16:15:59.218562Z",
     "shell.execute_reply": "2021-08-08T16:15:59.217832Z",
     "shell.execute_reply.started": "2021-08-06T20:53:53.10858Z"
    },
    "papermill": {
     "duration": 0.076187,
     "end_time": "2021-08-08T16:15:59.218705",
     "exception": false,
     "start_time": "2021-08-08T16:15:59.142518",
     "status": "completed"
    },
    "tags": []
   },
   "outputs": [],
   "source": [
    "dataframe['dif'] = dataframe.end_practice - dataframe.start_practice\n",
    "dataframe['dif'] = dataframe['dif'] /np.timedelta64(1, 's')\n",
    "dataframe['answer_correct'] = np.where((dataframe['q']==5) & (dataframe['dif'] <= 60), 1, 0)"
   ]
  },
  {
   "cell_type": "code",
   "execution_count": 13,
   "metadata": {
    "execution": {
     "iopub.execute_input": "2021-08-08T16:15:59.285901Z",
     "iopub.status.busy": "2021-08-08T16:15:59.285188Z",
     "iopub.status.idle": "2021-08-08T16:15:59.295948Z",
     "shell.execute_reply": "2021-08-08T16:15:59.295384Z",
     "shell.execute_reply.started": "2021-08-06T20:53:53.141542Z"
    },
    "papermill": {
     "duration": 0.046207,
     "end_time": "2021-08-08T16:15:59.296088",
     "exception": false,
     "start_time": "2021-08-08T16:15:59.249881",
     "status": "completed"
    },
    "tags": []
   },
   "outputs": [],
   "source": [
    "unique_chapts = dataframe['chapter_label'].unique()"
   ]
  },
  {
   "cell_type": "code",
   "execution_count": 14,
   "metadata": {
    "execution": {
     "iopub.execute_input": "2021-08-08T16:15:59.369552Z",
     "iopub.status.busy": "2021-08-08T16:15:59.368879Z",
     "iopub.status.idle": "2021-08-08T16:22:48.303784Z",
     "shell.execute_reply": "2021-08-08T16:22:48.301896Z",
     "shell.execute_reply.started": "2021-08-06T20:57:57.26281Z"
    },
    "id": "Xrkcn9VhWETm",
    "outputId": "fd73f3de-5f56-42a8-9539-3f3b79a5a6e2",
    "papermill": {
     "duration": 408.976656,
     "end_time": "2021-08-08T16:22:48.303988",
     "exception": false,
     "start_time": "2021-08-08T16:15:59.327332",
     "status": "completed"
    },
    "tags": []
   },
   "outputs": [
    {
     "name": "stderr",
     "output_type": "stream",
     "text": [
      "100%|██████████| 1110/1110 [06:48<00:00,  2.71it/s]\n"
     ]
    }
   ],
   "source": [
    "unique_chapts = dataframe['chapter_label'].unique()\n",
    "from tqdm import tqdm\n",
    "cnt = 0\n",
    "for user in tqdm(dataframe['user_id'].unique()):\n",
    "        for chapter in unique_chapts:\n",
    "            tmp_user = dataframe[(dataframe['user_id']==user) & (dataframe['chapter_label']==chapter)]\n",
    "            #if user doesn't answer any question from the chapter\n",
    "            if len(tmp_user) < 1:\n",
    "                continue\n",
    "            #calculate average elapsed time before the current question\n",
    "            #from its corresponding chapter\n",
    "            tmp_time_elapsed = tmp_user.end_practice - tmp_user.start_practice\n",
    "            tmp_time_elapsed = tmp_time_elapsed / np.timedelta64(1, 's')\n",
    "            tmp_time_elapsed = np.insert(np.array(tmp_time_elapsed[:-1]), 0, 0., axis=0)\n",
    "            tmp_time_elapsed = np.cumsum(tmp_time_elapsed)\n",
    "            indices = tmp_user.index\n",
    "            start_row = indices[0]\n",
    "            dataframe['time_lag'].iloc[start_row] = 0\n",
    "            for_mean = np.arange(len(tmp_user))\n",
    "            for_mean[0] = 1\n",
    "            time_substrahend = tmp_user.start_practice.iloc[:-1]\n",
    "            time_substrahend = time_substrahend.apply(lambda a: a.timestamp())\n",
    "            time_substrahend = np.array(time_substrahend)\n",
    "            \n",
    "            time_minuend = tmp_user.start_practice.iloc[1:]\n",
    "            time_minuend = time_minuend.apply(lambda a: a.timestamp())\n",
    "            time_minuend = np.array(time_minuend)\n",
    "\n",
    "            dataframe['prev_time_elapsed'].iloc[indices] = tmp_time_elapsed/for_mean\n",
    "            #calculate difference between current and last interaction\n",
    "            #from the same chapter\n",
    "            dataframe['time_lag'].iloc[indices[1:]] = time_minuend - time_substrahend\n"
   ]
  },
  {
   "cell_type": "code",
   "execution_count": 15,
   "metadata": {
    "execution": {
     "iopub.execute_input": "2021-08-08T16:22:49.118265Z",
     "iopub.status.busy": "2021-08-08T16:22:49.116617Z",
     "iopub.status.idle": "2021-08-08T16:22:49.163849Z",
     "shell.execute_reply": "2021-08-08T16:22:49.163298Z",
     "shell.execute_reply.started": "2021-08-06T21:04:40.337666Z"
    },
    "id": "8t8yZ0XvWwzz",
    "papermill": {
     "duration": 0.492986,
     "end_time": "2021-08-08T16:22:49.163992",
     "exception": false,
     "start_time": "2021-08-08T16:22:48.671006",
     "status": "completed"
    },
    "tags": []
   },
   "outputs": [],
   "source": [
    "#drop column end_practice\n",
    "dataframe.drop(columns=['end_practice'], inplace=True)"
   ]
  },
  {
   "cell_type": "code",
   "execution_count": 16,
   "metadata": {
    "execution": {
     "iopub.execute_input": "2021-08-08T16:22:49.888027Z",
     "iopub.status.busy": "2021-08-08T16:22:49.887329Z",
     "iopub.status.idle": "2021-08-08T16:22:50.347731Z",
     "shell.execute_reply": "2021-08-08T16:22:50.347148Z",
     "shell.execute_reply.started": "2021-08-06T21:04:41.469601Z"
    },
    "id": "E42raRIrYYXz",
    "papermill": {
     "duration": 0.823428,
     "end_time": "2021-08-08T16:22:50.347867",
     "exception": false,
     "start_time": "2021-08-08T16:22:49.524439",
     "status": "completed"
    },
    "tags": []
   },
   "outputs": [],
   "source": [
    "# calculate the age feature\n",
    "dataframe['term_value'] = [int(ele[3:]) for ele in dataframe['term']]\n",
    "dataframe['age'] = dataframe['term_value'] - dataframe['birthYear']"
   ]
  },
  {
   "cell_type": "code",
   "execution_count": 17,
   "metadata": {
    "execution": {
     "iopub.execute_input": "2021-08-08T16:22:51.128313Z",
     "iopub.status.busy": "2021-08-08T16:22:51.126827Z",
     "iopub.status.idle": "2021-08-08T16:22:51.445616Z",
     "shell.execute_reply": "2021-08-08T16:22:51.445020Z",
     "shell.execute_reply.started": "2021-08-06T21:04:42.216092Z"
    },
    "id": "pcMVQXueYnMh",
    "papermill": {
     "duration": 0.733609,
     "end_time": "2021-08-08T16:22:51.445762",
     "exception": false,
     "start_time": "2021-08-08T16:22:50.712153",
     "status": "completed"
    },
    "tags": []
   },
   "outputs": [],
   "source": [
    "# drop term_value and birthYear column\n",
    "dataframe.drop(columns=['term_value', 'birthYear'], inplace=True)"
   ]
  },
  {
   "cell_type": "code",
   "execution_count": 18,
   "metadata": {
    "execution": {
     "iopub.execute_input": "2021-08-08T16:22:52.211765Z",
     "iopub.status.busy": "2021-08-08T16:22:52.206702Z",
     "iopub.status.idle": "2021-08-08T16:22:52.687276Z",
     "shell.execute_reply": "2021-08-08T16:22:52.686690Z",
     "shell.execute_reply.started": "2021-08-06T21:04:43.101881Z"
    },
    "id": "hjRF5szkcQE0",
    "papermill": {
     "duration": 0.858957,
     "end_time": "2021-08-08T16:22:52.687432",
     "exception": false,
     "start_time": "2021-08-08T16:22:51.828475",
     "status": "completed"
    },
    "tags": []
   },
   "outputs": [],
   "source": [
    "# convert minors_count to int value\n",
    "new_minors_count = []\n",
    "for i in dataframe['minorsCount']:\n",
    "  if i == 0 or i == '0':\n",
    "    new_minors_count.append(0)\n",
    "  elif i == '1 Minor':\n",
    "    new_minors_count.append(1)\n",
    "  else:\n",
    "    new_minors_count.append(2)\n",
    "\n",
    "dataframe['minorsCount'] = new_minors_count"
   ]
  },
  {
   "cell_type": "code",
   "execution_count": 19,
   "metadata": {
    "execution": {
     "iopub.execute_input": "2021-08-08T16:22:53.411312Z",
     "iopub.status.busy": "2021-08-08T16:22:53.410701Z",
     "iopub.status.idle": "2021-08-08T16:22:53.425498Z",
     "shell.execute_reply": "2021-08-08T16:22:53.424949Z",
     "shell.execute_reply.started": "2021-08-06T21:04:44.069999Z"
    },
    "id": "9VdzvJSw0KUU",
    "outputId": "6393784f-234e-4935-9cee-cbcf56b5630a",
    "papermill": {
     "duration": 0.378659,
     "end_time": "2021-08-08T16:22:53.425629",
     "exception": false,
     "start_time": "2021-08-08T16:22:53.046970",
     "status": "completed"
    },
    "tags": []
   },
   "outputs": [
    {
     "name": "stdout",
     "output_type": "stream",
     "text": [
      "we have  1110  users in total.\n"
     ]
    }
   ],
   "source": [
    "print(\"we have \", dataframe['user_id'].nunique(),\" users in total.\")"
   ]
  },
  {
   "cell_type": "code",
   "execution_count": 20,
   "metadata": {
    "execution": {
     "iopub.execute_input": "2021-08-08T16:22:54.150600Z",
     "iopub.status.busy": "2021-08-08T16:22:54.149947Z",
     "iopub.status.idle": "2021-08-08T16:22:54.157399Z",
     "shell.execute_reply": "2021-08-08T16:22:54.156840Z",
     "shell.execute_reply.started": "2021-08-06T21:04:44.884292Z"
    },
    "id": "hUaGk9L9g13t",
    "papermill": {
     "duration": 0.373375,
     "end_time": "2021-08-08T16:22:54.157538",
     "exception": false,
     "start_time": "2021-08-08T16:22:53.784163",
     "status": "completed"
    },
    "tags": []
   },
   "outputs": [],
   "source": [
    "for category in ['term','chapter_label', 'sub_chapter_label', 'question_name']:\n",
    "  dataframe[category] =  dataframe[category].cat.codes"
   ]
  },
  {
   "cell_type": "code",
   "execution_count": 21,
   "metadata": {
    "execution": {
     "iopub.execute_input": "2021-08-08T16:22:54.879504Z",
     "iopub.status.busy": "2021-08-08T16:22:54.878873Z",
     "iopub.status.idle": "2021-08-08T16:22:55.843241Z",
     "shell.execute_reply": "2021-08-08T16:22:55.841942Z",
     "shell.execute_reply.started": "2021-08-06T21:04:45.606317Z"
    },
    "id": "hkyvcYvlhliG",
    "papermill": {
     "duration": 1.323936,
     "end_time": "2021-08-08T16:22:55.843417",
     "exception": false,
     "start_time": "2021-08-08T16:22:54.519481",
     "status": "completed"
    },
    "tags": []
   },
   "outputs": [],
   "source": [
    "NUMERIC_FEATURE =  ['age',\n",
    "            'exclClassCumGPA',\n",
    "            'termCreditsGPA',\n",
    "            'termCreditsNoGPA',\n",
    "            'highSchoolGPA', \n",
    "            'majorsCount', 'minorsCount',\n",
    "            'PREV_TERM_CUM_GPA',\n",
    "            'available_flashcards', \n",
    "            'days_offset', \n",
    "            'prev_time_elapsed',\n",
    "             'time_lag']\n",
    "# z-score normalize the numerical features\n",
    "for f in NUMERIC_FEATURE:\n",
    "  m = dataframe[f].mean()\n",
    "  std = dataframe[f].std()\n",
    "  dataframe[f] = (dataframe[f] - m)/std"
   ]
  },
  {
   "cell_type": "code",
   "execution_count": 22,
   "metadata": {
    "execution": {
     "iopub.execute_input": "2021-08-08T16:22:56.582184Z",
     "iopub.status.busy": "2021-08-08T16:22:56.579856Z",
     "iopub.status.idle": "2021-08-08T16:23:00.872038Z",
     "shell.execute_reply": "2021-08-08T16:23:00.871503Z",
     "shell.execute_reply.started": "2021-08-06T21:04:46.423055Z"
    },
    "id": "wo2OH-d5kWp1",
    "papermill": {
     "duration": 4.669661,
     "end_time": "2021-08-08T16:23:00.872183",
     "exception": false,
     "start_time": "2021-08-08T16:22:56.202522",
     "status": "completed"
    },
    "tags": []
   },
   "outputs": [],
   "source": [
    "FEATURE_TRANS =  ['answer_correct', 'chapter_label', 'sub_chapter_label','question_name','user_id','term',\n",
    "                  'STDNT_SEX_CD', \n",
    "                    'White','Asian','NonWhiteOrAsian',\n",
    "            'STDNT_CTZN_STAT_CD', 'international', \n",
    "            'age',\n",
    "            'exclClassCumGPA',\n",
    "           'Freshman',\n",
    "            'Junior',\n",
    "            'Sophomore',\n",
    "            'Senior',\n",
    "            'termCreditsGPA',\n",
    "            'termCreditsNoGPA',\n",
    "            'athlete_1',\n",
    "            'honorsPro',\n",
    "            'LSA', 'programBusiness', 'programEngineering', \n",
    "            'programInformation', 'programOther',\n",
    "            'HSCalculusTaken', \n",
    "            'highSchoolGPA', \n",
    "            'majorsCount', 'minorsCount',\n",
    "            'PREV_TERM_CUM_GPA',\n",
    "            'classGraded', 'classHonors', \n",
    "            'Pass_Fail', \n",
    "            'parentsGraduateEdu',  'minorityGroup', \n",
    "            'available_flashcards', \n",
    "            'days_offset', 'prev_time_elapsed',\n",
    "             'time_lag']\n",
    "grouped_data = dataframe[FEATURE_TRANS].groupby(['user_id']).apply(lambda r: (\n",
    "                r['answer_correct'],\n",
    "                r['term'],\n",
    "                r['chapter_label'],\n",
    "                r['sub_chapter_label'],\n",
    "                r['question_name'],\n",
    "                np.array([\n",
    "                  r['STDNT_SEX_CD'],r['STDNT_CTZN_STAT_CD'], r['international'], \n",
    "                  r['White'],r['Asian'],r['NonWhiteOrAsian'],\n",
    "                 r['age'],r['exclClassCumGPA'],\n",
    "                r['Freshman'], r['Junior'], r['Sophomore'], r['Senior'],\n",
    "                r['termCreditsGPA'], r['termCreditsNoGPA'],\n",
    "                r['athlete_1'], r['honorsPro'],\n",
    "                r['LSA'], r['programBusiness'], r['programEngineering'], \n",
    "                r['programInformation'], r['programOther'],\n",
    "                r['HSCalculusTaken'],  r['highSchoolGPA'], \n",
    "                r['majorsCount'], r['minorsCount'],\n",
    "                r['PREV_TERM_CUM_GPA'], \n",
    "                r['parentsGraduateEdu'], r['minorityGroup'],\n",
    "                r['available_flashcards'],\n",
    "                r['days_offset'],\n",
    "                r['prev_time_elapsed'],\n",
    "                r['time_lag']\n",
    "              ]).transpose()\n",
    "                ))"
   ]
  },
  {
   "cell_type": "code",
   "execution_count": 23,
   "metadata": {
    "execution": {
     "iopub.execute_input": "2021-08-08T16:23:01.821049Z",
     "iopub.status.busy": "2021-08-08T16:23:01.819923Z",
     "iopub.status.idle": "2021-08-08T16:23:01.824212Z",
     "shell.execute_reply": "2021-08-08T16:23:01.824723Z",
     "shell.execute_reply.started": "2021-08-06T21:04:50.729982Z"
    },
    "id": "XXLqQnjrlp_4",
    "outputId": "c801da79-f0bf-4fe5-b19c-7c799fe01556",
    "papermill": {
     "duration": 0.569436,
     "end_time": "2021-08-08T16:23:01.824889",
     "exception": false,
     "start_time": "2021-08-08T16:23:01.255453",
     "status": "completed"
    },
    "tags": []
   },
   "outputs": [
    {
     "data": {
      "text/plain": [
       "20"
      ]
     },
     "execution_count": 23,
     "metadata": {},
     "output_type": "execute_result"
    }
   ],
   "source": [
    "gc.collect()"
   ]
  },
  {
   "cell_type": "code",
   "execution_count": 24,
   "metadata": {
    "execution": {
     "iopub.execute_input": "2021-08-08T16:23:02.558151Z",
     "iopub.status.busy": "2021-08-08T16:23:02.557167Z",
     "iopub.status.idle": "2021-08-08T16:23:02.603119Z",
     "shell.execute_reply": "2021-08-08T16:23:02.604006Z",
     "shell.execute_reply.started": "2021-08-06T21:04:50.932864Z"
    },
    "id": "QYGQasdTrmP0",
    "papermill": {
     "duration": 0.418032,
     "end_time": "2021-08-08T16:23:02.604324",
     "exception": false,
     "start_time": "2021-08-08T16:23:02.186292",
     "status": "completed"
    },
    "tags": []
   },
   "outputs": [],
   "source": [
    "# remove students who don't have make any interactions with the tool\n",
    "toRemove = []\n",
    "for index in grouped_data.index:\n",
    "  if len(grouped_data[index][0]) <= 10:\n",
    "    toRemove.append(index)\n",
    "grouped_data = grouped_data.drop(index=toRemove)"
   ]
  },
  {
   "cell_type": "code",
   "execution_count": 25,
   "metadata": {
    "execution": {
     "iopub.execute_input": "2021-08-08T16:23:03.345583Z",
     "iopub.status.busy": "2021-08-08T16:23:03.344921Z",
     "iopub.status.idle": "2021-08-08T16:23:03.360877Z",
     "shell.execute_reply": "2021-08-08T16:23:03.361414Z",
     "shell.execute_reply.started": "2021-08-06T21:04:50.98328Z"
    },
    "papermill": {
     "duration": 0.382813,
     "end_time": "2021-08-08T16:23:03.361587",
     "exception": false,
     "start_time": "2021-08-08T16:23:02.978774",
     "status": "completed"
    },
    "tags": []
   },
   "outputs": [
    {
     "data": {
      "text/plain": [
       "count    1110.000000\n",
       "mean      550.263063\n",
       "std       201.281353\n",
       "min         2.000000\n",
       "25%       438.250000\n",
       "50%       520.500000\n",
       "75%       637.750000\n",
       "max      1500.000000\n",
       "Name: start_practice, dtype: float64"
      ]
     },
     "execution_count": 25,
     "metadata": {},
     "output_type": "execute_result"
    }
   ],
   "source": [
    "dataframe.groupby('user_id')['start_practice'].agg('count').describe()"
   ]
  },
  {
   "cell_type": "code",
   "execution_count": 26,
   "metadata": {
    "execution": {
     "iopub.execute_input": "2021-08-08T16:23:04.082431Z",
     "iopub.status.busy": "2021-08-08T16:23:04.081791Z",
     "iopub.status.idle": "2021-08-08T16:23:04.087378Z",
     "shell.execute_reply": "2021-08-08T16:23:04.086766Z",
     "shell.execute_reply.started": "2021-08-06T21:04:51.003119Z"
    },
    "papermill": {
     "duration": 0.366526,
     "end_time": "2021-08-08T16:23:04.087512",
     "exception": false,
     "start_time": "2021-08-08T16:23:03.720986",
     "status": "completed"
    },
    "tags": []
   },
   "outputs": [
    {
     "data": {
      "text/plain": [
       "['FA 2018:252', 'WN 2018:295']"
      ]
     },
     "execution_count": 26,
     "metadata": {},
     "output_type": "execute_result"
    }
   ],
   "source": [
    "toRemove"
   ]
  },
  {
   "cell_type": "code",
   "execution_count": 27,
   "metadata": {
    "execution": {
     "iopub.execute_input": "2021-08-08T16:23:04.812066Z",
     "iopub.status.busy": "2021-08-08T16:23:04.811368Z",
     "iopub.status.idle": "2021-08-08T16:23:04.814952Z",
     "shell.execute_reply": "2021-08-08T16:23:04.815466Z",
     "shell.execute_reply.started": "2021-08-06T21:04:51.012606Z"
    },
    "id": "9kZqV9siDyNb",
    "papermill": {
     "duration": 0.366123,
     "end_time": "2021-08-08T16:23:04.815636",
     "exception": false,
     "start_time": "2021-08-08T16:23:04.449513",
     "status": "completed"
    },
    "tags": []
   },
   "outputs": [],
   "source": [
    "#SETTINGS -> can be modified at any time\n",
    "MAXLENGTH = 400\n",
    "EMBEDDING_DIM = 128\n",
    "DENSE_NEURON = 16\n",
    "RNN_NEURON = 32"
   ]
  },
  {
   "cell_type": "code",
   "execution_count": 28,
   "metadata": {
    "execution": {
     "iopub.execute_input": "2021-08-08T16:23:05.545300Z",
     "iopub.status.busy": "2021-08-08T16:23:05.544687Z",
     "iopub.status.idle": "2021-08-08T16:23:05.548346Z",
     "shell.execute_reply": "2021-08-08T16:23:05.548905Z",
     "shell.execute_reply.started": "2021-08-06T21:04:51.932106Z"
    },
    "id": "1MksD1JizpPn",
    "papermill": {
     "duration": 0.369577,
     "end_time": "2021-08-08T16:23:05.549070",
     "exception": false,
     "start_time": "2021-08-08T16:23:05.179493",
     "status": "completed"
    },
    "tags": []
   },
   "outputs": [],
   "source": [
    "FEATURES_SIZE = 39\n",
    "CHAPTER_SIZE = 38\n",
    "SUB_CHAPTER_SIZE = 223\n",
    "QUESTION_SIZE = 1069"
   ]
  },
  {
   "cell_type": "code",
   "execution_count": 29,
   "metadata": {
    "execution": {
     "iopub.execute_input": "2021-08-08T16:23:06.278422Z",
     "iopub.status.busy": "2021-08-08T16:23:06.277721Z",
     "iopub.status.idle": "2021-08-08T16:23:06.289871Z",
     "shell.execute_reply": "2021-08-08T16:23:06.290418Z",
     "shell.execute_reply.started": "2021-08-06T21:04:52.955964Z"
    },
    "papermill": {
     "duration": 0.378894,
     "end_time": "2021-08-08T16:23:06.290586",
     "exception": false,
     "start_time": "2021-08-08T16:23:05.911692",
     "status": "completed"
    },
    "tags": []
   },
   "outputs": [
    {
     "data": {
      "text/plain": [
       "array([ 96,  86,  88,  28,  12,  82, 125,  32,  69,  33,  21, 115, 120,\n",
       "       119,  91,  73,  57,  77, 117,  40,  74,  41,  68,  39,  92,  47,\n",
       "       104,  95,  53,  49,  50,  16,  52,  55,   7,  15,  51, 102, 103,\n",
       "        11,  94, 108, 100,  17,  67,  63,  13, 139,  26,  25,   8, 107,\n",
       "         0,  90,  48,  54, 138,   1,   2,   3,  34,  35,  85,   5,  24,\n",
       "        37,  36,  78,  70,  45, 142,  71,  10,  89, 111, 112, 109, 116,\n",
       "        76,  72, 148, 134, 146, 221, 143,  56,  60,  61,  23, 140, 106,\n",
       "        42,  83,  22, 145, 136, 144,  38,   4,  19, 137,  75,  43,  98,\n",
       "        84, 113, 173, 174, 175, 176, 177, 178, 180, 181, 182, 187, 189,\n",
       "       190, 191, 192, 193, 195, 197, 151, 152, 153, 156, 157, 158, 159,\n",
       "       160, 161, 163, 164, 165, 166, 167, 168, 169, 170, 171, 172, 198,\n",
       "       199, 200, 201, 202, 203, 204, 205, 206, 207, 208, 209, 210, 162,\n",
       "       179, 186, 188, 194, 183, 184, 185, 211, 212, 213, 154, 155, 196,\n",
       "         6, 118,  18, 215,  46, 216, 141,  27, 217, 105, 123, 218, 101,\n",
       "       124, 219, 122, 220,  58,  59,  64,  20,  93,  65,  66,   9,  44,\n",
       "        30,  14,  79, 121,  31, 110, 129,  87,  97,  62, 149, 132, 131,\n",
       "       150, 130, 128,  99, 147, 127, 214, 135,  80, 126, 133,  81, 114,\n",
       "        29], dtype=int16)"
      ]
     },
     "execution_count": 29,
     "metadata": {},
     "output_type": "execute_result"
    }
   ],
   "source": [
    "dataframe['sub_chapter_label'].unique()"
   ]
  },
  {
   "cell_type": "code",
   "execution_count": 30,
   "metadata": {
    "execution": {
     "iopub.execute_input": "2021-08-08T16:23:07.018816Z",
     "iopub.status.busy": "2021-08-08T16:23:07.018106Z",
     "iopub.status.idle": "2021-08-08T16:23:08.075041Z",
     "shell.execute_reply": "2021-08-08T16:23:08.075596Z",
     "shell.execute_reply.started": "2021-08-06T21:04:54.080084Z"
    },
    "id": "mY3Thp6d0NaT",
    "papermill": {
     "duration": 1.421486,
     "end_time": "2021-08-08T16:23:08.075790",
     "exception": false,
     "start_time": "2021-08-08T16:23:06.654304",
     "status": "completed"
    },
    "tags": []
   },
   "outputs": [],
   "source": [
    "#create dataset class\n",
    "#to prepare it for train, valid, and test sets\n",
    "from torch.utils.data import Dataset, DataLoader\n",
    "class SPACE_DATASET(Dataset):\n",
    "    def __init__(self, data, maxlength = 400):\n",
    "        super(SPACE_DATASET, self).__init__()\n",
    "        self.maxlength = maxlength\n",
    "        self.data = data\n",
    "        self.users = list()\n",
    "        for user in data.index:\n",
    "            self.users.append(user)\n",
    "\n",
    "    def __len__(self):\n",
    "        return len(self.users)\n",
    "    \n",
    "    def __getitem__(self, ix):\n",
    "        user = self.users[ix]\n",
    "        user = user\n",
    "        target, term, ch_label, sub_ch_label, ques_name, features = self.data[user]\n",
    "        \n",
    "        #0s should be used as padding values\n",
    "        ori_target = target.values \n",
    "        term = term.values\n",
    "        ch_label = ch_label.values + 1\n",
    "        sub_ch_label = sub_ch_label.values +1\n",
    "        ques_name = ques_name.values + 1\n",
    "        \n",
    "        n = len(ch_label)\n",
    "\n",
    "        # one hot for term\n",
    "        term_encode = [0]*7\n",
    "        term_encode[term[0]] = 1\n",
    "        shifted_target= []\n",
    "\n",
    "        \n",
    "        # get  user interaction informations in the previous MAXLEN interactions\n",
    "        if n > self.maxlength:\n",
    "          ch_label = ch_label[-self.maxlength:]\n",
    "          sub_ch_label = sub_ch_label[-self.maxlength:]\n",
    "          ques_name = ques_name[-self.maxlength:]\n",
    "          features = features[-self.maxlength:]\n",
    "          target = ori_target[-self.maxlength:]\n",
    "          shifted_target = ori_target[ (-self.maxlength - 1) :-1]\n",
    "        else:\n",
    "          ch_label = [0]*(self.maxlength - n)+list(ch_label[:])\n",
    "          sub_ch_label = [0]*(self.maxlength - n)+list(sub_ch_label[:])\n",
    "          ques_name = [0]*(self.maxlength - n)+list(ques_name[:])\n",
    "          features = [[0]*len(features[0])]*(self.maxlength  - n)+list(features[:])\n",
    "          target = [-1]*(self.maxlength - n) + list(ori_target[:])\n",
    "          shifted_target = [2]*(self.maxlength + 1 - n) + list(ori_target[:-1])\n",
    "\n",
    "        new_features = []\n",
    "        count = 0\n",
    "        for f in features:\n",
    "          temp = list(f)\n",
    "          temp.extend(term_encode)\n",
    "          #temp.append(shifted_target[count]) #uncomment this line for include previous response feature\n",
    "          new_features.append(temp)\n",
    "          count += 1\n",
    "        features = new_features\n",
    "        return ch_label,sub_ch_label,ques_name,features, shifted_target, target"
   ]
  },
  {
   "cell_type": "code",
   "execution_count": 31,
   "metadata": {
    "execution": {
     "iopub.execute_input": "2021-08-08T16:23:08.796838Z",
     "iopub.status.busy": "2021-08-08T16:23:08.796193Z",
     "iopub.status.idle": "2021-08-08T16:23:08.801520Z",
     "shell.execute_reply": "2021-08-08T16:23:08.802038Z",
     "shell.execute_reply.started": "2021-08-06T21:04:54.917448Z"
    },
    "papermill": {
     "duration": 0.36665,
     "end_time": "2021-08-08T16:23:08.802219",
     "exception": false,
     "start_time": "2021-08-08T16:23:08.435569",
     "status": "completed"
    },
    "tags": []
   },
   "outputs": [
    {
     "data": {
      "text/plain": [
       "223"
      ]
     },
     "execution_count": 31,
     "metadata": {},
     "output_type": "execute_result"
    }
   ],
   "source": [
    "SUB_CHAPTER_SIZE"
   ]
  },
  {
   "cell_type": "markdown",
   "metadata": {
    "id": "4xc90-aLzxat",
    "papermill": {
     "duration": 0.36171,
     "end_time": "2021-08-08T16:23:09.526580",
     "exception": false,
     "start_time": "2021-08-08T16:23:09.164870",
     "status": "completed"
    },
    "tags": []
   },
   "source": [
    "## KFOLD - RNN\n"
   ]
  },
  {
   "cell_type": "code",
   "execution_count": 32,
   "metadata": {
    "execution": {
     "iopub.execute_input": "2021-08-08T16:23:10.255575Z",
     "iopub.status.busy": "2021-08-08T16:23:10.254832Z",
     "iopub.status.idle": "2021-08-08T16:33:38.592424Z",
     "shell.execute_reply": "2021-08-08T16:33:38.592984Z",
     "shell.execute_reply.started": "2021-08-06T21:04:56.750188Z"
    },
    "id": "gzJrljnjzypP",
    "outputId": "87abe488-b493-4f8f-9d71-45cb1d2ddf51",
    "papermill": {
     "duration": 628.7051,
     "end_time": "2021-08-08T16:33:38.593312",
     "exception": false,
     "start_time": "2021-08-08T16:23:09.888212",
     "status": "completed"
    },
    "tags": []
   },
   "outputs": [
    {
     "name": "stdout",
     "output_type": "stream",
     "text": [
      "Epoch 1/100\n",
      "14/14 [==============================] - 14s 666ms/step - loss: 0.6006 - masked_acc: 0.6406 - masked_auc: 0.5184 - val_loss: 0.4926 - val_masked_acc: 0.7070 - val_masked_auc: 0.6343\n",
      "Epoch 2/100\n",
      "14/14 [==============================] - 8s 541ms/step - loss: 0.4526 - masked_acc: 0.7175 - masked_auc: 0.6775 - val_loss: 0.4442 - val_masked_acc: 0.7388 - val_masked_auc: 0.7426\n",
      "Epoch 3/100\n",
      "14/14 [==============================] - 7s 532ms/step - loss: 0.4114 - masked_acc: 0.7444 - masked_auc: 0.7574 - val_loss: 0.4382 - val_masked_acc: 0.7539 - val_masked_auc: 0.7809\n",
      "Epoch 4/100\n",
      "14/14 [==============================] - 7s 514ms/step - loss: 0.4067 - masked_acc: 0.7565 - masked_auc: 0.7875 - val_loss: 0.4389 - val_masked_acc: 0.7623 - val_masked_auc: 0.8005\n",
      "Epoch 5/100\n",
      "14/14 [==============================] - 7s 517ms/step - loss: 0.3917 - masked_acc: 0.7643 - masked_auc: 0.8049 - val_loss: 0.4377 - val_masked_acc: 0.7681 - val_masked_auc: 0.8126\n",
      "Epoch 6/100\n",
      "14/14 [==============================] - 7s 515ms/step - loss: 0.3919 - masked_acc: 0.7694 - masked_auc: 0.8157 - val_loss: 0.4392 - val_masked_acc: 0.7723 - val_masked_auc: 0.8212\n",
      "Epoch 7/100\n",
      "14/14 [==============================] - 7s 520ms/step - loss: 0.3898 - masked_acc: 0.7730 - masked_auc: 0.8232 - val_loss: 0.4421 - val_masked_acc: 0.7757 - val_masked_auc: 0.8279\n",
      "Epoch 8/100\n",
      "14/14 [==============================] - 7s 523ms/step - loss: 0.3770 - masked_acc: 0.7766 - masked_auc: 0.8298 - val_loss: 0.4485 - val_masked_acc: 0.7787 - val_masked_auc: 0.8334\n",
      "Epoch 9/100\n",
      "14/14 [==============================] - 7s 520ms/step - loss: 0.3652 - masked_acc: 0.7795 - masked_auc: 0.8350 - val_loss: 0.4555 - val_masked_acc: 0.7813 - val_masked_auc: 0.8380\n",
      "Epoch 10/100\n",
      "14/14 [==============================] - 7s 511ms/step - loss: 0.3612 - masked_acc: 0.7821 - masked_auc: 0.8395 - val_loss: 0.4537 - val_masked_acc: 0.7836 - val_masked_auc: 0.8420\n",
      "Epoch 11/100\n",
      "14/14 [==============================] - 7s 525ms/step - loss: 0.3632 - masked_acc: 0.7842 - masked_auc: 0.8432 - val_loss: 0.4698 - val_masked_acc: 0.7856 - val_masked_auc: 0.8454\n",
      "Epoch 12/100\n",
      "14/14 [==============================] - 7s 522ms/step - loss: 0.3544 - masked_acc: 0.7863 - masked_auc: 0.8465 - val_loss: 0.4725 - val_masked_acc: 0.7877 - val_masked_auc: 0.8485\n",
      "Epoch 13/100\n",
      "14/14 [==============================] - 7s 536ms/step - loss: 0.3503 - masked_acc: 0.7882 - masked_auc: 0.8496 - val_loss: 0.4748 - val_masked_acc: 0.7896 - val_masked_auc: 0.8515\n",
      "Epoch 14/100\n",
      "14/14 [==============================] - 7s 517ms/step - loss: 0.3444 - masked_acc: 0.7902 - masked_auc: 0.8525 - val_loss: 0.4861 - val_masked_acc: 0.7912 - val_masked_auc: 0.8541\n",
      "Epoch 15/100\n",
      "14/14 [==============================] - 7s 524ms/step - loss: 0.3325 - masked_acc: 0.7918 - masked_auc: 0.8551 - val_loss: 0.4761 - val_masked_acc: 0.7928 - val_masked_auc: 0.8565\n",
      "28/28 [==============================] - 3s 92ms/step - loss: 0.3337 - masked_acc: 0.7941 - masked_auc: 0.8582\n",
      "4/4 [==============================] - 0s 81ms/step - loss: 0.4439 - masked_acc: 0.7947 - masked_auc: 0.8592\n",
      "Test:  [0.44393858313560486, 0.7947108149528503, 0.8592092990875244]\n",
      "Epoch 1/100\n",
      "14/14 [==============================] - 13s 612ms/step - loss: 0.6101 - masked_acc: 0.5475 - masked_auc: 0.5308 - val_loss: 0.4740 - val_masked_acc: 0.6936 - val_masked_auc: 0.6441\n",
      "Epoch 2/100\n",
      "14/14 [==============================] - 9s 616ms/step - loss: 0.4676 - masked_acc: 0.7040 - masked_auc: 0.6781 - val_loss: 0.4144 - val_masked_acc: 0.7294 - val_masked_auc: 0.7377\n",
      "Epoch 3/100\n",
      "14/14 [==============================] - 10s 690ms/step - loss: 0.4215 - masked_acc: 0.7356 - masked_auc: 0.7528 - val_loss: 0.4016 - val_masked_acc: 0.7483 - val_masked_auc: 0.7777\n",
      "Epoch 4/100\n",
      "14/14 [==============================] - 7s 531ms/step - loss: 0.4016 - masked_acc: 0.7517 - masked_auc: 0.7851 - val_loss: 0.4018 - val_masked_acc: 0.7584 - val_masked_auc: 0.7977\n",
      "Epoch 5/100\n",
      "14/14 [==============================] - 7s 528ms/step - loss: 0.4043 - masked_acc: 0.7603 - masked_auc: 0.8017 - val_loss: 0.3987 - val_masked_acc: 0.7651 - val_masked_auc: 0.8103\n",
      "Epoch 6/100\n",
      "14/14 [==============================] - 7s 525ms/step - loss: 0.4021 - masked_acc: 0.7663 - masked_auc: 0.8130 - val_loss: 0.4025 - val_masked_acc: 0.7699 - val_masked_auc: 0.8191\n",
      "Epoch 7/100\n",
      "14/14 [==============================] - 8s 540ms/step - loss: 0.3849 - masked_acc: 0.7712 - masked_auc: 0.8213 - val_loss: 0.4047 - val_masked_acc: 0.7738 - val_masked_auc: 0.8257\n",
      "Epoch 8/100\n",
      "14/14 [==============================] - 7s 519ms/step - loss: 0.3860 - masked_acc: 0.7746 - masked_auc: 0.8274 - val_loss: 0.4024 - val_masked_acc: 0.7770 - val_masked_auc: 0.8311\n",
      "Epoch 9/100\n",
      "14/14 [==============================] - 7s 524ms/step - loss: 0.3743 - masked_acc: 0.7779 - masked_auc: 0.8327 - val_loss: 0.4061 - val_masked_acc: 0.7799 - val_masked_auc: 0.8358\n",
      "Epoch 10/100\n",
      "14/14 [==============================] - 7s 532ms/step - loss: 0.3740 - masked_acc: 0.7807 - masked_auc: 0.8371 - val_loss: 0.4071 - val_masked_acc: 0.7826 - val_masked_auc: 0.8399\n",
      "Epoch 11/100\n",
      "14/14 [==============================] - 7s 537ms/step - loss: 0.3647 - masked_acc: 0.7832 - masked_auc: 0.8410 - val_loss: 0.4161 - val_masked_acc: 0.7849 - val_masked_auc: 0.8435\n",
      "Epoch 12/100\n",
      "14/14 [==============================] - 7s 511ms/step - loss: 0.3587 - masked_acc: 0.7855 - masked_auc: 0.8446 - val_loss: 0.4267 - val_masked_acc: 0.7870 - val_masked_auc: 0.8468\n",
      "Epoch 13/100\n",
      "14/14 [==============================] - 7s 522ms/step - loss: 0.3515 - masked_acc: 0.7877 - masked_auc: 0.8479 - val_loss: 0.4258 - val_masked_acc: 0.7890 - val_masked_auc: 0.8498\n",
      "Epoch 14/100\n",
      "14/14 [==============================] - 7s 514ms/step - loss: 0.3559 - masked_acc: 0.7895 - masked_auc: 0.8507 - val_loss: 0.4313 - val_masked_acc: 0.7909 - val_masked_auc: 0.8526\n",
      "Epoch 15/100\n",
      "14/14 [==============================] - 7s 525ms/step - loss: 0.3349 - masked_acc: 0.7915 - masked_auc: 0.8536 - val_loss: 0.4369 - val_masked_acc: 0.7926 - val_masked_auc: 0.8551\n",
      "28/28 [==============================] - 3s 94ms/step - loss: 0.3371 - masked_acc: 0.7939 - masked_auc: 0.8568\n",
      "4/4 [==============================] - 0s 85ms/step - loss: 0.4657 - masked_acc: 0.7944 - masked_auc: 0.8577\n",
      "Test:  [0.46567317843437195, 0.7943563461303711, 0.8577283620834351]\n",
      "Epoch 1/100\n",
      "14/14 [==============================] - 13s 598ms/step - loss: 0.6262 - masked_acc: 0.6759 - masked_auc: 0.5210 - val_loss: 0.4787 - val_masked_acc: 0.7187 - val_masked_auc: 0.6389\n",
      "Epoch 2/100\n",
      "14/14 [==============================] - 7s 522ms/step - loss: 0.4539 - masked_acc: 0.7274 - masked_auc: 0.6799 - val_loss: 0.4202 - val_masked_acc: 0.7459 - val_masked_auc: 0.7441\n",
      "Epoch 3/100\n",
      "14/14 [==============================] - 8s 542ms/step - loss: 0.4171 - masked_acc: 0.7502 - masked_auc: 0.7590 - val_loss: 0.4123 - val_masked_acc: 0.7591 - val_masked_auc: 0.7828\n",
      "Epoch 4/100\n",
      "14/14 [==============================] - 7s 518ms/step - loss: 0.4052 - masked_acc: 0.7615 - masked_auc: 0.7896 - val_loss: 0.4101 - val_masked_acc: 0.7667 - val_masked_auc: 0.8023\n",
      "Epoch 5/100\n",
      "14/14 [==============================] - 7s 520ms/step - loss: 0.4038 - masked_acc: 0.7681 - masked_auc: 0.8064 - val_loss: 0.4115 - val_masked_acc: 0.7718 - val_masked_auc: 0.8142\n",
      "Epoch 6/100\n",
      "14/14 [==============================] - 7s 532ms/step - loss: 0.3886 - masked_acc: 0.7730 - masked_auc: 0.8172 - val_loss: 0.4148 - val_masked_acc: 0.7756 - val_masked_auc: 0.8225\n",
      "Epoch 7/100\n",
      "14/14 [==============================] - 7s 516ms/step - loss: 0.3871 - masked_acc: 0.7765 - masked_auc: 0.8248 - val_loss: 0.4195 - val_masked_acc: 0.7787 - val_masked_auc: 0.8290\n",
      "Epoch 8/100\n",
      "14/14 [==============================] - 7s 528ms/step - loss: 0.3764 - masked_acc: 0.7796 - masked_auc: 0.8308 - val_loss: 0.4215 - val_masked_acc: 0.7816 - val_masked_auc: 0.8345\n",
      "Epoch 9/100\n",
      "14/14 [==============================] - 7s 518ms/step - loss: 0.3760 - masked_acc: 0.7824 - masked_auc: 0.8359 - val_loss: 0.4198 - val_masked_acc: 0.7842 - val_masked_auc: 0.8391\n",
      "Epoch 10/100\n",
      "14/14 [==============================] - 7s 540ms/step - loss: 0.3730 - masked_acc: 0.7848 - masked_auc: 0.8404 - val_loss: 0.4246 - val_masked_acc: 0.7865 - val_masked_auc: 0.8432\n",
      "Epoch 11/100\n",
      "14/14 [==============================] - 7s 518ms/step - loss: 0.3604 - masked_acc: 0.7872 - masked_auc: 0.8444 - val_loss: 0.4305 - val_masked_acc: 0.7886 - val_masked_auc: 0.8468\n",
      "Epoch 12/100\n",
      "14/14 [==============================] - 7s 534ms/step - loss: 0.3507 - masked_acc: 0.7894 - masked_auc: 0.8480 - val_loss: 0.4334 - val_masked_acc: 0.7907 - val_masked_auc: 0.8501\n",
      "Epoch 13/100\n",
      "14/14 [==============================] - 7s 519ms/step - loss: 0.3525 - masked_acc: 0.7913 - masked_auc: 0.8510 - val_loss: 0.4448 - val_masked_acc: 0.7926 - val_masked_auc: 0.8530\n",
      "Epoch 14/100\n",
      "14/14 [==============================] - 7s 539ms/step - loss: 0.3420 - masked_acc: 0.7933 - masked_auc: 0.8541 - val_loss: 0.4462 - val_masked_acc: 0.7944 - val_masked_auc: 0.8558\n",
      "28/28 [==============================] - 3s 92ms/step - loss: 0.3346 - masked_acc: 0.7959 - masked_auc: 0.8577\n",
      "4/4 [==============================] - 0s 94ms/step - loss: 0.4365 - masked_acc: 0.7964 - masked_auc: 0.8587\n",
      "Test:  [0.436465859413147, 0.7963818907737732, 0.8587362766265869]\n",
      "Epoch 1/100\n",
      "14/14 [==============================] - 13s 630ms/step - loss: 0.6002 - masked_acc: 0.6074 - masked_auc: 0.5189 - val_loss: 0.4545 - val_masked_acc: 0.7065 - val_masked_auc: 0.6397\n",
      "Epoch 2/100\n",
      "14/14 [==============================] - 7s 532ms/step - loss: 0.4558 - masked_acc: 0.7172 - masked_auc: 0.6826 - val_loss: 0.4063 - val_masked_acc: 0.7401 - val_masked_auc: 0.7469\n",
      "Epoch 3/100\n",
      "14/14 [==============================] - 7s 513ms/step - loss: 0.4136 - masked_acc: 0.7450 - masked_auc: 0.7611 - val_loss: 0.3963 - val_masked_acc: 0.7551 - val_masked_auc: 0.7844\n",
      "Epoch 4/100\n",
      "14/14 [==============================] - 7s 510ms/step - loss: 0.4001 - masked_acc: 0.7579 - masked_auc: 0.7915 - val_loss: 0.3927 - val_masked_acc: 0.7634 - val_masked_auc: 0.8034\n",
      "Epoch 5/100\n",
      "14/14 [==============================] - 7s 525ms/step - loss: 0.4004 - masked_acc: 0.7649 - masked_auc: 0.8076 - val_loss: 0.3929 - val_masked_acc: 0.7690 - val_masked_auc: 0.8153\n",
      "Epoch 6/100\n",
      "14/14 [==============================] - 7s 520ms/step - loss: 0.3931 - masked_acc: 0.7702 - masked_auc: 0.8181 - val_loss: 0.3979 - val_masked_acc: 0.7734 - val_masked_auc: 0.8238\n",
      "Epoch 7/100\n",
      "14/14 [==============================] - 7s 527ms/step - loss: 0.3860 - masked_acc: 0.7744 - masked_auc: 0.8259 - val_loss: 0.3978 - val_masked_acc: 0.7769 - val_masked_auc: 0.8303\n",
      "Epoch 8/100\n",
      "14/14 [==============================] - 7s 512ms/step - loss: 0.3790 - masked_acc: 0.7778 - masked_auc: 0.8320 - val_loss: 0.4024 - val_masked_acc: 0.7799 - val_masked_auc: 0.8357\n",
      "Epoch 9/100\n",
      "14/14 [==============================] - 7s 512ms/step - loss: 0.3715 - masked_acc: 0.7807 - masked_auc: 0.8371 - val_loss: 0.4031 - val_masked_acc: 0.7825 - val_masked_auc: 0.8400\n",
      "Epoch 10/100\n",
      "14/14 [==============================] - 7s 503ms/step - loss: 0.3713 - masked_acc: 0.7832 - masked_auc: 0.8412 - val_loss: 0.4059 - val_masked_acc: 0.7850 - val_masked_auc: 0.8440\n",
      "Epoch 11/100\n",
      "14/14 [==============================] - 8s 561ms/step - loss: 0.3669 - masked_acc: 0.7855 - masked_auc: 0.8451 - val_loss: 0.4091 - val_masked_acc: 0.7872 - val_masked_auc: 0.8476\n",
      "Epoch 12/100\n",
      "14/14 [==============================] - 7s 514ms/step - loss: 0.3504 - masked_acc: 0.7879 - masked_auc: 0.8487 - val_loss: 0.4111 - val_masked_acc: 0.7893 - val_masked_auc: 0.8508\n",
      "Epoch 13/100\n",
      "14/14 [==============================] - 7s 505ms/step - loss: 0.3533 - masked_acc: 0.7898 - masked_auc: 0.8517 - val_loss: 0.4164 - val_masked_acc: 0.7912 - val_masked_auc: 0.8537\n",
      "Epoch 14/100\n",
      "14/14 [==============================] - 7s 509ms/step - loss: 0.3515 - masked_acc: 0.7917 - masked_auc: 0.8545 - val_loss: 0.4178 - val_masked_acc: 0.7929 - val_masked_auc: 0.8561\n",
      "28/28 [==============================] - 3s 91ms/step - loss: 0.3443 - masked_acc: 0.7942 - masked_auc: 0.8579\n",
      "4/4 [==============================] - 0s 85ms/step - loss: 0.4394 - masked_acc: 0.7947 - masked_auc: 0.8587\n",
      "Test:  [0.4393700361251831, 0.7946639060974121, 0.8586591482162476]\n",
      "Epoch 1/100\n",
      "14/14 [==============================] - 13s 593ms/step - loss: 0.5926 - masked_acc: 0.5437 - masked_auc: 0.5159 - val_loss: 0.4869 - val_masked_acc: 0.6993 - val_masked_auc: 0.6686\n",
      "Epoch 2/100\n",
      "14/14 [==============================] - 7s 512ms/step - loss: 0.4335 - masked_acc: 0.7140 - masked_auc: 0.7063 - val_loss: 0.4531 - val_masked_acc: 0.7370 - val_masked_auc: 0.7591\n",
      "Epoch 3/100\n",
      "14/14 [==============================] - 7s 507ms/step - loss: 0.4179 - masked_acc: 0.7424 - masked_auc: 0.7707 - val_loss: 0.4462 - val_masked_acc: 0.7522 - val_masked_auc: 0.7899\n",
      "Epoch 4/100\n",
      "14/14 [==============================] - 7s 529ms/step - loss: 0.4043 - masked_acc: 0.7547 - masked_auc: 0.7955 - val_loss: 0.4417 - val_masked_acc: 0.7604 - val_masked_auc: 0.8059\n",
      "Epoch 5/100\n",
      "14/14 [==============================] - 7s 513ms/step - loss: 0.3980 - masked_acc: 0.7622 - masked_auc: 0.8092 - val_loss: 0.4464 - val_masked_acc: 0.7661 - val_masked_auc: 0.8160\n",
      "Epoch 6/100\n",
      "14/14 [==============================] - 7s 532ms/step - loss: 0.3860 - masked_acc: 0.7674 - masked_auc: 0.8184 - val_loss: 0.4405 - val_masked_acc: 0.7702 - val_masked_auc: 0.8231\n",
      "Epoch 7/100\n",
      "14/14 [==============================] - 7s 509ms/step - loss: 0.3897 - masked_acc: 0.7712 - masked_auc: 0.8250 - val_loss: 0.4426 - val_masked_acc: 0.7737 - val_masked_auc: 0.8290\n",
      "Epoch 8/100\n",
      "14/14 [==============================] - 7s 510ms/step - loss: 0.3805 - masked_acc: 0.7746 - masked_auc: 0.8306 - val_loss: 0.4455 - val_masked_acc: 0.7767 - val_masked_auc: 0.8338\n",
      "Epoch 9/100\n",
      "14/14 [==============================] - 7s 510ms/step - loss: 0.3740 - masked_acc: 0.7776 - masked_auc: 0.8352 - val_loss: 0.4478 - val_masked_acc: 0.7793 - val_masked_auc: 0.8380\n",
      "Epoch 10/100\n",
      "14/14 [==============================] - 7s 511ms/step - loss: 0.3731 - masked_acc: 0.7800 - masked_auc: 0.8391 - val_loss: 0.4504 - val_masked_acc: 0.7817 - val_masked_auc: 0.8415\n",
      "Epoch 11/100\n",
      "14/14 [==============================] - 7s 532ms/step - loss: 0.3589 - masked_acc: 0.7824 - masked_auc: 0.8427 - val_loss: 0.4478 - val_masked_acc: 0.7839 - val_masked_auc: 0.8449\n",
      "Epoch 12/100\n",
      "14/14 [==============================] - 7s 504ms/step - loss: 0.3637 - masked_acc: 0.7845 - masked_auc: 0.8459 - val_loss: 0.4571 - val_masked_acc: 0.7859 - val_masked_auc: 0.8479\n",
      "Epoch 13/100\n",
      "14/14 [==============================] - 7s 533ms/step - loss: 0.3538 - masked_acc: 0.7865 - masked_auc: 0.8489 - val_loss: 0.4611 - val_masked_acc: 0.7879 - val_masked_auc: 0.8508\n",
      "Epoch 14/100\n",
      "14/14 [==============================] - 7s 509ms/step - loss: 0.3496 - masked_acc: 0.7885 - masked_auc: 0.8516 - val_loss: 0.4673 - val_masked_acc: 0.7897 - val_masked_auc: 0.8534\n",
      "Epoch 15/100\n",
      "14/14 [==============================] - 7s 516ms/step - loss: 0.3427 - masked_acc: 0.7903 - masked_auc: 0.8543 - val_loss: 0.4778 - val_masked_acc: 0.7915 - val_masked_auc: 0.8559\n",
      "Epoch 16/100\n",
      "14/14 [==============================] - 7s 522ms/step - loss: 0.3392 - masked_acc: 0.7920 - masked_auc: 0.8567 - val_loss: 0.4809 - val_masked_acc: 0.7931 - val_masked_auc: 0.8582\n",
      "28/28 [==============================] - 3s 101ms/step - loss: 0.3305 - masked_acc: 0.7944 - masked_auc: 0.8598\n",
      "4/4 [==============================] - 0s 84ms/step - loss: 0.4334 - masked_acc: 0.7950 - masked_auc: 0.8607\n",
      "Test:  [0.4334154427051544, 0.7949808835983276, 0.8607125282287598]\n"
     ]
    }
   ],
   "source": [
    "# 5 fold cross validation with RNN-based model\n",
    "import torch\n",
    "X = np.array(grouped_data.keys())\n",
    "kfold = KFold(n_splits=5, shuffle=True)\n",
    "train_losses = list()\n",
    "train_aucs = list()\n",
    "val_losses = list()\n",
    "val_aucs = list()\n",
    "train_eval = list()\n",
    "test_eval = list()\n",
    "for train, test in kfold.split(X):\n",
    "    users_train, users_test =  X[train], X[test]\n",
    "    n = len(users_test)//2\n",
    "    users_test, users_val = users_test[:n], users_test[n: ]\n",
    "    train_data_space = SPACE_DATASET(grouped_data[users_train], MAXLENGTH)\n",
    "    val_data_space = SPACE_DATASET(grouped_data[users_val], MAXLENGTH)\n",
    "    test_data_space = SPACE_DATASET(grouped_data[users_test], MAXLENGTH)\n",
    "    #construct training input\n",
    "    train_chapter=[]\n",
    "    train_sub_chapter=[]\n",
    "    train_question = []\n",
    "    train_features=[]\n",
    "    train_shifted_t = []\n",
    "    train_labels=[]\n",
    "    for i in range(len(users_train)):\n",
    "        user = train_data_space.__getitem__(i)\n",
    "        train_chapter.append(user[0])\n",
    "        train_sub_chapter.append(user[1]) \n",
    "        train_question.append(user[2])\n",
    "        train_features.append(user[3])\n",
    "        train_shifted_t.append(user[4])\n",
    "        train_labels.append(user[5])\n",
    "    train_chapter = np.array(train_chapter)\n",
    "    train_sub_chapter = np.array(train_sub_chapter)\n",
    "    train_question = np.array(train_question)\n",
    "    train_features = np.array(train_features)\n",
    "    train_shifted_t = np.array(train_shifted_t)\n",
    "    train_labels= np.array(train_labels)[..., np.newaxis]\n",
    "\n",
    "    #construct validation input\n",
    "    val_chapter=[]\n",
    "    val_sub_chapter=[]\n",
    "    val_question = []\n",
    "    val_features=[]\n",
    "    val_shifted_t = []\n",
    "    val_labels=[]\n",
    "    for i in range(len(users_val)):\n",
    "        user = val_data_space.__getitem__(i)\n",
    "        val_chapter.append(user[0])\n",
    "        val_sub_chapter.append(user[1]) \n",
    "        val_question.append(user[2])\n",
    "        val_features.append(user[3])\n",
    "        val_shifted_t.append(user[4])\n",
    "        val_labels.append(user[5])\n",
    "    val_chapter = np.array(val_chapter)\n",
    "    val_sub_chapter = np.array(val_sub_chapter)\n",
    "    val_features = np.array(val_features)\n",
    "    val_question = np.array(val_question)\n",
    "    val_shifted_t = np.array(val_shifted_t)\n",
    "    val_labels= np.array(val_labels)[..., np.newaxis]\n",
    "\n",
    "    # construct test input\n",
    "    test_chapter=[]\n",
    "    test_sub_chapter=[]\n",
    "    test_features=[]\n",
    "    test_question=[]\n",
    "    test_shifted_t = []\n",
    "    test_labels=[]\n",
    "    for i in range(len(users_test)):\n",
    "        user = test_data_space.__getitem__(i)\n",
    "        test_chapter.append(user[0])\n",
    "        test_sub_chapter.append(user[1]) \n",
    "        test_question.append(user[2])\n",
    "        test_features.append(user[3])\n",
    "        test_shifted_t.append(user[4])\n",
    "        test_labels.append(user[5])\n",
    "    test_chapter = np.array(test_chapter)\n",
    "    test_sub_chapter = np.array(test_sub_chapter)\n",
    "    test_features = np.array(test_features)\n",
    "    test_question = np.array(test_question)\n",
    "    test_shifted_t = np.array(test_shifted_t)\n",
    "    test_labels= np.array(test_labels)[..., np.newaxis]\n",
    "\n",
    "    # define loss function and evaluation metrics\n",
    "    bce = tf.keras.losses.BinaryCrossentropy(from_logits=True)\n",
    "    acc = tf.keras.metrics.Accuracy()\n",
    "    auc = tf.keras.metrics.AUC()\n",
    "\n",
    "    def masked_bce(y_true, y_pred):\n",
    "      flat_pred = y_pred\n",
    "      flat_ground_truth = y_true\n",
    "      label_mask = tf.math.not_equal(flat_ground_truth, -1)\n",
    "      return bce(flat_ground_truth, flat_pred, sample_weight=label_mask)\n",
    "\n",
    "    def masked_acc(y_true, y_pred):\n",
    "      flat_pred = y_pred\n",
    "      flat_ground_truth = y_true\n",
    "      flat_pred = (flat_pred >= 0.5)\n",
    "      label_mask = tf.math.not_equal(flat_ground_truth, -1)\n",
    "      return acc(flat_ground_truth, flat_pred, sample_weight=label_mask)\n",
    "\n",
    "    def masked_auc(y_true, y_pred):\n",
    "      flat_pred = y_pred\n",
    "      flat_ground_truth = y_true\n",
    "      label_mask = tf.math.not_equal(flat_ground_truth, -1)\n",
    "      return auc(flat_ground_truth, flat_pred, sample_weight=label_mask)\n",
    "\n",
    "    # input layer\n",
    "    input_chap = tf.keras.Input(shape=(MAXLENGTH))\n",
    "    input_sub_chap = tf.keras.Input(shape=(MAXLENGTH))\n",
    "    input_ques =  tf.keras.Input(shape=(MAXLENGTH))\n",
    "    input_shifted = tf.keras.Input(shape=(MAXLENGTH))\n",
    "    input_features = tf.keras.Input(shape=(MAXLENGTH, FEATURES_SIZE))\n",
    "\n",
    "    # embedding layer for categorical features\n",
    "    embedding_chap = Embedding(input_dim = CHAPTER_SIZE, output_dim = EMBEDDING_DIM)(input_chap)\n",
    "    embedding_sub_chap = Embedding(input_dim = SUB_CHAPTER_SIZE, output_dim = EMBEDDING_DIM)(input_sub_chap) \n",
    "    embedding_ques = Embedding(input_dim = QUESTION_SIZE, output_dim = EMBEDDING_DIM)(input_ques)       \n",
    "    embedding_shifted = Embedding(input_dim = 3, output_dim = EMBEDDING_DIM)(input_shifted)\n",
    "    # dense layer for numeric features\n",
    "    dense_features = Dense(EMBEDDING_DIM,input_shape = (None, MAXLENGTH))(input_features)\n",
    "\n",
    "    # definr RNN layers\n",
    "    RNN_chap = RNN(RNN_NEURON, input_shape = (None, EMBEDDING_DIM),return_sequences = True)(embedding_chap)\n",
    "    RNN_sub_chap = RNN(RNN_NEURON, input_shape = (None, EMBEDDING_DIM),return_sequences = True)(embedding_sub_chap)\n",
    "    RNN_ques = RNN(RNN_NEURON, input_shape = (None, EMBEDDING_DIM),return_sequences = True)(embedding_ques)\n",
    "    RNN_shif = RNN(RNN_NEURON, input_shape = (None, EMBEDDING_DIM),return_sequences = True)(embedding_shifted)\n",
    "    RNN_features = RNN(RNN_NEURON, input_shape = (None, EMBEDDING_DIM),return_sequences = True)(dense_features)\n",
    "\n",
    "    RNN_output = tf.concat([RNN_chap, RNN_sub_chap, RNN_ques, RNN_shif, RNN_features], axis = 2)\n",
    "\n",
    "    dense1 = Dense(256, input_shape = (None, 5*EMBEDDING_DIM), activation='relu')(RNN_output)\n",
    "    dropout1 = Dropout(0.1)(dense1)\n",
    "    dense2 = Dense(64, input_shape = (None, 256), activation='relu')(dropout1)\n",
    "    dropout2 = Dropout(0.1)(dense2)\n",
    "    pred = Dense(1, input_shape = (None, 64), activation='sigmoid')(dropout2)\n",
    "\n",
    "    model = tf.keras.Model(\n",
    "        inputs=[input_chap, input_sub_chap,input_ques, input_shifted, input_features],\n",
    "        outputs=pred,\n",
    "        name='RNN_model'\n",
    "    )\n",
    "\n",
    "    callback = tf.keras.callbacks.EarlyStopping(monitor='val_loss', patience=10)\n",
    "    opt_adam = Adam(learning_rate = 0.005)\n",
    "    model.compile(\n",
    "        optimizer=opt_adam,\n",
    "        loss= masked_bce,\n",
    "        metrics = [masked_acc, masked_auc]\n",
    "    )\n",
    "\n",
    "    history = model.fit(\n",
    "      [train_chapter, train_sub_chapter, train_question, train_shifted_t, train_features],\n",
    "      train_labels,\n",
    "      batch_size = 64,\n",
    "      epochs = 100,\n",
    "      validation_data=([val_chapter, val_sub_chapter, val_question, val_shifted_t, val_features], val_labels),\n",
    "      callbacks=[callback]\n",
    "    )\n",
    "    val_losses.append(list(history.history['val_loss']))\n",
    "    train_losses.append(list(history.history['loss']))\n",
    "    val_aucs.append(list(history.history['val_masked_auc']))\n",
    "    train_aucs.append(list(history.history['masked_auc']))\n",
    "    train_score = model.evaluate([train_chapter, train_sub_chapter, train_question, train_shifted_t, train_features], train_labels)\n",
    "    train_eval.append(train_score)\n",
    "    test_score = model.evaluate([test_chapter, test_sub_chapter, test_question, test_shifted_t, test_features], test_labels)\n",
    "    test_eval.append(test_score)\n",
    "    print(\"Test: \", test_score)\n",
    "    def reset_weights(model):\n",
    "      for layer in model.layers: \n",
    "        if isinstance(layer, tf.keras.Model):\n",
    "          reset_weights(layer)\n",
    "          continue\n",
    "        for k, initializer in layer.__dict__.items():\n",
    "          if \"initializer\" not in k:\n",
    "            continue\n",
    "          # find the corresponding variable\n",
    "          var = getattr(layer, k.replace(\"_initializer\", \"\"))\n",
    "          var.assign(initializer(var.shape, var.dtype))\n",
    "    reset_weights(model)"
   ]
  },
  {
   "cell_type": "code",
   "execution_count": 33,
   "metadata": {
    "execution": {
     "iopub.execute_input": "2021-08-08T16:33:40.150294Z",
     "iopub.status.busy": "2021-08-08T16:33:40.149621Z",
     "iopub.status.idle": "2021-08-08T16:33:40.153549Z",
     "shell.execute_reply": "2021-08-08T16:33:40.152934Z",
     "shell.execute_reply.started": "2021-08-06T21:22:41.876306Z"
    },
    "id": "QsVmumHMz3lx",
    "outputId": "4ff1e2fa-6abb-458e-c729-495b456f53e5",
    "papermill": {
     "duration": 0.784233,
     "end_time": "2021-08-08T16:33:40.153687",
     "exception": false,
     "start_time": "2021-08-08T16:33:39.369454",
     "status": "completed"
    },
    "tags": []
   },
   "outputs": [
    {
     "name": "stdout",
     "output_type": "stream",
     "text": [
      "test avg loss:  0.44377261996269224 +/- 0.01148655405302192\n",
      "test avg acc:  0.7950187683105469 +/- 0.0007098033117404325\n",
      "test avg auc:  0.8590091228485107 +/- 0.0009776436833049235\n"
     ]
    }
   ],
   "source": [
    "t_eval = np.array(test_eval)\n",
    "print(\"test avg loss: \", np.mean(t_eval[:, 0]), \"+/-\" ,np.std(t_eval[:, 0]))\n",
    "print(\"test avg acc: \", np.mean(t_eval[:, 1]),  \"+/-\" ,np.std(t_eval[:, 1]))\n",
    "print(\"test avg auc: \", np.mean(t_eval[:, 2]), \"+/-\" ,np.std(t_eval[:, 2]))"
   ]
  },
  {
   "cell_type": "code",
   "execution_count": 34,
   "metadata": {
    "execution": {
     "iopub.execute_input": "2021-08-08T16:33:41.804218Z",
     "iopub.status.busy": "2021-08-08T16:33:41.803518Z",
     "iopub.status.idle": "2021-08-08T16:33:41.809444Z",
     "shell.execute_reply": "2021-08-08T16:33:41.808929Z",
     "shell.execute_reply.started": "2021-08-06T21:22:41.886927Z"
    },
    "id": "b9MM_CXWz5K6",
    "outputId": "4cf88e1d-3a74-4e7d-f92c-d01522e91757",
    "papermill": {
     "duration": 0.784831,
     "end_time": "2021-08-08T16:33:41.809583",
     "exception": false,
     "start_time": "2021-08-08T16:33:41.024752",
     "status": "completed"
    },
    "tags": []
   },
   "outputs": [
    {
     "name": "stdout",
     "output_type": "stream",
     "text": [
      "train avg loss:  0.33602362871170044 +/- 0.004647890194565774\n",
      "train avg acc:  0.7944839000701904 +/- 0.0007166399684225093\n",
      "train avg auc:  0.858092725276947 +/- 0.000961475415963512\n"
     ]
    }
   ],
   "source": [
    "t_eval = np.array(train_eval)\n",
    "print(\"train avg loss: \", np.mean(t_eval[:, 0]), \"+/-\" ,np.std(t_eval[:, 0]))\n",
    "print(\"train avg acc: \", np.mean(t_eval[:, 1]),  \"+/-\" ,np.std(t_eval[:, 1]))\n",
    "print(\"train avg auc: \", np.mean(t_eval[:, 2]), \"+/-\" ,np.std(t_eval[:, 2]))"
   ]
  }
 ],
 "metadata": {
  "kernelspec": {
   "display_name": "Python 3",
   "language": "python",
   "name": "python3"
  },
  "language_info": {
   "codemirror_mode": {
    "name": "ipython",
    "version": 3
   },
   "file_extension": ".py",
   "mimetype": "text/x-python",
   "name": "python",
   "nbconvert_exporter": "python",
   "pygments_lexer": "ipython3",
   "version": "3.8.5"
  },
  "papermill": {
   "default_parameters": {},
   "duration": 1093.445429,
   "end_time": "2021-08-08T16:33:45.755648",
   "environment_variables": {},
   "exception": null,
   "input_path": "__notebook__.ipynb",
   "output_path": "__notebook__.ipynb",
   "parameters": {},
   "start_time": "2021-08-08T16:15:32.310219",
   "version": "2.3.3"
  }
 },
 "nbformat": 4,
 "nbformat_minor": 5
}
