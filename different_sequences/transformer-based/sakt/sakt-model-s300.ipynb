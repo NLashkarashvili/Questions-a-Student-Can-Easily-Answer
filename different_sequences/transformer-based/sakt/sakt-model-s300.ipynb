{
 "cells": [
  {
   "cell_type": "code",
   "execution_count": 1,
   "metadata": {
    "_cell_guid": "79c7e3d0-c299-4dcb-8224-4455121ee9b0",
    "_uuid": "d629ff2d2480ee46fbb7e2d37f6b5fab8052498a",
    "execution": {
     "iopub.execute_input": "2021-07-27T09:40:23.247476Z",
     "iopub.status.busy": "2021-07-27T09:40:23.246812Z",
     "iopub.status.idle": "2021-07-27T09:40:25.199202Z",
     "shell.execute_reply": "2021-07-27T09:40:25.197999Z",
     "shell.execute_reply.started": "2021-07-26T23:16:12.903327Z"
    },
    "papermill": {
     "duration": 1.987153,
     "end_time": "2021-07-27T09:40:25.199423",
     "exception": false,
     "start_time": "2021-07-27T09:40:23.212270",
     "status": "completed"
    },
    "tags": []
   },
   "outputs": [],
   "source": [
    "import psutil\n",
    "import joblib\n",
    "import numpy as np\n",
    "import pandas as pd\n",
    "import torch\n",
    "from tqdm import tqdm\n",
    "from sklearn.metrics import roc_auc_score\n",
    "import torch.nn as nn\n",
    "from sklearn.model_selection import KFold\n",
    "from torch.utils.data import Dataset, DataLoader\n",
    "import gc\n",
    "import os\n",
    "import warnings\n",
    "warnings.filterwarnings(\"ignore\")"
   ]
  },
  {
   "cell_type": "code",
   "execution_count": 2,
   "metadata": {
    "execution": {
     "iopub.execute_input": "2021-07-27T09:40:25.260634Z",
     "iopub.status.busy": "2021-07-27T09:40:25.260133Z",
     "iopub.status.idle": "2021-07-27T09:40:31.801474Z",
     "shell.execute_reply": "2021-07-27T09:40:31.801064Z",
     "shell.execute_reply.started": "2021-07-26T23:16:13.849654Z"
    },
    "papermill": {
     "duration": 6.573682,
     "end_time": "2021-07-27T09:40:31.801594",
     "exception": false,
     "start_time": "2021-07-27T09:40:25.227912",
     "status": "completed"
    },
    "tags": []
   },
   "outputs": [
    {
     "data": {
      "text/html": [
       "<div>\n",
       "<style scoped>\n",
       "    .dataframe tbody tr th:only-of-type {\n",
       "        vertical-align: middle;\n",
       "    }\n",
       "\n",
       "    .dataframe tbody tr th {\n",
       "        vertical-align: top;\n",
       "    }\n",
       "\n",
       "    .dataframe thead th {\n",
       "        text-align: right;\n",
       "    }\n",
       "</style>\n",
       "<table border=\"1\" class=\"dataframe\">\n",
       "  <thead>\n",
       "    <tr style=\"text-align: right;\">\n",
       "      <th></th>\n",
       "      <th>Unnamed: 0</th>\n",
       "      <th>chapter_label</th>\n",
       "      <th>sub_chapter_label</th>\n",
       "      <th>question_name</th>\n",
       "      <th>user_id.x</th>\n",
       "      <th>term</th>\n",
       "      <th>STDNT_SEX_CD</th>\n",
       "      <th>NonNativeEnglish</th>\n",
       "      <th>White</th>\n",
       "      <th>Asian</th>\n",
       "      <th>...</th>\n",
       "      <th>classGraded</th>\n",
       "      <th>classHonors</th>\n",
       "      <th>Pass_Fail</th>\n",
       "      <th>parentsGraduateEdu</th>\n",
       "      <th>minorityGroup</th>\n",
       "      <th>q</th>\n",
       "      <th>day's_available_flashcards</th>\n",
       "      <th>start_practice</th>\n",
       "      <th>end_practice</th>\n",
       "      <th>days_offset</th>\n",
       "    </tr>\n",
       "  </thead>\n",
       "  <tbody>\n",
       "    <tr>\n",
       "      <th>0</th>\n",
       "      <td>1</td>\n",
       "      <td>Sort</td>\n",
       "      <td>intro-SortingwithSortandSorted</td>\n",
       "      <td>ee_sort_04</td>\n",
       "      <td>148</td>\n",
       "      <td>WN 2018</td>\n",
       "      <td>1</td>\n",
       "      <td>0</td>\n",
       "      <td>1</td>\n",
       "      <td>0</td>\n",
       "      <td>...</td>\n",
       "      <td>1</td>\n",
       "      <td>0</td>\n",
       "      <td>0</td>\n",
       "      <td>0</td>\n",
       "      <td>0</td>\n",
       "      <td>0</td>\n",
       "      <td>18</td>\n",
       "      <td>2018-03-04 20:00:19</td>\n",
       "      <td>2018-03-04 20:00:35</td>\n",
       "      <td>45</td>\n",
       "    </tr>\n",
       "    <tr>\n",
       "      <th>1</th>\n",
       "      <td>2</td>\n",
       "      <td>Functions</td>\n",
       "      <td>Returningavaluefromafunction</td>\n",
       "      <td>test_questionfunctions_2_3</td>\n",
       "      <td>148</td>\n",
       "      <td>WN 2018</td>\n",
       "      <td>1</td>\n",
       "      <td>0</td>\n",
       "      <td>1</td>\n",
       "      <td>0</td>\n",
       "      <td>...</td>\n",
       "      <td>1</td>\n",
       "      <td>0</td>\n",
       "      <td>0</td>\n",
       "      <td>0</td>\n",
       "      <td>0</td>\n",
       "      <td>4</td>\n",
       "      <td>16</td>\n",
       "      <td>2018-02-10 11:57:55</td>\n",
       "      <td>2018-02-10 11:58:35</td>\n",
       "      <td>23</td>\n",
       "    </tr>\n",
       "    <tr>\n",
       "      <th>2</th>\n",
       "      <td>3</td>\n",
       "      <td>RESTAPIs</td>\n",
       "      <td>functionswithrestapis</td>\n",
       "      <td>test_question_functions_rest_apis_1</td>\n",
       "      <td>148</td>\n",
       "      <td>WN 2018</td>\n",
       "      <td>1</td>\n",
       "      <td>0</td>\n",
       "      <td>1</td>\n",
       "      <td>0</td>\n",
       "      <td>...</td>\n",
       "      <td>1</td>\n",
       "      <td>0</td>\n",
       "      <td>0</td>\n",
       "      <td>0</td>\n",
       "      <td>0</td>\n",
       "      <td>1</td>\n",
       "      <td>2</td>\n",
       "      <td>2018-03-12 17:03:07</td>\n",
       "      <td>2018-03-12 17:04:28</td>\n",
       "      <td>53</td>\n",
       "    </tr>\n",
       "    <tr>\n",
       "      <th>3</th>\n",
       "      <td>4</td>\n",
       "      <td>SimplePythonData</td>\n",
       "      <td>FunctionCalls</td>\n",
       "      <td>exercise_functionCalls_1</td>\n",
       "      <td>148</td>\n",
       "      <td>WN 2018</td>\n",
       "      <td>1</td>\n",
       "      <td>0</td>\n",
       "      <td>1</td>\n",
       "      <td>0</td>\n",
       "      <td>...</td>\n",
       "      <td>1</td>\n",
       "      <td>0</td>\n",
       "      <td>0</td>\n",
       "      <td>0</td>\n",
       "      <td>0</td>\n",
       "      <td>0</td>\n",
       "      <td>10</td>\n",
       "      <td>2018-01-30 14:15:49</td>\n",
       "      <td>2018-01-30 14:15:58</td>\n",
       "      <td>12</td>\n",
       "    </tr>\n",
       "    <tr>\n",
       "      <th>4</th>\n",
       "      <td>5</td>\n",
       "      <td>DictionaryAccumulation</td>\n",
       "      <td>AccumulatingaMaximumValue</td>\n",
       "      <td>ps_04_07</td>\n",
       "      <td>148</td>\n",
       "      <td>WN 2018</td>\n",
       "      <td>1</td>\n",
       "      <td>0</td>\n",
       "      <td>1</td>\n",
       "      <td>0</td>\n",
       "      <td>...</td>\n",
       "      <td>1</td>\n",
       "      <td>0</td>\n",
       "      <td>0</td>\n",
       "      <td>0</td>\n",
       "      <td>0</td>\n",
       "      <td>0</td>\n",
       "      <td>23</td>\n",
       "      <td>2018-03-03 14:04:17</td>\n",
       "      <td>2018-03-03 14:04:25</td>\n",
       "      <td>44</td>\n",
       "    </tr>\n",
       "  </tbody>\n",
       "</table>\n",
       "<p>5 rows × 48 columns</p>\n",
       "</div>"
      ],
      "text/plain": [
       "   Unnamed: 0           chapter_label               sub_chapter_label  \\\n",
       "0           1                    Sort  intro-SortingwithSortandSorted   \n",
       "1           2               Functions    Returningavaluefromafunction   \n",
       "2           3                RESTAPIs           functionswithrestapis   \n",
       "3           4        SimplePythonData                   FunctionCalls   \n",
       "4           5  DictionaryAccumulation       AccumulatingaMaximumValue   \n",
       "\n",
       "                         question_name  user_id.x     term  STDNT_SEX_CD  \\\n",
       "0                           ee_sort_04        148  WN 2018             1   \n",
       "1           test_questionfunctions_2_3        148  WN 2018             1   \n",
       "2  test_question_functions_rest_apis_1        148  WN 2018             1   \n",
       "3             exercise_functionCalls_1        148  WN 2018             1   \n",
       "4                             ps_04_07        148  WN 2018             1   \n",
       "\n",
       "   NonNativeEnglish  White  Asian  ...  classGraded  classHonors  Pass_Fail  \\\n",
       "0                 0      1      0  ...            1            0          0   \n",
       "1                 0      1      0  ...            1            0          0   \n",
       "2                 0      1      0  ...            1            0          0   \n",
       "3                 0      1      0  ...            1            0          0   \n",
       "4                 0      1      0  ...            1            0          0   \n",
       "\n",
       "   parentsGraduateEdu  minorityGroup  q  day's_available_flashcards  \\\n",
       "0                   0              0  0                          18   \n",
       "1                   0              0  4                          16   \n",
       "2                   0              0  1                           2   \n",
       "3                   0              0  0                          10   \n",
       "4                   0              0  0                          23   \n",
       "\n",
       "        start_practice         end_practice  days_offset  \n",
       "0  2018-03-04 20:00:19  2018-03-04 20:00:35           45  \n",
       "1  2018-02-10 11:57:55  2018-02-10 11:58:35           23  \n",
       "2  2018-03-12 17:03:07  2018-03-12 17:04:28           53  \n",
       "3  2018-01-30 14:15:49  2018-01-30 14:15:58           12  \n",
       "4  2018-03-03 14:04:17  2018-03-03 14:04:25           44  \n",
       "\n",
       "[5 rows x 48 columns]"
      ]
     },
     "execution_count": 2,
     "metadata": {},
     "output_type": "execute_result"
    }
   ],
   "source": [
    "#load data\n",
    "data = pd.read_csv('../input/practice-log-demographics/Practice_Log_Demographics (1).csv', low_memory=False)\n",
    "data.head()"
   ]
  },
  {
   "cell_type": "code",
   "execution_count": 3,
   "metadata": {
    "execution": {
     "iopub.execute_input": "2021-07-27T09:40:31.871480Z",
     "iopub.status.busy": "2021-07-27T09:40:31.866358Z",
     "iopub.status.idle": "2021-07-27T09:40:32.302736Z",
     "shell.execute_reply": "2021-07-27T09:40:32.303209Z",
     "shell.execute_reply.started": "2021-07-26T23:16:18.229095Z"
    },
    "papermill": {
     "duration": 0.482024,
     "end_time": "2021-07-27T09:40:32.303374",
     "exception": false,
     "start_time": "2021-07-27T09:40:31.821350",
     "status": "completed"
    },
    "tags": []
   },
   "outputs": [],
   "source": [
    "data['term_value'] = [int(ele[3:]) for ele in data['term']]\n",
    "data['age'] = data['term_value'] - data['birthYear']"
   ]
  },
  {
   "cell_type": "code",
   "execution_count": 4,
   "metadata": {
    "execution": {
     "iopub.execute_input": "2021-07-27T09:40:32.365865Z",
     "iopub.status.busy": "2021-07-27T09:40:32.360735Z",
     "iopub.status.idle": "2021-07-27T09:40:32.767502Z",
     "shell.execute_reply": "2021-07-27T09:40:32.767020Z",
     "shell.execute_reply.started": "2021-07-26T23:16:18.691497Z"
    },
    "papermill": {
     "duration": 0.444152,
     "end_time": "2021-07-27T09:40:32.767637",
     "exception": false,
     "start_time": "2021-07-27T09:40:32.323485",
     "status": "completed"
    },
    "tags": []
   },
   "outputs": [],
   "source": [
    "#transform minor_count column\n",
    "new_minors_count = []\n",
    "for i in data['minorsCount']:\n",
    "  if i == 0 or i == '0':\n",
    "    new_minors_count.append(0)\n",
    "  elif i == '1 Minor':\n",
    "    new_minors_count.append(1)\n",
    "  else:\n",
    "    new_minors_count.append(2)\n",
    "\n",
    "data['minorsCount'] = new_minors_count"
   ]
  },
  {
   "cell_type": "code",
   "execution_count": 5,
   "metadata": {
    "execution": {
     "iopub.execute_input": "2021-07-27T09:40:32.908096Z",
     "iopub.status.busy": "2021-07-27T09:40:32.906240Z",
     "iopub.status.idle": "2021-07-27T09:40:32.908683Z",
     "shell.execute_reply": "2021-07-27T09:40:32.909106Z",
     "shell.execute_reply.started": "2021-07-26T23:16:19.207075Z"
    },
    "papermill": {
     "duration": 0.122078,
     "end_time": "2021-07-27T09:40:32.909253",
     "exception": false,
     "start_time": "2021-07-27T09:40:32.787175",
     "status": "completed"
    },
    "tags": []
   },
   "outputs": [],
   "source": [
    "FEATURES = ['chapter_label', 'sub_chapter_label','question_name','user_id','term',\n",
    "            'STDNT_SEX_CD', \n",
    "            'NonNativeEnglish',\n",
    "            'White',\n",
    "            'Asian',\n",
    "            'WhiteOrAsian',\n",
    "            'Hispanic',\n",
    "            'AfricanAmerican',\n",
    "            'OtherEthnicities',\n",
    "            'NonWhiteOrAsian',\n",
    "            'STDNT_CTZN_STAT_CD', 'international', \n",
    "            'gradingType',\n",
    "            'birthYear',\n",
    "            'exclClassCumGPA',\n",
    "            'Freshman',\n",
    "            'Junior',\n",
    "            'Sophomore',\n",
    "            'Senior',\n",
    "            'termCreditsGPA',\n",
    "            'termCreditsNoGPA',\n",
    "            'athlete_1',\n",
    "            'honorsPro',\n",
    "            'LSA', 'programBusiness', 'programEngineering', \n",
    "            'programInformation', 'programOther',\n",
    "            'HSCalculusTaken', \n",
    "            'highSchoolGPA', \n",
    "            'majorsCount', 'minorsCount',\n",
    "            'PREV_TERM_CUM_GPA',\n",
    "            'classGraded', 'classHonors', \n",
    "            'Pass_Fail', \n",
    "            'parentsGraduateEdu',  'minorityGroup', \n",
    "            'q',\n",
    "            'available_flashcards', \n",
    "            'start_practice', \n",
    "            'end_practice',\n",
    "            'days_offset']"
   ]
  },
  {
   "cell_type": "code",
   "execution_count": 6,
   "metadata": {
    "execution": {
     "iopub.execute_input": "2021-07-27T09:40:33.034955Z",
     "iopub.status.busy": "2021-07-27T09:40:33.033968Z",
     "iopub.status.idle": "2021-07-27T09:40:33.037853Z",
     "shell.execute_reply": "2021-07-27T09:40:33.038232Z",
     "shell.execute_reply.started": "2021-07-26T23:16:19.215074Z"
    },
    "papermill": {
     "duration": 0.1092,
     "end_time": "2021-07-27T09:40:33.038378",
     "exception": false,
     "start_time": "2021-07-27T09:40:32.929178",
     "status": "completed"
    },
    "tags": []
   },
   "outputs": [
    {
     "data": {
      "text/plain": [
       "20"
      ]
     },
     "execution_count": 6,
     "metadata": {},
     "output_type": "execute_result"
    }
   ],
   "source": [
    "gc.collect()"
   ]
  },
  {
   "cell_type": "code",
   "execution_count": 7,
   "metadata": {
    "execution": {
     "iopub.execute_input": "2021-07-27T09:40:33.262984Z",
     "iopub.status.busy": "2021-07-27T09:40:33.261559Z",
     "iopub.status.idle": "2021-07-27T09:41:11.008704Z",
     "shell.execute_reply": "2021-07-27T09:41:11.009501Z",
     "shell.execute_reply.started": "2021-07-26T23:16:19.324332Z"
    },
    "papermill": {
     "duration": 37.951592,
     "end_time": "2021-07-27T09:41:11.009695",
     "exception": false,
     "start_time": "2021-07-27T09:40:33.058103",
     "status": "completed"
    },
    "tags": []
   },
   "outputs": [],
   "source": [
    "#convert start_practice and end_practice to datatime column\n",
    "data.start_practice = pd.to_datetime(data.start_practice, format='%Y-%m-%d %H:%M:%S')\n",
    "data.end_practice = pd.to_datetime(data.end_practice, format='%Y-%m-%d %H:%M:%S')\n",
    "#label encode term, chapter_label, question_name, sub_chapter_label columns\n",
    "term_d = {'WN 2018': 0, 'FA 2018':1, 'WN 2019': 2, 'FA 2019':3, 'WN 2020': 4, 'FA 2020':5, 'WN 2021': 6 }\n",
    "data['chapter_id'] = data['chapter_label'].replace(data['chapter_label'].unique(), list(range(data['chapter_label'].nunique()))) + 1\n",
    "data['sub_chapter_id'] = data['sub_chapter_label'].replace(data['sub_chapter_label'].unique(), list(range(data['sub_chapter_label'].nunique()))) + 1\n",
    "data['question_id'] = data['question_name'].replace(data['question_name'].unique(), list(range(data['question_name'].nunique()))) + 1\n",
    "data['term'] = data['term'].replace(term_d) + 1"
   ]
  },
  {
   "cell_type": "code",
   "execution_count": 8,
   "metadata": {
    "execution": {
     "iopub.execute_input": "2021-07-27T09:41:11.088858Z",
     "iopub.status.busy": "2021-07-27T09:41:11.087951Z",
     "iopub.status.idle": "2021-07-27T09:41:11.106844Z",
     "shell.execute_reply": "2021-07-27T09:41:11.107982Z",
     "shell.execute_reply.started": "2021-07-26T23:16:56.478832Z"
    },
    "papermill": {
     "duration": 0.065605,
     "end_time": "2021-07-27T09:41:11.108205",
     "exception": false,
     "start_time": "2021-07-27T09:41:11.042600",
     "status": "completed"
    },
    "tags": []
   },
   "outputs": [],
   "source": [
    "data['dif'] = data.end_practice - data.start_practice\n",
    "data['dif'] = data['dif'] /np.timedelta64(1, 's')\n",
    "data['q'] = np.where((data['q']==5) & (data['dif'] <= 60), 1, 0)"
   ]
  },
  {
   "cell_type": "code",
   "execution_count": 9,
   "metadata": {
    "execution": {
     "iopub.execute_input": "2021-07-27T09:41:11.189942Z",
     "iopub.status.busy": "2021-07-27T09:41:11.189072Z",
     "iopub.status.idle": "2021-07-27T09:41:11.419257Z",
     "shell.execute_reply": "2021-07-27T09:41:11.418573Z",
     "shell.execute_reply.started": "2021-07-26T23:16:56.505026Z"
    },
    "papermill": {
     "duration": 0.277434,
     "end_time": "2021-07-27T09:41:11.419399",
     "exception": false,
     "start_time": "2021-07-27T09:41:11.141965",
     "status": "completed"
    },
    "tags": []
   },
   "outputs": [],
   "source": [
    "#drop chapter_label, sub_chapter_label, question_name\n",
    "data.drop(columns = ['chapter_label', 'sub_chapter_label', 'question_name'], inplace=True)"
   ]
  },
  {
   "cell_type": "code",
   "execution_count": 10,
   "metadata": {
    "execution": {
     "iopub.execute_input": "2021-07-27T09:41:11.463677Z",
     "iopub.status.busy": "2021-07-27T09:41:11.462898Z",
     "iopub.status.idle": "2021-07-27T09:41:11.798827Z",
     "shell.execute_reply": "2021-07-27T09:41:11.798314Z",
     "shell.execute_reply.started": "2021-07-26T23:16:56.738965Z"
    },
    "papermill": {
     "duration": 0.359573,
     "end_time": "2021-07-27T09:41:11.798954",
     "exception": false,
     "start_time": "2021-07-27T09:41:11.439381",
     "status": "completed"
    },
    "tags": []
   },
   "outputs": [],
   "source": [
    "#sort data based on timestamp\n",
    "data = data.sort_values(['start_practice'], ascending=True).reset_index(drop=True)"
   ]
  },
  {
   "cell_type": "code",
   "execution_count": 11,
   "metadata": {
    "execution": {
     "iopub.execute_input": "2021-07-27T09:41:11.844132Z",
     "iopub.status.busy": "2021-07-27T09:41:11.843394Z",
     "iopub.status.idle": "2021-07-27T09:41:52.672213Z",
     "shell.execute_reply": "2021-07-27T09:41:52.671234Z",
     "shell.execute_reply.started": "2021-07-26T23:16:57.106179Z"
    },
    "papermill": {
     "duration": 40.853235,
     "end_time": "2021-07-27T09:41:52.672364",
     "exception": false,
     "start_time": "2021-07-27T09:41:11.819129",
     "status": "completed"
    },
    "tags": []
   },
   "outputs": [],
   "source": [
    "#convert user_id column to the int type user_id column\n",
    "data['user_id.x'] = data['term'].astype(str) + data['user_id.x'].astype(str)\n",
    "data['user_id.x'] = data['user_id.x'].replace(data['user_id.x'].unique(), list(range(data['user_id.x'].nunique())))"
   ]
  },
  {
   "cell_type": "code",
   "execution_count": 12,
   "metadata": {
    "execution": {
     "iopub.execute_input": "2021-07-27T09:41:52.723365Z",
     "iopub.status.busy": "2021-07-27T09:41:52.722520Z",
     "iopub.status.idle": "2021-07-27T09:41:52.767095Z",
     "shell.execute_reply": "2021-07-27T09:41:52.766574Z",
     "shell.execute_reply.started": "2021-07-26T23:17:38.442956Z"
    },
    "papermill": {
     "duration": 0.071256,
     "end_time": "2021-07-27T09:41:52.767207",
     "exception": false,
     "start_time": "2021-07-27T09:41:52.695951",
     "status": "completed"
    },
    "tags": []
   },
   "outputs": [],
   "source": [
    "data['prev_time_elapsed'] = None\n",
    "data['time_lag'] = None\n",
    "data['time_lag'] = data['time_lag'].astype(np.float)\n",
    "data['prev_time_elapsed'] = data['prev_time_elapsed'].astype(np.float)"
   ]
  },
  {
   "cell_type": "code",
   "execution_count": 14,
   "metadata": {
    "execution": {
     "iopub.execute_input": "2021-07-27T09:42:13.421928Z",
     "iopub.status.busy": "2021-07-27T09:42:13.421056Z",
     "iopub.status.idle": "2021-07-27T09:42:13.626626Z",
     "shell.execute_reply": "2021-07-27T09:42:13.626154Z",
     "shell.execute_reply.started": "2021-07-26T23:17:57.981Z"
    },
    "papermill": {
     "duration": 0.274301,
     "end_time": "2021-07-27T09:42:13.626756",
     "exception": false,
     "start_time": "2021-07-27T09:42:13.352455",
     "status": "completed"
    },
    "tags": []
   },
   "outputs": [],
   "source": [
    "#sort data based on timestamp\n",
    "data = data.sort_values(['start_practice'], ascending=True).reset_index(drop=True)"
   ]
  },
  {
   "cell_type": "code",
   "execution_count": 15,
   "metadata": {
    "execution": {
     "iopub.execute_input": "2021-07-27T09:42:13.825102Z",
     "iopub.status.busy": "2021-07-27T09:42:13.824227Z",
     "iopub.status.idle": "2021-07-27T09:42:14.365971Z",
     "shell.execute_reply": "2021-07-27T09:42:14.366433Z",
     "shell.execute_reply.started": "2021-07-26T23:17:58.189973Z"
    },
    "papermill": {
     "duration": 0.673934,
     "end_time": "2021-07-27T09:42:14.366601",
     "exception": false,
     "start_time": "2021-07-27T09:42:13.692667",
     "status": "completed"
    },
    "tags": []
   },
   "outputs": [
    {
     "data": {
      "text/plain": [
       "66"
      ]
     },
     "execution_count": 15,
     "metadata": {},
     "output_type": "execute_result"
    }
   ],
   "source": [
    "#now we can drop end practice\n",
    "data.drop(columns=['end_practice'], inplace=True)\n",
    "data = data.sort_values(['start_practice'], ascending=True).reset_index(drop=True)\n",
    "#replace column q with anwered_correctly\n",
    "data['answered_correctly'] = data['q']\n",
    "data.drop(columns='q', inplace=True)\n",
    "gc.collect()"
   ]
  },
  {
   "cell_type": "code",
   "execution_count": 16,
   "metadata": {
    "execution": {
     "iopub.execute_input": "2021-07-27T09:42:14.605327Z",
     "iopub.status.busy": "2021-07-27T09:42:14.603975Z",
     "iopub.status.idle": "2021-07-27T09:42:14.607578Z",
     "shell.execute_reply": "2021-07-27T09:42:14.608032Z",
     "shell.execute_reply.started": "2021-07-26T23:17:58.785592Z"
    },
    "papermill": {
     "duration": 0.174665,
     "end_time": "2021-07-27T09:42:14.608184",
     "exception": false,
     "start_time": "2021-07-27T09:42:14.433519",
     "status": "completed"
    },
    "tags": []
   },
   "outputs": [
    {
     "data": {
      "text/plain": [
       "20"
      ]
     },
     "execution_count": 16,
     "metadata": {},
     "output_type": "execute_result"
    }
   ],
   "source": [
    "gc.collect()"
   ]
  },
  {
   "cell_type": "code",
   "execution_count": 17,
   "metadata": {
    "execution": {
     "iopub.execute_input": "2021-07-27T09:42:14.774817Z",
     "iopub.status.busy": "2021-07-27T09:42:14.773739Z",
     "iopub.status.idle": "2021-07-27T09:42:14.842760Z",
     "shell.execute_reply": "2021-07-27T09:42:14.842149Z",
     "shell.execute_reply.started": "2021-07-26T23:17:58.869221Z"
    },
    "papermill": {
     "duration": 0.168788,
     "end_time": "2021-07-27T09:42:14.842900",
     "exception": false,
     "start_time": "2021-07-27T09:42:14.674112",
     "status": "completed"
    },
    "tags": []
   },
   "outputs": [],
   "source": [
    "data.fillna(0, inplace=True)"
   ]
  },
  {
   "cell_type": "code",
   "execution_count": 18,
   "metadata": {
    "execution": {
     "iopub.execute_input": "2021-07-27T09:42:14.987199Z",
     "iopub.status.busy": "2021-07-27T09:42:14.985854Z",
     "iopub.status.idle": "2021-07-27T09:42:14.994324Z",
     "shell.execute_reply": "2021-07-27T09:42:14.993923Z",
     "shell.execute_reply.started": "2021-07-26T23:17:58.941383Z"
    },
    "papermill": {
     "duration": 0.081706,
     "end_time": "2021-07-27T09:42:14.994445",
     "exception": false,
     "start_time": "2021-07-27T09:42:14.912739",
     "status": "completed"
    },
    "tags": []
   },
   "outputs": [],
   "source": [
    "n_skill = data['question_id'].nunique() + 1"
   ]
  },
  {
   "cell_type": "code",
   "execution_count": 19,
   "metadata": {
    "execution": {
     "iopub.execute_input": "2021-07-27T09:42:15.138219Z",
     "iopub.status.busy": "2021-07-27T09:42:15.136816Z",
     "iopub.status.idle": "2021-07-27T09:42:15.146335Z",
     "shell.execute_reply": "2021-07-27T09:42:15.145901Z",
     "shell.execute_reply.started": "2021-07-26T23:17:58.957088Z"
    },
    "papermill": {
     "duration": 0.08604,
     "end_time": "2021-07-27T09:42:15.146451",
     "exception": false,
     "start_time": "2021-07-27T09:42:15.060411",
     "status": "completed"
    },
    "tags": []
   },
   "outputs": [],
   "source": [
    "#create dataset class\n",
    "#to prepare it for train and valid sets\n",
    "#here only original features are included\n",
    "#that were present in SAKT: questions and answers\n",
    "class PRACTICE_DATASET(Dataset):\n",
    "    def __init__(self, group, n_skill=data['question_id'].nunique() + 1, min_samples=1, max_seq=300):\n",
    "        super(PRACTICE_DATASET, self).__init__()\n",
    "        self.max_seq = max_seq\n",
    "        self.n_skill = n_skill        \n",
    "        self.user_ids = group.keys()\n",
    "        self.data = group\n",
    "    \n",
    "    def __len__(self):\n",
    "        return len(self.user_ids)\n",
    "\n",
    "    def __getitem__(self, index):\n",
    "        user_id = self.user_ids[index]\n",
    "        q_, qa_ = self.data[user_id]\n",
    "        q_, qa_ = np.array(q_), np.array(qa_)\n",
    "        seq_len = len(q_)\n",
    "\n",
    "        q = np.zeros(self.max_seq, dtype=int)\n",
    "        qa = np.zeros(self.max_seq, dtype=int)\n",
    "        #if more the user interactions are more than self.maxlength (300)\n",
    "        #only the last self.maxlength interactions will be included\n",
    "        #if the number of user interactions would be less than self.maxlength\n",
    "        #the padding would be utilized\n",
    "        if seq_len >= self.max_seq:\n",
    "            q[-self.max_seq:] = q_[-self.max_seq:]\n",
    "            qa[-self.max_seq:] = qa_[-self.max_seq:]\n",
    "        else:\n",
    "            q[-seq_len:] = q_\n",
    "            qa[-seq_len:] = qa_\n",
    "\n",
    "        target_id = q[1:]\n",
    "        label = qa[1:]\n",
    "\n",
    "        x = np.zeros(self.max_seq-1, dtype=int)\n",
    "        x = q[:-1].copy()\n",
    "        x += (qa[:-1] == 1) * self.n_skill\n",
    "\n",
    "        return x, target_id, label"
   ]
  },
  {
   "cell_type": "code",
   "execution_count": 20,
   "metadata": {
    "execution": {
     "iopub.execute_input": "2021-07-27T09:42:15.283203Z",
     "iopub.status.busy": "2021-07-27T09:42:15.282288Z",
     "iopub.status.idle": "2021-07-27T09:42:15.630434Z",
     "shell.execute_reply": "2021-07-27T09:42:15.629777Z",
     "shell.execute_reply.started": "2021-07-26T23:17:58.977704Z"
    },
    "papermill": {
     "duration": 0.418719,
     "end_time": "2021-07-27T09:42:15.630564",
     "exception": false,
     "start_time": "2021-07-27T09:42:15.211845",
     "status": "completed"
    },
    "tags": []
   },
   "outputs": [],
   "source": [
    "NUMERIC_FEATURE =  ['age',\n",
    "                    'exclClassCumGPA',\n",
    "                    'termCreditsGPA',\n",
    "                    'termCreditsNoGPA',\n",
    "                    'highSchoolGPA', \n",
    "                    'majorsCount', 'minorsCount',\n",
    "                    'PREV_TERM_CUM_GPA',\n",
    "                    \"day's_available_flashcards\", \n",
    "                    'days_offset', \n",
    "                    'prev_time_elapsed',\n",
    "                    'time_lag']\n",
    " \n",
    "for f in NUMERIC_FEATURE:\n",
    "  m = data[f].mean()\n",
    "  std = data[f].std()\n",
    "  data[f] = (data[f] - m)/std"
   ]
  },
  {
   "cell_type": "code",
   "execution_count": 21,
   "metadata": {
    "execution": {
     "iopub.execute_input": "2021-07-27T09:42:15.767620Z",
     "iopub.status.busy": "2021-07-27T09:42:15.766737Z",
     "iopub.status.idle": "2021-07-27T09:42:16.062781Z",
     "shell.execute_reply": "2021-07-27T09:42:16.062280Z",
     "shell.execute_reply.started": "2021-07-26T23:17:59.333093Z"
    },
    "papermill": {
     "duration": 0.36723,
     "end_time": "2021-07-27T09:42:16.062911",
     "exception": false,
     "start_time": "2021-07-27T09:42:15.695681",
     "status": "completed"
    },
    "tags": []
   },
   "outputs": [],
   "source": [
    "#USE ONLY FEATURES PRESENT IN SAKT\n",
    "group = data.groupby(['user_id.x']).apply(lambda r: (\n",
    "                r['question_id'].values,\n",
    "                r['answered_correctly'].values\n",
    "                ))"
   ]
  },
  {
   "cell_type": "code",
   "execution_count": 22,
   "metadata": {
    "execution": {
     "iopub.execute_input": "2021-07-27T09:42:16.209873Z",
     "iopub.status.busy": "2021-07-27T09:42:16.208341Z",
     "iopub.status.idle": "2021-07-27T09:42:16.210746Z",
     "shell.execute_reply": "2021-07-27T09:42:16.211199Z",
     "shell.execute_reply.started": "2021-07-26T23:17:59.633231Z"
    },
    "papermill": {
     "duration": 0.08212,
     "end_time": "2021-07-27T09:42:16.211333",
     "exception": false,
     "start_time": "2021-07-27T09:42:16.129213",
     "status": "completed"
    },
    "tags": []
   },
   "outputs": [],
   "source": [
    "#feed forward network\n",
    "class FFN(nn.Module):\n",
    "    def __init__(self, state_size=200):\n",
    "        super(FFN, self).__init__()\n",
    "        self.state_size = state_size\n",
    "\n",
    "        self.lr1 = nn.Linear(state_size, state_size)\n",
    "        self.relu = nn.ReLU()\n",
    "        self.lr2 = nn.Linear(state_size, state_size)\n",
    "        self.dropout = nn.Dropout(0.2)\n",
    "    \n",
    "    def forward(self, x):\n",
    "        x = self.lr1(x)\n",
    "        x = self.relu(x)\n",
    "        x = self.lr2(x)\n",
    "        return self.dropout(x)\n",
    "    \n",
    "#define mask that would be used in multi head attention layer\n",
    "def future_mask(seq_length):\n",
    "    future_mask = np.triu(np.ones((seq_length, seq_length)), k=1).astype('bool')\n",
    "    return torch.from_numpy(future_mask)\n",
    "\n",
    "#define the SAKT model\n",
    "class SAKTModel(nn.Module):\n",
    "    def __init__(self, n_skill, max_seq=300, embed_dim=128, dropout_rate=0.2):\n",
    "        super(SAKTModel, self).__init__()\n",
    "        self.n_skill = n_skill\n",
    "        self.embed_dim = embed_dim\n",
    "\n",
    "        #embeddings\n",
    "        self.embedding = nn.Embedding(2*n_skill+1, embed_dim) \n",
    "        self.pos_embedding = nn.Embedding(max_seq-1, embed_dim)\n",
    "        self.e_embedding = nn.Embedding(n_skill+1, embed_dim)\n",
    "\n",
    "        self.multi_att = nn.MultiheadAttention(embed_dim=embed_dim, num_heads=8, dropout=dropout_rate)\n",
    "\n",
    "        self.dropout = nn.Dropout(dropout_rate)\n",
    "        self.layer_normal = nn.LayerNorm(embed_dim) \n",
    "\n",
    "        self.ffn = FFN(embed_dim)\n",
    "        self.pred = nn.Linear(embed_dim, 1)\n",
    "    \n",
    "    def forward(self, x, question_ids):\n",
    "        device = x.device        \n",
    "        x = self.embedding(x)\n",
    "        pos_id = torch.arange(x.size(1)).unsqueeze(0).to(device)\n",
    "\n",
    "        pos_x = self.pos_embedding(pos_id)\n",
    "        x = x + pos_x\n",
    "\n",
    "        e = self.e_embedding(question_ids)\n",
    "\n",
    "        x = x.permute(1, 0, 2) \n",
    "        e = e.permute(1, 0, 2)\n",
    "        att_mask = future_mask(x.size(0)).to(device)\n",
    "        att_output, att_weight = self.multi_att(e, x, x, attn_mask=att_mask)\n",
    "        att_output = self.layer_normal(att_output + e)\n",
    "        att_output = att_output.permute(1, 0, 2) \n",
    "\n",
    "        x = self.ffn(att_output)\n",
    "        x = self.layer_normal(x + att_output)\n",
    "        x = self.pred(x)\n",
    "\n",
    "        return x.squeeze(-1)"
   ]
  },
  {
   "cell_type": "code",
   "execution_count": 23,
   "metadata": {
    "execution": {
     "iopub.execute_input": "2021-07-27T09:42:16.356015Z",
     "iopub.status.busy": "2021-07-27T09:42:16.355324Z",
     "iopub.status.idle": "2021-07-27T09:42:16.358284Z",
     "shell.execute_reply": "2021-07-27T09:42:16.357878Z",
     "shell.execute_reply.started": "2021-07-26T23:17:59.651692Z"
    },
    "papermill": {
     "duration": 0.080547,
     "end_time": "2021-07-27T09:42:16.358398",
     "exception": false,
     "start_time": "2021-07-27T09:42:16.277851",
     "status": "completed"
    },
    "tags": []
   },
   "outputs": [],
   "source": [
    "# remove students who don't have make any interactions with the tool\n",
    "toRemove = []\n",
    "for index in group.index:\n",
    "  if len(group[index][0]) <= 10:\n",
    "    toRemove.append(index)\n",
    "group = group.drop(index=toRemove)"
   ]
  },
  {
   "cell_type": "code",
   "execution_count": 24,
   "metadata": {
    "execution": {
     "iopub.execute_input": "2021-07-27T09:42:16.492634Z",
     "iopub.status.busy": "2021-07-27T09:42:16.492122Z",
     "iopub.status.idle": "2021-07-27T09:42:16.495463Z",
     "shell.execute_reply": "2021-07-27T09:42:16.495899Z",
     "shell.execute_reply.started": "2021-07-26T23:17:59.670958Z"
    },
    "papermill": {
     "duration": 0.072199,
     "end_time": "2021-07-27T09:42:16.496029",
     "exception": false,
     "start_time": "2021-07-27T09:42:16.423830",
     "status": "completed"
    },
    "tags": []
   },
   "outputs": [],
   "source": [
    "#in case the validation loss would \n",
    "#not improve for $patienc$ consecutive \n",
    "#epochs the training would be terminated\n",
    "patience = 5"
   ]
  },
  {
   "cell_type": "code",
   "execution_count": 25,
   "metadata": {
    "execution": {
     "iopub.execute_input": "2021-07-27T09:42:16.655790Z",
     "iopub.status.busy": "2021-07-27T09:42:16.654910Z",
     "iopub.status.idle": "2021-07-27T09:45:16.776683Z",
     "shell.execute_reply": "2021-07-27T09:45:16.776216Z",
     "shell.execute_reply.started": "2021-07-26T23:17:59.680562Z"
    },
    "papermill": {
     "duration": 180.214952,
     "end_time": "2021-07-27T09:45:16.776843",
     "exception": false,
     "start_time": "2021-07-27T09:42:16.561891",
     "status": "completed"
    },
    "tags": []
   },
   "outputs": [
    {
     "name": "stderr",
     "output_type": "stream",
     "text": [
      "  0%|          | 0/14 [00:00<?, ?it/s]"
     ]
    },
    {
     "name": "stdout",
     "output_type": "stream",
     "text": [
      "----------------------------------------------------------------------------\n"
     ]
    },
    {
     "name": "stderr",
     "output_type": "stream",
     "text": [
      "loss - 0.6160: 100%|██████████| 14/14 [00:01<00:00,  7.84it/s]\n",
      "  0%|          | 0/2 [00:00<?, ?it/s]"
     ]
    },
    {
     "name": "stdout",
     "output_type": "stream",
     "text": [
      "epoch - 0 train_loss - 0.63 acc - 0.663 auc - 0.514\n"
     ]
    },
    {
     "name": "stderr",
     "output_type": "stream",
     "text": [
      "valid loss - 0.6530: 100%|██████████| 2/2 [00:00<00:00,  6.17it/s]\n",
      "  0%|          | 0/14 [00:00<?, ?it/s]"
     ]
    },
    {
     "name": "stdout",
     "output_type": "stream",
     "text": [
      "epoch - 0 val_loss - 0.66 val acc - 0.668 val auc - 0.580\n"
     ]
    },
    {
     "name": "stderr",
     "output_type": "stream",
     "text": [
      "loss - 0.5535: 100%|██████████| 14/14 [00:00<00:00, 16.45it/s]\n",
      "  0%|          | 0/2 [00:00<?, ?it/s]"
     ]
    },
    {
     "name": "stdout",
     "output_type": "stream",
     "text": [
      "epoch - 1 train_loss - 0.57 acc - 0.723 auc - 0.619\n"
     ]
    },
    {
     "name": "stderr",
     "output_type": "stream",
     "text": [
      "valid loss - 0.6069: 100%|██████████| 2/2 [00:00<00:00,  6.10it/s]\n",
      "  0%|          | 0/14 [00:00<?, ?it/s]"
     ]
    },
    {
     "name": "stdout",
     "output_type": "stream",
     "text": [
      "epoch - 1 val_loss - 0.60 val acc - 0.677 val auc - 0.665\n"
     ]
    },
    {
     "name": "stderr",
     "output_type": "stream",
     "text": [
      "loss - 0.5052: 100%|██████████| 14/14 [00:00<00:00, 16.53it/s]\n",
      "  0%|          | 0/2 [00:00<?, ?it/s]"
     ]
    },
    {
     "name": "stdout",
     "output_type": "stream",
     "text": [
      "epoch - 2 train_loss - 0.54 acc - 0.731 auc - 0.698\n"
     ]
    },
    {
     "name": "stderr",
     "output_type": "stream",
     "text": [
      "valid loss - 0.6055: 100%|██████████| 2/2 [00:00<00:00,  5.94it/s]\n",
      "  0%|          | 0/14 [00:00<?, ?it/s]"
     ]
    },
    {
     "name": "stdout",
     "output_type": "stream",
     "text": [
      "epoch - 2 val_loss - 0.59 val acc - 0.687 val auc - 0.702\n"
     ]
    },
    {
     "name": "stderr",
     "output_type": "stream",
     "text": [
      "loss - 0.5138: 100%|██████████| 14/14 [00:00<00:00, 16.52it/s]\n",
      "  0%|          | 0/2 [00:00<?, ?it/s]"
     ]
    },
    {
     "name": "stdout",
     "output_type": "stream",
     "text": [
      "epoch - 3 train_loss - 0.52 acc - 0.742 auc - 0.733\n"
     ]
    },
    {
     "name": "stderr",
     "output_type": "stream",
     "text": [
      "valid loss - 0.5665: 100%|██████████| 2/2 [00:00<00:00,  5.75it/s]\n",
      "  0%|          | 0/14 [00:00<?, ?it/s]"
     ]
    },
    {
     "name": "stdout",
     "output_type": "stream",
     "text": [
      "epoch - 3 val_loss - 0.57 val acc - 0.701 val auc - 0.723\n"
     ]
    },
    {
     "name": "stderr",
     "output_type": "stream",
     "text": [
      "loss - 0.5003: 100%|██████████| 14/14 [00:00<00:00, 16.34it/s]\n",
      "  0%|          | 0/2 [00:00<?, ?it/s]"
     ]
    },
    {
     "name": "stdout",
     "output_type": "stream",
     "text": [
      "epoch - 4 train_loss - 0.51 acc - 0.754 auc - 0.759\n"
     ]
    },
    {
     "name": "stderr",
     "output_type": "stream",
     "text": [
      "valid loss - 0.5450: 100%|██████████| 2/2 [00:00<00:00,  6.03it/s]\n",
      "  0%|          | 0/14 [00:00<?, ?it/s]"
     ]
    },
    {
     "name": "stdout",
     "output_type": "stream",
     "text": [
      "epoch - 4 val_loss - 0.55 val acc - 0.712 val auc - 0.745\n"
     ]
    },
    {
     "name": "stderr",
     "output_type": "stream",
     "text": [
      "loss - 0.4838: 100%|██████████| 14/14 [00:00<00:00, 16.48it/s]\n",
      "  0%|          | 0/2 [00:00<?, ?it/s]"
     ]
    },
    {
     "name": "stdout",
     "output_type": "stream",
     "text": [
      "epoch - 5 train_loss - 0.49 acc - 0.762 auc - 0.778\n"
     ]
    },
    {
     "name": "stderr",
     "output_type": "stream",
     "text": [
      "valid loss - 0.5629: 100%|██████████| 2/2 [00:00<00:00,  6.13it/s]\n",
      "  0%|          | 0/14 [00:00<?, ?it/s]"
     ]
    },
    {
     "name": "stdout",
     "output_type": "stream",
     "text": [
      "epoch - 5 val_loss - 0.55 val acc - 0.718 val auc - 0.757\n"
     ]
    },
    {
     "name": "stderr",
     "output_type": "stream",
     "text": [
      "loss - 0.4759: 100%|██████████| 14/14 [00:00<00:00, 16.64it/s]\n",
      "  0%|          | 0/2 [00:00<?, ?it/s]"
     ]
    },
    {
     "name": "stdout",
     "output_type": "stream",
     "text": [
      "epoch - 6 train_loss - 0.48 acc - 0.768 auc - 0.793\n"
     ]
    },
    {
     "name": "stderr",
     "output_type": "stream",
     "text": [
      "valid loss - 0.5486: 100%|██████████| 2/2 [00:00<00:00,  6.13it/s]\n",
      "  0%|          | 0/14 [00:00<?, ?it/s]"
     ]
    },
    {
     "name": "stdout",
     "output_type": "stream",
     "text": [
      "epoch - 6 val_loss - 0.54 val acc - 0.722 val auc - 0.767\n"
     ]
    },
    {
     "name": "stderr",
     "output_type": "stream",
     "text": [
      "loss - 0.4842: 100%|██████████| 14/14 [00:00<00:00, 16.43it/s]\n",
      "  0%|          | 0/2 [00:00<?, ?it/s]"
     ]
    },
    {
     "name": "stdout",
     "output_type": "stream",
     "text": [
      "epoch - 7 train_loss - 0.47 acc - 0.773 auc - 0.805\n"
     ]
    },
    {
     "name": "stderr",
     "output_type": "stream",
     "text": [
      "valid loss - 0.5234: 100%|██████████| 2/2 [00:00<00:00,  5.38it/s]\n",
      "  0%|          | 0/14 [00:00<?, ?it/s]"
     ]
    },
    {
     "name": "stdout",
     "output_type": "stream",
     "text": [
      "epoch - 7 val_loss - 0.53 val acc - 0.726 val auc - 0.774\n"
     ]
    },
    {
     "name": "stderr",
     "output_type": "stream",
     "text": [
      "loss - 0.4625: 100%|██████████| 14/14 [00:00<00:00, 16.08it/s]\n",
      "  0%|          | 0/2 [00:00<?, ?it/s]"
     ]
    },
    {
     "name": "stdout",
     "output_type": "stream",
     "text": [
      "epoch - 8 train_loss - 0.46 acc - 0.777 auc - 0.814\n"
     ]
    },
    {
     "name": "stderr",
     "output_type": "stream",
     "text": [
      "valid loss - 0.5285: 100%|██████████| 2/2 [00:00<00:00,  6.16it/s]\n",
      "  0%|          | 0/14 [00:00<?, ?it/s]"
     ]
    },
    {
     "name": "stdout",
     "output_type": "stream",
     "text": [
      "epoch - 8 val_loss - 0.53 val acc - 0.727 val auc - 0.778\n"
     ]
    },
    {
     "name": "stderr",
     "output_type": "stream",
     "text": [
      "loss - 0.4633: 100%|██████████| 14/14 [00:00<00:00, 16.22it/s]\n",
      "  0%|          | 0/2 [00:00<?, ?it/s]"
     ]
    },
    {
     "name": "stdout",
     "output_type": "stream",
     "text": [
      "epoch - 9 train_loss - 0.45 acc - 0.781 auc - 0.821\n"
     ]
    },
    {
     "name": "stderr",
     "output_type": "stream",
     "text": [
      "valid loss - 0.5041: 100%|██████████| 2/2 [00:00<00:00,  6.09it/s]\n",
      "  0%|          | 0/14 [00:00<?, ?it/s]"
     ]
    },
    {
     "name": "stdout",
     "output_type": "stream",
     "text": [
      "epoch - 9 val_loss - 0.52 val acc - 0.730 val auc - 0.782\n"
     ]
    },
    {
     "name": "stderr",
     "output_type": "stream",
     "text": [
      "loss - 0.4575: 100%|██████████| 14/14 [00:00<00:00, 15.43it/s]\n",
      "  0%|          | 0/2 [00:00<?, ?it/s]"
     ]
    },
    {
     "name": "stdout",
     "output_type": "stream",
     "text": [
      "epoch - 10 train_loss - 0.45 acc - 0.784 auc - 0.826\n"
     ]
    },
    {
     "name": "stderr",
     "output_type": "stream",
     "text": [
      "valid loss - 0.5209: 100%|██████████| 2/2 [00:00<00:00,  6.04it/s]\n",
      "  0%|          | 0/14 [00:00<?, ?it/s]"
     ]
    },
    {
     "name": "stdout",
     "output_type": "stream",
     "text": [
      "epoch - 10 val_loss - 0.52 val acc - 0.730 val auc - 0.783\n"
     ]
    },
    {
     "name": "stderr",
     "output_type": "stream",
     "text": [
      "loss - 0.4233: 100%|██████████| 14/14 [00:01<00:00, 12.45it/s]\n",
      "  0%|          | 0/2 [00:00<?, ?it/s]"
     ]
    },
    {
     "name": "stdout",
     "output_type": "stream",
     "text": [
      "epoch - 11 train_loss - 0.44 acc - 0.786 auc - 0.831\n"
     ]
    },
    {
     "name": "stderr",
     "output_type": "stream",
     "text": [
      "valid loss - 0.5053: 100%|██████████| 2/2 [00:00<00:00,  6.22it/s]\n",
      "  0%|          | 0/14 [00:00<?, ?it/s]"
     ]
    },
    {
     "name": "stdout",
     "output_type": "stream",
     "text": [
      "epoch - 11 val_loss - 0.52 val acc - 0.733 val auc - 0.786\n"
     ]
    },
    {
     "name": "stderr",
     "output_type": "stream",
     "text": [
      "loss - 0.4310: 100%|██████████| 14/14 [00:00<00:00, 16.80it/s]\n",
      "  0%|          | 0/2 [00:00<?, ?it/s]"
     ]
    },
    {
     "name": "stdout",
     "output_type": "stream",
     "text": [
      "epoch - 12 train_loss - 0.44 acc - 0.788 auc - 0.835\n"
     ]
    },
    {
     "name": "stderr",
     "output_type": "stream",
     "text": [
      "valid loss - 0.5285: 100%|██████████| 2/2 [00:00<00:00,  6.48it/s]\n",
      "  0%|          | 0/14 [00:00<?, ?it/s]"
     ]
    },
    {
     "name": "stdout",
     "output_type": "stream",
     "text": [
      "epoch - 12 val_loss - 0.52 val acc - 0.733 val auc - 0.786\n"
     ]
    },
    {
     "name": "stderr",
     "output_type": "stream",
     "text": [
      "loss - 0.4533: 100%|██████████| 14/14 [00:00<00:00, 17.56it/s]\n",
      "  0%|          | 0/2 [00:00<?, ?it/s]"
     ]
    },
    {
     "name": "stdout",
     "output_type": "stream",
     "text": [
      "epoch - 13 train_loss - 0.43 acc - 0.790 auc - 0.838\n"
     ]
    },
    {
     "name": "stderr",
     "output_type": "stream",
     "text": [
      "valid loss - 0.5312: 100%|██████████| 2/2 [00:00<00:00,  6.25it/s]\n",
      "  0%|          | 0/14 [00:00<?, ?it/s]"
     ]
    },
    {
     "name": "stdout",
     "output_type": "stream",
     "text": [
      "epoch - 13 val_loss - 0.52 val acc - 0.734 val auc - 0.788\n"
     ]
    },
    {
     "name": "stderr",
     "output_type": "stream",
     "text": [
      "loss - 0.4282: 100%|██████████| 14/14 [00:00<00:00, 15.47it/s]\n",
      "  0%|          | 0/2 [00:00<?, ?it/s]"
     ]
    },
    {
     "name": "stdout",
     "output_type": "stream",
     "text": [
      "epoch - 14 train_loss - 0.43 acc - 0.792 auc - 0.841\n"
     ]
    },
    {
     "name": "stderr",
     "output_type": "stream",
     "text": [
      "valid loss - 0.5323: 100%|██████████| 2/2 [00:00<00:00,  6.46it/s]\n",
      "  0%|          | 0/14 [00:00<?, ?it/s]"
     ]
    },
    {
     "name": "stdout",
     "output_type": "stream",
     "text": [
      "epoch - 14 val_loss - 0.52 val acc - 0.733 val auc - 0.788\n"
     ]
    },
    {
     "name": "stderr",
     "output_type": "stream",
     "text": [
      "loss - 0.4263: 100%|██████████| 14/14 [00:00<00:00, 15.91it/s]\n",
      "  0%|          | 0/2 [00:00<?, ?it/s]"
     ]
    },
    {
     "name": "stdout",
     "output_type": "stream",
     "text": [
      "epoch - 15 train_loss - 0.43 acc - 0.794 auc - 0.845\n"
     ]
    },
    {
     "name": "stderr",
     "output_type": "stream",
     "text": [
      "valid loss - 0.5187: 100%|██████████| 2/2 [00:00<00:00,  6.49it/s]\n",
      "  0%|          | 0/14 [00:00<?, ?it/s]"
     ]
    },
    {
     "name": "stdout",
     "output_type": "stream",
     "text": [
      "epoch - 15 val_loss - 0.52 val acc - 0.733 val auc - 0.789\n"
     ]
    },
    {
     "name": "stderr",
     "output_type": "stream",
     "text": [
      "loss - 0.4302: 100%|██████████| 14/14 [00:00<00:00, 17.18it/s]\n",
      "  0%|          | 0/2 [00:00<?, ?it/s]"
     ]
    },
    {
     "name": "stdout",
     "output_type": "stream",
     "text": [
      "epoch - 16 train_loss - 0.42 acc - 0.796 auc - 0.847\n"
     ]
    },
    {
     "name": "stderr",
     "output_type": "stream",
     "text": [
      "valid loss - 0.4957: 100%|██████████| 2/2 [00:00<00:00,  6.39it/s]\n",
      "  0%|          | 0/14 [00:00<?, ?it/s]"
     ]
    },
    {
     "name": "stdout",
     "output_type": "stream",
     "text": [
      "epoch - 16 val_loss - 0.52 val acc - 0.731 val auc - 0.788\n"
     ]
    },
    {
     "name": "stderr",
     "output_type": "stream",
     "text": [
      "loss - 0.4688: 100%|██████████| 14/14 [00:00<00:00, 15.82it/s]\n",
      "  0%|          | 0/2 [00:00<?, ?it/s]"
     ]
    },
    {
     "name": "stdout",
     "output_type": "stream",
     "text": [
      "epoch - 17 train_loss - 0.42 acc - 0.798 auc - 0.850\n"
     ]
    },
    {
     "name": "stderr",
     "output_type": "stream",
     "text": [
      "valid loss - 0.5069: 100%|██████████| 2/2 [00:00<00:00,  6.38it/s]\n",
      "  0%|          | 0/14 [00:00<?, ?it/s]"
     ]
    },
    {
     "name": "stdout",
     "output_type": "stream",
     "text": [
      "epoch - 17 val_loss - 0.52 val acc - 0.734 val auc - 0.790\n"
     ]
    },
    {
     "name": "stderr",
     "output_type": "stream",
     "text": [
      "loss - 0.4064: 100%|██████████| 14/14 [00:00<00:00, 16.66it/s]\n",
      "  0%|          | 0/2 [00:00<?, ?it/s]"
     ]
    },
    {
     "name": "stdout",
     "output_type": "stream",
     "text": [
      "epoch - 18 train_loss - 0.42 acc - 0.799 auc - 0.853\n"
     ]
    },
    {
     "name": "stderr",
     "output_type": "stream",
     "text": [
      "valid loss - 0.5265: 100%|██████████| 2/2 [00:00<00:00,  6.03it/s]\n",
      "  0%|          | 0/14 [00:00<?, ?it/s]"
     ]
    },
    {
     "name": "stdout",
     "output_type": "stream",
     "text": [
      "epoch - 18 val_loss - 0.52 val acc - 0.736 val auc - 0.791\n"
     ]
    },
    {
     "name": "stderr",
     "output_type": "stream",
     "text": [
      "loss - 0.4268: 100%|██████████| 14/14 [00:00<00:00, 16.53it/s]\n",
      "  0%|          | 0/2 [00:00<?, ?it/s]"
     ]
    },
    {
     "name": "stdout",
     "output_type": "stream",
     "text": [
      "epoch - 19 train_loss - 0.41 acc - 0.801 auc - 0.855\n"
     ]
    },
    {
     "name": "stderr",
     "output_type": "stream",
     "text": [
      "valid loss - 0.5164: 100%|██████████| 2/2 [00:00<00:00,  6.04it/s]\n",
      "  0%|          | 0/14 [00:00<?, ?it/s]"
     ]
    },
    {
     "name": "stdout",
     "output_type": "stream",
     "text": [
      "epoch - 19 val_loss - 0.52 val acc - 0.735 val auc - 0.790\n"
     ]
    },
    {
     "name": "stderr",
     "output_type": "stream",
     "text": [
      "loss - 0.3972: 100%|██████████| 14/14 [00:00<00:00, 15.62it/s]\n",
      "  0%|          | 0/2 [00:00<?, ?it/s]"
     ]
    },
    {
     "name": "stdout",
     "output_type": "stream",
     "text": [
      "epoch - 20 train_loss - 0.41 acc - 0.802 auc - 0.857\n"
     ]
    },
    {
     "name": "stderr",
     "output_type": "stream",
     "text": [
      "valid loss - 0.5155: 100%|██████████| 2/2 [00:00<00:00,  6.43it/s]\n",
      "  0%|          | 0/14 [00:00<?, ?it/s]"
     ]
    },
    {
     "name": "stdout",
     "output_type": "stream",
     "text": [
      "epoch - 20 val_loss - 0.52 val acc - 0.733 val auc - 0.790\n"
     ]
    },
    {
     "name": "stderr",
     "output_type": "stream",
     "text": [
      "loss - 0.4292: 100%|██████████| 14/14 [00:00<00:00, 17.13it/s]\n",
      "  0%|          | 0/2 [00:00<?, ?it/s]"
     ]
    },
    {
     "name": "stdout",
     "output_type": "stream",
     "text": [
      "epoch - 21 train_loss - 0.41 acc - 0.804 auc - 0.860\n"
     ]
    },
    {
     "name": "stderr",
     "output_type": "stream",
     "text": [
      "valid loss - 0.5149: 100%|██████████| 2/2 [00:00<00:00,  6.11it/s]\n",
      "  0%|          | 0/2 [00:00<?, ?it/s]"
     ]
    },
    {
     "name": "stdout",
     "output_type": "stream",
     "text": [
      "epoch - 21 val_loss - 0.52 val acc - 0.733 val auc - 0.789\n",
      "Val Loss does not improve for 5 consecutive epochs\n"
     ]
    },
    {
     "name": "stderr",
     "output_type": "stream",
     "text": [
      "valid loss - 0.3576: 100%|██████████| 2/2 [00:00<00:00,  6.49it/s]\n",
      "  0%|          | 0/14 [00:00<?, ?it/s]"
     ]
    },
    {
     "name": "stdout",
     "output_type": "stream",
     "text": [
      "epoch - 21 test_loss - 0.35 acc - 0.843 auc - 0.864\n"
     ]
    },
    {
     "name": "stderr",
     "output_type": "stream",
     "text": [
      "valid loss - 0.4124: 100%|██████████| 14/14 [00:00<00:00, 25.41it/s]\n",
      "  0%|          | 0/14 [00:00<?, ?it/s]"
     ]
    },
    {
     "name": "stdout",
     "output_type": "stream",
     "text": [
      "----------------------------------------------------------------------------\n"
     ]
    },
    {
     "name": "stderr",
     "output_type": "stream",
     "text": [
      "loss - 0.6035: 100%|██████████| 14/14 [00:00<00:00, 17.22it/s]\n",
      "  0%|          | 0/2 [00:00<?, ?it/s]"
     ]
    },
    {
     "name": "stdout",
     "output_type": "stream",
     "text": [
      "epoch - 0 train_loss - 0.63 acc - 0.665 auc - 0.529\n"
     ]
    },
    {
     "name": "stderr",
     "output_type": "stream",
     "text": [
      "valid loss - 0.7062: 100%|██████████| 2/2 [00:00<00:00,  6.60it/s]\n",
      "  0%|          | 0/14 [00:00<?, ?it/s]"
     ]
    },
    {
     "name": "stdout",
     "output_type": "stream",
     "text": [
      "epoch - 0 val_loss - 0.68 val acc - 0.659 val auc - 0.581\n"
     ]
    },
    {
     "name": "stderr",
     "output_type": "stream",
     "text": [
      "loss - 0.5572: 100%|██████████| 14/14 [00:00<00:00, 16.96it/s]\n",
      "  0%|          | 0/2 [00:00<?, ?it/s]"
     ]
    },
    {
     "name": "stdout",
     "output_type": "stream",
     "text": [
      "epoch - 1 train_loss - 0.57 acc - 0.730 auc - 0.613\n"
     ]
    },
    {
     "name": "stderr",
     "output_type": "stream",
     "text": [
      "valid loss - 0.6158: 100%|██████████| 2/2 [00:00<00:00,  5.22it/s]\n",
      "  0%|          | 0/14 [00:00<?, ?it/s]"
     ]
    },
    {
     "name": "stdout",
     "output_type": "stream",
     "text": [
      "epoch - 1 val_loss - 0.62 val acc - 0.664 val auc - 0.652\n"
     ]
    },
    {
     "name": "stderr",
     "output_type": "stream",
     "text": [
      "loss - 0.5439: 100%|██████████| 14/14 [00:00<00:00, 16.65it/s]\n",
      "  0%|          | 0/2 [00:00<?, ?it/s]"
     ]
    },
    {
     "name": "stdout",
     "output_type": "stream",
     "text": [
      "epoch - 2 train_loss - 0.54 acc - 0.738 auc - 0.688\n"
     ]
    },
    {
     "name": "stderr",
     "output_type": "stream",
     "text": [
      "valid loss - 0.5868: 100%|██████████| 2/2 [00:00<00:00,  6.49it/s]\n",
      "  0%|          | 0/14 [00:00<?, ?it/s]"
     ]
    },
    {
     "name": "stdout",
     "output_type": "stream",
     "text": [
      "epoch - 2 val_loss - 0.60 val acc - 0.675 val auc - 0.696\n"
     ]
    },
    {
     "name": "stderr",
     "output_type": "stream",
     "text": [
      "loss - 0.5320: 100%|██████████| 14/14 [00:00<00:00, 17.31it/s]\n",
      "  0%|          | 0/2 [00:00<?, ?it/s]"
     ]
    },
    {
     "name": "stdout",
     "output_type": "stream",
     "text": [
      "epoch - 3 train_loss - 0.52 acc - 0.746 auc - 0.732\n"
     ]
    },
    {
     "name": "stderr",
     "output_type": "stream",
     "text": [
      "valid loss - 0.5802: 100%|██████████| 2/2 [00:00<00:00,  6.46it/s]\n",
      "  0%|          | 0/14 [00:00<?, ?it/s]"
     ]
    },
    {
     "name": "stdout",
     "output_type": "stream",
     "text": [
      "epoch - 3 val_loss - 0.58 val acc - 0.694 val auc - 0.722\n"
     ]
    },
    {
     "name": "stderr",
     "output_type": "stream",
     "text": [
      "loss - 0.4964: 100%|██████████| 14/14 [00:00<00:00, 16.82it/s]\n",
      "  0%|          | 0/2 [00:00<?, ?it/s]"
     ]
    },
    {
     "name": "stdout",
     "output_type": "stream",
     "text": [
      "epoch - 4 train_loss - 0.50 acc - 0.756 auc - 0.758\n"
     ]
    },
    {
     "name": "stderr",
     "output_type": "stream",
     "text": [
      "valid loss - 0.5552: 100%|██████████| 2/2 [00:00<00:00,  6.44it/s]\n",
      "  0%|          | 0/14 [00:00<?, ?it/s]"
     ]
    },
    {
     "name": "stdout",
     "output_type": "stream",
     "text": [
      "epoch - 4 val_loss - 0.56 val acc - 0.705 val auc - 0.741\n"
     ]
    },
    {
     "name": "stderr",
     "output_type": "stream",
     "text": [
      "loss - 0.4866: 100%|██████████| 14/14 [00:00<00:00, 17.10it/s]\n",
      "  0%|          | 0/2 [00:00<?, ?it/s]"
     ]
    },
    {
     "name": "stdout",
     "output_type": "stream",
     "text": [
      "epoch - 5 train_loss - 0.49 acc - 0.764 auc - 0.779\n"
     ]
    },
    {
     "name": "stderr",
     "output_type": "stream",
     "text": [
      "valid loss - 0.5585: 100%|██████████| 2/2 [00:00<00:00,  6.46it/s]\n",
      "  0%|          | 0/14 [00:00<?, ?it/s]"
     ]
    },
    {
     "name": "stdout",
     "output_type": "stream",
     "text": [
      "epoch - 5 val_loss - 0.55 val acc - 0.714 val auc - 0.754\n"
     ]
    },
    {
     "name": "stderr",
     "output_type": "stream",
     "text": [
      "loss - 0.4555: 100%|██████████| 14/14 [00:00<00:00, 17.33it/s]\n",
      "  0%|          | 0/2 [00:00<?, ?it/s]"
     ]
    },
    {
     "name": "stdout",
     "output_type": "stream",
     "text": [
      "epoch - 6 train_loss - 0.47 acc - 0.771 auc - 0.794\n"
     ]
    },
    {
     "name": "stderr",
     "output_type": "stream",
     "text": [
      "valid loss - 0.5403: 100%|██████████| 2/2 [00:00<00:00,  6.58it/s]\n",
      "  0%|          | 0/14 [00:00<?, ?it/s]"
     ]
    },
    {
     "name": "stdout",
     "output_type": "stream",
     "text": [
      "epoch - 6 val_loss - 0.54 val acc - 0.719 val auc - 0.765\n"
     ]
    },
    {
     "name": "stderr",
     "output_type": "stream",
     "text": [
      "loss - 0.4611: 100%|██████████| 14/14 [00:00<00:00, 17.19it/s]\n",
      "  0%|          | 0/2 [00:00<?, ?it/s]"
     ]
    },
    {
     "name": "stdout",
     "output_type": "stream",
     "text": [
      "epoch - 7 train_loss - 0.46 acc - 0.777 auc - 0.806\n"
     ]
    },
    {
     "name": "stderr",
     "output_type": "stream",
     "text": [
      "valid loss - 0.5278: 100%|██████████| 2/2 [00:00<00:00,  6.28it/s]\n",
      "  0%|          | 0/14 [00:00<?, ?it/s]"
     ]
    },
    {
     "name": "stdout",
     "output_type": "stream",
     "text": [
      "epoch - 7 val_loss - 0.54 val acc - 0.723 val auc - 0.771\n"
     ]
    },
    {
     "name": "stderr",
     "output_type": "stream",
     "text": [
      "loss - 0.4845: 100%|██████████| 14/14 [00:00<00:00, 17.11it/s]\n",
      "  0%|          | 0/2 [00:00<?, ?it/s]"
     ]
    },
    {
     "name": "stdout",
     "output_type": "stream",
     "text": [
      "epoch - 8 train_loss - 0.45 acc - 0.781 auc - 0.815\n"
     ]
    },
    {
     "name": "stderr",
     "output_type": "stream",
     "text": [
      "valid loss - 0.5293: 100%|██████████| 2/2 [00:00<00:00,  6.51it/s]\n",
      "  0%|          | 0/14 [00:00<?, ?it/s]"
     ]
    },
    {
     "name": "stdout",
     "output_type": "stream",
     "text": [
      "epoch - 8 val_loss - 0.53 val acc - 0.728 val auc - 0.776\n"
     ]
    },
    {
     "name": "stderr",
     "output_type": "stream",
     "text": [
      "loss - 0.4444: 100%|██████████| 14/14 [00:00<00:00, 14.79it/s]\n",
      "  0%|          | 0/2 [00:00<?, ?it/s]"
     ]
    },
    {
     "name": "stdout",
     "output_type": "stream",
     "text": [
      "epoch - 9 train_loss - 0.45 acc - 0.785 auc - 0.822\n"
     ]
    },
    {
     "name": "stderr",
     "output_type": "stream",
     "text": [
      "valid loss - 0.5372: 100%|██████████| 2/2 [00:00<00:00,  6.42it/s]\n",
      "  0%|          | 0/14 [00:00<?, ?it/s]"
     ]
    },
    {
     "name": "stdout",
     "output_type": "stream",
     "text": [
      "epoch - 9 val_loss - 0.53 val acc - 0.730 val auc - 0.780\n"
     ]
    },
    {
     "name": "stderr",
     "output_type": "stream",
     "text": [
      "loss - 0.4704: 100%|██████████| 14/14 [00:00<00:00, 17.32it/s]\n",
      "  0%|          | 0/2 [00:00<?, ?it/s]"
     ]
    },
    {
     "name": "stdout",
     "output_type": "stream",
     "text": [
      "epoch - 10 train_loss - 0.44 acc - 0.788 auc - 0.828\n"
     ]
    },
    {
     "name": "stderr",
     "output_type": "stream",
     "text": [
      "valid loss - 0.5304: 100%|██████████| 2/2 [00:00<00:00,  6.46it/s]\n",
      "  0%|          | 0/14 [00:00<?, ?it/s]"
     ]
    },
    {
     "name": "stdout",
     "output_type": "stream",
     "text": [
      "epoch - 10 val_loss - 0.53 val acc - 0.730 val auc - 0.782\n"
     ]
    },
    {
     "name": "stderr",
     "output_type": "stream",
     "text": [
      "loss - 0.4011: 100%|██████████| 14/14 [00:00<00:00, 16.08it/s]\n",
      "  0%|          | 0/2 [00:00<?, ?it/s]"
     ]
    },
    {
     "name": "stdout",
     "output_type": "stream",
     "text": [
      "epoch - 11 train_loss - 0.43 acc - 0.790 auc - 0.833\n"
     ]
    },
    {
     "name": "stderr",
     "output_type": "stream",
     "text": [
      "valid loss - 0.5351: 100%|██████████| 2/2 [00:00<00:00,  6.43it/s]\n",
      "  0%|          | 0/14 [00:00<?, ?it/s]"
     ]
    },
    {
     "name": "stdout",
     "output_type": "stream",
     "text": [
      "epoch - 11 val_loss - 0.53 val acc - 0.732 val auc - 0.785\n"
     ]
    },
    {
     "name": "stderr",
     "output_type": "stream",
     "text": [
      "loss - 0.4218: 100%|██████████| 14/14 [00:00<00:00, 17.35it/s]\n",
      "  0%|          | 0/2 [00:00<?, ?it/s]"
     ]
    },
    {
     "name": "stdout",
     "output_type": "stream",
     "text": [
      "epoch - 12 train_loss - 0.43 acc - 0.792 auc - 0.837\n"
     ]
    },
    {
     "name": "stderr",
     "output_type": "stream",
     "text": [
      "valid loss - 0.5240: 100%|██████████| 2/2 [00:00<00:00,  5.75it/s]\n",
      "  0%|          | 0/14 [00:00<?, ?it/s]"
     ]
    },
    {
     "name": "stdout",
     "output_type": "stream",
     "text": [
      "epoch - 12 val_loss - 0.52 val acc - 0.731 val auc - 0.785\n"
     ]
    },
    {
     "name": "stderr",
     "output_type": "stream",
     "text": [
      "loss - 0.4133: 100%|██████████| 14/14 [00:00<00:00, 15.02it/s]\n",
      "  0%|          | 0/2 [00:00<?, ?it/s]"
     ]
    },
    {
     "name": "stdout",
     "output_type": "stream",
     "text": [
      "epoch - 13 train_loss - 0.43 acc - 0.794 auc - 0.841\n"
     ]
    },
    {
     "name": "stderr",
     "output_type": "stream",
     "text": [
      "valid loss - 0.5082: 100%|██████████| 2/2 [00:00<00:00,  6.14it/s]\n",
      "  0%|          | 0/14 [00:00<?, ?it/s]"
     ]
    },
    {
     "name": "stdout",
     "output_type": "stream",
     "text": [
      "epoch - 13 val_loss - 0.52 val acc - 0.734 val auc - 0.787\n"
     ]
    },
    {
     "name": "stderr",
     "output_type": "stream",
     "text": [
      "loss - 0.4111: 100%|██████████| 14/14 [00:00<00:00, 17.42it/s]\n",
      "  0%|          | 0/2 [00:00<?, ?it/s]"
     ]
    },
    {
     "name": "stdout",
     "output_type": "stream",
     "text": [
      "epoch - 14 train_loss - 0.42 acc - 0.796 auc - 0.845\n"
     ]
    },
    {
     "name": "stderr",
     "output_type": "stream",
     "text": [
      "valid loss - 0.5224: 100%|██████████| 2/2 [00:00<00:00,  6.40it/s]\n",
      "  0%|          | 0/14 [00:00<?, ?it/s]"
     ]
    },
    {
     "name": "stdout",
     "output_type": "stream",
     "text": [
      "epoch - 14 val_loss - 0.52 val acc - 0.734 val auc - 0.787\n"
     ]
    },
    {
     "name": "stderr",
     "output_type": "stream",
     "text": [
      "loss - 0.4426: 100%|██████████| 14/14 [00:00<00:00, 17.41it/s]\n",
      "  0%|          | 0/2 [00:00<?, ?it/s]"
     ]
    },
    {
     "name": "stdout",
     "output_type": "stream",
     "text": [
      "epoch - 15 train_loss - 0.42 acc - 0.797 auc - 0.847\n"
     ]
    },
    {
     "name": "stderr",
     "output_type": "stream",
     "text": [
      "valid loss - 0.5394: 100%|██████████| 2/2 [00:00<00:00,  6.48it/s]\n",
      "  0%|          | 0/14 [00:00<?, ?it/s]"
     ]
    },
    {
     "name": "stdout",
     "output_type": "stream",
     "text": [
      "epoch - 15 val_loss - 0.53 val acc - 0.735 val auc - 0.787\n"
     ]
    },
    {
     "name": "stderr",
     "output_type": "stream",
     "text": [
      "loss - 0.4164: 100%|██████████| 14/14 [00:00<00:00, 15.02it/s]\n",
      "  0%|          | 0/2 [00:00<?, ?it/s]"
     ]
    },
    {
     "name": "stdout",
     "output_type": "stream",
     "text": [
      "epoch - 16 train_loss - 0.41 acc - 0.800 auc - 0.850\n"
     ]
    },
    {
     "name": "stderr",
     "output_type": "stream",
     "text": [
      "valid loss - 0.5257: 100%|██████████| 2/2 [00:00<00:00,  6.08it/s]\n",
      "  0%|          | 0/14 [00:00<?, ?it/s]"
     ]
    },
    {
     "name": "stdout",
     "output_type": "stream",
     "text": [
      "epoch - 16 val_loss - 0.53 val acc - 0.734 val auc - 0.787\n"
     ]
    },
    {
     "name": "stderr",
     "output_type": "stream",
     "text": [
      "loss - 0.3896: 100%|██████████| 14/14 [00:00<00:00, 16.05it/s]\n",
      "  0%|          | 0/2 [00:00<?, ?it/s]"
     ]
    },
    {
     "name": "stdout",
     "output_type": "stream",
     "text": [
      "epoch - 17 train_loss - 0.41 acc - 0.801 auc - 0.853\n"
     ]
    },
    {
     "name": "stderr",
     "output_type": "stream",
     "text": [
      "valid loss - 0.5179: 100%|██████████| 2/2 [00:00<00:00,  6.03it/s]\n",
      "  0%|          | 0/14 [00:00<?, ?it/s]"
     ]
    },
    {
     "name": "stdout",
     "output_type": "stream",
     "text": [
      "epoch - 17 val_loss - 0.52 val acc - 0.735 val auc - 0.787\n"
     ]
    },
    {
     "name": "stderr",
     "output_type": "stream",
     "text": [
      "loss - 0.4093: 100%|██████████| 14/14 [00:00<00:00, 16.47it/s]\n",
      "  0%|          | 0/2 [00:00<?, ?it/s]"
     ]
    },
    {
     "name": "stdout",
     "output_type": "stream",
     "text": [
      "epoch - 18 train_loss - 0.41 acc - 0.803 auc - 0.855\n"
     ]
    },
    {
     "name": "stderr",
     "output_type": "stream",
     "text": [
      "valid loss - 0.5445: 100%|██████████| 2/2 [00:00<00:00,  6.09it/s]\n",
      "  0%|          | 0/2 [00:00<?, ?it/s]"
     ]
    },
    {
     "name": "stdout",
     "output_type": "stream",
     "text": [
      "epoch - 18 val_loss - 0.53 val acc - 0.735 val auc - 0.788\n",
      "Val Loss does not improve for 5 consecutive epochs\n"
     ]
    },
    {
     "name": "stderr",
     "output_type": "stream",
     "text": [
      "valid loss - 0.4024: 100%|██████████| 2/2 [00:00<00:00,  6.19it/s]\n",
      "  0%|          | 0/14 [00:00<?, ?it/s]"
     ]
    },
    {
     "name": "stdout",
     "output_type": "stream",
     "text": [
      "epoch - 18 test_loss - 0.39 acc - 0.819 auc - 0.853\n"
     ]
    },
    {
     "name": "stderr",
     "output_type": "stream",
     "text": [
      "valid loss - 0.4036: 100%|██████████| 14/14 [00:00<00:00, 24.18it/s]\n",
      "  0%|          | 0/14 [00:00<?, ?it/s]"
     ]
    },
    {
     "name": "stdout",
     "output_type": "stream",
     "text": [
      "----------------------------------------------------------------------------\n"
     ]
    },
    {
     "name": "stderr",
     "output_type": "stream",
     "text": [
      "loss - 0.5940: 100%|██████████| 14/14 [00:00<00:00, 16.40it/s]\n",
      "  0%|          | 0/2 [00:00<?, ?it/s]"
     ]
    },
    {
     "name": "stdout",
     "output_type": "stream",
     "text": [
      "epoch - 0 train_loss - 0.64 acc - 0.656 auc - 0.504\n"
     ]
    },
    {
     "name": "stderr",
     "output_type": "stream",
     "text": [
      "valid loss - 0.6750: 100%|██████████| 2/2 [00:00<00:00,  6.14it/s]\n",
      "  0%|          | 0/14 [00:00<?, ?it/s]"
     ]
    },
    {
     "name": "stdout",
     "output_type": "stream",
     "text": [
      "epoch - 0 val_loss - 0.68 val acc - 0.665 val auc - 0.558\n"
     ]
    },
    {
     "name": "stderr",
     "output_type": "stream",
     "text": [
      "loss - 0.5508: 100%|██████████| 14/14 [00:00<00:00, 16.28it/s]\n",
      "  0%|          | 0/2 [00:00<?, ?it/s]"
     ]
    },
    {
     "name": "stdout",
     "output_type": "stream",
     "text": [
      "epoch - 1 train_loss - 0.58 acc - 0.727 auc - 0.591\n"
     ]
    },
    {
     "name": "stderr",
     "output_type": "stream",
     "text": [
      "valid loss - 0.6254: 100%|██████████| 2/2 [00:00<00:00,  6.17it/s]\n",
      "  0%|          | 0/14 [00:00<?, ?it/s]"
     ]
    },
    {
     "name": "stdout",
     "output_type": "stream",
     "text": [
      "epoch - 1 val_loss - 0.61 val acc - 0.668 val auc - 0.661\n"
     ]
    },
    {
     "name": "stderr",
     "output_type": "stream",
     "text": [
      "loss - 0.5635: 100%|██████████| 14/14 [00:00<00:00, 16.69it/s]\n",
      "  0%|          | 0/2 [00:00<?, ?it/s]"
     ]
    },
    {
     "name": "stdout",
     "output_type": "stream",
     "text": [
      "epoch - 2 train_loss - 0.55 acc - 0.730 auc - 0.679\n"
     ]
    },
    {
     "name": "stderr",
     "output_type": "stream",
     "text": [
      "valid loss - 0.5928: 100%|██████████| 2/2 [00:00<00:00,  6.10it/s]\n",
      "  0%|          | 0/14 [00:00<?, ?it/s]"
     ]
    },
    {
     "name": "stdout",
     "output_type": "stream",
     "text": [
      "epoch - 2 val_loss - 0.59 val acc - 0.681 val auc - 0.710\n"
     ]
    },
    {
     "name": "stderr",
     "output_type": "stream",
     "text": [
      "loss - 0.5204: 100%|██████████| 14/14 [00:00<00:00, 15.23it/s]\n",
      "  0%|          | 0/2 [00:00<?, ?it/s]"
     ]
    },
    {
     "name": "stdout",
     "output_type": "stream",
     "text": [
      "epoch - 3 train_loss - 0.53 acc - 0.741 auc - 0.724\n"
     ]
    },
    {
     "name": "stderr",
     "output_type": "stream",
     "text": [
      "valid loss - 0.5844: 100%|██████████| 2/2 [00:00<00:00,  5.66it/s]\n",
      "  0%|          | 0/14 [00:00<?, ?it/s]"
     ]
    },
    {
     "name": "stdout",
     "output_type": "stream",
     "text": [
      "epoch - 3 val_loss - 0.57 val acc - 0.699 val auc - 0.735\n"
     ]
    },
    {
     "name": "stderr",
     "output_type": "stream",
     "text": [
      "loss - 0.5092: 100%|██████████| 14/14 [00:00<00:00, 16.27it/s]\n",
      "  0%|          | 0/2 [00:00<?, ?it/s]"
     ]
    },
    {
     "name": "stdout",
     "output_type": "stream",
     "text": [
      "epoch - 4 train_loss - 0.51 acc - 0.753 auc - 0.753\n"
     ]
    },
    {
     "name": "stderr",
     "output_type": "stream",
     "text": [
      "valid loss - 0.5481: 100%|██████████| 2/2 [00:00<00:00,  5.84it/s]\n",
      "  0%|          | 0/14 [00:00<?, ?it/s]"
     ]
    },
    {
     "name": "stdout",
     "output_type": "stream",
     "text": [
      "epoch - 4 val_loss - 0.55 val acc - 0.711 val auc - 0.753\n"
     ]
    },
    {
     "name": "stderr",
     "output_type": "stream",
     "text": [
      "loss - 0.5031: 100%|██████████| 14/14 [00:00<00:00, 16.48it/s]\n",
      "  0%|          | 0/2 [00:00<?, ?it/s]"
     ]
    },
    {
     "name": "stdout",
     "output_type": "stream",
     "text": [
      "epoch - 5 train_loss - 0.49 acc - 0.763 auc - 0.774\n"
     ]
    },
    {
     "name": "stderr",
     "output_type": "stream",
     "text": [
      "valid loss - 0.5534: 100%|██████████| 2/2 [00:00<00:00,  6.08it/s]\n",
      "  0%|          | 0/14 [00:00<?, ?it/s]"
     ]
    },
    {
     "name": "stdout",
     "output_type": "stream",
     "text": [
      "epoch - 5 val_loss - 0.54 val acc - 0.720 val auc - 0.766\n"
     ]
    },
    {
     "name": "stderr",
     "output_type": "stream",
     "text": [
      "loss - 0.5026: 100%|██████████| 14/14 [00:00<00:00, 16.69it/s]\n",
      "  0%|          | 0/2 [00:00<?, ?it/s]"
     ]
    },
    {
     "name": "stdout",
     "output_type": "stream",
     "text": [
      "epoch - 6 train_loss - 0.48 acc - 0.769 auc - 0.790\n"
     ]
    },
    {
     "name": "stderr",
     "output_type": "stream",
     "text": [
      "valid loss - 0.5224: 100%|██████████| 2/2 [00:00<00:00,  6.24it/s]\n",
      "  0%|          | 0/14 [00:00<?, ?it/s]"
     ]
    },
    {
     "name": "stdout",
     "output_type": "stream",
     "text": [
      "epoch - 6 val_loss - 0.53 val acc - 0.726 val auc - 0.776\n"
     ]
    },
    {
     "name": "stderr",
     "output_type": "stream",
     "text": [
      "loss - 0.4644: 100%|██████████| 14/14 [00:00<00:00, 16.74it/s]\n",
      "  0%|          | 0/2 [00:00<?, ?it/s]"
     ]
    },
    {
     "name": "stdout",
     "output_type": "stream",
     "text": [
      "epoch - 7 train_loss - 0.47 acc - 0.775 auc - 0.803\n"
     ]
    },
    {
     "name": "stderr",
     "output_type": "stream",
     "text": [
      "valid loss - 0.5192: 100%|██████████| 2/2 [00:00<00:00,  6.14it/s]\n",
      "  0%|          | 0/14 [00:00<?, ?it/s]"
     ]
    },
    {
     "name": "stdout",
     "output_type": "stream",
     "text": [
      "epoch - 7 val_loss - 0.52 val acc - 0.732 val auc - 0.785\n"
     ]
    },
    {
     "name": "stderr",
     "output_type": "stream",
     "text": [
      "loss - 0.4418: 100%|██████████| 14/14 [00:00<00:00, 16.62it/s]\n",
      "  0%|          | 0/2 [00:00<?, ?it/s]"
     ]
    },
    {
     "name": "stdout",
     "output_type": "stream",
     "text": [
      "epoch - 8 train_loss - 0.46 acc - 0.780 auc - 0.811\n"
     ]
    },
    {
     "name": "stderr",
     "output_type": "stream",
     "text": [
      "valid loss - 0.5078: 100%|██████████| 2/2 [00:00<00:00,  6.14it/s]\n",
      "  0%|          | 0/14 [00:00<?, ?it/s]"
     ]
    },
    {
     "name": "stdout",
     "output_type": "stream",
     "text": [
      "epoch - 8 val_loss - 0.52 val acc - 0.734 val auc - 0.789\n"
     ]
    },
    {
     "name": "stderr",
     "output_type": "stream",
     "text": [
      "loss - 0.4240: 100%|██████████| 14/14 [00:00<00:00, 16.66it/s]\n",
      "  0%|          | 0/2 [00:00<?, ?it/s]"
     ]
    },
    {
     "name": "stdout",
     "output_type": "stream",
     "text": [
      "epoch - 9 train_loss - 0.45 acc - 0.783 auc - 0.819\n"
     ]
    },
    {
     "name": "stderr",
     "output_type": "stream",
     "text": [
      "valid loss - 0.5137: 100%|██████████| 2/2 [00:00<00:00,  6.20it/s]\n",
      "  0%|          | 0/14 [00:00<?, ?it/s]"
     ]
    },
    {
     "name": "stdout",
     "output_type": "stream",
     "text": [
      "epoch - 9 val_loss - 0.51 val acc - 0.737 val auc - 0.793\n"
     ]
    },
    {
     "name": "stderr",
     "output_type": "stream",
     "text": [
      "loss - 0.4402: 100%|██████████| 14/14 [00:00<00:00, 15.05it/s]\n",
      "  0%|          | 0/2 [00:00<?, ?it/s]"
     ]
    },
    {
     "name": "stdout",
     "output_type": "stream",
     "text": [
      "epoch - 10 train_loss - 0.44 acc - 0.785 auc - 0.825\n"
     ]
    },
    {
     "name": "stderr",
     "output_type": "stream",
     "text": [
      "valid loss - 0.5149: 100%|██████████| 2/2 [00:00<00:00,  6.06it/s]\n",
      "  0%|          | 0/14 [00:00<?, ?it/s]"
     ]
    },
    {
     "name": "stdout",
     "output_type": "stream",
     "text": [
      "epoch - 10 val_loss - 0.51 val acc - 0.739 val auc - 0.795\n"
     ]
    },
    {
     "name": "stderr",
     "output_type": "stream",
     "text": [
      "loss - 0.4584: 100%|██████████| 14/14 [00:00<00:00, 16.47it/s]\n",
      "  0%|          | 0/2 [00:00<?, ?it/s]"
     ]
    },
    {
     "name": "stdout",
     "output_type": "stream",
     "text": [
      "epoch - 11 train_loss - 0.44 acc - 0.788 auc - 0.830\n"
     ]
    },
    {
     "name": "stderr",
     "output_type": "stream",
     "text": [
      "valid loss - 0.5222: 100%|██████████| 2/2 [00:00<00:00,  6.12it/s]\n",
      "  0%|          | 0/14 [00:00<?, ?it/s]"
     ]
    },
    {
     "name": "stdout",
     "output_type": "stream",
     "text": [
      "epoch - 11 val_loss - 0.51 val acc - 0.738 val auc - 0.797\n"
     ]
    },
    {
     "name": "stderr",
     "output_type": "stream",
     "text": [
      "loss - 0.3926: 100%|██████████| 14/14 [00:00<00:00, 15.12it/s]\n",
      "  0%|          | 0/2 [00:00<?, ?it/s]"
     ]
    },
    {
     "name": "stdout",
     "output_type": "stream",
     "text": [
      "epoch - 12 train_loss - 0.43 acc - 0.790 auc - 0.834\n"
     ]
    },
    {
     "name": "stderr",
     "output_type": "stream",
     "text": [
      "valid loss - 0.5030: 100%|██████████| 2/2 [00:00<00:00,  6.44it/s]\n",
      "  0%|          | 0/14 [00:00<?, ?it/s]"
     ]
    },
    {
     "name": "stdout",
     "output_type": "stream",
     "text": [
      "epoch - 12 val_loss - 0.51 val acc - 0.740 val auc - 0.798\n"
     ]
    },
    {
     "name": "stderr",
     "output_type": "stream",
     "text": [
      "loss - 0.4199: 100%|██████████| 14/14 [00:00<00:00, 17.41it/s]\n",
      "  0%|          | 0/2 [00:00<?, ?it/s]"
     ]
    },
    {
     "name": "stdout",
     "output_type": "stream",
     "text": [
      "epoch - 13 train_loss - 0.43 acc - 0.792 auc - 0.838\n"
     ]
    },
    {
     "name": "stderr",
     "output_type": "stream",
     "text": [
      "valid loss - 0.5331: 100%|██████████| 2/2 [00:00<00:00,  6.39it/s]\n",
      "  0%|          | 0/14 [00:00<?, ?it/s]"
     ]
    },
    {
     "name": "stdout",
     "output_type": "stream",
     "text": [
      "epoch - 13 val_loss - 0.51 val acc - 0.740 val auc - 0.799\n"
     ]
    },
    {
     "name": "stderr",
     "output_type": "stream",
     "text": [
      "loss - 0.4263: 100%|██████████| 14/14 [00:00<00:00, 15.48it/s]\n",
      "  0%|          | 0/2 [00:00<?, ?it/s]"
     ]
    },
    {
     "name": "stdout",
     "output_type": "stream",
     "text": [
      "epoch - 14 train_loss - 0.43 acc - 0.793 auc - 0.841\n"
     ]
    },
    {
     "name": "stderr",
     "output_type": "stream",
     "text": [
      "valid loss - 0.5078: 100%|██████████| 2/2 [00:00<00:00,  4.94it/s]\n",
      "  0%|          | 0/14 [00:00<?, ?it/s]"
     ]
    },
    {
     "name": "stdout",
     "output_type": "stream",
     "text": [
      "epoch - 14 val_loss - 0.51 val acc - 0.739 val auc - 0.799\n"
     ]
    },
    {
     "name": "stderr",
     "output_type": "stream",
     "text": [
      "loss - 0.4242: 100%|██████████| 14/14 [00:00<00:00, 17.18it/s]\n",
      "  0%|          | 0/2 [00:00<?, ?it/s]"
     ]
    },
    {
     "name": "stdout",
     "output_type": "stream",
     "text": [
      "epoch - 15 train_loss - 0.42 acc - 0.796 auc - 0.844\n"
     ]
    },
    {
     "name": "stderr",
     "output_type": "stream",
     "text": [
      "valid loss - 0.5233: 100%|██████████| 2/2 [00:00<00:00,  6.53it/s]\n",
      "  0%|          | 0/14 [00:00<?, ?it/s]"
     ]
    },
    {
     "name": "stdout",
     "output_type": "stream",
     "text": [
      "epoch - 15 val_loss - 0.51 val acc - 0.739 val auc - 0.799\n"
     ]
    },
    {
     "name": "stderr",
     "output_type": "stream",
     "text": [
      "loss - 0.4245: 100%|██████████| 14/14 [00:00<00:00, 16.49it/s]\n",
      "  0%|          | 0/2 [00:00<?, ?it/s]"
     ]
    },
    {
     "name": "stdout",
     "output_type": "stream",
     "text": [
      "epoch - 16 train_loss - 0.42 acc - 0.797 auc - 0.847\n"
     ]
    },
    {
     "name": "stderr",
     "output_type": "stream",
     "text": [
      "valid loss - 0.5058: 100%|██████████| 2/2 [00:00<00:00,  6.43it/s]\n",
      "  0%|          | 0/14 [00:00<?, ?it/s]"
     ]
    },
    {
     "name": "stdout",
     "output_type": "stream",
     "text": [
      "epoch - 16 val_loss - 0.51 val acc - 0.741 val auc - 0.800\n"
     ]
    },
    {
     "name": "stderr",
     "output_type": "stream",
     "text": [
      "loss - 0.4201: 100%|██████████| 14/14 [00:00<00:00, 15.21it/s]\n",
      "  0%|          | 0/2 [00:00<?, ?it/s]"
     ]
    },
    {
     "name": "stdout",
     "output_type": "stream",
     "text": [
      "epoch - 17 train_loss - 0.42 acc - 0.799 auc - 0.850\n"
     ]
    },
    {
     "name": "stderr",
     "output_type": "stream",
     "text": [
      "valid loss - 0.5135: 100%|██████████| 2/2 [00:00<00:00,  6.39it/s]\n",
      "  0%|          | 0/14 [00:00<?, ?it/s]"
     ]
    },
    {
     "name": "stdout",
     "output_type": "stream",
     "text": [
      "epoch - 17 val_loss - 0.51 val acc - 0.741 val auc - 0.800\n"
     ]
    },
    {
     "name": "stderr",
     "output_type": "stream",
     "text": [
      "loss - 0.4006: 100%|██████████| 14/14 [00:00<00:00, 17.27it/s]\n",
      "  0%|          | 0/2 [00:00<?, ?it/s]"
     ]
    },
    {
     "name": "stdout",
     "output_type": "stream",
     "text": [
      "epoch - 18 train_loss - 0.41 acc - 0.800 auc - 0.852\n"
     ]
    },
    {
     "name": "stderr",
     "output_type": "stream",
     "text": [
      "valid loss - 0.5139: 100%|██████████| 2/2 [00:00<00:00,  6.53it/s]\n",
      "  0%|          | 0/14 [00:00<?, ?it/s]"
     ]
    },
    {
     "name": "stdout",
     "output_type": "stream",
     "text": [
      "epoch - 18 val_loss - 0.51 val acc - 0.741 val auc - 0.800\n"
     ]
    },
    {
     "name": "stderr",
     "output_type": "stream",
     "text": [
      "loss - 0.4435: 100%|██████████| 14/14 [00:00<00:00, 17.53it/s]\n",
      "  0%|          | 0/2 [00:00<?, ?it/s]"
     ]
    },
    {
     "name": "stdout",
     "output_type": "stream",
     "text": [
      "epoch - 19 train_loss - 0.41 acc - 0.803 auc - 0.855\n"
     ]
    },
    {
     "name": "stderr",
     "output_type": "stream",
     "text": [
      "valid loss - 0.5060: 100%|██████████| 2/2 [00:00<00:00,  6.47it/s]\n",
      "  0%|          | 0/14 [00:00<?, ?it/s]"
     ]
    },
    {
     "name": "stdout",
     "output_type": "stream",
     "text": [
      "epoch - 19 val_loss - 0.51 val acc - 0.743 val auc - 0.800\n"
     ]
    },
    {
     "name": "stderr",
     "output_type": "stream",
     "text": [
      "loss - 0.4157: 100%|██████████| 14/14 [00:00<00:00, 17.27it/s]\n",
      "  0%|          | 0/2 [00:00<?, ?it/s]"
     ]
    },
    {
     "name": "stdout",
     "output_type": "stream",
     "text": [
      "epoch - 20 train_loss - 0.41 acc - 0.803 auc - 0.857\n"
     ]
    },
    {
     "name": "stderr",
     "output_type": "stream",
     "text": [
      "valid loss - 0.4941: 100%|██████████| 2/2 [00:00<00:00,  6.53it/s]\n",
      "  0%|          | 0/14 [00:00<?, ?it/s]"
     ]
    },
    {
     "name": "stdout",
     "output_type": "stream",
     "text": [
      "epoch - 20 val_loss - 0.50 val acc - 0.740 val auc - 0.801\n"
     ]
    },
    {
     "name": "stderr",
     "output_type": "stream",
     "text": [
      "loss - 0.4223: 100%|██████████| 14/14 [00:00<00:00, 17.19it/s]\n",
      "  0%|          | 0/2 [00:00<?, ?it/s]"
     ]
    },
    {
     "name": "stdout",
     "output_type": "stream",
     "text": [
      "epoch - 21 train_loss - 0.40 acc - 0.805 auc - 0.860\n"
     ]
    },
    {
     "name": "stderr",
     "output_type": "stream",
     "text": [
      "valid loss - 0.5216: 100%|██████████| 2/2 [00:00<00:00,  6.60it/s]\n",
      "  0%|          | 0/14 [00:00<?, ?it/s]"
     ]
    },
    {
     "name": "stdout",
     "output_type": "stream",
     "text": [
      "epoch - 21 val_loss - 0.51 val acc - 0.741 val auc - 0.800\n"
     ]
    },
    {
     "name": "stderr",
     "output_type": "stream",
     "text": [
      "loss - 0.4100: 100%|██████████| 14/14 [00:00<00:00, 17.12it/s]\n",
      "  0%|          | 0/2 [00:00<?, ?it/s]"
     ]
    },
    {
     "name": "stdout",
     "output_type": "stream",
     "text": [
      "epoch - 22 train_loss - 0.40 acc - 0.807 auc - 0.862\n"
     ]
    },
    {
     "name": "stderr",
     "output_type": "stream",
     "text": [
      "valid loss - 0.5112: 100%|██████████| 2/2 [00:00<00:00,  6.47it/s]\n",
      "  0%|          | 0/14 [00:00<?, ?it/s]"
     ]
    },
    {
     "name": "stdout",
     "output_type": "stream",
     "text": [
      "epoch - 22 val_loss - 0.51 val acc - 0.743 val auc - 0.801\n"
     ]
    },
    {
     "name": "stderr",
     "output_type": "stream",
     "text": [
      "loss - 0.3953: 100%|██████████| 14/14 [00:00<00:00, 16.48it/s]\n",
      "  0%|          | 0/2 [00:00<?, ?it/s]"
     ]
    },
    {
     "name": "stdout",
     "output_type": "stream",
     "text": [
      "epoch - 23 train_loss - 0.40 acc - 0.808 auc - 0.864\n"
     ]
    },
    {
     "name": "stderr",
     "output_type": "stream",
     "text": [
      "valid loss - 0.5148: 100%|██████████| 2/2 [00:00<00:00,  6.45it/s]\n",
      "  0%|          | 0/14 [00:00<?, ?it/s]"
     ]
    },
    {
     "name": "stdout",
     "output_type": "stream",
     "text": [
      "epoch - 23 val_loss - 0.51 val acc - 0.742 val auc - 0.801\n"
     ]
    },
    {
     "name": "stderr",
     "output_type": "stream",
     "text": [
      "loss - 0.3919: 100%|██████████| 14/14 [00:00<00:00, 17.12it/s]\n",
      "  0%|          | 0/2 [00:00<?, ?it/s]"
     ]
    },
    {
     "name": "stdout",
     "output_type": "stream",
     "text": [
      "epoch - 24 train_loss - 0.40 acc - 0.810 auc - 0.866\n"
     ]
    },
    {
     "name": "stderr",
     "output_type": "stream",
     "text": [
      "valid loss - 0.5322: 100%|██████████| 2/2 [00:00<00:00,  6.17it/s]\n",
      "  0%|          | 0/14 [00:00<?, ?it/s]"
     ]
    },
    {
     "name": "stdout",
     "output_type": "stream",
     "text": [
      "epoch - 24 val_loss - 0.51 val acc - 0.744 val auc - 0.801\n"
     ]
    },
    {
     "name": "stderr",
     "output_type": "stream",
     "text": [
      "loss - 0.3969: 100%|██████████| 14/14 [00:00<00:00, 17.44it/s]\n",
      "  0%|          | 0/2 [00:00<?, ?it/s]"
     ]
    },
    {
     "name": "stdout",
     "output_type": "stream",
     "text": [
      "epoch - 25 train_loss - 0.39 acc - 0.811 auc - 0.868\n"
     ]
    },
    {
     "name": "stderr",
     "output_type": "stream",
     "text": [
      "valid loss - 0.5053: 100%|██████████| 2/2 [00:00<00:00,  6.44it/s]\n",
      "  0%|          | 0/2 [00:00<?, ?it/s]"
     ]
    },
    {
     "name": "stdout",
     "output_type": "stream",
     "text": [
      "epoch - 25 val_loss - 0.51 val acc - 0.744 val auc - 0.800\n",
      "Val Loss does not improve for 5 consecutive epochs\n"
     ]
    },
    {
     "name": "stderr",
     "output_type": "stream",
     "text": [
      "valid loss - 0.3562: 100%|██████████| 2/2 [00:00<00:00,  6.54it/s]\n",
      "  0%|          | 0/14 [00:00<?, ?it/s]"
     ]
    },
    {
     "name": "stdout",
     "output_type": "stream",
     "text": [
      "epoch - 25 test_loss - 0.37 acc - 0.823 auc - 0.861\n"
     ]
    },
    {
     "name": "stderr",
     "output_type": "stream",
     "text": [
      "valid loss - 0.3946: 100%|██████████| 14/14 [00:00<00:00, 25.94it/s]\n",
      "  0%|          | 0/14 [00:00<?, ?it/s]"
     ]
    },
    {
     "name": "stdout",
     "output_type": "stream",
     "text": [
      "----------------------------------------------------------------------------\n"
     ]
    },
    {
     "name": "stderr",
     "output_type": "stream",
     "text": [
      "loss - 0.6023: 100%|██████████| 14/14 [00:00<00:00, 17.24it/s]\n",
      "  0%|          | 0/2 [00:00<?, ?it/s]"
     ]
    },
    {
     "name": "stdout",
     "output_type": "stream",
     "text": [
      "epoch - 0 train_loss - 0.65 acc - 0.642 auc - 0.510\n"
     ]
    },
    {
     "name": "stderr",
     "output_type": "stream",
     "text": [
      "valid loss - 0.6534: 100%|██████████| 2/2 [00:00<00:00,  6.55it/s]\n",
      "  0%|          | 0/14 [00:00<?, ?it/s]"
     ]
    },
    {
     "name": "stdout",
     "output_type": "stream",
     "text": [
      "epoch - 0 val_loss - 0.67 val acc - 0.670 val auc - 0.562\n"
     ]
    },
    {
     "name": "stderr",
     "output_type": "stream",
     "text": [
      "loss - 0.5652: 100%|██████████| 14/14 [00:00<00:00, 17.32it/s]\n",
      "  0%|          | 0/2 [00:00<?, ?it/s]"
     ]
    },
    {
     "name": "stdout",
     "output_type": "stream",
     "text": [
      "epoch - 1 train_loss - 0.58 acc - 0.726 auc - 0.607\n"
     ]
    },
    {
     "name": "stderr",
     "output_type": "stream",
     "text": [
      "valid loss - 0.6174: 100%|██████████| 2/2 [00:00<00:00,  6.33it/s]\n",
      "  0%|          | 0/14 [00:00<?, ?it/s]"
     ]
    },
    {
     "name": "stdout",
     "output_type": "stream",
     "text": [
      "epoch - 1 val_loss - 0.61 val acc - 0.676 val auc - 0.646\n"
     ]
    },
    {
     "name": "stderr",
     "output_type": "stream",
     "text": [
      "loss - 0.5304: 100%|██████████| 14/14 [00:00<00:00, 17.29it/s]\n",
      "  0%|          | 0/2 [00:00<?, ?it/s]"
     ]
    },
    {
     "name": "stdout",
     "output_type": "stream",
     "text": [
      "epoch - 2 train_loss - 0.55 acc - 0.735 auc - 0.682\n"
     ]
    },
    {
     "name": "stderr",
     "output_type": "stream",
     "text": [
      "valid loss - 0.5854: 100%|██████████| 2/2 [00:00<00:00,  6.44it/s]\n",
      "  0%|          | 0/14 [00:00<?, ?it/s]"
     ]
    },
    {
     "name": "stdout",
     "output_type": "stream",
     "text": [
      "epoch - 2 val_loss - 0.59 val acc - 0.687 val auc - 0.693\n"
     ]
    },
    {
     "name": "stderr",
     "output_type": "stream",
     "text": [
      "loss - 0.5122: 100%|██████████| 14/14 [00:00<00:00, 15.71it/s]\n",
      "  0%|          | 0/2 [00:00<?, ?it/s]"
     ]
    },
    {
     "name": "stdout",
     "output_type": "stream",
     "text": [
      "epoch - 3 train_loss - 0.53 acc - 0.742 auc - 0.722\n"
     ]
    },
    {
     "name": "stderr",
     "output_type": "stream",
     "text": [
      "valid loss - 0.5762: 100%|██████████| 2/2 [00:00<00:00,  6.41it/s]\n",
      "  0%|          | 0/14 [00:00<?, ?it/s]"
     ]
    },
    {
     "name": "stdout",
     "output_type": "stream",
     "text": [
      "epoch - 3 val_loss - 0.57 val acc - 0.694 val auc - 0.717\n"
     ]
    },
    {
     "name": "stderr",
     "output_type": "stream",
     "text": [
      "loss - 0.4898: 100%|██████████| 14/14 [00:00<00:00, 17.20it/s]\n",
      "  0%|          | 0/2 [00:00<?, ?it/s]"
     ]
    },
    {
     "name": "stdout",
     "output_type": "stream",
     "text": [
      "epoch - 4 train_loss - 0.51 acc - 0.751 auc - 0.751\n"
     ]
    },
    {
     "name": "stderr",
     "output_type": "stream",
     "text": [
      "valid loss - 0.5528: 100%|██████████| 2/2 [00:00<00:00,  6.47it/s]\n",
      "  0%|          | 0/14 [00:00<?, ?it/s]"
     ]
    },
    {
     "name": "stdout",
     "output_type": "stream",
     "text": [
      "epoch - 4 val_loss - 0.56 val acc - 0.705 val auc - 0.736\n"
     ]
    },
    {
     "name": "stderr",
     "output_type": "stream",
     "text": [
      "loss - 0.5206: 100%|██████████| 14/14 [00:00<00:00, 14.37it/s]\n",
      "  0%|          | 0/2 [00:00<?, ?it/s]"
     ]
    },
    {
     "name": "stdout",
     "output_type": "stream",
     "text": [
      "epoch - 5 train_loss - 0.49 acc - 0.759 auc - 0.771\n"
     ]
    },
    {
     "name": "stderr",
     "output_type": "stream",
     "text": [
      "valid loss - 0.5365: 100%|██████████| 2/2 [00:00<00:00,  5.46it/s]\n",
      "  0%|          | 0/14 [00:00<?, ?it/s]"
     ]
    },
    {
     "name": "stdout",
     "output_type": "stream",
     "text": [
      "epoch - 5 val_loss - 0.55 val acc - 0.715 val auc - 0.748\n"
     ]
    },
    {
     "name": "stderr",
     "output_type": "stream",
     "text": [
      "loss - 0.4770: 100%|██████████| 14/14 [00:00<00:00, 15.36it/s]\n",
      "  0%|          | 0/2 [00:00<?, ?it/s]"
     ]
    },
    {
     "name": "stdout",
     "output_type": "stream",
     "text": [
      "epoch - 6 train_loss - 0.48 acc - 0.767 auc - 0.787\n"
     ]
    },
    {
     "name": "stderr",
     "output_type": "stream",
     "text": [
      "valid loss - 0.5363: 100%|██████████| 2/2 [00:00<00:00,  6.47it/s]\n",
      "  0%|          | 0/14 [00:00<?, ?it/s]"
     ]
    },
    {
     "name": "stdout",
     "output_type": "stream",
     "text": [
      "epoch - 6 val_loss - 0.54 val acc - 0.721 val auc - 0.760\n"
     ]
    },
    {
     "name": "stderr",
     "output_type": "stream",
     "text": [
      "loss - 0.4684: 100%|██████████| 14/14 [00:00<00:00, 17.23it/s]\n",
      "  0%|          | 0/2 [00:00<?, ?it/s]"
     ]
    },
    {
     "name": "stdout",
     "output_type": "stream",
     "text": [
      "epoch - 7 train_loss - 0.47 acc - 0.772 auc - 0.800\n"
     ]
    },
    {
     "name": "stderr",
     "output_type": "stream",
     "text": [
      "valid loss - 0.5286: 100%|██████████| 2/2 [00:00<00:00,  6.41it/s]\n",
      "  0%|          | 0/14 [00:00<?, ?it/s]"
     ]
    },
    {
     "name": "stdout",
     "output_type": "stream",
     "text": [
      "epoch - 7 val_loss - 0.53 val acc - 0.729 val auc - 0.768\n"
     ]
    },
    {
     "name": "stderr",
     "output_type": "stream",
     "text": [
      "loss - 0.4796: 100%|██████████| 14/14 [00:00<00:00, 17.19it/s]\n",
      "  0%|          | 0/2 [00:00<?, ?it/s]"
     ]
    },
    {
     "name": "stdout",
     "output_type": "stream",
     "text": [
      "epoch - 8 train_loss - 0.46 acc - 0.777 auc - 0.810\n"
     ]
    },
    {
     "name": "stderr",
     "output_type": "stream",
     "text": [
      "valid loss - 0.5300: 100%|██████████| 2/2 [00:00<00:00,  6.37it/s]\n",
      "  0%|          | 0/14 [00:00<?, ?it/s]"
     ]
    },
    {
     "name": "stdout",
     "output_type": "stream",
     "text": [
      "epoch - 8 val_loss - 0.53 val acc - 0.731 val auc - 0.775\n"
     ]
    },
    {
     "name": "stderr",
     "output_type": "stream",
     "text": [
      "loss - 0.4385: 100%|██████████| 14/14 [00:01<00:00, 11.86it/s]\n",
      "  0%|          | 0/2 [00:00<?, ?it/s]"
     ]
    },
    {
     "name": "stdout",
     "output_type": "stream",
     "text": [
      "epoch - 9 train_loss - 0.45 acc - 0.781 auc - 0.818\n"
     ]
    },
    {
     "name": "stderr",
     "output_type": "stream",
     "text": [
      "valid loss - 0.5265: 100%|██████████| 2/2 [00:00<00:00,  6.33it/s]\n",
      "  0%|          | 0/14 [00:00<?, ?it/s]"
     ]
    },
    {
     "name": "stdout",
     "output_type": "stream",
     "text": [
      "epoch - 9 val_loss - 0.52 val acc - 0.733 val auc - 0.779\n"
     ]
    },
    {
     "name": "stderr",
     "output_type": "stream",
     "text": [
      "loss - 0.4436: 100%|██████████| 14/14 [00:00<00:00, 16.80it/s]\n",
      "  0%|          | 0/2 [00:00<?, ?it/s]"
     ]
    },
    {
     "name": "stdout",
     "output_type": "stream",
     "text": [
      "epoch - 10 train_loss - 0.45 acc - 0.783 auc - 0.824\n"
     ]
    },
    {
     "name": "stderr",
     "output_type": "stream",
     "text": [
      "valid loss - 0.5135: 100%|██████████| 2/2 [00:00<00:00,  6.44it/s]\n",
      "  0%|          | 0/14 [00:00<?, ?it/s]"
     ]
    },
    {
     "name": "stdout",
     "output_type": "stream",
     "text": [
      "epoch - 10 val_loss - 0.52 val acc - 0.734 val auc - 0.782\n"
     ]
    },
    {
     "name": "stderr",
     "output_type": "stream",
     "text": [
      "loss - 0.4226: 100%|██████████| 14/14 [00:00<00:00, 17.21it/s]\n",
      "  0%|          | 0/2 [00:00<?, ?it/s]"
     ]
    },
    {
     "name": "stdout",
     "output_type": "stream",
     "text": [
      "epoch - 11 train_loss - 0.44 acc - 0.786 auc - 0.829\n"
     ]
    },
    {
     "name": "stderr",
     "output_type": "stream",
     "text": [
      "valid loss - 0.5039: 100%|██████████| 2/2 [00:00<00:00,  6.46it/s]\n",
      "  0%|          | 0/14 [00:00<?, ?it/s]"
     ]
    },
    {
     "name": "stdout",
     "output_type": "stream",
     "text": [
      "epoch - 11 val_loss - 0.52 val acc - 0.736 val auc - 0.785\n"
     ]
    },
    {
     "name": "stderr",
     "output_type": "stream",
     "text": [
      "loss - 0.4697: 100%|██████████| 14/14 [00:00<00:00, 14.72it/s]\n",
      "  0%|          | 0/2 [00:00<?, ?it/s]"
     ]
    },
    {
     "name": "stdout",
     "output_type": "stream",
     "text": [
      "epoch - 12 train_loss - 0.44 acc - 0.788 auc - 0.834\n"
     ]
    },
    {
     "name": "stderr",
     "output_type": "stream",
     "text": [
      "valid loss - 0.5216: 100%|██████████| 2/2 [00:00<00:00,  5.92it/s]\n",
      "  0%|          | 0/14 [00:00<?, ?it/s]"
     ]
    },
    {
     "name": "stdout",
     "output_type": "stream",
     "text": [
      "epoch - 12 val_loss - 0.52 val acc - 0.736 val auc - 0.788\n"
     ]
    },
    {
     "name": "stderr",
     "output_type": "stream",
     "text": [
      "loss - 0.4456: 100%|██████████| 14/14 [00:00<00:00, 16.23it/s]\n",
      "  0%|          | 0/2 [00:00<?, ?it/s]"
     ]
    },
    {
     "name": "stdout",
     "output_type": "stream",
     "text": [
      "epoch - 13 train_loss - 0.43 acc - 0.791 auc - 0.838\n"
     ]
    },
    {
     "name": "stderr",
     "output_type": "stream",
     "text": [
      "valid loss - 0.5111: 100%|██████████| 2/2 [00:00<00:00,  5.94it/s]\n",
      "  0%|          | 0/14 [00:00<?, ?it/s]"
     ]
    },
    {
     "name": "stdout",
     "output_type": "stream",
     "text": [
      "epoch - 13 val_loss - 0.51 val acc - 0.736 val auc - 0.789\n"
     ]
    },
    {
     "name": "stderr",
     "output_type": "stream",
     "text": [
      "loss - 0.4486: 100%|██████████| 14/14 [00:00<00:00, 16.20it/s]\n",
      "  0%|          | 0/2 [00:00<?, ?it/s]"
     ]
    },
    {
     "name": "stdout",
     "output_type": "stream",
     "text": [
      "epoch - 14 train_loss - 0.43 acc - 0.793 auc - 0.842\n"
     ]
    },
    {
     "name": "stderr",
     "output_type": "stream",
     "text": [
      "valid loss - 0.5153: 100%|██████████| 2/2 [00:00<00:00,  6.06it/s]\n",
      "  0%|          | 0/14 [00:00<?, ?it/s]"
     ]
    },
    {
     "name": "stdout",
     "output_type": "stream",
     "text": [
      "epoch - 14 val_loss - 0.52 val acc - 0.737 val auc - 0.790\n"
     ]
    },
    {
     "name": "stderr",
     "output_type": "stream",
     "text": [
      "loss - 0.4160: 100%|██████████| 14/14 [00:00<00:00, 16.47it/s]\n",
      "  0%|          | 0/2 [00:00<?, ?it/s]"
     ]
    },
    {
     "name": "stdout",
     "output_type": "stream",
     "text": [
      "epoch - 15 train_loss - 0.42 acc - 0.795 auc - 0.845\n"
     ]
    },
    {
     "name": "stderr",
     "output_type": "stream",
     "text": [
      "valid loss - 0.5396: 100%|██████████| 2/2 [00:00<00:00,  5.42it/s]\n",
      "  0%|          | 0/14 [00:00<?, ?it/s]"
     ]
    },
    {
     "name": "stdout",
     "output_type": "stream",
     "text": [
      "epoch - 15 val_loss - 0.52 val acc - 0.737 val auc - 0.791\n"
     ]
    },
    {
     "name": "stderr",
     "output_type": "stream",
     "text": [
      "loss - 0.4267: 100%|██████████| 14/14 [00:00<00:00, 15.93it/s]\n",
      "  0%|          | 0/2 [00:00<?, ?it/s]"
     ]
    },
    {
     "name": "stdout",
     "output_type": "stream",
     "text": [
      "epoch - 16 train_loss - 0.42 acc - 0.796 auc - 0.847\n"
     ]
    },
    {
     "name": "stderr",
     "output_type": "stream",
     "text": [
      "valid loss - 0.4917: 100%|██████████| 2/2 [00:00<00:00,  6.17it/s]\n",
      "  0%|          | 0/14 [00:00<?, ?it/s]"
     ]
    },
    {
     "name": "stdout",
     "output_type": "stream",
     "text": [
      "epoch - 16 val_loss - 0.51 val acc - 0.738 val auc - 0.792\n"
     ]
    },
    {
     "name": "stderr",
     "output_type": "stream",
     "text": [
      "loss - 0.4254: 100%|██████████| 14/14 [00:00<00:00, 16.59it/s]\n",
      "  0%|          | 0/2 [00:00<?, ?it/s]"
     ]
    },
    {
     "name": "stdout",
     "output_type": "stream",
     "text": [
      "epoch - 17 train_loss - 0.42 acc - 0.798 auc - 0.850\n"
     ]
    },
    {
     "name": "stderr",
     "output_type": "stream",
     "text": [
      "valid loss - 0.5088: 100%|██████████| 2/2 [00:00<00:00,  6.00it/s]\n",
      "  0%|          | 0/14 [00:00<?, ?it/s]"
     ]
    },
    {
     "name": "stdout",
     "output_type": "stream",
     "text": [
      "epoch - 17 val_loss - 0.51 val acc - 0.738 val auc - 0.792\n"
     ]
    },
    {
     "name": "stderr",
     "output_type": "stream",
     "text": [
      "loss - 0.4285: 100%|██████████| 14/14 [00:00<00:00, 16.52it/s]\n",
      "  0%|          | 0/2 [00:00<?, ?it/s]"
     ]
    },
    {
     "name": "stdout",
     "output_type": "stream",
     "text": [
      "epoch - 18 train_loss - 0.41 acc - 0.799 auc - 0.853\n"
     ]
    },
    {
     "name": "stderr",
     "output_type": "stream",
     "text": [
      "valid loss - 0.5158: 100%|██████████| 2/2 [00:00<00:00,  6.13it/s]\n",
      "  0%|          | 0/14 [00:00<?, ?it/s]"
     ]
    },
    {
     "name": "stdout",
     "output_type": "stream",
     "text": [
      "epoch - 18 val_loss - 0.51 val acc - 0.737 val auc - 0.793\n"
     ]
    },
    {
     "name": "stderr",
     "output_type": "stream",
     "text": [
      "loss - 0.4072: 100%|██████████| 14/14 [00:00<00:00, 14.20it/s]\n",
      "  0%|          | 0/2 [00:00<?, ?it/s]"
     ]
    },
    {
     "name": "stdout",
     "output_type": "stream",
     "text": [
      "epoch - 19 train_loss - 0.41 acc - 0.802 auc - 0.855\n"
     ]
    },
    {
     "name": "stderr",
     "output_type": "stream",
     "text": [
      "valid loss - 0.4960: 100%|██████████| 2/2 [00:00<00:00,  6.12it/s]\n",
      "  0%|          | 0/14 [00:00<?, ?it/s]"
     ]
    },
    {
     "name": "stdout",
     "output_type": "stream",
     "text": [
      "epoch - 19 val_loss - 0.51 val acc - 0.738 val auc - 0.793\n"
     ]
    },
    {
     "name": "stderr",
     "output_type": "stream",
     "text": [
      "loss - 0.4024: 100%|██████████| 14/14 [00:00<00:00, 16.30it/s]\n",
      "  0%|          | 0/2 [00:00<?, ?it/s]"
     ]
    },
    {
     "name": "stdout",
     "output_type": "stream",
     "text": [
      "epoch - 20 train_loss - 0.41 acc - 0.803 auc - 0.858\n"
     ]
    },
    {
     "name": "stderr",
     "output_type": "stream",
     "text": [
      "valid loss - 0.4978: 100%|██████████| 2/2 [00:00<00:00,  5.96it/s]\n",
      "  0%|          | 0/14 [00:00<?, ?it/s]"
     ]
    },
    {
     "name": "stdout",
     "output_type": "stream",
     "text": [
      "epoch - 20 val_loss - 0.51 val acc - 0.736 val auc - 0.792\n"
     ]
    },
    {
     "name": "stderr",
     "output_type": "stream",
     "text": [
      "loss - 0.3899: 100%|██████████| 14/14 [00:00<00:00, 16.45it/s]\n",
      "  0%|          | 0/2 [00:00<?, ?it/s]"
     ]
    },
    {
     "name": "stdout",
     "output_type": "stream",
     "text": [
      "epoch - 21 train_loss - 0.40 acc - 0.804 auc - 0.860\n"
     ]
    },
    {
     "name": "stderr",
     "output_type": "stream",
     "text": [
      "valid loss - 0.5068: 100%|██████████| 2/2 [00:00<00:00,  6.07it/s]\n",
      "  0%|          | 0/2 [00:00<?, ?it/s]"
     ]
    },
    {
     "name": "stdout",
     "output_type": "stream",
     "text": [
      "epoch - 21 val_loss - 0.51 val acc - 0.738 val auc - 0.793\n",
      "Val Loss does not improve for 5 consecutive epochs\n"
     ]
    },
    {
     "name": "stderr",
     "output_type": "stream",
     "text": [
      "valid loss - 0.3924: 100%|██████████| 2/2 [00:00<00:00,  5.40it/s]\n",
      "  0%|          | 0/14 [00:00<?, ?it/s]"
     ]
    },
    {
     "name": "stdout",
     "output_type": "stream",
     "text": [
      "epoch - 21 test_loss - 0.37 acc - 0.829 auc - 0.864\n"
     ]
    },
    {
     "name": "stderr",
     "output_type": "stream",
     "text": [
      "valid loss - 0.4084: 100%|██████████| 14/14 [00:00<00:00, 24.24it/s]\n",
      "  0%|          | 0/14 [00:00<?, ?it/s]"
     ]
    },
    {
     "name": "stdout",
     "output_type": "stream",
     "text": [
      "----------------------------------------------------------------------------\n"
     ]
    },
    {
     "name": "stderr",
     "output_type": "stream",
     "text": [
      "loss - 0.6228: 100%|██████████| 14/14 [00:00<00:00, 16.40it/s]\n",
      "  0%|          | 0/2 [00:00<?, ?it/s]"
     ]
    },
    {
     "name": "stdout",
     "output_type": "stream",
     "text": [
      "epoch - 0 train_loss - 0.62 acc - 0.684 auc - 0.525\n"
     ]
    },
    {
     "name": "stderr",
     "output_type": "stream",
     "text": [
      "valid loss - 0.6056: 100%|██████████| 2/2 [00:00<00:00,  6.20it/s]\n",
      "  0%|          | 0/14 [00:00<?, ?it/s]"
     ]
    },
    {
     "name": "stdout",
     "output_type": "stream",
     "text": [
      "epoch - 0 val_loss - 0.62 val acc - 0.692 val auc - 0.599\n"
     ]
    },
    {
     "name": "stderr",
     "output_type": "stream",
     "text": [
      "loss - 0.5305: 100%|██████████| 14/14 [00:00<00:00, 16.39it/s]\n",
      "  0%|          | 0/2 [00:00<?, ?it/s]"
     ]
    },
    {
     "name": "stdout",
     "output_type": "stream",
     "text": [
      "epoch - 1 train_loss - 0.57 acc - 0.724 auc - 0.627\n"
     ]
    },
    {
     "name": "stderr",
     "output_type": "stream",
     "text": [
      "valid loss - 0.5642: 100%|██████████| 2/2 [00:00<00:00,  6.06it/s]\n",
      "  0%|          | 0/14 [00:00<?, ?it/s]"
     ]
    },
    {
     "name": "stdout",
     "output_type": "stream",
     "text": [
      "epoch - 1 val_loss - 0.58 val acc - 0.701 val auc - 0.678\n"
     ]
    },
    {
     "name": "stderr",
     "output_type": "stream",
     "text": [
      "loss - 0.5091: 100%|██████████| 14/14 [00:00<00:00, 16.46it/s]\n",
      "  0%|          | 0/2 [00:00<?, ?it/s]"
     ]
    },
    {
     "name": "stdout",
     "output_type": "stream",
     "text": [
      "epoch - 2 train_loss - 0.54 acc - 0.736 auc - 0.710\n"
     ]
    },
    {
     "name": "stderr",
     "output_type": "stream",
     "text": [
      "valid loss - 0.5509: 100%|██████████| 2/2 [00:00<00:00,  5.64it/s]\n",
      "  0%|          | 0/14 [00:00<?, ?it/s]"
     ]
    },
    {
     "name": "stdout",
     "output_type": "stream",
     "text": [
      "epoch - 2 val_loss - 0.56 val acc - 0.711 val auc - 0.716\n"
     ]
    },
    {
     "name": "stderr",
     "output_type": "stream",
     "text": [
      "loss - 0.4980: 100%|██████████| 14/14 [00:01<00:00, 11.50it/s]\n",
      "  0%|          | 0/2 [00:00<?, ?it/s]"
     ]
    },
    {
     "name": "stdout",
     "output_type": "stream",
     "text": [
      "epoch - 3 train_loss - 0.51 acc - 0.751 auc - 0.745\n"
     ]
    },
    {
     "name": "stderr",
     "output_type": "stream",
     "text": [
      "valid loss - 0.5479: 100%|██████████| 2/2 [00:00<00:00,  5.75it/s]\n",
      "  0%|          | 0/14 [00:00<?, ?it/s]"
     ]
    },
    {
     "name": "stdout",
     "output_type": "stream",
     "text": [
      "epoch - 3 val_loss - 0.54 val acc - 0.726 val auc - 0.741\n"
     ]
    },
    {
     "name": "stderr",
     "output_type": "stream",
     "text": [
      "loss - 0.4580: 100%|██████████| 14/14 [00:00<00:00, 16.37it/s]\n",
      "  0%|          | 0/2 [00:00<?, ?it/s]"
     ]
    },
    {
     "name": "stdout",
     "output_type": "stream",
     "text": [
      "epoch - 4 train_loss - 0.49 acc - 0.760 auc - 0.771\n"
     ]
    },
    {
     "name": "stderr",
     "output_type": "stream",
     "text": [
      "valid loss - 0.5354: 100%|██████████| 2/2 [00:00<00:00,  5.90it/s]\n",
      "  0%|          | 0/14 [00:00<?, ?it/s]"
     ]
    },
    {
     "name": "stdout",
     "output_type": "stream",
     "text": [
      "epoch - 4 val_loss - 0.53 val acc - 0.732 val auc - 0.758\n"
     ]
    },
    {
     "name": "stderr",
     "output_type": "stream",
     "text": [
      "loss - 0.5101: 100%|██████████| 14/14 [00:00<00:00, 16.56it/s]\n",
      "  0%|          | 0/2 [00:00<?, ?it/s]"
     ]
    },
    {
     "name": "stdout",
     "output_type": "stream",
     "text": [
      "epoch - 5 train_loss - 0.48 acc - 0.767 auc - 0.788\n"
     ]
    },
    {
     "name": "stderr",
     "output_type": "stream",
     "text": [
      "valid loss - 0.5173: 100%|██████████| 2/2 [00:00<00:00,  6.47it/s]\n",
      "  0%|          | 0/14 [00:00<?, ?it/s]"
     ]
    },
    {
     "name": "stdout",
     "output_type": "stream",
     "text": [
      "epoch - 5 val_loss - 0.52 val acc - 0.737 val auc - 0.773\n"
     ]
    },
    {
     "name": "stderr",
     "output_type": "stream",
     "text": [
      "loss - 0.4703: 100%|██████████| 14/14 [00:00<00:00, 16.91it/s]\n",
      "  0%|          | 0/2 [00:00<?, ?it/s]"
     ]
    },
    {
     "name": "stdout",
     "output_type": "stream",
     "text": [
      "epoch - 6 train_loss - 0.47 acc - 0.772 auc - 0.802\n"
     ]
    },
    {
     "name": "stderr",
     "output_type": "stream",
     "text": [
      "valid loss - 0.5238: 100%|██████████| 2/2 [00:00<00:00,  4.30it/s]\n",
      "  0%|          | 0/14 [00:00<?, ?it/s]"
     ]
    },
    {
     "name": "stdout",
     "output_type": "stream",
     "text": [
      "epoch - 6 val_loss - 0.51 val acc - 0.741 val auc - 0.782\n"
     ]
    },
    {
     "name": "stderr",
     "output_type": "stream",
     "text": [
      "loss - 0.4369: 100%|██████████| 14/14 [00:00<00:00, 15.42it/s]\n",
      "  0%|          | 0/2 [00:00<?, ?it/s]"
     ]
    },
    {
     "name": "stdout",
     "output_type": "stream",
     "text": [
      "epoch - 7 train_loss - 0.46 acc - 0.777 auc - 0.813\n"
     ]
    },
    {
     "name": "stderr",
     "output_type": "stream",
     "text": [
      "valid loss - 0.4855: 100%|██████████| 2/2 [00:00<00:00,  6.39it/s]\n",
      "  0%|          | 0/14 [00:00<?, ?it/s]"
     ]
    },
    {
     "name": "stdout",
     "output_type": "stream",
     "text": [
      "epoch - 7 val_loss - 0.50 val acc - 0.744 val auc - 0.787\n"
     ]
    },
    {
     "name": "stderr",
     "output_type": "stream",
     "text": [
      "loss - 0.4722: 100%|██████████| 14/14 [00:00<00:00, 17.16it/s]\n",
      "  0%|          | 0/2 [00:00<?, ?it/s]"
     ]
    },
    {
     "name": "stdout",
     "output_type": "stream",
     "text": [
      "epoch - 8 train_loss - 0.45 acc - 0.781 auc - 0.820\n"
     ]
    },
    {
     "name": "stderr",
     "output_type": "stream",
     "text": [
      "valid loss - 0.5089: 100%|██████████| 2/2 [00:00<00:00,  6.46it/s]\n",
      "  0%|          | 0/14 [00:00<?, ?it/s]"
     ]
    },
    {
     "name": "stdout",
     "output_type": "stream",
     "text": [
      "epoch - 8 val_loss - 0.50 val acc - 0.745 val auc - 0.790\n"
     ]
    },
    {
     "name": "stderr",
     "output_type": "stream",
     "text": [
      "loss - 0.4342: 100%|██████████| 14/14 [00:00<00:00, 17.14it/s]\n",
      "  0%|          | 0/2 [00:00<?, ?it/s]"
     ]
    },
    {
     "name": "stdout",
     "output_type": "stream",
     "text": [
      "epoch - 9 train_loss - 0.45 acc - 0.783 auc - 0.826\n"
     ]
    },
    {
     "name": "stderr",
     "output_type": "stream",
     "text": [
      "valid loss - 0.4948: 100%|██████████| 2/2 [00:00<00:00,  5.11it/s]\n",
      "  0%|          | 0/14 [00:00<?, ?it/s]"
     ]
    },
    {
     "name": "stdout",
     "output_type": "stream",
     "text": [
      "epoch - 9 val_loss - 0.50 val acc - 0.747 val auc - 0.791\n"
     ]
    },
    {
     "name": "stderr",
     "output_type": "stream",
     "text": [
      "loss - 0.4229: 100%|██████████| 14/14 [00:00<00:00, 15.90it/s]\n",
      "  0%|          | 0/2 [00:00<?, ?it/s]"
     ]
    },
    {
     "name": "stdout",
     "output_type": "stream",
     "text": [
      "epoch - 10 train_loss - 0.44 acc - 0.786 auc - 0.831\n"
     ]
    },
    {
     "name": "stderr",
     "output_type": "stream",
     "text": [
      "valid loss - 0.4961: 100%|██████████| 2/2 [00:00<00:00,  6.43it/s]\n",
      "  0%|          | 0/14 [00:00<?, ?it/s]"
     ]
    },
    {
     "name": "stdout",
     "output_type": "stream",
     "text": [
      "epoch - 10 val_loss - 0.50 val acc - 0.748 val auc - 0.794\n"
     ]
    },
    {
     "name": "stderr",
     "output_type": "stream",
     "text": [
      "loss - 0.4350: 100%|██████████| 14/14 [00:00<00:00, 17.26it/s]\n",
      "  0%|          | 0/2 [00:00<?, ?it/s]"
     ]
    },
    {
     "name": "stdout",
     "output_type": "stream",
     "text": [
      "epoch - 11 train_loss - 0.44 acc - 0.788 auc - 0.834\n"
     ]
    },
    {
     "name": "stderr",
     "output_type": "stream",
     "text": [
      "valid loss - 0.5249: 100%|██████████| 2/2 [00:00<00:00,  5.84it/s]\n",
      "  0%|          | 0/14 [00:00<?, ?it/s]"
     ]
    },
    {
     "name": "stdout",
     "output_type": "stream",
     "text": [
      "epoch - 11 val_loss - 0.50 val acc - 0.747 val auc - 0.794\n"
     ]
    },
    {
     "name": "stderr",
     "output_type": "stream",
     "text": [
      "loss - 0.4236: 100%|██████████| 14/14 [00:00<00:00, 17.39it/s]\n",
      "  0%|          | 0/2 [00:00<?, ?it/s]"
     ]
    },
    {
     "name": "stdout",
     "output_type": "stream",
     "text": [
      "epoch - 12 train_loss - 0.43 acc - 0.790 auc - 0.838\n"
     ]
    },
    {
     "name": "stderr",
     "output_type": "stream",
     "text": [
      "valid loss - 0.4853: 100%|██████████| 2/2 [00:00<00:00,  6.42it/s]\n",
      "  0%|          | 0/14 [00:00<?, ?it/s]"
     ]
    },
    {
     "name": "stdout",
     "output_type": "stream",
     "text": [
      "epoch - 12 val_loss - 0.49 val acc - 0.749 val auc - 0.795\n"
     ]
    },
    {
     "name": "stderr",
     "output_type": "stream",
     "text": [
      "loss - 0.4420: 100%|██████████| 14/14 [00:00<00:00, 17.13it/s]\n",
      "  0%|          | 0/2 [00:00<?, ?it/s]"
     ]
    },
    {
     "name": "stdout",
     "output_type": "stream",
     "text": [
      "epoch - 13 train_loss - 0.43 acc - 0.793 auc - 0.841\n"
     ]
    },
    {
     "name": "stderr",
     "output_type": "stream",
     "text": [
      "valid loss - 0.4789: 100%|██████████| 2/2 [00:00<00:00,  6.50it/s]\n",
      "  0%|          | 0/14 [00:00<?, ?it/s]"
     ]
    },
    {
     "name": "stdout",
     "output_type": "stream",
     "text": [
      "epoch - 13 val_loss - 0.49 val acc - 0.747 val auc - 0.796\n"
     ]
    },
    {
     "name": "stderr",
     "output_type": "stream",
     "text": [
      "loss - 0.4301: 100%|██████████| 14/14 [00:00<00:00, 17.02it/s]\n",
      "  0%|          | 0/2 [00:00<?, ?it/s]"
     ]
    },
    {
     "name": "stdout",
     "output_type": "stream",
     "text": [
      "epoch - 14 train_loss - 0.43 acc - 0.793 auc - 0.844\n"
     ]
    },
    {
     "name": "stderr",
     "output_type": "stream",
     "text": [
      "valid loss - 0.4979: 100%|██████████| 2/2 [00:00<00:00,  6.38it/s]\n",
      "  0%|          | 0/14 [00:00<?, ?it/s]"
     ]
    },
    {
     "name": "stdout",
     "output_type": "stream",
     "text": [
      "epoch - 14 val_loss - 0.50 val acc - 0.749 val auc - 0.797\n"
     ]
    },
    {
     "name": "stderr",
     "output_type": "stream",
     "text": [
      "loss - 0.4027: 100%|██████████| 14/14 [00:00<00:00, 17.18it/s]\n",
      "  0%|          | 0/2 [00:00<?, ?it/s]"
     ]
    },
    {
     "name": "stdout",
     "output_type": "stream",
     "text": [
      "epoch - 15 train_loss - 0.42 acc - 0.796 auc - 0.848\n"
     ]
    },
    {
     "name": "stderr",
     "output_type": "stream",
     "text": [
      "valid loss - 0.4886: 100%|██████████| 2/2 [00:00<00:00,  6.33it/s]\n",
      "  0%|          | 0/14 [00:00<?, ?it/s]"
     ]
    },
    {
     "name": "stdout",
     "output_type": "stream",
     "text": [
      "epoch - 15 val_loss - 0.49 val acc - 0.750 val auc - 0.797\n"
     ]
    },
    {
     "name": "stderr",
     "output_type": "stream",
     "text": [
      "loss - 0.4353: 100%|██████████| 14/14 [00:00<00:00, 17.04it/s]\n",
      "  0%|          | 0/2 [00:00<?, ?it/s]"
     ]
    },
    {
     "name": "stdout",
     "output_type": "stream",
     "text": [
      "epoch - 16 train_loss - 0.42 acc - 0.796 auc - 0.850\n"
     ]
    },
    {
     "name": "stderr",
     "output_type": "stream",
     "text": [
      "valid loss - 0.5103: 100%|██████████| 2/2 [00:00<00:00,  6.38it/s]\n",
      "  0%|          | 0/14 [00:00<?, ?it/s]"
     ]
    },
    {
     "name": "stdout",
     "output_type": "stream",
     "text": [
      "epoch - 16 val_loss - 0.50 val acc - 0.747 val auc - 0.797\n"
     ]
    },
    {
     "name": "stderr",
     "output_type": "stream",
     "text": [
      "loss - 0.3995: 100%|██████████| 14/14 [00:00<00:00, 15.46it/s]\n",
      "  0%|          | 0/2 [00:00<?, ?it/s]"
     ]
    },
    {
     "name": "stdout",
     "output_type": "stream",
     "text": [
      "epoch - 17 train_loss - 0.41 acc - 0.799 auc - 0.853\n"
     ]
    },
    {
     "name": "stderr",
     "output_type": "stream",
     "text": [
      "valid loss - 0.5026: 100%|██████████| 2/2 [00:00<00:00,  6.38it/s]\n",
      "  0%|          | 0/14 [00:00<?, ?it/s]"
     ]
    },
    {
     "name": "stdout",
     "output_type": "stream",
     "text": [
      "epoch - 17 val_loss - 0.50 val acc - 0.748 val auc - 0.798\n"
     ]
    },
    {
     "name": "stderr",
     "output_type": "stream",
     "text": [
      "loss - 0.4510: 100%|██████████| 14/14 [00:00<00:00, 16.14it/s]\n",
      "  0%|          | 0/2 [00:00<?, ?it/s]"
     ]
    },
    {
     "name": "stdout",
     "output_type": "stream",
     "text": [
      "epoch - 18 train_loss - 0.41 acc - 0.800 auc - 0.855\n"
     ]
    },
    {
     "name": "stderr",
     "output_type": "stream",
     "text": [
      "valid loss - 0.5065: 100%|██████████| 2/2 [00:00<00:00,  6.33it/s]\n",
      "  0%|          | 0/2 [00:00<?, ?it/s]"
     ]
    },
    {
     "name": "stdout",
     "output_type": "stream",
     "text": [
      "epoch - 18 val_loss - 0.50 val acc - 0.749 val auc - 0.798\n",
      "Val Loss does not improve for 5 consecutive epochs\n"
     ]
    },
    {
     "name": "stderr",
     "output_type": "stream",
     "text": [
      "valid loss - 0.3626: 100%|██████████| 2/2 [00:00<00:00,  6.39it/s]\n",
      "  0%|          | 0/14 [00:00<?, ?it/s]"
     ]
    },
    {
     "name": "stdout",
     "output_type": "stream",
     "text": [
      "epoch - 18 test_loss - 0.37 acc - 0.831 auc - 0.862\n"
     ]
    },
    {
     "name": "stderr",
     "output_type": "stream",
     "text": [
      "valid loss - 0.4466: 100%|██████████| 14/14 [00:00<00:00, 25.10it/s]\n"
     ]
    }
   ],
   "source": [
    "#user KFold\n",
    "X = np.array(group.keys())\n",
    "kfold = KFold(n_splits=5, shuffle=True)\n",
    "train_losses = list()\n",
    "train_aucs = list()\n",
    "train_accs = list()\n",
    "val_losses = list()\n",
    "val_aucs = list()\n",
    "val_accs = list()\n",
    "test_losses = list()\n",
    "test_aucs = list()\n",
    "test_accs = list()\n",
    "for train, test in kfold.split(X):\n",
    "    users_train, users_test =  X[train], X[test]\n",
    "    n = len(users_test)//2\n",
    "    users_test, users_val = users_test[:n], users_test[n: ]\n",
    "    train = PRACTICE_DATASET(group[users_train])\n",
    "    valid = PRACTICE_DATASET(group[users_val])\n",
    "    test = PRACTICE_DATASET(group[users_test])\n",
    "    train_dataloader = DataLoader(train, batch_size=64, shuffle=True, num_workers=8)\n",
    "    val_dataloader = DataLoader(valid, batch_size=64, shuffle=True, num_workers=8)\n",
    "    test_dataloader = DataLoader(test, batch_size=64, shuffle=True, num_workers=8)\n",
    "    \n",
    "    device = torch.device(\"cuda\" if torch.cuda.is_available() else \"cpu\")\n",
    "    saint = SAKTModel(n_skill)\n",
    "    epochs = 100\n",
    "    criterion = nn.BCEWithLogitsLoss()\n",
    "    optimizer = torch.optim.Adam(saint.parameters(), betas=(0.9, 0.999), lr = 0.0005, eps=1e-8)\n",
    "    saint.to(device)\n",
    "    criterion.to(device)\n",
    "    \n",
    "    def train_epoch(model=saint, train_iterator=train_dataloader, optim=optimizer, criterion=criterion, device=device):\n",
    "        model.train()\n",
    "\n",
    "        train_loss = []\n",
    "        num_corrects = 0\n",
    "        num_total = 0\n",
    "        labels = []\n",
    "        outs = []\n",
    "        tbar = tqdm(train_iterator)\n",
    "        for item in tbar:\n",
    "            x = item[0].to(device).long()\n",
    "            target_id = item[1].to(device).long()\n",
    "            label = item[2].to(device).float()            \n",
    "            target_mask = (target_id!=0)\n",
    "            optim.zero_grad()\n",
    "            output = model(x, target_id)\n",
    "            output = torch.reshape(output, label.shape)\n",
    "\n",
    "            output = torch.masked_select(output, target_mask)\n",
    "            label = torch.masked_select(label, target_mask)\n",
    "\n",
    "            loss = criterion(output, label)\n",
    "            loss.backward()\n",
    "            optim.step()\n",
    "            train_loss.append(loss.item())\n",
    "            pred = (torch.sigmoid(output) >= 0.5).long()\n",
    "\n",
    "            num_corrects += (pred == label).sum().item()\n",
    "            num_total += len(label)\n",
    "\n",
    "            labels.extend(label.view(-1).data.cpu().numpy())\n",
    "            outs.extend(output.view(-1).data.cpu().numpy())\n",
    "\n",
    "            tbar.set_description('loss - {:.4f}'.format(loss))\n",
    "        acc = num_corrects / num_total\n",
    "        auc = roc_auc_score(labels, outs)\n",
    "        loss = np.mean(train_loss)\n",
    "\n",
    "        return loss, acc, auc\n",
    "   \n",
    "\n",
    "    def val_epoch(model=saint, val_iterator=test_dataloader, \n",
    "              criterion=criterion, device=device):\n",
    "        model.eval()\n",
    "\n",
    "        train_loss = []\n",
    "        num_corrects = 0\n",
    "        num_total = 0\n",
    "        labels = []\n",
    "        outs = []\n",
    "        tbar = tqdm(val_iterator)\n",
    "        for item in tbar:\n",
    "            x = item[0].to(device).long()\n",
    "            target_id = item[1].to(device).long()\n",
    "            label = item[2].to(device).float()                \n",
    "            target_mask = (target_id!=0)\n",
    "            with torch.no_grad():\n",
    "                output = model(x, target_id)\n",
    "\n",
    "            output = torch.reshape(output, label.shape)\n",
    "            output = torch.masked_select(output, target_mask)\n",
    "            label = torch.masked_select(label, target_mask)\n",
    "\n",
    "            loss = criterion(output, label)\n",
    "            train_loss.append(loss.item())\n",
    "\n",
    "            pred = (torch.sigmoid(output) >= 0.5).long()\n",
    "            num_corrects += (pred == label).sum().item()\n",
    "            num_total += len(label)\n",
    "\n",
    "            labels.extend(label.view(-1).data.cpu().numpy())\n",
    "            outs.extend(output.view(-1).data.cpu().numpy())\n",
    "\n",
    "            tbar.set_description('valid loss - {:.4f}'.format(loss))\n",
    "\n",
    "        acc = num_corrects / num_total\n",
    "        auc = roc_auc_score(labels, outs)\n",
    "        loss = np.average(train_loss)\n",
    "\n",
    "        return loss, acc, auc\n",
    "    \n",
    "    MIN_VAL = 1000000000\n",
    "    count = 0\n",
    "    print('----------------------------------------------------------------------------')\n",
    "    for epoch in range(epochs):\n",
    "        train_loss, train_acc, train_auc = train_epoch(model=saint, device=device)\n",
    "        print(\"epoch - {} train_loss - {:.2f} acc - {:.3f} auc - {:.3f}\".format(epoch, train_loss, train_acc, train_auc))\n",
    "        val_loss, val_acc, val_auc = val_epoch(model=saint, val_iterator= val_dataloader, device=device)\n",
    "        print(\"epoch - {} val_loss - {:.2f} val acc - {:.3f} val auc - {:.3f}\".format(epoch, val_loss, val_acc, val_auc))\n",
    "        if val_loss < MIN_VAL:\n",
    "            count = 0\n",
    "            MIN_VAL = val_loss\n",
    "        else:\n",
    "            count += 1\n",
    "        if count == patience:\n",
    "            print('Val Loss does not improve for {} consecutive epochs'.format(patience))\n",
    "            break\n",
    "    test_loss, test_acc, test_auc = val_epoch(model=saint, device=device)\n",
    "    print(\"epoch - {} test_loss - {:.2f} acc - {:.3f} auc - {:.3f}\".format(epoch, test_loss, test_acc, test_auc))\n",
    "    train_loss, train_acc, train_auc = val_epoch(model=saint, val_iterator=train_dataloader, device=device)\n",
    "\n",
    "    test_losses.append(test_loss)\n",
    "    test_aucs.append(test_auc)\n",
    "    test_accs.append(test_acc)\n",
    "    train_aucs.append(train_auc)\n",
    "    train_losses.append(train_loss)\n",
    "    train_accs.append(train_acc)"
   ]
  },
  {
   "cell_type": "code",
   "execution_count": 26,
   "metadata": {
    "execution": {
     "iopub.execute_input": "2021-07-27T09:45:18.561434Z",
     "iopub.status.busy": "2021-07-27T09:45:18.560660Z",
     "iopub.status.idle": "2021-07-27T09:45:18.565750Z",
     "shell.execute_reply": "2021-07-27T09:45:18.565257Z",
     "shell.execute_reply.started": "2021-07-26T23:22:08.115742Z"
    },
    "papermill": {
     "duration": 0.896382,
     "end_time": "2021-07-27T09:45:18.566164",
     "exception": false,
     "start_time": "2021-07-27T09:45:17.669782",
     "status": "completed"
    },
    "tags": []
   },
   "outputs": [
    {
     "name": "stdout",
     "output_type": "stream",
     "text": [
      "test avg loss:  0.36849435567855837 0.01336966178852656\n",
      "test avg acc:  0.828957882378323 0.008268022478074292\n",
      "test avg auc:  0.8606417721312567 0.004155151107493926\n"
     ]
    }
   ],
   "source": [
    "#display test loss/acc/auc\n",
    "print(\"test avg loss: \", np.mean(test_losses), np.std(test_losses) )\n",
    "print(\"test avg acc: \", np.mean(test_accs), np.std(test_accs))\n",
    "print(\"test avg auc: \", np.mean(test_aucs), np.std(test_aucs))"
   ]
  },
  {
   "cell_type": "code",
   "execution_count": 27,
   "metadata": {
    "execution": {
     "iopub.execute_input": "2021-07-27T09:45:20.341150Z",
     "iopub.status.busy": "2021-07-27T09:45:20.340439Z",
     "iopub.status.idle": "2021-07-27T09:45:20.346041Z",
     "shell.execute_reply": "2021-07-27T09:45:20.346405Z",
     "shell.execute_reply.started": "2021-07-26T23:22:08.125425Z"
    },
    "papermill": {
     "duration": 0.889383,
     "end_time": "2021-07-27T09:45:20.346541",
     "exception": false,
     "start_time": "2021-07-27T09:45:19.457158",
     "status": "completed"
    },
    "tags": []
   },
   "outputs": [
    {
     "name": "stdout",
     "output_type": "stream",
     "text": [
      "train avg loss:  0.39608638797487533 0.0073097583586446335\n",
      "train avg acc:  0.8101237653162695 0.0043883313605747095\n",
      "train avg auc:  0.8672720721454231 0.005447959660816971\n"
     ]
    }
   ],
   "source": [
    "#display train loss/acc/auc\n",
    "print(\"train avg loss: \", np.mean(train_losses), np.std(train_losses) )\n",
    "print(\"train avg acc: \", np.mean(train_accs), np.std(train_accs))\n",
    "print(\"train avg auc: \", np.mean(train_aucs), np.std(train_aucs))"
   ]
  }
 ],
 "metadata": {
  "kernelspec": {
   "display_name": "Python 3",
   "language": "python",
   "name": "python3"
  },
  "language_info": {
   "codemirror_mode": {
    "name": "ipython",
    "version": 3
   },
   "file_extension": ".py",
   "mimetype": "text/x-python",
   "name": "python",
   "nbconvert_exporter": "python",
   "pygments_lexer": "ipython3",
   "version": "3.8.5"
  },
  "papermill": {
   "default_parameters": {},
   "duration": 306.866084,
   "end_time": "2021-07-27T09:45:23.070899",
   "environment_variables": {},
   "exception": null,
   "input_path": "__notebook__.ipynb",
   "output_path": "__notebook__.ipynb",
   "parameters": {},
   "start_time": "2021-07-27T09:40:16.204815",
   "version": "2.3.3"
  }
 },
 "nbformat": 4,
 "nbformat_minor": 5
}
