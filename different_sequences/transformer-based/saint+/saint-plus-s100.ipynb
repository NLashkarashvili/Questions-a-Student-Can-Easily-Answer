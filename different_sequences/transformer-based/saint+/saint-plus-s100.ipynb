{
 "cells": [
  {
   "cell_type": "code",
   "execution_count": 1,
   "metadata": {
    "_cell_guid": "79c7e3d0-c299-4dcb-8224-4455121ee9b0",
    "_uuid": "d629ff2d2480ee46fbb7e2d37f6b5fab8052498a",
    "execution": {
     "iopub.execute_input": "2021-08-07T21:30:02.941376Z",
     "iopub.status.busy": "2021-08-07T21:30:02.940668Z",
     "iopub.status.idle": "2021-08-07T21:30:04.884627Z",
     "shell.execute_reply": "2021-08-07T21:30:04.884030Z",
     "shell.execute_reply.started": "2021-07-31T18:35:00.085166Z"
    },
    "papermill": {
     "duration": 1.975729,
     "end_time": "2021-08-07T21:30:04.884764",
     "exception": false,
     "start_time": "2021-08-07T21:30:02.909035",
     "status": "completed"
    },
    "tags": []
   },
   "outputs": [],
   "source": [
    "import psutil\n",
    "import joblib\n",
    "import numpy as np\n",
    "import pandas as pd\n",
    "import torch\n",
    "from tqdm import tqdm\n",
    "from sklearn.metrics import roc_auc_score\n",
    "import torch.nn as nn\n",
    "from sklearn.model_selection import KFold\n",
    "from torch.utils.data import Dataset, DataLoader\n",
    "import gc\n",
    "import os\n",
    "import warnings\n",
    "warnings.filterwarnings(\"ignore\")"
   ]
  },
  {
   "cell_type": "code",
   "execution_count": 2,
   "metadata": {
    "execution": {
     "iopub.execute_input": "2021-08-07T21:30:04.950257Z",
     "iopub.status.busy": "2021-08-07T21:30:04.949687Z",
     "iopub.status.idle": "2021-08-07T21:30:11.086420Z",
     "shell.execute_reply": "2021-08-07T21:30:11.087544Z",
     "shell.execute_reply.started": "2021-07-31T18:35:00.74086Z"
    },
    "papermill": {
     "duration": 6.172249,
     "end_time": "2021-08-07T21:30:11.087728",
     "exception": false,
     "start_time": "2021-08-07T21:30:04.915479",
     "status": "completed"
    },
    "tags": []
   },
   "outputs": [],
   "source": [
    "data = pd.read_csv('../input/practice-log-demographics/Practice_Log_Demographics (1).csv', low_memory=False)"
   ]
  },
  {
   "cell_type": "code",
   "execution_count": 3,
   "metadata": {
    "execution": {
     "iopub.execute_input": "2021-08-07T21:30:11.179102Z",
     "iopub.status.busy": "2021-08-07T21:30:11.177382Z",
     "iopub.status.idle": "2021-08-07T21:30:11.179713Z",
     "shell.execute_reply": "2021-08-07T21:30:11.180131Z",
     "shell.execute_reply.started": "2021-07-31T18:35:05.26131Z"
    },
    "papermill": {
     "duration": 0.046179,
     "end_time": "2021-08-07T21:30:11.180250",
     "exception": false,
     "start_time": "2021-08-07T21:30:11.134071",
     "status": "completed"
    },
    "tags": []
   },
   "outputs": [],
   "source": [
    "FEATURES = ['chapter_label', 'sub_chapter_label','question_name','user_id.x','term','STDNT_SEX_CD', \n",
    "            'NonNativeEnglish', 'White', 'Asian','WhiteOrAsian', 'Hispanic','AfricanAmerican','OtherEthnicities',\n",
    "            'NonWhiteOrAsian','STDNT_CTZN_STAT_CD', 'international','gradingType','birthYear','exclClassCumGPA',\n",
    "            'Freshman', 'Junior','Sophomore','Senior','termCreditsGPA','termCreditsNoGPA','athlete_1','honorsPro',\n",
    "            'LSA', 'programBusiness', 'programEngineering','programInformation', 'programOther','HSCalculusTaken', \n",
    "            'highSchoolGPA', 'majorsCount', 'minorsCount','PREV_TERM_CUM_GPA', 'classGraded', 'classHonors', \n",
    "            'Pass_Fail', 'parentsGraduateEdu',  'minorityGroup', 'q',\"day's_available_flashcards\", \n",
    "            'start_practice', 'end_practice','days_offset']"
   ]
  },
  {
   "cell_type": "code",
   "execution_count": 4,
   "metadata": {
    "execution": {
     "iopub.execute_input": "2021-08-07T21:30:11.247281Z",
     "iopub.status.busy": "2021-08-07T21:30:11.245871Z",
     "iopub.status.idle": "2021-08-07T21:30:11.353496Z",
     "shell.execute_reply": "2021-08-07T21:30:11.353913Z",
     "shell.execute_reply.started": "2021-07-31T18:35:05.271017Z"
    },
    "papermill": {
     "duration": 0.14745,
     "end_time": "2021-08-07T21:30:11.354053",
     "exception": false,
     "start_time": "2021-08-07T21:30:11.206603",
     "status": "completed"
    },
    "tags": []
   },
   "outputs": [],
   "source": [
    "data = data[FEATURES]"
   ]
  },
  {
   "cell_type": "code",
   "execution_count": 5,
   "metadata": {
    "execution": {
     "iopub.execute_input": "2021-08-07T21:30:11.482296Z",
     "iopub.status.busy": "2021-08-07T21:30:11.478508Z",
     "iopub.status.idle": "2021-08-07T21:30:11.486097Z",
     "shell.execute_reply": "2021-08-07T21:30:11.486582Z",
     "shell.execute_reply.started": "2021-07-31T18:35:05.392116Z"
    },
    "papermill": {
     "duration": 0.108089,
     "end_time": "2021-08-07T21:30:11.486720",
     "exception": false,
     "start_time": "2021-08-07T21:30:11.378631",
     "status": "completed"
    },
    "tags": []
   },
   "outputs": [
    {
     "data": {
      "text/plain": [
       "60"
      ]
     },
     "execution_count": 5,
     "metadata": {},
     "output_type": "execute_result"
    }
   ],
   "source": [
    "gc.collect()"
   ]
  },
  {
   "cell_type": "code",
   "execution_count": 6,
   "metadata": {
    "execution": {
     "iopub.execute_input": "2021-08-07T21:30:11.634025Z",
     "iopub.status.busy": "2021-08-07T21:30:11.633089Z",
     "iopub.status.idle": "2021-08-07T21:30:11.852275Z",
     "shell.execute_reply": "2021-08-07T21:30:11.851786Z",
     "shell.execute_reply.started": "2021-07-31T18:35:05.465591Z"
    },
    "papermill": {
     "duration": 0.337475,
     "end_time": "2021-08-07T21:30:11.852394",
     "exception": false,
     "start_time": "2021-08-07T21:30:11.514919",
     "status": "completed"
    },
    "tags": []
   },
   "outputs": [],
   "source": [
    "data['COVID_Graded'] = np.where(data['gradingType']=='COVID Graded', 1, 0)\n",
    "data.drop(columns=['gradingType'], inplace=True)"
   ]
  },
  {
   "cell_type": "code",
   "execution_count": 7,
   "metadata": {
    "execution": {
     "iopub.execute_input": "2021-08-07T21:30:11.937176Z",
     "iopub.status.busy": "2021-08-07T21:30:11.932082Z",
     "iopub.status.idle": "2021-08-07T21:30:12.398938Z",
     "shell.execute_reply": "2021-08-07T21:30:12.398375Z",
     "shell.execute_reply.started": "2021-07-31T18:35:05.778592Z"
    },
    "papermill": {
     "duration": 0.522263,
     "end_time": "2021-08-07T21:30:12.399041",
     "exception": false,
     "start_time": "2021-08-07T21:30:11.876778",
     "status": "completed"
    },
    "tags": []
   },
   "outputs": [],
   "source": [
    "data['term_value'] = [int(ele[3:]) for ele in data['term']]\n",
    "data['age'] = data['term_value'] - data['birthYear']"
   ]
  },
  {
   "cell_type": "code",
   "execution_count": 8,
   "metadata": {
    "execution": {
     "iopub.execute_input": "2021-08-07T21:30:12.454242Z",
     "iopub.status.busy": "2021-08-07T21:30:12.453003Z",
     "iopub.status.idle": "2021-08-07T21:30:12.666819Z",
     "shell.execute_reply": "2021-08-07T21:30:12.666355Z",
     "shell.execute_reply.started": "2021-07-31T18:35:06.300553Z"
    },
    "papermill": {
     "duration": 0.243514,
     "end_time": "2021-08-07T21:30:12.666940",
     "exception": false,
     "start_time": "2021-08-07T21:30:12.423426",
     "status": "completed"
    },
    "tags": []
   },
   "outputs": [],
   "source": [
    "data.drop(columns=['term_value', 'birthYear'], inplace=True)"
   ]
  },
  {
   "cell_type": "code",
   "execution_count": 9,
   "metadata": {
    "execution": {
     "iopub.execute_input": "2021-08-07T21:30:12.907532Z",
     "iopub.status.busy": "2021-08-07T21:30:12.906187Z",
     "iopub.status.idle": "2021-08-07T21:30:48.454467Z",
     "shell.execute_reply": "2021-08-07T21:30:48.453909Z",
     "shell.execute_reply.started": "2021-07-31T18:35:06.527113Z"
    },
    "papermill": {
     "duration": 35.763412,
     "end_time": "2021-08-07T21:30:48.454573",
     "exception": false,
     "start_time": "2021-08-07T21:30:12.691161",
     "status": "completed"
    },
    "tags": []
   },
   "outputs": [],
   "source": [
    "#convert start_practice and end_practice to datatime column\n",
    "data.start_practice = pd.to_datetime(data.start_practice, format='%Y-%m-%d %H:%M:%S')\n",
    "data.end_practice = pd.to_datetime(data.end_practice, format='%Y-%m-%d %H:%M:%S')\n",
    "#label encode term, chapter_label, question_name, sub_chapter_label columns\n",
    "data['term'] = data['term'].astype('category')\n",
    "data['chapter_id'] = data['chapter_label'].replace(data['chapter_label'].unique(), list(range(data['chapter_label'].nunique()))) + 1\n",
    "data['sub_chapter_id'] = data['sub_chapter_label'].replace(data['sub_chapter_label'].unique(), list(range(data['sub_chapter_label'].nunique()))) + 1\n",
    "data['question_id'] = data['question_name'].replace(data['question_name'].unique(), list(range(data['question_name'].nunique()))) + 1"
   ]
  },
  {
   "cell_type": "code",
   "execution_count": 10,
   "metadata": {
    "execution": {
     "iopub.execute_input": "2021-08-07T21:30:48.510661Z",
     "iopub.status.busy": "2021-08-07T21:30:48.509512Z",
     "iopub.status.idle": "2021-08-07T21:30:48.528987Z",
     "shell.execute_reply": "2021-08-07T21:30:48.529492Z",
     "shell.execute_reply.started": "2021-07-31T18:35:42.91017Z"
    },
    "papermill": {
     "duration": 0.049936,
     "end_time": "2021-08-07T21:30:48.529637",
     "exception": false,
     "start_time": "2021-08-07T21:30:48.479701",
     "status": "completed"
    },
    "tags": []
   },
   "outputs": [],
   "source": [
    "data['dif'] = data.end_practice - data.start_practice\n",
    "data['dif'] = data['dif'] /np.timedelta64(1, 's')\n",
    "data['q'] = np.where((data['q']==5) & (data['dif'] <= 60), 1, 0)"
   ]
  },
  {
   "cell_type": "code",
   "execution_count": 11,
   "metadata": {
    "execution": {
     "iopub.execute_input": "2021-08-07T21:30:48.585779Z",
     "iopub.status.busy": "2021-08-07T21:30:48.584108Z",
     "iopub.status.idle": "2021-08-07T21:30:48.785090Z",
     "shell.execute_reply": "2021-08-07T21:30:48.784611Z",
     "shell.execute_reply.started": "2021-07-31T18:35:42.935914Z"
    },
    "papermill": {
     "duration": 0.231029,
     "end_time": "2021-08-07T21:30:48.785188",
     "exception": false,
     "start_time": "2021-08-07T21:30:48.554159",
     "status": "completed"
    },
    "tags": []
   },
   "outputs": [],
   "source": [
    "data.drop(columns = ['chapter_label', 'sub_chapter_label', 'question_name'], inplace=True)"
   ]
  },
  {
   "cell_type": "code",
   "execution_count": 12,
   "metadata": {
    "execution": {
     "iopub.execute_input": "2021-08-07T21:30:48.849300Z",
     "iopub.status.busy": "2021-08-07T21:30:48.839114Z",
     "iopub.status.idle": "2021-08-07T21:30:49.273603Z",
     "shell.execute_reply": "2021-08-07T21:30:49.273092Z",
     "shell.execute_reply.started": "2021-07-31T18:35:43.148319Z"
    },
    "papermill": {
     "duration": 0.464099,
     "end_time": "2021-08-07T21:30:49.273707",
     "exception": false,
     "start_time": "2021-08-07T21:30:48.809608",
     "status": "completed"
    },
    "tags": []
   },
   "outputs": [],
   "source": [
    "new_minors_count = []\n",
    "for i in data['minorsCount']:\n",
    "  if i == 0 or i == '0':\n",
    "    new_minors_count.append(0)\n",
    "  elif i == '1 Minor':\n",
    "    new_minors_count.append(1)\n",
    "  else:\n",
    "    new_minors_count.append(2)\n",
    "\n",
    "data['minorsCount'] = new_minors_count"
   ]
  },
  {
   "cell_type": "code",
   "execution_count": 13,
   "metadata": {
    "execution": {
     "iopub.execute_input": "2021-08-07T21:30:49.328132Z",
     "iopub.status.busy": "2021-08-07T21:30:49.327043Z",
     "iopub.status.idle": "2021-08-07T21:30:49.747126Z",
     "shell.execute_reply": "2021-08-07T21:30:49.746637Z",
     "shell.execute_reply.started": "2021-07-31T18:35:43.583946Z"
    },
    "papermill": {
     "duration": 0.449082,
     "end_time": "2021-08-07T21:30:49.747234",
     "exception": false,
     "start_time": "2021-08-07T21:30:49.298152",
     "status": "completed"
    },
    "tags": []
   },
   "outputs": [],
   "source": [
    "data = data.sort_values(['start_practice'], ascending=True).reset_index(drop=True)"
   ]
  },
  {
   "cell_type": "code",
   "execution_count": 14,
   "metadata": {
    "execution": {
     "iopub.execute_input": "2021-08-07T21:30:49.802832Z",
     "iopub.status.busy": "2021-08-07T21:30:49.802076Z",
     "iopub.status.idle": "2021-08-07T21:31:56.345392Z",
     "shell.execute_reply": "2021-08-07T21:31:56.344477Z",
     "shell.execute_reply.started": "2021-07-31T18:35:44.009929Z"
    },
    "papermill": {
     "duration": 66.573833,
     "end_time": "2021-08-07T21:31:56.345517",
     "exception": false,
     "start_time": "2021-08-07T21:30:49.771684",
     "status": "completed"
    },
    "tags": []
   },
   "outputs": [],
   "source": [
    "data['user_id.x'] = data['term'].astype(str) + data['user_id.x'].astype(str)\n",
    "data['user_id.x'] = data['user_id.x'].replace(data['user_id.x'].unique(), list(range(data['user_id.x'].nunique())))"
   ]
  },
  {
   "cell_type": "code",
   "execution_count": 15,
   "metadata": {
    "execution": {
     "iopub.execute_input": "2021-08-07T21:31:56.399829Z",
     "iopub.status.busy": "2021-08-07T21:31:56.398982Z",
     "iopub.status.idle": "2021-08-07T21:31:56.401627Z",
     "shell.execute_reply": "2021-08-07T21:31:56.401180Z",
     "shell.execute_reply.started": "2021-07-31T18:36:49.59518Z"
    },
    "papermill": {
     "duration": 0.031806,
     "end_time": "2021-08-07T21:31:56.401726",
     "exception": false,
     "start_time": "2021-08-07T21:31:56.369920",
     "status": "completed"
    },
    "tags": []
   },
   "outputs": [],
   "source": [
    "data['term'] =  data['term'].cat.codes"
   ]
  },
  {
   "cell_type": "code",
   "execution_count": 16,
   "metadata": {
    "execution": {
     "iopub.execute_input": "2021-08-07T21:31:56.455650Z",
     "iopub.status.busy": "2021-08-07T21:31:56.454766Z",
     "iopub.status.idle": "2021-08-07T21:31:56.499675Z",
     "shell.execute_reply": "2021-08-07T21:31:56.499206Z",
     "shell.execute_reply.started": "2021-07-31T18:36:49.604181Z"
    },
    "papermill": {
     "duration": 0.074123,
     "end_time": "2021-08-07T21:31:56.499784",
     "exception": false,
     "start_time": "2021-08-07T21:31:56.425661",
     "status": "completed"
    },
    "tags": []
   },
   "outputs": [],
   "source": [
    "data['prev_time_elapsed'] = None\n",
    "data['time_lag'] = None\n",
    "data['time_lag'] = data['time_lag'].astype(np.float)\n",
    "data['prev_time_elapsed'] = data['prev_time_elapsed'].astype(np.float)"
   ]
  },
  {
   "cell_type": "code",
   "execution_count": 17,
   "metadata": {
    "execution": {
     "iopub.execute_input": "2021-08-07T21:31:56.565434Z",
     "iopub.status.busy": "2021-08-07T21:31:56.564566Z",
     "iopub.status.idle": "2021-08-07T21:37:45.092439Z",
     "shell.execute_reply": "2021-08-07T21:37:45.093081Z",
     "shell.execute_reply.started": "2021-07-31T18:36:49.663626Z"
    },
    "papermill": {
     "duration": 348.567821,
     "end_time": "2021-08-07T21:37:45.093293",
     "exception": false,
     "start_time": "2021-08-07T21:31:56.525472",
     "status": "completed"
    },
    "tags": []
   },
   "outputs": [
    {
     "name": "stderr",
     "output_type": "stream",
     "text": [
      "100%|██████████| 1110/1110 [05:48<00:00,  3.18it/s]\n"
     ]
    }
   ],
   "source": [
    "unique_chapts = data['chapter_id'].unique()\n",
    "from tqdm import tqdm\n",
    "cnt = 0\n",
    "for user in tqdm(data['user_id.x'].unique()):\n",
    "        for chapter in unique_chapts:\n",
    "            tmp_user = data[(data['user_id.x']==user) & (data['chapter_id']==chapter)]\n",
    "            if len(tmp_user) < 1:\n",
    "                continue\n",
    "            tmp_time_elapsed = tmp_user.end_practice - tmp_user.start_practice\n",
    "            tmp_time_elapsed = tmp_time_elapsed / np.timedelta64(1, 's')\n",
    "            #shifting time elapsed by one\n",
    "            #so that time_elapsed row for each question\n",
    "            #would refer to the time that user took to answer\n",
    "            #previous question\n",
    "            tmp_time_elapsed = np.insert(np.array(tmp_time_elapsed[:-1]), 0, 0., axis=0)\n",
    "            tmp_time_elapsed = np.cumsum(tmp_time_elapsed)\n",
    "            indices = tmp_user.index\n",
    "            start_row = indices[0]\n",
    "            data['time_lag'].iloc[start_row] = 0\n",
    "            for_mean = np.arange(len(tmp_user))\n",
    "            for_mean[0] = 1\n",
    "            time_substrahend = tmp_user.start_practice.iloc[:-1]\n",
    "            time_substrahend = time_substrahend.apply(lambda a: a.timestamp())\n",
    "            time_substrahend = np.array(time_substrahend)\n",
    "            \n",
    "            time_minuend = tmp_user.start_practice.iloc[1:]\n",
    "            time_minuend = time_minuend.apply(lambda a: a.timestamp())\n",
    "            time_minuend = np.array(time_minuend)\n",
    "\n",
    "            data['prev_time_elapsed'].iloc[indices] = tmp_time_elapsed/for_mean\n",
    "            data['time_lag'].iloc[indices[1:]] = time_minuend - time_substrahend"
   ]
  },
  {
   "cell_type": "code",
   "execution_count": 18,
   "metadata": {
    "execution": {
     "iopub.execute_input": "2021-08-07T21:37:45.940433Z",
     "iopub.status.busy": "2021-08-07T21:37:45.939606Z",
     "iopub.status.idle": "2021-08-07T21:37:46.103929Z",
     "shell.execute_reply": "2021-08-07T21:37:46.104433Z",
     "shell.execute_reply.started": "2021-07-31T18:37:08.338678Z"
    },
    "papermill": {
     "duration": 0.662459,
     "end_time": "2021-08-07T21:37:46.104576",
     "exception": false,
     "start_time": "2021-08-07T21:37:45.442117",
     "status": "completed"
    },
    "tags": []
   },
   "outputs": [
    {
     "data": {
      "text/plain": [
       "count     610792.0\n",
       "unique    143509.0\n",
       "top            0.0\n",
       "freq       23878.0\n",
       "Name: time_lag, dtype: float64"
      ]
     },
     "execution_count": 18,
     "metadata": {},
     "output_type": "execute_result"
    }
   ],
   "source": [
    "data['time_lag'].describe()"
   ]
  },
  {
   "cell_type": "code",
   "execution_count": 19,
   "metadata": {
    "execution": {
     "iopub.execute_input": "2021-08-07T21:37:46.801777Z",
     "iopub.status.busy": "2021-08-07T21:37:46.800953Z",
     "iopub.status.idle": "2021-08-07T21:37:46.826476Z",
     "shell.execute_reply": "2021-08-07T21:37:46.826975Z",
     "shell.execute_reply.started": "2021-07-31T18:37:08.369788Z"
    },
    "papermill": {
     "duration": 0.37609,
     "end_time": "2021-08-07T21:37:46.827111",
     "exception": false,
     "start_time": "2021-08-07T21:37:46.451021",
     "status": "completed"
    },
    "tags": []
   },
   "outputs": [
    {
     "data": {
      "text/plain": [
       "count    610792.000000\n",
       "mean        142.486562\n",
       "std         761.014785\n",
       "min           0.000000\n",
       "25%          29.307692\n",
       "50%          59.086957\n",
       "75%         120.291667\n",
       "max      157895.500000\n",
       "Name: prev_time_elapsed, dtype: float64"
      ]
     },
     "execution_count": 19,
     "metadata": {},
     "output_type": "execute_result"
    }
   ],
   "source": [
    "data['prev_time_elapsed'].describe()"
   ]
  },
  {
   "cell_type": "code",
   "execution_count": 20,
   "metadata": {
    "execution": {
     "iopub.execute_input": "2021-08-07T21:37:47.596592Z",
     "iopub.status.busy": "2021-08-07T21:37:47.595723Z",
     "iopub.status.idle": "2021-08-07T21:37:48.129027Z",
     "shell.execute_reply": "2021-08-07T21:37:48.129613Z",
     "shell.execute_reply.started": "2021-07-31T18:37:08.400105Z"
    },
    "papermill": {
     "duration": 0.95101,
     "end_time": "2021-08-07T21:37:48.129796",
     "exception": false,
     "start_time": "2021-08-07T21:37:47.178786",
     "status": "completed"
    },
    "tags": []
   },
   "outputs": [
    {
     "data": {
      "text/plain": [
       "73"
      ]
     },
     "execution_count": 20,
     "metadata": {},
     "output_type": "execute_result"
    }
   ],
   "source": [
    "#now we can drop end practice\n",
    "data.drop(columns=['end_practice'], inplace=True)\n",
    "data = data.sort_values(['start_practice'], ascending=True).reset_index(drop=True)\n",
    "data['answered_correctly'] = data['q']\n",
    "data.drop(columns='q', inplace=True)\n",
    "gc.collect()"
   ]
  },
  {
   "cell_type": "code",
   "execution_count": 21,
   "metadata": {
    "execution": {
     "iopub.execute_input": "2021-08-07T21:37:48.918605Z",
     "iopub.status.busy": "2021-08-07T21:37:48.917746Z",
     "iopub.status.idle": "2021-08-07T21:37:48.921444Z",
     "shell.execute_reply": "2021-08-07T21:37:48.921853Z",
     "shell.execute_reply.started": "2021-07-31T18:37:08.937256Z"
    },
    "papermill": {
     "duration": 0.439837,
     "end_time": "2021-08-07T21:37:48.921977",
     "exception": false,
     "start_time": "2021-08-07T21:37:48.482140",
     "status": "completed"
    },
    "tags": []
   },
   "outputs": [
    {
     "data": {
      "text/plain": [
       "20"
      ]
     },
     "execution_count": 21,
     "metadata": {},
     "output_type": "execute_result"
    }
   ],
   "source": [
    "gc.collect()"
   ]
  },
  {
   "cell_type": "code",
   "execution_count": 24,
   "metadata": {
    "execution": {
     "iopub.execute_input": "2021-08-07T21:37:51.312899Z",
     "iopub.status.busy": "2021-08-07T21:37:51.311791Z",
     "iopub.status.idle": "2021-08-07T21:37:51.485501Z",
     "shell.execute_reply": "2021-08-07T21:37:51.484961Z",
     "shell.execute_reply.started": "2021-07-31T18:37:09.034403Z"
    },
    "papermill": {
     "duration": 0.53195,
     "end_time": "2021-08-07T21:37:51.485627",
     "exception": false,
     "start_time": "2021-08-07T21:37:50.953677",
     "status": "completed"
    },
    "tags": []
   },
   "outputs": [],
   "source": [
    "data.fillna(0, inplace=True)"
   ]
  },
  {
   "cell_type": "code",
   "execution_count": 25,
   "metadata": {
    "execution": {
     "iopub.execute_input": "2021-08-07T21:37:52.233816Z",
     "iopub.status.busy": "2021-08-07T21:37:52.232924Z",
     "iopub.status.idle": "2021-08-07T21:37:52.239965Z",
     "shell.execute_reply": "2021-08-07T21:37:52.239544Z",
     "shell.execute_reply.started": "2021-07-31T18:37:09.057543Z"
    },
    "papermill": {
     "duration": 0.363451,
     "end_time": "2021-08-07T21:37:52.240064",
     "exception": false,
     "start_time": "2021-08-07T21:37:51.876613",
     "status": "completed"
    },
    "tags": []
   },
   "outputs": [],
   "source": [
    "MAX_SEQ = 100\n",
    "n_part = data['sub_chapter_id'].nunique() + 1\n",
    "D_MODEL = 128\n",
    "N_LAYER = 2\n",
    "DROPOUT = 0.2"
   ]
  },
  {
   "cell_type": "code",
   "execution_count": 26,
   "metadata": {
    "execution": {
     "iopub.execute_input": "2021-08-07T21:37:52.960819Z",
     "iopub.status.busy": "2021-08-07T21:37:52.959939Z",
     "iopub.status.idle": "2021-08-07T21:37:52.962892Z",
     "shell.execute_reply": "2021-08-07T21:37:52.962472Z",
     "shell.execute_reply.started": "2021-07-31T18:37:09.069888Z"
    },
    "papermill": {
     "duration": 0.372459,
     "end_time": "2021-08-07T21:37:52.962995",
     "exception": false,
     "start_time": "2021-08-07T21:37:52.590536",
     "status": "completed"
    },
    "tags": []
   },
   "outputs": [],
   "source": [
    "class FFN(nn.Module):\n",
    "    def __init__(self, state_size=200):\n",
    "        super(FFN, self).__init__()\n",
    "        self.state_size = state_size\n",
    "\n",
    "        self.lr1 = nn.Linear(state_size, state_size)\n",
    "        self.relu = nn.ReLU()\n",
    "        self.lr2 = nn.Linear(state_size, state_size)\n",
    "        self.dropout = nn.Dropout(DROPOUT)\n",
    "    \n",
    "    def forward(self, x):\n",
    "        x = self.lr1(x)\n",
    "        x = self.relu(x)\n",
    "        x = self.lr2(x)\n",
    "        return self.dropout(x)\n",
    "\n",
    "def future_mask(seq_length):\n",
    "    future_mask = np.triu(np.ones((seq_length, seq_length)), k=1).astype('bool')\n",
    "    return torch.from_numpy(future_mask)\n",
    "\n",
    "\n",
    "class SAINTModel(nn.Module):\n",
    "    def __init__(self, n_skill, n_part, max_seq=MAX_SEQ, embed_dim= D_MODEL, elapsed_time_cat_flag = False):\n",
    "        super(SAINTModel, self).__init__()\n",
    "\n",
    "        self.n_skill = n_skill\n",
    "        self.embed_dim = embed_dim\n",
    "        self.n_chapter= 39\n",
    "        self.n_sub_chapter = n_part\n",
    "        self.elapsed_time_cat_flag = elapsed_time_cat_flag\n",
    "\n",
    "        self.q_embedding = nn.Embedding(self.n_skill+1, embed_dim) ## exercise\n",
    "        self.c_embedding = nn.Embedding(self.n_chapter+1, embed_dim) ## category\n",
    "        self.sc_embedding = nn.Embedding(self.n_sub_chapter, embed_dim) ## category\n",
    "        self.pos_embedding = nn.Embedding(max_seq+1, embed_dim) ## position\n",
    "        self.res_embedding = nn.Embedding(2+1, embed_dim) ## response\n",
    "        self.feat_embedding = nn.Linear(2, embed_dim)\n",
    "    \n",
    "\n",
    "\n",
    "\n",
    "        self.transformer = nn.Transformer(nhead=8, d_model = embed_dim, num_encoder_layers= N_LAYER, num_decoder_layers= N_LAYER, dropout = DROPOUT)\n",
    "\n",
    "        self.dropout = nn.Dropout(DROPOUT)\n",
    "        self.layer_normal = nn.LayerNorm(embed_dim) \n",
    "        self.ffn = FFN(embed_dim)\n",
    "        self.pred = nn.Linear(embed_dim, 1)\n",
    "    \n",
    "    def forward(self, question, chapter, schapter, response, user_features):\n",
    "\n",
    "        device = question.device  \n",
    "        ## embedding layer\n",
    "        question = self.q_embedding(question)\n",
    "        chapter = self.c_embedding(chapter)\n",
    "        schapter = self.sc_embedding(schapter)\n",
    "        pos_id = torch.arange(question.size(1)).unsqueeze(0).to(device)\n",
    "        pos_id = self.pos_embedding(pos_id)\n",
    "        res = self.res_embedding(response)\n",
    "        user_features = self.feat_embedding(user_features)\n",
    "        \n",
    "\n",
    "        enc = pos_id + question + chapter + schapter \n",
    "        dec = pos_id + res + enc + user_features\n",
    "        enc = enc.permute(1, 0, 2) # x: [bs, s_len, embed] => [s_len, bs, embed]\n",
    "        dec = dec.permute(1, 0, 2)\n",
    "        mask = future_mask(enc.size(0)).to(device)\n",
    "        att_output = self.transformer(enc, dec, src_mask=mask, tgt_mask=mask, memory_mask = mask)\n",
    "        att_output = self.layer_normal(att_output)\n",
    "        att_output = att_output.permute(1, 0, 2) # att_output: [s_len, bs, embed] => [bs, s_len, embed]\n",
    "        \n",
    "        \n",
    "        x = self.ffn(att_output)\n",
    "        x = self.layer_normal(x + att_output)\n",
    "        x = self.pred(x)\n",
    "\n",
    "        return x.squeeze(-1)"
   ]
  },
  {
   "cell_type": "code",
   "execution_count": 27,
   "metadata": {
    "execution": {
     "iopub.execute_input": "2021-08-07T21:37:53.670075Z",
     "iopub.status.busy": "2021-08-07T21:37:53.669217Z",
     "iopub.status.idle": "2021-08-07T21:37:53.675905Z",
     "shell.execute_reply": "2021-08-07T21:37:53.675446Z",
     "shell.execute_reply.started": "2021-07-31T18:37:09.098343Z"
    },
    "papermill": {
     "duration": 0.361577,
     "end_time": "2021-08-07T21:37:53.676009",
     "exception": false,
     "start_time": "2021-08-07T21:37:53.314432",
     "status": "completed"
    },
    "tags": []
   },
   "outputs": [],
   "source": [
    "n_skill = data['question_id'].nunique() + 1"
   ]
  },
  {
   "cell_type": "code",
   "execution_count": 28,
   "metadata": {
    "execution": {
     "iopub.execute_input": "2021-08-07T21:37:54.385531Z",
     "iopub.status.busy": "2021-08-07T21:37:54.384669Z",
     "iopub.status.idle": "2021-08-07T21:37:54.387941Z",
     "shell.execute_reply": "2021-08-07T21:37:54.388398Z",
     "shell.execute_reply.started": "2021-07-31T18:37:09.115011Z"
    },
    "papermill": {
     "duration": 0.363408,
     "end_time": "2021-08-07T21:37:54.388519",
     "exception": false,
     "start_time": "2021-08-07T21:37:54.025111",
     "status": "completed"
    },
    "tags": []
   },
   "outputs": [
    {
     "data": {
      "text/plain": [
       "1069"
      ]
     },
     "execution_count": 28,
     "metadata": {},
     "output_type": "execute_result"
    }
   ],
   "source": [
    "n_skill"
   ]
  },
  {
   "cell_type": "code",
   "execution_count": 29,
   "metadata": {
    "execution": {
     "iopub.execute_input": "2021-08-07T21:37:55.074482Z",
     "iopub.status.busy": "2021-08-07T21:37:55.063165Z",
     "iopub.status.idle": "2021-08-07T21:37:55.077302Z",
     "shell.execute_reply": "2021-08-07T21:37:55.076843Z",
     "shell.execute_reply.started": "2021-07-31T18:37:09.124867Z"
    },
    "papermill": {
     "duration": 0.352735,
     "end_time": "2021-08-07T21:37:55.077412",
     "exception": false,
     "start_time": "2021-08-07T21:37:54.724677",
     "status": "completed"
    },
    "tags": []
   },
   "outputs": [],
   "source": [
    "class PRACTICE_DATASET(Dataset):\n",
    "    def __init__(self, data, maxlength=MAX_SEQ, test=False):\n",
    "        super(PRACTICE_DATASET, self).__init__()\n",
    "        self.maxlength = maxlength\n",
    "        self.data = data\n",
    "        self.test = test\n",
    "        self.users = list()\n",
    "        for user in data.index:\n",
    "            self.users.append(user)\n",
    "            \n",
    "    def __len__(self):\n",
    "        return len(self.users)\n",
    "    \n",
    "    def __getitem__(self, ix):\n",
    "        user = self.users[ix]\n",
    "        question_id, chapter, schapter, term, user_feats, labels = self.data[user]\n",
    "        question_id = np.array(question_id, np.int16)\n",
    "        chapter = np.array(chapter, np.int16)\n",
    "        schapter = np.array(schapter, np.int16)\n",
    "        user_feats = np.array(user_feats, np.float)\n",
    "        labels = np.array(labels, np.int8)   \n",
    "            \n",
    "        term = term.values\n",
    "        term_encode = [0]*7\n",
    "        term_encode[term[0]] = 1\n",
    "        n = len(question_id)\n",
    "        \n",
    "        if n > self.maxlength:\n",
    "            question_id = question_id[-self.maxlength : ]\n",
    "            chapter = chapter[-self.maxlength :]\n",
    "            schapter = schapter[-self.maxlength: ]\n",
    "            user_feats = user_feats[-self.maxlength :, :]\n",
    "            labels = labels[-self.maxlength: ]\n",
    "            responses = np.append(2, labels[:-1])\n",
    "        else:\n",
    "            question_id = np.pad(question_id, (self.maxlength - n, 0))\n",
    "            chapter = np.pad(chapter, (self.maxlength - n, 0))\n",
    "            schapter = np.pad(schapter, (self.maxlength - n, 0))\n",
    "            user_feats = [[0]*len(user_feats[0])]*(self.maxlength  - n)+list(user_feats[:])\n",
    "            user_feats = np.array(user_feats, np.float)\n",
    "            responses = np.append(2, labels[:-1])\n",
    "            labels = np.pad(labels, (self.maxlength - n, 0))\n",
    "            responses = np.pad(responses, (self.maxlength - n, 0), mode='constant', constant_values = 2)\n",
    "        \n",
    "        new_features = []\n",
    "        count = 0\n",
    "        for f in user_feats:\n",
    "          temp = list(f)\n",
    "#           temp.extend(term_encode)\n",
    "          new_features.append(temp)\n",
    "          count += 1\n",
    "        user_feats = new_features\n",
    "        \n",
    "        return question_id, chapter, schapter, responses, np.array(user_feats), labels "
   ]
  },
  {
   "cell_type": "code",
   "execution_count": 30,
   "metadata": {
    "execution": {
     "iopub.execute_input": "2021-08-07T21:37:55.763989Z",
     "iopub.status.busy": "2021-08-07T21:37:55.763278Z",
     "iopub.status.idle": "2021-08-07T21:37:56.122881Z",
     "shell.execute_reply": "2021-08-07T21:37:56.121500Z",
     "shell.execute_reply.started": "2021-07-31T18:37:09.147566Z"
    },
    "papermill": {
     "duration": 0.721766,
     "end_time": "2021-08-07T21:37:56.123042",
     "exception": false,
     "start_time": "2021-08-07T21:37:55.401276",
     "status": "completed"
    },
    "tags": []
   },
   "outputs": [],
   "source": [
    "NUMERIC_FEATURE =  ['age',\n",
    "            'exclClassCumGPA',\n",
    "            'termCreditsGPA',\n",
    "            'termCreditsNoGPA',\n",
    "            'highSchoolGPA', \n",
    "            'majorsCount', 'minorsCount',\n",
    "            'PREV_TERM_CUM_GPA',\n",
    "            \"day's_available_flashcards\", \n",
    "            'days_offset', \n",
    "            'prev_time_elapsed',\n",
    "             'time_lag']\n",
    " \n",
    "for f in NUMERIC_FEATURE:\n",
    "  m = data[f].mean()\n",
    "  std = data[f].std()\n",
    "  data[f] = (data[f] - m)/std"
   ]
  },
  {
   "cell_type": "code",
   "execution_count": 31,
   "metadata": {
    "execution": {
     "iopub.execute_input": "2021-08-07T21:37:57.212297Z",
     "iopub.status.busy": "2021-08-07T21:37:57.211472Z",
     "iopub.status.idle": "2021-08-07T21:37:58.602331Z",
     "shell.execute_reply": "2021-08-07T21:37:58.601831Z",
     "shell.execute_reply.started": "2021-07-31T18:37:09.517729Z"
    },
    "papermill": {
     "duration": 1.9248,
     "end_time": "2021-08-07T21:37:58.602435",
     "exception": false,
     "start_time": "2021-08-07T21:37:56.677635",
     "status": "completed"
    },
    "tags": []
   },
   "outputs": [],
   "source": [
    "#group data based on user id\n",
    "group = data.groupby(['user_id.x']).apply(lambda r: (\n",
    "                r['question_id'],\n",
    "                r['chapter_id'],\n",
    "                r['sub_chapter_id'],\n",
    "                r['term'],\n",
    "                np.array([\n",
    "#                     r['STDNT_SEX_CD'],r['STDNT_CTZN_STAT_CD'], r['international'], \n",
    "#                   r['White'],r['Asian'],r['NonWhiteOrAsian'], r['age'],r['exclClassCumGPA'],\n",
    "#                 r['Freshman'], r['Junior'], r['Sophomore'], r['Senior'],\n",
    "#                 r['termCreditsGPA'], r['termCreditsNoGPA'],\n",
    "#                 r['athlete_1'], r['honorsPro'],\n",
    "#                 r['LSA'], r['programBusiness'], r['programEngineering'], \n",
    "#                 r['programInformation'], r['programOther'],\n",
    "#                 r['HSCalculusTaken'],  r['highSchoolGPA'], \n",
    "#                 r['majorsCount'], r['minorsCount'],\n",
    "#                 r['PREV_TERM_CUM_GPA'], \n",
    "#                 r['parentsGraduateEdu'], r['minorityGroup'],\n",
    "#                 r[\"day's_available_flashcards\"],\n",
    "#                 r['days_offset'],\n",
    "                r['prev_time_elapsed'],\n",
    "                r['time_lag']\n",
    "              ]).transpose(),\n",
    "                r['answered_correctly'],\n",
    "                ))"
   ]
  },
  {
   "cell_type": "code",
   "execution_count": 32,
   "metadata": {
    "execution": {
     "iopub.execute_input": "2021-08-07T21:37:59.253058Z",
     "iopub.status.busy": "2021-08-07T21:37:59.251308Z",
     "iopub.status.idle": "2021-08-07T21:37:59.253658Z",
     "shell.execute_reply": "2021-08-07T21:37:59.254057Z",
     "shell.execute_reply.started": "2021-07-31T18:37:18.990242Z"
    },
    "papermill": {
     "duration": 0.330045,
     "end_time": "2021-08-07T21:37:59.254167",
     "exception": false,
     "start_time": "2021-08-07T21:37:58.924122",
     "status": "completed"
    },
    "tags": []
   },
   "outputs": [],
   "source": [
    "patience = 5"
   ]
  },
  {
   "cell_type": "code",
   "execution_count": 33,
   "metadata": {
    "execution": {
     "iopub.execute_input": "2021-08-07T21:37:59.914151Z",
     "iopub.status.busy": "2021-08-07T21:37:59.913518Z",
     "iopub.status.idle": "2021-08-07T21:37:59.916986Z",
     "shell.execute_reply": "2021-08-07T21:37:59.916515Z",
     "shell.execute_reply.started": "2021-07-31T18:37:18.995938Z"
    },
    "papermill": {
     "duration": 0.339399,
     "end_time": "2021-08-07T21:37:59.917081",
     "exception": false,
     "start_time": "2021-08-07T21:37:59.577682",
     "status": "completed"
    },
    "tags": []
   },
   "outputs": [],
   "source": [
    "# remove students who don't have make any interactions with the tool\n",
    "toRemove = []\n",
    "for index in group.index:\n",
    "  if len(group[index][0]) <= 10:\n",
    "    toRemove.append(index)\n",
    "group = group.drop(index=toRemove)"
   ]
  },
  {
   "cell_type": "code",
   "execution_count": 34,
   "metadata": {
    "execution": {
     "iopub.execute_input": "2021-08-07T21:38:00.608339Z",
     "iopub.status.busy": "2021-08-07T21:38:00.598260Z",
     "iopub.status.idle": "2021-08-07T21:40:26.782763Z",
     "shell.execute_reply": "2021-08-07T21:40:26.782121Z",
     "shell.execute_reply.started": "2021-07-31T18:37:19.022216Z"
    },
    "papermill": {
     "duration": 146.540419,
     "end_time": "2021-08-07T21:40:26.782907",
     "exception": false,
     "start_time": "2021-08-07T21:38:00.242488",
     "status": "completed"
    },
    "tags": []
   },
   "outputs": [
    {
     "name": "stderr",
     "output_type": "stream",
     "text": [
      "  0%|          | 0/14 [00:00<?, ?it/s]"
     ]
    },
    {
     "name": "stdout",
     "output_type": "stream",
     "text": [
      "----------------------------------------------------------------------------\n"
     ]
    },
    {
     "name": "stderr",
     "output_type": "stream",
     "text": [
      "loss - 0.5782: 100%|██████████| 14/14 [00:02<00:00,  6.79it/s]\n",
      "  0%|          | 0/2 [00:00<?, ?it/s]"
     ]
    },
    {
     "name": "stdout",
     "output_type": "stream",
     "text": [
      "epoch - 0 train_loss - 0.65 acc - 0.697 auc - 0.516\n"
     ]
    },
    {
     "name": "stderr",
     "output_type": "stream",
     "text": [
      "valid loss - 0.6059: 100%|██████████| 2/2 [00:00<00:00,  6.08it/s]\n",
      "  0%|          | 0/14 [00:00<?, ?it/s]"
     ]
    },
    {
     "name": "stdout",
     "output_type": "stream",
     "text": [
      "epoch - 0 val_loss - 0.62 val acc - 0.683 val auc - 0.655\n"
     ]
    },
    {
     "name": "stderr",
     "output_type": "stream",
     "text": [
      "loss - 0.5431: 100%|██████████| 14/14 [00:01<00:00,  9.71it/s]\n",
      "  0%|          | 0/2 [00:00<?, ?it/s]"
     ]
    },
    {
     "name": "stdout",
     "output_type": "stream",
     "text": [
      "epoch - 1 train_loss - 0.58 acc - 0.737 auc - 0.545\n"
     ]
    },
    {
     "name": "stderr",
     "output_type": "stream",
     "text": [
      "valid loss - 0.6291: 100%|██████████| 2/2 [00:00<00:00,  6.10it/s]\n",
      "  0%|          | 0/14 [00:00<?, ?it/s]"
     ]
    },
    {
     "name": "stdout",
     "output_type": "stream",
     "text": [
      "epoch - 1 val_loss - 0.63 val acc - 0.683 val auc - 0.666\n"
     ]
    },
    {
     "name": "stderr",
     "output_type": "stream",
     "text": [
      "loss - 0.5289: 100%|██████████| 14/14 [00:01<00:00,  9.85it/s]\n",
      "  0%|          | 0/2 [00:00<?, ?it/s]"
     ]
    },
    {
     "name": "stdout",
     "output_type": "stream",
     "text": [
      "epoch - 2 train_loss - 0.56 acc - 0.737 auc - 0.636\n"
     ]
    },
    {
     "name": "stderr",
     "output_type": "stream",
     "text": [
      "valid loss - 0.6114: 100%|██████████| 2/2 [00:00<00:00,  6.13it/s]\n",
      "  0%|          | 0/14 [00:00<?, ?it/s]"
     ]
    },
    {
     "name": "stdout",
     "output_type": "stream",
     "text": [
      "epoch - 2 val_loss - 0.60 val acc - 0.695 val auc - 0.672\n"
     ]
    },
    {
     "name": "stderr",
     "output_type": "stream",
     "text": [
      "loss - 0.4933: 100%|██████████| 14/14 [00:01<00:00,  9.44it/s]\n",
      "  0%|          | 0/2 [00:00<?, ?it/s]"
     ]
    },
    {
     "name": "stdout",
     "output_type": "stream",
     "text": [
      "epoch - 3 train_loss - 0.53 acc - 0.740 auc - 0.690\n"
     ]
    },
    {
     "name": "stderr",
     "output_type": "stream",
     "text": [
      "valid loss - 0.5899: 100%|██████████| 2/2 [00:00<00:00,  6.09it/s]\n",
      "  0%|          | 0/14 [00:00<?, ?it/s]"
     ]
    },
    {
     "name": "stdout",
     "output_type": "stream",
     "text": [
      "epoch - 3 val_loss - 0.58 val acc - 0.704 val auc - 0.694\n"
     ]
    },
    {
     "name": "stderr",
     "output_type": "stream",
     "text": [
      "loss - 0.5188: 100%|██████████| 14/14 [00:01<00:00,  9.96it/s]\n",
      "  0%|          | 0/2 [00:00<?, ?it/s]"
     ]
    },
    {
     "name": "stdout",
     "output_type": "stream",
     "text": [
      "epoch - 4 train_loss - 0.51 acc - 0.747 auc - 0.722\n"
     ]
    },
    {
     "name": "stderr",
     "output_type": "stream",
     "text": [
      "valid loss - 0.5837: 100%|██████████| 2/2 [00:00<00:00,  5.92it/s]\n",
      "  0%|          | 0/14 [00:00<?, ?it/s]"
     ]
    },
    {
     "name": "stdout",
     "output_type": "stream",
     "text": [
      "epoch - 4 val_loss - 0.57 val acc - 0.705 val auc - 0.715\n"
     ]
    },
    {
     "name": "stderr",
     "output_type": "stream",
     "text": [
      "loss - 0.4979: 100%|██████████| 14/14 [00:01<00:00,  9.53it/s]\n",
      "  0%|          | 0/2 [00:00<?, ?it/s]"
     ]
    },
    {
     "name": "stdout",
     "output_type": "stream",
     "text": [
      "epoch - 5 train_loss - 0.50 acc - 0.754 auc - 0.745\n"
     ]
    },
    {
     "name": "stderr",
     "output_type": "stream",
     "text": [
      "valid loss - 0.5367: 100%|██████████| 2/2 [00:00<00:00,  5.90it/s]\n",
      "  0%|          | 0/14 [00:00<?, ?it/s]"
     ]
    },
    {
     "name": "stdout",
     "output_type": "stream",
     "text": [
      "epoch - 5 val_loss - 0.55 val acc - 0.708 val auc - 0.729\n"
     ]
    },
    {
     "name": "stderr",
     "output_type": "stream",
     "text": [
      "loss - 0.4849: 100%|██████████| 14/14 [00:01<00:00,  9.90it/s]\n",
      "  0%|          | 0/2 [00:00<?, ?it/s]"
     ]
    },
    {
     "name": "stdout",
     "output_type": "stream",
     "text": [
      "epoch - 6 train_loss - 0.49 acc - 0.761 auc - 0.767\n"
     ]
    },
    {
     "name": "stderr",
     "output_type": "stream",
     "text": [
      "valid loss - 0.5527: 100%|██████████| 2/2 [00:00<00:00,  6.09it/s]\n",
      "  0%|          | 0/14 [00:00<?, ?it/s]"
     ]
    },
    {
     "name": "stdout",
     "output_type": "stream",
     "text": [
      "epoch - 6 val_loss - 0.55 val acc - 0.723 val auc - 0.737\n"
     ]
    },
    {
     "name": "stderr",
     "output_type": "stream",
     "text": [
      "loss - 0.4857: 100%|██████████| 14/14 [00:01<00:00, 10.01it/s]\n",
      "  0%|          | 0/2 [00:00<?, ?it/s]"
     ]
    },
    {
     "name": "stdout",
     "output_type": "stream",
     "text": [
      "epoch - 7 train_loss - 0.47 acc - 0.767 auc - 0.785\n"
     ]
    },
    {
     "name": "stderr",
     "output_type": "stream",
     "text": [
      "valid loss - 0.5530: 100%|██████████| 2/2 [00:00<00:00,  6.16it/s]\n",
      "  0%|          | 0/14 [00:00<?, ?it/s]"
     ]
    },
    {
     "name": "stdout",
     "output_type": "stream",
     "text": [
      "epoch - 7 val_loss - 0.55 val acc - 0.723 val auc - 0.741\n"
     ]
    },
    {
     "name": "stderr",
     "output_type": "stream",
     "text": [
      "loss - 0.4633: 100%|██████████| 14/14 [00:01<00:00,  9.86it/s]\n",
      "  0%|          | 0/2 [00:00<?, ?it/s]"
     ]
    },
    {
     "name": "stdout",
     "output_type": "stream",
     "text": [
      "epoch - 8 train_loss - 0.46 acc - 0.774 auc - 0.800\n"
     ]
    },
    {
     "name": "stderr",
     "output_type": "stream",
     "text": [
      "valid loss - 0.5568: 100%|██████████| 2/2 [00:00<00:00,  6.15it/s]\n",
      "  0%|          | 0/14 [00:00<?, ?it/s]"
     ]
    },
    {
     "name": "stdout",
     "output_type": "stream",
     "text": [
      "epoch - 8 val_loss - 0.55 val acc - 0.717 val auc - 0.748\n"
     ]
    },
    {
     "name": "stderr",
     "output_type": "stream",
     "text": [
      "loss - 0.4248: 100%|██████████| 14/14 [00:01<00:00,  9.42it/s]\n",
      "  0%|          | 0/2 [00:00<?, ?it/s]"
     ]
    },
    {
     "name": "stdout",
     "output_type": "stream",
     "text": [
      "epoch - 9 train_loss - 0.45 acc - 0.781 auc - 0.812\n"
     ]
    },
    {
     "name": "stderr",
     "output_type": "stream",
     "text": [
      "valid loss - 0.5527: 100%|██████████| 2/2 [00:00<00:00,  5.98it/s]\n",
      "  0%|          | 0/14 [00:00<?, ?it/s]"
     ]
    },
    {
     "name": "stdout",
     "output_type": "stream",
     "text": [
      "epoch - 9 val_loss - 0.55 val acc - 0.725 val auc - 0.749\n"
     ]
    },
    {
     "name": "stderr",
     "output_type": "stream",
     "text": [
      "loss - 0.4112: 100%|██████████| 14/14 [00:01<00:00, 10.04it/s]\n",
      "  0%|          | 0/2 [00:00<?, ?it/s]"
     ]
    },
    {
     "name": "stdout",
     "output_type": "stream",
     "text": [
      "epoch - 10 train_loss - 0.44 acc - 0.789 auc - 0.825\n"
     ]
    },
    {
     "name": "stderr",
     "output_type": "stream",
     "text": [
      "valid loss - 0.5297: 100%|██████████| 2/2 [00:00<00:00,  5.16it/s]\n",
      "  0%|          | 0/14 [00:00<?, ?it/s]"
     ]
    },
    {
     "name": "stdout",
     "output_type": "stream",
     "text": [
      "epoch - 10 val_loss - 0.55 val acc - 0.718 val auc - 0.752\n"
     ]
    },
    {
     "name": "stderr",
     "output_type": "stream",
     "text": [
      "loss - 0.4140: 100%|██████████| 14/14 [00:01<00:00,  9.76it/s]\n",
      "  0%|          | 0/2 [00:00<?, ?it/s]"
     ]
    },
    {
     "name": "stdout",
     "output_type": "stream",
     "text": [
      "epoch - 11 train_loss - 0.42 acc - 0.796 auc - 0.838\n"
     ]
    },
    {
     "name": "stderr",
     "output_type": "stream",
     "text": [
      "valid loss - 0.5485: 100%|██████████| 2/2 [00:00<00:00,  5.99it/s]\n",
      "  0%|          | 0/14 [00:00<?, ?it/s]"
     ]
    },
    {
     "name": "stdout",
     "output_type": "stream",
     "text": [
      "epoch - 11 val_loss - 0.56 val acc - 0.716 val auc - 0.750\n"
     ]
    },
    {
     "name": "stderr",
     "output_type": "stream",
     "text": [
      "loss - 0.4075: 100%|██████████| 14/14 [00:01<00:00,  9.13it/s]\n",
      "  0%|          | 0/2 [00:00<?, ?it/s]"
     ]
    },
    {
     "name": "stdout",
     "output_type": "stream",
     "text": [
      "epoch - 12 train_loss - 0.41 acc - 0.802 auc - 0.847\n"
     ]
    },
    {
     "name": "stderr",
     "output_type": "stream",
     "text": [
      "valid loss - 0.5648: 100%|██████████| 2/2 [00:00<00:00,  5.93it/s]\n",
      "  0%|          | 0/14 [00:00<?, ?it/s]"
     ]
    },
    {
     "name": "stdout",
     "output_type": "stream",
     "text": [
      "epoch - 12 val_loss - 0.56 val acc - 0.724 val auc - 0.751\n"
     ]
    },
    {
     "name": "stderr",
     "output_type": "stream",
     "text": [
      "loss - 0.4212: 100%|██████████| 14/14 [00:01<00:00,  9.63it/s]\n",
      "  0%|          | 0/2 [00:00<?, ?it/s]"
     ]
    },
    {
     "name": "stdout",
     "output_type": "stream",
     "text": [
      "epoch - 13 train_loss - 0.40 acc - 0.808 auc - 0.855\n"
     ]
    },
    {
     "name": "stderr",
     "output_type": "stream",
     "text": [
      "valid loss - 0.5726: 100%|██████████| 2/2 [00:00<00:00,  5.81it/s]\n",
      "  0%|          | 0/2 [00:00<?, ?it/s]"
     ]
    },
    {
     "name": "stdout",
     "output_type": "stream",
     "text": [
      "epoch - 13 val_loss - 0.56 val acc - 0.716 val auc - 0.753\n",
      "Val Loss does not improve for 5 consecutive epochs\n"
     ]
    },
    {
     "name": "stderr",
     "output_type": "stream",
     "text": [
      "valid loss - 0.4274: 100%|██████████| 2/2 [00:00<00:00,  6.04it/s]\n",
      "  0%|          | 0/14 [00:00<?, ?it/s]"
     ]
    },
    {
     "name": "stdout",
     "output_type": "stream",
     "text": [
      "epoch - 13 test_loss - 0.42 acc - 0.801 auc - 0.794\n",
      "----------------------------------------------------------------------------\n"
     ]
    },
    {
     "name": "stderr",
     "output_type": "stream",
     "text": [
      "loss - 0.5690: 100%|██████████| 14/14 [00:01<00:00,  9.98it/s]\n",
      "  0%|          | 0/2 [00:00<?, ?it/s]"
     ]
    },
    {
     "name": "stdout",
     "output_type": "stream",
     "text": [
      "epoch - 0 train_loss - 0.64 acc - 0.713 auc - 0.530\n"
     ]
    },
    {
     "name": "stderr",
     "output_type": "stream",
     "text": [
      "valid loss - 0.5956: 100%|██████████| 2/2 [00:00<00:00,  4.33it/s]\n",
      "  0%|          | 0/14 [00:00<?, ?it/s]"
     ]
    },
    {
     "name": "stdout",
     "output_type": "stream",
     "text": [
      "epoch - 0 val_loss - 0.59 val acc - 0.702 val auc - 0.648\n"
     ]
    },
    {
     "name": "stderr",
     "output_type": "stream",
     "text": [
      "loss - 0.5585: 100%|██████████| 14/14 [00:01<00:00,  9.12it/s]\n",
      "  0%|          | 0/2 [00:00<?, ?it/s]"
     ]
    },
    {
     "name": "stdout",
     "output_type": "stream",
     "text": [
      "epoch - 1 train_loss - 0.55 acc - 0.741 auc - 0.627\n"
     ]
    },
    {
     "name": "stderr",
     "output_type": "stream",
     "text": [
      "valid loss - 0.5495: 100%|██████████| 2/2 [00:00<00:00,  5.57it/s]\n",
      "  0%|          | 0/14 [00:00<?, ?it/s]"
     ]
    },
    {
     "name": "stdout",
     "output_type": "stream",
     "text": [
      "epoch - 1 val_loss - 0.57 val acc - 0.708 val auc - 0.663\n"
     ]
    },
    {
     "name": "stderr",
     "output_type": "stream",
     "text": [
      "loss - 0.5284: 100%|██████████| 14/14 [00:01<00:00,  9.26it/s]\n",
      "  0%|          | 0/2 [00:00<?, ?it/s]"
     ]
    },
    {
     "name": "stdout",
     "output_type": "stream",
     "text": [
      "epoch - 2 train_loss - 0.53 acc - 0.746 auc - 0.695\n"
     ]
    },
    {
     "name": "stderr",
     "output_type": "stream",
     "text": [
      "valid loss - 0.5707: 100%|██████████| 2/2 [00:00<00:00,  5.62it/s]\n",
      "  0%|          | 0/14 [00:00<?, ?it/s]"
     ]
    },
    {
     "name": "stdout",
     "output_type": "stream",
     "text": [
      "epoch - 2 val_loss - 0.56 val acc - 0.714 val auc - 0.693\n"
     ]
    },
    {
     "name": "stderr",
     "output_type": "stream",
     "text": [
      "loss - 0.5210: 100%|██████████| 14/14 [00:01<00:00,  9.27it/s]\n",
      "  0%|          | 0/2 [00:00<?, ?it/s]"
     ]
    },
    {
     "name": "stdout",
     "output_type": "stream",
     "text": [
      "epoch - 3 train_loss - 0.51 acc - 0.751 auc - 0.728\n"
     ]
    },
    {
     "name": "stderr",
     "output_type": "stream",
     "text": [
      "valid loss - 0.5110: 100%|██████████| 2/2 [00:00<00:00,  5.68it/s]\n",
      "  0%|          | 0/14 [00:00<?, ?it/s]"
     ]
    },
    {
     "name": "stdout",
     "output_type": "stream",
     "text": [
      "epoch - 3 val_loss - 0.55 val acc - 0.714 val auc - 0.710\n"
     ]
    },
    {
     "name": "stderr",
     "output_type": "stream",
     "text": [
      "loss - 0.4578: 100%|██████████| 14/14 [00:01<00:00,  9.47it/s]\n",
      "  0%|          | 0/2 [00:00<?, ?it/s]"
     ]
    },
    {
     "name": "stdout",
     "output_type": "stream",
     "text": [
      "epoch - 4 train_loss - 0.49 acc - 0.757 auc - 0.751\n"
     ]
    },
    {
     "name": "stderr",
     "output_type": "stream",
     "text": [
      "valid loss - 0.5458: 100%|██████████| 2/2 [00:00<00:00,  5.81it/s]\n",
      "  0%|          | 0/14 [00:00<?, ?it/s]"
     ]
    },
    {
     "name": "stdout",
     "output_type": "stream",
     "text": [
      "epoch - 4 val_loss - 0.54 val acc - 0.722 val auc - 0.724\n"
     ]
    },
    {
     "name": "stderr",
     "output_type": "stream",
     "text": [
      "loss - 0.4662: 100%|██████████| 14/14 [00:01<00:00,  9.58it/s]\n",
      "  0%|          | 0/2 [00:00<?, ?it/s]"
     ]
    },
    {
     "name": "stdout",
     "output_type": "stream",
     "text": [
      "epoch - 5 train_loss - 0.48 acc - 0.764 auc - 0.768\n"
     ]
    },
    {
     "name": "stderr",
     "output_type": "stream",
     "text": [
      "valid loss - 0.5314: 100%|██████████| 2/2 [00:00<00:00,  5.68it/s]\n",
      "  0%|          | 0/14 [00:00<?, ?it/s]"
     ]
    },
    {
     "name": "stdout",
     "output_type": "stream",
     "text": [
      "epoch - 5 val_loss - 0.54 val acc - 0.727 val auc - 0.732\n"
     ]
    },
    {
     "name": "stderr",
     "output_type": "stream",
     "text": [
      "loss - 0.4883: 100%|██████████| 14/14 [00:01<00:00,  8.50it/s]\n",
      "  0%|          | 0/2 [00:00<?, ?it/s]"
     ]
    },
    {
     "name": "stdout",
     "output_type": "stream",
     "text": [
      "epoch - 6 train_loss - 0.47 acc - 0.770 auc - 0.783\n"
     ]
    },
    {
     "name": "stderr",
     "output_type": "stream",
     "text": [
      "valid loss - 0.5196: 100%|██████████| 2/2 [00:00<00:00,  5.65it/s]\n",
      "  0%|          | 0/14 [00:00<?, ?it/s]"
     ]
    },
    {
     "name": "stdout",
     "output_type": "stream",
     "text": [
      "epoch - 6 val_loss - 0.53 val acc - 0.727 val auc - 0.740\n"
     ]
    },
    {
     "name": "stderr",
     "output_type": "stream",
     "text": [
      "loss - 0.4607: 100%|██████████| 14/14 [00:01<00:00,  9.54it/s]\n",
      "  0%|          | 0/2 [00:00<?, ?it/s]"
     ]
    },
    {
     "name": "stdout",
     "output_type": "stream",
     "text": [
      "epoch - 7 train_loss - 0.46 acc - 0.775 auc - 0.797\n"
     ]
    },
    {
     "name": "stderr",
     "output_type": "stream",
     "text": [
      "valid loss - 0.5543: 100%|██████████| 2/2 [00:00<00:00,  5.81it/s]\n",
      "  0%|          | 0/14 [00:00<?, ?it/s]"
     ]
    },
    {
     "name": "stdout",
     "output_type": "stream",
     "text": [
      "epoch - 7 val_loss - 0.54 val acc - 0.727 val auc - 0.744\n"
     ]
    },
    {
     "name": "stderr",
     "output_type": "stream",
     "text": [
      "loss - 0.4497: 100%|██████████| 14/14 [00:01<00:00,  9.60it/s]\n",
      "  0%|          | 0/2 [00:00<?, ?it/s]"
     ]
    },
    {
     "name": "stdout",
     "output_type": "stream",
     "text": [
      "epoch - 8 train_loss - 0.45 acc - 0.780 auc - 0.807\n"
     ]
    },
    {
     "name": "stderr",
     "output_type": "stream",
     "text": [
      "valid loss - 0.5391: 100%|██████████| 2/2 [00:00<00:00,  5.70it/s]\n",
      "  0%|          | 0/14 [00:00<?, ?it/s]"
     ]
    },
    {
     "name": "stdout",
     "output_type": "stream",
     "text": [
      "epoch - 8 val_loss - 0.53 val acc - 0.727 val auc - 0.748\n"
     ]
    },
    {
     "name": "stderr",
     "output_type": "stream",
     "text": [
      "loss - 0.4594: 100%|██████████| 14/14 [00:01<00:00,  9.48it/s]\n",
      "  0%|          | 0/2 [00:00<?, ?it/s]"
     ]
    },
    {
     "name": "stdout",
     "output_type": "stream",
     "text": [
      "epoch - 9 train_loss - 0.44 acc - 0.787 auc - 0.820\n"
     ]
    },
    {
     "name": "stderr",
     "output_type": "stream",
     "text": [
      "valid loss - 0.5489: 100%|██████████| 2/2 [00:00<00:00,  5.62it/s]\n",
      "  0%|          | 0/14 [00:00<?, ?it/s]"
     ]
    },
    {
     "name": "stdout",
     "output_type": "stream",
     "text": [
      "epoch - 9 val_loss - 0.53 val acc - 0.723 val auc - 0.753\n"
     ]
    },
    {
     "name": "stderr",
     "output_type": "stream",
     "text": [
      "loss - 0.4247: 100%|██████████| 14/14 [00:01<00:00,  9.43it/s]\n",
      "  0%|          | 0/2 [00:00<?, ?it/s]"
     ]
    },
    {
     "name": "stdout",
     "output_type": "stream",
     "text": [
      "epoch - 10 train_loss - 0.43 acc - 0.793 auc - 0.832\n"
     ]
    },
    {
     "name": "stderr",
     "output_type": "stream",
     "text": [
      "valid loss - 0.5299: 100%|██████████| 2/2 [00:00<00:00,  5.56it/s]\n",
      "  0%|          | 0/14 [00:00<?, ?it/s]"
     ]
    },
    {
     "name": "stdout",
     "output_type": "stream",
     "text": [
      "epoch - 10 val_loss - 0.53 val acc - 0.727 val auc - 0.753\n"
     ]
    },
    {
     "name": "stderr",
     "output_type": "stream",
     "text": [
      "loss - 0.4303: 100%|██████████| 14/14 [00:01<00:00,  9.26it/s]\n",
      "  0%|          | 0/2 [00:00<?, ?it/s]"
     ]
    },
    {
     "name": "stdout",
     "output_type": "stream",
     "text": [
      "epoch - 11 train_loss - 0.41 acc - 0.801 auc - 0.843\n"
     ]
    },
    {
     "name": "stderr",
     "output_type": "stream",
     "text": [
      "valid loss - 0.5138: 100%|██████████| 2/2 [00:00<00:00,  4.31it/s]\n",
      "  0%|          | 0/14 [00:00<?, ?it/s]"
     ]
    },
    {
     "name": "stdout",
     "output_type": "stream",
     "text": [
      "epoch - 11 val_loss - 0.54 val acc - 0.726 val auc - 0.754\n"
     ]
    },
    {
     "name": "stderr",
     "output_type": "stream",
     "text": [
      "loss - 0.4312: 100%|██████████| 14/14 [00:01<00:00,  9.23it/s]\n",
      "  0%|          | 0/2 [00:00<?, ?it/s]"
     ]
    },
    {
     "name": "stdout",
     "output_type": "stream",
     "text": [
      "epoch - 12 train_loss - 0.41 acc - 0.807 auc - 0.852\n"
     ]
    },
    {
     "name": "stderr",
     "output_type": "stream",
     "text": [
      "valid loss - 0.5575: 100%|██████████| 2/2 [00:00<00:00,  5.56it/s]\n",
      "  0%|          | 0/14 [00:00<?, ?it/s]"
     ]
    },
    {
     "name": "stdout",
     "output_type": "stream",
     "text": [
      "epoch - 12 val_loss - 0.54 val acc - 0.733 val auc - 0.750\n"
     ]
    },
    {
     "name": "stderr",
     "output_type": "stream",
     "text": [
      "loss - 0.3988: 100%|██████████| 14/14 [00:01<00:00,  9.39it/s]\n",
      "  0%|          | 0/2 [00:00<?, ?it/s]"
     ]
    },
    {
     "name": "stdout",
     "output_type": "stream",
     "text": [
      "epoch - 13 train_loss - 0.40 acc - 0.811 auc - 0.860\n"
     ]
    },
    {
     "name": "stderr",
     "output_type": "stream",
     "text": [
      "valid loss - 0.5597: 100%|██████████| 2/2 [00:00<00:00,  5.68it/s]\n",
      "  0%|          | 0/2 [00:00<?, ?it/s]"
     ]
    },
    {
     "name": "stdout",
     "output_type": "stream",
     "text": [
      "epoch - 13 val_loss - 0.55 val acc - 0.724 val auc - 0.755\n",
      "Val Loss does not improve for 5 consecutive epochs\n"
     ]
    },
    {
     "name": "stderr",
     "output_type": "stream",
     "text": [
      "valid loss - 0.4518: 100%|██████████| 2/2 [00:00<00:00,  5.50it/s]\n"
     ]
    },
    {
     "name": "stdout",
     "output_type": "stream",
     "text": [
      "epoch - 13 test_loss - 0.47 acc - 0.779 auc - 0.799\n"
     ]
    },
    {
     "name": "stderr",
     "output_type": "stream",
     "text": [
      "  0%|          | 0/14 [00:00<?, ?it/s]"
     ]
    },
    {
     "name": "stdout",
     "output_type": "stream",
     "text": [
      "----------------------------------------------------------------------------\n"
     ]
    },
    {
     "name": "stderr",
     "output_type": "stream",
     "text": [
      "loss - 0.5851: 100%|██████████| 14/14 [00:02<00:00,  6.81it/s]\n",
      "  0%|          | 0/2 [00:00<?, ?it/s]"
     ]
    },
    {
     "name": "stdout",
     "output_type": "stream",
     "text": [
      "epoch - 0 train_loss - 0.64 acc - 0.723 auc - 0.523\n"
     ]
    },
    {
     "name": "stderr",
     "output_type": "stream",
     "text": [
      "valid loss - 0.6013: 100%|██████████| 2/2 [00:00<00:00,  5.76it/s]\n",
      "  0%|          | 0/14 [00:00<?, ?it/s]"
     ]
    },
    {
     "name": "stdout",
     "output_type": "stream",
     "text": [
      "epoch - 0 val_loss - 0.60 val acc - 0.705 val auc - 0.643\n"
     ]
    },
    {
     "name": "stderr",
     "output_type": "stream",
     "text": [
      "loss - 0.5559: 100%|██████████| 14/14 [00:01<00:00,  9.88it/s]\n",
      "  0%|          | 0/2 [00:00<?, ?it/s]"
     ]
    },
    {
     "name": "stdout",
     "output_type": "stream",
     "text": [
      "epoch - 1 train_loss - 0.57 acc - 0.739 auc - 0.577\n"
     ]
    },
    {
     "name": "stderr",
     "output_type": "stream",
     "text": [
      "valid loss - 0.5833: 100%|██████████| 2/2 [00:00<00:00,  5.93it/s]\n",
      "  0%|          | 0/14 [00:00<?, ?it/s]"
     ]
    },
    {
     "name": "stdout",
     "output_type": "stream",
     "text": [
      "epoch - 1 val_loss - 0.59 val acc - 0.705 val auc - 0.656\n"
     ]
    },
    {
     "name": "stderr",
     "output_type": "stream",
     "text": [
      "loss - 0.5102: 100%|██████████| 14/14 [00:01<00:00,  8.41it/s]\n",
      "  0%|          | 0/2 [00:00<?, ?it/s]"
     ]
    },
    {
     "name": "stdout",
     "output_type": "stream",
     "text": [
      "epoch - 2 train_loss - 0.54 acc - 0.739 auc - 0.664\n"
     ]
    },
    {
     "name": "stderr",
     "output_type": "stream",
     "text": [
      "valid loss - 0.5738: 100%|██████████| 2/2 [00:00<00:00,  5.65it/s]\n",
      "  0%|          | 0/14 [00:00<?, ?it/s]"
     ]
    },
    {
     "name": "stdout",
     "output_type": "stream",
     "text": [
      "epoch - 2 val_loss - 0.57 val acc - 0.711 val auc - 0.678\n"
     ]
    },
    {
     "name": "stderr",
     "output_type": "stream",
     "text": [
      "loss - 0.5069: 100%|██████████| 14/14 [00:01<00:00,  9.84it/s]\n",
      "  0%|          | 0/2 [00:00<?, ?it/s]"
     ]
    },
    {
     "name": "stdout",
     "output_type": "stream",
     "text": [
      "epoch - 3 train_loss - 0.52 acc - 0.746 auc - 0.706\n"
     ]
    },
    {
     "name": "stderr",
     "output_type": "stream",
     "text": [
      "valid loss - 0.5730: 100%|██████████| 2/2 [00:00<00:00,  5.94it/s]\n",
      "  0%|          | 0/14 [00:00<?, ?it/s]"
     ]
    },
    {
     "name": "stdout",
     "output_type": "stream",
     "text": [
      "epoch - 3 val_loss - 0.56 val acc - 0.726 val auc - 0.711\n"
     ]
    },
    {
     "name": "stderr",
     "output_type": "stream",
     "text": [
      "loss - 0.5340: 100%|██████████| 14/14 [00:01<00:00,  9.66it/s]\n",
      "  0%|          | 0/2 [00:00<?, ?it/s]"
     ]
    },
    {
     "name": "stdout",
     "output_type": "stream",
     "text": [
      "epoch - 4 train_loss - 0.50 acc - 0.754 auc - 0.739\n"
     ]
    },
    {
     "name": "stderr",
     "output_type": "stream",
     "text": [
      "valid loss - 0.5378: 100%|██████████| 2/2 [00:00<00:00,  5.89it/s]\n",
      "  0%|          | 0/14 [00:00<?, ?it/s]"
     ]
    },
    {
     "name": "stdout",
     "output_type": "stream",
     "text": [
      "epoch - 4 val_loss - 0.54 val acc - 0.721 val auc - 0.731\n"
     ]
    },
    {
     "name": "stderr",
     "output_type": "stream",
     "text": [
      "loss - 0.4893: 100%|██████████| 14/14 [00:01<00:00,  9.85it/s]\n",
      "  0%|          | 0/2 [00:00<?, ?it/s]"
     ]
    },
    {
     "name": "stdout",
     "output_type": "stream",
     "text": [
      "epoch - 5 train_loss - 0.49 acc - 0.761 auc - 0.762\n"
     ]
    },
    {
     "name": "stderr",
     "output_type": "stream",
     "text": [
      "valid loss - 0.5345: 100%|██████████| 2/2 [00:00<00:00,  5.81it/s]\n",
      "  0%|          | 0/14 [00:00<?, ?it/s]"
     ]
    },
    {
     "name": "stdout",
     "output_type": "stream",
     "text": [
      "epoch - 5 val_loss - 0.53 val acc - 0.726 val auc - 0.742\n"
     ]
    },
    {
     "name": "stderr",
     "output_type": "stream",
     "text": [
      "loss - 0.4936: 100%|██████████| 14/14 [00:01<00:00,  9.76it/s]\n",
      "  0%|          | 0/2 [00:00<?, ?it/s]"
     ]
    },
    {
     "name": "stdout",
     "output_type": "stream",
     "text": [
      "epoch - 6 train_loss - 0.47 acc - 0.766 auc - 0.779\n"
     ]
    },
    {
     "name": "stderr",
     "output_type": "stream",
     "text": [
      "valid loss - 0.5230: 100%|██████████| 2/2 [00:00<00:00,  5.80it/s]\n",
      "  0%|          | 0/14 [00:00<?, ?it/s]"
     ]
    },
    {
     "name": "stdout",
     "output_type": "stream",
     "text": [
      "epoch - 6 val_loss - 0.53 val acc - 0.733 val auc - 0.750\n"
     ]
    },
    {
     "name": "stderr",
     "output_type": "stream",
     "text": [
      "loss - 0.4653: 100%|██████████| 14/14 [00:01<00:00,  8.98it/s]\n",
      "  0%|          | 0/2 [00:00<?, ?it/s]"
     ]
    },
    {
     "name": "stdout",
     "output_type": "stream",
     "text": [
      "epoch - 7 train_loss - 0.46 acc - 0.774 auc - 0.794\n"
     ]
    },
    {
     "name": "stderr",
     "output_type": "stream",
     "text": [
      "valid loss - 0.5159: 100%|██████████| 2/2 [00:00<00:00,  5.81it/s]\n",
      "  0%|          | 0/14 [00:00<?, ?it/s]"
     ]
    },
    {
     "name": "stdout",
     "output_type": "stream",
     "text": [
      "epoch - 7 val_loss - 0.52 val acc - 0.729 val auc - 0.757\n"
     ]
    },
    {
     "name": "stderr",
     "output_type": "stream",
     "text": [
      "loss - 0.4567: 100%|██████████| 14/14 [00:01<00:00,  8.97it/s]\n",
      "  0%|          | 0/2 [00:00<?, ?it/s]"
     ]
    },
    {
     "name": "stdout",
     "output_type": "stream",
     "text": [
      "epoch - 8 train_loss - 0.45 acc - 0.781 auc - 0.809\n"
     ]
    },
    {
     "name": "stderr",
     "output_type": "stream",
     "text": [
      "valid loss - 0.5286: 100%|██████████| 2/2 [00:00<00:00,  5.79it/s]\n",
      "  0%|          | 0/14 [00:00<?, ?it/s]"
     ]
    },
    {
     "name": "stdout",
     "output_type": "stream",
     "text": [
      "epoch - 8 val_loss - 0.52 val acc - 0.735 val auc - 0.761\n"
     ]
    },
    {
     "name": "stderr",
     "output_type": "stream",
     "text": [
      "loss - 0.4503: 100%|██████████| 14/14 [00:01<00:00, 10.03it/s]\n",
      "  0%|          | 0/2 [00:00<?, ?it/s]"
     ]
    },
    {
     "name": "stdout",
     "output_type": "stream",
     "text": [
      "epoch - 9 train_loss - 0.44 acc - 0.787 auc - 0.822\n"
     ]
    },
    {
     "name": "stderr",
     "output_type": "stream",
     "text": [
      "valid loss - 0.5071: 100%|██████████| 2/2 [00:00<00:00,  5.96it/s]\n",
      "  0%|          | 0/14 [00:00<?, ?it/s]"
     ]
    },
    {
     "name": "stdout",
     "output_type": "stream",
     "text": [
      "epoch - 9 val_loss - 0.52 val acc - 0.736 val auc - 0.764\n"
     ]
    },
    {
     "name": "stderr",
     "output_type": "stream",
     "text": [
      "loss - 0.4448: 100%|██████████| 14/14 [00:01<00:00,  9.89it/s]\n",
      "  0%|          | 0/2 [00:00<?, ?it/s]"
     ]
    },
    {
     "name": "stdout",
     "output_type": "stream",
     "text": [
      "epoch - 10 train_loss - 0.43 acc - 0.793 auc - 0.831\n"
     ]
    },
    {
     "name": "stderr",
     "output_type": "stream",
     "text": [
      "valid loss - 0.5017: 100%|██████████| 2/2 [00:00<00:00,  6.00it/s]\n",
      "  0%|          | 0/14 [00:00<?, ?it/s]"
     ]
    },
    {
     "name": "stdout",
     "output_type": "stream",
     "text": [
      "epoch - 10 val_loss - 0.51 val acc - 0.736 val auc - 0.767\n"
     ]
    },
    {
     "name": "stderr",
     "output_type": "stream",
     "text": [
      "loss - 0.4205: 100%|██████████| 14/14 [00:01<00:00,  9.91it/s]\n",
      "  0%|          | 0/2 [00:00<?, ?it/s]"
     ]
    },
    {
     "name": "stdout",
     "output_type": "stream",
     "text": [
      "epoch - 11 train_loss - 0.42 acc - 0.802 auc - 0.841\n"
     ]
    },
    {
     "name": "stderr",
     "output_type": "stream",
     "text": [
      "valid loss - 0.5258: 100%|██████████| 2/2 [00:00<00:00,  5.95it/s]\n",
      "  0%|          | 0/14 [00:00<?, ?it/s]"
     ]
    },
    {
     "name": "stdout",
     "output_type": "stream",
     "text": [
      "epoch - 11 val_loss - 0.52 val acc - 0.743 val auc - 0.766\n"
     ]
    },
    {
     "name": "stderr",
     "output_type": "stream",
     "text": [
      "loss - 0.3961: 100%|██████████| 14/14 [00:01<00:00,  9.30it/s]\n",
      "  0%|          | 0/2 [00:00<?, ?it/s]"
     ]
    },
    {
     "name": "stdout",
     "output_type": "stream",
     "text": [
      "epoch - 12 train_loss - 0.41 acc - 0.807 auc - 0.852\n"
     ]
    },
    {
     "name": "stderr",
     "output_type": "stream",
     "text": [
      "valid loss - 0.5204: 100%|██████████| 2/2 [00:00<00:00,  5.95it/s]\n",
      "  0%|          | 0/14 [00:00<?, ?it/s]"
     ]
    },
    {
     "name": "stdout",
     "output_type": "stream",
     "text": [
      "epoch - 12 val_loss - 0.53 val acc - 0.744 val auc - 0.766\n"
     ]
    },
    {
     "name": "stderr",
     "output_type": "stream",
     "text": [
      "loss - 0.3739: 100%|██████████| 14/14 [00:01<00:00,  9.87it/s]\n",
      "  0%|          | 0/2 [00:00<?, ?it/s]"
     ]
    },
    {
     "name": "stdout",
     "output_type": "stream",
     "text": [
      "epoch - 13 train_loss - 0.39 acc - 0.816 auc - 0.863\n"
     ]
    },
    {
     "name": "stderr",
     "output_type": "stream",
     "text": [
      "valid loss - 0.5140: 100%|██████████| 2/2 [00:00<00:00,  5.06it/s]\n",
      "  0%|          | 0/14 [00:00<?, ?it/s]"
     ]
    },
    {
     "name": "stdout",
     "output_type": "stream",
     "text": [
      "epoch - 13 val_loss - 0.52 val acc - 0.737 val auc - 0.770\n"
     ]
    },
    {
     "name": "stderr",
     "output_type": "stream",
     "text": [
      "loss - 0.3826: 100%|██████████| 14/14 [00:01<00:00,  9.11it/s]\n",
      "  0%|          | 0/2 [00:00<?, ?it/s]"
     ]
    },
    {
     "name": "stdout",
     "output_type": "stream",
     "text": [
      "epoch - 14 train_loss - 0.38 acc - 0.822 auc - 0.872\n"
     ]
    },
    {
     "name": "stderr",
     "output_type": "stream",
     "text": [
      "valid loss - 0.5651: 100%|██████████| 2/2 [00:00<00:00,  5.96it/s]\n",
      "  0%|          | 0/14 [00:00<?, ?it/s]"
     ]
    },
    {
     "name": "stdout",
     "output_type": "stream",
     "text": [
      "epoch - 14 val_loss - 0.54 val acc - 0.739 val auc - 0.771\n"
     ]
    },
    {
     "name": "stderr",
     "output_type": "stream",
     "text": [
      "loss - 0.3915: 100%|██████████| 14/14 [00:01<00:00, 10.03it/s]\n",
      "  0%|          | 0/2 [00:00<?, ?it/s]"
     ]
    },
    {
     "name": "stdout",
     "output_type": "stream",
     "text": [
      "epoch - 15 train_loss - 0.37 acc - 0.828 auc - 0.880\n"
     ]
    },
    {
     "name": "stderr",
     "output_type": "stream",
     "text": [
      "valid loss - 0.5444: 100%|██████████| 2/2 [00:00<00:00,  5.79it/s]\n",
      "  0%|          | 0/2 [00:00<?, ?it/s]"
     ]
    },
    {
     "name": "stdout",
     "output_type": "stream",
     "text": [
      "epoch - 15 val_loss - 0.54 val acc - 0.742 val auc - 0.764\n",
      "Val Loss does not improve for 5 consecutive epochs\n"
     ]
    },
    {
     "name": "stderr",
     "output_type": "stream",
     "text": [
      "valid loss - 0.5129: 100%|██████████| 2/2 [00:00<00:00,  4.14it/s]\n",
      "  0%|          | 0/14 [00:00<?, ?it/s]"
     ]
    },
    {
     "name": "stdout",
     "output_type": "stream",
     "text": [
      "epoch - 15 test_loss - 0.47 acc - 0.796 auc - 0.805\n",
      "----------------------------------------------------------------------------\n"
     ]
    },
    {
     "name": "stderr",
     "output_type": "stream",
     "text": [
      "loss - 0.5541: 100%|██████████| 14/14 [00:01<00:00,  7.33it/s]\n",
      "  0%|          | 0/2 [00:00<?, ?it/s]"
     ]
    },
    {
     "name": "stdout",
     "output_type": "stream",
     "text": [
      "epoch - 0 train_loss - 0.62 acc - 0.712 auc - 0.534\n"
     ]
    },
    {
     "name": "stderr",
     "output_type": "stream",
     "text": [
      "valid loss - 0.6152: 100%|██████████| 2/2 [00:00<00:00,  5.16it/s]\n",
      "  0%|          | 0/14 [00:00<?, ?it/s]"
     ]
    },
    {
     "name": "stdout",
     "output_type": "stream",
     "text": [
      "epoch - 0 val_loss - 0.61 val acc - 0.684 val auc - 0.643\n"
     ]
    },
    {
     "name": "stderr",
     "output_type": "stream",
     "text": [
      "loss - 0.5451: 100%|██████████| 14/14 [00:01<00:00,  9.81it/s]\n",
      "  0%|          | 0/2 [00:00<?, ?it/s]"
     ]
    },
    {
     "name": "stdout",
     "output_type": "stream",
     "text": [
      "epoch - 1 train_loss - 0.56 acc - 0.740 auc - 0.597\n"
     ]
    },
    {
     "name": "stderr",
     "output_type": "stream",
     "text": [
      "valid loss - 0.5982: 100%|██████████| 2/2 [00:00<00:00,  6.00it/s]\n",
      "  0%|          | 0/14 [00:00<?, ?it/s]"
     ]
    },
    {
     "name": "stdout",
     "output_type": "stream",
     "text": [
      "epoch - 1 val_loss - 0.60 val acc - 0.684 val auc - 0.650\n"
     ]
    },
    {
     "name": "stderr",
     "output_type": "stream",
     "text": [
      "loss - 0.5113: 100%|██████████| 14/14 [00:01<00:00,  9.94it/s]\n",
      "  0%|          | 0/2 [00:00<?, ?it/s]"
     ]
    },
    {
     "name": "stdout",
     "output_type": "stream",
     "text": [
      "epoch - 2 train_loss - 0.53 acc - 0.743 auc - 0.680\n"
     ]
    },
    {
     "name": "stderr",
     "output_type": "stream",
     "text": [
      "valid loss - 0.6025: 100%|██████████| 2/2 [00:00<00:00,  5.95it/s]\n",
      "  0%|          | 0/14 [00:00<?, ?it/s]"
     ]
    },
    {
     "name": "stdout",
     "output_type": "stream",
     "text": [
      "epoch - 2 val_loss - 0.59 val acc - 0.698 val auc - 0.670\n"
     ]
    },
    {
     "name": "stderr",
     "output_type": "stream",
     "text": [
      "loss - 0.5145: 100%|██████████| 14/14 [00:01<00:00,  9.05it/s]\n",
      "  0%|          | 0/2 [00:00<?, ?it/s]"
     ]
    },
    {
     "name": "stdout",
     "output_type": "stream",
     "text": [
      "epoch - 3 train_loss - 0.51 acc - 0.750 auc - 0.719\n"
     ]
    },
    {
     "name": "stderr",
     "output_type": "stream",
     "text": [
      "valid loss - 0.5714: 100%|██████████| 2/2 [00:00<00:00,  5.94it/s]\n",
      "  0%|          | 0/14 [00:00<?, ?it/s]"
     ]
    },
    {
     "name": "stdout",
     "output_type": "stream",
     "text": [
      "epoch - 3 val_loss - 0.58 val acc - 0.699 val auc - 0.689\n"
     ]
    },
    {
     "name": "stderr",
     "output_type": "stream",
     "text": [
      "loss - 0.4959: 100%|██████████| 14/14 [00:01<00:00,  9.72it/s]\n",
      "  0%|          | 0/2 [00:00<?, ?it/s]"
     ]
    },
    {
     "name": "stdout",
     "output_type": "stream",
     "text": [
      "epoch - 4 train_loss - 0.50 acc - 0.756 auc - 0.740\n"
     ]
    },
    {
     "name": "stderr",
     "output_type": "stream",
     "text": [
      "valid loss - 0.5772: 100%|██████████| 2/2 [00:00<00:00,  5.58it/s]\n",
      "  0%|          | 0/14 [00:00<?, ?it/s]"
     ]
    },
    {
     "name": "stdout",
     "output_type": "stream",
     "text": [
      "epoch - 4 val_loss - 0.57 val acc - 0.704 val auc - 0.706\n"
     ]
    },
    {
     "name": "stderr",
     "output_type": "stream",
     "text": [
      "loss - 0.4911: 100%|██████████| 14/14 [00:01<00:00,  9.69it/s]\n",
      "  0%|          | 0/2 [00:00<?, ?it/s]"
     ]
    },
    {
     "name": "stdout",
     "output_type": "stream",
     "text": [
      "epoch - 5 train_loss - 0.49 acc - 0.765 auc - 0.764\n"
     ]
    },
    {
     "name": "stderr",
     "output_type": "stream",
     "text": [
      "valid loss - 0.5851: 100%|██████████| 2/2 [00:00<00:00,  5.57it/s]\n",
      "  0%|          | 0/14 [00:00<?, ?it/s]"
     ]
    },
    {
     "name": "stdout",
     "output_type": "stream",
     "text": [
      "epoch - 5 val_loss - 0.57 val acc - 0.705 val auc - 0.717\n"
     ]
    },
    {
     "name": "stderr",
     "output_type": "stream",
     "text": [
      "loss - 0.4785: 100%|██████████| 14/14 [00:01<00:00,  8.52it/s]\n",
      "  0%|          | 0/2 [00:00<?, ?it/s]"
     ]
    },
    {
     "name": "stdout",
     "output_type": "stream",
     "text": [
      "epoch - 6 train_loss - 0.47 acc - 0.770 auc - 0.778\n"
     ]
    },
    {
     "name": "stderr",
     "output_type": "stream",
     "text": [
      "valid loss - 0.5447: 100%|██████████| 2/2 [00:00<00:00,  5.63it/s]\n",
      "  0%|          | 0/14 [00:00<?, ?it/s]"
     ]
    },
    {
     "name": "stdout",
     "output_type": "stream",
     "text": [
      "epoch - 6 val_loss - 0.56 val acc - 0.706 val auc - 0.724\n"
     ]
    },
    {
     "name": "stderr",
     "output_type": "stream",
     "text": [
      "loss - 0.4640: 100%|██████████| 14/14 [00:01<00:00,  9.40it/s]\n",
      "  0%|          | 0/2 [00:00<?, ?it/s]"
     ]
    },
    {
     "name": "stdout",
     "output_type": "stream",
     "text": [
      "epoch - 7 train_loss - 0.46 acc - 0.778 auc - 0.794\n"
     ]
    },
    {
     "name": "stderr",
     "output_type": "stream",
     "text": [
      "valid loss - 0.5529: 100%|██████████| 2/2 [00:00<00:00,  5.58it/s]\n",
      "  0%|          | 0/14 [00:00<?, ?it/s]"
     ]
    },
    {
     "name": "stdout",
     "output_type": "stream",
     "text": [
      "epoch - 7 val_loss - 0.57 val acc - 0.713 val auc - 0.731\n"
     ]
    },
    {
     "name": "stderr",
     "output_type": "stream",
     "text": [
      "loss - 0.4653: 100%|██████████| 14/14 [00:01<00:00,  9.09it/s]\n",
      "  0%|          | 0/2 [00:00<?, ?it/s]"
     ]
    },
    {
     "name": "stdout",
     "output_type": "stream",
     "text": [
      "epoch - 8 train_loss - 0.45 acc - 0.785 auc - 0.811\n"
     ]
    },
    {
     "name": "stderr",
     "output_type": "stream",
     "text": [
      "valid loss - 0.5483: 100%|██████████| 2/2 [00:00<00:00,  5.29it/s]\n",
      "  0%|          | 0/14 [00:00<?, ?it/s]"
     ]
    },
    {
     "name": "stdout",
     "output_type": "stream",
     "text": [
      "epoch - 8 val_loss - 0.56 val acc - 0.706 val auc - 0.734\n"
     ]
    },
    {
     "name": "stderr",
     "output_type": "stream",
     "text": [
      "loss - 0.4428: 100%|██████████| 14/14 [00:01<00:00,  9.40it/s]\n",
      "  0%|          | 0/2 [00:00<?, ?it/s]"
     ]
    },
    {
     "name": "stdout",
     "output_type": "stream",
     "text": [
      "epoch - 9 train_loss - 0.43 acc - 0.792 auc - 0.825\n"
     ]
    },
    {
     "name": "stderr",
     "output_type": "stream",
     "text": [
      "valid loss - 0.5639: 100%|██████████| 2/2 [00:00<00:00,  5.50it/s]\n",
      "  0%|          | 0/14 [00:00<?, ?it/s]"
     ]
    },
    {
     "name": "stdout",
     "output_type": "stream",
     "text": [
      "epoch - 9 val_loss - 0.56 val acc - 0.709 val auc - 0.738\n"
     ]
    },
    {
     "name": "stderr",
     "output_type": "stream",
     "text": [
      "loss - 0.4483: 100%|██████████| 14/14 [00:01<00:00,  9.34it/s]\n",
      "  0%|          | 0/2 [00:00<?, ?it/s]"
     ]
    },
    {
     "name": "stdout",
     "output_type": "stream",
     "text": [
      "epoch - 10 train_loss - 0.42 acc - 0.799 auc - 0.838\n"
     ]
    },
    {
     "name": "stderr",
     "output_type": "stream",
     "text": [
      "valid loss - 0.5795: 100%|██████████| 2/2 [00:00<00:00,  5.58it/s]\n",
      "  0%|          | 0/14 [00:00<?, ?it/s]"
     ]
    },
    {
     "name": "stdout",
     "output_type": "stream",
     "text": [
      "epoch - 10 val_loss - 0.58 val acc - 0.715 val auc - 0.739\n"
     ]
    },
    {
     "name": "stderr",
     "output_type": "stream",
     "text": [
      "loss - 0.3903: 100%|██████████| 14/14 [00:01<00:00,  8.63it/s]\n",
      "  0%|          | 0/2 [00:00<?, ?it/s]"
     ]
    },
    {
     "name": "stdout",
     "output_type": "stream",
     "text": [
      "epoch - 11 train_loss - 0.41 acc - 0.806 auc - 0.847\n"
     ]
    },
    {
     "name": "stderr",
     "output_type": "stream",
     "text": [
      "valid loss - 0.5605: 100%|██████████| 2/2 [00:00<00:00,  5.39it/s]\n",
      "  0%|          | 0/2 [00:00<?, ?it/s]"
     ]
    },
    {
     "name": "stdout",
     "output_type": "stream",
     "text": [
      "epoch - 11 val_loss - 0.57 val acc - 0.711 val auc - 0.741\n",
      "Val Loss does not improve for 5 consecutive epochs\n"
     ]
    },
    {
     "name": "stderr",
     "output_type": "stream",
     "text": [
      "valid loss - 0.4622: 100%|██████████| 2/2 [00:00<00:00,  5.51it/s]\n",
      "  0%|          | 0/14 [00:00<?, ?it/s]"
     ]
    },
    {
     "name": "stdout",
     "output_type": "stream",
     "text": [
      "epoch - 11 test_loss - 0.43 acc - 0.800 auc - 0.807\n",
      "----------------------------------------------------------------------------\n"
     ]
    },
    {
     "name": "stderr",
     "output_type": "stream",
     "text": [
      "loss - 0.5477: 100%|██████████| 14/14 [00:01<00:00,  9.31it/s]\n",
      "  0%|          | 0/2 [00:00<?, ?it/s]"
     ]
    },
    {
     "name": "stdout",
     "output_type": "stream",
     "text": [
      "epoch - 0 train_loss - 0.63 acc - 0.719 auc - 0.522\n"
     ]
    },
    {
     "name": "stderr",
     "output_type": "stream",
     "text": [
      "valid loss - 0.6012: 100%|██████████| 2/2 [00:00<00:00,  5.47it/s]\n",
      "  0%|          | 0/14 [00:00<?, ?it/s]"
     ]
    },
    {
     "name": "stdout",
     "output_type": "stream",
     "text": [
      "epoch - 0 val_loss - 0.59 val acc - 0.718 val auc - 0.600\n"
     ]
    },
    {
     "name": "stderr",
     "output_type": "stream",
     "text": [
      "loss - 0.5781: 100%|██████████| 14/14 [00:01<00:00,  9.10it/s]\n",
      "  0%|          | 0/2 [00:00<?, ?it/s]"
     ]
    },
    {
     "name": "stdout",
     "output_type": "stream",
     "text": [
      "epoch - 1 train_loss - 0.57 acc - 0.737 auc - 0.591\n"
     ]
    },
    {
     "name": "stderr",
     "output_type": "stream",
     "text": [
      "valid loss - 0.5820: 100%|██████████| 2/2 [00:00<00:00,  4.42it/s]\n",
      "  0%|          | 0/14 [00:00<?, ?it/s]"
     ]
    },
    {
     "name": "stdout",
     "output_type": "stream",
     "text": [
      "epoch - 1 val_loss - 0.58 val acc - 0.720 val auc - 0.637\n"
     ]
    },
    {
     "name": "stderr",
     "output_type": "stream",
     "text": [
      "loss - 0.5506: 100%|██████████| 14/14 [00:01<00:00,  9.52it/s]\n",
      "  0%|          | 0/2 [00:00<?, ?it/s]"
     ]
    },
    {
     "name": "stdout",
     "output_type": "stream",
     "text": [
      "epoch - 2 train_loss - 0.54 acc - 0.738 auc - 0.677\n"
     ]
    },
    {
     "name": "stderr",
     "output_type": "stream",
     "text": [
      "valid loss - 0.5652: 100%|██████████| 2/2 [00:00<00:00,  5.59it/s]\n",
      "  0%|          | 0/14 [00:00<?, ?it/s]"
     ]
    },
    {
     "name": "stdout",
     "output_type": "stream",
     "text": [
      "epoch - 2 val_loss - 0.57 val acc - 0.707 val auc - 0.661\n"
     ]
    },
    {
     "name": "stderr",
     "output_type": "stream",
     "text": [
      "loss - 0.4764: 100%|██████████| 14/14 [00:02<00:00,  6.91it/s]\n",
      "  0%|          | 0/2 [00:00<?, ?it/s]"
     ]
    },
    {
     "name": "stdout",
     "output_type": "stream",
     "text": [
      "epoch - 3 train_loss - 0.52 acc - 0.744 auc - 0.715\n"
     ]
    },
    {
     "name": "stderr",
     "output_type": "stream",
     "text": [
      "valid loss - 0.5482: 100%|██████████| 2/2 [00:00<00:00,  4.38it/s]\n",
      "  0%|          | 0/14 [00:00<?, ?it/s]"
     ]
    },
    {
     "name": "stdout",
     "output_type": "stream",
     "text": [
      "epoch - 3 val_loss - 0.56 val acc - 0.723 val auc - 0.683\n"
     ]
    },
    {
     "name": "stderr",
     "output_type": "stream",
     "text": [
      "loss - 0.5242: 100%|██████████| 14/14 [00:01<00:00,  9.26it/s]\n",
      "  0%|          | 0/2 [00:00<?, ?it/s]"
     ]
    },
    {
     "name": "stdout",
     "output_type": "stream",
     "text": [
      "epoch - 4 train_loss - 0.50 acc - 0.753 auc - 0.738\n"
     ]
    },
    {
     "name": "stderr",
     "output_type": "stream",
     "text": [
      "valid loss - 0.5364: 100%|██████████| 2/2 [00:00<00:00,  5.84it/s]\n",
      "  0%|          | 0/14 [00:00<?, ?it/s]"
     ]
    },
    {
     "name": "stdout",
     "output_type": "stream",
     "text": [
      "epoch - 4 val_loss - 0.55 val acc - 0.703 val auc - 0.701\n"
     ]
    },
    {
     "name": "stderr",
     "output_type": "stream",
     "text": [
      "loss - 0.4979: 100%|██████████| 14/14 [00:01<00:00,  9.85it/s]\n",
      "  0%|          | 0/2 [00:00<?, ?it/s]"
     ]
    },
    {
     "name": "stdout",
     "output_type": "stream",
     "text": [
      "epoch - 5 train_loss - 0.49 acc - 0.758 auc - 0.758\n"
     ]
    },
    {
     "name": "stderr",
     "output_type": "stream",
     "text": [
      "valid loss - 0.5471: 100%|██████████| 2/2 [00:00<00:00,  5.94it/s]\n",
      "  0%|          | 0/14 [00:00<?, ?it/s]"
     ]
    },
    {
     "name": "stdout",
     "output_type": "stream",
     "text": [
      "epoch - 5 val_loss - 0.54 val acc - 0.723 val auc - 0.714\n"
     ]
    },
    {
     "name": "stderr",
     "output_type": "stream",
     "text": [
      "loss - 0.4681: 100%|██████████| 14/14 [00:01<00:00, 10.07it/s]\n",
      "  0%|          | 0/2 [00:00<?, ?it/s]"
     ]
    },
    {
     "name": "stdout",
     "output_type": "stream",
     "text": [
      "epoch - 6 train_loss - 0.48 acc - 0.766 auc - 0.776\n"
     ]
    },
    {
     "name": "stderr",
     "output_type": "stream",
     "text": [
      "valid loss - 0.5317: 100%|██████████| 2/2 [00:00<00:00,  4.38it/s]\n",
      "  0%|          | 0/14 [00:00<?, ?it/s]"
     ]
    },
    {
     "name": "stdout",
     "output_type": "stream",
     "text": [
      "epoch - 6 val_loss - 0.53 val acc - 0.730 val auc - 0.723\n"
     ]
    },
    {
     "name": "stderr",
     "output_type": "stream",
     "text": [
      "loss - 0.4372: 100%|██████████| 14/14 [00:01<00:00,  9.49it/s]\n",
      "  0%|          | 0/2 [00:00<?, ?it/s]"
     ]
    },
    {
     "name": "stdout",
     "output_type": "stream",
     "text": [
      "epoch - 7 train_loss - 0.46 acc - 0.772 auc - 0.793\n"
     ]
    },
    {
     "name": "stderr",
     "output_type": "stream",
     "text": [
      "valid loss - 0.5413: 100%|██████████| 2/2 [00:00<00:00,  5.90it/s]\n",
      "  0%|          | 0/14 [00:00<?, ?it/s]"
     ]
    },
    {
     "name": "stdout",
     "output_type": "stream",
     "text": [
      "epoch - 7 val_loss - 0.53 val acc - 0.726 val auc - 0.731\n"
     ]
    },
    {
     "name": "stderr",
     "output_type": "stream",
     "text": [
      "loss - 0.4343: 100%|██████████| 14/14 [00:01<00:00,  9.45it/s]\n",
      "  0%|          | 0/2 [00:00<?, ?it/s]"
     ]
    },
    {
     "name": "stdout",
     "output_type": "stream",
     "text": [
      "epoch - 8 train_loss - 0.45 acc - 0.781 auc - 0.809\n"
     ]
    },
    {
     "name": "stderr",
     "output_type": "stream",
     "text": [
      "valid loss - 0.5209: 100%|██████████| 2/2 [00:00<00:00,  5.59it/s]\n",
      "  0%|          | 0/14 [00:00<?, ?it/s]"
     ]
    },
    {
     "name": "stdout",
     "output_type": "stream",
     "text": [
      "epoch - 8 val_loss - 0.53 val acc - 0.721 val auc - 0.736\n"
     ]
    },
    {
     "name": "stderr",
     "output_type": "stream",
     "text": [
      "loss - 0.4296: 100%|██████████| 14/14 [00:01<00:00, 10.00it/s]\n",
      "  0%|          | 0/2 [00:00<?, ?it/s]"
     ]
    },
    {
     "name": "stdout",
     "output_type": "stream",
     "text": [
      "epoch - 9 train_loss - 0.44 acc - 0.787 auc - 0.820\n"
     ]
    },
    {
     "name": "stderr",
     "output_type": "stream",
     "text": [
      "valid loss - 0.5305: 100%|██████████| 2/2 [00:00<00:00,  5.89it/s]\n",
      "  0%|          | 0/14 [00:00<?, ?it/s]"
     ]
    },
    {
     "name": "stdout",
     "output_type": "stream",
     "text": [
      "epoch - 9 val_loss - 0.54 val acc - 0.737 val auc - 0.737\n"
     ]
    },
    {
     "name": "stderr",
     "output_type": "stream",
     "text": [
      "loss - 0.4216: 100%|██████████| 14/14 [00:01<00:00,  9.77it/s]\n",
      "  0%|          | 0/2 [00:00<?, ?it/s]"
     ]
    },
    {
     "name": "stdout",
     "output_type": "stream",
     "text": [
      "epoch - 10 train_loss - 0.43 acc - 0.793 auc - 0.832\n"
     ]
    },
    {
     "name": "stderr",
     "output_type": "stream",
     "text": [
      "valid loss - 0.5375: 100%|██████████| 2/2 [00:00<00:00,  5.71it/s]\n",
      "  0%|          | 0/14 [00:00<?, ?it/s]"
     ]
    },
    {
     "name": "stdout",
     "output_type": "stream",
     "text": [
      "epoch - 10 val_loss - 0.53 val acc - 0.727 val auc - 0.741\n"
     ]
    },
    {
     "name": "stderr",
     "output_type": "stream",
     "text": [
      "loss - 0.3883: 100%|██████████| 14/14 [00:01<00:00,  9.86it/s]\n",
      "  0%|          | 0/2 [00:00<?, ?it/s]"
     ]
    },
    {
     "name": "stdout",
     "output_type": "stream",
     "text": [
      "epoch - 11 train_loss - 0.42 acc - 0.802 auc - 0.845\n"
     ]
    },
    {
     "name": "stderr",
     "output_type": "stream",
     "text": [
      "valid loss - 0.5483: 100%|██████████| 2/2 [00:00<00:00,  5.95it/s]\n",
      "  0%|          | 0/14 [00:00<?, ?it/s]"
     ]
    },
    {
     "name": "stdout",
     "output_type": "stream",
     "text": [
      "epoch - 11 val_loss - 0.55 val acc - 0.727 val auc - 0.740\n"
     ]
    },
    {
     "name": "stderr",
     "output_type": "stream",
     "text": [
      "loss - 0.4183: 100%|██████████| 14/14 [00:01<00:00,  9.32it/s]\n",
      "  0%|          | 0/2 [00:00<?, ?it/s]"
     ]
    },
    {
     "name": "stdout",
     "output_type": "stream",
     "text": [
      "epoch - 12 train_loss - 0.40 acc - 0.808 auc - 0.856\n"
     ]
    },
    {
     "name": "stderr",
     "output_type": "stream",
     "text": [
      "valid loss - 0.5591: 100%|██████████| 2/2 [00:00<00:00,  6.01it/s]\n",
      "  0%|          | 0/14 [00:00<?, ?it/s]"
     ]
    },
    {
     "name": "stdout",
     "output_type": "stream",
     "text": [
      "epoch - 12 val_loss - 0.55 val acc - 0.722 val auc - 0.739\n"
     ]
    },
    {
     "name": "stderr",
     "output_type": "stream",
     "text": [
      "loss - 0.3872: 100%|██████████| 14/14 [00:01<00:00,  9.76it/s]\n",
      "  0%|          | 0/2 [00:00<?, ?it/s]"
     ]
    },
    {
     "name": "stdout",
     "output_type": "stream",
     "text": [
      "epoch - 13 train_loss - 0.39 acc - 0.816 auc - 0.865\n"
     ]
    },
    {
     "name": "stderr",
     "output_type": "stream",
     "text": [
      "valid loss - 0.5421: 100%|██████████| 2/2 [00:00<00:00,  5.94it/s]\n",
      "  0%|          | 0/2 [00:00<?, ?it/s]"
     ]
    },
    {
     "name": "stdout",
     "output_type": "stream",
     "text": [
      "epoch - 13 val_loss - 0.54 val acc - 0.723 val auc - 0.740\n",
      "Val Loss does not improve for 5 consecutive epochs\n"
     ]
    },
    {
     "name": "stderr",
     "output_type": "stream",
     "text": [
      "valid loss - 0.4413: 100%|██████████| 2/2 [00:00<00:00,  6.03it/s]"
     ]
    },
    {
     "name": "stdout",
     "output_type": "stream",
     "text": [
      "epoch - 13 test_loss - 0.44 acc - 0.793 auc - 0.801\n"
     ]
    },
    {
     "name": "stderr",
     "output_type": "stream",
     "text": [
      "\n"
     ]
    }
   ],
   "source": [
    "X = np.array(group.keys())\n",
    "kfold = KFold(n_splits=5, shuffle=True)\n",
    "train_losses = list()\n",
    "train_aucs = list()\n",
    "train_accs = list()\n",
    "val_losses = list()\n",
    "val_aucs = list()\n",
    "val_accs = list()\n",
    "test_losses = list()\n",
    "test_aucs = list()\n",
    "test_accs = list()\n",
    "for train, test in kfold.split(X):\n",
    "    users_train, users_test =  X[train], X[test]\n",
    "    n = len(users_test)//2\n",
    "    users_test, users_val = users_test[:n], users_test[n: ]\n",
    "    train = PRACTICE_DATASET(group[users_train])\n",
    "    valid = PRACTICE_DATASET(group[users_val])\n",
    "    test = PRACTICE_DATASET(group[users_test])\n",
    "    train_dataloader = DataLoader(train, batch_size=64, shuffle=True, num_workers=8)\n",
    "    val_dataloader = DataLoader(valid, batch_size=64, shuffle=True, num_workers=8)\n",
    "    test_dataloader = DataLoader(test, batch_size=64, shuffle=True, num_workers=8)\n",
    "    \n",
    "    device = torch.device(\"cuda\" if torch.cuda.is_available() else \"cpu\")\n",
    "    saint = SAINTModel(n_skill, n_part)\n",
    "    epochs = 100\n",
    "    criterion = nn.BCEWithLogitsLoss()\n",
    "    optimizer = torch.optim.Adam(saint.parameters(), betas=(0.9, 0.999), lr = 0.0005, eps=1e-8)\n",
    "    saint.to(device)\n",
    "    criterion.to(device)\n",
    "    \n",
    "    def train_epoch(model=saint, train_iterator=train_dataloader, optim=optimizer, criterion=criterion, device=device):\n",
    "        model.train()\n",
    "\n",
    "        train_loss = []\n",
    "        num_corrects = 0\n",
    "        num_total = 0\n",
    "        labels = []\n",
    "        outs = []\n",
    "        tbar = tqdm(train_iterator)\n",
    "        for item in tbar:\n",
    "            question_id = item[0].to(device).long()\n",
    "            chapter = item[1].to(device).long()\n",
    "            schapter = item[2].to(device).long()\n",
    "            responses = item[3].to(device).long()\n",
    "            user_feats = item[4].to(device).float()\n",
    "            label = item[5].to(device).float()            \n",
    "            target_mask = (question_id!=0)\n",
    "            optim.zero_grad()\n",
    "            output = model(question_id, chapter, schapter, responses, user_feats)\n",
    "            output = torch.reshape(output, label.shape)\n",
    "\n",
    "            output = torch.masked_select(output, target_mask)\n",
    "            label = torch.masked_select(label, target_mask)\n",
    "\n",
    "            loss = criterion(output, label)\n",
    "            loss.backward()\n",
    "            optim.step()\n",
    "            train_loss.append(loss.item())\n",
    "            pred = (torch.sigmoid(output) >= 0.5).long()\n",
    "\n",
    "            num_corrects += (pred == label).sum().item()\n",
    "            num_total += len(label)\n",
    "\n",
    "            labels.extend(label.view(-1).data.cpu().numpy())\n",
    "            outs.extend(output.view(-1).data.cpu().numpy())\n",
    "\n",
    "            tbar.set_description('loss - {:.4f}'.format(loss))\n",
    "        acc = num_corrects / num_total\n",
    "        auc = roc_auc_score(labels, outs)\n",
    "        loss = np.mean(train_loss)\n",
    "\n",
    "        return loss, acc, auc\n",
    "   \n",
    "\n",
    "    def val_epoch(model=saint, val_iterator=test_dataloader, \n",
    "              criterion=criterion, device=device):\n",
    "        model.eval()\n",
    "\n",
    "        train_loss = []\n",
    "        num_corrects = 0\n",
    "        num_total = 0\n",
    "        labels = []\n",
    "        outs = []\n",
    "        tbar = tqdm(val_iterator)\n",
    "        for item in tbar:\n",
    "            question_id = item[0].to(device).long()\n",
    "            chapter = item[1].to(device).long()\n",
    "            schapter = item[2].to(device).long()\n",
    "            responses = item[3].to(device).long()\n",
    "            user_feats = item[4].to(device).float()\n",
    "            label = item[5].to(device).float()            \n",
    "            target_mask = (question_id!=0)\n",
    "            with torch.no_grad():\n",
    "                output = model(question_id, chapter, schapter, responses, user_feats)\n",
    "\n",
    "            output = torch.reshape(output, label.shape)\n",
    "            output = torch.masked_select(output, target_mask)\n",
    "            label = torch.masked_select(label, target_mask)\n",
    "\n",
    "            loss = criterion(output, label)\n",
    "            train_loss.append(loss.item())\n",
    "\n",
    "            pred = (torch.sigmoid(output) >= 0.5).long()\n",
    "            num_corrects += (pred == label).sum().item()\n",
    "            num_total += len(label)\n",
    "\n",
    "            labels.extend(label.view(-1).data.cpu().numpy())\n",
    "            outs.extend(output.view(-1).data.cpu().numpy())\n",
    "\n",
    "            tbar.set_description('valid loss - {:.4f}'.format(loss))\n",
    "\n",
    "        acc = num_corrects / num_total\n",
    "        auc = roc_auc_score(labels, outs)\n",
    "        loss = np.average(train_loss)\n",
    "\n",
    "        return loss, acc, auc\n",
    "    \n",
    "    MIN_VAL = 1000000000\n",
    "    count = 0\n",
    "    print('----------------------------------------------------------------------------')\n",
    "    for epoch in range(epochs):\n",
    "        train_loss, train_acc, train_auc = train_epoch(model=saint, device=device)\n",
    "        print(\"epoch - {} train_loss - {:.2f} acc - {:.3f} auc - {:.3f}\".format(epoch, train_loss, train_acc, train_auc))\n",
    "        val_loss, val_acc, val_auc = val_epoch(model=saint, val_iterator= val_dataloader, device=device)\n",
    "        print(\"epoch - {} val_loss - {:.2f} val acc - {:.3f} val auc - {:.3f}\".format(epoch, val_loss, val_acc, val_auc))\n",
    "        if val_loss < MIN_VAL:\n",
    "            count = 0\n",
    "            MIN_VAL = val_loss\n",
    "        else:\n",
    "            count += 1\n",
    "\n",
    "        if count == patience:\n",
    "            print('Val Loss does not improve for {} consecutive epochs'.format(patience))\n",
    "            break\n",
    "    test_loss, test_acc, test_auc = val_epoch(model=saint, device=device)\n",
    "    print(\"epoch - {} test_loss - {:.2f} acc - {:.3f} auc - {:.3f}\".format(epoch, test_loss, test_acc, test_auc))\n",
    "    test_losses.append(test_loss)\n",
    "    test_aucs.append(test_auc)\n",
    "    test_accs.append(test_acc)\n",
    "    train_aucs.append(train_auc)\n",
    "    train_losses.append(train_loss)\n",
    "    train_accs.append(train_acc)"
   ]
  },
  {
   "cell_type": "code",
   "execution_count": 35,
   "metadata": {
    "execution": {
     "iopub.execute_input": "2021-08-07T21:40:28.644565Z",
     "iopub.status.busy": "2021-08-07T21:40:28.643868Z",
     "iopub.status.idle": "2021-08-07T21:40:28.646677Z",
     "shell.execute_reply": "2021-08-07T21:40:28.645050Z",
     "shell.execute_reply.started": "2021-07-31T18:55:25.847643Z"
    },
    "papermill": {
     "duration": 0.940262,
     "end_time": "2021-08-07T21:40:28.646787",
     "exception": false,
     "start_time": "2021-08-07T21:40:27.706525",
     "status": "completed"
    },
    "tags": []
   },
   "outputs": [
    {
     "name": "stdout",
     "output_type": "stream",
     "text": [
      "test avg loss:  0.44718994200229645 0.019806722542724406\n",
      "test avg acc:  0.7935545233000941 0.007991147099456374\n",
      "test avg auc:  0.8012823871705048 0.004488733455018173\n"
     ]
    }
   ],
   "source": [
    "print(\"test avg loss: \", np.mean(test_losses), np.std(test_losses))\n",
    "print(\"test avg acc: \", np.mean(test_accs), np.std(test_accs))\n",
    "print(\"test avg auc: \", np.mean(test_aucs), np.std(test_aucs))"
   ]
  },
  {
   "cell_type": "code",
   "execution_count": 36,
   "metadata": {
    "execution": {
     "iopub.execute_input": "2021-08-07T21:40:30.536889Z",
     "iopub.status.busy": "2021-08-07T21:40:30.536096Z",
     "iopub.status.idle": "2021-08-07T21:40:30.539272Z",
     "shell.execute_reply": "2021-08-07T21:40:30.539710Z",
     "shell.execute_reply.started": "2021-07-31T18:55:25.857312Z"
    },
    "papermill": {
     "duration": 0.934927,
     "end_time": "2021-08-07T21:40:30.539835",
     "exception": false,
     "start_time": "2021-08-07T21:40:29.604908",
     "status": "completed"
    },
    "tags": []
   },
   "outputs": [
    {
     "name": "stdout",
     "output_type": "stream",
     "text": [
      "train avg loss:  0.3951118784291404 0.013236236335614483\n",
      "train avg acc:  0.8136138694557375 0.007640542317906208\n",
      "train avg auc:  0.8611339816844975 0.010936297268033012\n"
     ]
    }
   ],
   "source": [
    "print(\"train avg loss: \", np.mean(train_losses), np.std(train_losses))\n",
    "print(\"train avg acc: \", np.mean(train_accs), np.std(train_accs))\n",
    "print(\"train avg auc: \", np.mean(train_aucs), np.std(train_aucs))"
   ]
  }
 ],
 "metadata": {
  "kernelspec": {
   "display_name": "Python 3",
   "language": "python",
   "name": "python3"
  },
  "language_info": {
   "codemirror_mode": {
    "name": "ipython",
    "version": 3
   },
   "file_extension": ".py",
   "mimetype": "text/x-python",
   "name": "python",
   "nbconvert_exporter": "python",
   "pygments_lexer": "ipython3",
   "version": "3.8.5"
  },
  "papermill": {
   "duration": 632.670076,
   "end_time": "2021-08-07T21:40:31.669524",
   "environment_variables": {},
   "exception": null,
   "input_path": "__notebook__.ipynb",
   "output_path": "__notebook__.ipynb",
   "parameters": {},
   "start_time": "2021-08-07T21:29:58.999448",
   "version": "2.1.0"
  }
 },
 "nbformat": 4,
 "nbformat_minor": 4
}
