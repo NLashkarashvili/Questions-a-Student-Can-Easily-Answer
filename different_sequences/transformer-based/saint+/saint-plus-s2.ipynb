{
 "cells": [
  {
   "cell_type": "code",
   "execution_count": 1,
   "metadata": {
    "_cell_guid": "79c7e3d0-c299-4dcb-8224-4455121ee9b0",
    "_uuid": "d629ff2d2480ee46fbb7e2d37f6b5fab8052498a",
    "execution": {
     "iopub.execute_input": "2021-08-08T16:03:54.526440Z",
     "iopub.status.busy": "2021-08-08T16:03:54.525648Z",
     "iopub.status.idle": "2021-08-08T16:03:56.416285Z",
     "shell.execute_reply": "2021-08-08T16:03:56.415296Z",
     "shell.execute_reply.started": "2021-08-08T15:53:33.267893Z"
    },
    "papermill": {
     "duration": 1.921759,
     "end_time": "2021-08-08T16:03:56.416413",
     "exception": false,
     "start_time": "2021-08-08T16:03:54.494654",
     "status": "completed"
    },
    "tags": []
   },
   "outputs": [],
   "source": [
    "import psutil\n",
    "import joblib\n",
    "import numpy as np\n",
    "import pandas as pd\n",
    "import torch\n",
    "from tqdm import tqdm\n",
    "from sklearn.metrics import roc_auc_score\n",
    "import torch.nn as nn\n",
    "from sklearn.model_selection import KFold\n",
    "from torch.utils.data import Dataset, DataLoader\n",
    "import gc\n",
    "import os\n",
    "import warnings\n",
    "warnings.filterwarnings(\"ignore\")"
   ]
  },
  {
   "cell_type": "code",
   "execution_count": 2,
   "metadata": {
    "execution": {
     "iopub.execute_input": "2021-08-08T16:03:56.478140Z",
     "iopub.status.busy": "2021-08-08T16:03:56.477586Z",
     "iopub.status.idle": "2021-08-08T16:04:02.287056Z",
     "shell.execute_reply": "2021-08-08T16:04:02.286429Z",
     "shell.execute_reply.started": "2021-08-08T15:53:35.221976Z"
    },
    "papermill": {
     "duration": 5.845975,
     "end_time": "2021-08-08T16:04:02.287212",
     "exception": false,
     "start_time": "2021-08-08T16:03:56.441237",
     "status": "completed"
    },
    "tags": []
   },
   "outputs": [],
   "source": [
    "data = pd.read_csv('../input/practice-log-demographics/Practice_Log_Demographics (1).csv', low_memory=False)"
   ]
  },
  {
   "cell_type": "code",
   "execution_count": 3,
   "metadata": {
    "execution": {
     "iopub.execute_input": "2021-08-08T16:04:02.343446Z",
     "iopub.status.busy": "2021-08-08T16:04:02.341735Z",
     "iopub.status.idle": "2021-08-08T16:04:02.344063Z",
     "shell.execute_reply": "2021-08-08T16:04:02.344478Z",
     "shell.execute_reply.started": "2021-08-08T15:53:40.824228Z"
    },
    "papermill": {
     "duration": 0.032932,
     "end_time": "2021-08-08T16:04:02.344580",
     "exception": false,
     "start_time": "2021-08-08T16:04:02.311648",
     "status": "completed"
    },
    "tags": []
   },
   "outputs": [],
   "source": [
    "FEATURES = ['chapter_label', 'sub_chapter_label','question_name','user_id.x','term','STDNT_SEX_CD', \n",
    "            'NonNativeEnglish', 'White', 'Asian','WhiteOrAsian', 'Hispanic','AfricanAmerican','OtherEthnicities',\n",
    "            'NonWhiteOrAsian','STDNT_CTZN_STAT_CD', 'international','gradingType','birthYear','exclClassCumGPA',\n",
    "            'Freshman', 'Junior','Sophomore','Senior','termCreditsGPA','termCreditsNoGPA','athlete_1','honorsPro',\n",
    "            'LSA', 'programBusiness', 'programEngineering','programInformation', 'programOther','HSCalculusTaken', \n",
    "            'highSchoolGPA', 'majorsCount', 'minorsCount','PREV_TERM_CUM_GPA', 'classGraded', 'classHonors', \n",
    "            'Pass_Fail', 'parentsGraduateEdu',  'minorityGroup', 'q',\"day's_available_flashcards\", \n",
    "            'start_practice', 'end_practice','days_offset']"
   ]
  },
  {
   "cell_type": "code",
   "execution_count": 4,
   "metadata": {
    "execution": {
     "iopub.execute_input": "2021-08-08T16:04:02.403018Z",
     "iopub.status.busy": "2021-08-08T16:04:02.401641Z",
     "iopub.status.idle": "2021-08-08T16:04:02.506716Z",
     "shell.execute_reply": "2021-08-08T16:04:02.506183Z",
     "shell.execute_reply.started": "2021-08-08T15:53:40.842111Z"
    },
    "papermill": {
     "duration": 0.138452,
     "end_time": "2021-08-08T16:04:02.506834",
     "exception": false,
     "start_time": "2021-08-08T16:04:02.368382",
     "status": "completed"
    },
    "tags": []
   },
   "outputs": [],
   "source": [
    "data = data[FEATURES]"
   ]
  },
  {
   "cell_type": "code",
   "execution_count": 5,
   "metadata": {
    "execution": {
     "iopub.execute_input": "2021-08-08T16:04:02.625273Z",
     "iopub.status.busy": "2021-08-08T16:04:02.624189Z",
     "iopub.status.idle": "2021-08-08T16:04:02.628198Z",
     "shell.execute_reply": "2021-08-08T16:04:02.628617Z",
     "shell.execute_reply.started": "2021-08-08T15:53:40.998365Z"
    },
    "papermill": {
     "duration": 0.09747,
     "end_time": "2021-08-08T16:04:02.628736",
     "exception": false,
     "start_time": "2021-08-08T16:04:02.531266",
     "status": "completed"
    },
    "tags": []
   },
   "outputs": [
    {
     "data": {
      "text/plain": [
       "60"
      ]
     },
     "execution_count": 5,
     "metadata": {},
     "output_type": "execute_result"
    }
   ],
   "source": [
    "gc.collect()"
   ]
  },
  {
   "cell_type": "code",
   "execution_count": 6,
   "metadata": {
    "execution": {
     "iopub.execute_input": "2021-08-08T16:04:02.760296Z",
     "iopub.status.busy": "2021-08-08T16:04:02.759287Z",
     "iopub.status.idle": "2021-08-08T16:04:02.978134Z",
     "shell.execute_reply": "2021-08-08T16:04:02.977593Z",
     "shell.execute_reply.started": "2021-08-08T15:53:41.105554Z"
    },
    "papermill": {
     "duration": 0.324299,
     "end_time": "2021-08-08T16:04:02.978239",
     "exception": false,
     "start_time": "2021-08-08T16:04:02.653940",
     "status": "completed"
    },
    "tags": []
   },
   "outputs": [],
   "source": [
    "data['COVID_Graded'] = np.where(data['gradingType']=='COVID Graded', 1, 0)\n",
    "data.drop(columns=['gradingType'], inplace=True)"
   ]
  },
  {
   "cell_type": "code",
   "execution_count": 7,
   "metadata": {
    "execution": {
     "iopub.execute_input": "2021-08-08T16:04:03.063105Z",
     "iopub.status.busy": "2021-08-08T16:04:03.058099Z",
     "iopub.status.idle": "2021-08-08T16:04:03.522115Z",
     "shell.execute_reply": "2021-08-08T16:04:03.521622Z",
     "shell.execute_reply.started": "2021-08-08T15:53:41.472999Z"
    },
    "papermill": {
     "duration": 0.519079,
     "end_time": "2021-08-08T16:04:03.522235",
     "exception": false,
     "start_time": "2021-08-08T16:04:03.003156",
     "status": "completed"
    },
    "tags": []
   },
   "outputs": [],
   "source": [
    "data['term_value'] = [int(ele[3:]) for ele in data['term']]\n",
    "data['age'] = data['term_value'] - data['birthYear']"
   ]
  },
  {
   "cell_type": "code",
   "execution_count": 8,
   "metadata": {
    "execution": {
     "iopub.execute_input": "2021-08-08T16:04:03.578177Z",
     "iopub.status.busy": "2021-08-08T16:04:03.576898Z",
     "iopub.status.idle": "2021-08-08T16:04:03.786922Z",
     "shell.execute_reply": "2021-08-08T16:04:03.786396Z",
     "shell.execute_reply.started": "2021-08-08T15:53:41.967323Z"
    },
    "papermill": {
     "duration": 0.239563,
     "end_time": "2021-08-08T16:04:03.787031",
     "exception": false,
     "start_time": "2021-08-08T16:04:03.547468",
     "status": "completed"
    },
    "tags": []
   },
   "outputs": [],
   "source": [
    "data.drop(columns=['term_value', 'birthYear'], inplace=True)"
   ]
  },
  {
   "cell_type": "code",
   "execution_count": 9,
   "metadata": {
    "execution": {
     "iopub.execute_input": "2021-08-08T16:04:04.029618Z",
     "iopub.status.busy": "2021-08-08T16:04:04.028025Z",
     "iopub.status.idle": "2021-08-08T16:04:41.742860Z",
     "shell.execute_reply": "2021-08-08T16:04:41.742264Z",
     "shell.execute_reply.started": "2021-08-08T15:53:42.188351Z"
    },
    "papermill": {
     "duration": 37.931173,
     "end_time": "2021-08-08T16:04:41.742969",
     "exception": false,
     "start_time": "2021-08-08T16:04:03.811796",
     "status": "completed"
    },
    "tags": []
   },
   "outputs": [],
   "source": [
    "#convert start_practice and end_practice to datatime column\n",
    "data.start_practice = pd.to_datetime(data.start_practice, format='%Y-%m-%d %H:%M:%S')\n",
    "data.end_practice = pd.to_datetime(data.end_practice, format='%Y-%m-%d %H:%M:%S')\n",
    "#label encode term, chapter_label, question_name, sub_chapter_label columns\n",
    "data['term'] = data['term'].astype('category')\n",
    "data['chapter_id'] = data['chapter_label'].replace(data['chapter_label'].unique(), list(range(data['chapter_label'].nunique()))) + 1\n",
    "data['sub_chapter_id'] = data['sub_chapter_label'].replace(data['sub_chapter_label'].unique(), list(range(data['sub_chapter_label'].nunique()))) + 1\n",
    "data['question_id'] = data['question_name'].replace(data['question_name'].unique(), list(range(data['question_name'].nunique()))) + 1"
   ]
  },
  {
   "cell_type": "code",
   "execution_count": 10,
   "metadata": {
    "execution": {
     "iopub.execute_input": "2021-08-08T16:04:41.799798Z",
     "iopub.status.busy": "2021-08-08T16:04:41.798646Z",
     "iopub.status.idle": "2021-08-08T16:04:41.818527Z",
     "shell.execute_reply": "2021-08-08T16:04:41.817556Z",
     "shell.execute_reply.started": "2021-08-08T15:54:17.715692Z"
    },
    "papermill": {
     "duration": 0.05,
     "end_time": "2021-08-08T16:04:41.818638",
     "exception": false,
     "start_time": "2021-08-08T16:04:41.768638",
     "status": "completed"
    },
    "tags": []
   },
   "outputs": [],
   "source": [
    "data['dif'] = data.end_practice - data.start_practice\n",
    "data['dif'] = data['dif'] /np.timedelta64(1, 's')\n",
    "data['q'] = np.where((data['q']==5) & (data['dif'] <= 60), 1, 0)"
   ]
  },
  {
   "cell_type": "code",
   "execution_count": 11,
   "metadata": {
    "execution": {
     "iopub.execute_input": "2021-08-08T16:04:41.881884Z",
     "iopub.status.busy": "2021-08-08T16:04:41.880404Z",
     "iopub.status.idle": "2021-08-08T16:04:42.090114Z",
     "shell.execute_reply": "2021-08-08T16:04:42.089546Z",
     "shell.execute_reply.started": "2021-08-08T15:54:17.742021Z"
    },
    "papermill": {
     "duration": 0.241441,
     "end_time": "2021-08-08T16:04:42.090245",
     "exception": false,
     "start_time": "2021-08-08T16:04:41.848804",
     "status": "completed"
    },
    "tags": []
   },
   "outputs": [],
   "source": [
    "data.drop(columns = ['chapter_label', 'sub_chapter_label', 'question_name'], inplace=True)"
   ]
  },
  {
   "cell_type": "code",
   "execution_count": 12,
   "metadata": {
    "execution": {
     "iopub.execute_input": "2021-08-08T16:04:42.171109Z",
     "iopub.status.busy": "2021-08-08T16:04:42.155739Z",
     "iopub.status.idle": "2021-08-08T16:04:42.588034Z",
     "shell.execute_reply": "2021-08-08T16:04:42.587513Z",
     "shell.execute_reply.started": "2021-08-08T15:54:17.954375Z"
    },
    "papermill": {
     "duration": 0.472732,
     "end_time": "2021-08-08T16:04:42.588157",
     "exception": false,
     "start_time": "2021-08-08T16:04:42.115425",
     "status": "completed"
    },
    "tags": []
   },
   "outputs": [],
   "source": [
    "new_minors_count = []\n",
    "for i in data['minorsCount']:\n",
    "  if i == 0 or i == '0':\n",
    "    new_minors_count.append(0)\n",
    "  elif i == '1 Minor':\n",
    "    new_minors_count.append(1)\n",
    "  else:\n",
    "    new_minors_count.append(2)\n",
    "\n",
    "data['minorsCount'] = new_minors_count"
   ]
  },
  {
   "cell_type": "code",
   "execution_count": 13,
   "metadata": {
    "execution": {
     "iopub.execute_input": "2021-08-08T16:04:42.644249Z",
     "iopub.status.busy": "2021-08-08T16:04:42.643407Z",
     "iopub.status.idle": "2021-08-08T16:04:43.152767Z",
     "shell.execute_reply": "2021-08-08T16:04:43.151960Z",
     "shell.execute_reply.started": "2021-08-08T15:54:18.443056Z"
    },
    "papermill": {
     "duration": 0.539509,
     "end_time": "2021-08-08T16:04:43.152938",
     "exception": false,
     "start_time": "2021-08-08T16:04:42.613429",
     "status": "completed"
    },
    "tags": []
   },
   "outputs": [],
   "source": [
    "data = data.sort_values(['start_practice'], ascending=True).reset_index(drop=True)"
   ]
  },
  {
   "cell_type": "code",
   "execution_count": 14,
   "metadata": {
    "execution": {
     "iopub.execute_input": "2021-08-08T16:04:43.244177Z",
     "iopub.status.busy": "2021-08-08T16:04:43.243342Z",
     "iopub.status.idle": "2021-08-08T16:05:51.499327Z",
     "shell.execute_reply": "2021-08-08T16:05:51.498730Z",
     "shell.execute_reply.started": "2021-08-08T15:54:18.885829Z"
    },
    "papermill": {
     "duration": 68.304996,
     "end_time": "2021-08-08T16:05:51.499461",
     "exception": false,
     "start_time": "2021-08-08T16:04:43.194465",
     "status": "completed"
    },
    "tags": []
   },
   "outputs": [],
   "source": [
    "data['user_id.x'] = data['term'].astype(str) + data['user_id.x'].astype(str)\n",
    "data['user_id.x'] = data['user_id.x'].replace(data['user_id.x'].unique(), list(range(data['user_id.x'].nunique())))"
   ]
  },
  {
   "cell_type": "code",
   "execution_count": 15,
   "metadata": {
    "execution": {
     "iopub.execute_input": "2021-08-08T16:05:51.560635Z",
     "iopub.status.busy": "2021-08-08T16:05:51.559709Z",
     "iopub.status.idle": "2021-08-08T16:05:51.563557Z",
     "shell.execute_reply": "2021-08-08T16:05:51.562942Z",
     "shell.execute_reply.started": "2021-08-08T15:55:25.830338Z"
    },
    "papermill": {
     "duration": 0.035635,
     "end_time": "2021-08-08T16:05:51.563652",
     "exception": false,
     "start_time": "2021-08-08T16:05:51.528017",
     "status": "completed"
    },
    "tags": []
   },
   "outputs": [],
   "source": [
    "data['term'] =  data['term'].cat.codes"
   ]
  },
  {
   "cell_type": "code",
   "execution_count": 16,
   "metadata": {
    "execution": {
     "iopub.execute_input": "2021-08-08T16:05:51.622987Z",
     "iopub.status.busy": "2021-08-08T16:05:51.622093Z",
     "iopub.status.idle": "2021-08-08T16:05:51.669777Z",
     "shell.execute_reply": "2021-08-08T16:05:51.669202Z",
     "shell.execute_reply.started": "2021-08-08T15:55:25.837920Z"
    },
    "papermill": {
     "duration": 0.079009,
     "end_time": "2021-08-08T16:05:51.669879",
     "exception": false,
     "start_time": "2021-08-08T16:05:51.590870",
     "status": "completed"
    },
    "tags": []
   },
   "outputs": [],
   "source": [
    "data['prev_time_elapsed'] = None\n",
    "data['time_lag'] = None\n",
    "data['time_lag'] = data['time_lag'].astype(np.float)\n",
    "data['prev_time_elapsed'] = data['prev_time_elapsed'].astype(np.float)"
   ]
  },
  {
   "cell_type": "code",
   "execution_count": 17,
   "metadata": {
    "execution": {
     "iopub.execute_input": "2021-08-08T16:05:51.735574Z",
     "iopub.status.busy": "2021-08-08T16:05:51.734702Z",
     "iopub.status.idle": "2021-08-08T16:11:21.570016Z",
     "shell.execute_reply": "2021-08-08T16:11:21.569518Z",
     "shell.execute_reply.started": "2021-08-08T15:55:25.888860Z"
    },
    "papermill": {
     "duration": 329.875106,
     "end_time": "2021-08-08T16:11:21.570231",
     "exception": false,
     "start_time": "2021-08-08T16:05:51.695125",
     "status": "completed"
    },
    "tags": []
   },
   "outputs": [
    {
     "name": "stderr",
     "output_type": "stream",
     "text": [
      "100%|██████████| 1110/1110 [05:29<00:00,  3.37it/s]\n"
     ]
    }
   ],
   "source": [
    "unique_chapts = data['chapter_id'].unique()\n",
    "from tqdm import tqdm\n",
    "cnt = 0\n",
    "for user in tqdm(data['user_id.x'].unique()):\n",
    "        for chapter in unique_chapts:\n",
    "            tmp_user = data[(data['user_id.x']==user) & (data['chapter_id']==chapter)]\n",
    "            if len(tmp_user) < 1:\n",
    "                continue\n",
    "            tmp_time_elapsed = tmp_user.end_practice - tmp_user.start_practice\n",
    "            tmp_time_elapsed = tmp_time_elapsed / np.timedelta64(1, 's')\n",
    "            #shifting time elapsed by one\n",
    "            #so that time_elapsed row for each question\n",
    "            #would refer to the time that user took to answer\n",
    "            #previous question\n",
    "            tmp_time_elapsed = np.insert(np.array(tmp_time_elapsed[:-1]), 0, 0., axis=0)\n",
    "            tmp_time_elapsed = np.cumsum(tmp_time_elapsed)\n",
    "            indices = tmp_user.index\n",
    "            start_row = indices[0]\n",
    "            data['time_lag'].iloc[start_row] = 0\n",
    "            for_mean = np.arange(len(tmp_user))\n",
    "            for_mean[0] = 1\n",
    "            time_substrahend = tmp_user.start_practice.iloc[:-1]\n",
    "            time_substrahend = time_substrahend.apply(lambda a: a.timestamp())\n",
    "            time_substrahend = np.array(time_substrahend)\n",
    "            \n",
    "            time_minuend = tmp_user.start_practice.iloc[1:]\n",
    "            time_minuend = time_minuend.apply(lambda a: a.timestamp())\n",
    "            time_minuend = np.array(time_minuend)\n",
    "\n",
    "            data['prev_time_elapsed'].iloc[indices] = tmp_time_elapsed/for_mean\n",
    "            data['time_lag'].iloc[indices[1:]] = time_minuend - time_substrahend"
   ]
  },
  {
   "cell_type": "code",
   "execution_count": 18,
   "metadata": {
    "execution": {
     "iopub.execute_input": "2021-08-08T16:11:22.473203Z",
     "iopub.status.busy": "2021-08-08T16:11:22.412225Z",
     "iopub.status.idle": "2021-08-08T16:11:22.540329Z",
     "shell.execute_reply": "2021-08-08T16:11:22.540827Z",
     "shell.execute_reply.started": "2021-08-08T16:00:33.569312Z"
    },
    "papermill": {
     "duration": 0.613779,
     "end_time": "2021-08-08T16:11:22.540964",
     "exception": false,
     "start_time": "2021-08-08T16:11:21.927185",
     "status": "completed"
    },
    "tags": []
   },
   "outputs": [
    {
     "data": {
      "text/plain": [
       "count     610792.0\n",
       "unique    143509.0\n",
       "top            0.0\n",
       "freq       23878.0\n",
       "Name: time_lag, dtype: float64"
      ]
     },
     "execution_count": 18,
     "metadata": {},
     "output_type": "execute_result"
    }
   ],
   "source": [
    "data['time_lag'].describe()"
   ]
  },
  {
   "cell_type": "code",
   "execution_count": 19,
   "metadata": {
    "execution": {
     "iopub.execute_input": "2021-08-08T16:11:23.264385Z",
     "iopub.status.busy": "2021-08-08T16:11:23.263562Z",
     "iopub.status.idle": "2021-08-08T16:11:23.290989Z",
     "shell.execute_reply": "2021-08-08T16:11:23.290364Z",
     "shell.execute_reply.started": "2021-08-08T16:00:33.808181Z"
    },
    "papermill": {
     "duration": 0.389349,
     "end_time": "2021-08-08T16:11:23.291133",
     "exception": false,
     "start_time": "2021-08-08T16:11:22.901784",
     "status": "completed"
    },
    "tags": []
   },
   "outputs": [
    {
     "data": {
      "text/plain": [
       "count    610792.000000\n",
       "mean        142.486562\n",
       "std         761.014785\n",
       "min           0.000000\n",
       "25%          29.307692\n",
       "50%          59.086957\n",
       "75%         120.291667\n",
       "max      157895.500000\n",
       "Name: prev_time_elapsed, dtype: float64"
      ]
     },
     "execution_count": 19,
     "metadata": {},
     "output_type": "execute_result"
    }
   ],
   "source": [
    "data['prev_time_elapsed'].describe()"
   ]
  },
  {
   "cell_type": "code",
   "execution_count": 20,
   "metadata": {
    "execution": {
     "iopub.execute_input": "2021-08-08T16:11:24.087449Z",
     "iopub.status.busy": "2021-08-08T16:11:24.086627Z",
     "iopub.status.idle": "2021-08-08T16:11:24.619239Z",
     "shell.execute_reply": "2021-08-08T16:11:24.619776Z",
     "shell.execute_reply.started": "2021-08-08T16:00:33.837241Z"
    },
    "papermill": {
     "duration": 0.963161,
     "end_time": "2021-08-08T16:11:24.619969",
     "exception": false,
     "start_time": "2021-08-08T16:11:23.656808",
     "status": "completed"
    },
    "tags": []
   },
   "outputs": [
    {
     "data": {
      "text/plain": [
       "73"
      ]
     },
     "execution_count": 20,
     "metadata": {},
     "output_type": "execute_result"
    }
   ],
   "source": [
    "#now we can drop end practice\n",
    "data.drop(columns=['end_practice'], inplace=True)\n",
    "data = data.sort_values(['start_practice'], ascending=True).reset_index(drop=True)\n",
    "data['answered_correctly'] = data['q']\n",
    "data.drop(columns='q', inplace=True)\n",
    "gc.collect()"
   ]
  },
  {
   "cell_type": "code",
   "execution_count": 21,
   "metadata": {
    "execution": {
     "iopub.execute_input": "2021-08-08T16:11:25.433897Z",
     "iopub.status.busy": "2021-08-08T16:11:25.432799Z",
     "iopub.status.idle": "2021-08-08T16:11:25.436790Z",
     "shell.execute_reply": "2021-08-08T16:11:25.437268Z",
     "shell.execute_reply.started": "2021-08-08T16:00:34.426629Z"
    },
    "papermill": {
     "duration": 0.45083,
     "end_time": "2021-08-08T16:11:25.437415",
     "exception": false,
     "start_time": "2021-08-08T16:11:24.986585",
     "status": "completed"
    },
    "tags": []
   },
   "outputs": [
    {
     "data": {
      "text/plain": [
       "20"
      ]
     },
     "execution_count": 21,
     "metadata": {},
     "output_type": "execute_result"
    }
   ],
   "source": [
    "gc.collect()"
   ]
  },
  {
   "cell_type": "code",
   "execution_count": 24,
   "metadata": {
    "execution": {
     "iopub.execute_input": "2021-08-08T16:11:28.135221Z",
     "iopub.status.busy": "2021-08-08T16:11:28.134208Z",
     "iopub.status.idle": "2021-08-08T16:11:28.317284Z",
     "shell.execute_reply": "2021-08-08T16:11:28.316705Z",
     "shell.execute_reply.started": "2021-08-08T16:00:34.504673Z"
    },
    "papermill": {
     "duration": 0.803292,
     "end_time": "2021-08-08T16:11:28.317393",
     "exception": false,
     "start_time": "2021-08-08T16:11:27.514101",
     "status": "completed"
    },
    "tags": []
   },
   "outputs": [],
   "source": [
    "data.fillna(0, inplace=True)"
   ]
  },
  {
   "cell_type": "code",
   "execution_count": 25,
   "metadata": {
    "execution": {
     "iopub.execute_input": "2021-08-08T16:11:29.095591Z",
     "iopub.status.busy": "2021-08-08T16:11:29.094680Z",
     "iopub.status.idle": "2021-08-08T16:11:29.101848Z",
     "shell.execute_reply": "2021-08-08T16:11:29.101405Z",
     "shell.execute_reply.started": "2021-08-08T16:01:05.106164Z"
    },
    "papermill": {
     "duration": 0.420779,
     "end_time": "2021-08-08T16:11:29.101939",
     "exception": false,
     "start_time": "2021-08-08T16:11:28.681160",
     "status": "completed"
    },
    "tags": []
   },
   "outputs": [],
   "source": [
    "MAX_SEQ = 2\n",
    "n_part = data['sub_chapter_id'].nunique() + 1\n",
    "D_MODEL = 128\n",
    "N_LAYER = 2\n",
    "DROPOUT = 0.2"
   ]
  },
  {
   "cell_type": "code",
   "execution_count": 26,
   "metadata": {
    "execution": {
     "iopub.execute_input": "2021-08-08T16:11:29.857324Z",
     "iopub.status.busy": "2021-08-08T16:11:29.856385Z",
     "iopub.status.idle": "2021-08-08T16:11:29.886275Z",
     "shell.execute_reply": "2021-08-08T16:11:29.887202Z",
     "shell.execute_reply.started": "2021-08-08T16:01:07.964699Z"
    },
    "papermill": {
     "duration": 0.423507,
     "end_time": "2021-08-08T16:11:29.887394",
     "exception": false,
     "start_time": "2021-08-08T16:11:29.463887",
     "status": "completed"
    },
    "tags": []
   },
   "outputs": [],
   "source": [
    "class FFN(nn.Module):\n",
    "    def __init__(self, state_size=200):\n",
    "        super(FFN, self).__init__()\n",
    "        self.state_size = state_size\n",
    "\n",
    "        self.lr1 = nn.Linear(state_size, state_size)\n",
    "        self.relu = nn.ReLU()\n",
    "        self.lr2 = nn.Linear(state_size, state_size)\n",
    "        self.dropout = nn.Dropout(DROPOUT)\n",
    "    \n",
    "    def forward(self, x):\n",
    "        x = self.lr1(x)\n",
    "        x = self.relu(x)\n",
    "        x = self.lr2(x)\n",
    "        return self.dropout(x)\n",
    "\n",
    "def future_mask(seq_length):\n",
    "    future_mask = np.triu(np.ones((seq_length, seq_length)), k=1).astype('bool')\n",
    "    return torch.from_numpy(future_mask)\n",
    "\n",
    "\n",
    "class SAINTModel(nn.Module):\n",
    "    def __init__(self, n_skill, n_part, max_seq=MAX_SEQ, embed_dim= D_MODEL, elapsed_time_cat_flag = False):\n",
    "        super(SAINTModel, self).__init__()\n",
    "\n",
    "        self.n_skill = n_skill\n",
    "        self.embed_dim = embed_dim\n",
    "        self.n_chapter= 39\n",
    "        self.n_sub_chapter = n_part\n",
    "        self.elapsed_time_cat_flag = elapsed_time_cat_flag\n",
    "\n",
    "        self.q_embedding = nn.Embedding(self.n_skill+1, embed_dim) ## exercise\n",
    "        self.c_embedding = nn.Embedding(self.n_chapter+1, embed_dim) ## category\n",
    "        self.sc_embedding = nn.Embedding(self.n_sub_chapter, embed_dim) ## category\n",
    "        self.pos_embedding = nn.Embedding(max_seq+1, embed_dim) ## position\n",
    "        self.res_embedding = nn.Embedding(2+1, embed_dim) ## response\n",
    "        self.feat_embedding = nn.Linear(2, embed_dim)\n",
    "    \n",
    "\n",
    "\n",
    "\n",
    "        self.transformer = nn.Transformer(nhead=8, d_model = embed_dim, num_encoder_layers= N_LAYER, num_decoder_layers= N_LAYER, dropout = DROPOUT)\n",
    "\n",
    "        self.dropout = nn.Dropout(DROPOUT)\n",
    "        self.layer_normal = nn.LayerNorm(embed_dim) \n",
    "        self.ffn = FFN(embed_dim)\n",
    "        self.pred = nn.Linear(embed_dim, 1)\n",
    "    \n",
    "    def forward(self, question, chapter, schapter, response, user_features):\n",
    "\n",
    "        device = question.device  \n",
    "        ## embedding layer\n",
    "        question = self.q_embedding(question)\n",
    "        chapter = self.c_embedding(chapter)\n",
    "        schapter = self.sc_embedding(schapter)\n",
    "        pos_id = torch.arange(question.size(1)).unsqueeze(0).to(device)\n",
    "        pos_id = self.pos_embedding(pos_id)\n",
    "        res = self.res_embedding(response)\n",
    "        user_features = self.feat_embedding(user_features)\n",
    "        \n",
    "\n",
    "        enc = pos_id + question + chapter + schapter \n",
    "        dec = pos_id + res + enc + user_features\n",
    "        enc = enc.permute(1, 0, 2) # x: [bs, s_len, embed] => [s_len, bs, embed]\n",
    "        dec = dec.permute(1, 0, 2)\n",
    "        mask = future_mask(enc.size(0)).to(device)\n",
    "        att_output = self.transformer(enc, dec, src_mask=mask, tgt_mask=mask, memory_mask = mask)\n",
    "        att_output = self.layer_normal(att_output)\n",
    "        att_output = att_output.permute(1, 0, 2) # att_output: [s_len, bs, embed] => [bs, s_len, embed]\n",
    "        \n",
    "        \n",
    "        x = self.ffn(att_output)\n",
    "        x = self.layer_normal(x + att_output)\n",
    "        x = self.pred(x)\n",
    "\n",
    "        return x.squeeze(-1)"
   ]
  },
  {
   "cell_type": "code",
   "execution_count": 27,
   "metadata": {
    "execution": {
     "iopub.execute_input": "2021-08-08T16:11:30.854950Z",
     "iopub.status.busy": "2021-08-08T16:11:30.854120Z",
     "iopub.status.idle": "2021-08-08T16:11:30.860984Z",
     "shell.execute_reply": "2021-08-08T16:11:30.860513Z",
     "shell.execute_reply.started": "2021-08-08T16:01:10.271530Z"
    },
    "papermill": {
     "duration": 0.373965,
     "end_time": "2021-08-08T16:11:30.861091",
     "exception": false,
     "start_time": "2021-08-08T16:11:30.487126",
     "status": "completed"
    },
    "tags": []
   },
   "outputs": [],
   "source": [
    "n_skill = data['question_id'].nunique() + 1"
   ]
  },
  {
   "cell_type": "code",
   "execution_count": 28,
   "metadata": {
    "execution": {
     "iopub.execute_input": "2021-08-08T16:11:31.604642Z",
     "iopub.status.busy": "2021-08-08T16:11:31.603320Z",
     "iopub.status.idle": "2021-08-08T16:11:31.607307Z",
     "shell.execute_reply": "2021-08-08T16:11:31.607792Z",
     "shell.execute_reply.started": "2021-08-08T16:01:11.579255Z"
    },
    "papermill": {
     "duration": 0.378165,
     "end_time": "2021-08-08T16:11:31.607923",
     "exception": false,
     "start_time": "2021-08-08T16:11:31.229758",
     "status": "completed"
    },
    "tags": []
   },
   "outputs": [
    {
     "data": {
      "text/plain": [
       "1069"
      ]
     },
     "execution_count": 28,
     "metadata": {},
     "output_type": "execute_result"
    }
   ],
   "source": [
    "n_skill"
   ]
  },
  {
   "cell_type": "code",
   "execution_count": 29,
   "metadata": {
    "execution": {
     "iopub.execute_input": "2021-08-08T16:11:32.364523Z",
     "iopub.status.busy": "2021-08-08T16:11:32.362667Z",
     "iopub.status.idle": "2021-08-08T16:11:32.365126Z",
     "shell.execute_reply": "2021-08-08T16:11:32.365571Z",
     "shell.execute_reply.started": "2021-08-08T16:01:12.586121Z"
    },
    "papermill": {
     "duration": 0.391984,
     "end_time": "2021-08-08T16:11:32.365708",
     "exception": false,
     "start_time": "2021-08-08T16:11:31.973724",
     "status": "completed"
    },
    "tags": []
   },
   "outputs": [],
   "source": [
    "class PRACTICE_DATASET(Dataset):\n",
    "    def __init__(self, data, maxlength=MAX_SEQ, test=False):\n",
    "        super(PRACTICE_DATASET, self).__init__()\n",
    "        self.maxlength = maxlength\n",
    "        self.data = data\n",
    "        self.test = test\n",
    "        self.users = list()\n",
    "        for user in data.index:\n",
    "            self.users.append(user)\n",
    "            \n",
    "    def __len__(self):\n",
    "        return len(self.users)\n",
    "    \n",
    "    def __getitem__(self, ix):\n",
    "        user = self.users[ix]\n",
    "        question_id, chapter, schapter, term, user_feats, labels = self.data[user]\n",
    "        question_id = np.array(question_id, np.int16)\n",
    "        chapter = np.array(chapter, np.int16)\n",
    "        schapter = np.array(schapter, np.int16)\n",
    "        user_feats = np.array(user_feats, np.float)\n",
    "        labels = np.array(labels, np.int8)   \n",
    "            \n",
    "        term = term.values\n",
    "        term_encode = [0]*7\n",
    "        term_encode[term[0]] = 1\n",
    "        n = len(question_id)\n",
    "        \n",
    "        if n > self.maxlength:\n",
    "            question_id = question_id[-self.maxlength : ]\n",
    "            chapter = chapter[-self.maxlength :]\n",
    "            schapter = schapter[-self.maxlength: ]\n",
    "            user_feats = user_feats[-self.maxlength :, :]\n",
    "            labels = labels[-self.maxlength: ]\n",
    "            responses = np.append(2, labels[:-1])\n",
    "        else:\n",
    "            question_id = np.pad(question_id, (self.maxlength - n, 0))\n",
    "            chapter = np.pad(chapter, (self.maxlength - n, 0))\n",
    "            schapter = np.pad(schapter, (self.maxlength - n, 0))\n",
    "            user_feats = [[0]*len(user_feats[0])]*(self.maxlength  - n)+list(user_feats[:])\n",
    "            user_feats = np.array(user_feats, np.float)\n",
    "            responses = np.append(2, labels[:-1])\n",
    "            labels = np.pad(labels, (self.maxlength - n, 0))\n",
    "            responses = np.pad(responses, (self.maxlength - n, 0), mode='constant', constant_values = 2)\n",
    "        \n",
    "        new_features = []\n",
    "        count = 0\n",
    "        for f in user_feats:\n",
    "          temp = list(f)\n",
    "#           temp.extend(term_encode)\n",
    "          new_features.append(temp)\n",
    "          count += 1\n",
    "        user_feats = new_features\n",
    "        \n",
    "        return question_id, chapter, schapter, responses, np.array(user_feats), labels "
   ]
  },
  {
   "cell_type": "code",
   "execution_count": 30,
   "metadata": {
    "execution": {
     "iopub.execute_input": "2021-08-08T16:11:33.101094Z",
     "iopub.status.busy": "2021-08-08T16:11:33.099856Z",
     "iopub.status.idle": "2021-08-08T16:11:33.446095Z",
     "shell.execute_reply": "2021-08-08T16:11:33.446699Z",
     "shell.execute_reply.started": "2021-08-08T16:01:13.791791Z"
    },
    "papermill": {
     "duration": 0.719714,
     "end_time": "2021-08-08T16:11:33.446874",
     "exception": false,
     "start_time": "2021-08-08T16:11:32.727160",
     "status": "completed"
    },
    "tags": []
   },
   "outputs": [],
   "source": [
    "NUMERIC_FEATURE =  ['age',\n",
    "            'exclClassCumGPA',\n",
    "            'termCreditsGPA',\n",
    "            'termCreditsNoGPA',\n",
    "            'highSchoolGPA', \n",
    "            'majorsCount', 'minorsCount',\n",
    "            'PREV_TERM_CUM_GPA',\n",
    "            \"day's_available_flashcards\", \n",
    "            'days_offset', \n",
    "            'prev_time_elapsed',\n",
    "             'time_lag']\n",
    " \n",
    "for f in NUMERIC_FEATURE:\n",
    "  m = data[f].mean()\n",
    "  std = data[f].std()\n",
    "  data[f] = (data[f] - m)/std"
   ]
  },
  {
   "cell_type": "code",
   "execution_count": 31,
   "metadata": {
    "execution": {
     "iopub.execute_input": "2021-08-08T16:11:34.189112Z",
     "iopub.status.busy": "2021-08-08T16:11:34.188102Z",
     "iopub.status.idle": "2021-08-08T16:11:35.709670Z",
     "shell.execute_reply": "2021-08-08T16:11:35.709051Z",
     "shell.execute_reply.started": "2021-08-08T16:01:15.641896Z"
    },
    "papermill": {
     "duration": 1.897858,
     "end_time": "2021-08-08T16:11:35.709860",
     "exception": false,
     "start_time": "2021-08-08T16:11:33.812002",
     "status": "completed"
    },
    "tags": []
   },
   "outputs": [],
   "source": [
    "#group data based on user id\n",
    "group = data.groupby(['user_id.x']).apply(lambda r: (\n",
    "                r['question_id'],\n",
    "                r['chapter_id'],\n",
    "                r['sub_chapter_id'],\n",
    "                r['term'],\n",
    "                np.array([\n",
    "#                     r['STDNT_SEX_CD'],r['STDNT_CTZN_STAT_CD'], r['international'], \n",
    "#                   r['White'],r['Asian'],r['NonWhiteOrAsian'], r['age'],r['exclClassCumGPA'],\n",
    "#                 r['Freshman'], r['Junior'], r['Sophomore'], r['Senior'],\n",
    "#                 r['termCreditsGPA'], r['termCreditsNoGPA'],\n",
    "#                 r['athlete_1'], r['honorsPro'],\n",
    "#                 r['LSA'], r['programBusiness'], r['programEngineering'], \n",
    "#                 r['programInformation'], r['programOther'],\n",
    "#                 r['HSCalculusTaken'],  r['highSchoolGPA'], \n",
    "#                 r['majorsCount'], r['minorsCount'],\n",
    "#                 r['PREV_TERM_CUM_GPA'], \n",
    "#                 r['parentsGraduateEdu'], r['minorityGroup'],\n",
    "#                 r[\"day's_available_flashcards\"],\n",
    "#                 r['days_offset'],\n",
    "                r['prev_time_elapsed'],\n",
    "                r['time_lag']\n",
    "              ]).transpose(),\n",
    "                r['answered_correctly'],\n",
    "                ))"
   ]
  },
  {
   "cell_type": "code",
   "execution_count": 32,
   "metadata": {
    "execution": {
     "iopub.execute_input": "2021-08-08T16:11:36.444485Z",
     "iopub.status.busy": "2021-08-08T16:11:36.443880Z",
     "iopub.status.idle": "2021-08-08T16:11:36.447419Z",
     "shell.execute_reply": "2021-08-08T16:11:36.447914Z",
     "shell.execute_reply.started": "2021-08-08T16:01:17.238676Z"
    },
    "papermill": {
     "duration": 0.371204,
     "end_time": "2021-08-08T16:11:36.448055",
     "exception": false,
     "start_time": "2021-08-08T16:11:36.076851",
     "status": "completed"
    },
    "tags": []
   },
   "outputs": [],
   "source": [
    "patience = 5"
   ]
  },
  {
   "cell_type": "code",
   "execution_count": 33,
   "metadata": {
    "execution": {
     "iopub.execute_input": "2021-08-08T16:11:37.197663Z",
     "iopub.status.busy": "2021-08-08T16:11:37.196784Z",
     "iopub.status.idle": "2021-08-08T16:11:37.200776Z",
     "shell.execute_reply": "2021-08-08T16:11:37.200370Z",
     "shell.execute_reply.started": "2021-08-08T16:01:17.890474Z"
    },
    "papermill": {
     "duration": 0.391792,
     "end_time": "2021-08-08T16:11:37.200880",
     "exception": false,
     "start_time": "2021-08-08T16:11:36.809088",
     "status": "completed"
    },
    "tags": []
   },
   "outputs": [],
   "source": [
    "# remove students who don't have make any interactions with the tool\n",
    "toRemove = []\n",
    "for index in group.index:\n",
    "  if len(group[index][0]) <= 10:\n",
    "    toRemove.append(index)\n",
    "group = group.drop(index=toRemove)"
   ]
  },
  {
   "cell_type": "code",
   "execution_count": 34,
   "metadata": {
    "execution": {
     "iopub.execute_input": "2021-08-08T16:11:38.017123Z",
     "iopub.status.busy": "2021-08-08T16:11:37.944702Z",
     "iopub.status.idle": "2021-08-08T16:12:49.062583Z",
     "shell.execute_reply": "2021-08-08T16:12:49.062104Z",
     "shell.execute_reply.started": "2021-08-08T16:01:18.899271Z"
    },
    "papermill": {
     "duration": 71.49965,
     "end_time": "2021-08-08T16:12:49.062687",
     "exception": false,
     "start_time": "2021-08-08T16:11:37.563037",
     "status": "completed"
    },
    "tags": []
   },
   "outputs": [
    {
     "name": "stderr",
     "output_type": "stream",
     "text": [
      "  0%|          | 0/28 [00:00<?, ?it/s]"
     ]
    },
    {
     "name": "stdout",
     "output_type": "stream",
     "text": [
      "----------------------------------------------------------------------------\n"
     ]
    },
    {
     "name": "stderr",
     "output_type": "stream",
     "text": [
      "loss - 0.5593: 100%|██████████| 28/28 [00:01<00:00, 16.00it/s]\n",
      "  0%|          | 0/4 [00:00<?, ?it/s]"
     ]
    },
    {
     "name": "stdout",
     "output_type": "stream",
     "text": [
      "epoch - 0 train_loss - 0.60 acc - 0.716 auc - 0.541\n"
     ]
    },
    {
     "name": "stderr",
     "output_type": "stream",
     "text": [
      "valid loss - 0.5020: 100%|██████████| 4/4 [00:00<00:00, 12.59it/s]\n",
      "  0%|          | 0/28 [00:00<?, ?it/s]"
     ]
    },
    {
     "name": "stdout",
     "output_type": "stream",
     "text": [
      "epoch - 0 val_loss - 0.56 val acc - 0.734 val auc - 0.654\n"
     ]
    },
    {
     "name": "stderr",
     "output_type": "stream",
     "text": [
      "loss - 0.4857: 100%|██████████| 28/28 [00:01<00:00, 24.21it/s]\n",
      "  0%|          | 0/4 [00:00<?, ?it/s]"
     ]
    },
    {
     "name": "stdout",
     "output_type": "stream",
     "text": [
      "epoch - 1 train_loss - 0.57 acc - 0.729 auc - 0.601\n"
     ]
    },
    {
     "name": "stderr",
     "output_type": "stream",
     "text": [
      "valid loss - 0.4194: 100%|██████████| 4/4 [00:00<00:00, 12.69it/s]\n",
      "  0%|          | 0/28 [00:00<?, ?it/s]"
     ]
    },
    {
     "name": "stdout",
     "output_type": "stream",
     "text": [
      "epoch - 1 val_loss - 0.58 val acc - 0.721 val auc - 0.662\n"
     ]
    },
    {
     "name": "stderr",
     "output_type": "stream",
     "text": [
      "loss - 0.3850: 100%|██████████| 28/28 [00:01<00:00, 24.80it/s]\n",
      "  0%|          | 0/4 [00:00<?, ?it/s]"
     ]
    },
    {
     "name": "stdout",
     "output_type": "stream",
     "text": [
      "epoch - 2 train_loss - 0.54 acc - 0.744 auc - 0.683\n"
     ]
    },
    {
     "name": "stderr",
     "output_type": "stream",
     "text": [
      "valid loss - 0.7744: 100%|██████████| 4/4 [00:00<00:00, 12.36it/s]\n",
      "  0%|          | 0/28 [00:00<?, ?it/s]"
     ]
    },
    {
     "name": "stdout",
     "output_type": "stream",
     "text": [
      "epoch - 2 val_loss - 0.60 val acc - 0.739 val auc - 0.678\n"
     ]
    },
    {
     "name": "stderr",
     "output_type": "stream",
     "text": [
      "loss - 0.5219: 100%|██████████| 28/28 [00:01<00:00, 24.07it/s]\n",
      "  0%|          | 0/4 [00:00<?, ?it/s]"
     ]
    },
    {
     "name": "stdout",
     "output_type": "stream",
     "text": [
      "epoch - 3 train_loss - 0.51 acc - 0.752 auc - 0.733\n"
     ]
    },
    {
     "name": "stderr",
     "output_type": "stream",
     "text": [
      "valid loss - 0.7017: 100%|██████████| 4/4 [00:00<00:00, 12.14it/s]\n",
      "  0%|          | 0/28 [00:00<?, ?it/s]"
     ]
    },
    {
     "name": "stdout",
     "output_type": "stream",
     "text": [
      "epoch - 3 val_loss - 0.60 val acc - 0.676 val auc - 0.671\n"
     ]
    },
    {
     "name": "stderr",
     "output_type": "stream",
     "text": [
      "loss - 0.3054: 100%|██████████| 28/28 [00:01<00:00, 23.98it/s]\n",
      "  0%|          | 0/4 [00:00<?, ?it/s]"
     ]
    },
    {
     "name": "stdout",
     "output_type": "stream",
     "text": [
      "epoch - 4 train_loss - 0.48 acc - 0.779 auc - 0.784\n"
     ]
    },
    {
     "name": "stderr",
     "output_type": "stream",
     "text": [
      "valid loss - 0.7796: 100%|██████████| 4/4 [00:00<00:00, 11.77it/s]\n",
      "  0%|          | 0/28 [00:00<?, ?it/s]"
     ]
    },
    {
     "name": "stdout",
     "output_type": "stream",
     "text": [
      "epoch - 4 val_loss - 0.65 val acc - 0.739 val auc - 0.697\n"
     ]
    },
    {
     "name": "stderr",
     "output_type": "stream",
     "text": [
      "loss - 0.4978: 100%|██████████| 28/28 [00:01<00:00, 22.65it/s]\n",
      "  0%|          | 0/4 [00:00<?, ?it/s]"
     ]
    },
    {
     "name": "stdout",
     "output_type": "stream",
     "text": [
      "epoch - 5 train_loss - 0.44 acc - 0.795 auc - 0.826\n"
     ]
    },
    {
     "name": "stderr",
     "output_type": "stream",
     "text": [
      "valid loss - 0.8361: 100%|██████████| 4/4 [00:00<00:00, 11.57it/s]\n",
      "  0%|          | 0/4 [00:00<?, ?it/s]"
     ]
    },
    {
     "name": "stdout",
     "output_type": "stream",
     "text": [
      "epoch - 5 val_loss - 0.64 val acc - 0.725 val auc - 0.696\n",
      "Val Loss does not improve for 5 consecutive epochs\n"
     ]
    },
    {
     "name": "stderr",
     "output_type": "stream",
     "text": [
      "valid loss - 0.6142: 100%|██████████| 4/4 [00:00<00:00, 11.99it/s]\n",
      "  0%|          | 0/28 [00:00<?, ?it/s]"
     ]
    },
    {
     "name": "stdout",
     "output_type": "stream",
     "text": [
      "epoch - 5 test_loss - 0.64 acc - 0.716 auc - 0.650\n",
      "----------------------------------------------------------------------------\n"
     ]
    },
    {
     "name": "stderr",
     "output_type": "stream",
     "text": [
      "loss - 0.6055: 100%|██████████| 28/28 [00:01<00:00, 19.45it/s]\n",
      "  0%|          | 0/4 [00:00<?, ?it/s]"
     ]
    },
    {
     "name": "stdout",
     "output_type": "stream",
     "text": [
      "epoch - 0 train_loss - 0.63 acc - 0.704 auc - 0.518\n"
     ]
    },
    {
     "name": "stderr",
     "output_type": "stream",
     "text": [
      "valid loss - 0.5347: 100%|██████████| 4/4 [00:00<00:00, 11.31it/s]\n",
      "  0%|          | 0/28 [00:00<?, ?it/s]"
     ]
    },
    {
     "name": "stdout",
     "output_type": "stream",
     "text": [
      "epoch - 0 val_loss - 0.50 val acc - 0.797 val auc - 0.655\n"
     ]
    },
    {
     "name": "stderr",
     "output_type": "stream",
     "text": [
      "loss - 0.4370: 100%|██████████| 28/28 [00:01<00:00, 22.86it/s]\n",
      "  0%|          | 0/4 [00:00<?, ?it/s]"
     ]
    },
    {
     "name": "stdout",
     "output_type": "stream",
     "text": [
      "epoch - 1 train_loss - 0.56 acc - 0.730 auc - 0.656\n"
     ]
    },
    {
     "name": "stderr",
     "output_type": "stream",
     "text": [
      "valid loss - 0.4097: 100%|██████████| 4/4 [00:00<00:00, 11.43it/s]\n",
      "  0%|          | 0/28 [00:00<?, ?it/s]"
     ]
    },
    {
     "name": "stdout",
     "output_type": "stream",
     "text": [
      "epoch - 1 val_loss - 0.47 val acc - 0.802 val auc - 0.700\n"
     ]
    },
    {
     "name": "stderr",
     "output_type": "stream",
     "text": [
      "loss - 0.4821: 100%|██████████| 28/28 [00:01<00:00, 23.07it/s]\n",
      "  0%|          | 0/4 [00:00<?, ?it/s]"
     ]
    },
    {
     "name": "stdout",
     "output_type": "stream",
     "text": [
      "epoch - 2 train_loss - 0.53 acc - 0.746 auc - 0.710\n"
     ]
    },
    {
     "name": "stderr",
     "output_type": "stream",
     "text": [
      "valid loss - 0.6027: 100%|██████████| 4/4 [00:00<00:00, 10.75it/s]\n",
      "  0%|          | 0/28 [00:00<?, ?it/s]"
     ]
    },
    {
     "name": "stdout",
     "output_type": "stream",
     "text": [
      "epoch - 2 val_loss - 0.49 val acc - 0.802 val auc - 0.673\n"
     ]
    },
    {
     "name": "stderr",
     "output_type": "stream",
     "text": [
      "loss - 0.6457: 100%|██████████| 28/28 [00:01<00:00, 22.51it/s]\n",
      "  0%|          | 0/4 [00:00<?, ?it/s]"
     ]
    },
    {
     "name": "stdout",
     "output_type": "stream",
     "text": [
      "epoch - 3 train_loss - 0.51 acc - 0.764 auc - 0.743\n"
     ]
    },
    {
     "name": "stderr",
     "output_type": "stream",
     "text": [
      "valid loss - 0.4598: 100%|██████████| 4/4 [00:00<00:00, 12.05it/s]\n",
      "  0%|          | 0/28 [00:00<?, ?it/s]"
     ]
    },
    {
     "name": "stdout",
     "output_type": "stream",
     "text": [
      "epoch - 3 val_loss - 0.44 val acc - 0.797 val auc - 0.768\n"
     ]
    },
    {
     "name": "stderr",
     "output_type": "stream",
     "text": [
      "loss - 0.5465: 100%|██████████| 28/28 [00:01<00:00, 23.34it/s]\n",
      "  0%|          | 0/4 [00:00<?, ?it/s]"
     ]
    },
    {
     "name": "stdout",
     "output_type": "stream",
     "text": [
      "epoch - 4 train_loss - 0.48 acc - 0.780 auc - 0.787\n"
     ]
    },
    {
     "name": "stderr",
     "output_type": "stream",
     "text": [
      "valid loss - 0.5139: 100%|██████████| 4/4 [00:00<00:00, 11.88it/s]\n",
      "  0%|          | 0/28 [00:00<?, ?it/s]"
     ]
    },
    {
     "name": "stdout",
     "output_type": "stream",
     "text": [
      "epoch - 4 val_loss - 0.47 val acc - 0.775 val auc - 0.748\n"
     ]
    },
    {
     "name": "stderr",
     "output_type": "stream",
     "text": [
      "loss - 0.4960: 100%|██████████| 28/28 [00:01<00:00, 17.21it/s]\n",
      "  0%|          | 0/4 [00:00<?, ?it/s]"
     ]
    },
    {
     "name": "stdout",
     "output_type": "stream",
     "text": [
      "epoch - 5 train_loss - 0.46 acc - 0.788 auc - 0.808\n"
     ]
    },
    {
     "name": "stderr",
     "output_type": "stream",
     "text": [
      "valid loss - 0.5670: 100%|██████████| 4/4 [00:00<00:00, 11.55it/s]\n",
      "  0%|          | 0/28 [00:00<?, ?it/s]"
     ]
    },
    {
     "name": "stdout",
     "output_type": "stream",
     "text": [
      "epoch - 5 val_loss - 0.49 val acc - 0.775 val auc - 0.703\n"
     ]
    },
    {
     "name": "stderr",
     "output_type": "stream",
     "text": [
      "loss - 0.4935: 100%|██████████| 28/28 [00:01<00:00, 20.71it/s]\n",
      "  0%|          | 0/4 [00:00<?, ?it/s]"
     ]
    },
    {
     "name": "stdout",
     "output_type": "stream",
     "text": [
      "epoch - 6 train_loss - 0.43 acc - 0.806 auc - 0.833\n"
     ]
    },
    {
     "name": "stderr",
     "output_type": "stream",
     "text": [
      "valid loss - 0.6563: 100%|██████████| 4/4 [00:00<00:00, 10.80it/s]\n",
      "  0%|          | 0/28 [00:00<?, ?it/s]"
     ]
    },
    {
     "name": "stdout",
     "output_type": "stream",
     "text": [
      "epoch - 6 val_loss - 0.53 val acc - 0.784 val auc - 0.707\n"
     ]
    },
    {
     "name": "stderr",
     "output_type": "stream",
     "text": [
      "loss - 0.5167: 100%|██████████| 28/28 [00:01<00:00, 23.64it/s]\n",
      "  0%|          | 0/4 [00:00<?, ?it/s]"
     ]
    },
    {
     "name": "stdout",
     "output_type": "stream",
     "text": [
      "epoch - 7 train_loss - 0.42 acc - 0.808 auc - 0.852\n"
     ]
    },
    {
     "name": "stderr",
     "output_type": "stream",
     "text": [
      "valid loss - 0.5037: 100%|██████████| 4/4 [00:00<00:00, 12.06it/s]\n",
      "  0%|          | 0/28 [00:00<?, ?it/s]"
     ]
    },
    {
     "name": "stdout",
     "output_type": "stream",
     "text": [
      "epoch - 7 val_loss - 0.53 val acc - 0.770 val auc - 0.720\n"
     ]
    },
    {
     "name": "stderr",
     "output_type": "stream",
     "text": [
      "loss - 0.4673: 100%|██████████| 28/28 [00:01<00:00, 23.56it/s]\n",
      "  0%|          | 0/4 [00:00<?, ?it/s]"
     ]
    },
    {
     "name": "stdout",
     "output_type": "stream",
     "text": [
      "epoch - 8 train_loss - 0.40 acc - 0.808 auc - 0.866\n"
     ]
    },
    {
     "name": "stderr",
     "output_type": "stream",
     "text": [
      "valid loss - 0.5496: 100%|██████████| 4/4 [00:00<00:00, 11.11it/s]\n",
      "  0%|          | 0/4 [00:00<?, ?it/s]"
     ]
    },
    {
     "name": "stdout",
     "output_type": "stream",
     "text": [
      "epoch - 8 val_loss - 0.52 val acc - 0.784 val auc - 0.731\n",
      "Val Loss does not improve for 5 consecutive epochs\n"
     ]
    },
    {
     "name": "stderr",
     "output_type": "stream",
     "text": [
      "valid loss - 0.8634: 100%|██████████| 4/4 [00:00<00:00, 11.59it/s]\n",
      "  0%|          | 0/28 [00:00<?, ?it/s]"
     ]
    },
    {
     "name": "stdout",
     "output_type": "stream",
     "text": [
      "epoch - 8 test_loss - 0.64 acc - 0.739 auc - 0.720\n",
      "----------------------------------------------------------------------------\n"
     ]
    },
    {
     "name": "stderr",
     "output_type": "stream",
     "text": [
      "loss - 0.4441: 100%|██████████| 28/28 [00:01<00:00, 19.66it/s]\n",
      "  0%|          | 0/4 [00:00<?, ?it/s]"
     ]
    },
    {
     "name": "stdout",
     "output_type": "stream",
     "text": [
      "epoch - 0 train_loss - 0.61 acc - 0.717 auc - 0.525\n"
     ]
    },
    {
     "name": "stderr",
     "output_type": "stream",
     "text": [
      "valid loss - 0.5905: 100%|██████████| 4/4 [00:00<00:00,  9.97it/s]\n",
      "  0%|          | 0/28 [00:00<?, ?it/s]"
     ]
    },
    {
     "name": "stdout",
     "output_type": "stream",
     "text": [
      "epoch - 0 val_loss - 0.60 val acc - 0.725 val auc - 0.635\n"
     ]
    },
    {
     "name": "stderr",
     "output_type": "stream",
     "text": [
      "loss - 0.3787: 100%|██████████| 28/28 [00:01<00:00, 23.38it/s]\n",
      "  0%|          | 0/4 [00:00<?, ?it/s]"
     ]
    },
    {
     "name": "stdout",
     "output_type": "stream",
     "text": [
      "epoch - 1 train_loss - 0.55 acc - 0.744 auc - 0.642\n"
     ]
    },
    {
     "name": "stderr",
     "output_type": "stream",
     "text": [
      "valid loss - 0.5330: 100%|██████████| 4/4 [00:00<00:00, 11.82it/s]\n",
      "  0%|          | 0/28 [00:00<?, ?it/s]"
     ]
    },
    {
     "name": "stdout",
     "output_type": "stream",
     "text": [
      "epoch - 1 val_loss - 0.58 val acc - 0.721 val auc - 0.617\n"
     ]
    },
    {
     "name": "stderr",
     "output_type": "stream",
     "text": [
      "loss - 0.4775: 100%|██████████| 28/28 [00:01<00:00, 23.22it/s]\n",
      "  0%|          | 0/4 [00:00<?, ?it/s]"
     ]
    },
    {
     "name": "stdout",
     "output_type": "stream",
     "text": [
      "epoch - 2 train_loss - 0.52 acc - 0.747 auc - 0.703\n"
     ]
    },
    {
     "name": "stderr",
     "output_type": "stream",
     "text": [
      "valid loss - 0.6453: 100%|██████████| 4/4 [00:00<00:00, 11.79it/s]\n",
      "  0%|          | 0/28 [00:00<?, ?it/s]"
     ]
    },
    {
     "name": "stdout",
     "output_type": "stream",
     "text": [
      "epoch - 2 val_loss - 0.59 val acc - 0.707 val auc - 0.635\n"
     ]
    },
    {
     "name": "stderr",
     "output_type": "stream",
     "text": [
      "loss - 0.3982: 100%|██████████| 28/28 [00:01<00:00, 23.23it/s]\n",
      "  0%|          | 0/4 [00:00<?, ?it/s]"
     ]
    },
    {
     "name": "stdout",
     "output_type": "stream",
     "text": [
      "epoch - 3 train_loss - 0.51 acc - 0.765 auc - 0.716\n"
     ]
    },
    {
     "name": "stderr",
     "output_type": "stream",
     "text": [
      "valid loss - 0.6446: 100%|██████████| 4/4 [00:00<00:00, 11.62it/s]\n",
      "  0%|          | 0/28 [00:00<?, ?it/s]"
     ]
    },
    {
     "name": "stdout",
     "output_type": "stream",
     "text": [
      "epoch - 3 val_loss - 0.63 val acc - 0.716 val auc - 0.630\n"
     ]
    },
    {
     "name": "stderr",
     "output_type": "stream",
     "text": [
      "loss - 0.3905: 100%|██████████| 28/28 [00:01<00:00, 19.93it/s]\n",
      "  0%|          | 0/4 [00:00<?, ?it/s]"
     ]
    },
    {
     "name": "stdout",
     "output_type": "stream",
     "text": [
      "epoch - 4 train_loss - 0.48 acc - 0.784 auc - 0.768\n"
     ]
    },
    {
     "name": "stderr",
     "output_type": "stream",
     "text": [
      "valid loss - 0.9462: 100%|██████████| 4/4 [00:00<00:00, 12.04it/s]\n",
      "  0%|          | 0/28 [00:00<?, ?it/s]"
     ]
    },
    {
     "name": "stdout",
     "output_type": "stream",
     "text": [
      "epoch - 4 val_loss - 0.74 val acc - 0.707 val auc - 0.627\n"
     ]
    },
    {
     "name": "stderr",
     "output_type": "stream",
     "text": [
      "loss - 0.4961: 100%|██████████| 28/28 [00:01<00:00, 22.54it/s]\n",
      "  0%|          | 0/4 [00:00<?, ?it/s]"
     ]
    },
    {
     "name": "stdout",
     "output_type": "stream",
     "text": [
      "epoch - 5 train_loss - 0.44 acc - 0.800 auc - 0.815\n"
     ]
    },
    {
     "name": "stderr",
     "output_type": "stream",
     "text": [
      "valid loss - 0.4959: 100%|██████████| 4/4 [00:00<00:00, 11.78it/s]\n",
      "  0%|          | 0/28 [00:00<?, ?it/s]"
     ]
    },
    {
     "name": "stdout",
     "output_type": "stream",
     "text": [
      "epoch - 5 val_loss - 0.65 val acc - 0.716 val auc - 0.633\n"
     ]
    },
    {
     "name": "stderr",
     "output_type": "stream",
     "text": [
      "loss - 0.3714: 100%|██████████| 28/28 [00:01<00:00, 25.10it/s]\n",
      "  0%|          | 0/4 [00:00<?, ?it/s]"
     ]
    },
    {
     "name": "stdout",
     "output_type": "stream",
     "text": [
      "epoch - 6 train_loss - 0.40 acc - 0.822 auc - 0.852\n"
     ]
    },
    {
     "name": "stderr",
     "output_type": "stream",
     "text": [
      "valid loss - 1.1537: 100%|██████████| 4/4 [00:00<00:00, 12.42it/s]\n",
      "  0%|          | 0/4 [00:00<?, ?it/s]"
     ]
    },
    {
     "name": "stdout",
     "output_type": "stream",
     "text": [
      "epoch - 6 val_loss - 0.80 val acc - 0.694 val auc - 0.627\n",
      "Val Loss does not improve for 5 consecutive epochs\n"
     ]
    },
    {
     "name": "stderr",
     "output_type": "stream",
     "text": [
      "valid loss - 0.9585: 100%|██████████| 4/4 [00:00<00:00, 12.20it/s]\n",
      "  0%|          | 0/28 [00:00<?, ?it/s]"
     ]
    },
    {
     "name": "stdout",
     "output_type": "stream",
     "text": [
      "epoch - 6 test_loss - 0.77 acc - 0.635 auc - 0.640\n",
      "----------------------------------------------------------------------------\n"
     ]
    },
    {
     "name": "stderr",
     "output_type": "stream",
     "text": [
      "loss - 0.6983: 100%|██████████| 28/28 [00:01<00:00, 24.76it/s]\n",
      "  0%|          | 0/4 [00:00<?, ?it/s]"
     ]
    },
    {
     "name": "stdout",
     "output_type": "stream",
     "text": [
      "epoch - 0 train_loss - 0.63 acc - 0.718 auc - 0.478\n"
     ]
    },
    {
     "name": "stderr",
     "output_type": "stream",
     "text": [
      "valid loss - 0.7871: 100%|██████████| 4/4 [00:00<00:00, 12.46it/s]\n",
      "  0%|          | 0/28 [00:00<?, ?it/s]"
     ]
    },
    {
     "name": "stdout",
     "output_type": "stream",
     "text": [
      "epoch - 0 val_loss - 0.68 val acc - 0.662 val auc - 0.692\n"
     ]
    },
    {
     "name": "stderr",
     "output_type": "stream",
     "text": [
      "loss - 0.5670: 100%|██████████| 28/28 [00:01<00:00, 24.91it/s]\n",
      "  0%|          | 0/4 [00:00<?, ?it/s]"
     ]
    },
    {
     "name": "stdout",
     "output_type": "stream",
     "text": [
      "epoch - 1 train_loss - 0.56 acc - 0.743 auc - 0.580\n"
     ]
    },
    {
     "name": "stderr",
     "output_type": "stream",
     "text": [
      "valid loss - 0.6374: 100%|██████████| 4/4 [00:00<00:00, 11.99it/s]\n",
      "  0%|          | 0/28 [00:00<?, ?it/s]"
     ]
    },
    {
     "name": "stdout",
     "output_type": "stream",
     "text": [
      "epoch - 1 val_loss - 0.60 val acc - 0.698 val auc - 0.701\n"
     ]
    },
    {
     "name": "stderr",
     "output_type": "stream",
     "text": [
      "loss - 0.5763: 100%|██████████| 28/28 [00:01<00:00, 24.97it/s]\n",
      "  0%|          | 0/4 [00:00<?, ?it/s]"
     ]
    },
    {
     "name": "stdout",
     "output_type": "stream",
     "text": [
      "epoch - 2 train_loss - 0.53 acc - 0.738 auc - 0.687\n"
     ]
    },
    {
     "name": "stderr",
     "output_type": "stream",
     "text": [
      "valid loss - 0.5427: 100%|██████████| 4/4 [00:00<00:00, 12.39it/s]\n",
      "  0%|          | 0/28 [00:00<?, ?it/s]"
     ]
    },
    {
     "name": "stdout",
     "output_type": "stream",
     "text": [
      "epoch - 2 val_loss - 0.57 val acc - 0.707 val auc - 0.736\n"
     ]
    },
    {
     "name": "stderr",
     "output_type": "stream",
     "text": [
      "loss - 0.3590: 100%|██████████| 28/28 [00:01<00:00, 24.68it/s]\n",
      "  0%|          | 0/4 [00:00<?, ?it/s]"
     ]
    },
    {
     "name": "stdout",
     "output_type": "stream",
     "text": [
      "epoch - 3 train_loss - 0.50 acc - 0.756 auc - 0.733\n"
     ]
    },
    {
     "name": "stderr",
     "output_type": "stream",
     "text": [
      "valid loss - 0.5968: 100%|██████████| 4/4 [00:00<00:00, 11.40it/s]\n",
      "  0%|          | 0/28 [00:00<?, ?it/s]"
     ]
    },
    {
     "name": "stdout",
     "output_type": "stream",
     "text": [
      "epoch - 3 val_loss - 0.56 val acc - 0.698 val auc - 0.766\n"
     ]
    },
    {
     "name": "stderr",
     "output_type": "stream",
     "text": [
      "loss - 0.6191: 100%|██████████| 28/28 [00:01<00:00, 21.55it/s]\n",
      "  0%|          | 0/4 [00:00<?, ?it/s]"
     ]
    },
    {
     "name": "stdout",
     "output_type": "stream",
     "text": [
      "epoch - 4 train_loss - 0.48 acc - 0.765 auc - 0.766\n"
     ]
    },
    {
     "name": "stderr",
     "output_type": "stream",
     "text": [
      "valid loss - 0.5123: 100%|██████████| 4/4 [00:00<00:00, 12.33it/s]\n",
      "  0%|          | 0/28 [00:00<?, ?it/s]"
     ]
    },
    {
     "name": "stdout",
     "output_type": "stream",
     "text": [
      "epoch - 4 val_loss - 0.59 val acc - 0.689 val auc - 0.684\n"
     ]
    },
    {
     "name": "stderr",
     "output_type": "stream",
     "text": [
      "loss - 0.4521: 100%|██████████| 28/28 [00:01<00:00, 20.75it/s]\n",
      "  0%|          | 0/4 [00:00<?, ?it/s]"
     ]
    },
    {
     "name": "stdout",
     "output_type": "stream",
     "text": [
      "epoch - 5 train_loss - 0.47 acc - 0.769 auc - 0.781\n"
     ]
    },
    {
     "name": "stderr",
     "output_type": "stream",
     "text": [
      "valid loss - 0.5199: 100%|██████████| 4/4 [00:00<00:00, 10.98it/s]\n",
      "  0%|          | 0/28 [00:00<?, ?it/s]"
     ]
    },
    {
     "name": "stdout",
     "output_type": "stream",
     "text": [
      "epoch - 5 val_loss - 0.60 val acc - 0.685 val auc - 0.708\n"
     ]
    },
    {
     "name": "stderr",
     "output_type": "stream",
     "text": [
      "loss - 0.5062: 100%|██████████| 28/28 [00:01<00:00, 24.38it/s]\n",
      "  0%|          | 0/4 [00:00<?, ?it/s]"
     ]
    },
    {
     "name": "stdout",
     "output_type": "stream",
     "text": [
      "epoch - 6 train_loss - 0.44 acc - 0.790 auc - 0.817\n"
     ]
    },
    {
     "name": "stderr",
     "output_type": "stream",
     "text": [
      "valid loss - 0.5962: 100%|██████████| 4/4 [00:00<00:00, 12.07it/s]\n",
      "  0%|          | 0/28 [00:00<?, ?it/s]"
     ]
    },
    {
     "name": "stdout",
     "output_type": "stream",
     "text": [
      "epoch - 6 val_loss - 0.59 val acc - 0.703 val auc - 0.727\n"
     ]
    },
    {
     "name": "stderr",
     "output_type": "stream",
     "text": [
      "loss - 0.4349: 100%|██████████| 28/28 [00:01<00:00, 23.91it/s]\n",
      "  0%|          | 0/4 [00:00<?, ?it/s]"
     ]
    },
    {
     "name": "stdout",
     "output_type": "stream",
     "text": [
      "epoch - 7 train_loss - 0.42 acc - 0.795 auc - 0.836\n"
     ]
    },
    {
     "name": "stderr",
     "output_type": "stream",
     "text": [
      "valid loss - 0.5049: 100%|██████████| 4/4 [00:00<00:00, 12.63it/s]\n",
      "  0%|          | 0/28 [00:00<?, ?it/s]"
     ]
    },
    {
     "name": "stdout",
     "output_type": "stream",
     "text": [
      "epoch - 7 val_loss - 0.63 val acc - 0.712 val auc - 0.718\n"
     ]
    },
    {
     "name": "stderr",
     "output_type": "stream",
     "text": [
      "loss - 0.4784: 100%|██████████| 28/28 [00:01<00:00, 24.16it/s]\n",
      "  0%|          | 0/4 [00:00<?, ?it/s]"
     ]
    },
    {
     "name": "stdout",
     "output_type": "stream",
     "text": [
      "epoch - 8 train_loss - 0.40 acc - 0.817 auc - 0.860\n"
     ]
    },
    {
     "name": "stderr",
     "output_type": "stream",
     "text": [
      "valid loss - 0.5937: 100%|██████████| 4/4 [00:00<00:00, 11.90it/s]\n",
      "  0%|          | 0/4 [00:00<?, ?it/s]"
     ]
    },
    {
     "name": "stdout",
     "output_type": "stream",
     "text": [
      "epoch - 8 val_loss - 0.65 val acc - 0.721 val auc - 0.728\n",
      "Val Loss does not improve for 5 consecutive epochs\n"
     ]
    },
    {
     "name": "stderr",
     "output_type": "stream",
     "text": [
      "valid loss - 0.9643: 100%|██████████| 4/4 [00:00<00:00, 10.83it/s]\n",
      "  0%|          | 0/28 [00:00<?, ?it/s]"
     ]
    },
    {
     "name": "stdout",
     "output_type": "stream",
     "text": [
      "epoch - 8 test_loss - 0.74 acc - 0.698 auc - 0.624\n",
      "----------------------------------------------------------------------------\n"
     ]
    },
    {
     "name": "stderr",
     "output_type": "stream",
     "text": [
      "loss - 0.5663: 100%|██████████| 28/28 [00:01<00:00, 17.84it/s]\n",
      "  0%|          | 0/4 [00:00<?, ?it/s]"
     ]
    },
    {
     "name": "stdout",
     "output_type": "stream",
     "text": [
      "epoch - 0 train_loss - 0.62 acc - 0.714 auc - 0.535\n"
     ]
    },
    {
     "name": "stderr",
     "output_type": "stream",
     "text": [
      "valid loss - 0.8087: 100%|██████████| 4/4 [00:00<00:00, 11.27it/s]\n",
      "  0%|          | 0/28 [00:00<?, ?it/s]"
     ]
    },
    {
     "name": "stdout",
     "output_type": "stream",
     "text": [
      "epoch - 0 val_loss - 0.62 val acc - 0.712 val auc - 0.652\n"
     ]
    },
    {
     "name": "stderr",
     "output_type": "stream",
     "text": [
      "loss - 0.5434: 100%|██████████| 28/28 [00:01<00:00, 18.85it/s]\n",
      "  0%|          | 0/4 [00:00<?, ?it/s]"
     ]
    },
    {
     "name": "stdout",
     "output_type": "stream",
     "text": [
      "epoch - 1 train_loss - 0.56 acc - 0.719 auc - 0.644\n"
     ]
    },
    {
     "name": "stderr",
     "output_type": "stream",
     "text": [
      "valid loss - 0.6190: 100%|██████████| 4/4 [00:00<00:00,  9.64it/s]\n",
      "  0%|          | 0/28 [00:00<?, ?it/s]"
     ]
    },
    {
     "name": "stdout",
     "output_type": "stream",
     "text": [
      "epoch - 1 val_loss - 0.58 val acc - 0.689 val auc - 0.655\n"
     ]
    },
    {
     "name": "stderr",
     "output_type": "stream",
     "text": [
      "loss - 0.6390: 100%|██████████| 28/28 [00:01<00:00, 23.13it/s]\n",
      "  0%|          | 0/4 [00:00<?, ?it/s]"
     ]
    },
    {
     "name": "stdout",
     "output_type": "stream",
     "text": [
      "epoch - 2 train_loss - 0.53 acc - 0.740 auc - 0.708\n"
     ]
    },
    {
     "name": "stderr",
     "output_type": "stream",
     "text": [
      "valid loss - 0.5083: 100%|██████████| 4/4 [00:00<00:00, 11.31it/s]\n",
      "  0%|          | 0/28 [00:00<?, ?it/s]"
     ]
    },
    {
     "name": "stdout",
     "output_type": "stream",
     "text": [
      "epoch - 2 val_loss - 0.58 val acc - 0.712 val auc - 0.657\n"
     ]
    },
    {
     "name": "stderr",
     "output_type": "stream",
     "text": [
      "loss - 0.4223: 100%|██████████| 28/28 [00:01<00:00, 19.06it/s]\n",
      "  0%|          | 0/4 [00:00<?, ?it/s]"
     ]
    },
    {
     "name": "stdout",
     "output_type": "stream",
     "text": [
      "epoch - 3 train_loss - 0.50 acc - 0.757 auc - 0.760\n"
     ]
    },
    {
     "name": "stderr",
     "output_type": "stream",
     "text": [
      "valid loss - 0.5471: 100%|██████████| 4/4 [00:00<00:00,  9.70it/s]\n",
      "  0%|          | 0/28 [00:00<?, ?it/s]"
     ]
    },
    {
     "name": "stdout",
     "output_type": "stream",
     "text": [
      "epoch - 3 val_loss - 0.57 val acc - 0.676 val auc - 0.672\n"
     ]
    },
    {
     "name": "stderr",
     "output_type": "stream",
     "text": [
      "loss - 0.4835: 100%|██████████| 28/28 [00:01<00:00, 21.92it/s]\n",
      "  0%|          | 0/4 [00:00<?, ?it/s]"
     ]
    },
    {
     "name": "stdout",
     "output_type": "stream",
     "text": [
      "epoch - 4 train_loss - 0.48 acc - 0.771 auc - 0.785\n"
     ]
    },
    {
     "name": "stderr",
     "output_type": "stream",
     "text": [
      "valid loss - 0.4600: 100%|██████████| 4/4 [00:00<00:00, 11.77it/s]\n",
      "  0%|          | 0/28 [00:00<?, ?it/s]"
     ]
    },
    {
     "name": "stdout",
     "output_type": "stream",
     "text": [
      "epoch - 4 val_loss - 0.58 val acc - 0.721 val auc - 0.677\n"
     ]
    },
    {
     "name": "stderr",
     "output_type": "stream",
     "text": [
      "loss - 0.4235: 100%|██████████| 28/28 [00:01<00:00, 24.03it/s]\n",
      "  0%|          | 0/4 [00:00<?, ?it/s]"
     ]
    },
    {
     "name": "stdout",
     "output_type": "stream",
     "text": [
      "epoch - 5 train_loss - 0.48 acc - 0.767 auc - 0.785\n"
     ]
    },
    {
     "name": "stderr",
     "output_type": "stream",
     "text": [
      "valid loss - 0.6897: 100%|██████████| 4/4 [00:00<00:00, 12.10it/s]\n",
      "  0%|          | 0/28 [00:00<?, ?it/s]"
     ]
    },
    {
     "name": "stdout",
     "output_type": "stream",
     "text": [
      "epoch - 5 val_loss - 0.62 val acc - 0.703 val auc - 0.690\n"
     ]
    },
    {
     "name": "stderr",
     "output_type": "stream",
     "text": [
      "loss - 0.4042: 100%|██████████| 28/28 [00:01<00:00, 23.19it/s]\n",
      "  0%|          | 0/4 [00:00<?, ?it/s]"
     ]
    },
    {
     "name": "stdout",
     "output_type": "stream",
     "text": [
      "epoch - 6 train_loss - 0.42 acc - 0.805 auc - 0.843\n"
     ]
    },
    {
     "name": "stderr",
     "output_type": "stream",
     "text": [
      "valid loss - 0.4597: 100%|██████████| 4/4 [00:00<00:00, 11.35it/s]\n",
      "  0%|          | 0/28 [00:00<?, ?it/s]"
     ]
    },
    {
     "name": "stdout",
     "output_type": "stream",
     "text": [
      "epoch - 6 val_loss - 0.61 val acc - 0.707 val auc - 0.666\n"
     ]
    },
    {
     "name": "stderr",
     "output_type": "stream",
     "text": [
      "loss - 0.3530: 100%|██████████| 28/28 [00:01<00:00, 23.04it/s]\n",
      "  0%|          | 0/4 [00:00<?, ?it/s]"
     ]
    },
    {
     "name": "stdout",
     "output_type": "stream",
     "text": [
      "epoch - 7 train_loss - 0.39 acc - 0.825 auc - 0.870\n"
     ]
    },
    {
     "name": "stderr",
     "output_type": "stream",
     "text": [
      "valid loss - 0.7744: 100%|██████████| 4/4 [00:00<00:00, 10.42it/s]\n",
      "  0%|          | 0/28 [00:00<?, ?it/s]"
     ]
    },
    {
     "name": "stdout",
     "output_type": "stream",
     "text": [
      "epoch - 7 val_loss - 0.71 val acc - 0.680 val auc - 0.675\n"
     ]
    },
    {
     "name": "stderr",
     "output_type": "stream",
     "text": [
      "loss - 0.3768: 100%|██████████| 28/28 [00:01<00:00, 19.84it/s]\n",
      "  0%|          | 0/4 [00:00<?, ?it/s]"
     ]
    },
    {
     "name": "stdout",
     "output_type": "stream",
     "text": [
      "epoch - 8 train_loss - 0.37 acc - 0.843 auc - 0.886\n"
     ]
    },
    {
     "name": "stderr",
     "output_type": "stream",
     "text": [
      "valid loss - 0.3834: 100%|██████████| 4/4 [00:00<00:00, 11.87it/s]\n",
      "  0%|          | 0/4 [00:00<?, ?it/s]"
     ]
    },
    {
     "name": "stdout",
     "output_type": "stream",
     "text": [
      "epoch - 8 val_loss - 0.65 val acc - 0.653 val auc - 0.678\n",
      "Val Loss does not improve for 5 consecutive epochs\n"
     ]
    },
    {
     "name": "stderr",
     "output_type": "stream",
     "text": [
      "valid loss - 0.6623: 100%|██████████| 4/4 [00:00<00:00, 11.80it/s]"
     ]
    },
    {
     "name": "stdout",
     "output_type": "stream",
     "text": [
      "epoch - 8 test_loss - 0.68 acc - 0.667 auc - 0.614\n"
     ]
    },
    {
     "name": "stderr",
     "output_type": "stream",
     "text": [
      "\n"
     ]
    }
   ],
   "source": [
    "X = np.array(group.keys())\n",
    "kfold = KFold(n_splits=5, shuffle=True)\n",
    "train_losses = list()\n",
    "train_aucs = list()\n",
    "train_accs = list()\n",
    "val_losses = list()\n",
    "val_aucs = list()\n",
    "val_accs = list()\n",
    "test_losses = list()\n",
    "test_aucs = list()\n",
    "test_accs = list()\n",
    "for train, test in kfold.split(X):\n",
    "    users_train, users_test =  X[train], X[test]\n",
    "    n = len(users_test)//2\n",
    "    users_test, users_val = users_test[:n], users_test[n: ]\n",
    "    train = PRACTICE_DATASET(group[users_train])\n",
    "    valid = PRACTICE_DATASET(group[users_val])\n",
    "    test = PRACTICE_DATASET(group[users_test])\n",
    "    train_dataloader = DataLoader(train, batch_size=32, shuffle=True, num_workers=8)\n",
    "    val_dataloader = DataLoader(valid, batch_size=32, shuffle=True, num_workers=8)\n",
    "    test_dataloader = DataLoader(test, batch_size=32, shuffle=True, num_workers=8)\n",
    "    \n",
    "    device = torch.device(\"cuda\" if torch.cuda.is_available() else \"cpu\")\n",
    "    saint = SAINTModel(n_skill, n_part)\n",
    "    epochs = 100\n",
    "    criterion = nn.BCEWithLogitsLoss()\n",
    "    optimizer = torch.optim.Adam(saint.parameters(), betas=(0.9, 0.999), lr = 0.0005, eps=1e-8)\n",
    "    saint.to(device)\n",
    "    criterion.to(device)\n",
    "    \n",
    "    def train_epoch(model=saint, train_iterator=train_dataloader, optim=optimizer, criterion=criterion, device=device):\n",
    "        model.train()\n",
    "\n",
    "        train_loss = []\n",
    "        num_corrects = 0\n",
    "        num_total = 0\n",
    "        labels = []\n",
    "        outs = []\n",
    "        tbar = tqdm(train_iterator)\n",
    "        for item in tbar:\n",
    "            question_id = item[0].to(device).long()\n",
    "            chapter = item[1].to(device).long()\n",
    "            schapter = item[2].to(device).long()\n",
    "            responses = item[3].to(device).long()\n",
    "            user_feats = item[4].to(device).float()\n",
    "            label = item[5].to(device).float()            \n",
    "            target_mask = (question_id!=0)\n",
    "            optim.zero_grad()\n",
    "            output = model(question_id, chapter, schapter, responses, user_feats)\n",
    "            output = torch.reshape(output, label.shape)\n",
    "\n",
    "            output = torch.masked_select(output, target_mask)\n",
    "            label = torch.masked_select(label, target_mask)\n",
    "\n",
    "            loss = criterion(output, label)\n",
    "            loss.backward()\n",
    "            optim.step()\n",
    "            train_loss.append(loss.item())\n",
    "            pred = (torch.sigmoid(output) >= 0.5).long()\n",
    "\n",
    "            num_corrects += (pred == label).sum().item()\n",
    "            num_total += len(label)\n",
    "\n",
    "            labels.extend(label.view(-1).data.cpu().numpy())\n",
    "            outs.extend(output.view(-1).data.cpu().numpy())\n",
    "\n",
    "            tbar.set_description('loss - {:.4f}'.format(loss))\n",
    "        acc = num_corrects / num_total\n",
    "        auc = roc_auc_score(labels, outs)\n",
    "        loss = np.mean(train_loss)\n",
    "\n",
    "        return loss, acc, auc\n",
    "   \n",
    "\n",
    "    def val_epoch(model=saint, val_iterator=test_dataloader, \n",
    "              criterion=criterion, device=device):\n",
    "        model.eval()\n",
    "\n",
    "        train_loss = []\n",
    "        num_corrects = 0\n",
    "        num_total = 0\n",
    "        labels = []\n",
    "        outs = []\n",
    "        tbar = tqdm(val_iterator)\n",
    "        for item in tbar:\n",
    "            question_id = item[0].to(device).long()\n",
    "            chapter = item[1].to(device).long()\n",
    "            schapter = item[2].to(device).long()\n",
    "            responses = item[3].to(device).long()\n",
    "            user_feats = item[4].to(device).float()\n",
    "            label = item[5].to(device).float()            \n",
    "            target_mask = (question_id!=0)\n",
    "            with torch.no_grad():\n",
    "                output = model(question_id, chapter, schapter, responses, user_feats)\n",
    "\n",
    "            output = torch.reshape(output, label.shape)\n",
    "            output = torch.masked_select(output, target_mask)\n",
    "            label = torch.masked_select(label, target_mask)\n",
    "\n",
    "            loss = criterion(output, label)\n",
    "            train_loss.append(loss.item())\n",
    "\n",
    "            pred = (torch.sigmoid(output) >= 0.5).long()\n",
    "            num_corrects += (pred == label).sum().item()\n",
    "            num_total += len(label)\n",
    "\n",
    "            labels.extend(label.view(-1).data.cpu().numpy())\n",
    "            outs.extend(output.view(-1).data.cpu().numpy())\n",
    "\n",
    "            tbar.set_description('valid loss - {:.4f}'.format(loss))\n",
    "\n",
    "        acc = num_corrects / num_total\n",
    "        auc = roc_auc_score(labels, outs)\n",
    "        loss = np.average(train_loss)\n",
    "\n",
    "        return loss, acc, auc\n",
    "    \n",
    "    MIN_VAL = 1000000000\n",
    "    count = 0\n",
    "    print('----------------------------------------------------------------------------')\n",
    "    for epoch in range(epochs):\n",
    "        train_loss, train_acc, train_auc = train_epoch(model=saint, device=device)\n",
    "        print(\"epoch - {} train_loss - {:.2f} acc - {:.3f} auc - {:.3f}\".format(epoch, train_loss, train_acc, train_auc))\n",
    "        val_loss, val_acc, val_auc = val_epoch(model=saint, val_iterator= val_dataloader, device=device)\n",
    "        print(\"epoch - {} val_loss - {:.2f} val acc - {:.3f} val auc - {:.3f}\".format(epoch, val_loss, val_acc, val_auc))\n",
    "        if val_loss < MIN_VAL:\n",
    "            count = 0\n",
    "            MIN_VAL = val_loss\n",
    "        else:\n",
    "            count += 1\n",
    "\n",
    "        if count == patience:\n",
    "            print('Val Loss does not improve for {} consecutive epochs'.format(patience))\n",
    "            break\n",
    "    test_loss, test_acc, test_auc = val_epoch(model=saint, device=device)\n",
    "    print(\"epoch - {} test_loss - {:.2f} acc - {:.3f} auc - {:.3f}\".format(epoch, test_loss, test_acc, test_auc))\n",
    "    test_losses.append(test_loss)\n",
    "    test_aucs.append(test_auc)\n",
    "    test_accs.append(test_acc)\n",
    "    train_aucs.append(train_auc)\n",
    "    train_losses.append(train_loss)\n",
    "    train_accs.append(train_acc)"
   ]
  },
  {
   "cell_type": "code",
   "execution_count": 35,
   "metadata": {
    "execution": {
     "iopub.execute_input": "2021-08-08T16:12:50.824518Z",
     "iopub.status.busy": "2021-08-08T16:12:50.823687Z",
     "iopub.status.idle": "2021-08-08T16:12:50.828676Z",
     "shell.execute_reply": "2021-08-08T16:12:50.827832Z",
     "shell.execute_reply.started": "2021-08-08T16:03:29.686940Z"
    },
    "papermill": {
     "duration": 0.888358,
     "end_time": "2021-08-08T16:12:50.828784",
     "exception": false,
     "start_time": "2021-08-08T16:12:49.940426",
     "status": "completed"
    },
    "tags": []
   },
   "outputs": [
    {
     "name": "stdout",
     "output_type": "stream",
     "text": [
      "test avg loss:  0.6955605000257492 0.05182350594552133\n",
      "test avg acc:  0.6909909909909909 0.03655038337856001\n",
      "test avg auc:  0.6495075891946854 0.0372654352473137\n"
     ]
    }
   ],
   "source": [
    "print(\"test avg loss: \", np.mean(test_losses), np.std(test_losses))\n",
    "print(\"test avg acc: \", np.mean(test_accs), np.std(test_accs))\n",
    "print(\"test avg auc: \", np.mean(test_aucs), np.std(test_aucs))"
   ]
  },
  {
   "cell_type": "code",
   "execution_count": 36,
   "metadata": {
    "execution": {
     "iopub.execute_input": "2021-08-08T16:12:52.622248Z",
     "iopub.status.busy": "2021-08-08T16:12:52.621375Z",
     "iopub.status.idle": "2021-08-08T16:12:52.626472Z",
     "shell.execute_reply": "2021-08-08T16:12:52.626904Z",
     "shell.execute_reply.started": "2021-08-08T16:03:30.999949Z"
    },
    "papermill": {
     "duration": 0.919541,
     "end_time": "2021-08-08T16:12:52.627066",
     "exception": false,
     "start_time": "2021-08-08T16:12:51.707525",
     "status": "completed"
    },
    "tags": []
   },
   "outputs": [
    {
     "name": "stdout",
     "output_type": "stream",
     "text": [
      "train avg loss:  0.4016865637685571 0.022407838161443833\n",
      "train avg acc:  0.8170045045045045 0.01587398508003708\n",
      "train avg auc:  0.8577552669849758 0.01947282499957328\n"
     ]
    }
   ],
   "source": [
    "print(\"train avg loss: \", np.mean(train_losses), np.std(train_losses))\n",
    "print(\"train avg acc: \", np.mean(train_accs), np.std(train_accs))\n",
    "print(\"train avg auc: \", np.mean(train_aucs), np.std(train_aucs))"
   ]
  }
 ],
 "metadata": {
  "kernelspec": {
   "display_name": "Python 3",
   "language": "python",
   "name": "python3"
  },
  "language_info": {
   "codemirror_mode": {
    "name": "ipython",
    "version": 3
   },
   "file_extension": ".py",
   "mimetype": "text/x-python",
   "name": "python",
   "nbconvert_exporter": "python",
   "pygments_lexer": "ipython3",
   "version": "3.8.5"
  },
  "papermill": {
   "duration": 543.039009,
   "end_time": "2021-08-08T16:12:53.715455",
   "environment_variables": {},
   "exception": null,
   "input_path": "__notebook__.ipynb",
   "output_path": "__notebook__.ipynb",
   "parameters": {},
   "start_time": "2021-08-08T16:03:50.676446",
   "version": "2.1.0"
  }
 },
 "nbformat": 4,
 "nbformat_minor": 4
}
