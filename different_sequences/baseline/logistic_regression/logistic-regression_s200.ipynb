{
 "cells": [
  {
   "cell_type": "code",
   "execution_count": 179,
   "metadata": {
    "execution": {
     "iopub.execute_input": "2021-07-31T20:10:18.170115Z",
     "iopub.status.busy": "2021-07-31T20:10:18.169762Z",
     "iopub.status.idle": "2021-07-31T20:10:18.176798Z",
     "shell.execute_reply": "2021-07-31T20:10:18.175577Z",
     "shell.execute_reply.started": "2021-07-31T20:10:18.170083Z"
    },
    "id": "farifxiKU1aB"
   },
   "outputs": [],
   "source": [
    "import numpy as np\n",
    "import pandas as pd\n",
    "import warnings\n",
    "import gc\n",
    "import tensorflow as tf\n",
    "from tensorflow import keras\n",
    "\n",
    "import random\n",
    "from random import choice\n",
    "from tensorflow.keras.optimizers import Adam\n",
    "from tensorflow.keras.models import Sequential \n",
    "from tensorflow.keras.layers import Dense, GRU, Concatenate, Embedding, Flatten, Activation, Dropout\n",
    "from sklearn.model_selection import KFold\n",
    "from tensorflow.python.client import device_lib\n",
    "warnings.filterwarnings('ignore')\n",
    "import random"
   ]
  },
  {
   "cell_type": "code",
   "execution_count": 180,
   "metadata": {
    "execution": {
     "iopub.execute_input": "2021-07-31T20:10:18.178887Z",
     "iopub.status.busy": "2021-07-31T20:10:18.178524Z",
     "iopub.status.idle": "2021-07-31T20:10:18.189539Z",
     "shell.execute_reply": "2021-07-31T20:10:18.188714Z",
     "shell.execute_reply.started": "2021-07-31T20:10:18.178851Z"
    },
    "id": "QOson70GPOXb"
   },
   "outputs": [],
   "source": [
    "import gc"
   ]
  },
  {
   "cell_type": "markdown",
   "metadata": {
    "id": "BQsVybBH3VPw"
   },
   "source": [
    "## Data Preprocessing"
   ]
  },
  {
   "cell_type": "code",
   "execution_count": 181,
   "metadata": {
    "execution": {
     "iopub.execute_input": "2021-07-31T20:10:18.193736Z",
     "iopub.status.busy": "2021-07-31T20:10:18.193432Z",
     "iopub.status.idle": "2021-07-31T20:10:22.640783Z",
     "shell.execute_reply": "2021-07-31T20:10:22.639951Z",
     "shell.execute_reply.started": "2021-07-31T20:10:18.193695Z"
    },
    "id": "rwtTusGxrmAE",
    "outputId": "1430f3cf-038b-485e-b5c4-c1686b1f34fd"
   },
   "outputs": [
    {
     "data": {
      "text/html": [
       "<div>\n",
       "<style scoped>\n",
       "    .dataframe tbody tr th:only-of-type {\n",
       "        vertical-align: middle;\n",
       "    }\n",
       "\n",
       "    .dataframe tbody tr th {\n",
       "        vertical-align: top;\n",
       "    }\n",
       "\n",
       "    .dataframe thead th {\n",
       "        text-align: right;\n",
       "    }\n",
       "</style>\n",
       "<table border=\"1\" class=\"dataframe\">\n",
       "  <thead>\n",
       "    <tr style=\"text-align: right;\">\n",
       "      <th></th>\n",
       "      <th>Unnamed: 0</th>\n",
       "      <th>chapter_label</th>\n",
       "      <th>sub_chapter_label</th>\n",
       "      <th>question_name</th>\n",
       "      <th>user_id.x</th>\n",
       "      <th>term</th>\n",
       "      <th>STDNT_SEX_CD</th>\n",
       "      <th>NonNativeEnglish</th>\n",
       "      <th>White</th>\n",
       "      <th>Asian</th>\n",
       "      <th>...</th>\n",
       "      <th>classGraded</th>\n",
       "      <th>classHonors</th>\n",
       "      <th>Pass_Fail</th>\n",
       "      <th>parentsGraduateEdu</th>\n",
       "      <th>minorityGroup</th>\n",
       "      <th>q</th>\n",
       "      <th>day's_available_flashcards</th>\n",
       "      <th>start_practice</th>\n",
       "      <th>end_practice</th>\n",
       "      <th>days_offset</th>\n",
       "    </tr>\n",
       "  </thead>\n",
       "  <tbody>\n",
       "    <tr>\n",
       "      <th>0</th>\n",
       "      <td>1</td>\n",
       "      <td>Sort</td>\n",
       "      <td>intro-SortingwithSortandSorted</td>\n",
       "      <td>ee_sort_04</td>\n",
       "      <td>148</td>\n",
       "      <td>WN 2018</td>\n",
       "      <td>1</td>\n",
       "      <td>0</td>\n",
       "      <td>1</td>\n",
       "      <td>0</td>\n",
       "      <td>...</td>\n",
       "      <td>1</td>\n",
       "      <td>0</td>\n",
       "      <td>0</td>\n",
       "      <td>0</td>\n",
       "      <td>0</td>\n",
       "      <td>0</td>\n",
       "      <td>18</td>\n",
       "      <td>2018-03-04 20:00:19</td>\n",
       "      <td>2018-03-04 20:00:35</td>\n",
       "      <td>45</td>\n",
       "    </tr>\n",
       "    <tr>\n",
       "      <th>1</th>\n",
       "      <td>2</td>\n",
       "      <td>Functions</td>\n",
       "      <td>Returningavaluefromafunction</td>\n",
       "      <td>test_questionfunctions_2_3</td>\n",
       "      <td>148</td>\n",
       "      <td>WN 2018</td>\n",
       "      <td>1</td>\n",
       "      <td>0</td>\n",
       "      <td>1</td>\n",
       "      <td>0</td>\n",
       "      <td>...</td>\n",
       "      <td>1</td>\n",
       "      <td>0</td>\n",
       "      <td>0</td>\n",
       "      <td>0</td>\n",
       "      <td>0</td>\n",
       "      <td>4</td>\n",
       "      <td>16</td>\n",
       "      <td>2018-02-10 11:57:55</td>\n",
       "      <td>2018-02-10 11:58:35</td>\n",
       "      <td>23</td>\n",
       "    </tr>\n",
       "    <tr>\n",
       "      <th>2</th>\n",
       "      <td>3</td>\n",
       "      <td>RESTAPIs</td>\n",
       "      <td>functionswithrestapis</td>\n",
       "      <td>test_question_functions_rest_apis_1</td>\n",
       "      <td>148</td>\n",
       "      <td>WN 2018</td>\n",
       "      <td>1</td>\n",
       "      <td>0</td>\n",
       "      <td>1</td>\n",
       "      <td>0</td>\n",
       "      <td>...</td>\n",
       "      <td>1</td>\n",
       "      <td>0</td>\n",
       "      <td>0</td>\n",
       "      <td>0</td>\n",
       "      <td>0</td>\n",
       "      <td>1</td>\n",
       "      <td>2</td>\n",
       "      <td>2018-03-12 17:03:07</td>\n",
       "      <td>2018-03-12 17:04:28</td>\n",
       "      <td>53</td>\n",
       "    </tr>\n",
       "    <tr>\n",
       "      <th>3</th>\n",
       "      <td>4</td>\n",
       "      <td>SimplePythonData</td>\n",
       "      <td>FunctionCalls</td>\n",
       "      <td>exercise_functionCalls_1</td>\n",
       "      <td>148</td>\n",
       "      <td>WN 2018</td>\n",
       "      <td>1</td>\n",
       "      <td>0</td>\n",
       "      <td>1</td>\n",
       "      <td>0</td>\n",
       "      <td>...</td>\n",
       "      <td>1</td>\n",
       "      <td>0</td>\n",
       "      <td>0</td>\n",
       "      <td>0</td>\n",
       "      <td>0</td>\n",
       "      <td>0</td>\n",
       "      <td>10</td>\n",
       "      <td>2018-01-30 14:15:49</td>\n",
       "      <td>2018-01-30 14:15:58</td>\n",
       "      <td>12</td>\n",
       "    </tr>\n",
       "    <tr>\n",
       "      <th>4</th>\n",
       "      <td>5</td>\n",
       "      <td>DictionaryAccumulation</td>\n",
       "      <td>AccumulatingaMaximumValue</td>\n",
       "      <td>ps_04_07</td>\n",
       "      <td>148</td>\n",
       "      <td>WN 2018</td>\n",
       "      <td>1</td>\n",
       "      <td>0</td>\n",
       "      <td>1</td>\n",
       "      <td>0</td>\n",
       "      <td>...</td>\n",
       "      <td>1</td>\n",
       "      <td>0</td>\n",
       "      <td>0</td>\n",
       "      <td>0</td>\n",
       "      <td>0</td>\n",
       "      <td>0</td>\n",
       "      <td>23</td>\n",
       "      <td>2018-03-03 14:04:17</td>\n",
       "      <td>2018-03-03 14:04:25</td>\n",
       "      <td>44</td>\n",
       "    </tr>\n",
       "  </tbody>\n",
       "</table>\n",
       "<p>5 rows × 48 columns</p>\n",
       "</div>"
      ],
      "text/plain": [
       "   Unnamed: 0           chapter_label               sub_chapter_label  \\\n",
       "0           1                    Sort  intro-SortingwithSortandSorted   \n",
       "1           2               Functions    Returningavaluefromafunction   \n",
       "2           3                RESTAPIs           functionswithrestapis   \n",
       "3           4        SimplePythonData                   FunctionCalls   \n",
       "4           5  DictionaryAccumulation       AccumulatingaMaximumValue   \n",
       "\n",
       "                         question_name  user_id.x     term  STDNT_SEX_CD  \\\n",
       "0                           ee_sort_04        148  WN 2018             1   \n",
       "1           test_questionfunctions_2_3        148  WN 2018             1   \n",
       "2  test_question_functions_rest_apis_1        148  WN 2018             1   \n",
       "3             exercise_functionCalls_1        148  WN 2018             1   \n",
       "4                             ps_04_07        148  WN 2018             1   \n",
       "\n",
       "   NonNativeEnglish  White  Asian  ...  classGraded  classHonors  Pass_Fail  \\\n",
       "0                 0      1      0  ...            1            0          0   \n",
       "1                 0      1      0  ...            1            0          0   \n",
       "2                 0      1      0  ...            1            0          0   \n",
       "3                 0      1      0  ...            1            0          0   \n",
       "4                 0      1      0  ...            1            0          0   \n",
       "\n",
       "   parentsGraduateEdu  minorityGroup  q  day's_available_flashcards  \\\n",
       "0                   0              0  0                          18   \n",
       "1                   0              0  4                          16   \n",
       "2                   0              0  1                           2   \n",
       "3                   0              0  0                          10   \n",
       "4                   0              0  0                          23   \n",
       "\n",
       "        start_practice         end_practice  days_offset  \n",
       "0  2018-03-04 20:00:19  2018-03-04 20:00:35           45  \n",
       "1  2018-02-10 11:57:55  2018-02-10 11:58:35           23  \n",
       "2  2018-03-12 17:03:07  2018-03-12 17:04:28           53  \n",
       "3  2018-01-30 14:15:49  2018-01-30 14:15:58           12  \n",
       "4  2018-03-03 14:04:17  2018-03-03 14:04:25           44  \n",
       "\n",
       "[5 rows x 48 columns]"
      ]
     },
     "execution_count": 181,
     "metadata": {},
     "output_type": "execute_result"
    }
   ],
   "source": [
    "# load the data\n",
    "import pandas as pd\n",
    "dataframe = pd.read_csv('../input/practice-log-demographics/Practice_Log_Demographics (1).csv', low_memory=False)\n",
    "dataframe.head()"
   ]
  },
  {
   "cell_type": "code",
   "execution_count": 182,
   "metadata": {
    "execution": {
     "iopub.execute_input": "2021-07-31T20:10:22.642674Z",
     "iopub.status.busy": "2021-07-31T20:10:22.642321Z",
     "iopub.status.idle": "2021-07-31T20:10:23.974791Z",
     "shell.execute_reply": "2021-07-31T20:10:23.973938Z",
     "shell.execute_reply.started": "2021-07-31T20:10:22.642638Z"
    },
    "id": "OCbHnEp_Vir0"
   },
   "outputs": [],
   "source": [
    "#sort data based on timestamp\n",
    "dataframe = dataframe.sort_values(by=['start_practice'])"
   ]
  },
  {
   "cell_type": "code",
   "execution_count": 183,
   "metadata": {
    "execution": {
     "iopub.execute_input": "2021-07-31T20:10:23.976491Z",
     "iopub.status.busy": "2021-07-31T20:10:23.976149Z",
     "iopub.status.idle": "2021-07-31T20:10:23.983672Z",
     "shell.execute_reply": "2021-07-31T20:10:23.982703Z",
     "shell.execute_reply.started": "2021-07-31T20:10:23.976456Z"
    },
    "id": "0RvF7BvEr98o"
   },
   "outputs": [],
   "source": [
    "FEATURES = ['chapter_label', 'sub_chapter_label','question_name','user_id','term',\n",
    "            'STDNT_SEX_CD', \n",
    "            'NonNativeEnglish',\n",
    "            'White',\n",
    "            'Asian',\n",
    "            'WhiteOrAsian',\n",
    "            'Hispanic',\n",
    "            'AfricanAmerican',\n",
    "            'OtherEthnicities',\n",
    "            'NonWhiteOrAsian',\n",
    "            'STDNT_CTZN_STAT_CD', 'international', \n",
    "            'gradingType',\n",
    "            'birthYear',\n",
    "            'exclClassCumGPA',\n",
    "            'Freshman',\n",
    "            'Junior',\n",
    "            'Sophomore',\n",
    "            'Senior',\n",
    "            'termCreditsGPA',\n",
    "            'termCreditsNoGPA',\n",
    "            'athlete_1',\n",
    "            'honorsPro',\n",
    "            'LSA', 'programBusiness', 'programEngineering', \n",
    "            'programInformation', 'programOther',\n",
    "            'HSCalculusTaken', \n",
    "            'highSchoolGPA', \n",
    "            'majorsCount', 'minorsCount',\n",
    "            'PREV_TERM_CUM_GPA',\n",
    "            'classGraded', 'classHonors', \n",
    "            'Pass_Fail', \n",
    "            'parentsGraduateEdu',  'minorityGroup', \n",
    "            'q',\n",
    "            'available_flashcards', \n",
    "            'start_practice', \n",
    "            'end_practice',\n",
    "            'days_offset']"
   ]
  },
  {
   "cell_type": "code",
   "execution_count": 184,
   "metadata": {
    "execution": {
     "iopub.execute_input": "2021-07-31T20:10:23.986497Z",
     "iopub.status.busy": "2021-07-31T20:10:23.986069Z",
     "iopub.status.idle": "2021-07-31T20:10:24.489341Z",
     "shell.execute_reply": "2021-07-31T20:10:24.488497Z",
     "shell.execute_reply.started": "2021-07-31T20:10:23.986460Z"
    },
    "id": "Mn341X7lSztl"
   },
   "outputs": [],
   "source": [
    "dataframe['available_flashcards'] = dataframe[\"day's_available_flashcards\"][:]\n",
    "dataframe = dataframe.drop([\"day's_available_flashcards\"], axis=1)\n",
    "dataframe['user_id'] = dataframe[\"user_id.x\"][:]\n",
    "dataframe = dataframe.drop([\"user_id.x\"], axis=1)"
   ]
  },
  {
   "cell_type": "code",
   "execution_count": 185,
   "metadata": {
    "execution": {
     "iopub.execute_input": "2021-07-31T20:10:24.491351Z",
     "iopub.status.busy": "2021-07-31T20:10:24.490961Z",
     "iopub.status.idle": "2021-07-31T20:10:24.978122Z",
     "shell.execute_reply": "2021-07-31T20:10:24.977008Z",
     "shell.execute_reply.started": "2021-07-31T20:10:24.491321Z"
    },
    "id": "-_BRggOjbBjN",
    "outputId": "42bff7db-08dd-48dc-a73a-d048508053b7"
   },
   "outputs": [
    {
     "data": {
      "text/plain": [
       "54267"
      ]
     },
     "execution_count": 185,
     "metadata": {},
     "output_type": "execute_result"
    }
   ],
   "source": [
    "gc.collect()"
   ]
  },
  {
   "cell_type": "code",
   "execution_count": 186,
   "metadata": {
    "execution": {
     "iopub.execute_input": "2021-07-31T20:10:24.982087Z",
     "iopub.status.busy": "2021-07-31T20:10:24.981778Z",
     "iopub.status.idle": "2021-07-31T20:10:25.297535Z",
     "shell.execute_reply": "2021-07-31T20:10:25.296437Z",
     "shell.execute_reply.started": "2021-07-31T20:10:24.982051Z"
    },
    "id": "lXM7MlonVeRL",
    "outputId": "d29ccec0-522f-4e3c-e0b2-39b2e1eaef74"
   },
   "outputs": [
    {
     "data": {
      "text/plain": [
       "22"
      ]
     },
     "execution_count": 186,
     "metadata": {},
     "output_type": "execute_result"
    }
   ],
   "source": [
    "dataframe = dataframe[FEATURES]\n",
    "gc.collect()"
   ]
  },
  {
   "cell_type": "code",
   "execution_count": 187,
   "metadata": {
    "execution": {
     "iopub.execute_input": "2021-07-31T20:10:25.299571Z",
     "iopub.status.busy": "2021-07-31T20:10:25.299151Z",
     "iopub.status.idle": "2021-07-31T20:10:25.916200Z",
     "shell.execute_reply": "2021-07-31T20:10:25.915252Z",
     "shell.execute_reply.started": "2021-07-31T20:10:25.299530Z"
    },
    "id": "2WAFv5z3A6fK",
    "outputId": "e27abf84-ec3c-4b88-e1fb-927d94b41898"
   },
   "outputs": [],
   "source": [
    "dataframe = dataframe.fillna(0)"
   ]
  },
  {
   "cell_type": "code",
   "execution_count": 188,
   "metadata": {
    "execution": {
     "iopub.execute_input": "2021-07-31T20:10:25.917862Z",
     "iopub.status.busy": "2021-07-31T20:10:25.917448Z",
     "iopub.status.idle": "2021-07-31T20:10:27.249877Z",
     "shell.execute_reply": "2021-07-31T20:10:27.249063Z",
     "shell.execute_reply.started": "2021-07-31T20:10:25.917822Z"
    },
    "id": "qRKqF_0IXZgj"
   },
   "outputs": [],
   "source": [
    "#label encode term, chapter_label, question_name, sub_chapter_label columns\n",
    "dataframe['term'] = dataframe['term'].astype('category')\n",
    "dataframe['user_id'] = dataframe['user_id'].astype(int)\n",
    "dataframe['user_id'] = dataframe['user_id'].astype(str)\n",
    "dataframe['user_id'] = dataframe['term'].str.cat(dataframe['user_id'], sep=':')\n",
    "dataframe['user_id'] = dataframe['user_id'].astype('category')\n",
    "dataframe['chapter_label'] = dataframe['chapter_label'].astype('category')\n",
    "dataframe['sub_chapter_label'] = dataframe['sub_chapter_label'].astype('category')\n",
    "dataframe['question_name'] = dataframe['question_name'].astype('category')\n"
   ]
  },
  {
   "cell_type": "code",
   "execution_count": 189,
   "metadata": {
    "execution": {
     "iopub.execute_input": "2021-07-31T20:10:27.251729Z",
     "iopub.status.busy": "2021-07-31T20:10:27.251239Z",
     "iopub.status.idle": "2021-07-31T20:10:28.031268Z",
     "shell.execute_reply": "2021-07-31T20:10:28.030332Z",
     "shell.execute_reply.started": "2021-07-31T20:10:27.251692Z"
    },
    "id": "eVl_067GWkDe"
   },
   "outputs": [],
   "source": [
    "#calculate time_lag and prev_time_elapsed\n",
    "dataframe['prev_time_elapsed'] = None\n",
    "dataframe['time_lag'] = None\n",
    "dataframe['time_lag'] = dataframe['time_lag'].astype(np.float)\n",
    "dataframe['prev_time_elapsed'] = dataframe['prev_time_elapsed'].astype(np.float)\n",
    "dataframe.start_practice = pd.to_datetime(dataframe.start_practice, format='%Y-%m-%d %H:%M:%S')\n",
    "dataframe.end_practice = pd.to_datetime(dataframe.end_practice, format='%Y-%m-%d %H:%M:%S')\n",
    "dataframe['dif'] = dataframe.end_practice - dataframe.start_practice\n",
    "dataframe['dif'] = dataframe['dif'] /np.timedelta64(1, 's')\n",
    "dataframe['answer_correct'] = np.where((dataframe['q']==5) & (dataframe['dif'] <= 60), 1, 0)"
   ]
  },
  {
   "cell_type": "code",
   "execution_count": 191,
   "metadata": {
    "execution": {
     "iopub.execute_input": "2021-07-31T20:10:46.928063Z",
     "iopub.status.busy": "2021-07-31T20:10:46.927729Z",
     "iopub.status.idle": "2021-07-31T20:10:47.000792Z",
     "shell.execute_reply": "2021-07-31T20:10:46.999959Z",
     "shell.execute_reply.started": "2021-07-31T20:10:46.928027Z"
    },
    "id": "8t8yZ0XvWwzz"
   },
   "outputs": [],
   "source": [
    "#drop column end_practice\n",
    "dataframe.drop(columns=['end_practice'], inplace=True)"
   ]
  },
  {
   "cell_type": "code",
   "execution_count": 192,
   "metadata": {
    "execution": {
     "iopub.execute_input": "2021-07-31T20:10:47.004759Z",
     "iopub.status.busy": "2021-07-31T20:10:47.004487Z",
     "iopub.status.idle": "2021-07-31T20:10:47.396114Z",
     "shell.execute_reply": "2021-07-31T20:10:47.395239Z",
     "shell.execute_reply.started": "2021-07-31T20:10:47.004732Z"
    },
    "id": "E42raRIrYYXz"
   },
   "outputs": [],
   "source": [
    "# calculate the age feature\n",
    "dataframe['term_value'] = [int(ele[3:]) for ele in dataframe['term']]\n",
    "dataframe['age'] = dataframe['term_value'] - dataframe['birthYear']"
   ]
  },
  {
   "cell_type": "code",
   "execution_count": 193,
   "metadata": {
    "execution": {
     "iopub.execute_input": "2021-07-31T20:10:47.398229Z",
     "iopub.status.busy": "2021-07-31T20:10:47.397923Z",
     "iopub.status.idle": "2021-07-31T20:10:47.581762Z",
     "shell.execute_reply": "2021-07-31T20:10:47.580904Z",
     "shell.execute_reply.started": "2021-07-31T20:10:47.398204Z"
    },
    "id": "pcMVQXueYnMh"
   },
   "outputs": [],
   "source": [
    "# drop term_value and birthYear column\n",
    "dataframe.drop(columns=['term_value', 'birthYear'], inplace=True)"
   ]
  },
  {
   "cell_type": "code",
   "execution_count": 194,
   "metadata": {
    "execution": {
     "iopub.execute_input": "2021-07-31T20:10:47.583442Z",
     "iopub.status.busy": "2021-07-31T20:10:47.583057Z",
     "iopub.status.idle": "2021-07-31T20:10:48.000390Z",
     "shell.execute_reply": "2021-07-31T20:10:47.999500Z",
     "shell.execute_reply.started": "2021-07-31T20:10:47.583408Z"
    },
    "id": "hjRF5szkcQE0"
   },
   "outputs": [],
   "source": [
    "# convert minors_count to int value\n",
    "new_minors_count = []\n",
    "for i in dataframe['minorsCount']:\n",
    "  if i == 0 or i == '0':\n",
    "    new_minors_count.append(0)\n",
    "  elif i == '1 Minor':\n",
    "    new_minors_count.append(1)\n",
    "  else:\n",
    "    new_minors_count.append(2)\n",
    "\n",
    "dataframe['minorsCount'] = new_minors_count"
   ]
  },
  {
   "cell_type": "code",
   "execution_count": 195,
   "metadata": {
    "execution": {
     "iopub.execute_input": "2021-07-31T20:10:48.002005Z",
     "iopub.status.busy": "2021-07-31T20:10:48.001636Z",
     "iopub.status.idle": "2021-07-31T20:10:48.017414Z",
     "shell.execute_reply": "2021-07-31T20:10:48.016441Z",
     "shell.execute_reply.started": "2021-07-31T20:10:48.001970Z"
    },
    "id": "9VdzvJSw0KUU",
    "outputId": "6393784f-234e-4935-9cee-cbcf56b5630a"
   },
   "outputs": [
    {
     "name": "stdout",
     "output_type": "stream",
     "text": [
      "we have  1110  users in total.\n"
     ]
    }
   ],
   "source": [
    "print(\"we have \", dataframe['user_id'].nunique(),\" users in total.\")"
   ]
  },
  {
   "cell_type": "code",
   "execution_count": 196,
   "metadata": {
    "execution": {
     "iopub.execute_input": "2021-07-31T20:10:48.019240Z",
     "iopub.status.busy": "2021-07-31T20:10:48.018739Z",
     "iopub.status.idle": "2021-07-31T20:10:48.028255Z",
     "shell.execute_reply": "2021-07-31T20:10:48.027355Z",
     "shell.execute_reply.started": "2021-07-31T20:10:48.019205Z"
    },
    "id": "hUaGk9L9g13t"
   },
   "outputs": [],
   "source": [
    "for category in ['term','chapter_label', 'sub_chapter_label', 'question_name']:\n",
    "  dataframe[category] =  dataframe[category].cat.codes"
   ]
  },
  {
   "cell_type": "code",
   "execution_count": 197,
   "metadata": {
    "execution": {
     "iopub.execute_input": "2021-07-31T20:10:48.029883Z",
     "iopub.status.busy": "2021-07-31T20:10:48.029496Z",
     "iopub.status.idle": "2021-07-31T20:10:48.274295Z",
     "shell.execute_reply": "2021-07-31T20:10:48.273428Z",
     "shell.execute_reply.started": "2021-07-31T20:10:48.029848Z"
    },
    "id": "hkyvcYvlhliG"
   },
   "outputs": [],
   "source": [
    "NUMERIC_FEATURE =  ['age',\n",
    "            'exclClassCumGPA',\n",
    "            'termCreditsGPA',\n",
    "            'termCreditsNoGPA',\n",
    "            'highSchoolGPA', \n",
    "            'majorsCount', 'minorsCount',\n",
    "            'PREV_TERM_CUM_GPA',\n",
    "            'available_flashcards', \n",
    "            'days_offset', \n",
    "            'prev_time_elapsed',\n",
    "             'time_lag']\n",
    "# z-score normalize the numerical features\n",
    "for f in NUMERIC_FEATURE:\n",
    "  m = dataframe[f].mean()\n",
    "  std = dataframe[f].std()\n",
    "  dataframe[f] = (dataframe[f] - m)/std"
   ]
  },
  {
   "cell_type": "code",
   "execution_count": 198,
   "metadata": {
    "execution": {
     "iopub.execute_input": "2021-07-31T20:10:48.275895Z",
     "iopub.status.busy": "2021-07-31T20:10:48.275566Z",
     "iopub.status.idle": "2021-07-31T20:10:51.446921Z",
     "shell.execute_reply": "2021-07-31T20:10:51.446128Z",
     "shell.execute_reply.started": "2021-07-31T20:10:48.275862Z"
    },
    "id": "wo2OH-d5kWp1"
   },
   "outputs": [],
   "source": [
    "FEATURE_TRANS =  ['answer_correct', 'chapter_label', 'sub_chapter_label','question_name','user_id','term',\n",
    "                  'STDNT_SEX_CD', \n",
    "                    'White','Asian','NonWhiteOrAsian',\n",
    "            'STDNT_CTZN_STAT_CD', 'international', \n",
    "            'age',\n",
    "            'exclClassCumGPA',\n",
    "           'Freshman',\n",
    "            'Junior',\n",
    "            'Sophomore',\n",
    "            'Senior',\n",
    "            'termCreditsGPA',\n",
    "            'termCreditsNoGPA',\n",
    "            'athlete_1',\n",
    "            'honorsPro',\n",
    "            'LSA', 'programBusiness', 'programEngineering', \n",
    "            'programInformation', 'programOther',\n",
    "            'HSCalculusTaken', \n",
    "            'highSchoolGPA', \n",
    "            'majorsCount', 'minorsCount',\n",
    "            'PREV_TERM_CUM_GPA',\n",
    "            'classGraded', 'classHonors', \n",
    "            'Pass_Fail', \n",
    "            'parentsGraduateEdu',  'minorityGroup', \n",
    "            'available_flashcards', \n",
    "            'days_offset', 'prev_time_elapsed',\n",
    "             'time_lag']\n",
    "grouped_data = dataframe[FEATURE_TRANS].groupby(['user_id']).apply(lambda r: (\n",
    "                r['answer_correct'],\n",
    "                r['term'],\n",
    "                r['chapter_label'],\n",
    "                r['sub_chapter_label'],\n",
    "                r['question_name'],\n",
    "                np.array([r['STDNT_SEX_CD'],r['STDNT_CTZN_STAT_CD'], r['international'], \n",
    "                  r['White'],r['Asian'],r['NonWhiteOrAsian'],\n",
    "                 r['age'],r['exclClassCumGPA'],\n",
    "                r['Freshman'], r['Junior'], r['Sophomore'], r['Senior'],\n",
    "                r['termCreditsGPA'], r['termCreditsNoGPA'],\n",
    "                r['athlete_1'], r['honorsPro'],\n",
    "                r['LSA'], r['programBusiness'], r['programEngineering'], \n",
    "                r['programInformation'], r['programOther'],\n",
    "                r['HSCalculusTaken'],  r['highSchoolGPA'], \n",
    "                r['majorsCount'], r['minorsCount'],\n",
    "                r['PREV_TERM_CUM_GPA'], \n",
    "                r['parentsGraduateEdu'], r['minorityGroup'],\n",
    "                r['available_flashcards'],\n",
    "                r['days_offset'],\n",
    "                r['prev_time_elapsed'],\n",
    "                r['time_lag']\n",
    "              ]).transpose()\n",
    "                ))"
   ]
  },
  {
   "cell_type": "code",
   "execution_count": 199,
   "metadata": {
    "execution": {
     "iopub.execute_input": "2021-07-31T20:10:51.448736Z",
     "iopub.status.busy": "2021-07-31T20:10:51.448248Z",
     "iopub.status.idle": "2021-07-31T20:10:51.653814Z",
     "shell.execute_reply": "2021-07-31T20:10:51.652988Z",
     "shell.execute_reply.started": "2021-07-31T20:10:51.448700Z"
    },
    "id": "XXLqQnjrlp_4",
    "outputId": "c801da79-f0bf-4fe5-b19c-7c799fe01556"
   },
   "outputs": [
    {
     "data": {
      "text/plain": [
       "22"
      ]
     },
     "execution_count": 199,
     "metadata": {},
     "output_type": "execute_result"
    }
   ],
   "source": [
    "gc.collect()"
   ]
  },
  {
   "cell_type": "code",
   "execution_count": 200,
   "metadata": {
    "execution": {
     "iopub.execute_input": "2021-07-31T20:10:51.655605Z",
     "iopub.status.busy": "2021-07-31T20:10:51.655110Z",
     "iopub.status.idle": "2021-07-31T20:10:51.692744Z",
     "shell.execute_reply": "2021-07-31T20:10:51.691986Z",
     "shell.execute_reply.started": "2021-07-31T20:10:51.655559Z"
    },
    "id": "QYGQasdTrmP0"
   },
   "outputs": [],
   "source": [
    "# remove students who don't have make any interactions with the tool\n",
    "toRemove = []\n",
    "for index in grouped_data.index:\n",
    "  if len(grouped_data[index][0]) <= 10:\n",
    "    toRemove.append(index)\n",
    "grouped_data = grouped_data.drop(index=toRemove)"
   ]
  },
  {
   "cell_type": "code",
   "execution_count": 201,
   "metadata": {
    "execution": {
     "iopub.execute_input": "2021-07-31T20:10:51.694266Z",
     "iopub.status.busy": "2021-07-31T20:10:51.693905Z",
     "iopub.status.idle": "2021-07-31T20:10:51.710575Z",
     "shell.execute_reply": "2021-07-31T20:10:51.709576Z",
     "shell.execute_reply.started": "2021-07-31T20:10:51.694231Z"
    }
   },
   "outputs": [
    {
     "data": {
      "text/plain": [
       "count    1110.000000\n",
       "mean      550.263063\n",
       "std       201.281353\n",
       "min         2.000000\n",
       "25%       438.250000\n",
       "50%       520.500000\n",
       "75%       637.750000\n",
       "max      1500.000000\n",
       "Name: start_practice, dtype: float64"
      ]
     },
     "execution_count": 201,
     "metadata": {},
     "output_type": "execute_result"
    }
   ],
   "source": [
    "dataframe.groupby('user_id')['start_practice'].agg('count').describe()"
   ]
  },
  {
   "cell_type": "code",
   "execution_count": 202,
   "metadata": {
    "execution": {
     "iopub.execute_input": "2021-07-31T20:10:51.712325Z",
     "iopub.status.busy": "2021-07-31T20:10:51.711922Z",
     "iopub.status.idle": "2021-07-31T20:10:51.718495Z",
     "shell.execute_reply": "2021-07-31T20:10:51.717439Z",
     "shell.execute_reply.started": "2021-07-31T20:10:51.712286Z"
    }
   },
   "outputs": [
    {
     "data": {
      "text/plain": [
       "['FA 2018:252', 'WN 2018:295']"
      ]
     },
     "execution_count": 202,
     "metadata": {},
     "output_type": "execute_result"
    }
   ],
   "source": [
    "toRemove"
   ]
  },
  {
   "cell_type": "code",
   "execution_count": 203,
   "metadata": {
    "execution": {
     "iopub.execute_input": "2021-07-31T20:10:51.720594Z",
     "iopub.status.busy": "2021-07-31T20:10:51.720062Z",
     "iopub.status.idle": "2021-07-31T20:10:51.726254Z",
     "shell.execute_reply": "2021-07-31T20:10:51.725163Z",
     "shell.execute_reply.started": "2021-07-31T20:10:51.720494Z"
    },
    "id": "9kZqV9siDyNb"
   },
   "outputs": [],
   "source": [
    "#SETTINGS -> can be modified at any time\n",
    "MAXLENGTH = 200\n",
    "EMBEDDING_DIM = 128\n",
    "DENSE_NEURON = 16\n",
    "GRU_NEURON = 32"
   ]
  },
  {
   "cell_type": "code",
   "execution_count": 204,
   "metadata": {
    "execution": {
     "iopub.execute_input": "2021-07-31T20:10:51.728315Z",
     "iopub.status.busy": "2021-07-31T20:10:51.727920Z",
     "iopub.status.idle": "2021-07-31T20:10:51.735996Z",
     "shell.execute_reply": "2021-07-31T20:10:51.735246Z",
     "shell.execute_reply.started": "2021-07-31T20:10:51.728279Z"
    },
    "id": "1MksD1JizpPn"
   },
   "outputs": [],
   "source": [
    "#FEATURES_SIZE = 38\n",
    "CHAPTER_SIZE = 38\n",
    "SUB_CHAPTER_SIZE = 223\n",
    "QUESTION_SIZE = 1069"
   ]
  },
  {
   "cell_type": "code",
   "execution_count": 205,
   "metadata": {
    "execution": {
     "iopub.execute_input": "2021-07-31T20:10:51.737785Z",
     "iopub.status.busy": "2021-07-31T20:10:51.737334Z",
     "iopub.status.idle": "2021-07-31T20:10:51.753923Z",
     "shell.execute_reply": "2021-07-31T20:10:51.753106Z",
     "shell.execute_reply.started": "2021-07-31T20:10:51.737694Z"
    }
   },
   "outputs": [
    {
     "data": {
      "text/plain": [
       "array([ 96,  86,  88,  28,  12,  82, 125,  32,  69,  33,  21, 115, 120,\n",
       "       119,  91,  73,  57,  77, 117,  40,  74,  41,  68,  39,  92,  47,\n",
       "       104,  95,  53,  49,  50,  16,  52,  55,   7,  15,  51, 102, 103,\n",
       "        11,  94, 108, 100,  17,  67,  63,  13, 139,  26,  25,   8, 107,\n",
       "         0,  90,  48,  54, 138,   1,   2,   3,  34,  35,  85,   5,  24,\n",
       "        37,  36,  78,  70,  45, 142,  71,  10,  89, 111, 112, 109, 116,\n",
       "        76,  72, 148, 134, 146, 221, 143,  56,  60,  61,  23, 140, 106,\n",
       "        42,  83,  22, 145, 136, 144,  38,   4,  19, 137,  75,  43,  98,\n",
       "        84, 113, 173, 174, 175, 176, 177, 178, 180, 181, 182, 187, 189,\n",
       "       190, 191, 192, 193, 195, 197, 151, 152, 153, 156, 157, 158, 159,\n",
       "       160, 161, 163, 164, 165, 166, 167, 168, 169, 170, 171, 172, 198,\n",
       "       199, 200, 201, 202, 203, 204, 205, 206, 207, 208, 209, 210, 162,\n",
       "       179, 186, 188, 194, 183, 184, 185, 211, 212, 213, 154, 155, 196,\n",
       "         6, 118,  18, 215,  46, 216, 141,  27, 217, 105, 123, 218, 101,\n",
       "       124, 219, 122, 220,  58,  59,  64,  20,  93,  65,  66,   9,  44,\n",
       "        30,  14,  79, 121,  31, 110, 129,  87,  97,  62, 149, 132, 131,\n",
       "       150, 130, 128,  99, 147, 127, 214, 135,  80, 126, 133,  81, 114,\n",
       "        29], dtype=int16)"
      ]
     },
     "execution_count": 205,
     "metadata": {},
     "output_type": "execute_result"
    }
   ],
   "source": [
    "dataframe['sub_chapter_label'].unique()"
   ]
  },
  {
   "cell_type": "code",
   "execution_count": 206,
   "metadata": {
    "execution": {
     "iopub.execute_input": "2021-07-31T20:10:51.755725Z",
     "iopub.status.busy": "2021-07-31T20:10:51.755313Z",
     "iopub.status.idle": "2021-07-31T20:10:51.770652Z",
     "shell.execute_reply": "2021-07-31T20:10:51.768941Z",
     "shell.execute_reply.started": "2021-07-31T20:10:51.755689Z"
    },
    "id": "mY3Thp6d0NaT"
   },
   "outputs": [],
   "source": [
    "#create dataset class\n",
    "#to prepare it for train, valid, and test sets\n",
    "from torch.utils.data import Dataset, DataLoader\n",
    "class SPACE_DATASET(Dataset):\n",
    "    def __init__(self, data, maxlength = 600):\n",
    "        super(SPACE_DATASET, self).__init__()\n",
    "        self.maxlength = maxlength\n",
    "        self.data = data\n",
    "        self.users = list()\n",
    "        for user in data.index:\n",
    "            self.users.append(user)\n",
    "\n",
    "    def __len__(self):\n",
    "        return len(self.users)\n",
    "    \n",
    "    def __getitem__(self, ix):\n",
    "        user = self.users[ix]\n",
    "        user = user\n",
    "        target, term, ch_label, sub_ch_label, ques_name, features = self.data[user]\n",
    "        \n",
    "        #0s should be used as padding values\n",
    "        ori_target = target.values \n",
    "        term = term.values\n",
    "        ch_label = ch_label.values + 1\n",
    "        sub_ch_label = sub_ch_label.values +1\n",
    "        ques_name = ques_name.values + 1\n",
    "        \n",
    "        n = len(ch_label)\n",
    "\n",
    "        # one hot for term\n",
    "        term_encode = [0]*7\n",
    "        term_encode[term[0]] = 1\n",
    "        shifted_target= []\n",
    "\n",
    "        \n",
    "        # get  user interaction informations in the previous MAXLEN interactions\n",
    "        if n > self.maxlength:\n",
    "          ch_label = ch_label[-self.maxlength:]\n",
    "          sub_ch_label = sub_ch_label[-self.maxlength:]\n",
    "          ques_name = ques_name[-self.maxlength:]\n",
    "          features = features[-self.maxlength:]\n",
    "          target = ori_target[-self.maxlength:]\n",
    "          shifted_target = ori_target[ (-self.maxlength - 1) :-1]\n",
    "        else:\n",
    "          ch_label = [0]*(self.maxlength - n)+list(ch_label[:])\n",
    "          sub_ch_label = [0]*(self.maxlength - n)+list(sub_ch_label[:])\n",
    "          ques_name = [0]*(self.maxlength - n)+list(ques_name[:])\n",
    "          features = [[0]*len(features[0])]*(self.maxlength  - n)+list(features[:])\n",
    "          target = [-1]*(self.maxlength - n) + list(ori_target[:])\n",
    "          shifted_target = [-1]*(self.maxlength + 1 - n) + list(ori_target[:-1])\n",
    "\n",
    "        new_features = []\n",
    "        count = 0\n",
    "        for f in features:\n",
    "          temp = list(f)\n",
    "          temp.extend(term_encode)\n",
    "          # temp.append(shifted_target[count]) #uncomment this line for include previous response feature\n",
    "          new_features.append(temp)\n",
    "          count += 1\n",
    "        features = new_features\n",
    "        return ch_label,sub_ch_label,ques_name,target"
   ]
  },
  {
   "cell_type": "code",
   "execution_count": 207,
   "metadata": {
    "execution": {
     "iopub.execute_input": "2021-07-31T20:10:51.772670Z",
     "iopub.status.busy": "2021-07-31T20:10:51.772281Z",
     "iopub.status.idle": "2021-07-31T20:10:51.785394Z",
     "shell.execute_reply": "2021-07-31T20:10:51.784477Z",
     "shell.execute_reply.started": "2021-07-31T20:10:51.772631Z"
    }
   },
   "outputs": [
    {
     "data": {
      "text/plain": [
       "223"
      ]
     },
     "execution_count": 207,
     "metadata": {},
     "output_type": "execute_result"
    }
   ],
   "source": [
    "SUB_CHAPTER_SIZE"
   ]
  },
  {
   "cell_type": "markdown",
   "metadata": {
    "id": "4xc90-aLzxat"
   },
   "source": [
    "## KFOLD - GRU\n"
   ]
  },
  {
   "cell_type": "code",
   "execution_count": 208,
   "metadata": {
    "execution": {
     "iopub.execute_input": "2021-07-31T20:10:51.787253Z",
     "iopub.status.busy": "2021-07-31T20:10:51.786798Z",
     "iopub.status.idle": "2021-07-31T20:11:37.824117Z",
     "shell.execute_reply": "2021-07-31T20:11:37.823217Z",
     "shell.execute_reply.started": "2021-07-31T20:10:51.787220Z"
    },
    "id": "gzJrljnjzypP",
    "outputId": "87abe488-b493-4f8f-9d71-45cb1d2ddf51"
   },
   "outputs": [
    {
     "name": "stdout",
     "output_type": "stream",
     "text": [
      "Epoch 1/100\n",
      "14/14 [==============================] - 2s 51ms/step - loss: 0.6083 - masked_acc: 0.6379 - masked_auc: 0.5934 - val_loss: 0.4852 - val_masked_acc: 0.7399 - val_masked_auc: 0.6747\n",
      "Epoch 2/100\n",
      "14/14 [==============================] - 0s 16ms/step - loss: 0.4721 - masked_acc: 0.7454 - masked_auc: 0.6944 - val_loss: 0.4652 - val_masked_acc: 0.7542 - val_masked_auc: 0.7310\n",
      "Epoch 3/100\n",
      "14/14 [==============================] - 0s 16ms/step - loss: 0.4623 - masked_acc: 0.7555 - masked_auc: 0.7386 - val_loss: 0.4615 - val_masked_acc: 0.7597 - val_masked_auc: 0.7528\n",
      "Epoch 4/100\n",
      "14/14 [==============================] - 0s 16ms/step - loss: 0.4591 - masked_acc: 0.7604 - masked_auc: 0.7568 - val_loss: 0.4603 - val_masked_acc: 0.7625 - val_masked_auc: 0.7642\n",
      "Epoch 5/100\n",
      "14/14 [==============================] - 0s 16ms/step - loss: 0.4536 - masked_acc: 0.7631 - masked_auc: 0.7662 - val_loss: 0.4602 - val_masked_acc: 0.7643 - val_masked_auc: 0.7709\n",
      "Epoch 6/100\n",
      "14/14 [==============================] - 0s 16ms/step - loss: 0.4583 - masked_acc: 0.7644 - masked_auc: 0.7722 - val_loss: 0.4605 - val_masked_acc: 0.7656 - val_masked_auc: 0.7755\n",
      "Epoch 7/100\n",
      "14/14 [==============================] - 0s 17ms/step - loss: 0.4522 - masked_acc: 0.7659 - masked_auc: 0.7766 - val_loss: 0.4599 - val_masked_acc: 0.7665 - val_masked_auc: 0.7787\n",
      "Epoch 8/100\n",
      "14/14 [==============================] - 0s 16ms/step - loss: 0.4589 - masked_acc: 0.7664 - masked_auc: 0.7794 - val_loss: 0.4601 - val_masked_acc: 0.7671 - val_masked_auc: 0.7811\n",
      "Epoch 9/100\n",
      "14/14 [==============================] - 0s 18ms/step - loss: 0.4524 - masked_acc: 0.7673 - masked_auc: 0.7818 - val_loss: 0.4599 - val_masked_acc: 0.7677 - val_masked_auc: 0.7830\n",
      "Epoch 10/100\n",
      "14/14 [==============================] - 0s 16ms/step - loss: 0.4543 - masked_acc: 0.7677 - masked_auc: 0.7834 - val_loss: 0.4606 - val_masked_acc: 0.7680 - val_masked_auc: 0.7845\n",
      "Epoch 11/100\n",
      "14/14 [==============================] - 0s 17ms/step - loss: 0.4569 - masked_acc: 0.7680 - masked_auc: 0.7848 - val_loss: 0.4595 - val_masked_acc: 0.7684 - val_masked_auc: 0.7857\n",
      "Epoch 12/100\n",
      "14/14 [==============================] - 0s 17ms/step - loss: 0.4569 - masked_acc: 0.7684 - masked_auc: 0.7859 - val_loss: 0.4606 - val_masked_acc: 0.7687 - val_masked_auc: 0.7867\n",
      "Epoch 13/100\n",
      "14/14 [==============================] - 0s 16ms/step - loss: 0.4546 - masked_acc: 0.7687 - masked_auc: 0.7870 - val_loss: 0.4605 - val_masked_acc: 0.7689 - val_masked_auc: 0.7875\n",
      "Epoch 14/100\n",
      "14/14 [==============================] - 0s 16ms/step - loss: 0.4496 - masked_acc: 0.7689 - masked_auc: 0.7878 - val_loss: 0.4603 - val_masked_acc: 0.7690 - val_masked_auc: 0.7882\n",
      "Epoch 15/100\n",
      "14/14 [==============================] - 0s 16ms/step - loss: 0.4565 - masked_acc: 0.7690 - masked_auc: 0.7884 - val_loss: 0.4603 - val_masked_acc: 0.7692 - val_masked_auc: 0.7888\n",
      "Epoch 16/100\n",
      "14/14 [==============================] - 0s 16ms/step - loss: 0.4520 - masked_acc: 0.7692 - masked_auc: 0.7890 - val_loss: 0.4602 - val_masked_acc: 0.7694 - val_masked_auc: 0.7894\n",
      "Epoch 17/100\n",
      "14/14 [==============================] - 0s 17ms/step - loss: 0.4616 - masked_acc: 0.7693 - masked_auc: 0.7894 - val_loss: 0.4600 - val_masked_acc: 0.7695 - val_masked_auc: 0.7899\n",
      "Epoch 18/100\n",
      "14/14 [==============================] - 0s 16ms/step - loss: 0.4552 - masked_acc: 0.7695 - masked_auc: 0.7900 - val_loss: 0.4605 - val_masked_acc: 0.7697 - val_masked_auc: 0.7903\n",
      "Epoch 19/100\n",
      "14/14 [==============================] - 0s 17ms/step - loss: 0.4545 - masked_acc: 0.7697 - masked_auc: 0.7904 - val_loss: 0.4599 - val_masked_acc: 0.7698 - val_masked_auc: 0.7907\n",
      "Epoch 20/100\n",
      "14/14 [==============================] - 0s 17ms/step - loss: 0.4593 - masked_acc: 0.7697 - masked_auc: 0.7907 - val_loss: 0.4604 - val_masked_acc: 0.7699 - val_masked_auc: 0.7911\n",
      "Epoch 21/100\n",
      "14/14 [==============================] - 0s 17ms/step - loss: 0.4548 - masked_acc: 0.7698 - masked_auc: 0.7912 - val_loss: 0.4606 - val_masked_acc: 0.7699 - val_masked_auc: 0.7914\n",
      "28/28 [==============================] - 0s 5ms/step - loss: 0.4555 - masked_acc: 0.7702 - masked_auc: 0.7917\n",
      "4/4 [==============================] - 0s 6ms/step - loss: 0.4437 - masked_acc: 0.7700 - masked_auc: 0.7917\n",
      "Test:  [0.4437310993671417, 0.7699994444847107, 0.7917217016220093]\n",
      "Epoch 1/100\n",
      "14/14 [==============================] - 2s 53ms/step - loss: 0.6052 - masked_acc: 0.6426 - masked_auc: 0.6046 - val_loss: 0.5297 - val_masked_acc: 0.7402 - val_masked_auc: 0.6729\n",
      "Epoch 2/100\n",
      "14/14 [==============================] - 0s 17ms/step - loss: 0.4730 - masked_acc: 0.7456 - masked_auc: 0.6935 - val_loss: 0.5044 - val_masked_acc: 0.7541 - val_masked_auc: 0.7300\n",
      "Epoch 3/100\n",
      "14/14 [==============================] - 0s 16ms/step - loss: 0.4596 - masked_acc: 0.7555 - masked_auc: 0.7385 - val_loss: 0.5055 - val_masked_acc: 0.7592 - val_masked_auc: 0.7518\n",
      "Epoch 4/100\n",
      "14/14 [==============================] - 0s 17ms/step - loss: 0.4456 - masked_acc: 0.7606 - masked_auc: 0.7563 - val_loss: 0.5037 - val_masked_acc: 0.7621 - val_masked_auc: 0.7629\n",
      "Epoch 5/100\n",
      "14/14 [==============================] - 0s 17ms/step - loss: 0.4500 - masked_acc: 0.7628 - masked_auc: 0.7656 - val_loss: 0.5021 - val_masked_acc: 0.7637 - val_masked_auc: 0.7698\n",
      "Epoch 6/100\n",
      "14/14 [==============================] - 0s 17ms/step - loss: 0.4565 - masked_acc: 0.7639 - masked_auc: 0.7713 - val_loss: 0.5035 - val_masked_acc: 0.7649 - val_masked_auc: 0.7744\n",
      "Epoch 7/100\n",
      "14/14 [==============================] - 0s 16ms/step - loss: 0.4552 - masked_acc: 0.7650 - masked_auc: 0.7755 - val_loss: 0.5034 - val_masked_acc: 0.7657 - val_masked_auc: 0.7776\n",
      "Epoch 8/100\n",
      "14/14 [==============================] - 0s 17ms/step - loss: 0.4543 - masked_acc: 0.7657 - masked_auc: 0.7783 - val_loss: 0.5036 - val_masked_acc: 0.7662 - val_masked_auc: 0.7800\n",
      "Epoch 9/100\n",
      "14/14 [==============================] - 0s 16ms/step - loss: 0.4529 - masked_acc: 0.7663 - masked_auc: 0.7806 - val_loss: 0.5036 - val_masked_acc: 0.7667 - val_masked_auc: 0.7819\n",
      "Epoch 10/100\n",
      "14/14 [==============================] - 0s 17ms/step - loss: 0.4545 - masked_acc: 0.7668 - masked_auc: 0.7824 - val_loss: 0.5031 - val_masked_acc: 0.7671 - val_masked_auc: 0.7834\n",
      "Epoch 11/100\n",
      "14/14 [==============================] - 0s 17ms/step - loss: 0.4513 - masked_acc: 0.7672 - masked_auc: 0.7838 - val_loss: 0.5043 - val_masked_acc: 0.7674 - val_masked_auc: 0.7846\n",
      "Epoch 12/100\n",
      "14/14 [==============================] - 0s 16ms/step - loss: 0.4612 - masked_acc: 0.7673 - masked_auc: 0.7848 - val_loss: 0.5043 - val_masked_acc: 0.7676 - val_masked_auc: 0.7856\n",
      "Epoch 13/100\n",
      "14/14 [==============================] - 0s 17ms/step - loss: 0.4596 - masked_acc: 0.7675 - masked_auc: 0.7858 - val_loss: 0.5031 - val_masked_acc: 0.7678 - val_masked_auc: 0.7865\n",
      "Epoch 14/100\n",
      "14/14 [==============================] - 0s 16ms/step - loss: 0.4550 - masked_acc: 0.7678 - masked_auc: 0.7867 - val_loss: 0.5041 - val_masked_acc: 0.7680 - val_masked_auc: 0.7872\n",
      "Epoch 15/100\n",
      "14/14 [==============================] - 0s 17ms/step - loss: 0.4510 - masked_acc: 0.7680 - masked_auc: 0.7875 - val_loss: 0.5041 - val_masked_acc: 0.7682 - val_masked_auc: 0.7879\n",
      "28/28 [==============================] - 0s 5ms/step - loss: 0.4515 - masked_acc: 0.7686 - masked_auc: 0.7885\n",
      "4/4 [==============================] - 0s 6ms/step - loss: 0.4294 - masked_acc: 0.7685 - masked_auc: 0.7888\n",
      "Test:  [0.42935144901275635, 0.7685378789901733, 0.7887651920318604]\n",
      "Epoch 1/100\n",
      "14/14 [==============================] - 2s 51ms/step - loss: 0.6044 - masked_acc: 0.6509 - masked_auc: 0.5983 - val_loss: 0.4825 - val_masked_acc: 0.7417 - val_masked_auc: 0.6778\n",
      "Epoch 2/100\n",
      "14/14 [==============================] - 0s 16ms/step - loss: 0.4753 - masked_acc: 0.7466 - masked_auc: 0.6968 - val_loss: 0.4637 - val_masked_acc: 0.7550 - val_masked_auc: 0.7317\n",
      "Epoch 3/100\n",
      "14/14 [==============================] - 0s 16ms/step - loss: 0.4580 - masked_acc: 0.7569 - masked_auc: 0.7405 - val_loss: 0.4605 - val_masked_acc: 0.7602 - val_masked_auc: 0.7535\n",
      "Epoch 4/100\n",
      "14/14 [==============================] - 0s 30ms/step - loss: 0.4586 - masked_acc: 0.7607 - masked_auc: 0.7570 - val_loss: 0.4588 - val_masked_acc: 0.7631 - val_masked_auc: 0.7646\n",
      "Epoch 5/100\n",
      "14/14 [==============================] - 0s 26ms/step - loss: 0.4559 - masked_acc: 0.7633 - masked_auc: 0.7670 - val_loss: 0.4582 - val_masked_acc: 0.7648 - val_masked_auc: 0.7713\n",
      "Epoch 6/100\n",
      "14/14 [==============================] - 0s 26ms/step - loss: 0.4576 - masked_acc: 0.7648 - masked_auc: 0.7726 - val_loss: 0.4591 - val_masked_acc: 0.7659 - val_masked_auc: 0.7756\n",
      "Epoch 7/100\n",
      "14/14 [==============================] - 0s 17ms/step - loss: 0.4561 - masked_acc: 0.7659 - masked_auc: 0.7766 - val_loss: 0.4581 - val_masked_acc: 0.7667 - val_masked_auc: 0.7788\n",
      "Epoch 8/100\n",
      "14/14 [==============================] - 0s 16ms/step - loss: 0.4568 - masked_acc: 0.7666 - masked_auc: 0.7794 - val_loss: 0.4586 - val_masked_acc: 0.7673 - val_masked_auc: 0.7812\n",
      "Epoch 9/100\n",
      "14/14 [==============================] - 0s 17ms/step - loss: 0.4591 - masked_acc: 0.7672 - masked_auc: 0.7817 - val_loss: 0.4576 - val_masked_acc: 0.7677 - val_masked_auc: 0.7829\n",
      "Epoch 10/100\n",
      "14/14 [==============================] - 0s 17ms/step - loss: 0.4515 - masked_acc: 0.7678 - masked_auc: 0.7835 - val_loss: 0.4587 - val_masked_acc: 0.7681 - val_masked_auc: 0.7844\n",
      "Epoch 11/100\n",
      "14/14 [==============================] - 0s 29ms/step - loss: 0.4546 - masked_acc: 0.7681 - masked_auc: 0.7847 - val_loss: 0.4576 - val_masked_acc: 0.7684 - val_masked_auc: 0.7855\n",
      "Epoch 12/100\n",
      "14/14 [==============================] - 0s 24ms/step - loss: 0.4550 - masked_acc: 0.7683 - masked_auc: 0.7860 - val_loss: 0.4579 - val_masked_acc: 0.7686 - val_masked_auc: 0.7866\n",
      "Epoch 13/100\n",
      "14/14 [==============================] - 0s 17ms/step - loss: 0.4587 - masked_acc: 0.7686 - masked_auc: 0.7867 - val_loss: 0.4583 - val_masked_acc: 0.7689 - val_masked_auc: 0.7874\n",
      "Epoch 14/100\n",
      "14/14 [==============================] - 0s 17ms/step - loss: 0.4529 - masked_acc: 0.7689 - masked_auc: 0.7877 - val_loss: 0.4586 - val_masked_acc: 0.7690 - val_masked_auc: 0.7881\n",
      "Epoch 15/100\n",
      "14/14 [==============================] - 0s 17ms/step - loss: 0.4567 - masked_acc: 0.7690 - masked_auc: 0.7884 - val_loss: 0.4575 - val_masked_acc: 0.7692 - val_masked_auc: 0.7887\n",
      "Epoch 16/100\n",
      "14/14 [==============================] - 0s 17ms/step - loss: 0.4590 - masked_acc: 0.7691 - masked_auc: 0.7888 - val_loss: 0.4578 - val_masked_acc: 0.7694 - val_masked_auc: 0.7893\n",
      "Epoch 17/100\n",
      "14/14 [==============================] - 0s 16ms/step - loss: 0.4597 - masked_acc: 0.7692 - masked_auc: 0.7894 - val_loss: 0.4578 - val_masked_acc: 0.7695 - val_masked_auc: 0.7898\n",
      "Epoch 18/100\n",
      "14/14 [==============================] - 0s 17ms/step - loss: 0.4565 - masked_acc: 0.7694 - masked_auc: 0.7899 - val_loss: 0.4577 - val_masked_acc: 0.7696 - val_masked_auc: 0.7902\n",
      "Epoch 19/100\n",
      "14/14 [==============================] - 0s 16ms/step - loss: 0.4576 - masked_acc: 0.7695 - masked_auc: 0.7903 - val_loss: 0.4577 - val_masked_acc: 0.7697 - val_masked_auc: 0.7906\n",
      "Epoch 20/100\n",
      "14/14 [==============================] - 0s 16ms/step - loss: 0.4528 - masked_acc: 0.7697 - masked_auc: 0.7907 - val_loss: 0.4604 - val_masked_acc: 0.7698 - val_masked_auc: 0.7909\n",
      "Epoch 21/100\n",
      "14/14 [==============================] - 0s 16ms/step - loss: 0.4599 - masked_acc: 0.7696 - masked_auc: 0.7909 - val_loss: 0.4573 - val_masked_acc: 0.7698 - val_masked_auc: 0.7912\n",
      "Epoch 22/100\n",
      "14/14 [==============================] - 0s 16ms/step - loss: 0.4550 - masked_acc: 0.7698 - masked_auc: 0.7913 - val_loss: 0.4582 - val_masked_acc: 0.7699 - val_masked_auc: 0.7915\n",
      "Epoch 23/100\n",
      "14/14 [==============================] - 0s 16ms/step - loss: 0.4518 - masked_acc: 0.7699 - masked_auc: 0.7915 - val_loss: 0.4595 - val_masked_acc: 0.7699 - val_masked_auc: 0.7917\n",
      "Epoch 24/100\n",
      "14/14 [==============================] - 0s 17ms/step - loss: 0.4545 - masked_acc: 0.7699 - masked_auc: 0.7918 - val_loss: 0.4576 - val_masked_acc: 0.7700 - val_masked_auc: 0.7919\n",
      "Epoch 25/100\n",
      "14/14 [==============================] - 0s 17ms/step - loss: 0.4499 - masked_acc: 0.7700 - masked_auc: 0.7921 - val_loss: 0.4579 - val_masked_acc: 0.7701 - val_masked_auc: 0.7922\n",
      "Epoch 26/100\n",
      "14/14 [==============================] - 0s 17ms/step - loss: 0.4504 - masked_acc: 0.7701 - masked_auc: 0.7923 - val_loss: 0.4578 - val_masked_acc: 0.7702 - val_masked_auc: 0.7924\n",
      "Epoch 27/100\n",
      "14/14 [==============================] - 0s 16ms/step - loss: 0.4530 - masked_acc: 0.7701 - masked_auc: 0.7924 - val_loss: 0.4578 - val_masked_acc: 0.7702 - val_masked_auc: 0.7926\n",
      "Epoch 28/100\n",
      "14/14 [==============================] - 0s 17ms/step - loss: 0.4606 - masked_acc: 0.7701 - masked_auc: 0.7926 - val_loss: 0.4584 - val_masked_acc: 0.7702 - val_masked_auc: 0.7927\n",
      "Epoch 29/100\n",
      "14/14 [==============================] - 0s 17ms/step - loss: 0.4568 - masked_acc: 0.7702 - masked_auc: 0.7927 - val_loss: 0.4587 - val_masked_acc: 0.7703 - val_masked_auc: 0.7929\n",
      "Epoch 30/100\n",
      "14/14 [==============================] - 0s 17ms/step - loss: 0.4593 - masked_acc: 0.7702 - masked_auc: 0.7929 - val_loss: 0.4570 - val_masked_acc: 0.7703 - val_masked_auc: 0.7931\n",
      "Epoch 31/100\n",
      "14/14 [==============================] - 0s 17ms/step - loss: 0.4523 - masked_acc: 0.7703 - masked_auc: 0.7931 - val_loss: 0.4591 - val_masked_acc: 0.7703 - val_masked_auc: 0.7932\n",
      "Epoch 32/100\n",
      "14/14 [==============================] - 0s 17ms/step - loss: 0.4576 - masked_acc: 0.7703 - masked_auc: 0.7932 - val_loss: 0.4575 - val_masked_acc: 0.7704 - val_masked_auc: 0.7933\n",
      "Epoch 33/100\n",
      "14/14 [==============================] - 0s 16ms/step - loss: 0.4462 - masked_acc: 0.7704 - masked_auc: 0.7934 - val_loss: 0.4590 - val_masked_acc: 0.7704 - val_masked_auc: 0.7935\n",
      "Epoch 34/100\n",
      "14/14 [==============================] - 0s 17ms/step - loss: 0.4590 - masked_acc: 0.7704 - masked_auc: 0.7935 - val_loss: 0.4575 - val_masked_acc: 0.7705 - val_masked_auc: 0.7936\n",
      "Epoch 35/100\n",
      "14/14 [==============================] - 0s 17ms/step - loss: 0.4513 - masked_acc: 0.7705 - masked_auc: 0.7937 - val_loss: 0.4578 - val_masked_acc: 0.7705 - val_masked_auc: 0.7937\n",
      "Epoch 36/100\n",
      "14/14 [==============================] - 0s 16ms/step - loss: 0.4625 - masked_acc: 0.7705 - masked_auc: 0.7937 - val_loss: 0.4574 - val_masked_acc: 0.7706 - val_masked_auc: 0.7938\n",
      "Epoch 37/100\n",
      "14/14 [==============================] - 0s 17ms/step - loss: 0.4567 - masked_acc: 0.7705 - masked_auc: 0.7938 - val_loss: 0.4582 - val_masked_acc: 0.7706 - val_masked_auc: 0.7939\n",
      "Epoch 38/100\n",
      "14/14 [==============================] - 0s 16ms/step - loss: 0.4570 - masked_acc: 0.7706 - masked_auc: 0.7940 - val_loss: 0.4580 - val_masked_acc: 0.7706 - val_masked_auc: 0.7940\n",
      "Epoch 39/100\n",
      "14/14 [==============================] - 0s 17ms/step - loss: 0.4525 - masked_acc: 0.7706 - masked_auc: 0.7941 - val_loss: 0.4575 - val_masked_acc: 0.7707 - val_masked_auc: 0.7941\n",
      "Epoch 40/100\n",
      "14/14 [==============================] - 0s 16ms/step - loss: 0.4501 - masked_acc: 0.7707 - masked_auc: 0.7942 - val_loss: 0.4578 - val_masked_acc: 0.7707 - val_masked_auc: 0.7942\n",
      "28/28 [==============================] - 0s 5ms/step - loss: 0.4545 - masked_acc: 0.7708 - masked_auc: 0.7944\n",
      "4/4 [==============================] - 0s 6ms/step - loss: 0.4498 - masked_acc: 0.7707 - masked_auc: 0.7944\n",
      "Test:  [0.4498354196548462, 0.7707231044769287, 0.7943973541259766]\n",
      "Epoch 1/100\n",
      "14/14 [==============================] - 2s 51ms/step - loss: 0.6009 - masked_acc: 0.6640 - masked_auc: 0.6041 - val_loss: 0.5114 - val_masked_acc: 0.7450 - val_masked_auc: 0.6776\n",
      "Epoch 2/100\n",
      "14/14 [==============================] - 0s 28ms/step - loss: 0.4705 - masked_acc: 0.7504 - masked_auc: 0.6984 - val_loss: 0.4848 - val_masked_acc: 0.7571 - val_masked_auc: 0.7327\n",
      "Epoch 3/100\n",
      "14/14 [==============================] - 0s 23ms/step - loss: 0.4527 - masked_acc: 0.7589 - masked_auc: 0.7415 - val_loss: 0.4822 - val_masked_acc: 0.7614 - val_masked_auc: 0.7537\n",
      "Epoch 4/100\n",
      "14/14 [==============================] - 0s 17ms/step - loss: 0.4545 - masked_acc: 0.7618 - masked_auc: 0.7576 - val_loss: 0.4828 - val_masked_acc: 0.7640 - val_masked_auc: 0.7649\n",
      "Epoch 5/100\n",
      "14/14 [==============================] - 0s 17ms/step - loss: 0.4579 - masked_acc: 0.7641 - masked_auc: 0.7668 - val_loss: 0.4810 - val_masked_acc: 0.7656 - val_masked_auc: 0.7714\n",
      "Epoch 6/100\n",
      "14/14 [==============================] - 0s 16ms/step - loss: 0.4534 - masked_acc: 0.7658 - masked_auc: 0.7728 - val_loss: 0.4820 - val_masked_acc: 0.7666 - val_masked_auc: 0.7758\n",
      "Epoch 7/100\n",
      "14/14 [==============================] - 0s 16ms/step - loss: 0.4512 - masked_acc: 0.7668 - masked_auc: 0.7769 - val_loss: 0.4812 - val_masked_acc: 0.7674 - val_masked_auc: 0.7789\n",
      "Epoch 8/100\n",
      "14/14 [==============================] - 0s 17ms/step - loss: 0.4584 - masked_acc: 0.7672 - masked_auc: 0.7797 - val_loss: 0.4819 - val_masked_acc: 0.7679 - val_masked_auc: 0.7814\n",
      "Epoch 9/100\n",
      "14/14 [==============================] - 0s 17ms/step - loss: 0.4512 - masked_acc: 0.7680 - masked_auc: 0.7820 - val_loss: 0.4808 - val_masked_acc: 0.7684 - val_masked_auc: 0.7832\n",
      "Epoch 10/100\n",
      "14/14 [==============================] - 0s 18ms/step - loss: 0.4562 - masked_acc: 0.7684 - masked_auc: 0.7835 - val_loss: 0.4820 - val_masked_acc: 0.7687 - val_masked_auc: 0.7846\n",
      "Epoch 11/100\n",
      "14/14 [==============================] - 0s 18ms/step - loss: 0.4468 - masked_acc: 0.7689 - masked_auc: 0.7851 - val_loss: 0.4808 - val_masked_acc: 0.7690 - val_masked_auc: 0.7858\n",
      "Epoch 12/100\n",
      "14/14 [==============================] - 0s 18ms/step - loss: 0.4567 - masked_acc: 0.7689 - masked_auc: 0.7860 - val_loss: 0.4816 - val_masked_acc: 0.7692 - val_masked_auc: 0.7868\n",
      "Epoch 13/100\n",
      "14/14 [==============================] - 0s 18ms/step - loss: 0.4520 - masked_acc: 0.7692 - masked_auc: 0.7870 - val_loss: 0.4820 - val_masked_acc: 0.7694 - val_masked_auc: 0.7876\n",
      "Epoch 14/100\n",
      "14/14 [==============================] - 0s 18ms/step - loss: 0.4500 - masked_acc: 0.7694 - masked_auc: 0.7879 - val_loss: 0.4812 - val_masked_acc: 0.7695 - val_masked_auc: 0.7883\n",
      "Epoch 15/100\n",
      "14/14 [==============================] - 0s 18ms/step - loss: 0.4560 - masked_acc: 0.7694 - masked_auc: 0.7885 - val_loss: 0.4824 - val_masked_acc: 0.7696 - val_masked_auc: 0.7889\n",
      "Epoch 16/100\n",
      "14/14 [==============================] - 0s 18ms/step - loss: 0.4492 - masked_acc: 0.7696 - masked_auc: 0.7891 - val_loss: 0.4811 - val_masked_acc: 0.7697 - val_masked_auc: 0.7894\n",
      "Epoch 17/100\n",
      "14/14 [==============================] - 0s 18ms/step - loss: 0.4488 - masked_acc: 0.7697 - masked_auc: 0.7897 - val_loss: 0.4821 - val_masked_acc: 0.7698 - val_masked_auc: 0.7899\n",
      "Epoch 18/100\n",
      "14/14 [==============================] - 0s 18ms/step - loss: 0.4521 - masked_acc: 0.7698 - masked_auc: 0.7901 - val_loss: 0.4815 - val_masked_acc: 0.7699 - val_masked_auc: 0.7904\n",
      "Epoch 19/100\n",
      "14/14 [==============================] - 0s 18ms/step - loss: 0.4506 - masked_acc: 0.7699 - masked_auc: 0.7905 - val_loss: 0.4810 - val_masked_acc: 0.7700 - val_masked_auc: 0.7908\n",
      "Epoch 20/100\n",
      "14/14 [==============================] - 0s 17ms/step - loss: 0.4539 - masked_acc: 0.7700 - masked_auc: 0.7908 - val_loss: 0.4817 - val_masked_acc: 0.7701 - val_masked_auc: 0.7911\n",
      "Epoch 21/100\n",
      "14/14 [==============================] - 0s 18ms/step - loss: 0.4548 - masked_acc: 0.7701 - masked_auc: 0.7912 - val_loss: 0.4811 - val_masked_acc: 0.7702 - val_masked_auc: 0.7914\n",
      "28/28 [==============================] - 0s 5ms/step - loss: 0.4521 - masked_acc: 0.7705 - masked_auc: 0.7918\n",
      "4/4 [==============================] - 0s 6ms/step - loss: 0.4465 - masked_acc: 0.7704 - masked_auc: 0.7919\n",
      "Test:  [0.4465041756629944, 0.770379900932312, 0.791873037815094]\n",
      "Epoch 1/100\n",
      "14/14 [==============================] - 2s 57ms/step - loss: 0.6063 - masked_acc: 0.6647 - masked_auc: 0.6016 - val_loss: 0.4977 - val_masked_acc: 0.7451 - val_masked_auc: 0.6783\n",
      "Epoch 2/100\n",
      "14/14 [==============================] - 0s 17ms/step - loss: 0.4638 - masked_acc: 0.7505 - masked_auc: 0.6985 - val_loss: 0.4675 - val_masked_acc: 0.7570 - val_masked_auc: 0.7333\n",
      "Epoch 3/100\n",
      "14/14 [==============================] - 0s 18ms/step - loss: 0.4533 - masked_acc: 0.7589 - masked_auc: 0.7427 - val_loss: 0.4693 - val_masked_acc: 0.7613 - val_masked_auc: 0.7555\n",
      "Epoch 4/100\n",
      "14/14 [==============================] - 0s 18ms/step - loss: 0.4509 - masked_acc: 0.7623 - masked_auc: 0.7592 - val_loss: 0.4650 - val_masked_acc: 0.7640 - val_masked_auc: 0.7663\n",
      "Epoch 5/100\n",
      "14/14 [==============================] - 0s 18ms/step - loss: 0.4520 - masked_acc: 0.7643 - masked_auc: 0.7689 - val_loss: 0.4657 - val_masked_acc: 0.7653 - val_masked_auc: 0.7731\n",
      "Epoch 6/100\n",
      "14/14 [==============================] - 0s 17ms/step - loss: 0.4553 - masked_acc: 0.7653 - masked_auc: 0.7748 - val_loss: 0.4675 - val_masked_acc: 0.7663 - val_masked_auc: 0.7775\n",
      "Epoch 7/100\n",
      "14/14 [==============================] - 0s 18ms/step - loss: 0.4508 - masked_acc: 0.7664 - masked_auc: 0.7786 - val_loss: 0.4658 - val_masked_acc: 0.7669 - val_masked_auc: 0.7805\n",
      "Epoch 8/100\n",
      "14/14 [==============================] - 0s 17ms/step - loss: 0.4509 - masked_acc: 0.7670 - masked_auc: 0.7811 - val_loss: 0.4658 - val_masked_acc: 0.7676 - val_masked_auc: 0.7829\n",
      "Epoch 9/100\n",
      "14/14 [==============================] - 0s 28ms/step - loss: 0.4576 - masked_acc: 0.7675 - masked_auc: 0.7835 - val_loss: 0.4664 - val_masked_acc: 0.7680 - val_masked_auc: 0.7847\n",
      "Epoch 10/100\n",
      "14/14 [==============================] - 0s 26ms/step - loss: 0.4525 - masked_acc: 0.7680 - masked_auc: 0.7851 - val_loss: 0.4664 - val_masked_acc: 0.7683 - val_masked_auc: 0.7861\n",
      "Epoch 11/100\n",
      "14/14 [==============================] - 0s 17ms/step - loss: 0.4492 - masked_acc: 0.7685 - masked_auc: 0.7866 - val_loss: 0.4657 - val_masked_acc: 0.7686 - val_masked_auc: 0.7873\n",
      "Epoch 12/100\n",
      "14/14 [==============================] - 0s 18ms/step - loss: 0.4498 - masked_acc: 0.7687 - masked_auc: 0.7876 - val_loss: 0.4657 - val_masked_acc: 0.7689 - val_masked_auc: 0.7883\n",
      "Epoch 13/100\n",
      "14/14 [==============================] - 0s 18ms/step - loss: 0.4541 - masked_acc: 0.7688 - masked_auc: 0.7884 - val_loss: 0.4672 - val_masked_acc: 0.7690 - val_masked_auc: 0.7892\n",
      "Epoch 14/100\n",
      "14/14 [==============================] - 0s 17ms/step - loss: 0.4593 - masked_acc: 0.7690 - masked_auc: 0.7894 - val_loss: 0.4665 - val_masked_acc: 0.7692 - val_masked_auc: 0.7899\n",
      "28/28 [==============================] - 0s 6ms/step - loss: 0.4524 - masked_acc: 0.7697 - masked_auc: 0.7906\n",
      "4/4 [==============================] - 0s 6ms/step - loss: 0.4596 - masked_acc: 0.7694 - masked_auc: 0.7906\n",
      "Test:  [0.45961713790893555, 0.7694031000137329, 0.7906275391578674]\n"
     ]
    }
   ],
   "source": [
    "# 5 fold cross validation\n",
    "#HERE WE ONLY USE chapter\n",
    "#sub_chapter and question\n",
    "#without additional features\n",
    "import torch\n",
    "X = np.array(grouped_data.keys())\n",
    "kfold = KFold(n_splits=5, shuffle=True)\n",
    "train_losses = list()\n",
    "train_aucs = list()\n",
    "val_losses = list()\n",
    "val_aucs = list()\n",
    "train_eval = list()\n",
    "test_eval = list()\n",
    "for train, test in kfold.split(X):\n",
    "    users_train, users_test =  X[train], X[test]\n",
    "    n = len(users_test)//2\n",
    "    users_test, users_val = users_test[:n], users_test[n: ]\n",
    "    train_data_space = SPACE_DATASET(grouped_data[users_train], MAXLENGTH)\n",
    "    val_data_space = SPACE_DATASET(grouped_data[users_val], MAXLENGTH)\n",
    "    test_data_space = SPACE_DATASET(grouped_data[users_test], MAXLENGTH)\n",
    "    #construct training input\n",
    "    train_chapter=[]\n",
    "    train_sub_chapter=[]\n",
    "    train_question = []\n",
    "    train_features=[]\n",
    "    train_labels=[]\n",
    "    for i in range(len(users_train)):\n",
    "        user = train_data_space.__getitem__(i)\n",
    "        train_chapter.append(user[0])\n",
    "        train_sub_chapter.append(user[1]) \n",
    "        train_question.append(user[2])\n",
    "        #train_features.append(user[3])\n",
    "        train_labels.append(user[3])\n",
    "    train_chapter = np.array(train_chapter)\n",
    "    train_sub_chapter = np.array(train_sub_chapter)\n",
    "    train_question = np.array(train_question)\n",
    "    #train_features = np.array(train_features)\n",
    "    train_labels= np.array(train_labels)[..., np.newaxis]\n",
    "\n",
    "    #construct validation input\n",
    "    val_chapter=[]\n",
    "    val_sub_chapter=[]\n",
    "    val_question = []\n",
    "    #val_features=[]\n",
    "    val_labels=[]\n",
    "    for i in range(len(users_val)):\n",
    "        user = val_data_space.__getitem__(i)\n",
    "        val_chapter.append(user[0])\n",
    "        val_sub_chapter.append(user[1]) \n",
    "        val_question.append(user[2])\n",
    "        #val_features.append(user[3])\n",
    "        val_labels.append(user[3])\n",
    "    val_chapter = np.array(val_chapter)\n",
    "    val_sub_chapter = np.array(val_sub_chapter)\n",
    "    #val_features = np.array(val_features)\n",
    "    val_question = np.array(val_question)\n",
    "    val_labels= np.array(val_labels)[..., np.newaxis]\n",
    "\n",
    "    # construct test input\n",
    "    test_chapter=[]\n",
    "    test_sub_chapter=[]\n",
    "    #test_features=[]\n",
    "    test_question=[]\n",
    "    test_labels=[]\n",
    "    for i in range(len(users_test)):\n",
    "        user = test_data_space.__getitem__(i)\n",
    "        test_chapter.append(user[0])\n",
    "        test_sub_chapter.append(user[1]) \n",
    "        test_question.append(user[2])\n",
    "        #test_features.append(user[3])\n",
    "        test_labels.append(user[3])\n",
    "    test_chapter = np.array(test_chapter)\n",
    "    test_sub_chapter = np.array(test_sub_chapter)\n",
    "    #test_features = np.array(test_features)\n",
    "    test_question = np.array(test_question)\n",
    "    test_labels= np.array(test_labels)[..., np.newaxis]\n",
    "\n",
    "    # define loss function and evaluation metrics\n",
    "    bce = tf.keras.losses.BinaryCrossentropy(from_logits=True)\n",
    "    acc = tf.keras.metrics.Accuracy()\n",
    "    auc = tf.keras.metrics.AUC()\n",
    "\n",
    "    def masked_bce(y_true, y_pred):\n",
    "      flat_pred = y_pred\n",
    "      flat_ground_truth = y_true\n",
    "      label_mask = tf.math.not_equal(flat_ground_truth, -1)\n",
    "      return bce(flat_ground_truth, flat_pred, sample_weight=label_mask)\n",
    "\n",
    "    def masked_acc(y_true, y_pred):\n",
    "      flat_pred = y_pred\n",
    "      flat_ground_truth = y_true\n",
    "      flat_pred = (flat_pred >= 0.5)\n",
    "      label_mask = tf.math.not_equal(flat_ground_truth, -1)\n",
    "      return acc(flat_ground_truth, flat_pred, sample_weight=label_mask)\n",
    "\n",
    "    def masked_auc(y_true, y_pred):\n",
    "      flat_pred = y_pred\n",
    "      flat_ground_truth = y_true\n",
    "      label_mask = tf.math.not_equal(flat_ground_truth, -1)\n",
    "      return auc(flat_ground_truth, flat_pred, sample_weight=label_mask)\n",
    "\n",
    "    # input layer\n",
    "    input_chap = tf.keras.Input(shape=(MAXLENGTH))\n",
    "    input_sub_chap = tf.keras.Input(shape=(MAXLENGTH))\n",
    "    input_ques =  tf.keras.Input(shape=(MAXLENGTH))\n",
    "    #input_features = tf.keras.Input(shape=(MAXLENGTH, FEATURES_SIZE))\n",
    "\n",
    "    # embedding layer for categorical features\n",
    "    embedding_chap = Embedding(input_dim = CHAPTER_SIZE, output_dim = EMBEDDING_DIM)(input_chap)\n",
    "    embedding_sub_chap = Embedding(input_dim = SUB_CHAPTER_SIZE, output_dim = EMBEDDING_DIM)(input_sub_chap) \n",
    "    embedding_ques = Embedding(input_dim = QUESTION_SIZE, output_dim = EMBEDDING_DIM)(input_ques)       \n",
    "\n",
    "    # dense layer for numeric features\n",
    "    #dense_features = Dense(EMBEDDING_DIM,input_shape = (None, MAXLENGTH))(input_features)\n",
    "\n",
    "    gru_output = tf.concat([embedding_chap, embedding_sub_chap, embedding_ques], axis = 2)\n",
    "\n",
    "    pred = Dense(1, input_shape = (None, 3*EMBEDDING_DIM), activation='sigmoid')(gru_output)\n",
    "\n",
    "    model = tf.keras.Model(\n",
    "        inputs=[input_chap, input_sub_chap,input_ques],\n",
    "        outputs=pred,\n",
    "        name='logistic_regression'\n",
    "    )\n",
    "\n",
    "    callback = tf.keras.callbacks.EarlyStopping(monitor='val_loss', patience=10)\n",
    "    opt_adam = Adam(learning_rate = 0.005)\n",
    "    model.compile(\n",
    "        optimizer=opt_adam,\n",
    "        loss= masked_bce,\n",
    "        metrics = [masked_acc, masked_auc]\n",
    "    )\n",
    "\n",
    "    history = model.fit(\n",
    "      [train_chapter, train_sub_chapter, train_question],\n",
    "      train_labels,\n",
    "      batch_size = 64,\n",
    "      epochs = 100,\n",
    "      validation_data=([val_chapter, val_sub_chapter, val_question], val_labels),\n",
    "      callbacks=[callback]\n",
    "    )\n",
    "    val_losses.append(list(history.history['val_loss']))\n",
    "    train_losses.append(list(history.history['loss']))\n",
    "    val_aucs.append(list(history.history['val_masked_auc']))\n",
    "    train_aucs.append(list(history.history['masked_auc']))\n",
    "    train_score = model.evaluate([train_chapter, train_sub_chapter, train_question], train_labels)\n",
    "    train_eval.append(train_score)\n",
    "    test_score = model.evaluate([test_chapter, test_sub_chapter, test_question], test_labels)\n",
    "    test_eval.append(test_score)\n",
    "    print(\"Test: \", test_score)\n",
    "    def reset_weights(model):\n",
    "      for layer in model.layers: \n",
    "        if isinstance(layer, tf.keras.Model):\n",
    "          reset_weights(layer)\n",
    "          continue\n",
    "        for k, initializer in layer.__dict__.items():\n",
    "          if \"initializer\" not in k:\n",
    "            continue\n",
    "          # find the corresponding variable\n",
    "          var = getattr(layer, k.replace(\"_initializer\", \"\"))\n",
    "          var.assign(initializer(var.shape, var.dtype))\n",
    "    reset_weights(model)"
   ]
  },
  {
   "cell_type": "code",
   "execution_count": 209,
   "metadata": {
    "execution": {
     "iopub.execute_input": "2021-07-31T20:11:37.825780Z",
     "iopub.status.busy": "2021-07-31T20:11:37.825409Z",
     "iopub.status.idle": "2021-07-31T20:11:37.838115Z",
     "shell.execute_reply": "2021-07-31T20:11:37.834567Z",
     "shell.execute_reply.started": "2021-07-31T20:11:37.825740Z"
    },
    "id": "QsVmumHMz3lx",
    "outputId": "4ff1e2fa-6abb-458e-c729-495b456f53e5"
   },
   "outputs": [
    {
     "name": "stdout",
     "output_type": "stream",
     "text": [
      "test avg loss:  0.44580785632133485 +/- 0.009823732955952002\n",
      "test avg acc:  0.7698086857795715 +/- 0.0007717884292750885\n",
      "test avg auc:  0.7914769649505615 +/- 0.0018341580754202551\n"
     ]
    }
   ],
   "source": [
    "t_eval = np.array(test_eval)\n",
    "print(\"test avg loss: \", np.mean(t_eval[:, 0]), \"+/-\" ,np.std(t_eval[:, 0]))\n",
    "print(\"test avg acc: \", np.mean(t_eval[:, 1]),  \"+/-\" ,np.std(t_eval[:, 1]))\n",
    "print(\"test avg auc: \", np.mean(t_eval[:, 2]), \"+/-\" ,np.std(t_eval[:, 2]))"
   ]
  },
  {
   "cell_type": "code",
   "execution_count": 210,
   "metadata": {
    "execution": {
     "iopub.execute_input": "2021-07-31T20:11:37.840726Z",
     "iopub.status.busy": "2021-07-31T20:11:37.839932Z",
     "iopub.status.idle": "2021-07-31T20:11:37.852638Z",
     "shell.execute_reply": "2021-07-31T20:11:37.851296Z",
     "shell.execute_reply.started": "2021-07-31T20:11:37.840682Z"
    },
    "id": "b9MM_CXWz5K6",
    "outputId": "4cf88e1d-3a74-4e7d-f92c-d01522e91757"
   },
   "outputs": [
    {
     "name": "stdout",
     "output_type": "stream",
     "text": [
      "train avg loss:  0.45320647954940796 +/- 0.0015052265941128571\n",
      "train avg acc:  0.7699552297592163 +/- 0.000778340236203528\n",
      "train avg auc:  0.7914088129997253 +/- 0.001910839630185461\n"
     ]
    }
   ],
   "source": [
    "t_eval = np.array(train_eval)\n",
    "print(\"train avg loss: \", np.mean(t_eval[:, 0]), \"+/-\" ,np.std(t_eval[:, 0]))\n",
    "print(\"train avg acc: \", np.mean(t_eval[:, 1]),  \"+/-\" ,np.std(t_eval[:, 1]))\n",
    "print(\"train avg auc: \", np.mean(t_eval[:, 2]), \"+/-\" ,np.std(t_eval[:, 2]))"
   ]
  }
 ],
 "metadata": {
  "kernelspec": {
   "display_name": "Python 3",
   "language": "python",
   "name": "python3"
  },
  "language_info": {
   "codemirror_mode": {
    "name": "ipython",
    "version": 3
   },
   "file_extension": ".py",
   "mimetype": "text/x-python",
   "name": "python",
   "nbconvert_exporter": "python",
   "pygments_lexer": "ipython3",
   "version": "3.8.5"
  }
 },
 "nbformat": 4,
 "nbformat_minor": 4
}
