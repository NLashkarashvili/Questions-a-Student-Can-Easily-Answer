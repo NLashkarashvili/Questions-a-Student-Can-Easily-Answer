{
 "cells": [
  {
   "cell_type": "code",
   "execution_count": 211,
   "metadata": {
    "execution": {
     "iopub.execute_input": "2021-07-31T20:14:46.426912Z",
     "iopub.status.busy": "2021-07-31T20:14:46.426542Z",
     "iopub.status.idle": "2021-07-31T20:14:46.434511Z",
     "shell.execute_reply": "2021-07-31T20:14:46.433284Z",
     "shell.execute_reply.started": "2021-07-31T20:14:46.426881Z"
    },
    "id": "farifxiKU1aB"
   },
   "outputs": [],
   "source": [
    "import numpy as np\n",
    "import pandas as pd\n",
    "import warnings\n",
    "import gc\n",
    "import tensorflow as tf\n",
    "from tensorflow import keras\n",
    "\n",
    "import random\n",
    "from random import choice\n",
    "from tensorflow.keras.optimizers import Adam\n",
    "from tensorflow.keras.models import Sequential \n",
    "from tensorflow.keras.layers import Dense, GRU, Concatenate, Embedding, Flatten, Activation, Dropout\n",
    "from sklearn.model_selection import KFold\n",
    "from tensorflow.python.client import device_lib\n",
    "warnings.filterwarnings('ignore')\n",
    "import random"
   ]
  },
  {
   "cell_type": "code",
   "execution_count": 212,
   "metadata": {
    "execution": {
     "iopub.execute_input": "2021-07-31T20:14:46.436744Z",
     "iopub.status.busy": "2021-07-31T20:14:46.436302Z",
     "iopub.status.idle": "2021-07-31T20:14:46.447145Z",
     "shell.execute_reply": "2021-07-31T20:14:46.445978Z",
     "shell.execute_reply.started": "2021-07-31T20:14:46.436700Z"
    },
    "id": "QOson70GPOXb"
   },
   "outputs": [],
   "source": [
    "import gc"
   ]
  },
  {
   "cell_type": "markdown",
   "metadata": {
    "id": "BQsVybBH3VPw"
   },
   "source": [
    "## Data Preprocessing"
   ]
  },
  {
   "cell_type": "code",
   "execution_count": 213,
   "metadata": {
    "execution": {
     "iopub.execute_input": "2021-07-31T20:14:46.451109Z",
     "iopub.status.busy": "2021-07-31T20:14:46.450770Z",
     "iopub.status.idle": "2021-07-31T20:14:50.925624Z",
     "shell.execute_reply": "2021-07-31T20:14:50.924520Z",
     "shell.execute_reply.started": "2021-07-31T20:14:46.451074Z"
    },
    "id": "rwtTusGxrmAE",
    "outputId": "1430f3cf-038b-485e-b5c4-c1686b1f34fd"
   },
   "outputs": [
    {
     "data": {
      "text/html": [
       "<div>\n",
       "<style scoped>\n",
       "    .dataframe tbody tr th:only-of-type {\n",
       "        vertical-align: middle;\n",
       "    }\n",
       "\n",
       "    .dataframe tbody tr th {\n",
       "        vertical-align: top;\n",
       "    }\n",
       "\n",
       "    .dataframe thead th {\n",
       "        text-align: right;\n",
       "    }\n",
       "</style>\n",
       "<table border=\"1\" class=\"dataframe\">\n",
       "  <thead>\n",
       "    <tr style=\"text-align: right;\">\n",
       "      <th></th>\n",
       "      <th>Unnamed: 0</th>\n",
       "      <th>chapter_label</th>\n",
       "      <th>sub_chapter_label</th>\n",
       "      <th>question_name</th>\n",
       "      <th>user_id.x</th>\n",
       "      <th>term</th>\n",
       "      <th>STDNT_SEX_CD</th>\n",
       "      <th>NonNativeEnglish</th>\n",
       "      <th>White</th>\n",
       "      <th>Asian</th>\n",
       "      <th>...</th>\n",
       "      <th>classGraded</th>\n",
       "      <th>classHonors</th>\n",
       "      <th>Pass_Fail</th>\n",
       "      <th>parentsGraduateEdu</th>\n",
       "      <th>minorityGroup</th>\n",
       "      <th>q</th>\n",
       "      <th>day's_available_flashcards</th>\n",
       "      <th>start_practice</th>\n",
       "      <th>end_practice</th>\n",
       "      <th>days_offset</th>\n",
       "    </tr>\n",
       "  </thead>\n",
       "  <tbody>\n",
       "    <tr>\n",
       "      <th>0</th>\n",
       "      <td>1</td>\n",
       "      <td>Sort</td>\n",
       "      <td>intro-SortingwithSortandSorted</td>\n",
       "      <td>ee_sort_04</td>\n",
       "      <td>148</td>\n",
       "      <td>WN 2018</td>\n",
       "      <td>1</td>\n",
       "      <td>0</td>\n",
       "      <td>1</td>\n",
       "      <td>0</td>\n",
       "      <td>...</td>\n",
       "      <td>1</td>\n",
       "      <td>0</td>\n",
       "      <td>0</td>\n",
       "      <td>0</td>\n",
       "      <td>0</td>\n",
       "      <td>0</td>\n",
       "      <td>18</td>\n",
       "      <td>2018-03-04 20:00:19</td>\n",
       "      <td>2018-03-04 20:00:35</td>\n",
       "      <td>45</td>\n",
       "    </tr>\n",
       "    <tr>\n",
       "      <th>1</th>\n",
       "      <td>2</td>\n",
       "      <td>Functions</td>\n",
       "      <td>Returningavaluefromafunction</td>\n",
       "      <td>test_questionfunctions_2_3</td>\n",
       "      <td>148</td>\n",
       "      <td>WN 2018</td>\n",
       "      <td>1</td>\n",
       "      <td>0</td>\n",
       "      <td>1</td>\n",
       "      <td>0</td>\n",
       "      <td>...</td>\n",
       "      <td>1</td>\n",
       "      <td>0</td>\n",
       "      <td>0</td>\n",
       "      <td>0</td>\n",
       "      <td>0</td>\n",
       "      <td>4</td>\n",
       "      <td>16</td>\n",
       "      <td>2018-02-10 11:57:55</td>\n",
       "      <td>2018-02-10 11:58:35</td>\n",
       "      <td>23</td>\n",
       "    </tr>\n",
       "    <tr>\n",
       "      <th>2</th>\n",
       "      <td>3</td>\n",
       "      <td>RESTAPIs</td>\n",
       "      <td>functionswithrestapis</td>\n",
       "      <td>test_question_functions_rest_apis_1</td>\n",
       "      <td>148</td>\n",
       "      <td>WN 2018</td>\n",
       "      <td>1</td>\n",
       "      <td>0</td>\n",
       "      <td>1</td>\n",
       "      <td>0</td>\n",
       "      <td>...</td>\n",
       "      <td>1</td>\n",
       "      <td>0</td>\n",
       "      <td>0</td>\n",
       "      <td>0</td>\n",
       "      <td>0</td>\n",
       "      <td>1</td>\n",
       "      <td>2</td>\n",
       "      <td>2018-03-12 17:03:07</td>\n",
       "      <td>2018-03-12 17:04:28</td>\n",
       "      <td>53</td>\n",
       "    </tr>\n",
       "    <tr>\n",
       "      <th>3</th>\n",
       "      <td>4</td>\n",
       "      <td>SimplePythonData</td>\n",
       "      <td>FunctionCalls</td>\n",
       "      <td>exercise_functionCalls_1</td>\n",
       "      <td>148</td>\n",
       "      <td>WN 2018</td>\n",
       "      <td>1</td>\n",
       "      <td>0</td>\n",
       "      <td>1</td>\n",
       "      <td>0</td>\n",
       "      <td>...</td>\n",
       "      <td>1</td>\n",
       "      <td>0</td>\n",
       "      <td>0</td>\n",
       "      <td>0</td>\n",
       "      <td>0</td>\n",
       "      <td>0</td>\n",
       "      <td>10</td>\n",
       "      <td>2018-01-30 14:15:49</td>\n",
       "      <td>2018-01-30 14:15:58</td>\n",
       "      <td>12</td>\n",
       "    </tr>\n",
       "    <tr>\n",
       "      <th>4</th>\n",
       "      <td>5</td>\n",
       "      <td>DictionaryAccumulation</td>\n",
       "      <td>AccumulatingaMaximumValue</td>\n",
       "      <td>ps_04_07</td>\n",
       "      <td>148</td>\n",
       "      <td>WN 2018</td>\n",
       "      <td>1</td>\n",
       "      <td>0</td>\n",
       "      <td>1</td>\n",
       "      <td>0</td>\n",
       "      <td>...</td>\n",
       "      <td>1</td>\n",
       "      <td>0</td>\n",
       "      <td>0</td>\n",
       "      <td>0</td>\n",
       "      <td>0</td>\n",
       "      <td>0</td>\n",
       "      <td>23</td>\n",
       "      <td>2018-03-03 14:04:17</td>\n",
       "      <td>2018-03-03 14:04:25</td>\n",
       "      <td>44</td>\n",
       "    </tr>\n",
       "  </tbody>\n",
       "</table>\n",
       "<p>5 rows × 48 columns</p>\n",
       "</div>"
      ],
      "text/plain": [
       "   Unnamed: 0           chapter_label               sub_chapter_label  \\\n",
       "0           1                    Sort  intro-SortingwithSortandSorted   \n",
       "1           2               Functions    Returningavaluefromafunction   \n",
       "2           3                RESTAPIs           functionswithrestapis   \n",
       "3           4        SimplePythonData                   FunctionCalls   \n",
       "4           5  DictionaryAccumulation       AccumulatingaMaximumValue   \n",
       "\n",
       "                         question_name  user_id.x     term  STDNT_SEX_CD  \\\n",
       "0                           ee_sort_04        148  WN 2018             1   \n",
       "1           test_questionfunctions_2_3        148  WN 2018             1   \n",
       "2  test_question_functions_rest_apis_1        148  WN 2018             1   \n",
       "3             exercise_functionCalls_1        148  WN 2018             1   \n",
       "4                             ps_04_07        148  WN 2018             1   \n",
       "\n",
       "   NonNativeEnglish  White  Asian  ...  classGraded  classHonors  Pass_Fail  \\\n",
       "0                 0      1      0  ...            1            0          0   \n",
       "1                 0      1      0  ...            1            0          0   \n",
       "2                 0      1      0  ...            1            0          0   \n",
       "3                 0      1      0  ...            1            0          0   \n",
       "4                 0      1      0  ...            1            0          0   \n",
       "\n",
       "   parentsGraduateEdu  minorityGroup  q  day's_available_flashcards  \\\n",
       "0                   0              0  0                          18   \n",
       "1                   0              0  4                          16   \n",
       "2                   0              0  1                           2   \n",
       "3                   0              0  0                          10   \n",
       "4                   0              0  0                          23   \n",
       "\n",
       "        start_practice         end_practice  days_offset  \n",
       "0  2018-03-04 20:00:19  2018-03-04 20:00:35           45  \n",
       "1  2018-02-10 11:57:55  2018-02-10 11:58:35           23  \n",
       "2  2018-03-12 17:03:07  2018-03-12 17:04:28           53  \n",
       "3  2018-01-30 14:15:49  2018-01-30 14:15:58           12  \n",
       "4  2018-03-03 14:04:17  2018-03-03 14:04:25           44  \n",
       "\n",
       "[5 rows x 48 columns]"
      ]
     },
     "execution_count": 213,
     "metadata": {},
     "output_type": "execute_result"
    }
   ],
   "source": [
    "# load the data\n",
    "import pandas as pd\n",
    "dataframe = pd.read_csv('../input/practice-log-demographics/Practice_Log_Demographics (1).csv', low_memory=False)\n",
    "dataframe.head()"
   ]
  },
  {
   "cell_type": "code",
   "execution_count": 214,
   "metadata": {
    "execution": {
     "iopub.execute_input": "2021-07-31T20:14:50.927793Z",
     "iopub.status.busy": "2021-07-31T20:14:50.927443Z",
     "iopub.status.idle": "2021-07-31T20:14:52.266717Z",
     "shell.execute_reply": "2021-07-31T20:14:52.265694Z",
     "shell.execute_reply.started": "2021-07-31T20:14:50.927758Z"
    },
    "id": "OCbHnEp_Vir0"
   },
   "outputs": [],
   "source": [
    "#sort data based on timestamp\n",
    "dataframe = dataframe.sort_values(by=['start_practice'])"
   ]
  },
  {
   "cell_type": "code",
   "execution_count": 215,
   "metadata": {
    "execution": {
     "iopub.execute_input": "2021-07-31T20:14:52.270524Z",
     "iopub.status.busy": "2021-07-31T20:14:52.269931Z",
     "iopub.status.idle": "2021-07-31T20:14:52.277982Z",
     "shell.execute_reply": "2021-07-31T20:14:52.276710Z",
     "shell.execute_reply.started": "2021-07-31T20:14:52.270475Z"
    },
    "id": "0RvF7BvEr98o"
   },
   "outputs": [],
   "source": [
    "FEATURES = ['chapter_label', 'sub_chapter_label','question_name','user_id','term',\n",
    "            'STDNT_SEX_CD', \n",
    "            'NonNativeEnglish',\n",
    "            'White',\n",
    "            'Asian',\n",
    "            'WhiteOrAsian',\n",
    "            'Hispanic',\n",
    "            'AfricanAmerican',\n",
    "            'OtherEthnicities',\n",
    "            'NonWhiteOrAsian',\n",
    "            'STDNT_CTZN_STAT_CD', 'international', \n",
    "            'gradingType',\n",
    "            'birthYear',\n",
    "            'exclClassCumGPA',\n",
    "            'Freshman',\n",
    "            'Junior',\n",
    "            'Sophomore',\n",
    "            'Senior',\n",
    "            'termCreditsGPA',\n",
    "            'termCreditsNoGPA',\n",
    "            'athlete_1',\n",
    "            'honorsPro',\n",
    "            'LSA', 'programBusiness', 'programEngineering', \n",
    "            'programInformation', 'programOther',\n",
    "            'HSCalculusTaken', \n",
    "            'highSchoolGPA', \n",
    "            'majorsCount', 'minorsCount',\n",
    "            'PREV_TERM_CUM_GPA',\n",
    "            'classGraded', 'classHonors', \n",
    "            'Pass_Fail', \n",
    "            'parentsGraduateEdu',  'minorityGroup', \n",
    "            'q',\n",
    "            'available_flashcards', \n",
    "            'start_practice', \n",
    "            'end_practice',\n",
    "            'days_offset']"
   ]
  },
  {
   "cell_type": "code",
   "execution_count": 216,
   "metadata": {
    "execution": {
     "iopub.execute_input": "2021-07-31T20:14:52.280345Z",
     "iopub.status.busy": "2021-07-31T20:14:52.279938Z",
     "iopub.status.idle": "2021-07-31T20:14:52.781416Z",
     "shell.execute_reply": "2021-07-31T20:14:52.780400Z",
     "shell.execute_reply.started": "2021-07-31T20:14:52.280309Z"
    },
    "id": "Mn341X7lSztl"
   },
   "outputs": [],
   "source": [
    "dataframe['available_flashcards'] = dataframe[\"day's_available_flashcards\"][:]\n",
    "dataframe = dataframe.drop([\"day's_available_flashcards\"], axis=1)\n",
    "dataframe['user_id'] = dataframe[\"user_id.x\"][:]\n",
    "dataframe = dataframe.drop([\"user_id.x\"], axis=1)"
   ]
  },
  {
   "cell_type": "code",
   "execution_count": 217,
   "metadata": {
    "execution": {
     "iopub.execute_input": "2021-07-31T20:14:52.784786Z",
     "iopub.status.busy": "2021-07-31T20:14:52.784039Z",
     "iopub.status.idle": "2021-07-31T20:14:53.270210Z",
     "shell.execute_reply": "2021-07-31T20:14:53.269415Z",
     "shell.execute_reply.started": "2021-07-31T20:14:52.784741Z"
    },
    "id": "-_BRggOjbBjN",
    "outputId": "42bff7db-08dd-48dc-a73a-d048508053b7"
   },
   "outputs": [
    {
     "data": {
      "text/plain": [
       "54458"
      ]
     },
     "execution_count": 217,
     "metadata": {},
     "output_type": "execute_result"
    }
   ],
   "source": [
    "gc.collect()"
   ]
  },
  {
   "cell_type": "code",
   "execution_count": 218,
   "metadata": {
    "execution": {
     "iopub.execute_input": "2021-07-31T20:14:53.273790Z",
     "iopub.status.busy": "2021-07-31T20:14:53.273531Z",
     "iopub.status.idle": "2021-07-31T20:14:53.591672Z",
     "shell.execute_reply": "2021-07-31T20:14:53.590690Z",
     "shell.execute_reply.started": "2021-07-31T20:14:53.273764Z"
    },
    "id": "lXM7MlonVeRL",
    "outputId": "d29ccec0-522f-4e3c-e0b2-39b2e1eaef74"
   },
   "outputs": [
    {
     "data": {
      "text/plain": [
       "22"
      ]
     },
     "execution_count": 218,
     "metadata": {},
     "output_type": "execute_result"
    }
   ],
   "source": [
    "dataframe = dataframe[FEATURES]\n",
    "gc.collect()"
   ]
  },
  {
   "cell_type": "code",
   "execution_count": 219,
   "metadata": {
    "execution": {
     "iopub.execute_input": "2021-07-31T20:14:53.593483Z",
     "iopub.status.busy": "2021-07-31T20:14:53.593131Z",
     "iopub.status.idle": "2021-07-31T20:14:54.330389Z",
     "shell.execute_reply": "2021-07-31T20:14:54.329442Z",
     "shell.execute_reply.started": "2021-07-31T20:14:53.593448Z"
    },
    "id": "2WAFv5z3A6fK",
    "outputId": "e27abf84-ec3c-4b88-e1fb-927d94b41898"
   },
   "outputs": [],
   "source": [
    "dataframe = dataframe.fillna(0)"
   ]
  },
  {
   "cell_type": "code",
   "execution_count": 220,
   "metadata": {
    "execution": {
     "iopub.execute_input": "2021-07-31T20:14:54.333864Z",
     "iopub.status.busy": "2021-07-31T20:14:54.333249Z",
     "iopub.status.idle": "2021-07-31T20:14:55.785236Z",
     "shell.execute_reply": "2021-07-31T20:14:55.784307Z",
     "shell.execute_reply.started": "2021-07-31T20:14:54.333823Z"
    },
    "id": "qRKqF_0IXZgj"
   },
   "outputs": [],
   "source": [
    "#label encode term, chapter_label, question_name, sub_chapter_label columns\n",
    "dataframe['term'] = dataframe['term'].astype('category')\n",
    "dataframe['user_id'] = dataframe['user_id'].astype(int)\n",
    "dataframe['user_id'] = dataframe['user_id'].astype(str)\n",
    "dataframe['user_id'] = dataframe['term'].str.cat(dataframe['user_id'], sep=':')\n",
    "dataframe['user_id'] = dataframe['user_id'].astype('category')\n",
    "dataframe['chapter_label'] = dataframe['chapter_label'].astype('category')\n",
    "dataframe['sub_chapter_label'] = dataframe['sub_chapter_label'].astype('category')\n",
    "dataframe['question_name'] = dataframe['question_name'].astype('category')\n"
   ]
  },
  {
   "cell_type": "code",
   "execution_count": 221,
   "metadata": {
    "execution": {
     "iopub.execute_input": "2021-07-31T20:14:55.788074Z",
     "iopub.status.busy": "2021-07-31T20:14:55.787443Z",
     "iopub.status.idle": "2021-07-31T20:14:56.561974Z",
     "shell.execute_reply": "2021-07-31T20:14:56.561126Z",
     "shell.execute_reply.started": "2021-07-31T20:14:55.788033Z"
    },
    "id": "eVl_067GWkDe"
   },
   "outputs": [],
   "source": [
    "#calculate time_lag and prev_time_elapsed\n",
    "dataframe['prev_time_elapsed'] = None\n",
    "dataframe['time_lag'] = None\n",
    "dataframe['time_lag'] = dataframe['time_lag'].astype(np.float)\n",
    "dataframe['prev_time_elapsed'] = dataframe['prev_time_elapsed'].astype(np.float)\n",
    "dataframe.start_practice = pd.to_datetime(dataframe.start_practice, format='%Y-%m-%d %H:%M:%S')\n",
    "dataframe.end_practice = pd.to_datetime(dataframe.end_practice, format='%Y-%m-%d %H:%M:%S')\n",
    "dataframe['dif'] = dataframe.end_practice - dataframe.start_practice\n",
    "dataframe['dif'] = dataframe['dif'] /np.timedelta64(1, 's')\n",
    "dataframe['answer_correct'] = np.where((dataframe['q']==5) & (dataframe['dif'] <= 60), 1, 0)"
   ]
  },
  {
   "cell_type": "code",
   "execution_count": 223,
   "metadata": {
    "execution": {
     "iopub.execute_input": "2021-07-31T20:15:14.584755Z",
     "iopub.status.busy": "2021-07-31T20:15:14.584404Z",
     "iopub.status.idle": "2021-07-31T20:15:14.656822Z",
     "shell.execute_reply": "2021-07-31T20:15:14.655972Z",
     "shell.execute_reply.started": "2021-07-31T20:15:14.584717Z"
    },
    "id": "8t8yZ0XvWwzz"
   },
   "outputs": [],
   "source": [
    "#drop column end_practice\n",
    "dataframe.drop(columns=['end_practice'], inplace=True)"
   ]
  },
  {
   "cell_type": "code",
   "execution_count": 224,
   "metadata": {
    "execution": {
     "iopub.execute_input": "2021-07-31T20:15:14.658724Z",
     "iopub.status.busy": "2021-07-31T20:15:14.658195Z",
     "iopub.status.idle": "2021-07-31T20:15:15.049453Z",
     "shell.execute_reply": "2021-07-31T20:15:15.048582Z",
     "shell.execute_reply.started": "2021-07-31T20:15:14.658685Z"
    },
    "id": "E42raRIrYYXz"
   },
   "outputs": [],
   "source": [
    "# calculate the age feature\n",
    "dataframe['term_value'] = [int(ele[3:]) for ele in dataframe['term']]\n",
    "dataframe['age'] = dataframe['term_value'] - dataframe['birthYear']"
   ]
  },
  {
   "cell_type": "code",
   "execution_count": 225,
   "metadata": {
    "execution": {
     "iopub.execute_input": "2021-07-31T20:15:15.051121Z",
     "iopub.status.busy": "2021-07-31T20:15:15.050734Z",
     "iopub.status.idle": "2021-07-31T20:15:15.236345Z",
     "shell.execute_reply": "2021-07-31T20:15:15.235364Z",
     "shell.execute_reply.started": "2021-07-31T20:15:15.051085Z"
    },
    "id": "pcMVQXueYnMh"
   },
   "outputs": [],
   "source": [
    "# drop term_value and birthYear column\n",
    "dataframe.drop(columns=['term_value', 'birthYear'], inplace=True)"
   ]
  },
  {
   "cell_type": "code",
   "execution_count": 226,
   "metadata": {
    "execution": {
     "iopub.execute_input": "2021-07-31T20:15:15.238191Z",
     "iopub.status.busy": "2021-07-31T20:15:15.237659Z",
     "iopub.status.idle": "2021-07-31T20:15:15.649934Z",
     "shell.execute_reply": "2021-07-31T20:15:15.648928Z",
     "shell.execute_reply.started": "2021-07-31T20:15:15.238141Z"
    },
    "id": "hjRF5szkcQE0"
   },
   "outputs": [],
   "source": [
    "# convert minors_count to int value\n",
    "new_minors_count = []\n",
    "for i in dataframe['minorsCount']:\n",
    "  if i == 0 or i == '0':\n",
    "    new_minors_count.append(0)\n",
    "  elif i == '1 Minor':\n",
    "    new_minors_count.append(1)\n",
    "  else:\n",
    "    new_minors_count.append(2)\n",
    "\n",
    "dataframe['minorsCount'] = new_minors_count"
   ]
  },
  {
   "cell_type": "code",
   "execution_count": 227,
   "metadata": {
    "execution": {
     "iopub.execute_input": "2021-07-31T20:15:15.651673Z",
     "iopub.status.busy": "2021-07-31T20:15:15.651318Z",
     "iopub.status.idle": "2021-07-31T20:15:15.666666Z",
     "shell.execute_reply": "2021-07-31T20:15:15.665872Z",
     "shell.execute_reply.started": "2021-07-31T20:15:15.651633Z"
    },
    "id": "9VdzvJSw0KUU",
    "outputId": "6393784f-234e-4935-9cee-cbcf56b5630a"
   },
   "outputs": [
    {
     "name": "stdout",
     "output_type": "stream",
     "text": [
      "we have  1110  users in total.\n"
     ]
    }
   ],
   "source": [
    "print(\"we have \", dataframe['user_id'].nunique(),\" users in total.\")"
   ]
  },
  {
   "cell_type": "code",
   "execution_count": 228,
   "metadata": {
    "execution": {
     "iopub.execute_input": "2021-07-31T20:15:15.668435Z",
     "iopub.status.busy": "2021-07-31T20:15:15.667923Z",
     "iopub.status.idle": "2021-07-31T20:15:15.677452Z",
     "shell.execute_reply": "2021-07-31T20:15:15.676636Z",
     "shell.execute_reply.started": "2021-07-31T20:15:15.668398Z"
    },
    "id": "hUaGk9L9g13t"
   },
   "outputs": [],
   "source": [
    "for category in ['term','chapter_label', 'sub_chapter_label', 'question_name']:\n",
    "  dataframe[category] =  dataframe[category].cat.codes"
   ]
  },
  {
   "cell_type": "code",
   "execution_count": 229,
   "metadata": {
    "execution": {
     "iopub.execute_input": "2021-07-31T20:15:15.679103Z",
     "iopub.status.busy": "2021-07-31T20:15:15.678720Z",
     "iopub.status.idle": "2021-07-31T20:15:15.927489Z",
     "shell.execute_reply": "2021-07-31T20:15:15.926466Z",
     "shell.execute_reply.started": "2021-07-31T20:15:15.679048Z"
    },
    "id": "hkyvcYvlhliG"
   },
   "outputs": [],
   "source": [
    "NUMERIC_FEATURE =  ['age',\n",
    "            'exclClassCumGPA',\n",
    "            'termCreditsGPA',\n",
    "            'termCreditsNoGPA',\n",
    "            'highSchoolGPA', \n",
    "            'majorsCount', 'minorsCount',\n",
    "            'PREV_TERM_CUM_GPA',\n",
    "            'available_flashcards', \n",
    "            'days_offset', \n",
    "            'prev_time_elapsed',\n",
    "             'time_lag']\n",
    "# z-score normalize the numerical features\n",
    "for f in NUMERIC_FEATURE:\n",
    "  m = dataframe[f].mean()\n",
    "  std = dataframe[f].std()\n",
    "  dataframe[f] = (dataframe[f] - m)/std"
   ]
  },
  {
   "cell_type": "code",
   "execution_count": 230,
   "metadata": {
    "execution": {
     "iopub.execute_input": "2021-07-31T20:15:15.929116Z",
     "iopub.status.busy": "2021-07-31T20:15:15.928783Z",
     "iopub.status.idle": "2021-07-31T20:15:19.240797Z",
     "shell.execute_reply": "2021-07-31T20:15:19.239877Z",
     "shell.execute_reply.started": "2021-07-31T20:15:15.929074Z"
    },
    "id": "wo2OH-d5kWp1"
   },
   "outputs": [],
   "source": [
    "FEATURE_TRANS =  ['answer_correct', 'chapter_label', 'sub_chapter_label','question_name','user_id','term',\n",
    "                  'STDNT_SEX_CD', \n",
    "                    'White','Asian','NonWhiteOrAsian',\n",
    "            'STDNT_CTZN_STAT_CD', 'international', \n",
    "            'age',\n",
    "            'exclClassCumGPA',\n",
    "           'Freshman',\n",
    "            'Junior',\n",
    "            'Sophomore',\n",
    "            'Senior',\n",
    "            'termCreditsGPA',\n",
    "            'termCreditsNoGPA',\n",
    "            'athlete_1',\n",
    "            'honorsPro',\n",
    "            'LSA', 'programBusiness', 'programEngineering', \n",
    "            'programInformation', 'programOther',\n",
    "            'HSCalculusTaken', \n",
    "            'highSchoolGPA', \n",
    "            'majorsCount', 'minorsCount',\n",
    "            'PREV_TERM_CUM_GPA',\n",
    "            'classGraded', 'classHonors', \n",
    "            'Pass_Fail', \n",
    "            'parentsGraduateEdu',  'minorityGroup', \n",
    "            'available_flashcards', \n",
    "            'days_offset', 'prev_time_elapsed',\n",
    "             'time_lag']\n",
    "\n",
    "grouped_data = dataframe[FEATURE_TRANS].groupby(['user_id']).apply(lambda r: (\n",
    "                r['answer_correct'],\n",
    "                r['term'],\n",
    "                r['chapter_label'],\n",
    "                r['sub_chapter_label'],\n",
    "                r['question_name'],\n",
    "                np.array([r['STDNT_SEX_CD'],r['STDNT_CTZN_STAT_CD'], r['international'], \n",
    "                  r['White'],r['Asian'],r['NonWhiteOrAsian'],\n",
    "                 r['age'],r['exclClassCumGPA'],\n",
    "                r['Freshman'], r['Junior'], r['Sophomore'], r['Senior'],\n",
    "                r['termCreditsGPA'], r['termCreditsNoGPA'],\n",
    "                r['athlete_1'], r['honorsPro'],\n",
    "                r['LSA'], r['programBusiness'], r['programEngineering'], \n",
    "                r['programInformation'], r['programOther'],\n",
    "                r['HSCalculusTaken'],  r['highSchoolGPA'], \n",
    "                r['majorsCount'], r['minorsCount'],\n",
    "                r['PREV_TERM_CUM_GPA'], \n",
    "                r['parentsGraduateEdu'], r['minorityGroup'],\n",
    "                r['available_flashcards'],\n",
    "                r['days_offset'],\n",
    "                r['prev_time_elapsed'],\n",
    "                r['time_lag']\n",
    "              ]).transpose()\n",
    "                ))"
   ]
  },
  {
   "cell_type": "code",
   "execution_count": 231,
   "metadata": {
    "execution": {
     "iopub.execute_input": "2021-07-31T20:15:19.242450Z",
     "iopub.status.busy": "2021-07-31T20:15:19.242106Z",
     "iopub.status.idle": "2021-07-31T20:15:19.445361Z",
     "shell.execute_reply": "2021-07-31T20:15:19.444326Z",
     "shell.execute_reply.started": "2021-07-31T20:15:19.242415Z"
    },
    "id": "XXLqQnjrlp_4",
    "outputId": "c801da79-f0bf-4fe5-b19c-7c799fe01556"
   },
   "outputs": [
    {
     "data": {
      "text/plain": [
       "22"
      ]
     },
     "execution_count": 231,
     "metadata": {},
     "output_type": "execute_result"
    }
   ],
   "source": [
    "gc.collect()"
   ]
  },
  {
   "cell_type": "code",
   "execution_count": 232,
   "metadata": {
    "execution": {
     "iopub.execute_input": "2021-07-31T20:15:19.447272Z",
     "iopub.status.busy": "2021-07-31T20:15:19.446871Z",
     "iopub.status.idle": "2021-07-31T20:15:19.481562Z",
     "shell.execute_reply": "2021-07-31T20:15:19.480810Z",
     "shell.execute_reply.started": "2021-07-31T20:15:19.447233Z"
    },
    "id": "QYGQasdTrmP0"
   },
   "outputs": [],
   "source": [
    "# remove students who don't have make any interactions with the tool\n",
    "toRemove = []\n",
    "for index in grouped_data.index:\n",
    "  if len(grouped_data[index][0]) <= 10:\n",
    "    toRemove.append(index)\n",
    "grouped_data = grouped_data.drop(index=toRemove)"
   ]
  },
  {
   "cell_type": "code",
   "execution_count": 233,
   "metadata": {
    "execution": {
     "iopub.execute_input": "2021-07-31T20:15:19.483200Z",
     "iopub.status.busy": "2021-07-31T20:15:19.482843Z",
     "iopub.status.idle": "2021-07-31T20:15:19.501236Z",
     "shell.execute_reply": "2021-07-31T20:15:19.500234Z",
     "shell.execute_reply.started": "2021-07-31T20:15:19.483153Z"
    }
   },
   "outputs": [
    {
     "data": {
      "text/plain": [
       "count    1110.000000\n",
       "mean      550.263063\n",
       "std       201.281353\n",
       "min         2.000000\n",
       "25%       438.250000\n",
       "50%       520.500000\n",
       "75%       637.750000\n",
       "max      1500.000000\n",
       "Name: start_practice, dtype: float64"
      ]
     },
     "execution_count": 233,
     "metadata": {},
     "output_type": "execute_result"
    }
   ],
   "source": [
    "dataframe.groupby('user_id')['start_practice'].agg('count').describe()"
   ]
  },
  {
   "cell_type": "code",
   "execution_count": 234,
   "metadata": {
    "execution": {
     "iopub.execute_input": "2021-07-31T20:15:19.503130Z",
     "iopub.status.busy": "2021-07-31T20:15:19.502703Z",
     "iopub.status.idle": "2021-07-31T20:15:19.512684Z",
     "shell.execute_reply": "2021-07-31T20:15:19.511360Z",
     "shell.execute_reply.started": "2021-07-31T20:15:19.503086Z"
    }
   },
   "outputs": [
    {
     "data": {
      "text/plain": [
       "['FA 2018:252', 'WN 2018:295']"
      ]
     },
     "execution_count": 234,
     "metadata": {},
     "output_type": "execute_result"
    }
   ],
   "source": [
    "toRemove"
   ]
  },
  {
   "cell_type": "code",
   "execution_count": 235,
   "metadata": {
    "execution": {
     "iopub.execute_input": "2021-07-31T20:15:19.518058Z",
     "iopub.status.busy": "2021-07-31T20:15:19.517748Z",
     "iopub.status.idle": "2021-07-31T20:15:19.522858Z",
     "shell.execute_reply": "2021-07-31T20:15:19.521528Z",
     "shell.execute_reply.started": "2021-07-31T20:15:19.518023Z"
    },
    "id": "9kZqV9siDyNb"
   },
   "outputs": [],
   "source": [
    "#SETTINGS -> can be modified at any time\n",
    "MAXLENGTH = 100\n",
    "EMBEDDING_DIM = 128\n",
    "DENSE_NEURON = 16\n",
    "GRU_NEURON = 32"
   ]
  },
  {
   "cell_type": "code",
   "execution_count": 236,
   "metadata": {
    "execution": {
     "iopub.execute_input": "2021-07-31T20:15:19.525798Z",
     "iopub.status.busy": "2021-07-31T20:15:19.524976Z",
     "iopub.status.idle": "2021-07-31T20:15:19.533305Z",
     "shell.execute_reply": "2021-07-31T20:15:19.531815Z",
     "shell.execute_reply.started": "2021-07-31T20:15:19.525754Z"
    },
    "id": "1MksD1JizpPn"
   },
   "outputs": [],
   "source": [
    "#FEATURES_SIZE = 38\n",
    "CHAPTER_SIZE = 38\n",
    "SUB_CHAPTER_SIZE = 223\n",
    "QUESTION_SIZE = 1069"
   ]
  },
  {
   "cell_type": "code",
   "execution_count": 237,
   "metadata": {
    "execution": {
     "iopub.execute_input": "2021-07-31T20:15:19.535869Z",
     "iopub.status.busy": "2021-07-31T20:15:19.535408Z",
     "iopub.status.idle": "2021-07-31T20:15:19.552524Z",
     "shell.execute_reply": "2021-07-31T20:15:19.551479Z",
     "shell.execute_reply.started": "2021-07-31T20:15:19.535827Z"
    }
   },
   "outputs": [
    {
     "data": {
      "text/plain": [
       "array([ 96,  86,  88,  28,  12,  82, 125,  32,  69,  33,  21, 115, 120,\n",
       "       119,  91,  73,  57,  77, 117,  40,  74,  41,  68,  39,  92,  47,\n",
       "       104,  95,  53,  49,  50,  16,  52,  55,   7,  15,  51, 102, 103,\n",
       "        11,  94, 108, 100,  17,  67,  63,  13, 139,  26,  25,   8, 107,\n",
       "         0,  90,  48,  54, 138,   1,   2,   3,  34,  35,  85,   5,  24,\n",
       "        37,  36,  78,  70,  45, 142,  71,  10,  89, 111, 112, 109, 116,\n",
       "        76,  72, 148, 134, 146, 221, 143,  56,  60,  61,  23, 140, 106,\n",
       "        42,  83,  22, 145, 136, 144,  38,   4,  19, 137,  75,  43,  98,\n",
       "        84, 113, 173, 174, 175, 176, 177, 178, 180, 181, 182, 187, 189,\n",
       "       190, 191, 192, 193, 195, 197, 151, 152, 153, 156, 157, 158, 159,\n",
       "       160, 161, 163, 164, 165, 166, 167, 168, 169, 170, 171, 172, 198,\n",
       "       199, 200, 201, 202, 203, 204, 205, 206, 207, 208, 209, 210, 162,\n",
       "       179, 186, 188, 194, 183, 184, 185, 211, 212, 213, 154, 155, 196,\n",
       "         6, 118,  18, 215,  46, 216, 141,  27, 217, 105, 123, 218, 101,\n",
       "       124, 219, 122, 220,  58,  59,  64,  20,  93,  65,  66,   9,  44,\n",
       "        30,  14,  79, 121,  31, 110, 129,  87,  97,  62, 149, 132, 131,\n",
       "       150, 130, 128,  99, 147, 127, 214, 135,  80, 126, 133,  81, 114,\n",
       "        29], dtype=int16)"
      ]
     },
     "execution_count": 237,
     "metadata": {},
     "output_type": "execute_result"
    }
   ],
   "source": [
    "dataframe['sub_chapter_label'].unique()"
   ]
  },
  {
   "cell_type": "code",
   "execution_count": 238,
   "metadata": {
    "execution": {
     "iopub.execute_input": "2021-07-31T20:15:19.554418Z",
     "iopub.status.busy": "2021-07-31T20:15:19.553910Z",
     "iopub.status.idle": "2021-07-31T20:15:19.569225Z",
     "shell.execute_reply": "2021-07-31T20:15:19.568200Z",
     "shell.execute_reply.started": "2021-07-31T20:15:19.554359Z"
    },
    "id": "mY3Thp6d0NaT"
   },
   "outputs": [],
   "source": [
    "#create dataset class\n",
    "#to prepare it for train, valid, and test sets\n",
    "from torch.utils.data import Dataset, DataLoader\n",
    "class SPACE_DATASET(Dataset):\n",
    "    def __init__(self, data, maxlength = 600):\n",
    "        super(SPACE_DATASET, self).__init__()\n",
    "        self.maxlength = maxlength\n",
    "        self.data = data\n",
    "        self.users = list()\n",
    "        for user in data.index:\n",
    "            self.users.append(user)\n",
    "\n",
    "    def __len__(self):\n",
    "        return len(self.users)\n",
    "    \n",
    "    def __getitem__(self, ix):\n",
    "        user = self.users[ix]\n",
    "        user = user\n",
    "        target, term, ch_label, sub_ch_label, ques_name, features = self.data[user]\n",
    "        \n",
    "        #0s should be used as padding values\n",
    "        ori_target = target.values \n",
    "        term = term.values\n",
    "        ch_label = ch_label.values + 1\n",
    "        sub_ch_label = sub_ch_label.values +1\n",
    "        ques_name = ques_name.values + 1\n",
    "        \n",
    "        n = len(ch_label)\n",
    "\n",
    "        # one hot for term\n",
    "        term_encode = [0]*7\n",
    "        term_encode[term[0]] = 1\n",
    "        shifted_target= []\n",
    "\n",
    "        \n",
    "        # get  user interaction informations in the previous MAXLEN interactions\n",
    "        if n > self.maxlength:\n",
    "          ch_label = ch_label[-self.maxlength:]\n",
    "          sub_ch_label = sub_ch_label[-self.maxlength:]\n",
    "          ques_name = ques_name[-self.maxlength:]\n",
    "          features = features[-self.maxlength:]\n",
    "          target = ori_target[-self.maxlength:]\n",
    "          shifted_target = ori_target[ (-self.maxlength - 1) :-1]\n",
    "        else:\n",
    "          ch_label = [0]*(self.maxlength - n)+list(ch_label[:])\n",
    "          sub_ch_label = [0]*(self.maxlength - n)+list(sub_ch_label[:])\n",
    "          ques_name = [0]*(self.maxlength - n)+list(ques_name[:])\n",
    "          features = [[0]*len(features[0])]*(self.maxlength  - n)+list(features[:])\n",
    "          target = [-1]*(self.maxlength - n) + list(ori_target[:])\n",
    "          shifted_target = [-1]*(self.maxlength + 1 - n) + list(ori_target[:-1])\n",
    "\n",
    "        new_features = []\n",
    "        count = 0\n",
    "        for f in features:\n",
    "          temp = list(f)\n",
    "          temp.extend(term_encode)\n",
    "          # temp.append(shifted_target[count]) #uncomment this line for include previous response feature\n",
    "          new_features.append(temp)\n",
    "          count += 1\n",
    "        features = new_features\n",
    "        return ch_label,sub_ch_label,ques_name,target"
   ]
  },
  {
   "cell_type": "code",
   "execution_count": 239,
   "metadata": {
    "execution": {
     "iopub.execute_input": "2021-07-31T20:15:19.570943Z",
     "iopub.status.busy": "2021-07-31T20:15:19.570602Z",
     "iopub.status.idle": "2021-07-31T20:15:19.584157Z",
     "shell.execute_reply": "2021-07-31T20:15:19.583285Z",
     "shell.execute_reply.started": "2021-07-31T20:15:19.570911Z"
    }
   },
   "outputs": [
    {
     "data": {
      "text/plain": [
       "223"
      ]
     },
     "execution_count": 239,
     "metadata": {},
     "output_type": "execute_result"
    }
   ],
   "source": [
    "SUB_CHAPTER_SIZE"
   ]
  },
  {
   "cell_type": "code",
   "execution_count": 240,
   "metadata": {
    "execution": {
     "iopub.execute_input": "2021-07-31T20:15:19.586015Z",
     "iopub.status.busy": "2021-07-31T20:15:19.585595Z",
     "iopub.status.idle": "2021-07-31T20:15:54.694496Z",
     "shell.execute_reply": "2021-07-31T20:15:54.693449Z",
     "shell.execute_reply.started": "2021-07-31T20:15:19.585973Z"
    },
    "id": "gzJrljnjzypP",
    "outputId": "87abe488-b493-4f8f-9d71-45cb1d2ddf51"
   },
   "outputs": [
    {
     "name": "stdout",
     "output_type": "stream",
     "text": [
      "Epoch 1/100\n",
      "14/14 [==============================] - 2s 51ms/step - loss: 0.6071 - masked_acc: 0.6560 - masked_auc: 0.5944 - val_loss: 0.5100 - val_masked_acc: 0.7404 - val_masked_auc: 0.6624\n",
      "Epoch 2/100\n",
      "14/14 [==============================] - 0s 14ms/step - loss: 0.4794 - masked_acc: 0.7449 - masked_auc: 0.6832 - val_loss: 0.4796 - val_masked_acc: 0.7542 - val_masked_auc: 0.7259\n",
      "Epoch 3/100\n",
      "14/14 [==============================] - 0s 14ms/step - loss: 0.4570 - masked_acc: 0.7562 - masked_auc: 0.7353 - val_loss: 0.4813 - val_masked_acc: 0.7593 - val_masked_auc: 0.7500\n",
      "Epoch 4/100\n",
      "14/14 [==============================] - 0s 14ms/step - loss: 0.4590 - masked_acc: 0.7598 - masked_auc: 0.7540 - val_loss: 0.4785 - val_masked_acc: 0.7622 - val_masked_auc: 0.7622\n",
      "Epoch 5/100\n",
      "14/14 [==============================] - 0s 14ms/step - loss: 0.4621 - masked_acc: 0.7623 - masked_auc: 0.7641 - val_loss: 0.4786 - val_masked_acc: 0.7640 - val_masked_auc: 0.7695\n",
      "Epoch 6/100\n",
      "14/14 [==============================] - 0s 14ms/step - loss: 0.4548 - masked_acc: 0.7642 - masked_auc: 0.7713 - val_loss: 0.4779 - val_masked_acc: 0.7652 - val_masked_auc: 0.7744\n",
      "Epoch 7/100\n",
      "14/14 [==============================] - 0s 14ms/step - loss: 0.4526 - masked_acc: 0.7655 - masked_auc: 0.7757 - val_loss: 0.4792 - val_masked_acc: 0.7660 - val_masked_auc: 0.7778\n",
      "Epoch 8/100\n",
      "14/14 [==============================] - 0s 16ms/step - loss: 0.4637 - masked_acc: 0.7659 - masked_auc: 0.7784 - val_loss: 0.4791 - val_masked_acc: 0.7667 - val_masked_auc: 0.7804\n",
      "Epoch 9/100\n",
      "14/14 [==============================] - 0s 14ms/step - loss: 0.4524 - masked_acc: 0.7669 - masked_auc: 0.7810 - val_loss: 0.4779 - val_masked_acc: 0.7673 - val_masked_auc: 0.7824\n",
      "Epoch 10/100\n",
      "14/14 [==============================] - 0s 14ms/step - loss: 0.4555 - masked_acc: 0.7673 - masked_auc: 0.7828 - val_loss: 0.4790 - val_masked_acc: 0.7677 - val_masked_auc: 0.7839\n",
      "Epoch 11/100\n",
      "14/14 [==============================] - 0s 14ms/step - loss: 0.4445 - masked_acc: 0.7679 - masked_auc: 0.7845 - val_loss: 0.4790 - val_masked_acc: 0.7680 - val_masked_auc: 0.7853\n",
      "Epoch 12/100\n",
      "14/14 [==============================] - 0s 14ms/step - loss: 0.4563 - masked_acc: 0.7681 - masked_auc: 0.7856 - val_loss: 0.4777 - val_masked_acc: 0.7684 - val_masked_auc: 0.7864\n",
      "Epoch 13/100\n",
      "14/14 [==============================] - 0s 14ms/step - loss: 0.4553 - masked_acc: 0.7684 - masked_auc: 0.7866 - val_loss: 0.4790 - val_masked_acc: 0.7687 - val_masked_auc: 0.7873\n",
      "Epoch 14/100\n",
      "14/14 [==============================] - 0s 14ms/step - loss: 0.4500 - masked_acc: 0.7688 - masked_auc: 0.7875 - val_loss: 0.4779 - val_masked_acc: 0.7689 - val_masked_auc: 0.7880\n",
      "Epoch 15/100\n",
      "14/14 [==============================] - 0s 14ms/step - loss: 0.4575 - masked_acc: 0.7688 - masked_auc: 0.7882 - val_loss: 0.4800 - val_masked_acc: 0.7690 - val_masked_auc: 0.7887\n",
      "Epoch 16/100\n",
      "14/14 [==============================] - 0s 15ms/step - loss: 0.4593 - masked_acc: 0.7690 - masked_auc: 0.7889 - val_loss: 0.4782 - val_masked_acc: 0.7692 - val_masked_auc: 0.7893\n",
      "Epoch 17/100\n",
      "14/14 [==============================] - 0s 15ms/step - loss: 0.4511 - masked_acc: 0.7692 - masked_auc: 0.7894 - val_loss: 0.4791 - val_masked_acc: 0.7693 - val_masked_auc: 0.7899\n",
      "Epoch 18/100\n",
      "14/14 [==============================] - 0s 15ms/step - loss: 0.4522 - masked_acc: 0.7694 - masked_auc: 0.7900 - val_loss: 0.4788 - val_masked_acc: 0.7695 - val_masked_auc: 0.7903\n",
      "Epoch 19/100\n",
      "14/14 [==============================] - 0s 14ms/step - loss: 0.4528 - masked_acc: 0.7695 - masked_auc: 0.7904 - val_loss: 0.4796 - val_masked_acc: 0.7696 - val_masked_auc: 0.7907\n",
      "Epoch 20/100\n",
      "14/14 [==============================] - 0s 14ms/step - loss: 0.4538 - masked_acc: 0.7695 - masked_auc: 0.7908 - val_loss: 0.4783 - val_masked_acc: 0.7696 - val_masked_auc: 0.7911\n",
      "Epoch 21/100\n",
      "14/14 [==============================] - 0s 14ms/step - loss: 0.4534 - masked_acc: 0.7696 - masked_auc: 0.7912 - val_loss: 0.4784 - val_masked_acc: 0.7698 - val_masked_auc: 0.7915\n",
      "Epoch 22/100\n",
      "14/14 [==============================] - 0s 14ms/step - loss: 0.4581 - masked_acc: 0.7697 - masked_auc: 0.7915 - val_loss: 0.4790 - val_masked_acc: 0.7699 - val_masked_auc: 0.7918\n",
      "28/28 [==============================] - 0s 9ms/step - loss: 0.4515 - masked_acc: 0.7701 - masked_auc: 0.7922\n",
      "4/4 [==============================] - 0s 7ms/step - loss: 0.4363 - masked_acc: 0.7700 - masked_auc: 0.7922\n",
      "Test:  [0.4362839460372925, 0.7700463533401489, 0.7922137379646301]\n",
      "Epoch 1/100\n",
      "14/14 [==============================] - 2s 51ms/step - loss: 0.6121 - masked_acc: 0.6575 - masked_auc: 0.5957 - val_loss: 0.4870 - val_masked_acc: 0.7406 - val_masked_auc: 0.6686\n",
      "Epoch 2/100\n",
      "14/14 [==============================] - 0s 14ms/step - loss: 0.4759 - masked_acc: 0.7460 - masked_auc: 0.6891 - val_loss: 0.4705 - val_masked_acc: 0.7542 - val_masked_auc: 0.7276\n",
      "Epoch 3/100\n",
      "14/14 [==============================] - 0s 14ms/step - loss: 0.4638 - masked_acc: 0.7556 - masked_auc: 0.7370 - val_loss: 0.4659 - val_masked_acc: 0.7591 - val_masked_auc: 0.7507\n",
      "Epoch 4/100\n",
      "14/14 [==============================] - 0s 14ms/step - loss: 0.4580 - masked_acc: 0.7600 - masked_auc: 0.7549 - val_loss: 0.4659 - val_masked_acc: 0.7618 - val_masked_auc: 0.7620\n",
      "Epoch 5/100\n",
      "14/14 [==============================] - 0s 14ms/step - loss: 0.4596 - masked_acc: 0.7621 - masked_auc: 0.7647 - val_loss: 0.4655 - val_masked_acc: 0.7636 - val_masked_auc: 0.7693\n",
      "Epoch 6/100\n",
      "14/14 [==============================] - 0s 14ms/step - loss: 0.4624 - masked_acc: 0.7635 - masked_auc: 0.7707 - val_loss: 0.4652 - val_masked_acc: 0.7646 - val_masked_auc: 0.7739\n",
      "Epoch 7/100\n",
      "14/14 [==============================] - 0s 14ms/step - loss: 0.4554 - masked_acc: 0.7649 - masked_auc: 0.7751 - val_loss: 0.4655 - val_masked_acc: 0.7655 - val_masked_auc: 0.7771\n",
      "Epoch 8/100\n",
      "14/14 [==============================] - 0s 14ms/step - loss: 0.4580 - masked_acc: 0.7655 - masked_auc: 0.7780 - val_loss: 0.4664 - val_masked_acc: 0.7661 - val_masked_auc: 0.7796\n",
      "Epoch 9/100\n",
      "14/14 [==============================] - 0s 14ms/step - loss: 0.4557 - masked_acc: 0.7662 - masked_auc: 0.7803 - val_loss: 0.4656 - val_masked_acc: 0.7666 - val_masked_auc: 0.7815\n",
      "Epoch 10/100\n",
      "14/14 [==============================] - 0s 14ms/step - loss: 0.4517 - masked_acc: 0.7668 - masked_auc: 0.7822 - val_loss: 0.4649 - val_masked_acc: 0.7670 - val_masked_auc: 0.7831\n",
      "Epoch 11/100\n",
      "14/14 [==============================] - 0s 13ms/step - loss: 0.4610 - masked_acc: 0.7669 - masked_auc: 0.7835 - val_loss: 0.4667 - val_masked_acc: 0.7673 - val_masked_auc: 0.7843\n",
      "Epoch 12/100\n",
      "14/14 [==============================] - 0s 14ms/step - loss: 0.4544 - masked_acc: 0.7674 - masked_auc: 0.7846 - val_loss: 0.4662 - val_masked_acc: 0.7675 - val_masked_auc: 0.7853\n",
      "Epoch 13/100\n",
      "14/14 [==============================] - 0s 14ms/step - loss: 0.4661 - masked_acc: 0.7674 - masked_auc: 0.7855 - val_loss: 0.4662 - val_masked_acc: 0.7678 - val_masked_auc: 0.7862\n",
      "Epoch 14/100\n",
      "14/14 [==============================] - 0s 14ms/step - loss: 0.4579 - masked_acc: 0.7678 - masked_auc: 0.7865 - val_loss: 0.4661 - val_masked_acc: 0.7679 - val_masked_auc: 0.7869\n",
      "Epoch 15/100\n",
      "14/14 [==============================] - 0s 14ms/step - loss: 0.4598 - masked_acc: 0.7680 - masked_auc: 0.7871 - val_loss: 0.4655 - val_masked_acc: 0.7681 - val_masked_auc: 0.7876\n",
      "Epoch 16/100\n",
      "14/14 [==============================] - 0s 13ms/step - loss: 0.4555 - masked_acc: 0.7681 - masked_auc: 0.7878 - val_loss: 0.4665 - val_masked_acc: 0.7682 - val_masked_auc: 0.7882\n",
      "Epoch 17/100\n",
      "14/14 [==============================] - 0s 14ms/step - loss: 0.4588 - masked_acc: 0.7681 - masked_auc: 0.7884 - val_loss: 0.4660 - val_masked_acc: 0.7683 - val_masked_auc: 0.7887\n",
      "Epoch 18/100\n",
      "14/14 [==============================] - 0s 15ms/step - loss: 0.4530 - masked_acc: 0.7683 - masked_auc: 0.7889 - val_loss: 0.4660 - val_masked_acc: 0.7684 - val_masked_auc: 0.7891\n",
      "Epoch 19/100\n",
      "14/14 [==============================] - 0s 14ms/step - loss: 0.4532 - masked_acc: 0.7685 - masked_auc: 0.7894 - val_loss: 0.4661 - val_masked_acc: 0.7685 - val_masked_auc: 0.7896\n",
      "Epoch 20/100\n",
      "14/14 [==============================] - 0s 14ms/step - loss: 0.4604 - masked_acc: 0.7685 - masked_auc: 0.7897 - val_loss: 0.4660 - val_masked_acc: 0.7686 - val_masked_auc: 0.7899\n",
      "28/28 [==============================] - 0s 5ms/step - loss: 0.4554 - masked_acc: 0.7688 - masked_auc: 0.7904\n",
      "4/4 [==============================] - 0s 6ms/step - loss: 0.4221 - masked_acc: 0.7688 - masked_auc: 0.7905\n",
      "Test:  [0.42209893465042114, 0.7687886953353882, 0.790510892868042]\n",
      "Epoch 1/100\n",
      "14/14 [==============================] - 2s 52ms/step - loss: 0.6035 - masked_acc: 0.6781 - masked_auc: 0.5900 - val_loss: 0.5066 - val_masked_acc: 0.7483 - val_masked_auc: 0.6721\n",
      "Epoch 2/100\n",
      "14/14 [==============================] - 0s 14ms/step - loss: 0.4721 - masked_acc: 0.7524 - masked_auc: 0.6919 - val_loss: 0.4769 - val_masked_acc: 0.7597 - val_masked_auc: 0.7295\n",
      "Epoch 3/100\n",
      "14/14 [==============================] - 0s 23ms/step - loss: 0.4537 - masked_acc: 0.7612 - masked_auc: 0.7394 - val_loss: 0.4772 - val_masked_acc: 0.7638 - val_masked_auc: 0.7522\n",
      "Epoch 4/100\n",
      "14/14 [==============================] - 0s 23ms/step - loss: 0.4575 - masked_acc: 0.7639 - masked_auc: 0.7559 - val_loss: 0.4746 - val_masked_acc: 0.7663 - val_masked_auc: 0.7639\n",
      "Epoch 5/100\n",
      "14/14 [==============================] - 0s 17ms/step - loss: 0.4499 - masked_acc: 0.7667 - masked_auc: 0.7666 - val_loss: 0.4753 - val_masked_acc: 0.7676 - val_masked_auc: 0.7712\n",
      "Epoch 6/100\n",
      "14/14 [==============================] - 0s 14ms/step - loss: 0.4450 - masked_acc: 0.7682 - masked_auc: 0.7731 - val_loss: 0.4764 - val_masked_acc: 0.7685 - val_masked_auc: 0.7759\n",
      "Epoch 7/100\n",
      "14/14 [==============================] - 0s 14ms/step - loss: 0.4485 - masked_acc: 0.7686 - masked_auc: 0.7770 - val_loss: 0.4744 - val_masked_acc: 0.7692 - val_masked_auc: 0.7794\n",
      "Epoch 8/100\n",
      "14/14 [==============================] - 0s 14ms/step - loss: 0.4499 - masked_acc: 0.7693 - masked_auc: 0.7805 - val_loss: 0.4762 - val_masked_acc: 0.7698 - val_masked_auc: 0.7820\n",
      "Epoch 9/100\n",
      "14/14 [==============================] - 0s 14ms/step - loss: 0.4517 - masked_acc: 0.7698 - masked_auc: 0.7826 - val_loss: 0.4762 - val_masked_acc: 0.7702 - val_masked_auc: 0.7839\n",
      "Epoch 10/100\n",
      "14/14 [==============================] - 0s 14ms/step - loss: 0.4449 - masked_acc: 0.7704 - masked_auc: 0.7846 - val_loss: 0.4756 - val_masked_acc: 0.7705 - val_masked_auc: 0.7855\n",
      "Epoch 11/100\n",
      "14/14 [==============================] - 0s 14ms/step - loss: 0.4540 - masked_acc: 0.7704 - masked_auc: 0.7859 - val_loss: 0.4764 - val_masked_acc: 0.7708 - val_masked_auc: 0.7867\n",
      "Epoch 12/100\n",
      "14/14 [==============================] - 0s 14ms/step - loss: 0.4494 - masked_acc: 0.7708 - masked_auc: 0.7872 - val_loss: 0.4760 - val_masked_acc: 0.7710 - val_masked_auc: 0.7878\n",
      "Epoch 13/100\n",
      "14/14 [==============================] - 0s 14ms/step - loss: 0.4538 - masked_acc: 0.7710 - masked_auc: 0.7882 - val_loss: 0.4773 - val_masked_acc: 0.7712 - val_masked_auc: 0.7887\n",
      "Epoch 14/100\n",
      "14/14 [==============================] - 0s 14ms/step - loss: 0.4432 - masked_acc: 0.7713 - masked_auc: 0.7891 - val_loss: 0.4752 - val_masked_acc: 0.7713 - val_masked_auc: 0.7895\n",
      "Epoch 15/100\n",
      "14/14 [==============================] - 0s 13ms/step - loss: 0.4567 - masked_acc: 0.7712 - masked_auc: 0.7897 - val_loss: 0.4777 - val_masked_acc: 0.7715 - val_masked_auc: 0.7902\n",
      "Epoch 16/100\n",
      "14/14 [==============================] - 0s 14ms/step - loss: 0.4493 - masked_acc: 0.7715 - masked_auc: 0.7904 - val_loss: 0.4760 - val_masked_acc: 0.7716 - val_masked_auc: 0.7908\n",
      "Epoch 17/100\n",
      "14/14 [==============================] - 0s 14ms/step - loss: 0.4459 - masked_acc: 0.7717 - masked_auc: 0.7910 - val_loss: 0.4771 - val_masked_acc: 0.7717 - val_masked_auc: 0.7913\n",
      "28/28 [==============================] - 0s 5ms/step - loss: 0.4480 - masked_acc: 0.7720 - masked_auc: 0.7919\n",
      "4/4 [==============================] - 0s 7ms/step - loss: 0.4704 - masked_acc: 0.7719 - masked_auc: 0.7919\n",
      "Test:  [0.4704350233078003, 0.7719129323959351, 0.7919044494628906]\n",
      "Epoch 1/100\n",
      "14/14 [==============================] - 2s 52ms/step - loss: 0.6064 - masked_acc: 0.6737 - masked_auc: 0.5876 - val_loss: 0.5346 - val_masked_acc: 0.7460 - val_masked_auc: 0.6591\n",
      "Epoch 2/100\n",
      "14/14 [==============================] - 0s 14ms/step - loss: 0.4690 - masked_acc: 0.7515 - masked_auc: 0.6823 - val_loss: 0.5109 - val_masked_acc: 0.7590 - val_masked_auc: 0.7255\n",
      "Epoch 3/100\n",
      "14/14 [==============================] - 0s 13ms/step - loss: 0.4495 - masked_acc: 0.7606 - masked_auc: 0.7361 - val_loss: 0.5077 - val_masked_acc: 0.7633 - val_masked_auc: 0.7499\n",
      "Epoch 4/100\n",
      "14/14 [==============================] - 0s 14ms/step - loss: 0.4469 - masked_acc: 0.7643 - masked_auc: 0.7546 - val_loss: 0.5069 - val_masked_acc: 0.7661 - val_masked_auc: 0.7625\n",
      "Epoch 5/100\n",
      "14/14 [==============================] - 0s 13ms/step - loss: 0.4474 - masked_acc: 0.7665 - masked_auc: 0.7656 - val_loss: 0.5069 - val_masked_acc: 0.7675 - val_masked_auc: 0.7700\n",
      "Epoch 6/100\n",
      "14/14 [==============================] - 0s 14ms/step - loss: 0.4473 - masked_acc: 0.7679 - masked_auc: 0.7717 - val_loss: 0.5074 - val_masked_acc: 0.7687 - val_masked_auc: 0.7750\n",
      "Epoch 7/100\n",
      "14/14 [==============================] - 0s 13ms/step - loss: 0.4462 - masked_acc: 0.7690 - masked_auc: 0.7763 - val_loss: 0.5069 - val_masked_acc: 0.7695 - val_masked_auc: 0.7785\n",
      "Epoch 8/100\n",
      "14/14 [==============================] - 0s 14ms/step - loss: 0.4403 - masked_acc: 0.7698 - masked_auc: 0.7796 - val_loss: 0.5061 - val_masked_acc: 0.7701 - val_masked_auc: 0.7812\n",
      "Epoch 9/100\n",
      "14/14 [==============================] - 0s 14ms/step - loss: 0.4519 - masked_acc: 0.7701 - masked_auc: 0.7818 - val_loss: 0.5087 - val_masked_acc: 0.7706 - val_masked_auc: 0.7832\n",
      "Epoch 10/100\n",
      "14/14 [==============================] - 0s 14ms/step - loss: 0.4444 - masked_acc: 0.7707 - masked_auc: 0.7838 - val_loss: 0.5065 - val_masked_acc: 0.7708 - val_masked_auc: 0.7848\n",
      "Epoch 11/100\n",
      "14/14 [==============================] - 0s 13ms/step - loss: 0.4448 - masked_acc: 0.7710 - masked_auc: 0.7855 - val_loss: 0.5077 - val_masked_acc: 0.7711 - val_masked_auc: 0.7862\n",
      "Epoch 12/100\n",
      "14/14 [==============================] - 0s 13ms/step - loss: 0.4460 - masked_acc: 0.7712 - masked_auc: 0.7866 - val_loss: 0.5070 - val_masked_acc: 0.7713 - val_masked_auc: 0.7873\n",
      "Epoch 13/100\n",
      "14/14 [==============================] - 0s 13ms/step - loss: 0.4431 - masked_acc: 0.7714 - masked_auc: 0.7877 - val_loss: 0.5078 - val_masked_acc: 0.7715 - val_masked_auc: 0.7883\n",
      "Epoch 14/100\n",
      "14/14 [==============================] - 0s 13ms/step - loss: 0.4478 - masked_acc: 0.7715 - masked_auc: 0.7885 - val_loss: 0.5079 - val_masked_acc: 0.7717 - val_masked_auc: 0.7891\n",
      "Epoch 15/100\n",
      "14/14 [==============================] - 0s 13ms/step - loss: 0.4461 - masked_acc: 0.7717 - masked_auc: 0.7894 - val_loss: 0.5071 - val_masked_acc: 0.7718 - val_masked_auc: 0.7898\n",
      "Epoch 16/100\n",
      "14/14 [==============================] - 0s 13ms/step - loss: 0.4462 - masked_acc: 0.7719 - masked_auc: 0.7901 - val_loss: 0.5073 - val_masked_acc: 0.7720 - val_masked_auc: 0.7904\n",
      "Epoch 17/100\n",
      "14/14 [==============================] - 0s 13ms/step - loss: 0.4497 - masked_acc: 0.7720 - masked_auc: 0.7906 - val_loss: 0.5071 - val_masked_acc: 0.7721 - val_masked_auc: 0.7910\n",
      "Epoch 18/100\n",
      "14/14 [==============================] - 0s 13ms/step - loss: 0.4478 - masked_acc: 0.7721 - masked_auc: 0.7911 - val_loss: 0.5078 - val_masked_acc: 0.7723 - val_masked_auc: 0.7915\n",
      "28/28 [==============================] - 0s 5ms/step - loss: 0.4447 - masked_acc: 0.7726 - masked_auc: 0.7920\n",
      "4/4 [==============================] - 0s 5ms/step - loss: 0.4687 - masked_acc: 0.7725 - masked_auc: 0.7922\n",
      "Test:  [0.4686741530895233, 0.7725055813789368, 0.7921890020370483]\n",
      "Epoch 1/100\n",
      "14/14 [==============================] - 2s 47ms/step - loss: 0.6080 - masked_acc: 0.6653 - masked_auc: 0.5938 - val_loss: 0.4726 - val_masked_acc: 0.7432 - val_masked_auc: 0.6652\n",
      "Epoch 2/100\n",
      "14/14 [==============================] - 0s 14ms/step - loss: 0.4754 - masked_acc: 0.7489 - masked_auc: 0.6875 - val_loss: 0.4605 - val_masked_acc: 0.7565 - val_masked_auc: 0.7248\n",
      "Epoch 3/100\n",
      "14/14 [==============================] - 0s 13ms/step - loss: 0.4600 - masked_acc: 0.7576 - masked_auc: 0.7346 - val_loss: 0.4531 - val_masked_acc: 0.7615 - val_masked_auc: 0.7488\n",
      "Epoch 4/100\n",
      "14/14 [==============================] - 0s 13ms/step - loss: 0.4590 - masked_acc: 0.7621 - masked_auc: 0.7532 - val_loss: 0.4524 - val_masked_acc: 0.7640 - val_masked_auc: 0.7606\n",
      "Epoch 5/100\n",
      "14/14 [==============================] - 0s 14ms/step - loss: 0.4546 - masked_acc: 0.7644 - masked_auc: 0.7636 - val_loss: 0.4534 - val_masked_acc: 0.7656 - val_masked_auc: 0.7678\n",
      "Epoch 6/100\n",
      "14/14 [==============================] - 0s 14ms/step - loss: 0.4636 - masked_acc: 0.7656 - masked_auc: 0.7691 - val_loss: 0.4521 - val_masked_acc: 0.7667 - val_masked_auc: 0.7725\n",
      "Epoch 7/100\n",
      "14/14 [==============================] - 0s 13ms/step - loss: 0.4557 - masked_acc: 0.7669 - masked_auc: 0.7736 - val_loss: 0.4531 - val_masked_acc: 0.7674 - val_masked_auc: 0.7759\n",
      "Epoch 8/100\n",
      "14/14 [==============================] - 0s 13ms/step - loss: 0.4552 - masked_acc: 0.7675 - masked_auc: 0.7768 - val_loss: 0.4540 - val_masked_acc: 0.7680 - val_masked_auc: 0.7784\n",
      "Epoch 9/100\n",
      "14/14 [==============================] - 0s 13ms/step - loss: 0.4542 - masked_acc: 0.7681 - masked_auc: 0.7791 - val_loss: 0.4530 - val_masked_acc: 0.7685 - val_masked_auc: 0.7803\n",
      "Epoch 10/100\n",
      "14/14 [==============================] - 0s 13ms/step - loss: 0.4528 - masked_acc: 0.7686 - masked_auc: 0.7809 - val_loss: 0.4536 - val_masked_acc: 0.7689 - val_masked_auc: 0.7819\n",
      "Epoch 11/100\n",
      "14/14 [==============================] - 0s 13ms/step - loss: 0.4621 - masked_acc: 0.7688 - masked_auc: 0.7824 - val_loss: 0.4525 - val_masked_acc: 0.7693 - val_masked_auc: 0.7832\n",
      "Epoch 12/100\n",
      "14/14 [==============================] - 0s 13ms/step - loss: 0.4518 - masked_acc: 0.7694 - masked_auc: 0.7836 - val_loss: 0.4537 - val_masked_acc: 0.7696 - val_masked_auc: 0.7843\n",
      "Epoch 13/100\n",
      "14/14 [==============================] - 0s 13ms/step - loss: 0.4464 - masked_acc: 0.7697 - masked_auc: 0.7846 - val_loss: 0.4548 - val_masked_acc: 0.7698 - val_masked_auc: 0.7852\n",
      "Epoch 14/100\n",
      "14/14 [==============================] - 0s 13ms/step - loss: 0.4541 - masked_acc: 0.7698 - masked_auc: 0.7855 - val_loss: 0.4526 - val_masked_acc: 0.7701 - val_masked_auc: 0.7860\n",
      "Epoch 15/100\n",
      "14/14 [==============================] - 0s 13ms/step - loss: 0.4547 - masked_acc: 0.7701 - masked_auc: 0.7863 - val_loss: 0.4534 - val_masked_acc: 0.7702 - val_masked_auc: 0.7867\n",
      "Epoch 16/100\n",
      "14/14 [==============================] - 0s 13ms/step - loss: 0.4594 - masked_acc: 0.7702 - masked_auc: 0.7869 - val_loss: 0.4541 - val_masked_acc: 0.7704 - val_masked_auc: 0.7873\n",
      "28/28 [==============================] - 0s 4ms/step - loss: 0.4538 - masked_acc: 0.7707 - masked_auc: 0.7879\n",
      "4/4 [==============================] - 1s 6ms/step - loss: 0.4490 - masked_acc: 0.7705 - masked_auc: 0.7881\n",
      "Test:  [0.4490208327770233, 0.7705264091491699, 0.7880605459213257]\n"
     ]
    }
   ],
   "source": [
    "# 5 fold cross validation\n",
    "#HERE WE ONLY USE chapter\n",
    "#sub_chapter and question\n",
    "#without additional features\n",
    "import torch\n",
    "X = np.array(grouped_data.keys())\n",
    "kfold = KFold(n_splits=5, shuffle=True)\n",
    "train_losses = list()\n",
    "train_aucs = list()\n",
    "val_losses = list()\n",
    "val_aucs = list()\n",
    "train_eval = list()\n",
    "test_eval = list()\n",
    "for train, test in kfold.split(X):\n",
    "    users_train, users_test =  X[train], X[test]\n",
    "    n = len(users_test)//2\n",
    "    users_test, users_val = users_test[:n], users_test[n: ]\n",
    "    train_data_space = SPACE_DATASET(grouped_data[users_train], MAXLENGTH)\n",
    "    val_data_space = SPACE_DATASET(grouped_data[users_val], MAXLENGTH)\n",
    "    test_data_space = SPACE_DATASET(grouped_data[users_test], MAXLENGTH)\n",
    "    #construct training input\n",
    "    train_chapter=[]\n",
    "    train_sub_chapter=[]\n",
    "    train_question = []\n",
    "    train_features=[]\n",
    "    train_labels=[]\n",
    "    for i in range(len(users_train)):\n",
    "        user = train_data_space.__getitem__(i)\n",
    "        train_chapter.append(user[0])\n",
    "        train_sub_chapter.append(user[1]) \n",
    "        train_question.append(user[2])\n",
    "        #train_features.append(user[3])\n",
    "        train_labels.append(user[3])\n",
    "    train_chapter = np.array(train_chapter)\n",
    "    train_sub_chapter = np.array(train_sub_chapter)\n",
    "    train_question = np.array(train_question)\n",
    "    #train_features = np.array(train_features)\n",
    "    train_labels= np.array(train_labels)[..., np.newaxis]\n",
    "\n",
    "    #construct validation input\n",
    "    val_chapter=[]\n",
    "    val_sub_chapter=[]\n",
    "    val_question = []\n",
    "    #val_features=[]\n",
    "    val_labels=[]\n",
    "    for i in range(len(users_val)):\n",
    "        user = val_data_space.__getitem__(i)\n",
    "        val_chapter.append(user[0])\n",
    "        val_sub_chapter.append(user[1]) \n",
    "        val_question.append(user[2])\n",
    "        #val_features.append(user[3])\n",
    "        val_labels.append(user[3])\n",
    "    val_chapter = np.array(val_chapter)\n",
    "    val_sub_chapter = np.array(val_sub_chapter)\n",
    "    #val_features = np.array(val_features)\n",
    "    val_question = np.array(val_question)\n",
    "    val_labels= np.array(val_labels)[..., np.newaxis]\n",
    "\n",
    "    # construct test input\n",
    "    test_chapter=[]\n",
    "    test_sub_chapter=[]\n",
    "    #test_features=[]\n",
    "    test_question=[]\n",
    "    test_labels=[]\n",
    "    for i in range(len(users_test)):\n",
    "        user = test_data_space.__getitem__(i)\n",
    "        test_chapter.append(user[0])\n",
    "        test_sub_chapter.append(user[1]) \n",
    "        test_question.append(user[2])\n",
    "        #test_features.append(user[3])\n",
    "        test_labels.append(user[3])\n",
    "    test_chapter = np.array(test_chapter)\n",
    "    test_sub_chapter = np.array(test_sub_chapter)\n",
    "    #test_features = np.array(test_features)\n",
    "    test_question = np.array(test_question)\n",
    "    test_labels= np.array(test_labels)[..., np.newaxis]\n",
    "\n",
    "    # define loss function and evaluation metrics\n",
    "    bce = tf.keras.losses.BinaryCrossentropy(from_logits=True)\n",
    "    acc = tf.keras.metrics.Accuracy()\n",
    "    auc = tf.keras.metrics.AUC()\n",
    "\n",
    "    def masked_bce(y_true, y_pred):\n",
    "      flat_pred = y_pred\n",
    "      flat_ground_truth = y_true\n",
    "      label_mask = tf.math.not_equal(flat_ground_truth, -1)\n",
    "      return bce(flat_ground_truth, flat_pred, sample_weight=label_mask)\n",
    "\n",
    "    def masked_acc(y_true, y_pred):\n",
    "      flat_pred = y_pred\n",
    "      flat_ground_truth = y_true\n",
    "      flat_pred = (flat_pred >= 0.5)\n",
    "      label_mask = tf.math.not_equal(flat_ground_truth, -1)\n",
    "      return acc(flat_ground_truth, flat_pred, sample_weight=label_mask)\n",
    "\n",
    "    def masked_auc(y_true, y_pred):\n",
    "      flat_pred = y_pred\n",
    "      flat_ground_truth = y_true\n",
    "      label_mask = tf.math.not_equal(flat_ground_truth, -1)\n",
    "      return auc(flat_ground_truth, flat_pred, sample_weight=label_mask)\n",
    "\n",
    "    # input layer\n",
    "    input_chap = tf.keras.Input(shape=(MAXLENGTH))\n",
    "    input_sub_chap = tf.keras.Input(shape=(MAXLENGTH))\n",
    "    input_ques =  tf.keras.Input(shape=(MAXLENGTH))\n",
    "    #input_features = tf.keras.Input(shape=(MAXLENGTH, FEATURES_SIZE))\n",
    "\n",
    "    # embedding layer for categorical features\n",
    "    embedding_chap = Embedding(input_dim = CHAPTER_SIZE, output_dim = EMBEDDING_DIM)(input_chap)\n",
    "    embedding_sub_chap = Embedding(input_dim = SUB_CHAPTER_SIZE, output_dim = EMBEDDING_DIM)(input_sub_chap) \n",
    "    embedding_ques = Embedding(input_dim = QUESTION_SIZE, output_dim = EMBEDDING_DIM)(input_ques)       \n",
    "\n",
    "    # dense layer for numeric features\n",
    "    #dense_features = Dense(EMBEDDING_DIM,input_shape = (None, MAXLENGTH))(input_features)\n",
    "\n",
    "    gru_output = tf.concat([embedding_chap, embedding_sub_chap, embedding_ques], axis = 2)\n",
    "\n",
    "    pred = Dense(1, input_shape = (None, 3*EMBEDDING_DIM), activation='sigmoid')(gru_output)\n",
    "\n",
    "    model = tf.keras.Model(\n",
    "        inputs=[input_chap, input_sub_chap,input_ques],\n",
    "        outputs=pred,\n",
    "        name='logistic_regression'\n",
    "    )\n",
    "\n",
    "    callback = tf.keras.callbacks.EarlyStopping(monitor='val_loss', patience=10)\n",
    "    opt_adam = Adam(learning_rate = 0.005)\n",
    "    model.compile(\n",
    "        optimizer=opt_adam,\n",
    "        loss= masked_bce,\n",
    "        metrics = [masked_acc, masked_auc]\n",
    "    )\n",
    "\n",
    "    history = model.fit(\n",
    "      [train_chapter, train_sub_chapter, train_question],\n",
    "      train_labels,\n",
    "      batch_size = 64,\n",
    "      epochs = 100,\n",
    "      validation_data=([val_chapter, val_sub_chapter, val_question], val_labels),\n",
    "      callbacks=[callback]\n",
    "    )\n",
    "    val_losses.append(list(history.history['val_loss']))\n",
    "    train_losses.append(list(history.history['loss']))\n",
    "    val_aucs.append(list(history.history['val_masked_auc']))\n",
    "    train_aucs.append(list(history.history['masked_auc']))\n",
    "    train_score = model.evaluate([train_chapter, train_sub_chapter, train_question], train_labels)\n",
    "    train_eval.append(train_score)\n",
    "    test_score = model.evaluate([test_chapter, test_sub_chapter, test_question], test_labels)\n",
    "    test_eval.append(test_score)\n",
    "    print(\"Test: \", test_score)\n",
    "    def reset_weights(model):\n",
    "      for layer in model.layers: \n",
    "        if isinstance(layer, tf.keras.Model):\n",
    "          reset_weights(layer)\n",
    "          continue\n",
    "        for k, initializer in layer.__dict__.items():\n",
    "          if \"initializer\" not in k:\n",
    "            continue\n",
    "          # find the corresponding variable\n",
    "          var = getattr(layer, k.replace(\"_initializer\", \"\"))\n",
    "          var.assign(initializer(var.shape, var.dtype))\n",
    "    reset_weights(model)"
   ]
  },
  {
   "cell_type": "code",
   "execution_count": 241,
   "metadata": {
    "execution": {
     "iopub.execute_input": "2021-07-31T20:15:54.696263Z",
     "iopub.status.busy": "2021-07-31T20:15:54.695891Z",
     "iopub.status.idle": "2021-07-31T20:15:54.705313Z",
     "shell.execute_reply": "2021-07-31T20:15:54.704515Z",
     "shell.execute_reply.started": "2021-07-31T20:15:54.696224Z"
    },
    "id": "QsVmumHMz3lx",
    "outputId": "4ff1e2fa-6abb-458e-c729-495b456f53e5"
   },
   "outputs": [
    {
     "name": "stdout",
     "output_type": "stream",
     "text": [
      "test avg loss:  0.44930257797241213 +/- 0.018608817996736905\n",
      "test avg acc:  0.7707559943199158 +/- 0.0013286177444360042\n",
      "test avg auc:  0.7909757256507873 +/- 0.0015862902867275902\n"
     ]
    }
   ],
   "source": [
    "t_eval = np.array(test_eval)\n",
    "print(\"test avg loss: \", np.mean(t_eval[:, 0]), \"+/-\" ,np.std(t_eval[:, 0]))\n",
    "print(\"test avg acc: \", np.mean(t_eval[:, 1]),  \"+/-\" ,np.std(t_eval[:, 1]))\n",
    "print(\"test avg auc: \", np.mean(t_eval[:, 2]), \"+/-\" ,np.std(t_eval[:, 2]))"
   ]
  },
  {
   "cell_type": "code",
   "execution_count": 242,
   "metadata": {
    "execution": {
     "iopub.execute_input": "2021-07-31T20:15:54.706655Z",
     "iopub.status.busy": "2021-07-31T20:15:54.706321Z",
     "iopub.status.idle": "2021-07-31T20:15:54.722109Z",
     "shell.execute_reply": "2021-07-31T20:15:54.721322Z",
     "shell.execute_reply.started": "2021-07-31T20:15:54.706619Z"
    },
    "id": "b9MM_CXWz5K6",
    "outputId": "4cf88e1d-3a74-4e7d-f92c-d01522e91757"
   },
   "outputs": [
    {
     "name": "stdout",
     "output_type": "stream",
     "text": [
      "train avg loss:  0.45067609548568727 +/- 0.003907772784284846\n",
      "train avg acc:  0.7708602786064148 +/- 0.0013377193736784643\n",
      "train avg auc:  0.7908812880516052 +/- 0.0016465350762037468\n"
     ]
    }
   ],
   "source": [
    "t_eval = np.array(train_eval)\n",
    "print(\"train avg loss: \", np.mean(t_eval[:, 0]), \"+/-\" ,np.std(t_eval[:, 0]))\n",
    "print(\"train avg acc: \", np.mean(t_eval[:, 1]),  \"+/-\" ,np.std(t_eval[:, 1]))\n",
    "print(\"train avg auc: \", np.mean(t_eval[:, 2]), \"+/-\" ,np.std(t_eval[:, 2]))"
   ]
  }
 ],
 "metadata": {
  "kernelspec": {
   "display_name": "Python 3",
   "language": "python",
   "name": "python3"
  },
  "language_info": {
   "codemirror_mode": {
    "name": "ipython",
    "version": 3
   },
   "file_extension": ".py",
   "mimetype": "text/x-python",
   "name": "python",
   "nbconvert_exporter": "python",
   "pygments_lexer": "ipython3",
   "version": "3.8.5"
  }
 },
 "nbformat": 4,
 "nbformat_minor": 4
}
