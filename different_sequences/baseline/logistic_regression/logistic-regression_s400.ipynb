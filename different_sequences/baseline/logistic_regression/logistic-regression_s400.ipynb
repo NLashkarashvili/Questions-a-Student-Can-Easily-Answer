{
 "cells": [
  {
   "cell_type": "code",
   "execution_count": 1,
   "metadata": {
    "execution": {
     "iopub.execute_input": "2021-07-31T20:00:58.916669Z",
     "iopub.status.busy": "2021-07-31T20:00:58.915926Z",
     "iopub.status.idle": "2021-07-31T20:01:03.222892Z",
     "shell.execute_reply": "2021-07-31T20:01:03.222312Z",
     "shell.execute_reply.started": "2021-07-31T19:56:49.431132Z"
    },
    "id": "farifxiKU1aB",
    "papermill": {
     "duration": 4.350073,
     "end_time": "2021-07-31T20:01:03.223045",
     "exception": false,
     "start_time": "2021-07-31T20:00:58.872972",
     "status": "completed"
    },
    "tags": []
   },
   "outputs": [],
   "source": [
    "import numpy as np\n",
    "import pandas as pd\n",
    "import warnings\n",
    "import gc\n",
    "import tensorflow as tf\n",
    "from tensorflow import keras\n",
    "\n",
    "import random\n",
    "from random import choice\n",
    "from tensorflow.keras.optimizers import Adam\n",
    "from tensorflow.keras.models import Sequential \n",
    "from tensorflow.keras.layers import Dense, GRU, Concatenate, Embedding, Flatten, Activation, Dropout\n",
    "from sklearn.model_selection import KFold\n",
    "from tensorflow.python.client import device_lib\n",
    "warnings.filterwarnings('ignore')\n",
    "import random"
   ]
  },
  {
   "cell_type": "code",
   "execution_count": 2,
   "metadata": {
    "execution": {
     "iopub.execute_input": "2021-07-31T20:01:03.274760Z",
     "iopub.status.busy": "2021-07-31T20:01:03.273982Z",
     "iopub.status.idle": "2021-07-31T20:01:03.276723Z",
     "shell.execute_reply": "2021-07-31T20:01:03.276156Z",
     "shell.execute_reply.started": "2021-07-31T19:56:49.441108Z"
    },
    "id": "QOson70GPOXb",
    "papermill": {
     "duration": 0.0301,
     "end_time": "2021-07-31T20:01:03.276837",
     "exception": false,
     "start_time": "2021-07-31T20:01:03.246737",
     "status": "completed"
    },
    "tags": []
   },
   "outputs": [],
   "source": [
    "import gc"
   ]
  },
  {
   "cell_type": "markdown",
   "metadata": {
    "id": "BQsVybBH3VPw",
    "papermill": {
     "duration": 0.023201,
     "end_time": "2021-07-31T20:01:03.323450",
     "exception": false,
     "start_time": "2021-07-31T20:01:03.300249",
     "status": "completed"
    },
    "tags": []
   },
   "source": [
    "## Data Preprocessing"
   ]
  },
  {
   "cell_type": "code",
   "execution_count": 3,
   "metadata": {
    "execution": {
     "iopub.execute_input": "2021-07-31T20:01:03.374315Z",
     "iopub.status.busy": "2021-07-31T20:01:03.373644Z",
     "iopub.status.idle": "2021-07-31T20:01:08.837581Z",
     "shell.execute_reply": "2021-07-31T20:01:08.837030Z",
     "shell.execute_reply.started": "2021-07-31T19:56:49.451833Z"
    },
    "id": "rwtTusGxrmAE",
    "outputId": "1430f3cf-038b-485e-b5c4-c1686b1f34fd",
    "papermill": {
     "duration": 5.490918,
     "end_time": "2021-07-31T20:01:08.837715",
     "exception": false,
     "start_time": "2021-07-31T20:01:03.346797",
     "status": "completed"
    },
    "tags": []
   },
   "outputs": [
    {
     "data": {
      "text/html": [
       "<div>\n",
       "<style scoped>\n",
       "    .dataframe tbody tr th:only-of-type {\n",
       "        vertical-align: middle;\n",
       "    }\n",
       "\n",
       "    .dataframe tbody tr th {\n",
       "        vertical-align: top;\n",
       "    }\n",
       "\n",
       "    .dataframe thead th {\n",
       "        text-align: right;\n",
       "    }\n",
       "</style>\n",
       "<table border=\"1\" class=\"dataframe\">\n",
       "  <thead>\n",
       "    <tr style=\"text-align: right;\">\n",
       "      <th></th>\n",
       "      <th>Unnamed: 0</th>\n",
       "      <th>chapter_label</th>\n",
       "      <th>sub_chapter_label</th>\n",
       "      <th>question_name</th>\n",
       "      <th>user_id.x</th>\n",
       "      <th>term</th>\n",
       "      <th>STDNT_SEX_CD</th>\n",
       "      <th>NonNativeEnglish</th>\n",
       "      <th>White</th>\n",
       "      <th>Asian</th>\n",
       "      <th>...</th>\n",
       "      <th>classGraded</th>\n",
       "      <th>classHonors</th>\n",
       "      <th>Pass_Fail</th>\n",
       "      <th>parentsGraduateEdu</th>\n",
       "      <th>minorityGroup</th>\n",
       "      <th>q</th>\n",
       "      <th>day's_available_flashcards</th>\n",
       "      <th>start_practice</th>\n",
       "      <th>end_practice</th>\n",
       "      <th>days_offset</th>\n",
       "    </tr>\n",
       "  </thead>\n",
       "  <tbody>\n",
       "    <tr>\n",
       "      <th>0</th>\n",
       "      <td>1</td>\n",
       "      <td>Sort</td>\n",
       "      <td>intro-SortingwithSortandSorted</td>\n",
       "      <td>ee_sort_04</td>\n",
       "      <td>148</td>\n",
       "      <td>WN 2018</td>\n",
       "      <td>1</td>\n",
       "      <td>0</td>\n",
       "      <td>1</td>\n",
       "      <td>0</td>\n",
       "      <td>...</td>\n",
       "      <td>1</td>\n",
       "      <td>0</td>\n",
       "      <td>0</td>\n",
       "      <td>0</td>\n",
       "      <td>0</td>\n",
       "      <td>0</td>\n",
       "      <td>18</td>\n",
       "      <td>2018-03-04 20:00:19</td>\n",
       "      <td>2018-03-04 20:00:35</td>\n",
       "      <td>45</td>\n",
       "    </tr>\n",
       "    <tr>\n",
       "      <th>1</th>\n",
       "      <td>2</td>\n",
       "      <td>Functions</td>\n",
       "      <td>Returningavaluefromafunction</td>\n",
       "      <td>test_questionfunctions_2_3</td>\n",
       "      <td>148</td>\n",
       "      <td>WN 2018</td>\n",
       "      <td>1</td>\n",
       "      <td>0</td>\n",
       "      <td>1</td>\n",
       "      <td>0</td>\n",
       "      <td>...</td>\n",
       "      <td>1</td>\n",
       "      <td>0</td>\n",
       "      <td>0</td>\n",
       "      <td>0</td>\n",
       "      <td>0</td>\n",
       "      <td>4</td>\n",
       "      <td>16</td>\n",
       "      <td>2018-02-10 11:57:55</td>\n",
       "      <td>2018-02-10 11:58:35</td>\n",
       "      <td>23</td>\n",
       "    </tr>\n",
       "    <tr>\n",
       "      <th>2</th>\n",
       "      <td>3</td>\n",
       "      <td>RESTAPIs</td>\n",
       "      <td>functionswithrestapis</td>\n",
       "      <td>test_question_functions_rest_apis_1</td>\n",
       "      <td>148</td>\n",
       "      <td>WN 2018</td>\n",
       "      <td>1</td>\n",
       "      <td>0</td>\n",
       "      <td>1</td>\n",
       "      <td>0</td>\n",
       "      <td>...</td>\n",
       "      <td>1</td>\n",
       "      <td>0</td>\n",
       "      <td>0</td>\n",
       "      <td>0</td>\n",
       "      <td>0</td>\n",
       "      <td>1</td>\n",
       "      <td>2</td>\n",
       "      <td>2018-03-12 17:03:07</td>\n",
       "      <td>2018-03-12 17:04:28</td>\n",
       "      <td>53</td>\n",
       "    </tr>\n",
       "    <tr>\n",
       "      <th>3</th>\n",
       "      <td>4</td>\n",
       "      <td>SimplePythonData</td>\n",
       "      <td>FunctionCalls</td>\n",
       "      <td>exercise_functionCalls_1</td>\n",
       "      <td>148</td>\n",
       "      <td>WN 2018</td>\n",
       "      <td>1</td>\n",
       "      <td>0</td>\n",
       "      <td>1</td>\n",
       "      <td>0</td>\n",
       "      <td>...</td>\n",
       "      <td>1</td>\n",
       "      <td>0</td>\n",
       "      <td>0</td>\n",
       "      <td>0</td>\n",
       "      <td>0</td>\n",
       "      <td>0</td>\n",
       "      <td>10</td>\n",
       "      <td>2018-01-30 14:15:49</td>\n",
       "      <td>2018-01-30 14:15:58</td>\n",
       "      <td>12</td>\n",
       "    </tr>\n",
       "    <tr>\n",
       "      <th>4</th>\n",
       "      <td>5</td>\n",
       "      <td>DictionaryAccumulation</td>\n",
       "      <td>AccumulatingaMaximumValue</td>\n",
       "      <td>ps_04_07</td>\n",
       "      <td>148</td>\n",
       "      <td>WN 2018</td>\n",
       "      <td>1</td>\n",
       "      <td>0</td>\n",
       "      <td>1</td>\n",
       "      <td>0</td>\n",
       "      <td>...</td>\n",
       "      <td>1</td>\n",
       "      <td>0</td>\n",
       "      <td>0</td>\n",
       "      <td>0</td>\n",
       "      <td>0</td>\n",
       "      <td>0</td>\n",
       "      <td>23</td>\n",
       "      <td>2018-03-03 14:04:17</td>\n",
       "      <td>2018-03-03 14:04:25</td>\n",
       "      <td>44</td>\n",
       "    </tr>\n",
       "  </tbody>\n",
       "</table>\n",
       "<p>5 rows × 48 columns</p>\n",
       "</div>"
      ],
      "text/plain": [
       "   Unnamed: 0           chapter_label               sub_chapter_label  \\\n",
       "0           1                    Sort  intro-SortingwithSortandSorted   \n",
       "1           2               Functions    Returningavaluefromafunction   \n",
       "2           3                RESTAPIs           functionswithrestapis   \n",
       "3           4        SimplePythonData                   FunctionCalls   \n",
       "4           5  DictionaryAccumulation       AccumulatingaMaximumValue   \n",
       "\n",
       "                         question_name  user_id.x     term  STDNT_SEX_CD  \\\n",
       "0                           ee_sort_04        148  WN 2018             1   \n",
       "1           test_questionfunctions_2_3        148  WN 2018             1   \n",
       "2  test_question_functions_rest_apis_1        148  WN 2018             1   \n",
       "3             exercise_functionCalls_1        148  WN 2018             1   \n",
       "4                             ps_04_07        148  WN 2018             1   \n",
       "\n",
       "   NonNativeEnglish  White  Asian  ...  classGraded  classHonors  Pass_Fail  \\\n",
       "0                 0      1      0  ...            1            0          0   \n",
       "1                 0      1      0  ...            1            0          0   \n",
       "2                 0      1      0  ...            1            0          0   \n",
       "3                 0      1      0  ...            1            0          0   \n",
       "4                 0      1      0  ...            1            0          0   \n",
       "\n",
       "   parentsGraduateEdu  minorityGroup  q  day's_available_flashcards  \\\n",
       "0                   0              0  0                          18   \n",
       "1                   0              0  4                          16   \n",
       "2                   0              0  1                           2   \n",
       "3                   0              0  0                          10   \n",
       "4                   0              0  0                          23   \n",
       "\n",
       "        start_practice         end_practice  days_offset  \n",
       "0  2018-03-04 20:00:19  2018-03-04 20:00:35           45  \n",
       "1  2018-02-10 11:57:55  2018-02-10 11:58:35           23  \n",
       "2  2018-03-12 17:03:07  2018-03-12 17:04:28           53  \n",
       "3  2018-01-30 14:15:49  2018-01-30 14:15:58           12  \n",
       "4  2018-03-03 14:04:17  2018-03-03 14:04:25           44  \n",
       "\n",
       "[5 rows x 48 columns]"
      ]
     },
     "execution_count": 3,
     "metadata": {},
     "output_type": "execute_result"
    }
   ],
   "source": [
    "# load the data\n",
    "import pandas as pd\n",
    "dataframe = pd.read_csv('../input/practice-log-demographics/Practice_Log_Demographics (1).csv', low_memory=False)\n",
    "dataframe.head()"
   ]
  },
  {
   "cell_type": "code",
   "execution_count": 4,
   "metadata": {
    "execution": {
     "iopub.execute_input": "2021-07-31T20:01:08.941893Z",
     "iopub.status.busy": "2021-07-31T20:01:08.940792Z",
     "iopub.status.idle": "2021-07-31T20:01:10.161069Z",
     "shell.execute_reply": "2021-07-31T20:01:10.160607Z",
     "shell.execute_reply.started": "2021-07-31T19:56:53.994204Z"
    },
    "id": "OCbHnEp_Vir0",
    "papermill": {
     "duration": 1.299142,
     "end_time": "2021-07-31T20:01:10.161200",
     "exception": false,
     "start_time": "2021-07-31T20:01:08.862058",
     "status": "completed"
    },
    "tags": []
   },
   "outputs": [],
   "source": [
    "#sort data based on timestamp\n",
    "dataframe = dataframe.sort_values(by=['start_practice'])"
   ]
  },
  {
   "cell_type": "code",
   "execution_count": 5,
   "metadata": {
    "execution": {
     "iopub.execute_input": "2021-07-31T20:01:10.214515Z",
     "iopub.status.busy": "2021-07-31T20:01:10.213853Z",
     "iopub.status.idle": "2021-07-31T20:01:10.217477Z",
     "shell.execute_reply": "2021-07-31T20:01:10.217038Z",
     "shell.execute_reply.started": "2021-07-31T19:56:55.629073Z"
    },
    "id": "0RvF7BvEr98o",
    "papermill": {
     "duration": 0.032574,
     "end_time": "2021-07-31T20:01:10.217595",
     "exception": false,
     "start_time": "2021-07-31T20:01:10.185021",
     "status": "completed"
    },
    "tags": []
   },
   "outputs": [],
   "source": [
    "FEATURES = ['chapter_label', 'sub_chapter_label','question_name','user_id','term',\n",
    "            'STDNT_SEX_CD', \n",
    "            'NonNativeEnglish',\n",
    "            'White',\n",
    "            'Asian',\n",
    "            'WhiteOrAsian',\n",
    "            'Hispanic',\n",
    "            'AfricanAmerican',\n",
    "            'OtherEthnicities',\n",
    "            'NonWhiteOrAsian',\n",
    "            'STDNT_CTZN_STAT_CD', 'international', \n",
    "            'gradingType',\n",
    "            'birthYear',\n",
    "            'exclClassCumGPA',\n",
    "            'Freshman',\n",
    "            'Junior',\n",
    "            'Sophomore',\n",
    "            'Senior',\n",
    "            'termCreditsGPA',\n",
    "            'termCreditsNoGPA',\n",
    "            'athlete_1',\n",
    "            'honorsPro',\n",
    "            'LSA', 'programBusiness', 'programEngineering', \n",
    "            'programInformation', 'programOther',\n",
    "            'HSCalculusTaken', \n",
    "            'highSchoolGPA', \n",
    "            'majorsCount', 'minorsCount',\n",
    "            'PREV_TERM_CUM_GPA',\n",
    "            'classGraded', 'classHonors', \n",
    "            'Pass_Fail', \n",
    "            'parentsGraduateEdu',  'minorityGroup', \n",
    "            'q',\n",
    "            'available_flashcards', \n",
    "            'start_practice', \n",
    "            'end_practice',\n",
    "            'days_offset']"
   ]
  },
  {
   "cell_type": "code",
   "execution_count": 6,
   "metadata": {
    "execution": {
     "iopub.execute_input": "2021-07-31T20:01:10.271864Z",
     "iopub.status.busy": "2021-07-31T20:01:10.271076Z",
     "iopub.status.idle": "2021-07-31T20:01:10.758002Z",
     "shell.execute_reply": "2021-07-31T20:01:10.757478Z",
     "shell.execute_reply.started": "2021-07-31T19:56:55.639041Z"
    },
    "id": "Mn341X7lSztl",
    "papermill": {
     "duration": 0.515705,
     "end_time": "2021-07-31T20:01:10.758141",
     "exception": false,
     "start_time": "2021-07-31T20:01:10.242436",
     "status": "completed"
    },
    "tags": []
   },
   "outputs": [],
   "source": [
    "dataframe['available_flashcards'] = dataframe[\"day's_available_flashcards\"][:]\n",
    "dataframe = dataframe.drop([\"day's_available_flashcards\"], axis=1)\n",
    "dataframe['user_id'] = dataframe[\"user_id.x\"][:]\n",
    "dataframe = dataframe.drop([\"user_id.x\"], axis=1)"
   ]
  },
  {
   "cell_type": "code",
   "execution_count": 7,
   "metadata": {
    "execution": {
     "iopub.execute_input": "2021-07-31T20:01:10.957466Z",
     "iopub.status.busy": "2021-07-31T20:01:10.956722Z",
     "iopub.status.idle": "2021-07-31T20:01:10.959811Z",
     "shell.execute_reply": "2021-07-31T20:01:10.960236Z",
     "shell.execute_reply.started": "2021-07-31T19:56:56.191814Z"
    },
    "id": "-_BRggOjbBjN",
    "outputId": "42bff7db-08dd-48dc-a73a-d048508053b7",
    "papermill": {
     "duration": 0.178281,
     "end_time": "2021-07-31T20:01:10.960393",
     "exception": false,
     "start_time": "2021-07-31T20:01:10.782112",
     "status": "completed"
    },
    "tags": []
   },
   "outputs": [
    {
     "data": {
      "text/plain": [
       "102"
      ]
     },
     "execution_count": 7,
     "metadata": {},
     "output_type": "execute_result"
    }
   ],
   "source": [
    "gc.collect()"
   ]
  },
  {
   "cell_type": "code",
   "execution_count": 8,
   "metadata": {
    "execution": {
     "iopub.execute_input": "2021-07-31T20:01:11.015299Z",
     "iopub.status.busy": "2021-07-31T20:01:11.013908Z",
     "iopub.status.idle": "2021-07-31T20:01:11.274523Z",
     "shell.execute_reply": "2021-07-31T20:01:11.274934Z",
     "shell.execute_reply.started": "2021-07-31T19:56:56.742879Z"
    },
    "id": "lXM7MlonVeRL",
    "outputId": "d29ccec0-522f-4e3c-e0b2-39b2e1eaef74",
    "papermill": {
     "duration": 0.290235,
     "end_time": "2021-07-31T20:01:11.275080",
     "exception": false,
     "start_time": "2021-07-31T20:01:10.984845",
     "status": "completed"
    },
    "tags": []
   },
   "outputs": [
    {
     "data": {
      "text/plain": [
       "20"
      ]
     },
     "execution_count": 8,
     "metadata": {},
     "output_type": "execute_result"
    }
   ],
   "source": [
    "dataframe = dataframe[FEATURES]\n",
    "gc.collect()"
   ]
  },
  {
   "cell_type": "code",
   "execution_count": 9,
   "metadata": {
    "execution": {
     "iopub.execute_input": "2021-07-31T20:01:11.776179Z",
     "iopub.status.busy": "2021-07-31T20:01:11.774440Z",
     "iopub.status.idle": "2021-07-31T20:01:11.910185Z",
     "shell.execute_reply": "2021-07-31T20:01:11.909667Z",
     "shell.execute_reply.started": "2021-07-31T19:56:57.074911Z"
    },
    "id": "2WAFv5z3A6fK",
    "outputId": "e27abf84-ec3c-4b88-e1fb-927d94b41898",
    "papermill": {
     "duration": 0.610974,
     "end_time": "2021-07-31T20:01:11.910324",
     "exception": false,
     "start_time": "2021-07-31T20:01:11.299350",
     "status": "completed"
    },
    "tags": []
   },
   "outputs": [],
   "source": [
    "dataframe = dataframe.fillna(0)"
   ]
  },
  {
   "cell_type": "code",
   "execution_count": 10,
   "metadata": {
    "execution": {
     "iopub.execute_input": "2021-07-31T20:01:11.975278Z",
     "iopub.status.busy": "2021-07-31T20:01:11.974536Z",
     "iopub.status.idle": "2021-07-31T20:01:13.353106Z",
     "shell.execute_reply": "2021-07-31T20:01:13.352618Z",
     "shell.execute_reply.started": "2021-07-31T19:56:57.661137Z"
    },
    "id": "qRKqF_0IXZgj",
    "papermill": {
     "duration": 1.418007,
     "end_time": "2021-07-31T20:01:13.353271",
     "exception": false,
     "start_time": "2021-07-31T20:01:11.935264",
     "status": "completed"
    },
    "tags": []
   },
   "outputs": [],
   "source": [
    "#label encode term, chapter_label, question_name, sub_chapter_label columns\n",
    "dataframe['term'] = dataframe['term'].astype('category')\n",
    "dataframe['user_id'] = dataframe['user_id'].astype(int)\n",
    "dataframe['user_id'] = dataframe['user_id'].astype(str)\n",
    "dataframe['user_id'] = dataframe['term'].str.cat(dataframe['user_id'], sep=':')\n",
    "dataframe['user_id'] = dataframe['user_id'].astype('category')\n",
    "dataframe['chapter_label'] = dataframe['chapter_label'].astype('category')\n",
    "dataframe['sub_chapter_label'] = dataframe['sub_chapter_label'].astype('category')\n",
    "dataframe['question_name'] = dataframe['question_name'].astype('category')\n"
   ]
  },
  {
   "cell_type": "code",
   "execution_count": 11,
   "metadata": {
    "execution": {
     "iopub.execute_input": "2021-07-31T20:01:13.408880Z",
     "iopub.status.busy": "2021-07-31T20:01:13.408017Z",
     "iopub.status.idle": "2021-07-31T20:01:13.881200Z",
     "shell.execute_reply": "2021-07-31T20:01:13.880741Z",
     "shell.execute_reply.started": "2021-07-31T19:56:58.982565Z"
    },
    "id": "eVl_067GWkDe",
    "papermill": {
     "duration": 0.503523,
     "end_time": "2021-07-31T20:01:13.881356",
     "exception": false,
     "start_time": "2021-07-31T20:01:13.377833",
     "status": "completed"
    },
    "tags": []
   },
   "outputs": [],
   "source": [
    "#calculate time_lag and prev_time_elapsed\n",
    "dataframe['prev_time_elapsed'] = None\n",
    "dataframe['time_lag'] = None\n",
    "dataframe['time_lag'] = dataframe['time_lag'].astype(np.float)\n",
    "dataframe['prev_time_elapsed'] = dataframe['prev_time_elapsed'].astype(np.float)\n",
    "dataframe.start_practice = pd.to_datetime(dataframe.start_practice, format='%Y-%m-%d %H:%M:%S')\n",
    "dataframe.end_practice = pd.to_datetime(dataframe.end_practice, format='%Y-%m-%d %H:%M:%S')\n",
    "dataframe['dif'] = dataframe.end_practice - dataframe.start_practice\n",
    "dataframe['dif'] = dataframe['dif'] /np.timedelta64(1, 's')\n",
    "dataframe['answer_correct'] = np.where((dataframe['q']==5) & (dataframe['dif'] <= 60), 1, 0)"
   ]
  },
  {
   "cell_type": "code",
   "execution_count": 13,
   "metadata": {
    "execution": {
     "iopub.execute_input": "2021-07-31T20:01:31.833027Z",
     "iopub.status.busy": "2021-07-31T20:01:31.832111Z",
     "iopub.status.idle": "2021-07-31T20:01:31.852959Z",
     "shell.execute_reply": "2021-07-31T20:01:31.852505Z",
     "shell.execute_reply.started": "2021-07-31T19:57:16.785356Z"
    },
    "id": "8t8yZ0XvWwzz",
    "papermill": {
     "duration": 0.137591,
     "end_time": "2021-07-31T20:01:31.853081",
     "exception": false,
     "start_time": "2021-07-31T20:01:31.715490",
     "status": "completed"
    },
    "tags": []
   },
   "outputs": [],
   "source": [
    "#drop column end_practice\n",
    "dataframe.drop(columns=['end_practice'], inplace=True)"
   ]
  },
  {
   "cell_type": "code",
   "execution_count": 14,
   "metadata": {
    "execution": {
     "iopub.execute_input": "2021-07-31T20:01:31.987166Z",
     "iopub.status.busy": "2021-07-31T20:01:31.986315Z",
     "iopub.status.idle": "2021-07-31T20:01:32.367531Z",
     "shell.execute_reply": "2021-07-31T20:01:32.367036Z",
     "shell.execute_reply.started": "2021-07-31T19:57:16.860565Z"
    },
    "id": "E42raRIrYYXz",
    "papermill": {
     "duration": 0.450486,
     "end_time": "2021-07-31T20:01:32.367656",
     "exception": false,
     "start_time": "2021-07-31T20:01:31.917170",
     "status": "completed"
    },
    "tags": []
   },
   "outputs": [],
   "source": [
    "# calculate the age feature\n",
    "dataframe['term_value'] = [int(ele[3:]) for ele in dataframe['term']]\n",
    "dataframe['age'] = dataframe['term_value'] - dataframe['birthYear']"
   ]
  },
  {
   "cell_type": "code",
   "execution_count": 15,
   "metadata": {
    "execution": {
     "iopub.execute_input": "2021-07-31T20:01:32.500678Z",
     "iopub.status.busy": "2021-07-31T20:01:32.499549Z",
     "iopub.status.idle": "2021-07-31T20:01:32.678607Z",
     "shell.execute_reply": "2021-07-31T20:01:32.678111Z",
     "shell.execute_reply.started": "2021-07-31T19:57:17.259821Z"
    },
    "id": "pcMVQXueYnMh",
    "papermill": {
     "duration": 0.247552,
     "end_time": "2021-07-31T20:01:32.678727",
     "exception": false,
     "start_time": "2021-07-31T20:01:32.431175",
     "status": "completed"
    },
    "tags": []
   },
   "outputs": [],
   "source": [
    "# drop term_value and birthYear column\n",
    "dataframe.drop(columns=['term_value', 'birthYear'], inplace=True)"
   ]
  },
  {
   "cell_type": "code",
   "execution_count": 16,
   "metadata": {
    "execution": {
     "iopub.execute_input": "2021-07-31T20:01:32.836153Z",
     "iopub.status.busy": "2021-07-31T20:01:32.825944Z",
     "iopub.status.idle": "2021-07-31T20:01:33.221613Z",
     "shell.execute_reply": "2021-07-31T20:01:33.221061Z",
     "shell.execute_reply.started": "2021-07-31T19:57:17.405431Z"
    },
    "id": "hjRF5szkcQE0",
    "papermill": {
     "duration": 0.47927,
     "end_time": "2021-07-31T20:01:33.221743",
     "exception": false,
     "start_time": "2021-07-31T20:01:32.742473",
     "status": "completed"
    },
    "tags": []
   },
   "outputs": [],
   "source": [
    "# convert minors_count to int value\n",
    "new_minors_count = []\n",
    "for i in dataframe['minorsCount']:\n",
    "  if i == 0 or i == '0':\n",
    "    new_minors_count.append(0)\n",
    "  elif i == '1 Minor':\n",
    "    new_minors_count.append(1)\n",
    "  else:\n",
    "    new_minors_count.append(2)\n",
    "\n",
    "dataframe['minorsCount'] = new_minors_count"
   ]
  },
  {
   "cell_type": "code",
   "execution_count": 17,
   "metadata": {
    "execution": {
     "iopub.execute_input": "2021-07-31T20:01:33.354577Z",
     "iopub.status.busy": "2021-07-31T20:01:33.353642Z",
     "iopub.status.idle": "2021-07-31T20:01:33.365752Z",
     "shell.execute_reply": "2021-07-31T20:01:33.365324Z",
     "shell.execute_reply.started": "2021-07-31T19:57:17.827306Z"
    },
    "id": "9VdzvJSw0KUU",
    "outputId": "6393784f-234e-4935-9cee-cbcf56b5630a",
    "papermill": {
     "duration": 0.079475,
     "end_time": "2021-07-31T20:01:33.365875",
     "exception": false,
     "start_time": "2021-07-31T20:01:33.286400",
     "status": "completed"
    },
    "tags": []
   },
   "outputs": [
    {
     "name": "stdout",
     "output_type": "stream",
     "text": [
      "we have  1110  users in total.\n"
     ]
    }
   ],
   "source": [
    "print(\"we have \", dataframe['user_id'].nunique(),\" users in total.\")"
   ]
  },
  {
   "cell_type": "code",
   "execution_count": 18,
   "metadata": {
    "execution": {
     "iopub.execute_input": "2021-07-31T20:01:33.500287Z",
     "iopub.status.busy": "2021-07-31T20:01:33.497977Z",
     "iopub.status.idle": "2021-07-31T20:01:33.505804Z",
     "shell.execute_reply": "2021-07-31T20:01:33.506166Z",
     "shell.execute_reply.started": "2021-07-31T19:57:17.845236Z"
    },
    "id": "hUaGk9L9g13t",
    "papermill": {
     "duration": 0.076703,
     "end_time": "2021-07-31T20:01:33.506331",
     "exception": false,
     "start_time": "2021-07-31T20:01:33.429628",
     "status": "completed"
    },
    "tags": []
   },
   "outputs": [],
   "source": [
    "for category in ['term','chapter_label', 'sub_chapter_label', 'question_name']:\n",
    "  dataframe[category] =  dataframe[category].cat.codes"
   ]
  },
  {
   "cell_type": "code",
   "execution_count": 19,
   "metadata": {
    "execution": {
     "iopub.execute_input": "2021-07-31T20:01:33.640331Z",
     "iopub.status.busy": "2021-07-31T20:01:33.639481Z",
     "iopub.status.idle": "2021-07-31T20:01:33.892318Z",
     "shell.execute_reply": "2021-07-31T20:01:33.891137Z",
     "shell.execute_reply.started": "2021-07-31T19:57:17.856508Z"
    },
    "id": "hkyvcYvlhliG",
    "papermill": {
     "duration": 0.322621,
     "end_time": "2021-07-31T20:01:33.892471",
     "exception": false,
     "start_time": "2021-07-31T20:01:33.569850",
     "status": "completed"
    },
    "tags": []
   },
   "outputs": [],
   "source": [
    "NUMERIC_FEATURE =  ['age',\n",
    "            'exclClassCumGPA',\n",
    "            'termCreditsGPA',\n",
    "            'termCreditsNoGPA',\n",
    "            'highSchoolGPA', \n",
    "            'majorsCount', 'minorsCount',\n",
    "            'PREV_TERM_CUM_GPA',\n",
    "            'available_flashcards', \n",
    "            'days_offset', \n",
    "            'prev_time_elapsed',\n",
    "             'time_lag']\n",
    "# z-score normalize the numerical features\n",
    "for f in NUMERIC_FEATURE:\n",
    "  m = dataframe[f].mean()\n",
    "  std = dataframe[f].std()\n",
    "  dataframe[f] = (dataframe[f] - m)/std"
   ]
  },
  {
   "cell_type": "code",
   "execution_count": 20,
   "metadata": {
    "execution": {
     "iopub.execute_input": "2021-07-31T20:01:34.036479Z",
     "iopub.status.busy": "2021-07-31T20:01:34.035028Z",
     "iopub.status.idle": "2021-07-31T20:01:37.562909Z",
     "shell.execute_reply": "2021-07-31T20:01:37.563491Z",
     "shell.execute_reply.started": "2021-07-31T19:57:18.145937Z"
    },
    "id": "wo2OH-d5kWp1",
    "papermill": {
     "duration": 3.607263,
     "end_time": "2021-07-31T20:01:37.563734",
     "exception": false,
     "start_time": "2021-07-31T20:01:33.956471",
     "status": "completed"
    },
    "tags": []
   },
   "outputs": [],
   "source": [
    "FEATURE_TRANS =  ['answer_correct', 'chapter_label', 'sub_chapter_label','question_name','user_id','term',\n",
    "                  'STDNT_SEX_CD', \n",
    "                    'White','Asian','NonWhiteOrAsian',\n",
    "            'STDNT_CTZN_STAT_CD', 'international', \n",
    "            'age',\n",
    "            'exclClassCumGPA',\n",
    "           'Freshman',\n",
    "            'Junior',\n",
    "            'Sophomore',\n",
    "            'Senior',\n",
    "            'termCreditsGPA',\n",
    "            'termCreditsNoGPA',\n",
    "            'athlete_1',\n",
    "            'honorsPro',\n",
    "            'LSA', 'programBusiness', 'programEngineering', \n",
    "            'programInformation', 'programOther',\n",
    "            'HSCalculusTaken', \n",
    "            'highSchoolGPA', \n",
    "            'majorsCount', 'minorsCount',\n",
    "            'PREV_TERM_CUM_GPA',\n",
    "            'classGraded', 'classHonors', \n",
    "            'Pass_Fail', \n",
    "            'parentsGraduateEdu',  'minorityGroup', \n",
    "            'available_flashcards', \n",
    "            'days_offset', 'prev_time_elapsed',\n",
    "             'time_lag']\n",
    "grouped_data = dataframe[FEATURE_TRANS].groupby(['user_id']).apply(lambda r: (\n",
    "                r['answer_correct'],\n",
    "                r['term'],\n",
    "                r['chapter_label'],\n",
    "                r['sub_chapter_label'],\n",
    "                r['question_name'],\n",
    "                np.array([r['STDNT_SEX_CD'],r['STDNT_CTZN_STAT_CD'], r['international'], \n",
    "                  r['White'],r['Asian'],r['NonWhiteOrAsian'],\n",
    "                 r['age'],r['exclClassCumGPA'],\n",
    "                r['Freshman'], r['Junior'], r['Sophomore'], r['Senior'],\n",
    "                r['termCreditsGPA'], r['termCreditsNoGPA'],\n",
    "                r['athlete_1'], r['honorsPro'],\n",
    "                r['LSA'], r['programBusiness'], r['programEngineering'], \n",
    "                r['programInformation'], r['programOther'],\n",
    "                r['HSCalculusTaken'],  r['highSchoolGPA'], \n",
    "                r['majorsCount'], r['minorsCount'],\n",
    "                r['PREV_TERM_CUM_GPA'], \n",
    "                r['parentsGraduateEdu'], r['minorityGroup'],\n",
    "                r['available_flashcards'],\n",
    "                r['days_offset'],\n",
    "                r['prev_time_elapsed'],\n",
    "                r['time_lag']\n",
    "              ]).transpose()\n",
    "                ))"
   ]
  },
  {
   "cell_type": "code",
   "execution_count": 21,
   "metadata": {
    "execution": {
     "iopub.execute_input": "2021-07-31T20:01:37.870411Z",
     "iopub.status.busy": "2021-07-31T20:01:37.868925Z",
     "iopub.status.idle": "2021-07-31T20:01:37.873122Z",
     "shell.execute_reply": "2021-07-31T20:01:37.873539Z",
     "shell.execute_reply.started": "2021-07-31T19:57:21.451937Z"
    },
    "id": "XXLqQnjrlp_4",
    "outputId": "c801da79-f0bf-4fe5-b19c-7c799fe01556",
    "papermill": {
     "duration": 0.242399,
     "end_time": "2021-07-31T20:01:37.873751",
     "exception": false,
     "start_time": "2021-07-31T20:01:37.631352",
     "status": "completed"
    },
    "tags": []
   },
   "outputs": [
    {
     "data": {
      "text/plain": [
       "20"
      ]
     },
     "execution_count": 21,
     "metadata": {},
     "output_type": "execute_result"
    }
   ],
   "source": [
    "gc.collect()"
   ]
  },
  {
   "cell_type": "code",
   "execution_count": 22,
   "metadata": {
    "execution": {
     "iopub.execute_input": "2021-07-31T20:01:38.028908Z",
     "iopub.status.busy": "2021-07-31T20:01:38.028132Z",
     "iopub.status.idle": "2021-07-31T20:01:38.046112Z",
     "shell.execute_reply": "2021-07-31T20:01:38.045710Z",
     "shell.execute_reply.started": "2021-07-31T19:57:21.654387Z"
    },
    "id": "QYGQasdTrmP0",
    "papermill": {
     "duration": 0.104394,
     "end_time": "2021-07-31T20:01:38.046241",
     "exception": false,
     "start_time": "2021-07-31T20:01:37.941847",
     "status": "completed"
    },
    "tags": []
   },
   "outputs": [],
   "source": [
    "# remove students who don't have make any interactions with the tool\n",
    "toRemove = []\n",
    "for index in grouped_data.index:\n",
    "  if len(grouped_data[index][0]) <= 10:\n",
    "    toRemove.append(index)\n",
    "grouped_data = grouped_data.drop(index=toRemove)"
   ]
  },
  {
   "cell_type": "code",
   "execution_count": 23,
   "metadata": {
    "execution": {
     "iopub.execute_input": "2021-07-31T20:01:38.182564Z",
     "iopub.status.busy": "2021-07-31T20:01:38.181703Z",
     "iopub.status.idle": "2021-07-31T20:01:38.195330Z",
     "shell.execute_reply": "2021-07-31T20:01:38.194889Z",
     "shell.execute_reply.started": "2021-07-31T19:57:21.695006Z"
    },
    "papermill": {
     "duration": 0.084261,
     "end_time": "2021-07-31T20:01:38.195469",
     "exception": false,
     "start_time": "2021-07-31T20:01:38.111208",
     "status": "completed"
    },
    "tags": []
   },
   "outputs": [
    {
     "data": {
      "text/plain": [
       "count    1110.000000\n",
       "mean      550.263063\n",
       "std       201.281353\n",
       "min         2.000000\n",
       "25%       438.250000\n",
       "50%       520.500000\n",
       "75%       637.750000\n",
       "max      1500.000000\n",
       "Name: start_practice, dtype: float64"
      ]
     },
     "execution_count": 23,
     "metadata": {},
     "output_type": "execute_result"
    }
   ],
   "source": [
    "dataframe.groupby('user_id')['start_practice'].agg('count').describe()"
   ]
  },
  {
   "cell_type": "code",
   "execution_count": 24,
   "metadata": {
    "execution": {
     "iopub.execute_input": "2021-07-31T20:01:38.333625Z",
     "iopub.status.busy": "2021-07-31T20:01:38.332931Z",
     "iopub.status.idle": "2021-07-31T20:01:38.336503Z",
     "shell.execute_reply": "2021-07-31T20:01:38.335993Z",
     "shell.execute_reply.started": "2021-07-31T19:57:21.712514Z"
    },
    "papermill": {
     "duration": 0.074353,
     "end_time": "2021-07-31T20:01:38.336631",
     "exception": false,
     "start_time": "2021-07-31T20:01:38.262278",
     "status": "completed"
    },
    "tags": []
   },
   "outputs": [
    {
     "data": {
      "text/plain": [
       "['FA 2018:252', 'WN 2018:295']"
      ]
     },
     "execution_count": 24,
     "metadata": {},
     "output_type": "execute_result"
    }
   ],
   "source": [
    "toRemove"
   ]
  },
  {
   "cell_type": "code",
   "execution_count": 25,
   "metadata": {
    "execution": {
     "iopub.execute_input": "2021-07-31T20:01:38.475395Z",
     "iopub.status.busy": "2021-07-31T20:01:38.474575Z",
     "iopub.status.idle": "2021-07-31T20:01:38.477455Z",
     "shell.execute_reply": "2021-07-31T20:01:38.476953Z",
     "shell.execute_reply.started": "2021-07-31T19:57:21.720573Z"
    },
    "id": "9kZqV9siDyNb",
    "papermill": {
     "duration": 0.073603,
     "end_time": "2021-07-31T20:01:38.477588",
     "exception": false,
     "start_time": "2021-07-31T20:01:38.403985",
     "status": "completed"
    },
    "tags": []
   },
   "outputs": [],
   "source": [
    "#SETTINGS -> can be modified at any time\n",
    "MAXLENGTH = 400\n",
    "EMBEDDING_DIM = 128\n",
    "DENSE_NEURON = 16\n",
    "GRU_NEURON = 32"
   ]
  },
  {
   "cell_type": "code",
   "execution_count": 26,
   "metadata": {
    "execution": {
     "iopub.execute_input": "2021-07-31T20:01:38.617263Z",
     "iopub.status.busy": "2021-07-31T20:01:38.616269Z",
     "iopub.status.idle": "2021-07-31T20:01:38.618675Z",
     "shell.execute_reply": "2021-07-31T20:01:38.619108Z",
     "shell.execute_reply.started": "2021-07-31T19:57:21.729726Z"
    },
    "id": "1MksD1JizpPn",
    "papermill": {
     "duration": 0.07395,
     "end_time": "2021-07-31T20:01:38.619276",
     "exception": false,
     "start_time": "2021-07-31T20:01:38.545326",
     "status": "completed"
    },
    "tags": []
   },
   "outputs": [],
   "source": [
    "#FEATURES_SIZE = 38\n",
    "CHAPTER_SIZE = 38\n",
    "SUB_CHAPTER_SIZE = 223\n",
    "QUESTION_SIZE = 1069"
   ]
  },
  {
   "cell_type": "code",
   "execution_count": 27,
   "metadata": {
    "execution": {
     "iopub.execute_input": "2021-07-31T20:01:38.758850Z",
     "iopub.status.busy": "2021-07-31T20:01:38.758085Z",
     "iopub.status.idle": "2021-07-31T20:01:38.767282Z",
     "shell.execute_reply": "2021-07-31T20:01:38.767813Z",
     "shell.execute_reply.started": "2021-07-31T19:57:21.739645Z"
    },
    "papermill": {
     "duration": 0.081234,
     "end_time": "2021-07-31T20:01:38.767958",
     "exception": false,
     "start_time": "2021-07-31T20:01:38.686724",
     "status": "completed"
    },
    "tags": []
   },
   "outputs": [
    {
     "data": {
      "text/plain": [
       "array([ 96,  86,  88,  28,  12,  82, 125,  32,  69,  33,  21, 115, 120,\n",
       "       119,  91,  73,  57,  77, 117,  40,  74,  41,  68,  39,  92,  47,\n",
       "       104,  95,  53,  49,  50,  16,  52,  55,   7,  15,  51, 102, 103,\n",
       "        11,  94, 108, 100,  17,  67,  63,  13, 139,  26,  25,   8, 107,\n",
       "         0,  90,  48,  54, 138,   1,   2,   3,  34,  35,  85,   5,  24,\n",
       "        37,  36,  78,  70,  45, 142,  71,  10,  89, 111, 112, 109, 116,\n",
       "        76,  72, 148, 134, 146, 221, 143,  56,  60,  61,  23, 140, 106,\n",
       "        42,  83,  22, 145, 136, 144,  38,   4,  19, 137,  75,  43,  98,\n",
       "        84, 113, 173, 174, 175, 176, 177, 178, 180, 181, 182, 187, 189,\n",
       "       190, 191, 192, 193, 195, 197, 151, 152, 153, 156, 157, 158, 159,\n",
       "       160, 161, 163, 164, 165, 166, 167, 168, 169, 170, 171, 172, 198,\n",
       "       199, 200, 201, 202, 203, 204, 205, 206, 207, 208, 209, 210, 162,\n",
       "       179, 186, 188, 194, 183, 184, 185, 211, 212, 213, 154, 155, 196,\n",
       "         6, 118,  18, 215,  46, 216, 141,  27, 217, 105, 123, 218, 101,\n",
       "       124, 219, 122, 220,  58,  59,  64,  20,  93,  65,  66,   9,  44,\n",
       "        30,  14,  79, 121,  31, 110, 129,  87,  97,  62, 149, 132, 131,\n",
       "       150, 130, 128,  99, 147, 127, 214, 135,  80, 126, 133,  81, 114,\n",
       "        29], dtype=int16)"
      ]
     },
     "execution_count": 27,
     "metadata": {},
     "output_type": "execute_result"
    }
   ],
   "source": [
    "dataframe['sub_chapter_label'].unique()"
   ]
  },
  {
   "cell_type": "code",
   "execution_count": 28,
   "metadata": {
    "execution": {
     "iopub.execute_input": "2021-07-31T20:01:38.927543Z",
     "iopub.status.busy": "2021-07-31T20:01:38.926795Z",
     "iopub.status.idle": "2021-07-31T20:01:39.945265Z",
     "shell.execute_reply": "2021-07-31T20:01:39.944761Z",
     "shell.execute_reply.started": "2021-07-31T19:57:21.756116Z"
    },
    "id": "mY3Thp6d0NaT",
    "papermill": {
     "duration": 1.104352,
     "end_time": "2021-07-31T20:01:39.945397",
     "exception": false,
     "start_time": "2021-07-31T20:01:38.841045",
     "status": "completed"
    },
    "tags": []
   },
   "outputs": [],
   "source": [
    "#create dataset class\n",
    "#to prepare it for train, valid, and test sets\n",
    "from torch.utils.data import Dataset, DataLoader\n",
    "class SPACE_DATASET(Dataset):\n",
    "    def __init__(self, data, maxlength = 600):\n",
    "        super(SPACE_DATASET, self).__init__()\n",
    "        self.maxlength = maxlength\n",
    "        self.data = data\n",
    "        self.users = list()\n",
    "        for user in data.index:\n",
    "            self.users.append(user)\n",
    "\n",
    "    def __len__(self):\n",
    "        return len(self.users)\n",
    "    \n",
    "    def __getitem__(self, ix):\n",
    "        user = self.users[ix]\n",
    "        user = user\n",
    "        target, term, ch_label, sub_ch_label, ques_name, features = self.data[user]\n",
    "        \n",
    "        #0s should be used as padding values\n",
    "        ori_target = target.values \n",
    "        term = term.values\n",
    "        ch_label = ch_label.values + 1\n",
    "        sub_ch_label = sub_ch_label.values +1\n",
    "        ques_name = ques_name.values + 1\n",
    "        \n",
    "        n = len(ch_label)\n",
    "\n",
    "        # one hot for term\n",
    "        term_encode = [0]*7\n",
    "        term_encode[term[0]] = 1\n",
    "        shifted_target= []\n",
    "\n",
    "        \n",
    "        # get  user interaction informations in the previous MAXLEN interactions\n",
    "        if n > self.maxlength:\n",
    "          ch_label = ch_label[-self.maxlength:]\n",
    "          sub_ch_label = sub_ch_label[-self.maxlength:]\n",
    "          ques_name = ques_name[-self.maxlength:]\n",
    "          features = features[-self.maxlength:]\n",
    "          target = ori_target[-self.maxlength:]\n",
    "          shifted_target = ori_target[ (-self.maxlength - 1) :-1]\n",
    "        else:\n",
    "          ch_label = [0]*(self.maxlength - n)+list(ch_label[:])\n",
    "          sub_ch_label = [0]*(self.maxlength - n)+list(sub_ch_label[:])\n",
    "          ques_name = [0]*(self.maxlength - n)+list(ques_name[:])\n",
    "          features = [[0]*len(features[0])]*(self.maxlength  - n)+list(features[:])\n",
    "          target = [-1]*(self.maxlength - n) + list(ori_target[:])\n",
    "          shifted_target = [-1]*(self.maxlength + 1 - n) + list(ori_target[:-1])\n",
    "\n",
    "        new_features = []\n",
    "        count = 0\n",
    "        for f in features:\n",
    "          temp = list(f)\n",
    "          temp.extend(term_encode)\n",
    "          # temp.append(shifted_target[count]) #uncomment this line for include previous response feature\n",
    "          new_features.append(temp)\n",
    "          count += 1\n",
    "        features = new_features\n",
    "        return ch_label,sub_ch_label,ques_name,target"
   ]
  },
  {
   "cell_type": "code",
   "execution_count": 29,
   "metadata": {
    "execution": {
     "iopub.execute_input": "2021-07-31T20:01:40.086228Z",
     "iopub.status.busy": "2021-07-31T20:01:40.085621Z",
     "iopub.status.idle": "2021-07-31T20:01:40.091764Z",
     "shell.execute_reply": "2021-07-31T20:01:40.091245Z",
     "shell.execute_reply.started": "2021-07-31T19:57:21.771230Z"
    },
    "papermill": {
     "duration": 0.078568,
     "end_time": "2021-07-31T20:01:40.091893",
     "exception": false,
     "start_time": "2021-07-31T20:01:40.013325",
     "status": "completed"
    },
    "tags": []
   },
   "outputs": [
    {
     "data": {
      "text/plain": [
       "223"
      ]
     },
     "execution_count": 29,
     "metadata": {},
     "output_type": "execute_result"
    }
   ],
   "source": [
    "SUB_CHAPTER_SIZE"
   ]
  },
  {
   "cell_type": "code",
   "execution_count": 30,
   "metadata": {
    "execution": {
     "iopub.execute_input": "2021-07-31T20:01:40.393521Z",
     "iopub.status.busy": "2021-07-31T20:01:40.385621Z",
     "iopub.status.idle": "2021-07-31T20:03:05.204785Z",
     "shell.execute_reply": "2021-07-31T20:03:05.204198Z",
     "shell.execute_reply.started": "2021-07-31T19:57:21.787086Z"
    },
    "id": "gzJrljnjzypP",
    "outputId": "87abe488-b493-4f8f-9d71-45cb1d2ddf51",
    "papermill": {
     "duration": 84.909422,
     "end_time": "2021-07-31T20:03:05.204947",
     "exception": false,
     "start_time": "2021-07-31T20:01:40.295525",
     "status": "completed"
    },
    "tags": []
   },
   "outputs": [
    {
     "name": "stdout",
     "output_type": "stream",
     "text": [
      "Epoch 1/100\n",
      "14/14 [==============================] - 4s 92ms/step - loss: 0.5900 - masked_acc: 0.6180 - masked_auc: 0.6031 - val_loss: 0.5023 - val_masked_acc: 0.7318 - val_masked_auc: 0.6984\n",
      "Epoch 2/100\n",
      "14/14 [==============================] - 0s 26ms/step - loss: 0.4586 - masked_acc: 0.7400 - masked_auc: 0.7189 - val_loss: 0.4814 - val_masked_acc: 0.7498 - val_masked_auc: 0.7517\n",
      "Epoch 3/100\n",
      "14/14 [==============================] - 0s 26ms/step - loss: 0.4441 - masked_acc: 0.7522 - masked_auc: 0.7593 - val_loss: 0.4781 - val_masked_acc: 0.7560 - val_masked_auc: 0.7715\n",
      "Epoch 4/100\n",
      "14/14 [==============================] - 0s 25ms/step - loss: 0.4405 - masked_acc: 0.7574 - masked_auc: 0.7752 - val_loss: 0.4772 - val_masked_acc: 0.7594 - val_masked_auc: 0.7813\n",
      "Epoch 5/100\n",
      "14/14 [==============================] - 0s 25ms/step - loss: 0.4395 - masked_acc: 0.7599 - masked_auc: 0.7829 - val_loss: 0.4765 - val_masked_acc: 0.7614 - val_masked_auc: 0.7873\n",
      "Epoch 6/100\n",
      "14/14 [==============================] - 0s 25ms/step - loss: 0.4424 - masked_acc: 0.7617 - masked_auc: 0.7887 - val_loss: 0.4794 - val_masked_acc: 0.7627 - val_masked_auc: 0.7913\n",
      "Epoch 7/100\n",
      "14/14 [==============================] - 0s 25ms/step - loss: 0.4428 - masked_acc: 0.7631 - masked_auc: 0.7923 - val_loss: 0.4757 - val_masked_acc: 0.7637 - val_masked_auc: 0.7941\n",
      "Epoch 8/100\n",
      "14/14 [==============================] - 0s 26ms/step - loss: 0.4403 - masked_acc: 0.7640 - masked_auc: 0.7949 - val_loss: 0.4771 - val_masked_acc: 0.7644 - val_masked_auc: 0.7963\n",
      "Epoch 9/100\n",
      "14/14 [==============================] - 0s 25ms/step - loss: 0.4446 - masked_acc: 0.7646 - masked_auc: 0.7970 - val_loss: 0.4776 - val_masked_acc: 0.7650 - val_masked_auc: 0.7979\n",
      "Epoch 10/100\n",
      "14/14 [==============================] - 0s 31ms/step - loss: 0.4442 - masked_acc: 0.7650 - masked_auc: 0.7984 - val_loss: 0.4749 - val_masked_acc: 0.7653 - val_masked_auc: 0.7992\n",
      "Epoch 11/100\n",
      "14/14 [==============================] - 0s 33ms/step - loss: 0.4423 - masked_acc: 0.7654 - masked_auc: 0.7996 - val_loss: 0.4760 - val_masked_acc: 0.7657 - val_masked_auc: 0.8002\n",
      "Epoch 12/100\n",
      "14/14 [==============================] - 0s 27ms/step - loss: 0.4393 - masked_acc: 0.7659 - masked_auc: 0.8005 - val_loss: 0.4754 - val_masked_acc: 0.7660 - val_masked_auc: 0.8012\n",
      "Epoch 13/100\n",
      "14/14 [==============================] - 0s 25ms/step - loss: 0.4436 - masked_acc: 0.7661 - masked_auc: 0.8013 - val_loss: 0.4758 - val_masked_acc: 0.7663 - val_masked_auc: 0.8019\n",
      "Epoch 14/100\n",
      "14/14 [==============================] - 0s 25ms/step - loss: 0.4409 - masked_acc: 0.7664 - masked_auc: 0.8021 - val_loss: 0.4767 - val_masked_acc: 0.7666 - val_masked_auc: 0.8026\n",
      "Epoch 15/100\n",
      "14/14 [==============================] - 0s 26ms/step - loss: 0.4443 - masked_acc: 0.7666 - masked_auc: 0.8028 - val_loss: 0.4774 - val_masked_acc: 0.7668 - val_masked_auc: 0.8032\n",
      "Epoch 16/100\n",
      "14/14 [==============================] - 0s 25ms/step - loss: 0.4373 - masked_acc: 0.7669 - masked_auc: 0.8034 - val_loss: 0.4755 - val_masked_acc: 0.7670 - val_masked_auc: 0.8037\n",
      "Epoch 17/100\n",
      "14/14 [==============================] - 0s 26ms/step - loss: 0.4426 - masked_acc: 0.7670 - masked_auc: 0.8039 - val_loss: 0.4761 - val_masked_acc: 0.7671 - val_masked_auc: 0.8041\n",
      "Epoch 18/100\n",
      "14/14 [==============================] - 0s 27ms/step - loss: 0.4401 - masked_acc: 0.7672 - masked_auc: 0.8043 - val_loss: 0.4781 - val_masked_acc: 0.7672 - val_masked_auc: 0.8045\n",
      "Epoch 19/100\n",
      "14/14 [==============================] - 0s 26ms/step - loss: 0.4366 - masked_acc: 0.7673 - masked_auc: 0.8047 - val_loss: 0.4758 - val_masked_acc: 0.7674 - val_masked_auc: 0.8049\n",
      "Epoch 20/100\n",
      "14/14 [==============================] - 0s 26ms/step - loss: 0.4384 - masked_acc: 0.7675 - masked_auc: 0.8051 - val_loss: 0.4769 - val_masked_acc: 0.7675 - val_masked_auc: 0.8052\n",
      "28/28 [==============================] - 0s 8ms/step - loss: 0.4430 - masked_acc: 0.7678 - masked_auc: 0.8055\n",
      "4/4 [==============================] - 0s 9ms/step - loss: 0.4250 - masked_acc: 0.7678 - masked_auc: 0.8055\n",
      "Test:  [0.42501476407051086, 0.7677512764930725, 0.8055039644241333]\n",
      "Epoch 1/100\n",
      "14/14 [==============================] - 2s 80ms/step - loss: 0.5878 - masked_acc: 0.6304 - masked_auc: 0.6190 - val_loss: 0.4935 - val_masked_acc: 0.7377 - val_masked_auc: 0.7088\n",
      "Epoch 2/100\n",
      "14/14 [==============================] - 0s 26ms/step - loss: 0.4548 - masked_acc: 0.7445 - masked_auc: 0.7249 - val_loss: 0.4729 - val_masked_acc: 0.7537 - val_masked_auc: 0.7539\n",
      "Epoch 3/100\n",
      "14/14 [==============================] - 0s 28ms/step - loss: 0.4460 - masked_acc: 0.7555 - masked_auc: 0.7618 - val_loss: 0.4698 - val_masked_acc: 0.7590 - val_masked_auc: 0.7726\n",
      "Epoch 4/100\n",
      "14/14 [==============================] - 1s 37ms/step - loss: 0.4413 - masked_acc: 0.7600 - masked_auc: 0.7758 - val_loss: 0.4672 - val_masked_acc: 0.7622 - val_masked_auc: 0.7819\n",
      "Epoch 5/100\n",
      "14/14 [==============================] - 0s 27ms/step - loss: 0.4483 - masked_acc: 0.7623 - masked_auc: 0.7840 - val_loss: 0.4683 - val_masked_acc: 0.7640 - val_masked_auc: 0.7877\n",
      "Epoch 6/100\n",
      "14/14 [==============================] - 0s 26ms/step - loss: 0.4463 - masked_acc: 0.7641 - masked_auc: 0.7890 - val_loss: 0.4675 - val_masked_acc: 0.7652 - val_masked_auc: 0.7916\n",
      "Epoch 7/100\n",
      "14/14 [==============================] - 0s 26ms/step - loss: 0.4328 - masked_acc: 0.7656 - masked_auc: 0.7927 - val_loss: 0.4671 - val_masked_acc: 0.7661 - val_masked_auc: 0.7943\n",
      "Epoch 8/100\n",
      "14/14 [==============================] - 0s 26ms/step - loss: 0.4438 - masked_acc: 0.7662 - masked_auc: 0.7949 - val_loss: 0.4673 - val_masked_acc: 0.7668 - val_masked_auc: 0.7964\n",
      "Epoch 9/100\n",
      "14/14 [==============================] - 0s 25ms/step - loss: 0.4442 - masked_acc: 0.7667 - masked_auc: 0.7967 - val_loss: 0.4676 - val_masked_acc: 0.7674 - val_masked_auc: 0.7980\n",
      "Epoch 10/100\n",
      "14/14 [==============================] - 0s 25ms/step - loss: 0.4400 - masked_acc: 0.7674 - masked_auc: 0.7985 - val_loss: 0.4669 - val_masked_acc: 0.7677 - val_masked_auc: 0.7993\n",
      "Epoch 11/100\n",
      "14/14 [==============================] - 0s 30ms/step - loss: 0.4435 - masked_acc: 0.7678 - masked_auc: 0.7995 - val_loss: 0.4667 - val_masked_acc: 0.7681 - val_masked_auc: 0.8003\n",
      "Epoch 12/100\n",
      "14/14 [==============================] - 0s 25ms/step - loss: 0.4445 - masked_acc: 0.7681 - masked_auc: 0.8005 - val_loss: 0.4674 - val_masked_acc: 0.7684 - val_masked_auc: 0.8012\n",
      "Epoch 13/100\n",
      "14/14 [==============================] - 0s 24ms/step - loss: 0.4437 - masked_acc: 0.7683 - masked_auc: 0.8014 - val_loss: 0.4666 - val_masked_acc: 0.7686 - val_masked_auc: 0.8019\n",
      "Epoch 14/100\n",
      "14/14 [==============================] - 0s 25ms/step - loss: 0.4456 - masked_acc: 0.7686 - masked_auc: 0.8021 - val_loss: 0.4678 - val_masked_acc: 0.7688 - val_masked_auc: 0.8026\n",
      "Epoch 15/100\n",
      "14/14 [==============================] - 0s 25ms/step - loss: 0.4475 - masked_acc: 0.7688 - masked_auc: 0.8027 - val_loss: 0.4666 - val_masked_acc: 0.7690 - val_masked_auc: 0.8031\n",
      "Epoch 16/100\n",
      "14/14 [==============================] - 0s 25ms/step - loss: 0.4401 - masked_acc: 0.7691 - masked_auc: 0.8033 - val_loss: 0.4672 - val_masked_acc: 0.7692 - val_masked_auc: 0.8036\n",
      "Epoch 17/100\n",
      "14/14 [==============================] - 0s 25ms/step - loss: 0.4389 - masked_acc: 0.7692 - masked_auc: 0.8037 - val_loss: 0.4662 - val_masked_acc: 0.7693 - val_masked_auc: 0.8040\n",
      "Epoch 18/100\n",
      "14/14 [==============================] - 0s 25ms/step - loss: 0.4437 - masked_acc: 0.7693 - masked_auc: 0.8042 - val_loss: 0.4675 - val_masked_acc: 0.7695 - val_masked_auc: 0.8044\n",
      "Epoch 19/100\n",
      "14/14 [==============================] - 0s 25ms/step - loss: 0.4459 - masked_acc: 0.7694 - masked_auc: 0.8045 - val_loss: 0.4675 - val_masked_acc: 0.7696 - val_masked_auc: 0.8048\n",
      "Epoch 20/100\n",
      "14/14 [==============================] - 0s 25ms/step - loss: 0.4444 - masked_acc: 0.7695 - masked_auc: 0.8048 - val_loss: 0.4672 - val_masked_acc: 0.7697 - val_masked_auc: 0.8050\n",
      "Epoch 21/100\n",
      "14/14 [==============================] - 0s 26ms/step - loss: 0.4478 - masked_acc: 0.7696 - masked_auc: 0.8051 - val_loss: 0.4671 - val_masked_acc: 0.7698 - val_masked_auc: 0.8053\n",
      "Epoch 22/100\n",
      "14/14 [==============================] - 0s 25ms/step - loss: 0.4390 - masked_acc: 0.7698 - masked_auc: 0.8054 - val_loss: 0.4675 - val_masked_acc: 0.7699 - val_masked_auc: 0.8056\n",
      "Epoch 23/100\n",
      "14/14 [==============================] - 0s 25ms/step - loss: 0.4382 - masked_acc: 0.7699 - masked_auc: 0.8057 - val_loss: 0.4662 - val_masked_acc: 0.7700 - val_masked_auc: 0.8058\n",
      "Epoch 24/100\n",
      "14/14 [==============================] - 0s 24ms/step - loss: 0.4497 - masked_acc: 0.7699 - masked_auc: 0.8058 - val_loss: 0.4681 - val_masked_acc: 0.7700 - val_masked_auc: 0.8060\n",
      "Epoch 25/100\n",
      "14/14 [==============================] - 0s 25ms/step - loss: 0.4391 - masked_acc: 0.7700 - masked_auc: 0.8061 - val_loss: 0.4666 - val_masked_acc: 0.7701 - val_masked_auc: 0.8062\n",
      "Epoch 26/100\n",
      "14/14 [==============================] - 0s 25ms/step - loss: 0.4441 - masked_acc: 0.7700 - masked_auc: 0.8062 - val_loss: 0.4669 - val_masked_acc: 0.7701 - val_masked_auc: 0.8064\n",
      "Epoch 27/100\n",
      "14/14 [==============================] - 0s 25ms/step - loss: 0.4481 - masked_acc: 0.7701 - masked_auc: 0.8064 - val_loss: 0.4685 - val_masked_acc: 0.7702 - val_masked_auc: 0.8066\n",
      "Epoch 28/100\n",
      "14/14 [==============================] - 0s 25ms/step - loss: 0.4394 - masked_acc: 0.7702 - masked_auc: 0.8066 - val_loss: 0.4669 - val_masked_acc: 0.7702 - val_masked_auc: 0.8067\n",
      "Epoch 29/100\n",
      "14/14 [==============================] - 0s 26ms/step - loss: 0.4350 - masked_acc: 0.7702 - masked_auc: 0.8068 - val_loss: 0.4672 - val_masked_acc: 0.7703 - val_masked_auc: 0.8069\n",
      "Epoch 30/100\n",
      "14/14 [==============================] - 0s 25ms/step - loss: 0.4457 - masked_acc: 0.7702 - masked_auc: 0.8069 - val_loss: 0.4669 - val_masked_acc: 0.7703 - val_masked_auc: 0.8070\n",
      "Epoch 31/100\n",
      "14/14 [==============================] - 0s 26ms/step - loss: 0.4483 - masked_acc: 0.7703 - masked_auc: 0.8070 - val_loss: 0.4674 - val_masked_acc: 0.7704 - val_masked_auc: 0.8071\n",
      "Epoch 32/100\n",
      "14/14 [==============================] - 0s 27ms/step - loss: 0.4377 - masked_acc: 0.7703 - masked_auc: 0.8072 - val_loss: 0.4670 - val_masked_acc: 0.7704 - val_masked_auc: 0.8072\n",
      "Epoch 33/100\n",
      "14/14 [==============================] - 0s 26ms/step - loss: 0.4455 - masked_acc: 0.7704 - masked_auc: 0.8072 - val_loss: 0.4672 - val_masked_acc: 0.7705 - val_masked_auc: 0.8074\n",
      "28/28 [==============================] - 0s 13ms/step - loss: 0.4413 - masked_acc: 0.7706 - masked_auc: 0.8075\n",
      "4/4 [==============================] - 0s 13ms/step - loss: 0.4486 - masked_acc: 0.7705 - masked_auc: 0.8075\n",
      "Test:  [0.44861656427383423, 0.7705448269844055, 0.8075225353240967]\n",
      "Epoch 1/100\n",
      "14/14 [==============================] - 2s 63ms/step - loss: 0.5885 - masked_acc: 0.6292 - masked_auc: 0.6066 - val_loss: 0.4668 - val_masked_acc: 0.7354 - val_masked_auc: 0.7086\n",
      "Epoch 2/100\n",
      "14/14 [==============================] - 0s 26ms/step - loss: 0.4765 - masked_acc: 0.7402 - masked_auc: 0.7247 - val_loss: 0.4539 - val_masked_acc: 0.7517 - val_masked_auc: 0.7542\n",
      "Epoch 3/100\n",
      "14/14 [==============================] - 0s 26ms/step - loss: 0.4480 - masked_acc: 0.7535 - masked_auc: 0.7616 - val_loss: 0.4503 - val_masked_acc: 0.7574 - val_masked_auc: 0.7721\n",
      "Epoch 4/100\n",
      "14/14 [==============================] - 0s 26ms/step - loss: 0.4483 - masked_acc: 0.7583 - masked_auc: 0.7756 - val_loss: 0.4482 - val_masked_acc: 0.7606 - val_masked_auc: 0.7816\n",
      "Epoch 5/100\n",
      "14/14 [==============================] - 0s 26ms/step - loss: 0.4467 - masked_acc: 0.7609 - masked_auc: 0.7835 - val_loss: 0.4487 - val_masked_acc: 0.7625 - val_masked_auc: 0.7873\n",
      "Epoch 6/100\n",
      "14/14 [==============================] - 0s 25ms/step - loss: 0.4506 - masked_acc: 0.7626 - masked_auc: 0.7885 - val_loss: 0.4479 - val_masked_acc: 0.7639 - val_masked_auc: 0.7911\n",
      "Epoch 7/100\n",
      "14/14 [==============================] - 0s 26ms/step - loss: 0.4449 - masked_acc: 0.7641 - masked_auc: 0.7919 - val_loss: 0.4486 - val_masked_acc: 0.7648 - val_masked_auc: 0.7938\n",
      "Epoch 8/100\n",
      "14/14 [==============================] - 0s 25ms/step - loss: 0.4466 - masked_acc: 0.7649 - masked_auc: 0.7944 - val_loss: 0.4482 - val_masked_acc: 0.7655 - val_masked_auc: 0.7959\n",
      "Epoch 9/100\n",
      "14/14 [==============================] - 0s 25ms/step - loss: 0.4502 - masked_acc: 0.7655 - masked_auc: 0.7962 - val_loss: 0.4481 - val_masked_acc: 0.7660 - val_masked_auc: 0.7974\n",
      "Epoch 10/100\n",
      "14/14 [==============================] - 0s 26ms/step - loss: 0.4478 - masked_acc: 0.7660 - masked_auc: 0.7978 - val_loss: 0.4481 - val_masked_acc: 0.7664 - val_masked_auc: 0.7987\n",
      "Epoch 11/100\n",
      "14/14 [==============================] - 0s 26ms/step - loss: 0.4476 - masked_acc: 0.7664 - masked_auc: 0.7989 - val_loss: 0.4482 - val_masked_acc: 0.7667 - val_masked_auc: 0.7997\n",
      "Epoch 12/100\n",
      "14/14 [==============================] - 0s 25ms/step - loss: 0.4463 - masked_acc: 0.7667 - masked_auc: 0.7999 - val_loss: 0.4483 - val_masked_acc: 0.7671 - val_masked_auc: 0.8005\n",
      "Epoch 13/100\n",
      "14/14 [==============================] - 0s 26ms/step - loss: 0.4470 - masked_acc: 0.7671 - masked_auc: 0.8007 - val_loss: 0.4484 - val_masked_acc: 0.7673 - val_masked_auc: 0.8012\n",
      "Epoch 14/100\n",
      "14/14 [==============================] - 1s 37ms/step - loss: 0.4540 - masked_acc: 0.7672 - masked_auc: 0.8013 - val_loss: 0.4480 - val_masked_acc: 0.7676 - val_masked_auc: 0.8018\n",
      "Epoch 15/100\n",
      "14/14 [==============================] - 0s 33ms/step - loss: 0.4486 - masked_acc: 0.7675 - masked_auc: 0.8020 - val_loss: 0.4481 - val_masked_acc: 0.7677 - val_masked_auc: 0.8024\n",
      "Epoch 16/100\n",
      "14/14 [==============================] - 0s 25ms/step - loss: 0.4486 - masked_acc: 0.7677 - masked_auc: 0.8025 - val_loss: 0.4486 - val_masked_acc: 0.7679 - val_masked_auc: 0.8028\n",
      "28/28 [==============================] - 0s 8ms/step - loss: 0.4464 - masked_acc: 0.7682 - masked_auc: 0.8032\n",
      "4/4 [==============================] - 0s 8ms/step - loss: 0.4287 - masked_acc: 0.7680 - masked_auc: 0.8034\n",
      "Test:  [0.42868831753730774, 0.7680346965789795, 0.8033524751663208]\n",
      "Epoch 1/100\n",
      "14/14 [==============================] - 2s 65ms/step - loss: 0.5912 - masked_acc: 0.6387 - masked_auc: 0.5935 - val_loss: 0.4628 - val_masked_acc: 0.7370 - val_masked_auc: 0.7032\n",
      "Epoch 2/100\n",
      "14/14 [==============================] - 0s 26ms/step - loss: 0.4712 - masked_acc: 0.7428 - masked_auc: 0.7208 - val_loss: 0.4398 - val_masked_acc: 0.7538 - val_masked_auc: 0.7527\n",
      "Epoch 3/100\n",
      "14/14 [==============================] - 0s 26ms/step - loss: 0.4512 - masked_acc: 0.7554 - masked_auc: 0.7599 - val_loss: 0.4374 - val_masked_acc: 0.7597 - val_masked_auc: 0.7722\n",
      "Epoch 4/100\n",
      "14/14 [==============================] - 1s 41ms/step - loss: 0.4445 - masked_acc: 0.7607 - masked_auc: 0.7756 - val_loss: 0.4364 - val_masked_acc: 0.7626 - val_masked_auc: 0.7817\n",
      "Epoch 5/100\n",
      "14/14 [==============================] - 1s 37ms/step - loss: 0.4486 - masked_acc: 0.7632 - masked_auc: 0.7839 - val_loss: 0.4357 - val_masked_acc: 0.7644 - val_masked_auc: 0.7878\n",
      "Epoch 6/100\n",
      "14/14 [==============================] - 0s 29ms/step - loss: 0.4540 - masked_acc: 0.7644 - masked_auc: 0.7889 - val_loss: 0.4360 - val_masked_acc: 0.7657 - val_masked_auc: 0.7918\n",
      "Epoch 7/100\n",
      "14/14 [==============================] - 0s 25ms/step - loss: 0.4471 - masked_acc: 0.7659 - masked_auc: 0.7927 - val_loss: 0.4361 - val_masked_acc: 0.7666 - val_masked_auc: 0.7946\n",
      "Epoch 8/100\n",
      "14/14 [==============================] - 0s 26ms/step - loss: 0.4471 - masked_acc: 0.7667 - masked_auc: 0.7952 - val_loss: 0.4358 - val_masked_acc: 0.7673 - val_masked_auc: 0.7966\n",
      "Epoch 9/100\n",
      "14/14 [==============================] - 0s 25ms/step - loss: 0.4491 - masked_acc: 0.7673 - masked_auc: 0.7972 - val_loss: 0.4360 - val_masked_acc: 0.7678 - val_masked_auc: 0.7983\n",
      "Epoch 10/100\n",
      "14/14 [==============================] - 0s 25ms/step - loss: 0.4522 - masked_acc: 0.7677 - masked_auc: 0.7986 - val_loss: 0.4362 - val_masked_acc: 0.7682 - val_masked_auc: 0.7996\n",
      "Epoch 11/100\n",
      "14/14 [==============================] - 1s 43ms/step - loss: 0.4456 - masked_acc: 0.7683 - masked_auc: 0.7999 - val_loss: 0.4355 - val_masked_acc: 0.7686 - val_masked_auc: 0.8007\n",
      "Epoch 12/100\n",
      "14/14 [==============================] - 1s 37ms/step - loss: 0.4464 - masked_acc: 0.7686 - masked_auc: 0.8009 - val_loss: 0.4357 - val_masked_acc: 0.7688 - val_masked_auc: 0.8016\n",
      "Epoch 13/100\n",
      "14/14 [==============================] - 0s 25ms/step - loss: 0.4460 - masked_acc: 0.7689 - masked_auc: 0.8018 - val_loss: 0.4356 - val_masked_acc: 0.7691 - val_masked_auc: 0.8023\n",
      "Epoch 14/100\n",
      "14/14 [==============================] - 0s 24ms/step - loss: 0.4492 - masked_acc: 0.7690 - masked_auc: 0.8026 - val_loss: 0.4356 - val_masked_acc: 0.7693 - val_masked_auc: 0.8030\n",
      "Epoch 15/100\n",
      "14/14 [==============================] - 0s 25ms/step - loss: 0.4460 - masked_acc: 0.7693 - masked_auc: 0.8031 - val_loss: 0.4358 - val_masked_acc: 0.7695 - val_masked_auc: 0.8035\n",
      "Epoch 16/100\n",
      "14/14 [==============================] - 0s 25ms/step - loss: 0.4471 - masked_acc: 0.7695 - masked_auc: 0.8037 - val_loss: 0.4354 - val_masked_acc: 0.7697 - val_masked_auc: 0.8040\n",
      "Epoch 17/100\n",
      "14/14 [==============================] - 0s 24ms/step - loss: 0.4457 - masked_acc: 0.7697 - masked_auc: 0.8042 - val_loss: 0.4356 - val_masked_acc: 0.7698 - val_masked_auc: 0.8045\n",
      "Epoch 18/100\n",
      "14/14 [==============================] - 0s 24ms/step - loss: 0.4498 - masked_acc: 0.7698 - masked_auc: 0.8046 - val_loss: 0.4367 - val_masked_acc: 0.7699 - val_masked_auc: 0.8048\n",
      "Epoch 19/100\n",
      "14/14 [==============================] - 0s 24ms/step - loss: 0.4479 - masked_acc: 0.7699 - masked_auc: 0.8049 - val_loss: 0.4358 - val_masked_acc: 0.7700 - val_masked_auc: 0.8052\n",
      "Epoch 20/100\n",
      "14/14 [==============================] - 0s 25ms/step - loss: 0.4508 - masked_acc: 0.7700 - masked_auc: 0.8052 - val_loss: 0.4353 - val_masked_acc: 0.7701 - val_masked_auc: 0.8055\n",
      "Epoch 21/100\n",
      "14/14 [==============================] - 0s 24ms/step - loss: 0.4460 - masked_acc: 0.7702 - masked_auc: 0.8056 - val_loss: 0.4362 - val_masked_acc: 0.7702 - val_masked_auc: 0.8057\n",
      "Epoch 22/100\n",
      "14/14 [==============================] - 0s 25ms/step - loss: 0.4480 - masked_acc: 0.7702 - masked_auc: 0.8058 - val_loss: 0.4353 - val_masked_acc: 0.7703 - val_masked_auc: 0.8060\n",
      "Epoch 23/100\n",
      "14/14 [==============================] - 0s 25ms/step - loss: 0.4470 - masked_acc: 0.7703 - masked_auc: 0.8061 - val_loss: 0.4355 - val_masked_acc: 0.7704 - val_masked_auc: 0.8062\n",
      "Epoch 24/100\n",
      "14/14 [==============================] - 0s 26ms/step - loss: 0.4426 - masked_acc: 0.7704 - masked_auc: 0.8063 - val_loss: 0.4355 - val_masked_acc: 0.7705 - val_masked_auc: 0.8065\n",
      "Epoch 25/100\n",
      "14/14 [==============================] - 0s 25ms/step - loss: 0.4420 - masked_acc: 0.7705 - masked_auc: 0.8066 - val_loss: 0.4360 - val_masked_acc: 0.7705 - val_masked_auc: 0.8067\n",
      "Epoch 26/100\n",
      "14/14 [==============================] - 0s 25ms/step - loss: 0.4454 - masked_acc: 0.7705 - masked_auc: 0.8067 - val_loss: 0.4351 - val_masked_acc: 0.7706 - val_masked_auc: 0.8068\n",
      "Epoch 27/100\n",
      "14/14 [==============================] - 0s 26ms/step - loss: 0.4499 - masked_acc: 0.7706 - masked_auc: 0.8069 - val_loss: 0.4361 - val_masked_acc: 0.7706 - val_masked_auc: 0.8070\n",
      "Epoch 28/100\n",
      "14/14 [==============================] - 0s 24ms/step - loss: 0.4526 - masked_acc: 0.7706 - masked_auc: 0.8070 - val_loss: 0.4357 - val_masked_acc: 0.7707 - val_masked_auc: 0.8072\n",
      "Epoch 29/100\n",
      "14/14 [==============================] - 0s 24ms/step - loss: 0.4417 - masked_acc: 0.7707 - masked_auc: 0.8072 - val_loss: 0.4353 - val_masked_acc: 0.7708 - val_masked_auc: 0.8073\n",
      "Epoch 30/100\n",
      "14/14 [==============================] - 0s 25ms/step - loss: 0.4442 - masked_acc: 0.7707 - masked_auc: 0.8074 - val_loss: 0.4368 - val_masked_acc: 0.7708 - val_masked_auc: 0.8075\n",
      "Epoch 31/100\n",
      "14/14 [==============================] - 0s 24ms/step - loss: 0.4426 - masked_acc: 0.7708 - masked_auc: 0.8075 - val_loss: 0.4355 - val_masked_acc: 0.7708 - val_masked_auc: 0.8076\n",
      "Epoch 32/100\n",
      "14/14 [==============================] - 0s 25ms/step - loss: 0.4390 - masked_acc: 0.7709 - masked_auc: 0.8077 - val_loss: 0.4356 - val_masked_acc: 0.7709 - val_masked_auc: 0.8077\n",
      "Epoch 33/100\n",
      "14/14 [==============================] - 0s 25ms/step - loss: 0.4480 - masked_acc: 0.7708 - masked_auc: 0.8077 - val_loss: 0.4363 - val_masked_acc: 0.7709 - val_masked_auc: 0.8078\n",
      "Epoch 34/100\n",
      "14/14 [==============================] - 0s 25ms/step - loss: 0.4463 - masked_acc: 0.7709 - masked_auc: 0.8078 - val_loss: 0.4352 - val_masked_acc: 0.7709 - val_masked_auc: 0.8079\n",
      "Epoch 35/100\n",
      "14/14 [==============================] - 0s 26ms/step - loss: 0.4481 - masked_acc: 0.7709 - masked_auc: 0.8079 - val_loss: 0.4359 - val_masked_acc: 0.7710 - val_masked_auc: 0.8080\n",
      "Epoch 36/100\n",
      "14/14 [==============================] - 0s 25ms/step - loss: 0.4496 - masked_acc: 0.7709 - masked_auc: 0.8080 - val_loss: 0.4356 - val_masked_acc: 0.7710 - val_masked_auc: 0.8081\n",
      "28/28 [==============================] - 0s 7ms/step - loss: 0.4457 - masked_acc: 0.7712 - masked_auc: 0.8083\n",
      "4/4 [==============================] - 0s 8ms/step - loss: 0.4442 - masked_acc: 0.7711 - masked_auc: 0.8082\n",
      "Test:  [0.4441712200641632, 0.7710511088371277, 0.8082475066184998]\n",
      "Epoch 1/100\n",
      "14/14 [==============================] - 2s 63ms/step - loss: 0.5846 - masked_acc: 0.6612 - masked_auc: 0.6301 - val_loss: 0.4705 - val_masked_acc: 0.7454 - val_masked_auc: 0.7144\n",
      "Epoch 2/100\n",
      "14/14 [==============================] - 0s 25ms/step - loss: 0.4577 - masked_acc: 0.7506 - masked_auc: 0.7301 - val_loss: 0.4526 - val_masked_acc: 0.7584 - val_masked_auc: 0.7578\n",
      "Epoch 3/100\n",
      "14/14 [==============================] - 0s 24ms/step - loss: 0.4442 - masked_acc: 0.7596 - masked_auc: 0.7650 - val_loss: 0.4492 - val_masked_acc: 0.7627 - val_masked_auc: 0.7758\n",
      "Epoch 4/100\n",
      "14/14 [==============================] - 0s 24ms/step - loss: 0.4478 - masked_acc: 0.7629 - masked_auc: 0.7785 - val_loss: 0.4501 - val_masked_acc: 0.7650 - val_masked_auc: 0.7847\n",
      "Epoch 5/100\n",
      "14/14 [==============================] - 0s 24ms/step - loss: 0.4468 - masked_acc: 0.7651 - masked_auc: 0.7864 - val_loss: 0.4487 - val_masked_acc: 0.7665 - val_masked_auc: 0.7903\n",
      "Epoch 6/100\n",
      "14/14 [==============================] - 0s 25ms/step - loss: 0.4388 - masked_acc: 0.7669 - masked_auc: 0.7917 - val_loss: 0.4489 - val_masked_acc: 0.7675 - val_masked_auc: 0.7939\n",
      "Epoch 7/100\n",
      "14/14 [==============================] - 0s 24ms/step - loss: 0.4419 - masked_acc: 0.7675 - masked_auc: 0.7947 - val_loss: 0.4493 - val_masked_acc: 0.7681 - val_masked_auc: 0.7965\n",
      "Epoch 8/100\n",
      "14/14 [==============================] - 0s 24ms/step - loss: 0.4388 - masked_acc: 0.7683 - masked_auc: 0.7971 - val_loss: 0.4491 - val_masked_acc: 0.7686 - val_masked_auc: 0.7984\n",
      "Epoch 9/100\n",
      "14/14 [==============================] - 0s 25ms/step - loss: 0.4395 - masked_acc: 0.7688 - masked_auc: 0.7990 - val_loss: 0.4494 - val_masked_acc: 0.7691 - val_masked_auc: 0.7999\n",
      "Epoch 10/100\n",
      "14/14 [==============================] - 0s 24ms/step - loss: 0.4442 - masked_acc: 0.7690 - masked_auc: 0.8003 - val_loss: 0.4496 - val_masked_acc: 0.7694 - val_masked_auc: 0.8012\n",
      "Epoch 11/100\n",
      "14/14 [==============================] - 0s 24ms/step - loss: 0.4423 - masked_acc: 0.7693 - masked_auc: 0.8014 - val_loss: 0.4486 - val_masked_acc: 0.7697 - val_masked_auc: 0.8022\n",
      "Epoch 12/100\n",
      "14/14 [==============================] - 0s 24ms/step - loss: 0.4433 - masked_acc: 0.7696 - masked_auc: 0.8023 - val_loss: 0.4496 - val_masked_acc: 0.7699 - val_masked_auc: 0.8030\n",
      "Epoch 13/100\n",
      "14/14 [==============================] - 0s 25ms/step - loss: 0.4467 - masked_acc: 0.7698 - masked_auc: 0.8031 - val_loss: 0.4488 - val_masked_acc: 0.7700 - val_masked_auc: 0.8037\n",
      "Epoch 14/100\n",
      "14/14 [==============================] - 0s 24ms/step - loss: 0.4433 - masked_acc: 0.7700 - masked_auc: 0.8038 - val_loss: 0.4492 - val_masked_acc: 0.7702 - val_masked_auc: 0.8043\n",
      "Epoch 15/100\n",
      "14/14 [==============================] - 0s 25ms/step - loss: 0.4470 - masked_acc: 0.7701 - masked_auc: 0.8044 - val_loss: 0.4493 - val_masked_acc: 0.7703 - val_masked_auc: 0.8048\n",
      "Epoch 16/100\n",
      "14/14 [==============================] - 0s 25ms/step - loss: 0.4396 - masked_acc: 0.7703 - masked_auc: 0.8048 - val_loss: 0.4488 - val_masked_acc: 0.7704 - val_masked_auc: 0.8052\n",
      "Epoch 17/100\n",
      "14/14 [==============================] - 0s 25ms/step - loss: 0.4524 - masked_acc: 0.7703 - masked_auc: 0.8053 - val_loss: 0.4484 - val_masked_acc: 0.7705 - val_masked_auc: 0.8057\n",
      "Epoch 18/100\n",
      "14/14 [==============================] - 0s 24ms/step - loss: 0.4398 - masked_acc: 0.7705 - masked_auc: 0.8058 - val_loss: 0.4495 - val_masked_acc: 0.7707 - val_masked_auc: 0.8060\n",
      "Epoch 19/100\n",
      "14/14 [==============================] - 0s 24ms/step - loss: 0.4396 - masked_acc: 0.7707 - masked_auc: 0.8061 - val_loss: 0.4498 - val_masked_acc: 0.7707 - val_masked_auc: 0.8063\n",
      "Epoch 20/100\n",
      "14/14 [==============================] - 0s 25ms/step - loss: 0.4442 - masked_acc: 0.7707 - masked_auc: 0.8064 - val_loss: 0.4494 - val_masked_acc: 0.7708 - val_masked_auc: 0.8066\n",
      "Epoch 21/100\n",
      "14/14 [==============================] - 0s 29ms/step - loss: 0.4457 - masked_acc: 0.7708 - masked_auc: 0.8066 - val_loss: 0.4485 - val_masked_acc: 0.7709 - val_masked_auc: 0.8069\n",
      "Epoch 22/100\n",
      "14/14 [==============================] - 0s 34ms/step - loss: 0.4399 - masked_acc: 0.7709 - masked_auc: 0.8070 - val_loss: 0.4490 - val_masked_acc: 0.7710 - val_masked_auc: 0.8071\n",
      "Epoch 23/100\n",
      "14/14 [==============================] - 0s 24ms/step - loss: 0.4435 - masked_acc: 0.7709 - masked_auc: 0.8072 - val_loss: 0.4497 - val_masked_acc: 0.7710 - val_masked_auc: 0.8073\n",
      "Epoch 24/100\n",
      "14/14 [==============================] - 0s 25ms/step - loss: 0.4426 - masked_acc: 0.7710 - masked_auc: 0.8074 - val_loss: 0.4488 - val_masked_acc: 0.7711 - val_masked_auc: 0.8075\n",
      "Epoch 25/100\n",
      "14/14 [==============================] - 0s 25ms/step - loss: 0.4482 - masked_acc: 0.7710 - masked_auc: 0.8076 - val_loss: 0.4495 - val_masked_acc: 0.7711 - val_masked_auc: 0.8077\n",
      "Epoch 26/100\n",
      "14/14 [==============================] - 0s 25ms/step - loss: 0.4454 - masked_acc: 0.7711 - masked_auc: 0.8077 - val_loss: 0.4494 - val_masked_acc: 0.7711 - val_masked_auc: 0.8079\n",
      "Epoch 27/100\n",
      "14/14 [==============================] - 0s 25ms/step - loss: 0.4466 - masked_acc: 0.7711 - masked_auc: 0.8079 - val_loss: 0.4488 - val_masked_acc: 0.7712 - val_masked_auc: 0.8080\n",
      "28/28 [==============================] - 0s 7ms/step - loss: 0.4435 - masked_acc: 0.7714 - masked_auc: 0.8082\n",
      "4/4 [==============================] - 0s 8ms/step - loss: 0.4509 - masked_acc: 0.7712 - masked_auc: 0.8082\n",
      "Test:  [0.4509460926055908, 0.7711912393569946, 0.8081737756729126]\n"
     ]
    }
   ],
   "source": [
    "# 5 fold cross validation\n",
    "#HERE WE ONLY USE chapter\n",
    "#sub_chapter and question\n",
    "#without additional features\n",
    "import torch\n",
    "X = np.array(grouped_data.keys())\n",
    "kfold = KFold(n_splits=5, shuffle=True)\n",
    "train_losses = list()\n",
    "train_aucs = list()\n",
    "val_losses = list()\n",
    "val_aucs = list()\n",
    "train_eval = list()\n",
    "test_eval = list()\n",
    "for train, test in kfold.split(X):\n",
    "    users_train, users_test =  X[train], X[test]\n",
    "    n = len(users_test)//2\n",
    "    users_test, users_val = users_test[:n], users_test[n: ]\n",
    "    train_data_space = SPACE_DATASET(grouped_data[users_train], MAXLENGTH)\n",
    "    val_data_space = SPACE_DATASET(grouped_data[users_val], MAXLENGTH)\n",
    "    test_data_space = SPACE_DATASET(grouped_data[users_test], MAXLENGTH)\n",
    "    #construct training input\n",
    "    train_chapter=[]\n",
    "    train_sub_chapter=[]\n",
    "    train_question = []\n",
    "    train_features=[]\n",
    "    train_labels=[]\n",
    "    for i in range(len(users_train)):\n",
    "        user = train_data_space.__getitem__(i)\n",
    "        train_chapter.append(user[0])\n",
    "        train_sub_chapter.append(user[1]) \n",
    "        train_question.append(user[2])\n",
    "        #train_features.append(user[3])\n",
    "        train_labels.append(user[3])\n",
    "    train_chapter = np.array(train_chapter)\n",
    "    train_sub_chapter = np.array(train_sub_chapter)\n",
    "    train_question = np.array(train_question)\n",
    "    #train_features = np.array(train_features)\n",
    "    train_labels= np.array(train_labels)[..., np.newaxis]\n",
    "\n",
    "    #construct validation input\n",
    "    val_chapter=[]\n",
    "    val_sub_chapter=[]\n",
    "    val_question = []\n",
    "    #val_features=[]\n",
    "    val_labels=[]\n",
    "    for i in range(len(users_val)):\n",
    "        user = val_data_space.__getitem__(i)\n",
    "        val_chapter.append(user[0])\n",
    "        val_sub_chapter.append(user[1]) \n",
    "        val_question.append(user[2])\n",
    "        #val_features.append(user[3])\n",
    "        val_labels.append(user[3])\n",
    "    val_chapter = np.array(val_chapter)\n",
    "    val_sub_chapter = np.array(val_sub_chapter)\n",
    "    #val_features = np.array(val_features)\n",
    "    val_question = np.array(val_question)\n",
    "    val_labels= np.array(val_labels)[..., np.newaxis]\n",
    "\n",
    "    # construct test input\n",
    "    test_chapter=[]\n",
    "    test_sub_chapter=[]\n",
    "    #test_features=[]\n",
    "    test_question=[]\n",
    "    test_labels=[]\n",
    "    for i in range(len(users_test)):\n",
    "        user = test_data_space.__getitem__(i)\n",
    "        test_chapter.append(user[0])\n",
    "        test_sub_chapter.append(user[1]) \n",
    "        test_question.append(user[2])\n",
    "        #test_features.append(user[3])\n",
    "        test_labels.append(user[3])\n",
    "    test_chapter = np.array(test_chapter)\n",
    "    test_sub_chapter = np.array(test_sub_chapter)\n",
    "    #test_features = np.array(test_features)\n",
    "    test_question = np.array(test_question)\n",
    "    test_labels= np.array(test_labels)[..., np.newaxis]\n",
    "\n",
    "    # define loss function and evaluation metrics\n",
    "    bce = tf.keras.losses.BinaryCrossentropy(from_logits=True)\n",
    "    acc = tf.keras.metrics.Accuracy()\n",
    "    auc = tf.keras.metrics.AUC()\n",
    "\n",
    "    def masked_bce(y_true, y_pred):\n",
    "      flat_pred = y_pred\n",
    "      flat_ground_truth = y_true\n",
    "      label_mask = tf.math.not_equal(flat_ground_truth, -1)\n",
    "      return bce(flat_ground_truth, flat_pred, sample_weight=label_mask)\n",
    "\n",
    "    def masked_acc(y_true, y_pred):\n",
    "      flat_pred = y_pred\n",
    "      flat_ground_truth = y_true\n",
    "      flat_pred = (flat_pred >= 0.5)\n",
    "      label_mask = tf.math.not_equal(flat_ground_truth, -1)\n",
    "      return acc(flat_ground_truth, flat_pred, sample_weight=label_mask)\n",
    "\n",
    "    def masked_auc(y_true, y_pred):\n",
    "      flat_pred = y_pred\n",
    "      flat_ground_truth = y_true\n",
    "      label_mask = tf.math.not_equal(flat_ground_truth, -1)\n",
    "      return auc(flat_ground_truth, flat_pred, sample_weight=label_mask)\n",
    "\n",
    "    # input layer\n",
    "    input_chap = tf.keras.Input(shape=(MAXLENGTH))\n",
    "    input_sub_chap = tf.keras.Input(shape=(MAXLENGTH))\n",
    "    input_ques =  tf.keras.Input(shape=(MAXLENGTH))\n",
    "    #input_features = tf.keras.Input(shape=(MAXLENGTH, FEATURES_SIZE))\n",
    "\n",
    "    # embedding layer for categorical features\n",
    "    embedding_chap = Embedding(input_dim = CHAPTER_SIZE, output_dim = EMBEDDING_DIM)(input_chap)\n",
    "    embedding_sub_chap = Embedding(input_dim = SUB_CHAPTER_SIZE, output_dim = EMBEDDING_DIM)(input_sub_chap) \n",
    "    embedding_ques = Embedding(input_dim = QUESTION_SIZE, output_dim = EMBEDDING_DIM)(input_ques)       \n",
    "\n",
    "    # dense layer for numeric features\n",
    "    #dense_features = Dense(EMBEDDING_DIM,input_shape = (None, MAXLENGTH))(input_features)\n",
    "\n",
    "    gru_output = tf.concat([embedding_chap, embedding_sub_chap, embedding_ques], axis = 2)\n",
    "\n",
    "    pred = Dense(1, input_shape = (None, 3*EMBEDDING_DIM), activation='sigmoid')(gru_output)\n",
    "\n",
    "    model = tf.keras.Model(\n",
    "        inputs=[input_chap, input_sub_chap,input_ques],\n",
    "        outputs=pred,\n",
    "        name='logistic_regression'\n",
    "    )\n",
    "\n",
    "    callback = tf.keras.callbacks.EarlyStopping(monitor='val_loss', patience=10)\n",
    "    opt_adam = Adam(learning_rate = 0.005)\n",
    "    model.compile(\n",
    "        optimizer=opt_adam,\n",
    "        loss= masked_bce,\n",
    "        metrics = [masked_acc, masked_auc]\n",
    "    )\n",
    "\n",
    "    history = model.fit(\n",
    "      [train_chapter, train_sub_chapter, train_question],\n",
    "      train_labels,\n",
    "      batch_size = 64,\n",
    "      epochs = 100,\n",
    "      validation_data=([val_chapter, val_sub_chapter, val_question], val_labels),\n",
    "      callbacks=[callback]\n",
    "    )\n",
    "    val_losses.append(list(history.history['val_loss']))\n",
    "    train_losses.append(list(history.history['loss']))\n",
    "    val_aucs.append(list(history.history['val_masked_auc']))\n",
    "    train_aucs.append(list(history.history['masked_auc']))\n",
    "    train_score = model.evaluate([train_chapter, train_sub_chapter, train_question], train_labels)\n",
    "    train_eval.append(train_score)\n",
    "    test_score = model.evaluate([test_chapter, test_sub_chapter, test_question], test_labels)\n",
    "    test_eval.append(test_score)\n",
    "    print(\"Test: \", test_score)\n",
    "    def reset_weights(model):\n",
    "      for layer in model.layers: \n",
    "        if isinstance(layer, tf.keras.Model):\n",
    "          reset_weights(layer)\n",
    "          continue\n",
    "        for k, initializer in layer.__dict__.items():\n",
    "          if \"initializer\" not in k:\n",
    "            continue\n",
    "          # find the corresponding variable\n",
    "          var = getattr(layer, k.replace(\"_initializer\", \"\"))\n",
    "          var.assign(initializer(var.shape, var.dtype))\n",
    "    reset_weights(model)"
   ]
  },
  {
   "cell_type": "code",
   "execution_count": 31,
   "metadata": {
    "execution": {
     "iopub.execute_input": "2021-07-31T20:03:05.790390Z",
     "iopub.status.busy": "2021-07-31T20:03:05.789609Z",
     "iopub.status.idle": "2021-07-31T20:03:05.794381Z",
     "shell.execute_reply": "2021-07-31T20:03:05.794961Z",
     "shell.execute_reply.started": "2021-07-31T19:58:39.526442Z"
    },
    "id": "QsVmumHMz3lx",
    "outputId": "4ff1e2fa-6abb-458e-c729-495b456f53e5",
    "papermill": {
     "duration": 0.302108,
     "end_time": "2021-07-31T20:03:05.795138",
     "exception": false,
     "start_time": "2021-07-31T20:03:05.493030",
     "status": "completed"
    },
    "tags": []
   },
   "outputs": [
    {
     "name": "stdout",
     "output_type": "stream",
     "text": [
      "test avg loss:  0.4394873917102814 +/- 0.010608098979032527\n",
      "test avg acc:  0.769714629650116 +/- 0.0015055039820867833\n",
      "test avg auc:  0.8065600514411926 +/- 0.0018858341095140257\n"
     ]
    }
   ],
   "source": [
    "t_eval = np.array(test_eval)\n",
    "print(\"test avg loss: \", np.mean(t_eval[:, 0]), \"+/-\" ,np.std(t_eval[:, 0]))\n",
    "print(\"test avg acc: \", np.mean(t_eval[:, 1]),  \"+/-\" ,np.std(t_eval[:, 1]))\n",
    "print(\"test avg auc: \", np.mean(t_eval[:, 2]), \"+/-\" ,np.std(t_eval[:, 2]))"
   ]
  },
  {
   "cell_type": "code",
   "execution_count": 32,
   "metadata": {
    "execution": {
     "iopub.execute_input": "2021-07-31T20:03:06.380271Z",
     "iopub.status.busy": "2021-07-31T20:03:06.379491Z",
     "iopub.status.idle": "2021-07-31T20:03:06.384373Z",
     "shell.execute_reply": "2021-07-31T20:03:06.383780Z",
     "shell.execute_reply.started": "2021-07-31T19:58:39.538262Z"
    },
    "id": "b9MM_CXWz5K6",
    "outputId": "4cf88e1d-3a74-4e7d-f92c-d01522e91757",
    "papermill": {
     "duration": 0.299916,
     "end_time": "2021-07-31T20:03:06.384523",
     "exception": false,
     "start_time": "2021-07-31T20:03:06.084607",
     "status": "completed"
    },
    "tags": []
   },
   "outputs": [
    {
     "name": "stdout",
     "output_type": "stream",
     "text": [
      "train avg loss:  0.4439885914325714 +/- 0.0018519128236010297\n",
      "train avg acc:  0.7698360323905945 +/- 0.001509569447880449\n",
      "train avg auc:  0.8065363883972168 +/- 0.0019437090045498233\n"
     ]
    }
   ],
   "source": [
    "t_eval = np.array(train_eval)\n",
    "print(\"train avg loss: \", np.mean(t_eval[:, 0]), \"+/-\" ,np.std(t_eval[:, 0]))\n",
    "print(\"train avg acc: \", np.mean(t_eval[:, 1]),  \"+/-\" ,np.std(t_eval[:, 1]))\n",
    "print(\"train avg auc: \", np.mean(t_eval[:, 2]), \"+/-\" ,np.std(t_eval[:, 2]))"
   ]
  }
 ],
 "metadata": {
  "kernelspec": {
   "display_name": "Python 3",
   "language": "python",
   "name": "python3"
  },
  "language_info": {
   "codemirror_mode": {
    "name": "ipython",
    "version": 3
   },
   "file_extension": ".py",
   "mimetype": "text/x-python",
   "name": "python",
   "nbconvert_exporter": "python",
   "pygments_lexer": "ipython3",
   "version": "3.8.5"
  },
  "papermill": {
   "default_parameters": {},
   "duration": 136.814849,
   "end_time": "2021-07-31T20:03:08.699242",
   "environment_variables": {},
   "exception": null,
   "input_path": "__notebook__.ipynb",
   "output_path": "__notebook__.ipynb",
   "parameters": {},
   "start_time": "2021-07-31T20:00:51.884393",
   "version": "2.3.3"
  }
 },
 "nbformat": 4,
 "nbformat_minor": 5
}
