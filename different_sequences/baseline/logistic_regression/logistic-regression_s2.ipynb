{
 "cells": [
  {
   "cell_type": "code",
   "execution_count": 1,
   "metadata": {
    "execution": {
     "iopub.execute_input": "2021-07-31T20:14:46.426912Z",
     "iopub.status.busy": "2021-07-31T20:14:46.426542Z",
     "iopub.status.idle": "2021-07-31T20:14:46.434511Z",
     "shell.execute_reply": "2021-07-31T20:14:46.433284Z",
     "shell.execute_reply.started": "2021-07-31T20:14:46.426881Z"
    },
    "id": "farifxiKU1aB"
   },
   "outputs": [],
   "source": [
    "import numpy as np\n",
    "import pandas as pd\n",
    "import warnings\n",
    "import gc\n",
    "import tensorflow as tf\n",
    "from tensorflow import keras\n",
    "\n",
    "import random\n",
    "from random import choice\n",
    "from tensorflow.keras.optimizers import Adam\n",
    "from tensorflow.keras.models import Sequential \n",
    "from tensorflow.keras.layers import Dense, GRU, Concatenate, Embedding, Flatten, Activation, Dropout\n",
    "from sklearn.model_selection import KFold\n",
    "from tensorflow.python.client import device_lib\n",
    "warnings.filterwarnings('ignore')\n",
    "import random"
   ]
  },
  {
   "cell_type": "code",
   "execution_count": 2,
   "metadata": {
    "execution": {
     "iopub.execute_input": "2021-07-31T20:14:46.436744Z",
     "iopub.status.busy": "2021-07-31T20:14:46.436302Z",
     "iopub.status.idle": "2021-07-31T20:14:46.447145Z",
     "shell.execute_reply": "2021-07-31T20:14:46.445978Z",
     "shell.execute_reply.started": "2021-07-31T20:14:46.436700Z"
    },
    "id": "QOson70GPOXb"
   },
   "outputs": [],
   "source": [
    "import gc"
   ]
  },
  {
   "cell_type": "markdown",
   "metadata": {
    "id": "BQsVybBH3VPw"
   },
   "source": [
    "## Data Preprocessing"
   ]
  },
  {
   "cell_type": "code",
   "execution_count": 3,
   "metadata": {
    "execution": {
     "iopub.execute_input": "2021-07-31T20:14:46.451109Z",
     "iopub.status.busy": "2021-07-31T20:14:46.450770Z",
     "iopub.status.idle": "2021-07-31T20:14:50.925624Z",
     "shell.execute_reply": "2021-07-31T20:14:50.924520Z",
     "shell.execute_reply.started": "2021-07-31T20:14:46.451074Z"
    },
    "id": "rwtTusGxrmAE",
    "outputId": "1430f3cf-038b-485e-b5c4-c1686b1f34fd"
   },
   "outputs": [
    {
     "data": {
      "text/html": [
       "<div>\n",
       "<style scoped>\n",
       "    .dataframe tbody tr th:only-of-type {\n",
       "        vertical-align: middle;\n",
       "    }\n",
       "\n",
       "    .dataframe tbody tr th {\n",
       "        vertical-align: top;\n",
       "    }\n",
       "\n",
       "    .dataframe thead th {\n",
       "        text-align: right;\n",
       "    }\n",
       "</style>\n",
       "<table border=\"1\" class=\"dataframe\">\n",
       "  <thead>\n",
       "    <tr style=\"text-align: right;\">\n",
       "      <th></th>\n",
       "      <th>Unnamed: 0</th>\n",
       "      <th>chapter_label</th>\n",
       "      <th>sub_chapter_label</th>\n",
       "      <th>question_name</th>\n",
       "      <th>user_id.x</th>\n",
       "      <th>term</th>\n",
       "      <th>STDNT_SEX_CD</th>\n",
       "      <th>NonNativeEnglish</th>\n",
       "      <th>White</th>\n",
       "      <th>Asian</th>\n",
       "      <th>...</th>\n",
       "      <th>classGraded</th>\n",
       "      <th>classHonors</th>\n",
       "      <th>Pass_Fail</th>\n",
       "      <th>parentsGraduateEdu</th>\n",
       "      <th>minorityGroup</th>\n",
       "      <th>q</th>\n",
       "      <th>day's_available_flashcards</th>\n",
       "      <th>start_practice</th>\n",
       "      <th>end_practice</th>\n",
       "      <th>days_offset</th>\n",
       "    </tr>\n",
       "  </thead>\n",
       "  <tbody>\n",
       "    <tr>\n",
       "      <th>0</th>\n",
       "      <td>1</td>\n",
       "      <td>Sort</td>\n",
       "      <td>intro-SortingwithSortandSorted</td>\n",
       "      <td>ee_sort_04</td>\n",
       "      <td>148</td>\n",
       "      <td>WN 2018</td>\n",
       "      <td>1</td>\n",
       "      <td>0</td>\n",
       "      <td>1</td>\n",
       "      <td>0</td>\n",
       "      <td>...</td>\n",
       "      <td>1</td>\n",
       "      <td>0</td>\n",
       "      <td>0</td>\n",
       "      <td>0</td>\n",
       "      <td>0</td>\n",
       "      <td>0</td>\n",
       "      <td>18</td>\n",
       "      <td>2018/3/4 20:00</td>\n",
       "      <td>2018/3/4 20:00</td>\n",
       "      <td>45</td>\n",
       "    </tr>\n",
       "    <tr>\n",
       "      <th>1</th>\n",
       "      <td>2</td>\n",
       "      <td>Functions</td>\n",
       "      <td>Returningavaluefromafunction</td>\n",
       "      <td>test_questionfunctions_2_3</td>\n",
       "      <td>148</td>\n",
       "      <td>WN 2018</td>\n",
       "      <td>1</td>\n",
       "      <td>0</td>\n",
       "      <td>1</td>\n",
       "      <td>0</td>\n",
       "      <td>...</td>\n",
       "      <td>1</td>\n",
       "      <td>0</td>\n",
       "      <td>0</td>\n",
       "      <td>0</td>\n",
       "      <td>0</td>\n",
       "      <td>4</td>\n",
       "      <td>16</td>\n",
       "      <td>2018/2/10 11:57</td>\n",
       "      <td>2018/2/10 11:58</td>\n",
       "      <td>23</td>\n",
       "    </tr>\n",
       "    <tr>\n",
       "      <th>2</th>\n",
       "      <td>3</td>\n",
       "      <td>RESTAPIs</td>\n",
       "      <td>functionswithrestapis</td>\n",
       "      <td>test_question_functions_rest_apis_1</td>\n",
       "      <td>148</td>\n",
       "      <td>WN 2018</td>\n",
       "      <td>1</td>\n",
       "      <td>0</td>\n",
       "      <td>1</td>\n",
       "      <td>0</td>\n",
       "      <td>...</td>\n",
       "      <td>1</td>\n",
       "      <td>0</td>\n",
       "      <td>0</td>\n",
       "      <td>0</td>\n",
       "      <td>0</td>\n",
       "      <td>1</td>\n",
       "      <td>2</td>\n",
       "      <td>2018/3/12 17:03</td>\n",
       "      <td>2018/3/12 17:04</td>\n",
       "      <td>53</td>\n",
       "    </tr>\n",
       "    <tr>\n",
       "      <th>3</th>\n",
       "      <td>4</td>\n",
       "      <td>SimplePythonData</td>\n",
       "      <td>FunctionCalls</td>\n",
       "      <td>exercise_functionCalls_1</td>\n",
       "      <td>148</td>\n",
       "      <td>WN 2018</td>\n",
       "      <td>1</td>\n",
       "      <td>0</td>\n",
       "      <td>1</td>\n",
       "      <td>0</td>\n",
       "      <td>...</td>\n",
       "      <td>1</td>\n",
       "      <td>0</td>\n",
       "      <td>0</td>\n",
       "      <td>0</td>\n",
       "      <td>0</td>\n",
       "      <td>0</td>\n",
       "      <td>10</td>\n",
       "      <td>2018/1/30 14:15</td>\n",
       "      <td>2018/1/30 14:15</td>\n",
       "      <td>12</td>\n",
       "    </tr>\n",
       "    <tr>\n",
       "      <th>4</th>\n",
       "      <td>5</td>\n",
       "      <td>DictionaryAccumulation</td>\n",
       "      <td>AccumulatingaMaximumValue</td>\n",
       "      <td>ps_04_07</td>\n",
       "      <td>148</td>\n",
       "      <td>WN 2018</td>\n",
       "      <td>1</td>\n",
       "      <td>0</td>\n",
       "      <td>1</td>\n",
       "      <td>0</td>\n",
       "      <td>...</td>\n",
       "      <td>1</td>\n",
       "      <td>0</td>\n",
       "      <td>0</td>\n",
       "      <td>0</td>\n",
       "      <td>0</td>\n",
       "      <td>0</td>\n",
       "      <td>23</td>\n",
       "      <td>2018/3/3 14:04</td>\n",
       "      <td>2018/3/3 14:04</td>\n",
       "      <td>44</td>\n",
       "    </tr>\n",
       "  </tbody>\n",
       "</table>\n",
       "<p>5 rows × 48 columns</p>\n",
       "</div>"
      ],
      "text/plain": [
       "   Unnamed: 0           chapter_label               sub_chapter_label  \\\n",
       "0           1                    Sort  intro-SortingwithSortandSorted   \n",
       "1           2               Functions    Returningavaluefromafunction   \n",
       "2           3                RESTAPIs           functionswithrestapis   \n",
       "3           4        SimplePythonData                   FunctionCalls   \n",
       "4           5  DictionaryAccumulation       AccumulatingaMaximumValue   \n",
       "\n",
       "                         question_name  user_id.x     term  STDNT_SEX_CD  \\\n",
       "0                           ee_sort_04        148  WN 2018             1   \n",
       "1           test_questionfunctions_2_3        148  WN 2018             1   \n",
       "2  test_question_functions_rest_apis_1        148  WN 2018             1   \n",
       "3             exercise_functionCalls_1        148  WN 2018             1   \n",
       "4                             ps_04_07        148  WN 2018             1   \n",
       "\n",
       "   NonNativeEnglish  White  Asian  ...  classGraded  classHonors  Pass_Fail  \\\n",
       "0                 0      1      0  ...            1            0          0   \n",
       "1                 0      1      0  ...            1            0          0   \n",
       "2                 0      1      0  ...            1            0          0   \n",
       "3                 0      1      0  ...            1            0          0   \n",
       "4                 0      1      0  ...            1            0          0   \n",
       "\n",
       "   parentsGraduateEdu  minorityGroup  q  day's_available_flashcards  \\\n",
       "0                   0              0  0                          18   \n",
       "1                   0              0  4                          16   \n",
       "2                   0              0  1                           2   \n",
       "3                   0              0  0                          10   \n",
       "4                   0              0  0                          23   \n",
       "\n",
       "    start_practice     end_practice  days_offset  \n",
       "0   2018/3/4 20:00   2018/3/4 20:00           45  \n",
       "1  2018/2/10 11:57  2018/2/10 11:58           23  \n",
       "2  2018/3/12 17:03  2018/3/12 17:04           53  \n",
       "3  2018/1/30 14:15  2018/1/30 14:15           12  \n",
       "4   2018/3/3 14:04   2018/3/3 14:04           44  \n",
       "\n",
       "[5 rows x 48 columns]"
      ]
     },
     "execution_count": 3,
     "metadata": {},
     "output_type": "execute_result"
    }
   ],
   "source": [
    "# load the data\n",
    "import pandas as pd\n",
    "dataframe = pd.read_csv('Practice_Log_Demographics.csv', low_memory=False)\n",
    "dataframe.head()"
   ]
  },
  {
   "cell_type": "code",
   "execution_count": 4,
   "metadata": {
    "execution": {
     "iopub.execute_input": "2021-07-31T20:14:50.927793Z",
     "iopub.status.busy": "2021-07-31T20:14:50.927443Z",
     "iopub.status.idle": "2021-07-31T20:14:52.266717Z",
     "shell.execute_reply": "2021-07-31T20:14:52.265694Z",
     "shell.execute_reply.started": "2021-07-31T20:14:50.927758Z"
    },
    "id": "OCbHnEp_Vir0"
   },
   "outputs": [],
   "source": [
    "#sort data based on timestamp\n",
    "dataframe = dataframe.sort_values(by=['start_practice'])"
   ]
  },
  {
   "cell_type": "code",
   "execution_count": 5,
   "metadata": {
    "execution": {
     "iopub.execute_input": "2021-07-31T20:14:52.270524Z",
     "iopub.status.busy": "2021-07-31T20:14:52.269931Z",
     "iopub.status.idle": "2021-07-31T20:14:52.277982Z",
     "shell.execute_reply": "2021-07-31T20:14:52.276710Z",
     "shell.execute_reply.started": "2021-07-31T20:14:52.270475Z"
    },
    "id": "0RvF7BvEr98o"
   },
   "outputs": [],
   "source": [
    "FEATURES = ['chapter_label', 'sub_chapter_label','question_name','user_id','term',\n",
    "            'STDNT_SEX_CD', \n",
    "            'NonNativeEnglish',\n",
    "            'White',\n",
    "            'Asian',\n",
    "            'WhiteOrAsian',\n",
    "            'Hispanic',\n",
    "            'AfricanAmerican',\n",
    "            'OtherEthnicities',\n",
    "            'NonWhiteOrAsian',\n",
    "            'STDNT_CTZN_STAT_CD', 'international', \n",
    "            'gradingType',\n",
    "            'birthYear',\n",
    "            'exclClassCumGPA',\n",
    "            'Freshman',\n",
    "            'Junior',\n",
    "            'Sophomore',\n",
    "            'Senior',\n",
    "            'termCreditsGPA',\n",
    "            'termCreditsNoGPA',\n",
    "            'athlete_1',\n",
    "            'honorsPro',\n",
    "            'LSA', 'programBusiness', 'programEngineering', \n",
    "            'programInformation', 'programOther',\n",
    "            'HSCalculusTaken', \n",
    "            'highSchoolGPA', \n",
    "            'majorsCount', 'minorsCount',\n",
    "            'PREV_TERM_CUM_GPA',\n",
    "            'classGraded', 'classHonors', \n",
    "            'Pass_Fail', \n",
    "            'parentsGraduateEdu',  'minorityGroup', \n",
    "            'q',\n",
    "            'available_flashcards', \n",
    "            'start_practice', \n",
    "            'end_practice',\n",
    "            'days_offset']"
   ]
  },
  {
   "cell_type": "code",
   "execution_count": 6,
   "metadata": {
    "execution": {
     "iopub.execute_input": "2021-07-31T20:14:52.280345Z",
     "iopub.status.busy": "2021-07-31T20:14:52.279938Z",
     "iopub.status.idle": "2021-07-31T20:14:52.781416Z",
     "shell.execute_reply": "2021-07-31T20:14:52.780400Z",
     "shell.execute_reply.started": "2021-07-31T20:14:52.280309Z"
    },
    "id": "Mn341X7lSztl"
   },
   "outputs": [],
   "source": [
    "dataframe['available_flashcards'] = dataframe[\"day's_available_flashcards\"][:]\n",
    "dataframe = dataframe.drop([\"day's_available_flashcards\"], axis=1)\n",
    "dataframe['user_id'] = dataframe[\"user_id.x\"][:]\n",
    "dataframe = dataframe.drop([\"user_id.x\"], axis=1)"
   ]
  },
  {
   "cell_type": "code",
   "execution_count": 7,
   "metadata": {
    "execution": {
     "iopub.execute_input": "2021-07-31T20:14:52.784786Z",
     "iopub.status.busy": "2021-07-31T20:14:52.784039Z",
     "iopub.status.idle": "2021-07-31T20:14:53.270210Z",
     "shell.execute_reply": "2021-07-31T20:14:53.269415Z",
     "shell.execute_reply.started": "2021-07-31T20:14:52.784741Z"
    },
    "id": "-_BRggOjbBjN",
    "outputId": "42bff7db-08dd-48dc-a73a-d048508053b7"
   },
   "outputs": [
    {
     "data": {
      "text/plain": [
       "20"
      ]
     },
     "execution_count": 7,
     "metadata": {},
     "output_type": "execute_result"
    }
   ],
   "source": [
    "gc.collect()"
   ]
  },
  {
   "cell_type": "code",
   "execution_count": 8,
   "metadata": {
    "execution": {
     "iopub.execute_input": "2021-07-31T20:14:53.273790Z",
     "iopub.status.busy": "2021-07-31T20:14:53.273531Z",
     "iopub.status.idle": "2021-07-31T20:14:53.591672Z",
     "shell.execute_reply": "2021-07-31T20:14:53.590690Z",
     "shell.execute_reply.started": "2021-07-31T20:14:53.273764Z"
    },
    "id": "lXM7MlonVeRL",
    "outputId": "d29ccec0-522f-4e3c-e0b2-39b2e1eaef74"
   },
   "outputs": [
    {
     "data": {
      "text/plain": [
       "20"
      ]
     },
     "execution_count": 8,
     "metadata": {},
     "output_type": "execute_result"
    }
   ],
   "source": [
    "dataframe = dataframe[FEATURES]\n",
    "gc.collect()"
   ]
  },
  {
   "cell_type": "code",
   "execution_count": 9,
   "metadata": {
    "execution": {
     "iopub.execute_input": "2021-07-31T20:14:53.593483Z",
     "iopub.status.busy": "2021-07-31T20:14:53.593131Z",
     "iopub.status.idle": "2021-07-31T20:14:54.330389Z",
     "shell.execute_reply": "2021-07-31T20:14:54.329442Z",
     "shell.execute_reply.started": "2021-07-31T20:14:53.593448Z"
    },
    "id": "2WAFv5z3A6fK",
    "outputId": "e27abf84-ec3c-4b88-e1fb-927d94b41898"
   },
   "outputs": [],
   "source": [
    "dataframe = dataframe.fillna(0)"
   ]
  },
  {
   "cell_type": "code",
   "execution_count": 10,
   "metadata": {
    "execution": {
     "iopub.execute_input": "2021-07-31T20:14:54.333864Z",
     "iopub.status.busy": "2021-07-31T20:14:54.333249Z",
     "iopub.status.idle": "2021-07-31T20:14:55.785236Z",
     "shell.execute_reply": "2021-07-31T20:14:55.784307Z",
     "shell.execute_reply.started": "2021-07-31T20:14:54.333823Z"
    },
    "id": "qRKqF_0IXZgj"
   },
   "outputs": [],
   "source": [
    "#label encode term, chapter_label, question_name, sub_chapter_label columns\n",
    "dataframe['term'] = dataframe['term'].astype('category')\n",
    "dataframe['user_id'] = dataframe['user_id'].astype(int)\n",
    "dataframe['user_id'] = dataframe['user_id'].astype(str)\n",
    "dataframe['user_id'] = dataframe['term'].str.cat(dataframe['user_id'], sep=':')\n",
    "dataframe['user_id'] = dataframe['user_id'].astype('category')\n",
    "dataframe['chapter_label'] = dataframe['chapter_label'].astype('category')\n",
    "dataframe['sub_chapter_label'] = dataframe['sub_chapter_label'].astype('category')\n",
    "dataframe['question_name'] = dataframe['question_name'].astype('category')\n"
   ]
  },
  {
   "cell_type": "code",
   "execution_count": 11,
   "metadata": {
    "execution": {
     "iopub.execute_input": "2021-07-31T20:14:55.788074Z",
     "iopub.status.busy": "2021-07-31T20:14:55.787443Z",
     "iopub.status.idle": "2021-07-31T20:14:56.561974Z",
     "shell.execute_reply": "2021-07-31T20:14:56.561126Z",
     "shell.execute_reply.started": "2021-07-31T20:14:55.788033Z"
    },
    "id": "eVl_067GWkDe"
   },
   "outputs": [],
   "source": [
    "#calculate time_lag and prev_time_elapsed\n",
    "dataframe['prev_time_elapsed'] = None\n",
    "dataframe['time_lag'] = None\n",
    "dataframe['time_lag'] = dataframe['time_lag'].astype(np.float)\n",
    "dataframe['prev_time_elapsed'] = dataframe['prev_time_elapsed'].astype(np.float)\n",
    "dataframe.start_practice = pd.to_datetime(dataframe.start_practice, format='%Y-%m-%d %H:%M:%S')\n",
    "dataframe.end_practice = pd.to_datetime(dataframe.end_practice, format='%Y-%m-%d %H:%M:%S')\n",
    "dataframe['dif'] = dataframe.end_practice - dataframe.start_practice\n",
    "dataframe['dif'] = dataframe['dif'] /np.timedelta64(1, 's')\n",
    "dataframe['answer_correct'] = np.where((dataframe['q']==5) & (dataframe['dif'] <= 60), 1, 0)"
   ]
  },
  {
   "cell_type": "code",
   "execution_count": 13,
   "metadata": {
    "execution": {
     "iopub.execute_input": "2021-07-31T20:15:14.584755Z",
     "iopub.status.busy": "2021-07-31T20:15:14.584404Z",
     "iopub.status.idle": "2021-07-31T20:15:14.656822Z",
     "shell.execute_reply": "2021-07-31T20:15:14.655972Z",
     "shell.execute_reply.started": "2021-07-31T20:15:14.584717Z"
    },
    "id": "8t8yZ0XvWwzz"
   },
   "outputs": [],
   "source": [
    "#drop column end_practice\n",
    "dataframe.drop(columns=['end_practice'], inplace=True)"
   ]
  },
  {
   "cell_type": "code",
   "execution_count": 14,
   "metadata": {
    "execution": {
     "iopub.execute_input": "2021-07-31T20:15:14.658724Z",
     "iopub.status.busy": "2021-07-31T20:15:14.658195Z",
     "iopub.status.idle": "2021-07-31T20:15:15.049453Z",
     "shell.execute_reply": "2021-07-31T20:15:15.048582Z",
     "shell.execute_reply.started": "2021-07-31T20:15:14.658685Z"
    },
    "id": "E42raRIrYYXz"
   },
   "outputs": [],
   "source": [
    "# calculate the age feature\n",
    "dataframe['term_value'] = [int(ele[3:]) for ele in dataframe['term']]\n",
    "dataframe['age'] = dataframe['term_value'] - dataframe['birthYear']"
   ]
  },
  {
   "cell_type": "code",
   "execution_count": 15,
   "metadata": {
    "execution": {
     "iopub.execute_input": "2021-07-31T20:15:15.051121Z",
     "iopub.status.busy": "2021-07-31T20:15:15.050734Z",
     "iopub.status.idle": "2021-07-31T20:15:15.236345Z",
     "shell.execute_reply": "2021-07-31T20:15:15.235364Z",
     "shell.execute_reply.started": "2021-07-31T20:15:15.051085Z"
    },
    "id": "pcMVQXueYnMh"
   },
   "outputs": [],
   "source": [
    "# drop term_value and birthYear column\n",
    "dataframe.drop(columns=['term_value', 'birthYear'], inplace=True)"
   ]
  },
  {
   "cell_type": "code",
   "execution_count": 16,
   "metadata": {
    "execution": {
     "iopub.execute_input": "2021-07-31T20:15:15.238191Z",
     "iopub.status.busy": "2021-07-31T20:15:15.237659Z",
     "iopub.status.idle": "2021-07-31T20:15:15.649934Z",
     "shell.execute_reply": "2021-07-31T20:15:15.648928Z",
     "shell.execute_reply.started": "2021-07-31T20:15:15.238141Z"
    },
    "id": "hjRF5szkcQE0"
   },
   "outputs": [],
   "source": [
    "# convert minors_count to int value\n",
    "new_minors_count = []\n",
    "for i in dataframe['minorsCount']:\n",
    "  if i == 0 or i == '0':\n",
    "    new_minors_count.append(0)\n",
    "  elif i == '1 Minor':\n",
    "    new_minors_count.append(1)\n",
    "  else:\n",
    "    new_minors_count.append(2)\n",
    "\n",
    "dataframe['minorsCount'] = new_minors_count"
   ]
  },
  {
   "cell_type": "code",
   "execution_count": 17,
   "metadata": {
    "execution": {
     "iopub.execute_input": "2021-07-31T20:15:15.651673Z",
     "iopub.status.busy": "2021-07-31T20:15:15.651318Z",
     "iopub.status.idle": "2021-07-31T20:15:15.666666Z",
     "shell.execute_reply": "2021-07-31T20:15:15.665872Z",
     "shell.execute_reply.started": "2021-07-31T20:15:15.651633Z"
    },
    "id": "9VdzvJSw0KUU",
    "outputId": "6393784f-234e-4935-9cee-cbcf56b5630a"
   },
   "outputs": [
    {
     "name": "stdout",
     "output_type": "stream",
     "text": [
      "we have  1110  users in total.\n"
     ]
    }
   ],
   "source": [
    "print(\"we have \", dataframe['user_id'].nunique(),\" users in total.\")"
   ]
  },
  {
   "cell_type": "code",
   "execution_count": 18,
   "metadata": {
    "execution": {
     "iopub.execute_input": "2021-07-31T20:15:15.668435Z",
     "iopub.status.busy": "2021-07-31T20:15:15.667923Z",
     "iopub.status.idle": "2021-07-31T20:15:15.677452Z",
     "shell.execute_reply": "2021-07-31T20:15:15.676636Z",
     "shell.execute_reply.started": "2021-07-31T20:15:15.668398Z"
    },
    "id": "hUaGk9L9g13t"
   },
   "outputs": [],
   "source": [
    "for category in ['term','chapter_label', 'sub_chapter_label', 'question_name']:\n",
    "  dataframe[category] =  dataframe[category].cat.codes"
   ]
  },
  {
   "cell_type": "code",
   "execution_count": 19,
   "metadata": {
    "execution": {
     "iopub.execute_input": "2021-07-31T20:15:15.679103Z",
     "iopub.status.busy": "2021-07-31T20:15:15.678720Z",
     "iopub.status.idle": "2021-07-31T20:15:15.927489Z",
     "shell.execute_reply": "2021-07-31T20:15:15.926466Z",
     "shell.execute_reply.started": "2021-07-31T20:15:15.679048Z"
    },
    "id": "hkyvcYvlhliG"
   },
   "outputs": [],
   "source": [
    "NUMERIC_FEATURE =  ['age',\n",
    "            'exclClassCumGPA',\n",
    "            'termCreditsGPA',\n",
    "            'termCreditsNoGPA',\n",
    "            'highSchoolGPA', \n",
    "            'majorsCount', 'minorsCount',\n",
    "            'PREV_TERM_CUM_GPA',\n",
    "            'available_flashcards', \n",
    "            'days_offset', \n",
    "            'prev_time_elapsed',\n",
    "             'time_lag']\n",
    "# z-score normalize the numerical features\n",
    "for f in NUMERIC_FEATURE:\n",
    "  m = dataframe[f].mean()\n",
    "  std = dataframe[f].std()\n",
    "  dataframe[f] = (dataframe[f] - m)/std"
   ]
  },
  {
   "cell_type": "code",
   "execution_count": 20,
   "metadata": {
    "execution": {
     "iopub.execute_input": "2021-07-31T20:15:15.929116Z",
     "iopub.status.busy": "2021-07-31T20:15:15.928783Z",
     "iopub.status.idle": "2021-07-31T20:15:19.240797Z",
     "shell.execute_reply": "2021-07-31T20:15:19.239877Z",
     "shell.execute_reply.started": "2021-07-31T20:15:15.929074Z"
    },
    "id": "wo2OH-d5kWp1"
   },
   "outputs": [],
   "source": [
    "FEATURE_TRANS =  ['answer_correct', 'chapter_label', 'sub_chapter_label','question_name','user_id','term',\n",
    "                  'STDNT_SEX_CD', \n",
    "                    'White','Asian','NonWhiteOrAsian',\n",
    "            'STDNT_CTZN_STAT_CD', 'international', \n",
    "            'age',\n",
    "            'exclClassCumGPA',\n",
    "           'Freshman',\n",
    "            'Junior',\n",
    "            'Sophomore',\n",
    "            'Senior',\n",
    "            'termCreditsGPA',\n",
    "            'termCreditsNoGPA',\n",
    "            'athlete_1',\n",
    "            'honorsPro',\n",
    "            'LSA', 'programBusiness', 'programEngineering', \n",
    "            'programInformation', 'programOther',\n",
    "            'HSCalculusTaken', \n",
    "            'highSchoolGPA', \n",
    "            'majorsCount', 'minorsCount',\n",
    "            'PREV_TERM_CUM_GPA',\n",
    "            'classGraded', 'classHonors', \n",
    "            'Pass_Fail', \n",
    "            'parentsGraduateEdu',  'minorityGroup', \n",
    "            'available_flashcards', \n",
    "            'days_offset', 'prev_time_elapsed',\n",
    "             'time_lag']\n",
    "grouped_data = dataframe[FEATURE_TRANS].groupby(['user_id']).apply(lambda r: (\n",
    "                r['answer_correct'],\n",
    "                r['term'],\n",
    "                r['chapter_label'],\n",
    "                r['sub_chapter_label'],\n",
    "                r['question_name'],\n",
    "                np.array([r['STDNT_SEX_CD'],r['STDNT_CTZN_STAT_CD'], r['international'], \n",
    "                  r['White'],r['Asian'],r['NonWhiteOrAsian'],\n",
    "                 r['age'],r['exclClassCumGPA'],\n",
    "                r['Freshman'], r['Junior'], r['Sophomore'], r['Senior'],\n",
    "                r['termCreditsGPA'], r['termCreditsNoGPA'],\n",
    "                r['athlete_1'], r['honorsPro'],\n",
    "                r['LSA'], r['programBusiness'], r['programEngineering'], \n",
    "                r['programInformation'], r['programOther'],\n",
    "                r['HSCalculusTaken'],  r['highSchoolGPA'], \n",
    "                r['majorsCount'], r['minorsCount'],\n",
    "                r['PREV_TERM_CUM_GPA'], \n",
    "                r['parentsGraduateEdu'], r['minorityGroup'],\n",
    "                r['available_flashcards'],\n",
    "                r['days_offset'],\n",
    "                r['prev_time_elapsed'],\n",
    "                r['time_lag']\n",
    "              ]).transpose()\n",
    "                ))"
   ]
  },
  {
   "cell_type": "code",
   "execution_count": 21,
   "metadata": {
    "execution": {
     "iopub.execute_input": "2021-07-31T20:15:19.242450Z",
     "iopub.status.busy": "2021-07-31T20:15:19.242106Z",
     "iopub.status.idle": "2021-07-31T20:15:19.445361Z",
     "shell.execute_reply": "2021-07-31T20:15:19.444326Z",
     "shell.execute_reply.started": "2021-07-31T20:15:19.242415Z"
    },
    "id": "XXLqQnjrlp_4",
    "outputId": "c801da79-f0bf-4fe5-b19c-7c799fe01556"
   },
   "outputs": [
    {
     "data": {
      "text/plain": [
       "20"
      ]
     },
     "execution_count": 21,
     "metadata": {},
     "output_type": "execute_result"
    }
   ],
   "source": [
    "gc.collect()"
   ]
  },
  {
   "cell_type": "code",
   "execution_count": 22,
   "metadata": {
    "execution": {
     "iopub.execute_input": "2021-07-31T20:15:19.447272Z",
     "iopub.status.busy": "2021-07-31T20:15:19.446871Z",
     "iopub.status.idle": "2021-07-31T20:15:19.481562Z",
     "shell.execute_reply": "2021-07-31T20:15:19.480810Z",
     "shell.execute_reply.started": "2021-07-31T20:15:19.447233Z"
    },
    "id": "QYGQasdTrmP0"
   },
   "outputs": [],
   "source": [
    "# remove students who don't have make any interactions with the tool\n",
    "toRemove = []\n",
    "for index in grouped_data.index:\n",
    "  if len(grouped_data[index][0]) <= 10:\n",
    "    toRemove.append(index)\n",
    "grouped_data = grouped_data.drop(index=toRemove)"
   ]
  },
  {
   "cell_type": "code",
   "execution_count": 23,
   "metadata": {
    "execution": {
     "iopub.execute_input": "2021-07-31T20:15:19.483200Z",
     "iopub.status.busy": "2021-07-31T20:15:19.482843Z",
     "iopub.status.idle": "2021-07-31T20:15:19.501236Z",
     "shell.execute_reply": "2021-07-31T20:15:19.500234Z",
     "shell.execute_reply.started": "2021-07-31T20:15:19.483153Z"
    }
   },
   "outputs": [
    {
     "data": {
      "text/plain": [
       "count    1110.000000\n",
       "mean      550.263063\n",
       "std       201.281353\n",
       "min         2.000000\n",
       "25%       438.250000\n",
       "50%       520.500000\n",
       "75%       637.750000\n",
       "max      1500.000000\n",
       "Name: start_practice, dtype: float64"
      ]
     },
     "execution_count": 23,
     "metadata": {},
     "output_type": "execute_result"
    }
   ],
   "source": [
    "dataframe.groupby('user_id')['start_practice'].agg('count').describe()"
   ]
  },
  {
   "cell_type": "code",
   "execution_count": 24,
   "metadata": {
    "execution": {
     "iopub.execute_input": "2021-07-31T20:15:19.503130Z",
     "iopub.status.busy": "2021-07-31T20:15:19.502703Z",
     "iopub.status.idle": "2021-07-31T20:15:19.512684Z",
     "shell.execute_reply": "2021-07-31T20:15:19.511360Z",
     "shell.execute_reply.started": "2021-07-31T20:15:19.503086Z"
    }
   },
   "outputs": [
    {
     "data": {
      "text/plain": [
       "['FA 2018:252', 'WN 2018:295']"
      ]
     },
     "execution_count": 24,
     "metadata": {},
     "output_type": "execute_result"
    }
   ],
   "source": [
    "toRemove"
   ]
  },
  {
   "cell_type": "code",
   "execution_count": 25,
   "metadata": {
    "execution": {
     "iopub.execute_input": "2021-07-31T20:15:19.518058Z",
     "iopub.status.busy": "2021-07-31T20:15:19.517748Z",
     "iopub.status.idle": "2021-07-31T20:15:19.522858Z",
     "shell.execute_reply": "2021-07-31T20:15:19.521528Z",
     "shell.execute_reply.started": "2021-07-31T20:15:19.518023Z"
    },
    "id": "9kZqV9siDyNb"
   },
   "outputs": [],
   "source": [
    "#SETTINGS -> can be modified at any time\n",
    "MAXLENGTH = 2\n",
    "EMBEDDING_DIM = 128\n",
    "DENSE_NEURON = 16\n",
    "GRU_NEURON = 32"
   ]
  },
  {
   "cell_type": "code",
   "execution_count": 26,
   "metadata": {
    "execution": {
     "iopub.execute_input": "2021-07-31T20:15:19.525798Z",
     "iopub.status.busy": "2021-07-31T20:15:19.524976Z",
     "iopub.status.idle": "2021-07-31T20:15:19.533305Z",
     "shell.execute_reply": "2021-07-31T20:15:19.531815Z",
     "shell.execute_reply.started": "2021-07-31T20:15:19.525754Z"
    },
    "id": "1MksD1JizpPn"
   },
   "outputs": [],
   "source": [
    "#FEATURES_SIZE = 38\n",
    "CHAPTER_SIZE = 38\n",
    "SUB_CHAPTER_SIZE = 223\n",
    "QUESTION_SIZE = 1069"
   ]
  },
  {
   "cell_type": "code",
   "execution_count": 27,
   "metadata": {
    "execution": {
     "iopub.execute_input": "2021-07-31T20:15:19.535869Z",
     "iopub.status.busy": "2021-07-31T20:15:19.535408Z",
     "iopub.status.idle": "2021-07-31T20:15:19.552524Z",
     "shell.execute_reply": "2021-07-31T20:15:19.551479Z",
     "shell.execute_reply.started": "2021-07-31T20:15:19.535827Z"
    }
   },
   "outputs": [
    {
     "data": {
      "text/plain": [
       "array([ 96,  88,  86,  28,  12,  82, 125,  32,  69,  33,  21, 115, 120,\n",
       "       119,  91,  73,  57,  77, 117,  40,  74,  41,  68,  92,  39,  47,\n",
       "       104,  53,  95,  49,  16,  50,  52,  55,   7,  15,  51, 103, 102,\n",
       "       100,  94, 108,  11,   6, 118,  18, 215,  46, 216, 141,  27,  90,\n",
       "       217, 105,  54, 218, 123,  17,  67,  63,  13, 101, 124, 219,  20,\n",
       "       122,  58,   3,  59,  64, 106,  93,  65,  66,   9,  44,  30, 139,\n",
       "        26,  25,   8, 138,   1,  14,   5,  85,  35,  34,  79, 220, 121,\n",
       "        36,  31,  24, 112, 109, 110,  70,  45,  10,  56,  60, 145,  61,\n",
       "       129, 144,  72,  71,  89,  87,  97,  62,   4,  38,  19, 150, 131,\n",
       "       130, 132, 149, 128, 137,  75,  99, 143, 107, 147, 151, 152, 153,\n",
       "       159, 157, 158, 156, 160, 161, 163, 164, 165, 166, 167, 168, 170,\n",
       "       171, 169, 172, 174, 173, 175, 177, 176, 180, 178, 181, 182, 187,\n",
       "       189, 190, 191, 195, 193, 192, 197, 198, 199, 202, 201, 200, 204,\n",
       "       203, 205, 207, 206, 208, 209, 210, 162, 183, 185, 184, 186, 194,\n",
       "       188, 211, 212, 213, 146, 179, 154, 155, 196,   2,  48,   0,  37,\n",
       "        78, 142, 111, 116,  76, 148, 134, 221,  23, 140,  42,  22,  83,\n",
       "       136,  43,  98, 113,  84, 127, 135, 214,  80, 133, 126,  81, 114,\n",
       "        29], dtype=int16)"
      ]
     },
     "execution_count": 27,
     "metadata": {},
     "output_type": "execute_result"
    }
   ],
   "source": [
    "dataframe['sub_chapter_label'].unique()"
   ]
  },
  {
   "cell_type": "code",
   "execution_count": 28,
   "metadata": {
    "execution": {
     "iopub.execute_input": "2021-07-31T20:15:19.554418Z",
     "iopub.status.busy": "2021-07-31T20:15:19.553910Z",
     "iopub.status.idle": "2021-07-31T20:15:19.569225Z",
     "shell.execute_reply": "2021-07-31T20:15:19.568200Z",
     "shell.execute_reply.started": "2021-07-31T20:15:19.554359Z"
    },
    "id": "mY3Thp6d0NaT"
   },
   "outputs": [],
   "source": [
    "#create dataset class\n",
    "#to prepare it for train, valid, and test sets\n",
    "from torch.utils.data import Dataset, DataLoader\n",
    "class SPACE_DATASET(Dataset):\n",
    "    def __init__(self, data, maxlength = 1):\n",
    "        super(SPACE_DATASET, self).__init__()\n",
    "        self.maxlength = maxlength\n",
    "        self.data = data\n",
    "        self.users = list()\n",
    "        for user in data.index:\n",
    "            self.users.append(user)\n",
    "\n",
    "    def __len__(self):\n",
    "        return len(self.users)\n",
    "    \n",
    "    def __getitem__(self, ix):\n",
    "        user = self.users[ix]\n",
    "        user = user\n",
    "        target, term, ch_label, sub_ch_label, ques_name, features = self.data[user]\n",
    "        \n",
    "        #0s should be used as padding values\n",
    "        ori_target = target.values \n",
    "        term = term.values\n",
    "        ch_label = ch_label.values + 1\n",
    "        sub_ch_label = sub_ch_label.values +1\n",
    "        ques_name = ques_name.values + 1\n",
    "        \n",
    "        n = len(ch_label)\n",
    "\n",
    "        # one hot for term\n",
    "        term_encode = [0]*7\n",
    "        term_encode[term[0]] = 1\n",
    "        shifted_target= []\n",
    "\n",
    "        \n",
    "        # get  user interaction informations in the previous MAXLEN interactions\n",
    "        if n > self.maxlength:\n",
    "          ch_label = ch_label[-self.maxlength:]\n",
    "          sub_ch_label = sub_ch_label[-self.maxlength:]\n",
    "          ques_name = ques_name[-self.maxlength:]\n",
    "          features = features[-self.maxlength:]\n",
    "          target = ori_target[-self.maxlength:]\n",
    "          shifted_target = ori_target[ (-self.maxlength - 1) :-1]\n",
    "        else:\n",
    "          ch_label = [0]*(self.maxlength - n)+list(ch_label[:])\n",
    "          sub_ch_label = [0]*(self.maxlength - n)+list(sub_ch_label[:])\n",
    "          ques_name = [0]*(self.maxlength - n)+list(ques_name[:])\n",
    "          features = [[0]*len(features[0])]*(self.maxlength  - n)+list(features[:])\n",
    "          target = [-1]*(self.maxlength - n) + list(ori_target[:])\n",
    "          shifted_target = [-1]*(self.maxlength + 1 - n) + list(ori_target[:-1])\n",
    "\n",
    "        new_features = []\n",
    "        count = 0\n",
    "        for f in features:\n",
    "          temp = list(f)\n",
    "          temp.extend(term_encode)\n",
    "          # temp.append(shifted_target[count]) #uncomment this line for include previous response feature\n",
    "          new_features.append(temp)\n",
    "          count += 1\n",
    "        features = new_features\n",
    "        return ch_label,sub_ch_label,ques_name,target"
   ]
  },
  {
   "cell_type": "code",
   "execution_count": 29,
   "metadata": {
    "execution": {
     "iopub.execute_input": "2021-07-31T20:15:19.570943Z",
     "iopub.status.busy": "2021-07-31T20:15:19.570602Z",
     "iopub.status.idle": "2021-07-31T20:15:19.584157Z",
     "shell.execute_reply": "2021-07-31T20:15:19.583285Z",
     "shell.execute_reply.started": "2021-07-31T20:15:19.570911Z"
    }
   },
   "outputs": [
    {
     "data": {
      "text/plain": [
       "223"
      ]
     },
     "execution_count": 29,
     "metadata": {},
     "output_type": "execute_result"
    }
   ],
   "source": [
    "SUB_CHAPTER_SIZE"
   ]
  },
  {
   "cell_type": "code",
   "execution_count": 30,
   "metadata": {
    "execution": {
     "iopub.execute_input": "2021-07-31T20:15:19.586015Z",
     "iopub.status.busy": "2021-07-31T20:15:19.585595Z",
     "iopub.status.idle": "2021-07-31T20:15:54.694496Z",
     "shell.execute_reply": "2021-07-31T20:15:54.693449Z",
     "shell.execute_reply.started": "2021-07-31T20:15:19.585973Z"
    },
    "id": "gzJrljnjzypP",
    "outputId": "87abe488-b493-4f8f-9d71-45cb1d2ddf51"
   },
   "outputs": [
    {
     "name": "stdout",
     "output_type": "stream",
     "text": [
      "Epoch 1/100\n",
      "14/14 [==============================] - 3s 88ms/step - loss: 0.6705 - masked_acc: 0.5434 - masked_auc: 0.5644 - val_loss: 0.6341 - val_masked_acc: 0.6135 - val_masked_auc: 0.5935\n",
      "Epoch 2/100\n",
      "14/14 [==============================] - 0s 5ms/step - loss: 0.5475 - masked_acc: 0.6365 - masked_auc: 0.6330 - val_loss: 0.6812 - val_masked_acc: 0.6695 - val_masked_auc: 0.6858\n",
      "Epoch 3/100\n",
      "14/14 [==============================] - 0s 7ms/step - loss: 0.4715 - masked_acc: 0.6810 - masked_auc: 0.7075 - val_loss: 0.7532 - val_masked_acc: 0.6961 - val_masked_auc: 0.7357\n",
      "Epoch 4/100\n",
      "14/14 [==============================] - 0s 4ms/step - loss: 0.4241 - masked_acc: 0.7033 - masked_auc: 0.7478 - val_loss: 0.8092 - val_masked_acc: 0.7123 - val_masked_auc: 0.7639\n",
      "Epoch 5/100\n",
      "14/14 [==============================] - 0s 4ms/step - loss: 0.4091 - masked_acc: 0.7167 - masked_auc: 0.7713 - val_loss: 0.8484 - val_masked_acc: 0.7218 - val_masked_auc: 0.7809\n",
      "Epoch 6/100\n",
      "14/14 [==============================] - 0s 4ms/step - loss: 0.4039 - masked_acc: 0.7249 - masked_auc: 0.7856 - val_loss: 0.8811 - val_masked_acc: 0.7287 - val_masked_auc: 0.7920\n",
      "Epoch 7/100\n",
      "14/14 [==============================] - 0s 4ms/step - loss: 0.3929 - masked_acc: 0.7313 - masked_auc: 0.7958 - val_loss: 0.9046 - val_masked_acc: 0.7335 - val_masked_auc: 0.8000\n",
      "Epoch 8/100\n",
      "14/14 [==============================] - 0s 4ms/step - loss: 0.4019 - masked_acc: 0.7352 - masked_auc: 0.8028 - val_loss: 0.9121 - val_masked_acc: 0.7366 - val_masked_auc: 0.8060\n",
      "Epoch 9/100\n",
      "14/14 [==============================] - 0s 4ms/step - loss: 0.3953 - masked_acc: 0.7376 - masked_auc: 0.8081 - val_loss: 0.9195 - val_masked_acc: 0.7381 - val_masked_auc: 0.8103\n",
      "Epoch 10/100\n",
      "14/14 [==============================] - 0s 4ms/step - loss: 0.3885 - masked_acc: 0.7393 - masked_auc: 0.8123 - val_loss: 0.9241 - val_masked_acc: 0.7394 - val_masked_auc: 0.8136\n",
      "Epoch 11/100\n",
      "14/14 [==============================] - 0s 4ms/step - loss: 0.3728 - masked_acc: 0.7411 - masked_auc: 0.8157 - val_loss: 0.9383 - val_masked_acc: 0.7412 - val_masked_auc: 0.8165\n",
      "28/28 [==============================] - 0s 926us/step - loss: 0.3835 - masked_acc: 0.7437 - masked_auc: 0.8200\n",
      "4/4 [==============================] - 0s 1ms/step - loss: 0.7720 - masked_acc: 0.7443 - masked_auc: 0.8210\n",
      "Test:  [0.7720235586166382, 0.7443258762359619, 0.8210102319717407]\n",
      "Epoch 1/100\n",
      "14/14 [==============================] - 2s 41ms/step - loss: 0.6715 - masked_acc: 0.5469 - masked_auc: 0.5449 - val_loss: 0.6099 - val_masked_acc: 0.6238 - val_masked_auc: 0.6210\n",
      "Epoch 2/100\n",
      "14/14 [==============================] - 0s 4ms/step - loss: 0.5409 - masked_acc: 0.6476 - masked_auc: 0.6559 - val_loss: 0.6418 - val_masked_acc: 0.6746 - val_masked_auc: 0.6926\n",
      "Epoch 3/100\n",
      "14/14 [==============================] - 0s 4ms/step - loss: 0.4763 - masked_acc: 0.6860 - masked_auc: 0.7140 - val_loss: 0.7135 - val_masked_acc: 0.7022 - val_masked_auc: 0.7388\n",
      "Epoch 4/100\n",
      "14/14 [==============================] - 0s 4ms/step - loss: 0.4289 - masked_acc: 0.7087 - masked_auc: 0.7507 - val_loss: 0.7752 - val_masked_acc: 0.7178 - val_masked_auc: 0.7669\n",
      "Epoch 5/100\n",
      "14/14 [==============================] - 0s 4ms/step - loss: 0.4012 - masked_acc: 0.7225 - masked_auc: 0.7746 - val_loss: 0.8323 - val_masked_acc: 0.7263 - val_masked_auc: 0.7833\n",
      "Epoch 6/100\n",
      "14/14 [==============================] - 0s 4ms/step - loss: 0.3840 - masked_acc: 0.7296 - masked_auc: 0.7890 - val_loss: 0.8698 - val_masked_acc: 0.7316 - val_masked_auc: 0.7942\n",
      "Epoch 7/100\n",
      "14/14 [==============================] - 0s 4ms/step - loss: 0.3745 - masked_acc: 0.7340 - masked_auc: 0.7985 - val_loss: 0.9022 - val_masked_acc: 0.7354 - val_masked_auc: 0.8020\n",
      "Epoch 8/100\n",
      "14/14 [==============================] - 0s 5ms/step - loss: 0.3896 - masked_acc: 0.7366 - masked_auc: 0.8043 - val_loss: 0.9249 - val_masked_acc: 0.7380 - val_masked_auc: 0.8074\n",
      "Epoch 9/100\n",
      "14/14 [==============================] - 0s 4ms/step - loss: 0.3818 - masked_acc: 0.7397 - masked_auc: 0.8098 - val_loss: 0.9337 - val_masked_acc: 0.7410 - val_masked_auc: 0.8122\n",
      "Epoch 10/100\n",
      "14/14 [==============================] - 0s 4ms/step - loss: 0.3935 - masked_acc: 0.7424 - masked_auc: 0.8138 - val_loss: 0.9479 - val_masked_acc: 0.7438 - val_masked_auc: 0.8159\n",
      "Epoch 11/100\n",
      "14/14 [==============================] - 0s 4ms/step - loss: 0.3802 - masked_acc: 0.7448 - masked_auc: 0.8176 - val_loss: 0.9686 - val_masked_acc: 0.7458 - val_masked_auc: 0.8189\n",
      "28/28 [==============================] - 0s 851us/step - loss: 0.3790 - masked_acc: 0.7482 - masked_auc: 0.8223\n",
      "4/4 [==============================] - 0s 2ms/step - loss: 0.8370 - masked_acc: 0.7489 - masked_auc: 0.8235\n",
      "Test:  [0.8370281457901001, 0.7489372491836548, 0.8234937787055969]\n",
      "Epoch 1/100\n",
      "14/14 [==============================] - 2s 53ms/step - loss: 0.6675 - masked_acc: 0.5708 - masked_auc: 0.5567 - val_loss: 0.6319 - val_masked_acc: 0.6500 - val_masked_auc: 0.6167\n",
      "Epoch 2/100\n",
      "14/14 [==============================] - 0s 4ms/step - loss: 0.5401 - masked_acc: 0.6650 - masked_auc: 0.6517 - val_loss: 0.6874 - val_masked_acc: 0.6918 - val_masked_auc: 0.6986\n",
      "Epoch 3/100\n",
      "14/14 [==============================] - 0s 4ms/step - loss: 0.4507 - masked_acc: 0.7014 - masked_auc: 0.7184 - val_loss: 0.7495 - val_masked_acc: 0.7140 - val_masked_auc: 0.7428\n",
      "Epoch 4/100\n",
      "14/14 [==============================] - 0s 4ms/step - loss: 0.4108 - masked_acc: 0.7209 - masked_auc: 0.7544 - val_loss: 0.8105 - val_masked_acc: 0.7287 - val_masked_auc: 0.7701\n",
      "Epoch 5/100\n",
      "14/14 [==============================] - 0s 4ms/step - loss: 0.4039 - masked_acc: 0.7321 - masked_auc: 0.7772 - val_loss: 0.8477 - val_masked_acc: 0.7370 - val_masked_auc: 0.7870\n",
      "Epoch 6/100\n",
      "14/14 [==============================] - 0s 4ms/step - loss: 0.3889 - masked_acc: 0.7406 - masked_auc: 0.7924 - val_loss: 0.8761 - val_masked_acc: 0.7439 - val_masked_auc: 0.7979\n",
      "Epoch 7/100\n",
      "14/14 [==============================] - 0s 4ms/step - loss: 0.3836 - masked_acc: 0.7456 - masked_auc: 0.8016 - val_loss: 0.8864 - val_masked_acc: 0.7468 - val_masked_auc: 0.8055\n",
      "Epoch 8/100\n",
      "14/14 [==============================] - 0s 4ms/step - loss: 0.4103 - masked_acc: 0.7477 - masked_auc: 0.8073 - val_loss: 0.9142 - val_masked_acc: 0.7496 - val_masked_auc: 0.8112\n",
      "Epoch 9/100\n",
      "14/14 [==============================] - 0s 4ms/step - loss: 0.3762 - masked_acc: 0.7514 - masked_auc: 0.8135 - val_loss: 0.9407 - val_masked_acc: 0.7524 - val_masked_auc: 0.8156\n",
      "Epoch 10/100\n",
      "14/14 [==============================] - 0s 4ms/step - loss: 0.3919 - masked_acc: 0.7531 - masked_auc: 0.8171 - val_loss: 0.9374 - val_masked_acc: 0.7535 - val_masked_auc: 0.8191\n",
      "Epoch 11/100\n",
      "14/14 [==============================] - 0s 4ms/step - loss: 0.3869 - masked_acc: 0.7543 - masked_auc: 0.8203 - val_loss: 0.9573 - val_masked_acc: 0.7542 - val_masked_auc: 0.8216\n",
      "28/28 [==============================] - 0s 926us/step - loss: 0.3741 - masked_acc: 0.7568 - masked_auc: 0.8251\n",
      "4/4 [==============================] - 0s 1ms/step - loss: 1.0456 - masked_acc: 0.7563 - masked_auc: 0.8251\n",
      "Test:  [1.0455666780471802, 0.7562939524650574, 0.8251178860664368]\n",
      "Epoch 1/100\n",
      "14/14 [==============================] - 2s 39ms/step - loss: 0.6708 - masked_acc: 0.5513 - masked_auc: 0.4861 - val_loss: 0.6722 - val_masked_acc: 0.6335 - val_masked_auc: 0.5923\n",
      "Epoch 2/100\n",
      "14/14 [==============================] - 0s 19ms/step - loss: 0.5381 - masked_acc: 0.6518 - masked_auc: 0.6337 - val_loss: 0.7244 - val_masked_acc: 0.6834 - val_masked_auc: 0.6932\n",
      "Epoch 3/100\n",
      "14/14 [==============================] - 0s 4ms/step - loss: 0.4604 - masked_acc: 0.6944 - masked_auc: 0.7129 - val_loss: 0.7519 - val_masked_acc: 0.7113 - val_masked_auc: 0.7435\n",
      "Epoch 4/100\n",
      "14/14 [==============================] - 0s 4ms/step - loss: 0.4135 - masked_acc: 0.7166 - masked_auc: 0.7547 - val_loss: 0.7995 - val_masked_acc: 0.7264 - val_masked_auc: 0.7714\n",
      "Epoch 5/100\n",
      "14/14 [==============================] - 0s 4ms/step - loss: 0.3976 - masked_acc: 0.7301 - masked_auc: 0.7783 - val_loss: 0.8480 - val_masked_acc: 0.7350 - val_masked_auc: 0.7886\n",
      "Epoch 6/100\n",
      "14/14 [==============================] - 0s 4ms/step - loss: 0.3873 - masked_acc: 0.7375 - masked_auc: 0.7930 - val_loss: 0.8795 - val_masked_acc: 0.7411 - val_masked_auc: 0.7999\n",
      "Epoch 7/100\n",
      "14/14 [==============================] - 0s 4ms/step - loss: 0.3690 - masked_acc: 0.7433 - masked_auc: 0.8034 - val_loss: 0.8891 - val_masked_acc: 0.7453 - val_masked_auc: 0.8079\n",
      "Epoch 8/100\n",
      "14/14 [==============================] - 0s 4ms/step - loss: 0.3894 - masked_acc: 0.7464 - masked_auc: 0.8101 - val_loss: 0.9109 - val_masked_acc: 0.7484 - val_masked_auc: 0.8140\n",
      "Epoch 9/100\n",
      "14/14 [==============================] - 0s 4ms/step - loss: 0.3813 - masked_acc: 0.7491 - masked_auc: 0.8159 - val_loss: 0.9331 - val_masked_acc: 0.7504 - val_masked_auc: 0.8186\n",
      "Epoch 10/100\n",
      "14/14 [==============================] - 0s 5ms/step - loss: 0.3738 - masked_acc: 0.7514 - masked_auc: 0.8205 - val_loss: 0.9532 - val_masked_acc: 0.7526 - val_masked_auc: 0.8223\n",
      "Epoch 11/100\n",
      "14/14 [==============================] - 0s 5ms/step - loss: 0.3826 - masked_acc: 0.7532 - masked_auc: 0.8233 - val_loss: 0.9478 - val_masked_acc: 0.7540 - val_masked_auc: 0.8252\n",
      "28/28 [==============================] - 0s 963us/step - loss: 0.3703 - masked_acc: 0.7565 - masked_auc: 0.8285\n",
      "4/4 [==============================] - 0s 1ms/step - loss: 0.8923 - masked_acc: 0.7571 - masked_auc: 0.8293\n",
      "Test:  [0.8923062682151794, 0.7571092247962952, 0.8292946815490723]\n",
      "Epoch 1/100\n",
      "14/14 [==============================] - 2s 40ms/step - loss: 0.6693 - masked_acc: 0.5470 - masked_auc: 0.5558 - val_loss: 0.6278 - val_masked_acc: 0.6363 - val_masked_auc: 0.6278\n",
      "Epoch 2/100\n",
      "14/14 [==============================] - 0s 4ms/step - loss: 0.5192 - masked_acc: 0.6605 - masked_auc: 0.6674 - val_loss: 0.6654 - val_masked_acc: 0.6848 - val_masked_auc: 0.7030\n",
      "Epoch 3/100\n",
      "14/14 [==============================] - 0s 4ms/step - loss: 0.4584 - masked_acc: 0.6956 - masked_auc: 0.7214 - val_loss: 0.7593 - val_masked_acc: 0.7111 - val_masked_auc: 0.7469\n",
      "Epoch 4/100\n",
      "14/14 [==============================] - 0s 4ms/step - loss: 0.4138 - masked_acc: 0.7178 - masked_auc: 0.7589 - val_loss: 0.8477 - val_masked_acc: 0.7241 - val_masked_auc: 0.7727\n",
      "Epoch 5/100\n",
      "14/14 [==============================] - 0s 4ms/step - loss: 0.4067 - masked_acc: 0.7268 - masked_auc: 0.7791 - val_loss: 0.8903 - val_masked_acc: 0.7303 - val_masked_auc: 0.7877\n",
      "Epoch 6/100\n",
      "14/14 [==============================] - 0s 4ms/step - loss: 0.3792 - masked_acc: 0.7338 - masked_auc: 0.7935 - val_loss: 0.9241 - val_masked_acc: 0.7358 - val_masked_auc: 0.7980\n",
      "Epoch 7/100\n",
      "14/14 [==============================] - 0s 4ms/step - loss: 0.3794 - masked_acc: 0.7381 - masked_auc: 0.8015 - val_loss: 0.9454 - val_masked_acc: 0.7398 - val_masked_auc: 0.8053\n",
      "Epoch 8/100\n",
      "14/14 [==============================] - 0s 5ms/step - loss: 0.3865 - masked_acc: 0.7417 - masked_auc: 0.8080 - val_loss: 0.9639 - val_masked_acc: 0.7430 - val_masked_auc: 0.8107\n",
      "Epoch 9/100\n",
      "14/14 [==============================] - 0s 4ms/step - loss: 0.3806 - masked_acc: 0.7445 - masked_auc: 0.8130 - val_loss: 0.9777 - val_masked_acc: 0.7455 - val_masked_auc: 0.8152\n",
      "Epoch 10/100\n",
      "14/14 [==============================] - 0s 4ms/step - loss: 0.3905 - masked_acc: 0.7462 - masked_auc: 0.8168 - val_loss: 0.9728 - val_masked_acc: 0.7469 - val_masked_auc: 0.8187\n",
      "Epoch 11/100\n",
      "14/14 [==============================] - 0s 4ms/step - loss: 0.3818 - masked_acc: 0.7479 - masked_auc: 0.8203 - val_loss: 0.9937 - val_masked_acc: 0.7478 - val_masked_auc: 0.8215\n",
      "28/28 [==============================] - 0s 890us/step - loss: 0.3734 - masked_acc: 0.7503 - masked_auc: 0.8249\n",
      "4/4 [==============================] - 0s 1ms/step - loss: 0.9053 - masked_acc: 0.7509 - masked_auc: 0.8261\n",
      "Test:  [0.9052902460098267, 0.7509115934371948, 0.8260642290115356]\n"
     ]
    }
   ],
   "source": [
    "# 5 fold cross validation\n",
    "#HERE WE ONLY USE chapter\n",
    "#sub_chapter and question\n",
    "#without additional features\n",
    "import torch\n",
    "X = np.array(grouped_data.keys())\n",
    "kfold = KFold(n_splits=5, shuffle=True)\n",
    "train_losses = list()\n",
    "train_aucs = list()\n",
    "val_losses = list()\n",
    "val_aucs = list()\n",
    "train_eval = list()\n",
    "test_eval = list()\n",
    "for train, test in kfold.split(X):\n",
    "    users_train, users_test =  X[train], X[test]\n",
    "    n = len(users_test)//2\n",
    "    users_test, users_val = users_test[:n], users_test[n: ]\n",
    "    train_data_space = SPACE_DATASET(grouped_data[users_train], MAXLENGTH)\n",
    "    val_data_space = SPACE_DATASET(grouped_data[users_val], MAXLENGTH)\n",
    "    test_data_space = SPACE_DATASET(grouped_data[users_test], MAXLENGTH)\n",
    "    #construct training input\n",
    "    train_chapter=[]\n",
    "    train_sub_chapter=[]\n",
    "    train_question = []\n",
    "    train_features=[]\n",
    "    train_labels=[]\n",
    "    for i in range(len(users_train)):\n",
    "        user = train_data_space.__getitem__(i)\n",
    "        train_chapter.append(user[0])\n",
    "        train_sub_chapter.append(user[1]) \n",
    "        train_question.append(user[2])\n",
    "        #train_features.append(user[3])\n",
    "        train_labels.append(user[3])\n",
    "    train_chapter = np.array(train_chapter)\n",
    "    train_sub_chapter = np.array(train_sub_chapter)\n",
    "    train_question = np.array(train_question)\n",
    "    #train_features = np.array(train_features)\n",
    "    train_labels= np.array(train_labels)[..., np.newaxis]\n",
    "\n",
    "    #construct validation input\n",
    "    val_chapter=[]\n",
    "    val_sub_chapter=[]\n",
    "    val_question = []\n",
    "    #val_features=[]\n",
    "    val_labels=[]\n",
    "    for i in range(len(users_val)):\n",
    "        user = val_data_space.__getitem__(i)\n",
    "        val_chapter.append(user[0])\n",
    "        val_sub_chapter.append(user[1]) \n",
    "        val_question.append(user[2])\n",
    "        #val_features.append(user[3])\n",
    "        val_labels.append(user[3])\n",
    "    val_chapter = np.array(val_chapter)\n",
    "    val_sub_chapter = np.array(val_sub_chapter)\n",
    "    #val_features = np.array(val_features)\n",
    "    val_question = np.array(val_question)\n",
    "    val_labels= np.array(val_labels)[..., np.newaxis]\n",
    "\n",
    "    # construct test input\n",
    "    test_chapter=[]\n",
    "    test_sub_chapter=[]\n",
    "    #test_features=[]\n",
    "    test_question=[]\n",
    "    test_labels=[]\n",
    "    for i in range(len(users_test)):\n",
    "        user = test_data_space.__getitem__(i)\n",
    "        test_chapter.append(user[0])\n",
    "        test_sub_chapter.append(user[1]) \n",
    "        test_question.append(user[2])\n",
    "        #test_features.append(user[3])\n",
    "        test_labels.append(user[3])\n",
    "    test_chapter = np.array(test_chapter)\n",
    "    test_sub_chapter = np.array(test_sub_chapter)\n",
    "    #test_features = np.array(test_features)\n",
    "    test_question = np.array(test_question)\n",
    "    test_labels= np.array(test_labels)[..., np.newaxis]\n",
    "\n",
    "    # define loss function and evaluation metrics\n",
    "    bce = tf.keras.losses.BinaryCrossentropy(from_logits=True)\n",
    "    acc = tf.keras.metrics.Accuracy()\n",
    "    auc = tf.keras.metrics.AUC()\n",
    "\n",
    "    def masked_bce(y_true, y_pred):\n",
    "      flat_pred = y_pred\n",
    "      flat_ground_truth = y_true\n",
    "      label_mask = tf.math.not_equal(flat_ground_truth, -1)\n",
    "      return bce(flat_ground_truth, flat_pred, sample_weight=label_mask)\n",
    "\n",
    "    def masked_acc(y_true, y_pred):\n",
    "      flat_pred = y_pred\n",
    "      flat_ground_truth = y_true\n",
    "      flat_pred = (flat_pred >= 0.5)\n",
    "      label_mask = tf.math.not_equal(flat_ground_truth, -1)\n",
    "      return acc(flat_ground_truth, flat_pred, sample_weight=label_mask)\n",
    "\n",
    "    def masked_auc(y_true, y_pred):\n",
    "      flat_pred = y_pred\n",
    "      flat_ground_truth = y_true\n",
    "      label_mask = tf.math.not_equal(flat_ground_truth, -1)\n",
    "      return auc(flat_ground_truth, flat_pred, sample_weight=label_mask)\n",
    "\n",
    "    # input layer\n",
    "    input_chap = tf.keras.Input(shape=(MAXLENGTH))\n",
    "    input_sub_chap = tf.keras.Input(shape=(MAXLENGTH))\n",
    "    input_ques =  tf.keras.Input(shape=(MAXLENGTH))\n",
    "    #input_features = tf.keras.Input(shape=(MAXLENGTH, FEATURES_SIZE))\n",
    "\n",
    "    # embedding layer for categorical features\n",
    "    embedding_chap = Embedding(input_dim = CHAPTER_SIZE, output_dim = EMBEDDING_DIM)(input_chap)\n",
    "    embedding_sub_chap = Embedding(input_dim = SUB_CHAPTER_SIZE, output_dim = EMBEDDING_DIM)(input_sub_chap) \n",
    "    embedding_ques = Embedding(input_dim = QUESTION_SIZE, output_dim = EMBEDDING_DIM)(input_ques)       \n",
    "\n",
    "    # dense layer for numeric features\n",
    "    #dense_features = Dense(EMBEDDING_DIM,input_shape = (None, MAXLENGTH))(input_features)\n",
    "\n",
    "    gru_output = tf.concat([embedding_chap, embedding_sub_chap, embedding_ques], axis = 2)\n",
    "\n",
    "    pred = Dense(1, input_shape = (None, 3*EMBEDDING_DIM), activation='sigmoid')(gru_output)\n",
    "\n",
    "    model = tf.keras.Model(\n",
    "        inputs=[input_chap, input_sub_chap,input_ques],\n",
    "        outputs=pred,\n",
    "        name='logistic_regression'\n",
    "    )\n",
    "\n",
    "    callback = tf.keras.callbacks.EarlyStopping(monitor='val_loss', patience=10)\n",
    "    opt_adam = Adam(learning_rate = 0.005)\n",
    "    model.compile(\n",
    "        optimizer=opt_adam,\n",
    "        loss= masked_bce,\n",
    "        metrics = [masked_acc, masked_auc]\n",
    "    )\n",
    "\n",
    "    history = model.fit(\n",
    "      [train_chapter, train_sub_chapter, train_question],\n",
    "      train_labels,\n",
    "      batch_size = 64,\n",
    "      epochs = 100,\n",
    "      validation_data=([val_chapter, val_sub_chapter, val_question], val_labels),\n",
    "      callbacks=[callback]\n",
    "    )\n",
    "    val_losses.append(list(history.history['val_loss']))\n",
    "    train_losses.append(list(history.history['loss']))\n",
    "    val_aucs.append(list(history.history['val_masked_auc']))\n",
    "    train_aucs.append(list(history.history['masked_auc']))\n",
    "    train_score = model.evaluate([train_chapter, train_sub_chapter, train_question], train_labels)\n",
    "    train_eval.append(train_score)\n",
    "    test_score = model.evaluate([test_chapter, test_sub_chapter, test_question], test_labels)\n",
    "    test_eval.append(test_score)\n",
    "    print(\"Test: \", test_score)\n",
    "    def reset_weights(model):\n",
    "      for layer in model.layers: \n",
    "        if isinstance(layer, tf.keras.Model):\n",
    "          reset_weights(layer)\n",
    "          continue\n",
    "        for k, initializer in layer.__dict__.items():\n",
    "          if \"initializer\" not in k:\n",
    "            continue\n",
    "          # find the corresponding variable\n",
    "          var = getattr(layer, k.replace(\"_initializer\", \"\"))\n",
    "          var.assign(initializer(var.shape, var.dtype))\n",
    "    reset_weights(model)"
   ]
  },
  {
   "cell_type": "code",
   "execution_count": 31,
   "metadata": {
    "execution": {
     "iopub.execute_input": "2021-07-31T20:15:54.696263Z",
     "iopub.status.busy": "2021-07-31T20:15:54.695891Z",
     "iopub.status.idle": "2021-07-31T20:15:54.705313Z",
     "shell.execute_reply": "2021-07-31T20:15:54.704515Z",
     "shell.execute_reply.started": "2021-07-31T20:15:54.696224Z"
    },
    "id": "QsVmumHMz3lx",
    "outputId": "4ff1e2fa-6abb-458e-c729-495b456f53e5"
   },
   "outputs": [
    {
     "name": "stdout",
     "output_type": "stream",
     "text": [
      "test avg loss:  0.8904429793357849 +/- 0.09073431403963267\n",
      "test avg acc:  0.7515155792236328 +/- 0.004750287050339663\n",
      "test avg auc:  0.8249961614608765 +/- 0.0027487323608061955\n"
     ]
    }
   ],
   "source": [
    "t_eval = np.array(test_eval)\n",
    "print(\"test avg loss: \", np.mean(t_eval[:, 0]), \"+/-\" ,np.std(t_eval[:, 0]))\n",
    "print(\"test avg acc: \", np.mean(t_eval[:, 1]),  \"+/-\" ,np.std(t_eval[:, 1]))\n",
    "print(\"test avg auc: \", np.mean(t_eval[:, 2]), \"+/-\" ,np.std(t_eval[:, 2]))"
   ]
  },
  {
   "cell_type": "code",
   "execution_count": 32,
   "metadata": {
    "execution": {
     "iopub.execute_input": "2021-07-31T20:15:54.706655Z",
     "iopub.status.busy": "2021-07-31T20:15:54.706321Z",
     "iopub.status.idle": "2021-07-31T20:15:54.722109Z",
     "shell.execute_reply": "2021-07-31T20:15:54.721322Z",
     "shell.execute_reply.started": "2021-07-31T20:15:54.706619Z"
    },
    "id": "b9MM_CXWz5K6",
    "outputId": "4cf88e1d-3a74-4e7d-f92c-d01522e91757"
   },
   "outputs": [
    {
     "name": "stdout",
     "output_type": "stream",
     "text": [
      "train avg loss:  0.37606329917907716 +/- 0.004644909514398681\n",
      "train avg acc:  0.7510995507240296 +/- 0.00502521055677499\n",
      "train avg auc:  0.8241608381271363 +/- 0.002853623970675715\n"
     ]
    }
   ],
   "source": [
    "t_eval = np.array(train_eval)\n",
    "print(\"train avg loss: \", np.mean(t_eval[:, 0]), \"+/-\" ,np.std(t_eval[:, 0]))\n",
    "print(\"train avg acc: \", np.mean(t_eval[:, 1]),  \"+/-\" ,np.std(t_eval[:, 1]))\n",
    "print(\"train avg auc: \", np.mean(t_eval[:, 2]), \"+/-\" ,np.std(t_eval[:, 2]))"
   ]
  }
 ],
 "metadata": {
  "kernelspec": {
   "display_name": "Python 3",
   "language": "python",
   "name": "python3"
  },
  "language_info": {
   "codemirror_mode": {
    "name": "ipython",
    "version": 3
   },
   "file_extension": ".py",
   "mimetype": "text/x-python",
   "name": "python",
   "nbconvert_exporter": "python",
   "pygments_lexer": "ipython3",
   "version": "3.8.5"
  }
 },
 "nbformat": 4,
 "nbformat_minor": 4
}
