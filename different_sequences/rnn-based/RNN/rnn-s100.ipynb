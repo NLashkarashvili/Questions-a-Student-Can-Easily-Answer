{
 "cells": [
  {
   "cell_type": "code",
   "execution_count": 1,
   "metadata": {
    "execution": {
     "iopub.execute_input": "2021-07-26T22:35:14.760477Z",
     "iopub.status.busy": "2021-07-26T22:35:14.760089Z",
     "iopub.status.idle": "2021-07-26T22:35:21.537938Z",
     "shell.execute_reply": "2021-07-26T22:35:21.536995Z",
     "shell.execute_reply.started": "2021-07-26T22:35:14.760394Z"
    },
    "id": "farifxiKU1aB"
   },
   "outputs": [],
   "source": [
    "import numpy as np\n",
    "import pandas as pd\n",
    "import warnings\n",
    "import gc\n",
    "import tensorflow as tf\n",
    "from tensorflow import keras\n",
    "\n",
    "import random\n",
    "from random import choice\n",
    "from tensorflow.keras.optimizers import Adam\n",
    "from tensorflow.keras.models import Sequential \n",
    "from tensorflow.keras.layers import Dense, SimpleRNN, Concatenate, Embedding, Flatten, Activation, Dropout\n",
    "from sklearn.model_selection import KFold\n",
    "from tensorflow.python.client import device_lib\n",
    "warnings.filterwarnings('ignore')\n",
    "import random"
   ]
  },
  {
   "cell_type": "code",
   "execution_count": 2,
   "metadata": {
    "execution": {
     "iopub.execute_input": "2021-07-26T22:35:21.539901Z",
     "iopub.status.busy": "2021-07-26T22:35:21.539532Z",
     "iopub.status.idle": "2021-07-26T22:35:21.546649Z",
     "shell.execute_reply": "2021-07-26T22:35:21.545780Z",
     "shell.execute_reply.started": "2021-07-26T22:35:21.539861Z"
    },
    "id": "QOson70GPOXb"
   },
   "outputs": [],
   "source": [
    "import gc"
   ]
  },
  {
   "cell_type": "markdown",
   "metadata": {
    "id": "BQsVybBH3VPw"
   },
   "source": [
    "## Data Preprocessing"
   ]
  },
  {
   "cell_type": "code",
   "execution_count": 3,
   "metadata": {
    "execution": {
     "iopub.execute_input": "2021-07-26T22:35:21.548510Z",
     "iopub.status.busy": "2021-07-26T22:35:21.548159Z",
     "iopub.status.idle": "2021-07-26T22:35:27.960446Z",
     "shell.execute_reply": "2021-07-26T22:35:27.959506Z",
     "shell.execute_reply.started": "2021-07-26T22:35:21.548479Z"
    },
    "id": "rwtTusGxrmAE",
    "outputId": "1430f3cf-038b-485e-b5c4-c1686b1f34fd"
   },
   "outputs": [
    {
     "data": {
      "text/html": [
       "<div>\n",
       "<style scoped>\n",
       "    .dataframe tbody tr th:only-of-type {\n",
       "        vertical-align: middle;\n",
       "    }\n",
       "\n",
       "    .dataframe tbody tr th {\n",
       "        vertical-align: top;\n",
       "    }\n",
       "\n",
       "    .dataframe thead th {\n",
       "        text-align: right;\n",
       "    }\n",
       "</style>\n",
       "<table border=\"1\" class=\"dataframe\">\n",
       "  <thead>\n",
       "    <tr style=\"text-align: right;\">\n",
       "      <th></th>\n",
       "      <th>Unnamed: 0</th>\n",
       "      <th>chapter_label</th>\n",
       "      <th>sub_chapter_label</th>\n",
       "      <th>question_name</th>\n",
       "      <th>user_id.x</th>\n",
       "      <th>term</th>\n",
       "      <th>STDNT_SEX_CD</th>\n",
       "      <th>NonNativeEnglish</th>\n",
       "      <th>White</th>\n",
       "      <th>Asian</th>\n",
       "      <th>...</th>\n",
       "      <th>classGraded</th>\n",
       "      <th>classHonors</th>\n",
       "      <th>Pass_Fail</th>\n",
       "      <th>parentsGraduateEdu</th>\n",
       "      <th>minorityGroup</th>\n",
       "      <th>q</th>\n",
       "      <th>day's_available_flashcards</th>\n",
       "      <th>start_practice</th>\n",
       "      <th>end_practice</th>\n",
       "      <th>days_offset</th>\n",
       "    </tr>\n",
       "  </thead>\n",
       "  <tbody>\n",
       "    <tr>\n",
       "      <th>0</th>\n",
       "      <td>1</td>\n",
       "      <td>Sort</td>\n",
       "      <td>intro-SortingwithSortandSorted</td>\n",
       "      <td>ee_sort_04</td>\n",
       "      <td>148</td>\n",
       "      <td>WN 2018</td>\n",
       "      <td>1</td>\n",
       "      <td>0</td>\n",
       "      <td>1</td>\n",
       "      <td>0</td>\n",
       "      <td>...</td>\n",
       "      <td>1</td>\n",
       "      <td>0</td>\n",
       "      <td>0</td>\n",
       "      <td>0</td>\n",
       "      <td>0</td>\n",
       "      <td>0</td>\n",
       "      <td>18</td>\n",
       "      <td>2018-03-04 20:00:19</td>\n",
       "      <td>2018-03-04 20:00:35</td>\n",
       "      <td>45</td>\n",
       "    </tr>\n",
       "    <tr>\n",
       "      <th>1</th>\n",
       "      <td>2</td>\n",
       "      <td>Functions</td>\n",
       "      <td>Returningavaluefromafunction</td>\n",
       "      <td>test_questionfunctions_2_3</td>\n",
       "      <td>148</td>\n",
       "      <td>WN 2018</td>\n",
       "      <td>1</td>\n",
       "      <td>0</td>\n",
       "      <td>1</td>\n",
       "      <td>0</td>\n",
       "      <td>...</td>\n",
       "      <td>1</td>\n",
       "      <td>0</td>\n",
       "      <td>0</td>\n",
       "      <td>0</td>\n",
       "      <td>0</td>\n",
       "      <td>4</td>\n",
       "      <td>16</td>\n",
       "      <td>2018-02-10 11:57:55</td>\n",
       "      <td>2018-02-10 11:58:35</td>\n",
       "      <td>23</td>\n",
       "    </tr>\n",
       "    <tr>\n",
       "      <th>2</th>\n",
       "      <td>3</td>\n",
       "      <td>RESTAPIs</td>\n",
       "      <td>functionswithrestapis</td>\n",
       "      <td>test_question_functions_rest_apis_1</td>\n",
       "      <td>148</td>\n",
       "      <td>WN 2018</td>\n",
       "      <td>1</td>\n",
       "      <td>0</td>\n",
       "      <td>1</td>\n",
       "      <td>0</td>\n",
       "      <td>...</td>\n",
       "      <td>1</td>\n",
       "      <td>0</td>\n",
       "      <td>0</td>\n",
       "      <td>0</td>\n",
       "      <td>0</td>\n",
       "      <td>1</td>\n",
       "      <td>2</td>\n",
       "      <td>2018-03-12 17:03:07</td>\n",
       "      <td>2018-03-12 17:04:28</td>\n",
       "      <td>53</td>\n",
       "    </tr>\n",
       "    <tr>\n",
       "      <th>3</th>\n",
       "      <td>4</td>\n",
       "      <td>SimplePythonData</td>\n",
       "      <td>FunctionCalls</td>\n",
       "      <td>exercise_functionCalls_1</td>\n",
       "      <td>148</td>\n",
       "      <td>WN 2018</td>\n",
       "      <td>1</td>\n",
       "      <td>0</td>\n",
       "      <td>1</td>\n",
       "      <td>0</td>\n",
       "      <td>...</td>\n",
       "      <td>1</td>\n",
       "      <td>0</td>\n",
       "      <td>0</td>\n",
       "      <td>0</td>\n",
       "      <td>0</td>\n",
       "      <td>0</td>\n",
       "      <td>10</td>\n",
       "      <td>2018-01-30 14:15:49</td>\n",
       "      <td>2018-01-30 14:15:58</td>\n",
       "      <td>12</td>\n",
       "    </tr>\n",
       "    <tr>\n",
       "      <th>4</th>\n",
       "      <td>5</td>\n",
       "      <td>DictionaryAccumulation</td>\n",
       "      <td>AccumulatingaMaximumValue</td>\n",
       "      <td>ps_04_07</td>\n",
       "      <td>148</td>\n",
       "      <td>WN 2018</td>\n",
       "      <td>1</td>\n",
       "      <td>0</td>\n",
       "      <td>1</td>\n",
       "      <td>0</td>\n",
       "      <td>...</td>\n",
       "      <td>1</td>\n",
       "      <td>0</td>\n",
       "      <td>0</td>\n",
       "      <td>0</td>\n",
       "      <td>0</td>\n",
       "      <td>0</td>\n",
       "      <td>23</td>\n",
       "      <td>2018-03-03 14:04:17</td>\n",
       "      <td>2018-03-03 14:04:25</td>\n",
       "      <td>44</td>\n",
       "    </tr>\n",
       "  </tbody>\n",
       "</table>\n",
       "<p>5 rows × 48 columns</p>\n",
       "</div>"
      ],
      "text/plain": [
       "   Unnamed: 0           chapter_label               sub_chapter_label  \\\n",
       "0           1                    Sort  intro-SortingwithSortandSorted   \n",
       "1           2               Functions    Returningavaluefromafunction   \n",
       "2           3                RESTAPIs           functionswithrestapis   \n",
       "3           4        SimplePythonData                   FunctionCalls   \n",
       "4           5  DictionaryAccumulation       AccumulatingaMaximumValue   \n",
       "\n",
       "                         question_name  user_id.x     term  STDNT_SEX_CD  \\\n",
       "0                           ee_sort_04        148  WN 2018             1   \n",
       "1           test_questionfunctions_2_3        148  WN 2018             1   \n",
       "2  test_question_functions_rest_apis_1        148  WN 2018             1   \n",
       "3             exercise_functionCalls_1        148  WN 2018             1   \n",
       "4                             ps_04_07        148  WN 2018             1   \n",
       "\n",
       "   NonNativeEnglish  White  Asian  ...  classGraded  classHonors  Pass_Fail  \\\n",
       "0                 0      1      0  ...            1            0          0   \n",
       "1                 0      1      0  ...            1            0          0   \n",
       "2                 0      1      0  ...            1            0          0   \n",
       "3                 0      1      0  ...            1            0          0   \n",
       "4                 0      1      0  ...            1            0          0   \n",
       "\n",
       "   parentsGraduateEdu  minorityGroup  q  day's_available_flashcards  \\\n",
       "0                   0              0  0                          18   \n",
       "1                   0              0  4                          16   \n",
       "2                   0              0  1                           2   \n",
       "3                   0              0  0                          10   \n",
       "4                   0              0  0                          23   \n",
       "\n",
       "        start_practice         end_practice  days_offset  \n",
       "0  2018-03-04 20:00:19  2018-03-04 20:00:35           45  \n",
       "1  2018-02-10 11:57:55  2018-02-10 11:58:35           23  \n",
       "2  2018-03-12 17:03:07  2018-03-12 17:04:28           53  \n",
       "3  2018-01-30 14:15:49  2018-01-30 14:15:58           12  \n",
       "4  2018-03-03 14:04:17  2018-03-03 14:04:25           44  \n",
       "\n",
       "[5 rows x 48 columns]"
      ]
     },
     "execution_count": 3,
     "metadata": {},
     "output_type": "execute_result"
    }
   ],
   "source": [
    "# load the data\n",
    "import pandas as pd\n",
    "dataframe = pd.read_csv('../input/practice-log-demographics/Practice_Log_Demographics (1).csv', low_memory=False)\n",
    "dataframe.head()"
   ]
  },
  {
   "cell_type": "code",
   "execution_count": 4,
   "metadata": {
    "execution": {
     "iopub.execute_input": "2021-07-26T22:35:27.962205Z",
     "iopub.status.busy": "2021-07-26T22:35:27.961897Z",
     "iopub.status.idle": "2021-07-26T22:35:29.058547Z",
     "shell.execute_reply": "2021-07-26T22:35:29.057693Z",
     "shell.execute_reply.started": "2021-07-26T22:35:27.962175Z"
    },
    "id": "OCbHnEp_Vir0"
   },
   "outputs": [],
   "source": [
    "#sort data based on timestamp\n",
    "dataframe = dataframe.sort_values(by=['start_practice'])"
   ]
  },
  {
   "cell_type": "code",
   "execution_count": 5,
   "metadata": {
    "execution": {
     "iopub.execute_input": "2021-07-26T22:35:29.060263Z",
     "iopub.status.busy": "2021-07-26T22:35:29.059774Z",
     "iopub.status.idle": "2021-07-26T22:35:29.066228Z",
     "shell.execute_reply": "2021-07-26T22:35:29.065179Z",
     "shell.execute_reply.started": "2021-07-26T22:35:29.060231Z"
    },
    "id": "0RvF7BvEr98o"
   },
   "outputs": [],
   "source": [
    "FEATURES = ['chapter_label', 'sub_chapter_label','question_name','user_id','term',\n",
    "            'STDNT_SEX_CD', \n",
    "            'NonNativeEnglish',\n",
    "            'White',\n",
    "            'Asian',\n",
    "            'WhiteOrAsian',\n",
    "            'Hispanic',\n",
    "            'AfricanAmerican',\n",
    "            'OtherEthnicities',\n",
    "            'NonWhiteOrAsian',\n",
    "            'STDNT_CTZN_STAT_CD', 'international', \n",
    "            'gradingType',\n",
    "            'birthYear',\n",
    "            'exclClassCumGPA',\n",
    "            'Freshman',\n",
    "            'Junior',\n",
    "            'Sophomore',\n",
    "            'Senior',\n",
    "            'termCreditsGPA',\n",
    "            'termCreditsNoGPA',\n",
    "            'athlete_1',\n",
    "            'honorsPro',\n",
    "            'LSA', 'programBusiness', 'programEngineering', \n",
    "            'programInformation', 'programOther',\n",
    "            'HSCalculusTaken', \n",
    "            'highSchoolGPA', \n",
    "            'majorsCount', 'minorsCount',\n",
    "            'PREV_TERM_CUM_GPA',\n",
    "            'classGraded', 'classHonors', \n",
    "            'Pass_Fail', \n",
    "            'parentsGraduateEdu',  'minorityGroup', \n",
    "            'q',\n",
    "            'available_flashcards', \n",
    "            'start_practice', \n",
    "            'end_practice',\n",
    "            'days_offset']"
   ]
  },
  {
   "cell_type": "code",
   "execution_count": 6,
   "metadata": {
    "execution": {
     "iopub.execute_input": "2021-07-26T22:35:29.067784Z",
     "iopub.status.busy": "2021-07-26T22:35:29.067492Z",
     "iopub.status.idle": "2021-07-26T22:35:29.632902Z",
     "shell.execute_reply": "2021-07-26T22:35:29.631884Z",
     "shell.execute_reply.started": "2021-07-26T22:35:29.067754Z"
    },
    "id": "Mn341X7lSztl"
   },
   "outputs": [],
   "source": [
    "dataframe['available_flashcards'] = dataframe[\"day's_available_flashcards\"][:]\n",
    "dataframe = dataframe.drop([\"day's_available_flashcards\"], axis=1)\n",
    "dataframe['user_id'] = dataframe[\"user_id.x\"][:]\n",
    "dataframe = dataframe.drop([\"user_id.x\"], axis=1)"
   ]
  },
  {
   "cell_type": "code",
   "execution_count": 7,
   "metadata": {
    "execution": {
     "iopub.execute_input": "2021-07-26T22:35:29.634418Z",
     "iopub.status.busy": "2021-07-26T22:35:29.634126Z",
     "iopub.status.idle": "2021-07-26T22:35:29.800033Z",
     "shell.execute_reply": "2021-07-26T22:35:29.799076Z",
     "shell.execute_reply.started": "2021-07-26T22:35:29.634389Z"
    },
    "id": "-_BRggOjbBjN",
    "outputId": "42bff7db-08dd-48dc-a73a-d048508053b7"
   },
   "outputs": [
    {
     "data": {
      "text/plain": [
       "44"
      ]
     },
     "execution_count": 7,
     "metadata": {},
     "output_type": "execute_result"
    }
   ],
   "source": [
    "gc.collect()"
   ]
  },
  {
   "cell_type": "code",
   "execution_count": 8,
   "metadata": {
    "execution": {
     "iopub.execute_input": "2021-07-26T22:35:29.802300Z",
     "iopub.status.busy": "2021-07-26T22:35:29.802034Z",
     "iopub.status.idle": "2021-07-26T22:35:30.099124Z",
     "shell.execute_reply": "2021-07-26T22:35:30.098107Z",
     "shell.execute_reply.started": "2021-07-26T22:35:29.802274Z"
    },
    "id": "lXM7MlonVeRL",
    "outputId": "d29ccec0-522f-4e3c-e0b2-39b2e1eaef74"
   },
   "outputs": [
    {
     "data": {
      "text/plain": [
       "22"
      ]
     },
     "execution_count": 8,
     "metadata": {},
     "output_type": "execute_result"
    }
   ],
   "source": [
    "dataframe = dataframe[FEATURES]\n",
    "gc.collect()"
   ]
  },
  {
   "cell_type": "code",
   "execution_count": 9,
   "metadata": {
    "execution": {
     "iopub.execute_input": "2021-07-26T22:35:30.101049Z",
     "iopub.status.busy": "2021-07-26T22:35:30.100755Z",
     "iopub.status.idle": "2021-07-26T22:35:31.198551Z",
     "shell.execute_reply": "2021-07-26T22:35:31.197502Z",
     "shell.execute_reply.started": "2021-07-26T22:35:30.100998Z"
    },
    "id": "qRKqF_0IXZgj"
   },
   "outputs": [],
   "source": [
    "#label encode term, chapter_label, question_name, sub_chapter_label columns\n",
    "dataframe['term'] = dataframe['term'].astype('category')\n",
    "dataframe['user_id'] = dataframe['user_id'].astype(int)\n",
    "dataframe['user_id'] = dataframe['user_id'].astype(str)\n",
    "dataframe['user_id'] = dataframe['term'].str.cat(dataframe['user_id'], sep=':')\n",
    "dataframe['user_id'] = dataframe['user_id'].astype('category')\n",
    "dataframe['chapter_label'] = dataframe['chapter_label'].astype('category')\n",
    "dataframe['sub_chapter_label'] = dataframe['sub_chapter_label'].astype('category')\n",
    "dataframe['question_name'] = dataframe['question_name'].astype('category')\n"
   ]
  },
  {
   "cell_type": "code",
   "execution_count": 11,
   "metadata": {
    "execution": {
     "iopub.execute_input": "2021-07-26T22:39:14.520691Z",
     "iopub.status.busy": "2021-07-26T22:39:14.520352Z",
     "iopub.status.idle": "2021-07-26T22:39:14.901715Z",
     "shell.execute_reply": "2021-07-26T22:39:14.900865Z",
     "shell.execute_reply.started": "2021-07-26T22:39:14.520664Z"
    },
    "id": "eVl_067GWkDe"
   },
   "outputs": [],
   "source": [
    "#calculate time_lag and prev_time_elapsed\n",
    "dataframe['prev_time_elapsed'] = None\n",
    "dataframe['time_lag'] = None\n",
    "dataframe['time_lag'] = dataframe['time_lag'].astype(np.float)\n",
    "dataframe['prev_time_elapsed'] = dataframe['prev_time_elapsed'].astype(np.float)\n",
    "dataframe.start_practice = pd.to_datetime(dataframe.start_practice, format='%Y-%m-%d %H:%M:%S')\n",
    "dataframe.end_practice = pd.to_datetime(dataframe.end_practice, format='%Y-%m-%d %H:%M:%S')"
   ]
  },
  {
   "cell_type": "code",
   "execution_count": 12,
   "metadata": {
    "execution": {
     "iopub.execute_input": "2021-07-26T22:39:15.520600Z",
     "iopub.status.busy": "2021-07-26T22:39:15.520176Z",
     "iopub.status.idle": "2021-07-26T22:39:15.548559Z",
     "shell.execute_reply": "2021-07-26T22:39:15.547311Z",
     "shell.execute_reply.started": "2021-07-26T22:39:15.520567Z"
    }
   },
   "outputs": [],
   "source": [
    "dataframe['dif'] = dataframe.end_practice - dataframe.start_practice\n",
    "dataframe['dif'] = dataframe['dif'] /np.timedelta64(1, 's')\n",
    "dataframe['answer_correct'] = np.where((dataframe['q']==5) & (dataframe['dif'] <= 60), 1, 0)"
   ]
  },
  {
   "cell_type": "code",
   "execution_count": 14,
   "metadata": {
    "execution": {
     "iopub.execute_input": "2021-07-26T22:39:31.838934Z",
     "iopub.status.busy": "2021-07-26T22:39:31.838656Z",
     "iopub.status.idle": "2021-07-26T22:39:31.914141Z",
     "shell.execute_reply": "2021-07-26T22:39:31.913364Z",
     "shell.execute_reply.started": "2021-07-26T22:39:31.838907Z"
    },
    "id": "8t8yZ0XvWwzz"
   },
   "outputs": [],
   "source": [
    "#drop column end_practice\n",
    "dataframe.drop(columns=['end_practice'], inplace=True)"
   ]
  },
  {
   "cell_type": "code",
   "execution_count": 15,
   "metadata": {
    "execution": {
     "iopub.execute_input": "2021-07-26T22:39:31.915826Z",
     "iopub.status.busy": "2021-07-26T22:39:31.915400Z",
     "iopub.status.idle": "2021-07-26T22:39:32.214642Z",
     "shell.execute_reply": "2021-07-26T22:39:32.213597Z",
     "shell.execute_reply.started": "2021-07-26T22:39:31.915796Z"
    },
    "id": "E42raRIrYYXz"
   },
   "outputs": [],
   "source": [
    "# calculate the age feature\n",
    "dataframe['term_value'] = [int(ele[3:]) for ele in dataframe['term']]\n",
    "dataframe['age'] = dataframe['term_value'] - dataframe['birthYear']"
   ]
  },
  {
   "cell_type": "code",
   "execution_count": 16,
   "metadata": {
    "execution": {
     "iopub.execute_input": "2021-07-26T22:39:32.216580Z",
     "iopub.status.busy": "2021-07-26T22:39:32.216271Z",
     "iopub.status.idle": "2021-07-26T22:39:32.422759Z",
     "shell.execute_reply": "2021-07-26T22:39:32.421708Z",
     "shell.execute_reply.started": "2021-07-26T22:39:32.216548Z"
    },
    "id": "pcMVQXueYnMh"
   },
   "outputs": [],
   "source": [
    "# drop term_value and birthYear column\n",
    "dataframe.drop(columns=['term_value', 'birthYear'], inplace=True)"
   ]
  },
  {
   "cell_type": "code",
   "execution_count": 17,
   "metadata": {
    "execution": {
     "iopub.execute_input": "2021-07-26T22:39:32.424442Z",
     "iopub.status.busy": "2021-07-26T22:39:32.424135Z",
     "iopub.status.idle": "2021-07-26T22:39:32.725749Z",
     "shell.execute_reply": "2021-07-26T22:39:32.724874Z",
     "shell.execute_reply.started": "2021-07-26T22:39:32.424407Z"
    },
    "id": "hjRF5szkcQE0"
   },
   "outputs": [],
   "source": [
    "# convert minors_count to int value\n",
    "new_minors_count = []\n",
    "for i in dataframe['minorsCount']:\n",
    "  if i == 0 or i == '0':\n",
    "    new_minors_count.append(0)\n",
    "  elif i == '1 Minor':\n",
    "    new_minors_count.append(1)\n",
    "  else:\n",
    "    new_minors_count.append(2)\n",
    "\n",
    "dataframe['minorsCount'] = new_minors_count"
   ]
  },
  {
   "cell_type": "code",
   "execution_count": 18,
   "metadata": {
    "execution": {
     "iopub.execute_input": "2021-07-26T22:39:32.727814Z",
     "iopub.status.busy": "2021-07-26T22:39:32.727159Z",
     "iopub.status.idle": "2021-07-26T22:39:32.745680Z",
     "shell.execute_reply": "2021-07-26T22:39:32.744620Z",
     "shell.execute_reply.started": "2021-07-26T22:39:32.727767Z"
    },
    "id": "9VdzvJSw0KUU",
    "outputId": "6393784f-234e-4935-9cee-cbcf56b5630a"
   },
   "outputs": [
    {
     "name": "stdout",
     "output_type": "stream",
     "text": [
      "we have  1110  users in total.\n"
     ]
    }
   ],
   "source": [
    "print(\"we have \", dataframe['user_id'].nunique(),\" users in total.\")"
   ]
  },
  {
   "cell_type": "code",
   "execution_count": 19,
   "metadata": {
    "execution": {
     "iopub.execute_input": "2021-07-26T22:39:32.747844Z",
     "iopub.status.busy": "2021-07-26T22:39:32.747170Z",
     "iopub.status.idle": "2021-07-26T22:39:32.758696Z",
     "shell.execute_reply": "2021-07-26T22:39:32.757401Z",
     "shell.execute_reply.started": "2021-07-26T22:39:32.747796Z"
    },
    "id": "hUaGk9L9g13t"
   },
   "outputs": [],
   "source": [
    "for category in ['term','chapter_label', 'sub_chapter_label', 'question_name']:\n",
    "  dataframe[category] =  dataframe[category].cat.codes"
   ]
  },
  {
   "cell_type": "code",
   "execution_count": 20,
   "metadata": {
    "execution": {
     "iopub.execute_input": "2021-07-26T22:39:32.762303Z",
     "iopub.status.busy": "2021-07-26T22:39:32.761841Z",
     "iopub.status.idle": "2021-07-26T22:39:33.076803Z",
     "shell.execute_reply": "2021-07-26T22:39:33.075472Z",
     "shell.execute_reply.started": "2021-07-26T22:39:32.762263Z"
    },
    "id": "hkyvcYvlhliG"
   },
   "outputs": [],
   "source": [
    "NUMERIC_FEATURE =  ['age',\n",
    "            'exclClassCumGPA',\n",
    "            'termCreditsGPA',\n",
    "            'termCreditsNoGPA',\n",
    "            'highSchoolGPA', \n",
    "            'majorsCount', 'minorsCount',\n",
    "            'PREV_TERM_CUM_GPA',\n",
    "            'available_flashcards', \n",
    "            'days_offset', \n",
    "            'prev_time_elapsed',\n",
    "             'time_lag']\n",
    "# z-score normalize the numerical features\n",
    "for f in NUMERIC_FEATURE:\n",
    "  m = dataframe[f].mean()\n",
    "  std = dataframe[f].std()\n",
    "  dataframe[f] = (dataframe[f] - m)/std"
   ]
  },
  {
   "cell_type": "code",
   "execution_count": 21,
   "metadata": {
    "execution": {
     "iopub.execute_input": "2021-07-26T22:39:33.079421Z",
     "iopub.status.busy": "2021-07-26T22:39:33.078962Z",
     "iopub.status.idle": "2021-07-26T22:39:36.271112Z",
     "shell.execute_reply": "2021-07-26T22:39:36.269943Z",
     "shell.execute_reply.started": "2021-07-26T22:39:33.079365Z"
    },
    "id": "wo2OH-d5kWp1"
   },
   "outputs": [],
   "source": [
    "FEATURE_TRANS =  ['answer_correct', 'chapter_label', 'sub_chapter_label','question_name','user_id','term',\n",
    "                  'STDNT_SEX_CD', \n",
    "                    'White','Asian','NonWhiteOrAsian',\n",
    "            'STDNT_CTZN_STAT_CD', 'international', \n",
    "            'age',\n",
    "            'exclClassCumGPA',\n",
    "           'Freshman',\n",
    "            'Junior',\n",
    "            'Sophomore',\n",
    "            'Senior',\n",
    "            'termCreditsGPA',\n",
    "            'termCreditsNoGPA',\n",
    "            'athlete_1',\n",
    "            'honorsPro',\n",
    "            'LSA', 'programBusiness', 'programEngineering', \n",
    "            'programInformation', 'programOther',\n",
    "            'HSCalculusTaken', \n",
    "            'highSchoolGPA', \n",
    "            'majorsCount', 'minorsCount',\n",
    "            'PREV_TERM_CUM_GPA',\n",
    "            'classGraded', 'classHonors', \n",
    "            'Pass_Fail', \n",
    "            'parentsGraduateEdu',  'minorityGroup', \n",
    "            'available_flashcards', \n",
    "            'days_offset', 'prev_time_elapsed',\n",
    "             'time_lag']\n",
    "grouped_data = dataframe[FEATURE_TRANS].groupby(['user_id']).apply(lambda r: (\n",
    "                r['answer_correct'],\n",
    "                r['term'],\n",
    "                r['chapter_label'],\n",
    "                r['sub_chapter_label'],\n",
    "                r['question_name'],\n",
    "                np.array([r['STDNT_SEX_CD'],r['STDNT_CTZN_STAT_CD'], r['international'], \n",
    "                  r['White'],r['Asian'],r['NonWhiteOrAsian'],\n",
    "                 r['age'],r['exclClassCumGPA'],\n",
    "                r['Freshman'], r['Junior'], r['Sophomore'], r['Senior'],\n",
    "                r['termCreditsGPA'], r['termCreditsNoGPA'],\n",
    "                r['athlete_1'], r['honorsPro'],\n",
    "                r['LSA'], r['programBusiness'], r['programEngineering'], \n",
    "                r['programInformation'], r['programOther'],\n",
    "                r['HSCalculusTaken'],  r['highSchoolGPA'], \n",
    "                r['majorsCount'], r['minorsCount'],\n",
    "                r['PREV_TERM_CUM_GPA'], \n",
    "                r['parentsGraduateEdu'], r['minorityGroup'],\n",
    "                r['available_flashcards'],\n",
    "                r['days_offset'],\n",
    "                r['prev_time_elapsed'],\n",
    "                r['time_lag']\n",
    "              ]).transpose()\n",
    "                ))"
   ]
  },
  {
   "cell_type": "code",
   "execution_count": 22,
   "metadata": {
    "execution": {
     "iopub.execute_input": "2021-07-26T22:39:36.272624Z",
     "iopub.status.busy": "2021-07-26T22:39:36.272349Z",
     "iopub.status.idle": "2021-07-26T22:39:36.461945Z",
     "shell.execute_reply": "2021-07-26T22:39:36.460915Z",
     "shell.execute_reply.started": "2021-07-26T22:39:36.272597Z"
    },
    "id": "XXLqQnjrlp_4",
    "outputId": "c801da79-f0bf-4fe5-b19c-7c799fe01556"
   },
   "outputs": [
    {
     "data": {
      "text/plain": [
       "22"
      ]
     },
     "execution_count": 22,
     "metadata": {},
     "output_type": "execute_result"
    }
   ],
   "source": [
    "gc.collect()"
   ]
  },
  {
   "cell_type": "code",
   "execution_count": 23,
   "metadata": {
    "execution": {
     "iopub.execute_input": "2021-07-26T22:39:36.464336Z",
     "iopub.status.busy": "2021-07-26T22:39:36.463634Z",
     "iopub.status.idle": "2021-07-26T22:39:36.503353Z",
     "shell.execute_reply": "2021-07-26T22:39:36.502335Z",
     "shell.execute_reply.started": "2021-07-26T22:39:36.464289Z"
    },
    "id": "QYGQasdTrmP0"
   },
   "outputs": [],
   "source": [
    "# remove students who don't have make any interactions with the tool\n",
    "toRemove = []\n",
    "for index in grouped_data.index:\n",
    "  if len(grouped_data[index][0]) <= 10:\n",
    "    toRemove.append(index)\n",
    "grouped_data = grouped_data.drop(index=toRemove)"
   ]
  },
  {
   "cell_type": "code",
   "execution_count": 24,
   "metadata": {
    "execution": {
     "iopub.execute_input": "2021-07-26T22:39:36.504829Z",
     "iopub.status.busy": "2021-07-26T22:39:36.504554Z",
     "iopub.status.idle": "2021-07-26T22:39:36.509136Z",
     "shell.execute_reply": "2021-07-26T22:39:36.508130Z",
     "shell.execute_reply.started": "2021-07-26T22:39:36.504803Z"
    },
    "id": "9kZqV9siDyNb"
   },
   "outputs": [],
   "source": [
    "#SETTINGS -> can be modified at any time\n",
    "MAXLENGTH = 100\n",
    "EMBEDDING_DIM = 128\n",
    "DENSE_NEURON = 16\n",
    "RNN_NEURON = 32"
   ]
  },
  {
   "cell_type": "code",
   "execution_count": 25,
   "metadata": {
    "execution": {
     "iopub.execute_input": "2021-07-26T22:39:36.511040Z",
     "iopub.status.busy": "2021-07-26T22:39:36.510621Z",
     "iopub.status.idle": "2021-07-26T22:39:36.521161Z",
     "shell.execute_reply": "2021-07-26T22:39:36.519971Z",
     "shell.execute_reply.started": "2021-07-26T22:39:36.510981Z"
    },
    "id": "1MksD1JizpPn"
   },
   "outputs": [],
   "source": [
    "#FEATURES_SIZE = 38\n",
    "CHAPTER_SIZE = 38\n",
    "SUB_CHAPTER_SIZE = 223\n",
    "QUESTION_SIZE = 1069"
   ]
  },
  {
   "cell_type": "code",
   "execution_count": 26,
   "metadata": {
    "execution": {
     "iopub.execute_input": "2021-07-26T22:39:36.523256Z",
     "iopub.status.busy": "2021-07-26T22:39:36.522807Z",
     "iopub.status.idle": "2021-07-26T22:39:36.541685Z",
     "shell.execute_reply": "2021-07-26T22:39:36.540268Z",
     "shell.execute_reply.started": "2021-07-26T22:39:36.523211Z"
    }
   },
   "outputs": [
    {
     "data": {
      "text/plain": [
       "array([ 96,  86,  88,  28,  12,  82, 125,  32,  69,  33,  21, 115, 120,\n",
       "       119,  91,  73,  57,  77, 117,  40,  74,  41,  68,  39,  92,  47,\n",
       "       104,  95,  53,  49,  50,  16,  52,  55,   7,  15,  51, 102, 103,\n",
       "        11,  94, 108, 100,  17,  67,  63,  13, 139,  26,  25,   8, 107,\n",
       "         0,  90,  48,  54, 138,   1,   2,   3,  34,  35,  85,   5,  24,\n",
       "        37,  36,  78,  70,  45, 142,  71,  10,  89, 111, 112, 109, 116,\n",
       "        76,  72, 148, 134, 146, 221, 143,  56,  60,  61,  23, 140, 106,\n",
       "        42,  83,  22, 145, 136, 144,  38,   4,  19, 137,  75,  43,  98,\n",
       "        84, 113, 173, 174, 175, 176, 177, 178, 180, 181, 182, 187, 189,\n",
       "       190, 191, 192, 193, 195, 197, 151, 152, 153, 156, 157, 158, 159,\n",
       "       160, 161, 163, 164, 165, 166, 167, 168, 169, 170, 171, 172, 198,\n",
       "       199, 200, 201, 202, 203, 204, 205, 206, 207, 208, 209, 210, 162,\n",
       "       179, 186, 188, 194, 183, 184, 185, 211, 212, 213, 154, 155, 196,\n",
       "         6, 118,  18, 215,  46, 216, 141,  27, 217, 105, 123, 218, 101,\n",
       "       124, 219, 122, 220,  58,  59,  64,  20,  93,  65,  66,   9,  44,\n",
       "        30,  14,  79, 121,  31, 110, 129,  87,  97,  62, 149, 132, 131,\n",
       "       150, 130, 128,  99, 147, 127, 214, 135,  80, 126, 133,  81, 114,\n",
       "        29], dtype=int16)"
      ]
     },
     "execution_count": 26,
     "metadata": {},
     "output_type": "execute_result"
    }
   ],
   "source": [
    "dataframe['sub_chapter_label'].unique()"
   ]
  },
  {
   "cell_type": "code",
   "execution_count": 27,
   "metadata": {
    "execution": {
     "iopub.execute_input": "2021-07-26T22:39:36.543442Z",
     "iopub.status.busy": "2021-07-26T22:39:36.543144Z",
     "iopub.status.idle": "2021-07-26T22:39:37.630002Z",
     "shell.execute_reply": "2021-07-26T22:39:37.628961Z",
     "shell.execute_reply.started": "2021-07-26T22:39:36.543415Z"
    },
    "id": "mY3Thp6d0NaT"
   },
   "outputs": [],
   "source": [
    "#create dataset class\n",
    "#to prepare it for train, valid, and test sets\n",
    "from torch.utils.data import Dataset, DataLoader\n",
    "class SPACE_DATASET(Dataset):\n",
    "    def __init__(self, data, maxlength = 100):\n",
    "        super(SPACE_DATASET, self).__init__()\n",
    "        self.maxlength = maxlength\n",
    "        self.data = data\n",
    "        self.users = list()\n",
    "        for user in data.index:\n",
    "            self.users.append(user)\n",
    "\n",
    "    def __len__(self):\n",
    "        return len(self.users)\n",
    "    \n",
    "    def __getitem__(self, ix):\n",
    "        user = self.users[ix]\n",
    "        user = user\n",
    "        target, term, ch_label, sub_ch_label, ques_name, features = self.data[user]\n",
    "        \n",
    "        #0s should be used as padding values\n",
    "        ori_target = target.values \n",
    "        term = term.values\n",
    "        ch_label = ch_label.values + 1\n",
    "        sub_ch_label = sub_ch_label.values +1\n",
    "        ques_name = ques_name.values + 1\n",
    "        \n",
    "        n = len(ch_label)\n",
    "\n",
    "        # one hot for term\n",
    "        term_encode = [0]*7\n",
    "        term_encode[term[0]] = 1\n",
    "        shifted_target= []\n",
    "\n",
    "        \n",
    "        # get  user interaction informations in the previous MAXLEN interactions\n",
    "        if n > self.maxlength:\n",
    "          ch_label = ch_label[-self.maxlength:]\n",
    "          sub_ch_label = sub_ch_label[-self.maxlength:]\n",
    "          ques_name = ques_name[-self.maxlength:]\n",
    "          features = features[-self.maxlength:]\n",
    "          target = ori_target[-self.maxlength:]\n",
    "          shifted_target = ori_target[ (-self.maxlength - 1) :-1]\n",
    "        else:\n",
    "          ch_label = [0]*(self.maxlength - n)+list(ch_label[:])\n",
    "          sub_ch_label = [0]*(self.maxlength - n)+list(sub_ch_label[:])\n",
    "          ques_name = [0]*(self.maxlength - n)+list(ques_name[:])\n",
    "          features = [[0]*len(features[0])]*(self.maxlength  - n)+list(features[:])\n",
    "          target = [-1]*(self.maxlength - n) + list(ori_target[:])\n",
    "          shifted_target = [-1]*(self.maxlength + 1 - n) + list(ori_target[:-1])\n",
    "\n",
    "        new_features = []\n",
    "        count = 0\n",
    "        for f in features:\n",
    "          temp = list(f)\n",
    "          temp.extend(term_encode)\n",
    "          # temp.append(shifted_target[count]) #uncomment this line for include previous response feature\n",
    "          new_features.append(temp)\n",
    "          count += 1\n",
    "        features = new_features\n",
    "        return ch_label,sub_ch_label,ques_name,target"
   ]
  },
  {
   "cell_type": "code",
   "execution_count": 28,
   "metadata": {
    "execution": {
     "iopub.execute_input": "2021-07-26T22:39:37.631534Z",
     "iopub.status.busy": "2021-07-26T22:39:37.631262Z",
     "iopub.status.idle": "2021-07-26T22:39:37.640323Z",
     "shell.execute_reply": "2021-07-26T22:39:37.639370Z",
     "shell.execute_reply.started": "2021-07-26T22:39:37.631508Z"
    }
   },
   "outputs": [
    {
     "data": {
      "text/plain": [
       "223"
      ]
     },
     "execution_count": 28,
     "metadata": {},
     "output_type": "execute_result"
    }
   ],
   "source": [
    "SUB_CHAPTER_SIZE"
   ]
  },
  {
   "cell_type": "markdown",
   "metadata": {
    "id": "4xc90-aLzxat"
   },
   "source": [
    "## KFOLD - GRU\n"
   ]
  },
  {
   "cell_type": "code",
   "execution_count": 29,
   "metadata": {
    "execution": {
     "iopub.execute_input": "2021-07-26T22:39:37.642239Z",
     "iopub.status.busy": "2021-07-26T22:39:37.641936Z",
     "iopub.status.idle": "2021-07-26T22:41:31.381158Z",
     "shell.execute_reply": "2021-07-26T22:41:31.380093Z",
     "shell.execute_reply.started": "2021-07-26T22:39:37.642212Z"
    },
    "id": "gzJrljnjzypP",
    "outputId": "87abe488-b493-4f8f-9d71-45cb1d2ddf51"
   },
   "outputs": [
    {
     "name": "stdout",
     "output_type": "stream",
     "text": [
      "Epoch 1/100\n",
      "14/14 [==============================] - 6s 172ms/step - loss: 0.6200 - masked_acc: 0.5749 - masked_auc: 0.5062 - val_loss: 0.5502 - val_masked_acc: 0.7126 - val_masked_auc: 0.5840\n",
      "Epoch 2/100\n",
      "14/14 [==============================] - 1s 94ms/step - loss: 0.4824 - masked_acc: 0.7182 - masked_auc: 0.6278 - val_loss: 0.5208 - val_masked_acc: 0.7278 - val_masked_auc: 0.6912\n",
      "Epoch 3/100\n",
      "14/14 [==============================] - 1s 96ms/step - loss: 0.4438 - masked_acc: 0.7330 - masked_auc: 0.7079 - val_loss: 0.5108 - val_masked_acc: 0.7420 - val_masked_auc: 0.7336\n",
      "Epoch 4/100\n",
      "14/14 [==============================] - 1s 96ms/step - loss: 0.4322 - masked_acc: 0.7449 - masked_auc: 0.7419 - val_loss: 0.5349 - val_masked_acc: 0.7506 - val_masked_auc: 0.7569\n",
      "Epoch 5/100\n",
      "14/14 [==============================] - 1s 93ms/step - loss: 0.4134 - masked_acc: 0.7529 - masked_auc: 0.7630 - val_loss: 0.5443 - val_masked_acc: 0.7575 - val_masked_auc: 0.7735\n",
      "Epoch 6/100\n",
      "14/14 [==============================] - 1s 95ms/step - loss: 0.4006 - masked_acc: 0.7593 - masked_auc: 0.7781 - val_loss: 0.5785 - val_masked_acc: 0.7631 - val_masked_auc: 0.7866\n",
      "Epoch 7/100\n",
      "14/14 [==============================] - 1s 96ms/step - loss: 0.3802 - masked_acc: 0.7650 - masked_auc: 0.7908 - val_loss: 0.5748 - val_masked_acc: 0.7685 - val_masked_auc: 0.7978\n",
      "Epoch 8/100\n",
      "14/14 [==============================] - 1s 93ms/step - loss: 0.3670 - masked_acc: 0.7703 - masked_auc: 0.8015 - val_loss: 0.6152 - val_masked_acc: 0.7735 - val_masked_auc: 0.8074\n",
      "Epoch 9/100\n",
      "14/14 [==============================] - 1s 96ms/step - loss: 0.3485 - masked_acc: 0.7751 - masked_auc: 0.8106 - val_loss: 0.6246 - val_masked_acc: 0.7780 - val_masked_auc: 0.8158\n",
      "Epoch 10/100\n",
      "14/14 [==============================] - 1s 92ms/step - loss: 0.3442 - masked_acc: 0.7795 - masked_auc: 0.8186 - val_loss: 0.6835 - val_masked_acc: 0.7822 - val_masked_auc: 0.8230\n",
      "Epoch 11/100\n",
      "14/14 [==============================] - 1s 91ms/step - loss: 0.3312 - masked_acc: 0.7835 - masked_auc: 0.8255 - val_loss: 0.7512 - val_masked_acc: 0.7860 - val_masked_auc: 0.8292\n",
      "Epoch 12/100\n",
      "14/14 [==============================] - 1s 94ms/step - loss: 0.3174 - masked_acc: 0.7874 - masked_auc: 0.8314 - val_loss: 0.8058 - val_masked_acc: 0.7896 - val_masked_auc: 0.8349\n",
      "Epoch 13/100\n",
      "14/14 [==============================] - 1s 91ms/step - loss: 0.3084 - masked_acc: 0.7909 - masked_auc: 0.8369 - val_loss: 0.8528 - val_masked_acc: 0.7934 - val_masked_auc: 0.8404\n",
      "28/28 [==============================] - 1s 19ms/step - loss: 0.2897 - masked_acc: 0.7958 - masked_auc: 0.8440\n",
      "4/4 [==============================] - 0s 17ms/step - loss: 0.6602 - masked_acc: 0.7973 - masked_auc: 0.8464\n",
      "Test:  [0.6601922512054443, 0.797263503074646, 0.8464450240135193]\n",
      "Epoch 1/100\n",
      "14/14 [==============================] - 6s 171ms/step - loss: 0.6111 - masked_acc: 0.6975 - masked_auc: 0.5232 - val_loss: 0.5196 - val_masked_acc: 0.7337 - val_masked_auc: 0.5987\n",
      "Epoch 2/100\n",
      "14/14 [==============================] - 1s 96ms/step - loss: 0.4894 - masked_acc: 0.7341 - masked_auc: 0.6381 - val_loss: 0.4862 - val_masked_acc: 0.7392 - val_masked_auc: 0.6970\n",
      "Epoch 3/100\n",
      "14/14 [==============================] - 1s 98ms/step - loss: 0.4470 - masked_acc: 0.7432 - masked_auc: 0.7137 - val_loss: 0.4886 - val_masked_acc: 0.7502 - val_masked_auc: 0.7393\n",
      "Epoch 4/100\n",
      "14/14 [==============================] - 1s 97ms/step - loss: 0.4288 - masked_acc: 0.7529 - masked_auc: 0.7491 - val_loss: 0.4980 - val_masked_acc: 0.7581 - val_masked_auc: 0.7639\n",
      "Epoch 5/100\n",
      "14/14 [==============================] - 1s 95ms/step - loss: 0.4079 - masked_acc: 0.7602 - masked_auc: 0.7705 - val_loss: 0.5181 - val_masked_acc: 0.7649 - val_masked_auc: 0.7821\n",
      "Epoch 6/100\n",
      "14/14 [==============================] - 1s 94ms/step - loss: 0.3808 - masked_acc: 0.7672 - masked_auc: 0.7875 - val_loss: 0.5391 - val_masked_acc: 0.7710 - val_masked_auc: 0.7960\n",
      "Epoch 7/100\n",
      "14/14 [==============================] - 1s 95ms/step - loss: 0.3660 - masked_acc: 0.7731 - masked_auc: 0.8003 - val_loss: 0.5584 - val_masked_acc: 0.7763 - val_masked_auc: 0.8072\n",
      "Epoch 8/100\n",
      "14/14 [==============================] - 1s 97ms/step - loss: 0.3544 - masked_acc: 0.7781 - masked_auc: 0.8109 - val_loss: 0.5873 - val_masked_acc: 0.7813 - val_masked_auc: 0.8167\n",
      "Epoch 9/100\n",
      "14/14 [==============================] - 1s 96ms/step - loss: 0.3379 - masked_acc: 0.7830 - masked_auc: 0.8200 - val_loss: 0.5901 - val_masked_acc: 0.7857 - val_masked_auc: 0.8250\n",
      "Epoch 10/100\n",
      "14/14 [==============================] - 1s 95ms/step - loss: 0.3329 - masked_acc: 0.7872 - masked_auc: 0.8276 - val_loss: 0.6493 - val_masked_acc: 0.7899 - val_masked_auc: 0.8321\n",
      "Epoch 11/100\n",
      "14/14 [==============================] - 1s 94ms/step - loss: 0.3182 - masked_acc: 0.7914 - masked_auc: 0.8346 - val_loss: 0.6865 - val_masked_acc: 0.7941 - val_masked_auc: 0.8386\n",
      "Epoch 12/100\n",
      "14/14 [==============================] - 1s 93ms/step - loss: 0.3070 - masked_acc: 0.7955 - masked_auc: 0.8410 - val_loss: 0.6920 - val_masked_acc: 0.7977 - val_masked_auc: 0.8443\n",
      "28/28 [==============================] - 1s 19ms/step - loss: 0.2928 - masked_acc: 0.8003 - masked_auc: 0.8482\n",
      "4/4 [==============================] - 0s 18ms/step - loss: 0.5904 - masked_acc: 0.8018 - masked_auc: 0.8506\n",
      "Test:  [0.5904126763343811, 0.8017513751983643, 0.8506028652191162]\n",
      "Epoch 1/100\n",
      "14/14 [==============================] - 6s 169ms/step - loss: 0.6135 - masked_acc: 0.6257 - masked_auc: 0.5233 - val_loss: 0.5187 - val_masked_acc: 0.7214 - val_masked_auc: 0.6005\n",
      "Epoch 2/100\n",
      "14/14 [==============================] - 1s 94ms/step - loss: 0.4842 - masked_acc: 0.7264 - masked_auc: 0.6402 - val_loss: 0.4771 - val_masked_acc: 0.7373 - val_masked_auc: 0.6990\n",
      "Epoch 3/100\n",
      "14/14 [==============================] - 1s 90ms/step - loss: 0.4550 - masked_acc: 0.7411 - masked_auc: 0.7141 - val_loss: 0.4704 - val_masked_acc: 0.7489 - val_masked_auc: 0.7390\n",
      "Epoch 4/100\n",
      "14/14 [==============================] - 1s 91ms/step - loss: 0.4325 - masked_acc: 0.7516 - masked_auc: 0.7475 - val_loss: 0.4816 - val_masked_acc: 0.7567 - val_masked_auc: 0.7619\n",
      "Epoch 5/100\n",
      "14/14 [==============================] - 1s 92ms/step - loss: 0.4144 - masked_acc: 0.7591 - masked_auc: 0.7683 - val_loss: 0.4853 - val_masked_acc: 0.7631 - val_masked_auc: 0.7785\n",
      "Epoch 6/100\n",
      "14/14 [==============================] - 1s 97ms/step - loss: 0.4008 - masked_acc: 0.7649 - masked_auc: 0.7835 - val_loss: 0.4986 - val_masked_acc: 0.7685 - val_masked_auc: 0.7918\n",
      "Epoch 7/100\n",
      "14/14 [==============================] - 1s 100ms/step - loss: 0.3807 - masked_acc: 0.7703 - masked_auc: 0.7960 - val_loss: 0.5063 - val_masked_acc: 0.7733 - val_masked_auc: 0.8027\n",
      "Epoch 8/100\n",
      "14/14 [==============================] - 1s 92ms/step - loss: 0.3677 - masked_acc: 0.7751 - masked_auc: 0.8063 - val_loss: 0.5240 - val_masked_acc: 0.7780 - val_masked_auc: 0.8122\n",
      "Epoch 9/100\n",
      "14/14 [==============================] - 1s 94ms/step - loss: 0.3571 - masked_acc: 0.7795 - masked_auc: 0.8153 - val_loss: 0.5499 - val_masked_acc: 0.7823 - val_masked_auc: 0.8203\n",
      "Epoch 10/100\n",
      "14/14 [==============================] - 1s 92ms/step - loss: 0.3424 - masked_acc: 0.7838 - masked_auc: 0.8230 - val_loss: 0.5784 - val_masked_acc: 0.7864 - val_masked_auc: 0.8276\n",
      "Epoch 11/100\n",
      "14/14 [==============================] - 1s 93ms/step - loss: 0.3319 - masked_acc: 0.7877 - masked_auc: 0.8299 - val_loss: 0.5881 - val_masked_acc: 0.7900 - val_masked_auc: 0.8339\n",
      "Epoch 12/100\n",
      "14/14 [==============================] - 1s 94ms/step - loss: 0.3250 - masked_acc: 0.7912 - masked_auc: 0.8361 - val_loss: 0.6218 - val_masked_acc: 0.7935 - val_masked_auc: 0.8397\n",
      "Epoch 13/100\n",
      "14/14 [==============================] - 1s 93ms/step - loss: 0.3113 - masked_acc: 0.7948 - masked_auc: 0.8418 - val_loss: 0.6607 - val_masked_acc: 0.7970 - val_masked_auc: 0.8451\n",
      "28/28 [==============================] - 1s 20ms/step - loss: 0.2868 - masked_acc: 0.7995 - masked_auc: 0.8489\n",
      "4/4 [==============================] - 1s 18ms/step - loss: 0.6508 - masked_acc: 0.8008 - masked_auc: 0.8510\n",
      "Test:  [0.6508218050003052, 0.8008237481117249, 0.8510072231292725]\n",
      "Epoch 1/100\n",
      "14/14 [==============================] - 6s 164ms/step - loss: 0.6011 - masked_acc: 0.6115 - masked_auc: 0.5272 - val_loss: 0.4998 - val_masked_acc: 0.7211 - val_masked_auc: 0.6404\n",
      "Epoch 2/100\n",
      "14/14 [==============================] - 1s 93ms/step - loss: 0.4786 - masked_acc: 0.7236 - masked_auc: 0.6741 - val_loss: 0.4804 - val_masked_acc: 0.7355 - val_masked_auc: 0.7217\n",
      "Epoch 3/100\n",
      "14/14 [==============================] - 1s 95ms/step - loss: 0.4484 - masked_acc: 0.7394 - masked_auc: 0.7347 - val_loss: 0.4809 - val_masked_acc: 0.7481 - val_masked_auc: 0.7555\n",
      "Epoch 4/100\n",
      "14/14 [==============================] - 1s 94ms/step - loss: 0.4213 - masked_acc: 0.7512 - masked_auc: 0.7632 - val_loss: 0.4934 - val_masked_acc: 0.7572 - val_masked_auc: 0.7759\n",
      "Epoch 5/100\n",
      "14/14 [==============================] - 1s 94ms/step - loss: 0.4119 - masked_acc: 0.7593 - masked_auc: 0.7811 - val_loss: 0.5072 - val_masked_acc: 0.7641 - val_masked_auc: 0.7904\n",
      "Epoch 6/100\n",
      "14/14 [==============================] - 1s 95ms/step - loss: 0.3824 - masked_acc: 0.7665 - masked_auc: 0.7951 - val_loss: 0.5211 - val_masked_acc: 0.7706 - val_masked_auc: 0.8028\n",
      "Epoch 7/100\n",
      "14/14 [==============================] - 1s 97ms/step - loss: 0.3699 - masked_acc: 0.7725 - masked_auc: 0.8066 - val_loss: 0.5337 - val_masked_acc: 0.7763 - val_masked_auc: 0.8132\n",
      "Epoch 8/100\n",
      "14/14 [==============================] - 1s 93ms/step - loss: 0.3587 - masked_acc: 0.7780 - masked_auc: 0.8165 - val_loss: 0.5577 - val_masked_acc: 0.7811 - val_masked_auc: 0.8215\n",
      "Epoch 9/100\n",
      "14/14 [==============================] - 1s 98ms/step - loss: 0.3408 - masked_acc: 0.7828 - masked_auc: 0.8243 - val_loss: 0.6004 - val_masked_acc: 0.7857 - val_masked_auc: 0.8290\n",
      "Epoch 10/100\n",
      "14/14 [==============================] - 1s 97ms/step - loss: 0.3290 - masked_acc: 0.7873 - masked_auc: 0.8314 - val_loss: 0.6263 - val_masked_acc: 0.7903 - val_masked_auc: 0.8360\n",
      "Epoch 11/100\n",
      "14/14 [==============================] - 1s 96ms/step - loss: 0.3125 - masked_acc: 0.7917 - masked_auc: 0.8382 - val_loss: 0.6629 - val_masked_acc: 0.7943 - val_masked_auc: 0.8422\n",
      "Epoch 12/100\n",
      "14/14 [==============================] - 1s 94ms/step - loss: 0.2990 - masked_acc: 0.7957 - masked_auc: 0.8444 - val_loss: 0.6814 - val_masked_acc: 0.7980 - val_masked_auc: 0.8477\n",
      "28/28 [==============================] - 1s 24ms/step - loss: 0.2857 - masked_acc: 0.8006 - masked_auc: 0.8515\n",
      "4/4 [==============================] - 0s 20ms/step - loss: 0.6464 - masked_acc: 0.8023 - masked_auc: 0.8538\n",
      "Test:  [0.6463908553123474, 0.802250862121582, 0.8538009524345398]\n",
      "Epoch 1/100\n",
      "14/14 [==============================] - 5s 165ms/step - loss: 0.6393 - masked_acc: 0.6272 - masked_auc: 0.5151 - val_loss: 0.5003 - val_masked_acc: 0.7235 - val_masked_auc: 0.6101\n",
      "Epoch 2/100\n",
      "14/14 [==============================] - 1s 95ms/step - loss: 0.4737 - masked_acc: 0.7308 - masked_auc: 0.6518 - val_loss: 0.4753 - val_masked_acc: 0.7434 - val_masked_auc: 0.7085\n",
      "Epoch 3/100\n",
      "14/14 [==============================] - 1s 95ms/step - loss: 0.4323 - masked_acc: 0.7483 - masked_auc: 0.7254 - val_loss: 0.4931 - val_masked_acc: 0.7553 - val_masked_auc: 0.7486\n",
      "Epoch 4/100\n",
      "14/14 [==============================] - 1s 94ms/step - loss: 0.4160 - masked_acc: 0.7582 - masked_auc: 0.7576 - val_loss: 0.5128 - val_masked_acc: 0.7636 - val_masked_auc: 0.7727\n",
      "Epoch 5/100\n",
      "14/14 [==============================] - 1s 92ms/step - loss: 0.3909 - masked_acc: 0.7662 - masked_auc: 0.7797 - val_loss: 0.5449 - val_masked_acc: 0.7711 - val_masked_auc: 0.7904\n",
      "Epoch 6/100\n",
      "14/14 [==============================] - 1s 96ms/step - loss: 0.3687 - masked_acc: 0.7734 - masked_auc: 0.7958 - val_loss: 0.5548 - val_masked_acc: 0.7774 - val_masked_auc: 0.8039\n",
      "Epoch 7/100\n",
      "14/14 [==============================] - 1s 99ms/step - loss: 0.3571 - masked_acc: 0.7792 - masked_auc: 0.8085 - val_loss: 0.5773 - val_masked_acc: 0.7826 - val_masked_auc: 0.8150\n",
      "Epoch 8/100\n",
      "14/14 [==============================] - 1s 96ms/step - loss: 0.3471 - masked_acc: 0.7843 - masked_auc: 0.8185 - val_loss: 0.5909 - val_masked_acc: 0.7871 - val_masked_auc: 0.8238\n",
      "Epoch 9/100\n",
      "14/14 [==============================] - 1s 95ms/step - loss: 0.3415 - masked_acc: 0.7886 - masked_auc: 0.8268 - val_loss: 0.6336 - val_masked_acc: 0.7913 - val_masked_auc: 0.8312\n",
      "Epoch 10/100\n",
      "14/14 [==============================] - 1s 95ms/step - loss: 0.3318 - masked_acc: 0.7925 - masked_auc: 0.8335 - val_loss: 0.6875 - val_masked_acc: 0.7948 - val_masked_auc: 0.8374\n",
      "Epoch 11/100\n",
      "14/14 [==============================] - 1s 94ms/step - loss: 0.3165 - masked_acc: 0.7961 - masked_auc: 0.8398 - val_loss: 0.7240 - val_masked_acc: 0.7984 - val_masked_auc: 0.8432\n",
      "Epoch 12/100\n",
      "14/14 [==============================] - 1s 92ms/step - loss: 0.3078 - masked_acc: 0.7995 - masked_auc: 0.8452 - val_loss: 0.7327 - val_masked_acc: 0.8018 - val_masked_auc: 0.8484\n",
      "28/28 [==============================] - 1s 19ms/step - loss: 0.2866 - masked_acc: 0.8044 - masked_auc: 0.8523\n",
      "4/4 [==============================] - 1s 19ms/step - loss: 0.6197 - masked_acc: 0.8058 - masked_auc: 0.8545\n",
      "Test:  [0.6197023987770081, 0.8057737946510315, 0.8544984459877014]\n"
     ]
    }
   ],
   "source": [
    "# 5 fold cross validation\n",
    "#HERE WE ONLY USE\n",
    "#CHAPTER, SUB_CHAPTER\n",
    "#QUESTION\n",
    "import torch\n",
    "X = np.array(grouped_data.keys())\n",
    "kfold = KFold(n_splits=5, shuffle=True)\n",
    "train_losses = list()\n",
    "train_aucs = list()\n",
    "val_losses = list()\n",
    "val_aucs = list()\n",
    "train_eval = list()\n",
    "test_eval = list()\n",
    "for train, test in kfold.split(X):\n",
    "    users_train, users_test =  X[train], X[test]\n",
    "    n = len(users_test)//2\n",
    "    users_test, users_val = users_test[:n], users_test[n: ]\n",
    "    train_data_space = SPACE_DATASET(grouped_data[users_train], MAXLENGTH)\n",
    "    val_data_space = SPACE_DATASET(grouped_data[users_val], MAXLENGTH)\n",
    "    test_data_space = SPACE_DATASET(grouped_data[users_test], MAXLENGTH)\n",
    "    #construct training input\n",
    "    train_chapter=[]\n",
    "    train_sub_chapter=[]\n",
    "    train_question = []\n",
    "    train_features=[]\n",
    "    train_labels=[]\n",
    "    for i in range(len(users_train)):\n",
    "        user = train_data_space.__getitem__(i)\n",
    "        train_chapter.append(user[0])\n",
    "        train_sub_chapter.append(user[1]) \n",
    "        train_question.append(user[2])\n",
    "        #train_features.append(user[3])\n",
    "        train_labels.append(user[3])\n",
    "    train_chapter = np.array(train_chapter)\n",
    "    train_sub_chapter = np.array(train_sub_chapter)\n",
    "    train_question = np.array(train_question)\n",
    "    #train_features = np.array(train_features)\n",
    "    train_labels= np.array(train_labels)[..., np.newaxis]\n",
    "\n",
    "    #construct validation input\n",
    "    val_chapter=[]\n",
    "    val_sub_chapter=[]\n",
    "    val_question = []\n",
    "    #val_features=[]\n",
    "    val_labels=[]\n",
    "    for i in range(len(users_val)):\n",
    "        user = val_data_space.__getitem__(i)\n",
    "        val_chapter.append(user[0])\n",
    "        val_sub_chapter.append(user[1]) \n",
    "        val_question.append(user[2])\n",
    "        #val_features.append(user[3])\n",
    "        val_labels.append(user[3])\n",
    "    val_chapter = np.array(val_chapter)\n",
    "    val_sub_chapter = np.array(val_sub_chapter)\n",
    "    #val_features = np.array(val_features)\n",
    "    val_question = np.array(val_question)\n",
    "    val_labels= np.array(val_labels)[..., np.newaxis]\n",
    "\n",
    "    # construct test input\n",
    "    test_chapter=[]\n",
    "    test_sub_chapter=[]\n",
    "    #test_features=[]\n",
    "    test_question=[]\n",
    "    test_labels=[]\n",
    "    for i in range(len(users_test)):\n",
    "        user = test_data_space.__getitem__(i)\n",
    "        test_chapter.append(user[0])\n",
    "        test_sub_chapter.append(user[1]) \n",
    "        test_question.append(user[2])\n",
    "        #test_features.append(user[3])\n",
    "        test_labels.append(user[3])\n",
    "    test_chapter = np.array(test_chapter)\n",
    "    test_sub_chapter = np.array(test_sub_chapter)\n",
    "    #test_features = np.array(test_features)\n",
    "    test_question = np.array(test_question)\n",
    "    test_labels= np.array(test_labels)[..., np.newaxis]\n",
    "\n",
    "    # define loss function and evaluation metrics\n",
    "    bce = tf.keras.losses.BinaryCrossentropy(from_logits=True)\n",
    "    acc = tf.keras.metrics.Accuracy()\n",
    "    auc = tf.keras.metrics.AUC()\n",
    "\n",
    "    def masked_bce(y_true, y_pred):\n",
    "      flat_pred = y_pred\n",
    "      flat_ground_truth = y_true\n",
    "      label_mask = tf.math.not_equal(flat_ground_truth, -1)\n",
    "      return bce(flat_ground_truth, flat_pred, sample_weight=label_mask)\n",
    "\n",
    "    def masked_acc(y_true, y_pred):\n",
    "      flat_pred = y_pred\n",
    "      flat_ground_truth = y_true\n",
    "      flat_pred = (flat_pred >= 0.5)\n",
    "      label_mask = tf.math.not_equal(flat_ground_truth, -1)\n",
    "      return acc(flat_ground_truth, flat_pred, sample_weight=label_mask)\n",
    "\n",
    "    def masked_auc(y_true, y_pred):\n",
    "      flat_pred = y_pred\n",
    "      flat_ground_truth = y_true\n",
    "      label_mask = tf.math.not_equal(flat_ground_truth, -1)\n",
    "      return auc(flat_ground_truth, flat_pred, sample_weight=label_mask)\n",
    "\n",
    "    # input layer\n",
    "    input_chap = tf.keras.Input(shape=(MAXLENGTH))\n",
    "    input_sub_chap = tf.keras.Input(shape=(MAXLENGTH))\n",
    "    input_ques =  tf.keras.Input(shape=(MAXLENGTH))\n",
    "    #input_features = tf.keras.Input(shape=(MAXLENGTH, FEATURES_SIZE))\n",
    "\n",
    "    # embedding layer for categorical features\n",
    "    embedding_chap = Embedding(input_dim = CHAPTER_SIZE, output_dim = EMBEDDING_DIM)(input_chap)\n",
    "    embedding_sub_chap = Embedding(input_dim = SUB_CHAPTER_SIZE, output_dim = EMBEDDING_DIM)(input_sub_chap) \n",
    "    embedding_ques = Embedding(input_dim = QUESTION_SIZE, output_dim = EMBEDDING_DIM)(input_ques)       \n",
    "\n",
    "    # dense layer for numeric features\n",
    "    #dense_features = Dense(EMBEDDING_DIM,input_shape = (None, MAXLENGTH))(input_features)\n",
    "\n",
    "    # definr lstm layers\n",
    "    rnn_chap = SimpleRNN(RNN_NEURON, input_shape = (None, EMBEDDING_DIM),return_sequences = True)(embedding_chap)\n",
    "    rnn_sub_chap = SimpleRNN(RNN_NEURON, input_shape = (None, EMBEDDING_DIM),return_sequences = True)(embedding_sub_chap)\n",
    "    rnn_ques = SimpleRNN(RNN_NEURON, input_shape = (None, EMBEDDING_DIM),return_sequences = True)(embedding_ques)\n",
    "    #rnn_features = RNN(RNN_NEURON, input_shape = (None, EMBEDDING_DIM),return_sequences = True)(dense_features)\n",
    "\n",
    "    rnn_output = tf.concat([rnn_chap, rnn_sub_chap, rnn_ques], axis = 2)\n",
    "\n",
    "    dense1 = Dense(256, input_shape = (None, 3*EMBEDDING_DIM), activation='relu')(rnn_output)\n",
    "    dropout1 = Dropout(0.1)(dense1)\n",
    "    dense2 = Dense(64, input_shape = (None, 256), activation='relu')(dropout1)\n",
    "    dropout2 = Dropout(0.1)(dense2)\n",
    "    pred = Dense(1, input_shape = (None, 64), activation='sigmoid')(dropout2)\n",
    "\n",
    "    model = tf.keras.Model(\n",
    "        inputs=[input_chap, input_sub_chap,input_ques],\n",
    "        outputs=pred,\n",
    "        name='lstm_model'\n",
    "    )\n",
    "\n",
    "    callback = tf.keras.callbacks.EarlyStopping(monitor='val_loss', patience=10)\n",
    "    opt_adam = Adam(learning_rate = 0.005)\n",
    "    model.compile(\n",
    "        optimizer=opt_adam,\n",
    "        loss= masked_bce,\n",
    "        metrics = [masked_acc, masked_auc]\n",
    "    )\n",
    "\n",
    "    history = model.fit(\n",
    "      [train_chapter, train_sub_chapter, train_question],\n",
    "      train_labels,\n",
    "      batch_size = 64,\n",
    "      epochs = 100,\n",
    "      validation_data=([val_chapter, val_sub_chapter, val_question], val_labels),\n",
    "      callbacks=[callback]\n",
    "    )\n",
    "    val_losses.append(list(history.history['val_loss']))\n",
    "    train_losses.append(list(history.history['loss']))\n",
    "    val_aucs.append(list(history.history['val_masked_auc']))\n",
    "    train_aucs.append(list(history.history['masked_auc']))\n",
    "    train_score = model.evaluate([train_chapter, train_sub_chapter, train_question], train_labels)\n",
    "    train_eval.append(train_score)\n",
    "    test_score = model.evaluate([test_chapter, test_sub_chapter, test_question], test_labels)\n",
    "    test_eval.append(test_score)\n",
    "    print(\"Test: \", test_score)\n",
    "    def reset_weights(model):\n",
    "      for layer in model.layers: \n",
    "        if isinstance(layer, tf.keras.Model):\n",
    "          reset_weights(layer)\n",
    "          continue\n",
    "        for k, initializer in layer.__dict__.items():\n",
    "          if \"initializer\" not in k:\n",
    "            continue\n",
    "          # find the corresponding variable\n",
    "          var = getattr(layer, k.replace(\"_initializer\", \"\"))\n",
    "          var.assign(initializer(var.shape, var.dtype))\n",
    "    reset_weights(model)"
   ]
  },
  {
   "cell_type": "code",
   "execution_count": 30,
   "metadata": {
    "execution": {
     "iopub.execute_input": "2021-07-26T22:41:31.383490Z",
     "iopub.status.busy": "2021-07-26T22:41:31.383204Z",
     "iopub.status.idle": "2021-07-26T22:41:31.393157Z",
     "shell.execute_reply": "2021-07-26T22:41:31.392048Z",
     "shell.execute_reply.started": "2021-07-26T22:41:31.383463Z"
    },
    "id": "QsVmumHMz3lx",
    "outputId": "4ff1e2fa-6abb-458e-c729-495b456f53e5"
   },
   "outputs": [
    {
     "name": "stdout",
     "output_type": "stream",
     "text": [
      "test avg loss:  0.6335039973258972 +/- 0.02539915956817649\n",
      "test avg acc:  0.8015726566314697 +/- 0.0027302429203135657\n",
      "test avg auc:  0.8512709021568299 +/- 0.0028503716747730746\n"
     ]
    }
   ],
   "source": [
    "t_eval = np.array(test_eval)\n",
    "print(\"test avg loss: \", np.mean(t_eval[:, 0]), \"+/-\" ,np.std(t_eval[:, 0]))\n",
    "print(\"test avg acc: \", np.mean(t_eval[:, 1]),  \"+/-\" ,np.std(t_eval[:, 1]))\n",
    "print(\"test avg auc: \", np.mean(t_eval[:, 2]), \"+/-\" ,np.std(t_eval[:, 2]))"
   ]
  },
  {
   "cell_type": "code",
   "execution_count": 31,
   "metadata": {
    "execution": {
     "iopub.execute_input": "2021-07-26T22:41:31.395076Z",
     "iopub.status.busy": "2021-07-26T22:41:31.394701Z",
     "iopub.status.idle": "2021-07-26T22:41:31.405937Z",
     "shell.execute_reply": "2021-07-26T22:41:31.404953Z",
     "shell.execute_reply.started": "2021-07-26T22:41:31.395045Z"
    },
    "id": "b9MM_CXWz5K6",
    "outputId": "4cf88e1d-3a74-4e7d-f92c-d01522e91757"
   },
   "outputs": [
    {
     "name": "stdout",
     "output_type": "stream",
     "text": [
      "train avg loss:  0.2883188188076019 +/- 0.0026056323934946475\n",
      "train avg acc:  0.8001187205314636 +/- 0.0027573301434306967\n",
      "train avg auc:  0.8489992141723632 +/- 0.002908400185846646\n"
     ]
    }
   ],
   "source": [
    "t_eval = np.array(train_eval)\n",
    "print(\"train avg loss: \", np.mean(t_eval[:, 0]), \"+/-\" ,np.std(t_eval[:, 0]))\n",
    "print(\"train avg acc: \", np.mean(t_eval[:, 1]),  \"+/-\" ,np.std(t_eval[:, 1]))\n",
    "print(\"train avg auc: \", np.mean(t_eval[:, 2]), \"+/-\" ,np.std(t_eval[:, 2]))"
   ]
  }
 ],
 "metadata": {
  "kernelspec": {
   "display_name": "Python 3",
   "language": "python",
   "name": "python3"
  },
  "language_info": {
   "codemirror_mode": {
    "name": "ipython",
    "version": 3
   },
   "file_extension": ".py",
   "mimetype": "text/x-python",
   "name": "python",
   "nbconvert_exporter": "python",
   "pygments_lexer": "ipython3",
   "version": "3.8.5"
  }
 },
 "nbformat": 4,
 "nbformat_minor": 4
}
