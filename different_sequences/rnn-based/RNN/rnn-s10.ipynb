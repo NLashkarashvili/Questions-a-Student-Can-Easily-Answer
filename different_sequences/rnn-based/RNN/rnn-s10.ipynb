{
 "cells": [
  {
   "cell_type": "code",
   "execution_count": 1,
   "metadata": {
    "execution": {
     "iopub.execute_input": "2021-07-26T23:25:24.224134Z",
     "iopub.status.busy": "2021-07-26T23:25:24.223123Z",
     "iopub.status.idle": "2021-07-26T23:25:30.194432Z",
     "shell.execute_reply": "2021-07-26T23:25:30.194956Z",
     "shell.execute_reply.started": "2021-07-26T23:13:42.123674Z"
    },
    "id": "farifxiKU1aB",
    "papermill": {
     "duration": 6.000462,
     "end_time": "2021-07-26T23:25:30.195249",
     "exception": false,
     "start_time": "2021-07-26T23:25:24.194787",
     "status": "completed"
    },
    "tags": []
   },
   "outputs": [],
   "source": [
    "import numpy as np\n",
    "import pandas as pd\n",
    "import warnings\n",
    "import gc\n",
    "import tensorflow as tf\n",
    "from tensorflow import keras\n",
    "\n",
    "import random\n",
    "from random import choice\n",
    "from tensorflow.keras.optimizers import Adam\n",
    "from tensorflow.keras.models import Sequential \n",
    "from tensorflow.keras.layers import Dense, SimpleRNN, Concatenate, Embedding, Flatten, Activation, Dropout\n",
    "from sklearn.model_selection import KFold\n",
    "from tensorflow.python.client import device_lib\n",
    "warnings.filterwarnings('ignore')\n",
    "import random"
   ]
  },
  {
   "cell_type": "code",
   "execution_count": 2,
   "metadata": {
    "execution": {
     "iopub.execute_input": "2021-07-26T23:25:30.250848Z",
     "iopub.status.busy": "2021-07-26T23:25:30.250140Z",
     "iopub.status.idle": "2021-07-26T23:25:30.252725Z",
     "shell.execute_reply": "2021-07-26T23:25:30.252303Z",
     "shell.execute_reply.started": "2021-07-26T23:13:44.376182Z"
    },
    "id": "QOson70GPOXb",
    "papermill": {
     "duration": 0.031562,
     "end_time": "2021-07-26T23:25:30.252860",
     "exception": false,
     "start_time": "2021-07-26T23:25:30.221298",
     "status": "completed"
    },
    "tags": []
   },
   "outputs": [],
   "source": [
    "import gc"
   ]
  },
  {
   "cell_type": "markdown",
   "metadata": {
    "id": "BQsVybBH3VPw",
    "papermill": {
     "duration": 0.025837,
     "end_time": "2021-07-26T23:25:30.304163",
     "exception": false,
     "start_time": "2021-07-26T23:25:30.278326",
     "status": "completed"
    },
    "tags": []
   },
   "source": [
    "## Data Preprocessing"
   ]
  },
  {
   "cell_type": "code",
   "execution_count": 3,
   "metadata": {
    "execution": {
     "iopub.execute_input": "2021-07-26T23:25:30.358666Z",
     "iopub.status.busy": "2021-07-26T23:25:30.357993Z",
     "iopub.status.idle": "2021-07-26T23:25:36.745248Z",
     "shell.execute_reply": "2021-07-26T23:25:36.745712Z",
     "shell.execute_reply.started": "2021-07-26T23:13:44.383497Z"
    },
    "id": "rwtTusGxrmAE",
    "outputId": "1430f3cf-038b-485e-b5c4-c1686b1f34fd",
    "papermill": {
     "duration": 6.416561,
     "end_time": "2021-07-26T23:25:36.745896",
     "exception": false,
     "start_time": "2021-07-26T23:25:30.329335",
     "status": "completed"
    },
    "tags": []
   },
   "outputs": [
    {
     "data": {
      "text/html": [
       "<div>\n",
       "<style scoped>\n",
       "    .dataframe tbody tr th:only-of-type {\n",
       "        vertical-align: middle;\n",
       "    }\n",
       "\n",
       "    .dataframe tbody tr th {\n",
       "        vertical-align: top;\n",
       "    }\n",
       "\n",
       "    .dataframe thead th {\n",
       "        text-align: right;\n",
       "    }\n",
       "</style>\n",
       "<table border=\"1\" class=\"dataframe\">\n",
       "  <thead>\n",
       "    <tr style=\"text-align: right;\">\n",
       "      <th></th>\n",
       "      <th>Unnamed: 0</th>\n",
       "      <th>chapter_label</th>\n",
       "      <th>sub_chapter_label</th>\n",
       "      <th>question_name</th>\n",
       "      <th>user_id.x</th>\n",
       "      <th>term</th>\n",
       "      <th>STDNT_SEX_CD</th>\n",
       "      <th>NonNativeEnglish</th>\n",
       "      <th>White</th>\n",
       "      <th>Asian</th>\n",
       "      <th>...</th>\n",
       "      <th>classGraded</th>\n",
       "      <th>classHonors</th>\n",
       "      <th>Pass_Fail</th>\n",
       "      <th>parentsGraduateEdu</th>\n",
       "      <th>minorityGroup</th>\n",
       "      <th>q</th>\n",
       "      <th>day's_available_flashcards</th>\n",
       "      <th>start_practice</th>\n",
       "      <th>end_practice</th>\n",
       "      <th>days_offset</th>\n",
       "    </tr>\n",
       "  </thead>\n",
       "  <tbody>\n",
       "    <tr>\n",
       "      <th>0</th>\n",
       "      <td>1</td>\n",
       "      <td>Sort</td>\n",
       "      <td>intro-SortingwithSortandSorted</td>\n",
       "      <td>ee_sort_04</td>\n",
       "      <td>148</td>\n",
       "      <td>WN 2018</td>\n",
       "      <td>1</td>\n",
       "      <td>0</td>\n",
       "      <td>1</td>\n",
       "      <td>0</td>\n",
       "      <td>...</td>\n",
       "      <td>1</td>\n",
       "      <td>0</td>\n",
       "      <td>0</td>\n",
       "      <td>0</td>\n",
       "      <td>0</td>\n",
       "      <td>0</td>\n",
       "      <td>18</td>\n",
       "      <td>2018/3/4 20:00</td>\n",
       "      <td>2018/3/4 20:00</td>\n",
       "      <td>45</td>\n",
       "    </tr>\n",
       "    <tr>\n",
       "      <th>1</th>\n",
       "      <td>2</td>\n",
       "      <td>Functions</td>\n",
       "      <td>Returningavaluefromafunction</td>\n",
       "      <td>test_questionfunctions_2_3</td>\n",
       "      <td>148</td>\n",
       "      <td>WN 2018</td>\n",
       "      <td>1</td>\n",
       "      <td>0</td>\n",
       "      <td>1</td>\n",
       "      <td>0</td>\n",
       "      <td>...</td>\n",
       "      <td>1</td>\n",
       "      <td>0</td>\n",
       "      <td>0</td>\n",
       "      <td>0</td>\n",
       "      <td>0</td>\n",
       "      <td>4</td>\n",
       "      <td>16</td>\n",
       "      <td>2018/2/10 11:57</td>\n",
       "      <td>2018/2/10 11:58</td>\n",
       "      <td>23</td>\n",
       "    </tr>\n",
       "    <tr>\n",
       "      <th>2</th>\n",
       "      <td>3</td>\n",
       "      <td>RESTAPIs</td>\n",
       "      <td>functionswithrestapis</td>\n",
       "      <td>test_question_functions_rest_apis_1</td>\n",
       "      <td>148</td>\n",
       "      <td>WN 2018</td>\n",
       "      <td>1</td>\n",
       "      <td>0</td>\n",
       "      <td>1</td>\n",
       "      <td>0</td>\n",
       "      <td>...</td>\n",
       "      <td>1</td>\n",
       "      <td>0</td>\n",
       "      <td>0</td>\n",
       "      <td>0</td>\n",
       "      <td>0</td>\n",
       "      <td>1</td>\n",
       "      <td>2</td>\n",
       "      <td>2018/3/12 17:03</td>\n",
       "      <td>2018/3/12 17:04</td>\n",
       "      <td>53</td>\n",
       "    </tr>\n",
       "    <tr>\n",
       "      <th>3</th>\n",
       "      <td>4</td>\n",
       "      <td>SimplePythonData</td>\n",
       "      <td>FunctionCalls</td>\n",
       "      <td>exercise_functionCalls_1</td>\n",
       "      <td>148</td>\n",
       "      <td>WN 2018</td>\n",
       "      <td>1</td>\n",
       "      <td>0</td>\n",
       "      <td>1</td>\n",
       "      <td>0</td>\n",
       "      <td>...</td>\n",
       "      <td>1</td>\n",
       "      <td>0</td>\n",
       "      <td>0</td>\n",
       "      <td>0</td>\n",
       "      <td>0</td>\n",
       "      <td>0</td>\n",
       "      <td>10</td>\n",
       "      <td>2018/1/30 14:15</td>\n",
       "      <td>2018/1/30 14:15</td>\n",
       "      <td>12</td>\n",
       "    </tr>\n",
       "    <tr>\n",
       "      <th>4</th>\n",
       "      <td>5</td>\n",
       "      <td>DictionaryAccumulation</td>\n",
       "      <td>AccumulatingaMaximumValue</td>\n",
       "      <td>ps_04_07</td>\n",
       "      <td>148</td>\n",
       "      <td>WN 2018</td>\n",
       "      <td>1</td>\n",
       "      <td>0</td>\n",
       "      <td>1</td>\n",
       "      <td>0</td>\n",
       "      <td>...</td>\n",
       "      <td>1</td>\n",
       "      <td>0</td>\n",
       "      <td>0</td>\n",
       "      <td>0</td>\n",
       "      <td>0</td>\n",
       "      <td>0</td>\n",
       "      <td>23</td>\n",
       "      <td>2018/3/3 14:04</td>\n",
       "      <td>2018/3/3 14:04</td>\n",
       "      <td>44</td>\n",
       "    </tr>\n",
       "  </tbody>\n",
       "</table>\n",
       "<p>5 rows × 48 columns</p>\n",
       "</div>"
      ],
      "text/plain": [
       "   Unnamed: 0           chapter_label               sub_chapter_label  \\\n",
       "0           1                    Sort  intro-SortingwithSortandSorted   \n",
       "1           2               Functions    Returningavaluefromafunction   \n",
       "2           3                RESTAPIs           functionswithrestapis   \n",
       "3           4        SimplePythonData                   FunctionCalls   \n",
       "4           5  DictionaryAccumulation       AccumulatingaMaximumValue   \n",
       "\n",
       "                         question_name  user_id.x     term  STDNT_SEX_CD  \\\n",
       "0                           ee_sort_04        148  WN 2018             1   \n",
       "1           test_questionfunctions_2_3        148  WN 2018             1   \n",
       "2  test_question_functions_rest_apis_1        148  WN 2018             1   \n",
       "3             exercise_functionCalls_1        148  WN 2018             1   \n",
       "4                             ps_04_07        148  WN 2018             1   \n",
       "\n",
       "   NonNativeEnglish  White  Asian  ...  classGraded  classHonors  Pass_Fail  \\\n",
       "0                 0      1      0  ...            1            0          0   \n",
       "1                 0      1      0  ...            1            0          0   \n",
       "2                 0      1      0  ...            1            0          0   \n",
       "3                 0      1      0  ...            1            0          0   \n",
       "4                 0      1      0  ...            1            0          0   \n",
       "\n",
       "   parentsGraduateEdu  minorityGroup  q  day's_available_flashcards  \\\n",
       "0                   0              0  0                          18   \n",
       "1                   0              0  4                          16   \n",
       "2                   0              0  1                           2   \n",
       "3                   0              0  0                          10   \n",
       "4                   0              0  0                          23   \n",
       "\n",
       "    start_practice     end_practice  days_offset  \n",
       "0   2018/3/4 20:00   2018/3/4 20:00           45  \n",
       "1  2018/2/10 11:57  2018/2/10 11:58           23  \n",
       "2  2018/3/12 17:03  2018/3/12 17:04           53  \n",
       "3  2018/1/30 14:15  2018/1/30 14:15           12  \n",
       "4   2018/3/3 14:04   2018/3/3 14:04           44  \n",
       "\n",
       "[5 rows x 48 columns]"
      ]
     },
     "execution_count": 3,
     "metadata": {},
     "output_type": "execute_result"
    }
   ],
   "source": [
    "# load the data\n",
    "import pandas as pd\n",
    "dataframe = pd.read_csv('Practice_Log_Demographics.csv', low_memory=False)\n",
    "dataframe.head()"
   ]
  },
  {
   "cell_type": "code",
   "execution_count": 4,
   "metadata": {
    "execution": {
     "iopub.execute_input": "2021-07-26T23:25:36.861874Z",
     "iopub.status.busy": "2021-07-26T23:25:36.861238Z",
     "iopub.status.idle": "2021-07-26T23:25:38.357408Z",
     "shell.execute_reply": "2021-07-26T23:25:38.356872Z",
     "shell.execute_reply.started": "2021-07-26T23:13:49.075382Z"
    },
    "id": "OCbHnEp_Vir0",
    "papermill": {
     "duration": 1.585122,
     "end_time": "2021-07-26T23:25:38.357542",
     "exception": false,
     "start_time": "2021-07-26T23:25:36.772420",
     "status": "completed"
    },
    "tags": []
   },
   "outputs": [],
   "source": [
    "#sort data based on timestamp\n",
    "dataframe = dataframe.sort_values(by=['start_practice'])"
   ]
  },
  {
   "cell_type": "code",
   "execution_count": 5,
   "metadata": {
    "execution": {
     "iopub.execute_input": "2021-07-26T23:25:38.418056Z",
     "iopub.status.busy": "2021-07-26T23:25:38.417170Z",
     "iopub.status.idle": "2021-07-26T23:25:38.419537Z",
     "shell.execute_reply": "2021-07-26T23:25:38.420033Z",
     "shell.execute_reply.started": "2021-07-26T23:13:50.218693Z"
    },
    "id": "0RvF7BvEr98o",
    "papermill": {
     "duration": 0.036042,
     "end_time": "2021-07-26T23:25:38.420212",
     "exception": false,
     "start_time": "2021-07-26T23:25:38.384170",
     "status": "completed"
    },
    "tags": []
   },
   "outputs": [],
   "source": [
    "FEATURES = ['chapter_label', 'sub_chapter_label','question_name','user_id','term',\n",
    "            'STDNT_SEX_CD', \n",
    "            'NonNativeEnglish',\n",
    "            'White',\n",
    "            'Asian',\n",
    "            'WhiteOrAsian',\n",
    "            'Hispanic',\n",
    "            'AfricanAmerican',\n",
    "            'OtherEthnicities',\n",
    "            'NonWhiteOrAsian',\n",
    "            'STDNT_CTZN_STAT_CD', 'international', \n",
    "            'gradingType',\n",
    "            'birthYear',\n",
    "            'exclClassCumGPA',\n",
    "            'Freshman',\n",
    "            'Junior',\n",
    "            'Sophomore',\n",
    "            'Senior',\n",
    "            'termCreditsGPA',\n",
    "            'termCreditsNoGPA',\n",
    "            'athlete_1',\n",
    "            'honorsPro',\n",
    "            'LSA', 'programBusiness', 'programEngineering', \n",
    "            'programInformation', 'programOther',\n",
    "            'HSCalculusTaken', \n",
    "            'highSchoolGPA', \n",
    "            'majorsCount', 'minorsCount',\n",
    "            'PREV_TERM_CUM_GPA',\n",
    "            'classGraded', 'classHonors', \n",
    "            'Pass_Fail', \n",
    "            'parentsGraduateEdu',  'minorityGroup', \n",
    "            'q',\n",
    "            'available_flashcards', \n",
    "            'start_practice', \n",
    "            'end_practice',\n",
    "            'days_offset']"
   ]
  },
  {
   "cell_type": "code",
   "execution_count": 6,
   "metadata": {
    "execution": {
     "iopub.execute_input": "2021-07-26T23:25:38.473727Z",
     "iopub.status.busy": "2021-07-26T23:25:38.472802Z",
     "iopub.status.idle": "2021-07-26T23:25:39.015897Z",
     "shell.execute_reply": "2021-07-26T23:25:39.016427Z",
     "shell.execute_reply.started": "2021-07-26T23:13:50.227164Z"
    },
    "id": "Mn341X7lSztl",
    "papermill": {
     "duration": 0.571488,
     "end_time": "2021-07-26T23:25:39.016598",
     "exception": false,
     "start_time": "2021-07-26T23:25:38.445110",
     "status": "completed"
    },
    "tags": []
   },
   "outputs": [],
   "source": [
    "dataframe['available_flashcards'] = dataframe[\"day's_available_flashcards\"][:]\n",
    "dataframe = dataframe.drop([\"day's_available_flashcards\"], axis=1)\n",
    "dataframe['user_id'] = dataframe[\"user_id.x\"][:]\n",
    "dataframe = dataframe.drop([\"user_id.x\"], axis=1)"
   ]
  },
  {
   "cell_type": "code",
   "execution_count": 7,
   "metadata": {
    "execution": {
     "iopub.execute_input": "2021-07-26T23:25:39.071496Z",
     "iopub.status.busy": "2021-07-26T23:25:39.070625Z",
     "iopub.status.idle": "2021-07-26T23:25:39.235786Z",
     "shell.execute_reply": "2021-07-26T23:25:39.236286Z",
     "shell.execute_reply.started": "2021-07-26T23:13:50.796356Z"
    },
    "id": "-_BRggOjbBjN",
    "outputId": "42bff7db-08dd-48dc-a73a-d048508053b7",
    "papermill": {
     "duration": 0.193307,
     "end_time": "2021-07-26T23:25:39.236475",
     "exception": false,
     "start_time": "2021-07-26T23:25:39.043168",
     "status": "completed"
    },
    "tags": []
   },
   "outputs": [
    {
     "data": {
      "text/plain": [
       "20"
      ]
     },
     "execution_count": 7,
     "metadata": {},
     "output_type": "execute_result"
    }
   ],
   "source": [
    "gc.collect()"
   ]
  },
  {
   "cell_type": "code",
   "execution_count": 8,
   "metadata": {
    "execution": {
     "iopub.execute_input": "2021-07-26T23:25:39.290368Z",
     "iopub.status.busy": "2021-07-26T23:25:39.289439Z",
     "iopub.status.idle": "2021-07-26T23:25:39.575921Z",
     "shell.execute_reply": "2021-07-26T23:25:39.576550Z",
     "shell.execute_reply.started": "2021-07-26T23:13:50.984568Z"
    },
    "id": "lXM7MlonVeRL",
    "outputId": "d29ccec0-522f-4e3c-e0b2-39b2e1eaef74",
    "papermill": {
     "duration": 0.314881,
     "end_time": "2021-07-26T23:25:39.576713",
     "exception": false,
     "start_time": "2021-07-26T23:25:39.261832",
     "status": "completed"
    },
    "tags": []
   },
   "outputs": [
    {
     "data": {
      "text/plain": [
       "20"
      ]
     },
     "execution_count": 8,
     "metadata": {},
     "output_type": "execute_result"
    }
   ],
   "source": [
    "dataframe = dataframe[FEATURES]\n",
    "gc.collect()"
   ]
  },
  {
   "cell_type": "code",
   "execution_count": 9,
   "metadata": {
    "execution": {
     "iopub.execute_input": "2021-07-26T23:25:39.632030Z",
     "iopub.status.busy": "2021-07-26T23:25:39.631153Z",
     "iopub.status.idle": "2021-07-26T23:25:41.184743Z",
     "shell.execute_reply": "2021-07-26T23:25:41.184140Z",
     "shell.execute_reply.started": "2021-07-26T23:13:51.310912Z"
    },
    "id": "qRKqF_0IXZgj",
    "papermill": {
     "duration": 1.583244,
     "end_time": "2021-07-26T23:25:41.184894",
     "exception": false,
     "start_time": "2021-07-26T23:25:39.601650",
     "status": "completed"
    },
    "tags": []
   },
   "outputs": [],
   "source": [
    "#label encode term, chapter_label, question_name, sub_chapter_label columns\n",
    "dataframe['term'] = dataframe['term'].astype('category')\n",
    "dataframe['user_id'] = dataframe['user_id'].astype(int)\n",
    "dataframe['user_id'] = dataframe['user_id'].astype(str)\n",
    "dataframe['user_id'] = dataframe['term'].str.cat(dataframe['user_id'], sep=':')\n",
    "dataframe['user_id'] = dataframe['user_id'].astype('category')\n",
    "dataframe['chapter_label'] = dataframe['chapter_label'].astype('category')\n",
    "dataframe['sub_chapter_label'] = dataframe['sub_chapter_label'].astype('category')\n",
    "dataframe['question_name'] = dataframe['question_name'].astype('category')\n"
   ]
  },
  {
   "cell_type": "code",
   "execution_count": 10,
   "metadata": {
    "execution": {
     "iopub.execute_input": "2021-07-26T23:25:41.243419Z",
     "iopub.status.busy": "2021-07-26T23:25:41.242811Z",
     "iopub.status.idle": "2021-07-26T23:25:41.792103Z",
     "shell.execute_reply": "2021-07-26T23:25:41.791566Z",
     "shell.execute_reply.started": "2021-07-26T23:13:52.408004Z"
    },
    "id": "eVl_067GWkDe",
    "papermill": {
     "duration": 0.580126,
     "end_time": "2021-07-26T23:25:41.792254",
     "exception": false,
     "start_time": "2021-07-26T23:25:41.212128",
     "status": "completed"
    },
    "tags": []
   },
   "outputs": [],
   "source": [
    "#calculate time_lag and prev_time_elapsed\n",
    "dataframe['prev_time_elapsed'] = None\n",
    "dataframe['time_lag'] = None\n",
    "dataframe['time_lag'] = dataframe['time_lag'].astype(np.float)\n",
    "dataframe['prev_time_elapsed'] = dataframe['prev_time_elapsed'].astype(np.float)\n",
    "dataframe.start_practice = pd.to_datetime(dataframe.start_practice, format='%Y-%m-%d %H:%M:%S')\n",
    "dataframe.end_practice = pd.to_datetime(dataframe.end_practice, format='%Y-%m-%d %H:%M:%S')"
   ]
  },
  {
   "cell_type": "code",
   "execution_count": 11,
   "metadata": {
    "execution": {
     "iopub.execute_input": "2021-07-26T23:25:41.854044Z",
     "iopub.status.busy": "2021-07-26T23:25:41.852932Z",
     "iopub.status.idle": "2021-07-26T23:25:41.888983Z",
     "shell.execute_reply": "2021-07-26T23:25:41.888230Z",
     "shell.execute_reply.started": "2021-07-26T23:13:52.818420Z"
    },
    "papermill": {
     "duration": 0.06877,
     "end_time": "2021-07-26T23:25:41.889165",
     "exception": false,
     "start_time": "2021-07-26T23:25:41.820395",
     "status": "completed"
    },
    "tags": []
   },
   "outputs": [],
   "source": [
    "dataframe['dif'] = dataframe.end_practice - dataframe.start_practice\n",
    "dataframe['dif'] = dataframe['dif'] /np.timedelta64(1, 's')\n",
    "dataframe['answer_correct'] = np.where((dataframe['q']==5) & (dataframe['dif'] <= 60), 1, 0)"
   ]
  },
  {
   "cell_type": "code",
   "execution_count": 13,
   "metadata": {
    "execution": {
     "iopub.execute_input": "2021-07-26T23:26:00.828175Z",
     "iopub.status.busy": "2021-07-26T23:26:00.827470Z",
     "iopub.status.idle": "2021-07-26T23:26:00.850484Z",
     "shell.execute_reply": "2021-07-26T23:26:00.849602Z",
     "shell.execute_reply.started": "2021-07-26T23:14:09.273506Z"
    },
    "id": "8t8yZ0XvWwzz",
    "papermill": {
     "duration": 0.151005,
     "end_time": "2021-07-26T23:26:00.850628",
     "exception": false,
     "start_time": "2021-07-26T23:26:00.699623",
     "status": "completed"
    },
    "tags": []
   },
   "outputs": [],
   "source": [
    "#drop column end_practice\n",
    "dataframe.drop(columns=['end_practice'], inplace=True)"
   ]
  },
  {
   "cell_type": "code",
   "execution_count": 14,
   "metadata": {
    "execution": {
     "iopub.execute_input": "2021-07-26T23:26:01.003250Z",
     "iopub.status.busy": "2021-07-26T23:26:01.002661Z",
     "iopub.status.idle": "2021-07-26T23:26:01.436594Z",
     "shell.execute_reply": "2021-07-26T23:26:01.435981Z",
     "shell.execute_reply.started": "2021-07-26T23:14:09.357637Z"
    },
    "id": "E42raRIrYYXz",
    "papermill": {
     "duration": 0.513417,
     "end_time": "2021-07-26T23:26:01.436724",
     "exception": false,
     "start_time": "2021-07-26T23:26:00.923307",
     "status": "completed"
    },
    "tags": []
   },
   "outputs": [],
   "source": [
    "# calculate the age feature\n",
    "dataframe['term_value'] = [int(ele[3:]) for ele in dataframe['term']]\n",
    "dataframe['age'] = dataframe['term_value'] - dataframe['birthYear']"
   ]
  },
  {
   "cell_type": "code",
   "execution_count": 15,
   "metadata": {
    "execution": {
     "iopub.execute_input": "2021-07-26T23:26:01.593041Z",
     "iopub.status.busy": "2021-07-26T23:26:01.591701Z",
     "iopub.status.idle": "2021-07-26T23:26:01.780543Z",
     "shell.execute_reply": "2021-07-26T23:26:01.781008Z",
     "shell.execute_reply.started": "2021-07-26T23:14:09.663850Z"
    },
    "id": "pcMVQXueYnMh",
    "papermill": {
     "duration": 0.269318,
     "end_time": "2021-07-26T23:26:01.781208",
     "exception": false,
     "start_time": "2021-07-26T23:26:01.511890",
     "status": "completed"
    },
    "tags": []
   },
   "outputs": [],
   "source": [
    "# drop term_value and birthYear column\n",
    "dataframe.drop(columns=['term_value', 'birthYear'], inplace=True)"
   ]
  },
  {
   "cell_type": "code",
   "execution_count": 16,
   "metadata": {
    "execution": {
     "iopub.execute_input": "2021-07-26T23:26:01.955912Z",
     "iopub.status.busy": "2021-07-26T23:26:01.950878Z",
     "iopub.status.idle": "2021-07-26T23:26:02.399256Z",
     "shell.execute_reply": "2021-07-26T23:26:02.398412Z",
     "shell.execute_reply.started": "2021-07-26T23:14:09.874253Z"
    },
    "id": "hjRF5szkcQE0",
    "papermill": {
     "duration": 0.54421,
     "end_time": "2021-07-26T23:26:02.399411",
     "exception": false,
     "start_time": "2021-07-26T23:26:01.855201",
     "status": "completed"
    },
    "tags": []
   },
   "outputs": [],
   "source": [
    "# convert minors_count to int value\n",
    "new_minors_count = []\n",
    "for i in dataframe['minorsCount']:\n",
    "  if i == 0 or i == '0':\n",
    "    new_minors_count.append(0)\n",
    "  elif i == '1 Minor':\n",
    "    new_minors_count.append(1)\n",
    "  else:\n",
    "    new_minors_count.append(2)\n",
    "\n",
    "dataframe['minorsCount'] = new_minors_count"
   ]
  },
  {
   "cell_type": "code",
   "execution_count": 17,
   "metadata": {
    "execution": {
     "iopub.execute_input": "2021-07-26T23:26:02.551867Z",
     "iopub.status.busy": "2021-07-26T23:26:02.550885Z",
     "iopub.status.idle": "2021-07-26T23:26:02.563954Z",
     "shell.execute_reply": "2021-07-26T23:26:02.563453Z",
     "shell.execute_reply.started": "2021-07-26T23:14:10.146861Z"
    },
    "id": "9VdzvJSw0KUU",
    "outputId": "6393784f-234e-4935-9cee-cbcf56b5630a",
    "papermill": {
     "duration": 0.092663,
     "end_time": "2021-07-26T23:26:02.564128",
     "exception": false,
     "start_time": "2021-07-26T23:26:02.471465",
     "status": "completed"
    },
    "tags": []
   },
   "outputs": [
    {
     "name": "stdout",
     "output_type": "stream",
     "text": [
      "we have  1110  users in total.\n"
     ]
    }
   ],
   "source": [
    "print(\"we have \", dataframe['user_id'].nunique(),\" users in total.\")"
   ]
  },
  {
   "cell_type": "code",
   "execution_count": 18,
   "metadata": {
    "execution": {
     "iopub.execute_input": "2021-07-26T23:26:02.718977Z",
     "iopub.status.busy": "2021-07-26T23:26:02.718361Z",
     "iopub.status.idle": "2021-07-26T23:26:02.724142Z",
     "shell.execute_reply": "2021-07-26T23:26:02.723665Z",
     "shell.execute_reply.started": "2021-07-26T23:14:10.165236Z"
    },
    "id": "hUaGk9L9g13t",
    "papermill": {
     "duration": 0.085708,
     "end_time": "2021-07-26T23:26:02.724277",
     "exception": false,
     "start_time": "2021-07-26T23:26:02.638569",
     "status": "completed"
    },
    "tags": []
   },
   "outputs": [],
   "source": [
    "for category in ['term','chapter_label', 'sub_chapter_label', 'question_name']:\n",
    "  dataframe[category] =  dataframe[category].cat.codes"
   ]
  },
  {
   "cell_type": "code",
   "execution_count": 19,
   "metadata": {
    "execution": {
     "iopub.execute_input": "2021-07-26T23:26:02.877437Z",
     "iopub.status.busy": "2021-07-26T23:26:02.876769Z",
     "iopub.status.idle": "2021-07-26T23:26:03.146102Z",
     "shell.execute_reply": "2021-07-26T23:26:03.145481Z",
     "shell.execute_reply.started": "2021-07-26T23:14:10.183159Z"
    },
    "id": "hkyvcYvlhliG",
    "papermill": {
     "duration": 0.347996,
     "end_time": "2021-07-26T23:26:03.146236",
     "exception": false,
     "start_time": "2021-07-26T23:26:02.798240",
     "status": "completed"
    },
    "tags": []
   },
   "outputs": [],
   "source": [
    "NUMERIC_FEATURE =  ['age',\n",
    "            'exclClassCumGPA',\n",
    "            'termCreditsGPA',\n",
    "            'termCreditsNoGPA',\n",
    "            'highSchoolGPA', \n",
    "            'majorsCount', 'minorsCount',\n",
    "            'PREV_TERM_CUM_GPA',\n",
    "            'available_flashcards', \n",
    "            'days_offset', \n",
    "            'prev_time_elapsed',\n",
    "             'time_lag']\n",
    "# z-score normalize the numerical features\n",
    "for f in NUMERIC_FEATURE:\n",
    "  m = dataframe[f].mean()\n",
    "  std = dataframe[f].std()\n",
    "  dataframe[f] = (dataframe[f] - m)/std"
   ]
  },
  {
   "cell_type": "code",
   "execution_count": 20,
   "metadata": {
    "execution": {
     "iopub.execute_input": "2021-07-26T23:26:03.293891Z",
     "iopub.status.busy": "2021-07-26T23:26:03.293273Z",
     "iopub.status.idle": "2021-07-26T23:26:06.893056Z",
     "shell.execute_reply": "2021-07-26T23:26:06.892497Z",
     "shell.execute_reply.started": "2021-07-26T23:14:10.508517Z"
    },
    "id": "wo2OH-d5kWp1",
    "papermill": {
     "duration": 3.674235,
     "end_time": "2021-07-26T23:26:06.893217",
     "exception": false,
     "start_time": "2021-07-26T23:26:03.218982",
     "status": "completed"
    },
    "tags": []
   },
   "outputs": [],
   "source": [
    "FEATURE_TRANS =  ['answer_correct', 'chapter_label', 'sub_chapter_label','question_name','user_id','term',\n",
    "                  'STDNT_SEX_CD', \n",
    "                    'White','Asian','NonWhiteOrAsian',\n",
    "            'STDNT_CTZN_STAT_CD', 'international', \n",
    "            'age',\n",
    "            'exclClassCumGPA',\n",
    "           'Freshman',\n",
    "            'Junior',\n",
    "            'Sophomore',\n",
    "            'Senior',\n",
    "            'termCreditsGPA',\n",
    "            'termCreditsNoGPA',\n",
    "            'athlete_1',\n",
    "            'honorsPro',\n",
    "            'LSA', 'programBusiness', 'programEngineering', \n",
    "            'programInformation', 'programOther',\n",
    "            'HSCalculusTaken', \n",
    "            'highSchoolGPA', \n",
    "            'majorsCount', 'minorsCount',\n",
    "            'PREV_TERM_CUM_GPA',\n",
    "            'classGraded', 'classHonors', \n",
    "            'Pass_Fail', \n",
    "            'parentsGraduateEdu',  'minorityGroup', \n",
    "            'available_flashcards', \n",
    "            'days_offset', 'prev_time_elapsed',\n",
    "             'time_lag']\n",
    "grouped_data = dataframe[FEATURE_TRANS].groupby(['user_id']).apply(lambda r: (\n",
    "                r['answer_correct'],\n",
    "                r['term'],\n",
    "                r['chapter_label'],\n",
    "                r['sub_chapter_label'],\n",
    "                r['question_name'],\n",
    "                np.array([r['STDNT_SEX_CD'],r['STDNT_CTZN_STAT_CD'], r['international'], \n",
    "                  r['White'],r['Asian'],r['NonWhiteOrAsian'],\n",
    "                 r['age'],r['exclClassCumGPA'],\n",
    "                r['Freshman'], r['Junior'], r['Sophomore'], r['Senior'],\n",
    "                r['termCreditsGPA'], r['termCreditsNoGPA'],\n",
    "                r['athlete_1'], r['honorsPro'],\n",
    "                r['LSA'], r['programBusiness'], r['programEngineering'], \n",
    "                r['programInformation'], r['programOther'],\n",
    "                r['HSCalculusTaken'],  r['highSchoolGPA'], \n",
    "                r['majorsCount'], r['minorsCount'],\n",
    "                r['PREV_TERM_CUM_GPA'], \n",
    "                r['parentsGraduateEdu'], r['minorityGroup'],\n",
    "                r['available_flashcards'],\n",
    "                r['days_offset'],\n",
    "                r['prev_time_elapsed'],\n",
    "                r['time_lag']\n",
    "              ]).transpose()\n",
    "                ))"
   ]
  },
  {
   "cell_type": "code",
   "execution_count": 21,
   "metadata": {
    "execution": {
     "iopub.execute_input": "2021-07-26T23:26:07.224650Z",
     "iopub.status.busy": "2021-07-26T23:26:07.223795Z",
     "iopub.status.idle": "2021-07-26T23:26:07.227843Z",
     "shell.execute_reply": "2021-07-26T23:26:07.227362Z",
     "shell.execute_reply.started": "2021-07-26T23:14:13.872656Z"
    },
    "id": "XXLqQnjrlp_4",
    "outputId": "c801da79-f0bf-4fe5-b19c-7c799fe01556",
    "papermill": {
     "duration": 0.260218,
     "end_time": "2021-07-26T23:26:07.227980",
     "exception": false,
     "start_time": "2021-07-26T23:26:06.967762",
     "status": "completed"
    },
    "tags": []
   },
   "outputs": [
    {
     "data": {
      "text/plain": [
       "20"
      ]
     },
     "execution_count": 21,
     "metadata": {},
     "output_type": "execute_result"
    }
   ],
   "source": [
    "gc.collect()"
   ]
  },
  {
   "cell_type": "code",
   "execution_count": 22,
   "metadata": {
    "execution": {
     "iopub.execute_input": "2021-07-26T23:26:07.397917Z",
     "iopub.status.busy": "2021-07-26T23:26:07.395013Z",
     "iopub.status.idle": "2021-07-26T23:26:07.416536Z",
     "shell.execute_reply": "2021-07-26T23:26:07.415939Z",
     "shell.execute_reply.started": "2021-07-26T23:14:14.080049Z"
    },
    "id": "QYGQasdTrmP0",
    "papermill": {
     "duration": 0.116606,
     "end_time": "2021-07-26T23:26:07.416676",
     "exception": false,
     "start_time": "2021-07-26T23:26:07.300070",
     "status": "completed"
    },
    "tags": []
   },
   "outputs": [],
   "source": [
    "# remove students who don't have make any interactions with the tool\n",
    "toRemove = []\n",
    "for index in grouped_data.index:\n",
    "  if len(grouped_data[index][0]) <= 10:\n",
    "    toRemove.append(index)\n",
    "grouped_data = grouped_data.drop(index=toRemove)"
   ]
  },
  {
   "cell_type": "code",
   "execution_count": 23,
   "metadata": {
    "execution": {
     "iopub.execute_input": "2021-07-26T23:26:07.571373Z",
     "iopub.status.busy": "2021-07-26T23:26:07.570686Z",
     "iopub.status.idle": "2021-07-26T23:26:07.572749Z",
     "shell.execute_reply": "2021-07-26T23:26:07.573235Z",
     "shell.execute_reply.started": "2021-07-26T23:14:14.116508Z"
    },
    "id": "9kZqV9siDyNb",
    "papermill": {
     "duration": 0.082884,
     "end_time": "2021-07-26T23:26:07.573403",
     "exception": false,
     "start_time": "2021-07-26T23:26:07.490519",
     "status": "completed"
    },
    "tags": []
   },
   "outputs": [],
   "source": [
    "#SETTINGS -> can be modified at any time\n",
    "MAXLENGTH = 10\n",
    "EMBEDDING_DIM = 128\n",
    "DENSE_NEURON = 16\n",
    "RNN_NEURON = 32"
   ]
  },
  {
   "cell_type": "code",
   "execution_count": 24,
   "metadata": {
    "execution": {
     "iopub.execute_input": "2021-07-26T23:26:07.724543Z",
     "iopub.status.busy": "2021-07-26T23:26:07.723918Z",
     "iopub.status.idle": "2021-07-26T23:26:07.727207Z",
     "shell.execute_reply": "2021-07-26T23:26:07.727639Z",
     "shell.execute_reply.started": "2021-07-26T23:14:14.122726Z"
    },
    "id": "1MksD1JizpPn",
    "papermill": {
     "duration": 0.080263,
     "end_time": "2021-07-26T23:26:07.727815",
     "exception": false,
     "start_time": "2021-07-26T23:26:07.647552",
     "status": "completed"
    },
    "tags": []
   },
   "outputs": [],
   "source": [
    "#FEATURES_SIZE = 38\n",
    "CHAPTER_SIZE = 38\n",
    "SUB_CHAPTER_SIZE = 223\n",
    "QUESTION_SIZE = 1069"
   ]
  },
  {
   "cell_type": "code",
   "execution_count": 25,
   "metadata": {
    "execution": {
     "iopub.execute_input": "2021-07-26T23:26:07.881024Z",
     "iopub.status.busy": "2021-07-26T23:26:07.880468Z",
     "iopub.status.idle": "2021-07-26T23:26:07.890992Z",
     "shell.execute_reply": "2021-07-26T23:26:07.890393Z",
     "shell.execute_reply.started": "2021-07-26T23:14:14.135712Z"
    },
    "papermill": {
     "duration": 0.08907,
     "end_time": "2021-07-26T23:26:07.891140",
     "exception": false,
     "start_time": "2021-07-26T23:26:07.802070",
     "status": "completed"
    },
    "tags": []
   },
   "outputs": [
    {
     "data": {
      "text/plain": [
       "array([ 96,  88,  86,  28,  12,  82, 125,  32,  69,  33,  21, 115, 120,\n",
       "       119,  91,  73,  57,  77, 117,  40,  74,  41,  68,  92,  39,  47,\n",
       "       104,  53,  95,  49,  16,  50,  52,  55,   7,  15,  51, 103, 102,\n",
       "       100,  94, 108,  11,   6, 118,  18, 215,  46, 216, 141,  27,  90,\n",
       "       217, 105,  54, 218, 123,  17,  67,  63,  13, 101, 124, 219,  20,\n",
       "       122,  58,   3,  59,  64, 106,  93,  65,  66,   9,  44,  30, 139,\n",
       "        26,  25,   8, 138,   1,  14,   5,  85,  35,  34,  79, 220, 121,\n",
       "        36,  31,  24, 112, 109, 110,  70,  45,  10,  56,  60, 145,  61,\n",
       "       129, 144,  72,  71,  89,  87,  97,  62,   4,  38,  19, 150, 131,\n",
       "       130, 132, 149, 128, 137,  75,  99, 143, 107, 147, 151, 152, 153,\n",
       "       159, 157, 158, 156, 160, 161, 163, 164, 165, 166, 167, 168, 170,\n",
       "       171, 169, 172, 174, 173, 175, 177, 176, 180, 178, 181, 182, 187,\n",
       "       189, 190, 191, 195, 193, 192, 197, 198, 199, 202, 201, 200, 204,\n",
       "       203, 205, 207, 206, 208, 209, 210, 162, 183, 185, 184, 186, 194,\n",
       "       188, 211, 212, 213, 146, 179, 154, 155, 196,   2,  48,   0,  37,\n",
       "        78, 142, 111, 116,  76, 148, 134, 221,  23, 140,  42,  22,  83,\n",
       "       136,  43,  98, 113,  84, 127, 135, 214,  80, 133, 126,  81, 114,\n",
       "        29], dtype=int16)"
      ]
     },
     "execution_count": 25,
     "metadata": {},
     "output_type": "execute_result"
    }
   ],
   "source": [
    "dataframe['sub_chapter_label'].unique()"
   ]
  },
  {
   "cell_type": "code",
   "execution_count": 26,
   "metadata": {
    "execution": {
     "iopub.execute_input": "2021-07-26T23:26:08.041483Z",
     "iopub.status.busy": "2021-07-26T23:26:08.040812Z",
     "iopub.status.idle": "2021-07-26T23:26:09.050088Z",
     "shell.execute_reply": "2021-07-26T23:26:09.049573Z",
     "shell.execute_reply.started": "2021-07-26T23:14:14.158450Z"
    },
    "id": "mY3Thp6d0NaT",
    "papermill": {
     "duration": 1.084024,
     "end_time": "2021-07-26T23:26:09.050268",
     "exception": false,
     "start_time": "2021-07-26T23:26:07.966244",
     "status": "completed"
    },
    "tags": []
   },
   "outputs": [],
   "source": [
    "#create dataset class\n",
    "#to prepare it for train, valid, and test sets\n",
    "from torch.utils.data import Dataset, DataLoader\n",
    "class SPACE_DATASET(Dataset):\n",
    "    def __init__(self, data, maxlength = 10):\n",
    "        super(SPACE_DATASET, self).__init__()\n",
    "        self.maxlength = maxlength\n",
    "        self.data = data\n",
    "        self.users = list()\n",
    "        for user in data.index:\n",
    "            self.users.append(user)\n",
    "\n",
    "    def __len__(self):\n",
    "        return len(self.users)\n",
    "    \n",
    "    def __getitem__(self, ix):\n",
    "        user = self.users[ix]\n",
    "        user = user\n",
    "        target, term, ch_label, sub_ch_label, ques_name, features = self.data[user]\n",
    "        \n",
    "        #0s should be used as padding values\n",
    "        ori_target = target.values \n",
    "        term = term.values\n",
    "        ch_label = ch_label.values + 1\n",
    "        sub_ch_label = sub_ch_label.values +1\n",
    "        ques_name = ques_name.values + 1\n",
    "        \n",
    "        n = len(ch_label)\n",
    "\n",
    "        # one hot for term\n",
    "        term_encode = [0]*7\n",
    "        term_encode[term[0]] = 1\n",
    "        shifted_target= []\n",
    "\n",
    "        \n",
    "        # get  user interaction informations in the previous MAXLEN interactions\n",
    "        if n > self.maxlength:\n",
    "          ch_label = ch_label[-self.maxlength:]\n",
    "          sub_ch_label = sub_ch_label[-self.maxlength:]\n",
    "          ques_name = ques_name[-self.maxlength:]\n",
    "          features = features[-self.maxlength:]\n",
    "          target = ori_target[-self.maxlength:]\n",
    "          shifted_target = ori_target[ (-self.maxlength - 1) :-1]\n",
    "        else:\n",
    "          ch_label = [0]*(self.maxlength - n)+list(ch_label[:])\n",
    "          sub_ch_label = [0]*(self.maxlength - n)+list(sub_ch_label[:])\n",
    "          ques_name = [0]*(self.maxlength - n)+list(ques_name[:])\n",
    "          features = [[0]*len(features[0])]*(self.maxlength  - n)+list(features[:])\n",
    "          target = [-1]*(self.maxlength - n) + list(ori_target[:])\n",
    "          shifted_target = [-1]*(self.maxlength + 1 - n) + list(ori_target[:-1])\n",
    "\n",
    "        new_features = []\n",
    "        count = 0\n",
    "        for f in features:\n",
    "          temp = list(f)\n",
    "          temp.extend(term_encode)\n",
    "          # temp.append(shifted_target[count]) #uncomment this line for include previous response feature\n",
    "          new_features.append(temp)\n",
    "          count += 1\n",
    "        features = new_features\n",
    "        return ch_label,sub_ch_label,ques_name,target"
   ]
  },
  {
   "cell_type": "code",
   "execution_count": 27,
   "metadata": {
    "execution": {
     "iopub.execute_input": "2021-07-26T23:26:09.204103Z",
     "iopub.status.busy": "2021-07-26T23:26:09.203445Z",
     "iopub.status.idle": "2021-07-26T23:26:09.206098Z",
     "shell.execute_reply": "2021-07-26T23:26:09.206535Z",
     "shell.execute_reply.started": "2021-07-26T23:14:14.492446Z"
    },
    "papermill": {
     "duration": 0.08093,
     "end_time": "2021-07-26T23:26:09.206703",
     "exception": false,
     "start_time": "2021-07-26T23:26:09.125773",
     "status": "completed"
    },
    "tags": []
   },
   "outputs": [
    {
     "data": {
      "text/plain": [
       "223"
      ]
     },
     "execution_count": 27,
     "metadata": {},
     "output_type": "execute_result"
    }
   ],
   "source": [
    "SUB_CHAPTER_SIZE"
   ]
  },
  {
   "cell_type": "code",
   "execution_count": 28,
   "metadata": {
    "execution": {
     "iopub.execute_input": "2021-07-26T23:26:09.507226Z",
     "iopub.status.busy": "2021-07-26T23:26:09.506519Z",
     "iopub.status.idle": "2021-07-26T23:37:48.305614Z",
     "shell.execute_reply": "2021-07-26T23:37:48.306101Z",
     "shell.execute_reply.started": "2021-07-26T23:14:14.499784Z"
    },
    "id": "gzJrljnjzypP",
    "outputId": "87abe488-b493-4f8f-9d71-45cb1d2ddf51",
    "papermill": {
     "duration": 698.876128,
     "end_time": "2021-07-26T23:37:48.306296",
     "exception": false,
     "start_time": "2021-07-26T23:26:09.430168",
     "status": "completed"
    },
    "tags": []
   },
   "outputs": [
    {
     "name": "stdout",
     "output_type": "stream",
     "text": [
      "Epoch 1/100\n",
      "14/14 [==============================] - 5s 126ms/step - loss: 0.6408 - masked_acc: 0.6123 - masked_auc: 0.5187 - val_loss: 0.6154 - val_masked_acc: 0.6626 - val_masked_auc: 0.6407\n",
      "Epoch 2/100\n",
      "14/14 [==============================] - 0s 10ms/step - loss: 0.5124 - masked_acc: 0.6758 - masked_auc: 0.6779 - val_loss: 0.6264 - val_masked_acc: 0.7010 - val_masked_auc: 0.7292\n",
      "Epoch 3/100\n",
      "14/14 [==============================] - 0s 10ms/step - loss: 0.3955 - masked_acc: 0.7141 - masked_auc: 0.7519 - val_loss: 0.6894 - val_masked_acc: 0.7313 - val_masked_auc: 0.7821\n",
      "Epoch 4/100\n",
      "14/14 [==============================] - 0s 10ms/step - loss: 0.3412 - masked_acc: 0.7401 - masked_auc: 0.7952 - val_loss: 0.8696 - val_masked_acc: 0.7532 - val_masked_auc: 0.8147\n",
      "Epoch 5/100\n",
      "14/14 [==============================] - 0s 10ms/step - loss: 0.2952 - masked_acc: 0.7600 - masked_auc: 0.8239 - val_loss: 0.9535 - val_masked_acc: 0.7709 - val_masked_auc: 0.8379\n",
      "Epoch 6/100\n",
      "14/14 [==============================] - 0s 10ms/step - loss: 0.2645 - masked_acc: 0.7763 - masked_auc: 0.8448 - val_loss: 1.1791 - val_masked_acc: 0.7854 - val_masked_auc: 0.8552\n",
      "Epoch 7/100\n",
      "14/14 [==============================] - 0s 10ms/step - loss: 0.2385 - masked_acc: 0.7897 - masked_auc: 0.8604 - val_loss: 1.3118 - val_masked_acc: 0.7974 - val_masked_auc: 0.8681\n",
      "Epoch 8/100\n",
      "14/14 [==============================] - 0s 10ms/step - loss: 0.2217 - masked_acc: 0.8010 - masked_auc: 0.8720 - val_loss: 1.3947 - val_masked_acc: 0.8068 - val_masked_auc: 0.8779\n",
      "Epoch 9/100\n",
      "14/14 [==============================] - 0s 10ms/step - loss: 0.1956 - masked_acc: 0.8098 - masked_auc: 0.8813 - val_loss: 1.4848 - val_masked_acc: 0.8147 - val_masked_auc: 0.8860\n",
      "Epoch 10/100\n",
      "14/14 [==============================] - 0s 9ms/step - loss: 0.1900 - masked_acc: 0.8174 - masked_auc: 0.8887 - val_loss: 1.6313 - val_masked_acc: 0.8218 - val_masked_auc: 0.8927\n",
      "Epoch 11/100\n",
      "14/14 [==============================] - 0s 10ms/step - loss: 0.1742 - masked_acc: 0.8239 - masked_auc: 0.8950 - val_loss: 1.7771 - val_masked_acc: 0.8277 - val_masked_auc: 0.8985\n",
      "28/28 [==============================] - 0s 2ms/step - loss: 0.1451 - masked_acc: 0.8316 - masked_auc: 0.9026\n",
      "4/4 [==============================] - 0s 3ms/step - loss: 1.4216 - masked_acc: 0.8344 - masked_auc: 0.9051\n",
      "Test:  [1.4215664863586426, 0.8343740105628967, 0.9050952196121216]\n",
      "Epoch 1/100\n",
      "14/14 [==============================] - 4s 71ms/step - loss: 0.6277 - masked_acc: 0.6466 - masked_auc: 0.5540 - val_loss: 0.6197 - val_masked_acc: 0.6690 - val_masked_auc: 0.6513\n",
      "Epoch 2/100\n",
      "14/14 [==============================] - 0s 11ms/step - loss: 0.4825 - masked_acc: 0.6866 - masked_auc: 0.6928 - val_loss: 0.6915 - val_masked_acc: 0.7132 - val_masked_auc: 0.7448\n",
      "Epoch 3/100\n",
      "14/14 [==============================] - 0s 11ms/step - loss: 0.3947 - masked_acc: 0.7246 - masked_auc: 0.7654 - val_loss: 0.7531 - val_masked_acc: 0.7425 - val_masked_auc: 0.7942\n",
      "Epoch 4/100\n",
      "14/14 [==============================] - 0s 11ms/step - loss: 0.3247 - masked_acc: 0.7512 - masked_auc: 0.8067 - val_loss: 1.0148 - val_masked_acc: 0.7648 - val_masked_auc: 0.8258\n",
      "Epoch 5/100\n",
      "14/14 [==============================] - 0s 11ms/step - loss: 0.2786 - masked_acc: 0.7714 - masked_auc: 0.8346 - val_loss: 1.0122 - val_masked_acc: 0.7818 - val_masked_auc: 0.8476\n",
      "Epoch 6/100\n",
      "14/14 [==============================] - 0s 10ms/step - loss: 0.2543 - masked_acc: 0.7867 - masked_auc: 0.8535 - val_loss: 1.2098 - val_masked_acc: 0.7949 - val_masked_auc: 0.8630\n",
      "Epoch 7/100\n",
      "14/14 [==============================] - 0s 10ms/step - loss: 0.2136 - masked_acc: 0.7992 - masked_auc: 0.8681 - val_loss: 1.2714 - val_masked_acc: 0.8057 - val_masked_auc: 0.8755\n",
      "Epoch 8/100\n",
      "14/14 [==============================] - 0s 10ms/step - loss: 0.1993 - masked_acc: 0.8093 - masked_auc: 0.8794 - val_loss: 1.4889 - val_masked_acc: 0.8145 - val_masked_auc: 0.8846\n",
      "Epoch 9/100\n",
      "14/14 [==============================] - 0s 10ms/step - loss: 0.1805 - masked_acc: 0.8174 - masked_auc: 0.8878 - val_loss: 1.7216 - val_masked_acc: 0.8219 - val_masked_auc: 0.8921\n",
      "Epoch 10/100\n",
      "14/14 [==============================] - 0s 10ms/step - loss: 0.1716 - masked_acc: 0.8245 - masked_auc: 0.8947 - val_loss: 1.6796 - val_masked_acc: 0.8286 - val_masked_auc: 0.8986\n",
      "Epoch 11/100\n",
      "14/14 [==============================] - 0s 10ms/step - loss: 0.1568 - masked_acc: 0.8309 - masked_auc: 0.9008 - val_loss: 1.8389 - val_masked_acc: 0.8343 - val_masked_auc: 0.9038\n",
      "28/28 [==============================] - 0s 2ms/step - loss: 0.1345 - masked_acc: 0.8381 - masked_auc: 0.9076\n",
      "4/4 [==============================] - 0s 3ms/step - loss: 1.7196 - masked_acc: 0.8407 - masked_auc: 0.9097\n",
      "Test:  [1.7195730209350586, 0.8407055735588074, 0.9097344279289246]\n",
      "Epoch 1/100\n",
      "14/14 [==============================] - 4s 90ms/step - loss: 0.6437 - masked_acc: 0.5774 - masked_auc: 0.5467 - val_loss: 0.5896 - val_masked_acc: 0.6506 - val_masked_auc: 0.6275\n",
      "Epoch 2/100\n",
      "14/14 [==============================] - 0s 10ms/step - loss: 0.5256 - masked_acc: 0.6672 - masked_auc: 0.6705 - val_loss: 0.6756 - val_masked_acc: 0.6951 - val_masked_auc: 0.7213\n",
      "Epoch 3/100\n",
      "14/14 [==============================] - 0s 11ms/step - loss: 0.4125 - masked_acc: 0.7086 - masked_auc: 0.7448 - val_loss: 0.7369 - val_masked_acc: 0.7279 - val_masked_auc: 0.7763\n",
      "Epoch 4/100\n",
      "14/14 [==============================] - 0s 11ms/step - loss: 0.3347 - masked_acc: 0.7387 - masked_auc: 0.7924 - val_loss: 0.8897 - val_masked_acc: 0.7525 - val_masked_auc: 0.8113\n",
      "Epoch 5/100\n",
      "14/14 [==============================] - 0s 11ms/step - loss: 0.2838 - masked_acc: 0.7604 - masked_auc: 0.8221 - val_loss: 1.0510 - val_masked_acc: 0.7704 - val_masked_auc: 0.8352\n",
      "Epoch 6/100\n",
      "14/14 [==============================] - 0s 11ms/step - loss: 0.2495 - masked_acc: 0.7767 - masked_auc: 0.8433 - val_loss: 1.1619 - val_masked_acc: 0.7856 - val_masked_auc: 0.8534\n",
      "Epoch 7/100\n",
      "14/14 [==============================] - 0s 10ms/step - loss: 0.2232 - masked_acc: 0.7904 - masked_auc: 0.8593 - val_loss: 1.3270 - val_masked_acc: 0.7974 - val_masked_auc: 0.8668\n",
      "Epoch 8/100\n",
      "14/14 [==============================] - 0s 10ms/step - loss: 0.2179 - masked_acc: 0.8013 - masked_auc: 0.8713 - val_loss: 1.4141 - val_masked_acc: 0.8072 - val_masked_auc: 0.8770\n",
      "Epoch 9/100\n",
      "14/14 [==============================] - 0s 10ms/step - loss: 0.2120 - masked_acc: 0.8102 - masked_auc: 0.8804 - val_loss: 1.4654 - val_masked_acc: 0.8149 - val_masked_auc: 0.8850\n",
      "Epoch 10/100\n",
      "14/14 [==============================] - 0s 10ms/step - loss: 0.1818 - masked_acc: 0.8177 - masked_auc: 0.8882 - val_loss: 1.6902 - val_masked_acc: 0.8221 - val_masked_auc: 0.8921\n",
      "Epoch 11/100\n",
      "14/14 [==============================] - 0s 10ms/step - loss: 0.1693 - masked_acc: 0.8247 - masked_auc: 0.8947 - val_loss: 1.7735 - val_masked_acc: 0.8282 - val_masked_auc: 0.8979\n",
      "28/28 [==============================] - 0s 3ms/step - loss: 0.1460 - masked_acc: 0.8324 - masked_auc: 0.9022\n",
      "4/4 [==============================] - 0s 3ms/step - loss: 1.5356 - masked_acc: 0.8351 - masked_auc: 0.9045\n",
      "Test:  [1.5355727672576904, 0.8350801467895508, 0.9044924974441528]\n",
      "Epoch 1/100\n",
      "14/14 [==============================] - 4s 102ms/step - loss: 0.6460 - masked_acc: 0.5973 - masked_auc: 0.5114 - val_loss: 0.5868 - val_masked_acc: 0.6596 - val_masked_auc: 0.6271\n",
      "Epoch 2/100\n",
      "14/14 [==============================] - 0s 12ms/step - loss: 0.5119 - masked_acc: 0.6754 - masked_auc: 0.6729 - val_loss: 0.6085 - val_masked_acc: 0.6996 - val_masked_auc: 0.7257\n",
      "Epoch 3/100\n",
      "14/14 [==============================] - 0s 11ms/step - loss: 0.4158 - masked_acc: 0.7110 - masked_auc: 0.7479 - val_loss: 0.7193 - val_masked_acc: 0.7289 - val_masked_auc: 0.7787\n",
      "Epoch 4/100\n",
      "14/14 [==============================] - 0s 11ms/step - loss: 0.3452 - masked_acc: 0.7383 - masked_auc: 0.7933 - val_loss: 0.7909 - val_masked_acc: 0.7532 - val_masked_auc: 0.8131\n",
      "Epoch 5/100\n",
      "14/14 [==============================] - 0s 11ms/step - loss: 0.2942 - masked_acc: 0.7606 - masked_auc: 0.8231 - val_loss: 1.0673 - val_masked_acc: 0.7720 - val_masked_auc: 0.8379\n",
      "Epoch 6/100\n",
      "14/14 [==============================] - 0s 11ms/step - loss: 0.2569 - masked_acc: 0.7774 - masked_auc: 0.8449 - val_loss: 1.0272 - val_masked_acc: 0.7860 - val_masked_auc: 0.8551\n",
      "Epoch 7/100\n",
      "14/14 [==============================] - 0s 11ms/step - loss: 0.2428 - masked_acc: 0.7904 - masked_auc: 0.8605 - val_loss: 1.3494 - val_masked_acc: 0.7982 - val_masked_auc: 0.8684\n",
      "Epoch 8/100\n",
      "14/14 [==============================] - 0s 10ms/step - loss: 0.2123 - masked_acc: 0.8019 - masked_auc: 0.8727 - val_loss: 1.3706 - val_masked_acc: 0.8078 - val_masked_auc: 0.8787\n",
      "Epoch 9/100\n",
      "14/14 [==============================] - 0s 11ms/step - loss: 0.1917 - masked_acc: 0.8109 - masked_auc: 0.8823 - val_loss: 1.4932 - val_masked_acc: 0.8159 - val_masked_auc: 0.8874\n",
      "Epoch 10/100\n",
      "14/14 [==============================] - 0s 11ms/step - loss: 0.1849 - masked_acc: 0.8187 - masked_auc: 0.8903 - val_loss: 1.5226 - val_masked_acc: 0.8227 - val_masked_auc: 0.8941\n",
      "Epoch 11/100\n",
      "14/14 [==============================] - 0s 11ms/step - loss: 0.1847 - masked_acc: 0.8248 - masked_auc: 0.8964 - val_loss: 1.8049 - val_masked_acc: 0.8288 - val_masked_auc: 0.8997\n",
      "28/28 [==============================] - 0s 3ms/step - loss: 0.1620 - masked_acc: 0.8325 - masked_auc: 0.9036\n",
      "4/4 [==============================] - 0s 3ms/step - loss: 1.7537 - masked_acc: 0.8346 - masked_auc: 0.9053\n",
      "Test:  [1.7537444829940796, 0.8346459865570068, 0.9052953720092773]\n",
      "Epoch 1/100\n",
      "14/14 [==============================] - 4s 77ms/step - loss: 0.6501 - masked_acc: 0.5491 - masked_auc: 0.5373 - val_loss: 0.5869 - val_masked_acc: 0.6557 - val_masked_auc: 0.6262\n",
      "Epoch 2/100\n",
      "14/14 [==============================] - 0s 13ms/step - loss: 0.5192 - masked_acc: 0.6709 - masked_auc: 0.6697 - val_loss: 0.6468 - val_masked_acc: 0.6979 - val_masked_auc: 0.7219\n",
      "Epoch 3/100\n",
      "14/14 [==============================] - 0s 10ms/step - loss: 0.4090 - masked_acc: 0.7091 - masked_auc: 0.7449 - val_loss: 0.7058 - val_masked_acc: 0.7289 - val_masked_auc: 0.7786\n",
      "Epoch 4/100\n",
      "14/14 [==============================] - 0s 11ms/step - loss: 0.3238 - masked_acc: 0.7390 - masked_auc: 0.7940 - val_loss: 0.8634 - val_masked_acc: 0.7532 - val_masked_auc: 0.8149\n",
      "Epoch 5/100\n",
      "14/14 [==============================] - 0s 11ms/step - loss: 0.2808 - masked_acc: 0.7608 - masked_auc: 0.8249 - val_loss: 0.9663 - val_masked_acc: 0.7722 - val_masked_auc: 0.8395\n",
      "Epoch 6/100\n",
      "14/14 [==============================] - 0s 11ms/step - loss: 0.2404 - masked_acc: 0.7782 - masked_auc: 0.8469 - val_loss: 1.1969 - val_masked_acc: 0.7873 - val_masked_auc: 0.8576\n",
      "Epoch 7/100\n",
      "14/14 [==============================] - 0s 11ms/step - loss: 0.2195 - masked_acc: 0.7920 - masked_auc: 0.8628 - val_loss: 1.3095 - val_masked_acc: 0.7991 - val_masked_auc: 0.8706\n",
      "Epoch 8/100\n",
      "14/14 [==============================] - 0s 11ms/step - loss: 0.2055 - masked_acc: 0.8029 - masked_auc: 0.8746 - val_loss: 1.4477 - val_masked_acc: 0.8085 - val_masked_auc: 0.8804\n",
      "Epoch 9/100\n",
      "14/14 [==============================] - 0s 10ms/step - loss: 0.1793 - masked_acc: 0.8118 - masked_auc: 0.8839 - val_loss: 1.5381 - val_masked_acc: 0.8167 - val_masked_auc: 0.8887\n",
      "Epoch 10/100\n",
      "14/14 [==============================] - 0s 11ms/step - loss: 0.1745 - masked_acc: 0.8194 - masked_auc: 0.8915 - val_loss: 1.6817 - val_masked_acc: 0.8238 - val_masked_auc: 0.8953\n",
      "Epoch 11/100\n",
      "14/14 [==============================] - 0s 11ms/step - loss: 0.1604 - masked_acc: 0.8261 - masked_auc: 0.8976 - val_loss: 1.6901 - val_masked_acc: 0.8301 - val_masked_auc: 0.9011\n",
      "28/28 [==============================] - 0s 3ms/step - loss: 0.1356 - masked_acc: 0.8342 - masked_auc: 0.9052\n",
      "4/4 [==============================] - 0s 3ms/step - loss: 1.3631 - masked_acc: 0.8369 - masked_auc: 0.9077\n",
      "Test:  [1.363081693649292, 0.8369259238243103, 0.9076870679855347]\n"
     ]
    }
   ],
   "source": [
    "# 5 fold cross validation\n",
    "#HERE WE ONLY USE\n",
    "#CHAPTER, SUB_CHAPTER\n",
    "#QUESTION\n",
    "import torch\n",
    "X = np.array(grouped_data.keys())\n",
    "kfold = KFold(n_splits=5, shuffle=True)\n",
    "train_losses = list()\n",
    "train_aucs = list()\n",
    "val_losses = list()\n",
    "val_aucs = list()\n",
    "train_eval = list()\n",
    "test_eval = list()\n",
    "for train, test in kfold.split(X):\n",
    "    users_train, users_test =  X[train], X[test]\n",
    "    n = len(users_test)//2\n",
    "    users_test, users_val = users_test[:n], users_test[n: ]\n",
    "    train_data_space = SPACE_DATASET(grouped_data[users_train], MAXLENGTH)\n",
    "    val_data_space = SPACE_DATASET(grouped_data[users_val], MAXLENGTH)\n",
    "    test_data_space = SPACE_DATASET(grouped_data[users_test], MAXLENGTH)\n",
    "    #construct training input\n",
    "    train_chapter=[]\n",
    "    train_sub_chapter=[]\n",
    "    train_question = []\n",
    "    train_features=[]\n",
    "    train_labels=[]\n",
    "    for i in range(len(users_train)):\n",
    "        user = train_data_space.__getitem__(i)\n",
    "        train_chapter.append(user[0])\n",
    "        train_sub_chapter.append(user[1]) \n",
    "        train_question.append(user[2])\n",
    "        #train_features.append(user[3])\n",
    "        train_labels.append(user[3])\n",
    "    train_chapter = np.array(train_chapter)\n",
    "    train_sub_chapter = np.array(train_sub_chapter)\n",
    "    train_question = np.array(train_question)\n",
    "    #train_features = np.array(train_features)\n",
    "    train_labels= np.array(train_labels)[..., np.newaxis]\n",
    "\n",
    "    #construct validation input\n",
    "    val_chapter=[]\n",
    "    val_sub_chapter=[]\n",
    "    val_question = []\n",
    "    #val_features=[]\n",
    "    val_labels=[]\n",
    "    for i in range(len(users_val)):\n",
    "        user = val_data_space.__getitem__(i)\n",
    "        val_chapter.append(user[0])\n",
    "        val_sub_chapter.append(user[1]) \n",
    "        val_question.append(user[2])\n",
    "        #val_features.append(user[3])\n",
    "        val_labels.append(user[3])\n",
    "    val_chapter = np.array(val_chapter)\n",
    "    val_sub_chapter = np.array(val_sub_chapter)\n",
    "    #val_features = np.array(val_features)\n",
    "    val_question = np.array(val_question)\n",
    "    val_labels= np.array(val_labels)[..., np.newaxis]\n",
    "\n",
    "    # construct test input\n",
    "    test_chapter=[]\n",
    "    test_sub_chapter=[]\n",
    "    #test_features=[]\n",
    "    test_question=[]\n",
    "    test_labels=[]\n",
    "    for i in range(len(users_test)):\n",
    "        user = test_data_space.__getitem__(i)\n",
    "        test_chapter.append(user[0])\n",
    "        test_sub_chapter.append(user[1]) \n",
    "        test_question.append(user[2])\n",
    "        #test_features.append(user[3])\n",
    "        test_labels.append(user[3])\n",
    "    test_chapter = np.array(test_chapter)\n",
    "    test_sub_chapter = np.array(test_sub_chapter)\n",
    "    #test_features = np.array(test_features)\n",
    "    test_question = np.array(test_question)\n",
    "    test_labels= np.array(test_labels)[..., np.newaxis]\n",
    "\n",
    "    # define loss function and evaluation metrics\n",
    "    bce = tf.keras.losses.BinaryCrossentropy(from_logits=True)\n",
    "    acc = tf.keras.metrics.Accuracy()\n",
    "    auc = tf.keras.metrics.AUC()\n",
    "\n",
    "    def masked_bce(y_true, y_pred):\n",
    "      flat_pred = y_pred\n",
    "      flat_ground_truth = y_true\n",
    "      label_mask = tf.math.not_equal(flat_ground_truth, -1)\n",
    "      return bce(flat_ground_truth, flat_pred, sample_weight=label_mask)\n",
    "\n",
    "    def masked_acc(y_true, y_pred):\n",
    "      flat_pred = y_pred\n",
    "      flat_ground_truth = y_true\n",
    "      flat_pred = (flat_pred >= 0.5)\n",
    "      label_mask = tf.math.not_equal(flat_ground_truth, -1)\n",
    "      return acc(flat_ground_truth, flat_pred, sample_weight=label_mask)\n",
    "\n",
    "    def masked_auc(y_true, y_pred):\n",
    "      flat_pred = y_pred\n",
    "      flat_ground_truth = y_true\n",
    "      label_mask = tf.math.not_equal(flat_ground_truth, -1)\n",
    "      return auc(flat_ground_truth, flat_pred, sample_weight=label_mask)\n",
    "\n",
    "    # input layer\n",
    "    input_chap = tf.keras.Input(shape=(MAXLENGTH))\n",
    "    input_sub_chap = tf.keras.Input(shape=(MAXLENGTH))\n",
    "    input_ques =  tf.keras.Input(shape=(MAXLENGTH))\n",
    "    #input_features = tf.keras.Input(shape=(MAXLENGTH, FEATURES_SIZE))\n",
    "\n",
    "    # embedding layer for categorical features\n",
    "    embedding_chap = Embedding(input_dim = CHAPTER_SIZE, output_dim = EMBEDDING_DIM)(input_chap)\n",
    "    embedding_sub_chap = Embedding(input_dim = SUB_CHAPTER_SIZE, output_dim = EMBEDDING_DIM)(input_sub_chap) \n",
    "    embedding_ques = Embedding(input_dim = QUESTION_SIZE, output_dim = EMBEDDING_DIM)(input_ques)       \n",
    "\n",
    "    # dense layer for numeric features\n",
    "    #dense_features = Dense(EMBEDDING_DIM,input_shape = (None, MAXLENGTH))(input_features)\n",
    "\n",
    "    # definr lstm layers\n",
    "    rnn_chap = SimpleRNN(RNN_NEURON, input_shape = (None, EMBEDDING_DIM),return_sequences = True)(embedding_chap)\n",
    "    rnn_sub_chap = SimpleRNN(RNN_NEURON, input_shape = (None, EMBEDDING_DIM),return_sequences = True)(embedding_sub_chap)\n",
    "    rnn_ques = SimpleRNN(RNN_NEURON, input_shape = (None, EMBEDDING_DIM),return_sequences = True)(embedding_ques)\n",
    "    #rnn_features = RNN(RNN_NEURON, input_shape = (None, EMBEDDING_DIM),return_sequences = True)(dense_features)\n",
    "\n",
    "    rnn_output = tf.concat([rnn_chap, rnn_sub_chap, rnn_ques], axis = 2)\n",
    "\n",
    "    dense1 = Dense(256, input_shape = (None, 3*EMBEDDING_DIM), activation='relu')(rnn_output)\n",
    "    dropout1 = Dropout(0.1)(dense1)\n",
    "    dense2 = Dense(64, input_shape = (None, 256), activation='relu')(dropout1)\n",
    "    dropout2 = Dropout(0.1)(dense2)\n",
    "    pred = Dense(1, input_shape = (None, 64), activation='sigmoid')(dropout2)\n",
    "\n",
    "    model = tf.keras.Model(\n",
    "        inputs=[input_chap, input_sub_chap,input_ques],\n",
    "        outputs=pred,\n",
    "        name='lstm_model'\n",
    "    )\n",
    "\n",
    "    callback = tf.keras.callbacks.EarlyStopping(monitor='val_loss', patience=10)\n",
    "    opt_adam = Adam(learning_rate = 0.005)\n",
    "    model.compile(\n",
    "        optimizer=opt_adam,\n",
    "        loss= masked_bce,\n",
    "        metrics = [masked_acc, masked_auc]\n",
    "    )\n",
    "\n",
    "    history = model.fit(\n",
    "      [train_chapter, train_sub_chapter, train_question],\n",
    "      train_labels,\n",
    "      batch_size = 64,\n",
    "      epochs = 100,\n",
    "      validation_data=([val_chapter, val_sub_chapter, val_question], val_labels),\n",
    "      callbacks=[callback]\n",
    "    )\n",
    "    val_losses.append(list(history.history['val_loss']))\n",
    "    train_losses.append(list(history.history['loss']))\n",
    "    val_aucs.append(list(history.history['val_masked_auc']))\n",
    "    train_aucs.append(list(history.history['masked_auc']))\n",
    "    train_score = model.evaluate([train_chapter, train_sub_chapter, train_question], train_labels)\n",
    "    train_eval.append(train_score)\n",
    "    test_score = model.evaluate([test_chapter, test_sub_chapter, test_question], test_labels)\n",
    "    test_eval.append(test_score)\n",
    "    print(\"Test: \", test_score)\n",
    "    def reset_weights(model):\n",
    "      for layer in model.layers: \n",
    "        if isinstance(layer, tf.keras.Model):\n",
    "          reset_weights(layer)\n",
    "          continue\n",
    "        for k, initializer in layer.__dict__.items():\n",
    "          if \"initializer\" not in k:\n",
    "            continue\n",
    "          # find the corresponding variable\n",
    "          var = getattr(layer, k.replace(\"_initializer\", \"\"))\n",
    "          var.assign(initializer(var.shape, var.dtype))\n",
    "    reset_weights(model)"
   ]
  },
  {
   "cell_type": "code",
   "execution_count": 29,
   "metadata": {
    "execution": {
     "iopub.execute_input": "2021-07-26T23:37:49.231356Z",
     "iopub.status.busy": "2021-07-26T23:37:49.230523Z",
     "iopub.status.idle": "2021-07-26T23:37:49.235150Z",
     "shell.execute_reply": "2021-07-26T23:37:49.234713Z",
     "shell.execute_reply.started": "2021-07-26T23:23:43.391655Z"
    },
    "id": "QsVmumHMz3lx",
    "outputId": "4ff1e2fa-6abb-458e-c729-495b456f53e5",
    "papermill": {
     "duration": 0.471273,
     "end_time": "2021-07-26T23:37:49.235338",
     "exception": false,
     "start_time": "2021-07-26T23:37:48.764065",
     "status": "completed"
    },
    "tags": []
   },
   "outputs": [
    {
     "name": "stdout",
     "output_type": "stream",
     "text": [
      "test avg loss:  1.5587076902389527 +/- 0.1559034766469058\n",
      "test avg acc:  0.8363463282585144 +/- 0.0023547129385424353\n",
      "test avg auc:  0.9064609169960022 +/- 0.001965584903768563\n"
     ]
    }
   ],
   "source": [
    "t_eval = np.array(test_eval)\n",
    "print(\"test avg loss: \", np.mean(t_eval[:, 0]), \"+/-\" ,np.std(t_eval[:, 0]))\n",
    "print(\"test avg acc: \", np.mean(t_eval[:, 1]),  \"+/-\" ,np.std(t_eval[:, 1]))\n",
    "print(\"test avg auc: \", np.mean(t_eval[:, 2]), \"+/-\" ,np.std(t_eval[:, 2]))"
   ]
  },
  {
   "cell_type": "code",
   "execution_count": 30,
   "metadata": {
    "execution": {
     "iopub.execute_input": "2021-07-26T23:37:50.172495Z",
     "iopub.status.busy": "2021-07-26T23:37:50.171697Z",
     "iopub.status.idle": "2021-07-26T23:37:50.179326Z",
     "shell.execute_reply": "2021-07-26T23:37:50.179756Z",
     "shell.execute_reply.started": "2021-07-26T23:23:43.402890Z"
    },
    "id": "b9MM_CXWz5K6",
    "outputId": "4cf88e1d-3a74-4e7d-f92c-d01522e91757",
    "papermill": {
     "duration": 0.478646,
     "end_time": "2021-07-26T23:37:50.179910",
     "exception": false,
     "start_time": "2021-07-26T23:37:49.701264",
     "status": "completed"
    },
    "tags": []
   },
   "outputs": [
    {
     "name": "stdout",
     "output_type": "stream",
     "text": [
      "train avg loss:  0.14464228749275207 +/- 0.009902125148876638\n",
      "train avg acc:  0.8337663650512696 +/- 0.0023175362590906546\n",
      "train avg auc:  0.9042200922966004 +/- 0.001966416106205569\n"
     ]
    }
   ],
   "source": [
    "t_eval = np.array(train_eval)\n",
    "print(\"train avg loss: \", np.mean(t_eval[:, 0]), \"+/-\" ,np.std(t_eval[:, 0]))\n",
    "print(\"train avg acc: \", np.mean(t_eval[:, 1]),  \"+/-\" ,np.std(t_eval[:, 1]))\n",
    "print(\"train avg auc: \", np.mean(t_eval[:, 2]), \"+/-\" ,np.std(t_eval[:, 2]))"
   ]
  },
  {
   "cell_type": "code",
   "execution_count": null,
   "metadata": {},
   "outputs": [],
   "source": []
  }
 ],
 "metadata": {
  "kernelspec": {
   "display_name": "Python 3",
   "language": "python",
   "name": "python3"
  },
  "language_info": {
   "codemirror_mode": {
    "name": "ipython",
    "version": 3
   },
   "file_extension": ".py",
   "mimetype": "text/x-python",
   "name": "python",
   "nbconvert_exporter": "python",
   "pygments_lexer": "ipython3",
   "version": "3.8.5"
  },
  "papermill": {
   "default_parameters": {},
   "duration": 756.00379,
   "end_time": "2021-07-26T23:37:52.852400",
   "environment_variables": {},
   "exception": null,
   "input_path": "__notebook__.ipynb",
   "output_path": "__notebook__.ipynb",
   "parameters": {},
   "start_time": "2021-07-26T23:25:16.848610",
   "version": "2.3.3"
  }
 },
 "nbformat": 4,
 "nbformat_minor": 5
}
