{
 "cells": [
  {
   "cell_type": "code",
   "execution_count": 1,
   "metadata": {
    "execution": {
     "iopub.execute_input": "2021-07-26T22:45:31.915219Z",
     "iopub.status.busy": "2021-07-26T22:45:31.914710Z",
     "iopub.status.idle": "2021-07-26T22:45:35.001252Z",
     "shell.execute_reply": "2021-07-26T22:45:35.000196Z",
     "shell.execute_reply.started": "2021-07-26T22:45:31.915148Z"
    },
    "id": "farifxiKU1aB"
   },
   "outputs": [],
   "source": [
    "import numpy as np\n",
    "import pandas as pd\n",
    "import warnings\n",
    "import gc\n",
    "import tensorflow as tf\n",
    "from tensorflow import keras\n",
    "\n",
    "import random\n",
    "from random import choice\n",
    "from tensorflow.keras.optimizers import Adam\n",
    "from tensorflow.keras.models import Sequential \n",
    "from tensorflow.keras.layers import Dense, SimpleRNN, Concatenate, Embedding, Flatten, Activation, Dropout\n",
    "from sklearn.model_selection import KFold\n",
    "from tensorflow.python.client import device_lib\n",
    "warnings.filterwarnings('ignore')\n",
    "import random"
   ]
  },
  {
   "cell_type": "code",
   "execution_count": 2,
   "metadata": {
    "execution": {
     "iopub.execute_input": "2021-07-26T22:45:35.006468Z",
     "iopub.status.busy": "2021-07-26T22:45:35.006096Z",
     "iopub.status.idle": "2021-07-26T22:45:35.010919Z",
     "shell.execute_reply": "2021-07-26T22:45:35.009739Z",
     "shell.execute_reply.started": "2021-07-26T22:45:35.006436Z"
    },
    "id": "QOson70GPOXb"
   },
   "outputs": [],
   "source": [
    "import gc"
   ]
  },
  {
   "cell_type": "markdown",
   "metadata": {
    "id": "BQsVybBH3VPw"
   },
   "source": [
    "## Data Preprocessing"
   ]
  },
  {
   "cell_type": "code",
   "execution_count": 3,
   "metadata": {
    "execution": {
     "iopub.execute_input": "2021-07-26T22:45:35.013411Z",
     "iopub.status.busy": "2021-07-26T22:45:35.012863Z",
     "iopub.status.idle": "2021-07-26T22:45:41.338793Z",
     "shell.execute_reply": "2021-07-26T22:45:41.337750Z",
     "shell.execute_reply.started": "2021-07-26T22:45:35.013376Z"
    },
    "id": "rwtTusGxrmAE",
    "outputId": "1430f3cf-038b-485e-b5c4-c1686b1f34fd"
   },
   "outputs": [
    {
     "data": {
      "text/html": [
       "<div>\n",
       "<style scoped>\n",
       "    .dataframe tbody tr th:only-of-type {\n",
       "        vertical-align: middle;\n",
       "    }\n",
       "\n",
       "    .dataframe tbody tr th {\n",
       "        vertical-align: top;\n",
       "    }\n",
       "\n",
       "    .dataframe thead th {\n",
       "        text-align: right;\n",
       "    }\n",
       "</style>\n",
       "<table border=\"1\" class=\"dataframe\">\n",
       "  <thead>\n",
       "    <tr style=\"text-align: right;\">\n",
       "      <th></th>\n",
       "      <th>Unnamed: 0</th>\n",
       "      <th>chapter_label</th>\n",
       "      <th>sub_chapter_label</th>\n",
       "      <th>question_name</th>\n",
       "      <th>user_id.x</th>\n",
       "      <th>term</th>\n",
       "      <th>STDNT_SEX_CD</th>\n",
       "      <th>NonNativeEnglish</th>\n",
       "      <th>White</th>\n",
       "      <th>Asian</th>\n",
       "      <th>...</th>\n",
       "      <th>classGraded</th>\n",
       "      <th>classHonors</th>\n",
       "      <th>Pass_Fail</th>\n",
       "      <th>parentsGraduateEdu</th>\n",
       "      <th>minorityGroup</th>\n",
       "      <th>q</th>\n",
       "      <th>day's_available_flashcards</th>\n",
       "      <th>start_practice</th>\n",
       "      <th>end_practice</th>\n",
       "      <th>days_offset</th>\n",
       "    </tr>\n",
       "  </thead>\n",
       "  <tbody>\n",
       "    <tr>\n",
       "      <th>0</th>\n",
       "      <td>1</td>\n",
       "      <td>Sort</td>\n",
       "      <td>intro-SortingwithSortandSorted</td>\n",
       "      <td>ee_sort_04</td>\n",
       "      <td>148</td>\n",
       "      <td>WN 2018</td>\n",
       "      <td>1</td>\n",
       "      <td>0</td>\n",
       "      <td>1</td>\n",
       "      <td>0</td>\n",
       "      <td>...</td>\n",
       "      <td>1</td>\n",
       "      <td>0</td>\n",
       "      <td>0</td>\n",
       "      <td>0</td>\n",
       "      <td>0</td>\n",
       "      <td>0</td>\n",
       "      <td>18</td>\n",
       "      <td>2018-03-04 20:00:19</td>\n",
       "      <td>2018-03-04 20:00:35</td>\n",
       "      <td>45</td>\n",
       "    </tr>\n",
       "    <tr>\n",
       "      <th>1</th>\n",
       "      <td>2</td>\n",
       "      <td>Functions</td>\n",
       "      <td>Returningavaluefromafunction</td>\n",
       "      <td>test_questionfunctions_2_3</td>\n",
       "      <td>148</td>\n",
       "      <td>WN 2018</td>\n",
       "      <td>1</td>\n",
       "      <td>0</td>\n",
       "      <td>1</td>\n",
       "      <td>0</td>\n",
       "      <td>...</td>\n",
       "      <td>1</td>\n",
       "      <td>0</td>\n",
       "      <td>0</td>\n",
       "      <td>0</td>\n",
       "      <td>0</td>\n",
       "      <td>4</td>\n",
       "      <td>16</td>\n",
       "      <td>2018-02-10 11:57:55</td>\n",
       "      <td>2018-02-10 11:58:35</td>\n",
       "      <td>23</td>\n",
       "    </tr>\n",
       "    <tr>\n",
       "      <th>2</th>\n",
       "      <td>3</td>\n",
       "      <td>RESTAPIs</td>\n",
       "      <td>functionswithrestapis</td>\n",
       "      <td>test_question_functions_rest_apis_1</td>\n",
       "      <td>148</td>\n",
       "      <td>WN 2018</td>\n",
       "      <td>1</td>\n",
       "      <td>0</td>\n",
       "      <td>1</td>\n",
       "      <td>0</td>\n",
       "      <td>...</td>\n",
       "      <td>1</td>\n",
       "      <td>0</td>\n",
       "      <td>0</td>\n",
       "      <td>0</td>\n",
       "      <td>0</td>\n",
       "      <td>1</td>\n",
       "      <td>2</td>\n",
       "      <td>2018-03-12 17:03:07</td>\n",
       "      <td>2018-03-12 17:04:28</td>\n",
       "      <td>53</td>\n",
       "    </tr>\n",
       "    <tr>\n",
       "      <th>3</th>\n",
       "      <td>4</td>\n",
       "      <td>SimplePythonData</td>\n",
       "      <td>FunctionCalls</td>\n",
       "      <td>exercise_functionCalls_1</td>\n",
       "      <td>148</td>\n",
       "      <td>WN 2018</td>\n",
       "      <td>1</td>\n",
       "      <td>0</td>\n",
       "      <td>1</td>\n",
       "      <td>0</td>\n",
       "      <td>...</td>\n",
       "      <td>1</td>\n",
       "      <td>0</td>\n",
       "      <td>0</td>\n",
       "      <td>0</td>\n",
       "      <td>0</td>\n",
       "      <td>0</td>\n",
       "      <td>10</td>\n",
       "      <td>2018-01-30 14:15:49</td>\n",
       "      <td>2018-01-30 14:15:58</td>\n",
       "      <td>12</td>\n",
       "    </tr>\n",
       "    <tr>\n",
       "      <th>4</th>\n",
       "      <td>5</td>\n",
       "      <td>DictionaryAccumulation</td>\n",
       "      <td>AccumulatingaMaximumValue</td>\n",
       "      <td>ps_04_07</td>\n",
       "      <td>148</td>\n",
       "      <td>WN 2018</td>\n",
       "      <td>1</td>\n",
       "      <td>0</td>\n",
       "      <td>1</td>\n",
       "      <td>0</td>\n",
       "      <td>...</td>\n",
       "      <td>1</td>\n",
       "      <td>0</td>\n",
       "      <td>0</td>\n",
       "      <td>0</td>\n",
       "      <td>0</td>\n",
       "      <td>0</td>\n",
       "      <td>23</td>\n",
       "      <td>2018-03-03 14:04:17</td>\n",
       "      <td>2018-03-03 14:04:25</td>\n",
       "      <td>44</td>\n",
       "    </tr>\n",
       "  </tbody>\n",
       "</table>\n",
       "<p>5 rows × 48 columns</p>\n",
       "</div>"
      ],
      "text/plain": [
       "   Unnamed: 0           chapter_label               sub_chapter_label  \\\n",
       "0           1                    Sort  intro-SortingwithSortandSorted   \n",
       "1           2               Functions    Returningavaluefromafunction   \n",
       "2           3                RESTAPIs           functionswithrestapis   \n",
       "3           4        SimplePythonData                   FunctionCalls   \n",
       "4           5  DictionaryAccumulation       AccumulatingaMaximumValue   \n",
       "\n",
       "                         question_name  user_id.x     term  STDNT_SEX_CD  \\\n",
       "0                           ee_sort_04        148  WN 2018             1   \n",
       "1           test_questionfunctions_2_3        148  WN 2018             1   \n",
       "2  test_question_functions_rest_apis_1        148  WN 2018             1   \n",
       "3             exercise_functionCalls_1        148  WN 2018             1   \n",
       "4                             ps_04_07        148  WN 2018             1   \n",
       "\n",
       "   NonNativeEnglish  White  Asian  ...  classGraded  classHonors  Pass_Fail  \\\n",
       "0                 0      1      0  ...            1            0          0   \n",
       "1                 0      1      0  ...            1            0          0   \n",
       "2                 0      1      0  ...            1            0          0   \n",
       "3                 0      1      0  ...            1            0          0   \n",
       "4                 0      1      0  ...            1            0          0   \n",
       "\n",
       "   parentsGraduateEdu  minorityGroup  q  day's_available_flashcards  \\\n",
       "0                   0              0  0                          18   \n",
       "1                   0              0  4                          16   \n",
       "2                   0              0  1                           2   \n",
       "3                   0              0  0                          10   \n",
       "4                   0              0  0                          23   \n",
       "\n",
       "        start_practice         end_practice  days_offset  \n",
       "0  2018-03-04 20:00:19  2018-03-04 20:00:35           45  \n",
       "1  2018-02-10 11:57:55  2018-02-10 11:58:35           23  \n",
       "2  2018-03-12 17:03:07  2018-03-12 17:04:28           53  \n",
       "3  2018-01-30 14:15:49  2018-01-30 14:15:58           12  \n",
       "4  2018-03-03 14:04:17  2018-03-03 14:04:25           44  \n",
       "\n",
       "[5 rows x 48 columns]"
      ]
     },
     "execution_count": 3,
     "metadata": {},
     "output_type": "execute_result"
    }
   ],
   "source": [
    "# load the data\n",
    "import pandas as pd\n",
    "dataframe = pd.read_csv('../input/practice-log-demographics/Practice_Log_Demographics (1).csv', low_memory=False)\n",
    "dataframe.head()"
   ]
  },
  {
   "cell_type": "code",
   "execution_count": 4,
   "metadata": {
    "execution": {
     "iopub.execute_input": "2021-07-26T22:45:41.340409Z",
     "iopub.status.busy": "2021-07-26T22:45:41.340116Z",
     "iopub.status.idle": "2021-07-26T22:45:42.454383Z",
     "shell.execute_reply": "2021-07-26T22:45:42.453229Z",
     "shell.execute_reply.started": "2021-07-26T22:45:41.340379Z"
    },
    "id": "OCbHnEp_Vir0"
   },
   "outputs": [],
   "source": [
    "#sort data based on timestamp\n",
    "dataframe = dataframe.sort_values(by=['start_practice'])"
   ]
  },
  {
   "cell_type": "code",
   "execution_count": 5,
   "metadata": {
    "execution": {
     "iopub.execute_input": "2021-07-26T22:45:42.456170Z",
     "iopub.status.busy": "2021-07-26T22:45:42.455759Z",
     "iopub.status.idle": "2021-07-26T22:45:42.462196Z",
     "shell.execute_reply": "2021-07-26T22:45:42.461219Z",
     "shell.execute_reply.started": "2021-07-26T22:45:42.456135Z"
    },
    "id": "0RvF7BvEr98o"
   },
   "outputs": [],
   "source": [
    "FEATURES = ['chapter_label', 'sub_chapter_label','question_name','user_id','term',\n",
    "            'STDNT_SEX_CD', \n",
    "            'NonNativeEnglish',\n",
    "            'White',\n",
    "            'Asian',\n",
    "            'WhiteOrAsian',\n",
    "            'Hispanic',\n",
    "            'AfricanAmerican',\n",
    "            'OtherEthnicities',\n",
    "            'NonWhiteOrAsian',\n",
    "            'STDNT_CTZN_STAT_CD', 'international', \n",
    "            'gradingType',\n",
    "            'birthYear',\n",
    "            'exclClassCumGPA',\n",
    "            'Freshman',\n",
    "            'Junior',\n",
    "            'Sophomore',\n",
    "            'Senior',\n",
    "            'termCreditsGPA',\n",
    "            'termCreditsNoGPA',\n",
    "            'athlete_1',\n",
    "            'honorsPro',\n",
    "            'LSA', 'programBusiness', 'programEngineering', \n",
    "            'programInformation', 'programOther',\n",
    "            'HSCalculusTaken', \n",
    "            'highSchoolGPA', \n",
    "            'majorsCount', 'minorsCount',\n",
    "            'PREV_TERM_CUM_GPA',\n",
    "            'classGraded', 'classHonors', \n",
    "            'Pass_Fail', \n",
    "            'parentsGraduateEdu',  'minorityGroup', \n",
    "            'q',\n",
    "            'available_flashcards', \n",
    "            'start_practice', \n",
    "            'end_practice',\n",
    "            'days_offset']"
   ]
  },
  {
   "cell_type": "code",
   "execution_count": 6,
   "metadata": {
    "execution": {
     "iopub.execute_input": "2021-07-26T22:45:42.464527Z",
     "iopub.status.busy": "2021-07-26T22:45:42.464068Z",
     "iopub.status.idle": "2021-07-26T22:45:43.022668Z",
     "shell.execute_reply": "2021-07-26T22:45:43.021480Z",
     "shell.execute_reply.started": "2021-07-26T22:45:42.464479Z"
    },
    "id": "Mn341X7lSztl"
   },
   "outputs": [],
   "source": [
    "dataframe['available_flashcards'] = dataframe[\"day's_available_flashcards\"][:]\n",
    "dataframe = dataframe.drop([\"day's_available_flashcards\"], axis=1)\n",
    "dataframe['user_id'] = dataframe[\"user_id.x\"][:]\n",
    "dataframe = dataframe.drop([\"user_id.x\"], axis=1)"
   ]
  },
  {
   "cell_type": "code",
   "execution_count": 7,
   "metadata": {
    "execution": {
     "iopub.execute_input": "2021-07-26T22:45:43.024885Z",
     "iopub.status.busy": "2021-07-26T22:45:43.024385Z",
     "iopub.status.idle": "2021-07-26T22:45:43.200781Z",
     "shell.execute_reply": "2021-07-26T22:45:43.199536Z",
     "shell.execute_reply.started": "2021-07-26T22:45:43.024834Z"
    },
    "id": "-_BRggOjbBjN",
    "outputId": "42bff7db-08dd-48dc-a73a-d048508053b7"
   },
   "outputs": [
    {
     "data": {
      "text/plain": [
       "66"
      ]
     },
     "execution_count": 7,
     "metadata": {},
     "output_type": "execute_result"
    }
   ],
   "source": [
    "gc.collect()"
   ]
  },
  {
   "cell_type": "code",
   "execution_count": 8,
   "metadata": {
    "execution": {
     "iopub.execute_input": "2021-07-26T22:45:43.204488Z",
     "iopub.status.busy": "2021-07-26T22:45:43.204152Z",
     "iopub.status.idle": "2021-07-26T22:45:43.513998Z",
     "shell.execute_reply": "2021-07-26T22:45:43.513025Z",
     "shell.execute_reply.started": "2021-07-26T22:45:43.204459Z"
    },
    "id": "lXM7MlonVeRL",
    "outputId": "d29ccec0-522f-4e3c-e0b2-39b2e1eaef74"
   },
   "outputs": [
    {
     "data": {
      "text/plain": [
       "22"
      ]
     },
     "execution_count": 8,
     "metadata": {},
     "output_type": "execute_result"
    }
   ],
   "source": [
    "dataframe = dataframe[FEATURES]\n",
    "gc.collect()"
   ]
  },
  {
   "cell_type": "code",
   "execution_count": 9,
   "metadata": {
    "execution": {
     "iopub.execute_input": "2021-07-26T22:45:43.516262Z",
     "iopub.status.busy": "2021-07-26T22:45:43.515927Z",
     "iopub.status.idle": "2021-07-26T22:45:44.730854Z",
     "shell.execute_reply": "2021-07-26T22:45:44.730120Z",
     "shell.execute_reply.started": "2021-07-26T22:45:43.516228Z"
    },
    "id": "qRKqF_0IXZgj"
   },
   "outputs": [],
   "source": [
    "#label encode term, chapter_label, question_name, sub_chapter_label columns\n",
    "dataframe['term'] = dataframe['term'].astype('category')\n",
    "dataframe['user_id'] = dataframe['user_id'].astype(int)\n",
    "dataframe['user_id'] = dataframe['user_id'].astype(str)\n",
    "dataframe['user_id'] = dataframe['term'].str.cat(dataframe['user_id'], sep=':')\n",
    "dataframe['user_id'] = dataframe['user_id'].astype('category')\n",
    "dataframe['chapter_label'] = dataframe['chapter_label'].astype('category')\n",
    "dataframe['sub_chapter_label'] = dataframe['sub_chapter_label'].astype('category')\n",
    "dataframe['question_name'] = dataframe['question_name'].astype('category')\n"
   ]
  },
  {
   "cell_type": "code",
   "execution_count": 10,
   "metadata": {
    "execution": {
     "iopub.execute_input": "2021-07-26T22:45:44.732453Z",
     "iopub.status.busy": "2021-07-26T22:45:44.731981Z",
     "iopub.status.idle": "2021-07-26T22:45:45.142056Z",
     "shell.execute_reply": "2021-07-26T22:45:45.141052Z",
     "shell.execute_reply.started": "2021-07-26T22:45:44.732400Z"
    },
    "id": "eVl_067GWkDe"
   },
   "outputs": [],
   "source": [
    "#calculate time_lag and prev_time_elapsed\n",
    "dataframe['prev_time_elapsed'] = None\n",
    "dataframe['time_lag'] = None\n",
    "dataframe['time_lag'] = dataframe['time_lag'].astype(np.float)\n",
    "dataframe['prev_time_elapsed'] = dataframe['prev_time_elapsed'].astype(np.float)\n",
    "dataframe.start_practice = pd.to_datetime(dataframe.start_practice, format='%Y-%m-%d %H:%M:%S')\n",
    "dataframe.end_practice = pd.to_datetime(dataframe.end_practice, format='%Y-%m-%d %H:%M:%S')"
   ]
  },
  {
   "cell_type": "code",
   "execution_count": 11,
   "metadata": {
    "execution": {
     "iopub.execute_input": "2021-07-26T22:45:45.144062Z",
     "iopub.status.busy": "2021-07-26T22:45:45.143608Z",
     "iopub.status.idle": "2021-07-26T22:45:45.177143Z",
     "shell.execute_reply": "2021-07-26T22:45:45.176359Z",
     "shell.execute_reply.started": "2021-07-26T22:45:45.143999Z"
    }
   },
   "outputs": [],
   "source": [
    "dataframe['dif'] = dataframe.end_practice - dataframe.start_practice\n",
    "dataframe['dif'] = dataframe['dif'] /np.timedelta64(1, 's')\n",
    "dataframe['answer_correct'] = np.where((dataframe['q']==5) & (dataframe['dif'] <= 60), 1, 0)"
   ]
  },
  {
   "cell_type": "code",
   "execution_count": 13,
   "metadata": {
    "execution": {
     "iopub.execute_input": "2021-07-26T22:46:00.525267Z",
     "iopub.status.busy": "2021-07-26T22:46:00.524901Z",
     "iopub.status.idle": "2021-07-26T22:46:00.601688Z",
     "shell.execute_reply": "2021-07-26T22:46:00.600614Z",
     "shell.execute_reply.started": "2021-07-26T22:46:00.525233Z"
    },
    "id": "8t8yZ0XvWwzz"
   },
   "outputs": [],
   "source": [
    "#drop column end_practice\n",
    "dataframe.drop(columns=['end_practice'], inplace=True)"
   ]
  },
  {
   "cell_type": "code",
   "execution_count": 14,
   "metadata": {
    "execution": {
     "iopub.execute_input": "2021-07-26T22:46:00.603410Z",
     "iopub.status.busy": "2021-07-26T22:46:00.603107Z",
     "iopub.status.idle": "2021-07-26T22:46:00.901142Z",
     "shell.execute_reply": "2021-07-26T22:46:00.900079Z",
     "shell.execute_reply.started": "2021-07-26T22:46:00.603378Z"
    },
    "id": "E42raRIrYYXz"
   },
   "outputs": [],
   "source": [
    "# calculate the age feature\n",
    "dataframe['term_value'] = [int(ele[3:]) for ele in dataframe['term']]\n",
    "dataframe['age'] = dataframe['term_value'] - dataframe['birthYear']"
   ]
  },
  {
   "cell_type": "code",
   "execution_count": 15,
   "metadata": {
    "execution": {
     "iopub.execute_input": "2021-07-26T22:46:00.902709Z",
     "iopub.status.busy": "2021-07-26T22:46:00.902396Z",
     "iopub.status.idle": "2021-07-26T22:46:01.099615Z",
     "shell.execute_reply": "2021-07-26T22:46:01.098516Z",
     "shell.execute_reply.started": "2021-07-26T22:46:00.902668Z"
    },
    "id": "pcMVQXueYnMh"
   },
   "outputs": [],
   "source": [
    "# drop term_value and birthYear column\n",
    "dataframe.drop(columns=['term_value', 'birthYear'], inplace=True)"
   ]
  },
  {
   "cell_type": "code",
   "execution_count": 16,
   "metadata": {
    "execution": {
     "iopub.execute_input": "2021-07-26T22:46:01.101222Z",
     "iopub.status.busy": "2021-07-26T22:46:01.100922Z",
     "iopub.status.idle": "2021-07-26T22:46:01.384352Z",
     "shell.execute_reply": "2021-07-26T22:46:01.383264Z",
     "shell.execute_reply.started": "2021-07-26T22:46:01.101195Z"
    },
    "id": "hjRF5szkcQE0"
   },
   "outputs": [],
   "source": [
    "# convert minors_count to int value\n",
    "new_minors_count = []\n",
    "for i in dataframe['minorsCount']:\n",
    "  if i == 0 or i == '0':\n",
    "    new_minors_count.append(0)\n",
    "  elif i == '1 Minor':\n",
    "    new_minors_count.append(1)\n",
    "  else:\n",
    "    new_minors_count.append(2)\n",
    "\n",
    "dataframe['minorsCount'] = new_minors_count"
   ]
  },
  {
   "cell_type": "code",
   "execution_count": 17,
   "metadata": {
    "execution": {
     "iopub.execute_input": "2021-07-26T22:46:01.385831Z",
     "iopub.status.busy": "2021-07-26T22:46:01.385547Z",
     "iopub.status.idle": "2021-07-26T22:46:01.401517Z",
     "shell.execute_reply": "2021-07-26T22:46:01.400469Z",
     "shell.execute_reply.started": "2021-07-26T22:46:01.385804Z"
    },
    "id": "9VdzvJSw0KUU",
    "outputId": "6393784f-234e-4935-9cee-cbcf56b5630a"
   },
   "outputs": [
    {
     "name": "stdout",
     "output_type": "stream",
     "text": [
      "we have  1110  users in total.\n"
     ]
    }
   ],
   "source": [
    "print(\"we have \", dataframe['user_id'].nunique(),\" users in total.\")"
   ]
  },
  {
   "cell_type": "code",
   "execution_count": 18,
   "metadata": {
    "execution": {
     "iopub.execute_input": "2021-07-26T22:46:01.403332Z",
     "iopub.status.busy": "2021-07-26T22:46:01.402998Z",
     "iopub.status.idle": "2021-07-26T22:46:01.412182Z",
     "shell.execute_reply": "2021-07-26T22:46:01.410938Z",
     "shell.execute_reply.started": "2021-07-26T22:46:01.403300Z"
    },
    "id": "hUaGk9L9g13t"
   },
   "outputs": [],
   "source": [
    "for category in ['term','chapter_label', 'sub_chapter_label', 'question_name']:\n",
    "  dataframe[category] =  dataframe[category].cat.codes"
   ]
  },
  {
   "cell_type": "code",
   "execution_count": 19,
   "metadata": {
    "execution": {
     "iopub.execute_input": "2021-07-26T22:46:01.414093Z",
     "iopub.status.busy": "2021-07-26T22:46:01.413689Z",
     "iopub.status.idle": "2021-07-26T22:46:01.711776Z",
     "shell.execute_reply": "2021-07-26T22:46:01.710343Z",
     "shell.execute_reply.started": "2021-07-26T22:46:01.414057Z"
    },
    "id": "hkyvcYvlhliG"
   },
   "outputs": [],
   "source": [
    "NUMERIC_FEATURE =  ['age',\n",
    "            'exclClassCumGPA',\n",
    "            'termCreditsGPA',\n",
    "            'termCreditsNoGPA',\n",
    "            'highSchoolGPA', \n",
    "            'majorsCount', 'minorsCount',\n",
    "            'PREV_TERM_CUM_GPA',\n",
    "            'available_flashcards', \n",
    "            'days_offset', \n",
    "            'prev_time_elapsed',\n",
    "             'time_lag']\n",
    "# z-score normalize the numerical features\n",
    "for f in NUMERIC_FEATURE:\n",
    "  m = dataframe[f].mean()\n",
    "  std = dataframe[f].std()\n",
    "  dataframe[f] = (dataframe[f] - m)/std"
   ]
  },
  {
   "cell_type": "code",
   "execution_count": 20,
   "metadata": {
    "execution": {
     "iopub.execute_input": "2021-07-26T22:46:01.713497Z",
     "iopub.status.busy": "2021-07-26T22:46:01.713131Z",
     "iopub.status.idle": "2021-07-26T22:46:04.877575Z",
     "shell.execute_reply": "2021-07-26T22:46:04.876473Z",
     "shell.execute_reply.started": "2021-07-26T22:46:01.713463Z"
    },
    "id": "wo2OH-d5kWp1"
   },
   "outputs": [],
   "source": [
    "FEATURE_TRANS =  ['answer_correct', 'chapter_label', 'sub_chapter_label','question_name','user_id','term',\n",
    "                  'STDNT_SEX_CD', \n",
    "                    'White','Asian','NonWhiteOrAsian',\n",
    "            'STDNT_CTZN_STAT_CD', 'international', \n",
    "            'age',\n",
    "            'exclClassCumGPA',\n",
    "           'Freshman',\n",
    "            'Junior',\n",
    "            'Sophomore',\n",
    "            'Senior',\n",
    "            'termCreditsGPA',\n",
    "            'termCreditsNoGPA',\n",
    "            'athlete_1',\n",
    "            'honorsPro',\n",
    "            'LSA', 'programBusiness', 'programEngineering', \n",
    "            'programInformation', 'programOther',\n",
    "            'HSCalculusTaken', \n",
    "            'highSchoolGPA', \n",
    "            'majorsCount', 'minorsCount',\n",
    "            'PREV_TERM_CUM_GPA',\n",
    "            'classGraded', 'classHonors', \n",
    "            'Pass_Fail', \n",
    "            'parentsGraduateEdu',  'minorityGroup', \n",
    "            'available_flashcards', \n",
    "            'days_offset', 'prev_time_elapsed',\n",
    "             'time_lag']\n",
    "grouped_data = dataframe[FEATURE_TRANS].groupby(['user_id']).apply(lambda r: (\n",
    "                r['answer_correct'],\n",
    "                r['term'],\n",
    "                r['chapter_label'],\n",
    "                r['sub_chapter_label'],\n",
    "                r['question_name'],\n",
    "                np.array([r['STDNT_SEX_CD'],r['STDNT_CTZN_STAT_CD'], r['international'], \n",
    "                  r['White'],r['Asian'],r['NonWhiteOrAsian'],\n",
    "                 r['age'],r['exclClassCumGPA'],\n",
    "                r['Freshman'], r['Junior'], r['Sophomore'], r['Senior'],\n",
    "                r['termCreditsGPA'], r['termCreditsNoGPA'],\n",
    "                r['athlete_1'], r['honorsPro'],\n",
    "                r['LSA'], r['programBusiness'], r['programEngineering'], \n",
    "                r['programInformation'], r['programOther'],\n",
    "                r['HSCalculusTaken'],  r['highSchoolGPA'], \n",
    "                r['majorsCount'], r['minorsCount'],\n",
    "                r['PREV_TERM_CUM_GPA'], \n",
    "                r['parentsGraduateEdu'], r['minorityGroup'],\n",
    "                r['available_flashcards'],\n",
    "                r['days_offset'],\n",
    "                r['prev_time_elapsed'],\n",
    "                r['time_lag']\n",
    "              ]).transpose()\n",
    "                ))"
   ]
  },
  {
   "cell_type": "code",
   "execution_count": 21,
   "metadata": {
    "execution": {
     "iopub.execute_input": "2021-07-26T22:46:04.879136Z",
     "iopub.status.busy": "2021-07-26T22:46:04.878826Z",
     "iopub.status.idle": "2021-07-26T22:46:05.072089Z",
     "shell.execute_reply": "2021-07-26T22:46:05.070978Z",
     "shell.execute_reply.started": "2021-07-26T22:46:04.879105Z"
    },
    "id": "XXLqQnjrlp_4",
    "outputId": "c801da79-f0bf-4fe5-b19c-7c799fe01556"
   },
   "outputs": [
    {
     "data": {
      "text/plain": [
       "22"
      ]
     },
     "execution_count": 21,
     "metadata": {},
     "output_type": "execute_result"
    }
   ],
   "source": [
    "gc.collect()"
   ]
  },
  {
   "cell_type": "code",
   "execution_count": 22,
   "metadata": {
    "execution": {
     "iopub.execute_input": "2021-07-26T22:46:05.073926Z",
     "iopub.status.busy": "2021-07-26T22:46:05.073448Z",
     "iopub.status.idle": "2021-07-26T22:46:05.108216Z",
     "shell.execute_reply": "2021-07-26T22:46:05.107184Z",
     "shell.execute_reply.started": "2021-07-26T22:46:05.073889Z"
    },
    "id": "QYGQasdTrmP0"
   },
   "outputs": [],
   "source": [
    "# remove students who don't have make any interactions with the tool\n",
    "toRemove = []\n",
    "for index in grouped_data.index:\n",
    "  if len(grouped_data[index][0]) <= 10:\n",
    "    toRemove.append(index)\n",
    "grouped_data = grouped_data.drop(index=toRemove)"
   ]
  },
  {
   "cell_type": "code",
   "execution_count": 23,
   "metadata": {
    "execution": {
     "iopub.execute_input": "2021-07-26T22:46:05.109692Z",
     "iopub.status.busy": "2021-07-26T22:46:05.109401Z",
     "iopub.status.idle": "2021-07-26T22:46:05.113497Z",
     "shell.execute_reply": "2021-07-26T22:46:05.112664Z",
     "shell.execute_reply.started": "2021-07-26T22:46:05.109662Z"
    },
    "id": "9kZqV9siDyNb"
   },
   "outputs": [],
   "source": [
    "#SETTINGS -> can be modified at any time\n",
    "MAXLENGTH = 200\n",
    "EMBEDDING_DIM = 128\n",
    "DENSE_NEURON = 16\n",
    "RNN_NEURON = 32"
   ]
  },
  {
   "cell_type": "code",
   "execution_count": 24,
   "metadata": {
    "execution": {
     "iopub.execute_input": "2021-07-26T22:46:05.114656Z",
     "iopub.status.busy": "2021-07-26T22:46:05.114362Z",
     "iopub.status.idle": "2021-07-26T22:46:05.126848Z",
     "shell.execute_reply": "2021-07-26T22:46:05.125784Z",
     "shell.execute_reply.started": "2021-07-26T22:46:05.114627Z"
    },
    "id": "1MksD1JizpPn"
   },
   "outputs": [],
   "source": [
    "#FEATURES_SIZE = 38\n",
    "CHAPTER_SIZE = 38\n",
    "SUB_CHAPTER_SIZE = 223\n",
    "QUESTION_SIZE = 1069"
   ]
  },
  {
   "cell_type": "code",
   "execution_count": 25,
   "metadata": {
    "execution": {
     "iopub.execute_input": "2021-07-26T22:46:05.128567Z",
     "iopub.status.busy": "2021-07-26T22:46:05.128260Z",
     "iopub.status.idle": "2021-07-26T22:46:05.148674Z",
     "shell.execute_reply": "2021-07-26T22:46:05.147600Z",
     "shell.execute_reply.started": "2021-07-26T22:46:05.128536Z"
    }
   },
   "outputs": [
    {
     "data": {
      "text/plain": [
       "array([ 96,  86,  88,  28,  12,  82, 125,  32,  69,  33,  21, 115, 120,\n",
       "       119,  91,  73,  57,  77, 117,  40,  74,  41,  68,  39,  92,  47,\n",
       "       104,  95,  53,  49,  50,  16,  52,  55,   7,  15,  51, 102, 103,\n",
       "        11,  94, 108, 100,  17,  67,  63,  13, 139,  26,  25,   8, 107,\n",
       "         0,  90,  48,  54, 138,   1,   2,   3,  34,  35,  85,   5,  24,\n",
       "        37,  36,  78,  70,  45, 142,  71,  10,  89, 111, 112, 109, 116,\n",
       "        76,  72, 148, 134, 146, 221, 143,  56,  60,  61,  23, 140, 106,\n",
       "        42,  83,  22, 145, 136, 144,  38,   4,  19, 137,  75,  43,  98,\n",
       "        84, 113, 173, 174, 175, 176, 177, 178, 180, 181, 182, 187, 189,\n",
       "       190, 191, 192, 193, 195, 197, 151, 152, 153, 156, 157, 158, 159,\n",
       "       160, 161, 163, 164, 165, 166, 167, 168, 169, 170, 171, 172, 198,\n",
       "       199, 200, 201, 202, 203, 204, 205, 206, 207, 208, 209, 210, 162,\n",
       "       179, 186, 188, 194, 183, 184, 185, 211, 212, 213, 154, 155, 196,\n",
       "         6, 118,  18, 215,  46, 216, 141,  27, 217, 105, 123, 218, 101,\n",
       "       124, 219, 122, 220,  58,  59,  64,  20,  93,  65,  66,   9,  44,\n",
       "        30,  14,  79, 121,  31, 110, 129,  87,  97,  62, 149, 132, 131,\n",
       "       150, 130, 128,  99, 147, 127, 214, 135,  80, 126, 133,  81, 114,\n",
       "        29], dtype=int16)"
      ]
     },
     "execution_count": 25,
     "metadata": {},
     "output_type": "execute_result"
    }
   ],
   "source": [
    "dataframe['sub_chapter_label'].unique()"
   ]
  },
  {
   "cell_type": "code",
   "execution_count": 26,
   "metadata": {
    "execution": {
     "iopub.execute_input": "2021-07-26T22:46:05.152825Z",
     "iopub.status.busy": "2021-07-26T22:46:05.152490Z",
     "iopub.status.idle": "2021-07-26T22:46:05.511097Z",
     "shell.execute_reply": "2021-07-26T22:46:05.510308Z",
     "shell.execute_reply.started": "2021-07-26T22:46:05.152793Z"
    },
    "id": "mY3Thp6d0NaT"
   },
   "outputs": [],
   "source": [
    "#create dataset class\n",
    "#to prepare it for train, valid, and test sets\n",
    "from torch.utils.data import Dataset, DataLoader\n",
    "class SPACE_DATASET(Dataset):\n",
    "    def __init__(self, data, maxlength = 200):\n",
    "        super(SPACE_DATASET, self).__init__()\n",
    "        self.maxlength = maxlength\n",
    "        self.data = data\n",
    "        self.users = list()\n",
    "        for user in data.index:\n",
    "            self.users.append(user)\n",
    "\n",
    "    def __len__(self):\n",
    "        return len(self.users)\n",
    "    \n",
    "    def __getitem__(self, ix):\n",
    "        user = self.users[ix]\n",
    "        user = user\n",
    "        target, term, ch_label, sub_ch_label, ques_name, features = self.data[user]\n",
    "        \n",
    "        #0s should be used as padding values\n",
    "        ori_target = target.values \n",
    "        term = term.values\n",
    "        ch_label = ch_label.values + 1\n",
    "        sub_ch_label = sub_ch_label.values +1\n",
    "        ques_name = ques_name.values + 1\n",
    "        \n",
    "        n = len(ch_label)\n",
    "\n",
    "        # one hot for term\n",
    "        term_encode = [0]*7\n",
    "        term_encode[term[0]] = 1\n",
    "        shifted_target= []\n",
    "\n",
    "        \n",
    "        # get  user interaction informations in the previous MAXLEN interactions\n",
    "        if n > self.maxlength:\n",
    "          ch_label = ch_label[-self.maxlength:]\n",
    "          sub_ch_label = sub_ch_label[-self.maxlength:]\n",
    "          ques_name = ques_name[-self.maxlength:]\n",
    "          features = features[-self.maxlength:]\n",
    "          target = ori_target[-self.maxlength:]\n",
    "          shifted_target = ori_target[ (-self.maxlength - 1) :-1]\n",
    "        else:\n",
    "          ch_label = [0]*(self.maxlength - n)+list(ch_label[:])\n",
    "          sub_ch_label = [0]*(self.maxlength - n)+list(sub_ch_label[:])\n",
    "          ques_name = [0]*(self.maxlength - n)+list(ques_name[:])\n",
    "          features = [[0]*len(features[0])]*(self.maxlength  - n)+list(features[:])\n",
    "          target = [-1]*(self.maxlength - n) + list(ori_target[:])\n",
    "          shifted_target = [-1]*(self.maxlength + 1 - n) + list(ori_target[:-1])\n",
    "\n",
    "        new_features = []\n",
    "        count = 0\n",
    "        for f in features:\n",
    "          temp = list(f)\n",
    "          temp.extend(term_encode)\n",
    "          # temp.append(shifted_target[count]) #uncomment this line for include previous response feature\n",
    "          new_features.append(temp)\n",
    "          count += 1\n",
    "        features = new_features\n",
    "        return ch_label,sub_ch_label,ques_name,target"
   ]
  },
  {
   "cell_type": "code",
   "execution_count": 27,
   "metadata": {
    "execution": {
     "iopub.execute_input": "2021-07-26T22:46:05.513160Z",
     "iopub.status.busy": "2021-07-26T22:46:05.512728Z",
     "iopub.status.idle": "2021-07-26T22:46:05.517828Z",
     "shell.execute_reply": "2021-07-26T22:46:05.517126Z",
     "shell.execute_reply.started": "2021-07-26T22:46:05.513128Z"
    }
   },
   "outputs": [
    {
     "data": {
      "text/plain": [
       "223"
      ]
     },
     "execution_count": 27,
     "metadata": {},
     "output_type": "execute_result"
    }
   ],
   "source": [
    "SUB_CHAPTER_SIZE"
   ]
  },
  {
   "cell_type": "code",
   "execution_count": 28,
   "metadata": {
    "execution": {
     "iopub.execute_input": "2021-07-26T22:46:05.519495Z",
     "iopub.status.busy": "2021-07-26T22:46:05.519001Z",
     "iopub.status.idle": "2021-07-26T22:49:19.284941Z",
     "shell.execute_reply": "2021-07-26T22:49:19.283858Z",
     "shell.execute_reply.started": "2021-07-26T22:46:05.519447Z"
    },
    "id": "gzJrljnjzypP",
    "outputId": "87abe488-b493-4f8f-9d71-45cb1d2ddf51"
   },
   "outputs": [
    {
     "name": "stdout",
     "output_type": "stream",
     "text": [
      "Epoch 1/100\n",
      "14/14 [==============================] - 7s 277ms/step - loss: 0.5885 - masked_acc: 0.6920 - masked_auc: 0.5233 - val_loss: 0.5160 - val_masked_acc: 0.7284 - val_masked_auc: 0.6407\n",
      "Epoch 2/100\n",
      "14/14 [==============================] - 2s 175ms/step - loss: 0.4771 - masked_acc: 0.7287 - masked_auc: 0.6749 - val_loss: 0.5007 - val_masked_acc: 0.7374 - val_masked_auc: 0.7236\n",
      "Epoch 3/100\n",
      "14/14 [==============================] - 3s 180ms/step - loss: 0.4462 - masked_acc: 0.7417 - masked_auc: 0.7350 - val_loss: 0.4857 - val_masked_acc: 0.7486 - val_masked_auc: 0.7534\n",
      "Epoch 4/100\n",
      "14/14 [==============================] - 3s 185ms/step - loss: 0.4337 - masked_acc: 0.7510 - masked_auc: 0.7598 - val_loss: 0.4867 - val_masked_acc: 0.7559 - val_masked_auc: 0.7714\n",
      "Epoch 5/100\n",
      "14/14 [==============================] - 2s 173ms/step - loss: 0.4209 - masked_acc: 0.7575 - masked_auc: 0.7758 - val_loss: 0.4894 - val_masked_acc: 0.7612 - val_masked_auc: 0.7841\n",
      "Epoch 6/100\n",
      "14/14 [==============================] - 3s 195ms/step - loss: 0.4106 - masked_acc: 0.7626 - masked_auc: 0.7876 - val_loss: 0.4988 - val_masked_acc: 0.7655 - val_masked_auc: 0.7938\n",
      "Epoch 7/100\n",
      "14/14 [==============================] - 2s 170ms/step - loss: 0.4075 - masked_acc: 0.7665 - masked_auc: 0.7965 - val_loss: 0.5068 - val_masked_acc: 0.7689 - val_masked_auc: 0.8017\n",
      "Epoch 8/100\n",
      "14/14 [==============================] - 2s 173ms/step - loss: 0.3926 - masked_acc: 0.7700 - masked_auc: 0.8039 - val_loss: 0.5104 - val_masked_acc: 0.7723 - val_masked_auc: 0.8085\n",
      "Epoch 9/100\n",
      "14/14 [==============================] - 2s 176ms/step - loss: 0.3751 - masked_acc: 0.7735 - masked_auc: 0.8109 - val_loss: 0.5245 - val_masked_acc: 0.7754 - val_masked_auc: 0.8148\n",
      "Epoch 10/100\n",
      "14/14 [==============================] - 2s 171ms/step - loss: 0.3673 - masked_acc: 0.7765 - masked_auc: 0.8169 - val_loss: 0.5405 - val_masked_acc: 0.7785 - val_masked_auc: 0.8205\n",
      "Epoch 11/100\n",
      "14/14 [==============================] - 2s 173ms/step - loss: 0.3460 - masked_acc: 0.7797 - masked_auc: 0.8226 - val_loss: 0.5385 - val_masked_acc: 0.7811 - val_masked_auc: 0.8256\n",
      "Epoch 12/100\n",
      "14/14 [==============================] - 2s 168ms/step - loss: 0.3614 - masked_acc: 0.7820 - masked_auc: 0.8271 - val_loss: 0.5640 - val_masked_acc: 0.7836 - val_masked_auc: 0.8300\n",
      "Epoch 13/100\n",
      "14/14 [==============================] - 2s 178ms/step - loss: 0.3453 - masked_acc: 0.7845 - masked_auc: 0.8315 - val_loss: 0.5793 - val_masked_acc: 0.7859 - val_masked_auc: 0.8340\n",
      "28/28 [==============================] - 1s 34ms/step - loss: 0.3377 - masked_acc: 0.7878 - masked_auc: 0.8368\n",
      "4/4 [==============================] - 0s 29ms/step - loss: 0.5688 - masked_acc: 0.7886 - masked_auc: 0.8382\n",
      "Test:  [0.5688151717185974, 0.7885836362838745, 0.8382415771484375]\n",
      "Epoch 1/100\n",
      "14/14 [==============================] - 7s 251ms/step - loss: 0.6005 - masked_acc: 0.5757 - masked_auc: 0.5232 - val_loss: 0.4933 - val_masked_acc: 0.7112 - val_masked_auc: 0.6333\n",
      "Epoch 2/100\n",
      "14/14 [==============================] - 2s 178ms/step - loss: 0.4798 - masked_acc: 0.7157 - masked_auc: 0.6660 - val_loss: 0.4593 - val_masked_acc: 0.7241 - val_masked_auc: 0.7148\n",
      "Epoch 3/100\n",
      "14/14 [==============================] - 3s 193ms/step - loss: 0.4502 - masked_acc: 0.7289 - masked_auc: 0.7279 - val_loss: 0.4538 - val_masked_acc: 0.7380 - val_masked_auc: 0.7479\n",
      "Epoch 4/100\n",
      "14/14 [==============================] - 2s 178ms/step - loss: 0.4373 - masked_acc: 0.7412 - masked_auc: 0.7549 - val_loss: 0.4586 - val_masked_acc: 0.7471 - val_masked_auc: 0.7665\n",
      "Epoch 5/100\n",
      "14/14 [==============================] - 2s 177ms/step - loss: 0.4249 - masked_acc: 0.7494 - masked_auc: 0.7714 - val_loss: 0.4593 - val_masked_acc: 0.7535 - val_masked_auc: 0.7793\n",
      "Epoch 6/100\n",
      "14/14 [==============================] - 3s 181ms/step - loss: 0.4245 - masked_acc: 0.7550 - masked_auc: 0.7829 - val_loss: 0.4670 - val_masked_acc: 0.7592 - val_masked_auc: 0.7897\n",
      "Epoch 7/100\n",
      "14/14 [==============================] - 3s 181ms/step - loss: 0.4028 - masked_acc: 0.7607 - masked_auc: 0.7927 - val_loss: 0.4787 - val_masked_acc: 0.7637 - val_masked_auc: 0.7983\n",
      "Epoch 8/100\n",
      "14/14 [==============================] - 2s 175ms/step - loss: 0.3885 - masked_acc: 0.7652 - masked_auc: 0.8012 - val_loss: 0.4848 - val_masked_acc: 0.7677 - val_masked_auc: 0.8058\n",
      "Epoch 9/100\n",
      "14/14 [==============================] - 2s 175ms/step - loss: 0.3878 - masked_acc: 0.7688 - masked_auc: 0.8080 - val_loss: 0.5196 - val_masked_acc: 0.7712 - val_masked_auc: 0.8120\n",
      "Epoch 10/100\n",
      "14/14 [==============================] - 2s 174ms/step - loss: 0.3699 - masked_acc: 0.7724 - masked_auc: 0.8142 - val_loss: 0.5279 - val_masked_acc: 0.7744 - val_masked_auc: 0.8177\n",
      "Epoch 11/100\n",
      "14/14 [==============================] - 2s 176ms/step - loss: 0.3634 - masked_acc: 0.7755 - masked_auc: 0.8197 - val_loss: 0.5191 - val_masked_acc: 0.7775 - val_masked_auc: 0.8230\n",
      "Epoch 12/100\n",
      "14/14 [==============================] - 2s 173ms/step - loss: 0.3524 - masked_acc: 0.7785 - masked_auc: 0.8248 - val_loss: 0.5526 - val_masked_acc: 0.7802 - val_masked_auc: 0.8276\n",
      "Epoch 13/100\n",
      "14/14 [==============================] - 2s 176ms/step - loss: 0.3532 - masked_acc: 0.7811 - masked_auc: 0.8292 - val_loss: 0.5443 - val_masked_acc: 0.7829 - val_masked_auc: 0.8319\n",
      "28/28 [==============================] - 1s 35ms/step - loss: 0.3367 - masked_acc: 0.7849 - masked_auc: 0.8350\n",
      "4/4 [==============================] - 0s 31ms/step - loss: 0.5074 - masked_acc: 0.7859 - masked_auc: 0.8368\n",
      "Test:  [0.5073555707931519, 0.7858558893203735, 0.8367697596549988]\n",
      "Epoch 1/100\n",
      "14/14 [==============================] - 7s 264ms/step - loss: 0.6234 - masked_acc: 0.5480 - masked_auc: 0.5071 - val_loss: 0.4789 - val_masked_acc: 0.7057 - val_masked_auc: 0.6057\n",
      "Epoch 2/100\n",
      "14/14 [==============================] - 2s 174ms/step - loss: 0.4857 - masked_acc: 0.7101 - masked_auc: 0.6476 - val_loss: 0.4408 - val_masked_acc: 0.7243 - val_masked_auc: 0.7028\n",
      "Epoch 3/100\n",
      "14/14 [==============================] - 2s 179ms/step - loss: 0.4648 - masked_acc: 0.7282 - masked_auc: 0.7166 - val_loss: 0.4331 - val_masked_acc: 0.7384 - val_masked_auc: 0.7396\n",
      "Epoch 4/100\n",
      "14/14 [==============================] - 2s 174ms/step - loss: 0.4371 - masked_acc: 0.7417 - masked_auc: 0.7477 - val_loss: 0.4426 - val_masked_acc: 0.7468 - val_masked_auc: 0.7595\n",
      "Epoch 5/100\n",
      "14/14 [==============================] - 3s 180ms/step - loss: 0.4377 - masked_acc: 0.7485 - masked_auc: 0.7642 - val_loss: 0.4382 - val_masked_acc: 0.7528 - val_masked_auc: 0.7730\n",
      "Epoch 6/100\n",
      "14/14 [==============================] - 2s 172ms/step - loss: 0.4299 - masked_acc: 0.7541 - masked_auc: 0.7768 - val_loss: 0.4438 - val_masked_acc: 0.7576 - val_masked_auc: 0.7832\n",
      "Epoch 7/100\n",
      "14/14 [==============================] - 2s 173ms/step - loss: 0.4138 - masked_acc: 0.7589 - masked_auc: 0.7862 - val_loss: 0.4567 - val_masked_acc: 0.7614 - val_masked_auc: 0.7914\n",
      "Epoch 8/100\n",
      "14/14 [==============================] - 2s 179ms/step - loss: 0.4046 - masked_acc: 0.7625 - masked_auc: 0.7940 - val_loss: 0.4588 - val_masked_acc: 0.7649 - val_masked_auc: 0.7987\n",
      "Epoch 9/100\n",
      "14/14 [==============================] - 2s 173ms/step - loss: 0.3911 - masked_acc: 0.7660 - masked_auc: 0.8010 - val_loss: 0.4652 - val_masked_acc: 0.7681 - val_masked_auc: 0.8052\n",
      "Epoch 10/100\n",
      "14/14 [==============================] - 2s 174ms/step - loss: 0.3904 - masked_acc: 0.7689 - masked_auc: 0.8072 - val_loss: 0.4762 - val_masked_acc: 0.7710 - val_masked_auc: 0.8109\n",
      "Epoch 11/100\n",
      "14/14 [==============================] - 2s 176ms/step - loss: 0.3772 - masked_acc: 0.7719 - masked_auc: 0.8127 - val_loss: 0.4934 - val_masked_acc: 0.7737 - val_masked_auc: 0.8160\n",
      "Epoch 12/100\n",
      "14/14 [==============================] - 2s 178ms/step - loss: 0.3715 - masked_acc: 0.7746 - masked_auc: 0.8178 - val_loss: 0.5087 - val_masked_acc: 0.7764 - val_masked_auc: 0.8209\n",
      "Epoch 13/100\n",
      "14/14 [==============================] - 2s 173ms/step - loss: 0.3549 - masked_acc: 0.7774 - masked_auc: 0.8228 - val_loss: 0.5439 - val_masked_acc: 0.7790 - val_masked_auc: 0.8255\n",
      "28/28 [==============================] - 1s 43ms/step - loss: 0.3496 - masked_acc: 0.7808 - masked_auc: 0.8285\n",
      "4/4 [==============================] - 0s 32ms/step - loss: 0.5280 - masked_acc: 0.7816 - masked_auc: 0.8303\n",
      "Test:  [0.5279721617698669, 0.7815965414047241, 0.8303244113922119]\n",
      "Epoch 1/100\n",
      "14/14 [==============================] - 7s 288ms/step - loss: 0.6010 - masked_acc: 0.6830 - masked_auc: 0.5062 - val_loss: 0.5459 - val_masked_acc: 0.7252 - val_masked_auc: 0.6129\n",
      "Epoch 2/100\n",
      "14/14 [==============================] - 2s 168ms/step - loss: 0.4717 - masked_acc: 0.7274 - masked_auc: 0.6551 - val_loss: 0.5111 - val_masked_acc: 0.7379 - val_masked_auc: 0.7092\n",
      "Epoch 3/100\n",
      "14/14 [==============================] - 2s 168ms/step - loss: 0.4520 - masked_acc: 0.7417 - masked_auc: 0.7215 - val_loss: 0.5020 - val_masked_acc: 0.7485 - val_masked_auc: 0.7435\n",
      "Epoch 4/100\n",
      "14/14 [==============================] - 2s 168ms/step - loss: 0.4443 - masked_acc: 0.7505 - masked_auc: 0.7503 - val_loss: 0.5074 - val_masked_acc: 0.7547 - val_masked_auc: 0.7617\n",
      "Epoch 5/100\n",
      "14/14 [==============================] - 2s 172ms/step - loss: 0.4304 - masked_acc: 0.7563 - masked_auc: 0.7661 - val_loss: 0.5131 - val_masked_acc: 0.7591 - val_masked_auc: 0.7742\n",
      "Epoch 6/100\n",
      "14/14 [==============================] - 2s 166ms/step - loss: 0.4299 - masked_acc: 0.7601 - masked_auc: 0.7772 - val_loss: 0.5126 - val_masked_acc: 0.7626 - val_masked_auc: 0.7832\n",
      "Epoch 7/100\n",
      "14/14 [==============================] - 2s 170ms/step - loss: 0.4159 - masked_acc: 0.7635 - masked_auc: 0.7861 - val_loss: 0.5182 - val_masked_acc: 0.7656 - val_masked_auc: 0.7911\n",
      "Epoch 8/100\n",
      "14/14 [==============================] - 2s 167ms/step - loss: 0.4061 - masked_acc: 0.7665 - masked_auc: 0.7935 - val_loss: 0.5183 - val_masked_acc: 0.7683 - val_masked_auc: 0.7976\n",
      "Epoch 9/100\n",
      "14/14 [==============================] - 2s 169ms/step - loss: 0.3971 - masked_acc: 0.7692 - masked_auc: 0.7998 - val_loss: 0.5234 - val_masked_acc: 0.7709 - val_masked_auc: 0.8036\n",
      "Epoch 10/100\n",
      "14/14 [==============================] - 2s 169ms/step - loss: 0.3871 - masked_acc: 0.7718 - masked_auc: 0.8057 - val_loss: 0.5422 - val_masked_acc: 0.7735 - val_masked_auc: 0.8091\n",
      "Epoch 11/100\n",
      "14/14 [==============================] - 3s 188ms/step - loss: 0.3737 - masked_acc: 0.7744 - masked_auc: 0.8110 - val_loss: 0.5423 - val_masked_acc: 0.7762 - val_masked_auc: 0.8145\n",
      "Epoch 12/100\n",
      "14/14 [==============================] - 2s 172ms/step - loss: 0.3662 - masked_acc: 0.7771 - masked_auc: 0.8163 - val_loss: 0.5516 - val_masked_acc: 0.7788 - val_masked_auc: 0.8194\n",
      "Epoch 13/100\n",
      "14/14 [==============================] - 2s 170ms/step - loss: 0.3579 - masked_acc: 0.7797 - masked_auc: 0.8211 - val_loss: 0.5582 - val_masked_acc: 0.7813 - val_masked_auc: 0.8240\n",
      "28/28 [==============================] - 1s 33ms/step - loss: 0.3418 - masked_acc: 0.7833 - masked_auc: 0.8272\n",
      "4/4 [==============================] - 0s 31ms/step - loss: 0.5161 - masked_acc: 0.7843 - masked_auc: 0.8291\n",
      "Test:  [0.5160773396492004, 0.784348726272583, 0.8291448354721069]\n",
      "Epoch 1/100\n",
      "14/14 [==============================] - 6s 238ms/step - loss: 0.5972 - masked_acc: 0.7313 - masked_auc: 0.5145 - val_loss: 0.5333 - val_masked_acc: 0.7300 - val_masked_auc: 0.6122\n",
      "Epoch 2/100\n",
      "14/14 [==============================] - 2s 169ms/step - loss: 0.4769 - masked_acc: 0.7335 - masked_auc: 0.6542 - val_loss: 0.4978 - val_masked_acc: 0.7446 - val_masked_auc: 0.7121\n",
      "Epoch 3/100\n",
      "14/14 [==============================] - 2s 170ms/step - loss: 0.4464 - masked_acc: 0.7477 - masked_auc: 0.7258 - val_loss: 0.4916 - val_masked_acc: 0.7535 - val_masked_auc: 0.7472\n",
      "Epoch 4/100\n",
      "14/14 [==============================] - 2s 168ms/step - loss: 0.4358 - masked_acc: 0.7557 - masked_auc: 0.7541 - val_loss: 0.5095 - val_masked_acc: 0.7592 - val_masked_auc: 0.7652\n",
      "Epoch 5/100\n",
      "14/14 [==============================] - 2s 172ms/step - loss: 0.4267 - masked_acc: 0.7606 - masked_auc: 0.7698 - val_loss: 0.5033 - val_masked_acc: 0.7632 - val_masked_auc: 0.7776\n",
      "Epoch 6/100\n",
      "14/14 [==============================] - 2s 169ms/step - loss: 0.4244 - masked_acc: 0.7642 - masked_auc: 0.7814 - val_loss: 0.5170 - val_masked_acc: 0.7666 - val_masked_auc: 0.7872\n",
      "Epoch 7/100\n",
      "14/14 [==============================] - 2s 169ms/step - loss: 0.4088 - masked_acc: 0.7677 - masked_auc: 0.7903 - val_loss: 0.5179 - val_masked_acc: 0.7696 - val_masked_auc: 0.7950\n",
      "Epoch 8/100\n",
      "14/14 [==============================] - 2s 178ms/step - loss: 0.3976 - masked_acc: 0.7706 - masked_auc: 0.7977 - val_loss: 0.5309 - val_masked_acc: 0.7721 - val_masked_auc: 0.8017\n",
      "Epoch 9/100\n",
      "14/14 [==============================] - 3s 185ms/step - loss: 0.3941 - masked_acc: 0.7730 - masked_auc: 0.8040 - val_loss: 0.5449 - val_masked_acc: 0.7746 - val_masked_auc: 0.8076\n",
      "Epoch 10/100\n",
      "14/14 [==============================] - 2s 168ms/step - loss: 0.3799 - masked_acc: 0.7755 - masked_auc: 0.8099 - val_loss: 0.5535 - val_masked_acc: 0.7770 - val_masked_auc: 0.8132\n",
      "Epoch 11/100\n",
      "14/14 [==============================] - 2s 171ms/step - loss: 0.3679 - masked_acc: 0.7779 - masked_auc: 0.8152 - val_loss: 0.5807 - val_masked_acc: 0.7795 - val_masked_auc: 0.8184\n",
      "Epoch 12/100\n",
      "14/14 [==============================] - 2s 171ms/step - loss: 0.3540 - masked_acc: 0.7805 - masked_auc: 0.8203 - val_loss: 0.6160 - val_masked_acc: 0.7819 - val_masked_auc: 0.8230\n",
      "Epoch 13/100\n",
      "14/14 [==============================] - 2s 166ms/step - loss: 0.3488 - masked_acc: 0.7828 - masked_auc: 0.8248 - val_loss: 0.6222 - val_masked_acc: 0.7841 - val_masked_auc: 0.8270\n",
      "28/28 [==============================] - 1s 33ms/step - loss: 0.3438 - masked_acc: 0.7859 - masked_auc: 0.8301\n",
      "4/4 [==============================] - 0s 29ms/step - loss: 0.4978 - masked_acc: 0.7867 - masked_auc: 0.8318\n",
      "Test:  [0.49783962965011597, 0.7866705656051636, 0.8318320512771606]\n"
     ]
    }
   ],
   "source": [
    "# 5 fold cross validation\n",
    "#HERE WE ONLY USE\n",
    "#CHAPTER, SUB_CHAPTER\n",
    "#QUESTION\n",
    "import torch\n",
    "X = np.array(grouped_data.keys())\n",
    "kfold = KFold(n_splits=5, shuffle=True)\n",
    "train_losses = list()\n",
    "train_aucs = list()\n",
    "val_losses = list()\n",
    "val_aucs = list()\n",
    "train_eval = list()\n",
    "test_eval = list()\n",
    "for train, test in kfold.split(X):\n",
    "    users_train, users_test =  X[train], X[test]\n",
    "    n = len(users_test)//2\n",
    "    users_test, users_val = users_test[:n], users_test[n: ]\n",
    "    train_data_space = SPACE_DATASET(grouped_data[users_train], MAXLENGTH)\n",
    "    val_data_space = SPACE_DATASET(grouped_data[users_val], MAXLENGTH)\n",
    "    test_data_space = SPACE_DATASET(grouped_data[users_test], MAXLENGTH)\n",
    "    #construct training input\n",
    "    train_chapter=[]\n",
    "    train_sub_chapter=[]\n",
    "    train_question = []\n",
    "    train_features=[]\n",
    "    train_labels=[]\n",
    "    for i in range(len(users_train)):\n",
    "        user = train_data_space.__getitem__(i)\n",
    "        train_chapter.append(user[0])\n",
    "        train_sub_chapter.append(user[1]) \n",
    "        train_question.append(user[2])\n",
    "        #train_features.append(user[3])\n",
    "        train_labels.append(user[3])\n",
    "    train_chapter = np.array(train_chapter)\n",
    "    train_sub_chapter = np.array(train_sub_chapter)\n",
    "    train_question = np.array(train_question)\n",
    "    #train_features = np.array(train_features)\n",
    "    train_labels= np.array(train_labels)[..., np.newaxis]\n",
    "\n",
    "    #construct validation input\n",
    "    val_chapter=[]\n",
    "    val_sub_chapter=[]\n",
    "    val_question = []\n",
    "    #val_features=[]\n",
    "    val_labels=[]\n",
    "    for i in range(len(users_val)):\n",
    "        user = val_data_space.__getitem__(i)\n",
    "        val_chapter.append(user[0])\n",
    "        val_sub_chapter.append(user[1]) \n",
    "        val_question.append(user[2])\n",
    "        #val_features.append(user[3])\n",
    "        val_labels.append(user[3])\n",
    "    val_chapter = np.array(val_chapter)\n",
    "    val_sub_chapter = np.array(val_sub_chapter)\n",
    "    #val_features = np.array(val_features)\n",
    "    val_question = np.array(val_question)\n",
    "    val_labels= np.array(val_labels)[..., np.newaxis]\n",
    "\n",
    "    # construct test input\n",
    "    test_chapter=[]\n",
    "    test_sub_chapter=[]\n",
    "    #test_features=[]\n",
    "    test_question=[]\n",
    "    test_labels=[]\n",
    "    for i in range(len(users_test)):\n",
    "        user = test_data_space.__getitem__(i)\n",
    "        test_chapter.append(user[0])\n",
    "        test_sub_chapter.append(user[1]) \n",
    "        test_question.append(user[2])\n",
    "        #test_features.append(user[3])\n",
    "        test_labels.append(user[3])\n",
    "    test_chapter = np.array(test_chapter)\n",
    "    test_sub_chapter = np.array(test_sub_chapter)\n",
    "    #test_features = np.array(test_features)\n",
    "    test_question = np.array(test_question)\n",
    "    test_labels= np.array(test_labels)[..., np.newaxis]\n",
    "\n",
    "    # define loss function and evaluation metrics\n",
    "    bce = tf.keras.losses.BinaryCrossentropy(from_logits=True)\n",
    "    acc = tf.keras.metrics.Accuracy()\n",
    "    auc = tf.keras.metrics.AUC()\n",
    "\n",
    "    def masked_bce(y_true, y_pred):\n",
    "      flat_pred = y_pred\n",
    "      flat_ground_truth = y_true\n",
    "      label_mask = tf.math.not_equal(flat_ground_truth, -1)\n",
    "      return bce(flat_ground_truth, flat_pred, sample_weight=label_mask)\n",
    "\n",
    "    def masked_acc(y_true, y_pred):\n",
    "      flat_pred = y_pred\n",
    "      flat_ground_truth = y_true\n",
    "      flat_pred = (flat_pred >= 0.5)\n",
    "      label_mask = tf.math.not_equal(flat_ground_truth, -1)\n",
    "      return acc(flat_ground_truth, flat_pred, sample_weight=label_mask)\n",
    "\n",
    "    def masked_auc(y_true, y_pred):\n",
    "      flat_pred = y_pred\n",
    "      flat_ground_truth = y_true\n",
    "      label_mask = tf.math.not_equal(flat_ground_truth, -1)\n",
    "      return auc(flat_ground_truth, flat_pred, sample_weight=label_mask)\n",
    "\n",
    "    # input layer\n",
    "    input_chap = tf.keras.Input(shape=(MAXLENGTH))\n",
    "    input_sub_chap = tf.keras.Input(shape=(MAXLENGTH))\n",
    "    input_ques =  tf.keras.Input(shape=(MAXLENGTH))\n",
    "    #input_features = tf.keras.Input(shape=(MAXLENGTH, FEATURES_SIZE))\n",
    "\n",
    "    # embedding layer for categorical features\n",
    "    embedding_chap = Embedding(input_dim = CHAPTER_SIZE, output_dim = EMBEDDING_DIM)(input_chap)\n",
    "    embedding_sub_chap = Embedding(input_dim = SUB_CHAPTER_SIZE, output_dim = EMBEDDING_DIM)(input_sub_chap) \n",
    "    embedding_ques = Embedding(input_dim = QUESTION_SIZE, output_dim = EMBEDDING_DIM)(input_ques)       \n",
    "\n",
    "    # dense layer for numeric features\n",
    "    #dense_features = Dense(EMBEDDING_DIM,input_shape = (None, MAXLENGTH))(input_features)\n",
    "\n",
    "    # definr lstm layers\n",
    "    rnn_chap = SimpleRNN(RNN_NEURON, input_shape = (None, EMBEDDING_DIM),return_sequences = True)(embedding_chap)\n",
    "    rnn_sub_chap = SimpleRNN(RNN_NEURON, input_shape = (None, EMBEDDING_DIM),return_sequences = True)(embedding_sub_chap)\n",
    "    rnn_ques = SimpleRNN(RNN_NEURON, input_shape = (None, EMBEDDING_DIM),return_sequences = True)(embedding_ques)\n",
    "    #rnn_features = RNN(RNN_NEURON, input_shape = (None, EMBEDDING_DIM),return_sequences = True)(dense_features)\n",
    "\n",
    "    rnn_output = tf.concat([rnn_chap, rnn_sub_chap, rnn_ques], axis = 2)\n",
    "\n",
    "    dense1 = Dense(256, input_shape = (None, 3*EMBEDDING_DIM), activation='relu')(rnn_output)\n",
    "    dropout1 = Dropout(0.1)(dense1)\n",
    "    dense2 = Dense(64, input_shape = (None, 256), activation='relu')(dropout1)\n",
    "    dropout2 = Dropout(0.1)(dense2)\n",
    "    pred = Dense(1, input_shape = (None, 64), activation='sigmoid')(dropout2)\n",
    "\n",
    "    model = tf.keras.Model(\n",
    "        inputs=[input_chap, input_sub_chap,input_ques],\n",
    "        outputs=pred,\n",
    "        name='lstm_model'\n",
    "    )\n",
    "\n",
    "    callback = tf.keras.callbacks.EarlyStopping(monitor='val_loss', patience=10)\n",
    "    opt_adam = Adam(learning_rate = 0.005)\n",
    "    model.compile(\n",
    "        optimizer=opt_adam,\n",
    "        loss= masked_bce,\n",
    "        metrics = [masked_acc, masked_auc]\n",
    "    )\n",
    "\n",
    "    history = model.fit(\n",
    "      [train_chapter, train_sub_chapter, train_question],\n",
    "      train_labels,\n",
    "      batch_size = 64,\n",
    "      epochs = 100,\n",
    "      validation_data=([val_chapter, val_sub_chapter, val_question], val_labels),\n",
    "      callbacks=[callback]\n",
    "    )\n",
    "    val_losses.append(list(history.history['val_loss']))\n",
    "    train_losses.append(list(history.history['loss']))\n",
    "    val_aucs.append(list(history.history['val_masked_auc']))\n",
    "    train_aucs.append(list(history.history['masked_auc']))\n",
    "    train_score = model.evaluate([train_chapter, train_sub_chapter, train_question], train_labels)\n",
    "    train_eval.append(train_score)\n",
    "    test_score = model.evaluate([test_chapter, test_sub_chapter, test_question], test_labels)\n",
    "    test_eval.append(test_score)\n",
    "    print(\"Test: \", test_score)\n",
    "    def reset_weights(model):\n",
    "      for layer in model.layers: \n",
    "        if isinstance(layer, tf.keras.Model):\n",
    "          reset_weights(layer)\n",
    "          continue\n",
    "        for k, initializer in layer.__dict__.items():\n",
    "          if \"initializer\" not in k:\n",
    "            continue\n",
    "          # find the corresponding variable\n",
    "          var = getattr(layer, k.replace(\"_initializer\", \"\"))\n",
    "          var.assign(initializer(var.shape, var.dtype))\n",
    "    reset_weights(model)"
   ]
  },
  {
   "cell_type": "code",
   "execution_count": 29,
   "metadata": {
    "execution": {
     "iopub.execute_input": "2021-07-26T22:49:19.286586Z",
     "iopub.status.busy": "2021-07-26T22:49:19.286305Z",
     "iopub.status.idle": "2021-07-26T22:49:19.294934Z",
     "shell.execute_reply": "2021-07-26T22:49:19.293987Z",
     "shell.execute_reply.started": "2021-07-26T22:49:19.286558Z"
    },
    "id": "QsVmumHMz3lx",
    "outputId": "4ff1e2fa-6abb-458e-c729-495b456f53e5"
   },
   "outputs": [
    {
     "name": "stdout",
     "output_type": "stream",
     "text": [
      "test avg loss:  0.5236119747161865 +/- 0.024688440269437742\n",
      "test avg acc:  0.7854110717773437 +/- 0.002346425913261489\n",
      "test avg auc:  0.8332625269889832 +/- 0.0035979379904102944\n"
     ]
    }
   ],
   "source": [
    "t_eval = np.array(test_eval)\n",
    "print(\"test avg loss: \", np.mean(t_eval[:, 0]), \"+/-\" ,np.std(t_eval[:, 0]))\n",
    "print(\"test avg acc: \", np.mean(t_eval[:, 1]),  \"+/-\" ,np.std(t_eval[:, 1]))\n",
    "print(\"test avg auc: \", np.mean(t_eval[:, 2]), \"+/-\" ,np.std(t_eval[:, 2]))"
   ]
  },
  {
   "cell_type": "code",
   "execution_count": 30,
   "metadata": {
    "execution": {
     "iopub.execute_input": "2021-07-26T22:49:19.296834Z",
     "iopub.status.busy": "2021-07-26T22:49:19.296541Z",
     "iopub.status.idle": "2021-07-26T22:49:19.307870Z",
     "shell.execute_reply": "2021-07-26T22:49:19.306700Z",
     "shell.execute_reply.started": "2021-07-26T22:49:19.296807Z"
    },
    "id": "b9MM_CXWz5K6",
    "outputId": "4cf88e1d-3a74-4e7d-f92c-d01522e91757"
   },
   "outputs": [
    {
     "name": "stdout",
     "output_type": "stream",
     "text": [
      "train avg loss:  0.3418979704380035 +/- 0.004648118747548295\n",
      "train avg acc:  0.7845427989959717 +/- 0.002385721878291476\n",
      "train avg auc:  0.8315197348594665 +/- 0.0037312626395554476\n"
     ]
    }
   ],
   "source": [
    "t_eval = np.array(train_eval)\n",
    "print(\"train avg loss: \", np.mean(t_eval[:, 0]), \"+/-\" ,np.std(t_eval[:, 0]))\n",
    "print(\"train avg acc: \", np.mean(t_eval[:, 1]),  \"+/-\" ,np.std(t_eval[:, 1]))\n",
    "print(\"train avg auc: \", np.mean(t_eval[:, 2]), \"+/-\" ,np.std(t_eval[:, 2]))"
   ]
  }
 ],
 "metadata": {
  "kernelspec": {
   "display_name": "Python 3",
   "language": "python",
   "name": "python3"
  },
  "language_info": {
   "codemirror_mode": {
    "name": "ipython",
    "version": 3
   },
   "file_extension": ".py",
   "mimetype": "text/x-python",
   "name": "python",
   "nbconvert_exporter": "python",
   "pygments_lexer": "ipython3",
   "version": "3.8.5"
  }
 },
 "nbformat": 4,
 "nbformat_minor": 4
}
