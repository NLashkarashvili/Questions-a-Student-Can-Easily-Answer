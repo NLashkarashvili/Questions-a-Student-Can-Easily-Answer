{
 "cells": [
  {
   "cell_type": "code",
   "execution_count": 1,
   "metadata": {
    "execution": {
     "iopub.execute_input": "2021-07-26T22:51:23.849367Z",
     "iopub.status.busy": "2021-07-26T22:51:23.848731Z",
     "iopub.status.idle": "2021-07-26T22:51:25.956877Z",
     "shell.execute_reply": "2021-07-26T22:51:25.955840Z",
     "shell.execute_reply.started": "2021-07-26T22:51:23.849259Z"
    },
    "id": "farifxiKU1aB"
   },
   "outputs": [],
   "source": [
    "import numpy as np\n",
    "import pandas as pd\n",
    "import warnings\n",
    "import gc\n",
    "import tensorflow as tf\n",
    "from tensorflow import keras\n",
    "\n",
    "import random\n",
    "from random import choice\n",
    "from tensorflow.keras.optimizers import Adam\n",
    "from tensorflow.keras.models import Sequential \n",
    "from tensorflow.keras.layers import Dense, SimpleRNN, Concatenate, Embedding, Flatten, Activation, Dropout\n",
    "from sklearn.model_selection import KFold\n",
    "from tensorflow.python.client import device_lib\n",
    "warnings.filterwarnings('ignore')\n",
    "import random"
   ]
  },
  {
   "cell_type": "code",
   "execution_count": 2,
   "metadata": {
    "execution": {
     "iopub.execute_input": "2021-07-26T22:51:25.959153Z",
     "iopub.status.busy": "2021-07-26T22:51:25.958834Z",
     "iopub.status.idle": "2021-07-26T22:51:25.965235Z",
     "shell.execute_reply": "2021-07-26T22:51:25.964275Z",
     "shell.execute_reply.started": "2021-07-26T22:51:25.959122Z"
    },
    "id": "QOson70GPOXb"
   },
   "outputs": [],
   "source": [
    "import gc"
   ]
  },
  {
   "cell_type": "markdown",
   "metadata": {
    "id": "BQsVybBH3VPw"
   },
   "source": [
    "## Data Preprocessing"
   ]
  },
  {
   "cell_type": "code",
   "execution_count": 3,
   "metadata": {
    "execution": {
     "iopub.execute_input": "2021-07-26T22:51:25.967255Z",
     "iopub.status.busy": "2021-07-26T22:51:25.966926Z",
     "iopub.status.idle": "2021-07-26T22:51:30.712046Z",
     "shell.execute_reply": "2021-07-26T22:51:30.711108Z",
     "shell.execute_reply.started": "2021-07-26T22:51:25.967222Z"
    },
    "id": "rwtTusGxrmAE",
    "outputId": "1430f3cf-038b-485e-b5c4-c1686b1f34fd"
   },
   "outputs": [
    {
     "data": {
      "text/html": [
       "<div>\n",
       "<style scoped>\n",
       "    .dataframe tbody tr th:only-of-type {\n",
       "        vertical-align: middle;\n",
       "    }\n",
       "\n",
       "    .dataframe tbody tr th {\n",
       "        vertical-align: top;\n",
       "    }\n",
       "\n",
       "    .dataframe thead th {\n",
       "        text-align: right;\n",
       "    }\n",
       "</style>\n",
       "<table border=\"1\" class=\"dataframe\">\n",
       "  <thead>\n",
       "    <tr style=\"text-align: right;\">\n",
       "      <th></th>\n",
       "      <th>Unnamed: 0</th>\n",
       "      <th>chapter_label</th>\n",
       "      <th>sub_chapter_label</th>\n",
       "      <th>question_name</th>\n",
       "      <th>user_id.x</th>\n",
       "      <th>term</th>\n",
       "      <th>STDNT_SEX_CD</th>\n",
       "      <th>NonNativeEnglish</th>\n",
       "      <th>White</th>\n",
       "      <th>Asian</th>\n",
       "      <th>...</th>\n",
       "      <th>classGraded</th>\n",
       "      <th>classHonors</th>\n",
       "      <th>Pass_Fail</th>\n",
       "      <th>parentsGraduateEdu</th>\n",
       "      <th>minorityGroup</th>\n",
       "      <th>q</th>\n",
       "      <th>day's_available_flashcards</th>\n",
       "      <th>start_practice</th>\n",
       "      <th>end_practice</th>\n",
       "      <th>days_offset</th>\n",
       "    </tr>\n",
       "  </thead>\n",
       "  <tbody>\n",
       "    <tr>\n",
       "      <th>0</th>\n",
       "      <td>1</td>\n",
       "      <td>Sort</td>\n",
       "      <td>intro-SortingwithSortandSorted</td>\n",
       "      <td>ee_sort_04</td>\n",
       "      <td>148</td>\n",
       "      <td>WN 2018</td>\n",
       "      <td>1</td>\n",
       "      <td>0</td>\n",
       "      <td>1</td>\n",
       "      <td>0</td>\n",
       "      <td>...</td>\n",
       "      <td>1</td>\n",
       "      <td>0</td>\n",
       "      <td>0</td>\n",
       "      <td>0</td>\n",
       "      <td>0</td>\n",
       "      <td>0</td>\n",
       "      <td>18</td>\n",
       "      <td>2018-03-04 20:00:19</td>\n",
       "      <td>2018-03-04 20:00:35</td>\n",
       "      <td>45</td>\n",
       "    </tr>\n",
       "    <tr>\n",
       "      <th>1</th>\n",
       "      <td>2</td>\n",
       "      <td>Functions</td>\n",
       "      <td>Returningavaluefromafunction</td>\n",
       "      <td>test_questionfunctions_2_3</td>\n",
       "      <td>148</td>\n",
       "      <td>WN 2018</td>\n",
       "      <td>1</td>\n",
       "      <td>0</td>\n",
       "      <td>1</td>\n",
       "      <td>0</td>\n",
       "      <td>...</td>\n",
       "      <td>1</td>\n",
       "      <td>0</td>\n",
       "      <td>0</td>\n",
       "      <td>0</td>\n",
       "      <td>0</td>\n",
       "      <td>4</td>\n",
       "      <td>16</td>\n",
       "      <td>2018-02-10 11:57:55</td>\n",
       "      <td>2018-02-10 11:58:35</td>\n",
       "      <td>23</td>\n",
       "    </tr>\n",
       "    <tr>\n",
       "      <th>2</th>\n",
       "      <td>3</td>\n",
       "      <td>RESTAPIs</td>\n",
       "      <td>functionswithrestapis</td>\n",
       "      <td>test_question_functions_rest_apis_1</td>\n",
       "      <td>148</td>\n",
       "      <td>WN 2018</td>\n",
       "      <td>1</td>\n",
       "      <td>0</td>\n",
       "      <td>1</td>\n",
       "      <td>0</td>\n",
       "      <td>...</td>\n",
       "      <td>1</td>\n",
       "      <td>0</td>\n",
       "      <td>0</td>\n",
       "      <td>0</td>\n",
       "      <td>0</td>\n",
       "      <td>1</td>\n",
       "      <td>2</td>\n",
       "      <td>2018-03-12 17:03:07</td>\n",
       "      <td>2018-03-12 17:04:28</td>\n",
       "      <td>53</td>\n",
       "    </tr>\n",
       "    <tr>\n",
       "      <th>3</th>\n",
       "      <td>4</td>\n",
       "      <td>SimplePythonData</td>\n",
       "      <td>FunctionCalls</td>\n",
       "      <td>exercise_functionCalls_1</td>\n",
       "      <td>148</td>\n",
       "      <td>WN 2018</td>\n",
       "      <td>1</td>\n",
       "      <td>0</td>\n",
       "      <td>1</td>\n",
       "      <td>0</td>\n",
       "      <td>...</td>\n",
       "      <td>1</td>\n",
       "      <td>0</td>\n",
       "      <td>0</td>\n",
       "      <td>0</td>\n",
       "      <td>0</td>\n",
       "      <td>0</td>\n",
       "      <td>10</td>\n",
       "      <td>2018-01-30 14:15:49</td>\n",
       "      <td>2018-01-30 14:15:58</td>\n",
       "      <td>12</td>\n",
       "    </tr>\n",
       "    <tr>\n",
       "      <th>4</th>\n",
       "      <td>5</td>\n",
       "      <td>DictionaryAccumulation</td>\n",
       "      <td>AccumulatingaMaximumValue</td>\n",
       "      <td>ps_04_07</td>\n",
       "      <td>148</td>\n",
       "      <td>WN 2018</td>\n",
       "      <td>1</td>\n",
       "      <td>0</td>\n",
       "      <td>1</td>\n",
       "      <td>0</td>\n",
       "      <td>...</td>\n",
       "      <td>1</td>\n",
       "      <td>0</td>\n",
       "      <td>0</td>\n",
       "      <td>0</td>\n",
       "      <td>0</td>\n",
       "      <td>0</td>\n",
       "      <td>23</td>\n",
       "      <td>2018-03-03 14:04:17</td>\n",
       "      <td>2018-03-03 14:04:25</td>\n",
       "      <td>44</td>\n",
       "    </tr>\n",
       "  </tbody>\n",
       "</table>\n",
       "<p>5 rows × 48 columns</p>\n",
       "</div>"
      ],
      "text/plain": [
       "   Unnamed: 0           chapter_label               sub_chapter_label  \\\n",
       "0           1                    Sort  intro-SortingwithSortandSorted   \n",
       "1           2               Functions    Returningavaluefromafunction   \n",
       "2           3                RESTAPIs           functionswithrestapis   \n",
       "3           4        SimplePythonData                   FunctionCalls   \n",
       "4           5  DictionaryAccumulation       AccumulatingaMaximumValue   \n",
       "\n",
       "                         question_name  user_id.x     term  STDNT_SEX_CD  \\\n",
       "0                           ee_sort_04        148  WN 2018             1   \n",
       "1           test_questionfunctions_2_3        148  WN 2018             1   \n",
       "2  test_question_functions_rest_apis_1        148  WN 2018             1   \n",
       "3             exercise_functionCalls_1        148  WN 2018             1   \n",
       "4                             ps_04_07        148  WN 2018             1   \n",
       "\n",
       "   NonNativeEnglish  White  Asian  ...  classGraded  classHonors  Pass_Fail  \\\n",
       "0                 0      1      0  ...            1            0          0   \n",
       "1                 0      1      0  ...            1            0          0   \n",
       "2                 0      1      0  ...            1            0          0   \n",
       "3                 0      1      0  ...            1            0          0   \n",
       "4                 0      1      0  ...            1            0          0   \n",
       "\n",
       "   parentsGraduateEdu  minorityGroup  q  day's_available_flashcards  \\\n",
       "0                   0              0  0                          18   \n",
       "1                   0              0  4                          16   \n",
       "2                   0              0  1                           2   \n",
       "3                   0              0  0                          10   \n",
       "4                   0              0  0                          23   \n",
       "\n",
       "        start_practice         end_practice  days_offset  \n",
       "0  2018-03-04 20:00:19  2018-03-04 20:00:35           45  \n",
       "1  2018-02-10 11:57:55  2018-02-10 11:58:35           23  \n",
       "2  2018-03-12 17:03:07  2018-03-12 17:04:28           53  \n",
       "3  2018-01-30 14:15:49  2018-01-30 14:15:58           12  \n",
       "4  2018-03-03 14:04:17  2018-03-03 14:04:25           44  \n",
       "\n",
       "[5 rows x 48 columns]"
      ]
     },
     "execution_count": 3,
     "metadata": {},
     "output_type": "execute_result"
    }
   ],
   "source": [
    "# load the data\n",
    "import pandas as pd\n",
    "dataframe = pd.read_csv('../input/practice-log-demographics/Practice_Log_Demographics (1).csv', low_memory=False)\n",
    "dataframe.head()"
   ]
  },
  {
   "cell_type": "code",
   "execution_count": 4,
   "metadata": {
    "execution": {
     "iopub.execute_input": "2021-07-26T22:51:30.713517Z",
     "iopub.status.busy": "2021-07-26T22:51:30.713231Z",
     "iopub.status.idle": "2021-07-26T22:51:31.782282Z",
     "shell.execute_reply": "2021-07-26T22:51:31.781211Z",
     "shell.execute_reply.started": "2021-07-26T22:51:30.713489Z"
    },
    "id": "OCbHnEp_Vir0"
   },
   "outputs": [],
   "source": [
    "#sort data based on timestamp\n",
    "dataframe = dataframe.sort_values(by=['start_practice'])"
   ]
  },
  {
   "cell_type": "code",
   "execution_count": 5,
   "metadata": {
    "execution": {
     "iopub.execute_input": "2021-07-26T22:51:31.784357Z",
     "iopub.status.busy": "2021-07-26T22:51:31.783858Z",
     "iopub.status.idle": "2021-07-26T22:51:31.791940Z",
     "shell.execute_reply": "2021-07-26T22:51:31.790513Z",
     "shell.execute_reply.started": "2021-07-26T22:51:31.784300Z"
    },
    "id": "0RvF7BvEr98o"
   },
   "outputs": [],
   "source": [
    "FEATURES = ['chapter_label', 'sub_chapter_label','question_name','user_id','term',\n",
    "            'STDNT_SEX_CD', \n",
    "            'NonNativeEnglish',\n",
    "            'White',\n",
    "            'Asian',\n",
    "            'WhiteOrAsian',\n",
    "            'Hispanic',\n",
    "            'AfricanAmerican',\n",
    "            'OtherEthnicities',\n",
    "            'NonWhiteOrAsian',\n",
    "            'STDNT_CTZN_STAT_CD', 'international', \n",
    "            'gradingType',\n",
    "            'birthYear',\n",
    "            'exclClassCumGPA',\n",
    "            'Freshman',\n",
    "            'Junior',\n",
    "            'Sophomore',\n",
    "            'Senior',\n",
    "            'termCreditsGPA',\n",
    "            'termCreditsNoGPA',\n",
    "            'athlete_1',\n",
    "            'honorsPro',\n",
    "            'LSA', 'programBusiness', 'programEngineering', \n",
    "            'programInformation', 'programOther',\n",
    "            'HSCalculusTaken', \n",
    "            'highSchoolGPA', \n",
    "            'majorsCount', 'minorsCount',\n",
    "            'PREV_TERM_CUM_GPA',\n",
    "            'classGraded', 'classHonors', \n",
    "            'Pass_Fail', \n",
    "            'parentsGraduateEdu',  'minorityGroup', \n",
    "            'q',\n",
    "            'available_flashcards', \n",
    "            'start_practice', \n",
    "            'end_practice',\n",
    "            'days_offset']"
   ]
  },
  {
   "cell_type": "code",
   "execution_count": 6,
   "metadata": {
    "execution": {
     "iopub.execute_input": "2021-07-26T22:51:31.793773Z",
     "iopub.status.busy": "2021-07-26T22:51:31.793449Z",
     "iopub.status.idle": "2021-07-26T22:51:32.450068Z",
     "shell.execute_reply": "2021-07-26T22:51:32.449084Z",
     "shell.execute_reply.started": "2021-07-26T22:51:31.793740Z"
    },
    "id": "Mn341X7lSztl"
   },
   "outputs": [],
   "source": [
    "dataframe['available_flashcards'] = dataframe[\"day's_available_flashcards\"][:]\n",
    "dataframe = dataframe.drop([\"day's_available_flashcards\"], axis=1)\n",
    "dataframe['user_id'] = dataframe[\"user_id.x\"][:]\n",
    "dataframe = dataframe.drop([\"user_id.x\"], axis=1)"
   ]
  },
  {
   "cell_type": "code",
   "execution_count": 7,
   "metadata": {
    "execution": {
     "iopub.execute_input": "2021-07-26T22:51:32.451998Z",
     "iopub.status.busy": "2021-07-26T22:51:32.451569Z",
     "iopub.status.idle": "2021-07-26T22:51:32.627769Z",
     "shell.execute_reply": "2021-07-26T22:51:32.626736Z",
     "shell.execute_reply.started": "2021-07-26T22:51:32.451951Z"
    },
    "id": "-_BRggOjbBjN",
    "outputId": "42bff7db-08dd-48dc-a73a-d048508053b7"
   },
   "outputs": [
    {
     "data": {
      "text/plain": [
       "66"
      ]
     },
     "execution_count": 7,
     "metadata": {},
     "output_type": "execute_result"
    }
   ],
   "source": [
    "gc.collect()"
   ]
  },
  {
   "cell_type": "code",
   "execution_count": 8,
   "metadata": {
    "execution": {
     "iopub.execute_input": "2021-07-26T22:51:32.631309Z",
     "iopub.status.busy": "2021-07-26T22:51:32.630881Z",
     "iopub.status.idle": "2021-07-26T22:51:32.941476Z",
     "shell.execute_reply": "2021-07-26T22:51:32.940373Z",
     "shell.execute_reply.started": "2021-07-26T22:51:32.631263Z"
    },
    "id": "lXM7MlonVeRL",
    "outputId": "d29ccec0-522f-4e3c-e0b2-39b2e1eaef74"
   },
   "outputs": [
    {
     "data": {
      "text/plain": [
       "22"
      ]
     },
     "execution_count": 8,
     "metadata": {},
     "output_type": "execute_result"
    }
   ],
   "source": [
    "dataframe = dataframe[FEATURES]\n",
    "gc.collect()"
   ]
  },
  {
   "cell_type": "code",
   "execution_count": 9,
   "metadata": {
    "execution": {
     "iopub.execute_input": "2021-07-26T22:51:32.943386Z",
     "iopub.status.busy": "2021-07-26T22:51:32.943116Z",
     "iopub.status.idle": "2021-07-26T22:51:34.028684Z",
     "shell.execute_reply": "2021-07-26T22:51:34.027638Z",
     "shell.execute_reply.started": "2021-07-26T22:51:32.943358Z"
    },
    "id": "qRKqF_0IXZgj"
   },
   "outputs": [],
   "source": [
    "#label encode term, chapter_label, question_name, sub_chapter_label columns\n",
    "dataframe['term'] = dataframe['term'].astype('category')\n",
    "dataframe['user_id'] = dataframe['user_id'].astype(int)\n",
    "dataframe['user_id'] = dataframe['user_id'].astype(str)\n",
    "dataframe['user_id'] = dataframe['term'].str.cat(dataframe['user_id'], sep=':')\n",
    "dataframe['user_id'] = dataframe['user_id'].astype('category')\n",
    "dataframe['chapter_label'] = dataframe['chapter_label'].astype('category')\n",
    "dataframe['sub_chapter_label'] = dataframe['sub_chapter_label'].astype('category')\n",
    "dataframe['question_name'] = dataframe['question_name'].astype('category')\n"
   ]
  },
  {
   "cell_type": "code",
   "execution_count": 10,
   "metadata": {
    "execution": {
     "iopub.execute_input": "2021-07-26T22:51:34.030278Z",
     "iopub.status.busy": "2021-07-26T22:51:34.029951Z",
     "iopub.status.idle": "2021-07-26T22:51:34.425749Z",
     "shell.execute_reply": "2021-07-26T22:51:34.424751Z",
     "shell.execute_reply.started": "2021-07-26T22:51:34.030245Z"
    },
    "id": "eVl_067GWkDe"
   },
   "outputs": [],
   "source": [
    "#calculate time_lag and prev_time_elapsed\n",
    "dataframe['prev_time_elapsed'] = None\n",
    "dataframe['time_lag'] = None\n",
    "dataframe['time_lag'] = dataframe['time_lag'].astype(np.float)\n",
    "dataframe['prev_time_elapsed'] = dataframe['prev_time_elapsed'].astype(np.float)\n",
    "dataframe.start_practice = pd.to_datetime(dataframe.start_practice, format='%Y-%m-%d %H:%M:%S')\n",
    "dataframe.end_practice = pd.to_datetime(dataframe.end_practice, format='%Y-%m-%d %H:%M:%S')"
   ]
  },
  {
   "cell_type": "code",
   "execution_count": 11,
   "metadata": {
    "execution": {
     "iopub.execute_input": "2021-07-26T22:51:34.427513Z",
     "iopub.status.busy": "2021-07-26T22:51:34.427224Z",
     "iopub.status.idle": "2021-07-26T22:51:34.455724Z",
     "shell.execute_reply": "2021-07-26T22:51:34.454825Z",
     "shell.execute_reply.started": "2021-07-26T22:51:34.427482Z"
    }
   },
   "outputs": [],
   "source": [
    "dataframe['dif'] = dataframe.end_practice - dataframe.start_practice\n",
    "dataframe['dif'] = dataframe['dif'] /np.timedelta64(1, 's')\n",
    "dataframe['answer_correct'] = np.where((dataframe['q']==5) & (dataframe['dif'] <= 60), 1, 0)"
   ]
  },
  {
   "cell_type": "code",
   "execution_count": 13,
   "metadata": {
    "execution": {
     "iopub.execute_input": "2021-07-26T22:51:49.665746Z",
     "iopub.status.busy": "2021-07-26T22:51:49.665494Z",
     "iopub.status.idle": "2021-07-26T22:51:49.743897Z",
     "shell.execute_reply": "2021-07-26T22:51:49.742928Z",
     "shell.execute_reply.started": "2021-07-26T22:51:49.665719Z"
    },
    "id": "8t8yZ0XvWwzz"
   },
   "outputs": [],
   "source": [
    "#drop column end_practice\n",
    "dataframe.drop(columns=['end_practice'], inplace=True)"
   ]
  },
  {
   "cell_type": "code",
   "execution_count": 14,
   "metadata": {
    "execution": {
     "iopub.execute_input": "2021-07-26T22:51:49.745190Z",
     "iopub.status.busy": "2021-07-26T22:51:49.744882Z",
     "iopub.status.idle": "2021-07-26T22:51:50.085712Z",
     "shell.execute_reply": "2021-07-26T22:51:50.083317Z",
     "shell.execute_reply.started": "2021-07-26T22:51:49.745157Z"
    },
    "id": "E42raRIrYYXz"
   },
   "outputs": [],
   "source": [
    "# calculate the age feature\n",
    "dataframe['term_value'] = [int(ele[3:]) for ele in dataframe['term']]\n",
    "dataframe['age'] = dataframe['term_value'] - dataframe['birthYear']"
   ]
  },
  {
   "cell_type": "code",
   "execution_count": 15,
   "metadata": {
    "execution": {
     "iopub.execute_input": "2021-07-26T22:51:50.088170Z",
     "iopub.status.busy": "2021-07-26T22:51:50.087710Z",
     "iopub.status.idle": "2021-07-26T22:51:50.293259Z",
     "shell.execute_reply": "2021-07-26T22:51:50.292240Z",
     "shell.execute_reply.started": "2021-07-26T22:51:50.088123Z"
    },
    "id": "pcMVQXueYnMh"
   },
   "outputs": [],
   "source": [
    "# drop term_value and birthYear column\n",
    "dataframe.drop(columns=['term_value', 'birthYear'], inplace=True)"
   ]
  },
  {
   "cell_type": "code",
   "execution_count": 16,
   "metadata": {
    "execution": {
     "iopub.execute_input": "2021-07-26T22:51:50.294793Z",
     "iopub.status.busy": "2021-07-26T22:51:50.294512Z",
     "iopub.status.idle": "2021-07-26T22:51:50.568997Z",
     "shell.execute_reply": "2021-07-26T22:51:50.567928Z",
     "shell.execute_reply.started": "2021-07-26T22:51:50.294764Z"
    },
    "id": "hjRF5szkcQE0"
   },
   "outputs": [],
   "source": [
    "# convert minors_count to int value\n",
    "new_minors_count = []\n",
    "for i in dataframe['minorsCount']:\n",
    "  if i == 0 or i == '0':\n",
    "    new_minors_count.append(0)\n",
    "  elif i == '1 Minor':\n",
    "    new_minors_count.append(1)\n",
    "  else:\n",
    "    new_minors_count.append(2)\n",
    "\n",
    "dataframe['minorsCount'] = new_minors_count"
   ]
  },
  {
   "cell_type": "code",
   "execution_count": 17,
   "metadata": {
    "execution": {
     "iopub.execute_input": "2021-07-26T22:51:50.570603Z",
     "iopub.status.busy": "2021-07-26T22:51:50.570311Z",
     "iopub.status.idle": "2021-07-26T22:51:50.585309Z",
     "shell.execute_reply": "2021-07-26T22:51:50.584349Z",
     "shell.execute_reply.started": "2021-07-26T22:51:50.570571Z"
    },
    "id": "9VdzvJSw0KUU",
    "outputId": "6393784f-234e-4935-9cee-cbcf56b5630a"
   },
   "outputs": [
    {
     "name": "stdout",
     "output_type": "stream",
     "text": [
      "we have  1110  users in total.\n"
     ]
    }
   ],
   "source": [
    "print(\"we have \", dataframe['user_id'].nunique(),\" users in total.\")"
   ]
  },
  {
   "cell_type": "code",
   "execution_count": 18,
   "metadata": {
    "execution": {
     "iopub.execute_input": "2021-07-26T22:51:50.586756Z",
     "iopub.status.busy": "2021-07-26T22:51:50.586474Z",
     "iopub.status.idle": "2021-07-26T22:51:50.595500Z",
     "shell.execute_reply": "2021-07-26T22:51:50.594510Z",
     "shell.execute_reply.started": "2021-07-26T22:51:50.586727Z"
    },
    "id": "hUaGk9L9g13t"
   },
   "outputs": [],
   "source": [
    "for category in ['term','chapter_label', 'sub_chapter_label', 'question_name']:\n",
    "  dataframe[category] =  dataframe[category].cat.codes"
   ]
  },
  {
   "cell_type": "code",
   "execution_count": 19,
   "metadata": {
    "execution": {
     "iopub.execute_input": "2021-07-26T22:51:50.596941Z",
     "iopub.status.busy": "2021-07-26T22:51:50.596671Z",
     "iopub.status.idle": "2021-07-26T22:51:50.892720Z",
     "shell.execute_reply": "2021-07-26T22:51:50.891778Z",
     "shell.execute_reply.started": "2021-07-26T22:51:50.596915Z"
    },
    "id": "hkyvcYvlhliG"
   },
   "outputs": [],
   "source": [
    "NUMERIC_FEATURE =  ['age',\n",
    "            'exclClassCumGPA',\n",
    "            'termCreditsGPA',\n",
    "            'termCreditsNoGPA',\n",
    "            'highSchoolGPA', \n",
    "            'majorsCount', 'minorsCount',\n",
    "            'PREV_TERM_CUM_GPA',\n",
    "            'available_flashcards', \n",
    "            'days_offset', \n",
    "            'prev_time_elapsed',\n",
    "             'time_lag']\n",
    "# z-score normalize the numerical features\n",
    "for f in NUMERIC_FEATURE:\n",
    "  m = dataframe[f].mean()\n",
    "  std = dataframe[f].std()\n",
    "  dataframe[f] = (dataframe[f] - m)/std"
   ]
  },
  {
   "cell_type": "code",
   "execution_count": 20,
   "metadata": {
    "execution": {
     "iopub.execute_input": "2021-07-26T22:51:50.894705Z",
     "iopub.status.busy": "2021-07-26T22:51:50.894276Z",
     "iopub.status.idle": "2021-07-26T22:51:54.158093Z",
     "shell.execute_reply": "2021-07-26T22:51:54.157136Z",
     "shell.execute_reply.started": "2021-07-26T22:51:50.894657Z"
    },
    "id": "wo2OH-d5kWp1"
   },
   "outputs": [],
   "source": [
    "FEATURE_TRANS =  ['answer_correct', 'chapter_label', 'sub_chapter_label','question_name','user_id','term',\n",
    "                  'STDNT_SEX_CD', \n",
    "                    'White','Asian','NonWhiteOrAsian',\n",
    "            'STDNT_CTZN_STAT_CD', 'international', \n",
    "            'age',\n",
    "            'exclClassCumGPA',\n",
    "           'Freshman',\n",
    "            'Junior',\n",
    "            'Sophomore',\n",
    "            'Senior',\n",
    "            'termCreditsGPA',\n",
    "            'termCreditsNoGPA',\n",
    "            'athlete_1',\n",
    "            'honorsPro',\n",
    "            'LSA', 'programBusiness', 'programEngineering', \n",
    "            'programInformation', 'programOther',\n",
    "            'HSCalculusTaken', \n",
    "            'highSchoolGPA', \n",
    "            'majorsCount', 'minorsCount',\n",
    "            'PREV_TERM_CUM_GPA',\n",
    "            'classGraded', 'classHonors', \n",
    "            'Pass_Fail', \n",
    "            'parentsGraduateEdu',  'minorityGroup', \n",
    "            'available_flashcards', \n",
    "            'days_offset', 'prev_time_elapsed',\n",
    "             'time_lag']\n",
    "grouped_data = dataframe[FEATURE_TRANS].groupby(['user_id']).apply(lambda r: (\n",
    "                r['answer_correct'],\n",
    "                r['term'],\n",
    "                r['chapter_label'],\n",
    "                r['sub_chapter_label'],\n",
    "                r['question_name'],\n",
    "                np.array([r['STDNT_SEX_CD'],r['STDNT_CTZN_STAT_CD'], r['international'], \n",
    "                  r['White'],r['Asian'],r['NonWhiteOrAsian'],\n",
    "                 r['age'],r['exclClassCumGPA'],\n",
    "                r['Freshman'], r['Junior'], r['Sophomore'], r['Senior'],\n",
    "                r['termCreditsGPA'], r['termCreditsNoGPA'],\n",
    "                r['athlete_1'], r['honorsPro'],\n",
    "                r['LSA'], r['programBusiness'], r['programEngineering'], \n",
    "                r['programInformation'], r['programOther'],\n",
    "                r['HSCalculusTaken'],  r['highSchoolGPA'], \n",
    "                r['majorsCount'], r['minorsCount'],\n",
    "                r['PREV_TERM_CUM_GPA'], \n",
    "                r['parentsGraduateEdu'], r['minorityGroup'],\n",
    "                r['available_flashcards'],\n",
    "                r['days_offset'],\n",
    "                r['prev_time_elapsed'],\n",
    "                r['time_lag']\n",
    "              ]).transpose()\n",
    "                ))"
   ]
  },
  {
   "cell_type": "code",
   "execution_count": 21,
   "metadata": {
    "execution": {
     "iopub.execute_input": "2021-07-26T22:51:54.159675Z",
     "iopub.status.busy": "2021-07-26T22:51:54.159401Z",
     "iopub.status.idle": "2021-07-26T22:51:54.355217Z",
     "shell.execute_reply": "2021-07-26T22:51:54.354445Z",
     "shell.execute_reply.started": "2021-07-26T22:51:54.159648Z"
    },
    "id": "XXLqQnjrlp_4",
    "outputId": "c801da79-f0bf-4fe5-b19c-7c799fe01556"
   },
   "outputs": [
    {
     "data": {
      "text/plain": [
       "22"
      ]
     },
     "execution_count": 21,
     "metadata": {},
     "output_type": "execute_result"
    }
   ],
   "source": [
    "gc.collect()"
   ]
  },
  {
   "cell_type": "code",
   "execution_count": 22,
   "metadata": {
    "execution": {
     "iopub.execute_input": "2021-07-26T22:51:54.356982Z",
     "iopub.status.busy": "2021-07-26T22:51:54.356435Z",
     "iopub.status.idle": "2021-07-26T22:51:54.393400Z",
     "shell.execute_reply": "2021-07-26T22:51:54.392359Z",
     "shell.execute_reply.started": "2021-07-26T22:51:54.356947Z"
    },
    "id": "QYGQasdTrmP0"
   },
   "outputs": [],
   "source": [
    "# remove students who don't have make any interactions with the tool\n",
    "toRemove = []\n",
    "for index in grouped_data.index:\n",
    "  if len(grouped_data[index][0]) <= 10:\n",
    "    toRemove.append(index)\n",
    "grouped_data = grouped_data.drop(index=toRemove)"
   ]
  },
  {
   "cell_type": "code",
   "execution_count": 23,
   "metadata": {
    "execution": {
     "iopub.execute_input": "2021-07-26T22:51:54.395071Z",
     "iopub.status.busy": "2021-07-26T22:51:54.394756Z",
     "iopub.status.idle": "2021-07-26T22:51:54.399277Z",
     "shell.execute_reply": "2021-07-26T22:51:54.398116Z",
     "shell.execute_reply.started": "2021-07-26T22:51:54.395032Z"
    },
    "id": "9kZqV9siDyNb"
   },
   "outputs": [],
   "source": [
    "#SETTINGS -> can be modified at any time\n",
    "MAXLENGTH = 300\n",
    "EMBEDDING_DIM = 128\n",
    "DENSE_NEURON = 16\n",
    "RNN_NEURON = 32"
   ]
  },
  {
   "cell_type": "code",
   "execution_count": 24,
   "metadata": {
    "execution": {
     "iopub.execute_input": "2021-07-26T22:51:54.400996Z",
     "iopub.status.busy": "2021-07-26T22:51:54.400629Z",
     "iopub.status.idle": "2021-07-26T22:51:54.410236Z",
     "shell.execute_reply": "2021-07-26T22:51:54.409277Z",
     "shell.execute_reply.started": "2021-07-26T22:51:54.400946Z"
    },
    "id": "1MksD1JizpPn"
   },
   "outputs": [],
   "source": [
    "#FEATURES_SIZE = 38\n",
    "CHAPTER_SIZE = 38\n",
    "SUB_CHAPTER_SIZE = 223\n",
    "QUESTION_SIZE = 1069"
   ]
  },
  {
   "cell_type": "code",
   "execution_count": 25,
   "metadata": {
    "execution": {
     "iopub.execute_input": "2021-07-26T22:51:54.411990Z",
     "iopub.status.busy": "2021-07-26T22:51:54.411610Z",
     "iopub.status.idle": "2021-07-26T22:51:54.428359Z",
     "shell.execute_reply": "2021-07-26T22:51:54.427080Z",
     "shell.execute_reply.started": "2021-07-26T22:51:54.411957Z"
    }
   },
   "outputs": [
    {
     "data": {
      "text/plain": [
       "array([ 96,  86,  88,  28,  12,  82, 125,  32,  69,  33,  21, 115, 120,\n",
       "       119,  91,  73,  57,  77, 117,  40,  74,  41,  68,  39,  92,  47,\n",
       "       104,  95,  53,  49,  50,  16,  52,  55,   7,  15,  51, 102, 103,\n",
       "        11,  94, 108, 100,  17,  67,  63,  13, 139,  26,  25,   8, 107,\n",
       "         0,  90,  48,  54, 138,   1,   2,   3,  34,  35,  85,   5,  24,\n",
       "        37,  36,  78,  70,  45, 142,  71,  10,  89, 111, 112, 109, 116,\n",
       "        76,  72, 148, 134, 146, 221, 143,  56,  60,  61,  23, 140, 106,\n",
       "        42,  83,  22, 145, 136, 144,  38,   4,  19, 137,  75,  43,  98,\n",
       "        84, 113, 173, 174, 175, 176, 177, 178, 180, 181, 182, 187, 189,\n",
       "       190, 191, 192, 193, 195, 197, 151, 152, 153, 156, 157, 158, 159,\n",
       "       160, 161, 163, 164, 165, 166, 167, 168, 169, 170, 171, 172, 198,\n",
       "       199, 200, 201, 202, 203, 204, 205, 206, 207, 208, 209, 210, 162,\n",
       "       179, 186, 188, 194, 183, 184, 185, 211, 212, 213, 154, 155, 196,\n",
       "         6, 118,  18, 215,  46, 216, 141,  27, 217, 105, 123, 218, 101,\n",
       "       124, 219, 122, 220,  58,  59,  64,  20,  93,  65,  66,   9,  44,\n",
       "        30,  14,  79, 121,  31, 110, 129,  87,  97,  62, 149, 132, 131,\n",
       "       150, 130, 128,  99, 147, 127, 214, 135,  80, 126, 133,  81, 114,\n",
       "        29], dtype=int16)"
      ]
     },
     "execution_count": 25,
     "metadata": {},
     "output_type": "execute_result"
    }
   ],
   "source": [
    "dataframe['sub_chapter_label'].unique()"
   ]
  },
  {
   "cell_type": "code",
   "execution_count": 26,
   "metadata": {
    "execution": {
     "iopub.execute_input": "2021-07-26T22:51:54.431323Z",
     "iopub.status.busy": "2021-07-26T22:51:54.430997Z",
     "iopub.status.idle": "2021-07-26T22:51:54.770970Z",
     "shell.execute_reply": "2021-07-26T22:51:54.769872Z",
     "shell.execute_reply.started": "2021-07-26T22:51:54.431291Z"
    },
    "id": "mY3Thp6d0NaT"
   },
   "outputs": [],
   "source": [
    "#create dataset class\n",
    "#to prepare it for train, valid, and test sets\n",
    "from torch.utils.data import Dataset, DataLoader\n",
    "class SPACE_DATASET(Dataset):\n",
    "    def __init__(self, data, maxlength = 300):\n",
    "        super(SPACE_DATASET, self).__init__()\n",
    "        self.maxlength = maxlength\n",
    "        self.data = data\n",
    "        self.users = list()\n",
    "        for user in data.index:\n",
    "            self.users.append(user)\n",
    "\n",
    "    def __len__(self):\n",
    "        return len(self.users)\n",
    "    \n",
    "    def __getitem__(self, ix):\n",
    "        user = self.users[ix]\n",
    "        user = user\n",
    "        target, term, ch_label, sub_ch_label, ques_name, features = self.data[user]\n",
    "        \n",
    "        #0s should be used as padding values\n",
    "        ori_target = target.values \n",
    "        term = term.values\n",
    "        ch_label = ch_label.values + 1\n",
    "        sub_ch_label = sub_ch_label.values +1\n",
    "        ques_name = ques_name.values + 1\n",
    "        \n",
    "        n = len(ch_label)\n",
    "\n",
    "        # one hot for term\n",
    "        term_encode = [0]*7\n",
    "        term_encode[term[0]] = 1\n",
    "        shifted_target= []\n",
    "\n",
    "        \n",
    "        # get  user interaction informations in the previous MAXLEN interactions\n",
    "        if n > self.maxlength:\n",
    "          ch_label = ch_label[-self.maxlength:]\n",
    "          sub_ch_label = sub_ch_label[-self.maxlength:]\n",
    "          ques_name = ques_name[-self.maxlength:]\n",
    "          features = features[-self.maxlength:]\n",
    "          target = ori_target[-self.maxlength:]\n",
    "          shifted_target = ori_target[ (-self.maxlength - 1) :-1]\n",
    "        else:\n",
    "          ch_label = [0]*(self.maxlength - n)+list(ch_label[:])\n",
    "          sub_ch_label = [0]*(self.maxlength - n)+list(sub_ch_label[:])\n",
    "          ques_name = [0]*(self.maxlength - n)+list(ques_name[:])\n",
    "          features = [[0]*len(features[0])]*(self.maxlength  - n)+list(features[:])\n",
    "          target = [-1]*(self.maxlength - n) + list(ori_target[:])\n",
    "          shifted_target = [-1]*(self.maxlength + 1 - n) + list(ori_target[:-1])\n",
    "\n",
    "        new_features = []\n",
    "        count = 0\n",
    "        for f in features:\n",
    "          temp = list(f)\n",
    "          temp.extend(term_encode)\n",
    "          # temp.append(shifted_target[count]) #uncomment this line for include previous response feature\n",
    "          new_features.append(temp)\n",
    "          count += 1\n",
    "        features = new_features\n",
    "        return ch_label,sub_ch_label,ques_name,target"
   ]
  },
  {
   "cell_type": "code",
   "execution_count": 27,
   "metadata": {
    "execution": {
     "iopub.execute_input": "2021-07-26T22:51:54.773249Z",
     "iopub.status.busy": "2021-07-26T22:51:54.772782Z",
     "iopub.status.idle": "2021-07-26T22:51:54.780336Z",
     "shell.execute_reply": "2021-07-26T22:51:54.779070Z",
     "shell.execute_reply.started": "2021-07-26T22:51:54.773199Z"
    }
   },
   "outputs": [
    {
     "data": {
      "text/plain": [
       "223"
      ]
     },
     "execution_count": 27,
     "metadata": {},
     "output_type": "execute_result"
    }
   ],
   "source": [
    "SUB_CHAPTER_SIZE"
   ]
  },
  {
   "cell_type": "code",
   "execution_count": 28,
   "metadata": {
    "execution": {
     "iopub.execute_input": "2021-07-26T22:51:54.782695Z",
     "iopub.status.busy": "2021-07-26T22:51:54.782164Z",
     "iopub.status.idle": "2021-07-26T22:56:51.050448Z",
     "shell.execute_reply": "2021-07-26T22:56:51.049154Z",
     "shell.execute_reply.started": "2021-07-26T22:51:54.782650Z"
    },
    "id": "gzJrljnjzypP",
    "outputId": "87abe488-b493-4f8f-9d71-45cb1d2ddf51"
   },
   "outputs": [
    {
     "name": "stdout",
     "output_type": "stream",
     "text": [
      "Epoch 1/100\n",
      "14/14 [==============================] - 8s 357ms/step - loss: 0.6221 - masked_acc: 0.5995 - masked_auc: 0.5015 - val_loss: 0.5237 - val_masked_acc: 0.7050 - val_masked_auc: 0.6102\n",
      "Epoch 2/100\n",
      "14/14 [==============================] - 4s 263ms/step - loss: 0.4694 - masked_acc: 0.7088 - masked_auc: 0.6531 - val_loss: 0.4887 - val_masked_acc: 0.7194 - val_masked_auc: 0.7116\n",
      "Epoch 3/100\n",
      "14/14 [==============================] - 4s 265ms/step - loss: 0.4544 - masked_acc: 0.7248 - masked_auc: 0.7255 - val_loss: 0.4761 - val_masked_acc: 0.7361 - val_masked_auc: 0.7479\n",
      "Epoch 4/100\n",
      "14/14 [==============================] - 4s 258ms/step - loss: 0.4350 - masked_acc: 0.7394 - masked_auc: 0.7550 - val_loss: 0.4749 - val_masked_acc: 0.7456 - val_masked_auc: 0.7674\n",
      "Epoch 5/100\n",
      "14/14 [==============================] - 4s 257ms/step - loss: 0.4254 - masked_acc: 0.7478 - masked_auc: 0.7721 - val_loss: 0.4779 - val_masked_acc: 0.7521 - val_masked_auc: 0.7802\n",
      "Epoch 6/100\n",
      "14/14 [==============================] - 4s 263ms/step - loss: 0.4214 - masked_acc: 0.7536 - masked_auc: 0.7835 - val_loss: 0.4797 - val_masked_acc: 0.7569 - val_masked_auc: 0.7898\n",
      "Epoch 7/100\n",
      "14/14 [==============================] - 4s 282ms/step - loss: 0.4135 - masked_acc: 0.7581 - masked_auc: 0.7925 - val_loss: 0.4792 - val_masked_acc: 0.7608 - val_masked_auc: 0.7974\n",
      "Epoch 8/100\n",
      "14/14 [==============================] - 4s 261ms/step - loss: 0.4098 - masked_acc: 0.7617 - masked_auc: 0.7994 - val_loss: 0.4924 - val_masked_acc: 0.7639 - val_masked_auc: 0.8034\n",
      "Epoch 9/100\n",
      "14/14 [==============================] - 4s 263ms/step - loss: 0.4043 - masked_acc: 0.7647 - masked_auc: 0.8052 - val_loss: 0.5145 - val_masked_acc: 0.7665 - val_masked_auc: 0.8083\n",
      "Epoch 10/100\n",
      "14/14 [==============================] - 4s 254ms/step - loss: 0.4018 - masked_acc: 0.7672 - masked_auc: 0.8098 - val_loss: 0.5051 - val_masked_acc: 0.7689 - val_masked_auc: 0.8127\n",
      "Epoch 11/100\n",
      "14/14 [==============================] - 4s 254ms/step - loss: 0.3906 - masked_acc: 0.7696 - masked_auc: 0.8142 - val_loss: 0.5092 - val_masked_acc: 0.7711 - val_masked_auc: 0.8167\n",
      "Epoch 12/100\n",
      "14/14 [==============================] - 4s 264ms/step - loss: 0.3840 - masked_acc: 0.7717 - masked_auc: 0.8180 - val_loss: 0.5161 - val_masked_acc: 0.7729 - val_masked_auc: 0.8203\n",
      "Epoch 13/100\n",
      "14/14 [==============================] - 4s 260ms/step - loss: 0.3801 - masked_acc: 0.7735 - masked_auc: 0.8215 - val_loss: 0.5294 - val_masked_acc: 0.7748 - val_masked_auc: 0.8235\n",
      "Epoch 14/100\n",
      "14/14 [==============================] - 4s 258ms/step - loss: 0.3668 - masked_acc: 0.7754 - masked_auc: 0.8247 - val_loss: 0.5385 - val_masked_acc: 0.7766 - val_masked_auc: 0.8268\n",
      "28/28 [==============================] - 1s 49ms/step - loss: 0.3593 - masked_acc: 0.7781 - masked_auc: 0.8292\n",
      "4/4 [==============================] - 0s 44ms/step - loss: 0.4990 - masked_acc: 0.7787 - masked_auc: 0.8305\n",
      "Test:  [0.49898284673690796, 0.7787078619003296, 0.8304772973060608]\n",
      "Epoch 1/100\n",
      "14/14 [==============================] - 8s 329ms/step - loss: 0.5802 - masked_acc: 0.6942 - masked_auc: 0.5410 - val_loss: 0.4970 - val_masked_acc: 0.7308 - val_masked_auc: 0.6785\n",
      "Epoch 2/100\n",
      "14/14 [==============================] - 4s 266ms/step - loss: 0.4580 - masked_acc: 0.7386 - masked_auc: 0.7099 - val_loss: 0.4792 - val_masked_acc: 0.7496 - val_masked_auc: 0.7462\n",
      "Epoch 3/100\n",
      "14/14 [==============================] - 4s 257ms/step - loss: 0.4453 - masked_acc: 0.7525 - masked_auc: 0.7551 - val_loss: 0.4738 - val_masked_acc: 0.7579 - val_masked_auc: 0.7702\n",
      "Epoch 4/100\n",
      "14/14 [==============================] - 4s 257ms/step - loss: 0.4403 - masked_acc: 0.7594 - masked_auc: 0.7750 - val_loss: 0.4740 - val_masked_acc: 0.7629 - val_masked_auc: 0.7838\n",
      "Epoch 5/100\n",
      "14/14 [==============================] - 4s 261ms/step - loss: 0.4284 - masked_acc: 0.7638 - masked_auc: 0.7871 - val_loss: 0.4755 - val_masked_acc: 0.7664 - val_masked_auc: 0.7934\n",
      "Epoch 6/100\n",
      "14/14 [==============================] - 4s 252ms/step - loss: 0.4243 - masked_acc: 0.7673 - masked_auc: 0.7957 - val_loss: 0.4806 - val_masked_acc: 0.7690 - val_masked_auc: 0.7996\n",
      "Epoch 7/100\n",
      "14/14 [==============================] - 4s 256ms/step - loss: 0.4192 - masked_acc: 0.7696 - masked_auc: 0.8015 - val_loss: 0.4863 - val_masked_acc: 0.7713 - val_masked_auc: 0.8054\n",
      "Epoch 8/100\n",
      "14/14 [==============================] - 4s 286ms/step - loss: 0.4096 - masked_acc: 0.7720 - masked_auc: 0.8071 - val_loss: 0.4783 - val_masked_acc: 0.7736 - val_masked_auc: 0.8105\n",
      "Epoch 9/100\n",
      "14/14 [==============================] - 4s 263ms/step - loss: 0.4017 - masked_acc: 0.7743 - masked_auc: 0.8121 - val_loss: 0.4843 - val_masked_acc: 0.7758 - val_masked_auc: 0.8152\n",
      "Epoch 10/100\n",
      "14/14 [==============================] - 4s 260ms/step - loss: 0.3913 - masked_acc: 0.7764 - masked_auc: 0.8167 - val_loss: 0.4847 - val_masked_acc: 0.7779 - val_masked_auc: 0.8197\n",
      "Epoch 11/100\n",
      "14/14 [==============================] - 4s 262ms/step - loss: 0.3898 - masked_acc: 0.7785 - masked_auc: 0.8212 - val_loss: 0.5072 - val_masked_acc: 0.7800 - val_masked_auc: 0.8238\n",
      "Epoch 12/100\n",
      "14/14 [==============================] - 4s 256ms/step - loss: 0.3840 - masked_acc: 0.7805 - masked_auc: 0.8249 - val_loss: 0.5032 - val_masked_acc: 0.7815 - val_masked_auc: 0.8268\n",
      "Epoch 13/100\n",
      "14/14 [==============================] - 4s 261ms/step - loss: 0.3780 - masked_acc: 0.7820 - masked_auc: 0.8280 - val_loss: 0.4993 - val_masked_acc: 0.7830 - val_masked_auc: 0.8299\n",
      "28/28 [==============================] - 1s 48ms/step - loss: 0.3635 - masked_acc: 0.7845 - masked_auc: 0.8323\n",
      "4/4 [==============================] - 0s 44ms/step - loss: 0.4597 - masked_acc: 0.7851 - masked_auc: 0.8336\n",
      "Test:  [0.4597053825855255, 0.7850752472877502, 0.833570122718811]\n",
      "Epoch 1/100\n",
      "14/14 [==============================] - 8s 331ms/step - loss: 0.6190 - masked_acc: 0.6235 - masked_auc: 0.5198 - val_loss: 0.4963 - val_masked_acc: 0.7083 - val_masked_auc: 0.6069\n",
      "Epoch 2/100\n",
      "14/14 [==============================] - 4s 282ms/step - loss: 0.4907 - masked_acc: 0.7094 - masked_auc: 0.6477 - val_loss: 0.4618 - val_masked_acc: 0.7250 - val_masked_auc: 0.7056\n",
      "Epoch 3/100\n",
      "14/14 [==============================] - 4s 252ms/step - loss: 0.4502 - masked_acc: 0.7305 - masked_auc: 0.7205 - val_loss: 0.4494 - val_masked_acc: 0.7400 - val_masked_auc: 0.7435\n",
      "Epoch 4/100\n",
      "14/14 [==============================] - 4s 261ms/step - loss: 0.4401 - masked_acc: 0.7429 - masked_auc: 0.7507 - val_loss: 0.4473 - val_masked_acc: 0.7487 - val_masked_auc: 0.7637\n",
      "Epoch 5/100\n",
      "14/14 [==============================] - 4s 265ms/step - loss: 0.4334 - masked_acc: 0.7506 - masked_auc: 0.7684 - val_loss: 0.4484 - val_masked_acc: 0.7545 - val_masked_auc: 0.7769\n",
      "Epoch 6/100\n",
      "14/14 [==============================] - 4s 256ms/step - loss: 0.4253 - masked_acc: 0.7560 - masked_auc: 0.7803 - val_loss: 0.4498 - val_masked_acc: 0.7587 - val_masked_auc: 0.7864\n",
      "Epoch 7/100\n",
      "14/14 [==============================] - 4s 293ms/step - loss: 0.4234 - masked_acc: 0.7597 - masked_auc: 0.7888 - val_loss: 0.4500 - val_masked_acc: 0.7623 - val_masked_auc: 0.7941\n",
      "Epoch 8/100\n",
      "14/14 [==============================] - 4s 254ms/step - loss: 0.4198 - masked_acc: 0.7631 - masked_auc: 0.7961 - val_loss: 0.4534 - val_masked_acc: 0.7653 - val_masked_auc: 0.8002\n",
      "Epoch 9/100\n",
      "14/14 [==============================] - 4s 264ms/step - loss: 0.4094 - masked_acc: 0.7660 - masked_auc: 0.8020 - val_loss: 0.4746 - val_masked_acc: 0.7678 - val_masked_auc: 0.8055\n",
      "Epoch 10/100\n",
      "14/14 [==============================] - 4s 267ms/step - loss: 0.4095 - masked_acc: 0.7684 - masked_auc: 0.8067 - val_loss: 0.4609 - val_masked_acc: 0.7697 - val_masked_auc: 0.8093\n",
      "Epoch 11/100\n",
      "14/14 [==============================] - 4s 269ms/step - loss: 0.3973 - masked_acc: 0.7703 - masked_auc: 0.8107 - val_loss: 0.4740 - val_masked_acc: 0.7718 - val_masked_auc: 0.8134\n",
      "Epoch 12/100\n",
      "14/14 [==============================] - 4s 260ms/step - loss: 0.3883 - masked_acc: 0.7724 - masked_auc: 0.8147 - val_loss: 0.4721 - val_masked_acc: 0.7737 - val_masked_auc: 0.8173\n",
      "Epoch 13/100\n",
      "14/14 [==============================] - 4s 264ms/step - loss: 0.3901 - masked_acc: 0.7742 - masked_auc: 0.8185 - val_loss: 0.4746 - val_masked_acc: 0.7756 - val_masked_auc: 0.8210\n",
      "Epoch 14/100\n",
      "14/14 [==============================] - 4s 265ms/step - loss: 0.3771 - masked_acc: 0.7762 - masked_auc: 0.8222 - val_loss: 0.4924 - val_masked_acc: 0.7775 - val_masked_auc: 0.8245\n",
      "28/28 [==============================] - 1s 49ms/step - loss: 0.3635 - masked_acc: 0.7790 - masked_auc: 0.8270\n",
      "4/4 [==============================] - 0s 43ms/step - loss: 0.4677 - masked_acc: 0.7796 - masked_auc: 0.8284\n",
      "Test:  [0.4677353501319885, 0.7795802354812622, 0.8284473419189453]\n",
      "Epoch 1/100\n",
      "14/14 [==============================] - 8s 337ms/step - loss: 0.6025 - masked_acc: 0.6255 - masked_auc: 0.5145 - val_loss: 0.4955 - val_masked_acc: 0.7103 - val_masked_auc: 0.6181\n",
      "Epoch 2/100\n",
      "14/14 [==============================] - 4s 259ms/step - loss: 0.4857 - masked_acc: 0.7126 - masked_auc: 0.6569 - val_loss: 0.4611 - val_masked_acc: 0.7311 - val_masked_auc: 0.7147\n",
      "Epoch 3/100\n",
      "14/14 [==============================] - 4s 278ms/step - loss: 0.4489 - masked_acc: 0.7357 - masked_auc: 0.7280 - val_loss: 0.4561 - val_masked_acc: 0.7449 - val_masked_auc: 0.7487\n",
      "Epoch 4/100\n",
      "14/14 [==============================] - 4s 267ms/step - loss: 0.4397 - masked_acc: 0.7477 - masked_auc: 0.7555 - val_loss: 0.4565 - val_masked_acc: 0.7526 - val_masked_auc: 0.7668\n",
      "Epoch 5/100\n",
      "14/14 [==============================] - 4s 268ms/step - loss: 0.4302 - masked_acc: 0.7543 - masked_auc: 0.7712 - val_loss: 0.4584 - val_masked_acc: 0.7577 - val_masked_auc: 0.7786\n",
      "Epoch 6/100\n",
      "14/14 [==============================] - 4s 256ms/step - loss: 0.4269 - masked_acc: 0.7589 - masked_auc: 0.7817 - val_loss: 0.4608 - val_masked_acc: 0.7618 - val_masked_auc: 0.7876\n",
      "Epoch 7/100\n",
      "14/14 [==============================] - 4s 270ms/step - loss: 0.4140 - masked_acc: 0.7628 - masked_auc: 0.7903 - val_loss: 0.4705 - val_masked_acc: 0.7648 - val_masked_auc: 0.7948\n",
      "Epoch 8/100\n",
      "14/14 [==============================] - 4s 256ms/step - loss: 0.4015 - masked_acc: 0.7657 - masked_auc: 0.7971 - val_loss: 0.4810 - val_masked_acc: 0.7675 - val_masked_auc: 0.8009\n",
      "Epoch 9/100\n",
      "14/14 [==============================] - 4s 254ms/step - loss: 0.4013 - masked_acc: 0.7682 - masked_auc: 0.8029 - val_loss: 0.4770 - val_masked_acc: 0.7697 - val_masked_auc: 0.8061\n",
      "Epoch 10/100\n",
      "14/14 [==============================] - 4s 272ms/step - loss: 0.3998 - masked_acc: 0.7703 - masked_auc: 0.8078 - val_loss: 0.4798 - val_masked_acc: 0.7718 - val_masked_auc: 0.8108\n",
      "Epoch 11/100\n",
      "14/14 [==============================] - 4s 255ms/step - loss: 0.3841 - masked_acc: 0.7724 - masked_auc: 0.8124 - val_loss: 0.4830 - val_masked_acc: 0.7738 - val_masked_auc: 0.8151\n",
      "Epoch 12/100\n",
      "14/14 [==============================] - 4s 282ms/step - loss: 0.3800 - masked_acc: 0.7744 - masked_auc: 0.8165 - val_loss: 0.4977 - val_masked_acc: 0.7757 - val_masked_auc: 0.8190\n",
      "Epoch 13/100\n",
      "14/14 [==============================] - 8s 588ms/step - loss: 0.3789 - masked_acc: 0.7762 - masked_auc: 0.8202 - val_loss: 0.5100 - val_masked_acc: 0.7774 - val_masked_auc: 0.8225\n",
      "28/28 [==============================] - 2s 53ms/step - loss: 0.3649 - masked_acc: 0.7789 - masked_auc: 0.8251\n",
      "4/4 [==============================] - 0s 79ms/step - loss: 0.4748 - masked_acc: 0.7795 - masked_auc: 0.8267\n",
      "Test:  [0.4748227894306183, 0.7795254588127136, 0.8266720771789551]\n",
      "Epoch 1/100\n",
      "14/14 [==============================] - 8s 333ms/step - loss: 0.6271 - masked_acc: 0.5841 - masked_auc: 0.5087 - val_loss: 0.5162 - val_masked_acc: 0.7029 - val_masked_auc: 0.6119\n",
      "Epoch 2/100\n",
      "14/14 [==============================] - 4s 261ms/step - loss: 0.4770 - masked_acc: 0.7069 - masked_auc: 0.6520 - val_loss: 0.4899 - val_masked_acc: 0.7136 - val_masked_auc: 0.7095\n",
      "Epoch 3/100\n",
      "14/14 [==============================] - 4s 269ms/step - loss: 0.4527 - masked_acc: 0.7164 - masked_auc: 0.7225 - val_loss: 0.4807 - val_masked_acc: 0.7252 - val_masked_auc: 0.7436\n",
      "Epoch 4/100\n",
      "14/14 [==============================] - 4s 285ms/step - loss: 0.4477 - masked_acc: 0.7287 - masked_auc: 0.7503 - val_loss: 0.4803 - val_masked_acc: 0.7365 - val_masked_auc: 0.7623\n",
      "Epoch 5/100\n",
      "14/14 [==============================] - 4s 264ms/step - loss: 0.4372 - masked_acc: 0.7390 - masked_auc: 0.7665 - val_loss: 0.4808 - val_masked_acc: 0.7442 - val_masked_auc: 0.7747\n",
      "Epoch 6/100\n",
      "14/14 [==============================] - 4s 261ms/step - loss: 0.4337 - masked_acc: 0.7458 - masked_auc: 0.7778 - val_loss: 0.4812 - val_masked_acc: 0.7500 - val_masked_auc: 0.7841\n",
      "Epoch 7/100\n",
      "14/14 [==============================] - 3s 251ms/step - loss: 0.4147 - masked_acc: 0.7515 - masked_auc: 0.7867 - val_loss: 0.4853 - val_masked_acc: 0.7545 - val_masked_auc: 0.7914\n",
      "Epoch 8/100\n",
      "14/14 [==============================] - 4s 274ms/step - loss: 0.4208 - masked_acc: 0.7555 - masked_auc: 0.7933 - val_loss: 0.4840 - val_masked_acc: 0.7580 - val_masked_auc: 0.7973\n",
      "Epoch 9/100\n",
      "14/14 [==============================] - 4s 270ms/step - loss: 0.4053 - masked_acc: 0.7590 - masked_auc: 0.7991 - val_loss: 0.4912 - val_masked_acc: 0.7611 - val_masked_auc: 0.8026\n",
      "Epoch 10/100\n",
      "14/14 [==============================] - 4s 273ms/step - loss: 0.4024 - masked_acc: 0.7618 - masked_auc: 0.8041 - val_loss: 0.4939 - val_masked_acc: 0.7637 - val_masked_auc: 0.8073\n",
      "Epoch 11/100\n",
      "14/14 [==============================] - 4s 270ms/step - loss: 0.4008 - masked_acc: 0.7644 - masked_auc: 0.8087 - val_loss: 0.4915 - val_masked_acc: 0.7661 - val_masked_auc: 0.8115\n",
      "Epoch 12/100\n",
      "14/14 [==============================] - 4s 265ms/step - loss: 0.3848 - masked_acc: 0.7669 - masked_auc: 0.8129 - val_loss: 0.5016 - val_masked_acc: 0.7685 - val_masked_auc: 0.8157\n",
      "Epoch 13/100\n",
      "14/14 [==============================] - 4s 282ms/step - loss: 0.3844 - masked_acc: 0.7692 - masked_auc: 0.8171 - val_loss: 0.5073 - val_masked_acc: 0.7707 - val_masked_auc: 0.8197\n",
      "Epoch 14/100\n",
      "14/14 [==============================] - 4s 269ms/step - loss: 0.3643 - masked_acc: 0.7716 - masked_auc: 0.8211 - val_loss: 0.5170 - val_masked_acc: 0.7730 - val_masked_auc: 0.8235\n",
      "28/28 [==============================] - 1s 47ms/step - loss: 0.3576 - masked_acc: 0.7748 - masked_auc: 0.8260\n",
      "4/4 [==============================] - 0s 43ms/step - loss: 0.4728 - masked_acc: 0.7756 - masked_auc: 0.8276\n",
      "Test:  [0.47277572751045227, 0.775638222694397, 0.8276387453079224]\n"
     ]
    }
   ],
   "source": [
    "# 5 fold cross validation\n",
    "#HERE WE ONLY USE\n",
    "#CHAPTER, SUB_CHAPTER\n",
    "#QUESTION\n",
    "import torch\n",
    "X = np.array(grouped_data.keys())\n",
    "kfold = KFold(n_splits=5, shuffle=True)\n",
    "train_losses = list()\n",
    "train_aucs = list()\n",
    "val_losses = list()\n",
    "val_aucs = list()\n",
    "train_eval = list()\n",
    "test_eval = list()\n",
    "for train, test in kfold.split(X):\n",
    "    users_train, users_test =  X[train], X[test]\n",
    "    n = len(users_test)//2\n",
    "    users_test, users_val = users_test[:n], users_test[n: ]\n",
    "    train_data_space = SPACE_DATASET(grouped_data[users_train], MAXLENGTH)\n",
    "    val_data_space = SPACE_DATASET(grouped_data[users_val], MAXLENGTH)\n",
    "    test_data_space = SPACE_DATASET(grouped_data[users_test], MAXLENGTH)\n",
    "    #construct training input\n",
    "    train_chapter=[]\n",
    "    train_sub_chapter=[]\n",
    "    train_question = []\n",
    "    train_features=[]\n",
    "    train_labels=[]\n",
    "    for i in range(len(users_train)):\n",
    "        user = train_data_space.__getitem__(i)\n",
    "        train_chapter.append(user[0])\n",
    "        train_sub_chapter.append(user[1]) \n",
    "        train_question.append(user[2])\n",
    "        #train_features.append(user[3])\n",
    "        train_labels.append(user[3])\n",
    "    train_chapter = np.array(train_chapter)\n",
    "    train_sub_chapter = np.array(train_sub_chapter)\n",
    "    train_question = np.array(train_question)\n",
    "    #train_features = np.array(train_features)\n",
    "    train_labels= np.array(train_labels)[..., np.newaxis]\n",
    "\n",
    "    #construct validation input\n",
    "    val_chapter=[]\n",
    "    val_sub_chapter=[]\n",
    "    val_question = []\n",
    "    #val_features=[]\n",
    "    val_labels=[]\n",
    "    for i in range(len(users_val)):\n",
    "        user = val_data_space.__getitem__(i)\n",
    "        val_chapter.append(user[0])\n",
    "        val_sub_chapter.append(user[1]) \n",
    "        val_question.append(user[2])\n",
    "        #val_features.append(user[3])\n",
    "        val_labels.append(user[3])\n",
    "    val_chapter = np.array(val_chapter)\n",
    "    val_sub_chapter = np.array(val_sub_chapter)\n",
    "    #val_features = np.array(val_features)\n",
    "    val_question = np.array(val_question)\n",
    "    val_labels= np.array(val_labels)[..., np.newaxis]\n",
    "\n",
    "    # construct test input\n",
    "    test_chapter=[]\n",
    "    test_sub_chapter=[]\n",
    "    #test_features=[]\n",
    "    test_question=[]\n",
    "    test_labels=[]\n",
    "    for i in range(len(users_test)):\n",
    "        user = test_data_space.__getitem__(i)\n",
    "        test_chapter.append(user[0])\n",
    "        test_sub_chapter.append(user[1]) \n",
    "        test_question.append(user[2])\n",
    "        #test_features.append(user[3])\n",
    "        test_labels.append(user[3])\n",
    "    test_chapter = np.array(test_chapter)\n",
    "    test_sub_chapter = np.array(test_sub_chapter)\n",
    "    #test_features = np.array(test_features)\n",
    "    test_question = np.array(test_question)\n",
    "    test_labels= np.array(test_labels)[..., np.newaxis]\n",
    "\n",
    "    # define loss function and evaluation metrics\n",
    "    bce = tf.keras.losses.BinaryCrossentropy(from_logits=True)\n",
    "    acc = tf.keras.metrics.Accuracy()\n",
    "    auc = tf.keras.metrics.AUC()\n",
    "\n",
    "    def masked_bce(y_true, y_pred):\n",
    "      flat_pred = y_pred\n",
    "      flat_ground_truth = y_true\n",
    "      label_mask = tf.math.not_equal(flat_ground_truth, -1)\n",
    "      return bce(flat_ground_truth, flat_pred, sample_weight=label_mask)\n",
    "\n",
    "    def masked_acc(y_true, y_pred):\n",
    "      flat_pred = y_pred\n",
    "      flat_ground_truth = y_true\n",
    "      flat_pred = (flat_pred >= 0.5)\n",
    "      label_mask = tf.math.not_equal(flat_ground_truth, -1)\n",
    "      return acc(flat_ground_truth, flat_pred, sample_weight=label_mask)\n",
    "\n",
    "    def masked_auc(y_true, y_pred):\n",
    "      flat_pred = y_pred\n",
    "      flat_ground_truth = y_true\n",
    "      label_mask = tf.math.not_equal(flat_ground_truth, -1)\n",
    "      return auc(flat_ground_truth, flat_pred, sample_weight=label_mask)\n",
    "\n",
    "    # input layer\n",
    "    input_chap = tf.keras.Input(shape=(MAXLENGTH))\n",
    "    input_sub_chap = tf.keras.Input(shape=(MAXLENGTH))\n",
    "    input_ques =  tf.keras.Input(shape=(MAXLENGTH))\n",
    "    #input_features = tf.keras.Input(shape=(MAXLENGTH, FEATURES_SIZE))\n",
    "\n",
    "    # embedding layer for categorical features\n",
    "    embedding_chap = Embedding(input_dim = CHAPTER_SIZE, output_dim = EMBEDDING_DIM)(input_chap)\n",
    "    embedding_sub_chap = Embedding(input_dim = SUB_CHAPTER_SIZE, output_dim = EMBEDDING_DIM)(input_sub_chap) \n",
    "    embedding_ques = Embedding(input_dim = QUESTION_SIZE, output_dim = EMBEDDING_DIM)(input_ques)       \n",
    "\n",
    "    # dense layer for numeric features\n",
    "    #dense_features = Dense(EMBEDDING_DIM,input_shape = (None, MAXLENGTH))(input_features)\n",
    "\n",
    "    # definr lstm layers\n",
    "    rnn_chap = SimpleRNN(RNN_NEURON, input_shape = (None, EMBEDDING_DIM),return_sequences = True)(embedding_chap)\n",
    "    rnn_sub_chap = SimpleRNN(RNN_NEURON, input_shape = (None, EMBEDDING_DIM),return_sequences = True)(embedding_sub_chap)\n",
    "    rnn_ques = SimpleRNN(RNN_NEURON, input_shape = (None, EMBEDDING_DIM),return_sequences = True)(embedding_ques)\n",
    "    #rnn_features = RNN(RNN_NEURON, input_shape = (None, EMBEDDING_DIM),return_sequences = True)(dense_features)\n",
    "\n",
    "    rnn_output = tf.concat([rnn_chap, rnn_sub_chap, rnn_ques], axis = 2)\n",
    "\n",
    "    dense1 = Dense(256, input_shape = (None, 3*EMBEDDING_DIM), activation='relu')(rnn_output)\n",
    "    dropout1 = Dropout(0.1)(dense1)\n",
    "    dense2 = Dense(64, input_shape = (None, 256), activation='relu')(dropout1)\n",
    "    dropout2 = Dropout(0.1)(dense2)\n",
    "    pred = Dense(1, input_shape = (None, 64), activation='sigmoid')(dropout2)\n",
    "\n",
    "    model = tf.keras.Model(\n",
    "        inputs=[input_chap, input_sub_chap,input_ques],\n",
    "        outputs=pred,\n",
    "        name='lstm_model'\n",
    "    )\n",
    "\n",
    "    callback = tf.keras.callbacks.EarlyStopping(monitor='val_loss', patience=10)\n",
    "    opt_adam = Adam(learning_rate = 0.005)\n",
    "    model.compile(\n",
    "        optimizer=opt_adam,\n",
    "        loss= masked_bce,\n",
    "        metrics = [masked_acc, masked_auc]\n",
    "    )\n",
    "\n",
    "    history = model.fit(\n",
    "      [train_chapter, train_sub_chapter, train_question],\n",
    "      train_labels,\n",
    "      batch_size = 64,\n",
    "      epochs = 100,\n",
    "      validation_data=([val_chapter, val_sub_chapter, val_question], val_labels),\n",
    "      callbacks=[callback]\n",
    "    )\n",
    "    val_losses.append(list(history.history['val_loss']))\n",
    "    train_losses.append(list(history.history['loss']))\n",
    "    val_aucs.append(list(history.history['val_masked_auc']))\n",
    "    train_aucs.append(list(history.history['masked_auc']))\n",
    "    train_score = model.evaluate([train_chapter, train_sub_chapter, train_question], train_labels)\n",
    "    train_eval.append(train_score)\n",
    "    test_score = model.evaluate([test_chapter, test_sub_chapter, test_question], test_labels)\n",
    "    test_eval.append(test_score)\n",
    "    print(\"Test: \", test_score)\n",
    "    def reset_weights(model):\n",
    "      for layer in model.layers: \n",
    "        if isinstance(layer, tf.keras.Model):\n",
    "          reset_weights(layer)\n",
    "          continue\n",
    "        for k, initializer in layer.__dict__.items():\n",
    "          if \"initializer\" not in k:\n",
    "            continue\n",
    "          # find the corresponding variable\n",
    "          var = getattr(layer, k.replace(\"_initializer\", \"\"))\n",
    "          var.assign(initializer(var.shape, var.dtype))\n",
    "    reset_weights(model)"
   ]
  },
  {
   "cell_type": "code",
   "execution_count": 29,
   "metadata": {
    "execution": {
     "iopub.execute_input": "2021-07-26T22:56:51.052292Z",
     "iopub.status.busy": "2021-07-26T22:56:51.051946Z",
     "iopub.status.idle": "2021-07-26T22:56:51.061548Z",
     "shell.execute_reply": "2021-07-26T22:56:51.060350Z",
     "shell.execute_reply.started": "2021-07-26T22:56:51.052257Z"
    },
    "id": "QsVmumHMz3lx",
    "outputId": "4ff1e2fa-6abb-458e-c729-495b456f53e5"
   },
   "outputs": [
    {
     "name": "stdout",
     "output_type": "stream",
     "text": [
      "test avg loss:  0.4748044192790985 +/- 0.013165598579386201\n",
      "test avg acc:  0.7797054052352905 +/- 0.0030469761527376895\n",
      "test avg auc:  0.8293611168861389 +/- 0.002449247717982568\n"
     ]
    }
   ],
   "source": [
    "t_eval = np.array(test_eval)\n",
    "print(\"test avg loss: \", np.mean(t_eval[:, 0]), \"+/-\" ,np.std(t_eval[:, 0]))\n",
    "print(\"test avg acc: \", np.mean(t_eval[:, 1]),  \"+/-\" ,np.std(t_eval[:, 1]))\n",
    "print(\"test avg auc: \", np.mean(t_eval[:, 2]), \"+/-\" ,np.std(t_eval[:, 2]))"
   ]
  },
  {
   "cell_type": "code",
   "execution_count": 30,
   "metadata": {
    "execution": {
     "iopub.execute_input": "2021-07-26T22:56:51.064829Z",
     "iopub.status.busy": "2021-07-26T22:56:51.064534Z",
     "iopub.status.idle": "2021-07-26T22:56:51.076209Z",
     "shell.execute_reply": "2021-07-26T22:56:51.074978Z",
     "shell.execute_reply.started": "2021-07-26T22:56:51.064800Z"
    },
    "id": "b9MM_CXWz5K6",
    "outputId": "4cf88e1d-3a74-4e7d-f92c-d01522e91757"
   },
   "outputs": [
    {
     "name": "stdout",
     "output_type": "stream",
     "text": [
      "train avg loss:  0.3617575645446777 +/- 0.0028089597879316685\n",
      "train avg acc:  0.7790637016296387 +/- 0.0031453889824360893\n",
      "train avg auc:  0.8279137730598449 +/- 0.002566867276866784\n"
     ]
    }
   ],
   "source": [
    "t_eval = np.array(train_eval)\n",
    "print(\"train avg loss: \", np.mean(t_eval[:, 0]), \"+/-\" ,np.std(t_eval[:, 0]))\n",
    "print(\"train avg acc: \", np.mean(t_eval[:, 1]),  \"+/-\" ,np.std(t_eval[:, 1]))\n",
    "print(\"train avg auc: \", np.mean(t_eval[:, 2]), \"+/-\" ,np.std(t_eval[:, 2]))"
   ]
  }
 ],
 "metadata": {
  "kernelspec": {
   "display_name": "Python 3",
   "language": "python",
   "name": "python3"
  },
  "language_info": {
   "codemirror_mode": {
    "name": "ipython",
    "version": 3
   },
   "file_extension": ".py",
   "mimetype": "text/x-python",
   "name": "python",
   "nbconvert_exporter": "python",
   "pygments_lexer": "ipython3",
   "version": "3.8.5"
  }
 },
 "nbformat": 4,
 "nbformat_minor": 4
}
