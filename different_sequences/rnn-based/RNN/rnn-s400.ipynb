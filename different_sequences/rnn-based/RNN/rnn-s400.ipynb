{
 "cells": [
  {
   "cell_type": "code",
   "execution_count": 1,
   "metadata": {
    "execution": {
     "iopub.execute_input": "2021-07-26T23:03:57.376246Z",
     "iopub.status.busy": "2021-07-26T23:03:57.375831Z",
     "iopub.status.idle": "2021-07-26T23:03:59.492746Z",
     "shell.execute_reply": "2021-07-26T23:03:59.491728Z",
     "shell.execute_reply.started": "2021-07-26T23:03:57.376188Z"
    },
    "id": "farifxiKU1aB"
   },
   "outputs": [],
   "source": [
    "import numpy as np\n",
    "import pandas as pd\n",
    "import warnings\n",
    "import gc\n",
    "import tensorflow as tf\n",
    "from tensorflow import keras\n",
    "\n",
    "import random\n",
    "from random import choice\n",
    "from tensorflow.keras.optimizers import Adam\n",
    "from tensorflow.keras.models import Sequential \n",
    "from tensorflow.keras.layers import Dense, SimpleRNN, Concatenate, Embedding, Flatten, Activation, Dropout\n",
    "from sklearn.model_selection import KFold\n",
    "from tensorflow.python.client import device_lib\n",
    "warnings.filterwarnings('ignore')\n",
    "import random"
   ]
  },
  {
   "cell_type": "code",
   "execution_count": 2,
   "metadata": {
    "execution": {
     "iopub.execute_input": "2021-07-26T23:03:59.497674Z",
     "iopub.status.busy": "2021-07-26T23:03:59.497304Z",
     "iopub.status.idle": "2021-07-26T23:03:59.502164Z",
     "shell.execute_reply": "2021-07-26T23:03:59.501281Z",
     "shell.execute_reply.started": "2021-07-26T23:03:59.497642Z"
    },
    "id": "QOson70GPOXb"
   },
   "outputs": [],
   "source": [
    "import gc"
   ]
  },
  {
   "cell_type": "markdown",
   "metadata": {
    "id": "BQsVybBH3VPw"
   },
   "source": [
    "## Data Preprocessing"
   ]
  },
  {
   "cell_type": "code",
   "execution_count": 3,
   "metadata": {
    "execution": {
     "iopub.execute_input": "2021-07-26T23:03:59.504152Z",
     "iopub.status.busy": "2021-07-26T23:03:59.503832Z",
     "iopub.status.idle": "2021-07-26T23:04:03.911036Z",
     "shell.execute_reply": "2021-07-26T23:04:03.909863Z",
     "shell.execute_reply.started": "2021-07-26T23:03:59.504122Z"
    },
    "id": "rwtTusGxrmAE",
    "outputId": "1430f3cf-038b-485e-b5c4-c1686b1f34fd"
   },
   "outputs": [
    {
     "data": {
      "text/html": [
       "<div>\n",
       "<style scoped>\n",
       "    .dataframe tbody tr th:only-of-type {\n",
       "        vertical-align: middle;\n",
       "    }\n",
       "\n",
       "    .dataframe tbody tr th {\n",
       "        vertical-align: top;\n",
       "    }\n",
       "\n",
       "    .dataframe thead th {\n",
       "        text-align: right;\n",
       "    }\n",
       "</style>\n",
       "<table border=\"1\" class=\"dataframe\">\n",
       "  <thead>\n",
       "    <tr style=\"text-align: right;\">\n",
       "      <th></th>\n",
       "      <th>Unnamed: 0</th>\n",
       "      <th>chapter_label</th>\n",
       "      <th>sub_chapter_label</th>\n",
       "      <th>question_name</th>\n",
       "      <th>user_id.x</th>\n",
       "      <th>term</th>\n",
       "      <th>STDNT_SEX_CD</th>\n",
       "      <th>NonNativeEnglish</th>\n",
       "      <th>White</th>\n",
       "      <th>Asian</th>\n",
       "      <th>...</th>\n",
       "      <th>classGraded</th>\n",
       "      <th>classHonors</th>\n",
       "      <th>Pass_Fail</th>\n",
       "      <th>parentsGraduateEdu</th>\n",
       "      <th>minorityGroup</th>\n",
       "      <th>q</th>\n",
       "      <th>day's_available_flashcards</th>\n",
       "      <th>start_practice</th>\n",
       "      <th>end_practice</th>\n",
       "      <th>days_offset</th>\n",
       "    </tr>\n",
       "  </thead>\n",
       "  <tbody>\n",
       "    <tr>\n",
       "      <th>0</th>\n",
       "      <td>1</td>\n",
       "      <td>Sort</td>\n",
       "      <td>intro-SortingwithSortandSorted</td>\n",
       "      <td>ee_sort_04</td>\n",
       "      <td>148</td>\n",
       "      <td>WN 2018</td>\n",
       "      <td>1</td>\n",
       "      <td>0</td>\n",
       "      <td>1</td>\n",
       "      <td>0</td>\n",
       "      <td>...</td>\n",
       "      <td>1</td>\n",
       "      <td>0</td>\n",
       "      <td>0</td>\n",
       "      <td>0</td>\n",
       "      <td>0</td>\n",
       "      <td>0</td>\n",
       "      <td>18</td>\n",
       "      <td>2018-03-04 20:00:19</td>\n",
       "      <td>2018-03-04 20:00:35</td>\n",
       "      <td>45</td>\n",
       "    </tr>\n",
       "    <tr>\n",
       "      <th>1</th>\n",
       "      <td>2</td>\n",
       "      <td>Functions</td>\n",
       "      <td>Returningavaluefromafunction</td>\n",
       "      <td>test_questionfunctions_2_3</td>\n",
       "      <td>148</td>\n",
       "      <td>WN 2018</td>\n",
       "      <td>1</td>\n",
       "      <td>0</td>\n",
       "      <td>1</td>\n",
       "      <td>0</td>\n",
       "      <td>...</td>\n",
       "      <td>1</td>\n",
       "      <td>0</td>\n",
       "      <td>0</td>\n",
       "      <td>0</td>\n",
       "      <td>0</td>\n",
       "      <td>4</td>\n",
       "      <td>16</td>\n",
       "      <td>2018-02-10 11:57:55</td>\n",
       "      <td>2018-02-10 11:58:35</td>\n",
       "      <td>23</td>\n",
       "    </tr>\n",
       "    <tr>\n",
       "      <th>2</th>\n",
       "      <td>3</td>\n",
       "      <td>RESTAPIs</td>\n",
       "      <td>functionswithrestapis</td>\n",
       "      <td>test_question_functions_rest_apis_1</td>\n",
       "      <td>148</td>\n",
       "      <td>WN 2018</td>\n",
       "      <td>1</td>\n",
       "      <td>0</td>\n",
       "      <td>1</td>\n",
       "      <td>0</td>\n",
       "      <td>...</td>\n",
       "      <td>1</td>\n",
       "      <td>0</td>\n",
       "      <td>0</td>\n",
       "      <td>0</td>\n",
       "      <td>0</td>\n",
       "      <td>1</td>\n",
       "      <td>2</td>\n",
       "      <td>2018-03-12 17:03:07</td>\n",
       "      <td>2018-03-12 17:04:28</td>\n",
       "      <td>53</td>\n",
       "    </tr>\n",
       "    <tr>\n",
       "      <th>3</th>\n",
       "      <td>4</td>\n",
       "      <td>SimplePythonData</td>\n",
       "      <td>FunctionCalls</td>\n",
       "      <td>exercise_functionCalls_1</td>\n",
       "      <td>148</td>\n",
       "      <td>WN 2018</td>\n",
       "      <td>1</td>\n",
       "      <td>0</td>\n",
       "      <td>1</td>\n",
       "      <td>0</td>\n",
       "      <td>...</td>\n",
       "      <td>1</td>\n",
       "      <td>0</td>\n",
       "      <td>0</td>\n",
       "      <td>0</td>\n",
       "      <td>0</td>\n",
       "      <td>0</td>\n",
       "      <td>10</td>\n",
       "      <td>2018-01-30 14:15:49</td>\n",
       "      <td>2018-01-30 14:15:58</td>\n",
       "      <td>12</td>\n",
       "    </tr>\n",
       "    <tr>\n",
       "      <th>4</th>\n",
       "      <td>5</td>\n",
       "      <td>DictionaryAccumulation</td>\n",
       "      <td>AccumulatingaMaximumValue</td>\n",
       "      <td>ps_04_07</td>\n",
       "      <td>148</td>\n",
       "      <td>WN 2018</td>\n",
       "      <td>1</td>\n",
       "      <td>0</td>\n",
       "      <td>1</td>\n",
       "      <td>0</td>\n",
       "      <td>...</td>\n",
       "      <td>1</td>\n",
       "      <td>0</td>\n",
       "      <td>0</td>\n",
       "      <td>0</td>\n",
       "      <td>0</td>\n",
       "      <td>0</td>\n",
       "      <td>23</td>\n",
       "      <td>2018-03-03 14:04:17</td>\n",
       "      <td>2018-03-03 14:04:25</td>\n",
       "      <td>44</td>\n",
       "    </tr>\n",
       "  </tbody>\n",
       "</table>\n",
       "<p>5 rows × 48 columns</p>\n",
       "</div>"
      ],
      "text/plain": [
       "   Unnamed: 0           chapter_label               sub_chapter_label  \\\n",
       "0           1                    Sort  intro-SortingwithSortandSorted   \n",
       "1           2               Functions    Returningavaluefromafunction   \n",
       "2           3                RESTAPIs           functionswithrestapis   \n",
       "3           4        SimplePythonData                   FunctionCalls   \n",
       "4           5  DictionaryAccumulation       AccumulatingaMaximumValue   \n",
       "\n",
       "                         question_name  user_id.x     term  STDNT_SEX_CD  \\\n",
       "0                           ee_sort_04        148  WN 2018             1   \n",
       "1           test_questionfunctions_2_3        148  WN 2018             1   \n",
       "2  test_question_functions_rest_apis_1        148  WN 2018             1   \n",
       "3             exercise_functionCalls_1        148  WN 2018             1   \n",
       "4                             ps_04_07        148  WN 2018             1   \n",
       "\n",
       "   NonNativeEnglish  White  Asian  ...  classGraded  classHonors  Pass_Fail  \\\n",
       "0                 0      1      0  ...            1            0          0   \n",
       "1                 0      1      0  ...            1            0          0   \n",
       "2                 0      1      0  ...            1            0          0   \n",
       "3                 0      1      0  ...            1            0          0   \n",
       "4                 0      1      0  ...            1            0          0   \n",
       "\n",
       "   parentsGraduateEdu  minorityGroup  q  day's_available_flashcards  \\\n",
       "0                   0              0  0                          18   \n",
       "1                   0              0  4                          16   \n",
       "2                   0              0  1                           2   \n",
       "3                   0              0  0                          10   \n",
       "4                   0              0  0                          23   \n",
       "\n",
       "        start_practice         end_practice  days_offset  \n",
       "0  2018-03-04 20:00:19  2018-03-04 20:00:35           45  \n",
       "1  2018-02-10 11:57:55  2018-02-10 11:58:35           23  \n",
       "2  2018-03-12 17:03:07  2018-03-12 17:04:28           53  \n",
       "3  2018-01-30 14:15:49  2018-01-30 14:15:58           12  \n",
       "4  2018-03-03 14:04:17  2018-03-03 14:04:25           44  \n",
       "\n",
       "[5 rows x 48 columns]"
      ]
     },
     "execution_count": 3,
     "metadata": {},
     "output_type": "execute_result"
    }
   ],
   "source": [
    "# load the data\n",
    "import pandas as pd\n",
    "dataframe = pd.read_csv('../input/practice-log-demographics/Practice_Log_Demographics (1).csv', low_memory=False)\n",
    "dataframe.head()"
   ]
  },
  {
   "cell_type": "code",
   "execution_count": 4,
   "metadata": {
    "execution": {
     "iopub.execute_input": "2021-07-26T23:04:03.913085Z",
     "iopub.status.busy": "2021-07-26T23:04:03.912630Z",
     "iopub.status.idle": "2021-07-26T23:04:04.967339Z",
     "shell.execute_reply": "2021-07-26T23:04:04.966329Z",
     "shell.execute_reply.started": "2021-07-26T23:04:03.913033Z"
    },
    "id": "OCbHnEp_Vir0"
   },
   "outputs": [],
   "source": [
    "#sort data based on timestamp\n",
    "dataframe = dataframe.sort_values(by=['start_practice'])"
   ]
  },
  {
   "cell_type": "code",
   "execution_count": 5,
   "metadata": {
    "execution": {
     "iopub.execute_input": "2021-07-26T23:04:04.968949Z",
     "iopub.status.busy": "2021-07-26T23:04:04.968671Z",
     "iopub.status.idle": "2021-07-26T23:04:04.975336Z",
     "shell.execute_reply": "2021-07-26T23:04:04.974179Z",
     "shell.execute_reply.started": "2021-07-26T23:04:04.968920Z"
    },
    "id": "0RvF7BvEr98o"
   },
   "outputs": [],
   "source": [
    "FEATURES = ['chapter_label', 'sub_chapter_label','question_name','user_id','term',\n",
    "            'STDNT_SEX_CD', \n",
    "            'NonNativeEnglish',\n",
    "            'White',\n",
    "            'Asian',\n",
    "            'WhiteOrAsian',\n",
    "            'Hispanic',\n",
    "            'AfricanAmerican',\n",
    "            'OtherEthnicities',\n",
    "            'NonWhiteOrAsian',\n",
    "            'STDNT_CTZN_STAT_CD', 'international', \n",
    "            'gradingType',\n",
    "            'birthYear',\n",
    "            'exclClassCumGPA',\n",
    "            'Freshman',\n",
    "            'Junior',\n",
    "            'Sophomore',\n",
    "            'Senior',\n",
    "            'termCreditsGPA',\n",
    "            'termCreditsNoGPA',\n",
    "            'athlete_1',\n",
    "            'honorsPro',\n",
    "            'LSA', 'programBusiness', 'programEngineering', \n",
    "            'programInformation', 'programOther',\n",
    "            'HSCalculusTaken', \n",
    "            'highSchoolGPA', \n",
    "            'majorsCount', 'minorsCount',\n",
    "            'PREV_TERM_CUM_GPA',\n",
    "            'classGraded', 'classHonors', \n",
    "            'Pass_Fail', \n",
    "            'parentsGraduateEdu',  'minorityGroup', \n",
    "            'q',\n",
    "            'available_flashcards', \n",
    "            'start_practice', \n",
    "            'end_practice',\n",
    "            'days_offset']"
   ]
  },
  {
   "cell_type": "code",
   "execution_count": 6,
   "metadata": {
    "execution": {
     "iopub.execute_input": "2021-07-26T23:04:04.976899Z",
     "iopub.status.busy": "2021-07-26T23:04:04.976604Z",
     "iopub.status.idle": "2021-07-26T23:04:05.521752Z",
     "shell.execute_reply": "2021-07-26T23:04:05.520878Z",
     "shell.execute_reply.started": "2021-07-26T23:04:04.976872Z"
    },
    "id": "Mn341X7lSztl"
   },
   "outputs": [],
   "source": [
    "dataframe['available_flashcards'] = dataframe[\"day's_available_flashcards\"][:]\n",
    "dataframe = dataframe.drop([\"day's_available_flashcards\"], axis=1)\n",
    "dataframe['user_id'] = dataframe[\"user_id.x\"][:]\n",
    "dataframe = dataframe.drop([\"user_id.x\"], axis=1)"
   ]
  },
  {
   "cell_type": "code",
   "execution_count": 7,
   "metadata": {
    "execution": {
     "iopub.execute_input": "2021-07-26T23:04:05.523221Z",
     "iopub.status.busy": "2021-07-26T23:04:05.522934Z",
     "iopub.status.idle": "2021-07-26T23:04:05.699466Z",
     "shell.execute_reply": "2021-07-26T23:04:05.698322Z",
     "shell.execute_reply.started": "2021-07-26T23:04:05.523194Z"
    },
    "id": "-_BRggOjbBjN",
    "outputId": "42bff7db-08dd-48dc-a73a-d048508053b7"
   },
   "outputs": [
    {
     "data": {
      "text/plain": [
       "66"
      ]
     },
     "execution_count": 7,
     "metadata": {},
     "output_type": "execute_result"
    }
   ],
   "source": [
    "gc.collect()"
   ]
  },
  {
   "cell_type": "code",
   "execution_count": 8,
   "metadata": {
    "execution": {
     "iopub.execute_input": "2021-07-26T23:04:05.703634Z",
     "iopub.status.busy": "2021-07-26T23:04:05.703161Z",
     "iopub.status.idle": "2021-07-26T23:04:06.016573Z",
     "shell.execute_reply": "2021-07-26T23:04:06.015488Z",
     "shell.execute_reply.started": "2021-07-26T23:04:05.703582Z"
    },
    "id": "lXM7MlonVeRL",
    "outputId": "d29ccec0-522f-4e3c-e0b2-39b2e1eaef74"
   },
   "outputs": [
    {
     "data": {
      "text/plain": [
       "22"
      ]
     },
     "execution_count": 8,
     "metadata": {},
     "output_type": "execute_result"
    }
   ],
   "source": [
    "dataframe = dataframe[FEATURES]\n",
    "gc.collect()"
   ]
  },
  {
   "cell_type": "code",
   "execution_count": 9,
   "metadata": {
    "execution": {
     "iopub.execute_input": "2021-07-26T23:04:06.019453Z",
     "iopub.status.busy": "2021-07-26T23:04:06.019002Z",
     "iopub.status.idle": "2021-07-26T23:04:07.133362Z",
     "shell.execute_reply": "2021-07-26T23:04:07.132366Z",
     "shell.execute_reply.started": "2021-07-26T23:04:06.019406Z"
    },
    "id": "qRKqF_0IXZgj"
   },
   "outputs": [],
   "source": [
    "#label encode term, chapter_label, question_name, sub_chapter_label columns\n",
    "dataframe['term'] = dataframe['term'].astype('category')\n",
    "dataframe['user_id'] = dataframe['user_id'].astype(int)\n",
    "dataframe['user_id'] = dataframe['user_id'].astype(str)\n",
    "dataframe['user_id'] = dataframe['term'].str.cat(dataframe['user_id'], sep=':')\n",
    "dataframe['user_id'] = dataframe['user_id'].astype('category')\n",
    "dataframe['chapter_label'] = dataframe['chapter_label'].astype('category')\n",
    "dataframe['sub_chapter_label'] = dataframe['sub_chapter_label'].astype('category')\n",
    "dataframe['question_name'] = dataframe['question_name'].astype('category')\n"
   ]
  },
  {
   "cell_type": "code",
   "execution_count": 10,
   "metadata": {
    "execution": {
     "iopub.execute_input": "2021-07-26T23:04:07.135044Z",
     "iopub.status.busy": "2021-07-26T23:04:07.134622Z",
     "iopub.status.idle": "2021-07-26T23:04:07.530723Z",
     "shell.execute_reply": "2021-07-26T23:04:07.529715Z",
     "shell.execute_reply.started": "2021-07-26T23:04:07.134985Z"
    },
    "id": "eVl_067GWkDe"
   },
   "outputs": [],
   "source": [
    "#calculate time_lag and prev_time_elapsed\n",
    "dataframe['prev_time_elapsed'] = None\n",
    "dataframe['time_lag'] = None\n",
    "dataframe['time_lag'] = dataframe['time_lag'].astype(np.float)\n",
    "dataframe['prev_time_elapsed'] = dataframe['prev_time_elapsed'].astype(np.float)\n",
    "dataframe.start_practice = pd.to_datetime(dataframe.start_practice, format='%Y-%m-%d %H:%M:%S')\n",
    "dataframe.end_practice = pd.to_datetime(dataframe.end_practice, format='%Y-%m-%d %H:%M:%S')"
   ]
  },
  {
   "cell_type": "code",
   "execution_count": 11,
   "metadata": {
    "execution": {
     "iopub.execute_input": "2021-07-26T23:04:07.532196Z",
     "iopub.status.busy": "2021-07-26T23:04:07.531893Z",
     "iopub.status.idle": "2021-07-26T23:04:07.562528Z",
     "shell.execute_reply": "2021-07-26T23:04:07.561493Z",
     "shell.execute_reply.started": "2021-07-26T23:04:07.532166Z"
    }
   },
   "outputs": [],
   "source": [
    "dataframe['dif'] = dataframe.end_practice - dataframe.start_practice\n",
    "dataframe['dif'] = dataframe['dif'] /np.timedelta64(1, 's')\n",
    "dataframe['answer_correct'] = np.where((dataframe['q']==5) & (dataframe['dif'] <= 60), 1, 0)"
   ]
  },
  {
   "cell_type": "code",
   "execution_count": 13,
   "metadata": {
    "execution": {
     "iopub.execute_input": "2021-07-26T23:04:23.171254Z",
     "iopub.status.busy": "2021-07-26T23:04:23.170803Z",
     "iopub.status.idle": "2021-07-26T23:04:23.247562Z",
     "shell.execute_reply": "2021-07-26T23:04:23.246616Z",
     "shell.execute_reply.started": "2021-07-26T23:04:23.171210Z"
    },
    "id": "8t8yZ0XvWwzz"
   },
   "outputs": [],
   "source": [
    "#drop column end_practice\n",
    "dataframe.drop(columns=['end_practice'], inplace=True)"
   ]
  },
  {
   "cell_type": "code",
   "execution_count": 14,
   "metadata": {
    "execution": {
     "iopub.execute_input": "2021-07-26T23:04:23.249657Z",
     "iopub.status.busy": "2021-07-26T23:04:23.249250Z",
     "iopub.status.idle": "2021-07-26T23:04:23.555056Z",
     "shell.execute_reply": "2021-07-26T23:04:23.554141Z",
     "shell.execute_reply.started": "2021-07-26T23:04:23.249609Z"
    },
    "id": "E42raRIrYYXz"
   },
   "outputs": [],
   "source": [
    "# calculate the age feature\n",
    "dataframe['term_value'] = [int(ele[3:]) for ele in dataframe['term']]\n",
    "dataframe['age'] = dataframe['term_value'] - dataframe['birthYear']"
   ]
  },
  {
   "cell_type": "code",
   "execution_count": 15,
   "metadata": {
    "execution": {
     "iopub.execute_input": "2021-07-26T23:04:23.556561Z",
     "iopub.status.busy": "2021-07-26T23:04:23.556287Z",
     "iopub.status.idle": "2021-07-26T23:04:23.761503Z",
     "shell.execute_reply": "2021-07-26T23:04:23.760510Z",
     "shell.execute_reply.started": "2021-07-26T23:04:23.556535Z"
    },
    "id": "pcMVQXueYnMh"
   },
   "outputs": [],
   "source": [
    "# drop term_value and birthYear column\n",
    "dataframe.drop(columns=['term_value', 'birthYear'], inplace=True)"
   ]
  },
  {
   "cell_type": "code",
   "execution_count": 16,
   "metadata": {
    "execution": {
     "iopub.execute_input": "2021-07-26T23:04:23.763064Z",
     "iopub.status.busy": "2021-07-26T23:04:23.762764Z",
     "iopub.status.idle": "2021-07-26T23:04:24.042427Z",
     "shell.execute_reply": "2021-07-26T23:04:24.041545Z",
     "shell.execute_reply.started": "2021-07-26T23:04:23.763025Z"
    },
    "id": "hjRF5szkcQE0"
   },
   "outputs": [],
   "source": [
    "# convert minors_count to int value\n",
    "new_minors_count = []\n",
    "for i in dataframe['minorsCount']:\n",
    "  if i == 0 or i == '0':\n",
    "    new_minors_count.append(0)\n",
    "  elif i == '1 Minor':\n",
    "    new_minors_count.append(1)\n",
    "  else:\n",
    "    new_minors_count.append(2)\n",
    "\n",
    "dataframe['minorsCount'] = new_minors_count"
   ]
  },
  {
   "cell_type": "code",
   "execution_count": 17,
   "metadata": {
    "execution": {
     "iopub.execute_input": "2021-07-26T23:04:24.043904Z",
     "iopub.status.busy": "2021-07-26T23:04:24.043471Z",
     "iopub.status.idle": "2021-07-26T23:04:24.058461Z",
     "shell.execute_reply": "2021-07-26T23:04:24.057503Z",
     "shell.execute_reply.started": "2021-07-26T23:04:24.043874Z"
    },
    "id": "9VdzvJSw0KUU",
    "outputId": "6393784f-234e-4935-9cee-cbcf56b5630a"
   },
   "outputs": [
    {
     "name": "stdout",
     "output_type": "stream",
     "text": [
      "we have  1110  users in total.\n"
     ]
    }
   ],
   "source": [
    "print(\"we have \", dataframe['user_id'].nunique(),\" users in total.\")"
   ]
  },
  {
   "cell_type": "code",
   "execution_count": 18,
   "metadata": {
    "execution": {
     "iopub.execute_input": "2021-07-26T23:04:24.059877Z",
     "iopub.status.busy": "2021-07-26T23:04:24.059467Z",
     "iopub.status.idle": "2021-07-26T23:04:24.067994Z",
     "shell.execute_reply": "2021-07-26T23:04:24.067243Z",
     "shell.execute_reply.started": "2021-07-26T23:04:24.059844Z"
    },
    "id": "hUaGk9L9g13t"
   },
   "outputs": [],
   "source": [
    "for category in ['term','chapter_label', 'sub_chapter_label', 'question_name']:\n",
    "  dataframe[category] =  dataframe[category].cat.codes"
   ]
  },
  {
   "cell_type": "code",
   "execution_count": 19,
   "metadata": {
    "execution": {
     "iopub.execute_input": "2021-07-26T23:04:24.069446Z",
     "iopub.status.busy": "2021-07-26T23:04:24.069040Z",
     "iopub.status.idle": "2021-07-26T23:04:24.368939Z",
     "shell.execute_reply": "2021-07-26T23:04:24.367960Z",
     "shell.execute_reply.started": "2021-07-26T23:04:24.069405Z"
    },
    "id": "hkyvcYvlhliG"
   },
   "outputs": [],
   "source": [
    "NUMERIC_FEATURE =  ['age',\n",
    "            'exclClassCumGPA',\n",
    "            'termCreditsGPA',\n",
    "            'termCreditsNoGPA',\n",
    "            'highSchoolGPA', \n",
    "            'majorsCount', 'minorsCount',\n",
    "            'PREV_TERM_CUM_GPA',\n",
    "            'available_flashcards', \n",
    "            'days_offset', \n",
    "            'prev_time_elapsed',\n",
    "             'time_lag']\n",
    "# z-score normalize the numerical features\n",
    "for f in NUMERIC_FEATURE:\n",
    "  m = dataframe[f].mean()\n",
    "  std = dataframe[f].std()\n",
    "  dataframe[f] = (dataframe[f] - m)/std"
   ]
  },
  {
   "cell_type": "code",
   "execution_count": 20,
   "metadata": {
    "execution": {
     "iopub.execute_input": "2021-07-26T23:04:24.370368Z",
     "iopub.status.busy": "2021-07-26T23:04:24.370109Z",
     "iopub.status.idle": "2021-07-26T23:04:27.470392Z",
     "shell.execute_reply": "2021-07-26T23:04:27.469313Z",
     "shell.execute_reply.started": "2021-07-26T23:04:24.370341Z"
    },
    "id": "wo2OH-d5kWp1"
   },
   "outputs": [],
   "source": [
    "FEATURE_TRANS =  ['answer_correct', 'chapter_label', 'sub_chapter_label','question_name','user_id','term',\n",
    "                  'STDNT_SEX_CD', \n",
    "                    'White','Asian','NonWhiteOrAsian',\n",
    "            'STDNT_CTZN_STAT_CD', 'international', \n",
    "            'age',\n",
    "            'exclClassCumGPA',\n",
    "           'Freshman',\n",
    "            'Junior',\n",
    "            'Sophomore',\n",
    "            'Senior',\n",
    "            'termCreditsGPA',\n",
    "            'termCreditsNoGPA',\n",
    "            'athlete_1',\n",
    "            'honorsPro',\n",
    "            'LSA', 'programBusiness', 'programEngineering', \n",
    "            'programInformation', 'programOther',\n",
    "            'HSCalculusTaken', \n",
    "            'highSchoolGPA', \n",
    "            'majorsCount', 'minorsCount',\n",
    "            'PREV_TERM_CUM_GPA',\n",
    "            'classGraded', 'classHonors', \n",
    "            'Pass_Fail', \n",
    "            'parentsGraduateEdu',  'minorityGroup', \n",
    "            'available_flashcards', \n",
    "            'days_offset', 'prev_time_elapsed',\n",
    "             'time_lag']\n",
    "grouped_data = dataframe[FEATURE_TRANS].groupby(['user_id']).apply(lambda r: (\n",
    "                r['answer_correct'],\n",
    "                r['term'],\n",
    "                r['chapter_label'],\n",
    "                r['sub_chapter_label'],\n",
    "                r['question_name'],\n",
    "                np.array([r['STDNT_SEX_CD'],r['STDNT_CTZN_STAT_CD'], r['international'], \n",
    "                  r['White'],r['Asian'],r['NonWhiteOrAsian'],\n",
    "                 r['age'],r['exclClassCumGPA'],\n",
    "                r['Freshman'], r['Junior'], r['Sophomore'], r['Senior'],\n",
    "                r['termCreditsGPA'], r['termCreditsNoGPA'],\n",
    "                r['athlete_1'], r['honorsPro'],\n",
    "                r['LSA'], r['programBusiness'], r['programEngineering'], \n",
    "                r['programInformation'], r['programOther'],\n",
    "                r['HSCalculusTaken'],  r['highSchoolGPA'], \n",
    "                r['majorsCount'], r['minorsCount'],\n",
    "                r['PREV_TERM_CUM_GPA'], \n",
    "                r['parentsGraduateEdu'], r['minorityGroup'],\n",
    "                r['available_flashcards'],\n",
    "                r['days_offset'],\n",
    "                r['prev_time_elapsed'],\n",
    "                r['time_lag']\n",
    "              ]).transpose()\n",
    "                ))"
   ]
  },
  {
   "cell_type": "code",
   "execution_count": 21,
   "metadata": {
    "execution": {
     "iopub.execute_input": "2021-07-26T23:04:27.472118Z",
     "iopub.status.busy": "2021-07-26T23:04:27.471759Z",
     "iopub.status.idle": "2021-07-26T23:04:27.670820Z",
     "shell.execute_reply": "2021-07-26T23:04:27.670067Z",
     "shell.execute_reply.started": "2021-07-26T23:04:27.472084Z"
    },
    "id": "XXLqQnjrlp_4",
    "outputId": "c801da79-f0bf-4fe5-b19c-7c799fe01556"
   },
   "outputs": [
    {
     "data": {
      "text/plain": [
       "22"
      ]
     },
     "execution_count": 21,
     "metadata": {},
     "output_type": "execute_result"
    }
   ],
   "source": [
    "gc.collect()"
   ]
  },
  {
   "cell_type": "code",
   "execution_count": 22,
   "metadata": {
    "execution": {
     "iopub.execute_input": "2021-07-26T23:04:27.672268Z",
     "iopub.status.busy": "2021-07-26T23:04:27.671837Z",
     "iopub.status.idle": "2021-07-26T23:04:27.708250Z",
     "shell.execute_reply": "2021-07-26T23:04:27.707460Z",
     "shell.execute_reply.started": "2021-07-26T23:04:27.672232Z"
    },
    "id": "QYGQasdTrmP0"
   },
   "outputs": [],
   "source": [
    "# remove students who don't have make any interactions with the tool\n",
    "toRemove = []\n",
    "for index in grouped_data.index:\n",
    "  if len(grouped_data[index][0]) <= 10:\n",
    "    toRemove.append(index)\n",
    "grouped_data = grouped_data.drop(index=toRemove)"
   ]
  },
  {
   "cell_type": "code",
   "execution_count": 23,
   "metadata": {
    "execution": {
     "iopub.execute_input": "2021-07-26T23:04:27.709633Z",
     "iopub.status.busy": "2021-07-26T23:04:27.709239Z",
     "iopub.status.idle": "2021-07-26T23:04:27.712668Z",
     "shell.execute_reply": "2021-07-26T23:04:27.712003Z",
     "shell.execute_reply.started": "2021-07-26T23:04:27.709604Z"
    },
    "id": "9kZqV9siDyNb"
   },
   "outputs": [],
   "source": [
    "#SETTINGS -> can be modified at any time\n",
    "MAXLENGTH = 400\n",
    "EMBEDDING_DIM = 128\n",
    "DENSE_NEURON = 16\n",
    "RNN_NEURON = 32"
   ]
  },
  {
   "cell_type": "code",
   "execution_count": 24,
   "metadata": {
    "execution": {
     "iopub.execute_input": "2021-07-26T23:04:27.713950Z",
     "iopub.status.busy": "2021-07-26T23:04:27.713585Z",
     "iopub.status.idle": "2021-07-26T23:04:27.724972Z",
     "shell.execute_reply": "2021-07-26T23:04:27.724210Z",
     "shell.execute_reply.started": "2021-07-26T23:04:27.713922Z"
    },
    "id": "1MksD1JizpPn"
   },
   "outputs": [],
   "source": [
    "#FEATURES_SIZE = 38\n",
    "CHAPTER_SIZE = 38\n",
    "SUB_CHAPTER_SIZE = 223\n",
    "QUESTION_SIZE = 1069"
   ]
  },
  {
   "cell_type": "code",
   "execution_count": 25,
   "metadata": {
    "execution": {
     "iopub.execute_input": "2021-07-26T23:04:27.726591Z",
     "iopub.status.busy": "2021-07-26T23:04:27.726134Z",
     "iopub.status.idle": "2021-07-26T23:04:27.745738Z",
     "shell.execute_reply": "2021-07-26T23:04:27.744699Z",
     "shell.execute_reply.started": "2021-07-26T23:04:27.726560Z"
    }
   },
   "outputs": [
    {
     "data": {
      "text/plain": [
       "array([ 96,  86,  88,  28,  12,  82, 125,  32,  69,  33,  21, 115, 120,\n",
       "       119,  91,  73,  57,  77, 117,  40,  74,  41,  68,  39,  92,  47,\n",
       "       104,  95,  53,  49,  50,  16,  52,  55,   7,  15,  51, 102, 103,\n",
       "        11,  94, 108, 100,  17,  67,  63,  13, 139,  26,  25,   8, 107,\n",
       "         0,  90,  48,  54, 138,   1,   2,   3,  34,  35,  85,   5,  24,\n",
       "        37,  36,  78,  70,  45, 142,  71,  10,  89, 111, 112, 109, 116,\n",
       "        76,  72, 148, 134, 146, 221, 143,  56,  60,  61,  23, 140, 106,\n",
       "        42,  83,  22, 145, 136, 144,  38,   4,  19, 137,  75,  43,  98,\n",
       "        84, 113, 173, 174, 175, 176, 177, 178, 180, 181, 182, 187, 189,\n",
       "       190, 191, 192, 193, 195, 197, 151, 152, 153, 156, 157, 158, 159,\n",
       "       160, 161, 163, 164, 165, 166, 167, 168, 169, 170, 171, 172, 198,\n",
       "       199, 200, 201, 202, 203, 204, 205, 206, 207, 208, 209, 210, 162,\n",
       "       179, 186, 188, 194, 183, 184, 185, 211, 212, 213, 154, 155, 196,\n",
       "         6, 118,  18, 215,  46, 216, 141,  27, 217, 105, 123, 218, 101,\n",
       "       124, 219, 122, 220,  58,  59,  64,  20,  93,  65,  66,   9,  44,\n",
       "        30,  14,  79, 121,  31, 110, 129,  87,  97,  62, 149, 132, 131,\n",
       "       150, 130, 128,  99, 147, 127, 214, 135,  80, 126, 133,  81, 114,\n",
       "        29], dtype=int16)"
      ]
     },
     "execution_count": 25,
     "metadata": {},
     "output_type": "execute_result"
    }
   ],
   "source": [
    "dataframe['sub_chapter_label'].unique()"
   ]
  },
  {
   "cell_type": "code",
   "execution_count": 26,
   "metadata": {
    "execution": {
     "iopub.execute_input": "2021-07-26T23:04:27.749457Z",
     "iopub.status.busy": "2021-07-26T23:04:27.749157Z",
     "iopub.status.idle": "2021-07-26T23:04:28.083077Z",
     "shell.execute_reply": "2021-07-26T23:04:28.082125Z",
     "shell.execute_reply.started": "2021-07-26T23:04:27.749428Z"
    },
    "id": "mY3Thp6d0NaT"
   },
   "outputs": [],
   "source": [
    "#create dataset class\n",
    "#to prepare it for train, valid, and test sets\n",
    "from torch.utils.data import Dataset, DataLoader\n",
    "class SPACE_DATASET(Dataset):\n",
    "    def __init__(self, data, maxlength = 400):\n",
    "        super(SPACE_DATASET, self).__init__()\n",
    "        self.maxlength = maxlength\n",
    "        self.data = data\n",
    "        self.users = list()\n",
    "        for user in data.index:\n",
    "            self.users.append(user)\n",
    "\n",
    "    def __len__(self):\n",
    "        return len(self.users)\n",
    "    \n",
    "    def __getitem__(self, ix):\n",
    "        user = self.users[ix]\n",
    "        user = user\n",
    "        target, term, ch_label, sub_ch_label, ques_name, features = self.data[user]\n",
    "        \n",
    "        #0s should be used as padding values\n",
    "        ori_target = target.values \n",
    "        term = term.values\n",
    "        ch_label = ch_label.values + 1\n",
    "        sub_ch_label = sub_ch_label.values +1\n",
    "        ques_name = ques_name.values + 1\n",
    "        \n",
    "        n = len(ch_label)\n",
    "\n",
    "        # one hot for term\n",
    "        term_encode = [0]*7\n",
    "        term_encode[term[0]] = 1\n",
    "        shifted_target= []\n",
    "\n",
    "        \n",
    "        # get  user interaction informations in the previous MAXLEN interactions\n",
    "        if n > self.maxlength:\n",
    "          ch_label = ch_label[-self.maxlength:]\n",
    "          sub_ch_label = sub_ch_label[-self.maxlength:]\n",
    "          ques_name = ques_name[-self.maxlength:]\n",
    "          features = features[-self.maxlength:]\n",
    "          target = ori_target[-self.maxlength:]\n",
    "          shifted_target = ori_target[ (-self.maxlength - 1) :-1]\n",
    "        else:\n",
    "          ch_label = [0]*(self.maxlength - n)+list(ch_label[:])\n",
    "          sub_ch_label = [0]*(self.maxlength - n)+list(sub_ch_label[:])\n",
    "          ques_name = [0]*(self.maxlength - n)+list(ques_name[:])\n",
    "          features = [[0]*len(features[0])]*(self.maxlength  - n)+list(features[:])\n",
    "          target = [-1]*(self.maxlength - n) + list(ori_target[:])\n",
    "          shifted_target = [-1]*(self.maxlength + 1 - n) + list(ori_target[:-1])\n",
    "\n",
    "        new_features = []\n",
    "        count = 0\n",
    "        for f in features:\n",
    "          temp = list(f)\n",
    "          temp.extend(term_encode)\n",
    "          # temp.append(shifted_target[count]) #uncomment this line for include previous response feature\n",
    "          new_features.append(temp)\n",
    "          count += 1\n",
    "        features = new_features\n",
    "        return ch_label,sub_ch_label,ques_name,target"
   ]
  },
  {
   "cell_type": "code",
   "execution_count": 27,
   "metadata": {
    "execution": {
     "iopub.execute_input": "2021-07-26T23:04:28.087256Z",
     "iopub.status.busy": "2021-07-26T23:04:28.086887Z",
     "iopub.status.idle": "2021-07-26T23:04:28.093804Z",
     "shell.execute_reply": "2021-07-26T23:04:28.092795Z",
     "shell.execute_reply.started": "2021-07-26T23:04:28.087218Z"
    }
   },
   "outputs": [
    {
     "data": {
      "text/plain": [
       "223"
      ]
     },
     "execution_count": 27,
     "metadata": {},
     "output_type": "execute_result"
    }
   ],
   "source": [
    "SUB_CHAPTER_SIZE"
   ]
  },
  {
   "cell_type": "markdown",
   "metadata": {
    "id": "4xc90-aLzxat"
   },
   "source": [
    "## KFOLD - GRU\n"
   ]
  },
  {
   "cell_type": "code",
   "execution_count": 28,
   "metadata": {
    "execution": {
     "iopub.execute_input": "2021-07-26T23:04:28.095819Z",
     "iopub.status.busy": "2021-07-26T23:04:28.095397Z",
     "iopub.status.idle": "2021-07-26T23:11:24.498930Z",
     "shell.execute_reply": "2021-07-26T23:11:24.497664Z",
     "shell.execute_reply.started": "2021-07-26T23:04:28.095771Z"
    },
    "id": "gzJrljnjzypP",
    "outputId": "87abe488-b493-4f8f-9d71-45cb1d2ddf51"
   },
   "outputs": [
    {
     "name": "stdout",
     "output_type": "stream",
     "text": [
      "Epoch 1/100\n",
      "14/14 [==============================] - 9s 437ms/step - loss: 0.5784 - masked_acc: 0.6510 - masked_auc: 0.5464 - val_loss: 0.5308 - val_masked_acc: 0.7084 - val_masked_auc: 0.6738\n",
      "Epoch 2/100\n",
      "14/14 [==============================] - 5s 347ms/step - loss: 0.4658 - masked_acc: 0.7175 - masked_auc: 0.7024 - val_loss: 0.4952 - val_masked_acc: 0.7343 - val_masked_auc: 0.7444\n",
      "Epoch 3/100\n",
      "14/14 [==============================] - 5s 366ms/step - loss: 0.4418 - masked_acc: 0.7387 - masked_auc: 0.7548 - val_loss: 0.4828 - val_masked_acc: 0.7470 - val_masked_auc: 0.7723\n",
      "Epoch 4/100\n",
      "14/14 [==============================] - 5s 349ms/step - loss: 0.4254 - masked_acc: 0.7494 - masked_auc: 0.7779 - val_loss: 0.4867 - val_masked_acc: 0.7538 - val_masked_auc: 0.7871\n",
      "Epoch 5/100\n",
      "14/14 [==============================] - 5s 341ms/step - loss: 0.4251 - masked_acc: 0.7553 - masked_auc: 0.7904 - val_loss: 0.4960 - val_masked_acc: 0.7582 - val_masked_auc: 0.7953\n",
      "Epoch 6/100\n",
      "14/14 [==============================] - 5s 343ms/step - loss: 0.4364 - masked_acc: 0.7590 - masked_auc: 0.7969 - val_loss: 0.4953 - val_masked_acc: 0.7608 - val_masked_auc: 0.7997\n",
      "Epoch 7/100\n",
      "14/14 [==============================] - 5s 348ms/step - loss: 0.4320 - masked_acc: 0.7614 - masked_auc: 0.8008 - val_loss: 0.4900 - val_masked_acc: 0.7630 - val_masked_auc: 0.8036\n",
      "Epoch 8/100\n",
      "14/14 [==============================] - 5s 351ms/step - loss: 0.4209 - masked_acc: 0.7637 - masked_auc: 0.8048 - val_loss: 0.4935 - val_masked_acc: 0.7650 - val_masked_auc: 0.8073\n",
      "Epoch 9/100\n",
      "14/14 [==============================] - 5s 344ms/step - loss: 0.4357 - masked_acc: 0.7653 - masked_auc: 0.8079 - val_loss: 0.4910 - val_masked_acc: 0.7663 - val_masked_auc: 0.8092\n",
      "Epoch 10/100\n",
      "14/14 [==============================] - 5s 360ms/step - loss: 0.4213 - masked_acc: 0.7666 - masked_auc: 0.8099 - val_loss: 0.4902 - val_masked_acc: 0.7675 - val_masked_auc: 0.8115\n",
      "Epoch 11/100\n",
      "14/14 [==============================] - 5s 347ms/step - loss: 0.4135 - masked_acc: 0.7679 - masked_auc: 0.8122 - val_loss: 0.4901 - val_masked_acc: 0.7687 - val_masked_auc: 0.8137\n",
      "Epoch 12/100\n",
      "14/14 [==============================] - 5s 338ms/step - loss: 0.4112 - masked_acc: 0.7691 - masked_auc: 0.8144 - val_loss: 0.4918 - val_masked_acc: 0.7699 - val_masked_auc: 0.8159\n",
      "Epoch 13/100\n",
      "14/14 [==============================] - 5s 349ms/step - loss: 0.4150 - masked_acc: 0.7701 - masked_auc: 0.8166 - val_loss: 0.4931 - val_masked_acc: 0.7711 - val_masked_auc: 0.8181\n",
      "28/28 [==============================] - 2s 62ms/step - loss: 0.3988 - masked_acc: 0.7722 - masked_auc: 0.8197\n",
      "4/4 [==============================] - 0s 58ms/step - loss: 0.4346 - masked_acc: 0.7725 - masked_auc: 0.8205\n",
      "Test:  [0.43461692333221436, 0.7724708318710327, 0.8204736709594727]\n",
      "Epoch 1/100\n",
      "14/14 [==============================] - 9s 409ms/step - loss: 0.5910 - masked_acc: 0.5566 - masked_auc: 0.5282 - val_loss: 0.4525 - val_masked_acc: 0.7014 - val_masked_auc: 0.6669\n",
      "Epoch 2/100\n",
      "14/14 [==============================] - 5s 357ms/step - loss: 0.4703 - masked_acc: 0.7123 - masked_auc: 0.6997 - val_loss: 0.4284 - val_masked_acc: 0.7344 - val_masked_auc: 0.7440\n",
      "Epoch 3/100\n",
      "14/14 [==============================] - 5s 350ms/step - loss: 0.4468 - masked_acc: 0.7388 - masked_auc: 0.7533 - val_loss: 0.4273 - val_masked_acc: 0.7476 - val_masked_auc: 0.7699\n",
      "Epoch 4/100\n",
      "14/14 [==============================] - 5s 348ms/step - loss: 0.4441 - masked_acc: 0.7491 - masked_auc: 0.7741 - val_loss: 0.4265 - val_masked_acc: 0.7547 - val_masked_auc: 0.7837\n",
      "Epoch 5/100\n",
      "14/14 [==============================] - 5s 361ms/step - loss: 0.4339 - masked_acc: 0.7558 - masked_auc: 0.7866 - val_loss: 0.4247 - val_masked_acc: 0.7592 - val_masked_auc: 0.7928\n",
      "Epoch 6/100\n",
      "14/14 [==============================] - 5s 349ms/step - loss: 0.4324 - masked_acc: 0.7598 - masked_auc: 0.7946 - val_loss: 0.4262 - val_masked_acc: 0.7624 - val_masked_auc: 0.7994\n",
      "Epoch 7/100\n",
      "14/14 [==============================] - 5s 354ms/step - loss: 0.4230 - masked_acc: 0.7630 - masked_auc: 0.8011 - val_loss: 0.4262 - val_masked_acc: 0.7650 - val_masked_auc: 0.8047\n",
      "Epoch 8/100\n",
      "14/14 [==============================] - 5s 365ms/step - loss: 0.4218 - masked_acc: 0.7654 - masked_auc: 0.8059 - val_loss: 0.4306 - val_masked_acc: 0.7671 - val_masked_auc: 0.8090\n",
      "Epoch 9/100\n",
      "14/14 [==============================] - 5s 352ms/step - loss: 0.4092 - masked_acc: 0.7676 - masked_auc: 0.8103 - val_loss: 0.4273 - val_masked_acc: 0.7689 - val_masked_auc: 0.8129\n",
      "Epoch 10/100\n",
      "14/14 [==============================] - 5s 346ms/step - loss: 0.4064 - masked_acc: 0.7694 - masked_auc: 0.8141 - val_loss: 0.4306 - val_masked_acc: 0.7704 - val_masked_auc: 0.8161\n",
      "Epoch 11/100\n",
      "14/14 [==============================] - 5s 353ms/step - loss: 0.4017 - masked_acc: 0.7707 - masked_auc: 0.8171 - val_loss: 0.4407 - val_masked_acc: 0.7717 - val_masked_auc: 0.8190\n",
      "Epoch 12/100\n",
      "14/14 [==============================] - 5s 349ms/step - loss: 0.4010 - masked_acc: 0.7721 - masked_auc: 0.8198 - val_loss: 0.4331 - val_masked_acc: 0.7730 - val_masked_auc: 0.8215\n",
      "Epoch 13/100\n",
      "14/14 [==============================] - 5s 342ms/step - loss: 0.3978 - masked_acc: 0.7732 - masked_auc: 0.8223 - val_loss: 0.4487 - val_masked_acc: 0.7741 - val_masked_auc: 0.8239\n",
      "Epoch 14/100\n",
      "14/14 [==============================] - 5s 340ms/step - loss: 0.3869 - masked_acc: 0.7744 - masked_auc: 0.8247 - val_loss: 0.4461 - val_masked_acc: 0.7753 - val_masked_auc: 0.8265\n",
      "Epoch 15/100\n",
      "14/14 [==============================] - 5s 365ms/step - loss: 0.3757 - masked_acc: 0.7757 - masked_auc: 0.8273 - val_loss: 0.4579 - val_masked_acc: 0.7765 - val_masked_auc: 0.8289\n",
      "28/28 [==============================] - 2s 62ms/step - loss: 0.3741 - masked_acc: 0.7775 - masked_auc: 0.8306\n",
      "4/4 [==============================] - 0s 57ms/step - loss: 0.4597 - masked_acc: 0.7778 - masked_auc: 0.8317\n",
      "Test:  [0.4597337543964386, 0.7778234481811523, 0.8316649794578552]\n",
      "Epoch 1/100\n",
      "14/14 [==============================] - 9s 419ms/step - loss: 0.6199 - masked_acc: 0.5496 - masked_auc: 0.5292 - val_loss: 0.4857 - val_masked_acc: 0.6866 - val_masked_auc: 0.6349\n",
      "Epoch 2/100\n",
      "14/14 [==============================] - 5s 350ms/step - loss: 0.4685 - masked_acc: 0.6932 - masked_auc: 0.6737 - val_loss: 0.4604 - val_masked_acc: 0.7144 - val_masked_auc: 0.7239\n",
      "Epoch 3/100\n",
      "14/14 [==============================] - 5s 345ms/step - loss: 0.4571 - masked_acc: 0.7198 - masked_auc: 0.7353 - val_loss: 0.4483 - val_masked_acc: 0.7327 - val_masked_auc: 0.7560\n",
      "Epoch 4/100\n",
      "14/14 [==============================] - 5s 351ms/step - loss: 0.4436 - masked_acc: 0.7354 - masked_auc: 0.7615 - val_loss: 0.4458 - val_masked_acc: 0.7426 - val_masked_auc: 0.7729\n",
      "Epoch 5/100\n",
      "14/14 [==============================] - 5s 363ms/step - loss: 0.4353 - masked_acc: 0.7442 - masked_auc: 0.7762 - val_loss: 0.4438 - val_masked_acc: 0.7491 - val_masked_auc: 0.7837\n",
      "Epoch 6/100\n",
      "14/14 [==============================] - 5s 343ms/step - loss: 0.4269 - masked_acc: 0.7504 - masked_auc: 0.7865 - val_loss: 0.4458 - val_masked_acc: 0.7536 - val_masked_auc: 0.7916\n",
      "Epoch 7/100\n",
      "14/14 [==============================] - 5s 346ms/step - loss: 0.4272 - masked_acc: 0.7544 - masked_auc: 0.7935 - val_loss: 0.4461 - val_masked_acc: 0.7572 - val_masked_auc: 0.7979\n",
      "Epoch 8/100\n",
      "14/14 [==============================] - 5s 341ms/step - loss: 0.4147 - masked_acc: 0.7580 - masked_auc: 0.7996 - val_loss: 0.4470 - val_masked_acc: 0.7600 - val_masked_auc: 0.8029\n",
      "Epoch 9/100\n",
      "14/14 [==============================] - 5s 341ms/step - loss: 0.4157 - masked_acc: 0.7606 - masked_auc: 0.8042 - val_loss: 0.4472 - val_masked_acc: 0.7624 - val_masked_auc: 0.8070\n",
      "Epoch 10/100\n",
      "14/14 [==============================] - 5s 343ms/step - loss: 0.4161 - masked_acc: 0.7629 - masked_auc: 0.8080 - val_loss: 0.4478 - val_masked_acc: 0.7644 - val_masked_auc: 0.8105\n",
      "Epoch 11/100\n",
      "14/14 [==============================] - 5s 359ms/step - loss: 0.4069 - masked_acc: 0.7649 - masked_auc: 0.8115 - val_loss: 0.4538 - val_masked_acc: 0.7662 - val_masked_auc: 0.8137\n",
      "Epoch 12/100\n",
      "14/14 [==============================] - 5s 348ms/step - loss: 0.3983 - masked_acc: 0.7667 - masked_auc: 0.8147 - val_loss: 0.4497 - val_masked_acc: 0.7680 - val_masked_auc: 0.8169\n",
      "Epoch 13/100\n",
      "14/14 [==============================] - 5s 347ms/step - loss: 0.3926 - masked_acc: 0.7684 - masked_auc: 0.8179 - val_loss: 0.4529 - val_masked_acc: 0.7696 - val_masked_auc: 0.8199\n",
      "Epoch 14/100\n",
      "14/14 [==============================] - 5s 339ms/step - loss: 0.3883 - masked_acc: 0.7701 - masked_auc: 0.8208 - val_loss: 0.4583 - val_masked_acc: 0.7712 - val_masked_auc: 0.8228\n",
      "Epoch 15/100\n",
      "14/14 [==============================] - 5s 348ms/step - loss: 0.3916 - masked_acc: 0.7716 - masked_auc: 0.8235 - val_loss: 0.4645 - val_masked_acc: 0.7726 - val_masked_auc: 0.8250\n",
      "28/28 [==============================] - 2s 65ms/step - loss: 0.3870 - masked_acc: 0.7736 - masked_auc: 0.8264\n",
      "4/4 [==============================] - 0s 56ms/step - loss: 0.4541 - masked_acc: 0.7739 - masked_auc: 0.8273\n",
      "Test:  [0.45414528250694275, 0.7739431858062744, 0.8272945880889893]\n",
      "Epoch 1/100\n",
      "14/14 [==============================] - 10s 515ms/step - loss: 0.5970 - masked_acc: 0.5649 - masked_auc: 0.5210 - val_loss: 0.4996 - val_masked_acc: 0.6892 - val_masked_auc: 0.6515\n",
      "Epoch 2/100\n",
      "14/14 [==============================] - 5s 362ms/step - loss: 0.4731 - masked_acc: 0.6938 - masked_auc: 0.6866 - val_loss: 0.4572 - val_masked_acc: 0.7158 - val_masked_auc: 0.7337\n",
      "Epoch 3/100\n",
      "14/14 [==============================] - 5s 358ms/step - loss: 0.4468 - masked_acc: 0.7226 - masked_auc: 0.7459 - val_loss: 0.4497 - val_masked_acc: 0.7337 - val_masked_auc: 0.7634\n",
      "Epoch 4/100\n",
      "14/14 [==============================] - 5s 362ms/step - loss: 0.4405 - masked_acc: 0.7367 - masked_auc: 0.7691 - val_loss: 0.4493 - val_masked_acc: 0.7437 - val_masked_auc: 0.7792\n",
      "Epoch 5/100\n",
      "14/14 [==============================] - 5s 358ms/step - loss: 0.4281 - masked_acc: 0.7460 - masked_auc: 0.7829 - val_loss: 0.4515 - val_masked_acc: 0.7502 - val_masked_auc: 0.7893\n",
      "Epoch 6/100\n",
      "14/14 [==============================] - 5s 355ms/step - loss: 0.4286 - masked_acc: 0.7515 - masked_auc: 0.7918 - val_loss: 0.4532 - val_masked_acc: 0.7550 - val_masked_auc: 0.7967\n",
      "Epoch 7/100\n",
      "14/14 [==============================] - 5s 354ms/step - loss: 0.4184 - masked_acc: 0.7563 - masked_auc: 0.7987 - val_loss: 0.4480 - val_masked_acc: 0.7585 - val_masked_auc: 0.8021\n",
      "Epoch 8/100\n",
      "14/14 [==============================] - 5s 365ms/step - loss: 0.4178 - masked_acc: 0.7593 - masked_auc: 0.8037 - val_loss: 0.4495 - val_masked_acc: 0.7615 - val_masked_auc: 0.8070\n",
      "Epoch 9/100\n",
      "14/14 [==============================] - 5s 358ms/step - loss: 0.4096 - masked_acc: 0.7623 - masked_auc: 0.8084 - val_loss: 0.4502 - val_masked_acc: 0.7639 - val_masked_auc: 0.8111\n",
      "Epoch 10/100\n",
      "14/14 [==============================] - 5s 353ms/step - loss: 0.4110 - masked_acc: 0.7645 - masked_auc: 0.8123 - val_loss: 0.4642 - val_masked_acc: 0.7660 - val_masked_auc: 0.8146\n",
      "Epoch 11/100\n",
      "14/14 [==============================] - 5s 361ms/step - loss: 0.4138 - masked_acc: 0.7665 - masked_auc: 0.8154 - val_loss: 0.4591 - val_masked_acc: 0.7677 - val_masked_auc: 0.8173\n",
      "Epoch 12/100\n",
      "14/14 [==============================] - 5s 348ms/step - loss: 0.3981 - masked_acc: 0.7683 - masked_auc: 0.8183 - val_loss: 0.4545 - val_masked_acc: 0.7693 - val_masked_auc: 0.8201\n",
      "Epoch 13/100\n",
      "14/14 [==============================] - 5s 356ms/step - loss: 0.3999 - masked_acc: 0.7699 - masked_auc: 0.8211 - val_loss: 0.4650 - val_masked_acc: 0.7709 - val_masked_auc: 0.8228\n",
      "Epoch 14/100\n",
      "14/14 [==============================] - 5s 372ms/step - loss: 0.3912 - masked_acc: 0.7714 - masked_auc: 0.8237 - val_loss: 0.4718 - val_masked_acc: 0.7724 - val_masked_auc: 0.8253\n",
      "Epoch 15/100\n",
      "14/14 [==============================] - 5s 352ms/step - loss: 0.3855 - masked_acc: 0.7728 - masked_auc: 0.8261 - val_loss: 0.4637 - val_masked_acc: 0.7738 - val_masked_auc: 0.8278\n",
      "Epoch 16/100\n",
      "14/14 [==============================] - 5s 351ms/step - loss: 0.3819 - masked_acc: 0.7743 - masked_auc: 0.8286 - val_loss: 0.4822 - val_masked_acc: 0.7752 - val_masked_auc: 0.8301\n",
      "Epoch 17/100\n",
      "14/14 [==============================] - 5s 355ms/step - loss: 0.3781 - masked_acc: 0.7757 - masked_auc: 0.8309 - val_loss: 0.4787 - val_masked_acc: 0.7765 - val_masked_auc: 0.8323\n",
      "28/28 [==============================] - 2s 66ms/step - loss: 0.3678 - masked_acc: 0.7777 - masked_auc: 0.8339\n",
      "4/4 [==============================] - 0s 57ms/step - loss: 0.4677 - masked_acc: 0.7781 - masked_auc: 0.8347\n",
      "Test:  [0.4676649868488312, 0.7780879735946655, 0.8347488045692444]\n",
      "Epoch 1/100\n",
      "14/14 [==============================] - 9s 429ms/step - loss: 0.5823 - masked_acc: 0.6607 - masked_auc: 0.5340 - val_loss: 0.4679 - val_masked_acc: 0.7106 - val_masked_auc: 0.6560\n",
      "Epoch 2/100\n",
      "14/14 [==============================] - 5s 372ms/step - loss: 0.4609 - masked_acc: 0.7195 - masked_auc: 0.6940 - val_loss: 0.4371 - val_masked_acc: 0.7355 - val_masked_auc: 0.7388\n",
      "Epoch 3/100\n",
      "14/14 [==============================] - 5s 369ms/step - loss: 0.4468 - masked_acc: 0.7397 - masked_auc: 0.7495 - val_loss: 0.4325 - val_masked_acc: 0.7481 - val_masked_auc: 0.7674\n",
      "Epoch 4/100\n",
      "14/14 [==============================] - 5s 371ms/step - loss: 0.4356 - masked_acc: 0.7500 - masked_auc: 0.7728 - val_loss: 0.4295 - val_masked_acc: 0.7548 - val_masked_auc: 0.7826\n",
      "Epoch 5/100\n",
      "14/14 [==============================] - 5s 360ms/step - loss: 0.4248 - masked_acc: 0.7564 - masked_auc: 0.7862 - val_loss: 0.4287 - val_masked_acc: 0.7592 - val_masked_auc: 0.7925\n",
      "Epoch 6/100\n",
      "14/14 [==============================] - 5s 355ms/step - loss: 0.4216 - masked_acc: 0.7601 - masked_auc: 0.7950 - val_loss: 0.4301 - val_masked_acc: 0.7623 - val_masked_auc: 0.7997\n",
      "Epoch 7/100\n",
      "14/14 [==============================] - 5s 353ms/step - loss: 0.4172 - masked_acc: 0.7632 - masked_auc: 0.8018 - val_loss: 0.4318 - val_masked_acc: 0.7650 - val_masked_auc: 0.8054\n",
      "Epoch 8/100\n",
      "14/14 [==============================] - 5s 371ms/step - loss: 0.4219 - masked_acc: 0.7654 - masked_auc: 0.8066 - val_loss: 0.4351 - val_masked_acc: 0.7668 - val_masked_auc: 0.8093\n",
      "Epoch 9/100\n",
      "14/14 [==============================] - 5s 352ms/step - loss: 0.4065 - masked_acc: 0.7674 - masked_auc: 0.8107 - val_loss: 0.4361 - val_masked_acc: 0.7687 - val_masked_auc: 0.8133\n",
      "Epoch 10/100\n",
      "14/14 [==============================] - 5s 359ms/step - loss: 0.3992 - masked_acc: 0.7694 - masked_auc: 0.8148 - val_loss: 0.4377 - val_masked_acc: 0.7704 - val_masked_auc: 0.8170\n",
      "Epoch 11/100\n",
      "14/14 [==============================] - 5s 371ms/step - loss: 0.3965 - masked_acc: 0.7708 - masked_auc: 0.8182 - val_loss: 0.4411 - val_masked_acc: 0.7719 - val_masked_auc: 0.8204\n",
      "Epoch 12/100\n",
      "14/14 [==============================] - 5s 358ms/step - loss: 0.3866 - masked_acc: 0.7725 - masked_auc: 0.8216 - val_loss: 0.4395 - val_masked_acc: 0.7735 - val_masked_auc: 0.8237\n",
      "Epoch 13/100\n",
      "14/14 [==============================] - 5s 345ms/step - loss: 0.3869 - masked_acc: 0.7740 - masked_auc: 0.8247 - val_loss: 0.4531 - val_masked_acc: 0.7749 - val_masked_auc: 0.8266\n",
      "Epoch 14/100\n",
      "14/14 [==============================] - 5s 363ms/step - loss: 0.3819 - masked_acc: 0.7754 - masked_auc: 0.8276 - val_loss: 0.4463 - val_masked_acc: 0.7763 - val_masked_auc: 0.8293\n",
      "Epoch 15/100\n",
      "14/14 [==============================] - 5s 370ms/step - loss: 0.3798 - masked_acc: 0.7768 - masked_auc: 0.8302 - val_loss: 0.4532 - val_masked_acc: 0.7775 - val_masked_auc: 0.8317\n",
      "28/28 [==============================] - 2s 65ms/step - loss: 0.3730 - masked_acc: 0.7787 - masked_auc: 0.8334\n",
      "4/4 [==============================] - 0s 59ms/step - loss: 0.4667 - masked_acc: 0.7790 - masked_auc: 0.8343\n",
      "Test:  [0.4667034149169922, 0.7789667844772339, 0.8342911601066589]\n"
     ]
    }
   ],
   "source": [
    "# 5 fold cross validation\n",
    "#HERE WE ONLY USE\n",
    "#CHAPTER, SUB_CHAPTER\n",
    "#QUESTION\n",
    "import torch\n",
    "X = np.array(grouped_data.keys())\n",
    "kfold = KFold(n_splits=5, shuffle=True)\n",
    "train_losses = list()\n",
    "train_aucs = list()\n",
    "val_losses = list()\n",
    "val_aucs = list()\n",
    "train_eval = list()\n",
    "test_eval = list()\n",
    "for train, test in kfold.split(X):\n",
    "    users_train, users_test =  X[train], X[test]\n",
    "    n = len(users_test)//2\n",
    "    users_test, users_val = users_test[:n], users_test[n: ]\n",
    "    train_data_space = SPACE_DATASET(grouped_data[users_train], MAXLENGTH)\n",
    "    val_data_space = SPACE_DATASET(grouped_data[users_val], MAXLENGTH)\n",
    "    test_data_space = SPACE_DATASET(grouped_data[users_test], MAXLENGTH)\n",
    "    #construct training input\n",
    "    train_chapter=[]\n",
    "    train_sub_chapter=[]\n",
    "    train_question = []\n",
    "    train_features=[]\n",
    "    train_labels=[]\n",
    "    for i in range(len(users_train)):\n",
    "        user = train_data_space.__getitem__(i)\n",
    "        train_chapter.append(user[0])\n",
    "        train_sub_chapter.append(user[1]) \n",
    "        train_question.append(user[2])\n",
    "        #train_features.append(user[3])\n",
    "        train_labels.append(user[3])\n",
    "    train_chapter = np.array(train_chapter)\n",
    "    train_sub_chapter = np.array(train_sub_chapter)\n",
    "    train_question = np.array(train_question)\n",
    "    #train_features = np.array(train_features)\n",
    "    train_labels= np.array(train_labels)[..., np.newaxis]\n",
    "\n",
    "    #construct validation input\n",
    "    val_chapter=[]\n",
    "    val_sub_chapter=[]\n",
    "    val_question = []\n",
    "    #val_features=[]\n",
    "    val_labels=[]\n",
    "    for i in range(len(users_val)):\n",
    "        user = val_data_space.__getitem__(i)\n",
    "        val_chapter.append(user[0])\n",
    "        val_sub_chapter.append(user[1]) \n",
    "        val_question.append(user[2])\n",
    "        #val_features.append(user[3])\n",
    "        val_labels.append(user[3])\n",
    "    val_chapter = np.array(val_chapter)\n",
    "    val_sub_chapter = np.array(val_sub_chapter)\n",
    "    #val_features = np.array(val_features)\n",
    "    val_question = np.array(val_question)\n",
    "    val_labels= np.array(val_labels)[..., np.newaxis]\n",
    "\n",
    "    # construct test input\n",
    "    test_chapter=[]\n",
    "    test_sub_chapter=[]\n",
    "    #test_features=[]\n",
    "    test_question=[]\n",
    "    test_labels=[]\n",
    "    for i in range(len(users_test)):\n",
    "        user = test_data_space.__getitem__(i)\n",
    "        test_chapter.append(user[0])\n",
    "        test_sub_chapter.append(user[1]) \n",
    "        test_question.append(user[2])\n",
    "        #test_features.append(user[3])\n",
    "        test_labels.append(user[3])\n",
    "    test_chapter = np.array(test_chapter)\n",
    "    test_sub_chapter = np.array(test_sub_chapter)\n",
    "    #test_features = np.array(test_features)\n",
    "    test_question = np.array(test_question)\n",
    "    test_labels= np.array(test_labels)[..., np.newaxis]\n",
    "\n",
    "    # define loss function and evaluation metrics\n",
    "    bce = tf.keras.losses.BinaryCrossentropy(from_logits=True)\n",
    "    acc = tf.keras.metrics.Accuracy()\n",
    "    auc = tf.keras.metrics.AUC()\n",
    "\n",
    "    def masked_bce(y_true, y_pred):\n",
    "      flat_pred = y_pred\n",
    "      flat_ground_truth = y_true\n",
    "      label_mask = tf.math.not_equal(flat_ground_truth, -1)\n",
    "      return bce(flat_ground_truth, flat_pred, sample_weight=label_mask)\n",
    "\n",
    "    def masked_acc(y_true, y_pred):\n",
    "      flat_pred = y_pred\n",
    "      flat_ground_truth = y_true\n",
    "      flat_pred = (flat_pred >= 0.5)\n",
    "      label_mask = tf.math.not_equal(flat_ground_truth, -1)\n",
    "      return acc(flat_ground_truth, flat_pred, sample_weight=label_mask)\n",
    "\n",
    "    def masked_auc(y_true, y_pred):\n",
    "      flat_pred = y_pred\n",
    "      flat_ground_truth = y_true\n",
    "      label_mask = tf.math.not_equal(flat_ground_truth, -1)\n",
    "      return auc(flat_ground_truth, flat_pred, sample_weight=label_mask)\n",
    "\n",
    "    # input layer\n",
    "    input_chap = tf.keras.Input(shape=(MAXLENGTH))\n",
    "    input_sub_chap = tf.keras.Input(shape=(MAXLENGTH))\n",
    "    input_ques =  tf.keras.Input(shape=(MAXLENGTH))\n",
    "    #input_features = tf.keras.Input(shape=(MAXLENGTH, FEATURES_SIZE))\n",
    "\n",
    "    # embedding layer for categorical features\n",
    "    embedding_chap = Embedding(input_dim = CHAPTER_SIZE, output_dim = EMBEDDING_DIM)(input_chap)\n",
    "    embedding_sub_chap = Embedding(input_dim = SUB_CHAPTER_SIZE, output_dim = EMBEDDING_DIM)(input_sub_chap) \n",
    "    embedding_ques = Embedding(input_dim = QUESTION_SIZE, output_dim = EMBEDDING_DIM)(input_ques)       \n",
    "\n",
    "    # dense layer for numeric features\n",
    "    #dense_features = Dense(EMBEDDING_DIM,input_shape = (None, MAXLENGTH))(input_features)\n",
    "\n",
    "    # definr lstm layers\n",
    "    rnn_chap = SimpleRNN(RNN_NEURON, input_shape = (None, EMBEDDING_DIM),return_sequences = True)(embedding_chap)\n",
    "    rnn_sub_chap = SimpleRNN(RNN_NEURON, input_shape = (None, EMBEDDING_DIM),return_sequences = True)(embedding_sub_chap)\n",
    "    rnn_ques = SimpleRNN(RNN_NEURON, input_shape = (None, EMBEDDING_DIM),return_sequences = True)(embedding_ques)\n",
    "    #rnn_features = RNN(RNN_NEURON, input_shape = (None, EMBEDDING_DIM),return_sequences = True)(dense_features)\n",
    "\n",
    "    rnn_output = tf.concat([rnn_chap, rnn_sub_chap, rnn_ques], axis = 2)\n",
    "\n",
    "    dense1 = Dense(256, input_shape = (None, 3*EMBEDDING_DIM), activation='relu')(rnn_output)\n",
    "    dropout1 = Dropout(0.1)(dense1)\n",
    "    dense2 = Dense(64, input_shape = (None, 256), activation='relu')(dropout1)\n",
    "    dropout2 = Dropout(0.1)(dense2)\n",
    "    pred = Dense(1, input_shape = (None, 64), activation='sigmoid')(dropout2)\n",
    "\n",
    "    model = tf.keras.Model(\n",
    "        inputs=[input_chap, input_sub_chap,input_ques],\n",
    "        outputs=pred,\n",
    "        name='lstm_model'\n",
    "    )\n",
    "\n",
    "    callback = tf.keras.callbacks.EarlyStopping(monitor='val_loss', patience=10)\n",
    "    opt_adam = Adam(learning_rate = 0.005)\n",
    "    model.compile(\n",
    "        optimizer=opt_adam,\n",
    "        loss= masked_bce,\n",
    "        metrics = [masked_acc, masked_auc]\n",
    "    )\n",
    "\n",
    "    history = model.fit(\n",
    "      [train_chapter, train_sub_chapter, train_question],\n",
    "      train_labels,\n",
    "      batch_size = 64,\n",
    "      epochs = 100,\n",
    "      validation_data=([val_chapter, val_sub_chapter, val_question], val_labels),\n",
    "      callbacks=[callback]\n",
    "    )\n",
    "    val_losses.append(list(history.history['val_loss']))\n",
    "    train_losses.append(list(history.history['loss']))\n",
    "    val_aucs.append(list(history.history['val_masked_auc']))\n",
    "    train_aucs.append(list(history.history['masked_auc']))\n",
    "    train_score = model.evaluate([train_chapter, train_sub_chapter, train_question], train_labels)\n",
    "    train_eval.append(train_score)\n",
    "    test_score = model.evaluate([test_chapter, test_sub_chapter, test_question], test_labels)\n",
    "    test_eval.append(test_score)\n",
    "    print(\"Test: \", test_score)\n",
    "    def reset_weights(model):\n",
    "      for layer in model.layers: \n",
    "        if isinstance(layer, tf.keras.Model):\n",
    "          reset_weights(layer)\n",
    "          continue\n",
    "        for k, initializer in layer.__dict__.items():\n",
    "          if \"initializer\" not in k:\n",
    "            continue\n",
    "          # find the corresponding variable\n",
    "          var = getattr(layer, k.replace(\"_initializer\", \"\"))\n",
    "          var.assign(initializer(var.shape, var.dtype))\n",
    "    reset_weights(model)"
   ]
  },
  {
   "cell_type": "code",
   "execution_count": 29,
   "metadata": {
    "execution": {
     "iopub.execute_input": "2021-07-26T23:11:24.500584Z",
     "iopub.status.busy": "2021-07-26T23:11:24.500291Z",
     "iopub.status.idle": "2021-07-26T23:11:24.510570Z",
     "shell.execute_reply": "2021-07-26T23:11:24.509176Z",
     "shell.execute_reply.started": "2021-07-26T23:11:24.500556Z"
    },
    "id": "QsVmumHMz3lx",
    "outputId": "4ff1e2fa-6abb-458e-c729-495b456f53e5"
   },
   "outputs": [
    {
     "name": "stdout",
     "output_type": "stream",
     "text": [
      "test avg loss:  0.4565728724002838 +/- 0.012030053713812225\n",
      "test avg acc:  0.7762584447860718 +/- 0.002562731000652049\n",
      "test avg auc:  0.829694640636444 +/- 0.005316791013102065\n"
     ]
    }
   ],
   "source": [
    "t_eval = np.array(test_eval)\n",
    "print(\"test avg loss: \", np.mean(t_eval[:, 0]), \"+/-\" ,np.std(t_eval[:, 0]))\n",
    "print(\"test avg acc: \", np.mean(t_eval[:, 1]),  \"+/-\" ,np.std(t_eval[:, 1]))\n",
    "print(\"test avg auc: \", np.mean(t_eval[:, 2]), \"+/-\" ,np.std(t_eval[:, 2]))"
   ]
  },
  {
   "cell_type": "code",
   "execution_count": 30,
   "metadata": {
    "execution": {
     "iopub.execute_input": "2021-07-26T23:11:24.513230Z",
     "iopub.status.busy": "2021-07-26T23:11:24.512284Z",
     "iopub.status.idle": "2021-07-26T23:11:24.523232Z",
     "shell.execute_reply": "2021-07-26T23:11:24.522470Z",
     "shell.execute_reply.started": "2021-07-26T23:11:24.513174Z"
    },
    "id": "b9MM_CXWz5K6",
    "outputId": "4cf88e1d-3a74-4e7d-f92c-d01522e91757"
   },
   "outputs": [
    {
     "name": "stdout",
     "output_type": "stream",
     "text": [
      "train avg loss:  0.38013970851898193 +/- 0.011291221719204707\n",
      "train avg acc:  0.7759210586547851 +/- 0.0025713464774953063\n",
      "train avg auc:  0.828808331489563 +/- 0.005267555564476103\n"
     ]
    }
   ],
   "source": [
    "t_eval = np.array(train_eval)\n",
    "print(\"train avg loss: \", np.mean(t_eval[:, 0]), \"+/-\" ,np.std(t_eval[:, 0]))\n",
    "print(\"train avg acc: \", np.mean(t_eval[:, 1]),  \"+/-\" ,np.std(t_eval[:, 1]))\n",
    "print(\"train avg auc: \", np.mean(t_eval[:, 2]), \"+/-\" ,np.std(t_eval[:, 2]))"
   ]
  }
 ],
 "metadata": {
  "kernelspec": {
   "display_name": "Python 3",
   "language": "python",
   "name": "python3"
  },
  "language_info": {
   "codemirror_mode": {
    "name": "ipython",
    "version": 3
   },
   "file_extension": ".py",
   "mimetype": "text/x-python",
   "name": "python",
   "nbconvert_exporter": "python",
   "pygments_lexer": "ipython3",
   "version": "3.8.5"
  }
 },
 "nbformat": 4,
 "nbformat_minor": 4
}
