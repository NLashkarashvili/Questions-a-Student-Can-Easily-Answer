{
 "cells": [
  {
   "cell_type": "code",
   "execution_count": 1,
   "metadata": {
    "execution": {
     "iopub.execute_input": "2021-07-26T22:47:09.608856Z",
     "iopub.status.busy": "2021-07-26T22:47:09.608375Z",
     "iopub.status.idle": "2021-07-26T22:47:09.615416Z",
     "shell.execute_reply": "2021-07-26T22:47:09.614433Z",
     "shell.execute_reply.started": "2021-07-26T22:47:09.608820Z"
    },
    "id": "farifxiKU1aB"
   },
   "outputs": [],
   "source": [
    "import numpy as np\n",
    "import pandas as pd\n",
    "import warnings\n",
    "import gc\n",
    "import tensorflow as tf\n",
    "from tensorflow import keras\n",
    "\n",
    "import random\n",
    "from random import choice\n",
    "from tensorflow.keras.optimizers import Adam\n",
    "from tensorflow.keras.models import Sequential \n",
    "from tensorflow.keras.layers import Dense, GRU, Concatenate, Embedding, Flatten, Activation, Dropout\n",
    "from sklearn.model_selection import KFold\n",
    "from tensorflow.python.client import device_lib\n",
    "warnings.filterwarnings('ignore')\n",
    "import random"
   ]
  },
  {
   "cell_type": "code",
   "execution_count": 2,
   "metadata": {
    "execution": {
     "iopub.execute_input": "2021-07-26T22:47:09.617504Z",
     "iopub.status.busy": "2021-07-26T22:47:09.616982Z",
     "iopub.status.idle": "2021-07-26T22:47:09.624642Z",
     "shell.execute_reply": "2021-07-26T22:47:09.623490Z",
     "shell.execute_reply.started": "2021-07-26T22:47:09.617465Z"
    },
    "id": "QOson70GPOXb"
   },
   "outputs": [],
   "source": [
    "import gc"
   ]
  },
  {
   "cell_type": "markdown",
   "metadata": {
    "id": "BQsVybBH3VPw"
   },
   "source": [
    "## Data Preprocessing"
   ]
  },
  {
   "cell_type": "code",
   "execution_count": 3,
   "metadata": {
    "execution": {
     "iopub.execute_input": "2021-07-26T22:47:09.627155Z",
     "iopub.status.busy": "2021-07-26T22:47:09.626729Z",
     "iopub.status.idle": "2021-07-26T22:47:14.032612Z",
     "shell.execute_reply": "2021-07-26T22:47:14.031725Z",
     "shell.execute_reply.started": "2021-07-26T22:47:09.627120Z"
    },
    "id": "rwtTusGxrmAE",
    "outputId": "1430f3cf-038b-485e-b5c4-c1686b1f34fd"
   },
   "outputs": [
    {
     "data": {
      "text/html": [
       "<div>\n",
       "<style scoped>\n",
       "    .dataframe tbody tr th:only-of-type {\n",
       "        vertical-align: middle;\n",
       "    }\n",
       "\n",
       "    .dataframe tbody tr th {\n",
       "        vertical-align: top;\n",
       "    }\n",
       "\n",
       "    .dataframe thead th {\n",
       "        text-align: right;\n",
       "    }\n",
       "</style>\n",
       "<table border=\"1\" class=\"dataframe\">\n",
       "  <thead>\n",
       "    <tr style=\"text-align: right;\">\n",
       "      <th></th>\n",
       "      <th>Unnamed: 0</th>\n",
       "      <th>chapter_label</th>\n",
       "      <th>sub_chapter_label</th>\n",
       "      <th>question_name</th>\n",
       "      <th>user_id.x</th>\n",
       "      <th>term</th>\n",
       "      <th>STDNT_SEX_CD</th>\n",
       "      <th>NonNativeEnglish</th>\n",
       "      <th>White</th>\n",
       "      <th>Asian</th>\n",
       "      <th>...</th>\n",
       "      <th>classGraded</th>\n",
       "      <th>classHonors</th>\n",
       "      <th>Pass_Fail</th>\n",
       "      <th>parentsGraduateEdu</th>\n",
       "      <th>minorityGroup</th>\n",
       "      <th>q</th>\n",
       "      <th>day's_available_flashcards</th>\n",
       "      <th>start_practice</th>\n",
       "      <th>end_practice</th>\n",
       "      <th>days_offset</th>\n",
       "    </tr>\n",
       "  </thead>\n",
       "  <tbody>\n",
       "    <tr>\n",
       "      <th>0</th>\n",
       "      <td>1</td>\n",
       "      <td>Sort</td>\n",
       "      <td>intro-SortingwithSortandSorted</td>\n",
       "      <td>ee_sort_04</td>\n",
       "      <td>148</td>\n",
       "      <td>WN 2018</td>\n",
       "      <td>1</td>\n",
       "      <td>0</td>\n",
       "      <td>1</td>\n",
       "      <td>0</td>\n",
       "      <td>...</td>\n",
       "      <td>1</td>\n",
       "      <td>0</td>\n",
       "      <td>0</td>\n",
       "      <td>0</td>\n",
       "      <td>0</td>\n",
       "      <td>0</td>\n",
       "      <td>18</td>\n",
       "      <td>2018/3/4 20:00</td>\n",
       "      <td>2018/3/4 20:00</td>\n",
       "      <td>45</td>\n",
       "    </tr>\n",
       "    <tr>\n",
       "      <th>1</th>\n",
       "      <td>2</td>\n",
       "      <td>Functions</td>\n",
       "      <td>Returningavaluefromafunction</td>\n",
       "      <td>test_questionfunctions_2_3</td>\n",
       "      <td>148</td>\n",
       "      <td>WN 2018</td>\n",
       "      <td>1</td>\n",
       "      <td>0</td>\n",
       "      <td>1</td>\n",
       "      <td>0</td>\n",
       "      <td>...</td>\n",
       "      <td>1</td>\n",
       "      <td>0</td>\n",
       "      <td>0</td>\n",
       "      <td>0</td>\n",
       "      <td>0</td>\n",
       "      <td>4</td>\n",
       "      <td>16</td>\n",
       "      <td>2018/2/10 11:57</td>\n",
       "      <td>2018/2/10 11:58</td>\n",
       "      <td>23</td>\n",
       "    </tr>\n",
       "    <tr>\n",
       "      <th>2</th>\n",
       "      <td>3</td>\n",
       "      <td>RESTAPIs</td>\n",
       "      <td>functionswithrestapis</td>\n",
       "      <td>test_question_functions_rest_apis_1</td>\n",
       "      <td>148</td>\n",
       "      <td>WN 2018</td>\n",
       "      <td>1</td>\n",
       "      <td>0</td>\n",
       "      <td>1</td>\n",
       "      <td>0</td>\n",
       "      <td>...</td>\n",
       "      <td>1</td>\n",
       "      <td>0</td>\n",
       "      <td>0</td>\n",
       "      <td>0</td>\n",
       "      <td>0</td>\n",
       "      <td>1</td>\n",
       "      <td>2</td>\n",
       "      <td>2018/3/12 17:03</td>\n",
       "      <td>2018/3/12 17:04</td>\n",
       "      <td>53</td>\n",
       "    </tr>\n",
       "    <tr>\n",
       "      <th>3</th>\n",
       "      <td>4</td>\n",
       "      <td>SimplePythonData</td>\n",
       "      <td>FunctionCalls</td>\n",
       "      <td>exercise_functionCalls_1</td>\n",
       "      <td>148</td>\n",
       "      <td>WN 2018</td>\n",
       "      <td>1</td>\n",
       "      <td>0</td>\n",
       "      <td>1</td>\n",
       "      <td>0</td>\n",
       "      <td>...</td>\n",
       "      <td>1</td>\n",
       "      <td>0</td>\n",
       "      <td>0</td>\n",
       "      <td>0</td>\n",
       "      <td>0</td>\n",
       "      <td>0</td>\n",
       "      <td>10</td>\n",
       "      <td>2018/1/30 14:15</td>\n",
       "      <td>2018/1/30 14:15</td>\n",
       "      <td>12</td>\n",
       "    </tr>\n",
       "    <tr>\n",
       "      <th>4</th>\n",
       "      <td>5</td>\n",
       "      <td>DictionaryAccumulation</td>\n",
       "      <td>AccumulatingaMaximumValue</td>\n",
       "      <td>ps_04_07</td>\n",
       "      <td>148</td>\n",
       "      <td>WN 2018</td>\n",
       "      <td>1</td>\n",
       "      <td>0</td>\n",
       "      <td>1</td>\n",
       "      <td>0</td>\n",
       "      <td>...</td>\n",
       "      <td>1</td>\n",
       "      <td>0</td>\n",
       "      <td>0</td>\n",
       "      <td>0</td>\n",
       "      <td>0</td>\n",
       "      <td>0</td>\n",
       "      <td>23</td>\n",
       "      <td>2018/3/3 14:04</td>\n",
       "      <td>2018/3/3 14:04</td>\n",
       "      <td>44</td>\n",
       "    </tr>\n",
       "  </tbody>\n",
       "</table>\n",
       "<p>5 rows × 48 columns</p>\n",
       "</div>"
      ],
      "text/plain": [
       "   Unnamed: 0           chapter_label               sub_chapter_label  \\\n",
       "0           1                    Sort  intro-SortingwithSortandSorted   \n",
       "1           2               Functions    Returningavaluefromafunction   \n",
       "2           3                RESTAPIs           functionswithrestapis   \n",
       "3           4        SimplePythonData                   FunctionCalls   \n",
       "4           5  DictionaryAccumulation       AccumulatingaMaximumValue   \n",
       "\n",
       "                         question_name  user_id.x     term  STDNT_SEX_CD  \\\n",
       "0                           ee_sort_04        148  WN 2018             1   \n",
       "1           test_questionfunctions_2_3        148  WN 2018             1   \n",
       "2  test_question_functions_rest_apis_1        148  WN 2018             1   \n",
       "3             exercise_functionCalls_1        148  WN 2018             1   \n",
       "4                             ps_04_07        148  WN 2018             1   \n",
       "\n",
       "   NonNativeEnglish  White  Asian  ...  classGraded  classHonors  Pass_Fail  \\\n",
       "0                 0      1      0  ...            1            0          0   \n",
       "1                 0      1      0  ...            1            0          0   \n",
       "2                 0      1      0  ...            1            0          0   \n",
       "3                 0      1      0  ...            1            0          0   \n",
       "4                 0      1      0  ...            1            0          0   \n",
       "\n",
       "   parentsGraduateEdu  minorityGroup  q  day's_available_flashcards  \\\n",
       "0                   0              0  0                          18   \n",
       "1                   0              0  4                          16   \n",
       "2                   0              0  1                           2   \n",
       "3                   0              0  0                          10   \n",
       "4                   0              0  0                          23   \n",
       "\n",
       "    start_practice     end_practice  days_offset  \n",
       "0   2018/3/4 20:00   2018/3/4 20:00           45  \n",
       "1  2018/2/10 11:57  2018/2/10 11:58           23  \n",
       "2  2018/3/12 17:03  2018/3/12 17:04           53  \n",
       "3  2018/1/30 14:15  2018/1/30 14:15           12  \n",
       "4   2018/3/3 14:04   2018/3/3 14:04           44  \n",
       "\n",
       "[5 rows x 48 columns]"
      ]
     },
     "execution_count": 3,
     "metadata": {},
     "output_type": "execute_result"
    }
   ],
   "source": [
    "# load the data\n",
    "import pandas as pd\n",
    "dataframe = pd.read_csv('Practice_Log_Demographics.csv', low_memory=False)\n",
    "dataframe.head()"
   ]
  },
  {
   "cell_type": "code",
   "execution_count": 4,
   "metadata": {
    "execution": {
     "iopub.execute_input": "2021-07-26T22:47:14.034657Z",
     "iopub.status.busy": "2021-07-26T22:47:14.034284Z",
     "iopub.status.idle": "2021-07-26T22:47:15.287357Z",
     "shell.execute_reply": "2021-07-26T22:47:15.286463Z",
     "shell.execute_reply.started": "2021-07-26T22:47:14.034618Z"
    },
    "id": "OCbHnEp_Vir0"
   },
   "outputs": [],
   "source": [
    "#sort data based on timestamp\n",
    "dataframe = dataframe.sort_values(by=['start_practice'])"
   ]
  },
  {
   "cell_type": "code",
   "execution_count": 5,
   "metadata": {
    "execution": {
     "iopub.execute_input": "2021-07-26T22:47:15.289269Z",
     "iopub.status.busy": "2021-07-26T22:47:15.288893Z",
     "iopub.status.idle": "2021-07-26T22:47:15.295499Z",
     "shell.execute_reply": "2021-07-26T22:47:15.294559Z",
     "shell.execute_reply.started": "2021-07-26T22:47:15.289231Z"
    },
    "id": "0RvF7BvEr98o"
   },
   "outputs": [],
   "source": [
    "FEATURES = ['chapter_label', 'sub_chapter_label','question_name','user_id','term',\n",
    "            'STDNT_SEX_CD', \n",
    "            'NonNativeEnglish',\n",
    "            'White',\n",
    "            'Asian',\n",
    "            'WhiteOrAsian',\n",
    "            'Hispanic',\n",
    "            'AfricanAmerican',\n",
    "            'OtherEthnicities',\n",
    "            'NonWhiteOrAsian',\n",
    "            'STDNT_CTZN_STAT_CD', 'international', \n",
    "            'gradingType',\n",
    "            'birthYear',\n",
    "            'exclClassCumGPA',\n",
    "            'Freshman',\n",
    "            'Junior',\n",
    "            'Sophomore',\n",
    "            'Senior',\n",
    "            'termCreditsGPA',\n",
    "            'termCreditsNoGPA',\n",
    "            'athlete_1',\n",
    "            'honorsPro',\n",
    "            'LSA', 'programBusiness', 'programEngineering', \n",
    "            'programInformation', 'programOther',\n",
    "            'HSCalculusTaken', \n",
    "            'highSchoolGPA', \n",
    "            'majorsCount', 'minorsCount',\n",
    "            'PREV_TERM_CUM_GPA',\n",
    "            'classGraded', 'classHonors', \n",
    "            'Pass_Fail', \n",
    "            'parentsGraduateEdu',  'minorityGroup', \n",
    "            'q',\n",
    "            'available_flashcards', \n",
    "            'start_practice', \n",
    "            'end_practice',\n",
    "            'days_offset']"
   ]
  },
  {
   "cell_type": "code",
   "execution_count": 6,
   "metadata": {
    "execution": {
     "iopub.execute_input": "2021-07-26T22:47:15.297342Z",
     "iopub.status.busy": "2021-07-26T22:47:15.296845Z",
     "iopub.status.idle": "2021-07-26T22:47:15.782433Z",
     "shell.execute_reply": "2021-07-26T22:47:15.781540Z",
     "shell.execute_reply.started": "2021-07-26T22:47:15.297306Z"
    },
    "id": "Mn341X7lSztl"
   },
   "outputs": [],
   "source": [
    "dataframe['available_flashcards'] = dataframe[\"day's_available_flashcards\"][:]\n",
    "dataframe = dataframe.drop([\"day's_available_flashcards\"], axis=1)\n",
    "dataframe['user_id'] = dataframe[\"user_id.x\"][:]\n",
    "dataframe = dataframe.drop([\"user_id.x\"], axis=1)"
   ]
  },
  {
   "cell_type": "code",
   "execution_count": 7,
   "metadata": {
    "execution": {
     "iopub.execute_input": "2021-07-26T22:47:15.785748Z",
     "iopub.status.busy": "2021-07-26T22:47:15.785366Z",
     "iopub.status.idle": "2021-07-26T22:47:16.239816Z",
     "shell.execute_reply": "2021-07-26T22:47:16.238789Z",
     "shell.execute_reply.started": "2021-07-26T22:47:15.785708Z"
    },
    "id": "-_BRggOjbBjN",
    "outputId": "42bff7db-08dd-48dc-a73a-d048508053b7"
   },
   "outputs": [
    {
     "data": {
      "text/plain": [
       "102"
      ]
     },
     "execution_count": 7,
     "metadata": {},
     "output_type": "execute_result"
    }
   ],
   "source": [
    "gc.collect()"
   ]
  },
  {
   "cell_type": "code",
   "execution_count": 8,
   "metadata": {
    "execution": {
     "iopub.execute_input": "2021-07-26T22:47:16.243530Z",
     "iopub.status.busy": "2021-07-26T22:47:16.243215Z",
     "iopub.status.idle": "2021-07-26T22:47:16.585842Z",
     "shell.execute_reply": "2021-07-26T22:47:16.584806Z",
     "shell.execute_reply.started": "2021-07-26T22:47:16.243489Z"
    },
    "id": "lXM7MlonVeRL",
    "outputId": "d29ccec0-522f-4e3c-e0b2-39b2e1eaef74"
   },
   "outputs": [
    {
     "data": {
      "text/plain": [
       "20"
      ]
     },
     "execution_count": 8,
     "metadata": {},
     "output_type": "execute_result"
    }
   ],
   "source": [
    "dataframe = dataframe[FEATURES]\n",
    "gc.collect()"
   ]
  },
  {
   "cell_type": "code",
   "execution_count": 9,
   "metadata": {
    "execution": {
     "iopub.execute_input": "2021-07-26T22:47:16.587801Z",
     "iopub.status.busy": "2021-07-26T22:47:16.587415Z",
     "iopub.status.idle": "2021-07-26T22:47:18.002071Z",
     "shell.execute_reply": "2021-07-26T22:47:18.001139Z",
     "shell.execute_reply.started": "2021-07-26T22:47:16.587759Z"
    },
    "id": "qRKqF_0IXZgj"
   },
   "outputs": [],
   "source": [
    "#label encode term, chapter_label, question_name, sub_chapter_label columns\n",
    "dataframe['term'] = dataframe['term'].astype('category')\n",
    "dataframe['user_id'] = dataframe['user_id'].astype(int)\n",
    "dataframe['user_id'] = dataframe['user_id'].astype(str)\n",
    "dataframe['user_id'] = dataframe['term'].str.cat(dataframe['user_id'], sep=':')\n",
    "dataframe['user_id'] = dataframe['user_id'].astype('category')\n",
    "dataframe['chapter_label'] = dataframe['chapter_label'].astype('category')\n",
    "dataframe['sub_chapter_label'] = dataframe['sub_chapter_label'].astype('category')\n",
    "dataframe['question_name'] = dataframe['question_name'].astype('category')\n"
   ]
  },
  {
   "cell_type": "code",
   "execution_count": 10,
   "metadata": {
    "execution": {
     "iopub.execute_input": "2021-07-26T22:47:18.003826Z",
     "iopub.status.busy": "2021-07-26T22:47:18.003435Z",
     "iopub.status.idle": "2021-07-26T22:47:18.489636Z",
     "shell.execute_reply": "2021-07-26T22:47:18.488721Z",
     "shell.execute_reply.started": "2021-07-26T22:47:18.003789Z"
    },
    "id": "eVl_067GWkDe"
   },
   "outputs": [],
   "source": [
    "#calculate time_lag and prev_time_elapsed\n",
    "dataframe['prev_time_elapsed'] = None\n",
    "dataframe['time_lag'] = None\n",
    "dataframe['time_lag'] = dataframe['time_lag'].astype(np.float)\n",
    "dataframe['prev_time_elapsed'] = dataframe['prev_time_elapsed'].astype(np.float)\n",
    "dataframe.start_practice = pd.to_datetime(dataframe.start_practice, format='%Y-%m-%d %H:%M:%S')\n",
    "dataframe.end_practice = pd.to_datetime(dataframe.end_practice, format='%Y-%m-%d %H:%M:%S')"
   ]
  },
  {
   "cell_type": "code",
   "execution_count": 11,
   "metadata": {
    "execution": {
     "iopub.execute_input": "2021-07-26T22:47:18.491351Z",
     "iopub.status.busy": "2021-07-26T22:47:18.490969Z",
     "iopub.status.idle": "2021-07-26T22:47:18.513271Z",
     "shell.execute_reply": "2021-07-26T22:47:18.512496Z",
     "shell.execute_reply.started": "2021-07-26T22:47:18.491313Z"
    }
   },
   "outputs": [],
   "source": [
    "dataframe['dif'] = dataframe.end_practice - dataframe.start_practice\n",
    "dataframe['dif'] = dataframe['dif'] /np.timedelta64(1, 's')\n",
    "dataframe['answer_correct'] = np.where((dataframe['q']==5) & (dataframe['dif'] <= 60), 1, 0)"
   ]
  },
  {
   "cell_type": "code",
   "execution_count": 13,
   "metadata": {
    "execution": {
     "iopub.execute_input": "2021-07-26T22:47:36.771078Z",
     "iopub.status.busy": "2021-07-26T22:47:36.770651Z",
     "iopub.status.idle": "2021-07-26T22:47:36.845291Z",
     "shell.execute_reply": "2021-07-26T22:47:36.844418Z",
     "shell.execute_reply.started": "2021-07-26T22:47:36.771033Z"
    },
    "id": "8t8yZ0XvWwzz"
   },
   "outputs": [],
   "source": [
    "#drop column end_practice\n",
    "dataframe.drop(columns=['end_practice'], inplace=True)"
   ]
  },
  {
   "cell_type": "code",
   "execution_count": 14,
   "metadata": {
    "execution": {
     "iopub.execute_input": "2021-07-26T22:47:36.847123Z",
     "iopub.status.busy": "2021-07-26T22:47:36.846681Z",
     "iopub.status.idle": "2021-07-26T22:47:37.263544Z",
     "shell.execute_reply": "2021-07-26T22:47:37.262644Z",
     "shell.execute_reply.started": "2021-07-26T22:47:36.847016Z"
    },
    "id": "E42raRIrYYXz"
   },
   "outputs": [],
   "source": [
    "# calculate the age feature\n",
    "dataframe['term_value'] = [int(ele[3:]) for ele in dataframe['term']]\n",
    "dataframe['age'] = dataframe['term_value'] - dataframe['birthYear']"
   ]
  },
  {
   "cell_type": "code",
   "execution_count": 15,
   "metadata": {
    "execution": {
     "iopub.execute_input": "2021-07-26T22:47:37.265229Z",
     "iopub.status.busy": "2021-07-26T22:47:37.264842Z",
     "iopub.status.idle": "2021-07-26T22:47:37.453946Z",
     "shell.execute_reply": "2021-07-26T22:47:37.453069Z",
     "shell.execute_reply.started": "2021-07-26T22:47:37.265193Z"
    },
    "id": "pcMVQXueYnMh"
   },
   "outputs": [],
   "source": [
    "# drop term_value and birthYear column\n",
    "dataframe.drop(columns=['term_value', 'birthYear'], inplace=True)"
   ]
  },
  {
   "cell_type": "code",
   "execution_count": 16,
   "metadata": {
    "execution": {
     "iopub.execute_input": "2021-07-26T22:47:37.455860Z",
     "iopub.status.busy": "2021-07-26T22:47:37.455326Z",
     "iopub.status.idle": "2021-07-26T22:47:37.903150Z",
     "shell.execute_reply": "2021-07-26T22:47:37.902224Z",
     "shell.execute_reply.started": "2021-07-26T22:47:37.455821Z"
    },
    "id": "hjRF5szkcQE0"
   },
   "outputs": [],
   "source": [
    "# convert minors_count to int value\n",
    "new_minors_count = []\n",
    "for i in dataframe['minorsCount']:\n",
    "  if i == 0 or i == '0':\n",
    "    new_minors_count.append(0)\n",
    "  elif i == '1 Minor':\n",
    "    new_minors_count.append(1)\n",
    "  else:\n",
    "    new_minors_count.append(2)\n",
    "\n",
    "dataframe['minorsCount'] = new_minors_count"
   ]
  },
  {
   "cell_type": "code",
   "execution_count": 17,
   "metadata": {
    "execution": {
     "iopub.execute_input": "2021-07-26T22:47:37.905015Z",
     "iopub.status.busy": "2021-07-26T22:47:37.904608Z",
     "iopub.status.idle": "2021-07-26T22:47:37.921039Z",
     "shell.execute_reply": "2021-07-26T22:47:37.920080Z",
     "shell.execute_reply.started": "2021-07-26T22:47:37.904973Z"
    },
    "id": "9VdzvJSw0KUU",
    "outputId": "6393784f-234e-4935-9cee-cbcf56b5630a"
   },
   "outputs": [
    {
     "name": "stdout",
     "output_type": "stream",
     "text": [
      "we have  1110  users in total.\n"
     ]
    }
   ],
   "source": [
    "print(\"we have \", dataframe['user_id'].nunique(),\" users in total.\")"
   ]
  },
  {
   "cell_type": "code",
   "execution_count": 18,
   "metadata": {
    "execution": {
     "iopub.execute_input": "2021-07-26T22:47:37.922738Z",
     "iopub.status.busy": "2021-07-26T22:47:37.922341Z",
     "iopub.status.idle": "2021-07-26T22:47:37.933033Z",
     "shell.execute_reply": "2021-07-26T22:47:37.932041Z",
     "shell.execute_reply.started": "2021-07-26T22:47:37.922698Z"
    },
    "id": "hUaGk9L9g13t"
   },
   "outputs": [],
   "source": [
    "for category in ['term','chapter_label', 'sub_chapter_label', 'question_name']:\n",
    "  dataframe[category] =  dataframe[category].cat.codes"
   ]
  },
  {
   "cell_type": "code",
   "execution_count": 19,
   "metadata": {
    "execution": {
     "iopub.execute_input": "2021-07-26T22:47:37.936677Z",
     "iopub.status.busy": "2021-07-26T22:47:37.936370Z",
     "iopub.status.idle": "2021-07-26T22:47:38.203345Z",
     "shell.execute_reply": "2021-07-26T22:47:38.202472Z",
     "shell.execute_reply.started": "2021-07-26T22:47:37.936652Z"
    },
    "id": "hkyvcYvlhliG"
   },
   "outputs": [],
   "source": [
    "NUMERIC_FEATURE =  ['age',\n",
    "            'exclClassCumGPA',\n",
    "            'termCreditsGPA',\n",
    "            'termCreditsNoGPA',\n",
    "            'highSchoolGPA', \n",
    "            'majorsCount', 'minorsCount',\n",
    "            'PREV_TERM_CUM_GPA',\n",
    "            'available_flashcards', \n",
    "            'days_offset', \n",
    "            'prev_time_elapsed',\n",
    "             'time_lag']\n",
    "# z-score normalize the numerical features\n",
    "for f in NUMERIC_FEATURE:\n",
    "  m = dataframe[f].mean()\n",
    "  std = dataframe[f].std()\n",
    "  dataframe[f] = (dataframe[f] - m)/std"
   ]
  },
  {
   "cell_type": "code",
   "execution_count": 20,
   "metadata": {
    "execution": {
     "iopub.execute_input": "2021-07-26T22:47:38.205502Z",
     "iopub.status.busy": "2021-07-26T22:47:38.205148Z",
     "iopub.status.idle": "2021-07-26T22:47:41.389737Z",
     "shell.execute_reply": "2021-07-26T22:47:41.388787Z",
     "shell.execute_reply.started": "2021-07-26T22:47:38.205463Z"
    },
    "id": "wo2OH-d5kWp1"
   },
   "outputs": [],
   "source": [
    "FEATURE_TRANS =  ['answer_correct', 'chapter_label', 'sub_chapter_label','question_name','user_id','term',\n",
    "                  'STDNT_SEX_CD', \n",
    "                    'White','Asian','NonWhiteOrAsian',\n",
    "            'STDNT_CTZN_STAT_CD', 'international', \n",
    "            'age',\n",
    "            'exclClassCumGPA',\n",
    "           'Freshman',\n",
    "            'Junior',\n",
    "            'Sophomore',\n",
    "            'Senior',\n",
    "            'termCreditsGPA',\n",
    "            'termCreditsNoGPA',\n",
    "            'athlete_1',\n",
    "            'honorsPro',\n",
    "            'LSA', 'programBusiness', 'programEngineering', \n",
    "            'programInformation', 'programOther',\n",
    "            'HSCalculusTaken', \n",
    "            'highSchoolGPA', \n",
    "            'majorsCount', 'minorsCount',\n",
    "            'PREV_TERM_CUM_GPA',\n",
    "            'classGraded', 'classHonors', \n",
    "            'Pass_Fail', \n",
    "            'parentsGraduateEdu',  'minorityGroup', \n",
    "            'available_flashcards', \n",
    "            'days_offset', 'prev_time_elapsed',\n",
    "             'time_lag']\n",
    "grouped_data = dataframe[FEATURE_TRANS].groupby(['user_id']).apply(lambda r: (\n",
    "                r['answer_correct'],\n",
    "                r['term'],\n",
    "                r['chapter_label'],\n",
    "                r['sub_chapter_label'],\n",
    "                r['question_name'],\n",
    "                np.array([r['STDNT_SEX_CD'],r['STDNT_CTZN_STAT_CD'], r['international'], \n",
    "                  r['White'],r['Asian'],r['NonWhiteOrAsian'],\n",
    "                 r['age'],r['exclClassCumGPA'],\n",
    "                r['Freshman'], r['Junior'], r['Sophomore'], r['Senior'],\n",
    "                r['termCreditsGPA'], r['termCreditsNoGPA'],\n",
    "                r['athlete_1'], r['honorsPro'],\n",
    "                r['LSA'], r['programBusiness'], r['programEngineering'], \n",
    "                r['programInformation'], r['programOther'],\n",
    "                r['HSCalculusTaken'],  r['highSchoolGPA'], \n",
    "                r['majorsCount'], r['minorsCount'],\n",
    "                r['PREV_TERM_CUM_GPA'], \n",
    "                r['parentsGraduateEdu'], r['minorityGroup'],\n",
    "                r['available_flashcards'],\n",
    "                r['days_offset'],\n",
    "                r['prev_time_elapsed'],\n",
    "                r['time_lag']\n",
    "              ]).transpose()\n",
    "                ))"
   ]
  },
  {
   "cell_type": "code",
   "execution_count": 21,
   "metadata": {
    "execution": {
     "iopub.execute_input": "2021-07-26T22:47:41.391682Z",
     "iopub.status.busy": "2021-07-26T22:47:41.391245Z",
     "iopub.status.idle": "2021-07-26T22:47:41.648647Z",
     "shell.execute_reply": "2021-07-26T22:47:41.647135Z",
     "shell.execute_reply.started": "2021-07-26T22:47:41.391638Z"
    },
    "id": "XXLqQnjrlp_4",
    "outputId": "c801da79-f0bf-4fe5-b19c-7c799fe01556"
   },
   "outputs": [
    {
     "data": {
      "text/plain": [
       "20"
      ]
     },
     "execution_count": 21,
     "metadata": {},
     "output_type": "execute_result"
    }
   ],
   "source": [
    "gc.collect()"
   ]
  },
  {
   "cell_type": "code",
   "execution_count": 22,
   "metadata": {
    "execution": {
     "iopub.execute_input": "2021-07-26T22:47:41.651346Z",
     "iopub.status.busy": "2021-07-26T22:47:41.650670Z",
     "iopub.status.idle": "2021-07-26T22:47:41.691633Z",
     "shell.execute_reply": "2021-07-26T22:47:41.690893Z",
     "shell.execute_reply.started": "2021-07-26T22:47:41.651300Z"
    },
    "id": "QYGQasdTrmP0"
   },
   "outputs": [],
   "source": [
    "# remove students who don't have make any interactions with the tool\n",
    "toRemove = []\n",
    "for index in grouped_data.index:\n",
    "  if len(grouped_data[index][0]) <= 10:\n",
    "    toRemove.append(index)\n",
    "grouped_data = grouped_data.drop(index=toRemove)"
   ]
  },
  {
   "cell_type": "code",
   "execution_count": 23,
   "metadata": {
    "execution": {
     "iopub.execute_input": "2021-07-26T22:47:41.693335Z",
     "iopub.status.busy": "2021-07-26T22:47:41.692882Z",
     "iopub.status.idle": "2021-07-26T22:47:41.697706Z",
     "shell.execute_reply": "2021-07-26T22:47:41.696609Z",
     "shell.execute_reply.started": "2021-07-26T22:47:41.693298Z"
    },
    "id": "9kZqV9siDyNb"
   },
   "outputs": [],
   "source": [
    "#SETTINGS -> can be modified at any time\n",
    "MAXLENGTH = 50\n",
    "EMBEDDING_DIM = 128\n",
    "DENSE_NEURON = 16\n",
    "GRU_NEURON = 32"
   ]
  },
  {
   "cell_type": "code",
   "execution_count": 24,
   "metadata": {
    "execution": {
     "iopub.execute_input": "2021-07-26T22:47:41.699397Z",
     "iopub.status.busy": "2021-07-26T22:47:41.699039Z",
     "iopub.status.idle": "2021-07-26T22:47:41.707036Z",
     "shell.execute_reply": "2021-07-26T22:47:41.706199Z",
     "shell.execute_reply.started": "2021-07-26T22:47:41.699362Z"
    },
    "id": "1MksD1JizpPn"
   },
   "outputs": [],
   "source": [
    "#FEATURES_SIZE = 38\n",
    "CHAPTER_SIZE = 38\n",
    "SUB_CHAPTER_SIZE = 223\n",
    "QUESTION_SIZE = 1069"
   ]
  },
  {
   "cell_type": "code",
   "execution_count": 25,
   "metadata": {
    "execution": {
     "iopub.execute_input": "2021-07-26T22:47:41.708840Z",
     "iopub.status.busy": "2021-07-26T22:47:41.708256Z",
     "iopub.status.idle": "2021-07-26T22:47:41.722992Z",
     "shell.execute_reply": "2021-07-26T22:47:41.722095Z",
     "shell.execute_reply.started": "2021-07-26T22:47:41.708801Z"
    }
   },
   "outputs": [
    {
     "data": {
      "text/plain": [
       "array([ 96,  88,  86,  28,  12,  82, 125,  32,  69,  33,  21, 115, 120,\n",
       "       119,  91,  73,  57,  77, 117,  40,  74,  41,  68,  92,  39,  47,\n",
       "       104,  53,  95,  49,  16,  50,  52,  55,   7,  15,  51, 103, 102,\n",
       "       100,  94, 108,  11,   6, 118,  18, 215,  46, 216, 141,  27,  90,\n",
       "       217, 105,  54, 218, 123,  17,  67,  63,  13, 101, 124, 219,  20,\n",
       "       122,  58,   3,  59,  64, 106,  93,  65,  66,   9,  44,  30, 139,\n",
       "        26,  25,   8, 138,   1,  14,   5,  85,  35,  34,  79, 220, 121,\n",
       "        36,  31,  24, 112, 109, 110,  70,  45,  10,  56,  60, 145,  61,\n",
       "       129, 144,  72,  71,  89,  87,  97,  62,   4,  38,  19, 150, 131,\n",
       "       130, 132, 149, 128, 137,  75,  99, 143, 107, 147, 151, 152, 153,\n",
       "       159, 157, 158, 156, 160, 161, 163, 164, 165, 166, 167, 168, 170,\n",
       "       171, 169, 172, 174, 173, 175, 177, 176, 180, 178, 181, 182, 187,\n",
       "       189, 190, 191, 195, 193, 192, 197, 198, 199, 202, 201, 200, 204,\n",
       "       203, 205, 207, 206, 208, 209, 210, 162, 183, 185, 184, 186, 194,\n",
       "       188, 211, 212, 213, 146, 179, 154, 155, 196,   2,  48,   0,  37,\n",
       "        78, 142, 111, 116,  76, 148, 134, 221,  23, 140,  42,  22,  83,\n",
       "       136,  43,  98, 113,  84, 127, 135, 214,  80, 133, 126,  81, 114,\n",
       "        29], dtype=int16)"
      ]
     },
     "execution_count": 25,
     "metadata": {},
     "output_type": "execute_result"
    }
   ],
   "source": [
    "dataframe['sub_chapter_label'].unique()"
   ]
  },
  {
   "cell_type": "code",
   "execution_count": 26,
   "metadata": {
    "execution": {
     "iopub.execute_input": "2021-07-26T22:47:41.724487Z",
     "iopub.status.busy": "2021-07-26T22:47:41.724146Z",
     "iopub.status.idle": "2021-07-26T22:47:41.738623Z",
     "shell.execute_reply": "2021-07-26T22:47:41.737328Z",
     "shell.execute_reply.started": "2021-07-26T22:47:41.724452Z"
    },
    "id": "mY3Thp6d0NaT"
   },
   "outputs": [],
   "source": [
    "#create dataset class\n",
    "#to prepare it for train, valid, and test sets\n",
    "from torch.utils.data import Dataset, DataLoader\n",
    "class SPACE_DATASET(Dataset):\n",
    "    def __init__(self, data, maxlength = 50):\n",
    "        super(SPACE_DATASET, self).__init__()\n",
    "        self.maxlength = maxlength\n",
    "        self.data = data\n",
    "        self.users = list()\n",
    "        for user in data.index:\n",
    "            self.users.append(user)\n",
    "\n",
    "    def __len__(self):\n",
    "        return len(self.users)\n",
    "    \n",
    "    def __getitem__(self, ix):\n",
    "        user = self.users[ix]\n",
    "        user = user\n",
    "        target, term, ch_label, sub_ch_label, ques_name, features = self.data[user]\n",
    "        \n",
    "        #0s should be used as padding values\n",
    "        ori_target = target.values \n",
    "        term = term.values\n",
    "        ch_label = ch_label.values + 1\n",
    "        sub_ch_label = sub_ch_label.values +1\n",
    "        ques_name = ques_name.values + 1\n",
    "        \n",
    "        n = len(ch_label)\n",
    "\n",
    "        # one hot for term\n",
    "        term_encode = [0]*7\n",
    "        term_encode[term[0]] = 1\n",
    "        shifted_target= []\n",
    "\n",
    "        \n",
    "        # get  user interaction informations in the previous MAXLEN interactions\n",
    "        if n > self.maxlength:\n",
    "          ch_label = ch_label[-self.maxlength:]\n",
    "          sub_ch_label = sub_ch_label[-self.maxlength:]\n",
    "          ques_name = ques_name[-self.maxlength:]\n",
    "          features = features[-self.maxlength:]\n",
    "          target = ori_target[-self.maxlength:]\n",
    "          shifted_target = ori_target[ (-self.maxlength - 1) :-1]\n",
    "        else:\n",
    "          ch_label = [0]*(self.maxlength - n)+list(ch_label[:])\n",
    "          sub_ch_label = [0]*(self.maxlength - n)+list(sub_ch_label[:])\n",
    "          ques_name = [0]*(self.maxlength - n)+list(ques_name[:])\n",
    "          features = [[0]*len(features[0])]*(self.maxlength  - n)+list(features[:])\n",
    "          target = [-1]*(self.maxlength - n) + list(ori_target[:])\n",
    "          shifted_target = [-1]*(self.maxlength + 1 - n) + list(ori_target[:-1])\n",
    "\n",
    "        new_features = []\n",
    "        count = 0\n",
    "        for f in features:\n",
    "          temp = list(f)\n",
    "          temp.extend(term_encode)\n",
    "          # temp.append(shifted_target[count]) #uncomment this line for include previous response feature\n",
    "          new_features.append(temp)\n",
    "          count += 1\n",
    "        features = new_features\n",
    "        return ch_label,sub_ch_label,ques_name,target"
   ]
  },
  {
   "cell_type": "code",
   "execution_count": 27,
   "metadata": {
    "execution": {
     "iopub.execute_input": "2021-07-26T22:47:41.740622Z",
     "iopub.status.busy": "2021-07-26T22:47:41.740133Z",
     "iopub.status.idle": "2021-07-26T22:47:41.752445Z",
     "shell.execute_reply": "2021-07-26T22:47:41.751596Z",
     "shell.execute_reply.started": "2021-07-26T22:47:41.740582Z"
    }
   },
   "outputs": [
    {
     "data": {
      "text/plain": [
       "223"
      ]
     },
     "execution_count": 27,
     "metadata": {},
     "output_type": "execute_result"
    }
   ],
   "source": [
    "SUB_CHAPTER_SIZE"
   ]
  },
  {
   "cell_type": "markdown",
   "metadata": {
    "id": "4xc90-aLzxat"
   },
   "source": [
    "## KFOLD - GRU\n"
   ]
  },
  {
   "cell_type": "code",
   "execution_count": 28,
   "metadata": {
    "execution": {
     "iopub.execute_input": "2021-07-26T22:47:41.754499Z",
     "iopub.status.busy": "2021-07-26T22:47:41.754089Z",
     "iopub.status.idle": "2021-07-26T22:51:32.859267Z",
     "shell.execute_reply": "2021-07-26T22:51:32.858332Z",
     "shell.execute_reply.started": "2021-07-26T22:47:41.754460Z"
    },
    "id": "gzJrljnjzypP",
    "outputId": "87abe488-b493-4f8f-9d71-45cb1d2ddf51"
   },
   "outputs": [
    {
     "name": "stdout",
     "output_type": "stream",
     "text": [
      "Epoch 1/100\n",
      "14/14 [==============================] - 8s 190ms/step - loss: 0.6303 - masked_acc: 0.6672 - masked_auc: 0.5456 - val_loss: 0.5711 - val_masked_acc: 0.6736 - val_masked_auc: 0.6711\n",
      "Epoch 2/100\n",
      "14/14 [==============================] - 1s 59ms/step - loss: 0.5290 - masked_acc: 0.6842 - masked_auc: 0.6969 - val_loss: 0.5594 - val_masked_acc: 0.7042 - val_masked_auc: 0.7285\n",
      "Epoch 3/100\n",
      "14/14 [==============================] - 1s 40ms/step - loss: 0.4963 - masked_acc: 0.7099 - masked_auc: 0.7384 - val_loss: 0.5636 - val_masked_acc: 0.7183 - val_masked_auc: 0.7510\n",
      "Epoch 4/100\n",
      "14/14 [==============================] - 1s 40ms/step - loss: 0.4893 - masked_acc: 0.7209 - masked_auc: 0.7563 - val_loss: 0.5514 - val_masked_acc: 0.7258 - val_masked_auc: 0.7645\n",
      "Epoch 5/100\n",
      "14/14 [==============================] - 1s 42ms/step - loss: 0.4839 - masked_acc: 0.7275 - masked_auc: 0.7676 - val_loss: 0.5667 - val_masked_acc: 0.7315 - val_masked_auc: 0.7744\n",
      "Epoch 6/100\n",
      "14/14 [==============================] - 1s 41ms/step - loss: 0.4723 - masked_acc: 0.7329 - masked_auc: 0.7773 - val_loss: 0.5730 - val_masked_acc: 0.7357 - val_masked_auc: 0.7821\n",
      "Epoch 7/100\n",
      "14/14 [==============================] - 1s 43ms/step - loss: 0.4556 - masked_acc: 0.7371 - masked_auc: 0.7846 - val_loss: 0.6000 - val_masked_acc: 0.7394 - val_masked_auc: 0.7884\n",
      "Epoch 8/100\n",
      "14/14 [==============================] - 1s 41ms/step - loss: 0.4515 - masked_acc: 0.7405 - masked_auc: 0.7903 - val_loss: 0.6011 - val_masked_acc: 0.7428 - val_masked_auc: 0.7939\n",
      "Epoch 9/100\n",
      "14/14 [==============================] - 1s 43ms/step - loss: 0.4379 - masked_acc: 0.7439 - masked_auc: 0.7959 - val_loss: 0.5817 - val_masked_acc: 0.7459 - val_masked_auc: 0.7992\n",
      "Epoch 10/100\n",
      "14/14 [==============================] - 1s 42ms/step - loss: 0.4310 - masked_acc: 0.7469 - masked_auc: 0.8010 - val_loss: 0.6093 - val_masked_acc: 0.7488 - val_masked_auc: 0.8042\n",
      "Epoch 11/100\n",
      "14/14 [==============================] - 1s 42ms/step - loss: 0.4079 - masked_acc: 0.7501 - masked_auc: 0.8063 - val_loss: 0.6335 - val_masked_acc: 0.7516 - val_masked_auc: 0.8089\n",
      "Epoch 12/100\n",
      "14/14 [==============================] - 1s 42ms/step - loss: 0.4061 - masked_acc: 0.7526 - masked_auc: 0.8106 - val_loss: 0.6448 - val_masked_acc: 0.7542 - val_masked_auc: 0.8133\n",
      "Epoch 13/100\n",
      "14/14 [==============================] - 1s 41ms/step - loss: 0.3904 - masked_acc: 0.7552 - masked_auc: 0.8150 - val_loss: 0.6849 - val_masked_acc: 0.7567 - val_masked_auc: 0.8173\n",
      "Epoch 14/100\n",
      "14/14 [==============================] - 1s 42ms/step - loss: 0.3877 - masked_acc: 0.7577 - masked_auc: 0.8188 - val_loss: 0.7029 - val_masked_acc: 0.7593 - val_masked_auc: 0.8212\n",
      "28/28 [==============================] - 0s 9ms/step - loss: 0.3732 - masked_acc: 0.7613 - masked_auc: 0.8243\n",
      "4/4 [==============================] - 1s 10ms/step - loss: 0.6606 - masked_acc: 0.7622 - masked_auc: 0.8258\n",
      "Test:  [0.6605664491653442, 0.7621641159057617, 0.8258285522460938]\n",
      "Epoch 1/100\n",
      "14/14 [==============================] - 8s 140ms/step - loss: 0.6322 - masked_acc: 0.5657 - masked_auc: 0.5313 - val_loss: 0.5562 - val_masked_acc: 0.6539 - val_masked_auc: 0.6718\n",
      "Epoch 2/100\n",
      "14/14 [==============================] - 1s 40ms/step - loss: 0.5351 - masked_acc: 0.6691 - masked_auc: 0.6994 - val_loss: 0.5276 - val_masked_acc: 0.6945 - val_masked_auc: 0.7298\n",
      "Epoch 3/100\n",
      "14/14 [==============================] - 1s 42ms/step - loss: 0.5176 - masked_acc: 0.7003 - masked_auc: 0.7377 - val_loss: 0.5262 - val_masked_acc: 0.7116 - val_masked_auc: 0.7505\n",
      "Epoch 4/100\n",
      "14/14 [==============================] - 1s 41ms/step - loss: 0.4949 - masked_acc: 0.7147 - masked_auc: 0.7554 - val_loss: 0.5273 - val_masked_acc: 0.7211 - val_masked_auc: 0.7639\n",
      "Epoch 5/100\n",
      "14/14 [==============================] - 1s 41ms/step - loss: 0.4897 - masked_acc: 0.7229 - masked_auc: 0.7669 - val_loss: 0.5319 - val_masked_acc: 0.7272 - val_masked_auc: 0.7728\n",
      "Epoch 6/100\n",
      "14/14 [==============================] - 1s 41ms/step - loss: 0.4818 - masked_acc: 0.7286 - masked_auc: 0.7756 - val_loss: 0.5281 - val_masked_acc: 0.7318 - val_masked_auc: 0.7806\n",
      "Epoch 7/100\n",
      "14/14 [==============================] - 1s 43ms/step - loss: 0.4707 - masked_acc: 0.7330 - masked_auc: 0.7829 - val_loss: 0.5299 - val_masked_acc: 0.7359 - val_masked_auc: 0.7873\n",
      "Epoch 8/100\n",
      "14/14 [==============================] - 1s 42ms/step - loss: 0.4506 - masked_acc: 0.7373 - masked_auc: 0.7895 - val_loss: 0.5618 - val_masked_acc: 0.7395 - val_masked_auc: 0.7929\n",
      "Epoch 9/100\n",
      "14/14 [==============================] - 1s 42ms/step - loss: 0.4466 - masked_acc: 0.7407 - masked_auc: 0.7948 - val_loss: 0.5613 - val_masked_acc: 0.7429 - val_masked_auc: 0.7980\n",
      "Epoch 10/100\n",
      "14/14 [==============================] - 1s 43ms/step - loss: 0.4495 - masked_acc: 0.7437 - masked_auc: 0.7995 - val_loss: 0.5523 - val_masked_acc: 0.7458 - val_masked_auc: 0.8024\n",
      "Epoch 11/100\n",
      "14/14 [==============================] - 1s 43ms/step - loss: 0.4331 - masked_acc: 0.7467 - masked_auc: 0.8040 - val_loss: 0.5925 - val_masked_acc: 0.7484 - val_masked_auc: 0.8064\n",
      "Epoch 12/100\n",
      "14/14 [==============================] - 1s 44ms/step - loss: 0.4256 - masked_acc: 0.7492 - masked_auc: 0.8078 - val_loss: 0.6206 - val_masked_acc: 0.7509 - val_masked_auc: 0.8103\n",
      "Epoch 13/100\n",
      "14/14 [==============================] - 1s 44ms/step - loss: 0.4063 - masked_acc: 0.7519 - masked_auc: 0.8119 - val_loss: 0.6253 - val_masked_acc: 0.7537 - val_masked_auc: 0.8143\n",
      "28/28 [==============================] - 0s 8ms/step - loss: 0.3919 - masked_acc: 0.7557 - masked_auc: 0.8176\n",
      "4/4 [==============================] - 1s 9ms/step - loss: 0.5645 - masked_acc: 0.7566 - masked_auc: 0.8193\n",
      "Test:  [0.5645148158073425, 0.7566492557525635, 0.8192526698112488]\n",
      "Epoch 1/100\n",
      "14/14 [==============================] - 8s 145ms/step - loss: 0.6333 - masked_acc: 0.5741 - masked_auc: 0.5432 - val_loss: 0.5745 - val_masked_acc: 0.6610 - val_masked_auc: 0.6623\n",
      "Epoch 2/100\n",
      "14/14 [==============================] - 1s 46ms/step - loss: 0.5268 - masked_acc: 0.6765 - masked_auc: 0.6911 - val_loss: 0.5606 - val_masked_acc: 0.6964 - val_masked_auc: 0.7248\n",
      "Epoch 3/100\n",
      "14/14 [==============================] - 1s 46ms/step - loss: 0.5082 - masked_acc: 0.7018 - masked_auc: 0.7328 - val_loss: 0.5523 - val_masked_acc: 0.7121 - val_masked_auc: 0.7475\n",
      "Epoch 4/100\n",
      "14/14 [==============================] - 1s 45ms/step - loss: 0.4934 - masked_acc: 0.7152 - masked_auc: 0.7527 - val_loss: 0.5483 - val_masked_acc: 0.7210 - val_masked_auc: 0.7617\n",
      "Epoch 5/100\n",
      "14/14 [==============================] - 1s 47ms/step - loss: 0.4853 - masked_acc: 0.7227 - masked_auc: 0.7652 - val_loss: 0.5483 - val_masked_acc: 0.7270 - val_masked_auc: 0.7721\n",
      "Epoch 6/100\n",
      "14/14 [==============================] - 1s 47ms/step - loss: 0.4709 - masked_acc: 0.7287 - masked_auc: 0.7752 - val_loss: 0.5574 - val_masked_acc: 0.7313 - val_masked_auc: 0.7798\n",
      "Epoch 7/100\n",
      "14/14 [==============================] - 1s 47ms/step - loss: 0.4693 - masked_acc: 0.7323 - masked_auc: 0.7819 - val_loss: 0.5536 - val_masked_acc: 0.7347 - val_masked_auc: 0.7860\n",
      "Epoch 8/100\n",
      "14/14 [==============================] - 1s 47ms/step - loss: 0.4617 - masked_acc: 0.7358 - masked_auc: 0.7880 - val_loss: 0.5720 - val_masked_acc: 0.7383 - val_masked_auc: 0.7917\n",
      "Epoch 9/100\n",
      "14/14 [==============================] - 1s 49ms/step - loss: 0.4475 - masked_acc: 0.7393 - masked_auc: 0.7935 - val_loss: 0.5748 - val_masked_acc: 0.7412 - val_masked_auc: 0.7966\n",
      "Epoch 10/100\n",
      "14/14 [==============================] - 1s 47ms/step - loss: 0.4281 - masked_acc: 0.7425 - masked_auc: 0.7985 - val_loss: 0.5848 - val_masked_acc: 0.7441 - val_masked_auc: 0.8011\n",
      "Epoch 11/100\n",
      "14/14 [==============================] - 1s 48ms/step - loss: 0.4281 - masked_acc: 0.7451 - masked_auc: 0.8027 - val_loss: 0.6039 - val_masked_acc: 0.7471 - val_masked_auc: 0.8056\n",
      "Epoch 12/100\n",
      "14/14 [==============================] - 1s 47ms/step - loss: 0.4216 - masked_acc: 0.7480 - masked_auc: 0.8071 - val_loss: 0.6320 - val_masked_acc: 0.7498 - val_masked_auc: 0.8098\n",
      "Epoch 13/100\n",
      "14/14 [==============================] - 1s 48ms/step - loss: 0.4034 - masked_acc: 0.7508 - masked_auc: 0.8113 - val_loss: 0.6287 - val_masked_acc: 0.7526 - val_masked_auc: 0.8139\n",
      "Epoch 14/100\n",
      "14/14 [==============================] - 1s 48ms/step - loss: 0.3987 - masked_acc: 0.7534 - masked_auc: 0.8154 - val_loss: 0.6399 - val_masked_acc: 0.7551 - val_masked_auc: 0.8178\n",
      "Epoch 15/100\n",
      "14/14 [==============================] - 1s 48ms/step - loss: 0.3859 - masked_acc: 0.7561 - masked_auc: 0.8193 - val_loss: 0.6744 - val_masked_acc: 0.7578 - val_masked_auc: 0.8217\n",
      "28/28 [==============================] - 0s 9ms/step - loss: 0.3725 - masked_acc: 0.7598 - masked_auc: 0.8245\n",
      "4/4 [==============================] - 1s 12ms/step - loss: 0.6459 - masked_acc: 0.7608 - masked_auc: 0.8261\n",
      "Test:  [0.6459187269210815, 0.7608093619346619, 0.8260756134986877]\n",
      "Epoch 1/100\n",
      "14/14 [==============================] - 8s 154ms/step - loss: 0.6312 - masked_acc: 0.6208 - masked_auc: 0.5433 - val_loss: 0.5341 - val_masked_acc: 0.6897 - val_masked_auc: 0.6825\n",
      "Epoch 2/100\n",
      "14/14 [==============================] - 1s 51ms/step - loss: 0.5301 - masked_acc: 0.6981 - masked_auc: 0.7050 - val_loss: 0.5189 - val_masked_acc: 0.7156 - val_masked_auc: 0.7353\n",
      "Epoch 3/100\n",
      "14/14 [==============================] - 1s 51ms/step - loss: 0.5066 - masked_acc: 0.7188 - masked_auc: 0.7426 - val_loss: 0.5144 - val_masked_acc: 0.7264 - val_masked_auc: 0.7559\n",
      "Epoch 4/100\n",
      "14/14 [==============================] - 1s 49ms/step - loss: 0.4885 - masked_acc: 0.7287 - masked_auc: 0.7606 - val_loss: 0.5258 - val_masked_acc: 0.7325 - val_masked_auc: 0.7680\n",
      "Epoch 5/100\n",
      "14/14 [==============================] - 1s 49ms/step - loss: 0.4766 - masked_acc: 0.7341 - masked_auc: 0.7717 - val_loss: 0.5187 - val_masked_acc: 0.7367 - val_masked_auc: 0.7771\n",
      "Epoch 6/100\n",
      "14/14 [==============================] - 1s 49ms/step - loss: 0.4726 - masked_acc: 0.7377 - masked_auc: 0.7798 - val_loss: 0.5197 - val_masked_acc: 0.7398 - val_masked_auc: 0.7844\n",
      "Epoch 7/100\n",
      "14/14 [==============================] - 1s 48ms/step - loss: 0.4694 - masked_acc: 0.7407 - masked_auc: 0.7866 - val_loss: 0.5246 - val_masked_acc: 0.7430 - val_masked_auc: 0.7910\n",
      "Epoch 8/100\n",
      "14/14 [==============================] - 1s 48ms/step - loss: 0.4572 - masked_acc: 0.7438 - masked_auc: 0.7930 - val_loss: 0.5363 - val_masked_acc: 0.7458 - val_masked_auc: 0.7968\n",
      "Epoch 9/100\n",
      "14/14 [==============================] - 1s 49ms/step - loss: 0.4471 - masked_acc: 0.7466 - masked_auc: 0.7985 - val_loss: 0.5455 - val_masked_acc: 0.7486 - val_masked_auc: 0.8022\n",
      "Epoch 10/100\n",
      "14/14 [==============================] - 1s 48ms/step - loss: 0.4267 - masked_acc: 0.7497 - masked_auc: 0.8041 - val_loss: 0.5470 - val_masked_acc: 0.7515 - val_masked_auc: 0.8073\n",
      "Epoch 11/100\n",
      "14/14 [==============================] - 1s 52ms/step - loss: 0.4283 - masked_acc: 0.7521 - masked_auc: 0.8089 - val_loss: 0.6054 - val_masked_acc: 0.7539 - val_masked_auc: 0.8118\n",
      "Epoch 12/100\n",
      "14/14 [==============================] - 1s 52ms/step - loss: 0.4126 - masked_acc: 0.7546 - masked_auc: 0.8133 - val_loss: 0.5700 - val_masked_acc: 0.7560 - val_masked_auc: 0.8156\n",
      "Epoch 13/100\n",
      "14/14 [==============================] - 1s 51ms/step - loss: 0.4058 - masked_acc: 0.7568 - masked_auc: 0.8171 - val_loss: 0.5951 - val_masked_acc: 0.7583 - val_masked_auc: 0.8195\n",
      "28/28 [==============================] - 0s 11ms/step - loss: 0.3903 - masked_acc: 0.7601 - masked_auc: 0.8225\n",
      "4/4 [==============================] - 0s 12ms/step - loss: 0.5709 - masked_acc: 0.7610 - masked_auc: 0.8240\n",
      "Test:  [0.5709193348884583, 0.7609665393829346, 0.8239883184432983]\n",
      "Epoch 1/100\n",
      "14/14 [==============================] - 8s 151ms/step - loss: 0.6360 - masked_acc: 0.5882 - masked_auc: 0.5505 - val_loss: 0.5844 - val_masked_acc: 0.6608 - val_masked_auc: 0.6599\n",
      "Epoch 2/100\n",
      "14/14 [==============================] - 1s 47ms/step - loss: 0.5384 - masked_acc: 0.6639 - masked_auc: 0.6845 - val_loss: 0.5333 - val_masked_acc: 0.6874 - val_masked_auc: 0.7206\n",
      "Epoch 3/100\n",
      "14/14 [==============================] - 1s 45ms/step - loss: 0.5060 - masked_acc: 0.6942 - masked_auc: 0.7301 - val_loss: 0.5311 - val_masked_acc: 0.7070 - val_masked_auc: 0.7458\n",
      "Epoch 4/100\n",
      "14/14 [==============================] - 1s 45ms/step - loss: 0.4892 - masked_acc: 0.7109 - masked_auc: 0.7508 - val_loss: 0.5391 - val_masked_acc: 0.7176 - val_masked_auc: 0.7603\n",
      "Epoch 5/100\n",
      "14/14 [==============================] - 1s 49ms/step - loss: 0.4948 - masked_acc: 0.7193 - masked_auc: 0.7632 - val_loss: 0.5500 - val_masked_acc: 0.7249 - val_masked_auc: 0.7707\n",
      "Epoch 6/100\n",
      "14/14 [==============================] - 1s 48ms/step - loss: 0.4776 - masked_acc: 0.7263 - masked_auc: 0.7734 - val_loss: 0.5376 - val_masked_acc: 0.7301 - val_masked_auc: 0.7788\n",
      "Epoch 7/100\n",
      "14/14 [==============================] - 1s 49ms/step - loss: 0.4599 - masked_acc: 0.7316 - masked_auc: 0.7814 - val_loss: 0.5347 - val_masked_acc: 0.7344 - val_masked_auc: 0.7858\n",
      "Epoch 8/100\n",
      "14/14 [==============================] - 1s 48ms/step - loss: 0.4561 - masked_acc: 0.7356 - masked_auc: 0.7879 - val_loss: 0.5452 - val_masked_acc: 0.7383 - val_masked_auc: 0.7920\n",
      "Epoch 9/100\n",
      "14/14 [==============================] - 1s 48ms/step - loss: 0.4503 - masked_acc: 0.7394 - masked_auc: 0.7939 - val_loss: 0.5559 - val_masked_acc: 0.7418 - val_masked_auc: 0.7975\n",
      "Epoch 10/100\n",
      "14/14 [==============================] - 1s 48ms/step - loss: 0.4387 - masked_acc: 0.7427 - masked_auc: 0.7992 - val_loss: 0.5535 - val_masked_acc: 0.7448 - val_masked_auc: 0.8027\n",
      "Epoch 11/100\n",
      "14/14 [==============================] - 1s 49ms/step - loss: 0.4259 - masked_acc: 0.7458 - masked_auc: 0.8044 - val_loss: 0.5597 - val_masked_acc: 0.7477 - val_masked_auc: 0.8071\n",
      "Epoch 12/100\n",
      "14/14 [==============================] - 1s 49ms/step - loss: 0.4117 - masked_acc: 0.7487 - masked_auc: 0.8087 - val_loss: 0.5910 - val_masked_acc: 0.7502 - val_masked_auc: 0.8112\n",
      "Epoch 13/100\n",
      "14/14 [==============================] - 1s 48ms/step - loss: 0.4068 - masked_acc: 0.7511 - masked_auc: 0.8127 - val_loss: 0.6045 - val_masked_acc: 0.7529 - val_masked_auc: 0.8154\n",
      "28/28 [==============================] - 0s 10ms/step - loss: 0.3924 - masked_acc: 0.7549 - masked_auc: 0.8184\n",
      "4/4 [==============================] - 0s 8ms/step - loss: 0.6257 - masked_acc: 0.7560 - masked_auc: 0.8199\n",
      "Test:  [0.6256683468818665, 0.7559846639633179, 0.8199394941329956]\n"
     ]
    }
   ],
   "source": [
    "# 5 fold cross validation\n",
    "#HERE WE ONLY USE\n",
    "#CHAPTER, SUB_CHAPTER\n",
    "#QUESTIONimport torch\n",
    "X = np.array(grouped_data.keys())\n",
    "kfold = KFold(n_splits=5, shuffle=True)\n",
    "train_losses = list()\n",
    "train_aucs = list()\n",
    "val_losses = list()\n",
    "val_aucs = list()\n",
    "train_eval = list()\n",
    "test_eval = list()\n",
    "for train, test in kfold.split(X):\n",
    "    users_train, users_test =  X[train], X[test]\n",
    "    n = len(users_test)//2\n",
    "    users_test, users_val = users_test[:n], users_test[n: ]\n",
    "    train_data_space = SPACE_DATASET(grouped_data[users_train], MAXLENGTH)\n",
    "    val_data_space = SPACE_DATASET(grouped_data[users_val], MAXLENGTH)\n",
    "    test_data_space = SPACE_DATASET(grouped_data[users_test], MAXLENGTH)\n",
    "    #construct training input\n",
    "    train_chapter=[]\n",
    "    train_sub_chapter=[]\n",
    "    train_question = []\n",
    "    train_features=[]\n",
    "    train_labels=[]\n",
    "    for i in range(len(users_train)):\n",
    "        user = train_data_space.__getitem__(i)\n",
    "        train_chapter.append(user[0])\n",
    "        train_sub_chapter.append(user[1]) \n",
    "        train_question.append(user[2])\n",
    "        #train_features.append(user[3])\n",
    "        train_labels.append(user[3])\n",
    "    train_chapter = np.array(train_chapter)\n",
    "    train_sub_chapter = np.array(train_sub_chapter)\n",
    "    train_question = np.array(train_question)\n",
    "    #train_features = np.array(train_features)\n",
    "    train_labels= np.array(train_labels)[..., np.newaxis]\n",
    "\n",
    "    #construct validation input\n",
    "    val_chapter=[]\n",
    "    val_sub_chapter=[]\n",
    "    val_question = []\n",
    "    #val_features=[]\n",
    "    val_labels=[]\n",
    "    for i in range(len(users_val)):\n",
    "        user = val_data_space.__getitem__(i)\n",
    "        val_chapter.append(user[0])\n",
    "        val_sub_chapter.append(user[1]) \n",
    "        val_question.append(user[2])\n",
    "        #val_features.append(user[3])\n",
    "        val_labels.append(user[3])\n",
    "    val_chapter = np.array(val_chapter)\n",
    "    val_sub_chapter = np.array(val_sub_chapter)\n",
    "    #val_features = np.array(val_features)\n",
    "    val_question = np.array(val_question)\n",
    "    val_labels= np.array(val_labels)[..., np.newaxis]\n",
    "\n",
    "    # construct test input\n",
    "    test_chapter=[]\n",
    "    test_sub_chapter=[]\n",
    "    #test_features=[]\n",
    "    test_question=[]\n",
    "    test_labels=[]\n",
    "    for i in range(len(users_test)):\n",
    "        user = test_data_space.__getitem__(i)\n",
    "        test_chapter.append(user[0])\n",
    "        test_sub_chapter.append(user[1]) \n",
    "        test_question.append(user[2])\n",
    "        #test_features.append(user[3])\n",
    "        test_labels.append(user[3])\n",
    "    test_chapter = np.array(test_chapter)\n",
    "    test_sub_chapter = np.array(test_sub_chapter)\n",
    "    #test_features = np.array(test_features)\n",
    "    test_question = np.array(test_question)\n",
    "    test_labels= np.array(test_labels)[..., np.newaxis]\n",
    "\n",
    "    # define loss function and evaluation metrics\n",
    "    bce = tf.keras.losses.BinaryCrossentropy(from_logits=True)\n",
    "    acc = tf.keras.metrics.Accuracy()\n",
    "    auc = tf.keras.metrics.AUC()\n",
    "\n",
    "    def masked_bce(y_true, y_pred):\n",
    "      flat_pred = y_pred\n",
    "      flat_ground_truth = y_true\n",
    "      label_mask = tf.math.not_equal(flat_ground_truth, -1)\n",
    "      return bce(flat_ground_truth, flat_pred, sample_weight=label_mask)\n",
    "\n",
    "    def masked_acc(y_true, y_pred):\n",
    "      flat_pred = y_pred\n",
    "      flat_ground_truth = y_true\n",
    "      flat_pred = (flat_pred >= 0.5)\n",
    "      label_mask = tf.math.not_equal(flat_ground_truth, -1)\n",
    "      return acc(flat_ground_truth, flat_pred, sample_weight=label_mask)\n",
    "\n",
    "    def masked_auc(y_true, y_pred):\n",
    "      flat_pred = y_pred\n",
    "      flat_ground_truth = y_true\n",
    "      label_mask = tf.math.not_equal(flat_ground_truth, -1)\n",
    "      return auc(flat_ground_truth, flat_pred, sample_weight=label_mask)\n",
    "\n",
    "    # input layer\n",
    "    input_chap = tf.keras.Input(shape=(MAXLENGTH))\n",
    "    input_sub_chap = tf.keras.Input(shape=(MAXLENGTH))\n",
    "    input_ques =  tf.keras.Input(shape=(MAXLENGTH))\n",
    "    #input_features = tf.keras.Input(shape=(MAXLENGTH, FEATURES_SIZE))\n",
    "\n",
    "    # embedding layer for categorical features\n",
    "    embedding_chap = Embedding(input_dim = CHAPTER_SIZE, output_dim = EMBEDDING_DIM)(input_chap)\n",
    "    embedding_sub_chap = Embedding(input_dim = SUB_CHAPTER_SIZE, output_dim = EMBEDDING_DIM)(input_sub_chap) \n",
    "    embedding_ques = Embedding(input_dim = QUESTION_SIZE, output_dim = EMBEDDING_DIM)(input_ques)       \n",
    "\n",
    "    # dense layer for numeric features\n",
    "    #dense_features = Dense(EMBEDDING_DIM,input_shape = (None, MAXLENGTH))(input_features)\n",
    "\n",
    "    # definr gru layers\n",
    "    gru_chap = GRU(GRU_NEURON, input_shape = (None, EMBEDDING_DIM),return_sequences = True)(embedding_chap)\n",
    "    gru_sub_chap = GRU(GRU_NEURON, input_shape = (None, EMBEDDING_DIM),return_sequences = True)(embedding_sub_chap)\n",
    "    gru_ques = GRU(GRU_NEURON, input_shape = (None, EMBEDDING_DIM),return_sequences = True)(embedding_ques)\n",
    "    #gru_features = GRU(GRU_NEURON, input_shape = (None, EMBEDDING_DIM),return_sequences = True)(dense_features)\n",
    "\n",
    "    gru_output = tf.concat([gru_chap, gru_sub_chap, gru_ques], axis = 2)\n",
    "\n",
    "    dense1 = Dense(256, input_shape = (None, 3*EMBEDDING_DIM), activation='relu')(gru_output)\n",
    "    dropout1 = Dropout(0.1)(dense1)\n",
    "    dense2 = Dense(64, input_shape = (None, 256), activation='relu')(dropout1)\n",
    "    dropout2 = Dropout(0.1)(dense2)\n",
    "    pred = Dense(1, input_shape = (None, 64), activation='sigmoid')(dropout2)\n",
    "\n",
    "    model = tf.keras.Model(\n",
    "        inputs=[input_chap, input_sub_chap,input_ques],\n",
    "        outputs=pred,\n",
    "        name='gru_model'\n",
    "    )\n",
    "\n",
    "    callback = tf.keras.callbacks.EarlyStopping(monitor='val_loss', patience=10)\n",
    "    opt_adam = Adam(learning_rate = 0.005)\n",
    "    model.compile(\n",
    "        optimizer=opt_adam,\n",
    "        loss= masked_bce,\n",
    "        metrics = [masked_acc, masked_auc]\n",
    "    )\n",
    "\n",
    "    history = model.fit(\n",
    "      [train_chapter, train_sub_chapter, train_question],\n",
    "      train_labels,\n",
    "      batch_size = 64,\n",
    "      epochs = 100,\n",
    "      validation_data=([val_chapter, val_sub_chapter, val_question], val_labels),\n",
    "      callbacks=[callback]\n",
    "    )\n",
    "    val_losses.append(list(history.history['val_loss']))\n",
    "    train_losses.append(list(history.history['loss']))\n",
    "    val_aucs.append(list(history.history['val_masked_auc']))\n",
    "    train_aucs.append(list(history.history['masked_auc']))\n",
    "    train_score = model.evaluate([train_chapter, train_sub_chapter, train_question], train_labels)\n",
    "    train_eval.append(train_score)\n",
    "    test_score = model.evaluate([test_chapter, test_sub_chapter, test_question], test_labels)\n",
    "    test_eval.append(test_score)\n",
    "    print(\"Test: \", test_score)\n",
    "    def reset_weights(model):\n",
    "      for layer in model.layers: \n",
    "        if isinstance(layer, tf.keras.Model):\n",
    "          reset_weights(layer)\n",
    "          continue\n",
    "        for k, initializer in layer.__dict__.items():\n",
    "          if \"initializer\" not in k:\n",
    "            continue\n",
    "          # find the corresponding variable\n",
    "          var = getattr(layer, k.replace(\"_initializer\", \"\"))\n",
    "          var.assign(initializer(var.shape, var.dtype))\n",
    "    reset_weights(model)"
   ]
  },
  {
   "cell_type": "code",
   "execution_count": 29,
   "metadata": {
    "execution": {
     "iopub.execute_input": "2021-07-26T22:51:32.862645Z",
     "iopub.status.busy": "2021-07-26T22:51:32.862318Z",
     "iopub.status.idle": "2021-07-26T22:51:32.872721Z",
     "shell.execute_reply": "2021-07-26T22:51:32.871876Z",
     "shell.execute_reply.started": "2021-07-26T22:51:32.862600Z"
    },
    "id": "QsVmumHMz3lx",
    "outputId": "4ff1e2fa-6abb-458e-c729-495b456f53e5"
   },
   "outputs": [
    {
     "name": "stdout",
     "output_type": "stream",
     "text": [
      "test avg loss:  0.6135175347328186 +/- 0.03905624900691461\n",
      "test avg acc:  0.7593147873878479 +/- 0.002501019458283345\n",
      "test avg auc:  0.8230169296264649 +/- 0.0028929094763503857\n"
     ]
    }
   ],
   "source": [
    "t_eval = np.array(test_eval)\n",
    "print(\"test avg loss: \", np.mean(t_eval[:, 0]), \"+/-\" ,np.std(t_eval[:, 0]))\n",
    "print(\"test avg acc: \", np.mean(t_eval[:, 1]),  \"+/-\" ,np.std(t_eval[:, 1]))\n",
    "print(\"test avg auc: \", np.mean(t_eval[:, 2]), \"+/-\" ,np.std(t_eval[:, 2]))"
   ]
  },
  {
   "cell_type": "code",
   "execution_count": 30,
   "metadata": {
    "execution": {
     "iopub.execute_input": "2021-07-26T22:51:32.875883Z",
     "iopub.status.busy": "2021-07-26T22:51:32.875622Z",
     "iopub.status.idle": "2021-07-26T22:51:32.887589Z",
     "shell.execute_reply": "2021-07-26T22:51:32.886608Z",
     "shell.execute_reply.started": "2021-07-26T22:51:32.875859Z"
    },
    "id": "b9MM_CXWz5K6",
    "outputId": "4cf88e1d-3a74-4e7d-f92c-d01522e91757"
   },
   "outputs": [
    {
     "name": "stdout",
     "output_type": "stream",
     "text": [
      "train avg loss:  0.3840778827667236 +/- 0.009196311456188159\n",
      "train avg acc:  0.7583666563034057 +/- 0.0025506716545367946\n",
      "train avg auc:  0.8214414477348327 +/- 0.00293029332880945\n"
     ]
    }
   ],
   "source": [
    "t_eval = np.array(train_eval)\n",
    "print(\"train avg loss: \", np.mean(t_eval[:, 0]), \"+/-\" ,np.std(t_eval[:, 0]))\n",
    "print(\"train avg acc: \", np.mean(t_eval[:, 1]),  \"+/-\" ,np.std(t_eval[:, 1]))\n",
    "print(\"train avg auc: \", np.mean(t_eval[:, 2]), \"+/-\" ,np.std(t_eval[:, 2]))"
   ]
  }
 ],
 "metadata": {
  "kernelspec": {
   "display_name": "Python 3",
   "language": "python",
   "name": "python3"
  },
  "language_info": {
   "codemirror_mode": {
    "name": "ipython",
    "version": 3
   },
   "file_extension": ".py",
   "mimetype": "text/x-python",
   "name": "python",
   "nbconvert_exporter": "python",
   "pygments_lexer": "ipython3",
   "version": "3.8.5"
  }
 },
 "nbformat": 4,
 "nbformat_minor": 4
}
