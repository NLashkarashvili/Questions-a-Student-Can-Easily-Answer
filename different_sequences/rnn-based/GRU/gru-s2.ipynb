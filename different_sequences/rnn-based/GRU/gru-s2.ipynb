{
 "cells": [
  {
   "cell_type": "code",
   "execution_count": 1,
   "metadata": {
    "execution": {
     "iopub.execute_input": "2021-07-26T22:47:09.608856Z",
     "iopub.status.busy": "2021-07-26T22:47:09.608375Z",
     "iopub.status.idle": "2021-07-26T22:47:09.615416Z",
     "shell.execute_reply": "2021-07-26T22:47:09.614433Z",
     "shell.execute_reply.started": "2021-07-26T22:47:09.608820Z"
    },
    "id": "farifxiKU1aB"
   },
   "outputs": [],
   "source": [
    "import numpy as np\n",
    "import pandas as pd\n",
    "import warnings\n",
    "import gc\n",
    "import tensorflow as tf\n",
    "from tensorflow import keras\n",
    "\n",
    "import random\n",
    "from random import choice\n",
    "from tensorflow.keras.optimizers import Adam\n",
    "from tensorflow.keras.models import Sequential \n",
    "from tensorflow.keras.layers import Dense, GRU, Concatenate, Embedding, Flatten, Activation, Dropout\n",
    "from sklearn.model_selection import KFold\n",
    "from tensorflow.python.client import device_lib\n",
    "warnings.filterwarnings('ignore')\n",
    "import random"
   ]
  },
  {
   "cell_type": "code",
   "execution_count": 2,
   "metadata": {
    "execution": {
     "iopub.execute_input": "2021-07-26T22:47:09.617504Z",
     "iopub.status.busy": "2021-07-26T22:47:09.616982Z",
     "iopub.status.idle": "2021-07-26T22:47:09.624642Z",
     "shell.execute_reply": "2021-07-26T22:47:09.623490Z",
     "shell.execute_reply.started": "2021-07-26T22:47:09.617465Z"
    },
    "id": "QOson70GPOXb"
   },
   "outputs": [],
   "source": [
    "import gc"
   ]
  },
  {
   "cell_type": "markdown",
   "metadata": {
    "id": "BQsVybBH3VPw"
   },
   "source": [
    "## Data Preprocessing"
   ]
  },
  {
   "cell_type": "code",
   "execution_count": 3,
   "metadata": {
    "execution": {
     "iopub.execute_input": "2021-07-26T22:47:09.627155Z",
     "iopub.status.busy": "2021-07-26T22:47:09.626729Z",
     "iopub.status.idle": "2021-07-26T22:47:14.032612Z",
     "shell.execute_reply": "2021-07-26T22:47:14.031725Z",
     "shell.execute_reply.started": "2021-07-26T22:47:09.627120Z"
    },
    "id": "rwtTusGxrmAE",
    "outputId": "1430f3cf-038b-485e-b5c4-c1686b1f34fd"
   },
   "outputs": [
    {
     "data": {
      "text/html": [
       "<div>\n",
       "<style scoped>\n",
       "    .dataframe tbody tr th:only-of-type {\n",
       "        vertical-align: middle;\n",
       "    }\n",
       "\n",
       "    .dataframe tbody tr th {\n",
       "        vertical-align: top;\n",
       "    }\n",
       "\n",
       "    .dataframe thead th {\n",
       "        text-align: right;\n",
       "    }\n",
       "</style>\n",
       "<table border=\"1\" class=\"dataframe\">\n",
       "  <thead>\n",
       "    <tr style=\"text-align: right;\">\n",
       "      <th></th>\n",
       "      <th>Unnamed: 0</th>\n",
       "      <th>chapter_label</th>\n",
       "      <th>sub_chapter_label</th>\n",
       "      <th>question_name</th>\n",
       "      <th>user_id.x</th>\n",
       "      <th>term</th>\n",
       "      <th>STDNT_SEX_CD</th>\n",
       "      <th>NonNativeEnglish</th>\n",
       "      <th>White</th>\n",
       "      <th>Asian</th>\n",
       "      <th>...</th>\n",
       "      <th>classGraded</th>\n",
       "      <th>classHonors</th>\n",
       "      <th>Pass_Fail</th>\n",
       "      <th>parentsGraduateEdu</th>\n",
       "      <th>minorityGroup</th>\n",
       "      <th>q</th>\n",
       "      <th>day's_available_flashcards</th>\n",
       "      <th>start_practice</th>\n",
       "      <th>end_practice</th>\n",
       "      <th>days_offset</th>\n",
       "    </tr>\n",
       "  </thead>\n",
       "  <tbody>\n",
       "    <tr>\n",
       "      <th>0</th>\n",
       "      <td>1</td>\n",
       "      <td>Sort</td>\n",
       "      <td>intro-SortingwithSortandSorted</td>\n",
       "      <td>ee_sort_04</td>\n",
       "      <td>148</td>\n",
       "      <td>WN 2018</td>\n",
       "      <td>1</td>\n",
       "      <td>0</td>\n",
       "      <td>1</td>\n",
       "      <td>0</td>\n",
       "      <td>...</td>\n",
       "      <td>1</td>\n",
       "      <td>0</td>\n",
       "      <td>0</td>\n",
       "      <td>0</td>\n",
       "      <td>0</td>\n",
       "      <td>0</td>\n",
       "      <td>18</td>\n",
       "      <td>2018/3/4 20:00</td>\n",
       "      <td>2018/3/4 20:00</td>\n",
       "      <td>45</td>\n",
       "    </tr>\n",
       "    <tr>\n",
       "      <th>1</th>\n",
       "      <td>2</td>\n",
       "      <td>Functions</td>\n",
       "      <td>Returningavaluefromafunction</td>\n",
       "      <td>test_questionfunctions_2_3</td>\n",
       "      <td>148</td>\n",
       "      <td>WN 2018</td>\n",
       "      <td>1</td>\n",
       "      <td>0</td>\n",
       "      <td>1</td>\n",
       "      <td>0</td>\n",
       "      <td>...</td>\n",
       "      <td>1</td>\n",
       "      <td>0</td>\n",
       "      <td>0</td>\n",
       "      <td>0</td>\n",
       "      <td>0</td>\n",
       "      <td>4</td>\n",
       "      <td>16</td>\n",
       "      <td>2018/2/10 11:57</td>\n",
       "      <td>2018/2/10 11:58</td>\n",
       "      <td>23</td>\n",
       "    </tr>\n",
       "    <tr>\n",
       "      <th>2</th>\n",
       "      <td>3</td>\n",
       "      <td>RESTAPIs</td>\n",
       "      <td>functionswithrestapis</td>\n",
       "      <td>test_question_functions_rest_apis_1</td>\n",
       "      <td>148</td>\n",
       "      <td>WN 2018</td>\n",
       "      <td>1</td>\n",
       "      <td>0</td>\n",
       "      <td>1</td>\n",
       "      <td>0</td>\n",
       "      <td>...</td>\n",
       "      <td>1</td>\n",
       "      <td>0</td>\n",
       "      <td>0</td>\n",
       "      <td>0</td>\n",
       "      <td>0</td>\n",
       "      <td>1</td>\n",
       "      <td>2</td>\n",
       "      <td>2018/3/12 17:03</td>\n",
       "      <td>2018/3/12 17:04</td>\n",
       "      <td>53</td>\n",
       "    </tr>\n",
       "    <tr>\n",
       "      <th>3</th>\n",
       "      <td>4</td>\n",
       "      <td>SimplePythonData</td>\n",
       "      <td>FunctionCalls</td>\n",
       "      <td>exercise_functionCalls_1</td>\n",
       "      <td>148</td>\n",
       "      <td>WN 2018</td>\n",
       "      <td>1</td>\n",
       "      <td>0</td>\n",
       "      <td>1</td>\n",
       "      <td>0</td>\n",
       "      <td>...</td>\n",
       "      <td>1</td>\n",
       "      <td>0</td>\n",
       "      <td>0</td>\n",
       "      <td>0</td>\n",
       "      <td>0</td>\n",
       "      <td>0</td>\n",
       "      <td>10</td>\n",
       "      <td>2018/1/30 14:15</td>\n",
       "      <td>2018/1/30 14:15</td>\n",
       "      <td>12</td>\n",
       "    </tr>\n",
       "    <tr>\n",
       "      <th>4</th>\n",
       "      <td>5</td>\n",
       "      <td>DictionaryAccumulation</td>\n",
       "      <td>AccumulatingaMaximumValue</td>\n",
       "      <td>ps_04_07</td>\n",
       "      <td>148</td>\n",
       "      <td>WN 2018</td>\n",
       "      <td>1</td>\n",
       "      <td>0</td>\n",
       "      <td>1</td>\n",
       "      <td>0</td>\n",
       "      <td>...</td>\n",
       "      <td>1</td>\n",
       "      <td>0</td>\n",
       "      <td>0</td>\n",
       "      <td>0</td>\n",
       "      <td>0</td>\n",
       "      <td>0</td>\n",
       "      <td>23</td>\n",
       "      <td>2018/3/3 14:04</td>\n",
       "      <td>2018/3/3 14:04</td>\n",
       "      <td>44</td>\n",
       "    </tr>\n",
       "  </tbody>\n",
       "</table>\n",
       "<p>5 rows × 48 columns</p>\n",
       "</div>"
      ],
      "text/plain": [
       "   Unnamed: 0           chapter_label               sub_chapter_label  \\\n",
       "0           1                    Sort  intro-SortingwithSortandSorted   \n",
       "1           2               Functions    Returningavaluefromafunction   \n",
       "2           3                RESTAPIs           functionswithrestapis   \n",
       "3           4        SimplePythonData                   FunctionCalls   \n",
       "4           5  DictionaryAccumulation       AccumulatingaMaximumValue   \n",
       "\n",
       "                         question_name  user_id.x     term  STDNT_SEX_CD  \\\n",
       "0                           ee_sort_04        148  WN 2018             1   \n",
       "1           test_questionfunctions_2_3        148  WN 2018             1   \n",
       "2  test_question_functions_rest_apis_1        148  WN 2018             1   \n",
       "3             exercise_functionCalls_1        148  WN 2018             1   \n",
       "4                             ps_04_07        148  WN 2018             1   \n",
       "\n",
       "   NonNativeEnglish  White  Asian  ...  classGraded  classHonors  Pass_Fail  \\\n",
       "0                 0      1      0  ...            1            0          0   \n",
       "1                 0      1      0  ...            1            0          0   \n",
       "2                 0      1      0  ...            1            0          0   \n",
       "3                 0      1      0  ...            1            0          0   \n",
       "4                 0      1      0  ...            1            0          0   \n",
       "\n",
       "   parentsGraduateEdu  minorityGroup  q  day's_available_flashcards  \\\n",
       "0                   0              0  0                          18   \n",
       "1                   0              0  4                          16   \n",
       "2                   0              0  1                           2   \n",
       "3                   0              0  0                          10   \n",
       "4                   0              0  0                          23   \n",
       "\n",
       "    start_practice     end_practice  days_offset  \n",
       "0   2018/3/4 20:00   2018/3/4 20:00           45  \n",
       "1  2018/2/10 11:57  2018/2/10 11:58           23  \n",
       "2  2018/3/12 17:03  2018/3/12 17:04           53  \n",
       "3  2018/1/30 14:15  2018/1/30 14:15           12  \n",
       "4   2018/3/3 14:04   2018/3/3 14:04           44  \n",
       "\n",
       "[5 rows x 48 columns]"
      ]
     },
     "execution_count": 3,
     "metadata": {},
     "output_type": "execute_result"
    }
   ],
   "source": [
    "# load the data\n",
    "import pandas as pd\n",
    "dataframe = pd.read_csv('Practice_Log_Demographics.csv', low_memory=False)\n",
    "dataframe.head()"
   ]
  },
  {
   "cell_type": "code",
   "execution_count": 4,
   "metadata": {
    "execution": {
     "iopub.execute_input": "2021-07-26T22:47:14.034657Z",
     "iopub.status.busy": "2021-07-26T22:47:14.034284Z",
     "iopub.status.idle": "2021-07-26T22:47:15.287357Z",
     "shell.execute_reply": "2021-07-26T22:47:15.286463Z",
     "shell.execute_reply.started": "2021-07-26T22:47:14.034618Z"
    },
    "id": "OCbHnEp_Vir0"
   },
   "outputs": [],
   "source": [
    "#sort data based on timestamp\n",
    "dataframe = dataframe.sort_values(by=['start_practice'])"
   ]
  },
  {
   "cell_type": "code",
   "execution_count": 5,
   "metadata": {
    "execution": {
     "iopub.execute_input": "2021-07-26T22:47:15.289269Z",
     "iopub.status.busy": "2021-07-26T22:47:15.288893Z",
     "iopub.status.idle": "2021-07-26T22:47:15.295499Z",
     "shell.execute_reply": "2021-07-26T22:47:15.294559Z",
     "shell.execute_reply.started": "2021-07-26T22:47:15.289231Z"
    },
    "id": "0RvF7BvEr98o"
   },
   "outputs": [],
   "source": [
    "FEATURES = ['chapter_label', 'sub_chapter_label','question_name','user_id','term',\n",
    "            'STDNT_SEX_CD', \n",
    "            'NonNativeEnglish',\n",
    "            'White',\n",
    "            'Asian',\n",
    "            'WhiteOrAsian',\n",
    "            'Hispanic',\n",
    "            'AfricanAmerican',\n",
    "            'OtherEthnicities',\n",
    "            'NonWhiteOrAsian',\n",
    "            'STDNT_CTZN_STAT_CD', 'international', \n",
    "            'gradingType',\n",
    "            'birthYear',\n",
    "            'exclClassCumGPA',\n",
    "            'Freshman',\n",
    "            'Junior',\n",
    "            'Sophomore',\n",
    "            'Senior',\n",
    "            'termCreditsGPA',\n",
    "            'termCreditsNoGPA',\n",
    "            'athlete_1',\n",
    "            'honorsPro',\n",
    "            'LSA', 'programBusiness', 'programEngineering', \n",
    "            'programInformation', 'programOther',\n",
    "            'HSCalculusTaken', \n",
    "            'highSchoolGPA', \n",
    "            'majorsCount', 'minorsCount',\n",
    "            'PREV_TERM_CUM_GPA',\n",
    "            'classGraded', 'classHonors', \n",
    "            'Pass_Fail', \n",
    "            'parentsGraduateEdu',  'minorityGroup', \n",
    "            'q',\n",
    "            'available_flashcards', \n",
    "            'start_practice', \n",
    "            'end_practice',\n",
    "            'days_offset']"
   ]
  },
  {
   "cell_type": "code",
   "execution_count": 6,
   "metadata": {
    "execution": {
     "iopub.execute_input": "2021-07-26T22:47:15.297342Z",
     "iopub.status.busy": "2021-07-26T22:47:15.296845Z",
     "iopub.status.idle": "2021-07-26T22:47:15.782433Z",
     "shell.execute_reply": "2021-07-26T22:47:15.781540Z",
     "shell.execute_reply.started": "2021-07-26T22:47:15.297306Z"
    },
    "id": "Mn341X7lSztl"
   },
   "outputs": [],
   "source": [
    "dataframe['available_flashcards'] = dataframe[\"day's_available_flashcards\"][:]\n",
    "dataframe = dataframe.drop([\"day's_available_flashcards\"], axis=1)\n",
    "dataframe['user_id'] = dataframe[\"user_id.x\"][:]\n",
    "dataframe = dataframe.drop([\"user_id.x\"], axis=1)"
   ]
  },
  {
   "cell_type": "code",
   "execution_count": 7,
   "metadata": {
    "execution": {
     "iopub.execute_input": "2021-07-26T22:47:15.785748Z",
     "iopub.status.busy": "2021-07-26T22:47:15.785366Z",
     "iopub.status.idle": "2021-07-26T22:47:16.239816Z",
     "shell.execute_reply": "2021-07-26T22:47:16.238789Z",
     "shell.execute_reply.started": "2021-07-26T22:47:15.785708Z"
    },
    "id": "-_BRggOjbBjN",
    "outputId": "42bff7db-08dd-48dc-a73a-d048508053b7"
   },
   "outputs": [
    {
     "data": {
      "text/plain": [
       "20"
      ]
     },
     "execution_count": 7,
     "metadata": {},
     "output_type": "execute_result"
    }
   ],
   "source": [
    "gc.collect()"
   ]
  },
  {
   "cell_type": "code",
   "execution_count": 8,
   "metadata": {
    "execution": {
     "iopub.execute_input": "2021-07-26T22:47:16.243530Z",
     "iopub.status.busy": "2021-07-26T22:47:16.243215Z",
     "iopub.status.idle": "2021-07-26T22:47:16.585842Z",
     "shell.execute_reply": "2021-07-26T22:47:16.584806Z",
     "shell.execute_reply.started": "2021-07-26T22:47:16.243489Z"
    },
    "id": "lXM7MlonVeRL",
    "outputId": "d29ccec0-522f-4e3c-e0b2-39b2e1eaef74"
   },
   "outputs": [
    {
     "data": {
      "text/plain": [
       "20"
      ]
     },
     "execution_count": 8,
     "metadata": {},
     "output_type": "execute_result"
    }
   ],
   "source": [
    "dataframe = dataframe[FEATURES]\n",
    "gc.collect()"
   ]
  },
  {
   "cell_type": "code",
   "execution_count": 9,
   "metadata": {
    "execution": {
     "iopub.execute_input": "2021-07-26T22:47:16.587801Z",
     "iopub.status.busy": "2021-07-26T22:47:16.587415Z",
     "iopub.status.idle": "2021-07-26T22:47:18.002071Z",
     "shell.execute_reply": "2021-07-26T22:47:18.001139Z",
     "shell.execute_reply.started": "2021-07-26T22:47:16.587759Z"
    },
    "id": "qRKqF_0IXZgj"
   },
   "outputs": [],
   "source": [
    "#label encode term, chapter_label, question_name, sub_chapter_label columns\n",
    "dataframe['term'] = dataframe['term'].astype('category')\n",
    "dataframe['user_id'] = dataframe['user_id'].astype(int)\n",
    "dataframe['user_id'] = dataframe['user_id'].astype(str)\n",
    "dataframe['user_id'] = dataframe['term'].str.cat(dataframe['user_id'], sep=':')\n",
    "dataframe['user_id'] = dataframe['user_id'].astype('category')\n",
    "dataframe['chapter_label'] = dataframe['chapter_label'].astype('category')\n",
    "dataframe['sub_chapter_label'] = dataframe['sub_chapter_label'].astype('category')\n",
    "dataframe['question_name'] = dataframe['question_name'].astype('category')\n"
   ]
  },
  {
   "cell_type": "code",
   "execution_count": 10,
   "metadata": {
    "execution": {
     "iopub.execute_input": "2021-07-26T22:47:18.003826Z",
     "iopub.status.busy": "2021-07-26T22:47:18.003435Z",
     "iopub.status.idle": "2021-07-26T22:47:18.489636Z",
     "shell.execute_reply": "2021-07-26T22:47:18.488721Z",
     "shell.execute_reply.started": "2021-07-26T22:47:18.003789Z"
    },
    "id": "eVl_067GWkDe"
   },
   "outputs": [],
   "source": [
    "#calculate time_lag and prev_time_elapsed\n",
    "dataframe['prev_time_elapsed'] = None\n",
    "dataframe['time_lag'] = None\n",
    "dataframe['time_lag'] = dataframe['time_lag'].astype(np.float)\n",
    "dataframe['prev_time_elapsed'] = dataframe['prev_time_elapsed'].astype(np.float)\n",
    "dataframe.start_practice = pd.to_datetime(dataframe.start_practice, format='%Y-%m-%d %H:%M:%S')\n",
    "dataframe.end_practice = pd.to_datetime(dataframe.end_practice, format='%Y-%m-%d %H:%M:%S')"
   ]
  },
  {
   "cell_type": "code",
   "execution_count": 11,
   "metadata": {
    "execution": {
     "iopub.execute_input": "2021-07-26T22:47:18.491351Z",
     "iopub.status.busy": "2021-07-26T22:47:18.490969Z",
     "iopub.status.idle": "2021-07-26T22:47:18.513271Z",
     "shell.execute_reply": "2021-07-26T22:47:18.512496Z",
     "shell.execute_reply.started": "2021-07-26T22:47:18.491313Z"
    }
   },
   "outputs": [],
   "source": [
    "dataframe['dif'] = dataframe.end_practice - dataframe.start_practice\n",
    "dataframe['dif'] = dataframe['dif'] /np.timedelta64(1, 's')\n",
    "dataframe['answer_correct'] = np.where((dataframe['q']==5) & (dataframe['dif'] <= 60), 1, 0)"
   ]
  },
  {
   "cell_type": "code",
   "execution_count": 13,
   "metadata": {
    "execution": {
     "iopub.execute_input": "2021-07-26T22:47:36.771078Z",
     "iopub.status.busy": "2021-07-26T22:47:36.770651Z",
     "iopub.status.idle": "2021-07-26T22:47:36.845291Z",
     "shell.execute_reply": "2021-07-26T22:47:36.844418Z",
     "shell.execute_reply.started": "2021-07-26T22:47:36.771033Z"
    },
    "id": "8t8yZ0XvWwzz"
   },
   "outputs": [],
   "source": [
    "#drop column end_practice\n",
    "dataframe.drop(columns=['end_practice'], inplace=True)"
   ]
  },
  {
   "cell_type": "code",
   "execution_count": 14,
   "metadata": {
    "execution": {
     "iopub.execute_input": "2021-07-26T22:47:36.847123Z",
     "iopub.status.busy": "2021-07-26T22:47:36.846681Z",
     "iopub.status.idle": "2021-07-26T22:47:37.263544Z",
     "shell.execute_reply": "2021-07-26T22:47:37.262644Z",
     "shell.execute_reply.started": "2021-07-26T22:47:36.847016Z"
    },
    "id": "E42raRIrYYXz"
   },
   "outputs": [],
   "source": [
    "# calculate the age feature\n",
    "dataframe['term_value'] = [int(ele[3:]) for ele in dataframe['term']]\n",
    "dataframe['age'] = dataframe['term_value'] - dataframe['birthYear']"
   ]
  },
  {
   "cell_type": "code",
   "execution_count": 15,
   "metadata": {
    "execution": {
     "iopub.execute_input": "2021-07-26T22:47:37.265229Z",
     "iopub.status.busy": "2021-07-26T22:47:37.264842Z",
     "iopub.status.idle": "2021-07-26T22:47:37.453946Z",
     "shell.execute_reply": "2021-07-26T22:47:37.453069Z",
     "shell.execute_reply.started": "2021-07-26T22:47:37.265193Z"
    },
    "id": "pcMVQXueYnMh"
   },
   "outputs": [],
   "source": [
    "# drop term_value and birthYear column\n",
    "dataframe.drop(columns=['term_value', 'birthYear'], inplace=True)"
   ]
  },
  {
   "cell_type": "code",
   "execution_count": 16,
   "metadata": {
    "execution": {
     "iopub.execute_input": "2021-07-26T22:47:37.455860Z",
     "iopub.status.busy": "2021-07-26T22:47:37.455326Z",
     "iopub.status.idle": "2021-07-26T22:47:37.903150Z",
     "shell.execute_reply": "2021-07-26T22:47:37.902224Z",
     "shell.execute_reply.started": "2021-07-26T22:47:37.455821Z"
    },
    "id": "hjRF5szkcQE0"
   },
   "outputs": [],
   "source": [
    "# convert minors_count to int value\n",
    "new_minors_count = []\n",
    "for i in dataframe['minorsCount']:\n",
    "  if i == 0 or i == '0':\n",
    "    new_minors_count.append(0)\n",
    "  elif i == '1 Minor':\n",
    "    new_minors_count.append(1)\n",
    "  else:\n",
    "    new_minors_count.append(2)\n",
    "\n",
    "dataframe['minorsCount'] = new_minors_count"
   ]
  },
  {
   "cell_type": "code",
   "execution_count": 17,
   "metadata": {
    "execution": {
     "iopub.execute_input": "2021-07-26T22:47:37.905015Z",
     "iopub.status.busy": "2021-07-26T22:47:37.904608Z",
     "iopub.status.idle": "2021-07-26T22:47:37.921039Z",
     "shell.execute_reply": "2021-07-26T22:47:37.920080Z",
     "shell.execute_reply.started": "2021-07-26T22:47:37.904973Z"
    },
    "id": "9VdzvJSw0KUU",
    "outputId": "6393784f-234e-4935-9cee-cbcf56b5630a"
   },
   "outputs": [
    {
     "name": "stdout",
     "output_type": "stream",
     "text": [
      "we have  1110  users in total.\n"
     ]
    }
   ],
   "source": [
    "print(\"we have \", dataframe['user_id'].nunique(),\" users in total.\")"
   ]
  },
  {
   "cell_type": "code",
   "execution_count": 18,
   "metadata": {
    "execution": {
     "iopub.execute_input": "2021-07-26T22:47:37.922738Z",
     "iopub.status.busy": "2021-07-26T22:47:37.922341Z",
     "iopub.status.idle": "2021-07-26T22:47:37.933033Z",
     "shell.execute_reply": "2021-07-26T22:47:37.932041Z",
     "shell.execute_reply.started": "2021-07-26T22:47:37.922698Z"
    },
    "id": "hUaGk9L9g13t"
   },
   "outputs": [],
   "source": [
    "for category in ['term','chapter_label', 'sub_chapter_label', 'question_name']:\n",
    "  dataframe[category] =  dataframe[category].cat.codes"
   ]
  },
  {
   "cell_type": "code",
   "execution_count": 19,
   "metadata": {
    "execution": {
     "iopub.execute_input": "2021-07-26T22:47:37.936677Z",
     "iopub.status.busy": "2021-07-26T22:47:37.936370Z",
     "iopub.status.idle": "2021-07-26T22:47:38.203345Z",
     "shell.execute_reply": "2021-07-26T22:47:38.202472Z",
     "shell.execute_reply.started": "2021-07-26T22:47:37.936652Z"
    },
    "id": "hkyvcYvlhliG"
   },
   "outputs": [],
   "source": [
    "NUMERIC_FEATURE =  ['age',\n",
    "            'exclClassCumGPA',\n",
    "            'termCreditsGPA',\n",
    "            'termCreditsNoGPA',\n",
    "            'highSchoolGPA', \n",
    "            'majorsCount', 'minorsCount',\n",
    "            'PREV_TERM_CUM_GPA',\n",
    "            'available_flashcards', \n",
    "            'days_offset', \n",
    "            'prev_time_elapsed',\n",
    "             'time_lag']\n",
    "# z-score normalize the numerical features\n",
    "for f in NUMERIC_FEATURE:\n",
    "  m = dataframe[f].mean()\n",
    "  std = dataframe[f].std()\n",
    "  dataframe[f] = (dataframe[f] - m)/std"
   ]
  },
  {
   "cell_type": "code",
   "execution_count": 20,
   "metadata": {
    "execution": {
     "iopub.execute_input": "2021-07-26T22:47:38.205502Z",
     "iopub.status.busy": "2021-07-26T22:47:38.205148Z",
     "iopub.status.idle": "2021-07-26T22:47:41.389737Z",
     "shell.execute_reply": "2021-07-26T22:47:41.388787Z",
     "shell.execute_reply.started": "2021-07-26T22:47:38.205463Z"
    },
    "id": "wo2OH-d5kWp1"
   },
   "outputs": [],
   "source": [
    "FEATURE_TRANS =  ['answer_correct', 'chapter_label', 'sub_chapter_label','question_name','user_id','term',\n",
    "                  'STDNT_SEX_CD', \n",
    "                    'White','Asian','NonWhiteOrAsian',\n",
    "            'STDNT_CTZN_STAT_CD', 'international', \n",
    "            'age',\n",
    "            'exclClassCumGPA',\n",
    "           'Freshman',\n",
    "            'Junior',\n",
    "            'Sophomore',\n",
    "            'Senior',\n",
    "            'termCreditsGPA',\n",
    "            'termCreditsNoGPA',\n",
    "            'athlete_1',\n",
    "            'honorsPro',\n",
    "            'LSA', 'programBusiness', 'programEngineering', \n",
    "            'programInformation', 'programOther',\n",
    "            'HSCalculusTaken', \n",
    "            'highSchoolGPA', \n",
    "            'majorsCount', 'minorsCount',\n",
    "            'PREV_TERM_CUM_GPA',\n",
    "            'classGraded', 'classHonors', \n",
    "            'Pass_Fail', \n",
    "            'parentsGraduateEdu',  'minorityGroup', \n",
    "            'available_flashcards', \n",
    "            'days_offset', 'prev_time_elapsed',\n",
    "             'time_lag']\n",
    "grouped_data = dataframe[FEATURE_TRANS].groupby(['user_id']).apply(lambda r: (\n",
    "                r['answer_correct'],\n",
    "                r['term'],\n",
    "                r['chapter_label'],\n",
    "                r['sub_chapter_label'],\n",
    "                r['question_name'],\n",
    "                np.array([r['STDNT_SEX_CD'],r['STDNT_CTZN_STAT_CD'], r['international'], \n",
    "                  r['White'],r['Asian'],r['NonWhiteOrAsian'],\n",
    "                 r['age'],r['exclClassCumGPA'],\n",
    "                r['Freshman'], r['Junior'], r['Sophomore'], r['Senior'],\n",
    "                r['termCreditsGPA'], r['termCreditsNoGPA'],\n",
    "                r['athlete_1'], r['honorsPro'],\n",
    "                r['LSA'], r['programBusiness'], r['programEngineering'], \n",
    "                r['programInformation'], r['programOther'],\n",
    "                r['HSCalculusTaken'],  r['highSchoolGPA'], \n",
    "                r['majorsCount'], r['minorsCount'],\n",
    "                r['PREV_TERM_CUM_GPA'], \n",
    "                r['parentsGraduateEdu'], r['minorityGroup'],\n",
    "                r['available_flashcards'],\n",
    "                r['days_offset'],\n",
    "                r['prev_time_elapsed'],\n",
    "                r['time_lag']\n",
    "              ]).transpose()\n",
    "                ))"
   ]
  },
  {
   "cell_type": "code",
   "execution_count": 21,
   "metadata": {
    "execution": {
     "iopub.execute_input": "2021-07-26T22:47:41.391682Z",
     "iopub.status.busy": "2021-07-26T22:47:41.391245Z",
     "iopub.status.idle": "2021-07-26T22:47:41.648647Z",
     "shell.execute_reply": "2021-07-26T22:47:41.647135Z",
     "shell.execute_reply.started": "2021-07-26T22:47:41.391638Z"
    },
    "id": "XXLqQnjrlp_4",
    "outputId": "c801da79-f0bf-4fe5-b19c-7c799fe01556"
   },
   "outputs": [
    {
     "data": {
      "text/plain": [
       "20"
      ]
     },
     "execution_count": 21,
     "metadata": {},
     "output_type": "execute_result"
    }
   ],
   "source": [
    "gc.collect()"
   ]
  },
  {
   "cell_type": "code",
   "execution_count": 22,
   "metadata": {
    "execution": {
     "iopub.execute_input": "2021-07-26T22:47:41.651346Z",
     "iopub.status.busy": "2021-07-26T22:47:41.650670Z",
     "iopub.status.idle": "2021-07-26T22:47:41.691633Z",
     "shell.execute_reply": "2021-07-26T22:47:41.690893Z",
     "shell.execute_reply.started": "2021-07-26T22:47:41.651300Z"
    },
    "id": "QYGQasdTrmP0"
   },
   "outputs": [],
   "source": [
    "# remove students who don't have make any interactions with the tool\n",
    "toRemove = []\n",
    "for index in grouped_data.index:\n",
    "  if len(grouped_data[index][0]) <= 10:\n",
    "    toRemove.append(index)\n",
    "grouped_data = grouped_data.drop(index=toRemove)"
   ]
  },
  {
   "cell_type": "code",
   "execution_count": 23,
   "metadata": {
    "execution": {
     "iopub.execute_input": "2021-07-26T22:47:41.693335Z",
     "iopub.status.busy": "2021-07-26T22:47:41.692882Z",
     "iopub.status.idle": "2021-07-26T22:47:41.697706Z",
     "shell.execute_reply": "2021-07-26T22:47:41.696609Z",
     "shell.execute_reply.started": "2021-07-26T22:47:41.693298Z"
    },
    "id": "9kZqV9siDyNb"
   },
   "outputs": [],
   "source": [
    "#SETTINGS -> can be modified at any time\n",
    "MAXLENGTH = 2\n",
    "EMBEDDING_DIM = 128\n",
    "DENSE_NEURON = 16\n",
    "GRU_NEURON = 32"
   ]
  },
  {
   "cell_type": "code",
   "execution_count": 24,
   "metadata": {
    "execution": {
     "iopub.execute_input": "2021-07-26T22:47:41.699397Z",
     "iopub.status.busy": "2021-07-26T22:47:41.699039Z",
     "iopub.status.idle": "2021-07-26T22:47:41.707036Z",
     "shell.execute_reply": "2021-07-26T22:47:41.706199Z",
     "shell.execute_reply.started": "2021-07-26T22:47:41.699362Z"
    },
    "id": "1MksD1JizpPn"
   },
   "outputs": [],
   "source": [
    "#FEATURES_SIZE = 38\n",
    "CHAPTER_SIZE = 38\n",
    "SUB_CHAPTER_SIZE = 223\n",
    "QUESTION_SIZE = 1069"
   ]
  },
  {
   "cell_type": "code",
   "execution_count": 25,
   "metadata": {
    "execution": {
     "iopub.execute_input": "2021-07-26T22:47:41.708840Z",
     "iopub.status.busy": "2021-07-26T22:47:41.708256Z",
     "iopub.status.idle": "2021-07-26T22:47:41.722992Z",
     "shell.execute_reply": "2021-07-26T22:47:41.722095Z",
     "shell.execute_reply.started": "2021-07-26T22:47:41.708801Z"
    }
   },
   "outputs": [
    {
     "data": {
      "text/plain": [
       "array([ 96,  88,  86,  28,  12,  82, 125,  32,  69,  33,  21, 115, 120,\n",
       "       119,  91,  73,  57,  77, 117,  40,  74,  41,  68,  92,  39,  47,\n",
       "       104,  53,  95,  49,  16,  50,  52,  55,   7,  15,  51, 103, 102,\n",
       "       100,  94, 108,  11,   6, 118,  18, 215,  46, 216, 141,  27,  90,\n",
       "       217, 105,  54, 218, 123,  17,  67,  63,  13, 101, 124, 219,  20,\n",
       "       122,  58,   3,  59,  64, 106,  93,  65,  66,   9,  44,  30, 139,\n",
       "        26,  25,   8, 138,   1,  14,   5,  85,  35,  34,  79, 220, 121,\n",
       "        36,  31,  24, 112, 109, 110,  70,  45,  10,  56,  60, 145,  61,\n",
       "       129, 144,  72,  71,  89,  87,  97,  62,   4,  38,  19, 150, 131,\n",
       "       130, 132, 149, 128, 137,  75,  99, 143, 107, 147, 151, 152, 153,\n",
       "       159, 157, 158, 156, 160, 161, 163, 164, 165, 166, 167, 168, 170,\n",
       "       171, 169, 172, 174, 173, 175, 177, 176, 180, 178, 181, 182, 187,\n",
       "       189, 190, 191, 195, 193, 192, 197, 198, 199, 202, 201, 200, 204,\n",
       "       203, 205, 207, 206, 208, 209, 210, 162, 183, 185, 184, 186, 194,\n",
       "       188, 211, 212, 213, 146, 179, 154, 155, 196,   2,  48,   0,  37,\n",
       "        78, 142, 111, 116,  76, 148, 134, 221,  23, 140,  42,  22,  83,\n",
       "       136,  43,  98, 113,  84, 127, 135, 214,  80, 133, 126,  81, 114,\n",
       "        29], dtype=int16)"
      ]
     },
     "execution_count": 25,
     "metadata": {},
     "output_type": "execute_result"
    }
   ],
   "source": [
    "dataframe['sub_chapter_label'].unique()"
   ]
  },
  {
   "cell_type": "code",
   "execution_count": 27,
   "metadata": {
    "execution": {
     "iopub.execute_input": "2021-07-26T22:47:41.724487Z",
     "iopub.status.busy": "2021-07-26T22:47:41.724146Z",
     "iopub.status.idle": "2021-07-26T22:47:41.738623Z",
     "shell.execute_reply": "2021-07-26T22:47:41.737328Z",
     "shell.execute_reply.started": "2021-07-26T22:47:41.724452Z"
    },
    "id": "mY3Thp6d0NaT"
   },
   "outputs": [],
   "source": [
    "#create dataset class\n",
    "#to prepare it for train, valid, and test sets\n",
    "from torch.utils.data import Dataset, DataLoader\n",
    "class SPACE_DATASET(Dataset):\n",
    "    def __init__(self, data, maxlength = 2):\n",
    "        super(SPACE_DATASET, self).__init__()\n",
    "        self.maxlength = maxlength\n",
    "        self.data = data\n",
    "        self.users = list()\n",
    "        for user in data.index:\n",
    "            self.users.append(user)\n",
    "\n",
    "    def __len__(self):\n",
    "        return len(self.users)\n",
    "    \n",
    "    def __getitem__(self, ix):\n",
    "        user = self.users[ix]\n",
    "        user = user\n",
    "        target, term, ch_label, sub_ch_label, ques_name, features = self.data[user]\n",
    "        \n",
    "        #0s should be used as padding values\n",
    "        ori_target = target.values \n",
    "        term = term.values\n",
    "        ch_label = ch_label.values + 1\n",
    "        sub_ch_label = sub_ch_label.values +1\n",
    "        ques_name = ques_name.values + 1\n",
    "        \n",
    "        n = len(ch_label)\n",
    "\n",
    "        # one hot for term\n",
    "        term_encode = [0]*7\n",
    "        term_encode[term[0]] = 1\n",
    "        shifted_target= []\n",
    "\n",
    "        \n",
    "        # get  user interaction informations in the previous MAXLEN interactions\n",
    "        if n > self.maxlength:\n",
    "          ch_label = ch_label[-self.maxlength:]\n",
    "          sub_ch_label = sub_ch_label[-self.maxlength:]\n",
    "          ques_name = ques_name[-self.maxlength:]\n",
    "          features = features[-self.maxlength:]\n",
    "          target = ori_target[-self.maxlength:]\n",
    "          shifted_target = ori_target[ (-self.maxlength - 1) :-1]\n",
    "        else:\n",
    "          ch_label = [0]*(self.maxlength - n)+list(ch_label[:])\n",
    "          sub_ch_label = [0]*(self.maxlength - n)+list(sub_ch_label[:])\n",
    "          ques_name = [0]*(self.maxlength - n)+list(ques_name[:])\n",
    "          features = [[0]*len(features[0])]*(self.maxlength  - n)+list(features[:])\n",
    "          target = [-1]*(self.maxlength - n) + list(ori_target[:])\n",
    "          shifted_target = [-1]*(self.maxlength + 1 - n) + list(ori_target[:-1])\n",
    "\n",
    "        new_features = []\n",
    "        count = 0\n",
    "        for f in features:\n",
    "          temp = list(f)\n",
    "          temp.extend(term_encode)\n",
    "          # temp.append(shifted_target[count]) #uncomment this line for include previous response feature\n",
    "          new_features.append(temp)\n",
    "          count += 1\n",
    "        features = new_features\n",
    "        return ch_label,sub_ch_label,ques_name,target"
   ]
  },
  {
   "cell_type": "code",
   "execution_count": 28,
   "metadata": {
    "execution": {
     "iopub.execute_input": "2021-07-26T22:47:41.740622Z",
     "iopub.status.busy": "2021-07-26T22:47:41.740133Z",
     "iopub.status.idle": "2021-07-26T22:47:41.752445Z",
     "shell.execute_reply": "2021-07-26T22:47:41.751596Z",
     "shell.execute_reply.started": "2021-07-26T22:47:41.740582Z"
    }
   },
   "outputs": [
    {
     "data": {
      "text/plain": [
       "223"
      ]
     },
     "execution_count": 28,
     "metadata": {},
     "output_type": "execute_result"
    }
   ],
   "source": [
    "SUB_CHAPTER_SIZE"
   ]
  },
  {
   "cell_type": "markdown",
   "metadata": {
    "id": "4xc90-aLzxat"
   },
   "source": [
    "## KFOLD - GRU\n"
   ]
  },
  {
   "cell_type": "code",
   "execution_count": 29,
   "metadata": {
    "execution": {
     "iopub.execute_input": "2021-07-26T22:47:41.754499Z",
     "iopub.status.busy": "2021-07-26T22:47:41.754089Z",
     "iopub.status.idle": "2021-07-26T22:51:32.859267Z",
     "shell.execute_reply": "2021-07-26T22:51:32.858332Z",
     "shell.execute_reply.started": "2021-07-26T22:47:41.754460Z"
    },
    "id": "gzJrljnjzypP",
    "outputId": "87abe488-b493-4f8f-9d71-45cb1d2ddf51"
   },
   "outputs": [
    {
     "name": "stdout",
     "output_type": "stream",
     "text": [
      "Epoch 1/100\n",
      "14/14 [==============================] - 8s 154ms/step - loss: 0.6675 - masked_acc: 0.5402 - masked_auc: 0.5123 - val_loss: 0.6641 - val_masked_acc: 0.6338 - val_masked_auc: 0.5713\n",
      "Epoch 2/100\n",
      "14/14 [==============================] - 0s 8ms/step - loss: 0.5253 - masked_acc: 0.6525 - masked_auc: 0.6298 - val_loss: 0.6884 - val_masked_acc: 0.6670 - val_masked_auc: 0.6843\n",
      "Epoch 3/100\n",
      "14/14 [==============================] - 0s 8ms/step - loss: 0.4795 - masked_acc: 0.6790 - masked_auc: 0.7032 - val_loss: 0.8426 - val_masked_acc: 0.6959 - val_masked_auc: 0.7342\n",
      "Epoch 4/100\n",
      "14/14 [==============================] - 0s 25ms/step - loss: 0.4248 - masked_acc: 0.7037 - masked_auc: 0.7463 - val_loss: 1.0093 - val_masked_acc: 0.7149 - val_masked_auc: 0.7644\n",
      "Epoch 5/100\n",
      "14/14 [==============================] - 0s 9ms/step - loss: 0.3775 - masked_acc: 0.7209 - masked_auc: 0.7733 - val_loss: 1.0494 - val_masked_acc: 0.7293 - val_masked_auc: 0.7865\n",
      "Epoch 6/100\n",
      "14/14 [==============================] - 0s 8ms/step - loss: 0.3378 - masked_acc: 0.7337 - masked_auc: 0.7942 - val_loss: 1.2440 - val_masked_acc: 0.7405 - val_masked_auc: 0.8043\n",
      "Epoch 7/100\n",
      "14/14 [==============================] - 0s 8ms/step - loss: 0.2795 - masked_acc: 0.7460 - masked_auc: 0.8119 - val_loss: 1.1974 - val_masked_acc: 0.7516 - val_masked_auc: 0.8196\n",
      "Epoch 8/100\n",
      "14/14 [==============================] - 0s 8ms/step - loss: 0.2875 - masked_acc: 0.7556 - masked_auc: 0.8245 - val_loss: 1.4707 - val_masked_acc: 0.7606 - val_masked_auc: 0.8310\n",
      "Epoch 9/100\n",
      "14/14 [==============================] - 0s 8ms/step - loss: 0.2615 - masked_acc: 0.7639 - masked_auc: 0.8353 - val_loss: 1.5980 - val_masked_acc: 0.7684 - val_masked_auc: 0.8409\n",
      "Epoch 10/100\n",
      "14/14 [==============================] - 0s 8ms/step - loss: 0.2582 - masked_acc: 0.7709 - masked_auc: 0.8441 - val_loss: 1.8053 - val_masked_acc: 0.7741 - val_masked_auc: 0.8489\n",
      "Epoch 11/100\n",
      "14/14 [==============================] - 0s 8ms/step - loss: 0.2330 - masked_acc: 0.7767 - masked_auc: 0.8519 - val_loss: 2.0738 - val_masked_acc: 0.7796 - val_masked_auc: 0.8558\n",
      "28/28 [==============================] - 0s 2ms/step - loss: 0.2277 - masked_acc: 0.7837 - masked_auc: 0.8608\n",
      "4/4 [==============================] - 0s 2ms/step - loss: 1.7809 - masked_acc: 0.7856 - masked_auc: 0.8632\n",
      "Test:  [1.7809151411056519, 0.7856136560440063, 0.8631929159164429]\n",
      "Epoch 1/100\n",
      "14/14 [==============================] - 7s 135ms/step - loss: 0.6610 - masked_acc: 0.5625 - masked_auc: 0.5517 - val_loss: 0.6664 - val_masked_acc: 0.6377 - val_masked_auc: 0.5850\n",
      "Epoch 2/100\n",
      "14/14 [==============================] - 0s 8ms/step - loss: 0.5647 - masked_acc: 0.6540 - masked_auc: 0.6342 - val_loss: 0.8759 - val_masked_acc: 0.6873 - val_masked_auc: 0.6928\n",
      "Epoch 3/100\n",
      "14/14 [==============================] - 0s 7ms/step - loss: 0.4422 - masked_acc: 0.6999 - masked_auc: 0.7150 - val_loss: 0.7242 - val_masked_acc: 0.7127 - val_masked_auc: 0.7400\n",
      "Epoch 4/100\n",
      "14/14 [==============================] - 0s 8ms/step - loss: 0.4213 - masked_acc: 0.7189 - masked_auc: 0.7526 - val_loss: 0.7997 - val_masked_acc: 0.7281 - val_masked_auc: 0.7693\n",
      "Epoch 5/100\n",
      "14/14 [==============================] - 0s 8ms/step - loss: 0.3952 - masked_acc: 0.7337 - masked_auc: 0.7778 - val_loss: 1.3728 - val_masked_acc: 0.7426 - val_masked_auc: 0.7911\n",
      "Epoch 6/100\n",
      "14/14 [==============================] - 0s 8ms/step - loss: 0.3396 - masked_acc: 0.7473 - masked_auc: 0.7983 - val_loss: 1.1346 - val_masked_acc: 0.7540 - val_masked_auc: 0.8084\n",
      "Epoch 7/100\n",
      "14/14 [==============================] - 0s 8ms/step - loss: 0.2996 - masked_acc: 0.7576 - masked_auc: 0.8144 - val_loss: 1.3886 - val_masked_acc: 0.7625 - val_masked_auc: 0.8226\n",
      "Epoch 8/100\n",
      "14/14 [==============================] - 0s 8ms/step - loss: 0.2846 - masked_acc: 0.7653 - masked_auc: 0.8276 - val_loss: 1.7450 - val_masked_acc: 0.7712 - val_masked_auc: 0.8341\n",
      "Epoch 9/100\n",
      "14/14 [==============================] - 0s 8ms/step - loss: 0.2588 - masked_acc: 0.7740 - masked_auc: 0.8381 - val_loss: 1.4307 - val_masked_acc: 0.7773 - val_masked_auc: 0.8434\n",
      "Epoch 10/100\n",
      "14/14 [==============================] - 0s 8ms/step - loss: 0.2687 - masked_acc: 0.7791 - masked_auc: 0.8464 - val_loss: 2.2631 - val_masked_acc: 0.7830 - val_masked_auc: 0.8510\n",
      "Epoch 11/100\n",
      "14/14 [==============================] - 0s 8ms/step - loss: 0.2480 - masked_acc: 0.7846 - masked_auc: 0.8536 - val_loss: 1.8404 - val_masked_acc: 0.7874 - val_masked_auc: 0.8574\n",
      "28/28 [==============================] - 0s 2ms/step - loss: 0.2318 - masked_acc: 0.7911 - masked_auc: 0.8622\n",
      "4/4 [==============================] - 0s 3ms/step - loss: 1.3752 - masked_acc: 0.7928 - masked_auc: 0.8646\n",
      "Test:  [1.3751654624938965, 0.7927811145782471, 0.8646224141120911]\n",
      "Epoch 1/100\n",
      "14/14 [==============================] - 8s 129ms/step - loss: 0.6633 - masked_acc: 0.5485 - masked_auc: 0.5266 - val_loss: 0.6803 - val_masked_acc: 0.6305 - val_masked_auc: 0.5699\n",
      "Epoch 2/100\n",
      "14/14 [==============================] - 0s 8ms/step - loss: 0.5238 - masked_acc: 0.6377 - masked_auc: 0.6276 - val_loss: 0.7020 - val_masked_acc: 0.6515 - val_masked_auc: 0.6849\n",
      "Epoch 3/100\n",
      "14/14 [==============================] - 0s 8ms/step - loss: 0.4813 - masked_acc: 0.6658 - masked_auc: 0.7065 - val_loss: 0.9535 - val_masked_acc: 0.6853 - val_masked_auc: 0.7349\n",
      "Epoch 4/100\n",
      "14/14 [==============================] - 0s 8ms/step - loss: 0.4136 - masked_acc: 0.6933 - masked_auc: 0.7472 - val_loss: 1.0453 - val_masked_acc: 0.7068 - val_masked_auc: 0.7649\n",
      "Epoch 5/100\n",
      "14/14 [==============================] - 0s 8ms/step - loss: 0.3557 - masked_acc: 0.7142 - masked_auc: 0.7754 - val_loss: 1.0558 - val_masked_acc: 0.7246 - val_masked_auc: 0.7889\n",
      "Epoch 6/100\n",
      "14/14 [==============================] - 0s 8ms/step - loss: 0.3380 - masked_acc: 0.7295 - masked_auc: 0.7963 - val_loss: 1.2993 - val_masked_acc: 0.7379 - val_masked_auc: 0.8062\n",
      "Epoch 7/100\n",
      "14/14 [==============================] - 0s 7ms/step - loss: 0.3137 - masked_acc: 0.7416 - masked_auc: 0.8114 - val_loss: 1.5640 - val_masked_acc: 0.7498 - val_masked_auc: 0.8208\n",
      "Epoch 8/100\n",
      "14/14 [==============================] - 0s 7ms/step - loss: 0.2865 - masked_acc: 0.7533 - masked_auc: 0.8252 - val_loss: 1.4922 - val_masked_acc: 0.7580 - val_masked_auc: 0.8315\n",
      "Epoch 9/100\n",
      "14/14 [==============================] - 0s 8ms/step - loss: 0.2689 - masked_acc: 0.7607 - masked_auc: 0.8356 - val_loss: 1.6935 - val_masked_acc: 0.7659 - val_masked_auc: 0.8413\n",
      "Epoch 10/100\n",
      "14/14 [==============================] - 0s 8ms/step - loss: 0.2533 - masked_acc: 0.7680 - masked_auc: 0.8444 - val_loss: 1.9030 - val_masked_acc: 0.7716 - val_masked_auc: 0.8491\n",
      "Epoch 11/100\n",
      "14/14 [==============================] - 0s 8ms/step - loss: 0.2370 - masked_acc: 0.7738 - masked_auc: 0.8518 - val_loss: 2.0612 - val_masked_acc: 0.7773 - val_masked_auc: 0.8557\n",
      "28/28 [==============================] - 0s 2ms/step - loss: 0.2278 - masked_acc: 0.7811 - masked_auc: 0.8603\n",
      "4/4 [==============================] - 0s 2ms/step - loss: 2.0101 - masked_acc: 0.7823 - masked_auc: 0.8623\n",
      "Test:  [2.0101158618927, 0.7822607755661011, 0.8623074889183044]\n",
      "Epoch 1/100\n",
      "14/14 [==============================] - 7s 105ms/step - loss: 0.6592 - masked_acc: 0.6021 - masked_auc: 0.5492 - val_loss: 0.6334 - val_masked_acc: 0.6457 - val_masked_auc: 0.6039\n",
      "Epoch 2/100\n",
      "14/14 [==============================] - 0s 9ms/step - loss: 0.5281 - masked_acc: 0.6666 - masked_auc: 0.6547 - val_loss: 0.6504 - val_masked_acc: 0.6885 - val_masked_auc: 0.7064\n",
      "Epoch 3/100\n",
      "14/14 [==============================] - 0s 9ms/step - loss: 0.4475 - masked_acc: 0.6998 - masked_auc: 0.7256 - val_loss: 0.8094 - val_masked_acc: 0.7126 - val_masked_auc: 0.7535\n",
      "Epoch 4/100\n",
      "14/14 [==============================] - 0s 8ms/step - loss: 0.3869 - masked_acc: 0.7207 - masked_auc: 0.7677 - val_loss: 0.7469 - val_masked_acc: 0.7291 - val_masked_auc: 0.7845\n",
      "Epoch 5/100\n",
      "14/14 [==============================] - 0s 9ms/step - loss: 0.3486 - masked_acc: 0.7359 - masked_auc: 0.7952 - val_loss: 0.9134 - val_masked_acc: 0.7444 - val_masked_auc: 0.8064\n",
      "Epoch 6/100\n",
      "14/14 [==============================] - 0s 9ms/step - loss: 0.3369 - masked_acc: 0.7486 - masked_auc: 0.8134 - val_loss: 1.0137 - val_masked_acc: 0.7551 - val_masked_auc: 0.8212\n",
      "Epoch 7/100\n",
      "14/14 [==============================] - 0s 9ms/step - loss: 0.3061 - masked_acc: 0.7590 - masked_auc: 0.8269 - val_loss: 0.9297 - val_masked_acc: 0.7640 - val_masked_auc: 0.8335\n",
      "Epoch 8/100\n",
      "14/14 [==============================] - 0s 9ms/step - loss: 0.2857 - masked_acc: 0.7673 - masked_auc: 0.8380 - val_loss: 1.3228 - val_masked_acc: 0.7723 - val_masked_auc: 0.8440\n",
      "Epoch 9/100\n",
      "14/14 [==============================] - 0s 9ms/step - loss: 0.2715 - masked_acc: 0.7751 - masked_auc: 0.8475 - val_loss: 1.3263 - val_masked_acc: 0.7791 - val_masked_auc: 0.8524\n",
      "Epoch 10/100\n",
      "14/14 [==============================] - 0s 9ms/step - loss: 0.2534 - masked_acc: 0.7815 - masked_auc: 0.8555 - val_loss: 1.4473 - val_masked_acc: 0.7843 - val_masked_auc: 0.8596\n",
      "Epoch 11/100\n",
      "14/14 [==============================] - 0s 9ms/step - loss: 0.2443 - masked_acc: 0.7863 - masked_auc: 0.8623 - val_loss: 1.5022 - val_masked_acc: 0.7892 - val_masked_auc: 0.8654\n",
      "28/28 [==============================] - 0s 2ms/step - loss: 0.2360 - masked_acc: 0.7928 - masked_auc: 0.8698\n",
      "4/4 [==============================] - 0s 2ms/step - loss: 1.7569 - masked_acc: 0.7940 - masked_auc: 0.8712\n",
      "Test:  [1.7568776607513428, 0.7940216064453125, 0.8712289929389954]\n",
      "Epoch 1/100\n",
      "14/14 [==============================] - 7s 108ms/step - loss: 0.6679 - masked_acc: 0.5675 - masked_auc: 0.5081 - val_loss: 0.6084 - val_masked_acc: 0.6334 - val_masked_auc: 0.5799\n",
      "Epoch 2/100\n",
      "14/14 [==============================] - 0s 9ms/step - loss: 0.5425 - masked_acc: 0.6497 - masked_auc: 0.6403 - val_loss: 0.7465 - val_masked_acc: 0.6719 - val_masked_auc: 0.6954\n",
      "Epoch 3/100\n",
      "14/14 [==============================] - 1s 42ms/step - loss: 0.4253 - masked_acc: 0.6848 - masked_auc: 0.7215 - val_loss: 0.7147 - val_masked_acc: 0.6972 - val_masked_auc: 0.7469\n",
      "Epoch 4/100\n",
      "14/14 [==============================] - 0s 10ms/step - loss: 0.4212 - masked_acc: 0.7041 - masked_auc: 0.7583 - val_loss: 0.9182 - val_masked_acc: 0.7169 - val_masked_auc: 0.7772\n",
      "Epoch 5/100\n",
      "14/14 [==============================] - 0s 9ms/step - loss: 0.3565 - masked_acc: 0.7238 - masked_auc: 0.7863 - val_loss: 0.8669 - val_masked_acc: 0.7334 - val_masked_auc: 0.7991\n",
      "Epoch 6/100\n",
      "14/14 [==============================] - 0s 10ms/step - loss: 0.3290 - masked_acc: 0.7379 - masked_auc: 0.8061 - val_loss: 1.0864 - val_masked_acc: 0.7447 - val_masked_auc: 0.8166\n",
      "Epoch 7/100\n",
      "14/14 [==============================] - 0s 9ms/step - loss: 0.2965 - masked_acc: 0.7484 - masked_auc: 0.8220 - val_loss: 1.2681 - val_masked_acc: 0.7544 - val_masked_auc: 0.8304\n",
      "Epoch 8/100\n",
      "14/14 [==============================] - 0s 10ms/step - loss: 0.2785 - masked_acc: 0.7572 - masked_auc: 0.8348 - val_loss: 1.1942 - val_masked_acc: 0.7626 - val_masked_auc: 0.8416\n",
      "Epoch 9/100\n",
      "14/14 [==============================] - 0s 9ms/step - loss: 0.2729 - masked_acc: 0.7649 - masked_auc: 0.8449 - val_loss: 1.4425 - val_masked_acc: 0.7693 - val_masked_auc: 0.8501\n",
      "Epoch 10/100\n",
      "14/14 [==============================] - 0s 9ms/step - loss: 0.2494 - masked_acc: 0.7714 - masked_auc: 0.8531 - val_loss: 1.6413 - val_masked_acc: 0.7751 - val_masked_auc: 0.8574\n",
      "Epoch 11/100\n",
      "14/14 [==============================] - 0s 8ms/step - loss: 0.2494 - masked_acc: 0.7769 - masked_auc: 0.8598 - val_loss: 1.8098 - val_masked_acc: 0.7806 - val_masked_auc: 0.8640\n",
      "28/28 [==============================] - 0s 2ms/step - loss: 0.2236 - masked_acc: 0.7842 - masked_auc: 0.8684\n",
      "4/4 [==============================] - 0s 2ms/step - loss: 2.0034 - masked_acc: 0.7859 - masked_auc: 0.8705\n",
      "Test:  [2.0033979415893555, 0.7858560085296631, 0.8705311417579651]\n"
     ]
    }
   ],
   "source": [
    "# 5 fold cross validation\n",
    "#HERE WE ONLY USE\n",
    "#CHAPTER, SUB_CHAPTER\n",
    "#QUESTIONimport torch\n",
    "X = np.array(grouped_data.keys())\n",
    "kfold = KFold(n_splits=5, shuffle=True)\n",
    "train_losses = list()\n",
    "train_aucs = list()\n",
    "val_losses = list()\n",
    "val_aucs = list()\n",
    "train_eval = list()\n",
    "test_eval = list()\n",
    "for train, test in kfold.split(X):\n",
    "    users_train, users_test =  X[train], X[test]\n",
    "    n = len(users_test)//2\n",
    "    users_test, users_val = users_test[:n], users_test[n: ]\n",
    "    train_data_space = SPACE_DATASET(grouped_data[users_train], MAXLENGTH)\n",
    "    val_data_space = SPACE_DATASET(grouped_data[users_val], MAXLENGTH)\n",
    "    test_data_space = SPACE_DATASET(grouped_data[users_test], MAXLENGTH)\n",
    "    #construct training input\n",
    "    train_chapter=[]\n",
    "    train_sub_chapter=[]\n",
    "    train_question = []\n",
    "    train_features=[]\n",
    "    train_labels=[]\n",
    "    for i in range(len(users_train)):\n",
    "        user = train_data_space.__getitem__(i)\n",
    "        train_chapter.append(user[0])\n",
    "        train_sub_chapter.append(user[1]) \n",
    "        train_question.append(user[2])\n",
    "        #train_features.append(user[3])\n",
    "        train_labels.append(user[3])\n",
    "    train_chapter = np.array(train_chapter)\n",
    "    train_sub_chapter = np.array(train_sub_chapter)\n",
    "    train_question = np.array(train_question)\n",
    "    #train_features = np.array(train_features)\n",
    "    train_labels= np.array(train_labels)[..., np.newaxis]\n",
    "\n",
    "    #construct validation input\n",
    "    val_chapter=[]\n",
    "    val_sub_chapter=[]\n",
    "    val_question = []\n",
    "    #val_features=[]\n",
    "    val_labels=[]\n",
    "    for i in range(len(users_val)):\n",
    "        user = val_data_space.__getitem__(i)\n",
    "        val_chapter.append(user[0])\n",
    "        val_sub_chapter.append(user[1]) \n",
    "        val_question.append(user[2])\n",
    "        #val_features.append(user[3])\n",
    "        val_labels.append(user[3])\n",
    "    val_chapter = np.array(val_chapter)\n",
    "    val_sub_chapter = np.array(val_sub_chapter)\n",
    "    #val_features = np.array(val_features)\n",
    "    val_question = np.array(val_question)\n",
    "    val_labels= np.array(val_labels)[..., np.newaxis]\n",
    "\n",
    "    # construct test input\n",
    "    test_chapter=[]\n",
    "    test_sub_chapter=[]\n",
    "    #test_features=[]\n",
    "    test_question=[]\n",
    "    test_labels=[]\n",
    "    for i in range(len(users_test)):\n",
    "        user = test_data_space.__getitem__(i)\n",
    "        test_chapter.append(user[0])\n",
    "        test_sub_chapter.append(user[1]) \n",
    "        test_question.append(user[2])\n",
    "        #test_features.append(user[3])\n",
    "        test_labels.append(user[3])\n",
    "    test_chapter = np.array(test_chapter)\n",
    "    test_sub_chapter = np.array(test_sub_chapter)\n",
    "    #test_features = np.array(test_features)\n",
    "    test_question = np.array(test_question)\n",
    "    test_labels= np.array(test_labels)[..., np.newaxis]\n",
    "\n",
    "    # define loss function and evaluation metrics\n",
    "    bce = tf.keras.losses.BinaryCrossentropy(from_logits=True)\n",
    "    acc = tf.keras.metrics.Accuracy()\n",
    "    auc = tf.keras.metrics.AUC()\n",
    "\n",
    "    def masked_bce(y_true, y_pred):\n",
    "      flat_pred = y_pred\n",
    "      flat_ground_truth = y_true\n",
    "      label_mask = tf.math.not_equal(flat_ground_truth, -1)\n",
    "      return bce(flat_ground_truth, flat_pred, sample_weight=label_mask)\n",
    "\n",
    "    def masked_acc(y_true, y_pred):\n",
    "      flat_pred = y_pred\n",
    "      flat_ground_truth = y_true\n",
    "      flat_pred = (flat_pred >= 0.5)\n",
    "      label_mask = tf.math.not_equal(flat_ground_truth, -1)\n",
    "      return acc(flat_ground_truth, flat_pred, sample_weight=label_mask)\n",
    "\n",
    "    def masked_auc(y_true, y_pred):\n",
    "      flat_pred = y_pred\n",
    "      flat_ground_truth = y_true\n",
    "      label_mask = tf.math.not_equal(flat_ground_truth, -1)\n",
    "      return auc(flat_ground_truth, flat_pred, sample_weight=label_mask)\n",
    "\n",
    "    # input layer\n",
    "    input_chap = tf.keras.Input(shape=(MAXLENGTH))\n",
    "    input_sub_chap = tf.keras.Input(shape=(MAXLENGTH))\n",
    "    input_ques =  tf.keras.Input(shape=(MAXLENGTH))\n",
    "    #input_features = tf.keras.Input(shape=(MAXLENGTH, FEATURES_SIZE))\n",
    "\n",
    "    # embedding layer for categorical features\n",
    "    embedding_chap = Embedding(input_dim = CHAPTER_SIZE, output_dim = EMBEDDING_DIM)(input_chap)\n",
    "    embedding_sub_chap = Embedding(input_dim = SUB_CHAPTER_SIZE, output_dim = EMBEDDING_DIM)(input_sub_chap) \n",
    "    embedding_ques = Embedding(input_dim = QUESTION_SIZE, output_dim = EMBEDDING_DIM)(input_ques)       \n",
    "\n",
    "    # dense layer for numeric features\n",
    "    #dense_features = Dense(EMBEDDING_DIM,input_shape = (None, MAXLENGTH))(input_features)\n",
    "\n",
    "    # definr gru layers\n",
    "    gru_chap = GRU(GRU_NEURON, input_shape = (None, EMBEDDING_DIM),return_sequences = True)(embedding_chap)\n",
    "    gru_sub_chap = GRU(GRU_NEURON, input_shape = (None, EMBEDDING_DIM),return_sequences = True)(embedding_sub_chap)\n",
    "    gru_ques = GRU(GRU_NEURON, input_shape = (None, EMBEDDING_DIM),return_sequences = True)(embedding_ques)\n",
    "    #gru_features = GRU(GRU_NEURON, input_shape = (None, EMBEDDING_DIM),return_sequences = True)(dense_features)\n",
    "\n",
    "    gru_output = tf.concat([gru_chap, gru_sub_chap, gru_ques], axis = 2)\n",
    "\n",
    "    dense1 = Dense(256, input_shape = (None, 3*EMBEDDING_DIM), activation='relu')(gru_output)\n",
    "    dropout1 = Dropout(0.1)(dense1)\n",
    "    dense2 = Dense(64, input_shape = (None, 256), activation='relu')(dropout1)\n",
    "    dropout2 = Dropout(0.1)(dense2)\n",
    "    pred = Dense(1, input_shape = (None, 64), activation='sigmoid')(dropout2)\n",
    "\n",
    "    model = tf.keras.Model(\n",
    "        inputs=[input_chap, input_sub_chap,input_ques],\n",
    "        outputs=pred,\n",
    "        name='gru_model'\n",
    "    )\n",
    "\n",
    "    callback = tf.keras.callbacks.EarlyStopping(monitor='val_loss', patience=10)\n",
    "    opt_adam = Adam(learning_rate = 0.005)\n",
    "    model.compile(\n",
    "        optimizer=opt_adam,\n",
    "        loss= masked_bce,\n",
    "        metrics = [masked_acc, masked_auc]\n",
    "    )\n",
    "\n",
    "    history = model.fit(\n",
    "      [train_chapter, train_sub_chapter, train_question],\n",
    "      train_labels,\n",
    "      batch_size = 64,\n",
    "      epochs = 100,\n",
    "      validation_data=([val_chapter, val_sub_chapter, val_question], val_labels),\n",
    "      callbacks=[callback]\n",
    "    )\n",
    "    val_losses.append(list(history.history['val_loss']))\n",
    "    train_losses.append(list(history.history['loss']))\n",
    "    val_aucs.append(list(history.history['val_masked_auc']))\n",
    "    train_aucs.append(list(history.history['masked_auc']))\n",
    "    train_score = model.evaluate([train_chapter, train_sub_chapter, train_question], train_labels)\n",
    "    train_eval.append(train_score)\n",
    "    test_score = model.evaluate([test_chapter, test_sub_chapter, test_question], test_labels)\n",
    "    test_eval.append(test_score)\n",
    "    print(\"Test: \", test_score)\n",
    "    def reset_weights(model):\n",
    "      for layer in model.layers: \n",
    "        if isinstance(layer, tf.keras.Model):\n",
    "          reset_weights(layer)\n",
    "          continue\n",
    "        for k, initializer in layer.__dict__.items():\n",
    "          if \"initializer\" not in k:\n",
    "            continue\n",
    "          # find the corresponding variable\n",
    "          var = getattr(layer, k.replace(\"_initializer\", \"\"))\n",
    "          var.assign(initializer(var.shape, var.dtype))\n",
    "    reset_weights(model)"
   ]
  },
  {
   "cell_type": "code",
   "execution_count": 30,
   "metadata": {
    "execution": {
     "iopub.execute_input": "2021-07-26T22:51:32.862645Z",
     "iopub.status.busy": "2021-07-26T22:51:32.862318Z",
     "iopub.status.idle": "2021-07-26T22:51:32.872721Z",
     "shell.execute_reply": "2021-07-26T22:51:32.871876Z",
     "shell.execute_reply.started": "2021-07-26T22:51:32.862600Z"
    },
    "id": "QsVmumHMz3lx",
    "outputId": "4ff1e2fa-6abb-458e-c729-495b456f53e5"
   },
   "outputs": [
    {
     "name": "stdout",
     "output_type": "stream",
     "text": [
      "test avg loss:  1.7852944135665894 +/- 0.23114769258604548\n",
      "test avg acc:  0.788106632232666 +/- 0.004523095900623517\n",
      "test avg auc:  0.8663765907287597 +/- 0.003757036383136829\n"
     ]
    }
   ],
   "source": [
    "t_eval = np.array(test_eval)\n",
    "print(\"test avg loss: \", np.mean(t_eval[:, 0]), \"+/-\" ,np.std(t_eval[:, 0]))\n",
    "print(\"test avg acc: \", np.mean(t_eval[:, 1]),  \"+/-\" ,np.std(t_eval[:, 1]))\n",
    "print(\"test avg auc: \", np.mean(t_eval[:, 2]), \"+/-\" ,np.std(t_eval[:, 2]))"
   ]
  },
  {
   "cell_type": "code",
   "execution_count": 31,
   "metadata": {
    "execution": {
     "iopub.execute_input": "2021-07-26T22:51:32.875883Z",
     "iopub.status.busy": "2021-07-26T22:51:32.875622Z",
     "iopub.status.idle": "2021-07-26T22:51:32.887589Z",
     "shell.execute_reply": "2021-07-26T22:51:32.886608Z",
     "shell.execute_reply.started": "2021-07-26T22:51:32.875859Z"
    },
    "id": "b9MM_CXWz5K6",
    "outputId": "4cf88e1d-3a74-4e7d-f92c-d01522e91757"
   },
   "outputs": [
    {
     "name": "stdout",
     "output_type": "stream",
     "text": [
      "train avg loss:  0.22938153743743897 +/- 0.004198483992450253\n",
      "train avg acc:  0.7865760087966919 +/- 0.004566036471535433\n",
      "train avg auc:  0.8643007397651672 +/- 0.004004254173838434\n"
     ]
    }
   ],
   "source": [
    "t_eval = np.array(train_eval)\n",
    "print(\"train avg loss: \", np.mean(t_eval[:, 0]), \"+/-\" ,np.std(t_eval[:, 0]))\n",
    "print(\"train avg acc: \", np.mean(t_eval[:, 1]),  \"+/-\" ,np.std(t_eval[:, 1]))\n",
    "print(\"train avg auc: \", np.mean(t_eval[:, 2]), \"+/-\" ,np.std(t_eval[:, 2]))"
   ]
  },
  {
   "cell_type": "code",
   "execution_count": 32,
   "metadata": {},
   "outputs": [],
   "source": [
    "model.save('gru_maxlength_2.h5')"
   ]
  },
  {
   "cell_type": "code",
   "execution_count": null,
   "metadata": {},
   "outputs": [],
   "source": []
  }
 ],
 "metadata": {
  "kernelspec": {
   "display_name": "Python 3",
   "language": "python",
   "name": "python3"
  },
  "language_info": {
   "codemirror_mode": {
    "name": "ipython",
    "version": 3
   },
   "file_extension": ".py",
   "mimetype": "text/x-python",
   "name": "python",
   "nbconvert_exporter": "python",
   "pygments_lexer": "ipython3",
   "version": "3.8.5"
  }
 },
 "nbformat": 4,
 "nbformat_minor": 4
}
