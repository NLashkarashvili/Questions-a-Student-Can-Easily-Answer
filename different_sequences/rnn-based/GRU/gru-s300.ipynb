{
 "cells": [
  {
   "cell_type": "code",
   "execution_count": 1,
   "metadata": {
    "execution": {
     "iopub.execute_input": "2021-07-26T22:24:29.740122Z",
     "iopub.status.busy": "2021-07-26T22:24:29.739630Z",
     "iopub.status.idle": "2021-07-26T22:24:31.712131Z",
     "shell.execute_reply": "2021-07-26T22:24:31.711232Z",
     "shell.execute_reply.started": "2021-07-26T22:24:29.740010Z"
    },
    "id": "farifxiKU1aB"
   },
   "outputs": [],
   "source": [
    "import numpy as np\n",
    "import pandas as pd\n",
    "import warnings\n",
    "import gc\n",
    "import tensorflow as tf\n",
    "from tensorflow import keras\n",
    "\n",
    "import random\n",
    "from random import choice\n",
    "from tensorflow.keras.optimizers import Adam\n",
    "from tensorflow.keras.models import Sequential \n",
    "from tensorflow.keras.layers import Dense, GRU, Concatenate, Embedding, Flatten, Activation, Dropout\n",
    "from sklearn.model_selection import KFold\n",
    "from tensorflow.python.client import device_lib\n",
    "warnings.filterwarnings('ignore')\n",
    "import random"
   ]
  },
  {
   "cell_type": "code",
   "execution_count": 2,
   "metadata": {
    "execution": {
     "iopub.execute_input": "2021-07-26T22:24:31.714862Z",
     "iopub.status.busy": "2021-07-26T22:24:31.714472Z",
     "iopub.status.idle": "2021-07-26T22:24:31.719784Z",
     "shell.execute_reply": "2021-07-26T22:24:31.718357Z",
     "shell.execute_reply.started": "2021-07-26T22:24:31.714825Z"
    },
    "id": "QOson70GPOXb"
   },
   "outputs": [],
   "source": [
    "import gc"
   ]
  },
  {
   "cell_type": "markdown",
   "metadata": {
    "id": "BQsVybBH3VPw"
   },
   "source": [
    "## Data Preprocessing"
   ]
  },
  {
   "cell_type": "code",
   "execution_count": 3,
   "metadata": {
    "execution": {
     "iopub.execute_input": "2021-07-26T22:24:31.722693Z",
     "iopub.status.busy": "2021-07-26T22:24:31.722160Z",
     "iopub.status.idle": "2021-07-26T22:24:36.604847Z",
     "shell.execute_reply": "2021-07-26T22:24:36.603926Z",
     "shell.execute_reply.started": "2021-07-26T22:24:31.722643Z"
    },
    "id": "rwtTusGxrmAE",
    "outputId": "1430f3cf-038b-485e-b5c4-c1686b1f34fd"
   },
   "outputs": [
    {
     "data": {
      "text/html": [
       "<div>\n",
       "<style scoped>\n",
       "    .dataframe tbody tr th:only-of-type {\n",
       "        vertical-align: middle;\n",
       "    }\n",
       "\n",
       "    .dataframe tbody tr th {\n",
       "        vertical-align: top;\n",
       "    }\n",
       "\n",
       "    .dataframe thead th {\n",
       "        text-align: right;\n",
       "    }\n",
       "</style>\n",
       "<table border=\"1\" class=\"dataframe\">\n",
       "  <thead>\n",
       "    <tr style=\"text-align: right;\">\n",
       "      <th></th>\n",
       "      <th>Unnamed: 0</th>\n",
       "      <th>chapter_label</th>\n",
       "      <th>sub_chapter_label</th>\n",
       "      <th>question_name</th>\n",
       "      <th>user_id.x</th>\n",
       "      <th>term</th>\n",
       "      <th>STDNT_SEX_CD</th>\n",
       "      <th>NonNativeEnglish</th>\n",
       "      <th>White</th>\n",
       "      <th>Asian</th>\n",
       "      <th>...</th>\n",
       "      <th>classGraded</th>\n",
       "      <th>classHonors</th>\n",
       "      <th>Pass_Fail</th>\n",
       "      <th>parentsGraduateEdu</th>\n",
       "      <th>minorityGroup</th>\n",
       "      <th>q</th>\n",
       "      <th>day's_available_flashcards</th>\n",
       "      <th>start_practice</th>\n",
       "      <th>end_practice</th>\n",
       "      <th>days_offset</th>\n",
       "    </tr>\n",
       "  </thead>\n",
       "  <tbody>\n",
       "    <tr>\n",
       "      <th>0</th>\n",
       "      <td>1</td>\n",
       "      <td>Sort</td>\n",
       "      <td>intro-SortingwithSortandSorted</td>\n",
       "      <td>ee_sort_04</td>\n",
       "      <td>148</td>\n",
       "      <td>WN 2018</td>\n",
       "      <td>1</td>\n",
       "      <td>0</td>\n",
       "      <td>1</td>\n",
       "      <td>0</td>\n",
       "      <td>...</td>\n",
       "      <td>1</td>\n",
       "      <td>0</td>\n",
       "      <td>0</td>\n",
       "      <td>0</td>\n",
       "      <td>0</td>\n",
       "      <td>0</td>\n",
       "      <td>18</td>\n",
       "      <td>2018-03-04 20:00:19</td>\n",
       "      <td>2018-03-04 20:00:35</td>\n",
       "      <td>45</td>\n",
       "    </tr>\n",
       "    <tr>\n",
       "      <th>1</th>\n",
       "      <td>2</td>\n",
       "      <td>Functions</td>\n",
       "      <td>Returningavaluefromafunction</td>\n",
       "      <td>test_questionfunctions_2_3</td>\n",
       "      <td>148</td>\n",
       "      <td>WN 2018</td>\n",
       "      <td>1</td>\n",
       "      <td>0</td>\n",
       "      <td>1</td>\n",
       "      <td>0</td>\n",
       "      <td>...</td>\n",
       "      <td>1</td>\n",
       "      <td>0</td>\n",
       "      <td>0</td>\n",
       "      <td>0</td>\n",
       "      <td>0</td>\n",
       "      <td>4</td>\n",
       "      <td>16</td>\n",
       "      <td>2018-02-10 11:57:55</td>\n",
       "      <td>2018-02-10 11:58:35</td>\n",
       "      <td>23</td>\n",
       "    </tr>\n",
       "    <tr>\n",
       "      <th>2</th>\n",
       "      <td>3</td>\n",
       "      <td>RESTAPIs</td>\n",
       "      <td>functionswithrestapis</td>\n",
       "      <td>test_question_functions_rest_apis_1</td>\n",
       "      <td>148</td>\n",
       "      <td>WN 2018</td>\n",
       "      <td>1</td>\n",
       "      <td>0</td>\n",
       "      <td>1</td>\n",
       "      <td>0</td>\n",
       "      <td>...</td>\n",
       "      <td>1</td>\n",
       "      <td>0</td>\n",
       "      <td>0</td>\n",
       "      <td>0</td>\n",
       "      <td>0</td>\n",
       "      <td>1</td>\n",
       "      <td>2</td>\n",
       "      <td>2018-03-12 17:03:07</td>\n",
       "      <td>2018-03-12 17:04:28</td>\n",
       "      <td>53</td>\n",
       "    </tr>\n",
       "    <tr>\n",
       "      <th>3</th>\n",
       "      <td>4</td>\n",
       "      <td>SimplePythonData</td>\n",
       "      <td>FunctionCalls</td>\n",
       "      <td>exercise_functionCalls_1</td>\n",
       "      <td>148</td>\n",
       "      <td>WN 2018</td>\n",
       "      <td>1</td>\n",
       "      <td>0</td>\n",
       "      <td>1</td>\n",
       "      <td>0</td>\n",
       "      <td>...</td>\n",
       "      <td>1</td>\n",
       "      <td>0</td>\n",
       "      <td>0</td>\n",
       "      <td>0</td>\n",
       "      <td>0</td>\n",
       "      <td>0</td>\n",
       "      <td>10</td>\n",
       "      <td>2018-01-30 14:15:49</td>\n",
       "      <td>2018-01-30 14:15:58</td>\n",
       "      <td>12</td>\n",
       "    </tr>\n",
       "    <tr>\n",
       "      <th>4</th>\n",
       "      <td>5</td>\n",
       "      <td>DictionaryAccumulation</td>\n",
       "      <td>AccumulatingaMaximumValue</td>\n",
       "      <td>ps_04_07</td>\n",
       "      <td>148</td>\n",
       "      <td>WN 2018</td>\n",
       "      <td>1</td>\n",
       "      <td>0</td>\n",
       "      <td>1</td>\n",
       "      <td>0</td>\n",
       "      <td>...</td>\n",
       "      <td>1</td>\n",
       "      <td>0</td>\n",
       "      <td>0</td>\n",
       "      <td>0</td>\n",
       "      <td>0</td>\n",
       "      <td>0</td>\n",
       "      <td>23</td>\n",
       "      <td>2018-03-03 14:04:17</td>\n",
       "      <td>2018-03-03 14:04:25</td>\n",
       "      <td>44</td>\n",
       "    </tr>\n",
       "  </tbody>\n",
       "</table>\n",
       "<p>5 rows × 48 columns</p>\n",
       "</div>"
      ],
      "text/plain": [
       "   Unnamed: 0           chapter_label               sub_chapter_label  \\\n",
       "0           1                    Sort  intro-SortingwithSortandSorted   \n",
       "1           2               Functions    Returningavaluefromafunction   \n",
       "2           3                RESTAPIs           functionswithrestapis   \n",
       "3           4        SimplePythonData                   FunctionCalls   \n",
       "4           5  DictionaryAccumulation       AccumulatingaMaximumValue   \n",
       "\n",
       "                         question_name  user_id.x     term  STDNT_SEX_CD  \\\n",
       "0                           ee_sort_04        148  WN 2018             1   \n",
       "1           test_questionfunctions_2_3        148  WN 2018             1   \n",
       "2  test_question_functions_rest_apis_1        148  WN 2018             1   \n",
       "3             exercise_functionCalls_1        148  WN 2018             1   \n",
       "4                             ps_04_07        148  WN 2018             1   \n",
       "\n",
       "   NonNativeEnglish  White  Asian  ...  classGraded  classHonors  Pass_Fail  \\\n",
       "0                 0      1      0  ...            1            0          0   \n",
       "1                 0      1      0  ...            1            0          0   \n",
       "2                 0      1      0  ...            1            0          0   \n",
       "3                 0      1      0  ...            1            0          0   \n",
       "4                 0      1      0  ...            1            0          0   \n",
       "\n",
       "   parentsGraduateEdu  minorityGroup  q  day's_available_flashcards  \\\n",
       "0                   0              0  0                          18   \n",
       "1                   0              0  4                          16   \n",
       "2                   0              0  1                           2   \n",
       "3                   0              0  0                          10   \n",
       "4                   0              0  0                          23   \n",
       "\n",
       "        start_practice         end_practice  days_offset  \n",
       "0  2018-03-04 20:00:19  2018-03-04 20:00:35           45  \n",
       "1  2018-02-10 11:57:55  2018-02-10 11:58:35           23  \n",
       "2  2018-03-12 17:03:07  2018-03-12 17:04:28           53  \n",
       "3  2018-01-30 14:15:49  2018-01-30 14:15:58           12  \n",
       "4  2018-03-03 14:04:17  2018-03-03 14:04:25           44  \n",
       "\n",
       "[5 rows x 48 columns]"
      ]
     },
     "execution_count": 3,
     "metadata": {},
     "output_type": "execute_result"
    }
   ],
   "source": [
    "# load the data\n",
    "import pandas as pd\n",
    "dataframe = pd.read_csv('../input/practice-log-demographics/Practice_Log_Demographics (1).csv', low_memory=False)\n",
    "dataframe.head()"
   ]
  },
  {
   "cell_type": "code",
   "execution_count": 4,
   "metadata": {
    "execution": {
     "iopub.execute_input": "2021-07-26T22:24:36.606692Z",
     "iopub.status.busy": "2021-07-26T22:24:36.606270Z",
     "iopub.status.idle": "2021-07-26T22:24:37.930223Z",
     "shell.execute_reply": "2021-07-26T22:24:37.929190Z",
     "shell.execute_reply.started": "2021-07-26T22:24:36.606651Z"
    },
    "id": "OCbHnEp_Vir0"
   },
   "outputs": [],
   "source": [
    "#sort data based on timestamp\n",
    "dataframe = dataframe.sort_values(by=['start_practice'])"
   ]
  },
  {
   "cell_type": "code",
   "execution_count": 5,
   "metadata": {
    "execution": {
     "iopub.execute_input": "2021-07-26T22:24:37.932190Z",
     "iopub.status.busy": "2021-07-26T22:24:37.931816Z",
     "iopub.status.idle": "2021-07-26T22:24:37.938699Z",
     "shell.execute_reply": "2021-07-26T22:24:37.937814Z",
     "shell.execute_reply.started": "2021-07-26T22:24:37.932151Z"
    },
    "id": "0RvF7BvEr98o"
   },
   "outputs": [],
   "source": [
    "FEATURES = ['chapter_label', 'sub_chapter_label','question_name','user_id','term',\n",
    "            'STDNT_SEX_CD', \n",
    "            'NonNativeEnglish',\n",
    "            'White',\n",
    "            'Asian',\n",
    "            'WhiteOrAsian',\n",
    "            'Hispanic',\n",
    "            'AfricanAmerican',\n",
    "            'OtherEthnicities',\n",
    "            'NonWhiteOrAsian',\n",
    "            'STDNT_CTZN_STAT_CD', 'international', \n",
    "            'gradingType',\n",
    "            'birthYear',\n",
    "            'exclClassCumGPA',\n",
    "            'Freshman',\n",
    "            'Junior',\n",
    "            'Sophomore',\n",
    "            'Senior',\n",
    "            'termCreditsGPA',\n",
    "            'termCreditsNoGPA',\n",
    "            'athlete_1',\n",
    "            'honorsPro',\n",
    "            'LSA', 'programBusiness', 'programEngineering', \n",
    "            'programInformation', 'programOther',\n",
    "            'HSCalculusTaken', \n",
    "            'highSchoolGPA', \n",
    "            'majorsCount', 'minorsCount',\n",
    "            'PREV_TERM_CUM_GPA',\n",
    "            'classGraded', 'classHonors', \n",
    "            'Pass_Fail', \n",
    "            'parentsGraduateEdu',  'minorityGroup', \n",
    "            'q',\n",
    "            'available_flashcards', \n",
    "            'start_practice', \n",
    "            'end_practice',\n",
    "            'days_offset']"
   ]
  },
  {
   "cell_type": "code",
   "execution_count": 6,
   "metadata": {
    "execution": {
     "iopub.execute_input": "2021-07-26T22:24:37.940783Z",
     "iopub.status.busy": "2021-07-26T22:24:37.940059Z",
     "iopub.status.idle": "2021-07-26T22:24:38.433483Z",
     "shell.execute_reply": "2021-07-26T22:24:38.432498Z",
     "shell.execute_reply.started": "2021-07-26T22:24:37.940740Z"
    },
    "id": "Mn341X7lSztl"
   },
   "outputs": [],
   "source": [
    "dataframe['available_flashcards'] = dataframe[\"day's_available_flashcards\"][:]\n",
    "dataframe = dataframe.drop([\"day's_available_flashcards\"], axis=1)\n",
    "dataframe['user_id'] = dataframe[\"user_id.x\"][:]\n",
    "dataframe = dataframe.drop([\"user_id.x\"], axis=1)"
   ]
  },
  {
   "cell_type": "code",
   "execution_count": 7,
   "metadata": {
    "execution": {
     "iopub.execute_input": "2021-07-26T22:24:38.435448Z",
     "iopub.status.busy": "2021-07-26T22:24:38.435029Z",
     "iopub.status.idle": "2021-07-26T22:24:38.588875Z",
     "shell.execute_reply": "2021-07-26T22:24:38.587974Z",
     "shell.execute_reply.started": "2021-07-26T22:24:38.435402Z"
    },
    "id": "-_BRggOjbBjN",
    "outputId": "42bff7db-08dd-48dc-a73a-d048508053b7"
   },
   "outputs": [
    {
     "data": {
      "text/plain": [
       "66"
      ]
     },
     "execution_count": 7,
     "metadata": {},
     "output_type": "execute_result"
    }
   ],
   "source": [
    "gc.collect()"
   ]
  },
  {
   "cell_type": "code",
   "execution_count": 8,
   "metadata": {
    "execution": {
     "iopub.execute_input": "2021-07-26T22:24:38.593931Z",
     "iopub.status.busy": "2021-07-26T22:24:38.593328Z",
     "iopub.status.idle": "2021-07-26T22:24:38.874396Z",
     "shell.execute_reply": "2021-07-26T22:24:38.873409Z",
     "shell.execute_reply.started": "2021-07-26T22:24:38.593893Z"
    },
    "id": "lXM7MlonVeRL",
    "outputId": "d29ccec0-522f-4e3c-e0b2-39b2e1eaef74"
   },
   "outputs": [
    {
     "data": {
      "text/plain": [
       "22"
      ]
     },
     "execution_count": 8,
     "metadata": {},
     "output_type": "execute_result"
    }
   ],
   "source": [
    "dataframe = dataframe[FEATURES]\n",
    "gc.collect()"
   ]
  },
  {
   "cell_type": "code",
   "execution_count": 9,
   "metadata": {
    "execution": {
     "iopub.execute_input": "2021-07-26T22:24:38.876982Z",
     "iopub.status.busy": "2021-07-26T22:24:38.876630Z",
     "iopub.status.idle": "2021-07-26T22:24:40.534787Z",
     "shell.execute_reply": "2021-07-26T22:24:40.533746Z",
     "shell.execute_reply.started": "2021-07-26T22:24:38.876946Z"
    },
    "id": "qRKqF_0IXZgj"
   },
   "outputs": [],
   "source": [
    "#label encode term, chapter_label, question_name, sub_chapter_label columns\n",
    "dataframe['term'] = dataframe['term'].astype('category')\n",
    "dataframe['user_id'] = dataframe['user_id'].astype(int)\n",
    "dataframe['user_id'] = dataframe['user_id'].astype(str)\n",
    "dataframe['user_id'] = dataframe['term'].str.cat(dataframe['user_id'], sep=':')\n",
    "dataframe['user_id'] = dataframe['user_id'].astype('category')\n",
    "dataframe['chapter_label'] = dataframe['chapter_label'].astype('category')\n",
    "dataframe['sub_chapter_label'] = dataframe['sub_chapter_label'].astype('category')\n",
    "dataframe['question_name'] = dataframe['question_name'].astype('category')\n"
   ]
  },
  {
   "cell_type": "code",
   "execution_count": 10,
   "metadata": {
    "execution": {
     "iopub.execute_input": "2021-07-26T22:24:40.536855Z",
     "iopub.status.busy": "2021-07-26T22:24:40.536427Z",
     "iopub.status.idle": "2021-07-26T22:24:41.050731Z",
     "shell.execute_reply": "2021-07-26T22:24:41.049691Z",
     "shell.execute_reply.started": "2021-07-26T22:24:40.536813Z"
    },
    "id": "eVl_067GWkDe"
   },
   "outputs": [],
   "source": [
    "#calculate time_lag and prev_time_elapsed\n",
    "dataframe['prev_time_elapsed'] = None\n",
    "dataframe['time_lag'] = None\n",
    "dataframe['time_lag'] = dataframe['time_lag'].astype(np.float)\n",
    "dataframe['prev_time_elapsed'] = dataframe['prev_time_elapsed'].astype(np.float)\n",
    "dataframe.start_practice = pd.to_datetime(dataframe.start_practice, format='%Y-%m-%d %H:%M:%S')\n",
    "dataframe.end_practice = pd.to_datetime(dataframe.end_practice, format='%Y-%m-%d %H:%M:%S')"
   ]
  },
  {
   "cell_type": "code",
   "execution_count": 11,
   "metadata": {
    "execution": {
     "iopub.execute_input": "2021-07-26T22:24:41.052561Z",
     "iopub.status.busy": "2021-07-26T22:24:41.052178Z",
     "iopub.status.idle": "2021-07-26T22:24:41.081333Z",
     "shell.execute_reply": "2021-07-26T22:24:41.080385Z",
     "shell.execute_reply.started": "2021-07-26T22:24:41.052524Z"
    }
   },
   "outputs": [],
   "source": [
    "dataframe['dif'] = dataframe.end_practice - dataframe.start_practice\n",
    "dataframe['dif'] = dataframe['dif'] /np.timedelta64(1, 's')\n",
    "dataframe['answer_correct'] = np.where((dataframe['q']==5) & (dataframe['dif'] <= 60), 1, 0)"
   ]
  },
  {
   "cell_type": "code",
   "execution_count": 13,
   "metadata": {
    "execution": {
     "iopub.execute_input": "2021-07-26T22:24:58.206032Z",
     "iopub.status.busy": "2021-07-26T22:24:58.205672Z",
     "iopub.status.idle": "2021-07-26T22:24:58.277878Z",
     "shell.execute_reply": "2021-07-26T22:24:58.277008Z",
     "shell.execute_reply.started": "2021-07-26T22:24:58.205983Z"
    },
    "id": "8t8yZ0XvWwzz"
   },
   "outputs": [],
   "source": [
    "#drop column end_practice\n",
    "dataframe.drop(columns=['end_practice'], inplace=True)"
   ]
  },
  {
   "cell_type": "code",
   "execution_count": 14,
   "metadata": {
    "execution": {
     "iopub.execute_input": "2021-07-26T22:24:58.279561Z",
     "iopub.status.busy": "2021-07-26T22:24:58.279176Z",
     "iopub.status.idle": "2021-07-26T22:24:58.664500Z",
     "shell.execute_reply": "2021-07-26T22:24:58.663636Z",
     "shell.execute_reply.started": "2021-07-26T22:24:58.279506Z"
    },
    "id": "E42raRIrYYXz"
   },
   "outputs": [],
   "source": [
    "# calculate the age feature\n",
    "dataframe['term_value'] = [int(ele[3:]) for ele in dataframe['term']]\n",
    "dataframe['age'] = dataframe['term_value'] - dataframe['birthYear']"
   ]
  },
  {
   "cell_type": "code",
   "execution_count": 15,
   "metadata": {
    "execution": {
     "iopub.execute_input": "2021-07-26T22:24:58.666301Z",
     "iopub.status.busy": "2021-07-26T22:24:58.665786Z",
     "iopub.status.idle": "2021-07-26T22:24:58.851085Z",
     "shell.execute_reply": "2021-07-26T22:24:58.850183Z",
     "shell.execute_reply.started": "2021-07-26T22:24:58.666260Z"
    },
    "id": "pcMVQXueYnMh"
   },
   "outputs": [],
   "source": [
    "# drop term_value and birthYear column\n",
    "dataframe.drop(columns=['term_value', 'birthYear'], inplace=True)"
   ]
  },
  {
   "cell_type": "code",
   "execution_count": 16,
   "metadata": {
    "execution": {
     "iopub.execute_input": "2021-07-26T22:24:58.852774Z",
     "iopub.status.busy": "2021-07-26T22:24:58.852358Z",
     "iopub.status.idle": "2021-07-26T22:24:59.264664Z",
     "shell.execute_reply": "2021-07-26T22:24:59.263743Z",
     "shell.execute_reply.started": "2021-07-26T22:24:58.852736Z"
    },
    "id": "hjRF5szkcQE0"
   },
   "outputs": [],
   "source": [
    "# convert minors_count to int value\n",
    "new_minors_count = []\n",
    "for i in dataframe['minorsCount']:\n",
    "  if i == 0 or i == '0':\n",
    "    new_minors_count.append(0)\n",
    "  elif i == '1 Minor':\n",
    "    new_minors_count.append(1)\n",
    "  else:\n",
    "    new_minors_count.append(2)\n",
    "\n",
    "dataframe['minorsCount'] = new_minors_count"
   ]
  },
  {
   "cell_type": "code",
   "execution_count": 17,
   "metadata": {
    "execution": {
     "iopub.execute_input": "2021-07-26T22:24:59.266296Z",
     "iopub.status.busy": "2021-07-26T22:24:59.265940Z",
     "iopub.status.idle": "2021-07-26T22:24:59.281485Z",
     "shell.execute_reply": "2021-07-26T22:24:59.280553Z",
     "shell.execute_reply.started": "2021-07-26T22:24:59.266262Z"
    },
    "id": "9VdzvJSw0KUU",
    "outputId": "6393784f-234e-4935-9cee-cbcf56b5630a"
   },
   "outputs": [
    {
     "name": "stdout",
     "output_type": "stream",
     "text": [
      "we have  1110  users in total.\n"
     ]
    }
   ],
   "source": [
    "print(\"we have \", dataframe['user_id'].nunique(),\" users in total.\")"
   ]
  },
  {
   "cell_type": "code",
   "execution_count": 18,
   "metadata": {
    "execution": {
     "iopub.execute_input": "2021-07-26T22:24:59.283123Z",
     "iopub.status.busy": "2021-07-26T22:24:59.282734Z",
     "iopub.status.idle": "2021-07-26T22:24:59.293442Z",
     "shell.execute_reply": "2021-07-26T22:24:59.292477Z",
     "shell.execute_reply.started": "2021-07-26T22:24:59.283086Z"
    },
    "id": "hUaGk9L9g13t"
   },
   "outputs": [],
   "source": [
    "for category in ['term','chapter_label', 'sub_chapter_label', 'question_name']:\n",
    "  dataframe[category] =  dataframe[category].cat.codes"
   ]
  },
  {
   "cell_type": "code",
   "execution_count": 19,
   "metadata": {
    "execution": {
     "iopub.execute_input": "2021-07-26T22:24:59.295242Z",
     "iopub.status.busy": "2021-07-26T22:24:59.294729Z",
     "iopub.status.idle": "2021-07-26T22:24:59.550815Z",
     "shell.execute_reply": "2021-07-26T22:24:59.549911Z",
     "shell.execute_reply.started": "2021-07-26T22:24:59.295204Z"
    },
    "id": "hkyvcYvlhliG"
   },
   "outputs": [],
   "source": [
    "NUMERIC_FEATURE =  ['age',\n",
    "            'exclClassCumGPA',\n",
    "            'termCreditsGPA',\n",
    "            'termCreditsNoGPA',\n",
    "            'highSchoolGPA', \n",
    "            'majorsCount', 'minorsCount',\n",
    "            'PREV_TERM_CUM_GPA',\n",
    "            'available_flashcards', \n",
    "            'days_offset', \n",
    "            'prev_time_elapsed',\n",
    "             'time_lag']\n",
    "# z-score normalize the numerical features\n",
    "for f in NUMERIC_FEATURE:\n",
    "  m = dataframe[f].mean()\n",
    "  std = dataframe[f].std()\n",
    "  dataframe[f] = (dataframe[f] - m)/std"
   ]
  },
  {
   "cell_type": "code",
   "execution_count": 20,
   "metadata": {
    "execution": {
     "iopub.execute_input": "2021-07-26T22:24:59.552552Z",
     "iopub.status.busy": "2021-07-26T22:24:59.552169Z",
     "iopub.status.idle": "2021-07-26T22:25:03.160975Z",
     "shell.execute_reply": "2021-07-26T22:25:03.160071Z",
     "shell.execute_reply.started": "2021-07-26T22:24:59.552502Z"
    },
    "id": "wo2OH-d5kWp1"
   },
   "outputs": [],
   "source": [
    "FEATURE_TRANS =  ['answer_correct', 'chapter_label', 'sub_chapter_label','question_name','user_id','term',\n",
    "                  'STDNT_SEX_CD', \n",
    "                    'White','Asian','NonWhiteOrAsian',\n",
    "            'STDNT_CTZN_STAT_CD', 'international', \n",
    "            'age',\n",
    "            'exclClassCumGPA',\n",
    "           'Freshman',\n",
    "            'Junior',\n",
    "            'Sophomore',\n",
    "            'Senior',\n",
    "            'termCreditsGPA',\n",
    "            'termCreditsNoGPA',\n",
    "            'athlete_1',\n",
    "            'honorsPro',\n",
    "            'LSA', 'programBusiness', 'programEngineering', \n",
    "            'programInformation', 'programOther',\n",
    "            'HSCalculusTaken', \n",
    "            'highSchoolGPA', \n",
    "            'majorsCount', 'minorsCount',\n",
    "            'PREV_TERM_CUM_GPA',\n",
    "            'classGraded', 'classHonors', \n",
    "            'Pass_Fail', \n",
    "            'parentsGraduateEdu',  'minorityGroup', \n",
    "            'available_flashcards', \n",
    "            'days_offset', 'prev_time_elapsed',\n",
    "             'time_lag']\n",
    "grouped_data = dataframe[FEATURE_TRANS].groupby(['user_id']).apply(lambda r: (\n",
    "                r['answer_correct'],\n",
    "                r['term'],\n",
    "                r['chapter_label'],\n",
    "                r['sub_chapter_label'],\n",
    "                r['question_name'],\n",
    "                np.array([r['STDNT_SEX_CD'],r['STDNT_CTZN_STAT_CD'], r['international'], \n",
    "                  r['White'],r['Asian'],r['NonWhiteOrAsian'],\n",
    "                 r['age'],r['exclClassCumGPA'],\n",
    "                r['Freshman'], r['Junior'], r['Sophomore'], r['Senior'],\n",
    "                r['termCreditsGPA'], r['termCreditsNoGPA'],\n",
    "                r['athlete_1'], r['honorsPro'],\n",
    "                r['LSA'], r['programBusiness'], r['programEngineering'], \n",
    "                r['programInformation'], r['programOther'],\n",
    "                r['HSCalculusTaken'],  r['highSchoolGPA'], \n",
    "                r['majorsCount'], r['minorsCount'],\n",
    "                r['PREV_TERM_CUM_GPA'], \n",
    "                r['parentsGraduateEdu'], r['minorityGroup'],\n",
    "                r['available_flashcards'],\n",
    "                r['days_offset'],\n",
    "                r['prev_time_elapsed'],\n",
    "                r['time_lag']\n",
    "              ]).transpose()\n",
    "                ))"
   ]
  },
  {
   "cell_type": "code",
   "execution_count": 21,
   "metadata": {
    "execution": {
     "iopub.execute_input": "2021-07-26T22:25:03.162673Z",
     "iopub.status.busy": "2021-07-26T22:25:03.162315Z",
     "iopub.status.idle": "2021-07-26T22:25:03.335576Z",
     "shell.execute_reply": "2021-07-26T22:25:03.334454Z",
     "shell.execute_reply.started": "2021-07-26T22:25:03.162638Z"
    },
    "id": "XXLqQnjrlp_4",
    "outputId": "c801da79-f0bf-4fe5-b19c-7c799fe01556"
   },
   "outputs": [
    {
     "data": {
      "text/plain": [
       "22"
      ]
     },
     "execution_count": 21,
     "metadata": {},
     "output_type": "execute_result"
    }
   ],
   "source": [
    "gc.collect()"
   ]
  },
  {
   "cell_type": "code",
   "execution_count": 22,
   "metadata": {
    "execution": {
     "iopub.execute_input": "2021-07-26T22:25:03.338286Z",
     "iopub.status.busy": "2021-07-26T22:25:03.337627Z",
     "iopub.status.idle": "2021-07-26T22:25:03.373189Z",
     "shell.execute_reply": "2021-07-26T22:25:03.372468Z",
     "shell.execute_reply.started": "2021-07-26T22:25:03.338217Z"
    },
    "id": "QYGQasdTrmP0"
   },
   "outputs": [],
   "source": [
    "# remove students who don't have make any interactions with the tool\n",
    "toRemove = []\n",
    "for index in grouped_data.index:\n",
    "  if len(grouped_data[index][0]) <= 10:\n",
    "    toRemove.append(index)\n",
    "grouped_data = grouped_data.drop(index=toRemove)"
   ]
  },
  {
   "cell_type": "code",
   "execution_count": 23,
   "metadata": {
    "execution": {
     "iopub.execute_input": "2021-07-26T22:25:03.374996Z",
     "iopub.status.busy": "2021-07-26T22:25:03.374462Z",
     "iopub.status.idle": "2021-07-26T22:25:03.379485Z",
     "shell.execute_reply": "2021-07-26T22:25:03.378356Z",
     "shell.execute_reply.started": "2021-07-26T22:25:03.374958Z"
    },
    "id": "9kZqV9siDyNb"
   },
   "outputs": [],
   "source": [
    "#SETTINGS -> can be modified at any time\n",
    "MAXLENGTH = 300\n",
    "EMBEDDING_DIM = 128\n",
    "DENSE_NEURON = 16\n",
    "GRU_NEURON = 32"
   ]
  },
  {
   "cell_type": "code",
   "execution_count": 24,
   "metadata": {
    "execution": {
     "iopub.execute_input": "2021-07-26T22:25:03.381563Z",
     "iopub.status.busy": "2021-07-26T22:25:03.381059Z",
     "iopub.status.idle": "2021-07-26T22:25:03.388862Z",
     "shell.execute_reply": "2021-07-26T22:25:03.387884Z",
     "shell.execute_reply.started": "2021-07-26T22:25:03.381505Z"
    },
    "id": "1MksD1JizpPn"
   },
   "outputs": [],
   "source": [
    "#FEATURES_SIZE = 38\n",
    "CHAPTER_SIZE = 38\n",
    "SUB_CHAPTER_SIZE = 223\n",
    "QUESTION_SIZE = 1069"
   ]
  },
  {
   "cell_type": "code",
   "execution_count": 25,
   "metadata": {
    "execution": {
     "iopub.execute_input": "2021-07-26T22:25:03.390618Z",
     "iopub.status.busy": "2021-07-26T22:25:03.390128Z",
     "iopub.status.idle": "2021-07-26T22:25:03.404897Z",
     "shell.execute_reply": "2021-07-26T22:25:03.403796Z",
     "shell.execute_reply.started": "2021-07-26T22:25:03.390578Z"
    }
   },
   "outputs": [
    {
     "data": {
      "text/plain": [
       "array([ 96,  86,  88,  28,  12,  82, 125,  32,  69,  33,  21, 115, 120,\n",
       "       119,  91,  73,  57,  77, 117,  40,  74,  41,  68,  39,  92,  47,\n",
       "       104,  95,  53,  49,  50,  16,  52,  55,   7,  15,  51, 102, 103,\n",
       "        11,  94, 108, 100,  17,  67,  63,  13, 139,  26,  25,   8, 107,\n",
       "         0,  90,  48,  54, 138,   1,   2,   3,  34,  35,  85,   5,  24,\n",
       "        37,  36,  78,  70,  45, 142,  71,  10,  89, 111, 112, 109, 116,\n",
       "        76,  72, 148, 134, 146, 221, 143,  56,  60,  61,  23, 140, 106,\n",
       "        42,  83,  22, 145, 136, 144,  38,   4,  19, 137,  75,  43,  98,\n",
       "        84, 113, 173, 174, 175, 176, 177, 178, 180, 181, 182, 187, 189,\n",
       "       190, 191, 192, 193, 195, 197, 151, 152, 153, 156, 157, 158, 159,\n",
       "       160, 161, 163, 164, 165, 166, 167, 168, 169, 170, 171, 172, 198,\n",
       "       199, 200, 201, 202, 203, 204, 205, 206, 207, 208, 209, 210, 162,\n",
       "       179, 186, 188, 194, 183, 184, 185, 211, 212, 213, 154, 155, 196,\n",
       "         6, 118,  18, 215,  46, 216, 141,  27, 217, 105, 123, 218, 101,\n",
       "       124, 219, 122, 220,  58,  59,  64,  20,  93,  65,  66,   9,  44,\n",
       "        30,  14,  79, 121,  31, 110, 129,  87,  97,  62, 149, 132, 131,\n",
       "       150, 130, 128,  99, 147, 127, 214, 135,  80, 126, 133,  81, 114,\n",
       "        29], dtype=int16)"
      ]
     },
     "execution_count": 25,
     "metadata": {},
     "output_type": "execute_result"
    }
   ],
   "source": [
    "dataframe['sub_chapter_label'].unique()"
   ]
  },
  {
   "cell_type": "code",
   "execution_count": 26,
   "metadata": {
    "execution": {
     "iopub.execute_input": "2021-07-26T22:25:03.409721Z",
     "iopub.status.busy": "2021-07-26T22:25:03.409458Z",
     "iopub.status.idle": "2021-07-26T22:25:03.772356Z",
     "shell.execute_reply": "2021-07-26T22:25:03.771469Z",
     "shell.execute_reply.started": "2021-07-26T22:25:03.409697Z"
    },
    "id": "mY3Thp6d0NaT"
   },
   "outputs": [],
   "source": [
    "#create dataset class\n",
    "#to prepare it for train, valid, and test sets\n",
    "from torch.utils.data import Dataset, DataLoader\n",
    "class SPACE_DATASET(Dataset):\n",
    "    def __init__(self, data, maxlength = 300):\n",
    "        super(SPACE_DATASET, self).__init__()\n",
    "        self.maxlength = maxlength\n",
    "        self.data = data\n",
    "        self.users = list()\n",
    "        for user in data.index:\n",
    "            self.users.append(user)\n",
    "\n",
    "    def __len__(self):\n",
    "        return len(self.users)\n",
    "    \n",
    "    def __getitem__(self, ix):\n",
    "        user = self.users[ix]\n",
    "        user = user\n",
    "        target, term, ch_label, sub_ch_label, ques_name, features = self.data[user]\n",
    "        \n",
    "        #0s should be used as padding values\n",
    "        ori_target = target.values \n",
    "        term = term.values\n",
    "        ch_label = ch_label.values + 1\n",
    "        sub_ch_label = sub_ch_label.values +1\n",
    "        ques_name = ques_name.values + 1\n",
    "        \n",
    "        n = len(ch_label)\n",
    "\n",
    "        # one hot for term\n",
    "        term_encode = [0]*7\n",
    "        term_encode[term[0]] = 1\n",
    "        shifted_target= []\n",
    "\n",
    "        \n",
    "        # get  user interaction informations in the previous MAXLEN interactions\n",
    "        if n > self.maxlength:\n",
    "          ch_label = ch_label[-self.maxlength:]\n",
    "          sub_ch_label = sub_ch_label[-self.maxlength:]\n",
    "          ques_name = ques_name[-self.maxlength:]\n",
    "          features = features[-self.maxlength:]\n",
    "          target = ori_target[-self.maxlength:]\n",
    "          shifted_target = ori_target[ (-self.maxlength - 1) :-1]\n",
    "        else:\n",
    "          ch_label = [0]*(self.maxlength - n)+list(ch_label[:])\n",
    "          sub_ch_label = [0]*(self.maxlength - n)+list(sub_ch_label[:])\n",
    "          ques_name = [0]*(self.maxlength - n)+list(ques_name[:])\n",
    "          features = [[0]*len(features[0])]*(self.maxlength  - n)+list(features[:])\n",
    "          target = [-1]*(self.maxlength - n) + list(ori_target[:])\n",
    "          shifted_target = [-1]*(self.maxlength + 1 - n) + list(ori_target[:-1])\n",
    "\n",
    "        new_features = []\n",
    "        count = 0\n",
    "        for f in features:\n",
    "          temp = list(f)\n",
    "          temp.extend(term_encode)\n",
    "          # temp.append(shifted_target[count]) #uncomment this line for include previous response feature\n",
    "          new_features.append(temp)\n",
    "          count += 1\n",
    "        features = new_features\n",
    "        return ch_label,sub_ch_label,ques_name,target"
   ]
  },
  {
   "cell_type": "code",
   "execution_count": 27,
   "metadata": {
    "execution": {
     "iopub.execute_input": "2021-07-26T22:25:03.775092Z",
     "iopub.status.busy": "2021-07-26T22:25:03.774695Z",
     "iopub.status.idle": "2021-07-26T22:25:03.781919Z",
     "shell.execute_reply": "2021-07-26T22:25:03.780860Z",
     "shell.execute_reply.started": "2021-07-26T22:25:03.775050Z"
    }
   },
   "outputs": [
    {
     "data": {
      "text/plain": [
       "223"
      ]
     },
     "execution_count": 27,
     "metadata": {},
     "output_type": "execute_result"
    }
   ],
   "source": [
    "SUB_CHAPTER_SIZE"
   ]
  },
  {
   "cell_type": "markdown",
   "metadata": {
    "id": "4xc90-aLzxat"
   },
   "source": [
    "## KFOLD - GRU\n"
   ]
  },
  {
   "cell_type": "code",
   "execution_count": 28,
   "metadata": {
    "execution": {
     "iopub.execute_input": "2021-07-26T22:25:03.784638Z",
     "iopub.status.busy": "2021-07-26T22:25:03.783979Z",
     "iopub.status.idle": "2021-07-26T22:27:16.512429Z",
     "shell.execute_reply": "2021-07-26T22:27:16.511619Z",
     "shell.execute_reply.started": "2021-07-26T22:25:03.784601Z"
    },
    "id": "gzJrljnjzypP",
    "outputId": "87abe488-b493-4f8f-9d71-45cb1d2ddf51"
   },
   "outputs": [
    {
     "name": "stdout",
     "output_type": "stream",
     "text": [
      "Epoch 1/100\n",
      "14/14 [==============================] - 8s 165ms/step - loss: 0.5915 - masked_acc: 0.5985 - masked_auc: 0.5611 - val_loss: 0.5040 - val_masked_acc: 0.7123 - val_masked_auc: 0.6768\n",
      "Epoch 2/100\n",
      "14/14 [==============================] - 1s 51ms/step - loss: 0.4760 - masked_acc: 0.7217 - masked_auc: 0.7049 - val_loss: 0.4768 - val_masked_acc: 0.7385 - val_masked_auc: 0.7414\n",
      "Epoch 3/100\n",
      "14/14 [==============================] - 1s 51ms/step - loss: 0.4578 - masked_acc: 0.7417 - masked_auc: 0.7495 - val_loss: 0.4755 - val_masked_acc: 0.7492 - val_masked_auc: 0.7634\n",
      "Epoch 4/100\n",
      "14/14 [==============================] - 1s 50ms/step - loss: 0.4499 - masked_acc: 0.7509 - masked_auc: 0.7677 - val_loss: 0.4730 - val_masked_acc: 0.7549 - val_masked_auc: 0.7752\n",
      "Epoch 5/100\n",
      "14/14 [==============================] - 1s 51ms/step - loss: 0.4397 - masked_acc: 0.7562 - masked_auc: 0.7784 - val_loss: 0.4698 - val_masked_acc: 0.7587 - val_masked_auc: 0.7830\n",
      "Epoch 6/100\n",
      "14/14 [==============================] - 1s 51ms/step - loss: 0.4383 - masked_acc: 0.7594 - masked_auc: 0.7851 - val_loss: 0.4687 - val_masked_acc: 0.7614 - val_masked_auc: 0.7889\n",
      "Epoch 7/100\n",
      "14/14 [==============================] - 1s 53ms/step - loss: 0.4335 - masked_acc: 0.7621 - masked_auc: 0.7905 - val_loss: 0.4697 - val_masked_acc: 0.7635 - val_masked_auc: 0.7935\n",
      "Epoch 8/100\n",
      "14/14 [==============================] - 1s 51ms/step - loss: 0.4338 - masked_acc: 0.7638 - masked_auc: 0.7947 - val_loss: 0.4641 - val_masked_acc: 0.7651 - val_masked_auc: 0.7972\n",
      "Epoch 9/100\n",
      "14/14 [==============================] - 1s 52ms/step - loss: 0.4256 - masked_acc: 0.7655 - masked_auc: 0.7986 - val_loss: 0.4634 - val_masked_acc: 0.7664 - val_masked_auc: 0.8007\n",
      "Epoch 10/100\n",
      "14/14 [==============================] - 1s 63ms/step - loss: 0.4189 - masked_acc: 0.7669 - masked_auc: 0.8019 - val_loss: 0.4634 - val_masked_acc: 0.7678 - val_masked_auc: 0.8041\n",
      "Epoch 11/100\n",
      "14/14 [==============================] - 1s 50ms/step - loss: 0.4177 - masked_acc: 0.7682 - masked_auc: 0.8051 - val_loss: 0.4815 - val_masked_acc: 0.7689 - val_masked_auc: 0.8066\n",
      "Epoch 12/100\n",
      "14/14 [==============================] - 1s 50ms/step - loss: 0.4108 - masked_acc: 0.7693 - masked_auc: 0.8076 - val_loss: 0.4752 - val_masked_acc: 0.7698 - val_masked_auc: 0.8090\n",
      "Epoch 13/100\n",
      "14/14 [==============================] - 1s 51ms/step - loss: 0.4067 - masked_acc: 0.7703 - masked_auc: 0.8100 - val_loss: 0.4659 - val_masked_acc: 0.7710 - val_masked_auc: 0.8116\n",
      "Epoch 14/100\n",
      "14/14 [==============================] - 1s 51ms/step - loss: 0.4016 - masked_acc: 0.7714 - masked_auc: 0.8126 - val_loss: 0.4826 - val_masked_acc: 0.7722 - val_masked_auc: 0.8140\n",
      "Epoch 15/100\n",
      "14/14 [==============================] - 1s 52ms/step - loss: 0.4035 - masked_acc: 0.7725 - masked_auc: 0.8148 - val_loss: 0.4780 - val_masked_acc: 0.7734 - val_masked_auc: 0.8164\n",
      "Epoch 16/100\n",
      "14/14 [==============================] - 1s 52ms/step - loss: 0.3978 - masked_acc: 0.7738 - masked_auc: 0.8172 - val_loss: 0.4735 - val_masked_acc: 0.7746 - val_masked_auc: 0.8186\n",
      "Epoch 17/100\n",
      "14/14 [==============================] - 1s 52ms/step - loss: 0.3998 - masked_acc: 0.7749 - masked_auc: 0.8193 - val_loss: 0.4887 - val_masked_acc: 0.7757 - val_masked_auc: 0.8207\n",
      "Epoch 18/100\n",
      "14/14 [==============================] - 1s 52ms/step - loss: 0.3986 - masked_acc: 0.7760 - masked_auc: 0.8213 - val_loss: 0.4813 - val_masked_acc: 0.7767 - val_masked_auc: 0.8225\n",
      "Epoch 19/100\n",
      "14/14 [==============================] - 1s 52ms/step - loss: 0.3909 - masked_acc: 0.7770 - masked_auc: 0.8231 - val_loss: 0.4718 - val_masked_acc: 0.7777 - val_masked_auc: 0.8243\n",
      "Epoch 20/100\n",
      "14/14 [==============================] - 1s 53ms/step - loss: 0.3863 - masked_acc: 0.7780 - masked_auc: 0.8249 - val_loss: 0.4717 - val_masked_acc: 0.7787 - val_masked_auc: 0.8261\n",
      "28/28 [==============================] - 1s 19ms/step - loss: 0.3822 - masked_acc: 0.7795 - masked_auc: 0.8274\n",
      "4/4 [==============================] - 0s 19ms/step - loss: 0.4138 - masked_acc: 0.7799 - masked_auc: 0.8282\n",
      "Test:  [0.4137628972530365, 0.7799161076545715, 0.8281888961791992]\n",
      "Epoch 1/100\n",
      "14/14 [==============================] - 7s 169ms/step - loss: 0.5887 - masked_acc: 0.5824 - masked_auc: 0.5519 - val_loss: 0.5032 - val_masked_acc: 0.7088 - val_masked_auc: 0.6821\n",
      "Epoch 2/100\n",
      "14/14 [==============================] - 1s 52ms/step - loss: 0.4652 - masked_acc: 0.7195 - masked_auc: 0.7097 - val_loss: 0.4786 - val_masked_acc: 0.7374 - val_masked_auc: 0.7466\n",
      "Epoch 3/100\n",
      "14/14 [==============================] - 1s 52ms/step - loss: 0.4566 - masked_acc: 0.7414 - masked_auc: 0.7544 - val_loss: 0.4755 - val_masked_acc: 0.7490 - val_masked_auc: 0.7670\n",
      "Epoch 4/100\n",
      "14/14 [==============================] - 1s 52ms/step - loss: 0.4499 - masked_acc: 0.7507 - masked_auc: 0.7708 - val_loss: 0.4716 - val_masked_acc: 0.7551 - val_masked_auc: 0.7787\n",
      "Epoch 5/100\n",
      "14/14 [==============================] - 1s 69ms/step - loss: 0.4374 - masked_acc: 0.7568 - masked_auc: 0.7812 - val_loss: 0.4717 - val_masked_acc: 0.7590 - val_masked_auc: 0.7857\n",
      "Epoch 6/100\n",
      "14/14 [==============================] - 1s 52ms/step - loss: 0.4453 - masked_acc: 0.7595 - masked_auc: 0.7873 - val_loss: 0.4678 - val_masked_acc: 0.7617 - val_masked_auc: 0.7914\n",
      "Epoch 7/100\n",
      "14/14 [==============================] - 1s 52ms/step - loss: 0.4270 - masked_acc: 0.7626 - masked_auc: 0.7930 - val_loss: 0.4602 - val_masked_acc: 0.7640 - val_masked_auc: 0.7961\n",
      "Epoch 8/100\n",
      "14/14 [==============================] - 1s 52ms/step - loss: 0.4336 - masked_acc: 0.7643 - masked_auc: 0.7972 - val_loss: 0.4634 - val_masked_acc: 0.7659 - val_masked_auc: 0.8003\n",
      "Epoch 9/100\n",
      "14/14 [==============================] - 1s 52ms/step - loss: 0.4263 - masked_acc: 0.7664 - masked_auc: 0.8013 - val_loss: 0.4642 - val_masked_acc: 0.7673 - val_masked_auc: 0.8035\n",
      "Epoch 10/100\n",
      "14/14 [==============================] - 1s 52ms/step - loss: 0.4207 - masked_acc: 0.7677 - masked_auc: 0.8045 - val_loss: 0.4604 - val_masked_acc: 0.7687 - val_masked_auc: 0.8066\n",
      "Epoch 11/100\n",
      "14/14 [==============================] - 1s 52ms/step - loss: 0.4216 - masked_acc: 0.7690 - masked_auc: 0.8075 - val_loss: 0.4678 - val_masked_acc: 0.7700 - val_masked_auc: 0.8094\n",
      "Epoch 12/100\n",
      "14/14 [==============================] - 1s 52ms/step - loss: 0.4125 - masked_acc: 0.7703 - masked_auc: 0.8103 - val_loss: 0.4594 - val_masked_acc: 0.7712 - val_masked_auc: 0.8122\n",
      "Epoch 13/100\n",
      "14/14 [==============================] - 1s 54ms/step - loss: 0.4134 - masked_acc: 0.7714 - masked_auc: 0.8127 - val_loss: 0.4671 - val_masked_acc: 0.7720 - val_masked_auc: 0.8144\n",
      "Epoch 14/100\n",
      "14/14 [==============================] - 1s 51ms/step - loss: 0.4127 - masked_acc: 0.7722 - masked_auc: 0.8150 - val_loss: 0.4788 - val_masked_acc: 0.7730 - val_masked_auc: 0.8164\n",
      "Epoch 15/100\n",
      "14/14 [==============================] - 1s 51ms/step - loss: 0.4089 - masked_acc: 0.7732 - masked_auc: 0.8170 - val_loss: 0.4607 - val_masked_acc: 0.7739 - val_masked_auc: 0.8184\n",
      "Epoch 16/100\n",
      "14/14 [==============================] - 1s 50ms/step - loss: 0.4043 - masked_acc: 0.7741 - masked_auc: 0.8190 - val_loss: 0.4667 - val_masked_acc: 0.7749 - val_masked_auc: 0.8204\n",
      "Epoch 17/100\n",
      "14/14 [==============================] - 1s 50ms/step - loss: 0.3957 - masked_acc: 0.7751 - masked_auc: 0.8210 - val_loss: 0.4608 - val_masked_acc: 0.7759 - val_masked_auc: 0.8224\n",
      "Epoch 18/100\n",
      "14/14 [==============================] - 1s 51ms/step - loss: 0.3959 - masked_acc: 0.7761 - masked_auc: 0.8230 - val_loss: 0.4655 - val_masked_acc: 0.7768 - val_masked_auc: 0.8243\n",
      "Epoch 19/100\n",
      "14/14 [==============================] - 1s 51ms/step - loss: 0.3910 - masked_acc: 0.7771 - masked_auc: 0.8249 - val_loss: 0.4668 - val_masked_acc: 0.7778 - val_masked_auc: 0.8261\n",
      "Epoch 20/100\n",
      "14/14 [==============================] - 1s 64ms/step - loss: 0.3882 - masked_acc: 0.7781 - masked_auc: 0.8267 - val_loss: 0.4634 - val_masked_acc: 0.7787 - val_masked_auc: 0.8278\n",
      "Epoch 21/100\n",
      "14/14 [==============================] - 1s 51ms/step - loss: 0.3902 - masked_acc: 0.7790 - masked_auc: 0.8284 - val_loss: 0.4758 - val_masked_acc: 0.7796 - val_masked_auc: 0.8295\n",
      "Epoch 22/100\n",
      "14/14 [==============================] - 1s 51ms/step - loss: 0.3778 - masked_acc: 0.7799 - masked_auc: 0.8300 - val_loss: 0.4717 - val_masked_acc: 0.7805 - val_masked_auc: 0.8311\n",
      "28/28 [==============================] - 1s 18ms/step - loss: 0.3766 - masked_acc: 0.7813 - masked_auc: 0.8322\n",
      "4/4 [==============================] - 0s 18ms/step - loss: 0.4479 - masked_acc: 0.7815 - masked_auc: 0.8327\n",
      "Test:  [0.44794440269470215, 0.7815182209014893, 0.8327236771583557]\n",
      "Epoch 1/100\n",
      "14/14 [==============================] - 6s 158ms/step - loss: 0.5872 - masked_acc: 0.6720 - masked_auc: 0.5344 - val_loss: 0.4579 - val_masked_acc: 0.7185 - val_masked_auc: 0.6821\n",
      "Epoch 2/100\n",
      "14/14 [==============================] - 1s 51ms/step - loss: 0.4705 - masked_acc: 0.7202 - masked_auc: 0.7074 - val_loss: 0.4429 - val_masked_acc: 0.7355 - val_masked_auc: 0.7439\n",
      "Epoch 3/100\n",
      "14/14 [==============================] - 1s 50ms/step - loss: 0.4550 - masked_acc: 0.7395 - masked_auc: 0.7522 - val_loss: 0.4388 - val_masked_acc: 0.7478 - val_masked_auc: 0.7654\n",
      "Epoch 4/100\n",
      "14/14 [==============================] - 1s 51ms/step - loss: 0.4543 - masked_acc: 0.7494 - masked_auc: 0.7690 - val_loss: 0.4366 - val_masked_acc: 0.7541 - val_masked_auc: 0.7769\n",
      "Epoch 5/100\n",
      "14/14 [==============================] - 1s 52ms/step - loss: 0.4475 - masked_acc: 0.7551 - masked_auc: 0.7795 - val_loss: 0.4356 - val_masked_acc: 0.7583 - val_masked_auc: 0.7845\n",
      "Epoch 6/100\n",
      "14/14 [==============================] - 1s 51ms/step - loss: 0.4449 - masked_acc: 0.7590 - masked_auc: 0.7862 - val_loss: 0.4299 - val_masked_acc: 0.7613 - val_masked_auc: 0.7904\n",
      "Epoch 7/100\n",
      "14/14 [==============================] - 1s 76ms/step - loss: 0.4324 - masked_acc: 0.7618 - masked_auc: 0.7918 - val_loss: 0.4328 - val_masked_acc: 0.7636 - val_masked_auc: 0.7952\n",
      "Epoch 8/100\n",
      "14/14 [==============================] - 1s 52ms/step - loss: 0.4334 - masked_acc: 0.7641 - masked_auc: 0.7964 - val_loss: 0.4259 - val_masked_acc: 0.7654 - val_masked_auc: 0.7993\n",
      "Epoch 9/100\n",
      "14/14 [==============================] - 1s 51ms/step - loss: 0.4323 - masked_acc: 0.7657 - masked_auc: 0.8003 - val_loss: 0.4283 - val_masked_acc: 0.7671 - val_masked_auc: 0.8029\n",
      "Epoch 10/100\n",
      "14/14 [==============================] - 1s 51ms/step - loss: 0.4148 - masked_acc: 0.7677 - masked_auc: 0.8042 - val_loss: 0.4306 - val_masked_acc: 0.7687 - val_masked_auc: 0.8063\n",
      "Epoch 11/100\n",
      "14/14 [==============================] - 1s 51ms/step - loss: 0.4217 - masked_acc: 0.7691 - masked_auc: 0.8073 - val_loss: 0.4313 - val_masked_acc: 0.7702 - val_masked_auc: 0.8092\n",
      "Epoch 12/100\n",
      "14/14 [==============================] - 1s 53ms/step - loss: 0.4103 - masked_acc: 0.7706 - masked_auc: 0.8102 - val_loss: 0.4339 - val_masked_acc: 0.7716 - val_masked_auc: 0.8119\n",
      "Epoch 13/100\n",
      "14/14 [==============================] - 1s 51ms/step - loss: 0.4121 - masked_acc: 0.7719 - masked_auc: 0.8128 - val_loss: 0.4328 - val_masked_acc: 0.7729 - val_masked_auc: 0.8146\n",
      "Epoch 14/100\n",
      "14/14 [==============================] - 1s 51ms/step - loss: 0.4090 - masked_acc: 0.7732 - masked_auc: 0.8153 - val_loss: 0.4395 - val_masked_acc: 0.7741 - val_masked_auc: 0.8170\n",
      "Epoch 15/100\n",
      "14/14 [==============================] - 1s 65ms/step - loss: 0.4014 - masked_acc: 0.7744 - masked_auc: 0.8177 - val_loss: 0.4389 - val_masked_acc: 0.7752 - val_masked_auc: 0.8192\n",
      "Epoch 16/100\n",
      "14/14 [==============================] - 1s 51ms/step - loss: 0.3985 - masked_acc: 0.7755 - masked_auc: 0.8200 - val_loss: 0.4480 - val_masked_acc: 0.7763 - val_masked_auc: 0.8213\n",
      "Epoch 17/100\n",
      "14/14 [==============================] - 1s 51ms/step - loss: 0.3977 - masked_acc: 0.7767 - masked_auc: 0.8220 - val_loss: 0.4523 - val_masked_acc: 0.7775 - val_masked_auc: 0.8232\n",
      "Epoch 18/100\n",
      "14/14 [==============================] - 1s 50ms/step - loss: 0.3964 - masked_acc: 0.7777 - masked_auc: 0.8238 - val_loss: 0.4344 - val_masked_acc: 0.7785 - val_masked_auc: 0.8250\n",
      "28/28 [==============================] - 1s 19ms/step - loss: 0.3894 - masked_acc: 0.7793 - masked_auc: 0.8263\n",
      "4/4 [==============================] - 0s 18ms/step - loss: 0.4286 - masked_acc: 0.7795 - masked_auc: 0.8271\n",
      "Test:  [0.42857789993286133, 0.7795230150222778, 0.8271375894546509]\n",
      "Epoch 1/100\n",
      "14/14 [==============================] - 7s 140ms/step - loss: 0.5871 - masked_acc: 0.6146 - masked_auc: 0.5344 - val_loss: 0.5010 - val_masked_acc: 0.7068 - val_masked_auc: 0.6758\n",
      "Epoch 2/100\n",
      "14/14 [==============================] - 1s 51ms/step - loss: 0.4657 - masked_acc: 0.7115 - masked_auc: 0.7021 - val_loss: 0.4800 - val_masked_acc: 0.7273 - val_masked_auc: 0.7401\n",
      "Epoch 3/100\n",
      "14/14 [==============================] - 1s 53ms/step - loss: 0.4544 - masked_acc: 0.7322 - masked_auc: 0.7488 - val_loss: 0.4707 - val_masked_acc: 0.7415 - val_masked_auc: 0.7632\n",
      "Epoch 4/100\n",
      "14/14 [==============================] - 1s 52ms/step - loss: 0.4414 - masked_acc: 0.7442 - masked_auc: 0.7677 - val_loss: 0.4697 - val_masked_acc: 0.7490 - val_masked_auc: 0.7753\n",
      "Epoch 5/100\n",
      "14/14 [==============================] - 1s 52ms/step - loss: 0.4538 - masked_acc: 0.7500 - masked_auc: 0.7775 - val_loss: 0.4730 - val_masked_acc: 0.7537 - val_masked_auc: 0.7826\n",
      "Epoch 6/100\n",
      "14/14 [==============================] - 1s 52ms/step - loss: 0.4457 - masked_acc: 0.7548 - masked_auc: 0.7843 - val_loss: 0.4730 - val_masked_acc: 0.7570 - val_masked_auc: 0.7877\n",
      "Epoch 7/100\n",
      "14/14 [==============================] - 1s 52ms/step - loss: 0.4411 - masked_acc: 0.7576 - masked_auc: 0.7891 - val_loss: 0.4654 - val_masked_acc: 0.7596 - val_masked_auc: 0.7925\n",
      "Epoch 8/100\n",
      "14/14 [==============================] - 1s 52ms/step - loss: 0.4327 - masked_acc: 0.7600 - masked_auc: 0.7937 - val_loss: 0.4634 - val_masked_acc: 0.7616 - val_masked_auc: 0.7967\n",
      "Epoch 9/100\n",
      "14/14 [==============================] - 1s 52ms/step - loss: 0.4293 - masked_acc: 0.7621 - masked_auc: 0.7979 - val_loss: 0.4740 - val_masked_acc: 0.7634 - val_masked_auc: 0.8005\n",
      "Epoch 10/100\n",
      "14/14 [==============================] - 1s 53ms/step - loss: 0.4208 - masked_acc: 0.7639 - masked_auc: 0.8016 - val_loss: 0.4662 - val_masked_acc: 0.7650 - val_masked_auc: 0.8038\n",
      "Epoch 11/100\n",
      "14/14 [==============================] - 1s 52ms/step - loss: 0.4196 - masked_acc: 0.7654 - masked_auc: 0.8048 - val_loss: 0.4661 - val_masked_acc: 0.7666 - val_masked_auc: 0.8069\n",
      "Epoch 12/100\n",
      "14/14 [==============================] - 1s 53ms/step - loss: 0.4201 - masked_acc: 0.7668 - masked_auc: 0.8077 - val_loss: 0.4619 - val_masked_acc: 0.7680 - val_masked_auc: 0.8097\n",
      "Epoch 13/100\n",
      "14/14 [==============================] - 1s 65ms/step - loss: 0.4021 - masked_acc: 0.7685 - masked_auc: 0.8107 - val_loss: 0.4694 - val_masked_acc: 0.7693 - val_masked_auc: 0.8125\n",
      "Epoch 14/100\n",
      "14/14 [==============================] - 1s 54ms/step - loss: 0.4069 - masked_acc: 0.7697 - masked_auc: 0.8133 - val_loss: 0.4808 - val_masked_acc: 0.7706 - val_masked_auc: 0.8149\n",
      "Epoch 15/100\n",
      "14/14 [==============================] - 1s 53ms/step - loss: 0.4062 - masked_acc: 0.7710 - masked_auc: 0.8156 - val_loss: 0.4861 - val_masked_acc: 0.7718 - val_masked_auc: 0.8171\n",
      "Epoch 16/100\n",
      "14/14 [==============================] - 1s 53ms/step - loss: 0.3993 - masked_acc: 0.7721 - masked_auc: 0.8177 - val_loss: 0.4665 - val_masked_acc: 0.7729 - val_masked_auc: 0.8192\n",
      "Epoch 17/100\n",
      "14/14 [==============================] - 1s 52ms/step - loss: 0.3985 - masked_acc: 0.7733 - masked_auc: 0.8199 - val_loss: 0.4798 - val_masked_acc: 0.7742 - val_masked_auc: 0.8213\n",
      "Epoch 18/100\n",
      "14/14 [==============================] - 1s 52ms/step - loss: 0.3948 - masked_acc: 0.7745 - masked_auc: 0.8220 - val_loss: 0.4798 - val_masked_acc: 0.7752 - val_masked_auc: 0.8232\n",
      "Epoch 19/100\n",
      "14/14 [==============================] - 1s 61ms/step - loss: 0.3935 - masked_acc: 0.7755 - masked_auc: 0.8238 - val_loss: 0.4788 - val_masked_acc: 0.7763 - val_masked_auc: 0.8251\n",
      "Epoch 20/100\n",
      "14/14 [==============================] - 1s 72ms/step - loss: 0.3857 - masked_acc: 0.7766 - masked_auc: 0.8257 - val_loss: 0.4775 - val_masked_acc: 0.7773 - val_masked_auc: 0.8268\n",
      "Epoch 21/100\n",
      "14/14 [==============================] - 1s 52ms/step - loss: 0.3798 - masked_acc: 0.7776 - masked_auc: 0.8275 - val_loss: 0.4782 - val_masked_acc: 0.7783 - val_masked_auc: 0.8286\n",
      "Epoch 22/100\n",
      "14/14 [==============================] - 1s 52ms/step - loss: 0.3764 - masked_acc: 0.7786 - masked_auc: 0.8291 - val_loss: 0.4871 - val_masked_acc: 0.7793 - val_masked_auc: 0.8303\n",
      "28/28 [==============================] - 1s 19ms/step - loss: 0.3755 - masked_acc: 0.7801 - masked_auc: 0.8314\n",
      "4/4 [==============================] - 0s 19ms/step - loss: 0.4343 - masked_acc: 0.7805 - masked_auc: 0.8321\n",
      "Test:  [0.43426042795181274, 0.7804533243179321, 0.8320612907409668]\n",
      "Epoch 1/100\n",
      "14/14 [==============================] - 6s 147ms/step - loss: 0.5820 - masked_acc: 0.6198 - masked_auc: 0.5522 - val_loss: 0.5061 - val_masked_acc: 0.7099 - val_masked_auc: 0.6874\n",
      "Epoch 2/100\n",
      "14/14 [==============================] - 1s 51ms/step - loss: 0.4669 - masked_acc: 0.7167 - masked_auc: 0.7126 - val_loss: 0.4861 - val_masked_acc: 0.7350 - val_masked_auc: 0.7469\n",
      "Epoch 3/100\n",
      "14/14 [==============================] - 1s 51ms/step - loss: 0.4482 - masked_acc: 0.7396 - masked_auc: 0.7550 - val_loss: 0.4841 - val_masked_acc: 0.7473 - val_masked_auc: 0.7684\n",
      "Epoch 4/100\n",
      "14/14 [==============================] - 1s 51ms/step - loss: 0.4444 - masked_acc: 0.7495 - masked_auc: 0.7726 - val_loss: 0.4801 - val_masked_acc: 0.7539 - val_masked_auc: 0.7796\n",
      "Epoch 5/100\n",
      "14/14 [==============================] - 1s 50ms/step - loss: 0.4515 - masked_acc: 0.7548 - masked_auc: 0.7816 - val_loss: 0.4821 - val_masked_acc: 0.7580 - val_masked_auc: 0.7867\n",
      "Epoch 6/100\n",
      "14/14 [==============================] - 1s 51ms/step - loss: 0.4368 - masked_acc: 0.7592 - masked_auc: 0.7885 - val_loss: 0.4769 - val_masked_acc: 0.7611 - val_masked_auc: 0.7918\n",
      "Epoch 7/100\n",
      "14/14 [==============================] - 1s 62ms/step - loss: 0.4359 - masked_acc: 0.7617 - masked_auc: 0.7932 - val_loss: 0.4783 - val_masked_acc: 0.7633 - val_masked_auc: 0.7963\n",
      "Epoch 8/100\n",
      "14/14 [==============================] - 1s 52ms/step - loss: 0.4248 - masked_acc: 0.7640 - masked_auc: 0.7975 - val_loss: 0.4829 - val_masked_acc: 0.7651 - val_masked_auc: 0.7997\n",
      "Epoch 9/100\n",
      "14/14 [==============================] - 1s 51ms/step - loss: 0.4292 - masked_acc: 0.7656 - masked_auc: 0.8006 - val_loss: 0.4789 - val_masked_acc: 0.7667 - val_masked_auc: 0.8026\n",
      "Epoch 10/100\n",
      "14/14 [==============================] - 1s 51ms/step - loss: 0.4220 - masked_acc: 0.7672 - masked_auc: 0.8035 - val_loss: 0.4725 - val_masked_acc: 0.7682 - val_masked_auc: 0.8057\n",
      "Epoch 11/100\n",
      "14/14 [==============================] - 1s 51ms/step - loss: 0.4241 - masked_acc: 0.7685 - masked_auc: 0.8065 - val_loss: 0.4745 - val_masked_acc: 0.7696 - val_masked_auc: 0.8086\n",
      "Epoch 12/100\n",
      "14/14 [==============================] - 1s 53ms/step - loss: 0.4189 - masked_acc: 0.7698 - masked_auc: 0.8094 - val_loss: 0.4726 - val_masked_acc: 0.7710 - val_masked_auc: 0.8115\n",
      "Epoch 13/100\n",
      "14/14 [==============================] - 1s 53ms/step - loss: 0.4147 - masked_acc: 0.7713 - masked_auc: 0.8121 - val_loss: 0.4725 - val_masked_acc: 0.7723 - val_masked_auc: 0.8141\n",
      "Epoch 14/100\n",
      "14/14 [==============================] - 1s 53ms/step - loss: 0.4038 - masked_acc: 0.7726 - masked_auc: 0.8149 - val_loss: 0.4695 - val_masked_acc: 0.7735 - val_masked_auc: 0.8166\n",
      "Epoch 15/100\n",
      "14/14 [==============================] - 1s 53ms/step - loss: 0.4013 - masked_acc: 0.7738 - masked_auc: 0.8173 - val_loss: 0.4760 - val_masked_acc: 0.7746 - val_masked_auc: 0.8188\n",
      "Epoch 16/100\n",
      "14/14 [==============================] - 1s 53ms/step - loss: 0.3967 - masked_acc: 0.7749 - masked_auc: 0.8195 - val_loss: 0.4728 - val_masked_acc: 0.7757 - val_masked_auc: 0.8209\n",
      "Epoch 17/100\n",
      "14/14 [==============================] - 1s 53ms/step - loss: 0.3887 - masked_acc: 0.7761 - masked_auc: 0.8217 - val_loss: 0.4726 - val_masked_acc: 0.7768 - val_masked_auc: 0.8230\n",
      "Epoch 18/100\n",
      "14/14 [==============================] - 1s 53ms/step - loss: 0.3880 - masked_acc: 0.7772 - masked_auc: 0.8237 - val_loss: 0.4726 - val_masked_acc: 0.7779 - val_masked_auc: 0.8251\n",
      "Epoch 19/100\n",
      "14/14 [==============================] - 1s 53ms/step - loss: 0.3886 - masked_acc: 0.7782 - masked_auc: 0.8257 - val_loss: 0.4743 - val_masked_acc: 0.7790 - val_masked_auc: 0.8270\n",
      "Epoch 20/100\n",
      "14/14 [==============================] - 1s 54ms/step - loss: 0.3871 - masked_acc: 0.7793 - masked_auc: 0.8275 - val_loss: 0.4809 - val_masked_acc: 0.7799 - val_masked_auc: 0.8287\n",
      "Epoch 21/100\n",
      "14/14 [==============================] - 1s 52ms/step - loss: 0.3828 - masked_acc: 0.7802 - masked_auc: 0.8293 - val_loss: 0.4773 - val_masked_acc: 0.7809 - val_masked_auc: 0.8304\n",
      "Epoch 22/100\n",
      "14/14 [==============================] - 1s 68ms/step - loss: 0.3791 - masked_acc: 0.7812 - masked_auc: 0.8309 - val_loss: 0.4835 - val_masked_acc: 0.7818 - val_masked_auc: 0.8319\n",
      "Epoch 23/100\n",
      "14/14 [==============================] - 1s 53ms/step - loss: 0.3805 - masked_acc: 0.7820 - masked_auc: 0.8324 - val_loss: 0.4816 - val_masked_acc: 0.7827 - val_masked_auc: 0.8334\n",
      "Epoch 24/100\n",
      "14/14 [==============================] - 1s 53ms/step - loss: 0.3741 - masked_acc: 0.7829 - masked_auc: 0.8339 - val_loss: 0.4886 - val_masked_acc: 0.7836 - val_masked_auc: 0.8349\n",
      "28/28 [==============================] - 1s 19ms/step - loss: 0.3677 - masked_acc: 0.7843 - masked_auc: 0.8359\n",
      "4/4 [==============================] - 0s 20ms/step - loss: 0.4469 - masked_acc: 0.7846 - masked_auc: 0.8365\n",
      "Test:  [0.44689732789993286, 0.7846352458000183, 0.8365347385406494]\n"
     ]
    }
   ],
   "source": [
    "# 5 fold cross validation\n",
    "#HERE WE ONLY USE\n",
    "#CHAPTER, SUB_CHAPTER\n",
    "#QUESTIONimport torch\n",
    "X = np.array(grouped_data.keys())\n",
    "kfold = KFold(n_splits=5, shuffle=True)\n",
    "train_losses = list()\n",
    "train_aucs = list()\n",
    "val_losses = list()\n",
    "val_aucs = list()\n",
    "train_eval = list()\n",
    "test_eval = list()\n",
    "for train, test in kfold.split(X):\n",
    "    users_train, users_test =  X[train], X[test]\n",
    "    n = len(users_test)//2\n",
    "    users_test, users_val = users_test[:n], users_test[n: ]\n",
    "    train_data_space = SPACE_DATASET(grouped_data[users_train], MAXLENGTH)\n",
    "    val_data_space = SPACE_DATASET(grouped_data[users_val], MAXLENGTH)\n",
    "    test_data_space = SPACE_DATASET(grouped_data[users_test], MAXLENGTH)\n",
    "    #construct training input\n",
    "    train_chapter=[]\n",
    "    train_sub_chapter=[]\n",
    "    train_question = []\n",
    "    train_features=[]\n",
    "    train_labels=[]\n",
    "    for i in range(len(users_train)):\n",
    "        user = train_data_space.__getitem__(i)\n",
    "        train_chapter.append(user[0])\n",
    "        train_sub_chapter.append(user[1]) \n",
    "        train_question.append(user[2])\n",
    "        #train_features.append(user[3])\n",
    "        train_labels.append(user[3])\n",
    "    train_chapter = np.array(train_chapter)\n",
    "    train_sub_chapter = np.array(train_sub_chapter)\n",
    "    train_question = np.array(train_question)\n",
    "    #train_features = np.array(train_features)\n",
    "    train_labels= np.array(train_labels)[..., np.newaxis]\n",
    "\n",
    "    #construct validation input\n",
    "    val_chapter=[]\n",
    "    val_sub_chapter=[]\n",
    "    val_question = []\n",
    "    #val_features=[]\n",
    "    val_labels=[]\n",
    "    for i in range(len(users_val)):\n",
    "        user = val_data_space.__getitem__(i)\n",
    "        val_chapter.append(user[0])\n",
    "        val_sub_chapter.append(user[1]) \n",
    "        val_question.append(user[2])\n",
    "        #val_features.append(user[3])\n",
    "        val_labels.append(user[3])\n",
    "    val_chapter = np.array(val_chapter)\n",
    "    val_sub_chapter = np.array(val_sub_chapter)\n",
    "    #val_features = np.array(val_features)\n",
    "    val_question = np.array(val_question)\n",
    "    val_labels= np.array(val_labels)[..., np.newaxis]\n",
    "\n",
    "    # construct test input\n",
    "    test_chapter=[]\n",
    "    test_sub_chapter=[]\n",
    "    #test_features=[]\n",
    "    test_question=[]\n",
    "    test_labels=[]\n",
    "    for i in range(len(users_test)):\n",
    "        user = test_data_space.__getitem__(i)\n",
    "        test_chapter.append(user[0])\n",
    "        test_sub_chapter.append(user[1]) \n",
    "        test_question.append(user[2])\n",
    "        #test_features.append(user[3])\n",
    "        test_labels.append(user[3])\n",
    "    test_chapter = np.array(test_chapter)\n",
    "    test_sub_chapter = np.array(test_sub_chapter)\n",
    "    #test_features = np.array(test_features)\n",
    "    test_question = np.array(test_question)\n",
    "    test_labels= np.array(test_labels)[..., np.newaxis]\n",
    "\n",
    "    # define loss function and evaluation metrics\n",
    "    bce = tf.keras.losses.BinaryCrossentropy(from_logits=True)\n",
    "    acc = tf.keras.metrics.Accuracy()\n",
    "    auc = tf.keras.metrics.AUC()\n",
    "\n",
    "    def masked_bce(y_true, y_pred):\n",
    "      flat_pred = y_pred\n",
    "      flat_ground_truth = y_true\n",
    "      label_mask = tf.math.not_equal(flat_ground_truth, -1)\n",
    "      return bce(flat_ground_truth, flat_pred, sample_weight=label_mask)\n",
    "\n",
    "    def masked_acc(y_true, y_pred):\n",
    "      flat_pred = y_pred\n",
    "      flat_ground_truth = y_true\n",
    "      flat_pred = (flat_pred >= 0.5)\n",
    "      label_mask = tf.math.not_equal(flat_ground_truth, -1)\n",
    "      return acc(flat_ground_truth, flat_pred, sample_weight=label_mask)\n",
    "\n",
    "    def masked_auc(y_true, y_pred):\n",
    "      flat_pred = y_pred\n",
    "      flat_ground_truth = y_true\n",
    "      label_mask = tf.math.not_equal(flat_ground_truth, -1)\n",
    "      return auc(flat_ground_truth, flat_pred, sample_weight=label_mask)\n",
    "\n",
    "    # input layer\n",
    "    input_chap = tf.keras.Input(shape=(MAXLENGTH))\n",
    "    input_sub_chap = tf.keras.Input(shape=(MAXLENGTH))\n",
    "    input_ques =  tf.keras.Input(shape=(MAXLENGTH))\n",
    "    #input_features = tf.keras.Input(shape=(MAXLENGTH, FEATURES_SIZE))\n",
    "\n",
    "    # embedding layer for categorical features\n",
    "    embedding_chap = Embedding(input_dim = CHAPTER_SIZE, output_dim = EMBEDDING_DIM)(input_chap)\n",
    "    embedding_sub_chap = Embedding(input_dim = SUB_CHAPTER_SIZE, output_dim = EMBEDDING_DIM)(input_sub_chap) \n",
    "    embedding_ques = Embedding(input_dim = QUESTION_SIZE, output_dim = EMBEDDING_DIM)(input_ques)       \n",
    "\n",
    "    # dense layer for numeric features\n",
    "    #dense_features = Dense(EMBEDDING_DIM,input_shape = (None, MAXLENGTH))(input_features)\n",
    "\n",
    "    # definr gru layers\n",
    "    gru_chap = GRU(GRU_NEURON, input_shape = (None, EMBEDDING_DIM),return_sequences = True)(embedding_chap)\n",
    "    gru_sub_chap = GRU(GRU_NEURON, input_shape = (None, EMBEDDING_DIM),return_sequences = True)(embedding_sub_chap)\n",
    "    gru_ques = GRU(GRU_NEURON, input_shape = (None, EMBEDDING_DIM),return_sequences = True)(embedding_ques)\n",
    "    #gru_features = GRU(GRU_NEURON, input_shape = (None, EMBEDDING_DIM),return_sequences = True)(dense_features)\n",
    "\n",
    "    gru_output = tf.concat([gru_chap, gru_sub_chap, gru_ques], axis = 2)\n",
    "\n",
    "    dense1 = Dense(256, input_shape = (None, 3*EMBEDDING_DIM), activation='relu')(gru_output)\n",
    "    dropout1 = Dropout(0.1)(dense1)\n",
    "    dense2 = Dense(64, input_shape = (None, 256), activation='relu')(dropout1)\n",
    "    dropout2 = Dropout(0.1)(dense2)\n",
    "    pred = Dense(1, input_shape = (None, 64), activation='sigmoid')(dropout2)\n",
    "\n",
    "    model = tf.keras.Model(\n",
    "        inputs=[input_chap, input_sub_chap,input_ques],\n",
    "        outputs=pred,\n",
    "        name='gru_model'\n",
    "    )\n",
    "\n",
    "    callback = tf.keras.callbacks.EarlyStopping(monitor='val_loss', patience=10)\n",
    "    opt_adam = Adam(learning_rate = 0.005)\n",
    "    model.compile(\n",
    "        optimizer=opt_adam,\n",
    "        loss= masked_bce,\n",
    "        metrics = [masked_acc, masked_auc]\n",
    "    )\n",
    "\n",
    "    history = model.fit(\n",
    "      [train_chapter, train_sub_chapter, train_question],\n",
    "      train_labels,\n",
    "      batch_size = 64,\n",
    "      epochs = 100,\n",
    "      validation_data=([val_chapter, val_sub_chapter, val_question], val_labels),\n",
    "      callbacks=[callback]\n",
    "    )\n",
    "    val_losses.append(list(history.history['val_loss']))\n",
    "    train_losses.append(list(history.history['loss']))\n",
    "    val_aucs.append(list(history.history['val_masked_auc']))\n",
    "    train_aucs.append(list(history.history['masked_auc']))\n",
    "    train_score = model.evaluate([train_chapter, train_sub_chapter, train_question], train_labels)\n",
    "    train_eval.append(train_score)\n",
    "    test_score = model.evaluate([test_chapter, test_sub_chapter, test_question], test_labels)\n",
    "    test_eval.append(test_score)\n",
    "    print(\"Test: \", test_score)\n",
    "    def reset_weights(model):\n",
    "      for layer in model.layers: \n",
    "        if isinstance(layer, tf.keras.Model):\n",
    "          reset_weights(layer)\n",
    "          continue\n",
    "        for k, initializer in layer.__dict__.items():\n",
    "          if \"initializer\" not in k:\n",
    "            continue\n",
    "          # find the corresponding variable\n",
    "          var = getattr(layer, k.replace(\"_initializer\", \"\"))\n",
    "          var.assign(initializer(var.shape, var.dtype))\n",
    "    reset_weights(model)"
   ]
  },
  {
   "cell_type": "code",
   "execution_count": 29,
   "metadata": {
    "execution": {
     "iopub.execute_input": "2021-07-26T22:27:16.515840Z",
     "iopub.status.busy": "2021-07-26T22:27:16.515576Z",
     "iopub.status.idle": "2021-07-26T22:27:16.523879Z",
     "shell.execute_reply": "2021-07-26T22:27:16.522908Z",
     "shell.execute_reply.started": "2021-07-26T22:27:16.515813Z"
    },
    "id": "QsVmumHMz3lx",
    "outputId": "4ff1e2fa-6abb-458e-c729-495b456f53e5"
   },
   "outputs": [
    {
     "name": "stdout",
     "output_type": "stream",
     "text": [
      "test avg loss:  0.4342885911464691 +/- 0.012644194942095836\n",
      "test avg acc:  0.7812091827392578 +/- 0.0018395618706384324\n",
      "test avg auc:  0.8313292384147644 +/- 0.0033766629070670065\n"
     ]
    }
   ],
   "source": [
    "t_eval = np.array(test_eval)\n",
    "print(\"test avg loss: \", np.mean(t_eval[:, 0]), \"+/-\" ,np.std(t_eval[:, 0]))\n",
    "print(\"test avg acc: \", np.mean(t_eval[:, 1]),  \"+/-\" ,np.std(t_eval[:, 1]))\n",
    "print(\"test avg auc: \", np.mean(t_eval[:, 2]), \"+/-\" ,np.std(t_eval[:, 2]))"
   ]
  },
  {
   "cell_type": "code",
   "execution_count": 30,
   "metadata": {
    "execution": {
     "iopub.execute_input": "2021-07-26T22:27:16.525549Z",
     "iopub.status.busy": "2021-07-26T22:27:16.525140Z",
     "iopub.status.idle": "2021-07-26T22:27:16.536583Z",
     "shell.execute_reply": "2021-07-26T22:27:16.535573Z",
     "shell.execute_reply.started": "2021-07-26T22:27:16.525500Z"
    },
    "id": "b9MM_CXWz5K6",
    "outputId": "4cf88e1d-3a74-4e7d-f92c-d01522e91757"
   },
   "outputs": [
    {
     "name": "stdout",
     "output_type": "stream",
     "text": [
      "train avg loss:  0.37831300497055054 +/- 0.007231769852109576\n",
      "train avg acc:  0.7809113740921021 +/- 0.0018338091169354954\n",
      "train avg auc:  0.8306268572807312 +/- 0.003460526023559387\n"
     ]
    }
   ],
   "source": [
    "t_eval = np.array(train_eval)\n",
    "print(\"train avg loss: \", np.mean(t_eval[:, 0]), \"+/-\" ,np.std(t_eval[:, 0]))\n",
    "print(\"train avg acc: \", np.mean(t_eval[:, 1]),  \"+/-\" ,np.std(t_eval[:, 1]))\n",
    "print(\"train avg auc: \", np.mean(t_eval[:, 2]), \"+/-\" ,np.std(t_eval[:, 2]))"
   ]
  }
 ],
 "metadata": {
  "kernelspec": {
   "display_name": "Python 3",
   "language": "python",
   "name": "python3"
  },
  "language_info": {
   "codemirror_mode": {
    "name": "ipython",
    "version": 3
   },
   "file_extension": ".py",
   "mimetype": "text/x-python",
   "name": "python",
   "nbconvert_exporter": "python",
   "pygments_lexer": "ipython3",
   "version": "3.8.5"
  }
 },
 "nbformat": 4,
 "nbformat_minor": 4
}
