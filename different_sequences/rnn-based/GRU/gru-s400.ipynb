{
 "cells": [
  {
   "cell_type": "code",
   "execution_count": 1,
   "metadata": {
    "execution": {
     "iopub.execute_input": "2021-07-26T22:29:28.008436Z",
     "iopub.status.busy": "2021-07-26T22:29:28.007847Z",
     "iopub.status.idle": "2021-07-26T22:29:30.337384Z",
     "shell.execute_reply": "2021-07-26T22:29:30.336482Z",
     "shell.execute_reply.started": "2021-07-26T22:29:28.008327Z"
    },
    "id": "farifxiKU1aB"
   },
   "outputs": [],
   "source": [
    "import numpy as np\n",
    "import pandas as pd\n",
    "import warnings\n",
    "import gc\n",
    "import tensorflow as tf\n",
    "from tensorflow import keras\n",
    "\n",
    "import random\n",
    "from random import choice\n",
    "from tensorflow.keras.optimizers import Adam\n",
    "from tensorflow.keras.models import Sequential \n",
    "from tensorflow.keras.layers import Dense, GRU, Concatenate, Embedding, Flatten, Activation, Dropout\n",
    "from sklearn.model_selection import KFold\n",
    "from tensorflow.python.client import device_lib\n",
    "warnings.filterwarnings('ignore')\n",
    "import random"
   ]
  },
  {
   "cell_type": "code",
   "execution_count": 2,
   "metadata": {
    "execution": {
     "iopub.execute_input": "2021-07-26T22:29:30.344294Z",
     "iopub.status.busy": "2021-07-26T22:29:30.341935Z",
     "iopub.status.idle": "2021-07-26T22:29:30.351066Z",
     "shell.execute_reply": "2021-07-26T22:29:30.350316Z",
     "shell.execute_reply.started": "2021-07-26T22:29:30.344252Z"
    },
    "id": "QOson70GPOXb"
   },
   "outputs": [],
   "source": [
    "import gc"
   ]
  },
  {
   "cell_type": "markdown",
   "metadata": {
    "id": "BQsVybBH3VPw"
   },
   "source": [
    "## Data Preprocessing"
   ]
  },
  {
   "cell_type": "code",
   "execution_count": 3,
   "metadata": {
    "execution": {
     "iopub.execute_input": "2021-07-26T22:29:30.358993Z",
     "iopub.status.busy": "2021-07-26T22:29:30.356637Z",
     "iopub.status.idle": "2021-07-26T22:29:34.959063Z",
     "shell.execute_reply": "2021-07-26T22:29:34.958137Z",
     "shell.execute_reply.started": "2021-07-26T22:29:30.358954Z"
    },
    "id": "rwtTusGxrmAE",
    "outputId": "1430f3cf-038b-485e-b5c4-c1686b1f34fd"
   },
   "outputs": [
    {
     "data": {
      "text/html": [
       "<div>\n",
       "<style scoped>\n",
       "    .dataframe tbody tr th:only-of-type {\n",
       "        vertical-align: middle;\n",
       "    }\n",
       "\n",
       "    .dataframe tbody tr th {\n",
       "        vertical-align: top;\n",
       "    }\n",
       "\n",
       "    .dataframe thead th {\n",
       "        text-align: right;\n",
       "    }\n",
       "</style>\n",
       "<table border=\"1\" class=\"dataframe\">\n",
       "  <thead>\n",
       "    <tr style=\"text-align: right;\">\n",
       "      <th></th>\n",
       "      <th>Unnamed: 0</th>\n",
       "      <th>chapter_label</th>\n",
       "      <th>sub_chapter_label</th>\n",
       "      <th>question_name</th>\n",
       "      <th>user_id.x</th>\n",
       "      <th>term</th>\n",
       "      <th>STDNT_SEX_CD</th>\n",
       "      <th>NonNativeEnglish</th>\n",
       "      <th>White</th>\n",
       "      <th>Asian</th>\n",
       "      <th>...</th>\n",
       "      <th>classGraded</th>\n",
       "      <th>classHonors</th>\n",
       "      <th>Pass_Fail</th>\n",
       "      <th>parentsGraduateEdu</th>\n",
       "      <th>minorityGroup</th>\n",
       "      <th>q</th>\n",
       "      <th>day's_available_flashcards</th>\n",
       "      <th>start_practice</th>\n",
       "      <th>end_practice</th>\n",
       "      <th>days_offset</th>\n",
       "    </tr>\n",
       "  </thead>\n",
       "  <tbody>\n",
       "    <tr>\n",
       "      <th>0</th>\n",
       "      <td>1</td>\n",
       "      <td>Sort</td>\n",
       "      <td>intro-SortingwithSortandSorted</td>\n",
       "      <td>ee_sort_04</td>\n",
       "      <td>148</td>\n",
       "      <td>WN 2018</td>\n",
       "      <td>1</td>\n",
       "      <td>0</td>\n",
       "      <td>1</td>\n",
       "      <td>0</td>\n",
       "      <td>...</td>\n",
       "      <td>1</td>\n",
       "      <td>0</td>\n",
       "      <td>0</td>\n",
       "      <td>0</td>\n",
       "      <td>0</td>\n",
       "      <td>0</td>\n",
       "      <td>18</td>\n",
       "      <td>2018-03-04 20:00:19</td>\n",
       "      <td>2018-03-04 20:00:35</td>\n",
       "      <td>45</td>\n",
       "    </tr>\n",
       "    <tr>\n",
       "      <th>1</th>\n",
       "      <td>2</td>\n",
       "      <td>Functions</td>\n",
       "      <td>Returningavaluefromafunction</td>\n",
       "      <td>test_questionfunctions_2_3</td>\n",
       "      <td>148</td>\n",
       "      <td>WN 2018</td>\n",
       "      <td>1</td>\n",
       "      <td>0</td>\n",
       "      <td>1</td>\n",
       "      <td>0</td>\n",
       "      <td>...</td>\n",
       "      <td>1</td>\n",
       "      <td>0</td>\n",
       "      <td>0</td>\n",
       "      <td>0</td>\n",
       "      <td>0</td>\n",
       "      <td>4</td>\n",
       "      <td>16</td>\n",
       "      <td>2018-02-10 11:57:55</td>\n",
       "      <td>2018-02-10 11:58:35</td>\n",
       "      <td>23</td>\n",
       "    </tr>\n",
       "    <tr>\n",
       "      <th>2</th>\n",
       "      <td>3</td>\n",
       "      <td>RESTAPIs</td>\n",
       "      <td>functionswithrestapis</td>\n",
       "      <td>test_question_functions_rest_apis_1</td>\n",
       "      <td>148</td>\n",
       "      <td>WN 2018</td>\n",
       "      <td>1</td>\n",
       "      <td>0</td>\n",
       "      <td>1</td>\n",
       "      <td>0</td>\n",
       "      <td>...</td>\n",
       "      <td>1</td>\n",
       "      <td>0</td>\n",
       "      <td>0</td>\n",
       "      <td>0</td>\n",
       "      <td>0</td>\n",
       "      <td>1</td>\n",
       "      <td>2</td>\n",
       "      <td>2018-03-12 17:03:07</td>\n",
       "      <td>2018-03-12 17:04:28</td>\n",
       "      <td>53</td>\n",
       "    </tr>\n",
       "    <tr>\n",
       "      <th>3</th>\n",
       "      <td>4</td>\n",
       "      <td>SimplePythonData</td>\n",
       "      <td>FunctionCalls</td>\n",
       "      <td>exercise_functionCalls_1</td>\n",
       "      <td>148</td>\n",
       "      <td>WN 2018</td>\n",
       "      <td>1</td>\n",
       "      <td>0</td>\n",
       "      <td>1</td>\n",
       "      <td>0</td>\n",
       "      <td>...</td>\n",
       "      <td>1</td>\n",
       "      <td>0</td>\n",
       "      <td>0</td>\n",
       "      <td>0</td>\n",
       "      <td>0</td>\n",
       "      <td>0</td>\n",
       "      <td>10</td>\n",
       "      <td>2018-01-30 14:15:49</td>\n",
       "      <td>2018-01-30 14:15:58</td>\n",
       "      <td>12</td>\n",
       "    </tr>\n",
       "    <tr>\n",
       "      <th>4</th>\n",
       "      <td>5</td>\n",
       "      <td>DictionaryAccumulation</td>\n",
       "      <td>AccumulatingaMaximumValue</td>\n",
       "      <td>ps_04_07</td>\n",
       "      <td>148</td>\n",
       "      <td>WN 2018</td>\n",
       "      <td>1</td>\n",
       "      <td>0</td>\n",
       "      <td>1</td>\n",
       "      <td>0</td>\n",
       "      <td>...</td>\n",
       "      <td>1</td>\n",
       "      <td>0</td>\n",
       "      <td>0</td>\n",
       "      <td>0</td>\n",
       "      <td>0</td>\n",
       "      <td>0</td>\n",
       "      <td>23</td>\n",
       "      <td>2018-03-03 14:04:17</td>\n",
       "      <td>2018-03-03 14:04:25</td>\n",
       "      <td>44</td>\n",
       "    </tr>\n",
       "  </tbody>\n",
       "</table>\n",
       "<p>5 rows × 48 columns</p>\n",
       "</div>"
      ],
      "text/plain": [
       "   Unnamed: 0           chapter_label               sub_chapter_label  \\\n",
       "0           1                    Sort  intro-SortingwithSortandSorted   \n",
       "1           2               Functions    Returningavaluefromafunction   \n",
       "2           3                RESTAPIs           functionswithrestapis   \n",
       "3           4        SimplePythonData                   FunctionCalls   \n",
       "4           5  DictionaryAccumulation       AccumulatingaMaximumValue   \n",
       "\n",
       "                         question_name  user_id.x     term  STDNT_SEX_CD  \\\n",
       "0                           ee_sort_04        148  WN 2018             1   \n",
       "1           test_questionfunctions_2_3        148  WN 2018             1   \n",
       "2  test_question_functions_rest_apis_1        148  WN 2018             1   \n",
       "3             exercise_functionCalls_1        148  WN 2018             1   \n",
       "4                             ps_04_07        148  WN 2018             1   \n",
       "\n",
       "   NonNativeEnglish  White  Asian  ...  classGraded  classHonors  Pass_Fail  \\\n",
       "0                 0      1      0  ...            1            0          0   \n",
       "1                 0      1      0  ...            1            0          0   \n",
       "2                 0      1      0  ...            1            0          0   \n",
       "3                 0      1      0  ...            1            0          0   \n",
       "4                 0      1      0  ...            1            0          0   \n",
       "\n",
       "   parentsGraduateEdu  minorityGroup  q  day's_available_flashcards  \\\n",
       "0                   0              0  0                          18   \n",
       "1                   0              0  4                          16   \n",
       "2                   0              0  1                           2   \n",
       "3                   0              0  0                          10   \n",
       "4                   0              0  0                          23   \n",
       "\n",
       "        start_practice         end_practice  days_offset  \n",
       "0  2018-03-04 20:00:19  2018-03-04 20:00:35           45  \n",
       "1  2018-02-10 11:57:55  2018-02-10 11:58:35           23  \n",
       "2  2018-03-12 17:03:07  2018-03-12 17:04:28           53  \n",
       "3  2018-01-30 14:15:49  2018-01-30 14:15:58           12  \n",
       "4  2018-03-03 14:04:17  2018-03-03 14:04:25           44  \n",
       "\n",
       "[5 rows x 48 columns]"
      ]
     },
     "execution_count": 3,
     "metadata": {},
     "output_type": "execute_result"
    }
   ],
   "source": [
    "# load the data\n",
    "import pandas as pd\n",
    "dataframe = pd.read_csv('../input/practice-log-demographics/Practice_Log_Demographics (1).csv', low_memory=False)\n",
    "dataframe.head()"
   ]
  },
  {
   "cell_type": "code",
   "execution_count": 4,
   "metadata": {
    "execution": {
     "iopub.execute_input": "2021-07-26T22:29:34.961339Z",
     "iopub.status.busy": "2021-07-26T22:29:34.960930Z",
     "iopub.status.idle": "2021-07-26T22:29:36.280633Z",
     "shell.execute_reply": "2021-07-26T22:29:36.279708Z",
     "shell.execute_reply.started": "2021-07-26T22:29:34.961297Z"
    },
    "id": "OCbHnEp_Vir0"
   },
   "outputs": [],
   "source": [
    "#sort data based on timestamp\n",
    "dataframe = dataframe.sort_values(by=['start_practice'])"
   ]
  },
  {
   "cell_type": "code",
   "execution_count": 5,
   "metadata": {
    "execution": {
     "iopub.execute_input": "2021-07-26T22:29:36.282559Z",
     "iopub.status.busy": "2021-07-26T22:29:36.282176Z",
     "iopub.status.idle": "2021-07-26T22:29:36.290439Z",
     "shell.execute_reply": "2021-07-26T22:29:36.289437Z",
     "shell.execute_reply.started": "2021-07-26T22:29:36.282503Z"
    },
    "id": "0RvF7BvEr98o"
   },
   "outputs": [],
   "source": [
    "FEATURES = ['chapter_label', 'sub_chapter_label','question_name','user_id','term',\n",
    "            'STDNT_SEX_CD', \n",
    "            'NonNativeEnglish',\n",
    "            'White',\n",
    "            'Asian',\n",
    "            'WhiteOrAsian',\n",
    "            'Hispanic',\n",
    "            'AfricanAmerican',\n",
    "            'OtherEthnicities',\n",
    "            'NonWhiteOrAsian',\n",
    "            'STDNT_CTZN_STAT_CD', 'international', \n",
    "            'gradingType',\n",
    "            'birthYear',\n",
    "            'exclClassCumGPA',\n",
    "            'Freshman',\n",
    "            'Junior',\n",
    "            'Sophomore',\n",
    "            'Senior',\n",
    "            'termCreditsGPA',\n",
    "            'termCreditsNoGPA',\n",
    "            'athlete_1',\n",
    "            'honorsPro',\n",
    "            'LSA', 'programBusiness', 'programEngineering', \n",
    "            'programInformation', 'programOther',\n",
    "            'HSCalculusTaken', \n",
    "            'highSchoolGPA', \n",
    "            'majorsCount', 'minorsCount',\n",
    "            'PREV_TERM_CUM_GPA',\n",
    "            'classGraded', 'classHonors', \n",
    "            'Pass_Fail', \n",
    "            'parentsGraduateEdu',  'minorityGroup', \n",
    "            'q',\n",
    "            'available_flashcards', \n",
    "            'start_practice', \n",
    "            'end_practice',\n",
    "            'days_offset']"
   ]
  },
  {
   "cell_type": "code",
   "execution_count": 6,
   "metadata": {
    "execution": {
     "iopub.execute_input": "2021-07-26T22:29:36.292355Z",
     "iopub.status.busy": "2021-07-26T22:29:36.291887Z",
     "iopub.status.idle": "2021-07-26T22:29:36.832710Z",
     "shell.execute_reply": "2021-07-26T22:29:36.831447Z",
     "shell.execute_reply.started": "2021-07-26T22:29:36.292315Z"
    },
    "id": "Mn341X7lSztl"
   },
   "outputs": [],
   "source": [
    "dataframe['available_flashcards'] = dataframe[\"day's_available_flashcards\"][:]\n",
    "dataframe = dataframe.drop([\"day's_available_flashcards\"], axis=1)\n",
    "dataframe['user_id'] = dataframe[\"user_id.x\"][:]\n",
    "dataframe = dataframe.drop([\"user_id.x\"], axis=1)"
   ]
  },
  {
   "cell_type": "code",
   "execution_count": 7,
   "metadata": {
    "execution": {
     "iopub.execute_input": "2021-07-26T22:29:36.834718Z",
     "iopub.status.busy": "2021-07-26T22:29:36.834331Z",
     "iopub.status.idle": "2021-07-26T22:29:37.043674Z",
     "shell.execute_reply": "2021-07-26T22:29:37.042473Z",
     "shell.execute_reply.started": "2021-07-26T22:29:36.834676Z"
    },
    "id": "-_BRggOjbBjN",
    "outputId": "42bff7db-08dd-48dc-a73a-d048508053b7"
   },
   "outputs": [
    {
     "data": {
      "text/plain": [
       "66"
      ]
     },
     "execution_count": 7,
     "metadata": {},
     "output_type": "execute_result"
    }
   ],
   "source": [
    "gc.collect()"
   ]
  },
  {
   "cell_type": "code",
   "execution_count": 8,
   "metadata": {
    "execution": {
     "iopub.execute_input": "2021-07-26T22:29:37.048053Z",
     "iopub.status.busy": "2021-07-26T22:29:37.047489Z",
     "iopub.status.idle": "2021-07-26T22:29:37.360249Z",
     "shell.execute_reply": "2021-07-26T22:29:37.359400Z",
     "shell.execute_reply.started": "2021-07-26T22:29:37.048005Z"
    },
    "id": "lXM7MlonVeRL",
    "outputId": "d29ccec0-522f-4e3c-e0b2-39b2e1eaef74"
   },
   "outputs": [
    {
     "data": {
      "text/plain": [
       "22"
      ]
     },
     "execution_count": 8,
     "metadata": {},
     "output_type": "execute_result"
    }
   ],
   "source": [
    "dataframe = dataframe[FEATURES]\n",
    "gc.collect()"
   ]
  },
  {
   "cell_type": "code",
   "execution_count": 9,
   "metadata": {
    "execution": {
     "iopub.execute_input": "2021-07-26T22:29:37.362650Z",
     "iopub.status.busy": "2021-07-26T22:29:37.362279Z",
     "iopub.status.idle": "2021-07-26T22:29:38.870685Z",
     "shell.execute_reply": "2021-07-26T22:29:38.869751Z",
     "shell.execute_reply.started": "2021-07-26T22:29:37.362609Z"
    },
    "id": "qRKqF_0IXZgj"
   },
   "outputs": [],
   "source": [
    "#label encode term, chapter_label, question_name, sub_chapter_label columns\n",
    "dataframe['term'] = dataframe['term'].astype('category')\n",
    "dataframe['user_id'] = dataframe['user_id'].astype(int)\n",
    "dataframe['user_id'] = dataframe['user_id'].astype(str)\n",
    "dataframe['user_id'] = dataframe['term'].str.cat(dataframe['user_id'], sep=':')\n",
    "dataframe['user_id'] = dataframe['user_id'].astype('category')\n",
    "dataframe['chapter_label'] = dataframe['chapter_label'].astype('category')\n",
    "dataframe['sub_chapter_label'] = dataframe['sub_chapter_label'].astype('category')\n",
    "dataframe['question_name'] = dataframe['question_name'].astype('category')\n"
   ]
  },
  {
   "cell_type": "code",
   "execution_count": 10,
   "metadata": {
    "execution": {
     "iopub.execute_input": "2021-07-26T22:29:38.872490Z",
     "iopub.status.busy": "2021-07-26T22:29:38.872101Z",
     "iopub.status.idle": "2021-07-26T22:29:39.384267Z",
     "shell.execute_reply": "2021-07-26T22:29:39.383375Z",
     "shell.execute_reply.started": "2021-07-26T22:29:38.872447Z"
    },
    "id": "eVl_067GWkDe"
   },
   "outputs": [],
   "source": [
    "#calculate time_lag and prev_time_elapsed\n",
    "dataframe['prev_time_elapsed'] = None\n",
    "dataframe['time_lag'] = None\n",
    "dataframe['time_lag'] = dataframe['time_lag'].astype(np.float)\n",
    "dataframe['prev_time_elapsed'] = dataframe['prev_time_elapsed'].astype(np.float)\n",
    "dataframe.start_practice = pd.to_datetime(dataframe.start_practice, format='%Y-%m-%d %H:%M:%S')\n",
    "dataframe.end_practice = pd.to_datetime(dataframe.end_practice, format='%Y-%m-%d %H:%M:%S')"
   ]
  },
  {
   "cell_type": "code",
   "execution_count": 11,
   "metadata": {
    "execution": {
     "iopub.execute_input": "2021-07-26T22:29:39.386146Z",
     "iopub.status.busy": "2021-07-26T22:29:39.385632Z",
     "iopub.status.idle": "2021-07-26T22:29:39.412788Z",
     "shell.execute_reply": "2021-07-26T22:29:39.411975Z",
     "shell.execute_reply.started": "2021-07-26T22:29:39.386104Z"
    }
   },
   "outputs": [],
   "source": [
    "dataframe['dif'] = dataframe.end_practice - dataframe.start_practice\n",
    "dataframe['dif'] = dataframe['dif'] /np.timedelta64(1, 's')\n",
    "dataframe['answer_correct'] = np.where((dataframe['q']==5) & (dataframe['dif'] <= 60), 1, 0)"
   ]
  },
  {
   "cell_type": "code",
   "execution_count": 13,
   "metadata": {
    "execution": {
     "iopub.execute_input": "2021-07-26T22:29:56.436422Z",
     "iopub.status.busy": "2021-07-26T22:29:56.436057Z",
     "iopub.status.idle": "2021-07-26T22:29:56.508743Z",
     "shell.execute_reply": "2021-07-26T22:29:56.507821Z",
     "shell.execute_reply.started": "2021-07-26T22:29:56.436379Z"
    },
    "id": "8t8yZ0XvWwzz"
   },
   "outputs": [],
   "source": [
    "#drop column end_practice\n",
    "dataframe.drop(columns=['end_practice'], inplace=True)"
   ]
  },
  {
   "cell_type": "code",
   "execution_count": 14,
   "metadata": {
    "execution": {
     "iopub.execute_input": "2021-07-26T22:29:56.510540Z",
     "iopub.status.busy": "2021-07-26T22:29:56.510123Z",
     "iopub.status.idle": "2021-07-26T22:29:56.893575Z",
     "shell.execute_reply": "2021-07-26T22:29:56.892690Z",
     "shell.execute_reply.started": "2021-07-26T22:29:56.510483Z"
    },
    "id": "E42raRIrYYXz"
   },
   "outputs": [],
   "source": [
    "# calculate the age feature\n",
    "dataframe['term_value'] = [int(ele[3:]) for ele in dataframe['term']]\n",
    "dataframe['age'] = dataframe['term_value'] - dataframe['birthYear']"
   ]
  },
  {
   "cell_type": "code",
   "execution_count": 15,
   "metadata": {
    "execution": {
     "iopub.execute_input": "2021-07-26T22:29:56.895404Z",
     "iopub.status.busy": "2021-07-26T22:29:56.894872Z",
     "iopub.status.idle": "2021-07-26T22:29:57.078546Z",
     "shell.execute_reply": "2021-07-26T22:29:57.077604Z",
     "shell.execute_reply.started": "2021-07-26T22:29:56.895360Z"
    },
    "id": "pcMVQXueYnMh"
   },
   "outputs": [],
   "source": [
    "# drop term_value and birthYear column\n",
    "dataframe.drop(columns=['term_value', 'birthYear'], inplace=True)"
   ]
  },
  {
   "cell_type": "code",
   "execution_count": 16,
   "metadata": {
    "execution": {
     "iopub.execute_input": "2021-07-26T22:29:57.080401Z",
     "iopub.status.busy": "2021-07-26T22:29:57.079868Z",
     "iopub.status.idle": "2021-07-26T22:29:57.490756Z",
     "shell.execute_reply": "2021-07-26T22:29:57.489762Z",
     "shell.execute_reply.started": "2021-07-26T22:29:57.080359Z"
    },
    "id": "hjRF5szkcQE0"
   },
   "outputs": [],
   "source": [
    "# convert minors_count to int value\n",
    "new_minors_count = []\n",
    "for i in dataframe['minorsCount']:\n",
    "  if i == 0 or i == '0':\n",
    "    new_minors_count.append(0)\n",
    "  elif i == '1 Minor':\n",
    "    new_minors_count.append(1)\n",
    "  else:\n",
    "    new_minors_count.append(2)\n",
    "\n",
    "dataframe['minorsCount'] = new_minors_count"
   ]
  },
  {
   "cell_type": "code",
   "execution_count": 17,
   "metadata": {
    "execution": {
     "iopub.execute_input": "2021-07-26T22:29:57.492491Z",
     "iopub.status.busy": "2021-07-26T22:29:57.492103Z",
     "iopub.status.idle": "2021-07-26T22:29:57.507243Z",
     "shell.execute_reply": "2021-07-26T22:29:57.506247Z",
     "shell.execute_reply.started": "2021-07-26T22:29:57.492445Z"
    },
    "id": "9VdzvJSw0KUU",
    "outputId": "6393784f-234e-4935-9cee-cbcf56b5630a"
   },
   "outputs": [
    {
     "name": "stdout",
     "output_type": "stream",
     "text": [
      "we have  1110  users in total.\n"
     ]
    }
   ],
   "source": [
    "print(\"we have \", dataframe['user_id'].nunique(),\" users in total.\")"
   ]
  },
  {
   "cell_type": "code",
   "execution_count": 18,
   "metadata": {
    "execution": {
     "iopub.execute_input": "2021-07-26T22:29:57.508923Z",
     "iopub.status.busy": "2021-07-26T22:29:57.508558Z",
     "iopub.status.idle": "2021-07-26T22:29:57.518985Z",
     "shell.execute_reply": "2021-07-26T22:29:57.518074Z",
     "shell.execute_reply.started": "2021-07-26T22:29:57.508886Z"
    },
    "id": "hUaGk9L9g13t"
   },
   "outputs": [],
   "source": [
    "for category in ['term','chapter_label', 'sub_chapter_label', 'question_name']:\n",
    "  dataframe[category] =  dataframe[category].cat.codes"
   ]
  },
  {
   "cell_type": "code",
   "execution_count": 19,
   "metadata": {
    "execution": {
     "iopub.execute_input": "2021-07-26T22:29:57.520587Z",
     "iopub.status.busy": "2021-07-26T22:29:57.520186Z",
     "iopub.status.idle": "2021-07-26T22:29:57.776133Z",
     "shell.execute_reply": "2021-07-26T22:29:57.775252Z",
     "shell.execute_reply.started": "2021-07-26T22:29:57.520550Z"
    },
    "id": "hkyvcYvlhliG"
   },
   "outputs": [],
   "source": [
    "NUMERIC_FEATURE =  ['age',\n",
    "            'exclClassCumGPA',\n",
    "            'termCreditsGPA',\n",
    "            'termCreditsNoGPA',\n",
    "            'highSchoolGPA', \n",
    "            'majorsCount', 'minorsCount',\n",
    "            'PREV_TERM_CUM_GPA',\n",
    "            'available_flashcards', \n",
    "            'days_offset', \n",
    "            'prev_time_elapsed',\n",
    "             'time_lag']\n",
    "# z-score normalize the numerical features\n",
    "for f in NUMERIC_FEATURE:\n",
    "  m = dataframe[f].mean()\n",
    "  std = dataframe[f].std()\n",
    "  dataframe[f] = (dataframe[f] - m)/std"
   ]
  },
  {
   "cell_type": "code",
   "execution_count": 20,
   "metadata": {
    "execution": {
     "iopub.execute_input": "2021-07-26T22:29:57.777980Z",
     "iopub.status.busy": "2021-07-26T22:29:57.777603Z",
     "iopub.status.idle": "2021-07-26T22:30:01.212670Z",
     "shell.execute_reply": "2021-07-26T22:30:01.211782Z",
     "shell.execute_reply.started": "2021-07-26T22:29:57.777937Z"
    },
    "id": "wo2OH-d5kWp1"
   },
   "outputs": [],
   "source": [
    "FEATURE_TRANS =  ['answer_correct', 'chapter_label', 'sub_chapter_label','question_name','user_id','term',\n",
    "                  'STDNT_SEX_CD', \n",
    "                    'White','Asian','NonWhiteOrAsian',\n",
    "            'STDNT_CTZN_STAT_CD', 'international', \n",
    "            'age',\n",
    "            'exclClassCumGPA',\n",
    "           'Freshman',\n",
    "            'Junior',\n",
    "            'Sophomore',\n",
    "            'Senior',\n",
    "            'termCreditsGPA',\n",
    "            'termCreditsNoGPA',\n",
    "            'athlete_1',\n",
    "            'honorsPro',\n",
    "            'LSA', 'programBusiness', 'programEngineering', \n",
    "            'programInformation', 'programOther',\n",
    "            'HSCalculusTaken', \n",
    "            'highSchoolGPA', \n",
    "            'majorsCount', 'minorsCount',\n",
    "            'PREV_TERM_CUM_GPA',\n",
    "            'classGraded', 'classHonors', \n",
    "            'Pass_Fail', \n",
    "            'parentsGraduateEdu',  'minorityGroup', \n",
    "            'available_flashcards', \n",
    "            'days_offset', 'prev_time_elapsed',\n",
    "             'time_lag']\n",
    "grouped_data = dataframe[FEATURE_TRANS].groupby(['user_id']).apply(lambda r: (\n",
    "                r['answer_correct'],\n",
    "                r['term'],\n",
    "                r['chapter_label'],\n",
    "                r['sub_chapter_label'],\n",
    "                r['question_name'],\n",
    "                np.array([r['STDNT_SEX_CD'],r['STDNT_CTZN_STAT_CD'], r['international'], \n",
    "                  r['White'],r['Asian'],r['NonWhiteOrAsian'],\n",
    "                 r['age'],r['exclClassCumGPA'],\n",
    "                r['Freshman'], r['Junior'], r['Sophomore'], r['Senior'],\n",
    "                r['termCreditsGPA'], r['termCreditsNoGPA'],\n",
    "                r['athlete_1'], r['honorsPro'],\n",
    "                r['LSA'], r['programBusiness'], r['programEngineering'], \n",
    "                r['programInformation'], r['programOther'],\n",
    "                r['HSCalculusTaken'],  r['highSchoolGPA'], \n",
    "                r['majorsCount'], r['minorsCount'],\n",
    "                r['PREV_TERM_CUM_GPA'], \n",
    "                r['parentsGraduateEdu'], r['minorityGroup'],\n",
    "                r['available_flashcards'],\n",
    "                r['days_offset'],\n",
    "                r['prev_time_elapsed'],\n",
    "                r['time_lag']\n",
    "              ]).transpose()\n",
    "                ))"
   ]
  },
  {
   "cell_type": "code",
   "execution_count": 21,
   "metadata": {
    "execution": {
     "iopub.execute_input": "2021-07-26T22:30:01.214219Z",
     "iopub.status.busy": "2021-07-26T22:30:01.213882Z",
     "iopub.status.idle": "2021-07-26T22:30:01.378738Z",
     "shell.execute_reply": "2021-07-26T22:30:01.377690Z",
     "shell.execute_reply.started": "2021-07-26T22:30:01.214185Z"
    },
    "id": "XXLqQnjrlp_4",
    "outputId": "c801da79-f0bf-4fe5-b19c-7c799fe01556"
   },
   "outputs": [
    {
     "data": {
      "text/plain": [
       "22"
      ]
     },
     "execution_count": 21,
     "metadata": {},
     "output_type": "execute_result"
    }
   ],
   "source": [
    "gc.collect()"
   ]
  },
  {
   "cell_type": "code",
   "execution_count": 22,
   "metadata": {
    "execution": {
     "iopub.execute_input": "2021-07-26T22:30:01.381206Z",
     "iopub.status.busy": "2021-07-26T22:30:01.380431Z",
     "iopub.status.idle": "2021-07-26T22:30:01.413173Z",
     "shell.execute_reply": "2021-07-26T22:30:01.412455Z",
     "shell.execute_reply.started": "2021-07-26T22:30:01.381110Z"
    },
    "id": "QYGQasdTrmP0"
   },
   "outputs": [],
   "source": [
    "# remove students who don't have make any interactions with the tool\n",
    "toRemove = []\n",
    "for index in grouped_data.index:\n",
    "  if len(grouped_data[index][0]) <= 10:\n",
    "    toRemove.append(index)\n",
    "grouped_data = grouped_data.drop(index=toRemove)"
   ]
  },
  {
   "cell_type": "code",
   "execution_count": 23,
   "metadata": {
    "execution": {
     "iopub.execute_input": "2021-07-26T22:30:01.416662Z",
     "iopub.status.busy": "2021-07-26T22:30:01.416395Z",
     "iopub.status.idle": "2021-07-26T22:30:01.420584Z",
     "shell.execute_reply": "2021-07-26T22:30:01.419583Z",
     "shell.execute_reply.started": "2021-07-26T22:30:01.416636Z"
    },
    "id": "9kZqV9siDyNb"
   },
   "outputs": [],
   "source": [
    "#SETTINGS -> can be modified at any time\n",
    "MAXLENGTH = 400\n",
    "EMBEDDING_DIM = 128\n",
    "DENSE_NEURON = 16\n",
    "GRU_NEURON = 32"
   ]
  },
  {
   "cell_type": "code",
   "execution_count": 24,
   "metadata": {
    "execution": {
     "iopub.execute_input": "2021-07-26T22:30:01.422895Z",
     "iopub.status.busy": "2021-07-26T22:30:01.422413Z",
     "iopub.status.idle": "2021-07-26T22:30:01.428483Z",
     "shell.execute_reply": "2021-07-26T22:30:01.427471Z",
     "shell.execute_reply.started": "2021-07-26T22:30:01.422856Z"
    },
    "id": "1MksD1JizpPn"
   },
   "outputs": [],
   "source": [
    "#FEATURES_SIZE = 38\n",
    "CHAPTER_SIZE = 38\n",
    "SUB_CHAPTER_SIZE = 223\n",
    "QUESTION_SIZE = 1069"
   ]
  },
  {
   "cell_type": "code",
   "execution_count": 25,
   "metadata": {
    "execution": {
     "iopub.execute_input": "2021-07-26T22:30:01.430626Z",
     "iopub.status.busy": "2021-07-26T22:30:01.430183Z",
     "iopub.status.idle": "2021-07-26T22:30:01.444601Z",
     "shell.execute_reply": "2021-07-26T22:30:01.443874Z",
     "shell.execute_reply.started": "2021-07-26T22:30:01.430588Z"
    }
   },
   "outputs": [
    {
     "data": {
      "text/plain": [
       "array([ 96,  86,  88,  28,  12,  82, 125,  32,  69,  33,  21, 115, 120,\n",
       "       119,  91,  73,  57,  77, 117,  40,  74,  41,  68,  39,  92,  47,\n",
       "       104,  95,  53,  49,  50,  16,  52,  55,   7,  15,  51, 102, 103,\n",
       "        11,  94, 108, 100,  17,  67,  63,  13, 139,  26,  25,   8, 107,\n",
       "         0,  90,  48,  54, 138,   1,   2,   3,  34,  35,  85,   5,  24,\n",
       "        37,  36,  78,  70,  45, 142,  71,  10,  89, 111, 112, 109, 116,\n",
       "        76,  72, 148, 134, 146, 221, 143,  56,  60,  61,  23, 140, 106,\n",
       "        42,  83,  22, 145, 136, 144,  38,   4,  19, 137,  75,  43,  98,\n",
       "        84, 113, 173, 174, 175, 176, 177, 178, 180, 181, 182, 187, 189,\n",
       "       190, 191, 192, 193, 195, 197, 151, 152, 153, 156, 157, 158, 159,\n",
       "       160, 161, 163, 164, 165, 166, 167, 168, 169, 170, 171, 172, 198,\n",
       "       199, 200, 201, 202, 203, 204, 205, 206, 207, 208, 209, 210, 162,\n",
       "       179, 186, 188, 194, 183, 184, 185, 211, 212, 213, 154, 155, 196,\n",
       "         6, 118,  18, 215,  46, 216, 141,  27, 217, 105, 123, 218, 101,\n",
       "       124, 219, 122, 220,  58,  59,  64,  20,  93,  65,  66,   9,  44,\n",
       "        30,  14,  79, 121,  31, 110, 129,  87,  97,  62, 149, 132, 131,\n",
       "       150, 130, 128,  99, 147, 127, 214, 135,  80, 126, 133,  81, 114,\n",
       "        29], dtype=int16)"
      ]
     },
     "execution_count": 25,
     "metadata": {},
     "output_type": "execute_result"
    }
   ],
   "source": [
    "dataframe['sub_chapter_label'].unique()"
   ]
  },
  {
   "cell_type": "code",
   "execution_count": 26,
   "metadata": {
    "execution": {
     "iopub.execute_input": "2021-07-26T22:30:01.446103Z",
     "iopub.status.busy": "2021-07-26T22:30:01.445760Z",
     "iopub.status.idle": "2021-07-26T22:30:01.795164Z",
     "shell.execute_reply": "2021-07-26T22:30:01.794302Z",
     "shell.execute_reply.started": "2021-07-26T22:30:01.446066Z"
    },
    "id": "mY3Thp6d0NaT"
   },
   "outputs": [],
   "source": [
    "#create dataset class\n",
    "#to prepare it for train, valid, and test sets\n",
    "from torch.utils.data import Dataset, DataLoader\n",
    "class SPACE_DATASET(Dataset):\n",
    "    def __init__(self, data, maxlength = 400):\n",
    "        super(SPACE_DATASET, self).__init__()\n",
    "        self.maxlength = maxlength\n",
    "        self.data = data\n",
    "        self.users = list()\n",
    "        for user in data.index:\n",
    "            self.users.append(user)\n",
    "\n",
    "    def __len__(self):\n",
    "        return len(self.users)\n",
    "    \n",
    "    def __getitem__(self, ix):\n",
    "        user = self.users[ix]\n",
    "        user = user\n",
    "        target, term, ch_label, sub_ch_label, ques_name, features = self.data[user]\n",
    "        \n",
    "        #0s should be used as padding values\n",
    "        ori_target = target.values \n",
    "        term = term.values\n",
    "        ch_label = ch_label.values + 1\n",
    "        sub_ch_label = sub_ch_label.values +1\n",
    "        ques_name = ques_name.values + 1\n",
    "        \n",
    "        n = len(ch_label)\n",
    "\n",
    "        # one hot for term\n",
    "        term_encode = [0]*7\n",
    "        term_encode[term[0]] = 1\n",
    "        shifted_target= []\n",
    "\n",
    "        \n",
    "        # get  user interaction informations in the previous MAXLEN interactions\n",
    "        if n > self.maxlength:\n",
    "          ch_label = ch_label[-self.maxlength:]\n",
    "          sub_ch_label = sub_ch_label[-self.maxlength:]\n",
    "          ques_name = ques_name[-self.maxlength:]\n",
    "          features = features[-self.maxlength:]\n",
    "          target = ori_target[-self.maxlength:]\n",
    "          shifted_target = ori_target[ (-self.maxlength - 1) :-1]\n",
    "        else:\n",
    "          ch_label = [0]*(self.maxlength - n)+list(ch_label[:])\n",
    "          sub_ch_label = [0]*(self.maxlength - n)+list(sub_ch_label[:])\n",
    "          ques_name = [0]*(self.maxlength - n)+list(ques_name[:])\n",
    "          features = [[0]*len(features[0])]*(self.maxlength  - n)+list(features[:])\n",
    "          target = [-1]*(self.maxlength - n) + list(ori_target[:])\n",
    "          shifted_target = [-1]*(self.maxlength + 1 - n) + list(ori_target[:-1])\n",
    "\n",
    "        new_features = []\n",
    "        count = 0\n",
    "        for f in features:\n",
    "          temp = list(f)\n",
    "          temp.extend(term_encode)\n",
    "          # temp.append(shifted_target[count]) #uncomment this line for include previous response feature\n",
    "          new_features.append(temp)\n",
    "          count += 1\n",
    "        features = new_features\n",
    "        return ch_label,sub_ch_label,ques_name,target"
   ]
  },
  {
   "cell_type": "code",
   "execution_count": 27,
   "metadata": {
    "execution": {
     "iopub.execute_input": "2021-07-26T22:30:01.796722Z",
     "iopub.status.busy": "2021-07-26T22:30:01.796348Z",
     "iopub.status.idle": "2021-07-26T22:30:01.802830Z",
     "shell.execute_reply": "2021-07-26T22:30:01.801930Z",
     "shell.execute_reply.started": "2021-07-26T22:30:01.796686Z"
    }
   },
   "outputs": [
    {
     "data": {
      "text/plain": [
       "223"
      ]
     },
     "execution_count": 27,
     "metadata": {},
     "output_type": "execute_result"
    }
   ],
   "source": [
    "SUB_CHAPTER_SIZE"
   ]
  },
  {
   "cell_type": "markdown",
   "metadata": {
    "id": "4xc90-aLzxat"
   },
   "source": [
    "## KFOLD - GRU\n"
   ]
  },
  {
   "cell_type": "code",
   "execution_count": 28,
   "metadata": {
    "execution": {
     "iopub.execute_input": "2021-07-26T22:30:01.805198Z",
     "iopub.status.busy": "2021-07-26T22:30:01.804622Z",
     "iopub.status.idle": "2021-07-26T22:32:54.387420Z",
     "shell.execute_reply": "2021-07-26T22:32:54.386597Z",
     "shell.execute_reply.started": "2021-07-26T22:30:01.805160Z"
    },
    "id": "gzJrljnjzypP",
    "outputId": "87abe488-b493-4f8f-9d71-45cb1d2ddf51"
   },
   "outputs": [
    {
     "name": "stdout",
     "output_type": "stream",
     "text": [
      "Epoch 1/100\n",
      "14/14 [==============================] - 8s 181ms/step - loss: 0.5795 - masked_acc: 0.6919 - masked_auc: 0.5452 - val_loss: 0.4694 - val_masked_acc: 0.7200 - val_masked_auc: 0.6962\n",
      "Epoch 2/100\n",
      "14/14 [==============================] - 1s 64ms/step - loss: 0.4606 - masked_acc: 0.7289 - masked_auc: 0.7232 - val_loss: 0.4477 - val_masked_acc: 0.7439 - val_masked_auc: 0.7551\n",
      "Epoch 3/100\n",
      "14/14 [==============================] - 1s 65ms/step - loss: 0.4515 - masked_acc: 0.7464 - masked_auc: 0.7619 - val_loss: 0.4420 - val_masked_acc: 0.7532 - val_masked_auc: 0.7752\n",
      "Epoch 4/100\n",
      "14/14 [==============================] - 1s 65ms/step - loss: 0.4362 - masked_acc: 0.7553 - masked_auc: 0.7792 - val_loss: 0.4457 - val_masked_acc: 0.7584 - val_masked_auc: 0.7859\n",
      "Epoch 5/100\n",
      "14/14 [==============================] - 1s 65ms/step - loss: 0.4361 - masked_acc: 0.7595 - masked_auc: 0.7882 - val_loss: 0.4419 - val_masked_acc: 0.7617 - val_masked_auc: 0.7926\n",
      "Epoch 6/100\n",
      "14/14 [==============================] - 1s 75ms/step - loss: 0.4366 - masked_acc: 0.7622 - masked_auc: 0.7939 - val_loss: 0.4383 - val_masked_acc: 0.7640 - val_masked_auc: 0.7974\n",
      "Epoch 7/100\n",
      "14/14 [==============================] - 1s 66ms/step - loss: 0.4288 - masked_acc: 0.7644 - masked_auc: 0.7986 - val_loss: 0.4383 - val_masked_acc: 0.7657 - val_masked_auc: 0.8015\n",
      "Epoch 8/100\n",
      "14/14 [==============================] - 1s 64ms/step - loss: 0.4320 - masked_acc: 0.7661 - masked_auc: 0.8025 - val_loss: 0.4335 - val_masked_acc: 0.7672 - val_masked_auc: 0.8049\n",
      "Epoch 9/100\n",
      "14/14 [==============================] - 1s 65ms/step - loss: 0.4204 - masked_acc: 0.7675 - masked_auc: 0.8060 - val_loss: 0.4311 - val_masked_acc: 0.7684 - val_masked_auc: 0.8082\n",
      "Epoch 10/100\n",
      "14/14 [==============================] - 1s 66ms/step - loss: 0.4292 - masked_acc: 0.7685 - masked_auc: 0.8089 - val_loss: 0.4418 - val_masked_acc: 0.7692 - val_masked_auc: 0.8102\n",
      "Epoch 11/100\n",
      "14/14 [==============================] - 1s 65ms/step - loss: 0.4311 - masked_acc: 0.7694 - masked_auc: 0.8106 - val_loss: 0.4322 - val_masked_acc: 0.7700 - val_masked_auc: 0.8118\n",
      "Epoch 12/100\n",
      "14/14 [==============================] - 1s 66ms/step - loss: 0.4184 - masked_acc: 0.7702 - masked_auc: 0.8125 - val_loss: 0.4327 - val_masked_acc: 0.7709 - val_masked_auc: 0.8139\n",
      "Epoch 13/100\n",
      "14/14 [==============================] - 1s 66ms/step - loss: 0.4247 - masked_acc: 0.7709 - masked_auc: 0.8144 - val_loss: 0.4278 - val_masked_acc: 0.7717 - val_masked_auc: 0.8159\n",
      "Epoch 14/100\n",
      "14/14 [==============================] - 1s 66ms/step - loss: 0.4079 - masked_acc: 0.7719 - masked_auc: 0.8165 - val_loss: 0.4283 - val_masked_acc: 0.7725 - val_masked_auc: 0.8180\n",
      "Epoch 15/100\n",
      "14/14 [==============================] - 1s 66ms/step - loss: 0.4070 - masked_acc: 0.7727 - masked_auc: 0.8186 - val_loss: 0.4303 - val_masked_acc: 0.7734 - val_masked_auc: 0.8200\n",
      "Epoch 16/100\n",
      "14/14 [==============================] - 1s 66ms/step - loss: 0.4055 - masked_acc: 0.7735 - masked_auc: 0.8207 - val_loss: 0.4332 - val_masked_acc: 0.7742 - val_masked_auc: 0.8220\n",
      "Epoch 17/100\n",
      "14/14 [==============================] - 1s 65ms/step - loss: 0.4044 - masked_acc: 0.7743 - masked_auc: 0.8226 - val_loss: 0.4369 - val_masked_acc: 0.7750 - val_masked_auc: 0.8238\n",
      "Epoch 18/100\n",
      "14/14 [==============================] - 1s 77ms/step - loss: 0.3963 - masked_acc: 0.7752 - masked_auc: 0.8244 - val_loss: 0.4305 - val_masked_acc: 0.7757 - val_masked_auc: 0.8255\n",
      "Epoch 19/100\n",
      "14/14 [==============================] - 1s 66ms/step - loss: 0.3965 - masked_acc: 0.7759 - masked_auc: 0.8260 - val_loss: 0.4368 - val_masked_acc: 0.7765 - val_masked_auc: 0.8271\n",
      "Epoch 20/100\n",
      "14/14 [==============================] - 1s 72ms/step - loss: 0.4130 - masked_acc: 0.7765 - masked_auc: 0.8274 - val_loss: 0.4381 - val_masked_acc: 0.7767 - val_masked_auc: 0.8277\n",
      "Epoch 21/100\n",
      "14/14 [==============================] - 1s 83ms/step - loss: 0.4136 - masked_acc: 0.7767 - masked_auc: 0.8279 - val_loss: 0.4331 - val_masked_acc: 0.7770 - val_masked_auc: 0.8285\n",
      "Epoch 22/100\n",
      "14/14 [==============================] - 1s 66ms/step - loss: 0.3966 - masked_acc: 0.7771 - masked_auc: 0.8288 - val_loss: 0.4338 - val_masked_acc: 0.7775 - val_masked_auc: 0.8296\n",
      "Epoch 23/100\n",
      "14/14 [==============================] - 1s 66ms/step - loss: 0.3924 - masked_acc: 0.7777 - masked_auc: 0.8300 - val_loss: 0.4335 - val_masked_acc: 0.7781 - val_masked_auc: 0.8308\n",
      "28/28 [==============================] - 1s 22ms/step - loss: 0.3920 - masked_acc: 0.7786 - masked_auc: 0.8315\n",
      "4/4 [==============================] - 0s 22ms/step - loss: 0.4286 - masked_acc: 0.7786 - masked_auc: 0.8320\n",
      "Test:  [0.42861443758010864, 0.7786450386047363, 0.8319685459136963]\n",
      "Epoch 1/100\n",
      "14/14 [==============================] - 7s 160ms/step - loss: 0.5763 - masked_acc: 0.6240 - masked_auc: 0.5614 - val_loss: 0.4756 - val_masked_acc: 0.7125 - val_masked_auc: 0.7026\n",
      "Epoch 2/100\n",
      "14/14 [==============================] - 1s 66ms/step - loss: 0.4660 - masked_acc: 0.7227 - masked_auc: 0.7251 - val_loss: 0.4524 - val_masked_acc: 0.7395 - val_masked_auc: 0.7567\n",
      "Epoch 3/100\n",
      "14/14 [==============================] - 1s 65ms/step - loss: 0.4424 - masked_acc: 0.7432 - masked_auc: 0.7635 - val_loss: 0.4476 - val_masked_acc: 0.7498 - val_masked_auc: 0.7755\n",
      "Epoch 4/100\n",
      "14/14 [==============================] - 1s 66ms/step - loss: 0.4469 - masked_acc: 0.7514 - masked_auc: 0.7785 - val_loss: 0.4472 - val_masked_acc: 0.7553 - val_masked_auc: 0.7855\n",
      "Epoch 5/100\n",
      "14/14 [==============================] - 1s 64ms/step - loss: 0.4412 - masked_acc: 0.7563 - masked_auc: 0.7878 - val_loss: 0.4437 - val_masked_acc: 0.7588 - val_masked_auc: 0.7921\n",
      "Epoch 6/100\n",
      "14/14 [==============================] - 1s 74ms/step - loss: 0.4423 - masked_acc: 0.7591 - masked_auc: 0.7935 - val_loss: 0.4396 - val_masked_acc: 0.7613 - val_masked_auc: 0.7971\n",
      "Epoch 7/100\n",
      "14/14 [==============================] - 1s 67ms/step - loss: 0.4326 - masked_acc: 0.7618 - masked_auc: 0.7985 - val_loss: 0.4357 - val_masked_acc: 0.7632 - val_masked_auc: 0.8014\n",
      "Epoch 8/100\n",
      "14/14 [==============================] - 1s 66ms/step - loss: 0.4214 - masked_acc: 0.7638 - masked_auc: 0.8026 - val_loss: 0.4417 - val_masked_acc: 0.7648 - val_masked_auc: 0.8048\n",
      "Epoch 9/100\n",
      "14/14 [==============================] - 1s 65ms/step - loss: 0.4253 - masked_acc: 0.7653 - masked_auc: 0.8058 - val_loss: 0.4334 - val_masked_acc: 0.7661 - val_masked_auc: 0.8077\n",
      "Epoch 10/100\n",
      "14/14 [==============================] - 1s 65ms/step - loss: 0.4186 - masked_acc: 0.7664 - masked_auc: 0.8088 - val_loss: 0.4325 - val_masked_acc: 0.7675 - val_masked_auc: 0.8108\n",
      "Epoch 11/100\n",
      "14/14 [==============================] - 1s 65ms/step - loss: 0.4153 - masked_acc: 0.7678 - masked_auc: 0.8117 - val_loss: 0.4323 - val_masked_acc: 0.7687 - val_masked_auc: 0.8135\n",
      "Epoch 12/100\n",
      "14/14 [==============================] - 1s 65ms/step - loss: 0.4144 - masked_acc: 0.7690 - masked_auc: 0.8142 - val_loss: 0.4339 - val_masked_acc: 0.7696 - val_masked_auc: 0.8159\n",
      "Epoch 13/100\n",
      "14/14 [==============================] - 1s 64ms/step - loss: 0.4122 - masked_acc: 0.7699 - masked_auc: 0.8166 - val_loss: 0.4348 - val_masked_acc: 0.7706 - val_masked_auc: 0.8182\n",
      "Epoch 14/100\n",
      "14/14 [==============================] - 1s 64ms/step - loss: 0.4064 - masked_acc: 0.7709 - masked_auc: 0.8188 - val_loss: 0.4279 - val_masked_acc: 0.7716 - val_masked_auc: 0.8203\n",
      "Epoch 15/100\n",
      "14/14 [==============================] - 1s 66ms/step - loss: 0.4051 - masked_acc: 0.7718 - masked_auc: 0.8208 - val_loss: 0.4282 - val_masked_acc: 0.7726 - val_masked_auc: 0.8225\n",
      "Epoch 16/100\n",
      "14/14 [==============================] - 1s 65ms/step - loss: 0.4034 - masked_acc: 0.7729 - masked_auc: 0.8231 - val_loss: 0.4271 - val_masked_acc: 0.7737 - val_masked_auc: 0.8245\n",
      "Epoch 17/100\n",
      "14/14 [==============================] - 1s 65ms/step - loss: 0.3954 - masked_acc: 0.7739 - masked_auc: 0.8251 - val_loss: 0.4354 - val_masked_acc: 0.7746 - val_masked_auc: 0.8263\n",
      "Epoch 18/100\n",
      "14/14 [==============================] - 1s 77ms/step - loss: 0.3992 - masked_acc: 0.7748 - masked_auc: 0.8268 - val_loss: 0.4264 - val_masked_acc: 0.7754 - val_masked_auc: 0.8279\n",
      "Epoch 19/100\n",
      "14/14 [==============================] - 1s 65ms/step - loss: 0.3946 - masked_acc: 0.7756 - masked_auc: 0.8284 - val_loss: 0.4253 - val_masked_acc: 0.7763 - val_masked_auc: 0.8296\n",
      "Epoch 20/100\n",
      "14/14 [==============================] - 1s 69ms/step - loss: 0.3887 - masked_acc: 0.7765 - masked_auc: 0.8301 - val_loss: 0.4269 - val_masked_acc: 0.7771 - val_masked_auc: 0.8312\n",
      "Epoch 21/100\n",
      "14/14 [==============================] - 1s 80ms/step - loss: 0.3886 - masked_acc: 0.7774 - masked_auc: 0.8316 - val_loss: 0.4292 - val_masked_acc: 0.7780 - val_masked_auc: 0.8327\n",
      "Epoch 22/100\n",
      "14/14 [==============================] - 1s 64ms/step - loss: 0.3908 - masked_acc: 0.7783 - masked_auc: 0.8332 - val_loss: 0.4333 - val_masked_acc: 0.7788 - val_masked_auc: 0.8341\n",
      "Epoch 23/100\n",
      "14/14 [==============================] - 1s 64ms/step - loss: 0.3814 - masked_acc: 0.7791 - masked_auc: 0.8345 - val_loss: 0.4353 - val_masked_acc: 0.7796 - val_masked_auc: 0.8354\n",
      "Epoch 24/100\n",
      "14/14 [==============================] - 1s 65ms/step - loss: 0.3872 - masked_acc: 0.7798 - masked_auc: 0.8358 - val_loss: 0.4334 - val_masked_acc: 0.7803 - val_masked_auc: 0.8367\n",
      "Epoch 25/100\n",
      "14/14 [==============================] - 1s 66ms/step - loss: 0.3777 - masked_acc: 0.7806 - masked_auc: 0.8371 - val_loss: 0.4337 - val_masked_acc: 0.7811 - val_masked_auc: 0.8379\n",
      "Epoch 26/100\n",
      "14/14 [==============================] - 1s 65ms/step - loss: 0.3802 - masked_acc: 0.7813 - masked_auc: 0.8383 - val_loss: 0.4319 - val_masked_acc: 0.7819 - val_masked_auc: 0.8391\n",
      "Epoch 27/100\n",
      "14/14 [==============================] - 1s 65ms/step - loss: 0.3735 - masked_acc: 0.7821 - masked_auc: 0.8395 - val_loss: 0.4363 - val_masked_acc: 0.7826 - val_masked_auc: 0.8404\n",
      "Epoch 28/100\n",
      "14/14 [==============================] - 1s 66ms/step - loss: 0.3771 - masked_acc: 0.7828 - masked_auc: 0.8407 - val_loss: 0.4354 - val_masked_acc: 0.7834 - val_masked_auc: 0.8416\n",
      "Epoch 29/100\n",
      "14/14 [==============================] - 1s 65ms/step - loss: 0.3693 - masked_acc: 0.7836 - masked_auc: 0.8420 - val_loss: 0.4379 - val_masked_acc: 0.7842 - val_masked_auc: 0.8428\n",
      "28/28 [==============================] - 1s 30ms/step - loss: 0.3616 - masked_acc: 0.7848 - masked_auc: 0.8436\n",
      "4/4 [==============================] - 0s 21ms/step - loss: 0.4428 - masked_acc: 0.7850 - masked_auc: 0.8441\n",
      "Test:  [0.44283613562583923, 0.7850342988967896, 0.8440741300582886]\n",
      "Epoch 1/100\n",
      "14/14 [==============================] - 6s 168ms/step - loss: 0.5897 - masked_acc: 0.5603 - masked_auc: 0.5335 - val_loss: 0.4796 - val_masked_acc: 0.6901 - val_masked_auc: 0.6661\n",
      "Epoch 2/100\n",
      "14/14 [==============================] - 1s 64ms/step - loss: 0.4697 - masked_acc: 0.7016 - masked_auc: 0.6983 - val_loss: 0.4526 - val_masked_acc: 0.7265 - val_masked_auc: 0.7415\n",
      "Epoch 3/100\n",
      "14/14 [==============================] - 1s 64ms/step - loss: 0.4434 - masked_acc: 0.7323 - masked_auc: 0.7512 - val_loss: 0.4512 - val_masked_acc: 0.7419 - val_masked_auc: 0.7664\n",
      "Epoch 4/100\n",
      "14/14 [==============================] - 1s 65ms/step - loss: 0.4388 - masked_acc: 0.7447 - masked_auc: 0.7710 - val_loss: 0.4450 - val_masked_acc: 0.7499 - val_masked_auc: 0.7794\n",
      "Epoch 5/100\n",
      "14/14 [==============================] - 1s 65ms/step - loss: 0.4366 - masked_acc: 0.7510 - masked_auc: 0.7820 - val_loss: 0.4463 - val_masked_acc: 0.7549 - val_masked_auc: 0.7878\n",
      "Epoch 6/100\n",
      "14/14 [==============================] - 1s 66ms/step - loss: 0.4401 - masked_acc: 0.7556 - masked_auc: 0.7897 - val_loss: 0.4461 - val_masked_acc: 0.7583 - val_masked_auc: 0.7938\n",
      "Epoch 7/100\n",
      "14/14 [==============================] - 1s 65ms/step - loss: 0.4291 - masked_acc: 0.7589 - masked_auc: 0.7954 - val_loss: 0.4404 - val_masked_acc: 0.7608 - val_masked_auc: 0.7988\n",
      "Epoch 8/100\n",
      "14/14 [==============================] - 1s 66ms/step - loss: 0.4191 - masked_acc: 0.7615 - masked_auc: 0.8001 - val_loss: 0.4430 - val_masked_acc: 0.7629 - val_masked_auc: 0.8028\n",
      "Epoch 9/100\n",
      "14/14 [==============================] - 1s 66ms/step - loss: 0.4216 - masked_acc: 0.7632 - masked_auc: 0.8039 - val_loss: 0.4436 - val_masked_acc: 0.7646 - val_masked_auc: 0.8064\n",
      "Epoch 10/100\n",
      "14/14 [==============================] - 1s 66ms/step - loss: 0.4204 - masked_acc: 0.7648 - masked_auc: 0.8074 - val_loss: 0.4496 - val_masked_acc: 0.7660 - val_masked_auc: 0.8095\n",
      "Epoch 11/100\n",
      "14/14 [==============================] - 1s 65ms/step - loss: 0.4110 - masked_acc: 0.7663 - masked_auc: 0.8104 - val_loss: 0.4388 - val_masked_acc: 0.7672 - val_masked_auc: 0.8122\n",
      "Epoch 12/100\n",
      "14/14 [==============================] - 1s 67ms/step - loss: 0.4065 - masked_acc: 0.7676 - masked_auc: 0.8132 - val_loss: 0.4439 - val_masked_acc: 0.7684 - val_masked_auc: 0.8150\n",
      "Epoch 13/100\n",
      "14/14 [==============================] - 1s 77ms/step - loss: 0.4171 - masked_acc: 0.7685 - masked_auc: 0.8156 - val_loss: 0.4405 - val_masked_acc: 0.7696 - val_masked_auc: 0.8174\n",
      "Epoch 14/100\n",
      "14/14 [==============================] - 1s 66ms/step - loss: 0.4026 - masked_acc: 0.7699 - masked_auc: 0.8181 - val_loss: 0.4477 - val_masked_acc: 0.7708 - val_masked_auc: 0.8197\n",
      "Epoch 15/100\n",
      "14/14 [==============================] - 1s 73ms/step - loss: 0.3865 - masked_acc: 0.7712 - masked_auc: 0.8205 - val_loss: 0.4479 - val_masked_acc: 0.7720 - val_masked_auc: 0.8220\n",
      "Epoch 16/100\n",
      "14/14 [==============================] - 1s 82ms/step - loss: 0.3896 - masked_acc: 0.7723 - masked_auc: 0.8227 - val_loss: 0.4621 - val_masked_acc: 0.7731 - val_masked_auc: 0.8240\n",
      "Epoch 17/100\n",
      "14/14 [==============================] - 1s 66ms/step - loss: 0.3928 - masked_acc: 0.7733 - masked_auc: 0.8247 - val_loss: 0.4497 - val_masked_acc: 0.7741 - val_masked_auc: 0.8260\n",
      "Epoch 18/100\n",
      "14/14 [==============================] - 1s 67ms/step - loss: 0.3865 - masked_acc: 0.7744 - masked_auc: 0.8265 - val_loss: 0.4615 - val_masked_acc: 0.7751 - val_masked_auc: 0.8276\n",
      "Epoch 19/100\n",
      "14/14 [==============================] - 1s 66ms/step - loss: 0.3890 - masked_acc: 0.7753 - masked_auc: 0.8282 - val_loss: 0.4543 - val_masked_acc: 0.7760 - val_masked_auc: 0.8293\n",
      "Epoch 20/100\n",
      "14/14 [==============================] - 1s 66ms/step - loss: 0.3823 - masked_acc: 0.7763 - masked_auc: 0.8298 - val_loss: 0.4668 - val_masked_acc: 0.7769 - val_masked_auc: 0.8309\n",
      "Epoch 21/100\n",
      "14/14 [==============================] - 1s 66ms/step - loss: 0.3849 - masked_acc: 0.7771 - masked_auc: 0.8314 - val_loss: 0.4498 - val_masked_acc: 0.7778 - val_masked_auc: 0.8324\n",
      "28/28 [==============================] - 1s 22ms/step - loss: 0.3804 - masked_acc: 0.7785 - masked_auc: 0.8334\n",
      "4/4 [==============================] - 0s 22ms/step - loss: 0.4475 - masked_acc: 0.7787 - masked_auc: 0.8340\n",
      "Test:  [0.44752010703086853, 0.778671383857727, 0.8339765667915344]\n",
      "Epoch 1/100\n",
      "14/14 [==============================] - 7s 155ms/step - loss: 0.5814 - masked_acc: 0.6381 - masked_auc: 0.5429 - val_loss: 0.4833 - val_masked_acc: 0.7106 - val_masked_auc: 0.6950\n",
      "Epoch 2/100\n",
      "14/14 [==============================] - 1s 65ms/step - loss: 0.4677 - masked_acc: 0.7201 - masked_auc: 0.7200 - val_loss: 0.4515 - val_masked_acc: 0.7375 - val_masked_auc: 0.7540\n",
      "Epoch 3/100\n",
      "14/14 [==============================] - 1s 70ms/step - loss: 0.4517 - masked_acc: 0.7410 - masked_auc: 0.7615 - val_loss: 0.4500 - val_masked_acc: 0.7483 - val_masked_auc: 0.7744\n",
      "Epoch 4/100\n",
      "14/14 [==============================] - 1s 68ms/step - loss: 0.4511 - masked_acc: 0.7497 - masked_auc: 0.7779 - val_loss: 0.4458 - val_masked_acc: 0.7541 - val_masked_auc: 0.7852\n",
      "Epoch 5/100\n",
      "14/14 [==============================] - 1s 64ms/step - loss: 0.4497 - masked_acc: 0.7548 - masked_auc: 0.7874 - val_loss: 0.4439 - val_masked_acc: 0.7577 - val_masked_auc: 0.7920\n",
      "Epoch 6/100\n",
      "14/14 [==============================] - 1s 64ms/step - loss: 0.4313 - masked_acc: 0.7587 - masked_auc: 0.7939 - val_loss: 0.4438 - val_masked_acc: 0.7603 - val_masked_auc: 0.7971\n",
      "Epoch 7/100\n",
      "14/14 [==============================] - 1s 65ms/step - loss: 0.4353 - masked_acc: 0.7609 - masked_auc: 0.7986 - val_loss: 0.4440 - val_masked_acc: 0.7624 - val_masked_auc: 0.8012\n",
      "Epoch 8/100\n",
      "14/14 [==============================] - 1s 66ms/step - loss: 0.4311 - masked_acc: 0.7629 - masked_auc: 0.8023 - val_loss: 0.4406 - val_masked_acc: 0.7638 - val_masked_auc: 0.8044\n",
      "Epoch 9/100\n",
      "14/14 [==============================] - 1s 65ms/step - loss: 0.4286 - masked_acc: 0.7641 - masked_auc: 0.8053 - val_loss: 0.4429 - val_masked_acc: 0.7653 - val_masked_auc: 0.8076\n",
      "Epoch 10/100\n",
      "14/14 [==============================] - 1s 66ms/step - loss: 0.4295 - masked_acc: 0.7655 - masked_auc: 0.8084 - val_loss: 0.4366 - val_masked_acc: 0.7665 - val_masked_auc: 0.8105\n",
      "Epoch 11/100\n",
      "14/14 [==============================] - 1s 66ms/step - loss: 0.4199 - masked_acc: 0.7668 - masked_auc: 0.8114 - val_loss: 0.4431 - val_masked_acc: 0.7676 - val_masked_auc: 0.8132\n",
      "Epoch 12/100\n",
      "14/14 [==============================] - 1s 66ms/step - loss: 0.4137 - masked_acc: 0.7680 - masked_auc: 0.8140 - val_loss: 0.4359 - val_masked_acc: 0.7688 - val_masked_auc: 0.8158\n",
      "Epoch 13/100\n",
      "14/14 [==============================] - 1s 66ms/step - loss: 0.4035 - masked_acc: 0.7693 - masked_auc: 0.8166 - val_loss: 0.4360 - val_masked_acc: 0.7701 - val_masked_auc: 0.8184\n",
      "Epoch 14/100\n",
      "14/14 [==============================] - 1s 67ms/step - loss: 0.3996 - masked_acc: 0.7705 - masked_auc: 0.8193 - val_loss: 0.4518 - val_masked_acc: 0.7711 - val_masked_auc: 0.8204\n",
      "Epoch 15/100\n",
      "14/14 [==============================] - 1s 74ms/step - loss: 0.4137 - masked_acc: 0.7712 - masked_auc: 0.8209 - val_loss: 0.4437 - val_masked_acc: 0.7719 - val_masked_auc: 0.8221\n",
      "Epoch 16/100\n",
      "14/14 [==============================] - 1s 69ms/step - loss: 0.4049 - masked_acc: 0.7721 - masked_auc: 0.8227 - val_loss: 0.4417 - val_masked_acc: 0.7727 - val_masked_auc: 0.8240\n",
      "Epoch 17/100\n",
      "14/14 [==============================] - 1s 65ms/step - loss: 0.4045 - masked_acc: 0.7729 - masked_auc: 0.8245 - val_loss: 0.4409 - val_masked_acc: 0.7735 - val_masked_auc: 0.8256\n",
      "Epoch 18/100\n",
      "14/14 [==============================] - 1s 90ms/step - loss: 0.3971 - masked_acc: 0.7738 - masked_auc: 0.8261 - val_loss: 0.4446 - val_masked_acc: 0.7743 - val_masked_auc: 0.8272\n",
      "Epoch 19/100\n",
      "14/14 [==============================] - 1s 67ms/step - loss: 0.3933 - masked_acc: 0.7746 - masked_auc: 0.8277 - val_loss: 0.4519 - val_masked_acc: 0.7751 - val_masked_auc: 0.8287\n",
      "Epoch 20/100\n",
      "14/14 [==============================] - 1s 66ms/step - loss: 0.3870 - masked_acc: 0.7754 - masked_auc: 0.8293 - val_loss: 0.4452 - val_masked_acc: 0.7759 - val_masked_auc: 0.8301\n",
      "Epoch 21/100\n",
      "14/14 [==============================] - 1s 66ms/step - loss: 0.3905 - masked_acc: 0.7761 - masked_auc: 0.8305 - val_loss: 0.4504 - val_masked_acc: 0.7766 - val_masked_auc: 0.8315\n",
      "Epoch 22/100\n",
      "14/14 [==============================] - 1s 66ms/step - loss: 0.3919 - masked_acc: 0.7768 - masked_auc: 0.8319 - val_loss: 0.4412 - val_masked_acc: 0.7774 - val_masked_auc: 0.8328\n",
      "28/28 [==============================] - 1s 22ms/step - loss: 0.3854 - masked_acc: 0.7780 - masked_auc: 0.8338\n",
      "4/4 [==============================] - 0s 22ms/step - loss: 0.4186 - masked_acc: 0.7782 - masked_auc: 0.8343\n",
      "Test:  [0.4186060428619385, 0.7781995534896851, 0.8342670798301697]\n",
      "Epoch 1/100\n",
      "14/14 [==============================] - 7s 163ms/step - loss: 0.5769 - masked_acc: 0.6857 - masked_auc: 0.5502 - val_loss: 0.4995 - val_masked_acc: 0.7066 - val_masked_auc: 0.6878\n",
      "Epoch 2/100\n",
      "14/14 [==============================] - 1s 66ms/step - loss: 0.4597 - masked_acc: 0.7148 - masked_auc: 0.7153 - val_loss: 0.4789 - val_masked_acc: 0.7322 - val_masked_auc: 0.7521\n",
      "Epoch 3/100\n",
      "14/14 [==============================] - 1s 65ms/step - loss: 0.4468 - masked_acc: 0.7356 - masked_auc: 0.7598 - val_loss: 0.4719 - val_masked_acc: 0.7433 - val_masked_auc: 0.7731\n",
      "Epoch 4/100\n",
      "14/14 [==============================] - 1s 68ms/step - loss: 0.4407 - masked_acc: 0.7453 - masked_auc: 0.7771 - val_loss: 0.4706 - val_masked_acc: 0.7492 - val_masked_auc: 0.7846\n",
      "Epoch 5/100\n",
      "14/14 [==============================] - 1s 71ms/step - loss: 0.4363 - masked_acc: 0.7505 - masked_auc: 0.7871 - val_loss: 0.4667 - val_masked_acc: 0.7536 - val_masked_auc: 0.7918\n",
      "Epoch 6/100\n",
      "14/14 [==============================] - 1s 64ms/step - loss: 0.4324 - masked_acc: 0.7545 - masked_auc: 0.7937 - val_loss: 0.4678 - val_masked_acc: 0.7569 - val_masked_auc: 0.7972\n",
      "Epoch 7/100\n",
      "14/14 [==============================] - 1s 65ms/step - loss: 0.4261 - masked_acc: 0.7576 - masked_auc: 0.7985 - val_loss: 0.4630 - val_masked_acc: 0.7594 - val_masked_auc: 0.8016\n",
      "Epoch 8/100\n",
      "14/14 [==============================] - 1s 64ms/step - loss: 0.4199 - masked_acc: 0.7601 - masked_auc: 0.8029 - val_loss: 0.4635 - val_masked_acc: 0.7615 - val_masked_auc: 0.8054\n",
      "Epoch 9/100\n",
      "14/14 [==============================] - 1s 65ms/step - loss: 0.4297 - masked_acc: 0.7617 - masked_auc: 0.8062 - val_loss: 0.4616 - val_masked_acc: 0.7632 - val_masked_auc: 0.8085\n",
      "Epoch 10/100\n",
      "14/14 [==============================] - 1s 64ms/step - loss: 0.4240 - masked_acc: 0.7635 - masked_auc: 0.8093 - val_loss: 0.4585 - val_masked_acc: 0.7647 - val_masked_auc: 0.8113\n",
      "Epoch 11/100\n",
      "14/14 [==============================] - 1s 65ms/step - loss: 0.4061 - masked_acc: 0.7652 - masked_auc: 0.8123 - val_loss: 0.4605 - val_masked_acc: 0.7661 - val_masked_auc: 0.8141\n",
      "Epoch 12/100\n",
      "14/14 [==============================] - 1s 65ms/step - loss: 0.4163 - masked_acc: 0.7664 - masked_auc: 0.8149 - val_loss: 0.4605 - val_masked_acc: 0.7675 - val_masked_auc: 0.8166\n",
      "Epoch 13/100\n",
      "14/14 [==============================] - 1s 65ms/step - loss: 0.3984 - masked_acc: 0.7680 - masked_auc: 0.8175 - val_loss: 0.4594 - val_masked_acc: 0.7688 - val_masked_auc: 0.8190\n",
      "Epoch 14/100\n",
      "14/14 [==============================] - 1s 66ms/step - loss: 0.4022 - masked_acc: 0.7690 - masked_auc: 0.8197 - val_loss: 0.4610 - val_masked_acc: 0.7699 - val_masked_auc: 0.8212\n",
      "Epoch 15/100\n",
      "14/14 [==============================] - 1s 66ms/step - loss: 0.4068 - masked_acc: 0.7702 - masked_auc: 0.8217 - val_loss: 0.4583 - val_masked_acc: 0.7709 - val_masked_auc: 0.8230\n",
      "Epoch 16/100\n",
      "14/14 [==============================] - 1s 69ms/step - loss: 0.3975 - masked_acc: 0.7712 - masked_auc: 0.8237 - val_loss: 0.4535 - val_masked_acc: 0.7720 - val_masked_auc: 0.8249\n",
      "Epoch 17/100\n",
      "14/14 [==============================] - 1s 70ms/step - loss: 0.3922 - masked_acc: 0.7723 - masked_auc: 0.8255 - val_loss: 0.4608 - val_masked_acc: 0.7730 - val_masked_auc: 0.8267\n",
      "Epoch 18/100\n",
      "14/14 [==============================] - 1s 64ms/step - loss: 0.3991 - masked_acc: 0.7732 - masked_auc: 0.8272 - val_loss: 0.4580 - val_masked_acc: 0.7740 - val_masked_auc: 0.8284\n",
      "Epoch 19/100\n",
      "14/14 [==============================] - 1s 66ms/step - loss: 0.3870 - masked_acc: 0.7743 - masked_auc: 0.8290 - val_loss: 0.4613 - val_masked_acc: 0.7750 - val_masked_auc: 0.8301\n",
      "Epoch 20/100\n",
      "14/14 [==============================] - 1s 82ms/step - loss: 0.3903 - masked_acc: 0.7753 - masked_auc: 0.8306 - val_loss: 0.4610 - val_masked_acc: 0.7760 - val_masked_auc: 0.8316\n",
      "Epoch 21/100\n",
      "14/14 [==============================] - 1s 66ms/step - loss: 0.3848 - masked_acc: 0.7762 - masked_auc: 0.8321 - val_loss: 0.4600 - val_masked_acc: 0.7769 - val_masked_auc: 0.8331\n",
      "Epoch 22/100\n",
      "14/14 [==============================] - 1s 66ms/step - loss: 0.3788 - masked_acc: 0.7772 - masked_auc: 0.8337 - val_loss: 0.4653 - val_masked_acc: 0.7777 - val_masked_auc: 0.8346\n",
      "Epoch 23/100\n",
      "14/14 [==============================] - 1s 65ms/step - loss: 0.3820 - masked_acc: 0.7779 - masked_auc: 0.8350 - val_loss: 0.4637 - val_masked_acc: 0.7786 - val_masked_auc: 0.8359\n",
      "Epoch 24/100\n",
      "14/14 [==============================] - 1s 104ms/step - loss: 0.3755 - masked_acc: 0.7788 - masked_auc: 0.8364 - val_loss: 0.4681 - val_masked_acc: 0.7794 - val_masked_auc: 0.8372\n",
      "Epoch 25/100\n",
      "14/14 [==============================] - 1s 65ms/step - loss: 0.3794 - masked_acc: 0.7796 - masked_auc: 0.8376 - val_loss: 0.4747 - val_masked_acc: 0.7802 - val_masked_auc: 0.8385\n",
      "Epoch 26/100\n",
      "14/14 [==============================] - 1s 65ms/step - loss: 0.3673 - masked_acc: 0.7805 - masked_auc: 0.8389 - val_loss: 0.4658 - val_masked_acc: 0.7810 - val_masked_auc: 0.8397\n",
      "28/28 [==============================] - 1s 21ms/step - loss: 0.3668 - masked_acc: 0.7817 - masked_auc: 0.8406\n",
      "4/4 [==============================] - 0s 21ms/step - loss: 0.4447 - masked_acc: 0.7819 - masked_auc: 0.8411\n",
      "Test:  [0.44468435645103455, 0.7819421887397766, 0.8410947322845459]\n"
     ]
    }
   ],
   "source": [
    "# 5 fold cross validation\n",
    "#HERE WE ONLY USE\n",
    "#CHAPTER, SUB_CHAPTER\n",
    "#QUESTIONimport torch\n",
    "X = np.array(grouped_data.keys())\n",
    "kfold = KFold(n_splits=5, shuffle=True)\n",
    "train_losses = list()\n",
    "train_aucs = list()\n",
    "val_losses = list()\n",
    "val_aucs = list()\n",
    "train_eval = list()\n",
    "test_eval = list()\n",
    "for train, test in kfold.split(X):\n",
    "    users_train, users_test =  X[train], X[test]\n",
    "    n = len(users_test)//2\n",
    "    users_test, users_val = users_test[:n], users_test[n: ]\n",
    "    train_data_space = SPACE_DATASET(grouped_data[users_train], MAXLENGTH)\n",
    "    val_data_space = SPACE_DATASET(grouped_data[users_val], MAXLENGTH)\n",
    "    test_data_space = SPACE_DATASET(grouped_data[users_test], MAXLENGTH)\n",
    "    #construct training input\n",
    "    train_chapter=[]\n",
    "    train_sub_chapter=[]\n",
    "    train_question = []\n",
    "    train_features=[]\n",
    "    train_labels=[]\n",
    "    for i in range(len(users_train)):\n",
    "        user = train_data_space.__getitem__(i)\n",
    "        train_chapter.append(user[0])\n",
    "        train_sub_chapter.append(user[1]) \n",
    "        train_question.append(user[2])\n",
    "        #train_features.append(user[3])\n",
    "        train_labels.append(user[3])\n",
    "    train_chapter = np.array(train_chapter)\n",
    "    train_sub_chapter = np.array(train_sub_chapter)\n",
    "    train_question = np.array(train_question)\n",
    "    #train_features = np.array(train_features)\n",
    "    train_labels= np.array(train_labels)[..., np.newaxis]\n",
    "\n",
    "    #construct validation input\n",
    "    val_chapter=[]\n",
    "    val_sub_chapter=[]\n",
    "    val_question = []\n",
    "    #val_features=[]\n",
    "    val_labels=[]\n",
    "    for i in range(len(users_val)):\n",
    "        user = val_data_space.__getitem__(i)\n",
    "        val_chapter.append(user[0])\n",
    "        val_sub_chapter.append(user[1]) \n",
    "        val_question.append(user[2])\n",
    "        #val_features.append(user[3])\n",
    "        val_labels.append(user[3])\n",
    "    val_chapter = np.array(val_chapter)\n",
    "    val_sub_chapter = np.array(val_sub_chapter)\n",
    "    #val_features = np.array(val_features)\n",
    "    val_question = np.array(val_question)\n",
    "    val_labels= np.array(val_labels)[..., np.newaxis]\n",
    "\n",
    "    # construct test input\n",
    "    test_chapter=[]\n",
    "    test_sub_chapter=[]\n",
    "    #test_features=[]\n",
    "    test_question=[]\n",
    "    test_labels=[]\n",
    "    for i in range(len(users_test)):\n",
    "        user = test_data_space.__getitem__(i)\n",
    "        test_chapter.append(user[0])\n",
    "        test_sub_chapter.append(user[1]) \n",
    "        test_question.append(user[2])\n",
    "        #test_features.append(user[3])\n",
    "        test_labels.append(user[3])\n",
    "    test_chapter = np.array(test_chapter)\n",
    "    test_sub_chapter = np.array(test_sub_chapter)\n",
    "    #test_features = np.array(test_features)\n",
    "    test_question = np.array(test_question)\n",
    "    test_labels= np.array(test_labels)[..., np.newaxis]\n",
    "\n",
    "    # define loss function and evaluation metrics\n",
    "    bce = tf.keras.losses.BinaryCrossentropy(from_logits=True)\n",
    "    acc = tf.keras.metrics.Accuracy()\n",
    "    auc = tf.keras.metrics.AUC()\n",
    "\n",
    "    def masked_bce(y_true, y_pred):\n",
    "      flat_pred = y_pred\n",
    "      flat_ground_truth = y_true\n",
    "      label_mask = tf.math.not_equal(flat_ground_truth, -1)\n",
    "      return bce(flat_ground_truth, flat_pred, sample_weight=label_mask)\n",
    "\n",
    "    def masked_acc(y_true, y_pred):\n",
    "      flat_pred = y_pred\n",
    "      flat_ground_truth = y_true\n",
    "      flat_pred = (flat_pred >= 0.5)\n",
    "      label_mask = tf.math.not_equal(flat_ground_truth, -1)\n",
    "      return acc(flat_ground_truth, flat_pred, sample_weight=label_mask)\n",
    "\n",
    "    def masked_auc(y_true, y_pred):\n",
    "      flat_pred = y_pred\n",
    "      flat_ground_truth = y_true\n",
    "      label_mask = tf.math.not_equal(flat_ground_truth, -1)\n",
    "      return auc(flat_ground_truth, flat_pred, sample_weight=label_mask)\n",
    "\n",
    "    # input layer\n",
    "    input_chap = tf.keras.Input(shape=(MAXLENGTH))\n",
    "    input_sub_chap = tf.keras.Input(shape=(MAXLENGTH))\n",
    "    input_ques =  tf.keras.Input(shape=(MAXLENGTH))\n",
    "    #input_features = tf.keras.Input(shape=(MAXLENGTH, FEATURES_SIZE))\n",
    "\n",
    "    # embedding layer for categorical features\n",
    "    embedding_chap = Embedding(input_dim = CHAPTER_SIZE, output_dim = EMBEDDING_DIM)(input_chap)\n",
    "    embedding_sub_chap = Embedding(input_dim = SUB_CHAPTER_SIZE, output_dim = EMBEDDING_DIM)(input_sub_chap) \n",
    "    embedding_ques = Embedding(input_dim = QUESTION_SIZE, output_dim = EMBEDDING_DIM)(input_ques)       \n",
    "\n",
    "    # dense layer for numeric features\n",
    "    #dense_features = Dense(EMBEDDING_DIM,input_shape = (None, MAXLENGTH))(input_features)\n",
    "\n",
    "    # definr gru layers\n",
    "    gru_chap = GRU(GRU_NEURON, input_shape = (None, EMBEDDING_DIM),return_sequences = True)(embedding_chap)\n",
    "    gru_sub_chap = GRU(GRU_NEURON, input_shape = (None, EMBEDDING_DIM),return_sequences = True)(embedding_sub_chap)\n",
    "    gru_ques = GRU(GRU_NEURON, input_shape = (None, EMBEDDING_DIM),return_sequences = True)(embedding_ques)\n",
    "    #gru_features = GRU(GRU_NEURON, input_shape = (None, EMBEDDING_DIM),return_sequences = True)(dense_features)\n",
    "\n",
    "    gru_output = tf.concat([gru_chap, gru_sub_chap, gru_ques], axis = 2)\n",
    "\n",
    "    dense1 = Dense(256, input_shape = (None, 3*EMBEDDING_DIM), activation='relu')(gru_output)\n",
    "    dropout1 = Dropout(0.1)(dense1)\n",
    "    dense2 = Dense(64, input_shape = (None, 256), activation='relu')(dropout1)\n",
    "    dropout2 = Dropout(0.1)(dense2)\n",
    "    pred = Dense(1, input_shape = (None, 64), activation='sigmoid')(dropout2)\n",
    "\n",
    "    model = tf.keras.Model(\n",
    "        inputs=[input_chap, input_sub_chap,input_ques],\n",
    "        outputs=pred,\n",
    "        name='gru_model'\n",
    "    )\n",
    "\n",
    "    callback = tf.keras.callbacks.EarlyStopping(monitor='val_loss', patience=10)\n",
    "    opt_adam = Adam(learning_rate = 0.005)\n",
    "    model.compile(\n",
    "        optimizer=opt_adam,\n",
    "        loss= masked_bce,\n",
    "        metrics = [masked_acc, masked_auc]\n",
    "    )\n",
    "\n",
    "    history = model.fit(\n",
    "      [train_chapter, train_sub_chapter, train_question],\n",
    "      train_labels,\n",
    "      batch_size = 64,\n",
    "      epochs = 100,\n",
    "      validation_data=([val_chapter, val_sub_chapter, val_question], val_labels),\n",
    "      callbacks=[callback]\n",
    "    )\n",
    "    val_losses.append(list(history.history['val_loss']))\n",
    "    train_losses.append(list(history.history['loss']))\n",
    "    val_aucs.append(list(history.history['val_masked_auc']))\n",
    "    train_aucs.append(list(history.history['masked_auc']))\n",
    "    train_score = model.evaluate([train_chapter, train_sub_chapter, train_question], train_labels)\n",
    "    train_eval.append(train_score)\n",
    "    test_score = model.evaluate([test_chapter, test_sub_chapter, test_question], test_labels)\n",
    "    test_eval.append(test_score)\n",
    "    print(\"Test: \", test_score)\n",
    "    def reset_weights(model):\n",
    "      for layer in model.layers: \n",
    "        if isinstance(layer, tf.keras.Model):\n",
    "          reset_weights(layer)\n",
    "          continue\n",
    "        for k, initializer in layer.__dict__.items():\n",
    "          if \"initializer\" not in k:\n",
    "            continue\n",
    "          # find the corresponding variable\n",
    "          var = getattr(layer, k.replace(\"_initializer\", \"\"))\n",
    "          var.assign(initializer(var.shape, var.dtype))\n",
    "    reset_weights(model)"
   ]
  },
  {
   "cell_type": "code",
   "execution_count": 29,
   "metadata": {
    "execution": {
     "iopub.execute_input": "2021-07-26T22:32:54.389252Z",
     "iopub.status.busy": "2021-07-26T22:32:54.388853Z",
     "iopub.status.idle": "2021-07-26T22:32:54.399752Z",
     "shell.execute_reply": "2021-07-26T22:32:54.398617Z",
     "shell.execute_reply.started": "2021-07-26T22:32:54.389211Z"
    },
    "id": "QsVmumHMz3lx",
    "outputId": "4ff1e2fa-6abb-458e-c729-495b456f53e5"
   },
   "outputs": [
    {
     "name": "stdout",
     "output_type": "stream",
     "text": [
      "test avg loss:  0.43645221590995786 +/- 0.011053844980810053\n",
      "test avg acc:  0.780498492717743 +/- 0.0026350156131448753\n",
      "test avg auc:  0.837076210975647 +/- 0.004662759681625018\n"
     ]
    }
   ],
   "source": [
    "t_eval = np.array(test_eval)\n",
    "print(\"test avg loss: \", np.mean(t_eval[:, 0]), \"+/-\" ,np.std(t_eval[:, 0]))\n",
    "print(\"test avg acc: \", np.mean(t_eval[:, 1]),  \"+/-\" ,np.std(t_eval[:, 1]))\n",
    "print(\"test avg auc: \", np.mean(t_eval[:, 2]), \"+/-\" ,np.std(t_eval[:, 2]))"
   ]
  },
  {
   "cell_type": "code",
   "execution_count": 30,
   "metadata": {
    "execution": {
     "iopub.execute_input": "2021-07-26T22:32:54.401912Z",
     "iopub.status.busy": "2021-07-26T22:32:54.401658Z",
     "iopub.status.idle": "2021-07-26T22:32:54.412909Z",
     "shell.execute_reply": "2021-07-26T22:32:54.412034Z",
     "shell.execute_reply.started": "2021-07-26T22:32:54.401880Z"
    },
    "id": "b9MM_CXWz5K6",
    "outputId": "4cf88e1d-3a74-4e7d-f92c-d01522e91757"
   },
   "outputs": [
    {
     "name": "stdout",
     "output_type": "stream",
     "text": [
      "train avg loss:  0.37723196148872373 +/- 0.011398572955959498\n",
      "train avg acc:  0.7802977800369263 +/- 0.00258903133111663\n",
      "train avg auc:  0.8365725517272949 +/- 0.004654717725791623\n"
     ]
    }
   ],
   "source": [
    "t_eval = np.array(train_eval)\n",
    "print(\"train avg loss: \", np.mean(t_eval[:, 0]), \"+/-\" ,np.std(t_eval[:, 0]))\n",
    "print(\"train avg acc: \", np.mean(t_eval[:, 1]),  \"+/-\" ,np.std(t_eval[:, 1]))\n",
    "print(\"train avg auc: \", np.mean(t_eval[:, 2]), \"+/-\" ,np.std(t_eval[:, 2]))"
   ]
  }
 ],
 "metadata": {
  "kernelspec": {
   "display_name": "Python 3",
   "language": "python",
   "name": "python3"
  },
  "language_info": {
   "codemirror_mode": {
    "name": "ipython",
    "version": 3
   },
   "file_extension": ".py",
   "mimetype": "text/x-python",
   "name": "python",
   "nbconvert_exporter": "python",
   "pygments_lexer": "ipython3",
   "version": "3.8.5"
  }
 },
 "nbformat": 4,
 "nbformat_minor": 4
}
