{
 "cells": [
  {
   "cell_type": "code",
   "execution_count": 1,
   "metadata": {
    "execution": {
     "iopub.execute_input": "2021-07-26T22:19:52.640866Z",
     "iopub.status.busy": "2021-07-26T22:19:52.640160Z",
     "iopub.status.idle": "2021-07-26T22:19:54.616028Z",
     "shell.execute_reply": "2021-07-26T22:19:54.615136Z",
     "shell.execute_reply.started": "2021-07-26T22:19:52.640747Z"
    },
    "id": "farifxiKU1aB"
   },
   "outputs": [],
   "source": [
    "import numpy as np\n",
    "import pandas as pd\n",
    "import warnings\n",
    "import gc\n",
    "import tensorflow as tf\n",
    "from tensorflow import keras\n",
    "\n",
    "import random\n",
    "from random import choice\n",
    "from tensorflow.keras.optimizers import Adam\n",
    "from tensorflow.keras.models import Sequential \n",
    "from tensorflow.keras.layers import Dense, GRU, Concatenate, Embedding, Flatten, Activation, Dropout\n",
    "from sklearn.model_selection import KFold\n",
    "from tensorflow.python.client import device_lib\n",
    "warnings.filterwarnings('ignore')\n",
    "import random"
   ]
  },
  {
   "cell_type": "code",
   "execution_count": 2,
   "metadata": {
    "execution": {
     "iopub.execute_input": "2021-07-26T22:19:54.617876Z",
     "iopub.status.busy": "2021-07-26T22:19:54.617546Z",
     "iopub.status.idle": "2021-07-26T22:19:54.622992Z",
     "shell.execute_reply": "2021-07-26T22:19:54.622192Z",
     "shell.execute_reply.started": "2021-07-26T22:19:54.617840Z"
    },
    "id": "QOson70GPOXb"
   },
   "outputs": [],
   "source": [
    "import gc"
   ]
  },
  {
   "cell_type": "markdown",
   "metadata": {
    "id": "BQsVybBH3VPw"
   },
   "source": [
    "## Data Preprocessing"
   ]
  },
  {
   "cell_type": "code",
   "execution_count": 3,
   "metadata": {
    "execution": {
     "iopub.execute_input": "2021-07-26T22:19:54.625396Z",
     "iopub.status.busy": "2021-07-26T22:19:54.624977Z",
     "iopub.status.idle": "2021-07-26T22:19:58.944663Z",
     "shell.execute_reply": "2021-07-26T22:19:58.943877Z",
     "shell.execute_reply.started": "2021-07-26T22:19:54.625358Z"
    },
    "id": "rwtTusGxrmAE",
    "outputId": "1430f3cf-038b-485e-b5c4-c1686b1f34fd"
   },
   "outputs": [
    {
     "data": {
      "text/html": [
       "<div>\n",
       "<style scoped>\n",
       "    .dataframe tbody tr th:only-of-type {\n",
       "        vertical-align: middle;\n",
       "    }\n",
       "\n",
       "    .dataframe tbody tr th {\n",
       "        vertical-align: top;\n",
       "    }\n",
       "\n",
       "    .dataframe thead th {\n",
       "        text-align: right;\n",
       "    }\n",
       "</style>\n",
       "<table border=\"1\" class=\"dataframe\">\n",
       "  <thead>\n",
       "    <tr style=\"text-align: right;\">\n",
       "      <th></th>\n",
       "      <th>Unnamed: 0</th>\n",
       "      <th>chapter_label</th>\n",
       "      <th>sub_chapter_label</th>\n",
       "      <th>question_name</th>\n",
       "      <th>user_id.x</th>\n",
       "      <th>term</th>\n",
       "      <th>STDNT_SEX_CD</th>\n",
       "      <th>NonNativeEnglish</th>\n",
       "      <th>White</th>\n",
       "      <th>Asian</th>\n",
       "      <th>...</th>\n",
       "      <th>classGraded</th>\n",
       "      <th>classHonors</th>\n",
       "      <th>Pass_Fail</th>\n",
       "      <th>parentsGraduateEdu</th>\n",
       "      <th>minorityGroup</th>\n",
       "      <th>q</th>\n",
       "      <th>day's_available_flashcards</th>\n",
       "      <th>start_practice</th>\n",
       "      <th>end_practice</th>\n",
       "      <th>days_offset</th>\n",
       "    </tr>\n",
       "  </thead>\n",
       "  <tbody>\n",
       "    <tr>\n",
       "      <th>0</th>\n",
       "      <td>1</td>\n",
       "      <td>Sort</td>\n",
       "      <td>intro-SortingwithSortandSorted</td>\n",
       "      <td>ee_sort_04</td>\n",
       "      <td>148</td>\n",
       "      <td>WN 2018</td>\n",
       "      <td>1</td>\n",
       "      <td>0</td>\n",
       "      <td>1</td>\n",
       "      <td>0</td>\n",
       "      <td>...</td>\n",
       "      <td>1</td>\n",
       "      <td>0</td>\n",
       "      <td>0</td>\n",
       "      <td>0</td>\n",
       "      <td>0</td>\n",
       "      <td>0</td>\n",
       "      <td>18</td>\n",
       "      <td>2018-03-04 20:00:19</td>\n",
       "      <td>2018-03-04 20:00:35</td>\n",
       "      <td>45</td>\n",
       "    </tr>\n",
       "    <tr>\n",
       "      <th>1</th>\n",
       "      <td>2</td>\n",
       "      <td>Functions</td>\n",
       "      <td>Returningavaluefromafunction</td>\n",
       "      <td>test_questionfunctions_2_3</td>\n",
       "      <td>148</td>\n",
       "      <td>WN 2018</td>\n",
       "      <td>1</td>\n",
       "      <td>0</td>\n",
       "      <td>1</td>\n",
       "      <td>0</td>\n",
       "      <td>...</td>\n",
       "      <td>1</td>\n",
       "      <td>0</td>\n",
       "      <td>0</td>\n",
       "      <td>0</td>\n",
       "      <td>0</td>\n",
       "      <td>4</td>\n",
       "      <td>16</td>\n",
       "      <td>2018-02-10 11:57:55</td>\n",
       "      <td>2018-02-10 11:58:35</td>\n",
       "      <td>23</td>\n",
       "    </tr>\n",
       "    <tr>\n",
       "      <th>2</th>\n",
       "      <td>3</td>\n",
       "      <td>RESTAPIs</td>\n",
       "      <td>functionswithrestapis</td>\n",
       "      <td>test_question_functions_rest_apis_1</td>\n",
       "      <td>148</td>\n",
       "      <td>WN 2018</td>\n",
       "      <td>1</td>\n",
       "      <td>0</td>\n",
       "      <td>1</td>\n",
       "      <td>0</td>\n",
       "      <td>...</td>\n",
       "      <td>1</td>\n",
       "      <td>0</td>\n",
       "      <td>0</td>\n",
       "      <td>0</td>\n",
       "      <td>0</td>\n",
       "      <td>1</td>\n",
       "      <td>2</td>\n",
       "      <td>2018-03-12 17:03:07</td>\n",
       "      <td>2018-03-12 17:04:28</td>\n",
       "      <td>53</td>\n",
       "    </tr>\n",
       "    <tr>\n",
       "      <th>3</th>\n",
       "      <td>4</td>\n",
       "      <td>SimplePythonData</td>\n",
       "      <td>FunctionCalls</td>\n",
       "      <td>exercise_functionCalls_1</td>\n",
       "      <td>148</td>\n",
       "      <td>WN 2018</td>\n",
       "      <td>1</td>\n",
       "      <td>0</td>\n",
       "      <td>1</td>\n",
       "      <td>0</td>\n",
       "      <td>...</td>\n",
       "      <td>1</td>\n",
       "      <td>0</td>\n",
       "      <td>0</td>\n",
       "      <td>0</td>\n",
       "      <td>0</td>\n",
       "      <td>0</td>\n",
       "      <td>10</td>\n",
       "      <td>2018-01-30 14:15:49</td>\n",
       "      <td>2018-01-30 14:15:58</td>\n",
       "      <td>12</td>\n",
       "    </tr>\n",
       "    <tr>\n",
       "      <th>4</th>\n",
       "      <td>5</td>\n",
       "      <td>DictionaryAccumulation</td>\n",
       "      <td>AccumulatingaMaximumValue</td>\n",
       "      <td>ps_04_07</td>\n",
       "      <td>148</td>\n",
       "      <td>WN 2018</td>\n",
       "      <td>1</td>\n",
       "      <td>0</td>\n",
       "      <td>1</td>\n",
       "      <td>0</td>\n",
       "      <td>...</td>\n",
       "      <td>1</td>\n",
       "      <td>0</td>\n",
       "      <td>0</td>\n",
       "      <td>0</td>\n",
       "      <td>0</td>\n",
       "      <td>0</td>\n",
       "      <td>23</td>\n",
       "      <td>2018-03-03 14:04:17</td>\n",
       "      <td>2018-03-03 14:04:25</td>\n",
       "      <td>44</td>\n",
       "    </tr>\n",
       "  </tbody>\n",
       "</table>\n",
       "<p>5 rows × 48 columns</p>\n",
       "</div>"
      ],
      "text/plain": [
       "   Unnamed: 0           chapter_label               sub_chapter_label  \\\n",
       "0           1                    Sort  intro-SortingwithSortandSorted   \n",
       "1           2               Functions    Returningavaluefromafunction   \n",
       "2           3                RESTAPIs           functionswithrestapis   \n",
       "3           4        SimplePythonData                   FunctionCalls   \n",
       "4           5  DictionaryAccumulation       AccumulatingaMaximumValue   \n",
       "\n",
       "                         question_name  user_id.x     term  STDNT_SEX_CD  \\\n",
       "0                           ee_sort_04        148  WN 2018             1   \n",
       "1           test_questionfunctions_2_3        148  WN 2018             1   \n",
       "2  test_question_functions_rest_apis_1        148  WN 2018             1   \n",
       "3             exercise_functionCalls_1        148  WN 2018             1   \n",
       "4                             ps_04_07        148  WN 2018             1   \n",
       "\n",
       "   NonNativeEnglish  White  Asian  ...  classGraded  classHonors  Pass_Fail  \\\n",
       "0                 0      1      0  ...            1            0          0   \n",
       "1                 0      1      0  ...            1            0          0   \n",
       "2                 0      1      0  ...            1            0          0   \n",
       "3                 0      1      0  ...            1            0          0   \n",
       "4                 0      1      0  ...            1            0          0   \n",
       "\n",
       "   parentsGraduateEdu  minorityGroup  q  day's_available_flashcards  \\\n",
       "0                   0              0  0                          18   \n",
       "1                   0              0  4                          16   \n",
       "2                   0              0  1                           2   \n",
       "3                   0              0  0                          10   \n",
       "4                   0              0  0                          23   \n",
       "\n",
       "        start_practice         end_practice  days_offset  \n",
       "0  2018-03-04 20:00:19  2018-03-04 20:00:35           45  \n",
       "1  2018-02-10 11:57:55  2018-02-10 11:58:35           23  \n",
       "2  2018-03-12 17:03:07  2018-03-12 17:04:28           53  \n",
       "3  2018-01-30 14:15:49  2018-01-30 14:15:58           12  \n",
       "4  2018-03-03 14:04:17  2018-03-03 14:04:25           44  \n",
       "\n",
       "[5 rows x 48 columns]"
      ]
     },
     "execution_count": 3,
     "metadata": {},
     "output_type": "execute_result"
    }
   ],
   "source": [
    "# load the data\n",
    "import pandas as pd\n",
    "dataframe = pd.read_csv('../input/practice-log-demographics/Practice_Log_Demographics (1).csv', low_memory=False)\n",
    "dataframe.head()"
   ]
  },
  {
   "cell_type": "code",
   "execution_count": 4,
   "metadata": {
    "execution": {
     "iopub.execute_input": "2021-07-26T22:19:58.946603Z",
     "iopub.status.busy": "2021-07-26T22:19:58.946223Z",
     "iopub.status.idle": "2021-07-26T22:20:00.183878Z",
     "shell.execute_reply": "2021-07-26T22:20:00.182967Z",
     "shell.execute_reply.started": "2021-07-26T22:19:58.946566Z"
    },
    "id": "OCbHnEp_Vir0"
   },
   "outputs": [],
   "source": [
    "#sort data based on timestamp\n",
    "dataframe = dataframe.sort_values(by=['start_practice'])"
   ]
  },
  {
   "cell_type": "code",
   "execution_count": 5,
   "metadata": {
    "execution": {
     "iopub.execute_input": "2021-07-26T22:20:00.185506Z",
     "iopub.status.busy": "2021-07-26T22:20:00.185165Z",
     "iopub.status.idle": "2021-07-26T22:20:00.193708Z",
     "shell.execute_reply": "2021-07-26T22:20:00.191337Z",
     "shell.execute_reply.started": "2021-07-26T22:20:00.185472Z"
    },
    "id": "0RvF7BvEr98o"
   },
   "outputs": [],
   "source": [
    "FEATURES = ['chapter_label', 'sub_chapter_label','question_name','user_id','term',\n",
    "            'STDNT_SEX_CD', \n",
    "            'NonNativeEnglish',\n",
    "            'White',\n",
    "            'Asian',\n",
    "            'WhiteOrAsian',\n",
    "            'Hispanic',\n",
    "            'AfricanAmerican',\n",
    "            'OtherEthnicities',\n",
    "            'NonWhiteOrAsian',\n",
    "            'STDNT_CTZN_STAT_CD', 'international', \n",
    "            'gradingType',\n",
    "            'birthYear',\n",
    "            'exclClassCumGPA',\n",
    "            'Freshman',\n",
    "            'Junior',\n",
    "            'Sophomore',\n",
    "            'Senior',\n",
    "            'termCreditsGPA',\n",
    "            'termCreditsNoGPA',\n",
    "            'athlete_1',\n",
    "            'honorsPro',\n",
    "            'LSA', 'programBusiness', 'programEngineering', \n",
    "            'programInformation', 'programOther',\n",
    "            'HSCalculusTaken', \n",
    "            'highSchoolGPA', \n",
    "            'majorsCount', 'minorsCount',\n",
    "            'PREV_TERM_CUM_GPA',\n",
    "            'classGraded', 'classHonors', \n",
    "            'Pass_Fail', \n",
    "            'parentsGraduateEdu',  'minorityGroup', \n",
    "            'q',\n",
    "            'available_flashcards', \n",
    "            'start_practice', \n",
    "            'end_practice',\n",
    "            'days_offset']"
   ]
  },
  {
   "cell_type": "code",
   "execution_count": 6,
   "metadata": {
    "execution": {
     "iopub.execute_input": "2021-07-26T22:20:00.195426Z",
     "iopub.status.busy": "2021-07-26T22:20:00.195039Z",
     "iopub.status.idle": "2021-07-26T22:20:00.674220Z",
     "shell.execute_reply": "2021-07-26T22:20:00.673308Z",
     "shell.execute_reply.started": "2021-07-26T22:20:00.195386Z"
    },
    "id": "Mn341X7lSztl"
   },
   "outputs": [],
   "source": [
    "dataframe['available_flashcards'] = dataframe[\"day's_available_flashcards\"][:]\n",
    "dataframe = dataframe.drop([\"day's_available_flashcards\"], axis=1)\n",
    "dataframe['user_id'] = dataframe[\"user_id.x\"][:]\n",
    "dataframe = dataframe.drop([\"user_id.x\"], axis=1)"
   ]
  },
  {
   "cell_type": "code",
   "execution_count": 7,
   "metadata": {
    "execution": {
     "iopub.execute_input": "2021-07-26T22:20:00.675894Z",
     "iopub.status.busy": "2021-07-26T22:20:00.675503Z",
     "iopub.status.idle": "2021-07-26T22:20:00.822927Z",
     "shell.execute_reply": "2021-07-26T22:20:00.821951Z",
     "shell.execute_reply.started": "2021-07-26T22:20:00.675857Z"
    },
    "id": "-_BRggOjbBjN",
    "outputId": "42bff7db-08dd-48dc-a73a-d048508053b7"
   },
   "outputs": [
    {
     "data": {
      "text/plain": [
       "66"
      ]
     },
     "execution_count": 7,
     "metadata": {},
     "output_type": "execute_result"
    }
   ],
   "source": [
    "gc.collect()"
   ]
  },
  {
   "cell_type": "code",
   "execution_count": 8,
   "metadata": {
    "execution": {
     "iopub.execute_input": "2021-07-26T22:20:00.826585Z",
     "iopub.status.busy": "2021-07-26T22:20:00.826038Z",
     "iopub.status.idle": "2021-07-26T22:20:01.097433Z",
     "shell.execute_reply": "2021-07-26T22:20:01.096461Z",
     "shell.execute_reply.started": "2021-07-26T22:20:00.826545Z"
    },
    "id": "lXM7MlonVeRL",
    "outputId": "d29ccec0-522f-4e3c-e0b2-39b2e1eaef74"
   },
   "outputs": [
    {
     "data": {
      "text/plain": [
       "22"
      ]
     },
     "execution_count": 8,
     "metadata": {},
     "output_type": "execute_result"
    }
   ],
   "source": [
    "dataframe = dataframe[FEATURES]\n",
    "gc.collect()"
   ]
  },
  {
   "cell_type": "code",
   "execution_count": 9,
   "metadata": {
    "execution": {
     "iopub.execute_input": "2021-07-26T22:20:01.099893Z",
     "iopub.status.busy": "2021-07-26T22:20:01.099539Z",
     "iopub.status.idle": "2021-07-26T22:20:02.502227Z",
     "shell.execute_reply": "2021-07-26T22:20:02.501367Z",
     "shell.execute_reply.started": "2021-07-26T22:20:01.099856Z"
    },
    "id": "qRKqF_0IXZgj"
   },
   "outputs": [],
   "source": [
    "#label encode term, chapter_label, question_name, sub_chapter_label columns\n",
    "dataframe['term'] = dataframe['term'].astype('category')\n",
    "dataframe['user_id'] = dataframe['user_id'].astype(int)\n",
    "dataframe['user_id'] = dataframe['user_id'].astype(str)\n",
    "dataframe['user_id'] = dataframe['term'].str.cat(dataframe['user_id'], sep=':')\n",
    "dataframe['user_id'] = dataframe['user_id'].astype('category')\n",
    "dataframe['chapter_label'] = dataframe['chapter_label'].astype('category')\n",
    "dataframe['sub_chapter_label'] = dataframe['sub_chapter_label'].astype('category')\n",
    "dataframe['question_name'] = dataframe['question_name'].astype('category')\n"
   ]
  },
  {
   "cell_type": "code",
   "execution_count": 10,
   "metadata": {
    "execution": {
     "iopub.execute_input": "2021-07-26T22:20:02.503967Z",
     "iopub.status.busy": "2021-07-26T22:20:02.503585Z",
     "iopub.status.idle": "2021-07-26T22:20:02.989572Z",
     "shell.execute_reply": "2021-07-26T22:20:02.988633Z",
     "shell.execute_reply.started": "2021-07-26T22:20:02.503923Z"
    },
    "id": "eVl_067GWkDe"
   },
   "outputs": [],
   "source": [
    "#calculate time_lag and prev_time_elapsed\n",
    "dataframe['prev_time_elapsed'] = None\n",
    "dataframe['time_lag'] = None\n",
    "dataframe['time_lag'] = dataframe['time_lag'].astype(np.float)\n",
    "dataframe['prev_time_elapsed'] = dataframe['prev_time_elapsed'].astype(np.float)\n",
    "dataframe.start_practice = pd.to_datetime(dataframe.start_practice, format='%Y-%m-%d %H:%M:%S')\n",
    "dataframe.end_practice = pd.to_datetime(dataframe.end_practice, format='%Y-%m-%d %H:%M:%S')"
   ]
  },
  {
   "cell_type": "code",
   "execution_count": 11,
   "metadata": {
    "execution": {
     "iopub.execute_input": "2021-07-26T22:20:02.991348Z",
     "iopub.status.busy": "2021-07-26T22:20:02.990975Z",
     "iopub.status.idle": "2021-07-26T22:20:03.017373Z",
     "shell.execute_reply": "2021-07-26T22:20:03.016589Z",
     "shell.execute_reply.started": "2021-07-26T22:20:02.991307Z"
    }
   },
   "outputs": [],
   "source": [
    "dataframe['dif'] = dataframe.end_practice - dataframe.start_practice\n",
    "dataframe['dif'] = dataframe['dif'] /np.timedelta64(1, 's')\n",
    "dataframe['answer_correct'] = np.where((dataframe['q']==5) & (dataframe['dif'] <= 60), 1, 0)"
   ]
  },
  {
   "cell_type": "code",
   "execution_count": 13,
   "metadata": {
    "execution": {
     "iopub.execute_input": "2021-07-26T22:20:20.881647Z",
     "iopub.status.busy": "2021-07-26T22:20:20.881262Z",
     "iopub.status.idle": "2021-07-26T22:20:20.955717Z",
     "shell.execute_reply": "2021-07-26T22:20:20.954801Z",
     "shell.execute_reply.started": "2021-07-26T22:20:20.881610Z"
    },
    "id": "8t8yZ0XvWwzz"
   },
   "outputs": [],
   "source": [
    "#drop column end_practice\n",
    "dataframe.drop(columns=['end_practice'], inplace=True)"
   ]
  },
  {
   "cell_type": "code",
   "execution_count": 14,
   "metadata": {
    "execution": {
     "iopub.execute_input": "2021-07-26T22:20:20.957440Z",
     "iopub.status.busy": "2021-07-26T22:20:20.957078Z",
     "iopub.status.idle": "2021-07-26T22:20:21.341635Z",
     "shell.execute_reply": "2021-07-26T22:20:21.340751Z",
     "shell.execute_reply.started": "2021-07-26T22:20:20.957402Z"
    },
    "id": "E42raRIrYYXz"
   },
   "outputs": [],
   "source": [
    "# calculate the age feature\n",
    "dataframe['term_value'] = [int(ele[3:]) for ele in dataframe['term']]\n",
    "dataframe['age'] = dataframe['term_value'] - dataframe['birthYear']"
   ]
  },
  {
   "cell_type": "code",
   "execution_count": 15,
   "metadata": {
    "execution": {
     "iopub.execute_input": "2021-07-26T22:20:21.343419Z",
     "iopub.status.busy": "2021-07-26T22:20:21.343060Z",
     "iopub.status.idle": "2021-07-26T22:20:21.530080Z",
     "shell.execute_reply": "2021-07-26T22:20:21.529129Z",
     "shell.execute_reply.started": "2021-07-26T22:20:21.343379Z"
    },
    "id": "pcMVQXueYnMh"
   },
   "outputs": [],
   "source": [
    "# drop term_value and birthYear column\n",
    "dataframe.drop(columns=['term_value', 'birthYear'], inplace=True)"
   ]
  },
  {
   "cell_type": "code",
   "execution_count": 16,
   "metadata": {
    "execution": {
     "iopub.execute_input": "2021-07-26T22:20:21.531915Z",
     "iopub.status.busy": "2021-07-26T22:20:21.531568Z",
     "iopub.status.idle": "2021-07-26T22:20:21.961206Z",
     "shell.execute_reply": "2021-07-26T22:20:21.960360Z",
     "shell.execute_reply.started": "2021-07-26T22:20:21.531873Z"
    },
    "id": "hjRF5szkcQE0"
   },
   "outputs": [],
   "source": [
    "# convert minors_count to int value\n",
    "new_minors_count = []\n",
    "for i in dataframe['minorsCount']:\n",
    "  if i == 0 or i == '0':\n",
    "    new_minors_count.append(0)\n",
    "  elif i == '1 Minor':\n",
    "    new_minors_count.append(1)\n",
    "  else:\n",
    "    new_minors_count.append(2)\n",
    "\n",
    "dataframe['minorsCount'] = new_minors_count"
   ]
  },
  {
   "cell_type": "code",
   "execution_count": 17,
   "metadata": {
    "execution": {
     "iopub.execute_input": "2021-07-26T22:20:21.962995Z",
     "iopub.status.busy": "2021-07-26T22:20:21.962634Z",
     "iopub.status.idle": "2021-07-26T22:20:21.976988Z",
     "shell.execute_reply": "2021-07-26T22:20:21.976060Z",
     "shell.execute_reply.started": "2021-07-26T22:20:21.962955Z"
    },
    "id": "9VdzvJSw0KUU",
    "outputId": "6393784f-234e-4935-9cee-cbcf56b5630a"
   },
   "outputs": [
    {
     "name": "stdout",
     "output_type": "stream",
     "text": [
      "we have  1110  users in total.\n"
     ]
    }
   ],
   "source": [
    "print(\"we have \", dataframe['user_id'].nunique(),\" users in total.\")"
   ]
  },
  {
   "cell_type": "code",
   "execution_count": 18,
   "metadata": {
    "execution": {
     "iopub.execute_input": "2021-07-26T22:20:21.978695Z",
     "iopub.status.busy": "2021-07-26T22:20:21.978326Z",
     "iopub.status.idle": "2021-07-26T22:20:21.987762Z",
     "shell.execute_reply": "2021-07-26T22:20:21.986949Z",
     "shell.execute_reply.started": "2021-07-26T22:20:21.978657Z"
    },
    "id": "hUaGk9L9g13t"
   },
   "outputs": [],
   "source": [
    "for category in ['term','chapter_label', 'sub_chapter_label', 'question_name']:\n",
    "  dataframe[category] =  dataframe[category].cat.codes"
   ]
  },
  {
   "cell_type": "code",
   "execution_count": 19,
   "metadata": {
    "execution": {
     "iopub.execute_input": "2021-07-26T22:20:21.989487Z",
     "iopub.status.busy": "2021-07-26T22:20:21.989133Z",
     "iopub.status.idle": "2021-07-26T22:20:22.246849Z",
     "shell.execute_reply": "2021-07-26T22:20:22.245970Z",
     "shell.execute_reply.started": "2021-07-26T22:20:21.989451Z"
    },
    "id": "hkyvcYvlhliG"
   },
   "outputs": [],
   "source": [
    "NUMERIC_FEATURE =  ['age',\n",
    "            'exclClassCumGPA',\n",
    "            'termCreditsGPA',\n",
    "            'termCreditsNoGPA',\n",
    "            'highSchoolGPA', \n",
    "            'majorsCount', 'minorsCount',\n",
    "            'PREV_TERM_CUM_GPA',\n",
    "            'available_flashcards', \n",
    "            'days_offset', \n",
    "            'prev_time_elapsed',\n",
    "             'time_lag']\n",
    "# z-score normalize the numerical features\n",
    "for f in NUMERIC_FEATURE:\n",
    "  m = dataframe[f].mean()\n",
    "  std = dataframe[f].std()\n",
    "  dataframe[f] = (dataframe[f] - m)/std"
   ]
  },
  {
   "cell_type": "code",
   "execution_count": 20,
   "metadata": {
    "execution": {
     "iopub.execute_input": "2021-07-26T22:20:22.248411Z",
     "iopub.status.busy": "2021-07-26T22:20:22.248083Z",
     "iopub.status.idle": "2021-07-26T22:20:25.381731Z",
     "shell.execute_reply": "2021-07-26T22:20:25.380861Z",
     "shell.execute_reply.started": "2021-07-26T22:20:22.248377Z"
    },
    "id": "wo2OH-d5kWp1"
   },
   "outputs": [],
   "source": [
    "FEATURE_TRANS =  ['answer_correct', 'chapter_label', 'sub_chapter_label','question_name','user_id','term',\n",
    "                  'STDNT_SEX_CD', \n",
    "                    'White','Asian','NonWhiteOrAsian',\n",
    "            'STDNT_CTZN_STAT_CD', 'international', \n",
    "            'age',\n",
    "            'exclClassCumGPA',\n",
    "           'Freshman',\n",
    "            'Junior',\n",
    "            'Sophomore',\n",
    "            'Senior',\n",
    "            'termCreditsGPA',\n",
    "            'termCreditsNoGPA',\n",
    "            'athlete_1',\n",
    "            'honorsPro',\n",
    "            'LSA', 'programBusiness', 'programEngineering', \n",
    "            'programInformation', 'programOther',\n",
    "            'HSCalculusTaken', \n",
    "            'highSchoolGPA', \n",
    "            'majorsCount', 'minorsCount',\n",
    "            'PREV_TERM_CUM_GPA',\n",
    "            'classGraded', 'classHonors', \n",
    "            'Pass_Fail', \n",
    "            'parentsGraduateEdu',  'minorityGroup', \n",
    "            'available_flashcards', \n",
    "            'days_offset', 'prev_time_elapsed',\n",
    "             'time_lag']\n",
    "grouped_data = dataframe[FEATURE_TRANS].groupby(['user_id']).apply(lambda r: (\n",
    "                r['answer_correct'],\n",
    "                r['term'],\n",
    "                r['chapter_label'],\n",
    "                r['sub_chapter_label'],\n",
    "                r['question_name'],\n",
    "                np.array([r['STDNT_SEX_CD'],r['STDNT_CTZN_STAT_CD'], r['international'], \n",
    "                  r['White'],r['Asian'],r['NonWhiteOrAsian'],\n",
    "                 r['age'],r['exclClassCumGPA'],\n",
    "                r['Freshman'], r['Junior'], r['Sophomore'], r['Senior'],\n",
    "                r['termCreditsGPA'], r['termCreditsNoGPA'],\n",
    "                r['athlete_1'], r['honorsPro'],\n",
    "                r['LSA'], r['programBusiness'], r['programEngineering'], \n",
    "                r['programInformation'], r['programOther'],\n",
    "                r['HSCalculusTaken'],  r['highSchoolGPA'], \n",
    "                r['majorsCount'], r['minorsCount'],\n",
    "                r['PREV_TERM_CUM_GPA'], \n",
    "                r['parentsGraduateEdu'], r['minorityGroup'],\n",
    "                r['available_flashcards'],\n",
    "                r['days_offset'],\n",
    "                r['prev_time_elapsed'],\n",
    "                r['time_lag']\n",
    "              ]).transpose()\n",
    "                ))"
   ]
  },
  {
   "cell_type": "code",
   "execution_count": 21,
   "metadata": {
    "execution": {
     "iopub.execute_input": "2021-07-26T22:20:25.383549Z",
     "iopub.status.busy": "2021-07-26T22:20:25.383004Z",
     "iopub.status.idle": "2021-07-26T22:20:25.552474Z",
     "shell.execute_reply": "2021-07-26T22:20:25.551302Z",
     "shell.execute_reply.started": "2021-07-26T22:20:25.383495Z"
    },
    "id": "XXLqQnjrlp_4",
    "outputId": "c801da79-f0bf-4fe5-b19c-7c799fe01556"
   },
   "outputs": [
    {
     "data": {
      "text/plain": [
       "22"
      ]
     },
     "execution_count": 21,
     "metadata": {},
     "output_type": "execute_result"
    }
   ],
   "source": [
    "gc.collect()"
   ]
  },
  {
   "cell_type": "code",
   "execution_count": 22,
   "metadata": {
    "execution": {
     "iopub.execute_input": "2021-07-26T22:20:25.554678Z",
     "iopub.status.busy": "2021-07-26T22:20:25.554217Z",
     "iopub.status.idle": "2021-07-26T22:20:25.588565Z",
     "shell.execute_reply": "2021-07-26T22:20:25.587823Z",
     "shell.execute_reply.started": "2021-07-26T22:20:25.554637Z"
    },
    "id": "QYGQasdTrmP0"
   },
   "outputs": [],
   "source": [
    "# remove students who don't have make any interactions with the tool\n",
    "toRemove = []\n",
    "for index in grouped_data.index:\n",
    "  if len(grouped_data[index][0]) <= 10:\n",
    "    toRemove.append(index)\n",
    "grouped_data = grouped_data.drop(index=toRemove)"
   ]
  },
  {
   "cell_type": "code",
   "execution_count": 23,
   "metadata": {
    "execution": {
     "iopub.execute_input": "2021-07-26T22:20:25.594454Z",
     "iopub.status.busy": "2021-07-26T22:20:25.594087Z",
     "iopub.status.idle": "2021-07-26T22:20:25.598390Z",
     "shell.execute_reply": "2021-07-26T22:20:25.597288Z",
     "shell.execute_reply.started": "2021-07-26T22:20:25.594417Z"
    },
    "id": "9kZqV9siDyNb"
   },
   "outputs": [],
   "source": [
    "#SETTINGS -> can be modified at any time\n",
    "MAXLENGTH = 200\n",
    "EMBEDDING_DIM = 128\n",
    "DENSE_NEURON = 16\n",
    "GRU_NEURON = 32"
   ]
  },
  {
   "cell_type": "code",
   "execution_count": 24,
   "metadata": {
    "execution": {
     "iopub.execute_input": "2021-07-26T22:20:25.600353Z",
     "iopub.status.busy": "2021-07-26T22:20:25.599975Z",
     "iopub.status.idle": "2021-07-26T22:20:25.607733Z",
     "shell.execute_reply": "2021-07-26T22:20:25.606907Z",
     "shell.execute_reply.started": "2021-07-26T22:20:25.600318Z"
    },
    "id": "1MksD1JizpPn"
   },
   "outputs": [],
   "source": [
    "#FEATURES_SIZE = 38\n",
    "CHAPTER_SIZE = 38\n",
    "SUB_CHAPTER_SIZE = 223\n",
    "QUESTION_SIZE = 1069"
   ]
  },
  {
   "cell_type": "code",
   "execution_count": 25,
   "metadata": {
    "execution": {
     "iopub.execute_input": "2021-07-26T22:20:25.609223Z",
     "iopub.status.busy": "2021-07-26T22:20:25.608800Z",
     "iopub.status.idle": "2021-07-26T22:20:25.623927Z",
     "shell.execute_reply": "2021-07-26T22:20:25.623039Z",
     "shell.execute_reply.started": "2021-07-26T22:20:25.609186Z"
    }
   },
   "outputs": [
    {
     "data": {
      "text/plain": [
       "array([ 96,  86,  88,  28,  12,  82, 125,  32,  69,  33,  21, 115, 120,\n",
       "       119,  91,  73,  57,  77, 117,  40,  74,  41,  68,  39,  92,  47,\n",
       "       104,  95,  53,  49,  50,  16,  52,  55,   7,  15,  51, 102, 103,\n",
       "        11,  94, 108, 100,  17,  67,  63,  13, 139,  26,  25,   8, 107,\n",
       "         0,  90,  48,  54, 138,   1,   2,   3,  34,  35,  85,   5,  24,\n",
       "        37,  36,  78,  70,  45, 142,  71,  10,  89, 111, 112, 109, 116,\n",
       "        76,  72, 148, 134, 146, 221, 143,  56,  60,  61,  23, 140, 106,\n",
       "        42,  83,  22, 145, 136, 144,  38,   4,  19, 137,  75,  43,  98,\n",
       "        84, 113, 173, 174, 175, 176, 177, 178, 180, 181, 182, 187, 189,\n",
       "       190, 191, 192, 193, 195, 197, 151, 152, 153, 156, 157, 158, 159,\n",
       "       160, 161, 163, 164, 165, 166, 167, 168, 169, 170, 171, 172, 198,\n",
       "       199, 200, 201, 202, 203, 204, 205, 206, 207, 208, 209, 210, 162,\n",
       "       179, 186, 188, 194, 183, 184, 185, 211, 212, 213, 154, 155, 196,\n",
       "         6, 118,  18, 215,  46, 216, 141,  27, 217, 105, 123, 218, 101,\n",
       "       124, 219, 122, 220,  58,  59,  64,  20,  93,  65,  66,   9,  44,\n",
       "        30,  14,  79, 121,  31, 110, 129,  87,  97,  62, 149, 132, 131,\n",
       "       150, 130, 128,  99, 147, 127, 214, 135,  80, 126, 133,  81, 114,\n",
       "        29], dtype=int16)"
      ]
     },
     "execution_count": 25,
     "metadata": {},
     "output_type": "execute_result"
    }
   ],
   "source": [
    "dataframe['sub_chapter_label'].unique()"
   ]
  },
  {
   "cell_type": "code",
   "execution_count": 26,
   "metadata": {
    "execution": {
     "iopub.execute_input": "2021-07-26T22:20:25.625499Z",
     "iopub.status.busy": "2021-07-26T22:20:25.625140Z",
     "iopub.status.idle": "2021-07-26T22:20:25.953849Z",
     "shell.execute_reply": "2021-07-26T22:20:25.952937Z",
     "shell.execute_reply.started": "2021-07-26T22:20:25.625464Z"
    },
    "id": "mY3Thp6d0NaT"
   },
   "outputs": [],
   "source": [
    "#create dataset class\n",
    "#to prepare it for train, valid, and test sets\n",
    "from torch.utils.data import Dataset, DataLoader\n",
    "class SPACE_DATASET(Dataset):\n",
    "    def __init__(self, data, maxlength = 200):\n",
    "        super(SPACE_DATASET, self).__init__()\n",
    "        self.maxlength = maxlength\n",
    "        self.data = data\n",
    "        self.users = list()\n",
    "        for user in data.index:\n",
    "            self.users.append(user)\n",
    "\n",
    "    def __len__(self):\n",
    "        return len(self.users)\n",
    "    \n",
    "    def __getitem__(self, ix):\n",
    "        user = self.users[ix]\n",
    "        user = user\n",
    "        target, term, ch_label, sub_ch_label, ques_name, features = self.data[user]\n",
    "        \n",
    "        #0s should be used as padding values\n",
    "        ori_target = target.values \n",
    "        term = term.values\n",
    "        ch_label = ch_label.values + 1\n",
    "        sub_ch_label = sub_ch_label.values +1\n",
    "        ques_name = ques_name.values + 1\n",
    "        \n",
    "        n = len(ch_label)\n",
    "\n",
    "        # one hot for term\n",
    "        term_encode = [0]*7\n",
    "        term_encode[term[0]] = 1\n",
    "        shifted_target= []\n",
    "\n",
    "        \n",
    "        # get  user interaction informations in the previous MAXLEN interactions\n",
    "        if n > self.maxlength:\n",
    "          ch_label = ch_label[-self.maxlength:]\n",
    "          sub_ch_label = sub_ch_label[-self.maxlength:]\n",
    "          ques_name = ques_name[-self.maxlength:]\n",
    "          features = features[-self.maxlength:]\n",
    "          target = ori_target[-self.maxlength:]\n",
    "          shifted_target = ori_target[ (-self.maxlength - 1) :-1]\n",
    "        else:\n",
    "          ch_label = [0]*(self.maxlength - n)+list(ch_label[:])\n",
    "          sub_ch_label = [0]*(self.maxlength - n)+list(sub_ch_label[:])\n",
    "          ques_name = [0]*(self.maxlength - n)+list(ques_name[:])\n",
    "          features = [[0]*len(features[0])]*(self.maxlength  - n)+list(features[:])\n",
    "          target = [-1]*(self.maxlength - n) + list(ori_target[:])\n",
    "          shifted_target = [-1]*(self.maxlength + 1 - n) + list(ori_target[:-1])\n",
    "\n",
    "        new_features = []\n",
    "        count = 0\n",
    "        for f in features:\n",
    "          temp = list(f)\n",
    "          temp.extend(term_encode)\n",
    "          # temp.append(shifted_target[count]) #uncomment this line for include previous response feature\n",
    "          new_features.append(temp)\n",
    "          count += 1\n",
    "        features = new_features\n",
    "        return ch_label,sub_ch_label,ques_name,target"
   ]
  },
  {
   "cell_type": "code",
   "execution_count": 27,
   "metadata": {
    "execution": {
     "iopub.execute_input": "2021-07-26T22:20:25.955431Z",
     "iopub.status.busy": "2021-07-26T22:20:25.955028Z",
     "iopub.status.idle": "2021-07-26T22:20:25.962458Z",
     "shell.execute_reply": "2021-07-26T22:20:25.961520Z",
     "shell.execute_reply.started": "2021-07-26T22:20:25.955393Z"
    }
   },
   "outputs": [
    {
     "data": {
      "text/plain": [
       "223"
      ]
     },
     "execution_count": 27,
     "metadata": {},
     "output_type": "execute_result"
    }
   ],
   "source": [
    "SUB_CHAPTER_SIZE"
   ]
  },
  {
   "cell_type": "markdown",
   "metadata": {
    "id": "4xc90-aLzxat"
   },
   "source": [
    "## KFOLD - GRU\n"
   ]
  },
  {
   "cell_type": "code",
   "execution_count": 28,
   "metadata": {
    "execution": {
     "iopub.execute_input": "2021-07-26T22:20:25.964851Z",
     "iopub.status.busy": "2021-07-26T22:20:25.964095Z",
     "iopub.status.idle": "2021-07-26T22:22:04.382432Z",
     "shell.execute_reply": "2021-07-26T22:22:04.381628Z",
     "shell.execute_reply.started": "2021-07-26T22:20:25.964696Z"
    },
    "id": "gzJrljnjzypP",
    "outputId": "87abe488-b493-4f8f-9d71-45cb1d2ddf51"
   },
   "outputs": [
    {
     "name": "stdout",
     "output_type": "stream",
     "text": [
      "Epoch 1/100\n",
      "14/14 [==============================] - 8s 175ms/step - loss: 0.5936 - masked_acc: 0.5790 - masked_auc: 0.5398 - val_loss: 0.4709 - val_masked_acc: 0.7114 - val_masked_auc: 0.6675\n",
      "Epoch 2/100\n",
      "14/14 [==============================] - 1s 38ms/step - loss: 0.4719 - masked_acc: 0.7180 - masked_auc: 0.6950 - val_loss: 0.4508 - val_masked_acc: 0.7354 - val_masked_auc: 0.7335\n",
      "Epoch 3/100\n",
      "14/14 [==============================] - 1s 38ms/step - loss: 0.4521 - masked_acc: 0.7399 - masked_auc: 0.7428 - val_loss: 0.4465 - val_masked_acc: 0.7476 - val_masked_auc: 0.7572\n",
      "Epoch 4/100\n",
      "14/14 [==============================] - 1s 38ms/step - loss: 0.4567 - masked_acc: 0.7492 - masked_auc: 0.7614 - val_loss: 0.4452 - val_masked_acc: 0.7543 - val_masked_auc: 0.7697\n",
      "Epoch 5/100\n",
      "14/14 [==============================] - 1s 38ms/step - loss: 0.4450 - masked_acc: 0.7555 - masked_auc: 0.7726 - val_loss: 0.4431 - val_masked_acc: 0.7588 - val_masked_auc: 0.7781\n",
      "Epoch 6/100\n",
      "14/14 [==============================] - 1s 38ms/step - loss: 0.4329 - masked_acc: 0.7598 - masked_auc: 0.7803 - val_loss: 0.4414 - val_masked_acc: 0.7621 - val_masked_auc: 0.7845\n",
      "Epoch 7/100\n",
      "14/14 [==============================] - 1s 39ms/step - loss: 0.4340 - masked_acc: 0.7628 - masked_auc: 0.7862 - val_loss: 0.4428 - val_masked_acc: 0.7647 - val_masked_auc: 0.7897\n",
      "Epoch 8/100\n",
      "14/14 [==============================] - 1s 37ms/step - loss: 0.4307 - masked_acc: 0.7653 - masked_auc: 0.7909 - val_loss: 0.4510 - val_masked_acc: 0.7666 - val_masked_auc: 0.7935\n",
      "Epoch 9/100\n",
      "14/14 [==============================] - 1s 39ms/step - loss: 0.4296 - masked_acc: 0.7670 - masked_auc: 0.7947 - val_loss: 0.4424 - val_masked_acc: 0.7685 - val_masked_auc: 0.7973\n",
      "Epoch 10/100\n",
      "14/14 [==============================] - 1s 38ms/step - loss: 0.4191 - masked_acc: 0.7690 - masked_auc: 0.7985 - val_loss: 0.4419 - val_masked_acc: 0.7703 - val_masked_auc: 0.8011\n",
      "Epoch 11/100\n",
      "14/14 [==============================] - 1s 39ms/step - loss: 0.4151 - masked_acc: 0.7707 - masked_auc: 0.8021 - val_loss: 0.4464 - val_masked_acc: 0.7720 - val_masked_auc: 0.8047\n",
      "Epoch 12/100\n",
      "14/14 [==============================] - 1s 39ms/step - loss: 0.4052 - masked_acc: 0.7725 - masked_auc: 0.8058 - val_loss: 0.4574 - val_masked_acc: 0.7737 - val_masked_auc: 0.8080\n",
      "Epoch 13/100\n",
      "14/14 [==============================] - 1s 59ms/step - loss: 0.4066 - masked_acc: 0.7740 - masked_auc: 0.8090 - val_loss: 0.4612 - val_masked_acc: 0.7751 - val_masked_auc: 0.8109\n",
      "Epoch 14/100\n",
      "14/14 [==============================] - 1s 47ms/step - loss: 0.3965 - masked_acc: 0.7755 - masked_auc: 0.8118 - val_loss: 0.4461 - val_masked_acc: 0.7765 - val_masked_auc: 0.8137\n",
      "Epoch 15/100\n",
      "14/14 [==============================] - 1s 37ms/step - loss: 0.3936 - masked_acc: 0.7770 - masked_auc: 0.8147 - val_loss: 0.4538 - val_masked_acc: 0.7778 - val_masked_auc: 0.8163\n",
      "Epoch 16/100\n",
      "14/14 [==============================] - 1s 37ms/step - loss: 0.3969 - masked_acc: 0.7782 - masked_auc: 0.8171 - val_loss: 0.4653 - val_masked_acc: 0.7790 - val_masked_auc: 0.8186\n",
      "28/28 [==============================] - 0s 14ms/step - loss: 0.3930 - masked_acc: 0.7799 - masked_auc: 0.8201\n",
      "4/4 [==============================] - 0s 14ms/step - loss: 0.4617 - masked_acc: 0.7800 - masked_auc: 0.8209\n",
      "Test:  [0.46173185110092163, 0.780017077922821, 0.8209311962127686]\n",
      "Epoch 1/100\n",
      "14/14 [==============================] - 6s 128ms/step - loss: 0.5945 - masked_acc: 0.5872 - masked_auc: 0.5327 - val_loss: 0.4972 - val_masked_acc: 0.7090 - val_masked_auc: 0.6567\n",
      "Epoch 2/100\n",
      "14/14 [==============================] - 1s 37ms/step - loss: 0.4888 - masked_acc: 0.7128 - masked_auc: 0.6828 - val_loss: 0.4836 - val_masked_acc: 0.7277 - val_masked_auc: 0.7245\n",
      "Epoch 3/100\n",
      "14/14 [==============================] - 1s 36ms/step - loss: 0.4616 - masked_acc: 0.7321 - masked_auc: 0.7338 - val_loss: 0.4728 - val_masked_acc: 0.7417 - val_masked_auc: 0.7511\n",
      "Epoch 4/100\n",
      "14/14 [==============================] - 1s 37ms/step - loss: 0.4565 - masked_acc: 0.7438 - masked_auc: 0.7555 - val_loss: 0.4724 - val_masked_acc: 0.7493 - val_masked_auc: 0.7646\n",
      "Epoch 5/100\n",
      "14/14 [==============================] - 1s 37ms/step - loss: 0.4430 - masked_acc: 0.7510 - masked_auc: 0.7675 - val_loss: 0.4718 - val_masked_acc: 0.7544 - val_masked_auc: 0.7735\n",
      "Epoch 6/100\n",
      "14/14 [==============================] - 1s 47ms/step - loss: 0.4436 - masked_acc: 0.7554 - masked_auc: 0.7754 - val_loss: 0.4702 - val_masked_acc: 0.7579 - val_masked_auc: 0.7802\n",
      "Epoch 7/100\n",
      "14/14 [==============================] - 1s 43ms/step - loss: 0.4393 - masked_acc: 0.7588 - masked_auc: 0.7819 - val_loss: 0.4661 - val_masked_acc: 0.7606 - val_masked_auc: 0.7858\n",
      "Epoch 8/100\n",
      "14/14 [==============================] - 1s 37ms/step - loss: 0.4326 - masked_acc: 0.7613 - masked_auc: 0.7873 - val_loss: 0.4679 - val_masked_acc: 0.7628 - val_masked_auc: 0.7904\n",
      "Epoch 9/100\n",
      "14/14 [==============================] - 1s 38ms/step - loss: 0.4322 - masked_acc: 0.7632 - masked_auc: 0.7916 - val_loss: 0.4681 - val_masked_acc: 0.7647 - val_masked_auc: 0.7946\n",
      "Epoch 10/100\n",
      "14/14 [==============================] - 1s 37ms/step - loss: 0.4314 - masked_acc: 0.7652 - masked_auc: 0.7956 - val_loss: 0.4710 - val_masked_acc: 0.7664 - val_masked_auc: 0.7977\n",
      "Epoch 11/100\n",
      "14/14 [==============================] - 1s 37ms/step - loss: 0.4244 - masked_acc: 0.7668 - masked_auc: 0.7986 - val_loss: 0.4643 - val_masked_acc: 0.7680 - val_masked_auc: 0.8012\n",
      "Epoch 12/100\n",
      "14/14 [==============================] - 1s 37ms/step - loss: 0.4169 - masked_acc: 0.7685 - masked_auc: 0.8022 - val_loss: 0.4691 - val_masked_acc: 0.7697 - val_masked_auc: 0.8044\n",
      "Epoch 13/100\n",
      "14/14 [==============================] - 1s 38ms/step - loss: 0.4090 - masked_acc: 0.7701 - masked_auc: 0.8054 - val_loss: 0.4670 - val_masked_acc: 0.7711 - val_masked_auc: 0.8074\n",
      "Epoch 14/100\n",
      "14/14 [==============================] - 1s 38ms/step - loss: 0.3998 - masked_acc: 0.7716 - masked_auc: 0.8084 - val_loss: 0.4821 - val_masked_acc: 0.7725 - val_masked_auc: 0.8103\n",
      "Epoch 15/100\n",
      "14/14 [==============================] - 1s 38ms/step - loss: 0.4020 - masked_acc: 0.7730 - masked_auc: 0.8111 - val_loss: 0.4718 - val_masked_acc: 0.7739 - val_masked_auc: 0.8130\n",
      "Epoch 16/100\n",
      "14/14 [==============================] - 1s 39ms/step - loss: 0.3927 - masked_acc: 0.7744 - masked_auc: 0.8139 - val_loss: 0.4760 - val_masked_acc: 0.7753 - val_masked_auc: 0.8155\n",
      "Epoch 17/100\n",
      "14/14 [==============================] - 1s 40ms/step - loss: 0.3930 - masked_acc: 0.7757 - masked_auc: 0.8162 - val_loss: 0.4867 - val_masked_acc: 0.7765 - val_masked_auc: 0.8179\n",
      "Epoch 18/100\n",
      "14/14 [==============================] - 1s 39ms/step - loss: 0.3917 - masked_acc: 0.7769 - masked_auc: 0.8186 - val_loss: 0.4821 - val_masked_acc: 0.7777 - val_masked_auc: 0.8200\n",
      "Epoch 19/100\n",
      "14/14 [==============================] - 1s 38ms/step - loss: 0.3919 - masked_acc: 0.7780 - masked_auc: 0.8206 - val_loss: 0.4739 - val_masked_acc: 0.7788 - val_masked_auc: 0.8219\n",
      "Epoch 20/100\n",
      "14/14 [==============================] - 1s 38ms/step - loss: 0.3936 - masked_acc: 0.7791 - masked_auc: 0.8224 - val_loss: 0.4828 - val_masked_acc: 0.7797 - val_masked_auc: 0.8235\n",
      "Epoch 21/100\n",
      "14/14 [==============================] - 1s 38ms/step - loss: 0.3844 - masked_acc: 0.7800 - masked_auc: 0.8241 - val_loss: 0.4846 - val_masked_acc: 0.7806 - val_masked_auc: 0.8253\n",
      "28/28 [==============================] - 0s 14ms/step - loss: 0.3786 - masked_acc: 0.7815 - masked_auc: 0.8265\n",
      "4/4 [==============================] - 0s 13ms/step - loss: 0.4539 - masked_acc: 0.7818 - masked_auc: 0.8272\n",
      "Test:  [0.4539286196231842, 0.7817577719688416, 0.8272138237953186]\n",
      "Epoch 1/100\n",
      "14/14 [==============================] - 6s 131ms/step - loss: 0.5926 - masked_acc: 0.6172 - masked_auc: 0.5402 - val_loss: 0.5368 - val_masked_acc: 0.7148 - val_masked_auc: 0.6629\n",
      "Epoch 2/100\n",
      "14/14 [==============================] - 1s 43ms/step - loss: 0.4750 - masked_acc: 0.7182 - masked_auc: 0.6925 - val_loss: 0.5039 - val_masked_acc: 0.7338 - val_masked_auc: 0.7303\n",
      "Epoch 3/100\n",
      "14/14 [==============================] - 1s 60ms/step - loss: 0.4538 - masked_acc: 0.7383 - masked_auc: 0.7394 - val_loss: 0.5034 - val_masked_acc: 0.7453 - val_masked_auc: 0.7545\n",
      "Epoch 4/100\n",
      "14/14 [==============================] - 1s 42ms/step - loss: 0.4491 - masked_acc: 0.7474 - masked_auc: 0.7593 - val_loss: 0.4978 - val_masked_acc: 0.7517 - val_masked_auc: 0.7675\n",
      "Epoch 5/100\n",
      "14/14 [==============================] - 1s 37ms/step - loss: 0.4377 - masked_acc: 0.7535 - masked_auc: 0.7711 - val_loss: 0.4924 - val_masked_acc: 0.7559 - val_masked_auc: 0.7761\n",
      "Epoch 6/100\n",
      "14/14 [==============================] - 1s 38ms/step - loss: 0.4474 - masked_acc: 0.7567 - masked_auc: 0.7780 - val_loss: 0.4876 - val_masked_acc: 0.7591 - val_masked_auc: 0.7829\n",
      "Epoch 7/100\n",
      "14/14 [==============================] - 1s 38ms/step - loss: 0.4365 - masked_acc: 0.7598 - masked_auc: 0.7846 - val_loss: 0.4872 - val_masked_acc: 0.7615 - val_masked_auc: 0.7883\n",
      "Epoch 8/100\n",
      "14/14 [==============================] - 1s 53ms/step - loss: 0.4278 - masked_acc: 0.7622 - masked_auc: 0.7899 - val_loss: 0.4840 - val_masked_acc: 0.7636 - val_masked_auc: 0.7931\n",
      "Epoch 9/100\n",
      "14/14 [==============================] - 1s 41ms/step - loss: 0.4265 - masked_acc: 0.7641 - masked_auc: 0.7946 - val_loss: 0.4918 - val_masked_acc: 0.7653 - val_masked_auc: 0.7973\n",
      "Epoch 10/100\n",
      "14/14 [==============================] - 1s 38ms/step - loss: 0.4223 - masked_acc: 0.7657 - masked_auc: 0.7986 - val_loss: 0.4905 - val_masked_acc: 0.7670 - val_masked_auc: 0.8011\n",
      "Epoch 11/100\n",
      "14/14 [==============================] - 1s 38ms/step - loss: 0.4128 - masked_acc: 0.7675 - masked_auc: 0.8024 - val_loss: 0.4861 - val_masked_acc: 0.7686 - val_masked_auc: 0.8048\n",
      "Epoch 12/100\n",
      "14/14 [==============================] - 1s 38ms/step - loss: 0.3996 - masked_acc: 0.7692 - masked_auc: 0.8060 - val_loss: 0.4899 - val_masked_acc: 0.7702 - val_masked_auc: 0.8081\n",
      "Epoch 13/100\n",
      "14/14 [==============================] - 1s 38ms/step - loss: 0.3890 - masked_acc: 0.7709 - masked_auc: 0.8094 - val_loss: 0.4876 - val_masked_acc: 0.7718 - val_masked_auc: 0.8112\n",
      "Epoch 14/100\n",
      "14/14 [==============================] - 1s 37ms/step - loss: 0.4018 - masked_acc: 0.7722 - masked_auc: 0.8121 - val_loss: 0.4877 - val_masked_acc: 0.7733 - val_masked_auc: 0.8141\n",
      "Epoch 15/100\n",
      "14/14 [==============================] - 1s 38ms/step - loss: 0.3950 - masked_acc: 0.7737 - masked_auc: 0.8150 - val_loss: 0.5060 - val_masked_acc: 0.7748 - val_masked_auc: 0.8168\n",
      "Epoch 16/100\n",
      "14/14 [==============================] - 1s 37ms/step - loss: 0.3929 - masked_acc: 0.7752 - masked_auc: 0.8175 - val_loss: 0.4968 - val_masked_acc: 0.7761 - val_masked_auc: 0.8192\n",
      "Epoch 17/100\n",
      "14/14 [==============================] - 1s 38ms/step - loss: 0.3858 - masked_acc: 0.7765 - masked_auc: 0.8200 - val_loss: 0.5021 - val_masked_acc: 0.7773 - val_masked_auc: 0.8214\n",
      "Epoch 18/100\n",
      "14/14 [==============================] - 1s 38ms/step - loss: 0.3851 - masked_acc: 0.7777 - masked_auc: 0.8222 - val_loss: 0.4977 - val_masked_acc: 0.7785 - val_masked_auc: 0.8236\n",
      "28/28 [==============================] - 0s 14ms/step - loss: 0.3783 - masked_acc: 0.7794 - masked_auc: 0.8250\n",
      "4/4 [==============================] - 0s 13ms/step - loss: 0.4448 - masked_acc: 0.7799 - masked_auc: 0.8259\n",
      "Test:  [0.44481614232063293, 0.779890775680542, 0.8258713483810425]\n",
      "Epoch 1/100\n",
      "14/14 [==============================] - 7s 125ms/step - loss: 0.6097 - masked_acc: 0.5478 - masked_auc: 0.5130 - val_loss: 0.5102 - val_masked_acc: 0.7023 - val_masked_auc: 0.6375\n",
      "Epoch 2/100\n",
      "14/14 [==============================] - 1s 37ms/step - loss: 0.4783 - masked_acc: 0.7079 - masked_auc: 0.6723 - val_loss: 0.4822 - val_masked_acc: 0.7219 - val_masked_auc: 0.7160\n",
      "Epoch 3/100\n",
      "14/14 [==============================] - 1s 37ms/step - loss: 0.4622 - masked_acc: 0.7266 - masked_auc: 0.7275 - val_loss: 0.4732 - val_masked_acc: 0.7364 - val_masked_auc: 0.7457\n",
      "Epoch 4/100\n",
      "14/14 [==============================] - 1s 37ms/step - loss: 0.4551 - masked_acc: 0.7391 - masked_auc: 0.7511 - val_loss: 0.4700 - val_masked_acc: 0.7451 - val_masked_auc: 0.7611\n",
      "Epoch 5/100\n",
      "14/14 [==============================] - 1s 37ms/step - loss: 0.4452 - masked_acc: 0.7471 - masked_auc: 0.7645 - val_loss: 0.4694 - val_masked_acc: 0.7507 - val_masked_auc: 0.7708\n",
      "Epoch 6/100\n",
      "14/14 [==============================] - 1s 37ms/step - loss: 0.4507 - masked_acc: 0.7517 - masked_auc: 0.7731 - val_loss: 0.4710 - val_masked_acc: 0.7547 - val_masked_auc: 0.7776\n",
      "Epoch 7/100\n",
      "14/14 [==============================] - 1s 37ms/step - loss: 0.4440 - masked_acc: 0.7556 - masked_auc: 0.7791 - val_loss: 0.4694 - val_masked_acc: 0.7577 - val_masked_auc: 0.7827\n",
      "Epoch 8/100\n",
      "14/14 [==============================] - 1s 36ms/step - loss: 0.4418 - masked_acc: 0.7583 - masked_auc: 0.7841 - val_loss: 0.4668 - val_masked_acc: 0.7602 - val_masked_auc: 0.7873\n",
      "Epoch 9/100\n",
      "14/14 [==============================] - 1s 36ms/step - loss: 0.4326 - masked_acc: 0.7609 - masked_auc: 0.7886 - val_loss: 0.4669 - val_masked_acc: 0.7623 - val_masked_auc: 0.7915\n",
      "Epoch 10/100\n",
      "14/14 [==============================] - 1s 37ms/step - loss: 0.4285 - masked_acc: 0.7629 - masked_auc: 0.7927 - val_loss: 0.4709 - val_masked_acc: 0.7642 - val_masked_auc: 0.7952\n",
      "Epoch 11/100\n",
      "14/14 [==============================] - 1s 38ms/step - loss: 0.4195 - masked_acc: 0.7647 - masked_auc: 0.7964 - val_loss: 0.4753 - val_masked_acc: 0.7659 - val_masked_auc: 0.7988\n",
      "Epoch 12/100\n",
      "14/14 [==============================] - 1s 38ms/step - loss: 0.4167 - masked_acc: 0.7664 - masked_auc: 0.8000 - val_loss: 0.4835 - val_masked_acc: 0.7676 - val_masked_auc: 0.8022\n",
      "Epoch 13/100\n",
      "14/14 [==============================] - 1s 37ms/step - loss: 0.4081 - masked_acc: 0.7681 - masked_auc: 0.8032 - val_loss: 0.4795 - val_masked_acc: 0.7692 - val_masked_auc: 0.8053\n",
      "Epoch 14/100\n",
      "14/14 [==============================] - 1s 37ms/step - loss: 0.4148 - masked_acc: 0.7696 - masked_auc: 0.8062 - val_loss: 0.4778 - val_masked_acc: 0.7708 - val_masked_auc: 0.8082\n",
      "Epoch 15/100\n",
      "14/14 [==============================] - 1s 56ms/step - loss: 0.3994 - masked_acc: 0.7712 - masked_auc: 0.8092 - val_loss: 0.4783 - val_masked_acc: 0.7721 - val_masked_auc: 0.8108\n",
      "Epoch 16/100\n",
      "14/14 [==============================] - 1s 37ms/step - loss: 0.3992 - masked_acc: 0.7725 - masked_auc: 0.8117 - val_loss: 0.4790 - val_masked_acc: 0.7733 - val_masked_auc: 0.8132\n",
      "Epoch 17/100\n",
      "14/14 [==============================] - 1s 36ms/step - loss: 0.3967 - masked_acc: 0.7737 - masked_auc: 0.8141 - val_loss: 0.4936 - val_masked_acc: 0.7746 - val_masked_auc: 0.8156\n",
      "Epoch 18/100\n",
      "14/14 [==============================] - 1s 36ms/step - loss: 0.4008 - masked_acc: 0.7748 - masked_auc: 0.8163 - val_loss: 0.4899 - val_masked_acc: 0.7758 - val_masked_auc: 0.8179\n",
      "28/28 [==============================] - 0s 13ms/step - loss: 0.3837 - masked_acc: 0.7768 - masked_auc: 0.8195\n",
      "4/4 [==============================] - 0s 13ms/step - loss: 0.4494 - masked_acc: 0.7772 - masked_auc: 0.8205\n",
      "Test:  [0.4493739604949951, 0.7771744728088379, 0.8204890489578247]\n",
      "Epoch 1/100\n",
      "14/14 [==============================] - 7s 178ms/step - loss: 0.5911 - masked_acc: 0.6338 - masked_auc: 0.5323 - val_loss: 0.4947 - val_masked_acc: 0.7190 - val_masked_auc: 0.6599\n",
      "Epoch 2/100\n",
      "14/14 [==============================] - 1s 37ms/step - loss: 0.4735 - masked_acc: 0.7248 - masked_auc: 0.6885 - val_loss: 0.4720 - val_masked_acc: 0.7397 - val_masked_auc: 0.7296\n",
      "Epoch 3/100\n",
      "14/14 [==============================] - 1s 37ms/step - loss: 0.4613 - masked_acc: 0.7426 - masked_auc: 0.7386 - val_loss: 0.4709 - val_masked_acc: 0.7498 - val_masked_auc: 0.7540\n",
      "Epoch 4/100\n",
      "14/14 [==============================] - 1s 37ms/step - loss: 0.4547 - masked_acc: 0.7514 - masked_auc: 0.7585 - val_loss: 0.4707 - val_masked_acc: 0.7555 - val_masked_auc: 0.7668\n",
      "Epoch 5/100\n",
      "14/14 [==============================] - 1s 37ms/step - loss: 0.4530 - masked_acc: 0.7562 - masked_auc: 0.7691 - val_loss: 0.4690 - val_masked_acc: 0.7594 - val_masked_auc: 0.7752\n",
      "Epoch 6/100\n",
      "14/14 [==============================] - 1s 37ms/step - loss: 0.4418 - masked_acc: 0.7601 - masked_auc: 0.7773 - val_loss: 0.4692 - val_masked_acc: 0.7621 - val_masked_auc: 0.7814\n",
      "Epoch 7/100\n",
      "14/14 [==============================] - 1s 37ms/step - loss: 0.4383 - masked_acc: 0.7626 - masked_auc: 0.7831 - val_loss: 0.4681 - val_masked_acc: 0.7644 - val_masked_auc: 0.7866\n",
      "Epoch 8/100\n",
      "14/14 [==============================] - 1s 37ms/step - loss: 0.4291 - masked_acc: 0.7650 - masked_auc: 0.7884 - val_loss: 0.4734 - val_masked_acc: 0.7663 - val_masked_auc: 0.7911\n",
      "Epoch 9/100\n",
      "14/14 [==============================] - 1s 37ms/step - loss: 0.4259 - masked_acc: 0.7668 - masked_auc: 0.7924 - val_loss: 0.4763 - val_masked_acc: 0.7679 - val_masked_auc: 0.7948\n",
      "Epoch 10/100\n",
      "14/14 [==============================] - 1s 37ms/step - loss: 0.4216 - masked_acc: 0.7684 - masked_auc: 0.7961 - val_loss: 0.4904 - val_masked_acc: 0.7695 - val_masked_auc: 0.7983\n",
      "Epoch 11/100\n",
      "14/14 [==============================] - 1s 37ms/step - loss: 0.4205 - masked_acc: 0.7698 - masked_auc: 0.7994 - val_loss: 0.4868 - val_masked_acc: 0.7711 - val_masked_auc: 0.8018\n",
      "Epoch 12/100\n",
      "14/14 [==============================] - 1s 37ms/step - loss: 0.4061 - masked_acc: 0.7716 - masked_auc: 0.8032 - val_loss: 0.4851 - val_masked_acc: 0.7726 - val_masked_auc: 0.8053\n",
      "Epoch 13/100\n",
      "14/14 [==============================] - 1s 38ms/step - loss: 0.4024 - masked_acc: 0.7730 - masked_auc: 0.8064 - val_loss: 0.5133 - val_masked_acc: 0.7741 - val_masked_auc: 0.8084\n",
      "Epoch 14/100\n",
      "14/14 [==============================] - 1s 37ms/step - loss: 0.3952 - masked_acc: 0.7746 - masked_auc: 0.8094 - val_loss: 0.5064 - val_masked_acc: 0.7756 - val_masked_auc: 0.8114\n",
      "Epoch 15/100\n",
      "14/14 [==============================] - 1s 37ms/step - loss: 0.4015 - masked_acc: 0.7759 - masked_auc: 0.8122 - val_loss: 0.4987 - val_masked_acc: 0.7770 - val_masked_auc: 0.8142\n",
      "Epoch 16/100\n",
      "14/14 [==============================] - 1s 37ms/step - loss: 0.3946 - masked_acc: 0.7773 - masked_auc: 0.8150 - val_loss: 0.5103 - val_masked_acc: 0.7782 - val_masked_auc: 0.8166\n",
      "Epoch 17/100\n",
      "14/14 [==============================] - 1s 38ms/step - loss: 0.3863 - masked_acc: 0.7785 - masked_auc: 0.8174 - val_loss: 0.5109 - val_masked_acc: 0.7794 - val_masked_auc: 0.8189\n",
      "28/28 [==============================] - 0s 13ms/step - loss: 0.3812 - masked_acc: 0.7804 - masked_auc: 0.8206\n",
      "4/4 [==============================] - 0s 13ms/step - loss: 0.4291 - masked_acc: 0.7808 - masked_auc: 0.8217\n",
      "Test:  [0.4291175603866577, 0.780840277671814, 0.8216735124588013]\n"
     ]
    }
   ],
   "source": [
    "# 5 fold cross validation\n",
    "#HERE WE ONLY USE\n",
    "#CHAPTER, SUB_CHAPTER\n",
    "#QUESTIONimport torch\n",
    "X = np.array(grouped_data.keys())\n",
    "kfold = KFold(n_splits=5, shuffle=True)\n",
    "train_losses = list()\n",
    "train_aucs = list()\n",
    "val_losses = list()\n",
    "val_aucs = list()\n",
    "train_eval = list()\n",
    "test_eval = list()\n",
    "for train, test in kfold.split(X):\n",
    "    users_train, users_test =  X[train], X[test]\n",
    "    n = len(users_test)//2\n",
    "    users_test, users_val = users_test[:n], users_test[n: ]\n",
    "    train_data_space = SPACE_DATASET(grouped_data[users_train], MAXLENGTH)\n",
    "    val_data_space = SPACE_DATASET(grouped_data[users_val], MAXLENGTH)\n",
    "    test_data_space = SPACE_DATASET(grouped_data[users_test], MAXLENGTH)\n",
    "    #construct training input\n",
    "    train_chapter=[]\n",
    "    train_sub_chapter=[]\n",
    "    train_question = []\n",
    "    train_features=[]\n",
    "    train_labels=[]\n",
    "    for i in range(len(users_train)):\n",
    "        user = train_data_space.__getitem__(i)\n",
    "        train_chapter.append(user[0])\n",
    "        train_sub_chapter.append(user[1]) \n",
    "        train_question.append(user[2])\n",
    "        #train_features.append(user[3])\n",
    "        train_labels.append(user[3])\n",
    "    train_chapter = np.array(train_chapter)\n",
    "    train_sub_chapter = np.array(train_sub_chapter)\n",
    "    train_question = np.array(train_question)\n",
    "    #train_features = np.array(train_features)\n",
    "    train_labels= np.array(train_labels)[..., np.newaxis]\n",
    "\n",
    "    #construct validation input\n",
    "    val_chapter=[]\n",
    "    val_sub_chapter=[]\n",
    "    val_question = []\n",
    "    #val_features=[]\n",
    "    val_labels=[]\n",
    "    for i in range(len(users_val)):\n",
    "        user = val_data_space.__getitem__(i)\n",
    "        val_chapter.append(user[0])\n",
    "        val_sub_chapter.append(user[1]) \n",
    "        val_question.append(user[2])\n",
    "        #val_features.append(user[3])\n",
    "        val_labels.append(user[3])\n",
    "    val_chapter = np.array(val_chapter)\n",
    "    val_sub_chapter = np.array(val_sub_chapter)\n",
    "    #val_features = np.array(val_features)\n",
    "    val_question = np.array(val_question)\n",
    "    val_labels= np.array(val_labels)[..., np.newaxis]\n",
    "\n",
    "    # construct test input\n",
    "    test_chapter=[]\n",
    "    test_sub_chapter=[]\n",
    "    #test_features=[]\n",
    "    test_question=[]\n",
    "    test_labels=[]\n",
    "    for i in range(len(users_test)):\n",
    "        user = test_data_space.__getitem__(i)\n",
    "        test_chapter.append(user[0])\n",
    "        test_sub_chapter.append(user[1]) \n",
    "        test_question.append(user[2])\n",
    "        #test_features.append(user[3])\n",
    "        test_labels.append(user[3])\n",
    "    test_chapter = np.array(test_chapter)\n",
    "    test_sub_chapter = np.array(test_sub_chapter)\n",
    "    #test_features = np.array(test_features)\n",
    "    test_question = np.array(test_question)\n",
    "    test_labels= np.array(test_labels)[..., np.newaxis]\n",
    "\n",
    "    # define loss function and evaluation metrics\n",
    "    bce = tf.keras.losses.BinaryCrossentropy(from_logits=True)\n",
    "    acc = tf.keras.metrics.Accuracy()\n",
    "    auc = tf.keras.metrics.AUC()\n",
    "\n",
    "    def masked_bce(y_true, y_pred):\n",
    "      flat_pred = y_pred\n",
    "      flat_ground_truth = y_true\n",
    "      label_mask = tf.math.not_equal(flat_ground_truth, -1)\n",
    "      return bce(flat_ground_truth, flat_pred, sample_weight=label_mask)\n",
    "\n",
    "    def masked_acc(y_true, y_pred):\n",
    "      flat_pred = y_pred\n",
    "      flat_ground_truth = y_true\n",
    "      flat_pred = (flat_pred >= 0.5)\n",
    "      label_mask = tf.math.not_equal(flat_ground_truth, -1)\n",
    "      return acc(flat_ground_truth, flat_pred, sample_weight=label_mask)\n",
    "\n",
    "    def masked_auc(y_true, y_pred):\n",
    "      flat_pred = y_pred\n",
    "      flat_ground_truth = y_true\n",
    "      label_mask = tf.math.not_equal(flat_ground_truth, -1)\n",
    "      return auc(flat_ground_truth, flat_pred, sample_weight=label_mask)\n",
    "\n",
    "    # input layer\n",
    "    input_chap = tf.keras.Input(shape=(MAXLENGTH))\n",
    "    input_sub_chap = tf.keras.Input(shape=(MAXLENGTH))\n",
    "    input_ques =  tf.keras.Input(shape=(MAXLENGTH))\n",
    "    #input_features = tf.keras.Input(shape=(MAXLENGTH, FEATURES_SIZE))\n",
    "\n",
    "    # embedding layer for categorical features\n",
    "    embedding_chap = Embedding(input_dim = CHAPTER_SIZE, output_dim = EMBEDDING_DIM)(input_chap)\n",
    "    embedding_sub_chap = Embedding(input_dim = SUB_CHAPTER_SIZE, output_dim = EMBEDDING_DIM)(input_sub_chap) \n",
    "    embedding_ques = Embedding(input_dim = QUESTION_SIZE, output_dim = EMBEDDING_DIM)(input_ques)       \n",
    "\n",
    "    # dense layer for numeric features\n",
    "    #dense_features = Dense(EMBEDDING_DIM,input_shape = (None, MAXLENGTH))(input_features)\n",
    "\n",
    "    # definr gru layers\n",
    "    gru_chap = GRU(GRU_NEURON, input_shape = (None, EMBEDDING_DIM),return_sequences = True)(embedding_chap)\n",
    "    gru_sub_chap = GRU(GRU_NEURON, input_shape = (None, EMBEDDING_DIM),return_sequences = True)(embedding_sub_chap)\n",
    "    gru_ques = GRU(GRU_NEURON, input_shape = (None, EMBEDDING_DIM),return_sequences = True)(embedding_ques)\n",
    "    #gru_features = GRU(GRU_NEURON, input_shape = (None, EMBEDDING_DIM),return_sequences = True)(dense_features)\n",
    "\n",
    "    gru_output = tf.concat([gru_chap, gru_sub_chap, gru_ques], axis = 2)\n",
    "\n",
    "    dense1 = Dense(256, input_shape = (None, 3*EMBEDDING_DIM), activation='relu')(gru_output)\n",
    "    dropout1 = Dropout(0.1)(dense1)\n",
    "    dense2 = Dense(64, input_shape = (None, 256), activation='relu')(dropout1)\n",
    "    dropout2 = Dropout(0.1)(dense2)\n",
    "    pred = Dense(1, input_shape = (None, 64), activation='sigmoid')(dropout2)\n",
    "\n",
    "    model = tf.keras.Model(\n",
    "        inputs=[input_chap, input_sub_chap,input_ques],\n",
    "        outputs=pred,\n",
    "        name='gru_model'\n",
    "    )\n",
    "\n",
    "    callback = tf.keras.callbacks.EarlyStopping(monitor='val_loss', patience=10)\n",
    "    opt_adam = Adam(learning_rate = 0.005)\n",
    "    model.compile(\n",
    "        optimizer=opt_adam,\n",
    "        loss= masked_bce,\n",
    "        metrics = [masked_acc, masked_auc]\n",
    "    )\n",
    "\n",
    "    history = model.fit(\n",
    "      [train_chapter, train_sub_chapter, train_question],\n",
    "      train_labels,\n",
    "      batch_size = 64,\n",
    "      epochs = 100,\n",
    "      validation_data=([val_chapter, val_sub_chapter, val_question], val_labels),\n",
    "      callbacks=[callback]\n",
    "    )\n",
    "    val_losses.append(list(history.history['val_loss']))\n",
    "    train_losses.append(list(history.history['loss']))\n",
    "    val_aucs.append(list(history.history['val_masked_auc']))\n",
    "    train_aucs.append(list(history.history['masked_auc']))\n",
    "    train_score = model.evaluate([train_chapter, train_sub_chapter, train_question], train_labels)\n",
    "    train_eval.append(train_score)\n",
    "    test_score = model.evaluate([test_chapter, test_sub_chapter, test_question], test_labels)\n",
    "    test_eval.append(test_score)\n",
    "    print(\"Test: \", test_score)\n",
    "    def reset_weights(model):\n",
    "      for layer in model.layers: \n",
    "        if isinstance(layer, tf.keras.Model):\n",
    "          reset_weights(layer)\n",
    "          continue\n",
    "        for k, initializer in layer.__dict__.items():\n",
    "          if \"initializer\" not in k:\n",
    "            continue\n",
    "          # find the corresponding variable\n",
    "          var = getattr(layer, k.replace(\"_initializer\", \"\"))\n",
    "          var.assign(initializer(var.shape, var.dtype))\n",
    "    reset_weights(model)"
   ]
  },
  {
   "cell_type": "code",
   "execution_count": 29,
   "metadata": {
    "execution": {
     "iopub.execute_input": "2021-07-26T22:22:04.383992Z",
     "iopub.status.busy": "2021-07-26T22:22:04.383646Z",
     "iopub.status.idle": "2021-07-26T22:22:04.395989Z",
     "shell.execute_reply": "2021-07-26T22:22:04.393685Z",
     "shell.execute_reply.started": "2021-07-26T22:22:04.383962Z"
    },
    "id": "QsVmumHMz3lx",
    "outputId": "4ff1e2fa-6abb-458e-c729-495b456f53e5"
   },
   "outputs": [
    {
     "name": "stdout",
     "output_type": "stream",
     "text": [
      "test avg loss:  0.44779362678527834 +/- 0.010881824834937423\n",
      "test avg acc:  0.7799360752105713 +/- 0.0015343547492077617\n",
      "test avg auc:  0.8232357859611511 +/- 0.002759252465764906\n"
     ]
    }
   ],
   "source": [
    "t_eval = np.array(test_eval)\n",
    "print(\"test avg loss: \", np.mean(t_eval[:, 0]), \"+/-\" ,np.std(t_eval[:, 0]))\n",
    "print(\"test avg acc: \", np.mean(t_eval[:, 1]),  \"+/-\" ,np.std(t_eval[:, 1]))\n",
    "print(\"test avg auc: \", np.mean(t_eval[:, 2]), \"+/-\" ,np.std(t_eval[:, 2]))"
   ]
  },
  {
   "cell_type": "code",
   "execution_count": 30,
   "metadata": {
    "execution": {
     "iopub.execute_input": "2021-07-26T22:22:04.397547Z",
     "iopub.status.busy": "2021-07-26T22:22:04.397274Z",
     "iopub.status.idle": "2021-07-26T22:22:04.407145Z",
     "shell.execute_reply": "2021-07-26T22:22:04.406109Z",
     "shell.execute_reply.started": "2021-07-26T22:22:04.397496Z"
    },
    "id": "b9MM_CXWz5K6",
    "outputId": "4cf88e1d-3a74-4e7d-f92c-d01522e91757"
   },
   "outputs": [
    {
     "name": "stdout",
     "output_type": "stream",
     "text": [
      "train avg loss:  0.38294286131858823 +/- 0.005378267608645821\n",
      "train avg acc:  0.7795980930328369 +/- 0.001569963889696433\n",
      "train avg auc:  0.8223435640335083 +/- 0.002858140523756485\n"
     ]
    }
   ],
   "source": [
    "t_eval = np.array(train_eval)\n",
    "print(\"train avg loss: \", np.mean(t_eval[:, 0]), \"+/-\" ,np.std(t_eval[:, 0]))\n",
    "print(\"train avg acc: \", np.mean(t_eval[:, 1]),  \"+/-\" ,np.std(t_eval[:, 1]))\n",
    "print(\"train avg auc: \", np.mean(t_eval[:, 2]), \"+/-\" ,np.std(t_eval[:, 2]))"
   ]
  }
 ],
 "metadata": {
  "kernelspec": {
   "display_name": "Python 3",
   "language": "python",
   "name": "python3"
  },
  "language_info": {
   "codemirror_mode": {
    "name": "ipython",
    "version": 3
   },
   "file_extension": ".py",
   "mimetype": "text/x-python",
   "name": "python",
   "nbconvert_exporter": "python",
   "pygments_lexer": "ipython3",
   "version": "3.8.5"
  }
 },
 "nbformat": 4,
 "nbformat_minor": 4
}
