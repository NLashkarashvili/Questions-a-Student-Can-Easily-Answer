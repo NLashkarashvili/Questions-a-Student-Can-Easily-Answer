{
 "cells": [
  {
   "cell_type": "code",
   "execution_count": 1,
   "metadata": {
    "execution": {
     "iopub.execute_input": "2021-07-26T22:14:08.178707Z",
     "iopub.status.busy": "2021-07-26T22:14:08.178354Z",
     "iopub.status.idle": "2021-07-26T22:14:09.955514Z",
     "shell.execute_reply": "2021-07-26T22:14:09.954624Z",
     "shell.execute_reply.started": "2021-07-26T22:14:08.178657Z"
    },
    "id": "farifxiKU1aB"
   },
   "outputs": [],
   "source": [
    "import numpy as np\n",
    "import pandas as pd\n",
    "import warnings\n",
    "import gc\n",
    "import tensorflow as tf\n",
    "from tensorflow import keras\n",
    "\n",
    "import random\n",
    "from random import choice\n",
    "from tensorflow.keras.optimizers import Adam\n",
    "from tensorflow.keras.models import Sequential \n",
    "from tensorflow.keras.layers import Dense, GRU, Concatenate, Embedding, Flatten, Activation, Dropout\n",
    "from sklearn.model_selection import KFold\n",
    "from tensorflow.python.client import device_lib\n",
    "warnings.filterwarnings('ignore')\n",
    "import random"
   ]
  },
  {
   "cell_type": "code",
   "execution_count": 2,
   "metadata": {
    "execution": {
     "iopub.execute_input": "2021-07-26T22:14:09.961109Z",
     "iopub.status.busy": "2021-07-26T22:14:09.960764Z",
     "iopub.status.idle": "2021-07-26T22:14:09.965850Z",
     "shell.execute_reply": "2021-07-26T22:14:09.964937Z",
     "shell.execute_reply.started": "2021-07-26T22:14:09.961074Z"
    },
    "id": "QOson70GPOXb"
   },
   "outputs": [],
   "source": [
    "import gc"
   ]
  },
  {
   "cell_type": "markdown",
   "metadata": {
    "id": "BQsVybBH3VPw"
   },
   "source": [
    "## Data Preprocessing"
   ]
  },
  {
   "cell_type": "code",
   "execution_count": 3,
   "metadata": {
    "execution": {
     "iopub.execute_input": "2021-07-26T22:14:09.968165Z",
     "iopub.status.busy": "2021-07-26T22:14:09.967817Z",
     "iopub.status.idle": "2021-07-26T22:14:14.733347Z",
     "shell.execute_reply": "2021-07-26T22:14:14.732460Z",
     "shell.execute_reply.started": "2021-07-26T22:14:09.968132Z"
    },
    "id": "rwtTusGxrmAE",
    "outputId": "1430f3cf-038b-485e-b5c4-c1686b1f34fd"
   },
   "outputs": [
    {
     "data": {
      "text/html": [
       "<div>\n",
       "<style scoped>\n",
       "    .dataframe tbody tr th:only-of-type {\n",
       "        vertical-align: middle;\n",
       "    }\n",
       "\n",
       "    .dataframe tbody tr th {\n",
       "        vertical-align: top;\n",
       "    }\n",
       "\n",
       "    .dataframe thead th {\n",
       "        text-align: right;\n",
       "    }\n",
       "</style>\n",
       "<table border=\"1\" class=\"dataframe\">\n",
       "  <thead>\n",
       "    <tr style=\"text-align: right;\">\n",
       "      <th></th>\n",
       "      <th>Unnamed: 0</th>\n",
       "      <th>chapter_label</th>\n",
       "      <th>sub_chapter_label</th>\n",
       "      <th>question_name</th>\n",
       "      <th>user_id.x</th>\n",
       "      <th>term</th>\n",
       "      <th>STDNT_SEX_CD</th>\n",
       "      <th>NonNativeEnglish</th>\n",
       "      <th>White</th>\n",
       "      <th>Asian</th>\n",
       "      <th>...</th>\n",
       "      <th>classGraded</th>\n",
       "      <th>classHonors</th>\n",
       "      <th>Pass_Fail</th>\n",
       "      <th>parentsGraduateEdu</th>\n",
       "      <th>minorityGroup</th>\n",
       "      <th>q</th>\n",
       "      <th>day's_available_flashcards</th>\n",
       "      <th>start_practice</th>\n",
       "      <th>end_practice</th>\n",
       "      <th>days_offset</th>\n",
       "    </tr>\n",
       "  </thead>\n",
       "  <tbody>\n",
       "    <tr>\n",
       "      <th>0</th>\n",
       "      <td>1</td>\n",
       "      <td>Sort</td>\n",
       "      <td>intro-SortingwithSortandSorted</td>\n",
       "      <td>ee_sort_04</td>\n",
       "      <td>148</td>\n",
       "      <td>WN 2018</td>\n",
       "      <td>1</td>\n",
       "      <td>0</td>\n",
       "      <td>1</td>\n",
       "      <td>0</td>\n",
       "      <td>...</td>\n",
       "      <td>1</td>\n",
       "      <td>0</td>\n",
       "      <td>0</td>\n",
       "      <td>0</td>\n",
       "      <td>0</td>\n",
       "      <td>0</td>\n",
       "      <td>18</td>\n",
       "      <td>2018-03-04 20:00:19</td>\n",
       "      <td>2018-03-04 20:00:35</td>\n",
       "      <td>45</td>\n",
       "    </tr>\n",
       "    <tr>\n",
       "      <th>1</th>\n",
       "      <td>2</td>\n",
       "      <td>Functions</td>\n",
       "      <td>Returningavaluefromafunction</td>\n",
       "      <td>test_questionfunctions_2_3</td>\n",
       "      <td>148</td>\n",
       "      <td>WN 2018</td>\n",
       "      <td>1</td>\n",
       "      <td>0</td>\n",
       "      <td>1</td>\n",
       "      <td>0</td>\n",
       "      <td>...</td>\n",
       "      <td>1</td>\n",
       "      <td>0</td>\n",
       "      <td>0</td>\n",
       "      <td>0</td>\n",
       "      <td>0</td>\n",
       "      <td>4</td>\n",
       "      <td>16</td>\n",
       "      <td>2018-02-10 11:57:55</td>\n",
       "      <td>2018-02-10 11:58:35</td>\n",
       "      <td>23</td>\n",
       "    </tr>\n",
       "    <tr>\n",
       "      <th>2</th>\n",
       "      <td>3</td>\n",
       "      <td>RESTAPIs</td>\n",
       "      <td>functionswithrestapis</td>\n",
       "      <td>test_question_functions_rest_apis_1</td>\n",
       "      <td>148</td>\n",
       "      <td>WN 2018</td>\n",
       "      <td>1</td>\n",
       "      <td>0</td>\n",
       "      <td>1</td>\n",
       "      <td>0</td>\n",
       "      <td>...</td>\n",
       "      <td>1</td>\n",
       "      <td>0</td>\n",
       "      <td>0</td>\n",
       "      <td>0</td>\n",
       "      <td>0</td>\n",
       "      <td>1</td>\n",
       "      <td>2</td>\n",
       "      <td>2018-03-12 17:03:07</td>\n",
       "      <td>2018-03-12 17:04:28</td>\n",
       "      <td>53</td>\n",
       "    </tr>\n",
       "    <tr>\n",
       "      <th>3</th>\n",
       "      <td>4</td>\n",
       "      <td>SimplePythonData</td>\n",
       "      <td>FunctionCalls</td>\n",
       "      <td>exercise_functionCalls_1</td>\n",
       "      <td>148</td>\n",
       "      <td>WN 2018</td>\n",
       "      <td>1</td>\n",
       "      <td>0</td>\n",
       "      <td>1</td>\n",
       "      <td>0</td>\n",
       "      <td>...</td>\n",
       "      <td>1</td>\n",
       "      <td>0</td>\n",
       "      <td>0</td>\n",
       "      <td>0</td>\n",
       "      <td>0</td>\n",
       "      <td>0</td>\n",
       "      <td>10</td>\n",
       "      <td>2018-01-30 14:15:49</td>\n",
       "      <td>2018-01-30 14:15:58</td>\n",
       "      <td>12</td>\n",
       "    </tr>\n",
       "    <tr>\n",
       "      <th>4</th>\n",
       "      <td>5</td>\n",
       "      <td>DictionaryAccumulation</td>\n",
       "      <td>AccumulatingaMaximumValue</td>\n",
       "      <td>ps_04_07</td>\n",
       "      <td>148</td>\n",
       "      <td>WN 2018</td>\n",
       "      <td>1</td>\n",
       "      <td>0</td>\n",
       "      <td>1</td>\n",
       "      <td>0</td>\n",
       "      <td>...</td>\n",
       "      <td>1</td>\n",
       "      <td>0</td>\n",
       "      <td>0</td>\n",
       "      <td>0</td>\n",
       "      <td>0</td>\n",
       "      <td>0</td>\n",
       "      <td>23</td>\n",
       "      <td>2018-03-03 14:04:17</td>\n",
       "      <td>2018-03-03 14:04:25</td>\n",
       "      <td>44</td>\n",
       "    </tr>\n",
       "  </tbody>\n",
       "</table>\n",
       "<p>5 rows × 48 columns</p>\n",
       "</div>"
      ],
      "text/plain": [
       "   Unnamed: 0           chapter_label               sub_chapter_label  \\\n",
       "0           1                    Sort  intro-SortingwithSortandSorted   \n",
       "1           2               Functions    Returningavaluefromafunction   \n",
       "2           3                RESTAPIs           functionswithrestapis   \n",
       "3           4        SimplePythonData                   FunctionCalls   \n",
       "4           5  DictionaryAccumulation       AccumulatingaMaximumValue   \n",
       "\n",
       "                         question_name  user_id.x     term  STDNT_SEX_CD  \\\n",
       "0                           ee_sort_04        148  WN 2018             1   \n",
       "1           test_questionfunctions_2_3        148  WN 2018             1   \n",
       "2  test_question_functions_rest_apis_1        148  WN 2018             1   \n",
       "3             exercise_functionCalls_1        148  WN 2018             1   \n",
       "4                             ps_04_07        148  WN 2018             1   \n",
       "\n",
       "   NonNativeEnglish  White  Asian  ...  classGraded  classHonors  Pass_Fail  \\\n",
       "0                 0      1      0  ...            1            0          0   \n",
       "1                 0      1      0  ...            1            0          0   \n",
       "2                 0      1      0  ...            1            0          0   \n",
       "3                 0      1      0  ...            1            0          0   \n",
       "4                 0      1      0  ...            1            0          0   \n",
       "\n",
       "   parentsGraduateEdu  minorityGroup  q  day's_available_flashcards  \\\n",
       "0                   0              0  0                          18   \n",
       "1                   0              0  4                          16   \n",
       "2                   0              0  1                           2   \n",
       "3                   0              0  0                          10   \n",
       "4                   0              0  0                          23   \n",
       "\n",
       "        start_practice         end_practice  days_offset  \n",
       "0  2018-03-04 20:00:19  2018-03-04 20:00:35           45  \n",
       "1  2018-02-10 11:57:55  2018-02-10 11:58:35           23  \n",
       "2  2018-03-12 17:03:07  2018-03-12 17:04:28           53  \n",
       "3  2018-01-30 14:15:49  2018-01-30 14:15:58           12  \n",
       "4  2018-03-03 14:04:17  2018-03-03 14:04:25           44  \n",
       "\n",
       "[5 rows x 48 columns]"
      ]
     },
     "execution_count": 3,
     "metadata": {},
     "output_type": "execute_result"
    }
   ],
   "source": [
    "# load the data\n",
    "import pandas as pd\n",
    "dataframe = pd.read_csv('../input/practice-log-demographics/Practice_Log_Demographics (1).csv', low_memory=False)\n",
    "dataframe.head()"
   ]
  },
  {
   "cell_type": "code",
   "execution_count": 4,
   "metadata": {
    "execution": {
     "iopub.execute_input": "2021-07-26T22:14:14.735098Z",
     "iopub.status.busy": "2021-07-26T22:14:14.734752Z",
     "iopub.status.idle": "2021-07-26T22:14:15.985644Z",
     "shell.execute_reply": "2021-07-26T22:14:15.984771Z",
     "shell.execute_reply.started": "2021-07-26T22:14:14.735059Z"
    },
    "id": "OCbHnEp_Vir0"
   },
   "outputs": [],
   "source": [
    "#sort data based on timestamp\n",
    "dataframe = dataframe.sort_values(by=['start_practice'])"
   ]
  },
  {
   "cell_type": "code",
   "execution_count": 5,
   "metadata": {
    "execution": {
     "iopub.execute_input": "2021-07-26T22:14:15.987361Z",
     "iopub.status.busy": "2021-07-26T22:14:15.986986Z",
     "iopub.status.idle": "2021-07-26T22:14:15.993798Z",
     "shell.execute_reply": "2021-07-26T22:14:15.992986Z",
     "shell.execute_reply.started": "2021-07-26T22:14:15.987318Z"
    },
    "id": "0RvF7BvEr98o"
   },
   "outputs": [],
   "source": [
    "FEATURES = ['chapter_label', 'sub_chapter_label','question_name','user_id','term',\n",
    "            'STDNT_SEX_CD', \n",
    "            'NonNativeEnglish',\n",
    "            'White',\n",
    "            'Asian',\n",
    "            'WhiteOrAsian',\n",
    "            'Hispanic',\n",
    "            'AfricanAmerican',\n",
    "            'OtherEthnicities',\n",
    "            'NonWhiteOrAsian',\n",
    "            'STDNT_CTZN_STAT_CD', 'international', \n",
    "            'gradingType',\n",
    "            'birthYear',\n",
    "            'exclClassCumGPA',\n",
    "            'Freshman',\n",
    "            'Junior',\n",
    "            'Sophomore',\n",
    "            'Senior',\n",
    "            'termCreditsGPA',\n",
    "            'termCreditsNoGPA',\n",
    "            'athlete_1',\n",
    "            'honorsPro',\n",
    "            'LSA', 'programBusiness', 'programEngineering', \n",
    "            'programInformation', 'programOther',\n",
    "            'HSCalculusTaken', \n",
    "            'highSchoolGPA', \n",
    "            'majorsCount', 'minorsCount',\n",
    "            'PREV_TERM_CUM_GPA',\n",
    "            'classGraded', 'classHonors', \n",
    "            'Pass_Fail', \n",
    "            'parentsGraduateEdu',  'minorityGroup', \n",
    "            'q',\n",
    "            'available_flashcards', \n",
    "            'start_practice', \n",
    "            'end_practice',\n",
    "            'days_offset']"
   ]
  },
  {
   "cell_type": "code",
   "execution_count": 6,
   "metadata": {
    "execution": {
     "iopub.execute_input": "2021-07-26T22:14:15.995524Z",
     "iopub.status.busy": "2021-07-26T22:14:15.995020Z",
     "iopub.status.idle": "2021-07-26T22:14:16.475693Z",
     "shell.execute_reply": "2021-07-26T22:14:16.474745Z",
     "shell.execute_reply.started": "2021-07-26T22:14:15.995471Z"
    },
    "id": "Mn341X7lSztl"
   },
   "outputs": [],
   "source": [
    "dataframe['available_flashcards'] = dataframe[\"day's_available_flashcards\"][:]\n",
    "dataframe = dataframe.drop([\"day's_available_flashcards\"], axis=1)\n",
    "dataframe['user_id'] = dataframe[\"user_id.x\"][:]\n",
    "dataframe = dataframe.drop([\"user_id.x\"], axis=1)"
   ]
  },
  {
   "cell_type": "code",
   "execution_count": 7,
   "metadata": {
    "execution": {
     "iopub.execute_input": "2021-07-26T22:14:16.477399Z",
     "iopub.status.busy": "2021-07-26T22:14:16.477038Z",
     "iopub.status.idle": "2021-07-26T22:14:16.624974Z",
     "shell.execute_reply": "2021-07-26T22:14:16.624123Z",
     "shell.execute_reply.started": "2021-07-26T22:14:16.477365Z"
    },
    "id": "-_BRggOjbBjN",
    "outputId": "42bff7db-08dd-48dc-a73a-d048508053b7"
   },
   "outputs": [
    {
     "data": {
      "text/plain": [
       "66"
      ]
     },
     "execution_count": 7,
     "metadata": {},
     "output_type": "execute_result"
    }
   ],
   "source": [
    "gc.collect()"
   ]
  },
  {
   "cell_type": "code",
   "execution_count": 8,
   "metadata": {
    "execution": {
     "iopub.execute_input": "2021-07-26T22:14:16.628439Z",
     "iopub.status.busy": "2021-07-26T22:14:16.627942Z",
     "iopub.status.idle": "2021-07-26T22:14:16.894878Z",
     "shell.execute_reply": "2021-07-26T22:14:16.893897Z",
     "shell.execute_reply.started": "2021-07-26T22:14:16.628400Z"
    },
    "id": "lXM7MlonVeRL",
    "outputId": "d29ccec0-522f-4e3c-e0b2-39b2e1eaef74"
   },
   "outputs": [
    {
     "data": {
      "text/plain": [
       "22"
      ]
     },
     "execution_count": 8,
     "metadata": {},
     "output_type": "execute_result"
    }
   ],
   "source": [
    "dataframe = dataframe[FEATURES]\n",
    "gc.collect()"
   ]
  },
  {
   "cell_type": "code",
   "execution_count": 9,
   "metadata": {
    "execution": {
     "iopub.execute_input": "2021-07-26T22:14:16.897414Z",
     "iopub.status.busy": "2021-07-26T22:14:16.897063Z",
     "iopub.status.idle": "2021-07-26T22:14:18.305764Z",
     "shell.execute_reply": "2021-07-26T22:14:18.304857Z",
     "shell.execute_reply.started": "2021-07-26T22:14:16.897378Z"
    },
    "id": "qRKqF_0IXZgj"
   },
   "outputs": [],
   "source": [
    "#label encode term, chapter_label, question_name, sub_chapter_label columns\n",
    "dataframe['term'] = dataframe['term'].astype('category')\n",
    "dataframe['user_id'] = dataframe['user_id'].astype(int)\n",
    "dataframe['user_id'] = dataframe['user_id'].astype(str)\n",
    "dataframe['user_id'] = dataframe['term'].str.cat(dataframe['user_id'], sep=':')\n",
    "dataframe['user_id'] = dataframe['user_id'].astype('category')\n",
    "dataframe['chapter_label'] = dataframe['chapter_label'].astype('category')\n",
    "dataframe['sub_chapter_label'] = dataframe['sub_chapter_label'].astype('category')\n",
    "dataframe['question_name'] = dataframe['question_name'].astype('category')\n"
   ]
  },
  {
   "cell_type": "code",
   "execution_count": 10,
   "metadata": {
    "execution": {
     "iopub.execute_input": "2021-07-26T22:14:18.307455Z",
     "iopub.status.busy": "2021-07-26T22:14:18.307114Z",
     "iopub.status.idle": "2021-07-26T22:14:18.799245Z",
     "shell.execute_reply": "2021-07-26T22:14:18.798387Z",
     "shell.execute_reply.started": "2021-07-26T22:14:18.307417Z"
    },
    "id": "eVl_067GWkDe"
   },
   "outputs": [],
   "source": [
    "#calculate time_lag and prev_time_elapsed\n",
    "dataframe['prev_time_elapsed'] = None\n",
    "dataframe['time_lag'] = None\n",
    "dataframe['time_lag'] = dataframe['time_lag'].astype(np.float)\n",
    "dataframe['prev_time_elapsed'] = dataframe['prev_time_elapsed'].astype(np.float)\n",
    "dataframe.start_practice = pd.to_datetime(dataframe.start_practice, format='%Y-%m-%d %H:%M:%S')\n",
    "dataframe.end_practice = pd.to_datetime(dataframe.end_practice, format='%Y-%m-%d %H:%M:%S')"
   ]
  },
  {
   "cell_type": "code",
   "execution_count": 11,
   "metadata": {
    "execution": {
     "iopub.execute_input": "2021-07-26T22:14:18.801077Z",
     "iopub.status.busy": "2021-07-26T22:14:18.800577Z",
     "iopub.status.idle": "2021-07-26T22:14:18.826798Z",
     "shell.execute_reply": "2021-07-26T22:14:18.826002Z",
     "shell.execute_reply.started": "2021-07-26T22:14:18.801040Z"
    }
   },
   "outputs": [],
   "source": [
    "dataframe['dif'] = dataframe.end_practice - dataframe.start_practice\n",
    "dataframe['dif'] = dataframe['dif'] /np.timedelta64(1, 's')\n",
    "dataframe['answer_correct'] = np.where((dataframe['q']==5) & (dataframe['dif'] <= 60), 1, 0)"
   ]
  },
  {
   "cell_type": "code",
   "execution_count": 13,
   "metadata": {
    "execution": {
     "iopub.execute_input": "2021-07-26T22:14:36.543043Z",
     "iopub.status.busy": "2021-07-26T22:14:36.542729Z",
     "iopub.status.idle": "2021-07-26T22:14:36.616725Z",
     "shell.execute_reply": "2021-07-26T22:14:36.615742Z",
     "shell.execute_reply.started": "2021-07-26T22:14:36.543014Z"
    },
    "id": "8t8yZ0XvWwzz"
   },
   "outputs": [],
   "source": [
    "#drop column end_practice\n",
    "dataframe.drop(columns=['end_practice'], inplace=True)"
   ]
  },
  {
   "cell_type": "code",
   "execution_count": 14,
   "metadata": {
    "execution": {
     "iopub.execute_input": "2021-07-26T22:14:36.618609Z",
     "iopub.status.busy": "2021-07-26T22:14:36.618170Z",
     "iopub.status.idle": "2021-07-26T22:14:37.027366Z",
     "shell.execute_reply": "2021-07-26T22:14:37.026380Z",
     "shell.execute_reply.started": "2021-07-26T22:14:36.618567Z"
    },
    "id": "E42raRIrYYXz"
   },
   "outputs": [],
   "source": [
    "# calculate the age feature\n",
    "dataframe['term_value'] = [int(ele[3:]) for ele in dataframe['term']]\n",
    "dataframe['age'] = dataframe['term_value'] - dataframe['birthYear']"
   ]
  },
  {
   "cell_type": "code",
   "execution_count": 15,
   "metadata": {
    "execution": {
     "iopub.execute_input": "2021-07-26T22:14:37.029197Z",
     "iopub.status.busy": "2021-07-26T22:14:37.028765Z",
     "iopub.status.idle": "2021-07-26T22:14:37.219870Z",
     "shell.execute_reply": "2021-07-26T22:14:37.218959Z",
     "shell.execute_reply.started": "2021-07-26T22:14:37.029160Z"
    },
    "id": "pcMVQXueYnMh"
   },
   "outputs": [],
   "source": [
    "# drop term_value and birthYear column\n",
    "dataframe.drop(columns=['term_value', 'birthYear'], inplace=True)"
   ]
  },
  {
   "cell_type": "code",
   "execution_count": 16,
   "metadata": {
    "execution": {
     "iopub.execute_input": "2021-07-26T22:14:37.221493Z",
     "iopub.status.busy": "2021-07-26T22:14:37.221132Z",
     "iopub.status.idle": "2021-07-26T22:14:37.658654Z",
     "shell.execute_reply": "2021-07-26T22:14:37.657777Z",
     "shell.execute_reply.started": "2021-07-26T22:14:37.221457Z"
    },
    "id": "hjRF5szkcQE0"
   },
   "outputs": [],
   "source": [
    "# convert minors_count to int value\n",
    "new_minors_count = []\n",
    "for i in dataframe['minorsCount']:\n",
    "  if i == 0 or i == '0':\n",
    "    new_minors_count.append(0)\n",
    "  elif i == '1 Minor':\n",
    "    new_minors_count.append(1)\n",
    "  else:\n",
    "    new_minors_count.append(2)\n",
    "\n",
    "dataframe['minorsCount'] = new_minors_count"
   ]
  },
  {
   "cell_type": "code",
   "execution_count": 17,
   "metadata": {
    "execution": {
     "iopub.execute_input": "2021-07-26T22:14:37.660296Z",
     "iopub.status.busy": "2021-07-26T22:14:37.659928Z",
     "iopub.status.idle": "2021-07-26T22:14:37.675750Z",
     "shell.execute_reply": "2021-07-26T22:14:37.674774Z",
     "shell.execute_reply.started": "2021-07-26T22:14:37.660261Z"
    },
    "id": "9VdzvJSw0KUU",
    "outputId": "6393784f-234e-4935-9cee-cbcf56b5630a"
   },
   "outputs": [
    {
     "name": "stdout",
     "output_type": "stream",
     "text": [
      "we have  1110  users in total.\n"
     ]
    }
   ],
   "source": [
    "print(\"we have \", dataframe['user_id'].nunique(),\" users in total.\")"
   ]
  },
  {
   "cell_type": "code",
   "execution_count": 18,
   "metadata": {
    "execution": {
     "iopub.execute_input": "2021-07-26T22:14:37.677754Z",
     "iopub.status.busy": "2021-07-26T22:14:37.677366Z",
     "iopub.status.idle": "2021-07-26T22:14:37.687699Z",
     "shell.execute_reply": "2021-07-26T22:14:37.686674Z",
     "shell.execute_reply.started": "2021-07-26T22:14:37.677718Z"
    },
    "id": "hUaGk9L9g13t"
   },
   "outputs": [],
   "source": [
    "for category in ['term','chapter_label', 'sub_chapter_label', 'question_name']:\n",
    "  dataframe[category] =  dataframe[category].cat.codes"
   ]
  },
  {
   "cell_type": "code",
   "execution_count": 19,
   "metadata": {
    "execution": {
     "iopub.execute_input": "2021-07-26T22:14:37.689872Z",
     "iopub.status.busy": "2021-07-26T22:14:37.689362Z",
     "iopub.status.idle": "2021-07-26T22:14:37.956085Z",
     "shell.execute_reply": "2021-07-26T22:14:37.955238Z",
     "shell.execute_reply.started": "2021-07-26T22:14:37.689832Z"
    },
    "id": "hkyvcYvlhliG"
   },
   "outputs": [],
   "source": [
    "NUMERIC_FEATURE =  ['age',\n",
    "            'exclClassCumGPA',\n",
    "            'termCreditsGPA',\n",
    "            'termCreditsNoGPA',\n",
    "            'highSchoolGPA', \n",
    "            'majorsCount', 'minorsCount',\n",
    "            'PREV_TERM_CUM_GPA',\n",
    "            'available_flashcards', \n",
    "            'days_offset', \n",
    "            'prev_time_elapsed',\n",
    "             'time_lag']\n",
    "# z-score normalize the numerical features\n",
    "for f in NUMERIC_FEATURE:\n",
    "  m = dataframe[f].mean()\n",
    "  std = dataframe[f].std()\n",
    "  dataframe[f] = (dataframe[f] - m)/std"
   ]
  },
  {
   "cell_type": "code",
   "execution_count": 20,
   "metadata": {
    "execution": {
     "iopub.execute_input": "2021-07-26T22:14:37.957748Z",
     "iopub.status.busy": "2021-07-26T22:14:37.957381Z",
     "iopub.status.idle": "2021-07-26T22:14:41.341460Z",
     "shell.execute_reply": "2021-07-26T22:14:41.340419Z",
     "shell.execute_reply.started": "2021-07-26T22:14:37.957711Z"
    },
    "id": "wo2OH-d5kWp1"
   },
   "outputs": [],
   "source": [
    "FEATURE_TRANS =  ['answer_correct', 'chapter_label', 'sub_chapter_label','question_name','user_id','term',\n",
    "                  'STDNT_SEX_CD', \n",
    "                    'White','Asian','NonWhiteOrAsian',\n",
    "            'STDNT_CTZN_STAT_CD', 'international', \n",
    "            'age',\n",
    "            'exclClassCumGPA',\n",
    "           'Freshman',\n",
    "            'Junior',\n",
    "            'Sophomore',\n",
    "            'Senior',\n",
    "            'termCreditsGPA',\n",
    "            'termCreditsNoGPA',\n",
    "            'athlete_1',\n",
    "            'honorsPro',\n",
    "            'LSA', 'programBusiness', 'programEngineering', \n",
    "            'programInformation', 'programOther',\n",
    "            'HSCalculusTaken', \n",
    "            'highSchoolGPA', \n",
    "            'majorsCount', 'minorsCount',\n",
    "            'PREV_TERM_CUM_GPA',\n",
    "            'classGraded', 'classHonors', \n",
    "            'Pass_Fail', \n",
    "            'parentsGraduateEdu',  'minorityGroup', \n",
    "            'available_flashcards', \n",
    "            'days_offset', 'prev_time_elapsed',\n",
    "             'time_lag']\n",
    "grouped_data = dataframe[FEATURE_TRANS].groupby(['user_id']).apply(lambda r: (\n",
    "                r['answer_correct'],\n",
    "                r['term'],\n",
    "                r['chapter_label'],\n",
    "                r['sub_chapter_label'],\n",
    "                r['question_name'],\n",
    "                np.array([r['STDNT_SEX_CD'],r['STDNT_CTZN_STAT_CD'], r['international'], \n",
    "                  r['White'],r['Asian'],r['NonWhiteOrAsian'],\n",
    "                 r['age'],r['exclClassCumGPA'],\n",
    "                r['Freshman'], r['Junior'], r['Sophomore'], r['Senior'],\n",
    "                r['termCreditsGPA'], r['termCreditsNoGPA'],\n",
    "                r['athlete_1'], r['honorsPro'],\n",
    "                r['LSA'], r['programBusiness'], r['programEngineering'], \n",
    "                r['programInformation'], r['programOther'],\n",
    "                r['HSCalculusTaken'],  r['highSchoolGPA'], \n",
    "                r['majorsCount'], r['minorsCount'],\n",
    "                r['PREV_TERM_CUM_GPA'], \n",
    "                r['parentsGraduateEdu'], r['minorityGroup'],\n",
    "                r['available_flashcards'],\n",
    "                r['days_offset'],\n",
    "                r['prev_time_elapsed'],\n",
    "                r['time_lag']\n",
    "              ]).transpose()\n",
    "                ))"
   ]
  },
  {
   "cell_type": "code",
   "execution_count": 21,
   "metadata": {
    "execution": {
     "iopub.execute_input": "2021-07-26T22:14:41.343562Z",
     "iopub.status.busy": "2021-07-26T22:14:41.343115Z",
     "iopub.status.idle": "2021-07-26T22:14:41.512775Z",
     "shell.execute_reply": "2021-07-26T22:14:41.511824Z",
     "shell.execute_reply.started": "2021-07-26T22:14:41.343490Z"
    },
    "id": "XXLqQnjrlp_4",
    "outputId": "c801da79-f0bf-4fe5-b19c-7c799fe01556"
   },
   "outputs": [
    {
     "data": {
      "text/plain": [
       "22"
      ]
     },
     "execution_count": 21,
     "metadata": {},
     "output_type": "execute_result"
    }
   ],
   "source": [
    "gc.collect()"
   ]
  },
  {
   "cell_type": "code",
   "execution_count": 22,
   "metadata": {
    "execution": {
     "iopub.execute_input": "2021-07-26T22:14:41.514963Z",
     "iopub.status.busy": "2021-07-26T22:14:41.514298Z",
     "iopub.status.idle": "2021-07-26T22:14:41.553845Z",
     "shell.execute_reply": "2021-07-26T22:14:41.553011Z",
     "shell.execute_reply.started": "2021-07-26T22:14:41.514925Z"
    },
    "id": "QYGQasdTrmP0"
   },
   "outputs": [],
   "source": [
    "# remove students who don't have make any interactions with the tool\n",
    "toRemove = []\n",
    "for index in grouped_data.index:\n",
    "  if len(grouped_data[index][0]) <= 10:\n",
    "    toRemove.append(index)\n",
    "grouped_data = grouped_data.drop(index=toRemove)"
   ]
  },
  {
   "cell_type": "code",
   "execution_count": 23,
   "metadata": {
    "execution": {
     "iopub.execute_input": "2021-07-26T22:14:41.555647Z",
     "iopub.status.busy": "2021-07-26T22:14:41.555197Z",
     "iopub.status.idle": "2021-07-26T22:14:41.560697Z",
     "shell.execute_reply": "2021-07-26T22:14:41.559336Z",
     "shell.execute_reply.started": "2021-07-26T22:14:41.555607Z"
    },
    "id": "9kZqV9siDyNb"
   },
   "outputs": [],
   "source": [
    "#SETTINGS -> can be modified at any time\n",
    "MAXLENGTH = 100\n",
    "EMBEDDING_DIM = 128\n",
    "DENSE_NEURON = 16\n",
    "GRU_NEURON = 32"
   ]
  },
  {
   "cell_type": "code",
   "execution_count": 24,
   "metadata": {
    "execution": {
     "iopub.execute_input": "2021-07-26T22:14:41.562919Z",
     "iopub.status.busy": "2021-07-26T22:14:41.562345Z",
     "iopub.status.idle": "2021-07-26T22:14:41.570027Z",
     "shell.execute_reply": "2021-07-26T22:14:41.568744Z",
     "shell.execute_reply.started": "2021-07-26T22:14:41.562877Z"
    },
    "id": "1MksD1JizpPn"
   },
   "outputs": [],
   "source": [
    "#FEATURES_SIZE = 38\n",
    "CHAPTER_SIZE = 38\n",
    "SUB_CHAPTER_SIZE = 223\n",
    "QUESTION_SIZE = 1069"
   ]
  },
  {
   "cell_type": "code",
   "execution_count": 25,
   "metadata": {
    "execution": {
     "iopub.execute_input": "2021-07-26T22:14:41.572061Z",
     "iopub.status.busy": "2021-07-26T22:14:41.571695Z",
     "iopub.status.idle": "2021-07-26T22:14:41.585474Z",
     "shell.execute_reply": "2021-07-26T22:14:41.584591Z",
     "shell.execute_reply.started": "2021-07-26T22:14:41.572029Z"
    }
   },
   "outputs": [
    {
     "data": {
      "text/plain": [
       "array([ 96,  86,  88,  28,  12,  82, 125,  32,  69,  33,  21, 115, 120,\n",
       "       119,  91,  73,  57,  77, 117,  40,  74,  41,  68,  39,  92,  47,\n",
       "       104,  95,  53,  49,  50,  16,  52,  55,   7,  15,  51, 102, 103,\n",
       "        11,  94, 108, 100,  17,  67,  63,  13, 139,  26,  25,   8, 107,\n",
       "         0,  90,  48,  54, 138,   1,   2,   3,  34,  35,  85,   5,  24,\n",
       "        37,  36,  78,  70,  45, 142,  71,  10,  89, 111, 112, 109, 116,\n",
       "        76,  72, 148, 134, 146, 221, 143,  56,  60,  61,  23, 140, 106,\n",
       "        42,  83,  22, 145, 136, 144,  38,   4,  19, 137,  75,  43,  98,\n",
       "        84, 113, 173, 174, 175, 176, 177, 178, 180, 181, 182, 187, 189,\n",
       "       190, 191, 192, 193, 195, 197, 151, 152, 153, 156, 157, 158, 159,\n",
       "       160, 161, 163, 164, 165, 166, 167, 168, 169, 170, 171, 172, 198,\n",
       "       199, 200, 201, 202, 203, 204, 205, 206, 207, 208, 209, 210, 162,\n",
       "       179, 186, 188, 194, 183, 184, 185, 211, 212, 213, 154, 155, 196,\n",
       "         6, 118,  18, 215,  46, 216, 141,  27, 217, 105, 123, 218, 101,\n",
       "       124, 219, 122, 220,  58,  59,  64,  20,  93,  65,  66,   9,  44,\n",
       "        30,  14,  79, 121,  31, 110, 129,  87,  97,  62, 149, 132, 131,\n",
       "       150, 130, 128,  99, 147, 127, 214, 135,  80, 126, 133,  81, 114,\n",
       "        29], dtype=int16)"
      ]
     },
     "execution_count": 25,
     "metadata": {},
     "output_type": "execute_result"
    }
   ],
   "source": [
    "dataframe['sub_chapter_label'].unique()"
   ]
  },
  {
   "cell_type": "code",
   "execution_count": 26,
   "metadata": {
    "execution": {
     "iopub.execute_input": "2021-07-26T22:14:41.588931Z",
     "iopub.status.busy": "2021-07-26T22:14:41.588695Z",
     "iopub.status.idle": "2021-07-26T22:14:41.944379Z",
     "shell.execute_reply": "2021-07-26T22:14:41.943576Z",
     "shell.execute_reply.started": "2021-07-26T22:14:41.588908Z"
    },
    "id": "mY3Thp6d0NaT"
   },
   "outputs": [],
   "source": [
    "#create dataset class\n",
    "#to prepare it for train, valid, and test sets\n",
    "from torch.utils.data import Dataset, DataLoader\n",
    "class SPACE_DATASET(Dataset):\n",
    "    def __init__(self, data, maxlength = 100):\n",
    "        super(SPACE_DATASET, self).__init__()\n",
    "        self.maxlength = maxlength\n",
    "        self.data = data\n",
    "        self.users = list()\n",
    "        for user in data.index:\n",
    "            self.users.append(user)\n",
    "\n",
    "    def __len__(self):\n",
    "        return len(self.users)\n",
    "    \n",
    "    def __getitem__(self, ix):\n",
    "        user = self.users[ix]\n",
    "        user = user\n",
    "        target, term, ch_label, sub_ch_label, ques_name, features = self.data[user]\n",
    "        \n",
    "        #0s should be used as padding values\n",
    "        ori_target = target.values \n",
    "        term = term.values\n",
    "        ch_label = ch_label.values + 1\n",
    "        sub_ch_label = sub_ch_label.values +1\n",
    "        ques_name = ques_name.values + 1\n",
    "        \n",
    "        n = len(ch_label)\n",
    "\n",
    "        # one hot for term\n",
    "        term_encode = [0]*7\n",
    "        term_encode[term[0]] = 1\n",
    "        shifted_target= []\n",
    "\n",
    "        \n",
    "        # get  user interaction informations in the previous MAXLEN interactions\n",
    "        if n > self.maxlength:\n",
    "          ch_label = ch_label[-self.maxlength:]\n",
    "          sub_ch_label = sub_ch_label[-self.maxlength:]\n",
    "          ques_name = ques_name[-self.maxlength:]\n",
    "          features = features[-self.maxlength:]\n",
    "          target = ori_target[-self.maxlength:]\n",
    "          shifted_target = ori_target[ (-self.maxlength - 1) :-1]\n",
    "        else:\n",
    "          ch_label = [0]*(self.maxlength - n)+list(ch_label[:])\n",
    "          sub_ch_label = [0]*(self.maxlength - n)+list(sub_ch_label[:])\n",
    "          ques_name = [0]*(self.maxlength - n)+list(ques_name[:])\n",
    "          features = [[0]*len(features[0])]*(self.maxlength  - n)+list(features[:])\n",
    "          target = [-1]*(self.maxlength - n) + list(ori_target[:])\n",
    "          shifted_target = [-1]*(self.maxlength + 1 - n) + list(ori_target[:-1])\n",
    "\n",
    "        new_features = []\n",
    "        count = 0\n",
    "        for f in features:\n",
    "          temp = list(f)\n",
    "          temp.extend(term_encode)\n",
    "          # temp.append(shifted_target[count]) #uncomment this line for include previous response feature\n",
    "          new_features.append(temp)\n",
    "          count += 1\n",
    "        features = new_features\n",
    "        return ch_label,sub_ch_label,ques_name,target"
   ]
  },
  {
   "cell_type": "code",
   "execution_count": 27,
   "metadata": {
    "execution": {
     "iopub.execute_input": "2021-07-26T22:14:41.946176Z",
     "iopub.status.busy": "2021-07-26T22:14:41.945834Z",
     "iopub.status.idle": "2021-07-26T22:14:41.952134Z",
     "shell.execute_reply": "2021-07-26T22:14:41.951150Z",
     "shell.execute_reply.started": "2021-07-26T22:14:41.946141Z"
    }
   },
   "outputs": [
    {
     "data": {
      "text/plain": [
       "223"
      ]
     },
     "execution_count": 27,
     "metadata": {},
     "output_type": "execute_result"
    }
   ],
   "source": [
    "SUB_CHAPTER_SIZE"
   ]
  },
  {
   "cell_type": "markdown",
   "metadata": {
    "id": "4xc90-aLzxat"
   },
   "source": [
    "## KFOLD - GRU\n"
   ]
  },
  {
   "cell_type": "code",
   "execution_count": 28,
   "metadata": {
    "execution": {
     "iopub.execute_input": "2021-07-26T22:14:41.954055Z",
     "iopub.status.busy": "2021-07-26T22:14:41.953593Z",
     "iopub.status.idle": "2021-07-26T22:16:05.797318Z",
     "shell.execute_reply": "2021-07-26T22:16:05.796408Z",
     "shell.execute_reply.started": "2021-07-26T22:14:41.953978Z"
    },
    "id": "gzJrljnjzypP",
    "outputId": "87abe488-b493-4f8f-9d71-45cb1d2ddf51"
   },
   "outputs": [
    {
     "name": "stdout",
     "output_type": "stream",
     "text": [
      "Epoch 1/100\n",
      "14/14 [==============================] - 12s 139ms/step - loss: 0.5874 - masked_acc: 0.6506 - masked_auc: 0.5401 - val_loss: 0.5172 - val_masked_acc: 0.7254 - val_masked_auc: 0.6728\n",
      "Epoch 2/100\n",
      "14/14 [==============================] - 0s 25ms/step - loss: 0.4734 - masked_acc: 0.7291 - masked_auc: 0.7010 - val_loss: 0.5027 - val_masked_acc: 0.7406 - val_masked_auc: 0.7347\n",
      "Epoch 3/100\n",
      "14/14 [==============================] - 0s 25ms/step - loss: 0.4540 - masked_acc: 0.7440 - masked_auc: 0.7430 - val_loss: 0.5002 - val_masked_acc: 0.7506 - val_masked_auc: 0.7568\n",
      "Epoch 4/100\n",
      "14/14 [==============================] - 0s 24ms/step - loss: 0.4457 - masked_acc: 0.7529 - masked_auc: 0.7613 - val_loss: 0.4968 - val_masked_acc: 0.7568 - val_masked_auc: 0.7696\n",
      "Epoch 5/100\n",
      "14/14 [==============================] - 0s 24ms/step - loss: 0.4471 - masked_acc: 0.7578 - masked_auc: 0.7724 - val_loss: 0.5026 - val_masked_acc: 0.7610 - val_masked_auc: 0.7778\n",
      "Epoch 6/100\n",
      "14/14 [==============================] - 0s 24ms/step - loss: 0.4390 - masked_acc: 0.7619 - masked_auc: 0.7799 - val_loss: 0.4951 - val_masked_acc: 0.7643 - val_masked_auc: 0.7842\n",
      "Epoch 7/100\n",
      "14/14 [==============================] - 0s 24ms/step - loss: 0.4264 - masked_acc: 0.7653 - masked_auc: 0.7861 - val_loss: 0.4946 - val_masked_acc: 0.7669 - val_masked_auc: 0.7896\n",
      "Epoch 8/100\n",
      "14/14 [==============================] - 0s 24ms/step - loss: 0.4208 - masked_acc: 0.7677 - masked_auc: 0.7911 - val_loss: 0.4995 - val_masked_acc: 0.7690 - val_masked_auc: 0.7940\n",
      "Epoch 9/100\n",
      "14/14 [==============================] - 0s 24ms/step - loss: 0.4159 - masked_acc: 0.7698 - masked_auc: 0.7954 - val_loss: 0.5176 - val_masked_acc: 0.7709 - val_masked_auc: 0.7977\n",
      "Epoch 10/100\n",
      "14/14 [==============================] - 0s 24ms/step - loss: 0.4103 - masked_acc: 0.7716 - masked_auc: 0.7992 - val_loss: 0.5329 - val_masked_acc: 0.7729 - val_masked_auc: 0.8016\n",
      "Epoch 11/100\n",
      "14/14 [==============================] - 0s 24ms/step - loss: 0.4000 - masked_acc: 0.7736 - masked_auc: 0.8030 - val_loss: 0.5355 - val_masked_acc: 0.7748 - val_masked_auc: 0.8052\n",
      "Epoch 12/100\n",
      "14/14 [==============================] - 0s 24ms/step - loss: 0.3963 - masked_acc: 0.7754 - masked_auc: 0.8066 - val_loss: 0.5529 - val_masked_acc: 0.7765 - val_masked_auc: 0.8086\n",
      "Epoch 13/100\n",
      "14/14 [==============================] - 0s 24ms/step - loss: 0.3921 - masked_acc: 0.7770 - masked_auc: 0.8098 - val_loss: 0.5495 - val_masked_acc: 0.7782 - val_masked_auc: 0.8119\n",
      "Epoch 14/100\n",
      "14/14 [==============================] - 0s 25ms/step - loss: 0.3823 - masked_acc: 0.7788 - masked_auc: 0.8133 - val_loss: 0.5633 - val_masked_acc: 0.7800 - val_masked_auc: 0.8152\n",
      "Epoch 15/100\n",
      "14/14 [==============================] - 0s 26ms/step - loss: 0.3704 - masked_acc: 0.7807 - masked_auc: 0.8164 - val_loss: 0.5575 - val_masked_acc: 0.7816 - val_masked_auc: 0.8182\n",
      "Epoch 16/100\n",
      "14/14 [==============================] - 0s 26ms/step - loss: 0.3784 - masked_acc: 0.7821 - masked_auc: 0.8192 - val_loss: 0.5845 - val_masked_acc: 0.7832 - val_masked_auc: 0.8211\n",
      "Epoch 17/100\n",
      "14/14 [==============================] - 0s 25ms/step - loss: 0.3626 - masked_acc: 0.7838 - masked_auc: 0.8222 - val_loss: 0.6142 - val_masked_acc: 0.7848 - val_masked_auc: 0.8239\n",
      "28/28 [==============================] - 0s 9ms/step - loss: 0.3548 - masked_acc: 0.7860 - masked_auc: 0.8260\n",
      "4/4 [==============================] - 1s 10ms/step - loss: 0.5347 - masked_acc: 0.7864 - masked_auc: 0.8271\n",
      "Test:  [0.5347021818161011, 0.7864338159561157, 0.8271211385726929]\n",
      "Epoch 1/100\n",
      "14/14 [==============================] - 6s 146ms/step - loss: 0.6088 - masked_acc: 0.5562 - masked_auc: 0.5371 - val_loss: 0.5016 - val_masked_acc: 0.7110 - val_masked_auc: 0.6328\n",
      "Epoch 2/100\n",
      "14/14 [==============================] - 1s 42ms/step - loss: 0.4844 - masked_acc: 0.7170 - masked_auc: 0.6663 - val_loss: 0.4699 - val_masked_acc: 0.7335 - val_masked_auc: 0.7138\n",
      "Epoch 3/100\n",
      "14/14 [==============================] - 0s 29ms/step - loss: 0.4677 - masked_acc: 0.7369 - masked_auc: 0.7249 - val_loss: 0.4615 - val_masked_acc: 0.7456 - val_masked_auc: 0.7433\n",
      "Epoch 4/100\n",
      "14/14 [==============================] - 0s 26ms/step - loss: 0.4576 - masked_acc: 0.7474 - masked_auc: 0.7485 - val_loss: 0.4603 - val_masked_acc: 0.7522 - val_masked_auc: 0.7584\n",
      "Epoch 5/100\n",
      "14/14 [==============================] - 0s 26ms/step - loss: 0.4503 - masked_acc: 0.7536 - masked_auc: 0.7617 - val_loss: 0.4678 - val_masked_acc: 0.7568 - val_masked_auc: 0.7684\n",
      "Epoch 6/100\n",
      "14/14 [==============================] - 0s 25ms/step - loss: 0.4390 - masked_acc: 0.7579 - masked_auc: 0.7711 - val_loss: 0.4651 - val_masked_acc: 0.7604 - val_masked_auc: 0.7758\n",
      "Epoch 7/100\n",
      "14/14 [==============================] - 0s 24ms/step - loss: 0.4362 - masked_acc: 0.7614 - masked_auc: 0.7779 - val_loss: 0.4675 - val_masked_acc: 0.7634 - val_masked_auc: 0.7816\n",
      "Epoch 8/100\n",
      "14/14 [==============================] - 1s 39ms/step - loss: 0.4269 - masked_acc: 0.7643 - masked_auc: 0.7836 - val_loss: 0.4630 - val_masked_acc: 0.7662 - val_masked_auc: 0.7871\n",
      "Epoch 9/100\n",
      "14/14 [==============================] - 0s 28ms/step - loss: 0.4227 - masked_acc: 0.7670 - masked_auc: 0.7888 - val_loss: 0.4827 - val_masked_acc: 0.7687 - val_masked_auc: 0.7922\n",
      "Epoch 10/100\n",
      "14/14 [==============================] - 0s 24ms/step - loss: 0.4085 - masked_acc: 0.7695 - masked_auc: 0.7938 - val_loss: 0.4856 - val_masked_acc: 0.7711 - val_masked_auc: 0.7969\n",
      "Epoch 11/100\n",
      "14/14 [==============================] - 0s 24ms/step - loss: 0.4072 - masked_acc: 0.7718 - masked_auc: 0.7983 - val_loss: 0.4995 - val_masked_acc: 0.7733 - val_masked_auc: 0.8012\n",
      "Epoch 12/100\n",
      "14/14 [==============================] - 0s 24ms/step - loss: 0.3935 - masked_acc: 0.7740 - masked_auc: 0.8026 - val_loss: 0.4914 - val_masked_acc: 0.7753 - val_masked_auc: 0.8052\n",
      "Epoch 13/100\n",
      "14/14 [==============================] - 0s 24ms/step - loss: 0.3949 - masked_acc: 0.7759 - masked_auc: 0.8064 - val_loss: 0.5215 - val_masked_acc: 0.7772 - val_masked_auc: 0.8087\n",
      "Epoch 14/100\n",
      "14/14 [==============================] - 0s 25ms/step - loss: 0.3978 - masked_acc: 0.7776 - masked_auc: 0.8099 - val_loss: 0.5431 - val_masked_acc: 0.7790 - val_masked_auc: 0.8120\n",
      "28/28 [==============================] - 0s 10ms/step - loss: 0.3778 - masked_acc: 0.7803 - masked_auc: 0.8144\n",
      "4/4 [==============================] - 0s 10ms/step - loss: 0.4590 - masked_acc: 0.7810 - masked_auc: 0.8159\n",
      "Test:  [0.4589622914791107, 0.781019926071167, 0.8159454464912415]\n",
      "Epoch 1/100\n",
      "14/14 [==============================] - 6s 114ms/step - loss: 0.6022 - masked_acc: 0.5670 - masked_auc: 0.5205 - val_loss: 0.4951 - val_masked_acc: 0.7133 - val_masked_auc: 0.6447\n",
      "Epoch 2/100\n",
      "14/14 [==============================] - 0s 25ms/step - loss: 0.4764 - masked_acc: 0.7186 - masked_auc: 0.6772 - val_loss: 0.4726 - val_masked_acc: 0.7338 - val_masked_auc: 0.7193\n",
      "Epoch 3/100\n",
      "14/14 [==============================] - 0s 25ms/step - loss: 0.4533 - masked_acc: 0.7387 - masked_auc: 0.7311 - val_loss: 0.4665 - val_masked_acc: 0.7460 - val_masked_auc: 0.7457\n",
      "Epoch 4/100\n",
      "14/14 [==============================] - 1s 43ms/step - loss: 0.4487 - masked_acc: 0.7482 - masked_auc: 0.7513 - val_loss: 0.4633 - val_masked_acc: 0.7528 - val_masked_auc: 0.7604\n",
      "Epoch 5/100\n",
      "14/14 [==============================] - 0s 25ms/step - loss: 0.4407 - masked_acc: 0.7546 - masked_auc: 0.7644 - val_loss: 0.4684 - val_masked_acc: 0.7575 - val_masked_auc: 0.7700\n",
      "Epoch 6/100\n",
      "14/14 [==============================] - 0s 24ms/step - loss: 0.4443 - masked_acc: 0.7584 - masked_auc: 0.7727 - val_loss: 0.4629 - val_masked_acc: 0.7611 - val_masked_auc: 0.7771\n",
      "Epoch 7/100\n",
      "14/14 [==============================] - 0s 24ms/step - loss: 0.4342 - masked_acc: 0.7620 - masked_auc: 0.7791 - val_loss: 0.4672 - val_masked_acc: 0.7641 - val_masked_auc: 0.7829\n",
      "Epoch 8/100\n",
      "14/14 [==============================] - 0s 24ms/step - loss: 0.4385 - masked_acc: 0.7647 - masked_auc: 0.7848 - val_loss: 0.4694 - val_masked_acc: 0.7666 - val_masked_auc: 0.7878\n",
      "Epoch 9/100\n",
      "14/14 [==============================] - 0s 25ms/step - loss: 0.4221 - masked_acc: 0.7673 - masked_auc: 0.7893 - val_loss: 0.4756 - val_masked_acc: 0.7687 - val_masked_auc: 0.7919\n",
      "Epoch 10/100\n",
      "14/14 [==============================] - 0s 25ms/step - loss: 0.4123 - masked_acc: 0.7695 - masked_auc: 0.7935 - val_loss: 0.4786 - val_masked_acc: 0.7707 - val_masked_auc: 0.7959\n",
      "Epoch 11/100\n",
      "14/14 [==============================] - 0s 24ms/step - loss: 0.4167 - masked_acc: 0.7713 - masked_auc: 0.7971 - val_loss: 0.4932 - val_masked_acc: 0.7727 - val_masked_auc: 0.7996\n",
      "Epoch 12/100\n",
      "14/14 [==============================] - 0s 26ms/step - loss: 0.4063 - masked_acc: 0.7731 - masked_auc: 0.8011 - val_loss: 0.4957 - val_masked_acc: 0.7744 - val_masked_auc: 0.8033\n",
      "Epoch 13/100\n",
      "14/14 [==============================] - 0s 26ms/step - loss: 0.3984 - masked_acc: 0.7750 - masked_auc: 0.8046 - val_loss: 0.4964 - val_masked_acc: 0.7763 - val_masked_auc: 0.8069\n",
      "Epoch 14/100\n",
      "14/14 [==============================] - 0s 26ms/step - loss: 0.3882 - masked_acc: 0.7769 - masked_auc: 0.8083 - val_loss: 0.5175 - val_masked_acc: 0.7781 - val_masked_auc: 0.8103\n",
      "Epoch 15/100\n",
      "14/14 [==============================] - 0s 26ms/step - loss: 0.3819 - masked_acc: 0.7787 - masked_auc: 0.8115 - val_loss: 0.5311 - val_masked_acc: 0.7798 - val_masked_auc: 0.8135\n",
      "Epoch 16/100\n",
      "14/14 [==============================] - 0s 26ms/step - loss: 0.3787 - masked_acc: 0.7803 - masked_auc: 0.8147 - val_loss: 0.5397 - val_masked_acc: 0.7814 - val_masked_auc: 0.8166\n",
      "28/28 [==============================] - 2s 11ms/step - loss: 0.3651 - masked_acc: 0.7827 - masked_auc: 0.8188\n",
      "4/4 [==============================] - 0s 11ms/step - loss: 0.4805 - masked_acc: 0.7833 - masked_auc: 0.8201\n",
      "Test:  [0.4805244207382202, 0.7832868695259094, 0.8201498985290527]\n",
      "Epoch 1/100\n",
      "14/14 [==============================] - 7s 125ms/step - loss: 0.6000 - masked_acc: 0.5934 - masked_auc: 0.5417 - val_loss: 0.4955 - val_masked_acc: 0.7147 - val_masked_auc: 0.6577\n",
      "Epoch 2/100\n",
      "14/14 [==============================] - 0s 27ms/step - loss: 0.4711 - masked_acc: 0.7219 - masked_auc: 0.6863 - val_loss: 0.4783 - val_masked_acc: 0.7368 - val_masked_auc: 0.7285\n",
      "Epoch 3/100\n",
      "14/14 [==============================] - 0s 28ms/step - loss: 0.4552 - masked_acc: 0.7407 - masked_auc: 0.7378 - val_loss: 0.4727 - val_masked_acc: 0.7478 - val_masked_auc: 0.7535\n",
      "Epoch 4/100\n",
      "14/14 [==============================] - 0s 27ms/step - loss: 0.4491 - masked_acc: 0.7501 - masked_auc: 0.7584 - val_loss: 0.4691 - val_masked_acc: 0.7542 - val_masked_auc: 0.7671\n",
      "Epoch 5/100\n",
      "14/14 [==============================] - 0s 26ms/step - loss: 0.4507 - masked_acc: 0.7552 - masked_auc: 0.7701 - val_loss: 0.4686 - val_masked_acc: 0.7588 - val_masked_auc: 0.7762\n",
      "Epoch 6/100\n",
      "14/14 [==============================] - 0s 26ms/step - loss: 0.4337 - masked_acc: 0.7600 - masked_auc: 0.7789 - val_loss: 0.4676 - val_masked_acc: 0.7624 - val_masked_auc: 0.7834\n",
      "Epoch 7/100\n",
      "14/14 [==============================] - 0s 26ms/step - loss: 0.4293 - masked_acc: 0.7633 - masked_auc: 0.7854 - val_loss: 0.4701 - val_masked_acc: 0.7652 - val_masked_auc: 0.7893\n",
      "Epoch 8/100\n",
      "14/14 [==============================] - 0s 25ms/step - loss: 0.4249 - masked_acc: 0.7660 - masked_auc: 0.7912 - val_loss: 0.4743 - val_masked_acc: 0.7675 - val_masked_auc: 0.7939\n",
      "Epoch 9/100\n",
      "14/14 [==============================] - 0s 26ms/step - loss: 0.4166 - masked_acc: 0.7683 - masked_auc: 0.7953 - val_loss: 0.4761 - val_masked_acc: 0.7696 - val_masked_auc: 0.7982\n",
      "Epoch 10/100\n",
      "14/14 [==============================] - 0s 26ms/step - loss: 0.4140 - masked_acc: 0.7703 - masked_auc: 0.7996 - val_loss: 0.4777 - val_masked_acc: 0.7718 - val_masked_auc: 0.8025\n",
      "Epoch 11/100\n",
      "14/14 [==============================] - 0s 29ms/step - loss: 0.3996 - masked_acc: 0.7726 - masked_auc: 0.8039 - val_loss: 0.5005 - val_masked_acc: 0.7738 - val_masked_auc: 0.8065\n",
      "Epoch 12/100\n",
      "14/14 [==============================] - 1s 45ms/step - loss: 0.3996 - masked_acc: 0.7744 - masked_auc: 0.8076 - val_loss: 0.4910 - val_masked_acc: 0.7754 - val_masked_auc: 0.8097\n",
      "Epoch 13/100\n",
      "14/14 [==============================] - 1s 38ms/step - loss: 0.4038 - masked_acc: 0.7759 - masked_auc: 0.8108 - val_loss: 0.4934 - val_masked_acc: 0.7773 - val_masked_auc: 0.8130\n",
      "Epoch 14/100\n",
      "14/14 [==============================] - 0s 26ms/step - loss: 0.3888 - masked_acc: 0.7779 - masked_auc: 0.8142 - val_loss: 0.4914 - val_masked_acc: 0.7791 - val_masked_auc: 0.8163\n",
      "Epoch 15/100\n",
      "14/14 [==============================] - 0s 26ms/step - loss: 0.3772 - masked_acc: 0.7797 - masked_auc: 0.8175 - val_loss: 0.5037 - val_masked_acc: 0.7809 - val_masked_auc: 0.8196\n",
      "Epoch 16/100\n",
      "14/14 [==============================] - 0s 26ms/step - loss: 0.3706 - masked_acc: 0.7815 - masked_auc: 0.8208 - val_loss: 0.5145 - val_masked_acc: 0.7827 - val_masked_auc: 0.8227\n",
      "28/28 [==============================] - 0s 10ms/step - loss: 0.3638 - masked_acc: 0.7840 - masked_auc: 0.8248\n",
      "4/4 [==============================] - 0s 11ms/step - loss: 0.4976 - masked_acc: 0.7846 - masked_auc: 0.8260\n",
      "Test:  [0.49756965041160583, 0.7846417427062988, 0.8259760141372681]\n",
      "Epoch 1/100\n",
      "14/14 [==============================] - 6s 153ms/step - loss: 0.5931 - masked_acc: 0.6103 - masked_auc: 0.5268 - val_loss: 0.5058 - val_masked_acc: 0.7167 - val_masked_auc: 0.6480\n",
      "Epoch 2/100\n",
      "14/14 [==============================] - 0s 25ms/step - loss: 0.4770 - masked_acc: 0.7234 - masked_auc: 0.6783 - val_loss: 0.4857 - val_masked_acc: 0.7394 - val_masked_auc: 0.7233\n",
      "Epoch 3/100\n",
      "14/14 [==============================] - 0s 25ms/step - loss: 0.4597 - masked_acc: 0.7430 - masked_auc: 0.7336 - val_loss: 0.4833 - val_masked_acc: 0.7499 - val_masked_auc: 0.7495\n",
      "Epoch 4/100\n",
      "14/14 [==============================] - 0s 25ms/step - loss: 0.4542 - masked_acc: 0.7519 - masked_auc: 0.7542 - val_loss: 0.4785 - val_masked_acc: 0.7564 - val_masked_auc: 0.7636\n",
      "Epoch 5/100\n",
      "14/14 [==============================] - 0s 25ms/step - loss: 0.4510 - masked_acc: 0.7575 - masked_auc: 0.7666 - val_loss: 0.4835 - val_masked_acc: 0.7606 - val_masked_auc: 0.7727\n",
      "Epoch 6/100\n",
      "14/14 [==============================] - 0s 25ms/step - loss: 0.4449 - masked_acc: 0.7615 - masked_auc: 0.7751 - val_loss: 0.4811 - val_masked_acc: 0.7638 - val_masked_auc: 0.7795\n",
      "Epoch 7/100\n",
      "14/14 [==============================] - 0s 25ms/step - loss: 0.4317 - masked_acc: 0.7646 - masked_auc: 0.7815 - val_loss: 0.4829 - val_masked_acc: 0.7663 - val_masked_auc: 0.7852\n",
      "Epoch 8/100\n",
      "14/14 [==============================] - 0s 25ms/step - loss: 0.4230 - masked_acc: 0.7672 - masked_auc: 0.7872 - val_loss: 0.4839 - val_masked_acc: 0.7686 - val_masked_auc: 0.7901\n",
      "Epoch 9/100\n",
      "14/14 [==============================] - 0s 25ms/step - loss: 0.4142 - masked_acc: 0.7694 - masked_auc: 0.7918 - val_loss: 0.4810 - val_masked_acc: 0.7707 - val_masked_auc: 0.7948\n",
      "Epoch 10/100\n",
      "14/14 [==============================] - 0s 27ms/step - loss: 0.4169 - masked_acc: 0.7714 - masked_auc: 0.7963 - val_loss: 0.4858 - val_masked_acc: 0.7728 - val_masked_auc: 0.7990\n",
      "Epoch 11/100\n",
      "14/14 [==============================] - 1s 39ms/step - loss: 0.4020 - masked_acc: 0.7735 - masked_auc: 0.8005 - val_loss: 0.4939 - val_masked_acc: 0.7745 - val_masked_auc: 0.8028\n",
      "Epoch 12/100\n",
      "14/14 [==============================] - 0s 25ms/step - loss: 0.3986 - masked_acc: 0.7752 - masked_auc: 0.8042 - val_loss: 0.4907 - val_masked_acc: 0.7764 - val_masked_auc: 0.8066\n",
      "Epoch 13/100\n",
      "14/14 [==============================] - 0s 25ms/step - loss: 0.3894 - masked_acc: 0.7770 - masked_auc: 0.8079 - val_loss: 0.5073 - val_masked_acc: 0.7782 - val_masked_auc: 0.8103\n",
      "Epoch 14/100\n",
      "14/14 [==============================] - 0s 25ms/step - loss: 0.3849 - masked_acc: 0.7788 - masked_auc: 0.8116 - val_loss: 0.5084 - val_masked_acc: 0.7799 - val_masked_auc: 0.8138\n",
      "28/28 [==============================] - 0s 9ms/step - loss: 0.3729 - masked_acc: 0.7813 - masked_auc: 0.8162\n",
      "4/4 [==============================] - 1s 11ms/step - loss: 0.5003 - masked_acc: 0.7820 - masked_auc: 0.8176\n",
      "Test:  [0.500308096408844, 0.7819961309432983, 0.8176480531692505]\n"
     ]
    }
   ],
   "source": [
    "# 5 fold cross validation\n",
    "#HERE WE ONLY USE\n",
    "#CHAPTER, SUB_CHAPTER\n",
    "#QUESTIONimport torch\n",
    "X = np.array(grouped_data.keys())\n",
    "kfold = KFold(n_splits=5, shuffle=True)\n",
    "train_losses = list()\n",
    "train_aucs = list()\n",
    "val_losses = list()\n",
    "val_aucs = list()\n",
    "train_eval = list()\n",
    "test_eval = list()\n",
    "for train, test in kfold.split(X):\n",
    "    users_train, users_test =  X[train], X[test]\n",
    "    n = len(users_test)//2\n",
    "    users_test, users_val = users_test[:n], users_test[n: ]\n",
    "    train_data_space = SPACE_DATASET(grouped_data[users_train], MAXLENGTH)\n",
    "    val_data_space = SPACE_DATASET(grouped_data[users_val], MAXLENGTH)\n",
    "    test_data_space = SPACE_DATASET(grouped_data[users_test], MAXLENGTH)\n",
    "    #construct training input\n",
    "    train_chapter=[]\n",
    "    train_sub_chapter=[]\n",
    "    train_question = []\n",
    "    train_features=[]\n",
    "    train_labels=[]\n",
    "    for i in range(len(users_train)):\n",
    "        user = train_data_space.__getitem__(i)\n",
    "        train_chapter.append(user[0])\n",
    "        train_sub_chapter.append(user[1]) \n",
    "        train_question.append(user[2])\n",
    "        #train_features.append(user[3])\n",
    "        train_labels.append(user[3])\n",
    "    train_chapter = np.array(train_chapter)\n",
    "    train_sub_chapter = np.array(train_sub_chapter)\n",
    "    train_question = np.array(train_question)\n",
    "    #train_features = np.array(train_features)\n",
    "    train_labels= np.array(train_labels)[..., np.newaxis]\n",
    "\n",
    "    #construct validation input\n",
    "    val_chapter=[]\n",
    "    val_sub_chapter=[]\n",
    "    val_question = []\n",
    "    #val_features=[]\n",
    "    val_labels=[]\n",
    "    for i in range(len(users_val)):\n",
    "        user = val_data_space.__getitem__(i)\n",
    "        val_chapter.append(user[0])\n",
    "        val_sub_chapter.append(user[1]) \n",
    "        val_question.append(user[2])\n",
    "        #val_features.append(user[3])\n",
    "        val_labels.append(user[3])\n",
    "    val_chapter = np.array(val_chapter)\n",
    "    val_sub_chapter = np.array(val_sub_chapter)\n",
    "    #val_features = np.array(val_features)\n",
    "    val_question = np.array(val_question)\n",
    "    val_labels= np.array(val_labels)[..., np.newaxis]\n",
    "\n",
    "    # construct test input\n",
    "    test_chapter=[]\n",
    "    test_sub_chapter=[]\n",
    "    #test_features=[]\n",
    "    test_question=[]\n",
    "    test_labels=[]\n",
    "    for i in range(len(users_test)):\n",
    "        user = test_data_space.__getitem__(i)\n",
    "        test_chapter.append(user[0])\n",
    "        test_sub_chapter.append(user[1]) \n",
    "        test_question.append(user[2])\n",
    "        #test_features.append(user[3])\n",
    "        test_labels.append(user[3])\n",
    "    test_chapter = np.array(test_chapter)\n",
    "    test_sub_chapter = np.array(test_sub_chapter)\n",
    "    #test_features = np.array(test_features)\n",
    "    test_question = np.array(test_question)\n",
    "    test_labels= np.array(test_labels)[..., np.newaxis]\n",
    "\n",
    "    # define loss function and evaluation metrics\n",
    "    bce = tf.keras.losses.BinaryCrossentropy(from_logits=True)\n",
    "    acc = tf.keras.metrics.Accuracy()\n",
    "    auc = tf.keras.metrics.AUC()\n",
    "\n",
    "    def masked_bce(y_true, y_pred):\n",
    "      flat_pred = y_pred\n",
    "      flat_ground_truth = y_true\n",
    "      label_mask = tf.math.not_equal(flat_ground_truth, -1)\n",
    "      return bce(flat_ground_truth, flat_pred, sample_weight=label_mask)\n",
    "\n",
    "    def masked_acc(y_true, y_pred):\n",
    "      flat_pred = y_pred\n",
    "      flat_ground_truth = y_true\n",
    "      flat_pred = (flat_pred >= 0.5)\n",
    "      label_mask = tf.math.not_equal(flat_ground_truth, -1)\n",
    "      return acc(flat_ground_truth, flat_pred, sample_weight=label_mask)\n",
    "\n",
    "    def masked_auc(y_true, y_pred):\n",
    "      flat_pred = y_pred\n",
    "      flat_ground_truth = y_true\n",
    "      label_mask = tf.math.not_equal(flat_ground_truth, -1)\n",
    "      return auc(flat_ground_truth, flat_pred, sample_weight=label_mask)\n",
    "\n",
    "    # input layer\n",
    "    input_chap = tf.keras.Input(shape=(MAXLENGTH))\n",
    "    input_sub_chap = tf.keras.Input(shape=(MAXLENGTH))\n",
    "    input_ques =  tf.keras.Input(shape=(MAXLENGTH))\n",
    "    #input_features = tf.keras.Input(shape=(MAXLENGTH, FEATURES_SIZE))\n",
    "\n",
    "    # embedding layer for categorical features\n",
    "    embedding_chap = Embedding(input_dim = CHAPTER_SIZE, output_dim = EMBEDDING_DIM)(input_chap)\n",
    "    embedding_sub_chap = Embedding(input_dim = SUB_CHAPTER_SIZE, output_dim = EMBEDDING_DIM)(input_sub_chap) \n",
    "    embedding_ques = Embedding(input_dim = QUESTION_SIZE, output_dim = EMBEDDING_DIM)(input_ques)       \n",
    "\n",
    "    # dense layer for numeric features\n",
    "    #dense_features = Dense(EMBEDDING_DIM,input_shape = (None, MAXLENGTH))(input_features)\n",
    "\n",
    "    # definr gru layers\n",
    "    gru_chap = GRU(GRU_NEURON, input_shape = (None, EMBEDDING_DIM),return_sequences = True)(embedding_chap)\n",
    "    gru_sub_chap = GRU(GRU_NEURON, input_shape = (None, EMBEDDING_DIM),return_sequences = True)(embedding_sub_chap)\n",
    "    gru_ques = GRU(GRU_NEURON, input_shape = (None, EMBEDDING_DIM),return_sequences = True)(embedding_ques)\n",
    "    #gru_features = GRU(GRU_NEURON, input_shape = (None, EMBEDDING_DIM),return_sequences = True)(dense_features)\n",
    "\n",
    "    gru_output = tf.concat([gru_chap, gru_sub_chap, gru_ques], axis = 2)\n",
    "\n",
    "    dense1 = Dense(256, input_shape = (None, 3*EMBEDDING_DIM), activation='relu')(gru_output)\n",
    "    dropout1 = Dropout(0.1)(dense1)\n",
    "    dense2 = Dense(64, input_shape = (None, 256), activation='relu')(dropout1)\n",
    "    dropout2 = Dropout(0.1)(dense2)\n",
    "    pred = Dense(1, input_shape = (None, 64), activation='sigmoid')(dropout2)\n",
    "\n",
    "    model = tf.keras.Model(\n",
    "        inputs=[input_chap, input_sub_chap,input_ques],\n",
    "        outputs=pred,\n",
    "        name='gru_model'\n",
    "    )\n",
    "\n",
    "    callback = tf.keras.callbacks.EarlyStopping(monitor='val_loss', patience=10)\n",
    "    opt_adam = Adam(learning_rate = 0.005)\n",
    "    model.compile(\n",
    "        optimizer=opt_adam,\n",
    "        loss= masked_bce,\n",
    "        metrics = [masked_acc, masked_auc]\n",
    "    )\n",
    "\n",
    "    history = model.fit(\n",
    "      [train_chapter, train_sub_chapter, train_question],\n",
    "      train_labels,\n",
    "      batch_size = 64,\n",
    "      epochs = 100,\n",
    "      validation_data=([val_chapter, val_sub_chapter, val_question], val_labels),\n",
    "      callbacks=[callback]\n",
    "    )\n",
    "    val_losses.append(list(history.history['val_loss']))\n",
    "    train_losses.append(list(history.history['loss']))\n",
    "    val_aucs.append(list(history.history['val_masked_auc']))\n",
    "    train_aucs.append(list(history.history['masked_auc']))\n",
    "    train_score = model.evaluate([train_chapter, train_sub_chapter, train_question], train_labels)\n",
    "    train_eval.append(train_score)\n",
    "    test_score = model.evaluate([test_chapter, test_sub_chapter, test_question], test_labels)\n",
    "    test_eval.append(test_score)\n",
    "    print(\"Test: \", test_score)\n",
    "    def reset_weights(model):\n",
    "      for layer in model.layers: \n",
    "        if isinstance(layer, tf.keras.Model):\n",
    "          reset_weights(layer)\n",
    "          continue\n",
    "        for k, initializer in layer.__dict__.items():\n",
    "          if \"initializer\" not in k:\n",
    "            continue\n",
    "          # find the corresponding variable\n",
    "          var = getattr(layer, k.replace(\"_initializer\", \"\"))\n",
    "          var.assign(initializer(var.shape, var.dtype))\n",
    "    reset_weights(model)"
   ]
  },
  {
   "cell_type": "code",
   "execution_count": 29,
   "metadata": {
    "execution": {
     "iopub.execute_input": "2021-07-26T22:16:05.800768Z",
     "iopub.status.busy": "2021-07-26T22:16:05.800462Z",
     "iopub.status.idle": "2021-07-26T22:16:05.810033Z",
     "shell.execute_reply": "2021-07-26T22:16:05.808936Z",
     "shell.execute_reply.started": "2021-07-26T22:16:05.800739Z"
    },
    "id": "QsVmumHMz3lx",
    "outputId": "4ff1e2fa-6abb-458e-c729-495b456f53e5"
   },
   "outputs": [
    {
     "name": "stdout",
     "output_type": "stream",
     "text": [
      "test avg loss:  0.4944133281707764 +/- 0.02497030293331187\n",
      "test avg acc:  0.7834756970405579 +/- 0.0019165444285862802\n",
      "test avg auc:  0.8213681101799011 +/- 0.004451028192174202\n"
     ]
    }
   ],
   "source": [
    "t_eval = np.array(test_eval)\n",
    "print(\"test avg loss: \", np.mean(t_eval[:, 0]), \"+/-\" ,np.std(t_eval[:, 0]))\n",
    "print(\"test avg acc: \", np.mean(t_eval[:, 1]),  \"+/-\" ,np.std(t_eval[:, 1]))\n",
    "print(\"test avg auc: \", np.mean(t_eval[:, 2]), \"+/-\" ,np.std(t_eval[:, 2]))"
   ]
  },
  {
   "cell_type": "code",
   "execution_count": 30,
   "metadata": {
    "execution": {
     "iopub.execute_input": "2021-07-26T22:16:05.812268Z",
     "iopub.status.busy": "2021-07-26T22:16:05.811803Z",
     "iopub.status.idle": "2021-07-26T22:16:05.823903Z",
     "shell.execute_reply": "2021-07-26T22:16:05.822596Z",
     "shell.execute_reply.started": "2021-07-26T22:16:05.812228Z"
    },
    "id": "b9MM_CXWz5K6",
    "outputId": "4cf88e1d-3a74-4e7d-f92c-d01522e91757"
   },
   "outputs": [
    {
     "name": "stdout",
     "output_type": "stream",
     "text": [
      "train avg loss:  0.3668838381767273 +/- 0.007928701968867547\n",
      "train avg acc:  0.7828402400016785 +/- 0.0020021412155690694\n",
      "train avg auc:  0.8200285792350769 +/- 0.0045919512598402955\n"
     ]
    }
   ],
   "source": [
    "t_eval = np.array(train_eval)\n",
    "print(\"train avg loss: \", np.mean(t_eval[:, 0]), \"+/-\" ,np.std(t_eval[:, 0]))\n",
    "print(\"train avg acc: \", np.mean(t_eval[:, 1]),  \"+/-\" ,np.std(t_eval[:, 1]))\n",
    "print(\"train avg auc: \", np.mean(t_eval[:, 2]), \"+/-\" ,np.std(t_eval[:, 2]))"
   ]
  }
 ],
 "metadata": {
  "kernelspec": {
   "display_name": "Python 3",
   "language": "python",
   "name": "python3"
  },
  "language_info": {
   "codemirror_mode": {
    "name": "ipython",
    "version": 3
   },
   "file_extension": ".py",
   "mimetype": "text/x-python",
   "name": "python",
   "nbconvert_exporter": "python",
   "pygments_lexer": "ipython3",
   "version": "3.8.5"
  }
 },
 "nbformat": 4,
 "nbformat_minor": 4
}
