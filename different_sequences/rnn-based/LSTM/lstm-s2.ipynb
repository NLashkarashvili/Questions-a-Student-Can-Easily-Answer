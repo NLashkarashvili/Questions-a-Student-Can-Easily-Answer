{
 "cells": [
  {
   "cell_type": "code",
   "execution_count": 1,
   "metadata": {
    "execution": {
     "iopub.execute_input": "2021-07-27T08:55:54.711893Z",
     "iopub.status.busy": "2021-07-27T08:55:54.711138Z",
     "iopub.status.idle": "2021-07-27T08:56:02.172742Z",
     "shell.execute_reply": "2021-07-27T08:56:02.171770Z",
     "shell.execute_reply.started": "2021-07-26T23:06:30.176999Z"
    },
    "id": "farifxiKU1aB",
    "papermill": {
     "duration": 7.508346,
     "end_time": "2021-07-27T08:56:02.172961",
     "exception": false,
     "start_time": "2021-07-27T08:55:54.664615",
     "status": "completed"
    },
    "tags": []
   },
   "outputs": [],
   "source": [
    "import numpy as np\n",
    "import pandas as pd\n",
    "import warnings\n",
    "import gc\n",
    "import tensorflow as tf\n",
    "from tensorflow import keras\n",
    "\n",
    "import random\n",
    "from random import choice\n",
    "from tensorflow.keras.optimizers import Adam\n",
    "from tensorflow.keras.models import Sequential \n",
    "from tensorflow.keras.layers import Dense, LSTM, Concatenate, Embedding, Flatten, Activation, Dropout\n",
    "from sklearn.model_selection import KFold\n",
    "from tensorflow.python.client import device_lib\n",
    "warnings.filterwarnings('ignore')\n",
    "import random"
   ]
  },
  {
   "cell_type": "code",
   "execution_count": 2,
   "metadata": {
    "execution": {
     "iopub.execute_input": "2021-07-27T08:56:02.231755Z",
     "iopub.status.busy": "2021-07-27T08:56:02.230969Z",
     "iopub.status.idle": "2021-07-27T08:56:02.236634Z",
     "shell.execute_reply": "2021-07-27T08:56:02.235832Z",
     "shell.execute_reply.started": "2021-07-26T23:06:32.508998Z"
    },
    "id": "QOson70GPOXb",
    "papermill": {
     "duration": 0.035886,
     "end_time": "2021-07-27T08:56:02.236839",
     "exception": false,
     "start_time": "2021-07-27T08:56:02.200953",
     "status": "completed"
    },
    "tags": []
   },
   "outputs": [],
   "source": [
    "import gc"
   ]
  },
  {
   "cell_type": "markdown",
   "metadata": {
    "id": "BQsVybBH3VPw",
    "papermill": {
     "duration": 0.026581,
     "end_time": "2021-07-27T08:56:02.290472",
     "exception": false,
     "start_time": "2021-07-27T08:56:02.263891",
     "status": "completed"
    },
    "tags": []
   },
   "source": [
    "## Data Preprocessing"
   ]
  },
  {
   "cell_type": "code",
   "execution_count": 3,
   "metadata": {
    "execution": {
     "iopub.execute_input": "2021-07-27T08:56:02.350745Z",
     "iopub.status.busy": "2021-07-27T08:56:02.349959Z",
     "iopub.status.idle": "2021-07-27T08:56:10.289772Z",
     "shell.execute_reply": "2021-07-27T08:56:10.290472Z",
     "shell.execute_reply.started": "2021-07-26T23:06:32.51691Z"
    },
    "id": "rwtTusGxrmAE",
    "outputId": "1430f3cf-038b-485e-b5c4-c1686b1f34fd",
    "papermill": {
     "duration": 7.973193,
     "end_time": "2021-07-27T08:56:10.290686",
     "exception": false,
     "start_time": "2021-07-27T08:56:02.317493",
     "status": "completed"
    },
    "tags": []
   },
   "outputs": [
    {
     "data": {
      "text/html": [
       "<div>\n",
       "<style scoped>\n",
       "    .dataframe tbody tr th:only-of-type {\n",
       "        vertical-align: middle;\n",
       "    }\n",
       "\n",
       "    .dataframe tbody tr th {\n",
       "        vertical-align: top;\n",
       "    }\n",
       "\n",
       "    .dataframe thead th {\n",
       "        text-align: right;\n",
       "    }\n",
       "</style>\n",
       "<table border=\"1\" class=\"dataframe\">\n",
       "  <thead>\n",
       "    <tr style=\"text-align: right;\">\n",
       "      <th></th>\n",
       "      <th>Unnamed: 0</th>\n",
       "      <th>chapter_label</th>\n",
       "      <th>sub_chapter_label</th>\n",
       "      <th>question_name</th>\n",
       "      <th>user_id.x</th>\n",
       "      <th>term</th>\n",
       "      <th>STDNT_SEX_CD</th>\n",
       "      <th>NonNativeEnglish</th>\n",
       "      <th>White</th>\n",
       "      <th>Asian</th>\n",
       "      <th>...</th>\n",
       "      <th>classGraded</th>\n",
       "      <th>classHonors</th>\n",
       "      <th>Pass_Fail</th>\n",
       "      <th>parentsGraduateEdu</th>\n",
       "      <th>minorityGroup</th>\n",
       "      <th>q</th>\n",
       "      <th>day's_available_flashcards</th>\n",
       "      <th>start_practice</th>\n",
       "      <th>end_practice</th>\n",
       "      <th>days_offset</th>\n",
       "    </tr>\n",
       "  </thead>\n",
       "  <tbody>\n",
       "    <tr>\n",
       "      <th>0</th>\n",
       "      <td>1</td>\n",
       "      <td>Sort</td>\n",
       "      <td>intro-SortingwithSortandSorted</td>\n",
       "      <td>ee_sort_04</td>\n",
       "      <td>148</td>\n",
       "      <td>WN 2018</td>\n",
       "      <td>1</td>\n",
       "      <td>0</td>\n",
       "      <td>1</td>\n",
       "      <td>0</td>\n",
       "      <td>...</td>\n",
       "      <td>1</td>\n",
       "      <td>0</td>\n",
       "      <td>0</td>\n",
       "      <td>0</td>\n",
       "      <td>0</td>\n",
       "      <td>0</td>\n",
       "      <td>18</td>\n",
       "      <td>2018/3/4 20:00</td>\n",
       "      <td>2018/3/4 20:00</td>\n",
       "      <td>45</td>\n",
       "    </tr>\n",
       "    <tr>\n",
       "      <th>1</th>\n",
       "      <td>2</td>\n",
       "      <td>Functions</td>\n",
       "      <td>Returningavaluefromafunction</td>\n",
       "      <td>test_questionfunctions_2_3</td>\n",
       "      <td>148</td>\n",
       "      <td>WN 2018</td>\n",
       "      <td>1</td>\n",
       "      <td>0</td>\n",
       "      <td>1</td>\n",
       "      <td>0</td>\n",
       "      <td>...</td>\n",
       "      <td>1</td>\n",
       "      <td>0</td>\n",
       "      <td>0</td>\n",
       "      <td>0</td>\n",
       "      <td>0</td>\n",
       "      <td>4</td>\n",
       "      <td>16</td>\n",
       "      <td>2018/2/10 11:57</td>\n",
       "      <td>2018/2/10 11:58</td>\n",
       "      <td>23</td>\n",
       "    </tr>\n",
       "    <tr>\n",
       "      <th>2</th>\n",
       "      <td>3</td>\n",
       "      <td>RESTAPIs</td>\n",
       "      <td>functionswithrestapis</td>\n",
       "      <td>test_question_functions_rest_apis_1</td>\n",
       "      <td>148</td>\n",
       "      <td>WN 2018</td>\n",
       "      <td>1</td>\n",
       "      <td>0</td>\n",
       "      <td>1</td>\n",
       "      <td>0</td>\n",
       "      <td>...</td>\n",
       "      <td>1</td>\n",
       "      <td>0</td>\n",
       "      <td>0</td>\n",
       "      <td>0</td>\n",
       "      <td>0</td>\n",
       "      <td>1</td>\n",
       "      <td>2</td>\n",
       "      <td>2018/3/12 17:03</td>\n",
       "      <td>2018/3/12 17:04</td>\n",
       "      <td>53</td>\n",
       "    </tr>\n",
       "    <tr>\n",
       "      <th>3</th>\n",
       "      <td>4</td>\n",
       "      <td>SimplePythonData</td>\n",
       "      <td>FunctionCalls</td>\n",
       "      <td>exercise_functionCalls_1</td>\n",
       "      <td>148</td>\n",
       "      <td>WN 2018</td>\n",
       "      <td>1</td>\n",
       "      <td>0</td>\n",
       "      <td>1</td>\n",
       "      <td>0</td>\n",
       "      <td>...</td>\n",
       "      <td>1</td>\n",
       "      <td>0</td>\n",
       "      <td>0</td>\n",
       "      <td>0</td>\n",
       "      <td>0</td>\n",
       "      <td>0</td>\n",
       "      <td>10</td>\n",
       "      <td>2018/1/30 14:15</td>\n",
       "      <td>2018/1/30 14:15</td>\n",
       "      <td>12</td>\n",
       "    </tr>\n",
       "    <tr>\n",
       "      <th>4</th>\n",
       "      <td>5</td>\n",
       "      <td>DictionaryAccumulation</td>\n",
       "      <td>AccumulatingaMaximumValue</td>\n",
       "      <td>ps_04_07</td>\n",
       "      <td>148</td>\n",
       "      <td>WN 2018</td>\n",
       "      <td>1</td>\n",
       "      <td>0</td>\n",
       "      <td>1</td>\n",
       "      <td>0</td>\n",
       "      <td>...</td>\n",
       "      <td>1</td>\n",
       "      <td>0</td>\n",
       "      <td>0</td>\n",
       "      <td>0</td>\n",
       "      <td>0</td>\n",
       "      <td>0</td>\n",
       "      <td>23</td>\n",
       "      <td>2018/3/3 14:04</td>\n",
       "      <td>2018/3/3 14:04</td>\n",
       "      <td>44</td>\n",
       "    </tr>\n",
       "  </tbody>\n",
       "</table>\n",
       "<p>5 rows × 48 columns</p>\n",
       "</div>"
      ],
      "text/plain": [
       "   Unnamed: 0           chapter_label               sub_chapter_label  \\\n",
       "0           1                    Sort  intro-SortingwithSortandSorted   \n",
       "1           2               Functions    Returningavaluefromafunction   \n",
       "2           3                RESTAPIs           functionswithrestapis   \n",
       "3           4        SimplePythonData                   FunctionCalls   \n",
       "4           5  DictionaryAccumulation       AccumulatingaMaximumValue   \n",
       "\n",
       "                         question_name  user_id.x     term  STDNT_SEX_CD  \\\n",
       "0                           ee_sort_04        148  WN 2018             1   \n",
       "1           test_questionfunctions_2_3        148  WN 2018             1   \n",
       "2  test_question_functions_rest_apis_1        148  WN 2018             1   \n",
       "3             exercise_functionCalls_1        148  WN 2018             1   \n",
       "4                             ps_04_07        148  WN 2018             1   \n",
       "\n",
       "   NonNativeEnglish  White  Asian  ...  classGraded  classHonors  Pass_Fail  \\\n",
       "0                 0      1      0  ...            1            0          0   \n",
       "1                 0      1      0  ...            1            0          0   \n",
       "2                 0      1      0  ...            1            0          0   \n",
       "3                 0      1      0  ...            1            0          0   \n",
       "4                 0      1      0  ...            1            0          0   \n",
       "\n",
       "   parentsGraduateEdu  minorityGroup  q  day's_available_flashcards  \\\n",
       "0                   0              0  0                          18   \n",
       "1                   0              0  4                          16   \n",
       "2                   0              0  1                           2   \n",
       "3                   0              0  0                          10   \n",
       "4                   0              0  0                          23   \n",
       "\n",
       "    start_practice     end_practice  days_offset  \n",
       "0   2018/3/4 20:00   2018/3/4 20:00           45  \n",
       "1  2018/2/10 11:57  2018/2/10 11:58           23  \n",
       "2  2018/3/12 17:03  2018/3/12 17:04           53  \n",
       "3  2018/1/30 14:15  2018/1/30 14:15           12  \n",
       "4   2018/3/3 14:04   2018/3/3 14:04           44  \n",
       "\n",
       "[5 rows x 48 columns]"
      ]
     },
     "execution_count": 3,
     "metadata": {},
     "output_type": "execute_result"
    }
   ],
   "source": [
    "# load the data\n",
    "import pandas as pd\n",
    "dataframe = pd.read_csv('Practice_Log_Demographics.csv', low_memory=False)\n",
    "dataframe.head()"
   ]
  },
  {
   "cell_type": "code",
   "execution_count": 4,
   "metadata": {
    "execution": {
     "iopub.execute_input": "2021-07-27T08:56:10.415973Z",
     "iopub.status.busy": "2021-07-27T08:56:10.415260Z",
     "iopub.status.idle": "2021-07-27T08:56:12.334525Z",
     "shell.execute_reply": "2021-07-27T08:56:12.333883Z",
     "shell.execute_reply.started": "2021-07-26T23:06:37.816269Z"
    },
    "id": "OCbHnEp_Vir0",
    "papermill": {
     "duration": 2.016006,
     "end_time": "2021-07-27T08:56:12.334721",
     "exception": false,
     "start_time": "2021-07-27T08:56:10.318715",
     "status": "completed"
    },
    "tags": []
   },
   "outputs": [],
   "source": [
    "#sort data based on timestamp\n",
    "dataframe = dataframe.sort_values(by=['start_practice'])"
   ]
  },
  {
   "cell_type": "code",
   "execution_count": 5,
   "metadata": {
    "execution": {
     "iopub.execute_input": "2021-07-27T08:56:12.398838Z",
     "iopub.status.busy": "2021-07-27T08:56:12.398086Z",
     "iopub.status.idle": "2021-07-27T08:56:12.401993Z",
     "shell.execute_reply": "2021-07-27T08:56:12.401439Z",
     "shell.execute_reply.started": "2021-07-26T23:06:39.434648Z"
    },
    "id": "0RvF7BvEr98o",
    "papermill": {
     "duration": 0.039053,
     "end_time": "2021-07-27T08:56:12.402138",
     "exception": false,
     "start_time": "2021-07-27T08:56:12.363085",
     "status": "completed"
    },
    "tags": []
   },
   "outputs": [],
   "source": [
    "FEATURES = ['chapter_label', 'sub_chapter_label','question_name','user_id','term',\n",
    "            'STDNT_SEX_CD', \n",
    "            'NonNativeEnglish',\n",
    "            'White',\n",
    "            'Asian',\n",
    "            'WhiteOrAsian',\n",
    "            'Hispanic',\n",
    "            'AfricanAmerican',\n",
    "            'OtherEthnicities',\n",
    "            'NonWhiteOrAsian',\n",
    "            'STDNT_CTZN_STAT_CD', 'international', \n",
    "            'gradingType',\n",
    "            'birthYear',\n",
    "            'exclClassCumGPA',\n",
    "            'Freshman',\n",
    "            'Junior',\n",
    "            'Sophomore',\n",
    "            'Senior',\n",
    "            'termCreditsGPA',\n",
    "            'termCreditsNoGPA',\n",
    "            'athlete_1',\n",
    "            'honorsPro',\n",
    "            'LSA', 'programBusiness', 'programEngineering', \n",
    "            'programInformation', 'programOther',\n",
    "            'HSCalculusTaken', \n",
    "            'highSchoolGPA', \n",
    "            'majorsCount', 'minorsCount',\n",
    "            'PREV_TERM_CUM_GPA',\n",
    "            'classGraded', 'classHonors', \n",
    "            'Pass_Fail', \n",
    "            'parentsGraduateEdu',  'minorityGroup', \n",
    "            'q',\n",
    "            'available_flashcards', \n",
    "            'start_practice', \n",
    "            'end_practice',\n",
    "            'days_offset']"
   ]
  },
  {
   "cell_type": "code",
   "execution_count": 6,
   "metadata": {
    "execution": {
     "iopub.execute_input": "2021-07-27T08:56:12.470609Z",
     "iopub.status.busy": "2021-07-27T08:56:12.469762Z",
     "iopub.status.idle": "2021-07-27T08:56:13.347312Z",
     "shell.execute_reply": "2021-07-27T08:56:13.346539Z",
     "shell.execute_reply.started": "2021-07-26T23:06:39.44431Z"
    },
    "id": "Mn341X7lSztl",
    "papermill": {
     "duration": 0.914232,
     "end_time": "2021-07-27T08:56:13.347485",
     "exception": false,
     "start_time": "2021-07-27T08:56:12.433253",
     "status": "completed"
    },
    "tags": []
   },
   "outputs": [],
   "source": [
    "dataframe['available_flashcards'] = dataframe[\"day's_available_flashcards\"][:]\n",
    "dataframe = dataframe.drop([\"day's_available_flashcards\"], axis=1)\n",
    "dataframe['user_id'] = dataframe[\"user_id.x\"][:]\n",
    "dataframe = dataframe.drop([\"user_id.x\"], axis=1)"
   ]
  },
  {
   "cell_type": "code",
   "execution_count": 7,
   "metadata": {
    "execution": {
     "iopub.execute_input": "2021-07-27T08:56:13.620089Z",
     "iopub.status.busy": "2021-07-27T08:56:13.618935Z",
     "iopub.status.idle": "2021-07-27T08:56:13.623636Z",
     "shell.execute_reply": "2021-07-27T08:56:13.623075Z",
     "shell.execute_reply.started": "2021-07-26T23:06:40.253171Z"
    },
    "id": "-_BRggOjbBjN",
    "outputId": "42bff7db-08dd-48dc-a73a-d048508053b7",
    "papermill": {
     "duration": 0.246673,
     "end_time": "2021-07-27T08:56:13.623808",
     "exception": false,
     "start_time": "2021-07-27T08:56:13.377135",
     "status": "completed"
    },
    "tags": []
   },
   "outputs": [
    {
     "data": {
      "text/plain": [
       "20"
      ]
     },
     "execution_count": 7,
     "metadata": {},
     "output_type": "execute_result"
    }
   ],
   "source": [
    "gc.collect()"
   ]
  },
  {
   "cell_type": "code",
   "execution_count": 8,
   "metadata": {
    "execution": {
     "iopub.execute_input": "2021-07-27T08:56:13.688773Z",
     "iopub.status.busy": "2021-07-27T08:56:13.686579Z",
     "iopub.status.idle": "2021-07-27T08:56:14.001523Z",
     "shell.execute_reply": "2021-07-27T08:56:14.000899Z",
     "shell.execute_reply.started": "2021-07-26T23:06:40.489736Z"
    },
    "id": "lXM7MlonVeRL",
    "outputId": "d29ccec0-522f-4e3c-e0b2-39b2e1eaef74",
    "papermill": {
     "duration": 0.34999,
     "end_time": "2021-07-27T08:56:14.001711",
     "exception": false,
     "start_time": "2021-07-27T08:56:13.651721",
     "status": "completed"
    },
    "tags": []
   },
   "outputs": [
    {
     "data": {
      "text/plain": [
       "20"
      ]
     },
     "execution_count": 8,
     "metadata": {},
     "output_type": "execute_result"
    }
   ],
   "source": [
    "dataframe = dataframe[FEATURES]\n",
    "gc.collect()"
   ]
  },
  {
   "cell_type": "code",
   "execution_count": 9,
   "metadata": {
    "execution": {
     "iopub.execute_input": "2021-07-27T08:56:14.077908Z",
     "iopub.status.busy": "2021-07-27T08:56:14.077127Z",
     "iopub.status.idle": "2021-07-27T08:56:15.823626Z",
     "shell.execute_reply": "2021-07-27T08:56:15.822994Z",
     "shell.execute_reply.started": "2021-07-26T23:06:40.81453Z"
    },
    "id": "qRKqF_0IXZgj",
    "papermill": {
     "duration": 1.79321,
     "end_time": "2021-07-27T08:56:15.823777",
     "exception": false,
     "start_time": "2021-07-27T08:56:14.030567",
     "status": "completed"
    },
    "tags": []
   },
   "outputs": [],
   "source": [
    "#label encode term, chapter_label, question_name, sub_chapter_label columns\n",
    "dataframe['term'] = dataframe['term'].astype('category')\n",
    "dataframe['user_id'] = dataframe['user_id'].astype(int)\n",
    "dataframe['user_id'] = dataframe['user_id'].astype(str)\n",
    "dataframe['user_id'] = dataframe['term'].str.cat(dataframe['user_id'], sep=':')\n",
    "dataframe['user_id'] = dataframe['user_id'].astype('category')\n",
    "dataframe['chapter_label'] = dataframe['chapter_label'].astype('category')\n",
    "dataframe['sub_chapter_label'] = dataframe['sub_chapter_label'].astype('category')\n",
    "dataframe['question_name'] = dataframe['question_name'].astype('category')\n"
   ]
  },
  {
   "cell_type": "code",
   "execution_count": 10,
   "metadata": {
    "execution": {
     "iopub.execute_input": "2021-07-27T08:56:15.887182Z",
     "iopub.status.busy": "2021-07-27T08:56:15.886546Z",
     "iopub.status.idle": "2021-07-27T08:56:16.563325Z",
     "shell.execute_reply": "2021-07-27T08:56:16.562692Z",
     "shell.execute_reply.started": "2021-07-26T23:06:42.493481Z"
    },
    "id": "eVl_067GWkDe",
    "papermill": {
     "duration": 0.711609,
     "end_time": "2021-07-27T08:56:16.563513",
     "exception": false,
     "start_time": "2021-07-27T08:56:15.851904",
     "status": "completed"
    },
    "tags": []
   },
   "outputs": [],
   "source": [
    "#calculate time_lag and prev_time_elapsed\n",
    "dataframe['prev_time_elapsed'] = None\n",
    "dataframe['time_lag'] = None\n",
    "dataframe['time_lag'] = dataframe['time_lag'].astype(np.float)\n",
    "dataframe['prev_time_elapsed'] = dataframe['prev_time_elapsed'].astype(np.float)\n",
    "dataframe.start_practice = pd.to_datetime(dataframe.start_practice, format='%Y-%m-%d %H:%M:%S')\n",
    "dataframe.end_practice = pd.to_datetime(dataframe.end_practice, format='%Y-%m-%d %H:%M:%S')"
   ]
  },
  {
   "cell_type": "code",
   "execution_count": 11,
   "metadata": {
    "execution": {
     "iopub.execute_input": "2021-07-27T08:56:16.629391Z",
     "iopub.status.busy": "2021-07-27T08:56:16.627761Z",
     "iopub.status.idle": "2021-07-27T08:56:16.677656Z",
     "shell.execute_reply": "2021-07-27T08:56:16.678190Z",
     "shell.execute_reply.started": "2021-07-26T23:06:43.16823Z"
    },
    "papermill": {
     "duration": 0.086105,
     "end_time": "2021-07-27T08:56:16.678413",
     "exception": false,
     "start_time": "2021-07-27T08:56:16.592308",
     "status": "completed"
    },
    "tags": []
   },
   "outputs": [],
   "source": [
    "dataframe['dif'] = dataframe.end_practice - dataframe.start_practice\n",
    "dataframe['dif'] = dataframe['dif'] /np.timedelta64(1, 's')\n",
    "dataframe['answer_correct'] = np.where((dataframe['q']==5) & (dataframe['dif'] <= 60), 1, 0)"
   ]
  },
  {
   "cell_type": "code",
   "execution_count": 13,
   "metadata": {
    "execution": {
     "iopub.execute_input": "2021-07-27T08:56:38.847096Z",
     "iopub.status.busy": "2021-07-27T08:56:38.846077Z",
     "iopub.status.idle": "2021-07-27T08:56:38.876530Z",
     "shell.execute_reply": "2021-07-27T08:56:38.875124Z",
     "shell.execute_reply.started": "2021-07-26T23:07:06.221637Z"
    },
    "id": "8t8yZ0XvWwzz",
    "papermill": {
     "duration": 0.213649,
     "end_time": "2021-07-27T08:56:38.876760",
     "exception": false,
     "start_time": "2021-07-27T08:56:38.663111",
     "status": "completed"
    },
    "tags": []
   },
   "outputs": [],
   "source": [
    "#drop column end_practice\n",
    "dataframe.drop(columns=['end_practice'], inplace=True)"
   ]
  },
  {
   "cell_type": "code",
   "execution_count": 14,
   "metadata": {
    "execution": {
     "iopub.execute_input": "2021-07-27T08:56:39.086131Z",
     "iopub.status.busy": "2021-07-27T08:56:39.085136Z",
     "iopub.status.idle": "2021-07-27T08:56:39.547470Z",
     "shell.execute_reply": "2021-07-27T08:56:39.546783Z",
     "shell.execute_reply.started": "2021-07-26T23:07:06.329904Z"
    },
    "id": "E42raRIrYYXz",
    "papermill": {
     "duration": 0.559368,
     "end_time": "2021-07-27T08:56:39.547694",
     "exception": false,
     "start_time": "2021-07-27T08:56:38.988326",
     "status": "completed"
    },
    "tags": []
   },
   "outputs": [],
   "source": [
    "# calculate the age feature\n",
    "dataframe['term_value'] = [int(ele[3:]) for ele in dataframe['term']]\n",
    "dataframe['age'] = dataframe['term_value'] - dataframe['birthYear']"
   ]
  },
  {
   "cell_type": "code",
   "execution_count": 15,
   "metadata": {
    "execution": {
     "iopub.execute_input": "2021-07-27T08:56:39.730069Z",
     "iopub.status.busy": "2021-07-27T08:56:39.729380Z",
     "iopub.status.idle": "2021-07-27T08:56:39.950626Z",
     "shell.execute_reply": "2021-07-27T08:56:39.949874Z",
     "shell.execute_reply.started": "2021-07-26T23:07:06.794685Z"
    },
    "id": "pcMVQXueYnMh",
    "papermill": {
     "duration": 0.314937,
     "end_time": "2021-07-27T08:56:39.950784",
     "exception": false,
     "start_time": "2021-07-27T08:56:39.635847",
     "status": "completed"
    },
    "tags": []
   },
   "outputs": [],
   "source": [
    "# drop term_value and birthYear column\n",
    "dataframe.drop(columns=['term_value', 'birthYear'], inplace=True)"
   ]
  },
  {
   "cell_type": "code",
   "execution_count": 16,
   "metadata": {
    "execution": {
     "iopub.execute_input": "2021-07-27T08:56:40.164462Z",
     "iopub.status.busy": "2021-07-27T08:56:40.159256Z",
     "iopub.status.idle": "2021-07-27T08:56:40.631377Z",
     "shell.execute_reply": "2021-07-27T08:56:40.630813Z",
     "shell.execute_reply.started": "2021-07-26T23:07:07.111205Z"
    },
    "id": "hjRF5szkcQE0",
    "papermill": {
     "duration": 0.589149,
     "end_time": "2021-07-27T08:56:40.631524",
     "exception": false,
     "start_time": "2021-07-27T08:56:40.042375",
     "status": "completed"
    },
    "tags": []
   },
   "outputs": [],
   "source": [
    "# convert minors_count to int value\n",
    "new_minors_count = []\n",
    "for i in dataframe['minorsCount']:\n",
    "  if i == 0 or i == '0':\n",
    "    new_minors_count.append(0)\n",
    "  elif i == '1 Minor':\n",
    "    new_minors_count.append(1)\n",
    "  else:\n",
    "    new_minors_count.append(2)\n",
    "\n",
    "dataframe['minorsCount'] = new_minors_count"
   ]
  },
  {
   "cell_type": "code",
   "execution_count": 17,
   "metadata": {
    "execution": {
     "iopub.execute_input": "2021-07-27T08:56:40.807475Z",
     "iopub.status.busy": "2021-07-27T08:56:40.806801Z",
     "iopub.status.idle": "2021-07-27T08:56:40.822657Z",
     "shell.execute_reply": "2021-07-27T08:56:40.821966Z",
     "shell.execute_reply.started": "2021-07-26T23:07:07.622689Z"
    },
    "id": "9VdzvJSw0KUU",
    "outputId": "6393784f-234e-4935-9cee-cbcf56b5630a",
    "papermill": {
     "duration": 0.105623,
     "end_time": "2021-07-27T08:56:40.822813",
     "exception": false,
     "start_time": "2021-07-27T08:56:40.717190",
     "status": "completed"
    },
    "tags": []
   },
   "outputs": [
    {
     "name": "stdout",
     "output_type": "stream",
     "text": [
      "we have  1110  users in total.\n"
     ]
    }
   ],
   "source": [
    "print(\"we have \", dataframe['user_id'].nunique(),\" users in total.\")"
   ]
  },
  {
   "cell_type": "code",
   "execution_count": 18,
   "metadata": {
    "execution": {
     "iopub.execute_input": "2021-07-27T08:56:41.000892Z",
     "iopub.status.busy": "2021-07-27T08:56:41.000150Z",
     "iopub.status.idle": "2021-07-27T08:56:41.008623Z",
     "shell.execute_reply": "2021-07-27T08:56:41.009097Z",
     "shell.execute_reply.started": "2021-07-26T23:07:07.644479Z"
    },
    "id": "hUaGk9L9g13t",
    "papermill": {
     "duration": 0.100651,
     "end_time": "2021-07-27T08:56:41.009329",
     "exception": false,
     "start_time": "2021-07-27T08:56:40.908678",
     "status": "completed"
    },
    "tags": []
   },
   "outputs": [],
   "source": [
    "for category in ['term','chapter_label', 'sub_chapter_label', 'question_name']:\n",
    "  dataframe[category] =  dataframe[category].cat.codes"
   ]
  },
  {
   "cell_type": "code",
   "execution_count": 19,
   "metadata": {
    "execution": {
     "iopub.execute_input": "2021-07-27T08:56:41.189257Z",
     "iopub.status.busy": "2021-07-27T08:56:41.188614Z",
     "iopub.status.idle": "2021-07-27T08:56:41.509857Z",
     "shell.execute_reply": "2021-07-27T08:56:41.510435Z",
     "shell.execute_reply.started": "2021-07-26T23:07:07.658737Z"
    },
    "id": "hkyvcYvlhliG",
    "papermill": {
     "duration": 0.413976,
     "end_time": "2021-07-27T08:56:41.510620",
     "exception": false,
     "start_time": "2021-07-27T08:56:41.096644",
     "status": "completed"
    },
    "tags": []
   },
   "outputs": [],
   "source": [
    "NUMERIC_FEATURE =  ['age',\n",
    "            'exclClassCumGPA',\n",
    "            'termCreditsGPA',\n",
    "            'termCreditsNoGPA',\n",
    "            'highSchoolGPA', \n",
    "            'majorsCount', 'minorsCount',\n",
    "            'PREV_TERM_CUM_GPA',\n",
    "            'available_flashcards', \n",
    "            'days_offset', \n",
    "            'prev_time_elapsed',\n",
    "             'time_lag']\n",
    "# z-score normalize the numerical features\n",
    "for f in NUMERIC_FEATURE:\n",
    "  m = dataframe[f].mean()\n",
    "  std = dataframe[f].std()\n",
    "  dataframe[f] = (dataframe[f] - m)/std"
   ]
  },
  {
   "cell_type": "code",
   "execution_count": 20,
   "metadata": {
    "execution": {
     "iopub.execute_input": "2021-07-27T08:56:41.698786Z",
     "iopub.status.busy": "2021-07-27T08:56:41.698067Z",
     "iopub.status.idle": "2021-07-27T08:56:45.785591Z",
     "shell.execute_reply": "2021-07-27T08:56:45.785003Z",
     "shell.execute_reply.started": "2021-07-26T23:07:08.022481Z"
    },
    "id": "wo2OH-d5kWp1",
    "papermill": {
     "duration": 4.189642,
     "end_time": "2021-07-27T08:56:45.785736",
     "exception": false,
     "start_time": "2021-07-27T08:56:41.596094",
     "status": "completed"
    },
    "tags": []
   },
   "outputs": [],
   "source": [
    "FEATURE_TRANS =  ['answer_correct', 'chapter_label', 'sub_chapter_label','question_name','user_id','term',\n",
    "                  'STDNT_SEX_CD', \n",
    "                    'White','Asian','NonWhiteOrAsian',\n",
    "            'STDNT_CTZN_STAT_CD', 'international', \n",
    "            'age',\n",
    "            'exclClassCumGPA',\n",
    "           'Freshman',\n",
    "            'Junior',\n",
    "            'Sophomore',\n",
    "            'Senior',\n",
    "            'termCreditsGPA',\n",
    "            'termCreditsNoGPA',\n",
    "            'athlete_1',\n",
    "            'honorsPro',\n",
    "            'LSA', 'programBusiness', 'programEngineering', \n",
    "            'programInformation', 'programOther',\n",
    "            'HSCalculusTaken', \n",
    "            'highSchoolGPA', \n",
    "            'majorsCount', 'minorsCount',\n",
    "            'PREV_TERM_CUM_GPA',\n",
    "            'classGraded', 'classHonors', \n",
    "            'Pass_Fail', \n",
    "            'parentsGraduateEdu',  'minorityGroup', \n",
    "            'available_flashcards', \n",
    "            'days_offset', 'prev_time_elapsed',\n",
    "             'time_lag']\n",
    "grouped_data = dataframe[FEATURE_TRANS].groupby(['user_id']).apply(lambda r: (\n",
    "                r['answer_correct'],\n",
    "                r['term'],\n",
    "                r['chapter_label'],\n",
    "                r['sub_chapter_label'],\n",
    "                r['question_name'],\n",
    "                np.array([r['STDNT_SEX_CD'],r['STDNT_CTZN_STAT_CD'], r['international'], \n",
    "                  r['White'],r['Asian'],r['NonWhiteOrAsian'],\n",
    "                 r['age'],r['exclClassCumGPA'],\n",
    "                r['Freshman'], r['Junior'], r['Sophomore'], r['Senior'],\n",
    "                r['termCreditsGPA'], r['termCreditsNoGPA'],\n",
    "                r['athlete_1'], r['honorsPro'],\n",
    "                r['LSA'], r['programBusiness'], r['programEngineering'], \n",
    "                r['programInformation'], r['programOther'],\n",
    "                r['HSCalculusTaken'],  r['highSchoolGPA'], \n",
    "                r['majorsCount'], r['minorsCount'],\n",
    "                r['PREV_TERM_CUM_GPA'], \n",
    "                r['parentsGraduateEdu'], r['minorityGroup'],\n",
    "                r['available_flashcards'],\n",
    "                r['days_offset'],\n",
    "                r['prev_time_elapsed'],\n",
    "                r['time_lag']\n",
    "              ]).transpose()\n",
    "                ))"
   ]
  },
  {
   "cell_type": "code",
   "execution_count": 21,
   "metadata": {
    "execution": {
     "iopub.execute_input": "2021-07-27T08:56:46.252965Z",
     "iopub.status.busy": "2021-07-27T08:56:46.251939Z",
     "iopub.status.idle": "2021-07-27T08:56:46.258032Z",
     "shell.execute_reply": "2021-07-27T08:56:46.257498Z",
     "shell.execute_reply.started": "2021-07-26T23:07:12.035805Z"
    },
    "id": "XXLqQnjrlp_4",
    "outputId": "c801da79-f0bf-4fe5-b19c-7c799fe01556",
    "papermill": {
     "duration": 0.382694,
     "end_time": "2021-07-27T08:56:46.258169",
     "exception": false,
     "start_time": "2021-07-27T08:56:45.875475",
     "status": "completed"
    },
    "tags": []
   },
   "outputs": [
    {
     "data": {
      "text/plain": [
       "20"
      ]
     },
     "execution_count": 21,
     "metadata": {},
     "output_type": "execute_result"
    }
   ],
   "source": [
    "gc.collect()"
   ]
  },
  {
   "cell_type": "code",
   "execution_count": 22,
   "metadata": {
    "execution": {
     "iopub.execute_input": "2021-07-27T08:56:46.454701Z",
     "iopub.status.busy": "2021-07-27T08:56:46.449150Z",
     "iopub.status.idle": "2021-07-27T08:56:46.481514Z",
     "shell.execute_reply": "2021-07-27T08:56:46.480661Z",
     "shell.execute_reply.started": "2021-07-26T23:07:12.246335Z"
    },
    "id": "QYGQasdTrmP0",
    "papermill": {
     "duration": 0.137687,
     "end_time": "2021-07-27T08:56:46.481792",
     "exception": false,
     "start_time": "2021-07-27T08:56:46.344105",
     "status": "completed"
    },
    "tags": []
   },
   "outputs": [],
   "source": [
    "# remove students who don't have make any interactions with the tool\n",
    "toRemove = []\n",
    "for index in grouped_data.index:\n",
    "  if len(grouped_data[index][0]) <= 10:\n",
    "    toRemove.append(index)\n",
    "grouped_data = grouped_data.drop(index=toRemove)"
   ]
  },
  {
   "cell_type": "code",
   "execution_count": 23,
   "metadata": {
    "execution": {
     "iopub.execute_input": "2021-07-27T08:56:46.660715Z",
     "iopub.status.busy": "2021-07-27T08:56:46.659992Z",
     "iopub.status.idle": "2021-07-27T08:56:46.663352Z",
     "shell.execute_reply": "2021-07-27T08:56:46.662674Z",
     "shell.execute_reply.started": "2021-07-26T23:07:12.292173Z"
    },
    "id": "9kZqV9siDyNb",
    "papermill": {
     "duration": 0.094736,
     "end_time": "2021-07-27T08:56:46.663502",
     "exception": false,
     "start_time": "2021-07-27T08:56:46.568766",
     "status": "completed"
    },
    "tags": []
   },
   "outputs": [],
   "source": [
    "#SETTINGS -> can be modified at any time\n",
    "MAXLENGTH = 2\n",
    "EMBEDDING_DIM = 128\n",
    "DENSE_NEURON = 16\n",
    "LSTM_NEURON = 32"
   ]
  },
  {
   "cell_type": "code",
   "execution_count": 24,
   "metadata": {
    "execution": {
     "iopub.execute_input": "2021-07-27T08:56:46.843977Z",
     "iopub.status.busy": "2021-07-27T08:56:46.843303Z",
     "iopub.status.idle": "2021-07-27T08:56:46.846835Z",
     "shell.execute_reply": "2021-07-27T08:56:46.846178Z",
     "shell.execute_reply.started": "2021-07-26T23:07:12.299475Z"
    },
    "id": "1MksD1JizpPn",
    "papermill": {
     "duration": 0.09504,
     "end_time": "2021-07-27T08:56:46.846972",
     "exception": false,
     "start_time": "2021-07-27T08:56:46.751932",
     "status": "completed"
    },
    "tags": []
   },
   "outputs": [],
   "source": [
    "#FEATURES_SIZE = 38\n",
    "CHAPTER_SIZE = 38\n",
    "SUB_CHAPTER_SIZE = 223\n",
    "QUESTION_SIZE = 1069"
   ]
  },
  {
   "cell_type": "code",
   "execution_count": 25,
   "metadata": {
    "execution": {
     "iopub.execute_input": "2021-07-27T08:56:47.023247Z",
     "iopub.status.busy": "2021-07-27T08:56:47.022609Z",
     "iopub.status.idle": "2021-07-27T08:56:47.034495Z",
     "shell.execute_reply": "2021-07-27T08:56:47.033820Z",
     "shell.execute_reply.started": "2021-07-26T23:07:12.312079Z"
    },
    "papermill": {
     "duration": 0.102265,
     "end_time": "2021-07-27T08:56:47.034639",
     "exception": false,
     "start_time": "2021-07-27T08:56:46.932374",
     "status": "completed"
    },
    "tags": []
   },
   "outputs": [
    {
     "data": {
      "text/plain": [
       "array([ 96,  88,  86,  28,  12,  82, 125,  32,  69,  33,  21, 115, 120,\n",
       "       119,  91,  73,  57,  77, 117,  40,  74,  41,  68,  92,  39,  47,\n",
       "       104,  53,  95,  49,  16,  50,  52,  55,   7,  15,  51, 103, 102,\n",
       "       100,  94, 108,  11,   6, 118,  18, 215,  46, 216, 141,  27,  90,\n",
       "       217, 105,  54, 218, 123,  17,  67,  63,  13, 101, 124, 219,  20,\n",
       "       122,  58,   3,  59,  64, 106,  93,  65,  66,   9,  44,  30, 139,\n",
       "        26,  25,   8, 138,   1,  14,   5,  85,  35,  34,  79, 220, 121,\n",
       "        36,  31,  24, 112, 109, 110,  70,  45,  10,  56,  60, 145,  61,\n",
       "       129, 144,  72,  71,  89,  87,  97,  62,   4,  38,  19, 150, 131,\n",
       "       130, 132, 149, 128, 137,  75,  99, 143, 107, 147, 151, 152, 153,\n",
       "       159, 157, 158, 156, 160, 161, 163, 164, 165, 166, 167, 168, 170,\n",
       "       171, 169, 172, 174, 173, 175, 177, 176, 180, 178, 181, 182, 187,\n",
       "       189, 190, 191, 195, 193, 192, 197, 198, 199, 202, 201, 200, 204,\n",
       "       203, 205, 207, 206, 208, 209, 210, 162, 183, 185, 184, 186, 194,\n",
       "       188, 211, 212, 213, 146, 179, 154, 155, 196,   2,  48,   0,  37,\n",
       "        78, 142, 111, 116,  76, 148, 134, 221,  23, 140,  42,  22,  83,\n",
       "       136,  43,  98, 113,  84, 127, 135, 214,  80, 133, 126,  81, 114,\n",
       "        29], dtype=int16)"
      ]
     },
     "execution_count": 25,
     "metadata": {},
     "output_type": "execute_result"
    }
   ],
   "source": [
    "dataframe['sub_chapter_label'].unique()"
   ]
  },
  {
   "cell_type": "code",
   "execution_count": 28,
   "metadata": {
    "execution": {
     "iopub.execute_input": "2021-07-27T08:56:47.227417Z",
     "iopub.status.busy": "2021-07-27T08:56:47.226663Z",
     "iopub.status.idle": "2021-07-27T08:56:48.269637Z",
     "shell.execute_reply": "2021-07-27T08:56:48.269074Z",
     "shell.execute_reply.started": "2021-07-26T23:07:12.335887Z"
    },
    "id": "mY3Thp6d0NaT",
    "papermill": {
     "duration": 1.145759,
     "end_time": "2021-07-27T08:56:48.269794",
     "exception": false,
     "start_time": "2021-07-27T08:56:47.124035",
     "status": "completed"
    },
    "tags": []
   },
   "outputs": [],
   "source": [
    "#create dataset class\n",
    "#to prepare it for train, valid, and test sets\n",
    "from torch.utils.data import Dataset, DataLoader\n",
    "class SPACE_DATASET(Dataset):\n",
    "    def __init__(self, data, maxlength = 2):\n",
    "        super(SPACE_DATASET, self).__init__()\n",
    "        self.maxlength = maxlength\n",
    "        self.data = data\n",
    "        self.users = list()\n",
    "        for user in data.index:\n",
    "            self.users.append(user)\n",
    "\n",
    "    def __len__(self):\n",
    "        return len(self.users)\n",
    "    \n",
    "    def __getitem__(self, ix):\n",
    "        user = self.users[ix]\n",
    "        user = user\n",
    "        target, term, ch_label, sub_ch_label, ques_name, features = self.data[user]\n",
    "        \n",
    "        #0s should be used as padding values\n",
    "        ori_target = target.values \n",
    "        term = term.values\n",
    "        ch_label = ch_label.values + 1\n",
    "        sub_ch_label = sub_ch_label.values +1\n",
    "        ques_name = ques_name.values + 1\n",
    "        \n",
    "        n = len(ch_label)\n",
    "\n",
    "        # one hot for term\n",
    "        term_encode = [0]*7\n",
    "        term_encode[term[0]] = 1\n",
    "        shifted_target= []\n",
    "\n",
    "        \n",
    "        # get  user interaction informations in the previous MAXLEN interactions\n",
    "        if n > self.maxlength:\n",
    "          ch_label = ch_label[-self.maxlength:]\n",
    "          sub_ch_label = sub_ch_label[-self.maxlength:]\n",
    "          ques_name = ques_name[-self.maxlength:]\n",
    "          features = features[-self.maxlength:]\n",
    "          target = ori_target[-self.maxlength:]\n",
    "          shifted_target = ori_target[ (-self.maxlength - 1) :-1]\n",
    "        else:\n",
    "          ch_label = [0]*(self.maxlength - n)+list(ch_label[:])\n",
    "          sub_ch_label = [0]*(self.maxlength - n)+list(sub_ch_label[:])\n",
    "          ques_name = [0]*(self.maxlength - n)+list(ques_name[:])\n",
    "          features = [[0]*len(features[0])]*(self.maxlength  - n)+list(features[:])\n",
    "          target = [-1]*(self.maxlength - n) + list(ori_target[:])\n",
    "          shifted_target = [-1]*(self.maxlength + 1 - n) + list(ori_target[:-1])\n",
    "\n",
    "        new_features = []\n",
    "        count = 0\n",
    "        for f in features:\n",
    "          temp = list(f)\n",
    "          temp.extend(term_encode)\n",
    "          # temp.append(shifted_target[count]) #uncomment this line for include previous response feature\n",
    "          new_features.append(temp)\n",
    "          count += 1\n",
    "        features = new_features\n",
    "        return ch_label,sub_ch_label,ques_name,target"
   ]
  },
  {
   "cell_type": "code",
   "execution_count": 29,
   "metadata": {
    "execution": {
     "iopub.execute_input": "2021-07-27T08:56:48.458787Z",
     "iopub.status.busy": "2021-07-27T08:56:48.457658Z",
     "iopub.status.idle": "2021-07-27T08:56:48.462854Z",
     "shell.execute_reply": "2021-07-27T08:56:48.463691Z",
     "shell.execute_reply.started": "2021-07-26T23:07:12.709123Z"
    },
    "papermill": {
     "duration": 0.109055,
     "end_time": "2021-07-27T08:56:48.463941",
     "exception": false,
     "start_time": "2021-07-27T08:56:48.354886",
     "status": "completed"
    },
    "tags": []
   },
   "outputs": [
    {
     "data": {
      "text/plain": [
       "223"
      ]
     },
     "execution_count": 29,
     "metadata": {},
     "output_type": "execute_result"
    }
   ],
   "source": [
    "SUB_CHAPTER_SIZE"
   ]
  },
  {
   "cell_type": "code",
   "execution_count": 30,
   "metadata": {
    "execution": {
     "iopub.execute_input": "2021-07-27T08:56:48.861918Z",
     "iopub.status.busy": "2021-07-27T08:56:48.854860Z",
     "iopub.status.idle": "2021-07-27T09:29:45.724721Z",
     "shell.execute_reply": "2021-07-27T09:29:45.724043Z",
     "shell.execute_reply.started": "2021-07-26T23:07:12.71878Z"
    },
    "id": "gzJrljnjzypP",
    "outputId": "87abe488-b493-4f8f-9d71-45cb1d2ddf51",
    "papermill": {
     "duration": 1976.982115,
     "end_time": "2021-07-27T09:29:45.724873",
     "exception": false,
     "start_time": "2021-07-27T08:56:48.742758",
     "status": "completed"
    },
    "tags": []
   },
   "outputs": [
    {
     "name": "stdout",
     "output_type": "stream",
     "text": [
      "Epoch 1/100\n",
      "14/14 [==============================] - 8s 179ms/step - loss: 0.6688 - masked_acc: 0.5236 - masked_auc: 0.5215 - val_loss: 0.6365 - val_masked_acc: 0.6192 - val_masked_auc: 0.5467\n",
      "Epoch 2/100\n",
      "14/14 [==============================] - 0s 8ms/step - loss: 0.5852 - masked_acc: 0.6244 - masked_auc: 0.5968 - val_loss: 0.7157 - val_masked_acc: 0.6568 - val_masked_auc: 0.6753\n",
      "Epoch 3/100\n",
      "14/14 [==============================] - 0s 7ms/step - loss: 0.4687 - masked_acc: 0.6706 - masked_auc: 0.7018 - val_loss: 0.7922 - val_masked_acc: 0.6878 - val_masked_auc: 0.7320\n",
      "Epoch 4/100\n",
      "14/14 [==============================] - 0s 7ms/step - loss: 0.4423 - masked_acc: 0.6963 - masked_auc: 0.7445 - val_loss: 0.8081 - val_masked_acc: 0.7091 - val_masked_auc: 0.7631\n",
      "Epoch 5/100\n",
      "14/14 [==============================] - 0s 8ms/step - loss: 0.4215 - masked_acc: 0.7148 - masked_auc: 0.7715 - val_loss: 0.9834 - val_masked_acc: 0.7249 - val_masked_auc: 0.7850\n",
      "Epoch 6/100\n",
      "14/14 [==============================] - 0s 8ms/step - loss: 0.3687 - masked_acc: 0.7301 - masked_auc: 0.7931 - val_loss: 1.0562 - val_masked_acc: 0.7377 - val_masked_auc: 0.8027\n",
      "Epoch 7/100\n",
      "14/14 [==============================] - 0s 8ms/step - loss: 0.3099 - masked_acc: 0.7434 - masked_auc: 0.8102 - val_loss: 1.0871 - val_masked_acc: 0.7494 - val_masked_auc: 0.8179\n",
      "Epoch 8/100\n",
      "14/14 [==============================] - 0s 8ms/step - loss: 0.2938 - masked_acc: 0.7536 - masked_auc: 0.8233 - val_loss: 1.4399 - val_masked_acc: 0.7588 - val_masked_auc: 0.8304\n",
      "Epoch 9/100\n",
      "14/14 [==============================] - 0s 8ms/step - loss: 0.2673 - masked_acc: 0.7621 - masked_auc: 0.8353 - val_loss: 1.4860 - val_masked_acc: 0.7666 - val_masked_auc: 0.8408\n",
      "Epoch 10/100\n",
      "14/14 [==============================] - 0s 8ms/step - loss: 0.2540 - masked_acc: 0.7694 - masked_auc: 0.8447 - val_loss: 1.4493 - val_masked_acc: 0.7730 - val_masked_auc: 0.8493\n",
      "Epoch 11/100\n",
      "14/14 [==============================] - 0s 8ms/step - loss: 0.2596 - masked_acc: 0.7751 - masked_auc: 0.8524 - val_loss: 1.5798 - val_masked_acc: 0.7782 - val_masked_auc: 0.8561\n",
      "28/28 [==============================] - 0s 2ms/step - loss: 0.2487 - masked_acc: 0.7825 - masked_auc: 0.8613\n",
      "4/4 [==============================] - 0s 2ms/step - loss: 1.5887 - masked_acc: 0.7835 - masked_auc: 0.8628\n",
      "Test:  [1.5887281894683838, 0.7834972143173218, 0.8628426194190979]\n",
      "Epoch 1/100\n",
      "14/14 [==============================] - 7s 154ms/step - loss: 0.6627 - masked_acc: 0.6387 - masked_auc: 0.4919 - val_loss: 0.6456 - val_masked_acc: 0.6462 - val_masked_auc: 0.5677\n",
      "Epoch 2/100\n",
      "14/14 [==============================] - 0s 8ms/step - loss: 0.5535 - masked_acc: 0.6502 - masked_auc: 0.6145 - val_loss: 0.7439 - val_masked_acc: 0.6682 - val_masked_auc: 0.6818\n",
      "Epoch 3/100\n",
      "14/14 [==============================] - 0s 8ms/step - loss: 0.4632 - masked_acc: 0.6782 - masked_auc: 0.7046 - val_loss: 0.8811 - val_masked_acc: 0.6960 - val_masked_auc: 0.7366\n",
      "Epoch 4/100\n",
      "14/14 [==============================] - 0s 8ms/step - loss: 0.4104 - masked_acc: 0.7032 - masked_auc: 0.7503 - val_loss: 0.8831 - val_masked_acc: 0.7129 - val_masked_auc: 0.7671\n",
      "Epoch 5/100\n",
      "14/14 [==============================] - 0s 8ms/step - loss: 0.3944 - masked_acc: 0.7175 - masked_auc: 0.7751 - val_loss: 1.0866 - val_masked_acc: 0.7272 - val_masked_auc: 0.7898\n",
      "Epoch 6/100\n",
      "14/14 [==============================] - 0s 8ms/step - loss: 0.3277 - masked_acc: 0.7325 - masked_auc: 0.7976 - val_loss: 1.2953 - val_masked_acc: 0.7404 - val_masked_auc: 0.8082\n",
      "Epoch 7/100\n",
      "14/14 [==============================] - 0s 8ms/step - loss: 0.2725 - masked_acc: 0.7458 - masked_auc: 0.8153 - val_loss: 1.3360 - val_masked_acc: 0.7512 - val_masked_auc: 0.8232\n",
      "Epoch 8/100\n",
      "14/14 [==============================] - 0s 8ms/step - loss: 0.2729 - masked_acc: 0.7550 - masked_auc: 0.8282 - val_loss: 1.5319 - val_masked_acc: 0.7605 - val_masked_auc: 0.8348\n",
      "Epoch 9/100\n",
      "14/14 [==============================] - 0s 8ms/step - loss: 0.2569 - masked_acc: 0.7636 - masked_auc: 0.8388 - val_loss: 2.0152 - val_masked_acc: 0.7680 - val_masked_auc: 0.8438\n",
      "Epoch 10/100\n",
      "14/14 [==============================] - 0s 8ms/step - loss: 0.2396 - masked_acc: 0.7705 - masked_auc: 0.8471 - val_loss: 2.0215 - val_masked_acc: 0.7738 - val_masked_auc: 0.8512\n",
      "Epoch 11/100\n",
      "14/14 [==============================] - 0s 8ms/step - loss: 0.2443 - masked_acc: 0.7758 - masked_auc: 0.8537 - val_loss: 2.3459 - val_masked_acc: 0.7788 - val_masked_auc: 0.8574\n",
      "28/28 [==============================] - 0s 2ms/step - loss: 0.2187 - masked_acc: 0.7828 - masked_auc: 0.8621\n",
      "4/4 [==============================] - 0s 3ms/step - loss: 1.9407 - masked_acc: 0.7849 - masked_auc: 0.8649\n",
      "Test:  [1.9407315254211426, 0.7848803997039795, 0.8649348020553589]\n",
      "Epoch 1/100\n",
      "14/14 [==============================] - 8s 114ms/step - loss: 0.6625 - masked_acc: 0.6277 - masked_auc: 0.5143 - val_loss: 0.6612 - val_masked_acc: 0.6375 - val_masked_auc: 0.5830\n",
      "Epoch 2/100\n",
      "14/14 [==============================] - 1s 41ms/step - loss: 0.5478 - masked_acc: 0.6553 - masked_auc: 0.6275 - val_loss: 0.7535 - val_masked_acc: 0.6811 - val_masked_auc: 0.6938\n",
      "Epoch 3/100\n",
      "14/14 [==============================] - 0s 7ms/step - loss: 0.4746 - masked_acc: 0.6905 - masked_auc: 0.7127 - val_loss: 0.9186 - val_masked_acc: 0.7045 - val_masked_auc: 0.7365\n",
      "Epoch 4/100\n",
      "14/14 [==============================] - 0s 8ms/step - loss: 0.4170 - masked_acc: 0.7105 - masked_auc: 0.7480 - val_loss: 1.0736 - val_masked_acc: 0.7195 - val_masked_auc: 0.7654\n",
      "Epoch 5/100\n",
      "14/14 [==============================] - 0s 7ms/step - loss: 0.3636 - masked_acc: 0.7251 - masked_auc: 0.7750 - val_loss: 0.9501 - val_masked_acc: 0.7315 - val_masked_auc: 0.7854\n",
      "Epoch 6/100\n",
      "14/14 [==============================] - 0s 7ms/step - loss: 0.3548 - masked_acc: 0.7355 - masked_auc: 0.7917 - val_loss: 1.6683 - val_masked_acc: 0.7436 - val_masked_auc: 0.8020\n",
      "Epoch 7/100\n",
      "14/14 [==============================] - 0s 8ms/step - loss: 0.2868 - masked_acc: 0.7479 - masked_auc: 0.8081 - val_loss: 1.1379 - val_masked_acc: 0.7516 - val_masked_auc: 0.8145\n",
      "Epoch 8/100\n",
      "14/14 [==============================] - 0s 7ms/step - loss: 0.2923 - masked_acc: 0.7550 - masked_auc: 0.8193 - val_loss: 1.9639 - val_masked_acc: 0.7594 - val_masked_auc: 0.8254\n",
      "Epoch 9/100\n",
      "14/14 [==============================] - 0s 8ms/step - loss: 0.2662 - masked_acc: 0.7620 - masked_auc: 0.8289 - val_loss: 1.9196 - val_masked_acc: 0.7658 - val_masked_auc: 0.8346\n",
      "Epoch 10/100\n",
      "14/14 [==============================] - 0s 8ms/step - loss: 0.2470 - masked_acc: 0.7682 - masked_auc: 0.8381 - val_loss: 2.0986 - val_masked_acc: 0.7722 - val_masked_auc: 0.8430\n",
      "Epoch 11/100\n",
      "14/14 [==============================] - 0s 8ms/step - loss: 0.2325 - masked_acc: 0.7742 - masked_auc: 0.8460 - val_loss: 2.4910 - val_masked_acc: 0.7779 - val_masked_auc: 0.8500\n",
      "28/28 [==============================] - 0s 2ms/step - loss: 0.2246 - masked_acc: 0.7819 - masked_auc: 0.8553\n",
      "4/4 [==============================] - 0s 2ms/step - loss: 1.6391 - masked_acc: 0.7836 - masked_auc: 0.8578\n",
      "Test:  [1.6391147375106812, 0.7836126685142517, 0.8577691316604614]\n",
      "Epoch 1/100\n",
      "14/14 [==============================] - 7s 111ms/step - loss: 0.6639 - masked_acc: 0.5835 - masked_auc: 0.5048 - val_loss: 0.6264 - val_masked_acc: 0.6398 - val_masked_auc: 0.5661\n",
      "Epoch 2/100\n",
      "14/14 [==============================] - 0s 9ms/step - loss: 0.5685 - masked_acc: 0.6475 - masked_auc: 0.6102 - val_loss: 0.6651 - val_masked_acc: 0.6709 - val_masked_auc: 0.6711\n",
      "Epoch 3/100\n",
      "14/14 [==============================] - 0s 8ms/step - loss: 0.4755 - masked_acc: 0.6803 - masked_auc: 0.6944 - val_loss: 0.7812 - val_masked_acc: 0.6955 - val_masked_auc: 0.7249\n",
      "Epoch 4/100\n",
      "14/14 [==============================] - 0s 7ms/step - loss: 0.4265 - masked_acc: 0.7029 - masked_auc: 0.7382 - val_loss: 0.9452 - val_masked_acc: 0.7141 - val_masked_auc: 0.7582\n",
      "Epoch 5/100\n",
      "14/14 [==============================] - 0s 7ms/step - loss: 0.3696 - masked_acc: 0.7207 - masked_auc: 0.7688 - val_loss: 1.1223 - val_masked_acc: 0.7289 - val_masked_auc: 0.7824\n",
      "Epoch 6/100\n",
      "14/14 [==============================] - 0s 8ms/step - loss: 0.3289 - masked_acc: 0.7345 - masked_auc: 0.7909 - val_loss: 1.3964 - val_masked_acc: 0.7424 - val_masked_auc: 0.8015\n",
      "Epoch 7/100\n",
      "14/14 [==============================] - 0s 8ms/step - loss: 0.2937 - masked_acc: 0.7466 - masked_auc: 0.8081 - val_loss: 1.6402 - val_masked_acc: 0.7536 - val_masked_auc: 0.8173\n",
      "Epoch 8/100\n",
      "14/14 [==============================] - 0s 8ms/step - loss: 0.2779 - masked_acc: 0.7569 - masked_auc: 0.8224 - val_loss: 1.7480 - val_masked_acc: 0.7626 - val_masked_auc: 0.8294\n",
      "Epoch 9/100\n",
      "14/14 [==============================] - 0s 8ms/step - loss: 0.2646 - masked_acc: 0.7653 - masked_auc: 0.8331 - val_loss: 2.1345 - val_masked_acc: 0.7692 - val_masked_auc: 0.8389\n",
      "Epoch 10/100\n",
      "14/14 [==============================] - 0s 8ms/step - loss: 0.2572 - masked_acc: 0.7716 - masked_auc: 0.8423 - val_loss: 2.0582 - val_masked_acc: 0.7757 - val_masked_auc: 0.8469\n",
      "Epoch 11/100\n",
      "14/14 [==============================] - 0s 8ms/step - loss: 0.2401 - masked_acc: 0.7777 - masked_auc: 0.8497 - val_loss: 2.6745 - val_masked_acc: 0.7812 - val_masked_auc: 0.8537\n",
      "28/28 [==============================] - 0s 1ms/step - loss: 0.2217 - masked_acc: 0.7849 - masked_auc: 0.8585\n",
      "4/4 [==============================] - 0s 2ms/step - loss: 2.0260 - masked_acc: 0.7869 - masked_auc: 0.8612\n",
      "Test:  [2.026041030883789, 0.7869341969490051, 0.861233651638031]\n",
      "Epoch 1/100\n",
      "14/14 [==============================] - 7s 112ms/step - loss: 0.6640 - masked_acc: 0.5710 - masked_auc: 0.5228 - val_loss: 0.6469 - val_masked_acc: 0.6386 - val_masked_auc: 0.5420\n",
      "Epoch 2/100\n",
      "14/14 [==============================] - 0s 8ms/step - loss: 0.6055 - masked_acc: 0.6397 - masked_auc: 0.5833 - val_loss: 0.7069 - val_masked_acc: 0.6587 - val_masked_auc: 0.6473\n",
      "Epoch 3/100\n",
      "14/14 [==============================] - 0s 9ms/step - loss: 0.4875 - masked_acc: 0.6703 - masked_auc: 0.6704 - val_loss: 0.7451 - val_masked_acc: 0.6911 - val_masked_auc: 0.7097\n",
      "Epoch 4/100\n",
      "14/14 [==============================] - 0s 8ms/step - loss: 0.4402 - masked_acc: 0.6976 - masked_auc: 0.7244 - val_loss: 0.8232 - val_masked_acc: 0.7090 - val_masked_auc: 0.7467\n",
      "Epoch 5/100\n",
      "14/14 [==============================] - 0s 9ms/step - loss: 0.4001 - masked_acc: 0.7150 - masked_auc: 0.7570 - val_loss: 0.9056 - val_masked_acc: 0.7224 - val_masked_auc: 0.7704\n",
      "Epoch 6/100\n",
      "14/14 [==============================] - 0s 9ms/step - loss: 0.3751 - masked_acc: 0.7266 - masked_auc: 0.7781 - val_loss: 1.0606 - val_masked_acc: 0.7333 - val_masked_auc: 0.7878\n",
      "Epoch 7/100\n",
      "14/14 [==============================] - 0s 9ms/step - loss: 0.3359 - masked_acc: 0.7374 - masked_auc: 0.7942 - val_loss: 1.1803 - val_masked_acc: 0.7436 - val_masked_auc: 0.8034\n",
      "Epoch 8/100\n",
      "14/14 [==============================] - 0s 9ms/step - loss: 0.3061 - masked_acc: 0.7470 - masked_auc: 0.8086 - val_loss: 1.2132 - val_masked_acc: 0.7525 - val_masked_auc: 0.8160\n",
      "Epoch 9/100\n",
      "14/14 [==============================] - 0s 9ms/step - loss: 0.2924 - masked_acc: 0.7555 - masked_auc: 0.8203 - val_loss: 1.3772 - val_masked_acc: 0.7602 - val_masked_auc: 0.8262\n",
      "Epoch 10/100\n",
      "14/14 [==============================] - 0s 9ms/step - loss: 0.2611 - masked_acc: 0.7631 - masked_auc: 0.8305 - val_loss: 1.4535 - val_masked_acc: 0.7676 - val_masked_auc: 0.8357\n",
      "Epoch 11/100\n",
      "14/14 [==============================] - 0s 9ms/step - loss: 0.2439 - masked_acc: 0.7701 - masked_auc: 0.8391 - val_loss: 1.9644 - val_masked_acc: 0.7738 - val_masked_auc: 0.8433\n",
      "28/28 [==============================] - 0s 2ms/step - loss: 0.2420 - masked_acc: 0.7779 - masked_auc: 0.8486\n",
      "4/4 [==============================] - 0s 2ms/step - loss: 1.9500 - masked_acc: 0.7797 - masked_auc: 0.8510\n",
      "Test:  [1.9500020742416382, 0.7797317504882812, 0.8510130047798157]\n"
     ]
    }
   ],
   "source": [
    "# 5 fold cross validation\n",
    "#HERE WE ONLY USE\n",
    "#CHAPTER, SUB_CHAPTER\n",
    "#QUESTION\n",
    "X = np.array(grouped_data.keys())\n",
    "kfold = KFold(n_splits=5, shuffle=True)\n",
    "train_losses = list()\n",
    "train_aucs = list()\n",
    "val_losses = list()\n",
    "val_aucs = list()\n",
    "train_eval = list()\n",
    "test_eval = list()\n",
    "for train, test in kfold.split(X):\n",
    "    users_train, users_test =  X[train], X[test]\n",
    "    n = len(users_test)//2\n",
    "    users_test, users_val = users_test[:n], users_test[n: ]\n",
    "    train_data_space = SPACE_DATASET(grouped_data[users_train], MAXLENGTH)\n",
    "    val_data_space = SPACE_DATASET(grouped_data[users_val], MAXLENGTH)\n",
    "    test_data_space = SPACE_DATASET(grouped_data[users_test], MAXLENGTH)\n",
    "    #construct training input\n",
    "    train_chapter=[]\n",
    "    train_sub_chapter=[]\n",
    "    train_question = []\n",
    "    train_features=[]\n",
    "    train_labels=[]\n",
    "    for i in range(len(users_train)):\n",
    "        user = train_data_space.__getitem__(i)\n",
    "        train_chapter.append(user[0])\n",
    "        train_sub_chapter.append(user[1]) \n",
    "        train_question.append(user[2])\n",
    "        #train_features.append(user[3])\n",
    "        train_labels.append(user[3])\n",
    "    train_chapter = np.array(train_chapter)\n",
    "    train_sub_chapter = np.array(train_sub_chapter)\n",
    "    train_question = np.array(train_question)\n",
    "    #train_features = np.array(train_features)\n",
    "    train_labels= np.array(train_labels)[..., np.newaxis]\n",
    "\n",
    "    #construct validation input\n",
    "    val_chapter=[]\n",
    "    val_sub_chapter=[]\n",
    "    val_question = []\n",
    "    #val_features=[]\n",
    "    val_labels=[]\n",
    "    for i in range(len(users_val)):\n",
    "        user = val_data_space.__getitem__(i)\n",
    "        val_chapter.append(user[0])\n",
    "        val_sub_chapter.append(user[1]) \n",
    "        val_question.append(user[2])\n",
    "        #val_features.append(user[3])\n",
    "        val_labels.append(user[3])\n",
    "    val_chapter = np.array(val_chapter)\n",
    "    val_sub_chapter = np.array(val_sub_chapter)\n",
    "    #val_features = np.array(val_features)\n",
    "    val_question = np.array(val_question)\n",
    "    val_labels= np.array(val_labels)[..., np.newaxis]\n",
    "\n",
    "    # construct test input\n",
    "    test_chapter=[]\n",
    "    test_sub_chapter=[]\n",
    "    #test_features=[]\n",
    "    test_question=[]\n",
    "    test_labels=[]\n",
    "    for i in range(len(users_test)):\n",
    "        user = test_data_space.__getitem__(i)\n",
    "        test_chapter.append(user[0])\n",
    "        test_sub_chapter.append(user[1]) \n",
    "        test_question.append(user[2])\n",
    "        #test_features.append(user[3])\n",
    "        test_labels.append(user[3])\n",
    "    test_chapter = np.array(test_chapter)\n",
    "    test_sub_chapter = np.array(test_sub_chapter)\n",
    "    #test_features = np.array(test_features)\n",
    "    test_question = np.array(test_question)\n",
    "    test_labels= np.array(test_labels)[..., np.newaxis]\n",
    "\n",
    "    # define loss function and evaluation metrics\n",
    "    bce = tf.keras.losses.BinaryCrossentropy(from_logits=True)\n",
    "    acc = tf.keras.metrics.Accuracy()\n",
    "    auc = tf.keras.metrics.AUC()\n",
    "\n",
    "    def masked_bce(y_true, y_pred):\n",
    "      flat_pred = y_pred\n",
    "      flat_ground_truth = y_true\n",
    "      label_mask = tf.math.not_equal(flat_ground_truth, -1)\n",
    "      return bce(flat_ground_truth, flat_pred, sample_weight=label_mask)\n",
    "\n",
    "    def masked_acc(y_true, y_pred):\n",
    "      flat_pred = y_pred\n",
    "      flat_ground_truth = y_true\n",
    "      flat_pred = (flat_pred >= 0.5)\n",
    "      label_mask = tf.math.not_equal(flat_ground_truth, -1)\n",
    "      return acc(flat_ground_truth, flat_pred, sample_weight=label_mask)\n",
    "\n",
    "    def masked_auc(y_true, y_pred):\n",
    "      flat_pred = y_pred\n",
    "      flat_ground_truth = y_true\n",
    "      label_mask = tf.math.not_equal(flat_ground_truth, -1)\n",
    "      return auc(flat_ground_truth, flat_pred, sample_weight=label_mask)\n",
    "\n",
    "    # input layer\n",
    "    input_chap = tf.keras.Input(shape=(MAXLENGTH))\n",
    "    input_sub_chap = tf.keras.Input(shape=(MAXLENGTH))\n",
    "    input_ques =  tf.keras.Input(shape=(MAXLENGTH))\n",
    "    #input_features = tf.keras.Input(shape=(MAXLENGTH, FEATURES_SIZE))\n",
    "\n",
    "    # embedding layer for categorical features\n",
    "    embedding_chap = Embedding(input_dim = CHAPTER_SIZE, output_dim = EMBEDDING_DIM)(input_chap)\n",
    "    embedding_sub_chap = Embedding(input_dim = SUB_CHAPTER_SIZE, output_dim = EMBEDDING_DIM)(input_sub_chap) \n",
    "    embedding_ques = Embedding(input_dim = QUESTION_SIZE, output_dim = EMBEDDING_DIM)(input_ques)       \n",
    "\n",
    "    # dense layer for numeric features\n",
    "    #dense_features = Dense(EMBEDDING_DIM,input_shape = (None, MAXLENGTH))(input_features)\n",
    "\n",
    "    # definr lstm layers\n",
    "    lstm_chap = LSTM(LSTM_NEURON, input_shape = (None, EMBEDDING_DIM),return_sequences = True)(embedding_chap)\n",
    "    lstm_sub_chap = LSTM(LSTM_NEURON, input_shape = (None, EMBEDDING_DIM),return_sequences = True)(embedding_sub_chap)\n",
    "    lstm_ques = LSTM(LSTM_NEURON, input_shape = (None, EMBEDDING_DIM),return_sequences = True)(embedding_ques)\n",
    "    #lstm_features = LSTM(LSTM_NEURON, input_shape = (None, EMBEDDING_DIM),return_sequences = True)(dense_features)\n",
    "\n",
    "    lstm_output = tf.concat([lstm_chap, lstm_sub_chap, lstm_ques], axis = 2)\n",
    "\n",
    "    dense1 = Dense(256, input_shape = (None, 3*EMBEDDING_DIM), activation='relu')(lstm_output)\n",
    "    dropout1 = Dropout(0.1)(dense1)\n",
    "    dense2 = Dense(64, input_shape = (None, 256), activation='relu')(dropout1)\n",
    "    dropout2 = Dropout(0.1)(dense2)\n",
    "    pred = Dense(1, input_shape = (None, 64), activation='sigmoid')(dropout2)\n",
    "\n",
    "    model = tf.keras.Model(\n",
    "        inputs=[input_chap, input_sub_chap,input_ques],\n",
    "        outputs=pred,\n",
    "        name='lstm_model'\n",
    "    )\n",
    "\n",
    "    callback = tf.keras.callbacks.EarlyStopping(monitor='val_loss', patience=10)\n",
    "    opt_adam = Adam(learning_rate = 0.005)\n",
    "    model.compile(\n",
    "        optimizer=opt_adam,\n",
    "        loss= masked_bce,\n",
    "        metrics = [masked_acc, masked_auc]\n",
    "    )\n",
    "\n",
    "    history = model.fit(\n",
    "      [train_chapter, train_sub_chapter, train_question],\n",
    "      train_labels,\n",
    "      batch_size = 64,\n",
    "      epochs = 100,\n",
    "      validation_data=([val_chapter, val_sub_chapter, val_question], val_labels),\n",
    "      callbacks=[callback]\n",
    "    )\n",
    "    val_losses.append(list(history.history['val_loss']))\n",
    "    train_losses.append(list(history.history['loss']))\n",
    "    val_aucs.append(list(history.history['val_masked_auc']))\n",
    "    train_aucs.append(list(history.history['masked_auc']))\n",
    "    train_score = model.evaluate([train_chapter, train_sub_chapter, train_question], train_labels)\n",
    "    train_eval.append(train_score)\n",
    "    test_score = model.evaluate([test_chapter, test_sub_chapter, test_question], test_labels)\n",
    "    test_eval.append(test_score)\n",
    "    print(\"Test: \", test_score)\n",
    "    def reset_weights(model):\n",
    "      for layer in model.layers: \n",
    "        if isinstance(layer, tf.keras.Model):\n",
    "          reset_weights(layer)\n",
    "          continue\n",
    "        for k, initializer in layer.__dict__.items():\n",
    "          if \"initializer\" not in k:\n",
    "            continue\n",
    "          # find the corresponding variable\n",
    "          var = getattr(layer, k.replace(\"_initializer\", \"\"))\n",
    "          var.assign(initializer(var.shape, var.dtype))\n",
    "    reset_weights(model)"
   ]
  },
  {
   "cell_type": "code",
   "execution_count": 31,
   "metadata": {
    "execution": {
     "iopub.execute_input": "2021-07-27T09:29:47.309103Z",
     "iopub.status.busy": "2021-07-27T09:29:47.308241Z",
     "iopub.status.idle": "2021-07-27T09:29:47.312126Z",
     "shell.execute_reply": "2021-07-27T09:29:47.312585Z",
     "shell.execute_reply.started": "2021-07-26T23:25:01.206544Z"
    },
    "id": "QsVmumHMz3lx",
    "outputId": "4ff1e2fa-6abb-458e-c729-495b456f53e5",
    "papermill": {
     "duration": 0.795066,
     "end_time": "2021-07-27T09:29:47.312768",
     "exception": false,
     "start_time": "2021-07-27T09:29:46.517702",
     "status": "completed"
    },
    "tags": []
   },
   "outputs": [
    {
     "name": "stdout",
     "output_type": "stream",
     "text": [
      "test avg loss:  1.828923511505127 +/- 0.17873865289287028\n",
      "test avg acc:  0.7837312459945679 +/- 0.002351350455120829\n",
      "test avg auc:  0.859558641910553 +/- 0.004872853879848918\n"
     ]
    }
   ],
   "source": [
    "t_eval = np.array(test_eval)\n",
    "print(\"test avg loss: \", np.mean(t_eval[:, 0]), \"+/-\" ,np.std(t_eval[:, 0]))\n",
    "print(\"test avg acc: \", np.mean(t_eval[:, 1]),  \"+/-\" ,np.std(t_eval[:, 1]))\n",
    "print(\"test avg auc: \", np.mean(t_eval[:, 2]), \"+/-\" ,np.std(t_eval[:, 2]))"
   ]
  },
  {
   "cell_type": "code",
   "execution_count": 32,
   "metadata": {
    "execution": {
     "iopub.execute_input": "2021-07-27T09:29:48.923460Z",
     "iopub.status.busy": "2021-07-27T09:29:48.922456Z",
     "iopub.status.idle": "2021-07-27T09:29:48.927648Z",
     "shell.execute_reply": "2021-07-27T09:29:48.926966Z",
     "shell.execute_reply.started": "2021-07-26T23:25:01.221267Z"
    },
    "id": "b9MM_CXWz5K6",
    "outputId": "4cf88e1d-3a74-4e7d-f92c-d01522e91757",
    "papermill": {
     "duration": 0.827492,
     "end_time": "2021-07-27T09:29:48.927806",
     "exception": false,
     "start_time": "2021-07-27T09:29:48.100314",
     "status": "completed"
    },
    "tags": []
   },
   "outputs": [
    {
     "name": "stdout",
     "output_type": "stream",
     "text": [
      "train avg loss:  0.23114622831344606 +/- 0.0119435355115976\n",
      "train avg acc:  0.7819933891296387 +/- 0.002293314201648285\n",
      "train avg auc:  0.8571552157402038 +/- 0.004928326376214253\n"
     ]
    }
   ],
   "source": [
    "t_eval = np.array(train_eval)\n",
    "print(\"train avg loss: \", np.mean(t_eval[:, 0]), \"+/-\" ,np.std(t_eval[:, 0]))\n",
    "print(\"train avg acc: \", np.mean(t_eval[:, 1]),  \"+/-\" ,np.std(t_eval[:, 1]))\n",
    "print(\"train avg auc: \", np.mean(t_eval[:, 2]), \"+/-\" ,np.std(t_eval[:, 2]))"
   ]
  }
 ],
 "metadata": {
  "kernelspec": {
   "display_name": "Python 3",
   "language": "python",
   "name": "python3"
  },
  "language_info": {
   "codemirror_mode": {
    "name": "ipython",
    "version": 3
   },
   "file_extension": ".py",
   "mimetype": "text/x-python",
   "name": "python",
   "nbconvert_exporter": "python",
   "pygments_lexer": "ipython3",
   "version": "3.8.5"
  },
  "papermill": {
   "default_parameters": {},
   "duration": 2048.274581,
   "end_time": "2021-07-27T09:29:52.353552",
   "environment_variables": {},
   "exception": null,
   "input_path": "__notebook__.ipynb",
   "output_path": "__notebook__.ipynb",
   "parameters": {},
   "start_time": "2021-07-27T08:55:44.078971",
   "version": "2.3.3"
  }
 },
 "nbformat": 4,
 "nbformat_minor": 5
}
