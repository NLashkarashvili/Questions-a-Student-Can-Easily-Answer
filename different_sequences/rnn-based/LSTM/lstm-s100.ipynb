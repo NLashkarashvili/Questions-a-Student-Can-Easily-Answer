{
 "cells": [
  {
   "cell_type": "code",
   "execution_count": 1,
   "metadata": {
    "execution": {
     "iopub.execute_input": "2021-07-26T22:31:27.161649Z",
     "iopub.status.busy": "2021-07-26T22:31:27.160978Z",
     "iopub.status.idle": "2021-07-26T22:31:33.926380Z",
     "shell.execute_reply": "2021-07-26T22:31:33.925221Z",
     "shell.execute_reply.started": "2021-07-26T22:31:27.161555Z"
    },
    "id": "farifxiKU1aB"
   },
   "outputs": [],
   "source": [
    "import numpy as np\n",
    "import pandas as pd\n",
    "import warnings\n",
    "import gc\n",
    "import tensorflow as tf\n",
    "from tensorflow import keras\n",
    "\n",
    "import random\n",
    "from random import choice\n",
    "from tensorflow.keras.optimizers import Adam\n",
    "from tensorflow.keras.models import Sequential \n",
    "from tensorflow.keras.layers import Dense, LSTM, Concatenate, Embedding, Flatten, Activation, Dropout\n",
    "from sklearn.model_selection import KFold\n",
    "from tensorflow.python.client import device_lib\n",
    "warnings.filterwarnings('ignore')\n",
    "import random"
   ]
  },
  {
   "cell_type": "code",
   "execution_count": 2,
   "metadata": {
    "execution": {
     "iopub.execute_input": "2021-07-26T22:31:33.928726Z",
     "iopub.status.busy": "2021-07-26T22:31:33.928324Z",
     "iopub.status.idle": "2021-07-26T22:31:33.934519Z",
     "shell.execute_reply": "2021-07-26T22:31:33.933010Z",
     "shell.execute_reply.started": "2021-07-26T22:31:33.928684Z"
    },
    "id": "QOson70GPOXb"
   },
   "outputs": [],
   "source": [
    "import gc"
   ]
  },
  {
   "cell_type": "markdown",
   "metadata": {
    "id": "BQsVybBH3VPw"
   },
   "source": [
    "## Data Preprocessing"
   ]
  },
  {
   "cell_type": "code",
   "execution_count": 3,
   "metadata": {
    "execution": {
     "iopub.execute_input": "2021-07-26T22:31:33.938067Z",
     "iopub.status.busy": "2021-07-26T22:31:33.937617Z",
     "iopub.status.idle": "2021-07-26T22:31:40.826184Z",
     "shell.execute_reply": "2021-07-26T22:31:40.825133Z",
     "shell.execute_reply.started": "2021-07-26T22:31:33.938025Z"
    },
    "id": "rwtTusGxrmAE",
    "outputId": "1430f3cf-038b-485e-b5c4-c1686b1f34fd"
   },
   "outputs": [
    {
     "data": {
      "text/html": [
       "<div>\n",
       "<style scoped>\n",
       "    .dataframe tbody tr th:only-of-type {\n",
       "        vertical-align: middle;\n",
       "    }\n",
       "\n",
       "    .dataframe tbody tr th {\n",
       "        vertical-align: top;\n",
       "    }\n",
       "\n",
       "    .dataframe thead th {\n",
       "        text-align: right;\n",
       "    }\n",
       "</style>\n",
       "<table border=\"1\" class=\"dataframe\">\n",
       "  <thead>\n",
       "    <tr style=\"text-align: right;\">\n",
       "      <th></th>\n",
       "      <th>Unnamed: 0</th>\n",
       "      <th>chapter_label</th>\n",
       "      <th>sub_chapter_label</th>\n",
       "      <th>question_name</th>\n",
       "      <th>user_id.x</th>\n",
       "      <th>term</th>\n",
       "      <th>STDNT_SEX_CD</th>\n",
       "      <th>NonNativeEnglish</th>\n",
       "      <th>White</th>\n",
       "      <th>Asian</th>\n",
       "      <th>...</th>\n",
       "      <th>classGraded</th>\n",
       "      <th>classHonors</th>\n",
       "      <th>Pass_Fail</th>\n",
       "      <th>parentsGraduateEdu</th>\n",
       "      <th>minorityGroup</th>\n",
       "      <th>q</th>\n",
       "      <th>day's_available_flashcards</th>\n",
       "      <th>start_practice</th>\n",
       "      <th>end_practice</th>\n",
       "      <th>days_offset</th>\n",
       "    </tr>\n",
       "  </thead>\n",
       "  <tbody>\n",
       "    <tr>\n",
       "      <th>0</th>\n",
       "      <td>1</td>\n",
       "      <td>Sort</td>\n",
       "      <td>intro-SortingwithSortandSorted</td>\n",
       "      <td>ee_sort_04</td>\n",
       "      <td>148</td>\n",
       "      <td>WN 2018</td>\n",
       "      <td>1</td>\n",
       "      <td>0</td>\n",
       "      <td>1</td>\n",
       "      <td>0</td>\n",
       "      <td>...</td>\n",
       "      <td>1</td>\n",
       "      <td>0</td>\n",
       "      <td>0</td>\n",
       "      <td>0</td>\n",
       "      <td>0</td>\n",
       "      <td>0</td>\n",
       "      <td>18</td>\n",
       "      <td>2018-03-04 20:00:19</td>\n",
       "      <td>2018-03-04 20:00:35</td>\n",
       "      <td>45</td>\n",
       "    </tr>\n",
       "    <tr>\n",
       "      <th>1</th>\n",
       "      <td>2</td>\n",
       "      <td>Functions</td>\n",
       "      <td>Returningavaluefromafunction</td>\n",
       "      <td>test_questionfunctions_2_3</td>\n",
       "      <td>148</td>\n",
       "      <td>WN 2018</td>\n",
       "      <td>1</td>\n",
       "      <td>0</td>\n",
       "      <td>1</td>\n",
       "      <td>0</td>\n",
       "      <td>...</td>\n",
       "      <td>1</td>\n",
       "      <td>0</td>\n",
       "      <td>0</td>\n",
       "      <td>0</td>\n",
       "      <td>0</td>\n",
       "      <td>4</td>\n",
       "      <td>16</td>\n",
       "      <td>2018-02-10 11:57:55</td>\n",
       "      <td>2018-02-10 11:58:35</td>\n",
       "      <td>23</td>\n",
       "    </tr>\n",
       "    <tr>\n",
       "      <th>2</th>\n",
       "      <td>3</td>\n",
       "      <td>RESTAPIs</td>\n",
       "      <td>functionswithrestapis</td>\n",
       "      <td>test_question_functions_rest_apis_1</td>\n",
       "      <td>148</td>\n",
       "      <td>WN 2018</td>\n",
       "      <td>1</td>\n",
       "      <td>0</td>\n",
       "      <td>1</td>\n",
       "      <td>0</td>\n",
       "      <td>...</td>\n",
       "      <td>1</td>\n",
       "      <td>0</td>\n",
       "      <td>0</td>\n",
       "      <td>0</td>\n",
       "      <td>0</td>\n",
       "      <td>1</td>\n",
       "      <td>2</td>\n",
       "      <td>2018-03-12 17:03:07</td>\n",
       "      <td>2018-03-12 17:04:28</td>\n",
       "      <td>53</td>\n",
       "    </tr>\n",
       "    <tr>\n",
       "      <th>3</th>\n",
       "      <td>4</td>\n",
       "      <td>SimplePythonData</td>\n",
       "      <td>FunctionCalls</td>\n",
       "      <td>exercise_functionCalls_1</td>\n",
       "      <td>148</td>\n",
       "      <td>WN 2018</td>\n",
       "      <td>1</td>\n",
       "      <td>0</td>\n",
       "      <td>1</td>\n",
       "      <td>0</td>\n",
       "      <td>...</td>\n",
       "      <td>1</td>\n",
       "      <td>0</td>\n",
       "      <td>0</td>\n",
       "      <td>0</td>\n",
       "      <td>0</td>\n",
       "      <td>0</td>\n",
       "      <td>10</td>\n",
       "      <td>2018-01-30 14:15:49</td>\n",
       "      <td>2018-01-30 14:15:58</td>\n",
       "      <td>12</td>\n",
       "    </tr>\n",
       "    <tr>\n",
       "      <th>4</th>\n",
       "      <td>5</td>\n",
       "      <td>DictionaryAccumulation</td>\n",
       "      <td>AccumulatingaMaximumValue</td>\n",
       "      <td>ps_04_07</td>\n",
       "      <td>148</td>\n",
       "      <td>WN 2018</td>\n",
       "      <td>1</td>\n",
       "      <td>0</td>\n",
       "      <td>1</td>\n",
       "      <td>0</td>\n",
       "      <td>...</td>\n",
       "      <td>1</td>\n",
       "      <td>0</td>\n",
       "      <td>0</td>\n",
       "      <td>0</td>\n",
       "      <td>0</td>\n",
       "      <td>0</td>\n",
       "      <td>23</td>\n",
       "      <td>2018-03-03 14:04:17</td>\n",
       "      <td>2018-03-03 14:04:25</td>\n",
       "      <td>44</td>\n",
       "    </tr>\n",
       "  </tbody>\n",
       "</table>\n",
       "<p>5 rows × 48 columns</p>\n",
       "</div>"
      ],
      "text/plain": [
       "   Unnamed: 0           chapter_label               sub_chapter_label  \\\n",
       "0           1                    Sort  intro-SortingwithSortandSorted   \n",
       "1           2               Functions    Returningavaluefromafunction   \n",
       "2           3                RESTAPIs           functionswithrestapis   \n",
       "3           4        SimplePythonData                   FunctionCalls   \n",
       "4           5  DictionaryAccumulation       AccumulatingaMaximumValue   \n",
       "\n",
       "                         question_name  user_id.x     term  STDNT_SEX_CD  \\\n",
       "0                           ee_sort_04        148  WN 2018             1   \n",
       "1           test_questionfunctions_2_3        148  WN 2018             1   \n",
       "2  test_question_functions_rest_apis_1        148  WN 2018             1   \n",
       "3             exercise_functionCalls_1        148  WN 2018             1   \n",
       "4                             ps_04_07        148  WN 2018             1   \n",
       "\n",
       "   NonNativeEnglish  White  Asian  ...  classGraded  classHonors  Pass_Fail  \\\n",
       "0                 0      1      0  ...            1            0          0   \n",
       "1                 0      1      0  ...            1            0          0   \n",
       "2                 0      1      0  ...            1            0          0   \n",
       "3                 0      1      0  ...            1            0          0   \n",
       "4                 0      1      0  ...            1            0          0   \n",
       "\n",
       "   parentsGraduateEdu  minorityGroup  q  day's_available_flashcards  \\\n",
       "0                   0              0  0                          18   \n",
       "1                   0              0  4                          16   \n",
       "2                   0              0  1                           2   \n",
       "3                   0              0  0                          10   \n",
       "4                   0              0  0                          23   \n",
       "\n",
       "        start_practice         end_practice  days_offset  \n",
       "0  2018-03-04 20:00:19  2018-03-04 20:00:35           45  \n",
       "1  2018-02-10 11:57:55  2018-02-10 11:58:35           23  \n",
       "2  2018-03-12 17:03:07  2018-03-12 17:04:28           53  \n",
       "3  2018-01-30 14:15:49  2018-01-30 14:15:58           12  \n",
       "4  2018-03-03 14:04:17  2018-03-03 14:04:25           44  \n",
       "\n",
       "[5 rows x 48 columns]"
      ]
     },
     "execution_count": 3,
     "metadata": {},
     "output_type": "execute_result"
    }
   ],
   "source": [
    "# load the data\n",
    "import pandas as pd\n",
    "dataframe = pd.read_csv('../input/practice-log-demographics/Practice_Log_Demographics (1).csv', low_memory=False)\n",
    "dataframe.head()"
   ]
  },
  {
   "cell_type": "code",
   "execution_count": 4,
   "metadata": {
    "execution": {
     "iopub.execute_input": "2021-07-26T22:31:40.828764Z",
     "iopub.status.busy": "2021-07-26T22:31:40.828180Z",
     "iopub.status.idle": "2021-07-26T22:31:42.417789Z",
     "shell.execute_reply": "2021-07-26T22:31:42.417005Z",
     "shell.execute_reply.started": "2021-07-26T22:31:40.828717Z"
    },
    "id": "OCbHnEp_Vir0"
   },
   "outputs": [],
   "source": [
    "#sort data based on timestamp\n",
    "dataframe = dataframe.sort_values(by=['start_practice'])"
   ]
  },
  {
   "cell_type": "code",
   "execution_count": 5,
   "metadata": {
    "execution": {
     "iopub.execute_input": "2021-07-26T22:31:42.419779Z",
     "iopub.status.busy": "2021-07-26T22:31:42.419221Z",
     "iopub.status.idle": "2021-07-26T22:31:42.427765Z",
     "shell.execute_reply": "2021-07-26T22:31:42.426908Z",
     "shell.execute_reply.started": "2021-07-26T22:31:42.419740Z"
    },
    "id": "0RvF7BvEr98o"
   },
   "outputs": [],
   "source": [
    "FEATURES = ['chapter_label', 'sub_chapter_label','question_name','user_id','term',\n",
    "            'STDNT_SEX_CD', \n",
    "            'NonNativeEnglish',\n",
    "            'White',\n",
    "            'Asian',\n",
    "            'WhiteOrAsian',\n",
    "            'Hispanic',\n",
    "            'AfricanAmerican',\n",
    "            'OtherEthnicities',\n",
    "            'NonWhiteOrAsian',\n",
    "            'STDNT_CTZN_STAT_CD', 'international', \n",
    "            'gradingType',\n",
    "            'birthYear',\n",
    "            'exclClassCumGPA',\n",
    "            'Freshman',\n",
    "            'Junior',\n",
    "            'Sophomore',\n",
    "            'Senior',\n",
    "            'termCreditsGPA',\n",
    "            'termCreditsNoGPA',\n",
    "            'athlete_1',\n",
    "            'honorsPro',\n",
    "            'LSA', 'programBusiness', 'programEngineering', \n",
    "            'programInformation', 'programOther',\n",
    "            'HSCalculusTaken', \n",
    "            'highSchoolGPA', \n",
    "            'majorsCount', 'minorsCount',\n",
    "            'PREV_TERM_CUM_GPA',\n",
    "            'classGraded', 'classHonors', \n",
    "            'Pass_Fail', \n",
    "            'parentsGraduateEdu',  'minorityGroup', \n",
    "            'q',\n",
    "            'available_flashcards', \n",
    "            'start_practice', \n",
    "            'end_practice',\n",
    "            'days_offset']"
   ]
  },
  {
   "cell_type": "code",
   "execution_count": 6,
   "metadata": {
    "execution": {
     "iopub.execute_input": "2021-07-26T22:31:42.430053Z",
     "iopub.status.busy": "2021-07-26T22:31:42.429324Z",
     "iopub.status.idle": "2021-07-26T22:31:42.975143Z",
     "shell.execute_reply": "2021-07-26T22:31:42.974180Z",
     "shell.execute_reply.started": "2021-07-26T22:31:42.430009Z"
    },
    "id": "Mn341X7lSztl"
   },
   "outputs": [],
   "source": [
    "dataframe['available_flashcards'] = dataframe[\"day's_available_flashcards\"][:]\n",
    "dataframe = dataframe.drop([\"day's_available_flashcards\"], axis=1)\n",
    "dataframe['user_id'] = dataframe[\"user_id.x\"][:]\n",
    "dataframe = dataframe.drop([\"user_id.x\"], axis=1)"
   ]
  },
  {
   "cell_type": "code",
   "execution_count": 7,
   "metadata": {
    "execution": {
     "iopub.execute_input": "2021-07-26T22:31:42.977711Z",
     "iopub.status.busy": "2021-07-26T22:31:42.977257Z",
     "iopub.status.idle": "2021-07-26T22:31:43.257472Z",
     "shell.execute_reply": "2021-07-26T22:31:43.256187Z",
     "shell.execute_reply.started": "2021-07-26T22:31:42.977668Z"
    },
    "id": "-_BRggOjbBjN",
    "outputId": "42bff7db-08dd-48dc-a73a-d048508053b7"
   },
   "outputs": [
    {
     "data": {
      "text/plain": [
       "44"
      ]
     },
     "execution_count": 7,
     "metadata": {},
     "output_type": "execute_result"
    }
   ],
   "source": [
    "gc.collect()"
   ]
  },
  {
   "cell_type": "code",
   "execution_count": 8,
   "metadata": {
    "execution": {
     "iopub.execute_input": "2021-07-26T22:31:43.259272Z",
     "iopub.status.busy": "2021-07-26T22:31:43.258949Z",
     "iopub.status.idle": "2021-07-26T22:31:43.581076Z",
     "shell.execute_reply": "2021-07-26T22:31:43.580124Z",
     "shell.execute_reply.started": "2021-07-26T22:31:43.259242Z"
    },
    "id": "lXM7MlonVeRL",
    "outputId": "d29ccec0-522f-4e3c-e0b2-39b2e1eaef74"
   },
   "outputs": [
    {
     "data": {
      "text/plain": [
       "22"
      ]
     },
     "execution_count": 8,
     "metadata": {},
     "output_type": "execute_result"
    }
   ],
   "source": [
    "dataframe = dataframe[FEATURES]\n",
    "gc.collect()"
   ]
  },
  {
   "cell_type": "code",
   "execution_count": 9,
   "metadata": {
    "execution": {
     "iopub.execute_input": "2021-07-26T22:31:43.584407Z",
     "iopub.status.busy": "2021-07-26T22:31:43.584117Z",
     "iopub.status.idle": "2021-07-26T22:31:45.241928Z",
     "shell.execute_reply": "2021-07-26T22:31:45.240959Z",
     "shell.execute_reply.started": "2021-07-26T22:31:43.584378Z"
    },
    "id": "qRKqF_0IXZgj"
   },
   "outputs": [],
   "source": [
    "#label encode term, chapter_label, question_name, sub_chapter_label columns\n",
    "dataframe['term'] = dataframe['term'].astype('category')\n",
    "dataframe['user_id'] = dataframe['user_id'].astype(int)\n",
    "dataframe['user_id'] = dataframe['user_id'].astype(str)\n",
    "dataframe['user_id'] = dataframe['term'].str.cat(dataframe['user_id'], sep=':')\n",
    "dataframe['user_id'] = dataframe['user_id'].astype('category')\n",
    "dataframe['chapter_label'] = dataframe['chapter_label'].astype('category')\n",
    "dataframe['sub_chapter_label'] = dataframe['sub_chapter_label'].astype('category')\n",
    "dataframe['question_name'] = dataframe['question_name'].astype('category')\n"
   ]
  },
  {
   "cell_type": "code",
   "execution_count": 10,
   "metadata": {
    "execution": {
     "iopub.execute_input": "2021-07-26T22:31:45.245104Z",
     "iopub.status.busy": "2021-07-26T22:31:45.244515Z",
     "iopub.status.idle": "2021-07-26T22:31:45.877147Z",
     "shell.execute_reply": "2021-07-26T22:31:45.875949Z",
     "shell.execute_reply.started": "2021-07-26T22:31:45.245057Z"
    },
    "id": "eVl_067GWkDe"
   },
   "outputs": [],
   "source": [
    "#calculate time_lag and prev_time_elapsed\n",
    "dataframe['prev_time_elapsed'] = None\n",
    "dataframe['time_lag'] = None\n",
    "dataframe['time_lag'] = dataframe['time_lag'].astype(np.float)\n",
    "dataframe['prev_time_elapsed'] = dataframe['prev_time_elapsed'].astype(np.float)\n",
    "dataframe.start_practice = pd.to_datetime(dataframe.start_practice, format='%Y-%m-%d %H:%M:%S')\n",
    "dataframe.end_practice = pd.to_datetime(dataframe.end_practice, format='%Y-%m-%d %H:%M:%S')"
   ]
  },
  {
   "cell_type": "code",
   "execution_count": 11,
   "metadata": {
    "execution": {
     "iopub.execute_input": "2021-07-26T22:31:45.879158Z",
     "iopub.status.busy": "2021-07-26T22:31:45.878707Z",
     "iopub.status.idle": "2021-07-26T22:31:45.927762Z",
     "shell.execute_reply": "2021-07-26T22:31:45.926510Z",
     "shell.execute_reply.started": "2021-07-26T22:31:45.879117Z"
    }
   },
   "outputs": [],
   "source": [
    "dataframe['dif'] = dataframe.end_practice - dataframe.start_practice\n",
    "dataframe['dif'] = dataframe['dif'] /np.timedelta64(1, 's')\n",
    "dataframe['answer_correct'] = np.where((dataframe['q']==5) & (dataframe['dif'] <= 60), 1, 0)"
   ]
  },
  {
   "cell_type": "code",
   "execution_count": 13,
   "metadata": {
    "execution": {
     "iopub.execute_input": "2021-07-26T22:32:06.184526Z",
     "iopub.status.busy": "2021-07-26T22:32:06.184127Z",
     "iopub.status.idle": "2021-07-26T22:32:06.264874Z",
     "shell.execute_reply": "2021-07-26T22:32:06.263758Z",
     "shell.execute_reply.started": "2021-07-26T22:32:06.184486Z"
    },
    "id": "8t8yZ0XvWwzz"
   },
   "outputs": [],
   "source": [
    "#drop column end_practice\n",
    "dataframe.drop(columns=['end_practice'], inplace=True)"
   ]
  },
  {
   "cell_type": "code",
   "execution_count": 14,
   "metadata": {
    "execution": {
     "iopub.execute_input": "2021-07-26T22:32:06.266854Z",
     "iopub.status.busy": "2021-07-26T22:32:06.266473Z",
     "iopub.status.idle": "2021-07-26T22:32:06.726305Z",
     "shell.execute_reply": "2021-07-26T22:32:06.725096Z",
     "shell.execute_reply.started": "2021-07-26T22:32:06.266815Z"
    },
    "id": "E42raRIrYYXz"
   },
   "outputs": [],
   "source": [
    "# calculate the age feature\n",
    "dataframe['term_value'] = [int(ele[3:]) for ele in dataframe['term']]\n",
    "dataframe['age'] = dataframe['term_value'] - dataframe['birthYear']"
   ]
  },
  {
   "cell_type": "code",
   "execution_count": 15,
   "metadata": {
    "execution": {
     "iopub.execute_input": "2021-07-26T22:32:06.728114Z",
     "iopub.status.busy": "2021-07-26T22:32:06.727777Z",
     "iopub.status.idle": "2021-07-26T22:32:06.938684Z",
     "shell.execute_reply": "2021-07-26T22:32:06.937462Z",
     "shell.execute_reply.started": "2021-07-26T22:32:06.728084Z"
    },
    "id": "pcMVQXueYnMh"
   },
   "outputs": [],
   "source": [
    "# drop term_value and birthYear column\n",
    "dataframe.drop(columns=['term_value', 'birthYear'], inplace=True)"
   ]
  },
  {
   "cell_type": "code",
   "execution_count": 16,
   "metadata": {
    "execution": {
     "iopub.execute_input": "2021-07-26T22:32:06.940409Z",
     "iopub.status.busy": "2021-07-26T22:32:06.940127Z",
     "iopub.status.idle": "2021-07-26T22:32:07.424363Z",
     "shell.execute_reply": "2021-07-26T22:32:07.423373Z",
     "shell.execute_reply.started": "2021-07-26T22:32:06.940381Z"
    },
    "id": "hjRF5szkcQE0"
   },
   "outputs": [],
   "source": [
    "# convert minors_count to int value\n",
    "new_minors_count = []\n",
    "for i in dataframe['minorsCount']:\n",
    "  if i == 0 or i == '0':\n",
    "    new_minors_count.append(0)\n",
    "  elif i == '1 Minor':\n",
    "    new_minors_count.append(1)\n",
    "  else:\n",
    "    new_minors_count.append(2)\n",
    "\n",
    "dataframe['minorsCount'] = new_minors_count"
   ]
  },
  {
   "cell_type": "code",
   "execution_count": 17,
   "metadata": {
    "execution": {
     "iopub.execute_input": "2021-07-26T22:32:07.425987Z",
     "iopub.status.busy": "2021-07-26T22:32:07.425676Z",
     "iopub.status.idle": "2021-07-26T22:32:07.440709Z",
     "shell.execute_reply": "2021-07-26T22:32:07.440005Z",
     "shell.execute_reply.started": "2021-07-26T22:32:07.425944Z"
    },
    "id": "9VdzvJSw0KUU",
    "outputId": "6393784f-234e-4935-9cee-cbcf56b5630a"
   },
   "outputs": [
    {
     "name": "stdout",
     "output_type": "stream",
     "text": [
      "we have  1110  users in total.\n"
     ]
    }
   ],
   "source": [
    "print(\"we have \", dataframe['user_id'].nunique(),\" users in total.\")"
   ]
  },
  {
   "cell_type": "code",
   "execution_count": 18,
   "metadata": {
    "execution": {
     "iopub.execute_input": "2021-07-26T22:32:07.442302Z",
     "iopub.status.busy": "2021-07-26T22:32:07.442010Z",
     "iopub.status.idle": "2021-07-26T22:32:07.451476Z",
     "shell.execute_reply": "2021-07-26T22:32:07.450425Z",
     "shell.execute_reply.started": "2021-07-26T22:32:07.442273Z"
    },
    "id": "hUaGk9L9g13t"
   },
   "outputs": [],
   "source": [
    "for category in ['term','chapter_label', 'sub_chapter_label', 'question_name']:\n",
    "  dataframe[category] =  dataframe[category].cat.codes"
   ]
  },
  {
   "cell_type": "code",
   "execution_count": 19,
   "metadata": {
    "execution": {
     "iopub.execute_input": "2021-07-26T22:32:07.453846Z",
     "iopub.status.busy": "2021-07-26T22:32:07.453383Z",
     "iopub.status.idle": "2021-07-26T22:32:07.845084Z",
     "shell.execute_reply": "2021-07-26T22:32:07.843932Z",
     "shell.execute_reply.started": "2021-07-26T22:32:07.453803Z"
    },
    "id": "hkyvcYvlhliG"
   },
   "outputs": [],
   "source": [
    "NUMERIC_FEATURE =  ['age',\n",
    "            'exclClassCumGPA',\n",
    "            'termCreditsGPA',\n",
    "            'termCreditsNoGPA',\n",
    "            'highSchoolGPA', \n",
    "            'majorsCount', 'minorsCount',\n",
    "            'PREV_TERM_CUM_GPA',\n",
    "            'available_flashcards', \n",
    "            'days_offset', \n",
    "            'prev_time_elapsed',\n",
    "             'time_lag']\n",
    "# z-score normalize the numerical features\n",
    "for f in NUMERIC_FEATURE:\n",
    "  m = dataframe[f].mean()\n",
    "  std = dataframe[f].std()\n",
    "  dataframe[f] = (dataframe[f] - m)/std"
   ]
  },
  {
   "cell_type": "code",
   "execution_count": 20,
   "metadata": {
    "execution": {
     "iopub.execute_input": "2021-07-26T22:32:07.846770Z",
     "iopub.status.busy": "2021-07-26T22:32:07.846508Z",
     "iopub.status.idle": "2021-07-26T22:32:11.725072Z",
     "shell.execute_reply": "2021-07-26T22:32:11.724333Z",
     "shell.execute_reply.started": "2021-07-26T22:32:07.846743Z"
    },
    "id": "wo2OH-d5kWp1"
   },
   "outputs": [],
   "source": [
    "FEATURE_TRANS =  ['answer_correct', 'chapter_label', 'sub_chapter_label','question_name','user_id','term',\n",
    "                  'STDNT_SEX_CD', \n",
    "                    'White','Asian','NonWhiteOrAsian',\n",
    "            'STDNT_CTZN_STAT_CD', 'international', \n",
    "            'age',\n",
    "            'exclClassCumGPA',\n",
    "           'Freshman',\n",
    "            'Junior',\n",
    "            'Sophomore',\n",
    "            'Senior',\n",
    "            'termCreditsGPA',\n",
    "            'termCreditsNoGPA',\n",
    "            'athlete_1',\n",
    "            'honorsPro',\n",
    "            'LSA', 'programBusiness', 'programEngineering', \n",
    "            'programInformation', 'programOther',\n",
    "            'HSCalculusTaken', \n",
    "            'highSchoolGPA', \n",
    "            'majorsCount', 'minorsCount',\n",
    "            'PREV_TERM_CUM_GPA',\n",
    "            'classGraded', 'classHonors', \n",
    "            'Pass_Fail', \n",
    "            'parentsGraduateEdu',  'minorityGroup', \n",
    "            'available_flashcards', \n",
    "            'days_offset', 'prev_time_elapsed',\n",
    "             'time_lag']\n",
    "grouped_data = dataframe[FEATURE_TRANS].groupby(['user_id']).apply(lambda r: (\n",
    "                r['answer_correct'],\n",
    "                r['term'],\n",
    "                r['chapter_label'],\n",
    "                r['sub_chapter_label'],\n",
    "                r['question_name'],\n",
    "                np.array([r['STDNT_SEX_CD'],r['STDNT_CTZN_STAT_CD'], r['international'], \n",
    "                  r['White'],r['Asian'],r['NonWhiteOrAsian'],\n",
    "                 r['age'],r['exclClassCumGPA'],\n",
    "                r['Freshman'], r['Junior'], r['Sophomore'], r['Senior'],\n",
    "                r['termCreditsGPA'], r['termCreditsNoGPA'],\n",
    "                r['athlete_1'], r['honorsPro'],\n",
    "                r['LSA'], r['programBusiness'], r['programEngineering'], \n",
    "                r['programInformation'], r['programOther'],\n",
    "                r['HSCalculusTaken'],  r['highSchoolGPA'], \n",
    "                r['majorsCount'], r['minorsCount'],\n",
    "                r['PREV_TERM_CUM_GPA'], \n",
    "                r['parentsGraduateEdu'], r['minorityGroup'],\n",
    "                r['available_flashcards'],\n",
    "                r['days_offset'],\n",
    "                r['prev_time_elapsed'],\n",
    "                r['time_lag']\n",
    "              ]).transpose()\n",
    "                ))"
   ]
  },
  {
   "cell_type": "code",
   "execution_count": 21,
   "metadata": {
    "execution": {
     "iopub.execute_input": "2021-07-26T22:32:11.726954Z",
     "iopub.status.busy": "2021-07-26T22:32:11.726357Z",
     "iopub.status.idle": "2021-07-26T22:32:11.917127Z",
     "shell.execute_reply": "2021-07-26T22:32:11.915919Z",
     "shell.execute_reply.started": "2021-07-26T22:32:11.726913Z"
    },
    "id": "XXLqQnjrlp_4",
    "outputId": "c801da79-f0bf-4fe5-b19c-7c799fe01556"
   },
   "outputs": [
    {
     "data": {
      "text/plain": [
       "22"
      ]
     },
     "execution_count": 21,
     "metadata": {},
     "output_type": "execute_result"
    }
   ],
   "source": [
    "gc.collect()"
   ]
  },
  {
   "cell_type": "code",
   "execution_count": 22,
   "metadata": {
    "execution": {
     "iopub.execute_input": "2021-07-26T22:32:11.919333Z",
     "iopub.status.busy": "2021-07-26T22:32:11.918896Z",
     "iopub.status.idle": "2021-07-26T22:32:11.965462Z",
     "shell.execute_reply": "2021-07-26T22:32:11.964733Z",
     "shell.execute_reply.started": "2021-07-26T22:32:11.919268Z"
    },
    "id": "QYGQasdTrmP0"
   },
   "outputs": [],
   "source": [
    "# remove students who don't have make any interactions with the tool\n",
    "toRemove = []\n",
    "for index in grouped_data.index:\n",
    "  if len(grouped_data[index][0]) <= 10:\n",
    "    toRemove.append(index)\n",
    "grouped_data = grouped_data.drop(index=toRemove)"
   ]
  },
  {
   "cell_type": "code",
   "execution_count": 23,
   "metadata": {
    "execution": {
     "iopub.execute_input": "2021-07-26T22:32:11.967325Z",
     "iopub.status.busy": "2021-07-26T22:32:11.966793Z",
     "iopub.status.idle": "2021-07-26T22:32:11.971250Z",
     "shell.execute_reply": "2021-07-26T22:32:11.970387Z",
     "shell.execute_reply.started": "2021-07-26T22:32:11.967277Z"
    },
    "id": "9kZqV9siDyNb"
   },
   "outputs": [],
   "source": [
    "#SETTINGS -> can be modified at any time\n",
    "MAXLENGTH = 100\n",
    "EMBEDDING_DIM = 128\n",
    "DENSE_NEURON = 16\n",
    "LSTM_NEURON = 32"
   ]
  },
  {
   "cell_type": "code",
   "execution_count": 24,
   "metadata": {
    "execution": {
     "iopub.execute_input": "2021-07-26T22:32:11.973019Z",
     "iopub.status.busy": "2021-07-26T22:32:11.972434Z",
     "iopub.status.idle": "2021-07-26T22:32:11.983257Z",
     "shell.execute_reply": "2021-07-26T22:32:11.982235Z",
     "shell.execute_reply.started": "2021-07-26T22:32:11.972990Z"
    },
    "id": "1MksD1JizpPn"
   },
   "outputs": [],
   "source": [
    "#FEATURES_SIZE = 38\n",
    "CHAPTER_SIZE = 38\n",
    "SUB_CHAPTER_SIZE = 223\n",
    "QUESTION_SIZE = 1069"
   ]
  },
  {
   "cell_type": "code",
   "execution_count": 25,
   "metadata": {
    "execution": {
     "iopub.execute_input": "2021-07-26T22:32:11.985303Z",
     "iopub.status.busy": "2021-07-26T22:32:11.984694Z",
     "iopub.status.idle": "2021-07-26T22:32:12.003001Z",
     "shell.execute_reply": "2021-07-26T22:32:12.002307Z",
     "shell.execute_reply.started": "2021-07-26T22:32:11.985272Z"
    }
   },
   "outputs": [
    {
     "data": {
      "text/plain": [
       "array([ 96,  86,  88,  28,  12,  82, 125,  32,  69,  33,  21, 115, 120,\n",
       "       119,  91,  73,  57,  77, 117,  40,  74,  41,  68,  39,  92,  47,\n",
       "       104,  95,  53,  49,  50,  16,  52,  55,   7,  15,  51, 102, 103,\n",
       "        11,  94, 108, 100,  17,  67,  63,  13, 139,  26,  25,   8, 107,\n",
       "         0,  90,  48,  54, 138,   1,   2,   3,  34,  35,  85,   5,  24,\n",
       "        37,  36,  78,  70,  45, 142,  71,  10,  89, 111, 112, 109, 116,\n",
       "        76,  72, 148, 134, 146, 221, 143,  56,  60,  61,  23, 140, 106,\n",
       "        42,  83,  22, 145, 136, 144,  38,   4,  19, 137,  75,  43,  98,\n",
       "        84, 113, 173, 174, 175, 176, 177, 178, 180, 181, 182, 187, 189,\n",
       "       190, 191, 192, 193, 195, 197, 151, 152, 153, 156, 157, 158, 159,\n",
       "       160, 161, 163, 164, 165, 166, 167, 168, 169, 170, 171, 172, 198,\n",
       "       199, 200, 201, 202, 203, 204, 205, 206, 207, 208, 209, 210, 162,\n",
       "       179, 186, 188, 194, 183, 184, 185, 211, 212, 213, 154, 155, 196,\n",
       "         6, 118,  18, 215,  46, 216, 141,  27, 217, 105, 123, 218, 101,\n",
       "       124, 219, 122, 220,  58,  59,  64,  20,  93,  65,  66,   9,  44,\n",
       "        30,  14,  79, 121,  31, 110, 129,  87,  97,  62, 149, 132, 131,\n",
       "       150, 130, 128,  99, 147, 127, 214, 135,  80, 126, 133,  81, 114,\n",
       "        29], dtype=int16)"
      ]
     },
     "execution_count": 25,
     "metadata": {},
     "output_type": "execute_result"
    }
   ],
   "source": [
    "dataframe['sub_chapter_label'].unique()"
   ]
  },
  {
   "cell_type": "code",
   "execution_count": 26,
   "metadata": {
    "execution": {
     "iopub.execute_input": "2021-07-26T22:32:12.005001Z",
     "iopub.status.busy": "2021-07-26T22:32:12.004270Z",
     "iopub.status.idle": "2021-07-26T22:32:13.075657Z",
     "shell.execute_reply": "2021-07-26T22:32:13.074921Z",
     "shell.execute_reply.started": "2021-07-26T22:32:12.004967Z"
    },
    "id": "mY3Thp6d0NaT"
   },
   "outputs": [],
   "source": [
    "#create dataset class\n",
    "#to prepare it for train, valid, and test sets\n",
    "from torch.utils.data import Dataset, DataLoader\n",
    "class SPACE_DATASET(Dataset):\n",
    "    def __init__(self, data, maxlength = 100):\n",
    "        super(SPACE_DATASET, self).__init__()\n",
    "        self.maxlength = maxlength\n",
    "        self.data = data\n",
    "        self.users = list()\n",
    "        for user in data.index:\n",
    "            self.users.append(user)\n",
    "\n",
    "    def __len__(self):\n",
    "        return len(self.users)\n",
    "    \n",
    "    def __getitem__(self, ix):\n",
    "        user = self.users[ix]\n",
    "        user = user\n",
    "        target, term, ch_label, sub_ch_label, ques_name, features = self.data[user]\n",
    "        \n",
    "        #0s should be used as padding values\n",
    "        ori_target = target.values \n",
    "        term = term.values\n",
    "        ch_label = ch_label.values + 1\n",
    "        sub_ch_label = sub_ch_label.values +1\n",
    "        ques_name = ques_name.values + 1\n",
    "        \n",
    "        n = len(ch_label)\n",
    "\n",
    "        # one hot for term\n",
    "        term_encode = [0]*7\n",
    "        term_encode[term[0]] = 1\n",
    "        shifted_target= []\n",
    "\n",
    "        \n",
    "        # get  user interaction informations in the previous MAXLEN interactions\n",
    "        if n > self.maxlength:\n",
    "          ch_label = ch_label[-self.maxlength:]\n",
    "          sub_ch_label = sub_ch_label[-self.maxlength:]\n",
    "          ques_name = ques_name[-self.maxlength:]\n",
    "          features = features[-self.maxlength:]\n",
    "          target = ori_target[-self.maxlength:]\n",
    "          shifted_target = ori_target[ (-self.maxlength - 1) :-1]\n",
    "        else:\n",
    "          ch_label = [0]*(self.maxlength - n)+list(ch_label[:])\n",
    "          sub_ch_label = [0]*(self.maxlength - n)+list(sub_ch_label[:])\n",
    "          ques_name = [0]*(self.maxlength - n)+list(ques_name[:])\n",
    "          features = [[0]*len(features[0])]*(self.maxlength  - n)+list(features[:])\n",
    "          target = [-1]*(self.maxlength - n) + list(ori_target[:])\n",
    "          shifted_target = [-1]*(self.maxlength + 1 - n) + list(ori_target[:-1])\n",
    "\n",
    "        new_features = []\n",
    "        count = 0\n",
    "        for f in features:\n",
    "          temp = list(f)\n",
    "          temp.extend(term_encode)\n",
    "          # temp.append(shifted_target[count]) #uncomment this line for include previous response feature\n",
    "          new_features.append(temp)\n",
    "          count += 1\n",
    "        features = new_features\n",
    "        return ch_label,sub_ch_label,ques_name,target"
   ]
  },
  {
   "cell_type": "code",
   "execution_count": 27,
   "metadata": {
    "execution": {
     "iopub.execute_input": "2021-07-26T22:32:13.078791Z",
     "iopub.status.busy": "2021-07-26T22:32:13.078394Z",
     "iopub.status.idle": "2021-07-26T22:32:13.084971Z",
     "shell.execute_reply": "2021-07-26T22:32:13.083797Z",
     "shell.execute_reply.started": "2021-07-26T22:32:13.078763Z"
    }
   },
   "outputs": [
    {
     "data": {
      "text/plain": [
       "223"
      ]
     },
     "execution_count": 27,
     "metadata": {},
     "output_type": "execute_result"
    }
   ],
   "source": [
    "SUB_CHAPTER_SIZE"
   ]
  },
  {
   "cell_type": "code",
   "execution_count": 28,
   "metadata": {
    "execution": {
     "iopub.execute_input": "2021-07-26T22:32:13.087264Z",
     "iopub.status.busy": "2021-07-26T22:32:13.086956Z",
     "iopub.status.idle": "2021-07-26T22:35:52.274767Z",
     "shell.execute_reply": "2021-07-26T22:35:52.273678Z",
     "shell.execute_reply.started": "2021-07-26T22:32:13.087237Z"
    },
    "id": "gzJrljnjzypP",
    "outputId": "87abe488-b493-4f8f-9d71-45cb1d2ddf51"
   },
   "outputs": [
    {
     "name": "stdout",
     "output_type": "stream",
     "text": [
      "Epoch 1/100\n",
      "14/14 [==============================] - 10s 317ms/step - loss: 0.6158 - masked_acc: 0.5837 - masked_auc: 0.5144 - val_loss: 0.5251 - val_masked_acc: 0.7141 - val_masked_auc: 0.5818\n",
      "Epoch 2/100\n",
      "14/14 [==============================] - 2s 158ms/step - loss: 0.5045 - masked_acc: 0.7200 - masked_auc: 0.6145 - val_loss: 0.4902 - val_masked_acc: 0.7275 - val_masked_auc: 0.6667\n",
      "Epoch 3/100\n",
      "14/14 [==============================] - 2s 160ms/step - loss: 0.4699 - masked_acc: 0.7314 - masked_auc: 0.6830 - val_loss: 0.4679 - val_masked_acc: 0.7394 - val_masked_auc: 0.7120\n",
      "Epoch 4/100\n",
      "14/14 [==============================] - 2s 158ms/step - loss: 0.4536 - masked_acc: 0.7420 - masked_auc: 0.7207 - val_loss: 0.4648 - val_masked_acc: 0.7476 - val_masked_auc: 0.7368\n",
      "Epoch 5/100\n",
      "14/14 [==============================] - 2s 155ms/step - loss: 0.4405 - masked_acc: 0.7498 - masked_auc: 0.7425 - val_loss: 0.4625 - val_masked_acc: 0.7539 - val_masked_auc: 0.7528\n",
      "Epoch 6/100\n",
      "14/14 [==============================] - 2s 163ms/step - loss: 0.4360 - masked_acc: 0.7554 - masked_auc: 0.7569 - val_loss: 0.4652 - val_masked_acc: 0.7586 - val_masked_auc: 0.7644\n",
      "Epoch 7/100\n",
      "14/14 [==============================] - 2s 156ms/step - loss: 0.4290 - masked_acc: 0.7598 - masked_auc: 0.7676 - val_loss: 0.4627 - val_masked_acc: 0.7623 - val_masked_auc: 0.7730\n",
      "Epoch 8/100\n",
      "14/14 [==============================] - 2s 158ms/step - loss: 0.4225 - masked_acc: 0.7635 - masked_auc: 0.7754 - val_loss: 0.4626 - val_masked_acc: 0.7655 - val_masked_auc: 0.7804\n",
      "Epoch 9/100\n",
      "14/14 [==============================] - 2s 155ms/step - loss: 0.4099 - masked_acc: 0.7666 - masked_auc: 0.7828 - val_loss: 0.4744 - val_masked_acc: 0.7685 - val_masked_auc: 0.7870\n",
      "Epoch 10/100\n",
      "14/14 [==============================] - 2s 160ms/step - loss: 0.4012 - masked_acc: 0.7696 - masked_auc: 0.7891 - val_loss: 0.4877 - val_masked_acc: 0.7713 - val_masked_auc: 0.7928\n",
      "Epoch 11/100\n",
      "14/14 [==============================] - 3s 190ms/step - loss: 0.4012 - masked_acc: 0.7721 - masked_auc: 0.7948 - val_loss: 0.4854 - val_masked_acc: 0.7739 - val_masked_auc: 0.7982\n",
      "Epoch 12/100\n",
      "14/14 [==============================] - 2s 161ms/step - loss: 0.3850 - masked_acc: 0.7748 - masked_auc: 0.8000 - val_loss: 0.4852 - val_masked_acc: 0.7763 - val_masked_auc: 0.8030\n",
      "Epoch 13/100\n",
      "14/14 [==============================] - 2s 162ms/step - loss: 0.3762 - masked_acc: 0.7772 - masked_auc: 0.8047 - val_loss: 0.5091 - val_masked_acc: 0.7786 - val_masked_auc: 0.8074\n",
      "Epoch 14/100\n",
      "14/14 [==============================] - 2s 159ms/step - loss: 0.3859 - masked_acc: 0.7793 - masked_auc: 0.8089 - val_loss: 0.5264 - val_masked_acc: 0.7807 - val_masked_auc: 0.8114\n",
      "Epoch 15/100\n",
      "14/14 [==============================] - 2s 164ms/step - loss: 0.3703 - masked_acc: 0.7815 - masked_auc: 0.8129 - val_loss: 0.5295 - val_masked_acc: 0.7829 - val_masked_auc: 0.8153\n",
      "28/28 [==============================] - 1s 32ms/step - loss: 0.3618 - masked_acc: 0.7843 - masked_auc: 0.8178\n",
      "4/4 [==============================] - 0s 28ms/step - loss: 0.4817 - masked_acc: 0.7850 - masked_auc: 0.8195\n",
      "Test:  [0.481661856174469, 0.785043478012085, 0.8194661140441895]\n",
      "Epoch 1/100\n",
      "14/14 [==============================] - 10s 315ms/step - loss: 0.6028 - masked_acc: 0.6318 - masked_auc: 0.5140 - val_loss: 0.5428 - val_masked_acc: 0.7248 - val_masked_auc: 0.6117\n",
      "Epoch 2/100\n",
      "14/14 [==============================] - 2s 161ms/step - loss: 0.4925 - masked_acc: 0.7279 - masked_auc: 0.6417 - val_loss: 0.5144 - val_masked_acc: 0.7341 - val_masked_auc: 0.6930\n",
      "Epoch 3/100\n",
      "14/14 [==============================] - 2s 161ms/step - loss: 0.4582 - masked_acc: 0.7373 - masked_auc: 0.7077 - val_loss: 0.4963 - val_masked_acc: 0.7445 - val_masked_auc: 0.7315\n",
      "Epoch 4/100\n",
      "14/14 [==============================] - 2s 163ms/step - loss: 0.4472 - masked_acc: 0.7466 - masked_auc: 0.7390 - val_loss: 0.4977 - val_masked_acc: 0.7523 - val_masked_auc: 0.7521\n",
      "Epoch 5/100\n",
      "14/14 [==============================] - 2s 160ms/step - loss: 0.4336 - masked_acc: 0.7543 - masked_auc: 0.7575 - val_loss: 0.5016 - val_masked_acc: 0.7578 - val_masked_auc: 0.7652\n",
      "Epoch 6/100\n",
      "14/14 [==============================] - 3s 182ms/step - loss: 0.4307 - masked_acc: 0.7591 - masked_auc: 0.7686 - val_loss: 0.5007 - val_masked_acc: 0.7618 - val_masked_auc: 0.7743\n",
      "Epoch 7/100\n",
      "14/14 [==============================] - 2s 155ms/step - loss: 0.4246 - masked_acc: 0.7627 - masked_auc: 0.7770 - val_loss: 0.5023 - val_masked_acc: 0.7650 - val_masked_auc: 0.7816\n",
      "Epoch 8/100\n",
      "14/14 [==============================] - 2s 154ms/step - loss: 0.4121 - masked_acc: 0.7661 - masked_auc: 0.7840 - val_loss: 0.5135 - val_masked_acc: 0.7682 - val_masked_auc: 0.7883\n",
      "Epoch 9/100\n",
      "14/14 [==============================] - 2s 155ms/step - loss: 0.4056 - masked_acc: 0.7692 - masked_auc: 0.7904 - val_loss: 0.5122 - val_masked_acc: 0.7711 - val_masked_auc: 0.7943\n",
      "Epoch 10/100\n",
      "14/14 [==============================] - 2s 154ms/step - loss: 0.3959 - masked_acc: 0.7720 - masked_auc: 0.7961 - val_loss: 0.5258 - val_masked_acc: 0.7737 - val_masked_auc: 0.7994\n",
      "Epoch 11/100\n",
      "14/14 [==============================] - 2s 157ms/step - loss: 0.3965 - masked_acc: 0.7744 - masked_auc: 0.8010 - val_loss: 0.5271 - val_masked_acc: 0.7761 - val_masked_auc: 0.8041\n",
      "Epoch 12/100\n",
      "14/14 [==============================] - 2s 152ms/step - loss: 0.3850 - masked_acc: 0.7769 - masked_auc: 0.8056 - val_loss: 0.5568 - val_masked_acc: 0.7784 - val_masked_auc: 0.8083\n",
      "Epoch 13/100\n",
      "14/14 [==============================] - 2s 155ms/step - loss: 0.3774 - masked_acc: 0.7791 - masked_auc: 0.8098 - val_loss: 0.5493 - val_masked_acc: 0.7805 - val_masked_auc: 0.8123\n",
      "28/28 [==============================] - 1s 30ms/step - loss: 0.3640 - masked_acc: 0.7822 - masked_auc: 0.8152\n",
      "4/4 [==============================] - 2s 29ms/step - loss: 0.5059 - masked_acc: 0.7830 - masked_auc: 0.8169\n",
      "Test:  [0.5058651566505432, 0.7829883098602295, 0.8169247508049011]\n",
      "Epoch 1/100\n",
      "14/14 [==============================] - 9s 275ms/step - loss: 0.6109 - masked_acc: 0.6720 - masked_auc: 0.5226 - val_loss: 0.5235 - val_masked_acc: 0.7247 - val_masked_auc: 0.6166\n",
      "Epoch 2/100\n",
      "14/14 [==============================] - 2s 177ms/step - loss: 0.4996 - masked_acc: 0.7257 - masked_auc: 0.6475 - val_loss: 0.4800 - val_masked_acc: 0.7306 - val_masked_auc: 0.6984\n",
      "Epoch 3/100\n",
      "14/14 [==============================] - 2s 165ms/step - loss: 0.4696 - masked_acc: 0.7336 - masked_auc: 0.7117 - val_loss: 0.4748 - val_masked_acc: 0.7418 - val_masked_auc: 0.7357\n",
      "Epoch 4/100\n",
      "14/14 [==============================] - 2s 155ms/step - loss: 0.4480 - masked_acc: 0.7441 - masked_auc: 0.7430 - val_loss: 0.4702 - val_masked_acc: 0.7489 - val_masked_auc: 0.7550\n",
      "Epoch 5/100\n",
      "14/14 [==============================] - 2s 156ms/step - loss: 0.4438 - masked_acc: 0.7506 - masked_auc: 0.7595 - val_loss: 0.4689 - val_masked_acc: 0.7544 - val_masked_auc: 0.7681\n",
      "Epoch 6/100\n",
      "14/14 [==============================] - 2s 154ms/step - loss: 0.4315 - masked_acc: 0.7559 - masked_auc: 0.7718 - val_loss: 0.4711 - val_masked_acc: 0.7588 - val_masked_auc: 0.7779\n",
      "Epoch 7/100\n",
      "14/14 [==============================] - 2s 155ms/step - loss: 0.4123 - masked_acc: 0.7604 - masked_auc: 0.7810 - val_loss: 0.4713 - val_masked_acc: 0.7624 - val_masked_auc: 0.7857\n",
      "Epoch 8/100\n",
      "14/14 [==============================] - 2s 161ms/step - loss: 0.4212 - masked_acc: 0.7634 - masked_auc: 0.7881 - val_loss: 0.4761 - val_masked_acc: 0.7656 - val_masked_auc: 0.7922\n",
      "Epoch 9/100\n",
      "14/14 [==============================] - 2s 163ms/step - loss: 0.4066 - masked_acc: 0.7667 - masked_auc: 0.7944 - val_loss: 0.4947 - val_masked_acc: 0.7682 - val_masked_auc: 0.7976\n",
      "Epoch 10/100\n",
      "14/14 [==============================] - 2s 164ms/step - loss: 0.4049 - masked_acc: 0.7691 - masked_auc: 0.7993 - val_loss: 0.5020 - val_masked_acc: 0.7704 - val_masked_auc: 0.8024\n",
      "Epoch 11/100\n",
      "14/14 [==============================] - 2s 159ms/step - loss: 0.3989 - masked_acc: 0.7713 - masked_auc: 0.8040 - val_loss: 0.4851 - val_masked_acc: 0.7726 - val_masked_auc: 0.8068\n",
      "Epoch 12/100\n",
      "14/14 [==============================] - 2s 166ms/step - loss: 0.3940 - masked_acc: 0.7734 - masked_auc: 0.8084 - val_loss: 0.5016 - val_masked_acc: 0.7747 - val_masked_auc: 0.8110\n",
      "Epoch 13/100\n",
      "14/14 [==============================] - 2s 165ms/step - loss: 0.3869 - masked_acc: 0.7754 - masked_auc: 0.8124 - val_loss: 0.5162 - val_masked_acc: 0.7766 - val_masked_auc: 0.8147\n",
      "Epoch 14/100\n",
      "14/14 [==============================] - 2s 165ms/step - loss: 0.3786 - masked_acc: 0.7773 - masked_auc: 0.8160 - val_loss: 0.5110 - val_masked_acc: 0.7785 - val_masked_auc: 0.8183\n",
      "Epoch 15/100\n",
      "14/14 [==============================] - 2s 162ms/step - loss: 0.3789 - masked_acc: 0.7791 - masked_auc: 0.8194 - val_loss: 0.5454 - val_masked_acc: 0.7805 - val_masked_auc: 0.8218\n",
      "28/28 [==============================] - 1s 31ms/step - loss: 0.3561 - masked_acc: 0.7819 - masked_auc: 0.8243\n",
      "4/4 [==============================] - 0s 28ms/step - loss: 0.4679 - masked_acc: 0.7829 - masked_auc: 0.8259\n",
      "Test:  [0.4679299294948578, 0.7828638553619385, 0.8259150385856628]\n",
      "Epoch 1/100\n",
      "14/14 [==============================] - 10s 277ms/step - loss: 0.6085 - masked_acc: 0.6490 - masked_auc: 0.5319 - val_loss: 0.5184 - val_masked_acc: 0.7247 - val_masked_auc: 0.6068\n",
      "Epoch 2/100\n",
      "14/14 [==============================] - 2s 176ms/step - loss: 0.5058 - masked_acc: 0.7256 - masked_auc: 0.6370 - val_loss: 0.4828 - val_masked_acc: 0.7349 - val_masked_auc: 0.6887\n",
      "Epoch 3/100\n",
      "14/14 [==============================] - 2s 172ms/step - loss: 0.4673 - masked_acc: 0.7380 - masked_auc: 0.7039 - val_loss: 0.4678 - val_masked_acc: 0.7456 - val_masked_auc: 0.7282\n",
      "Epoch 4/100\n",
      "14/14 [==============================] - 2s 171ms/step - loss: 0.4532 - masked_acc: 0.7477 - masked_auc: 0.7360 - val_loss: 0.4715 - val_masked_acc: 0.7528 - val_masked_auc: 0.7490\n",
      "Epoch 5/100\n",
      "14/14 [==============================] - 2s 167ms/step - loss: 0.4504 - masked_acc: 0.7541 - masked_auc: 0.7529 - val_loss: 0.4690 - val_masked_acc: 0.7575 - val_masked_auc: 0.7619\n",
      "Epoch 6/100\n",
      "14/14 [==============================] - 2s 164ms/step - loss: 0.4330 - masked_acc: 0.7587 - masked_auc: 0.7660 - val_loss: 0.4683 - val_masked_acc: 0.7615 - val_masked_auc: 0.7720\n",
      "Epoch 7/100\n",
      "14/14 [==============================] - 2s 165ms/step - loss: 0.4307 - masked_acc: 0.7625 - masked_auc: 0.7746 - val_loss: 0.4749 - val_masked_acc: 0.7648 - val_masked_auc: 0.7798\n",
      "Epoch 8/100\n",
      "14/14 [==============================] - 2s 168ms/step - loss: 0.4139 - masked_acc: 0.7658 - masked_auc: 0.7825 - val_loss: 0.4765 - val_masked_acc: 0.7677 - val_masked_auc: 0.7867\n",
      "Epoch 9/100\n",
      "14/14 [==============================] - 2s 166ms/step - loss: 0.4118 - masked_acc: 0.7685 - masked_auc: 0.7890 - val_loss: 0.4753 - val_masked_acc: 0.7702 - val_masked_auc: 0.7926\n",
      "Epoch 10/100\n",
      "14/14 [==============================] - 3s 183ms/step - loss: 0.4095 - masked_acc: 0.7710 - masked_auc: 0.7944 - val_loss: 0.4790 - val_masked_acc: 0.7726 - val_masked_auc: 0.7976\n",
      "Epoch 11/100\n",
      "14/14 [==============================] - 2s 166ms/step - loss: 0.3984 - masked_acc: 0.7733 - masked_auc: 0.7992 - val_loss: 0.4744 - val_masked_acc: 0.7748 - val_masked_auc: 0.8024\n",
      "Epoch 12/100\n",
      "14/14 [==============================] - 2s 169ms/step - loss: 0.3928 - masked_acc: 0.7755 - masked_auc: 0.8039 - val_loss: 0.4951 - val_masked_acc: 0.7768 - val_masked_auc: 0.8067\n",
      "Epoch 13/100\n",
      "14/14 [==============================] - 2s 168ms/step - loss: 0.3756 - masked_acc: 0.7776 - masked_auc: 0.8083 - val_loss: 0.5094 - val_masked_acc: 0.7788 - val_masked_auc: 0.8109\n",
      "28/28 [==============================] - 1s 31ms/step - loss: 0.3752 - masked_acc: 0.7803 - masked_auc: 0.8136\n",
      "4/4 [==============================] - 0s 30ms/step - loss: 0.4898 - masked_acc: 0.7810 - masked_auc: 0.8153\n",
      "Test:  [0.48976290225982666, 0.7809851765632629, 0.8152703642845154]\n",
      "Epoch 1/100\n",
      "14/14 [==============================] - 10s 288ms/step - loss: 0.6068 - masked_acc: 0.6326 - masked_auc: 0.5224 - val_loss: 0.5443 - val_masked_acc: 0.7215 - val_masked_auc: 0.6081\n",
      "Epoch 2/100\n",
      "14/14 [==============================] - 2s 170ms/step - loss: 0.4939 - masked_acc: 0.7247 - masked_auc: 0.6415 - val_loss: 0.5057 - val_masked_acc: 0.7294 - val_masked_auc: 0.6909\n",
      "Epoch 3/100\n",
      "14/14 [==============================] - 2s 173ms/step - loss: 0.4658 - masked_acc: 0.7306 - masked_auc: 0.7046 - val_loss: 0.4935 - val_masked_acc: 0.7372 - val_masked_auc: 0.7289\n",
      "Epoch 4/100\n",
      "14/14 [==============================] - 2s 167ms/step - loss: 0.4527 - masked_acc: 0.7400 - masked_auc: 0.7363 - val_loss: 0.4850 - val_masked_acc: 0.7457 - val_masked_auc: 0.7496\n",
      "Epoch 5/100\n",
      "14/14 [==============================] - 2s 167ms/step - loss: 0.4471 - masked_acc: 0.7476 - masked_auc: 0.7547 - val_loss: 0.4952 - val_masked_acc: 0.7518 - val_masked_auc: 0.7629\n",
      "Epoch 6/100\n",
      "14/14 [==============================] - 2s 169ms/step - loss: 0.4351 - masked_acc: 0.7534 - masked_auc: 0.7665 - val_loss: 0.4819 - val_masked_acc: 0.7563 - val_masked_auc: 0.7725\n",
      "Epoch 7/100\n",
      "14/14 [==============================] - 3s 187ms/step - loss: 0.4204 - masked_acc: 0.7579 - masked_auc: 0.7754 - val_loss: 0.4865 - val_masked_acc: 0.7601 - val_masked_auc: 0.7801\n",
      "Epoch 8/100\n",
      "14/14 [==============================] - 2s 171ms/step - loss: 0.4149 - masked_acc: 0.7613 - masked_auc: 0.7828 - val_loss: 0.5103 - val_masked_acc: 0.7636 - val_masked_auc: 0.7865\n",
      "Epoch 9/100\n",
      "14/14 [==============================] - 2s 167ms/step - loss: 0.4089 - masked_acc: 0.7647 - masked_auc: 0.7887 - val_loss: 0.5024 - val_masked_acc: 0.7667 - val_masked_auc: 0.7924\n",
      "Epoch 10/100\n",
      "14/14 [==============================] - 2s 168ms/step - loss: 0.4048 - masked_acc: 0.7676 - masked_auc: 0.7944 - val_loss: 0.5330 - val_masked_acc: 0.7695 - val_masked_auc: 0.7975\n",
      "Epoch 11/100\n",
      "14/14 [==============================] - 2s 164ms/step - loss: 0.3980 - masked_acc: 0.7704 - masked_auc: 0.7993 - val_loss: 0.5191 - val_masked_acc: 0.7721 - val_masked_auc: 0.8022\n",
      "Epoch 12/100\n",
      "14/14 [==============================] - 2s 164ms/step - loss: 0.3933 - masked_acc: 0.7729 - masked_auc: 0.8037 - val_loss: 0.5548 - val_masked_acc: 0.7745 - val_masked_auc: 0.8064\n",
      "Epoch 13/100\n",
      "14/14 [==============================] - 2s 168ms/step - loss: 0.3861 - masked_acc: 0.7753 - masked_auc: 0.8078 - val_loss: 0.5543 - val_masked_acc: 0.7767 - val_masked_auc: 0.8103\n",
      "Epoch 14/100\n",
      "14/14 [==============================] - 2s 166ms/step - loss: 0.3701 - masked_acc: 0.7775 - masked_auc: 0.8118 - val_loss: 0.5759 - val_masked_acc: 0.7789 - val_masked_auc: 0.8141\n",
      "Epoch 15/100\n",
      "14/14 [==============================] - 2s 164ms/step - loss: 0.3646 - masked_acc: 0.7796 - masked_auc: 0.8154 - val_loss: 0.6018 - val_masked_acc: 0.7810 - val_masked_auc: 0.8177\n",
      "Epoch 16/100\n",
      "14/14 [==============================] - 2s 165ms/step - loss: 0.3582 - masked_acc: 0.7817 - masked_auc: 0.8190 - val_loss: 0.6028 - val_masked_acc: 0.7830 - val_masked_auc: 0.8210\n",
      "28/28 [==============================] - 1s 32ms/step - loss: 0.3526 - masked_acc: 0.7844 - masked_auc: 0.8234\n",
      "4/4 [==============================] - 0s 28ms/step - loss: 0.5249 - masked_acc: 0.7852 - masked_auc: 0.8249\n",
      "Test:  [0.5248573422431946, 0.7852352261543274, 0.8249241709709167]\n"
     ]
    }
   ],
   "source": [
    "# 5 fold cross validation\n",
    "#HERE WE ONLY USE\n",
    "#CHAPTER, SUB_CHAPTER\n",
    "#QUESTION\n",
    "X = np.array(grouped_data.keys())\n",
    "kfold = KFold(n_splits=5, shuffle=True)\n",
    "train_losses = list()\n",
    "train_aucs = list()\n",
    "val_losses = list()\n",
    "val_aucs = list()\n",
    "train_eval = list()\n",
    "test_eval = list()\n",
    "for train, test in kfold.split(X):\n",
    "    users_train, users_test =  X[train], X[test]\n",
    "    n = len(users_test)//2\n",
    "    users_test, users_val = users_test[:n], users_test[n: ]\n",
    "    train_data_space = SPACE_DATASET(grouped_data[users_train], MAXLENGTH)\n",
    "    val_data_space = SPACE_DATASET(grouped_data[users_val], MAXLENGTH)\n",
    "    test_data_space = SPACE_DATASET(grouped_data[users_test], MAXLENGTH)\n",
    "    #construct training input\n",
    "    train_chapter=[]\n",
    "    train_sub_chapter=[]\n",
    "    train_question = []\n",
    "    train_features=[]\n",
    "    train_labels=[]\n",
    "    for i in range(len(users_train)):\n",
    "        user = train_data_space.__getitem__(i)\n",
    "        train_chapter.append(user[0])\n",
    "        train_sub_chapter.append(user[1]) \n",
    "        train_question.append(user[2])\n",
    "        #train_features.append(user[3])\n",
    "        train_labels.append(user[3])\n",
    "    train_chapter = np.array(train_chapter)\n",
    "    train_sub_chapter = np.array(train_sub_chapter)\n",
    "    train_question = np.array(train_question)\n",
    "    #train_features = np.array(train_features)\n",
    "    train_labels= np.array(train_labels)[..., np.newaxis]\n",
    "\n",
    "    #construct validation input\n",
    "    val_chapter=[]\n",
    "    val_sub_chapter=[]\n",
    "    val_question = []\n",
    "    #val_features=[]\n",
    "    val_labels=[]\n",
    "    for i in range(len(users_val)):\n",
    "        user = val_data_space.__getitem__(i)\n",
    "        val_chapter.append(user[0])\n",
    "        val_sub_chapter.append(user[1]) \n",
    "        val_question.append(user[2])\n",
    "        #val_features.append(user[3])\n",
    "        val_labels.append(user[3])\n",
    "    val_chapter = np.array(val_chapter)\n",
    "    val_sub_chapter = np.array(val_sub_chapter)\n",
    "    #val_features = np.array(val_features)\n",
    "    val_question = np.array(val_question)\n",
    "    val_labels= np.array(val_labels)[..., np.newaxis]\n",
    "\n",
    "    # construct test input\n",
    "    test_chapter=[]\n",
    "    test_sub_chapter=[]\n",
    "    #test_features=[]\n",
    "    test_question=[]\n",
    "    test_labels=[]\n",
    "    for i in range(len(users_test)):\n",
    "        user = test_data_space.__getitem__(i)\n",
    "        test_chapter.append(user[0])\n",
    "        test_sub_chapter.append(user[1]) \n",
    "        test_question.append(user[2])\n",
    "        #test_features.append(user[3])\n",
    "        test_labels.append(user[3])\n",
    "    test_chapter = np.array(test_chapter)\n",
    "    test_sub_chapter = np.array(test_sub_chapter)\n",
    "    #test_features = np.array(test_features)\n",
    "    test_question = np.array(test_question)\n",
    "    test_labels= np.array(test_labels)[..., np.newaxis]\n",
    "\n",
    "    # define loss function and evaluation metrics\n",
    "    bce = tf.keras.losses.BinaryCrossentropy(from_logits=True)\n",
    "    acc = tf.keras.metrics.Accuracy()\n",
    "    auc = tf.keras.metrics.AUC()\n",
    "\n",
    "    def masked_bce(y_true, y_pred):\n",
    "      flat_pred = y_pred\n",
    "      flat_ground_truth = y_true\n",
    "      label_mask = tf.math.not_equal(flat_ground_truth, -1)\n",
    "      return bce(flat_ground_truth, flat_pred, sample_weight=label_mask)\n",
    "\n",
    "    def masked_acc(y_true, y_pred):\n",
    "      flat_pred = y_pred\n",
    "      flat_ground_truth = y_true\n",
    "      flat_pred = (flat_pred >= 0.5)\n",
    "      label_mask = tf.math.not_equal(flat_ground_truth, -1)\n",
    "      return acc(flat_ground_truth, flat_pred, sample_weight=label_mask)\n",
    "\n",
    "    def masked_auc(y_true, y_pred):\n",
    "      flat_pred = y_pred\n",
    "      flat_ground_truth = y_true\n",
    "      label_mask = tf.math.not_equal(flat_ground_truth, -1)\n",
    "      return auc(flat_ground_truth, flat_pred, sample_weight=label_mask)\n",
    "\n",
    "    # input layer\n",
    "    input_chap = tf.keras.Input(shape=(MAXLENGTH))\n",
    "    input_sub_chap = tf.keras.Input(shape=(MAXLENGTH))\n",
    "    input_ques =  tf.keras.Input(shape=(MAXLENGTH))\n",
    "    #input_features = tf.keras.Input(shape=(MAXLENGTH, FEATURES_SIZE))\n",
    "\n",
    "    # embedding layer for categorical features\n",
    "    embedding_chap = Embedding(input_dim = CHAPTER_SIZE, output_dim = EMBEDDING_DIM)(input_chap)\n",
    "    embedding_sub_chap = Embedding(input_dim = SUB_CHAPTER_SIZE, output_dim = EMBEDDING_DIM)(input_sub_chap) \n",
    "    embedding_ques = Embedding(input_dim = QUESTION_SIZE, output_dim = EMBEDDING_DIM)(input_ques)       \n",
    "\n",
    "    # dense layer for numeric features\n",
    "    #dense_features = Dense(EMBEDDING_DIM,input_shape = (None, MAXLENGTH))(input_features)\n",
    "\n",
    "    # definr lstm layers\n",
    "    lstm_chap = LSTM(LSTM_NEURON, input_shape = (None, EMBEDDING_DIM),return_sequences = True)(embedding_chap)\n",
    "    lstm_sub_chap = LSTM(LSTM_NEURON, input_shape = (None, EMBEDDING_DIM),return_sequences = True)(embedding_sub_chap)\n",
    "    lstm_ques = LSTM(LSTM_NEURON, input_shape = (None, EMBEDDING_DIM),return_sequences = True)(embedding_ques)\n",
    "    #lstm_features = LSTM(LSTM_NEURON, input_shape = (None, EMBEDDING_DIM),return_sequences = True)(dense_features)\n",
    "\n",
    "    lstm_output = tf.concat([lstm_chap, lstm_sub_chap, lstm_ques], axis = 2)\n",
    "\n",
    "    dense1 = Dense(256, input_shape = (None, 3*EMBEDDING_DIM), activation='relu')(lstm_output)\n",
    "    dropout1 = Dropout(0.1)(dense1)\n",
    "    dense2 = Dense(64, input_shape = (None, 256), activation='relu')(dropout1)\n",
    "    dropout2 = Dropout(0.1)(dense2)\n",
    "    pred = Dense(1, input_shape = (None, 64), activation='sigmoid')(dropout2)\n",
    "\n",
    "    model = tf.keras.Model(\n",
    "        inputs=[input_chap, input_sub_chap,input_ques],\n",
    "        outputs=pred,\n",
    "        name='lstm_model'\n",
    "    )\n",
    "\n",
    "    callback = tf.keras.callbacks.EarlyStopping(monitor='val_loss', patience=10)\n",
    "    opt_adam = Adam(learning_rate = 0.005)\n",
    "    model.compile(\n",
    "        optimizer=opt_adam,\n",
    "        loss= masked_bce,\n",
    "        metrics = [masked_acc, masked_auc]\n",
    "    )\n",
    "\n",
    "    history = model.fit(\n",
    "      [train_chapter, train_sub_chapter, train_question],\n",
    "      train_labels,\n",
    "      batch_size = 64,\n",
    "      epochs = 100,\n",
    "      validation_data=([val_chapter, val_sub_chapter, val_question], val_labels),\n",
    "      callbacks=[callback]\n",
    "    )\n",
    "    val_losses.append(list(history.history['val_loss']))\n",
    "    train_losses.append(list(history.history['loss']))\n",
    "    val_aucs.append(list(history.history['val_masked_auc']))\n",
    "    train_aucs.append(list(history.history['masked_auc']))\n",
    "    train_score = model.evaluate([train_chapter, train_sub_chapter, train_question], train_labels)\n",
    "    train_eval.append(train_score)\n",
    "    test_score = model.evaluate([test_chapter, test_sub_chapter, test_question], test_labels)\n",
    "    test_eval.append(test_score)\n",
    "    print(\"Test: \", test_score)\n",
    "    def reset_weights(model):\n",
    "      for layer in model.layers: \n",
    "        if isinstance(layer, tf.keras.Model):\n",
    "          reset_weights(layer)\n",
    "          continue\n",
    "        for k, initializer in layer.__dict__.items():\n",
    "          if \"initializer\" not in k:\n",
    "            continue\n",
    "          # find the corresponding variable\n",
    "          var = getattr(layer, k.replace(\"_initializer\", \"\"))\n",
    "          var.assign(initializer(var.shape, var.dtype))\n",
    "    reset_weights(model)"
   ]
  },
  {
   "cell_type": "code",
   "execution_count": 29,
   "metadata": {
    "execution": {
     "iopub.execute_input": "2021-07-26T22:35:52.276490Z",
     "iopub.status.busy": "2021-07-26T22:35:52.276106Z",
     "iopub.status.idle": "2021-07-26T22:35:52.287680Z",
     "shell.execute_reply": "2021-07-26T22:35:52.286478Z",
     "shell.execute_reply.started": "2021-07-26T22:35:52.276449Z"
    },
    "id": "QsVmumHMz3lx",
    "outputId": "4ff1e2fa-6abb-458e-c729-495b456f53e5"
   },
   "outputs": [
    {
     "name": "stdout",
     "output_type": "stream",
     "text": [
      "test avg loss:  0.49401543736457826 +/- 0.019711862862534336\n",
      "test avg acc:  0.7834232091903687 +/- 0.001571921992712563\n",
      "test avg auc:  0.8205000877380371 +/- 0.004244911031316907\n"
     ]
    }
   ],
   "source": [
    "t_eval = np.array(test_eval)\n",
    "print(\"test avg loss: \", np.mean(t_eval[:, 0]), \"+/-\" ,np.std(t_eval[:, 0]))\n",
    "print(\"test avg acc: \", np.mean(t_eval[:, 1]),  \"+/-\" ,np.std(t_eval[:, 1]))\n",
    "print(\"test avg auc: \", np.mean(t_eval[:, 2]), \"+/-\" ,np.std(t_eval[:, 2]))"
   ]
  },
  {
   "cell_type": "code",
   "execution_count": 30,
   "metadata": {
    "execution": {
     "iopub.execute_input": "2021-07-26T22:35:52.289636Z",
     "iopub.status.busy": "2021-07-26T22:35:52.289319Z",
     "iopub.status.idle": "2021-07-26T22:35:52.300182Z",
     "shell.execute_reply": "2021-07-26T22:35:52.298899Z",
     "shell.execute_reply.started": "2021-07-26T22:35:52.289604Z"
    },
    "id": "b9MM_CXWz5K6",
    "outputId": "4cf88e1d-3a74-4e7d-f92c-d01522e91757"
   },
   "outputs": [
    {
     "name": "stdout",
     "output_type": "stream",
     "text": [
      "train avg loss:  0.36193919777870176 +/- 0.007763093111243057\n",
      "train avg acc:  0.7826249361038208 +/- 0.0015586462232563345\n",
      "train avg auc:  0.8188520431518554 +/- 0.004313700771811697\n"
     ]
    }
   ],
   "source": [
    "t_eval = np.array(train_eval)\n",
    "print(\"train avg loss: \", np.mean(t_eval[:, 0]), \"+/-\" ,np.std(t_eval[:, 0]))\n",
    "print(\"train avg acc: \", np.mean(t_eval[:, 1]),  \"+/-\" ,np.std(t_eval[:, 1]))\n",
    "print(\"train avg auc: \", np.mean(t_eval[:, 2]), \"+/-\" ,np.std(t_eval[:, 2]))"
   ]
  }
 ],
 "metadata": {
  "kernelspec": {
   "display_name": "Python 3",
   "language": "python",
   "name": "python3"
  },
  "language_info": {
   "codemirror_mode": {
    "name": "ipython",
    "version": 3
   },
   "file_extension": ".py",
   "mimetype": "text/x-python",
   "name": "python",
   "nbconvert_exporter": "python",
   "pygments_lexer": "ipython3",
   "version": "3.8.5"
  }
 },
 "nbformat": 4,
 "nbformat_minor": 4
}
