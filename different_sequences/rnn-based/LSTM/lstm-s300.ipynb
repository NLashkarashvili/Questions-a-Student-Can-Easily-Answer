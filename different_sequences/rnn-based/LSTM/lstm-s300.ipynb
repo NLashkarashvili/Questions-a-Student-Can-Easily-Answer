{
 "cells": [
  {
   "cell_type": "code",
   "execution_count": 1,
   "metadata": {
    "execution": {
     "iopub.execute_input": "2021-07-26T22:51:52.276225Z",
     "iopub.status.busy": "2021-07-26T22:51:52.275778Z",
     "iopub.status.idle": "2021-07-26T22:51:54.684413Z",
     "shell.execute_reply": "2021-07-26T22:51:54.683136Z",
     "shell.execute_reply.started": "2021-07-26T22:51:52.276165Z"
    },
    "id": "farifxiKU1aB"
   },
   "outputs": [],
   "source": [
    "import numpy as np\n",
    "import pandas as pd\n",
    "import warnings\n",
    "import gc\n",
    "import tensorflow as tf\n",
    "from tensorflow import keras\n",
    "\n",
    "import random\n",
    "from random import choice\n",
    "from tensorflow.keras.optimizers import Adam\n",
    "from tensorflow.keras.models import Sequential \n",
    "from tensorflow.keras.layers import Dense, LSTM, Concatenate, Embedding, Flatten, Activation, Dropout\n",
    "from sklearn.model_selection import KFold\n",
    "from tensorflow.python.client import device_lib\n",
    "warnings.filterwarnings('ignore')\n",
    "import random"
   ]
  },
  {
   "cell_type": "code",
   "execution_count": 2,
   "metadata": {
    "execution": {
     "iopub.execute_input": "2021-07-26T22:51:54.690487Z",
     "iopub.status.busy": "2021-07-26T22:51:54.690185Z",
     "iopub.status.idle": "2021-07-26T22:51:54.694504Z",
     "shell.execute_reply": "2021-07-26T22:51:54.693815Z",
     "shell.execute_reply.started": "2021-07-26T22:51:54.690460Z"
    },
    "id": "QOson70GPOXb"
   },
   "outputs": [],
   "source": [
    "import gc"
   ]
  },
  {
   "cell_type": "markdown",
   "metadata": {
    "id": "BQsVybBH3VPw"
   },
   "source": [
    "## Data Preprocessing"
   ]
  },
  {
   "cell_type": "code",
   "execution_count": 3,
   "metadata": {
    "execution": {
     "iopub.execute_input": "2021-07-26T22:51:54.696040Z",
     "iopub.status.busy": "2021-07-26T22:51:54.695713Z",
     "iopub.status.idle": "2021-07-26T22:52:00.064981Z",
     "shell.execute_reply": "2021-07-26T22:52:00.063783Z",
     "shell.execute_reply.started": "2021-07-26T22:51:54.696003Z"
    },
    "id": "rwtTusGxrmAE",
    "outputId": "1430f3cf-038b-485e-b5c4-c1686b1f34fd"
   },
   "outputs": [
    {
     "data": {
      "text/html": [
       "<div>\n",
       "<style scoped>\n",
       "    .dataframe tbody tr th:only-of-type {\n",
       "        vertical-align: middle;\n",
       "    }\n",
       "\n",
       "    .dataframe tbody tr th {\n",
       "        vertical-align: top;\n",
       "    }\n",
       "\n",
       "    .dataframe thead th {\n",
       "        text-align: right;\n",
       "    }\n",
       "</style>\n",
       "<table border=\"1\" class=\"dataframe\">\n",
       "  <thead>\n",
       "    <tr style=\"text-align: right;\">\n",
       "      <th></th>\n",
       "      <th>Unnamed: 0</th>\n",
       "      <th>chapter_label</th>\n",
       "      <th>sub_chapter_label</th>\n",
       "      <th>question_name</th>\n",
       "      <th>user_id.x</th>\n",
       "      <th>term</th>\n",
       "      <th>STDNT_SEX_CD</th>\n",
       "      <th>NonNativeEnglish</th>\n",
       "      <th>White</th>\n",
       "      <th>Asian</th>\n",
       "      <th>...</th>\n",
       "      <th>classGraded</th>\n",
       "      <th>classHonors</th>\n",
       "      <th>Pass_Fail</th>\n",
       "      <th>parentsGraduateEdu</th>\n",
       "      <th>minorityGroup</th>\n",
       "      <th>q</th>\n",
       "      <th>day's_available_flashcards</th>\n",
       "      <th>start_practice</th>\n",
       "      <th>end_practice</th>\n",
       "      <th>days_offset</th>\n",
       "    </tr>\n",
       "  </thead>\n",
       "  <tbody>\n",
       "    <tr>\n",
       "      <th>0</th>\n",
       "      <td>1</td>\n",
       "      <td>Sort</td>\n",
       "      <td>intro-SortingwithSortandSorted</td>\n",
       "      <td>ee_sort_04</td>\n",
       "      <td>148</td>\n",
       "      <td>WN 2018</td>\n",
       "      <td>1</td>\n",
       "      <td>0</td>\n",
       "      <td>1</td>\n",
       "      <td>0</td>\n",
       "      <td>...</td>\n",
       "      <td>1</td>\n",
       "      <td>0</td>\n",
       "      <td>0</td>\n",
       "      <td>0</td>\n",
       "      <td>0</td>\n",
       "      <td>0</td>\n",
       "      <td>18</td>\n",
       "      <td>2018-03-04 20:00:19</td>\n",
       "      <td>2018-03-04 20:00:35</td>\n",
       "      <td>45</td>\n",
       "    </tr>\n",
       "    <tr>\n",
       "      <th>1</th>\n",
       "      <td>2</td>\n",
       "      <td>Functions</td>\n",
       "      <td>Returningavaluefromafunction</td>\n",
       "      <td>test_questionfunctions_2_3</td>\n",
       "      <td>148</td>\n",
       "      <td>WN 2018</td>\n",
       "      <td>1</td>\n",
       "      <td>0</td>\n",
       "      <td>1</td>\n",
       "      <td>0</td>\n",
       "      <td>...</td>\n",
       "      <td>1</td>\n",
       "      <td>0</td>\n",
       "      <td>0</td>\n",
       "      <td>0</td>\n",
       "      <td>0</td>\n",
       "      <td>4</td>\n",
       "      <td>16</td>\n",
       "      <td>2018-02-10 11:57:55</td>\n",
       "      <td>2018-02-10 11:58:35</td>\n",
       "      <td>23</td>\n",
       "    </tr>\n",
       "    <tr>\n",
       "      <th>2</th>\n",
       "      <td>3</td>\n",
       "      <td>RESTAPIs</td>\n",
       "      <td>functionswithrestapis</td>\n",
       "      <td>test_question_functions_rest_apis_1</td>\n",
       "      <td>148</td>\n",
       "      <td>WN 2018</td>\n",
       "      <td>1</td>\n",
       "      <td>0</td>\n",
       "      <td>1</td>\n",
       "      <td>0</td>\n",
       "      <td>...</td>\n",
       "      <td>1</td>\n",
       "      <td>0</td>\n",
       "      <td>0</td>\n",
       "      <td>0</td>\n",
       "      <td>0</td>\n",
       "      <td>1</td>\n",
       "      <td>2</td>\n",
       "      <td>2018-03-12 17:03:07</td>\n",
       "      <td>2018-03-12 17:04:28</td>\n",
       "      <td>53</td>\n",
       "    </tr>\n",
       "    <tr>\n",
       "      <th>3</th>\n",
       "      <td>4</td>\n",
       "      <td>SimplePythonData</td>\n",
       "      <td>FunctionCalls</td>\n",
       "      <td>exercise_functionCalls_1</td>\n",
       "      <td>148</td>\n",
       "      <td>WN 2018</td>\n",
       "      <td>1</td>\n",
       "      <td>0</td>\n",
       "      <td>1</td>\n",
       "      <td>0</td>\n",
       "      <td>...</td>\n",
       "      <td>1</td>\n",
       "      <td>0</td>\n",
       "      <td>0</td>\n",
       "      <td>0</td>\n",
       "      <td>0</td>\n",
       "      <td>0</td>\n",
       "      <td>10</td>\n",
       "      <td>2018-01-30 14:15:49</td>\n",
       "      <td>2018-01-30 14:15:58</td>\n",
       "      <td>12</td>\n",
       "    </tr>\n",
       "    <tr>\n",
       "      <th>4</th>\n",
       "      <td>5</td>\n",
       "      <td>DictionaryAccumulation</td>\n",
       "      <td>AccumulatingaMaximumValue</td>\n",
       "      <td>ps_04_07</td>\n",
       "      <td>148</td>\n",
       "      <td>WN 2018</td>\n",
       "      <td>1</td>\n",
       "      <td>0</td>\n",
       "      <td>1</td>\n",
       "      <td>0</td>\n",
       "      <td>...</td>\n",
       "      <td>1</td>\n",
       "      <td>0</td>\n",
       "      <td>0</td>\n",
       "      <td>0</td>\n",
       "      <td>0</td>\n",
       "      <td>0</td>\n",
       "      <td>23</td>\n",
       "      <td>2018-03-03 14:04:17</td>\n",
       "      <td>2018-03-03 14:04:25</td>\n",
       "      <td>44</td>\n",
       "    </tr>\n",
       "  </tbody>\n",
       "</table>\n",
       "<p>5 rows × 48 columns</p>\n",
       "</div>"
      ],
      "text/plain": [
       "   Unnamed: 0           chapter_label               sub_chapter_label  \\\n",
       "0           1                    Sort  intro-SortingwithSortandSorted   \n",
       "1           2               Functions    Returningavaluefromafunction   \n",
       "2           3                RESTAPIs           functionswithrestapis   \n",
       "3           4        SimplePythonData                   FunctionCalls   \n",
       "4           5  DictionaryAccumulation       AccumulatingaMaximumValue   \n",
       "\n",
       "                         question_name  user_id.x     term  STDNT_SEX_CD  \\\n",
       "0                           ee_sort_04        148  WN 2018             1   \n",
       "1           test_questionfunctions_2_3        148  WN 2018             1   \n",
       "2  test_question_functions_rest_apis_1        148  WN 2018             1   \n",
       "3             exercise_functionCalls_1        148  WN 2018             1   \n",
       "4                             ps_04_07        148  WN 2018             1   \n",
       "\n",
       "   NonNativeEnglish  White  Asian  ...  classGraded  classHonors  Pass_Fail  \\\n",
       "0                 0      1      0  ...            1            0          0   \n",
       "1                 0      1      0  ...            1            0          0   \n",
       "2                 0      1      0  ...            1            0          0   \n",
       "3                 0      1      0  ...            1            0          0   \n",
       "4                 0      1      0  ...            1            0          0   \n",
       "\n",
       "   parentsGraduateEdu  minorityGroup  q  day's_available_flashcards  \\\n",
       "0                   0              0  0                          18   \n",
       "1                   0              0  4                          16   \n",
       "2                   0              0  1                           2   \n",
       "3                   0              0  0                          10   \n",
       "4                   0              0  0                          23   \n",
       "\n",
       "        start_practice         end_practice  days_offset  \n",
       "0  2018-03-04 20:00:19  2018-03-04 20:00:35           45  \n",
       "1  2018-02-10 11:57:55  2018-02-10 11:58:35           23  \n",
       "2  2018-03-12 17:03:07  2018-03-12 17:04:28           53  \n",
       "3  2018-01-30 14:15:49  2018-01-30 14:15:58           12  \n",
       "4  2018-03-03 14:04:17  2018-03-03 14:04:25           44  \n",
       "\n",
       "[5 rows x 48 columns]"
      ]
     },
     "execution_count": 3,
     "metadata": {},
     "output_type": "execute_result"
    }
   ],
   "source": [
    "# load the data\n",
    "import pandas as pd\n",
    "dataframe = pd.read_csv('../input/practice-log-demographics/Practice_Log_Demographics (1).csv', low_memory=False)\n",
    "dataframe.head()"
   ]
  },
  {
   "cell_type": "code",
   "execution_count": 4,
   "metadata": {
    "execution": {
     "iopub.execute_input": "2021-07-26T22:52:00.066721Z",
     "iopub.status.busy": "2021-07-26T22:52:00.066422Z",
     "iopub.status.idle": "2021-07-26T22:52:01.640684Z",
     "shell.execute_reply": "2021-07-26T22:52:01.639675Z",
     "shell.execute_reply.started": "2021-07-26T22:52:00.066694Z"
    },
    "id": "OCbHnEp_Vir0"
   },
   "outputs": [],
   "source": [
    "#sort data based on timestamp\n",
    "dataframe = dataframe.sort_values(by=['start_practice'])"
   ]
  },
  {
   "cell_type": "code",
   "execution_count": 5,
   "metadata": {
    "execution": {
     "iopub.execute_input": "2021-07-26T22:52:01.642493Z",
     "iopub.status.busy": "2021-07-26T22:52:01.642169Z",
     "iopub.status.idle": "2021-07-26T22:52:01.650764Z",
     "shell.execute_reply": "2021-07-26T22:52:01.649278Z",
     "shell.execute_reply.started": "2021-07-26T22:52:01.642463Z"
    },
    "id": "0RvF7BvEr98o"
   },
   "outputs": [],
   "source": [
    "FEATURES = ['chapter_label', 'sub_chapter_label','question_name','user_id','term',\n",
    "            'STDNT_SEX_CD', \n",
    "            'NonNativeEnglish',\n",
    "            'White',\n",
    "            'Asian',\n",
    "            'WhiteOrAsian',\n",
    "            'Hispanic',\n",
    "            'AfricanAmerican',\n",
    "            'OtherEthnicities',\n",
    "            'NonWhiteOrAsian',\n",
    "            'STDNT_CTZN_STAT_CD', 'international', \n",
    "            'gradingType',\n",
    "            'birthYear',\n",
    "            'exclClassCumGPA',\n",
    "            'Freshman',\n",
    "            'Junior',\n",
    "            'Sophomore',\n",
    "            'Senior',\n",
    "            'termCreditsGPA',\n",
    "            'termCreditsNoGPA',\n",
    "            'athlete_1',\n",
    "            'honorsPro',\n",
    "            'LSA', 'programBusiness', 'programEngineering', \n",
    "            'programInformation', 'programOther',\n",
    "            'HSCalculusTaken', \n",
    "            'highSchoolGPA', \n",
    "            'majorsCount', 'minorsCount',\n",
    "            'PREV_TERM_CUM_GPA',\n",
    "            'classGraded', 'classHonors', \n",
    "            'Pass_Fail', \n",
    "            'parentsGraduateEdu',  'minorityGroup', \n",
    "            'q',\n",
    "            'available_flashcards', \n",
    "            'start_practice', \n",
    "            'end_practice',\n",
    "            'days_offset']"
   ]
  },
  {
   "cell_type": "code",
   "execution_count": 6,
   "metadata": {
    "execution": {
     "iopub.execute_input": "2021-07-26T22:52:01.652342Z",
     "iopub.status.busy": "2021-07-26T22:52:01.652061Z",
     "iopub.status.idle": "2021-07-26T22:52:02.178026Z",
     "shell.execute_reply": "2021-07-26T22:52:02.176981Z",
     "shell.execute_reply.started": "2021-07-26T22:52:01.652316Z"
    },
    "id": "Mn341X7lSztl"
   },
   "outputs": [],
   "source": [
    "dataframe['available_flashcards'] = dataframe[\"day's_available_flashcards\"][:]\n",
    "dataframe = dataframe.drop([\"day's_available_flashcards\"], axis=1)\n",
    "dataframe['user_id'] = dataframe[\"user_id.x\"][:]\n",
    "dataframe = dataframe.drop([\"user_id.x\"], axis=1)"
   ]
  },
  {
   "cell_type": "code",
   "execution_count": 7,
   "metadata": {
    "execution": {
     "iopub.execute_input": "2021-07-26T22:52:02.179635Z",
     "iopub.status.busy": "2021-07-26T22:52:02.179343Z",
     "iopub.status.idle": "2021-07-26T22:52:02.363009Z",
     "shell.execute_reply": "2021-07-26T22:52:02.362282Z",
     "shell.execute_reply.started": "2021-07-26T22:52:02.179608Z"
    },
    "id": "-_BRggOjbBjN",
    "outputId": "42bff7db-08dd-48dc-a73a-d048508053b7"
   },
   "outputs": [
    {
     "data": {
      "text/plain": [
       "66"
      ]
     },
     "execution_count": 7,
     "metadata": {},
     "output_type": "execute_result"
    }
   ],
   "source": [
    "gc.collect()"
   ]
  },
  {
   "cell_type": "code",
   "execution_count": 8,
   "metadata": {
    "execution": {
     "iopub.execute_input": "2021-07-26T22:52:02.366181Z",
     "iopub.status.busy": "2021-07-26T22:52:02.365809Z",
     "iopub.status.idle": "2021-07-26T22:52:02.682193Z",
     "shell.execute_reply": "2021-07-26T22:52:02.681052Z",
     "shell.execute_reply.started": "2021-07-26T22:52:02.366140Z"
    },
    "id": "lXM7MlonVeRL",
    "outputId": "d29ccec0-522f-4e3c-e0b2-39b2e1eaef74"
   },
   "outputs": [
    {
     "data": {
      "text/plain": [
       "22"
      ]
     },
     "execution_count": 8,
     "metadata": {},
     "output_type": "execute_result"
    }
   ],
   "source": [
    "dataframe = dataframe[FEATURES]\n",
    "gc.collect()"
   ]
  },
  {
   "cell_type": "code",
   "execution_count": 9,
   "metadata": {
    "execution": {
     "iopub.execute_input": "2021-07-26T22:52:02.684572Z",
     "iopub.status.busy": "2021-07-26T22:52:02.684267Z",
     "iopub.status.idle": "2021-07-26T22:52:04.328452Z",
     "shell.execute_reply": "2021-07-26T22:52:04.327266Z",
     "shell.execute_reply.started": "2021-07-26T22:52:02.684542Z"
    },
    "id": "qRKqF_0IXZgj"
   },
   "outputs": [],
   "source": [
    "#label encode term, chapter_label, question_name, sub_chapter_label columns\n",
    "dataframe['term'] = dataframe['term'].astype('category')\n",
    "dataframe['user_id'] = dataframe['user_id'].astype(int)\n",
    "dataframe['user_id'] = dataframe['user_id'].astype(str)\n",
    "dataframe['user_id'] = dataframe['term'].str.cat(dataframe['user_id'], sep=':')\n",
    "dataframe['user_id'] = dataframe['user_id'].astype('category')\n",
    "dataframe['chapter_label'] = dataframe['chapter_label'].astype('category')\n",
    "dataframe['sub_chapter_label'] = dataframe['sub_chapter_label'].astype('category')\n",
    "dataframe['question_name'] = dataframe['question_name'].astype('category')\n"
   ]
  },
  {
   "cell_type": "code",
   "execution_count": 10,
   "metadata": {
    "execution": {
     "iopub.execute_input": "2021-07-26T22:52:04.330933Z",
     "iopub.status.busy": "2021-07-26T22:52:04.330444Z",
     "iopub.status.idle": "2021-07-26T22:52:04.903269Z",
     "shell.execute_reply": "2021-07-26T22:52:04.902093Z",
     "shell.execute_reply.started": "2021-07-26T22:52:04.330886Z"
    },
    "id": "eVl_067GWkDe"
   },
   "outputs": [],
   "source": [
    "#calculate time_lag and prev_time_elapsed\n",
    "dataframe['prev_time_elapsed'] = None\n",
    "dataframe['time_lag'] = None\n",
    "dataframe['time_lag'] = dataframe['time_lag'].astype(np.float)\n",
    "dataframe['prev_time_elapsed'] = dataframe['prev_time_elapsed'].astype(np.float)\n",
    "dataframe.start_practice = pd.to_datetime(dataframe.start_practice, format='%Y-%m-%d %H:%M:%S')\n",
    "dataframe.end_practice = pd.to_datetime(dataframe.end_practice, format='%Y-%m-%d %H:%M:%S')"
   ]
  },
  {
   "cell_type": "code",
   "execution_count": 11,
   "metadata": {
    "execution": {
     "iopub.execute_input": "2021-07-26T22:52:04.905260Z",
     "iopub.status.busy": "2021-07-26T22:52:04.904927Z",
     "iopub.status.idle": "2021-07-26T22:52:04.943438Z",
     "shell.execute_reply": "2021-07-26T22:52:04.942316Z",
     "shell.execute_reply.started": "2021-07-26T22:52:04.905226Z"
    }
   },
   "outputs": [],
   "source": [
    "dataframe['dif'] = dataframe.end_practice - dataframe.start_practice\n",
    "dataframe['dif'] = dataframe['dif'] /np.timedelta64(1, 's')\n",
    "dataframe['answer_correct'] = np.where((dataframe['q']==5) & (dataframe['dif'] <= 60), 1, 0)"
   ]
  },
  {
   "cell_type": "code",
   "execution_count": 13,
   "metadata": {
    "execution": {
     "iopub.execute_input": "2021-07-26T22:52:26.010069Z",
     "iopub.status.busy": "2021-07-26T22:52:26.009763Z",
     "iopub.status.idle": "2021-07-26T22:52:26.089177Z",
     "shell.execute_reply": "2021-07-26T22:52:26.088091Z",
     "shell.execute_reply.started": "2021-07-26T22:52:26.010033Z"
    },
    "id": "8t8yZ0XvWwzz"
   },
   "outputs": [],
   "source": [
    "#drop column end_practice\n",
    "dataframe.drop(columns=['end_practice'], inplace=True)"
   ]
  },
  {
   "cell_type": "code",
   "execution_count": 14,
   "metadata": {
    "execution": {
     "iopub.execute_input": "2021-07-26T22:52:26.090921Z",
     "iopub.status.busy": "2021-07-26T22:52:26.090585Z",
     "iopub.status.idle": "2021-07-26T22:52:26.556214Z",
     "shell.execute_reply": "2021-07-26T22:52:26.555182Z",
     "shell.execute_reply.started": "2021-07-26T22:52:26.090888Z"
    },
    "id": "E42raRIrYYXz"
   },
   "outputs": [],
   "source": [
    "# calculate the age feature\n",
    "dataframe['term_value'] = [int(ele[3:]) for ele in dataframe['term']]\n",
    "dataframe['age'] = dataframe['term_value'] - dataframe['birthYear']"
   ]
  },
  {
   "cell_type": "code",
   "execution_count": 15,
   "metadata": {
    "execution": {
     "iopub.execute_input": "2021-07-26T22:52:26.558658Z",
     "iopub.status.busy": "2021-07-26T22:52:26.558216Z",
     "iopub.status.idle": "2021-07-26T22:52:26.756698Z",
     "shell.execute_reply": "2021-07-26T22:52:26.755368Z",
     "shell.execute_reply.started": "2021-07-26T22:52:26.558611Z"
    },
    "id": "pcMVQXueYnMh"
   },
   "outputs": [],
   "source": [
    "# drop term_value and birthYear column\n",
    "dataframe.drop(columns=['term_value', 'birthYear'], inplace=True)"
   ]
  },
  {
   "cell_type": "code",
   "execution_count": 16,
   "metadata": {
    "execution": {
     "iopub.execute_input": "2021-07-26T22:52:26.759544Z",
     "iopub.status.busy": "2021-07-26T22:52:26.759093Z",
     "iopub.status.idle": "2021-07-26T22:52:27.244524Z",
     "shell.execute_reply": "2021-07-26T22:52:27.243383Z",
     "shell.execute_reply.started": "2021-07-26T22:52:26.759497Z"
    },
    "id": "hjRF5szkcQE0"
   },
   "outputs": [],
   "source": [
    "# convert minors_count to int value\n",
    "new_minors_count = []\n",
    "for i in dataframe['minorsCount']:\n",
    "  if i == 0 or i == '0':\n",
    "    new_minors_count.append(0)\n",
    "  elif i == '1 Minor':\n",
    "    new_minors_count.append(1)\n",
    "  else:\n",
    "    new_minors_count.append(2)\n",
    "\n",
    "dataframe['minorsCount'] = new_minors_count"
   ]
  },
  {
   "cell_type": "code",
   "execution_count": 17,
   "metadata": {
    "execution": {
     "iopub.execute_input": "2021-07-26T22:52:27.246386Z",
     "iopub.status.busy": "2021-07-26T22:52:27.246062Z",
     "iopub.status.idle": "2021-07-26T22:52:27.261570Z",
     "shell.execute_reply": "2021-07-26T22:52:27.260618Z",
     "shell.execute_reply.started": "2021-07-26T22:52:27.246358Z"
    },
    "id": "9VdzvJSw0KUU",
    "outputId": "6393784f-234e-4935-9cee-cbcf56b5630a"
   },
   "outputs": [
    {
     "name": "stdout",
     "output_type": "stream",
     "text": [
      "we have  1110  users in total.\n"
     ]
    }
   ],
   "source": [
    "print(\"we have \", dataframe['user_id'].nunique(),\" users in total.\")"
   ]
  },
  {
   "cell_type": "code",
   "execution_count": 18,
   "metadata": {
    "execution": {
     "iopub.execute_input": "2021-07-26T22:52:27.263073Z",
     "iopub.status.busy": "2021-07-26T22:52:27.262691Z",
     "iopub.status.idle": "2021-07-26T22:52:27.271815Z",
     "shell.execute_reply": "2021-07-26T22:52:27.271003Z",
     "shell.execute_reply.started": "2021-07-26T22:52:27.263039Z"
    },
    "id": "hUaGk9L9g13t"
   },
   "outputs": [],
   "source": [
    "for category in ['term','chapter_label', 'sub_chapter_label', 'question_name']:\n",
    "  dataframe[category] =  dataframe[category].cat.codes"
   ]
  },
  {
   "cell_type": "code",
   "execution_count": 19,
   "metadata": {
    "execution": {
     "iopub.execute_input": "2021-07-26T22:52:27.273448Z",
     "iopub.status.busy": "2021-07-26T22:52:27.272966Z",
     "iopub.status.idle": "2021-07-26T22:52:27.605318Z",
     "shell.execute_reply": "2021-07-26T22:52:27.604148Z",
     "shell.execute_reply.started": "2021-07-26T22:52:27.273418Z"
    },
    "id": "hkyvcYvlhliG"
   },
   "outputs": [],
   "source": [
    "NUMERIC_FEATURE =  ['age',\n",
    "            'exclClassCumGPA',\n",
    "            'termCreditsGPA',\n",
    "            'termCreditsNoGPA',\n",
    "            'highSchoolGPA', \n",
    "            'majorsCount', 'minorsCount',\n",
    "            'PREV_TERM_CUM_GPA',\n",
    "            'available_flashcards', \n",
    "            'days_offset', \n",
    "            'prev_time_elapsed',\n",
    "             'time_lag']\n",
    "# z-score normalize the numerical features\n",
    "for f in NUMERIC_FEATURE:\n",
    "  m = dataframe[f].mean()\n",
    "  std = dataframe[f].std()\n",
    "  dataframe[f] = (dataframe[f] - m)/std"
   ]
  },
  {
   "cell_type": "code",
   "execution_count": 20,
   "metadata": {
    "execution": {
     "iopub.execute_input": "2021-07-26T22:52:27.607658Z",
     "iopub.status.busy": "2021-07-26T22:52:27.607233Z",
     "iopub.status.idle": "2021-07-26T22:52:31.446236Z",
     "shell.execute_reply": "2021-07-26T22:52:31.445386Z",
     "shell.execute_reply.started": "2021-07-26T22:52:27.607611Z"
    },
    "id": "wo2OH-d5kWp1"
   },
   "outputs": [],
   "source": [
    "FEATURE_TRANS =  ['answer_correct', 'chapter_label', 'sub_chapter_label','question_name','user_id','term',\n",
    "                  'STDNT_SEX_CD', \n",
    "                    'White','Asian','NonWhiteOrAsian',\n",
    "            'STDNT_CTZN_STAT_CD', 'international', \n",
    "            'age',\n",
    "            'exclClassCumGPA',\n",
    "           'Freshman',\n",
    "            'Junior',\n",
    "            'Sophomore',\n",
    "            'Senior',\n",
    "            'termCreditsGPA',\n",
    "            'termCreditsNoGPA',\n",
    "            'athlete_1',\n",
    "            'honorsPro',\n",
    "            'LSA', 'programBusiness', 'programEngineering', \n",
    "            'programInformation', 'programOther',\n",
    "            'HSCalculusTaken', \n",
    "            'highSchoolGPA', \n",
    "            'majorsCount', 'minorsCount',\n",
    "            'PREV_TERM_CUM_GPA',\n",
    "            'classGraded', 'classHonors', \n",
    "            'Pass_Fail', \n",
    "            'parentsGraduateEdu',  'minorityGroup', \n",
    "            'available_flashcards', \n",
    "            'days_offset', 'prev_time_elapsed',\n",
    "             'time_lag']\n",
    "grouped_data = dataframe[FEATURE_TRANS].groupby(['user_id']).apply(lambda r: (\n",
    "                r['answer_correct'],\n",
    "                r['term'],\n",
    "                r['chapter_label'],\n",
    "                r['sub_chapter_label'],\n",
    "                r['question_name'],\n",
    "                np.array([r['STDNT_SEX_CD'],r['STDNT_CTZN_STAT_CD'], r['international'], \n",
    "                  r['White'],r['Asian'],r['NonWhiteOrAsian'],\n",
    "                 r['age'],r['exclClassCumGPA'],\n",
    "                r['Freshman'], r['Junior'], r['Sophomore'], r['Senior'],\n",
    "                r['termCreditsGPA'], r['termCreditsNoGPA'],\n",
    "                r['athlete_1'], r['honorsPro'],\n",
    "                r['LSA'], r['programBusiness'], r['programEngineering'], \n",
    "                r['programInformation'], r['programOther'],\n",
    "                r['HSCalculusTaken'],  r['highSchoolGPA'], \n",
    "                r['majorsCount'], r['minorsCount'],\n",
    "                r['PREV_TERM_CUM_GPA'], \n",
    "                r['parentsGraduateEdu'], r['minorityGroup'],\n",
    "                r['available_flashcards'],\n",
    "                r['days_offset'],\n",
    "                r['prev_time_elapsed'],\n",
    "                r['time_lag']\n",
    "              ]).transpose()\n",
    "                ))"
   ]
  },
  {
   "cell_type": "code",
   "execution_count": 21,
   "metadata": {
    "execution": {
     "iopub.execute_input": "2021-07-26T22:52:31.448217Z",
     "iopub.status.busy": "2021-07-26T22:52:31.447661Z",
     "iopub.status.idle": "2021-07-26T22:52:31.653801Z",
     "shell.execute_reply": "2021-07-26T22:52:31.652492Z",
     "shell.execute_reply.started": "2021-07-26T22:52:31.448182Z"
    },
    "id": "XXLqQnjrlp_4",
    "outputId": "c801da79-f0bf-4fe5-b19c-7c799fe01556"
   },
   "outputs": [
    {
     "data": {
      "text/plain": [
       "22"
      ]
     },
     "execution_count": 21,
     "metadata": {},
     "output_type": "execute_result"
    }
   ],
   "source": [
    "gc.collect()"
   ]
  },
  {
   "cell_type": "code",
   "execution_count": 22,
   "metadata": {
    "execution": {
     "iopub.execute_input": "2021-07-26T22:52:31.655904Z",
     "iopub.status.busy": "2021-07-26T22:52:31.655516Z",
     "iopub.status.idle": "2021-07-26T22:52:31.702743Z",
     "shell.execute_reply": "2021-07-26T22:52:31.701567Z",
     "shell.execute_reply.started": "2021-07-26T22:52:31.655852Z"
    },
    "id": "QYGQasdTrmP0"
   },
   "outputs": [],
   "source": [
    "# remove students who don't have make any interactions with the tool\n",
    "toRemove = []\n",
    "for index in grouped_data.index:\n",
    "  if len(grouped_data[index][0]) <= 10:\n",
    "    toRemove.append(index)\n",
    "grouped_data = grouped_data.drop(index=toRemove)"
   ]
  },
  {
   "cell_type": "code",
   "execution_count": 23,
   "metadata": {
    "execution": {
     "iopub.execute_input": "2021-07-26T22:52:31.704361Z",
     "iopub.status.busy": "2021-07-26T22:52:31.704029Z",
     "iopub.status.idle": "2021-07-26T22:52:31.709210Z",
     "shell.execute_reply": "2021-07-26T22:52:31.707855Z",
     "shell.execute_reply.started": "2021-07-26T22:52:31.704331Z"
    },
    "id": "9kZqV9siDyNb"
   },
   "outputs": [],
   "source": [
    "#SETTINGS -> can be modified at any time\n",
    "MAXLENGTH = 300\n",
    "EMBEDDING_DIM = 128\n",
    "DENSE_NEURON = 16\n",
    "LSTM_NEURON = 32"
   ]
  },
  {
   "cell_type": "code",
   "execution_count": 24,
   "metadata": {
    "execution": {
     "iopub.execute_input": "2021-07-26T22:52:31.711208Z",
     "iopub.status.busy": "2021-07-26T22:52:31.710888Z",
     "iopub.status.idle": "2021-07-26T22:52:31.723333Z",
     "shell.execute_reply": "2021-07-26T22:52:31.722008Z",
     "shell.execute_reply.started": "2021-07-26T22:52:31.711179Z"
    },
    "id": "1MksD1JizpPn"
   },
   "outputs": [],
   "source": [
    "#FEATURES_SIZE = 38\n",
    "CHAPTER_SIZE = 38\n",
    "SUB_CHAPTER_SIZE = 223\n",
    "QUESTION_SIZE = 1069"
   ]
  },
  {
   "cell_type": "code",
   "execution_count": 25,
   "metadata": {
    "execution": {
     "iopub.execute_input": "2021-07-26T22:52:31.724983Z",
     "iopub.status.busy": "2021-07-26T22:52:31.724631Z",
     "iopub.status.idle": "2021-07-26T22:52:31.744009Z",
     "shell.execute_reply": "2021-07-26T22:52:31.742814Z",
     "shell.execute_reply.started": "2021-07-26T22:52:31.724950Z"
    }
   },
   "outputs": [
    {
     "data": {
      "text/plain": [
       "array([ 96,  86,  88,  28,  12,  82, 125,  32,  69,  33,  21, 115, 120,\n",
       "       119,  91,  73,  57,  77, 117,  40,  74,  41,  68,  39,  92,  47,\n",
       "       104,  95,  53,  49,  50,  16,  52,  55,   7,  15,  51, 102, 103,\n",
       "        11,  94, 108, 100,  17,  67,  63,  13, 139,  26,  25,   8, 107,\n",
       "         0,  90,  48,  54, 138,   1,   2,   3,  34,  35,  85,   5,  24,\n",
       "        37,  36,  78,  70,  45, 142,  71,  10,  89, 111, 112, 109, 116,\n",
       "        76,  72, 148, 134, 146, 221, 143,  56,  60,  61,  23, 140, 106,\n",
       "        42,  83,  22, 145, 136, 144,  38,   4,  19, 137,  75,  43,  98,\n",
       "        84, 113, 173, 174, 175, 176, 177, 178, 180, 181, 182, 187, 189,\n",
       "       190, 191, 192, 193, 195, 197, 151, 152, 153, 156, 157, 158, 159,\n",
       "       160, 161, 163, 164, 165, 166, 167, 168, 169, 170, 171, 172, 198,\n",
       "       199, 200, 201, 202, 203, 204, 205, 206, 207, 208, 209, 210, 162,\n",
       "       179, 186, 188, 194, 183, 184, 185, 211, 212, 213, 154, 155, 196,\n",
       "         6, 118,  18, 215,  46, 216, 141,  27, 217, 105, 123, 218, 101,\n",
       "       124, 219, 122, 220,  58,  59,  64,  20,  93,  65,  66,   9,  44,\n",
       "        30,  14,  79, 121,  31, 110, 129,  87,  97,  62, 149, 132, 131,\n",
       "       150, 130, 128,  99, 147, 127, 214, 135,  80, 126, 133,  81, 114,\n",
       "        29], dtype=int16)"
      ]
     },
     "execution_count": 25,
     "metadata": {},
     "output_type": "execute_result"
    }
   ],
   "source": [
    "dataframe['sub_chapter_label'].unique()"
   ]
  },
  {
   "cell_type": "code",
   "execution_count": 26,
   "metadata": {
    "execution": {
     "iopub.execute_input": "2021-07-26T22:52:31.749493Z",
     "iopub.status.busy": "2021-07-26T22:52:31.749165Z",
     "iopub.status.idle": "2021-07-26T22:52:32.125195Z",
     "shell.execute_reply": "2021-07-26T22:52:32.124109Z",
     "shell.execute_reply.started": "2021-07-26T22:52:31.749465Z"
    },
    "id": "mY3Thp6d0NaT"
   },
   "outputs": [],
   "source": [
    "#create dataset class\n",
    "#to prepare it for train, valid, and test sets\n",
    "from torch.utils.data import Dataset, DataLoader\n",
    "class SPACE_DATASET(Dataset):\n",
    "    def __init__(self, data, maxlength = 300):\n",
    "        super(SPACE_DATASET, self).__init__()\n",
    "        self.maxlength = maxlength\n",
    "        self.data = data\n",
    "        self.users = list()\n",
    "        for user in data.index:\n",
    "            self.users.append(user)\n",
    "\n",
    "    def __len__(self):\n",
    "        return len(self.users)\n",
    "    \n",
    "    def __getitem__(self, ix):\n",
    "        user = self.users[ix]\n",
    "        user = user\n",
    "        target, term, ch_label, sub_ch_label, ques_name, features = self.data[user]\n",
    "        \n",
    "        #0s should be used as padding values\n",
    "        ori_target = target.values \n",
    "        term = term.values\n",
    "        ch_label = ch_label.values + 1\n",
    "        sub_ch_label = sub_ch_label.values +1\n",
    "        ques_name = ques_name.values + 1\n",
    "        \n",
    "        n = len(ch_label)\n",
    "\n",
    "        # one hot for term\n",
    "        term_encode = [0]*7\n",
    "        term_encode[term[0]] = 1\n",
    "        shifted_target= []\n",
    "\n",
    "        \n",
    "        # get  user interaction informations in the previous MAXLEN interactions\n",
    "        if n > self.maxlength:\n",
    "          ch_label = ch_label[-self.maxlength:]\n",
    "          sub_ch_label = sub_ch_label[-self.maxlength:]\n",
    "          ques_name = ques_name[-self.maxlength:]\n",
    "          features = features[-self.maxlength:]\n",
    "          target = ori_target[-self.maxlength:]\n",
    "          shifted_target = ori_target[ (-self.maxlength - 1) :-1]\n",
    "        else:\n",
    "          ch_label = [0]*(self.maxlength - n)+list(ch_label[:])\n",
    "          sub_ch_label = [0]*(self.maxlength - n)+list(sub_ch_label[:])\n",
    "          ques_name = [0]*(self.maxlength - n)+list(ques_name[:])\n",
    "          features = [[0]*len(features[0])]*(self.maxlength  - n)+list(features[:])\n",
    "          target = [-1]*(self.maxlength - n) + list(ori_target[:])\n",
    "          shifted_target = [-1]*(self.maxlength + 1 - n) + list(ori_target[:-1])\n",
    "\n",
    "        new_features = []\n",
    "        count = 0\n",
    "        for f in features:\n",
    "          temp = list(f)\n",
    "          temp.extend(term_encode)\n",
    "          # temp.append(shifted_target[count]) #uncomment this line for include previous response feature\n",
    "          new_features.append(temp)\n",
    "          count += 1\n",
    "        features = new_features\n",
    "        return ch_label,sub_ch_label,ques_name,target"
   ]
  },
  {
   "cell_type": "code",
   "execution_count": 27,
   "metadata": {
    "execution": {
     "iopub.execute_input": "2021-07-26T22:52:32.127758Z",
     "iopub.status.busy": "2021-07-26T22:52:32.127443Z",
     "iopub.status.idle": "2021-07-26T22:52:32.134544Z",
     "shell.execute_reply": "2021-07-26T22:52:32.133376Z",
     "shell.execute_reply.started": "2021-07-26T22:52:32.127727Z"
    }
   },
   "outputs": [
    {
     "data": {
      "text/plain": [
       "223"
      ]
     },
     "execution_count": 27,
     "metadata": {},
     "output_type": "execute_result"
    }
   ],
   "source": [
    "SUB_CHAPTER_SIZE"
   ]
  },
  {
   "cell_type": "code",
   "execution_count": 28,
   "metadata": {
    "execution": {
     "iopub.execute_input": "2021-07-26T22:52:32.137078Z",
     "iopub.status.busy": "2021-07-26T22:52:32.136611Z",
     "iopub.status.idle": "2021-07-26T23:05:24.260274Z",
     "shell.execute_reply": "2021-07-26T23:05:24.259161Z",
     "shell.execute_reply.started": "2021-07-26T22:52:32.137032Z"
    },
    "id": "gzJrljnjzypP",
    "outputId": "87abe488-b493-4f8f-9d71-45cb1d2ddf51"
   },
   "outputs": [
    {
     "name": "stdout",
     "output_type": "stream",
     "text": [
      "Epoch 1/100\n",
      "14/14 [==============================] - 15s 638ms/step - loss: 0.6039 - masked_acc: 0.5719 - masked_auc: 0.5188 - val_loss: 0.5086 - val_masked_acc: 0.7044 - val_masked_auc: 0.6302\n",
      "Epoch 2/100\n",
      "14/14 [==============================] - 7s 479ms/step - loss: 0.4914 - masked_acc: 0.7089 - masked_auc: 0.6610 - val_loss: 0.4714 - val_masked_acc: 0.7209 - val_masked_auc: 0.7082\n",
      "Epoch 3/100\n",
      "14/14 [==============================] - 7s 468ms/step - loss: 0.4651 - masked_acc: 0.7259 - masked_auc: 0.7218 - val_loss: 0.4578 - val_masked_acc: 0.7369 - val_masked_auc: 0.7437\n",
      "Epoch 4/100\n",
      "14/14 [==============================] - 7s 474ms/step - loss: 0.4459 - masked_acc: 0.7400 - masked_auc: 0.7499 - val_loss: 0.4540 - val_masked_acc: 0.7463 - val_masked_auc: 0.7621\n",
      "Epoch 5/100\n",
      "14/14 [==============================] - 6s 449ms/step - loss: 0.4384 - masked_acc: 0.7482 - masked_auc: 0.7665 - val_loss: 0.4502 - val_masked_acc: 0.7523 - val_masked_auc: 0.7742\n",
      "Epoch 6/100\n",
      "14/14 [==============================] - 7s 476ms/step - loss: 0.4419 - masked_acc: 0.7533 - masked_auc: 0.7768 - val_loss: 0.4482 - val_masked_acc: 0.7563 - val_masked_auc: 0.7826\n",
      "Epoch 7/100\n",
      "14/14 [==============================] - 6s 463ms/step - loss: 0.4352 - masked_acc: 0.7569 - masked_auc: 0.7845 - val_loss: 0.4502 - val_masked_acc: 0.7593 - val_masked_auc: 0.7893\n",
      "Epoch 8/100\n",
      "14/14 [==============================] - 6s 455ms/step - loss: 0.4281 - masked_acc: 0.7599 - masked_auc: 0.7910 - val_loss: 0.4427 - val_masked_acc: 0.7619 - val_masked_auc: 0.7948\n",
      "Epoch 9/100\n",
      "14/14 [==============================] - 6s 453ms/step - loss: 0.4234 - masked_acc: 0.7624 - masked_auc: 0.7961 - val_loss: 0.4432 - val_masked_acc: 0.7641 - val_masked_auc: 0.7995\n",
      "Epoch 10/100\n",
      "14/14 [==============================] - 6s 461ms/step - loss: 0.4128 - masked_acc: 0.7648 - masked_auc: 0.8011 - val_loss: 0.4425 - val_masked_acc: 0.7661 - val_masked_auc: 0.8035\n",
      "Epoch 11/100\n",
      "14/14 [==============================] - 7s 480ms/step - loss: 0.4243 - masked_acc: 0.7665 - masked_auc: 0.8045 - val_loss: 0.4419 - val_masked_acc: 0.7679 - val_masked_auc: 0.8067\n",
      "Epoch 12/100\n",
      "14/14 [==============================] - 6s 454ms/step - loss: 0.4151 - masked_acc: 0.7682 - masked_auc: 0.8077 - val_loss: 0.4428 - val_masked_acc: 0.7693 - val_masked_auc: 0.8097\n",
      "Epoch 13/100\n",
      "14/14 [==============================] - 6s 459ms/step - loss: 0.4074 - masked_acc: 0.7697 - masked_auc: 0.8106 - val_loss: 0.4431 - val_masked_acc: 0.7707 - val_masked_auc: 0.8125\n",
      "Epoch 14/100\n",
      "14/14 [==============================] - 6s 458ms/step - loss: 0.4059 - masked_acc: 0.7711 - masked_auc: 0.8132 - val_loss: 0.4425 - val_masked_acc: 0.7721 - val_masked_auc: 0.8151\n",
      "Epoch 15/100\n",
      "14/14 [==============================] - 6s 463ms/step - loss: 0.4060 - masked_acc: 0.7724 - masked_auc: 0.8159 - val_loss: 0.4501 - val_masked_acc: 0.7732 - val_masked_auc: 0.8173\n",
      "Epoch 16/100\n",
      "14/14 [==============================] - 7s 494ms/step - loss: 0.4056 - masked_acc: 0.7735 - masked_auc: 0.8178 - val_loss: 0.4476 - val_masked_acc: 0.7742 - val_masked_auc: 0.8189\n",
      "Epoch 17/100\n",
      "14/14 [==============================] - 6s 456ms/step - loss: 0.4115 - masked_acc: 0.7744 - masked_auc: 0.8193 - val_loss: 0.4412 - val_masked_acc: 0.7752 - val_masked_auc: 0.8205\n",
      "Epoch 18/100\n",
      "14/14 [==============================] - 6s 454ms/step - loss: 0.4032 - masked_acc: 0.7754 - masked_auc: 0.8210 - val_loss: 0.4473 - val_masked_acc: 0.7761 - val_masked_auc: 0.8223\n",
      "Epoch 19/100\n",
      "14/14 [==============================] - 6s 443ms/step - loss: 0.3954 - masked_acc: 0.7764 - masked_auc: 0.8228 - val_loss: 0.4515 - val_masked_acc: 0.7772 - val_masked_auc: 0.8240\n",
      "Epoch 20/100\n",
      "14/14 [==============================] - 6s 444ms/step - loss: 0.3916 - masked_acc: 0.7774 - masked_auc: 0.8246 - val_loss: 0.4547 - val_masked_acc: 0.7782 - val_masked_auc: 0.8257\n",
      "Epoch 21/100\n",
      "14/14 [==============================] - 7s 468ms/step - loss: 0.3908 - masked_acc: 0.7784 - masked_auc: 0.8263 - val_loss: 0.4548 - val_masked_acc: 0.7791 - val_masked_auc: 0.8274\n",
      "Epoch 22/100\n",
      "14/14 [==============================] - 6s 441ms/step - loss: 0.3896 - masked_acc: 0.7793 - masked_auc: 0.8279 - val_loss: 0.4549 - val_masked_acc: 0.7800 - val_masked_auc: 0.8290\n",
      "Epoch 23/100\n",
      "14/14 [==============================] - 6s 442ms/step - loss: 0.3806 - masked_acc: 0.7804 - masked_auc: 0.8295 - val_loss: 0.4634 - val_masked_acc: 0.7810 - val_masked_auc: 0.8305\n",
      "Epoch 24/100\n",
      "14/14 [==============================] - 6s 454ms/step - loss: 0.3777 - masked_acc: 0.7813 - masked_auc: 0.8310 - val_loss: 0.4639 - val_masked_acc: 0.7819 - val_masked_auc: 0.8321\n",
      "Epoch 25/100\n",
      "14/14 [==============================] - 6s 456ms/step - loss: 0.3841 - masked_acc: 0.7822 - masked_auc: 0.8325 - val_loss: 0.4482 - val_masked_acc: 0.7827 - val_masked_auc: 0.8332\n",
      "Epoch 26/100\n",
      "14/14 [==============================] - 7s 470ms/step - loss: 0.3829 - masked_acc: 0.7829 - masked_auc: 0.8336 - val_loss: 0.4461 - val_masked_acc: 0.7834 - val_masked_auc: 0.8343\n",
      "Epoch 27/100\n",
      "14/14 [==============================] - 6s 449ms/step - loss: 0.3770 - masked_acc: 0.7837 - masked_auc: 0.8347 - val_loss: 0.4566 - val_masked_acc: 0.7842 - val_masked_auc: 0.8355\n",
      "28/28 [==============================] - 2s 76ms/step - loss: 0.3818 - masked_acc: 0.7848 - masked_auc: 0.8363\n",
      "4/4 [==============================] - 0s 70ms/step - loss: 0.4673 - masked_acc: 0.7850 - masked_auc: 0.8366\n",
      "Test:  [0.46730902791023254, 0.7850282192230225, 0.8366332650184631]\n",
      "Epoch 1/100\n",
      "14/14 [==============================] - 14s 607ms/step - loss: 0.6085 - masked_acc: 0.5346 - masked_auc: 0.5193 - val_loss: 0.5240 - val_masked_acc: 0.6942 - val_masked_auc: 0.6136\n",
      "Epoch 2/100\n",
      "14/14 [==============================] - 7s 490ms/step - loss: 0.5103 - masked_acc: 0.6996 - masked_auc: 0.6411 - val_loss: 0.4757 - val_masked_acc: 0.7160 - val_masked_auc: 0.6930\n",
      "Epoch 3/100\n",
      "14/14 [==============================] - 6s 455ms/step - loss: 0.4566 - masked_acc: 0.7225 - masked_auc: 0.7086 - val_loss: 0.4604 - val_masked_acc: 0.7330 - val_masked_auc: 0.7332\n",
      "Epoch 4/100\n",
      "14/14 [==============================] - 6s 448ms/step - loss: 0.4488 - masked_acc: 0.7362 - masked_auc: 0.7408 - val_loss: 0.4589 - val_masked_acc: 0.7429 - val_masked_auc: 0.7540\n",
      "Epoch 5/100\n",
      "14/14 [==============================] - 6s 459ms/step - loss: 0.4553 - masked_acc: 0.7446 - masked_auc: 0.7581 - val_loss: 0.4635 - val_masked_acc: 0.7490 - val_masked_auc: 0.7661\n",
      "Epoch 6/100\n",
      "14/14 [==============================] - 6s 456ms/step - loss: 0.4459 - masked_acc: 0.7504 - masked_auc: 0.7687 - val_loss: 0.4526 - val_masked_acc: 0.7534 - val_masked_auc: 0.7746\n",
      "Epoch 7/100\n",
      "14/14 [==============================] - 7s 479ms/step - loss: 0.4324 - masked_acc: 0.7545 - masked_auc: 0.7770 - val_loss: 0.4530 - val_masked_acc: 0.7565 - val_masked_auc: 0.7814\n",
      "Epoch 8/100\n",
      "14/14 [==============================] - 7s 476ms/step - loss: 0.4369 - masked_acc: 0.7572 - masked_auc: 0.7831 - val_loss: 0.4484 - val_masked_acc: 0.7591 - val_masked_auc: 0.7872\n",
      "Epoch 9/100\n",
      "14/14 [==============================] - 7s 490ms/step - loss: 0.4236 - masked_acc: 0.7598 - masked_auc: 0.7888 - val_loss: 0.4484 - val_masked_acc: 0.7614 - val_masked_auc: 0.7921\n",
      "Epoch 10/100\n",
      "14/14 [==============================] - 7s 478ms/step - loss: 0.4182 - masked_acc: 0.7621 - masked_auc: 0.7937 - val_loss: 0.4471 - val_masked_acc: 0.7633 - val_masked_auc: 0.7964\n",
      "Epoch 11/100\n",
      "14/14 [==============================] - 7s 472ms/step - loss: 0.4158 - masked_acc: 0.7639 - masked_auc: 0.7977 - val_loss: 0.4482 - val_masked_acc: 0.7652 - val_masked_auc: 0.8005\n",
      "Epoch 12/100\n",
      "14/14 [==============================] - 7s 505ms/step - loss: 0.4092 - masked_acc: 0.7657 - masked_auc: 0.8017 - val_loss: 0.4455 - val_masked_acc: 0.7669 - val_masked_auc: 0.8042\n",
      "Epoch 13/100\n",
      "14/14 [==============================] - 7s 464ms/step - loss: 0.4033 - masked_acc: 0.7675 - masked_auc: 0.8053 - val_loss: 0.4479 - val_masked_acc: 0.7684 - val_masked_auc: 0.8073\n",
      "Epoch 14/100\n",
      "14/14 [==============================] - 7s 467ms/step - loss: 0.4095 - masked_acc: 0.7688 - masked_auc: 0.8083 - val_loss: 0.4517 - val_masked_acc: 0.7698 - val_masked_auc: 0.8102\n",
      "Epoch 15/100\n",
      "14/14 [==============================] - 6s 463ms/step - loss: 0.4011 - masked_acc: 0.7703 - masked_auc: 0.8112 - val_loss: 0.4499 - val_masked_acc: 0.7712 - val_masked_auc: 0.8129\n",
      "Epoch 16/100\n",
      "14/14 [==============================] - 7s 473ms/step - loss: 0.4042 - masked_acc: 0.7715 - masked_auc: 0.8137 - val_loss: 0.4574 - val_masked_acc: 0.7725 - val_masked_auc: 0.8154\n",
      "Epoch 17/100\n",
      "14/14 [==============================] - 7s 503ms/step - loss: 0.3968 - masked_acc: 0.7728 - masked_auc: 0.8162 - val_loss: 0.4534 - val_masked_acc: 0.7736 - val_masked_auc: 0.8177\n",
      "Epoch 18/100\n",
      "14/14 [==============================] - 7s 467ms/step - loss: 0.3969 - masked_acc: 0.7739 - masked_auc: 0.8184 - val_loss: 0.4524 - val_masked_acc: 0.7748 - val_masked_auc: 0.8199\n",
      "Epoch 19/100\n",
      "14/14 [==============================] - 7s 475ms/step - loss: 0.3909 - masked_acc: 0.7751 - masked_auc: 0.8206 - val_loss: 0.4533 - val_masked_acc: 0.7759 - val_masked_auc: 0.8219\n",
      "Epoch 20/100\n",
      "14/14 [==============================] - 7s 469ms/step - loss: 0.3858 - masked_acc: 0.7763 - masked_auc: 0.8226 - val_loss: 0.4598 - val_masked_acc: 0.7770 - val_masked_auc: 0.8239\n",
      "Epoch 21/100\n",
      "14/14 [==============================] - 7s 478ms/step - loss: 0.3909 - masked_acc: 0.7773 - masked_auc: 0.8245 - val_loss: 0.4571 - val_masked_acc: 0.7780 - val_masked_auc: 0.8257\n",
      "Epoch 22/100\n",
      "14/14 [==============================] - 7s 499ms/step - loss: 0.3888 - masked_acc: 0.7783 - masked_auc: 0.8262 - val_loss: 0.4595 - val_masked_acc: 0.7788 - val_masked_auc: 0.8273\n",
      "28/28 [==============================] - 2s 81ms/step - loss: 0.3836 - masked_acc: 0.7796 - masked_auc: 0.8284\n",
      "4/4 [==============================] - 0s 72ms/step - loss: 0.4259 - masked_acc: 0.7799 - masked_auc: 0.8291\n",
      "Test:  [0.4259401857852936, 0.7799175381660461, 0.8290683031082153]\n",
      "Epoch 1/100\n",
      "14/14 [==============================] - 14s 589ms/step - loss: 0.6089 - masked_acc: 0.6836 - masked_auc: 0.5121 - val_loss: 0.5502 - val_masked_acc: 0.7166 - val_masked_auc: 0.6060\n",
      "Epoch 2/100\n",
      "14/14 [==============================] - 7s 466ms/step - loss: 0.4973 - masked_acc: 0.7170 - masked_auc: 0.6375 - val_loss: 0.5075 - val_masked_acc: 0.7221 - val_masked_auc: 0.6895\n",
      "Epoch 3/100\n",
      "14/14 [==============================] - 7s 476ms/step - loss: 0.4634 - masked_acc: 0.7260 - masked_auc: 0.7046 - val_loss: 0.4818 - val_masked_acc: 0.7358 - val_masked_auc: 0.7312\n",
      "Epoch 4/100\n",
      "14/14 [==============================] - 6s 455ms/step - loss: 0.4447 - masked_acc: 0.7389 - masked_auc: 0.7394 - val_loss: 0.4772 - val_masked_acc: 0.7447 - val_masked_auc: 0.7531\n",
      "Epoch 5/100\n",
      "14/14 [==============================] - 7s 468ms/step - loss: 0.4455 - masked_acc: 0.7464 - masked_auc: 0.7574 - val_loss: 0.4754 - val_masked_acc: 0.7506 - val_masked_auc: 0.7667\n",
      "Epoch 6/100\n",
      "14/14 [==============================] - 7s 470ms/step - loss: 0.4376 - masked_acc: 0.7518 - masked_auc: 0.7699 - val_loss: 0.4718 - val_masked_acc: 0.7548 - val_masked_auc: 0.7765\n",
      "Epoch 7/100\n",
      "14/14 [==============================] - 7s 477ms/step - loss: 0.4325 - masked_acc: 0.7556 - masked_auc: 0.7788 - val_loss: 0.4658 - val_masked_acc: 0.7580 - val_masked_auc: 0.7842\n",
      "Epoch 8/100\n",
      "14/14 [==============================] - 7s 487ms/step - loss: 0.4238 - masked_acc: 0.7588 - masked_auc: 0.7864 - val_loss: 0.4781 - val_masked_acc: 0.7608 - val_masked_auc: 0.7904\n",
      "Epoch 9/100\n",
      "14/14 [==============================] - 6s 441ms/step - loss: 0.4202 - masked_acc: 0.7615 - masked_auc: 0.7921 - val_loss: 0.4715 - val_masked_acc: 0.7631 - val_masked_auc: 0.7952\n",
      "Epoch 10/100\n",
      "14/14 [==============================] - 6s 453ms/step - loss: 0.4200 - masked_acc: 0.7635 - masked_auc: 0.7967 - val_loss: 0.4678 - val_masked_acc: 0.7650 - val_masked_auc: 0.7996\n",
      "Epoch 11/100\n",
      "14/14 [==============================] - 6s 457ms/step - loss: 0.4161 - masked_acc: 0.7655 - masked_auc: 0.8008 - val_loss: 0.4682 - val_masked_acc: 0.7667 - val_masked_auc: 0.8034\n",
      "Epoch 12/100\n",
      "14/14 [==============================] - 6s 458ms/step - loss: 0.4119 - masked_acc: 0.7672 - masked_auc: 0.8044 - val_loss: 0.4688 - val_masked_acc: 0.7682 - val_masked_auc: 0.8064\n",
      "Epoch 13/100\n",
      "14/14 [==============================] - 7s 477ms/step - loss: 0.4064 - masked_acc: 0.7686 - masked_auc: 0.8074 - val_loss: 0.4736 - val_masked_acc: 0.7696 - val_masked_auc: 0.8094\n",
      "Epoch 14/100\n",
      "14/14 [==============================] - 6s 453ms/step - loss: 0.3954 - masked_acc: 0.7702 - masked_auc: 0.8104 - val_loss: 0.4738 - val_masked_acc: 0.7709 - val_masked_auc: 0.8121\n",
      "Epoch 15/100\n",
      "14/14 [==============================] - 7s 466ms/step - loss: 0.4056 - masked_acc: 0.7712 - masked_auc: 0.8129 - val_loss: 0.4708 - val_masked_acc: 0.7722 - val_masked_auc: 0.8146\n",
      "Epoch 16/100\n",
      "14/14 [==============================] - 6s 456ms/step - loss: 0.3958 - masked_acc: 0.7726 - masked_auc: 0.8154 - val_loss: 0.4731 - val_masked_acc: 0.7733 - val_masked_auc: 0.8170\n",
      "Epoch 17/100\n",
      "14/14 [==============================] - 7s 475ms/step - loss: 0.3931 - masked_acc: 0.7737 - masked_auc: 0.8177 - val_loss: 0.4816 - val_masked_acc: 0.7744 - val_masked_auc: 0.8191\n",
      "28/28 [==============================] - 2s 83ms/step - loss: 0.3907 - masked_acc: 0.7754 - masked_auc: 0.8205\n",
      "4/4 [==============================] - 0s 77ms/step - loss: 0.4374 - masked_acc: 0.7757 - masked_auc: 0.8214\n",
      "Test:  [0.4374271035194397, 0.775699257850647, 0.8213530778884888]\n",
      "Epoch 1/100\n",
      "14/14 [==============================] - 15s 604ms/step - loss: 0.6145 - masked_acc: 0.5349 - masked_auc: 0.5087 - val_loss: 0.5313 - val_masked_acc: 0.6963 - val_masked_auc: 0.6066\n",
      "Epoch 2/100\n",
      "14/14 [==============================] - 7s 464ms/step - loss: 0.4979 - masked_acc: 0.7034 - masked_auc: 0.6381 - val_loss: 0.4690 - val_masked_acc: 0.7187 - val_masked_auc: 0.6907\n",
      "Epoch 3/100\n",
      "14/14 [==============================] - 7s 466ms/step - loss: 0.4688 - masked_acc: 0.7236 - masked_auc: 0.7068 - val_loss: 0.4537 - val_masked_acc: 0.7346 - val_masked_auc: 0.7311\n",
      "Epoch 4/100\n",
      "14/14 [==============================] - 7s 494ms/step - loss: 0.4557 - masked_acc: 0.7376 - masked_auc: 0.7387 - val_loss: 0.4483 - val_masked_acc: 0.7444 - val_masked_auc: 0.7523\n",
      "Epoch 5/100\n",
      "14/14 [==============================] - 7s 471ms/step - loss: 0.4494 - masked_acc: 0.7463 - masked_auc: 0.7568 - val_loss: 0.4464 - val_masked_acc: 0.7503 - val_masked_auc: 0.7655\n",
      "Epoch 6/100\n",
      "14/14 [==============================] - 7s 471ms/step - loss: 0.4431 - masked_acc: 0.7515 - masked_auc: 0.7686 - val_loss: 0.4444 - val_masked_acc: 0.7545 - val_masked_auc: 0.7747\n",
      "Epoch 7/100\n",
      "14/14 [==============================] - 7s 466ms/step - loss: 0.4417 - masked_acc: 0.7552 - masked_auc: 0.7771 - val_loss: 0.4444 - val_masked_acc: 0.7579 - val_masked_auc: 0.7819\n",
      "Epoch 8/100\n",
      "14/14 [==============================] - 7s 471ms/step - loss: 0.4294 - masked_acc: 0.7587 - masked_auc: 0.7839 - val_loss: 0.4472 - val_masked_acc: 0.7607 - val_masked_auc: 0.7878\n",
      "Epoch 9/100\n",
      "14/14 [==============================] - 7s 489ms/step - loss: 0.4211 - masked_acc: 0.7613 - masked_auc: 0.7897 - val_loss: 0.4421 - val_masked_acc: 0.7630 - val_masked_auc: 0.7931\n",
      "Epoch 10/100\n",
      "14/14 [==============================] - 6s 456ms/step - loss: 0.4224 - masked_acc: 0.7635 - masked_auc: 0.7945 - val_loss: 0.4457 - val_masked_acc: 0.7651 - val_masked_auc: 0.7976\n",
      "Epoch 11/100\n",
      "14/14 [==============================] - 7s 466ms/step - loss: 0.4138 - masked_acc: 0.7656 - masked_auc: 0.7990 - val_loss: 0.4450 - val_masked_acc: 0.7669 - val_masked_auc: 0.8016\n",
      "Epoch 12/100\n",
      "14/14 [==============================] - 7s 468ms/step - loss: 0.4142 - masked_acc: 0.7675 - masked_auc: 0.8027 - val_loss: 0.4446 - val_masked_acc: 0.7687 - val_masked_auc: 0.8053\n",
      "Epoch 13/100\n",
      "14/14 [==============================] - 6s 464ms/step - loss: 0.4075 - masked_acc: 0.7692 - masked_auc: 0.8063 - val_loss: 0.4469 - val_masked_acc: 0.7703 - val_masked_auc: 0.8085\n",
      "Epoch 14/100\n",
      "14/14 [==============================] - 7s 484ms/step - loss: 0.4071 - masked_acc: 0.7707 - masked_auc: 0.8094 - val_loss: 0.4446 - val_masked_acc: 0.7717 - val_masked_auc: 0.8114\n",
      "Epoch 15/100\n",
      "14/14 [==============================] - 6s 459ms/step - loss: 0.4100 - masked_acc: 0.7720 - masked_auc: 0.8122 - val_loss: 0.4639 - val_masked_acc: 0.7730 - val_masked_auc: 0.8139\n",
      "Epoch 16/100\n",
      "14/14 [==============================] - 7s 468ms/step - loss: 0.3960 - masked_acc: 0.7733 - masked_auc: 0.8148 - val_loss: 0.4478 - val_masked_acc: 0.7742 - val_masked_auc: 0.8164\n",
      "Epoch 17/100\n",
      "14/14 [==============================] - 7s 469ms/step - loss: 0.3998 - masked_acc: 0.7745 - masked_auc: 0.8172 - val_loss: 0.4534 - val_masked_acc: 0.7753 - val_masked_auc: 0.8185\n",
      "Epoch 18/100\n",
      "14/14 [==============================] - 7s 467ms/step - loss: 0.4022 - masked_acc: 0.7755 - masked_auc: 0.8191 - val_loss: 0.4580 - val_masked_acc: 0.7763 - val_masked_auc: 0.8205\n",
      "Epoch 19/100\n",
      "14/14 [==============================] - 7s 496ms/step - loss: 0.3943 - masked_acc: 0.7766 - masked_auc: 0.8211 - val_loss: 0.4672 - val_masked_acc: 0.7773 - val_masked_auc: 0.8223\n",
      "28/28 [==============================] - 2s 80ms/step - loss: 0.3939 - masked_acc: 0.7781 - masked_auc: 0.8236\n",
      "4/4 [==============================] - 0s 77ms/step - loss: 0.4389 - masked_acc: 0.7783 - masked_auc: 0.8243\n",
      "Test:  [0.43890950083732605, 0.7782987356185913, 0.8242571353912354]\n",
      "Epoch 1/100\n",
      "14/14 [==============================] - 14s 602ms/step - loss: 0.6021 - masked_acc: 0.6863 - masked_auc: 0.5092 - val_loss: 0.5320 - val_masked_acc: 0.7200 - val_masked_auc: 0.6243\n",
      "Epoch 2/100\n",
      "14/14 [==============================] - 7s 472ms/step - loss: 0.4910 - masked_acc: 0.7188 - masked_auc: 0.6560 - val_loss: 0.4958 - val_masked_acc: 0.7296 - val_masked_auc: 0.7093\n",
      "Epoch 3/100\n",
      "14/14 [==============================] - 7s 501ms/step - loss: 0.4574 - masked_acc: 0.7338 - masked_auc: 0.7225 - val_loss: 0.4834 - val_masked_acc: 0.7428 - val_masked_auc: 0.7451\n",
      "Epoch 4/100\n",
      "14/14 [==============================] - 7s 480ms/step - loss: 0.4523 - masked_acc: 0.7446 - masked_auc: 0.7508 - val_loss: 0.4749 - val_masked_acc: 0.7503 - val_masked_auc: 0.7631\n",
      "Epoch 5/100\n",
      "14/14 [==============================] - 7s 472ms/step - loss: 0.4346 - masked_acc: 0.7520 - masked_auc: 0.7672 - val_loss: 0.4692 - val_masked_acc: 0.7554 - val_masked_auc: 0.7750\n",
      "Epoch 6/100\n",
      "14/14 [==============================] - 7s 471ms/step - loss: 0.4326 - masked_acc: 0.7563 - masked_auc: 0.7779 - val_loss: 0.4691 - val_masked_acc: 0.7590 - val_masked_auc: 0.7834\n",
      "Epoch 7/100\n",
      "14/14 [==============================] - 7s 494ms/step - loss: 0.4253 - masked_acc: 0.7597 - masked_auc: 0.7855 - val_loss: 0.4643 - val_masked_acc: 0.7620 - val_masked_auc: 0.7904\n",
      "Epoch 8/100\n",
      "14/14 [==============================] - 7s 486ms/step - loss: 0.4170 - masked_acc: 0.7627 - masked_auc: 0.7923 - val_loss: 0.4676 - val_masked_acc: 0.7645 - val_masked_auc: 0.7963\n",
      "Epoch 9/100\n",
      "14/14 [==============================] - 7s 476ms/step - loss: 0.4119 - masked_acc: 0.7653 - masked_auc: 0.7979 - val_loss: 0.4714 - val_masked_acc: 0.7666 - val_masked_auc: 0.8010\n",
      "Epoch 10/100\n",
      "14/14 [==============================] - 7s 476ms/step - loss: 0.4221 - masked_acc: 0.7671 - masked_auc: 0.8021 - val_loss: 0.4748 - val_masked_acc: 0.7684 - val_masked_auc: 0.8042\n",
      "Epoch 11/100\n",
      "14/14 [==============================] - 7s 472ms/step - loss: 0.4107 - masked_acc: 0.7689 - masked_auc: 0.8054 - val_loss: 0.4738 - val_masked_acc: 0.7697 - val_masked_auc: 0.8072\n",
      "Epoch 12/100\n",
      "14/14 [==============================] - 7s 496ms/step - loss: 0.4082 - masked_acc: 0.7701 - masked_auc: 0.8081 - val_loss: 0.4643 - val_masked_acc: 0.7710 - val_masked_auc: 0.8102\n",
      "Epoch 13/100\n",
      "14/14 [==============================] - 7s 470ms/step - loss: 0.4163 - masked_acc: 0.7713 - masked_auc: 0.8109 - val_loss: 0.4712 - val_masked_acc: 0.7719 - val_masked_auc: 0.8122\n",
      "Epoch 14/100\n",
      "14/14 [==============================] - 7s 478ms/step - loss: 0.4109 - masked_acc: 0.7722 - masked_auc: 0.8129 - val_loss: 0.4697 - val_masked_acc: 0.7730 - val_masked_auc: 0.8143\n",
      "Epoch 15/100\n",
      "14/14 [==============================] - 7s 475ms/step - loss: 0.4021 - masked_acc: 0.7734 - masked_auc: 0.8150 - val_loss: 0.4691 - val_masked_acc: 0.7741 - val_masked_auc: 0.8165\n",
      "Epoch 16/100\n",
      "14/14 [==============================] - 7s 479ms/step - loss: 0.4082 - masked_acc: 0.7743 - masked_auc: 0.8172 - val_loss: 0.4674 - val_masked_acc: 0.7752 - val_masked_auc: 0.8187\n",
      "Epoch 17/100\n",
      "14/14 [==============================] - 7s 499ms/step - loss: 0.3983 - masked_acc: 0.7755 - masked_auc: 0.8194 - val_loss: 0.4765 - val_masked_acc: 0.7762 - val_masked_auc: 0.8207\n",
      "Epoch 18/100\n",
      "14/14 [==============================] - 7s 477ms/step - loss: 0.3958 - masked_acc: 0.7764 - masked_auc: 0.8213 - val_loss: 0.4686 - val_masked_acc: 0.7770 - val_masked_auc: 0.8226\n",
      "Epoch 19/100\n",
      "14/14 [==============================] - 7s 475ms/step - loss: 0.3934 - masked_acc: 0.7773 - masked_auc: 0.8231 - val_loss: 0.4675 - val_masked_acc: 0.7779 - val_masked_auc: 0.8243\n",
      "Epoch 20/100\n",
      "14/14 [==============================] - 7s 488ms/step - loss: 0.3905 - masked_acc: 0.7781 - masked_auc: 0.8248 - val_loss: 0.5014 - val_masked_acc: 0.7788 - val_masked_auc: 0.8259\n",
      "Epoch 21/100\n",
      "14/14 [==============================] - 6s 465ms/step - loss: 0.4110 - masked_acc: 0.7789 - masked_auc: 0.8261 - val_loss: 0.4819 - val_masked_acc: 0.7792 - val_masked_auc: 0.8263\n",
      "Epoch 22/100\n",
      "14/14 [==============================] - 7s 483ms/step - loss: 0.4073 - masked_acc: 0.7793 - masked_auc: 0.8266 - val_loss: 0.4761 - val_masked_acc: 0.7797 - val_masked_auc: 0.8273\n",
      "28/28 [==============================] - 2s 80ms/step - loss: 0.3939 - masked_acc: 0.7803 - masked_auc: 0.8281\n",
      "4/4 [==============================] - 0s 75ms/step - loss: 0.4397 - masked_acc: 0.7804 - masked_auc: 0.8285\n",
      "Test:  [0.4397445023059845, 0.7804313898086548, 0.8285103440284729]\n"
     ]
    }
   ],
   "source": [
    "# 5 fold cross validation\n",
    "#HERE WE ONLY USE\n",
    "#CHAPTER, SUB_CHAPTER\n",
    "#QUESTION\n",
    "X = np.array(grouped_data.keys())\n",
    "kfold = KFold(n_splits=5, shuffle=True)\n",
    "train_losses = list()\n",
    "train_aucs = list()\n",
    "val_losses = list()\n",
    "val_aucs = list()\n",
    "train_eval = list()\n",
    "test_eval = list()\n",
    "for train, test in kfold.split(X):\n",
    "    users_train, users_test =  X[train], X[test]\n",
    "    n = len(users_test)//2\n",
    "    users_test, users_val = users_test[:n], users_test[n: ]\n",
    "    train_data_space = SPACE_DATASET(grouped_data[users_train], MAXLENGTH)\n",
    "    val_data_space = SPACE_DATASET(grouped_data[users_val], MAXLENGTH)\n",
    "    test_data_space = SPACE_DATASET(grouped_data[users_test], MAXLENGTH)\n",
    "    #construct training input\n",
    "    train_chapter=[]\n",
    "    train_sub_chapter=[]\n",
    "    train_question = []\n",
    "    train_features=[]\n",
    "    train_labels=[]\n",
    "    for i in range(len(users_train)):\n",
    "        user = train_data_space.__getitem__(i)\n",
    "        train_chapter.append(user[0])\n",
    "        train_sub_chapter.append(user[1]) \n",
    "        train_question.append(user[2])\n",
    "        #train_features.append(user[3])\n",
    "        train_labels.append(user[3])\n",
    "    train_chapter = np.array(train_chapter)\n",
    "    train_sub_chapter = np.array(train_sub_chapter)\n",
    "    train_question = np.array(train_question)\n",
    "    #train_features = np.array(train_features)\n",
    "    train_labels= np.array(train_labels)[..., np.newaxis]\n",
    "\n",
    "    #construct validation input\n",
    "    val_chapter=[]\n",
    "    val_sub_chapter=[]\n",
    "    val_question = []\n",
    "    #val_features=[]\n",
    "    val_labels=[]\n",
    "    for i in range(len(users_val)):\n",
    "        user = val_data_space.__getitem__(i)\n",
    "        val_chapter.append(user[0])\n",
    "        val_sub_chapter.append(user[1]) \n",
    "        val_question.append(user[2])\n",
    "        #val_features.append(user[3])\n",
    "        val_labels.append(user[3])\n",
    "    val_chapter = np.array(val_chapter)\n",
    "    val_sub_chapter = np.array(val_sub_chapter)\n",
    "    #val_features = np.array(val_features)\n",
    "    val_question = np.array(val_question)\n",
    "    val_labels= np.array(val_labels)[..., np.newaxis]\n",
    "\n",
    "    # construct test input\n",
    "    test_chapter=[]\n",
    "    test_sub_chapter=[]\n",
    "    #test_features=[]\n",
    "    test_question=[]\n",
    "    test_labels=[]\n",
    "    for i in range(len(users_test)):\n",
    "        user = test_data_space.__getitem__(i)\n",
    "        test_chapter.append(user[0])\n",
    "        test_sub_chapter.append(user[1]) \n",
    "        test_question.append(user[2])\n",
    "        #test_features.append(user[3])\n",
    "        test_labels.append(user[3])\n",
    "    test_chapter = np.array(test_chapter)\n",
    "    test_sub_chapter = np.array(test_sub_chapter)\n",
    "    #test_features = np.array(test_features)\n",
    "    test_question = np.array(test_question)\n",
    "    test_labels= np.array(test_labels)[..., np.newaxis]\n",
    "\n",
    "    # define loss function and evaluation metrics\n",
    "    bce = tf.keras.losses.BinaryCrossentropy(from_logits=True)\n",
    "    acc = tf.keras.metrics.Accuracy()\n",
    "    auc = tf.keras.metrics.AUC()\n",
    "\n",
    "    def masked_bce(y_true, y_pred):\n",
    "      flat_pred = y_pred\n",
    "      flat_ground_truth = y_true\n",
    "      label_mask = tf.math.not_equal(flat_ground_truth, -1)\n",
    "      return bce(flat_ground_truth, flat_pred, sample_weight=label_mask)\n",
    "\n",
    "    def masked_acc(y_true, y_pred):\n",
    "      flat_pred = y_pred\n",
    "      flat_ground_truth = y_true\n",
    "      flat_pred = (flat_pred >= 0.5)\n",
    "      label_mask = tf.math.not_equal(flat_ground_truth, -1)\n",
    "      return acc(flat_ground_truth, flat_pred, sample_weight=label_mask)\n",
    "\n",
    "    def masked_auc(y_true, y_pred):\n",
    "      flat_pred = y_pred\n",
    "      flat_ground_truth = y_true\n",
    "      label_mask = tf.math.not_equal(flat_ground_truth, -1)\n",
    "      return auc(flat_ground_truth, flat_pred, sample_weight=label_mask)\n",
    "\n",
    "    # input layer\n",
    "    input_chap = tf.keras.Input(shape=(MAXLENGTH))\n",
    "    input_sub_chap = tf.keras.Input(shape=(MAXLENGTH))\n",
    "    input_ques =  tf.keras.Input(shape=(MAXLENGTH))\n",
    "    #input_features = tf.keras.Input(shape=(MAXLENGTH, FEATURES_SIZE))\n",
    "\n",
    "    # embedding layer for categorical features\n",
    "    embedding_chap = Embedding(input_dim = CHAPTER_SIZE, output_dim = EMBEDDING_DIM)(input_chap)\n",
    "    embedding_sub_chap = Embedding(input_dim = SUB_CHAPTER_SIZE, output_dim = EMBEDDING_DIM)(input_sub_chap) \n",
    "    embedding_ques = Embedding(input_dim = QUESTION_SIZE, output_dim = EMBEDDING_DIM)(input_ques)       \n",
    "\n",
    "    # dense layer for numeric features\n",
    "    #dense_features = Dense(EMBEDDING_DIM,input_shape = (None, MAXLENGTH))(input_features)\n",
    "\n",
    "    # definr lstm layers\n",
    "    lstm_chap = LSTM(LSTM_NEURON, input_shape = (None, EMBEDDING_DIM),return_sequences = True)(embedding_chap)\n",
    "    lstm_sub_chap = LSTM(LSTM_NEURON, input_shape = (None, EMBEDDING_DIM),return_sequences = True)(embedding_sub_chap)\n",
    "    lstm_ques = LSTM(LSTM_NEURON, input_shape = (None, EMBEDDING_DIM),return_sequences = True)(embedding_ques)\n",
    "    #lstm_features = LSTM(LSTM_NEURON, input_shape = (None, EMBEDDING_DIM),return_sequences = True)(dense_features)\n",
    "\n",
    "    lstm_output = tf.concat([lstm_chap, lstm_sub_chap, lstm_ques], axis = 2)\n",
    "\n",
    "    dense1 = Dense(256, input_shape = (None, 3*EMBEDDING_DIM), activation='relu')(lstm_output)\n",
    "    dropout1 = Dropout(0.1)(dense1)\n",
    "    dense2 = Dense(64, input_shape = (None, 256), activation='relu')(dropout1)\n",
    "    dropout2 = Dropout(0.1)(dense2)\n",
    "    pred = Dense(1, input_shape = (None, 64), activation='sigmoid')(dropout2)\n",
    "\n",
    "    model = tf.keras.Model(\n",
    "        inputs=[input_chap, input_sub_chap,input_ques],\n",
    "        outputs=pred,\n",
    "        name='lstm_model'\n",
    "    )\n",
    "\n",
    "    callback = tf.keras.callbacks.EarlyStopping(monitor='val_loss', patience=10)\n",
    "    opt_adam = Adam(learning_rate = 0.005)\n",
    "    model.compile(\n",
    "        optimizer=opt_adam,\n",
    "        loss= masked_bce,\n",
    "        metrics = [masked_acc, masked_auc]\n",
    "    )\n",
    "\n",
    "    history = model.fit(\n",
    "      [train_chapter, train_sub_chapter, train_question],\n",
    "      train_labels,\n",
    "      batch_size = 64,\n",
    "      epochs = 100,\n",
    "      validation_data=([val_chapter, val_sub_chapter, val_question], val_labels),\n",
    "      callbacks=[callback]\n",
    "    )\n",
    "    val_losses.append(list(history.history['val_loss']))\n",
    "    train_losses.append(list(history.history['loss']))\n",
    "    val_aucs.append(list(history.history['val_masked_auc']))\n",
    "    train_aucs.append(list(history.history['masked_auc']))\n",
    "    train_score = model.evaluate([train_chapter, train_sub_chapter, train_question], train_labels)\n",
    "    train_eval.append(train_score)\n",
    "    test_score = model.evaluate([test_chapter, test_sub_chapter, test_question], test_labels)\n",
    "    test_eval.append(test_score)\n",
    "    print(\"Test: \", test_score)\n",
    "    def reset_weights(model):\n",
    "      for layer in model.layers: \n",
    "        if isinstance(layer, tf.keras.Model):\n",
    "          reset_weights(layer)\n",
    "          continue\n",
    "        for k, initializer in layer.__dict__.items():\n",
    "          if \"initializer\" not in k:\n",
    "            continue\n",
    "          # find the corresponding variable\n",
    "          var = getattr(layer, k.replace(\"_initializer\", \"\"))\n",
    "          var.assign(initializer(var.shape, var.dtype))\n",
    "    reset_weights(model)"
   ]
  },
  {
   "cell_type": "code",
   "execution_count": 29,
   "metadata": {
    "execution": {
     "iopub.execute_input": "2021-07-26T23:05:24.262154Z",
     "iopub.status.busy": "2021-07-26T23:05:24.261816Z",
     "iopub.status.idle": "2021-07-26T23:05:24.274171Z",
     "shell.execute_reply": "2021-07-26T23:05:24.272795Z",
     "shell.execute_reply.started": "2021-07-26T23:05:24.262118Z"
    },
    "id": "QsVmumHMz3lx",
    "outputId": "4ff1e2fa-6abb-458e-c729-495b456f53e5"
   },
   "outputs": [
    {
     "name": "stdout",
     "output_type": "stream",
     "text": [
      "test avg loss:  0.4418660640716553 +/- 0.013666928472421496\n",
      "test avg acc:  0.7798750281333924 +/- 0.003059035121383781\n",
      "test avg auc:  0.8279644250869751 +/- 0.005179175003826304\n"
     ]
    }
   ],
   "source": [
    "t_eval = np.array(test_eval)\n",
    "print(\"test avg loss: \", np.mean(t_eval[:, 0]), \"+/-\" ,np.std(t_eval[:, 0]))\n",
    "print(\"test avg acc: \", np.mean(t_eval[:, 1]),  \"+/-\" ,np.std(t_eval[:, 1]))\n",
    "print(\"test avg auc: \", np.mean(t_eval[:, 2]), \"+/-\" ,np.std(t_eval[:, 2]))"
   ]
  },
  {
   "cell_type": "code",
   "execution_count": 30,
   "metadata": {
    "execution": {
     "iopub.execute_input": "2021-07-26T23:05:24.276720Z",
     "iopub.status.busy": "2021-07-26T23:05:24.276327Z",
     "iopub.status.idle": "2021-07-26T23:05:24.295384Z",
     "shell.execute_reply": "2021-07-26T23:05:24.294197Z",
     "shell.execute_reply.started": "2021-07-26T23:05:24.276681Z"
    },
    "id": "b9MM_CXWz5K6",
    "outputId": "4cf88e1d-3a74-4e7d-f92c-d01522e91757"
   },
   "outputs": [
    {
     "name": "stdout",
     "output_type": "stream",
     "text": [
      "train avg loss:  0.38875927925109866 +/- 0.005123665065537777\n",
      "train avg acc:  0.779647171497345 +/- 0.003105376418295783\n",
      "train avg auc:  0.8273740649223328 +/- 0.0053446471728854665\n"
     ]
    }
   ],
   "source": [
    "t_eval = np.array(train_eval)\n",
    "print(\"train avg loss: \", np.mean(t_eval[:, 0]), \"+/-\" ,np.std(t_eval[:, 0]))\n",
    "print(\"train avg acc: \", np.mean(t_eval[:, 1]),  \"+/-\" ,np.std(t_eval[:, 1]))\n",
    "print(\"train avg auc: \", np.mean(t_eval[:, 2]), \"+/-\" ,np.std(t_eval[:, 2]))"
   ]
  }
 ],
 "metadata": {
  "kernelspec": {
   "display_name": "Python 3",
   "language": "python",
   "name": "python3"
  },
  "language_info": {
   "codemirror_mode": {
    "name": "ipython",
    "version": 3
   },
   "file_extension": ".py",
   "mimetype": "text/x-python",
   "name": "python",
   "nbconvert_exporter": "python",
   "pygments_lexer": "ipython3",
   "version": "3.8.5"
  }
 },
 "nbformat": 4,
 "nbformat_minor": 4
}
