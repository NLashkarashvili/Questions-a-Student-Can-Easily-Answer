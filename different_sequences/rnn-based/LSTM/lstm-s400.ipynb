{
 "cells": [
  {
   "cell_type": "code",
   "execution_count": 1,
   "metadata": {
    "execution": {
     "iopub.execute_input": "2021-07-26T23:06:30.177105Z",
     "iopub.status.busy": "2021-07-26T23:06:30.176338Z",
     "iopub.status.idle": "2021-07-26T23:06:32.506926Z",
     "shell.execute_reply": "2021-07-26T23:06:32.506145Z",
     "shell.execute_reply.started": "2021-07-26T23:06:30.176999Z"
    },
    "id": "farifxiKU1aB"
   },
   "outputs": [],
   "source": [
    "import numpy as np\n",
    "import pandas as pd\n",
    "import warnings\n",
    "import gc\n",
    "import tensorflow as tf\n",
    "from tensorflow import keras\n",
    "\n",
    "import random\n",
    "from random import choice\n",
    "from tensorflow.keras.optimizers import Adam\n",
    "from tensorflow.keras.models import Sequential \n",
    "from tensorflow.keras.layers import Dense, LSTM, Concatenate, Embedding, Flatten, Activation, Dropout\n",
    "from sklearn.model_selection import KFold\n",
    "from tensorflow.python.client import device_lib\n",
    "warnings.filterwarnings('ignore')\n",
    "import random"
   ]
  },
  {
   "cell_type": "code",
   "execution_count": 2,
   "metadata": {
    "execution": {
     "iopub.execute_input": "2021-07-26T23:06:32.509053Z",
     "iopub.status.busy": "2021-07-26T23:06:32.508435Z",
     "iopub.status.idle": "2021-07-26T23:06:32.513992Z",
     "shell.execute_reply": "2021-07-26T23:06:32.512981Z",
     "shell.execute_reply.started": "2021-07-26T23:06:32.508998Z"
    },
    "id": "QOson70GPOXb"
   },
   "outputs": [],
   "source": [
    "import gc"
   ]
  },
  {
   "cell_type": "markdown",
   "metadata": {
    "id": "BQsVybBH3VPw"
   },
   "source": [
    "## Data Preprocessing"
   ]
  },
  {
   "cell_type": "code",
   "execution_count": 3,
   "metadata": {
    "execution": {
     "iopub.execute_input": "2021-07-26T23:06:32.516956Z",
     "iopub.status.busy": "2021-07-26T23:06:32.516355Z",
     "iopub.status.idle": "2021-07-26T23:06:37.814270Z",
     "shell.execute_reply": "2021-07-26T23:06:37.813116Z",
     "shell.execute_reply.started": "2021-07-26T23:06:32.516910Z"
    },
    "id": "rwtTusGxrmAE",
    "outputId": "1430f3cf-038b-485e-b5c4-c1686b1f34fd"
   },
   "outputs": [
    {
     "data": {
      "text/html": [
       "<div>\n",
       "<style scoped>\n",
       "    .dataframe tbody tr th:only-of-type {\n",
       "        vertical-align: middle;\n",
       "    }\n",
       "\n",
       "    .dataframe tbody tr th {\n",
       "        vertical-align: top;\n",
       "    }\n",
       "\n",
       "    .dataframe thead th {\n",
       "        text-align: right;\n",
       "    }\n",
       "</style>\n",
       "<table border=\"1\" class=\"dataframe\">\n",
       "  <thead>\n",
       "    <tr style=\"text-align: right;\">\n",
       "      <th></th>\n",
       "      <th>Unnamed: 0</th>\n",
       "      <th>chapter_label</th>\n",
       "      <th>sub_chapter_label</th>\n",
       "      <th>question_name</th>\n",
       "      <th>user_id.x</th>\n",
       "      <th>term</th>\n",
       "      <th>STDNT_SEX_CD</th>\n",
       "      <th>NonNativeEnglish</th>\n",
       "      <th>White</th>\n",
       "      <th>Asian</th>\n",
       "      <th>...</th>\n",
       "      <th>classGraded</th>\n",
       "      <th>classHonors</th>\n",
       "      <th>Pass_Fail</th>\n",
       "      <th>parentsGraduateEdu</th>\n",
       "      <th>minorityGroup</th>\n",
       "      <th>q</th>\n",
       "      <th>day's_available_flashcards</th>\n",
       "      <th>start_practice</th>\n",
       "      <th>end_practice</th>\n",
       "      <th>days_offset</th>\n",
       "    </tr>\n",
       "  </thead>\n",
       "  <tbody>\n",
       "    <tr>\n",
       "      <th>0</th>\n",
       "      <td>1</td>\n",
       "      <td>Sort</td>\n",
       "      <td>intro-SortingwithSortandSorted</td>\n",
       "      <td>ee_sort_04</td>\n",
       "      <td>148</td>\n",
       "      <td>WN 2018</td>\n",
       "      <td>1</td>\n",
       "      <td>0</td>\n",
       "      <td>1</td>\n",
       "      <td>0</td>\n",
       "      <td>...</td>\n",
       "      <td>1</td>\n",
       "      <td>0</td>\n",
       "      <td>0</td>\n",
       "      <td>0</td>\n",
       "      <td>0</td>\n",
       "      <td>0</td>\n",
       "      <td>18</td>\n",
       "      <td>2018-03-04 20:00:19</td>\n",
       "      <td>2018-03-04 20:00:35</td>\n",
       "      <td>45</td>\n",
       "    </tr>\n",
       "    <tr>\n",
       "      <th>1</th>\n",
       "      <td>2</td>\n",
       "      <td>Functions</td>\n",
       "      <td>Returningavaluefromafunction</td>\n",
       "      <td>test_questionfunctions_2_3</td>\n",
       "      <td>148</td>\n",
       "      <td>WN 2018</td>\n",
       "      <td>1</td>\n",
       "      <td>0</td>\n",
       "      <td>1</td>\n",
       "      <td>0</td>\n",
       "      <td>...</td>\n",
       "      <td>1</td>\n",
       "      <td>0</td>\n",
       "      <td>0</td>\n",
       "      <td>0</td>\n",
       "      <td>0</td>\n",
       "      <td>4</td>\n",
       "      <td>16</td>\n",
       "      <td>2018-02-10 11:57:55</td>\n",
       "      <td>2018-02-10 11:58:35</td>\n",
       "      <td>23</td>\n",
       "    </tr>\n",
       "    <tr>\n",
       "      <th>2</th>\n",
       "      <td>3</td>\n",
       "      <td>RESTAPIs</td>\n",
       "      <td>functionswithrestapis</td>\n",
       "      <td>test_question_functions_rest_apis_1</td>\n",
       "      <td>148</td>\n",
       "      <td>WN 2018</td>\n",
       "      <td>1</td>\n",
       "      <td>0</td>\n",
       "      <td>1</td>\n",
       "      <td>0</td>\n",
       "      <td>...</td>\n",
       "      <td>1</td>\n",
       "      <td>0</td>\n",
       "      <td>0</td>\n",
       "      <td>0</td>\n",
       "      <td>0</td>\n",
       "      <td>1</td>\n",
       "      <td>2</td>\n",
       "      <td>2018-03-12 17:03:07</td>\n",
       "      <td>2018-03-12 17:04:28</td>\n",
       "      <td>53</td>\n",
       "    </tr>\n",
       "    <tr>\n",
       "      <th>3</th>\n",
       "      <td>4</td>\n",
       "      <td>SimplePythonData</td>\n",
       "      <td>FunctionCalls</td>\n",
       "      <td>exercise_functionCalls_1</td>\n",
       "      <td>148</td>\n",
       "      <td>WN 2018</td>\n",
       "      <td>1</td>\n",
       "      <td>0</td>\n",
       "      <td>1</td>\n",
       "      <td>0</td>\n",
       "      <td>...</td>\n",
       "      <td>1</td>\n",
       "      <td>0</td>\n",
       "      <td>0</td>\n",
       "      <td>0</td>\n",
       "      <td>0</td>\n",
       "      <td>0</td>\n",
       "      <td>10</td>\n",
       "      <td>2018-01-30 14:15:49</td>\n",
       "      <td>2018-01-30 14:15:58</td>\n",
       "      <td>12</td>\n",
       "    </tr>\n",
       "    <tr>\n",
       "      <th>4</th>\n",
       "      <td>5</td>\n",
       "      <td>DictionaryAccumulation</td>\n",
       "      <td>AccumulatingaMaximumValue</td>\n",
       "      <td>ps_04_07</td>\n",
       "      <td>148</td>\n",
       "      <td>WN 2018</td>\n",
       "      <td>1</td>\n",
       "      <td>0</td>\n",
       "      <td>1</td>\n",
       "      <td>0</td>\n",
       "      <td>...</td>\n",
       "      <td>1</td>\n",
       "      <td>0</td>\n",
       "      <td>0</td>\n",
       "      <td>0</td>\n",
       "      <td>0</td>\n",
       "      <td>0</td>\n",
       "      <td>23</td>\n",
       "      <td>2018-03-03 14:04:17</td>\n",
       "      <td>2018-03-03 14:04:25</td>\n",
       "      <td>44</td>\n",
       "    </tr>\n",
       "  </tbody>\n",
       "</table>\n",
       "<p>5 rows × 48 columns</p>\n",
       "</div>"
      ],
      "text/plain": [
       "   Unnamed: 0           chapter_label               sub_chapter_label  \\\n",
       "0           1                    Sort  intro-SortingwithSortandSorted   \n",
       "1           2               Functions    Returningavaluefromafunction   \n",
       "2           3                RESTAPIs           functionswithrestapis   \n",
       "3           4        SimplePythonData                   FunctionCalls   \n",
       "4           5  DictionaryAccumulation       AccumulatingaMaximumValue   \n",
       "\n",
       "                         question_name  user_id.x     term  STDNT_SEX_CD  \\\n",
       "0                           ee_sort_04        148  WN 2018             1   \n",
       "1           test_questionfunctions_2_3        148  WN 2018             1   \n",
       "2  test_question_functions_rest_apis_1        148  WN 2018             1   \n",
       "3             exercise_functionCalls_1        148  WN 2018             1   \n",
       "4                             ps_04_07        148  WN 2018             1   \n",
       "\n",
       "   NonNativeEnglish  White  Asian  ...  classGraded  classHonors  Pass_Fail  \\\n",
       "0                 0      1      0  ...            1            0          0   \n",
       "1                 0      1      0  ...            1            0          0   \n",
       "2                 0      1      0  ...            1            0          0   \n",
       "3                 0      1      0  ...            1            0          0   \n",
       "4                 0      1      0  ...            1            0          0   \n",
       "\n",
       "   parentsGraduateEdu  minorityGroup  q  day's_available_flashcards  \\\n",
       "0                   0              0  0                          18   \n",
       "1                   0              0  4                          16   \n",
       "2                   0              0  1                           2   \n",
       "3                   0              0  0                          10   \n",
       "4                   0              0  0                          23   \n",
       "\n",
       "        start_practice         end_practice  days_offset  \n",
       "0  2018-03-04 20:00:19  2018-03-04 20:00:35           45  \n",
       "1  2018-02-10 11:57:55  2018-02-10 11:58:35           23  \n",
       "2  2018-03-12 17:03:07  2018-03-12 17:04:28           53  \n",
       "3  2018-01-30 14:15:49  2018-01-30 14:15:58           12  \n",
       "4  2018-03-03 14:04:17  2018-03-03 14:04:25           44  \n",
       "\n",
       "[5 rows x 48 columns]"
      ]
     },
     "execution_count": 3,
     "metadata": {},
     "output_type": "execute_result"
    }
   ],
   "source": [
    "# load the data\n",
    "import pandas as pd\n",
    "dataframe = pd.read_csv('../input/practice-log-demographics/Practice_Log_Demographics (1).csv', low_memory=False)\n",
    "dataframe.head()"
   ]
  },
  {
   "cell_type": "code",
   "execution_count": 4,
   "metadata": {
    "execution": {
     "iopub.execute_input": "2021-07-26T23:06:37.816297Z",
     "iopub.status.busy": "2021-07-26T23:06:37.815995Z",
     "iopub.status.idle": "2021-07-26T23:06:39.432671Z",
     "shell.execute_reply": "2021-07-26T23:06:39.431871Z",
     "shell.execute_reply.started": "2021-07-26T23:06:37.816269Z"
    },
    "id": "OCbHnEp_Vir0"
   },
   "outputs": [],
   "source": [
    "#sort data based on timestamp\n",
    "dataframe = dataframe.sort_values(by=['start_practice'])"
   ]
  },
  {
   "cell_type": "code",
   "execution_count": 5,
   "metadata": {
    "execution": {
     "iopub.execute_input": "2021-07-26T23:06:39.434700Z",
     "iopub.status.busy": "2021-07-26T23:06:39.434273Z",
     "iopub.status.idle": "2021-07-26T23:06:39.442610Z",
     "shell.execute_reply": "2021-07-26T23:06:39.441485Z",
     "shell.execute_reply.started": "2021-07-26T23:06:39.434648Z"
    },
    "id": "0RvF7BvEr98o"
   },
   "outputs": [],
   "source": [
    "FEATURES = ['chapter_label', 'sub_chapter_label','question_name','user_id','term',\n",
    "            'STDNT_SEX_CD', \n",
    "            'NonNativeEnglish',\n",
    "            'White',\n",
    "            'Asian',\n",
    "            'WhiteOrAsian',\n",
    "            'Hispanic',\n",
    "            'AfricanAmerican',\n",
    "            'OtherEthnicities',\n",
    "            'NonWhiteOrAsian',\n",
    "            'STDNT_CTZN_STAT_CD', 'international', \n",
    "            'gradingType',\n",
    "            'birthYear',\n",
    "            'exclClassCumGPA',\n",
    "            'Freshman',\n",
    "            'Junior',\n",
    "            'Sophomore',\n",
    "            'Senior',\n",
    "            'termCreditsGPA',\n",
    "            'termCreditsNoGPA',\n",
    "            'athlete_1',\n",
    "            'honorsPro',\n",
    "            'LSA', 'programBusiness', 'programEngineering', \n",
    "            'programInformation', 'programOther',\n",
    "            'HSCalculusTaken', \n",
    "            'highSchoolGPA', \n",
    "            'majorsCount', 'minorsCount',\n",
    "            'PREV_TERM_CUM_GPA',\n",
    "            'classGraded', 'classHonors', \n",
    "            'Pass_Fail', \n",
    "            'parentsGraduateEdu',  'minorityGroup', \n",
    "            'q',\n",
    "            'available_flashcards', \n",
    "            'start_practice', \n",
    "            'end_practice',\n",
    "            'days_offset']"
   ]
  },
  {
   "cell_type": "code",
   "execution_count": 6,
   "metadata": {
    "execution": {
     "iopub.execute_input": "2021-07-26T23:06:39.444347Z",
     "iopub.status.busy": "2021-07-26T23:06:39.443825Z",
     "iopub.status.idle": "2021-07-26T23:06:40.251008Z",
     "shell.execute_reply": "2021-07-26T23:06:40.249896Z",
     "shell.execute_reply.started": "2021-07-26T23:06:39.444310Z"
    },
    "id": "Mn341X7lSztl"
   },
   "outputs": [],
   "source": [
    "dataframe['available_flashcards'] = dataframe[\"day's_available_flashcards\"][:]\n",
    "dataframe = dataframe.drop([\"day's_available_flashcards\"], axis=1)\n",
    "dataframe['user_id'] = dataframe[\"user_id.x\"][:]\n",
    "dataframe = dataframe.drop([\"user_id.x\"], axis=1)"
   ]
  },
  {
   "cell_type": "code",
   "execution_count": 7,
   "metadata": {
    "execution": {
     "iopub.execute_input": "2021-07-26T23:06:40.253218Z",
     "iopub.status.busy": "2021-07-26T23:06:40.252761Z",
     "iopub.status.idle": "2021-07-26T23:06:40.488202Z",
     "shell.execute_reply": "2021-07-26T23:06:40.487369Z",
     "shell.execute_reply.started": "2021-07-26T23:06:40.253171Z"
    },
    "id": "-_BRggOjbBjN",
    "outputId": "42bff7db-08dd-48dc-a73a-d048508053b7"
   },
   "outputs": [
    {
     "data": {
      "text/plain": [
       "66"
      ]
     },
     "execution_count": 7,
     "metadata": {},
     "output_type": "execute_result"
    }
   ],
   "source": [
    "gc.collect()"
   ]
  },
  {
   "cell_type": "code",
   "execution_count": 8,
   "metadata": {
    "execution": {
     "iopub.execute_input": "2021-07-26T23:06:40.489780Z",
     "iopub.status.busy": "2021-07-26T23:06:40.489356Z",
     "iopub.status.idle": "2021-07-26T23:06:40.813042Z",
     "shell.execute_reply": "2021-07-26T23:06:40.811973Z",
     "shell.execute_reply.started": "2021-07-26T23:06:40.489736Z"
    },
    "id": "lXM7MlonVeRL",
    "outputId": "d29ccec0-522f-4e3c-e0b2-39b2e1eaef74"
   },
   "outputs": [
    {
     "data": {
      "text/plain": [
       "22"
      ]
     },
     "execution_count": 8,
     "metadata": {},
     "output_type": "execute_result"
    }
   ],
   "source": [
    "dataframe = dataframe[FEATURES]\n",
    "gc.collect()"
   ]
  },
  {
   "cell_type": "code",
   "execution_count": 9,
   "metadata": {
    "execution": {
     "iopub.execute_input": "2021-07-26T23:06:40.814560Z",
     "iopub.status.busy": "2021-07-26T23:06:40.814262Z",
     "iopub.status.idle": "2021-07-26T23:06:42.489535Z",
     "shell.execute_reply": "2021-07-26T23:06:42.488543Z",
     "shell.execute_reply.started": "2021-07-26T23:06:40.814530Z"
    },
    "id": "qRKqF_0IXZgj"
   },
   "outputs": [],
   "source": [
    "#label encode term, chapter_label, question_name, sub_chapter_label columns\n",
    "dataframe['term'] = dataframe['term'].astype('category')\n",
    "dataframe['user_id'] = dataframe['user_id'].astype(int)\n",
    "dataframe['user_id'] = dataframe['user_id'].astype(str)\n",
    "dataframe['user_id'] = dataframe['term'].str.cat(dataframe['user_id'], sep=':')\n",
    "dataframe['user_id'] = dataframe['user_id'].astype('category')\n",
    "dataframe['chapter_label'] = dataframe['chapter_label'].astype('category')\n",
    "dataframe['sub_chapter_label'] = dataframe['sub_chapter_label'].astype('category')\n",
    "dataframe['question_name'] = dataframe['question_name'].astype('category')\n"
   ]
  },
  {
   "cell_type": "code",
   "execution_count": 10,
   "metadata": {
    "execution": {
     "iopub.execute_input": "2021-07-26T23:06:42.493516Z",
     "iopub.status.busy": "2021-07-26T23:06:42.493125Z",
     "iopub.status.idle": "2021-07-26T23:06:43.165437Z",
     "shell.execute_reply": "2021-07-26T23:06:43.164183Z",
     "shell.execute_reply.started": "2021-07-26T23:06:42.493481Z"
    },
    "id": "eVl_067GWkDe"
   },
   "outputs": [],
   "source": [
    "#calculate time_lag and prev_time_elapsed\n",
    "dataframe['prev_time_elapsed'] = None\n",
    "dataframe['time_lag'] = None\n",
    "dataframe['time_lag'] = dataframe['time_lag'].astype(np.float)\n",
    "dataframe['prev_time_elapsed'] = dataframe['prev_time_elapsed'].astype(np.float)\n",
    "dataframe.start_practice = pd.to_datetime(dataframe.start_practice, format='%Y-%m-%d %H:%M:%S')\n",
    "dataframe.end_practice = pd.to_datetime(dataframe.end_practice, format='%Y-%m-%d %H:%M:%S')"
   ]
  },
  {
   "cell_type": "code",
   "execution_count": 11,
   "metadata": {
    "execution": {
     "iopub.execute_input": "2021-07-26T23:06:43.168260Z",
     "iopub.status.busy": "2021-07-26T23:06:43.167940Z",
     "iopub.status.idle": "2021-07-26T23:06:43.205200Z",
     "shell.execute_reply": "2021-07-26T23:06:43.204308Z",
     "shell.execute_reply.started": "2021-07-26T23:06:43.168230Z"
    }
   },
   "outputs": [],
   "source": [
    "dataframe['dif'] = dataframe.end_practice - dataframe.start_practice\n",
    "dataframe['dif'] = dataframe['dif'] /np.timedelta64(1, 's')\n",
    "dataframe['answer_correct'] = np.where((dataframe['q']==5) & (dataframe['dif'] <= 60), 1, 0)"
   ]
  },
  {
   "cell_type": "code",
   "execution_count": 13,
   "metadata": {
    "execution": {
     "iopub.execute_input": "2021-07-26T23:07:06.221680Z",
     "iopub.status.busy": "2021-07-26T23:07:06.221249Z",
     "iopub.status.idle": "2021-07-26T23:07:06.328260Z",
     "shell.execute_reply": "2021-07-26T23:07:06.327236Z",
     "shell.execute_reply.started": "2021-07-26T23:07:06.221637Z"
    },
    "id": "8t8yZ0XvWwzz"
   },
   "outputs": [],
   "source": [
    "#drop column end_practice\n",
    "dataframe.drop(columns=['end_practice'], inplace=True)"
   ]
  },
  {
   "cell_type": "code",
   "execution_count": 14,
   "metadata": {
    "execution": {
     "iopub.execute_input": "2021-07-26T23:07:06.329936Z",
     "iopub.status.busy": "2021-07-26T23:07:06.329594Z",
     "iopub.status.idle": "2021-07-26T23:07:06.791736Z",
     "shell.execute_reply": "2021-07-26T23:07:06.790432Z",
     "shell.execute_reply.started": "2021-07-26T23:07:06.329904Z"
    },
    "id": "E42raRIrYYXz"
   },
   "outputs": [],
   "source": [
    "# calculate the age feature\n",
    "dataframe['term_value'] = [int(ele[3:]) for ele in dataframe['term']]\n",
    "dataframe['age'] = dataframe['term_value'] - dataframe['birthYear']"
   ]
  },
  {
   "cell_type": "code",
   "execution_count": 15,
   "metadata": {
    "execution": {
     "iopub.execute_input": "2021-07-26T23:07:06.794746Z",
     "iopub.status.busy": "2021-07-26T23:07:06.794102Z",
     "iopub.status.idle": "2021-07-26T23:07:07.109109Z",
     "shell.execute_reply": "2021-07-26T23:07:07.107844Z",
     "shell.execute_reply.started": "2021-07-26T23:07:06.794685Z"
    },
    "id": "pcMVQXueYnMh"
   },
   "outputs": [],
   "source": [
    "# drop term_value and birthYear column\n",
    "dataframe.drop(columns=['term_value', 'birthYear'], inplace=True)"
   ]
  },
  {
   "cell_type": "code",
   "execution_count": 16,
   "metadata": {
    "execution": {
     "iopub.execute_input": "2021-07-26T23:07:07.111253Z",
     "iopub.status.busy": "2021-07-26T23:07:07.110785Z",
     "iopub.status.idle": "2021-07-26T23:07:07.621004Z",
     "shell.execute_reply": "2021-07-26T23:07:07.619896Z",
     "shell.execute_reply.started": "2021-07-26T23:07:07.111205Z"
    },
    "id": "hjRF5szkcQE0"
   },
   "outputs": [],
   "source": [
    "# convert minors_count to int value\n",
    "new_minors_count = []\n",
    "for i in dataframe['minorsCount']:\n",
    "  if i == 0 or i == '0':\n",
    "    new_minors_count.append(0)\n",
    "  elif i == '1 Minor':\n",
    "    new_minors_count.append(1)\n",
    "  else:\n",
    "    new_minors_count.append(2)\n",
    "\n",
    "dataframe['minorsCount'] = new_minors_count"
   ]
  },
  {
   "cell_type": "code",
   "execution_count": 17,
   "metadata": {
    "execution": {
     "iopub.execute_input": "2021-07-26T23:07:07.622718Z",
     "iopub.status.busy": "2021-07-26T23:07:07.622421Z",
     "iopub.status.idle": "2021-07-26T23:07:07.642225Z",
     "shell.execute_reply": "2021-07-26T23:07:07.640896Z",
     "shell.execute_reply.started": "2021-07-26T23:07:07.622689Z"
    },
    "id": "9VdzvJSw0KUU",
    "outputId": "6393784f-234e-4935-9cee-cbcf56b5630a"
   },
   "outputs": [
    {
     "name": "stdout",
     "output_type": "stream",
     "text": [
      "we have  1110  users in total.\n"
     ]
    }
   ],
   "source": [
    "print(\"we have \", dataframe['user_id'].nunique(),\" users in total.\")"
   ]
  },
  {
   "cell_type": "code",
   "execution_count": 18,
   "metadata": {
    "execution": {
     "iopub.execute_input": "2021-07-26T23:07:07.644526Z",
     "iopub.status.busy": "2021-07-26T23:07:07.644039Z",
     "iopub.status.idle": "2021-07-26T23:07:07.656221Z",
     "shell.execute_reply": "2021-07-26T23:07:07.655002Z",
     "shell.execute_reply.started": "2021-07-26T23:07:07.644479Z"
    },
    "id": "hUaGk9L9g13t"
   },
   "outputs": [],
   "source": [
    "for category in ['term','chapter_label', 'sub_chapter_label', 'question_name']:\n",
    "  dataframe[category] =  dataframe[category].cat.codes"
   ]
  },
  {
   "cell_type": "code",
   "execution_count": 19,
   "metadata": {
    "execution": {
     "iopub.execute_input": "2021-07-26T23:07:07.658768Z",
     "iopub.status.busy": "2021-07-26T23:07:07.658404Z",
     "iopub.status.idle": "2021-07-26T23:07:08.020834Z",
     "shell.execute_reply": "2021-07-26T23:07:08.019696Z",
     "shell.execute_reply.started": "2021-07-26T23:07:07.658737Z"
    },
    "id": "hkyvcYvlhliG"
   },
   "outputs": [],
   "source": [
    "NUMERIC_FEATURE =  ['age',\n",
    "            'exclClassCumGPA',\n",
    "            'termCreditsGPA',\n",
    "            'termCreditsNoGPA',\n",
    "            'highSchoolGPA', \n",
    "            'majorsCount', 'minorsCount',\n",
    "            'PREV_TERM_CUM_GPA',\n",
    "            'available_flashcards', \n",
    "            'days_offset', \n",
    "            'prev_time_elapsed',\n",
    "             'time_lag']\n",
    "# z-score normalize the numerical features\n",
    "for f in NUMERIC_FEATURE:\n",
    "  m = dataframe[f].mean()\n",
    "  std = dataframe[f].std()\n",
    "  dataframe[f] = (dataframe[f] - m)/std"
   ]
  },
  {
   "cell_type": "code",
   "execution_count": 20,
   "metadata": {
    "execution": {
     "iopub.execute_input": "2021-07-26T23:07:08.022510Z",
     "iopub.status.busy": "2021-07-26T23:07:08.022218Z",
     "iopub.status.idle": "2021-07-26T23:07:12.033907Z",
     "shell.execute_reply": "2021-07-26T23:07:12.032678Z",
     "shell.execute_reply.started": "2021-07-26T23:07:08.022481Z"
    },
    "id": "wo2OH-d5kWp1"
   },
   "outputs": [],
   "source": [
    "FEATURE_TRANS =  ['answer_correct', 'chapter_label', 'sub_chapter_label','question_name','user_id','term',\n",
    "                  'STDNT_SEX_CD', \n",
    "                    'White','Asian','NonWhiteOrAsian',\n",
    "            'STDNT_CTZN_STAT_CD', 'international', \n",
    "            'age',\n",
    "            'exclClassCumGPA',\n",
    "           'Freshman',\n",
    "            'Junior',\n",
    "            'Sophomore',\n",
    "            'Senior',\n",
    "            'termCreditsGPA',\n",
    "            'termCreditsNoGPA',\n",
    "            'athlete_1',\n",
    "            'honorsPro',\n",
    "            'LSA', 'programBusiness', 'programEngineering', \n",
    "            'programInformation', 'programOther',\n",
    "            'HSCalculusTaken', \n",
    "            'highSchoolGPA', \n",
    "            'majorsCount', 'minorsCount',\n",
    "            'PREV_TERM_CUM_GPA',\n",
    "            'classGraded', 'classHonors', \n",
    "            'Pass_Fail', \n",
    "            'parentsGraduateEdu',  'minorityGroup', \n",
    "            'available_flashcards', \n",
    "            'days_offset', 'prev_time_elapsed',\n",
    "             'time_lag']\n",
    "grouped_data = dataframe[FEATURE_TRANS].groupby(['user_id']).apply(lambda r: (\n",
    "                r['answer_correct'],\n",
    "                r['term'],\n",
    "                r['chapter_label'],\n",
    "                r['sub_chapter_label'],\n",
    "                r['question_name'],\n",
    "                np.array([r['STDNT_SEX_CD'],r['STDNT_CTZN_STAT_CD'], r['international'], \n",
    "                  r['White'],r['Asian'],r['NonWhiteOrAsian'],\n",
    "                 r['age'],r['exclClassCumGPA'],\n",
    "                r['Freshman'], r['Junior'], r['Sophomore'], r['Senior'],\n",
    "                r['termCreditsGPA'], r['termCreditsNoGPA'],\n",
    "                r['athlete_1'], r['honorsPro'],\n",
    "                r['LSA'], r['programBusiness'], r['programEngineering'], \n",
    "                r['programInformation'], r['programOther'],\n",
    "                r['HSCalculusTaken'],  r['highSchoolGPA'], \n",
    "                r['majorsCount'], r['minorsCount'],\n",
    "                r['PREV_TERM_CUM_GPA'], \n",
    "                r['parentsGraduateEdu'], r['minorityGroup'],\n",
    "                r['available_flashcards'],\n",
    "                r['days_offset'],\n",
    "                r['prev_time_elapsed'],\n",
    "                r['time_lag']\n",
    "              ]).transpose()\n",
    "                ))"
   ]
  },
  {
   "cell_type": "code",
   "execution_count": 21,
   "metadata": {
    "execution": {
     "iopub.execute_input": "2021-07-26T23:07:12.035835Z",
     "iopub.status.busy": "2021-07-26T23:07:12.035537Z",
     "iopub.status.idle": "2021-07-26T23:07:12.244434Z",
     "shell.execute_reply": "2021-07-26T23:07:12.243190Z",
     "shell.execute_reply.started": "2021-07-26T23:07:12.035805Z"
    },
    "id": "XXLqQnjrlp_4",
    "outputId": "c801da79-f0bf-4fe5-b19c-7c799fe01556"
   },
   "outputs": [
    {
     "data": {
      "text/plain": [
       "22"
      ]
     },
     "execution_count": 21,
     "metadata": {},
     "output_type": "execute_result"
    }
   ],
   "source": [
    "gc.collect()"
   ]
  },
  {
   "cell_type": "code",
   "execution_count": 22,
   "metadata": {
    "execution": {
     "iopub.execute_input": "2021-07-26T23:07:12.246366Z",
     "iopub.status.busy": "2021-07-26T23:07:12.246023Z",
     "iopub.status.idle": "2021-07-26T23:07:12.290477Z",
     "shell.execute_reply": "2021-07-26T23:07:12.289267Z",
     "shell.execute_reply.started": "2021-07-26T23:07:12.246335Z"
    },
    "id": "QYGQasdTrmP0"
   },
   "outputs": [],
   "source": [
    "# remove students who don't have make any interactions with the tool\n",
    "toRemove = []\n",
    "for index in grouped_data.index:\n",
    "  if len(grouped_data[index][0]) <= 10:\n",
    "    toRemove.append(index)\n",
    "grouped_data = grouped_data.drop(index=toRemove)"
   ]
  },
  {
   "cell_type": "code",
   "execution_count": 23,
   "metadata": {
    "execution": {
     "iopub.execute_input": "2021-07-26T23:07:12.292202Z",
     "iopub.status.busy": "2021-07-26T23:07:12.291905Z",
     "iopub.status.idle": "2021-07-26T23:07:12.297520Z",
     "shell.execute_reply": "2021-07-26T23:07:12.296383Z",
     "shell.execute_reply.started": "2021-07-26T23:07:12.292173Z"
    },
    "id": "9kZqV9siDyNb"
   },
   "outputs": [],
   "source": [
    "#SETTINGS -> can be modified at any time\n",
    "MAXLENGTH = 400\n",
    "EMBEDDING_DIM = 128\n",
    "DENSE_NEURON = 16\n",
    "LSTM_NEURON = 32"
   ]
  },
  {
   "cell_type": "code",
   "execution_count": 24,
   "metadata": {
    "execution": {
     "iopub.execute_input": "2021-07-26T23:07:12.299507Z",
     "iopub.status.busy": "2021-07-26T23:07:12.299083Z",
     "iopub.status.idle": "2021-07-26T23:07:12.310206Z",
     "shell.execute_reply": "2021-07-26T23:07:12.309262Z",
     "shell.execute_reply.started": "2021-07-26T23:07:12.299475Z"
    },
    "id": "1MksD1JizpPn"
   },
   "outputs": [],
   "source": [
    "#FEATURES_SIZE = 38\n",
    "CHAPTER_SIZE = 38\n",
    "SUB_CHAPTER_SIZE = 223\n",
    "QUESTION_SIZE = 1069"
   ]
  },
  {
   "cell_type": "code",
   "execution_count": 25,
   "metadata": {
    "execution": {
     "iopub.execute_input": "2021-07-26T23:07:12.312107Z",
     "iopub.status.busy": "2021-07-26T23:07:12.311781Z",
     "iopub.status.idle": "2021-07-26T23:07:12.334302Z",
     "shell.execute_reply": "2021-07-26T23:07:12.333208Z",
     "shell.execute_reply.started": "2021-07-26T23:07:12.312079Z"
    }
   },
   "outputs": [
    {
     "data": {
      "text/plain": [
       "array([ 96,  86,  88,  28,  12,  82, 125,  32,  69,  33,  21, 115, 120,\n",
       "       119,  91,  73,  57,  77, 117,  40,  74,  41,  68,  39,  92,  47,\n",
       "       104,  95,  53,  49,  50,  16,  52,  55,   7,  15,  51, 102, 103,\n",
       "        11,  94, 108, 100,  17,  67,  63,  13, 139,  26,  25,   8, 107,\n",
       "         0,  90,  48,  54, 138,   1,   2,   3,  34,  35,  85,   5,  24,\n",
       "        37,  36,  78,  70,  45, 142,  71,  10,  89, 111, 112, 109, 116,\n",
       "        76,  72, 148, 134, 146, 221, 143,  56,  60,  61,  23, 140, 106,\n",
       "        42,  83,  22, 145, 136, 144,  38,   4,  19, 137,  75,  43,  98,\n",
       "        84, 113, 173, 174, 175, 176, 177, 178, 180, 181, 182, 187, 189,\n",
       "       190, 191, 192, 193, 195, 197, 151, 152, 153, 156, 157, 158, 159,\n",
       "       160, 161, 163, 164, 165, 166, 167, 168, 169, 170, 171, 172, 198,\n",
       "       199, 200, 201, 202, 203, 204, 205, 206, 207, 208, 209, 210, 162,\n",
       "       179, 186, 188, 194, 183, 184, 185, 211, 212, 213, 154, 155, 196,\n",
       "         6, 118,  18, 215,  46, 216, 141,  27, 217, 105, 123, 218, 101,\n",
       "       124, 219, 122, 220,  58,  59,  64,  20,  93,  65,  66,   9,  44,\n",
       "        30,  14,  79, 121,  31, 110, 129,  87,  97,  62, 149, 132, 131,\n",
       "       150, 130, 128,  99, 147, 127, 214, 135,  80, 126, 133,  81, 114,\n",
       "        29], dtype=int16)"
      ]
     },
     "execution_count": 25,
     "metadata": {},
     "output_type": "execute_result"
    }
   ],
   "source": [
    "dataframe['sub_chapter_label'].unique()"
   ]
  },
  {
   "cell_type": "code",
   "execution_count": 26,
   "metadata": {
    "execution": {
     "iopub.execute_input": "2021-07-26T23:07:12.335919Z",
     "iopub.status.busy": "2021-07-26T23:07:12.335620Z",
     "iopub.status.idle": "2021-07-26T23:07:12.707130Z",
     "shell.execute_reply": "2021-07-26T23:07:12.705984Z",
     "shell.execute_reply.started": "2021-07-26T23:07:12.335887Z"
    },
    "id": "mY3Thp6d0NaT"
   },
   "outputs": [],
   "source": [
    "#create dataset class\n",
    "#to prepare it for train, valid, and test sets\n",
    "from torch.utils.data import Dataset, DataLoader\n",
    "class SPACE_DATASET(Dataset):\n",
    "    def __init__(self, data, maxlength = 400):\n",
    "        super(SPACE_DATASET, self).__init__()\n",
    "        self.maxlength = maxlength\n",
    "        self.data = data\n",
    "        self.users = list()\n",
    "        for user in data.index:\n",
    "            self.users.append(user)\n",
    "\n",
    "    def __len__(self):\n",
    "        return len(self.users)\n",
    "    \n",
    "    def __getitem__(self, ix):\n",
    "        user = self.users[ix]\n",
    "        user = user\n",
    "        target, term, ch_label, sub_ch_label, ques_name, features = self.data[user]\n",
    "        \n",
    "        #0s should be used as padding values\n",
    "        ori_target = target.values \n",
    "        term = term.values\n",
    "        ch_label = ch_label.values + 1\n",
    "        sub_ch_label = sub_ch_label.values +1\n",
    "        ques_name = ques_name.values + 1\n",
    "        \n",
    "        n = len(ch_label)\n",
    "\n",
    "        # one hot for term\n",
    "        term_encode = [0]*7\n",
    "        term_encode[term[0]] = 1\n",
    "        shifted_target= []\n",
    "\n",
    "        \n",
    "        # get  user interaction informations in the previous MAXLEN interactions\n",
    "        if n > self.maxlength:\n",
    "          ch_label = ch_label[-self.maxlength:]\n",
    "          sub_ch_label = sub_ch_label[-self.maxlength:]\n",
    "          ques_name = ques_name[-self.maxlength:]\n",
    "          features = features[-self.maxlength:]\n",
    "          target = ori_target[-self.maxlength:]\n",
    "          shifted_target = ori_target[ (-self.maxlength - 1) :-1]\n",
    "        else:\n",
    "          ch_label = [0]*(self.maxlength - n)+list(ch_label[:])\n",
    "          sub_ch_label = [0]*(self.maxlength - n)+list(sub_ch_label[:])\n",
    "          ques_name = [0]*(self.maxlength - n)+list(ques_name[:])\n",
    "          features = [[0]*len(features[0])]*(self.maxlength  - n)+list(features[:])\n",
    "          target = [-1]*(self.maxlength - n) + list(ori_target[:])\n",
    "          shifted_target = [-1]*(self.maxlength + 1 - n) + list(ori_target[:-1])\n",
    "\n",
    "        new_features = []\n",
    "        count = 0\n",
    "        for f in features:\n",
    "          temp = list(f)\n",
    "          temp.extend(term_encode)\n",
    "          # temp.append(shifted_target[count]) #uncomment this line for include previous response feature\n",
    "          new_features.append(temp)\n",
    "          count += 1\n",
    "        features = new_features\n",
    "        return ch_label,sub_ch_label,ques_name,target"
   ]
  },
  {
   "cell_type": "code",
   "execution_count": 27,
   "metadata": {
    "execution": {
     "iopub.execute_input": "2021-07-26T23:07:12.709169Z",
     "iopub.status.busy": "2021-07-26T23:07:12.708698Z",
     "iopub.status.idle": "2021-07-26T23:07:12.715930Z",
     "shell.execute_reply": "2021-07-26T23:07:12.714662Z",
     "shell.execute_reply.started": "2021-07-26T23:07:12.709123Z"
    }
   },
   "outputs": [
    {
     "data": {
      "text/plain": [
       "223"
      ]
     },
     "execution_count": 27,
     "metadata": {},
     "output_type": "execute_result"
    }
   ],
   "source": [
    "SUB_CHAPTER_SIZE"
   ]
  },
  {
   "cell_type": "code",
   "execution_count": 28,
   "metadata": {
    "execution": {
     "iopub.execute_input": "2021-07-26T23:07:12.718829Z",
     "iopub.status.busy": "2021-07-26T23:07:12.718208Z",
     "iopub.status.idle": "2021-07-26T23:25:01.203899Z",
     "shell.execute_reply": "2021-07-26T23:25:01.202651Z",
     "shell.execute_reply.started": "2021-07-26T23:07:12.718780Z"
    },
    "id": "gzJrljnjzypP",
    "outputId": "87abe488-b493-4f8f-9d71-45cb1d2ddf51"
   },
   "outputs": [
    {
     "name": "stdout",
     "output_type": "stream",
     "text": [
      "Epoch 1/100\n",
      "14/14 [==============================] - 18s 831ms/step - loss: 0.5924 - masked_acc: 0.6914 - masked_auc: 0.5321 - val_loss: 0.4958 - val_masked_acc: 0.7097 - val_masked_auc: 0.6506\n",
      "Epoch 2/100\n",
      "14/14 [==============================] - 9s 628ms/step - loss: 0.4900 - masked_acc: 0.7116 - masked_auc: 0.6767 - val_loss: 0.4573 - val_masked_acc: 0.7267 - val_masked_auc: 0.7230\n",
      "Epoch 3/100\n",
      "14/14 [==============================] - 9s 627ms/step - loss: 0.4495 - masked_acc: 0.7315 - masked_auc: 0.7344 - val_loss: 0.4429 - val_masked_acc: 0.7410 - val_masked_auc: 0.7555\n",
      "Epoch 4/100\n",
      "14/14 [==============================] - 9s 619ms/step - loss: 0.4367 - masked_acc: 0.7437 - masked_auc: 0.7613 - val_loss: 0.4409 - val_masked_acc: 0.7491 - val_masked_auc: 0.7725\n",
      "Epoch 5/100\n",
      "14/14 [==============================] - 9s 641ms/step - loss: 0.4379 - masked_acc: 0.7506 - masked_auc: 0.7762 - val_loss: 0.4384 - val_masked_acc: 0.7541 - val_masked_auc: 0.7831\n",
      "Epoch 6/100\n",
      "14/14 [==============================] - 9s 617ms/step - loss: 0.4327 - masked_acc: 0.7550 - masked_auc: 0.7854 - val_loss: 0.4372 - val_masked_acc: 0.7576 - val_masked_auc: 0.7904\n",
      "Epoch 7/100\n",
      "14/14 [==============================] - 9s 622ms/step - loss: 0.4284 - masked_acc: 0.7583 - masked_auc: 0.7923 - val_loss: 0.4357 - val_masked_acc: 0.7603 - val_masked_auc: 0.7963\n",
      "Epoch 8/100\n",
      "14/14 [==============================] - 9s 639ms/step - loss: 0.4300 - masked_acc: 0.7607 - masked_auc: 0.7977 - val_loss: 0.4362 - val_masked_acc: 0.7625 - val_masked_auc: 0.8011\n",
      "Epoch 9/100\n",
      "14/14 [==============================] - 8s 610ms/step - loss: 0.4166 - masked_acc: 0.7631 - masked_auc: 0.8025 - val_loss: 0.4370 - val_masked_acc: 0.7644 - val_masked_auc: 0.8052\n",
      "Epoch 10/100\n",
      "14/14 [==============================] - 9s 612ms/step - loss: 0.4219 - masked_acc: 0.7648 - masked_auc: 0.8061 - val_loss: 0.4443 - val_masked_acc: 0.7659 - val_masked_auc: 0.8085\n",
      "Epoch 11/100\n",
      "14/14 [==============================] - 8s 598ms/step - loss: 0.4278 - masked_acc: 0.7661 - masked_auc: 0.8091 - val_loss: 0.4349 - val_masked_acc: 0.7671 - val_masked_auc: 0.8109\n",
      "Epoch 12/100\n",
      "14/14 [==============================] - 9s 636ms/step - loss: 0.4158 - masked_acc: 0.7674 - masked_auc: 0.8117 - val_loss: 0.4324 - val_masked_acc: 0.7685 - val_masked_auc: 0.8135\n",
      "Epoch 13/100\n",
      "14/14 [==============================] - 9s 623ms/step - loss: 0.4098 - masked_acc: 0.7688 - masked_auc: 0.8142 - val_loss: 0.4374 - val_masked_acc: 0.7696 - val_masked_auc: 0.8156\n",
      "Epoch 14/100\n",
      "14/14 [==============================] - 8s 607ms/step - loss: 0.4145 - masked_acc: 0.7698 - masked_auc: 0.8162 - val_loss: 0.4327 - val_masked_acc: 0.7706 - val_masked_auc: 0.8177\n",
      "Epoch 15/100\n",
      "14/14 [==============================] - 9s 619ms/step - loss: 0.4082 - masked_acc: 0.7708 - masked_auc: 0.8183 - val_loss: 0.4405 - val_masked_acc: 0.7717 - val_masked_auc: 0.8198\n",
      "Epoch 16/100\n",
      "14/14 [==============================] - 9s 640ms/step - loss: 0.3984 - masked_acc: 0.7720 - masked_auc: 0.8205 - val_loss: 0.4311 - val_masked_acc: 0.7727 - val_masked_auc: 0.8218\n",
      "Epoch 17/100\n",
      "14/14 [==============================] - 9s 619ms/step - loss: 0.4043 - masked_acc: 0.7729 - masked_auc: 0.8225 - val_loss: 0.4390 - val_masked_acc: 0.7737 - val_masked_auc: 0.8237\n",
      "Epoch 18/100\n",
      "14/14 [==============================] - 9s 619ms/step - loss: 0.3976 - masked_acc: 0.7739 - masked_auc: 0.8243 - val_loss: 0.4408 - val_masked_acc: 0.7746 - val_masked_auc: 0.8254\n",
      "Epoch 19/100\n",
      "14/14 [==============================] - 9s 620ms/step - loss: 0.3971 - masked_acc: 0.7748 - masked_auc: 0.8259 - val_loss: 0.4409 - val_masked_acc: 0.7755 - val_masked_auc: 0.8271\n",
      "Epoch 20/100\n",
      "14/14 [==============================] - 9s 631ms/step - loss: 0.3957 - masked_acc: 0.7757 - masked_auc: 0.8276 - val_loss: 0.4439 - val_masked_acc: 0.7763 - val_masked_auc: 0.8286\n",
      "Epoch 21/100\n",
      "14/14 [==============================] - 9s 615ms/step - loss: 0.3926 - masked_acc: 0.7764 - masked_auc: 0.8291 - val_loss: 0.4403 - val_masked_acc: 0.7771 - val_masked_auc: 0.8301\n",
      "Epoch 22/100\n",
      "14/14 [==============================] - 8s 604ms/step - loss: 0.3993 - masked_acc: 0.7772 - masked_auc: 0.8305 - val_loss: 0.4417 - val_masked_acc: 0.7778 - val_masked_auc: 0.8313\n",
      "Epoch 23/100\n",
      "14/14 [==============================] - 8s 601ms/step - loss: 0.3878 - masked_acc: 0.7780 - masked_auc: 0.8317 - val_loss: 0.4529 - val_masked_acc: 0.7785 - val_masked_auc: 0.8326\n",
      "Epoch 24/100\n",
      "14/14 [==============================] - 9s 626ms/step - loss: 0.3896 - masked_acc: 0.7787 - masked_auc: 0.8329 - val_loss: 0.4439 - val_masked_acc: 0.7793 - val_masked_auc: 0.8338\n",
      "Epoch 25/100\n",
      "14/14 [==============================] - 9s 609ms/step - loss: 0.3901 - masked_acc: 0.7794 - masked_auc: 0.8342 - val_loss: 0.4455 - val_masked_acc: 0.7800 - val_masked_auc: 0.8351\n",
      "Epoch 26/100\n",
      "14/14 [==============================] - 8s 602ms/step - loss: 0.3812 - masked_acc: 0.7802 - masked_auc: 0.8355 - val_loss: 0.4488 - val_masked_acc: 0.7808 - val_masked_auc: 0.8364\n",
      "28/28 [==============================] - 3s 100ms/step - loss: 0.3737 - masked_acc: 0.7814 - masked_auc: 0.8373\n",
      "4/4 [==============================] - 0s 92ms/step - loss: 0.4320 - masked_acc: 0.7816 - masked_auc: 0.8378\n",
      "Test:  [0.4320259988307953, 0.7815946340560913, 0.8377582430839539]\n",
      "Epoch 1/100\n",
      "14/14 [==============================] - 16s 748ms/step - loss: 0.6082 - masked_acc: 0.6881 - masked_auc: 0.5146 - val_loss: 0.5237 - val_masked_acc: 0.7082 - val_masked_auc: 0.6175\n",
      "Epoch 2/100\n",
      "14/14 [==============================] - 9s 618ms/step - loss: 0.5076 - masked_acc: 0.7126 - masked_auc: 0.6478 - val_loss: 0.4742 - val_masked_acc: 0.7266 - val_masked_auc: 0.6979\n",
      "Epoch 3/100\n",
      "14/14 [==============================] - 9s 621ms/step - loss: 0.4580 - masked_acc: 0.7306 - masked_auc: 0.7126 - val_loss: 0.4554 - val_masked_acc: 0.7400 - val_masked_auc: 0.7385\n",
      "Epoch 4/100\n",
      "14/14 [==============================] - 11s 765ms/step - loss: 0.4427 - masked_acc: 0.7426 - masked_auc: 0.7458 - val_loss: 0.4536 - val_masked_acc: 0.7479 - val_masked_auc: 0.7596\n",
      "Epoch 5/100\n",
      "14/14 [==============================] - 9s 630ms/step - loss: 0.4387 - masked_acc: 0.7495 - masked_auc: 0.7643 - val_loss: 0.4507 - val_masked_acc: 0.7528 - val_masked_auc: 0.7722\n",
      "Epoch 6/100\n",
      "14/14 [==============================] - 9s 613ms/step - loss: 0.4442 - masked_acc: 0.7534 - masked_auc: 0.7749 - val_loss: 0.4506 - val_masked_acc: 0.7563 - val_masked_auc: 0.7813\n",
      "Epoch 7/100\n",
      "14/14 [==============================] - 9s 644ms/step - loss: 0.4314 - masked_acc: 0.7570 - masked_auc: 0.7834 - val_loss: 0.4442 - val_masked_acc: 0.7589 - val_masked_auc: 0.7884\n",
      "Epoch 8/100\n",
      "14/14 [==============================] - 9s 622ms/step - loss: 0.4234 - masked_acc: 0.7596 - masked_auc: 0.7904 - val_loss: 0.4432 - val_masked_acc: 0.7611 - val_masked_auc: 0.7941\n",
      "Epoch 9/100\n",
      "14/14 [==============================] - 9s 625ms/step - loss: 0.4257 - masked_acc: 0.7616 - masked_auc: 0.7957 - val_loss: 0.4501 - val_masked_acc: 0.7631 - val_masked_auc: 0.7990\n",
      "Epoch 10/100\n",
      "14/14 [==============================] - 9s 612ms/step - loss: 0.4239 - masked_acc: 0.7634 - masked_auc: 0.8001 - val_loss: 0.4465 - val_masked_acc: 0.7646 - val_masked_auc: 0.8027\n",
      "Epoch 11/100\n",
      "14/14 [==============================] - 9s 634ms/step - loss: 0.4186 - masked_acc: 0.7650 - masked_auc: 0.8037 - val_loss: 0.4435 - val_masked_acc: 0.7660 - val_masked_auc: 0.8059\n",
      "Epoch 12/100\n",
      "14/14 [==============================] - 9s 613ms/step - loss: 0.4139 - masked_acc: 0.7663 - masked_auc: 0.8069 - val_loss: 0.4476 - val_masked_acc: 0.7673 - val_masked_auc: 0.8090\n",
      "Epoch 13/100\n",
      "14/14 [==============================] - 8s 603ms/step - loss: 0.4061 - masked_acc: 0.7677 - masked_auc: 0.8100 - val_loss: 0.4398 - val_masked_acc: 0.7685 - val_masked_auc: 0.8119\n",
      "Epoch 14/100\n",
      "14/14 [==============================] - 9s 611ms/step - loss: 0.4094 - masked_acc: 0.7689 - masked_auc: 0.8127 - val_loss: 0.4453 - val_masked_acc: 0.7697 - val_masked_auc: 0.8143\n",
      "Epoch 15/100\n",
      "14/14 [==============================] - 9s 624ms/step - loss: 0.4144 - masked_acc: 0.7699 - masked_auc: 0.8150 - val_loss: 0.4455 - val_masked_acc: 0.7707 - val_masked_auc: 0.8164\n",
      "Epoch 16/100\n",
      "14/14 [==============================] - 8s 603ms/step - loss: 0.4022 - masked_acc: 0.7710 - masked_auc: 0.8171 - val_loss: 0.4460 - val_masked_acc: 0.7716 - val_masked_auc: 0.8183\n",
      "Epoch 17/100\n",
      "14/14 [==============================] - 9s 615ms/step - loss: 0.4088 - masked_acc: 0.7718 - masked_auc: 0.8189 - val_loss: 0.4588 - val_masked_acc: 0.7724 - val_masked_auc: 0.8201\n",
      "Epoch 18/100\n",
      "14/14 [==============================] - 8s 605ms/step - loss: 0.4092 - masked_acc: 0.7726 - masked_auc: 0.8206 - val_loss: 0.4476 - val_masked_acc: 0.7732 - val_masked_auc: 0.8217\n",
      "Epoch 19/100\n",
      "14/14 [==============================] - 9s 630ms/step - loss: 0.4009 - masked_acc: 0.7734 - masked_auc: 0.8223 - val_loss: 0.4531 - val_masked_acc: 0.7739 - val_masked_auc: 0.8233\n",
      "Epoch 20/100\n",
      "14/14 [==============================] - 8s 603ms/step - loss: 0.3993 - masked_acc: 0.7740 - masked_auc: 0.8238 - val_loss: 0.4490 - val_masked_acc: 0.7746 - val_masked_auc: 0.8249\n",
      "Epoch 21/100\n",
      "14/14 [==============================] - 8s 601ms/step - loss: 0.3970 - masked_acc: 0.7748 - masked_auc: 0.8254 - val_loss: 0.4463 - val_masked_acc: 0.7754 - val_masked_auc: 0.8265\n",
      "Epoch 22/100\n",
      "14/14 [==============================] - 8s 606ms/step - loss: 0.3945 - masked_acc: 0.7756 - masked_auc: 0.8269 - val_loss: 0.4605 - val_masked_acc: 0.7762 - val_masked_auc: 0.8280\n",
      "Epoch 23/100\n",
      "14/14 [==============================] - 9s 620ms/step - loss: 0.3868 - masked_acc: 0.7764 - masked_auc: 0.8285 - val_loss: 0.4529 - val_masked_acc: 0.7769 - val_masked_auc: 0.8293\n",
      "28/28 [==============================] - 3s 103ms/step - loss: 0.3885 - masked_acc: 0.7775 - masked_auc: 0.8302\n",
      "4/4 [==============================] - 0s 94ms/step - loss: 0.4327 - masked_acc: 0.7777 - masked_auc: 0.8307\n",
      "Test:  [0.4326537549495697, 0.7777458429336548, 0.8307198286056519]\n",
      "Epoch 1/100\n",
      "14/14 [==============================] - 16s 727ms/step - loss: 0.6000 - masked_acc: 0.6056 - masked_auc: 0.5088 - val_loss: 0.4913 - val_masked_acc: 0.6926 - val_masked_auc: 0.6386\n",
      "Epoch 2/100\n",
      "14/14 [==============================] - 9s 617ms/step - loss: 0.4838 - masked_acc: 0.6957 - masked_auc: 0.6712 - val_loss: 0.4593 - val_masked_acc: 0.7038 - val_masked_auc: 0.7189\n",
      "Epoch 3/100\n",
      "14/14 [==============================] - 8s 602ms/step - loss: 0.4621 - masked_acc: 0.7105 - masked_auc: 0.7319 - val_loss: 0.4478 - val_masked_acc: 0.7245 - val_masked_auc: 0.7528\n",
      "Epoch 4/100\n",
      "14/14 [==============================] - 9s 609ms/step - loss: 0.4472 - masked_acc: 0.7284 - masked_auc: 0.7584 - val_loss: 0.4358 - val_masked_acc: 0.7361 - val_masked_auc: 0.7695\n",
      "Epoch 5/100\n",
      "14/14 [==============================] - 9s 635ms/step - loss: 0.4337 - masked_acc: 0.7384 - masked_auc: 0.7733 - val_loss: 0.4280 - val_masked_acc: 0.7435 - val_masked_auc: 0.7812\n",
      "Epoch 6/100\n",
      "14/14 [==============================] - 9s 608ms/step - loss: 0.4320 - masked_acc: 0.7450 - masked_auc: 0.7840 - val_loss: 0.4322 - val_masked_acc: 0.7486 - val_masked_auc: 0.7895\n",
      "Epoch 7/100\n",
      "14/14 [==============================] - 9s 627ms/step - loss: 0.4241 - masked_acc: 0.7498 - masked_auc: 0.7916 - val_loss: 0.4328 - val_masked_acc: 0.7526 - val_masked_auc: 0.7957\n",
      "Epoch 8/100\n",
      "14/14 [==============================] - 9s 617ms/step - loss: 0.4326 - masked_acc: 0.7534 - masked_auc: 0.7970 - val_loss: 0.4297 - val_masked_acc: 0.7555 - val_masked_auc: 0.8001\n",
      "Epoch 9/100\n",
      "14/14 [==============================] - 9s 637ms/step - loss: 0.4264 - masked_acc: 0.7561 - masked_auc: 0.8012 - val_loss: 0.4232 - val_masked_acc: 0.7580 - val_masked_auc: 0.8041\n",
      "Epoch 10/100\n",
      "14/14 [==============================] - 9s 630ms/step - loss: 0.4192 - masked_acc: 0.7587 - masked_auc: 0.8053 - val_loss: 0.4335 - val_masked_acc: 0.7599 - val_masked_auc: 0.8068\n",
      "Epoch 11/100\n",
      "14/14 [==============================] - 9s 627ms/step - loss: 0.4357 - masked_acc: 0.7602 - masked_auc: 0.8073 - val_loss: 0.4346 - val_masked_acc: 0.7613 - val_masked_auc: 0.8087\n",
      "Epoch 12/100\n",
      "14/14 [==============================] - 9s 624ms/step - loss: 0.4324 - masked_acc: 0.7616 - masked_auc: 0.8092 - val_loss: 0.4310 - val_masked_acc: 0.7625 - val_masked_auc: 0.8105\n",
      "Epoch 13/100\n",
      "14/14 [==============================] - 9s 641ms/step - loss: 0.4206 - masked_acc: 0.7629 - masked_auc: 0.8112 - val_loss: 0.4295 - val_masked_acc: 0.7637 - val_masked_auc: 0.8125\n",
      "Epoch 14/100\n",
      "14/14 [==============================] - 9s 638ms/step - loss: 0.4161 - masked_acc: 0.7641 - masked_auc: 0.8131 - val_loss: 0.4270 - val_masked_acc: 0.7649 - val_masked_auc: 0.8143\n",
      "Epoch 15/100\n",
      "14/14 [==============================] - 12s 855ms/step - loss: 0.4146 - masked_acc: 0.7652 - masked_auc: 0.8148 - val_loss: 0.4320 - val_masked_acc: 0.7659 - val_masked_auc: 0.8159\n",
      "Epoch 16/100\n",
      "14/14 [==============================] - 9s 659ms/step - loss: 0.4153 - masked_acc: 0.7662 - masked_auc: 0.8164 - val_loss: 0.4285 - val_masked_acc: 0.7668 - val_masked_auc: 0.8174\n",
      "Epoch 17/100\n",
      "14/14 [==============================] - 9s 633ms/step - loss: 0.4090 - masked_acc: 0.7671 - masked_auc: 0.8179 - val_loss: 0.4251 - val_masked_acc: 0.7677 - val_masked_auc: 0.8189\n",
      "Epoch 18/100\n",
      "14/14 [==============================] - 9s 630ms/step - loss: 0.4179 - masked_acc: 0.7679 - masked_auc: 0.8192 - val_loss: 0.4242 - val_masked_acc: 0.7685 - val_masked_auc: 0.8201\n",
      "Epoch 19/100\n",
      "14/14 [==============================] - 9s 629ms/step - loss: 0.4141 - masked_acc: 0.7687 - masked_auc: 0.8205 - val_loss: 0.4273 - val_masked_acc: 0.7692 - val_masked_auc: 0.8213\n",
      "28/28 [==============================] - 3s 105ms/step - loss: 0.4081 - masked_acc: 0.7698 - masked_auc: 0.8221\n",
      "4/4 [==============================] - 0s 91ms/step - loss: 0.4191 - masked_acc: 0.7700 - masked_auc: 0.8226\n",
      "Test:  [0.4191163182258606, 0.7699528336524963, 0.8225728869438171]\n",
      "Epoch 1/100\n",
      "14/14 [==============================] - 18s 778ms/step - loss: 0.5909 - masked_acc: 0.6296 - masked_auc: 0.5338 - val_loss: 0.5364 - val_masked_acc: 0.6976 - val_masked_auc: 0.6401\n",
      "Epoch 2/100\n",
      "14/14 [==============================] - 9s 648ms/step - loss: 0.4874 - masked_acc: 0.7003 - masked_auc: 0.6684 - val_loss: 0.4886 - val_masked_acc: 0.7189 - val_masked_auc: 0.7207\n",
      "Epoch 3/100\n",
      "14/14 [==============================] - 9s 666ms/step - loss: 0.4506 - masked_acc: 0.7245 - masked_auc: 0.7330 - val_loss: 0.4736 - val_masked_acc: 0.7357 - val_masked_auc: 0.7539\n",
      "Epoch 4/100\n",
      "14/14 [==============================] - 9s 640ms/step - loss: 0.4321 - masked_acc: 0.7388 - masked_auc: 0.7599 - val_loss: 0.4692 - val_masked_acc: 0.7450 - val_masked_auc: 0.7713\n",
      "Epoch 5/100\n",
      "14/14 [==============================] - 9s 636ms/step - loss: 0.4352 - masked_acc: 0.7467 - masked_auc: 0.7748 - val_loss: 0.4666 - val_masked_acc: 0.7508 - val_masked_auc: 0.7824\n",
      "Epoch 6/100\n",
      "14/14 [==============================] - 9s 671ms/step - loss: 0.4331 - masked_acc: 0.7517 - masked_auc: 0.7849 - val_loss: 0.4654 - val_masked_acc: 0.7546 - val_masked_auc: 0.7905\n",
      "Epoch 7/100\n",
      "14/14 [==============================] - 9s 649ms/step - loss: 0.4197 - masked_acc: 0.7556 - masked_auc: 0.7924 - val_loss: 0.4644 - val_masked_acc: 0.7576 - val_masked_auc: 0.7968\n",
      "Epoch 8/100\n",
      "14/14 [==============================] - 9s 648ms/step - loss: 0.4126 - masked_acc: 0.7584 - masked_auc: 0.7984 - val_loss: 0.4671 - val_masked_acc: 0.7600 - val_masked_auc: 0.8013\n",
      "Epoch 9/100\n",
      "14/14 [==============================] - 9s 644ms/step - loss: 0.4338 - masked_acc: 0.7604 - masked_auc: 0.8019 - val_loss: 0.4648 - val_masked_acc: 0.7619 - val_masked_auc: 0.8040\n",
      "Epoch 10/100\n",
      "14/14 [==============================] - 9s 661ms/step - loss: 0.4220 - masked_acc: 0.7623 - masked_auc: 0.8048 - val_loss: 0.4613 - val_masked_acc: 0.7636 - val_masked_auc: 0.8071\n",
      "Epoch 11/100\n",
      "14/14 [==============================] - 9s 637ms/step - loss: 0.4166 - masked_acc: 0.7640 - masked_auc: 0.8080 - val_loss: 0.4606 - val_masked_acc: 0.7651 - val_masked_auc: 0.8100\n",
      "Epoch 12/100\n",
      "14/14 [==============================] - 9s 617ms/step - loss: 0.4132 - masked_acc: 0.7655 - masked_auc: 0.8107 - val_loss: 0.4561 - val_masked_acc: 0.7664 - val_masked_auc: 0.8125\n",
      "Epoch 13/100\n",
      "14/14 [==============================] - 9s 667ms/step - loss: 0.4075 - masked_acc: 0.7668 - masked_auc: 0.8132 - val_loss: 0.4557 - val_masked_acc: 0.7677 - val_masked_auc: 0.8149\n",
      "Epoch 14/100\n",
      "14/14 [==============================] - 9s 648ms/step - loss: 0.4068 - masked_acc: 0.7680 - masked_auc: 0.8155 - val_loss: 0.4652 - val_masked_acc: 0.7688 - val_masked_auc: 0.8171\n",
      "Epoch 15/100\n",
      "14/14 [==============================] - 9s 626ms/step - loss: 0.4023 - masked_acc: 0.7691 - masked_auc: 0.8177 - val_loss: 0.4578 - val_masked_acc: 0.7699 - val_masked_auc: 0.8191\n",
      "Epoch 16/100\n",
      "14/14 [==============================] - 9s 640ms/step - loss: 0.3965 - masked_acc: 0.7702 - masked_auc: 0.8197 - val_loss: 0.4676 - val_masked_acc: 0.7709 - val_masked_auc: 0.8210\n",
      "Epoch 17/100\n",
      "14/14 [==============================] - 9s 658ms/step - loss: 0.3955 - masked_acc: 0.7712 - masked_auc: 0.8216 - val_loss: 0.4580 - val_masked_acc: 0.7719 - val_masked_auc: 0.8229\n",
      "Epoch 18/100\n",
      "14/14 [==============================] - 9s 632ms/step - loss: 0.3978 - masked_acc: 0.7722 - masked_auc: 0.8234 - val_loss: 0.4719 - val_masked_acc: 0.7725 - val_masked_auc: 0.8240\n",
      "Epoch 19/100\n",
      "14/14 [==============================] - 9s 630ms/step - loss: 0.4145 - masked_acc: 0.7726 - masked_auc: 0.8242 - val_loss: 0.4628 - val_masked_acc: 0.7730 - val_masked_auc: 0.8247\n",
      "Epoch 20/100\n",
      "14/14 [==============================] - 9s 632ms/step - loss: 0.4049 - masked_acc: 0.7731 - masked_auc: 0.8250 - val_loss: 0.4582 - val_masked_acc: 0.7735 - val_masked_auc: 0.8257\n",
      "Epoch 21/100\n",
      "14/14 [==============================] - 9s 648ms/step - loss: 0.4034 - masked_acc: 0.7737 - masked_auc: 0.8260 - val_loss: 0.4601 - val_masked_acc: 0.7742 - val_masked_auc: 0.8268\n",
      "Epoch 22/100\n",
      "14/14 [==============================] - 9s 620ms/step - loss: 0.3994 - masked_acc: 0.7744 - masked_auc: 0.8271 - val_loss: 0.4641 - val_masked_acc: 0.7747 - val_masked_auc: 0.8277\n",
      "Epoch 23/100\n",
      "14/14 [==============================] - 9s 618ms/step - loss: 0.4134 - masked_acc: 0.7748 - masked_auc: 0.8279 - val_loss: 0.4626 - val_masked_acc: 0.7751 - val_masked_auc: 0.8283\n",
      "28/28 [==============================] - 3s 105ms/step - loss: 0.4055 - masked_acc: 0.7756 - masked_auc: 0.8288\n",
      "4/4 [==============================] - 0s 90ms/step - loss: 0.4424 - masked_acc: 0.7756 - masked_auc: 0.8290\n",
      "Test:  [0.442391961812973, 0.7755938768386841, 0.8290045857429504]\n",
      "Epoch 1/100\n",
      "14/14 [==============================] - 17s 818ms/step - loss: 0.5946 - masked_acc: 0.6255 - masked_auc: 0.5221 - val_loss: 0.5094 - val_masked_acc: 0.6993 - val_masked_auc: 0.6408\n",
      "Epoch 2/100\n",
      "14/14 [==============================] - 9s 628ms/step - loss: 0.4867 - masked_acc: 0.7015 - masked_auc: 0.6705 - val_loss: 0.4702 - val_masked_acc: 0.7115 - val_masked_auc: 0.7170\n",
      "Epoch 3/100\n",
      "14/14 [==============================] - 9s 629ms/step - loss: 0.4570 - masked_acc: 0.7178 - masked_auc: 0.7297 - val_loss: 0.4461 - val_masked_acc: 0.7306 - val_masked_auc: 0.7511\n",
      "Epoch 4/100\n",
      "14/14 [==============================] - 9s 642ms/step - loss: 0.4405 - masked_acc: 0.7340 - masked_auc: 0.7571 - val_loss: 0.4416 - val_masked_acc: 0.7412 - val_masked_auc: 0.7690\n",
      "Epoch 5/100\n",
      "14/14 [==============================] - 9s 619ms/step - loss: 0.4416 - masked_acc: 0.7431 - masked_auc: 0.7725 - val_loss: 0.4430 - val_masked_acc: 0.7478 - val_masked_auc: 0.7802\n",
      "Epoch 6/100\n",
      "14/14 [==============================] - 9s 627ms/step - loss: 0.4281 - masked_acc: 0.7493 - masked_auc: 0.7827 - val_loss: 0.4430 - val_masked_acc: 0.7523 - val_masked_auc: 0.7879\n",
      "Epoch 7/100\n",
      "14/14 [==============================] - 8s 603ms/step - loss: 0.4332 - masked_acc: 0.7531 - masked_auc: 0.7897 - val_loss: 0.4300 - val_masked_acc: 0.7559 - val_masked_auc: 0.7943\n",
      "Epoch 8/100\n",
      "14/14 [==============================] - 9s 632ms/step - loss: 0.4246 - masked_acc: 0.7567 - masked_auc: 0.7960 - val_loss: 0.4385 - val_masked_acc: 0.7588 - val_masked_auc: 0.7994\n",
      "Epoch 9/100\n",
      "14/14 [==============================] - 9s 631ms/step - loss: 0.4297 - masked_acc: 0.7592 - masked_auc: 0.8004 - val_loss: 0.4337 - val_masked_acc: 0.7610 - val_masked_auc: 0.8032\n",
      "Epoch 10/100\n",
      "14/14 [==============================] - 9s 634ms/step - loss: 0.4186 - masked_acc: 0.7615 - masked_auc: 0.8044 - val_loss: 0.4362 - val_masked_acc: 0.7630 - val_masked_auc: 0.8069\n",
      "Epoch 11/100\n",
      "14/14 [==============================] - 9s 648ms/step - loss: 0.4208 - masked_acc: 0.7634 - masked_auc: 0.8078 - val_loss: 0.4287 - val_masked_acc: 0.7648 - val_masked_auc: 0.8100\n",
      "Epoch 12/100\n",
      "14/14 [==============================] - 9s 620ms/step - loss: 0.4125 - masked_acc: 0.7652 - masked_auc: 0.8108 - val_loss: 0.4300 - val_masked_acc: 0.7664 - val_masked_auc: 0.8127\n",
      "Epoch 13/100\n",
      "14/14 [==============================] - 9s 629ms/step - loss: 0.4026 - masked_acc: 0.7669 - masked_auc: 0.8136 - val_loss: 0.4294 - val_masked_acc: 0.7678 - val_masked_auc: 0.8153\n",
      "Epoch 14/100\n",
      "14/14 [==============================] - 9s 638ms/step - loss: 0.4012 - masked_acc: 0.7683 - masked_auc: 0.8162 - val_loss: 0.4288 - val_masked_acc: 0.7693 - val_masked_auc: 0.8178\n",
      "Epoch 15/100\n",
      "14/14 [==============================] - 9s 666ms/step - loss: 0.4093 - masked_acc: 0.7695 - masked_auc: 0.8185 - val_loss: 0.4451 - val_masked_acc: 0.7704 - val_masked_auc: 0.8199\n",
      "Epoch 16/100\n",
      "14/14 [==============================] - 9s 641ms/step - loss: 0.4038 - masked_acc: 0.7707 - masked_auc: 0.8205 - val_loss: 0.4453 - val_masked_acc: 0.7714 - val_masked_auc: 0.8216\n",
      "Epoch 17/100\n",
      "14/14 [==============================] - 9s 636ms/step - loss: 0.4207 - masked_acc: 0.7715 - masked_auc: 0.8219 - val_loss: 0.4312 - val_masked_acc: 0.7721 - val_masked_auc: 0.8227\n",
      "Epoch 18/100\n",
      "14/14 [==============================] - 9s 636ms/step - loss: 0.4064 - masked_acc: 0.7724 - masked_auc: 0.8232 - val_loss: 0.4474 - val_masked_acc: 0.7729 - val_masked_auc: 0.8237\n",
      "Epoch 19/100\n",
      "14/14 [==============================] - 9s 671ms/step - loss: 0.4230 - masked_acc: 0.7731 - masked_auc: 0.8238 - val_loss: 0.4349 - val_masked_acc: 0.7734 - val_masked_auc: 0.8241\n",
      "Epoch 20/100\n",
      "14/14 [==============================] - 9s 628ms/step - loss: 0.4224 - masked_acc: 0.7735 - masked_auc: 0.8243 - val_loss: 0.4340 - val_masked_acc: 0.7740 - val_masked_auc: 0.8248\n",
      "Epoch 21/100\n",
      "14/14 [==============================] - 9s 628ms/step - loss: 0.4158 - masked_acc: 0.7741 - masked_auc: 0.8251 - val_loss: 0.4346 - val_masked_acc: 0.7748 - val_masked_auc: 0.8258\n",
      "28/28 [==============================] - 3s 103ms/step - loss: 0.4039 - masked_acc: 0.7753 - masked_auc: 0.8265\n",
      "4/4 [==============================] - 0s 91ms/step - loss: 0.4348 - masked_acc: 0.7755 - masked_auc: 0.8269\n",
      "Test:  [0.4348338842391968, 0.7754613161087036, 0.8268758654594421]\n"
     ]
    }
   ],
   "source": [
    "# 5 fold cross validation\n",
    "#HERE WE ONLY USE\n",
    "#CHAPTER, SUB_CHAPTER\n",
    "#QUESTION\n",
    "X = np.array(grouped_data.keys())\n",
    "kfold = KFold(n_splits=5, shuffle=True)\n",
    "train_losses = list()\n",
    "train_aucs = list()\n",
    "val_losses = list()\n",
    "val_aucs = list()\n",
    "train_eval = list()\n",
    "test_eval = list()\n",
    "for train, test in kfold.split(X):\n",
    "    users_train, users_test =  X[train], X[test]\n",
    "    n = len(users_test)//2\n",
    "    users_test, users_val = users_test[:n], users_test[n: ]\n",
    "    train_data_space = SPACE_DATASET(grouped_data[users_train], MAXLENGTH)\n",
    "    val_data_space = SPACE_DATASET(grouped_data[users_val], MAXLENGTH)\n",
    "    test_data_space = SPACE_DATASET(grouped_data[users_test], MAXLENGTH)\n",
    "    #construct training input\n",
    "    train_chapter=[]\n",
    "    train_sub_chapter=[]\n",
    "    train_question = []\n",
    "    train_features=[]\n",
    "    train_labels=[]\n",
    "    for i in range(len(users_train)):\n",
    "        user = train_data_space.__getitem__(i)\n",
    "        train_chapter.append(user[0])\n",
    "        train_sub_chapter.append(user[1]) \n",
    "        train_question.append(user[2])\n",
    "        #train_features.append(user[3])\n",
    "        train_labels.append(user[3])\n",
    "    train_chapter = np.array(train_chapter)\n",
    "    train_sub_chapter = np.array(train_sub_chapter)\n",
    "    train_question = np.array(train_question)\n",
    "    #train_features = np.array(train_features)\n",
    "    train_labels= np.array(train_labels)[..., np.newaxis]\n",
    "\n",
    "    #construct validation input\n",
    "    val_chapter=[]\n",
    "    val_sub_chapter=[]\n",
    "    val_question = []\n",
    "    #val_features=[]\n",
    "    val_labels=[]\n",
    "    for i in range(len(users_val)):\n",
    "        user = val_data_space.__getitem__(i)\n",
    "        val_chapter.append(user[0])\n",
    "        val_sub_chapter.append(user[1]) \n",
    "        val_question.append(user[2])\n",
    "        #val_features.append(user[3])\n",
    "        val_labels.append(user[3])\n",
    "    val_chapter = np.array(val_chapter)\n",
    "    val_sub_chapter = np.array(val_sub_chapter)\n",
    "    #val_features = np.array(val_features)\n",
    "    val_question = np.array(val_question)\n",
    "    val_labels= np.array(val_labels)[..., np.newaxis]\n",
    "\n",
    "    # construct test input\n",
    "    test_chapter=[]\n",
    "    test_sub_chapter=[]\n",
    "    #test_features=[]\n",
    "    test_question=[]\n",
    "    test_labels=[]\n",
    "    for i in range(len(users_test)):\n",
    "        user = test_data_space.__getitem__(i)\n",
    "        test_chapter.append(user[0])\n",
    "        test_sub_chapter.append(user[1]) \n",
    "        test_question.append(user[2])\n",
    "        #test_features.append(user[3])\n",
    "        test_labels.append(user[3])\n",
    "    test_chapter = np.array(test_chapter)\n",
    "    test_sub_chapter = np.array(test_sub_chapter)\n",
    "    #test_features = np.array(test_features)\n",
    "    test_question = np.array(test_question)\n",
    "    test_labels= np.array(test_labels)[..., np.newaxis]\n",
    "\n",
    "    # define loss function and evaluation metrics\n",
    "    bce = tf.keras.losses.BinaryCrossentropy(from_logits=True)\n",
    "    acc = tf.keras.metrics.Accuracy()\n",
    "    auc = tf.keras.metrics.AUC()\n",
    "\n",
    "    def masked_bce(y_true, y_pred):\n",
    "      flat_pred = y_pred\n",
    "      flat_ground_truth = y_true\n",
    "      label_mask = tf.math.not_equal(flat_ground_truth, -1)\n",
    "      return bce(flat_ground_truth, flat_pred, sample_weight=label_mask)\n",
    "\n",
    "    def masked_acc(y_true, y_pred):\n",
    "      flat_pred = y_pred\n",
    "      flat_ground_truth = y_true\n",
    "      flat_pred = (flat_pred >= 0.5)\n",
    "      label_mask = tf.math.not_equal(flat_ground_truth, -1)\n",
    "      return acc(flat_ground_truth, flat_pred, sample_weight=label_mask)\n",
    "\n",
    "    def masked_auc(y_true, y_pred):\n",
    "      flat_pred = y_pred\n",
    "      flat_ground_truth = y_true\n",
    "      label_mask = tf.math.not_equal(flat_ground_truth, -1)\n",
    "      return auc(flat_ground_truth, flat_pred, sample_weight=label_mask)\n",
    "\n",
    "    # input layer\n",
    "    input_chap = tf.keras.Input(shape=(MAXLENGTH))\n",
    "    input_sub_chap = tf.keras.Input(shape=(MAXLENGTH))\n",
    "    input_ques =  tf.keras.Input(shape=(MAXLENGTH))\n",
    "    #input_features = tf.keras.Input(shape=(MAXLENGTH, FEATURES_SIZE))\n",
    "\n",
    "    # embedding layer for categorical features\n",
    "    embedding_chap = Embedding(input_dim = CHAPTER_SIZE, output_dim = EMBEDDING_DIM)(input_chap)\n",
    "    embedding_sub_chap = Embedding(input_dim = SUB_CHAPTER_SIZE, output_dim = EMBEDDING_DIM)(input_sub_chap) \n",
    "    embedding_ques = Embedding(input_dim = QUESTION_SIZE, output_dim = EMBEDDING_DIM)(input_ques)       \n",
    "\n",
    "    # dense layer for numeric features\n",
    "    #dense_features = Dense(EMBEDDING_DIM,input_shape = (None, MAXLENGTH))(input_features)\n",
    "\n",
    "    # definr lstm layers\n",
    "    lstm_chap = LSTM(LSTM_NEURON, input_shape = (None, EMBEDDING_DIM),return_sequences = True)(embedding_chap)\n",
    "    lstm_sub_chap = LSTM(LSTM_NEURON, input_shape = (None, EMBEDDING_DIM),return_sequences = True)(embedding_sub_chap)\n",
    "    lstm_ques = LSTM(LSTM_NEURON, input_shape = (None, EMBEDDING_DIM),return_sequences = True)(embedding_ques)\n",
    "    #lstm_features = LSTM(LSTM_NEURON, input_shape = (None, EMBEDDING_DIM),return_sequences = True)(dense_features)\n",
    "\n",
    "    lstm_output = tf.concat([lstm_chap, lstm_sub_chap, lstm_ques], axis = 2)\n",
    "\n",
    "    dense1 = Dense(256, input_shape = (None, 3*EMBEDDING_DIM), activation='relu')(lstm_output)\n",
    "    dropout1 = Dropout(0.1)(dense1)\n",
    "    dense2 = Dense(64, input_shape = (None, 256), activation='relu')(dropout1)\n",
    "    dropout2 = Dropout(0.1)(dense2)\n",
    "    pred = Dense(1, input_shape = (None, 64), activation='sigmoid')(dropout2)\n",
    "\n",
    "    model = tf.keras.Model(\n",
    "        inputs=[input_chap, input_sub_chap,input_ques],\n",
    "        outputs=pred,\n",
    "        name='lstm_model'\n",
    "    )\n",
    "\n",
    "    callback = tf.keras.callbacks.EarlyStopping(monitor='val_loss', patience=10)\n",
    "    opt_adam = Adam(learning_rate = 0.005)\n",
    "    model.compile(\n",
    "        optimizer=opt_adam,\n",
    "        loss= masked_bce,\n",
    "        metrics = [masked_acc, masked_auc]\n",
    "    )\n",
    "\n",
    "    history = model.fit(\n",
    "      [train_chapter, train_sub_chapter, train_question],\n",
    "      train_labels,\n",
    "      batch_size = 64,\n",
    "      epochs = 100,\n",
    "      validation_data=([val_chapter, val_sub_chapter, val_question], val_labels),\n",
    "      callbacks=[callback]\n",
    "    )\n",
    "    val_losses.append(list(history.history['val_loss']))\n",
    "    train_losses.append(list(history.history['loss']))\n",
    "    val_aucs.append(list(history.history['val_masked_auc']))\n",
    "    train_aucs.append(list(history.history['masked_auc']))\n",
    "    train_score = model.evaluate([train_chapter, train_sub_chapter, train_question], train_labels)\n",
    "    train_eval.append(train_score)\n",
    "    test_score = model.evaluate([test_chapter, test_sub_chapter, test_question], test_labels)\n",
    "    test_eval.append(test_score)\n",
    "    print(\"Test: \", test_score)\n",
    "    def reset_weights(model):\n",
    "      for layer in model.layers: \n",
    "        if isinstance(layer, tf.keras.Model):\n",
    "          reset_weights(layer)\n",
    "          continue\n",
    "        for k, initializer in layer.__dict__.items():\n",
    "          if \"initializer\" not in k:\n",
    "            continue\n",
    "          # find the corresponding variable\n",
    "          var = getattr(layer, k.replace(\"_initializer\", \"\"))\n",
    "          var.assign(initializer(var.shape, var.dtype))\n",
    "    reset_weights(model)"
   ]
  },
  {
   "cell_type": "code",
   "execution_count": 29,
   "metadata": {
    "execution": {
     "iopub.execute_input": "2021-07-26T23:25:01.206595Z",
     "iopub.status.busy": "2021-07-26T23:25:01.205829Z",
     "iopub.status.idle": "2021-07-26T23:25:01.219507Z",
     "shell.execute_reply": "2021-07-26T23:25:01.218340Z",
     "shell.execute_reply.started": "2021-07-26T23:25:01.206544Z"
    },
    "id": "QsVmumHMz3lx",
    "outputId": "4ff1e2fa-6abb-458e-c729-495b456f53e5"
   },
   "outputs": [
    {
     "name": "stdout",
     "output_type": "stream",
     "text": [
      "test avg loss:  0.43220438361167907 +/- 0.007513085044512993\n",
      "test avg acc:  0.776069700717926 +/- 0.003777484454275153\n",
      "test avg auc:  0.8293862819671631 +/- 0.00499476354539537\n"
     ]
    }
   ],
   "source": [
    "t_eval = np.array(test_eval)\n",
    "print(\"test avg loss: \", np.mean(t_eval[:, 0]), \"+/-\" ,np.std(t_eval[:, 0]))\n",
    "print(\"test avg acc: \", np.mean(t_eval[:, 1]),  \"+/-\" ,np.std(t_eval[:, 1]))\n",
    "print(\"test avg auc: \", np.mean(t_eval[:, 2]), \"+/-\" ,np.std(t_eval[:, 2]))"
   ]
  },
  {
   "cell_type": "code",
   "execution_count": 30,
   "metadata": {
    "execution": {
     "iopub.execute_input": "2021-07-26T23:25:01.221298Z",
     "iopub.status.busy": "2021-07-26T23:25:01.220982Z",
     "iopub.status.idle": "2021-07-26T23:25:01.238533Z",
     "shell.execute_reply": "2021-07-26T23:25:01.237258Z",
     "shell.execute_reply.started": "2021-07-26T23:25:01.221267Z"
    },
    "id": "b9MM_CXWz5K6",
    "outputId": "4cf88e1d-3a74-4e7d-f92c-d01522e91757"
   },
   "outputs": [
    {
     "name": "stdout",
     "output_type": "stream",
     "text": [
      "train avg loss:  0.3959327101707458 +/- 0.01308748935354526\n",
      "train avg acc:  0.775930380821228 +/- 0.0037562235044403215\n",
      "train avg auc:  0.8289870500564576 +/- 0.004958190753391719\n"
     ]
    }
   ],
   "source": [
    "t_eval = np.array(train_eval)\n",
    "print(\"train avg loss: \", np.mean(t_eval[:, 0]), \"+/-\" ,np.std(t_eval[:, 0]))\n",
    "print(\"train avg acc: \", np.mean(t_eval[:, 1]),  \"+/-\" ,np.std(t_eval[:, 1]))\n",
    "print(\"train avg auc: \", np.mean(t_eval[:, 2]), \"+/-\" ,np.std(t_eval[:, 2]))"
   ]
  }
 ],
 "metadata": {
  "kernelspec": {
   "display_name": "Python 3",
   "language": "python",
   "name": "python3"
  },
  "language_info": {
   "codemirror_mode": {
    "name": "ipython",
    "version": 3
   },
   "file_extension": ".py",
   "mimetype": "text/x-python",
   "name": "python",
   "nbconvert_exporter": "python",
   "pygments_lexer": "ipython3",
   "version": "3.8.5"
  }
 },
 "nbformat": 4,
 "nbformat_minor": 4
}
