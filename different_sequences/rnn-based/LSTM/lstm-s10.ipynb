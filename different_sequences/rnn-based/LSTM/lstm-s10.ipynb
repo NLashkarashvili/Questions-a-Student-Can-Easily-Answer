{
 "cells": [
  {
   "cell_type": "code",
   "execution_count": 1,
   "metadata": {
    "execution": {
     "iopub.execute_input": "2021-07-27T08:55:54.711893Z",
     "iopub.status.busy": "2021-07-27T08:55:54.711138Z",
     "iopub.status.idle": "2021-07-27T08:56:02.172742Z",
     "shell.execute_reply": "2021-07-27T08:56:02.171770Z",
     "shell.execute_reply.started": "2021-07-26T23:06:30.176999Z"
    },
    "id": "farifxiKU1aB",
    "papermill": {
     "duration": 7.508346,
     "end_time": "2021-07-27T08:56:02.172961",
     "exception": false,
     "start_time": "2021-07-27T08:55:54.664615",
     "status": "completed"
    },
    "tags": []
   },
   "outputs": [],
   "source": [
    "import numpy as np\n",
    "import pandas as pd\n",
    "import warnings\n",
    "import gc\n",
    "import tensorflow as tf\n",
    "from tensorflow import keras\n",
    "\n",
    "import random\n",
    "from random import choice\n",
    "from tensorflow.keras.optimizers import Adam\n",
    "from tensorflow.keras.models import Sequential \n",
    "from tensorflow.keras.layers import Dense, LSTM, Concatenate, Embedding, Flatten, Activation, Dropout\n",
    "from sklearn.model_selection import KFold\n",
    "from tensorflow.python.client import device_lib\n",
    "warnings.filterwarnings('ignore')\n",
    "import random"
   ]
  },
  {
   "cell_type": "code",
   "execution_count": 2,
   "metadata": {
    "execution": {
     "iopub.execute_input": "2021-07-27T08:56:02.231755Z",
     "iopub.status.busy": "2021-07-27T08:56:02.230969Z",
     "iopub.status.idle": "2021-07-27T08:56:02.236634Z",
     "shell.execute_reply": "2021-07-27T08:56:02.235832Z",
     "shell.execute_reply.started": "2021-07-26T23:06:32.508998Z"
    },
    "id": "QOson70GPOXb",
    "papermill": {
     "duration": 0.035886,
     "end_time": "2021-07-27T08:56:02.236839",
     "exception": false,
     "start_time": "2021-07-27T08:56:02.200953",
     "status": "completed"
    },
    "tags": []
   },
   "outputs": [],
   "source": [
    "import gc"
   ]
  },
  {
   "cell_type": "markdown",
   "metadata": {
    "id": "BQsVybBH3VPw",
    "papermill": {
     "duration": 0.026581,
     "end_time": "2021-07-27T08:56:02.290472",
     "exception": false,
     "start_time": "2021-07-27T08:56:02.263891",
     "status": "completed"
    },
    "tags": []
   },
   "source": [
    "## Data Preprocessing"
   ]
  },
  {
   "cell_type": "code",
   "execution_count": 3,
   "metadata": {
    "execution": {
     "iopub.execute_input": "2021-07-27T08:56:02.350745Z",
     "iopub.status.busy": "2021-07-27T08:56:02.349959Z",
     "iopub.status.idle": "2021-07-27T08:56:10.289772Z",
     "shell.execute_reply": "2021-07-27T08:56:10.290472Z",
     "shell.execute_reply.started": "2021-07-26T23:06:32.51691Z"
    },
    "id": "rwtTusGxrmAE",
    "outputId": "1430f3cf-038b-485e-b5c4-c1686b1f34fd",
    "papermill": {
     "duration": 7.973193,
     "end_time": "2021-07-27T08:56:10.290686",
     "exception": false,
     "start_time": "2021-07-27T08:56:02.317493",
     "status": "completed"
    },
    "tags": []
   },
   "outputs": [
    {
     "data": {
      "text/html": [
       "<div>\n",
       "<style scoped>\n",
       "    .dataframe tbody tr th:only-of-type {\n",
       "        vertical-align: middle;\n",
       "    }\n",
       "\n",
       "    .dataframe tbody tr th {\n",
       "        vertical-align: top;\n",
       "    }\n",
       "\n",
       "    .dataframe thead th {\n",
       "        text-align: right;\n",
       "    }\n",
       "</style>\n",
       "<table border=\"1\" class=\"dataframe\">\n",
       "  <thead>\n",
       "    <tr style=\"text-align: right;\">\n",
       "      <th></th>\n",
       "      <th>Unnamed: 0</th>\n",
       "      <th>chapter_label</th>\n",
       "      <th>sub_chapter_label</th>\n",
       "      <th>question_name</th>\n",
       "      <th>user_id.x</th>\n",
       "      <th>term</th>\n",
       "      <th>STDNT_SEX_CD</th>\n",
       "      <th>NonNativeEnglish</th>\n",
       "      <th>White</th>\n",
       "      <th>Asian</th>\n",
       "      <th>...</th>\n",
       "      <th>classGraded</th>\n",
       "      <th>classHonors</th>\n",
       "      <th>Pass_Fail</th>\n",
       "      <th>parentsGraduateEdu</th>\n",
       "      <th>minorityGroup</th>\n",
       "      <th>q</th>\n",
       "      <th>day's_available_flashcards</th>\n",
       "      <th>start_practice</th>\n",
       "      <th>end_practice</th>\n",
       "      <th>days_offset</th>\n",
       "    </tr>\n",
       "  </thead>\n",
       "  <tbody>\n",
       "    <tr>\n",
       "      <th>0</th>\n",
       "      <td>1</td>\n",
       "      <td>Sort</td>\n",
       "      <td>intro-SortingwithSortandSorted</td>\n",
       "      <td>ee_sort_04</td>\n",
       "      <td>148</td>\n",
       "      <td>WN 2018</td>\n",
       "      <td>1</td>\n",
       "      <td>0</td>\n",
       "      <td>1</td>\n",
       "      <td>0</td>\n",
       "      <td>...</td>\n",
       "      <td>1</td>\n",
       "      <td>0</td>\n",
       "      <td>0</td>\n",
       "      <td>0</td>\n",
       "      <td>0</td>\n",
       "      <td>0</td>\n",
       "      <td>18</td>\n",
       "      <td>2018/3/4 20:00</td>\n",
       "      <td>2018/3/4 20:00</td>\n",
       "      <td>45</td>\n",
       "    </tr>\n",
       "    <tr>\n",
       "      <th>1</th>\n",
       "      <td>2</td>\n",
       "      <td>Functions</td>\n",
       "      <td>Returningavaluefromafunction</td>\n",
       "      <td>test_questionfunctions_2_3</td>\n",
       "      <td>148</td>\n",
       "      <td>WN 2018</td>\n",
       "      <td>1</td>\n",
       "      <td>0</td>\n",
       "      <td>1</td>\n",
       "      <td>0</td>\n",
       "      <td>...</td>\n",
       "      <td>1</td>\n",
       "      <td>0</td>\n",
       "      <td>0</td>\n",
       "      <td>0</td>\n",
       "      <td>0</td>\n",
       "      <td>4</td>\n",
       "      <td>16</td>\n",
       "      <td>2018/2/10 11:57</td>\n",
       "      <td>2018/2/10 11:58</td>\n",
       "      <td>23</td>\n",
       "    </tr>\n",
       "    <tr>\n",
       "      <th>2</th>\n",
       "      <td>3</td>\n",
       "      <td>RESTAPIs</td>\n",
       "      <td>functionswithrestapis</td>\n",
       "      <td>test_question_functions_rest_apis_1</td>\n",
       "      <td>148</td>\n",
       "      <td>WN 2018</td>\n",
       "      <td>1</td>\n",
       "      <td>0</td>\n",
       "      <td>1</td>\n",
       "      <td>0</td>\n",
       "      <td>...</td>\n",
       "      <td>1</td>\n",
       "      <td>0</td>\n",
       "      <td>0</td>\n",
       "      <td>0</td>\n",
       "      <td>0</td>\n",
       "      <td>1</td>\n",
       "      <td>2</td>\n",
       "      <td>2018/3/12 17:03</td>\n",
       "      <td>2018/3/12 17:04</td>\n",
       "      <td>53</td>\n",
       "    </tr>\n",
       "    <tr>\n",
       "      <th>3</th>\n",
       "      <td>4</td>\n",
       "      <td>SimplePythonData</td>\n",
       "      <td>FunctionCalls</td>\n",
       "      <td>exercise_functionCalls_1</td>\n",
       "      <td>148</td>\n",
       "      <td>WN 2018</td>\n",
       "      <td>1</td>\n",
       "      <td>0</td>\n",
       "      <td>1</td>\n",
       "      <td>0</td>\n",
       "      <td>...</td>\n",
       "      <td>1</td>\n",
       "      <td>0</td>\n",
       "      <td>0</td>\n",
       "      <td>0</td>\n",
       "      <td>0</td>\n",
       "      <td>0</td>\n",
       "      <td>10</td>\n",
       "      <td>2018/1/30 14:15</td>\n",
       "      <td>2018/1/30 14:15</td>\n",
       "      <td>12</td>\n",
       "    </tr>\n",
       "    <tr>\n",
       "      <th>4</th>\n",
       "      <td>5</td>\n",
       "      <td>DictionaryAccumulation</td>\n",
       "      <td>AccumulatingaMaximumValue</td>\n",
       "      <td>ps_04_07</td>\n",
       "      <td>148</td>\n",
       "      <td>WN 2018</td>\n",
       "      <td>1</td>\n",
       "      <td>0</td>\n",
       "      <td>1</td>\n",
       "      <td>0</td>\n",
       "      <td>...</td>\n",
       "      <td>1</td>\n",
       "      <td>0</td>\n",
       "      <td>0</td>\n",
       "      <td>0</td>\n",
       "      <td>0</td>\n",
       "      <td>0</td>\n",
       "      <td>23</td>\n",
       "      <td>2018/3/3 14:04</td>\n",
       "      <td>2018/3/3 14:04</td>\n",
       "      <td>44</td>\n",
       "    </tr>\n",
       "  </tbody>\n",
       "</table>\n",
       "<p>5 rows × 48 columns</p>\n",
       "</div>"
      ],
      "text/plain": [
       "   Unnamed: 0           chapter_label               sub_chapter_label  \\\n",
       "0           1                    Sort  intro-SortingwithSortandSorted   \n",
       "1           2               Functions    Returningavaluefromafunction   \n",
       "2           3                RESTAPIs           functionswithrestapis   \n",
       "3           4        SimplePythonData                   FunctionCalls   \n",
       "4           5  DictionaryAccumulation       AccumulatingaMaximumValue   \n",
       "\n",
       "                         question_name  user_id.x     term  STDNT_SEX_CD  \\\n",
       "0                           ee_sort_04        148  WN 2018             1   \n",
       "1           test_questionfunctions_2_3        148  WN 2018             1   \n",
       "2  test_question_functions_rest_apis_1        148  WN 2018             1   \n",
       "3             exercise_functionCalls_1        148  WN 2018             1   \n",
       "4                             ps_04_07        148  WN 2018             1   \n",
       "\n",
       "   NonNativeEnglish  White  Asian  ...  classGraded  classHonors  Pass_Fail  \\\n",
       "0                 0      1      0  ...            1            0          0   \n",
       "1                 0      1      0  ...            1            0          0   \n",
       "2                 0      1      0  ...            1            0          0   \n",
       "3                 0      1      0  ...            1            0          0   \n",
       "4                 0      1      0  ...            1            0          0   \n",
       "\n",
       "   parentsGraduateEdu  minorityGroup  q  day's_available_flashcards  \\\n",
       "0                   0              0  0                          18   \n",
       "1                   0              0  4                          16   \n",
       "2                   0              0  1                           2   \n",
       "3                   0              0  0                          10   \n",
       "4                   0              0  0                          23   \n",
       "\n",
       "    start_practice     end_practice  days_offset  \n",
       "0   2018/3/4 20:00   2018/3/4 20:00           45  \n",
       "1  2018/2/10 11:57  2018/2/10 11:58           23  \n",
       "2  2018/3/12 17:03  2018/3/12 17:04           53  \n",
       "3  2018/1/30 14:15  2018/1/30 14:15           12  \n",
       "4   2018/3/3 14:04   2018/3/3 14:04           44  \n",
       "\n",
       "[5 rows x 48 columns]"
      ]
     },
     "execution_count": 3,
     "metadata": {},
     "output_type": "execute_result"
    }
   ],
   "source": [
    "# load the data\n",
    "import pandas as pd\n",
    "dataframe = pd.read_csv('Practice_Log_Demographics.csv', low_memory=False)\n",
    "dataframe.head()"
   ]
  },
  {
   "cell_type": "code",
   "execution_count": 4,
   "metadata": {
    "execution": {
     "iopub.execute_input": "2021-07-27T08:56:10.415973Z",
     "iopub.status.busy": "2021-07-27T08:56:10.415260Z",
     "iopub.status.idle": "2021-07-27T08:56:12.334525Z",
     "shell.execute_reply": "2021-07-27T08:56:12.333883Z",
     "shell.execute_reply.started": "2021-07-26T23:06:37.816269Z"
    },
    "id": "OCbHnEp_Vir0",
    "papermill": {
     "duration": 2.016006,
     "end_time": "2021-07-27T08:56:12.334721",
     "exception": false,
     "start_time": "2021-07-27T08:56:10.318715",
     "status": "completed"
    },
    "tags": []
   },
   "outputs": [],
   "source": [
    "#sort data based on timestamp\n",
    "dataframe = dataframe.sort_values(by=['start_practice'])"
   ]
  },
  {
   "cell_type": "code",
   "execution_count": 5,
   "metadata": {
    "execution": {
     "iopub.execute_input": "2021-07-27T08:56:12.398838Z",
     "iopub.status.busy": "2021-07-27T08:56:12.398086Z",
     "iopub.status.idle": "2021-07-27T08:56:12.401993Z",
     "shell.execute_reply": "2021-07-27T08:56:12.401439Z",
     "shell.execute_reply.started": "2021-07-26T23:06:39.434648Z"
    },
    "id": "0RvF7BvEr98o",
    "papermill": {
     "duration": 0.039053,
     "end_time": "2021-07-27T08:56:12.402138",
     "exception": false,
     "start_time": "2021-07-27T08:56:12.363085",
     "status": "completed"
    },
    "tags": []
   },
   "outputs": [],
   "source": [
    "FEATURES = ['chapter_label', 'sub_chapter_label','question_name','user_id','term',\n",
    "            'STDNT_SEX_CD', \n",
    "            'NonNativeEnglish',\n",
    "            'White',\n",
    "            'Asian',\n",
    "            'WhiteOrAsian',\n",
    "            'Hispanic',\n",
    "            'AfricanAmerican',\n",
    "            'OtherEthnicities',\n",
    "            'NonWhiteOrAsian',\n",
    "            'STDNT_CTZN_STAT_CD', 'international', \n",
    "            'gradingType',\n",
    "            'birthYear',\n",
    "            'exclClassCumGPA',\n",
    "            'Freshman',\n",
    "            'Junior',\n",
    "            'Sophomore',\n",
    "            'Senior',\n",
    "            'termCreditsGPA',\n",
    "            'termCreditsNoGPA',\n",
    "            'athlete_1',\n",
    "            'honorsPro',\n",
    "            'LSA', 'programBusiness', 'programEngineering', \n",
    "            'programInformation', 'programOther',\n",
    "            'HSCalculusTaken', \n",
    "            'highSchoolGPA', \n",
    "            'majorsCount', 'minorsCount',\n",
    "            'PREV_TERM_CUM_GPA',\n",
    "            'classGraded', 'classHonors', \n",
    "            'Pass_Fail', \n",
    "            'parentsGraduateEdu',  'minorityGroup', \n",
    "            'q',\n",
    "            'available_flashcards', \n",
    "            'start_practice', \n",
    "            'end_practice',\n",
    "            'days_offset']"
   ]
  },
  {
   "cell_type": "code",
   "execution_count": 6,
   "metadata": {
    "execution": {
     "iopub.execute_input": "2021-07-27T08:56:12.470609Z",
     "iopub.status.busy": "2021-07-27T08:56:12.469762Z",
     "iopub.status.idle": "2021-07-27T08:56:13.347312Z",
     "shell.execute_reply": "2021-07-27T08:56:13.346539Z",
     "shell.execute_reply.started": "2021-07-26T23:06:39.44431Z"
    },
    "id": "Mn341X7lSztl",
    "papermill": {
     "duration": 0.914232,
     "end_time": "2021-07-27T08:56:13.347485",
     "exception": false,
     "start_time": "2021-07-27T08:56:12.433253",
     "status": "completed"
    },
    "tags": []
   },
   "outputs": [],
   "source": [
    "dataframe['available_flashcards'] = dataframe[\"day's_available_flashcards\"][:]\n",
    "dataframe = dataframe.drop([\"day's_available_flashcards\"], axis=1)\n",
    "dataframe['user_id'] = dataframe[\"user_id.x\"][:]\n",
    "dataframe = dataframe.drop([\"user_id.x\"], axis=1)"
   ]
  },
  {
   "cell_type": "code",
   "execution_count": 7,
   "metadata": {
    "execution": {
     "iopub.execute_input": "2021-07-27T08:56:13.620089Z",
     "iopub.status.busy": "2021-07-27T08:56:13.618935Z",
     "iopub.status.idle": "2021-07-27T08:56:13.623636Z",
     "shell.execute_reply": "2021-07-27T08:56:13.623075Z",
     "shell.execute_reply.started": "2021-07-26T23:06:40.253171Z"
    },
    "id": "-_BRggOjbBjN",
    "outputId": "42bff7db-08dd-48dc-a73a-d048508053b7",
    "papermill": {
     "duration": 0.246673,
     "end_time": "2021-07-27T08:56:13.623808",
     "exception": false,
     "start_time": "2021-07-27T08:56:13.377135",
     "status": "completed"
    },
    "tags": []
   },
   "outputs": [
    {
     "data": {
      "text/plain": [
       "102"
      ]
     },
     "execution_count": 7,
     "metadata": {},
     "output_type": "execute_result"
    }
   ],
   "source": [
    "gc.collect()"
   ]
  },
  {
   "cell_type": "code",
   "execution_count": 8,
   "metadata": {
    "execution": {
     "iopub.execute_input": "2021-07-27T08:56:13.688773Z",
     "iopub.status.busy": "2021-07-27T08:56:13.686579Z",
     "iopub.status.idle": "2021-07-27T08:56:14.001523Z",
     "shell.execute_reply": "2021-07-27T08:56:14.000899Z",
     "shell.execute_reply.started": "2021-07-26T23:06:40.489736Z"
    },
    "id": "lXM7MlonVeRL",
    "outputId": "d29ccec0-522f-4e3c-e0b2-39b2e1eaef74",
    "papermill": {
     "duration": 0.34999,
     "end_time": "2021-07-27T08:56:14.001711",
     "exception": false,
     "start_time": "2021-07-27T08:56:13.651721",
     "status": "completed"
    },
    "tags": []
   },
   "outputs": [
    {
     "data": {
      "text/plain": [
       "20"
      ]
     },
     "execution_count": 8,
     "metadata": {},
     "output_type": "execute_result"
    }
   ],
   "source": [
    "dataframe = dataframe[FEATURES]\n",
    "gc.collect()"
   ]
  },
  {
   "cell_type": "code",
   "execution_count": 9,
   "metadata": {
    "execution": {
     "iopub.execute_input": "2021-07-27T08:56:14.077908Z",
     "iopub.status.busy": "2021-07-27T08:56:14.077127Z",
     "iopub.status.idle": "2021-07-27T08:56:15.823626Z",
     "shell.execute_reply": "2021-07-27T08:56:15.822994Z",
     "shell.execute_reply.started": "2021-07-26T23:06:40.81453Z"
    },
    "id": "qRKqF_0IXZgj",
    "papermill": {
     "duration": 1.79321,
     "end_time": "2021-07-27T08:56:15.823777",
     "exception": false,
     "start_time": "2021-07-27T08:56:14.030567",
     "status": "completed"
    },
    "tags": []
   },
   "outputs": [],
   "source": [
    "#label encode term, chapter_label, question_name, sub_chapter_label columns\n",
    "dataframe['term'] = dataframe['term'].astype('category')\n",
    "dataframe['user_id'] = dataframe['user_id'].astype(int)\n",
    "dataframe['user_id'] = dataframe['user_id'].astype(str)\n",
    "dataframe['user_id'] = dataframe['term'].str.cat(dataframe['user_id'], sep=':')\n",
    "dataframe['user_id'] = dataframe['user_id'].astype('category')\n",
    "dataframe['chapter_label'] = dataframe['chapter_label'].astype('category')\n",
    "dataframe['sub_chapter_label'] = dataframe['sub_chapter_label'].astype('category')\n",
    "dataframe['question_name'] = dataframe['question_name'].astype('category')\n"
   ]
  },
  {
   "cell_type": "code",
   "execution_count": 10,
   "metadata": {
    "execution": {
     "iopub.execute_input": "2021-07-27T08:56:15.887182Z",
     "iopub.status.busy": "2021-07-27T08:56:15.886546Z",
     "iopub.status.idle": "2021-07-27T08:56:16.563325Z",
     "shell.execute_reply": "2021-07-27T08:56:16.562692Z",
     "shell.execute_reply.started": "2021-07-26T23:06:42.493481Z"
    },
    "id": "eVl_067GWkDe",
    "papermill": {
     "duration": 0.711609,
     "end_time": "2021-07-27T08:56:16.563513",
     "exception": false,
     "start_time": "2021-07-27T08:56:15.851904",
     "status": "completed"
    },
    "tags": []
   },
   "outputs": [],
   "source": [
    "#calculate time_lag and prev_time_elapsed\n",
    "dataframe['prev_time_elapsed'] = None\n",
    "dataframe['time_lag'] = None\n",
    "dataframe['time_lag'] = dataframe['time_lag'].astype(np.float)\n",
    "dataframe['prev_time_elapsed'] = dataframe['prev_time_elapsed'].astype(np.float)\n",
    "dataframe.start_practice = pd.to_datetime(dataframe.start_practice, format='%Y-%m-%d %H:%M:%S')\n",
    "dataframe.end_practice = pd.to_datetime(dataframe.end_practice, format='%Y-%m-%d %H:%M:%S')"
   ]
  },
  {
   "cell_type": "code",
   "execution_count": 11,
   "metadata": {
    "execution": {
     "iopub.execute_input": "2021-07-27T08:56:16.629391Z",
     "iopub.status.busy": "2021-07-27T08:56:16.627761Z",
     "iopub.status.idle": "2021-07-27T08:56:16.677656Z",
     "shell.execute_reply": "2021-07-27T08:56:16.678190Z",
     "shell.execute_reply.started": "2021-07-26T23:06:43.16823Z"
    },
    "papermill": {
     "duration": 0.086105,
     "end_time": "2021-07-27T08:56:16.678413",
     "exception": false,
     "start_time": "2021-07-27T08:56:16.592308",
     "status": "completed"
    },
    "tags": []
   },
   "outputs": [],
   "source": [
    "dataframe['dif'] = dataframe.end_practice - dataframe.start_practice\n",
    "dataframe['dif'] = dataframe['dif'] /np.timedelta64(1, 's')\n",
    "dataframe['answer_correct'] = np.where((dataframe['q']==5) & (dataframe['dif'] <= 60), 1, 0)"
   ]
  },
  {
   "cell_type": "code",
   "execution_count": 13,
   "metadata": {
    "execution": {
     "iopub.execute_input": "2021-07-27T08:56:38.847096Z",
     "iopub.status.busy": "2021-07-27T08:56:38.846077Z",
     "iopub.status.idle": "2021-07-27T08:56:38.876530Z",
     "shell.execute_reply": "2021-07-27T08:56:38.875124Z",
     "shell.execute_reply.started": "2021-07-26T23:07:06.221637Z"
    },
    "id": "8t8yZ0XvWwzz",
    "papermill": {
     "duration": 0.213649,
     "end_time": "2021-07-27T08:56:38.876760",
     "exception": false,
     "start_time": "2021-07-27T08:56:38.663111",
     "status": "completed"
    },
    "tags": []
   },
   "outputs": [],
   "source": [
    "#drop column end_practice\n",
    "dataframe.drop(columns=['end_practice'], inplace=True)"
   ]
  },
  {
   "cell_type": "code",
   "execution_count": 14,
   "metadata": {
    "execution": {
     "iopub.execute_input": "2021-07-27T08:56:39.086131Z",
     "iopub.status.busy": "2021-07-27T08:56:39.085136Z",
     "iopub.status.idle": "2021-07-27T08:56:39.547470Z",
     "shell.execute_reply": "2021-07-27T08:56:39.546783Z",
     "shell.execute_reply.started": "2021-07-26T23:07:06.329904Z"
    },
    "id": "E42raRIrYYXz",
    "papermill": {
     "duration": 0.559368,
     "end_time": "2021-07-27T08:56:39.547694",
     "exception": false,
     "start_time": "2021-07-27T08:56:38.988326",
     "status": "completed"
    },
    "tags": []
   },
   "outputs": [],
   "source": [
    "# calculate the age feature\n",
    "dataframe['term_value'] = [int(ele[3:]) for ele in dataframe['term']]\n",
    "dataframe['age'] = dataframe['term_value'] - dataframe['birthYear']"
   ]
  },
  {
   "cell_type": "code",
   "execution_count": 15,
   "metadata": {
    "execution": {
     "iopub.execute_input": "2021-07-27T08:56:39.730069Z",
     "iopub.status.busy": "2021-07-27T08:56:39.729380Z",
     "iopub.status.idle": "2021-07-27T08:56:39.950626Z",
     "shell.execute_reply": "2021-07-27T08:56:39.949874Z",
     "shell.execute_reply.started": "2021-07-26T23:07:06.794685Z"
    },
    "id": "pcMVQXueYnMh",
    "papermill": {
     "duration": 0.314937,
     "end_time": "2021-07-27T08:56:39.950784",
     "exception": false,
     "start_time": "2021-07-27T08:56:39.635847",
     "status": "completed"
    },
    "tags": []
   },
   "outputs": [],
   "source": [
    "# drop term_value and birthYear column\n",
    "dataframe.drop(columns=['term_value', 'birthYear'], inplace=True)"
   ]
  },
  {
   "cell_type": "code",
   "execution_count": 16,
   "metadata": {
    "execution": {
     "iopub.execute_input": "2021-07-27T08:56:40.164462Z",
     "iopub.status.busy": "2021-07-27T08:56:40.159256Z",
     "iopub.status.idle": "2021-07-27T08:56:40.631377Z",
     "shell.execute_reply": "2021-07-27T08:56:40.630813Z",
     "shell.execute_reply.started": "2021-07-26T23:07:07.111205Z"
    },
    "id": "hjRF5szkcQE0",
    "papermill": {
     "duration": 0.589149,
     "end_time": "2021-07-27T08:56:40.631524",
     "exception": false,
     "start_time": "2021-07-27T08:56:40.042375",
     "status": "completed"
    },
    "tags": []
   },
   "outputs": [],
   "source": [
    "# convert minors_count to int value\n",
    "new_minors_count = []\n",
    "for i in dataframe['minorsCount']:\n",
    "  if i == 0 or i == '0':\n",
    "    new_minors_count.append(0)\n",
    "  elif i == '1 Minor':\n",
    "    new_minors_count.append(1)\n",
    "  else:\n",
    "    new_minors_count.append(2)\n",
    "\n",
    "dataframe['minorsCount'] = new_minors_count"
   ]
  },
  {
   "cell_type": "code",
   "execution_count": 17,
   "metadata": {
    "execution": {
     "iopub.execute_input": "2021-07-27T08:56:40.807475Z",
     "iopub.status.busy": "2021-07-27T08:56:40.806801Z",
     "iopub.status.idle": "2021-07-27T08:56:40.822657Z",
     "shell.execute_reply": "2021-07-27T08:56:40.821966Z",
     "shell.execute_reply.started": "2021-07-26T23:07:07.622689Z"
    },
    "id": "9VdzvJSw0KUU",
    "outputId": "6393784f-234e-4935-9cee-cbcf56b5630a",
    "papermill": {
     "duration": 0.105623,
     "end_time": "2021-07-27T08:56:40.822813",
     "exception": false,
     "start_time": "2021-07-27T08:56:40.717190",
     "status": "completed"
    },
    "tags": []
   },
   "outputs": [
    {
     "name": "stdout",
     "output_type": "stream",
     "text": [
      "we have  1110  users in total.\n"
     ]
    }
   ],
   "source": [
    "print(\"we have \", dataframe['user_id'].nunique(),\" users in total.\")"
   ]
  },
  {
   "cell_type": "code",
   "execution_count": 18,
   "metadata": {
    "execution": {
     "iopub.execute_input": "2021-07-27T08:56:41.000892Z",
     "iopub.status.busy": "2021-07-27T08:56:41.000150Z",
     "iopub.status.idle": "2021-07-27T08:56:41.008623Z",
     "shell.execute_reply": "2021-07-27T08:56:41.009097Z",
     "shell.execute_reply.started": "2021-07-26T23:07:07.644479Z"
    },
    "id": "hUaGk9L9g13t",
    "papermill": {
     "duration": 0.100651,
     "end_time": "2021-07-27T08:56:41.009329",
     "exception": false,
     "start_time": "2021-07-27T08:56:40.908678",
     "status": "completed"
    },
    "tags": []
   },
   "outputs": [],
   "source": [
    "for category in ['term','chapter_label', 'sub_chapter_label', 'question_name']:\n",
    "  dataframe[category] =  dataframe[category].cat.codes"
   ]
  },
  {
   "cell_type": "code",
   "execution_count": 19,
   "metadata": {
    "execution": {
     "iopub.execute_input": "2021-07-27T08:56:41.189257Z",
     "iopub.status.busy": "2021-07-27T08:56:41.188614Z",
     "iopub.status.idle": "2021-07-27T08:56:41.509857Z",
     "shell.execute_reply": "2021-07-27T08:56:41.510435Z",
     "shell.execute_reply.started": "2021-07-26T23:07:07.658737Z"
    },
    "id": "hkyvcYvlhliG",
    "papermill": {
     "duration": 0.413976,
     "end_time": "2021-07-27T08:56:41.510620",
     "exception": false,
     "start_time": "2021-07-27T08:56:41.096644",
     "status": "completed"
    },
    "tags": []
   },
   "outputs": [],
   "source": [
    "NUMERIC_FEATURE =  ['age',\n",
    "            'exclClassCumGPA',\n",
    "            'termCreditsGPA',\n",
    "            'termCreditsNoGPA',\n",
    "            'highSchoolGPA', \n",
    "            'majorsCount', 'minorsCount',\n",
    "            'PREV_TERM_CUM_GPA',\n",
    "            'available_flashcards', \n",
    "            'days_offset', \n",
    "            'prev_time_elapsed',\n",
    "             'time_lag']\n",
    "# z-score normalize the numerical features\n",
    "for f in NUMERIC_FEATURE:\n",
    "  m = dataframe[f].mean()\n",
    "  std = dataframe[f].std()\n",
    "  dataframe[f] = (dataframe[f] - m)/std"
   ]
  },
  {
   "cell_type": "code",
   "execution_count": 20,
   "metadata": {
    "execution": {
     "iopub.execute_input": "2021-07-27T08:56:41.698786Z",
     "iopub.status.busy": "2021-07-27T08:56:41.698067Z",
     "iopub.status.idle": "2021-07-27T08:56:45.785591Z",
     "shell.execute_reply": "2021-07-27T08:56:45.785003Z",
     "shell.execute_reply.started": "2021-07-26T23:07:08.022481Z"
    },
    "id": "wo2OH-d5kWp1",
    "papermill": {
     "duration": 4.189642,
     "end_time": "2021-07-27T08:56:45.785736",
     "exception": false,
     "start_time": "2021-07-27T08:56:41.596094",
     "status": "completed"
    },
    "tags": []
   },
   "outputs": [],
   "source": [
    "FEATURE_TRANS =  ['answer_correct', 'chapter_label', 'sub_chapter_label','question_name','user_id','term',\n",
    "                  'STDNT_SEX_CD', \n",
    "                    'White','Asian','NonWhiteOrAsian',\n",
    "            'STDNT_CTZN_STAT_CD', 'international', \n",
    "            'age',\n",
    "            'exclClassCumGPA',\n",
    "           'Freshman',\n",
    "            'Junior',\n",
    "            'Sophomore',\n",
    "            'Senior',\n",
    "            'termCreditsGPA',\n",
    "            'termCreditsNoGPA',\n",
    "            'athlete_1',\n",
    "            'honorsPro',\n",
    "            'LSA', 'programBusiness', 'programEngineering', \n",
    "            'programInformation', 'programOther',\n",
    "            'HSCalculusTaken', \n",
    "            'highSchoolGPA', \n",
    "            'majorsCount', 'minorsCount',\n",
    "            'PREV_TERM_CUM_GPA',\n",
    "            'classGraded', 'classHonors', \n",
    "            'Pass_Fail', \n",
    "            'parentsGraduateEdu',  'minorityGroup', \n",
    "            'available_flashcards', \n",
    "            'days_offset', 'prev_time_elapsed',\n",
    "             'time_lag']\n",
    "grouped_data = dataframe[FEATURE_TRANS].groupby(['user_id']).apply(lambda r: (\n",
    "                r['answer_correct'],\n",
    "                r['term'],\n",
    "                r['chapter_label'],\n",
    "                r['sub_chapter_label'],\n",
    "                r['question_name'],\n",
    "                np.array([r['STDNT_SEX_CD'],r['STDNT_CTZN_STAT_CD'], r['international'], \n",
    "                  r['White'],r['Asian'],r['NonWhiteOrAsian'],\n",
    "                 r['age'],r['exclClassCumGPA'],\n",
    "                r['Freshman'], r['Junior'], r['Sophomore'], r['Senior'],\n",
    "                r['termCreditsGPA'], r['termCreditsNoGPA'],\n",
    "                r['athlete_1'], r['honorsPro'],\n",
    "                r['LSA'], r['programBusiness'], r['programEngineering'], \n",
    "                r['programInformation'], r['programOther'],\n",
    "                r['HSCalculusTaken'],  r['highSchoolGPA'], \n",
    "                r['majorsCount'], r['minorsCount'],\n",
    "                r['PREV_TERM_CUM_GPA'], \n",
    "                r['parentsGraduateEdu'], r['minorityGroup'],\n",
    "                r['available_flashcards'],\n",
    "                r['days_offset'],\n",
    "                r['prev_time_elapsed'],\n",
    "                r['time_lag']\n",
    "              ]).transpose()\n",
    "                ))"
   ]
  },
  {
   "cell_type": "code",
   "execution_count": 21,
   "metadata": {
    "execution": {
     "iopub.execute_input": "2021-07-27T08:56:46.252965Z",
     "iopub.status.busy": "2021-07-27T08:56:46.251939Z",
     "iopub.status.idle": "2021-07-27T08:56:46.258032Z",
     "shell.execute_reply": "2021-07-27T08:56:46.257498Z",
     "shell.execute_reply.started": "2021-07-26T23:07:12.035805Z"
    },
    "id": "XXLqQnjrlp_4",
    "outputId": "c801da79-f0bf-4fe5-b19c-7c799fe01556",
    "papermill": {
     "duration": 0.382694,
     "end_time": "2021-07-27T08:56:46.258169",
     "exception": false,
     "start_time": "2021-07-27T08:56:45.875475",
     "status": "completed"
    },
    "tags": []
   },
   "outputs": [
    {
     "data": {
      "text/plain": [
       "20"
      ]
     },
     "execution_count": 21,
     "metadata": {},
     "output_type": "execute_result"
    }
   ],
   "source": [
    "gc.collect()"
   ]
  },
  {
   "cell_type": "code",
   "execution_count": 22,
   "metadata": {
    "execution": {
     "iopub.execute_input": "2021-07-27T08:56:46.454701Z",
     "iopub.status.busy": "2021-07-27T08:56:46.449150Z",
     "iopub.status.idle": "2021-07-27T08:56:46.481514Z",
     "shell.execute_reply": "2021-07-27T08:56:46.480661Z",
     "shell.execute_reply.started": "2021-07-26T23:07:12.246335Z"
    },
    "id": "QYGQasdTrmP0",
    "papermill": {
     "duration": 0.137687,
     "end_time": "2021-07-27T08:56:46.481792",
     "exception": false,
     "start_time": "2021-07-27T08:56:46.344105",
     "status": "completed"
    },
    "tags": []
   },
   "outputs": [],
   "source": [
    "# remove students who don't have make any interactions with the tool\n",
    "toRemove = []\n",
    "for index in grouped_data.index:\n",
    "  if len(grouped_data[index][0]) <= 10:\n",
    "    toRemove.append(index)\n",
    "grouped_data = grouped_data.drop(index=toRemove)"
   ]
  },
  {
   "cell_type": "code",
   "execution_count": 23,
   "metadata": {
    "execution": {
     "iopub.execute_input": "2021-07-27T08:56:46.660715Z",
     "iopub.status.busy": "2021-07-27T08:56:46.659992Z",
     "iopub.status.idle": "2021-07-27T08:56:46.663352Z",
     "shell.execute_reply": "2021-07-27T08:56:46.662674Z",
     "shell.execute_reply.started": "2021-07-26T23:07:12.292173Z"
    },
    "id": "9kZqV9siDyNb",
    "papermill": {
     "duration": 0.094736,
     "end_time": "2021-07-27T08:56:46.663502",
     "exception": false,
     "start_time": "2021-07-27T08:56:46.568766",
     "status": "completed"
    },
    "tags": []
   },
   "outputs": [],
   "source": [
    "#SETTINGS -> can be modified at any time\n",
    "MAXLENGTH = 10\n",
    "EMBEDDING_DIM = 128\n",
    "DENSE_NEURON = 16\n",
    "LSTM_NEURON = 32"
   ]
  },
  {
   "cell_type": "code",
   "execution_count": 24,
   "metadata": {
    "execution": {
     "iopub.execute_input": "2021-07-27T08:56:46.843977Z",
     "iopub.status.busy": "2021-07-27T08:56:46.843303Z",
     "iopub.status.idle": "2021-07-27T08:56:46.846835Z",
     "shell.execute_reply": "2021-07-27T08:56:46.846178Z",
     "shell.execute_reply.started": "2021-07-26T23:07:12.299475Z"
    },
    "id": "1MksD1JizpPn",
    "papermill": {
     "duration": 0.09504,
     "end_time": "2021-07-27T08:56:46.846972",
     "exception": false,
     "start_time": "2021-07-27T08:56:46.751932",
     "status": "completed"
    },
    "tags": []
   },
   "outputs": [],
   "source": [
    "#FEATURES_SIZE = 38\n",
    "CHAPTER_SIZE = 38\n",
    "SUB_CHAPTER_SIZE = 223\n",
    "QUESTION_SIZE = 1069"
   ]
  },
  {
   "cell_type": "code",
   "execution_count": 25,
   "metadata": {
    "execution": {
     "iopub.execute_input": "2021-07-27T08:56:47.023247Z",
     "iopub.status.busy": "2021-07-27T08:56:47.022609Z",
     "iopub.status.idle": "2021-07-27T08:56:47.034495Z",
     "shell.execute_reply": "2021-07-27T08:56:47.033820Z",
     "shell.execute_reply.started": "2021-07-26T23:07:12.312079Z"
    },
    "papermill": {
     "duration": 0.102265,
     "end_time": "2021-07-27T08:56:47.034639",
     "exception": false,
     "start_time": "2021-07-27T08:56:46.932374",
     "status": "completed"
    },
    "tags": []
   },
   "outputs": [
    {
     "data": {
      "text/plain": [
       "array([ 96,  88,  86,  28,  12,  82, 125,  32,  69,  33,  21, 115, 120,\n",
       "       119,  91,  73,  57,  77, 117,  40,  74,  41,  68,  92,  39,  47,\n",
       "       104,  53,  95,  49,  16,  50,  52,  55,   7,  15,  51, 103, 102,\n",
       "       100,  94, 108,  11,   6, 118,  18, 215,  46, 216, 141,  27,  90,\n",
       "       217, 105,  54, 218, 123,  17,  67,  63,  13, 101, 124, 219,  20,\n",
       "       122,  58,   3,  59,  64, 106,  93,  65,  66,   9,  44,  30, 139,\n",
       "        26,  25,   8, 138,   1,  14,   5,  85,  35,  34,  79, 220, 121,\n",
       "        36,  31,  24, 112, 109, 110,  70,  45,  10,  56,  60, 145,  61,\n",
       "       129, 144,  72,  71,  89,  87,  97,  62,   4,  38,  19, 150, 131,\n",
       "       130, 132, 149, 128, 137,  75,  99, 143, 107, 147, 151, 152, 153,\n",
       "       159, 157, 158, 156, 160, 161, 163, 164, 165, 166, 167, 168, 170,\n",
       "       171, 169, 172, 174, 173, 175, 177, 176, 180, 178, 181, 182, 187,\n",
       "       189, 190, 191, 195, 193, 192, 197, 198, 199, 202, 201, 200, 204,\n",
       "       203, 205, 207, 206, 208, 209, 210, 162, 183, 185, 184, 186, 194,\n",
       "       188, 211, 212, 213, 146, 179, 154, 155, 196,   2,  48,   0,  37,\n",
       "        78, 142, 111, 116,  76, 148, 134, 221,  23, 140,  42,  22,  83,\n",
       "       136,  43,  98, 113,  84, 127, 135, 214,  80, 133, 126,  81, 114,\n",
       "        29], dtype=int16)"
      ]
     },
     "execution_count": 25,
     "metadata": {},
     "output_type": "execute_result"
    }
   ],
   "source": [
    "dataframe['sub_chapter_label'].unique()"
   ]
  },
  {
   "cell_type": "code",
   "execution_count": 28,
   "metadata": {
    "execution": {
     "iopub.execute_input": "2021-07-27T08:56:47.227417Z",
     "iopub.status.busy": "2021-07-27T08:56:47.226663Z",
     "iopub.status.idle": "2021-07-27T08:56:48.269637Z",
     "shell.execute_reply": "2021-07-27T08:56:48.269074Z",
     "shell.execute_reply.started": "2021-07-26T23:07:12.335887Z"
    },
    "id": "mY3Thp6d0NaT",
    "papermill": {
     "duration": 1.145759,
     "end_time": "2021-07-27T08:56:48.269794",
     "exception": false,
     "start_time": "2021-07-27T08:56:47.124035",
     "status": "completed"
    },
    "tags": []
   },
   "outputs": [],
   "source": [
    "#create dataset class\n",
    "#to prepare it for train, valid, and test sets\n",
    "from torch.utils.data import Dataset, DataLoader\n",
    "class SPACE_DATASET(Dataset):\n",
    "    def __init__(self, data, maxlength = 10):\n",
    "        super(SPACE_DATASET, self).__init__()\n",
    "        self.maxlength = maxlength\n",
    "        self.data = data\n",
    "        self.users = list()\n",
    "        for user in data.index:\n",
    "            self.users.append(user)\n",
    "\n",
    "    def __len__(self):\n",
    "        return len(self.users)\n",
    "    \n",
    "    def __getitem__(self, ix):\n",
    "        user = self.users[ix]\n",
    "        user = user\n",
    "        target, term, ch_label, sub_ch_label, ques_name, features = self.data[user]\n",
    "        \n",
    "        #0s should be used as padding values\n",
    "        ori_target = target.values \n",
    "        term = term.values\n",
    "        ch_label = ch_label.values + 1\n",
    "        sub_ch_label = sub_ch_label.values +1\n",
    "        ques_name = ques_name.values + 1\n",
    "        \n",
    "        n = len(ch_label)\n",
    "\n",
    "        # one hot for term\n",
    "        term_encode = [0]*7\n",
    "        term_encode[term[0]] = 1\n",
    "        shifted_target= []\n",
    "\n",
    "        \n",
    "        # get  user interaction informations in the previous MAXLEN interactions\n",
    "        if n > self.maxlength:\n",
    "          ch_label = ch_label[-self.maxlength:]\n",
    "          sub_ch_label = sub_ch_label[-self.maxlength:]\n",
    "          ques_name = ques_name[-self.maxlength:]\n",
    "          features = features[-self.maxlength:]\n",
    "          target = ori_target[-self.maxlength:]\n",
    "          shifted_target = ori_target[ (-self.maxlength - 1) :-1]\n",
    "        else:\n",
    "          ch_label = [0]*(self.maxlength - n)+list(ch_label[:])\n",
    "          sub_ch_label = [0]*(self.maxlength - n)+list(sub_ch_label[:])\n",
    "          ques_name = [0]*(self.maxlength - n)+list(ques_name[:])\n",
    "          features = [[0]*len(features[0])]*(self.maxlength  - n)+list(features[:])\n",
    "          target = [-1]*(self.maxlength - n) + list(ori_target[:])\n",
    "          shifted_target = [-1]*(self.maxlength + 1 - n) + list(ori_target[:-1])\n",
    "\n",
    "        new_features = []\n",
    "        count = 0\n",
    "        for f in features:\n",
    "          temp = list(f)\n",
    "          temp.extend(term_encode)\n",
    "          # temp.append(shifted_target[count]) #uncomment this line for include previous response feature\n",
    "          new_features.append(temp)\n",
    "          count += 1\n",
    "        features = new_features\n",
    "        return ch_label,sub_ch_label,ques_name,target"
   ]
  },
  {
   "cell_type": "code",
   "execution_count": 29,
   "metadata": {
    "execution": {
     "iopub.execute_input": "2021-07-27T08:56:48.458787Z",
     "iopub.status.busy": "2021-07-27T08:56:48.457658Z",
     "iopub.status.idle": "2021-07-27T08:56:48.462854Z",
     "shell.execute_reply": "2021-07-27T08:56:48.463691Z",
     "shell.execute_reply.started": "2021-07-26T23:07:12.709123Z"
    },
    "papermill": {
     "duration": 0.109055,
     "end_time": "2021-07-27T08:56:48.463941",
     "exception": false,
     "start_time": "2021-07-27T08:56:48.354886",
     "status": "completed"
    },
    "tags": []
   },
   "outputs": [
    {
     "data": {
      "text/plain": [
       "223"
      ]
     },
     "execution_count": 29,
     "metadata": {},
     "output_type": "execute_result"
    }
   ],
   "source": [
    "SUB_CHAPTER_SIZE"
   ]
  },
  {
   "cell_type": "code",
   "execution_count": 30,
   "metadata": {
    "execution": {
     "iopub.execute_input": "2021-07-27T08:56:48.861918Z",
     "iopub.status.busy": "2021-07-27T08:56:48.854860Z",
     "iopub.status.idle": "2021-07-27T09:29:45.724721Z",
     "shell.execute_reply": "2021-07-27T09:29:45.724043Z",
     "shell.execute_reply.started": "2021-07-26T23:07:12.71878Z"
    },
    "id": "gzJrljnjzypP",
    "outputId": "87abe488-b493-4f8f-9d71-45cb1d2ddf51",
    "papermill": {
     "duration": 1976.982115,
     "end_time": "2021-07-27T09:29:45.724873",
     "exception": false,
     "start_time": "2021-07-27T08:56:48.742758",
     "status": "completed"
    },
    "tags": []
   },
   "outputs": [
    {
     "name": "stdout",
     "output_type": "stream",
     "text": [
      "Epoch 1/100\n",
      "14/14 [==============================] - 8s 190ms/step - loss: 0.6517 - masked_acc: 0.5429 - masked_auc: 0.5382 - val_loss: 0.5790 - val_masked_acc: 0.6538 - val_masked_auc: 0.6244\n",
      "Epoch 2/100\n",
      "14/14 [==============================] - 0s 13ms/step - loss: 0.5529 - masked_acc: 0.6653 - masked_auc: 0.6539 - val_loss: 0.5790 - val_masked_acc: 0.6863 - val_masked_auc: 0.6974\n",
      "Epoch 3/100\n",
      "14/14 [==============================] - 0s 11ms/step - loss: 0.4888 - masked_acc: 0.6944 - masked_auc: 0.7133 - val_loss: 0.5890 - val_masked_acc: 0.7076 - val_masked_auc: 0.7387\n",
      "Epoch 4/100\n",
      "14/14 [==============================] - 0s 11ms/step - loss: 0.4520 - masked_acc: 0.7133 - masked_auc: 0.7490 - val_loss: 0.5967 - val_masked_acc: 0.7212 - val_masked_auc: 0.7642\n",
      "Epoch 5/100\n",
      "14/14 [==============================] - 0s 11ms/step - loss: 0.4288 - masked_acc: 0.7260 - masked_auc: 0.7717 - val_loss: 0.6435 - val_masked_acc: 0.7331 - val_masked_auc: 0.7829\n",
      "Epoch 6/100\n",
      "14/14 [==============================] - 0s 12ms/step - loss: 0.4191 - masked_acc: 0.7361 - masked_auc: 0.7878 - val_loss: 0.6779 - val_masked_acc: 0.7410 - val_masked_auc: 0.7961\n",
      "Epoch 7/100\n",
      "14/14 [==============================] - 0s 12ms/step - loss: 0.3873 - masked_acc: 0.7434 - masked_auc: 0.8004 - val_loss: 0.7975 - val_masked_acc: 0.7480 - val_masked_auc: 0.8077\n",
      "Epoch 8/100\n",
      "14/14 [==============================] - 0s 12ms/step - loss: 0.3632 - masked_acc: 0.7507 - masked_auc: 0.8116 - val_loss: 0.8495 - val_masked_acc: 0.7551 - val_masked_auc: 0.8179\n",
      "Epoch 9/100\n",
      "14/14 [==============================] - 0s 11ms/step - loss: 0.3408 - masked_acc: 0.7574 - masked_auc: 0.8213 - val_loss: 0.9448 - val_masked_acc: 0.7612 - val_masked_auc: 0.8270\n",
      "Epoch 10/100\n",
      "14/14 [==============================] - 0s 12ms/step - loss: 0.3218 - masked_acc: 0.7634 - masked_auc: 0.8301 - val_loss: 1.0446 - val_masked_acc: 0.7670 - val_masked_auc: 0.8351\n",
      "Epoch 11/100\n",
      "14/14 [==============================] - 0s 12ms/step - loss: 0.2997 - masked_acc: 0.7693 - masked_auc: 0.8380 - val_loss: 1.0064 - val_masked_acc: 0.7725 - val_masked_auc: 0.8427\n",
      "Epoch 12/100\n",
      "14/14 [==============================] - 0s 11ms/step - loss: 0.2954 - masked_acc: 0.7745 - masked_auc: 0.8451 - val_loss: 1.1705 - val_masked_acc: 0.7780 - val_masked_auc: 0.8493\n",
      "28/28 [==============================] - ETA: 0s - loss: 0.2356 - masked_acc: 0.7805 - masked_auc: 0.852 - 0s 3ms/step - loss: 0.2602 - masked_acc: 0.7816 - masked_auc: 0.8539\n",
      "4/4 [==============================] - 0s 3ms/step - loss: 0.9625 - masked_acc: 0.7839 - masked_auc: 0.8568\n",
      "Test:  [0.9625383019447327, 0.7839359641075134, 0.856822669506073]\n",
      "Epoch 1/100\n",
      "14/14 [==============================] - 7s 148ms/step - loss: 0.6407 - masked_acc: 0.6374 - masked_auc: 0.5415 - val_loss: 0.6024 - val_masked_acc: 0.6619 - val_masked_auc: 0.6303\n",
      "Epoch 2/100\n",
      "14/14 [==============================] - 0s 13ms/step - loss: 0.5474 - masked_acc: 0.6718 - masked_auc: 0.6651 - val_loss: 0.6155 - val_masked_acc: 0.6915 - val_masked_auc: 0.7066\n",
      "Epoch 3/100\n",
      "14/14 [==============================] - 0s 13ms/step - loss: 0.4735 - masked_acc: 0.6997 - masked_auc: 0.7222 - val_loss: 0.6476 - val_masked_acc: 0.7112 - val_masked_auc: 0.7431\n",
      "Epoch 4/100\n",
      "14/14 [==============================] - 0s 12ms/step - loss: 0.4545 - masked_acc: 0.7168 - masked_auc: 0.7522 - val_loss: 0.6511 - val_masked_acc: 0.7265 - val_masked_auc: 0.7681\n",
      "Epoch 5/100\n",
      "14/14 [==============================] - 0s 11ms/step - loss: 0.4198 - masked_acc: 0.7309 - masked_auc: 0.7751 - val_loss: 0.7005 - val_masked_acc: 0.7372 - val_masked_auc: 0.7856\n",
      "Epoch 6/100\n",
      "14/14 [==============================] - 0s 11ms/step - loss: 0.4076 - masked_acc: 0.7403 - masked_auc: 0.7908 - val_loss: 0.7147 - val_masked_acc: 0.7454 - val_masked_auc: 0.7987\n",
      "Epoch 7/100\n",
      "14/14 [==============================] - 0s 11ms/step - loss: 0.3874 - masked_acc: 0.7480 - masked_auc: 0.8029 - val_loss: 0.7858 - val_masked_acc: 0.7525 - val_masked_auc: 0.8095\n",
      "Epoch 8/100\n",
      "14/14 [==============================] - 0s 11ms/step - loss: 0.3674 - masked_acc: 0.7553 - masked_auc: 0.8133 - val_loss: 0.8301 - val_masked_acc: 0.7594 - val_masked_auc: 0.8190\n",
      "Epoch 9/100\n",
      "14/14 [==============================] - 0s 11ms/step - loss: 0.3390 - masked_acc: 0.7620 - masked_auc: 0.8226 - val_loss: 0.9979 - val_masked_acc: 0.7653 - val_masked_auc: 0.8274\n",
      "Epoch 10/100\n",
      "14/14 [==============================] - 0s 11ms/step - loss: 0.3229 - masked_acc: 0.7674 - masked_auc: 0.8303 - val_loss: 1.0832 - val_masked_acc: 0.7709 - val_masked_auc: 0.8347\n",
      "Epoch 11/100\n",
      "14/14 [==============================] - 0s 11ms/step - loss: 0.2995 - masked_acc: 0.7729 - masked_auc: 0.8375 - val_loss: 1.1117 - val_masked_acc: 0.7758 - val_masked_auc: 0.8416\n",
      "28/28 [==============================] - 0s 3ms/step - loss: 0.2752 - masked_acc: 0.7796 - masked_auc: 0.8467\n",
      "4/4 [==============================] - 0s 3ms/step - loss: 1.1544 - masked_acc: 0.7818 - masked_auc: 0.8495\n",
      "Test:  [1.1544073820114136, 0.7817968726158142, 0.8495197892189026]\n",
      "Epoch 1/100\n",
      "14/14 [==============================] - 8s 151ms/step - loss: 0.6547 - masked_acc: 0.5300 - masked_auc: 0.5282 - val_loss: 0.5929 - val_masked_acc: 0.6409 - val_masked_auc: 0.5985\n",
      "Epoch 2/100\n",
      "14/14 [==============================] - 0s 16ms/step - loss: 0.5731 - masked_acc: 0.6445 - masked_auc: 0.6313 - val_loss: 0.5882 - val_masked_acc: 0.6698 - val_masked_auc: 0.6809\n",
      "Epoch 3/100\n",
      "14/14 [==============================] - 0s 14ms/step - loss: 0.5057 - masked_acc: 0.6786 - masked_auc: 0.6977 - val_loss: 0.5954 - val_masked_acc: 0.6937 - val_masked_auc: 0.7233\n",
      "Epoch 4/100\n",
      "14/14 [==============================] - 0s 12ms/step - loss: 0.4604 - masked_acc: 0.7001 - masked_auc: 0.7347 - val_loss: 0.6046 - val_masked_acc: 0.7105 - val_masked_auc: 0.7517\n",
      "Epoch 5/100\n",
      "14/14 [==============================] - 0s 14ms/step - loss: 0.4397 - masked_acc: 0.7154 - masked_auc: 0.7596 - val_loss: 0.6194 - val_masked_acc: 0.7229 - val_masked_auc: 0.7713\n",
      "Epoch 6/100\n",
      "14/14 [==============================] - 0s 14ms/step - loss: 0.4217 - masked_acc: 0.7266 - masked_auc: 0.7770 - val_loss: 0.6705 - val_masked_acc: 0.7323 - val_masked_auc: 0.7861\n",
      "Epoch 7/100\n",
      "14/14 [==============================] - 0s 13ms/step - loss: 0.3992 - masked_acc: 0.7354 - masked_auc: 0.7907 - val_loss: 0.7453 - val_masked_acc: 0.7403 - val_masked_auc: 0.7979\n",
      "Epoch 8/100\n",
      "14/14 [==============================] - 0s 13ms/step - loss: 0.3840 - masked_acc: 0.7427 - masked_auc: 0.8018 - val_loss: 0.7745 - val_masked_acc: 0.7478 - val_masked_auc: 0.8087\n",
      "Epoch 9/100\n",
      "14/14 [==============================] - 0s 12ms/step - loss: 0.3625 - masked_acc: 0.7500 - masked_auc: 0.8122 - val_loss: 0.8696 - val_masked_acc: 0.7541 - val_masked_auc: 0.8180\n",
      "Epoch 10/100\n",
      "14/14 [==============================] - 0s 14ms/step - loss: 0.3289 - masked_acc: 0.7566 - masked_auc: 0.8214 - val_loss: 0.9143 - val_masked_acc: 0.7603 - val_masked_auc: 0.8263\n",
      "Epoch 11/100\n",
      "14/14 [==============================] - 0s 14ms/step - loss: 0.3259 - masked_acc: 0.7624 - masked_auc: 0.8293 - val_loss: 1.0993 - val_masked_acc: 0.7666 - val_masked_auc: 0.8343\n",
      "Epoch 12/100\n",
      "14/14 [==============================] - 0s 15ms/step - loss: 0.2942 - masked_acc: 0.7686 - masked_auc: 0.8371 - val_loss: 1.2476 - val_masked_acc: 0.7724 - val_masked_auc: 0.8418\n",
      "28/28 [==============================] - 0s 3ms/step - loss: 0.2511 - masked_acc: 0.7765 - masked_auc: 0.8471\n",
      "4/4 [==============================] - 0s 3ms/step - loss: 1.0299 - masked_acc: 0.7792 - masked_auc: 0.8504\n",
      "Test:  [1.0298548936843872, 0.7791527509689331, 0.8503538966178894]\n",
      "Epoch 1/100\n",
      "14/14 [==============================] - 7s 125ms/step - loss: 0.6605 - masked_acc: 0.5662 - masked_auc: 0.5159 - val_loss: 0.6527 - val_masked_acc: 0.6382 - val_masked_auc: 0.5808\n",
      "Epoch 2/100\n",
      "14/14 [==============================] - 0s 14ms/step - loss: 0.5536 - masked_acc: 0.6468 - masked_auc: 0.6225 - val_loss: 0.6525 - val_masked_acc: 0.6578 - val_masked_auc: 0.6670\n",
      "Epoch 3/100\n",
      "14/14 [==============================] - 0s 14ms/step - loss: 0.5146 - masked_acc: 0.6665 - masked_auc: 0.6837 - val_loss: 0.6422 - val_masked_acc: 0.6790 - val_masked_auc: 0.7102\n"
     ]
    },
    {
     "name": "stdout",
     "output_type": "stream",
     "text": [
      "Epoch 4/100\n",
      "14/14 [==============================] - 0s 13ms/step - loss: 0.4768 - masked_acc: 0.6854 - masked_auc: 0.7214 - val_loss: 0.6467 - val_masked_acc: 0.6949 - val_masked_auc: 0.7383\n",
      "Epoch 5/100\n",
      "14/14 [==============================] - 0s 13ms/step - loss: 0.4587 - masked_acc: 0.6997 - masked_auc: 0.7461 - val_loss: 0.6933 - val_masked_acc: 0.7080 - val_masked_auc: 0.7584\n",
      "Epoch 6/100\n",
      "14/14 [==============================] - 0s 12ms/step - loss: 0.4249 - masked_acc: 0.7122 - masked_auc: 0.7649 - val_loss: 0.6656 - val_masked_acc: 0.7186 - val_masked_auc: 0.7745\n",
      "Epoch 7/100\n",
      "14/14 [==============================] - 0s 12ms/step - loss: 0.4307 - masked_acc: 0.7214 - masked_auc: 0.7792 - val_loss: 0.7930 - val_masked_acc: 0.7265 - val_masked_auc: 0.7860\n",
      "Epoch 8/100\n",
      "14/14 [==============================] - 0s 12ms/step - loss: 0.3993 - masked_acc: 0.7294 - masked_auc: 0.7900 - val_loss: 0.8469 - val_masked_acc: 0.7341 - val_masked_auc: 0.7964\n",
      "Epoch 9/100\n",
      "14/14 [==============================] - 0s 12ms/step - loss: 0.3859 - masked_acc: 0.7365 - masked_auc: 0.7998 - val_loss: 1.0873 - val_masked_acc: 0.7409 - val_masked_auc: 0.8054\n",
      "Epoch 10/100\n",
      "14/14 [==============================] - 0s 12ms/step - loss: 0.3482 - masked_acc: 0.7435 - masked_auc: 0.8088 - val_loss: 1.0282 - val_masked_acc: 0.7472 - val_masked_auc: 0.8138\n",
      "Epoch 11/100\n",
      "14/14 [==============================] - 0s 13ms/step - loss: 0.3395 - masked_acc: 0.7496 - masked_auc: 0.8169 - val_loss: 1.2071 - val_masked_acc: 0.7533 - val_masked_auc: 0.8216\n",
      "Epoch 12/100\n",
      "14/14 [==============================] - 0s 13ms/step - loss: 0.3116 - masked_acc: 0.7556 - masked_auc: 0.8246 - val_loss: 1.2718 - val_masked_acc: 0.7591 - val_masked_auc: 0.8290\n",
      "Epoch 13/100\n",
      "14/14 [==============================] - 0s 12ms/step - loss: 0.2910 - masked_acc: 0.7613 - masked_auc: 0.8319 - val_loss: 1.3703 - val_masked_acc: 0.7647 - val_masked_auc: 0.8362\n",
      "28/28 [==============================] - 0s 4ms/step - loss: 0.2656 - masked_acc: 0.7685 - masked_auc: 0.8410\n",
      "4/4 [==============================] - 0s 4ms/step - loss: 1.0484 - masked_acc: 0.7714 - masked_auc: 0.8445\n",
      "Test:  [1.0484238862991333, 0.7714387774467468, 0.8444572687149048]\n",
      "Epoch 1/100\n",
      "14/14 [==============================] - 7s 124ms/step - loss: 0.6508 - masked_acc: 0.5497 - masked_auc: 0.5196 - val_loss: 0.6028 - val_masked_acc: 0.6520 - val_masked_auc: 0.6217\n",
      "Epoch 2/100\n",
      "14/14 [==============================] - 0s 18ms/step - loss: 0.5358 - masked_acc: 0.6672 - masked_auc: 0.6611 - val_loss: 0.5831 - val_masked_acc: 0.6860 - val_masked_auc: 0.7021\n",
      "Epoch 3/100\n",
      "14/14 [==============================] - 0s 17ms/step - loss: 0.4985 - masked_acc: 0.6933 - masked_auc: 0.7160 - val_loss: 0.6102 - val_masked_acc: 0.7042 - val_masked_auc: 0.7368\n",
      "Epoch 4/100\n",
      "14/14 [==============================] - 0s 17ms/step - loss: 0.4800 - masked_acc: 0.7084 - masked_auc: 0.7453 - val_loss: 0.6383 - val_masked_acc: 0.7184 - val_masked_auc: 0.7601\n",
      "Epoch 5/100\n",
      "14/14 [==============================] - 0s 16ms/step - loss: 0.4307 - masked_acc: 0.7224 - masked_auc: 0.7671 - val_loss: 0.6582 - val_masked_acc: 0.7285 - val_masked_auc: 0.7776\n",
      "Epoch 6/100\n",
      "14/14 [==============================] - 0s 14ms/step - loss: 0.4232 - masked_acc: 0.7319 - masked_auc: 0.7832 - val_loss: 0.7010 - val_masked_acc: 0.7373 - val_masked_auc: 0.7915\n",
      "Epoch 7/100\n",
      "14/14 [==============================] - 0s 17ms/step - loss: 0.3958 - masked_acc: 0.7403 - masked_auc: 0.7963 - val_loss: 0.7344 - val_masked_acc: 0.7449 - val_masked_auc: 0.8031\n",
      "Epoch 8/100\n",
      "14/14 [==============================] - 0s 15ms/step - loss: 0.3845 - masked_acc: 0.7475 - masked_auc: 0.8066 - val_loss: 0.8302 - val_masked_acc: 0.7515 - val_masked_auc: 0.8123\n",
      "Epoch 9/100\n",
      "14/14 [==============================] - 0s 16ms/step - loss: 0.3573 - masked_acc: 0.7537 - masked_auc: 0.8157 - val_loss: 0.8946 - val_masked_acc: 0.7577 - val_masked_auc: 0.8211\n",
      "Epoch 10/100\n",
      "14/14 [==============================] - 0s 15ms/step - loss: 0.3383 - masked_acc: 0.7596 - masked_auc: 0.8242 - val_loss: 1.0854 - val_masked_acc: 0.7634 - val_masked_auc: 0.8290\n",
      "Epoch 11/100\n",
      "14/14 [==============================] - 1s 48ms/step - loss: 0.3037 - masked_acc: 0.7656 - masked_auc: 0.8322 - val_loss: 1.0219 - val_masked_acc: 0.7685 - val_masked_auc: 0.8362\n",
      "Epoch 12/100\n",
      "14/14 [==============================] - 0s 18ms/step - loss: 0.2902 - masked_acc: 0.7705 - masked_auc: 0.8389 - val_loss: 1.1875 - val_masked_acc: 0.7740 - val_masked_auc: 0.8434\n",
      "28/28 [==============================] - 0s 4ms/step - loss: 0.2700 - masked_acc: 0.7777 - masked_auc: 0.8481\n",
      "4/4 [==============================] - 0s 4ms/step - loss: 1.0326 - masked_acc: 0.7798 - masked_auc: 0.8510\n",
      "Test:  [1.0326261520385742, 0.7797974944114685, 0.8510031700134277]\n"
     ]
    }
   ],
   "source": [
    "# 5 fold cross validation\n",
    "#HERE WE ONLY USE\n",
    "#CHAPTER, SUB_CHAPTER\n",
    "#QUESTION\n",
    "X = np.array(grouped_data.keys())\n",
    "kfold = KFold(n_splits=5, shuffle=True)\n",
    "train_losses = list()\n",
    "train_aucs = list()\n",
    "val_losses = list()\n",
    "val_aucs = list()\n",
    "train_eval = list()\n",
    "test_eval = list()\n",
    "for train, test in kfold.split(X):\n",
    "    users_train, users_test =  X[train], X[test]\n",
    "    n = len(users_test)//2\n",
    "    users_test, users_val = users_test[:n], users_test[n: ]\n",
    "    train_data_space = SPACE_DATASET(grouped_data[users_train], MAXLENGTH)\n",
    "    val_data_space = SPACE_DATASET(grouped_data[users_val], MAXLENGTH)\n",
    "    test_data_space = SPACE_DATASET(grouped_data[users_test], MAXLENGTH)\n",
    "    #construct training input\n",
    "    train_chapter=[]\n",
    "    train_sub_chapter=[]\n",
    "    train_question = []\n",
    "    train_features=[]\n",
    "    train_labels=[]\n",
    "    for i in range(len(users_train)):\n",
    "        user = train_data_space.__getitem__(i)\n",
    "        train_chapter.append(user[0])\n",
    "        train_sub_chapter.append(user[1]) \n",
    "        train_question.append(user[2])\n",
    "        #train_features.append(user[3])\n",
    "        train_labels.append(user[3])\n",
    "    train_chapter = np.array(train_chapter)\n",
    "    train_sub_chapter = np.array(train_sub_chapter)\n",
    "    train_question = np.array(train_question)\n",
    "    #train_features = np.array(train_features)\n",
    "    train_labels= np.array(train_labels)[..., np.newaxis]\n",
    "\n",
    "    #construct validation input\n",
    "    val_chapter=[]\n",
    "    val_sub_chapter=[]\n",
    "    val_question = []\n",
    "    #val_features=[]\n",
    "    val_labels=[]\n",
    "    for i in range(len(users_val)):\n",
    "        user = val_data_space.__getitem__(i)\n",
    "        val_chapter.append(user[0])\n",
    "        val_sub_chapter.append(user[1]) \n",
    "        val_question.append(user[2])\n",
    "        #val_features.append(user[3])\n",
    "        val_labels.append(user[3])\n",
    "    val_chapter = np.array(val_chapter)\n",
    "    val_sub_chapter = np.array(val_sub_chapter)\n",
    "    #val_features = np.array(val_features)\n",
    "    val_question = np.array(val_question)\n",
    "    val_labels= np.array(val_labels)[..., np.newaxis]\n",
    "\n",
    "    # construct test input\n",
    "    test_chapter=[]\n",
    "    test_sub_chapter=[]\n",
    "    #test_features=[]\n",
    "    test_question=[]\n",
    "    test_labels=[]\n",
    "    for i in range(len(users_test)):\n",
    "        user = test_data_space.__getitem__(i)\n",
    "        test_chapter.append(user[0])\n",
    "        test_sub_chapter.append(user[1]) \n",
    "        test_question.append(user[2])\n",
    "        #test_features.append(user[3])\n",
    "        test_labels.append(user[3])\n",
    "    test_chapter = np.array(test_chapter)\n",
    "    test_sub_chapter = np.array(test_sub_chapter)\n",
    "    #test_features = np.array(test_features)\n",
    "    test_question = np.array(test_question)\n",
    "    test_labels= np.array(test_labels)[..., np.newaxis]\n",
    "\n",
    "    # define loss function and evaluation metrics\n",
    "    bce = tf.keras.losses.BinaryCrossentropy(from_logits=True)\n",
    "    acc = tf.keras.metrics.Accuracy()\n",
    "    auc = tf.keras.metrics.AUC()\n",
    "\n",
    "    def masked_bce(y_true, y_pred):\n",
    "      flat_pred = y_pred\n",
    "      flat_ground_truth = y_true\n",
    "      label_mask = tf.math.not_equal(flat_ground_truth, -1)\n",
    "      return bce(flat_ground_truth, flat_pred, sample_weight=label_mask)\n",
    "\n",
    "    def masked_acc(y_true, y_pred):\n",
    "      flat_pred = y_pred\n",
    "      flat_ground_truth = y_true\n",
    "      flat_pred = (flat_pred >= 0.5)\n",
    "      label_mask = tf.math.not_equal(flat_ground_truth, -1)\n",
    "      return acc(flat_ground_truth, flat_pred, sample_weight=label_mask)\n",
    "\n",
    "    def masked_auc(y_true, y_pred):\n",
    "      flat_pred = y_pred\n",
    "      flat_ground_truth = y_true\n",
    "      label_mask = tf.math.not_equal(flat_ground_truth, -1)\n",
    "      return auc(flat_ground_truth, flat_pred, sample_weight=label_mask)\n",
    "\n",
    "    # input layer\n",
    "    input_chap = tf.keras.Input(shape=(MAXLENGTH))\n",
    "    input_sub_chap = tf.keras.Input(shape=(MAXLENGTH))\n",
    "    input_ques =  tf.keras.Input(shape=(MAXLENGTH))\n",
    "    #input_features = tf.keras.Input(shape=(MAXLENGTH, FEATURES_SIZE))\n",
    "\n",
    "    # embedding layer for categorical features\n",
    "    embedding_chap = Embedding(input_dim = CHAPTER_SIZE, output_dim = EMBEDDING_DIM)(input_chap)\n",
    "    embedding_sub_chap = Embedding(input_dim = SUB_CHAPTER_SIZE, output_dim = EMBEDDING_DIM)(input_sub_chap) \n",
    "    embedding_ques = Embedding(input_dim = QUESTION_SIZE, output_dim = EMBEDDING_DIM)(input_ques)       \n",
    "\n",
    "    # dense layer for numeric features\n",
    "    #dense_features = Dense(EMBEDDING_DIM,input_shape = (None, MAXLENGTH))(input_features)\n",
    "\n",
    "    # definr lstm layers\n",
    "    lstm_chap = LSTM(LSTM_NEURON, input_shape = (None, EMBEDDING_DIM),return_sequences = True)(embedding_chap)\n",
    "    lstm_sub_chap = LSTM(LSTM_NEURON, input_shape = (None, EMBEDDING_DIM),return_sequences = True)(embedding_sub_chap)\n",
    "    lstm_ques = LSTM(LSTM_NEURON, input_shape = (None, EMBEDDING_DIM),return_sequences = True)(embedding_ques)\n",
    "    #lstm_features = LSTM(LSTM_NEURON, input_shape = (None, EMBEDDING_DIM),return_sequences = True)(dense_features)\n",
    "\n",
    "    lstm_output = tf.concat([lstm_chap, lstm_sub_chap, lstm_ques], axis = 2)\n",
    "\n",
    "    dense1 = Dense(256, input_shape = (None, 3*EMBEDDING_DIM), activation='relu')(lstm_output)\n",
    "    dropout1 = Dropout(0.1)(dense1)\n",
    "    dense2 = Dense(64, input_shape = (None, 256), activation='relu')(dropout1)\n",
    "    dropout2 = Dropout(0.1)(dense2)\n",
    "    pred = Dense(1, input_shape = (None, 64), activation='sigmoid')(dropout2)\n",
    "\n",
    "    model = tf.keras.Model(\n",
    "        inputs=[input_chap, input_sub_chap,input_ques],\n",
    "        outputs=pred,\n",
    "        name='lstm_model'\n",
    "    )\n",
    "\n",
    "    callback = tf.keras.callbacks.EarlyStopping(monitor='val_loss', patience=10)\n",
    "    opt_adam = Adam(learning_rate = 0.005)\n",
    "    model.compile(\n",
    "        optimizer=opt_adam,\n",
    "        loss= masked_bce,\n",
    "        metrics = [masked_acc, masked_auc]\n",
    "    )\n",
    "\n",
    "    history = model.fit(\n",
    "      [train_chapter, train_sub_chapter, train_question],\n",
    "      train_labels,\n",
    "      batch_size = 64,\n",
    "      epochs = 100,\n",
    "      validation_data=([val_chapter, val_sub_chapter, val_question], val_labels),\n",
    "      callbacks=[callback]\n",
    "    )\n",
    "    val_losses.append(list(history.history['val_loss']))\n",
    "    train_losses.append(list(history.history['loss']))\n",
    "    val_aucs.append(list(history.history['val_masked_auc']))\n",
    "    train_aucs.append(list(history.history['masked_auc']))\n",
    "    train_score = model.evaluate([train_chapter, train_sub_chapter, train_question], train_labels)\n",
    "    train_eval.append(train_score)\n",
    "    test_score = model.evaluate([test_chapter, test_sub_chapter, test_question], test_labels)\n",
    "    test_eval.append(test_score)\n",
    "    print(\"Test: \", test_score)\n",
    "    def reset_weights(model):\n",
    "      for layer in model.layers: \n",
    "        if isinstance(layer, tf.keras.Model):\n",
    "          reset_weights(layer)\n",
    "          continue\n",
    "        for k, initializer in layer.__dict__.items():\n",
    "          if \"initializer\" not in k:\n",
    "            continue\n",
    "          # find the corresponding variable\n",
    "          var = getattr(layer, k.replace(\"_initializer\", \"\"))\n",
    "          var.assign(initializer(var.shape, var.dtype))\n",
    "    reset_weights(model)"
   ]
  },
  {
   "cell_type": "code",
   "execution_count": 31,
   "metadata": {
    "execution": {
     "iopub.execute_input": "2021-07-27T09:29:47.309103Z",
     "iopub.status.busy": "2021-07-27T09:29:47.308241Z",
     "iopub.status.idle": "2021-07-27T09:29:47.312126Z",
     "shell.execute_reply": "2021-07-27T09:29:47.312585Z",
     "shell.execute_reply.started": "2021-07-26T23:25:01.206544Z"
    },
    "id": "QsVmumHMz3lx",
    "outputId": "4ff1e2fa-6abb-458e-c729-495b456f53e5",
    "papermill": {
     "duration": 0.795066,
     "end_time": "2021-07-27T09:29:47.312768",
     "exception": false,
     "start_time": "2021-07-27T09:29:46.517702",
     "status": "completed"
    },
    "tags": []
   },
   "outputs": [
    {
     "name": "stdout",
     "output_type": "stream",
     "text": [
      "test avg loss:  1.0455701231956482 +/- 0.06190717412147234\n",
      "test avg acc:  0.7792243719100952 +/- 0.004237120272642997\n",
      "test avg auc:  0.8504313588142395 +/- 0.003942144909590144\n"
     ]
    }
   ],
   "source": [
    "t_eval = np.array(test_eval)\n",
    "print(\"test avg loss: \", np.mean(t_eval[:, 0]), \"+/-\" ,np.std(t_eval[:, 0]))\n",
    "print(\"test avg acc: \", np.mean(t_eval[:, 1]),  \"+/-\" ,np.std(t_eval[:, 1]))\n",
    "print(\"test avg auc: \", np.mean(t_eval[:, 2]), \"+/-\" ,np.std(t_eval[:, 2]))"
   ]
  },
  {
   "cell_type": "code",
   "execution_count": 32,
   "metadata": {
    "execution": {
     "iopub.execute_input": "2021-07-27T09:29:48.923460Z",
     "iopub.status.busy": "2021-07-27T09:29:48.922456Z",
     "iopub.status.idle": "2021-07-27T09:29:48.927648Z",
     "shell.execute_reply": "2021-07-27T09:29:48.926966Z",
     "shell.execute_reply.started": "2021-07-26T23:25:01.221267Z"
    },
    "id": "b9MM_CXWz5K6",
    "outputId": "4cf88e1d-3a74-4e7d-f92c-d01522e91757",
    "papermill": {
     "duration": 0.827492,
     "end_time": "2021-07-27T09:29:48.927806",
     "exception": false,
     "start_time": "2021-07-27T09:29:48.100314",
     "status": "completed"
    },
    "tags": []
   },
   "outputs": [
    {
     "name": "stdout",
     "output_type": "stream",
     "text": [
      "train avg loss:  0.2644196808338165 +/- 0.008317457988066218\n",
      "train avg acc:  0.7767947912216187 +/- 0.0044878717540291725\n",
      "train avg auc:  0.8473827242851257 +/- 0.004131544971041127\n"
     ]
    }
   ],
   "source": [
    "t_eval = np.array(train_eval)\n",
    "print(\"train avg loss: \", np.mean(t_eval[:, 0]), \"+/-\" ,np.std(t_eval[:, 0]))\n",
    "print(\"train avg acc: \", np.mean(t_eval[:, 1]),  \"+/-\" ,np.std(t_eval[:, 1]))\n",
    "print(\"train avg auc: \", np.mean(t_eval[:, 2]), \"+/-\" ,np.std(t_eval[:, 2]))"
   ]
  }
 ],
 "metadata": {
  "kernelspec": {
   "display_name": "Python 3",
   "language": "python",
   "name": "python3"
  },
  "language_info": {
   "codemirror_mode": {
    "name": "ipython",
    "version": 3
   },
   "file_extension": ".py",
   "mimetype": "text/x-python",
   "name": "python",
   "nbconvert_exporter": "python",
   "pygments_lexer": "ipython3",
   "version": "3.8.5"
  },
  "papermill": {
   "default_parameters": {},
   "duration": 2048.274581,
   "end_time": "2021-07-27T09:29:52.353552",
   "environment_variables": {},
   "exception": null,
   "input_path": "__notebook__.ipynb",
   "output_path": "__notebook__.ipynb",
   "parameters": {},
   "start_time": "2021-07-27T08:55:44.078971",
   "version": "2.3.3"
  }
 },
 "nbformat": 4,
 "nbformat_minor": 5
}
