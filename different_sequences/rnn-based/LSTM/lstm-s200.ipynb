{
 "cells": [
  {
   "cell_type": "code",
   "execution_count": 1,
   "metadata": {
    "execution": {
     "iopub.execute_input": "2021-07-26T22:41:22.246606Z",
     "iopub.status.busy": "2021-07-26T22:41:22.245892Z",
     "iopub.status.idle": "2021-07-26T22:41:24.499166Z",
     "shell.execute_reply": "2021-07-26T22:41:24.497979Z",
     "shell.execute_reply.started": "2021-07-26T22:41:22.246443Z"
    },
    "id": "farifxiKU1aB"
   },
   "outputs": [],
   "source": [
    "import numpy as np\n",
    "import pandas as pd\n",
    "import warnings\n",
    "import gc\n",
    "import tensorflow as tf\n",
    "from tensorflow import keras\n",
    "\n",
    "import random\n",
    "from random import choice\n",
    "from tensorflow.keras.optimizers import Adam\n",
    "from tensorflow.keras.models import Sequential \n",
    "from tensorflow.keras.layers import Dense, LSTM, Concatenate, Embedding, Flatten, Activation, Dropout\n",
    "from sklearn.model_selection import KFold\n",
    "from tensorflow.python.client import device_lib\n",
    "warnings.filterwarnings('ignore')\n",
    "import random"
   ]
  },
  {
   "cell_type": "code",
   "execution_count": 2,
   "metadata": {
    "execution": {
     "iopub.execute_input": "2021-07-26T22:41:24.501209Z",
     "iopub.status.busy": "2021-07-26T22:41:24.500839Z",
     "iopub.status.idle": "2021-07-26T22:41:24.506227Z",
     "shell.execute_reply": "2021-07-26T22:41:24.504908Z",
     "shell.execute_reply.started": "2021-07-26T22:41:24.501168Z"
    },
    "id": "QOson70GPOXb"
   },
   "outputs": [],
   "source": [
    "import gc"
   ]
  },
  {
   "cell_type": "markdown",
   "metadata": {
    "id": "BQsVybBH3VPw"
   },
   "source": [
    "## Data Preprocessing"
   ]
  },
  {
   "cell_type": "code",
   "execution_count": 3,
   "metadata": {
    "execution": {
     "iopub.execute_input": "2021-07-26T22:41:24.508786Z",
     "iopub.status.busy": "2021-07-26T22:41:24.508461Z",
     "iopub.status.idle": "2021-07-26T22:41:29.611959Z",
     "shell.execute_reply": "2021-07-26T22:41:29.610824Z",
     "shell.execute_reply.started": "2021-07-26T22:41:24.508754Z"
    },
    "id": "rwtTusGxrmAE",
    "outputId": "1430f3cf-038b-485e-b5c4-c1686b1f34fd"
   },
   "outputs": [
    {
     "data": {
      "text/html": [
       "<div>\n",
       "<style scoped>\n",
       "    .dataframe tbody tr th:only-of-type {\n",
       "        vertical-align: middle;\n",
       "    }\n",
       "\n",
       "    .dataframe tbody tr th {\n",
       "        vertical-align: top;\n",
       "    }\n",
       "\n",
       "    .dataframe thead th {\n",
       "        text-align: right;\n",
       "    }\n",
       "</style>\n",
       "<table border=\"1\" class=\"dataframe\">\n",
       "  <thead>\n",
       "    <tr style=\"text-align: right;\">\n",
       "      <th></th>\n",
       "      <th>Unnamed: 0</th>\n",
       "      <th>chapter_label</th>\n",
       "      <th>sub_chapter_label</th>\n",
       "      <th>question_name</th>\n",
       "      <th>user_id.x</th>\n",
       "      <th>term</th>\n",
       "      <th>STDNT_SEX_CD</th>\n",
       "      <th>NonNativeEnglish</th>\n",
       "      <th>White</th>\n",
       "      <th>Asian</th>\n",
       "      <th>...</th>\n",
       "      <th>classGraded</th>\n",
       "      <th>classHonors</th>\n",
       "      <th>Pass_Fail</th>\n",
       "      <th>parentsGraduateEdu</th>\n",
       "      <th>minorityGroup</th>\n",
       "      <th>q</th>\n",
       "      <th>day's_available_flashcards</th>\n",
       "      <th>start_practice</th>\n",
       "      <th>end_practice</th>\n",
       "      <th>days_offset</th>\n",
       "    </tr>\n",
       "  </thead>\n",
       "  <tbody>\n",
       "    <tr>\n",
       "      <th>0</th>\n",
       "      <td>1</td>\n",
       "      <td>Sort</td>\n",
       "      <td>intro-SortingwithSortandSorted</td>\n",
       "      <td>ee_sort_04</td>\n",
       "      <td>148</td>\n",
       "      <td>WN 2018</td>\n",
       "      <td>1</td>\n",
       "      <td>0</td>\n",
       "      <td>1</td>\n",
       "      <td>0</td>\n",
       "      <td>...</td>\n",
       "      <td>1</td>\n",
       "      <td>0</td>\n",
       "      <td>0</td>\n",
       "      <td>0</td>\n",
       "      <td>0</td>\n",
       "      <td>0</td>\n",
       "      <td>18</td>\n",
       "      <td>2018-03-04 20:00:19</td>\n",
       "      <td>2018-03-04 20:00:35</td>\n",
       "      <td>45</td>\n",
       "    </tr>\n",
       "    <tr>\n",
       "      <th>1</th>\n",
       "      <td>2</td>\n",
       "      <td>Functions</td>\n",
       "      <td>Returningavaluefromafunction</td>\n",
       "      <td>test_questionfunctions_2_3</td>\n",
       "      <td>148</td>\n",
       "      <td>WN 2018</td>\n",
       "      <td>1</td>\n",
       "      <td>0</td>\n",
       "      <td>1</td>\n",
       "      <td>0</td>\n",
       "      <td>...</td>\n",
       "      <td>1</td>\n",
       "      <td>0</td>\n",
       "      <td>0</td>\n",
       "      <td>0</td>\n",
       "      <td>0</td>\n",
       "      <td>4</td>\n",
       "      <td>16</td>\n",
       "      <td>2018-02-10 11:57:55</td>\n",
       "      <td>2018-02-10 11:58:35</td>\n",
       "      <td>23</td>\n",
       "    </tr>\n",
       "    <tr>\n",
       "      <th>2</th>\n",
       "      <td>3</td>\n",
       "      <td>RESTAPIs</td>\n",
       "      <td>functionswithrestapis</td>\n",
       "      <td>test_question_functions_rest_apis_1</td>\n",
       "      <td>148</td>\n",
       "      <td>WN 2018</td>\n",
       "      <td>1</td>\n",
       "      <td>0</td>\n",
       "      <td>1</td>\n",
       "      <td>0</td>\n",
       "      <td>...</td>\n",
       "      <td>1</td>\n",
       "      <td>0</td>\n",
       "      <td>0</td>\n",
       "      <td>0</td>\n",
       "      <td>0</td>\n",
       "      <td>1</td>\n",
       "      <td>2</td>\n",
       "      <td>2018-03-12 17:03:07</td>\n",
       "      <td>2018-03-12 17:04:28</td>\n",
       "      <td>53</td>\n",
       "    </tr>\n",
       "    <tr>\n",
       "      <th>3</th>\n",
       "      <td>4</td>\n",
       "      <td>SimplePythonData</td>\n",
       "      <td>FunctionCalls</td>\n",
       "      <td>exercise_functionCalls_1</td>\n",
       "      <td>148</td>\n",
       "      <td>WN 2018</td>\n",
       "      <td>1</td>\n",
       "      <td>0</td>\n",
       "      <td>1</td>\n",
       "      <td>0</td>\n",
       "      <td>...</td>\n",
       "      <td>1</td>\n",
       "      <td>0</td>\n",
       "      <td>0</td>\n",
       "      <td>0</td>\n",
       "      <td>0</td>\n",
       "      <td>0</td>\n",
       "      <td>10</td>\n",
       "      <td>2018-01-30 14:15:49</td>\n",
       "      <td>2018-01-30 14:15:58</td>\n",
       "      <td>12</td>\n",
       "    </tr>\n",
       "    <tr>\n",
       "      <th>4</th>\n",
       "      <td>5</td>\n",
       "      <td>DictionaryAccumulation</td>\n",
       "      <td>AccumulatingaMaximumValue</td>\n",
       "      <td>ps_04_07</td>\n",
       "      <td>148</td>\n",
       "      <td>WN 2018</td>\n",
       "      <td>1</td>\n",
       "      <td>0</td>\n",
       "      <td>1</td>\n",
       "      <td>0</td>\n",
       "      <td>...</td>\n",
       "      <td>1</td>\n",
       "      <td>0</td>\n",
       "      <td>0</td>\n",
       "      <td>0</td>\n",
       "      <td>0</td>\n",
       "      <td>0</td>\n",
       "      <td>23</td>\n",
       "      <td>2018-03-03 14:04:17</td>\n",
       "      <td>2018-03-03 14:04:25</td>\n",
       "      <td>44</td>\n",
       "    </tr>\n",
       "  </tbody>\n",
       "</table>\n",
       "<p>5 rows × 48 columns</p>\n",
       "</div>"
      ],
      "text/plain": [
       "   Unnamed: 0           chapter_label               sub_chapter_label  \\\n",
       "0           1                    Sort  intro-SortingwithSortandSorted   \n",
       "1           2               Functions    Returningavaluefromafunction   \n",
       "2           3                RESTAPIs           functionswithrestapis   \n",
       "3           4        SimplePythonData                   FunctionCalls   \n",
       "4           5  DictionaryAccumulation       AccumulatingaMaximumValue   \n",
       "\n",
       "                         question_name  user_id.x     term  STDNT_SEX_CD  \\\n",
       "0                           ee_sort_04        148  WN 2018             1   \n",
       "1           test_questionfunctions_2_3        148  WN 2018             1   \n",
       "2  test_question_functions_rest_apis_1        148  WN 2018             1   \n",
       "3             exercise_functionCalls_1        148  WN 2018             1   \n",
       "4                             ps_04_07        148  WN 2018             1   \n",
       "\n",
       "   NonNativeEnglish  White  Asian  ...  classGraded  classHonors  Pass_Fail  \\\n",
       "0                 0      1      0  ...            1            0          0   \n",
       "1                 0      1      0  ...            1            0          0   \n",
       "2                 0      1      0  ...            1            0          0   \n",
       "3                 0      1      0  ...            1            0          0   \n",
       "4                 0      1      0  ...            1            0          0   \n",
       "\n",
       "   parentsGraduateEdu  minorityGroup  q  day's_available_flashcards  \\\n",
       "0                   0              0  0                          18   \n",
       "1                   0              0  4                          16   \n",
       "2                   0              0  1                           2   \n",
       "3                   0              0  0                          10   \n",
       "4                   0              0  0                          23   \n",
       "\n",
       "        start_practice         end_practice  days_offset  \n",
       "0  2018-03-04 20:00:19  2018-03-04 20:00:35           45  \n",
       "1  2018-02-10 11:57:55  2018-02-10 11:58:35           23  \n",
       "2  2018-03-12 17:03:07  2018-03-12 17:04:28           53  \n",
       "3  2018-01-30 14:15:49  2018-01-30 14:15:58           12  \n",
       "4  2018-03-03 14:04:17  2018-03-03 14:04:25           44  \n",
       "\n",
       "[5 rows x 48 columns]"
      ]
     },
     "execution_count": 3,
     "metadata": {},
     "output_type": "execute_result"
    }
   ],
   "source": [
    "# load the data\n",
    "import pandas as pd\n",
    "dataframe = pd.read_csv('../input/practice-log-demographics/Practice_Log_Demographics (1).csv', low_memory=False)\n",
    "dataframe.head()"
   ]
  },
  {
   "cell_type": "code",
   "execution_count": 4,
   "metadata": {
    "execution": {
     "iopub.execute_input": "2021-07-26T22:41:29.614111Z",
     "iopub.status.busy": "2021-07-26T22:41:29.613802Z",
     "iopub.status.idle": "2021-07-26T22:41:31.163583Z",
     "shell.execute_reply": "2021-07-26T22:41:31.162357Z",
     "shell.execute_reply.started": "2021-07-26T22:41:29.614084Z"
    },
    "id": "OCbHnEp_Vir0"
   },
   "outputs": [],
   "source": [
    "#sort data based on timestamp\n",
    "dataframe = dataframe.sort_values(by=['start_practice'])"
   ]
  },
  {
   "cell_type": "code",
   "execution_count": 5,
   "metadata": {
    "execution": {
     "iopub.execute_input": "2021-07-26T22:41:31.165445Z",
     "iopub.status.busy": "2021-07-26T22:41:31.165140Z",
     "iopub.status.idle": "2021-07-26T22:41:31.172658Z",
     "shell.execute_reply": "2021-07-26T22:41:31.171379Z",
     "shell.execute_reply.started": "2021-07-26T22:41:31.165416Z"
    },
    "id": "0RvF7BvEr98o"
   },
   "outputs": [],
   "source": [
    "FEATURES = ['chapter_label', 'sub_chapter_label','question_name','user_id','term',\n",
    "            'STDNT_SEX_CD', \n",
    "            'NonNativeEnglish',\n",
    "            'White',\n",
    "            'Asian',\n",
    "            'WhiteOrAsian',\n",
    "            'Hispanic',\n",
    "            'AfricanAmerican',\n",
    "            'OtherEthnicities',\n",
    "            'NonWhiteOrAsian',\n",
    "            'STDNT_CTZN_STAT_CD', 'international', \n",
    "            'gradingType',\n",
    "            'birthYear',\n",
    "            'exclClassCumGPA',\n",
    "            'Freshman',\n",
    "            'Junior',\n",
    "            'Sophomore',\n",
    "            'Senior',\n",
    "            'termCreditsGPA',\n",
    "            'termCreditsNoGPA',\n",
    "            'athlete_1',\n",
    "            'honorsPro',\n",
    "            'LSA', 'programBusiness', 'programEngineering', \n",
    "            'programInformation', 'programOther',\n",
    "            'HSCalculusTaken', \n",
    "            'highSchoolGPA', \n",
    "            'majorsCount', 'minorsCount',\n",
    "            'PREV_TERM_CUM_GPA',\n",
    "            'classGraded', 'classHonors', \n",
    "            'Pass_Fail', \n",
    "            'parentsGraduateEdu',  'minorityGroup', \n",
    "            'q',\n",
    "            'available_flashcards', \n",
    "            'start_practice', \n",
    "            'end_practice',\n",
    "            'days_offset']"
   ]
  },
  {
   "cell_type": "code",
   "execution_count": 6,
   "metadata": {
    "execution": {
     "iopub.execute_input": "2021-07-26T22:41:31.174410Z",
     "iopub.status.busy": "2021-07-26T22:41:31.174062Z",
     "iopub.status.idle": "2021-07-26T22:41:31.705652Z",
     "shell.execute_reply": "2021-07-26T22:41:31.704484Z",
     "shell.execute_reply.started": "2021-07-26T22:41:31.174376Z"
    },
    "id": "Mn341X7lSztl"
   },
   "outputs": [],
   "source": [
    "dataframe['available_flashcards'] = dataframe[\"day's_available_flashcards\"][:]\n",
    "dataframe = dataframe.drop([\"day's_available_flashcards\"], axis=1)\n",
    "dataframe['user_id'] = dataframe[\"user_id.x\"][:]\n",
    "dataframe = dataframe.drop([\"user_id.x\"], axis=1)"
   ]
  },
  {
   "cell_type": "code",
   "execution_count": 7,
   "metadata": {
    "execution": {
     "iopub.execute_input": "2021-07-26T22:41:31.707353Z",
     "iopub.status.busy": "2021-07-26T22:41:31.707049Z",
     "iopub.status.idle": "2021-07-26T22:41:31.886321Z",
     "shell.execute_reply": "2021-07-26T22:41:31.884845Z",
     "shell.execute_reply.started": "2021-07-26T22:41:31.707326Z"
    },
    "id": "-_BRggOjbBjN",
    "outputId": "42bff7db-08dd-48dc-a73a-d048508053b7"
   },
   "outputs": [
    {
     "data": {
      "text/plain": [
       "66"
      ]
     },
     "execution_count": 7,
     "metadata": {},
     "output_type": "execute_result"
    }
   ],
   "source": [
    "gc.collect()"
   ]
  },
  {
   "cell_type": "code",
   "execution_count": 8,
   "metadata": {
    "execution": {
     "iopub.execute_input": "2021-07-26T22:41:31.891299Z",
     "iopub.status.busy": "2021-07-26T22:41:31.890926Z",
     "iopub.status.idle": "2021-07-26T22:41:32.200717Z",
     "shell.execute_reply": "2021-07-26T22:41:32.199237Z",
     "shell.execute_reply.started": "2021-07-26T22:41:31.891265Z"
    },
    "id": "lXM7MlonVeRL",
    "outputId": "d29ccec0-522f-4e3c-e0b2-39b2e1eaef74"
   },
   "outputs": [
    {
     "data": {
      "text/plain": [
       "22"
      ]
     },
     "execution_count": 8,
     "metadata": {},
     "output_type": "execute_result"
    }
   ],
   "source": [
    "dataframe = dataframe[FEATURES]\n",
    "gc.collect()"
   ]
  },
  {
   "cell_type": "code",
   "execution_count": 9,
   "metadata": {
    "execution": {
     "iopub.execute_input": "2021-07-26T22:41:32.203567Z",
     "iopub.status.busy": "2021-07-26T22:41:32.203140Z",
     "iopub.status.idle": "2021-07-26T22:41:33.886603Z",
     "shell.execute_reply": "2021-07-26T22:41:33.885302Z",
     "shell.execute_reply.started": "2021-07-26T22:41:32.203521Z"
    },
    "id": "qRKqF_0IXZgj"
   },
   "outputs": [],
   "source": [
    "#label encode term, chapter_label, question_name, sub_chapter_label columns\n",
    "dataframe['term'] = dataframe['term'].astype('category')\n",
    "dataframe['user_id'] = dataframe['user_id'].astype(int)\n",
    "dataframe['user_id'] = dataframe['user_id'].astype(str)\n",
    "dataframe['user_id'] = dataframe['term'].str.cat(dataframe['user_id'], sep=':')\n",
    "dataframe['user_id'] = dataframe['user_id'].astype('category')\n",
    "dataframe['chapter_label'] = dataframe['chapter_label'].astype('category')\n",
    "dataframe['sub_chapter_label'] = dataframe['sub_chapter_label'].astype('category')\n",
    "dataframe['question_name'] = dataframe['question_name'].astype('category')\n"
   ]
  },
  {
   "cell_type": "code",
   "execution_count": 10,
   "metadata": {
    "execution": {
     "iopub.execute_input": "2021-07-26T22:41:33.888347Z",
     "iopub.status.busy": "2021-07-26T22:41:33.888017Z",
     "iopub.status.idle": "2021-07-26T22:41:34.481804Z",
     "shell.execute_reply": "2021-07-26T22:41:34.480553Z",
     "shell.execute_reply.started": "2021-07-26T22:41:33.888317Z"
    },
    "id": "eVl_067GWkDe"
   },
   "outputs": [],
   "source": [
    "#calculate time_lag and prev_time_elapsed\n",
    "dataframe['prev_time_elapsed'] = None\n",
    "dataframe['time_lag'] = None\n",
    "dataframe['time_lag'] = dataframe['time_lag'].astype(np.float)\n",
    "dataframe['prev_time_elapsed'] = dataframe['prev_time_elapsed'].astype(np.float)\n",
    "dataframe.start_practice = pd.to_datetime(dataframe.start_practice, format='%Y-%m-%d %H:%M:%S')\n",
    "dataframe.end_practice = pd.to_datetime(dataframe.end_practice, format='%Y-%m-%d %H:%M:%S')"
   ]
  },
  {
   "cell_type": "code",
   "execution_count": 11,
   "metadata": {
    "execution": {
     "iopub.execute_input": "2021-07-26T22:41:34.483630Z",
     "iopub.status.busy": "2021-07-26T22:41:34.483343Z",
     "iopub.status.idle": "2021-07-26T22:41:34.513175Z",
     "shell.execute_reply": "2021-07-26T22:41:34.511982Z",
     "shell.execute_reply.started": "2021-07-26T22:41:34.483603Z"
    }
   },
   "outputs": [],
   "source": [
    "dataframe['dif'] = dataframe.end_practice - dataframe.start_practice\n",
    "dataframe['dif'] = dataframe['dif'] /np.timedelta64(1, 's')\n",
    "dataframe['answer_correct'] = np.where((dataframe['q']==5) & (dataframe['dif'] <= 60), 1, 0)"
   ]
  },
  {
   "cell_type": "code",
   "execution_count": 13,
   "metadata": {
    "execution": {
     "iopub.execute_input": "2021-07-26T22:41:55.457194Z",
     "iopub.status.busy": "2021-07-26T22:41:55.456825Z",
     "iopub.status.idle": "2021-07-26T22:41:55.606267Z",
     "shell.execute_reply": "2021-07-26T22:41:55.605178Z",
     "shell.execute_reply.started": "2021-07-26T22:41:55.457155Z"
    },
    "id": "8t8yZ0XvWwzz"
   },
   "outputs": [],
   "source": [
    "#drop column end_practice\n",
    "dataframe.drop(columns=['end_practice'], inplace=True)"
   ]
  },
  {
   "cell_type": "code",
   "execution_count": 14,
   "metadata": {
    "execution": {
     "iopub.execute_input": "2021-07-26T22:41:55.607947Z",
     "iopub.status.busy": "2021-07-26T22:41:55.607624Z",
     "iopub.status.idle": "2021-07-26T22:41:56.097769Z",
     "shell.execute_reply": "2021-07-26T22:41:56.097041Z",
     "shell.execute_reply.started": "2021-07-26T22:41:55.607911Z"
    },
    "id": "E42raRIrYYXz"
   },
   "outputs": [],
   "source": [
    "# calculate the age feature\n",
    "dataframe['term_value'] = [int(ele[3:]) for ele in dataframe['term']]\n",
    "dataframe['age'] = dataframe['term_value'] - dataframe['birthYear']"
   ]
  },
  {
   "cell_type": "code",
   "execution_count": 15,
   "metadata": {
    "execution": {
     "iopub.execute_input": "2021-07-26T22:41:56.099063Z",
     "iopub.status.busy": "2021-07-26T22:41:56.098796Z",
     "iopub.status.idle": "2021-07-26T22:41:56.338303Z",
     "shell.execute_reply": "2021-07-26T22:41:56.337265Z",
     "shell.execute_reply.started": "2021-07-26T22:41:56.099037Z"
    },
    "id": "pcMVQXueYnMh"
   },
   "outputs": [],
   "source": [
    "# drop term_value and birthYear column\n",
    "dataframe.drop(columns=['term_value', 'birthYear'], inplace=True)"
   ]
  },
  {
   "cell_type": "code",
   "execution_count": 16,
   "metadata": {
    "execution": {
     "iopub.execute_input": "2021-07-26T22:41:56.339958Z",
     "iopub.status.busy": "2021-07-26T22:41:56.339605Z",
     "iopub.status.idle": "2021-07-26T22:41:56.871452Z",
     "shell.execute_reply": "2021-07-26T22:41:56.870226Z",
     "shell.execute_reply.started": "2021-07-26T22:41:56.339922Z"
    },
    "id": "hjRF5szkcQE0"
   },
   "outputs": [],
   "source": [
    "# convert minors_count to int value\n",
    "new_minors_count = []\n",
    "for i in dataframe['minorsCount']:\n",
    "  if i == 0 or i == '0':\n",
    "    new_minors_count.append(0)\n",
    "  elif i == '1 Minor':\n",
    "    new_minors_count.append(1)\n",
    "  else:\n",
    "    new_minors_count.append(2)\n",
    "\n",
    "dataframe['minorsCount'] = new_minors_count"
   ]
  },
  {
   "cell_type": "code",
   "execution_count": 17,
   "metadata": {
    "execution": {
     "iopub.execute_input": "2021-07-26T22:41:56.873454Z",
     "iopub.status.busy": "2021-07-26T22:41:56.873141Z",
     "iopub.status.idle": "2021-07-26T22:41:56.893921Z",
     "shell.execute_reply": "2021-07-26T22:41:56.892977Z",
     "shell.execute_reply.started": "2021-07-26T22:41:56.873424Z"
    },
    "id": "9VdzvJSw0KUU",
    "outputId": "6393784f-234e-4935-9cee-cbcf56b5630a"
   },
   "outputs": [
    {
     "name": "stdout",
     "output_type": "stream",
     "text": [
      "we have  1110  users in total.\n"
     ]
    }
   ],
   "source": [
    "print(\"we have \", dataframe['user_id'].nunique(),\" users in total.\")"
   ]
  },
  {
   "cell_type": "code",
   "execution_count": 18,
   "metadata": {
    "execution": {
     "iopub.execute_input": "2021-07-26T22:41:56.895719Z",
     "iopub.status.busy": "2021-07-26T22:41:56.895415Z",
     "iopub.status.idle": "2021-07-26T22:41:56.908446Z",
     "shell.execute_reply": "2021-07-26T22:41:56.907135Z",
     "shell.execute_reply.started": "2021-07-26T22:41:56.895685Z"
    },
    "id": "hUaGk9L9g13t"
   },
   "outputs": [],
   "source": [
    "for category in ['term','chapter_label', 'sub_chapter_label', 'question_name']:\n",
    "  dataframe[category] =  dataframe[category].cat.codes"
   ]
  },
  {
   "cell_type": "code",
   "execution_count": 19,
   "metadata": {
    "execution": {
     "iopub.execute_input": "2021-07-26T22:41:56.910715Z",
     "iopub.status.busy": "2021-07-26T22:41:56.910068Z",
     "iopub.status.idle": "2021-07-26T22:41:57.273711Z",
     "shell.execute_reply": "2021-07-26T22:41:57.272672Z",
     "shell.execute_reply.started": "2021-07-26T22:41:56.910673Z"
    },
    "id": "hkyvcYvlhliG"
   },
   "outputs": [],
   "source": [
    "NUMERIC_FEATURE =  ['age',\n",
    "            'exclClassCumGPA',\n",
    "            'termCreditsGPA',\n",
    "            'termCreditsNoGPA',\n",
    "            'highSchoolGPA', \n",
    "            'majorsCount', 'minorsCount',\n",
    "            'PREV_TERM_CUM_GPA',\n",
    "            'available_flashcards', \n",
    "            'days_offset', \n",
    "            'prev_time_elapsed',\n",
    "             'time_lag']\n",
    "# z-score normalize the numerical features\n",
    "for f in NUMERIC_FEATURE:\n",
    "  m = dataframe[f].mean()\n",
    "  std = dataframe[f].std()\n",
    "  dataframe[f] = (dataframe[f] - m)/std"
   ]
  },
  {
   "cell_type": "code",
   "execution_count": 20,
   "metadata": {
    "execution": {
     "iopub.execute_input": "2021-07-26T22:41:57.276526Z",
     "iopub.status.busy": "2021-07-26T22:41:57.276099Z",
     "iopub.status.idle": "2021-07-26T22:42:01.522211Z",
     "shell.execute_reply": "2021-07-26T22:42:01.521075Z",
     "shell.execute_reply.started": "2021-07-26T22:41:57.276480Z"
    },
    "id": "wo2OH-d5kWp1"
   },
   "outputs": [],
   "source": [
    "FEATURE_TRANS =  ['answer_correct', 'chapter_label', 'sub_chapter_label','question_name','user_id','term',\n",
    "                  'STDNT_SEX_CD', \n",
    "                    'White','Asian','NonWhiteOrAsian',\n",
    "            'STDNT_CTZN_STAT_CD', 'international', \n",
    "            'age',\n",
    "            'exclClassCumGPA',\n",
    "           'Freshman',\n",
    "            'Junior',\n",
    "            'Sophomore',\n",
    "            'Senior',\n",
    "            'termCreditsGPA',\n",
    "            'termCreditsNoGPA',\n",
    "            'athlete_1',\n",
    "            'honorsPro',\n",
    "            'LSA', 'programBusiness', 'programEngineering', \n",
    "            'programInformation', 'programOther',\n",
    "            'HSCalculusTaken', \n",
    "            'highSchoolGPA', \n",
    "            'majorsCount', 'minorsCount',\n",
    "            'PREV_TERM_CUM_GPA',\n",
    "            'classGraded', 'classHonors', \n",
    "            'Pass_Fail', \n",
    "            'parentsGraduateEdu',  'minorityGroup', \n",
    "            'available_flashcards', \n",
    "            'days_offset', 'prev_time_elapsed',\n",
    "             'time_lag']\n",
    "grouped_data = dataframe[FEATURE_TRANS].groupby(['user_id']).apply(lambda r: (\n",
    "                r['answer_correct'],\n",
    "                r['term'],\n",
    "                r['chapter_label'],\n",
    "                r['sub_chapter_label'],\n",
    "                r['question_name'],\n",
    "                np.array([r['STDNT_SEX_CD'],r['STDNT_CTZN_STAT_CD'], r['international'], \n",
    "                  r['White'],r['Asian'],r['NonWhiteOrAsian'],\n",
    "                 r['age'],r['exclClassCumGPA'],\n",
    "                r['Freshman'], r['Junior'], r['Sophomore'], r['Senior'],\n",
    "                r['termCreditsGPA'], r['termCreditsNoGPA'],\n",
    "                r['athlete_1'], r['honorsPro'],\n",
    "                r['LSA'], r['programBusiness'], r['programEngineering'], \n",
    "                r['programInformation'], r['programOther'],\n",
    "                r['HSCalculusTaken'],  r['highSchoolGPA'], \n",
    "                r['majorsCount'], r['minorsCount'],\n",
    "                r['PREV_TERM_CUM_GPA'], \n",
    "                r['parentsGraduateEdu'], r['minorityGroup'],\n",
    "                r['available_flashcards'],\n",
    "                r['days_offset'],\n",
    "                r['prev_time_elapsed'],\n",
    "                r['time_lag']\n",
    "              ]).transpose()\n",
    "                ))"
   ]
  },
  {
   "cell_type": "code",
   "execution_count": 21,
   "metadata": {
    "execution": {
     "iopub.execute_input": "2021-07-26T22:42:01.523824Z",
     "iopub.status.busy": "2021-07-26T22:42:01.523513Z",
     "iopub.status.idle": "2021-07-26T22:42:01.730693Z",
     "shell.execute_reply": "2021-07-26T22:42:01.729345Z",
     "shell.execute_reply.started": "2021-07-26T22:42:01.523795Z"
    },
    "id": "XXLqQnjrlp_4",
    "outputId": "c801da79-f0bf-4fe5-b19c-7c799fe01556"
   },
   "outputs": [
    {
     "data": {
      "text/plain": [
       "22"
      ]
     },
     "execution_count": 21,
     "metadata": {},
     "output_type": "execute_result"
    }
   ],
   "source": [
    "gc.collect()"
   ]
  },
  {
   "cell_type": "code",
   "execution_count": 22,
   "metadata": {
    "execution": {
     "iopub.execute_input": "2021-07-26T22:42:01.732429Z",
     "iopub.status.busy": "2021-07-26T22:42:01.732126Z",
     "iopub.status.idle": "2021-07-26T22:42:01.776426Z",
     "shell.execute_reply": "2021-07-26T22:42:01.775411Z",
     "shell.execute_reply.started": "2021-07-26T22:42:01.732400Z"
    },
    "id": "QYGQasdTrmP0"
   },
   "outputs": [],
   "source": [
    "# remove students who don't have make any interactions with the tool\n",
    "toRemove = []\n",
    "for index in grouped_data.index:\n",
    "  if len(grouped_data[index][0]) <= 10:\n",
    "    toRemove.append(index)\n",
    "grouped_data = grouped_data.drop(index=toRemove)"
   ]
  },
  {
   "cell_type": "code",
   "execution_count": 23,
   "metadata": {
    "execution": {
     "iopub.execute_input": "2021-07-26T22:42:01.780270Z",
     "iopub.status.busy": "2021-07-26T22:42:01.779958Z",
     "iopub.status.idle": "2021-07-26T22:42:01.784320Z",
     "shell.execute_reply": "2021-07-26T22:42:01.783463Z",
     "shell.execute_reply.started": "2021-07-26T22:42:01.780242Z"
    },
    "id": "9kZqV9siDyNb"
   },
   "outputs": [],
   "source": [
    "#SETTINGS -> can be modified at any time\n",
    "MAXLENGTH = 200\n",
    "EMBEDDING_DIM = 128\n",
    "DENSE_NEURON = 16\n",
    "LSTM_NEURON = 32"
   ]
  },
  {
   "cell_type": "code",
   "execution_count": 24,
   "metadata": {
    "execution": {
     "iopub.execute_input": "2021-07-26T22:42:01.786273Z",
     "iopub.status.busy": "2021-07-26T22:42:01.785973Z",
     "iopub.status.idle": "2021-07-26T22:42:01.800186Z",
     "shell.execute_reply": "2021-07-26T22:42:01.799428Z",
     "shell.execute_reply.started": "2021-07-26T22:42:01.786245Z"
    },
    "id": "1MksD1JizpPn"
   },
   "outputs": [],
   "source": [
    "#FEATURES_SIZE = 38\n",
    "CHAPTER_SIZE = 38\n",
    "SUB_CHAPTER_SIZE = 223\n",
    "QUESTION_SIZE = 1069"
   ]
  },
  {
   "cell_type": "code",
   "execution_count": 25,
   "metadata": {
    "execution": {
     "iopub.execute_input": "2021-07-26T22:42:01.801639Z",
     "iopub.status.busy": "2021-07-26T22:42:01.801229Z",
     "iopub.status.idle": "2021-07-26T22:42:01.824026Z",
     "shell.execute_reply": "2021-07-26T22:42:01.822765Z",
     "shell.execute_reply.started": "2021-07-26T22:42:01.801608Z"
    }
   },
   "outputs": [
    {
     "data": {
      "text/plain": [
       "array([ 96,  86,  88,  28,  12,  82, 125,  32,  69,  33,  21, 115, 120,\n",
       "       119,  91,  73,  57,  77, 117,  40,  74,  41,  68,  39,  92,  47,\n",
       "       104,  95,  53,  49,  50,  16,  52,  55,   7,  15,  51, 102, 103,\n",
       "        11,  94, 108, 100,  17,  67,  63,  13, 139,  26,  25,   8, 107,\n",
       "         0,  90,  48,  54, 138,   1,   2,   3,  34,  35,  85,   5,  24,\n",
       "        37,  36,  78,  70,  45, 142,  71,  10,  89, 111, 112, 109, 116,\n",
       "        76,  72, 148, 134, 146, 221, 143,  56,  60,  61,  23, 140, 106,\n",
       "        42,  83,  22, 145, 136, 144,  38,   4,  19, 137,  75,  43,  98,\n",
       "        84, 113, 173, 174, 175, 176, 177, 178, 180, 181, 182, 187, 189,\n",
       "       190, 191, 192, 193, 195, 197, 151, 152, 153, 156, 157, 158, 159,\n",
       "       160, 161, 163, 164, 165, 166, 167, 168, 169, 170, 171, 172, 198,\n",
       "       199, 200, 201, 202, 203, 204, 205, 206, 207, 208, 209, 210, 162,\n",
       "       179, 186, 188, 194, 183, 184, 185, 211, 212, 213, 154, 155, 196,\n",
       "         6, 118,  18, 215,  46, 216, 141,  27, 217, 105, 123, 218, 101,\n",
       "       124, 219, 122, 220,  58,  59,  64,  20,  93,  65,  66,   9,  44,\n",
       "        30,  14,  79, 121,  31, 110, 129,  87,  97,  62, 149, 132, 131,\n",
       "       150, 130, 128,  99, 147, 127, 214, 135,  80, 126, 133,  81, 114,\n",
       "        29], dtype=int16)"
      ]
     },
     "execution_count": 25,
     "metadata": {},
     "output_type": "execute_result"
    }
   ],
   "source": [
    "dataframe['sub_chapter_label'].unique()"
   ]
  },
  {
   "cell_type": "code",
   "execution_count": 26,
   "metadata": {
    "execution": {
     "iopub.execute_input": "2021-07-26T22:42:01.825607Z",
     "iopub.status.busy": "2021-07-26T22:42:01.825333Z",
     "iopub.status.idle": "2021-07-26T22:42:02.225844Z",
     "shell.execute_reply": "2021-07-26T22:42:02.224593Z",
     "shell.execute_reply.started": "2021-07-26T22:42:01.825581Z"
    },
    "id": "mY3Thp6d0NaT"
   },
   "outputs": [],
   "source": [
    "#create dataset class\n",
    "#to prepare it for train, valid, and test sets\n",
    "from torch.utils.data import Dataset, DataLoader\n",
    "class SPACE_DATASET(Dataset):\n",
    "    def __init__(self, data, maxlength = 200):\n",
    "        super(SPACE_DATASET, self).__init__()\n",
    "        self.maxlength = maxlength\n",
    "        self.data = data\n",
    "        self.users = list()\n",
    "        for user in data.index:\n",
    "            self.users.append(user)\n",
    "\n",
    "    def __len__(self):\n",
    "        return len(self.users)\n",
    "    \n",
    "    def __getitem__(self, ix):\n",
    "        user = self.users[ix]\n",
    "        user = user\n",
    "        target, term, ch_label, sub_ch_label, ques_name, features = self.data[user]\n",
    "        \n",
    "        #0s should be used as padding values\n",
    "        ori_target = target.values \n",
    "        term = term.values\n",
    "        ch_label = ch_label.values + 1\n",
    "        sub_ch_label = sub_ch_label.values +1\n",
    "        ques_name = ques_name.values + 1\n",
    "        \n",
    "        n = len(ch_label)\n",
    "\n",
    "        # one hot for term\n",
    "        term_encode = [0]*7\n",
    "        term_encode[term[0]] = 1\n",
    "        shifted_target= []\n",
    "\n",
    "        \n",
    "        # get  user interaction informations in the previous MAXLEN interactions\n",
    "        if n > self.maxlength:\n",
    "          ch_label = ch_label[-self.maxlength:]\n",
    "          sub_ch_label = sub_ch_label[-self.maxlength:]\n",
    "          ques_name = ques_name[-self.maxlength:]\n",
    "          features = features[-self.maxlength:]\n",
    "          target = ori_target[-self.maxlength:]\n",
    "          shifted_target = ori_target[ (-self.maxlength - 1) :-1]\n",
    "        else:\n",
    "          ch_label = [0]*(self.maxlength - n)+list(ch_label[:])\n",
    "          sub_ch_label = [0]*(self.maxlength - n)+list(sub_ch_label[:])\n",
    "          ques_name = [0]*(self.maxlength - n)+list(ques_name[:])\n",
    "          features = [[0]*len(features[0])]*(self.maxlength  - n)+list(features[:])\n",
    "          target = [-1]*(self.maxlength - n) + list(ori_target[:])\n",
    "          shifted_target = [-1]*(self.maxlength + 1 - n) + list(ori_target[:-1])\n",
    "\n",
    "        new_features = []\n",
    "        count = 0\n",
    "        for f in features:\n",
    "          temp = list(f)\n",
    "          temp.extend(term_encode)\n",
    "          # temp.append(shifted_target[count]) #uncomment this line for include previous response feature\n",
    "          new_features.append(temp)\n",
    "          count += 1\n",
    "        features = new_features\n",
    "        return ch_label,sub_ch_label,ques_name,target"
   ]
  },
  {
   "cell_type": "code",
   "execution_count": 27,
   "metadata": {
    "execution": {
     "iopub.execute_input": "2021-07-26T22:42:02.228074Z",
     "iopub.status.busy": "2021-07-26T22:42:02.227608Z",
     "iopub.status.idle": "2021-07-26T22:42:02.235842Z",
     "shell.execute_reply": "2021-07-26T22:42:02.234456Z",
     "shell.execute_reply.started": "2021-07-26T22:42:02.228025Z"
    }
   },
   "outputs": [
    {
     "data": {
      "text/plain": [
       "223"
      ]
     },
     "execution_count": 27,
     "metadata": {},
     "output_type": "execute_result"
    }
   ],
   "source": [
    "SUB_CHAPTER_SIZE"
   ]
  },
  {
   "cell_type": "code",
   "execution_count": 28,
   "metadata": {
    "execution": {
     "iopub.execute_input": "2021-07-26T22:42:02.238747Z",
     "iopub.status.busy": "2021-07-26T22:42:02.238267Z",
     "iopub.status.idle": "2021-07-26T22:49:37.315131Z",
     "shell.execute_reply": "2021-07-26T22:49:37.314130Z",
     "shell.execute_reply.started": "2021-07-26T22:42:02.238696Z"
    },
    "id": "gzJrljnjzypP",
    "outputId": "87abe488-b493-4f8f-9d71-45cb1d2ddf51"
   },
   "outputs": [
    {
     "name": "stdout",
     "output_type": "stream",
     "text": [
      "Epoch 1/100\n",
      "14/14 [==============================] - 13s 471ms/step - loss: 0.6036 - masked_acc: 0.6041 - masked_auc: 0.5159 - val_loss: 0.5443 - val_masked_acc: 0.7125 - val_masked_auc: 0.6059\n",
      "Epoch 2/100\n",
      "14/14 [==============================] - 4s 313ms/step - loss: 0.5014 - masked_acc: 0.7159 - masked_auc: 0.6354 - val_loss: 0.4979 - val_masked_acc: 0.7240 - val_masked_auc: 0.6883\n",
      "Epoch 3/100\n",
      "14/14 [==============================] - 4s 312ms/step - loss: 0.4554 - masked_acc: 0.7287 - masked_auc: 0.7039 - val_loss: 0.4818 - val_masked_acc: 0.7378 - val_masked_auc: 0.7285\n",
      "Epoch 4/100\n",
      "14/14 [==============================] - 5s 337ms/step - loss: 0.4573 - masked_acc: 0.7400 - masked_auc: 0.7357 - val_loss: 0.4799 - val_masked_acc: 0.7461 - val_masked_auc: 0.7492\n",
      "Epoch 5/100\n",
      "14/14 [==============================] - 4s 307ms/step - loss: 0.4423 - masked_acc: 0.7479 - masked_auc: 0.7540 - val_loss: 0.4740 - val_masked_acc: 0.7517 - val_masked_auc: 0.7623\n",
      "Epoch 6/100\n",
      "14/14 [==============================] - 4s 310ms/step - loss: 0.4323 - masked_acc: 0.7532 - masked_auc: 0.7659 - val_loss: 0.4726 - val_masked_acc: 0.7560 - val_masked_auc: 0.7718\n",
      "Epoch 7/100\n",
      "14/14 [==============================] - 4s 312ms/step - loss: 0.4290 - masked_acc: 0.7569 - masked_auc: 0.7745 - val_loss: 0.4688 - val_masked_acc: 0.7592 - val_masked_auc: 0.7792\n",
      "Epoch 8/100\n",
      "14/14 [==============================] - 4s 302ms/step - loss: 0.4321 - masked_acc: 0.7600 - masked_auc: 0.7811 - val_loss: 0.4755 - val_masked_acc: 0.7620 - val_masked_auc: 0.7850\n",
      "Epoch 9/100\n",
      "14/14 [==============================] - 4s 314ms/step - loss: 0.4250 - masked_acc: 0.7626 - masked_auc: 0.7867 - val_loss: 0.4757 - val_masked_acc: 0.7644 - val_masked_auc: 0.7903\n",
      "Epoch 10/100\n",
      "14/14 [==============================] - 4s 304ms/step - loss: 0.4244 - masked_acc: 0.7650 - masked_auc: 0.7917 - val_loss: 0.4711 - val_masked_acc: 0.7666 - val_masked_auc: 0.7949\n",
      "Epoch 11/100\n",
      "14/14 [==============================] - 4s 313ms/step - loss: 0.4181 - masked_acc: 0.7672 - masked_auc: 0.7963 - val_loss: 0.4785 - val_masked_acc: 0.7684 - val_masked_auc: 0.7985\n",
      "Epoch 12/100\n",
      "14/14 [==============================] - 4s 315ms/step - loss: 0.4058 - masked_acc: 0.7690 - masked_auc: 0.7997 - val_loss: 0.4760 - val_masked_acc: 0.7701 - val_masked_auc: 0.8019\n",
      "Epoch 13/100\n",
      "14/14 [==============================] - 4s 301ms/step - loss: 0.4080 - masked_acc: 0.7706 - masked_auc: 0.8030 - val_loss: 0.4793 - val_masked_acc: 0.7717 - val_masked_auc: 0.8051\n",
      "Epoch 14/100\n",
      "14/14 [==============================] - 4s 310ms/step - loss: 0.4034 - masked_acc: 0.7721 - masked_auc: 0.8061 - val_loss: 0.4789 - val_masked_acc: 0.7731 - val_masked_auc: 0.8079\n",
      "Epoch 15/100\n",
      "14/14 [==============================] - 4s 306ms/step - loss: 0.4117 - masked_acc: 0.7734 - masked_auc: 0.8085 - val_loss: 0.4783 - val_masked_acc: 0.7741 - val_masked_auc: 0.8099\n",
      "Epoch 16/100\n",
      "14/14 [==============================] - 4s 310ms/step - loss: 0.4020 - masked_acc: 0.7745 - masked_auc: 0.8107 - val_loss: 0.4797 - val_masked_acc: 0.7754 - val_masked_auc: 0.8122\n",
      "Epoch 17/100\n",
      "14/14 [==============================] - 4s 312ms/step - loss: 0.3915 - masked_acc: 0.7758 - masked_auc: 0.8132 - val_loss: 0.4878 - val_masked_acc: 0.7765 - val_masked_auc: 0.8145\n",
      "28/28 [==============================] - 2s 55ms/step - loss: 0.3889 - masked_acc: 0.7775 - masked_auc: 0.8161\n",
      "4/4 [==============================] - 0s 50ms/step - loss: 0.4335 - masked_acc: 0.7778 - masked_auc: 0.8171\n",
      "Test:  [0.43345266580581665, 0.777829647064209, 0.8170721530914307]\n",
      "Epoch 1/100\n",
      "14/14 [==============================] - 12s 461ms/step - loss: 0.6120 - masked_acc: 0.6196 - masked_auc: 0.5103 - val_loss: 0.5200 - val_masked_acc: 0.7151 - val_masked_auc: 0.5968\n",
      "Epoch 2/100\n",
      "14/14 [==============================] - 4s 317ms/step - loss: 0.5155 - masked_acc: 0.7160 - masked_auc: 0.6278 - val_loss: 0.4865 - val_masked_acc: 0.7234 - val_masked_auc: 0.6801\n",
      "Epoch 3/100\n",
      "14/14 [==============================] - 4s 314ms/step - loss: 0.4716 - masked_acc: 0.7237 - masked_auc: 0.6958 - val_loss: 0.4681 - val_masked_acc: 0.7307 - val_masked_auc: 0.7219\n",
      "Epoch 4/100\n",
      "14/14 [==============================] - 4s 316ms/step - loss: 0.4618 - masked_acc: 0.7337 - masked_auc: 0.7295 - val_loss: 0.4645 - val_masked_acc: 0.7406 - val_masked_auc: 0.7437\n",
      "Epoch 5/100\n",
      "14/14 [==============================] - 4s 314ms/step - loss: 0.4500 - masked_acc: 0.7428 - masked_auc: 0.7489 - val_loss: 0.4594 - val_masked_acc: 0.7472 - val_masked_auc: 0.7577\n",
      "Epoch 6/100\n",
      "14/14 [==============================] - 5s 324ms/step - loss: 0.4336 - masked_acc: 0.7488 - masked_auc: 0.7616 - val_loss: 0.4612 - val_masked_acc: 0.7520 - val_masked_auc: 0.7680\n",
      "Epoch 7/100\n",
      "14/14 [==============================] - 5s 319ms/step - loss: 0.4340 - masked_acc: 0.7532 - masked_auc: 0.7708 - val_loss: 0.4572 - val_masked_acc: 0.7557 - val_masked_auc: 0.7758\n",
      "Epoch 8/100\n",
      "14/14 [==============================] - 4s 305ms/step - loss: 0.4382 - masked_acc: 0.7565 - masked_auc: 0.7782 - val_loss: 0.4576 - val_masked_acc: 0.7590 - val_masked_auc: 0.7823\n",
      "Epoch 9/100\n",
      "14/14 [==============================] - 4s 309ms/step - loss: 0.4211 - masked_acc: 0.7599 - masked_auc: 0.7842 - val_loss: 0.4581 - val_masked_acc: 0.7617 - val_masked_auc: 0.7879\n",
      "Epoch 10/100\n",
      "14/14 [==============================] - 4s 311ms/step - loss: 0.4141 - masked_acc: 0.7626 - masked_auc: 0.7897 - val_loss: 0.4604 - val_masked_acc: 0.7641 - val_masked_auc: 0.7929\n",
      "Epoch 11/100\n",
      "14/14 [==============================] - 4s 309ms/step - loss: 0.4164 - masked_acc: 0.7647 - masked_auc: 0.7943 - val_loss: 0.4623 - val_masked_acc: 0.7662 - val_masked_auc: 0.7972\n",
      "Epoch 12/100\n",
      "14/14 [==============================] - 4s 308ms/step - loss: 0.4084 - masked_acc: 0.7668 - masked_auc: 0.7986 - val_loss: 0.4654 - val_masked_acc: 0.7682 - val_masked_auc: 0.8012\n",
      "Epoch 13/100\n",
      "14/14 [==============================] - 4s 302ms/step - loss: 0.4065 - masked_acc: 0.7688 - masked_auc: 0.8024 - val_loss: 0.4688 - val_masked_acc: 0.7701 - val_masked_auc: 0.8049\n",
      "Epoch 14/100\n",
      "14/14 [==============================] - 5s 326ms/step - loss: 0.4100 - masked_acc: 0.7705 - masked_auc: 0.8060 - val_loss: 0.4665 - val_masked_acc: 0.7719 - val_masked_auc: 0.8082\n",
      "Epoch 15/100\n",
      "14/14 [==============================] - 4s 312ms/step - loss: 0.3912 - masked_acc: 0.7724 - masked_auc: 0.8094 - val_loss: 0.4776 - val_masked_acc: 0.7735 - val_masked_auc: 0.8114\n",
      "Epoch 16/100\n",
      "14/14 [==============================] - 4s 308ms/step - loss: 0.3874 - masked_acc: 0.7740 - masked_auc: 0.8124 - val_loss: 0.4812 - val_masked_acc: 0.7751 - val_masked_auc: 0.8144\n",
      "Epoch 17/100\n",
      "14/14 [==============================] - 4s 304ms/step - loss: 0.3864 - masked_acc: 0.7756 - masked_auc: 0.8155 - val_loss: 0.4890 - val_masked_acc: 0.7768 - val_masked_auc: 0.8174\n",
      "28/28 [==============================] - 2s 57ms/step - loss: 0.3730 - masked_acc: 0.7781 - masked_auc: 0.8194\n",
      "4/4 [==============================] - 0s 50ms/step - loss: 0.4606 - masked_acc: 0.7787 - masked_auc: 0.8207\n",
      "Test:  [0.46057644486427307, 0.7786558866500854, 0.8206533789634705]\n",
      "Epoch 1/100\n",
      "14/14 [==============================] - 12s 440ms/step - loss: 0.6086 - masked_acc: 0.6015 - masked_auc: 0.5101 - val_loss: 0.5343 - val_masked_acc: 0.7115 - val_masked_auc: 0.6049\n",
      "Epoch 2/100\n",
      "14/14 [==============================] - 5s 324ms/step - loss: 0.5044 - masked_acc: 0.7151 - masked_auc: 0.6339 - val_loss: 0.4931 - val_masked_acc: 0.7250 - val_masked_auc: 0.6886\n",
      "Epoch 3/100\n",
      "14/14 [==============================] - 4s 309ms/step - loss: 0.4643 - masked_acc: 0.7297 - masked_auc: 0.7030 - val_loss: 0.4770 - val_masked_acc: 0.7394 - val_masked_auc: 0.7305\n",
      "Epoch 4/100\n",
      "14/14 [==============================] - 4s 308ms/step - loss: 0.4483 - masked_acc: 0.7420 - masked_auc: 0.7380 - val_loss: 0.4788 - val_masked_acc: 0.7479 - val_masked_auc: 0.7518\n",
      "Epoch 5/100\n",
      "14/14 [==============================] - 4s 317ms/step - loss: 0.4375 - masked_acc: 0.7498 - masked_auc: 0.7567 - val_loss: 0.4719 - val_masked_acc: 0.7537 - val_masked_auc: 0.7650\n",
      "Epoch 6/100\n",
      "14/14 [==============================] - 4s 313ms/step - loss: 0.4376 - masked_acc: 0.7548 - masked_auc: 0.7681 - val_loss: 0.4696 - val_masked_acc: 0.7579 - val_masked_auc: 0.7747\n",
      "Epoch 7/100\n",
      "14/14 [==============================] - 4s 318ms/step - loss: 0.4301 - masked_acc: 0.7588 - masked_auc: 0.7773 - val_loss: 0.4715 - val_masked_acc: 0.7609 - val_masked_auc: 0.7820\n",
      "Epoch 8/100\n",
      "14/14 [==============================] - 4s 308ms/step - loss: 0.4309 - masked_acc: 0.7616 - masked_auc: 0.7839 - val_loss: 0.4675 - val_masked_acc: 0.7637 - val_masked_auc: 0.7882\n",
      "Epoch 9/100\n",
      "14/14 [==============================] - 5s 331ms/step - loss: 0.4278 - masked_acc: 0.7642 - masked_auc: 0.7898 - val_loss: 0.4691 - val_masked_acc: 0.7661 - val_masked_auc: 0.7937\n",
      "Epoch 10/100\n",
      "14/14 [==============================] - 4s 315ms/step - loss: 0.4165 - masked_acc: 0.7666 - masked_auc: 0.7952 - val_loss: 0.4683 - val_masked_acc: 0.7681 - val_masked_auc: 0.7982\n",
      "Epoch 11/100\n",
      "14/14 [==============================] - 4s 303ms/step - loss: 0.4101 - masked_acc: 0.7687 - masked_auc: 0.7995 - val_loss: 0.4752 - val_masked_acc: 0.7700 - val_masked_auc: 0.8022\n",
      "Epoch 12/100\n",
      "14/14 [==============================] - 4s 316ms/step - loss: 0.4070 - masked_acc: 0.7705 - masked_auc: 0.8034 - val_loss: 0.4767 - val_masked_acc: 0.7717 - val_masked_auc: 0.8058\n",
      "Epoch 13/100\n",
      "14/14 [==============================] - 4s 318ms/step - loss: 0.3960 - masked_acc: 0.7723 - masked_auc: 0.8069 - val_loss: 0.4737 - val_masked_acc: 0.7733 - val_masked_auc: 0.8092\n",
      "Epoch 14/100\n",
      "14/14 [==============================] - 4s 313ms/step - loss: 0.3983 - masked_acc: 0.7738 - masked_auc: 0.8102 - val_loss: 0.4849 - val_masked_acc: 0.7749 - val_masked_auc: 0.8123\n",
      "Epoch 15/100\n",
      "14/14 [==============================] - 4s 314ms/step - loss: 0.3927 - masked_acc: 0.7754 - masked_auc: 0.8134 - val_loss: 0.4799 - val_masked_acc: 0.7765 - val_masked_auc: 0.8153\n",
      "Epoch 16/100\n",
      "14/14 [==============================] - 5s 331ms/step - loss: 0.3832 - masked_acc: 0.7769 - masked_auc: 0.8162 - val_loss: 0.4956 - val_masked_acc: 0.7777 - val_masked_auc: 0.8178\n",
      "Epoch 17/100\n",
      "14/14 [==============================] - 4s 317ms/step - loss: 0.3903 - masked_acc: 0.7781 - masked_auc: 0.8186 - val_loss: 0.4856 - val_masked_acc: 0.7789 - val_masked_auc: 0.8201\n",
      "Epoch 18/100\n",
      "14/14 [==============================] - 4s 309ms/step - loss: 0.3905 - masked_acc: 0.7792 - masked_auc: 0.8207 - val_loss: 0.4771 - val_masked_acc: 0.7799 - val_masked_auc: 0.8219\n",
      "28/28 [==============================] - 2s 57ms/step - loss: 0.3838 - masked_acc: 0.7809 - masked_auc: 0.8233\n",
      "4/4 [==============================] - 0s 52ms/step - loss: 0.4642 - masked_acc: 0.7811 - masked_auc: 0.8241\n",
      "Test:  [0.46419093012809753, 0.7811360955238342, 0.8241027593612671]\n",
      "Epoch 1/100\n",
      "14/14 [==============================] - 13s 452ms/step - loss: 0.6057 - masked_acc: 0.6477 - masked_auc: 0.5169 - val_loss: 0.5221 - val_masked_acc: 0.7187 - val_masked_auc: 0.6050\n",
      "Epoch 2/100\n",
      "14/14 [==============================] - 5s 385ms/step - loss: 0.4992 - masked_acc: 0.7218 - masked_auc: 0.6339 - val_loss: 0.4831 - val_masked_acc: 0.7291 - val_masked_auc: 0.6884\n",
      "Epoch 3/100\n",
      "14/14 [==============================] - 5s 327ms/step - loss: 0.4645 - masked_acc: 0.7327 - masked_auc: 0.7030 - val_loss: 0.4631 - val_masked_acc: 0.7413 - val_masked_auc: 0.7295\n",
      "Epoch 4/100\n",
      "14/14 [==============================] - 4s 322ms/step - loss: 0.4538 - masked_acc: 0.7434 - masked_auc: 0.7373 - val_loss: 0.4616 - val_masked_acc: 0.7491 - val_masked_auc: 0.7508\n",
      "Epoch 5/100\n",
      "14/14 [==============================] - 4s 318ms/step - loss: 0.4432 - masked_acc: 0.7507 - masked_auc: 0.7554 - val_loss: 0.4585 - val_masked_acc: 0.7545 - val_masked_auc: 0.7642\n",
      "Epoch 6/100\n",
      "14/14 [==============================] - 4s 318ms/step - loss: 0.4418 - masked_acc: 0.7556 - masked_auc: 0.7675 - val_loss: 0.4562 - val_masked_acc: 0.7582 - val_masked_auc: 0.7733\n",
      "Epoch 7/100\n",
      "14/14 [==============================] - 5s 324ms/step - loss: 0.4375 - masked_acc: 0.7589 - masked_auc: 0.7756 - val_loss: 0.4570 - val_masked_acc: 0.7612 - val_masked_auc: 0.7805\n",
      "Epoch 8/100\n",
      "14/14 [==============================] - 5s 326ms/step - loss: 0.4255 - masked_acc: 0.7620 - masked_auc: 0.7825 - val_loss: 0.4627 - val_masked_acc: 0.7638 - val_masked_auc: 0.7869\n",
      "Epoch 9/100\n",
      "14/14 [==============================] - 5s 331ms/step - loss: 0.4182 - masked_acc: 0.7645 - masked_auc: 0.7889 - val_loss: 0.4530 - val_masked_acc: 0.7662 - val_masked_auc: 0.7924\n",
      "Epoch 10/100\n",
      "14/14 [==============================] - 5s 340ms/step - loss: 0.4155 - masked_acc: 0.7668 - masked_auc: 0.7939 - val_loss: 0.4647 - val_masked_acc: 0.7683 - val_masked_auc: 0.7971\n",
      "Epoch 11/100\n",
      "14/14 [==============================] - 5s 337ms/step - loss: 0.4107 - masked_acc: 0.7689 - masked_auc: 0.7986 - val_loss: 0.4664 - val_masked_acc: 0.7702 - val_masked_auc: 0.8012\n",
      "Epoch 12/100\n",
      "14/14 [==============================] - 5s 335ms/step - loss: 0.4070 - masked_acc: 0.7707 - masked_auc: 0.8025 - val_loss: 0.4644 - val_masked_acc: 0.7720 - val_masked_auc: 0.8050\n",
      "Epoch 13/100\n",
      "14/14 [==============================] - 5s 326ms/step - loss: 0.4068 - masked_acc: 0.7725 - masked_auc: 0.8061 - val_loss: 0.4744 - val_masked_acc: 0.7736 - val_masked_auc: 0.8083\n",
      "Epoch 14/100\n",
      "14/14 [==============================] - 4s 320ms/step - loss: 0.4031 - masked_acc: 0.7740 - masked_auc: 0.8094 - val_loss: 0.4862 - val_masked_acc: 0.7752 - val_masked_auc: 0.8115\n",
      "Epoch 15/100\n",
      "14/14 [==============================] - 5s 323ms/step - loss: 0.3928 - masked_acc: 0.7757 - masked_auc: 0.8126 - val_loss: 0.4918 - val_masked_acc: 0.7767 - val_masked_auc: 0.8144\n",
      "Epoch 16/100\n",
      "14/14 [==============================] - 5s 330ms/step - loss: 0.3994 - masked_acc: 0.7770 - masked_auc: 0.8152 - val_loss: 0.4708 - val_masked_acc: 0.7778 - val_masked_auc: 0.8165\n",
      "Epoch 17/100\n",
      "14/14 [==============================] - 5s 373ms/step - loss: 0.4089 - masked_acc: 0.7780 - masked_auc: 0.8171 - val_loss: 0.4743 - val_masked_acc: 0.7787 - val_masked_auc: 0.8182\n",
      "Epoch 18/100\n",
      "14/14 [==============================] - 5s 330ms/step - loss: 0.3909 - masked_acc: 0.7790 - masked_auc: 0.8190 - val_loss: 0.4810 - val_masked_acc: 0.7797 - val_masked_auc: 0.8203\n",
      "Epoch 19/100\n",
      "14/14 [==============================] - 5s 324ms/step - loss: 0.3875 - masked_acc: 0.7800 - masked_auc: 0.8210 - val_loss: 0.5231 - val_masked_acc: 0.7808 - val_masked_auc: 0.8222\n",
      "28/28 [==============================] - 2s 57ms/step - loss: 0.3776 - masked_acc: 0.7817 - masked_auc: 0.8237\n",
      "4/4 [==============================] - 0s 53ms/step - loss: 0.4651 - masked_acc: 0.7820 - masked_auc: 0.8246\n",
      "Test:  [0.46506267786026, 0.7820438742637634, 0.8245925307273865]\n",
      "Epoch 1/100\n",
      "14/14 [==============================] - 12s 449ms/step - loss: 0.6093 - masked_acc: 0.6780 - masked_auc: 0.5191 - val_loss: 0.5322 - val_masked_acc: 0.7252 - val_masked_auc: 0.6010\n",
      "Epoch 2/100\n",
      "14/14 [==============================] - 5s 344ms/step - loss: 0.5003 - masked_acc: 0.7279 - masked_auc: 0.6293 - val_loss: 0.4926 - val_masked_acc: 0.7308 - val_masked_auc: 0.6804\n",
      "Epoch 3/100\n",
      "14/14 [==============================] - 5s 328ms/step - loss: 0.4733 - masked_acc: 0.7336 - masked_auc: 0.6950 - val_loss: 0.4694 - val_masked_acc: 0.7413 - val_masked_auc: 0.7222\n",
      "Epoch 4/100\n",
      "14/14 [==============================] - 5s 325ms/step - loss: 0.4525 - masked_acc: 0.7436 - masked_auc: 0.7299 - val_loss: 0.4660 - val_masked_acc: 0.7488 - val_masked_auc: 0.7445\n",
      "Epoch 5/100\n",
      "14/14 [==============================] - 4s 321ms/step - loss: 0.4515 - masked_acc: 0.7501 - masked_auc: 0.7492 - val_loss: 0.4673 - val_masked_acc: 0.7538 - val_masked_auc: 0.7582\n",
      "Epoch 6/100\n",
      "14/14 [==============================] - 4s 318ms/step - loss: 0.4450 - masked_acc: 0.7548 - masked_auc: 0.7615 - val_loss: 0.4613 - val_masked_acc: 0.7575 - val_masked_auc: 0.7680\n",
      "Epoch 7/100\n",
      "14/14 [==============================] - 4s 320ms/step - loss: 0.4314 - masked_acc: 0.7584 - masked_auc: 0.7708 - val_loss: 0.4612 - val_masked_acc: 0.7605 - val_masked_auc: 0.7761\n",
      "Epoch 8/100\n",
      "14/14 [==============================] - 5s 323ms/step - loss: 0.4352 - masked_acc: 0.7610 - masked_auc: 0.7782 - val_loss: 0.4632 - val_masked_acc: 0.7629 - val_masked_auc: 0.7826\n",
      "Epoch 9/100\n",
      "14/14 [==============================] - 5s 338ms/step - loss: 0.4204 - masked_acc: 0.7636 - masked_auc: 0.7844 - val_loss: 0.4624 - val_masked_acc: 0.7650 - val_masked_auc: 0.7880\n",
      "Epoch 10/100\n",
      "14/14 [==============================] - 4s 321ms/step - loss: 0.4206 - masked_acc: 0.7656 - masked_auc: 0.7895 - val_loss: 0.4672 - val_masked_acc: 0.7670 - val_masked_auc: 0.7928\n",
      "Epoch 11/100\n",
      "14/14 [==============================] - 4s 316ms/step - loss: 0.4149 - masked_acc: 0.7676 - masked_auc: 0.7943 - val_loss: 0.4696 - val_masked_acc: 0.7689 - val_masked_auc: 0.7972\n",
      "Epoch 12/100\n",
      "14/14 [==============================] - 4s 317ms/step - loss: 0.4080 - masked_acc: 0.7695 - masked_auc: 0.7985 - val_loss: 0.4654 - val_masked_acc: 0.7706 - val_masked_auc: 0.8011\n",
      "Epoch 13/100\n",
      "14/14 [==============================] - 4s 320ms/step - loss: 0.4080 - masked_acc: 0.7710 - masked_auc: 0.8022 - val_loss: 0.4694 - val_masked_acc: 0.7722 - val_masked_auc: 0.8047\n",
      "Epoch 14/100\n",
      "14/14 [==============================] - 4s 321ms/step - loss: 0.3968 - masked_acc: 0.7726 - masked_auc: 0.8059 - val_loss: 0.4720 - val_masked_acc: 0.7738 - val_masked_auc: 0.8081\n",
      "Epoch 15/100\n",
      "14/14 [==============================] - 4s 314ms/step - loss: 0.3948 - masked_acc: 0.7742 - masked_auc: 0.8092 - val_loss: 0.4715 - val_masked_acc: 0.7753 - val_masked_auc: 0.8113\n",
      "Epoch 16/100\n",
      "14/14 [==============================] - 5s 343ms/step - loss: 0.3905 - masked_acc: 0.7757 - masked_auc: 0.8123 - val_loss: 0.4780 - val_masked_acc: 0.7767 - val_masked_auc: 0.8142\n",
      "Epoch 17/100\n",
      "14/14 [==============================] - 4s 316ms/step - loss: 0.3875 - masked_acc: 0.7771 - masked_auc: 0.8152 - val_loss: 0.4831 - val_masked_acc: 0.7780 - val_masked_auc: 0.8169\n",
      "28/28 [==============================] - 2s 56ms/step - loss: 0.3815 - masked_acc: 0.7790 - masked_auc: 0.8186\n",
      "4/4 [==============================] - 0s 52ms/step - loss: 0.4475 - masked_acc: 0.7795 - masked_auc: 0.8197\n",
      "Test:  [0.44750699400901794, 0.7794535756111145, 0.8197108507156372]\n"
     ]
    }
   ],
   "source": [
    "# 5 fold cross validation\n",
    "#HERE WE ONLY USE\n",
    "#CHAPTER, SUB_CHAPTER\n",
    "#QUESTION\n",
    "X = np.array(grouped_data.keys())\n",
    "kfold = KFold(n_splits=5, shuffle=True)\n",
    "train_losses = list()\n",
    "train_aucs = list()\n",
    "val_losses = list()\n",
    "val_aucs = list()\n",
    "train_eval = list()\n",
    "test_eval = list()\n",
    "for train, test in kfold.split(X):\n",
    "    users_train, users_test =  X[train], X[test]\n",
    "    n = len(users_test)//2\n",
    "    users_test, users_val = users_test[:n], users_test[n: ]\n",
    "    train_data_space = SPACE_DATASET(grouped_data[users_train], MAXLENGTH)\n",
    "    val_data_space = SPACE_DATASET(grouped_data[users_val], MAXLENGTH)\n",
    "    test_data_space = SPACE_DATASET(grouped_data[users_test], MAXLENGTH)\n",
    "    #construct training input\n",
    "    train_chapter=[]\n",
    "    train_sub_chapter=[]\n",
    "    train_question = []\n",
    "    train_features=[]\n",
    "    train_labels=[]\n",
    "    for i in range(len(users_train)):\n",
    "        user = train_data_space.__getitem__(i)\n",
    "        train_chapter.append(user[0])\n",
    "        train_sub_chapter.append(user[1]) \n",
    "        train_question.append(user[2])\n",
    "        #train_features.append(user[3])\n",
    "        train_labels.append(user[3])\n",
    "    train_chapter = np.array(train_chapter)\n",
    "    train_sub_chapter = np.array(train_sub_chapter)\n",
    "    train_question = np.array(train_question)\n",
    "    #train_features = np.array(train_features)\n",
    "    train_labels= np.array(train_labels)[..., np.newaxis]\n",
    "\n",
    "    #construct validation input\n",
    "    val_chapter=[]\n",
    "    val_sub_chapter=[]\n",
    "    val_question = []\n",
    "    #val_features=[]\n",
    "    val_labels=[]\n",
    "    for i in range(len(users_val)):\n",
    "        user = val_data_space.__getitem__(i)\n",
    "        val_chapter.append(user[0])\n",
    "        val_sub_chapter.append(user[1]) \n",
    "        val_question.append(user[2])\n",
    "        #val_features.append(user[3])\n",
    "        val_labels.append(user[3])\n",
    "    val_chapter = np.array(val_chapter)\n",
    "    val_sub_chapter = np.array(val_sub_chapter)\n",
    "    #val_features = np.array(val_features)\n",
    "    val_question = np.array(val_question)\n",
    "    val_labels= np.array(val_labels)[..., np.newaxis]\n",
    "\n",
    "    # construct test input\n",
    "    test_chapter=[]\n",
    "    test_sub_chapter=[]\n",
    "    #test_features=[]\n",
    "    test_question=[]\n",
    "    test_labels=[]\n",
    "    for i in range(len(users_test)):\n",
    "        user = test_data_space.__getitem__(i)\n",
    "        test_chapter.append(user[0])\n",
    "        test_sub_chapter.append(user[1]) \n",
    "        test_question.append(user[2])\n",
    "        #test_features.append(user[3])\n",
    "        test_labels.append(user[3])\n",
    "    test_chapter = np.array(test_chapter)\n",
    "    test_sub_chapter = np.array(test_sub_chapter)\n",
    "    #test_features = np.array(test_features)\n",
    "    test_question = np.array(test_question)\n",
    "    test_labels= np.array(test_labels)[..., np.newaxis]\n",
    "\n",
    "    # define loss function and evaluation metrics\n",
    "    bce = tf.keras.losses.BinaryCrossentropy(from_logits=True)\n",
    "    acc = tf.keras.metrics.Accuracy()\n",
    "    auc = tf.keras.metrics.AUC()\n",
    "\n",
    "    def masked_bce(y_true, y_pred):\n",
    "      flat_pred = y_pred\n",
    "      flat_ground_truth = y_true\n",
    "      label_mask = tf.math.not_equal(flat_ground_truth, -1)\n",
    "      return bce(flat_ground_truth, flat_pred, sample_weight=label_mask)\n",
    "\n",
    "    def masked_acc(y_true, y_pred):\n",
    "      flat_pred = y_pred\n",
    "      flat_ground_truth = y_true\n",
    "      flat_pred = (flat_pred >= 0.5)\n",
    "      label_mask = tf.math.not_equal(flat_ground_truth, -1)\n",
    "      return acc(flat_ground_truth, flat_pred, sample_weight=label_mask)\n",
    "\n",
    "    def masked_auc(y_true, y_pred):\n",
    "      flat_pred = y_pred\n",
    "      flat_ground_truth = y_true\n",
    "      label_mask = tf.math.not_equal(flat_ground_truth, -1)\n",
    "      return auc(flat_ground_truth, flat_pred, sample_weight=label_mask)\n",
    "\n",
    "    # input layer\n",
    "    input_chap = tf.keras.Input(shape=(MAXLENGTH))\n",
    "    input_sub_chap = tf.keras.Input(shape=(MAXLENGTH))\n",
    "    input_ques =  tf.keras.Input(shape=(MAXLENGTH))\n",
    "    #input_features = tf.keras.Input(shape=(MAXLENGTH, FEATURES_SIZE))\n",
    "\n",
    "    # embedding layer for categorical features\n",
    "    embedding_chap = Embedding(input_dim = CHAPTER_SIZE, output_dim = EMBEDDING_DIM)(input_chap)\n",
    "    embedding_sub_chap = Embedding(input_dim = SUB_CHAPTER_SIZE, output_dim = EMBEDDING_DIM)(input_sub_chap) \n",
    "    embedding_ques = Embedding(input_dim = QUESTION_SIZE, output_dim = EMBEDDING_DIM)(input_ques)       \n",
    "\n",
    "    # dense layer for numeric features\n",
    "    #dense_features = Dense(EMBEDDING_DIM,input_shape = (None, MAXLENGTH))(input_features)\n",
    "\n",
    "    # definr lstm layers\n",
    "    lstm_chap = LSTM(LSTM_NEURON, input_shape = (None, EMBEDDING_DIM),return_sequences = True)(embedding_chap)\n",
    "    lstm_sub_chap = LSTM(LSTM_NEURON, input_shape = (None, EMBEDDING_DIM),return_sequences = True)(embedding_sub_chap)\n",
    "    lstm_ques = LSTM(LSTM_NEURON, input_shape = (None, EMBEDDING_DIM),return_sequences = True)(embedding_ques)\n",
    "    #lstm_features = LSTM(LSTM_NEURON, input_shape = (None, EMBEDDING_DIM),return_sequences = True)(dense_features)\n",
    "\n",
    "    lstm_output = tf.concat([lstm_chap, lstm_sub_chap, lstm_ques], axis = 2)\n",
    "\n",
    "    dense1 = Dense(256, input_shape = (None, 3*EMBEDDING_DIM), activation='relu')(lstm_output)\n",
    "    dropout1 = Dropout(0.1)(dense1)\n",
    "    dense2 = Dense(64, input_shape = (None, 256), activation='relu')(dropout1)\n",
    "    dropout2 = Dropout(0.1)(dense2)\n",
    "    pred = Dense(1, input_shape = (None, 64), activation='sigmoid')(dropout2)\n",
    "\n",
    "    model = tf.keras.Model(\n",
    "        inputs=[input_chap, input_sub_chap,input_ques],\n",
    "        outputs=pred,\n",
    "        name='lstm_model'\n",
    "    )\n",
    "\n",
    "    callback = tf.keras.callbacks.EarlyStopping(monitor='val_loss', patience=10)\n",
    "    opt_adam = Adam(learning_rate = 0.005)\n",
    "    model.compile(\n",
    "        optimizer=opt_adam,\n",
    "        loss= masked_bce,\n",
    "        metrics = [masked_acc, masked_auc]\n",
    "    )\n",
    "\n",
    "    history = model.fit(\n",
    "      [train_chapter, train_sub_chapter, train_question],\n",
    "      train_labels,\n",
    "      batch_size = 64,\n",
    "      epochs = 100,\n",
    "      validation_data=([val_chapter, val_sub_chapter, val_question], val_labels),\n",
    "      callbacks=[callback]\n",
    "    )\n",
    "    val_losses.append(list(history.history['val_loss']))\n",
    "    train_losses.append(list(history.history['loss']))\n",
    "    val_aucs.append(list(history.history['val_masked_auc']))\n",
    "    train_aucs.append(list(history.history['masked_auc']))\n",
    "    train_score = model.evaluate([train_chapter, train_sub_chapter, train_question], train_labels)\n",
    "    train_eval.append(train_score)\n",
    "    test_score = model.evaluate([test_chapter, test_sub_chapter, test_question], test_labels)\n",
    "    test_eval.append(test_score)\n",
    "    print(\"Test: \", test_score)\n",
    "    def reset_weights(model):\n",
    "      for layer in model.layers: \n",
    "        if isinstance(layer, tf.keras.Model):\n",
    "          reset_weights(layer)\n",
    "          continue\n",
    "        for k, initializer in layer.__dict__.items():\n",
    "          if \"initializer\" not in k:\n",
    "            continue\n",
    "          # find the corresponding variable\n",
    "          var = getattr(layer, k.replace(\"_initializer\", \"\"))\n",
    "          var.assign(initializer(var.shape, var.dtype))\n",
    "    reset_weights(model)"
   ]
  },
  {
   "cell_type": "code",
   "execution_count": 29,
   "metadata": {
    "execution": {
     "iopub.execute_input": "2021-07-26T22:49:37.317023Z",
     "iopub.status.busy": "2021-07-26T22:49:37.316699Z",
     "iopub.status.idle": "2021-07-26T22:49:37.328122Z",
     "shell.execute_reply": "2021-07-26T22:49:37.326979Z",
     "shell.execute_reply.started": "2021-07-26T22:49:37.316990Z"
    },
    "id": "QsVmumHMz3lx",
    "outputId": "4ff1e2fa-6abb-458e-c729-495b456f53e5"
   },
   "outputs": [
    {
     "name": "stdout",
     "output_type": "stream",
     "text": [
      "test avg loss:  0.45415794253349306 +/- 0.012113751404378668\n",
      "test avg acc:  0.7798238158226013 +/- 0.0015574712131918521\n",
      "test avg auc:  0.8212263345718384 +/- 0.0028102416033713488\n"
     ]
    }
   ],
   "source": [
    "t_eval = np.array(test_eval)\n",
    "print(\"test avg loss: \", np.mean(t_eval[:, 0]), \"+/-\" ,np.std(t_eval[:, 0]))\n",
    "print(\"test avg acc: \", np.mean(t_eval[:, 1]),  \"+/-\" ,np.std(t_eval[:, 1]))\n",
    "print(\"test avg auc: \", np.mean(t_eval[:, 2]), \"+/-\" ,np.std(t_eval[:, 2]))"
   ]
  },
  {
   "cell_type": "code",
   "execution_count": 30,
   "metadata": {
    "execution": {
     "iopub.execute_input": "2021-07-26T22:49:37.330714Z",
     "iopub.status.busy": "2021-07-26T22:49:37.330162Z",
     "iopub.status.idle": "2021-07-26T22:49:37.343175Z",
     "shell.execute_reply": "2021-07-26T22:49:37.341890Z",
     "shell.execute_reply.started": "2021-07-26T22:49:37.330659Z"
    },
    "id": "b9MM_CXWz5K6",
    "outputId": "4cf88e1d-3a74-4e7d-f92c-d01522e91757"
   },
   "outputs": [
    {
     "name": "stdout",
     "output_type": "stream",
     "text": [
      "train avg loss:  0.38099228739738467 +/- 0.005406433288238523\n",
      "train avg acc:  0.7794201731681824 +/- 0.0016120677072602857\n",
      "train avg auc:  0.8202277183532715 +/- 0.002923183236705869\n"
     ]
    }
   ],
   "source": [
    "t_eval = np.array(train_eval)\n",
    "print(\"train avg loss: \", np.mean(t_eval[:, 0]), \"+/-\" ,np.std(t_eval[:, 0]))\n",
    "print(\"train avg acc: \", np.mean(t_eval[:, 1]),  \"+/-\" ,np.std(t_eval[:, 1]))\n",
    "print(\"train avg auc: \", np.mean(t_eval[:, 2]), \"+/-\" ,np.std(t_eval[:, 2]))"
   ]
  }
 ],
 "metadata": {
  "kernelspec": {
   "display_name": "Python 3",
   "language": "python",
   "name": "python3"
  },
  "language_info": {
   "codemirror_mode": {
    "name": "ipython",
    "version": 3
   },
   "file_extension": ".py",
   "mimetype": "text/x-python",
   "name": "python",
   "nbconvert_exporter": "python",
   "pygments_lexer": "ipython3",
   "version": "3.8.5"
  }
 },
 "nbformat": 4,
 "nbformat_minor": 4
}
